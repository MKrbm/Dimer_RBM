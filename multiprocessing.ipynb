{
 "cells": [
  {
   "cell_type": "code",
   "execution_count": 2,
   "id": "sublime-visibility",
   "metadata": {},
   "outputs": [],
   "source": [
    "import multiprocessing as mp\n",
    "from numba import njit\n",
    "import numpy as np\n",
    "import time\n",
    "import concurrent.futures as cf"
   ]
  },
  {
   "cell_type": "code",
   "execution_count": 17,
   "id": "coral-arctic",
   "metadata": {},
   "outputs": [],
   "source": [
    "def square_sum(x,y):\n",
    "    print('start calculation')\n",
    "    time.sleep(1)\n",
    "    print('done sleeping')\n",
    "    return (np.cosh(x)**2 + y ).mean()\n",
    "\n",
    "def run(x,y,queue):\n",
    "    \n",
    "    queue.put(square_sum(x,y))"
   ]
  },
  {
   "cell_type": "code",
   "execution_count": 26,
   "id": "soviet-uncertainty",
   "metadata": {},
   "outputs": [
    {
     "name": "stdout",
     "output_type": "stream",
     "text": [
      "start calculation\n",
      "\n",
      "start calculationstart calculation\n",
      "start calculation\n",
      "start calculation\n",
      "start calculation\n",
      "done sleeping\n",
      "done sleeping\n",
      "done sleeping\n",
      "done sleeping\n",
      "done sleeping\n",
      "done sleeping\n",
      "1.9029126767493438\n",
      "1.9029126767493438\n",
      "1.9029126767493438\n",
      "1.9029126767493438\n",
      "1.9029126767493438\n",
      "1.9029126767493438\n"
     ]
    }
   ],
   "source": [
    "x = np.random.rand(5*10**3)\n",
    "y = np.random.rand(5*10**3)\n",
    "queue = mp.Queue()\n",
    "\n",
    "process = []\n",
    "for i in range(6):\n",
    "    process.append(mp.Process(target=run, args = (x, y, queue)))\n",
    "    process[i].start()\n",
    "    \n",
    "try:\n",
    "    for worker in process:\n",
    "        worker.join()\n",
    "except KeyboardInterrupt:\n",
    "    print('parent received keyboardinterrupt')\n",
    "    for worker in process:\n",
    "        worker.terminate()\n",
    "        worker.join()\n",
    "while not queue.empty():\n",
    "    print(queue.get())"
   ]
  },
  {
   "cell_type": "code",
   "execution_count": 25,
   "id": "bronze-heaven",
   "metadata": {},
   "outputs": [
    {
     "name": "stdout",
     "output_type": "stream",
     "text": [
      "1.9102422589624461\n",
      "1.9102422589624461\n",
      "1.9102422589624461\n",
      "1.9102422589624461\n",
      "1.9102422589624461\n",
      "1.9102422589624461\n"
     ]
    }
   ],
   "source": [
    "while not queue.empty():\n",
    "    print(queue.get())"
   ]
  },
  {
   "cell_type": "code",
   "execution_count": 24,
   "id": "appointed-missouri",
   "metadata": {},
   "outputs": [
    {
     "data": {
      "text/plain": [
       "False"
      ]
     },
     "execution_count": 24,
     "metadata": {},
     "output_type": "execute_result"
    }
   ],
   "source": [
    "queue.empty()"
   ]
  },
  {
   "cell_type": "code",
   "execution_count": 3,
   "id": "exempt-variety",
   "metadata": {},
   "outputs": [],
   "source": [
    "wrapper_func = time_wrapper(f= square_sum)"
   ]
  },
  {
   "cell_type": "code",
   "execution_count": 4,
   "id": "supreme-workplace",
   "metadata": {},
   "outputs": [
    {
     "name": "stdout",
     "output_type": "stream",
     "text": [
      "0.00017142295837402344\n"
     ]
    },
    {
     "data": {
      "text/plain": [
       "1.9163098336184357"
      ]
     },
     "execution_count": 4,
     "metadata": {},
     "output_type": "execute_result"
    }
   ],
   "source": [
    "wrapper_func(np.random.rand(5*10**3), np.random.rand(5*10**3))"
   ]
  },
  {
   "cell_type": "code",
   "execution_count": 8,
   "id": "double-listing",
   "metadata": {
    "collapsed": true
   },
   "outputs": [
    {
     "ename": "TypeError",
     "evalue": "square_sum() missing 1 required positional argument: 'y'",
     "output_type": "error",
     "traceback": [
      "\u001b[0;31m---------------------------------------------------------------------------\u001b[0m",
      "\u001b[0;31m_RemoteTraceback\u001b[0m                          Traceback (most recent call last)",
      "\u001b[0;31m_RemoteTraceback\u001b[0m: \n\"\"\"\nTraceback (most recent call last):\n  File \"/home/keisuke/miniconda3/envs/research/lib/python3.8/concurrent/futures/process.py\", line 239, in _process_worker\n    r = call_item.fn(*call_item.args, **call_item.kwargs)\n  File \"/home/keisuke/miniconda3/envs/research/lib/python3.8/concurrent/futures/process.py\", line 198, in _process_chunk\n    return [fn(*args) for args in chunk]\n  File \"/home/keisuke/miniconda3/envs/research/lib/python3.8/concurrent/futures/process.py\", line 198, in <listcomp>\n    return [fn(*args) for args in chunk]\nTypeError: square_sum() missing 1 required positional argument: 'y'\n\"\"\"",
      "\nThe above exception was the direct cause of the following exception:\n",
      "\u001b[0;31mTypeError\u001b[0m                                 Traceback (most recent call last)",
      "\u001b[0;32m<ipython-input-8-5ada453c0f08>\u001b[0m in \u001b[0;36m<module>\u001b[0;34m\u001b[0m\n\u001b[1;32m     10\u001b[0m \u001b[0;31m#     results = [executor.submit(square_sum, [x, y]) for _ in range(10)]\u001b[0m\u001b[0;34m\u001b[0m\u001b[0;34m\u001b[0m\u001b[0;34m\u001b[0m\u001b[0m\n\u001b[1;32m     11\u001b[0m \u001b[0;34m\u001b[0m\u001b[0m\n\u001b[0;32m---> 12\u001b[0;31m     \u001b[0;32mfor\u001b[0m \u001b[0mf\u001b[0m \u001b[0;32min\u001b[0m \u001b[0mcf\u001b[0m\u001b[0;34m.\u001b[0m\u001b[0mas_completed\u001b[0m\u001b[0;34m(\u001b[0m\u001b[0mresults\u001b[0m\u001b[0;34m)\u001b[0m\u001b[0;34m:\u001b[0m\u001b[0;34m\u001b[0m\u001b[0;34m\u001b[0m\u001b[0m\n\u001b[0m\u001b[1;32m     13\u001b[0m         \u001b[0mprint\u001b[0m\u001b[0;34m(\u001b[0m\u001b[0mf\u001b[0m\u001b[0;34m.\u001b[0m\u001b[0mresult\u001b[0m\u001b[0;34m(\u001b[0m\u001b[0;34m)\u001b[0m\u001b[0;34m)\u001b[0m\u001b[0;34m\u001b[0m\u001b[0;34m\u001b[0m\u001b[0m\n",
      "\u001b[0;32m~/miniconda3/envs/research/lib/python3.8/concurrent/futures/_base.py\u001b[0m in \u001b[0;36mas_completed\u001b[0;34m(fs, timeout)\u001b[0m\n\u001b[1;32m    219\u001b[0m         \u001b[0mend_time\u001b[0m \u001b[0;34m=\u001b[0m \u001b[0mtimeout\u001b[0m \u001b[0;34m+\u001b[0m \u001b[0mtime\u001b[0m\u001b[0;34m.\u001b[0m\u001b[0mmonotonic\u001b[0m\u001b[0;34m(\u001b[0m\u001b[0;34m)\u001b[0m\u001b[0;34m\u001b[0m\u001b[0;34m\u001b[0m\u001b[0m\n\u001b[1;32m    220\u001b[0m \u001b[0;34m\u001b[0m\u001b[0m\n\u001b[0;32m--> 221\u001b[0;31m     \u001b[0mfs\u001b[0m \u001b[0;34m=\u001b[0m \u001b[0mset\u001b[0m\u001b[0;34m(\u001b[0m\u001b[0mfs\u001b[0m\u001b[0;34m)\u001b[0m\u001b[0;34m\u001b[0m\u001b[0;34m\u001b[0m\u001b[0m\n\u001b[0m\u001b[1;32m    222\u001b[0m     \u001b[0mtotal_futures\u001b[0m \u001b[0;34m=\u001b[0m \u001b[0mlen\u001b[0m\u001b[0;34m(\u001b[0m\u001b[0mfs\u001b[0m\u001b[0;34m)\u001b[0m\u001b[0;34m\u001b[0m\u001b[0;34m\u001b[0m\u001b[0m\n\u001b[1;32m    223\u001b[0m     \u001b[0;32mwith\u001b[0m \u001b[0m_AcquireFutures\u001b[0m\u001b[0;34m(\u001b[0m\u001b[0mfs\u001b[0m\u001b[0;34m)\u001b[0m\u001b[0;34m:\u001b[0m\u001b[0;34m\u001b[0m\u001b[0;34m\u001b[0m\u001b[0m\n",
      "\u001b[0;32m~/miniconda3/envs/research/lib/python3.8/concurrent/futures/process.py\u001b[0m in \u001b[0;36m_chain_from_iterable_of_lists\u001b[0;34m(iterable)\u001b[0m\n\u001b[1;32m    482\u001b[0m     \u001b[0mcareful\u001b[0m \u001b[0;32mnot\u001b[0m \u001b[0mto\u001b[0m \u001b[0mkeep\u001b[0m \u001b[0mreferences\u001b[0m \u001b[0mto\u001b[0m \u001b[0myielded\u001b[0m \u001b[0mobjects\u001b[0m\u001b[0;34m.\u001b[0m\u001b[0;34m\u001b[0m\u001b[0;34m\u001b[0m\u001b[0m\n\u001b[1;32m    483\u001b[0m     \"\"\"\n\u001b[0;32m--> 484\u001b[0;31m     \u001b[0;32mfor\u001b[0m \u001b[0melement\u001b[0m \u001b[0;32min\u001b[0m \u001b[0miterable\u001b[0m\u001b[0;34m:\u001b[0m\u001b[0;34m\u001b[0m\u001b[0;34m\u001b[0m\u001b[0m\n\u001b[0m\u001b[1;32m    485\u001b[0m         \u001b[0melement\u001b[0m\u001b[0;34m.\u001b[0m\u001b[0mreverse\u001b[0m\u001b[0;34m(\u001b[0m\u001b[0;34m)\u001b[0m\u001b[0;34m\u001b[0m\u001b[0;34m\u001b[0m\u001b[0m\n\u001b[1;32m    486\u001b[0m         \u001b[0;32mwhile\u001b[0m \u001b[0melement\u001b[0m\u001b[0;34m:\u001b[0m\u001b[0;34m\u001b[0m\u001b[0;34m\u001b[0m\u001b[0m\n",
      "\u001b[0;32m~/miniconda3/envs/research/lib/python3.8/concurrent/futures/_base.py\u001b[0m in \u001b[0;36mresult_iterator\u001b[0;34m()\u001b[0m\n\u001b[1;32m    609\u001b[0m                     \u001b[0;31m# Careful not to keep a reference to the popped future\u001b[0m\u001b[0;34m\u001b[0m\u001b[0;34m\u001b[0m\u001b[0;34m\u001b[0m\u001b[0m\n\u001b[1;32m    610\u001b[0m                     \u001b[0;32mif\u001b[0m \u001b[0mtimeout\u001b[0m \u001b[0;32mis\u001b[0m \u001b[0;32mNone\u001b[0m\u001b[0;34m:\u001b[0m\u001b[0;34m\u001b[0m\u001b[0;34m\u001b[0m\u001b[0m\n\u001b[0;32m--> 611\u001b[0;31m                         \u001b[0;32myield\u001b[0m \u001b[0mfs\u001b[0m\u001b[0;34m.\u001b[0m\u001b[0mpop\u001b[0m\u001b[0;34m(\u001b[0m\u001b[0;34m)\u001b[0m\u001b[0;34m.\u001b[0m\u001b[0mresult\u001b[0m\u001b[0;34m(\u001b[0m\u001b[0;34m)\u001b[0m\u001b[0;34m\u001b[0m\u001b[0;34m\u001b[0m\u001b[0m\n\u001b[0m\u001b[1;32m    612\u001b[0m                     \u001b[0;32melse\u001b[0m\u001b[0;34m:\u001b[0m\u001b[0;34m\u001b[0m\u001b[0;34m\u001b[0m\u001b[0m\n\u001b[1;32m    613\u001b[0m                         \u001b[0;32myield\u001b[0m \u001b[0mfs\u001b[0m\u001b[0;34m.\u001b[0m\u001b[0mpop\u001b[0m\u001b[0;34m(\u001b[0m\u001b[0;34m)\u001b[0m\u001b[0;34m.\u001b[0m\u001b[0mresult\u001b[0m\u001b[0;34m(\u001b[0m\u001b[0mend_time\u001b[0m \u001b[0;34m-\u001b[0m \u001b[0mtime\u001b[0m\u001b[0;34m.\u001b[0m\u001b[0mmonotonic\u001b[0m\u001b[0;34m(\u001b[0m\u001b[0;34m)\u001b[0m\u001b[0;34m)\u001b[0m\u001b[0;34m\u001b[0m\u001b[0;34m\u001b[0m\u001b[0m\n",
      "\u001b[0;32m~/miniconda3/envs/research/lib/python3.8/concurrent/futures/_base.py\u001b[0m in \u001b[0;36mresult\u001b[0;34m(self, timeout)\u001b[0m\n\u001b[1;32m    437\u001b[0m                 \u001b[0;32mraise\u001b[0m \u001b[0mCancelledError\u001b[0m\u001b[0;34m(\u001b[0m\u001b[0;34m)\u001b[0m\u001b[0;34m\u001b[0m\u001b[0;34m\u001b[0m\u001b[0m\n\u001b[1;32m    438\u001b[0m             \u001b[0;32melif\u001b[0m \u001b[0mself\u001b[0m\u001b[0;34m.\u001b[0m\u001b[0m_state\u001b[0m \u001b[0;34m==\u001b[0m \u001b[0mFINISHED\u001b[0m\u001b[0;34m:\u001b[0m\u001b[0;34m\u001b[0m\u001b[0;34m\u001b[0m\u001b[0m\n\u001b[0;32m--> 439\u001b[0;31m                 \u001b[0;32mreturn\u001b[0m \u001b[0mself\u001b[0m\u001b[0;34m.\u001b[0m\u001b[0m__get_result\u001b[0m\u001b[0;34m(\u001b[0m\u001b[0;34m)\u001b[0m\u001b[0;34m\u001b[0m\u001b[0;34m\u001b[0m\u001b[0m\n\u001b[0m\u001b[1;32m    440\u001b[0m             \u001b[0;32melse\u001b[0m\u001b[0;34m:\u001b[0m\u001b[0;34m\u001b[0m\u001b[0;34m\u001b[0m\u001b[0m\n\u001b[1;32m    441\u001b[0m                 \u001b[0;32mraise\u001b[0m \u001b[0mTimeoutError\u001b[0m\u001b[0;34m(\u001b[0m\u001b[0;34m)\u001b[0m\u001b[0;34m\u001b[0m\u001b[0;34m\u001b[0m\u001b[0m\n",
      "\u001b[0;32m~/miniconda3/envs/research/lib/python3.8/concurrent/futures/_base.py\u001b[0m in \u001b[0;36m__get_result\u001b[0;34m(self)\u001b[0m\n\u001b[1;32m    386\u001b[0m     \u001b[0;32mdef\u001b[0m \u001b[0m__get_result\u001b[0m\u001b[0;34m(\u001b[0m\u001b[0mself\u001b[0m\u001b[0;34m)\u001b[0m\u001b[0;34m:\u001b[0m\u001b[0;34m\u001b[0m\u001b[0;34m\u001b[0m\u001b[0m\n\u001b[1;32m    387\u001b[0m         \u001b[0;32mif\u001b[0m \u001b[0mself\u001b[0m\u001b[0;34m.\u001b[0m\u001b[0m_exception\u001b[0m\u001b[0;34m:\u001b[0m\u001b[0;34m\u001b[0m\u001b[0;34m\u001b[0m\u001b[0m\n\u001b[0;32m--> 388\u001b[0;31m             \u001b[0;32mraise\u001b[0m \u001b[0mself\u001b[0m\u001b[0;34m.\u001b[0m\u001b[0m_exception\u001b[0m\u001b[0;34m\u001b[0m\u001b[0;34m\u001b[0m\u001b[0m\n\u001b[0m\u001b[1;32m    389\u001b[0m         \u001b[0;32melse\u001b[0m\u001b[0;34m:\u001b[0m\u001b[0;34m\u001b[0m\u001b[0;34m\u001b[0m\u001b[0m\n\u001b[1;32m    390\u001b[0m             \u001b[0;32mreturn\u001b[0m \u001b[0mself\u001b[0m\u001b[0;34m.\u001b[0m\u001b[0m_result\u001b[0m\u001b[0;34m\u001b[0m\u001b[0;34m\u001b[0m\u001b[0m\n",
      "\u001b[0;31mTypeError\u001b[0m: square_sum() missing 1 required positional argument: 'y'"
     ]
    }
   ],
   "source": [
    "\n",
    "\n",
    "with cf.ProcessPoolExecutor() as executor:\n",
    "    \n",
    "    args = ((x,y) for _ in range(10))\n",
    "    \n",
    "    results = executor.map(square_sum, args)\n",
    "    \n",
    "#     results = [executor.submit(square_sum, [x, y]) for _ in range(10)]\n",
    "    \n",
    "    for f in cf.as_completed(results):\n",
    "        print(f.result())\n"
   ]
  },
  {
   "cell_type": "code",
   "execution_count": 15,
   "id": "temporal-evans",
   "metadata": {},
   "outputs": [],
   "source": [
    "import multiprocessing, os, time\n",
    "\n",
    "def do_work():\n",
    "    print('Work Started: %d' % os.getpid())\n",
    "    time.sleep(2)\n",
    "    return 'Success'\n",
    "\n",
    "def manual_function(job_queue, result_queue):\n",
    "    signal.signal(signal.SIGINT, signal.SIG_IGN)\n",
    "    while not job_queue.empty():\n",
    "        try:\n",
    "            job = job_queue.get(block=False)\n",
    "            result_queue.put(do_work())\n",
    "        except Queue.Empty:\n",
    "            pass\n",
    "        #except KeyboardInterrupt: pass\n",
    "\n",
    "def main():\n",
    "    job_queue = multiprocessing.Queue()\n",
    "    result_queue = multiprocessing.Queue()\n",
    "\n",
    "    for i in range(6):\n",
    "        job_queue.put(None)\n",
    "\n",
    "    workers = []\n",
    "    for i in range(3):\n",
    "        tmp = multiprocessing.Process(target=manual_function,\n",
    "                                      args=(job_queue, result_queue))\n",
    "        tmp.start()\n",
    "        workers.append(tmp)\n",
    "\n",
    "    try:\n",
    "        for worker in workers:\n",
    "            worker.join()\n",
    "    except KeyboardInterrupt:\n",
    "        print('parent received ctrl-c')\n",
    "        for worker in workers:\n",
    "            worker.terminate()\n",
    "            worker.join()\n",
    "\n",
    "    while not result_queue.empty():\n",
    "        print(result_queue.get(block=False))"
   ]
  },
  {
   "cell_type": "code",
   "execution_count": null,
   "id": "painful-psychiatry",
   "metadata": {},
   "outputs": [],
   "source": [
    "main"
   ]
  },
  {
   "cell_type": "code",
   "execution_count": null,
   "id": "higher-spelling",
   "metadata": {},
   "outputs": [],
   "source": [
    "square_sum(np.random.rand(10))"
   ]
  },
  {
   "cell_type": "code",
   "execution_count": null,
   "id": "electronic-natural",
   "metadata": {},
   "outputs": [],
   "source": [
    "@njit\n",
    "def dype_(x):\n",
    "    y = x.astype(np.int8)\n",
    "    \n",
    "    return y"
   ]
  },
  {
   "cell_type": "code",
   "execution_count": null,
   "id": "level-meaning",
   "metadata": {},
   "outputs": [],
   "source": [
    "queue = mp.Queue(6)\n",
    "for _ in range(6):\n",
    "    process = mp.Process(target=run_, args=(np.random.rand(5*10**7).astype(np.float16),queue))\n",
    "    process.daemon = True\n",
    "    process.start() \n",
    "    try:\n",
    "        process.join()\n",
    "    except KeyboardInterrupt:\n",
    "        print('wait for worker to cleanup...')\n",
    "        queue.put('exit')\n",
    "        process.join()"
   ]
  },
  {
   "cell_type": "code",
   "execution_count": null,
   "id": "enclosed-shopper",
   "metadata": {},
   "outputs": [],
   "source": [
    "process.start()\n",
    "\n",
    "try:\n",
    "    process.join()\n",
    "except KeyboardInterrupt:\n",
    "    print('wait for worker to cleanup...')\n",
    "    queue.put('exit')\n",
    "    process.join()"
   ]
  },
  {
   "cell_type": "code",
   "execution_count": null,
   "id": "parallel-exemption",
   "metadata": {},
   "outputs": [],
   "source": [
    "import queue\n",
    "import time\n",
    "def test04():\n",
    "    q = queue.Queue(10)\n",
    "    for x in range(10):\n",
    "        q.put(x)\n",
    "\n",
    "    while q.not_empty:\n",
    "        print('content--->',q.get())\n",
    "        time.sleep(1)\n",
    "    re = q.task_done()  \n",
    "    print('state--->',re,'\\n')\n",
    "    q.join()\n",
    "    print('over \\n')\n",
    "\n",
    "test04()"
   ]
  },
  {
   "cell_type": "code",
   "execution_count": null,
   "id": "brutal-insight",
   "metadata": {},
   "outputs": [],
   "source": [
    "import multiprocessing as mp"
   ]
  },
  {
   "cell_type": "code",
   "execution_count": null,
   "id": "close-prisoner",
   "metadata": {},
   "outputs": [],
   "source": [
    "mp.Queue"
   ]
  }
 ],
 "metadata": {
  "kernelspec": {
   "display_name": "Python 3",
   "language": "python",
   "name": "python3"
  },
  "language_info": {
   "codemirror_mode": {
    "name": "ipython",
    "version": 3
   },
   "file_extension": ".py",
   "mimetype": "text/x-python",
   "name": "python",
   "nbconvert_exporter": "python",
   "pygments_lexer": "ipython3",
   "version": "3.8.5"
  }
 },
 "nbformat": 4,
 "nbformat_minor": 5
}
