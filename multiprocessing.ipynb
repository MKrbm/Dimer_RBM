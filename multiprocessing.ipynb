{
 "cells": [
  {
   "cell_type": "code",
   "execution_count": 31,
   "id": "czech-burner",
   "metadata": {},
   "outputs": [
    {
     "data": {
      "text/plain": [
       "1"
      ]
     },
     "execution_count": 31,
     "metadata": {},
     "output_type": "execute_result"
    }
   ],
   "source": [
    "import multiprocessing as mp\n",
    "from numba import njit\n",
    "import numpy as np\n",
    "import time\n",
    "import concurrent.futures as cf\n",
    "import mkl\n",
    "import time\n",
    "mkl.set_num_threads(12)"
   ]
  },
  {
   "cell_type": "code",
   "execution_count": 66,
   "id": "constant-relations",
   "metadata": {},
   "outputs": [],
   "source": [
    "# @njit\n",
    "def square_sum(x):\n",
    "    out = (np.tanh(1/x.dot(x)) ** 2)\n",
    "#     out = out * out\n",
    "    out = out.mean()\n",
    "    return out\n",
    "def cal_time(x):\n",
    "\n",
    "    s=time.time()\n",
    "    out = square_sum(x)\n",
    "    print(time.time()-s)\n",
    "    print(out)\n",
    "#     return out\n",
    "\n",
    "def run(x,queue):\n",
    "    \n",
    "    queue.put(cal_time(x))\n",
    "\n",
    "def square_sum_mp(x):\n",
    "    s=time.time()\n",
    "    p = mp.Pool(6)\n",
    "    p.map(cal_time, [x for _ in range(6)])\n",
    "    p.close()\n",
    "    p.join()\n",
    "    print('time is',time.time()-s,'\\n')"
   ]
  },
  {
   "cell_type": "code",
   "execution_count": 89,
   "id": "single-cannon",
   "metadata": {},
   "outputs": [
    {
     "name": "stdout",
     "output_type": "stream",
     "text": [
      "0.025615692138671875\n",
      "1.6041871e-05\n"
     ]
    }
   ],
   "source": [
    "x = np.random.rand(1*10**6).reshape(1000,1000).astype(np.float32)\n",
    "# y = np.random.rand(1*10**4).astype(np.float32)\n",
    "out = cal_time(x)"
   ]
  },
  {
   "cell_type": "code",
   "execution_count": 91,
   "id": "handled-director",
   "metadata": {},
   "outputs": [
    {
     "data": {
      "text/html": [
       "<table>\n",
       "<tr>\n",
       "<td>\n",
       "<table>\n",
       "  <thead>\n",
       "    <tr><td> </td><th> Array </th><th> Chunk </th></tr>\n",
       "  </thead>\n",
       "  <tbody>\n",
       "    <tr><th> Bytes </th><td> 4.00 MB </td> <td> 400.00 kB </td></tr>\n",
       "    <tr><th> Shape </th><td> (1000, 1000) </td> <td> (100, 1000) </td></tr>\n",
       "    <tr><th> Count </th><td> 10 Tasks </td><td> 10 Chunks </td></tr>\n",
       "    <tr><th> Type </th><td> float32 </td><td> numpy.ndarray </td></tr>\n",
       "  </tbody>\n",
       "</table>\n",
       "</td>\n",
       "<td>\n",
       "<svg width=\"170\" height=\"170\" style=\"stroke:rgb(0,0,0);stroke-width:1\" >\n",
       "\n",
       "  <!-- Horizontal lines -->\n",
       "  <line x1=\"0\" y1=\"0\" x2=\"120\" y2=\"0\" style=\"stroke-width:2\" />\n",
       "  <line x1=\"0\" y1=\"12\" x2=\"120\" y2=\"12\" />\n",
       "  <line x1=\"0\" y1=\"24\" x2=\"120\" y2=\"24\" />\n",
       "  <line x1=\"0\" y1=\"36\" x2=\"120\" y2=\"36\" />\n",
       "  <line x1=\"0\" y1=\"48\" x2=\"120\" y2=\"48\" />\n",
       "  <line x1=\"0\" y1=\"60\" x2=\"120\" y2=\"60\" />\n",
       "  <line x1=\"0\" y1=\"72\" x2=\"120\" y2=\"72\" />\n",
       "  <line x1=\"0\" y1=\"84\" x2=\"120\" y2=\"84\" />\n",
       "  <line x1=\"0\" y1=\"96\" x2=\"120\" y2=\"96\" />\n",
       "  <line x1=\"0\" y1=\"108\" x2=\"120\" y2=\"108\" />\n",
       "  <line x1=\"0\" y1=\"120\" x2=\"120\" y2=\"120\" style=\"stroke-width:2\" />\n",
       "\n",
       "  <!-- Vertical lines -->\n",
       "  <line x1=\"0\" y1=\"0\" x2=\"0\" y2=\"120\" style=\"stroke-width:2\" />\n",
       "  <line x1=\"120\" y1=\"0\" x2=\"120\" y2=\"120\" style=\"stroke-width:2\" />\n",
       "\n",
       "  <!-- Colored Rectangle -->\n",
       "  <polygon points=\"0.0,0.0 120.0,0.0 120.0,120.0 0.0,120.0\" style=\"fill:#ECB172A0;stroke-width:0\"/>\n",
       "\n",
       "  <!-- Text -->\n",
       "  <text x=\"60.000000\" y=\"140.000000\" font-size=\"1.0rem\" font-weight=\"100\" text-anchor=\"middle\" >1000</text>\n",
       "  <text x=\"140.000000\" y=\"60.000000\" font-size=\"1.0rem\" font-weight=\"100\" text-anchor=\"middle\" transform=\"rotate(-90,140.000000,60.000000)\">1000</text>\n",
       "</svg>\n",
       "</td>\n",
       "</tr>\n",
       "</table>"
      ],
      "text/plain": [
       "dask.array<array, shape=(1000, 1000), dtype=float32, chunksize=(100, 1000), chunktype=numpy.ndarray>"
      ]
     },
     "execution_count": 91,
     "metadata": {},
     "output_type": "execute_result"
    }
   ],
   "source": [
    "import dask.array as da\n",
    "x_ = da.from_array(x, chunks=(100, 1000))\n",
    "x_"
   ]
  },
  {
   "cell_type": "code",
   "execution_count": 87,
   "id": "conventional-ozone",
   "metadata": {},
   "outputs": [
    {
     "name": "stdout",
     "output_type": "stream",
     "text": [
      "CPU times: user 627 ms, sys: 1.19 s, total: 1.81 s\n",
      "Wall time: 98.8 ms\n"
     ]
    },
    {
     "name": "stderr",
     "output_type": "stream",
     "text": [
      "/home/keisuke/miniconda3/envs/research/lib/python3.8/site-packages/dask/array/routines.py:294: PerformanceWarning: Increasing number of chunks by factor of 10\n",
      "  intermediate = blockwise(\n"
     ]
    },
    {
     "data": {
      "text/plain": [
       "2.577564e-10"
      ]
     },
     "execution_count": 87,
     "metadata": {},
     "output_type": "execute_result"
    }
   ],
   "source": [
    "%time (da.tanh(1/x_.dot(x_)) ** 4).mean().compute()"
   ]
  },
  {
   "cell_type": "code",
   "execution_count": 61,
   "id": "alpine-papua",
   "metadata": {},
   "outputs": [
    {
     "name": "stdout",
     "output_type": "stream",
     "text": [
      "CPU times: user 4.77 s, sys: 1.31 s, total: 6.08 s\n",
      "Wall time: 525 ms\n"
     ]
    },
    {
     "data": {
      "text/plain": [
       "array([[1009.30096, 1006.0159 , 1008.95886, ..., 1006.2321 , 1010.52075,\n",
       "        1016.31866],\n",
       "       [ 998.88354, 1017.28394, 1024.0021 , ..., 1002.0606 , 1017.4078 ,\n",
       "        1017.41754],\n",
       "       [1000.304  ,  996.6962 , 1009.10376, ...,  993.8533 ,  997.119  ,\n",
       "        1011.1522 ],\n",
       "       ...,\n",
       "       [1014.13495, 1015.78894, 1023.7437 , ..., 1004.4581 , 1007.6599 ,\n",
       "        1016.9664 ],\n",
       "       [1013.69196, 1020.8745 , 1020.76044, ..., 1010.88116, 1002.4144 ,\n",
       "        1022.6471 ],\n",
       "       [1002.2323 ,  999.4808 , 1002.795  , ...,  991.05597,  995.671  ,\n",
       "        1013.16284]], dtype=float32)"
      ]
     },
     "execution_count": 61,
     "metadata": {},
     "output_type": "execute_result"
    }
   ],
   "source": [
    "%time x.dot(x)"
   ]
  },
  {
   "cell_type": "code",
   "execution_count": 45,
   "id": "thermal-jesus",
   "metadata": {},
   "outputs": [
    {
     "name": "stdout",
     "output_type": "stream",
     "text": [
      "0.02089715003967285\n",
      "2.5913752e-10\n"
     ]
    }
   ],
   "source": [
    "cal_time(x)"
   ]
  },
  {
   "cell_type": "code",
   "execution_count": 40,
   "id": "metropolitan-trick",
   "metadata": {},
   "outputs": [
    {
     "name": "stdout",
     "output_type": "stream",
     "text": [
      "0.025740385055541992\n",
      "2.5913752e-10\n"
     ]
    }
   ],
   "source": [
    "x = np.random.rand(1*10**6).reshape(1000,1000).astype(np.float32)\n",
    "# y = np.random.rand(1*10**4).astype(np.float32)\n",
    "out = cal_time(x)"
   ]
  },
  {
   "cell_type": "code",
   "execution_count": 30,
   "id": "reliable-authority",
   "metadata": {},
   "outputs": [
    {
     "name": "stdout",
     "output_type": "stream",
     "text": [
      "0.067096471786499020.0696563720703125\n",
      "\n",
      "2.5873184150704276e-102.5873184150704276e-100.06612253189086914\n",
      "\n",
      "\n",
      "2.5873184150704276e-10\n",
      "0.061064720153808594\n",
      "2.5873184150704276e-10\n",
      "0.06978273391723633\n",
      "0.06823754310607912.5873184150704276e-10\n",
      "\n",
      "2.5873184150704276e-10\n",
      "None\n",
      "None\n",
      "None\n",
      "None\n",
      "None\n",
      "None\n"
     ]
    }
   ],
   "source": [
    "queue = []\n",
    "process = []\n",
    "for i in range(6):\n",
    "    q = mp.Queue()\n",
    "    process.append(mp.Process(target=run, args = (x,q)))\n",
    "    queue.append(q)\n",
    "    process[i].start()\n",
    "    \n",
    "try:\n",
    "    for worker in process:\n",
    "        worker.join()\n",
    "except KeyboardInterrupt:\n",
    "    print('parent received keyboardinterrupt')\n",
    "    for worker in process:\n",
    "        worker.terminate()\n",
    "        worker.join()\n",
    "for q in queue:\n",
    "    print(q.get())\n",
    "#     print(queue.get())"
   ]
  },
  {
   "cell_type": "code",
   "execution_count": 25,
   "id": "sustainable-boulder",
   "metadata": {},
   "outputs": [
    {
     "name": "stdout",
     "output_type": "stream",
     "text": [
      "1.9102422589624461\n",
      "1.9102422589624461\n",
      "1.9102422589624461\n",
      "1.9102422589624461\n",
      "1.9102422589624461\n",
      "1.9102422589624461\n"
     ]
    }
   ],
   "source": [
    "while not queue.empty():\n",
    "    print(queue.get())"
   ]
  },
  {
   "cell_type": "code",
   "execution_count": 24,
   "id": "alpine-decline",
   "metadata": {},
   "outputs": [
    {
     "data": {
      "text/plain": [
       "False"
      ]
     },
     "execution_count": 24,
     "metadata": {},
     "output_type": "execute_result"
    }
   ],
   "source": [
    "queue.empty()"
   ]
  },
  {
   "cell_type": "code",
   "execution_count": 3,
   "id": "binary-humidity",
   "metadata": {},
   "outputs": [],
   "source": [
    "wrapper_func = time_wrapper(f= square_sum)"
   ]
  },
  {
   "cell_type": "code",
   "execution_count": 4,
   "id": "spread-locking",
   "metadata": {},
   "outputs": [
    {
     "name": "stdout",
     "output_type": "stream",
     "text": [
      "0.00017142295837402344\n"
     ]
    },
    {
     "data": {
      "text/plain": [
       "1.9163098336184357"
      ]
     },
     "execution_count": 4,
     "metadata": {},
     "output_type": "execute_result"
    }
   ],
   "source": [
    "wrapper_func(np.random.rand(5*10**3), np.random.rand(5*10**3))"
   ]
  },
  {
   "cell_type": "code",
   "execution_count": 8,
   "id": "incorrect-delta",
   "metadata": {
    "collapsed": true
   },
   "outputs": [
    {
     "ename": "TypeError",
     "evalue": "square_sum() missing 1 required positional argument: 'y'",
     "output_type": "error",
     "traceback": [
      "\u001b[0;31m---------------------------------------------------------------------------\u001b[0m",
      "\u001b[0;31m_RemoteTraceback\u001b[0m                          Traceback (most recent call last)",
      "\u001b[0;31m_RemoteTraceback\u001b[0m: \n\"\"\"\nTraceback (most recent call last):\n  File \"/home/keisuke/miniconda3/envs/research/lib/python3.8/concurrent/futures/process.py\", line 239, in _process_worker\n    r = call_item.fn(*call_item.args, **call_item.kwargs)\n  File \"/home/keisuke/miniconda3/envs/research/lib/python3.8/concurrent/futures/process.py\", line 198, in _process_chunk\n    return [fn(*args) for args in chunk]\n  File \"/home/keisuke/miniconda3/envs/research/lib/python3.8/concurrent/futures/process.py\", line 198, in <listcomp>\n    return [fn(*args) for args in chunk]\nTypeError: square_sum() missing 1 required positional argument: 'y'\n\"\"\"",
      "\nThe above exception was the direct cause of the following exception:\n",
      "\u001b[0;31mTypeError\u001b[0m                                 Traceback (most recent call last)",
      "\u001b[0;32m<ipython-input-8-5ada453c0f08>\u001b[0m in \u001b[0;36m<module>\u001b[0;34m\u001b[0m\n\u001b[1;32m     10\u001b[0m \u001b[0;31m#     results = [executor.submit(square_sum, [x, y]) for _ in range(10)]\u001b[0m\u001b[0;34m\u001b[0m\u001b[0;34m\u001b[0m\u001b[0;34m\u001b[0m\u001b[0m\n\u001b[1;32m     11\u001b[0m \u001b[0;34m\u001b[0m\u001b[0m\n\u001b[0;32m---> 12\u001b[0;31m     \u001b[0;32mfor\u001b[0m \u001b[0mf\u001b[0m \u001b[0;32min\u001b[0m \u001b[0mcf\u001b[0m\u001b[0;34m.\u001b[0m\u001b[0mas_completed\u001b[0m\u001b[0;34m(\u001b[0m\u001b[0mresults\u001b[0m\u001b[0;34m)\u001b[0m\u001b[0;34m:\u001b[0m\u001b[0;34m\u001b[0m\u001b[0;34m\u001b[0m\u001b[0m\n\u001b[0m\u001b[1;32m     13\u001b[0m         \u001b[0mprint\u001b[0m\u001b[0;34m(\u001b[0m\u001b[0mf\u001b[0m\u001b[0;34m.\u001b[0m\u001b[0mresult\u001b[0m\u001b[0;34m(\u001b[0m\u001b[0;34m)\u001b[0m\u001b[0;34m)\u001b[0m\u001b[0;34m\u001b[0m\u001b[0;34m\u001b[0m\u001b[0m\n",
      "\u001b[0;32m~/miniconda3/envs/research/lib/python3.8/concurrent/futures/_base.py\u001b[0m in \u001b[0;36mas_completed\u001b[0;34m(fs, timeout)\u001b[0m\n\u001b[1;32m    219\u001b[0m         \u001b[0mend_time\u001b[0m \u001b[0;34m=\u001b[0m \u001b[0mtimeout\u001b[0m \u001b[0;34m+\u001b[0m \u001b[0mtime\u001b[0m\u001b[0;34m.\u001b[0m\u001b[0mmonotonic\u001b[0m\u001b[0;34m(\u001b[0m\u001b[0;34m)\u001b[0m\u001b[0;34m\u001b[0m\u001b[0;34m\u001b[0m\u001b[0m\n\u001b[1;32m    220\u001b[0m \u001b[0;34m\u001b[0m\u001b[0m\n\u001b[0;32m--> 221\u001b[0;31m     \u001b[0mfs\u001b[0m \u001b[0;34m=\u001b[0m \u001b[0mset\u001b[0m\u001b[0;34m(\u001b[0m\u001b[0mfs\u001b[0m\u001b[0;34m)\u001b[0m\u001b[0;34m\u001b[0m\u001b[0;34m\u001b[0m\u001b[0m\n\u001b[0m\u001b[1;32m    222\u001b[0m     \u001b[0mtotal_futures\u001b[0m \u001b[0;34m=\u001b[0m \u001b[0mlen\u001b[0m\u001b[0;34m(\u001b[0m\u001b[0mfs\u001b[0m\u001b[0;34m)\u001b[0m\u001b[0;34m\u001b[0m\u001b[0;34m\u001b[0m\u001b[0m\n\u001b[1;32m    223\u001b[0m     \u001b[0;32mwith\u001b[0m \u001b[0m_AcquireFutures\u001b[0m\u001b[0;34m(\u001b[0m\u001b[0mfs\u001b[0m\u001b[0;34m)\u001b[0m\u001b[0;34m:\u001b[0m\u001b[0;34m\u001b[0m\u001b[0;34m\u001b[0m\u001b[0m\n",
      "\u001b[0;32m~/miniconda3/envs/research/lib/python3.8/concurrent/futures/process.py\u001b[0m in \u001b[0;36m_chain_from_iterable_of_lists\u001b[0;34m(iterable)\u001b[0m\n\u001b[1;32m    482\u001b[0m     \u001b[0mcareful\u001b[0m \u001b[0;32mnot\u001b[0m \u001b[0mto\u001b[0m \u001b[0mkeep\u001b[0m \u001b[0mreferences\u001b[0m \u001b[0mto\u001b[0m \u001b[0myielded\u001b[0m \u001b[0mobjects\u001b[0m\u001b[0;34m.\u001b[0m\u001b[0;34m\u001b[0m\u001b[0;34m\u001b[0m\u001b[0m\n\u001b[1;32m    483\u001b[0m     \"\"\"\n\u001b[0;32m--> 484\u001b[0;31m     \u001b[0;32mfor\u001b[0m \u001b[0melement\u001b[0m \u001b[0;32min\u001b[0m \u001b[0miterable\u001b[0m\u001b[0;34m:\u001b[0m\u001b[0;34m\u001b[0m\u001b[0;34m\u001b[0m\u001b[0m\n\u001b[0m\u001b[1;32m    485\u001b[0m         \u001b[0melement\u001b[0m\u001b[0;34m.\u001b[0m\u001b[0mreverse\u001b[0m\u001b[0;34m(\u001b[0m\u001b[0;34m)\u001b[0m\u001b[0;34m\u001b[0m\u001b[0;34m\u001b[0m\u001b[0m\n\u001b[1;32m    486\u001b[0m         \u001b[0;32mwhile\u001b[0m \u001b[0melement\u001b[0m\u001b[0;34m:\u001b[0m\u001b[0;34m\u001b[0m\u001b[0;34m\u001b[0m\u001b[0m\n",
      "\u001b[0;32m~/miniconda3/envs/research/lib/python3.8/concurrent/futures/_base.py\u001b[0m in \u001b[0;36mresult_iterator\u001b[0;34m()\u001b[0m\n\u001b[1;32m    609\u001b[0m                     \u001b[0;31m# Careful not to keep a reference to the popped future\u001b[0m\u001b[0;34m\u001b[0m\u001b[0;34m\u001b[0m\u001b[0;34m\u001b[0m\u001b[0m\n\u001b[1;32m    610\u001b[0m                     \u001b[0;32mif\u001b[0m \u001b[0mtimeout\u001b[0m \u001b[0;32mis\u001b[0m \u001b[0;32mNone\u001b[0m\u001b[0;34m:\u001b[0m\u001b[0;34m\u001b[0m\u001b[0;34m\u001b[0m\u001b[0m\n\u001b[0;32m--> 611\u001b[0;31m                         \u001b[0;32myield\u001b[0m \u001b[0mfs\u001b[0m\u001b[0;34m.\u001b[0m\u001b[0mpop\u001b[0m\u001b[0;34m(\u001b[0m\u001b[0;34m)\u001b[0m\u001b[0;34m.\u001b[0m\u001b[0mresult\u001b[0m\u001b[0;34m(\u001b[0m\u001b[0;34m)\u001b[0m\u001b[0;34m\u001b[0m\u001b[0;34m\u001b[0m\u001b[0m\n\u001b[0m\u001b[1;32m    612\u001b[0m                     \u001b[0;32melse\u001b[0m\u001b[0;34m:\u001b[0m\u001b[0;34m\u001b[0m\u001b[0;34m\u001b[0m\u001b[0m\n\u001b[1;32m    613\u001b[0m                         \u001b[0;32myield\u001b[0m \u001b[0mfs\u001b[0m\u001b[0;34m.\u001b[0m\u001b[0mpop\u001b[0m\u001b[0;34m(\u001b[0m\u001b[0;34m)\u001b[0m\u001b[0;34m.\u001b[0m\u001b[0mresult\u001b[0m\u001b[0;34m(\u001b[0m\u001b[0mend_time\u001b[0m \u001b[0;34m-\u001b[0m \u001b[0mtime\u001b[0m\u001b[0;34m.\u001b[0m\u001b[0mmonotonic\u001b[0m\u001b[0;34m(\u001b[0m\u001b[0;34m)\u001b[0m\u001b[0;34m)\u001b[0m\u001b[0;34m\u001b[0m\u001b[0;34m\u001b[0m\u001b[0m\n",
      "\u001b[0;32m~/miniconda3/envs/research/lib/python3.8/concurrent/futures/_base.py\u001b[0m in \u001b[0;36mresult\u001b[0;34m(self, timeout)\u001b[0m\n\u001b[1;32m    437\u001b[0m                 \u001b[0;32mraise\u001b[0m \u001b[0mCancelledError\u001b[0m\u001b[0;34m(\u001b[0m\u001b[0;34m)\u001b[0m\u001b[0;34m\u001b[0m\u001b[0;34m\u001b[0m\u001b[0m\n\u001b[1;32m    438\u001b[0m             \u001b[0;32melif\u001b[0m \u001b[0mself\u001b[0m\u001b[0;34m.\u001b[0m\u001b[0m_state\u001b[0m \u001b[0;34m==\u001b[0m \u001b[0mFINISHED\u001b[0m\u001b[0;34m:\u001b[0m\u001b[0;34m\u001b[0m\u001b[0;34m\u001b[0m\u001b[0m\n\u001b[0;32m--> 439\u001b[0;31m                 \u001b[0;32mreturn\u001b[0m \u001b[0mself\u001b[0m\u001b[0;34m.\u001b[0m\u001b[0m__get_result\u001b[0m\u001b[0;34m(\u001b[0m\u001b[0;34m)\u001b[0m\u001b[0;34m\u001b[0m\u001b[0;34m\u001b[0m\u001b[0m\n\u001b[0m\u001b[1;32m    440\u001b[0m             \u001b[0;32melse\u001b[0m\u001b[0;34m:\u001b[0m\u001b[0;34m\u001b[0m\u001b[0;34m\u001b[0m\u001b[0m\n\u001b[1;32m    441\u001b[0m                 \u001b[0;32mraise\u001b[0m \u001b[0mTimeoutError\u001b[0m\u001b[0;34m(\u001b[0m\u001b[0;34m)\u001b[0m\u001b[0;34m\u001b[0m\u001b[0;34m\u001b[0m\u001b[0m\n",
      "\u001b[0;32m~/miniconda3/envs/research/lib/python3.8/concurrent/futures/_base.py\u001b[0m in \u001b[0;36m__get_result\u001b[0;34m(self)\u001b[0m\n\u001b[1;32m    386\u001b[0m     \u001b[0;32mdef\u001b[0m \u001b[0m__get_result\u001b[0m\u001b[0;34m(\u001b[0m\u001b[0mself\u001b[0m\u001b[0;34m)\u001b[0m\u001b[0;34m:\u001b[0m\u001b[0;34m\u001b[0m\u001b[0;34m\u001b[0m\u001b[0m\n\u001b[1;32m    387\u001b[0m         \u001b[0;32mif\u001b[0m \u001b[0mself\u001b[0m\u001b[0;34m.\u001b[0m\u001b[0m_exception\u001b[0m\u001b[0;34m:\u001b[0m\u001b[0;34m\u001b[0m\u001b[0;34m\u001b[0m\u001b[0m\n\u001b[0;32m--> 388\u001b[0;31m             \u001b[0;32mraise\u001b[0m \u001b[0mself\u001b[0m\u001b[0;34m.\u001b[0m\u001b[0m_exception\u001b[0m\u001b[0;34m\u001b[0m\u001b[0;34m\u001b[0m\u001b[0m\n\u001b[0m\u001b[1;32m    389\u001b[0m         \u001b[0;32melse\u001b[0m\u001b[0;34m:\u001b[0m\u001b[0;34m\u001b[0m\u001b[0;34m\u001b[0m\u001b[0m\n\u001b[1;32m    390\u001b[0m             \u001b[0;32mreturn\u001b[0m \u001b[0mself\u001b[0m\u001b[0;34m.\u001b[0m\u001b[0m_result\u001b[0m\u001b[0;34m\u001b[0m\u001b[0;34m\u001b[0m\u001b[0m\n",
      "\u001b[0;31mTypeError\u001b[0m: square_sum() missing 1 required positional argument: 'y'"
     ]
    }
   ],
   "source": [
    "\n",
    "\n",
    "with cf.ProcessPoolExecutor() as executor:\n",
    "    \n",
    "    args = ((x,y) for _ in range(10))\n",
    "    \n",
    "    results = executor.map(square_sum, args)\n",
    "    \n",
    "#     results = [executor.submit(square_sum, [x, y]) for _ in range(10)]\n",
    "    \n",
    "    for f in cf.as_completed(results):\n",
    "        print(f.result())\n"
   ]
  },
  {
   "cell_type": "code",
   "execution_count": 15,
   "id": "random-burns",
   "metadata": {},
   "outputs": [],
   "source": [
    "import multiprocessing, os, time\n",
    "\n",
    "def do_work():\n",
    "    print('Work Started: %d' % os.getpid())\n",
    "    time.sleep(2)\n",
    "    return 'Success'\n",
    "\n",
    "def manual_function(job_queue, result_queue):\n",
    "    signal.signal(signal.SIGINT, signal.SIG_IGN)\n",
    "    while not job_queue.empty():\n",
    "        try:\n",
    "            job = job_queue.get(block=False)\n",
    "            result_queue.put(do_work())\n",
    "        except Queue.Empty:\n",
    "            pass\n",
    "        #except KeyboardInterrupt: pass\n",
    "\n",
    "def main():\n",
    "    job_queue = multiprocessing.Queue()\n",
    "    result_queue = multiprocessing.Queue()\n",
    "\n",
    "    for i in range(6):\n",
    "        job_queue.put(None)\n",
    "\n",
    "    workers = []\n",
    "    for i in range(3):\n",
    "        tmp = multiprocessing.Process(target=manual_function,\n",
    "                                      args=(job_queue, result_queue))\n",
    "        tmp.start()\n",
    "        workers.append(tmp)\n",
    "\n",
    "    try:\n",
    "        for worker in workers:\n",
    "            worker.join()\n",
    "    except KeyboardInterrupt:\n",
    "        print('parent received ctrl-c')\n",
    "        for worker in workers:\n",
    "            worker.terminate()\n",
    "            worker.join()\n",
    "\n",
    "    while not result_queue.empty():\n",
    "        print(result_queue.get(block=False))"
   ]
  },
  {
   "cell_type": "code",
   "execution_count": null,
   "id": "interstate-hospital",
   "metadata": {},
   "outputs": [],
   "source": [
    "main"
   ]
  },
  {
   "cell_type": "code",
   "execution_count": null,
   "id": "prostate-concentration",
   "metadata": {},
   "outputs": [],
   "source": [
    "square_sum(np.random.rand(10))"
   ]
  },
  {
   "cell_type": "code",
   "execution_count": null,
   "id": "premier-petite",
   "metadata": {},
   "outputs": [],
   "source": [
    "@njit\n",
    "def dype_(x):\n",
    "    y = x.astype(np.int8)\n",
    "    \n",
    "    return y"
   ]
  },
  {
   "cell_type": "code",
   "execution_count": null,
   "id": "junior-sauce",
   "metadata": {},
   "outputs": [],
   "source": [
    "queue = mp.Queue(6)\n",
    "for _ in range(6):\n",
    "    process = mp.Process(target=run_, args=(np.random.rand(5*10**7).astype(np.float16),queue))\n",
    "    process.daemon = True\n",
    "    process.start() \n",
    "    try:\n",
    "        process.join()\n",
    "    except KeyboardInterrupt:\n",
    "        print('wait for worker to cleanup...')\n",
    "        queue.put('exit')\n",
    "        process.join()"
   ]
  },
  {
   "cell_type": "code",
   "execution_count": null,
   "id": "black-research",
   "metadata": {},
   "outputs": [],
   "source": [
    "process.start()\n",
    "\n",
    "try:\n",
    "    process.join()\n",
    "except KeyboardInterrupt:\n",
    "    print('wait for worker to cleanup...')\n",
    "    queue.put('exit')\n",
    "    process.join()"
   ]
  },
  {
   "cell_type": "code",
   "execution_count": null,
   "id": "placed-piece",
   "metadata": {},
   "outputs": [],
   "source": [
    "import queue\n",
    "import time\n",
    "def test04():\n",
    "    q = queue.Queue(10)\n",
    "    for x in range(10):\n",
    "        q.put(x)\n",
    "\n",
    "    while q.not_empty:\n",
    "        print('content--->',q.get())\n",
    "        time.sleep(1)\n",
    "    re = q.task_done()  \n",
    "    print('state--->',re,'\\n')\n",
    "    q.join()\n",
    "    print('over \\n')\n",
    "\n",
    "test04()"
   ]
  },
  {
   "cell_type": "code",
   "execution_count": null,
   "id": "informal-devon",
   "metadata": {},
   "outputs": [],
   "source": [
    "import multiprocessing as mp"
   ]
  },
  {
   "cell_type": "code",
   "execution_count": null,
   "id": "broad-invention",
   "metadata": {},
   "outputs": [],
   "source": [
    "mp.Queue"
   ]
  }
 ],
 "metadata": {
  "kernelspec": {
   "display_name": "Python 3",
   "language": "python",
   "name": "python3"
  },
  "language_info": {
   "codemirror_mode": {
    "name": "ipython",
    "version": 3
   },
   "file_extension": ".py",
   "mimetype": "text/x-python",
   "name": "python",
   "nbconvert_exporter": "python",
   "pygments_lexer": "ipython3",
   "version": "3.8.5"
  }
 },
 "nbformat": 4,
 "nbformat_minor": 5
}
