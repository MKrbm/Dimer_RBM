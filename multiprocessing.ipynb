{
 "cells": [
  {
   "cell_type": "code",
   "execution_count": 1,
   "id": "excess-hotel",
   "metadata": {},
   "outputs": [],
   "source": [
    "import multiprocessing as mp\n",
    "from numba import njit\n",
    "import numpy as np"
   ]
  },
  {
   "cell_type": "code",
   "execution_count": 42,
   "id": "supposed-alias",
   "metadata": {},
   "outputs": [],
   "source": [
    "class cal_:\n",
    "\n",
    "    def square_sum(self,x):\n",
    "        return self._square_sum(x)\n",
    "    \n",
    "    \n",
    "    def run(self, x, qout):\n",
    "        out = self._square_sum(x)\n",
    "        qout.put(out)\n",
    "        \n",
    "    @staticmethod   \n",
    "    @njit\n",
    "    def _square_sum(x):\n",
    "\n",
    "        s = 0\n",
    "        for i in range(x.shape[0]):\n",
    "            s += x[i] ** 2\n",
    "        return s"
   ]
  },
  {
   "cell_type": "code",
   "execution_count": 16,
   "id": "suburban-maine",
   "metadata": {},
   "outputs": [],
   "source": [
    "@njit\n",
    "def dype_(x):\n",
    "    y = x.astype(np.int8)\n",
    "    \n",
    "    return y"
   ]
  },
  {
   "cell_type": "code",
   "execution_count": 15,
   "id": "particular-stranger",
   "metadata": {},
   "outputs": [
    {
     "data": {
      "text/plain": [
       "array([0, 0, 0, 0, 0, 0, 0, 0, 0, 0, 0, 0, 0, 0, 0, 0, 0, 0, 0, 0],\n",
       "      dtype=int8)"
      ]
     },
     "execution_count": 15,
     "metadata": {},
     "output_type": "execute_result"
    }
   ],
   "source": [
    "dype_(np.zeros(20))"
   ]
  },
  {
   "cell_type": "code",
   "execution_count": 47,
   "id": "hawaiian-springfield",
   "metadata": {},
   "outputs": [],
   "source": [
    "qout = mp.Queue()\n",
    "p = mp.Process(target=c.run, args=(np.ones(200000),qout))"
   ]
  },
  {
   "cell_type": "code",
   "execution_count": 48,
   "id": "emotional-dodge",
   "metadata": {},
   "outputs": [],
   "source": [
    "p.start()"
   ]
  },
  {
   "cell_type": "code",
   "execution_count": 49,
   "id": "altered-girlfriend",
   "metadata": {},
   "outputs": [
    {
     "data": {
      "text/plain": [
       "200000.0"
      ]
     },
     "execution_count": 49,
     "metadata": {},
     "output_type": "execute_result"
    }
   ],
   "source": [
    "qout.get()"
   ]
  },
  {
   "cell_type": "code",
   "execution_count": null,
   "id": "communist-country",
   "metadata": {},
   "outputs": [],
   "source": [
    "del "
   ]
  }
 ],
 "metadata": {
  "kernelspec": {
   "display_name": "Python 3",
   "language": "python",
   "name": "python3"
  },
  "language_info": {
   "codemirror_mode": {
    "name": "ipython",
    "version": 3
   },
   "file_extension": ".py",
   "mimetype": "text/x-python",
   "name": "python",
   "nbconvert_exporter": "python",
   "pygments_lexer": "ipython3",
   "version": "3.8.5"
  }
 },
 "nbformat": 4,
 "nbformat_minor": 5
}
