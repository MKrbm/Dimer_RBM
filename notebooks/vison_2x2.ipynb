{
 "cells": [
  {
   "cell_type": "markdown",
   "id": "active-clone",
   "metadata": {},
   "source": [
    "### Test vison operator for 2 x 2 dimer model"
   ]
  },
  {
   "cell_type": "code",
   "execution_count": 1,
   "id": "expected-graphic",
   "metadata": {},
   "outputs": [
    {
     "name": "stderr",
     "output_type": "stream",
     "text": [
      "../scripts/functions.py:121: NumbaDeprecationWarning: The 'numba.jitclass' decorator has moved to 'numba.experimental.jitclass' to better reflect the experimental nature of the functionality. Please update your imports to accommodate this change and see https://numba.pydata.org/numba-doc/latest/reference/deprecation.html#change-of-jitclass-location for the time frame.\n",
      "  @jitclass(spec)\n"
     ]
    }
   ],
   "source": [
    "import sys\n",
    "import importlib\n",
    "importlib.reload(sys)\n",
    "if \"../\" not in sys.path:\n",
    "    sys.path.insert(0,'../')\n",
    "import numpy as np\n",
    "import netket as nk\n",
    "from scripts import functions as f\n",
    "from scripts import new_dynamics, new_dynamics2\n",
    "import os\n",
    "from plotly import graph_objects as go\n",
    "currentpath = os.getcwd()\n",
    "parentdir = os.path.dirname(currentpath)"
   ]
  },
  {
   "cell_type": "code",
   "execution_count": 94,
   "id": "adolescent-adobe",
   "metadata": {},
   "outputs": [],
   "source": [
    "length=[4, 4]\n",
    "V = 1.0\n",
    "h = 1.0\n",
    "g = nk.graph.Graph(nodes = [i for i in range(length[0] * length[1] * 2)])\n",
    "hi = nk.hilbert.Spin(s=0.5, graph=g)\n",
    "hex_ = nk.machine.new_hex(np.array(length))"
   ]
  },
  {
   "cell_type": "code",
   "execution_count": 95,
   "id": "equipped-northern",
   "metadata": {},
   "outputs": [
    {
     "data": {
      "application/vnd.plotly.v1+json": {
       "config": {
        "plotlyServerURL": "https://plot.ly"
       },
       "data": [
        {
         "mode": "markers+text",
         "text": [
          "0",
          "1",
          "2",
          "3",
          "4",
          "5",
          "6",
          "7",
          "8",
          "9",
          "10",
          "11",
          "12",
          "13",
          "14",
          "15",
          "16",
          "17",
          "18",
          "19",
          "20",
          "21",
          "22",
          "23",
          "24",
          "25",
          "26",
          "27",
          "28",
          "29",
          "30",
          "31"
         ],
         "textposition": "top center",
         "type": "scatter",
         "x": [
          1.9999949932098389,
          2.999994993209839,
          3.999994993209839,
          4.999995231628418,
          2.500005006790161,
          3.500005006790161,
          4.500004768371582,
          5.500004768371582,
          0.49999499320983887,
          1.4999949932098389,
          2.499994993209839,
          3.499994993209839,
          1.0000050067901611,
          2.000005006790161,
          3.000005006790161,
          4.000004768371582,
          0.9999949932098389,
          1.9999949932098389,
          2.999994993209839,
          3.999994993209839,
          1.5000050067901611,
          2.500005006790161,
          3.500005006790161,
          4.500004768371582,
          1.4999949932098389,
          2.499994993209839,
          3.499994993209839,
          4.499995231628418,
          2.000005006790161,
          3.000005006790161,
          4.000004768371582,
          5.000004768371582
         ],
         "y": [
          -2.8867480754852295,
          -2.8867480754852295,
          -2.8867480754852295,
          -2.8867480754852295,
          -3.175429105758667,
          -3.175429105758667,
          -3.175429105758667,
          -3.175429105758667,
          -0.28867200016975403,
          -0.28867200016975403,
          -0.28867200016975403,
          -0.28867200016975403,
          -0.5773530006408691,
          -0.5773530006408691,
          -0.5773530006408691,
          -0.5773530006408691,
          -1.1546980142593384,
          -1.1546980142593384,
          -1.1546980142593384,
          -1.1546980142593384,
          -1.4433790445327759,
          -1.4433790445327759,
          -1.4433790445327759,
          -1.4433790445327759,
          -2.0207231044769287,
          -2.0207231044769287,
          -2.0207231044769287,
          -2.0207231044769287,
          -2.309403896331787,
          -2.309403896331787,
          -2.309403896331787,
          -2.309403896331787
         ]
        }
       ],
       "layout": {
        "template": {
         "data": {
          "bar": [
           {
            "error_x": {
             "color": "#2a3f5f"
            },
            "error_y": {
             "color": "#2a3f5f"
            },
            "marker": {
             "line": {
              "color": "#E5ECF6",
              "width": 0.5
             }
            },
            "type": "bar"
           }
          ],
          "barpolar": [
           {
            "marker": {
             "line": {
              "color": "#E5ECF6",
              "width": 0.5
             }
            },
            "type": "barpolar"
           }
          ],
          "carpet": [
           {
            "aaxis": {
             "endlinecolor": "#2a3f5f",
             "gridcolor": "white",
             "linecolor": "white",
             "minorgridcolor": "white",
             "startlinecolor": "#2a3f5f"
            },
            "baxis": {
             "endlinecolor": "#2a3f5f",
             "gridcolor": "white",
             "linecolor": "white",
             "minorgridcolor": "white",
             "startlinecolor": "#2a3f5f"
            },
            "type": "carpet"
           }
          ],
          "choropleth": [
           {
            "colorbar": {
             "outlinewidth": 0,
             "ticks": ""
            },
            "type": "choropleth"
           }
          ],
          "contour": [
           {
            "colorbar": {
             "outlinewidth": 0,
             "ticks": ""
            },
            "colorscale": [
             [
              0,
              "#0d0887"
             ],
             [
              0.1111111111111111,
              "#46039f"
             ],
             [
              0.2222222222222222,
              "#7201a8"
             ],
             [
              0.3333333333333333,
              "#9c179e"
             ],
             [
              0.4444444444444444,
              "#bd3786"
             ],
             [
              0.5555555555555556,
              "#d8576b"
             ],
             [
              0.6666666666666666,
              "#ed7953"
             ],
             [
              0.7777777777777778,
              "#fb9f3a"
             ],
             [
              0.8888888888888888,
              "#fdca26"
             ],
             [
              1,
              "#f0f921"
             ]
            ],
            "type": "contour"
           }
          ],
          "contourcarpet": [
           {
            "colorbar": {
             "outlinewidth": 0,
             "ticks": ""
            },
            "type": "contourcarpet"
           }
          ],
          "heatmap": [
           {
            "colorbar": {
             "outlinewidth": 0,
             "ticks": ""
            },
            "colorscale": [
             [
              0,
              "#0d0887"
             ],
             [
              0.1111111111111111,
              "#46039f"
             ],
             [
              0.2222222222222222,
              "#7201a8"
             ],
             [
              0.3333333333333333,
              "#9c179e"
             ],
             [
              0.4444444444444444,
              "#bd3786"
             ],
             [
              0.5555555555555556,
              "#d8576b"
             ],
             [
              0.6666666666666666,
              "#ed7953"
             ],
             [
              0.7777777777777778,
              "#fb9f3a"
             ],
             [
              0.8888888888888888,
              "#fdca26"
             ],
             [
              1,
              "#f0f921"
             ]
            ],
            "type": "heatmap"
           }
          ],
          "heatmapgl": [
           {
            "colorbar": {
             "outlinewidth": 0,
             "ticks": ""
            },
            "colorscale": [
             [
              0,
              "#0d0887"
             ],
             [
              0.1111111111111111,
              "#46039f"
             ],
             [
              0.2222222222222222,
              "#7201a8"
             ],
             [
              0.3333333333333333,
              "#9c179e"
             ],
             [
              0.4444444444444444,
              "#bd3786"
             ],
             [
              0.5555555555555556,
              "#d8576b"
             ],
             [
              0.6666666666666666,
              "#ed7953"
             ],
             [
              0.7777777777777778,
              "#fb9f3a"
             ],
             [
              0.8888888888888888,
              "#fdca26"
             ],
             [
              1,
              "#f0f921"
             ]
            ],
            "type": "heatmapgl"
           }
          ],
          "histogram": [
           {
            "marker": {
             "colorbar": {
              "outlinewidth": 0,
              "ticks": ""
             }
            },
            "type": "histogram"
           }
          ],
          "histogram2d": [
           {
            "colorbar": {
             "outlinewidth": 0,
             "ticks": ""
            },
            "colorscale": [
             [
              0,
              "#0d0887"
             ],
             [
              0.1111111111111111,
              "#46039f"
             ],
             [
              0.2222222222222222,
              "#7201a8"
             ],
             [
              0.3333333333333333,
              "#9c179e"
             ],
             [
              0.4444444444444444,
              "#bd3786"
             ],
             [
              0.5555555555555556,
              "#d8576b"
             ],
             [
              0.6666666666666666,
              "#ed7953"
             ],
             [
              0.7777777777777778,
              "#fb9f3a"
             ],
             [
              0.8888888888888888,
              "#fdca26"
             ],
             [
              1,
              "#f0f921"
             ]
            ],
            "type": "histogram2d"
           }
          ],
          "histogram2dcontour": [
           {
            "colorbar": {
             "outlinewidth": 0,
             "ticks": ""
            },
            "colorscale": [
             [
              0,
              "#0d0887"
             ],
             [
              0.1111111111111111,
              "#46039f"
             ],
             [
              0.2222222222222222,
              "#7201a8"
             ],
             [
              0.3333333333333333,
              "#9c179e"
             ],
             [
              0.4444444444444444,
              "#bd3786"
             ],
             [
              0.5555555555555556,
              "#d8576b"
             ],
             [
              0.6666666666666666,
              "#ed7953"
             ],
             [
              0.7777777777777778,
              "#fb9f3a"
             ],
             [
              0.8888888888888888,
              "#fdca26"
             ],
             [
              1,
              "#f0f921"
             ]
            ],
            "type": "histogram2dcontour"
           }
          ],
          "mesh3d": [
           {
            "colorbar": {
             "outlinewidth": 0,
             "ticks": ""
            },
            "type": "mesh3d"
           }
          ],
          "parcoords": [
           {
            "line": {
             "colorbar": {
              "outlinewidth": 0,
              "ticks": ""
             }
            },
            "type": "parcoords"
           }
          ],
          "pie": [
           {
            "automargin": true,
            "type": "pie"
           }
          ],
          "scatter": [
           {
            "marker": {
             "colorbar": {
              "outlinewidth": 0,
              "ticks": ""
             }
            },
            "type": "scatter"
           }
          ],
          "scatter3d": [
           {
            "line": {
             "colorbar": {
              "outlinewidth": 0,
              "ticks": ""
             }
            },
            "marker": {
             "colorbar": {
              "outlinewidth": 0,
              "ticks": ""
             }
            },
            "type": "scatter3d"
           }
          ],
          "scattercarpet": [
           {
            "marker": {
             "colorbar": {
              "outlinewidth": 0,
              "ticks": ""
             }
            },
            "type": "scattercarpet"
           }
          ],
          "scattergeo": [
           {
            "marker": {
             "colorbar": {
              "outlinewidth": 0,
              "ticks": ""
             }
            },
            "type": "scattergeo"
           }
          ],
          "scattergl": [
           {
            "marker": {
             "colorbar": {
              "outlinewidth": 0,
              "ticks": ""
             }
            },
            "type": "scattergl"
           }
          ],
          "scattermapbox": [
           {
            "marker": {
             "colorbar": {
              "outlinewidth": 0,
              "ticks": ""
             }
            },
            "type": "scattermapbox"
           }
          ],
          "scatterpolar": [
           {
            "marker": {
             "colorbar": {
              "outlinewidth": 0,
              "ticks": ""
             }
            },
            "type": "scatterpolar"
           }
          ],
          "scatterpolargl": [
           {
            "marker": {
             "colorbar": {
              "outlinewidth": 0,
              "ticks": ""
             }
            },
            "type": "scatterpolargl"
           }
          ],
          "scatterternary": [
           {
            "marker": {
             "colorbar": {
              "outlinewidth": 0,
              "ticks": ""
             }
            },
            "type": "scatterternary"
           }
          ],
          "surface": [
           {
            "colorbar": {
             "outlinewidth": 0,
             "ticks": ""
            },
            "colorscale": [
             [
              0,
              "#0d0887"
             ],
             [
              0.1111111111111111,
              "#46039f"
             ],
             [
              0.2222222222222222,
              "#7201a8"
             ],
             [
              0.3333333333333333,
              "#9c179e"
             ],
             [
              0.4444444444444444,
              "#bd3786"
             ],
             [
              0.5555555555555556,
              "#d8576b"
             ],
             [
              0.6666666666666666,
              "#ed7953"
             ],
             [
              0.7777777777777778,
              "#fb9f3a"
             ],
             [
              0.8888888888888888,
              "#fdca26"
             ],
             [
              1,
              "#f0f921"
             ]
            ],
            "type": "surface"
           }
          ],
          "table": [
           {
            "cells": {
             "fill": {
              "color": "#EBF0F8"
             },
             "line": {
              "color": "white"
             }
            },
            "header": {
             "fill": {
              "color": "#C8D4E3"
             },
             "line": {
              "color": "white"
             }
            },
            "type": "table"
           }
          ]
         },
         "layout": {
          "annotationdefaults": {
           "arrowcolor": "#2a3f5f",
           "arrowhead": 0,
           "arrowwidth": 1
          },
          "autotypenumbers": "strict",
          "coloraxis": {
           "colorbar": {
            "outlinewidth": 0,
            "ticks": ""
           }
          },
          "colorscale": {
           "diverging": [
            [
             0,
             "#8e0152"
            ],
            [
             0.1,
             "#c51b7d"
            ],
            [
             0.2,
             "#de77ae"
            ],
            [
             0.3,
             "#f1b6da"
            ],
            [
             0.4,
             "#fde0ef"
            ],
            [
             0.5,
             "#f7f7f7"
            ],
            [
             0.6,
             "#e6f5d0"
            ],
            [
             0.7,
             "#b8e186"
            ],
            [
             0.8,
             "#7fbc41"
            ],
            [
             0.9,
             "#4d9221"
            ],
            [
             1,
             "#276419"
            ]
           ],
           "sequential": [
            [
             0,
             "#0d0887"
            ],
            [
             0.1111111111111111,
             "#46039f"
            ],
            [
             0.2222222222222222,
             "#7201a8"
            ],
            [
             0.3333333333333333,
             "#9c179e"
            ],
            [
             0.4444444444444444,
             "#bd3786"
            ],
            [
             0.5555555555555556,
             "#d8576b"
            ],
            [
             0.6666666666666666,
             "#ed7953"
            ],
            [
             0.7777777777777778,
             "#fb9f3a"
            ],
            [
             0.8888888888888888,
             "#fdca26"
            ],
            [
             1,
             "#f0f921"
            ]
           ],
           "sequentialminus": [
            [
             0,
             "#0d0887"
            ],
            [
             0.1111111111111111,
             "#46039f"
            ],
            [
             0.2222222222222222,
             "#7201a8"
            ],
            [
             0.3333333333333333,
             "#9c179e"
            ],
            [
             0.4444444444444444,
             "#bd3786"
            ],
            [
             0.5555555555555556,
             "#d8576b"
            ],
            [
             0.6666666666666666,
             "#ed7953"
            ],
            [
             0.7777777777777778,
             "#fb9f3a"
            ],
            [
             0.8888888888888888,
             "#fdca26"
            ],
            [
             1,
             "#f0f921"
            ]
           ]
          },
          "colorway": [
           "#636efa",
           "#EF553B",
           "#00cc96",
           "#ab63fa",
           "#FFA15A",
           "#19d3f3",
           "#FF6692",
           "#B6E880",
           "#FF97FF",
           "#FECB52"
          ],
          "font": {
           "color": "#2a3f5f"
          },
          "geo": {
           "bgcolor": "white",
           "lakecolor": "white",
           "landcolor": "#E5ECF6",
           "showlakes": true,
           "showland": true,
           "subunitcolor": "white"
          },
          "hoverlabel": {
           "align": "left"
          },
          "hovermode": "closest",
          "mapbox": {
           "style": "light"
          },
          "paper_bgcolor": "white",
          "plot_bgcolor": "#E5ECF6",
          "polar": {
           "angularaxis": {
            "gridcolor": "white",
            "linecolor": "white",
            "ticks": ""
           },
           "bgcolor": "#E5ECF6",
           "radialaxis": {
            "gridcolor": "white",
            "linecolor": "white",
            "ticks": ""
           }
          },
          "scene": {
           "xaxis": {
            "backgroundcolor": "#E5ECF6",
            "gridcolor": "white",
            "gridwidth": 2,
            "linecolor": "white",
            "showbackground": true,
            "ticks": "",
            "zerolinecolor": "white"
           },
           "yaxis": {
            "backgroundcolor": "#E5ECF6",
            "gridcolor": "white",
            "gridwidth": 2,
            "linecolor": "white",
            "showbackground": true,
            "ticks": "",
            "zerolinecolor": "white"
           },
           "zaxis": {
            "backgroundcolor": "#E5ECF6",
            "gridcolor": "white",
            "gridwidth": 2,
            "linecolor": "white",
            "showbackground": true,
            "ticks": "",
            "zerolinecolor": "white"
           }
          },
          "shapedefaults": {
           "line": {
            "color": "#2a3f5f"
           }
          },
          "ternary": {
           "aaxis": {
            "gridcolor": "white",
            "linecolor": "white",
            "ticks": ""
           },
           "baxis": {
            "gridcolor": "white",
            "linecolor": "white",
            "ticks": ""
           },
           "bgcolor": "#E5ECF6",
           "caxis": {
            "gridcolor": "white",
            "linecolor": "white",
            "ticks": ""
           }
          },
          "title": {
           "x": 0.05
          },
          "xaxis": {
           "automargin": true,
           "gridcolor": "white",
           "linecolor": "white",
           "ticks": "",
           "title": {
            "standoff": 15
           },
           "zerolinecolor": "white",
           "zerolinewidth": 2
          },
          "yaxis": {
           "automargin": true,
           "gridcolor": "white",
           "linecolor": "white",
           "ticks": "",
           "title": {
            "standoff": 15
           },
           "zerolinecolor": "white",
           "zerolinewidth": 2
          }
         }
        },
        "xaxis": {
         "showgrid": false
        },
        "yaxis": {
         "scaleanchor": "x",
         "scaleratio": 1,
         "showgrid": false
        }
       }
      },
      "text/html": [
       "<div>                            <div id=\"bb120133-6025-47a3-928d-359c85efbe6d\" class=\"plotly-graph-div\" style=\"height:525px; width:100%;\"></div>            <script type=\"text/javascript\">                require([\"plotly\"], function(Plotly) {                    window.PLOTLYENV=window.PLOTLYENV || {};                                    if (document.getElementById(\"bb120133-6025-47a3-928d-359c85efbe6d\")) {                    Plotly.newPlot(                        \"bb120133-6025-47a3-928d-359c85efbe6d\",                        [{\"mode\": \"markers+text\", \"text\": [\"0\", \"1\", \"2\", \"3\", \"4\", \"5\", \"6\", \"7\", \"8\", \"9\", \"10\", \"11\", \"12\", \"13\", \"14\", \"15\", \"16\", \"17\", \"18\", \"19\", \"20\", \"21\", \"22\", \"23\", \"24\", \"25\", \"26\", \"27\", \"28\", \"29\", \"30\", \"31\"], \"textposition\": \"top center\", \"type\": \"scatter\", \"x\": [1.9999949932098389, 2.999994993209839, 3.999994993209839, 4.999995231628418, 2.500005006790161, 3.500005006790161, 4.500004768371582, 5.500004768371582, 0.49999499320983887, 1.4999949932098389, 2.499994993209839, 3.499994993209839, 1.0000050067901611, 2.000005006790161, 3.000005006790161, 4.000004768371582, 0.9999949932098389, 1.9999949932098389, 2.999994993209839, 3.999994993209839, 1.5000050067901611, 2.500005006790161, 3.500005006790161, 4.500004768371582, 1.4999949932098389, 2.499994993209839, 3.499994993209839, 4.499995231628418, 2.000005006790161, 3.000005006790161, 4.000004768371582, 5.000004768371582], \"y\": [-2.8867480754852295, -2.8867480754852295, -2.8867480754852295, -2.8867480754852295, -3.175429105758667, -3.175429105758667, -3.175429105758667, -3.175429105758667, -0.28867200016975403, -0.28867200016975403, -0.28867200016975403, -0.28867200016975403, -0.5773530006408691, -0.5773530006408691, -0.5773530006408691, -0.5773530006408691, -1.1546980142593384, -1.1546980142593384, -1.1546980142593384, -1.1546980142593384, -1.4433790445327759, -1.4433790445327759, -1.4433790445327759, -1.4433790445327759, -2.0207231044769287, -2.0207231044769287, -2.0207231044769287, -2.0207231044769287, -2.309403896331787, -2.309403896331787, -2.309403896331787, -2.309403896331787]}],                        {\"template\": {\"data\": {\"bar\": [{\"error_x\": {\"color\": \"#2a3f5f\"}, \"error_y\": {\"color\": \"#2a3f5f\"}, \"marker\": {\"line\": {\"color\": \"#E5ECF6\", \"width\": 0.5}}, \"type\": \"bar\"}], \"barpolar\": [{\"marker\": {\"line\": {\"color\": \"#E5ECF6\", \"width\": 0.5}}, \"type\": \"barpolar\"}], \"carpet\": [{\"aaxis\": {\"endlinecolor\": \"#2a3f5f\", \"gridcolor\": \"white\", \"linecolor\": \"white\", \"minorgridcolor\": \"white\", \"startlinecolor\": \"#2a3f5f\"}, \"baxis\": {\"endlinecolor\": \"#2a3f5f\", \"gridcolor\": \"white\", \"linecolor\": \"white\", \"minorgridcolor\": \"white\", \"startlinecolor\": \"#2a3f5f\"}, \"type\": \"carpet\"}], \"choropleth\": [{\"colorbar\": {\"outlinewidth\": 0, \"ticks\": \"\"}, \"type\": \"choropleth\"}], \"contour\": [{\"colorbar\": {\"outlinewidth\": 0, \"ticks\": \"\"}, \"colorscale\": [[0.0, \"#0d0887\"], [0.1111111111111111, \"#46039f\"], [0.2222222222222222, \"#7201a8\"], [0.3333333333333333, \"#9c179e\"], [0.4444444444444444, \"#bd3786\"], [0.5555555555555556, \"#d8576b\"], [0.6666666666666666, \"#ed7953\"], [0.7777777777777778, \"#fb9f3a\"], [0.8888888888888888, \"#fdca26\"], [1.0, \"#f0f921\"]], \"type\": \"contour\"}], \"contourcarpet\": [{\"colorbar\": {\"outlinewidth\": 0, \"ticks\": \"\"}, \"type\": \"contourcarpet\"}], \"heatmap\": [{\"colorbar\": {\"outlinewidth\": 0, \"ticks\": \"\"}, \"colorscale\": [[0.0, \"#0d0887\"], [0.1111111111111111, \"#46039f\"], [0.2222222222222222, \"#7201a8\"], [0.3333333333333333, \"#9c179e\"], [0.4444444444444444, \"#bd3786\"], [0.5555555555555556, \"#d8576b\"], [0.6666666666666666, \"#ed7953\"], [0.7777777777777778, \"#fb9f3a\"], [0.8888888888888888, \"#fdca26\"], [1.0, \"#f0f921\"]], \"type\": \"heatmap\"}], \"heatmapgl\": [{\"colorbar\": {\"outlinewidth\": 0, \"ticks\": \"\"}, \"colorscale\": [[0.0, \"#0d0887\"], [0.1111111111111111, \"#46039f\"], [0.2222222222222222, \"#7201a8\"], [0.3333333333333333, \"#9c179e\"], [0.4444444444444444, \"#bd3786\"], [0.5555555555555556, \"#d8576b\"], [0.6666666666666666, \"#ed7953\"], [0.7777777777777778, \"#fb9f3a\"], [0.8888888888888888, \"#fdca26\"], [1.0, \"#f0f921\"]], \"type\": \"heatmapgl\"}], \"histogram\": [{\"marker\": {\"colorbar\": {\"outlinewidth\": 0, \"ticks\": \"\"}}, \"type\": \"histogram\"}], \"histogram2d\": [{\"colorbar\": {\"outlinewidth\": 0, \"ticks\": \"\"}, \"colorscale\": [[0.0, \"#0d0887\"], [0.1111111111111111, \"#46039f\"], [0.2222222222222222, \"#7201a8\"], [0.3333333333333333, \"#9c179e\"], [0.4444444444444444, \"#bd3786\"], [0.5555555555555556, \"#d8576b\"], [0.6666666666666666, \"#ed7953\"], [0.7777777777777778, \"#fb9f3a\"], [0.8888888888888888, \"#fdca26\"], [1.0, \"#f0f921\"]], \"type\": \"histogram2d\"}], \"histogram2dcontour\": [{\"colorbar\": {\"outlinewidth\": 0, \"ticks\": \"\"}, \"colorscale\": [[0.0, \"#0d0887\"], [0.1111111111111111, \"#46039f\"], [0.2222222222222222, \"#7201a8\"], [0.3333333333333333, \"#9c179e\"], [0.4444444444444444, \"#bd3786\"], [0.5555555555555556, \"#d8576b\"], [0.6666666666666666, \"#ed7953\"], [0.7777777777777778, \"#fb9f3a\"], [0.8888888888888888, \"#fdca26\"], [1.0, \"#f0f921\"]], \"type\": \"histogram2dcontour\"}], \"mesh3d\": [{\"colorbar\": {\"outlinewidth\": 0, \"ticks\": \"\"}, \"type\": \"mesh3d\"}], \"parcoords\": [{\"line\": {\"colorbar\": {\"outlinewidth\": 0, \"ticks\": \"\"}}, \"type\": \"parcoords\"}], \"pie\": [{\"automargin\": true, \"type\": \"pie\"}], \"scatter\": [{\"marker\": {\"colorbar\": {\"outlinewidth\": 0, \"ticks\": \"\"}}, \"type\": \"scatter\"}], \"scatter3d\": [{\"line\": {\"colorbar\": {\"outlinewidth\": 0, \"ticks\": \"\"}}, \"marker\": {\"colorbar\": {\"outlinewidth\": 0, \"ticks\": \"\"}}, \"type\": \"scatter3d\"}], \"scattercarpet\": [{\"marker\": {\"colorbar\": {\"outlinewidth\": 0, \"ticks\": \"\"}}, \"type\": \"scattercarpet\"}], \"scattergeo\": [{\"marker\": {\"colorbar\": {\"outlinewidth\": 0, \"ticks\": \"\"}}, \"type\": \"scattergeo\"}], \"scattergl\": [{\"marker\": {\"colorbar\": {\"outlinewidth\": 0, \"ticks\": \"\"}}, \"type\": \"scattergl\"}], \"scattermapbox\": [{\"marker\": {\"colorbar\": {\"outlinewidth\": 0, \"ticks\": \"\"}}, \"type\": \"scattermapbox\"}], \"scatterpolar\": [{\"marker\": {\"colorbar\": {\"outlinewidth\": 0, \"ticks\": \"\"}}, \"type\": \"scatterpolar\"}], \"scatterpolargl\": [{\"marker\": {\"colorbar\": {\"outlinewidth\": 0, \"ticks\": \"\"}}, \"type\": \"scatterpolargl\"}], \"scatterternary\": [{\"marker\": {\"colorbar\": {\"outlinewidth\": 0, \"ticks\": \"\"}}, \"type\": \"scatterternary\"}], \"surface\": [{\"colorbar\": {\"outlinewidth\": 0, \"ticks\": \"\"}, \"colorscale\": [[0.0, \"#0d0887\"], [0.1111111111111111, \"#46039f\"], [0.2222222222222222, \"#7201a8\"], [0.3333333333333333, \"#9c179e\"], [0.4444444444444444, \"#bd3786\"], [0.5555555555555556, \"#d8576b\"], [0.6666666666666666, \"#ed7953\"], [0.7777777777777778, \"#fb9f3a\"], [0.8888888888888888, \"#fdca26\"], [1.0, \"#f0f921\"]], \"type\": \"surface\"}], \"table\": [{\"cells\": {\"fill\": {\"color\": \"#EBF0F8\"}, \"line\": {\"color\": \"white\"}}, \"header\": {\"fill\": {\"color\": \"#C8D4E3\"}, \"line\": {\"color\": \"white\"}}, \"type\": \"table\"}]}, \"layout\": {\"annotationdefaults\": {\"arrowcolor\": \"#2a3f5f\", \"arrowhead\": 0, \"arrowwidth\": 1}, \"autotypenumbers\": \"strict\", \"coloraxis\": {\"colorbar\": {\"outlinewidth\": 0, \"ticks\": \"\"}}, \"colorscale\": {\"diverging\": [[0, \"#8e0152\"], [0.1, \"#c51b7d\"], [0.2, \"#de77ae\"], [0.3, \"#f1b6da\"], [0.4, \"#fde0ef\"], [0.5, \"#f7f7f7\"], [0.6, \"#e6f5d0\"], [0.7, \"#b8e186\"], [0.8, \"#7fbc41\"], [0.9, \"#4d9221\"], [1, \"#276419\"]], \"sequential\": [[0.0, \"#0d0887\"], [0.1111111111111111, \"#46039f\"], [0.2222222222222222, \"#7201a8\"], [0.3333333333333333, \"#9c179e\"], [0.4444444444444444, \"#bd3786\"], [0.5555555555555556, \"#d8576b\"], [0.6666666666666666, \"#ed7953\"], [0.7777777777777778, \"#fb9f3a\"], [0.8888888888888888, \"#fdca26\"], [1.0, \"#f0f921\"]], \"sequentialminus\": [[0.0, \"#0d0887\"], [0.1111111111111111, \"#46039f\"], [0.2222222222222222, \"#7201a8\"], [0.3333333333333333, \"#9c179e\"], [0.4444444444444444, \"#bd3786\"], [0.5555555555555556, \"#d8576b\"], [0.6666666666666666, \"#ed7953\"], [0.7777777777777778, \"#fb9f3a\"], [0.8888888888888888, \"#fdca26\"], [1.0, \"#f0f921\"]]}, \"colorway\": [\"#636efa\", \"#EF553B\", \"#00cc96\", \"#ab63fa\", \"#FFA15A\", \"#19d3f3\", \"#FF6692\", \"#B6E880\", \"#FF97FF\", \"#FECB52\"], \"font\": {\"color\": \"#2a3f5f\"}, \"geo\": {\"bgcolor\": \"white\", \"lakecolor\": \"white\", \"landcolor\": \"#E5ECF6\", \"showlakes\": true, \"showland\": true, \"subunitcolor\": \"white\"}, \"hoverlabel\": {\"align\": \"left\"}, \"hovermode\": \"closest\", \"mapbox\": {\"style\": \"light\"}, \"paper_bgcolor\": \"white\", \"plot_bgcolor\": \"#E5ECF6\", \"polar\": {\"angularaxis\": {\"gridcolor\": \"white\", \"linecolor\": \"white\", \"ticks\": \"\"}, \"bgcolor\": \"#E5ECF6\", \"radialaxis\": {\"gridcolor\": \"white\", \"linecolor\": \"white\", \"ticks\": \"\"}}, \"scene\": {\"xaxis\": {\"backgroundcolor\": \"#E5ECF6\", \"gridcolor\": \"white\", \"gridwidth\": 2, \"linecolor\": \"white\", \"showbackground\": true, \"ticks\": \"\", \"zerolinecolor\": \"white\"}, \"yaxis\": {\"backgroundcolor\": \"#E5ECF6\", \"gridcolor\": \"white\", \"gridwidth\": 2, \"linecolor\": \"white\", \"showbackground\": true, \"ticks\": \"\", \"zerolinecolor\": \"white\"}, \"zaxis\": {\"backgroundcolor\": \"#E5ECF6\", \"gridcolor\": \"white\", \"gridwidth\": 2, \"linecolor\": \"white\", \"showbackground\": true, \"ticks\": \"\", \"zerolinecolor\": \"white\"}}, \"shapedefaults\": {\"line\": {\"color\": \"#2a3f5f\"}}, \"ternary\": {\"aaxis\": {\"gridcolor\": \"white\", \"linecolor\": \"white\", \"ticks\": \"\"}, \"baxis\": {\"gridcolor\": \"white\", \"linecolor\": \"white\", \"ticks\": \"\"}, \"bgcolor\": \"#E5ECF6\", \"caxis\": {\"gridcolor\": \"white\", \"linecolor\": \"white\", \"ticks\": \"\"}}, \"title\": {\"x\": 0.05}, \"xaxis\": {\"automargin\": true, \"gridcolor\": \"white\", \"linecolor\": \"white\", \"ticks\": \"\", \"title\": {\"standoff\": 15}, \"zerolinecolor\": \"white\", \"zerolinewidth\": 2}, \"yaxis\": {\"automargin\": true, \"gridcolor\": \"white\", \"linecolor\": \"white\", \"ticks\": \"\", \"title\": {\"standoff\": 15}, \"zerolinecolor\": \"white\", \"zerolinewidth\": 2}}}, \"xaxis\": {\"showgrid\": false}, \"yaxis\": {\"scaleanchor\": \"x\", \"scaleratio\": 1, \"showgrid\": false}},                        {\"responsive\": true}                    ).then(function(){\n",
       "                            \n",
       "var gd = document.getElementById('bb120133-6025-47a3-928d-359c85efbe6d');\n",
       "var x = new MutationObserver(function (mutations, observer) {{\n",
       "        var display = window.getComputedStyle(gd).display;\n",
       "        if (!display || display === 'none') {{\n",
       "            console.log([gd, 'removed!']);\n",
       "            Plotly.purge(gd);\n",
       "            observer.disconnect();\n",
       "        }}\n",
       "}});\n",
       "\n",
       "// Listen for the removal of the full notebook cells\n",
       "var notebookContainer = gd.closest('#notebook-container');\n",
       "if (notebookContainer) {{\n",
       "    x.observe(notebookContainer, {childList: true});\n",
       "}}\n",
       "\n",
       "// Listen for the clearing of the current output cell\n",
       "var outputEl = gd.closest('.output');\n",
       "if (outputEl) {{\n",
       "    x.observe(outputEl, {childList: true});\n",
       "}}\n",
       "\n",
       "                        })                };                });            </script>        </div>"
      ]
     },
     "metadata": {},
     "output_type": "display_data"
    }
   ],
   "source": [
    "data = go.Scatter(\n",
    "    x = hex_.lattice_coor[:,0],\n",
    "    y = hex_.lattice_coor[:,1],\n",
    "    text=[f'{i}' for i in range(np.prod(hex_.l) * 2)],\n",
    "    mode = 'markers+text',\n",
    "    textposition=\"top center\"\n",
    ")\n",
    "\n",
    "fig = go.Figure()\n",
    "fig.add_trace(\n",
    "    data\n",
    ")\n",
    "fig.layout.yaxis = {\n",
    "    'scaleanchor': 'x', 'scaleratio': 1\n",
    "}\n",
    "fig.layout.yaxis.showgrid = False\n",
    "fig.layout.xaxis.showgrid = False\n",
    "fig.show()"
   ]
  },
  {
   "cell_type": "code",
   "execution_count": 4,
   "id": "tropical-power",
   "metadata": {},
   "outputs": [
    {
     "name": "stdout",
     "output_type": "stream",
     "text": [
      "1\n"
     ]
    }
   ],
   "source": [
    "ma = nk.machine.RbmDimer(hi, hex_, alpha = 1, symmetry = True\n",
    "                    ,use_hidden_bias = False, use_visible_bias = False, dtype=float, reverse=True, half=True)\n",
    "ma.init_random_parameters(seed=1234)\n",
    "ma._ws[:] = 0\n",
    "ma._set_bare_parameters(\n",
    "    ma._a, ma._b, ma._w, ma._as, ma._bs, ma._ws, ma._autom, ma._z2\n",
    ")"
   ]
  },
  {
   "cell_type": "code",
   "execution_count": 5,
   "id": "advised-atmosphere",
   "metadata": {},
   "outputs": [
    {
     "name": "stdout",
     "output_type": "stream",
     "text": [
      "number of core : 12\n"
     ]
    }
   ],
   "source": [
    "n_jobs = 12\n",
    "\n",
    "g = nk.graph.Graph(nodes = [i for i in range(length[0] * length[1] * 2)])\n",
    "hi = nk.hilbert.Spin(s=0.5, graph=g)\n",
    "\n",
    "op = f.dimer_hamiltonian(h, V,np.array(length))\n",
    "op_transition = f.dimer_flip1(length = np.array(length))\n",
    "hex_ = nk.machine.new_hex(np.array(length))\n",
    "\n",
    "\n",
    "\n",
    "\n",
    "sweep_size = 1000\n",
    "sa_mul = nk.sampler.DimerMetropolisLocal_multi(machine=ma, op=op_transition, length = length, n_chains=1, sweep_size = sweep_size, kernel = 1, n_jobs=n_jobs)\n",
    "sa_mul.reset()\n",
    "_ = sa_mul.generate_samples(1000) # discard the begginings of metropolis sampling."
   ]
  },
  {
   "cell_type": "code",
   "execution_count": 77,
   "id": "amended-pakistan",
   "metadata": {},
   "outputs": [
    {
     "name": "stdout",
     "output_type": "stream",
     "text": [
      "get samples\n"
     ]
    }
   ],
   "source": [
    "n_samples_ = 10000\n",
    "samples_state = sa_mul.generate_samples(int(n_samples_ / 1))\n",
    "samples_state = samples_state.reshape(-1, ma.hilbert.size)\n",
    "print('get samples')"
   ]
  },
  {
   "cell_type": "code",
   "execution_count": 78,
   "id": "aquatic-vermont",
   "metadata": {},
   "outputs": [
    {
     "name": "stdout",
     "output_type": "stream",
     "text": [
      "CPU times: user 19.2 ms, sys: 132 ms, total: 151 ms\n",
      "Wall time: 2.16 s\n"
     ]
    }
   ],
   "source": [
    "import scripts.dynamics as Dynamics\n",
    "d = Dynamics.new_dynamics(op, ma)\n",
    "%time P_ = d.multiprocess(samples_state, 300, 12) "
   ]
  },
  {
   "cell_type": "code",
   "execution_count": 79,
   "id": "mental-front",
   "metadata": {},
   "outputs": [],
   "source": [
    "P = P_[0]\n",
    "T = P_[1]\n",
    "t_list = np.arange(0,20,0.1)\n",
    "P_list = f.process_P(P, T, t_list)"
   ]
  },
  {
   "cell_type": "code",
   "execution_count": 80,
   "id": "taken-acoustic",
   "metadata": {},
   "outputs": [],
   "source": [
    "g = nk.graph.Graph(nodes = [i for i in range(length[0] * length[1] * 2)])\n",
    "hi = nk.hilbert.Spin(s=0.5, graph=g)\n",
    "hex_ = nk.machine.new_hex(np.array(length))"
   ]
  },
  {
   "cell_type": "code",
   "execution_count": 81,
   "id": "delayed-yahoo",
   "metadata": {},
   "outputs": [
    {
     "name": "stderr",
     "output_type": "stream",
     "text": [
      "../scripts/functions.py:121: NumbaDeprecationWarning:\n",
      "\n",
      "The 'numba.jitclass' decorator has moved to 'numba.experimental.jitclass' to better reflect the experimental nature of the functionality. Please update your imports to accommodate this change and see https://numba.pydata.org/numba-doc/latest/reference/deprecation.html#change-of-jitclass-location for the time frame.\n",
      "\n"
     ]
    }
   ],
   "source": [
    "from importlib import reload\n",
    "reload(f)\n",
    "operators = f.return_vison(hi, np.arange(hex_.lattice_coor.shape[0]))"
   ]
  },
  {
   "cell_type": "code",
   "execution_count": null,
   "id": "fixed-translation",
   "metadata": {},
   "outputs": [],
   "source": []
  },
  {
   "cell_type": "code",
   "execution_count": 82,
   "id": "relevant-convert",
   "metadata": {},
   "outputs": [
    {
     "name": "stdout",
     "output_type": "stream",
     "text": [
      "0\n",
      "1\n",
      "2\n",
      "3\n",
      "4\n",
      "5\n",
      "6\n",
      "7\n"
     ]
    }
   ],
   "source": [
    "num_samples = (P_list[:,:,0]!=0).sum(axis=1)\n",
    "P_list_ = P_list.reshape(-1,P_list.shape[-1])\n",
    "sections1 = np.arange(P_list.shape[1])\n",
    "sections2 = np.zeros(P_list_.shape[0])\n",
    "\n",
    "_, mels1 = operators[0].get_conn_flattened(P_list[0,:,:], sections1)\n",
    "sub1 = mels1.mean().real\n",
    "mels1 = mels1.real\n",
    "\n",
    "size = len(operators)\n",
    "\n",
    "dimer_corr = np.zeros((size,t_list.shape[0]))\n",
    "dimer_std = np.zeros((size,t_list.shape[0]))\n",
    "\n",
    "\n",
    "for s in range(size):\n",
    "    print(s)\n",
    "    \n",
    "    if operators[s]:\n",
    "        sub2 = operators[s].get_conn_flattened(P_list[0,:,:], sections1)[1].mean().real\n",
    "        _, mels2_ = operators[s].get_conn_flattened(P_list_, sections2)\n",
    "        mels2 = mels2_.reshape(P_list.shape[0], P_list.shape[1]).real\n",
    "        dimer_corr[s] = (mels2 * mels1).mean(axis=1)\n",
    "        dimer_std[s] = (mels2 * mels1).std(axis=1)\n",
    "    else:\n",
    "        dimer_corr[s] = 0\n",
    "        dimer_std[s] = 0"
   ]
  },
  {
   "cell_type": "code",
   "execution_count": 83,
   "id": "fabulous-repair",
   "metadata": {},
   "outputs": [
    {
     "data": {
      "text/plain": [
       "array([-4.91596639e-01, -4.87394958e-01, -4.76990796e-01, -4.65186074e-01,\n",
       "       -4.57382953e-01, -4.41976791e-01, -4.21568627e-01, -3.97559024e-01,\n",
       "       -3.81952781e-01, -3.60144058e-01, -3.38935574e-01, -3.23929572e-01,\n",
       "       -3.01120448e-01, -2.89915966e-01, -2.76910764e-01, -2.67507003e-01,\n",
       "       -2.56502601e-01, -2.37294918e-01, -2.20488195e-01, -2.01280512e-01,\n",
       "       -1.91676671e-01, -1.87274910e-01, -1.78271309e-01, -1.71668667e-01,\n",
       "       -1.66866747e-01, -1.59063625e-01, -1.45258103e-01, -1.42256903e-01,\n",
       "       -1.41256503e-01, -1.32052821e-01, -1.27450980e-01, -1.21248499e-01,\n",
       "       -1.15046018e-01, -1.02040816e-01, -9.20368147e-02, -8.92356943e-02,\n",
       "       -8.58343337e-02, -8.30332133e-02, -7.96318527e-02, -7.32292917e-02,\n",
       "       -6.48259304e-02, -5.54221689e-02, -5.60224090e-02, -5.54221689e-02,\n",
       "       -5.58223289e-02, -5.82232893e-02, -5.06202481e-02, -4.34173669e-02,\n",
       "       -3.34133653e-02, -3.48139256e-02, -3.42136855e-02, -3.04121649e-02,\n",
       "       -2.96118447e-02, -2.42096839e-02, -2.66106443e-02, -2.60104042e-02,\n",
       "       -2.30092037e-02, -2.40096038e-02, -2.84113645e-02, -2.50100040e-02,\n",
       "       -2.62104842e-02, -2.82112845e-02, -2.06082433e-02, -2.26090436e-02,\n",
       "       -2.88115246e-02, -2.52100840e-02, -2.38095238e-02, -2.18087235e-02,\n",
       "       -2.00080032e-02, -1.92076831e-02, -2.12084834e-02, -1.94077631e-02,\n",
       "       -1.14045618e-02, -1.62064826e-02, -1.52060824e-02, -8.60344138e-03,\n",
       "       -5.00200080e-03, -9.40376150e-03, -1.12044818e-02, -1.54061625e-02,\n",
       "       -8.00320128e-03, -8.60344138e-03, -1.32052821e-02, -1.06042417e-02,\n",
       "       -1.54061625e-02, -2.36094438e-02, -2.00080032e-02, -2.04081633e-02,\n",
       "       -1.98079232e-02, -1.64065626e-02, -1.74069628e-02, -2.12084834e-02,\n",
       "       -3.12124850e-02, -1.98079232e-02, -1.68067227e-02, -1.58063225e-02,\n",
       "       -1.26050420e-02, -1.04041617e-02, -1.58063225e-02, -1.36054422e-02,\n",
       "       -9.40376150e-03, -1.34053621e-02, -1.58063225e-02, -1.26050420e-02,\n",
       "       -1.46058423e-02, -1.46058423e-02, -1.64065626e-02, -1.46058423e-02,\n",
       "       -1.28051220e-02, -1.66066427e-02, -1.70068027e-02, -1.56062425e-02,\n",
       "       -1.02040816e-02, -7.60304122e-03, -1.62064826e-02, -1.36054422e-02,\n",
       "       -4.60184074e-03, -8.60344138e-03, -8.00320128e-03,  2.00080032e-04,\n",
       "       -3.60144058e-03,  2.80112045e-03, -3.40136054e-03, -8.00320128e-04,\n",
       "       -2.00080032e-03, -1.20048019e-03,  8.00320128e-04, -2.00080032e-03,\n",
       "       -9.60384154e-03, -1.84073629e-02, -2.32092837e-02, -1.94077631e-02,\n",
       "       -1.56062425e-02, -1.26050420e-02, -1.80072029e-02, -1.72068828e-02,\n",
       "       -2.12084834e-02, -2.24089636e-02, -2.22088836e-02, -2.16086435e-02,\n",
       "       -2.02080832e-02, -1.60064026e-02, -1.44057623e-02, -1.64065626e-02,\n",
       "       -2.30092037e-02, -1.60064026e-02, -1.28051220e-02, -3.80152061e-03,\n",
       "       -6.40256102e-03,  6.00240096e-04,  3.60144058e-03,  1.80072029e-03,\n",
       "       -5.00200080e-03, -1.10044018e-02, -5.20208083e-03,  1.20048019e-03,\n",
       "        1.60064026e-03, -8.00320128e-04,  3.40136054e-03, -3.00120048e-03,\n",
       "       -4.40176070e-03, -9.20368147e-03,  6.00240096e-04,  6.20248099e-03,\n",
       "        4.00160064e-03,  3.80152061e-03, -1.04041617e-02, -1.16046419e-02,\n",
       "       -9.80392157e-03, -3.40136054e-03,  6.00240096e-04,  5.20208083e-03,\n",
       "        3.00120048e-03, -5.40216086e-03, -1.82072829e-02, -1.68067227e-02,\n",
       "       -1.10044018e-02, -1.40056022e-02, -1.32052821e-02, -9.80392157e-03,\n",
       "       -8.00320128e-03, -1.02040816e-02, -9.80392157e-03, -4.00160064e-03,\n",
       "       -8.00320128e-04, -4.00160064e-03, -3.60144058e-03, -2.40096038e-03,\n",
       "        4.00160064e-03,  1.20048019e-03, -1.80072029e-03, -4.40176070e-03,\n",
       "       -8.00320128e-04, -2.80112045e-03, -2.00080032e-04,  4.60184074e-03,\n",
       "       -8.00320128e-04, -2.00080032e-04, -5.20208083e-03, -2.80112045e-03])"
      ]
     },
     "execution_count": 83,
     "metadata": {},
     "output_type": "execute_result"
    }
   ],
   "source": [
    "dimer_corr[4]"
   ]
  },
  {
   "cell_type": "code",
   "execution_count": 84,
   "id": "voluntary-cuisine",
   "metadata": {},
   "outputs": [],
   "source": [
    "_, mels2_ = operators[1].get_conn_flattened(P_list_, sections2)\n",
    "mels2 = mels2_.reshape(P_list.shape[0], P_list.shape[1]).real"
   ]
  },
  {
   "cell_type": "code",
   "execution_count": 85,
   "id": "lesbian-editing",
   "metadata": {},
   "outputs": [
    {
     "data": {
      "text/plain": [
       "array([-1., -1., -1., -1.,  1., -1.,  1., -1.])"
      ]
     },
     "execution_count": 85,
     "metadata": {},
     "output_type": "execute_result"
    }
   ],
   "source": [
    "samples_state[0]"
   ]
  },
  {
   "cell_type": "code",
   "execution_count": 86,
   "id": "impressive-simple",
   "metadata": {
    "scrolled": true
   },
   "outputs": [
    {
     "data": {
      "text/plain": [
       "(array([[ 1,  1,  1,  1, -1, -1, -1, -1],\n",
       "        [ 1, -1,  1, -1, -1, -1, -1, -1],\n",
       "        [ 1,  1,  1,  1, -1,  1, -1,  1]], dtype=int8),\n",
       " array([ 0.+0.j, -1.+0.j, -1.+0.j]))"
      ]
     },
     "execution_count": 86,
     "metadata": {},
     "output_type": "execute_result"
    }
   ],
   "source": [
    "op_transition.get_conn_flattened(hex_.num_to_state(240).reshape(1,-1), sections1[0].reshape(1))"
   ]
  },
  {
   "cell_type": "markdown",
   "id": "color-wells",
   "metadata": {},
   "source": [
    "## calculate exact value\n",
    "\n",
    "\n",
    "$\\langle 0 \\vert  \\sigma_0 e^{-H\\tau} \\sigma_0 \\vert 0 \\rangle$"
   ]
  },
  {
   "cell_type": "code",
   "execution_count": 87,
   "id": "athletic-accused",
   "metadata": {},
   "outputs": [],
   "source": [
    "H = np.zeros((8,8))\n",
    "\n",
    "for i in range(8):\n",
    "    H[i,i] = 2*V\n",
    "    H[i, (i+1) % 8] = -h\n",
    "    H[i, (i-1) % 8] = -h"
   ]
  },
  {
   "cell_type": "code",
   "execution_count": 88,
   "id": "spanish-ottawa",
   "metadata": {},
   "outputs": [],
   "source": [
    "v0 = np.ones(8)\n",
    "v0 /= np.linalg.norm(v0)"
   ]
  },
  {
   "cell_type": "code",
   "execution_count": 89,
   "id": "acute-intent",
   "metadata": {},
   "outputs": [],
   "source": [
    "from scipy.linalg import expm\n",
    "\n",
    "v1 = np.copy(v0)\n",
    "v1[1:5]  *= -1\n",
    "\n",
    "exact_vison = []\n",
    "for t in t_list:\n",
    "    exact_vison.append(v1.dot(expm(-H*t)@v1))"
   ]
  },
  {
   "cell_type": "code",
   "execution_count": 90,
   "id": "determined-summit",
   "metadata": {},
   "outputs": [
    {
     "data": {
      "text/plain": [
       "array([-2.22044605e-16,  1.51494861e-03,  4.63935772e-03, -2.13080428e-03,\n",
       "       -6.05635805e-03, -2.46469397e-03, -3.76448995e-03, -1.98088679e-03,\n",
       "       -6.75089631e-04, -2.14508191e-04])"
      ]
     },
     "execution_count": 90,
     "metadata": {},
     "output_type": "execute_result"
    }
   ],
   "source": [
    "(np.array(exact_vison) - dimer_corr[0])[:10]"
   ]
  },
  {
   "cell_type": "markdown",
   "id": "worldwide-austin",
   "metadata": {},
   "source": [
    "## It seems like the expmeriment works"
   ]
  },
  {
   "cell_type": "code",
   "execution_count": 91,
   "id": "straight-disease",
   "metadata": {},
   "outputs": [],
   "source": [
    "v2 = np.copy(v0)\n",
    "v2[4:]  *= -1\n",
    "\n",
    "exact_vison2 = []\n",
    "for t in t_list:\n",
    "    exact_vison2.append(v2.dot(expm(-H*t)@v1))"
   ]
  },
  {
   "cell_type": "code",
   "execution_count": 92,
   "id": "married-complexity",
   "metadata": {},
   "outputs": [
    {
     "data": {
      "text/plain": [
       "array([-0.00840336, -0.00821716, -0.00752394, -0.00391639,  0.00633149,\n",
       "        0.01044805,  0.01022786,  0.00651994,  0.0109575 ,  0.00868987])"
      ]
     },
     "execution_count": 92,
     "metadata": {},
     "output_type": "execute_result"
    }
   ],
   "source": [
    "(np.array(exact_vison2) - dimer_corr[4])[:10]"
   ]
  },
  {
   "cell_type": "code",
   "execution_count": 93,
   "id": "silver-utility",
   "metadata": {},
   "outputs": [
    {
     "data": {
      "text/plain": [
       "array([-4.91596639e-01, -4.87394958e-01, -4.76990796e-01, -4.65186074e-01,\n",
       "       -4.57382953e-01, -4.41976791e-01, -4.21568627e-01, -3.97559024e-01,\n",
       "       -3.81952781e-01, -3.60144058e-01, -3.38935574e-01, -3.23929572e-01,\n",
       "       -3.01120448e-01, -2.89915966e-01, -2.76910764e-01, -2.67507003e-01,\n",
       "       -2.56502601e-01, -2.37294918e-01, -2.20488195e-01, -2.01280512e-01,\n",
       "       -1.91676671e-01, -1.87274910e-01, -1.78271309e-01, -1.71668667e-01,\n",
       "       -1.66866747e-01, -1.59063625e-01, -1.45258103e-01, -1.42256903e-01,\n",
       "       -1.41256503e-01, -1.32052821e-01, -1.27450980e-01, -1.21248499e-01,\n",
       "       -1.15046018e-01, -1.02040816e-01, -9.20368147e-02, -8.92356943e-02,\n",
       "       -8.58343337e-02, -8.30332133e-02, -7.96318527e-02, -7.32292917e-02,\n",
       "       -6.48259304e-02, -5.54221689e-02, -5.60224090e-02, -5.54221689e-02,\n",
       "       -5.58223289e-02, -5.82232893e-02, -5.06202481e-02, -4.34173669e-02,\n",
       "       -3.34133653e-02, -3.48139256e-02, -3.42136855e-02, -3.04121649e-02,\n",
       "       -2.96118447e-02, -2.42096839e-02, -2.66106443e-02, -2.60104042e-02,\n",
       "       -2.30092037e-02, -2.40096038e-02, -2.84113645e-02, -2.50100040e-02,\n",
       "       -2.62104842e-02, -2.82112845e-02, -2.06082433e-02, -2.26090436e-02,\n",
       "       -2.88115246e-02, -2.52100840e-02, -2.38095238e-02, -2.18087235e-02,\n",
       "       -2.00080032e-02, -1.92076831e-02, -2.12084834e-02, -1.94077631e-02,\n",
       "       -1.14045618e-02, -1.62064826e-02, -1.52060824e-02, -8.60344138e-03,\n",
       "       -5.00200080e-03, -9.40376150e-03, -1.12044818e-02, -1.54061625e-02,\n",
       "       -8.00320128e-03, -8.60344138e-03, -1.32052821e-02, -1.06042417e-02,\n",
       "       -1.54061625e-02, -2.36094438e-02, -2.00080032e-02, -2.04081633e-02,\n",
       "       -1.98079232e-02, -1.64065626e-02, -1.74069628e-02, -2.12084834e-02,\n",
       "       -3.12124850e-02, -1.98079232e-02, -1.68067227e-02, -1.58063225e-02,\n",
       "       -1.26050420e-02, -1.04041617e-02, -1.58063225e-02, -1.36054422e-02,\n",
       "       -9.40376150e-03, -1.34053621e-02, -1.58063225e-02, -1.26050420e-02,\n",
       "       -1.46058423e-02, -1.46058423e-02, -1.64065626e-02, -1.46058423e-02,\n",
       "       -1.28051220e-02, -1.66066427e-02, -1.70068027e-02, -1.56062425e-02,\n",
       "       -1.02040816e-02, -7.60304122e-03, -1.62064826e-02, -1.36054422e-02,\n",
       "       -4.60184074e-03, -8.60344138e-03, -8.00320128e-03,  2.00080032e-04,\n",
       "       -3.60144058e-03,  2.80112045e-03, -3.40136054e-03, -8.00320128e-04,\n",
       "       -2.00080032e-03, -1.20048019e-03,  8.00320128e-04, -2.00080032e-03,\n",
       "       -9.60384154e-03, -1.84073629e-02, -2.32092837e-02, -1.94077631e-02,\n",
       "       -1.56062425e-02, -1.26050420e-02, -1.80072029e-02, -1.72068828e-02,\n",
       "       -2.12084834e-02, -2.24089636e-02, -2.22088836e-02, -2.16086435e-02,\n",
       "       -2.02080832e-02, -1.60064026e-02, -1.44057623e-02, -1.64065626e-02,\n",
       "       -2.30092037e-02, -1.60064026e-02, -1.28051220e-02, -3.80152061e-03,\n",
       "       -6.40256102e-03,  6.00240096e-04,  3.60144058e-03,  1.80072029e-03,\n",
       "       -5.00200080e-03, -1.10044018e-02, -5.20208083e-03,  1.20048019e-03,\n",
       "        1.60064026e-03, -8.00320128e-04,  3.40136054e-03, -3.00120048e-03,\n",
       "       -4.40176070e-03, -9.20368147e-03,  6.00240096e-04,  6.20248099e-03,\n",
       "        4.00160064e-03,  3.80152061e-03, -1.04041617e-02, -1.16046419e-02,\n",
       "       -9.80392157e-03, -3.40136054e-03,  6.00240096e-04,  5.20208083e-03,\n",
       "        3.00120048e-03, -5.40216086e-03, -1.82072829e-02, -1.68067227e-02,\n",
       "       -1.10044018e-02, -1.40056022e-02, -1.32052821e-02, -9.80392157e-03,\n",
       "       -8.00320128e-03, -1.02040816e-02, -9.80392157e-03, -4.00160064e-03,\n",
       "       -8.00320128e-04, -4.00160064e-03, -3.60144058e-03, -2.40096038e-03,\n",
       "        4.00160064e-03,  1.20048019e-03, -1.80072029e-03, -4.40176070e-03,\n",
       "       -8.00320128e-04, -2.80112045e-03, -2.00080032e-04,  4.60184074e-03,\n",
       "       -8.00320128e-04, -2.00080032e-04, -5.20208083e-03, -2.80112045e-03])"
      ]
     },
     "execution_count": 93,
     "metadata": {},
     "output_type": "execute_result"
    }
   ],
   "source": [
    "dimer_corr[4]"
   ]
  },
  {
   "cell_type": "code",
   "execution_count": null,
   "id": "democratic-trinity",
   "metadata": {},
   "outputs": [],
   "source": []
  }
 ],
 "metadata": {
  "kernelspec": {
   "display_name": "Python 3",
   "language": "python",
   "name": "python3"
  },
  "language_info": {
   "codemirror_mode": {
    "name": "ipython",
    "version": 3
   },
   "file_extension": ".py",
   "mimetype": "text/x-python",
   "name": "python",
   "nbconvert_exporter": "python",
   "pygments_lexer": "ipython3",
   "version": "3.8.5"
  }
 },
 "nbformat": 4,
 "nbformat_minor": 5
}
