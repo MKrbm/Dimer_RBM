{
 "cells": [
  {
   "cell_type": "code",
   "execution_count": 13,
   "id": "facial-amateur",
   "metadata": {},
   "outputs": [],
   "source": [
    "import sys\n",
    "import importlib\n",
    "importlib.reload(sys)\n",
    "sys.path.insert(0,'../')\n",
    "import numpy as np\n",
    "import netket as nk\n",
    "from scripts import functions as f\n",
    "from scripts import new_dynamics \n",
    "import os\n",
    "currentpath = os.getcwd()\n",
    "parentdir = os.path.dirname(currentpath)"
   ]
  },
  {
   "cell_type": "code",
   "execution_count": 12,
   "id": "proved-taxation",
   "metadata": {},
   "outputs": [],
   "source": []
  },
  {
   "cell_type": "code",
   "execution_count": 3,
   "id": "statewide-plate",
   "metadata": {},
   "outputs": [],
   "source": [
    "from conf import *\n",
    "from numba import njit, jit"
   ]
  },
  {
   "cell_type": "code",
   "execution_count": 38,
   "id": "simplified-baghdad",
   "metadata": {
    "scrolled": true
   },
   "outputs": [],
   "source": [
    "P = np.load('/home/keisuke/Documents/Research/sshfs/DimerMaster/save/dynamics/h=1.0V=0.9l=[12, 12]/P_n=1.0e+04_0.npy')"
   ]
  },
  {
   "cell_type": "code",
   "execution_count": 39,
   "id": "inclusive-fetish",
   "metadata": {},
   "outputs": [],
   "source": [
    "T = np.load('/home/keisuke/Documents/Research/sshfs/DimerMaster/save/dynamics/h=1.0V=0.9l=[12, 12]T_n=1.0e+04.npy')"
   ]
  },
  {
   "cell_type": "code",
   "execution_count": 45,
   "id": "piano-civilian",
   "metadata": {},
   "outputs": [
    {
     "data": {
      "text/plain": [
       "array([2.38896301, 0.45164621, 2.57945529, ..., 0.49767671, 0.68352363,\n",
       "       0.32363048])"
      ]
     },
     "execution_count": 45,
     "metadata": {},
     "output_type": "execute_result"
    }
   ],
   "source": [
    "T[-1]"
   ]
  },
  {
   "cell_type": "code",
   "execution_count": 7,
   "id": "african-dispute",
   "metadata": {},
   "outputs": [],
   "source": [
    "import multiprocessing as mp\n",
    "N = samples_state.shape[0]\n",
    "queue = []\n",
    "process = []\n",
    "n = 12\n",
    "index = np.round(np.linspace(0, N, n + 1)).astype(np.int)"
   ]
  },
  {
   "cell_type": "code",
   "execution_count": 46,
   "id": "critical-offset",
   "metadata": {},
   "outputs": [],
   "source": [
    "t_list = np.arange(0, 32, 1)"
   ]
  },
  {
   "cell_type": "code",
   "execution_count": 31,
   "id": "circular-connectivity",
   "metadata": {},
   "outputs": [],
   "source": [
    "t_list = np.linspace(0,2,10**3 )"
   ]
  },
  {
   "cell_type": "code",
   "execution_count": 48,
   "id": "velvet-contest",
   "metadata": {
    "scrolled": true
   },
   "outputs": [],
   "source": [
    "@njit\n",
    "def cal_mels(P, T, t_list):\n",
    "    mels_list = np.zeros((t_list.shape[0],)+P.shape[1:] , dtype=P.dtype)\n",
    "#     num_samples = np.zeros_like(T, dtype=nb.boolean)\n",
    "#     sections = np.zeros(t_list.shape[0])\n",
    "    t_list_ = t_list.reshape(-1,1)\n",
    "\n",
    "    S = 0\n",
    "    for n in range(T.shape[0]-1):\n",
    "        \n",
    "#         A = T <= t_list[n]\n",
    "#         num_samples = np.logical_or(A, )\n",
    "#         ind1, ind2 = np.where(np.logical_xor(A[1:,:],A[:-1,:]))\n",
    "#     #     sections[n] = S\n",
    "#         n_state = ind1.shape[0]\n",
    "\n",
    "        index = np.logical_and(T[n] <= t_list_,  t_list_ < T[n+1])\n",
    "\n",
    "        for i in range(index.shape[1]):\n",
    "            mels_list[index[:,i],i] = P[n,i]\n",
    "    return mels_list"
   ]
  },
  {
   "cell_type": "code",
   "execution_count": 49,
   "id": "raised-recovery",
   "metadata": {},
   "outputs": [],
   "source": [
    "P_list= cal_mels(P, T, t_list)"
   ]
  },
  {
   "cell_type": "code",
   "execution_count": 56,
   "id": "korean-contributor",
   "metadata": {},
   "outputs": [],
   "source": [
    "zero_index = (P_list[:,:,0] == 0) "
   ]
  },
  {
   "cell_type": "code",
   "execution_count": 12,
   "id": "aerial-newton",
   "metadata": {},
   "outputs": [
    {
     "data": {
      "text/plain": [
       "(201, 9984, 288)"
      ]
     },
     "execution_count": 12,
     "metadata": {},
     "output_type": "execute_result"
    }
   ],
   "source": [
    "P_list.shape"
   ]
  },
  {
   "cell_type": "code",
   "execution_count": 24,
   "id": "featured-watershed",
   "metadata": {},
   "outputs": [
    {
     "data": {
      "text/plain": [
       "(998400, 288)"
      ]
     },
     "execution_count": 24,
     "metadata": {},
     "output_type": "execute_result"
    }
   ],
   "source": [
    "P_list.reshape(-1,P_list.shape[-1]).shape"
   ]
  },
  {
   "cell_type": "code",
   "execution_count": 57,
   "id": "minor-month",
   "metadata": {},
   "outputs": [],
   "source": [
    "P_list_ = P_list.reshape(-1,P_list.shape[-1])\n",
    "sections = np.zeros(P_list_.shape[0])"
   ]
  },
  {
   "cell_type": "code",
   "execution_count": 133,
   "id": "artificial-portfolio",
   "metadata": {},
   "outputs": [
    {
     "data": {
      "text/plain": [
       "array([10000, 10000, 10000, ...,  7996,  7975,  7952])"
      ]
     },
     "execution_count": 133,
     "metadata": {},
     "output_type": "execute_result"
    }
   ],
   "source": [
    "num_samples = (P_list[:,:,0]!=0).sum(axis=1)"
   ]
  },
  {
   "cell_type": "code",
   "execution_count": 126,
   "id": "relative-chester",
   "metadata": {},
   "outputs": [],
   "source": [
    "mels2 = mels2_.reshape(P_list.shape[0], P_list.shape[1])"
   ]
  },
  {
   "cell_type": "code",
   "execution_count": 40,
   "id": "compressed-korean",
   "metadata": {},
   "outputs": [
    {
     "data": {
      "text/plain": [
       "(16, 6, 2)"
      ]
     },
     "execution_count": 40,
     "metadata": {},
     "output_type": "execute_result"
    }
   ],
   "source": [
    "hex_.edges_from_hex_(l = hex_.all_hex_index, color=True, num =True)[0].shape"
   ]
  },
  {
   "cell_type": "code",
   "execution_count": 61,
   "id": "corrected-instrumentation",
   "metadata": {},
   "outputs": [
    {
     "data": {
      "text/plain": [
       "(array([   4,   18,   24, ..., 9970, 9972, 9977]),)"
      ]
     },
     "execution_count": 61,
     "metadata": {},
     "output_type": "execute_result"
    }
   ],
   "source": [
    "np.where(mels1!=0)"
   ]
  },
  {
   "cell_type": "code",
   "execution_count": 64,
   "id": "major-circus",
   "metadata": {},
   "outputs": [],
   "source": [
    "_, mels1 = operators[0].get_conn_flattened(P[-1,:,:], sections1)\n",
    "sub1 = mels1.mean().real\n",
    "mels1 = mels1.real"
   ]
  },
  {
   "cell_type": "code",
   "execution_count": 67,
   "id": "above-revision",
   "metadata": {},
   "outputs": [
    {
     "data": {
      "text/plain": [
       "array([[ 1, -1, -1, ..., -1, -1,  1],\n",
       "       [-1,  1,  1, ..., -1, -1, -1],\n",
       "       [-1, -1,  1, ..., -1,  1, -1],\n",
       "       ...,\n",
       "       [ 1,  1,  1, ..., -1, -1,  1],\n",
       "       [-1, -1, -1, ...,  1,  1,  1],\n",
       "       [-1, -1, -1, ..., -1,  1, -1]], dtype=int8)"
      ]
     },
     "execution_count": 67,
     "metadata": {},
     "output_type": "execute_result"
    }
   ],
   "source": [
    "P[-1,:,:]"
   ]
  },
  {
   "cell_type": "code",
   "execution_count": 69,
   "id": "useful-turkey",
   "metadata": {},
   "outputs": [],
   "source": [
    "_, mels2_ = operators[3].get_conn_flattened(P_list_, sections2)\n",
    "mels2 = mels2_.reshape(P_list.shape[0], P_list.shape[1]).real"
   ]
  },
  {
   "cell_type": "code",
   "execution_count": 76,
   "id": "intended-parent",
   "metadata": {},
   "outputs": [
    {
     "data": {
      "text/plain": [
       "(array([], dtype=int64),)"
      ]
     },
     "execution_count": 76,
     "metadata": {},
     "output_type": "execute_result"
    }
   ],
   "source": [
    "np.where(mels2[-10])"
   ]
  },
  {
   "cell_type": "code",
   "execution_count": 77,
   "id": "entitled-ensemble",
   "metadata": {
    "collapsed": true
   },
   "outputs": [
    {
     "name": "stdout",
     "output_type": "stream",
     "text": [
      "0 0\n",
      "0 1\n",
      "0 2\n"
     ]
    },
    {
     "name": "stderr",
     "output_type": "stream",
     "text": [
      "<ipython-input-77-afad5d2ed222>:47: RuntimeWarning: invalid value encountered in true_divide\n",
      "  dimer_corr[l1,l2] = (mels2 * mels1).sum(axis=1)/num_samples - sub1*sub2\n"
     ]
    },
    {
     "name": "stdout",
     "output_type": "stream",
     "text": [
      "0 3\n",
      "0 4\n",
      "0 5\n",
      "0 6\n",
      "0 7\n",
      "0 8\n",
      "0 9\n",
      "0 10\n",
      "0 11\n",
      "1 0\n",
      "1 1\n",
      "1 2\n",
      "1 3\n",
      "1 4\n",
      "1 5\n",
      "1 6\n",
      "1 7\n",
      "1 8\n",
      "1 9\n",
      "1 10\n",
      "1 11\n",
      "2 0\n",
      "2 1\n",
      "2 2\n",
      "2 3\n",
      "2 4\n",
      "2 5\n",
      "2 6\n",
      "2 7\n",
      "2 8\n",
      "2 9\n",
      "2 10\n",
      "2 11\n",
      "3 0\n",
      "3 1\n",
      "3 2\n",
      "3 3\n",
      "3 4\n",
      "3 5\n",
      "3 6\n",
      "3 7\n",
      "3 8\n",
      "3 9\n",
      "3 10\n",
      "3 11\n",
      "4 0\n",
      "4 1\n",
      "4 2\n",
      "4 3\n",
      "4 4\n",
      "4 5\n",
      "4 6\n",
      "4 7\n",
      "4 8\n",
      "4 9\n",
      "4 10\n",
      "4 11\n",
      "5 0\n",
      "5 1\n",
      "5 2\n",
      "5 3\n",
      "5 4\n",
      "5 5\n",
      "5 6\n",
      "5 7\n",
      "5 8\n",
      "5 9\n",
      "5 10\n",
      "5 11\n",
      "6 0\n",
      "6 1\n",
      "6 2\n",
      "6 3\n",
      "6 4\n",
      "6 5\n",
      "6 6\n",
      "6 7\n",
      "6 8\n",
      "6 9\n",
      "6 10\n",
      "6 11\n",
      "7 0\n",
      "7 1\n",
      "7 2\n",
      "7 3\n",
      "7 4\n",
      "7 5\n",
      "7 6\n",
      "7 7\n",
      "7 8\n",
      "7 9\n",
      "7 10\n",
      "7 11\n",
      "8 0\n",
      "8 1\n",
      "8 2\n",
      "8 3\n",
      "8 4\n",
      "8 5\n",
      "8 6\n",
      "8 7\n",
      "8 8\n",
      "8 9\n",
      "8 10\n",
      "8 11\n",
      "9 0\n",
      "9 1\n",
      "9 2\n",
      "9 3\n",
      "9 4\n",
      "9 5\n",
      "9 6\n",
      "9 7\n",
      "9 8\n",
      "9 9\n",
      "9 10\n",
      "9 11\n",
      "10 0\n",
      "10 1\n",
      "10 2\n",
      "10 3\n",
      "10 4\n",
      "10 5\n",
      "10 6\n",
      "10 7\n",
      "10 8\n",
      "10 9\n",
      "10 10\n",
      "10 11\n",
      "11 0\n",
      "11 1\n",
      "11 2\n",
      "11 3\n",
      "11 4\n",
      "11 5\n",
      "11 6\n",
      "11 7\n",
      "11 8\n",
      "11 9\n",
      "11 10\n",
      "11 11\n"
     ]
    }
   ],
   "source": [
    "length = [12, 12]\n",
    "g = nk.graph.Graph(nodes = [i for i in range(length[0] * length[1] * 2)])\n",
    "hi = nk.hilbert.Spin(s=0.5, graph=g)\n",
    "hex_ = nk.machine.new_hex(np.array(length))\n",
    "\n",
    "\n",
    "l = []\n",
    "for i in range(length[0]):\n",
    "    for j in range(length[1]):\n",
    "        l.append([i, j])\n",
    "l = np.array(l)\n",
    "a = 0\n",
    "a_ = [a for _ in range(np.prod(length))]\n",
    "a = np.array(a_)\n",
    "\n",
    "\n",
    "\n",
    "edges, colors = hex_.dimer_corr(l,a)\n",
    "operators = f.return_dimer_operator(hi, edges, colors)\n",
    "\n",
    "\n",
    "\n",
    "P_list= cal_mels(P, T, t_list)\n",
    "P_list_ = P_list.reshape(-1,P_list.shape[-1])\n",
    "num_samples = (P_list[:,:,0]!=0).sum(axis=1)\n",
    "\n",
    "sections1 = np.arange(P.shape[1])\n",
    "sections2 = np.zeros(P_list_.shape[0])\n",
    "\n",
    "_, mels1 = operators[0].get_conn_flattened(P[0,:,:], sections1)\n",
    "sub1 = mels1.mean().real\n",
    "mels1 = mels1.real\n",
    "\n",
    "\n",
    "dimer_corr = np.zeros((length[0],length[1],t_list.shape[0]))\n",
    "dimer_std = np.zeros((length[0],length[1],t_list.shape[0]))\n",
    "\n",
    "for l1 in range(length[0]):\n",
    "    for l2 in range(length[1]):\n",
    "        \n",
    "        print(l1,l2)\n",
    "        \n",
    "        sub2 = operators[l1 * length[1] + l2].get_conn_flattened(P[0,:,:], sections1)[1].mean().real\n",
    "        \n",
    "        _, mels2_ = operators[l1 * length[1] + l2].get_conn_flattened(P_list_, sections2)\n",
    "        mels2 = mels2_.reshape(P_list.shape[0], P_list.shape[1]).real\n",
    "        dimer_corr[l1,l2] = (mels2 * mels1).sum(axis=1)/num_samples - sub1*sub2\n",
    "        dimer_std[l1,l2] = (mels2 * mels1).std(axis=1) "
   ]
  },
  {
   "cell_type": "code",
   "execution_count": 27,
   "id": "returning-gazette",
   "metadata": {},
   "outputs": [],
   "source": [
    "mels2 = operators[1].get_conn_flattened(P_list_, sections2)[1].real.reshape(P_list.shape[0], P_list.shape[1])"
   ]
  },
  {
   "cell_type": "code",
   "execution_count": 35,
   "id": "everyday-rebate",
   "metadata": {},
   "outputs": [
    {
     "data": {
      "text/plain": [
       "array([-0.02744887, -0.02283734, -0.0176729 , -0.01520049, -0.01145983,\n",
       "       -0.0099783 , -0.00740561, -0.00804266, -0.00675654, -0.00827882,\n",
       "       -0.00532031, -0.00679535, -0.0071737 , -0.00997976, -0.00825695,\n",
       "       -0.00826282, -0.00646038, -0.00377089, -0.00449202, -0.00880852,\n",
       "       -0.00693605, -0.00658448, -0.00347626, -0.00387323,  0.00380113,\n",
       "        0.00380113,  0.00519208,  0.01202482,  0.006259  ,  0.00779342,\n",
       "        0.00703389,  0.00128677,  0.00523087,  0.00218076, -0.00180784,\n",
       "       -0.00910024, -0.00764689, -0.00472159, -0.00113308, -0.01157585,\n",
       "       -0.01020749, -0.00744887, -0.00570974, -0.00180784,  0.0392178 ,\n",
       "        0.05255113,  0.06346022,  0.07255113,  0.09019819,  0.0392178 ,\n",
       "        0.04947421,  0.06346022,  0.06346022,  0.06346022,  0.06346022,\n",
       "        0.07255113,  0.09755113,  0.09755113,  0.09755113,  0.11540828,\n",
       "        0.1392178 ,  0.1392178 ,  0.17255113, -0.02744887, -0.02744887,\n",
       "       -0.02744887, -0.02744887, -0.02744887, -0.02744887, -0.02744887,\n",
       "       -0.02744887, -0.02744887, -0.02744887, -0.02744887, -0.02744887,\n",
       "       -0.02744887, -0.02744887, -0.02744887, -0.02744887, -0.02744887,\n",
       "       -0.02744887, -0.02744887, -0.02744887, -0.02744887, -0.02744887,\n",
       "       -0.02744887, -0.02744887, -0.02744887,         nan,         nan,\n",
       "               nan,         nan,         nan,         nan,         nan,\n",
       "               nan,         nan,         nan,         nan,         nan,\n",
       "               nan,         nan,         nan,         nan,         nan,\n",
       "               nan,         nan,         nan,         nan,         nan,\n",
       "               nan,         nan,         nan,         nan,         nan,\n",
       "               nan,         nan,         nan,         nan,         nan,\n",
       "               nan,         nan,         nan,         nan,         nan,\n",
       "               nan,         nan,         nan,         nan,         nan,\n",
       "               nan,         nan,         nan,         nan,         nan,\n",
       "               nan,         nan,         nan,         nan,         nan,\n",
       "               nan,         nan,         nan,         nan,         nan,\n",
       "               nan,         nan,         nan,         nan,         nan,\n",
       "               nan,         nan,         nan,         nan,         nan,\n",
       "               nan,         nan,         nan,         nan,         nan,\n",
       "               nan,         nan,         nan,         nan,         nan,\n",
       "               nan,         nan,         nan,         nan,         nan,\n",
       "               nan,         nan,         nan,         nan,         nan,\n",
       "               nan,         nan,         nan,         nan,         nan,\n",
       "               nan,         nan,         nan,         nan,         nan,\n",
       "               nan,         nan,         nan,         nan,         nan,\n",
       "               nan,         nan,         nan,         nan,         nan,\n",
       "               nan,         nan,         nan,         nan,         nan,\n",
       "               nan])"
      ]
     },
     "execution_count": 35,
     "metadata": {},
     "output_type": "execute_result"
    }
   ],
   "source": [
    "dimer_corr[0,1]"
   ]
  },
  {
   "cell_type": "code",
   "execution_count": 38,
   "id": "endless-electronics",
   "metadata": {},
   "outputs": [],
   "source": [
    "y = np.log(dimer_corr[0,0])\n",
    "x = np.arange(y.shape[0])"
   ]
  },
  {
   "cell_type": "code",
   "execution_count": 39,
   "id": "variable-reserve",
   "metadata": {},
   "outputs": [],
   "source": [
    "from plotly import graph_objects as go"
   ]
  },
  {
   "cell_type": "code",
   "execution_count": 19,
   "id": "rapid-christianity",
   "metadata": {},
   "outputs": [],
   "source": [
    "corr = np.load(parentdir+'/save/corr/h=1.0V=0.9l=[12, 12]/n=1.0e+05_a=0.npy', allow_pickle=True)"
   ]
  },
  {
   "cell_type": "code",
   "execution_count": 37,
   "id": "frequent-battlefield",
   "metadata": {
    "scrolled": true
   },
   "outputs": [
    {
     "data": {
      "text/plain": [
       "array([0.13948817, 0.13780791, 0.13618765, 0.13448737, 0.13283711,\n",
       "       0.13115684, 0.12976662, 0.12804634, 0.12658611, 0.12494585,\n",
       "       0.12330861, 0.12142977, 0.12003395, 0.11834529, 0.11676785,\n",
       "       0.11507865, 0.11332611, 0.11176884, 0.11016684, 0.10886611,\n",
       "       0.10723404, 0.10593506, 0.10439379, 0.10298183, 0.10180217,\n",
       "       0.10036872, 0.09879864, 0.09744832, 0.09627484, 0.09503878,\n",
       "       0.09369677, 0.09246983, 0.09124847, 0.08978891, 0.08863475,\n",
       "       0.08733005, 0.08614269, 0.08501287, 0.08416451, 0.08311135,\n",
       "       0.08215694, 0.08106294, 0.07970519, 0.0786521 , 0.07766927,\n",
       "       0.07659217, 0.07565623, 0.0744346 , 0.07368558, 0.07299079,\n",
       "       0.07221516, 0.07155534, 0.07058786, 0.0698754 , 0.06906118,\n",
       "       0.06821316, 0.06743046, 0.0667573 , 0.06601627, 0.06551748,\n",
       "       0.06468428, 0.06392034, 0.06311808, 0.0626462 , 0.06230031,\n",
       "       0.06180779, 0.06140617, 0.06106246, 0.0603505 , 0.05980264,\n",
       "       0.05915265, 0.05852972, 0.05813189, 0.0581158 , 0.05719156,\n",
       "       0.05671783, 0.05603109, 0.05570857, 0.05520931, 0.05464038,\n",
       "       0.05431078, 0.0539628 , 0.05364093, 0.05332346, 0.05269884,\n",
       "       0.05225069, 0.05211626, 0.05168815, 0.05121191, 0.05139488,\n",
       "       0.05082765, 0.05032955, 0.04987337, 0.04972487, 0.04948824,\n",
       "       0.04912407, 0.04898731, 0.04858679, 0.04821431, 0.04814314,\n",
       "       0.04771713, 0.04709305, 0.04650155, 0.04618211, 0.0458874 ,\n",
       "       0.04560846, 0.04521787, 0.0449369 , 0.04495313, 0.04458327,\n",
       "       0.04453812, 0.04405673, 0.04351934, 0.04297154, 0.0423984 ,\n",
       "       0.04205384, 0.04165264, 0.04146022, 0.0415162 , 0.04106429,\n",
       "       0.04076377, 0.04051714, 0.04048287, 0.04015728, 0.03981502,\n",
       "       0.04000596, 0.04004248, 0.03978633, 0.03962415, 0.03944671,\n",
       "       0.03933987, 0.03920412, 0.03908461, 0.03890218, 0.03879009,\n",
       "       0.03841417, 0.03833858, 0.03827816, 0.03758968, 0.03781661,\n",
       "       0.03735001, 0.03707133, 0.03704841, 0.03703479, 0.03671792,\n",
       "       0.03622644, 0.03589993, 0.03557701, 0.03523285, 0.03514334,\n",
       "       0.03508794, 0.03482319, 0.03505167, 0.03527542, 0.03471357,\n",
       "       0.03403131, 0.034069  , 0.0336334 , 0.03367355, 0.03356454,\n",
       "       0.03367103, 0.0336917 , 0.03399711, 0.03437425, 0.03435387,\n",
       "       0.0343193 , 0.03425744, 0.0339056 , 0.03374766, 0.03326097,\n",
       "       0.03329025, 0.03342141, 0.03271877, 0.03310856, 0.03327929,\n",
       "       0.03305807, 0.03318358, 0.03314676, 0.03291906, 0.03267008,\n",
       "       0.03208522, 0.03215875, 0.03232482, 0.03189998, 0.0316302 ,\n",
       "       0.03147442, 0.03107804, 0.03113015, 0.03115608, 0.03109772,\n",
       "       0.03118699, 0.03144193, 0.03159533, 0.03171652, 0.03205499,\n",
       "       0.03170508, 0.03129195, 0.03090642, 0.0309369 , 0.03084401])"
      ]
     },
     "execution_count": 37,
     "metadata": {},
     "output_type": "execute_result"
    }
   ],
   "source": [
    "corr[0][0, 0]"
   ]
  },
  {
   "cell_type": "code",
   "execution_count": 33,
   "id": "running-plain",
   "metadata": {},
   "outputs": [
    {
     "data": {
      "text/plain": [
       "array([99984, 99984, 99984, 99984, 99984, 99984, 99984, 99984, 99984,\n",
       "       99984, 99982, 99981, 99978, 99970, 99961, 99953, 99933, 99916,\n",
       "       99902, 99887, 99865, 99848, 99817, 99786, 99753, 99714, 99679,\n",
       "       99628, 99571, 99531, 99470, 99404, 99332, 99247, 99166, 99048,\n",
       "       98957, 98858, 98741, 98615, 98480, 98331, 98178, 98013, 97827,\n",
       "       97649, 97460, 97285, 97097, 96874, 96666, 96443, 96213, 95994,\n",
       "       95728, 95491, 95237, 94964, 94681, 94427, 94154, 93838, 93556,\n",
       "       93249, 92942, 92628, 92295, 91989, 91644, 91305, 90988, 90661,\n",
       "       90337, 89971, 89621, 89249, 88872, 88498, 88140, 87767, 87402,\n",
       "       87017, 86650, 86214, 85816, 85386, 84968, 84559, 84121, 83726,\n",
       "       83276, 82874, 82461, 82040, 81607, 81150, 80762, 80310, 79837,\n",
       "       79413, 78949, 78487, 78010, 77578, 77130, 76662, 76211, 75751,\n",
       "       75296, 74826, 74363, 73875, 73368, 72864, 72364, 71864, 71374,\n",
       "       70910, 70465, 69971, 69463, 69013, 68537, 68058, 67591, 67093,\n",
       "       66646, 66205, 65758, 65294, 64819, 64385, 63904, 63451, 63019,\n",
       "       62503, 62002, 61531, 61034, 60581, 60096, 59647, 59192, 58759,\n",
       "       58321, 57927, 57488, 57057, 56609, 56183, 55789, 55372, 54934,\n",
       "       54519, 54115, 53679, 53212, 52826, 52403, 52009, 51644, 51222,\n",
       "       50825, 50406, 50006, 49601, 49185, 48835, 48426, 48044, 47630,\n",
       "       47252, 46877, 46513, 46188, 45799, 45444, 45063, 44723, 44396,\n",
       "       44063, 43727, 43375, 43032, 42657, 42332, 42024, 41683, 41344,\n",
       "       41013, 40715, 40423, 40118, 39836, 39512, 39208, 38925, 38603,\n",
       "       38295, 37982])"
      ]
     },
     "execution_count": 33,
     "metadata": {},
     "output_type": "execute_result"
    }
   ],
   "source": [
    "corr[3]"
   ]
  },
  {
   "cell_type": "code",
   "execution_count": 16,
   "id": "historic-paris",
   "metadata": {},
   "outputs": [
    {
     "data": {
      "text/plain": [
       "'/home/keisuke/Documents/Research/sshfs/DimerMaster'"
      ]
     },
     "execution_count": 16,
     "metadata": {},
     "output_type": "execute_result"
    }
   ],
   "source": [
    "parentdir"
   ]
  },
  {
   "cell_type": "code",
   "execution_count": 16,
   "id": "excess-hollywood",
   "metadata": {},
   "outputs": [
    {
     "ename": "NameError",
     "evalue": "name 'go' is not defined",
     "output_type": "error",
     "traceback": [
      "\u001b[0;31m---------------------------------------------------------------------------\u001b[0m",
      "\u001b[0;31mNameError\u001b[0m                                 Traceback (most recent call last)",
      "\u001b[0;32m<ipython-input-16-37f33f687d26>\u001b[0m in \u001b[0;36m<module>\u001b[0;34m\u001b[0m\n\u001b[0;32m----> 1\u001b[0;31m \u001b[0mfig\u001b[0m \u001b[0;34m=\u001b[0m \u001b[0mgo\u001b[0m\u001b[0;34m.\u001b[0m\u001b[0mFigure\u001b[0m\u001b[0;34m(\u001b[0m\u001b[0;34m)\u001b[0m\u001b[0;34m\u001b[0m\u001b[0;34m\u001b[0m\u001b[0m\n\u001b[0m\u001b[1;32m      2\u001b[0m \u001b[0my\u001b[0m \u001b[0;34m=\u001b[0m \u001b[0mnp\u001b[0m\u001b[0;34m.\u001b[0m\u001b[0mlog\u001b[0m\u001b[0;34m(\u001b[0m\u001b[0mnp\u001b[0m\u001b[0;34m.\u001b[0m\u001b[0mabs\u001b[0m\u001b[0;34m(\u001b[0m\u001b[0mdimer_corr\u001b[0m\u001b[0;34m[\u001b[0m\u001b[0;36m0\u001b[0m\u001b[0;34m,\u001b[0m\u001b[0;36m0\u001b[0m\u001b[0;34m]\u001b[0m\u001b[0;34m)\u001b[0m\u001b[0;34m)\u001b[0m\u001b[0;34m\u001b[0m\u001b[0;34m\u001b[0m\u001b[0m\n\u001b[1;32m      3\u001b[0m \u001b[0;34m\u001b[0m\u001b[0m\n\u001b[1;32m      4\u001b[0m fig.add_trace(\n\u001b[1;32m      5\u001b[0m     \u001b[0mgo\u001b[0m\u001b[0;34m.\u001b[0m\u001b[0mScatter\u001b[0m\u001b[0;34m(\u001b[0m\u001b[0mx\u001b[0m \u001b[0;34m=\u001b[0m \u001b[0mt_list\u001b[0m\u001b[0;34m,\u001b[0m \u001b[0my\u001b[0m \u001b[0;34m=\u001b[0m \u001b[0my\u001b[0m\u001b[0;34m)\u001b[0m\u001b[0;34m\u001b[0m\u001b[0;34m\u001b[0m\u001b[0m\n",
      "\u001b[0;31mNameError\u001b[0m: name 'go' is not defined"
     ]
    }
   ],
   "source": [
    "fig = go.Figure()\n",
    "y = np.log(np.abs(dimer_corr[0,0]))\n",
    "\n",
    "fig.add_trace(\n",
    "    go.Scatter(x = t_list, y = y)\n",
    ")\n",
    "fig.show()"
   ]
  },
  {
   "cell_type": "code",
   "execution_count": 47,
   "id": "moderate-synthetic",
   "metadata": {},
   "outputs": [
    {
     "data": {
      "text/plain": [
       "(12, 12, 100)"
      ]
     },
     "execution_count": 47,
     "metadata": {},
     "output_type": "execute_result"
    }
   ],
   "source": [
    "import scipy.fft as fft\n",
    "fft.fft2(dimer_corr).shape"
   ]
  },
  {
   "cell_type": "code",
   "execution_count": 52,
   "id": "cross-church",
   "metadata": {},
   "outputs": [],
   "source": [
    "a = np.arange(16).reshape(4,4)"
   ]
  },
  {
   "cell_type": "code",
   "execution_count": 54,
   "id": "micro-dispute",
   "metadata": {},
   "outputs": [
    {
     "data": {
      "text/plain": [
       "array([[120. -0.j,  -8. +8.j,  -8. -0.j,  -8. -8.j],\n",
       "       [-32.+32.j,   0. +0.j,   0. +0.j,   0. -0.j],\n",
       "       [-32. -0.j,   0. +0.j,   0. -0.j,   0. -0.j],\n",
       "       [-32.-32.j,   0. +0.j,   0. -0.j,   0. -0.j]])"
      ]
     },
     "execution_count": 54,
     "metadata": {},
     "output_type": "execute_result"
    }
   ],
   "source": [
    "fft.fft2(a)"
   ]
  },
  {
   "cell_type": "code",
   "execution_count": 65,
   "id": "checked-supplier",
   "metadata": {},
   "outputs": [
    {
     "data": {
      "text/plain": [
       "(-8-8j)"
      ]
     },
     "execution_count": 65,
     "metadata": {},
     "output_type": "execute_result"
    }
   ],
   "source": [
    "(a * np.array([1,1j,-1,-1j])).sum()"
   ]
  },
  {
   "cell_type": "code",
   "execution_count": 73,
   "id": "hydraulic-integration",
   "metadata": {},
   "outputs": [
    {
     "data": {
      "text/plain": [
       "array([0, 0, 0, 0, 0, 0, 0, 0, 0, 0, 0, 0, 0, 1, 0, 1], dtype=int8)"
      ]
     },
     "execution_count": 73,
     "metadata": {},
     "output_type": "execute_result"
    }
   ],
   "source": [
    "n = 10\n",
    "L = 16\n",
    "state = np.zeros(L, dtype=np.int8)\n",
    "for i in range(L):\n",
    "    state[i] = n // 2**(L-i)\n",
    "    n %= 2**(L-i)"
   ]
  },
  {
   "cell_type": "code",
   "execution_count": 75,
   "id": "north-parish",
   "metadata": {},
   "outputs": [],
   "source": [
    "dft_matrix = np.fft.fft(np.eye(10))"
   ]
  },
  {
   "cell_type": "code",
   "execution_count": 77,
   "id": "mounted-silence",
   "metadata": {},
   "outputs": [
    {
     "data": {
      "text/plain": [
       "array([1.+0.j, 1.+0.j, 1.+0.j, 1.+0.j, 1.+0.j, 1.+0.j, 1.+0.j, 1.+0.j,\n",
       "       1.+0.j, 1.+0.j])"
      ]
     },
     "execution_count": 77,
     "metadata": {},
     "output_type": "execute_result"
    }
   ],
   "source": [
    "dft_matrix[0]"
   ]
  }
 ],
 "metadata": {
  "kernelspec": {
   "display_name": "Python 3",
   "language": "python",
   "name": "python3"
  },
  "language_info": {
   "codemirror_mode": {
    "name": "ipython",
    "version": 3
   },
   "file_extension": ".py",
   "mimetype": "text/x-python",
   "name": "python",
   "nbconvert_exporter": "python",
   "pygments_lexer": "ipython3",
   "version": "3.8.5"
  }
 },
 "nbformat": 4,
 "nbformat_minor": 5
}
