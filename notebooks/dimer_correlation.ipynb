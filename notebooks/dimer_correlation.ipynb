{
 "cells": [
  {
   "cell_type": "code",
   "execution_count": 1,
   "id": "south-dodge",
   "metadata": {},
   "outputs": [
    {
     "name": "stderr",
     "output_type": "stream",
     "text": [
      "../scripts/functions.py:80: NumbaDeprecationWarning: The 'numba.jitclass' decorator has moved to 'numba.experimental.jitclass' to better reflect the experimental nature of the functionality. Please update your imports to accommodate this change and see https://numba.pydata.org/numba-doc/latest/reference/deprecation.html#change-of-jitclass-location for the time frame.\n",
      "  @jitclass(spec)\n"
     ]
    }
   ],
   "source": [
    "import sys\n",
    "import importlib\n",
    "importlib.reload(sys)\n",
    "sys.path.insert(0,'../')\n",
    "import numpy as np\n",
    "import netket as nk\n",
    "from scripts import functions as f\n",
    "from scripts import new_dynamics \n",
    "import os\n",
    "currentpath = os.getcwd()\n",
    "parentdir = os.path.dirname(currentpath)"
   ]
  },
  {
   "cell_type": "code",
   "execution_count": 2,
   "id": "infectious-obligation",
   "metadata": {},
   "outputs": [
    {
     "name": "stderr",
     "output_type": "stream",
     "text": [
      "../scripts/functions.py:96: NumbaDeprecationWarning: The 'numba.jitclass' decorator has moved to 'numba.experimental.jitclass' to better reflect the experimental nature of the functionality. Please update your imports to accommodate this change and see https://numba.pydata.org/numba-doc/latest/reference/deprecation.html#change-of-jitclass-location for the time frame.\n",
      "  self.diag_mels = diag_mels\n"
     ]
    },
    {
     "data": {
      "text/plain": [
       "<module 'scripts.functions' from '../scripts/functions.py'>"
      ]
     },
     "execution_count": 2,
     "metadata": {},
     "output_type": "execute_result"
    }
   ],
   "source": [
    "importlib.reload(f)"
   ]
  },
  {
   "cell_type": "code",
   "execution_count": 2,
   "id": "subsequent-generic",
   "metadata": {},
   "outputs": [],
   "source": [
    "from conf import *\n",
    "from numba import njit, jit"
   ]
  },
  {
   "cell_type": "code",
   "execution_count": 59,
   "id": "distributed-content",
   "metadata": {
    "scrolled": true
   },
   "outputs": [],
   "source": [
    "P = np.load(parentdir+'/save/dynamics/h=1.0V=0.9l=[12, 12]/P_n=1.0e+04_0.npy')\n",
    "T = np.load(parentdir+'/save/dynamics/h=1.0V=0.9l=[12, 12]/T_n=1.0e+04_0.npy')"
   ]
  },
  {
   "cell_type": "code",
   "execution_count": 61,
   "id": "identified-welsh",
   "metadata": {},
   "outputs": [
    {
     "ename": "NameError",
     "evalue": "name 'samples_state' is not defined",
     "output_type": "error",
     "traceback": [
      "\u001b[0;31m---------------------------------------------------------------------------\u001b[0m",
      "\u001b[0;31mNameError\u001b[0m                                 Traceback (most recent call last)",
      "\u001b[0;32m<ipython-input-61-af1d169051ba>\u001b[0m in \u001b[0;36m<module>\u001b[0;34m\u001b[0m\n\u001b[1;32m      1\u001b[0m \u001b[0;32mimport\u001b[0m \u001b[0mmultiprocessing\u001b[0m \u001b[0;32mas\u001b[0m \u001b[0mmp\u001b[0m\u001b[0;34m\u001b[0m\u001b[0;34m\u001b[0m\u001b[0m\n\u001b[0;32m----> 2\u001b[0;31m \u001b[0mN\u001b[0m \u001b[0;34m=\u001b[0m \u001b[0msamples_state\u001b[0m\u001b[0;34m.\u001b[0m\u001b[0mshape\u001b[0m\u001b[0;34m[\u001b[0m\u001b[0;36m0\u001b[0m\u001b[0;34m]\u001b[0m\u001b[0;34m\u001b[0m\u001b[0;34m\u001b[0m\u001b[0m\n\u001b[0m\u001b[1;32m      3\u001b[0m \u001b[0mqueue\u001b[0m \u001b[0;34m=\u001b[0m \u001b[0;34m[\u001b[0m\u001b[0;34m]\u001b[0m\u001b[0;34m\u001b[0m\u001b[0;34m\u001b[0m\u001b[0m\n\u001b[1;32m      4\u001b[0m \u001b[0mprocess\u001b[0m \u001b[0;34m=\u001b[0m \u001b[0;34m[\u001b[0m\u001b[0;34m]\u001b[0m\u001b[0;34m\u001b[0m\u001b[0;34m\u001b[0m\u001b[0m\n\u001b[1;32m      5\u001b[0m \u001b[0mn\u001b[0m \u001b[0;34m=\u001b[0m \u001b[0;36m12\u001b[0m\u001b[0;34m\u001b[0m\u001b[0;34m\u001b[0m\u001b[0m\n",
      "\u001b[0;31mNameError\u001b[0m: name 'samples_state' is not defined"
     ]
    }
   ],
   "source": [
    "import multiprocessing as mp\n",
    "N = samples_state.shape[0]\n",
    "queue = []\n",
    "process = []\n",
    "n = 12\n",
    "index = np.round(np.linspace(0, N, n + 1)).astype(np.int)"
   ]
  },
  {
   "cell_type": "code",
   "execution_count": null,
   "id": "brief-yorkshire",
   "metadata": {},
   "outputs": [],
   "source": []
  },
  {
   "cell_type": "code",
   "execution_count": 62,
   "id": "tamil-shadow",
   "metadata": {
    "scrolled": true
   },
   "outputs": [],
   "source": [
    "@njit\n",
    "def cal_mels(P, T, t_list):\n",
    "    mels_list = np.zeros((t_list.shape[0],)+P.shape[1:] , dtype=P.dtype)\n",
    "#     num_samples = np.zeros_like(T, dtype=nb.boolean)\n",
    "#     sections = np.zeros(t_list.shape[0])\n",
    "    t_list_ = t_list.reshape(-1,1)\n",
    "\n",
    "    S = 0\n",
    "    for n in range(T.shape[0]-1):\n",
    "        \n",
    "#         A = T <= t_list[n]\n",
    "#         num_samples = np.logical_or(A, )\n",
    "#         ind1, ind2 = np.where(np.logical_xor(A[1:,:],A[:-1,:]))\n",
    "#     #     sections[n] = S\n",
    "#         n_state = ind1.shape[0]\n",
    "\n",
    "        index = np.logical_and(T[n] <= t_list_,  t_list_ < T[n+1])\n",
    "\n",
    "        for i in range(index.shape[1]):\n",
    "            mels_list[index[:,i],i] = P[n,i]\n",
    "    return mels_list"
   ]
  },
  {
   "cell_type": "code",
   "execution_count": 63,
   "id": "novel-yellow",
   "metadata": {},
   "outputs": [],
   "source": [
    "length = [12, 12]\n",
    "g = nk.graph.Graph(nodes = [i for i in range(length[0] * length[1] * 2)])\n",
    "hi = nk.hilbert.Spin(s=0.5, graph=g)\n",
    "hex_ = nk.machine.new_hex(np.array(length))\n",
    "\n",
    "\n",
    "l = []\n",
    "for i in range(length[0]):\n",
    "    for j in range(length[1]):\n",
    "        l.append([i, j])\n",
    "l = np.array(l)\n",
    "a = 0\n",
    "a_ = [a for _ in range(np.prod(length))]\n",
    "a = np.array(a_)\n",
    "\n",
    "\n",
    "\n",
    "edges, colors = hex_.dimer_corr(l,a)\n",
    "operators = f.return_spin_corr(hi, edges, colors)\n",
    "\n",
    "t_list = np.linspace(0, 1, 50)\n",
    "\n",
    "P_list= cal_mels(P, T, t_list)\n",
    "P_list_ = P_list.reshape(-1,P_list.shape[-1])\n",
    "num_samples = (P_list[:,:,0]!=0).sum(axis=1)\n",
    "\n"
   ]
  },
  {
   "cell_type": "code",
   "execution_count": 64,
   "id": "according-collar",
   "metadata": {},
   "outputs": [
    {
     "data": {
      "text/plain": [
       "(50, 9984, 288)"
      ]
     },
     "execution_count": 64,
     "metadata": {},
     "output_type": "execute_result"
    }
   ],
   "source": [
    "P_list.shape"
   ]
  },
  {
   "cell_type": "code",
   "execution_count": 65,
   "id": "sealed-fantasy",
   "metadata": {
    "scrolled": true
   },
   "outputs": [
    {
     "name": "stdout",
     "output_type": "stream",
     "text": [
      "0 9\n"
     ]
    }
   ],
   "source": [
    "sections1 = np.arange(P.shape[1])\n",
    "sections2 = np.zeros(P_list_.shape[0])\n",
    "\n",
    "_, mels1 = operators[0].get_conn_flattened(P[0,:,:], sections1)\n",
    "sub1 = mels1.mean().real\n",
    "mels1 = mels1.real\n",
    "\n",
    "\n",
    "dimer_corr = np.zeros((length[0],length[1],t_list.shape[0]))\n",
    "dimer_std = np.zeros((length[0],length[1],t_list.shape[0]))\n",
    "\n",
    "# for l1 in range(length[0]):\n",
    "#     for l2 in range(length[1]):\n",
    "l1 = 0\n",
    "l2 = 9\n",
    "print(l1,l2)\n",
    "\n",
    "sub2 = operators[l1 * length[1] + l2].get_conn_flattened(P[0,:,:], sections1)[1].mean().real\n",
    "\n",
    "_, mels2_ = operators[l1 * length[1] + l2].get_conn_flattened(P_list_, sections2)\n",
    "mels2 = mels2_.reshape(P_list.shape[0], P_list.shape[1]).real\n",
    "dimer_corr[l1,l2] = (mels2 * mels1).sum(axis=1)/num_samples - sub1*sub2\n",
    "dimer_std[l1,l2] = (mels2 * mels1).std(axis=1) "
   ]
  },
  {
   "cell_type": "code",
   "execution_count": 66,
   "id": "physical-silver",
   "metadata": {},
   "outputs": [
    {
     "data": {
      "text/plain": [
       "0.02751068376068376"
      ]
     },
     "execution_count": 66,
     "metadata": {},
     "output_type": "execute_result"
    }
   ],
   "source": [
    "sub1*sub2"
   ]
  },
  {
   "cell_type": "code",
   "execution_count": 67,
   "id": "magnetic-dryer",
   "metadata": {},
   "outputs": [
    {
     "data": {
      "text/plain": [
       "array([0.02654247, 0.02734375, 0.02804487, 0.02814503, 0.02834535,\n",
       "       0.02924679, 0.02984776, 0.0302484 , 0.03084936, 0.03125313,\n",
       "       0.03156313, 0.0323842 , 0.032999  , 0.03381497, 0.03443775,\n",
       "       0.03535556, 0.0360804 , 0.03662709, 0.03686914, 0.03762356,\n",
       "       0.03877613, 0.03965203, 0.03964311, 0.04014228, 0.04126337,\n",
       "       0.04178159, 0.04260549, 0.04316547, 0.04343789, 0.04332055,\n",
       "       0.04329725, 0.04330091, 0.04340497, 0.04332627, 0.04337632,\n",
       "       0.04408452, 0.04398098, 0.0445943 , 0.04461741, 0.04528885,\n",
       "       0.04521098, 0.04521935, 0.04616083, 0.04699291, 0.04763552,\n",
       "       0.04774103, 0.04734492, 0.04724036, 0.04724787, 0.04787879])"
      ]
     },
     "execution_count": 67,
     "metadata": {},
     "output_type": "execute_result"
    }
   ],
   "source": [
    "(mels2 * mels1).sum(axis=1)/num_samples"
   ]
  },
  {
   "cell_type": "code",
   "execution_count": 29,
   "id": "statutory-webster",
   "metadata": {},
   "outputs": [
    {
     "data": {
      "text/plain": [
       "0.027656831057897763"
      ]
     },
     "execution_count": 29,
     "metadata": {},
     "output_type": "execute_result"
    }
   ],
   "source": [
    "sub1*sub2"
   ]
  },
  {
   "cell_type": "code",
   "execution_count": 68,
   "id": "nominated-zealand",
   "metadata": {},
   "outputs": [
    {
     "data": {
      "text/plain": [
       "array([9984, 9984, 9984, 9984, 9984, 9984, 9984, 9984, 9984, 9983, 9980,\n",
       "       9974, 9970, 9966, 9960, 9956, 9950, 9938, 9927, 9914, 9903, 9886,\n",
       "       9863, 9840, 9815, 9789, 9764, 9730, 9692, 9649, 9608, 9561, 9492,\n",
       "       9440, 9383, 9323, 9254, 9194, 9122, 9053, 8958, 8890, 8817, 8746,\n",
       "       8670, 8588, 8512, 8425, 8339, 8250])"
      ]
     },
     "execution_count": 68,
     "metadata": {},
     "output_type": "execute_result"
    }
   ],
   "source": [
    "num_samples"
   ]
  },
  {
   "cell_type": "code",
   "execution_count": 11,
   "id": "bronze-fairy",
   "metadata": {
    "scrolled": true
   },
   "outputs": [
    {
     "data": {
      "text/plain": [
       "array([-1.00325786e-03, -1.10341811e-03, -9.03097600e-04, -1.20357837e-03,\n",
       "       -1.20357837e-03, -1.20357837e-03, -8.02937344e-04, -9.03097600e-04,\n",
       "       -9.03097600e-04, -1.30373863e-03, -1.20357837e-03, -1.10078945e-03,\n",
       "       -1.19834058e-03, -1.19572089e-03, -1.29330108e-03, -1.08763821e-03,\n",
       "       -1.18261460e-03, -9.79490506e-04, -9.79490506e-04, -1.27501524e-03,\n",
       "       -1.16686969e-03, -8.65966978e-04, -9.55680227e-04, -1.24884803e-03,\n",
       "       -1.04018441e-03, -9.37131370e-04, -8.31395049e-04, -7.20267143e-04,\n",
       "       -5.08537266e-04, -6.80080278e-04, -7.64656199e-04, -8.41323866e-04,\n",
       "       -1.02430808e-03, -1.30584130e-03, -1.08277903e-03, -1.56178547e-03,\n",
       "       -1.54352327e-03, -1.71736639e-03, -1.17642264e-03, -1.56122095e-03,\n",
       "       -1.63663586e-03, -1.70177041e-03, -1.56327954e-03, -1.73054663e-03,\n",
       "       -1.59170064e-03, -1.85139485e-03, -1.48864354e-03, -1.12432560e-03,\n",
       "       -1.06758171e-03, -7.87587787e-04, -7.46357477e-04, -8.95866863e-04,\n",
       "       -1.34706919e-03, -2.10025612e-03, -1.50588233e-03, -1.33323831e-03,\n",
       "       -1.57763079e-03, -1.92614572e-03, -1.63384038e-03, -1.67718298e-03,\n",
       "       -1.60072444e-03, -1.93705684e-03, -1.94075313e-03, -1.84233847e-03,\n",
       "       -1.98660525e-03, -2.02894960e-03, -2.04132189e-03, -2.29639636e-03,\n",
       "       -2.07741142e-03, -1.98030153e-03, -1.99267161e-03, -2.01074438e-03,\n",
       "       -1.80120272e-03, -2.02753779e-03, -1.60681980e-03, -1.60928482e-03,\n",
       "       -1.38603735e-03, -1.26830779e-03, -1.06554181e-03, -1.13503560e-03,\n",
       "       -1.15356152e-03, -1.15712657e-03, -1.17285173e-03, -1.19477768e-03,\n",
       "       -1.27268227e-03, -1.13169893e-03, -6.56694853e-04, -1.54714245e-04,\n",
       "       -3.95727258e-04, -2.50332759e-04, -1.06644295e-04, -1.93890141e-04,\n",
       "        7.02155188e-05, -6.92300755e-06, -8.16500497e-05, -6.70419945e-05,\n",
       "       -2.98166105e-04,  1.05992248e-05, -7.95633336e-05,  3.37134390e-04,\n",
       "       -1.46262378e-05, -6.34219984e-04, -4.78962513e-04, -6.97803577e-04,\n",
       "       -4.38404248e-04, -6.66472450e-04, -3.50566071e-04, -5.56121006e-04,\n",
       "       -6.41164820e-04, -3.32979577e-04, -4.43231380e-04, -6.18431608e-04,\n",
       "       -3.22104590e-04, -1.53396414e-04, -3.07077767e-04, -3.90470574e-04,\n",
       "       -6.54259974e-04, -6.37066040e-04, -4.65222279e-04, -4.11803103e-04,\n",
       "       -6.78738626e-04, -7.87693342e-04, -9.90870546e-04, -9.63309546e-04,\n",
       "       -1.26881462e-03, -1.12424857e-03, -1.24401724e-03, -2.00397889e-03,\n",
       "       -1.82194511e-03, -2.41082010e-03, -2.40736316e-03, -2.53267121e-03,\n",
       "       -2.96283490e-03, -2.83172508e-03, -2.83872165e-03, -3.14280872e-03,\n",
       "       -2.96303810e-03, -3.14530784e-03, -3.25494315e-03, -3.55161811e-03,\n",
       "       -3.56359921e-03, -3.56777636e-03, -3.56399190e-03, -3.67374317e-03,\n",
       "       -3.48274435e-03, -3.49473125e-03, -3.66027816e-03, -4.19969251e-03,\n",
       "       -3.84717208e-03, -3.99424665e-03, -4.34450682e-03, -4.35481876e-03,\n",
       "       -3.80096288e-03, -3.81166747e-03, -3.59772440e-03, -3.60264964e-03,\n",
       "       -3.80491565e-03, -3.25130550e-03, -3.10413788e-03, -3.71882058e-03,\n",
       "       -3.52204678e-03, -3.31727480e-03, -3.31546635e-03, -3.09093213e-03,\n",
       "       -2.48574210e-03, -2.95516139e-03, -3.13873320e-03, -3.37981742e-03,\n",
       "       -3.24157340e-03, -3.07658140e-03, -3.14344410e-03, -3.15016018e-03,\n",
       "       -3.39965407e-03, -3.64265065e-03, -3.46416605e-03, -3.30381985e-03,\n",
       "       -3.09900949e-03, -3.33659472e-03, -3.11241285e-03, -2.61518947e-03,\n",
       "       -2.00030459e-03, -2.08368476e-03, -1.91585203e-03, -1.48532679e-03,\n",
       "       -1.51342950e-03, -1.77055780e-03, -1.76511159e-03, -1.36209182e-03,\n",
       "       -7.13927366e-04, -5.07881115e-04, -3.05210408e-04, -8.03257345e-04,\n",
       "       -8.86453760e-04, -1.16086664e-03, -1.24753829e-03, -7.63126812e-04,\n",
       "       -5.39176036e-04, -6.03312210e-04, -4.09378357e-04, -7.06596204e-04])"
      ]
     },
     "execution_count": 11,
     "metadata": {},
     "output_type": "execute_result"
    }
   ],
   "source": [
    "corr[0][0, 4]"
   ]
  },
  {
   "cell_type": "code",
   "execution_count": 12,
   "id": "circular-prairie",
   "metadata": {},
   "outputs": [
    {
     "data": {
      "text/plain": [
       "array([9984, 9984, 9984, 9984, 9984, 9984, 9984, 9984, 9984, 9984, 9984,\n",
       "       9983, 9982, 9981, 9980, 9978, 9976, 9975, 9975, 9973, 9970, 9970,\n",
       "       9966, 9963, 9960, 9959, 9957, 9953, 9949, 9938, 9932, 9923, 9916,\n",
       "       9908, 9900, 9890, 9883, 9872, 9859, 9851, 9841, 9827, 9813, 9799,\n",
       "       9785, 9767, 9746, 9725, 9704, 9677, 9662, 9641, 9616, 9586, 9559,\n",
       "       9534, 9508, 9481, 9451, 9428, 9400, 9367, 9329, 9293, 9267, 9243,\n",
       "       9208, 9182, 9142, 9107, 9072, 9039, 9004, 8966, 8936, 8898, 8860,\n",
       "       8820, 8790, 8737, 8705, 8668, 8635, 8604, 8553, 8507, 8468, 8422,\n",
       "       8386, 8341, 8297, 8250, 8207, 8157, 8106, 8065, 8023, 7969, 7922,\n",
       "       7875, 7830, 7787, 7742, 7693, 7656, 7609, 7557, 7503, 7452, 7404,\n",
       "       7360, 7296, 7253, 7208, 7175, 7123, 7081, 7039, 6994, 6943, 6900,\n",
       "       6853, 6792, 6747, 6711, 6674, 6628, 6590, 6543, 6497, 6456, 6408,\n",
       "       6357, 6323, 6284, 6239, 6193, 6157, 6102, 6052, 6013, 5972, 5929,\n",
       "       5872, 5825, 5786, 5742, 5703, 5660, 5610, 5565, 5524, 5479, 5439,\n",
       "       5390, 5349, 5310, 5271, 5239, 5206, 5163, 5119, 5077, 5030, 4988,\n",
       "       4961, 4916, 4882, 4854, 4821, 4793, 4753, 4719, 4683, 4648, 4617,\n",
       "       4578, 4540, 4498, 4448, 4419, 4394, 4365, 4331, 4297, 4262, 4222,\n",
       "       4195, 4168, 4136, 4105, 4069, 4044, 4010, 3985, 3950, 3917, 3889,\n",
       "       3861, 3829])"
      ]
     },
     "execution_count": 12,
     "metadata": {},
     "output_type": "execute_result"
    }
   ],
   "source": [
    "corr[3]"
   ]
  },
  {
   "cell_type": "code",
   "execution_count": 16,
   "id": "unusual-sculpture",
   "metadata": {},
   "outputs": [
    {
     "data": {
      "text/plain": [
       "'/home/keisuke/Documents/Research/sshfs/DimerMaster'"
      ]
     },
     "execution_count": 16,
     "metadata": {},
     "output_type": "execute_result"
    }
   ],
   "source": [
    "parentdir"
   ]
  },
  {
   "cell_type": "code",
   "execution_count": 16,
   "id": "multiple-horse",
   "metadata": {},
   "outputs": [
    {
     "ename": "NameError",
     "evalue": "name 'go' is not defined",
     "output_type": "error",
     "traceback": [
      "\u001b[0;31m---------------------------------------------------------------------------\u001b[0m",
      "\u001b[0;31mNameError\u001b[0m                                 Traceback (most recent call last)",
      "\u001b[0;32m<ipython-input-16-37f33f687d26>\u001b[0m in \u001b[0;36m<module>\u001b[0;34m\u001b[0m\n\u001b[0;32m----> 1\u001b[0;31m \u001b[0mfig\u001b[0m \u001b[0;34m=\u001b[0m \u001b[0mgo\u001b[0m\u001b[0;34m.\u001b[0m\u001b[0mFigure\u001b[0m\u001b[0;34m(\u001b[0m\u001b[0;34m)\u001b[0m\u001b[0;34m\u001b[0m\u001b[0;34m\u001b[0m\u001b[0m\n\u001b[0m\u001b[1;32m      2\u001b[0m \u001b[0my\u001b[0m \u001b[0;34m=\u001b[0m \u001b[0mnp\u001b[0m\u001b[0;34m.\u001b[0m\u001b[0mlog\u001b[0m\u001b[0;34m(\u001b[0m\u001b[0mnp\u001b[0m\u001b[0;34m.\u001b[0m\u001b[0mabs\u001b[0m\u001b[0;34m(\u001b[0m\u001b[0mdimer_corr\u001b[0m\u001b[0;34m[\u001b[0m\u001b[0;36m0\u001b[0m\u001b[0;34m,\u001b[0m\u001b[0;36m0\u001b[0m\u001b[0;34m]\u001b[0m\u001b[0;34m)\u001b[0m\u001b[0;34m)\u001b[0m\u001b[0;34m\u001b[0m\u001b[0;34m\u001b[0m\u001b[0m\n\u001b[1;32m      3\u001b[0m \u001b[0;34m\u001b[0m\u001b[0m\n\u001b[1;32m      4\u001b[0m fig.add_trace(\n\u001b[1;32m      5\u001b[0m     \u001b[0mgo\u001b[0m\u001b[0;34m.\u001b[0m\u001b[0mScatter\u001b[0m\u001b[0;34m(\u001b[0m\u001b[0mx\u001b[0m \u001b[0;34m=\u001b[0m \u001b[0mt_list\u001b[0m\u001b[0;34m,\u001b[0m \u001b[0my\u001b[0m \u001b[0;34m=\u001b[0m \u001b[0my\u001b[0m\u001b[0;34m)\u001b[0m\u001b[0;34m\u001b[0m\u001b[0;34m\u001b[0m\u001b[0m\n",
      "\u001b[0;31mNameError\u001b[0m: name 'go' is not defined"
     ]
    }
   ],
   "source": [
    "fig = go.Figure()\n",
    "y = np.log(np.abs(dimer_corr[0,0]))\n",
    "\n",
    "fig.add_trace(\n",
    "    go.Scatter(x = t_list, y = y)\n",
    ")\n",
    "fig.show()"
   ]
  },
  {
   "cell_type": "code",
   "execution_count": 71,
   "id": "constant-plate",
   "metadata": {},
   "outputs": [
    {
     "data": {
      "text/plain": [
       "array([0.        , 0.02040816, 0.04081633, 0.06122449, 0.08163265,\n",
       "       0.10204082, 0.12244898, 0.14285714, 0.16326531, 0.18367347,\n",
       "       0.20408163, 0.2244898 , 0.24489796, 0.26530612, 0.28571429,\n",
       "       0.30612245, 0.32653061, 0.34693878, 0.36734694, 0.3877551 ,\n",
       "       0.40816327, 0.42857143, 0.44897959, 0.46938776, 0.48979592,\n",
       "       0.51020408, 0.53061224, 0.55102041, 0.57142857, 0.59183673,\n",
       "       0.6122449 , 0.63265306, 0.65306122, 0.67346939, 0.69387755,\n",
       "       0.71428571, 0.73469388, 0.75510204, 0.7755102 , 0.79591837,\n",
       "       0.81632653, 0.83673469, 0.85714286, 0.87755102, 0.89795918,\n",
       "       0.91836735, 0.93877551, 0.95918367, 0.97959184, 1.        ])"
      ]
     },
     "execution_count": 71,
     "metadata": {},
     "output_type": "execute_result"
    }
   ],
   "source": [
    "t_list"
   ]
  },
  {
   "cell_type": "code",
   "execution_count": 72,
   "id": "noble-chocolate",
   "metadata": {},
   "outputs": [
    {
     "data": {
      "text/plain": [
       "array([False,  True,  True,  True,  True,  True,  True,  True,  True,\n",
       "        True,  True,  True,  True,  True,  True,  True,  True,  True,\n",
       "        True,  True,  True,  True,  True,  True,  True,  True,  True,\n",
       "        True,  True,  True,  True,  True,  True,  True,  True,  True,\n",
       "        True,  True,  True,  True,  True,  True,  True,  True,  True,\n",
       "        True,  True,  True,  True, False])"
      ]
     },
     "execution_count": 72,
     "metadata": {},
     "output_type": "execute_result"
    }
   ],
   "source": [
    "np.logical_and(0<t_list, t_list<1)"
   ]
  },
  {
   "cell_type": "code",
   "execution_count": 52,
   "id": "electrical-yeast",
   "metadata": {},
   "outputs": [],
   "source": [
    "a = np.arange(16).reshape(4,4)"
   ]
  },
  {
   "cell_type": "code",
   "execution_count": 54,
   "id": "prostate-awareness",
   "metadata": {},
   "outputs": [
    {
     "data": {
      "text/plain": [
       "array([[120. -0.j,  -8. +8.j,  -8. -0.j,  -8. -8.j],\n",
       "       [-32.+32.j,   0. +0.j,   0. +0.j,   0. -0.j],\n",
       "       [-32. -0.j,   0. +0.j,   0. -0.j,   0. -0.j],\n",
       "       [-32.-32.j,   0. +0.j,   0. -0.j,   0. -0.j]])"
      ]
     },
     "execution_count": 54,
     "metadata": {},
     "output_type": "execute_result"
    }
   ],
   "source": [
    "fft.fft2(a)"
   ]
  },
  {
   "cell_type": "code",
   "execution_count": 65,
   "id": "patient-conclusion",
   "metadata": {},
   "outputs": [
    {
     "data": {
      "text/plain": [
       "(-8-8j)"
      ]
     },
     "execution_count": 65,
     "metadata": {},
     "output_type": "execute_result"
    }
   ],
   "source": [
    "(a * np.array([1,1j,-1,-1j])).sum()"
   ]
  },
  {
   "cell_type": "code",
   "execution_count": 73,
   "id": "brilliant-monaco",
   "metadata": {},
   "outputs": [
    {
     "data": {
      "text/plain": [
       "array([0, 0, 0, 0, 0, 0, 0, 0, 0, 0, 0, 0, 0, 1, 0, 1], dtype=int8)"
      ]
     },
     "execution_count": 73,
     "metadata": {},
     "output_type": "execute_result"
    }
   ],
   "source": [
    "n = 10\n",
    "L = 16\n",
    "state = np.zeros(L, dtype=np.int8)\n",
    "for i in range(L):\n",
    "    state[i] = n // 2**(L-i)\n",
    "    n %= 2**(L-i)"
   ]
  },
  {
   "cell_type": "code",
   "execution_count": 75,
   "id": "revised-texture",
   "metadata": {},
   "outputs": [],
   "source": [
    "dft_matrix = np.fft.fft(np.eye(10))"
   ]
  },
  {
   "cell_type": "code",
   "execution_count": 77,
   "id": "exempt-hamilton",
   "metadata": {},
   "outputs": [
    {
     "data": {
      "text/plain": [
       "array([1.+0.j, 1.+0.j, 1.+0.j, 1.+0.j, 1.+0.j, 1.+0.j, 1.+0.j, 1.+0.j,\n",
       "       1.+0.j, 1.+0.j])"
      ]
     },
     "execution_count": 77,
     "metadata": {},
     "output_type": "execute_result"
    }
   ],
   "source": [
    "dft_matrix[0]"
   ]
  }
 ],
 "metadata": {
  "kernelspec": {
   "display_name": "Python 3",
   "language": "python",
   "name": "python3"
  },
  "language_info": {
   "codemirror_mode": {
    "name": "ipython",
    "version": 3
   },
   "file_extension": ".py",
   "mimetype": "text/x-python",
   "name": "python",
   "nbconvert_exporter": "python",
   "pygments_lexer": "ipython3",
   "version": "3.8.5"
  }
 },
 "nbformat": 4,
 "nbformat_minor": 5
}
