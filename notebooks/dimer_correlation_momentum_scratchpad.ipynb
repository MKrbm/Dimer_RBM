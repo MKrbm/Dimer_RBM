{
 "cells": [
  {
   "cell_type": "code",
   "execution_count": 1,
   "id": "banned-narrow",
   "metadata": {
    "scrolled": true
   },
   "outputs": [],
   "source": [
    "import sys\n",
    "import importlib\n",
    "sys.path.insert(0,'../')\n",
    "import numpy as np\n",
    "import netket as nk\n",
    "from scripts import functions as f\n",
    "importlib.reload(f)\n",
    "\n",
    "from scripts import new_dynamics, new_dynamics2\n",
    "import os\n",
    "currentpath = os.getcwd()\n",
    "parentdir = os.path.dirname(currentpath)"
   ]
  },
  {
   "cell_type": "code",
   "execution_count": 2,
   "id": "a2094ecc",
   "metadata": {},
   "outputs": [],
   "source": [
    "from scripts import Dimer_RBM"
   ]
  },
  {
   "cell_type": "code",
   "execution_count": 3,
   "id": "stupid-surface",
   "metadata": {},
   "outputs": [
    {
     "name": "stdout",
     "output_type": "stream",
     "text": [
      "yoyo\n",
      "2\n"
     ]
    }
   ],
   "source": [
    "length=[4, 4]\n",
    "V = 1.0\n",
    "h = 1.0\n",
    "g = nk.graph.Graph(nodes = [i for i in range(length[0] * length[1] * 2)])\n",
    "hi = nk.hilbert.Spin(s=0.5, graph=g)\n",
    "\n",
    "\n",
    "ham = f.dimer_hamiltonian(V = V, h = h ,length=np.array(length))\n",
    "op_transition1 = f.dimer_flip1(length = np.array(length))\n",
    "\n",
    "\n",
    "hex_ = nk.machine.new_hex(np.array(length))\n",
    "\n",
    "ma = nk.machine.RbmDimer(hi, hex_, alpha = 2, symmetry = True\n",
    "                    ,use_hidden_bias = False, use_visible_bias = False, dtype=float, reverse=True, half=True)\n",
    "ma.init_random_parameters(seed=1234)"
   ]
  },
  {
   "cell_type": "code",
   "execution_count": 4,
   "id": "unknown-morocco",
   "metadata": {},
   "outputs": [],
   "source": [
    "ma._ws[:] = 0"
   ]
  },
  {
   "cell_type": "code",
   "execution_count": 5,
   "id": "hawaiian-divide",
   "metadata": {},
   "outputs": [],
   "source": [
    "ma._set_bare_parameters(\n",
    "    ma._a, ma._b, ma._w, ma._as, ma._bs, ma._ws, ma._autom, ma._z2\n",
    ")"
   ]
  },
  {
   "cell_type": "code",
   "execution_count": 6,
   "id": "wrong-transcription",
   "metadata": {},
   "outputs": [],
   "source": [
    "# N = 1000000\n",
    "# temp = np.random.choice([-1,1],hex_.size*N).reshape(N, hex_.size)\n",
    "# ind = hex_.is_dimer_basis(temp)"
   ]
  },
  {
   "cell_type": "code",
   "execution_count": 7,
   "id": "monetary-microwave",
   "metadata": {},
   "outputs": [
    {
     "name": "stdout",
     "output_type": "stream",
     "text": [
      "yoyo\n",
      "number of core : 4\n"
     ]
    },
    {
     "data": {
      "text/plain": [
       "array([[[-1., -1., -1., ..., -1., -1., -1.]],\n",
       "\n",
       "       [[-1.,  1.,  1., ...,  1.,  1.,  1.]],\n",
       "\n",
       "       [[-1., -1.,  1., ..., -1., -1., -1.]],\n",
       "\n",
       "       ...,\n",
       "\n",
       "       [[ 1.,  1., -1., ...,  1.,  1., -1.]],\n",
       "\n",
       "       [[-1., -1., -1., ..., -1., -1., -1.]],\n",
       "\n",
       "       [[-1., -1.,  1., ..., -1., -1.,  1.]]])"
      ]
     },
     "execution_count": 7,
     "metadata": {},
     "output_type": "execute_result"
    }
   ],
   "source": [
    "\n",
    "# create save folder.\n",
    "\n",
    "\n",
    "n_jobs = 4\n",
    "\n",
    "g = nk.graph.Graph(nodes = [i for i in range(length[0] * length[1] * 2)])\n",
    "hi = nk.hilbert.Spin(s=0.5, graph=g)\n",
    "\n",
    "op = f.dimer_hamiltonian(h, V,np.array(length))\n",
    "op_transition = f.dimer_flip1(length = np.array(length))\n",
    "hex_ = nk.machine.new_hex(np.array(length))\n",
    "\n",
    "\n",
    "\n",
    "\n",
    "sweep_size = 1000\n",
    "sa_mul = nk.sampler.DimerMetropolisLocal_multi(machine=ma, op=op_transition, length = length, n_chains=1, sweep_size = sweep_size, kernel = 1, n_jobs=n_jobs)\n",
    "sa_mul.reset()\n",
    "sa_mul.generate_samples(1000) # discard the begginings of metropolis sampling.\n",
    "\n"
   ]
  },
  {
   "cell_type": "code",
   "execution_count": 8,
   "id": "comparable-handling",
   "metadata": {
    "scrolled": true
   },
   "outputs": [
    {
     "name": "stdout",
     "output_type": "stream",
     "text": [
      "get samples\n"
     ]
    }
   ],
   "source": [
    "n_samples_ = 3000\n",
    "samples_state = sa_mul.generate_samples(int(n_samples_ / 1))\n",
    "samples_state = samples_state.reshape(-1, ma.hilbert.size)\n",
    "print('get samples')"
   ]
  },
  {
   "cell_type": "code",
   "execution_count": 9,
   "id": "academic-worst",
   "metadata": {
    "scrolled": true
   },
   "outputs": [
    {
     "data": {
      "text/plain": [
       "<module 'scripts.dynamics_4' from '../scripts/dynamics_4.py'>"
      ]
     },
     "execution_count": 9,
     "metadata": {},
     "output_type": "execute_result"
    }
   ],
   "source": [
    "import scripts.dynamics as Dynamics\n",
    "import scripts.dynamics_4 as sdy\n",
    "\n",
    "import scripts\n",
    "importlib.reload(sdy)"
   ]
  },
  {
   "cell_type": "code",
   "execution_count": 10,
   "id": "silver-geneva",
   "metadata": {
    "scrolled": true
   },
   "outputs": [],
   "source": [
    "t_list = np.arange(0,5,0.1)\n",
    "\n",
    "# d = Dynamics.new_dynamics(op, ma)\n",
    "# %time P_ = d.multiprocess(samples_state, 100, 4) \n",
    "# P = P_[0]\n",
    "# T = P_[1]\n",
    "# P_list = f.process_P(P, T, t_list)\n",
    "\n",
    "d = sdy.new_dynamics_one(op, ma)\n",
    "P_list = d.multiprocess(samples_state, t_list,4) "
   ]
  },
  {
   "cell_type": "code",
   "execution_count": 13,
   "id": "designed-leisure",
   "metadata": {},
   "outputs": [],
   "source": [
    "edge_corr1 = np.array([ 0.5     ,  0.      ])\n",
    "edge_corr2 = np.array([ 0.25    , -0.433013])\n",
    "edge_corr3 = np.array([ 0.75    , -0.433013])"
   ]
  },
  {
   "cell_type": "code",
   "execution_count": 14,
   "id": "prostate-administrator",
   "metadata": {},
   "outputs": [],
   "source": [
    "g = nk.graph.Graph(nodes = [i for i in range(length[0] * length[1] * 2)])\n",
    "hi = nk.hilbert.Spin(s=0.5, graph=g)\n",
    "hex_ = nk.machine.new_hex(np.array(length))\n",
    "\n",
    "\n",
    "x = np.arange(length[0])\n",
    "y = np.arange(length[1])\n",
    "\n",
    "xx, yy = np.meshgrid(x,y)\n",
    "xx = xx.reshape(-1)\n",
    "yy = yy.reshape(-1)\n",
    "\n",
    "operators_list = []\n",
    "\n",
    "for base_edge in [edge_corr1, edge_corr2, edge_corr3]:\n",
    "    edge_coor_array = hex_.ProcessPeriodic(xx[:,None] * hex_.a1[None,:]+ yy[:,None]  * hex_.a2[None,:] + base_edge)\n",
    "    edges = hex_.edge_coor_to_lattice(edge_coor_array)\n",
    "    colors = hex_.get_edge_color(edges)\n",
    "\n",
    "    operators_list.append(f.return_spin_corr(hi, edges, colors))"
   ]
  },
  {
   "cell_type": "code",
   "execution_count": 15,
   "id": "silver-russell",
   "metadata": {},
   "outputs": [],
   "source": [
    "edge_coors = np.array([[ 0.5     ,  0.      ],\n",
    "                       [ 0.25    , -0.433013],\n",
    "                       [ 0.75    , -0.433013]])\n",
    "\n",
    "a = np.tan((1/6)*np.pi) * 1/2\n",
    "edge_coors_prime = np.array([\n",
    "    hex_.a((1/2)*np.pi) * a,\n",
    "    hex_.a(np.pi*(2/3)+(1/2)*np.pi) * a,\n",
    "    hex_.a(np.pi*(4/3)+(1/2)*np.pi) * a,\n",
    "])\n",
    "edge_coors_prime = np.round(edge_coors_prime,10)"
   ]
  },
  {
   "cell_type": "code",
   "execution_count": 16,
   "id": "accompanied-reducing",
   "metadata": {},
   "outputs": [],
   "source": [
    "K = np.zeros((2*length[0],2*length[1],2))"
   ]
  },
  {
   "cell_type": "code",
   "execution_count": 17,
   "id": "vulnerable-player",
   "metadata": {},
   "outputs": [],
   "source": [
    "A = np.array([\n",
    "    hex_.R1,\n",
    "    hex_.R2\n",
    "])"
   ]
  },
  {
   "cell_type": "code",
   "execution_count": null,
   "id": "palestinian-grenada",
   "metadata": {},
   "outputs": [],
   "source": []
  },
  {
   "cell_type": "code",
   "execution_count": 18,
   "id": "c82c164d",
   "metadata": {},
   "outputs": [],
   "source": [
    "[b1, b2] = np.linalg.inv(A.T)\n",
    "b = np.array([b1, b2])\n",
    "G = edge_coors @ b.T"
   ]
  },
  {
   "cell_type": "code",
   "execution_count": 19,
   "id": "harmful-motor",
   "metadata": {
    "scrolled": true
   },
   "outputs": [],
   "source": [
    "K = np.zeros((2*length[0],2*length[1],2))\n",
    "for l1 in range(K.shape[0]):\n",
    "    for l2 in range(K.shape[1]):\n",
    "        K[l1,l2] = hex_.b1 * 2*np.pi*l1/K.shape[0] + hex_.b2 * 2*np.pi*l2/K.shape[1]"
   ]
  },
  {
   "cell_type": "code",
   "execution_count": 20,
   "id": "primary-guess",
   "metadata": {},
   "outputs": [],
   "source": [
    "uni = np.exp(1j*np.einsum('ijk,lk->lij',K,edge_coors_prime))"
   ]
  },
  {
   "cell_type": "code",
   "execution_count": 22,
   "id": "5cc6ff91",
   "metadata": {},
   "outputs": [
    {
     "data": {
      "text/plain": [
       "array([[[1.        , 0.92866667, 0.876     , 0.824     , 0.79133333,\n",
       "         0.76133333, 0.734     , 0.718     , 0.696     , 0.68866667,\n",
       "         0.67266667, 0.65666667, 0.63866667, 0.63466667, 0.62133333,\n",
       "         0.60733333, 0.59866667, 0.58466667, 0.57      , 0.55333333,\n",
       "         0.548     , 0.544     , 0.55066667, 0.55533333, 0.54533333,\n",
       "         0.54066667, 0.536     , 0.53533333, 0.53733333, 0.528     ,\n",
       "         0.53933333, 0.54      , 0.54066667, 0.53466667, 0.534     ,\n",
       "         0.528     , 0.518     , 0.51933333, 0.52533333, 0.53866667,\n",
       "         0.54      , 0.534     , 0.53533333, 0.53466667, 0.53733333,\n",
       "         0.52733333, 0.50466667, 0.51066667, 0.51133333, 0.50666667],\n",
       "        [0.554     , 0.53466667, 0.52466667, 0.51133333, 0.50933333,\n",
       "         0.502     , 0.488     , 0.47333333, 0.47666667, 0.48133333,\n",
       "         0.48      , 0.48266667, 0.486     , 0.49133333, 0.48733333,\n",
       "         0.476     , 0.48066667, 0.47866667, 0.47066667, 0.46333333,\n",
       "         0.45533333, 0.45933333, 0.462     , 0.46933333, 0.45933333,\n",
       "         0.468     , 0.46066667, 0.48      , 0.49      , 0.474     ,\n",
       "         0.47733333, 0.486     , 0.48666667, 0.49133333, 0.492     ,\n",
       "         0.486     , 0.484     , 0.49066667, 0.478     , 0.482     ,\n",
       "         0.47933333, 0.48133333, 0.47733333, 0.474     , 0.482     ,\n",
       "         0.472     , 0.46133333, 0.47533333, 0.47333333, 0.46333333],\n",
       "        [0.46933333, 0.46066667, 0.47066667, 0.47466667, 0.482     ,\n",
       "         0.47733333, 0.47933333, 0.48066667, 0.47466667, 0.47133333,\n",
       "         0.474     , 0.47533333, 0.46133333, 0.45733333, 0.45466667,\n",
       "         0.45      , 0.46133333, 0.458     , 0.46466667, 0.452     ,\n",
       "         0.43866667, 0.448     , 0.46      , 0.45266667, 0.44533333,\n",
       "         0.45666667, 0.45866667, 0.474     , 0.46933333, 0.47333333,\n",
       "         0.478     , 0.47466667, 0.486     , 0.484     , 0.482     ,\n",
       "         0.472     , 0.47      , 0.47      , 0.476     , 0.48133333,\n",
       "         0.488     , 0.48466667, 0.47933333, 0.48133333, 0.48533333,\n",
       "         0.47133333, 0.45533333, 0.47066667, 0.47133333, 0.45866667],\n",
       "        [0.57066667, 0.55      , 0.53466667, 0.524     , 0.522     ,\n",
       "         0.50266667, 0.49266667, 0.48733333, 0.48933333, 0.48333333,\n",
       "         0.47266667, 0.47133333, 0.46266667, 0.45466667, 0.45066667,\n",
       "         0.44333333, 0.452     , 0.44866667, 0.45266667, 0.44533333,\n",
       "         0.44      , 0.452     , 0.448     , 0.45533333, 0.45466667,\n",
       "         0.458     , 0.46133333, 0.46733333, 0.468     , 0.47333333,\n",
       "         0.478     , 0.47466667, 0.478     , 0.48      , 0.48066667,\n",
       "         0.46933333, 0.46733333, 0.46466667, 0.464     , 0.46933333,\n",
       "         0.476     , 0.474     , 0.478     , 0.48133333, 0.49333333,\n",
       "         0.48866667, 0.462     , 0.46933333, 0.47      , 0.45866667]],\n",
       "\n",
       "       [[0.54533333, 0.52333333, 0.51333333, 0.50533333, 0.502     ,\n",
       "         0.5       , 0.49      , 0.48733333, 0.48133333, 0.47533333,\n",
       "         0.46866667, 0.46866667, 0.46533333, 0.46      , 0.46133333,\n",
       "         0.45133333, 0.45333333, 0.44333333, 0.44333333, 0.44      ,\n",
       "         0.428     , 0.42933333, 0.43866667, 0.43933333, 0.43066667,\n",
       "         0.44466667, 0.44666667, 0.458     , 0.46      , 0.45733333,\n",
       "         0.47533333, 0.48      , 0.48333333, 0.48      , 0.47      ,\n",
       "         0.468     , 0.46066667, 0.46333333, 0.47066667, 0.468     ,\n",
       "         0.46933333, 0.45933333, 0.46733333, 0.47066667, 0.48      ,\n",
       "         0.46866667, 0.45133333, 0.44      , 0.438     , 0.45066667],\n",
       "        [0.44466667, 0.45066667, 0.44733333, 0.44333333, 0.448     ,\n",
       "         0.446     , 0.44533333, 0.432     , 0.44066667, 0.44133333,\n",
       "         0.444     , 0.44533333, 0.44333333, 0.442     , 0.446     ,\n",
       "         0.44      , 0.446     , 0.43866667, 0.43733333, 0.44066667,\n",
       "         0.43933333, 0.442     , 0.43266667, 0.43733333, 0.43266667,\n",
       "         0.44933333, 0.45      , 0.464     , 0.47266667, 0.462     ,\n",
       "         0.468     , 0.47133333, 0.464     , 0.46866667, 0.45866667,\n",
       "         0.454     , 0.44666667, 0.45333333, 0.44333333, 0.45      ,\n",
       "         0.44866667, 0.46133333, 0.46      , 0.46333333, 0.46866667,\n",
       "         0.45733333, 0.448     , 0.45133333, 0.44666667, 0.45266667],\n",
       "        [0.478     , 0.47733333, 0.478     , 0.47133333, 0.484     ,\n",
       "         0.48066667, 0.48266667, 0.47333333, 0.482     , 0.488     ,\n",
       "         0.49066667, 0.49466667, 0.482     , 0.478     , 0.46866667,\n",
       "         0.46133333, 0.478     , 0.46666667, 0.46933333, 0.47533333,\n",
       "         0.46866667, 0.46333333, 0.466     , 0.468     , 0.446     ,\n",
       "         0.45733333, 0.454     , 0.468     , 0.48466667, 0.47666667,\n",
       "         0.48666667, 0.49133333, 0.484     , 0.48733333, 0.48533333,\n",
       "         0.47933333, 0.47333333, 0.47733333, 0.47266667, 0.48733333,\n",
       "         0.47666667, 0.484     , 0.47066667, 0.478     , 0.48066667,\n",
       "         0.468     , 0.44933333, 0.45533333, 0.46133333, 0.45533333],\n",
       "        [0.34466667, 0.34533333, 0.34866667, 0.35266667, 0.36      ,\n",
       "         0.358     , 0.352     , 0.34666667, 0.35666667, 0.35466667,\n",
       "         0.35333333, 0.35866667, 0.358     , 0.358     , 0.354     ,\n",
       "         0.34      , 0.35533333, 0.348     , 0.36533333, 0.37133333,\n",
       "         0.36333333, 0.366     , 0.366     , 0.372     , 0.366     ,\n",
       "         0.376     , 0.378     , 0.39466667, 0.406     , 0.40733333,\n",
       "         0.41733333, 0.42466667, 0.42266667, 0.422     , 0.424     ,\n",
       "         0.418     , 0.41466667, 0.416     , 0.41533333, 0.418     ,\n",
       "         0.41533333, 0.41466667, 0.41333333, 0.41933333, 0.43      ,\n",
       "         0.428     , 0.41066667, 0.414     , 0.41333333, 0.40866667]],\n",
       "\n",
       "       [[0.466     , 0.46266667, 0.462     , 0.466     , 0.476     ,\n",
       "         0.478     , 0.46666667, 0.46533333, 0.47      , 0.46933333,\n",
       "         0.46533333, 0.46666667, 0.45533333, 0.45533333, 0.46066667,\n",
       "         0.444     , 0.44466667, 0.44666667, 0.452     , 0.45933333,\n",
       "         0.45266667, 0.458     , 0.45666667, 0.45333333, 0.44333333,\n",
       "         0.45333333, 0.44866667, 0.468     , 0.466     , 0.46333333,\n",
       "         0.46933333, 0.47933333, 0.484     , 0.474     , 0.484     ,\n",
       "         0.486     , 0.472     , 0.46666667, 0.47      , 0.46866667,\n",
       "         0.47533333, 0.468     , 0.484     , 0.482     , 0.48866667,\n",
       "         0.47333333, 0.45333333, 0.45133333, 0.456     , 0.454     ],\n",
       "        [0.47133333, 0.46533333, 0.46466667, 0.47266667, 0.47733333,\n",
       "         0.478     , 0.46933333, 0.46133333, 0.46333333, 0.45333333,\n",
       "         0.44933333, 0.45866667, 0.45      , 0.45533333, 0.45933333,\n",
       "         0.44933333, 0.46333333, 0.46133333, 0.46533333, 0.45933333,\n",
       "         0.458     , 0.458     , 0.454     , 0.456     , 0.45      ,\n",
       "         0.452     , 0.44333333, 0.45733333, 0.46733333, 0.466     ,\n",
       "         0.468     , 0.466     , 0.46533333, 0.46733333, 0.46533333,\n",
       "         0.466     , 0.45866667, 0.464     , 0.45533333, 0.45133333,\n",
       "         0.45933333, 0.45733333, 0.464     , 0.46733333, 0.46466667,\n",
       "         0.46666667, 0.444     , 0.45      , 0.44533333, 0.446     ],\n",
       "        [0.58066667, 0.57466667, 0.578     , 0.57266667, 0.57066667,\n",
       "         0.56733333, 0.57733333, 0.57066667, 0.582     , 0.56666667,\n",
       "         0.56133333, 0.56133333, 0.55666667, 0.55266667, 0.55      ,\n",
       "         0.548     , 0.55      , 0.54133333, 0.53866667, 0.53266667,\n",
       "         0.52733333, 0.52333333, 0.53133333, 0.53866667, 0.51533333,\n",
       "         0.52533333, 0.52066667, 0.53066667, 0.54066667, 0.53133333,\n",
       "         0.53733333, 0.52333333, 0.52133333, 0.52066667, 0.516     ,\n",
       "         0.518     , 0.51466667, 0.52      , 0.514     , 0.51133333,\n",
       "         0.49933333, 0.50933333, 0.50533333, 0.506     , 0.49933333,\n",
       "         0.492     , 0.476     , 0.482     , 0.48266667, 0.48466667],\n",
       "        [0.48533333, 0.48866667, 0.48533333, 0.48666667, 0.48333333,\n",
       "         0.48      , 0.482     , 0.46466667, 0.47866667, 0.46733333,\n",
       "         0.466     , 0.47      , 0.46533333, 0.46933333, 0.45866667,\n",
       "         0.45133333, 0.44933333, 0.45266667, 0.45666667, 0.464     ,\n",
       "         0.46      , 0.45733333, 0.45866667, 0.46733333, 0.46      ,\n",
       "         0.466     , 0.47066667, 0.49266667, 0.49866667, 0.496     ,\n",
       "         0.48866667, 0.47866667, 0.47666667, 0.464     , 0.46866667,\n",
       "         0.46933333, 0.45666667, 0.45666667, 0.44933333, 0.464     ,\n",
       "         0.46133333, 0.47666667, 0.47533333, 0.47733333, 0.476     ,\n",
       "         0.466     , 0.45933333, 0.46      , 0.458     , 0.46      ]],\n",
       "\n",
       "       [[0.55266667, 0.53733333, 0.53      , 0.51133333, 0.51733333,\n",
       "         0.522     , 0.51333333, 0.5       , 0.50333333, 0.50533333,\n",
       "         0.508     , 0.5       , 0.48466667, 0.486     , 0.47133333,\n",
       "         0.46266667, 0.45933333, 0.44933333, 0.456     , 0.45933333,\n",
       "         0.454     , 0.458     , 0.45533333, 0.45733333, 0.44466667,\n",
       "         0.456     , 0.45533333, 0.468     , 0.47266667, 0.47533333,\n",
       "         0.48133333, 0.486     , 0.48933333, 0.482     , 0.48933333,\n",
       "         0.48466667, 0.476     , 0.47733333, 0.47533333, 0.47533333,\n",
       "         0.46866667, 0.46666667, 0.46666667, 0.474     , 0.482     ,\n",
       "         0.46933333, 0.46266667, 0.462     , 0.468     , 0.462     ],\n",
       "        [0.34866667, 0.34933333, 0.35266667, 0.35533333, 0.372     ,\n",
       "         0.37266667, 0.364     , 0.352     , 0.366     , 0.36666667,\n",
       "         0.368     , 0.37466667, 0.37266667, 0.37933333, 0.37533333,\n",
       "         0.36666667, 0.37533333, 0.37866667, 0.38933333, 0.38866667,\n",
       "         0.374     , 0.382     , 0.38333333, 0.384     , 0.37666667,\n",
       "         0.38266667, 0.38733333, 0.40133333, 0.41266667, 0.41933333,\n",
       "         0.42533333, 0.434     , 0.43466667, 0.434     , 0.44133333,\n",
       "         0.44066667, 0.428     , 0.43066667, 0.422     , 0.42733333,\n",
       "         0.42866667, 0.42666667, 0.42933333, 0.434     , 0.44333333,\n",
       "         0.44666667, 0.43733333, 0.426     , 0.42533333, 0.42466667],\n",
       "        [0.47066667, 0.47      , 0.472     , 0.47066667, 0.474     ,\n",
       "         0.46933333, 0.47533333, 0.478     , 0.47733333, 0.474     ,\n",
       "         0.46733333, 0.458     , 0.452     , 0.44533333, 0.452     ,\n",
       "         0.442     , 0.44533333, 0.43666667, 0.44466667, 0.436     ,\n",
       "         0.42266667, 0.42666667, 0.43733333, 0.43533333, 0.42533333,\n",
       "         0.43266667, 0.44266667, 0.44866667, 0.444     , 0.44266667,\n",
       "         0.46066667, 0.46533333, 0.47133333, 0.47066667, 0.47133333,\n",
       "         0.468     , 0.45133333, 0.454     , 0.456     , 0.45866667,\n",
       "         0.46      , 0.454     , 0.46066667, 0.46133333, 0.45866667,\n",
       "         0.45533333, 0.44066667, 0.43866667, 0.438     , 0.43866667],\n",
       "        [0.474     , 0.47466667, 0.46733333, 0.46466667, 0.46933333,\n",
       "         0.474     , 0.47466667, 0.46      , 0.466     , 0.46933333,\n",
       "         0.464     , 0.46533333, 0.462     , 0.46066667, 0.44733333,\n",
       "         0.44133333, 0.45      , 0.44133333, 0.44133333, 0.44466667,\n",
       "         0.44333333, 0.44066667, 0.43933333, 0.45466667, 0.446     ,\n",
       "         0.45066667, 0.45533333, 0.472     , 0.48066667, 0.47666667,\n",
       "         0.48133333, 0.48066667, 0.48133333, 0.48466667, 0.48266667,\n",
       "         0.474     , 0.464     , 0.472     , 0.45533333, 0.46066667,\n",
       "         0.45533333, 0.45466667, 0.45333333, 0.46333333, 0.46466667,\n",
       "         0.45866667, 0.44533333, 0.44466667, 0.44533333, 0.44466667]]])"
      ]
     },
     "execution_count": 22,
     "metadata": {},
     "output_type": "execute_result"
    }
   ],
   "source": [
    "dimer_corr[a,b]"
   ]
  },
  {
   "cell_type": "code",
   "execution_count": 23,
   "id": "31766a8e",
   "metadata": {},
   "outputs": [
    {
     "data": {
      "text/plain": [
       "array([0.+0.j])"
      ]
     },
     "execution_count": 23,
     "metadata": {},
     "output_type": "execute_result"
    }
   ],
   "source": [
    "ma.log_val(samples_state[0].reshape(1,-1))"
   ]
  },
  {
   "cell_type": "code",
   "execution_count": 24,
   "id": "4e021c51",
   "metadata": {},
   "outputs": [
    {
     "data": {
      "text/plain": [
       "array([-1., -1., -1.,  1., -1., -1.,  1.,  1.,  1., -1., -1.,  1.,  1.,\n",
       "       -1.,  1.,  1., -1., -1., -1.,  1., -1., -1., -1.,  1.,  1.,  1.,\n",
       "        1.,  1.,  1.,  1.,  1.,  1.])"
      ]
     },
     "execution_count": 24,
     "metadata": {},
     "output_type": "execute_result"
    }
   ],
   "source": [
    "samples_state[0]"
   ]
  },
  {
   "cell_type": "code",
   "execution_count": 28,
   "id": "0f4a8d77",
   "metadata": {},
   "outputs": [],
   "source": [
    "T, color = hex_.autom(reverse=True, half=True)\n",
    "from numba import njit"
   ]
  },
  {
   "cell_type": "code",
   "execution_count": 29,
   "id": "85446198",
   "metadata": {},
   "outputs": [],
   "source": [
    "@njit\n",
    "def _permute(x, T, color):\n",
    "    x_ = np.zeros((T.shape[0], x.shape[-1]))\n",
    "    \n",
    "    for j in range(len(x_)):\n",
    "        for i in range(len(x)):\n",
    "            x_[j,i] = x[T[j,i]] * color[i]\n",
    "    return x_"
   ]
  },
  {
   "cell_type": "code",
   "execution_count": 30,
   "id": "f13409f0",
   "metadata": {},
   "outputs": [],
   "source": [
    "@njit\n",
    "def permute(X, T, color):\n",
    "    \n",
    "    X_ = np.zeros((X.shape[0]*2, T.shape[1], X.shape[-1]))\n",
    "    \n",
    "    for a in range(2):\n",
    "        for i in range(len(X)):\n",
    "            X_[2*i + a] = _permute(X[i], T[a], color[a])\n",
    "    return X_.reshape(-1,X.shape[-1])"
   ]
  },
  {
   "cell_type": "code",
   "execution_count": 39,
   "id": "b83e2814",
   "metadata": {},
   "outputs": [],
   "source": [
    "new_P_list = np.zeros((P_list.shape[0], P_list.shape[1] * T.shape[0] * T.shape[1], P_list.shape[-1]))\n",
    "\n",
    "for t in range(len(new_P_list)):\n",
    "    new_P_list[t] = permute(P_list[t], T, color)"
   ]
  },
  {
   "cell_type": "code",
   "execution_count": 42,
   "id": "84b0a5de",
   "metadata": {},
   "outputs": [],
   "source": [
    "dimer_corr = np.zeros((3,3,length[0],length[0],len(t_list)), dtype = np.float64)\n",
    "\n",
    "for a in range(3):\n",
    "    for b in range(3):\n",
    "        dimer_corr[a,b], _, _ = f.cal_dimer_corr(operators_list[a][0], operators_list[b], new_P_list, hex_, t_list)"
   ]
  },
  {
   "cell_type": "code",
   "execution_count": 43,
   "id": "ff2eaa0c",
   "metadata": {},
   "outputs": [],
   "source": [
    "from numba import njit\n",
    "@njit\n",
    "def dimer_fourier2D(corr):\n",
    "    \n",
    "    assert corr.shape[0] == corr.shape[1]\n",
    "    L = x.shape[0]\n",
    "    \n",
    "    momentum = np.zeros((L*2, L*2, corr.shape[-1]), dtype=np.complex128)\n",
    "    \n",
    "    for m1 in range(2 * L):\n",
    "        for m2 in range(2 * L):\n",
    "            tmp = np.zeros(corr.shape[-1], dtype=np.complex128)\n",
    "            for n1 in range(L):\n",
    "                for n2 in range(L):\n",
    "                    tmp += np.exp(-1j*(n1 * m1/L * 2 * np.pi + n2 * m2/L * 2 * np.pi)) * corr[n1,n2]\n",
    "            momentum[m1,m2] = tmp/(2*L)\n",
    "    \n",
    "    return momentum\n",
    "\n",
    "\n",
    "def dimer_fourier2D_sub(dimer_m_):\n",
    "    assert dimer_m_.shape[0] == dimer_m_.shape[1] == 3\n",
    "    assert dimer_m_.shape[2] == dimer_m_.shape[3] \n",
    "    \n",
    "    edge_coors = np.array([[ 0.5     ,  0.      ],\n",
    "                           [ 0.25    , -0.433013],\n",
    "                           [ 0.75    , -0.433013]])\n",
    "    [b1, b2] = np.linalg.inv(A.T)\n",
    "    b = np.array([b1, b2])\n",
    "    G = edge_coors @ b.T\n",
    "    \n",
    "    \n",
    "    L = dimer_m_.shape[2]\n",
    "    \n",
    "    dimer_momentum = np.zeros((L,L,len(t_list)), dtype=np.complex128)\n",
    "    \n",
    "    for m1 in range(L):\n",
    "        for m2 in range(L):\n",
    "            tmp = np.zeros(dimer_m_.shape[-1],dtype=np.complex128)\n",
    "            for a in range(3):\n",
    "                for b in range(3):\n",
    "                    tmp += np.exp(-1j * (m1* (2*np.pi) /L *(G[a,0] - G[b,0]) + m2* (2*np.pi) /L *(G[a,1] - G[b,1]))) * dimer_m_[a,b,m1,m2]\n",
    "            dimer_momentum[m1,m2] = tmp / 3\n",
    "    return dimer_momentum"
   ]
  },
  {
   "cell_type": "code",
   "execution_count": 44,
   "id": "0e3cf398",
   "metadata": {},
   "outputs": [],
   "source": [
    "dimer_momentum_ = np.zeros((3,3,8,8,len(t_list)),dtype=np.complex128)\n",
    "for a in range(3):\n",
    "    for b in range(3):\n",
    "        dimer_momentum_[a,b] = dimer_fourier2D(dimer_corr[a,b])"
   ]
  },
  {
   "cell_type": "code",
   "execution_count": 45,
   "id": "f9e0caf8",
   "metadata": {},
   "outputs": [
    {
     "data": {
      "text/plain": [
       "array([ 4.47000000e-01-1.66533454e-16j,  3.67333333e-01-2.77555756e-16j,\n",
       "        3.05500000e-01-2.77555756e-16j,  2.61500000e-01-2.77555756e-16j,\n",
       "        2.14500000e-01-2.22044605e-16j,  1.83666667e-01-2.22044605e-16j,\n",
       "        1.58833333e-01-2.22044605e-16j,  1.37666667e-01-2.22044605e-16j,\n",
       "        1.19833333e-01-2.22044605e-16j,  1.03833333e-01-2.22044605e-16j,\n",
       "        8.80000000e-02-2.22044605e-16j,  7.51666667e-02-2.22044605e-16j,\n",
       "        6.83333333e-02-2.22044605e-16j,  6.66666667e-02-2.22044605e-16j,\n",
       "        5.71666667e-02-2.22044605e-16j,  4.91666667e-02-2.22044605e-16j,\n",
       "        4.95000000e-02-2.22044605e-16j,  4.35000000e-02-2.22044605e-16j,\n",
       "        3.41666667e-02-2.22044605e-16j,  3.33333333e-02-2.22044605e-16j,\n",
       "        3.15000000e-02-2.22044605e-16j,  2.53333333e-02-2.22044605e-16j,\n",
       "        2.16666667e-02-2.22044605e-16j,  1.58333333e-02-2.22044605e-16j,\n",
       "        1.80000000e-02-2.22044605e-16j,  1.78333333e-02-2.22044605e-16j,\n",
       "        1.56666667e-02-2.22044605e-16j,  1.41666667e-02-2.22044605e-16j,\n",
       "        1.10000000e-02-2.22044605e-16j,  5.50000000e-03-2.22044605e-16j,\n",
       "        7.50000000e-03-2.22044605e-16j,  7.50000000e-03-2.22044605e-16j,\n",
       "        7.66666667e-03-2.22044605e-16j,  1.05000000e-02-2.22044605e-16j,\n",
       "        4.50000000e-03-2.22044605e-16j,  3.33333333e-04-2.22044605e-16j,\n",
       "        6.66666667e-04-2.22044605e-16j, -3.00000000e-03-2.22044605e-16j,\n",
       "        1.00000000e-03-2.22044605e-16j,  1.83333333e-03-2.22044605e-16j,\n",
       "       -1.16666667e-03-2.22044605e-16j,  1.66666667e-04-2.22044605e-16j,\n",
       "        5.50000000e-03-2.22044605e-16j,  6.16666667e-03-2.22044605e-16j,\n",
       "        5.16666667e-03-2.22044605e-16j,  1.00000000e-03-2.22044605e-16j,\n",
       "        8.33333333e-04-2.22044605e-16j,  3.50000000e-03-2.22044605e-16j,\n",
       "        4.33333333e-03-2.22044605e-16j,  3.50000000e-03-2.22044605e-16j])"
      ]
     },
     "execution_count": 45,
     "metadata": {},
     "output_type": "execute_result"
    }
   ],
   "source": [
    "dimer_momentum_[0,0][0,1] * 8"
   ]
  },
  {
   "cell_type": "code",
   "execution_count": 47,
   "id": "37923c1f",
   "metadata": {},
   "outputs": [
    {
     "data": {
      "text/plain": [
       "array([[8.154     -0.j, 0.447     +0.j, 0.        -0.j, 0.447     -0.j],\n",
       "       [0.54933333+0.j, 0.557     +0.j, 0.26166667+0.j, 0.264     -0.j],\n",
       "       [0.89266667-0.j, 0.92866667+0.j, 0.938     -0.j, 0.92866667-0.j],\n",
       "       [0.54933333-0.j, 0.264     +0.j, 0.26166667-0.j, 0.557     -0.j]])"
      ]
     },
     "execution_count": 47,
     "metadata": {},
     "output_type": "execute_result"
    }
   ],
   "source": [
    "from scipy import fft\n",
    "fft.fft2(dimer_corr[0,0,:,:,0])"
   ]
  },
  {
   "cell_type": "code",
   "execution_count": 48,
   "id": "862a2ef1",
   "metadata": {},
   "outputs": [
    {
     "data": {
      "text/plain": [
       "array([ 2.24555102e-02-6.24500451e-17j,  1.84533723e-02-7.40148683e-17j,\n",
       "        1.53471105e-02-8.44232092e-17j,  1.31367247e-02-7.97972799e-17j,\n",
       "        1.07756307e-02-8.03755211e-17j,  9.22668616e-03-7.40148683e-17j,\n",
       "        7.97915781e-03-6.82324567e-17j,  6.91582828e-03-8.55796915e-17j,\n",
       "        6.01995222e-03-7.51713506e-17j,  5.21617557e-03-7.05454214e-17j,\n",
       "        4.42077159e-03-8.99165002e-17j,  3.77607573e-03-8.52905709e-17j,\n",
       "        3.43279612e-03-9.28077060e-17j,  3.34906939e-03-8.26884857e-17j,\n",
       "        2.87182700e-03-8.78926561e-17j,  2.46993867e-03-8.57242518e-17j,\n",
       "        2.48668402e-03-8.76035355e-17j,  2.18526777e-03-8.47123297e-17j,\n",
       "        1.71639806e-03-8.05200813e-17j,  1.67453469e-03-8.32667268e-17j,\n",
       "        1.58243528e-03-7.77734358e-17j,  1.27264637e-03-8.25439254e-17j,\n",
       "        1.08844755e-03-7.83516770e-17j,  7.95403979e-04-8.29053261e-17j,\n",
       "        9.04248734e-04-8.76035355e-17j,  8.95876061e-04-7.82793969e-17j,\n",
       "        7.87031306e-04-8.54351312e-17j,  7.11677245e-04-8.28330460e-17j,\n",
       "        5.52596449e-04-8.56519716e-17j,  2.76298224e-04-9.27354258e-17j,\n",
       "        3.76770306e-04-9.30155114e-17j,  3.76770306e-04-8.76758157e-17j,\n",
       "        3.85142979e-04-8.76758157e-17j,  5.27478428e-04-9.27715659e-17j,\n",
       "        2.26062184e-04-8.55977615e-17j,  1.67453469e-05-8.28737036e-17j,\n",
       "        3.34906939e-05-9.04586013e-17j, -1.50708122e-04-8.32847969e-17j,\n",
       "        5.02360408e-05-9.04224612e-17j,  9.20994081e-05-8.83263370e-17j,\n",
       "       -5.86087143e-05-7.84600972e-17j,  8.37267346e-06-8.58326720e-17j,\n",
       "        2.76298224e-04-8.30498864e-17j,  3.09788918e-04-9.34582273e-17j,\n",
       "        2.59552877e-04-8.07730619e-17j,  5.02360408e-05-8.05562214e-17j,\n",
       "        4.18633673e-05-8.53899561e-17j,  1.75826143e-04-8.28511160e-17j,\n",
       "        2.17689510e-04-7.80083463e-17j,  1.75826143e-04-7.52436308e-17j])"
      ]
     },
     "execution_count": 48,
     "metadata": {},
     "output_type": "execute_result"
    }
   ],
   "source": [
    "dimer_momentum = dimer_fourier2D_sub(dimer_momentum_)\n",
    "\n",
    "dimer_momentum[0,1]"
   ]
  },
  {
   "cell_type": "code",
   "execution_count": 88,
   "id": "according-pricing",
   "metadata": {},
   "outputs": [],
   "source": [
    "tau_list = []\n",
    "N = 2000\n",
    "corr1 = []\n",
    "corr2 = np.zeros((48,N),dtype=np.float64)\n",
    "n = -1\n",
    "import re\n",
    "with open('RN4_4V1.0st.dat') as fe:\n",
    "    for line in fe:\n",
    "        \n",
    "        if re.findall(r'#\\d', line):\n",
    "            i = 0\n",
    "            n += 1\n",
    "        else:\n",
    "            try:\n",
    "                match = re.findall(r'[\\d,\\.]+', line)\n",
    "                tau_list.append(float(match[1]))\n",
    "                corr2[n,i] = float(match[3])\n",
    "                i+=1\n",
    "            except:\n",
    "                pass"
   ]
  },
  {
   "cell_type": "code",
   "execution_count": 65,
   "id": "responsible-african",
   "metadata": {},
   "outputs": [],
   "source": [
    "par_path = '/Users/keisukemurota/Documents/Resaerch/Dimer_RBM/save/dat/'\n",
    "path = par_path + \"R[4,4]V1.0.dat\"\n",
    "from scripts import utils\n",
    "importlib.reload(utils)\n",
    "utils.write2dat(dimer_momentum, t_list, path)"
   ]
  },
  {
   "cell_type": "code",
   "execution_count": 78,
   "id": "proof-planner",
   "metadata": {
    "scrolled": true
   },
   "outputs": [
    {
     "data": {
      "text/plain": [
       "array([-0.05634956,  0.42758727,  0.00322997,  0.42758727, -0.0441282 ,\n",
       "        0.42758727,  0.0046754 ,  0.42758727, -0.00115713, -0.00917361,\n",
       "       -0.01261676, -0.00640277, -0.00570326, -0.0147057 , -0.01300102,\n",
       "       -0.00211408, -0.02437084,  0.42758727, -0.01894938,  0.42758727,\n",
       "       -0.02238292,  0.42758727, -0.02108872,  0.42758727, -0.00573926,\n",
       "       -0.00756955, -0.01115713, -0.01382396, -0.00062284, -0.0066182 ,\n",
       "       -0.0128662 , -0.01682243, -0.0241016 ,  0.42758727, -0.01379675,\n",
       "        0.42758727, -0.02562104,  0.42758727, -0.01401078,  0.42758727,\n",
       "       -0.0072511 , -0.01454327, -0.01759956, -0.00695526, -0.00468229,\n",
       "       -0.01462088, -0.01405399, -0.00369133, -0.02069845,  0.42758727,\n",
       "       -0.02181723,  0.42758727, -0.02030079,  0.42758727, -0.02049422,\n",
       "        0.42758727,  0.00094381, -0.0047047 , -0.01026439, -0.01439945,\n",
       "       -0.0041022 , -0.00484732, -0.01371034, -0.01257396])"
      ]
     },
     "execution_count": 78,
     "metadata": {},
     "output_type": "execute_result"
    }
   ],
   "source": [
    "(corr2[3][:200][None,None,:] - dimer_corr).mean(axis=-1).reshape(-1,order='F')"
   ]
  }
 ],
 "metadata": {
  "kernelspec": {
   "display_name": "Python 3",
   "language": "python",
   "name": "python3"
  },
  "language_info": {
   "codemirror_mode": {
    "name": "ipython",
    "version": 3
   },
   "file_extension": ".py",
   "mimetype": "text/x-python",
   "name": "python",
   "nbconvert_exporter": "python",
   "pygments_lexer": "ipython3",
   "version": "3.7.7"
  }
 },
 "nbformat": 4,
 "nbformat_minor": 5
}
