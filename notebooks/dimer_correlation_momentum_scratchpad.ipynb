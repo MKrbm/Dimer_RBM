{
 "cells": [
  {
   "cell_type": "code",
   "execution_count": 5,
   "id": "still-halloween",
   "metadata": {
    "scrolled": true
   },
   "outputs": [],
   "source": [
    "import sys\n",
    "import importlib\n",
    "sys.path.insert(0,'../')\n",
    "import numpy as np\n",
    "import netket as nk\n",
    "from scripts import functions as f\n",
    "importlib.reload(f)\n",
    "\n",
    "from scripts import new_dynamics, new_dynamics2\n",
    "import os\n",
    "currentpath = os.getcwd()\n",
    "parentdir = os.path.dirname(currentpath)"
   ]
  },
  {
   "cell_type": "code",
   "execution_count": 2,
   "id": "medium-modem",
   "metadata": {},
   "outputs": [],
   "source": [
    "from scripts import Dimer_RBM"
   ]
  },
  {
   "cell_type": "code",
   "execution_count": 3,
   "id": "twenty-africa",
   "metadata": {},
   "outputs": [
    {
     "name": "stdout",
     "output_type": "stream",
     "text": [
      "yoyo\n",
      "2\n"
     ]
    }
   ],
   "source": [
    "length=[4, 4]\n",
    "V = 1.0\n",
    "h = 1.0\n",
    "g = nk.graph.Graph(nodes = [i for i in range(length[0] * length[1] * 2)])\n",
    "hi = nk.hilbert.Spin(s=0.5, graph=g)\n",
    "\n",
    "\n",
    "ham = f.dimer_hamiltonian(V = V, h = h ,length=np.array(length))\n",
    "op_transition1 = f.dimer_flip1(length = np.array(length))\n",
    "\n",
    "\n",
    "hex_ = nk.machine.new_hex(np.array(length))\n",
    "\n",
    "ma = nk.machine.RbmDimer(hi, hex_, alpha = 2, symmetry = True\n",
    "                    ,use_hidden_bias = False, use_visible_bias = False, dtype=float, reverse=True, half=True)\n",
    "ma.init_random_parameters(seed=1234)"
   ]
  },
  {
   "cell_type": "code",
   "execution_count": 4,
   "id": "demonstrated-austin",
   "metadata": {},
   "outputs": [],
   "source": [
    "ma._ws[:] = 0"
   ]
  },
  {
   "cell_type": "code",
   "execution_count": 6,
   "id": "subjective-manual",
   "metadata": {},
   "outputs": [
    {
     "ename": "NameError",
     "evalue": "name 'ma' is not defined",
     "output_type": "error",
     "traceback": [
      "\u001b[0;31m---------------------------------------------------------------------------\u001b[0m",
      "\u001b[0;31mNameError\u001b[0m                                 Traceback (most recent call last)",
      "\u001b[0;32m<ipython-input-6-5af6eaa32b9a>\u001b[0m in \u001b[0;36m<module>\u001b[0;34m\u001b[0m\n\u001b[0;32m----> 1\u001b[0;31m ma._set_bare_parameters(\n\u001b[0m\u001b[1;32m      2\u001b[0m     \u001b[0mma\u001b[0m\u001b[0;34m.\u001b[0m\u001b[0m_a\u001b[0m\u001b[0;34m,\u001b[0m \u001b[0mma\u001b[0m\u001b[0;34m.\u001b[0m\u001b[0m_b\u001b[0m\u001b[0;34m,\u001b[0m \u001b[0mma\u001b[0m\u001b[0;34m.\u001b[0m\u001b[0m_w\u001b[0m\u001b[0;34m,\u001b[0m \u001b[0mma\u001b[0m\u001b[0;34m.\u001b[0m\u001b[0m_as\u001b[0m\u001b[0;34m,\u001b[0m \u001b[0mma\u001b[0m\u001b[0;34m.\u001b[0m\u001b[0m_bs\u001b[0m\u001b[0;34m,\u001b[0m \u001b[0mma\u001b[0m\u001b[0;34m.\u001b[0m\u001b[0m_ws\u001b[0m\u001b[0;34m,\u001b[0m \u001b[0mma\u001b[0m\u001b[0;34m.\u001b[0m\u001b[0m_autom\u001b[0m\u001b[0;34m,\u001b[0m \u001b[0mma\u001b[0m\u001b[0;34m.\u001b[0m\u001b[0m_z2\u001b[0m\u001b[0;34m\u001b[0m\u001b[0;34m\u001b[0m\u001b[0m\n\u001b[1;32m      3\u001b[0m )\n\u001b[1;32m      4\u001b[0m \u001b[0mop\u001b[0m\u001b[0;34m,\u001b[0m \u001b[0mad2o_o\u001b[0m\u001b[0;34m,\u001b[0m \u001b[0mop_num\u001b[0m\u001b[0;34m,\u001b[0m \u001b[0mlabel_num\u001b[0m  \u001b[0;34m=\u001b[0m \u001b[0mf\u001b[0m\u001b[0;34m.\u001b[0m\u001b[0mdimer_flip1\u001b[0m\u001b[0;34m(\u001b[0m\u001b[0mlength\u001b[0m \u001b[0;34m=\u001b[0m \u001b[0mnp\u001b[0m\u001b[0;34m.\u001b[0m\u001b[0marray\u001b[0m\u001b[0;34m(\u001b[0m\u001b[0mlength\u001b[0m\u001b[0;34m)\u001b[0m\u001b[0;34m,\u001b[0m \u001b[0mreturn_info\u001b[0m \u001b[0;34m=\u001b[0m \u001b[0;32mTrue\u001b[0m\u001b[0;34m)\u001b[0m\u001b[0;34m\u001b[0m\u001b[0;34m\u001b[0m\u001b[0m\n\u001b[1;32m      5\u001b[0m \u001b[0;34m\u001b[0m\u001b[0m\n",
      "\u001b[0;31mNameError\u001b[0m: name 'ma' is not defined"
     ]
    }
   ],
   "source": [
    "ma._set_bare_parameters(\n",
    "    ma._a, ma._b, ma._w, ma._as, ma._bs, ma._ws, ma._autom, ma._z2\n",
    ")\n",
    "op, ad2o_o, op_num, label_num  = f.dimer_flip1(length = np.array(length), return_info = True)\n",
    "\n",
    "ad2_bool = np.zeros([ad2o_o.shape[0], ad2o_o.shape[0]], dtype = np.bool)\n",
    "for l in range(ad2o_o.shape[0]):\n",
    "    label = ad2o_o[l]\n",
    "    for op_ in label:\n",
    "        ad2_bool[l,op_] = True\n",
    "        \n",
    "ma.hex.ad2o_o = ad2o_o.astype(np.int64)\n",
    "ma.hex.ad2_bool = ad2_bool"
   ]
  },
  {
   "cell_type": "code",
   "execution_count": 4,
   "id": "chemical-script",
   "metadata": {},
   "outputs": [
    {
     "ename": "NameError",
     "evalue": "name 'nk' is not defined",
     "output_type": "error",
     "traceback": [
      "\u001b[0;31m-------------------------------------------------------------\u001b[0m",
      "\u001b[0;31mNameError\u001b[0m                   Traceback (most recent call last)",
      "\u001b[0;32m<ipython-input-4-5ef3e9f6a866>\u001b[0m in \u001b[0;36m<module>\u001b[0;34m\u001b[0m\n\u001b[1;32m      4\u001b[0m \u001b[0mn_jobs\u001b[0m \u001b[0;34m=\u001b[0m \u001b[0;36m4\u001b[0m\u001b[0;34m\u001b[0m\u001b[0;34m\u001b[0m\u001b[0m\n\u001b[1;32m      5\u001b[0m \u001b[0;34m\u001b[0m\u001b[0m\n\u001b[0;32m----> 6\u001b[0;31m \u001b[0mg\u001b[0m \u001b[0;34m=\u001b[0m \u001b[0mnk\u001b[0m\u001b[0;34m.\u001b[0m\u001b[0mgraph\u001b[0m\u001b[0;34m.\u001b[0m\u001b[0mGraph\u001b[0m\u001b[0;34m(\u001b[0m\u001b[0mnodes\u001b[0m \u001b[0;34m=\u001b[0m \u001b[0;34m[\u001b[0m\u001b[0mi\u001b[0m \u001b[0;32mfor\u001b[0m \u001b[0mi\u001b[0m \u001b[0;32min\u001b[0m \u001b[0mrange\u001b[0m\u001b[0;34m(\u001b[0m\u001b[0mlength\u001b[0m\u001b[0;34m[\u001b[0m\u001b[0;36m0\u001b[0m\u001b[0;34m]\u001b[0m \u001b[0;34m*\u001b[0m \u001b[0mlength\u001b[0m\u001b[0;34m[\u001b[0m\u001b[0;36m1\u001b[0m\u001b[0;34m]\u001b[0m \u001b[0;34m*\u001b[0m \u001b[0;36m2\u001b[0m\u001b[0;34m)\u001b[0m\u001b[0;34m]\u001b[0m\u001b[0;34m)\u001b[0m\u001b[0;34m\u001b[0m\u001b[0;34m\u001b[0m\u001b[0m\n\u001b[0m\u001b[1;32m      7\u001b[0m \u001b[0mhi\u001b[0m \u001b[0;34m=\u001b[0m \u001b[0mnk\u001b[0m\u001b[0;34m.\u001b[0m\u001b[0mhilbert\u001b[0m\u001b[0;34m.\u001b[0m\u001b[0mSpin\u001b[0m\u001b[0;34m(\u001b[0m\u001b[0ms\u001b[0m\u001b[0;34m=\u001b[0m\u001b[0;36m0.5\u001b[0m\u001b[0;34m,\u001b[0m \u001b[0mgraph\u001b[0m\u001b[0;34m=\u001b[0m\u001b[0mg\u001b[0m\u001b[0;34m)\u001b[0m\u001b[0;34m\u001b[0m\u001b[0;34m\u001b[0m\u001b[0m\n\u001b[1;32m      8\u001b[0m \u001b[0;34m\u001b[0m\u001b[0m\n",
      "\u001b[0;31mNameError\u001b[0m: name 'nk' is not defined"
     ]
    }
   ],
   "source": [
    "\n",
    "# create save folder.\n",
    "\n",
    "\n",
    "n_jobs = 4\n",
    "\n",
    "g = nk.graph.Graph(nodes = [i for i in range(length[0] * length[1] * 2)])\n",
    "hi = nk.hilbert.Spin(s=0.5, graph=g)\n",
    "\n",
    "op = f.dimer_hamiltonian(h, V,np.array(length))\n",
    "op_transition = f.dimer_flip1(length = np.array(length))\n",
    "hex_ = nk.machine.new_hex(np.array(length))\n",
    "\n",
    "\n",
    "\n",
    "\n",
    "sweep_size = 1000\n",
    "sa_mul = nk.sampler.DimerMetropolisLocal_multi(machine=ma, op=op_transition, length = length, n_chains=1, sweep_size = sweep_size, kernel = 1, n_jobs=n_jobs)\n",
    "sa_mul.reset()\n",
    "sa_mul.generate_samples(1000) # discard the begginings of metropolis sampling.\n",
    "\n"
   ]
  },
  {
   "cell_type": "code",
   "execution_count": 38,
   "id": "downtown-copper",
   "metadata": {
    "scrolled": true
   },
   "outputs": [
    {
     "name": "stdout",
     "output_type": "stream",
     "text": [
      "get samples\n"
     ]
    }
   ],
   "source": [
    "n_samples_ = 10**4\n",
    "samples_state = sa_mul.generate_samples(int(n_samples_ / 1))\n",
    "samples_state = samples_state.reshape(-1, ma.hilbert.size)\n",
    "print('get samples')"
   ]
  },
  {
   "cell_type": "code",
   "execution_count": 39,
   "id": "dental-oxide",
   "metadata": {
    "scrolled": true
   },
   "outputs": [
    {
     "data": {
      "text/plain": [
       "<module 'scripts.dynamics_4' from '../scripts/dynamics_4.py'>"
      ]
     },
     "execution_count": 39,
     "metadata": {},
     "output_type": "execute_result"
    }
   ],
   "source": [
    "import scripts.dynamics as Dynamics\n",
    "import scripts.dynamics_4 as sdy\n",
    "\n",
    "import scripts\n",
    "importlib.reload(sdy)"
   ]
  },
  {
   "cell_type": "code",
   "execution_count": 40,
   "id": "super-taylor",
   "metadata": {
    "scrolled": true
   },
   "outputs": [],
   "source": [
    "t_list = np.arange(0,10,0.1)\n",
    "\n",
    "# d = Dynamics.new_dynamics(op, ma)\n",
    "# %time P_ = d.multiprocess(samples_state, 100, 4) \n",
    "# P = P_[0]\n",
    "# T = P_[1]\n",
    "# P_list = f.process_P(P, T, t_list)\n",
    "\n",
    "d = sdy.new_dynamics_one(op, ma)\n",
    "P_list = d.multiprocess(samples_state, t_list,4) "
   ]
  },
  {
   "cell_type": "code",
   "execution_count": 41,
   "id": "damaged-baptist",
   "metadata": {},
   "outputs": [],
   "source": [
    "edge_corr1 = np.array([ 0.5     ,  0.      ])\n",
    "edge_corr2 = np.array([ 0.25    , -0.433013])\n",
    "edge_corr3 = np.array([ 0.75    , -0.433013])"
   ]
  },
  {
   "cell_type": "code",
   "execution_count": 42,
   "id": "intensive-latitude",
   "metadata": {},
   "outputs": [],
   "source": [
    "g = nk.graph.Graph(nodes = [i for i in range(length[0] * length[1] * 2)])\n",
    "hi = nk.hilbert.Spin(s=0.5, graph=g)\n",
    "hex_ = nk.machine.new_hex(np.array(length))\n",
    "\n",
    "\n",
    "x = np.arange(length[0])\n",
    "y = np.arange(length[1])\n",
    "\n",
    "xx, yy = np.meshgrid(x,y)\n",
    "xx = xx.reshape(-1)\n",
    "yy = yy.reshape(-1)\n",
    "\n",
    "operators_list = []\n",
    "\n",
    "for base_edge in [edge_corr1, edge_corr2, edge_corr3]:\n",
    "    edge_coor_array = hex_.ProcessPeriodic(xx[:,None] * hex_.a1[None,:]+ yy[:,None]  * hex_.a2[None,:] + base_edge)\n",
    "    edges = hex_.edge_coor_to_lattice(edge_coor_array)\n",
    "    colors = hex_.get_edge_color(edges)\n",
    "\n",
    "    operators_list.append(f.return_spin_corr(hi, edges, colors))"
   ]
  },
  {
   "cell_type": "code",
   "execution_count": 15,
   "id": "minor-animation",
   "metadata": {},
   "outputs": [
    {
     "data": {
      "text/plain": [
       "array([[12, 16]])"
      ]
     },
     "execution_count": 15,
     "metadata": {},
     "output_type": "execute_result"
    }
   ],
   "source": [
    "operators_list[0][4]._acting_on"
   ]
  },
  {
   "cell_type": "code",
   "execution_count": 16,
   "id": "structured-paradise",
   "metadata": {},
   "outputs": [
    {
     "data": {
      "text/plain": [
       "array([ 0.5       , -0.86602539])"
      ]
     },
     "execution_count": 16,
     "metadata": {},
     "output_type": "execute_result"
    }
   ],
   "source": [
    "hex_.a2"
   ]
  },
  {
   "cell_type": "code",
   "execution_count": 17,
   "id": "lyric-hearing",
   "metadata": {},
   "outputs": [
    {
     "data": {
      "text/plain": [
       "0.28867513459481287"
      ]
     },
     "execution_count": 17,
     "metadata": {},
     "output_type": "execute_result"
    }
   ],
   "source": [
    "1/2 * np.tan(1/6 * np.pi)"
   ]
  },
  {
   "cell_type": "code",
   "execution_count": null,
   "id": "lesser-contamination",
   "metadata": {},
   "outputs": [],
   "source": []
  },
  {
   "cell_type": "code",
   "execution_count": 18,
   "id": "important-possible",
   "metadata": {},
   "outputs": [],
   "source": [
    "T, color = hex_.autom(reverse=True, half=True)\n",
    "from numba import njit"
   ]
  },
  {
   "cell_type": "code",
   "execution_count": 19,
   "id": "cellular-consequence",
   "metadata": {},
   "outputs": [],
   "source": [
    "@njit\n",
    "def _permute(x, T, color):\n",
    "    x_ = np.zeros((T.shape[0], x.shape[-1]))\n",
    "    \n",
    "    for j in range(len(x_)):\n",
    "        for i in range(len(x)):\n",
    "            x_[j,i] = x[T[j,i]] * color[i]\n",
    "    return x_"
   ]
  },
  {
   "cell_type": "code",
   "execution_count": 20,
   "id": "suffering-japanese",
   "metadata": {},
   "outputs": [],
   "source": [
    "@njit\n",
    "def permute(X, T, color):\n",
    "    \n",
    "    X_ = np.zeros((X.shape[0]*2, T.shape[1], X.shape[-1]))\n",
    "    \n",
    "    for a in range(2):\n",
    "        for i in range(len(X)):\n",
    "            X_[2*i + a] = _permute(X[i], T[a], color[a])\n",
    "    return X_.reshape(-1,X.shape[-1])"
   ]
  },
  {
   "cell_type": "code",
   "execution_count": 21,
   "id": "wireless-pittsburgh",
   "metadata": {},
   "outputs": [],
   "source": [
    "# new_P_list = np.zeros((P_list.shape[0], P_list.shape[1] * T.shape[0] * T.shape[1], P_list.shape[-1]))\n",
    "\n",
    "# for t in range(len(new_P_list)):\n",
    "#     new_P_list[t] = permute(P_list[t], T, color)"
   ]
  },
  {
   "cell_type": "code",
   "execution_count": 23,
   "id": "promising-argentina",
   "metadata": {},
   "outputs": [],
   "source": [
    "dimer_corr = np.zeros((3,3,length[0],length[0],len(t_list)), dtype = np.float64)\n",
    "\n",
    "for a in range(3):\n",
    "    for b in range(3):\n",
    "        dimer_corr[b,a], _, _ = f.cal_dimer_corr(operators_list[a][0], operators_list[b], P_list, hex_, t_list)\n",
    "        \n",
    "# for a in range(3):\n",
    "#     for b in range(a):\n",
    "#         for i in range(length[0]):\n",
    "#             for j in range(length[1]):\n",
    "                \n",
    "#                 tmp = (dimer_corr[b,a][i,j] + dimer_corr[a,b][-i, -j])/2\n",
    "#                 dimer_corr[b,a][i,j] = tmp\n",
    "#                 dimer_corr[a,b][-i, -j] = tmp\n",
    "                \n",
    "                \n",
    "for a in range(3):\n",
    "    for b in range(a+1):\n",
    "        for i in range(length[0]):\n",
    "            for j in range(length[1]):\n",
    "                \n",
    "                tmp = (dimer_corr[b,a][i,j] + dimer_corr[a,b][-i,-j])/2\n",
    "                dimer_corr[b,a][i,j] = tmp\n",
    "                dimer_corr[a,b][-i,-j] = tmp\n"
   ]
  },
  {
   "cell_type": "code",
   "execution_count": 372,
   "id": "welsh-equality",
   "metadata": {},
   "outputs": [
    {
     "data": {
      "text/plain": [
       "array([0.4569, 0.4533, 0.4567, 0.4556, 0.4587, 0.4592, 0.4583, 0.4567,\n",
       "       0.4549, 0.4534, 0.452 , 0.453 , 0.4521, 0.4537, 0.4502, 0.4484,\n",
       "       0.4482, 0.4502, 0.446 , 0.4491, 0.452 , 0.45  , 0.4508, 0.444 ,\n",
       "       0.446 , 0.4456, 0.4488, 0.4485, 0.4436, 0.4422, 0.4393, 0.4425,\n",
       "       0.4426, 0.4392, 0.443 , 0.4445, 0.4415, 0.4377, 0.4384, 0.4387,\n",
       "       0.4404, 0.4365, 0.4375, 0.4348, 0.4392, 0.4419, 0.4458, 0.4449,\n",
       "       0.4468, 0.4484, 0.454 , 0.4484, 0.4486, 0.4471, 0.4485, 0.4466,\n",
       "       0.4472, 0.4442, 0.444 , 0.4434, 0.4453, 0.4443, 0.4428, 0.4431,\n",
       "       0.4424, 0.4414, 0.4387, 0.4381, 0.4364, 0.4359, 0.4371, 0.4391,\n",
       "       0.4405, 0.4365, 0.4411, 0.4392, 0.436 , 0.4394, 0.4397, 0.4418,\n",
       "       0.4388, 0.4391, 0.4391, 0.4414, 0.4438, 0.4439, 0.4466, 0.4457,\n",
       "       0.4497, 0.4526, 0.451 , 0.449 , 0.4468, 0.4456, 0.4479, 0.4448,\n",
       "       0.444 , 0.4437, 0.4429, 0.4436])"
      ]
     },
     "execution_count": 372,
     "metadata": {},
     "output_type": "execute_result"
    }
   ],
   "source": [
    "dimer_corr[2,1][-1,-1]"
   ]
  },
  {
   "cell_type": "code",
   "execution_count": 24,
   "id": "imported-portsmouth",
   "metadata": {},
   "outputs": [],
   "source": [
    "from numba import njit\n",
    "@njit\n",
    "def dimer_fourier2D(corr):\n",
    "    \n",
    "    assert corr.shape[0] == corr.shape[1]\n",
    "    L = x.shape[0]\n",
    "    \n",
    "    momentum = np.zeros((L*2, L*2, corr.shape[-1]), dtype=np.complex128)\n",
    "    \n",
    "    for m1 in range(2 * L):\n",
    "        for m2 in range(2 * L):\n",
    "            tmp = np.zeros(corr.shape[-1], dtype=np.complex128)\n",
    "            for n1 in range(L):\n",
    "                for n2 in range(L):\n",
    "                    tmp += np.exp(-1j*(n1 * m1/(L) * 2 * np.pi + n2 * m2/(L) * 2 * np.pi)) * corr[n1,n2]\n",
    "            momentum[m1,m2] = tmp/(2*L)\n",
    "    \n",
    "    return momentum\n",
    "\n",
    "A = np.array([\n",
    "hex_.a1,\n",
    "hex_.a2\n",
    "])\n",
    "def dimer_fourier2D_sub(dimer_m_):\n",
    "    assert dimer_m_.shape[0] == dimer_m_.shape[1] == 3\n",
    "    assert dimer_m_.shape[2] == dimer_m_.shape[3] \n",
    "    \n",
    "    edge_coors = np.array([[ 0.5     ,  0.      ],\n",
    "                           [ 0.25    , -0.433013],\n",
    "                           [ 0.75    , -0.433013]])\n",
    "    [b1, b2] = np.linalg.inv(A.T)\n",
    "    b = np.array([b1, b2])\n",
    "    G = edge_coors @ b.T\n",
    "    \n",
    "    \n",
    "    L = dimer_m_.shape[2]\n",
    "    \n",
    "    dimer_momentum = np.zeros((L,L,len(t_list)), dtype=np.complex128)\n",
    "    \n",
    "    for m1 in range(L):\n",
    "        for m2 in range(L):\n",
    "            tmp = np.zeros(dimer_m_.shape[-1],dtype=np.complex128)\n",
    "            for a in range(3):\n",
    "                for b in range(3):\n",
    "                    tmp += np.exp(-1j * (m1* (2*np.pi) /(L) *(G[a,0] - G[b,0]) + m2* (2*np.pi) /(L) *(G[a,1] - G[b,1]))) * dimer_m_[a,b,m1,m2]\n",
    "            dimer_momentum[m1,m2] = tmp / 3\n",
    "    return dimer_momentum"
   ]
  },
  {
   "cell_type": "code",
   "execution_count": 25,
   "id": "japanese-universal",
   "metadata": {},
   "outputs": [],
   "source": [
    "dimer_momentum_ = np.zeros((3,3,8,8,len(t_list)),dtype=np.complex128)\n",
    "for a in range(3):\n",
    "    for b in range(3):\n",
    "        dimer_momentum_[a,b] = dimer_fourier2D(dimer_corr[a,b])"
   ]
  },
  {
   "cell_type": "code",
   "execution_count": 1,
   "id": "surrounded-queens",
   "metadata": {},
   "outputs": [],
   "source": [
    "import numpy as np\n",
    "dimer_momentum = np.load('/home/keisuke/Documents/dimermaster/save/corr/h=1.0V=1.0l=[4, 4]/dimer_momentum_mean.npy')"
   ]
  },
  {
   "cell_type": "code",
   "execution_count": 3,
   "id": "fleet-ocean",
   "metadata": {
    "scrolled": true
   },
   "outputs": [
    {
     "data": {
      "text/plain": [
       "array([2.67040598+0.j, 2.67147436+0.j, 2.67013889+0.j, 2.67094017+0.j,\n",
       "       2.66746795+0.j, 2.66666667+0.j, 2.66693376+0.j, 2.66586538+0.j,\n",
       "       2.66346154+0.j, 2.65705128+0.j, 2.66826923+0.j, 2.67200855+0.j,\n",
       "       2.68429487+0.j, 2.6786859 +0.j, 2.6741453 +0.j, 2.67548077+0.j,\n",
       "       2.67361111+0.j, 2.68082265+0.j, 2.68269231+0.j, 2.68910256+0.j,\n",
       "       2.68990385+0.j, 2.67922009+0.j, 2.6784188 +0.j, 2.67280983+0.j,\n",
       "       2.6605235 +0.j, 2.66239316+0.j, 2.65811966+0.j, 2.65037393+0.j,\n",
       "       2.66105769+0.j, 2.65731838+0.j, 2.65945513+0.j, 2.66346154+0.j,\n",
       "       2.65731838+0.j, 2.65117521+0.j, 2.65998932+0.j, 2.66399573+0.j,\n",
       "       2.65892094+0.j, 2.65117521+0.j, 2.66132479+0.j, 2.66826923+0.j,\n",
       "       2.67174145+0.j, 2.67467949+0.j, 2.67307692+0.j, 2.68856838+0.j,\n",
       "       2.68429487+0.j, 2.68589744+0.j, 2.68242521+0.j, 2.6829594 +0.j,\n",
       "       2.67735043+0.j, 2.68215812+0.j, 2.67067308+0.j, 2.6786859 +0.j,\n",
       "       2.6786859 +0.j, 2.67922009+0.j, 2.67067308+0.j, 2.67574786+0.j,\n",
       "       2.67467949+0.j, 2.66907051+0.j, 2.6653312 +0.j, 2.67521368+0.j,\n",
       "       2.67494658+0.j, 2.67334402+0.j, 2.68055556+0.j, 2.67200855+0.j,\n",
       "       2.67574786+0.j, 2.6650641 +0.j, 2.66746795+0.j, 2.65544872+0.j,\n",
       "       2.67708333+0.j, 2.67628205+0.j, 2.67654915+0.j, 2.67922009+0.j,\n",
       "       2.6784188 +0.j, 2.68055556+0.j, 2.68456197+0.j, 2.68776709+0.j,\n",
       "       2.68189103+0.j, 2.69791667+0.j, 2.68936966+0.j, 2.67788462+0.j,\n",
       "       2.68189103+0.j, 2.67361111+0.j, 2.67494658+0.j, 2.68803419+0.j,\n",
       "       2.69684829+0.j, 2.6920406 +0.j, 2.69097222+0.j, 2.69791667+0.j,\n",
       "       2.68643162+0.j, 2.67922009+0.j, 2.66800214+0.j, 2.67280983+0.j,\n",
       "       2.67548077+0.j, 2.67494658+0.j, 2.67815171+0.j, 2.67200855+0.j,\n",
       "       2.67708333+0.j, 2.67013889+0.j, 2.65865385+0.j, 2.65651709+0.j])"
      ]
     },
     "execution_count": 3,
     "metadata": {},
     "output_type": "execute_result"
    }
   ],
   "source": [
    "dimer_momentum[0, 0]"
   ]
  },
  {
   "cell_type": "code",
   "execution_count": 36,
   "id": "disciplinary-settlement",
   "metadata": {},
   "outputs": [
    {
     "data": {
      "text/plain": [
       "array([ 7.35265916e-02+5.80519899e-18j,  6.47960299e-02+1.66187022e-17j,\n",
       "        5.81618729e-02+1.50285390e-17j,  5.33157985e-02+2.06468219e-17j,\n",
       "        4.89273487e-02+1.36674627e-17j,  4.38337687e-02+1.37776809e-17j,\n",
       "        3.87667829e-02+9.83661506e-18j,  3.62093328e-02+1.86223786e-17j,\n",
       "        3.38536339e-02+1.49844777e-17j,  3.27598826e-02+1.08289687e-17j,\n",
       "        2.99815721e-02+1.17208234e-17j,  2.86338044e-02+3.85333541e-18j,\n",
       "        2.73185796e-02+4.21114015e-18j,  2.37240419e-02+7.36085035e-18j,\n",
       "        2.13812814e-02+2.80600256e-18j,  2.10912619e-02+8.15713060e-18j,\n",
       "        1.99366524e-02+8.98162970e-18j,  1.94474704e-02+5.52922387e-18j,\n",
       "        1.91965425e-02+2.16327257e-18j,  1.92137386e-02+2.72374336e-18j,\n",
       "        1.81806960e-02+4.42785066e-18j,  1.73957433e-02+5.34299961e-18j,\n",
       "        1.73205564e-02+2.37116286e-18j,  1.58549725e-02+7.91747811e-19j,\n",
       "        1.42065007e-02+1.66283546e-18j,  1.33265547e-02+1.94210689e-18j,\n",
       "        1.36545920e-02+1.13970340e-18j,  1.32157743e-02+3.02957836e-19j,\n",
       "        1.18721830e-02+3.77765225e-19j,  1.16927469e-02+2.27541869e-18j,\n",
       "        1.15293752e-02+6.62447385e-18j,  1.14095750e-02+2.78018104e-18j,\n",
       "        1.11726196e-02+2.54616957e-18j,  1.07128144e-02+3.81491133e-19j,\n",
       "        1.03054974e-02+2.19714523e-18j,  1.14105339e-02+4.62405399e-18j,\n",
       "        1.16926910e-02+2.57811432e-18j,  1.14199942e-02+2.08320111e-18j,\n",
       "        1.07653454e-02+2.03048933e-18j,  9.10901557e-03-3.55954110e-19j,\n",
       "        9.31818996e-03-9.77057906e-19j,  9.17112295e-03-2.65906960e-18j,\n",
       "        6.60427190e-03+3.30224435e-18j,  5.93217388e-03-6.37622874e-19j,\n",
       "        6.86908899e-03-7.81425416e-18j,  7.56069729e-03-2.52324467e-18j,\n",
       "        6.33235035e-03-2.57856856e-18j,  6.07385438e-03-2.69953491e-18j,\n",
       "        4.49158912e-03-6.39687011e-18j,  3.94671348e-03-2.62365878e-18j,\n",
       "        3.73430091e-03-4.94094865e-18j,  2.97432396e-03-8.36320773e-18j,\n",
       "        2.76967557e-03-3.19817403e-18j,  3.29072198e-03-1.02484512e-18j,\n",
       "        4.33884081e-03-2.63457667e-18j,  3.98944173e-03-1.18897377e-18j,\n",
       "        5.56505586e-03-2.69953491e-18j,  6.55543151e-03-2.39204463e-18j,\n",
       "        6.61802744e-03+1.10562116e-18j,  6.05431997e-03-7.14827589e-19j,\n",
       "        5.88339826e-03-4.58614058e-18j,  5.64807380e-03-4.36870081e-18j,\n",
       "        5.05477686e-03-2.50479009e-18j,  4.50961415e-03-2.64322715e-18j,\n",
       "        4.45336835e-03-4.11032632e-18j,  4.03827805e-03-3.14978749e-18j,\n",
       "        3.75507779e-03-4.73935135e-18j,  3.24324412e-03-2.84782111e-18j,\n",
       "        2.82747716e-03-4.61063351e-18j,  3.68249864e-03-4.23086309e-18j,\n",
       "        3.72908133e-03-3.68936133e-18j,  3.92213961e-03-6.07207887e-18j,\n",
       "        3.47341313e-03-4.84451507e-18j,  3.23050673e-03-8.12799333e-19j,\n",
       "        1.21511549e-03-4.31658836e-18j,  1.89393743e-03-3.87066103e-18j,\n",
       "        2.16372369e-03-4.94754130e-18j,  7.48900448e-04-2.40056519e-18j,\n",
       "        1.54355980e-05-5.35925222e-19j,  9.27198184e-04-1.91695537e-19j,\n",
       "        1.20800840e-04-2.71298005e-18j,  7.79077702e-04-2.07667912e-19j,\n",
       "        1.24831958e-03-2.99516422e-19j,  1.24198991e-03+3.48354404e-18j,\n",
       "        1.65657526e-04+9.98223690e-20j,  1.45552158e-04-1.05293404e-18j,\n",
       "        3.84409790e-04+1.36172825e-18j,  5.43058404e-04-2.58053631e-18j,\n",
       "        9.05309884e-04-6.10602693e-19j,  8.20290029e-04+1.24418814e-18j,\n",
       "        7.84606569e-06-9.60955612e-19j, -8.43999186e-04-1.25799742e-18j,\n",
       "       -1.34656101e-03-2.91251952e-18j, -2.96141950e-03-4.76521269e-18j,\n",
       "       -1.20905420e-03-6.48739003e-18j, -2.39459232e-05-6.43840416e-18j,\n",
       "       -1.38434226e-03-6.28772064e-18j, -1.61070865e-03-1.99287559e-18j,\n",
       "       -1.49777392e-03-3.99625228e-18j, -5.28599659e-04-4.45129951e-18j])"
      ]
     },
     "execution_count": 36,
     "metadata": {},
     "output_type": "execute_result"
    }
   ],
   "source": [
    "dimer_momentum = dimer_fourier2D_sub(dimer_momentum_)\n",
    "\n",
    "dimer_momentum[1,3]"
   ]
  },
  {
   "cell_type": "markdown",
   "id": "announced-happening",
   "metadata": {},
   "source": [
    "# "
   ]
  },
  {
   "cell_type": "code",
   "execution_count": null,
   "id": "forward-visibility",
   "metadata": {},
   "outputs": [],
   "source": []
  },
  {
   "cell_type": "code",
   "execution_count": null,
   "id": "challenging-grant",
   "metadata": {},
   "outputs": [],
   "source": []
  },
  {
   "cell_type": "code",
   "execution_count": null,
   "id": "defensive-dryer",
   "metadata": {},
   "outputs": [],
   "source": []
  },
  {
   "cell_type": "code",
   "execution_count": null,
   "id": "employed-infection",
   "metadata": {},
   "outputs": [],
   "source": []
  },
  {
   "cell_type": "code",
   "execution_count": null,
   "id": "convenient-extension",
   "metadata": {},
   "outputs": [],
   "source": []
  },
  {
   "cell_type": "code",
   "execution_count": null,
   "id": "arctic-throw",
   "metadata": {},
   "outputs": [],
   "source": []
  },
  {
   "cell_type": "code",
   "execution_count": null,
   "id": "democratic-turning",
   "metadata": {},
   "outputs": [],
   "source": []
  },
  {
   "cell_type": "code",
   "execution_count": null,
   "id": "protecting-syria",
   "metadata": {},
   "outputs": [],
   "source": []
  },
  {
   "cell_type": "code",
   "execution_count": null,
   "id": "tired-location",
   "metadata": {},
   "outputs": [],
   "source": []
  },
  {
   "cell_type": "code",
   "execution_count": null,
   "id": "forced-wages",
   "metadata": {},
   "outputs": [],
   "source": []
  },
  {
   "cell_type": "code",
   "execution_count": null,
   "id": "shaped-wrist",
   "metadata": {},
   "outputs": [],
   "source": []
  },
  {
   "cell_type": "markdown",
   "id": "tested-sally",
   "metadata": {},
   "source": [
    "## import numpy as np\n",
    "\n",
    "dimer_momentum = np.load(\"/home/keisuke/Documents/dimermaster/save/corr/h=1.0V=1.0l=[4, 4]/dimer_momentum_mean.npy\")"
   ]
  },
  {
   "cell_type": "code",
   "execution_count": 359,
   "id": "minus-somalia",
   "metadata": {},
   "outputs": [
    {
     "data": {
      "text/plain": [
       "array([0.04312839-1.68954839e-18j, 0.03887289-4.37746627e-18j,\n",
       "       0.03537223-4.68917440e-18j, 0.03277867-1.21633931e-18j,\n",
       "       0.03045852-6.27030256e-18j, 0.02849348-4.56268414e-18j,\n",
       "       0.02672986-4.94469600e-18j, 0.0249787 -4.17079023e-18j,\n",
       "       0.02381871-3.61471310e-18j, 0.02253215-3.61061911e-18j,\n",
       "       0.02146164-9.46418146e-19j, 0.02035038-1.67147835e-18j,\n",
       "       0.01912295+1.31911264e-18j, 0.01806659-1.45237916e-18j,\n",
       "       0.01734986+2.14581680e-18j, 0.01657209-5.55653613e-19j,\n",
       "       0.01592629+1.82281490e-18j, 0.01520482-4.68126876e-19j,\n",
       "       0.01465175+2.02949094e-18j, 0.0140664 -2.50721752e-19j,\n",
       "       0.01355227-3.25260652e-19j, 0.01317165-4.69820941e-19j,\n",
       "       0.01256853-2.07805416e-19j, 0.0122146 -1.95382266e-19j,\n",
       "       0.01174766-2.86861825e-19j, 0.01119764-1.98770398e-19j,\n",
       "       0.01090798+2.15089900e-18j, 0.01052176-2.34910471e-19j,\n",
       "       0.00987125+2.24520200e-18j, 0.00967066-1.26490253e-19j,\n",
       "       0.00946384+2.17292185e-18j, 0.00886299-1.26490253e-19j,\n",
       "       0.00849952+2.21809694e-18j, 0.00814755+2.25875453e-18j,\n",
       "       0.00780915+2.25875453e-18j, 0.00746023+2.24971951e-18j,\n",
       "       0.00697037+2.22261445e-18j, 0.00675371+2.21357944e-18j,\n",
       "       0.00656654+2.22713196e-18j, 0.00642659+2.28585958e-18j,\n",
       "       0.00625497+2.21809694e-18j, 0.00588483+2.22261445e-18j,\n",
       "       0.00565598+2.25423702e-18j, 0.00555289+2.25875453e-18j,\n",
       "       0.00538232-4.06575815e-20j, 0.00532854+2.28585958e-18j,\n",
       "       0.00516688-3.38813179e-20j, 0.00495124-3.27519406e-20j,\n",
       "       0.00487254-2.93638088e-20j, 0.00479954-3.61400724e-20j,\n",
       "       0.0044102 -3.38813179e-20j, 0.0043625 -4.51750905e-20j,\n",
       "       0.00424639-4.85632223e-20j, 0.00398386-4.96925996e-20j,\n",
       "       0.0038552 -7.67976539e-20j, 0.00352988-2.25875453e-20j,\n",
       "       0.00339875-4.29163360e-20j, 0.00334781-3.83988269e-20j,\n",
       "       0.00340046-5.64688632e-20j, 0.00320663-2.25875453e-20j,\n",
       "       0.0032236 -5.47747973e-20j, 0.00313775-7.67976539e-20j,\n",
       "       0.00313522-7.67976539e-20j, 0.00313161-8.75267379e-20j,\n",
       "       0.00288893-8.13151629e-20j, 0.00262147-7.22801448e-20j,\n",
       "       0.00272172-4.51750905e-20j, 0.00253732-8.58326720e-20j,\n",
       "       0.00239205-3.83988269e-20j, 0.00250631-6.09863722e-20j,\n",
       "       0.00231967-3.61400724e-20j, 0.00226023-1.80700362e-20j,\n",
       "       0.00226995-4.06575815e-20j, 0.00200267-2.48462998e-20j,\n",
       "       0.00182244+2.25875453e-21j, 0.00201964-1.80700362e-20j,\n",
       "       0.00173695+0.00000000e+00j, 0.00176363+4.51750905e-21j,\n",
       "       0.0016401 -9.03501810e-21j, 0.00165471-9.03501810e-21j,\n",
       "       0.00160842-3.61400724e-20j, 0.00149582-2.25875453e-20j,\n",
       "       0.00137197-4.96925996e-20j, 0.00137012-2.25875453e-20j,\n",
       "       0.00117515+0.00000000e+00j, 0.00123826+0.00000000e+00j,\n",
       "       0.00123853-4.51750905e-21j, 0.00120458+1.12937726e-21j,\n",
       "       0.00127538-1.69406589e-21j, 0.00137467-1.12937726e-20j,\n",
       "       0.0014565 -8.18798516e-21j, 0.00116439+3.95282042e-21j,\n",
       "       0.00127224+1.35525272e-20j, 0.00124139+1.80700362e-20j,\n",
       "       0.00108447+1.58112817e-20j, 0.00100178+9.03501810e-21j,\n",
       "       0.00094961+1.01643954e-20j, 0.00080118+2.25875453e-20j,\n",
       "       0.00091062+1.35525272e-20j, 0.00062521+4.74338450e-20j])"
      ]
     },
     "execution_count": 359,
     "metadata": {},
     "output_type": "execute_result"
    }
   ],
   "source": [
    "dimer_momentum[1,2]"
   ]
  },
  {
   "cell_type": "code",
   "execution_count": 88,
   "id": "educated-firmware",
   "metadata": {},
   "outputs": [],
   "source": [
    "tau_list = []\n",
    "N = 2000\n",
    "corr1 = []\n",
    "corr2 = np.zeros((48,N),dtype=np.float64)\n",
    "n = -1\n",
    "import re\n",
    "with open('RN4_4V1.0st.dat') as fe:\n",
    "    for line in fe:\n",
    "        \n",
    "        if re.findall(r'#\\d', line):\n",
    "            i = 0\n",
    "            n += 1\n",
    "        else:\n",
    "            try:\n",
    "                match = re.findall(r'[\\d,\\.]+', line)\n",
    "                tau_list.append(float(match[1]))\n",
    "                corr2[n,i] = float(match[3])\n",
    "                i+=1\n",
    "            except:\n",
    "                pass"
   ]
  },
  {
   "cell_type": "code",
   "execution_count": 65,
   "id": "thirty-buffalo",
   "metadata": {},
   "outputs": [],
   "source": [
    "par_path = '/Users/keisukemurota/Documents/Resaerch/Dimer_RBM/save/dat/'\n",
    "path = par_path + \"R[4,4]V1.0.dat\"\n",
    "from scripts import utils\n",
    "importlib.reload(utils)\n",
    "utils.write2dat(dimer_momentum, t_list, path)"
   ]
  },
  {
   "cell_type": "code",
   "execution_count": 78,
   "id": "responsible-harvest",
   "metadata": {
    "scrolled": true
   },
   "outputs": [
    {
     "data": {
      "text/plain": [
       "array([-0.05634956,  0.42758727,  0.00322997,  0.42758727, -0.0441282 ,\n",
       "        0.42758727,  0.0046754 ,  0.42758727, -0.00115713, -0.00917361,\n",
       "       -0.01261676, -0.00640277, -0.00570326, -0.0147057 , -0.01300102,\n",
       "       -0.00211408, -0.02437084,  0.42758727, -0.01894938,  0.42758727,\n",
       "       -0.02238292,  0.42758727, -0.02108872,  0.42758727, -0.00573926,\n",
       "       -0.00756955, -0.01115713, -0.01382396, -0.00062284, -0.0066182 ,\n",
       "       -0.0128662 , -0.01682243, -0.0241016 ,  0.42758727, -0.01379675,\n",
       "        0.42758727, -0.02562104,  0.42758727, -0.01401078,  0.42758727,\n",
       "       -0.0072511 , -0.01454327, -0.01759956, -0.00695526, -0.00468229,\n",
       "       -0.01462088, -0.01405399, -0.00369133, -0.02069845,  0.42758727,\n",
       "       -0.02181723,  0.42758727, -0.02030079,  0.42758727, -0.02049422,\n",
       "        0.42758727,  0.00094381, -0.0047047 , -0.01026439, -0.01439945,\n",
       "       -0.0041022 , -0.00484732, -0.01371034, -0.01257396])"
      ]
     },
     "execution_count": 78,
     "metadata": {},
     "output_type": "execute_result"
    }
   ],
   "source": [
    "(corr2[3][:200][None,None,:] - dimer_corr).mean(axis=-1).reshape(-1,order='F')"
   ]
  }
 ],
 "metadata": {
  "kernelspec": {
   "display_name": "Python 3",
   "language": "python",
   "name": "python3"
  },
  "language_info": {
   "codemirror_mode": {
    "name": "ipython",
    "version": 3
   },
   "file_extension": ".py",
   "mimetype": "text/x-python",
   "name": "python",
   "nbconvert_exporter": "python",
   "pygments_lexer": "ipython3",
   "version": "3.8.5"
  }
 },
 "nbformat": 4,
 "nbformat_minor": 5
}
