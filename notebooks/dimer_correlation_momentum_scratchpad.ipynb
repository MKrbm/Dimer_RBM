{
 "cells": [
  {
   "cell_type": "code",
   "execution_count": 1,
   "id": "enclosed-correspondence",
   "metadata": {
    "scrolled": true
   },
   "outputs": [],
   "source": [
    "import sys\n",
    "import importlib\n",
    "sys.path.insert(0,'../')\n",
    "import numpy as np\n",
    "import netket as nk\n",
    "from scripts import functions as f\n",
    "importlib.reload(f)\n",
    "\n",
    "from scripts import new_dynamics, new_dynamics2\n",
    "import os\n",
    "currentpath = os.getcwd()\n",
    "parentdir = os.path.dirname(currentpath)"
   ]
  },
  {
   "cell_type": "code",
   "execution_count": 2,
   "id": "proprietary-afternoon",
   "metadata": {},
   "outputs": [],
   "source": [
    "from scripts import Dimer_RBM"
   ]
  },
  {
   "cell_type": "code",
   "execution_count": 3,
   "id": "advanced-green",
   "metadata": {},
   "outputs": [
    {
     "name": "stdout",
     "output_type": "stream",
     "text": [
      "yoyo\n",
      "2\n"
     ]
    }
   ],
   "source": [
    "length=[4, 4]\n",
    "V = 1.0\n",
    "h = 1.0\n",
    "g = nk.graph.Graph(nodes = [i for i in range(length[0] * length[1] * 2)])\n",
    "hi = nk.hilbert.Spin(s=0.5, graph=g)\n",
    "\n",
    "\n",
    "ham = f.dimer_hamiltonian(V = V, h = h ,length=np.array(length))\n",
    "op_transition1 = f.dimer_flip1(length = np.array(length))\n",
    "\n",
    "\n",
    "hex_ = nk.machine.new_hex(np.array(length))\n",
    "\n",
    "ma = nk.machine.RbmDimer(hi, hex_, alpha = 2, symmetry = True\n",
    "                    ,use_hidden_bias = False, use_visible_bias = False, dtype=float, reverse=True, half=True)\n",
    "ma.init_random_parameters(seed=1234)"
   ]
  },
  {
   "cell_type": "code",
   "execution_count": 4,
   "id": "small-jacksonville",
   "metadata": {},
   "outputs": [],
   "source": [
    "ma._ws[:] = 0"
   ]
  },
  {
   "cell_type": "code",
   "execution_count": 8,
   "id": "fluid-accessory",
   "metadata": {},
   "outputs": [],
   "source": [
    "ma._set_bare_parameters(\n",
    "    ma._a, ma._b, ma._w, ma._as, ma._bs, ma._ws, ma._autom, ma._z2\n",
    ")\n",
    "op, ad2o_o, op_num, label_num  = f.dimer_flip1(length = np.array(length), return_info = True)\n",
    "\n",
    "ad2_bool = np.zeros([ad2o_o.shape[0], ad2o_o.shape[0]], dtype = np.bool)\n",
    "for l in range(ad2o_o.shape[0]):\n",
    "    label = ad2o_o[l]\n",
    "    for op_ in label:\n",
    "        ad2_bool[l,op_] = True\n",
    "        \n",
    "ma.hex.ad2o_o = ad2o_o.astype(np.int64)\n",
    "ma.hex.ad2_bool = ad2_bool"
   ]
  },
  {
   "cell_type": "code",
   "execution_count": 9,
   "id": "greatest-examination",
   "metadata": {},
   "outputs": [
    {
     "name": "stdout",
     "output_type": "stream",
     "text": [
      "yoyo\n",
      "number of core : 4\n"
     ]
    },
    {
     "data": {
      "text/plain": [
       "array([[[ 1.,  1.,  1., ...,  1.,  1.,  1.]],\n",
       "\n",
       "       [[ 1.,  1.,  1., ...,  1., -1.,  1.]],\n",
       "\n",
       "       [[ 1.,  1., -1., ...,  1.,  1.,  1.]],\n",
       "\n",
       "       ...,\n",
       "\n",
       "       [[ 1., -1.,  1., ..., -1., -1., -1.]],\n",
       "\n",
       "       [[-1., -1., -1., ..., -1.,  1., -1.]],\n",
       "\n",
       "       [[-1.,  1.,  1., ...,  1., -1.,  1.]]])"
      ]
     },
     "execution_count": 9,
     "metadata": {},
     "output_type": "execute_result"
    }
   ],
   "source": [
    "\n",
    "# create save folder.\n",
    "\n",
    "\n",
    "n_jobs = 4\n",
    "\n",
    "g = nk.graph.Graph(nodes = [i for i in range(length[0] * length[1] * 2)])\n",
    "hi = nk.hilbert.Spin(s=0.5, graph=g)\n",
    "\n",
    "op = f.dimer_hamiltonian(h, V,np.array(length))\n",
    "op_transition = f.dimer_flip1(length = np.array(length))\n",
    "hex_ = nk.machine.new_hex(np.array(length))\n",
    "\n",
    "\n",
    "\n",
    "\n",
    "sweep_size = 1000\n",
    "sa_mul = nk.sampler.DimerMetropolisLocal_multi(machine=ma, op=op_transition, length = length, n_chains=1, sweep_size = sweep_size, kernel = 1, n_jobs=n_jobs)\n",
    "sa_mul.reset()\n",
    "sa_mul.generate_samples(1000) # discard the begginings of metropolis sampling.\n",
    "\n"
   ]
  },
  {
   "cell_type": "code",
   "execution_count": 10,
   "id": "stuck-fundamentals",
   "metadata": {
    "scrolled": true
   },
   "outputs": [
    {
     "name": "stdout",
     "output_type": "stream",
     "text": [
      "get samples\n"
     ]
    }
   ],
   "source": [
    "n_samples_ = 10**4\n",
    "samples_state = sa_mul.generate_samples(int(n_samples_ / 1))\n",
    "samples_state = samples_state.reshape(-1, ma.hilbert.size)\n",
    "print('get samples')"
   ]
  },
  {
   "cell_type": "code",
   "execution_count": 11,
   "id": "spare-workplace",
   "metadata": {
    "scrolled": true
   },
   "outputs": [
    {
     "data": {
      "text/plain": [
       "<module 'scripts.dynamics_4' from '../scripts/dynamics_4.py'>"
      ]
     },
     "execution_count": 11,
     "metadata": {},
     "output_type": "execute_result"
    }
   ],
   "source": [
    "import scripts.dynamics as Dynamics\n",
    "import scripts.dynamics_4 as sdy\n",
    "\n",
    "import scripts\n",
    "importlib.reload(sdy)"
   ]
  },
  {
   "cell_type": "code",
   "execution_count": 12,
   "id": "frank-graduation",
   "metadata": {
    "scrolled": true
   },
   "outputs": [],
   "source": [
    "t_list = np.arange(0,10,0.1)\n",
    "\n",
    "# d = Dynamics.new_dynamics(op, ma)\n",
    "# %time P_ = d.multiprocess(samples_state, 100, 4) \n",
    "# P = P_[0]\n",
    "# T = P_[1]\n",
    "# P_list = f.process_P(P, T, t_list)\n",
    "\n",
    "d = sdy.new_dynamics_one(op, ma)\n",
    "P_list = d.multiprocess(samples_state, t_list,4) "
   ]
  },
  {
   "cell_type": "code",
   "execution_count": 13,
   "id": "filled-compact",
   "metadata": {},
   "outputs": [],
   "source": [
    "edge_corr1 = np.array([ 0.5     ,  0.      ])\n",
    "edge_corr2 = np.array([ 0.25    , -0.433013])\n",
    "edge_corr3 = np.array([ 0.75    , -0.433013])"
   ]
  },
  {
   "cell_type": "code",
   "execution_count": 14,
   "id": "upset-potato",
   "metadata": {},
   "outputs": [],
   "source": [
    "g = nk.graph.Graph(nodes = [i for i in range(length[0] * length[1] * 2)])\n",
    "hi = nk.hilbert.Spin(s=0.5, graph=g)\n",
    "hex_ = nk.machine.new_hex(np.array(length))\n",
    "\n",
    "\n",
    "x = np.arange(length[0])\n",
    "y = np.arange(length[1])\n",
    "\n",
    "xx, yy = np.meshgrid(x,y)\n",
    "xx = xx.reshape(-1)\n",
    "yy = yy.reshape(-1)\n",
    "\n",
    "operators_list = []\n",
    "\n",
    "for base_edge in [edge_corr1, edge_corr2, edge_corr3]:\n",
    "    edge_coor_array = hex_.ProcessPeriodic(xx[:,None] * hex_.a1[None,:]+ yy[:,None]  * hex_.a2[None,:] + base_edge)\n",
    "    edges = hex_.edge_coor_to_lattice(edge_coor_array)\n",
    "    colors = hex_.get_edge_color(edges)\n",
    "\n",
    "    operators_list.append(f.return_spin_corr(hi, edges, colors))"
   ]
  },
  {
   "cell_type": "code",
   "execution_count": 15,
   "id": "behind-catholic",
   "metadata": {},
   "outputs": [
    {
     "data": {
      "text/plain": [
       "array([[12, 16]])"
      ]
     },
     "execution_count": 15,
     "metadata": {},
     "output_type": "execute_result"
    }
   ],
   "source": [
    "operators_list[0][4]._acting_on"
   ]
  },
  {
   "cell_type": "code",
   "execution_count": 16,
   "id": "stupid-jersey",
   "metadata": {},
   "outputs": [
    {
     "data": {
      "text/plain": [
       "array([ 0.5       , -0.86602539])"
      ]
     },
     "execution_count": 16,
     "metadata": {},
     "output_type": "execute_result"
    }
   ],
   "source": [
    "hex_.a2"
   ]
  },
  {
   "cell_type": "code",
   "execution_count": 17,
   "id": "seventh-brand",
   "metadata": {},
   "outputs": [
    {
     "data": {
      "text/plain": [
       "0.28867513459481287"
      ]
     },
     "execution_count": 17,
     "metadata": {},
     "output_type": "execute_result"
    }
   ],
   "source": [
    "1/2 * np.tan(1/6 * np.pi)"
   ]
  },
  {
   "cell_type": "code",
   "execution_count": null,
   "id": "cheap-liabilities",
   "metadata": {},
   "outputs": [],
   "source": []
  },
  {
   "cell_type": "code",
   "execution_count": 18,
   "id": "hearing-contributor",
   "metadata": {},
   "outputs": [],
   "source": [
    "T, color = hex_.autom(reverse=True, half=True)\n",
    "from numba import njit"
   ]
  },
  {
   "cell_type": "code",
   "execution_count": 19,
   "id": "linear-frame",
   "metadata": {},
   "outputs": [],
   "source": [
    "@njit\n",
    "def _permute(x, T, color):\n",
    "    x_ = np.zeros((T.shape[0], x.shape[-1]))\n",
    "    \n",
    "    for j in range(len(x_)):\n",
    "        for i in range(len(x)):\n",
    "            x_[j,i] = x[T[j,i]] * color[i]\n",
    "    return x_"
   ]
  },
  {
   "cell_type": "code",
   "execution_count": 20,
   "id": "dutch-borough",
   "metadata": {},
   "outputs": [],
   "source": [
    "@njit\n",
    "def permute(X, T, color):\n",
    "    \n",
    "    X_ = np.zeros((X.shape[0]*2, T.shape[1], X.shape[-1]))\n",
    "    \n",
    "    for a in range(2):\n",
    "        for i in range(len(X)):\n",
    "            X_[2*i + a] = _permute(X[i], T[a], color[a])\n",
    "    return X_.reshape(-1,X.shape[-1])"
   ]
  },
  {
   "cell_type": "code",
   "execution_count": 21,
   "id": "natural-albuquerque",
   "metadata": {},
   "outputs": [],
   "source": [
    "# new_P_list = np.zeros((P_list.shape[0], P_list.shape[1] * T.shape[0] * T.shape[1], P_list.shape[-1]))\n",
    "\n",
    "# for t in range(len(new_P_list)):\n",
    "#     new_P_list[t] = permute(P_list[t], T, color)"
   ]
  },
  {
   "cell_type": "code",
   "execution_count": 23,
   "id": "technical-hollywood",
   "metadata": {},
   "outputs": [],
   "source": [
    "dimer_corr = np.zeros((3,3,length[0],length[0],len(t_list)), dtype = np.float64)\n",
    "\n",
    "for a in range(3):\n",
    "    for b in range(3):\n",
    "        dimer_corr[b,a], _, _ = f.cal_dimer_corr(operators_list[a][0], operators_list[b], P_list, hex_, t_list)\n",
    "        \n",
    "# for a in range(3):\n",
    "#     for b in range(a):\n",
    "#         for i in range(length[0]):\n",
    "#             for j in range(length[1]):\n",
    "                \n",
    "#                 tmp = (dimer_corr[b,a][i,j] + dimer_corr[a,b][-i, -j])/2\n",
    "#                 dimer_corr[b,a][i,j] = tmp\n",
    "#                 dimer_corr[a,b][-i, -j] = tmp\n",
    "                \n",
    "                \n",
    "for a in range(3):\n",
    "    for b in range(a+1):\n",
    "        for i in range(length[0]):\n",
    "            for j in range(length[1]):\n",
    "                \n",
    "                tmp = (dimer_corr[b,a][i,j] + dimer_corr[a,b][-i,-j])/2\n",
    "                dimer_corr[b,a][i,j] = tmp\n",
    "                dimer_corr[a,b][-i,-j] = tmp\n"
   ]
  },
  {
   "cell_type": "code",
   "execution_count": 372,
   "id": "cordless-oliver",
   "metadata": {},
   "outputs": [
    {
     "data": {
      "text/plain": [
       "array([0.4569, 0.4533, 0.4567, 0.4556, 0.4587, 0.4592, 0.4583, 0.4567,\n",
       "       0.4549, 0.4534, 0.452 , 0.453 , 0.4521, 0.4537, 0.4502, 0.4484,\n",
       "       0.4482, 0.4502, 0.446 , 0.4491, 0.452 , 0.45  , 0.4508, 0.444 ,\n",
       "       0.446 , 0.4456, 0.4488, 0.4485, 0.4436, 0.4422, 0.4393, 0.4425,\n",
       "       0.4426, 0.4392, 0.443 , 0.4445, 0.4415, 0.4377, 0.4384, 0.4387,\n",
       "       0.4404, 0.4365, 0.4375, 0.4348, 0.4392, 0.4419, 0.4458, 0.4449,\n",
       "       0.4468, 0.4484, 0.454 , 0.4484, 0.4486, 0.4471, 0.4485, 0.4466,\n",
       "       0.4472, 0.4442, 0.444 , 0.4434, 0.4453, 0.4443, 0.4428, 0.4431,\n",
       "       0.4424, 0.4414, 0.4387, 0.4381, 0.4364, 0.4359, 0.4371, 0.4391,\n",
       "       0.4405, 0.4365, 0.4411, 0.4392, 0.436 , 0.4394, 0.4397, 0.4418,\n",
       "       0.4388, 0.4391, 0.4391, 0.4414, 0.4438, 0.4439, 0.4466, 0.4457,\n",
       "       0.4497, 0.4526, 0.451 , 0.449 , 0.4468, 0.4456, 0.4479, 0.4448,\n",
       "       0.444 , 0.4437, 0.4429, 0.4436])"
      ]
     },
     "execution_count": 372,
     "metadata": {},
     "output_type": "execute_result"
    }
   ],
   "source": [
    "dimer_corr[2,1][-1,-1]"
   ]
  },
  {
   "cell_type": "code",
   "execution_count": 24,
   "id": "occupied-telephone",
   "metadata": {},
   "outputs": [],
   "source": [
    "from numba import njit\n",
    "@njit\n",
    "def dimer_fourier2D(corr):\n",
    "    \n",
    "    assert corr.shape[0] == corr.shape[1]\n",
    "    L = x.shape[0]\n",
    "    \n",
    "    momentum = np.zeros((L*2, L*2, corr.shape[-1]), dtype=np.complex128)\n",
    "    \n",
    "    for m1 in range(2 * L):\n",
    "        for m2 in range(2 * L):\n",
    "            tmp = np.zeros(corr.shape[-1], dtype=np.complex128)\n",
    "            for n1 in range(L):\n",
    "                for n2 in range(L):\n",
    "                    tmp += np.exp(-1j*(n1 * m1/(L) * 2 * np.pi + n2 * m2/(L) * 2 * np.pi)) * corr[n1,n2]\n",
    "            momentum[m1,m2] = tmp/(2*L)\n",
    "    \n",
    "    return momentum\n",
    "\n",
    "A = np.array([\n",
    "hex_.a1,\n",
    "hex_.a2\n",
    "])\n",
    "def dimer_fourier2D_sub(dimer_m_):\n",
    "    assert dimer_m_.shape[0] == dimer_m_.shape[1] == 3\n",
    "    assert dimer_m_.shape[2] == dimer_m_.shape[3] \n",
    "    \n",
    "    edge_coors = np.array([[ 0.5     ,  0.      ],\n",
    "                           [ 0.25    , -0.433013],\n",
    "                           [ 0.75    , -0.433013]])\n",
    "    [b1, b2] = np.linalg.inv(A.T)\n",
    "    b = np.array([b1, b2])\n",
    "    G = edge_coors @ b.T\n",
    "    \n",
    "    \n",
    "    L = dimer_m_.shape[2]\n",
    "    \n",
    "    dimer_momentum = np.zeros((L,L,len(t_list)), dtype=np.complex128)\n",
    "    \n",
    "    for m1 in range(L):\n",
    "        for m2 in range(L):\n",
    "            tmp = np.zeros(dimer_m_.shape[-1],dtype=np.complex128)\n",
    "            for a in range(3):\n",
    "                for b in range(3):\n",
    "                    tmp += np.exp(-1j * (m1* (2*np.pi) /(L) *(G[a,0] - G[b,0]) + m2* (2*np.pi) /(L) *(G[a,1] - G[b,1]))) * dimer_m_[a,b,m1,m2]\n",
    "            dimer_momentum[m1,m2] = tmp / 3\n",
    "    return dimer_momentum"
   ]
  },
  {
   "cell_type": "code",
   "execution_count": 25,
   "id": "armed-seller",
   "metadata": {},
   "outputs": [],
   "source": [
    "dimer_momentum_ = np.zeros((3,3,8,8,len(t_list)),dtype=np.complex128)\n",
    "for a in range(3):\n",
    "    for b in range(3):\n",
    "        dimer_momentum_[a,b] = dimer_fourier2D(dimer_corr[a,b])"
   ]
  },
  {
   "cell_type": "code",
   "execution_count": 31,
   "id": "numeric-auditor",
   "metadata": {},
   "outputs": [
    {
     "data": {
      "text/plain": [
       "array([ 0.04396758-1.40946282e-18j,  0.03863612-4.26452855e-18j,\n",
       "        0.03535999-4.04768811e-18j,  0.03249969-2.09612420e-18j,\n",
       "        0.03032106-2.67436536e-18j,  0.02878868-5.49329101e-18j,\n",
       "        0.02676793-1.44560290e-19j,  0.02458545-3.54172710e-18j,\n",
       "        0.02299801+2.89120579e-19j,  0.0218876 +2.31296463e-18j,\n",
       "        0.02047578-1.59016319e-18j,  0.01890845+4.33680869e-19j,\n",
       "        0.01821585-1.95156391e-18j,  0.01712001-1.44560290e-18j,\n",
       "        0.01625808+1.87928377e-18j,  0.01559251+1.87928377e-18j,\n",
       "        0.0146573 +1.59016319e-18j,  0.01524353+1.87928377e-18j,\n",
       "        0.01487323+1.87928377e-18j,  0.0140345 +2.09612420e-18j,\n",
       "        0.01355064+1.69858340e-18j,  0.01291348+2.04191409e-18j,\n",
       "        0.01310763+2.81892565e-18j,  0.01304971+2.96348594e-18j,\n",
       "        0.01136824-2.16840434e-19j,  0.01119252-1.08420217e-19j,\n",
       "        0.00990902+2.09612420e-18j,  0.01106669+2.31296463e-18j,\n",
       "        0.01127506+2.31296463e-18j,  0.01033931+2.16840434e-18j,\n",
       "        0.01023635-1.44560290e-19j,  0.01025015+0.00000000e+00j,\n",
       "        0.01006224+2.16840434e-18j,  0.00972085+0.00000000e+00j,\n",
       "        0.00967961+2.31296463e-18j,  0.00950673+2.16840434e-18j,\n",
       "        0.00924352+2.16840434e-18j,  0.00833966+2.16840434e-18j,\n",
       "        0.00809866+2.31296463e-18j,  0.00839673+2.45752492e-18j,\n",
       "        0.00729955+2.38524478e-18j,  0.0072695 +2.39427980e-18j,\n",
       "        0.00703933+2.31296463e-18j,  0.00810009+2.33103467e-18j,\n",
       "        0.00823959+2.24068449e-18j,  0.00821294+2.38524478e-18j,\n",
       "        0.00806653+2.24068449e-18j,  0.00697013+2.24068449e-18j,\n",
       "        0.00586949+1.96963395e-18j,  0.00594835+1.87928377e-18j,\n",
       "        0.00688559+2.04191409e-18j,  0.00590686+1.80700362e-18j,\n",
       "        0.00643473+1.80700362e-18j,  0.00551413+2.02384406e-18j,\n",
       "        0.00571468+2.16840434e-18j,  0.0069122 +1.73472348e-18j,\n",
       "        0.00585985+1.73472348e-18j,  0.00548115+1.80700362e-18j,\n",
       "        0.00547654+1.87928377e-18j,  0.00597018-4.33680869e-19j,\n",
       "        0.00386275-5.78241159e-19j,  0.00382066+1.87928377e-18j,\n",
       "        0.00329202+2.02384406e-18j,  0.00256585-2.89120579e-19j,\n",
       "        0.00346939+0.00000000e+00j,  0.00369052-2.89120579e-19j,\n",
       "        0.00268367-7.22801448e-20j,  0.00270467-5.42101086e-20j,\n",
       "        0.00288992-2.16840434e-19j,  0.00171391-3.97540797e-19j,\n",
       "        0.00073464-4.33680869e-19j,  0.00117544-3.25260652e-19j,\n",
       "        0.00177128-3.97540797e-19j,  0.00207743-4.33680869e-19j,\n",
       "        0.0016852 +2.09612420e-18j,  0.00202255-1.44560290e-19j,\n",
       "        0.00289802-2.89120579e-19j,  0.0020086 -1.44560290e-19j,\n",
       "        0.00134067+2.89120579e-19j,  0.00105613-7.22801448e-20j,\n",
       "        0.00163514-1.44560290e-19j,  0.00065224+1.59016319e-18j,\n",
       "        0.00011607-2.89120579e-19j,  0.00059415-1.44560290e-19j,\n",
       "       -0.00024498-1.44560290e-19j,  0.00012052-4.33680869e-19j,\n",
       "        0.00031275-2.89120579e-19j,  0.00035525-7.95081593e-19j,\n",
       "        0.00094848-4.33680869e-19j,  0.00084636+0.00000000e+00j,\n",
       "        0.00122339+2.89120579e-19j,  0.00186638+1.44560290e-19j,\n",
       "        0.00095139-1.44560290e-19j,  0.0008384 -2.89120579e-19j,\n",
       "        0.00059996-1.44560290e-19j,  0.00148134+0.00000000e+00j,\n",
       "        0.00117379+0.00000000e+00j,  0.00077049-1.44560290e-19j,\n",
       "        0.00063883-1.44560290e-19j,  0.00122137-2.89120579e-19j])"
      ]
     },
     "execution_count": 31,
     "metadata": {},
     "output_type": "execute_result"
    }
   ],
   "source": [
    "dimer_momentum = dimer_fourier2D_sub(dimer_momentum_)\n",
    "\n",
    "dimer_momentum[1,2]"
   ]
  },
  {
   "cell_type": "markdown",
   "id": "equal-sensitivity",
   "metadata": {},
   "source": [
    "# "
   ]
  },
  {
   "cell_type": "code",
   "execution_count": null,
   "id": "cloudy-insertion",
   "metadata": {},
   "outputs": [],
   "source": []
  },
  {
   "cell_type": "code",
   "execution_count": null,
   "id": "irish-storm",
   "metadata": {},
   "outputs": [],
   "source": []
  },
  {
   "cell_type": "code",
   "execution_count": null,
   "id": "designed-pakistan",
   "metadata": {},
   "outputs": [],
   "source": []
  },
  {
   "cell_type": "code",
   "execution_count": null,
   "id": "precious-thunder",
   "metadata": {},
   "outputs": [],
   "source": []
  },
  {
   "cell_type": "code",
   "execution_count": null,
   "id": "offensive-injury",
   "metadata": {},
   "outputs": [],
   "source": []
  },
  {
   "cell_type": "code",
   "execution_count": null,
   "id": "determined-oregon",
   "metadata": {},
   "outputs": [],
   "source": []
  },
  {
   "cell_type": "code",
   "execution_count": null,
   "id": "welcome-weekend",
   "metadata": {},
   "outputs": [],
   "source": []
  },
  {
   "cell_type": "code",
   "execution_count": null,
   "id": "informative-joshua",
   "metadata": {},
   "outputs": [],
   "source": []
  },
  {
   "cell_type": "code",
   "execution_count": null,
   "id": "short-poverty",
   "metadata": {},
   "outputs": [],
   "source": []
  },
  {
   "cell_type": "code",
   "execution_count": null,
   "id": "surrounded-formula",
   "metadata": {},
   "outputs": [],
   "source": []
  },
  {
   "cell_type": "code",
   "execution_count": null,
   "id": "swiss-province",
   "metadata": {},
   "outputs": [],
   "source": []
  },
  {
   "cell_type": "markdown",
   "id": "initial-score",
   "metadata": {},
   "source": [
    "## import numpy as np\n",
    "\n",
    "dimer_momentum = np.load(\"/home/keisuke/Documents/dimermaster/save/corr/h=1.0V=1.0l=[4, 4]/dimer_momentum_mean.npy\")"
   ]
  },
  {
   "cell_type": "code",
   "execution_count": 359,
   "id": "original-pearl",
   "metadata": {},
   "outputs": [
    {
     "data": {
      "text/plain": [
       "array([0.04312839-1.68954839e-18j, 0.03887289-4.37746627e-18j,\n",
       "       0.03537223-4.68917440e-18j, 0.03277867-1.21633931e-18j,\n",
       "       0.03045852-6.27030256e-18j, 0.02849348-4.56268414e-18j,\n",
       "       0.02672986-4.94469600e-18j, 0.0249787 -4.17079023e-18j,\n",
       "       0.02381871-3.61471310e-18j, 0.02253215-3.61061911e-18j,\n",
       "       0.02146164-9.46418146e-19j, 0.02035038-1.67147835e-18j,\n",
       "       0.01912295+1.31911264e-18j, 0.01806659-1.45237916e-18j,\n",
       "       0.01734986+2.14581680e-18j, 0.01657209-5.55653613e-19j,\n",
       "       0.01592629+1.82281490e-18j, 0.01520482-4.68126876e-19j,\n",
       "       0.01465175+2.02949094e-18j, 0.0140664 -2.50721752e-19j,\n",
       "       0.01355227-3.25260652e-19j, 0.01317165-4.69820941e-19j,\n",
       "       0.01256853-2.07805416e-19j, 0.0122146 -1.95382266e-19j,\n",
       "       0.01174766-2.86861825e-19j, 0.01119764-1.98770398e-19j,\n",
       "       0.01090798+2.15089900e-18j, 0.01052176-2.34910471e-19j,\n",
       "       0.00987125+2.24520200e-18j, 0.00967066-1.26490253e-19j,\n",
       "       0.00946384+2.17292185e-18j, 0.00886299-1.26490253e-19j,\n",
       "       0.00849952+2.21809694e-18j, 0.00814755+2.25875453e-18j,\n",
       "       0.00780915+2.25875453e-18j, 0.00746023+2.24971951e-18j,\n",
       "       0.00697037+2.22261445e-18j, 0.00675371+2.21357944e-18j,\n",
       "       0.00656654+2.22713196e-18j, 0.00642659+2.28585958e-18j,\n",
       "       0.00625497+2.21809694e-18j, 0.00588483+2.22261445e-18j,\n",
       "       0.00565598+2.25423702e-18j, 0.00555289+2.25875453e-18j,\n",
       "       0.00538232-4.06575815e-20j, 0.00532854+2.28585958e-18j,\n",
       "       0.00516688-3.38813179e-20j, 0.00495124-3.27519406e-20j,\n",
       "       0.00487254-2.93638088e-20j, 0.00479954-3.61400724e-20j,\n",
       "       0.0044102 -3.38813179e-20j, 0.0043625 -4.51750905e-20j,\n",
       "       0.00424639-4.85632223e-20j, 0.00398386-4.96925996e-20j,\n",
       "       0.0038552 -7.67976539e-20j, 0.00352988-2.25875453e-20j,\n",
       "       0.00339875-4.29163360e-20j, 0.00334781-3.83988269e-20j,\n",
       "       0.00340046-5.64688632e-20j, 0.00320663-2.25875453e-20j,\n",
       "       0.0032236 -5.47747973e-20j, 0.00313775-7.67976539e-20j,\n",
       "       0.00313522-7.67976539e-20j, 0.00313161-8.75267379e-20j,\n",
       "       0.00288893-8.13151629e-20j, 0.00262147-7.22801448e-20j,\n",
       "       0.00272172-4.51750905e-20j, 0.00253732-8.58326720e-20j,\n",
       "       0.00239205-3.83988269e-20j, 0.00250631-6.09863722e-20j,\n",
       "       0.00231967-3.61400724e-20j, 0.00226023-1.80700362e-20j,\n",
       "       0.00226995-4.06575815e-20j, 0.00200267-2.48462998e-20j,\n",
       "       0.00182244+2.25875453e-21j, 0.00201964-1.80700362e-20j,\n",
       "       0.00173695+0.00000000e+00j, 0.00176363+4.51750905e-21j,\n",
       "       0.0016401 -9.03501810e-21j, 0.00165471-9.03501810e-21j,\n",
       "       0.00160842-3.61400724e-20j, 0.00149582-2.25875453e-20j,\n",
       "       0.00137197-4.96925996e-20j, 0.00137012-2.25875453e-20j,\n",
       "       0.00117515+0.00000000e+00j, 0.00123826+0.00000000e+00j,\n",
       "       0.00123853-4.51750905e-21j, 0.00120458+1.12937726e-21j,\n",
       "       0.00127538-1.69406589e-21j, 0.00137467-1.12937726e-20j,\n",
       "       0.0014565 -8.18798516e-21j, 0.00116439+3.95282042e-21j,\n",
       "       0.00127224+1.35525272e-20j, 0.00124139+1.80700362e-20j,\n",
       "       0.00108447+1.58112817e-20j, 0.00100178+9.03501810e-21j,\n",
       "       0.00094961+1.01643954e-20j, 0.00080118+2.25875453e-20j,\n",
       "       0.00091062+1.35525272e-20j, 0.00062521+4.74338450e-20j])"
      ]
     },
     "execution_count": 359,
     "metadata": {},
     "output_type": "execute_result"
    }
   ],
   "source": [
    "dimer_momentum[1,2]"
   ]
  },
  {
   "cell_type": "code",
   "execution_count": 88,
   "id": "promotional-commissioner",
   "metadata": {},
   "outputs": [],
   "source": [
    "tau_list = []\n",
    "N = 2000\n",
    "corr1 = []\n",
    "corr2 = np.zeros((48,N),dtype=np.float64)\n",
    "n = -1\n",
    "import re\n",
    "with open('RN4_4V1.0st.dat') as fe:\n",
    "    for line in fe:\n",
    "        \n",
    "        if re.findall(r'#\\d', line):\n",
    "            i = 0\n",
    "            n += 1\n",
    "        else:\n",
    "            try:\n",
    "                match = re.findall(r'[\\d,\\.]+', line)\n",
    "                tau_list.append(float(match[1]))\n",
    "                corr2[n,i] = float(match[3])\n",
    "                i+=1\n",
    "            except:\n",
    "                pass"
   ]
  },
  {
   "cell_type": "code",
   "execution_count": 65,
   "id": "personalized-delicious",
   "metadata": {},
   "outputs": [],
   "source": [
    "par_path = '/Users/keisukemurota/Documents/Resaerch/Dimer_RBM/save/dat/'\n",
    "path = par_path + \"R[4,4]V1.0.dat\"\n",
    "from scripts import utils\n",
    "importlib.reload(utils)\n",
    "utils.write2dat(dimer_momentum, t_list, path)"
   ]
  },
  {
   "cell_type": "code",
   "execution_count": 78,
   "id": "transparent-study",
   "metadata": {
    "scrolled": true
   },
   "outputs": [
    {
     "data": {
      "text/plain": [
       "array([-0.05634956,  0.42758727,  0.00322997,  0.42758727, -0.0441282 ,\n",
       "        0.42758727,  0.0046754 ,  0.42758727, -0.00115713, -0.00917361,\n",
       "       -0.01261676, -0.00640277, -0.00570326, -0.0147057 , -0.01300102,\n",
       "       -0.00211408, -0.02437084,  0.42758727, -0.01894938,  0.42758727,\n",
       "       -0.02238292,  0.42758727, -0.02108872,  0.42758727, -0.00573926,\n",
       "       -0.00756955, -0.01115713, -0.01382396, -0.00062284, -0.0066182 ,\n",
       "       -0.0128662 , -0.01682243, -0.0241016 ,  0.42758727, -0.01379675,\n",
       "        0.42758727, -0.02562104,  0.42758727, -0.01401078,  0.42758727,\n",
       "       -0.0072511 , -0.01454327, -0.01759956, -0.00695526, -0.00468229,\n",
       "       -0.01462088, -0.01405399, -0.00369133, -0.02069845,  0.42758727,\n",
       "       -0.02181723,  0.42758727, -0.02030079,  0.42758727, -0.02049422,\n",
       "        0.42758727,  0.00094381, -0.0047047 , -0.01026439, -0.01439945,\n",
       "       -0.0041022 , -0.00484732, -0.01371034, -0.01257396])"
      ]
     },
     "execution_count": 78,
     "metadata": {},
     "output_type": "execute_result"
    }
   ],
   "source": [
    "(corr2[3][:200][None,None,:] - dimer_corr).mean(axis=-1).reshape(-1,order='F')"
   ]
  }
 ],
 "metadata": {
  "kernelspec": {
   "display_name": "Python 3",
   "language": "python",
   "name": "python3"
  },
  "language_info": {
   "codemirror_mode": {
    "name": "ipython",
    "version": 3
   },
   "file_extension": ".py",
   "mimetype": "text/x-python",
   "name": "python",
   "nbconvert_exporter": "python",
   "pygments_lexer": "ipython3",
   "version": "3.8.5"
  }
 },
 "nbformat": 4,
 "nbformat_minor": 5
}
