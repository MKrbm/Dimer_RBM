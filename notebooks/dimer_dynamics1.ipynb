{
 "cells": [
  {
   "cell_type": "code",
   "execution_count": 1,
   "id": "aging-worst",
   "metadata": {
    "scrolled": true
   },
   "outputs": [
    {
     "name": "stderr",
     "output_type": "stream",
     "text": [
      "../scripts/functions.py:101: NumbaDeprecationWarning: The 'numba.jitclass' decorator has moved to 'numba.experimental.jitclass' to better reflect the experimental nature of the functionality. Please update your imports to accommodate this change and see https://numba.pydata.org/numba-doc/latest/reference/deprecation.html#change-of-jitclass-location for the time frame.\n",
      "  @jitclass(spec)\n"
     ]
    }
   ],
   "source": [
    "import sys\n",
    "import importlib\n",
    "importlib.reload(sys)\n",
    "sys.path.insert(0,'../')\n",
    "import numpy as np\n",
    "import netket as nk\n",
    "from scripts import functions as f\n",
    "from scripts import new_dynamics, new_dynamics2\n",
    "import os\n",
    "currentpath = os.getcwd()\n",
    "parentdir = os.path.dirname(currentpath)"
   ]
  },
  {
   "cell_type": "code",
   "execution_count": 2,
   "id": "technological-professor",
   "metadata": {},
   "outputs": [
    {
     "name": "stdout",
     "output_type": "stream",
     "text": [
      "2\n"
     ]
    }
   ],
   "source": [
    "length=[4, 4]\n",
    "V = 1.0\n",
    "h = 1.0\n",
    "g = nk.graph.Graph(nodes = [i for i in range(length[0] * length[1] * 2)])\n",
    "hi = nk.hilbert.Spin(s=0.5, graph=g)\n",
    "\n",
    "\n",
    "ham = f.dimer_hamiltonian(V = V, h = h ,length=np.array(length))\n",
    "op_transition1 = f.dimer_flip1(length = np.array(length))\n",
    "\n",
    "\n",
    "hex_ = nk.machine.new_hex(np.array(length))\n",
    "\n",
    "ma = nk.machine.RbmDimer(hi, hex_, alpha = 2, symmetry = True\n",
    "                    ,use_hidden_bias = False, use_visible_bias = False, dtype=float, reverse=True, half=True)\n",
    "ma.init_random_parameters(seed=1234)"
   ]
  },
  {
   "cell_type": "code",
   "execution_count": 3,
   "id": "champion-array",
   "metadata": {},
   "outputs": [],
   "source": [
    "ma.load('../save/ma/h=1.0V=0.9l=[4, 4]')"
   ]
  },
  {
   "cell_type": "code",
   "execution_count": 4,
   "id": "german-rescue",
   "metadata": {},
   "outputs": [],
   "source": [
    "ma._ws[:] = 0"
   ]
  },
  {
   "cell_type": "code",
   "execution_count": 5,
   "id": "uniform-jewel",
   "metadata": {},
   "outputs": [],
   "source": [
    "ma._set_bare_parameters(\n",
    "    ma._a, ma._b, ma._w, ma._as, ma._bs, ma._ws, ma._autom, ma._z2\n",
    ")"
   ]
  },
  {
   "cell_type": "code",
   "execution_count": 17,
   "id": "desperate-efficiency",
   "metadata": {},
   "outputs": [],
   "source": [
    "# N = 1000000\n",
    "# temp = np.random.choice([-1,1],hex_.size*N).reshape(N, hex_.size)\n",
    "# ind = hex_.is_dimer_basis(temp)"
   ]
  },
  {
   "cell_type": "code",
   "execution_count": 31,
   "id": "several-gibson",
   "metadata": {},
   "outputs": [],
   "source": [
    "a = np.load('../save/dynamics/h=1.0V=l=[4, 4]/P_n=1.0e+05_0.npy')\n",
    "t_list = np.arange(0,30,0.1)"
   ]
  },
  {
   "cell_type": "code",
   "execution_count": 13,
   "id": "possible-delight",
   "metadata": {
    "scrolled": true
   },
   "outputs": [],
   "source": [
    "import pickle\n",
    "with open(\"yo\", \"wb\") as fp:   #Pickling\n",
    "    pickle.dump([a,t_list], fp)"
   ]
  },
  {
   "cell_type": "code",
   "execution_count": 14,
   "id": "spare-occasion",
   "metadata": {},
   "outputs": [],
   "source": [
    "with open(\"yo\", \"rb\") as fp:   # Unpickling\n",
    "    b = pickle.load(fp)"
   ]
  },
  {
   "cell_type": "code",
   "execution_count": 26,
   "id": "affected-round",
   "metadata": {},
   "outputs": [
    {
     "ename": "ValueError",
     "evalue": "could not broadcast input array from shape (300,99984,32) into shape (300)",
     "output_type": "error",
     "traceback": [
      "\u001b[0;31m---------------------------------------------------------------------------\u001b[0m",
      "\u001b[0;31mValueError\u001b[0m                                Traceback (most recent call last)",
      "\u001b[0;32m<ipython-input-26-936f7cd3bc4a>\u001b[0m in \u001b[0;36m<module>\u001b[0;34m\u001b[0m\n\u001b[0;32m----> 1\u001b[0;31m \u001b[0ma_\u001b[0m \u001b[0;34m=\u001b[0m \u001b[0mnp\u001b[0m\u001b[0;34m.\u001b[0m\u001b[0marray\u001b[0m\u001b[0;34m(\u001b[0m\u001b[0;34m[\u001b[0m\u001b[0ma\u001b[0m\u001b[0;34m,\u001b[0m\u001b[0mt_list\u001b[0m\u001b[0;34m]\u001b[0m\u001b[0;34m,\u001b[0m\u001b[0mdtype\u001b[0m\u001b[0;34m=\u001b[0m\u001b[0mobject\u001b[0m\u001b[0;34m)\u001b[0m\u001b[0;34m\u001b[0m\u001b[0;34m\u001b[0m\u001b[0m\n\u001b[0m\u001b[1;32m      2\u001b[0m \u001b[0mnp\u001b[0m\u001b[0;34m.\u001b[0m\u001b[0msave\u001b[0m\u001b[0;34m(\u001b[0m\u001b[0;34m'yo'\u001b[0m\u001b[0;34m,\u001b[0m\u001b[0ma_\u001b[0m\u001b[0;34m)\u001b[0m\u001b[0;34m\u001b[0m\u001b[0;34m\u001b[0m\u001b[0m\n",
      "\u001b[0;31mValueError\u001b[0m: could not broadcast input array from shape (300,99984,32) into shape (300)"
     ]
    }
   ],
   "source": [
    "a_ = np.array([a,t_list],dtype=object)\n",
    "np.save('yo',a_)"
   ]
  },
  {
   "cell_type": "code",
   "execution_count": 4,
   "id": "activated-roberts",
   "metadata": {},
   "outputs": [
    {
     "name": "stdout",
     "output_type": "stream",
     "text": [
      "number of core : 12\n"
     ]
    },
    {
     "data": {
      "text/plain": [
       "array([[[ 1.,  1.,  1., ...,  1., -1., -1.]],\n",
       "\n",
       "       [[-1., -1.,  1., ..., -1., -1.,  1.]],\n",
       "\n",
       "       [[ 1., -1.,  1., ..., -1., -1., -1.]],\n",
       "\n",
       "       ...,\n",
       "\n",
       "       [[-1., -1.,  1., ..., -1., -1., -1.]],\n",
       "\n",
       "       [[ 1.,  1.,  1., ..., -1., -1., -1.]],\n",
       "\n",
       "       [[ 1., -1., -1., ..., -1., -1., -1.]]])"
      ]
     },
     "execution_count": 4,
     "metadata": {},
     "output_type": "execute_result"
    }
   ],
   "source": [
    "\n",
    "# create save folder.\n",
    "\n",
    "\n",
    "n_jobs = 12\n",
    "\n",
    "g = nk.graph.Graph(nodes = [i for i in range(length[0] * length[1] * 2)])\n",
    "hi = nk.hilbert.Spin(s=0.5, graph=g)\n",
    "\n",
    "op = f.dimer_hamiltonian(h, V,np.array(length))\n",
    "op_transition = f.dimer_flip1(length = np.array(length))\n",
    "hex_ = nk.machine.new_hex(np.array(length))\n",
    "\n",
    "\n",
    "\n",
    "\n",
    "sweep_size = 1000\n",
    "sa_mul = nk.sampler.DimerMetropolisLocal_multi(machine=ma, op=op_transition, length = length, n_chains=1, sweep_size = sweep_size, kernel = 1, n_jobs=n_jobs)\n",
    "sa_mul.reset()\n",
    "sa_mul.generate_samples(1000) # discard the begginings of metropolis sampling.\n",
    "\n"
   ]
  },
  {
   "cell_type": "code",
   "execution_count": 5,
   "id": "comparable-pregnancy",
   "metadata": {},
   "outputs": [
    {
     "name": "stdout",
     "output_type": "stream",
     "text": [
      "get samples\n"
     ]
    }
   ],
   "source": [
    "n_samples_ = 50000\n",
    "samples_state = sa_mul.generate_samples(int(n_samples_ / 1))\n",
    "samples_state = samples_state.reshape(-1, ma.hilbert.size)\n",
    "print('get samples')"
   ]
  },
  {
   "cell_type": "code",
   "execution_count": 6,
   "id": "indie-election",
   "metadata": {},
   "outputs": [
    {
     "data": {
      "text/plain": [
       "<module 'scripts.dynamics' from '../scripts/dynamics.py'>"
      ]
     },
     "execution_count": 6,
     "metadata": {},
     "output_type": "execute_result"
    }
   ],
   "source": [
    "import scripts.dynamics as Dynamics\n",
    "importlib.reload(Dynamics)"
   ]
  },
  {
   "cell_type": "code",
   "execution_count": 7,
   "id": "novel-senate",
   "metadata": {},
   "outputs": [
    {
     "name": "stdout",
     "output_type": "stream",
     "text": [
      "CPU times: user 205 ms, sys: 675 ms, total: 879 ms\n",
      "Wall time: 9.63 s\n"
     ]
    }
   ],
   "source": [
    "d = Dynamics.new_dynamics(op, ma)\n",
    "t_list = np.linspace(0,30,100)\n",
    "%time P_ = d.multiprocess(samples_state, 300, 12) "
   ]
  },
  {
   "cell_type": "code",
   "execution_count": 8,
   "id": "postal-conflict",
   "metadata": {},
   "outputs": [],
   "source": [
    "P = P_[0]\n",
    "T = P_[1]\n",
    "\n",
    "# t_list = np.linspace(0,50,100)\n",
    "t_list = np.arange(0,20,0.1)\n",
    "P_list = f.process_P(P, T, t_list)"
   ]
  },
  {
   "cell_type": "code",
   "execution_count": 9,
   "id": "located-cookbook",
   "metadata": {},
   "outputs": [],
   "source": [
    "edge_corr1 = np.array([ 0.5     ,  0.      ])\n",
    "edge_corr2 = np.array([ 0.25    , -0.433013])\n",
    "edge_corr2 = np.array([ 0.75    , -0.433013])"
   ]
  },
  {
   "cell_type": "code",
   "execution_count": 11,
   "id": "expanded-mechanics",
   "metadata": {},
   "outputs": [
    {
     "data": {
      "text/plain": [
       "array([0.5, 0. ])"
      ]
     },
     "execution_count": 11,
     "metadata": {},
     "output_type": "execute_result"
    }
   ],
   "source": [
    "edge_corr1"
   ]
  },
  {
   "cell_type": "code",
   "execution_count": 10,
   "id": "collected-walter",
   "metadata": {},
   "outputs": [
    {
     "data": {
      "text/plain": [
       "array([4, 8])"
      ]
     },
     "execution_count": 10,
     "metadata": {},
     "output_type": "execute_result"
    }
   ],
   "source": [
    "hex_.edge_coor_to_lattice(edge_corr1)[0]"
   ]
  },
  {
   "cell_type": "code",
   "execution_count": 19,
   "id": "instrumental-yesterday",
   "metadata": {
    "scrolled": true
   },
   "outputs": [
    {
     "data": {
      "text/plain": [
       "array([1., 0.])"
      ]
     },
     "execution_count": 19,
     "metadata": {},
     "output_type": "execute_result"
    }
   ],
   "source": [
    "hex_.a1"
   ]
  },
  {
   "cell_type": "code",
   "execution_count": 21,
   "id": "fantastic-thursday",
   "metadata": {},
   "outputs": [
    {
     "data": {
      "text/plain": [
       "array([[ 0.25      , -0.43301269]])"
      ]
     },
     "execution_count": 21,
     "metadata": {},
     "output_type": "execute_result"
    }
   ],
   "source": [
    "hex_.a2[None,:] * 1/2"
   ]
  },
  {
   "cell_type": "code",
   "execution_count": 80,
   "id": "aquatic-deployment",
   "metadata": {},
   "outputs": [],
   "source": [
    "g = nk.graph.Graph(nodes = [i for i in range(length[0] * length[1] * 2)])\n",
    "hi = nk.hilbert.Spin(s=0.5, graph=g)\n",
    "hex_ = nk.machine.new_hex(np.array(length))\n",
    "\n",
    "\n",
    "base_edge = hex_.get_edge_coor(np.array([4,8]))\n",
    "x = np.arange(length[0]*2)\n",
    "y = np.arange(length[1]*2)\n",
    "\n",
    "xx, yy = np.meshgrid(x,y)\n",
    "xx = xx.reshape(-1)\n",
    "yy = yy.reshape(-1)\n",
    "edge_coor_array = hex_.ProcessPeriodic(xx[:,None] * hex_.a1[None,:] * 1/2 + yy[:,None]  * hex_.a2[None,:] * 1/2 + base_edge)\n",
    "edges = hex_.edge_coor_to_lattice(edge_coor_array)\n",
    "colors = hex_.get_edge_color(edges)\n",
    "\n",
    "operators = f.return_spin_corr(hi, edges, colors)"
   ]
  },
  {
   "cell_type": "code",
   "execution_count": 23,
   "id": "constitutional-services",
   "metadata": {},
   "outputs": [],
   "source": [
    "edge_coors = np.array([[ 0.5     ,  0.      ],\n",
    "                       [ 0.25    , -0.433013],\n",
    "                       [ 0.75    , -0.433013]])\n",
    "\n",
    "a = np.tan((1/6)*np.pi) * 1/2\n",
    "edge_coors_prime = np.array([\n",
    "    hex_.a((1/2)*np.pi) * a,\n",
    "    hex_.a(np.pi*(2/3)+(1/2)*np.pi) * a,\n",
    "    hex_.a(np.pi*(4/3)+(1/2)*np.pi) * a,\n",
    "])\n",
    "edge_coors_prime = np.round(edge_coors_prime,10)"
   ]
  },
  {
   "cell_type": "code",
   "execution_count": 24,
   "id": "wicked-anthony",
   "metadata": {},
   "outputs": [
    {
     "data": {
      "text/plain": [
       "array([[ 0.        ,  0.28867513],\n",
       "       [-0.25      , -0.14433757],\n",
       "       [ 0.25      , -0.14433757]])"
      ]
     },
     "execution_count": 24,
     "metadata": {},
     "output_type": "execute_result"
    }
   ],
   "source": [
    "edge_coors_prime"
   ]
  },
  {
   "cell_type": "code",
   "execution_count": 25,
   "id": "center-shooting",
   "metadata": {},
   "outputs": [],
   "source": [
    "K = np.zeros((2*length[0],2*length[1],2))"
   ]
  },
  {
   "cell_type": "code",
   "execution_count": 26,
   "id": "worst-isaac",
   "metadata": {},
   "outputs": [],
   "source": [
    "A = np.array([\n",
    "    hex_.a1,\n",
    "    hex_.a2\n",
    "])"
   ]
  },
  {
   "cell_type": "code",
   "execution_count": 27,
   "id": "expected-hypothesis",
   "metadata": {},
   "outputs": [
    {
     "data": {
      "text/plain": [
       "array([[ 1.        ,  0.        ],\n",
       "       [ 0.5       , -0.86602539]])"
      ]
     },
     "execution_count": 27,
     "metadata": {},
     "output_type": "execute_result"
    }
   ],
   "source": [
    "A"
   ]
  },
  {
   "cell_type": "code",
   "execution_count": 28,
   "id": "rough-karma",
   "metadata": {},
   "outputs": [],
   "source": [
    "[b1, b2] = np.linalg.inv(A.T)"
   ]
  },
  {
   "cell_type": "code",
   "execution_count": 29,
   "id": "concrete-child",
   "metadata": {},
   "outputs": [
    {
     "data": {
      "text/plain": [
       "array([1.        , 0.57735028])"
      ]
     },
     "execution_count": 29,
     "metadata": {},
     "output_type": "execute_result"
    }
   ],
   "source": [
    "b1 "
   ]
  },
  {
   "cell_type": "code",
   "execution_count": 30,
   "id": "pacific-creation",
   "metadata": {},
   "outputs": [
    {
     "data": {
      "text/plain": [
       "1.0"
      ]
     },
     "execution_count": 30,
     "metadata": {},
     "output_type": "execute_result"
    }
   ],
   "source": [
    "b1 @ hex_.a1"
   ]
  },
  {
   "cell_type": "code",
   "execution_count": 31,
   "id": "stretch-lawyer",
   "metadata": {
    "scrolled": true
   },
   "outputs": [],
   "source": [
    "K = np.zeros((2*length[0],2*length[1],2))\n",
    "for l1 in range(K.shape[0]):\n",
    "    for l2 in range(K.shape[1]):\n",
    "        K[l1,l2] = hex_.b1 * 2*np.pi*l1/K.shape[0] + hex_.b2 * 2*np.pi*l2/K.shape[1]"
   ]
  },
  {
   "cell_type": "code",
   "execution_count": 32,
   "id": "chemical-biotechnology",
   "metadata": {},
   "outputs": [
    {
     "data": {
      "text/plain": [
       "array([0.        , 0.28867513])"
      ]
     },
     "execution_count": 32,
     "metadata": {},
     "output_type": "execute_result"
    }
   ],
   "source": [
    "edge_coors_prime[0]"
   ]
  },
  {
   "cell_type": "code",
   "execution_count": 33,
   "id": "driving-composition",
   "metadata": {},
   "outputs": [],
   "source": [
    "uni = np.exp(1j*np.einsum('ijk,lk->lij',K,edge_coors_prime))"
   ]
  },
  {
   "cell_type": "code",
   "execution_count": 23,
   "id": "changed-navigation",
   "metadata": {},
   "outputs": [
    {
     "data": {
      "text/plain": [
       "(8, 8, 2)"
      ]
     },
     "execution_count": 23,
     "metadata": {},
     "output_type": "execute_result"
    }
   ],
   "source": [
    "K.shape"
   ]
  },
  {
   "cell_type": "code",
   "execution_count": 50,
   "id": "average-logging",
   "metadata": {},
   "outputs": [
    {
     "data": {
      "text/plain": [
       "8"
      ]
     },
     "execution_count": 50,
     "metadata": {},
     "output_type": "execute_result"
    }
   ],
   "source": [
    "2*length[0]"
   ]
  },
  {
   "cell_type": "code",
   "execution_count": 34,
   "id": "appointed-setting",
   "metadata": {
    "scrolled": true
   },
   "outputs": [
    {
     "name": "stdout",
     "output_type": "stream",
     "text": [
      "0 0\n",
      "1 0\n",
      "2 0\n",
      "3 0\n",
      "4 0\n",
      "5 0\n",
      "6 0\n",
      "7 0\n",
      "0 1\n",
      "1 1\n",
      "2 1\n",
      "3 1\n",
      "4 1\n",
      "5 1\n",
      "6 1\n",
      "7 1\n",
      "0 2\n",
      "1 2\n",
      "2 2\n",
      "3 2\n",
      "4 2\n",
      "5 2\n",
      "6 2\n",
      "7 2\n",
      "0 3\n",
      "1 3\n",
      "2 3\n",
      "3 3\n",
      "4 3\n",
      "5 3\n",
      "6 3\n",
      "7 3\n",
      "0 4\n",
      "1 4\n",
      "2 4\n",
      "3 4\n",
      "4 4\n",
      "5 4\n",
      "6 4\n",
      "7 4\n",
      "0 5\n",
      "1 5\n",
      "2 5\n",
      "3 5\n",
      "4 5\n",
      "5 5\n",
      "6 5\n",
      "7 5\n",
      "0 6\n",
      "1 6\n",
      "2 6\n",
      "3 6\n",
      "4 6\n",
      "5 6\n",
      "6 6\n",
      "7 6\n",
      "0 7\n",
      "1 7\n",
      "2 7\n",
      "3 7\n",
      "4 7\n",
      "5 7\n",
      "6 7\n",
      "7 7\n"
     ]
    }
   ],
   "source": [
    "num_samples = (P_list[:,:,0]!=0).sum(axis=1)\n",
    "P_list_ = P_list.reshape(-1,P_list.shape[-1])\n",
    "sections1 = np.arange(P_list.shape[1])\n",
    "sections2 = np.zeros(P_list_.shape[0])\n",
    "\n",
    "_, mels1 = operators[0].get_conn_flattened(P_list[0,:,:], sections1)\n",
    "sub1 = mels1.mean().real\n",
    "mels1 = mels1.real\n",
    "\n",
    "\n",
    "dimer_corr = np.zeros((2*length[0],2*length[1],t_list.shape[0]))\n",
    "dimer_std = np.zeros((2*length[0],2*length[1],t_list.shape[0]))\n",
    "\n",
    "\n",
    "for l2 in range(2*length[1]):\n",
    "    for l1 in range(2*length[0]):\n",
    "#     l1 = 1\n",
    "#     l2 = 0\n",
    "        print(l1,l2)\n",
    "        if operators[l1 + l2 * 2*length[0]]:\n",
    "            sub2 = operators[l1 + l2 * 2*length[0]].get_conn_flattened(P_list[0,:,:], sections1)[1].mean().real\n",
    "\n",
    "            _, mels2_ = operators[l1 + l2 * 2*length[0]].get_conn_flattened(P_list_, sections2)\n",
    "            mels2 = mels2_.reshape(P_list.shape[0], P_list.shape[1]).real\n",
    "            dimer_corr[l1,l2] = (mels2 * mels1).sum(axis=1)/num_samples \n",
    "            dimer_std[l1,l2] = (mels2 * mels1).std(axis=1)\n",
    "        else:\n",
    "            dimer_corr[l1,l2] = 0\n",
    "            dimer_std[l1,l2] = 0"
   ]
  },
  {
   "cell_type": "code",
   "execution_count": 40,
   "id": "grave-authority",
   "metadata": {},
   "outputs": [],
   "source": [
    "tau_list = []\n",
    "N = 2000\n",
    "corr1 = []\n",
    "corr2 = np.zeros((81,N),dtype=np.float)\n",
    "n = -1\n",
    "import re\n",
    "with open('RN4_4V0.9st.dat') as fe:\n",
    "    for line in fe:\n",
    "        \n",
    "        if re.findall(r'#\\d', line):\n",
    "            i = 0\n",
    "            n += 1\n",
    "        else:\n",
    "            try:\n",
    "                match = re.findall(r'[\\d,\\.]+', line)\n",
    "                tau_list.append(float(match[1]))\n",
    "                corr2[n,i] = float(match[3])\n",
    "                i+=1\n",
    "            except:\n",
    "                pass"
   ]
  },
  {
   "cell_type": "code",
   "execution_count": 79,
   "id": "associate-cattle",
   "metadata": {},
   "outputs": [
    {
     "data": {
      "text/plain": [
       "array([ 2,  6, 57, 15, 11, 56,  8, 25, 60, 61, 12, 44, 40, 43, 24, 47, 28,\n",
       "        9, 29, 58, 63, 14, 27, 45, 30, 59, 26, 41, 46, 13, 62, 31, 10, 42,\n",
       "       34, 38, 22, 54, 18, 50, 48, 20, 52, 32, 16, 36,  4,  0,  1,  3,  5,\n",
       "        7, 33, 55, 21, 53, 51, 37, 49, 39, 23, 17, 19, 35])"
      ]
     },
     "execution_count": 79,
     "metadata": {},
     "output_type": "execute_result"
    }
   ],
   "source": [
    "np.abs(corr2[3][:200][None,None,:] - dimer_corr).mean(axis=-1).reshape(-1,order='F').argsort()"
   ]
  },
  {
   "cell_type": "code",
   "execution_count": null,
   "id": "grand-patent",
   "metadata": {},
   "outputs": [],
   "source": []
  },
  {
   "cell_type": "code",
   "execution_count": 78,
   "id": "instrumental-agenda",
   "metadata": {
    "scrolled": true
   },
   "outputs": [
    {
     "data": {
      "text/plain": [
       "array([-0.05634956,  0.42758727,  0.00322997,  0.42758727, -0.0441282 ,\n",
       "        0.42758727,  0.0046754 ,  0.42758727, -0.00115713, -0.00917361,\n",
       "       -0.01261676, -0.00640277, -0.00570326, -0.0147057 , -0.01300102,\n",
       "       -0.00211408, -0.02437084,  0.42758727, -0.01894938,  0.42758727,\n",
       "       -0.02238292,  0.42758727, -0.02108872,  0.42758727, -0.00573926,\n",
       "       -0.00756955, -0.01115713, -0.01382396, -0.00062284, -0.0066182 ,\n",
       "       -0.0128662 , -0.01682243, -0.0241016 ,  0.42758727, -0.01379675,\n",
       "        0.42758727, -0.02562104,  0.42758727, -0.01401078,  0.42758727,\n",
       "       -0.0072511 , -0.01454327, -0.01759956, -0.00695526, -0.00468229,\n",
       "       -0.01462088, -0.01405399, -0.00369133, -0.02069845,  0.42758727,\n",
       "       -0.02181723,  0.42758727, -0.02030079,  0.42758727, -0.02049422,\n",
       "        0.42758727,  0.00094381, -0.0047047 , -0.01026439, -0.01439945,\n",
       "       -0.0041022 , -0.00484732, -0.01371034, -0.01257396])"
      ]
     },
     "execution_count": 78,
     "metadata": {},
     "output_type": "execute_result"
    }
   ],
   "source": [
    "(corr2[3][:200][None,None,:] - dimer_corr).mean(axis=-1).reshape(-1,order='F')"
   ]
  },
  {
   "cell_type": "code",
   "execution_count": 69,
   "id": "fewer-arkansas",
   "metadata": {},
   "outputs": [
    {
     "data": {
      "text/plain": [
       "array([-3.12049928e-03, -7.45742143e-03, -7.81139807e-03, -8.61284048e-03,\n",
       "       -5.28456942e-03, -5.25228981e-03, -5.37689334e-03, -5.76945519e-03,\n",
       "       -6.41355522e-03, -6.35414781e-03, -5.81071617e-03, -6.17250941e-03,\n",
       "       -6.47478285e-03, -3.91671614e-03, -3.42146716e-03, -2.31271109e-03,\n",
       "       -2.63592153e-03, -3.03660050e-03, -1.44038885e-03, -3.69423600e-03,\n",
       "       -2.56289996e-03, -3.33295532e-03, -3.56950088e-03, -3.31776248e-03,\n",
       "       -3.62284320e-03, -2.28904266e-03, -3.20892772e-04, -1.40308406e-03,\n",
       "       -3.09906977e-03,  3.88478667e-04,  1.97505845e-03,  4.53797591e-03,\n",
       "        2.03331111e-03, -1.40837668e-04, -5.46831223e-04, -6.27328841e-04,\n",
       "       -3.34508206e-03, -3.50139631e-03, -3.09859879e-03, -1.61849225e-03,\n",
       "       -5.43086833e-04,  8.86070562e-04,  2.58739609e-03,  1.55892937e-03,\n",
       "        9.59780256e-04, -2.13183559e-03,  1.12425279e-03, -1.54870848e-04,\n",
       "        2.43102647e-03,  3.03995871e-03, -5.29421869e-04, -2.15707932e-03,\n",
       "       -3.61373556e-06,  2.89223618e-04,  1.04099821e-03, -3.75001561e-03,\n",
       "       -2.04261884e-03, -1.67875823e-03, -4.49938698e-03, -6.10442833e-03,\n",
       "       -4.89422399e-03, -8.07049602e-03, -7.03241179e-03, -5.82113661e-03,\n",
       "       -2.95692903e-03, -4.32120327e-03, -4.72901039e-04, -1.09400395e-03,\n",
       "       -6.64042484e-04, -2.58395682e-03, -4.61376775e-03, -7.99403701e-03,\n",
       "       -9.28456226e-03, -8.60569645e-03, -3.75740761e-03,  2.33952990e-03,\n",
       "       -3.96791677e-04, -1.24760577e-04, -1.52539743e-03, -1.03839355e-03,\n",
       "       -9.84371043e-04, -5.63442971e-04, -3.85649406e-03, -3.18251826e-03,\n",
       "       -4.70271581e-03, -5.73686422e-03, -4.76491891e-03, -4.98758320e-03,\n",
       "       -3.32454835e-03, -4.16094162e-04,  1.37032417e-04,  5.35018794e-04,\n",
       "       -1.50265856e-03, -2.93566613e-03, -1.88385052e-03, -1.02778280e-03,\n",
       "       -8.87683325e-04, -1.34366519e-03, -2.27583683e-03, -4.43802912e-04,\n",
       "       -1.12852723e-03, -4.94395994e-05, -8.87239666e-04,  1.18567336e-04,\n",
       "       -8.72736349e-04,  1.01953048e-03, -4.45727043e-04,  1.21243499e-03,\n",
       "       -1.28723830e-03, -1.22375841e-03,  2.16291236e-03,  3.63185433e-03,\n",
       "        1.22267545e-03,  9.76266475e-04,  2.77253491e-03,  4.05100022e-03,\n",
       "        2.33119704e-03, -1.86685769e-03, -3.42240873e-03, -4.01578692e-03,\n",
       "       -5.52735308e-03, -5.35674917e-03, -4.38417216e-03, -4.24993880e-03,\n",
       "       -6.07428090e-03, -5.45654524e-03, -4.87717793e-03, -3.93616263e-03,\n",
       "       -5.95407678e-03, -3.36975527e-03, -1.03868677e-04, -9.57227018e-04,\n",
       "       -1.04908995e-03, -1.01959918e-03, -3.08703156e-04,  1.08356124e-03,\n",
       "       -1.88364824e-03, -1.60915000e-03,  1.22691359e-03,  1.66371633e-03,\n",
       "       -1.87284697e-05, -1.98015688e-03, -3.98056007e-03, -3.45955705e-03,\n",
       "       -1.25731004e-03, -4.94345256e-04, -2.17084886e-03, -3.60641730e-03,\n",
       "       -1.80059508e-03, -3.39309115e-05, -1.38694077e-03, -3.61928860e-03,\n",
       "       -9.97151465e-03, -8.40171329e-03, -1.10318445e-02, -1.02607119e-02,\n",
       "       -8.44871246e-03, -7.19612091e-03, -6.78300019e-03, -8.32954714e-03,\n",
       "       -8.59526037e-03, -9.54047013e-03, -1.00050069e-02, -8.58866228e-03,\n",
       "       -1.06923156e-02, -1.00349766e-02, -1.09773574e-02, -1.12791134e-02,\n",
       "       -1.01801365e-02, -9.76077265e-03, -8.94086181e-03, -7.80042914e-03,\n",
       "       -8.73987076e-03, -6.47835340e-03, -5.25656695e-03, -3.07420239e-03,\n",
       "       -2.51321678e-04, -2.68492120e-04, -1.60548062e-03, -1.50185537e-03,\n",
       "       -2.23799082e-03, -6.93396995e-04, -1.54883189e-03, -3.84415068e-03,\n",
       "       -3.25867063e-03, -5.03323862e-03, -2.48679378e-03, -5.90098907e-03,\n",
       "       -3.87400785e-03, -5.28727864e-03, -5.38004696e-03, -9.27313922e-03,\n",
       "       -8.88526930e-03, -9.09722481e-03, -6.94853860e-03, -5.31967788e-03,\n",
       "       -6.33098808e-03, -5.94182871e-03, -7.55274972e-03, -6.88307188e-03])"
      ]
     },
     "execution_count": 69,
     "metadata": {},
     "output_type": "execute_result"
    }
   ],
   "source": [
    "dimer_corr[2,0] - corr2[3][:200]"
   ]
  },
  {
   "cell_type": "code",
   "execution_count": 35,
   "id": "nuclear-checklist",
   "metadata": {},
   "outputs": [],
   "source": [
    "tau_list = []\n",
    "N = 2000\n",
    "corr1 = []\n",
    "corr2 = np.zeros((81,N),dtype=np.complex128)\n",
    "n = -1\n",
    "import re\n",
    "with open('K4_4V1.0st.dat') as fe:\n",
    "    for line in fe:\n",
    "        \n",
    "        if re.findall(r'#\\d', line):\n",
    "            i = 0\n",
    "            n += 1\n",
    "        else:\n",
    "            try:\n",
    "                match = re.findall(r'[\\d,\\.]+', line)\n",
    "                tau_list.append(float(match[1]))\n",
    "                corr1.append(float(match[2]))\n",
    "                corr2[n,i] = float(match[2]) + 1j*float(match[3])\n",
    "                i+=1\n",
    "            except:\n",
    "                pass\n",
    "            "
   ]
  },
  {
   "cell_type": "code",
   "execution_count": 39,
   "id": "fifteen-apple",
   "metadata": {},
   "outputs": [
    {
     "data": {
      "text/plain": [
       "array([ 0. ,  0.1,  0.2,  0.3,  0.4,  0.5,  0.6,  0.7,  0.8,  0.9,  1. ,\n",
       "        1.1,  1.2,  1.3,  1.4,  1.5,  1.6,  1.7,  1.8,  1.9,  2. ,  2.1,\n",
       "        2.2,  2.3,  2.4,  2.5,  2.6,  2.7,  2.8,  2.9,  3. ,  3.1,  3.2,\n",
       "        3.3,  3.4,  3.5,  3.6,  3.7,  3.8,  3.9,  4. ,  4.1,  4.2,  4.3,\n",
       "        4.4,  4.5,  4.6,  4.7,  4.8,  4.9,  5. ,  5.1,  5.2,  5.3,  5.4,\n",
       "        5.5,  5.6,  5.7,  5.8,  5.9,  6. ,  6.1,  6.2,  6.3,  6.4,  6.5,\n",
       "        6.6,  6.7,  6.8,  6.9,  7. ,  7.1,  7.2,  7.3,  7.4,  7.5,  7.6,\n",
       "        7.7,  7.8,  7.9,  8. ,  8.1,  8.2,  8.3,  8.4,  8.5,  8.6,  8.7,\n",
       "        8.8,  8.9,  9. ,  9.1,  9.2,  9.3,  9.4,  9.5,  9.6,  9.7,  9.8,\n",
       "        9.9, 10. , 10.1, 10.2, 10.3, 10.4, 10.5, 10.6, 10.7, 10.8, 10.9,\n",
       "       11. , 11.1, 11.2, 11.3, 11.4, 11.5, 11.6, 11.7, 11.8, 11.9, 12. ,\n",
       "       12.1, 12.2, 12.3, 12.4, 12.5, 12.6, 12.7, 12.8, 12.9, 13. , 13.1,\n",
       "       13.2, 13.3, 13.4, 13.5, 13.6, 13.7, 13.8, 13.9, 14. , 14.1, 14.2,\n",
       "       14.3, 14.4, 14.5, 14.6, 14.7, 14.8, 14.9, 15. , 15.1, 15.2, 15.3,\n",
       "       15.4, 15.5, 15.6, 15.7, 15.8, 15.9, 16. , 16.1, 16.2, 16.3, 16.4,\n",
       "       16.5, 16.6, 16.7, 16.8, 16.9, 17. , 17.1, 17.2, 17.3, 17.4, 17.5,\n",
       "       17.6, 17.7, 17.8, 17.9, 18. , 18.1, 18.2, 18.3, 18.4, 18.5, 18.6,\n",
       "       18.7, 18.8, 18.9, 19. , 19.1, 19.2, 19.3, 19.4, 19.5, 19.6, 19.7,\n",
       "       19.8, 19.9])"
      ]
     },
     "execution_count": 39,
     "metadata": {},
     "output_type": "execute_result"
    }
   ],
   "source": [
    "t_list"
   ]
  },
  {
   "cell_type": "code",
   "execution_count": 12,
   "id": "solid-library",
   "metadata": {},
   "outputs": [
    {
     "data": {
      "text/plain": [
       "array([0.02205296+0.01001865j, 0.01875094+0.01129549j,\n",
       "       0.01601842+0.01156013j, ..., 0.        +0.j        ,\n",
       "       0.        +0.j        , 0.        +0.j        ])"
      ]
     },
     "execution_count": 12,
     "metadata": {},
     "output_type": "execute_result"
    }
   ],
   "source": [
    "corr2[1]"
   ]
  },
  {
   "cell_type": "code",
   "execution_count": 68,
   "id": "disabled-cheat",
   "metadata": {},
   "outputs": [
    {
     "data": {
      "text/plain": [
       "array([[[ 6.41088174e+01+0.00000000e+00j,\n",
       "          6.41088174e+01+0.00000000e+00j,\n",
       "          6.41088174e+01+0.00000000e+00j, ...,\n",
       "          6.41088174e+01+0.00000000e+00j,\n",
       "          6.41088174e+01+0.00000000e+00j,\n",
       "          6.41088174e+01+0.00000000e+00j],\n",
       "        [ 8.10513451e-02+8.16017401e-02j,\n",
       "          7.09706089e-02+6.75812434e-02j,\n",
       "          5.71711079e-02+5.58663197e-02j, ...,\n",
       "         -2.78779989e-04-6.12363881e-04j,\n",
       "          9.84691330e-04-7.46648107e-04j,\n",
       "          1.06420122e-03-6.65821767e-04j],\n",
       "        [ 1.49657447e+00+4.01005927e-01j,\n",
       "          1.34014673e+00+3.59091240e-01j,\n",
       "          1.20976452e+00+3.24155432e-01j, ...,\n",
       "         -3.86432159e-04-1.03544187e-04j,\n",
       "          1.54572864e-03+4.14176748e-04j,\n",
       "          1.77758793e-02+4.76303260e-03j],\n",
       "        ...,\n",
       "        [ 1.48309239e+00-1.09268509e-01j,\n",
       "          1.23831994e+00-7.38834879e-02j,\n",
       "          1.01975090e+00-6.75432109e-02j, ...,\n",
       "         -1.02687688e-02+2.24319638e-03j,\n",
       "         -9.05964646e-03+8.45728754e-03j,\n",
       "         -7.59266202e-03+8.34572543e-03j],\n",
       "        [ 1.09556853e+00+1.09556856e+00j,\n",
       "          9.81055482e-01+9.81055510e-01j,\n",
       "          8.85609081e-01+8.85609106e-01j, ...,\n",
       "         -2.82887971e-04-2.82887979e-04j,\n",
       "          1.13155188e-03+1.13155191e-03j,\n",
       "          1.30128466e-02+1.30128470e-02j],\n",
       "        [ 2.06319267e-01+3.84400798e-01j,\n",
       "          1.72113987e-01+3.19150899e-01j,\n",
       "          1.41794544e-01+2.63517388e-01j, ...,\n",
       "         -1.44172199e-03-2.81642657e-03j,\n",
       "         -1.32944033e-03-3.15970133e-03j,\n",
       "         -1.12533102e-03-2.77911295e-03j]],\n",
       "\n",
       "       [[ 8.08804280e-02+8.17775198e-02j,\n",
       "          6.47627570e-02+6.75826814e-02j,\n",
       "          5.33943202e-02+5.71568444e-02j, ...,\n",
       "         -2.20704572e-03-1.97817577e-04j,\n",
       "         -1.68297584e-03-9.68412562e-05j,\n",
       "          1.37811300e-03-3.87833539e-04j],\n",
       "        [ 8.27906141e-02-8.14885181e-02j,\n",
       "          6.99848900e-02-6.82446032e-02j,\n",
       "          5.99421482e-02-5.75935322e-02j, ...,\n",
       "          4.03952447e-03+9.82163777e-05j,\n",
       "          4.15362501e-03-3.83338484e-05j,\n",
       "          9.88277971e-04+3.11231456e-04j],\n",
       "        [ 9.00999582e-01+3.49669256e-03j,\n",
       "          8.28987456e-01+3.68072812e-03j,\n",
       "          7.61411117e-01+4.48182610e-03j, ...,\n",
       "         -2.19026567e-02+1.61302258e-03j,\n",
       "         -2.11147932e-02+7.68621555e-04j,\n",
       "         -1.05981022e-02+3.24769746e-04j],\n",
       "        ...,\n",
       "        [ 9.86662270e-01-4.74458812e-01j,\n",
       "          7.78985727e-01-3.75615145e-01j,\n",
       "          6.19170745e-01-3.03501229e-01j, ...,\n",
       "         -6.14200609e-03+1.51621609e-02j,\n",
       "          1.16545493e-02+3.65179073e-02j,\n",
       "          9.63769682e-03+2.79967581e-02j],\n",
       "        [ 1.16688257e+00+3.33191068e-01j,\n",
       "          1.05732378e+00+3.18856708e-01j,\n",
       "          9.60116252e-01+3.01331041e-01j, ...,\n",
       "          3.40118639e-03-1.30434030e-02j,\n",
       "          1.89167585e-03-1.24085017e-02j,\n",
       "          2.89921605e-03-1.31187168e-02j],\n",
       "        [ 4.44691588e-01+7.68366433e-01j,\n",
       "          4.06006789e-01+7.04090458e-01j,\n",
       "          3.72103052e-01+6.47987269e-01j, ...,\n",
       "          8.64551433e-03+9.06366324e-03j,\n",
       "          6.98119662e-03+7.39345361e-03j,\n",
       "          3.20530694e-03+4.33928152e-03j]],\n",
       "\n",
       "       [[ 1.49495145e+00+4.00571031e-01j,\n",
       "          1.36449196e+00+3.65614514e-01j,\n",
       "          1.23163658e+00+3.30016024e-01j, ...,\n",
       "         -1.02018090e-02-2.73356638e-03j,\n",
       "         -1.07428141e-02-2.87852818e-03j,\n",
       "         -1.64620100e-02-4.41098212e-03j],\n",
       "        [ 8.94572855e-01-1.28825282e-03j,\n",
       "          8.24356940e-01-2.81467002e-04j,\n",
       "          7.57203725e-01-2.34916690e-03j, ...,\n",
       "         -3.78403882e-02-4.13539980e-03j,\n",
       "         -1.39318315e-02-7.18823420e-03j,\n",
       "         -1.35898769e-02-8.20584567e-03j],\n",
       "        [ 1.54673336e+00-4.14445952e-01j,\n",
       "          1.40305789e+00-3.75948224e-01j,\n",
       "          1.26224201e+00-3.38216723e-01j, ...,\n",
       "          3.79476382e-02-1.01680386e-02j,\n",
       "          2.41133668e-02-6.46115683e-03j,\n",
       "          2.89051256e-02-7.74510471e-03j],\n",
       "        ...,\n",
       "        [ 4.30398024e-01-7.69254529e-01j,\n",
       "          3.93258641e-01-7.08638462e-01j,\n",
       "          3.62039845e-01-6.49600183e-01j, ...,\n",
       "          1.22860685e-02+2.74363677e-02j,\n",
       "         -1.42040366e-03+1.58415573e-02j,\n",
       "         -1.18700531e-03+1.62736335e-02j],\n",
       "        [ 1.36187718e+00-7.82687000e-01j,\n",
       "          1.27132618e+00-7.23286367e-01j,\n",
       "          1.19858174e+00-6.86905740e-01j, ...,\n",
       "          7.51051414e-02-2.78787210e-02j,\n",
       "          6.71971544e-02-3.08260133e-02j,\n",
       "          6.58106050e-02-2.85882247e-02j],\n",
       "        [ 7.31509813e-01-1.52801098e-01j,\n",
       "          6.31132182e-01-1.81056590e-01j,\n",
       "          5.42290205e-01-2.03015544e-01j, ...,\n",
       "          2.35587269e-03-6.26337923e-03j,\n",
       "         -7.97038545e-03-1.33908740e-02j,\n",
       "         -9.74995812e-03-1.20538863e-02j]],\n",
       "\n",
       "       ...,\n",
       "\n",
       "       [[ 1.48538448e+00-1.10996490e-01j,\n",
       "          1.22212246e+00-1.00709021e-01j,\n",
       "          1.02998875e+00-9.11240764e-02j, ...,\n",
       "         -8.84851017e-03-8.42058031e-03j,\n",
       "         -5.90604566e-03-6.72512007e-03j,\n",
       "         -2.44153094e-03+8.13677257e-03j],\n",
       "        [ 1.01251021e+00-4.37638291e-01j,\n",
       "          7.94084440e-01-3.49024737e-01j,\n",
       "          6.27996019e-01-2.78391995e-01j, ...,\n",
       "         -1.67558597e-04-2.96100687e-02j,\n",
       "         -1.73357502e-02-5.12647424e-02j,\n",
       "         -2.30702539e-03-3.61210779e-02j],\n",
       "        [ 4.37717565e-01-7.79423281e-01j,\n",
       "          3.95984145e-01-7.15659034e-01j,\n",
       "          3.68451599e-01-6.59398843e-01j, ...,\n",
       "          2.28078303e-02+8.74170345e-03j,\n",
       "          2.28509649e-02+8.77153386e-03j,\n",
       "          1.99973141e-02+2.16233733e-03j],\n",
       "        ...,\n",
       "        [ 1.48587291e+00+1.01117610e-01j,\n",
       "          1.24607938e+00+8.18763354e-02j,\n",
       "          1.05390041e+00+6.52964662e-02j, ...,\n",
       "          9.02435061e-03-1.80033600e-02j,\n",
       "          1.14498684e-02-1.77275109e-02j,\n",
       "         -2.26666867e-03-6.02146011e-03j],\n",
       "        [ 1.17880264e+00-3.63890307e-01j,\n",
       "          1.05458753e+00-3.38014650e-01j,\n",
       "          9.44660004e-01-3.09503984e-01j, ...,\n",
       "         -1.69072509e-03+3.41120477e-02j,\n",
       "          1.06942623e-03+3.39602447e-02j,\n",
       "          1.01982187e-02+1.70657290e-02j],\n",
       "        [ 7.28454892e-01+1.60405415e-01j,\n",
       "          6.29506937e-01+1.92098375e-01j,\n",
       "          5.49978142e-01+2.05836333e-01j, ...,\n",
       "         -1.05576077e-02+1.84986363e-03j,\n",
       "         -1.06483784e-02+2.25198376e-03j,\n",
       "         -4.13287124e-04-3.24705335e-03j]],\n",
       "\n",
       "       [[ 1.09438043e+00+1.09438041e+00j,\n",
       "          9.98877445e-01+9.98877431e-01j,\n",
       "          9.01620559e-01+9.01620546e-01j, ...,\n",
       "         -7.46824277e-03-7.46824229e-03j,\n",
       "         -7.86428605e-03-7.86428533e-03j,\n",
       "         -1.20510281e-02-1.20510274e-02j],\n",
       "        [ 1.19227105e+00+3.47575859e-01j,\n",
       "          1.08452590e+00+3.41734426e-01j,\n",
       "          9.73194092e-01+3.17669994e-01j, ...,\n",
       "         -1.70005557e-02-2.96682416e-02j,\n",
       "         -5.01701986e-03-2.86000162e-03j,\n",
       "         -6.42614290e-03-1.15519357e-03j],\n",
       "        [ 1.35876546e+00-7.88076743e-01j,\n",
       "          1.26204750e+00-7.39357594e-01j,\n",
       "          1.19416873e+00-6.94549374e-01j, ...,\n",
       "          6.16962539e-02-5.11036001e-02j,\n",
       "          6.02946901e-02-4.27814364e-02j,\n",
       "          5.76634336e-02-4.26995437e-02j],\n",
       "        ...,\n",
       "        [ 1.17749299e+00-3.34405034e-01j,\n",
       "          1.04992386e+00-3.01620844e-01j,\n",
       "          9.50297374e-01-2.82386514e-01j, ...,\n",
       "         -1.74811617e-02+3.12666505e-02j,\n",
       "         -7.97160548e-03+1.81148872e-02j,\n",
       "         -4.69339018e-03+2.00734585e-02j],\n",
       "        [ 1.13228742e+00-1.13228740e+00j,\n",
       "          1.02710967e+00-1.02710965e+00j,\n",
       "          9.24025287e-01-9.24025273e-01j, ...,\n",
       "          2.77795999e-02-2.77795983e-02j,\n",
       "          1.76522103e-02-1.76522089e-02j,\n",
       "          2.11600212e-02-2.11600198e-02j],\n",
       "        [ 4.47161417e-01-7.64654980e-01j,\n",
       "          4.10576000e-01-6.99749934e-01j,\n",
       "          3.79846109e-01-6.48581074e-01j, ...,\n",
       "         -1.04869811e-02-2.01503544e-03j,\n",
       "          2.65631257e-03-1.01436029e-02j,\n",
       "          4.11473443e-03-1.30160846e-02j]],\n",
       "\n",
       "       [[ 2.06651950e-01+3.85157293e-01j,\n",
       "          1.70109274e-01+3.17871696e-01j,\n",
       "          1.43421293e-01+2.68548988e-01j, ...,\n",
       "         -1.15045860e-03-1.34825912e-03j,\n",
       "         -7.58086203e-04-7.84823997e-04j,\n",
       "         -4.10248506e-04-1.46176730e-03j],\n",
       "        [ 4.42182618e-01+7.64020694e-01j,\n",
       "          4.05693193e-01+7.03547226e-01j,\n",
       "          3.73017819e-01+6.49571630e-01j, ...,\n",
       "         -9.46192166e-04-7.54966055e-03j,\n",
       "         -5.71945538e-04-5.68897303e-03j,\n",
       "          6.44610196e-03+9.95250241e-03j],\n",
       "        [ 7.11287871e-01-1.71870687e-01j,\n",
       "          6.17960385e-01-1.92855974e-01j,\n",
       "          5.35487250e-01-2.18318981e-01j, ...,\n",
       "          1.52424476e-02+8.99835607e-03j,\n",
       "          1.33779950e-02+8.63656655e-03j,\n",
       "          1.24342830e-02+3.13969120e-03j],\n",
       "        ...,\n",
       "        [ 7.32349609e-01+1.46680130e-01j,\n",
       "          6.26442985e-01+1.78076511e-01j,\n",
       "          5.47039028e-01+1.98355689e-01j, ...,\n",
       "          1.04551646e-02-4.94573896e-03j,\n",
       "          7.22161269e-03-7.88917272e-04j,\n",
       "          1.54223248e-03+1.76061639e-02j],\n",
       "        [ 4.44776123e-01-7.61562705e-01j,\n",
       "          4.07946040e-01-6.94241972e-01j,\n",
       "          3.73796416e-01-6.38643907e-01j, ...,\n",
       "         -9.49030679e-03-3.54646386e-03j,\n",
       "         -8.06970797e-03-6.05031582e-03j,\n",
       "         -3.09161261e-03-9.88769050e-03j],\n",
       "        [ 2.06631930e-01-3.84250957e-01j,\n",
       "          1.73259270e-01-3.21935182e-01j,\n",
       "          1.46502961e-01-2.71872359e-01j, ...,\n",
       "          1.08978321e-03-3.94149695e-04j,\n",
       "          1.42806915e-03-1.03293726e-03j,\n",
       "         -3.67269039e-04+1.19741362e-03j]]])"
      ]
     },
     "execution_count": 68,
     "metadata": {},
     "output_type": "execute_result"
    }
   ],
   "source": [
    "fft_dimer_corr_prime - corr2[1]"
   ]
  },
  {
   "cell_type": "code",
   "execution_count": 6,
   "id": "international-cylinder",
   "metadata": {
    "scrolled": true
   },
   "outputs": [],
   "source": [
    "import pickle\n",
    "with open('/home/keisuke/Documents/dimermaster/save/corr/h=1.0V=1.0l=[4, 4]/n=1.0e+05','rb') as fp:\n",
    "    [fft_dimer_corr_prime, t_list, num_samples] = pickle.load(fp)"
   ]
  },
  {
   "cell_type": "code",
   "execution_count": 8,
   "id": "black-butterfly",
   "metadata": {},
   "outputs": [],
   "source": [
    "fft_dimer_corr_prime /= 64*2"
   ]
  },
  {
   "cell_type": "code",
   "execution_count": 37,
   "id": "productive-mention",
   "metadata": {
    "scrolled": true
   },
   "outputs": [
    {
     "data": {
      "text/plain": [
       "array([0.02205296+0.01001865j, 0.01875094+0.01129549j,\n",
       "       0.01601842+0.01156013j, ..., 0.        +0.j        ,\n",
       "       0.        +0.j        , 0.        +0.j        ])"
      ]
     },
     "execution_count": 37,
     "metadata": {},
     "output_type": "execute_result"
    }
   ],
   "source": [
    "corr2[1]"
   ]
  },
  {
   "cell_type": "code",
   "execution_count": 38,
   "id": "boolean-advocate",
   "metadata": {
    "scrolled": true
   },
   "outputs": [
    {
     "data": {
      "text/plain": [
       "array([ 6.33213633e-04+6.37513595e-04j,  5.54457882e-04+5.27978464e-04j,\n",
       "        4.46649281e-04+4.36455623e-04j,  3.74663997e-04+3.63840674e-04j,\n",
       "        3.03567010e-04+3.09556971e-04j,  2.60809011e-04+2.66974483e-04j,\n",
       "        2.10634693e-04+2.26089048e-04j,  1.57099475e-04+1.96404302e-04j,\n",
       "        1.25699276e-04+1.77254209e-04j,  1.12148854e-04+1.57455846e-04j,\n",
       "        9.95927854e-05+1.37463582e-04j,  9.47376444e-05+1.12288806e-04j,\n",
       "        1.10165978e-04+9.78546576e-05j,  8.96645063e-05+8.97837436e-05j,\n",
       "        7.08354584e-05+7.54618102e-05j,  7.64005194e-05+6.94734130e-05j,\n",
       "        6.42691612e-05+6.30041517e-05j,  9.48382490e-05+5.26371036e-05j,\n",
       "        7.09661667e-05+4.98940494e-05j,  6.48933038e-05+4.86198207e-05j,\n",
       "        3.78528410e-05+4.27362413e-05j,  3.46178503e-05+4.04114623e-05j,\n",
       "        2.13831400e-05+3.54709585e-05j,  2.77003357e-05+3.22550111e-05j,\n",
       "        4.28213818e-05+2.90737732e-05j, -2.81113831e-06+2.46901837e-05j,\n",
       "       -2.45452405e-05+2.12291871e-05j, -2.94688503e-05+2.61027375e-05j,\n",
       "       -4.12574463e-05+2.14275742e-05j, -2.75278722e-05+1.50649070e-05j,\n",
       "       -2.14005100e-05+1.56717070e-05j, -4.29554907e-05+1.82557546e-05j,\n",
       "       -3.07452684e-05+2.15122920e-05j, -3.50192577e-05+2.36730107e-05j,\n",
       "       -2.69330369e-05+1.75168241e-05j,  2.53424080e-06+1.61493474e-05j,\n",
       "        4.24314012e-06+7.20471542e-06j,  2.99332632e-05-2.58037988e-06j,\n",
       "        5.19176106e-05-1.43505806e-06j,  2.87773827e-05+3.40640063e-07j,\n",
       "        3.78069706e-05+2.85362990e-06j,  2.97686217e-06+1.74111869e-06j,\n",
       "       -4.54634265e-06+3.24920208e-06j,  8.76526087e-06+4.25214832e-06j,\n",
       "        2.80549536e-05+6.19203689e-06j,  4.03620635e-05+8.26203445e-06j,\n",
       "        4.24334333e-05+8.35983822e-06j,  2.68182891e-06+1.05970511e-05j,\n",
       "        2.17477551e-05+1.07834931e-05j,  7.31251928e-06+1.30556069e-05j,\n",
       "       -2.38409778e-05+1.56002665e-05j, -1.39050195e-06+1.32840250e-05j,\n",
       "       -8.19459650e-07+9.28659682e-06j, -5.18188135e-06+6.53855017e-06j,\n",
       "        2.59614756e-05+4.86704179e-06j,  1.43439748e-05+5.58624767e-06j,\n",
       "        5.94569803e-06+2.83156234e-06j, -1.04416261e-05+5.49203551e-07j,\n",
       "       -1.74505446e-05+2.49977383e-06j, -7.14212156e-05+1.36589181e-06j,\n",
       "       -5.47616812e-05+4.80842722e-06j, -5.62622947e-05+5.21051540e-06j,\n",
       "       -8.58384280e-05+5.66418940e-06j, -6.62783528e-05+5.79076072e-06j,\n",
       "       -6.17220130e-05+3.91706746e-06j, -6.28390179e-05-1.87667160e-06j,\n",
       "       -2.80852309e-05-5.82124316e-06j, -7.75485472e-06-3.14469830e-06j,\n",
       "       -2.72826817e-05-2.91722958e-06j, -6.09488942e-07+5.96620697e-06j,\n",
       "       -3.70572357e-05+5.93996632e-06j, -4.14779553e-05+1.61020735e-07j,\n",
       "       -4.74822373e-05-1.20412038e-06j, -5.51282364e-05-3.43501602e-06j,\n",
       "       -3.50030315e-05-9.48037421e-06j, -1.04490805e-05-9.09611179e-06j,\n",
       "       -2.34217205e-05-1.20032877e-05j, -3.32824501e-05-1.18273434e-05j,\n",
       "       -4.81453677e-05-8.06244517e-06j,  5.49662296e-06-8.14614484e-06j,\n",
       "       -1.34887542e-05-6.32315665e-06j, -4.63422664e-05-7.67515046e-06j,\n",
       "       -6.43918739e-05-4.57964109e-06j, -7.47463236e-05-1.10898064e-05j,\n",
       "       -4.32518922e-05-1.48138619e-05j, -5.13921834e-05-1.47362269e-05j,\n",
       "       -5.58034778e-05-1.01450233e-05j,  1.21909428e-05-1.07377805e-05j,\n",
       "        1.31629024e-05-7.66155173e-06j,  1.32838688e-05-6.89606656e-06j,\n",
       "       -1.89286211e-05-2.61692690e-06j, -3.48016589e-05-4.45679879e-06j,\n",
       "       -3.69011924e-05-5.70763514e-06j, -6.76833348e-05-6.96182518e-06j,\n",
       "       -4.98538381e-05-5.86379343e-06j, -2.67783926e-05-3.85025150e-06j,\n",
       "       -9.45501290e-06-4.79269168e-06j,  8.66923110e-06-8.05327222e-06j,\n",
       "       -3.50662921e-06-1.24795960e-05j, -1.36659048e-05-1.16433670e-05j,\n",
       "       -4.27397198e-05-1.28475488e-05j, -7.27232546e-05-1.26473928e-05j,\n",
       "       -7.32982385e-05-1.00996321e-05j, -7.74571739e-05-9.34792967e-06j,\n",
       "       -5.53438337e-05-6.78644764e-06j, -3.76914877e-05-1.10086263e-05j,\n",
       "       -3.00212666e-05-9.07436563e-06j, -2.18184499e-05-9.16875439e-06j,\n",
       "        1.92843521e-05-9.22925308e-06j,  4.58430627e-05-7.93144069e-06j,\n",
       "        4.36746623e-05-4.59404446e-06j,  2.79628655e-05-4.66371610e-06j,\n",
       "       -2.21433316e-05-6.68800845e-06j, -1.13245814e-05-6.61290027e-06j,\n",
       "       -2.66592539e-05-6.05826018e-06j, -2.69982174e-05-4.15403053e-06j,\n",
       "       -4.08503000e-05-6.02766247e-06j, -1.99771880e-05-6.25291830e-06j,\n",
       "        1.14321809e-05-4.44143123e-06j, -1.48885384e-05-5.65794083e-06j,\n",
       "       -1.80272135e-05-1.74619463e-07j, -2.57961500e-05-3.89583406e-06j,\n",
       "       -3.73757760e-05+3.84923336e-06j, -3.62482021e-05+2.02384092e-06j,\n",
       "       -1.24908879e-05+1.67859109e-06j, -2.61089207e-05-1.56340561e-06j,\n",
       "       -1.12603709e-05-1.40750001e-06j, -4.23737057e-06-2.78155401e-06j,\n",
       "       -1.40357175e-05-3.73703359e-07j, -5.07920075e-05-1.11516815e-06j,\n",
       "       -5.27866270e-05-2.90186940e-06j, -3.33879358e-05-2.29683825e-06j,\n",
       "       -7.03879866e-05-7.54276724e-06j, -1.08469424e-04-7.78408739e-06j,\n",
       "       -1.20395325e-04-1.00287657e-05j, -1.26359619e-04-5.89187161e-06j,\n",
       "       -1.37365803e-04-8.16537885e-06j, -1.37577458e-04-1.00671429e-05j,\n",
       "       -1.14487931e-04-7.47708471e-06j, -1.01194494e-04-6.25166222e-06j,\n",
       "       -6.92345058e-05-4.44264073e-06j, -6.99507365e-05-9.14062732e-07j,\n",
       "       -6.11106962e-05+9.24354349e-07j, -8.33754232e-05+2.16840956e-07j,\n",
       "       -5.26879116e-05-1.11491546e-06j, -4.05257042e-05-4.01108825e-06j,\n",
       "       -6.05276859e-05-9.72731257e-07j, -1.87189363e-05-1.43999660e-06j,\n",
       "        7.51714934e-06-1.43392464e-06j, -2.16938277e-05-2.45628151e-06j,\n",
       "       -2.86885214e-05-2.17785502e-06j, -2.39003888e-05-1.64742667e-06j,\n",
       "       -3.57439129e-05+1.09081900e-06j, -8.83566978e-06-7.13472976e-06j,\n",
       "       -2.50679206e-06-3.75301443e-06j,  2.06252665e-05-3.93072751e-06j,\n",
       "        1.22147358e-05-4.28843527e-06j,  3.34566598e-05-4.27342512e-08j,\n",
       "        5.08504484e-05+1.89740700e-06j, -4.09626683e-06-1.51371129e-06j,\n",
       "        1.28416764e-05+7.66181918e-07j,  1.57481296e-05-3.75280832e-07j,\n",
       "        3.40228720e-06+4.02082053e-06j, -1.36302868e-05-8.45019131e-07j,\n",
       "       -8.50333360e-06+2.98396439e-08j, -1.34042635e-05-2.86405893e-06j,\n",
       "       -7.73668830e-06-3.36717454e-06j, -2.08348083e-06+5.05137141e-08j,\n",
       "       -2.71981910e-05+5.41868141e-07j, -5.67180278e-06+3.55076822e-06j,\n",
       "        2.88391628e-06+4.37732616e-06j,  1.67338850e-05+7.77478440e-06j,\n",
       "        2.93477102e-05+7.58651226e-06j,  4.26028436e-05+8.53205344e-06j,\n",
       "        5.28468958e-05+6.65760210e-06j,  3.63267802e-05-7.39244530e-07j,\n",
       "        5.46038100e-05+3.86568039e-06j,  1.75996746e-05-5.81256084e-07j,\n",
       "        2.64521119e-05-3.38847665e-06j,  4.71839771e-05-2.63291512e-06j,\n",
       "        5.17300339e-05-1.38479704e-06j,  1.42313205e-05+9.74117368e-07j,\n",
       "        8.50319064e-06+2.21882043e-06j,  1.28657553e-05+2.71820702e-06j,\n",
       "        2.43965087e-05+2.31238980e-06j,  4.43591449e-07+2.05722561e-06j,\n",
       "        2.92129478e-05+1.74719064e-06j,  6.98835238e-06+4.29305241e-06j,\n",
       "        2.91097189e-05+7.50520947e-06j, -1.14383793e-05+6.76425005e-06j,\n",
       "       -2.78802027e-05+5.14931997e-06j, -1.20858860e-05+7.95325556e-06j,\n",
       "        3.44833125e-06+9.44869703e-06j, -2.37880205e-05+7.46202379e-06j,\n",
       "        6.27029382e-06+4.84813656e-06j,  1.05020378e-05+9.57869075e-07j,\n",
       "       -1.59195107e-05-5.21768158e-07j, -2.17796867e-06-4.78409282e-06j,\n",
       "        7.69290101e-06-5.83318833e-06j,  8.31407201e-06-5.20173255e-06j])"
      ]
     },
     "execution_count": 38,
     "metadata": {},
     "output_type": "execute_result"
    }
   ],
   "source": [
    "fft_dimer_corr_prime[0,1,:]"
   ]
  },
  {
   "cell_type": "code",
   "execution_count": 25,
   "id": "passing-group",
   "metadata": {
    "scrolled": true
   },
   "outputs": [
    {
     "data": {
      "text/plain": [
       "array([-2.14197469e-02-9.38113652e-03j, -1.81964785e-02-1.07675108e-02j,\n",
       "       -1.55717703e-02-1.11236737e-02j, -1.34014821e-02-1.08837038e-02j,\n",
       "       -1.16292045e-02-1.03108319e-02j, -1.01456184e-02-9.57139250e-03j,\n",
       "       -8.91968221e-03-8.77225341e-03j, -7.89513255e-03-7.96181172e-03j,\n",
       "       -7.00645758e-03-7.17423794e-03j, -6.22747065e-03-6.43888790e-03j,\n",
       "       -5.55178303e-03-5.76387602e-03j, -4.95482743e-03-5.15681377e-03j,\n",
       "       -4.41014334e-03-4.60080679e-03j, -3.96301221e-03-4.09718203e-03j,\n",
       "       -3.56709001e-03-3.65439666e-03j, -3.19255558e-03-3.25322102e-03j,\n",
       "       -2.87564633e-03-2.89772260e-03j, -2.55107175e-03-2.58670342e-03j,\n",
       "       -2.31183033e-03-2.30429274e-03j, -2.08213541e-03-2.05263176e-03j,\n",
       "       -1.89769030e-03-1.83414727e-03j, -1.71105512e-03-1.63738385e-03j,\n",
       "       -1.55369914e-03-1.46557881e-03j, -1.39401436e-03-1.31178192e-03j,\n",
       "       -1.24093140e-03-1.17537311e-03j, -1.16239636e-03-1.05555096e-03j,\n",
       "       -1.07232519e-03-9.48395101e-04j, -9.76530559e-04-8.44914315e-04j,\n",
       "       -8.97550598e-04-7.61603728e-04j, -8.01986561e-04-6.89382365e-04j,\n",
       "       -7.22051052e-04-6.18521373e-04j, -6.77012130e-04-5.53070719e-04j,\n",
       "       -6.04695287e-04-4.93506392e-04j, -5.54698772e-04-4.40867192e-04j,\n",
       "       -4.97594571e-04-4.01731500e-04j, -4.23838555e-04-3.62426900e-04j,\n",
       "       -3.82100731e-04-3.34818851e-04j, -3.20220187e-04-3.11728371e-04j,\n",
       "       -2.65505641e-04-2.80993190e-04j, -2.59036094e-04-2.52566585e-04j,\n",
       "       -2.23211798e-04-2.26034039e-04j, -2.33787737e-04-2.05485157e-04j,\n",
       "       -2.19350398e-04-1.84430922e-04j, -1.86149707e-04-1.65780805e-04j,\n",
       "       -1.48842392e-04-1.47899980e-04j, -1.20209023e-04-1.31423299e-04j,\n",
       "       -1.03340497e-04-1.18299440e-04j, -1.29677804e-04-1.04279435e-04j,\n",
       "       -9.84485779e-05-9.34305089e-05j, -1.01852564e-04-8.15060601e-05j,\n",
       "       -1.22999529e-04-7.02204275e-05j, -9.14703420e-05-6.46183900e-05j,\n",
       "       -8.26609066e-05-6.14405822e-05j, -7.95462013e-05-5.76848288e-05j,\n",
       "       -4.16155414e-05-5.34595462e-05j, -4.70709742e-05-4.73925543e-05j,\n",
       "       -4.98740080e-05-4.52961997e-05j, -6.11800741e-05-4.31771514e-05j,\n",
       "       -6.35739016e-05-3.72323092e-05j, -1.13352364e-04-3.47406952e-05j,\n",
       "       -9.28843082e-05-2.80068008e-05j, -9.09245917e-05-2.46161946e-05j,\n",
       "       -1.17356425e-04-2.14485546e-05j, -9.49389368e-05-1.88569853e-05j,\n",
       "       -8.77856550e-05-1.84915045e-05j, -8.65422389e-05-2.22509456e-05j,\n",
       "       -4.96428359e-05-2.43471312e-05j, -2.73619487e-05-1.99909353e-05j,\n",
       "       -4.51164987e-05-1.82369886e-05j, -1.68310509e-05-7.96614503e-06j,\n",
       "       -5.18128457e-05-6.73126668e-06j, -5.49005623e-05-1.13637883e-05j,\n",
       "       -5.96926633e-05-1.16866884e-05j, -6.62362924e-05-1.29699880e-05j,\n",
       "       -4.51085315e-05-1.81537422e-05j, -1.96427585e-05-1.69860148e-05j,\n",
       "       -3.17860615e-05-1.91807347e-05j, -4.08924471e-05-1.83568714e-05j,\n",
       "       -5.50692047e-05-1.40027152e-05j, -8.03053036e-07-1.35504818e-05j,\n",
       "       -1.92206472e-05-1.12400366e-05j, -5.15576444e-05-1.21486455e-05j,\n",
       "       -6.91373619e-05-8.64982409e-06j, -7.90643266e-05-1.47931144e-05j,\n",
       "       -4.71809772e-05-1.81834289e-05j, -5.49674304e-05-1.78021849e-05j,\n",
       "       -5.90567938e-05-1.29347743e-05j,  9.23053284e-06-1.32762475e-05j,\n",
       "        1.04689964e-05-9.97140273e-06j,  1.08324498e-05-8.99791856e-06j,\n",
       "       -2.11594031e-05-4.52953490e-06j, -3.68316809e-05-6.19722279e-06j,\n",
       "       -3.87485374e-05-7.29139314e-06j, -6.93644558e-05-8.40303418e-06j,\n",
       "       -5.13837041e-05-7.17529743e-06j, -2.81706216e-05-5.04373350e-06j,\n",
       "       -1.07219969e-05-5.87878268e-06j,  7.51621910e-06-9.04164222e-06j,\n",
       "       -4.55592921e-06-1.33790440e-05j, -1.46208258e-05-1.24618990e-05j,\n",
       "       -4.27397198e-05-1.28475488e-05j, -7.27232546e-05-1.26473928e-05j,\n",
       "       -7.32982385e-05-1.00996321e-05j, -7.74571739e-05-9.34792967e-06j,\n",
       "       -5.53438337e-05-6.78644764e-06j, -3.76914877e-05-1.10086263e-05j,\n",
       "       -3.00212666e-05-9.07436563e-06j, -2.18184499e-05-9.16875439e-06j,\n",
       "        1.92843521e-05-9.22925308e-06j,  4.58430627e-05-7.93144069e-06j,\n",
       "        4.36746623e-05-4.59404446e-06j,  2.79628655e-05-4.66371610e-06j,\n",
       "       -2.21433316e-05-6.68800845e-06j, -1.13245814e-05-6.61290027e-06j,\n",
       "       -2.66592539e-05-6.05826018e-06j, -2.69982174e-05-4.15403053e-06j,\n",
       "       -4.08503000e-05-6.02766247e-06j, -1.99771880e-05-6.25291830e-06j,\n",
       "        1.14321809e-05-4.44143123e-06j, -1.48885384e-05-5.65794083e-06j,\n",
       "       -1.80272135e-05-1.74619463e-07j, -2.57961500e-05-3.89583406e-06j,\n",
       "       -3.73757760e-05+3.84923336e-06j, -3.62482021e-05+2.02384092e-06j,\n",
       "       -1.24908879e-05+1.67859109e-06j, -2.61089207e-05-1.56340561e-06j,\n",
       "       -1.12603709e-05-1.40750001e-06j, -4.23737057e-06-2.78155401e-06j,\n",
       "       -1.40357175e-05-3.73703359e-07j, -5.07920075e-05-1.11516815e-06j,\n",
       "       -5.27866270e-05-2.90186940e-06j, -3.33879358e-05-2.29683825e-06j,\n",
       "       -7.03879866e-05-7.54276724e-06j, -1.08469424e-04-7.78408739e-06j,\n",
       "       -1.20395325e-04-1.00287657e-05j, -1.26359619e-04-5.89187161e-06j,\n",
       "       -1.37365803e-04-8.16537885e-06j, -1.37577458e-04-1.00671429e-05j,\n",
       "       -1.14487931e-04-7.47708471e-06j, -1.01194494e-04-6.25166222e-06j,\n",
       "       -6.92345058e-05-4.44264073e-06j, -6.99507365e-05-9.14062732e-07j,\n",
       "       -6.11106962e-05+9.24354349e-07j, -8.33754232e-05+2.16840956e-07j,\n",
       "       -5.26879116e-05-1.11491546e-06j, -4.05257042e-05-4.01108825e-06j,\n",
       "       -6.05276859e-05-9.72731257e-07j, -1.87189363e-05-1.43999660e-06j,\n",
       "        7.51714934e-06-1.43392464e-06j, -2.16938277e-05-2.45628151e-06j,\n",
       "       -2.86885214e-05-2.17785502e-06j, -2.39003888e-05-1.64742667e-06j,\n",
       "       -3.57439129e-05+1.09081900e-06j, -8.83566978e-06-7.13472976e-06j,\n",
       "       -2.50679206e-06-3.75301443e-06j,  2.06252665e-05-3.93072751e-06j,\n",
       "        1.22147358e-05-4.28843527e-06j,  3.34566598e-05-4.27342512e-08j,\n",
       "        5.08504484e-05+1.89740700e-06j, -4.09626683e-06-1.51371129e-06j,\n",
       "        1.28416764e-05+7.66181918e-07j,  1.57481296e-05-3.75280832e-07j,\n",
       "        3.40228720e-06+4.02082053e-06j, -1.36302868e-05-8.45019131e-07j,\n",
       "       -8.50333360e-06+2.98396439e-08j, -1.34042635e-05-2.86405893e-06j,\n",
       "       -7.73668830e-06-3.36717454e-06j, -2.08348083e-06+5.05137141e-08j,\n",
       "       -2.71981910e-05+5.41868141e-07j, -5.67180278e-06+3.55076822e-06j,\n",
       "        2.88391628e-06+4.37732616e-06j,  1.67338850e-05+7.77478440e-06j,\n",
       "        2.93477102e-05+7.58651226e-06j,  4.26028436e-05+8.53205344e-06j,\n",
       "        5.28468958e-05+6.65760210e-06j,  3.63267802e-05-7.39244530e-07j,\n",
       "        5.46038100e-05+3.86568039e-06j,  1.75996746e-05-5.81256084e-07j,\n",
       "        2.64521119e-05-3.38847665e-06j,  4.71839771e-05-2.63291512e-06j,\n",
       "        5.17300339e-05-1.38479704e-06j,  1.42313205e-05+9.74117368e-07j,\n",
       "        8.50319064e-06+2.21882043e-06j,  1.28657553e-05+2.71820702e-06j,\n",
       "        2.43965087e-05+2.31238980e-06j,  4.43591449e-07+2.05722561e-06j,\n",
       "        2.92129478e-05+1.74719064e-06j,  6.98835238e-06+4.29305241e-06j,\n",
       "        2.91097189e-05+7.50520947e-06j, -1.14383793e-05+6.76425005e-06j,\n",
       "       -2.78802027e-05+5.14931997e-06j, -1.20858860e-05+7.95325556e-06j,\n",
       "        3.44833125e-06+9.44869703e-06j, -2.37880205e-05+7.46202379e-06j,\n",
       "        6.27029382e-06+4.84813656e-06j,  1.05020378e-05+9.57869075e-07j,\n",
       "       -1.59195107e-05-5.21768158e-07j, -2.17796867e-06-4.78409282e-06j,\n",
       "        7.69290101e-06-5.83318833e-06j,  8.31407201e-06-5.20173255e-06j])"
      ]
     },
     "execution_count": 25,
     "metadata": {},
     "output_type": "execute_result"
    }
   ],
   "source": [
    "fft_dimer_corr_prime[0,1,:] - corr2[1,:][:200]"
   ]
  },
  {
   "cell_type": "code",
   "execution_count": 23,
   "id": "exact-diploma",
   "metadata": {},
   "outputs": [
    {
     "data": {
      "text/plain": [
       "array([ 0. ,  0.1,  0.2,  0.3,  0.4,  0.5,  0.6,  0.7,  0.8,  0.9,  1. ,\n",
       "        1.1,  1.2,  1.3,  1.4,  1.5,  1.6,  1.7,  1.8,  1.9,  2. ,  2.1,\n",
       "        2.2,  2.3,  2.4,  2.5,  2.6,  2.7,  2.8,  2.9,  3. ,  3.1,  3.2,\n",
       "        3.3,  3.4,  3.5,  3.6,  3.7,  3.8,  3.9,  4. ,  4.1,  4.2,  4.3,\n",
       "        4.4,  4.5,  4.6,  4.7,  4.8,  4.9,  5. ,  5.1,  5.2,  5.3,  5.4,\n",
       "        5.5,  5.6,  5.7,  5.8,  5.9,  6. ,  6.1,  6.2,  6.3,  6.4,  6.5,\n",
       "        6.6,  6.7,  6.8,  6.9,  7. ,  7.1,  7.2,  7.3,  7.4,  7.5,  7.6,\n",
       "        7.7,  7.8,  7.9,  8. ,  8.1,  8.2,  8.3,  8.4,  8.5,  8.6,  8.7,\n",
       "        8.8,  8.9,  9. ,  9.1,  9.2,  9.3,  9.4,  9.5,  9.6,  9.7,  9.8,\n",
       "        9.9, 10. , 10.1, 10.2, 10.3, 10.4, 10.5, 10.6, 10.7, 10.8, 10.9,\n",
       "       11. , 11.1, 11.2, 11.3, 11.4, 11.5, 11.6, 11.7, 11.8, 11.9, 12. ,\n",
       "       12.1, 12.2, 12.3, 12.4, 12.5, 12.6, 12.7, 12.8, 12.9, 13. , 13.1,\n",
       "       13.2, 13.3, 13.4, 13.5, 13.6, 13.7, 13.8, 13.9, 14. , 14.1, 14.2,\n",
       "       14.3, 14.4, 14.5, 14.6, 14.7, 14.8, 14.9, 15. , 15.1, 15.2, 15.3,\n",
       "       15.4, 15.5, 15.6, 15.7, 15.8, 15.9, 16. , 16.1, 16.2, 16.3, 16.4,\n",
       "       16.5, 16.6, 16.7, 16.8, 16.9, 17. , 17.1, 17.2, 17.3, 17.4, 17.5,\n",
       "       17.6, 17.7, 17.8, 17.9, 18. , 18.1, 18.2, 18.3, 18.4, 18.5, 18.6,\n",
       "       18.7, 18.8, 18.9, 19. , 19.1, 19.2, 19.3, 19.4, 19.5, 19.6, 19.7,\n",
       "       19.8, 19.9])"
      ]
     },
     "execution_count": 23,
     "metadata": {},
     "output_type": "execute_result"
    }
   ],
   "source": [
    "t_list"
   ]
  },
  {
   "cell_type": "code",
   "execution_count": 24,
   "id": "occasional-prompt",
   "metadata": {},
   "outputs": [
    {
     "data": {
      "text/plain": [
       "(7, 1)"
      ]
     },
     "execution_count": 24,
     "metadata": {},
     "output_type": "execute_result"
    }
   ],
   "source": [
    "np.unravel_index(np.argmin(B),B.shape)"
   ]
  },
  {
   "cell_type": "code",
   "execution_count": 147,
   "id": "monetary-deployment",
   "metadata": {
    "scrolled": true
   },
   "outputs": [
    {
     "data": {
      "text/plain": [
       "(7, 7)"
      ]
     },
     "execution_count": 147,
     "metadata": {},
     "output_type": "execute_result"
    }
   ],
   "source": [
    "np.unravel_index(np.argmin(A, axis=None), A.shape)"
   ]
  },
  {
   "cell_type": "code",
   "execution_count": 152,
   "id": "concrete-motor",
   "metadata": {
    "scrolled": false
   },
   "outputs": [
    {
     "data": {
      "text/plain": [
       "(array([ 696,  856, 1020]),)"
      ]
     },
     "execution_count": 152,
     "metadata": {},
     "output_type": "execute_result"
    }
   ],
   "source": [
    "np.where((corr2[1] - corr2[2]) != 0)"
   ]
  },
  {
   "cell_type": "code",
   "execution_count": 145,
   "id": "simplified-bangladesh",
   "metadata": {},
   "outputs": [
    {
     "data": {
      "text/plain": [
       "array([0.33017283, 0.33421347, 0.45667307, 0.41334614, 0.41466635,\n",
       "       0.45383261, 0.32621219, 0.3337734 ])"
      ]
     },
     "execution_count": 145,
     "metadata": {},
     "output_type": "execute_result"
    }
   ],
   "source": [
    "dimer_corr[:,1,0]"
   ]
  },
  {
   "cell_type": "code",
   "execution_count": 163,
   "id": "sacred-leadership",
   "metadata": {},
   "outputs": [
    {
     "data": {
      "text/plain": [
       "(array([14, 22, 26, 31]),)"
      ]
     },
     "execution_count": 163,
     "metadata": {},
     "output_type": "execute_result"
    }
   ],
   "source": [
    "np.where(np.mean(corr2 - corr2[14],axis=1).round(5)==0)"
   ]
  },
  {
   "cell_type": "code",
   "execution_count": 107,
   "id": "grand-statistics",
   "metadata": {
    "scrolled": true
   },
   "outputs": [
    {
     "data": {
      "text/plain": [
       "array([0.03491236, 0.44306074, 0.02083999, 0.44306074, 0.01132994,\n",
       "       0.00236936, 0.00682221, 0.01105662])"
      ]
     },
     "execution_count": 107,
     "metadata": {},
     "output_type": "execute_result"
    }
   ],
   "source": [
    "np.abs(dimer_corr[:,1] - corr2[4][:200]).mean(axis=1)"
   ]
  },
  {
   "cell_type": "code",
   "execution_count": 16,
   "id": "romantic-august",
   "metadata": {},
   "outputs": [
    {
     "data": {
      "text/plain": [
       "array([0.45833333, 0.45814134, 0.45771851, ..., 0.44444444, 0.44444444,\n",
       "       0.44444444])"
      ]
     },
     "execution_count": 16,
     "metadata": {},
     "output_type": "execute_result"
    }
   ],
   "source": [
    "corr2[5]"
   ]
  },
  {
   "cell_type": "code",
   "execution_count": 92,
   "id": "caring-equipment",
   "metadata": {},
   "outputs": [],
   "source": [
    "d = f._dynamics(\n",
    "    op._local_states,\n",
    "    op._basis,\n",
    "    op._constant,\n",
    "    op._diag_mels,\n",
    "    op._n_conns,\n",
    "    op._mels,\n",
    "    op._x_prime,\n",
    "    op._acting_on,\n",
    "    op._acting_size\n",
    ")"
   ]
  },
  {
   "cell_type": "code",
   "execution_count": 94,
   "id": "russian-frost",
   "metadata": {},
   "outputs": [],
   "source": [
    "P = d.dynamics(samples_state.astype(np.int8), t_list, 0)"
   ]
  },
  {
   "cell_type": "code",
   "execution_count": 95,
   "id": "printable-corner",
   "metadata": {},
   "outputs": [],
   "source": [
    "P_list = P.transpose(1,0,2)"
   ]
  },
  {
   "cell_type": "code",
   "execution_count": 52,
   "id": "vulnerable-arkansas",
   "metadata": {},
   "outputs": [],
   "source": [
    "t_list_ = t_list.reshape(-1,1)\n",
    "n = 1\n",
    "index = np.logical_and(T[n] <= t_list_,  t_list_ < T[n+10])"
   ]
  },
  {
   "cell_type": "code",
   "execution_count": 23,
   "id": "painted-strategy",
   "metadata": {},
   "outputs": [],
   "source": [
    "import scipy.fft as fft\n",
    "fft_dimer_corr = np.empty_like(dimer_corr)\n",
    "for t in range(t_list.shape[0]):\n",
    "    fft_dimer_corr[:,:,t] = np.real(fft.fft2(dimer_corr[:,:,t]))"
   ]
  },
  {
   "cell_type": "code",
   "execution_count": 84,
   "id": "standing-scheduling",
   "metadata": {},
   "outputs": [],
   "source": [
    "from plotly import graph_objects as go\n"
   ]
  },
  {
   "cell_type": "code",
   "execution_count": 86,
   "id": "romance-teens",
   "metadata": {
    "scrolled": false
   },
   "outputs": [
    {
     "data": {
      "application/vnd.plotly.v1+json": {
       "config": {
        "plotlyServerURL": "https://plot.ly"
       },
       "data": [
        {
         "type": "scatter",
         "x": [
          0,
          0.1,
          0.2,
          0.30000000000000004,
          0.4,
          0.5,
          0.6000000000000001,
          0.7000000000000001,
          0.8,
          0.9,
          1,
          1.1,
          1.2000000000000002,
          1.3,
          1.4000000000000001,
          1.5,
          1.6,
          1.7000000000000002,
          1.8,
          1.9000000000000001,
          2,
          2.1,
          2.2,
          2.3000000000000003,
          2.4000000000000004,
          2.5,
          2.6,
          2.7,
          2.8000000000000003,
          2.9000000000000004,
          3,
          3.1,
          3.2,
          3.3000000000000003,
          3.4000000000000004,
          3.5,
          3.6,
          3.7,
          3.8000000000000003,
          3.9000000000000004,
          4,
          4.1000000000000005,
          4.2,
          4.3,
          4.4,
          4.5,
          4.6000000000000005,
          4.7,
          4.800000000000001,
          4.9,
          5,
          5.1000000000000005,
          5.2,
          5.300000000000001,
          5.4,
          5.5,
          5.6000000000000005,
          5.7,
          5.800000000000001,
          5.9,
          6,
          6.1000000000000005,
          6.2,
          6.300000000000001,
          6.4,
          6.5,
          6.6000000000000005,
          6.7,
          6.800000000000001,
          6.9,
          7,
          7.1000000000000005,
          7.2,
          7.300000000000001,
          7.4,
          7.5,
          7.6000000000000005,
          7.7,
          7.800000000000001,
          7.9,
          8,
          8.1,
          8.200000000000001,
          8.3,
          8.4,
          8.5,
          8.6,
          8.700000000000001,
          8.8,
          8.9,
          9,
          9.1,
          9.200000000000001,
          9.3,
          9.4,
          9.5,
          9.600000000000001,
          9.700000000000001,
          9.8,
          9.9
         ],
         "y": [
          1,
          0.9222275564090254,
          0.8656184989598336,
          0.8181309009441511,
          0.7806849095855337,
          0.7510001600256041,
          0.7243959033445351,
          0.7027524403904625,
          0.6826692270763323,
          0.6625060009601537,
          0.6457833253320532,
          0.6327412385981757,
          0.625260041606657,
          0.6128580572891663,
          0.601576252200352,
          0.5951752280364858,
          0.5880140822531605,
          0.5814130260841734,
          0.5750920147223556,
          0.5657705232837253,
          0.5592494799167866,
          0.5544887181949112,
          0.5504080652904465,
          0.5497279564730357,
          0.5441270603296527,
          0.5382061129780765,
          0.5349655944951193,
          0.5332453192510802,
          0.5306449031845095,
          0.5264842374779964,
          0.5259241478636582,
          0.5226836293807009,
          0.5204832773243719,
          0.5198031685069611,
          0.5177628420547288,
          0.5137221955512882,
          0.5099615938550168,
          0.5070411265802528,
          0.5078812610017602,
          0.5060009601536246,
          0.5058409345495279,
          0.5024003840614498,
          0.50048007681229,
          0.4985597695631301,
          0.49771963514162265,
          0.49339894383101296,
          0.4913186109777564,
          0.49123859817570814,
          0.4911585853736598,
          0.48819811169787164,
          0.48787806048967836,
          0.48767802848455755,
          0.4883981437029925,
          0.48643783005280844,
          0.48591774683949435,
          0.48587774043847015,
          0.48567770843334934,
          0.4837974075852136,
          0.48187710033605374,
          0.48079692750840136,
          0.4808769403104497,
          0.48011681869099054,
          0.48059689550328055,
          0.4810369659145463,
          0.47991678668586973,
          0.4786365818530965,
          0.47815650504080653,
          0.4768763002080333,
          0.47267562810049607,
          0.4688750200032005,
          0.46915506481036967,
          0.47007521203392544,
          0.47107537205952954,
          0.47027524403904625,
          0.47047527604416706,
          0.4707953272523604,
          0.4683949431909106,
          0.4681949111857897,
          0.46527444391102574,
          0.46931509041446634,
          0.4693951032165146,
          0.46795487277964476,
          0.4697951672267563,
          0.46519443110897746,
          0.46375420067210754,
          0.4626740278444551,
          0.4633541366618659,
          0.4650744119059049,
          0.4675548087694031,
          0.46675468074891985,
          0.46675468074891985,
          0.46519443110897746,
          0.4642342774843975,
          0.4651144183069291,
          0.46419427108337336,
          0.46415426468234916,
          0.4628740598495759,
          0.46331413026084173,
          0.46175388062089934,
          0.4631140982557209
         ]
        },
        {
         "type": "scatter",
         "x": [
          "0.000000",
          "0.100000",
          "0.200000",
          "0.300000",
          "0.400000",
          "0.500000",
          "0.600000",
          "0.700000",
          "0.800000",
          "0.900000",
          "1.000000",
          "1.100000",
          "1.200000",
          "1.300000",
          "1.400000",
          "1.500000",
          "1.600000",
          "1.700000",
          "1.800000",
          "1.900000",
          "2.000000",
          "2.100000",
          "2.200000",
          "2.300000",
          "2.400000",
          "2.500000",
          "2.600000",
          "2.700000",
          "2.800000",
          "2.900000",
          "3.000000",
          "3.100000",
          "3.200000",
          "3.300000",
          "3.400000",
          "3.500000",
          "3.600000",
          "3.700000",
          "3.800000",
          "3.900000",
          "4.000000",
          "4.100000",
          "4.200000",
          "4.300000",
          "4.400000",
          "4.500000",
          "4.600000",
          "4.700000",
          "4.800000",
          "4.900000",
          "5.000000",
          "5.100000",
          "5.200000",
          "5.300000",
          "5.400000",
          "5.500000",
          "5.600000",
          "5.700000",
          "5.800000",
          "5.900000",
          "6.000000",
          "6.100000",
          "6.200000",
          "6.300000",
          "6.400000",
          "6.500000",
          "6.600000",
          "6.700000",
          "6.800000",
          "6.900000",
          "7.000000",
          "7.100000",
          "7.200000",
          "7.300000",
          "7.400000",
          "7.500000",
          "7.600000",
          "7.700000",
          "7.800000",
          "7.900000",
          "8.000000",
          "8.100000",
          "8.200000",
          "8.300000",
          "8.400000",
          "8.500000",
          "8.600000",
          "8.700000",
          "8.800000",
          "8.900000",
          "9.000000",
          "9.100000",
          "9.200000",
          "9.300000",
          "9.400000",
          "9.500000",
          "9.600000",
          "9.700000",
          "9.800000",
          "9.900000",
          "10.000000"
         ],
         "y": [
          "1.000000000000",
          "0.901908297862",
          "0.826444614088",
          "0.764171047409",
          "0.710430082079",
          "0.662746515514",
          "0.619707040785",
          "0.580444583586",
          "0.544387141808",
          "0.511129609311",
          "0.480365826961",
          "0.451851379759",
          "0.425382610132",
          "0.400784409555",
          "0.377902867931",
          "0.356600666392",
          "0.336754052012",
          "0.318250746161",
          "0.300988419240",
          "0.284873520651",
          "0.269820340549",
          "0.255750229838",
          "0.242590933572",
          "0.230276009631",
          "0.218744314436",
          "0.207939543382",
          "0.197809817298",
          "0.188307308540",
          "0.179387901761",
          "0.171010885430",
          "0.163138670810",
          "0.155736535639",
          "0.148772390105",
          "0.142216563020",
          "0.136041606321",
          "0.130222116229",
          "0.124734569575",
          "0.119557173945",
          "0.114669730406",
          "0.110053507733",
          "0.105691127107",
          "0.101566456398",
          "0.097664513179",
          "0.093971375734",
          "0.090474101373",
          "0.087160651413",
          "0.084019822274",
          "0.081041182163",
          "0.078215012863",
          "0.075532256209",
          "0.072984464853",
          "0.070563756952",
          "0.068262774455",
          "0.066074644686",
          "0.063992944961",
          "0.062011669961",
          "0.060125201671",
          "0.058328281635",
          "0.056615985365",
          "0.054983698719",
          "0.053427096088",
          "0.051942120235",
          "0.050524963676",
          "0.049172051461",
          "0.047880025240",
          "0.046645728529",
          "0.045466193065",
          "0.044338626169",
          "0.043260399039",
          "0.042229035902",
          "0.041242203944",
          "0.040297703981",
          "0.039393461791",
          "0.038527520070",
          "0.037698030959",
          "0.036903249097",
          "0.036141525162",
          "0.035411299868",
          "0.034711098372",
          "0.034039525067",
          "0.033395258740",
          "0.032777048049",
          "0.032183707315",
          "0.031614112589",
          "0.031067197992",
          "0.030541952285",
          "0.030037415681",
          "0.029552676850",
          "0.029086870131",
          "0.028639172919",
          "0.028208803221",
          "0.027795017368",
          "0.027397107871",
          "0.027014401416",
          "0.026646256976",
          "0.026292064052",
          "0.025951241014",
          "0.025623233543",
          "0.025307513175",
          "0.025003575926",
          "0.024710941004"
         ]
        }
       ],
       "layout": {
        "template": {
         "data": {
          "bar": [
           {
            "error_x": {
             "color": "#2a3f5f"
            },
            "error_y": {
             "color": "#2a3f5f"
            },
            "marker": {
             "line": {
              "color": "#E5ECF6",
              "width": 0.5
             }
            },
            "type": "bar"
           }
          ],
          "barpolar": [
           {
            "marker": {
             "line": {
              "color": "#E5ECF6",
              "width": 0.5
             }
            },
            "type": "barpolar"
           }
          ],
          "carpet": [
           {
            "aaxis": {
             "endlinecolor": "#2a3f5f",
             "gridcolor": "white",
             "linecolor": "white",
             "minorgridcolor": "white",
             "startlinecolor": "#2a3f5f"
            },
            "baxis": {
             "endlinecolor": "#2a3f5f",
             "gridcolor": "white",
             "linecolor": "white",
             "minorgridcolor": "white",
             "startlinecolor": "#2a3f5f"
            },
            "type": "carpet"
           }
          ],
          "choropleth": [
           {
            "colorbar": {
             "outlinewidth": 0,
             "ticks": ""
            },
            "type": "choropleth"
           }
          ],
          "contour": [
           {
            "colorbar": {
             "outlinewidth": 0,
             "ticks": ""
            },
            "colorscale": [
             [
              0,
              "#0d0887"
             ],
             [
              0.1111111111111111,
              "#46039f"
             ],
             [
              0.2222222222222222,
              "#7201a8"
             ],
             [
              0.3333333333333333,
              "#9c179e"
             ],
             [
              0.4444444444444444,
              "#bd3786"
             ],
             [
              0.5555555555555556,
              "#d8576b"
             ],
             [
              0.6666666666666666,
              "#ed7953"
             ],
             [
              0.7777777777777778,
              "#fb9f3a"
             ],
             [
              0.8888888888888888,
              "#fdca26"
             ],
             [
              1,
              "#f0f921"
             ]
            ],
            "type": "contour"
           }
          ],
          "contourcarpet": [
           {
            "colorbar": {
             "outlinewidth": 0,
             "ticks": ""
            },
            "type": "contourcarpet"
           }
          ],
          "heatmap": [
           {
            "colorbar": {
             "outlinewidth": 0,
             "ticks": ""
            },
            "colorscale": [
             [
              0,
              "#0d0887"
             ],
             [
              0.1111111111111111,
              "#46039f"
             ],
             [
              0.2222222222222222,
              "#7201a8"
             ],
             [
              0.3333333333333333,
              "#9c179e"
             ],
             [
              0.4444444444444444,
              "#bd3786"
             ],
             [
              0.5555555555555556,
              "#d8576b"
             ],
             [
              0.6666666666666666,
              "#ed7953"
             ],
             [
              0.7777777777777778,
              "#fb9f3a"
             ],
             [
              0.8888888888888888,
              "#fdca26"
             ],
             [
              1,
              "#f0f921"
             ]
            ],
            "type": "heatmap"
           }
          ],
          "heatmapgl": [
           {
            "colorbar": {
             "outlinewidth": 0,
             "ticks": ""
            },
            "colorscale": [
             [
              0,
              "#0d0887"
             ],
             [
              0.1111111111111111,
              "#46039f"
             ],
             [
              0.2222222222222222,
              "#7201a8"
             ],
             [
              0.3333333333333333,
              "#9c179e"
             ],
             [
              0.4444444444444444,
              "#bd3786"
             ],
             [
              0.5555555555555556,
              "#d8576b"
             ],
             [
              0.6666666666666666,
              "#ed7953"
             ],
             [
              0.7777777777777778,
              "#fb9f3a"
             ],
             [
              0.8888888888888888,
              "#fdca26"
             ],
             [
              1,
              "#f0f921"
             ]
            ],
            "type": "heatmapgl"
           }
          ],
          "histogram": [
           {
            "marker": {
             "colorbar": {
              "outlinewidth": 0,
              "ticks": ""
             }
            },
            "type": "histogram"
           }
          ],
          "histogram2d": [
           {
            "colorbar": {
             "outlinewidth": 0,
             "ticks": ""
            },
            "colorscale": [
             [
              0,
              "#0d0887"
             ],
             [
              0.1111111111111111,
              "#46039f"
             ],
             [
              0.2222222222222222,
              "#7201a8"
             ],
             [
              0.3333333333333333,
              "#9c179e"
             ],
             [
              0.4444444444444444,
              "#bd3786"
             ],
             [
              0.5555555555555556,
              "#d8576b"
             ],
             [
              0.6666666666666666,
              "#ed7953"
             ],
             [
              0.7777777777777778,
              "#fb9f3a"
             ],
             [
              0.8888888888888888,
              "#fdca26"
             ],
             [
              1,
              "#f0f921"
             ]
            ],
            "type": "histogram2d"
           }
          ],
          "histogram2dcontour": [
           {
            "colorbar": {
             "outlinewidth": 0,
             "ticks": ""
            },
            "colorscale": [
             [
              0,
              "#0d0887"
             ],
             [
              0.1111111111111111,
              "#46039f"
             ],
             [
              0.2222222222222222,
              "#7201a8"
             ],
             [
              0.3333333333333333,
              "#9c179e"
             ],
             [
              0.4444444444444444,
              "#bd3786"
             ],
             [
              0.5555555555555556,
              "#d8576b"
             ],
             [
              0.6666666666666666,
              "#ed7953"
             ],
             [
              0.7777777777777778,
              "#fb9f3a"
             ],
             [
              0.8888888888888888,
              "#fdca26"
             ],
             [
              1,
              "#f0f921"
             ]
            ],
            "type": "histogram2dcontour"
           }
          ],
          "mesh3d": [
           {
            "colorbar": {
             "outlinewidth": 0,
             "ticks": ""
            },
            "type": "mesh3d"
           }
          ],
          "parcoords": [
           {
            "line": {
             "colorbar": {
              "outlinewidth": 0,
              "ticks": ""
             }
            },
            "type": "parcoords"
           }
          ],
          "pie": [
           {
            "automargin": true,
            "type": "pie"
           }
          ],
          "scatter": [
           {
            "marker": {
             "colorbar": {
              "outlinewidth": 0,
              "ticks": ""
             }
            },
            "type": "scatter"
           }
          ],
          "scatter3d": [
           {
            "line": {
             "colorbar": {
              "outlinewidth": 0,
              "ticks": ""
             }
            },
            "marker": {
             "colorbar": {
              "outlinewidth": 0,
              "ticks": ""
             }
            },
            "type": "scatter3d"
           }
          ],
          "scattercarpet": [
           {
            "marker": {
             "colorbar": {
              "outlinewidth": 0,
              "ticks": ""
             }
            },
            "type": "scattercarpet"
           }
          ],
          "scattergeo": [
           {
            "marker": {
             "colorbar": {
              "outlinewidth": 0,
              "ticks": ""
             }
            },
            "type": "scattergeo"
           }
          ],
          "scattergl": [
           {
            "marker": {
             "colorbar": {
              "outlinewidth": 0,
              "ticks": ""
             }
            },
            "type": "scattergl"
           }
          ],
          "scattermapbox": [
           {
            "marker": {
             "colorbar": {
              "outlinewidth": 0,
              "ticks": ""
             }
            },
            "type": "scattermapbox"
           }
          ],
          "scatterpolar": [
           {
            "marker": {
             "colorbar": {
              "outlinewidth": 0,
              "ticks": ""
             }
            },
            "type": "scatterpolar"
           }
          ],
          "scatterpolargl": [
           {
            "marker": {
             "colorbar": {
              "outlinewidth": 0,
              "ticks": ""
             }
            },
            "type": "scatterpolargl"
           }
          ],
          "scatterternary": [
           {
            "marker": {
             "colorbar": {
              "outlinewidth": 0,
              "ticks": ""
             }
            },
            "type": "scatterternary"
           }
          ],
          "surface": [
           {
            "colorbar": {
             "outlinewidth": 0,
             "ticks": ""
            },
            "colorscale": [
             [
              0,
              "#0d0887"
             ],
             [
              0.1111111111111111,
              "#46039f"
             ],
             [
              0.2222222222222222,
              "#7201a8"
             ],
             [
              0.3333333333333333,
              "#9c179e"
             ],
             [
              0.4444444444444444,
              "#bd3786"
             ],
             [
              0.5555555555555556,
              "#d8576b"
             ],
             [
              0.6666666666666666,
              "#ed7953"
             ],
             [
              0.7777777777777778,
              "#fb9f3a"
             ],
             [
              0.8888888888888888,
              "#fdca26"
             ],
             [
              1,
              "#f0f921"
             ]
            ],
            "type": "surface"
           }
          ],
          "table": [
           {
            "cells": {
             "fill": {
              "color": "#EBF0F8"
             },
             "line": {
              "color": "white"
             }
            },
            "header": {
             "fill": {
              "color": "#C8D4E3"
             },
             "line": {
              "color": "white"
             }
            },
            "type": "table"
           }
          ]
         },
         "layout": {
          "annotationdefaults": {
           "arrowcolor": "#2a3f5f",
           "arrowhead": 0,
           "arrowwidth": 1
          },
          "autotypenumbers": "strict",
          "coloraxis": {
           "colorbar": {
            "outlinewidth": 0,
            "ticks": ""
           }
          },
          "colorscale": {
           "diverging": [
            [
             0,
             "#8e0152"
            ],
            [
             0.1,
             "#c51b7d"
            ],
            [
             0.2,
             "#de77ae"
            ],
            [
             0.3,
             "#f1b6da"
            ],
            [
             0.4,
             "#fde0ef"
            ],
            [
             0.5,
             "#f7f7f7"
            ],
            [
             0.6,
             "#e6f5d0"
            ],
            [
             0.7,
             "#b8e186"
            ],
            [
             0.8,
             "#7fbc41"
            ],
            [
             0.9,
             "#4d9221"
            ],
            [
             1,
             "#276419"
            ]
           ],
           "sequential": [
            [
             0,
             "#0d0887"
            ],
            [
             0.1111111111111111,
             "#46039f"
            ],
            [
             0.2222222222222222,
             "#7201a8"
            ],
            [
             0.3333333333333333,
             "#9c179e"
            ],
            [
             0.4444444444444444,
             "#bd3786"
            ],
            [
             0.5555555555555556,
             "#d8576b"
            ],
            [
             0.6666666666666666,
             "#ed7953"
            ],
            [
             0.7777777777777778,
             "#fb9f3a"
            ],
            [
             0.8888888888888888,
             "#fdca26"
            ],
            [
             1,
             "#f0f921"
            ]
           ],
           "sequentialminus": [
            [
             0,
             "#0d0887"
            ],
            [
             0.1111111111111111,
             "#46039f"
            ],
            [
             0.2222222222222222,
             "#7201a8"
            ],
            [
             0.3333333333333333,
             "#9c179e"
            ],
            [
             0.4444444444444444,
             "#bd3786"
            ],
            [
             0.5555555555555556,
             "#d8576b"
            ],
            [
             0.6666666666666666,
             "#ed7953"
            ],
            [
             0.7777777777777778,
             "#fb9f3a"
            ],
            [
             0.8888888888888888,
             "#fdca26"
            ],
            [
             1,
             "#f0f921"
            ]
           ]
          },
          "colorway": [
           "#636efa",
           "#EF553B",
           "#00cc96",
           "#ab63fa",
           "#FFA15A",
           "#19d3f3",
           "#FF6692",
           "#B6E880",
           "#FF97FF",
           "#FECB52"
          ],
          "font": {
           "color": "#2a3f5f"
          },
          "geo": {
           "bgcolor": "white",
           "lakecolor": "white",
           "landcolor": "#E5ECF6",
           "showlakes": true,
           "showland": true,
           "subunitcolor": "white"
          },
          "hoverlabel": {
           "align": "left"
          },
          "hovermode": "closest",
          "mapbox": {
           "style": "light"
          },
          "paper_bgcolor": "white",
          "plot_bgcolor": "#E5ECF6",
          "polar": {
           "angularaxis": {
            "gridcolor": "white",
            "linecolor": "white",
            "ticks": ""
           },
           "bgcolor": "#E5ECF6",
           "radialaxis": {
            "gridcolor": "white",
            "linecolor": "white",
            "ticks": ""
           }
          },
          "scene": {
           "xaxis": {
            "backgroundcolor": "#E5ECF6",
            "gridcolor": "white",
            "gridwidth": 2,
            "linecolor": "white",
            "showbackground": true,
            "ticks": "",
            "zerolinecolor": "white"
           },
           "yaxis": {
            "backgroundcolor": "#E5ECF6",
            "gridcolor": "white",
            "gridwidth": 2,
            "linecolor": "white",
            "showbackground": true,
            "ticks": "",
            "zerolinecolor": "white"
           },
           "zaxis": {
            "backgroundcolor": "#E5ECF6",
            "gridcolor": "white",
            "gridwidth": 2,
            "linecolor": "white",
            "showbackground": true,
            "ticks": "",
            "zerolinecolor": "white"
           }
          },
          "shapedefaults": {
           "line": {
            "color": "#2a3f5f"
           }
          },
          "ternary": {
           "aaxis": {
            "gridcolor": "white",
            "linecolor": "white",
            "ticks": ""
           },
           "baxis": {
            "gridcolor": "white",
            "linecolor": "white",
            "ticks": ""
           },
           "bgcolor": "#E5ECF6",
           "caxis": {
            "gridcolor": "white",
            "linecolor": "white",
            "ticks": ""
           }
          },
          "title": {
           "x": 0.05
          },
          "xaxis": {
           "automargin": true,
           "gridcolor": "white",
           "linecolor": "white",
           "ticks": "",
           "title": {
            "standoff": 15
           },
           "zerolinecolor": "white",
           "zerolinewidth": 2
          },
          "yaxis": {
           "automargin": true,
           "gridcolor": "white",
           "linecolor": "white",
           "ticks": "",
           "title": {
            "standoff": 15
           },
           "zerolinecolor": "white",
           "zerolinewidth": 2
          }
         }
        }
       }
      },
      "text/html": [
       "<div>                            <div id=\"97196e51-9de8-46e2-b194-6c2c5f2571d4\" class=\"plotly-graph-div\" style=\"height:525px; width:100%;\"></div>            <script type=\"text/javascript\">                require([\"plotly\"], function(Plotly) {                    window.PLOTLYENV=window.PLOTLYENV || {};                                    if (document.getElementById(\"97196e51-9de8-46e2-b194-6c2c5f2571d4\")) {                    Plotly.newPlot(                        \"97196e51-9de8-46e2-b194-6c2c5f2571d4\",                        [{\"type\": \"scatter\", \"x\": [0.0, 0.1, 0.2, 0.30000000000000004, 0.4, 0.5, 0.6000000000000001, 0.7000000000000001, 0.8, 0.9, 1.0, 1.1, 1.2000000000000002, 1.3, 1.4000000000000001, 1.5, 1.6, 1.7000000000000002, 1.8, 1.9000000000000001, 2.0, 2.1, 2.2, 2.3000000000000003, 2.4000000000000004, 2.5, 2.6, 2.7, 2.8000000000000003, 2.9000000000000004, 3.0, 3.1, 3.2, 3.3000000000000003, 3.4000000000000004, 3.5, 3.6, 3.7, 3.8000000000000003, 3.9000000000000004, 4.0, 4.1000000000000005, 4.2, 4.3, 4.4, 4.5, 4.6000000000000005, 4.7, 4.800000000000001, 4.9, 5.0, 5.1000000000000005, 5.2, 5.300000000000001, 5.4, 5.5, 5.6000000000000005, 5.7, 5.800000000000001, 5.9, 6.0, 6.1000000000000005, 6.2, 6.300000000000001, 6.4, 6.5, 6.6000000000000005, 6.7, 6.800000000000001, 6.9, 7.0, 7.1000000000000005, 7.2, 7.300000000000001, 7.4, 7.5, 7.6000000000000005, 7.7, 7.800000000000001, 7.9, 8.0, 8.1, 8.200000000000001, 8.3, 8.4, 8.5, 8.6, 8.700000000000001, 8.8, 8.9, 9.0, 9.1, 9.200000000000001, 9.3, 9.4, 9.5, 9.600000000000001, 9.700000000000001, 9.8, 9.9], \"y\": [1.0, 0.9222275564090254, 0.8656184989598336, 0.8181309009441511, 0.7806849095855337, 0.7510001600256041, 0.7243959033445351, 0.7027524403904625, 0.6826692270763323, 0.6625060009601537, 0.6457833253320532, 0.6327412385981757, 0.625260041606657, 0.6128580572891663, 0.601576252200352, 0.5951752280364858, 0.5880140822531605, 0.5814130260841734, 0.5750920147223556, 0.5657705232837253, 0.5592494799167866, 0.5544887181949112, 0.5504080652904465, 0.5497279564730357, 0.5441270603296527, 0.5382061129780765, 0.5349655944951193, 0.5332453192510802, 0.5306449031845095, 0.5264842374779964, 0.5259241478636582, 0.5226836293807009, 0.5204832773243719, 0.5198031685069611, 0.5177628420547288, 0.5137221955512882, 0.5099615938550168, 0.5070411265802528, 0.5078812610017602, 0.5060009601536246, 0.5058409345495279, 0.5024003840614498, 0.50048007681229, 0.4985597695631301, 0.49771963514162265, 0.49339894383101296, 0.4913186109777564, 0.49123859817570814, 0.4911585853736598, 0.48819811169787164, 0.48787806048967836, 0.48767802848455755, 0.4883981437029925, 0.48643783005280844, 0.48591774683949435, 0.48587774043847015, 0.48567770843334934, 0.4837974075852136, 0.48187710033605374, 0.48079692750840136, 0.4808769403104497, 0.48011681869099054, 0.48059689550328055, 0.4810369659145463, 0.47991678668586973, 0.4786365818530965, 0.47815650504080653, 0.4768763002080333, 0.47267562810049607, 0.4688750200032005, 0.46915506481036967, 0.47007521203392544, 0.47107537205952954, 0.47027524403904625, 0.47047527604416706, 0.4707953272523604, 0.4683949431909106, 0.4681949111857897, 0.46527444391102574, 0.46931509041446634, 0.4693951032165146, 0.46795487277964476, 0.4697951672267563, 0.46519443110897746, 0.46375420067210754, 0.4626740278444551, 0.4633541366618659, 0.4650744119059049, 0.4675548087694031, 0.46675468074891985, 0.46675468074891985, 0.46519443110897746, 0.4642342774843975, 0.4651144183069291, 0.46419427108337336, 0.46415426468234916, 0.4628740598495759, 0.46331413026084173, 0.46175388062089934, 0.4631140982557209]}, {\"type\": \"scatter\", \"x\": [\"0.000000\", \"0.100000\", \"0.200000\", \"0.300000\", \"0.400000\", \"0.500000\", \"0.600000\", \"0.700000\", \"0.800000\", \"0.900000\", \"1.000000\", \"1.100000\", \"1.200000\", \"1.300000\", \"1.400000\", \"1.500000\", \"1.600000\", \"1.700000\", \"1.800000\", \"1.900000\", \"2.000000\", \"2.100000\", \"2.200000\", \"2.300000\", \"2.400000\", \"2.500000\", \"2.600000\", \"2.700000\", \"2.800000\", \"2.900000\", \"3.000000\", \"3.100000\", \"3.200000\", \"3.300000\", \"3.400000\", \"3.500000\", \"3.600000\", \"3.700000\", \"3.800000\", \"3.900000\", \"4.000000\", \"4.100000\", \"4.200000\", \"4.300000\", \"4.400000\", \"4.500000\", \"4.600000\", \"4.700000\", \"4.800000\", \"4.900000\", \"5.000000\", \"5.100000\", \"5.200000\", \"5.300000\", \"5.400000\", \"5.500000\", \"5.600000\", \"5.700000\", \"5.800000\", \"5.900000\", \"6.000000\", \"6.100000\", \"6.200000\", \"6.300000\", \"6.400000\", \"6.500000\", \"6.600000\", \"6.700000\", \"6.800000\", \"6.900000\", \"7.000000\", \"7.100000\", \"7.200000\", \"7.300000\", \"7.400000\", \"7.500000\", \"7.600000\", \"7.700000\", \"7.800000\", \"7.900000\", \"8.000000\", \"8.100000\", \"8.200000\", \"8.300000\", \"8.400000\", \"8.500000\", \"8.600000\", \"8.700000\", \"8.800000\", \"8.900000\", \"9.000000\", \"9.100000\", \"9.200000\", \"9.300000\", \"9.400000\", \"9.500000\", \"9.600000\", \"9.700000\", \"9.800000\", \"9.900000\", \"10.000000\"], \"y\": [\"1.000000000000\", \"0.901908297862\", \"0.826444614088\", \"0.764171047409\", \"0.710430082079\", \"0.662746515514\", \"0.619707040785\", \"0.580444583586\", \"0.544387141808\", \"0.511129609311\", \"0.480365826961\", \"0.451851379759\", \"0.425382610132\", \"0.400784409555\", \"0.377902867931\", \"0.356600666392\", \"0.336754052012\", \"0.318250746161\", \"0.300988419240\", \"0.284873520651\", \"0.269820340549\", \"0.255750229838\", \"0.242590933572\", \"0.230276009631\", \"0.218744314436\", \"0.207939543382\", \"0.197809817298\", \"0.188307308540\", \"0.179387901761\", \"0.171010885430\", \"0.163138670810\", \"0.155736535639\", \"0.148772390105\", \"0.142216563020\", \"0.136041606321\", \"0.130222116229\", \"0.124734569575\", \"0.119557173945\", \"0.114669730406\", \"0.110053507733\", \"0.105691127107\", \"0.101566456398\", \"0.097664513179\", \"0.093971375734\", \"0.090474101373\", \"0.087160651413\", \"0.084019822274\", \"0.081041182163\", \"0.078215012863\", \"0.075532256209\", \"0.072984464853\", \"0.070563756952\", \"0.068262774455\", \"0.066074644686\", \"0.063992944961\", \"0.062011669961\", \"0.060125201671\", \"0.058328281635\", \"0.056615985365\", \"0.054983698719\", \"0.053427096088\", \"0.051942120235\", \"0.050524963676\", \"0.049172051461\", \"0.047880025240\", \"0.046645728529\", \"0.045466193065\", \"0.044338626169\", \"0.043260399039\", \"0.042229035902\", \"0.041242203944\", \"0.040297703981\", \"0.039393461791\", \"0.038527520070\", \"0.037698030959\", \"0.036903249097\", \"0.036141525162\", \"0.035411299868\", \"0.034711098372\", \"0.034039525067\", \"0.033395258740\", \"0.032777048049\", \"0.032183707315\", \"0.031614112589\", \"0.031067197992\", \"0.030541952285\", \"0.030037415681\", \"0.029552676850\", \"0.029086870131\", \"0.028639172919\", \"0.028208803221\", \"0.027795017368\", \"0.027397107871\", \"0.027014401416\", \"0.026646256976\", \"0.026292064052\", \"0.025951241014\", \"0.025623233543\", \"0.025307513175\", \"0.025003575926\", \"0.024710941004\"]}],                        {\"template\": {\"data\": {\"bar\": [{\"error_x\": {\"color\": \"#2a3f5f\"}, \"error_y\": {\"color\": \"#2a3f5f\"}, \"marker\": {\"line\": {\"color\": \"#E5ECF6\", \"width\": 0.5}}, \"type\": \"bar\"}], \"barpolar\": [{\"marker\": {\"line\": {\"color\": \"#E5ECF6\", \"width\": 0.5}}, \"type\": \"barpolar\"}], \"carpet\": [{\"aaxis\": {\"endlinecolor\": \"#2a3f5f\", \"gridcolor\": \"white\", \"linecolor\": \"white\", \"minorgridcolor\": \"white\", \"startlinecolor\": \"#2a3f5f\"}, \"baxis\": {\"endlinecolor\": \"#2a3f5f\", \"gridcolor\": \"white\", \"linecolor\": \"white\", \"minorgridcolor\": \"white\", \"startlinecolor\": \"#2a3f5f\"}, \"type\": \"carpet\"}], \"choropleth\": [{\"colorbar\": {\"outlinewidth\": 0, \"ticks\": \"\"}, \"type\": \"choropleth\"}], \"contour\": [{\"colorbar\": {\"outlinewidth\": 0, \"ticks\": \"\"}, \"colorscale\": [[0.0, \"#0d0887\"], [0.1111111111111111, \"#46039f\"], [0.2222222222222222, \"#7201a8\"], [0.3333333333333333, \"#9c179e\"], [0.4444444444444444, \"#bd3786\"], [0.5555555555555556, \"#d8576b\"], [0.6666666666666666, \"#ed7953\"], [0.7777777777777778, \"#fb9f3a\"], [0.8888888888888888, \"#fdca26\"], [1.0, \"#f0f921\"]], \"type\": \"contour\"}], \"contourcarpet\": [{\"colorbar\": {\"outlinewidth\": 0, \"ticks\": \"\"}, \"type\": \"contourcarpet\"}], \"heatmap\": [{\"colorbar\": {\"outlinewidth\": 0, \"ticks\": \"\"}, \"colorscale\": [[0.0, \"#0d0887\"], [0.1111111111111111, \"#46039f\"], [0.2222222222222222, \"#7201a8\"], [0.3333333333333333, \"#9c179e\"], [0.4444444444444444, \"#bd3786\"], [0.5555555555555556, \"#d8576b\"], [0.6666666666666666, \"#ed7953\"], [0.7777777777777778, \"#fb9f3a\"], [0.8888888888888888, \"#fdca26\"], [1.0, \"#f0f921\"]], \"type\": \"heatmap\"}], \"heatmapgl\": [{\"colorbar\": {\"outlinewidth\": 0, \"ticks\": \"\"}, \"colorscale\": [[0.0, \"#0d0887\"], [0.1111111111111111, \"#46039f\"], [0.2222222222222222, \"#7201a8\"], [0.3333333333333333, \"#9c179e\"], [0.4444444444444444, \"#bd3786\"], [0.5555555555555556, \"#d8576b\"], [0.6666666666666666, \"#ed7953\"], [0.7777777777777778, \"#fb9f3a\"], [0.8888888888888888, \"#fdca26\"], [1.0, \"#f0f921\"]], \"type\": \"heatmapgl\"}], \"histogram\": [{\"marker\": {\"colorbar\": {\"outlinewidth\": 0, \"ticks\": \"\"}}, \"type\": \"histogram\"}], \"histogram2d\": [{\"colorbar\": {\"outlinewidth\": 0, \"ticks\": \"\"}, \"colorscale\": [[0.0, \"#0d0887\"], [0.1111111111111111, \"#46039f\"], [0.2222222222222222, \"#7201a8\"], [0.3333333333333333, \"#9c179e\"], [0.4444444444444444, \"#bd3786\"], [0.5555555555555556, \"#d8576b\"], [0.6666666666666666, \"#ed7953\"], [0.7777777777777778, \"#fb9f3a\"], [0.8888888888888888, \"#fdca26\"], [1.0, \"#f0f921\"]], \"type\": \"histogram2d\"}], \"histogram2dcontour\": [{\"colorbar\": {\"outlinewidth\": 0, \"ticks\": \"\"}, \"colorscale\": [[0.0, \"#0d0887\"], [0.1111111111111111, \"#46039f\"], [0.2222222222222222, \"#7201a8\"], [0.3333333333333333, \"#9c179e\"], [0.4444444444444444, \"#bd3786\"], [0.5555555555555556, \"#d8576b\"], [0.6666666666666666, \"#ed7953\"], [0.7777777777777778, \"#fb9f3a\"], [0.8888888888888888, \"#fdca26\"], [1.0, \"#f0f921\"]], \"type\": \"histogram2dcontour\"}], \"mesh3d\": [{\"colorbar\": {\"outlinewidth\": 0, \"ticks\": \"\"}, \"type\": \"mesh3d\"}], \"parcoords\": [{\"line\": {\"colorbar\": {\"outlinewidth\": 0, \"ticks\": \"\"}}, \"type\": \"parcoords\"}], \"pie\": [{\"automargin\": true, \"type\": \"pie\"}], \"scatter\": [{\"marker\": {\"colorbar\": {\"outlinewidth\": 0, \"ticks\": \"\"}}, \"type\": \"scatter\"}], \"scatter3d\": [{\"line\": {\"colorbar\": {\"outlinewidth\": 0, \"ticks\": \"\"}}, \"marker\": {\"colorbar\": {\"outlinewidth\": 0, \"ticks\": \"\"}}, \"type\": \"scatter3d\"}], \"scattercarpet\": [{\"marker\": {\"colorbar\": {\"outlinewidth\": 0, \"ticks\": \"\"}}, \"type\": \"scattercarpet\"}], \"scattergeo\": [{\"marker\": {\"colorbar\": {\"outlinewidth\": 0, \"ticks\": \"\"}}, \"type\": \"scattergeo\"}], \"scattergl\": [{\"marker\": {\"colorbar\": {\"outlinewidth\": 0, \"ticks\": \"\"}}, \"type\": \"scattergl\"}], \"scattermapbox\": [{\"marker\": {\"colorbar\": {\"outlinewidth\": 0, \"ticks\": \"\"}}, \"type\": \"scattermapbox\"}], \"scatterpolar\": [{\"marker\": {\"colorbar\": {\"outlinewidth\": 0, \"ticks\": \"\"}}, \"type\": \"scatterpolar\"}], \"scatterpolargl\": [{\"marker\": {\"colorbar\": {\"outlinewidth\": 0, \"ticks\": \"\"}}, \"type\": \"scatterpolargl\"}], \"scatterternary\": [{\"marker\": {\"colorbar\": {\"outlinewidth\": 0, \"ticks\": \"\"}}, \"type\": \"scatterternary\"}], \"surface\": [{\"colorbar\": {\"outlinewidth\": 0, \"ticks\": \"\"}, \"colorscale\": [[0.0, \"#0d0887\"], [0.1111111111111111, \"#46039f\"], [0.2222222222222222, \"#7201a8\"], [0.3333333333333333, \"#9c179e\"], [0.4444444444444444, \"#bd3786\"], [0.5555555555555556, \"#d8576b\"], [0.6666666666666666, \"#ed7953\"], [0.7777777777777778, \"#fb9f3a\"], [0.8888888888888888, \"#fdca26\"], [1.0, \"#f0f921\"]], \"type\": \"surface\"}], \"table\": [{\"cells\": {\"fill\": {\"color\": \"#EBF0F8\"}, \"line\": {\"color\": \"white\"}}, \"header\": {\"fill\": {\"color\": \"#C8D4E3\"}, \"line\": {\"color\": \"white\"}}, \"type\": \"table\"}]}, \"layout\": {\"annotationdefaults\": {\"arrowcolor\": \"#2a3f5f\", \"arrowhead\": 0, \"arrowwidth\": 1}, \"autotypenumbers\": \"strict\", \"coloraxis\": {\"colorbar\": {\"outlinewidth\": 0, \"ticks\": \"\"}}, \"colorscale\": {\"diverging\": [[0, \"#8e0152\"], [0.1, \"#c51b7d\"], [0.2, \"#de77ae\"], [0.3, \"#f1b6da\"], [0.4, \"#fde0ef\"], [0.5, \"#f7f7f7\"], [0.6, \"#e6f5d0\"], [0.7, \"#b8e186\"], [0.8, \"#7fbc41\"], [0.9, \"#4d9221\"], [1, \"#276419\"]], \"sequential\": [[0.0, \"#0d0887\"], [0.1111111111111111, \"#46039f\"], [0.2222222222222222, \"#7201a8\"], [0.3333333333333333, \"#9c179e\"], [0.4444444444444444, \"#bd3786\"], [0.5555555555555556, \"#d8576b\"], [0.6666666666666666, \"#ed7953\"], [0.7777777777777778, \"#fb9f3a\"], [0.8888888888888888, \"#fdca26\"], [1.0, \"#f0f921\"]], \"sequentialminus\": [[0.0, \"#0d0887\"], [0.1111111111111111, \"#46039f\"], [0.2222222222222222, \"#7201a8\"], [0.3333333333333333, \"#9c179e\"], [0.4444444444444444, \"#bd3786\"], [0.5555555555555556, \"#d8576b\"], [0.6666666666666666, \"#ed7953\"], [0.7777777777777778, \"#fb9f3a\"], [0.8888888888888888, \"#fdca26\"], [1.0, \"#f0f921\"]]}, \"colorway\": [\"#636efa\", \"#EF553B\", \"#00cc96\", \"#ab63fa\", \"#FFA15A\", \"#19d3f3\", \"#FF6692\", \"#B6E880\", \"#FF97FF\", \"#FECB52\"], \"font\": {\"color\": \"#2a3f5f\"}, \"geo\": {\"bgcolor\": \"white\", \"lakecolor\": \"white\", \"landcolor\": \"#E5ECF6\", \"showlakes\": true, \"showland\": true, \"subunitcolor\": \"white\"}, \"hoverlabel\": {\"align\": \"left\"}, \"hovermode\": \"closest\", \"mapbox\": {\"style\": \"light\"}, \"paper_bgcolor\": \"white\", \"plot_bgcolor\": \"#E5ECF6\", \"polar\": {\"angularaxis\": {\"gridcolor\": \"white\", \"linecolor\": \"white\", \"ticks\": \"\"}, \"bgcolor\": \"#E5ECF6\", \"radialaxis\": {\"gridcolor\": \"white\", \"linecolor\": \"white\", \"ticks\": \"\"}}, \"scene\": {\"xaxis\": {\"backgroundcolor\": \"#E5ECF6\", \"gridcolor\": \"white\", \"gridwidth\": 2, \"linecolor\": \"white\", \"showbackground\": true, \"ticks\": \"\", \"zerolinecolor\": \"white\"}, \"yaxis\": {\"backgroundcolor\": \"#E5ECF6\", \"gridcolor\": \"white\", \"gridwidth\": 2, \"linecolor\": \"white\", \"showbackground\": true, \"ticks\": \"\", \"zerolinecolor\": \"white\"}, \"zaxis\": {\"backgroundcolor\": \"#E5ECF6\", \"gridcolor\": \"white\", \"gridwidth\": 2, \"linecolor\": \"white\", \"showbackground\": true, \"ticks\": \"\", \"zerolinecolor\": \"white\"}}, \"shapedefaults\": {\"line\": {\"color\": \"#2a3f5f\"}}, \"ternary\": {\"aaxis\": {\"gridcolor\": \"white\", \"linecolor\": \"white\", \"ticks\": \"\"}, \"baxis\": {\"gridcolor\": \"white\", \"linecolor\": \"white\", \"ticks\": \"\"}, \"bgcolor\": \"#E5ECF6\", \"caxis\": {\"gridcolor\": \"white\", \"linecolor\": \"white\", \"ticks\": \"\"}}, \"title\": {\"x\": 0.05}, \"xaxis\": {\"automargin\": true, \"gridcolor\": \"white\", \"linecolor\": \"white\", \"ticks\": \"\", \"title\": {\"standoff\": 15}, \"zerolinecolor\": \"white\", \"zerolinewidth\": 2}, \"yaxis\": {\"automargin\": true, \"gridcolor\": \"white\", \"linecolor\": \"white\", \"ticks\": \"\", \"title\": {\"standoff\": 15}, \"zerolinecolor\": \"white\", \"zerolinewidth\": 2}}}},                        {\"responsive\": true}                    ).then(function(){\n",
       "                            \n",
       "var gd = document.getElementById('97196e51-9de8-46e2-b194-6c2c5f2571d4');\n",
       "var x = new MutationObserver(function (mutations, observer) {{\n",
       "        var display = window.getComputedStyle(gd).display;\n",
       "        if (!display || display === 'none') {{\n",
       "            console.log([gd, 'removed!']);\n",
       "            Plotly.purge(gd);\n",
       "            observer.disconnect();\n",
       "        }}\n",
       "}});\n",
       "\n",
       "// Listen for the removal of the full notebook cells\n",
       "var notebookContainer = gd.closest('#notebook-container');\n",
       "if (notebookContainer) {{\n",
       "    x.observe(notebookContainer, {childList: true});\n",
       "}}\n",
       "\n",
       "// Listen for the clearing of the current output cell\n",
       "var outputEl = gd.closest('.output');\n",
       "if (outputEl) {{\n",
       "    x.observe(outputEl, {childList: true});\n",
       "}}\n",
       "\n",
       "                        })                };                });            </script>        </div>"
      ]
     },
     "metadata": {},
     "output_type": "display_data"
    }
   ],
   "source": [
    "fig = go.Figure()\n",
    "fig.add_trace(\n",
    "    go.Scatter(\n",
    "        x = t_list,\n",
    "        y = dimer_corr[0, 0],\n",
    "    )\n",
    ")\n",
    "\n",
    "fig.add_trace(\n",
    "    go.Scatter(\n",
    "        x = tau_list,\n",
    "        y = corr2,\n",
    "    )\n",
    ")\n",
    "fig.show()"
   ]
  },
  {
   "cell_type": "code",
   "execution_count": null,
   "id": "flying-evaluation",
   "metadata": {},
   "outputs": [],
   "source": []
  }
 ],
 "metadata": {
  "kernelspec": {
   "display_name": "Python 3",
   "language": "python",
   "name": "python3"
  },
  "language_info": {
   "codemirror_mode": {
    "name": "ipython",
    "version": 3
   },
   "file_extension": ".py",
   "mimetype": "text/x-python",
   "name": "python",
   "nbconvert_exporter": "python",
   "pygments_lexer": "ipython3",
   "version": "3.8.5"
  }
 },
 "nbformat": 4,
 "nbformat_minor": 5
}
