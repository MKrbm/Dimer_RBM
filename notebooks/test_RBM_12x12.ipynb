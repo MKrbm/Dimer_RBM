{
 "cells": [
  {
   "cell_type": "code",
   "execution_count": 1,
   "id": "vital-packaging",
   "metadata": {},
   "outputs": [],
   "source": [
    "import sys\n",
    "import importlib\n",
    "importlib.reload(sys)\n",
    "sys.path.insert(0,'../')\n",
    "import numpy as np\n",
    "import netket as nk\n",
    "from scripts import functions as f\n",
    "from scripts import new_dynamics, new_dynamics2\n",
    "import os\n",
    "currentpath = os.getcwd()\n",
    "parentdir = os.path.dirname(currentpath)\n",
    "from conf import *"
   ]
  },
  {
   "cell_type": "code",
   "execution_count": 2,
   "id": "august-shark",
   "metadata": {},
   "outputs": [
    {
     "data": {
      "text/plain": [
       "<module 'netket' from '../netket/__init__.py'>"
      ]
     },
     "execution_count": 2,
     "metadata": {},
     "output_type": "execute_result"
    }
   ],
   "source": [
    "importlib.reload(nk)"
   ]
  },
  {
   "cell_type": "code",
   "execution_count": 3,
   "id": "wrapped-basketball",
   "metadata": {},
   "outputs": [],
   "source": [
    "length = [4, 4]\n",
    "hex_ = nk.machine.new_hex(np.array(length))\n",
    "\n",
    "kernel = 1\n",
    "# sweep_size = 200\n",
    "decay_factor = 1  # or 'sigmoid decay'\n",
    "\n",
    "\n",
    "\n",
    "g = nk.graph.Graph(nodes = [i for i in range(length[0] * length[1] * 2)])\n",
    "hi = nk.hilbert.Spin(s=0.5, graph=g)\n",
    "\n",
    "\n",
    "\n",
    "op_transition1 = f.dimer_flip1(length = np.array(length))\n"
   ]
  },
  {
   "cell_type": "code",
   "execution_count": 4,
   "id": "labeled-feeding",
   "metadata": {},
   "outputs": [
    {
     "name": "stdout",
     "output_type": "stream",
     "text": [
      "2\n"
     ]
    }
   ],
   "source": [
    "ma = nk.machine.RbmDimer(hi, hex_, alpha = 2, symmetry = True\n",
    "                    ,use_hidden_bias = False, use_visible_bias = False, dtype=float, reverse=True, half=True)\n",
    "ma.init_random_parameters(seed=1234)"
   ]
  },
  {
   "cell_type": "code",
   "execution_count": 5,
   "id": "ongoing-annex",
   "metadata": {},
   "outputs": [
    {
     "name": "stdout",
     "output_type": "stream",
     "text": [
      "yoyo\n",
      "number of core : 12\n"
     ]
    }
   ],
   "source": [
    "V = 0.7\n",
    "h = 1.0\n",
    "\n",
    "ham = f.dimer_hamiltonian(V = V, h = h ,length=np.array(length))\n",
    "\n",
    "\n",
    "n_jobs = 12\n",
    "sa_mul = nk.sampler.DimerMetropolisLocal_multi(machine=ma, op=op_transition1\n",
    "    , length = length, n_chains=n_chains, sweep_size = sweep_size, kernel = 1, n_jobs=n_jobs)\n",
    "sampler = sa_mul.sa_list[0]"
   ]
  },
  {
   "cell_type": "code",
   "execution_count": 6,
   "id": "standard-identification",
   "metadata": {
    "scrolled": true
   },
   "outputs": [
    {
     "name": "stdout",
     "output_type": "stream",
     "text": [
      "56.7 ms ± 521 µs per loop (mean ± std. dev. of 7 runs, 10 loops each)\n"
     ]
    }
   ],
   "source": [
    "%timeit sampler.__next__()"
   ]
  },
  {
   "cell_type": "code",
   "execution_count": 12,
   "id": "recognized-question",
   "metadata": {},
   "outputs": [
    {
     "data": {
      "text/plain": [
       "(288, 576)"
      ]
     },
     "execution_count": 12,
     "metadata": {},
     "output_type": "execute_result"
    }
   ],
   "source": [
    "ma._w.shape"
   ]
  },
  {
   "cell_type": "code",
   "execution_count": 13,
   "id": "linear-multimedia",
   "metadata": {},
   "outputs": [
    {
     "data": {
      "text/plain": [
       "(1, 288)"
      ]
     },
     "execution_count": 13,
     "metadata": {},
     "output_type": "execute_result"
    }
   ],
   "source": [
    "state.shape"
   ]
  },
  {
   "cell_type": "code",
   "execution_count": 10,
   "id": "broke-beast",
   "metadata": {},
   "outputs": [
    {
     "name": "stdout",
     "output_type": "stream",
     "text": [
      "57.3 ms ± 480 µs per loop (mean ± std. dev. of 7 runs, 10 loops each)\n"
     ]
    }
   ],
   "source": [
    "import numpy as np\n",
    "kernel = sampler._kernel.transition\n",
    "sweep_size = np.random.randint(0, 10) + sampler.sweep_size\n",
    "\n",
    "state = sampler._state\n",
    "state1 = sampler._state1\n",
    "%timeit accepted = kernel(state, state1, sampler._w, None, sweep_size)"
   ]
  },
  {
   "cell_type": "code",
   "execution_count": 18,
   "id": "infrared-oxygen",
   "metadata": {
    "scrolled": true
   },
   "outputs": [
    {
     "name": "stdout",
     "output_type": "stream",
     "text": [
      "xs_n 1  n_conn 0\n",
      "xs_n 0  n_conn 0\n",
      "xs_n 0  n_conn 0\n",
      "xs_n 1  n_conn 0\n",
      "xs_n 0  n_conn 0\n",
      "xs_n 0  n_conn 0\n",
      "xs_n 0  n_conn 0\n",
      "xs_n 0  n_conn 0\n",
      "xs_n 0  n_conn 0\n",
      "xs_n 8  n_conn 0\n",
      "xs_n 3  n_conn 0\n",
      "xs_n 12  n_conn 0\n",
      "xs_n 7  n_conn 0\n",
      "xs_n 7  n_conn 0\n",
      "xs_n 15  n_conn 0\n",
      "xs_n 14  n_conn 0\n",
      "xs_n 15  n_conn 0\n",
      "xs_n 15  n_conn 0\n",
      "xs_n 15  n_conn 0\n",
      "xs_n 15  n_conn 0\n",
      "xs_n 15  n_conn 0\n",
      "xs_n 7  n_conn 0\n",
      "xs_n 12  n_conn 0\n",
      "xs_n 3  n_conn 0\n",
      "xs_n 8  n_conn 0\n",
      "xs_n 8  n_conn 0\n",
      "xs_n 0  n_conn 0\n",
      "xs_n 1  n_conn 0\n",
      "xs_n 0  n_conn 0\n",
      "xs_n 0  n_conn 0\n",
      "xs_n 0  n_conn 0\n",
      "xs_n 0  n_conn 0\n",
      "xs_n 0  n_conn 0\n",
      "xs_n 8  n_conn 0\n",
      "xs_n 3  n_conn 0\n",
      "xs_n 4  n_conn 0\n",
      "xs_n 4  n_conn 0\n",
      "xs_n 3  n_conn 0\n",
      "xs_n 7  n_conn 0\n",
      "xs_n 6  n_conn 0\n",
      "xs_n 12  n_conn 0\n",
      "xs_n 3  n_conn 0\n",
      "xs_n 8  n_conn 0\n",
      "xs_n 0  n_conn 0\n",
      "xs_n 0  n_conn 0\n",
      "xs_n 1  n_conn 0\n",
      "xs_n 0  n_conn 0\n",
      "xs_n 0  n_conn 0\n",
      "xs_n 0  n_conn 0\n",
      "xs_n 0  n_conn 0\n",
      "xs_n 0  n_conn 0\n",
      "xs_n 8  n_conn 0\n",
      "xs_n 3  n_conn 0\n",
      "xs_n 4  n_conn 0\n",
      "xs_n 4  n_conn 0\n",
      "xs_n 3  n_conn 0\n",
      "xs_n 7  n_conn 0\n",
      "xs_n 6  n_conn 0\n",
      "xs_n 12  n_conn 0\n",
      "xs_n 3  n_conn 0\n",
      "xs_n 9  n_conn 0\n",
      "xs_n 0  n_conn 0\n",
      "xs_n 0  n_conn 0\n",
      "xs_n 9  n_conn 0\n",
      "xs_n 3  n_conn 0\n",
      "xs_n 12  n_conn 0\n",
      "xs_n 6  n_conn 0\n",
      "xs_n 15  n_conn 0\n",
      "xs_n 14  n_conn 0\n",
      "xs_n 6  n_conn 0\n",
      "xs_n 12  n_conn 0\n",
      "xs_n 2  n_conn 0\n",
      "xs_n 0  n_conn 0\n",
      "xs_n 0  n_conn 0\n",
      "xs_n 0  n_conn 0\n",
      "xs_n 0  n_conn 0\n",
      "xs_n 0  n_conn 0\n",
      "xs_n 0  n_conn 0\n",
      "xs_n 1  n_conn 0\n",
      "xs_n 0  n_conn 0\n",
      "xs_n 0  n_conn 0\n",
      "xs_n 8  n_conn 0\n",
      "xs_n 3  n_conn 0\n",
      "xs_n 12  n_conn 0\n",
      "xs_n 7  n_conn 1\n",
      "xs_n 15  n_conn 0\n",
      "xs_n 15  n_conn 0\n",
      "xs_n 14  n_conn 0\n",
      "xs_n 14  n_conn 0\n",
      "xs_n 15  n_conn 0\n",
      "xs_n 14  n_conn 0\n",
      "xs_n 14  n_conn 0\n",
      "xs_n 12  n_conn 0\n",
      "xs_n 3  n_conn 0\n",
      "xs_n 8  n_conn 0\n",
      "xs_n 0  n_conn 0\n",
      "xs_n 0  n_conn 0\n",
      "xs_n 0  n_conn 0\n",
      "xs_n 0  n_conn 0\n",
      "xs_n 0  n_conn 0\n",
      "xs_n 1  n_conn 0\n",
      "xs_n 0  n_conn 0\n",
      "xs_n 1  n_conn 0\n",
      "xs_n 1  n_conn 0\n",
      "xs_n 3  n_conn 0\n",
      "xs_n 12  n_conn 0\n",
      "xs_n 7  n_conn 0\n",
      "xs_n 15  n_conn 0\n",
      "xs_n 14  n_conn 0\n",
      "xs_n 15  n_conn 0\n",
      "xs_n 15  n_conn 0\n",
      "xs_n 7  n_conn 0\n",
      "xs_n 12  n_conn 0\n",
      "xs_n 3  n_conn 0\n",
      "xs_n 8  n_conn 1\n",
      "xs_n 0  n_conn 0\n",
      "xs_n 0  n_conn 0\n",
      "xs_n 1  n_conn 0\n",
      "xs_n 1  n_conn 0\n",
      "xs_n 0  n_conn 0\n",
      "xs_n 1  n_conn 0\n",
      "xs_n 1  n_conn 0\n",
      "xs_n 3  n_conn 0\n",
      "xs_n 12  n_conn 0\n",
      "xs_n 6  n_conn 1\n",
      "xs_n 15  n_conn 0\n",
      "xs_n 14  n_conn 0\n",
      "xs_n 14  n_conn 0\n",
      "xs_n 12  n_conn 0\n",
      "xs_n 3  n_conn 0\n",
      "xs_n 8  n_conn 0\n",
      "xs_n 0  n_conn 0\n",
      "xs_n 1  n_conn 0\n",
      "xs_n 0  n_conn 0\n",
      "xs_n 0  n_conn 0\n",
      "xs_n 0  n_conn 0\n",
      "xs_n 0  n_conn 0\n",
      "xs_n 8  n_conn 0\n",
      "xs_n 2  n_conn 0\n",
      "xs_n 12  n_conn 0\n",
      "xs_n 9  n_conn 1\n",
      "xs_n 0  n_conn 0\n",
      "xs_n 0  n_conn 0\n",
      "xs_n 1  n_conn 0\n",
      "xs_n 1  n_conn 0\n",
      "xs_n 0  n_conn 0\n",
      "xs_n 0  n_conn 0\n",
      "xs_n 1  n_conn 0\n",
      "xs_n 0  n_conn 0\n",
      "xs_n 0  n_conn 0\n",
      "xs_n 1  n_conn 1\n",
      "xs_n 0  n_conn 0\n",
      "xs_n 0  n_conn 0\n",
      "xs_n 8  n_conn 0\n",
      "xs_n 3  n_conn 0\n",
      "xs_n 12  n_conn 0\n",
      "xs_n 7  n_conn 0\n",
      "xs_n 15  n_conn 0\n",
      "xs_n 14  n_conn 0\n",
      "xs_n 6  n_conn 0\n",
      "xs_n 12  n_conn 0\n",
      "xs_n 2  n_conn 0\n",
      "xs_n 8  n_conn 0\n",
      "xs_n 8  n_conn 0\n",
      "xs_n 0  n_conn 0\n",
      "xs_n 1  n_conn 0\n",
      "xs_n 0  n_conn 0\n",
      "xs_n 0  n_conn 0\n",
      "xs_n 0  n_conn 0\n",
      "xs_n 0  n_conn 0\n",
      "xs_n 0  n_conn 0\n",
      "xs_n 8  n_conn 0\n",
      "xs_n 2  n_conn 0\n",
      "xs_n 12  n_conn 0\n",
      "xs_n 7  n_conn 0\n",
      "xs_n 6  n_conn 1\n",
      "xs_n 12  n_conn 0\n",
      "xs_n 10  n_conn 0\n",
      "xs_n 11  n_conn 0\n",
      "xs_n 12  n_conn 0\n",
      "xs_n 6  n_conn 0\n",
      "xs_n 15  n_conn 0\n",
      "xs_n 14  n_conn 0\n",
      "xs_n 6  n_conn 0\n",
      "xs_n 12  n_conn 0\n",
      "xs_n 2  n_conn 0\n",
      "xs_n 8  n_conn 0\n",
      "xs_n 0  n_conn 0\n",
      "xs_n 0  n_conn 0\n",
      "xs_n 9  n_conn 0\n",
      "xs_n 3  n_conn 0\n",
      "xs_n 12  n_conn 0\n",
      "xs_n 7  n_conn 0\n",
      "xs_n 7  n_conn 0\n",
      "xs_n 14  n_conn 0\n",
      "xs_n 6  n_conn 0\n",
      "xs_n 12  n_conn 0\n",
      "xs_n 2  n_conn 0\n",
      "xs_n 8  n_conn 0\n",
      "xs_n 8  n_conn 0\n",
      "xs_n 0  n_conn 0\n",
      "xs_n 1  n_conn 0\n",
      "xs_n 0  n_conn 0\n",
      "xs_n 0  n_conn 0\n",
      "xs_n 0  n_conn 0\n",
      "xs_n 0  n_conn 0\n",
      "xs_n 0  n_conn 0\n",
      "xs_n 8  n_conn 0\n",
      "xs_n 3  n_conn 0\n",
      "xs_n 4  n_conn 0\n",
      "xs_n 4  n_conn 0\n",
      "xs_n 3  n_conn 0\n",
      "xs_n 6  n_conn 1\n",
      "xs_n 6  n_conn 0\n",
      "xs_n 12  n_conn 0\n",
      "xs_n 2  n_conn 0\n",
      "xs_n 0  n_conn 0\n",
      "xs_n 0  n_conn 0\n",
      "xs_n 0  n_conn 0\n",
      "xs_n 0  n_conn 0\n",
      "xs_n 0  n_conn 0\n",
      "xs_n 0  n_conn 0\n",
      "xs_n 1  n_conn 0\n",
      "xs_n 0  n_conn 0\n",
      "xs_n 1  n_conn 0\n",
      "xs_n 0  n_conn 0\n",
      "xs_n 0  n_conn 0\n",
      "xs_n 9  n_conn 1\n",
      "xs_n 2  n_conn 0\n",
      "xs_n 12  n_conn 0\n",
      "xs_n 8  n_conn 0\n",
      "xs_n 0  n_conn 0\n",
      "xs_n 0  n_conn 0\n",
      "xs_n 0  n_conn 0\n",
      "xs_n 0  n_conn 0\n",
      "xs_n 0  n_conn 0\n",
      "xs_n 0  n_conn 0\n",
      "xs_n 0  n_conn 0\n",
      "xs_n 0  n_conn 0\n",
      "xs_n 0  n_conn 0\n",
      "xs_n 1  n_conn 0\n",
      "xs_n 0  n_conn 0\n",
      "xs_n 0  n_conn 0\n",
      "xs_n 0  n_conn 0\n",
      "xs_n 0  n_conn 0\n",
      "xs_n 0  n_conn 0\n",
      "xs_n 1  n_conn 0\n",
      "xs_n 8  n_conn 0\n",
      "xs_n 1  n_conn 0\n",
      "xs_n 0  n_conn 0\n",
      "xs_n 0  n_conn 0\n",
      "xs_n 9  n_conn 1\n",
      "xs_n 2  n_conn 0\n",
      "xs_n 12  n_conn 0\n",
      "xs_n 8  n_conn 0\n",
      "xs_n 0  n_conn 0\n",
      "xs_n 0  n_conn 0\n",
      "xs_n 0  n_conn 0\n",
      "xs_n 1  n_conn 0\n",
      "xs_n 0  n_conn 0\n",
      "xs_n 0  n_conn 0\n",
      "xs_n 0  n_conn 0\n",
      "xs_n 0  n_conn 0\n",
      "xs_n 8  n_conn 0\n",
      "xs_n 2  n_conn 0\n",
      "xs_n 12  n_conn 0\n",
      "xs_n 8  n_conn 0\n",
      "xs_n 0  n_conn 0\n",
      "xs_n 0  n_conn 0\n",
      "xs_n 0  n_conn 0\n",
      "xs_n 0  n_conn 0\n",
      "xs_n 0  n_conn 0\n",
      "xs_n 0  n_conn 0\n",
      "xs_n 0  n_conn 0\n",
      "xs_n 0  n_conn 0\n",
      "xs_n 0  n_conn 0\n",
      "xs_n 1  n_conn 0\n",
      "xs_n 0  n_conn 0\n",
      "xs_n 1  n_conn 0\n",
      "xs_n 0  n_conn 0\n",
      "xs_n 0  n_conn 0\n",
      "xs_n 9  n_conn 1\n",
      "xs_n 2  n_conn 0\n",
      "xs_n 12  n_conn 0\n",
      "xs_n 8  n_conn 0\n",
      "xs_n 0  n_conn 0\n",
      "xs_n 0  n_conn 0\n",
      "xs_n 0  n_conn 0\n",
      "xs_n 1  n_conn 0\n",
      "xs_n 0  n_conn 0\n",
      "xs_n 1  n_conn 0\n",
      "xs_n 9  n_conn 0\n",
      "xs_n 3  n_conn 0\n",
      "xs_n 5  n_conn 1\n",
      "xs_n 4  n_conn 0\n",
      "xs_n 3  n_conn 0\n",
      "xs_n 7  n_conn 0\n",
      "xs_n 6  n_conn 0\n",
      "xs_n 13  n_conn 0\n",
      "xs_n 3  n_conn 0\n",
      "xs_n 8  n_conn 0\n",
      "xs_n 1  n_conn 0\n",
      "xs_n 3  n_conn 0\n",
      "xs_n 5  n_conn 0\n",
      "xs_n 5  n_conn 1\n",
      "xs_n 3  n_conn 0\n",
      "xs_n 8  n_conn 0\n",
      "xs_n 1  n_conn 0\n",
      "xs_n 3  n_conn 0\n",
      "xs_n 5  n_conn 0\n",
      "xs_n 4  n_conn 0\n",
      "xs_n 3  n_conn 0\n",
      "xs_n 8  n_conn 0\n",
      "xs_n 0  n_conn 0\n",
      "xs_n 0  n_conn 0\n",
      "xs_n 9  n_conn 0\n",
      "xs_n 3  n_conn 0\n",
      "xs_n 4  n_conn 0\n",
      "xs_n 4  n_conn 0\n",
      "xs_n 3  n_conn 0\n",
      "xs_n 7  n_conn 0\n",
      "xs_n 6  n_conn 0\n",
      "xs_n 13  n_conn 0\n",
      "xs_n 3  n_conn 0\n",
      "xs_n 8  n_conn 0\n",
      "xs_n 1  n_conn 0\n",
      "xs_n 3  n_conn 0\n",
      "xs_n 5  n_conn 0\n",
      "xs_n 5  n_conn 1\n",
      "xs_n 3  n_conn 0\n",
      "xs_n 8  n_conn 0\n",
      "xs_n 1  n_conn 0\n",
      "xs_n 3  n_conn 0\n",
      "xs_n 5  n_conn 0\n",
      "xs_n 5  n_conn 1\n",
      "xs_n 3  n_conn 0\n",
      "xs_n 8  n_conn 0\n",
      "xs_n 1  n_conn 0\n",
      "xs_n 3  n_conn 0\n",
      "xs_n 5  n_conn 0\n",
      "xs_n 4  n_conn 0\n",
      "xs_n 3  n_conn 0\n",
      "xs_n 8  n_conn 0\n",
      "xs_n 0  n_conn 0\n",
      "xs_n 1  n_conn 0\n",
      "xs_n 9  n_conn 0\n",
      "xs_n 3  n_conn 0\n",
      "xs_n 5  n_conn 1\n",
      "xs_n 4  n_conn 0\n",
      "xs_n 3  n_conn 0\n",
      "xs_n 7  n_conn 0\n",
      "xs_n 6  n_conn 0\n",
      "xs_n 13  n_conn 0\n",
      "xs_n 3  n_conn 0\n",
      "xs_n 8  n_conn 0\n",
      "xs_n 1  n_conn 0\n",
      "xs_n 3  n_conn 0\n",
      "xs_n 5  n_conn 0\n",
      "xs_n 4  n_conn 0\n",
      "xs_n 3  n_conn 0\n",
      "xs_n 11  n_conn 0\n",
      "xs_n 12  n_conn 0\n",
      "xs_n 7  n_conn 0\n",
      "xs_n 15  n_conn 0\n",
      "xs_n 15  n_conn 0\n",
      "xs_n 15  n_conn 0\n",
      "xs_n 14  n_conn 0\n",
      "xs_n 15  n_conn 0\n",
      "xs_n 15  n_conn 0\n",
      "xs_n 15  n_conn 0\n",
      "xs_n 15  n_conn 0\n",
      "xs_n 15  n_conn 0\n",
      "xs_n 14  n_conn 0\n",
      "xs_n 7  n_conn 0\n",
      "xs_n 14  n_conn 0\n",
      "xs_n 15  n_conn 0\n",
      "xs_n 15  n_conn 0\n",
      "xs_n 14  n_conn 0\n",
      "xs_n 14  n_conn 0\n",
      "xs_n 7  n_conn 0\n",
      "xs_n 15  n_conn 0\n",
      "xs_n 7  n_conn 0\n",
      "xs_n 12  n_conn 0\n",
      "xs_n 3  n_conn 0\n",
      "xs_n 9  n_conn 0\n",
      "xs_n 0  n_conn 0\n",
      "xs_n 0  n_conn 0\n",
      "xs_n 9  n_conn 1\n",
      "xs_n 3  n_conn 0\n",
      "xs_n 12  n_conn 0\n",
      "xs_n 6  n_conn 0\n",
      "xs_n 15  n_conn 0\n",
      "xs_n 15  n_conn 0\n",
      "xs_n 14  n_conn 0\n",
      "xs_n 15  n_conn 0\n",
      "xs_n 15  n_conn 0\n",
      "xs_n 14  n_conn 0\n",
      "xs_n 7  n_conn 0\n",
      "xs_n 14  n_conn 0\n",
      "xs_n 15  n_conn 0\n",
      "xs_n 15  n_conn 0\n",
      "xs_n 14  n_conn 0\n",
      "xs_n 14  n_conn 0\n",
      "xs_n 7  n_conn 0\n",
      "xs_n 15  n_conn 0\n",
      "xs_n 15  n_conn 0\n",
      "xs_n 15  n_conn 0\n",
      "xs_n 15  n_conn 0\n",
      "xs_n 14  n_conn 0\n",
      "xs_n 7  n_conn 0\n",
      "xs_n 15  n_conn 0\n",
      "xs_n 15  n_conn 0\n",
      "xs_n 15  n_conn 0\n",
      "xs_n 7  n_conn 0\n",
      "xs_n 13  n_conn 0\n",
      "xs_n 3  n_conn 0\n",
      "xs_n 6  n_conn 1\n",
      "xs_n 15  n_conn 0\n",
      "xs_n 15  n_conn 0\n",
      "xs_n 14  n_conn 0\n",
      "xs_n 14  n_conn 0\n",
      "xs_n 15  n_conn 0\n",
      "xs_n 15  n_conn 0\n",
      "xs_n 15  n_conn 0\n",
      "xs_n 15  n_conn 0\n",
      "xs_n 15  n_conn 0\n",
      "xs_n 14  n_conn 0\n",
      "xs_n 7  n_conn 0\n",
      "xs_n 14  n_conn 0\n",
      "xs_n 15  n_conn 0\n",
      "xs_n 15  n_conn 0\n",
      "xs_n 6  n_conn 1\n",
      "xs_n 14  n_conn 0\n",
      "xs_n 7  n_conn 0\n",
      "xs_n 12  n_conn 0\n",
      "xs_n 10  n_conn 0\n",
      "xs_n 11  n_conn 0\n",
      "xs_n 12  n_conn 0\n",
      "xs_n 7  n_conn 0\n",
      "xs_n 15  n_conn 0\n",
      "xs_n 14  n_conn 0\n",
      "xs_n 6  n_conn 0\n",
      "xs_n 12  n_conn 0\n",
      "xs_n 10  n_conn 1\n",
      "xs_n 11  n_conn 0\n",
      "xs_n 12  n_conn 0\n",
      "xs_n 8  n_conn 0\n",
      "xs_n 9  n_conn 0\n",
      "xs_n 3  n_conn 0\n",
      "xs_n 12  n_conn 0\n",
      "xs_n 6  n_conn 0\n",
      "xs_n 15  n_conn 0\n",
      "xs_n 14  n_conn 0\n",
      "xs_n 6  n_conn 0\n",
      "xs_n 12  n_conn 0\n",
      "xs_n 2  n_conn 0\n",
      "xs_n 9  n_conn 0\n",
      "xs_n 0  n_conn 0\n",
      "xs_n 0  n_conn 0\n",
      "xs_n 9  n_conn 0\n",
      "xs_n 3  n_conn 0\n",
      "xs_n 12  n_conn 0\n",
      "xs_n 7  n_conn 0\n",
      "xs_n 15  n_conn 0\n",
      "xs_n 14  n_conn 0\n",
      "xs_n 6  n_conn 0\n",
      "xs_n 12  n_conn 0\n",
      "xs_n 10  n_conn 1\n",
      "xs_n 11  n_conn 0\n",
      "xs_n 12  n_conn 0\n",
      "xs_n 8  n_conn 0\n",
      "xs_n 9  n_conn 0\n",
      "xs_n 3  n_conn 0\n",
      "xs_n 12  n_conn 0\n",
      "xs_n 7  n_conn 0\n",
      "xs_n 15  n_conn 0\n",
      "xs_n 15  n_conn 0\n",
      "xs_n 14  n_conn 0\n",
      "xs_n 15  n_conn 0\n",
      "xs_n 15  n_conn 0\n",
      "xs_n 15  n_conn 0\n",
      "xs_n 15  n_conn 0\n",
      "xs_n 15  n_conn 0\n",
      "xs_n 7  n_conn 0\n",
      "xs_n 12  n_conn 0\n",
      "xs_n 11  n_conn 0\n",
      "xs_n 11  n_conn 0\n",
      "xs_n 12  n_conn 0\n",
      "xs_n 8  n_conn 0\n",
      "xs_n 9  n_conn 0\n",
      "xs_n 3  n_conn 0\n",
      "xs_n 12  n_conn 0\n",
      "xs_n 7  n_conn 0\n",
      "xs_n 15  n_conn 0\n",
      "xs_n 15  n_conn 0\n",
      "xs_n 6  n_conn 0\n",
      "xs_n 12  n_conn 0\n",
      "xs_n 11  n_conn 0\n",
      "xs_n 11  n_conn 0\n",
      "xs_n 12  n_conn 0\n",
      "xs_n 8  n_conn 0\n",
      "xs_n 9  n_conn 0\n",
      "xs_n 2  n_conn 0\n",
      "xs_n 12  n_conn 0\n",
      "xs_n 8  n_conn 0\n",
      "xs_n 1  n_conn 0\n",
      "xs_n 0  n_conn 0\n",
      "xs_n 0  n_conn 0\n",
      "xs_n 0  n_conn 0\n",
      "xs_n 8  n_conn 0\n",
      "xs_n 2  n_conn 0\n",
      "xs_n 12  n_conn 0\n",
      "xs_n 8  n_conn 0\n",
      "xs_n 0  n_conn 0\n",
      "xs_n 0  n_conn 0\n",
      "xs_n 0  n_conn 0\n",
      "xs_n 1  n_conn 0\n",
      "xs_n 0  n_conn 0\n",
      "xs_n 1  n_conn 0\n",
      "xs_n 0  n_conn 0\n",
      "xs_n 0  n_conn 0\n",
      "xs_n 9  n_conn 1\n",
      "xs_n 2  n_conn 0\n",
      "xs_n 12  n_conn 0\n",
      "xs_n 8  n_conn 0\n",
      "xs_n 0  n_conn 0\n",
      "xs_n 0  n_conn 0\n",
      "xs_n 0  n_conn 0\n",
      "xs_n 1  n_conn 0\n",
      "xs_n 0  n_conn 0\n",
      "xs_n 0  n_conn 0\n",
      "xs_n 0  n_conn 0\n",
      "xs_n 0  n_conn 0\n",
      "xs_n 8  n_conn 0\n",
      "xs_n 2  n_conn 0\n",
      "xs_n 12  n_conn 0\n",
      "xs_n 9  n_conn 1\n",
      "xs_n 0  n_conn 0\n",
      "xs_n 0  n_conn 0\n",
      "xs_n 1  n_conn 0\n",
      "xs_n 1  n_conn 0\n",
      "xs_n 0  n_conn 0\n",
      "xs_n 0  n_conn 0\n",
      "xs_n 8  n_conn 0\n",
      "xs_n 3  n_conn 0\n",
      "xs_n 12  n_conn 0\n",
      "xs_n 7  n_conn 1\n",
      "xs_n 15  n_conn 0\n",
      "xs_n 15  n_conn 0\n",
      "xs_n 14  n_conn 0\n",
      "xs_n 14  n_conn 0\n",
      "xs_n 15  n_conn 0\n",
      "xs_n 14  n_conn 0\n",
      "xs_n 14  n_conn 0\n",
      "xs_n 12  n_conn 0\n",
      "xs_n 3  n_conn 0\n",
      "xs_n 9  n_conn 1\n",
      "xs_n 0  n_conn 0\n",
      "xs_n 1  n_conn 0\n",
      "xs_n 1  n_conn 0\n",
      "xs_n 3  n_conn 0\n",
      "xs_n 12  n_conn 0\n",
      "xs_n 7  n_conn 0\n",
      "xs_n 15  n_conn 0\n",
      "xs_n 14  n_conn 0\n",
      "xs_n 15  n_conn 0\n",
      "xs_n 15  n_conn 0\n",
      "xs_n 7  n_conn 0\n",
      "xs_n 12  n_conn 0\n",
      "xs_n 3  n_conn 0\n",
      "xs_n 9  n_conn 0\n",
      "xs_n 0  n_conn 0\n",
      "xs_n 0  n_conn 0\n",
      "xs_n 1  n_conn 0\n",
      "xs_n 0  n_conn 0\n",
      "xs_n 0  n_conn 0\n",
      "xs_n 1  n_conn 0\n",
      "xs_n 8  n_conn 0\n",
      "xs_n 3  n_conn 0\n",
      "xs_n 5  n_conn 0\n",
      "xs_n 4  n_conn 0\n",
      "xs_n 3  n_conn 0\n",
      "xs_n 8  n_conn 0\n",
      "xs_n 0  n_conn 0\n",
      "xs_n 0  n_conn 0\n",
      "xs_n 9  n_conn 0\n",
      "xs_n 3  n_conn 0\n",
      "xs_n 4  n_conn 0\n",
      "xs_n 4  n_conn 0\n",
      "xs_n 3  n_conn 0\n",
      "xs_n 7  n_conn 0\n",
      "xs_n 6  n_conn 0\n",
      "xs_n 13  n_conn 0\n",
      "xs_n 3  n_conn 0\n",
      "xs_n 8  n_conn 0\n",
      "xs_n 1  n_conn 0\n",
      "xs_n 3  n_conn 0\n",
      "xs_n 5  n_conn 0\n",
      "xs_n 4  n_conn 0\n",
      "xs_n 3  n_conn 0\n",
      "xs_n 8  n_conn 0\n",
      "xs_n 0  n_conn 0\n",
      "xs_n 0  n_conn 0\n",
      "xs_n 9  n_conn 0\n",
      "xs_n 3  n_conn 0\n",
      "xs_n 4  n_conn 0\n",
      "xs_n 4  n_conn 0\n",
      "xs_n 3  n_conn 0\n",
      "xs_n 6  n_conn 1\n",
      "xs_n 6  n_conn 0\n",
      "xs_n 12  n_conn 0\n",
      "xs_n 2  n_conn 0\n",
      "xs_n 9  n_conn 0\n",
      "xs_n 0  n_conn 0\n",
      "xs_n 0  n_conn 0\n",
      "xs_n 9  n_conn 0\n",
      "xs_n 3  n_conn 0\n",
      "xs_n 12  n_conn 0\n",
      "xs_n 7  n_conn 0\n",
      "xs_n 15  n_conn 0\n",
      "xs_n 14  n_conn 0\n",
      "xs_n 6  n_conn 0\n",
      "xs_n 12  n_conn 0\n",
      "xs_n 2  n_conn 0\n",
      "xs_n 8  n_conn 0\n",
      "xs_n 8  n_conn 0\n",
      "xs_n 0  n_conn 0\n",
      "xs_n 9  n_conn 0\n",
      "xs_n 3  n_conn 0\n",
      "xs_n 12  n_conn 0\n",
      "xs_n 7  n_conn 0\n",
      "xs_n 7  n_conn 0\n",
      "xs_n 15  n_conn 0\n",
      "xs_n 14  n_conn 0\n",
      "xs_n 15  n_conn 0\n",
      "xs_n 15  n_conn 0\n",
      "xs_n 14  n_conn 1\n",
      "xs_n 15  n_conn 0\n",
      "xs_n 15  n_conn 0\n",
      "xs_n 7  n_conn 0\n",
      "xs_n 13  n_conn 0\n",
      "xs_n 3  n_conn 0\n",
      "xs_n 8  n_conn 0\n",
      "xs_n 1  n_conn 0\n",
      "xs_n 3  n_conn 0\n",
      "xs_n 5  n_conn 0\n",
      "xs_n 5  n_conn 1\n",
      "xs_n 3  n_conn 0\n",
      "xs_n 7  n_conn 0\n",
      "xs_n 6  n_conn 1\n",
      "xs_n 12  n_conn 0\n",
      "xs_n 3  n_conn 0\n",
      "xs_n 9  n_conn 1\n",
      "xs_n 0  n_conn 0\n",
      "xs_n 1  n_conn 0\n",
      "xs_n 1  n_conn 0\n",
      "xs_n 3  n_conn 0\n",
      "xs_n 12  n_conn 0\n",
      "xs_n 7  n_conn 0\n",
      "xs_n 15  n_conn 0\n",
      "xs_n 14  n_conn 0\n",
      "xs_n 15  n_conn 0\n",
      "xs_n 14  n_conn 0\n",
      "xs_n 15  n_conn 0\n",
      "xs_n 15  n_conn 0\n",
      "xs_n 14  n_conn 0\n",
      "xs_n 14  n_conn 0\n",
      "xs_n 7  n_conn 0\n",
      "xs_n 15  n_conn 0\n",
      "xs_n 7  n_conn 0\n",
      "xs_n 12  n_conn 0\n",
      "xs_n 3  n_conn 0\n",
      "xs_n 9  n_conn 0\n",
      "xs_n 0  n_conn 0\n",
      "xs_n 0  n_conn 0\n",
      "xs_n 1  n_conn 0\n",
      "xs_n 0  n_conn 0\n",
      "xs_n 8  n_conn 0\n",
      "xs_n 2  n_conn 0\n",
      "xs_n 12  n_conn 0\n",
      "xs_n 8  n_conn 0\n",
      "xs_n 0  n_conn 0\n",
      "xs_n 0  n_conn 0\n",
      "xs_n 0  n_conn 0\n",
      "xs_n 1  n_conn 0\n",
      "xs_n 0  n_conn 0\n",
      "xs_n 1  n_conn 0\n",
      "xs_n 0  n_conn 0\n",
      "xs_n 0  n_conn 0\n",
      "xs_n 9  n_conn 1\n",
      "xs_n 2  n_conn 0\n",
      "xs_n 12  n_conn 0\n",
      "xs_n 8  n_conn 0\n",
      "xs_n 0  n_conn 0\n",
      "xs_n 1  n_conn 0\n",
      "xs_n 0  n_conn 0\n",
      "xs_n 1  n_conn 0\n",
      "xs_n 1  n_conn 0\n",
      "xs_n 3  n_conn 0\n",
      "xs_n 12  n_conn 0\n",
      "xs_n 7  n_conn 0\n",
      "xs_n 15  n_conn 0\n",
      "xs_n 15  n_conn 0\n",
      "xs_n 15  n_conn 0\n",
      "xs_n 14  n_conn 0\n",
      "xs_n 15  n_conn 0\n",
      "xs_n 15  n_conn 0\n",
      "xs_n 14  n_conn 0\n",
      "xs_n 14  n_conn 0\n",
      "xs_n 15  n_conn 0\n",
      "xs_n 15  n_conn 0\n",
      "xs_n 15  n_conn 0\n",
      "xs_n 15  n_conn 0\n",
      "xs_n 15  n_conn 0\n",
      "xs_n 14  n_conn 0\n",
      "xs_n 7  n_conn 0\n",
      "xs_n 15  n_conn 0\n",
      "xs_n 15  n_conn 0\n",
      "xs_n 14  n_conn 0\n",
      "xs_n 15  n_conn 0\n",
      "xs_n 1  n_conn 0\n",
      "xs_n 1  n_conn 0\n",
      "xs_n 0  n_conn 0\n",
      "xs_n 9  n_conn 0\n",
      "xs_n 3  n_conn 0\n",
      "xs_n 12  n_conn 0\n",
      "xs_n 7  n_conn 0\n",
      "xs_n 7  n_conn 0\n",
      "xs_n 14  n_conn 0\n",
      "xs_n 6  n_conn 0\n",
      "xs_n 12  n_conn 0\n",
      "xs_n 10  n_conn 1\n",
      "xs_n 11  n_conn 0\n",
      "xs_n 12  n_conn 0\n",
      "xs_n 8  n_conn 0\n",
      "xs_n 9  n_conn 0\n",
      "xs_n 3  n_conn 0\n",
      "xs_n 12  n_conn 0\n",
      "xs_n 6  n_conn 0\n",
      "xs_n 15  n_conn 0\n",
      "xs_n 15  n_conn 0\n",
      "xs_n 6  n_conn 0\n",
      "xs_n 13  n_conn 0\n",
      "xs_n 3  n_conn 0\n",
      "xs_n 8  n_conn 0\n",
      "xs_n 1  n_conn 0\n",
      "xs_n 3  n_conn 0\n",
      "xs_n 5  n_conn 0\n",
      "xs_n 4  n_conn 0\n",
      "xs_n 3  n_conn 0\n",
      "xs_n 8  n_conn 0\n",
      "xs_n 0  n_conn 0\n",
      "xs_n 0  n_conn 0\n",
      "xs_n 9  n_conn 0\n",
      "xs_n 3  n_conn 0\n",
      "xs_n 4  n_conn 0\n",
      "xs_n 4  n_conn 0\n",
      "xs_n 3  n_conn 0\n",
      "xs_n 6  n_conn 1\n",
      "xs_n 6  n_conn 0\n",
      "xs_n 12  n_conn 0\n",
      "xs_n 2  n_conn 0\n",
      "xs_n 8  n_conn 0\n",
      "xs_n 0  n_conn 0\n",
      "xs_n 0  n_conn 0\n",
      "xs_n 9  n_conn 0\n",
      "xs_n 3  n_conn 0\n",
      "xs_n 12  n_conn 0\n",
      "xs_n 7  n_conn 0\n",
      "xs_n 7  n_conn 0\n",
      "xs_n 14  n_conn 0\n",
      "xs_n 6  n_conn 0\n",
      "xs_n 12  n_conn 0\n",
      "xs_n 10  n_conn 1\n",
      "xs_n 11  n_conn 0\n",
      "xs_n 12  n_conn 0\n",
      "xs_n 8  n_conn 0\n",
      "xs_n 9  n_conn 0\n",
      "xs_n 2  n_conn 0\n",
      "xs_n 12  n_conn 0\n",
      "xs_n 7  n_conn 0\n",
      "xs_n 14  n_conn 0\n",
      "xs_n 12  n_conn 0\n",
      "xs_n 10  n_conn 0\n",
      "xs_n 11  n_conn 0\n",
      "xs_n 12  n_conn 0\n",
      "xs_n 7  n_conn 0\n",
      "xs_n 15  n_conn 0\n",
      "xs_n 15  n_conn 0\n",
      "xs_n 6  n_conn 0\n",
      "xs_n 12  n_conn 0\n",
      "xs_n 3  n_conn 0\n",
      "xs_n 9  n_conn 0\n",
      "xs_n 0  n_conn 0\n",
      "xs_n 0  n_conn 0\n",
      "xs_n 8  n_conn 0\n",
      "xs_n 0  n_conn 0\n",
      "xs_n 1  n_conn 0\n",
      "xs_n 2  n_conn 0\n",
      "xs_n 12  n_conn 0\n",
      "xs_n 1  n_conn 0\n",
      "xs_n 0  n_conn 0\n",
      "xs_n 8  n_conn 0\n",
      "xs_n 0  n_conn 0\n",
      "xs_n 1  n_conn 0\n",
      "xs_n 1  n_conn 0\n",
      "xs_n 12  n_conn 0\n",
      "xs_n 3  n_conn 0\n",
      "xs_n 14  n_conn 0\n",
      "xs_n 15  n_conn 0\n",
      "xs_n 14  n_conn 0\n",
      "xs_n 15  n_conn 0\n",
      "xs_n 15  n_conn 0\n",
      "xs_n 15  n_conn 0\n",
      "xs_n 7  n_conn 0\n",
      "xs_n 15  n_conn 0\n",
      "xs_n 14  n_conn 0\n",
      "xs_n 6  n_conn 1\n",
      "xs_n 3  n_conn 0\n",
      "xs_n 12  n_conn 0\n",
      "xs_n 1  n_conn 0\n",
      "xs_n 0  n_conn 0\n",
      "xs_n 1  n_conn 0\n",
      "xs_n 0  n_conn 0\n",
      "xs_n 0  n_conn 0\n",
      "xs_n 0  n_conn 0\n",
      "xs_n 0  n_conn 0\n",
      "xs_n 1  n_conn 0\n",
      "xs_n 2  n_conn 0\n",
      "xs_n 12  n_conn 0\n",
      "xs_n 9  n_conn 1\n",
      "xs_n 0  n_conn 0\n",
      "xs_n 0  n_conn 0\n",
      "xs_n 8  n_conn 0\n",
      "xs_n 1  n_conn 0\n",
      "xs_n 0  n_conn 0\n",
      "xs_n 0  n_conn 0\n",
      "xs_n 0  n_conn 0\n",
      "xs_n 0  n_conn 0\n",
      "xs_n 1  n_conn 0\n",
      "xs_n 2  n_conn 0\n",
      "xs_n 12  n_conn 0\n",
      "xs_n 1  n_conn 0\n",
      "xs_n 0  n_conn 0\n",
      "xs_n 0  n_conn 0\n",
      "xs_n 0  n_conn 0\n",
      "xs_n 1  n_conn 0\n",
      "xs_n 0  n_conn 0\n",
      "xs_n 8  n_conn 0\n",
      "xs_n 0  n_conn 0\n",
      "xs_n 0  n_conn 0\n",
      "xs_n 8  n_conn 0\n",
      "xs_n 1  n_conn 0\n",
      "xs_n 8  n_conn 0\n",
      "xs_n 0  n_conn 0\n",
      "xs_n 1  n_conn 0\n",
      "xs_n 12  n_conn 0\n",
      "xs_n 3  n_conn 0\n",
      "xs_n 6  n_conn 0\n",
      "xs_n 15  n_conn 0\n",
      "xs_n 15  n_conn 0\n",
      "xs_n 6  n_conn 1\n",
      "xs_n 3  n_conn 0\n",
      "xs_n 12  n_conn 0\n",
      "CPU times: user 108 ms, sys: 45.1 ms, total: 153 ms\n",
      "Wall time: 116 ms\n"
     ]
    }
   ],
   "source": [
    "%time P_pirime = op_transition1.get_conn(P[0])[0]"
   ]
  },
  {
   "cell_type": "code",
   "execution_count": 24,
   "id": "indie-drink",
   "metadata": {},
   "outputs": [
    {
     "name": "stdout",
     "output_type": "stream",
     "text": [
      "CPU times: user 2.05 ms, sys: 705 µs, total: 2.75 ms\n",
      "Wall time: 221 µs\n"
     ]
    },
    {
     "data": {
      "text/plain": [
       "array([7.78092483+0.j])"
      ]
     },
     "execution_count": 24,
     "metadata": {},
     "output_type": "execute_result"
    }
   ],
   "source": [
    "%time ma.log_val(P[0].reshape(1,-1))"
   ]
  },
  {
   "cell_type": "code",
   "execution_count": 9,
   "id": "practical-sheffield",
   "metadata": {},
   "outputs": [],
   "source": [
    "P = P[:,0,:]"
   ]
  },
  {
   "cell_type": "code",
   "execution_count": 12,
   "id": "regional-verse",
   "metadata": {},
   "outputs": [
    {
     "data": {
      "text/plain": [
       "(288,)"
      ]
     },
     "execution_count": 12,
     "metadata": {},
     "output_type": "execute_result"
    }
   ],
   "source": [
    "(P[1] - P[0]).shape"
   ]
  },
  {
   "cell_type": "code",
   "execution_count": 80,
   "id": "latest-serum",
   "metadata": {},
   "outputs": [
    {
     "data": {
      "text/plain": [
       "array([3.87753514+0.j, 3.87753514+0.j, 3.87753514+0.j, 3.87753514+0.j,\n",
       "       3.87753514+0.j, 3.87753514+0.j, 3.87753514+0.j, 3.87753514+0.j,\n",
       "       3.87753514+0.j, 3.87753514+0.j, 3.87753514+0.j, 3.87753514+0.j,\n",
       "       3.87753514+0.j, 3.87753514+0.j, 3.87753514+0.j, 3.87753514+0.j,\n",
       "       3.87753514+0.j, 3.87753514+0.j, 3.87753514+0.j, 3.87753514+0.j,\n",
       "       3.87753514+0.j, 3.87753514+0.j, 3.87753514+0.j, 3.87753514+0.j,\n",
       "       3.87753514+0.j, 3.87753514+0.j, 3.87753514+0.j, 3.87753514+0.j,\n",
       "       3.87753514+0.j, 3.87753514+0.j, 3.87753514+0.j, 3.87753514+0.j,\n",
       "       3.87753514+0.j, 3.87753514+0.j, 3.87753514+0.j, 3.87753514+0.j,\n",
       "       3.87753514+0.j, 3.87753514+0.j, 3.87753514+0.j, 3.87753514+0.j,\n",
       "       3.87753514+0.j, 3.87753514+0.j, 3.87753514+0.j, 3.87753514+0.j,\n",
       "       3.87753514+0.j, 3.87753514+0.j, 3.87753514+0.j, 3.87753514+0.j,\n",
       "       3.87753514+0.j, 3.87753514+0.j, 3.87753514+0.j, 3.87753514+0.j,\n",
       "       3.87753514+0.j, 3.87753514+0.j, 3.87753514+0.j, 3.87753514+0.j,\n",
       "       3.87753514+0.j, 3.87753514+0.j, 3.87753514+0.j, 3.87753514+0.j,\n",
       "       3.87753514+0.j, 3.87753514+0.j, 3.87753514+0.j, 3.87753514+0.j,\n",
       "       3.87753514+0.j, 3.87753514+0.j, 3.87753514+0.j, 3.87753514+0.j,\n",
       "       3.87753514+0.j, 3.87753514+0.j, 3.87753514+0.j, 3.87753514+0.j,\n",
       "       3.87753514+0.j, 3.87753514+0.j, 3.87753514+0.j, 3.87753514+0.j,\n",
       "       3.87753514+0.j, 3.87753514+0.j, 3.87753514+0.j, 3.87753514+0.j,\n",
       "       3.87753514+0.j, 3.87753514+0.j, 3.87753514+0.j, 3.87753514+0.j,\n",
       "       3.87753514+0.j, 3.87753514+0.j, 3.87753514+0.j, 3.87753514+0.j,\n",
       "       3.87753514+0.j, 3.87753514+0.j, 3.87753514+0.j, 3.87753514+0.j,\n",
       "       3.87753514+0.j, 3.87753514+0.j, 3.87753514+0.j, 3.87753514+0.j,\n",
       "       3.87753514+0.j, 3.87753514+0.j, 3.87753514+0.j, 3.87753514+0.j])"
      ]
     },
     "execution_count": 80,
     "metadata": {},
     "output_type": "execute_result"
    }
   ],
   "source": [
    "ma.log_val(P[:,:])"
   ]
  },
  {
   "cell_type": "code",
   "execution_count": null,
   "id": "static-domain",
   "metadata": {
    "scrolled": true
   },
   "outputs": [
    {
     "name": "stdout",
     "output_type": "stream",
     "text": [
      "yoyo\n",
      "number of core : 1\n",
      "discard =  144\n",
      "No output specified (out=[apath|nk.logging.JsonLogger(...)]).Running the optimization but not saving the output.\n"
     ]
    },
    {
     "name": "stderr",
     "output_type": "stream",
     "text": [
      "\r",
      "  0%|          | 0/1000 [00:00<?, ?it/s]"
     ]
    },
    {
     "name": "stdout",
     "output_type": "stream",
     "text": [
      "n_discard =  144\n",
      "discard samples 1.8249790668487549\n",
      "n_samples_node =  1000\n",
      "generate_samples :  12.060803174972534\n",
      "     prepare getting local values 0.0022017955780029297\n",
      "     obtained local values 0.00815272331237793\n",
      "get_mc_stats 0.01238703727722168\n"
     ]
    },
    {
     "name": "stderr",
     "output_type": "stream",
     "text": [
      "  0%|          | 1/1000 [00:13<3:52:06, 13.94s/it, Energy=-2.053+0.000j ± 0.014 [σ²=0.235]]"
     ]
    },
    {
     "name": "stdout",
     "output_type": "stream",
     "text": [
      "--->> cal O and jac  0.03631997108459473\n",
      "compute_update  0.04072308540344238\n",
      "(0.022409102733758048+0j)\n",
      "n_discard =  144\n",
      "discard samples 1.6428780555725098\n",
      "n_samples_node =  1000\n",
      "generate_samples :  12.104233980178833\n",
      "     prepare getting local values 0.002279043197631836\n",
      "     obtained local values 0.007629871368408203\n",
      "get_mc_stats 0.011626958847045898\n"
     ]
    },
    {
     "name": "stderr",
     "output_type": "stream",
     "text": [
      "  0%|          | 2/1000 [00:27<3:50:30, 13.86s/it, Energy=-2.092+0.000j ± 0.013 [σ²=0.140]]"
     ]
    },
    {
     "name": "stdout",
     "output_type": "stream",
     "text": [
      "--->> cal O and jac  0.03409910202026367\n",
      "compute_update  0.03885221481323242\n",
      "(0.028887457959494125+0j)\n",
      "n_discard =  144\n",
      "discard samples 1.6188318729400635\n",
      "n_samples_node =  1000\n",
      "generate_samples :  11.50808072090149\n",
      "     prepare getting local values 0.0023429393768310547\n",
      "     obtained local values 0.008049964904785156\n",
      "get_mc_stats 0.012789011001586914\n"
     ]
    },
    {
     "name": "stderr",
     "output_type": "stream",
     "text": [
      "  0%|          | 3/1000 [00:40<3:45:07, 13.55s/it, Energy=-2.0737+0.0000j ± 0.0087 [σ²=0.1127]]"
     ]
    },
    {
     "name": "stdout",
     "output_type": "stream",
     "text": [
      "--->> cal O and jac  0.03321123123168945\n",
      "compute_update  0.03757429122924805\n",
      "(0.03359455830362379+0j)\n",
      "n_discard =  144\n",
      "discard samples 1.5985760688781738\n",
      "n_samples_node =  1000\n",
      "generate_samples :  11.086022138595581\n",
      "     prepare getting local values 0.002704143524169922\n",
      "     obtained local values 0.008814096450805664\n",
      "get_mc_stats 0.013767004013061523\n"
     ]
    },
    {
     "name": "stderr",
     "output_type": "stream",
     "text": [
      "  0%|          | 4/1000 [00:53<3:39:35, 13.23s/it, Energy=-2.0932+0.0000j ± 0.0090 [σ²=0.0786]]"
     ]
    },
    {
     "name": "stdout",
     "output_type": "stream",
     "text": [
      "--->> cal O and jac  0.03269505500793457\n",
      "compute_update  0.036718130111694336\n",
      "(0.0370726391357289+0j)\n",
      "n_discard =  144\n",
      "discard samples 1.5883698463439941\n",
      "n_samples_node =  1000\n",
      "generate_samples :  11.021162033081055\n",
      "     prepare getting local values 0.0022940635681152344\n",
      "     obtained local values 0.008214235305786133\n",
      "get_mc_stats 0.012687921524047852\n"
     ]
    },
    {
     "name": "stderr",
     "output_type": "stream",
     "text": [
      "  0%|          | 5/1000 [01:06<3:36:00, 13.03s/it, Energy=-2.0696+0.0000j ± 0.0079 [σ²=0.0670]]"
     ]
    },
    {
     "name": "stdout",
     "output_type": "stream",
     "text": [
      "--->> cal O and jac  0.03570699691772461\n",
      "compute_update  0.0402069091796875\n",
      "(0.03973995695939645+0j)\n",
      "n_discard =  144\n",
      "discard samples 1.5756430625915527\n",
      "n_samples_node =  1000\n",
      "generate_samples :  10.884910821914673\n",
      "     prepare getting local values 0.0026178359985351562\n",
      "     obtained local values 0.008388280868530273\n",
      "get_mc_stats 0.013232231140136719\n"
     ]
    },
    {
     "name": "stderr",
     "output_type": "stream",
     "text": [
      "  1%|          | 6/1000 [01:18<3:32:54, 12.85s/it, Energy=-2.0888+0.0000j ± 0.0057 [σ²=0.0514]]"
     ]
    },
    {
     "name": "stdout",
     "output_type": "stream",
     "text": [
      "--->> cal O and jac  0.03446221351623535\n",
      "compute_update  0.03924083709716797\n",
      "(0.04202222273180642+0j)\n",
      "n_discard =  144\n",
      "discard samples 1.570378065109253\n",
      "n_samples_node =  1000\n",
      "generate_samples :  11.408117055892944\n",
      "     prepare getting local values 0.003663301467895508\n",
      "     obtained local values 0.010697126388549805\n",
      "get_mc_stats 0.015182733535766602\n"
     ]
    },
    {
     "name": "stderr",
     "output_type": "stream",
     "text": [
      "  1%|          | 7/1000 [01:31<3:33:45, 12.92s/it, Energy=-2.0742+0.0000j ± 0.0073 [σ²=0.0430]]"
     ]
    },
    {
     "name": "stdout",
     "output_type": "stream",
     "text": [
      "--->> cal O and jac  0.04613995552062988\n",
      "compute_update  0.05159807205200195\n",
      "(0.044628660400530894+0j)\n",
      "n_discard =  144\n",
      "discard samples 1.733576774597168\n",
      "n_samples_node =  1000\n",
      "generate_samples :  11.533482074737549\n",
      "     prepare getting local values 0.0035829544067382812\n",
      "     obtained local values 0.01028299331665039\n",
      "get_mc_stats 0.01611804962158203\n"
     ]
    },
    {
     "name": "stderr",
     "output_type": "stream",
     "text": [
      "  1%|          | 8/1000 [01:45<3:35:44, 13.05s/it, Energy=-2.0900+0.0000j ± 0.0063 [σ²=0.0357]]"
     ]
    },
    {
     "name": "stdout",
     "output_type": "stream",
     "text": [
      "--->> cal O and jac  0.043282270431518555\n",
      "compute_update  0.04764604568481445\n",
      "(0.04681031556676497+0j)\n",
      "n_discard =  144\n",
      "discard samples 1.6561450958251953\n",
      "n_samples_node =  1000\n",
      "generate_samples :  10.871520042419434\n",
      "     prepare getting local values 0.0024690628051757812\n",
      "     obtained local values 0.008198976516723633\n",
      "get_mc_stats 0.012382030487060547\n"
     ]
    },
    {
     "name": "stderr",
     "output_type": "stream",
     "text": [
      "  1%|          | 9/1000 [01:57<3:33:07, 12.90s/it, Energy=-2.0896+0.0000j ± 0.0058 [σ²=0.0297]]"
     ]
    },
    {
     "name": "stdout",
     "output_type": "stream",
     "text": [
      "--->> cal O and jac  0.03665781021118164\n",
      "compute_update  0.04048299789428711\n",
      "(0.048666124745883256+0j)\n",
      "n_discard =  144\n",
      "discard samples 1.6709208488464355\n",
      "n_samples_node =  1000\n",
      "generate_samples :  10.870512962341309\n",
      "     prepare getting local values 0.0022242069244384766\n",
      "     obtained local values 0.007929086685180664\n",
      "get_mc_stats 0.012190103530883789\n"
     ]
    },
    {
     "name": "stderr",
     "output_type": "stream",
     "text": [
      "  1%|          | 10/1000 [02:10<3:31:21, 12.81s/it, Energy=-2.0902+0.0000j ± 0.0046 [σ²=0.0270]]"
     ]
    },
    {
     "name": "stdout",
     "output_type": "stream",
     "text": [
      "--->> cal O and jac  0.03930401802062988\n",
      "compute_update  0.043092966079711914\n",
      "(0.05059855261675991+0j)\n",
      "n_discard =  144\n",
      "discard samples 1.5787389278411865\n",
      "n_samples_node =  1000\n",
      "generate_samples :  10.946191787719727\n",
      "     prepare getting local values 0.002537965774536133\n",
      "     obtained local values 0.008995771408081055\n",
      "get_mc_stats 0.014612913131713867\n"
     ]
    },
    {
     "name": "stderr",
     "output_type": "stream",
     "text": [
      "  1%|          | 11/1000 [02:22<3:30:01, 12.74s/it, Energy=-2.0946+0.0000j ± 0.0046 [σ²=0.0240]]"
     ]
    },
    {
     "name": "stdout",
     "output_type": "stream",
     "text": [
      "--->> cal O and jac  0.041235923767089844\n",
      "compute_update  0.04523491859436035\n",
      "(0.05227463186756953+0j)\n",
      "n_discard =  144\n",
      "discard samples 1.6167242527008057\n",
      "n_samples_node =  1000\n",
      "generate_samples :  11.090437889099121\n",
      "     prepare getting local values 0.0021011829376220703\n",
      "     obtained local values 0.008017301559448242\n",
      "get_mc_stats 0.01190495491027832\n"
     ]
    },
    {
     "name": "stderr",
     "output_type": "stream",
     "text": [
      "  1%|          | 12/1000 [02:35<3:29:54, 12.75s/it, Energy=-2.0928+0.0000j ± 0.0044 [σ²=0.0215]]"
     ]
    },
    {
     "name": "stdout",
     "output_type": "stream",
     "text": [
      "--->> cal O and jac  0.03643393516540527\n",
      "compute_update  0.04002690315246582\n",
      "(0.054191525504943036+0j)\n",
      "n_discard =  144\n",
      "discard samples 1.6274502277374268\n",
      "n_samples_node =  1000\n",
      "generate_samples :  11.364080905914307\n",
      "     prepare getting local values 0.002541780471801758\n",
      "     obtained local values 0.008532047271728516\n",
      "get_mc_stats 0.013537168502807617\n"
     ]
    },
    {
     "name": "stderr",
     "output_type": "stream",
     "text": [
      "  1%|▏         | 13/1000 [02:48<3:31:13, 12.84s/it, Energy=-2.1039+0.0000j ± 0.0039 [σ²=0.0172]]"
     ]
    },
    {
     "name": "stdout",
     "output_type": "stream",
     "text": [
      "--->> cal O and jac  0.04232597351074219\n",
      "compute_update  0.04622602462768555\n",
      "(0.05557546632822909+0j)\n",
      "n_discard =  144\n",
      "discard samples 1.6349401473999023\n",
      "n_samples_node =  1000\n",
      "generate_samples :  11.323698997497559\n",
      "     prepare getting local values 0.0027341842651367188\n",
      "     obtained local values 0.00882411003112793\n",
      "get_mc_stats 0.013659000396728516\n"
     ]
    },
    {
     "name": "stderr",
     "output_type": "stream",
     "text": [
      "  1%|▏         | 14/1000 [03:01<3:31:54, 12.90s/it, Energy=-2.0898+0.0000j ± 0.0045 [σ²=0.0162]]"
     ]
    },
    {
     "name": "stdout",
     "output_type": "stream",
     "text": [
      "--->> cal O and jac  0.04003405570983887\n",
      "compute_update  0.04605698585510254\n",
      "(0.05659250931872728+0j)\n",
      "n_discard =  144\n",
      "discard samples 1.7791547775268555\n",
      "n_samples_node =  1000\n",
      "generate_samples :  11.466256856918335\n",
      "     prepare getting local values 0.0022470951080322266\n",
      "     obtained local values 0.008117914199829102\n",
      "get_mc_stats 0.012296915054321289\n"
     ]
    },
    {
     "name": "stderr",
     "output_type": "stream",
     "text": [
      "  2%|▏         | 15/1000 [03:15<3:33:43, 13.02s/it, Energy=-2.0999+0.0000j ± 0.0039 [σ²=0.0135]]"
     ]
    },
    {
     "name": "stdout",
     "output_type": "stream",
     "text": [
      "--->> cal O and jac  0.03992915153503418\n",
      "compute_update  0.04362797737121582\n",
      "(0.057289215347283894+0j)\n",
      "n_discard =  144\n",
      "discard samples 1.5990040302276611\n",
      "n_samples_node =  1000\n",
      "generate_samples :  11.422485113143921\n",
      "     prepare getting local values 0.002161264419555664\n",
      "     obtained local values 0.007958173751831055\n",
      "get_mc_stats 0.012125968933105469\n"
     ]
    },
    {
     "name": "stderr",
     "output_type": "stream",
     "text": [
      "  2%|▏         | 16/1000 [03:28<3:33:47, 13.04s/it, Energy=-2.0994+0.0000j ± 0.0039 [σ²=0.0119]]"
     ]
    },
    {
     "name": "stdout",
     "output_type": "stream",
     "text": [
      "--->> cal O and jac  0.03655505180358887\n",
      "compute_update  0.04015207290649414\n",
      "(0.057693609101243375+0j)\n",
      "n_discard =  144\n",
      "discard samples 1.61456298828125\n",
      "n_samples_node =  1000\n",
      "generate_samples :  11.205359935760498\n",
      "     prepare getting local values 0.002421140670776367\n",
      "     obtained local values 0.008249282836914062\n",
      "get_mc_stats 0.012331008911132812\n"
     ]
    },
    {
     "name": "stderr",
     "output_type": "stream",
     "text": [
      "  2%|▏         | 17/1000 [03:41<3:32:47, 12.99s/it, Energy=-2.1016+0.0000j ± 0.0034 [σ²=0.0100]]"
     ]
    },
    {
     "name": "stdout",
     "output_type": "stream",
     "text": [
      "--->> cal O and jac  0.03844404220581055\n",
      "compute_update  0.04188895225524902\n",
      "(0.05777069570265796+0j)\n",
      "n_discard =  144\n",
      "discard samples 1.754533290863037\n",
      "n_samples_node =  1000\n",
      "generate_samples :  11.793911218643188\n",
      "     prepare getting local values 0.002732992172241211\n",
      "     obtained local values 0.008630037307739258\n",
      "get_mc_stats 0.013255834579467773\n"
     ]
    },
    {
     "name": "stderr",
     "output_type": "stream",
     "text": [
      "  2%|▏         | 18/1000 [03:54<3:35:36, 13.17s/it, Energy=-2.0970+0.0000j ± 0.0033 [σ²=0.0090]]"
     ]
    },
    {
     "name": "stdout",
     "output_type": "stream",
     "text": [
      "--->> cal O and jac  0.03892207145690918\n",
      "compute_update  0.041612863540649414\n",
      "(0.057700367396154875+0j)\n",
      "n_discard =  144\n",
      "discard samples 1.6199378967285156\n",
      "n_samples_node =  1000\n",
      "generate_samples :  11.147885084152222\n",
      "     prepare getting local values 0.0022382736206054688\n",
      "     obtained local values 0.008080005645751953\n",
      "get_mc_stats 0.012373924255371094\n"
     ]
    },
    {
     "name": "stderr",
     "output_type": "stream",
     "text": [
      "  2%|▏         | 19/1000 [04:07<3:33:40, 13.07s/it, Energy=-2.1005+0.0000j ± 0.0029 [σ²=0.0080]]"
     ]
    },
    {
     "name": "stdout",
     "output_type": "stream",
     "text": [
      "--->> cal O and jac  0.036849260330200195\n",
      "compute_update  0.04024314880371094\n",
      "(0.057593627826594634+0j)\n",
      "n_discard =  144\n",
      "discard samples 1.6206138134002686\n",
      "n_samples_node =  1000\n",
      "generate_samples :  11.168336153030396\n",
      "     prepare getting local values 0.002324819564819336\n",
      "     obtained local values 0.008076906204223633\n",
      "get_mc_stats 0.012395858764648438\n"
     ]
    },
    {
     "name": "stderr",
     "output_type": "stream",
     "text": [
      "  2%|▏         | 20/1000 [04:20<3:32:20, 13.00s/it, Energy=-2.0959+0.0000j ± 0.0024 [σ²=0.0062]]"
     ]
    },
    {
     "name": "stdout",
     "output_type": "stream",
     "text": [
      "--->> cal O and jac  0.03535008430480957\n",
      "compute_update  0.03877830505371094\n",
      "(0.057284183300231835+0j)\n",
      "n_discard =  144\n",
      "discard samples 1.627615213394165\n",
      "n_samples_node =  1000\n",
      "generate_samples :  11.143789052963257\n",
      "     prepare getting local values 0.002328157424926758\n",
      "     obtained local values 0.008269071578979492\n",
      "get_mc_stats 0.011973142623901367\n"
     ]
    },
    {
     "name": "stderr",
     "output_type": "stream",
     "text": [
      "  2%|▏         | 21/1000 [04:33<3:31:16, 12.95s/it, Energy=-2.0987+0.0000j ± 0.0020 [σ²=0.0057]]"
     ]
    },
    {
     "name": "stdout",
     "output_type": "stream",
     "text": [
      "--->> cal O and jac  0.03750896453857422\n",
      "compute_update  0.041278839111328125\n",
      "(0.05683125964260557+0j)\n",
      "n_discard =  144\n",
      "discard samples 1.6305570602416992\n",
      "n_samples_node =  1000\n",
      "generate_samples :  11.222958087921143\n",
      "     prepare getting local values 0.0019948482513427734\n",
      "     obtained local values 0.007788896560668945\n",
      "get_mc_stats 0.011739015579223633\n"
     ]
    },
    {
     "name": "stderr",
     "output_type": "stream",
     "text": [
      "  2%|▏         | 22/1000 [04:46<3:30:51, 12.94s/it, Energy=-2.1000+0.0000j ± 0.0022 [σ²=0.0044]]"
     ]
    },
    {
     "name": "stdout",
     "output_type": "stream",
     "text": [
      "--->> cal O and jac  0.03564190864562988\n",
      "compute_update  0.03894400596618652\n",
      "(0.056265844759980845+0j)\n",
      "n_discard =  144\n",
      "discard samples 1.6336750984191895\n",
      "n_samples_node =  1000\n",
      "generate_samples :  11.533900022506714\n",
      "     prepare getting local values 0.0027251243591308594\n",
      "     obtained local values 0.008933067321777344\n",
      "get_mc_stats 0.014194250106811523\n"
     ]
    },
    {
     "name": "stderr",
     "output_type": "stream",
     "text": [
      "  2%|▏         | 23/1000 [04:59<3:32:04, 13.02s/it, Energy=-2.1036+0.0000j ± 0.0020 [σ²=0.0041]]"
     ]
    },
    {
     "name": "stdout",
     "output_type": "stream",
     "text": [
      "--->> cal O and jac  0.04242300987243652\n",
      "compute_update  0.04640507698059082\n",
      "(0.05572704140452794+0j)\n",
      "n_discard =  144\n",
      "discard samples 1.6729800701141357\n",
      "n_samples_node =  1000\n",
      "generate_samples :  11.257215023040771\n",
      "     prepare getting local values 0.0019221305847167969\n",
      "     obtained local values 0.0076143741607666016\n",
      "get_mc_stats 0.011474132537841797\n"
     ]
    },
    {
     "name": "stderr",
     "output_type": "stream",
     "text": [
      "  2%|▏         | 24/1000 [05:12<3:31:39, 13.01s/it, Energy=-2.1023+0.0000j ± 0.0017 [σ²=0.0037]]"
     ]
    },
    {
     "name": "stdout",
     "output_type": "stream",
     "text": [
      "--->> cal O and jac  0.035300254821777344\n",
      "compute_update  0.03914332389831543\n",
      "(0.055283115027476466+0j)\n",
      "n_discard =  144\n",
      "discard samples 1.6672680377960205\n",
      "n_samples_node =  1000\n",
      "generate_samples :  11.25989294052124\n",
      "     prepare getting local values 0.002244710922241211\n",
      "     obtained local values 0.007907629013061523\n",
      "get_mc_stats 0.012164115905761719\n"
     ]
    },
    {
     "name": "stderr",
     "output_type": "stream",
     "text": [
      "  2%|▎         | 25/1000 [05:25<3:31:18, 13.00s/it, Energy=-2.1056+0.0000j ± 0.0017 [σ²=0.0033]]"
     ]
    },
    {
     "name": "stdout",
     "output_type": "stream",
     "text": [
      "--->> cal O and jac  0.036947011947631836\n",
      "compute_update  0.04040813446044922\n",
      "(0.05494315817397249+0j)\n",
      "n_discard =  144\n",
      "discard samples 1.6838281154632568\n",
      "n_samples_node =  1000\n",
      "generate_samples :  11.361413955688477\n",
      "     prepare getting local values 0.002132892608642578\n",
      "     obtained local values 0.007883071899414062\n",
      "get_mc_stats 0.012018918991088867\n"
     ]
    },
    {
     "name": "stderr",
     "output_type": "stream",
     "text": [
      "  3%|▎         | 26/1000 [05:38<3:31:34, 13.03s/it, Energy=-2.1081+0.0000j ± 0.0016 [σ²=0.0029]]"
     ]
    },
    {
     "name": "stdout",
     "output_type": "stream",
     "text": [
      "--->> cal O and jac  0.03975486755371094\n",
      "compute_update  0.04309797286987305\n",
      "(0.05459691267072313+0j)\n",
      "n_discard =  144\n",
      "discard samples 1.6433601379394531\n",
      "n_samples_node =  1000\n",
      "generate_samples :  11.905142068862915\n",
      "     prepare getting local values 0.0023458003997802734\n",
      "     obtained local values 0.008210897445678711\n",
      "get_mc_stats 0.01244497299194336\n"
     ]
    },
    {
     "name": "stderr",
     "output_type": "stream",
     "text": [
      "  3%|▎         | 27/1000 [05:51<3:34:08, 13.21s/it, Energy=-2.1048+0.0000j ± 0.0017 [σ²=0.0026]]"
     ]
    },
    {
     "name": "stdout",
     "output_type": "stream",
     "text": [
      "--->> cal O and jac  0.03997373580932617\n",
      "compute_update  0.04346871376037598\n",
      "(0.05438659770357195+0j)\n",
      "n_discard =  144\n",
      "discard samples 1.6482491493225098\n",
      "n_samples_node =  1000\n",
      "generate_samples :  11.32032823562622\n",
      "     prepare getting local values 0.002138853073120117\n",
      "     obtained local values 0.008002042770385742\n",
      "get_mc_stats 0.012073993682861328\n"
     ]
    },
    {
     "name": "stderr",
     "output_type": "stream",
     "text": [
      "  3%|▎         | 28/1000 [06:05<3:33:02, 13.15s/it, Energy=-2.1027+0.0000j ± 0.0016 [σ²=0.0028]]"
     ]
    },
    {
     "name": "stdout",
     "output_type": "stream",
     "text": [
      "--->> cal O and jac  0.036028146743774414\n",
      "compute_update  0.03936910629272461\n",
      "(0.054372931830991504+0j)\n",
      "n_discard =  144\n",
      "discard samples 1.6439039707183838\n",
      "n_samples_node =  1000\n",
      "generate_samples :  11.2866370677948\n",
      "     prepare getting local values 0.00220489501953125\n",
      "     obtained local values 0.007961750030517578\n",
      "get_mc_stats 0.012070894241333008\n"
     ]
    },
    {
     "name": "stderr",
     "output_type": "stream",
     "text": [
      "  3%|▎         | 29/1000 [06:18<3:32:01, 13.10s/it, Energy=-2.1020+0.0000j ± 0.0016 [σ²=0.0024]]"
     ]
    },
    {
     "name": "stdout",
     "output_type": "stream",
     "text": [
      "--->> cal O and jac  0.037161827087402344\n",
      "compute_update  0.04051971435546875\n",
      "(0.054312117327121934+0j)\n",
      "n_discard =  144\n",
      "discard samples 1.6403110027313232\n",
      "n_samples_node =  1000\n",
      "generate_samples :  11.397417068481445\n",
      "     prepare getting local values 0.0022232532501220703\n",
      "     obtained local values 0.007835865020751953\n",
      "get_mc_stats 0.012153863906860352\n"
     ]
    },
    {
     "name": "stderr",
     "output_type": "stream",
     "text": [
      "  3%|▎         | 30/1000 [06:31<3:31:45, 13.10s/it, Energy=-2.1023+0.0000j ± 0.0014 [σ²=0.0024]]"
     ]
    },
    {
     "name": "stdout",
     "output_type": "stream",
     "text": [
      "--->> cal O and jac  0.03665518760681152\n",
      "compute_update  0.03999781608581543\n",
      "(0.0543060429731639+0j)\n",
      "n_discard =  144\n",
      "discard samples 1.6525897979736328\n",
      "n_samples_node =  1000\n",
      "generate_samples :  11.394483089447021\n",
      "     prepare getting local values 0.00238800048828125\n",
      "     obtained local values 0.00827789306640625\n",
      "get_mc_stats 0.012168169021606445\n"
     ]
    },
    {
     "name": "stderr",
     "output_type": "stream",
     "text": [
      "  3%|▎         | 31/1000 [06:44<3:31:33, 13.10s/it, Energy=-2.1045+0.0000j ± 0.0014 [σ²=0.0020]]"
     ]
    },
    {
     "name": "stdout",
     "output_type": "stream",
     "text": [
      "--->> cal O and jac  0.038249969482421875\n",
      "compute_update  0.04154682159423828\n",
      "(0.054315420654281486+0j)\n",
      "n_discard =  144\n",
      "discard samples 1.6568458080291748\n",
      "n_samples_node =  1000\n",
      "generate_samples :  11.374733209609985\n",
      "     prepare getting local values 0.002540111541748047\n",
      "     obtained local values 0.008340120315551758\n",
      "get_mc_stats 0.012757062911987305\n"
     ]
    },
    {
     "name": "stderr",
     "output_type": "stream",
     "text": [
      "  3%|▎         | 32/1000 [06:57<3:31:17, 13.10s/it, Energy=-2.1056+0.0000j ± 0.0014 [σ²=0.0018]]"
     ]
    },
    {
     "name": "stdout",
     "output_type": "stream",
     "text": [
      "--->> cal O and jac  0.03954577445983887\n",
      "compute_update  0.043103933334350586\n",
      "(0.054329180929197474+0j)\n",
      "n_discard =  144\n",
      "discard samples 1.6851000785827637\n",
      "n_samples_node =  1000\n",
      "generate_samples :  11.320958137512207\n",
      "     prepare getting local values 0.002260923385620117\n",
      "     obtained local values 0.007776737213134766\n",
      "get_mc_stats 0.011844158172607422\n"
     ]
    },
    {
     "name": "stderr",
     "output_type": "stream",
     "text": [
      "  3%|▎         | 33/1000 [07:10<3:30:53, 13.09s/it, Energy=-2.1050+0.0000j ± 0.0015 [σ²=0.0017]]"
     ]
    },
    {
     "name": "stdout",
     "output_type": "stream",
     "text": [
      "--->> cal O and jac  0.03626894950866699\n",
      "compute_update  0.03941798210144043\n",
      "(0.05434161393527657+0j)\n",
      "n_discard =  144\n",
      "discard samples 1.6447758674621582\n",
      "n_samples_node =  1000\n",
      "generate_samples :  11.33931016921997\n",
      "     prepare getting local values 0.0021266937255859375\n",
      "     obtained local values 0.007934808731079102\n",
      "get_mc_stats 0.012269973754882812\n"
     ]
    },
    {
     "name": "stderr",
     "output_type": "stream",
     "text": [
      "  3%|▎         | 34/1000 [07:23<3:30:26, 13.07s/it, Energy=-2.1035+0.0000j ± 0.0010 [σ²=0.0016]]"
     ]
    },
    {
     "name": "stdout",
     "output_type": "stream",
     "text": [
      "--->> cal O and jac  0.0361330509185791\n",
      "compute_update  0.039357900619506836\n",
      "(0.054399321749562295+0j)\n",
      "n_discard =  144\n",
      "discard samples 1.644577980041504\n",
      "n_samples_node =  1000\n",
      "generate_samples :  11.386695146560669\n",
      "     prepare getting local values 0.002357959747314453\n",
      "     obtained local values 0.00821685791015625\n",
      "get_mc_stats 0.012678146362304688\n"
     ]
    },
    {
     "name": "stderr",
     "output_type": "stream",
     "text": [
      "  4%|▎         | 35/1000 [07:36<3:30:18, 13.08s/it, Energy=-2.1023+0.0000j ± 0.0011 [σ²=0.0015]]"
     ]
    },
    {
     "name": "stdout",
     "output_type": "stream",
     "text": [
      "--->> cal O and jac  0.038741111755371094\n",
      "compute_update  0.042733192443847656\n",
      "(0.054506076911813015+0j)\n",
      "n_discard =  144\n",
      "discard samples 1.669241189956665\n",
      "n_samples_node =  1000\n",
      "generate_samples :  11.357595920562744\n",
      "     prepare getting local values 0.002431154251098633\n",
      "     obtained local values 0.008173227310180664\n",
      "get_mc_stats 0.012320995330810547\n"
     ]
    },
    {
     "name": "stderr",
     "output_type": "stream",
     "text": [
      "  4%|▎         | 36/1000 [07:49<3:30:07, 13.08s/it, Energy=-2.1044+0.0000j ± 0.0011 [σ²=0.0015]]"
     ]
    },
    {
     "name": "stdout",
     "output_type": "stream",
     "text": [
      "--->> cal O and jac  0.03632688522338867\n",
      "compute_update  0.0396578311920166\n",
      "(0.054582223674420394+0j)\n",
      "n_discard =  144\n",
      "discard samples 1.6513752937316895\n",
      "n_samples_node =  1000\n",
      "generate_samples :  11.533732891082764\n",
      "     prepare getting local values 0.002232074737548828\n",
      "     obtained local values 0.008373022079467773\n",
      "get_mc_stats 0.012749910354614258\n"
     ]
    },
    {
     "name": "stderr",
     "output_type": "stream",
     "text": [
      "  4%|▎         | 37/1000 [08:02<3:30:41, 13.13s/it, Energy=-2.10683+0.00000j ± 0.00093 [σ²=0.00117]]"
     ]
    },
    {
     "name": "stdout",
     "output_type": "stream",
     "text": [
      "--->> cal O and jac  0.03793811798095703\n",
      "compute_update  0.04126119613647461\n",
      "(0.05467830523525306+0j)\n",
      "n_discard =  144\n",
      "discard samples 1.6750600337982178\n",
      "n_samples_node =  1000\n",
      "generate_samples :  11.364307880401611\n",
      "     prepare getting local values 0.0025658607482910156\n",
      "     obtained local values 0.008459806442260742\n",
      "get_mc_stats 0.013079166412353516\n"
     ]
    },
    {
     "name": "stderr",
     "output_type": "stream",
     "text": [
      "  4%|▍         | 38/1000 [08:15<3:30:20, 13.12s/it, Energy=-2.10579+0.00000j ± 0.00093 [σ²=0.00110]]"
     ]
    },
    {
     "name": "stdout",
     "output_type": "stream",
     "text": [
      "--->> cal O and jac  0.040956974029541016\n",
      "compute_update  0.04426693916320801\n",
      "(0.054686404064058336+0j)\n",
      "n_discard =  144\n",
      "discard samples 1.6540307998657227\n",
      "n_samples_node =  1000\n",
      "generate_samples :  11.447211027145386\n",
      "     prepare getting local values 0.0022869110107421875\n",
      "     obtained local values 0.008208036422729492\n",
      "get_mc_stats 0.012256145477294922\n"
     ]
    },
    {
     "name": "stderr",
     "output_type": "stream",
     "text": [
      "  4%|▍         | 39/1000 [08:29<3:30:17, 13.13s/it, Energy=-2.1042+0.0000j ± 0.0013 [σ²=0.0010]]    "
     ]
    },
    {
     "name": "stdout",
     "output_type": "stream",
     "text": [
      "--->> cal O and jac  0.03628802299499512\n",
      "compute_update  0.039732933044433594\n",
      "(0.05469612591074493+0j)\n",
      "n_discard =  144\n",
      "discard samples 1.6778309345245361\n",
      "n_samples_node =  1000\n",
      "generate_samples :  11.471106767654419\n",
      "     prepare getting local values 0.0023670196533203125\n",
      "     obtained local values 0.007871866226196289\n",
      "get_mc_stats 0.012131214141845703\n"
     ]
    },
    {
     "name": "stderr",
     "output_type": "stream",
     "text": [
      "  4%|▍         | 40/1000 [08:42<3:30:26, 13.15s/it, Energy=-2.10374+0.00000j ± 0.00089 [σ²=0.00100]]"
     ]
    },
    {
     "name": "stdout",
     "output_type": "stream",
     "text": [
      "--->> cal O and jac  0.03748893737792969\n",
      "compute_update  0.04079294204711914\n",
      "(0.054708010953735176+0j)\n",
      "n_discard =  144\n",
      "discard samples 1.6953861713409424\n",
      "n_samples_node =  1000\n",
      "generate_samples :  11.75406289100647\n",
      "     prepare getting local values 0.001867055892944336\n",
      "     obtained local values 0.008051872253417969\n",
      "get_mc_stats 0.012843132019042969\n"
     ]
    },
    {
     "name": "stderr",
     "output_type": "stream",
     "text": [
      "  4%|▍         | 41/1000 [08:55<3:31:55, 13.26s/it, Energy=-2.10461+0.00000j ± 0.00079 [σ²=0.00093]]"
     ]
    },
    {
     "name": "stdout",
     "output_type": "stream",
     "text": [
      "--->> cal O and jac  0.03884291648864746\n",
      "compute_update  0.042128801345825195\n",
      "(0.05468734435192374+0j)\n",
      "n_discard =  144\n",
      "discard samples 1.6963069438934326\n",
      "n_samples_node =  1000\n",
      "generate_samples :  11.90248703956604\n",
      "     prepare getting local values 0.0027227401733398438\n",
      "     obtained local values 0.012588739395141602\n",
      "get_mc_stats 0.018846988677978516\n"
     ]
    },
    {
     "name": "stderr",
     "output_type": "stream",
     "text": [
      "  4%|▍         | 42/1000 [09:09<3:33:41, 13.38s/it, Energy=-2.10747+0.00000j ± 0.00082 [σ²=0.00083]]"
     ]
    },
    {
     "name": "stdout",
     "output_type": "stream",
     "text": [
      "--->> cal O and jac  0.05174088478088379\n",
      "compute_update  0.05498385429382324\n",
      "(0.05458910132900492+0j)\n",
      "n_discard =  144\n",
      "discard samples 1.7203779220581055\n",
      "n_samples_node =  1000\n",
      "generate_samples :  11.992928981781006\n",
      "     prepare getting local values 0.002274036407470703\n",
      "     obtained local values 0.008538961410522461\n",
      "get_mc_stats 0.014591217041015625\n"
     ]
    },
    {
     "name": "stderr",
     "output_type": "stream",
     "text": [
      "  4%|▍         | 43/1000 [09:23<3:35:19, 13.50s/it, Energy=-2.10549+0.00000j ± 0.00081 [σ²=0.00078]]"
     ]
    },
    {
     "name": "stdout",
     "output_type": "stream",
     "text": [
      "--->> cal O and jac  0.03654789924621582\n",
      "compute_update  0.039630889892578125\n",
      "(0.05441456128678086+0j)\n",
      "n_discard =  144\n",
      "discard samples 1.658897876739502\n",
      "n_samples_node =  1000\n",
      "generate_samples :  11.373906135559082\n",
      "     prepare getting local values 0.0020301342010498047\n",
      "     obtained local values 0.007735013961791992\n",
      "get_mc_stats 0.011741876602172852\n"
     ]
    },
    {
     "name": "stderr",
     "output_type": "stream",
     "text": [
      "  4%|▍         | 44/1000 [09:36<3:33:07, 13.38s/it, Energy=-2.10489+0.00000j ± 0.00074 [σ²=0.00078]]"
     ]
    },
    {
     "name": "stdout",
     "output_type": "stream",
     "text": [
      "--->> cal O and jac  0.036370277404785156\n",
      "compute_update  0.03974032402038574\n",
      "(0.05420239249758415+0j)\n",
      "n_discard =  144\n",
      "discard samples 1.6506199836730957\n",
      "n_samples_node =  1000\n",
      "generate_samples :  11.380288124084473\n",
      "     prepare getting local values 0.0020890235900878906\n",
      "     obtained local values 0.0081939697265625\n",
      "get_mc_stats 0.012090682983398438\n"
     ]
    },
    {
     "name": "stderr",
     "output_type": "stream",
     "text": [
      "  4%|▍         | 45/1000 [09:49<3:31:30, 13.29s/it, Energy=-2.10562+0.00000j ± 0.00056 [σ²=0.00072]]"
     ]
    },
    {
     "name": "stdout",
     "output_type": "stream",
     "text": [
      "--->> cal O and jac  0.03540492057800293\n",
      "compute_update  0.03905987739562988\n",
      "(0.05399548498718691+0j)\n",
      "n_discard =  144\n",
      "discard samples 1.6552391052246094\n",
      "n_samples_node =  1000\n",
      "generate_samples :  11.398283004760742\n",
      "     prepare getting local values 0.0022001266479492188\n",
      "     obtained local values 0.007896184921264648\n",
      "get_mc_stats 0.012194156646728516\n"
     ]
    },
    {
     "name": "stderr",
     "output_type": "stream",
     "text": [
      "  5%|▍         | 46/1000 [10:02<3:30:25, 13.23s/it, Energy=-2.10523+0.00000j ± 0.00074 [σ²=0.00067]]"
     ]
    },
    {
     "name": "stdout",
     "output_type": "stream",
     "text": [
      "--->> cal O and jac  0.03617095947265625\n",
      "compute_update  0.03979682922363281\n",
      "(0.053700593245075215+0j)\n",
      "n_discard =  144\n",
      "discard samples 1.6508491039276123\n",
      "n_samples_node =  1000\n",
      "generate_samples :  11.43128514289856\n",
      "     prepare getting local values 0.002196073532104492\n",
      "     obtained local values 0.008066177368164062\n",
      "get_mc_stats 0.012258052825927734\n"
     ]
    },
    {
     "name": "stderr",
     "output_type": "stream",
     "text": [
      "  5%|▍         | 47/1000 [10:15<3:29:44, 13.21s/it, Energy=-2.10519+0.00000j ± 0.00082 [σ²=0.00070]]"
     ]
    },
    {
     "name": "stdout",
     "output_type": "stream",
     "text": [
      "--->> cal O and jac  0.03939199447631836\n",
      "compute_update  0.0427088737487793\n",
      "(0.053363635550024505+0j)\n",
      "n_discard =  144\n",
      "discard samples 1.6707682609558105\n",
      "n_samples_node =  1000\n",
      "generate_samples :  11.373864889144897\n",
      "     prepare getting local values 0.0024111270904541016\n",
      "     obtained local values 0.00834798812866211\n",
      "get_mc_stats 0.012823104858398438\n"
     ]
    },
    {
     "name": "stderr",
     "output_type": "stream",
     "text": [
      "  5%|▍         | 48/1000 [10:28<3:29:01, 13.17s/it, Energy=-2.10550+0.00000j ± 0.00071 [σ²=0.00062]]"
     ]
    },
    {
     "name": "stdout",
     "output_type": "stream",
     "text": [
      "--->> cal O and jac  0.036559104919433594\n",
      "compute_update  0.03981208801269531\n",
      "(0.052980002828388946+0j)\n",
      "n_discard =  144\n",
      "discard samples 1.6557979583740234\n",
      "n_samples_node =  1000\n",
      "generate_samples :  11.464385032653809\n",
      "     prepare getting local values 0.002323150634765625\n",
      "     obtained local values 0.008247852325439453\n",
      "get_mc_stats 0.012118101119995117\n"
     ]
    },
    {
     "name": "stderr",
     "output_type": "stream",
     "text": [
      "  5%|▍         | 49/1000 [10:41<3:28:48, 13.17s/it, Energy=-2.10485+0.00000j ± 0.00094 [σ²=0.00066]]"
     ]
    },
    {
     "name": "stdout",
     "output_type": "stream",
     "text": [
      "--->> cal O and jac  0.03683185577392578\n",
      "compute_update  0.04045414924621582\n",
      "(0.05251718905175937+0j)\n",
      "n_discard =  144\n",
      "discard samples 1.6591780185699463\n",
      "n_samples_node =  1000\n",
      "generate_samples :  11.552451133728027\n",
      "     prepare getting local values 0.002843141555786133\n",
      "     obtained local values 0.008935213088989258\n",
      "get_mc_stats 0.013201713562011719\n"
     ]
    },
    {
     "name": "stderr",
     "output_type": "stream",
     "text": [
      "  5%|▌         | 50/1000 [10:55<3:29:02, 13.20s/it, Energy=-2.10602+0.00000j ± 0.00076 [σ²=0.00060]]"
     ]
    },
    {
     "name": "stdout",
     "output_type": "stream",
     "text": [
      "--->> cal O and jac  0.03846931457519531\n",
      "compute_update  0.042353153228759766\n",
      "(0.05206483412191097+0j)\n",
      "n_discard =  144\n",
      "discard samples 1.667842149734497\n",
      "n_samples_node =  1000\n",
      "generate_samples :  11.66578221321106\n",
      "     prepare getting local values 0.0022580623626708984\n",
      "     obtained local values 0.00804591178894043\n",
      "get_mc_stats 0.01370382308959961\n"
     ]
    },
    {
     "name": "stderr",
     "output_type": "stream",
     "text": [
      "  5%|▌         | 51/1000 [11:08<3:29:42, 13.26s/it, Energy=-2.10430+0.00000j ± 0.00076 [σ²=0.00057]]"
     ]
    },
    {
     "name": "stdout",
     "output_type": "stream",
     "text": [
      "--->> cal O and jac  0.0370481014251709\n",
      "compute_update  0.040084123611450195\n",
      "(0.05156790085297513+0j)\n",
      "n_discard =  144\n",
      "discard samples 1.700035810470581\n",
      "n_samples_node =  1000\n",
      "generate_samples :  11.586212158203125\n",
      "     prepare getting local values 0.0021600723266601562\n",
      "     obtained local values 0.008030176162719727\n",
      "get_mc_stats 0.012263059616088867\n"
     ]
    },
    {
     "name": "stderr",
     "output_type": "stream",
     "text": [
      "  5%|▌         | 52/1000 [11:21<3:29:52, 13.28s/it, Energy=-2.10607+0.00000j ± 0.00080 [σ²=0.00054]]"
     ]
    },
    {
     "name": "stdout",
     "output_type": "stream",
     "text": [
      "--->> cal O and jac  0.03652691841125488\n",
      "compute_update  0.03977704048156738\n",
      "(0.05103179164091187+0j)\n",
      "n_discard =  144\n",
      "discard samples 1.6491048336029053\n",
      "n_samples_node =  1000\n",
      "generate_samples :  11.45183515548706\n",
      "     prepare getting local values 0.0026810169219970703\n",
      "     obtained local values 0.008414030075073242\n",
      "get_mc_stats 0.012063026428222656\n"
     ]
    },
    {
     "name": "stderr",
     "output_type": "stream",
     "text": [
      "  5%|▌         | 53/1000 [11:35<3:29:03, 13.25s/it, Energy=-2.10511+0.00000j ± 0.00065 [σ²=0.00054]]"
     ]
    },
    {
     "name": "stdout",
     "output_type": "stream",
     "text": [
      "--->> cal O and jac  0.03633999824523926\n",
      "compute_update  0.039534807205200195\n",
      "(0.05044983411356036+0j)\n",
      "n_discard =  144\n",
      "discard samples 1.6593410968780518\n",
      "n_samples_node =  1000\n",
      "generate_samples :  11.589385986328125\n",
      "     prepare getting local values 0.0022001266479492188\n",
      "     obtained local values 0.008167266845703125\n",
      "get_mc_stats 0.01258397102355957\n"
     ]
    },
    {
     "name": "stderr",
     "output_type": "stream",
     "text": [
      "  5%|▌         | 54/1000 [11:48<3:29:06, 13.26s/it, Energy=-2.10455+0.00000j ± 0.00083 [σ²=0.00053]]"
     ]
    },
    {
     "name": "stdout",
     "output_type": "stream",
     "text": [
      "--->> cal O and jac  0.03624391555786133\n",
      "compute_update  0.0397489070892334\n",
      "(0.04988398094656923+0j)\n",
      "n_discard =  144\n",
      "discard samples 1.6593480110168457\n",
      "n_samples_node =  1000\n",
      "generate_samples :  11.417572975158691\n",
      "     prepare getting local values 0.0025489330291748047\n",
      "     obtained local values 0.00851297378540039\n",
      "get_mc_stats 0.012761116027832031\n"
     ]
    },
    {
     "name": "stderr",
     "output_type": "stream",
     "text": [
      "  6%|▌         | 55/1000 [12:01<3:28:16, 13.22s/it, Energy=-2.10668+0.00000j ± 0.00059 [σ²=0.00053]]"
     ]
    },
    {
     "name": "stdout",
     "output_type": "stream",
     "text": [
      "--->> cal O and jac  0.036657094955444336\n",
      "compute_update  0.039964914321899414\n",
      "(0.04929480034574575+0j)\n",
      "n_discard =  144\n",
      "discard samples 1.6555919647216797\n",
      "n_samples_node =  1000\n",
      "generate_samples :  11.43602204322815\n",
      "     prepare getting local values 0.002401113510131836\n",
      "     obtained local values 0.00808405876159668\n",
      "get_mc_stats 0.012559175491333008\n"
     ]
    },
    {
     "name": "stderr",
     "output_type": "stream",
     "text": [
      "  6%|▌         | 56/1000 [12:14<3:27:41, 13.20s/it, Energy=-2.10641+0.00000j ± 0.00060 [σ²=0.00049]]"
     ]
    },
    {
     "name": "stdout",
     "output_type": "stream",
     "text": [
      "--->> cal O and jac  0.0366671085357666\n",
      "compute_update  0.0401301383972168\n",
      "(0.04873759906145201+0j)\n",
      "n_discard =  144\n",
      "discard samples 1.6685776710510254\n",
      "n_samples_node =  1000\n",
      "generate_samples :  11.696457862854004\n",
      "     prepare getting local values 0.0025260448455810547\n",
      "     obtained local values 0.008307933807373047\n",
      "get_mc_stats 0.01233816146850586\n"
     ]
    },
    {
     "name": "stderr",
     "output_type": "stream",
     "text": [
      "  6%|▌         | 57/1000 [12:28<3:28:30, 13.27s/it, Energy=-2.10627+0.00000j ± 0.00045 [σ²=0.00048]]"
     ]
    },
    {
     "name": "stdout",
     "output_type": "stream",
     "text": [
      "--->> cal O and jac  0.0391848087310791\n",
      "compute_update  0.04244565963745117\n",
      "(0.0482157602158772+0j)\n",
      "n_discard =  144\n",
      "discard samples 1.6778678894042969\n",
      "n_samples_node =  1000\n",
      "generate_samples :  11.47471308708191\n",
      "     prepare getting local values 0.0019068717956542969\n",
      "     obtained local values 0.007946014404296875\n",
      "get_mc_stats 0.011603832244873047\n"
     ]
    },
    {
     "name": "stderr",
     "output_type": "stream",
     "text": [
      "  6%|▌         | 58/1000 [12:41<3:28:00, 13.25s/it, Energy=-2.10566+0.00000j ± 0.00071 [σ²=0.00049]]"
     ]
    },
    {
     "name": "stdout",
     "output_type": "stream",
     "text": [
      "--->> cal O and jac  0.03629302978515625\n",
      "compute_update  0.03976297378540039\n",
      "(0.047673124840309264+0j)\n",
      "n_discard =  144\n",
      "discard samples 1.651129961013794\n",
      "n_samples_node =  1000\n",
      "generate_samples :  11.455524921417236\n",
      "     prepare getting local values 0.002105712890625\n",
      "     obtained local values 0.007947921752929688\n",
      "get_mc_stats 0.01211404800415039\n"
     ]
    },
    {
     "name": "stderr",
     "output_type": "stream",
     "text": [
      "  6%|▌         | 59/1000 [12:54<3:27:22, 13.22s/it, Energy=-2.10612+0.00000j ± 0.00071 [σ²=0.00045]]"
     ]
    },
    {
     "name": "stdout",
     "output_type": "stream",
     "text": [
      "--->> cal O and jac  0.036289215087890625\n",
      "compute_update  0.039427995681762695\n",
      "(0.047151857975227106+0j)\n",
      "n_discard =  144\n",
      "discard samples 1.669861078262329\n",
      "n_samples_node =  1000\n",
      "generate_samples :  11.508051872253418\n",
      "     prepare getting local values 0.002382040023803711\n",
      "     obtained local values 0.008366107940673828\n",
      "get_mc_stats 0.012404918670654297\n"
     ]
    },
    {
     "name": "stderr",
     "output_type": "stream",
     "text": [
      "  6%|▌         | 60/1000 [13:07<3:27:11, 13.23s/it, Energy=-2.10569+0.00000j ± 0.00050 [σ²=0.00045]]"
     ]
    },
    {
     "name": "stdout",
     "output_type": "stream",
     "text": [
      "--->> cal O and jac  0.036644935607910156\n",
      "compute_update  0.04008674621582031\n",
      "(0.04664239098909242+0j)\n",
      "n_discard =  144\n",
      "discard samples 1.8842089176177979\n",
      "n_samples_node =  1000\n",
      "generate_samples :  12.0832839012146\n",
      "     prepare getting local values 0.002043008804321289\n",
      "     obtained local values 0.008104801177978516\n",
      "get_mc_stats 0.01221013069152832\n"
     ]
    },
    {
     "name": "stderr",
     "output_type": "stream",
     "text": [
      "  6%|▌         | 61/1000 [13:21<3:30:44, 13.47s/it, Energy=-2.10552+0.00000j ± 0.00076 [σ²=0.00040]]"
     ]
    },
    {
     "name": "stdout",
     "output_type": "stream",
     "text": [
      "--->> cal O and jac  0.04031515121459961\n",
      "compute_update  0.04357290267944336\n",
      "(0.04613035412950207+0j)\n",
      "n_discard =  144\n",
      "discard samples 1.6896588802337646\n",
      "n_samples_node =  1000\n",
      "generate_samples :  11.587471008300781\n",
      "     prepare getting local values 0.002385854721069336\n",
      "     obtained local values 0.008687734603881836\n",
      "get_mc_stats 0.013167142868041992\n"
     ]
    },
    {
     "name": "stderr",
     "output_type": "stream",
     "text": [
      "  6%|▌         | 62/1000 [13:35<3:29:53, 13.43s/it, Energy=-2.10555+0.00000j ± 0.00066 [σ²=0.00039]]"
     ]
    },
    {
     "name": "stdout",
     "output_type": "stream",
     "text": [
      "--->> cal O and jac  0.03835916519165039\n",
      "compute_update  0.0419621467590332\n",
      "(0.045657240018831334+0j)\n",
      "n_discard =  144\n",
      "discard samples 1.6776700019836426\n",
      "n_samples_node =  1000\n",
      "generate_samples :  11.427762031555176\n",
      "     prepare getting local values 0.0024437904357910156\n",
      "     obtained local values 0.008173942565917969\n",
      "get_mc_stats 0.012509346008300781\n"
     ]
    },
    {
     "name": "stderr",
     "output_type": "stream",
     "text": [
      "  6%|▋         | 63/1000 [13:48<3:28:25, 13.35s/it, Energy=-2.10611+0.00000j ± 0.00055 [σ²=0.00041]]"
     ]
    },
    {
     "name": "stdout",
     "output_type": "stream",
     "text": [
      "--->> cal O and jac  0.03560972213745117\n",
      "compute_update  0.03881978988647461\n",
      "(0.045251182885945304+0j)\n",
      "n_discard =  144\n",
      "discard samples 1.6597142219543457\n",
      "n_samples_node =  1000\n",
      "generate_samples :  11.432889223098755\n",
      "     prepare getting local values 0.002783060073852539\n",
      "     obtained local values 0.008814096450805664\n",
      "get_mc_stats 0.012819766998291016\n"
     ]
    },
    {
     "name": "stderr",
     "output_type": "stream",
     "text": [
      "  6%|▋         | 64/1000 [14:01<3:27:17, 13.29s/it, Energy=-2.10564+0.00000j ± 0.00063 [σ²=0.00038]]"
     ]
    },
    {
     "name": "stdout",
     "output_type": "stream",
     "text": [
      "--->> cal O and jac  0.0413970947265625\n",
      "compute_update  0.0444331169128418\n",
      "(0.04481637043052441+0j)\n",
      "n_discard =  144\n",
      "discard samples 1.6606519222259521\n",
      "n_samples_node =  1000\n",
      "generate_samples :  11.44301700592041\n",
      "     prepare getting local values 0.0024499893188476562\n",
      "     obtained local values 0.008381843566894531\n",
      "get_mc_stats 0.012073278427124023\n"
     ]
    },
    {
     "name": "stderr",
     "output_type": "stream",
     "text": [
      "  6%|▋         | 65/1000 [14:14<3:26:29, 13.25s/it, Energy=-2.10517+0.00000j ± 0.00060 [σ²=0.00039]]"
     ]
    },
    {
     "name": "stdout",
     "output_type": "stream",
     "text": [
      "--->> cal O and jac  0.04103708267211914\n",
      "compute_update  0.044564008712768555\n",
      "(0.04445484924766362+0j)\n",
      "n_discard =  144\n",
      "discard samples 1.656553030014038\n",
      "n_samples_node =  1000\n",
      "generate_samples :  11.486646890640259\n",
      "     prepare getting local values 0.002513885498046875\n",
      "     obtained local values 0.00839686393737793\n",
      "get_mc_stats 0.01267695426940918\n"
     ]
    },
    {
     "name": "stderr",
     "output_type": "stream",
     "text": [
      "  7%|▋         | 66/1000 [14:27<3:26:01, 13.24s/it, Energy=-2.10502+0.00000j ± 0.00060 [σ²=0.00038]]"
     ]
    },
    {
     "name": "stdout",
     "output_type": "stream",
     "text": [
      "--->> cal O and jac  0.03746986389160156\n",
      "compute_update  0.04103398323059082\n",
      "(0.044091790854897006+0j)\n",
      "n_discard =  144\n",
      "discard samples 1.6587121486663818\n",
      "n_samples_node =  1000\n",
      "generate_samples :  11.595398902893066\n",
      "     prepare getting local values 0.0023131370544433594\n",
      "     obtained local values 0.00807499885559082\n",
      "get_mc_stats 0.012691974639892578\n"
     ]
    },
    {
     "name": "stderr",
     "output_type": "stream",
     "text": [
      "  7%|▋         | 67/1000 [14:41<3:26:09, 13.26s/it, Energy=-2.10637+0.00000j ± 0.00052 [σ²=0.00032]]"
     ]
    },
    {
     "name": "stdout",
     "output_type": "stream",
     "text": [
      "--->> cal O and jac  0.03828001022338867\n",
      "compute_update  0.041918039321899414\n",
      "(0.0437879163436798+0j)\n",
      "n_discard =  144\n",
      "discard samples 1.679934024810791\n",
      "n_samples_node =  1000\n",
      "generate_samples :  11.55317997932434\n",
      "     prepare getting local values 0.002187013626098633\n",
      "     obtained local values 0.007999181747436523\n",
      "get_mc_stats 0.01215219497680664\n"
     ]
    },
    {
     "name": "stderr",
     "output_type": "stream",
     "text": [
      "  7%|▋         | 68/1000 [14:54<3:26:04, 13.27s/it, Energy=-2.10555+0.00000j ± 0.00067 [σ²=0.00037]]"
     ]
    },
    {
     "name": "stdout",
     "output_type": "stream",
     "text": [
      "--->> cal O and jac  0.036783695220947266\n",
      "compute_update  0.040529727935791016\n",
      "(0.04352386025481278+0j)\n",
      "n_discard =  144\n",
      "discard samples 1.6622610092163086\n",
      "n_samples_node =  1000\n",
      "generate_samples :  11.583988904953003\n",
      "     prepare getting local values 0.002373933792114258\n",
      "     obtained local values 0.008101701736450195\n",
      "get_mc_stats 0.012324094772338867\n"
     ]
    },
    {
     "name": "stderr",
     "output_type": "stream",
     "text": [
      "  7%|▋         | 69/1000 [15:07<3:26:01, 13.28s/it, Energy=-2.10474+0.00000j ± 0.00058 [σ²=0.00033]]"
     ]
    },
    {
     "name": "stdout",
     "output_type": "stream",
     "text": [
      "--->> cal O and jac  0.03929591178894043\n",
      "compute_update  0.04272818565368652\n",
      "(0.043278229614544285+0j)\n",
      "n_discard =  144\n",
      "discard samples 1.701767921447754\n",
      "n_samples_node =  1000\n",
      "generate_samples :  11.576962232589722\n",
      "     prepare getting local values 0.0023250579833984375\n",
      "     obtained local values 0.008086919784545898\n",
      "get_mc_stats 0.012310028076171875\n"
     ]
    },
    {
     "name": "stderr",
     "output_type": "stream",
     "text": [
      "  7%|▋         | 70/1000 [15:20<3:26:05, 13.30s/it, Energy=-2.10612+0.00000j ± 0.00050 [σ²=0.00036]]"
     ]
    },
    {
     "name": "stdout",
     "output_type": "stream",
     "text": [
      "--->> cal O and jac  0.0420079231262207\n",
      "compute_update  0.04574894905090332\n",
      "(0.043077686823725606+0j)\n",
      "n_discard =  144\n",
      "discard samples 1.683138132095337\n",
      "n_samples_node =  1000\n",
      "generate_samples :  11.56906795501709\n",
      "     prepare getting local values 0.002198934555053711\n",
      "     obtained local values 0.007779836654663086\n",
      "get_mc_stats 0.012087106704711914\n"
     ]
    },
    {
     "name": "stderr",
     "output_type": "stream",
     "text": [
      "  7%|▋         | 71/1000 [15:34<3:25:55, 13.30s/it, Energy=-2.10560+0.00000j ± 0.00053 [σ²=0.00029]]"
     ]
    },
    {
     "name": "stdout",
     "output_type": "stream",
     "text": [
      "--->> cal O and jac  0.03772592544555664\n",
      "compute_update  0.04116988182067871\n",
      "(0.04289930201465631+0j)\n",
      "n_discard =  144\n",
      "discard samples 1.6843359470367432\n",
      "n_samples_node =  1000\n",
      "generate_samples :  11.688881874084473\n",
      "     prepare getting local values 0.0023522377014160156\n",
      "     obtained local values 0.008440017700195312\n",
      "get_mc_stats 0.01265096664428711\n"
     ]
    },
    {
     "name": "stderr",
     "output_type": "stream",
     "text": [
      "  7%|▋         | 72/1000 [15:47<3:26:18, 13.34s/it, Energy=-2.10454+0.00000j ± 0.00063 [σ²=0.00030]]"
     ]
    },
    {
     "name": "stdout",
     "output_type": "stream",
     "text": [
      "--->> cal O and jac  0.03859210014343262\n",
      "compute_update  0.04262495040893555\n",
      "(0.04276857430532347+0j)\n",
      "n_discard =  144\n",
      "discard samples 1.6907448768615723\n",
      "n_samples_node =  1000\n",
      "generate_samples :  11.416752099990845\n",
      "     prepare getting local values 0.0022530555725097656\n",
      "     obtained local values 0.00803518295288086\n",
      "get_mc_stats 0.012206792831420898\n"
     ]
    },
    {
     "name": "stderr",
     "output_type": "stream",
     "text": [
      "  7%|▋         | 73/1000 [16:00<3:25:15, 13.29s/it, Energy=-2.10571+0.00000j ± 0.00050 [σ²=0.00033]]"
     ]
    },
    {
     "name": "stdout",
     "output_type": "stream",
     "text": [
      "--->> cal O and jac  0.03598427772521973\n",
      "compute_update  0.039459228515625\n",
      "(0.042657909766353676+0j)\n",
      "n_discard =  144\n",
      "discard samples 1.6574718952178955\n",
      "n_samples_node =  1000\n",
      "generate_samples :  11.518100261688232\n",
      "     prepare getting local values 0.0021529197692871094\n",
      "     obtained local values 0.007970809936523438\n",
      "get_mc_stats 0.012187004089355469\n"
     ]
    },
    {
     "name": "stderr",
     "output_type": "stream",
     "text": [
      "  7%|▋         | 74/1000 [16:14<3:24:47, 13.27s/it, Energy=-2.10524+0.00000j ± 0.00067 [σ²=0.00029]]"
     ]
    },
    {
     "name": "stdout",
     "output_type": "stream",
     "text": [
      "--->> cal O and jac  0.036391258239746094\n",
      "compute_update  0.04038405418395996\n",
      "(0.042573791634015805+0j)\n",
      "n_discard =  144\n",
      "discard samples 1.6575360298156738\n",
      "n_samples_node =  1000\n",
      "generate_samples :  11.598398208618164\n",
      "     prepare getting local values 0.0020809173583984375\n",
      "     obtained local values 0.007892847061157227\n",
      "get_mc_stats 0.013036012649536133\n"
     ]
    },
    {
     "name": "stderr",
     "output_type": "stream",
     "text": [
      "  8%|▊         | 75/1000 [16:27<3:24:47, 13.28s/it, Energy=-2.10554+0.00000j ± 0.00056 [σ²=0.00030]]"
     ]
    },
    {
     "name": "stdout",
     "output_type": "stream",
     "text": [
      "--->> cal O and jac  0.040960073471069336\n",
      "compute_update  0.044603824615478516\n",
      "(0.04252316521197129+0j)\n",
      "n_discard =  144\n",
      "discard samples 1.6857640743255615\n",
      "n_samples_node =  1000\n",
      "generate_samples :  11.469396829605103\n",
      "     prepare getting local values 0.0024309158325195312\n",
      "     obtained local values 0.008193016052246094\n",
      "get_mc_stats 0.012634038925170898\n"
     ]
    },
    {
     "name": "stderr",
     "output_type": "stream",
     "text": [
      "  8%|▊         | 76/1000 [16:40<3:24:13, 13.26s/it, Energy=-2.10483+0.00000j ± 0.00050 [σ²=0.00031]]"
     ]
    },
    {
     "name": "stdout",
     "output_type": "stream",
     "text": [
      "--->> cal O and jac  0.036271095275878906\n",
      "compute_update  0.03980517387390137\n",
      "(0.04252185272208798+0j)\n",
      "n_discard =  144\n",
      "discard samples 1.6806678771972656\n",
      "n_samples_node =  1000\n",
      "generate_samples :  11.852736949920654\n",
      "     prepare getting local values 0.0022840499877929688\n",
      "     obtained local values 0.008031129837036133\n",
      "get_mc_stats 0.012256145477294922\n"
     ]
    },
    {
     "name": "stderr",
     "output_type": "stream",
     "text": [
      "  8%|▊         | 77/1000 [16:54<3:25:30, 13.36s/it, Energy=-2.10429+0.00000j ± 0.00045 [σ²=0.00026]]"
     ]
    },
    {
     "name": "stdout",
     "output_type": "stream",
     "text": [
      "--->> cal O and jac  0.03746199607849121\n",
      "compute_update  0.04104113578796387\n",
      "(0.042554032387569274+0j)\n",
      "n_discard =  144\n",
      "discard samples 1.6662452220916748\n",
      "n_samples_node =  1000\n",
      "generate_samples :  11.484742879867554\n",
      "     prepare getting local values 0.002035856246948242\n",
      "     obtained local values 0.007750034332275391\n",
      "get_mc_stats 0.011850833892822266\n"
     ]
    },
    {
     "name": "stderr",
     "output_type": "stream",
     "text": [
      "  8%|▊         | 78/1000 [17:07<3:24:34, 13.31s/it, Energy=-2.10499+0.00000j ± 0.00056 [σ²=0.00028]]"
     ]
    },
    {
     "name": "stdout",
     "output_type": "stream",
     "text": [
      "--->> cal O and jac  0.03592491149902344\n",
      "compute_update  0.0393671989440918\n",
      "(0.04257130845446735+0j)\n",
      "n_discard =  144\n",
      "discard samples 1.652266025543213\n",
      "n_samples_node =  1000\n",
      "generate_samples :  11.675123929977417\n",
      "     prepare getting local values 0.0026280879974365234\n",
      "     obtained local values 0.009408950805664062\n",
      "get_mc_stats 0.015056848526000977\n"
     ]
    },
    {
     "name": "stderr",
     "output_type": "stream",
     "text": [
      "  8%|▊         | 79/1000 [17:20<3:24:44, 13.34s/it, Energy=-2.10600+0.00000j ± 0.00042 [σ²=0.00027]]"
     ]
    },
    {
     "name": "stdout",
     "output_type": "stream",
     "text": [
      "--->> cal O and jac  0.04651904106140137\n",
      "compute_update  0.050694942474365234\n",
      "(0.042634225182292616+0j)\n",
      "n_discard =  144\n",
      "discard samples 1.6815533638000488\n",
      "n_samples_node =  1000\n",
      "generate_samples :  11.70099401473999\n",
      "     prepare getting local values 0.0019719600677490234\n",
      "     obtained local values 0.00786900520324707\n",
      "get_mc_stats 0.012094974517822266\n"
     ]
    },
    {
     "name": "stderr",
     "output_type": "stream",
     "text": [
      "  8%|▊         | 80/1000 [17:34<3:24:58, 13.37s/it, Energy=-2.10532+0.00000j ± 0.00057 [σ²=0.00028]]"
     ]
    },
    {
     "name": "stdout",
     "output_type": "stream",
     "text": [
      "--->> cal O and jac  0.03777623176574707\n",
      "compute_update  0.04106330871582031\n",
      "(0.042661264230511496+0j)\n",
      "n_discard =  144\n",
      "discard samples 1.6512598991394043\n",
      "n_samples_node =  1000\n",
      "generate_samples :  11.47228217124939\n",
      "     prepare getting local values 0.002165079116821289\n",
      "     obtained local values 0.007886171340942383\n",
      "get_mc_stats 0.012281656265258789\n"
     ]
    },
    {
     "name": "stderr",
     "output_type": "stream",
     "text": [
      "  8%|▊         | 81/1000 [17:47<3:23:52, 13.31s/it, Energy=-2.10556+0.00000j ± 0.00046 [σ²=0.00027]]"
     ]
    },
    {
     "name": "stdout",
     "output_type": "stream",
     "text": [
      "--->> cal O and jac  0.03661799430847168\n",
      "compute_update  0.03991985321044922\n",
      "(0.04270085168765675+0j)\n",
      "n_discard =  144\n",
      "discard samples 1.6795399188995361\n",
      "n_samples_node =  1000\n",
      "generate_samples :  11.543684005737305\n",
      "     prepare getting local values 0.0019960403442382812\n",
      "     obtained local values 0.007866144180297852\n",
      "get_mc_stats 0.012077093124389648\n"
     ]
    },
    {
     "name": "stderr",
     "output_type": "stream",
     "text": [
      "  8%|▊         | 82/1000 [18:00<3:23:30, 13.30s/it, Energy=-2.10532+0.00000j ± 0.00052 [σ²=0.00024]]"
     ]
    },
    {
     "name": "stdout",
     "output_type": "stream",
     "text": [
      "--->> cal O and jac  0.036614179611206055\n",
      "compute_update  0.03985309600830078\n",
      "(0.04273081936381253+0j)\n",
      "n_discard =  144\n",
      "discard samples 1.6553239822387695\n",
      "n_samples_node =  1000\n",
      "generate_samples :  11.471321105957031\n",
      "     prepare getting local values 0.002288818359375\n",
      "     obtained local values 0.008180856704711914\n",
      "get_mc_stats 0.012363910675048828\n"
     ]
    },
    {
     "name": "stderr",
     "output_type": "stream",
     "text": [
      "  8%|▊         | 83/1000 [18:13<3:22:45, 13.27s/it, Energy=-2.10590+0.00000j ± 0.00052 [σ²=0.00025]]"
     ]
    },
    {
     "name": "stdout",
     "output_type": "stream",
     "text": [
      "--->> cal O and jac  0.03983807563781738\n",
      "compute_update  0.04413199424743652\n",
      "(0.0427641087428605+0j)\n",
      "n_discard =  144\n",
      "discard samples 1.6584808826446533\n",
      "n_samples_node =  1000\n",
      "generate_samples :  12.020864963531494\n",
      "     prepare getting local values 0.0024979114532470703\n",
      "     obtained local values 0.009167909622192383\n",
      "get_mc_stats 0.014843940734863281\n"
     ]
    },
    {
     "name": "stderr",
     "output_type": "stream",
     "text": [
      "  8%|▊         | 84/1000 [18:27<3:24:44, 13.41s/it, Energy=-2.10605+0.00000j ± 0.00044 [σ²=0.00025]]"
     ]
    },
    {
     "name": "stdout",
     "output_type": "stream",
     "text": [
      "--->> cal O and jac  0.04469704627990723\n",
      "compute_update  0.048114776611328125\n",
      "(0.042797806137779955+0j)\n",
      "n_discard =  144\n",
      "discard samples 1.6984379291534424\n",
      "n_samples_node =  1000\n",
      "generate_samples :  11.482776165008545\n",
      "     prepare getting local values 0.0025119781494140625\n",
      "     obtained local values 0.008260965347290039\n",
      "get_mc_stats 0.013328075408935547\n"
     ]
    },
    {
     "name": "stderr",
     "output_type": "stream",
     "text": [
      "  8%|▊         | 85/1000 [18:40<3:23:44, 13.36s/it, Energy=-2.10632+0.00000j ± 0.00053 [σ²=0.00025]]"
     ]
    },
    {
     "name": "stdout",
     "output_type": "stream",
     "text": [
      "--->> cal O and jac  0.040699005126953125\n",
      "compute_update  0.04387974739074707\n",
      "(0.04282844333689933+0j)\n",
      "n_discard =  144\n",
      "discard samples 1.6721630096435547\n",
      "n_samples_node =  1000\n",
      "generate_samples :  11.677485227584839\n",
      "     prepare getting local values 0.0026159286499023438\n",
      "     obtained local values 0.008414030075073242\n",
      "get_mc_stats 0.012686014175415039\n"
     ]
    },
    {
     "name": "stderr",
     "output_type": "stream",
     "text": [
      "  9%|▊         | 86/1000 [18:54<3:23:44, 13.38s/it, Energy=-2.10454+0.00000j ± 0.00043 [σ²=0.00023]]"
     ]
    },
    {
     "name": "stdout",
     "output_type": "stream",
     "text": [
      "--->> cal O and jac  0.041494131088256836\n",
      "compute_update  0.046025991439819336\n",
      "(0.042869545153308035+0j)\n",
      "n_discard =  144\n",
      "discard samples 1.684333086013794\n",
      "n_samples_node =  1000\n",
      "generate_samples :  11.573609113693237\n",
      "     prepare getting local values 0.0028219223022460938\n",
      "     obtained local values 0.009225130081176758\n",
      "get_mc_stats 0.014651060104370117\n"
     ]
    },
    {
     "name": "stderr",
     "output_type": "stream",
     "text": [
      "  9%|▊         | 87/1000 [19:07<3:23:17, 13.36s/it, Energy=-2.10580+0.00000j ± 0.00052 [σ²=0.00024]]"
     ]
    },
    {
     "name": "stdout",
     "output_type": "stream",
     "text": [
      "--->> cal O and jac  0.0470731258392334\n",
      "compute_update  0.050692081451416016\n",
      "(0.042905187898718486+0j)\n",
      "n_discard =  144\n",
      "discard samples 1.716148853302002\n",
      "n_samples_node =  1000\n",
      "generate_samples :  11.613653898239136\n",
      "     prepare getting local values 0.0026361942291259766\n",
      "     obtained local values 0.009782075881958008\n",
      "get_mc_stats 0.013956785202026367\n"
     ]
    },
    {
     "name": "stderr",
     "output_type": "stream",
     "text": [
      "  9%|▉         | 88/1000 [19:20<3:23:13, 13.37s/it, Energy=-2.10457+0.00000j ± 0.00045 [σ²=0.00024]]"
     ]
    },
    {
     "name": "stdout",
     "output_type": "stream",
     "text": [
      "--->> cal O and jac  0.04121112823486328\n",
      "compute_update  0.04432201385498047\n",
      "(0.042934218390697665+0j)\n",
      "n_discard =  144\n",
      "discard samples 1.6752142906188965\n",
      "n_samples_node =  1000\n",
      "generate_samples :  11.535123109817505\n",
      "     prepare getting local values 0.0020949840545654297\n",
      "     obtained local values 0.007835149765014648\n",
      "get_mc_stats 0.012285947799682617\n"
     ]
    },
    {
     "name": "stderr",
     "output_type": "stream",
     "text": [
      "  9%|▉         | 89/1000 [19:34<3:22:31, 13.34s/it, Energy=-2.10638+0.00000j ± 0.00047 [σ²=0.00022]]"
     ]
    },
    {
     "name": "stdout",
     "output_type": "stream",
     "text": [
      "--->> cal O and jac  0.0362241268157959\n",
      "compute_update  0.03946232795715332\n",
      "(0.042960121561025834+0j)\n",
      "n_discard =  144\n",
      "discard samples 1.6751911640167236\n",
      "n_samples_node =  1000\n",
      "generate_samples :  11.482004165649414\n",
      "     prepare getting local values 0.0028867721557617188\n",
      "     obtained local values 0.009961843490600586\n",
      "get_mc_stats 0.014724016189575195\n"
     ]
    },
    {
     "name": "stderr",
     "output_type": "stream",
     "text": [
      "  9%|▉         | 90/1000 [19:47<3:21:45, 13.30s/it, Energy=-2.10512+0.00000j ± 0.00045 [σ²=0.00023]]"
     ]
    },
    {
     "name": "stdout",
     "output_type": "stream",
     "text": [
      "--->> cal O and jac  0.04125380516052246\n",
      "compute_update  0.04580283164978027\n",
      "(0.04296530782797561+0j)\n",
      "n_discard =  144\n",
      "discard samples 1.66001296043396\n",
      "n_samples_node =  1000\n",
      "generate_samples :  11.549458026885986\n",
      "     prepare getting local values 0.0025970935821533203\n",
      "     obtained local values 0.008436918258666992\n",
      "get_mc_stats 0.012817859649658203\n"
     ]
    },
    {
     "name": "stderr",
     "output_type": "stream",
     "text": [
      "  9%|▉         | 91/1000 [20:00<3:21:22, 13.29s/it, Energy=-2.10610+0.00000j ± 0.00043 [σ²=0.00023]]"
     ]
    },
    {
     "name": "stdout",
     "output_type": "stream",
     "text": [
      "--->> cal O and jac  0.03864598274230957\n",
      "compute_update  0.0421757698059082\n",
      "(0.04296128342987784+0j)\n",
      "n_discard =  144\n",
      "discard samples 1.6545419692993164\n",
      "n_samples_node =  1000\n",
      "generate_samples :  11.386012077331543\n",
      "     prepare getting local values 0.002440929412841797\n",
      "     obtained local values 0.008176803588867188\n",
      "get_mc_stats 0.012122154235839844\n"
     ]
    },
    {
     "name": "stderr",
     "output_type": "stream",
     "text": [
      "  9%|▉         | 92/1000 [20:13<3:20:15, 13.23s/it, Energy=-2.10567+0.00000j ± 0.00045 [σ²=0.00021]]"
     ]
    },
    {
     "name": "stdout",
     "output_type": "stream",
     "text": [
      "--->> cal O and jac  0.03655195236206055\n",
      "compute_update  0.03967428207397461\n",
      "(0.04296919212328713+0j)\n",
      "n_discard =  144\n",
      "discard samples 1.6595861911773682\n",
      "n_samples_node =  1000\n",
      "generate_samples :  11.455205202102661\n",
      "     prepare getting local values 0.0021240711212158203\n",
      "     obtained local values 0.007932901382446289\n",
      "get_mc_stats 0.012617111206054688\n"
     ]
    },
    {
     "name": "stderr",
     "output_type": "stream",
     "text": [
      "  9%|▉         | 93/1000 [20:26<3:19:45, 13.21s/it, Energy=-2.10635+0.00000j ± 0.00036 [σ²=0.00022]]"
     ]
    },
    {
     "name": "stdout",
     "output_type": "stream",
     "text": [
      "--->> cal O and jac  0.03749704360961914\n",
      "compute_update  0.04120278358459473\n",
      "(0.042968761291446785+0j)\n",
      "n_discard =  144\n",
      "discard samples 1.6438090801239014\n",
      "n_samples_node =  1000\n",
      "generate_samples :  11.372080087661743\n",
      "     prepare getting local values 0.0022211074829101562\n",
      "     obtained local values 0.007989883422851562\n",
      "get_mc_stats 0.012367010116577148\n"
     ]
    },
    {
     "name": "stderr",
     "output_type": "stream",
     "text": [
      "  9%|▉         | 94/1000 [20:40<3:18:54, 13.17s/it, Energy=-2.10568+0.00000j ± 0.00043 [σ²=0.00019]]"
     ]
    },
    {
     "name": "stdout",
     "output_type": "stream",
     "text": [
      "--->> cal O and jac  0.04184913635253906\n",
      "compute_update  0.04565119743347168\n",
      "(0.042947852808975596+0j)\n",
      "n_discard =  144\n",
      "discard samples 1.6879899501800537\n",
      "n_samples_node =  1000\n",
      "generate_samples :  11.55156135559082\n",
      "     prepare getting local values 0.0024199485778808594\n",
      "     obtained local values 0.008036136627197266\n",
      "get_mc_stats 0.012613773345947266\n"
     ]
    },
    {
     "name": "stderr",
     "output_type": "stream",
     "text": [
      " 10%|▉         | 95/1000 [20:53<3:19:14, 13.21s/it, Energy=-2.10586+0.00000j ± 0.00050 [σ²=0.00021]]"
     ]
    },
    {
     "name": "stdout",
     "output_type": "stream",
     "text": [
      "--->> cal O and jac  0.035797834396362305\n",
      "compute_update  0.03957390785217285\n",
      "(0.04293142018348465+0j)\n",
      "n_discard =  144\n",
      "discard samples 1.674349069595337\n",
      "n_samples_node =  1000\n",
      "generate_samples :  11.446428298950195\n",
      "     prepare getting local values 0.0022096633911132812\n",
      "     obtained local values 0.007756710052490234\n",
      "get_mc_stats 0.011683940887451172\n"
     ]
    },
    {
     "name": "stderr",
     "output_type": "stream",
     "text": [
      " 10%|▉         | 96/1000 [21:06<3:18:52, 13.20s/it, Energy=-2.10512+0.00000j ± 0.00037 [σ²=0.00020]]"
     ]
    },
    {
     "name": "stdout",
     "output_type": "stream",
     "text": [
      "--->> cal O and jac  0.03700971603393555\n",
      "compute_update  0.04059863090515137\n",
      "(0.04287764033776382+0j)\n",
      "n_discard =  144\n",
      "discard samples 1.665822982788086\n",
      "n_samples_node =  1000\n",
      "generate_samples :  11.449551105499268\n",
      "     prepare getting local values 0.002393960952758789\n",
      "     obtained local values 0.00871896743774414\n",
      "get_mc_stats 0.014104127883911133\n"
     ]
    },
    {
     "name": "stderr",
     "output_type": "stream",
     "text": [
      " 10%|▉         | 97/1000 [21:19<3:18:32, 13.19s/it, Energy=-2.10629+0.00000j ± 0.00045 [σ²=0.00021]]"
     ]
    },
    {
     "name": "stdout",
     "output_type": "stream",
     "text": [
      "--->> cal O and jac  0.04061293601989746\n",
      "compute_update  0.04483389854431152\n",
      "(0.042829731689744875+0j)\n",
      "n_discard =  144\n",
      "discard samples 1.713935136795044\n",
      "n_samples_node =  1000\n",
      "generate_samples :  11.57705807685852\n",
      "     prepare getting local values 0.0023810863494873047\n",
      "     obtained local values 0.00830221176147461\n",
      "get_mc_stats 0.013350963592529297\n"
     ]
    },
    {
     "name": "stderr",
     "output_type": "stream",
     "text": [
      " 10%|▉         | 98/1000 [21:33<3:19:02, 13.24s/it, Energy=-2.10554+0.00000j ± 0.00042 [σ²=0.00019]]"
     ]
    },
    {
     "name": "stdout",
     "output_type": "stream",
     "text": [
      "--->> cal O and jac  0.03903508186340332\n",
      "compute_update  0.04255509376525879\n",
      "(0.04279284022667919+0j)\n",
      "n_discard =  144\n",
      "discard samples 1.6755259037017822\n",
      "n_samples_node =  1000\n",
      "generate_samples :  12.149463176727295\n",
      "     prepare getting local values 0.0028290748596191406\n",
      "     obtained local values 0.008681058883666992\n",
      "get_mc_stats 0.013035058975219727\n"
     ]
    },
    {
     "name": "stderr",
     "output_type": "stream",
     "text": [
      " 10%|▉         | 99/1000 [21:46<3:21:43, 13.43s/it, Energy=-2.10641+0.00000j ± 0.00041 [σ²=0.00018]]"
     ]
    },
    {
     "name": "stdout",
     "output_type": "stream",
     "text": [
      "--->> cal O and jac  0.040323734283447266\n",
      "compute_update  0.04439282417297363\n",
      "(0.042722725224605705+0j)\n",
      "n_discard =  144\n",
      "discard samples 1.7486298084259033\n",
      "n_samples_node =  1000\n",
      "generate_samples :  11.544667720794678\n",
      "     prepare getting local values 0.0021889209747314453\n",
      "     obtained local values 0.008569955825805664\n",
      "get_mc_stats 0.013364315032958984\n"
     ]
    },
    {
     "name": "stderr",
     "output_type": "stream",
     "text": [
      " 10%|█         | 100/1000 [22:00<3:21:08, 13.41s/it, Energy=-2.10515+0.00000j ± 0.00033 [σ²=0.00017]]"
     ]
    },
    {
     "name": "stdout",
     "output_type": "stream",
     "text": [
      "--->> cal O and jac  0.03998994827270508\n",
      "compute_update  0.04458475112915039\n",
      "(0.04266530188519555+0j)\n",
      "n_discard =  144\n",
      "discard samples 1.6558001041412354\n",
      "n_samples_node =  1000\n",
      "generate_samples :  11.966300010681152\n",
      "     prepare getting local values 0.0030956268310546875\n",
      "     obtained local values 0.010107755661010742\n",
      "get_mc_stats 0.014428853988647461\n"
     ]
    },
    {
     "name": "stderr",
     "output_type": "stream",
     "text": [
      " 10%|█         | 101/1000 [22:13<3:22:09, 13.49s/it, Energy=-2.10571+0.00000j ± 0.00045 [σ²=0.00017]]"
     ]
    },
    {
     "name": "stdout",
     "output_type": "stream",
     "text": [
      "--->> cal O and jac  0.04103970527648926\n",
      "compute_update  0.04464983940124512\n",
      "(0.04258537051086219+0j)\n",
      "n_discard =  144\n",
      "discard samples 1.783869981765747\n",
      "n_samples_node =  1000\n",
      "generate_samples :  13.065845966339111\n",
      "     prepare getting local values 0.002749919891357422\n",
      "     obtained local values 0.010601997375488281\n",
      "get_mc_stats 0.017004013061523438\n"
     ]
    },
    {
     "name": "stderr",
     "output_type": "stream",
     "text": [
      " 10%|█         | 102/1000 [22:28<3:28:20, 13.92s/it, Energy=-2.10621+0.00000j ± 0.00034 [σ²=0.00017]]"
     ]
    },
    {
     "name": "stdout",
     "output_type": "stream",
     "text": [
      "--->> cal O and jac  0.047013044357299805\n",
      "compute_update  0.050084829330444336\n",
      "(0.04250681382210974+0j)\n",
      "n_discard =  144\n",
      "discard samples 1.7750771045684814\n",
      "n_samples_node =  1000\n",
      "generate_samples :  12.53544807434082\n",
      "     prepare getting local values 0.0024399757385253906\n",
      "     obtained local values 0.009060144424438477\n",
      "get_mc_stats 0.013830900192260742\n"
     ]
    },
    {
     "name": "stderr",
     "output_type": "stream",
     "text": [
      " 10%|█         | 103/1000 [22:43<3:30:11, 14.06s/it, Energy=-2.10610+0.00000j ± 0.00039 [σ²=0.00019]]"
     ]
    },
    {
     "name": "stdout",
     "output_type": "stream",
     "text": [
      "--->> cal O and jac  0.04649972915649414\n",
      "compute_update  0.05593705177307129\n",
      "(0.042405539085115296+0j)\n",
      "n_discard =  144\n",
      "discard samples 1.8642091751098633\n",
      "n_samples_node =  1000\n",
      "generate_samples :  13.715669870376587\n",
      "     prepare getting local values 0.002619028091430664\n",
      "     obtained local values 0.009772062301635742\n",
      "get_mc_stats 0.01541900634765625\n"
     ]
    },
    {
     "name": "stderr",
     "output_type": "stream",
     "text": [
      " 10%|█         | 104/1000 [22:58<3:37:04, 14.54s/it, Energy=-2.10526+0.00000j ± 0.00041 [σ²=0.00019]]"
     ]
    },
    {
     "name": "stdout",
     "output_type": "stream",
     "text": [
      "--->> cal O and jac  0.04503607749938965\n",
      "compute_update  0.05026817321777344\n",
      "(0.0422903231781294+0j)\n",
      "n_discard =  144\n",
      "discard samples 1.881972074508667\n",
      "n_samples_node =  1000\n",
      "generate_samples :  13.166297197341919\n",
      "     prepare getting local values 0.0028269290924072266\n",
      "     obtained local values 0.012845993041992188\n",
      "get_mc_stats 0.022967815399169922\n"
     ]
    },
    {
     "name": "stderr",
     "output_type": "stream",
     "text": [
      " 10%|█         | 105/1000 [23:14<3:39:34, 14.72s/it, Energy=-2.10550+0.00000j ± 0.00049 [σ²=0.00018]]"
     ]
    },
    {
     "name": "stdout",
     "output_type": "stream",
     "text": [
      "--->> cal O and jac  0.05234980583190918\n",
      "compute_update  0.05929899215698242\n",
      "(0.04217927283178612+0j)\n",
      "n_discard =  144\n",
      "discard samples 1.734757900238037\n",
      "n_samples_node =  1000\n",
      "generate_samples :  11.883310079574585\n",
      "     prepare getting local values 0.0023360252380371094\n",
      "     obtained local values 0.008479118347167969\n",
      "get_mc_stats 0.01411581039428711\n"
     ]
    },
    {
     "name": "stderr",
     "output_type": "stream",
     "text": [
      " 11%|█         | 106/1000 [23:27<3:34:40, 14.41s/it, Energy=-2.10633+0.00000j ± 0.00045 [σ²=0.00017]]"
     ]
    },
    {
     "name": "stdout",
     "output_type": "stream",
     "text": [
      "--->> cal O and jac  0.03924679756164551\n",
      "compute_update  0.04247784614562988\n",
      "(0.04204909468643225+0j)\n",
      "n_discard =  144\n",
      "discard samples 1.6648540496826172\n",
      "n_samples_node =  1000\n",
      "generate_samples :  11.43622612953186\n",
      "     prepare getting local values 0.0020830631256103516\n",
      "     obtained local values 0.007784128189086914\n",
      "get_mc_stats 0.012017965316772461\n"
     ]
    },
    {
     "name": "stderr",
     "output_type": "stream",
     "text": [
      " 11%|█         | 107/1000 [23:40<3:28:50, 14.03s/it, Energy=-2.10599+0.00000j ± 0.00053 [σ²=0.00019]]"
     ]
    },
    {
     "name": "stdout",
     "output_type": "stream",
     "text": [
      "--->> cal O and jac  0.035642147064208984\n",
      "compute_update  0.038918256759643555\n",
      "(0.041914505541919375+0j)\n",
      "n_discard =  144\n",
      "discard samples 1.6446290016174316\n",
      "n_samples_node =  1000\n",
      "generate_samples :  11.550806045532227\n",
      "     prepare getting local values 0.0024139881134033203\n",
      "     obtained local values 0.008424997329711914\n",
      "get_mc_stats 0.012628316879272461\n"
     ]
    },
    {
     "name": "stderr",
     "output_type": "stream",
     "text": [
      " 11%|█         | 108/1000 [23:54<3:25:07, 13.80s/it, Energy=-2.10569+0.00000j ± 0.00031 [σ²=0.00016]]"
     ]
    },
    {
     "name": "stdout",
     "output_type": "stream",
     "text": [
      "--->> cal O and jac  0.03982114791870117\n",
      "compute_update  0.04364418983459473\n",
      "(0.04176488029709956+0j)\n",
      "n_discard =  144\n",
      "discard samples 1.6922698020935059\n",
      "n_samples_node =  1000\n",
      "generate_samples :  11.49655795097351\n",
      "     prepare getting local values 0.0023839473724365234\n",
      "     obtained local values 0.008061885833740234\n",
      "get_mc_stats 0.012222051620483398\n"
     ]
    },
    {
     "name": "stderr",
     "output_type": "stream",
     "text": [
      " 11%|█         | 109/1000 [24:07<3:22:25, 13.63s/it, Energy=-2.10563+0.00000j ± 0.00043 [σ²=0.00016]]"
     ]
    },
    {
     "name": "stdout",
     "output_type": "stream",
     "text": [
      "--->> cal O and jac  0.03681492805480957\n",
      "compute_update  0.040116071701049805\n",
      "(0.041611578673085015+0j)\n",
      "n_discard =  144\n",
      "discard samples 1.6462938785552979\n",
      "n_samples_node =  1000\n",
      "generate_samples :  11.477159976959229\n",
      "     prepare getting local values 0.002560853958129883\n",
      "     obtained local values 0.008404970169067383\n",
      "get_mc_stats 0.013070106506347656\n"
     ]
    },
    {
     "name": "stderr",
     "output_type": "stream",
     "text": [
      " 11%|█         | 110/1000 [24:20<3:20:12, 13.50s/it, Energy=-2.10524+0.00000j ± 0.00038 [σ²=0.00018]]"
     ]
    },
    {
     "name": "stdout",
     "output_type": "stream",
     "text": [
      "--->> cal O and jac  0.03986787796020508\n",
      "compute_update  0.04345512390136719\n",
      "(0.04145213921056187+0j)\n",
      "n_discard =  144\n",
      "discard samples 1.679556131362915\n",
      "n_samples_node =  1000\n",
      "generate_samples :  11.486854314804077\n",
      "     prepare getting local values 0.002418994903564453\n",
      "     obtained local values 0.008185148239135742\n",
      "get_mc_stats 0.01240086555480957\n"
     ]
    },
    {
     "name": "stderr",
     "output_type": "stream",
     "text": [
      " 11%|█         | 111/1000 [24:33<3:18:46, 13.42s/it, Energy=-2.10595+0.00000j ± 0.00040 [σ²=0.00016]]"
     ]
    },
    {
     "name": "stdout",
     "output_type": "stream",
     "text": [
      "--->> cal O and jac  0.037445068359375\n",
      "compute_update  0.040888071060180664\n",
      "(0.04129335923313375+0j)\n",
      "n_discard =  144\n",
      "discard samples 1.644577980041504\n",
      "n_samples_node =  1000\n",
      "generate_samples :  11.637722253799438\n",
      "     prepare getting local values 0.0028297901153564453\n",
      "     obtained local values 0.008771657943725586\n",
      "get_mc_stats 0.014330863952636719\n"
     ]
    },
    {
     "name": "stderr",
     "output_type": "stream",
     "text": [
      " 11%|█         | 112/1000 [24:47<3:18:18, 13.40s/it, Energy=-2.10573+0.00000j ± 0.00037 [σ²=0.00017]]"
     ]
    },
    {
     "name": "stdout",
     "output_type": "stream",
     "text": [
      "--->> cal O and jac  0.05717110633850098\n",
      "compute_update  0.06123614311218262\n",
      "(0.041134617246466665+0j)\n",
      "n_discard =  144\n",
      "discard samples 1.7123160362243652\n",
      "n_samples_node =  1000\n",
      "generate_samples :  11.790218114852905\n",
      "     prepare getting local values 0.0026450157165527344\n",
      "     obtained local values 0.00842595100402832\n",
      "get_mc_stats 0.013670921325683594\n"
     ]
    },
    {
     "name": "stderr",
     "output_type": "stream",
     "text": [
      " 11%|█▏        | 113/1000 [25:00<3:18:47, 13.45s/it, Energy=-2.10594+0.00000j ± 0.00035 [σ²=0.00015]]"
     ]
    },
    {
     "name": "stdout",
     "output_type": "stream",
     "text": [
      "--->> cal O and jac  0.03937792778015137\n",
      "compute_update  0.042587995529174805\n",
      "(0.04098480958470718+0j)\n",
      "n_discard =  144\n",
      "discard samples 1.6846489906311035\n",
      "n_samples_node =  1000\n",
      "generate_samples :  11.502393007278442\n",
      "     prepare getting local values 0.0026421546936035156\n",
      "     obtained local values 0.008725166320800781\n",
      "get_mc_stats 0.014574050903320312\n"
     ]
    },
    {
     "name": "stderr",
     "output_type": "stream",
     "text": [
      " 11%|█▏        | 114/1000 [25:14<3:17:40, 13.39s/it, Energy=-2.10552+0.00000j ± 0.00037 [σ²=0.00014]]"
     ]
    },
    {
     "name": "stdout",
     "output_type": "stream",
     "text": [
      "--->> cal O and jac  0.03632783889770508\n",
      "compute_update  0.039517879486083984\n",
      "(0.040802847331964445+0j)\n",
      "n_discard =  144\n",
      "discard samples 1.6660051345825195\n",
      "n_samples_node =  1000\n",
      "generate_samples :  11.452574968338013\n",
      "     prepare getting local values 0.0024781227111816406\n",
      "     obtained local values 0.008192062377929688\n",
      "get_mc_stats 0.012187957763671875\n"
     ]
    },
    {
     "name": "stderr",
     "output_type": "stream",
     "text": [
      " 12%|█▏        | 115/1000 [25:27<3:16:30, 13.32s/it, Energy=-2.10590+0.00000j ± 0.00031 [σ²=0.00013]]"
     ]
    },
    {
     "name": "stdout",
     "output_type": "stream",
     "text": [
      "--->> cal O and jac  0.0362088680267334\n",
      "compute_update  0.039319753646850586\n",
      "(0.04063907021962403+0j)\n",
      "n_discard =  144\n",
      "discard samples 1.653825044631958\n",
      "n_samples_node =  1000\n",
      "generate_samples :  11.60093879699707\n",
      "     prepare getting local values 0.002246856689453125\n",
      "     obtained local values 0.00804901123046875\n",
      "get_mc_stats 0.011654853820800781\n"
     ]
    },
    {
     "name": "stderr",
     "output_type": "stream",
     "text": [
      " 12%|█▏        | 116/1000 [25:40<3:16:13, 13.32s/it, Energy=-2.10560+0.00000j ± 0.00037 [σ²=0.00014]]"
     ]
    },
    {
     "name": "stdout",
     "output_type": "stream",
     "text": [
      "--->> cal O and jac  0.03619098663330078\n",
      "compute_update  0.03936004638671875\n",
      "(0.040472039681608264+0j)\n",
      "n_discard =  144\n",
      "discard samples 1.6722850799560547\n",
      "n_samples_node =  1000\n",
      "generate_samples :  12.088854789733887\n",
      "     prepare getting local values 0.0022459030151367188\n",
      "     obtained local values 0.012017011642456055\n",
      "get_mc_stats 0.03382110595703125\n"
     ]
    },
    {
     "name": "stderr",
     "output_type": "stream",
     "text": [
      " 12%|█▏        | 117/1000 [25:54<3:18:25, 13.48s/it, Energy=-2.10595+0.00000j ± 0.00035 [σ²=0.00014]]"
     ]
    },
    {
     "name": "stdout",
     "output_type": "stream",
     "text": [
      "--->> cal O and jac  0.06164717674255371\n",
      "compute_update  0.06704998016357422\n",
      "(0.04029448660964306+0j)\n",
      "n_discard =  144\n",
      "discard samples 1.677325963973999\n",
      "n_samples_node =  1000\n",
      "generate_samples :  11.389768123626709\n",
      "     prepare getting local values 0.0022521018981933594\n",
      "     obtained local values 0.008094072341918945\n",
      "get_mc_stats 0.012264013290405273\n"
     ]
    },
    {
     "name": "stderr",
     "output_type": "stream",
     "text": [
      " 12%|█▏        | 118/1000 [26:07<3:16:36, 13.37s/it, Energy=-2.10544+0.00000j ± 0.00038 [σ²=0.00014]]"
     ]
    },
    {
     "name": "stdout",
     "output_type": "stream",
     "text": [
      "--->> cal O and jac  0.03668785095214844\n",
      "compute_update  0.04013180732727051\n",
      "(0.04013990721406981+0j)\n",
      "n_discard =  144\n",
      "discard samples 1.6667749881744385\n",
      "n_samples_node =  1000\n",
      "generate_samples :  11.408883810043335\n",
      "     prepare getting local values 0.0020530223846435547\n",
      "     obtained local values 0.00774383544921875\n",
      "get_mc_stats 0.012055158615112305\n"
     ]
    },
    {
     "name": "stderr",
     "output_type": "stream",
     "text": [
      " 12%|█▏        | 119/1000 [26:20<3:15:18, 13.30s/it, Energy=-2.10573+0.00000j ± 0.00037 [σ²=0.00012]]"
     ]
    },
    {
     "name": "stdout",
     "output_type": "stream",
     "text": [
      "--->> cal O and jac  0.03520393371582031\n",
      "compute_update  0.03834700584411621\n",
      "(0.03998135386447768+0j)\n",
      "n_discard =  144\n",
      "discard samples 1.6539568901062012\n",
      "n_samples_node =  1000\n",
      "generate_samples :  11.37418794631958\n",
      "     prepare getting local values 0.0022530555725097656\n",
      "     obtained local values 0.008050918579101562\n",
      "get_mc_stats 0.012045860290527344\n"
     ]
    },
    {
     "name": "stderr",
     "output_type": "stream",
     "text": [
      " 12%|█▏        | 120/1000 [26:33<3:14:06, 13.24s/it, Energy=-2.10617+0.00000j ± 0.00028 [σ²=0.00013]]"
     ]
    },
    {
     "name": "stdout",
     "output_type": "stream",
     "text": [
      "--->> cal O and jac  0.03632521629333496\n",
      "compute_update  0.03949999809265137\n",
      "(0.03983587527602512+0j)\n",
      "n_discard =  144\n",
      "discard samples 1.643523931503296\n",
      "n_samples_node =  1000\n",
      "generate_samples :  11.398230791091919\n",
      "     prepare getting local values 0.0023360252380371094\n",
      "     obtained local values 0.008064985275268555\n",
      "get_mc_stats 0.011814117431640625\n"
     ]
    },
    {
     "name": "stderr",
     "output_type": "stream",
     "text": [
      " 12%|█▏        | 121/1000 [26:46<3:13:19, 13.20s/it, Energy=-2.10566+0.00000j ± 0.00035 [σ²=0.00011]]"
     ]
    },
    {
     "name": "stdout",
     "output_type": "stream",
     "text": [
      "--->> cal O and jac  0.04478192329406738\n",
      "compute_update  0.04815506935119629\n",
      "(0.03969814124614823+0j)\n",
      "n_discard =  144\n",
      "discard samples 1.6990087032318115\n",
      "n_samples_node =  1000\n",
      "generate_samples :  11.45104193687439\n",
      "     prepare getting local values 0.0022771358489990234\n",
      "     obtained local values 0.008156061172485352\n",
      "get_mc_stats 0.01432180404663086\n"
     ]
    },
    {
     "name": "stderr",
     "output_type": "stream",
     "text": [
      " 12%|█▏        | 122/1000 [26:59<3:13:08, 13.20s/it, Energy=-2.10638+0.00000j ± 0.00026 [σ²=0.00013]]"
     ]
    },
    {
     "name": "stdout",
     "output_type": "stream",
     "text": [
      "--->> cal O and jac  0.03602266311645508\n",
      "compute_update  0.03917574882507324\n",
      "(0.039564566881867616+0j)\n",
      "n_discard =  144\n",
      "discard samples 1.6680717468261719\n",
      "n_samples_node =  1000\n",
      "generate_samples :  11.377202033996582\n",
      "     prepare getting local values 0.0019750595092773438\n",
      "     obtained local values 0.007819890975952148\n",
      "get_mc_stats 0.011927127838134766\n"
     ]
    },
    {
     "name": "stderr",
     "output_type": "stream",
     "text": [
      " 12%|█▏        | 123/1000 [27:13<3:12:29, 13.17s/it, Energy=-2.10514+0.00000j ± 0.00036 [σ²=0.00012]]"
     ]
    },
    {
     "name": "stdout",
     "output_type": "stream",
     "text": [
      "--->> cal O and jac  0.036247968673706055\n",
      "compute_update  0.03942608833312988\n",
      "(0.03942940294639148+0j)\n",
      "n_discard =  144\n",
      "discard samples 1.646632194519043\n",
      "n_samples_node =  1000\n",
      "generate_samples :  11.39628791809082\n",
      "     prepare getting local values 0.0023238658905029297\n",
      "     obtained local values 0.008108139038085938\n",
      "get_mc_stats 0.012423038482666016\n"
     ]
    },
    {
     "name": "stderr",
     "output_type": "stream",
     "text": [
      " 12%|█▏        | 124/1000 [27:26<3:11:57, 13.15s/it, Energy=-2.10522+0.00000j ± 0.00032 [σ²=0.00012]]"
     ]
    },
    {
     "name": "stdout",
     "output_type": "stream",
     "text": [
      "--->> cal O and jac  0.03768587112426758\n",
      "compute_update  0.04098677635192871\n",
      "(0.0392951304653681+0j)\n",
      "n_discard =  144\n",
      "discard samples 1.6447839736938477\n",
      "n_samples_node =  1000\n",
      "generate_samples :  11.327531099319458\n",
      "     prepare getting local values 0.0022420883178710938\n",
      "     obtained local values 0.007862091064453125\n",
      "get_mc_stats 0.012147903442382812\n"
     ]
    },
    {
     "name": "stderr",
     "output_type": "stream",
     "text": [
      " 12%|█▎        | 125/1000 [27:39<3:11:12, 13.11s/it, Energy=-2.10625+0.00000j ± 0.00033 [σ²=0.00011]]"
     ]
    },
    {
     "name": "stdout",
     "output_type": "stream",
     "text": [
      "--->> cal O and jac  0.03570985794067383\n",
      "compute_update  0.038822174072265625\n",
      "(0.03916524353482992+0j)\n",
      "n_discard =  144\n",
      "discard samples 1.647657871246338\n",
      "n_samples_node =  1000\n",
      "generate_samples :  11.365349054336548\n",
      "     prepare getting local values 0.0022249221801757812\n",
      "     obtained local values 0.008020877838134766\n",
      "get_mc_stats 0.012238025665283203\n"
     ]
    },
    {
     "name": "stderr",
     "output_type": "stream",
     "text": [
      " 13%|█▎        | 126/1000 [27:52<3:10:47, 13.10s/it, Energy=-2.10571+0.00000j ± 0.00037 [σ²=0.00011]]"
     ]
    },
    {
     "name": "stdout",
     "output_type": "stream",
     "text": [
      "--->> cal O and jac  0.035932064056396484\n",
      "compute_update  0.03894996643066406\n",
      "(0.03903918609228519+0j)\n",
      "n_discard =  144\n",
      "discard samples 1.644711971282959\n",
      "n_samples_node =  1000\n",
      "generate_samples :  11.335242986679077\n",
      "     prepare getting local values 0.001984119415283203\n",
      "     obtained local values 0.0076673030853271484\n",
      "get_mc_stats 0.01178121566772461\n"
     ]
    },
    {
     "name": "stderr",
     "output_type": "stream",
     "text": [
      " 13%|█▎        | 127/1000 [28:05<3:10:17, 13.08s/it, Energy=-2.10579+0.00000j ± 0.00036 [σ²=0.00011]]"
     ]
    },
    {
     "name": "stdout",
     "output_type": "stream",
     "text": [
      "--->> cal O and jac  0.035964012145996094\n",
      "compute_update  0.0390927791595459\n",
      "(0.03891817928712219+0j)\n",
      "n_discard =  144\n",
      "discard samples 1.6433899402618408\n",
      "n_samples_node =  1000\n",
      "generate_samples :  11.366091012954712\n",
      "     prepare getting local values 0.002104043960571289\n",
      "     obtained local values 0.00797724723815918\n",
      "get_mc_stats 0.012114763259887695\n"
     ]
    },
    {
     "name": "stderr",
     "output_type": "stream",
     "text": [
      " 13%|█▎        | 128/1000 [28:18<3:10:00, 13.07s/it, Energy=-2.10606+0.00000j ± 0.00036 [σ²=0.00012]]"
     ]
    },
    {
     "name": "stdout",
     "output_type": "stream",
     "text": [
      "--->> cal O and jac  0.035524845123291016\n",
      "compute_update  0.03879594802856445\n",
      "(0.03879599206612177+0j)\n",
      "n_discard =  144\n",
      "discard samples 1.6429908275604248\n",
      "n_samples_node =  1000\n",
      "generate_samples :  11.36073613166809\n",
      "     prepare getting local values 0.0025730133056640625\n",
      "     obtained local values 0.008974075317382812\n",
      "get_mc_stats 0.013617992401123047\n"
     ]
    },
    {
     "name": "stderr",
     "output_type": "stream",
     "text": [
      " 13%|█▎        | 129/1000 [28:31<3:09:44, 13.07s/it, Energy=-2.10560+0.00000j ± 0.00038 [σ²=0.00011]]"
     ]
    },
    {
     "name": "stdout",
     "output_type": "stream",
     "text": [
      "--->> cal O and jac  0.03920578956604004\n",
      "compute_update  0.04369187355041504\n",
      "(0.038671779516959215+0j)\n",
      "n_discard =  144\n",
      "discard samples 1.7052452564239502\n",
      "n_samples_node =  1000\n",
      "generate_samples :  11.81516981124878\n",
      "     prepare getting local values 0.002732992172241211\n",
      "     obtained local values 0.009077072143554688\n",
      "get_mc_stats 0.014124155044555664\n"
     ]
    },
    {
     "name": "stderr",
     "output_type": "stream",
     "text": [
      " 13%|█▎        | 130/1000 [28:45<3:11:50, 13.23s/it, Energy=-2.10583+0.00000j ± 0.00031 [σ²=0.00011]]"
     ]
    },
    {
     "name": "stdout",
     "output_type": "stream",
     "text": [
      "--->> cal O and jac  0.05250883102416992\n",
      "compute_update  0.05909299850463867\n",
      "(0.03855780725128951+0j)\n",
      "n_discard =  144\n",
      "discard samples 1.7323830127716064\n",
      "n_samples_node =  1000\n",
      "generate_samples :  11.789422035217285\n",
      "     prepare getting local values 0.0027687549591064453\n",
      "     obtained local values 0.008815765380859375\n",
      "get_mc_stats 0.013098955154418945\n"
     ]
    },
    {
     "name": "stderr",
     "output_type": "stream",
     "text": [
      " 13%|█▎        | 131/1000 [28:58<3:13:10, 13.34s/it, Energy=-2.10617+0.00000j ± 0.00027 [σ²=0.00011]]"
     ]
    },
    {
     "name": "stdout",
     "output_type": "stream",
     "text": [
      "--->> cal O and jac  0.043324947357177734\n",
      "compute_update  0.04749703407287598\n",
      "(0.03844867363868878+0j)\n",
      "n_discard =  144\n",
      "discard samples 1.7191529273986816\n",
      "n_samples_node =  1000\n",
      "generate_samples :  11.75075888633728\n",
      "     prepare getting local values 0.0027511119842529297\n",
      "     obtained local values 0.008481979370117188\n",
      "get_mc_stats 0.012831926345825195\n"
     ]
    },
    {
     "name": "stderr",
     "output_type": "stream",
     "text": [
      " 13%|█▎        | 132/1000 [29:12<3:13:46, 13.39s/it, Energy=-2.10558+0.00000j ± 0.00037 [σ²=0.00011]]"
     ]
    },
    {
     "name": "stdout",
     "output_type": "stream",
     "text": [
      "--->> cal O and jac  0.03883194923400879\n",
      "compute_update  0.04197406768798828\n",
      "(0.03832666297694701+0j)\n",
      "n_discard =  144\n",
      "discard samples 1.6474177837371826\n",
      "n_samples_node =  1000\n",
      "generate_samples :  11.341491937637329\n",
      "     prepare getting local values 0.0022618770599365234\n",
      "     obtained local values 0.007974863052368164\n",
      "get_mc_stats 0.012199878692626953\n"
     ]
    },
    {
     "name": "stderr",
     "output_type": "stream",
     "text": [
      " 13%|█▎        | 133/1000 [29:25<3:12:01, 13.29s/it, Energy=-2.10569+0.00000j ± 0.00027 [σ²=0.00011]]"
     ]
    },
    {
     "name": "stdout",
     "output_type": "stream",
     "text": [
      "--->> cal O and jac  0.035423994064331055\n",
      "compute_update  0.03842306137084961\n",
      "(0.03821881678215509+0j)\n",
      "n_discard =  144\n",
      "discard samples 1.64695405960083\n",
      "n_samples_node =  1000\n",
      "generate_samples :  11.36540699005127\n",
      "     prepare getting local values 0.0022430419921875\n",
      "     obtained local values 0.007915973663330078\n",
      "get_mc_stats 0.011934757232666016\n"
     ]
    },
    {
     "name": "stderr",
     "output_type": "stream",
     "text": [
      " 13%|█▎        | 134/1000 [29:38<3:10:50, 13.22s/it, Energy=-2.10553+0.00000j ± 0.00037 [σ²=0.00010]]"
     ]
    },
    {
     "name": "stdout",
     "output_type": "stream",
     "text": [
      "--->> cal O and jac  0.03733420372009277\n",
      "compute_update  0.04054403305053711\n",
      "(0.03810782001399701+0j)\n",
      "n_discard =  144\n",
      "discard samples 1.7422399520874023\n",
      "n_samples_node =  1000\n",
      "generate_samples :  11.652317762374878\n",
      "     prepare getting local values 0.002360105514526367\n",
      "     obtained local values 0.008090019226074219\n",
      "get_mc_stats 0.012271881103515625\n"
     ]
    },
    {
     "name": "stderr",
     "output_type": "stream",
     "text": [
      " 14%|█▎        | 135/1000 [29:51<3:11:36, 13.29s/it, Energy=-2.10604+0.00000j ± 0.00032 [σ²=0.00011]]"
     ]
    },
    {
     "name": "stdout",
     "output_type": "stream",
     "text": [
      "--->> cal O and jac  0.03791213035583496\n",
      "compute_update  0.04115414619445801\n",
      "(0.03800054547035826+0j)\n",
      "n_discard =  144\n",
      "discard samples 1.6902430057525635\n",
      "n_samples_node =  1000\n",
      "generate_samples :  11.423107147216797\n",
      "     prepare getting local values 0.0023729801177978516\n",
      "     obtained local values 0.008076190948486328\n",
      "get_mc_stats 0.012195110321044922\n"
     ]
    },
    {
     "name": "stderr",
     "output_type": "stream",
     "text": [
      " 14%|█▎        | 136/1000 [30:04<3:10:51, 13.25s/it, Energy=-2.10642+0.00000j ± 0.00035 [σ²=0.00010]]"
     ]
    },
    {
     "name": "stdout",
     "output_type": "stream",
     "text": [
      "--->> cal O and jac  0.036460161209106445\n",
      "compute_update  0.03978610038757324\n",
      "(0.03789057467385694+0j)\n",
      "n_discard =  144\n",
      "discard samples 1.645219087600708\n",
      "n_samples_node =  1000\n",
      "generate_samples :  11.335910081863403\n",
      "     prepare getting local values 0.0022172927856445312\n",
      "     obtained local values 0.008109092712402344\n",
      "get_mc_stats 0.012552022933959961\n"
     ]
    },
    {
     "name": "stderr",
     "output_type": "stream",
     "text": [
      " 14%|█▎        | 137/1000 [30:17<3:09:41, 13.19s/it, Energy=-2.10570+0.00000j ± 0.00030 [σ²=0.00011]]"
     ]
    },
    {
     "name": "stdout",
     "output_type": "stream",
     "text": [
      "--->> cal O and jac  0.03564715385437012\n",
      "compute_update  0.03875899314880371\n",
      "(0.0377951873237953+0j)\n",
      "n_discard =  144\n",
      "discard samples 1.645845890045166\n",
      "n_samples_node =  1000\n",
      "generate_samples :  11.321930885314941\n",
      "     prepare getting local values 0.0022139549255371094\n",
      "     obtained local values 0.008076906204223633\n",
      "get_mc_stats 0.01210331916809082\n"
     ]
    },
    {
     "name": "stderr",
     "output_type": "stream",
     "text": [
      " 14%|█▍        | 138/1000 [30:30<3:08:44, 13.14s/it, Energy=-2.10603+0.00000j ± 0.00027 [σ²=0.00010]]"
     ]
    },
    {
     "name": "stdout",
     "output_type": "stream",
     "text": [
      "--->> cal O and jac  0.03501701354980469\n",
      "compute_update  0.03814196586608887\n",
      "(0.037706845394925824+0j)\n",
      "n_discard =  144\n",
      "discard samples 1.646888256072998\n",
      "n_samples_node =  1000\n",
      "generate_samples :  11.8230299949646\n",
      "     prepare getting local values 0.002585887908935547\n",
      "     obtained local values 0.008713960647583008\n",
      "get_mc_stats 0.014957904815673828\n"
     ]
    },
    {
     "name": "stderr",
     "output_type": "stream",
     "text": [
      " 14%|█▍        | 139/1000 [30:44<3:10:13, 13.26s/it, Energy=-2.10550+0.00000j ± 0.00036 [σ²=0.00010]]"
     ]
    },
    {
     "name": "stdout",
     "output_type": "stream",
     "text": [
      "--->> cal O and jac  0.04249000549316406\n",
      "compute_update  0.04604291915893555\n",
      "(0.03760702040306197+0j)\n",
      "n_discard =  144\n",
      "discard samples 1.770956039428711\n",
      "n_samples_node =  1000\n",
      "generate_samples :  12.101243734359741\n",
      "     prepare getting local values 0.002355813980102539\n",
      "     obtained local values 0.00802469253540039\n",
      "get_mc_stats 0.013142108917236328\n"
     ]
    },
    {
     "name": "stderr",
     "output_type": "stream",
     "text": [
      " 14%|█▍        | 140/1000 [30:58<3:12:59, 13.46s/it, Energy=-2.10638+0.00000j ± 0.00036 [σ²=0.00011]]"
     ]
    },
    {
     "name": "stdout",
     "output_type": "stream",
     "text": [
      "--->> cal O and jac  0.05786609649658203\n",
      "compute_update  0.06273317337036133\n",
      "(0.03752015462732607+0j)\n",
      "n_discard =  144\n",
      "discard samples 1.7442021369934082\n",
      "n_samples_node =  1000\n",
      "generate_samples :  12.552721738815308\n",
      "     prepare getting local values 0.002498149871826172\n",
      "     obtained local values 0.00974726676940918\n",
      "get_mc_stats 0.014375925064086914\n"
     ]
    },
    {
     "name": "stderr",
     "output_type": "stream",
     "text": [
      " 14%|█▍        | 141/1000 [31:12<3:16:39, 13.74s/it, Energy=-2.10656+0.00000j ± 0.00038 [σ²=0.00010]]"
     ]
    },
    {
     "name": "stdout",
     "output_type": "stream",
     "text": [
      "--->> cal O and jac  0.05016589164733887\n",
      "compute_update  0.05531597137451172\n",
      "(0.037455319541261516+0j)\n",
      "n_discard =  144\n",
      "discard samples 2.1791608333587646\n",
      "n_samples_node =  1000\n",
      "generate_samples :  12.585933685302734\n",
      "     prepare getting local values 0.0026848316192626953\n",
      "     obtained local values 0.00913381576538086\n",
      "get_mc_stats 0.013726949691772461\n"
     ]
    },
    {
     "name": "stderr",
     "output_type": "stream",
     "text": [
      " 14%|█▍        | 142/1000 [31:27<3:21:06, 14.06s/it, Energy=-2.10631+0.00000j ± 0.00030 [σ²=0.00011]]"
     ]
    },
    {
     "name": "stdout",
     "output_type": "stream",
     "text": [
      "--->> cal O and jac  0.03986215591430664\n",
      "compute_update  0.04381608963012695\n",
      "(0.037390547632650525+0j)\n",
      "n_discard =  144\n",
      "discard samples 1.7444748878479004\n",
      "n_samples_node =  1000\n",
      "generate_samples :  11.693755149841309\n",
      "     prepare getting local values 0.0024797916412353516\n",
      "     obtained local values 0.008758068084716797\n",
      "get_mc_stats 0.014250040054321289\n"
     ]
    },
    {
     "name": "stderr",
     "output_type": "stream",
     "text": [
      " 14%|█▍        | 143/1000 [31:41<3:18:26, 13.89s/it, Energy=-2.10593+0.00000j ± 0.00028 [σ²=0.00010]]"
     ]
    },
    {
     "name": "stdout",
     "output_type": "stream",
     "text": [
      "--->> cal O and jac  0.03768777847290039\n",
      "compute_update  0.04127001762390137\n",
      "(0.037317334541645264+0j)\n",
      "n_discard =  144\n",
      "discard samples 1.6769559383392334\n",
      "n_samples_node =  1000\n",
      "generate_samples :  11.8544340133667\n",
      "     prepare getting local values 0.002447843551635742\n",
      "     obtained local values 0.008374929428100586\n",
      "get_mc_stats 0.01342916488647461\n"
     ]
    },
    {
     "name": "stderr",
     "output_type": "stream",
     "text": [
      " 14%|█▍        | 144/1000 [31:54<3:16:55, 13.80s/it, Energy=-2.10659+0.00000j ± 0.00029 [σ²=0.00011]]"
     ]
    },
    {
     "name": "stdout",
     "output_type": "stream",
     "text": [
      "--->> cal O and jac  0.041937828063964844\n",
      "compute_update  0.044996023178100586\n",
      "(0.03725397504465316+0j)\n",
      "n_discard =  144\n",
      "discard samples 1.6999680995941162\n",
      "n_samples_node =  1000\n",
      "generate_samples :  11.854346990585327\n",
      "     prepare getting local values 0.002538919448852539\n",
      "     obtained local values 0.009522199630737305\n",
      "get_mc_stats 0.015208959579467773\n"
     ]
    },
    {
     "name": "stderr",
     "output_type": "stream",
     "text": [
      " 14%|█▍        | 145/1000 [32:08<3:15:55, 13.75s/it, Energy=-2.10551+0.00000j ± 0.00030 [σ²=0.00010]]"
     ]
    },
    {
     "name": "stdout",
     "output_type": "stream",
     "text": [
      "--->> cal O and jac  0.044551849365234375\n",
      "compute_update  0.050322771072387695\n",
      "(0.03719052855205675+0j)\n",
      "n_discard =  144\n",
      "discard samples 1.7471849918365479\n",
      "n_samples_node =  1000\n",
      "generate_samples :  12.038265943527222\n",
      "     prepare getting local values 0.0025217533111572266\n",
      "     obtained local values 0.008383989334106445\n",
      "get_mc_stats 0.012765884399414062\n"
     ]
    },
    {
     "name": "stderr",
     "output_type": "stream",
     "text": [
      " 15%|█▍        | 146/1000 [32:22<3:16:04, 13.78s/it, Energy=-2.10613+0.00000j ± 0.00033 [σ²=0.00011]]"
     ]
    },
    {
     "name": "stdout",
     "output_type": "stream",
     "text": [
      "--->> cal O and jac  0.0356600284576416\n",
      "compute_update  0.03929781913757324\n",
      "(0.03713298713033819+0j)\n",
      "n_discard =  144\n",
      "discard samples 1.6596081256866455\n",
      "n_samples_node =  1000\n",
      "generate_samples :  12.057546138763428\n",
      "     prepare getting local values 0.0023381710052490234\n",
      "     obtained local values 0.008156061172485352\n",
      "get_mc_stats 0.012263774871826172\n"
     ]
    },
    {
     "name": "stderr",
     "output_type": "stream",
     "text": [
      " 15%|█▍        | 147/1000 [32:35<3:15:50, 13.78s/it, Energy=-2.10642+0.00000j ± 0.00033 [σ²=0.00011]]"
     ]
    },
    {
     "name": "stdout",
     "output_type": "stream",
     "text": [
      "--->> cal O and jac  0.03986001014709473\n",
      "compute_update  0.043444156646728516\n",
      "(0.037066258334750975+0j)\n",
      "n_discard =  144\n",
      "discard samples 1.651798963546753\n",
      "n_samples_node =  1000\n",
      "generate_samples :  11.801517248153687\n",
      "     prepare getting local values 0.0024566650390625\n",
      "     obtained local values 0.008248090744018555\n",
      "get_mc_stats 0.012658834457397461\n"
     ]
    },
    {
     "name": "stderr",
     "output_type": "stream",
     "text": [
      " 15%|█▍        | 148/1000 [32:49<3:14:31, 13.70s/it, Energy=-2.10561+0.00000j ± 0.00037 [σ²=0.00011]]"
     ]
    },
    {
     "name": "stdout",
     "output_type": "stream",
     "text": [
      "--->> cal O and jac  0.04642891883850098\n",
      "compute_update  0.05178189277648926\n",
      "(0.036982066045968+0j)\n",
      "n_discard =  144\n",
      "discard samples 1.8943138122558594\n",
      "n_samples_node =  1000\n",
      "generate_samples :  11.903959035873413\n",
      "     prepare getting local values 0.0024089813232421875\n",
      "     obtained local values 0.008244991302490234\n",
      "get_mc_stats 0.012805700302124023\n"
     ]
    },
    {
     "name": "stderr",
     "output_type": "stream",
     "text": [
      " 15%|█▍        | 149/1000 [33:03<3:14:57, 13.75s/it, Energy=-2.10611+0.00000j ± 0.00031 [σ²=0.00009]]"
     ]
    },
    {
     "name": "stdout",
     "output_type": "stream",
     "text": [
      "--->> cal O and jac  0.03634309768676758\n",
      "compute_update  0.03991103172302246\n",
      "(0.03693029443644193+0j)\n",
      "n_discard =  144\n",
      "discard samples 1.653733253479004\n",
      "n_samples_node =  1000\n",
      "generate_samples :  11.630364179611206\n",
      "     prepare getting local values 0.002454042434692383\n",
      "     obtained local values 0.008593320846557617\n",
      "get_mc_stats 0.014863014221191406\n"
     ]
    },
    {
     "name": "stderr",
     "output_type": "stream",
     "text": [
      " 15%|█▌        | 150/1000 [33:16<3:13:02, 13.63s/it, Energy=-2.10574+0.00000j ± 0.00024 [σ²=0.00010]]"
     ]
    },
    {
     "name": "stdout",
     "output_type": "stream",
     "text": [
      "--->> cal O and jac  0.042016029357910156\n",
      "compute_update  0.04608798027038574\n",
      "(0.03690354852408725+0j)\n",
      "n_discard =  144\n",
      "discard samples 1.6946420669555664\n",
      "n_samples_node =  1000\n",
      "generate_samples :  11.581437110900879\n",
      "     prepare getting local values 0.0022118091583251953\n",
      "     obtained local values 0.007970809936523438\n",
      "get_mc_stats 0.012624979019165039\n"
     ]
    },
    {
     "name": "stderr",
     "output_type": "stream",
     "text": [
      " 15%|█▌        | 151/1000 [33:30<3:11:34, 13.54s/it, Energy=-2.10560+0.00000j ± 0.00021 [σ²=0.00009]]"
     ]
    },
    {
     "name": "stdout",
     "output_type": "stream",
     "text": [
      "--->> cal O and jac  0.038639068603515625\n",
      "compute_update  0.043586015701293945\n",
      "(0.03685926183882308+0j)\n",
      "n_discard =  144\n",
      "discard samples 1.6696381568908691\n",
      "n_samples_node =  1000\n",
      "generate_samples :  11.643895149230957\n",
      "     prepare getting local values 0.0023632049560546875\n",
      "     obtained local values 0.008374929428100586\n",
      "get_mc_stats 0.01313018798828125\n"
     ]
    },
    {
     "name": "stderr",
     "output_type": "stream",
     "text": [
      " 15%|█▌        | 152/1000 [33:43<3:10:37, 13.49s/it, Energy=-2.10546+0.00000j ± 0.00032 [σ²=0.00010]]"
     ]
    },
    {
     "name": "stdout",
     "output_type": "stream",
     "text": [
      "--->> cal O and jac  0.036664724349975586\n",
      "compute_update  0.04022502899169922\n",
      "(0.03682091333611047+0j)\n",
      "n_discard =  144\n",
      "discard samples 1.7292098999023438\n",
      "n_samples_node =  1000\n",
      "generate_samples :  12.174326658248901\n",
      "     prepare getting local values 0.003003835678100586\n",
      "     obtained local values 0.008987903594970703\n",
      "get_mc_stats 0.01419210433959961\n"
     ]
    },
    {
     "name": "stderr",
     "output_type": "stream",
     "text": [
      " 15%|█▌        | 153/1000 [33:57<3:12:25, 13.63s/it, Energy=-2.10630+0.00000j ± 0.00030 [σ²=0.00010]]"
     ]
    },
    {
     "name": "stdout",
     "output_type": "stream",
     "text": [
      "--->> cal O and jac  0.040962934494018555\n",
      "compute_update  0.04470109939575195\n",
      "(0.03679525296950232+0j)\n",
      "n_discard =  144\n",
      "discard samples 1.7264010906219482\n",
      "n_samples_node =  1000\n",
      "generate_samples :  11.664368867874146\n",
      "     prepare getting local values 0.001964092254638672\n",
      "     obtained local values 0.007810115814208984\n",
      "get_mc_stats 0.011884927749633789\n"
     ]
    },
    {
     "name": "stderr",
     "output_type": "stream",
     "text": [
      " 15%|█▌        | 154/1000 [34:10<3:11:25, 13.58s/it, Energy=-2.10574+0.00000j ± 0.00033 [σ²=0.00011]]"
     ]
    },
    {
     "name": "stdout",
     "output_type": "stream",
     "text": [
      "--->> cal O and jac  0.037805795669555664\n",
      "compute_update  0.041864871978759766\n",
      "(0.036755725253286776+0j)\n",
      "n_discard =  144\n",
      "discard samples 1.693871021270752\n",
      "n_samples_node =  1000\n",
      "generate_samples :  11.573564291000366\n",
      "     prepare getting local values 0.002337932586669922\n",
      "     obtained local values 0.007966995239257812\n",
      "get_mc_stats 0.012325763702392578\n"
     ]
    },
    {
     "name": "stderr",
     "output_type": "stream",
     "text": [
      " 16%|█▌        | 155/1000 [34:24<3:10:08, 13.50s/it, Energy=-2.10564+0.00000j ± 0.00032 [σ²=0.00009]]"
     ]
    },
    {
     "name": "stdout",
     "output_type": "stream",
     "text": [
      "--->> cal O and jac  0.03849315643310547\n",
      "compute_update  0.042130231857299805\n",
      "(0.03671091439994661+0j)\n",
      "n_discard =  144\n",
      "discard samples 1.6527771949768066\n",
      "n_samples_node =  1000\n",
      "generate_samples :  11.471703052520752\n",
      "     prepare getting local values 0.0022978782653808594\n",
      "     obtained local values 0.008230924606323242\n",
      "get_mc_stats 0.012265920639038086\n"
     ]
    },
    {
     "name": "stderr",
     "output_type": "stream",
     "text": [
      " 16%|█▌        | 156/1000 [34:37<3:08:33, 13.40s/it, Energy=-2.10537+0.00000j ± 0.00031 [σ²=0.00009]]"
     ]
    },
    {
     "name": "stdout",
     "output_type": "stream",
     "text": [
      "--->> cal O and jac  0.03606295585632324\n",
      "compute_update  0.03947806358337402\n",
      "(0.03665857903688195+0j)\n",
      "n_discard =  144\n",
      "discard samples 1.6615259647369385\n",
      "n_samples_node =  1000\n",
      "generate_samples :  11.583526849746704\n",
      "     prepare getting local values 0.002084016799926758\n",
      "     obtained local values 0.008383989334106445\n",
      "get_mc_stats 0.013179779052734375\n"
     ]
    },
    {
     "name": "stderr",
     "output_type": "stream",
     "text": [
      " 16%|█▌        | 157/1000 [34:50<3:07:55, 13.37s/it, Energy=-2.10608+0.00000j ± 0.00033 [σ²=0.00009]]"
     ]
    },
    {
     "name": "stdout",
     "output_type": "stream",
     "text": [
      "--->> cal O and jac  0.04265284538269043\n",
      "compute_update  0.04576301574707031\n",
      "(0.036629697848549386+0j)\n",
      "n_discard =  144\n",
      "discard samples 1.6702880859375\n",
      "n_samples_node =  1000\n",
      "generate_samples :  11.801805019378662\n",
      "     prepare getting local values 0.002246856689453125\n",
      "     obtained local values 0.007942914962768555\n",
      "get_mc_stats 0.01226806640625\n"
     ]
    },
    {
     "name": "stderr",
     "output_type": "stream",
     "text": [
      " 16%|█▌        | 158/1000 [35:04<3:08:20, 13.42s/it, Energy=-2.10600+0.00000j ± 0.00030 [σ²=0.00009]]"
     ]
    },
    {
     "name": "stdout",
     "output_type": "stream",
     "text": [
      "--->> cal O and jac  0.03709530830383301\n",
      "compute_update  0.04043912887573242\n",
      "(0.036591926435615485+0j)\n",
      "n_discard =  144\n",
      "discard samples 1.6898670196533203\n",
      "n_samples_node =  1000\n",
      "generate_samples :  11.740681886672974\n",
      "     prepare getting local values 0.0022640228271484375\n",
      "     obtained local values 0.00801396369934082\n",
      "get_mc_stats 0.012209892272949219\n"
     ]
    },
    {
     "name": "stderr",
     "output_type": "stream",
     "text": [
      " 16%|█▌        | 159/1000 [35:17<3:08:23, 13.44s/it, Energy=-2.10572+0.00000j ± 0.00026 [σ²=0.00008]]"
     ]
    },
    {
     "name": "stdout",
     "output_type": "stream",
     "text": [
      "--->> cal O and jac  0.03796577453613281\n",
      "compute_update  0.04158186912536621\n",
      "(0.03655422751178932+0j)\n",
      "n_discard =  144\n",
      "discard samples 1.6587462425231934\n",
      "n_samples_node =  1000\n",
      "generate_samples :  11.66580581665039\n",
      "     prepare getting local values 0.0020890235900878906\n",
      "     obtained local values 0.00780797004699707\n",
      "get_mc_stats 0.012375116348266602\n"
     ]
    },
    {
     "name": "stderr",
     "output_type": "stream",
     "text": [
      " 16%|█▌        | 160/1000 [35:30<3:07:54, 13.42s/it, Energy=-2.10560+0.00000j ± 0.00033 [σ²=0.00010]]"
     ]
    },
    {
     "name": "stdout",
     "output_type": "stream",
     "text": [
      "--->> cal O and jac  0.036043643951416016\n",
      "compute_update  0.03937578201293945\n",
      "(0.036520222927772954+0j)\n",
      "n_discard =  144\n",
      "discard samples 1.6553781032562256\n",
      "n_samples_node =  1000\n",
      "generate_samples :  11.769175052642822\n",
      "     prepare getting local values 0.0023469924926757812\n",
      "     obtained local values 0.008305788040161133\n",
      "get_mc_stats 0.012678146362304688\n"
     ]
    },
    {
     "name": "stderr",
     "output_type": "stream",
     "text": [
      " 16%|█▌        | 161/1000 [35:44<3:07:56, 13.44s/it, Energy=-2.10605+0.00000j ± 0.00043 [σ²=0.00009]]"
     ]
    },
    {
     "name": "stdout",
     "output_type": "stream",
     "text": [
      "--->> cal O and jac  0.0394282341003418\n",
      "compute_update  0.042984962463378906\n",
      "(0.036491392425391754+0j)\n",
      "n_discard =  144\n",
      "discard samples 1.72361421585083\n",
      "n_samples_node =  1000\n",
      "generate_samples :  11.656682968139648\n",
      "     prepare getting local values 0.002434968948364258\n",
      "     obtained local values 0.008197784423828125\n",
      "get_mc_stats 0.012718915939331055\n"
     ]
    },
    {
     "name": "stderr",
     "output_type": "stream",
     "text": [
      " 16%|█▌        | 162/1000 [35:57<3:07:42, 13.44s/it, Energy=-2.10637+0.00000j ± 0.00032 [σ²=0.00009]]"
     ]
    },
    {
     "name": "stdout",
     "output_type": "stream",
     "text": [
      "--->> cal O and jac  0.03951215744018555\n",
      "compute_update  0.04274916648864746\n",
      "(0.03646529150326615+0j)\n",
      "n_discard =  144\n",
      "discard samples 1.672935962677002\n",
      "n_samples_node =  1000\n",
      "generate_samples :  11.46657919883728\n",
      "     prepare getting local values 0.0026531219482421875\n",
      "     obtained local values 0.008252143859863281\n",
      "get_mc_stats 0.013052940368652344\n"
     ]
    },
    {
     "name": "stderr",
     "output_type": "stream",
     "text": [
      " 16%|█▋        | 163/1000 [36:11<3:06:27, 13.37s/it, Energy=-2.10600+0.00000j ± 0.00026 [σ²=0.00009]]"
     ]
    },
    {
     "name": "stdout",
     "output_type": "stream",
     "text": [
      "--->> cal O and jac  0.03631997108459473\n",
      "compute_update  0.03937721252441406\n",
      "(0.036435381801728645+0j)\n",
      "n_discard =  144\n",
      "discard samples 1.6941018104553223\n",
      "n_samples_node =  1000\n",
      "generate_samples :  11.736639022827148\n",
      "     prepare getting local values 0.0023810863494873047\n",
      "     obtained local values 0.008241891860961914\n",
      "get_mc_stats 0.012517213821411133\n"
     ]
    },
    {
     "name": "stderr",
     "output_type": "stream",
     "text": [
      " 16%|█▋        | 164/1000 [36:24<3:06:44, 13.40s/it, Energy=-2.10599+0.00000j ± 0.00024 [σ²=0.00009]]"
     ]
    },
    {
     "name": "stdout",
     "output_type": "stream",
     "text": [
      "--->> cal O and jac  0.0378718376159668\n",
      "compute_update  0.04155898094177246\n",
      "(0.03639665468044244+0j)\n",
      "n_discard =  144\n",
      "discard samples 1.7038428783416748\n",
      "n_samples_node =  1000\n",
      "generate_samples :  12.606137037277222\n",
      "     prepare getting local values 0.002756834030151367\n",
      "     obtained local values 0.00869297981262207\n",
      "get_mc_stats 0.013143062591552734\n"
     ]
    },
    {
     "name": "stderr",
     "output_type": "stream",
     "text": [
      " 16%|█▋        | 165/1000 [36:38<3:10:33, 13.69s/it, Energy=-2.10561+0.00000j ± 0.00033 [σ²=0.00008]]"
     ]
    },
    {
     "name": "stdout",
     "output_type": "stream",
     "text": [
      "--->> cal O and jac  0.03960394859313965\n",
      "compute_update  0.04375171661376953\n",
      "(0.036372611546506534+0j)\n",
      "n_discard =  144\n",
      "discard samples 1.7650339603424072\n",
      "n_samples_node =  1000\n",
      "generate_samples :  11.988363981246948\n",
      "     prepare getting local values 0.002622842788696289\n",
      "     obtained local values 0.00827789306640625\n",
      "get_mc_stats 0.013258934020996094\n"
     ]
    },
    {
     "name": "stderr",
     "output_type": "stream",
     "text": [
      " 17%|█▋        | 166/1000 [36:52<3:10:49, 13.73s/it, Energy=-2.10576+0.00000j ± 0.00025 [σ²=0.00008]]"
     ]
    },
    {
     "name": "stdout",
     "output_type": "stream",
     "text": [
      "--->> cal O and jac  0.03725600242614746\n",
      "compute_update  0.040402889251708984\n",
      "(0.03634787964842366+0j)\n",
      "n_discard =  144\n",
      "discard samples 1.656601905822754\n",
      "n_samples_node =  1000\n",
      "generate_samples :  11.555126190185547\n",
      "     prepare getting local values 0.002140045166015625\n",
      "     obtained local values 0.007676124572753906\n",
      "get_mc_stats 0.011909961700439453\n"
     ]
    },
    {
     "name": "stderr",
     "output_type": "stream",
     "text": [
      " 17%|█▋        | 167/1000 [37:06<3:08:39, 13.59s/it, Energy=-2.10579+0.00000j ± 0.00032 [σ²=0.00008]]"
     ]
    },
    {
     "name": "stdout",
     "output_type": "stream",
     "text": [
      "--->> cal O and jac  0.037130117416381836\n",
      "compute_update  0.04020118713378906\n",
      "(0.03631467067784345+0j)\n",
      "n_discard =  144\n",
      "discard samples 1.6790111064910889\n",
      "n_samples_node =  1000\n",
      "generate_samples :  11.38808012008667\n",
      "     prepare getting local values 0.0023717880249023438\n",
      "     obtained local values 0.008049726486206055\n",
      "get_mc_stats 0.012037277221679688\n"
     ]
    },
    {
     "name": "stderr",
     "output_type": "stream",
     "text": [
      " 17%|█▋        | 168/1000 [37:19<3:06:29, 13.45s/it, Energy=-2.10580+0.00000j ± 0.00031 [σ²=0.00008]]"
     ]
    },
    {
     "name": "stdout",
     "output_type": "stream",
     "text": [
      "--->> cal O and jac  0.03683280944824219\n",
      "compute_update  0.040097951889038086\n",
      "(0.03628717896479643+0j)\n",
      "n_discard =  144\n",
      "discard samples 1.6484150886535645\n",
      "n_samples_node =  1000\n",
      "generate_samples :  11.561307191848755\n",
      "     prepare getting local values 0.002410411834716797\n",
      "     obtained local values 0.008011102676391602\n",
      "get_mc_stats 0.012455940246582031\n"
     ]
    },
    {
     "name": "stderr",
     "output_type": "stream",
     "text": [
      " 17%|█▋        | 169/1000 [37:32<3:05:30, 13.39s/it, Energy=-2.10599+0.00000j ± 0.00026 [σ²=0.00008]]"
     ]
    },
    {
     "name": "stdout",
     "output_type": "stream",
     "text": [
      "--->> cal O and jac  0.037496089935302734\n",
      "compute_update  0.04079627990722656\n",
      "(0.03626759359556171+0j)\n",
      "n_discard =  144\n",
      "discard samples 1.670478105545044\n",
      "n_samples_node =  1000\n",
      "generate_samples :  11.781738042831421\n",
      "     prepare getting local values 0.002393960952758789\n",
      "     obtained local values 0.007977962493896484\n",
      "get_mc_stats 0.01217794418334961\n"
     ]
    },
    {
     "name": "stderr",
     "output_type": "stream",
     "text": [
      " 17%|█▋        | 170/1000 [37:45<3:05:45, 13.43s/it, Energy=-2.10567+0.00000j ± 0.00024 [σ²=0.00008]]"
     ]
    },
    {
     "name": "stdout",
     "output_type": "stream",
     "text": [
      "--->> cal O and jac  0.037515878677368164\n",
      "compute_update  0.04111790657043457\n",
      "(0.03625447109448445+0j)\n",
      "n_discard =  144\n",
      "discard samples 1.78485107421875\n",
      "n_samples_node =  1000\n",
      "generate_samples :  11.572686910629272\n",
      "     prepare getting local values 0.002161741256713867\n",
      "     obtained local values 0.008419990539550781\n",
      "get_mc_stats 0.012430191040039062\n"
     ]
    },
    {
     "name": "stderr",
     "output_type": "stream",
     "text": [
      " 17%|█▋        | 171/1000 [37:59<3:05:28, 13.42s/it, Energy=-2.10607+0.00000j ± 0.00032 [σ²=0.00008]]"
     ]
    },
    {
     "name": "stdout",
     "output_type": "stream",
     "text": [
      "--->> cal O and jac  0.036415815353393555\n",
      "compute_update  0.04004693031311035\n",
      "(0.03626781752737998+0j)\n",
      "n_discard =  144\n",
      "discard samples 1.6789281368255615\n",
      "n_samples_node =  1000\n",
      "generate_samples :  11.549261093139648\n",
      "     prepare getting local values 0.0023539066314697266\n",
      "     obtained local values 0.008413076400756836\n",
      "get_mc_stats 0.012537717819213867\n"
     ]
    },
    {
     "name": "stderr",
     "output_type": "stream",
     "text": [
      " 17%|█▋        | 172/1000 [38:12<3:04:39, 13.38s/it, Energy=-2.10544+0.00000j ± 0.00026 [σ²=0.00008]]"
     ]
    },
    {
     "name": "stdout",
     "output_type": "stream",
     "text": [
      "--->> cal O and jac  0.03640413284301758\n",
      "compute_update  0.039910316467285156\n",
      "(0.036257280303344776+0j)\n",
      "n_discard =  144\n",
      "discard samples 1.7010188102722168\n",
      "n_samples_node =  1000\n",
      "generate_samples :  11.743903160095215\n",
      "     prepare getting local values 0.002239227294921875\n",
      "     obtained local values 0.008270978927612305\n",
      "get_mc_stats 0.01238703727722168\n"
     ]
    },
    {
     "name": "stderr",
     "output_type": "stream",
     "text": [
      " 17%|█▋        | 173/1000 [38:26<3:04:55, 13.42s/it, Energy=-2.10528+0.00000j ± 0.00030 [σ²=0.00008]]"
     ]
    },
    {
     "name": "stdout",
     "output_type": "stream",
     "text": [
      "--->> cal O and jac  0.03657793998718262\n",
      "compute_update  0.03961896896362305\n",
      "(0.03626739955830329+0j)\n",
      "n_discard =  144\n",
      "discard samples 1.6860971450805664\n",
      "n_samples_node =  1000\n",
      "generate_samples :  11.84375286102295\n",
      "     prepare getting local values 0.0021581649780273438\n",
      "     obtained local values 0.007919788360595703\n",
      "get_mc_stats 0.012241125106811523\n"
     ]
    },
    {
     "name": "stderr",
     "output_type": "stream",
     "text": [
      " 17%|█▋        | 174/1000 [38:39<3:05:23, 13.47s/it, Energy=-2.10590+0.00000j ± 0.00029 [σ²=0.00008]]"
     ]
    },
    {
     "name": "stdout",
     "output_type": "stream",
     "text": [
      "--->> cal O and jac  0.0377957820892334\n",
      "compute_update  0.04093599319458008\n",
      "(0.036269465307549646+0j)\n",
      "n_discard =  144\n",
      "discard samples 1.6546180248260498\n",
      "n_samples_node =  1000\n",
      "generate_samples :  11.482872009277344\n",
      "     prepare getting local values 0.0022242069244384766\n",
      "     obtained local values 0.00794219970703125\n",
      "get_mc_stats 0.012178897857666016\n"
     ]
    },
    {
     "name": "stderr",
     "output_type": "stream",
     "text": [
      " 18%|█▊        | 175/1000 [38:52<3:04:03, 13.39s/it, Energy=-2.10581+0.00000j ± 0.00031 [σ²=0.00008]]"
     ]
    },
    {
     "name": "stdout",
     "output_type": "stream",
     "text": [
      "--->> cal O and jac  0.04224872589111328\n",
      "compute_update  0.04601287841796875\n",
      "(0.03626051885262915+0j)\n",
      "n_discard =  144\n",
      "discard samples 1.6773960590362549\n",
      "n_samples_node =  1000\n",
      "generate_samples :  11.507647037506104\n",
      "     prepare getting local values 0.002405881881713867\n",
      "     obtained local values 0.008131265640258789\n",
      "get_mc_stats 0.012326240539550781\n"
     ]
    },
    {
     "name": "stderr",
     "output_type": "stream",
     "text": [
      " 18%|█▊        | 176/1000 [39:06<3:03:13, 13.34s/it, Energy=-2.10623+0.00000j ± 0.00027 [σ²=0.00007]]"
     ]
    },
    {
     "name": "stdout",
     "output_type": "stream",
     "text": [
      "--->> cal O and jac  0.035568952560424805\n",
      "compute_update  0.03890800476074219\n",
      "(0.036254603042891125+0j)\n",
      "n_discard =  144\n",
      "discard samples 1.6482300758361816\n",
      "n_samples_node =  1000\n",
      "generate_samples :  11.376092910766602\n",
      "     prepare getting local values 0.0020728111267089844\n",
      "     obtained local values 0.0077588558197021484\n",
      "get_mc_stats 0.012119054794311523\n"
     ]
    },
    {
     "name": "stderr",
     "output_type": "stream",
     "text": [
      " 18%|█▊        | 177/1000 [39:19<3:01:55, 13.26s/it, Energy=-2.10566+0.00000j ± 0.00025 [σ²=0.00008]]"
     ]
    },
    {
     "name": "stdout",
     "output_type": "stream",
     "text": [
      "--->> cal O and jac  0.03625679016113281\n",
      "compute_update  0.03993082046508789\n",
      "(0.03623935800648774+0j)\n",
      "n_discard =  144\n",
      "discard samples 1.6516306400299072\n",
      "n_samples_node =  1000\n",
      "generate_samples :  11.404267072677612\n",
      "     prepare getting local values 0.0029380321502685547\n",
      "     obtained local values 0.009001970291137695\n",
      "get_mc_stats 0.013395309448242188\n"
     ]
    },
    {
     "name": "stderr",
     "output_type": "stream",
     "text": [
      " 18%|█▊        | 178/1000 [39:32<3:01:04, 13.22s/it, Energy=-2.10625+0.00000j ± 0.00024 [σ²=0.00006]]"
     ]
    },
    {
     "name": "stdout",
     "output_type": "stream",
     "text": [
      "--->> cal O and jac  0.036195993423461914\n",
      "compute_update  0.03980684280395508\n",
      "(0.036243759020033565+0j)\n",
      "n_discard =  144\n",
      "discard samples 1.6460540294647217\n",
      "n_samples_node =  1000\n",
      "generate_samples :  11.38185429573059\n",
      "     prepare getting local values 0.0021009445190429688\n",
      "     obtained local values 0.007890939712524414\n",
      "get_mc_stats 0.012027740478515625\n"
     ]
    },
    {
     "name": "stderr",
     "output_type": "stream",
     "text": [
      " 18%|█▊        | 179/1000 [39:45<3:00:18, 13.18s/it, Energy=-2.10583+0.00000j ± 0.00027 [σ²=0.00007]]"
     ]
    },
    {
     "name": "stdout",
     "output_type": "stream",
     "text": [
      "--->> cal O and jac  0.035675764083862305\n",
      "compute_update  0.03933000564575195\n",
      "(0.03624666833757103+0j)\n",
      "n_discard =  144\n",
      "discard samples 1.7001700401306152\n",
      "n_samples_node =  1000\n",
      "generate_samples :  11.925766944885254\n",
      "     prepare getting local values 0.0020606517791748047\n",
      "     obtained local values 0.007835865020751953\n",
      "get_mc_stats 0.0134429931640625\n"
     ]
    },
    {
     "name": "stderr",
     "output_type": "stream",
     "text": [
      " 18%|█▊        | 180/1000 [39:59<3:02:10, 13.33s/it, Energy=-2.10575+0.00000j ± 0.00022 [σ²=0.00008]]"
     ]
    },
    {
     "name": "stdout",
     "output_type": "stream",
     "text": [
      "--->> cal O and jac  0.04213118553161621\n",
      "compute_update  0.04543924331665039\n",
      "(0.03624713571578381+0j)\n",
      "n_discard =  144\n",
      "discard samples 1.6621208190917969\n",
      "n_samples_node =  1000\n",
      "generate_samples :  11.811906099319458\n",
      "     prepare getting local values 0.0021402835845947266\n",
      "     obtained local values 0.007904052734375\n",
      "get_mc_stats 0.011793851852416992\n"
     ]
    },
    {
     "name": "stderr",
     "output_type": "stream",
     "text": [
      " 18%|█▊        | 181/1000 [40:12<3:02:45, 13.39s/it, Energy=-2.10574+0.00000j ± 0.00026 [σ²=0.00007]]"
     ]
    },
    {
     "name": "stdout",
     "output_type": "stream",
     "text": [
      "--->> cal O and jac  0.036160945892333984\n",
      "compute_update  0.03942513465881348\n",
      "(0.036244809253870955+0j)\n",
      "n_discard =  144\n",
      "discard samples 1.6808481216430664\n",
      "n_samples_node =  1000\n",
      "generate_samples :  11.727043151855469\n",
      "     prepare getting local values 0.0023109912872314453\n",
      "     obtained local values 0.008024215698242188\n",
      "get_mc_stats 0.012220144271850586\n"
     ]
    },
    {
     "name": "stderr",
     "output_type": "stream",
     "text": [
      " 18%|█▊        | 182/1000 [40:26<3:02:50, 13.41s/it, Energy=-2.10574+0.00000j ± 0.00024 [σ²=0.00007]]"
     ]
    },
    {
     "name": "stdout",
     "output_type": "stream",
     "text": [
      "--->> cal O and jac  0.036531925201416016\n",
      "compute_update  0.039537906646728516\n",
      "(0.03625037975663048+0j)\n",
      "n_discard =  144\n",
      "discard samples 1.7838079929351807\n",
      "n_samples_node =  1000\n",
      "generate_samples :  11.494077920913696\n",
      "     prepare getting local values 0.002086162567138672\n",
      "     obtained local values 0.007887125015258789\n",
      "get_mc_stats 0.011624813079833984\n"
     ]
    },
    {
     "name": "stderr",
     "output_type": "stream",
     "text": [
      " 18%|█▊        | 183/1000 [40:39<3:02:17, 13.39s/it, Energy=-2.10550+0.00000j ± 0.00027 [σ²=0.00007]]"
     ]
    },
    {
     "name": "stdout",
     "output_type": "stream",
     "text": [
      "--->> cal O and jac  0.037982940673828125\n",
      "compute_update  0.0410001277923584\n",
      "(0.036250696751861475+0j)\n",
      "n_discard =  144\n",
      "discard samples 1.646594762802124\n",
      "n_samples_node =  1000\n",
      "generate_samples :  11.783941745758057\n",
      "     prepare getting local values 0.0027980804443359375\n",
      "     obtained local values 0.009741067886352539\n",
      "get_mc_stats 0.014645099639892578\n"
     ]
    },
    {
     "name": "stderr",
     "output_type": "stream",
     "text": [
      " 18%|█▊        | 184/1000 [40:52<3:02:32, 13.42s/it, Energy=-2.10617+0.00000j ± 0.00026 [σ²=0.00008]]"
     ]
    },
    {
     "name": "stdout",
     "output_type": "stream",
     "text": [
      "--->> cal O and jac  0.04596710205078125\n",
      "compute_update  0.05363106727600098\n",
      "(0.03624733642808053+0j)\n",
      "n_discard =  144\n",
      "discard samples 1.7491528987884521\n",
      "n_samples_node =  1000\n",
      "generate_samples :  11.459157943725586\n",
      "     prepare getting local values 0.0023272037506103516\n",
      "     obtained local values 0.008118152618408203\n",
      "get_mc_stats 0.0123748779296875\n"
     ]
    },
    {
     "name": "stderr",
     "output_type": "stream",
     "text": [
      " 18%|█▊        | 185/1000 [41:06<3:01:39, 13.37s/it, Energy=-2.10576+0.00000j ± 0.00028 [σ²=0.00007]]"
     ]
    },
    {
     "name": "stdout",
     "output_type": "stream",
     "text": [
      "--->> cal O and jac  0.03492307662963867\n",
      "compute_update  0.03833317756652832\n",
      "(0.03624606969869793+0j)\n",
      "n_discard =  144\n",
      "discard samples 1.6489450931549072\n",
      "n_samples_node =  1000\n",
      "generate_samples :  11.34754204750061\n",
      "     prepare getting local values 0.002630949020385742\n",
      "     obtained local values 0.008280754089355469\n",
      "get_mc_stats 0.012708663940429688\n"
     ]
    },
    {
     "name": "stderr",
     "output_type": "stream",
     "text": [
      " 19%|█▊        | 186/1000 [41:19<3:00:08, 13.28s/it, Energy=-2.10579+0.00000j ± 0.00031 [σ²=0.00007]]"
     ]
    },
    {
     "name": "stdout",
     "output_type": "stream",
     "text": [
      "--->> cal O and jac  0.03927111625671387\n",
      "compute_update  0.0427851676940918\n",
      "(0.03623761478088637+0j)\n",
      "n_discard =  144\n",
      "discard samples 1.6716430187225342\n",
      "n_samples_node =  1000\n",
      "generate_samples :  11.355307817459106\n",
      "     prepare getting local values 0.002212047576904297\n",
      "     obtained local values 0.007841110229492188\n",
      "get_mc_stats 0.012058019638061523\n"
     ]
    },
    {
     "name": "stderr",
     "output_type": "stream",
     "text": [
      " 19%|█▊        | 187/1000 [41:32<2:59:06, 13.22s/it, Energy=-2.10552+0.00000j ± 0.00024 [σ²=0.00007]]"
     ]
    },
    {
     "name": "stdout",
     "output_type": "stream",
     "text": [
      "--->> cal O and jac  0.0360109806060791\n",
      "compute_update  0.039446115493774414\n",
      "(0.03623132980613878+0j)\n",
      "n_discard =  144\n",
      "discard samples 1.6470489501953125\n",
      "n_samples_node =  1000\n",
      "generate_samples :  11.347427129745483\n",
      "     prepare getting local values 0.002407073974609375\n",
      "     obtained local values 0.008046150207519531\n",
      "get_mc_stats 0.011924982070922852\n"
     ]
    },
    {
     "name": "stderr",
     "output_type": "stream",
     "text": [
      " 19%|█▉        | 188/1000 [41:45<2:58:12, 13.17s/it, Energy=-2.10579+0.00000j ± 0.00024 [σ²=0.00006]]"
     ]
    },
    {
     "name": "stdout",
     "output_type": "stream",
     "text": [
      "--->> cal O and jac  0.036180973052978516\n",
      "compute_update  0.0395047664642334\n",
      "(0.03622688739385283+0j)\n",
      "n_discard =  144\n",
      "discard samples 1.671623945236206\n",
      "n_samples_node =  1000\n",
      "generate_samples :  11.507507801055908\n",
      "     prepare getting local values 0.0024979114532470703\n",
      "     obtained local values 0.008209943771362305\n",
      "get_mc_stats 0.012505054473876953\n"
     ]
    },
    {
     "name": "stderr",
     "output_type": "stream",
     "text": [
      " 19%|█▉        | 189/1000 [41:58<2:58:15, 13.19s/it, Energy=-2.10580+0.00000j ± 0.00025 [σ²=0.00006]]"
     ]
    },
    {
     "name": "stdout",
     "output_type": "stream",
     "text": [
      "--->> cal O and jac  0.038758277893066406\n",
      "compute_update  0.04205918312072754\n",
      "(0.03623034230546367+0j)\n",
      "n_discard =  144\n",
      "discard samples 1.6539413928985596\n",
      "n_samples_node =  1000\n",
      "generate_samples :  11.45656704902649\n",
      "     prepare getting local values 0.002096891403198242\n",
      "     obtained local values 0.007931947708129883\n",
      "get_mc_stats 0.011664867401123047\n"
     ]
    },
    {
     "name": "stderr",
     "output_type": "stream",
     "text": [
      " 19%|█▉        | 190/1000 [42:11<2:57:56, 13.18s/it, Energy=-2.10644+0.00000j ± 0.00024 [σ²=0.00006]]"
     ]
    },
    {
     "name": "stdout",
     "output_type": "stream",
     "text": [
      "--->> cal O and jac  0.036199092864990234\n",
      "compute_update  0.03986096382141113\n",
      "(0.0362554514821469+0j)\n",
      "n_discard =  144\n",
      "discard samples 1.6614549160003662\n",
      "n_samples_node =  1000\n",
      "generate_samples :  12.183833122253418\n",
      "     prepare getting local values 0.002496004104614258\n",
      "     obtained local values 0.009138822555541992\n",
      "get_mc_stats 0.013633012771606445\n"
     ]
    },
    {
     "name": "stderr",
     "output_type": "stream",
     "text": [
      " 19%|█▉        | 191/1000 [42:25<3:00:41, 13.40s/it, Energy=-2.10524+0.00000j ± 0.00030 [σ²=0.00006]]"
     ]
    },
    {
     "name": "stdout",
     "output_type": "stream",
     "text": [
      "--->> cal O and jac  0.044157981872558594\n",
      "compute_update  0.04988503456115723\n",
      "(0.036272222742760034+0j)\n",
      "n_discard =  144\n",
      "discard samples 1.6639549732208252\n",
      "n_samples_node =  1000\n",
      "generate_samples :  11.670594930648804\n",
      "     prepare getting local values 0.003426074981689453\n",
      "     obtained local values 0.011566162109375\n",
      "get_mc_stats 0.018918991088867188\n"
     ]
    },
    {
     "name": "stderr",
     "output_type": "stream",
     "text": [
      " 19%|█▉        | 192/1000 [42:39<3:00:33, 13.41s/it, Energy=-2.10577+0.00000j ± 0.00031 [σ²=0.00008]]"
     ]
    },
    {
     "name": "stdout",
     "output_type": "stream",
     "text": [
      "--->> cal O and jac  0.048357248306274414\n",
      "compute_update  0.052056074142456055\n",
      "(0.03629095030279699+0j)\n",
      "n_discard =  144\n",
      "discard samples 1.7176809310913086\n",
      "n_samples_node =  1000\n",
      "generate_samples :  12.16197681427002\n",
      "     prepare getting local values 0.002591371536254883\n",
      "     obtained local values 0.008391141891479492\n",
      "get_mc_stats 0.0125579833984375\n"
     ]
    },
    {
     "name": "stderr",
     "output_type": "stream",
     "text": [
      " 19%|█▉        | 193/1000 [42:53<3:02:27, 13.57s/it, Energy=-2.10527+0.00000j ± 0.00025 [σ²=0.00007]]"
     ]
    },
    {
     "name": "stdout",
     "output_type": "stream",
     "text": [
      "--->> cal O and jac  0.03590512275695801\n",
      "compute_update  0.039469003677368164\n",
      "(0.03630897850679506+0j)\n",
      "n_discard =  144\n",
      "discard samples 1.662607192993164\n",
      "n_samples_node =  1000\n",
      "generate_samples :  11.452724933624268\n",
      "     prepare getting local values 0.0022041797637939453\n",
      "     obtained local values 0.00788116455078125\n",
      "get_mc_stats 0.012059926986694336\n"
     ]
    },
    {
     "name": "stderr",
     "output_type": "stream",
     "text": [
      " 19%|█▉        | 194/1000 [43:06<3:00:38, 13.45s/it, Energy=-2.10576+0.00000j ± 0.00020 [σ²=0.00006]]"
     ]
    },
    {
     "name": "stdout",
     "output_type": "stream",
     "text": [
      "--->> cal O and jac  0.03659391403198242\n",
      "compute_update  0.04005289077758789\n",
      "(0.03632391070580174+0j)\n",
      "n_discard =  144\n",
      "discard samples 1.6484220027923584\n",
      "n_samples_node =  1000\n",
      "generate_samples :  11.534736156463623\n",
      "     prepare getting local values 0.0024662017822265625\n",
      "     obtained local values 0.008312225341796875\n",
      "get_mc_stats 0.012336969375610352\n"
     ]
    },
    {
     "name": "stderr",
     "output_type": "stream",
     "text": [
      " 20%|█▉        | 195/1000 [43:19<2:59:34, 13.38s/it, Energy=-2.10632+0.00000j ± 0.00024 [σ²=0.00007]]"
     ]
    },
    {
     "name": "stdout",
     "output_type": "stream",
     "text": [
      "--->> cal O and jac  0.0366671085357666\n",
      "compute_update  0.04020190238952637\n",
      "(0.03634182125346421+0j)\n",
      "n_discard =  144\n",
      "discard samples 1.6678309440612793\n",
      "n_samples_node =  1000\n",
      "generate_samples :  11.906836986541748\n",
      "     prepare getting local values 0.002246856689453125\n",
      "     obtained local values 0.007973909378051758\n",
      "get_mc_stats 0.012731075286865234\n"
     ]
    },
    {
     "name": "stderr",
     "output_type": "stream",
     "text": [
      " 20%|█▉        | 196/1000 [43:33<3:00:21, 13.46s/it, Energy=-2.10595+0.00000j ± 0.00023 [σ²=0.00007]]"
     ]
    },
    {
     "name": "stdout",
     "output_type": "stream",
     "text": [
      "--->> cal O and jac  0.04029083251953125\n",
      "compute_update  0.043615102767944336\n",
      "(0.036353398852257156+0j)\n",
      "n_discard =  144\n",
      "discard samples 1.7197809219360352\n",
      "n_samples_node =  1000\n",
      "generate_samples :  12.21439003944397\n",
      "     prepare getting local values 0.002481222152709961\n",
      "     obtained local values 0.008574962615966797\n",
      "get_mc_stats 0.013388872146606445\n"
     ]
    },
    {
     "name": "stderr",
     "output_type": "stream",
     "text": [
      " 20%|█▉        | 197/1000 [43:47<3:02:16, 13.62s/it, Energy=-2.10608+0.00000j ± 0.00021 [σ²=0.00006]]"
     ]
    },
    {
     "name": "stdout",
     "output_type": "stream",
     "text": [
      "--->> cal O and jac  0.04054379463195801\n",
      "compute_update  0.04436779022216797\n",
      "(0.03636236234996293+0j)\n",
      "n_discard =  144\n",
      "discard samples 1.7600266933441162\n",
      "n_samples_node =  1000\n",
      "generate_samples :  11.694491863250732\n",
      "     prepare getting local values 0.00506281852722168\n",
      "     obtained local values 0.017120838165283203\n",
      "get_mc_stats 0.023602962493896484\n"
     ]
    },
    {
     "name": "stderr",
     "output_type": "stream",
     "text": [
      " 20%|█▉        | 198/1000 [44:00<3:01:43, 13.59s/it, Energy=-2.10623+0.00000j ± 0.00027 [σ²=0.00006]]"
     ]
    },
    {
     "name": "stdout",
     "output_type": "stream",
     "text": [
      "--->> cal O and jac  0.05169391632080078\n",
      "compute_update  0.0552830696105957\n",
      "(0.03638890716059202+0j)\n",
      "n_discard =  144\n",
      "discard samples 1.8001289367675781\n",
      "n_samples_node =  1000\n",
      "generate_samples :  11.849075078964233\n",
      "     prepare getting local values 0.002269744873046875\n",
      "     obtained local values 0.00816488265991211\n",
      "get_mc_stats 0.012300968170166016\n"
     ]
    },
    {
     "name": "stderr",
     "output_type": "stream",
     "text": [
      " 20%|█▉        | 199/1000 [44:14<3:01:56, 13.63s/it, Energy=-2.10579+0.00000j ± 0.00028 [σ²=0.00007]]"
     ]
    },
    {
     "name": "stdout",
     "output_type": "stream",
     "text": [
      "--->> cal O and jac  0.038366079330444336\n",
      "compute_update  0.041857004165649414\n",
      "(0.03639683883710923+0j)\n",
      "n_discard =  144\n",
      "discard samples 1.6512329578399658\n",
      "n_samples_node =  1000\n",
      "generate_samples :  11.629821300506592\n",
      "     prepare getting local values 0.0026319026947021484\n",
      "     obtained local values 0.008481979370117188\n",
      "get_mc_stats 0.013729095458984375\n"
     ]
    },
    {
     "name": "stderr",
     "output_type": "stream",
     "text": [
      " 20%|██        | 200/1000 [44:27<3:00:34, 13.54s/it, Energy=-2.10568+0.00000j ± 0.00022 [σ²=0.00006]]"
     ]
    },
    {
     "name": "stdout",
     "output_type": "stream",
     "text": [
      "--->> cal O and jac  0.04281902313232422\n",
      "compute_update  0.047683000564575195\n",
      "(0.036402825721235724+0j)\n",
      "n_discard =  144\n",
      "discard samples 1.6591229438781738\n",
      "n_samples_node =  1000\n",
      "generate_samples :  11.506487131118774\n",
      "     prepare getting local values 0.002338886260986328\n",
      "     obtained local values 0.007887840270996094\n",
      "get_mc_stats 0.011908769607543945\n"
     ]
    },
    {
     "name": "stderr",
     "output_type": "stream",
     "text": [
      " 20%|██        | 201/1000 [44:40<2:59:04, 13.45s/it, Energy=-2.10566+0.00000j ± 0.00025 [σ²=0.00006]]"
     ]
    },
    {
     "name": "stdout",
     "output_type": "stream",
     "text": [
      "--->> cal O and jac  0.03898811340332031\n",
      "compute_update  0.04218912124633789\n",
      "(0.03640691075293717+0j)\n",
      "n_discard =  144\n",
      "discard samples 1.6963162422180176\n",
      "n_samples_node =  1000\n",
      "generate_samples :  12.215169191360474\n",
      "     prepare getting local values 0.002468109130859375\n",
      "     obtained local values 0.00826406478881836\n",
      "get_mc_stats 0.013373136520385742\n"
     ]
    },
    {
     "name": "stderr",
     "output_type": "stream",
     "text": [
      " 20%|██        | 202/1000 [44:54<3:00:56, 13.60s/it, Energy=-2.10557+0.00000j ± 0.00022 [σ²=0.00006]]"
     ]
    },
    {
     "name": "stdout",
     "output_type": "stream",
     "text": [
      "--->> cal O and jac  0.0413050651550293\n",
      "compute_update  0.04449605941772461\n",
      "(0.036411118289620584+0j)\n",
      "n_discard =  144\n",
      "discard samples 1.7175662517547607\n",
      "n_samples_node =  1000\n",
      "generate_samples :  11.989979028701782\n",
      "     prepare getting local values 0.0031490325927734375\n",
      "     obtained local values 0.00895380973815918\n",
      "get_mc_stats 0.015164852142333984\n"
     ]
    },
    {
     "name": "stderr",
     "output_type": "stream",
     "text": [
      " 20%|██        | 203/1000 [45:08<3:01:22, 13.65s/it, Energy=-2.10610+0.00000j ± 0.00023 [σ²=0.00006]]"
     ]
    },
    {
     "name": "stdout",
     "output_type": "stream",
     "text": [
      "--->> cal O and jac  0.04258108139038086\n",
      "compute_update  0.04617810249328613\n",
      "(0.03643642317594556+0j)\n",
      "n_discard =  144\n",
      "discard samples 1.6964340209960938\n",
      "n_samples_node =  1000\n",
      "generate_samples :  11.70500111579895\n",
      "     prepare getting local values 0.0020492076873779297\n",
      "     obtained local values 0.007982969284057617\n",
      "get_mc_stats 0.012138843536376953\n"
     ]
    },
    {
     "name": "stderr",
     "output_type": "stream",
     "text": [
      " 20%|██        | 204/1000 [45:22<3:00:22, 13.60s/it, Energy=-2.10568+0.00000j ± 0.00030 [σ²=0.00006]]"
     ]
    },
    {
     "name": "stdout",
     "output_type": "stream",
     "text": [
      "--->> cal O and jac  0.04031491279602051\n",
      "compute_update  0.043524742126464844\n",
      "(0.036450856661772314+0j)\n",
      "n_discard =  144\n",
      "discard samples 1.6585018634796143\n",
      "n_samples_node =  1000\n",
      "generate_samples :  11.584175825119019\n",
      "     prepare getting local values 0.0025360584259033203\n",
      "     obtained local values 0.008205175399780273\n",
      "get_mc_stats 0.01238393783569336\n"
     ]
    },
    {
     "name": "stderr",
     "output_type": "stream",
     "text": [
      " 20%|██        | 205/1000 [45:35<2:58:57, 13.51s/it, Energy=-2.10596+0.00000j ± 0.00026 [σ²=0.00006]]"
     ]
    },
    {
     "name": "stdout",
     "output_type": "stream",
     "text": [
      "--->> cal O and jac  0.03695940971374512\n",
      "compute_update  0.040322065353393555\n",
      "(0.03646472502607405+0j)\n",
      "n_discard =  144\n",
      "discard samples 1.6660826206207275\n",
      "n_samples_node =  1000\n",
      "generate_samples :  11.58122706413269\n",
      "     prepare getting local values 0.002103090286254883\n",
      "     obtained local values 0.00803995132446289\n",
      "get_mc_stats 0.012720346450805664\n"
     ]
    },
    {
     "name": "stderr",
     "output_type": "stream",
     "text": [
      " 21%|██        | 206/1000 [45:48<2:57:55, 13.45s/it, Energy=-2.10605+0.00000j ± 0.00023 [σ²=0.00006]]"
     ]
    },
    {
     "name": "stdout",
     "output_type": "stream",
     "text": [
      "--->> cal O and jac  0.03656172752380371\n",
      "compute_update  0.03997683525085449\n",
      "(0.0364860647753526+0j)\n",
      "n_discard =  144\n",
      "discard samples 1.6491270065307617\n",
      "n_samples_node =  1000\n",
      "generate_samples :  11.3854820728302\n",
      "     prepare getting local values 0.00238800048828125\n",
      "     obtained local values 0.00807809829711914\n",
      "get_mc_stats 0.012189149856567383\n"
     ]
    },
    {
     "name": "stderr",
     "output_type": "stream",
     "text": [
      " 21%|██        | 207/1000 [46:01<2:56:17, 13.34s/it, Energy=-2.10597+0.00000j ± 0.00023 [σ²=0.00005]]"
     ]
    },
    {
     "name": "stdout",
     "output_type": "stream",
     "text": [
      "--->> cal O and jac  0.03768587112426758\n",
      "compute_update  0.04122591018676758\n",
      "(0.036523725255996224+0j)\n",
      "n_discard =  144\n",
      "discard samples 1.649980068206787\n",
      "n_samples_node =  1000\n",
      "generate_samples :  11.358869075775146\n",
      "     prepare getting local values 0.0021750926971435547\n",
      "     obtained local values 0.007824182510375977\n",
      "get_mc_stats 0.012022018432617188\n"
     ]
    },
    {
     "name": "stderr",
     "output_type": "stream",
     "text": [
      " 21%|██        | 208/1000 [46:14<2:54:59, 13.26s/it, Energy=-2.10535+0.00000j ± 0.00025 [σ²=0.00006]]"
     ]
    },
    {
     "name": "stdout",
     "output_type": "stream",
     "text": [
      "--->> cal O and jac  0.03931093215942383\n",
      "compute_update  0.04224085807800293\n",
      "(0.03654818732268156+0j)\n",
      "n_discard =  144\n",
      "discard samples 1.6503386497497559\n",
      "n_samples_node =  1000\n",
      "generate_samples :  11.651734113693237\n",
      "     prepare getting local values 0.002256155014038086\n",
      "     obtained local values 0.008226156234741211\n",
      "get_mc_stats 0.012763261795043945\n"
     ]
    },
    {
     "name": "stderr",
     "output_type": "stream",
     "text": [
      " 21%|██        | 209/1000 [46:28<2:55:10, 13.29s/it, Energy=-2.10586+0.00000j ± 0.00025 [σ²=0.00005]]"
     ]
    },
    {
     "name": "stdout",
     "output_type": "stream",
     "text": [
      "--->> cal O and jac  0.03717994689941406\n",
      "compute_update  0.04158210754394531\n",
      "(0.036588507005544696+0j)\n",
      "n_discard =  144\n",
      "discard samples 1.7058570384979248\n",
      "n_samples_node =  1000\n",
      "generate_samples :  11.698554992675781\n",
      "     prepare getting local values 0.002924203872680664\n",
      "     obtained local values 0.010381221771240234\n",
      "get_mc_stats 0.016830921173095703\n"
     ]
    },
    {
     "name": "stderr",
     "output_type": "stream",
     "text": [
      " 21%|██        | 210/1000 [46:41<2:55:41, 13.34s/it, Energy=-2.10597+0.00000j ± 0.00018 [σ²=0.00005]]"
     ]
    },
    {
     "name": "stdout",
     "output_type": "stream",
     "text": [
      "--->> cal O and jac  0.04606223106384277\n",
      "compute_update  0.0493929386138916\n",
      "(0.036624448833629836+0j)\n",
      "n_discard =  144\n",
      "discard samples 1.7068018913269043\n",
      "n_samples_node =  1000\n",
      "generate_samples :  11.98514199256897\n",
      "     prepare getting local values 0.002382040023803711\n",
      "     obtained local values 0.008128881454467773\n",
      "get_mc_stats 0.013340950012207031\n"
     ]
    },
    {
     "name": "stderr",
     "output_type": "stream",
     "text": [
      " 21%|██        | 211/1000 [46:55<2:57:04, 13.47s/it, Energy=-2.10581+0.00000j ± 0.00022 [σ²=0.00006]]"
     ]
    },
    {
     "name": "stdout",
     "output_type": "stream",
     "text": [
      "--->> cal O and jac  0.03781390190124512\n",
      "compute_update  0.041176795959472656\n",
      "(0.03665266424984208+0j)\n",
      "n_discard =  144\n",
      "discard samples 1.654818058013916\n",
      "n_samples_node =  1000\n",
      "generate_samples :  11.468974113464355\n",
      "     prepare getting local values 0.0023550987243652344\n",
      "     obtained local values 0.007973909378051758\n",
      "get_mc_stats 0.012194156646728516\n"
     ]
    },
    {
     "name": "stderr",
     "output_type": "stream",
     "text": [
      " 21%|██        | 212/1000 [47:08<2:55:42, 13.38s/it, Energy=-2.10578+0.00000j ± 0.00029 [σ²=0.00006]]"
     ]
    },
    {
     "name": "stdout",
     "output_type": "stream",
     "text": [
      "--->> cal O and jac  0.036767005920410156\n",
      "compute_update  0.04019498825073242\n",
      "(0.03668380017913981+0j)\n",
      "n_discard =  144\n",
      "discard samples 1.6654770374298096\n",
      "n_samples_node =  1000\n",
      "generate_samples :  11.753496885299683\n",
      "     prepare getting local values 0.002264738082885742\n",
      "     obtained local values 0.008111953735351562\n",
      "get_mc_stats 0.012621641159057617\n"
     ]
    },
    {
     "name": "stderr",
     "output_type": "stream",
     "text": [
      " 21%|██▏       | 213/1000 [47:22<2:55:52, 13.41s/it, Energy=-2.10586+0.00000j ± 0.00025 [σ²=0.00005]]"
     ]
    },
    {
     "name": "stdout",
     "output_type": "stream",
     "text": [
      "--->> cal O and jac  0.04138374328613281\n",
      "compute_update  0.04468488693237305\n",
      "(0.03673168031105968+0j)\n",
      "n_discard =  144\n",
      "discard samples 1.6591589450836182\n",
      "n_samples_node =  1000\n",
      "generate_samples :  11.379460096359253\n",
      "     prepare getting local values 0.0022132396697998047\n",
      "     obtained local values 0.007889270782470703\n",
      "get_mc_stats 0.011542081832885742\n"
     ]
    },
    {
     "name": "stderr",
     "output_type": "stream",
     "text": [
      " 21%|██▏       | 214/1000 [47:35<2:54:25, 13.31s/it, Energy=-2.10590+0.00000j ± 0.00021 [σ²=0.00005]]"
     ]
    },
    {
     "name": "stdout",
     "output_type": "stream",
     "text": [
      "--->> cal O and jac  0.03773903846740723\n",
      "compute_update  0.04104924201965332\n",
      "(0.036783161837990325+0j)\n",
      "n_discard =  144\n",
      "discard samples 1.650669813156128\n",
      "n_samples_node =  1000\n",
      "generate_samples :  11.611662864685059\n",
      "     prepare getting local values 0.002276182174682617\n",
      "     obtained local values 0.008012056350708008\n",
      "get_mc_stats 0.013076066970825195\n"
     ]
    },
    {
     "name": "stderr",
     "output_type": "stream",
     "text": [
      " 22%|██▏       | 215/1000 [47:48<2:54:12, 13.32s/it, Energy=-2.10577+0.00000j ± 0.00027 [σ²=0.00006]]"
     ]
    },
    {
     "name": "stdout",
     "output_type": "stream",
     "text": [
      "--->> cal O and jac  0.03716588020324707\n",
      "compute_update  0.040344953536987305\n",
      "(0.036828316932914336+0j)\n",
      "n_discard =  144\n",
      "discard samples 1.6579971313476562\n",
      "n_samples_node =  1000\n",
      "generate_samples :  11.414368152618408\n",
      "     prepare getting local values 0.0022940635681152344\n",
      "     obtained local values 0.008401870727539062\n",
      "get_mc_stats 0.013103961944580078\n"
     ]
    },
    {
     "name": "stderr",
     "output_type": "stream",
     "text": [
      " 22%|██▏       | 216/1000 [48:01<2:53:16, 13.26s/it, Energy=-2.10589+0.00000j ± 0.00026 [σ²=0.00005]]"
     ]
    },
    {
     "name": "stdout",
     "output_type": "stream",
     "text": [
      "--->> cal O and jac  0.04042220115661621\n",
      "compute_update  0.04364514350891113\n",
      "(0.03687371560589474+0j)\n",
      "n_discard =  144\n",
      "discard samples 1.6877260208129883\n",
      "n_samples_node =  1000\n",
      "generate_samples :  11.405410051345825\n",
      "     prepare getting local values 0.002618074417114258\n",
      "     obtained local values 0.008285284042358398\n",
      "get_mc_stats 0.012971162796020508\n"
     ]
    },
    {
     "name": "stderr",
     "output_type": "stream",
     "text": [
      " 22%|██▏       | 217/1000 [48:14<2:52:37, 13.23s/it, Energy=-2.10625+0.00000j ± 0.00021 [σ²=0.00006]]"
     ]
    },
    {
     "name": "stdout",
     "output_type": "stream",
     "text": [
      "--->> cal O and jac  0.039437055587768555\n",
      "compute_update  0.04431891441345215\n",
      "(0.03691354585890773+0j)\n",
      "n_discard =  144\n",
      "discard samples 1.6740407943725586\n",
      "n_samples_node =  1000\n",
      "generate_samples :  11.410847902297974\n",
      "     prepare getting local values 0.0026819705963134766\n",
      "     obtained local values 0.008555889129638672\n",
      "get_mc_stats 0.012788057327270508\n"
     ]
    },
    {
     "name": "stderr",
     "output_type": "stream",
     "text": [
      " 22%|██▏       | 218/1000 [48:27<2:52:04, 13.20s/it, Energy=-2.10568+0.00000j ± 0.00024 [σ²=0.00006]]"
     ]
    },
    {
     "name": "stdout",
     "output_type": "stream",
     "text": [
      "--->> cal O and jac  0.0406341552734375\n",
      "compute_update  0.04448723793029785\n",
      "(0.036958376367501336+0j)\n",
      "n_discard =  144\n",
      "discard samples 1.6872889995574951\n",
      "n_samples_node =  1000\n",
      "generate_samples :  11.448945045471191\n",
      "     prepare getting local values 0.0022521018981933594\n",
      "     obtained local values 0.008113861083984375\n",
      "get_mc_stats 0.012420892715454102\n"
     ]
    },
    {
     "name": "stderr",
     "output_type": "stream",
     "text": [
      " 22%|██▏       | 219/1000 [48:41<2:51:51, 13.20s/it, Energy=-2.10562+0.00000j ± 0.00020 [σ²=0.00005]]"
     ]
    },
    {
     "name": "stdout",
     "output_type": "stream",
     "text": [
      "--->> cal O and jac  0.04704880714416504\n",
      "compute_update  0.05178976058959961\n",
      "(0.03699408741807736+0j)\n",
      "n_discard =  144\n",
      "discard samples 1.6513428688049316\n",
      "n_samples_node =  1000\n",
      "generate_samples :  11.499052047729492\n",
      "     prepare getting local values 0.0025238990783691406\n",
      "     obtained local values 0.008092880249023438\n",
      "get_mc_stats 0.012959003448486328\n"
     ]
    },
    {
     "name": "stderr",
     "output_type": "stream",
     "text": [
      " 22%|██▏       | 220/1000 [48:54<2:51:39, 13.20s/it, Energy=-2.10623+0.00000j ± 0.00021 [σ²=0.00005]]"
     ]
    },
    {
     "name": "stdout",
     "output_type": "stream",
     "text": [
      "--->> cal O and jac  0.03722810745239258\n",
      "compute_update  0.04156804084777832\n",
      "(0.037080501444106004+0j)\n",
      "n_discard =  144\n",
      "discard samples 1.68229079246521\n",
      "n_samples_node =  1000\n",
      "generate_samples :  11.5088210105896\n",
      "     prepare getting local values 0.0025970935821533203\n",
      "     obtained local values 0.00819706916809082\n",
      "get_mc_stats 0.012197732925415039\n"
     ]
    },
    {
     "name": "stderr",
     "output_type": "stream",
     "text": [
      " 22%|██▏       | 221/1000 [49:07<2:51:36, 13.22s/it, Energy=-2.10607+0.00000j ± 0.00023 [σ²=0.00004]]"
     ]
    },
    {
     "name": "stdout",
     "output_type": "stream",
     "text": [
      "--->> cal O and jac  0.038349151611328125\n",
      "compute_update  0.04241323471069336\n",
      "(0.037169254561827056+0j)\n",
      "n_discard =  144\n",
      "discard samples 1.6534910202026367\n",
      "n_samples_node =  1000\n",
      "generate_samples :  11.622722148895264\n",
      "     prepare getting local values 0.002321958541870117\n",
      "     obtained local values 0.007881879806518555\n",
      "get_mc_stats 0.012242794036865234\n"
     ]
    },
    {
     "name": "stderr",
     "output_type": "stream",
     "text": [
      " 22%|██▏       | 222/1000 [49:20<2:51:50, 13.25s/it, Energy=-2.10582+0.00000j ± 0.00025 [σ²=0.00006]]"
     ]
    },
    {
     "name": "stdout",
     "output_type": "stream",
     "text": [
      "--->> cal O and jac  0.03874516487121582\n",
      "compute_update  0.04237794876098633\n",
      "(0.03724206690162917+0j)\n",
      "n_discard =  144\n",
      "discard samples 1.6470270156860352\n",
      "n_samples_node =  1000\n",
      "generate_samples :  11.409271001815796\n",
      "     prepare getting local values 0.0022737979888916016\n",
      "     obtained local values 0.008106708526611328\n",
      "get_mc_stats 0.012387990951538086\n"
     ]
    },
    {
     "name": "stderr",
     "output_type": "stream",
     "text": [
      " 22%|██▏       | 223/1000 [49:34<2:51:04, 13.21s/it, Energy=-2.10590+0.00000j ± 0.00025 [σ²=0.00005]]"
     ]
    },
    {
     "name": "stdout",
     "output_type": "stream",
     "text": [
      "--->> cal O and jac  0.036988019943237305\n",
      "compute_update  0.04052591323852539\n",
      "(0.037309908002083766+0j)\n",
      "n_discard =  144\n",
      "discard samples 1.662121057510376\n",
      "n_samples_node =  1000\n",
      "generate_samples :  11.485028982162476\n",
      "     prepare getting local values 0.0021927356719970703\n",
      "     obtained local values 0.007930755615234375\n",
      "get_mc_stats 0.012363910675048828\n"
     ]
    },
    {
     "name": "stderr",
     "output_type": "stream",
     "text": [
      " 22%|██▏       | 224/1000 [49:47<2:50:49, 13.21s/it, Energy=-2.10603+0.00000j ± 0.00021 [σ²=0.00006]]"
     ]
    },
    {
     "name": "stdout",
     "output_type": "stream",
     "text": [
      "--->> cal O and jac  0.037300825119018555\n",
      "compute_update  0.04067873954772949\n",
      "(0.037365901353242956+0j)\n",
      "n_discard =  144\n",
      "discard samples 1.6985962390899658\n",
      "n_samples_node =  1000\n",
      "generate_samples :  11.641809225082397\n",
      "     prepare getting local values 0.002524852752685547\n",
      "     obtained local values 0.008663654327392578\n",
      "get_mc_stats 0.014135122299194336\n"
     ]
    },
    {
     "name": "stderr",
     "output_type": "stream",
     "text": [
      " 22%|██▎       | 225/1000 [50:00<2:51:21, 13.27s/it, Energy=-2.10594+0.00000j ± 0.00017 [σ²=0.00005]]"
     ]
    },
    {
     "name": "stdout",
     "output_type": "stream",
     "text": [
      "--->> cal O and jac  0.040678977966308594\n",
      "compute_update  0.04444289207458496\n",
      "(0.03743015226497351+0j)\n",
      "n_discard =  144\n",
      "discard samples 1.6753270626068115\n",
      "n_samples_node =  1000\n",
      "generate_samples :  11.421775102615356\n",
      "     prepare getting local values 0.002019166946411133\n",
      "     obtained local values 0.007824897766113281\n",
      "get_mc_stats 0.011510133743286133\n"
     ]
    },
    {
     "name": "stderr",
     "output_type": "stream",
     "text": [
      " 23%|██▎       | 226/1000 [50:13<2:50:41, 13.23s/it, Energy=-2.10623+0.00000j ± 0.00023 [σ²=0.00006]]"
     ]
    },
    {
     "name": "stdout",
     "output_type": "stream",
     "text": [
      "--->> cal O and jac  0.035707712173461914\n",
      "compute_update  0.03946375846862793\n",
      "(0.037473651973457665+0j)\n",
      "n_discard =  144\n",
      "discard samples 1.6559011936187744\n",
      "n_samples_node =  1000\n",
      "generate_samples :  11.503928899765015\n",
      "     prepare getting local values 0.0021538734436035156\n",
      "     obtained local values 0.00795602798461914\n",
      "get_mc_stats 0.012417078018188477\n"
     ]
    },
    {
     "name": "stderr",
     "output_type": "stream",
     "text": [
      " 23%|██▎       | 227/1000 [50:27<2:50:24, 13.23s/it, Energy=-2.10562+0.00000j ± 0.00024 [σ²=0.00005]]"
     ]
    },
    {
     "name": "stdout",
     "output_type": "stream",
     "text": [
      "--->> cal O and jac  0.036373138427734375\n",
      "compute_update  0.03962087631225586\n",
      "(0.03751414809812395+0j)\n",
      "n_discard =  144\n",
      "discard samples 1.659240961074829\n",
      "n_samples_node =  1000\n",
      "generate_samples :  11.543545961380005\n",
      "     prepare getting local values 0.0024781227111816406\n",
      "     obtained local values 0.008421897888183594\n",
      "get_mc_stats 0.013262033462524414\n"
     ]
    },
    {
     "name": "stderr",
     "output_type": "stream",
     "text": [
      " 23%|██▎       | 228/1000 [50:40<2:50:19, 13.24s/it, Energy=-2.10576+0.00000j ± 0.00025 [σ²=0.00005]]"
     ]
    },
    {
     "name": "stdout",
     "output_type": "stream",
     "text": [
      "--->> cal O and jac  0.04028892517089844\n",
      "compute_update  0.04370307922363281\n",
      "(0.03755117275795711+0j)\n",
      "n_discard =  144\n",
      "discard samples 1.6847999095916748\n",
      "n_samples_node =  1000\n",
      "generate_samples :  11.854723930358887\n",
      "     prepare getting local values 0.0026710033416748047\n",
      "     obtained local values 0.008387088775634766\n",
      "get_mc_stats 0.013098001480102539\n"
     ]
    },
    {
     "name": "stderr",
     "output_type": "stream",
     "text": [
      " 23%|██▎       | 229/1000 [50:53<2:51:29, 13.35s/it, Energy=-2.10584+0.00000j ± 0.00020 [σ²=0.00004]]"
     ]
    },
    {
     "name": "stdout",
     "output_type": "stream",
     "text": [
      "--->> cal O and jac  0.037497758865356445\n",
      "compute_update  0.04130196571350098\n",
      "(0.03759526250132277+0j)\n",
      "n_discard =  144\n",
      "discard samples 1.6512501239776611\n",
      "n_samples_node =  1000\n",
      "generate_samples :  11.589931011199951\n",
      "     prepare getting local values 0.002401113510131836\n",
      "     obtained local values 0.008064031600952148\n",
      "get_mc_stats 0.0135040283203125\n"
     ]
    },
    {
     "name": "stderr",
     "output_type": "stream",
     "text": [
      " 23%|██▎       | 230/1000 [51:07<2:51:07, 13.33s/it, Energy=-2.10628+0.00000j ± 0.00015 [σ²=0.00004]]"
     ]
    },
    {
     "name": "stdout",
     "output_type": "stream",
     "text": [
      "--->> cal O and jac  0.04609107971191406\n",
      "compute_update  0.05055594444274902\n",
      "(0.03764029882374801+0j)\n",
      "n_discard =  144\n",
      "discard samples 1.6758840084075928\n",
      "n_samples_node =  1000\n",
      "generate_samples :  11.485399007797241\n",
      "     prepare getting local values 0.0021560192108154297\n",
      "     obtained local values 0.008257150650024414\n",
      "get_mc_stats 0.012798070907592773\n"
     ]
    },
    {
     "name": "stderr",
     "output_type": "stream",
     "text": [
      " 23%|██▎       | 231/1000 [51:20<2:50:27, 13.30s/it, Energy=-2.10586+0.00000j ± 0.00019 [σ²=0.00004]]"
     ]
    },
    {
     "name": "stdout",
     "output_type": "stream",
     "text": [
      "--->> cal O and jac  0.04160714149475098\n",
      "compute_update  0.04496884346008301\n",
      "(0.037689732086132195+0j)\n",
      "n_discard =  144\n",
      "discard samples 1.6597158908843994\n",
      "n_samples_node =  1000\n",
      "generate_samples :  11.718243837356567\n",
      "     prepare getting local values 0.002215147018432617\n",
      "     obtained local values 0.00832509994506836\n",
      "get_mc_stats 0.012680768966674805\n"
     ]
    },
    {
     "name": "stderr",
     "output_type": "stream",
     "text": [
      " 23%|██▎       | 232/1000 [51:33<2:50:45, 13.34s/it, Energy=-2.10568+0.00000j ± 0.00021 [σ²=0.00004]]"
     ]
    },
    {
     "name": "stdout",
     "output_type": "stream",
     "text": [
      "--->> cal O and jac  0.03778696060180664\n",
      "compute_update  0.04120779037475586\n",
      "(0.03773562291708844+0j)\n",
      "n_discard =  144\n",
      "discard samples 1.695863962173462\n",
      "n_samples_node =  1000\n",
      "generate_samples :  11.671614170074463\n",
      "     prepare getting local values 0.0028269290924072266\n",
      "     obtained local values 0.00885009765625\n",
      "get_mc_stats 0.01370382308959961\n"
     ]
    },
    {
     "name": "stderr",
     "output_type": "stream",
     "text": [
      " 23%|██▎       | 233/1000 [51:47<2:50:51, 13.37s/it, Energy=-2.10551+0.00000j ± 0.00019 [σ²=0.00005]]"
     ]
    },
    {
     "name": "stdout",
     "output_type": "stream",
     "text": [
      "--->> cal O and jac  0.039491891860961914\n",
      "compute_update  0.04269099235534668\n",
      "(0.0377719172608872+0j)\n",
      "n_discard =  144\n",
      "discard samples 1.6645281314849854\n",
      "n_samples_node =  1000\n",
      "generate_samples :  11.783920049667358\n",
      "     prepare getting local values 0.002712249755859375\n",
      "     obtained local values 0.008509159088134766\n",
      "get_mc_stats 0.01347208023071289\n"
     ]
    },
    {
     "name": "stderr",
     "output_type": "stream",
     "text": [
      " 23%|██▎       | 234/1000 [52:00<2:51:12, 13.41s/it, Energy=-2.10636+0.00000j ± 0.00018 [σ²=0.00004]]"
     ]
    },
    {
     "name": "stdout",
     "output_type": "stream",
     "text": [
      "--->> cal O and jac  0.04498410224914551\n",
      "compute_update  0.048392295837402344\n",
      "(0.037817785838353254+0j)\n",
      "n_discard =  144\n",
      "discard samples 1.7012860774993896\n",
      "n_samples_node =  1000\n",
      "generate_samples :  11.455788135528564\n",
      "     prepare getting local values 0.002343893051147461\n",
      "     obtained local values 0.008305788040161133\n",
      "get_mc_stats 0.01248788833618164\n"
     ]
    },
    {
     "name": "stderr",
     "output_type": "stream",
     "text": [
      " 24%|██▎       | 235/1000 [52:14<2:50:18, 13.36s/it, Energy=-2.10581+0.00000j ± 0.00025 [σ²=0.00005]]"
     ]
    },
    {
     "name": "stdout",
     "output_type": "stream",
     "text": [
      "--->> cal O and jac  0.052304983139038086\n",
      "compute_update  0.06062173843383789\n",
      "(0.03785066991787141+0j)\n",
      "n_discard =  144\n",
      "discard samples 1.7275078296661377\n",
      "n_samples_node =  1000\n",
      "generate_samples :  11.703479051589966\n",
      "     prepare getting local values 0.0023348331451416016\n",
      "     obtained local values 0.008072137832641602\n",
      "get_mc_stats 0.01201486587524414\n"
     ]
    },
    {
     "name": "stderr",
     "output_type": "stream",
     "text": [
      " 24%|██▎       | 236/1000 [52:27<2:50:34, 13.40s/it, Energy=-2.10583+0.00000j ± 0.00018 [σ²=0.00005]]"
     ]
    },
    {
     "name": "stdout",
     "output_type": "stream",
     "text": [
      "--->> cal O and jac  0.03629493713378906\n",
      "compute_update  0.04067397117614746\n",
      "(0.037887962680103714+0j)\n",
      "n_discard =  144\n",
      "discard samples 1.7193760871887207\n",
      "n_samples_node =  1000\n",
      "generate_samples :  11.71160101890564\n",
      "     prepare getting local values 0.0020742416381835938\n",
      "     obtained local values 0.007963180541992188\n",
      "get_mc_stats 0.011604070663452148\n"
     ]
    },
    {
     "name": "stderr",
     "output_type": "stream",
     "text": [
      " 24%|██▎       | 237/1000 [52:40<2:50:42, 13.42s/it, Energy=-2.10549+0.00000j ± 0.00021 [σ²=0.00005]]"
     ]
    },
    {
     "name": "stdout",
     "output_type": "stream",
     "text": [
      "--->> cal O and jac  0.03922677040100098\n",
      "compute_update  0.04297184944152832\n",
      "(0.037927301067015105+0j)\n",
      "n_discard =  144\n",
      "discard samples 1.683366298675537\n",
      "n_samples_node =  1000\n",
      "generate_samples :  11.92284083366394\n",
      "     prepare getting local values 0.0030829906463623047\n",
      "     obtained local values 0.008964300155639648\n",
      "get_mc_stats 0.013560771942138672\n"
     ]
    },
    {
     "name": "stderr",
     "output_type": "stream",
     "text": [
      " 24%|██▍       | 238/1000 [52:54<2:51:24, 13.50s/it, Energy=-2.10554+0.00000j ± 0.00019 [σ²=0.00005]]"
     ]
    },
    {
     "name": "stdout",
     "output_type": "stream",
     "text": [
      "--->> cal O and jac  0.040926218032836914\n",
      "compute_update  0.04530191421508789\n",
      "(0.037958680667336805+0j)\n",
      "n_discard =  144\n",
      "discard samples 1.7201499938964844\n",
      "n_samples_node =  1000\n",
      "generate_samples :  11.82399320602417\n",
      "     prepare getting local values 0.0022699832916259766\n",
      "     obtained local values 0.007988929748535156\n",
      "get_mc_stats 0.012061119079589844\n"
     ]
    },
    {
     "name": "stderr",
     "output_type": "stream",
     "text": [
      " 24%|██▍       | 239/1000 [53:08<2:51:34, 13.53s/it, Energy=-2.10606+0.00000j ± 0.00021 [σ²=0.00004]]"
     ]
    },
    {
     "name": "stdout",
     "output_type": "stream",
     "text": [
      "--->> cal O and jac  0.039186954498291016\n",
      "compute_update  0.042448997497558594\n",
      "(0.03799767424787318+0j)\n",
      "n_discard =  144\n",
      "discard samples 1.67592191696167\n",
      "n_samples_node =  1000\n",
      "generate_samples :  11.504465818405151\n",
      "     prepare getting local values 0.0023040771484375\n",
      "     obtained local values 0.008312225341796875\n",
      "get_mc_stats 0.012500762939453125\n"
     ]
    },
    {
     "name": "stderr",
     "output_type": "stream",
     "text": [
      " 24%|██▍       | 240/1000 [53:21<2:50:14, 13.44s/it, Energy=-2.10563+0.00000j ± 0.00017 [σ²=0.00004]]"
     ]
    },
    {
     "name": "stdout",
     "output_type": "stream",
     "text": [
      "--->> cal O and jac  0.03737497329711914\n",
      "compute_update  0.040508270263671875\n",
      "(0.038037758887156214+0j)\n",
      "n_discard =  144\n",
      "discard samples 1.6473422050476074\n",
      "n_samples_node =  1000\n",
      "generate_samples :  11.477994918823242\n",
      "     prepare getting local values 0.002351045608520508\n",
      "     obtained local values 0.007896184921264648\n",
      "get_mc_stats 0.011830568313598633\n"
     ]
    },
    {
     "name": "stderr",
     "output_type": "stream",
     "text": [
      " 24%|██▍       | 241/1000 [53:34<2:49:02, 13.36s/it, Energy=-2.10606+0.00000j ± 0.00024 [σ²=0.00004]]"
     ]
    },
    {
     "name": "stdout",
     "output_type": "stream",
     "text": [
      "--->> cal O and jac  0.037199974060058594\n",
      "compute_update  0.04180192947387695\n",
      "(0.03807291330004492+0j)\n",
      "n_discard =  144\n",
      "discard samples 1.6677298545837402\n",
      "n_samples_node =  1000\n",
      "generate_samples :  11.762610912322998\n",
      "     prepare getting local values 0.002299785614013672\n",
      "     obtained local values 0.00830388069152832\n",
      "get_mc_stats 0.012625932693481445\n"
     ]
    },
    {
     "name": "stderr",
     "output_type": "stream",
     "text": [
      " 24%|██▍       | 242/1000 [53:48<2:49:17, 13.40s/it, Energy=-2.10553+0.00000j ± 0.00022 [σ²=0.00004]]"
     ]
    },
    {
     "name": "stdout",
     "output_type": "stream",
     "text": [
      "--->> cal O and jac  0.03792595863342285\n",
      "compute_update  0.041475772857666016\n",
      "(0.03812365872178103+0j)\n",
      "n_discard =  144\n",
      "discard samples 1.656445026397705\n",
      "n_samples_node =  1000\n",
      "generate_samples :  11.60183310508728\n",
      "     prepare getting local values 0.002421140670776367\n",
      "     obtained local values 0.00805521011352539\n",
      "get_mc_stats 0.012244939804077148\n"
     ]
    },
    {
     "name": "stderr",
     "output_type": "stream",
     "text": [
      " 24%|██▍       | 243/1000 [54:01<2:48:44, 13.37s/it, Energy=-2.10585+0.00000j ± 0.00022 [σ²=0.00005]]"
     ]
    },
    {
     "name": "stdout",
     "output_type": "stream",
     "text": [
      "--->> cal O and jac  0.03964400291442871\n",
      "compute_update  0.043528079986572266\n",
      "(0.0381662504772754+0j)\n",
      "n_discard =  144\n",
      "discard samples 1.6951990127563477\n",
      "n_samples_node =  1000\n",
      "generate_samples :  11.442744016647339\n",
      "     prepare getting local values 0.00215911865234375\n",
      "     obtained local values 0.007973194122314453\n",
      "get_mc_stats 0.012041091918945312\n"
     ]
    },
    {
     "name": "stderr",
     "output_type": "stream",
     "text": [
      " 24%|██▍       | 244/1000 [54:14<2:47:49, 13.32s/it, Energy=-2.10550+0.00000j ± 0.00019 [σ²=0.00005]]"
     ]
    },
    {
     "name": "stdout",
     "output_type": "stream",
     "text": [
      "--->> cal O and jac  0.036475181579589844\n",
      "compute_update  0.03983306884765625\n",
      "(0.038196930530843706+0j)\n",
      "n_discard =  144\n",
      "discard samples 1.6495146751403809\n",
      "n_samples_node =  1000\n",
      "generate_samples :  11.434115171432495\n",
      "     prepare getting local values 0.0022897720336914062\n",
      "     obtained local values 0.008002042770385742\n",
      "get_mc_stats 0.012265920639038086\n"
     ]
    },
    {
     "name": "stderr",
     "output_type": "stream",
     "text": [
      " 24%|██▍       | 245/1000 [54:27<2:46:56, 13.27s/it, Energy=-2.10586+0.00000j ± 0.00023 [σ²=0.00005]]"
     ]
    },
    {
     "name": "stdout",
     "output_type": "stream",
     "text": [
      "--->> cal O and jac  0.03833508491516113\n",
      "compute_update  0.04260087013244629\n",
      "(0.03823495010291131+0j)\n",
      "n_discard =  144\n",
      "discard samples 1.6677699089050293\n",
      "n_samples_node =  1000\n",
      "generate_samples :  11.452587127685547\n",
      "     prepare getting local values 0.0021991729736328125\n",
      "     obtained local values 0.007987022399902344\n",
      "get_mc_stats 0.012167215347290039\n"
     ]
    },
    {
     "name": "stderr",
     "output_type": "stream",
     "text": [
      " 25%|██▍       | 246/1000 [54:40<2:46:21, 13.24s/it, Energy=-2.10586+0.00000j ± 0.00020 [σ²=0.00005]]"
     ]
    },
    {
     "name": "stdout",
     "output_type": "stream",
     "text": [
      "--->> cal O and jac  0.03498101234436035\n",
      "compute_update  0.038407087326049805\n",
      "(0.038271173901864804+0j)\n",
      "n_discard =  144\n",
      "discard samples 1.6649091243743896\n",
      "n_samples_node =  1000\n",
      "generate_samples :  11.638436079025269\n",
      "     prepare getting local values 0.0023076534271240234\n",
      "     obtained local values 0.008346796035766602\n",
      "get_mc_stats 0.01380467414855957\n"
     ]
    },
    {
     "name": "stderr",
     "output_type": "stream",
     "text": [
      " 25%|██▍       | 247/1000 [54:54<2:46:36, 13.27s/it, Energy=-2.10553+0.00000j ± 0.00021 [σ²=0.00004]]"
     ]
    },
    {
     "name": "stdout",
     "output_type": "stream",
     "text": [
      "--->> cal O and jac  0.03696298599243164\n",
      "compute_update  0.04045295715332031\n",
      "(0.03830362313184922+0j)\n",
      "n_discard =  144\n",
      "discard samples 1.6811139583587646\n",
      "n_samples_node =  1000\n",
      "generate_samples :  11.54706883430481\n",
      "     prepare getting local values 0.0021529197692871094\n",
      "     obtained local values 0.008396148681640625\n",
      "get_mc_stats 0.012638092041015625\n"
     ]
    },
    {
     "name": "stderr",
     "output_type": "stream",
     "text": [
      " 25%|██▍       | 248/1000 [55:07<2:46:25, 13.28s/it, Energy=-2.10573+0.00000j ± 0.00020 [σ²=0.00004]]"
     ]
    },
    {
     "name": "stdout",
     "output_type": "stream",
     "text": [
      "--->> cal O and jac  0.04188108444213867\n",
      "compute_update  0.04482412338256836\n",
      "(0.03833074638013741+0j)\n",
      "n_discard =  144\n",
      "discard samples 1.6982977390289307\n",
      "n_samples_node =  1000\n",
      "generate_samples :  12.549341917037964\n",
      "     prepare getting local values 0.002463102340698242\n",
      "     obtained local values 0.008482217788696289\n",
      "get_mc_stats 0.014739990234375\n"
     ]
    },
    {
     "name": "stderr",
     "output_type": "stream",
     "text": [
      " 25%|██▍       | 249/1000 [55:21<2:50:07, 13.59s/it, Energy=-2.10603+0.00000j ± 0.00018 [σ²=0.00004]]"
     ]
    },
    {
     "name": "stdout",
     "output_type": "stream",
     "text": [
      "--->> cal O and jac  0.05239391326904297\n",
      "compute_update  0.05594992637634277\n",
      "(0.038364529403047166+0j)\n",
      "n_discard =  144\n",
      "discard samples 1.8204448223114014\n",
      "n_samples_node =  1000\n",
      "generate_samples :  11.740860939025879\n",
      "     prepare getting local values 0.002299785614013672\n",
      "     obtained local values 0.008057832717895508\n",
      "get_mc_stats 0.01271510124206543\n"
     ]
    },
    {
     "name": "stderr",
     "output_type": "stream",
     "text": [
      " 25%|██▌       | 250/1000 [55:35<2:49:59, 13.60s/it, Energy=-2.10574+0.00000j ± 0.00016 [σ²=0.00004]]"
     ]
    },
    {
     "name": "stdout",
     "output_type": "stream",
     "text": [
      "--->> cal O and jac  0.037554025650024414\n",
      "compute_update  0.0412440299987793\n",
      "(0.03840638339728224+0j)\n",
      "n_discard =  144\n",
      "discard samples 1.6474719047546387\n",
      "n_samples_node =  1000\n",
      "generate_samples :  11.736397981643677\n",
      "     prepare getting local values 0.0024771690368652344\n",
      "     obtained local values 0.00826120376586914\n",
      "get_mc_stats 0.01247406005859375\n"
     ]
    },
    {
     "name": "stderr",
     "output_type": "stream",
     "text": [
      " 25%|██▌       | 251/1000 [55:49<2:49:11, 13.55s/it, Energy=-2.10610+0.00000j ± 0.00018 [σ²=0.00004]]"
     ]
    },
    {
     "name": "stdout",
     "output_type": "stream",
     "text": [
      "--->> cal O and jac  0.039629220962524414\n",
      "compute_update  0.044402122497558594\n",
      "(0.038446762446444176+0j)\n",
      "n_discard =  144\n",
      "discard samples 1.6764140129089355\n",
      "n_samples_node =  1000\n",
      "generate_samples :  11.760378122329712\n",
      "     prepare getting local values 0.002260923385620117\n",
      "     obtained local values 0.008008956909179688\n",
      "get_mc_stats 0.012497901916503906\n"
     ]
    },
    {
     "name": "stderr",
     "output_type": "stream",
     "text": [
      " 25%|██▌       | 252/1000 [56:02<2:48:44, 13.53s/it, Energy=-2.10587+0.00000j ± 0.00024 [σ²=0.00004]]"
     ]
    },
    {
     "name": "stdout",
     "output_type": "stream",
     "text": [
      "--->> cal O and jac  0.03774714469909668\n",
      "compute_update  0.04106616973876953\n",
      "(0.03849331068143317+0j)\n",
      "n_discard =  144\n",
      "discard samples 1.7370860576629639\n",
      "n_samples_node =  1000\n",
      "generate_samples :  11.761567831039429\n",
      "     prepare getting local values 0.0022737979888916016\n",
      "     obtained local values 0.008131027221679688\n",
      "get_mc_stats 0.012292146682739258\n"
     ]
    },
    {
     "name": "stderr",
     "output_type": "stream",
     "text": [
      " 25%|██▌       | 253/1000 [56:16<2:48:36, 13.54s/it, Energy=-2.10569+0.00000j ± 0.00023 [σ²=0.00005]]"
     ]
    },
    {
     "name": "stdout",
     "output_type": "stream",
     "text": [
      "--->> cal O and jac  0.04346585273742676\n",
      "compute_update  0.04762601852416992\n",
      "(0.03853055108034855+0j)\n",
      "n_discard =  144\n",
      "discard samples 1.724168062210083\n",
      "n_samples_node =  1000\n",
      "generate_samples :  11.76010012626648\n",
      "     prepare getting local values 0.002401113510131836\n",
      "     obtained local values 0.008066177368164062\n",
      "get_mc_stats 0.011818647384643555\n"
     ]
    },
    {
     "name": "stderr",
     "output_type": "stream",
     "text": [
      " 25%|██▌       | 254/1000 [56:29<2:48:24, 13.54s/it, Energy=-2.10637+0.00000j ± 0.00017 [σ²=0.00004]]"
     ]
    },
    {
     "name": "stdout",
     "output_type": "stream",
     "text": [
      "--->> cal O and jac  0.046965837478637695\n",
      "compute_update  0.05069375038146973\n",
      "(0.03856181999129855+0j)\n",
      "n_discard =  144\n",
      "discard samples 1.7264320850372314\n",
      "n_samples_node =  1000\n",
      "generate_samples :  11.800641059875488\n",
      "     prepare getting local values 0.0022258758544921875\n",
      "     obtained local values 0.007840871810913086\n",
      "get_mc_stats 0.01225590705871582\n"
     ]
    },
    {
     "name": "stderr",
     "output_type": "stream",
     "text": [
      " 26%|██▌       | 255/1000 [56:43<2:48:19, 13.56s/it, Energy=-2.10581+0.00000j ± 0.00014 [σ²=0.00004]]"
     ]
    },
    {
     "name": "stdout",
     "output_type": "stream",
     "text": [
      "--->> cal O and jac  0.03718400001525879\n",
      "compute_update  0.04118609428405762\n",
      "(0.0385927087677625+0j)\n",
      "n_discard =  144\n",
      "discard samples 1.7145309448242188\n",
      "n_samples_node =  1000\n",
      "generate_samples :  11.798902750015259\n",
      "     prepare getting local values 0.002154827117919922\n",
      "     obtained local values 0.008064985275268555\n",
      "get_mc_stats 0.012411355972290039\n"
     ]
    },
    {
     "name": "stderr",
     "output_type": "stream",
     "text": [
      " 26%|██▌       | 256/1000 [56:56<2:48:09, 13.56s/it, Energy=-2.10593+0.00000j ± 0.00020 [σ²=0.00004]]"
     ]
    },
    {
     "name": "stdout",
     "output_type": "stream",
     "text": [
      "--->> cal O and jac  0.03907608985900879\n",
      "compute_update  0.0424802303314209\n",
      "(0.03862045316380319+0j)\n",
      "n_discard =  144\n",
      "discard samples 1.6670536994934082\n",
      "n_samples_node =  1000\n",
      "generate_samples :  11.817338943481445\n",
      "     prepare getting local values 0.002353191375732422\n",
      "     obtained local values 0.008558034896850586\n",
      "get_mc_stats 0.013426065444946289\n"
     ]
    },
    {
     "name": "stderr",
     "output_type": "stream",
     "text": [
      " 26%|██▌       | 257/1000 [57:10<2:47:54, 13.56s/it, Energy=-2.10574+0.00000j ± 0.00017 [σ²=0.00004]]"
     ]
    },
    {
     "name": "stdout",
     "output_type": "stream",
     "text": [
      "--->> cal O and jac  0.04865312576293945\n",
      "compute_update  0.05341815948486328\n",
      "(0.03865125860215567+0j)\n",
      "n_discard =  144\n",
      "discard samples 1.721524953842163\n",
      "n_samples_node =  1000\n",
      "generate_samples :  11.50461483001709\n",
      "     prepare getting local values 0.002290010452270508\n",
      "     obtained local values 0.008341073989868164\n",
      "get_mc_stats 0.012314796447753906\n"
     ]
    },
    {
     "name": "stderr",
     "output_type": "stream",
     "text": [
      " 26%|██▌       | 258/1000 [57:23<2:46:39, 13.48s/it, Energy=-2.10555+0.00000j ± 0.00018 [σ²=0.00004]]"
     ]
    },
    {
     "name": "stdout",
     "output_type": "stream",
     "text": [
      "--->> cal O and jac  0.03769087791442871\n",
      "compute_update  0.04120898246765137\n",
      "(0.03868146242439983+0j)\n",
      "n_discard =  144\n",
      "discard samples 1.6585400104522705\n",
      "n_samples_node =  1000\n",
      "generate_samples :  11.456118822097778\n",
      "     prepare getting local values 0.002206087112426758\n",
      "     obtained local values 0.008045196533203125\n",
      "get_mc_stats 0.012292146682739258\n"
     ]
    },
    {
     "name": "stderr",
     "output_type": "stream",
     "text": [
      " 26%|██▌       | 259/1000 [57:36<2:45:17, 13.38s/it, Energy=-2.10559+0.00000j ± 0.00021 [σ²=0.00004]]"
     ]
    },
    {
     "name": "stdout",
     "output_type": "stream",
     "text": [
      "--->> cal O and jac  0.03545784950256348\n",
      "compute_update  0.038793087005615234\n",
      "(0.03870448866689446+0j)\n",
      "n_discard =  144\n",
      "discard samples 1.662243127822876\n",
      "n_samples_node =  1000\n",
      "generate_samples :  11.51788592338562\n",
      "     prepare getting local values 0.002986907958984375\n",
      "     obtained local values 0.008785724639892578\n",
      "get_mc_stats 0.012752056121826172\n"
     ]
    },
    {
     "name": "stderr",
     "output_type": "stream",
     "text": [
      " 26%|██▌       | 260/1000 [57:50<2:44:32, 13.34s/it, Energy=-2.10567+0.00000j ± 0.00021 [σ²=0.00004]]"
     ]
    },
    {
     "name": "stdout",
     "output_type": "stream",
     "text": [
      "--->> cal O and jac  0.04279780387878418\n",
      "compute_update  0.047142744064331055\n",
      "(0.038732552049342464+0j)\n",
      "n_discard =  144\n",
      "discard samples 1.6909527778625488\n",
      "n_samples_node =  1000\n",
      "generate_samples :  11.88106393814087\n",
      "     prepare getting local values 0.002249002456665039\n",
      "     obtained local values 0.00808095932006836\n",
      "get_mc_stats 0.013341188430786133\n"
     ]
    },
    {
     "name": "stderr",
     "output_type": "stream",
     "text": [
      " 26%|██▌       | 261/1000 [58:03<2:45:23, 13.43s/it, Energy=-2.10582+0.00000j ± 0.00017 [σ²=0.00004]]"
     ]
    },
    {
     "name": "stdout",
     "output_type": "stream",
     "text": [
      "--->> cal O and jac  0.03715825080871582\n",
      "compute_update  0.04039931297302246\n",
      "(0.038760365064575836+0j)\n",
      "n_discard =  144\n",
      "discard samples 1.6721768379211426\n",
      "n_samples_node =  1000\n",
      "generate_samples :  11.67595386505127\n",
      "     prepare getting local values 0.001981019973754883\n",
      "     obtained local values 0.0076639652252197266\n",
      "get_mc_stats 0.011934041976928711\n"
     ]
    },
    {
     "name": "stderr",
     "output_type": "stream",
     "text": [
      " 26%|██▌       | 262/1000 [58:17<2:45:04, 13.42s/it, Energy=-2.10593+0.00000j ± 0.00015 [σ²=0.00003]]"
     ]
    },
    {
     "name": "stdout",
     "output_type": "stream",
     "text": [
      "--->> cal O and jac  0.037953853607177734\n",
      "compute_update  0.04149484634399414\n",
      "(0.038792446021029374+0j)\n",
      "n_discard =  144\n",
      "discard samples 1.7416210174560547\n",
      "n_samples_node =  1000\n",
      "generate_samples :  12.23926305770874\n",
      "     prepare getting local values 0.004337310791015625\n",
      "     obtained local values 0.015189170837402344\n",
      "get_mc_stats 0.02138495445251465\n"
     ]
    },
    {
     "name": "stderr",
     "output_type": "stream",
     "text": [
      " 26%|██▋       | 263/1000 [58:31<2:47:15, 13.62s/it, Energy=-2.10603+0.00000j ± 0.00018 [σ²=0.00004]]"
     ]
    },
    {
     "name": "stdout",
     "output_type": "stream",
     "text": [
      "--->> cal O and jac  0.06108689308166504\n",
      "compute_update  0.06788873672485352\n",
      "(0.03882846490632539+0j)\n",
      "n_discard =  144\n",
      "discard samples 1.9609370231628418\n",
      "n_samples_node =  1000\n",
      "generate_samples :  12.08461308479309\n",
      "     prepare getting local values 0.0022821426391601562\n",
      "     obtained local values 0.007962942123413086\n",
      "get_mc_stats 0.01219034194946289\n"
     ]
    },
    {
     "name": "stderr",
     "output_type": "stream",
     "text": [
      " 26%|██▋       | 264/1000 [58:45<2:48:49, 13.76s/it, Energy=-2.10567+0.00000j ± 0.00018 [σ²=0.00004]]"
     ]
    },
    {
     "name": "stdout",
     "output_type": "stream",
     "text": [
      "--->> cal O and jac  0.040164947509765625\n",
      "compute_update  0.044178009033203125\n",
      "(0.038858189667778646+0j)\n",
      "n_discard =  144\n",
      "discard samples 1.9512639045715332\n",
      "n_samples_node =  1000\n",
      "generate_samples :  11.943940162658691\n",
      "     prepare getting local values 0.0023849010467529297\n",
      "     obtained local values 0.00834202766418457\n",
      "get_mc_stats 0.012664794921875\n"
     ]
    },
    {
     "name": "stderr",
     "output_type": "stream",
     "text": [
      " 26%|██▋       | 265/1000 [58:59<2:49:16, 13.82s/it, Energy=-2.10589+0.00000j ± 0.00014 [σ²=0.00003]]"
     ]
    },
    {
     "name": "stdout",
     "output_type": "stream",
     "text": [
      "--->> cal O and jac  0.03575706481933594\n",
      "compute_update  0.03884172439575195\n",
      "(0.03888955689136158+0j)\n",
      "n_discard =  144\n",
      "discard samples 1.6773078441619873\n",
      "n_samples_node =  1000\n",
      "generate_samples :  11.717883348464966\n",
      "     prepare getting local values 0.002321958541870117\n",
      "     obtained local values 0.00843501091003418\n",
      "get_mc_stats 0.014007091522216797\n"
     ]
    },
    {
     "name": "stderr",
     "output_type": "stream",
     "text": [
      " 27%|██▋       | 266/1000 [59:12<2:47:43, 13.71s/it, Energy=-2.10586+0.00000j ± 0.00016 [σ²=0.00004]]"
     ]
    },
    {
     "name": "stdout",
     "output_type": "stream",
     "text": [
      "--->> cal O and jac  0.039752960205078125\n",
      "compute_update  0.043515682220458984\n",
      "(0.03890793491266791+0j)\n",
      "n_discard =  144\n",
      "discard samples 1.642625093460083\n",
      "n_samples_node =  1000\n",
      "generate_samples :  11.46536135673523\n",
      "     prepare getting local values 0.002086162567138672\n",
      "     obtained local values 0.008007049560546875\n",
      "get_mc_stats 0.01201772689819336\n"
     ]
    },
    {
     "name": "stderr",
     "output_type": "stream",
     "text": [
      " 27%|██▋       | 267/1000 [59:25<2:45:28, 13.55s/it, Energy=-2.10611+0.00000j ± 0.00019 [σ²=0.00003]]"
     ]
    },
    {
     "name": "stdout",
     "output_type": "stream",
     "text": [
      "--->> cal O and jac  0.03628373146057129\n",
      "compute_update  0.039566993713378906\n",
      "(0.038938740561788504+0j)\n",
      "n_discard =  144\n",
      "discard samples 1.6580379009246826\n",
      "n_samples_node =  1000\n",
      "generate_samples :  11.757276058197021\n",
      "     prepare getting local values 0.0028028488159179688\n",
      "     obtained local values 0.008675813674926758\n",
      "get_mc_stats 0.014075756072998047\n"
     ]
    },
    {
     "name": "stderr",
     "output_type": "stream",
     "text": [
      " 27%|██▋       | 268/1000 [59:39<2:45:00, 13.52s/it, Energy=-2.10595+0.00000j ± 0.00019 [σ²=0.00003]]"
     ]
    },
    {
     "name": "stdout",
     "output_type": "stream",
     "text": [
      "--->> cal O and jac  0.04047894477844238\n",
      "compute_update  0.0443720817565918\n",
      "(0.03896941635467557+0j)\n",
      "n_discard =  144\n",
      "discard samples 1.6567258834838867\n",
      "n_samples_node =  1000\n",
      "generate_samples :  11.542931079864502\n",
      "     prepare getting local values 0.002750873565673828\n",
      "     obtained local values 0.008794069290161133\n",
      "get_mc_stats 0.014101028442382812\n"
     ]
    },
    {
     "name": "stderr",
     "output_type": "stream",
     "text": [
      " 27%|██▋       | 269/1000 [59:52<2:43:49, 13.45s/it, Energy=-2.10581+0.00000j ± 0.00020 [σ²=0.00004]]"
     ]
    },
    {
     "name": "stdout",
     "output_type": "stream",
     "text": [
      "--->> cal O and jac  0.0435178279876709\n",
      "compute_update  0.04696083068847656\n",
      "(0.03899495936745727+0j)\n",
      "n_discard =  144\n",
      "discard samples 1.787747859954834\n",
      "n_samples_node =  1000\n",
      "generate_samples :  11.51575493812561\n",
      "     prepare getting local values 0.0023980140686035156\n",
      "     obtained local values 0.008211851119995117\n",
      "get_mc_stats 0.011995077133178711\n"
     ]
    },
    {
     "name": "stderr",
     "output_type": "stream",
     "text": [
      " 27%|██▋       | 270/1000 [1:00:05<2:43:16, 13.42s/it, Energy=-2.10587+0.00000j ± 0.00020 [σ²=0.00003]]"
     ]
    },
    {
     "name": "stdout",
     "output_type": "stream",
     "text": [
      "--->> cal O and jac  0.03555893898010254\n",
      "compute_update  0.03894305229187012\n",
      "(0.03902435567876429+0j)\n",
      "n_discard =  144\n",
      "discard samples 1.6560611724853516\n",
      "n_samples_node =  1000\n",
      "generate_samples :  11.354763984680176\n",
      "     prepare getting local values 0.002332925796508789\n",
      "     obtained local values 0.008131980895996094\n",
      "get_mc_stats 0.012223958969116211\n"
     ]
    },
    {
     "name": "stderr",
     "output_type": "stream",
     "text": [
      " 27%|██▋       | 271/1000 [1:00:18<2:41:45, 13.31s/it, Energy=-2.10613+0.00000j ± 0.00021 [σ²=0.00003]]"
     ]
    },
    {
     "name": "stdout",
     "output_type": "stream",
     "text": [
      "--->> cal O and jac  0.036087989807128906\n",
      "compute_update  0.039541006088256836\n",
      "(0.03905549757666208+0j)\n",
      "n_discard =  144\n",
      "discard samples 1.6436412334442139\n",
      "n_samples_node =  1000\n",
      "generate_samples :  11.358360052108765\n",
      "     prepare getting local values 0.0022280216217041016\n",
      "     obtained local values 0.007965087890625\n",
      "get_mc_stats 0.012224912643432617\n"
     ]
    },
    {
     "name": "stderr",
     "output_type": "stream",
     "text": [
      " 27%|██▋       | 272/1000 [1:00:32<2:40:36, 13.24s/it, Energy=-2.10562+0.00000j ± 0.00018 [σ²=0.00003]]"
     ]
    },
    {
     "name": "stdout",
     "output_type": "stream",
     "text": [
      "--->> cal O and jac  0.03980612754821777\n",
      "compute_update  0.04316091537475586\n",
      "(0.03908763988974427+0j)\n",
      "n_discard =  144\n",
      "discard samples 1.6762638092041016\n",
      "n_samples_node =  1000\n",
      "generate_samples :  11.677290916442871\n",
      "     prepare getting local values 0.00793600082397461\n",
      "     obtained local values 0.02915787696838379\n",
      "get_mc_stats 0.05266594886779785\n"
     ]
    },
    {
     "name": "stderr",
     "output_type": "stream",
     "text": [
      " 27%|██▋       | 273/1000 [1:00:45<2:41:17, 13.31s/it, Energy=-2.10576+0.00000j ± 0.00018 [σ²=0.00004]]"
     ]
    },
    {
     "name": "stdout",
     "output_type": "stream",
     "text": [
      "--->> cal O and jac  0.05539202690124512\n",
      "compute_update  0.05911970138549805\n",
      "(0.039111876840752915+0j)\n",
      "n_discard =  144\n",
      "discard samples 2.0516579151153564\n",
      "n_samples_node =  1000\n",
      "generate_samples :  11.438267946243286\n",
      "     prepare getting local values 0.002245187759399414\n",
      "     obtained local values 0.007902860641479492\n",
      "get_mc_stats 0.011838912963867188\n"
     ]
    },
    {
     "name": "stderr",
     "output_type": "stream",
     "text": [
      " 27%|██▋       | 274/1000 [1:00:59<2:41:54, 13.38s/it, Energy=-2.10577+0.00000j ± 0.00013 [σ²=0.00003]]"
     ]
    },
    {
     "name": "stdout",
     "output_type": "stream",
     "text": [
      "--->> cal O and jac  0.03527379035949707\n",
      "compute_update  0.03849077224731445\n",
      "(0.03913800172571768+0j)\n",
      "n_discard =  144\n",
      "discard samples 1.6587109565734863\n",
      "n_samples_node =  1000\n",
      "generate_samples :  11.388638257980347\n",
      "     prepare getting local values 0.0023059844970703125\n",
      "     obtained local values 0.008018970489501953\n",
      "get_mc_stats 0.012245893478393555\n"
     ]
    },
    {
     "name": "stderr",
     "output_type": "stream",
     "text": [
      " 28%|██▊       | 275/1000 [1:01:12<2:40:40, 13.30s/it, Energy=-2.10591+0.00000j ± 0.00019 [σ²=0.00003]]"
     ]
    },
    {
     "name": "stdout",
     "output_type": "stream",
     "text": [
      "--->> cal O and jac  0.037152767181396484\n",
      "compute_update  0.040976762771606445\n",
      "(0.0391693710043457+0j)\n",
      "n_discard =  144\n",
      "discard samples 1.6497621536254883\n",
      "n_samples_node =  1000\n",
      "generate_samples :  11.833922147750854\n",
      "     prepare getting local values 0.0024328231811523438\n",
      "     obtained local values 0.008175849914550781\n",
      "get_mc_stats 0.012441158294677734\n"
     ]
    },
    {
     "name": "stderr",
     "output_type": "stream",
     "text": [
      " 28%|██▊       | 276/1000 [1:01:25<2:41:20, 13.37s/it, Energy=-2.10564+0.00000j ± 0.00015 [σ²=0.00003]]"
     ]
    },
    {
     "name": "stdout",
     "output_type": "stream",
     "text": [
      "--->> cal O and jac  0.03790903091430664\n",
      "compute_update  0.04146909713745117\n",
      "(0.03918806012542759+0j)\n",
      "n_discard =  144\n",
      "discard samples 1.6911098957061768\n",
      "n_samples_node =  1000\n",
      "generate_samples :  11.62391185760498\n",
      "     prepare getting local values 0.002413034439086914\n",
      "     obtained local values 0.00814199447631836\n",
      "get_mc_stats 0.012305021286010742\n"
     ]
    },
    {
     "name": "stderr",
     "output_type": "stream",
     "text": [
      " 28%|██▊       | 277/1000 [1:01:39<2:41:06, 13.37s/it, Energy=-2.10566+0.00000j ± 0.00017 [σ²=0.00003]]"
     ]
    },
    {
     "name": "stdout",
     "output_type": "stream",
     "text": [
      "--->> cal O and jac  0.03664112091064453\n",
      "compute_update  0.04000520706176758\n",
      "(0.0392111442874188+0j)\n",
      "n_discard =  144\n",
      "discard samples 1.6584298610687256\n",
      "n_samples_node =  1000\n",
      "generate_samples :  11.715943813323975\n",
      "     prepare getting local values 0.0025908946990966797\n",
      "     obtained local values 0.008419036865234375\n",
      "get_mc_stats 0.012024164199829102\n"
     ]
    },
    {
     "name": "stderr",
     "output_type": "stream",
     "text": [
      " 28%|██▊       | 278/1000 [1:01:52<2:41:06, 13.39s/it, Energy=-2.10573+0.00000j ± 0.00020 [σ²=0.00003]]"
     ]
    },
    {
     "name": "stdout",
     "output_type": "stream",
     "text": [
      "--->> cal O and jac  0.039642333984375\n",
      "compute_update  0.04346919059753418\n",
      "(0.03923242606253681+0j)\n",
      "n_discard =  144\n",
      "discard samples 1.7819850444793701\n",
      "n_samples_node =  1000\n",
      "generate_samples :  11.981267213821411\n",
      "     prepare getting local values 0.0025260448455810547\n",
      "     obtained local values 0.00841975212097168\n",
      "get_mc_stats 0.01359701156616211\n"
     ]
    },
    {
     "name": "stderr",
     "output_type": "stream",
     "text": [
      " 28%|██▊       | 279/1000 [1:02:06<2:42:27, 13.52s/it, Energy=-2.10584+0.00000j ± 0.00020 [σ²=0.00003]]"
     ]
    },
    {
     "name": "stdout",
     "output_type": "stream",
     "text": [
      "--->> cal O and jac  0.03979992866516113\n",
      "compute_update  0.04322385787963867\n",
      "(0.039255930277790056+0j)\n",
      "n_discard =  144\n",
      "discard samples 1.6775708198547363\n",
      "n_samples_node =  1000\n",
      "generate_samples :  11.692198991775513\n",
      "     prepare getting local values 0.0023908615112304688\n",
      "     obtained local values 0.008002758026123047\n",
      "get_mc_stats 0.011825084686279297\n"
     ]
    },
    {
     "name": "stderr",
     "output_type": "stream",
     "text": [
      " 28%|██▊       | 280/1000 [1:02:19<2:41:52, 13.49s/it, Energy=-2.10574+0.00000j ± 0.00019 [σ²=0.00003]]"
     ]
    },
    {
     "name": "stdout",
     "output_type": "stream",
     "text": [
      "--->> cal O and jac  0.03510093688964844\n",
      "compute_update  0.03840279579162598\n",
      "(0.03927852840011962+0j)\n",
      "n_discard =  144\n",
      "discard samples 1.6854610443115234\n",
      "n_samples_node =  1000\n",
      "generate_samples :  11.778076887130737\n",
      "     prepare getting local values 0.002290964126586914\n",
      "     obtained local values 0.00836181640625\n",
      "get_mc_stats 0.013168096542358398\n"
     ]
    },
    {
     "name": "stderr",
     "output_type": "stream",
     "text": [
      " 28%|██▊       | 281/1000 [1:02:33<2:41:45, 13.50s/it, Energy=-2.10563+0.00000j ± 0.00016 [σ²=0.00003]]"
     ]
    },
    {
     "name": "stdout",
     "output_type": "stream",
     "text": [
      "--->> cal O and jac  0.0382387638092041\n",
      "compute_update  0.04131293296813965\n",
      "(0.039294362220007484+0j)\n",
      "n_discard =  144\n",
      "discard samples 1.6511831283569336\n",
      "n_samples_node =  1000\n",
      "generate_samples :  11.499507904052734\n",
      "     prepare getting local values 0.0021371841430664062\n",
      "     obtained local values 0.007995128631591797\n",
      "get_mc_stats 0.01219797134399414\n"
     ]
    },
    {
     "name": "stderr",
     "output_type": "stream",
     "text": [
      " 28%|██▊       | 282/1000 [1:02:46<2:40:29, 13.41s/it, Energy=-2.10586+0.00000j ± 0.00020 [σ²=0.00003]]"
     ]
    },
    {
     "name": "stdout",
     "output_type": "stream",
     "text": [
      "--->> cal O and jac  0.03690314292907715\n",
      "compute_update  0.04040813446044922\n",
      "(0.039310576414315936+0j)\n",
      "n_discard =  144\n",
      "discard samples 1.662048101425171\n",
      "n_samples_node =  1000\n",
      "generate_samples :  11.548579931259155\n",
      "     prepare getting local values 0.0021250247955322266\n",
      "     obtained local values 0.008068084716796875\n",
      "get_mc_stats 0.012590885162353516\n"
     ]
    },
    {
     "name": "stderr",
     "output_type": "stream",
     "text": [
      " 28%|██▊       | 283/1000 [1:02:59<2:39:44, 13.37s/it, Energy=-2.10620+0.00000j ± 0.00015 [σ²=0.00003]]"
     ]
    },
    {
     "name": "stdout",
     "output_type": "stream",
     "text": [
      "--->> cal O and jac  0.03802919387817383\n",
      "compute_update  0.04143381118774414\n",
      "(0.03932543542416843+0j)\n",
      "n_discard =  144\n",
      "discard samples 1.6736083030700684\n",
      "n_samples_node =  1000\n",
      "generate_samples :  11.716339111328125\n",
      "     prepare getting local values 0.002680063247680664\n",
      "     obtained local values 0.008677959442138672\n",
      "get_mc_stats 0.01258993148803711\n"
     ]
    },
    {
     "name": "stderr",
     "output_type": "stream",
     "text": [
      " 28%|██▊       | 284/1000 [1:03:13<2:39:48, 13.39s/it, Energy=-2.10585+0.00000j ± 0.00019 [σ²=0.00003]]"
     ]
    },
    {
     "name": "stdout",
     "output_type": "stream",
     "text": [
      "--->> cal O and jac  0.03924083709716797\n",
      "compute_update  0.04248189926147461\n",
      "(0.039340427027864784+0j)\n",
      "n_discard =  144\n",
      "discard samples 1.7060399055480957\n",
      "n_samples_node =  1000\n",
      "generate_samples :  11.539676189422607\n",
      "     prepare getting local values 0.0022118091583251953\n",
      "     obtained local values 0.008015871047973633\n",
      "get_mc_stats 0.012387990951538086\n"
     ]
    },
    {
     "name": "stderr",
     "output_type": "stream",
     "text": [
      " 28%|██▊       | 285/1000 [1:03:26<2:39:15, 13.36s/it, Energy=-2.10592+0.00000j ± 0.00015 [σ²=0.00003]]"
     ]
    },
    {
     "name": "stdout",
     "output_type": "stream",
     "text": [
      "--->> cal O and jac  0.03838610649108887\n",
      "compute_update  0.041712045669555664\n",
      "(0.03935145646682718+0j)\n",
      "n_discard =  144\n",
      "discard samples 1.7243678569793701\n",
      "n_samples_node =  1000\n",
      "generate_samples :  11.62942099571228\n",
      "     prepare getting local values 0.002090930938720703\n",
      "     obtained local values 0.00790095329284668\n",
      "get_mc_stats 0.012246131896972656\n"
     ]
    },
    {
     "name": "stderr",
     "output_type": "stream",
     "text": [
      " 29%|██▊       | 286/1000 [1:03:39<2:39:11, 13.38s/it, Energy=-2.10569+0.00000j ± 0.00019 [σ²=0.00003]]"
     ]
    },
    {
     "name": "stdout",
     "output_type": "stream",
     "text": [
      "--->> cal O and jac  0.035308122634887695\n",
      "compute_update  0.03897595405578613\n",
      "(0.03936288239549366+0j)\n",
      "n_discard =  144\n",
      "discard samples 1.6713271141052246\n",
      "n_samples_node =  1000\n",
      "generate_samples :  11.956817865371704\n",
      "     prepare getting local values 0.004705667495727539\n",
      "     obtained local values 0.011964797973632812\n",
      "get_mc_stats 0.018924951553344727\n"
     ]
    },
    {
     "name": "stderr",
     "output_type": "stream",
     "text": [
      " 29%|██▊       | 287/1000 [1:03:53<2:40:11, 13.48s/it, Energy=-2.10580+0.00000j ± 0.00017 [σ²=0.00003]]"
     ]
    },
    {
     "name": "stdout",
     "output_type": "stream",
     "text": [
      "--->> cal O and jac  0.06556010246276855\n",
      "compute_update  0.07119917869567871\n",
      "(0.03937507801294823+0j)\n",
      "n_discard =  144\n",
      "discard samples 1.816659927368164\n",
      "n_samples_node =  1000\n",
      "generate_samples :  11.538493871688843\n",
      "     prepare getting local values 0.0021817684173583984\n",
      "     obtained local values 0.008044958114624023\n",
      "get_mc_stats 0.011881113052368164\n"
     ]
    },
    {
     "name": "stderr",
     "output_type": "stream",
     "text": [
      " 29%|██▉       | 288/1000 [1:04:07<2:39:43, 13.46s/it, Energy=-2.10613+0.00000j ± 0.00017 [σ²=0.00003]]"
     ]
    },
    {
     "name": "stdout",
     "output_type": "stream",
     "text": [
      "--->> cal O and jac  0.03788304328918457\n",
      "compute_update  0.040817975997924805\n",
      "(0.039391334267922885+0j)\n",
      "n_discard =  144\n",
      "discard samples 1.6929399967193604\n",
      "n_samples_node =  1000\n",
      "generate_samples :  11.459569215774536\n",
      "     prepare getting local values 0.0022869110107421875\n",
      "     obtained local values 0.008094072341918945\n",
      "get_mc_stats 0.012316703796386719\n"
     ]
    },
    {
     "name": "stderr",
     "output_type": "stream",
     "text": [
      " 29%|██▉       | 289/1000 [1:04:20<2:38:36, 13.38s/it, Energy=-2.10594+0.00000j ± 0.00017 [σ²=0.00003]]"
     ]
    },
    {
     "name": "stdout",
     "output_type": "stream",
     "text": [
      "--->> cal O and jac  0.035954952239990234\n",
      "compute_update  0.03941202163696289\n",
      "(0.03940923849543208+0j)\n",
      "n_discard =  144\n",
      "discard samples 1.6501989364624023\n",
      "n_samples_node =  1000\n",
      "generate_samples :  11.417303085327148\n",
      "     prepare getting local values 0.0023720264434814453\n",
      "     obtained local values 0.008219242095947266\n",
      "get_mc_stats 0.012184858322143555\n"
     ]
    },
    {
     "name": "stderr",
     "output_type": "stream",
     "text": [
      " 29%|██▉       | 290/1000 [1:04:33<2:37:28, 13.31s/it, Energy=-2.10562+0.00000j ± 0.00018 [σ²=0.00003]]"
     ]
    },
    {
     "name": "stdout",
     "output_type": "stream",
     "text": [
      "--->> cal O and jac  0.04114389419555664\n",
      "compute_update  0.04495406150817871\n",
      "(0.03941798811864709+0j)\n",
      "n_discard =  144\n",
      "discard samples 1.6892919540405273\n",
      "n_samples_node =  1000\n",
      "generate_samples :  11.546483039855957\n",
      "     prepare getting local values 0.002254962921142578\n",
      "     obtained local values 0.00813603401184082\n",
      "get_mc_stats 0.012542009353637695\n"
     ]
    },
    {
     "name": "stderr",
     "output_type": "stream",
     "text": [
      " 29%|██▉       | 291/1000 [1:04:46<2:37:11, 13.30s/it, Energy=-2.10572+0.00000j ± 0.00015 [σ²=0.00003]]"
     ]
    },
    {
     "name": "stdout",
     "output_type": "stream",
     "text": [
      "--->> cal O and jac  0.0383908748626709\n",
      "compute_update  0.041626930236816406\n",
      "(0.03943078172736516+0j)\n",
      "n_discard =  144\n",
      "discard samples 1.6731398105621338\n",
      "n_samples_node =  1000\n",
      "generate_samples :  11.693873167037964\n",
      "     prepare getting local values 0.0025610923767089844\n",
      "     obtained local values 0.008431196212768555\n",
      "get_mc_stats 0.013487100601196289\n"
     ]
    },
    {
     "name": "stderr",
     "output_type": "stream",
     "text": [
      " 29%|██▉       | 292/1000 [1:05:00<2:37:23, 13.34s/it, Energy=-2.10577+0.00000j ± 0.00015 [σ²=0.00003]]"
     ]
    },
    {
     "name": "stdout",
     "output_type": "stream",
     "text": [
      "--->> cal O and jac  0.03697991371154785\n",
      "compute_update  0.0402979850769043\n",
      "(0.039444782911042746+0j)\n",
      "n_discard =  144\n",
      "discard samples 1.6669540405273438\n",
      "n_samples_node =  1000\n",
      "generate_samples :  11.571791172027588\n",
      "     prepare getting local values 0.0024869441986083984\n",
      "     obtained local values 0.008303165435791016\n",
      "get_mc_stats 0.012551307678222656\n"
     ]
    },
    {
     "name": "stderr",
     "output_type": "stream",
     "text": [
      " 29%|██▉       | 293/1000 [1:05:13<2:37:00, 13.33s/it, Energy=-2.10572+0.00000j ± 0.00015 [σ²=0.00003]]"
     ]
    },
    {
     "name": "stdout",
     "output_type": "stream",
     "text": [
      "--->> cal O and jac  0.03611493110656738\n",
      "compute_update  0.039968013763427734\n",
      "(0.03945530587266684+0j)\n",
      "n_discard =  144\n",
      "discard samples 1.6506602764129639\n",
      "n_samples_node =  1000\n",
      "generate_samples :  11.44533395767212\n",
      "     prepare getting local values 0.0023338794708251953\n",
      "     obtained local values 0.007863998413085938\n",
      "get_mc_stats 0.011816978454589844\n"
     ]
    },
    {
     "name": "stderr",
     "output_type": "stream",
     "text": [
      " 29%|██▉       | 294/1000 [1:05:26<2:36:10, 13.27s/it, Energy=-2.10595+0.00000j ± 0.00018 [σ²=0.00003]]"
     ]
    },
    {
     "name": "stdout",
     "output_type": "stream",
     "text": [
      "--->> cal O and jac  0.035917043685913086\n",
      "compute_update  0.039130210876464844\n",
      "(0.03946781530027225+0j)\n",
      "n_discard =  144\n",
      "discard samples 1.8096752166748047\n",
      "n_samples_node =  1000\n",
      "generate_samples :  11.575170040130615\n",
      "     prepare getting local values 0.002850055694580078\n",
      "     obtained local values 0.008940935134887695\n",
      "get_mc_stats 0.013321161270141602\n"
     ]
    },
    {
     "name": "stderr",
     "output_type": "stream",
     "text": [
      " 30%|██▉       | 295/1000 [1:05:39<2:36:34, 13.33s/it, Energy=-2.10589+0.00000j ± 0.00014 [σ²=0.00003]]"
     ]
    },
    {
     "name": "stdout",
     "output_type": "stream",
     "text": [
      "--->> cal O and jac  0.04366326332092285\n",
      "compute_update  0.04756617546081543\n",
      "(0.0394789511943587+0j)\n",
      "n_discard =  144\n",
      "discard samples 1.6635329723358154\n",
      "n_samples_node =  1000\n",
      "generate_samples :  11.651133060455322\n",
      "     prepare getting local values 0.001997232437133789\n",
      "     obtained local values 0.007636308670043945\n",
      "get_mc_stats 0.01174783706665039\n"
     ]
    },
    {
     "name": "stderr",
     "output_type": "stream",
     "text": [
      " 30%|██▉       | 296/1000 [1:05:53<2:36:30, 13.34s/it, Energy=-2.10560+0.00000j ± 0.00016 [σ²=0.00003]]"
     ]
    },
    {
     "name": "stdout",
     "output_type": "stream",
     "text": [
      "--->> cal O and jac  0.037622690200805664\n",
      "compute_update  0.040811777114868164\n",
      "(0.039485016194582945+0j)\n",
      "n_discard =  144\n",
      "discard samples 1.6820542812347412\n",
      "n_samples_node =  1000\n",
      "generate_samples :  11.744972705841064\n",
      "     prepare getting local values 0.0024204254150390625\n",
      "     obtained local values 0.008082389831542969\n",
      "get_mc_stats 0.01351618766784668\n"
     ]
    },
    {
     "name": "stderr",
     "output_type": "stream",
     "text": [
      " 30%|██▉       | 297/1000 [1:06:06<2:36:48, 13.38s/it, Energy=-2.10600+0.00000j ± 0.00017 [σ²=0.00003]]"
     ]
    },
    {
     "name": "stdout",
     "output_type": "stream",
     "text": [
      "--->> cal O and jac  0.04319906234741211\n",
      "compute_update  0.046862125396728516\n",
      "(0.03949228291271167+0j)\n",
      "n_discard =  144\n",
      "discard samples 1.6599020957946777\n",
      "n_samples_node =  1000\n",
      "generate_samples :  11.437411069869995\n",
      "     prepare getting local values 0.0024340152740478516\n",
      "     obtained local values 0.0086212158203125\n",
      "get_mc_stats 0.013730049133300781\n"
     ]
    },
    {
     "name": "stderr",
     "output_type": "stream",
     "text": [
      " 30%|██▉       | 298/1000 [1:06:19<2:35:49, 13.32s/it, Energy=-2.10591+0.00000j ± 0.00014 [σ²=0.00002]]"
     ]
    },
    {
     "name": "stdout",
     "output_type": "stream",
     "text": [
      "--->> cal O and jac  0.04432988166809082\n",
      "compute_update  0.048970937728881836\n",
      "(0.03950398948115478+0j)\n",
      "n_discard =  144\n",
      "discard samples 1.7359368801116943\n",
      "n_samples_node =  1000\n",
      "generate_samples :  11.602772951126099\n",
      "     prepare getting local values 0.003248929977416992\n",
      "     obtained local values 0.009593725204467773\n",
      "get_mc_stats 0.015909194946289062\n"
     ]
    },
    {
     "name": "stderr",
     "output_type": "stream",
     "text": [
      " 30%|██▉       | 299/1000 [1:06:33<2:35:56, 13.35s/it, Energy=-2.10571+0.00000j ± 0.00019 [σ²=0.00003]]"
     ]
    },
    {
     "name": "stdout",
     "output_type": "stream",
     "text": [
      "--->> cal O and jac  0.052825212478637695\n",
      "compute_update  0.05623030662536621\n",
      "(0.039510648548067386+0j)\n",
      "n_discard =  144\n",
      "discard samples 1.6753132343292236\n",
      "n_samples_node =  1000\n",
      "generate_samples :  11.599792003631592\n",
      "     prepare getting local values 0.0021080970764160156\n",
      "     obtained local values 0.008008956909179688\n",
      "get_mc_stats 0.013176202774047852\n"
     ]
    },
    {
     "name": "stderr",
     "output_type": "stream",
     "text": [
      " 30%|███       | 300/1000 [1:06:46<2:35:40, 13.34s/it, Energy=-2.10589+0.00000j ± 0.00021 [σ²=0.00003]]"
     ]
    },
    {
     "name": "stdout",
     "output_type": "stream",
     "text": [
      "--->> cal O and jac  0.041602134704589844\n",
      "compute_update  0.04492306709289551\n",
      "(0.039518438263300024+0j)\n",
      "n_discard =  144\n",
      "discard samples 1.7726399898529053\n",
      "n_samples_node =  1000\n",
      "generate_samples :  11.672055959701538\n",
      "     prepare getting local values 0.0023081302642822266\n",
      "     obtained local values 0.008357048034667969\n",
      "get_mc_stats 0.012793779373168945\n"
     ]
    },
    {
     "name": "stderr",
     "output_type": "stream",
     "text": [
      " 30%|███       | 301/1000 [1:07:00<2:36:00, 13.39s/it, Energy=-2.10606+0.00000j ± 0.00018 [σ²=0.00003]]"
     ]
    },
    {
     "name": "stdout",
     "output_type": "stream",
     "text": [
      "--->> cal O and jac  0.039163827896118164\n",
      "compute_update  0.042318105697631836\n",
      "(0.03952770987323655+0j)\n",
      "n_discard =  144\n",
      "discard samples 1.7581398487091064\n",
      "n_samples_node =  1000\n",
      "generate_samples :  11.555304050445557\n",
      "     prepare getting local values 0.0024039745330810547\n",
      "     obtained local values 0.008471965789794922\n",
      "get_mc_stats 0.013132095336914062\n"
     ]
    },
    {
     "name": "stderr",
     "output_type": "stream",
     "text": [
      " 30%|███       | 302/1000 [1:07:13<2:35:43, 13.39s/it, Energy=-2.10571+0.00000j ± 0.00015 [σ²=0.00002]]"
     ]
    },
    {
     "name": "stdout",
     "output_type": "stream",
     "text": [
      "--->> cal O and jac  0.04075503349304199\n",
      "compute_update  0.04505014419555664\n",
      "(0.03953686712705548+0j)\n",
      "n_discard =  144\n",
      "discard samples 1.6759023666381836\n",
      "n_samples_node =  1000\n",
      "generate_samples :  11.490156888961792\n",
      "     prepare getting local values 0.002079010009765625\n",
      "     obtained local values 0.007825136184692383\n",
      "get_mc_stats 0.011836051940917969\n"
     ]
    },
    {
     "name": "stderr",
     "output_type": "stream",
     "text": [
      " 30%|███       | 303/1000 [1:07:26<2:34:55, 13.34s/it, Energy=-2.10593+0.00000j ± 0.00019 [σ²=0.00002]]"
     ]
    },
    {
     "name": "stdout",
     "output_type": "stream",
     "text": [
      "--->> cal O and jac  0.03702998161315918\n",
      "compute_update  0.04011702537536621\n",
      "(0.039547716131296415+0j)\n",
      "n_discard =  144\n",
      "discard samples 1.6643321514129639\n",
      "n_samples_node =  1000\n",
      "generate_samples :  11.501317262649536\n",
      "     prepare getting local values 0.0022487640380859375\n",
      "     obtained local values 0.008231878280639648\n",
      "get_mc_stats 0.012239933013916016\n"
     ]
    },
    {
     "name": "stderr",
     "output_type": "stream",
     "text": [
      " 30%|███       | 304/1000 [1:07:40<2:34:18, 13.30s/it, Energy=-2.10595+0.00000j ± 0.00015 [σ²=0.00002]]"
     ]
    },
    {
     "name": "stdout",
     "output_type": "stream",
     "text": [
      "--->> cal O and jac  0.038831233978271484\n",
      "compute_update  0.04214596748352051\n",
      "(0.03955559650698559+0j)\n",
      "n_discard =  144\n",
      "discard samples 1.702383041381836\n",
      "n_samples_node =  1000\n",
      "generate_samples :  11.609385967254639\n",
      "     prepare getting local values 0.002064943313598633\n",
      "     obtained local values 0.00771784782409668\n",
      "get_mc_stats 0.011660099029541016\n"
     ]
    },
    {
     "name": "stderr",
     "output_type": "stream",
     "text": [
      " 30%|███       | 305/1000 [1:07:53<2:34:18, 13.32s/it, Energy=-2.10570+0.00000j ± 0.00013 [σ²=0.00002]]"
     ]
    },
    {
     "name": "stdout",
     "output_type": "stream",
     "text": [
      "--->> cal O and jac  0.03581595420837402\n",
      "compute_update  0.039175987243652344\n",
      "(0.03956117839012737+0j)\n",
      "n_discard =  144\n",
      "discard samples 1.6477727890014648\n",
      "n_samples_node =  1000\n",
      "generate_samples :  11.421746253967285\n",
      "     prepare getting local values 0.0021321773529052734\n",
      "     obtained local values 0.007905244827270508\n",
      "get_mc_stats 0.011973857879638672\n"
     ]
    },
    {
     "name": "stderr",
     "output_type": "stream",
     "text": [
      " 31%|███       | 306/1000 [1:08:06<2:33:23, 13.26s/it, Energy=-2.10586+0.00000j ± 0.00013 [σ²=0.00002]]"
     ]
    },
    {
     "name": "stdout",
     "output_type": "stream",
     "text": [
      "--->> cal O and jac  0.03703808784484863\n",
      "compute_update  0.04048490524291992\n",
      "(0.03956907484419413+0j)\n",
      "n_discard =  144\n",
      "discard samples 1.6767761707305908\n",
      "n_samples_node =  1000\n",
      "generate_samples :  11.442085027694702\n",
      "     prepare getting local values 0.0025327205657958984\n",
      "     obtained local values 0.008970022201538086\n",
      "get_mc_stats 0.013177871704101562\n"
     ]
    },
    {
     "name": "stderr",
     "output_type": "stream",
     "text": [
      " 31%|███       | 307/1000 [1:08:19<2:32:53, 13.24s/it, Energy=-2.10600+0.00000j ± 0.00019 [σ²=0.00003]]"
     ]
    },
    {
     "name": "stdout",
     "output_type": "stream",
     "text": [
      "--->> cal O and jac  0.041819095611572266\n",
      "compute_update  0.045945167541503906\n",
      "(0.039571984622796985+0j)\n",
      "n_discard =  144\n",
      "discard samples 1.6662540435791016\n",
      "n_samples_node =  1000\n",
      "generate_samples :  11.525282859802246\n",
      "     prepare getting local values 0.0024530887603759766\n",
      "     obtained local values 0.008311033248901367\n",
      "get_mc_stats 0.012773990631103516\n"
     ]
    },
    {
     "name": "stderr",
     "output_type": "stream",
     "text": [
      " 31%|███       | 308/1000 [1:08:32<2:32:42, 13.24s/it, Energy=-2.10586+0.00000j ± 0.00015 [σ²=0.00002]]"
     ]
    },
    {
     "name": "stdout",
     "output_type": "stream",
     "text": [
      "--->> cal O and jac  0.03690981864929199\n",
      "compute_update  0.04014301300048828\n",
      "(0.03957508650981453+0j)\n",
      "n_discard =  144\n",
      "discard samples 1.7085850238800049\n",
      "n_samples_node =  1000\n",
      "generate_samples :  11.531432867050171\n",
      "     prepare getting local values 0.00232696533203125\n",
      "     obtained local values 0.008002758026123047\n",
      "get_mc_stats 0.01207113265991211\n"
     ]
    },
    {
     "name": "stderr",
     "output_type": "stream",
     "text": [
      " 31%|███       | 309/1000 [1:08:46<2:32:42, 13.26s/it, Energy=-2.10585+0.00000j ± 0.00011 [σ²=0.00002]]"
     ]
    },
    {
     "name": "stdout",
     "output_type": "stream",
     "text": [
      "--->> cal O and jac  0.04549574851989746\n",
      "compute_update  0.04925894737243652\n",
      "(0.03958217725058518+0j)\n",
      "n_discard =  144\n",
      "discard samples 1.8466858863830566\n",
      "n_samples_node =  1000\n",
      "generate_samples :  12.021894931793213\n",
      "     prepare getting local values 0.0027010440826416016\n",
      "     obtained local values 0.009150266647338867\n",
      "get_mc_stats 0.014086723327636719\n"
     ]
    },
    {
     "name": "stderr",
     "output_type": "stream",
     "text": [
      " 31%|███       | 310/1000 [1:09:00<2:34:48, 13.46s/it, Energy=-2.10594+0.00000j ± 0.00013 [σ²=0.00002]]"
     ]
    },
    {
     "name": "stdout",
     "output_type": "stream",
     "text": [
      "--->> cal O and jac  0.04299783706665039\n",
      "compute_update  0.04674792289733887\n",
      "(0.039585441386477786+0j)\n",
      "n_discard =  144\n",
      "discard samples 1.6774132251739502\n",
      "n_samples_node =  1000\n",
      "generate_samples :  11.543346405029297\n",
      "     prepare getting local values 0.0022149085998535156\n",
      "     obtained local values 0.008178949356079102\n",
      "get_mc_stats 0.013332843780517578\n"
     ]
    },
    {
     "name": "stderr",
     "output_type": "stream",
     "text": [
      " 31%|███       | 311/1000 [1:09:13<2:33:57, 13.41s/it, Energy=-2.10581+0.00000j ± 0.00014 [σ²=0.00002]]"
     ]
    },
    {
     "name": "stdout",
     "output_type": "stream",
     "text": [
      "--->> cal O and jac  0.041548967361450195\n",
      "compute_update  0.04500293731689453\n",
      "(0.03958762589993507+0j)\n",
      "n_discard =  144\n",
      "discard samples 1.667734146118164\n",
      "n_samples_node =  1000\n",
      "generate_samples :  11.667792081832886\n",
      "     prepare getting local values 0.002460956573486328\n",
      "     obtained local values 0.008417606353759766\n",
      "get_mc_stats 0.013840675354003906\n"
     ]
    },
    {
     "name": "stderr",
     "output_type": "stream",
     "text": [
      " 31%|███       | 312/1000 [1:09:26<2:33:41, 13.40s/it, Energy=-2.10590+0.00000j ± 0.00017 [σ²=0.00002]]"
     ]
    },
    {
     "name": "stdout",
     "output_type": "stream",
     "text": [
      "--->> cal O and jac  0.038680076599121094\n",
      "compute_update  0.041864871978759766\n",
      "(0.039584362651941526+0j)\n",
      "n_discard =  144\n",
      "discard samples 1.7389471530914307\n",
      "n_samples_node =  1000\n",
      "generate_samples :  11.781895875930786\n",
      "     prepare getting local values 0.002237081527709961\n",
      "     obtained local values 0.008245229721069336\n",
      "get_mc_stats 0.013599872589111328\n"
     ]
    },
    {
     "name": "stderr",
     "output_type": "stream",
     "text": [
      " 31%|███▏      | 313/1000 [1:09:40<2:34:04, 13.46s/it, Energy=-2.10587+0.00000j ± 0.00014 [σ²=0.00002]]"
     ]
    },
    {
     "name": "stdout",
     "output_type": "stream",
     "text": [
      "--->> cal O and jac  0.04076790809631348\n",
      "compute_update  0.04405403137207031\n",
      "(0.03958646096008611+0j)\n",
      "n_discard =  144\n",
      "discard samples 1.688628911972046\n",
      "n_samples_node =  1000\n",
      "generate_samples :  11.848475217819214\n",
      "     prepare getting local values 0.002349853515625\n",
      "     obtained local values 0.008222103118896484\n",
      "get_mc_stats 0.012616872787475586\n"
     ]
    },
    {
     "name": "stderr",
     "output_type": "stream",
     "text": [
      " 31%|███▏      | 314/1000 [1:09:54<2:34:19, 13.50s/it, Energy=-2.10577+0.00000j ± 0.00012 [σ²=0.00002]]"
     ]
    },
    {
     "name": "stdout",
     "output_type": "stream",
     "text": [
      "--->> cal O and jac  0.03612494468688965\n",
      "compute_update  0.0394289493560791\n",
      "(0.03959012333645726+0j)\n",
      "n_discard =  144\n",
      "discard samples 1.7320597171783447\n",
      "n_samples_node =  1000\n",
      "generate_samples :  11.843044996261597\n",
      "     prepare getting local values 0.0023581981658935547\n",
      "     obtained local values 0.00803995132446289\n",
      "get_mc_stats 0.012290000915527344\n"
     ]
    },
    {
     "name": "stderr",
     "output_type": "stream",
     "text": [
      " 32%|███▏      | 315/1000 [1:10:07<2:34:33, 13.54s/it, Energy=-2.10599+0.00000j ± 0.00013 [σ²=0.00002]]"
     ]
    },
    {
     "name": "stdout",
     "output_type": "stream",
     "text": [
      "--->> cal O and jac  0.0376131534576416\n",
      "compute_update  0.04110908508300781\n",
      "(0.03959338033216321+0j)\n",
      "n_discard =  144\n",
      "discard samples 1.691175937652588\n",
      "n_samples_node =  1000\n",
      "generate_samples :  12.0398588180542\n",
      "     prepare getting local values 0.0023763179779052734\n",
      "     obtained local values 0.00829005241394043\n",
      "get_mc_stats 0.012731075286865234\n"
     ]
    },
    {
     "name": "stderr",
     "output_type": "stream",
     "text": [
      " 32%|███▏      | 316/1000 [1:10:21<2:35:11, 13.61s/it, Energy=-2.10593+0.00000j ± 0.00018 [σ²=0.00002]]"
     ]
    },
    {
     "name": "stdout",
     "output_type": "stream",
     "text": [
      "--->> cal O and jac  0.04038095474243164\n",
      "compute_update  0.044287919998168945\n",
      "(0.039598483518590154+0j)\n",
      "n_discard =  144\n",
      "discard samples 1.6992130279541016\n",
      "n_samples_node =  1000\n",
      "generate_samples :  11.656394004821777\n",
      "     prepare getting local values 0.0025069713592529297\n",
      "     obtained local values 0.008092880249023438\n",
      "get_mc_stats 0.014299154281616211\n"
     ]
    },
    {
     "name": "stderr",
     "output_type": "stream",
     "text": [
      " 32%|███▏      | 317/1000 [1:10:34<2:34:17, 13.55s/it, Energy=-2.10577+0.00000j ± 0.00016 [σ²=0.00002]]"
     ]
    },
    {
     "name": "stdout",
     "output_type": "stream",
     "text": [
      "--->> cal O and jac  0.037809133529663086\n",
      "compute_update  0.04117012023925781\n",
      "(0.03959690352827171+0j)\n",
      "n_discard =  144\n",
      "discard samples 1.6665148735046387\n",
      "n_samples_node =  1000\n",
      "generate_samples :  11.42688798904419\n",
      "     prepare getting local values 0.002123594284057617\n",
      "     obtained local values 0.007911920547485352\n",
      "get_mc_stats 0.011610746383666992\n"
     ]
    },
    {
     "name": "stderr",
     "output_type": "stream",
     "text": [
      " 32%|███▏      | 318/1000 [1:10:48<2:32:43, 13.44s/it, Energy=-2.10586+0.00000j ± 0.00013 [σ²=0.00002]]"
     ]
    },
    {
     "name": "stdout",
     "output_type": "stream",
     "text": [
      "--->> cal O and jac  0.05285477638244629\n",
      "compute_update  0.05659985542297363\n",
      "(0.03959693998132767+0j)\n",
      "n_discard =  144\n",
      "discard samples 1.683741807937622\n",
      "n_samples_node =  1000\n",
      "generate_samples :  11.779747009277344\n",
      "     prepare getting local values 0.0025839805603027344\n",
      "     obtained local values 0.0084228515625\n",
      "get_mc_stats 0.013821840286254883\n"
     ]
    },
    {
     "name": "stderr",
     "output_type": "stream",
     "text": [
      " 32%|███▏      | 319/1000 [1:11:01<2:32:48, 13.46s/it, Energy=-2.10573+0.00000j ± 0.00011 [σ²=0.00002]]"
     ]
    },
    {
     "name": "stdout",
     "output_type": "stream",
     "text": [
      "--->> cal O and jac  0.03977489471435547\n",
      "compute_update  0.04549002647399902\n",
      "(0.03959600681588774+0j)\n",
      "n_discard =  144\n",
      "discard samples 1.7647411823272705\n",
      "n_samples_node =  1000\n",
      "generate_samples :  11.716441869735718\n",
      "     prepare getting local values 0.0023050308227539062\n",
      "     obtained local values 0.008239984512329102\n",
      "get_mc_stats 0.013417959213256836\n"
     ]
    },
    {
     "name": "stderr",
     "output_type": "stream",
     "text": [
      " 32%|███▏      | 320/1000 [1:11:15<2:32:50, 13.49s/it, Energy=-2.10581+0.00000j ± 0.00013 [σ²=0.00002]]"
     ]
    },
    {
     "name": "stdout",
     "output_type": "stream",
     "text": [
      "--->> cal O and jac  0.036688804626464844\n",
      "compute_update  0.03997683525085449\n",
      "(0.03959520780033629+0j)\n",
      "n_discard =  144\n",
      "discard samples 1.6565511226654053\n",
      "n_samples_node =  1000\n",
      "generate_samples :  11.471490144729614\n",
      "     prepare getting local values 0.0024499893188476562\n",
      "     obtained local values 0.008181095123291016\n",
      "get_mc_stats 0.01264500617980957\n"
     ]
    },
    {
     "name": "stderr",
     "output_type": "stream",
     "text": [
      " 32%|███▏      | 321/1000 [1:11:28<2:31:35, 13.39s/it, Energy=-2.10598+0.00000j ± 0.00016 [σ²=0.00002]]"
     ]
    },
    {
     "name": "stdout",
     "output_type": "stream",
     "text": [
      "--->> cal O and jac  0.03679800033569336\n",
      "compute_update  0.040123939514160156\n",
      "(0.03959934505000982+0j)\n",
      "n_discard =  144\n",
      "discard samples 1.66749906539917\n",
      "n_samples_node =  1000\n",
      "generate_samples :  11.47131085395813\n",
      "     prepare getting local values 0.0025992393493652344\n",
      "     obtained local values 0.008599042892456055\n",
      "get_mc_stats 0.012653827667236328\n"
     ]
    },
    {
     "name": "stderr",
     "output_type": "stream",
     "text": [
      " 32%|███▏      | 322/1000 [1:11:41<2:30:40, 13.33s/it, Energy=-2.10613+0.00000j ± 0.00012 [σ²=0.00002]]"
     ]
    },
    {
     "name": "stdout",
     "output_type": "stream",
     "text": [
      "--->> cal O and jac  0.03620314598083496\n",
      "compute_update  0.03938412666320801\n",
      "(0.03960442587633798+0j)\n",
      "n_discard =  144\n",
      "discard samples 1.6492500305175781\n",
      "n_samples_node =  1000\n",
      "generate_samples :  11.473982095718384\n",
      "     prepare getting local values 0.0023779869079589844\n",
      "     obtained local values 0.008033037185668945\n",
      "get_mc_stats 0.01223897933959961\n"
     ]
    },
    {
     "name": "stderr",
     "output_type": "stream",
     "text": [
      " 32%|███▏      | 323/1000 [1:11:54<2:29:55, 13.29s/it, Energy=-2.10574+0.00000j ± 0.00015 [σ²=0.00002]]"
     ]
    },
    {
     "name": "stdout",
     "output_type": "stream",
     "text": [
      "--->> cal O and jac  0.03728199005126953\n",
      "compute_update  0.04088711738586426\n",
      "(0.03961091822268235+0j)\n",
      "n_discard =  144\n",
      "discard samples 1.652021884918213\n",
      "n_samples_node =  1000\n",
      "generate_samples :  11.457868814468384\n",
      "     prepare getting local values 0.0023398399353027344\n",
      "     obtained local values 0.008044004440307617\n",
      "get_mc_stats 0.012356042861938477\n"
     ]
    },
    {
     "name": "stderr",
     "output_type": "stream",
     "text": [
      " 32%|███▏      | 324/1000 [1:12:07<2:29:17, 13.25s/it, Energy=-2.10577+0.00000j ± 0.00014 [σ²=0.00002]]"
     ]
    },
    {
     "name": "stdout",
     "output_type": "stream",
     "text": [
      "--->> cal O and jac  0.03624582290649414\n",
      "compute_update  0.039636850357055664\n",
      "(0.039611206926670736+0j)\n",
      "n_discard =  144\n",
      "discard samples 1.6430363655090332\n",
      "n_samples_node =  1000\n",
      "generate_samples :  11.3197922706604\n",
      "     prepare getting local values 0.0025320053100585938\n",
      "     obtained local values 0.008189916610717773\n",
      "get_mc_stats 0.012162923812866211\n"
     ]
    },
    {
     "name": "stderr",
     "output_type": "stream",
     "text": [
      " 32%|███▎      | 325/1000 [1:12:20<2:28:16, 13.18s/it, Energy=-2.10589+0.00000j ± 0.00015 [σ²=0.00002]]"
     ]
    },
    {
     "name": "stdout",
     "output_type": "stream",
     "text": [
      "--->> cal O and jac  0.03669404983520508\n",
      "compute_update  0.03999590873718262\n",
      "(0.03961460936467279+0j)\n",
      "n_discard =  144\n",
      "discard samples 1.6458568572998047\n",
      "n_samples_node =  1000\n",
      "generate_samples :  11.345076322555542\n",
      "     prepare getting local values 0.0024471282958984375\n",
      "     obtained local values 0.00796198844909668\n",
      "get_mc_stats 0.01198124885559082\n"
     ]
    },
    {
     "name": "stderr",
     "output_type": "stream",
     "text": [
      " 33%|███▎      | 326/1000 [1:12:33<2:27:36, 13.14s/it, Energy=-2.10568+0.00000j ± 0.00014 [σ²=0.00002]]"
     ]
    },
    {
     "name": "stdout",
     "output_type": "stream",
     "text": [
      "--->> cal O and jac  0.036485910415649414\n",
      "compute_update  0.039746761322021484\n",
      "(0.0396176835302055+0j)\n",
      "n_discard =  144\n",
      "discard samples 1.646632194519043\n",
      "n_samples_node =  1000\n",
      "generate_samples :  11.474638938903809\n",
      "     prepare getting local values 0.002148866653442383\n",
      "     obtained local values 0.007874011993408203\n",
      "get_mc_stats 0.012148857116699219\n"
     ]
    },
    {
     "name": "stderr",
     "output_type": "stream",
     "text": [
      " 33%|███▎      | 327/1000 [1:12:47<2:27:31, 13.15s/it, Energy=-2.10575+0.00000j ± 0.00012 [σ²=0.00002]]"
     ]
    },
    {
     "name": "stdout",
     "output_type": "stream",
     "text": [
      "--->> cal O and jac  0.04041171073913574\n",
      "compute_update  0.04382586479187012\n",
      "(0.0396190321415248+0j)\n",
      "n_discard =  144\n",
      "discard samples 1.7633638381958008\n",
      "n_samples_node =  1000\n",
      "generate_samples :  11.49912405014038\n",
      "     prepare getting local values 0.0022592544555664062\n",
      "     obtained local values 0.008005142211914062\n",
      "get_mc_stats 0.01228022575378418\n"
     ]
    },
    {
     "name": "stderr",
     "output_type": "stream",
     "text": [
      " 33%|███▎      | 328/1000 [1:13:00<2:27:51, 13.20s/it, Energy=-2.10602+0.00000j ± 0.00014 [σ²=0.00002]]"
     ]
    },
    {
     "name": "stdout",
     "output_type": "stream",
     "text": [
      "--->> cal O and jac  0.035309791564941406\n",
      "compute_update  0.038558006286621094\n",
      "(0.039623678762896034+0j)\n",
      "n_discard =  144\n",
      "discard samples 1.6457300186157227\n",
      "n_samples_node =  1000\n",
      "generate_samples :  11.715818166732788\n",
      "     prepare getting local values 0.002245664596557617\n",
      "     obtained local values 0.008208751678466797\n",
      "get_mc_stats 0.013531208038330078\n"
     ]
    },
    {
     "name": "stderr",
     "output_type": "stream",
     "text": [
      " 33%|███▎      | 329/1000 [1:13:13<2:28:21, 13.27s/it, Energy=-2.10587+0.00000j ± 0.00012 [σ²=0.00002]]"
     ]
    },
    {
     "name": "stdout",
     "output_type": "stream",
     "text": [
      "--->> cal O and jac  0.03866291046142578\n",
      "compute_update  0.041623830795288086\n",
      "(0.03962805083028871+0j)\n",
      "n_discard =  144\n",
      "discard samples 1.757209062576294\n",
      "n_samples_node =  1000\n",
      "generate_samples :  11.418681859970093\n",
      "     prepare getting local values 0.0021991729736328125\n",
      "     obtained local values 0.007973194122314453\n",
      "get_mc_stats 0.01179194450378418\n"
     ]
    },
    {
     "name": "stderr",
     "output_type": "stream",
     "text": [
      " 33%|███▎      | 330/1000 [1:13:27<2:28:01, 13.26s/it, Energy=-2.10578+0.00000j ± 0.00015 [σ²=0.00002]]"
     ]
    },
    {
     "name": "stdout",
     "output_type": "stream",
     "text": [
      "--->> cal O and jac  0.03709816932678223\n",
      "compute_update  0.040618896484375\n",
      "(0.03962429486545609+0j)\n",
      "n_discard =  144\n",
      "discard samples 1.6467456817626953\n",
      "n_samples_node =  1000\n",
      "generate_samples :  11.3579580783844\n",
      "     prepare getting local values 0.0024869441986083984\n",
      "     obtained local values 0.008265018463134766\n",
      "get_mc_stats 0.012328863143920898\n"
     ]
    },
    {
     "name": "stderr",
     "output_type": "stream",
     "text": [
      " 33%|███▎      | 331/1000 [1:13:40<2:27:08, 13.20s/it, Energy=-2.10574+0.00000j ± 0.00012 [σ²=0.00002]]"
     ]
    },
    {
     "name": "stdout",
     "output_type": "stream",
     "text": [
      "--->> cal O and jac  0.036032915115356445\n",
      "compute_update  0.039469003677368164\n",
      "(0.03962426271963316+0j)\n",
      "n_discard =  144\n",
      "discard samples 1.6477723121643066\n",
      "n_samples_node =  1000\n",
      "generate_samples :  11.470847368240356\n",
      "     prepare getting local values 0.0023589134216308594\n",
      "     obtained local values 0.00800776481628418\n",
      "get_mc_stats 0.012416839599609375\n"
     ]
    },
    {
     "name": "stderr",
     "output_type": "stream",
     "text": [
      " 33%|███▎      | 332/1000 [1:13:53<2:26:50, 13.19s/it, Energy=-2.10577+0.00000j ± 0.00011 [σ²=0.00002]]"
     ]
    },
    {
     "name": "stdout",
     "output_type": "stream",
     "text": [
      "--->> cal O and jac  0.03625130653381348\n",
      "compute_update  0.03940105438232422\n",
      "(0.03962567076723861+0j)\n",
      "n_discard =  144\n",
      "discard samples 1.6475791931152344\n",
      "n_samples_node =  1000\n",
      "generate_samples :  11.358918190002441\n",
      "     prepare getting local values 0.0020139217376708984\n",
      "     obtained local values 0.007749080657958984\n",
      "get_mc_stats 0.012212276458740234\n"
     ]
    },
    {
     "name": "stderr",
     "output_type": "stream",
     "text": [
      " 33%|███▎      | 333/1000 [1:14:06<2:26:11, 13.15s/it, Energy=-2.10574+0.00000j ± 0.00011 [σ²=0.00002]]"
     ]
    },
    {
     "name": "stdout",
     "output_type": "stream",
     "text": [
      "--->> cal O and jac  0.036100149154663086\n",
      "compute_update  0.039433956146240234\n",
      "(0.03962134275963841+0j)\n",
      "n_discard =  144\n",
      "discard samples 1.64454984664917\n",
      "n_samples_node =  1000\n",
      "generate_samples :  11.362951278686523\n",
      "     prepare getting local values 0.0022928714752197266\n",
      "     obtained local values 0.008131027221679688\n",
      "get_mc_stats 0.012335062026977539\n"
     ]
    },
    {
     "name": "stderr",
     "output_type": "stream",
     "text": [
      " 33%|███▎      | 334/1000 [1:14:19<2:25:40, 13.12s/it, Energy=-2.10591+0.00000j ± 0.00013 [σ²=0.00002]]"
     ]
    },
    {
     "name": "stdout",
     "output_type": "stream",
     "text": [
      "--->> cal O and jac  0.03718709945678711\n",
      "compute_update  0.04058098793029785\n",
      "(0.039616767311235916+0j)\n",
      "n_discard =  144\n",
      "discard samples 1.6444520950317383\n",
      "n_samples_node =  1000\n",
      "generate_samples :  11.360848188400269\n",
      "     prepare getting local values 0.002525806427001953\n",
      "     obtained local values 0.008163690567016602\n",
      "get_mc_stats 0.012403011322021484\n"
     ]
    },
    {
     "name": "stderr",
     "output_type": "stream",
     "text": [
      " 34%|███▎      | 335/1000 [1:14:32<2:25:14, 13.10s/it, Energy=-2.105907+0.000000j ± 0.000092 [σ²=0.000015]]"
     ]
    },
    {
     "name": "stdout",
     "output_type": "stream",
     "text": [
      "--->> cal O and jac  0.03614091873168945\n",
      "compute_update  0.03946995735168457\n",
      "(0.03961635804739014+0j)\n",
      "n_discard =  144\n",
      "discard samples 1.64408278465271\n",
      "n_samples_node =  1000\n",
      "generate_samples :  11.346779346466064\n",
      "     prepare getting local values 0.002215862274169922\n",
      "     obtained local values 0.007668018341064453\n",
      "get_mc_stats 0.011884927749633789\n"
     ]
    },
    {
     "name": "stderr",
     "output_type": "stream",
     "text": [
      " 34%|███▎      | 336/1000 [1:14:45<2:24:49, 13.09s/it, Energy=-2.10584+0.00000j ± 0.00016 [σ²=0.00002]]    "
     ]
    },
    {
     "name": "stdout",
     "output_type": "stream",
     "text": [
      "--->> cal O and jac  0.03639078140258789\n",
      "compute_update  0.040071964263916016\n",
      "(0.0396099036397982+0j)\n",
      "n_discard =  144\n",
      "discard samples 1.7267980575561523\n",
      "n_samples_node =  1000\n",
      "generate_samples :  11.53994107246399\n",
      "     prepare getting local values 0.0022499561309814453\n",
      "     obtained local values 0.007842779159545898\n",
      "get_mc_stats 0.011760234832763672\n"
     ]
    },
    {
     "name": "stderr",
     "output_type": "stream",
     "text": [
      " 34%|███▎      | 337/1000 [1:14:58<2:25:23, 13.16s/it, Energy=-2.10589+0.00000j ± 0.00014 [σ²=0.00002]]"
     ]
    },
    {
     "name": "stdout",
     "output_type": "stream",
     "text": [
      "--->> cal O and jac  0.03622007369995117\n",
      "compute_update  0.03977012634277344\n",
      "(0.03960667800136799+0j)\n",
      "n_discard =  144\n",
      "discard samples 1.6496310234069824\n",
      "n_samples_node =  1000\n",
      "generate_samples :  11.359009027481079\n",
      "     prepare getting local values 0.002321004867553711\n",
      "     obtained local values 0.008035898208618164\n",
      "get_mc_stats 0.012171745300292969\n"
     ]
    },
    {
     "name": "stderr",
     "output_type": "stream",
     "text": [
      " 34%|███▍      | 338/1000 [1:15:11<2:24:51, 13.13s/it, Energy=-2.10580+0.00000j ± 0.00015 [σ²=0.00002]]"
     ]
    },
    {
     "name": "stdout",
     "output_type": "stream",
     "text": [
      "--->> cal O and jac  0.0355679988861084\n",
      "compute_update  0.038687944412231445\n",
      "(0.03960146941715789+0j)\n",
      "n_discard =  144\n",
      "discard samples 1.6477670669555664\n",
      "n_samples_node =  1000\n",
      "generate_samples :  11.350512981414795\n",
      "     prepare getting local values 0.0020949840545654297\n",
      "     obtained local values 0.0078008174896240234\n",
      "get_mc_stats 0.011780738830566406\n"
     ]
    },
    {
     "name": "stderr",
     "output_type": "stream",
     "text": [
      " 34%|███▍      | 339/1000 [1:15:24<2:24:22, 13.11s/it, Energy=-2.10565+0.00000j ± 0.00013 [σ²=0.00002]]"
     ]
    },
    {
     "name": "stdout",
     "output_type": "stream",
     "text": [
      "--->> cal O and jac  0.036292076110839844\n",
      "compute_update  0.0395970344543457\n",
      "(0.039600098891353505+0j)\n",
      "n_discard =  144\n",
      "discard samples 1.643707036972046\n",
      "n_samples_node =  1000\n",
      "generate_samples :  11.379544019699097\n",
      "     prepare getting local values 0.0020978450775146484\n",
      "     obtained local values 0.007803916931152344\n",
      "get_mc_stats 0.011753082275390625\n"
     ]
    },
    {
     "name": "stderr",
     "output_type": "stream",
     "text": [
      " 34%|███▍      | 340/1000 [1:15:38<2:24:03, 13.10s/it, Energy=-2.10583+0.00000j ± 0.00016 [σ²=0.00002]]"
     ]
    },
    {
     "name": "stdout",
     "output_type": "stream",
     "text": [
      "--->> cal O and jac  0.035813093185424805\n",
      "compute_update  0.038848876953125\n",
      "(0.03959534017629925+0j)\n",
      "n_discard =  144\n",
      "discard samples 1.6478359699249268\n",
      "n_samples_node =  1000\n",
      "generate_samples :  11.357213020324707\n",
      "     prepare getting local values 0.0020589828491210938\n",
      "     obtained local values 0.007864952087402344\n",
      "get_mc_stats 0.012022018432617188\n"
     ]
    },
    {
     "name": "stderr",
     "output_type": "stream",
     "text": [
      " 34%|███▍      | 341/1000 [1:15:51<2:23:43, 13.09s/it, Energy=-2.10591+0.00000j ± 0.00013 [σ²=0.00002]]"
     ]
    },
    {
     "name": "stdout",
     "output_type": "stream",
     "text": [
      "--->> cal O and jac  0.036122798919677734\n",
      "compute_update  0.03944873809814453\n",
      "(0.039590704961509335+0j)\n",
      "n_discard =  144\n",
      "discard samples 1.645205020904541\n",
      "n_samples_node =  1000\n",
      "generate_samples :  11.354738235473633\n",
      "     prepare getting local values 0.002351045608520508\n",
      "     obtained local values 0.007922172546386719\n",
      "get_mc_stats 0.012085914611816406\n"
     ]
    },
    {
     "name": "stderr",
     "output_type": "stream",
     "text": [
      " 34%|███▍      | 342/1000 [1:16:04<2:23:23, 13.08s/it, Energy=-2.10594+0.00000j ± 0.00011 [σ²=0.00001]]"
     ]
    },
    {
     "name": "stdout",
     "output_type": "stream",
     "text": [
      "--->> cal O and jac  0.03629708290100098\n",
      "compute_update  0.03968214988708496\n",
      "(0.03958709747945237+0j)\n",
      "n_discard =  144\n",
      "discard samples 1.6509370803833008\n",
      "n_samples_node =  1000\n",
      "generate_samples :  11.331631183624268\n",
      "     prepare getting local values 0.002341032028198242\n",
      "     obtained local values 0.0081939697265625\n",
      "get_mc_stats 0.012111902236938477\n"
     ]
    },
    {
     "name": "stderr",
     "output_type": "stream",
     "text": [
      " 34%|███▍      | 343/1000 [1:16:17<2:23:02, 13.06s/it, Energy=-2.10599+0.00000j ± 0.00012 [σ²=0.00002]]"
     ]
    },
    {
     "name": "stdout",
     "output_type": "stream",
     "text": [
      "--->> cal O and jac  0.03533005714416504\n",
      "compute_update  0.03868579864501953\n",
      "(0.039586687090319+0j)\n",
      "n_discard =  144\n",
      "discard samples 1.6551847457885742\n",
      "n_samples_node =  1000\n",
      "generate_samples :  11.367368936538696\n",
      "     prepare getting local values 0.0020461082458496094\n",
      "     obtained local values 0.007771968841552734\n",
      "get_mc_stats 0.012268781661987305\n"
     ]
    },
    {
     "name": "stderr",
     "output_type": "stream",
     "text": [
      " 34%|███▍      | 344/1000 [1:16:30<2:22:52, 13.07s/it, Energy=-2.106117+0.000000j ± 0.000098 [σ²=0.000015]]"
     ]
    },
    {
     "name": "stdout",
     "output_type": "stream",
     "text": [
      "--->> cal O and jac  0.035997867584228516\n",
      "compute_update  0.03950095176696777\n",
      "(0.03958502718790424+0j)\n",
      "n_discard =  144\n",
      "discard samples 1.641873836517334\n",
      "n_samples_node =  1000\n",
      "generate_samples :  11.333941221237183\n",
      "     prepare getting local values 0.002372264862060547\n",
      "     obtained local values 0.008168220520019531\n",
      "get_mc_stats 0.012428760528564453\n"
     ]
    },
    {
     "name": "stderr",
     "output_type": "stream",
     "text": [
      " 34%|███▍      | 345/1000 [1:16:43<2:22:31, 13.06s/it, Energy=-2.10608+0.00000j ± 0.00012 [σ²=0.00001]]    "
     ]
    },
    {
     "name": "stdout",
     "output_type": "stream",
     "text": [
      "--->> cal O and jac  0.035996198654174805\n",
      "compute_update  0.03887319564819336\n",
      "(0.03958322157137153+0j)\n",
      "n_discard =  144\n",
      "discard samples 1.6440551280975342\n",
      "n_samples_node =  1000\n",
      "generate_samples :  11.812147855758667\n",
      "     prepare getting local values 0.002565145492553711\n",
      "     obtained local values 0.008275032043457031\n",
      "get_mc_stats 0.013847112655639648\n"
     ]
    },
    {
     "name": "stderr",
     "output_type": "stream",
     "text": [
      " 35%|███▍      | 346/1000 [1:16:56<2:23:48, 13.19s/it, Energy=-2.10595+0.00000j ± 0.00014 [σ²=0.00001]]"
     ]
    },
    {
     "name": "stdout",
     "output_type": "stream",
     "text": [
      "--->> cal O and jac  0.036978960037231445\n",
      "compute_update  0.03978395462036133\n",
      "(0.0395761427893319+0j)\n",
      "n_discard =  144\n",
      "discard samples 1.6506128311157227\n",
      "n_samples_node =  1000\n",
      "generate_samples :  11.431509017944336\n",
      "     prepare getting local values 0.0023517608642578125\n",
      "     obtained local values 0.008192062377929688\n",
      "get_mc_stats 0.012331008911132812\n"
     ]
    },
    {
     "name": "stderr",
     "output_type": "stream",
     "text": [
      " 35%|███▍      | 347/1000 [1:17:09<2:23:24, 13.18s/it, Energy=-2.10572+0.00000j ± 0.00015 [σ²=0.00002]]"
     ]
    },
    {
     "name": "stdout",
     "output_type": "stream",
     "text": [
      "--->> cal O and jac  0.037106990814208984\n",
      "compute_update  0.040518999099731445\n",
      "(0.03957041352713915+0j)\n",
      "n_discard =  144\n",
      "discard samples 1.6501469612121582\n",
      "n_samples_node =  1000\n",
      "generate_samples :  11.46307110786438\n",
      "     prepare getting local values 0.0022630691528320312\n",
      "     obtained local values 0.00791788101196289\n",
      "get_mc_stats 0.012018203735351562\n"
     ]
    },
    {
     "name": "stderr",
     "output_type": "stream",
     "text": [
      " 35%|███▍      | 348/1000 [1:17:23<2:23:09, 13.17s/it, Energy=-2.10590+0.00000j ± 0.00013 [σ²=0.00001]]"
     ]
    },
    {
     "name": "stdout",
     "output_type": "stream",
     "text": [
      "--->> cal O and jac  0.03667783737182617\n",
      "compute_update  0.039849042892456055\n",
      "(0.03957007903374117+0j)\n",
      "n_discard =  144\n",
      "discard samples 1.7002792358398438\n",
      "n_samples_node =  1000\n",
      "generate_samples :  11.36293888092041\n",
      "     prepare getting local values 0.0020911693572998047\n",
      "     obtained local values 0.0077130794525146484\n",
      "get_mc_stats 0.011924028396606445\n"
     ]
    },
    {
     "name": "stderr",
     "output_type": "stream",
     "text": [
      " 35%|███▍      | 349/1000 [1:17:36<2:22:44, 13.16s/it, Energy=-2.10591+0.00000j ± 0.00015 [σ²=0.00001]]"
     ]
    },
    {
     "name": "stdout",
     "output_type": "stream",
     "text": [
      "--->> cal O and jac  0.03629183769226074\n",
      "compute_update  0.039485931396484375\n",
      "(0.03956816323396735+0j)\n",
      "n_discard =  144\n",
      "discard samples 1.6479527950286865\n",
      "n_samples_node =  1000\n",
      "generate_samples :  11.414559125900269\n",
      "     prepare getting local values 0.0024733543395996094\n",
      "     obtained local values 0.008186101913452148\n",
      "get_mc_stats 0.012293100357055664\n"
     ]
    },
    {
     "name": "stderr",
     "output_type": "stream",
     "text": [
      " 35%|███▌      | 350/1000 [1:17:49<2:22:23, 13.14s/it, Energy=-2.10583+0.00000j ± 0.00015 [σ²=0.00001]]"
     ]
    },
    {
     "name": "stdout",
     "output_type": "stream",
     "text": [
      "--->> cal O and jac  0.03600716590881348\n",
      "compute_update  0.03931903839111328\n",
      "(0.03956832679583412+0j)\n",
      "n_discard =  144\n",
      "discard samples 1.6463596820831299\n",
      "n_samples_node =  1000\n",
      "generate_samples :  11.333664894104004\n",
      "     prepare getting local values 0.002469778060913086\n",
      "     obtained local values 0.008172035217285156\n",
      "get_mc_stats 0.012429952621459961\n"
     ]
    },
    {
     "name": "stderr",
     "output_type": "stream",
     "text": [
      " 35%|███▌      | 351/1000 [1:18:02<2:21:49, 13.11s/it, Energy=-2.10570+0.00000j ± 0.00010 [σ²=0.00002]]"
     ]
    },
    {
     "name": "stdout",
     "output_type": "stream",
     "text": [
      "--->> cal O and jac  0.03543806076049805\n",
      "compute_update  0.03892993927001953\n",
      "(0.039568690284516955+0j)\n",
      "n_discard =  144\n",
      "discard samples 1.6449341773986816\n",
      "n_samples_node =  1000\n",
      "generate_samples :  11.363641738891602\n",
      "     prepare getting local values 0.0021631717681884766\n",
      "     obtained local values 0.007918119430541992\n",
      "get_mc_stats 0.012385845184326172\n"
     ]
    },
    {
     "name": "stderr",
     "output_type": "stream",
     "text": [
      " 35%|███▌      | 352/1000 [1:18:15<2:21:26, 13.10s/it, Energy=-2.10587+0.00000j ± 0.00011 [σ²=0.00001]]"
     ]
    },
    {
     "name": "stdout",
     "output_type": "stream",
     "text": [
      "--->> cal O and jac  0.036171913146972656\n",
      "compute_update  0.039430856704711914\n",
      "(0.039570753742531585+0j)\n",
      "n_discard =  144\n",
      "discard samples 1.6484270095825195\n",
      "n_samples_node =  1000\n",
      "generate_samples :  11.336169958114624\n",
      "     prepare getting local values 0.002299070358276367\n",
      "     obtained local values 0.007983207702636719\n",
      "get_mc_stats 0.011980056762695312\n"
     ]
    },
    {
     "name": "stderr",
     "output_type": "stream",
     "text": [
      " 35%|███▌      | 353/1000 [1:18:28<2:21:02, 13.08s/it, Energy=-2.10563+0.00000j ± 0.00011 [σ²=0.00001]]"
     ]
    },
    {
     "name": "stdout",
     "output_type": "stream",
     "text": [
      "--->> cal O and jac  0.03648686408996582\n",
      "compute_update  0.039730072021484375\n",
      "(0.03957442355266182+0j)\n",
      "n_discard =  144\n",
      "discard samples 1.6498079299926758\n",
      "n_samples_node =  1000\n",
      "generate_samples :  11.360559940338135\n",
      "     prepare getting local values 0.0025300979614257812\n",
      "     obtained local values 0.00825190544128418\n",
      "get_mc_stats 0.01254725456237793\n"
     ]
    },
    {
     "name": "stderr",
     "output_type": "stream",
     "text": [
      " 35%|███▌      | 354/1000 [1:18:41<2:20:46, 13.07s/it, Energy=-2.10582+0.00000j ± 0.00010 [σ²=0.00001]]"
     ]
    },
    {
     "name": "stdout",
     "output_type": "stream",
     "text": [
      "--->> cal O and jac  0.03598427772521973\n",
      "compute_update  0.03930020332336426\n",
      "(0.0395765166546276+0j)\n",
      "n_discard =  144\n",
      "discard samples 1.6444530487060547\n",
      "n_samples_node =  1000\n",
      "generate_samples :  11.535215139389038\n",
      "     prepare getting local values 0.0023648738861083984\n",
      "     obtained local values 0.008373022079467773\n",
      "get_mc_stats 0.012804985046386719\n"
     ]
    },
    {
     "name": "stderr",
     "output_type": "stream",
     "text": [
      " 36%|███▌      | 355/1000 [1:18:54<2:21:04, 13.12s/it, Energy=-2.105716+0.000000j ± 0.000092 [σ²=0.000014]]"
     ]
    },
    {
     "name": "stdout",
     "output_type": "stream",
     "text": [
      "--->> cal O and jac  0.03682398796081543\n",
      "compute_update  0.04086017608642578\n",
      "(0.03957774637096416+0j)\n",
      "n_discard =  144\n",
      "discard samples 1.692248821258545\n",
      "n_samples_node =  1000\n",
      "generate_samples :  11.937181234359741\n",
      "     prepare getting local values 0.002585887908935547\n",
      "     obtained local values 0.008328914642333984\n",
      "get_mc_stats 0.013797998428344727\n"
     ]
    },
    {
     "name": "stderr",
     "output_type": "stream",
     "text": [
      " 36%|███▌      | 356/1000 [1:19:08<2:22:40, 13.29s/it, Energy=-2.10593+0.00000j ± 0.00011 [σ²=0.00001]]    "
     ]
    },
    {
     "name": "stdout",
     "output_type": "stream",
     "text": [
      "--->> cal O and jac  0.04148602485656738\n",
      "compute_update  0.0448298454284668\n",
      "(0.039577118759547135+0j)\n",
      "n_discard =  144\n",
      "discard samples 1.7212920188903809\n",
      "n_samples_node =  1000\n",
      "generate_samples :  11.35518217086792\n",
      "     prepare getting local values 0.0022940635681152344\n",
      "     obtained local values 0.007898092269897461\n",
      "get_mc_stats 0.012252092361450195\n"
     ]
    },
    {
     "name": "stderr",
     "output_type": "stream",
     "text": [
      " 36%|███▌      | 357/1000 [1:19:21<2:21:56, 13.24s/it, Energy=-2.10582+0.00000j ± 0.00010 [σ²=0.00002]]"
     ]
    },
    {
     "name": "stdout",
     "output_type": "stream",
     "text": [
      "--->> cal O and jac  0.037567138671875\n",
      "compute_update  0.04089498519897461\n",
      "(0.03957860109204633+0j)\n",
      "n_discard =  144\n",
      "discard samples 1.6479051113128662\n",
      "n_samples_node =  1000\n",
      "generate_samples :  11.485109090805054\n",
      "     prepare getting local values 0.0030760765075683594\n",
      "     obtained local values 0.009090185165405273\n",
      "get_mc_stats 0.013113021850585938\n"
     ]
    },
    {
     "name": "stderr",
     "output_type": "stream",
     "text": [
      " 36%|███▌      | 358/1000 [1:19:34<2:21:32, 13.23s/it, Energy=-2.10596+0.00000j ± 0.00011 [σ²=0.00001]]"
     ]
    },
    {
     "name": "stdout",
     "output_type": "stream",
     "text": [
      "--->> cal O and jac  0.039163827896118164\n",
      "compute_update  0.04287576675415039\n",
      "(0.03957615343466228+0j)\n",
      "n_discard =  144\n",
      "discard samples 1.667236089706421\n",
      "n_samples_node =  1000\n",
      "generate_samples :  11.550311803817749\n",
      "     prepare getting local values 0.002254009246826172\n",
      "     obtained local values 0.008148193359375\n",
      "get_mc_stats 0.01256418228149414\n"
     ]
    },
    {
     "name": "stderr",
     "output_type": "stream",
     "text": [
      " 36%|███▌      | 359/1000 [1:19:48<2:21:28, 13.24s/it, Energy=-2.10580+0.00000j ± 0.00014 [σ²=0.00001]]"
     ]
    },
    {
     "name": "stdout",
     "output_type": "stream",
     "text": [
      "--->> cal O and jac  0.03847789764404297\n",
      "compute_update  0.04249072074890137\n",
      "(0.03957633680433878+0j)\n",
      "n_discard =  144\n",
      "discard samples 1.6634478569030762\n",
      "n_samples_node =  1000\n",
      "generate_samples :  11.3651762008667\n",
      "     prepare getting local values 0.0025281906127929688\n",
      "     obtained local values 0.008219003677368164\n",
      "get_mc_stats 0.012162208557128906\n"
     ]
    },
    {
     "name": "stderr",
     "output_type": "stream",
     "text": [
      " 36%|███▌      | 360/1000 [1:20:01<2:20:44, 13.19s/it, Energy=-2.10579+0.00000j ± 0.00011 [σ²=0.00001]]"
     ]
    },
    {
     "name": "stdout",
     "output_type": "stream",
     "text": [
      "--->> cal O and jac  0.036846160888671875\n",
      "compute_update  0.04001307487487793\n",
      "(0.03957213660046588+0j)\n",
      "n_discard =  144\n",
      "discard samples 1.8104393482208252\n",
      "n_samples_node =  1000\n",
      "generate_samples :  11.708501815795898\n",
      "     prepare getting local values 0.002346038818359375\n",
      "     obtained local values 0.008131027221679688\n",
      "get_mc_stats 0.012520074844360352\n"
     ]
    },
    {
     "name": "stderr",
     "output_type": "stream",
     "text": [
      " 36%|███▌      | 361/1000 [1:20:14<2:21:44, 13.31s/it, Energy=-2.10590+0.00000j ± 0.00010 [σ²=0.00001]]"
     ]
    },
    {
     "name": "stdout",
     "output_type": "stream",
     "text": [
      "--->> cal O and jac  0.038684844970703125\n",
      "compute_update  0.04307889938354492\n",
      "(0.039572924963472436+0j)\n",
      "n_discard =  144\n",
      "discard samples 1.6681771278381348\n",
      "n_samples_node =  1000\n",
      "generate_samples :  11.365074157714844\n",
      "     prepare getting local values 0.0022449493408203125\n",
      "     obtained local values 0.007978677749633789\n",
      "get_mc_stats 0.01196599006652832\n"
     ]
    },
    {
     "name": "stderr",
     "output_type": "stream",
     "text": [
      " 36%|███▌      | 362/1000 [1:20:27<2:20:49, 13.24s/it, Energy=-2.10579+0.00000j ± 0.00011 [σ²=0.00001]]"
     ]
    },
    {
     "name": "stdout",
     "output_type": "stream",
     "text": [
      "--->> cal O and jac  0.03635692596435547\n",
      "compute_update  0.039665937423706055\n",
      "(0.03957472972559121+0j)\n",
      "n_discard =  144\n",
      "discard samples 1.6523678302764893\n",
      "n_samples_node =  1000\n",
      "generate_samples :  11.366325855255127\n",
      "     prepare getting local values 0.0019559860229492188\n",
      "     obtained local values 0.007819890975952148\n",
      "get_mc_stats 0.011867046356201172\n"
     ]
    },
    {
     "name": "stderr",
     "output_type": "stream",
     "text": [
      " 36%|███▋      | 363/1000 [1:20:40<2:20:03, 13.19s/it, Energy=-2.105879+0.000000j ± 0.000095 [σ²=0.000011]]"
     ]
    },
    {
     "name": "stdout",
     "output_type": "stream",
     "text": [
      "--->> cal O and jac  0.03603196144104004\n",
      "compute_update  0.03959226608276367\n",
      "(0.03957630529948643+0j)\n",
      "n_discard =  144\n",
      "discard samples 1.6450440883636475\n",
      "n_samples_node =  1000\n",
      "generate_samples :  11.572107076644897\n",
      "     prepare getting local values 0.002353191375732422\n",
      "     obtained local values 0.00847315788269043\n",
      "get_mc_stats 0.012961149215698242\n"
     ]
    },
    {
     "name": "stderr",
     "output_type": "stream",
     "text": [
      " 36%|███▋      | 364/1000 [1:20:54<2:20:06, 13.22s/it, Energy=-2.10581+0.00000j ± 0.00011 [σ²=0.00001]]    "
     ]
    },
    {
     "name": "stdout",
     "output_type": "stream",
     "text": [
      "--->> cal O and jac  0.04097700119018555\n",
      "compute_update  0.04474902153015137\n",
      "(0.039581176960456294+0j)\n",
      "n_discard =  144\n",
      "discard samples 1.6789839267730713\n",
      "n_samples_node =  1000\n",
      "generate_samples :  11.376439094543457\n",
      "     prepare getting local values 0.002405881881713867\n",
      "     obtained local values 0.008205652236938477\n",
      "get_mc_stats 0.012406110763549805\n"
     ]
    },
    {
     "name": "stderr",
     "output_type": "stream",
     "text": [
      " 36%|███▋      | 365/1000 [1:21:07<2:19:33, 13.19s/it, Energy=-2.10579+0.00000j ± 0.00012 [σ²=0.00001]]"
     ]
    },
    {
     "name": "stdout",
     "output_type": "stream",
     "text": [
      "--->> cal O and jac  0.03904390335083008\n",
      "compute_update  0.042160987854003906\n",
      "(0.03958651897427407+0j)\n",
      "n_discard =  144\n",
      "discard samples 1.7795820236206055\n",
      "n_samples_node =  1000\n",
      "generate_samples :  11.686254978179932\n",
      "     prepare getting local values 0.0022101402282714844\n",
      "     obtained local values 0.007946968078613281\n",
      "get_mc_stats 0.011897087097167969\n"
     ]
    },
    {
     "name": "stderr",
     "output_type": "stream",
     "text": [
      " 37%|███▋      | 366/1000 [1:21:20<2:20:23, 13.29s/it, Energy=-2.10581+0.00000j ± 0.00011 [σ²=0.00001]]"
     ]
    },
    {
     "name": "stdout",
     "output_type": "stream",
     "text": [
      "--->> cal O and jac  0.0357508659362793\n",
      "compute_update  0.03852701187133789\n",
      "(0.03959499662084809+0j)\n",
      "n_discard =  144\n",
      "discard samples 1.6431679725646973\n",
      "n_samples_node =  1000\n",
      "generate_samples :  11.503565788269043\n",
      "     prepare getting local values 0.0019309520721435547\n",
      "     obtained local values 0.0077190399169921875\n",
      "get_mc_stats 0.011831045150756836\n"
     ]
    },
    {
     "name": "stderr",
     "output_type": "stream",
     "text": [
      " 37%|███▋      | 367/1000 [1:21:33<2:19:53, 13.26s/it, Energy=-2.10588+0.00000j ± 0.00010 [σ²=0.00001]]"
     ]
    },
    {
     "name": "stdout",
     "output_type": "stream",
     "text": [
      "--->> cal O and jac  0.03609895706176758\n",
      "compute_update  0.03948187828063965\n",
      "(0.039597350577376726+0j)\n",
      "n_discard =  144\n",
      "discard samples 1.6509358882904053\n",
      "n_samples_node =  1000\n",
      "generate_samples :  11.72575068473816\n",
      "     prepare getting local values 0.0027108192443847656\n",
      "     obtained local values 0.008728742599487305\n",
      "get_mc_stats 0.013937950134277344\n"
     ]
    },
    {
     "name": "stderr",
     "output_type": "stream",
     "text": [
      " 37%|███▋      | 368/1000 [1:21:47<2:20:14, 13.31s/it, Energy=-2.105947+0.000000j ± 0.000085 [σ²=0.000008]]"
     ]
    },
    {
     "name": "stdout",
     "output_type": "stream",
     "text": [
      "--->> cal O and jac  0.03984212875366211\n",
      "compute_update  0.04638099670410156\n",
      "(0.03960465358914445+0j)\n",
      "n_discard =  144\n",
      "discard samples 1.6726000308990479\n",
      "n_samples_node =  1000\n",
      "generate_samples :  11.347829103469849\n",
      "     prepare getting local values 0.0022461414337158203\n",
      "     obtained local values 0.007933855056762695\n",
      "get_mc_stats 0.012133121490478516\n"
     ]
    },
    {
     "name": "stderr",
     "output_type": "stream",
     "text": [
      " 37%|███▋      | 369/1000 [1:22:00<2:19:15, 13.24s/it, Energy=-2.105804+0.000000j ± 0.000079 [σ²=0.000010]]"
     ]
    },
    {
     "name": "stdout",
     "output_type": "stream",
     "text": [
      "--->> cal O and jac  0.03624916076660156\n",
      "compute_update  0.039999961853027344\n",
      "(0.03960686538964281+0j)\n",
      "n_discard =  144\n",
      "discard samples 1.6437041759490967\n",
      "n_samples_node =  1000\n",
      "generate_samples :  11.343250036239624\n",
      "     prepare getting local values 0.0022232532501220703\n",
      "     obtained local values 0.00800013542175293\n",
      "get_mc_stats 0.012017965316772461\n"
     ]
    },
    {
     "name": "stderr",
     "output_type": "stream",
     "text": [
      " 37%|███▋      | 370/1000 [1:22:13<2:18:24, 13.18s/it, Energy=-2.106033+0.000000j ± 0.000087 [σ²=0.000010]]"
     ]
    },
    {
     "name": "stdout",
     "output_type": "stream",
     "text": [
      "--->> cal O and jac  0.03691530227661133\n",
      "compute_update  0.04016518592834473\n",
      "(0.039611243631478894+0j)\n",
      "n_discard =  144\n",
      "discard samples 1.6483898162841797\n",
      "n_samples_node =  1000\n",
      "generate_samples :  12.128903865814209\n",
      "     prepare getting local values 0.0020990371704101562\n",
      "     obtained local values 0.007835149765014648\n",
      "get_mc_stats 0.013251066207885742\n"
     ]
    },
    {
     "name": "stderr",
     "output_type": "stream",
     "text": [
      " 37%|███▋      | 371/1000 [1:22:27<2:20:14, 13.38s/it, Energy=-2.10591+0.00000j ± 0.00012 [σ²=0.00001]]    "
     ]
    },
    {
     "name": "stdout",
     "output_type": "stream",
     "text": [
      "--->> cal O and jac  0.03731203079223633\n",
      "compute_update  0.04045581817626953\n",
      "(0.03961572643096117+0j)\n",
      "n_discard =  144\n",
      "discard samples 1.6338849067687988\n",
      "n_samples_node =  1000\n",
      "generate_samples :  11.174244165420532\n",
      "     prepare getting local values 0.0023910999298095703\n",
      "     obtained local values 0.007961273193359375\n",
      "get_mc_stats 0.012251853942871094\n"
     ]
    },
    {
     "name": "stderr",
     "output_type": "stream",
     "text": [
      " 37%|███▋      | 372/1000 [1:22:40<2:18:23, 13.22s/it, Energy=-2.105799+0.000000j ± 0.000083 [σ²=0.000011]]"
     ]
    },
    {
     "name": "stdout",
     "output_type": "stream",
     "text": [
      "--->> cal O and jac  0.034898996353149414\n",
      "compute_update  0.0378870964050293\n",
      "(0.039621912218910094+0j)\n",
      "n_discard =  144\n",
      "discard samples 1.6163361072540283\n",
      "n_samples_node =  1000\n",
      "generate_samples :  11.210824012756348\n",
      "     prepare getting local values 0.002384185791015625\n",
      "     obtained local values 0.008450031280517578\n",
      "get_mc_stats 0.013693094253540039\n"
     ]
    },
    {
     "name": "stderr",
     "output_type": "stream",
     "text": [
      " 37%|███▋      | 373/1000 [1:22:53<2:17:06, 13.12s/it, Energy=-2.105829+0.000000j ± 0.000097 [σ²=0.000009]]"
     ]
    },
    {
     "name": "stdout",
     "output_type": "stream",
     "text": [
      "--->> cal O and jac  0.03463602066040039\n",
      "compute_update  0.0378260612487793\n",
      "(0.039625587931231034+0j)\n",
      "n_discard =  144\n",
      "discard samples 1.611401081085205\n",
      "n_samples_node =  1000\n",
      "generate_samples :  11.16433310508728\n",
      "     prepare getting local values 0.002405881881713867\n",
      "     obtained local values 0.007819175720214844\n",
      "get_mc_stats 0.012506246566772461\n"
     ]
    },
    {
     "name": "stderr",
     "output_type": "stream",
     "text": [
      " 37%|███▋      | 374/1000 [1:23:05<2:15:58, 13.03s/it, Energy=-2.105722+0.000000j ± 0.000090 [σ²=0.000011]]"
     ]
    },
    {
     "name": "stdout",
     "output_type": "stream",
     "text": [
      "--->> cal O and jac  0.03541111946105957\n",
      "compute_update  0.03816580772399902\n",
      "(0.03962812199805712+0j)\n",
      "n_discard =  144\n",
      "discard samples 1.6068620681762695\n",
      "n_samples_node =  1000\n",
      "generate_samples :  11.107261896133423\n",
      "     prepare getting local values 0.0020241737365722656\n",
      "     obtained local values 0.007648944854736328\n",
      "get_mc_stats 0.011827945709228516\n"
     ]
    },
    {
     "name": "stderr",
     "output_type": "stream",
     "text": [
      " 38%|███▊      | 375/1000 [1:23:18<2:14:55, 12.95s/it, Energy=-2.105795+0.000000j ± 0.000099 [σ²=0.000010]]"
     ]
    },
    {
     "name": "stdout",
     "output_type": "stream",
     "text": [
      "--->> cal O and jac  0.03498196601867676\n",
      "compute_update  0.03793001174926758\n",
      "(0.03963137917494092+0j)\n",
      "n_discard =  144\n",
      "discard samples 1.6202290058135986\n",
      "n_samples_node =  1000\n",
      "generate_samples :  11.056945085525513\n",
      "     prepare getting local values 0.002254962921142578\n",
      "     obtained local values 0.00761103630065918\n",
      "get_mc_stats 0.01160120964050293\n"
     ]
    },
    {
     "name": "stderr",
     "output_type": "stream",
     "text": [
      " 38%|███▊      | 376/1000 [1:23:31<2:14:00, 12.89s/it, Energy=-2.10582+0.00000j ± 0.00010 [σ²=0.00001]]    "
     ]
    },
    {
     "name": "stdout",
     "output_type": "stream",
     "text": [
      "--->> cal O and jac  0.03510618209838867\n",
      "compute_update  0.03790688514709473\n",
      "(0.0396340837931607+0j)\n",
      "n_discard =  144\n",
      "discard samples 1.6124179363250732\n",
      "n_samples_node =  1000\n",
      "generate_samples :  11.069612979888916\n",
      "     prepare getting local values 0.0020580291748046875\n",
      "     obtained local values 0.007628917694091797\n",
      "get_mc_stats 0.011618852615356445\n"
     ]
    },
    {
     "name": "stderr",
     "output_type": "stream",
     "text": [
      " 38%|███▊      | 377/1000 [1:23:44<2:13:19, 12.84s/it, Energy=-2.10582+0.00000j ± 0.00012 [σ²=0.00001]]"
     ]
    },
    {
     "name": "stdout",
     "output_type": "stream",
     "text": [
      "--->> cal O and jac  0.035553932189941406\n",
      "compute_update  0.03849911689758301\n",
      "(0.039638134057621205+0j)\n",
      "n_discard =  144\n",
      "discard samples 1.6111176013946533\n",
      "n_samples_node =  1000\n",
      "generate_samples :  11.23026990890503\n",
      "     prepare getting local values 0.0019290447235107422\n",
      "     obtained local values 0.007508039474487305\n",
      "get_mc_stats 0.01148080825805664\n"
     ]
    },
    {
     "name": "stderr",
     "output_type": "stream",
     "text": [
      " 38%|███▊      | 378/1000 [1:23:57<2:13:16, 12.86s/it, Energy=-2.10583+0.00000j ± 0.00012 [σ²=0.00001]]"
     ]
    },
    {
     "name": "stdout",
     "output_type": "stream",
     "text": [
      "--->> cal O and jac  0.03634810447692871\n",
      "compute_update  0.03937196731567383\n",
      "(0.03963604274409343+0j)\n",
      "n_discard =  144\n",
      "discard samples 1.613710880279541\n",
      "n_samples_node =  1000\n",
      "generate_samples :  11.089255809783936\n",
      "     prepare getting local values 0.002457141876220703\n",
      "     obtained local values 0.007895231246948242\n",
      "get_mc_stats 0.011576175689697266\n"
     ]
    },
    {
     "name": "stderr",
     "output_type": "stream",
     "text": [
      " 38%|███▊      | 379/1000 [1:24:09<2:12:45, 12.83s/it, Energy=-2.10579+0.00000j ± 0.00011 [σ²=0.00001]]"
     ]
    },
    {
     "name": "stdout",
     "output_type": "stream",
     "text": [
      "--->> cal O and jac  0.037039756774902344\n",
      "compute_update  0.04003095626831055\n",
      "(0.03963746289931091+0j)\n",
      "n_discard =  144\n",
      "discard samples 1.6108291149139404\n",
      "n_samples_node =  1000\n",
      "generate_samples :  11.094717979431152\n",
      "     prepare getting local values 0.00220489501953125\n",
      "     obtained local values 0.007738828659057617\n",
      "get_mc_stats 0.012029886245727539\n"
     ]
    },
    {
     "name": "stderr",
     "output_type": "stream",
     "text": [
      " 38%|███▊      | 380/1000 [1:24:22<2:12:19, 12.81s/it, Energy=-2.105974+0.000000j ± 0.000090 [σ²=0.000009]]"
     ]
    },
    {
     "name": "stdout",
     "output_type": "stream",
     "text": [
      "--->> cal O and jac  0.03432202339172363\n",
      "compute_update  0.03766894340515137\n",
      "(0.03963886337256314+0j)\n",
      "n_discard =  144\n",
      "discard samples 1.6173920631408691\n",
      "n_samples_node =  1000\n",
      "generate_samples :  11.080180883407593\n",
      "     prepare getting local values 0.0021440982818603516\n",
      "     obtained local values 0.007725238800048828\n",
      "get_mc_stats 0.011850833892822266\n"
     ]
    },
    {
     "name": "stderr",
     "output_type": "stream",
     "text": [
      " 38%|███▊      | 381/1000 [1:24:35<2:11:56, 12.79s/it, Energy=-2.105820+0.000000j ± 0.000082 [σ²=0.000008]]"
     ]
    },
    {
     "name": "stdout",
     "output_type": "stream",
     "text": [
      "--->> cal O and jac  0.03574991226196289\n",
      "compute_update  0.03903985023498535\n",
      "(0.03963332009290336+0j)\n",
      "n_discard =  144\n",
      "discard samples 1.59698486328125\n",
      "n_samples_node =  1000\n",
      "generate_samples :  11.12162709236145\n",
      "     prepare getting local values 0.00220489501953125\n",
      "     obtained local values 0.00772404670715332\n",
      "get_mc_stats 0.011754035949707031\n"
     ]
    },
    {
     "name": "stderr",
     "output_type": "stream",
     "text": [
      " 38%|███▊      | 382/1000 [1:24:48<2:11:40, 12.78s/it, Energy=-2.105830+0.000000j ± 0.000088 [σ²=0.000008]]"
     ]
    },
    {
     "name": "stdout",
     "output_type": "stream",
     "text": [
      "--->> cal O and jac  0.03789091110229492\n",
      "compute_update  0.04085898399353027\n",
      "(0.03962856485463073+0j)\n",
      "n_discard =  144\n",
      "discard samples 1.63273286819458\n",
      "n_samples_node =  1000\n",
      "generate_samples :  11.090759038925171\n",
      "     prepare getting local values 0.002003908157348633\n",
      "     obtained local values 0.007621288299560547\n",
      "get_mc_stats 0.01165914535522461\n"
     ]
    },
    {
     "name": "stderr",
     "output_type": "stream",
     "text": [
      " 38%|███▊      | 383/1000 [1:25:00<2:11:26, 12.78s/it, Energy=-2.105899+0.000000j ± 0.000089 [σ²=0.000008]]"
     ]
    },
    {
     "name": "stdout",
     "output_type": "stream",
     "text": [
      "--->> cal O and jac  0.03427624702453613\n",
      "compute_update  0.037197113037109375\n",
      "(0.039623642000735565+0j)\n",
      "n_discard =  144\n",
      "discard samples 1.6106390953063965\n",
      "n_samples_node =  1000\n",
      "generate_samples :  11.096069097518921\n",
      "     prepare getting local values 0.0022127628326416016\n",
      "     obtained local values 0.007590770721435547\n",
      "get_mc_stats 0.011735200881958008\n"
     ]
    },
    {
     "name": "stderr",
     "output_type": "stream",
     "text": [
      " 38%|███▊      | 384/1000 [1:25:13<2:11:09, 12.77s/it, Energy=-2.105844+0.000000j ± 0.000080 [σ²=0.000007]]"
     ]
    },
    {
     "name": "stdout",
     "output_type": "stream",
     "text": [
      "--->> cal O and jac  0.03454709053039551\n",
      "compute_update  0.0375821590423584\n",
      "(0.039621126860289624+0j)\n",
      "n_discard =  144\n",
      "discard samples 1.6102452278137207\n",
      "n_samples_node =  1000\n",
      "generate_samples :  11.112669944763184\n",
      "     prepare getting local values 0.002245187759399414\n",
      "     obtained local values 0.00777125358581543\n",
      "get_mc_stats 0.011853933334350586\n"
     ]
    },
    {
     "name": "stderr",
     "output_type": "stream",
     "text": [
      " 38%|███▊      | 385/1000 [1:25:26<2:10:56, 12.77s/it, Energy=-2.105830+0.000000j ± 0.000094 [σ²=0.000009]]"
     ]
    },
    {
     "name": "stdout",
     "output_type": "stream",
     "text": [
      "--->> cal O and jac  0.034928083419799805\n",
      "compute_update  0.038330078125\n",
      "(0.039617514401211085+0j)\n",
      "n_discard =  144\n",
      "discard samples 1.608262062072754\n",
      "n_samples_node =  1000\n",
      "generate_samples :  11.097765922546387\n",
      "     prepare getting local values 0.002346038818359375\n",
      "     obtained local values 0.007918119430541992\n",
      "get_mc_stats 0.01191401481628418\n"
     ]
    },
    {
     "name": "stderr",
     "output_type": "stream",
     "text": [
      " 39%|███▊      | 386/1000 [1:25:39<2:10:40, 12.77s/it, Energy=-2.10568+0.00000j ± 0.00011 [σ²=0.00001]]    "
     ]
    },
    {
     "name": "stdout",
     "output_type": "stream",
     "text": [
      "--->> cal O and jac  0.03548789024353027\n",
      "compute_update  0.03847193717956543\n",
      "(0.03961488924525138+0j)\n",
      "n_discard =  144\n",
      "discard samples 1.6147141456604004\n",
      "n_samples_node =  1000\n",
      "generate_samples :  11.164541244506836\n",
      "     prepare getting local values 0.0019528865814208984\n",
      "     obtained local values 0.0075490474700927734\n",
      "get_mc_stats 0.011867046356201172\n"
     ]
    },
    {
     "name": "stderr",
     "output_type": "stream",
     "text": [
      " 39%|███▊      | 387/1000 [1:25:52<2:10:39, 12.79s/it, Energy=-2.105799+0.000000j ± 0.000078 [σ²=0.000008]]"
     ]
    },
    {
     "name": "stdout",
     "output_type": "stream",
     "text": [
      "--->> cal O and jac  0.03619885444641113\n",
      "compute_update  0.039093017578125\n",
      "(0.03961407530880188+0j)\n",
      "n_discard =  144\n",
      "discard samples 1.6160047054290771\n",
      "n_samples_node =  1000\n",
      "generate_samples :  11.114904165267944\n",
      "     prepare getting local values 0.002317190170288086\n",
      "     obtained local values 0.007928133010864258\n",
      "get_mc_stats 0.012009143829345703\n"
     ]
    },
    {
     "name": "stderr",
     "output_type": "stream",
     "text": [
      " 39%|███▉      | 388/1000 [1:26:04<2:10:25, 12.79s/it, Energy=-2.105685+0.000000j ± 0.000075 [σ²=0.000008]]"
     ]
    },
    {
     "name": "stdout",
     "output_type": "stream",
     "text": [
      "--->> cal O and jac  0.03476095199584961\n",
      "compute_update  0.03772592544555664\n",
      "(0.03961230148825561+0j)\n",
      "n_discard =  144\n",
      "discard samples 1.6191229820251465\n",
      "n_samples_node =  1000\n",
      "generate_samples :  11.046285152435303\n",
      "     prepare getting local values 0.0025701522827148438\n",
      "     obtained local values 0.008028984069824219\n",
      "get_mc_stats 0.011689901351928711\n"
     ]
    },
    {
     "name": "stderr",
     "output_type": "stream",
     "text": [
      " 39%|███▉      | 389/1000 [1:26:17<2:10:00, 12.77s/it, Energy=-2.105753+0.000000j ± 0.000061 [σ²=0.000007]]"
     ]
    },
    {
     "name": "stdout",
     "output_type": "stream",
     "text": [
      "--->> cal O and jac  0.035574913024902344\n",
      "compute_update  0.03873705863952637\n",
      "(0.03961163331954232+0j)\n",
      "n_discard =  144\n",
      "discard samples 1.5968940258026123\n",
      "n_samples_node =  1000\n",
      "generate_samples :  11.134935140609741\n",
      "     prepare getting local values 0.0022208690643310547\n",
      "     obtained local values 0.007844924926757812\n",
      "get_mc_stats 0.012215137481689453\n"
     ]
    },
    {
     "name": "stderr",
     "output_type": "stream",
     "text": [
      " 39%|███▉      | 390/1000 [1:26:30<2:09:50, 12.77s/it, Energy=-2.10576+0.00000j ± 0.00010 [σ²=0.00001]]    "
     ]
    },
    {
     "name": "stdout",
     "output_type": "stream",
     "text": [
      "--->> cal O and jac  0.03621816635131836\n",
      "compute_update  0.03931117057800293\n",
      "(0.03961027985951745+0j)\n",
      "n_discard =  144\n",
      "discard samples 1.6092588901519775\n",
      "n_samples_node =  1000\n",
      "generate_samples :  11.068917989730835\n",
      "     prepare getting local values 0.0020110607147216797\n",
      "     obtained local values 0.007728099822998047\n",
      "get_mc_stats 0.011790037155151367\n"
     ]
    },
    {
     "name": "stderr",
     "output_type": "stream",
     "text": [
      " 39%|███▉      | 391/1000 [1:26:43<2:09:30, 12.76s/it, Energy=-2.105794+0.000000j ± 0.000085 [σ²=0.000007]]"
     ]
    },
    {
     "name": "stdout",
     "output_type": "stream",
     "text": [
      "--->> cal O and jac  0.03503894805908203\n",
      "compute_update  0.038170814514160156\n",
      "(0.03960895878873618+0j)\n",
      "n_discard =  144\n",
      "discard samples 1.6329872608184814\n",
      "n_samples_node =  1000\n",
      "generate_samples :  11.12433910369873\n",
      "     prepare getting local values 0.0020160675048828125\n",
      "     obtained local values 0.0074310302734375\n",
      "get_mc_stats 0.011494159698486328\n"
     ]
    },
    {
     "name": "stderr",
     "output_type": "stream",
     "text": [
      " 39%|███▉      | 392/1000 [1:26:55<2:09:27, 12.77s/it, Energy=-2.105842+0.000000j ± 0.000073 [σ²=0.000007]]"
     ]
    },
    {
     "name": "stdout",
     "output_type": "stream",
     "text": [
      "--->> cal O and jac  0.03486800193786621\n",
      "compute_update  0.03809189796447754\n",
      "(0.039607728104343154+0j)\n",
      "n_discard =  144\n",
      "discard samples 1.6160569190979004\n",
      "n_samples_node =  1000\n",
      "generate_samples :  11.07187294960022\n",
      "     prepare getting local values 0.0021309852600097656\n",
      "     obtained local values 0.007675886154174805\n",
      "get_mc_stats 0.011946916580200195\n"
     ]
    },
    {
     "name": "stderr",
     "output_type": "stream",
     "text": [
      " 39%|███▉      | 393/1000 [1:27:08<2:09:08, 12.77s/it, Energy=-2.105865+0.000000j ± 0.000075 [σ²=0.000007]]"
     ]
    },
    {
     "name": "stdout",
     "output_type": "stream",
     "text": [
      "--->> cal O and jac  0.037448883056640625\n",
      "compute_update  0.04037809371948242\n",
      "(0.0396054186121643+0j)\n",
      "n_discard =  144\n",
      "discard samples 1.6034960746765137\n",
      "n_samples_node =  1000\n",
      "generate_samples :  11.079853773117065\n",
      "     prepare getting local values 0.002080202102661133\n",
      "     obtained local values 0.007520198822021484\n",
      "get_mc_stats 0.01167607307434082\n"
     ]
    },
    {
     "name": "stderr",
     "output_type": "stream",
     "text": [
      " 39%|███▉      | 394/1000 [1:27:21<2:08:50, 12.76s/it, Energy=-2.105725+0.000000j ± 0.000088 [σ²=0.000007]]"
     ]
    },
    {
     "name": "stdout",
     "output_type": "stream",
     "text": [
      "--->> cal O and jac  0.03514695167541504\n",
      "compute_update  0.038539886474609375\n",
      "(0.03960712361823954+0j)\n",
      "n_discard =  144\n",
      "discard samples 1.6133880615234375\n",
      "n_samples_node =  1000\n",
      "generate_samples :  11.154681921005249\n",
      "     prepare getting local values 0.002053976058959961\n",
      "     obtained local values 0.007682085037231445\n",
      "get_mc_stats 0.011924982070922852\n"
     ]
    },
    {
     "name": "stderr",
     "output_type": "stream",
     "text": [
      " 40%|███▉      | 395/1000 [1:27:34<2:08:49, 12.78s/it, Energy=-2.105860+0.000000j ± 0.000081 [σ²=0.000008]]"
     ]
    },
    {
     "name": "stdout",
     "output_type": "stream",
     "text": [
      "--->> cal O and jac  0.03736758232116699\n",
      "compute_update  0.0404508113861084\n",
      "(0.039607945621509585+0j)\n",
      "n_discard =  144\n",
      "discard samples 1.6070208549499512\n",
      "n_samples_node =  1000\n",
      "generate_samples :  11.103536128997803\n",
      "     prepare getting local values 0.0019071102142333984\n",
      "     obtained local values 0.007348060607910156\n",
      "get_mc_stats 0.01161813735961914\n"
     ]
    },
    {
     "name": "stderr",
     "output_type": "stream",
     "text": [
      " 40%|███▉      | 396/1000 [1:27:46<2:08:34, 12.77s/it, Energy=-2.106053+0.000000j ± 0.000092 [σ²=0.000007]]"
     ]
    },
    {
     "name": "stdout",
     "output_type": "stream",
     "text": [
      "--->> cal O and jac  0.037631988525390625\n",
      "compute_update  0.040621042251586914\n",
      "(0.03960844817908227+0j)\n",
      "n_discard =  144\n",
      "discard samples 1.6144447326660156\n",
      "n_samples_node =  1000\n",
      "generate_samples :  11.126035928726196\n",
      "     prepare getting local values 0.001965045928955078\n",
      "     obtained local values 0.007682085037231445\n",
      "get_mc_stats 0.011596202850341797\n"
     ]
    },
    {
     "name": "stderr",
     "output_type": "stream",
     "text": [
      " 40%|███▉      | 397/1000 [1:27:59<2:08:25, 12.78s/it, Energy=-2.10577+0.00000j ± 0.00010 [σ²=0.00001]]    "
     ]
    },
    {
     "name": "stdout",
     "output_type": "stream",
     "text": [
      "--->> cal O and jac  0.03551006317138672\n",
      "compute_update  0.03884291648864746\n",
      "(0.039607345607972216+0j)\n",
      "n_discard =  144\n",
      "discard samples 1.6253941059112549\n",
      "n_samples_node =  1000\n",
      "generate_samples :  11.085332870483398\n",
      "     prepare getting local values 0.0023202896118164062\n",
      "     obtained local values 0.0077702999114990234\n",
      "get_mc_stats 0.013679027557373047\n"
     ]
    },
    {
     "name": "stderr",
     "output_type": "stream",
     "text": [
      " 40%|███▉      | 398/1000 [1:28:12<2:08:10, 12.77s/it, Energy=-2.105758+0.000000j ± 0.000071 [σ²=0.000006]]"
     ]
    },
    {
     "name": "stdout",
     "output_type": "stream",
     "text": [
      "--->> cal O and jac  0.03436708450317383\n",
      "compute_update  0.03743314743041992\n",
      "(0.039604361552138125+0j)\n",
      "n_discard =  144\n",
      "discard samples 1.619520902633667\n",
      "n_samples_node =  1000\n",
      "generate_samples :  11.090893030166626\n",
      "     prepare getting local values 0.0021638870239257812\n",
      "     obtained local values 0.007772922515869141\n",
      "get_mc_stats 0.011617183685302734\n"
     ]
    },
    {
     "name": "stderr",
     "output_type": "stream",
     "text": [
      " 40%|███▉      | 399/1000 [1:28:25<2:07:55, 12.77s/it, Energy=-2.105635+0.000000j ± 0.000089 [σ²=0.000007]]"
     ]
    },
    {
     "name": "stdout",
     "output_type": "stream",
     "text": [
      "--->> cal O and jac  0.03732800483703613\n",
      "compute_update  0.0401308536529541\n",
      "(0.039598361957395016+0j)\n",
      "n_discard =  144\n",
      "discard samples 1.6098451614379883\n",
      "n_samples_node =  1000\n",
      "generate_samples :  11.137856006622314\n",
      "     prepare getting local values 0.002295970916748047\n",
      "     obtained local values 0.007922887802124023\n",
      "get_mc_stats 0.011984825134277344\n"
     ]
    },
    {
     "name": "stderr",
     "output_type": "stream",
     "text": [
      " 40%|████      | 400/1000 [1:28:38<2:07:47, 12.78s/it, Energy=-2.105934+0.000000j ± 0.000082 [σ²=0.000006]]"
     ]
    },
    {
     "name": "stdout",
     "output_type": "stream",
     "text": [
      "--->> cal O and jac  0.035243988037109375\n",
      "compute_update  0.038513898849487305\n",
      "(0.03959745922066276+0j)\n",
      "n_discard =  144\n",
      "discard samples 1.6070547103881836\n",
      "n_samples_node =  1000\n",
      "generate_samples :  11.265310049057007\n",
      "     prepare getting local values 0.0037870407104492188\n",
      "     obtained local values 0.009711742401123047\n",
      "get_mc_stats 0.016421794891357422\n"
     ]
    },
    {
     "name": "stderr",
     "output_type": "stream",
     "text": [
      " 40%|████      | 401/1000 [1:28:50<2:08:05, 12.83s/it, Energy=-2.105744+0.000000j ± 0.000056 [σ²=0.000007]]"
     ]
    },
    {
     "name": "stdout",
     "output_type": "stream",
     "text": [
      "--->> cal O and jac  0.05249214172363281\n",
      "compute_update  0.05611014366149902\n",
      "(0.03959295978796789+0j)\n",
      "n_discard =  144\n",
      "discard samples 1.6501829624176025\n",
      "n_samples_node =  1000\n",
      "generate_samples :  11.106634855270386\n",
      "     prepare getting local values 0.0018367767333984375\n",
      "     obtained local values 0.00736689567565918\n",
      "get_mc_stats 0.011610269546508789\n"
     ]
    },
    {
     "name": "stderr",
     "output_type": "stream",
     "text": [
      " 40%|████      | 402/1000 [1:29:03<2:07:49, 12.82s/it, Energy=-2.105831+0.000000j ± 0.000083 [σ²=0.000006]]"
     ]
    },
    {
     "name": "stdout",
     "output_type": "stream",
     "text": [
      "--->> cal O and jac  0.03767514228820801\n",
      "compute_update  0.04047107696533203\n",
      "(0.039590529443724806+0j)\n",
      "n_discard =  144\n",
      "discard samples 1.6082427501678467\n",
      "n_samples_node =  1000\n",
      "generate_samples :  11.087384939193726\n",
      "     prepare getting local values 0.002116680145263672\n",
      "     obtained local values 0.007763862609863281\n",
      "get_mc_stats 0.011789083480834961\n"
     ]
    },
    {
     "name": "stderr",
     "output_type": "stream",
     "text": [
      " 40%|████      | 403/1000 [1:29:16<2:07:22, 12.80s/it, Energy=-2.105726+0.000000j ± 0.000084 [σ²=0.000006]]"
     ]
    },
    {
     "name": "stdout",
     "output_type": "stream",
     "text": [
      "--->> cal O and jac  0.03493690490722656\n",
      "compute_update  0.03790116310119629\n",
      "(0.03958617386050842+0j)\n",
      "n_discard =  144\n",
      "discard samples 1.6104199886322021\n",
      "n_samples_node =  1000\n",
      "generate_samples :  11.070532083511353\n",
      "     prepare getting local values 0.0022270679473876953\n",
      "     obtained local values 0.007992029190063477\n",
      "get_mc_stats 0.012188196182250977\n"
     ]
    },
    {
     "name": "stderr",
     "output_type": "stream",
     "text": [
      " 40%|████      | 404/1000 [1:29:29<2:06:57, 12.78s/it, Energy=-2.105910+0.000000j ± 0.000086 [σ²=0.000006]]"
     ]
    },
    {
     "name": "stdout",
     "output_type": "stream",
     "text": [
      "--->> cal O and jac  0.03563284873962402\n",
      "compute_update  0.0387418270111084\n",
      "(0.039584605651691404+0j)\n",
      "n_discard =  144\n",
      "discard samples 1.617231845855713\n",
      "n_samples_node =  1000\n",
      "generate_samples :  11.113452911376953\n",
      "     prepare getting local values 0.0020449161529541016\n",
      "     obtained local values 0.0075380802154541016\n",
      "get_mc_stats 0.011879920959472656\n"
     ]
    },
    {
     "name": "stderr",
     "output_type": "stream",
     "text": [
      " 40%|████      | 405/1000 [1:29:42<2:06:45, 12.78s/it, Energy=-2.105759+0.000000j ± 0.000084 [σ²=0.000006]]"
     ]
    },
    {
     "name": "stdout",
     "output_type": "stream",
     "text": [
      "--->> cal O and jac  0.0348360538482666\n",
      "compute_update  0.03799128532409668\n",
      "(0.03957916704142872+0j)\n",
      "n_discard =  144\n",
      "discard samples 1.612555980682373\n",
      "n_samples_node =  1000\n",
      "generate_samples :  11.111645936965942\n",
      "     prepare getting local values 0.002023935317993164\n",
      "     obtained local values 0.007734060287475586\n",
      "get_mc_stats 0.01207876205444336\n"
     ]
    },
    {
     "name": "stderr",
     "output_type": "stream",
     "text": [
      " 41%|████      | 406/1000 [1:29:54<2:06:31, 12.78s/it, Energy=-2.105808+0.000000j ± 0.000064 [σ²=0.000006]]"
     ]
    },
    {
     "name": "stdout",
     "output_type": "stream",
     "text": [
      "--->> cal O and jac  0.03531694412231445\n",
      "compute_update  0.038331031799316406\n",
      "(0.03957744611932908+0j)\n",
      "n_discard =  144\n",
      "discard samples 1.6045548915863037\n",
      "n_samples_node =  1000\n",
      "generate_samples :  11.206598997116089\n",
      "     prepare getting local values 0.002164125442504883\n",
      "     obtained local values 0.00796818733215332\n",
      "get_mc_stats 0.016946077346801758\n"
     ]
    },
    {
     "name": "stderr",
     "output_type": "stream",
     "text": [
      " 41%|████      | 407/1000 [1:30:07<2:06:34, 12.81s/it, Energy=-2.105926+0.000000j ± 0.000064 [σ²=0.000006]]"
     ]
    },
    {
     "name": "stdout",
     "output_type": "stream",
     "text": [
      "--->> cal O and jac  0.035325050354003906\n",
      "compute_update  0.038297176361083984\n",
      "(0.0395726944583746+0j)\n",
      "n_discard =  144\n",
      "discard samples 1.6129701137542725\n",
      "n_samples_node =  1000\n",
      "generate_samples :  11.122470140457153\n",
      "     prepare getting local values 0.002043008804321289\n",
      "     obtained local values 0.007593870162963867\n",
      "get_mc_stats 0.011725187301635742\n"
     ]
    },
    {
     "name": "stderr",
     "output_type": "stream",
     "text": [
      " 41%|████      | 408/1000 [1:30:20<2:06:18, 12.80s/it, Energy=-2.105814+0.000000j ± 0.000058 [σ²=0.000005]]"
     ]
    },
    {
     "name": "stdout",
     "output_type": "stream",
     "text": [
      "--->> cal O and jac  0.03501391410827637\n",
      "compute_update  0.03784966468811035\n",
      "(0.03956939614400213+0j)\n",
      "n_discard =  144\n",
      "discard samples 1.6178159713745117\n",
      "n_samples_node =  1000\n",
      "generate_samples :  11.134459972381592\n",
      "     prepare getting local values 0.0023488998413085938\n",
      "     obtained local values 0.007816791534423828\n",
      "get_mc_stats 0.011981010437011719\n"
     ]
    },
    {
     "name": "stderr",
     "output_type": "stream",
     "text": [
      " 41%|████      | 409/1000 [1:30:33<2:06:06, 12.80s/it, Energy=-2.105735+0.000000j ± 0.000069 [σ²=0.000006]]"
     ]
    },
    {
     "name": "stdout",
     "output_type": "stream",
     "text": [
      "--->> cal O and jac  0.037049055099487305\n",
      "compute_update  0.040329933166503906\n",
      "(0.039565284198802765+0j)\n",
      "n_discard =  144\n",
      "discard samples 1.6173901557922363\n",
      "n_samples_node =  1000\n",
      "generate_samples :  11.119166135787964\n",
      "     prepare getting local values 0.0021538734436035156\n",
      "     obtained local values 0.007604837417602539\n",
      "get_mc_stats 0.01180887222290039\n"
     ]
    },
    {
     "name": "stderr",
     "output_type": "stream",
     "text": [
      " 41%|████      | 410/1000 [1:30:46<2:05:51, 12.80s/it, Energy=-2.105909+0.000000j ± 0.000070 [σ²=0.000005]]"
     ]
    },
    {
     "name": "stdout",
     "output_type": "stream",
     "text": [
      "--->> cal O and jac  0.03581881523132324\n",
      "compute_update  0.0396120548248291\n",
      "(0.03956107369142718+0j)\n",
      "n_discard =  144\n",
      "discard samples 1.713568925857544\n",
      "n_samples_node =  1000\n",
      "generate_samples :  11.995512962341309\n",
      "     prepare getting local values 0.003141164779663086\n",
      "     obtained local values 0.008981943130493164\n",
      "get_mc_stats 0.013561248779296875\n"
     ]
    },
    {
     "name": "stderr",
     "output_type": "stream",
     "text": [
      " 41%|████      | 411/1000 [1:30:59<2:08:30, 13.09s/it, Energy=-2.105864+0.000000j ± 0.000076 [σ²=0.000005]]"
     ]
    },
    {
     "name": "stdout",
     "output_type": "stream",
     "text": [
      "--->> cal O and jac  0.0417482852935791\n",
      "compute_update  0.04517412185668945\n",
      "(0.03955771408620962+0j)\n",
      "n_discard =  144\n",
      "discard samples 1.647341012954712\n",
      "n_samples_node =  1000\n",
      "generate_samples :  12.149399995803833\n",
      "     prepare getting local values 0.0034689903259277344\n",
      "     obtained local values 0.010332822799682617\n",
      "get_mc_stats 0.014900922775268555\n"
     ]
    },
    {
     "name": "stderr",
     "output_type": "stream",
     "text": [
      " 41%|████      | 412/1000 [1:31:13<2:10:31, 13.32s/it, Energy=-2.105751+0.000000j ± 0.000085 [σ²=0.000006]]"
     ]
    },
    {
     "name": "stdout",
     "output_type": "stream",
     "text": [
      "--->> cal O and jac  0.037633657455444336\n",
      "compute_update  0.04074382781982422\n",
      "(0.039552203674498146+0j)\n",
      "n_discard =  144\n",
      "discard samples 1.8271780014038086\n",
      "n_samples_node =  1000\n",
      "generate_samples :  12.492499828338623\n",
      "     prepare getting local values 0.0028040409088134766\n",
      "     obtained local values 0.009548187255859375\n",
      "get_mc_stats 0.015575170516967773\n"
     ]
    },
    {
     "name": "stderr",
     "output_type": "stream",
     "text": [
      " 41%|████▏     | 413/1000 [1:31:28<2:13:26, 13.64s/it, Energy=-2.105981+0.000000j ± 0.000084 [σ²=0.000005]]"
     ]
    },
    {
     "name": "stdout",
     "output_type": "stream",
     "text": [
      "--->> cal O and jac  0.04278874397277832\n",
      "compute_update  0.046434640884399414\n",
      "(0.03955117568894336+0j)\n",
      "n_discard =  144\n",
      "discard samples 1.6655969619750977\n",
      "n_samples_node =  1000\n",
      "generate_samples :  11.568343877792358\n",
      "     prepare getting local values 0.0021648406982421875\n",
      "     obtained local values 0.00789785385131836\n",
      "get_mc_stats 0.012104988098144531\n"
     ]
    },
    {
     "name": "stderr",
     "output_type": "stream",
     "text": [
      " 41%|████▏     | 414/1000 [1:31:41<2:12:10, 13.53s/it, Energy=-2.105929+0.000000j ± 0.000074 [σ²=0.000005]]"
     ]
    },
    {
     "name": "stdout",
     "output_type": "stream",
     "text": [
      "--->> cal O and jac  0.03637504577636719\n",
      "compute_update  0.03966188430786133\n",
      "(0.039550571288754416+0j)\n",
      "n_discard =  144\n",
      "discard samples 1.6536402702331543\n",
      "n_samples_node =  1000\n",
      "generate_samples :  11.556066989898682\n",
      "     prepare getting local values 0.00321197509765625\n",
      "     obtained local values 0.01012873649597168\n",
      "get_mc_stats 0.015144824981689453\n"
     ]
    },
    {
     "name": "stderr",
     "output_type": "stream",
     "text": [
      " 42%|████▏     | 415/1000 [1:31:54<2:11:13, 13.46s/it, Energy=-2.105791+0.000000j ± 0.000077 [σ²=0.000005]]"
     ]
    },
    {
     "name": "stdout",
     "output_type": "stream",
     "text": [
      "--->> cal O and jac  0.05069589614868164\n",
      "compute_update  0.057071685791015625\n",
      "(0.03954820814584922+0j)\n",
      "n_discard =  144\n",
      "discard samples 1.7641959190368652\n",
      "n_samples_node =  1000\n",
      "generate_samples :  11.49525785446167\n",
      "     prepare getting local values 0.0027418136596679688\n",
      "     obtained local values 0.008551836013793945\n",
      "get_mc_stats 0.01306009292602539\n"
     ]
    },
    {
     "name": "stderr",
     "output_type": "stream",
     "text": [
      " 42%|████▏     | 416/1000 [1:32:07<2:10:34, 13.42s/it, Energy=-2.105779+0.000000j ± 0.000063 [σ²=0.000005]]"
     ]
    },
    {
     "name": "stdout",
     "output_type": "stream",
     "text": [
      "--->> cal O and jac  0.03734922409057617\n",
      "compute_update  0.04017019271850586\n",
      "(0.039544723319974+0j)\n",
      "n_discard =  144\n",
      "discard samples 1.6438069343566895\n",
      "n_samples_node =  1000\n",
      "generate_samples :  11.361692905426025\n",
      "     prepare getting local values 0.0023441314697265625\n",
      "     obtained local values 0.008082151412963867\n",
      "get_mc_stats 0.012489080429077148\n"
     ]
    },
    {
     "name": "stderr",
     "output_type": "stream",
     "text": [
      " 42%|████▏     | 417/1000 [1:32:21<2:09:19, 13.31s/it, Energy=-2.105881+0.000000j ± 0.000061 [σ²=0.000005]]"
     ]
    },
    {
     "name": "stdout",
     "output_type": "stream",
     "text": [
      "--->> cal O and jac  0.03924822807312012\n",
      "compute_update  0.042983293533325195\n",
      "(0.039540118055042865+0j)\n",
      "n_discard =  144\n",
      "discard samples 1.6516900062561035\n",
      "n_samples_node =  1000\n",
      "generate_samples :  11.382476091384888\n",
      "     prepare getting local values 0.002225160598754883\n",
      "     obtained local values 0.008026123046875\n",
      "get_mc_stats 0.0120849609375\n"
     ]
    },
    {
     "name": "stderr",
     "output_type": "stream",
     "text": [
      " 42%|████▏     | 418/1000 [1:32:34<2:08:27, 13.24s/it, Energy=-2.105773+0.000000j ± 0.000077 [σ²=0.000005]]"
     ]
    },
    {
     "name": "stdout",
     "output_type": "stream",
     "text": [
      "--->> cal O and jac  0.036215782165527344\n",
      "compute_update  0.03941488265991211\n",
      "(0.03953561938971345+0j)\n",
      "n_discard =  144\n",
      "discard samples 1.6475839614868164\n",
      "n_samples_node =  1000\n",
      "generate_samples :  11.600518226623535\n",
      "     prepare getting local values 0.0018718242645263672\n",
      "     obtained local values 0.0076427459716796875\n",
      "get_mc_stats 0.011754989624023438\n"
     ]
    },
    {
     "name": "stderr",
     "output_type": "stream",
     "text": [
      " 42%|████▏     | 419/1000 [1:32:47<2:08:25, 13.26s/it, Energy=-2.105774+0.000000j ± 0.000069 [σ²=0.000005]]"
     ]
    },
    {
     "name": "stdout",
     "output_type": "stream",
     "text": [
      "--->> cal O and jac  0.04151010513305664\n",
      "compute_update  0.04466819763183594\n",
      "(0.039531847937699024+0j)\n",
      "n_discard =  144\n",
      "discard samples 1.665653944015503\n",
      "n_samples_node =  1000\n",
      "generate_samples :  11.395135164260864\n",
      "     prepare getting local values 0.002315998077392578\n",
      "     obtained local values 0.007973909378051758\n",
      "get_mc_stats 0.012188911437988281\n"
     ]
    },
    {
     "name": "stderr",
     "output_type": "stream",
     "text": [
      " 42%|████▏     | 420/1000 [1:33:00<2:07:46, 13.22s/it, Energy=-2.105814+0.000000j ± 0.000072 [σ²=0.000005]]"
     ]
    },
    {
     "name": "stdout",
     "output_type": "stream",
     "text": [
      "--->> cal O and jac  0.03649091720581055\n",
      "compute_update  0.03960227966308594\n",
      "(0.03952890557043307+0j)\n",
      "n_discard =  144\n",
      "discard samples 1.660616159439087\n",
      "n_samples_node =  1000\n",
      "generate_samples :  11.333011865615845\n",
      "     prepare getting local values 0.0020890235900878906\n",
      "     obtained local values 0.0076749324798583984\n",
      "get_mc_stats 0.011963844299316406\n"
     ]
    },
    {
     "name": "stderr",
     "output_type": "stream",
     "text": [
      " 42%|████▏     | 421/1000 [1:33:13<2:07:03, 13.17s/it, Energy=-2.105734+0.000000j ± 0.000075 [σ²=0.000004]]"
     ]
    },
    {
     "name": "stdout",
     "output_type": "stream",
     "text": [
      "--->> cal O and jac  0.036238670349121094\n",
      "compute_update  0.039534807205200195\n",
      "(0.03952656893491626+0j)\n",
      "n_discard =  144\n",
      "discard samples 1.6453909873962402\n",
      "n_samples_node =  1000\n",
      "generate_samples :  11.84467101097107\n",
      "     prepare getting local values 0.002701997756958008\n",
      "     obtained local values 0.00850677490234375\n",
      "get_mc_stats 0.013566970825195312\n"
     ]
    },
    {
     "name": "stderr",
     "output_type": "stream",
     "text": [
      " 42%|████▏     | 422/1000 [1:33:27<2:07:56, 13.28s/it, Energy=-2.105821+0.000000j ± 0.000062 [σ²=0.000004]]"
     ]
    },
    {
     "name": "stdout",
     "output_type": "stream",
     "text": [
      "--->> cal O and jac  0.03689074516296387\n",
      "compute_update  0.04021191596984863\n",
      "(0.03952320356336274+0j)\n",
      "n_discard =  144\n",
      "discard samples 1.6665849685668945\n",
      "n_samples_node =  1000\n",
      "generate_samples :  11.664350986480713\n",
      "     prepare getting local values 0.002354860305786133\n",
      "     obtained local values 0.007932186126708984\n",
      "get_mc_stats 0.012026786804199219\n"
     ]
    },
    {
     "name": "stderr",
     "output_type": "stream",
     "text": [
      " 42%|████▏     | 423/1000 [1:33:40<2:08:01, 13.31s/it, Energy=-2.105888+0.000000j ± 0.000075 [σ²=0.000004]]"
     ]
    },
    {
     "name": "stdout",
     "output_type": "stream",
     "text": [
      "--->> cal O and jac  0.03742408752441406\n",
      "compute_update  0.04087996482849121\n",
      "(0.039520480869162475+0j)\n",
      "n_discard =  144\n",
      "discard samples 1.6467008590698242\n",
      "n_samples_node =  1000\n",
      "generate_samples :  11.521551132202148\n",
      "     prepare getting local values 0.0024602413177490234\n",
      "     obtained local values 0.008318185806274414\n",
      "get_mc_stats 0.012876033782958984\n"
     ]
    },
    {
     "name": "stderr",
     "output_type": "stream",
     "text": [
      " 42%|████▏     | 424/1000 [1:33:53<2:07:33, 13.29s/it, Energy=-2.105893+0.000000j ± 0.000073 [σ²=0.000005]]"
     ]
    },
    {
     "name": "stdout",
     "output_type": "stream",
     "text": [
      "--->> cal O and jac  0.03912186622619629\n",
      "compute_update  0.04384589195251465\n",
      "(0.03951798290638238+0j)\n",
      "n_discard =  144\n",
      "discard samples 1.6762840747833252\n",
      "n_samples_node =  1000\n",
      "generate_samples :  11.818780183792114\n",
      "     prepare getting local values 0.0023920536041259766\n",
      "     obtained local values 0.00807809829711914\n",
      "get_mc_stats 0.013309001922607422\n"
     ]
    },
    {
     "name": "stderr",
     "output_type": "stream",
     "text": [
      " 42%|████▎     | 425/1000 [1:34:07<2:08:05, 13.37s/it, Energy=-2.105888+0.000000j ± 0.000065 [σ²=0.000004]]"
     ]
    },
    {
     "name": "stdout",
     "output_type": "stream",
     "text": [
      "--->> cal O and jac  0.037903785705566406\n",
      "compute_update  0.04098987579345703\n",
      "(0.0395138902316093+0j)\n",
      "n_discard =  144\n",
      "discard samples 1.6460700035095215\n",
      "n_samples_node =  1000\n",
      "generate_samples :  11.616732835769653\n",
      "     prepare getting local values 0.002504110336303711\n",
      "     obtained local values 0.008481025695800781\n",
      "get_mc_stats 0.014114141464233398\n"
     ]
    },
    {
     "name": "stderr",
     "output_type": "stream",
     "text": [
      " 43%|████▎     | 426/1000 [1:34:20<2:07:44, 13.35s/it, Energy=-2.105952+0.000000j ± 0.000062 [σ²=0.000004]]"
     ]
    },
    {
     "name": "stdout",
     "output_type": "stream",
     "text": [
      "--->> cal O and jac  0.03573298454284668\n",
      "compute_update  0.03868389129638672\n",
      "(0.039509890873633484+0j)\n",
      "n_discard =  144\n",
      "discard samples 1.64774489402771\n",
      "n_samples_node =  1000\n",
      "generate_samples :  11.387226819992065\n",
      "     prepare getting local values 0.002012968063354492\n",
      "     obtained local values 0.008256673812866211\n",
      "get_mc_stats 0.012519121170043945\n"
     ]
    },
    {
     "name": "stderr",
     "output_type": "stream",
     "text": [
      " 43%|████▎     | 427/1000 [1:34:33<2:06:46, 13.27s/it, Energy=-2.105745+0.000000j ± 0.000062 [σ²=0.000004]]"
     ]
    },
    {
     "name": "stdout",
     "output_type": "stream",
     "text": [
      "--->> cal O and jac  0.040701866149902344\n",
      "compute_update  0.044219970703125\n",
      "(0.03950420432739954+0j)\n",
      "n_discard =  144\n",
      "discard samples 1.6701548099517822\n",
      "n_samples_node =  1000\n",
      "generate_samples :  11.461414098739624\n",
      "     prepare getting local values 0.0022029876708984375\n",
      "     obtained local values 0.008563041687011719\n",
      "get_mc_stats 0.013907909393310547\n"
     ]
    },
    {
     "name": "stderr",
     "output_type": "stream",
     "text": [
      " 43%|████▎     | 428/1000 [1:34:46<2:06:21, 13.25s/it, Energy=-2.105824+0.000000j ± 0.000059 [σ²=0.000004]]"
     ]
    },
    {
     "name": "stdout",
     "output_type": "stream",
     "text": [
      "--->> cal O and jac  0.05236506462097168\n",
      "compute_update  0.05662417411804199\n",
      "(0.039501000900683585+0j)\n",
      "n_discard =  144\n",
      "discard samples 1.8507640361785889\n",
      "n_samples_node =  1000\n",
      "generate_samples :  11.86713171005249\n",
      "     prepare getting local values 0.002480745315551758\n",
      "     obtained local values 0.008995771408081055\n",
      "get_mc_stats 0.014303922653198242\n"
     ]
    },
    {
     "name": "stderr",
     "output_type": "stream",
     "text": [
      " 43%|████▎     | 429/1000 [1:35:00<2:07:38, 13.41s/it, Energy=-2.105884+0.000000j ± 0.000062 [σ²=0.000004]]"
     ]
    },
    {
     "name": "stdout",
     "output_type": "stream",
     "text": [
      "--->> cal O and jac  0.04621481895446777\n",
      "compute_update  0.050039052963256836\n",
      "(0.0394995330435506+0j)\n",
      "n_discard =  144\n",
      "discard samples 1.6774909496307373\n",
      "n_samples_node =  1000\n",
      "generate_samples :  12.636941194534302\n",
      "     prepare getting local values 0.0026369094848632812\n",
      "     obtained local values 0.009202003479003906\n",
      "get_mc_stats 0.014589309692382812\n"
     ]
    },
    {
     "name": "stderr",
     "output_type": "stream",
     "text": [
      " 43%|████▎     | 430/1000 [1:35:15<2:10:11, 13.70s/it, Energy=-2.105740+0.000000j ± 0.000067 [σ²=0.000004]]"
     ]
    },
    {
     "name": "stdout",
     "output_type": "stream",
     "text": [
      "--->> cal O and jac  0.04404878616333008\n",
      "compute_update  0.04830288887023926\n",
      "(0.0394948172202984+0j)\n",
      "n_discard =  144\n",
      "discard samples 2.01824688911438\n",
      "n_samples_node =  1000\n",
      "generate_samples :  11.460740804672241\n",
      "     prepare getting local values 0.0021979808807373047\n",
      "     obtained local values 0.008209228515625\n",
      "get_mc_stats 0.012456417083740234\n"
     ]
    },
    {
     "name": "stderr",
     "output_type": "stream",
     "text": [
      " 43%|████▎     | 431/1000 [1:35:28<2:09:29, 13.65s/it, Energy=-2.105848+0.000000j ± 0.000071 [σ²=0.000004]]"
     ]
    },
    {
     "name": "stdout",
     "output_type": "stream",
     "text": [
      "--->> cal O and jac  0.038845062255859375\n",
      "compute_update  0.04219698905944824\n",
      "(0.03948994104791793+0j)\n",
      "n_discard =  144\n",
      "discard samples 1.6497268676757812\n",
      "n_samples_node =  1000\n",
      "generate_samples :  11.33769702911377\n",
      "     prepare getting local values 0.002569913864135742\n",
      "     obtained local values 0.008404016494750977\n",
      "get_mc_stats 0.012902021408081055\n"
     ]
    },
    {
     "name": "stderr",
     "output_type": "stream",
     "text": [
      " 43%|████▎     | 432/1000 [1:35:41<2:07:32, 13.47s/it, Energy=-2.105789+0.000000j ± 0.000065 [σ²=0.000004]]"
     ]
    },
    {
     "name": "stdout",
     "output_type": "stream",
     "text": [
      "--->> cal O and jac  0.04181981086730957\n",
      "compute_update  0.04497408866882324\n",
      "(0.03948899904573324+0j)\n",
      "n_discard =  144\n",
      "discard samples 1.6635878086090088\n",
      "n_samples_node =  1000\n",
      "generate_samples :  11.403074979782104\n",
      "     prepare getting local values 0.0019006729125976562\n",
      "     obtained local values 0.0076868534088134766\n",
      "get_mc_stats 0.011716842651367188\n"
     ]
    },
    {
     "name": "stderr",
     "output_type": "stream",
     "text": [
      " 43%|████▎     | 433/1000 [1:35:54<2:06:18, 13.37s/it, Energy=-2.105692+0.000000j ± 0.000053 [σ²=0.000003]]"
     ]
    },
    {
     "name": "stdout",
     "output_type": "stream",
     "text": [
      "--->> cal O and jac  0.03645586967468262\n",
      "compute_update  0.039485931396484375\n",
      "(0.03948485628277342+0j)\n",
      "n_discard =  144\n",
      "discard samples 1.6478428840637207\n",
      "n_samples_node =  1000\n",
      "generate_samples :  11.479461908340454\n",
      "     prepare getting local values 0.003002166748046875\n",
      "     obtained local values 0.009428977966308594\n",
      "get_mc_stats 0.014260053634643555\n"
     ]
    },
    {
     "name": "stderr",
     "output_type": "stream",
     "text": [
      " 43%|████▎     | 434/1000 [1:36:07<2:05:37, 13.32s/it, Energy=-2.105782+0.000000j ± 0.000056 [σ²=0.000004]]"
     ]
    },
    {
     "name": "stdout",
     "output_type": "stream",
     "text": [
      "--->> cal O and jac  0.05211687088012695\n",
      "compute_update  0.05504727363586426\n",
      "(0.03948256589949334+0j)\n",
      "n_discard =  144\n",
      "discard samples 1.675523042678833\n",
      "n_samples_node =  1000\n",
      "generate_samples :  11.574878931045532\n",
      "     prepare getting local values 0.002002239227294922\n",
      "     obtained local values 0.0077838897705078125\n",
      "get_mc_stats 0.011965036392211914\n"
     ]
    },
    {
     "name": "stderr",
     "output_type": "stream",
     "text": [
      " 44%|████▎     | 435/1000 [1:36:21<2:05:22, 13.31s/it, Energy=-2.105878+0.000000j ± 0.000032 [σ²=0.000003]]"
     ]
    },
    {
     "name": "stdout",
     "output_type": "stream",
     "text": [
      "--->> cal O and jac  0.039408206939697266\n",
      "compute_update  0.042977094650268555\n",
      "(0.03947776730530459+0j)\n",
      "n_discard =  144\n",
      "discard samples 1.6711030006408691\n",
      "n_samples_node =  1000\n",
      "generate_samples :  11.519789218902588\n",
      "     prepare getting local values 0.002282857894897461\n",
      "     obtained local values 0.008126974105834961\n",
      "get_mc_stats 0.012359142303466797\n"
     ]
    },
    {
     "name": "stderr",
     "output_type": "stream",
     "text": [
      " 44%|████▎     | 436/1000 [1:36:34<2:04:57, 13.29s/it, Energy=-2.105761+0.000000j ± 0.000056 [σ²=0.000003]]"
     ]
    },
    {
     "name": "stdout",
     "output_type": "stream",
     "text": [
      "--->> cal O and jac  0.03704094886779785\n",
      "compute_update  0.04026985168457031\n",
      "(0.03947368134039653+0j)\n",
      "n_discard =  144\n",
      "discard samples 1.6464579105377197\n",
      "n_samples_node =  1000\n",
      "generate_samples :  11.53175687789917\n",
      "     prepare getting local values 0.002791881561279297\n",
      "     obtained local values 0.008619070053100586\n",
      "get_mc_stats 0.013485193252563477\n"
     ]
    },
    {
     "name": "stderr",
     "output_type": "stream",
     "text": [
      " 44%|████▎     | 437/1000 [1:36:47<2:04:36, 13.28s/it, Energy=-2.105811+0.000000j ± 0.000056 [σ²=0.000003]]"
     ]
    },
    {
     "name": "stdout",
     "output_type": "stream",
     "text": [
      "--->> cal O and jac  0.04944109916687012\n",
      "compute_update  0.05464601516723633\n",
      "(0.03946873990290544+0j)\n",
      "n_discard =  144\n",
      "discard samples 1.838442087173462\n",
      "n_samples_node =  1000\n",
      "generate_samples :  12.010520935058594\n",
      "     prepare getting local values 0.002356290817260742\n",
      "     obtained local values 0.00816202163696289\n",
      "get_mc_stats 0.012288808822631836\n"
     ]
    },
    {
     "name": "stderr",
     "output_type": "stream",
     "text": [
      " 44%|████▍     | 438/1000 [1:37:01<2:06:09, 13.47s/it, Energy=-2.105906+0.000000j ± 0.000052 [σ²=0.000003]]"
     ]
    },
    {
     "name": "stdout",
     "output_type": "stream",
     "text": [
      "--->> cal O and jac  0.037484169006347656\n",
      "compute_update  0.04050040245056152\n",
      "(0.03946651700534042+0j)\n",
      "n_discard =  144\n",
      "discard samples 1.6633999347686768\n",
      "n_samples_node =  1000\n",
      "generate_samples :  11.600515127182007\n",
      "     prepare getting local values 0.0024230480194091797\n",
      "     obtained local values 0.008059263229370117\n",
      "get_mc_stats 0.012274980545043945\n"
     ]
    },
    {
     "name": "stderr",
     "output_type": "stream",
     "text": [
      " 44%|████▍     | 439/1000 [1:37:15<2:05:30, 13.42s/it, Energy=-2.105803+0.000000j ± 0.000075 [σ²=0.000003]]"
     ]
    },
    {
     "name": "stdout",
     "output_type": "stream",
     "text": [
      "--->> cal O and jac  0.03809785842895508\n",
      "compute_update  0.042083024978637695\n",
      "(0.039465454419330075+0j)\n",
      "n_discard =  144\n",
      "discard samples 1.6900341510772705\n",
      "n_samples_node =  1000\n",
      "generate_samples :  11.749608039855957\n",
      "     prepare getting local values 0.002602100372314453\n",
      "     obtained local values 0.008491039276123047\n",
      "get_mc_stats 0.012846946716308594\n"
     ]
    },
    {
     "name": "stderr",
     "output_type": "stream",
     "text": [
      " 44%|████▍     | 440/1000 [1:37:28<2:05:29, 13.45s/it, Energy=-2.105921+0.000000j ± 0.000049 [σ²=0.000003]]"
     ]
    },
    {
     "name": "stdout",
     "output_type": "stream",
     "text": [
      "--->> cal O and jac  0.03675699234008789\n",
      "compute_update  0.040110111236572266\n",
      "(0.03946499582253138+0j)\n",
      "n_discard =  144\n",
      "discard samples 1.6502690315246582\n",
      "n_samples_node =  1000\n",
      "generate_samples :  11.80270266532898\n",
      "     prepare getting local values 0.002789735794067383\n",
      "     obtained local values 0.00873875617980957\n",
      "get_mc_stats 0.014192819595336914\n"
     ]
    },
    {
     "name": "stderr",
     "output_type": "stream",
     "text": [
      " 44%|████▍     | 441/1000 [1:37:42<2:05:27, 13.47s/it, Energy=-2.105819+0.000000j ± 0.000057 [σ²=0.000003]]"
     ]
    },
    {
     "name": "stdout",
     "output_type": "stream",
     "text": [
      "--->> cal O and jac  0.044670820236206055\n",
      "compute_update  0.047834157943725586\n",
      "(0.03946089716345491+0j)\n",
      "n_discard =  144\n",
      "discard samples 1.6976912021636963\n",
      "n_samples_node =  1000\n",
      "generate_samples :  11.637058734893799\n",
      "     prepare getting local values 0.0020799636840820312\n",
      "     obtained local values 0.008023977279663086\n",
      "get_mc_stats 0.012082099914550781\n"
     ]
    },
    {
     "name": "stderr",
     "output_type": "stream",
     "text": [
      " 44%|████▍     | 442/1000 [1:37:55<2:05:02, 13.44s/it, Energy=-2.105742+0.000000j ± 0.000056 [σ²=0.000003]]"
     ]
    },
    {
     "name": "stdout",
     "output_type": "stream",
     "text": [
      "--->> cal O and jac  0.039888858795166016\n",
      "compute_update  0.04339790344238281\n",
      "(0.03946086775318628+0j)\n",
      "n_discard =  144\n",
      "discard samples 1.6814079284667969\n",
      "n_samples_node =  1000\n",
      "generate_samples :  11.469572067260742\n",
      "     prepare getting local values 0.0023720264434814453\n",
      "     obtained local values 0.00799107551574707\n",
      "get_mc_stats 0.013000965118408203\n"
     ]
    },
    {
     "name": "stderr",
     "output_type": "stream",
     "text": [
      " 44%|████▍     | 443/1000 [1:38:08<2:04:09, 13.37s/it, Energy=-2.105699+0.000000j ± 0.000060 [σ²=0.000003]]"
     ]
    },
    {
     "name": "stdout",
     "output_type": "stream",
     "text": [
      "--->> cal O and jac  0.0393071174621582\n",
      "compute_update  0.04308819770812988\n",
      "(0.039456698805626876+0j)\n",
      "n_discard =  144\n",
      "discard samples 1.653083086013794\n",
      "n_samples_node =  1000\n",
      "generate_samples :  11.982721090316772\n",
      "     prepare getting local values 0.0022840499877929688\n",
      "     obtained local values 0.008019208908081055\n",
      "get_mc_stats 0.012215137481689453\n"
     ]
    },
    {
     "name": "stderr",
     "output_type": "stream",
     "text": [
      " 44%|████▍     | 444/1000 [1:38:22<2:04:48, 13.47s/it, Energy=-2.105842+0.000000j ± 0.000058 [σ²=0.000003]]"
     ]
    },
    {
     "name": "stdout",
     "output_type": "stream",
     "text": [
      "--->> cal O and jac  0.037333011627197266\n",
      "compute_update  0.04084014892578125\n",
      "(0.03945609919781378+0j)\n",
      "n_discard =  144\n",
      "discard samples 1.786552906036377\n",
      "n_samples_node =  1000\n",
      "generate_samples :  11.565222024917603\n",
      "     prepare getting local values 0.002524137496948242\n",
      "     obtained local values 0.00824284553527832\n",
      "get_mc_stats 0.012362957000732422\n"
     ]
    },
    {
     "name": "stderr",
     "output_type": "stream",
     "text": [
      " 44%|████▍     | 445/1000 [1:38:35<2:04:24, 13.45s/it, Energy=-2.105838+0.000000j ± 0.000040 [σ²=0.000003]]"
     ]
    },
    {
     "name": "stdout",
     "output_type": "stream",
     "text": [
      "--->> cal O and jac  0.03685307502746582\n",
      "compute_update  0.04018831253051758\n",
      "(0.039453552730354204+0j)\n",
      "n_discard =  144\n",
      "discard samples 1.6484448909759521\n",
      "n_samples_node =  1000\n",
      "generate_samples :  11.70104694366455\n",
      "     prepare getting local values 0.001970052719116211\n",
      "     obtained local values 0.007814884185791016\n",
      "get_mc_stats 0.012479066848754883\n"
     ]
    },
    {
     "name": "stderr",
     "output_type": "stream",
     "text": [
      " 45%|████▍     | 446/1000 [1:38:49<2:04:05, 13.44s/it, Energy=-2.105818+0.000000j ± 0.000055 [σ²=0.000003]]"
     ]
    },
    {
     "name": "stdout",
     "output_type": "stream",
     "text": [
      "--->> cal O and jac  0.04351019859313965\n",
      "compute_update  0.04684710502624512\n",
      "(0.03945116414490009+0j)\n",
      "n_discard =  144\n",
      "discard samples 1.6484720706939697\n",
      "n_samples_node =  1000\n",
      "generate_samples :  11.834554672241211\n",
      "     prepare getting local values 0.002251863479614258\n",
      "     obtained local values 0.009485006332397461\n",
      "get_mc_stats 0.01603102684020996\n"
     ]
    },
    {
     "name": "stderr",
     "output_type": "stream",
     "text": [
      " 45%|████▍     | 447/1000 [1:39:02<2:04:09, 13.47s/it, Energy=-2.105779+0.000000j ± 0.000042 [σ²=0.000003]]"
     ]
    },
    {
     "name": "stdout",
     "output_type": "stream",
     "text": [
      "--->> cal O and jac  0.04171419143676758\n",
      "compute_update  0.04497098922729492\n",
      "(0.03944688145723138+0j)\n",
      "n_discard =  144\n",
      "discard samples 1.922489881515503\n",
      "n_samples_node =  1000\n",
      "generate_samples :  11.989925146102905\n",
      "     prepare getting local values 0.0024771690368652344\n",
      "     obtained local values 0.013038158416748047\n",
      "get_mc_stats 0.018225908279418945\n"
     ]
    },
    {
     "name": "stderr",
     "output_type": "stream",
     "text": [
      " 45%|████▍     | 448/1000 [1:39:16<2:05:22, 13.63s/it, Energy=-2.105845+0.000000j ± 0.000055 [σ²=0.000003]]"
     ]
    },
    {
     "name": "stdout",
     "output_type": "stream",
     "text": [
      "--->> cal O and jac  0.0520930290222168\n",
      "compute_update  0.055973052978515625\n",
      "(0.039444119901795485+0j)\n",
      "n_discard =  144\n",
      "discard samples 1.6723079681396484\n",
      "n_samples_node =  1000\n",
      "generate_samples :  11.42471694946289\n",
      "     prepare getting local values 0.0021119117736816406\n",
      "     obtained local values 0.00783991813659668\n",
      "get_mc_stats 0.011776924133300781\n"
     ]
    },
    {
     "name": "stderr",
     "output_type": "stream",
     "text": [
      " 45%|████▍     | 449/1000 [1:39:29<2:03:50, 13.48s/it, Energy=-2.105792+0.000000j ± 0.000058 [σ²=0.000003]]"
     ]
    },
    {
     "name": "stdout",
     "output_type": "stream",
     "text": [
      "--->> cal O and jac  0.036128997802734375\n",
      "compute_update  0.03923201560974121\n",
      "(0.03944135152563357+0j)\n",
      "n_discard =  144\n",
      "discard samples 1.6456518173217773\n",
      "n_samples_node =  1000\n",
      "generate_samples :  11.470624923706055\n",
      "     prepare getting local values 0.0022430419921875\n",
      "     obtained local values 0.008033037185668945\n",
      "get_mc_stats 0.01232004165649414\n"
     ]
    },
    {
     "name": "stderr",
     "output_type": "stream",
     "text": [
      " 45%|████▌     | 450/1000 [1:39:43<2:02:44, 13.39s/it, Energy=-2.105808+0.000000j ± 0.000050 [σ²=0.000003]]"
     ]
    },
    {
     "name": "stdout",
     "output_type": "stream",
     "text": [
      "--->> cal O and jac  0.03780770301818848\n",
      "compute_update  0.04099893569946289\n",
      "(0.03943748793261726+0j)\n",
      "n_discard =  144\n",
      "discard samples 1.6493229866027832\n",
      "n_samples_node =  1000\n",
      "generate_samples :  11.430368900299072\n",
      "     prepare getting local values 0.0022530555725097656\n",
      "     obtained local values 0.008105039596557617\n",
      "get_mc_stats 0.01226496696472168\n"
     ]
    },
    {
     "name": "stderr",
     "output_type": "stream",
     "text": [
      " 45%|████▌     | 451/1000 [1:39:56<2:01:49, 13.31s/it, Energy=-2.105790+0.000000j ± 0.000046 [σ²=0.000003]]"
     ]
    },
    {
     "name": "stdout",
     "output_type": "stream",
     "text": [
      "--->> cal O and jac  0.03673100471496582\n",
      "compute_update  0.040364980697631836\n",
      "(0.039433846263698065+0j)\n",
      "n_discard =  144\n",
      "discard samples 1.654062032699585\n",
      "n_samples_node =  1000\n",
      "generate_samples :  11.501803874969482\n",
      "     prepare getting local values 0.0026121139526367188\n",
      "     obtained local values 0.008256196975708008\n",
      "get_mc_stats 0.012731075286865234\n"
     ]
    },
    {
     "name": "stderr",
     "output_type": "stream",
     "text": [
      " 45%|████▌     | 452/1000 [1:40:09<2:01:19, 13.28s/it, Energy=-2.105872+0.000000j ± 0.000034 [σ²=0.000002]]"
     ]
    },
    {
     "name": "stdout",
     "output_type": "stream",
     "text": [
      "--->> cal O and jac  0.037817955017089844\n",
      "compute_update  0.04104304313659668\n",
      "(0.039431267355084273+0j)\n",
      "n_discard =  144\n",
      "discard samples 1.646960973739624\n",
      "n_samples_node =  1000\n",
      "generate_samples :  11.408454895019531\n",
      "     prepare getting local values 0.002143383026123047\n",
      "     obtained local values 0.007874250411987305\n",
      "get_mc_stats 0.01234292984008789\n"
     ]
    },
    {
     "name": "stderr",
     "output_type": "stream",
     "text": [
      " 45%|████▌     | 453/1000 [1:40:22<2:00:37, 13.23s/it, Energy=-2.105798+0.000000j ± 0.000048 [σ²=0.000002]]"
     ]
    },
    {
     "name": "stdout",
     "output_type": "stream",
     "text": [
      "--->> cal O and jac  0.03801989555358887\n",
      "compute_update  0.04137611389160156\n",
      "(0.03942827229960807+0j)\n",
      "n_discard =  144\n",
      "discard samples 1.6628007888793945\n",
      "n_samples_node =  1000\n",
      "generate_samples :  11.427978038787842\n",
      "     prepare getting local values 0.002177000045776367\n",
      "     obtained local values 0.008196115493774414\n",
      "get_mc_stats 0.012543916702270508\n"
     ]
    },
    {
     "name": "stderr",
     "output_type": "stream",
     "text": [
      " 45%|████▌     | 454/1000 [1:40:35<2:00:11, 13.21s/it, Energy=-2.105813+0.000000j ± 0.000050 [σ²=0.000003]]"
     ]
    },
    {
     "name": "stdout",
     "output_type": "stream",
     "text": [
      "--->> cal O and jac  0.040755271911621094\n",
      "compute_update  0.04397010803222656\n",
      "(0.03942319875239629+0j)\n",
      "n_discard =  144\n",
      "discard samples 1.6587767601013184\n",
      "n_samples_node =  1000\n",
      "generate_samples :  11.51164197921753\n",
      "     prepare getting local values 0.0024538040161132812\n",
      "     obtained local values 0.008135795593261719\n",
      "get_mc_stats 0.012348175048828125\n"
     ]
    },
    {
     "name": "stderr",
     "output_type": "stream",
     "text": [
      " 46%|████▌     | 455/1000 [1:40:48<2:00:03, 13.22s/it, Energy=-2.105768+0.000000j ± 0.000047 [σ²=0.000003]]"
     ]
    },
    {
     "name": "stdout",
     "output_type": "stream",
     "text": [
      "--->> cal O and jac  0.047457218170166016\n",
      "compute_update  0.05094790458679199\n",
      "(0.039418370795413875+0j)\n",
      "n_discard =  144\n",
      "discard samples 1.7980852127075195\n",
      "n_samples_node =  1000\n",
      "generate_samples :  11.670300960540771\n",
      "     prepare getting local values 0.0024111270904541016\n",
      "     obtained local values 0.008265018463134766\n",
      "get_mc_stats 0.012425899505615234\n"
     ]
    },
    {
     "name": "stderr",
     "output_type": "stream",
     "text": [
      " 46%|████▌     | 456/1000 [1:41:02<2:00:40, 13.31s/it, Energy=-2.105819+0.000000j ± 0.000049 [σ²=0.000002]]"
     ]
    },
    {
     "name": "stdout",
     "output_type": "stream",
     "text": [
      "--->> cal O and jac  0.03864121437072754\n",
      "compute_update  0.04199719429016113\n",
      "(0.03941719868040006+0j)\n",
      "n_discard =  144\n",
      "discard samples 1.6475341320037842\n",
      "n_samples_node =  1000\n",
      "generate_samples :  11.607163906097412\n",
      "     prepare getting local values 0.002096891403198242\n",
      "     obtained local values 0.007962226867675781\n",
      "get_mc_stats 0.012110710144042969\n"
     ]
    },
    {
     "name": "stderr",
     "output_type": "stream",
     "text": [
      " 46%|████▌     | 457/1000 [1:41:15<2:00:27, 13.31s/it, Energy=-2.105838+0.000000j ± 0.000051 [σ²=0.000002]]"
     ]
    },
    {
     "name": "stdout",
     "output_type": "stream",
     "text": [
      "--->> cal O and jac  0.038431406021118164\n",
      "compute_update  0.04168510437011719\n",
      "(0.03941401062691368+0j)\n",
      "n_discard =  144\n",
      "discard samples 2.0243489742279053\n",
      "n_samples_node =  1000\n",
      "generate_samples :  12.003254890441895\n",
      "     prepare getting local values 0.0023560523986816406\n",
      "     obtained local values 0.007972955703735352\n",
      "get_mc_stats 0.011934041976928711\n"
     ]
    },
    {
     "name": "stderr",
     "output_type": "stream",
     "text": [
      " 46%|████▌     | 458/1000 [1:41:29<2:02:19, 13.54s/it, Energy=-2.105923+0.000000j ± 0.000048 [σ²=0.000003]]"
     ]
    },
    {
     "name": "stdout",
     "output_type": "stream",
     "text": [
      "--->> cal O and jac  0.03845405578613281\n",
      "compute_update  0.04271221160888672\n",
      "(0.039408731861434246+0j)\n",
      "n_discard =  144\n",
      "discard samples 1.7067477703094482\n",
      "n_samples_node =  1000\n",
      "generate_samples :  11.61360502243042\n",
      "     prepare getting local values 0.002485036849975586\n",
      "     obtained local values 0.008322000503540039\n",
      "get_mc_stats 0.013632059097290039\n"
     ]
    },
    {
     "name": "stderr",
     "output_type": "stream",
     "text": [
      " 46%|████▌     | 459/1000 [1:41:43<2:01:40, 13.49s/it, Energy=-2.105809+0.000000j ± 0.000046 [σ²=0.000002]]"
     ]
    },
    {
     "name": "stdout",
     "output_type": "stream",
     "text": [
      "--->> cal O and jac  0.04291486740112305\n",
      "compute_update  0.04624676704406738\n",
      "(0.03940354807278644+0j)\n",
      "n_discard =  144\n",
      "discard samples 1.6692419052124023\n",
      "n_samples_node =  1000\n",
      "generate_samples :  11.688235759735107\n",
      "     prepare getting local values 0.0023653507232666016\n",
      "     obtained local values 0.008400201797485352\n",
      "get_mc_stats 0.013512849807739258\n"
     ]
    },
    {
     "name": "stderr",
     "output_type": "stream",
     "text": [
      " 46%|████▌     | 460/1000 [1:41:56<2:01:14, 13.47s/it, Energy=-2.105812+0.000000j ± 0.000052 [σ²=0.000002]]"
     ]
    },
    {
     "name": "stdout",
     "output_type": "stream",
     "text": [
      "--->> cal O and jac  0.03959488868713379\n",
      "compute_update  0.04288887977600098\n",
      "(0.039400350114734+0j)\n",
      "n_discard =  144\n",
      "discard samples 1.6493990421295166\n",
      "n_samples_node =  1000\n",
      "generate_samples :  11.487584829330444\n",
      "     prepare getting local values 0.0024862289428710938\n",
      "     obtained local values 0.008244991302490234\n",
      "get_mc_stats 0.013092041015625\n"
     ]
    },
    {
     "name": "stderr",
     "output_type": "stream",
     "text": [
      " 46%|████▌     | 461/1000 [1:42:09<2:00:16, 13.39s/it, Energy=-2.105809+0.000000j ± 0.000058 [σ²=0.000002]]"
     ]
    },
    {
     "name": "stdout",
     "output_type": "stream",
     "text": [
      "--->> cal O and jac  0.03769326210021973\n",
      "compute_update  0.040911197662353516\n",
      "(0.039393972560877476+0j)\n",
      "n_discard =  144\n",
      "discard samples 1.6535520553588867\n",
      "n_samples_node =  1000\n",
      "generate_samples :  11.53109073638916\n",
      "     prepare getting local values 0.0025022029876708984\n",
      "     obtained local values 0.008361101150512695\n",
      "get_mc_stats 0.012701988220214844\n"
     ]
    },
    {
     "name": "stderr",
     "output_type": "stream",
     "text": [
      " 46%|████▌     | 462/1000 [1:42:23<1:59:40, 13.35s/it, Energy=-2.105828+0.000000j ± 0.000039 [σ²=0.000002]]"
     ]
    },
    {
     "name": "stdout",
     "output_type": "stream",
     "text": [
      "--->> cal O and jac  0.04014301300048828\n",
      "compute_update  0.04387378692626953\n",
      "(0.03938591329257984+0j)\n",
      "n_discard =  144\n",
      "discard samples 1.679107666015625\n",
      "n_samples_node =  1000\n",
      "generate_samples :  11.650565147399902\n",
      "     prepare getting local values 0.0024330615997314453\n",
      "     obtained local values 0.008320093154907227\n",
      "get_mc_stats 0.012918949127197266\n"
     ]
    },
    {
     "name": "stderr",
     "output_type": "stream",
     "text": [
      " 46%|████▋     | 463/1000 [1:42:36<1:59:33, 13.36s/it, Energy=-2.105835+0.000000j ± 0.000049 [σ²=0.000002]]"
     ]
    },
    {
     "name": "stdout",
     "output_type": "stream",
     "text": [
      "--->> cal O and jac  0.04013490676879883\n",
      "compute_update  0.04332709312438965\n",
      "(0.03937887132057191+0j)\n",
      "n_discard =  144\n",
      "discard samples 1.6880559921264648\n",
      "n_samples_node =  1000\n",
      "generate_samples :  11.901786088943481\n",
      "     prepare getting local values 0.0024721622467041016\n",
      "     obtained local values 0.008198022842407227\n",
      "get_mc_stats 0.012820005416870117\n"
     ]
    },
    {
     "name": "stderr",
     "output_type": "stream",
     "text": [
      " 46%|████▋     | 464/1000 [1:42:50<2:00:06, 13.45s/it, Energy=-2.105855+0.000000j ± 0.000034 [σ²=0.000002]]"
     ]
    },
    {
     "name": "stdout",
     "output_type": "stream",
     "text": [
      "--->> cal O and jac  0.03903985023498535\n",
      "compute_update  0.04250788688659668\n",
      "(0.03937086368139465+0j)\n",
      "n_discard =  144\n",
      "discard samples 1.7841620445251465\n",
      "n_samples_node =  1000\n",
      "generate_samples :  11.750128984451294\n",
      "     prepare getting local values 0.0019218921661376953\n",
      "     obtained local values 0.007857799530029297\n",
      "get_mc_stats 0.01223897933959961\n"
     ]
    },
    {
     "name": "stderr",
     "output_type": "stream",
     "text": [
      " 46%|████▋     | 465/1000 [1:43:03<2:00:16, 13.49s/it, Energy=-2.105848+0.000000j ± 0.000045 [σ²=0.000002]]"
     ]
    },
    {
     "name": "stdout",
     "output_type": "stream",
     "text": [
      "--->> cal O and jac  0.037689924240112305\n",
      "compute_update  0.04086709022521973\n",
      "(0.039363901597607276+0j)\n",
      "n_discard =  144\n",
      "discard samples 1.6537399291992188\n",
      "n_samples_node =  1000\n",
      "generate_samples :  11.478170156478882\n",
      "     prepare getting local values 0.002259969711303711\n",
      "     obtained local values 0.008129119873046875\n",
      "get_mc_stats 0.01241612434387207\n"
     ]
    },
    {
     "name": "stderr",
     "output_type": "stream",
     "text": [
      " 47%|████▋     | 466/1000 [1:43:16<1:59:14, 13.40s/it, Energy=-2.105796+0.000000j ± 0.000036 [σ²=0.000002]]"
     ]
    },
    {
     "name": "stdout",
     "output_type": "stream",
     "text": [
      "--->> cal O and jac  0.03825211524963379\n",
      "compute_update  0.04128098487854004\n",
      "(0.039357742468397114+0j)\n",
      "n_discard =  144\n",
      "discard samples 1.7753870487213135\n",
      "n_samples_node =  1000\n",
      "generate_samples :  11.371165990829468\n",
      "     prepare getting local values 0.0021719932556152344\n",
      "     obtained local values 0.007774829864501953\n",
      "get_mc_stats 0.011837959289550781\n"
     ]
    },
    {
     "name": "stderr",
     "output_type": "stream",
     "text": [
      " 47%|████▋     | 467/1000 [1:43:30<1:58:29, 13.34s/it, Energy=-2.105795+0.000000j ± 0.000045 [σ²=0.000002]]"
     ]
    },
    {
     "name": "stdout",
     "output_type": "stream",
     "text": [
      "--->> cal O and jac  0.03660011291503906\n",
      "compute_update  0.039752960205078125\n",
      "(0.03935064768748967+0j)\n",
      "n_discard =  144\n",
      "discard samples 1.646549940109253\n",
      "n_samples_node =  1000\n",
      "generate_samples :  11.44615387916565\n",
      "     prepare getting local values 0.003820657730102539\n",
      "     obtained local values 0.009421825408935547\n",
      "get_mc_stats 0.01353311538696289\n"
     ]
    },
    {
     "name": "stderr",
     "output_type": "stream",
     "text": [
      " 47%|████▋     | 468/1000 [1:43:43<1:57:46, 13.28s/it, Energy=-2.105811+0.000000j ± 0.000049 [σ²=0.000002]]"
     ]
    },
    {
     "name": "stdout",
     "output_type": "stream",
     "text": [
      "--->> cal O and jac  0.03783082962036133\n",
      "compute_update  0.041028738021850586\n",
      "(0.03934129982397019+0j)\n",
      "n_discard =  144\n",
      "discard samples 1.7602040767669678\n",
      "n_samples_node =  1000\n",
      "generate_samples :  11.47952389717102\n",
      "     prepare getting local values 0.002681732177734375\n",
      "     obtained local values 0.009292840957641602\n",
      "get_mc_stats 0.014016866683959961\n"
     ]
    },
    {
     "name": "stderr",
     "output_type": "stream",
     "text": [
      " 47%|████▋     | 469/1000 [1:43:56<1:57:35, 13.29s/it, Energy=-2.105872+0.000000j ± 0.000043 [σ²=0.000002]]"
     ]
    },
    {
     "name": "stdout",
     "output_type": "stream",
     "text": [
      "--->> cal O and jac  0.03912687301635742\n",
      "compute_update  0.04308485984802246\n",
      "(0.039334391080474304+0j)\n",
      "n_discard =  144\n",
      "discard samples 1.6607558727264404\n",
      "n_samples_node =  1000\n",
      "generate_samples :  11.470335960388184\n",
      "     prepare getting local values 0.002187013626098633\n",
      "     obtained local values 0.007965087890625\n",
      "get_mc_stats 0.012063980102539062\n"
     ]
    },
    {
     "name": "stderr",
     "output_type": "stream",
     "text": [
      " 47%|████▋     | 470/1000 [1:44:09<1:57:07, 13.26s/it, Energy=-2.105854+0.000000j ± 0.000035 [σ²=0.000002]]"
     ]
    },
    {
     "name": "stdout",
     "output_type": "stream",
     "text": [
      "--->> cal O and jac  0.0427861213684082\n",
      "compute_update  0.046751976013183594\n",
      "(0.03932678037684562+0j)\n",
      "n_discard =  144\n",
      "discard samples 1.6570470333099365\n",
      "n_samples_node =  1000\n",
      "generate_samples :  11.427172899246216\n",
      "     prepare getting local values 0.002290010452270508\n",
      "     obtained local values 0.007960081100463867\n",
      "get_mc_stats 0.01217794418334961\n"
     ]
    },
    {
     "name": "stderr",
     "output_type": "stream",
     "text": [
      " 47%|████▋     | 471/1000 [1:44:22<1:56:35, 13.22s/it, Energy=-2.105748+0.000000j ± 0.000041 [σ²=0.000002]]"
     ]
    },
    {
     "name": "stdout",
     "output_type": "stream",
     "text": [
      "--->> cal O and jac  0.0359349250793457\n",
      "compute_update  0.03865480422973633\n",
      "(0.03931975632221054+0j)\n",
      "n_discard =  144\n",
      "discard samples 1.6544840335845947\n",
      "n_samples_node =  1000\n",
      "generate_samples :  11.375447988510132\n",
      "     prepare getting local values 0.0021529197692871094\n",
      "     obtained local values 0.008018016815185547\n",
      "get_mc_stats 0.012231111526489258\n"
     ]
    },
    {
     "name": "stderr",
     "output_type": "stream",
     "text": [
      " 47%|████▋     | 472/1000 [1:44:35<1:56:00, 13.18s/it, Energy=-2.105716+0.000000j ± 0.000038 [σ²=0.000002]]"
     ]
    },
    {
     "name": "stdout",
     "output_type": "stream",
     "text": [
      "--->> cal O and jac  0.03651094436645508\n",
      "compute_update  0.039665937423706055\n",
      "(0.03931225274604336+0j)\n",
      "n_discard =  144\n",
      "discard samples 1.6462490558624268\n",
      "n_samples_node =  1000\n",
      "generate_samples :  11.444026231765747\n",
      "     prepare getting local values 0.0023031234741210938\n",
      "     obtained local values 0.00820302963256836\n",
      "get_mc_stats 0.01281428337097168\n"
     ]
    },
    {
     "name": "stderr",
     "output_type": "stream",
     "text": [
      " 47%|████▋     | 473/1000 [1:44:49<1:55:42, 13.17s/it, Energy=-2.105811+0.000000j ± 0.000040 [σ²=0.000002]]"
     ]
    },
    {
     "name": "stdout",
     "output_type": "stream",
     "text": [
      "--->> cal O and jac  0.04224681854248047\n",
      "compute_update  0.04578399658203125\n",
      "(0.03930530619239584+0j)\n",
      "n_discard =  144\n",
      "discard samples 1.7529330253601074\n",
      "n_samples_node =  1000\n",
      "generate_samples :  11.587776899337769\n",
      "     prepare getting local values 0.0021657943725585938\n",
      "     obtained local values 0.007799863815307617\n",
      "get_mc_stats 0.01227712631225586\n"
     ]
    },
    {
     "name": "stderr",
     "output_type": "stream",
     "text": [
      " 47%|████▋     | 474/1000 [1:45:02<1:56:04, 13.24s/it, Energy=-2.105796+0.000000j ± 0.000042 [σ²=0.000002]]"
     ]
    },
    {
     "name": "stdout",
     "output_type": "stream",
     "text": [
      "--->> cal O and jac  0.037405967712402344\n",
      "compute_update  0.04050898551940918\n",
      "(0.039299438605806+0j)\n",
      "n_discard =  144\n",
      "discard samples 1.653188943862915\n",
      "n_samples_node =  1000\n",
      "generate_samples :  11.745442867279053\n",
      "     prepare getting local values 0.0023899078369140625\n",
      "     obtained local values 0.008388757705688477\n",
      "get_mc_stats 0.014420032501220703\n"
     ]
    },
    {
     "name": "stderr",
     "output_type": "stream",
     "text": [
      " 48%|████▊     | 475/1000 [1:45:15<1:56:27, 13.31s/it, Energy=-2.105834+0.000000j ± 0.000042 [σ²=0.000002]]"
     ]
    },
    {
     "name": "stdout",
     "output_type": "stream",
     "text": [
      "--->> cal O and jac  0.05297088623046875\n",
      "compute_update  0.05659961700439453\n",
      "(0.03929502710926122+0j)\n",
      "n_discard =  144\n",
      "discard samples 1.6910948753356934\n",
      "n_samples_node =  1000\n",
      "generate_samples :  11.47700810432434\n",
      "     prepare getting local values 0.0021092891693115234\n",
      "     obtained local values 0.007912158966064453\n",
      "get_mc_stats 0.01196432113647461\n"
     ]
    },
    {
     "name": "stderr",
     "output_type": "stream",
     "text": [
      " 48%|████▊     | 476/1000 [1:45:29<1:56:00, 13.28s/it, Energy=-2.105843+0.000000j ± 0.000038 [σ²=0.000002]]"
     ]
    },
    {
     "name": "stdout",
     "output_type": "stream",
     "text": [
      "--->> cal O and jac  0.03783917427062988\n",
      "compute_update  0.04074501991271973\n",
      "(0.03928961626646638+0j)\n",
      "n_discard =  144\n",
      "discard samples 1.6729791164398193\n",
      "n_samples_node =  1000\n",
      "generate_samples :  11.475602865219116\n",
      "     prepare getting local values 0.002065896987915039\n",
      "     obtained local values 0.007747173309326172\n",
      "get_mc_stats 0.012108087539672852\n"
     ]
    },
    {
     "name": "stderr",
     "output_type": "stream",
     "text": [
      " 48%|████▊     | 477/1000 [1:45:42<1:55:34, 13.26s/it, Energy=-2.105777+0.000000j ± 0.000050 [σ²=0.000002]]"
     ]
    },
    {
     "name": "stdout",
     "output_type": "stream",
     "text": [
      "--->> cal O and jac  0.03707599639892578\n",
      "compute_update  0.04059195518493652\n",
      "(0.03928299938138044+0j)\n",
      "n_discard =  144\n",
      "discard samples 1.6838219165802002\n",
      "n_samples_node =  1000\n",
      "generate_samples :  12.408644914627075\n",
      "     prepare getting local values 0.005118846893310547\n",
      "     obtained local values 0.01345515251159668\n",
      "get_mc_stats 0.019603967666625977\n"
     ]
    },
    {
     "name": "stderr",
     "output_type": "stream",
     "text": [
      " 48%|████▊     | 478/1000 [1:45:56<1:57:41, 13.53s/it, Energy=-2.105831+0.000000j ± 0.000040 [σ²=0.000002]]"
     ]
    },
    {
     "name": "stdout",
     "output_type": "stream",
     "text": [
      "--->> cal O and jac  0.03822016716003418\n",
      "compute_update  0.04132413864135742\n",
      "(0.03927688394656445+0j)\n",
      "n_discard =  144\n",
      "discard samples 1.7089838981628418\n",
      "n_samples_node =  1000\n",
      "generate_samples :  11.512928009033203\n",
      "     prepare getting local values 0.0024890899658203125\n",
      "     obtained local values 0.00834202766418457\n",
      "get_mc_stats 0.012233257293701172\n"
     ]
    },
    {
     "name": "stderr",
     "output_type": "stream",
     "text": [
      " 48%|████▊     | 479/1000 [1:46:09<1:56:49, 13.45s/it, Energy=-2.105839+0.000000j ± 0.000037 [σ²=0.000002]]"
     ]
    },
    {
     "name": "stdout",
     "output_type": "stream",
     "text": [
      "--->> cal O and jac  0.037403106689453125\n",
      "compute_update  0.04066610336303711\n",
      "(0.03926909008133931+0j)\n",
      "n_discard =  144\n",
      "discard samples 1.669990062713623\n",
      "n_samples_node =  1000\n",
      "generate_samples :  11.389960050582886\n",
      "     prepare getting local values 0.0023679733276367188\n",
      "     obtained local values 0.008169889450073242\n",
      "get_mc_stats 0.012671947479248047\n"
     ]
    },
    {
     "name": "stderr",
     "output_type": "stream",
     "text": [
      " 48%|████▊     | 480/1000 [1:46:22<1:55:42, 13.35s/it, Energy=-2.105779+0.000000j ± 0.000038 [σ²=0.000002]]"
     ]
    },
    {
     "name": "stdout",
     "output_type": "stream",
     "text": [
      "--->> cal O and jac  0.037023067474365234\n",
      "compute_update  0.04033303260803223\n",
      "(0.03926342269649104+0j)\n",
      "n_discard =  144\n",
      "discard samples 1.682582139968872\n",
      "n_samples_node =  1000\n",
      "generate_samples :  11.43487000465393\n",
      "     prepare getting local values 0.002360820770263672\n",
      "     obtained local values 0.008358001708984375\n",
      "get_mc_stats 0.013229131698608398\n"
     ]
    },
    {
     "name": "stderr",
     "output_type": "stream",
     "text": [
      " 48%|████▊     | 481/1000 [1:46:36<1:55:02, 13.30s/it, Energy=-2.105751+0.000000j ± 0.000033 [σ²=0.000001]]"
     ]
    },
    {
     "name": "stdout",
     "output_type": "stream",
     "text": [
      "--->> cal O and jac  0.039276123046875\n",
      "compute_update  0.042600154876708984\n",
      "(0.03925568175722253+0j)\n",
      "n_discard =  144\n",
      "discard samples 1.6733381748199463\n",
      "n_samples_node =  1000\n",
      "generate_samples :  11.502985954284668\n",
      "     prepare getting local values 0.0025250911712646484\n",
      "     obtained local values 0.008371114730834961\n",
      "get_mc_stats 0.012524127960205078\n"
     ]
    },
    {
     "name": "stderr",
     "output_type": "stream",
     "text": [
      " 48%|████▊     | 482/1000 [1:46:49<1:54:39, 13.28s/it, Energy=-2.105804+0.000000j ± 0.000035 [σ²=0.000001]]"
     ]
    },
    {
     "name": "stdout",
     "output_type": "stream",
     "text": [
      "--->> cal O and jac  0.04192709922790527\n",
      "compute_update  0.0455470085144043\n",
      "(0.039250147851754305+0j)\n",
      "n_discard =  144\n",
      "discard samples 1.77195405960083\n",
      "n_samples_node =  1000\n",
      "generate_samples :  11.630595207214355\n",
      "     prepare getting local values 0.002021312713623047\n",
      "     obtained local values 0.007601261138916016\n",
      "get_mc_stats 0.011688947677612305\n"
     ]
    },
    {
     "name": "stderr",
     "output_type": "stream",
     "text": [
      " 48%|████▊     | 483/1000 [1:47:02<1:54:53, 13.33s/it, Energy=-2.105823+0.000000j ± 0.000035 [σ²=0.000002]]"
     ]
    },
    {
     "name": "stdout",
     "output_type": "stream",
     "text": [
      "--->> cal O and jac  0.03650093078613281\n",
      "compute_update  0.03973579406738281\n",
      "(0.039242959420925254+0j)\n",
      "n_discard =  144\n",
      "discard samples 1.6691911220550537\n",
      "n_samples_node =  1000\n",
      "generate_samples :  11.444424867630005\n",
      "     prepare getting local values 0.002628803253173828\n",
      "     obtained local values 0.008360862731933594\n",
      "get_mc_stats 0.012862205505371094\n"
     ]
    },
    {
     "name": "stderr",
     "output_type": "stream",
     "text": [
      " 48%|████▊     | 484/1000 [1:47:15<1:54:15, 13.29s/it, Energy=-2.105840+0.000000j ± 0.000030 [σ²=0.000001]]"
     ]
    },
    {
     "name": "stdout",
     "output_type": "stream",
     "text": [
      "--->> cal O and jac  0.040778160095214844\n",
      "compute_update  0.0451812744140625\n",
      "(0.03923629843759869+0j)\n",
      "n_discard =  144\n",
      "discard samples 1.6730139255523682\n",
      "n_samples_node =  1000\n",
      "generate_samples :  11.439702033996582\n",
      "     prepare getting local values 0.0022988319396972656\n",
      "     obtained local values 0.008159875869750977\n",
      "get_mc_stats 0.012164831161499023\n"
     ]
    },
    {
     "name": "stderr",
     "output_type": "stream",
     "text": [
      " 48%|████▊     | 485/1000 [1:47:29<1:53:44, 13.25s/it, Energy=-2.105825+0.000000j ± 0.000044 [σ²=0.000002]]"
     ]
    },
    {
     "name": "stdout",
     "output_type": "stream",
     "text": [
      "--->> cal O and jac  0.03891801834106445\n",
      "compute_update  0.04210495948791504\n",
      "(0.03922967712254794+0j)\n",
      "n_discard =  144\n",
      "discard samples 1.6640598773956299\n",
      "n_samples_node =  1000\n",
      "generate_samples :  11.51255202293396\n",
      "     prepare getting local values 0.002221822738647461\n",
      "     obtained local values 0.008332014083862305\n",
      "get_mc_stats 0.012597084045410156\n"
     ]
    },
    {
     "name": "stderr",
     "output_type": "stream",
     "text": [
      " 49%|████▊     | 486/1000 [1:47:42<1:53:28, 13.25s/it, Energy=-2.105818+0.000000j ± 0.000042 [σ²=0.000001]]"
     ]
    },
    {
     "name": "stdout",
     "output_type": "stream",
     "text": [
      "--->> cal O and jac  0.03871512413024902\n",
      "compute_update  0.04190802574157715\n",
      "(0.039223781143550004+0j)\n",
      "n_discard =  144\n",
      "discard samples 1.692251205444336\n",
      "n_samples_node =  1000\n",
      "generate_samples :  11.496644735336304\n",
      "     prepare getting local values 0.0021691322326660156\n",
      "     obtained local values 0.007857799530029297\n",
      "get_mc_stats 0.011771917343139648\n"
     ]
    },
    {
     "name": "stderr",
     "output_type": "stream",
     "text": [
      " 49%|████▊     | 487/1000 [1:47:55<1:53:14, 13.24s/it, Energy=-2.105810+0.000000j ± 0.000040 [σ²=0.000002]]"
     ]
    },
    {
     "name": "stdout",
     "output_type": "stream",
     "text": [
      "--->> cal O and jac  0.03704023361206055\n",
      "compute_update  0.04028010368347168\n",
      "(0.03921730170048543+0j)\n",
      "n_discard =  144\n",
      "discard samples 1.6514978408813477\n",
      "n_samples_node =  1000\n",
      "generate_samples :  11.500180006027222\n",
      "     prepare getting local values 0.0022420883178710938\n",
      "     obtained local values 0.007822751998901367\n",
      "get_mc_stats 0.01217794418334961\n"
     ]
    },
    {
     "name": "stderr",
     "output_type": "stream",
     "text": [
      " 49%|████▉     | 488/1000 [1:48:08<1:52:55, 13.23s/it, Energy=-2.105776+0.000000j ± 0.000030 [σ²=0.000001]]"
     ]
    },
    {
     "name": "stdout",
     "output_type": "stream",
     "text": [
      "--->> cal O and jac  0.03865766525268555\n",
      "compute_update  0.041870832443237305\n",
      "(0.03920925688820482+0j)\n",
      "n_discard =  144\n",
      "discard samples 1.6472949981689453\n",
      "n_samples_node =  1000\n",
      "generate_samples :  11.393662214279175\n",
      "     prepare getting local values 0.0022878646850585938\n",
      "     obtained local values 0.007933855056762695\n",
      "get_mc_stats 0.011918783187866211\n"
     ]
    },
    {
     "name": "stderr",
     "output_type": "stream",
     "text": [
      " 49%|████▉     | 489/1000 [1:48:21<1:52:21, 13.19s/it, Energy=-2.105850+0.000000j ± 0.000032 [σ²=0.000001]]"
     ]
    },
    {
     "name": "stdout",
     "output_type": "stream",
     "text": [
      "--->> cal O and jac  0.03691291809082031\n",
      "compute_update  0.040695905685424805\n",
      "(0.039204939297816856+0j)\n",
      "n_discard =  144\n",
      "discard samples 1.6617698669433594\n",
      "n_samples_node =  1000\n",
      "generate_samples :  11.405917882919312\n",
      "     prepare getting local values 0.0021800994873046875\n",
      "     obtained local values 0.008013010025024414\n",
      "get_mc_stats 0.012156963348388672\n"
     ]
    },
    {
     "name": "stderr",
     "output_type": "stream",
     "text": [
      " 49%|████▉     | 490/1000 [1:48:35<1:51:57, 13.17s/it, Energy=-2.105824+0.000000j ± 0.000045 [σ²=0.000001]]"
     ]
    },
    {
     "name": "stdout",
     "output_type": "stream",
     "text": [
      "--->> cal O and jac  0.037542104721069336\n",
      "compute_update  0.0405118465423584\n",
      "(0.03919979940567374+0j)\n",
      "n_discard =  144\n",
      "discard samples 1.6674060821533203\n",
      "n_samples_node =  1000\n",
      "generate_samples :  11.481449842453003\n",
      "     prepare getting local values 0.0022058486938476562\n",
      "     obtained local values 0.007879018783569336\n",
      "get_mc_stats 0.012626886367797852\n"
     ]
    },
    {
     "name": "stderr",
     "output_type": "stream",
     "text": [
      " 49%|████▉     | 491/1000 [1:48:48<1:51:50, 13.18s/it, Energy=-2.105816+0.000000j ± 0.000033 [σ²=0.000001]]"
     ]
    },
    {
     "name": "stdout",
     "output_type": "stream",
     "text": [
      "--->> cal O and jac  0.04327726364135742\n",
      "compute_update  0.04738306999206543\n",
      "(0.03919209272476112+0j)\n",
      "n_discard =  144\n",
      "discard samples 1.8039650917053223\n",
      "n_samples_node =  1000\n",
      "generate_samples :  11.721914052963257\n",
      "     prepare getting local values 0.0023653507232666016\n",
      "     obtained local values 0.00897216796875\n",
      "get_mc_stats 0.013969898223876953\n"
     ]
    },
    {
     "name": "stderr",
     "output_type": "stream",
     "text": [
      " 49%|████▉     | 492/1000 [1:49:01<1:52:38, 13.30s/it, Energy=-2.105789+0.000000j ± 0.000041 [σ²=0.000001]]"
     ]
    },
    {
     "name": "stdout",
     "output_type": "stream",
     "text": [
      "--->> cal O and jac  0.04153800010681152\n",
      "compute_update  0.04534006118774414\n",
      "(0.03918623975963382+0j)\n",
      "n_discard =  144\n",
      "discard samples 1.6843578815460205\n",
      "n_samples_node =  1000\n",
      "generate_samples :  11.728398084640503\n",
      "     prepare getting local values 0.002538919448852539\n",
      "     obtained local values 0.008198022842407227\n",
      "get_mc_stats 0.013523101806640625\n"
     ]
    },
    {
     "name": "stderr",
     "output_type": "stream",
     "text": [
      " 49%|████▉     | 493/1000 [1:49:15<1:52:51, 13.36s/it, Energy=-2.105806+0.000000j ± 0.000036 [σ²=0.000001]]"
     ]
    },
    {
     "name": "stdout",
     "output_type": "stream",
     "text": [
      "--->> cal O and jac  0.04059314727783203\n",
      "compute_update  0.04350423812866211\n",
      "(0.03917920888344014+0j)\n",
      "n_discard =  144\n",
      "discard samples 1.683293104171753\n",
      "n_samples_node =  1000\n",
      "generate_samples :  11.583987951278687\n",
      "     prepare getting local values 0.0021581649780273438\n",
      "     obtained local values 0.007879018783569336\n",
      "get_mc_stats 0.011853933334350586\n"
     ]
    },
    {
     "name": "stderr",
     "output_type": "stream",
     "text": [
      " 49%|████▉     | 494/1000 [1:49:28<1:52:32, 13.35s/it, Energy=-2.105783+0.000000j ± 0.000040 [σ²=0.000001]]"
     ]
    },
    {
     "name": "stdout",
     "output_type": "stream",
     "text": [
      "--->> cal O and jac  0.03912234306335449\n",
      "compute_update  0.04204416275024414\n",
      "(0.03917179118304016+0j)\n",
      "n_discard =  144\n",
      "discard samples 1.7056777477264404\n",
      "n_samples_node =  1000\n",
      "generate_samples :  11.758747816085815\n",
      "     prepare getting local values 0.002537965774536133\n",
      "     obtained local values 0.009057044982910156\n",
      "get_mc_stats 0.014595746994018555\n"
     ]
    },
    {
     "name": "stderr",
     "output_type": "stream",
     "text": [
      " 50%|████▉     | 495/1000 [1:49:42<1:52:46, 13.40s/it, Energy=-2.105775+0.000000j ± 0.000036 [σ²=0.000001]]"
     ]
    },
    {
     "name": "stdout",
     "output_type": "stream",
     "text": [
      "--->> cal O and jac  0.03909707069396973\n",
      "compute_update  0.042176008224487305\n",
      "(0.03916336688068776+0j)\n",
      "n_discard =  144\n",
      "discard samples 1.9692308902740479\n",
      "n_samples_node =  1000\n",
      "generate_samples :  12.320830821990967\n",
      "     prepare getting local values 0.002336740493774414\n",
      "     obtained local values 0.008189916610717773\n",
      "get_mc_stats 0.012380123138427734\n"
     ]
    },
    {
     "name": "stderr",
     "output_type": "stream",
     "text": [
      " 50%|████▉     | 496/1000 [1:49:56<1:54:56, 13.68s/it, Energy=-2.105863+0.000000j ± 0.000043 [σ²=0.000001]]"
     ]
    },
    {
     "name": "stdout",
     "output_type": "stream",
     "text": [
      "--->> cal O and jac  0.03833413124084473\n",
      "compute_update  0.04147911071777344\n",
      "(0.039155660909551304+0j)\n",
      "n_discard =  144\n",
      "discard samples 1.6743371486663818\n",
      "n_samples_node =  1000\n",
      "generate_samples :  11.483012199401855\n",
      "     prepare getting local values 0.0019462108612060547\n",
      "     obtained local values 0.007656097412109375\n",
      "get_mc_stats 0.01194310188293457\n"
     ]
    },
    {
     "name": "stderr",
     "output_type": "stream",
     "text": [
      " 50%|████▉     | 497/1000 [1:50:09<1:53:31, 13.54s/it, Energy=-2.105818+0.000000j ± 0.000031 [σ²=0.000001]]"
     ]
    },
    {
     "name": "stdout",
     "output_type": "stream",
     "text": [
      "--->> cal O and jac  0.040004730224609375\n",
      "compute_update  0.0431218147277832\n",
      "(0.039147934506788135+0j)\n",
      "n_discard =  144\n",
      "discard samples 1.659074068069458\n",
      "n_samples_node =  1000\n",
      "generate_samples :  11.403081893920898\n",
      "     prepare getting local values 0.0018851757049560547\n",
      "     obtained local values 0.007596254348754883\n",
      "get_mc_stats 0.012008905410766602\n"
     ]
    },
    {
     "name": "stderr",
     "output_type": "stream",
     "text": [
      " 50%|████▉     | 498/1000 [1:50:22<1:52:14, 13.41s/it, Energy=-2.105804+0.000000j ± 0.000035 [σ²=0.000001]]"
     ]
    },
    {
     "name": "stdout",
     "output_type": "stream",
     "text": [
      "--->> cal O and jac  0.03594708442687988\n",
      "compute_update  0.03982901573181152\n",
      "(0.03914071220918153+0j)\n",
      "n_discard =  144\n",
      "discard samples 1.6436309814453125\n",
      "n_samples_node =  1000\n",
      "generate_samples :  11.397431135177612\n",
      "     prepare getting local values 0.0024101734161376953\n",
      "     obtained local values 0.008252143859863281\n",
      "get_mc_stats 0.012302875518798828\n"
     ]
    },
    {
     "name": "stderr",
     "output_type": "stream",
     "text": [
      " 50%|████▉     | 499/1000 [1:50:35<1:51:12, 13.32s/it, Energy=-2.105782+0.000000j ± 0.000033 [σ²=0.000001]]"
     ]
    },
    {
     "name": "stdout",
     "output_type": "stream",
     "text": [
      "--->> cal O and jac  0.03604602813720703\n",
      "compute_update  0.03922295570373535\n",
      "(0.03913445804405013+0j)\n",
      "n_discard =  144\n",
      "discard samples 1.6520640850067139\n",
      "n_samples_node =  1000\n",
      "generate_samples :  11.699473857879639\n",
      "     prepare getting local values 0.0030281543731689453\n",
      "     obtained local values 0.009949207305908203\n",
      "get_mc_stats 0.0158689022064209\n"
     ]
    },
    {
     "name": "stderr",
     "output_type": "stream",
     "text": [
      " 50%|█████     | 500/1000 [1:50:49<1:51:14, 13.35s/it, Energy=-2.105783+0.000000j ± 0.000039 [σ²=0.000001]]"
     ]
    },
    {
     "name": "stdout",
     "output_type": "stream",
     "text": [
      "--->> cal O and jac  0.04242515563964844\n",
      "compute_update  0.04660606384277344\n",
      "(0.03912610423680128+0j)\n",
      "n_discard =  144\n",
      "discard samples 1.7431020736694336\n",
      "n_samples_node =  1000\n",
      "generate_samples :  11.415563106536865\n",
      "     prepare getting local values 0.002505064010620117\n",
      "     obtained local values 0.008249998092651367\n",
      "get_mc_stats 0.012768030166625977\n"
     ]
    },
    {
     "name": "stderr",
     "output_type": "stream",
     "text": [
      " 50%|█████     | 501/1000 [1:51:02<1:50:40, 13.31s/it, Energy=-2.105846+0.000000j ± 0.000037 [σ²=0.000001]]"
     ]
    },
    {
     "name": "stdout",
     "output_type": "stream",
     "text": [
      "--->> cal O and jac  0.036834001541137695\n",
      "compute_update  0.03981208801269531\n",
      "(0.03911849152202585+0j)\n",
      "n_discard =  144\n",
      "discard samples 1.648188829421997\n",
      "n_samples_node =  1000\n",
      "generate_samples :  11.37025499343872\n",
      "     prepare getting local values 0.0023581981658935547\n",
      "     obtained local values 0.007895231246948242\n",
      "get_mc_stats 0.012061119079589844\n"
     ]
    },
    {
     "name": "stderr",
     "output_type": "stream",
     "text": [
      " 50%|█████     | 502/1000 [1:51:15<1:49:52, 13.24s/it, Energy=-2.105837+0.000000j ± 0.000032 [σ²=0.000001]]"
     ]
    },
    {
     "name": "stdout",
     "output_type": "stream",
     "text": [
      "--->> cal O and jac  0.03634810447692871\n",
      "compute_update  0.039666175842285156\n",
      "(0.039110901795600186+0j)\n",
      "n_discard =  144\n",
      "discard samples 1.6476199626922607\n",
      "n_samples_node =  1000\n",
      "generate_samples :  11.349369764328003\n",
      "     prepare getting local values 0.002115011215209961\n",
      "     obtained local values 0.007630109786987305\n",
      "get_mc_stats 0.011565923690795898\n"
     ]
    },
    {
     "name": "stderr",
     "output_type": "stream",
     "text": [
      " 50%|█████     | 503/1000 [1:51:28<1:49:11, 13.18s/it, Energy=-2.105837+0.000000j ± 0.000036 [σ²=0.000001]]"
     ]
    },
    {
     "name": "stdout",
     "output_type": "stream",
     "text": [
      "--->> cal O and jac  0.03663015365600586\n",
      "compute_update  0.040016889572143555\n",
      "(0.03910452492525532+0j)\n",
      "n_discard =  144\n",
      "discard samples 1.6450788974761963\n",
      "n_samples_node =  1000\n",
      "generate_samples :  11.377403974533081\n",
      "     prepare getting local values 0.0026330947875976562\n",
      "     obtained local values 0.008733987808227539\n",
      "get_mc_stats 0.01358795166015625\n"
     ]
    },
    {
     "name": "stderr",
     "output_type": "stream",
     "text": [
      " 50%|█████     | 504/1000 [1:51:41<1:48:43, 13.15s/it, Energy=-2.105769+0.000000j ± 0.000037 [σ²=0.000001]]"
     ]
    },
    {
     "name": "stdout",
     "output_type": "stream",
     "text": [
      "--->> cal O and jac  0.0447392463684082\n",
      "compute_update  0.048258066177368164\n",
      "(0.03909727625063049+0j)\n",
      "n_discard =  144\n",
      "discard samples 1.6470892429351807\n",
      "n_samples_node =  1000\n",
      "generate_samples :  11.759023666381836\n",
      "     prepare getting local values 0.00249481201171875\n",
      "     obtained local values 0.00827789306640625\n",
      "get_mc_stats 0.01263117790222168\n"
     ]
    },
    {
     "name": "stderr",
     "output_type": "stream",
     "text": [
      " 50%|█████     | 505/1000 [1:51:55<1:49:16, 13.25s/it, Energy=-2.105832+0.000000j ± 0.000028 [σ²=0.000001]]"
     ]
    },
    {
     "name": "stdout",
     "output_type": "stream",
     "text": [
      "--->> cal O and jac  0.03924393653869629\n",
      "compute_update  0.04303479194641113\n",
      "(0.039088606175481516+0j)\n",
      "n_discard =  144\n",
      "discard samples 1.683946132659912\n",
      "n_samples_node =  1000\n",
      "generate_samples :  11.653861045837402\n",
      "     prepare getting local values 0.0026209354400634766\n",
      "     obtained local values 0.008752822875976562\n",
      "get_mc_stats 0.012506246566772461\n"
     ]
    },
    {
     "name": "stderr",
     "output_type": "stream",
     "text": [
      " 51%|█████     | 506/1000 [1:52:08<1:49:25, 13.29s/it, Energy=-2.105788+0.000000j ± 0.000030 [σ²=0.000001]]"
     ]
    },
    {
     "name": "stdout",
     "output_type": "stream",
     "text": [
      "--->> cal O and jac  0.0390467643737793\n",
      "compute_update  0.043181657791137695\n",
      "(0.03908153204717114+0j)\n",
      "n_discard =  144\n",
      "discard samples 1.6767752170562744\n",
      "n_samples_node =  1000\n",
      "generate_samples :  12.720016241073608\n",
      "     prepare getting local values 0.004179954528808594\n",
      "     obtained local values 0.010359764099121094\n",
      "get_mc_stats 0.019169092178344727\n"
     ]
    },
    {
     "name": "stderr",
     "output_type": "stream",
     "text": [
      " 51%|█████     | 507/1000 [1:52:23<1:52:08, 13.65s/it, Energy=-2.105856+0.000000j ± 0.000034 [σ²=0.000001]]"
     ]
    },
    {
     "name": "stdout",
     "output_type": "stream",
     "text": [
      "--->> cal O and jac  0.05680394172668457\n",
      "compute_update  0.06294512748718262\n",
      "(0.03907494554690652+0j)\n",
      "n_discard =  144\n",
      "discard samples 1.8441228866577148\n",
      "n_samples_node =  1000\n",
      "generate_samples :  12.237581014633179\n",
      "     prepare getting local values 0.00238800048828125\n",
      "     obtained local values 0.008919000625610352\n",
      "get_mc_stats 0.015527725219726562\n"
     ]
    },
    {
     "name": "stderr",
     "output_type": "stream",
     "text": [
      " 51%|█████     | 508/1000 [1:52:37<1:53:09, 13.80s/it, Energy=-2.105789+0.000000j ± 0.000031 [σ²=0.000001]]"
     ]
    },
    {
     "name": "stdout",
     "output_type": "stream",
     "text": [
      "--->> cal O and jac  0.04625511169433594\n",
      "compute_update  0.04933309555053711\n",
      "(0.03906772455255648+0j)\n",
      "n_discard =  144\n",
      "discard samples 1.6812982559204102\n",
      "n_samples_node =  1000\n",
      "generate_samples :  12.250689029693604\n",
      "     prepare getting local values 0.0037047863006591797\n",
      "     obtained local values 0.010678768157958984\n",
      "get_mc_stats 0.01739811897277832\n"
     ]
    },
    {
     "name": "stderr",
     "output_type": "stream",
     "text": [
      " 51%|█████     | 509/1000 [1:52:51<1:53:27, 13.86s/it, Energy=-2.105818+0.000000j ± 0.000037 [σ²=0.000001]]"
     ]
    },
    {
     "name": "stdout",
     "output_type": "stream",
     "text": [
      "--->> cal O and jac  0.056208133697509766\n",
      "compute_update  0.06170916557312012\n",
      "(0.03906203897701519+0j)\n",
      "n_discard =  144\n",
      "discard samples 1.6926138401031494\n",
      "n_samples_node =  1000\n",
      "generate_samples :  11.491403102874756\n",
      "     prepare getting local values 0.0023069381713867188\n",
      "     obtained local values 0.008191108703613281\n",
      "get_mc_stats 0.012437105178833008\n"
     ]
    },
    {
     "name": "stderr",
     "output_type": "stream",
     "text": [
      " 51%|█████     | 510/1000 [1:53:04<1:51:41, 13.68s/it, Energy=-2.105798+0.000000j ± 0.000031 [σ²=0.000001]]"
     ]
    },
    {
     "name": "stdout",
     "output_type": "stream",
     "text": [
      "--->> cal O and jac  0.03719806671142578\n",
      "compute_update  0.04041290283203125\n",
      "(0.039055653394004915+0j)\n",
      "n_discard =  144\n",
      "discard samples 1.6557440757751465\n",
      "n_samples_node =  1000\n",
      "generate_samples :  11.461484909057617\n",
      "     prepare getting local values 0.002470254898071289\n",
      "     obtained local values 0.008257150650024414\n",
      "get_mc_stats 0.01257777214050293\n"
     ]
    },
    {
     "name": "stderr",
     "output_type": "stream",
     "text": [
      " 51%|█████     | 511/1000 [1:53:17<1:50:14, 13.53s/it, Energy=-2.105809+0.000000j ± 0.000025 [σ²=0.000001]]"
     ]
    },
    {
     "name": "stdout",
     "output_type": "stream",
     "text": [
      "--->> cal O and jac  0.03863406181335449\n",
      "compute_update  0.041638851165771484\n",
      "(0.039049994692276775+0j)\n",
      "n_discard =  144\n",
      "discard samples 1.6538560390472412\n",
      "n_samples_node =  1000\n",
      "generate_samples :  11.432887077331543\n",
      "     prepare getting local values 0.002480030059814453\n",
      "     obtained local values 0.008041858673095703\n",
      "get_mc_stats 0.011984825134277344\n"
     ]
    },
    {
     "name": "stderr",
     "output_type": "stream",
     "text": [
      " 51%|█████     | 512/1000 [1:53:30<1:49:04, 13.41s/it, Energy=-2.105840+0.000000j ± 0.000026 [σ²=0.000001]]"
     ]
    },
    {
     "name": "stdout",
     "output_type": "stream",
     "text": [
      "--->> cal O and jac  0.035578012466430664\n",
      "compute_update  0.03906702995300293\n",
      "(0.039043292671342815+0j)\n",
      "n_discard =  144\n",
      "discard samples 1.6485509872436523\n",
      "n_samples_node =  1000\n",
      "generate_samples :  11.335684776306152\n",
      "     prepare getting local values 0.0023419857025146484\n",
      "     obtained local values 0.008104085922241211\n",
      "get_mc_stats 0.012114286422729492\n"
     ]
    },
    {
     "name": "stderr",
     "output_type": "stream",
     "text": [
      " 51%|█████▏    | 513/1000 [1:53:43<1:47:56, 13.30s/it, Energy=-2.105837+0.000000j ± 0.000027 [σ²=0.000001]]"
     ]
    },
    {
     "name": "stdout",
     "output_type": "stream",
     "text": [
      "--->> cal O and jac  0.03622293472290039\n",
      "compute_update  0.039034128189086914\n",
      "(0.03903745893766409+0j)\n",
      "n_discard =  144\n",
      "discard samples 1.655998945236206\n",
      "n_samples_node =  1000\n",
      "generate_samples :  11.379564046859741\n",
      "     prepare getting local values 0.002259969711303711\n",
      "     obtained local values 0.008141040802001953\n",
      "get_mc_stats 0.012109041213989258\n"
     ]
    },
    {
     "name": "stderr",
     "output_type": "stream",
     "text": [
      " 51%|█████▏    | 514/1000 [1:53:56<1:47:12, 13.24s/it, Energy=-2.105870+0.000000j ± 0.000030 [σ²=0.000001]]"
     ]
    },
    {
     "name": "stdout",
     "output_type": "stream",
     "text": [
      "--->> cal O and jac  0.036644935607910156\n",
      "compute_update  0.04003095626831055\n",
      "(0.039032060431761+0j)\n",
      "n_discard =  144\n",
      "discard samples 1.6547367572784424\n",
      "n_samples_node =  1000\n",
      "generate_samples :  11.410284996032715\n",
      "     prepare getting local values 0.0023729801177978516\n",
      "     obtained local values 0.00804901123046875\n",
      "get_mc_stats 0.012201070785522461\n"
     ]
    },
    {
     "name": "stderr",
     "output_type": "stream",
     "text": [
      " 52%|█████▏    | 515/1000 [1:54:10<1:46:42, 13.20s/it, Energy=-2.105822+0.000000j ± 0.000031 [σ²=0.000001]]"
     ]
    },
    {
     "name": "stdout",
     "output_type": "stream",
     "text": [
      "--->> cal O and jac  0.035681962966918945\n",
      "compute_update  0.03883719444274902\n",
      "(0.03902585747731495+0j)\n",
      "n_discard =  144\n",
      "discard samples 1.6471219062805176\n",
      "n_samples_node =  1000\n",
      "generate_samples :  11.473803043365479\n",
      "     prepare getting local values 0.0019040107727050781\n",
      "     obtained local values 0.007758140563964844\n",
      "get_mc_stats 0.01190495491027832\n"
     ]
    },
    {
     "name": "stderr",
     "output_type": "stream",
     "text": [
      " 52%|█████▏    | 516/1000 [1:54:23<1:46:25, 13.19s/it, Energy=-2.105854+0.000000j ± 0.000041 [σ²=0.000001]]"
     ]
    },
    {
     "name": "stdout",
     "output_type": "stream",
     "text": [
      "--->> cal O and jac  0.03744792938232422\n",
      "compute_update  0.04096269607543945\n",
      "(0.03902068137309047+0j)\n",
      "n_discard =  144\n",
      "discard samples 1.9648799896240234\n",
      "n_samples_node =  1000\n",
      "generate_samples :  12.126359939575195\n",
      "     prepare getting local values 0.0026090145111083984\n",
      "     obtained local values 0.008153200149536133\n",
      "get_mc_stats 0.01206517219543457\n"
     ]
    },
    {
     "name": "stderr",
     "output_type": "stream",
     "text": [
      " 52%|█████▏    | 517/1000 [1:54:37<1:48:30, 13.48s/it, Energy=-2.105773+0.000000j ± 0.000030 [σ²=0.000001]]"
     ]
    },
    {
     "name": "stdout",
     "output_type": "stream",
     "text": [
      "--->> cal O and jac  0.035163164138793945\n",
      "compute_update  0.03846001625061035\n",
      "(0.03901426037488914+0j)\n",
      "n_discard =  144\n",
      "discard samples 1.6487479209899902\n",
      "n_samples_node =  1000\n",
      "generate_samples :  11.483965873718262\n",
      "     prepare getting local values 0.0023679733276367188\n",
      "     obtained local values 0.008284807205200195\n",
      "get_mc_stats 0.013897895812988281\n"
     ]
    },
    {
     "name": "stderr",
     "output_type": "stream",
     "text": [
      " 52%|█████▏    | 518/1000 [1:54:50<1:47:37, 13.40s/it, Energy=-2.105802+0.000000j ± 0.000023 [σ²=0.000001]]"
     ]
    },
    {
     "name": "stdout",
     "output_type": "stream",
     "text": [
      "--->> cal O and jac  0.044036149978637695\n",
      "compute_update  0.05346393585205078\n",
      "(0.03900716355183073+0j)\n",
      "n_discard =  144\n",
      "discard samples 1.7140979766845703\n",
      "n_samples_node =  1000\n",
      "generate_samples :  11.537710666656494\n",
      "     prepare getting local values 0.002644062042236328\n",
      "     obtained local values 0.009202003479003906\n",
      "get_mc_stats 0.01413726806640625\n"
     ]
    },
    {
     "name": "stderr",
     "output_type": "stream",
     "text": [
      " 52%|█████▏    | 519/1000 [1:55:03<1:47:11, 13.37s/it, Energy=-2.105841+0.000000j ± 0.000042 [σ²=0.000001]]"
     ]
    },
    {
     "name": "stdout",
     "output_type": "stream",
     "text": [
      "--->> cal O and jac  0.04193401336669922\n",
      "compute_update  0.045540809631347656\n",
      "(0.03900178284179224+0j)\n",
      "n_discard =  144\n",
      "discard samples 1.6758360862731934\n",
      "n_samples_node =  1000\n",
      "generate_samples :  11.490350246429443\n",
      "     prepare getting local values 0.002563953399658203\n",
      "     obtained local values 0.0083770751953125\n",
      "get_mc_stats 0.013105154037475586\n"
     ]
    },
    {
     "name": "stderr",
     "output_type": "stream",
     "text": [
      " 52%|█████▏    | 520/1000 [1:55:17<1:46:37, 13.33s/it, Energy=-2.105866+0.000000j ± 0.000031 [σ²=0.000001]]"
     ]
    },
    {
     "name": "stdout",
     "output_type": "stream",
     "text": [
      "--->> cal O and jac  0.03963899612426758\n",
      "compute_update  0.04280424118041992\n",
      "(0.038995951277144315+0j)\n",
      "n_discard =  144\n",
      "discard samples 1.6779749393463135\n",
      "n_samples_node =  1000\n",
      "generate_samples :  11.494103908538818\n",
      "     prepare getting local values 0.0024619102478027344\n",
      "     obtained local values 0.008292675018310547\n",
      "get_mc_stats 0.012549161911010742\n"
     ]
    },
    {
     "name": "stderr",
     "output_type": "stream",
     "text": [
      " 52%|█████▏    | 521/1000 [1:55:30<1:46:09, 13.30s/it, Energy=-2.105846+0.000000j ± 0.000030 [σ²=0.000001]]"
     ]
    },
    {
     "name": "stdout",
     "output_type": "stream",
     "text": [
      "--->> cal O and jac  0.036451101303100586\n",
      "compute_update  0.03956723213195801\n",
      "(0.03898995927456325+0j)\n",
      "n_discard =  144\n",
      "discard samples 1.6636090278625488\n",
      "n_samples_node =  1000\n",
      "generate_samples :  11.487152814865112\n",
      "     prepare getting local values 0.002201080322265625\n",
      "     obtained local values 0.008322954177856445\n",
      "get_mc_stats 0.012732982635498047\n"
     ]
    },
    {
     "name": "stderr",
     "output_type": "stream",
     "text": [
      " 52%|█████▏    | 522/1000 [1:55:43<1:45:43, 13.27s/it, Energy=-2.105785+0.000000j ± 0.000027 [σ²=0.000001]]"
     ]
    },
    {
     "name": "stdout",
     "output_type": "stream",
     "text": [
      "--->> cal O and jac  0.040242910385131836\n",
      "compute_update  0.04329395294189453\n",
      "(0.03898329867506176+0j)\n",
      "n_discard =  144\n",
      "discard samples 1.6838839054107666\n",
      "n_samples_node =  1000\n",
      "generate_samples :  11.532263040542603\n",
      "     prepare getting local values 0.0018682479858398438\n",
      "     obtained local values 0.007861137390136719\n",
      "get_mc_stats 0.011966943740844727\n"
     ]
    },
    {
     "name": "stderr",
     "output_type": "stream",
     "text": [
      " 52%|█████▏    | 523/1000 [1:55:56<1:45:30, 13.27s/it, Energy=-2.105823+0.000000j ± 0.000025 [σ²=0.000001]]"
     ]
    },
    {
     "name": "stdout",
     "output_type": "stream",
     "text": [
      "--->> cal O and jac  0.03737902641296387\n",
      "compute_update  0.040585994720458984\n",
      "(0.03897673688522773+0j)\n",
      "n_discard =  144\n",
      "discard samples 1.7610340118408203\n",
      "n_samples_node =  1000\n",
      "generate_samples :  11.539640665054321\n",
      "     prepare getting local values 0.0023527145385742188\n",
      "     obtained local values 0.008224010467529297\n",
      "get_mc_stats 0.012341976165771484\n"
     ]
    },
    {
     "name": "stderr",
     "output_type": "stream",
     "text": [
      " 52%|█████▏    | 524/1000 [1:56:10<1:45:29, 13.30s/it, Energy=-2.105811+0.000000j ± 0.000026 [σ²=0.000001]]"
     ]
    },
    {
     "name": "stdout",
     "output_type": "stream",
     "text": [
      "--->> cal O and jac  0.03896188735961914\n",
      "compute_update  0.042183876037597656\n",
      "(0.038970411859965935+0j)\n",
      "n_discard =  144\n",
      "discard samples 1.7019851207733154\n",
      "n_samples_node =  1000\n",
      "generate_samples :  11.55081295967102\n",
      "     prepare getting local values 0.002218008041381836\n",
      "     obtained local values 0.007885217666625977\n",
      "get_mc_stats 0.012247085571289062\n"
     ]
    },
    {
     "name": "stderr",
     "output_type": "stream",
     "text": [
      " 52%|█████▎    | 525/1000 [1:56:23<1:45:17, 13.30s/it, Energy=-2.105841+0.000000j ± 0.000029 [σ²=0.000001]]"
     ]
    },
    {
     "name": "stdout",
     "output_type": "stream",
     "text": [
      "--->> cal O and jac  0.03596806526184082\n",
      "compute_update  0.03918170928955078\n",
      "(0.03896430902144836+0j)\n",
      "n_discard =  144\n",
      "discard samples 1.6489427089691162\n",
      "n_samples_node =  1000\n",
      "generate_samples :  11.456507205963135\n",
      "     prepare getting local values 0.0021920204162597656\n",
      "     obtained local values 0.008224964141845703\n",
      "get_mc_stats 0.01310420036315918\n"
     ]
    },
    {
     "name": "stderr",
     "output_type": "stream",
     "text": [
      " 53%|█████▎    | 526/1000 [1:56:36<1:44:45, 13.26s/it, Energy=-2.105832+0.000000j ± 0.000025 [σ²=0.000001]]"
     ]
    },
    {
     "name": "stdout",
     "output_type": "stream",
     "text": [
      "--->> cal O and jac  0.04210400581359863\n",
      "compute_update  0.04514908790588379\n",
      "(0.03895821488664356+0j)\n",
      "n_discard =  144\n",
      "discard samples 1.6826648712158203\n",
      "n_samples_node =  1000\n",
      "generate_samples :  11.53333306312561\n",
      "     prepare getting local values 0.0026171207427978516\n",
      "     obtained local values 0.0084381103515625\n",
      "get_mc_stats 0.013113021850585938\n"
     ]
    },
    {
     "name": "stderr",
     "output_type": "stream",
     "text": [
      " 53%|█████▎    | 527/1000 [1:56:49<1:44:33, 13.26s/it, Energy=-2.105840+0.000000j ± 0.000024 [σ²=0.000001]]"
     ]
    },
    {
     "name": "stdout",
     "output_type": "stream",
     "text": [
      "--->> cal O and jac  0.03883695602416992\n",
      "compute_update  0.04262208938598633\n",
      "(0.038951902854185566+0j)\n",
      "n_discard =  144\n",
      "discard samples 1.788442850112915\n",
      "n_samples_node =  1000\n",
      "generate_samples :  11.546115159988403\n",
      "     prepare getting local values 0.0026731491088867188\n",
      "     obtained local values 0.008491039276123047\n",
      "get_mc_stats 0.01236414909362793\n"
     ]
    },
    {
     "name": "stderr",
     "output_type": "stream",
     "text": [
      " 53%|█████▎    | 528/1000 [1:57:03<1:44:38, 13.30s/it, Energy=-2.105884+0.000000j ± 0.000025 [σ²=0.000001]]"
     ]
    },
    {
     "name": "stdout",
     "output_type": "stream",
     "text": [
      "--->> cal O and jac  0.03726792335510254\n",
      "compute_update  0.040728092193603516\n",
      "(0.03894648720325578+0j)\n",
      "n_discard =  144\n",
      "discard samples 1.658478021621704\n",
      "n_samples_node =  1000\n",
      "generate_samples :  11.499594926834106\n",
      "     prepare getting local values 0.0021660327911376953\n",
      "     obtained local values 0.007848024368286133\n",
      "get_mc_stats 0.0122528076171875\n"
     ]
    },
    {
     "name": "stderr",
     "output_type": "stream",
     "text": [
      " 53%|█████▎    | 529/1000 [1:57:16<1:44:12, 13.28s/it, Energy=-2.105842+0.000000j ± 0.000026 [σ²=0.000001]]"
     ]
    },
    {
     "name": "stdout",
     "output_type": "stream",
     "text": [
      "--->> cal O and jac  0.03820395469665527\n",
      "compute_update  0.04175996780395508\n",
      "(0.03894001679549264+0j)\n",
      "n_discard =  144\n",
      "discard samples 1.6744718551635742\n",
      "n_samples_node =  1000\n",
      "generate_samples :  11.499184131622314\n",
      "     prepare getting local values 0.002849102020263672\n",
      "     obtained local values 0.008630037307739258\n",
      "get_mc_stats 0.013365983963012695\n"
     ]
    },
    {
     "name": "stderr",
     "output_type": "stream",
     "text": [
      " 53%|█████▎    | 530/1000 [1:57:29<1:43:54, 13.26s/it, Energy=-2.105773+0.000000j ± 0.000036 [σ²=0.000001]]"
     ]
    },
    {
     "name": "stdout",
     "output_type": "stream",
     "text": [
      "--->> cal O and jac  0.044725894927978516\n",
      "compute_update  0.048709869384765625\n",
      "(0.03893400659796578+0j)\n",
      "n_discard =  144\n",
      "discard samples 1.6615071296691895\n",
      "n_samples_node =  1000\n",
      "generate_samples :  11.465637922286987\n",
      "     prepare getting local values 0.0021381378173828125\n",
      "     obtained local values 0.007863044738769531\n",
      "get_mc_stats 0.012015819549560547\n"
     ]
    },
    {
     "name": "stderr",
     "output_type": "stream",
     "text": [
      " 53%|█████▎    | 531/1000 [1:57:42<1:43:29, 13.24s/it, Energy=-2.105792+0.000000j ± 0.000026 [σ²=0.000001]]"
     ]
    },
    {
     "name": "stdout",
     "output_type": "stream",
     "text": [
      "--->> cal O and jac  0.03662896156311035\n",
      "compute_update  0.03977775573730469\n",
      "(0.038927348033447204+0j)\n",
      "n_discard =  144\n",
      "discard samples 1.7377352714538574\n",
      "n_samples_node =  1000\n",
      "generate_samples :  11.385325908660889\n",
      "     prepare getting local values 0.0023391246795654297\n",
      "     obtained local values 0.008053302764892578\n",
      "get_mc_stats 0.012444257736206055\n"
     ]
    },
    {
     "name": "stderr",
     "output_type": "stream",
     "text": [
      " 53%|█████▎    | 532/1000 [1:57:56<1:43:07, 13.22s/it, Energy=-2.105768+0.000000j ± 0.000024 [σ²=0.000001]]"
     ]
    },
    {
     "name": "stdout",
     "output_type": "stream",
     "text": [
      "--->> cal O and jac  0.036730051040649414\n",
      "compute_update  0.03976607322692871\n",
      "(0.038921011276342225+0j)\n",
      "n_discard =  144\n",
      "discard samples 1.6736021041870117\n",
      "n_samples_node =  1000\n",
      "generate_samples :  11.455606937408447\n",
      "     prepare getting local values 0.0019211769104003906\n",
      "     obtained local values 0.0077800750732421875\n",
      "get_mc_stats 0.011991024017333984\n"
     ]
    },
    {
     "name": "stderr",
     "output_type": "stream",
     "text": [
      " 53%|█████▎    | 533/1000 [1:58:09<1:42:48, 13.21s/it, Energy=-2.105828+0.000000j ± 0.000024 [σ²=0.000001]]"
     ]
    },
    {
     "name": "stdout",
     "output_type": "stream",
     "text": [
      "--->> cal O and jac  0.03735709190368652\n",
      "compute_update  0.04064607620239258\n",
      "(0.038915281408214604+0j)\n",
      "n_discard =  144\n",
      "discard samples 1.651839017868042\n",
      "n_samples_node =  1000\n",
      "generate_samples :  11.611204862594604\n",
      "     prepare getting local values 0.0022401809692382812\n",
      "     obtained local values 0.007987022399902344\n",
      "get_mc_stats 0.011729955673217773\n"
     ]
    },
    {
     "name": "stderr",
     "output_type": "stream",
     "text": [
      " 53%|█████▎    | 534/1000 [1:58:22<1:42:51, 13.24s/it, Energy=-2.105837+0.000000j ± 0.000026 [σ²=0.000001]]"
     ]
    },
    {
     "name": "stdout",
     "output_type": "stream",
     "text": [
      "--->> cal O and jac  0.03906607627868652\n",
      "compute_update  0.042443037033081055\n",
      "(0.0389082239219061+0j)\n",
      "n_discard =  144\n",
      "discard samples 1.6715478897094727\n",
      "n_samples_node =  1000\n",
      "generate_samples :  11.665891170501709\n",
      "     prepare getting local values 0.002393960952758789\n",
      "     obtained local values 0.008396148681640625\n",
      "get_mc_stats 0.012677907943725586\n"
     ]
    },
    {
     "name": "stderr",
     "output_type": "stream",
     "text": [
      " 54%|█████▎    | 535/1000 [1:58:36<1:42:58, 13.29s/it, Energy=-2.105801+0.000000j ± 0.000025 [σ²=0.000001]]"
     ]
    },
    {
     "name": "stdout",
     "output_type": "stream",
     "text": [
      "--->> cal O and jac  0.037184953689575195\n",
      "compute_update  0.04015398025512695\n",
      "(0.03890153430151218+0j)\n",
      "n_discard =  144\n",
      "discard samples 1.6869261264801025\n",
      "n_samples_node =  1000\n",
      "generate_samples :  11.752633094787598\n",
      "     prepare getting local values 0.002201080322265625\n",
      "     obtained local values 0.008208036422729492\n",
      "get_mc_stats 0.012395143508911133\n"
     ]
    },
    {
     "name": "stderr",
     "output_type": "stream",
     "text": [
      " 54%|█████▎    | 536/1000 [1:58:49<1:43:16, 13.35s/it, Energy=-2.105797+0.000000j ± 0.000025 [σ²=0.000001]]"
     ]
    },
    {
     "name": "stdout",
     "output_type": "stream",
     "text": [
      "--->> cal O and jac  0.04808998107910156\n",
      "compute_update  0.05513310432434082\n",
      "(0.03889402537108551+0j)\n",
      "n_discard =  144\n",
      "discard samples 1.999006986618042\n",
      "n_samples_node =  1000\n",
      "generate_samples :  11.872829914093018\n",
      "     prepare getting local values 0.0022051334381103516\n",
      "     obtained local values 0.007969856262207031\n",
      "get_mc_stats 0.012395143508911133\n"
     ]
    },
    {
     "name": "stderr",
     "output_type": "stream",
     "text": [
      " 54%|█████▎    | 537/1000 [1:59:03<1:44:22, 13.53s/it, Energy=-2.105772+0.000000j ± 0.000026 [σ²=0.000001]]"
     ]
    },
    {
     "name": "stdout",
     "output_type": "stream",
     "text": [
      "--->> cal O and jac  0.03809785842895508\n",
      "compute_update  0.04129385948181152\n",
      "(0.03888682821549244+0j)\n",
      "n_discard =  144\n",
      "discard samples 1.7405080795288086\n",
      "n_samples_node =  1000\n",
      "generate_samples :  12.095444917678833\n",
      "     prepare getting local values 0.002669095993041992\n",
      "     obtained local values 0.008725881576538086\n",
      "get_mc_stats 0.01329803466796875\n"
     ]
    },
    {
     "name": "stderr",
     "output_type": "stream",
     "text": [
      " 54%|█████▍    | 538/1000 [1:59:17<1:45:01, 13.64s/it, Energy=-2.105879+0.000000j ± 0.000022 [σ²=0.000001]]"
     ]
    },
    {
     "name": "stdout",
     "output_type": "stream",
     "text": [
      "--->> cal O and jac  0.04677987098693848\n",
      "compute_update  0.05093789100646973\n",
      "(0.03887963275460978+0j)\n",
      "n_discard =  144\n",
      "discard samples 1.7855911254882812\n",
      "n_samples_node =  1000\n",
      "generate_samples :  11.68016004562378\n",
      "     prepare getting local values 0.002187013626098633\n",
      "     obtained local values 0.007896900177001953\n",
      "get_mc_stats 0.012144327163696289\n"
     ]
    },
    {
     "name": "stderr",
     "output_type": "stream",
     "text": [
      " 54%|█████▍    | 539/1000 [1:59:30<1:44:31, 13.61s/it, Energy=-2.105883+0.000000j ± 0.000023 [σ²=0.000001]]"
     ]
    },
    {
     "name": "stdout",
     "output_type": "stream",
     "text": [
      "--->> cal O and jac  0.03896498680114746\n",
      "compute_update  0.04312610626220703\n",
      "(0.03887283951130188+0j)\n",
      "n_discard =  144\n",
      "discard samples 1.6727190017700195\n",
      "n_samples_node =  1000\n",
      "generate_samples :  11.983000040054321\n",
      "     prepare getting local values 0.0027000904083251953\n",
      "     obtained local values 0.00852203369140625\n",
      "get_mc_stats 0.013640880584716797\n"
     ]
    },
    {
     "name": "stderr",
     "output_type": "stream",
     "text": [
      " 54%|█████▍    | 540/1000 [1:59:44<1:44:33, 13.64s/it, Energy=-2.105812+0.000000j ± 0.000026 [σ²=0.000001]]"
     ]
    },
    {
     "name": "stdout",
     "output_type": "stream",
     "text": [
      "--->> cal O and jac  0.04203295707702637\n",
      "compute_update  0.045178890228271484\n",
      "(0.0388660874483707+0j)\n",
      "n_discard =  144\n",
      "discard samples 1.7513549327850342\n",
      "n_samples_node =  1000\n",
      "generate_samples :  11.771451711654663\n",
      "     prepare getting local values 0.0023908615112304688\n",
      "     obtained local values 0.008347749710083008\n",
      "get_mc_stats 0.012850284576416016\n"
     ]
    },
    {
     "name": "stderr",
     "output_type": "stream",
     "text": [
      " 54%|█████▍    | 541/1000 [1:59:58<1:44:12, 13.62s/it, Energy=-2.105823+0.000000j ± 0.000028 [σ²=0.000001]]"
     ]
    },
    {
     "name": "stdout",
     "output_type": "stream",
     "text": [
      "--->> cal O and jac  0.04144787788391113\n",
      "compute_update  0.04540085792541504\n",
      "(0.03885863225643313+0j)\n",
      "n_discard =  144\n",
      "discard samples 1.7519569396972656\n",
      "n_samples_node =  1000\n",
      "generate_samples :  11.627878189086914\n",
      "     prepare getting local values 0.0023670196533203125\n",
      "     obtained local values 0.008037090301513672\n",
      "get_mc_stats 0.011892080307006836\n"
     ]
    },
    {
     "name": "stderr",
     "output_type": "stream",
     "text": [
      " 54%|█████▍    | 542/1000 [2:00:11<1:43:33, 13.57s/it, Energy=-2.105832+0.000000j ± 0.000024 [σ²=0.000001]]"
     ]
    },
    {
     "name": "stdout",
     "output_type": "stream",
     "text": [
      "--->> cal O and jac  0.03823089599609375\n",
      "compute_update  0.04132199287414551\n",
      "(0.03885130482696532+0j)\n",
      "n_discard =  144\n",
      "discard samples 1.6502511501312256\n",
      "n_samples_node =  1000\n",
      "generate_samples :  11.447991132736206\n",
      "     prepare getting local values 0.0023653507232666016\n",
      "     obtained local values 0.008145332336425781\n",
      "get_mc_stats 0.012356281280517578\n"
     ]
    },
    {
     "name": "stderr",
     "output_type": "stream",
     "text": [
      " 54%|█████▍    | 543/1000 [2:00:24<1:42:22, 13.44s/it, Energy=-2.105842+0.000000j ± 0.000025 [σ²=0.000001]]"
     ]
    },
    {
     "name": "stdout",
     "output_type": "stream",
     "text": [
      "--->> cal O and jac  0.035440921783447266\n",
      "compute_update  0.03866291046142578\n",
      "(0.03884329058489553+0j)\n",
      "n_discard =  144\n",
      "discard samples 1.6554100513458252\n",
      "n_samples_node =  1000\n",
      "generate_samples :  11.473430156707764\n",
      "     prepare getting local values 0.0023910999298095703\n",
      "     obtained local values 0.008022069931030273\n",
      "get_mc_stats 0.012072086334228516\n"
     ]
    },
    {
     "name": "stderr",
     "output_type": "stream",
     "text": [
      " 54%|█████▍    | 544/1000 [2:00:37<1:41:33, 13.36s/it, Energy=-2.105848+0.000000j ± 0.000019 [σ²=0.000001]]"
     ]
    },
    {
     "name": "stdout",
     "output_type": "stream",
     "text": [
      "--->> cal O and jac  0.03524613380432129\n",
      "compute_update  0.03825688362121582\n",
      "(0.03883600783871278+0j)\n",
      "n_discard =  144\n",
      "discard samples 1.6635432243347168\n",
      "n_samples_node =  1000\n",
      "generate_samples :  11.696706771850586\n",
      "     prepare getting local values 0.003136873245239258\n",
      "     obtained local values 0.009046077728271484\n",
      "get_mc_stats 0.01456308364868164\n"
     ]
    },
    {
     "name": "stderr",
     "output_type": "stream",
     "text": [
      " 55%|█████▍    | 545/1000 [2:00:51<1:41:28, 13.38s/it, Energy=-2.105821+0.000000j ± 0.000022 [σ²=0.000001]]"
     ]
    },
    {
     "name": "stdout",
     "output_type": "stream",
     "text": [
      "--->> cal O and jac  0.04415607452392578\n",
      "compute_update  0.04752397537231445\n",
      "(0.03882947299050826+0j)\n",
      "n_discard =  144\n",
      "discard samples 1.7387330532073975\n",
      "n_samples_node =  1000\n",
      "generate_samples :  11.911806106567383\n",
      "     prepare getting local values 0.003017902374267578\n",
      "     obtained local values 0.009113073348999023\n",
      "get_mc_stats 0.014629125595092773\n"
     ]
    },
    {
     "name": "stderr",
     "output_type": "stream",
     "text": [
      " 55%|█████▍    | 546/1000 [2:01:05<1:42:00, 13.48s/it, Energy=-2.105797+0.000000j ± 0.000028 [σ²=0.000001]]"
     ]
    },
    {
     "name": "stdout",
     "output_type": "stream",
     "text": [
      "--->> cal O and jac  0.03961586952209473\n",
      "compute_update  0.04308795928955078\n",
      "(0.038821747967433214+0j)\n",
      "n_discard =  144\n",
      "discard samples 1.6661958694458008\n",
      "n_samples_node =  1000\n",
      "generate_samples :  11.620296955108643\n",
      "     prepare getting local values 0.0028111934661865234\n",
      "     obtained local values 0.009179115295410156\n",
      "get_mc_stats 0.015820980072021484\n"
     ]
    },
    {
     "name": "stderr",
     "output_type": "stream",
     "text": [
      " 55%|█████▍    | 547/1000 [2:01:18<1:41:29, 13.44s/it, Energy=-2.105807+0.000000j ± 0.000019 [σ²=0.000001]]"
     ]
    },
    {
     "name": "stdout",
     "output_type": "stream",
     "text": [
      "--->> cal O and jac  0.045452117919921875\n",
      "compute_update  0.05033111572265625\n",
      "(0.038814264362155015+0j)\n",
      "n_discard =  144\n",
      "discard samples 1.7708439826965332\n",
      "n_samples_node =  1000\n",
      "generate_samples :  11.641986846923828\n",
      "     prepare getting local values 0.002146005630493164\n",
      "     obtained local values 0.00789499282836914\n",
      "get_mc_stats 0.01217794418334961\n"
     ]
    },
    {
     "name": "stderr",
     "output_type": "stream",
     "text": [
      " 55%|█████▍    | 548/1000 [2:01:31<1:41:19, 13.45s/it, Energy=-2.105834+0.000000j ± 0.000028 [σ²=0.000001]]"
     ]
    },
    {
     "name": "stdout",
     "output_type": "stream",
     "text": [
      "--->> cal O and jac  0.037590980529785156\n",
      "compute_update  0.04080009460449219\n",
      "(0.03880652426904456+0j)\n",
      "n_discard =  144\n",
      "discard samples 1.6683518886566162\n",
      "n_samples_node =  1000\n",
      "generate_samples :  11.497704267501831\n",
      "     prepare getting local values 0.0023720264434814453\n",
      "     obtained local values 0.008311033248901367\n",
      "get_mc_stats 0.012660980224609375\n"
     ]
    },
    {
     "name": "stderr",
     "output_type": "stream",
     "text": [
      " 55%|█████▍    | 549/1000 [2:01:45<1:40:36, 13.38s/it, Energy=-2.105815+0.000000j ± 0.000023 [σ²=0.000001]]"
     ]
    },
    {
     "name": "stdout",
     "output_type": "stream",
     "text": [
      "--->> cal O and jac  0.04331183433532715\n",
      "compute_update  0.0466768741607666\n",
      "(0.03879861722199197+0j)\n",
      "n_discard =  144\n",
      "discard samples 1.6907811164855957\n",
      "n_samples_node =  1000\n",
      "generate_samples :  11.688902854919434\n",
      "     prepare getting local values 0.0020689964294433594\n",
      "     obtained local values 0.007934808731079102\n",
      "get_mc_stats 0.01213216781616211\n"
     ]
    },
    {
     "name": "stderr",
     "output_type": "stream",
     "text": [
      " 55%|█████▌    | 550/1000 [2:01:58<1:40:29, 13.40s/it, Energy=-2.105763+0.000000j ± 0.000019 [σ²=0.000001]]"
     ]
    },
    {
     "name": "stdout",
     "output_type": "stream",
     "text": [
      "--->> cal O and jac  0.036427974700927734\n",
      "compute_update  0.03967118263244629\n",
      "(0.038790763683111226+0j)\n",
      "n_discard =  144\n",
      "discard samples 1.6626660823822021\n",
      "n_samples_node =  1000\n",
      "generate_samples :  11.700660943984985\n",
      "     prepare getting local values 0.0022280216217041016\n",
      "     obtained local values 0.007966995239257812\n",
      "get_mc_stats 0.012130975723266602\n"
     ]
    },
    {
     "name": "stderr",
     "output_type": "stream",
     "text": [
      " 55%|█████▌    | 551/1000 [2:02:12<1:40:19, 13.41s/it, Energy=-2.105868+0.000000j ± 0.000023 [σ²=0.000001]]"
     ]
    },
    {
     "name": "stdout",
     "output_type": "stream",
     "text": [
      "--->> cal O and jac  0.04127097129821777\n",
      "compute_update  0.04442191123962402\n",
      "(0.038784446513894254+0j)\n",
      "n_discard =  144\n",
      "discard samples 1.7544920444488525\n",
      "n_samples_node =  1000\n",
      "generate_samples :  11.705035209655762\n",
      "     prepare getting local values 0.0024261474609375\n",
      "     obtained local values 0.008327960968017578\n",
      "get_mc_stats 0.013057947158813477\n"
     ]
    },
    {
     "name": "stderr",
     "output_type": "stream",
     "text": [
      " 55%|█████▌    | 552/1000 [2:02:25<1:40:21, 13.44s/it, Energy=-2.105792+0.000000j ± 0.000025 [σ²=0.000001]]"
     ]
    },
    {
     "name": "stdout",
     "output_type": "stream",
     "text": [
      "--->> cal O and jac  0.04373502731323242\n",
      "compute_update  0.05022406578063965\n",
      "(0.038776176101470154+0j)\n",
      "n_discard =  144\n",
      "discard samples 1.7390761375427246\n",
      "n_samples_node =  1000\n",
      "generate_samples :  11.978716135025024\n",
      "     prepare getting local values 0.0023779869079589844\n",
      "     obtained local values 0.008682012557983398\n",
      "get_mc_stats 0.014556169509887695\n"
     ]
    },
    {
     "name": "stderr",
     "output_type": "stream",
     "text": [
      " 55%|█████▌    | 553/1000 [2:02:39<1:40:54, 13.55s/it, Energy=-2.105768+0.000000j ± 0.000027 [σ²=0.000001]]"
     ]
    },
    {
     "name": "stdout",
     "output_type": "stream",
     "text": [
      "--->> cal O and jac  0.04536294937133789\n",
      "compute_update  0.05162501335144043\n",
      "(0.03876772699552026+0j)\n",
      "n_discard =  144\n",
      "discard samples 1.7243640422821045\n",
      "n_samples_node =  1000\n",
      "generate_samples :  12.193543910980225\n",
      "     prepare getting local values 0.0026297569274902344\n",
      "     obtained local values 0.00840902328491211\n",
      "get_mc_stats 0.013839244842529297\n"
     ]
    },
    {
     "name": "stderr",
     "output_type": "stream",
     "text": [
      " 55%|█████▌    | 554/1000 [2:02:53<1:41:39, 13.68s/it, Energy=-2.105816+0.000000j ± 0.000025 [σ²=0.000001]]"
     ]
    },
    {
     "name": "stdout",
     "output_type": "stream",
     "text": [
      "--->> cal O and jac  0.04477190971374512\n",
      "compute_update  0.04786992073059082\n",
      "(0.038761883511733417+0j)\n",
      "n_discard =  144\n",
      "discard samples 1.6911518573760986\n",
      "n_samples_node =  1000\n",
      "generate_samples :  11.562063932418823\n",
      "     prepare getting local values 0.002688884735107422\n",
      "     obtained local values 0.008379936218261719\n",
      "get_mc_stats 0.013514995574951172\n"
     ]
    },
    {
     "name": "stderr",
     "output_type": "stream",
     "text": [
      " 56%|█████▌    | 555/1000 [2:03:06<1:40:38, 13.57s/it, Energy=-2.105798+0.000000j ± 0.000022 [σ²=0.000000]]"
     ]
    },
    {
     "name": "stdout",
     "output_type": "stream",
     "text": [
      "--->> cal O and jac  0.04578518867492676\n",
      "compute_update  0.04925799369812012\n",
      "(0.03875487866167516+0j)\n",
      "n_discard =  144\n",
      "discard samples 1.656106948852539\n",
      "n_samples_node =  1000\n",
      "generate_samples :  11.585675716400146\n",
      "     prepare getting local values 0.0023381710052490234\n",
      "     obtained local values 0.0080718994140625\n",
      "get_mc_stats 0.0118408203125\n"
     ]
    },
    {
     "name": "stderr",
     "output_type": "stream",
     "text": [
      " 56%|█████▌    | 556/1000 [2:03:19<1:39:48, 13.49s/it, Energy=-2.105773+0.000000j ± 0.000022 [σ²=0.000001]]"
     ]
    },
    {
     "name": "stdout",
     "output_type": "stream",
     "text": [
      "--->> cal O and jac  0.03733229637145996\n",
      "compute_update  0.04052019119262695\n",
      "(0.038747356583699266+0j)\n",
      "n_discard =  144\n",
      "discard samples 1.6596710681915283\n",
      "n_samples_node =  1000\n",
      "generate_samples :  11.687897205352783\n",
      "     prepare getting local values 0.0032880306243896484\n",
      "     obtained local values 0.010104894638061523\n",
      "get_mc_stats 0.015031814575195312\n"
     ]
    },
    {
     "name": "stderr",
     "output_type": "stream",
     "text": [
      " 56%|█████▌    | 557/1000 [2:03:33<1:39:26, 13.47s/it, Energy=-2.105829+0.000000j ± 0.000021 [σ²=0.000000]]"
     ]
    },
    {
     "name": "stdout",
     "output_type": "stream",
     "text": [
      "--->> cal O and jac  0.05496692657470703\n",
      "compute_update  0.06085205078125\n",
      "(0.038740970763478266+0j)\n",
      "n_discard =  144\n",
      "discard samples 1.69868803024292\n",
      "n_samples_node =  1000\n",
      "generate_samples :  11.726946592330933\n",
      "     prepare getting local values 0.00234222412109375\n",
      "     obtained local values 0.008294343948364258\n",
      "get_mc_stats 0.01258397102355957\n"
     ]
    },
    {
     "name": "stderr",
     "output_type": "stream",
     "text": [
      " 56%|█████▌    | 558/1000 [2:03:46<1:39:15, 13.47s/it, Energy=-2.105840+0.000000j ± 0.000029 [σ²=0.000001]]"
     ]
    },
    {
     "name": "stdout",
     "output_type": "stream",
     "text": [
      "--->> cal O and jac  0.04002499580383301\n",
      "compute_update  0.04351496696472168\n",
      "(0.03873436569981422+0j)\n",
      "n_discard =  144\n",
      "discard samples 1.668940782546997\n",
      "n_samples_node =  1000\n",
      "generate_samples :  11.898352861404419\n",
      "     prepare getting local values 0.0025131702423095703\n",
      "     obtained local values 0.008379220962524414\n",
      "get_mc_stats 0.013450860977172852\n"
     ]
    },
    {
     "name": "stderr",
     "output_type": "stream",
     "text": [
      " 56%|█████▌    | 559/1000 [2:04:00<1:39:21, 13.52s/it, Energy=-2.105817+0.000000j ± 0.000021 [σ²=0.000001]]"
     ]
    },
    {
     "name": "stdout",
     "output_type": "stream",
     "text": [
      "--->> cal O and jac  0.03714299201965332\n",
      "compute_update  0.04033207893371582\n",
      "(0.03872765744740861+0j)\n",
      "n_discard =  144\n",
      "discard samples 1.7006518840789795\n",
      "n_samples_node =  1000\n",
      "generate_samples :  11.782799005508423\n",
      "     prepare getting local values 0.002641916275024414\n",
      "     obtained local values 0.008440732955932617\n",
      "get_mc_stats 0.013771772384643555\n"
     ]
    },
    {
     "name": "stderr",
     "output_type": "stream",
     "text": [
      " 56%|█████▌    | 560/1000 [2:04:13<1:39:10, 13.52s/it, Energy=-2.105801+0.000000j ± 0.000021 [σ²=0.000001]]"
     ]
    },
    {
     "name": "stdout",
     "output_type": "stream",
     "text": [
      "--->> cal O and jac  0.03682518005371094\n",
      "compute_update  0.03982114791870117\n",
      "(0.038719179522895844+0j)\n",
      "n_discard =  144\n",
      "discard samples 1.6785969734191895\n",
      "n_samples_node =  1000\n",
      "generate_samples :  11.663542032241821\n",
      "     prepare getting local values 0.0026199817657470703\n",
      "     obtained local values 0.008816003799438477\n",
      "get_mc_stats 0.014615774154663086\n"
     ]
    },
    {
     "name": "stderr",
     "output_type": "stream",
     "text": [
      " 56%|█████▌    | 561/1000 [2:04:27<1:38:41, 13.49s/it, Energy=-2.105798+0.000000j ± 0.000024 [σ²=0.000001]]"
     ]
    },
    {
     "name": "stdout",
     "output_type": "stream",
     "text": [
      "--->> cal O and jac  0.03998899459838867\n",
      "compute_update  0.04331183433532715\n",
      "(0.038712598594278086+0j)\n",
      "n_discard =  144\n",
      "discard samples 1.6732490062713623\n",
      "n_samples_node =  1000\n",
      "generate_samples :  11.495545864105225\n",
      "     prepare getting local values 0.002048015594482422\n",
      "     obtained local values 0.007848978042602539\n",
      "get_mc_stats 0.012134075164794922\n"
     ]
    },
    {
     "name": "stderr",
     "output_type": "stream",
     "text": [
      " 56%|█████▌    | 562/1000 [2:04:40<1:37:52, 13.41s/it, Energy=-2.105817+0.000000j ± 0.000023 [σ²=0.000001]]"
     ]
    },
    {
     "name": "stdout",
     "output_type": "stream",
     "text": [
      "--->> cal O and jac  0.0354619026184082\n",
      "compute_update  0.03855395317077637\n",
      "(0.03870508260972146+0j)\n",
      "n_discard =  144\n",
      "discard samples 1.657377004623413\n",
      "n_samples_node =  1000\n",
      "generate_samples :  11.919911861419678\n",
      "     prepare getting local values 0.002560138702392578\n",
      "     obtained local values 0.008556127548217773\n",
      "get_mc_stats 0.01409292221069336\n"
     ]
    },
    {
     "name": "stderr",
     "output_type": "stream",
     "text": [
      " 56%|█████▋    | 563/1000 [2:04:54<1:38:09, 13.48s/it, Energy=-2.105834+0.000000j ± 0.000022 [σ²=0.000000]]"
     ]
    },
    {
     "name": "stdout",
     "output_type": "stream",
     "text": [
      "--->> cal O and jac  0.03987693786621094\n",
      "compute_update  0.044651031494140625\n",
      "(0.038698707871803906+0j)\n",
      "n_discard =  144\n",
      "discard samples 1.7144858837127686\n",
      "n_samples_node =  1000\n",
      "generate_samples :  11.67923092842102\n",
      "     prepare getting local values 0.00232696533203125\n",
      "     obtained local values 0.007794857025146484\n",
      "get_mc_stats 0.011939048767089844\n"
     ]
    },
    {
     "name": "stderr",
     "output_type": "stream",
     "text": [
      " 56%|█████▋    | 564/1000 [2:05:07<1:37:52, 13.47s/it, Energy=-2.105864+0.000000j ± 0.000021 [σ²=0.000000]]"
     ]
    },
    {
     "name": "stdout",
     "output_type": "stream",
     "text": [
      "--->> cal O and jac  0.041040897369384766\n",
      "compute_update  0.0441737174987793\n",
      "(0.03869226588693028+0j)\n",
      "n_discard =  144\n",
      "discard samples 1.652940034866333\n",
      "n_samples_node =  1000\n",
      "generate_samples :  11.48436188697815\n",
      "     prepare getting local values 0.002469301223754883\n",
      "     obtained local values 0.00840616226196289\n",
      "get_mc_stats 0.012763023376464844\n"
     ]
    },
    {
     "name": "stderr",
     "output_type": "stream",
     "text": [
      " 56%|█████▋    | 565/1000 [2:05:20<1:37:03, 13.39s/it, Energy=-2.105818+0.000000j ± 0.000026 [σ²=0.000001]]"
     ]
    },
    {
     "name": "stdout",
     "output_type": "stream",
     "text": [
      "--->> cal O and jac  0.03716015815734863\n",
      "compute_update  0.041114091873168945\n",
      "(0.038685248106189125+0j)\n",
      "n_discard =  144\n",
      "discard samples 1.6584136486053467\n",
      "n_samples_node =  1000\n",
      "generate_samples :  11.58191728591919\n",
      "     prepare getting local values 0.0028710365295410156\n",
      "     obtained local values 0.009521961212158203\n",
      "get_mc_stats 0.016379833221435547\n"
     ]
    },
    {
     "name": "stderr",
     "output_type": "stream",
     "text": [
      " 57%|█████▋    | 566/1000 [2:05:34<1:36:39, 13.36s/it, Energy=-2.105829+0.000000j ± 0.000026 [σ²=0.000001]]"
     ]
    },
    {
     "name": "stdout",
     "output_type": "stream",
     "text": [
      "--->> cal O and jac  0.04529309272766113\n",
      "compute_update  0.048883914947509766\n",
      "(0.03867796633148571+0j)\n",
      "n_discard =  144\n",
      "discard samples 1.6849169731140137\n",
      "n_samples_node =  1000\n",
      "generate_samples :  11.559618949890137\n",
      "     prepare getting local values 0.0023789405822753906\n",
      "     obtained local values 0.008159875869750977\n",
      "get_mc_stats 0.012336969375610352\n"
     ]
    },
    {
     "name": "stderr",
     "output_type": "stream",
     "text": [
      " 57%|█████▋    | 567/1000 [2:05:47<1:36:18, 13.34s/it, Energy=-2.105801+0.000000j ± 0.000024 [σ²=0.000000]]"
     ]
    },
    {
     "name": "stdout",
     "output_type": "stream",
     "text": [
      "--->> cal O and jac  0.03679513931274414\n",
      "compute_update  0.039962053298950195\n",
      "(0.03867087195160586+0j)\n",
      "n_discard =  144\n",
      "discard samples 1.67205810546875\n",
      "n_samples_node =  1000\n",
      "generate_samples :  11.52711820602417\n",
      "     prepare getting local values 0.002270936965942383\n",
      "     obtained local values 0.008016109466552734\n",
      "get_mc_stats 0.012279033660888672\n"
     ]
    },
    {
     "name": "stderr",
     "output_type": "stream",
     "text": [
      " 57%|█████▋    | 568/1000 [2:06:00<1:35:53, 13.32s/it, Energy=-2.105807+0.000000j ± 0.000026 [σ²=0.000000]]"
     ]
    },
    {
     "name": "stdout",
     "output_type": "stream",
     "text": [
      "--->> cal O and jac  0.039283037185668945\n",
      "compute_update  0.042646169662475586\n",
      "(0.03866334966634585+0j)\n",
      "n_discard =  144\n",
      "discard samples 1.6705589294433594\n",
      "n_samples_node =  1000\n",
      "generate_samples :  11.464754343032837\n",
      "     prepare getting local values 0.0023758411407470703\n",
      "     obtained local values 0.008046627044677734\n",
      "get_mc_stats 0.012476205825805664\n"
     ]
    },
    {
     "name": "stderr",
     "output_type": "stream",
     "text": [
      " 57%|█████▋    | 569/1000 [2:06:13<1:35:24, 13.28s/it, Energy=-2.105819+0.000000j ± 0.000017 [σ²=0.000000]]"
     ]
    },
    {
     "name": "stdout",
     "output_type": "stream",
     "text": [
      "--->> cal O and jac  0.04186701774597168\n",
      "compute_update  0.04549598693847656\n",
      "(0.03865724752031556+0j)\n",
      "n_discard =  144\n",
      "discard samples 1.6857872009277344\n",
      "n_samples_node =  1000\n",
      "generate_samples :  11.397060871124268\n",
      "     prepare getting local values 0.0023310184478759766\n",
      "     obtained local values 0.008038043975830078\n",
      "get_mc_stats 0.011750936508178711\n"
     ]
    },
    {
     "name": "stderr",
     "output_type": "stream",
     "text": [
      " 57%|█████▋    | 570/1000 [2:06:27<1:34:52, 13.24s/it, Energy=-2.105822+0.000000j ± 0.000018 [σ²=0.000000]]"
     ]
    },
    {
     "name": "stdout",
     "output_type": "stream",
     "text": [
      "--->> cal O and jac  0.035521745681762695\n",
      "compute_update  0.03866076469421387\n",
      "(0.038651139335791916+0j)\n",
      "n_discard =  144\n",
      "discard samples 1.6550238132476807\n",
      "n_samples_node =  1000\n",
      "generate_samples :  11.462238788604736\n",
      "     prepare getting local values 0.0022461414337158203\n",
      "     obtained local values 0.007880926132202148\n",
      "get_mc_stats 0.012310028076171875\n"
     ]
    },
    {
     "name": "stderr",
     "output_type": "stream",
     "text": [
      " 57%|█████▋    | 571/1000 [2:06:40<1:34:30, 13.22s/it, Energy=-2.105826+0.000000j ± 0.000020 [σ²=0.000000]]"
     ]
    },
    {
     "name": "stdout",
     "output_type": "stream",
     "text": [
      "--->> cal O and jac  0.0371251106262207\n",
      "compute_update  0.040093183517456055\n",
      "(0.03864409289633592+0j)\n",
      "n_discard =  144\n",
      "discard samples 1.6516239643096924\n",
      "n_samples_node =  1000\n",
      "generate_samples :  11.6252121925354\n",
      "     prepare getting local values 0.0019159317016601562\n",
      "     obtained local values 0.00763702392578125\n",
      "get_mc_stats 0.012143135070800781\n"
     ]
    },
    {
     "name": "stderr",
     "output_type": "stream",
     "text": [
      " 57%|█████▋    | 572/1000 [2:06:53<1:34:31, 13.25s/it, Energy=-2.105800+0.000000j ± 0.000022 [σ²=0.000000]]"
     ]
    },
    {
     "name": "stdout",
     "output_type": "stream",
     "text": [
      "--->> cal O and jac  0.03667187690734863\n",
      "compute_update  0.03985404968261719\n",
      "(0.038637741831500344+0j)\n",
      "n_discard =  144\n",
      "discard samples 1.7092652320861816\n",
      "n_samples_node =  1000\n",
      "generate_samples :  11.647525787353516\n",
      "     prepare getting local values 0.0024080276489257812\n",
      "     obtained local values 0.009204864501953125\n",
      "get_mc_stats 0.014222145080566406\n"
     ]
    },
    {
     "name": "stderr",
     "output_type": "stream",
     "text": [
      " 57%|█████▋    | 573/1000 [2:07:07<1:34:39, 13.30s/it, Energy=-2.105803+0.000000j ± 0.000020 [σ²=0.000000]]"
     ]
    },
    {
     "name": "stdout",
     "output_type": "stream",
     "text": [
      "--->> cal O and jac  0.03854179382324219\n",
      "compute_update  0.04193687438964844\n",
      "(0.038630299565815505+0j)\n",
      "n_discard =  144\n",
      "discard samples 1.7012810707092285\n",
      "n_samples_node =  1000\n",
      "generate_samples :  11.616317987442017\n",
      "     prepare getting local values 0.0023069381713867188\n",
      "     obtained local values 0.008005857467651367\n",
      "get_mc_stats 0.012035131454467773\n"
     ]
    },
    {
     "name": "stderr",
     "output_type": "stream",
     "text": [
      " 57%|█████▋    | 574/1000 [2:07:20<1:34:35, 13.32s/it, Energy=-2.105806+0.000000j ± 0.000021 [σ²=0.000000]]"
     ]
    },
    {
     "name": "stdout",
     "output_type": "stream",
     "text": [
      "--->> cal O and jac  0.03658699989318848\n",
      "compute_update  0.03998899459838867\n",
      "(0.03862231800488808+0j)\n",
      "n_discard =  144\n",
      "discard samples 1.6727988719940186\n",
      "n_samples_node =  1000\n",
      "generate_samples :  11.482510805130005\n",
      "     prepare getting local values 0.0018858909606933594\n",
      "     obtained local values 0.007710933685302734\n",
      "get_mc_stats 0.011750936508178711\n"
     ]
    },
    {
     "name": "stderr",
     "output_type": "stream",
     "text": [
      " 57%|█████▊    | 575/1000 [2:07:33<1:34:07, 13.29s/it, Energy=-2.105812+0.000000j ± 0.000022 [σ²=0.000000]]"
     ]
    },
    {
     "name": "stdout",
     "output_type": "stream",
     "text": [
      "--->> cal O and jac  0.03844094276428223\n",
      "compute_update  0.04172706604003906\n",
      "(0.038615472794332556+0j)\n",
      "n_discard =  144\n",
      "discard samples 1.6608610153198242\n",
      "n_samples_node =  1000\n",
      "generate_samples :  11.48672103881836\n",
      "     prepare getting local values 0.002530813217163086\n",
      "     obtained local values 0.00830388069152832\n",
      "get_mc_stats 0.012218952178955078\n"
     ]
    },
    {
     "name": "stderr",
     "output_type": "stream",
     "text": [
      " 58%|█████▊    | 576/1000 [2:07:46<1:33:43, 13.26s/it, Energy=-2.105775+0.000000j ± 0.000023 [σ²=0.000000]]"
     ]
    },
    {
     "name": "stdout",
     "output_type": "stream",
     "text": [
      "--->> cal O and jac  0.03765082359313965\n",
      "compute_update  0.041159868240356445\n",
      "(0.038606775817451026+0j)\n",
      "n_discard =  144\n",
      "discard samples 1.6563692092895508\n",
      "n_samples_node =  1000\n",
      "generate_samples :  11.45147180557251\n",
      "     prepare getting local values 0.002093076705932617\n",
      "     obtained local values 0.007795095443725586\n",
      "get_mc_stats 0.012520074844360352\n"
     ]
    },
    {
     "name": "stderr",
     "output_type": "stream",
     "text": [
      " 58%|█████▊    | 577/1000 [2:07:59<1:33:17, 13.23s/it, Energy=-2.105790+0.000000j ± 0.000024 [σ²=0.000000]]"
     ]
    },
    {
     "name": "stdout",
     "output_type": "stream",
     "text": [
      "--->> cal O and jac  0.03587794303894043\n",
      "compute_update  0.03909921646118164\n",
      "(0.03859915075790847+0j)\n",
      "n_discard =  144\n",
      "discard samples 1.705981969833374\n",
      "n_samples_node =  1000\n",
      "generate_samples :  11.458237886428833\n",
      "     prepare getting local values 0.002363920211791992\n",
      "     obtained local values 0.008147954940795898\n",
      "get_mc_stats 0.012447118759155273\n"
     ]
    },
    {
     "name": "stderr",
     "output_type": "stream",
     "text": [
      " 58%|█████▊    | 578/1000 [2:08:13<1:33:02, 13.23s/it, Energy=-2.105818+0.000000j ± 0.000021 [σ²=0.000000]]"
     ]
    },
    {
     "name": "stdout",
     "output_type": "stream",
     "text": [
      "--->> cal O and jac  0.037698984146118164\n",
      "compute_update  0.040976762771606445\n",
      "(0.038592468310450906+0j)\n",
      "n_discard =  144\n",
      "discard samples 1.6684460639953613\n",
      "n_samples_node =  1000\n",
      "generate_samples :  11.44569993019104\n",
      "     prepare getting local values 0.002226114273071289\n",
      "     obtained local values 0.00793004035949707\n",
      "get_mc_stats 0.012156963348388672\n"
     ]
    },
    {
     "name": "stderr",
     "output_type": "stream",
     "text": [
      " 58%|█████▊    | 579/1000 [2:08:26<1:32:42, 13.21s/it, Energy=-2.105839+0.000000j ± 0.000020 [σ²=0.000000]]"
     ]
    },
    {
     "name": "stdout",
     "output_type": "stream",
     "text": [
      "--->> cal O and jac  0.0415186882019043\n",
      "compute_update  0.04491281509399414\n",
      "(0.03858522781945502+0j)\n",
      "n_discard =  144\n",
      "discard samples 1.6618869304656982\n",
      "n_samples_node =  1000\n",
      "generate_samples :  11.469829082489014\n",
      "     prepare getting local values 0.002173900604248047\n",
      "     obtained local values 0.007554769515991211\n",
      "get_mc_stats 0.011670112609863281\n"
     ]
    },
    {
     "name": "stderr",
     "output_type": "stream",
     "text": [
      " 58%|█████▊    | 580/1000 [2:08:39<1:32:25, 13.20s/it, Energy=-2.105831+0.000000j ± 0.000025 [σ²=0.000000]]"
     ]
    },
    {
     "name": "stdout",
     "output_type": "stream",
     "text": [
      "--->> cal O and jac  0.03662514686584473\n",
      "compute_update  0.03977799415588379\n",
      "(0.03857765912640527+0j)\n",
      "n_discard =  144\n",
      "discard samples 1.6554608345031738\n",
      "n_samples_node =  1000\n",
      "generate_samples :  11.596718072891235\n",
      "     prepare getting local values 0.002338886260986328\n",
      "     obtained local values 0.008183002471923828\n",
      "get_mc_stats 0.012396097183227539\n"
     ]
    },
    {
     "name": "stderr",
     "output_type": "stream",
     "text": [
      " 58%|█████▊    | 581/1000 [2:08:52<1:32:25, 13.23s/it, Energy=-2.105788+0.000000j ± 0.000017 [σ²=0.000000]]"
     ]
    },
    {
     "name": "stdout",
     "output_type": "stream",
     "text": [
      "--->> cal O and jac  0.03627204895019531\n",
      "compute_update  0.03936886787414551\n",
      "(0.03857047573620568+0j)\n",
      "n_discard =  144\n",
      "discard samples 1.6589291095733643\n",
      "n_samples_node =  1000\n",
      "generate_samples :  11.447390079498291\n",
      "     prepare getting local values 0.0026340484619140625\n",
      "     obtained local values 0.008326053619384766\n",
      "get_mc_stats 0.012801170349121094\n"
     ]
    },
    {
     "name": "stderr",
     "output_type": "stream",
     "text": [
      " 58%|█████▊    | 582/1000 [2:09:06<1:32:02, 13.21s/it, Energy=-2.105847+0.000000j ± 0.000019 [σ²=0.000000]]"
     ]
    },
    {
     "name": "stdout",
     "output_type": "stream",
     "text": [
      "--->> cal O and jac  0.03626894950866699\n",
      "compute_update  0.03954911231994629\n",
      "(0.03856522546568071+0j)\n",
      "n_discard =  144\n",
      "discard samples 1.6560900211334229\n",
      "n_samples_node =  1000\n",
      "generate_samples :  11.430450916290283\n",
      "     prepare getting local values 0.0026619434356689453\n",
      "     obtained local values 0.008370161056518555\n",
      "get_mc_stats 0.01253199577331543\n"
     ]
    },
    {
     "name": "stderr",
     "output_type": "stream",
     "text": [
      " 58%|█████▊    | 583/1000 [2:09:19<1:31:40, 13.19s/it, Energy=-2.105818+0.000000j ± 0.000023 [σ²=0.000000]]"
     ]
    },
    {
     "name": "stdout",
     "output_type": "stream",
     "text": [
      "--->> cal O and jac  0.03797793388366699\n",
      "compute_update  0.04129195213317871\n",
      "(0.03855867050264697+0j)\n",
      "n_discard =  144\n",
      "discard samples 1.657019853591919\n",
      "n_samples_node =  1000\n",
      "generate_samples :  11.479104995727539\n",
      "     prepare getting local values 0.0023810863494873047\n",
      "     obtained local values 0.010328054428100586\n",
      "get_mc_stats 0.014544010162353516\n"
     ]
    },
    {
     "name": "stderr",
     "output_type": "stream",
     "text": [
      " 58%|█████▊    | 584/1000 [2:09:32<1:31:27, 13.19s/it, Energy=-2.105809+0.000000j ± 0.000018 [σ²=0.000000]]"
     ]
    },
    {
     "name": "stdout",
     "output_type": "stream",
     "text": [
      "--->> cal O and jac  0.035932064056396484\n",
      "compute_update  0.03896903991699219\n",
      "(0.03855198631350152+0j)\n",
      "n_discard =  144\n",
      "discard samples 1.654648780822754\n",
      "n_samples_node =  1000\n",
      "generate_samples :  11.439295053482056\n",
      "     prepare getting local values 0.0023491382598876953\n",
      "     obtained local values 0.008281230926513672\n",
      "get_mc_stats 0.012867927551269531\n"
     ]
    },
    {
     "name": "stderr",
     "output_type": "stream",
     "text": [
      " 58%|█████▊    | 585/1000 [2:09:45<1:31:09, 13.18s/it, Energy=-2.105791+0.000000j ± 0.000021 [σ²=0.000000]]"
     ]
    },
    {
     "name": "stdout",
     "output_type": "stream",
     "text": [
      "--->> cal O and jac  0.037877798080444336\n",
      "compute_update  0.041062116622924805\n",
      "(0.03854374899572443+0j)\n",
      "n_discard =  144\n",
      "discard samples 1.6993930339813232\n",
      "n_samples_node =  1000\n",
      "generate_samples :  11.478126049041748\n",
      "     prepare getting local values 0.002106189727783203\n",
      "     obtained local values 0.007803201675415039\n",
      "get_mc_stats 0.01180720329284668\n"
     ]
    },
    {
     "name": "stderr",
     "output_type": "stream",
     "text": [
      " 59%|█████▊    | 586/1000 [2:09:58<1:31:02, 13.20s/it, Energy=-2.105779+0.000000j ± 0.000024 [σ²=0.000000]]"
     ]
    },
    {
     "name": "stdout",
     "output_type": "stream",
     "text": [
      "--->> cal O and jac  0.0382232666015625\n",
      "compute_update  0.041239023208618164\n",
      "(0.03853648424899853+0j)\n",
      "n_discard =  144\n",
      "discard samples 1.6532719135284424\n",
      "n_samples_node =  1000\n",
      "generate_samples :  11.79059910774231\n",
      "     prepare getting local values 0.0025053024291992188\n",
      "     obtained local values 0.009212255477905273\n",
      "get_mc_stats 0.015050172805786133\n"
     ]
    },
    {
     "name": "stderr",
     "output_type": "stream",
     "text": [
      " 59%|█████▊    | 587/1000 [2:10:12<1:31:28, 13.29s/it, Energy=-2.105830+0.000000j ± 0.000022 [σ²=0.000000]]"
     ]
    },
    {
     "name": "stdout",
     "output_type": "stream",
     "text": [
      "--->> cal O and jac  0.039465904235839844\n",
      "compute_update  0.04323601722717285\n",
      "(0.038529465239975136+0j)\n",
      "n_discard =  144\n",
      "discard samples 1.7237200736999512\n",
      "n_samples_node =  1000\n",
      "generate_samples :  12.188878059387207\n",
      "     prepare getting local values 0.0032269954681396484\n",
      "     obtained local values 0.009482145309448242\n",
      "get_mc_stats 0.014899015426635742\n"
     ]
    },
    {
     "name": "stderr",
     "output_type": "stream",
     "text": [
      " 59%|█████▉    | 588/1000 [2:10:26<1:32:39, 13.49s/it, Energy=-2.105803+0.000000j ± 0.000021 [σ²=0.000000]]"
     ]
    },
    {
     "name": "stdout",
     "output_type": "stream",
     "text": [
      "--->> cal O and jac  0.03949403762817383\n",
      "compute_update  0.04272007942199707\n",
      "(0.03852226332774717+0j)\n",
      "n_discard =  144\n",
      "discard samples 1.7163171768188477\n",
      "n_samples_node =  1000\n",
      "generate_samples :  11.429348230361938\n",
      "     prepare getting local values 0.0021419525146484375\n",
      "     obtained local values 0.008026123046875\n",
      "get_mc_stats 0.012263298034667969\n"
     ]
    },
    {
     "name": "stderr",
     "output_type": "stream",
     "text": [
      " 59%|█████▉    | 589/1000 [2:10:39<1:31:49, 13.41s/it, Energy=-2.105827+0.000000j ± 0.000023 [σ²=0.000000]]"
     ]
    },
    {
     "name": "stdout",
     "output_type": "stream",
     "text": [
      "--->> cal O and jac  0.03800392150878906\n",
      "compute_update  0.041249990463256836\n",
      "(0.038515255423851334+0j)\n",
      "n_discard =  144\n",
      "discard samples 1.670166015625\n",
      "n_samples_node =  1000\n",
      "generate_samples :  11.703576803207397\n",
      "     prepare getting local values 0.0023958683013916016\n",
      "     obtained local values 0.008318901062011719\n",
      "get_mc_stats 0.012480020523071289\n"
     ]
    },
    {
     "name": "stderr",
     "output_type": "stream",
     "text": [
      " 59%|█████▉    | 590/1000 [2:10:52<1:31:39, 13.41s/it, Energy=-2.105780+0.000000j ± 0.000022 [σ²=0.000000]]"
     ]
    },
    {
     "name": "stdout",
     "output_type": "stream",
     "text": [
      "--->> cal O and jac  0.0373530387878418\n",
      "compute_update  0.040719032287597656\n",
      "(0.038507443274523656+0j)\n",
      "n_discard =  144\n",
      "discard samples 1.6667771339416504\n",
      "n_samples_node =  1000\n",
      "generate_samples :  11.82260799407959\n",
      "     prepare getting local values 0.0022988319396972656\n",
      "     obtained local values 0.008258819580078125\n",
      "get_mc_stats 0.013931035995483398\n"
     ]
    },
    {
     "name": "stderr",
     "output_type": "stream",
     "text": [
      " 59%|█████▉    | 591/1000 [2:11:06<1:31:42, 13.45s/it, Energy=-2.105820+0.000000j ± 0.000019 [σ²=0.000000]]"
     ]
    },
    {
     "name": "stdout",
     "output_type": "stream",
     "text": [
      "--->> cal O and jac  0.03760194778442383\n",
      "compute_update  0.04093575477600098\n",
      "(0.038500986362287895+0j)\n",
      "n_discard =  144\n",
      "discard samples 1.6616148948669434\n",
      "n_samples_node =  1000\n",
      "generate_samples :  11.521693229675293\n",
      "     prepare getting local values 0.0028030872344970703\n",
      "     obtained local values 0.009145975112915039\n",
      "get_mc_stats 0.014409065246582031\n"
     ]
    },
    {
     "name": "stderr",
     "output_type": "stream",
     "text": [
      " 59%|█████▉    | 592/1000 [2:11:19<1:31:03, 13.39s/it, Energy=-2.105875+0.000000j ± 0.000019 [σ²=0.000000]]"
     ]
    },
    {
     "name": "stdout",
     "output_type": "stream",
     "text": [
      "--->> cal O and jac  0.04020810127258301\n",
      "compute_update  0.04336810111999512\n",
      "(0.03849309036310993+0j)\n",
      "n_discard =  144\n",
      "discard samples 1.65175199508667\n",
      "n_samples_node =  1000\n",
      "generate_samples :  11.40217924118042\n",
      "     prepare getting local values 0.00251007080078125\n",
      "     obtained local values 0.008259057998657227\n",
      "get_mc_stats 0.012598991394042969\n"
     ]
    },
    {
     "name": "stderr",
     "output_type": "stream",
     "text": [
      " 59%|█████▉    | 593/1000 [2:11:32<1:30:15, 13.31s/it, Energy=-2.105811+0.000000j ± 0.000019 [σ²=0.000000]]"
     ]
    },
    {
     "name": "stdout",
     "output_type": "stream",
     "text": [
      "--->> cal O and jac  0.035936832427978516\n",
      "compute_update  0.039067983627319336\n",
      "(0.038485130635438+0j)\n",
      "n_discard =  144\n",
      "discard samples 1.6999759674072266\n",
      "n_samples_node =  1000\n",
      "generate_samples :  11.434470176696777\n",
      "     prepare getting local values 0.002473115921020508\n",
      "     obtained local values 0.008272171020507812\n",
      "get_mc_stats 0.01267099380493164\n"
     ]
    },
    {
     "name": "stderr",
     "output_type": "stream",
     "text": [
      " 59%|█████▉    | 594/1000 [2:11:45<1:29:52, 13.28s/it, Energy=-2.105815+0.000000j ± 0.000016 [σ²=0.000000]]"
     ]
    },
    {
     "name": "stdout",
     "output_type": "stream",
     "text": [
      "--->> cal O and jac  0.06828999519348145\n",
      "compute_update  0.07340598106384277\n",
      "(0.038477476350118174+0j)\n",
      "n_discard =  144\n",
      "discard samples 1.8141276836395264\n",
      "n_samples_node =  1000\n",
      "generate_samples :  11.341762781143188\n",
      "     prepare getting local values 0.0025086402893066406\n",
      "     obtained local values 0.008325815200805664\n",
      "get_mc_stats 0.012809991836547852\n"
     ]
    },
    {
     "name": "stderr",
     "output_type": "stream",
     "text": [
      " 60%|█████▉    | 595/1000 [2:11:59<1:29:30, 13.26s/it, Energy=-2.105827+0.000000j ± 0.000016 [σ²=0.000000]]"
     ]
    },
    {
     "name": "stdout",
     "output_type": "stream",
     "text": [
      "--->> cal O and jac  0.040119171142578125\n",
      "compute_update  0.0433652400970459\n",
      "(0.03846913969409822+0j)\n",
      "n_discard =  144\n",
      "discard samples 1.6489007472991943\n",
      "n_samples_node =  1000\n",
      "generate_samples :  11.435046911239624\n",
      "     prepare getting local values 0.002483844757080078\n",
      "     obtained local values 0.008399009704589844\n",
      "get_mc_stats 0.01260995864868164\n"
     ]
    },
    {
     "name": "stderr",
     "output_type": "stream",
     "text": [
      " 60%|█████▉    | 596/1000 [2:12:12<1:29:02, 13.23s/it, Energy=-2.105789+0.000000j ± 0.000017 [σ²=0.000000]]"
     ]
    },
    {
     "name": "stdout",
     "output_type": "stream",
     "text": [
      "--->> cal O and jac  0.03844118118286133\n",
      "compute_update  0.04208707809448242\n",
      "(0.03846058010281997+0j)\n",
      "n_discard =  144\n",
      "discard samples 1.7985107898712158\n",
      "n_samples_node =  1000\n",
      "generate_samples :  11.579468011856079\n",
      "     prepare getting local values 0.002234220504760742\n",
      "     obtained local values 0.007861137390136719\n",
      "get_mc_stats 0.011826276779174805\n"
     ]
    },
    {
     "name": "stderr",
     "output_type": "stream",
     "text": [
      " 60%|█████▉    | 597/1000 [2:12:25<1:29:14, 13.29s/it, Energy=-2.105802+0.000000j ± 0.000021 [σ²=0.000000]]"
     ]
    },
    {
     "name": "stdout",
     "output_type": "stream",
     "text": [
      "--->> cal O and jac  0.03858804702758789\n",
      "compute_update  0.04161500930786133\n",
      "(0.038452910000079214+0j)\n",
      "n_discard =  144\n",
      "discard samples 1.6723687648773193\n",
      "n_samples_node =  1000\n",
      "generate_samples :  11.35389494895935\n",
      "     prepare getting local values 0.0022928714752197266\n",
      "     obtained local values 0.00803685188293457\n",
      "get_mc_stats 0.011982917785644531\n"
     ]
    },
    {
     "name": "stderr",
     "output_type": "stream",
     "text": [
      " 60%|█████▉    | 598/1000 [2:12:38<1:28:36, 13.23s/it, Energy=-2.105816+0.000000j ± 0.000017 [σ²=0.000000]]"
     ]
    },
    {
     "name": "stdout",
     "output_type": "stream",
     "text": [
      "--->> cal O and jac  0.0355226993560791\n",
      "compute_update  0.038620710372924805\n",
      "(0.03844471071569432+0j)\n",
      "n_discard =  144\n",
      "discard samples 1.6459589004516602\n",
      "n_samples_node =  1000\n",
      "generate_samples :  11.682785987854004\n",
      "     prepare getting local values 0.0023391246795654297\n",
      "     obtained local values 0.008188247680664062\n",
      "get_mc_stats 0.014058113098144531\n"
     ]
    },
    {
     "name": "stderr",
     "output_type": "stream",
     "text": [
      " 60%|█████▉    | 599/1000 [2:12:52<1:28:43, 13.28s/it, Energy=-2.105811+0.000000j ± 0.000020 [σ²=0.000000]]"
     ]
    },
    {
     "name": "stdout",
     "output_type": "stream",
     "text": [
      "--->> cal O and jac  0.04448890686035156\n",
      "compute_update  0.04785585403442383\n",
      "(0.038436829129099154+0j)\n",
      "n_discard =  144\n",
      "discard samples 1.6502430438995361\n",
      "n_samples_node =  1000\n",
      "generate_samples :  11.361260175704956\n",
      "     prepare getting local values 0.0023679733276367188\n",
      "     obtained local values 0.008117914199829102\n",
      "get_mc_stats 0.012223958969116211\n"
     ]
    },
    {
     "name": "stderr",
     "output_type": "stream",
     "text": [
      " 60%|██████    | 600/1000 [2:13:05<1:28:05, 13.21s/it, Energy=-2.105790+0.000000j ± 0.000018 [σ²=0.000000]]"
     ]
    },
    {
     "name": "stdout",
     "output_type": "stream",
     "text": [
      "--->> cal O and jac  0.037325143814086914\n",
      "compute_update  0.040693044662475586\n",
      "(0.03842829232450555+0j)\n",
      "n_discard =  144\n",
      "discard samples 1.6513090133666992\n",
      "n_samples_node =  1000\n",
      "generate_samples :  11.475506067276001\n",
      "     prepare getting local values 0.002355813980102539\n",
      "     obtained local values 0.008049964904785156\n",
      "get_mc_stats 0.012186050415039062\n"
     ]
    },
    {
     "name": "stderr",
     "output_type": "stream",
     "text": [
      " 60%|██████    | 601/1000 [2:13:18<1:27:48, 13.20s/it, Energy=-2.105811+0.000000j ± 0.000017 [σ²=0.000000]]"
     ]
    },
    {
     "name": "stdout",
     "output_type": "stream",
     "text": [
      "--->> cal O and jac  0.040498971939086914\n",
      "compute_update  0.04404306411743164\n",
      "(0.03841943838256103+0j)\n",
      "n_discard =  144\n",
      "discard samples 1.6530611515045166\n",
      "n_samples_node =  1000\n",
      "generate_samples :  11.37551999092102\n",
      "     prepare getting local values 0.002496004104614258\n",
      "     obtained local values 0.00826716423034668\n",
      "get_mc_stats 0.012079000473022461\n"
     ]
    },
    {
     "name": "stderr",
     "output_type": "stream",
     "text": [
      " 60%|██████    | 602/1000 [2:13:31<1:27:20, 13.17s/it, Energy=-2.105821+0.000000j ± 0.000018 [σ²=0.000000]]"
     ]
    },
    {
     "name": "stdout",
     "output_type": "stream",
     "text": [
      "--->> cal O and jac  0.03686809539794922\n",
      "compute_update  0.04020190238952637\n",
      "(0.038410774969658446+0j)\n",
      "n_discard =  144\n",
      "discard samples 1.6519908905029297\n",
      "n_samples_node =  1000\n",
      "generate_samples :  11.376405239105225\n",
      "     prepare getting local values 0.002109050750732422\n",
      "     obtained local values 0.007915019989013672\n",
      "get_mc_stats 0.012156009674072266\n"
     ]
    },
    {
     "name": "stderr",
     "output_type": "stream",
     "text": [
      " 60%|██████    | 603/1000 [2:13:44<1:26:58, 13.14s/it, Energy=-2.105827+0.000000j ± 0.000018 [σ²=0.000000]]"
     ]
    },
    {
     "name": "stdout",
     "output_type": "stream",
     "text": [
      "--->> cal O and jac  0.042630910873413086\n",
      "compute_update  0.04617786407470703\n",
      "(0.03840171172088557+0j)\n",
      "n_discard =  144\n",
      "discard samples 1.689208745956421\n",
      "n_samples_node =  1000\n",
      "generate_samples :  11.38683795928955\n",
      "     prepare getting local values 0.0024547576904296875\n",
      "     obtained local values 0.008157968521118164\n",
      "get_mc_stats 0.01268625259399414\n"
     ]
    },
    {
     "name": "stderr",
     "output_type": "stream",
     "text": [
      " 60%|██████    | 604/1000 [2:13:57<1:26:43, 13.14s/it, Energy=-2.105830+0.000000j ± 0.000018 [σ²=0.000000]]"
     ]
    },
    {
     "name": "stdout",
     "output_type": "stream",
     "text": [
      "--->> cal O and jac  0.0375368595123291\n",
      "compute_update  0.04097294807434082\n",
      "(0.03839320380198608+0j)\n",
      "n_discard =  144\n",
      "discard samples 1.6494059562683105\n",
      "n_samples_node =  1000\n",
      "generate_samples :  11.4144868850708\n",
      "     prepare getting local values 0.002401113510131836\n",
      "     obtained local values 0.007912874221801758\n",
      "get_mc_stats 0.01218104362487793\n"
     ]
    },
    {
     "name": "stderr",
     "output_type": "stream",
     "text": [
      " 60%|██████    | 605/1000 [2:14:10<1:26:27, 13.13s/it, Energy=-2.105785+0.000000j ± 0.000016 [σ²=0.000000]]"
     ]
    },
    {
     "name": "stdout",
     "output_type": "stream",
     "text": [
      "--->> cal O and jac  0.03661489486694336\n",
      "compute_update  0.0397188663482666\n",
      "(0.038384883336845865+0j)\n",
      "n_discard =  144\n",
      "discard samples 1.6482601165771484\n",
      "n_samples_node =  1000\n",
      "generate_samples :  11.36207914352417\n",
      "     prepare getting local values 0.0023491382598876953\n",
      "     obtained local values 0.008102893829345703\n",
      "get_mc_stats 0.012070178985595703\n"
     ]
    },
    {
     "name": "stderr",
     "output_type": "stream",
     "text": [
      " 61%|██████    | 606/1000 [2:14:23<1:26:08, 13.12s/it, Energy=-2.105816+0.000000j ± 0.000016 [σ²=0.000000]]"
     ]
    },
    {
     "name": "stdout",
     "output_type": "stream",
     "text": [
      "--->> cal O and jac  0.04870486259460449\n",
      "compute_update  0.05210590362548828\n",
      "(0.03837573619154+0j)\n",
      "n_discard =  144\n",
      "discard samples 1.649312973022461\n",
      "n_samples_node =  1000\n",
      "generate_samples :  11.402013778686523\n",
      "     prepare getting local values 0.0021920204162597656\n",
      "     obtained local values 0.00783395767211914\n",
      "get_mc_stats 0.011955976486206055\n"
     ]
    },
    {
     "name": "stderr",
     "output_type": "stream",
     "text": [
      " 61%|██████    | 607/1000 [2:14:37<1:25:53, 13.11s/it, Energy=-2.105829+0.000000j ± 0.000017 [σ²=0.000000]]"
     ]
    },
    {
     "name": "stdout",
     "output_type": "stream",
     "text": [
      "--->> cal O and jac  0.03857922554016113\n",
      "compute_update  0.04159808158874512\n",
      "(0.03836817234103436+0j)\n",
      "n_discard =  144\n",
      "discard samples 1.6494460105895996\n",
      "n_samples_node =  1000\n",
      "generate_samples :  11.461688995361328\n",
      "     prepare getting local values 0.0026159286499023438\n",
      "     obtained local values 0.008691072463989258\n",
      "get_mc_stats 0.013167858123779297\n"
     ]
    },
    {
     "name": "stderr",
     "output_type": "stream",
     "text": [
      " 61%|██████    | 608/1000 [2:14:50<1:25:47, 13.13s/it, Energy=-2.105834+0.000000j ± 0.000015 [σ²=0.000000]]"
     ]
    },
    {
     "name": "stdout",
     "output_type": "stream",
     "text": [
      "--->> cal O and jac  0.03952789306640625\n",
      "compute_update  0.043657779693603516\n",
      "(0.038360431666359954+0j)\n",
      "n_discard =  144\n",
      "discard samples 1.677286148071289\n",
      "n_samples_node =  1000\n",
      "generate_samples :  11.379174947738647\n",
      "     prepare getting local values 0.002271890640258789\n",
      "     obtained local values 0.00810384750366211\n",
      "get_mc_stats 0.012514114379882812\n"
     ]
    },
    {
     "name": "stderr",
     "output_type": "stream",
     "text": [
      " 61%|██████    | 609/1000 [2:15:03<1:25:32, 13.13s/it, Energy=-2.105821+0.000000j ± 0.000020 [σ²=0.000000]]"
     ]
    },
    {
     "name": "stdout",
     "output_type": "stream",
     "text": [
      "--->> cal O and jac  0.03962969779968262\n",
      "compute_update  0.043007850646972656\n",
      "(0.038352083052814144+0j)\n",
      "n_discard =  144\n",
      "discard samples 1.6528120040893555\n",
      "n_samples_node =  1000\n",
      "generate_samples :  11.349174976348877\n",
      "     prepare getting local values 0.003011941909790039\n",
      "     obtained local values 0.008741140365600586\n",
      "get_mc_stats 0.012972116470336914\n"
     ]
    },
    {
     "name": "stderr",
     "output_type": "stream",
     "text": [
      " 61%|██████    | 610/1000 [2:15:16<1:25:11, 13.11s/it, Energy=-2.105792+0.000000j ± 0.000014 [σ²=0.000000]]"
     ]
    },
    {
     "name": "stdout",
     "output_type": "stream",
     "text": [
      "--->> cal O and jac  0.039071083068847656\n",
      "compute_update  0.04250192642211914\n",
      "(0.038344176974097456+0j)\n",
      "n_discard =  144\n",
      "discard samples 1.6519370079040527\n",
      "n_samples_node =  1000\n",
      "generate_samples :  11.350975036621094\n",
      "     prepare getting local values 0.002187013626098633\n",
      "     obtained local values 0.00810694694519043\n",
      "get_mc_stats 0.012236833572387695\n"
     ]
    },
    {
     "name": "stderr",
     "output_type": "stream",
     "text": [
      " 61%|██████    | 611/1000 [2:15:29<1:24:52, 13.09s/it, Energy=-2.105825+0.000000j ± 0.000018 [σ²=0.000000]]"
     ]
    },
    {
     "name": "stdout",
     "output_type": "stream",
     "text": [
      "--->> cal O and jac  0.03691911697387695\n",
      "compute_update  0.04056596755981445\n",
      "(0.03833522065595673+0j)\n",
      "n_discard =  144\n",
      "discard samples 1.645251750946045\n",
      "n_samples_node =  1000\n",
      "generate_samples :  11.382647037506104\n",
      "     prepare getting local values 0.0024199485778808594\n",
      "     obtained local values 0.008152008056640625\n",
      "get_mc_stats 0.012565135955810547\n"
     ]
    },
    {
     "name": "stderr",
     "output_type": "stream",
     "text": [
      " 61%|██████    | 612/1000 [2:15:42<1:24:38, 13.09s/it, Energy=-2.105821+0.000000j ± 0.000018 [σ²=0.000000]]"
     ]
    },
    {
     "name": "stdout",
     "output_type": "stream",
     "text": [
      "--->> cal O and jac  0.0361478328704834\n",
      "compute_update  0.03943681716918945\n",
      "(0.03832743392291535+0j)\n",
      "n_discard =  144\n",
      "discard samples 1.652061939239502\n",
      "n_samples_node =  1000\n",
      "generate_samples :  11.388672828674316\n",
      "     prepare getting local values 0.001935720443725586\n",
      "     obtained local values 0.007780790328979492\n",
      "get_mc_stats 0.011811017990112305\n"
     ]
    },
    {
     "name": "stderr",
     "output_type": "stream",
     "text": [
      " 61%|██████▏   | 613/1000 [2:15:55<1:24:26, 13.09s/it, Energy=-2.105799+0.000000j ± 0.000020 [σ²=0.000000]]"
     ]
    },
    {
     "name": "stdout",
     "output_type": "stream",
     "text": [
      "--->> cal O and jac  0.036299943923950195\n",
      "compute_update  0.03994894027709961\n",
      "(0.03831867431526089+0j)\n",
      "n_discard =  144\n",
      "discard samples 1.649596929550171\n",
      "n_samples_node =  1000\n",
      "generate_samples :  11.352755308151245\n",
      "     prepare getting local values 0.0021021366119384766\n",
      "     obtained local values 0.007795095443725586\n",
      "get_mc_stats 0.012032032012939453\n"
     ]
    },
    {
     "name": "stderr",
     "output_type": "stream",
     "text": [
      " 61%|██████▏   | 614/1000 [2:16:08<1:24:09, 13.08s/it, Energy=-2.105819+0.000000j ± 0.000019 [σ²=0.000000]]"
     ]
    },
    {
     "name": "stdout",
     "output_type": "stream",
     "text": [
      "--->> cal O and jac  0.03716874122619629\n",
      "compute_update  0.04070591926574707\n",
      "(0.038311441373753044+0j)\n",
      "n_discard =  144\n",
      "discard samples 1.6538150310516357\n",
      "n_samples_node =  1000\n",
      "generate_samples :  11.354626178741455\n",
      "     prepare getting local values 0.0020799636840820312\n",
      "     obtained local values 0.0077669620513916016\n",
      "get_mc_stats 0.011998891830444336\n"
     ]
    },
    {
     "name": "stderr",
     "output_type": "stream",
     "text": [
      " 62%|██████▏   | 615/1000 [2:16:21<1:23:54, 13.08s/it, Energy=-2.105832+0.000000j ± 0.000016 [σ²=0.000000]]"
     ]
    },
    {
     "name": "stdout",
     "output_type": "stream",
     "text": [
      "--->> cal O and jac  0.03752613067626953\n",
      "compute_update  0.040838003158569336\n",
      "(0.038303087294277165+0j)\n",
      "n_discard =  144\n",
      "discard samples 1.6479370594024658\n",
      "n_samples_node =  1000\n",
      "generate_samples :  11.346729040145874\n",
      "     prepare getting local values 0.0023429393768310547\n",
      "     obtained local values 0.008279085159301758\n",
      "get_mc_stats 0.012545108795166016\n"
     ]
    },
    {
     "name": "stderr",
     "output_type": "stream",
     "text": [
      " 62%|██████▏   | 616/1000 [2:16:34<1:23:37, 13.07s/it, Energy=-2.105811+0.000000j ± 0.000014 [σ²=0.000000]]"
     ]
    },
    {
     "name": "stdout",
     "output_type": "stream",
     "text": [
      "--->> cal O and jac  0.03486990928649902\n",
      "compute_update  0.03838992118835449\n",
      "(0.03829300309569306+0j)\n",
      "n_discard =  144\n",
      "discard samples 1.6476640701293945\n",
      "n_samples_node =  1000\n",
      "generate_samples :  11.528850317001343\n",
      "     prepare getting local values 0.0019321441650390625\n",
      "     obtained local values 0.007620096206665039\n",
      "get_mc_stats 0.012880086898803711\n"
     ]
    },
    {
     "name": "stderr",
     "output_type": "stream",
     "text": [
      " 62%|██████▏   | 617/1000 [2:16:48<1:23:44, 13.12s/it, Energy=-2.105824+0.000000j ± 0.000014 [σ²=0.000000]]"
     ]
    },
    {
     "name": "stdout",
     "output_type": "stream",
     "text": [
      "--->> cal O and jac  0.03995013236999512\n",
      "compute_update  0.04354095458984375\n",
      "(0.038284336994744074+0j)\n",
      "n_discard =  144\n",
      "discard samples 1.7682359218597412\n",
      "n_samples_node =  1000\n",
      "generate_samples :  11.38100290298462\n",
      "     prepare getting local values 0.002454996109008789\n",
      "     obtained local values 0.008358001708984375\n",
      "get_mc_stats 0.012223005294799805\n"
     ]
    },
    {
     "name": "stderr",
     "output_type": "stream",
     "text": [
      " 62%|██████▏   | 618/1000 [2:17:01<1:23:40, 13.14s/it, Energy=-2.105792+0.000000j ± 0.000015 [σ²=0.000000]]"
     ]
    },
    {
     "name": "stdout",
     "output_type": "stream",
     "text": [
      "--->> cal O and jac  0.037240028381347656\n",
      "compute_update  0.04075479507446289\n",
      "(0.03827551292734454+0j)\n",
      "n_discard =  144\n",
      "discard samples 1.6466279029846191\n",
      "n_samples_node =  1000\n",
      "generate_samples :  11.516192197799683\n",
      "     prepare getting local values 0.002312898635864258\n",
      "     obtained local values 0.008134841918945312\n",
      "get_mc_stats 0.012240171432495117\n"
     ]
    },
    {
     "name": "stderr",
     "output_type": "stream",
     "text": [
      " 62%|██████▏   | 619/1000 [2:17:14<1:23:36, 13.17s/it, Energy=-2.105792+0.000000j ± 0.000017 [σ²=0.000000]]"
     ]
    },
    {
     "name": "stdout",
     "output_type": "stream",
     "text": [
      "--->> cal O and jac  0.0362849235534668\n",
      "compute_update  0.03961777687072754\n",
      "(0.03826728166721464+0j)\n",
      "n_discard =  144\n",
      "discard samples 1.6821300983428955\n",
      "n_samples_node =  1000\n",
      "generate_samples :  11.812917947769165\n",
      "     prepare getting local values 0.0023941993713378906\n",
      "     obtained local values 0.008305072784423828\n",
      "get_mc_stats 0.01343989372253418\n"
     ]
    },
    {
     "name": "stderr",
     "output_type": "stream",
     "text": [
      " 62%|██████▏   | 620/1000 [2:17:28<1:24:07, 13.28s/it, Energy=-2.105824+0.000000j ± 0.000012 [σ²=0.000000]]"
     ]
    },
    {
     "name": "stdout",
     "output_type": "stream",
     "text": [
      "--->> cal O and jac  0.03887200355529785\n",
      "compute_update  0.04213285446166992\n",
      "(0.038259082971087856+0j)\n",
      "n_discard =  144\n",
      "discard samples 1.785966157913208\n",
      "n_samples_node =  1000\n",
      "generate_samples :  12.472643852233887\n",
      "     prepare getting local values 0.002429962158203125\n",
      "     obtained local values 0.008610725402832031\n",
      "get_mc_stats 0.014767885208129883\n"
     ]
    },
    {
     "name": "stderr",
     "output_type": "stream",
     "text": [
      " 62%|██████▏   | 621/1000 [2:17:42<1:25:53, 13.60s/it, Energy=-2.105823+0.000000j ± 0.000018 [σ²=0.000000]]"
     ]
    },
    {
     "name": "stdout",
     "output_type": "stream",
     "text": [
      "--->> cal O and jac  0.0482020378112793\n",
      "compute_update  0.05430006980895996\n",
      "(0.038250065155287914+0j)\n",
      "n_discard =  144\n",
      "discard samples 1.723405122756958\n",
      "n_samples_node =  1000\n",
      "generate_samples :  12.090787887573242\n",
      "     prepare getting local values 0.0031213760375976562\n",
      "     obtained local values 0.009351015090942383\n",
      "get_mc_stats 0.015040874481201172\n"
     ]
    },
    {
     "name": "stderr",
     "output_type": "stream",
     "text": [
      " 62%|██████▏   | 622/1000 [2:17:56<1:26:15, 13.69s/it, Energy=-2.105820+0.000000j ± 0.000016 [σ²=0.000000]]"
     ]
    },
    {
     "name": "stdout",
     "output_type": "stream",
     "text": [
      "--->> cal O and jac  0.077239990234375\n",
      "compute_update  0.08203506469726562\n",
      "(0.038241372802508056+0j)\n",
      "n_discard =  144\n",
      "discard samples 1.7158260345458984\n",
      "n_samples_node =  1000\n",
      "generate_samples :  12.108290910720825\n",
      "     prepare getting local values 0.0028870105743408203\n",
      "     obtained local values 0.01029205322265625\n",
      "get_mc_stats 0.01626300811767578\n"
     ]
    },
    {
     "name": "stderr",
     "output_type": "stream",
     "text": [
      " 62%|██████▏   | 623/1000 [2:18:10<1:26:24, 13.75s/it, Energy=-2.105808+0.000000j ± 0.000018 [σ²=0.000000]]"
     ]
    },
    {
     "name": "stdout",
     "output_type": "stream",
     "text": [
      "--->> cal O and jac  0.04484391212463379\n",
      "compute_update  0.04980301856994629\n",
      "(0.038232597017416915+0j)\n",
      "n_discard =  144\n",
      "discard samples 1.8441967964172363\n",
      "n_samples_node =  1000\n",
      "generate_samples :  11.654931783676147\n",
      "     prepare getting local values 0.002382040023803711\n",
      "     obtained local values 0.00801992416381836\n",
      "get_mc_stats 0.012102842330932617\n"
     ]
    },
    {
     "name": "stderr",
     "output_type": "stream",
     "text": [
      " 62%|██████▏   | 624/1000 [2:18:23<1:25:48, 13.69s/it, Energy=-2.105805+0.000000j ± 0.000018 [σ²=0.000000]]"
     ]
    },
    {
     "name": "stdout",
     "output_type": "stream",
     "text": [
      "--->> cal O and jac  0.03696727752685547\n",
      "compute_update  0.04066610336303711\n",
      "(0.038223665350880474+0j)\n",
      "n_discard =  144\n",
      "discard samples 1.68743896484375\n",
      "n_samples_node =  1000\n",
      "generate_samples :  11.400165319442749\n",
      "     prepare getting local values 0.0027801990509033203\n",
      "     obtained local values 0.00862884521484375\n",
      "get_mc_stats 0.012754201889038086\n"
     ]
    },
    {
     "name": "stderr",
     "output_type": "stream",
     "text": [
      " 62%|██████▎   | 625/1000 [2:18:36<1:24:33, 13.53s/it, Energy=-2.105788+0.000000j ± 0.000018 [σ²=0.000000]]"
     ]
    },
    {
     "name": "stdout",
     "output_type": "stream",
     "text": [
      "--->> cal O and jac  0.03717780113220215\n",
      "compute_update  0.04022097587585449\n",
      "(0.03821451637889521+0j)\n",
      "n_discard =  144\n",
      "discard samples 1.6484358310699463\n",
      "n_samples_node =  1000\n",
      "generate_samples :  11.572345972061157\n",
      "     prepare getting local values 0.0022687911987304688\n",
      "     obtained local values 0.00850367546081543\n",
      "get_mc_stats 0.015056848526000977\n"
     ]
    },
    {
     "name": "stderr",
     "output_type": "stream",
     "text": [
      " 63%|██████▎   | 626/1000 [2:18:50<1:23:52, 13.46s/it, Energy=-2.105821+0.000000j ± 0.000014 [σ²=0.000000]]"
     ]
    },
    {
     "name": "stdout",
     "output_type": "stream",
     "text": [
      "--->> cal O and jac  0.04569673538208008\n",
      "compute_update  0.04940295219421387\n",
      "(0.038206044981688746+0j)\n",
      "n_discard =  144\n",
      "discard samples 1.7676942348480225\n",
      "n_samples_node =  1000\n",
      "generate_samples :  11.568464994430542\n",
      "     prepare getting local values 0.0029299259185791016\n",
      "     obtained local values 0.008845806121826172\n",
      "get_mc_stats 0.012933969497680664\n"
     ]
    },
    {
     "name": "stderr",
     "output_type": "stream",
     "text": [
      " 63%|██████▎   | 627/1000 [2:19:03<1:23:31, 13.44s/it, Energy=-2.105793+0.000000j ± 0.000018 [σ²=0.000000]]"
     ]
    },
    {
     "name": "stdout",
     "output_type": "stream",
     "text": [
      "--->> cal O and jac  0.03679227828979492\n",
      "compute_update  0.039986371994018555\n",
      "(0.03819682048633995+0j)\n",
      "n_discard =  144\n",
      "discard samples 1.6974868774414062\n",
      "n_samples_node =  1000\n",
      "generate_samples :  11.490095853805542\n",
      "     prepare getting local values 0.0027129650115966797\n",
      "     obtained local values 0.008322000503540039\n",
      "get_mc_stats 0.012185811996459961\n"
     ]
    },
    {
     "name": "stderr",
     "output_type": "stream",
     "text": [
      " 63%|██████▎   | 628/1000 [2:19:16<1:22:57, 13.38s/it, Energy=-2.105858+0.000000j ± 0.000016 [σ²=0.000000]]"
     ]
    },
    {
     "name": "stdout",
     "output_type": "stream",
     "text": [
      "--->> cal O and jac  0.038244009017944336\n",
      "compute_update  0.04218292236328125\n",
      "(0.038188547199991194+0j)\n",
      "n_discard =  144\n",
      "discard samples 1.6623940467834473\n",
      "n_samples_node =  1000\n",
      "generate_samples :  11.422828912734985\n",
      "     prepare getting local values 0.002140045166015625\n",
      "     obtained local values 0.00805807113647461\n",
      "get_mc_stats 0.012235164642333984\n"
     ]
    },
    {
     "name": "stderr",
     "output_type": "stream",
     "text": [
      " 63%|██████▎   | 629/1000 [2:19:29<1:22:16, 13.31s/it, Energy=-2.105801+0.000000j ± 0.000012 [σ²=0.000000]]"
     ]
    },
    {
     "name": "stdout",
     "output_type": "stream",
     "text": [
      "--->> cal O and jac  0.03649783134460449\n",
      "compute_update  0.03980588912963867\n",
      "(0.038180143186522034+0j)\n",
      "n_discard =  144\n",
      "discard samples 1.7134950160980225\n",
      "n_samples_node =  1000\n",
      "generate_samples :  11.410468101501465\n",
      "     prepare getting local values 0.002240896224975586\n",
      "     obtained local values 0.007972955703735352\n",
      "get_mc_stats 0.01215219497680664\n"
     ]
    },
    {
     "name": "stderr",
     "output_type": "stream",
     "text": [
      " 63%|██████▎   | 630/1000 [2:19:43<1:21:49, 13.27s/it, Energy=-2.105812+0.000000j ± 0.000016 [σ²=0.000000]]"
     ]
    },
    {
     "name": "stdout",
     "output_type": "stream",
     "text": [
      "--->> cal O and jac  0.03805112838745117\n",
      "compute_update  0.04141592979431152\n",
      "(0.038172652219455414+0j)\n",
      "n_discard =  144\n",
      "discard samples 1.6588938236236572\n",
      "n_samples_node =  1000\n",
      "generate_samples :  11.500184059143066\n",
      "     prepare getting local values 0.002541780471801758\n",
      "     obtained local values 0.00824284553527832\n",
      "get_mc_stats 0.012538909912109375\n"
     ]
    },
    {
     "name": "stderr",
     "output_type": "stream",
     "text": [
      " 63%|██████▎   | 631/1000 [2:19:56<1:21:30, 13.25s/it, Energy=-2.105809+0.000000j ± 0.000016 [σ²=0.000000]]"
     ]
    },
    {
     "name": "stdout",
     "output_type": "stream",
     "text": [
      "--->> cal O and jac  0.038693904876708984\n",
      "compute_update  0.042196035385131836\n",
      "(0.03816452131324948+0j)\n",
      "n_discard =  144\n",
      "discard samples 1.652385950088501\n",
      "n_samples_node =  1000\n",
      "generate_samples :  11.414178133010864\n",
      "     prepare getting local values 0.001953125\n",
      "     obtained local values 0.007681131362915039\n",
      "get_mc_stats 0.011813163757324219\n"
     ]
    },
    {
     "name": "stderr",
     "output_type": "stream",
     "text": [
      " 63%|██████▎   | 632/1000 [2:20:09<1:21:02, 13.21s/it, Energy=-2.105799+0.000000j ± 0.000015 [σ²=0.000000]]"
     ]
    },
    {
     "name": "stdout",
     "output_type": "stream",
     "text": [
      "--->> cal O and jac  0.0361170768737793\n",
      "compute_update  0.03978085517883301\n",
      "(0.03815728682946614+0j)\n",
      "n_discard =  144\n",
      "discard samples 1.6671438217163086\n",
      "n_samples_node =  1000\n",
      "generate_samples :  11.484203100204468\n",
      "     prepare getting local values 0.002170085906982422\n",
      "     obtained local values 0.007842063903808594\n",
      "get_mc_stats 0.012082815170288086\n"
     ]
    },
    {
     "name": "stderr",
     "output_type": "stream",
     "text": [
      " 63%|██████▎   | 633/1000 [2:20:22<1:20:48, 13.21s/it, Energy=-2.105801+0.000000j ± 0.000012 [σ²=0.000000]]"
     ]
    },
    {
     "name": "stdout",
     "output_type": "stream",
     "text": [
      "--->> cal O and jac  0.03848981857299805\n",
      "compute_update  0.04248476028442383\n",
      "(0.03814925818846587+0j)\n",
      "n_discard =  144\n",
      "discard samples 1.6536729335784912\n",
      "n_samples_node =  1000\n",
      "generate_samples :  11.333800315856934\n",
      "     prepare getting local values 0.0022878646850585938\n",
      "     obtained local values 0.008054018020629883\n",
      "get_mc_stats 0.012429952621459961\n"
     ]
    },
    {
     "name": "stderr",
     "output_type": "stream",
     "text": [
      " 63%|██████▎   | 634/1000 [2:20:35<1:20:16, 13.16s/it, Energy=-2.105820+0.000000j ± 0.000017 [σ²=0.000000]]"
     ]
    },
    {
     "name": "stdout",
     "output_type": "stream",
     "text": [
      "--->> cal O and jac  0.036862850189208984\n",
      "compute_update  0.04017472267150879\n",
      "(0.03814127901477009+0j)\n",
      "n_discard =  144\n",
      "discard samples 1.6444180011749268\n",
      "n_samples_node =  1000\n",
      "generate_samples :  11.496464967727661\n",
      "     prepare getting local values 0.002275228500366211\n",
      "     obtained local values 0.00801992416381836\n",
      "get_mc_stats 0.012323856353759766\n"
     ]
    },
    {
     "name": "stderr",
     "output_type": "stream",
     "text": [
      " 64%|██████▎   | 635/1000 [2:20:48<1:20:08, 13.17s/it, Energy=-2.105817+0.000000j ± 0.000017 [σ²=0.000000]]"
     ]
    },
    {
     "name": "stdout",
     "output_type": "stream",
     "text": [
      "--->> cal O and jac  0.04321694374084473\n",
      "compute_update  0.04735398292541504\n",
      "(0.03813448523200469+0j)\n",
      "n_discard =  144\n",
      "discard samples 1.7739620208740234\n",
      "n_samples_node =  1000\n",
      "generate_samples :  11.56200385093689\n",
      "     prepare getting local values 0.002215147018432617\n",
      "     obtained local values 0.00806117057800293\n",
      "get_mc_stats 0.012284994125366211\n"
     ]
    },
    {
     "name": "stderr",
     "output_type": "stream",
     "text": [
      " 64%|██████▎   | 636/1000 [2:21:02<1:20:19, 13.24s/it, Energy=-2.105818+0.000000j ± 0.000016 [σ²=0.000000]]"
     ]
    },
    {
     "name": "stdout",
     "output_type": "stream",
     "text": [
      "--->> cal O and jac  0.038290977478027344\n",
      "compute_update  0.04186820983886719\n",
      "(0.038125861241799515+0j)\n",
      "n_discard =  144\n",
      "discard samples 1.648099660873413\n",
      "n_samples_node =  1000\n",
      "generate_samples :  11.442071199417114\n",
      "     prepare getting local values 0.0020890235900878906\n",
      "     obtained local values 0.007907867431640625\n",
      "get_mc_stats 0.012011051177978516\n"
     ]
    },
    {
     "name": "stderr",
     "output_type": "stream",
     "text": [
      " 64%|██████▎   | 637/1000 [2:21:15<1:19:55, 13.21s/it, Energy=-2.105814+0.000000j ± 0.000019 [σ²=0.000000]]"
     ]
    },
    {
     "name": "stdout",
     "output_type": "stream",
     "text": [
      "--->> cal O and jac  0.03681302070617676\n",
      "compute_update  0.04048728942871094\n",
      "(0.03811768792422341+0j)\n",
      "n_discard =  144\n",
      "discard samples 1.651427984237671\n",
      "n_samples_node =  1000\n",
      "generate_samples :  11.377832889556885\n",
      "     prepare getting local values 0.0022039413452148438\n",
      "     obtained local values 0.007884979248046875\n",
      "get_mc_stats 0.011972904205322266\n"
     ]
    },
    {
     "name": "stderr",
     "output_type": "stream",
     "text": [
      " 64%|██████▍   | 638/1000 [2:21:28<1:19:28, 13.17s/it, Energy=-2.105826+0.000000j ± 0.000013 [σ²=0.000000]]"
     ]
    },
    {
     "name": "stdout",
     "output_type": "stream",
     "text": [
      "--->> cal O and jac  0.03935408592224121\n",
      "compute_update  0.042449951171875\n",
      "(0.03810915014947331+0j)\n",
      "n_discard =  144\n",
      "discard samples 1.680199146270752\n",
      "n_samples_node =  1000\n",
      "generate_samples :  11.501827239990234\n",
      "     prepare getting local values 0.002119779586791992\n",
      "     obtained local values 0.008050918579101562\n",
      "get_mc_stats 0.012449979782104492\n"
     ]
    },
    {
     "name": "stderr",
     "output_type": "stream",
     "text": [
      " 64%|██████▍   | 639/1000 [2:21:41<1:19:22, 13.19s/it, Energy=-2.105810+0.000000j ± 0.000019 [σ²=0.000000]]"
     ]
    },
    {
     "name": "stdout",
     "output_type": "stream",
     "text": [
      "--->> cal O and jac  0.0390317440032959\n",
      "compute_update  0.042730093002319336\n",
      "(0.038100724739283005+0j)\n",
      "n_discard =  144\n",
      "discard samples 1.682013988494873\n",
      "n_samples_node =  1000\n",
      "generate_samples :  11.433829307556152\n",
      "     prepare getting local values 0.002155780792236328\n",
      "     obtained local values 0.008064031600952148\n",
      "get_mc_stats 0.01241302490234375\n"
     ]
    },
    {
     "name": "stderr",
     "output_type": "stream",
     "text": [
      " 64%|██████▍   | 640/1000 [2:21:54<1:19:07, 13.19s/it, Energy=-2.105838+0.000000j ± 0.000019 [σ²=0.000000]]"
     ]
    },
    {
     "name": "stdout",
     "output_type": "stream",
     "text": [
      "--->> cal O and jac  0.036103248596191406\n",
      "compute_update  0.03938031196594238\n",
      "(0.03809214169425003+0j)\n",
      "n_discard =  144\n",
      "discard samples 1.6459741592407227\n",
      "n_samples_node =  1000\n",
      "generate_samples :  11.40538215637207\n",
      "     prepare getting local values 0.0022351741790771484\n",
      "     obtained local values 0.007980108261108398\n",
      "get_mc_stats 0.012091875076293945\n"
     ]
    },
    {
     "name": "stderr",
     "output_type": "stream",
     "text": [
      " 64%|██████▍   | 641/1000 [2:22:08<1:18:45, 13.16s/it, Energy=-2.105812+0.000000j ± 0.000013 [σ²=0.000000]]"
     ]
    },
    {
     "name": "stdout",
     "output_type": "stream",
     "text": [
      "--->> cal O and jac  0.03926515579223633\n",
      "compute_update  0.04232501983642578\n",
      "(0.03808333655313786+0j)\n",
      "n_discard =  144\n",
      "discard samples 1.6448628902435303\n",
      "n_samples_node =  1000\n",
      "generate_samples :  11.3746337890625\n",
      "     prepare getting local values 0.00302886962890625\n",
      "     obtained local values 0.009027719497680664\n",
      "get_mc_stats 0.013502120971679688\n"
     ]
    },
    {
     "name": "stderr",
     "output_type": "stream",
     "text": [
      " 64%|██████▍   | 642/1000 [2:22:21<1:18:23, 13.14s/it, Energy=-2.105789+0.000000j ± 0.000013 [σ²=0.000000]]"
     ]
    },
    {
     "name": "stdout",
     "output_type": "stream",
     "text": [
      "--->> cal O and jac  0.046185970306396484\n",
      "compute_update  0.04963088035583496\n",
      "(0.038074697189460625+0j)\n",
      "n_discard =  144\n",
      "discard samples 1.6561808586120605\n",
      "n_samples_node =  1000\n",
      "generate_samples :  11.4254732131958\n",
      "     prepare getting local values 0.0022821426391601562\n",
      "     obtained local values 0.008098125457763672\n",
      "get_mc_stats 0.012297868728637695\n"
     ]
    },
    {
     "name": "stderr",
     "output_type": "stream",
     "text": [
      " 64%|██████▍   | 643/1000 [2:22:34<1:18:10, 13.14s/it, Energy=-2.105800+0.000000j ± 0.000013 [σ²=0.000000]]"
     ]
    },
    {
     "name": "stdout",
     "output_type": "stream",
     "text": [
      "--->> cal O and jac  0.03686094284057617\n",
      "compute_update  0.04033374786376953\n",
      "(0.038066224878868585+0j)\n",
      "n_discard =  144\n",
      "discard samples 1.6461241245269775\n",
      "n_samples_node =  1000\n",
      "generate_samples :  11.48098111152649\n",
      "     prepare getting local values 0.0023529529571533203\n",
      "     obtained local values 0.008166074752807617\n",
      "get_mc_stats 0.012189865112304688\n"
     ]
    },
    {
     "name": "stderr",
     "output_type": "stream",
     "text": [
      " 64%|██████▍   | 644/1000 [2:22:47<1:18:02, 13.15s/it, Energy=-2.105798+0.000000j ± 0.000014 [σ²=0.000000]]"
     ]
    },
    {
     "name": "stdout",
     "output_type": "stream",
     "text": [
      "--->> cal O and jac  0.041584014892578125\n",
      "compute_update  0.04526209831237793\n",
      "(0.03805838612727054+0j)\n",
      "n_discard =  144\n",
      "discard samples 1.7410733699798584\n",
      "n_samples_node =  1000\n",
      "generate_samples :  11.428881883621216\n",
      "     prepare getting local values 0.0023310184478759766\n",
      "     obtained local values 0.007901906967163086\n",
      "get_mc_stats 0.012294769287109375\n"
     ]
    },
    {
     "name": "stderr",
     "output_type": "stream",
     "text": [
      " 64%|██████▍   | 645/1000 [2:23:00<1:17:56, 13.17s/it, Energy=-2.105809+0.000000j ± 0.000019 [σ²=0.000000]]"
     ]
    },
    {
     "name": "stdout",
     "output_type": "stream",
     "text": [
      "--->> cal O and jac  0.03618597984313965\n",
      "compute_update  0.03965592384338379\n",
      "(0.03805036970504168+0j)\n",
      "n_discard =  144\n",
      "discard samples 1.6453371047973633\n",
      "n_samples_node =  1000\n",
      "generate_samples :  11.432260274887085\n",
      "     prepare getting local values 0.002111196517944336\n",
      "     obtained local values 0.0077779293060302734\n",
      "get_mc_stats 0.01188802719116211\n"
     ]
    },
    {
     "name": "stderr",
     "output_type": "stream",
     "text": [
      " 65%|██████▍   | 646/1000 [2:23:13<1:17:39, 13.16s/it, Energy=-2.105808+0.000000j ± 0.000019 [σ²=0.000000]]"
     ]
    },
    {
     "name": "stdout",
     "output_type": "stream",
     "text": [
      "--->> cal O and jac  0.03754305839538574\n",
      "compute_update  0.040760040283203125\n",
      "(0.038042766938785624+0j)\n",
      "n_discard =  144\n",
      "discard samples 1.6508128643035889\n",
      "n_samples_node =  1000\n",
      "generate_samples :  11.427538871765137\n",
      "     prepare getting local values 0.002351045608520508\n",
      "     obtained local values 0.008063077926635742\n",
      "get_mc_stats 0.012334108352661133\n"
     ]
    },
    {
     "name": "stderr",
     "output_type": "stream",
     "text": [
      " 65%|██████▍   | 647/1000 [2:23:26<1:17:22, 13.15s/it, Energy=-2.105796+0.000000j ± 0.000015 [σ²=0.000000]]"
     ]
    },
    {
     "name": "stdout",
     "output_type": "stream",
     "text": [
      "--->> cal O and jac  0.03513598442077637\n",
      "compute_update  0.038327693939208984\n",
      "(0.038035249298406945+0j)\n",
      "n_discard =  144\n",
      "discard samples 1.663003921508789\n",
      "n_samples_node =  1000\n",
      "generate_samples :  11.383795738220215\n",
      "     prepare getting local values 0.002482175827026367\n",
      "     obtained local values 0.008236169815063477\n",
      "get_mc_stats 0.012340068817138672\n"
     ]
    },
    {
     "name": "stderr",
     "output_type": "stream",
     "text": [
      " 65%|██████▍   | 648/1000 [2:23:40<1:17:04, 13.14s/it, Energy=-2.105800+0.000000j ± 0.000013 [σ²=0.000000]]"
     ]
    },
    {
     "name": "stdout",
     "output_type": "stream",
     "text": [
      "--->> cal O and jac  0.037268877029418945\n",
      "compute_update  0.040486812591552734\n",
      "(0.038028164971697045+0j)\n",
      "n_discard =  144\n",
      "discard samples 1.6472811698913574\n",
      "n_samples_node =  1000\n",
      "generate_samples :  11.423993825912476\n",
      "     prepare getting local values 0.002318859100341797\n",
      "     obtained local values 0.008208036422729492\n",
      "get_mc_stats 0.012470722198486328\n"
     ]
    },
    {
     "name": "stderr",
     "output_type": "stream",
     "text": [
      " 65%|██████▍   | 649/1000 [2:23:53<1:16:50, 13.13s/it, Energy=-2.105811+0.000000j ± 0.000015 [σ²=0.000000]]"
     ]
    },
    {
     "name": "stdout",
     "output_type": "stream",
     "text": [
      "--->> cal O and jac  0.03945493698120117\n",
      "compute_update  0.04288792610168457\n",
      "(0.03802124388457159+0j)\n",
      "n_discard =  144\n",
      "discard samples 1.6463267803192139\n",
      "n_samples_node =  1000\n",
      "generate_samples :  11.388166904449463\n",
      "     prepare getting local values 0.002401113510131836\n",
      "     obtained local values 0.008125066757202148\n",
      "get_mc_stats 0.012388944625854492\n"
     ]
    },
    {
     "name": "stderr",
     "output_type": "stream",
     "text": [
      " 65%|██████▌   | 650/1000 [2:24:06<1:16:32, 13.12s/it, Energy=-2.105825+0.000000j ± 0.000012 [σ²=0.000000]]"
     ]
    },
    {
     "name": "stdout",
     "output_type": "stream",
     "text": [
      "--->> cal O and jac  0.035651206970214844\n",
      "compute_update  0.03940987586975098\n",
      "(0.03801348553806115+0j)\n",
      "n_discard =  144\n",
      "discard samples 1.6470122337341309\n",
      "n_samples_node =  1000\n",
      "generate_samples :  11.516207933425903\n",
      "     prepare getting local values 0.0024709701538085938\n",
      "     obtained local values 0.008117198944091797\n",
      "get_mc_stats 0.012370109558105469\n"
     ]
    },
    {
     "name": "stderr",
     "output_type": "stream",
     "text": [
      " 65%|██████▌   | 651/1000 [2:24:19<1:16:30, 13.15s/it, Energy=-2.105830+0.000000j ± 0.000017 [σ²=0.000000]]"
     ]
    },
    {
     "name": "stdout",
     "output_type": "stream",
     "text": [
      "--->> cal O and jac  0.040077924728393555\n",
      "compute_update  0.04608511924743652\n",
      "(0.03800676730939967+0j)\n",
      "n_discard =  144\n",
      "discard samples 1.6643199920654297\n",
      "n_samples_node =  1000\n",
      "generate_samples :  11.392786979675293\n",
      "     prepare getting local values 0.0021691322326660156\n",
      "     obtained local values 0.007866144180297852\n",
      "get_mc_stats 0.011973857879638672\n"
     ]
    },
    {
     "name": "stderr",
     "output_type": "stream",
     "text": [
      " 65%|██████▌   | 652/1000 [2:24:32<1:16:12, 13.14s/it, Energy=-2.105803+0.000000j ± 0.000017 [σ²=0.000000]]"
     ]
    },
    {
     "name": "stdout",
     "output_type": "stream",
     "text": [
      "--->> cal O and jac  0.0373380184173584\n",
      "compute_update  0.04103994369506836\n",
      "(0.03799800034694646+0j)\n",
      "n_discard =  144\n",
      "discard samples 1.6484620571136475\n",
      "n_samples_node =  1000\n",
      "generate_samples :  11.359286069869995\n",
      "     prepare getting local values 0.002003908157348633\n",
      "     obtained local values 0.007737159729003906\n",
      "get_mc_stats 0.01195526123046875\n"
     ]
    },
    {
     "name": "stderr",
     "output_type": "stream",
     "text": [
      " 65%|██████▌   | 653/1000 [2:24:45<1:15:51, 13.12s/it, Energy=-2.105793+0.000000j ± 0.000015 [σ²=0.000000]]"
     ]
    },
    {
     "name": "stdout",
     "output_type": "stream",
     "text": [
      "--->> cal O and jac  0.037261962890625\n",
      "compute_update  0.04071187973022461\n",
      "(0.03799018399366317+0j)\n",
      "n_discard =  144\n",
      "discard samples 1.9079773426055908\n",
      "n_samples_node =  1000\n",
      "generate_samples :  11.766963243484497\n",
      "     prepare getting local values 0.002415180206298828\n",
      "     obtained local values 0.00832509994506836\n",
      "get_mc_stats 0.012622833251953125\n"
     ]
    },
    {
     "name": "stderr",
     "output_type": "stream",
     "text": [
      " 65%|██████▌   | 654/1000 [2:24:59<1:16:42, 13.30s/it, Energy=-2.105790+0.000000j ± 0.000013 [σ²=0.000000]]"
     ]
    },
    {
     "name": "stdout",
     "output_type": "stream",
     "text": [
      "--->> cal O and jac  0.03811931610107422\n",
      "compute_update  0.04197812080383301\n",
      "(0.03798188434939266+0j)\n",
      "n_discard =  144\n",
      "discard samples 1.6459758281707764\n",
      "n_samples_node =  1000\n",
      "generate_samples :  11.349496841430664\n",
      "     prepare getting local values 0.002371072769165039\n",
      "     obtained local values 0.008203983306884766\n",
      "get_mc_stats 0.012679338455200195\n"
     ]
    },
    {
     "name": "stderr",
     "output_type": "stream",
     "text": [
      " 66%|██████▌   | 655/1000 [2:25:12<1:16:03, 13.23s/it, Energy=-2.105805+0.000000j ± 0.000012 [σ²=0.000000]]"
     ]
    },
    {
     "name": "stdout",
     "output_type": "stream",
     "text": [
      "--->> cal O and jac  0.03833508491516113\n",
      "compute_update  0.041819095611572266\n",
      "(0.03797333910683169+0j)\n",
      "n_discard =  144\n",
      "discard samples 1.6638011932373047\n",
      "n_samples_node =  1000\n",
      "generate_samples :  11.485848665237427\n",
      "     prepare getting local values 0.0021898746490478516\n",
      "     obtained local values 0.008157014846801758\n",
      "get_mc_stats 0.012720108032226562\n"
     ]
    },
    {
     "name": "stderr",
     "output_type": "stream",
     "text": [
      " 66%|██████▌   | 656/1000 [2:25:25<1:15:48, 13.22s/it, Energy=-2.105812+0.000000j ± 0.000015 [σ²=0.000000]]"
     ]
    },
    {
     "name": "stdout",
     "output_type": "stream",
     "text": [
      "--->> cal O and jac  0.0394740104675293\n",
      "compute_update  0.042858123779296875\n",
      "(0.03796505977899811+0j)\n",
      "n_discard =  144\n",
      "discard samples 1.6702871322631836\n",
      "n_samples_node =  1000\n",
      "generate_samples :  11.59660530090332\n",
      "     prepare getting local values 0.002324819564819336\n",
      "     obtained local values 0.008265972137451172\n",
      "get_mc_stats 0.012907981872558594\n"
     ]
    },
    {
     "name": "stderr",
     "output_type": "stream",
     "text": [
      " 66%|██████▌   | 657/1000 [2:25:38<1:15:45, 13.25s/it, Energy=-2.105797+0.000000j ± 0.000014 [σ²=0.000000]]"
     ]
    },
    {
     "name": "stdout",
     "output_type": "stream",
     "text": [
      "--->> cal O and jac  0.039479970932006836\n",
      "compute_update  0.04294872283935547\n",
      "(0.037956706214221723+0j)\n",
      "n_discard =  144\n",
      "discard samples 1.6664531230926514\n",
      "n_samples_node =  1000\n",
      "generate_samples :  11.858460187911987\n",
      "     prepare getting local values 0.0022711753845214844\n",
      "     obtained local values 0.007920980453491211\n",
      "get_mc_stats 0.013038158416748047\n"
     ]
    },
    {
     "name": "stderr",
     "output_type": "stream",
     "text": [
      " 66%|██████▌   | 658/1000 [2:25:52<1:16:06, 13.35s/it, Energy=-2.105825+0.000000j ± 0.000016 [σ²=0.000000]]"
     ]
    },
    {
     "name": "stdout",
     "output_type": "stream",
     "text": [
      "--->> cal O and jac  0.041869163513183594\n",
      "compute_update  0.04550504684448242\n",
      "(0.037949097565304714+0j)\n",
      "n_discard =  144\n",
      "discard samples 1.6611719131469727\n",
      "n_samples_node =  1000\n",
      "generate_samples :  11.550569772720337\n",
      "     prepare getting local values 0.002440929412841797\n",
      "     obtained local values 0.0080718994140625\n",
      "get_mc_stats 0.012476921081542969\n"
     ]
    },
    {
     "name": "stderr",
     "output_type": "stream",
     "text": [
      " 66%|██████▌   | 659/1000 [2:26:05<1:15:44, 13.33s/it, Energy=-2.105847+0.000000j ± 0.000017 [σ²=0.000000]]"
     ]
    },
    {
     "name": "stdout",
     "output_type": "stream",
     "text": [
      "--->> cal O and jac  0.03669929504394531\n",
      "compute_update  0.04030323028564453\n",
      "(0.037941385338583364+0j)\n",
      "n_discard =  144\n",
      "discard samples 1.6662530899047852\n",
      "n_samples_node =  1000\n",
      "generate_samples :  11.49555516242981\n",
      "     prepare getting local values 0.0021178722381591797\n",
      "     obtained local values 0.00799107551574707\n",
      "get_mc_stats 0.012147903442382812\n"
     ]
    },
    {
     "name": "stderr",
     "output_type": "stream",
     "text": [
      " 66%|██████▌   | 660/1000 [2:26:19<1:15:20, 13.29s/it, Energy=-2.105816+0.000000j ± 0.000016 [σ²=0.000000]]"
     ]
    },
    {
     "name": "stdout",
     "output_type": "stream",
     "text": [
      "--->> cal O and jac  0.038082122802734375\n",
      "compute_update  0.04167008399963379\n",
      "(0.03793313729042614+0j)\n",
      "n_discard =  144\n",
      "discard samples 1.6849138736724854\n",
      "n_samples_node =  1000\n",
      "generate_samples :  11.416102170944214\n",
      "     prepare getting local values 0.0021407604217529297\n",
      "     obtained local values 0.007953882217407227\n",
      "get_mc_stats 0.012242317199707031\n"
     ]
    },
    {
     "name": "stderr",
     "output_type": "stream",
     "text": [
      " 66%|██████▌   | 661/1000 [2:26:32<1:14:52, 13.25s/it, Energy=-2.105805+0.000000j ± 0.000016 [σ²=0.000000]]"
     ]
    },
    {
     "name": "stdout",
     "output_type": "stream",
     "text": [
      "--->> cal O and jac  0.03921937942504883\n",
      "compute_update  0.04297018051147461\n",
      "(0.03792354299227666+0j)\n",
      "n_discard =  144\n",
      "discard samples 1.6476340293884277\n",
      "n_samples_node =  1000\n",
      "generate_samples :  11.36724305152893\n",
      "     prepare getting local values 0.0022928714752197266\n",
      "     obtained local values 0.008088111877441406\n",
      "get_mc_stats 0.012240886688232422\n"
     ]
    },
    {
     "name": "stderr",
     "output_type": "stream",
     "text": [
      " 66%|██████▌   | 662/1000 [2:26:45<1:14:20, 13.20s/it, Energy=-2.105823+0.000000j ± 0.000012 [σ²=0.000000]]"
     ]
    },
    {
     "name": "stdout",
     "output_type": "stream",
     "text": [
      "--->> cal O and jac  0.03574705123901367\n",
      "compute_update  0.039427995681762695\n",
      "(0.03791482221978294+0j)\n",
      "n_discard =  144\n",
      "discard samples 1.6886389255523682\n",
      "n_samples_node =  1000\n",
      "generate_samples :  11.780740022659302\n",
      "     prepare getting local values 0.002271890640258789\n",
      "     obtained local values 0.007817983627319336\n",
      "get_mc_stats 0.01262521743774414\n"
     ]
    },
    {
     "name": "stderr",
     "output_type": "stream",
     "text": [
      " 66%|██████▋   | 663/1000 [2:26:58<1:14:42, 13.30s/it, Energy=-2.105823+0.000000j ± 0.000017 [σ²=0.000000]]"
     ]
    },
    {
     "name": "stdout",
     "output_type": "stream",
     "text": [
      "--->> cal O and jac  0.04214906692504883\n",
      "compute_update  0.05805492401123047\n",
      "(0.037906196774490926+0j)\n",
      "n_discard =  144\n",
      "discard samples 1.6553559303283691\n",
      "n_samples_node =  1000\n",
      "generate_samples :  11.408344030380249\n",
      "     prepare getting local values 0.0023779869079589844\n",
      "     obtained local values 0.008111238479614258\n",
      "get_mc_stats 0.012521028518676758\n"
     ]
    },
    {
     "name": "stderr",
     "output_type": "stream",
     "text": [
      " 66%|██████▋   | 664/1000 [2:27:11<1:14:11, 13.25s/it, Energy=-2.105809+0.000000j ± 0.000012 [σ²=0.000000]]"
     ]
    },
    {
     "name": "stdout",
     "output_type": "stream",
     "text": [
      "--->> cal O and jac  0.03901267051696777\n",
      "compute_update  0.04208874702453613\n",
      "(0.03789752715487592+0j)\n",
      "n_discard =  144\n",
      "discard samples 1.6437220573425293\n",
      "n_samples_node =  1000\n",
      "generate_samples :  11.37591814994812\n",
      "     prepare getting local values 0.0025169849395751953\n",
      "     obtained local values 0.008505105972290039\n",
      "get_mc_stats 0.01293492317199707\n"
     ]
    },
    {
     "name": "stderr",
     "output_type": "stream",
     "text": [
      " 66%|██████▋   | 665/1000 [2:27:25<1:13:41, 13.20s/it, Energy=-2.105814+0.000000j ± 0.000013 [σ²=0.000000]]"
     ]
    },
    {
     "name": "stdout",
     "output_type": "stream",
     "text": [
      "--->> cal O and jac  0.04272580146789551\n",
      "compute_update  0.04635906219482422\n",
      "(0.03788937929826042+0j)\n",
      "n_discard =  144\n",
      "discard samples 1.6777379512786865\n",
      "n_samples_node =  1000\n",
      "generate_samples :  11.444084882736206\n",
      "     prepare getting local values 0.0026090145111083984\n",
      "     obtained local values 0.008220911026000977\n",
      "get_mc_stats 0.012320995330810547\n"
     ]
    },
    {
     "name": "stderr",
     "output_type": "stream",
     "text": [
      " 67%|██████▋   | 666/1000 [2:27:38<1:13:26, 13.19s/it, Energy=-2.105817+0.000000j ± 0.000015 [σ²=0.000000]]"
     ]
    },
    {
     "name": "stdout",
     "output_type": "stream",
     "text": [
      "--->> cal O and jac  0.03766584396362305\n",
      "compute_update  0.04136013984680176\n",
      "(0.03788128872173642+0j)\n",
      "n_discard =  144\n",
      "discard samples 1.6487247943878174\n",
      "n_samples_node =  1000\n",
      "generate_samples :  11.487354040145874\n",
      "     prepare getting local values 0.0023899078369140625\n",
      "     obtained local values 0.008292675018310547\n",
      "get_mc_stats 0.012663841247558594\n"
     ]
    },
    {
     "name": "stderr",
     "output_type": "stream",
     "text": [
      " 67%|██████▋   | 667/1000 [2:27:51<1:13:12, 13.19s/it, Energy=-2.105823+0.000000j ± 0.000015 [σ²=0.000000]]"
     ]
    },
    {
     "name": "stdout",
     "output_type": "stream",
     "text": [
      "--->> cal O and jac  0.03798508644104004\n",
      "compute_update  0.041565895080566406\n",
      "(0.037873919785389766+0j)\n",
      "n_discard =  144\n",
      "discard samples 1.6548521518707275\n",
      "n_samples_node =  1000\n",
      "generate_samples :  11.373037099838257\n",
      "     prepare getting local values 0.002331972122192383\n",
      "     obtained local values 0.007876157760620117\n",
      "get_mc_stats 0.01213693618774414\n"
     ]
    },
    {
     "name": "stderr",
     "output_type": "stream",
     "text": [
      " 67%|██████▋   | 668/1000 [2:28:04<1:12:48, 13.16s/it, Energy=-2.105825+0.000000j ± 0.000013 [σ²=0.000000]]"
     ]
    },
    {
     "name": "stdout",
     "output_type": "stream",
     "text": [
      "--->> cal O and jac  0.03771805763244629\n",
      "compute_update  0.0410308837890625\n",
      "(0.03786707324230772+0j)\n",
      "n_discard =  144\n",
      "discard samples 1.651926040649414\n",
      "n_samples_node =  1000\n",
      "generate_samples :  11.514877080917358\n",
      "     prepare getting local values 0.002101898193359375\n",
      "     obtained local values 0.007797956466674805\n",
      "get_mc_stats 0.01197504997253418\n"
     ]
    },
    {
     "name": "stderr",
     "output_type": "stream",
     "text": [
      " 67%|██████▋   | 669/1000 [2:28:17<1:12:41, 13.18s/it, Energy=-2.105817+0.000000j ± 0.000012 [σ²=0.000000]]"
     ]
    },
    {
     "name": "stdout",
     "output_type": "stream",
     "text": [
      "--->> cal O and jac  0.036828041076660156\n",
      "compute_update  0.040015220642089844\n",
      "(0.037859140180321375+0j)\n",
      "n_discard =  144\n",
      "discard samples 1.6462888717651367\n",
      "n_samples_node =  1000\n",
      "generate_samples :  11.413457870483398\n",
      "     prepare getting local values 0.0026459693908691406\n",
      "     obtained local values 0.00924372673034668\n",
      "get_mc_stats 0.013442039489746094\n"
     ]
    },
    {
     "name": "stderr",
     "output_type": "stream",
     "text": [
      " 67%|██████▋   | 670/1000 [2:28:30<1:12:22, 13.16s/it, Energy=-2.105812+0.000000j ± 0.000015 [σ²=0.000000]]"
     ]
    },
    {
     "name": "stdout",
     "output_type": "stream",
     "text": [
      "--->> cal O and jac  0.03860783576965332\n",
      "compute_update  0.042109012603759766\n",
      "(0.037852109175626966+0j)\n",
      "n_discard =  144\n",
      "discard samples 1.6578929424285889\n",
      "n_samples_node =  1000\n",
      "generate_samples :  11.485966920852661\n",
      "     prepare getting local values 0.0022139549255371094\n",
      "     obtained local values 0.008131980895996094\n",
      "get_mc_stats 0.012783288955688477\n"
     ]
    },
    {
     "name": "stderr",
     "output_type": "stream",
     "text": [
      " 67%|██████▋   | 671/1000 [2:28:44<1:12:13, 13.17s/it, Energy=-2.105825+0.000000j ± 0.000014 [σ²=0.000000]]"
     ]
    },
    {
     "name": "stdout",
     "output_type": "stream",
     "text": [
      "--->> cal O and jac  0.03754901885986328\n",
      "compute_update  0.040944814682006836\n",
      "(0.03784555577191571+0j)\n",
      "n_discard =  144\n",
      "discard samples 1.691821813583374\n",
      "n_samples_node =  1000\n",
      "generate_samples :  11.800885915756226\n",
      "     prepare getting local values 0.0020182132720947266\n",
      "     obtained local values 0.0076253414154052734\n",
      "get_mc_stats 0.012485027313232422\n"
     ]
    },
    {
     "name": "stderr",
     "output_type": "stream",
     "text": [
      " 67%|██████▋   | 672/1000 [2:28:57<1:12:37, 13.28s/it, Energy=-2.105811+0.000000j ± 0.000016 [σ²=0.000000]]"
     ]
    },
    {
     "name": "stdout",
     "output_type": "stream",
     "text": [
      "--->> cal O and jac  0.03625226020812988\n",
      "compute_update  0.03921103477478027\n",
      "(0.03783893379628667+0j)\n",
      "n_discard =  144\n",
      "discard samples 1.6820781230926514\n",
      "n_samples_node =  1000\n",
      "generate_samples :  11.493165016174316\n",
      "     prepare getting local values 0.0023169517517089844\n",
      "     obtained local values 0.007951021194458008\n",
      "get_mc_stats 0.012738943099975586\n"
     ]
    },
    {
     "name": "stderr",
     "output_type": "stream",
     "text": [
      " 67%|██████▋   | 673/1000 [2:29:10<1:12:18, 13.27s/it, Energy=-2.1058343+0.0000000j ± 0.0000078 [σ²=0.0000002]]"
     ]
    },
    {
     "name": "stdout",
     "output_type": "stream",
     "text": [
      "--->> cal O and jac  0.03873395919799805\n",
      "compute_update  0.04183602333068848\n",
      "(0.0378321593011009+0j)\n",
      "n_discard =  144\n",
      "discard samples 1.7000057697296143\n",
      "n_samples_node =  1000\n",
      "generate_samples :  11.48327898979187\n",
      "     prepare getting local values 0.0023050308227539062\n",
      "     obtained local values 0.008159160614013672\n",
      "get_mc_stats 0.012238264083862305\n"
     ]
    },
    {
     "name": "stderr",
     "output_type": "stream",
     "text": [
      " 67%|██████▋   | 674/1000 [2:29:24<1:12:02, 13.26s/it, Energy=-2.105817+0.000000j ± 0.000016 [σ²=0.000000]]    "
     ]
    },
    {
     "name": "stdout",
     "output_type": "stream",
     "text": [
      "--->> cal O and jac  0.03606772422790527\n",
      "compute_update  0.0394439697265625\n",
      "(0.03782558666304675+0j)\n",
      "n_discard =  144\n",
      "discard samples 1.6588919162750244\n",
      "n_samples_node =  1000\n",
      "generate_samples :  11.331401824951172\n",
      "     prepare getting local values 0.002209901809692383\n",
      "     obtained local values 0.008054971694946289\n",
      "get_mc_stats 0.012252092361450195\n"
     ]
    },
    {
     "name": "stderr",
     "output_type": "stream",
     "text": [
      " 68%|██████▊   | 675/1000 [2:29:37<1:11:28, 13.19s/it, Energy=-2.105801+0.000000j ± 0.000013 [σ²=0.000000]]"
     ]
    },
    {
     "name": "stdout",
     "output_type": "stream",
     "text": [
      "--->> cal O and jac  0.036492109298706055\n",
      "compute_update  0.03973102569580078\n",
      "(0.037818548561910775+0j)\n",
      "n_discard =  144\n",
      "discard samples 1.6451539993286133\n",
      "n_samples_node =  1000\n",
      "generate_samples :  11.478624820709229\n",
      "     prepare getting local values 0.002209901809692383\n",
      "     obtained local values 0.008002996444702148\n",
      "get_mc_stats 0.012523174285888672\n"
     ]
    },
    {
     "name": "stderr",
     "output_type": "stream",
     "text": [
      " 68%|██████▊   | 676/1000 [2:29:50<1:11:13, 13.19s/it, Energy=-2.105831+0.000000j ± 0.000013 [σ²=0.000000]]"
     ]
    },
    {
     "name": "stdout",
     "output_type": "stream",
     "text": [
      "--->> cal O and jac  0.03748297691345215\n",
      "compute_update  0.040971994400024414\n",
      "(0.037811103363597706+0j)\n",
      "n_discard =  144\n",
      "discard samples 1.6969878673553467\n",
      "n_samples_node =  1000\n",
      "generate_samples :  11.533418893814087\n",
      "     prepare getting local values 0.0022459030151367188\n",
      "     obtained local values 0.008048772811889648\n",
      "get_mc_stats 0.012125015258789062\n"
     ]
    },
    {
     "name": "stderr",
     "output_type": "stream",
     "text": [
      " 68%|██████▊   | 677/1000 [2:30:03<1:11:09, 13.22s/it, Energy=-2.105817+0.000000j ± 0.000013 [σ²=0.000000]]"
     ]
    },
    {
     "name": "stdout",
     "output_type": "stream",
     "text": [
      "--->> cal O and jac  0.038224220275878906\n",
      "compute_update  0.04140520095825195\n",
      "(0.03780378326618386+0j)\n",
      "n_discard =  144\n",
      "discard samples 1.6727848052978516\n",
      "n_samples_node =  1000\n",
      "generate_samples :  11.576373100280762\n",
      "     prepare getting local values 0.002123117446899414\n",
      "     obtained local values 0.007929086685180664\n",
      "get_mc_stats 0.012204170227050781\n"
     ]
    },
    {
     "name": "stderr",
     "output_type": "stream",
     "text": [
      " 68%|██████▊   | 678/1000 [2:30:16<1:11:04, 13.24s/it, Energy=-2.105785+0.000000j ± 0.000015 [σ²=0.000000]]"
     ]
    },
    {
     "name": "stdout",
     "output_type": "stream",
     "text": [
      "--->> cal O and jac  0.03664517402648926\n",
      "compute_update  0.04004311561584473\n",
      "(0.03779626335450652+0j)\n",
      "n_discard =  144\n",
      "discard samples 1.6802048683166504\n",
      "n_samples_node =  1000\n",
      "generate_samples :  11.418292999267578\n",
      "     prepare getting local values 0.002668142318725586\n",
      "     obtained local values 0.008353948593139648\n",
      "get_mc_stats 0.012163162231445312\n"
     ]
    },
    {
     "name": "stderr",
     "output_type": "stream",
     "text": [
      " 68%|██████▊   | 679/1000 [2:30:30<1:10:42, 13.22s/it, Energy=-2.105826+0.000000j ± 0.000012 [σ²=0.000000]]"
     ]
    },
    {
     "name": "stdout",
     "output_type": "stream",
     "text": [
      "--->> cal O and jac  0.03739500045776367\n",
      "compute_update  0.04106283187866211\n",
      "(0.03778795798367156+0j)\n",
      "n_discard =  144\n",
      "discard samples 1.6575357913970947\n",
      "n_samples_node =  1000\n",
      "generate_samples :  11.61012315750122\n",
      "     prepare getting local values 0.002443075180053711\n",
      "     obtained local values 0.008323907852172852\n",
      "get_mc_stats 0.012984037399291992\n"
     ]
    },
    {
     "name": "stderr",
     "output_type": "stream",
     "text": [
      " 68%|██████▊   | 680/1000 [2:30:43<1:10:39, 13.25s/it, Energy=-2.105809+0.000000j ± 0.000011 [σ²=0.000000]]"
     ]
    },
    {
     "name": "stdout",
     "output_type": "stream",
     "text": [
      "--->> cal O and jac  0.038864850997924805\n",
      "compute_update  0.04245305061340332\n",
      "(0.03778113881699449+0j)\n",
      "n_discard =  144\n",
      "discard samples 1.6770350933074951\n",
      "n_samples_node =  1000\n",
      "generate_samples :  11.823131084442139\n",
      "     prepare getting local values 0.0019290447235107422\n",
      "     obtained local values 0.007960081100463867\n",
      "get_mc_stats 0.013263940811157227\n"
     ]
    },
    {
     "name": "stderr",
     "output_type": "stream",
     "text": [
      " 68%|██████▊   | 681/1000 [2:30:56<1:10:56, 13.34s/it, Energy=-2.105813+0.000000j ± 0.000013 [σ²=0.000000]]"
     ]
    },
    {
     "name": "stdout",
     "output_type": "stream",
     "text": [
      "--->> cal O and jac  0.04268980026245117\n",
      "compute_update  0.04638504981994629\n",
      "(0.03777293791556093+0j)\n",
      "n_discard =  144\n",
      "discard samples 1.6689178943634033\n",
      "n_samples_node =  1000\n",
      "generate_samples :  11.485316038131714\n",
      "     prepare getting local values 0.002421855926513672\n",
      "     obtained local values 0.008177757263183594\n",
      "get_mc_stats 0.012180089950561523\n"
     ]
    },
    {
     "name": "stderr",
     "output_type": "stream",
     "text": [
      " 68%|██████▊   | 682/1000 [2:31:10<1:10:30, 13.30s/it, Energy=-2.105817+0.000000j ± 0.000011 [σ²=0.000000]]"
     ]
    },
    {
     "name": "stdout",
     "output_type": "stream",
     "text": [
      "--->> cal O and jac  0.03836393356323242\n",
      "compute_update  0.041484832763671875\n",
      "(0.03776502300491917+0j)\n",
      "n_discard =  144\n",
      "discard samples 1.6729509830474854\n",
      "n_samples_node =  1000\n",
      "generate_samples :  11.591821193695068\n",
      "     prepare getting local values 0.002469778060913086\n",
      "     obtained local values 0.008134841918945312\n",
      "get_mc_stats 0.012079954147338867\n"
     ]
    },
    {
     "name": "stderr",
     "output_type": "stream",
     "text": [
      " 68%|██████▊   | 683/1000 [2:31:23<1:10:18, 13.31s/it, Energy=-2.105822+0.000000j ± 0.000010 [σ²=0.000000]]"
     ]
    },
    {
     "name": "stdout",
     "output_type": "stream",
     "text": [
      "--->> cal O and jac  0.03738975524902344\n",
      "compute_update  0.040451765060424805\n",
      "(0.03775731605102149+0j)\n",
      "n_discard =  144\n",
      "discard samples 1.6466500759124756\n",
      "n_samples_node =  1000\n",
      "generate_samples :  11.495216846466064\n",
      "     prepare getting local values 0.0021228790283203125\n",
      "     obtained local values 0.007975101470947266\n",
      "get_mc_stats 0.012159347534179688\n"
     ]
    },
    {
     "name": "stderr",
     "output_type": "stream",
     "text": [
      " 68%|██████▊   | 684/1000 [2:31:36<1:09:54, 13.27s/it, Energy=-2.105823+0.000000j ± 0.000011 [σ²=0.000000]]"
     ]
    },
    {
     "name": "stdout",
     "output_type": "stream",
     "text": [
      "--->> cal O and jac  0.03638410568237305\n",
      "compute_update  0.03974723815917969\n",
      "(0.03774976660950313+0j)\n",
      "n_discard =  144\n",
      "discard samples 1.6595818996429443\n",
      "n_samples_node =  1000\n",
      "generate_samples :  11.779865026473999\n",
      "     prepare getting local values 0.0023081302642822266\n",
      "     obtained local values 0.008098125457763672\n",
      "get_mc_stats 0.012721061706542969\n"
     ]
    },
    {
     "name": "stderr",
     "output_type": "stream",
     "text": [
      " 68%|██████▊   | 685/1000 [2:31:50<1:10:02, 13.34s/it, Energy=-2.105816+0.000000j ± 0.000013 [σ²=0.000000]]"
     ]
    },
    {
     "name": "stdout",
     "output_type": "stream",
     "text": [
      "--->> cal O and jac  0.038491249084472656\n",
      "compute_update  0.04265332221984863\n",
      "(0.03774174088923825+0j)\n",
      "n_discard =  144\n",
      "discard samples 1.6897962093353271\n",
      "n_samples_node =  1000\n",
      "generate_samples :  11.867925882339478\n",
      "     prepare getting local values 0.0026619434356689453\n",
      "     obtained local values 0.00875997543334961\n",
      "get_mc_stats 0.015233039855957031\n"
     ]
    },
    {
     "name": "stderr",
     "output_type": "stream",
     "text": [
      " 69%|██████▊   | 686/1000 [2:32:03<1:10:15, 13.43s/it, Energy=-2.105842+0.000000j ± 0.000012 [σ²=0.000000]]"
     ]
    },
    {
     "name": "stdout",
     "output_type": "stream",
     "text": [
      "--->> cal O and jac  0.04357290267944336\n",
      "compute_update  0.04724001884460449\n",
      "(0.037733816965253845+0j)\n",
      "n_discard =  144\n",
      "discard samples 1.749140977859497\n",
      "n_samples_node =  1000\n",
      "generate_samples :  11.751273155212402\n",
      "     prepare getting local values 0.002125978469848633\n",
      "     obtained local values 0.00793004035949707\n",
      "get_mc_stats 0.012380123138427734\n"
     ]
    },
    {
     "name": "stderr",
     "output_type": "stream",
     "text": [
      " 69%|██████▊   | 687/1000 [2:32:17<1:10:14, 13.47s/it, Energy=-2.1058080+0.0000000j ± 0.0000099 [σ²=0.0000002]]"
     ]
    },
    {
     "name": "stdout",
     "output_type": "stream",
     "text": [
      "--->> cal O and jac  0.037869930267333984\n",
      "compute_update  0.041563987731933594\n",
      "(0.03772579402596199+0j)\n",
      "n_discard =  144\n",
      "discard samples 1.7140967845916748\n",
      "n_samples_node =  1000\n",
      "generate_samples :  12.507401943206787\n",
      "     prepare getting local values 0.0034461021423339844\n",
      "     obtained local values 0.009321928024291992\n",
      "get_mc_stats 0.015861988067626953\n"
     ]
    },
    {
     "name": "stderr",
     "output_type": "stream",
     "text": [
      " 69%|██████▉   | 688/1000 [2:32:31<1:11:18, 13.71s/it, Energy=-2.105818+0.000000j ± 0.000010 [σ²=0.000000]]    "
     ]
    },
    {
     "name": "stdout",
     "output_type": "stream",
     "text": [
      "--->> cal O and jac  0.048895835876464844\n",
      "compute_update  0.05276179313659668\n",
      "(0.037718470963710324+0j)\n",
      "n_discard =  144\n",
      "discard samples 1.8517541885375977\n",
      "n_samples_node =  1000\n",
      "generate_samples :  11.826143980026245\n",
      "     prepare getting local values 0.0020830631256103516\n",
      "     obtained local values 0.007925033569335938\n",
      "get_mc_stats 0.012437105178833008\n"
     ]
    },
    {
     "name": "stderr",
     "output_type": "stream",
     "text": [
      " 69%|██████▉   | 689/1000 [2:32:45<1:11:06, 13.72s/it, Energy=-2.105807+0.000000j ± 0.000011 [σ²=0.000000]]"
     ]
    },
    {
     "name": "stdout",
     "output_type": "stream",
     "text": [
      "--->> cal O and jac  0.037172794342041016\n",
      "compute_update  0.040869951248168945\n",
      "(0.0377099502604708+0j)\n",
      "n_discard =  144\n",
      "discard samples 1.7175266742706299\n",
      "n_samples_node =  1000\n",
      "generate_samples :  12.265779972076416\n",
      "     prepare getting local values 0.0020270347595214844\n",
      "     obtained local values 0.00787806510925293\n",
      "get_mc_stats 0.013274908065795898\n"
     ]
    },
    {
     "name": "stderr",
     "output_type": "stream",
     "text": [
      " 69%|██████▉   | 690/1000 [2:32:59<1:11:23, 13.82s/it, Energy=-2.105812+0.000000j ± 0.000011 [σ²=0.000000]]"
     ]
    },
    {
     "name": "stdout",
     "output_type": "stream",
     "text": [
      "--->> cal O and jac  0.04287314414978027\n",
      "compute_update  0.04626202583312988\n",
      "(0.03770163081199693+0j)\n",
      "n_discard =  144\n",
      "discard samples 1.6550629138946533\n",
      "n_samples_node =  1000\n",
      "generate_samples :  11.7518470287323\n",
      "     prepare getting local values 0.002641916275024414\n",
      "     obtained local values 0.00831913948059082\n",
      "get_mc_stats 0.013108968734741211\n"
     ]
    },
    {
     "name": "stderr",
     "output_type": "stream",
     "text": [
      " 69%|██████▉   | 691/1000 [2:33:12<1:10:36, 13.71s/it, Energy=-2.105810+0.000000j ± 0.000013 [σ²=0.000000]]"
     ]
    },
    {
     "name": "stdout",
     "output_type": "stream",
     "text": [
      "--->> cal O and jac  0.037018775939941406\n",
      "compute_update  0.04015493392944336\n",
      "(0.03769330435813113+0j)\n",
      "n_discard =  144\n",
      "discard samples 1.6773040294647217\n",
      "n_samples_node =  1000\n",
      "generate_samples :  11.495823860168457\n",
      "     prepare getting local values 0.0025780200958251953\n",
      "     obtained local values 0.008358955383300781\n",
      "get_mc_stats 0.01270604133605957\n"
     ]
    },
    {
     "name": "stderr",
     "output_type": "stream",
     "text": [
      " 69%|██████▉   | 692/1000 [2:33:26<1:09:38, 13.57s/it, Energy=-2.105799+0.000000j ± 0.000012 [σ²=0.000000]]"
     ]
    },
    {
     "name": "stdout",
     "output_type": "stream",
     "text": [
      "--->> cal O and jac  0.03750920295715332\n",
      "compute_update  0.04120492935180664\n",
      "(0.037684759969390635+0j)\n",
      "n_discard =  144\n",
      "discard samples 1.692117691040039\n",
      "n_samples_node =  1000\n",
      "generate_samples :  11.43636679649353\n",
      "     prepare getting local values 0.0022699832916259766\n",
      "     obtained local values 0.008109092712402344\n",
      "get_mc_stats 0.012521028518676758\n"
     ]
    },
    {
     "name": "stderr",
     "output_type": "stream",
     "text": [
      " 69%|██████▉   | 693/1000 [2:33:39<1:08:49, 13.45s/it, Energy=-2.105816+0.000000j ± 0.000012 [σ²=0.000000]]"
     ]
    },
    {
     "name": "stdout",
     "output_type": "stream",
     "text": [
      "--->> cal O and jac  0.03684401512145996\n",
      "compute_update  0.04036903381347656\n",
      "(0.03767704846982412+0j)\n",
      "n_discard =  144\n",
      "discard samples 1.7346360683441162\n",
      "n_samples_node =  1000\n",
      "generate_samples :  11.81636095046997\n",
      "     prepare getting local values 0.0021209716796875\n",
      "     obtained local values 0.008278846740722656\n",
      "get_mc_stats 0.012890100479125977\n"
     ]
    },
    {
     "name": "stderr",
     "output_type": "stream",
     "text": [
      " 69%|██████▉   | 694/1000 [2:33:52<1:08:50, 13.50s/it, Energy=-2.105815+0.000000j ± 0.000013 [σ²=0.000000]]"
     ]
    },
    {
     "name": "stdout",
     "output_type": "stream",
     "text": [
      "--->> cal O and jac  0.0370182991027832\n",
      "compute_update  0.0401310920715332\n",
      "(0.037668693284923234+0j)\n",
      "n_discard =  144\n",
      "discard samples 1.6632890701293945\n",
      "n_samples_node =  1000\n",
      "generate_samples :  11.675922155380249\n",
      "     prepare getting local values 0.0021469593048095703\n",
      "     obtained local values 0.007904052734375\n",
      "get_mc_stats 0.011931896209716797\n"
     ]
    },
    {
     "name": "stderr",
     "output_type": "stream",
     "text": [
      " 70%|██████▉   | 695/1000 [2:34:06<1:08:28, 13.47s/it, Energy=-2.105798+0.000000j ± 0.000014 [σ²=0.000000]]"
     ]
    },
    {
     "name": "stdout",
     "output_type": "stream",
     "text": [
      "--->> cal O and jac  0.049584150314331055\n",
      "compute_update  0.052745819091796875\n",
      "(0.03766098411955664+0j)\n",
      "n_discard =  144\n",
      "discard samples 1.7134268283843994\n",
      "n_samples_node =  1000\n",
      "generate_samples :  11.76781415939331\n",
      "     prepare getting local values 0.002477884292602539\n",
      "     obtained local values 0.008215904235839844\n",
      "get_mc_stats 0.012318849563598633\n"
     ]
    },
    {
     "name": "stderr",
     "output_type": "stream",
     "text": [
      " 70%|██████▉   | 696/1000 [2:34:19<1:08:21, 13.49s/it, Energy=-2.105839+0.000000j ± 0.000012 [σ²=0.000000]]"
     ]
    },
    {
     "name": "stdout",
     "output_type": "stream",
     "text": [
      "--->> cal O and jac  0.03589820861816406\n",
      "compute_update  0.03933429718017578\n",
      "(0.03765295319453717+0j)\n",
      "n_discard =  144\n",
      "discard samples 1.7270450592041016\n",
      "n_samples_node =  1000\n",
      "generate_samples :  11.616950988769531\n",
      "     prepare getting local values 0.0023543834686279297\n",
      "     obtained local values 0.008288145065307617\n",
      "get_mc_stats 0.013386011123657227\n"
     ]
    },
    {
     "name": "stderr",
     "output_type": "stream",
     "text": [
      " 70%|██████▉   | 697/1000 [2:34:33<1:07:59, 13.46s/it, Energy=-2.105824+0.000000j ± 0.000010 [σ²=0.000000]]"
     ]
    },
    {
     "name": "stdout",
     "output_type": "stream",
     "text": [
      "--->> cal O and jac  0.038614749908447266\n",
      "compute_update  0.042424678802490234\n",
      "(0.03764471055223335+0j)\n",
      "n_discard =  144\n",
      "discard samples 1.6675090789794922\n",
      "n_samples_node =  1000\n",
      "generate_samples :  11.816405057907104\n",
      "     prepare getting local values 0.0020809173583984375\n",
      "     obtained local values 0.007802009582519531\n",
      "get_mc_stats 0.011920928955078125\n"
     ]
    },
    {
     "name": "stderr",
     "output_type": "stream",
     "text": [
      " 70%|██████▉   | 698/1000 [2:34:46<1:07:54, 13.49s/it, Energy=-2.105813+0.000000j ± 0.000014 [σ²=0.000000]]"
     ]
    },
    {
     "name": "stdout",
     "output_type": "stream",
     "text": [
      "--->> cal O and jac  0.04886293411254883\n",
      "compute_update  0.054559946060180664\n",
      "(0.03763695087885985+0j)\n",
      "n_discard =  144\n",
      "discard samples 1.9054079055786133\n",
      "n_samples_node =  1000\n",
      "generate_samples :  11.764621019363403\n",
      "     prepare getting local values 0.002306222915649414\n",
      "     obtained local values 0.008362054824829102\n",
      "get_mc_stats 0.012906789779663086\n"
     ]
    },
    {
     "name": "stderr",
     "output_type": "stream",
     "text": [
      " 70%|██████▉   | 699/1000 [2:35:00<1:08:02, 13.56s/it, Energy=-2.105818+0.000000j ± 0.000014 [σ²=0.000000]]"
     ]
    },
    {
     "name": "stdout",
     "output_type": "stream",
     "text": [
      "--->> cal O and jac  0.039893150329589844\n",
      "compute_update  0.04395318031311035\n",
      "(0.03762857958342979+0j)\n",
      "n_discard =  144\n",
      "discard samples 1.6602041721343994\n",
      "n_samples_node =  1000\n",
      "generate_samples :  11.39693808555603\n",
      "     prepare getting local values 0.0024690628051757812\n",
      "     obtained local values 0.008169889450073242\n",
      "get_mc_stats 0.012504100799560547\n"
     ]
    },
    {
     "name": "stderr",
     "output_type": "stream",
     "text": [
      " 70%|███████   | 700/1000 [2:35:13<1:07:08, 13.43s/it, Energy=-2.105812+0.000000j ± 0.000013 [σ²=0.000000]]"
     ]
    },
    {
     "name": "stdout",
     "output_type": "stream",
     "text": [
      "--->> cal O and jac  0.03643798828125\n",
      "compute_update  0.03988289833068848\n",
      "(0.03762033031291662+0j)\n",
      "n_discard =  144\n",
      "discard samples 1.6502959728240967\n",
      "n_samples_node =  1000\n",
      "generate_samples :  11.348526954650879\n",
      "     prepare getting local values 0.00226593017578125\n",
      "     obtained local values 0.007879972457885742\n",
      "get_mc_stats 0.011930704116821289\n"
     ]
    },
    {
     "name": "stderr",
     "output_type": "stream",
     "text": [
      " 70%|███████   | 701/1000 [2:35:26<1:06:21, 13.32s/it, Energy=-2.105812+0.000000j ± 0.000013 [σ²=0.000000]]"
     ]
    },
    {
     "name": "stdout",
     "output_type": "stream",
     "text": [
      "--->> cal O and jac  0.03721213340759277\n",
      "compute_update  0.04050397872924805\n",
      "(0.03761219971095289+0j)\n",
      "n_discard =  144\n",
      "discard samples 1.6479098796844482\n",
      "n_samples_node =  1000\n",
      "generate_samples :  11.424313068389893\n",
      "     prepare getting local values 0.002989053726196289\n",
      "     obtained local values 0.008971929550170898\n",
      "get_mc_stats 0.013471364974975586\n"
     ]
    },
    {
     "name": "stderr",
     "output_type": "stream",
     "text": [
      " 70%|███████   | 702/1000 [2:35:39<1:05:51, 13.26s/it, Energy=-2.105795+0.000000j ± 0.000012 [σ²=0.000000]]"
     ]
    },
    {
     "name": "stdout",
     "output_type": "stream",
     "text": [
      "--->> cal O and jac  0.0384981632232666\n",
      "compute_update  0.04164409637451172\n",
      "(0.03760440932175308+0j)\n",
      "n_discard =  144\n",
      "discard samples 1.6647858619689941\n",
      "n_samples_node =  1000\n",
      "generate_samples :  11.691478967666626\n",
      "     prepare getting local values 0.002603769302368164\n",
      "     obtained local values 0.008468866348266602\n",
      "get_mc_stats 0.012842178344726562\n"
     ]
    },
    {
     "name": "stderr",
     "output_type": "stream",
     "text": [
      " 70%|███████   | 703/1000 [2:35:53<1:05:52, 13.31s/it, Energy=-2.105808+0.000000j ± 0.000014 [σ²=0.000000]]"
     ]
    },
    {
     "name": "stdout",
     "output_type": "stream",
     "text": [
      "--->> cal O and jac  0.04210805892944336\n",
      "compute_update  0.045989274978637695\n",
      "(0.03759724778416546+0j)\n",
      "n_discard =  144\n",
      "discard samples 1.6849391460418701\n",
      "n_samples_node =  1000\n",
      "generate_samples :  11.90013599395752\n",
      "     prepare getting local values 0.0024280548095703125\n",
      "     obtained local values 0.008688926696777344\n",
      "get_mc_stats 0.012878179550170898\n"
     ]
    },
    {
     "name": "stderr",
     "output_type": "stream",
     "text": [
      " 70%|███████   | 704/1000 [2:36:06<1:06:09, 13.41s/it, Energy=-2.1058084+0.0000000j ± 0.0000094 [σ²=0.0000001]]"
     ]
    },
    {
     "name": "stdout",
     "output_type": "stream",
     "text": [
      "--->> cal O and jac  0.04466104507446289\n",
      "compute_update  0.048452138900756836\n",
      "(0.03758988711368849+0j)\n",
      "n_discard =  144\n",
      "discard samples 1.7286839485168457\n",
      "n_samples_node =  1000\n",
      "generate_samples :  11.593605995178223\n",
      "     prepare getting local values 0.0023260116577148438\n",
      "     obtained local values 0.008177995681762695\n",
      "get_mc_stats 0.012248754501342773\n"
     ]
    },
    {
     "name": "stderr",
     "output_type": "stream",
     "text": [
      " 70%|███████   | 705/1000 [2:36:20<1:05:53, 13.40s/it, Energy=-2.105829+0.000000j ± 0.000012 [σ²=0.000000]]    "
     ]
    },
    {
     "name": "stdout",
     "output_type": "stream",
     "text": [
      "--->> cal O and jac  0.03750920295715332\n",
      "compute_update  0.04114031791687012\n",
      "(0.03758206425178902+0j)\n",
      "n_discard =  144\n",
      "discard samples 1.651413917541504\n",
      "n_samples_node =  1000\n",
      "generate_samples :  11.352193117141724\n",
      "     prepare getting local values 0.0020558834075927734\n",
      "     obtained local values 0.007600069046020508\n",
      "get_mc_stats 0.011590003967285156\n"
     ]
    },
    {
     "name": "stderr",
     "output_type": "stream",
     "text": [
      " 71%|███████   | 706/1000 [2:36:33<1:05:09, 13.30s/it, Energy=-2.105812+0.000000j ± 0.000011 [σ²=0.000000]]"
     ]
    },
    {
     "name": "stdout",
     "output_type": "stream",
     "text": [
      "--->> cal O and jac  0.03603696823120117\n",
      "compute_update  0.039224863052368164\n",
      "(0.037574619347838865+0j)\n",
      "n_discard =  144\n",
      "discard samples 1.6697278022766113\n",
      "n_samples_node =  1000\n",
      "generate_samples :  11.550647020339966\n",
      "     prepare getting local values 0.0022950172424316406\n",
      "     obtained local values 0.00816798210144043\n",
      "get_mc_stats 0.012885808944702148\n"
     ]
    },
    {
     "name": "stderr",
     "output_type": "stream",
     "text": [
      " 71%|███████   | 707/1000 [2:36:46<1:04:56, 13.30s/it, Energy=-2.1058032+0.0000000j ± 0.0000099 [σ²=0.0000001]]"
     ]
    },
    {
     "name": "stdout",
     "output_type": "stream",
     "text": [
      "--->> cal O and jac  0.062435150146484375\n",
      "compute_update  0.06626415252685547\n",
      "(0.037566659670379324+0j)\n",
      "n_discard =  144\n",
      "discard samples 2.1061439514160156\n",
      "n_samples_node =  1000\n",
      "generate_samples :  11.719168901443481\n",
      "     prepare getting local values 0.002295970916748047\n",
      "     obtained local values 0.007938146591186523\n",
      "get_mc_stats 0.012139081954956055\n"
     ]
    },
    {
     "name": "stderr",
     "output_type": "stream",
     "text": [
      " 71%|███████   | 708/1000 [2:37:00<1:05:34, 13.47s/it, Energy=-2.105808+0.000000j ± 0.000012 [σ²=0.000000]]    "
     ]
    },
    {
     "name": "stdout",
     "output_type": "stream",
     "text": [
      "--->> cal O and jac  0.03692221641540527\n",
      "compute_update  0.0406641960144043\n",
      "(0.03755950112203989+0j)\n",
      "n_discard =  144\n",
      "discard samples 1.653291940689087\n",
      "n_samples_node =  1000\n",
      "generate_samples :  11.592317819595337\n",
      "     prepare getting local values 0.0025899410247802734\n",
      "     obtained local values 0.008480072021484375\n",
      "get_mc_stats 0.012760639190673828\n"
     ]
    },
    {
     "name": "stderr",
     "output_type": "stream",
     "text": [
      " 71%|███████   | 709/1000 [2:37:13<1:05:05, 13.42s/it, Energy=-2.105827+0.000000j ± 0.000012 [σ²=0.000000]]"
     ]
    },
    {
     "name": "stdout",
     "output_type": "stream",
     "text": [
      "--->> cal O and jac  0.037665605545043945\n",
      "compute_update  0.04107975959777832\n",
      "(0.03755190120393079+0j)\n",
      "n_discard =  144\n",
      "discard samples 1.6764187812805176\n",
      "n_samples_node =  1000\n",
      "generate_samples :  11.604980945587158\n",
      "     prepare getting local values 0.0020728111267089844\n",
      "     obtained local values 0.0077898502349853516\n",
      "get_mc_stats 0.011768102645874023\n"
     ]
    },
    {
     "name": "stderr",
     "output_type": "stream",
     "text": [
      " 71%|███████   | 710/1000 [2:37:27<1:04:44, 13.40s/it, Energy=-2.105834+0.000000j ± 0.000010 [σ²=0.000000]]"
     ]
    },
    {
     "name": "stdout",
     "output_type": "stream",
     "text": [
      "--->> cal O and jac  0.035784006118774414\n",
      "compute_update  0.03929495811462402\n",
      "(0.03754489839063129+0j)\n",
      "n_discard =  144\n",
      "discard samples 1.6683390140533447\n",
      "n_samples_node =  1000\n",
      "generate_samples :  11.358251094818115\n",
      "     prepare getting local values 0.002012014389038086\n",
      "     obtained local values 0.0076770782470703125\n",
      "get_mc_stats 0.01182413101196289\n"
     ]
    },
    {
     "name": "stderr",
     "output_type": "stream",
     "text": [
      " 71%|███████   | 711/1000 [2:37:40<1:04:04, 13.30s/it, Energy=-2.1058327+0.0000000j ± 0.0000080 [σ²=0.0000001]]"
     ]
    },
    {
     "name": "stdout",
     "output_type": "stream",
     "text": [
      "--->> cal O and jac  0.038247108459472656\n",
      "compute_update  0.041697025299072266\n",
      "(0.03753746638965319+0j)\n",
      "n_discard =  144\n",
      "discard samples 1.6507320404052734\n",
      "n_samples_node =  1000\n",
      "generate_samples :  11.579348087310791\n",
      "     prepare getting local values 0.002218008041381836\n",
      "     obtained local values 0.007917165756225586\n",
      "get_mc_stats 0.012449979782104492\n"
     ]
    },
    {
     "name": "stderr",
     "output_type": "stream",
     "text": [
      " 71%|███████   | 712/1000 [2:37:53<1:03:49, 13.30s/it, Energy=-2.105818+0.000000j ± 0.000011 [σ²=0.000000]]    "
     ]
    },
    {
     "name": "stdout",
     "output_type": "stream",
     "text": [
      "--->> cal O and jac  0.03922915458679199\n",
      "compute_update  0.043035268783569336\n",
      "(0.0375306701135812+0j)\n",
      "n_discard =  144\n",
      "discard samples 1.6768698692321777\n",
      "n_samples_node =  1000\n",
      "generate_samples :  11.652009963989258\n",
      "     prepare getting local values 0.002396821975708008\n",
      "     obtained local values 0.007995843887329102\n",
      "get_mc_stats 0.011900186538696289\n"
     ]
    },
    {
     "name": "stderr",
     "output_type": "stream",
     "text": [
      " 71%|███████▏  | 713/1000 [2:38:06<1:03:44, 13.32s/it, Energy=-2.105810+0.000000j ± 0.000012 [σ²=0.000000]]"
     ]
    },
    {
     "name": "stdout",
     "output_type": "stream",
     "text": [
      "--->> cal O and jac  0.03976917266845703\n",
      "compute_update  0.0433039665222168\n",
      "(0.037522767900488085+0j)\n",
      "n_discard =  144\n",
      "discard samples 1.6987648010253906\n",
      "n_samples_node =  1000\n",
      "generate_samples :  11.465127944946289\n",
      "     prepare getting local values 0.0023529529571533203\n",
      "     obtained local values 0.008035898208618164\n",
      "get_mc_stats 0.012137889862060547\n"
     ]
    },
    {
     "name": "stderr",
     "output_type": "stream",
     "text": [
      " 71%|███████▏  | 714/1000 [2:38:20<1:03:21, 13.29s/it, Energy=-2.1058062+0.0000000j ± 0.0000100 [σ²=0.0000001]]"
     ]
    },
    {
     "name": "stdout",
     "output_type": "stream",
     "text": [
      "--->> cal O and jac  0.03632187843322754\n",
      "compute_update  0.040164947509765625\n",
      "(0.037515317236009996+0j)\n",
      "n_discard =  144\n",
      "discard samples 1.6494102478027344\n",
      "n_samples_node =  1000\n",
      "generate_samples :  11.58150339126587\n",
      "     prepare getting local values 0.002643108367919922\n",
      "     obtained local values 0.008507251739501953\n",
      "get_mc_stats 0.013267040252685547\n"
     ]
    },
    {
     "name": "stderr",
     "output_type": "stream",
     "text": [
      " 72%|███████▏  | 715/1000 [2:38:33<1:03:08, 13.29s/it, Energy=-2.1058190+0.0000000j ± 0.0000100 [σ²=0.0000001]]"
     ]
    },
    {
     "name": "stdout",
     "output_type": "stream",
     "text": [
      "--->> cal O and jac  0.04061698913574219\n",
      "compute_update  0.04361391067504883\n",
      "(0.03750836267944177+0j)\n",
      "n_discard =  144\n",
      "discard samples 1.6612768173217773\n",
      "n_samples_node =  1000\n",
      "generate_samples :  11.498064994812012\n",
      "     prepare getting local values 0.0021839141845703125\n",
      "     obtained local values 0.007962942123413086\n",
      "get_mc_stats 0.012126922607421875\n"
     ]
    },
    {
     "name": "stderr",
     "output_type": "stream",
     "text": [
      " 72%|███████▏  | 716/1000 [2:38:46<1:02:48, 13.27s/it, Energy=-2.105819+0.000000j ± 0.000014 [σ²=0.000000]]    "
     ]
    },
    {
     "name": "stdout",
     "output_type": "stream",
     "text": [
      "--->> cal O and jac  0.0417327880859375\n",
      "compute_update  0.04683709144592285\n",
      "(0.03750101150939303+0j)\n",
      "n_discard =  144\n",
      "discard samples 1.862982988357544\n",
      "n_samples_node =  1000\n",
      "generate_samples :  11.777415990829468\n",
      "     prepare getting local values 0.0022499561309814453\n",
      "     obtained local values 0.008069753646850586\n",
      "get_mc_stats 0.012436151504516602\n"
     ]
    },
    {
     "name": "stderr",
     "output_type": "stream",
     "text": [
      " 72%|███████▏  | 717/1000 [2:39:00<1:03:11, 13.40s/it, Energy=-2.105803+0.000000j ± 0.000012 [σ²=0.000000]]"
     ]
    },
    {
     "name": "stdout",
     "output_type": "stream",
     "text": [
      "--->> cal O and jac  0.03665900230407715\n",
      "compute_update  0.04061698913574219\n",
      "(0.0374939802829554+0j)\n",
      "n_discard =  144\n",
      "discard samples 1.6495752334594727\n",
      "n_samples_node =  1000\n",
      "generate_samples :  11.454751968383789\n",
      "     prepare getting local values 0.0025348663330078125\n",
      "     obtained local values 0.008444786071777344\n",
      "get_mc_stats 0.012916088104248047\n"
     ]
    },
    {
     "name": "stderr",
     "output_type": "stream",
     "text": [
      " 72%|███████▏  | 718/1000 [2:39:13<1:02:38, 13.33s/it, Energy=-2.105815+0.000000j ± 0.000013 [σ²=0.000000]]"
     ]
    },
    {
     "name": "stdout",
     "output_type": "stream",
     "text": [
      "--->> cal O and jac  0.03928089141845703\n",
      "compute_update  0.04290604591369629\n",
      "(0.037486945377002166+0j)\n",
      "n_discard =  144\n",
      "discard samples 1.660106897354126\n",
      "n_samples_node =  1000\n",
      "generate_samples :  11.370740175247192\n",
      "     prepare getting local values 0.0020780563354492188\n",
      "     obtained local values 0.007961034774780273\n",
      "get_mc_stats 0.012196063995361328\n"
     ]
    },
    {
     "name": "stderr",
     "output_type": "stream",
     "text": [
      " 72%|███████▏  | 719/1000 [2:39:26<1:02:04, 13.25s/it, Energy=-2.105822+0.000000j ± 0.000011 [σ²=0.000000]]"
     ]
    },
    {
     "name": "stdout",
     "output_type": "stream",
     "text": [
      "--->> cal O and jac  0.03660082817077637\n",
      "compute_update  0.03995800018310547\n",
      "(0.03748076127058156+0j)\n",
      "n_discard =  144\n",
      "discard samples 1.6884441375732422\n",
      "n_samples_node =  1000\n",
      "generate_samples :  11.459064722061157\n",
      "     prepare getting local values 0.00215911865234375\n",
      "     obtained local values 0.007982015609741211\n",
      "get_mc_stats 0.012235164642333984\n"
     ]
    },
    {
     "name": "stderr",
     "output_type": "stream",
     "text": [
      " 72%|███████▏  | 720/1000 [2:39:39<1:01:47, 13.24s/it, Energy=-2.1058152+0.0000000j ± 0.0000099 [σ²=0.0000001]]"
     ]
    },
    {
     "name": "stdout",
     "output_type": "stream",
     "text": [
      "--->> cal O and jac  0.0372312068939209\n",
      "compute_update  0.04065990447998047\n",
      "(0.037474436848382996+0j)\n",
      "n_discard =  144\n",
      "discard samples 1.6473052501678467\n",
      "n_samples_node =  1000\n",
      "generate_samples :  11.740222930908203\n",
      "     prepare getting local values 0.0021271705627441406\n",
      "     obtained local values 0.008156061172485352\n",
      "get_mc_stats 0.012501001358032227\n"
     ]
    },
    {
     "name": "stderr",
     "output_type": "stream",
     "text": [
      " 72%|███████▏  | 721/1000 [2:39:53<1:01:50, 13.30s/it, Energy=-2.105831+0.000000j ± 0.000011 [σ²=0.000000]]    "
     ]
    },
    {
     "name": "stdout",
     "output_type": "stream",
     "text": [
      "--->> cal O and jac  0.03867983818054199\n",
      "compute_update  0.04185986518859863\n",
      "(0.037468546864088646+0j)\n",
      "n_discard =  144\n",
      "discard samples 1.6463358402252197\n",
      "n_samples_node =  1000\n",
      "generate_samples :  11.436115026473999\n",
      "     prepare getting local values 0.00257110595703125\n",
      "     obtained local values 0.008594989776611328\n",
      "get_mc_stats 0.012739181518554688\n"
     ]
    },
    {
     "name": "stderr",
     "output_type": "stream",
     "text": [
      " 72%|███████▏  | 722/1000 [2:40:06<1:01:24, 13.25s/it, Energy=-2.105817+0.000000j ± 0.000010 [σ²=0.000000]]"
     ]
    },
    {
     "name": "stdout",
     "output_type": "stream",
     "text": [
      "--->> cal O and jac  0.0371091365814209\n",
      "compute_update  0.04048800468444824\n",
      "(0.03746203856947606+0j)\n",
      "n_discard =  144\n",
      "discard samples 1.6488549709320068\n",
      "n_samples_node =  1000\n",
      "generate_samples :  11.536794900894165\n",
      "     prepare getting local values 0.0029108524322509766\n",
      "     obtained local values 0.009231805801391602\n",
      "get_mc_stats 0.014526128768920898\n"
     ]
    },
    {
     "name": "stderr",
     "output_type": "stream",
     "text": [
      " 72%|███████▏  | 723/1000 [2:40:19<1:01:10, 13.25s/it, Energy=-2.1058092+0.0000000j ± 0.0000090 [σ²=0.0000001]]"
     ]
    },
    {
     "name": "stdout",
     "output_type": "stream",
     "text": [
      "--->> cal O and jac  0.04510688781738281\n",
      "compute_update  0.04834580421447754\n",
      "(0.037455541230518564+0j)\n",
      "n_discard =  144\n",
      "discard samples 1.684844970703125\n",
      "n_samples_node =  1000\n",
      "generate_samples :  11.553408861160278\n",
      "     prepare getting local values 0.0021338462829589844\n",
      "     obtained local values 0.007941722869873047\n",
      "get_mc_stats 0.012129068374633789\n"
     ]
    },
    {
     "name": "stderr",
     "output_type": "stream",
     "text": [
      " 72%|███████▏  | 724/1000 [2:40:32<1:01:00, 13.26s/it, Energy=-2.1058290+0.0000000j ± 0.0000082 [σ²=0.0000001]]"
     ]
    },
    {
     "name": "stdout",
     "output_type": "stream",
     "text": [
      "--->> cal O and jac  0.03601503372192383\n",
      "compute_update  0.039579153060913086\n",
      "(0.03745021282285315+0j)\n",
      "n_discard =  144\n",
      "discard samples 1.6638171672821045\n",
      "n_samples_node =  1000\n",
      "generate_samples :  11.505903244018555\n",
      "     prepare getting local values 0.002481222152709961\n",
      "     obtained local values 0.008255958557128906\n",
      "get_mc_stats 0.012576818466186523\n"
     ]
    },
    {
     "name": "stderr",
     "output_type": "stream",
     "text": [
      " 72%|███████▎  | 725/1000 [2:40:46<1:00:46, 13.26s/it, Energy=-2.1058103+0.0000000j ± 0.0000098 [σ²=0.0000001]]"
     ]
    },
    {
     "name": "stdout",
     "output_type": "stream",
     "text": [
      "--->> cal O and jac  0.03660297393798828\n",
      "compute_update  0.0583338737487793\n",
      "(0.03744393390400253+0j)\n",
      "n_discard =  144\n",
      "discard samples 1.911855936050415\n",
      "n_samples_node =  1000\n",
      "generate_samples :  11.585824966430664\n",
      "     prepare getting local values 0.002518177032470703\n",
      "     obtained local values 0.008469104766845703\n",
      "get_mc_stats 0.012747049331665039\n"
     ]
    },
    {
     "name": "stderr",
     "output_type": "stream",
     "text": [
      " 73%|███████▎  | 726/1000 [2:40:59<1:00:57, 13.35s/it, Energy=-2.105812+0.000000j ± 0.000011 [σ²=0.000000]]    "
     ]
    },
    {
     "name": "stdout",
     "output_type": "stream",
     "text": [
      "--->> cal O and jac  0.03932905197143555\n",
      "compute_update  0.04336690902709961\n",
      "(0.0374372966393506+0j)\n",
      "n_discard =  144\n",
      "discard samples 1.6817495822906494\n",
      "n_samples_node =  1000\n",
      "generate_samples :  11.497457027435303\n",
      "     prepare getting local values 0.002086162567138672\n",
      "     obtained local values 0.007790088653564453\n",
      "get_mc_stats 0.011691093444824219\n"
     ]
    },
    {
     "name": "stderr",
     "output_type": "stream",
     "text": [
      " 73%|███████▎  | 727/1000 [2:41:12<1:00:34, 13.31s/it, Energy=-2.105813+0.000000j ± 0.000011 [σ²=0.000000]]"
     ]
    },
    {
     "name": "stdout",
     "output_type": "stream",
     "text": [
      "--->> cal O and jac  0.037500858306884766\n",
      "compute_update  0.04072713851928711\n",
      "(0.03743086842920641+0j)\n",
      "n_discard =  144\n",
      "discard samples 1.6501450538635254\n",
      "n_samples_node =  1000\n",
      "generate_samples :  11.406099796295166\n",
      "     prepare getting local values 0.0023229122161865234\n",
      "     obtained local values 0.00805974006652832\n",
      "get_mc_stats 0.012252092361450195\n"
     ]
    },
    {
     "name": "stderr",
     "output_type": "stream",
     "text": [
      " 73%|███████▎  | 728/1000 [2:41:26<1:00:04, 13.25s/it, Energy=-2.105831+0.000000j ± 0.000012 [σ²=0.000000]]"
     ]
    },
    {
     "name": "stdout",
     "output_type": "stream",
     "text": [
      "--->> cal O and jac  0.03625917434692383\n",
      "compute_update  0.03987407684326172\n",
      "(0.037424342880788025+0j)\n",
      "n_discard =  144\n",
      "discard samples 1.6423759460449219\n",
      "n_samples_node =  1000\n",
      "generate_samples :  11.46281909942627\n",
      "     prepare getting local values 0.002496957778930664\n",
      "     obtained local values 0.008126974105834961\n",
      "get_mc_stats 0.012073040008544922\n"
     ]
    },
    {
     "name": "stderr",
     "output_type": "stream",
     "text": [
      " 73%|███████▎  | 729/1000 [2:41:39<59:43, 13.23s/it, Energy=-2.105809+0.000000j ± 0.000011 [σ²=0.000000]]  "
     ]
    },
    {
     "name": "stdout",
     "output_type": "stream",
     "text": [
      "--->> cal O and jac  0.03577017784118652\n",
      "compute_update  0.03912711143493652\n",
      "(0.037417787623520965+0j)\n",
      "n_discard =  144\n",
      "discard samples 1.6701691150665283\n",
      "n_samples_node =  1000\n",
      "generate_samples :  11.51199197769165\n",
      "     prepare getting local values 0.0024487972259521484\n",
      "     obtained local values 0.008217811584472656\n",
      "get_mc_stats 0.012572765350341797\n"
     ]
    },
    {
     "name": "stderr",
     "output_type": "stream",
     "text": [
      " 73%|███████▎  | 730/1000 [2:41:52<59:33, 13.23s/it, Energy=-2.105813+0.000000j ± 0.000010 [σ²=0.000000]]"
     ]
    },
    {
     "name": "stdout",
     "output_type": "stream",
     "text": [
      "--->> cal O and jac  0.05326390266418457\n",
      "compute_update  0.05768704414367676\n",
      "(0.03741114948861605+0j)\n",
      "n_discard =  144\n",
      "discard samples 1.8213121891021729\n",
      "n_samples_node =  1000\n",
      "generate_samples :  11.488453149795532\n",
      "     prepare getting local values 0.0021817684173583984\n",
      "     obtained local values 0.008397102355957031\n",
      "get_mc_stats 0.012658119201660156\n"
     ]
    },
    {
     "name": "stderr",
     "output_type": "stream",
     "text": [
      " 73%|███████▎  | 731/1000 [2:42:05<59:30, 13.27s/it, Energy=-2.105807+0.000000j ± 0.000011 [σ²=0.000000]]"
     ]
    },
    {
     "name": "stdout",
     "output_type": "stream",
     "text": [
      "--->> cal O and jac  0.038208961486816406\n",
      "compute_update  0.041808128356933594\n",
      "(0.037405026619068034+0j)\n",
      "n_discard =  144\n",
      "discard samples 1.6731650829315186\n",
      "n_samples_node =  1000\n",
      "generate_samples :  12.219958782196045\n",
      "     prepare getting local values 0.0030159950256347656\n",
      "     obtained local values 0.009137868881225586\n",
      "get_mc_stats 0.014664888381958008\n"
     ]
    },
    {
     "name": "stderr",
     "output_type": "stream",
     "text": [
      " 73%|███████▎  | 732/1000 [2:42:19<1:00:12, 13.48s/it, Energy=-2.1058153+0.0000000j ± 0.0000093 [σ²=0.0000001]]"
     ]
    },
    {
     "name": "stdout",
     "output_type": "stream",
     "text": [
      "--->> cal O and jac  0.049185991287231445\n",
      "compute_update  0.0539250373840332\n",
      "(0.03739872121747328+0j)\n",
      "n_discard =  144\n",
      "discard samples 1.6818339824676514\n",
      "n_samples_node =  1000\n",
      "generate_samples :  11.82196307182312\n",
      "     prepare getting local values 0.0023679733276367188\n",
      "     obtained local values 0.008249998092651367\n",
      "get_mc_stats 0.013087034225463867\n"
     ]
    },
    {
     "name": "stderr",
     "output_type": "stream",
     "text": [
      " 73%|███████▎  | 733/1000 [2:42:33<1:00:05, 13.51s/it, Energy=-2.1058040+0.0000000j ± 0.0000083 [σ²=0.0000001]]"
     ]
    },
    {
     "name": "stdout",
     "output_type": "stream",
     "text": [
      "--->> cal O and jac  0.038030147552490234\n",
      "compute_update  0.04144620895385742\n",
      "(0.03739245338600156+0j)\n",
      "n_discard =  144\n",
      "discard samples 1.6795167922973633\n",
      "n_samples_node =  1000\n",
      "generate_samples :  11.78122615814209\n",
      "     prepare getting local values 0.0024728775024414062\n",
      "     obtained local values 0.008525848388671875\n",
      "get_mc_stats 0.013324975967407227\n"
     ]
    },
    {
     "name": "stderr",
     "output_type": "stream",
     "text": [
      " 73%|███████▎  | 734/1000 [2:42:46<59:53, 13.51s/it, Energy=-2.105814+0.000000j ± 0.000011 [σ²=0.000000]]      "
     ]
    },
    {
     "name": "stdout",
     "output_type": "stream",
     "text": [
      "--->> cal O and jac  0.041809797286987305\n",
      "compute_update  0.04545903205871582\n",
      "(0.03738591126090001+0j)\n",
      "n_discard =  144\n",
      "discard samples 2.093369722366333\n",
      "n_samples_node =  1000\n",
      "generate_samples :  11.682967185974121\n",
      "     prepare getting local values 0.0026781558990478516\n",
      "     obtained local values 0.008379220962524414\n",
      "get_mc_stats 0.012450218200683594\n"
     ]
    },
    {
     "name": "stderr",
     "output_type": "stream",
     "text": [
      " 74%|███████▎  | 735/1000 [2:43:00<1:00:05, 13.61s/it, Energy=-2.105822+0.000000j ± 0.000012 [σ²=0.000000]]"
     ]
    },
    {
     "name": "stdout",
     "output_type": "stream",
     "text": [
      "--->> cal O and jac  0.036376953125\n",
      "compute_update  0.0396878719329834\n",
      "(0.03737928454935137+0j)\n",
      "n_discard =  144\n",
      "discard samples 1.653538703918457\n",
      "n_samples_node =  1000\n",
      "generate_samples :  11.542146921157837\n",
      "     prepare getting local values 0.002203226089477539\n",
      "     obtained local values 0.007958173751831055\n",
      "get_mc_stats 0.012417793273925781\n"
     ]
    },
    {
     "name": "stderr",
     "output_type": "stream",
     "text": [
      " 74%|███████▎  | 736/1000 [2:43:13<59:23, 13.50s/it, Energy=-2.1058251+0.0000000j ± 0.0000088 [σ²=0.0000001]]  "
     ]
    },
    {
     "name": "stdout",
     "output_type": "stream",
     "text": [
      "--->> cal O and jac  0.03655195236206055\n",
      "compute_update  0.039569854736328125\n",
      "(0.037372914346616+0j)\n",
      "n_discard =  144\n",
      "discard samples 1.6476788520812988\n",
      "n_samples_node =  1000\n",
      "generate_samples :  11.445068836212158\n",
      "     prepare getting local values 0.0032892227172851562\n",
      "     obtained local values 0.009493112564086914\n",
      "get_mc_stats 0.014782905578613281\n"
     ]
    },
    {
     "name": "stderr",
     "output_type": "stream",
     "text": [
      " 74%|███████▎  | 737/1000 [2:43:27<58:43, 13.40s/it, Energy=-2.1058037+0.0000000j ± 0.0000097 [σ²=0.0000001]]"
     ]
    },
    {
     "name": "stdout",
     "output_type": "stream",
     "text": [
      "--->> cal O and jac  0.044779062271118164\n",
      "compute_update  0.049758195877075195\n",
      "(0.03736618024742187+0j)\n",
      "n_discard =  144\n",
      "discard samples 1.7019803524017334\n",
      "n_samples_node =  1000\n",
      "generate_samples :  11.841269969940186\n",
      "     prepare getting local values 0.002435922622680664\n",
      "     obtained local values 0.00844883918762207\n",
      "get_mc_stats 0.013014078140258789\n"
     ]
    },
    {
     "name": "stderr",
     "output_type": "stream",
     "text": [
      " 74%|███████▍  | 738/1000 [2:43:40<58:46, 13.46s/it, Energy=-2.105816+0.000000j ± 0.000013 [σ²=0.000000]]    "
     ]
    },
    {
     "name": "stdout",
     "output_type": "stream",
     "text": [
      "--->> cal O and jac  0.04519915580749512\n",
      "compute_update  0.05072927474975586\n",
      "(0.03736074364346077+0j)\n",
      "n_discard =  144\n",
      "discard samples 1.83396577835083\n",
      "n_samples_node =  1000\n",
      "generate_samples :  12.313172101974487\n",
      "     prepare getting local values 0.0023992061614990234\n",
      "     obtained local values 0.00843191146850586\n",
      "get_mc_stats 0.014015913009643555\n"
     ]
    },
    {
     "name": "stderr",
     "output_type": "stream",
     "text": [
      " 74%|███████▍  | 739/1000 [2:43:54<59:31, 13.68s/it, Energy=-2.105812+0.000000j ± 0.000011 [σ²=0.000000]]"
     ]
    },
    {
     "name": "stdout",
     "output_type": "stream",
     "text": [
      "--->> cal O and jac  0.03967714309692383\n",
      "compute_update  0.04307818412780762\n",
      "(0.037355101470504914+0j)\n",
      "n_discard =  144\n",
      "discard samples 1.801664113998413\n",
      "n_samples_node =  1000\n",
      "generate_samples :  11.641467094421387\n",
      "     prepare getting local values 0.002178668975830078\n",
      "     obtained local values 0.007787942886352539\n",
      "get_mc_stats 0.011878252029418945\n"
     ]
    },
    {
     "name": "stderr",
     "output_type": "stream",
     "text": [
      " 74%|███████▍  | 740/1000 [2:44:08<59:03, 13.63s/it, Energy=-2.1058203+0.0000000j ± 0.0000064 [σ²=0.0000001]]"
     ]
    },
    {
     "name": "stdout",
     "output_type": "stream",
     "text": [
      "--->> cal O and jac  0.036772966384887695\n",
      "compute_update  0.040071725845336914\n",
      "(0.037349103352137494+0j)\n",
      "n_discard =  144\n",
      "discard samples 1.6723549365997314\n",
      "n_samples_node =  1000\n",
      "generate_samples :  11.443590879440308\n",
      "     prepare getting local values 0.0023651123046875\n",
      "     obtained local values 0.008093118667602539\n",
      "get_mc_stats 0.012232065200805664\n"
     ]
    },
    {
     "name": "stderr",
     "output_type": "stream",
     "text": [
      " 74%|███████▍  | 741/1000 [2:44:21<58:14, 13.49s/it, Energy=-2.1058372+0.0000000j ± 0.0000080 [σ²=0.0000001]]"
     ]
    },
    {
     "name": "stdout",
     "output_type": "stream",
     "text": [
      "--->> cal O and jac  0.037734031677246094\n",
      "compute_update  0.04122495651245117\n",
      "(0.03734327505469847+0j)\n",
      "n_discard =  144\n",
      "discard samples 1.6686818599700928\n",
      "n_samples_node =  1000\n",
      "generate_samples :  11.483348369598389\n",
      "     prepare getting local values 0.0020449161529541016\n",
      "     obtained local values 0.007756948471069336\n",
      "get_mc_stats 0.012027978897094727\n"
     ]
    },
    {
     "name": "stderr",
     "output_type": "stream",
     "text": [
      " 74%|███████▍  | 742/1000 [2:44:34<57:38, 13.41s/it, Energy=-2.105806+0.000000j ± 0.000010 [σ²=0.000000]]    "
     ]
    },
    {
     "name": "stdout",
     "output_type": "stream",
     "text": [
      "--->> cal O and jac  0.03866696357727051\n",
      "compute_update  0.041989803314208984\n",
      "(0.03733725308450428+0j)\n",
      "n_discard =  144\n",
      "discard samples 1.653407096862793\n",
      "n_samples_node =  1000\n",
      "generate_samples :  11.488625049591064\n",
      "     prepare getting local values 0.001964092254638672\n",
      "     obtained local values 0.007953882217407227\n",
      "get_mc_stats 0.01209402084350586\n"
     ]
    },
    {
     "name": "stderr",
     "output_type": "stream",
     "text": [
      " 74%|███████▍  | 743/1000 [2:44:47<57:09, 13.35s/it, Energy=-2.1058274+0.0000000j ± 0.0000090 [σ²=0.0000001]]"
     ]
    },
    {
     "name": "stdout",
     "output_type": "stream",
     "text": [
      "--->> cal O and jac  0.041982173919677734\n",
      "compute_update  0.04563117027282715\n",
      "(0.037331522329834665+0j)\n",
      "n_discard =  144\n",
      "discard samples 1.7970600128173828\n",
      "n_samples_node =  1000\n",
      "generate_samples :  11.487581968307495\n",
      "     prepare getting local values 0.002128124237060547\n",
      "     obtained local values 0.007822036743164062\n",
      "get_mc_stats 0.011886119842529297\n"
     ]
    },
    {
     "name": "stderr",
     "output_type": "stream",
     "text": [
      " 74%|███████▍  | 744/1000 [2:45:01<56:55, 13.34s/it, Energy=-2.1058213+0.0000000j ± 0.0000090 [σ²=0.0000001]]"
     ]
    },
    {
     "name": "stdout",
     "output_type": "stream",
     "text": [
      "--->> cal O and jac  0.03617405891418457\n",
      "compute_update  0.039337873458862305\n",
      "(0.03732525526765377+0j)\n",
      "n_discard =  144\n",
      "discard samples 1.6499032974243164\n",
      "n_samples_node =  1000\n",
      "generate_samples :  11.544388771057129\n",
      "     prepare getting local values 0.002429962158203125\n",
      "     obtained local values 0.008217096328735352\n",
      "get_mc_stats 0.013155937194824219\n"
     ]
    },
    {
     "name": "stderr",
     "output_type": "stream",
     "text": [
      " 74%|███████▍  | 745/1000 [2:45:14<56:35, 13.32s/it, Energy=-2.105805+0.000000j ± 0.000012 [σ²=0.000000]]    "
     ]
    },
    {
     "name": "stdout",
     "output_type": "stream",
     "text": [
      "--->> cal O and jac  0.03943991661071777\n",
      "compute_update  0.0425260066986084\n",
      "(0.03731877330988427+0j)\n",
      "n_discard =  144\n",
      "discard samples 1.659346342086792\n",
      "n_samples_node =  1000\n",
      "generate_samples :  11.625570058822632\n",
      "     prepare getting local values 0.002402782440185547\n",
      "     obtained local values 0.00827789306640625\n",
      "get_mc_stats 0.012373924255371094\n"
     ]
    },
    {
     "name": "stderr",
     "output_type": "stream",
     "text": [
      " 75%|███████▍  | 746/1000 [2:45:27<56:24, 13.32s/it, Energy=-2.105818+0.000000j ± 0.000011 [σ²=0.000000]]"
     ]
    },
    {
     "name": "stdout",
     "output_type": "stream",
     "text": [
      "--->> cal O and jac  0.04161715507507324\n",
      "compute_update  0.0456390380859375\n",
      "(0.037312307186868225+0j)\n",
      "n_discard =  144\n",
      "discard samples 1.6886279582977295\n",
      "n_samples_node =  1000\n",
      "generate_samples :  11.528748035430908\n",
      "     prepare getting local values 0.0022859573364257812\n",
      "     obtained local values 0.008038759231567383\n",
      "get_mc_stats 0.012223958969116211\n"
     ]
    },
    {
     "name": "stderr",
     "output_type": "stream",
     "text": [
      " 75%|███████▍  | 747/1000 [2:45:41<56:07, 13.31s/it, Energy=-2.1058177+0.0000000j ± 0.0000082 [σ²=0.0000001]]"
     ]
    },
    {
     "name": "stdout",
     "output_type": "stream",
     "text": [
      "--->> cal O and jac  0.039930105209350586\n",
      "compute_update  0.043215274810791016\n",
      "(0.03730546329558972+0j)\n",
      "n_discard =  144\n",
      "discard samples 1.678807020187378\n",
      "n_samples_node =  1000\n",
      "generate_samples :  11.588810920715332\n",
      "     prepare getting local values 0.0023670196533203125\n",
      "     obtained local values 0.007992744445800781\n",
      "get_mc_stats 0.012369155883789062\n"
     ]
    },
    {
     "name": "stderr",
     "output_type": "stream",
     "text": [
      " 75%|███████▍  | 748/1000 [2:45:54<55:55, 13.31s/it, Energy=-2.1058356+0.0000000j ± 0.0000083 [σ²=0.0000001]]"
     ]
    },
    {
     "name": "stdout",
     "output_type": "stream",
     "text": [
      "--->> cal O and jac  0.037240028381347656\n",
      "compute_update  0.04057598114013672\n",
      "(0.03729908589465768+0j)\n",
      "n_discard =  144\n",
      "discard samples 1.6836562156677246\n",
      "n_samples_node =  1000\n",
      "generate_samples :  11.399872064590454\n",
      "     prepare getting local values 0.002203226089477539\n",
      "     obtained local values 0.00801396369934082\n",
      "get_mc_stats 0.011827945709228516\n"
     ]
    },
    {
     "name": "stderr",
     "output_type": "stream",
     "text": [
      " 75%|███████▍  | 749/1000 [2:46:07<55:28, 13.26s/it, Energy=-2.1058142+0.0000000j ± 0.0000078 [σ²=0.0000001]]"
     ]
    },
    {
     "name": "stdout",
     "output_type": "stream",
     "text": [
      "--->> cal O and jac  0.040513038635253906\n",
      "compute_update  0.04395699501037598\n",
      "(0.037292802562515444+0j)\n",
      "n_discard =  144\n",
      "discard samples 1.6545050144195557\n",
      "n_samples_node =  1000\n",
      "generate_samples :  11.364932775497437\n",
      "     prepare getting local values 0.002079010009765625\n",
      "     obtained local values 0.0077838897705078125\n",
      "get_mc_stats 0.011721134185791016\n"
     ]
    },
    {
     "name": "stderr",
     "output_type": "stream",
     "text": [
      " 75%|███████▌  | 750/1000 [2:46:20<55:01, 13.21s/it, Energy=-2.1058247+0.0000000j ± 0.0000097 [σ²=0.0000001]]"
     ]
    },
    {
     "name": "stdout",
     "output_type": "stream",
     "text": [
      "--->> cal O and jac  0.03742194175720215\n",
      "compute_update  0.04072308540344238\n",
      "(0.03728628272709424+0j)\n",
      "n_discard =  144\n",
      "discard samples 1.6500210762023926\n",
      "n_samples_node =  1000\n",
      "generate_samples :  11.433205127716064\n",
      "     prepare getting local values 0.002051830291748047\n",
      "     obtained local values 0.007665872573852539\n",
      "get_mc_stats 0.011732101440429688\n"
     ]
    },
    {
     "name": "stderr",
     "output_type": "stream",
     "text": [
      " 75%|███████▌  | 751/1000 [2:46:33<54:43, 13.19s/it, Energy=-2.1058209+0.0000000j ± 0.0000081 [σ²=0.0000001]]"
     ]
    },
    {
     "name": "stdout",
     "output_type": "stream",
     "text": [
      "--->> cal O and jac  0.03642678260803223\n",
      "compute_update  0.03994894027709961\n",
      "(0.037280002369478454+0j)\n",
      "n_discard =  144\n",
      "discard samples 1.6660659313201904\n",
      "n_samples_node =  1000\n",
      "generate_samples :  11.398240804672241\n",
      "     prepare getting local values 0.002315044403076172\n",
      "     obtained local values 0.00802922248840332\n",
      "get_mc_stats 0.012223005294799805\n"
     ]
    },
    {
     "name": "stderr",
     "output_type": "stream",
     "text": [
      " 75%|███████▌  | 752/1000 [2:46:46<54:25, 13.17s/it, Energy=-2.1058143+0.0000000j ± 0.0000088 [σ²=0.0000001]]"
     ]
    },
    {
     "name": "stdout",
     "output_type": "stream",
     "text": [
      "--->> cal O and jac  0.043866872787475586\n",
      "compute_update  0.04935884475708008\n",
      "(0.03727348231220648+0j)\n",
      "n_discard =  144\n",
      "discard samples 1.7616512775421143\n",
      "n_samples_node =  1000\n",
      "generate_samples :  11.498492002487183\n",
      "     prepare getting local values 0.0023360252380371094\n",
      "     obtained local values 0.008022069931030273\n",
      "get_mc_stats 0.01270294189453125\n"
     ]
    },
    {
     "name": "stderr",
     "output_type": "stream",
     "text": [
      " 75%|███████▌  | 753/1000 [2:47:00<54:23, 13.21s/it, Energy=-2.1058036+0.0000000j ± 0.0000100 [σ²=0.0000001]]"
     ]
    },
    {
     "name": "stdout",
     "output_type": "stream",
     "text": [
      "--->> cal O and jac  0.040750741958618164\n",
      "compute_update  0.04401993751525879\n",
      "(0.03726705969562611+0j)\n",
      "n_discard =  144\n",
      "discard samples 1.6933338642120361\n",
      "n_samples_node =  1000\n",
      "generate_samples :  11.443735837936401\n",
      "     prepare getting local values 0.0023789405822753906\n",
      "     obtained local values 0.008214950561523438\n",
      "get_mc_stats 0.012626886367797852\n"
     ]
    },
    {
     "name": "stderr",
     "output_type": "stream",
     "text": [
      " 75%|███████▌  | 754/1000 [2:47:13<54:08, 13.21s/it, Energy=-2.1058156+0.0000000j ± 0.0000086 [σ²=0.0000001]]"
     ]
    },
    {
     "name": "stdout",
     "output_type": "stream",
     "text": [
      "--->> cal O and jac  0.036811113357543945\n",
      "compute_update  0.04032301902770996\n",
      "(0.03726170746726592+0j)\n",
      "n_discard =  144\n",
      "discard samples 1.6466717720031738\n",
      "n_samples_node =  1000\n",
      "generate_samples :  11.5820631980896\n",
      "     prepare getting local values 0.002164125442504883\n",
      "     obtained local values 0.007940292358398438\n",
      "get_mc_stats 0.012144088745117188\n"
     ]
    },
    {
     "name": "stderr",
     "output_type": "stream",
     "text": [
      " 76%|███████▌  | 755/1000 [2:47:26<54:01, 13.23s/it, Energy=-2.1058167+0.0000000j ± 0.0000084 [σ²=0.0000001]]"
     ]
    },
    {
     "name": "stdout",
     "output_type": "stream",
     "text": [
      "--->> cal O and jac  0.03885316848754883\n",
      "compute_update  0.04223203659057617\n",
      "(0.03725635038814762+0j)\n",
      "n_discard =  144\n",
      "discard samples 1.6810529232025146\n",
      "n_samples_node =  1000\n",
      "generate_samples :  11.633849143981934\n",
      "     prepare getting local values 0.0028159618377685547\n",
      "     obtained local values 0.008544921875\n",
      "get_mc_stats 0.012686014175415039\n"
     ]
    },
    {
     "name": "stderr",
     "output_type": "stream",
     "text": [
      " 76%|███████▌  | 756/1000 [2:47:40<53:58, 13.27s/it, Energy=-2.1058155+0.0000000j ± 0.0000079 [σ²=0.0000001]]"
     ]
    },
    {
     "name": "stdout",
     "output_type": "stream",
     "text": [
      "--->> cal O and jac  0.03996896743774414\n",
      "compute_update  0.04342508316040039\n",
      "(0.037250699938957785+0j)\n",
      "n_discard =  144\n",
      "discard samples 1.6807191371917725\n",
      "n_samples_node =  1000\n",
      "generate_samples :  11.476805210113525\n",
      "     prepare getting local values 0.0020308494567871094\n",
      "     obtained local values 0.007822990417480469\n",
      "get_mc_stats 0.011986970901489258\n"
     ]
    },
    {
     "name": "stderr",
     "output_type": "stream",
     "text": [
      " 76%|███████▌  | 757/1000 [2:47:53<53:40, 13.25s/it, Energy=-2.1058248+0.0000000j ± 0.0000086 [σ²=0.0000001]]"
     ]
    },
    {
     "name": "stdout",
     "output_type": "stream",
     "text": [
      "--->> cal O and jac  0.03582429885864258\n",
      "compute_update  0.03938031196594238\n",
      "(0.03724483127779316+0j)\n",
      "n_discard =  144\n",
      "discard samples 1.6472430229187012\n",
      "n_samples_node =  1000\n",
      "generate_samples :  11.436433792114258\n",
      "     prepare getting local values 0.0022411346435546875\n",
      "     obtained local values 0.00793313980102539\n",
      "get_mc_stats 0.012050151824951172\n"
     ]
    },
    {
     "name": "stderr",
     "output_type": "stream",
     "text": [
      " 76%|███████▌  | 758/1000 [2:48:06<53:19, 13.22s/it, Energy=-2.105815+0.000000j ± 0.000010 [σ²=0.000000]]    "
     ]
    },
    {
     "name": "stdout",
     "output_type": "stream",
     "text": [
      "--->> cal O and jac  0.03878188133239746\n",
      "compute_update  0.04202580451965332\n",
      "(0.037238866583418226+0j)\n",
      "n_discard =  144\n",
      "discard samples 1.6590447425842285\n",
      "n_samples_node =  1000\n",
      "generate_samples :  11.469672918319702\n",
      "     prepare getting local values 0.002229928970336914\n",
      "     obtained local values 0.007889032363891602\n",
      "get_mc_stats 0.012440681457519531\n"
     ]
    },
    {
     "name": "stderr",
     "output_type": "stream",
     "text": [
      " 76%|███████▌  | 759/1000 [2:48:19<53:03, 13.21s/it, Energy=-2.105816+0.000000j ± 0.000011 [σ²=0.000000]]"
     ]
    },
    {
     "name": "stdout",
     "output_type": "stream",
     "text": [
      "--->> cal O and jac  0.038172006607055664\n",
      "compute_update  0.04211306571960449\n",
      "(0.03723337850240919+0j)\n",
      "n_discard =  144\n",
      "discard samples 1.6553540229797363\n",
      "n_samples_node =  1000\n",
      "generate_samples :  11.487971782684326\n",
      "     prepare getting local values 0.002312898635864258\n",
      "     obtained local values 0.00845479965209961\n",
      "get_mc_stats 0.01359415054321289\n"
     ]
    },
    {
     "name": "stderr",
     "output_type": "stream",
     "text": [
      " 76%|███████▌  | 760/1000 [2:48:32<52:49, 13.21s/it, Energy=-2.105830+0.000000j ± 0.000011 [σ²=0.000000]]"
     ]
    },
    {
     "name": "stdout",
     "output_type": "stream",
     "text": [
      "--->> cal O and jac  0.037528038024902344\n",
      "compute_update  0.040843963623046875\n",
      "(0.03722784048647605+0j)\n",
      "n_discard =  144\n",
      "discard samples 1.6754658222198486\n",
      "n_samples_node =  1000\n",
      "generate_samples :  11.516268014907837\n",
      "     prepare getting local values 0.0024368762969970703\n",
      "     obtained local values 0.008132696151733398\n",
      "get_mc_stats 0.014575004577636719\n"
     ]
    },
    {
     "name": "stderr",
     "output_type": "stream",
     "text": [
      " 76%|███████▌  | 761/1000 [2:48:46<52:40, 13.22s/it, Energy=-2.1058220+0.0000000j ± 0.0000097 [σ²=0.0000001]]"
     ]
    },
    {
     "name": "stdout",
     "output_type": "stream",
     "text": [
      "--->> cal O and jac  0.052285194396972656\n",
      "compute_update  0.0561521053314209\n",
      "(0.03722229297757154+0j)\n",
      "n_discard =  144\n",
      "discard samples 1.7698822021484375\n",
      "n_samples_node =  1000\n",
      "generate_samples :  11.582659006118774\n",
      "     prepare getting local values 0.002019643783569336\n",
      "     obtained local values 0.0077707767486572266\n",
      "get_mc_stats 0.011977195739746094\n"
     ]
    },
    {
     "name": "stderr",
     "output_type": "stream",
     "text": [
      " 76%|███████▌  | 762/1000 [2:48:59<52:40, 13.28s/it, Energy=-2.1058261+0.0000000j ± 0.0000085 [σ²=0.0000001]]"
     ]
    },
    {
     "name": "stdout",
     "output_type": "stream",
     "text": [
      "--->> cal O and jac  0.03652596473693848\n",
      "compute_update  0.03994894027709961\n",
      "(0.0372170728961709+0j)\n",
      "n_discard =  144\n",
      "discard samples 1.6732800006866455\n",
      "n_samples_node =  1000\n",
      "generate_samples :  11.413874864578247\n",
      "     prepare getting local values 0.002176046371459961\n",
      "     obtained local values 0.008046150207519531\n",
      "get_mc_stats 0.012276887893676758\n"
     ]
    },
    {
     "name": "stderr",
     "output_type": "stream",
     "text": [
      " 76%|███████▋  | 763/1000 [2:49:12<52:17, 13.24s/it, Energy=-2.1058298+0.0000000j ± 0.0000091 [σ²=0.0000001]]"
     ]
    },
    {
     "name": "stdout",
     "output_type": "stream",
     "text": [
      "--->> cal O and jac  0.03644585609436035\n",
      "compute_update  0.03991818428039551\n",
      "(0.03721177916858493+0j)\n",
      "n_discard =  144\n",
      "discard samples 1.6505680084228516\n",
      "n_samples_node =  1000\n",
      "generate_samples :  11.341876983642578\n",
      "     prepare getting local values 0.002310037612915039\n",
      "     obtained local values 0.008074045181274414\n",
      "get_mc_stats 0.012206077575683594\n"
     ]
    },
    {
     "name": "stderr",
     "output_type": "stream",
     "text": [
      " 76%|███████▋  | 764/1000 [2:49:25<51:50, 13.18s/it, Energy=-2.1058072+0.0000000j ± 0.0000096 [σ²=0.0000001]]"
     ]
    },
    {
     "name": "stdout",
     "output_type": "stream",
     "text": [
      "--->> cal O and jac  0.03683209419250488\n",
      "compute_update  0.04041099548339844\n",
      "(0.03720652953144004+0j)\n",
      "n_discard =  144\n",
      "discard samples 1.64839506149292\n",
      "n_samples_node =  1000\n",
      "generate_samples :  11.504337072372437\n",
      "     prepare getting local values 0.0027620792388916016\n",
      "     obtained local values 0.008905887603759766\n",
      "get_mc_stats 0.013742923736572266\n"
     ]
    },
    {
     "name": "stderr",
     "output_type": "stream",
     "text": [
      " 76%|███████▋  | 765/1000 [2:49:38<51:39, 13.19s/it, Energy=-2.105822+0.000000j ± 0.000010 [σ²=0.000000]]    "
     ]
    },
    {
     "name": "stdout",
     "output_type": "stream",
     "text": [
      "--->> cal O and jac  0.04007887840270996\n",
      "compute_update  0.04404091835021973\n",
      "(0.037201891482814414+0j)\n",
      "n_discard =  144\n",
      "discard samples 1.6660621166229248\n",
      "n_samples_node =  1000\n",
      "generate_samples :  11.650235176086426\n",
      "     prepare getting local values 0.002414226531982422\n",
      "     obtained local values 0.008128166198730469\n",
      "get_mc_stats 0.013355016708374023\n"
     ]
    },
    {
     "name": "stderr",
     "output_type": "stream",
     "text": [
      " 77%|███████▋  | 766/1000 [2:49:52<51:39, 13.25s/it, Energy=-2.1057917+0.0000000j ± 0.0000093 [σ²=0.0000001]]"
     ]
    },
    {
     "name": "stdout",
     "output_type": "stream",
     "text": [
      "--->> cal O and jac  0.038977861404418945\n",
      "compute_update  0.0421147346496582\n",
      "(0.03719656342538826+0j)\n",
      "n_discard =  144\n",
      "discard samples 1.6582188606262207\n",
      "n_samples_node =  1000\n",
      "generate_samples :  11.661626815795898\n",
      "     prepare getting local values 0.0023038387298583984\n",
      "     obtained local values 0.007803916931152344\n",
      "get_mc_stats 0.012115955352783203\n"
     ]
    },
    {
     "name": "stderr",
     "output_type": "stream",
     "text": [
      " 77%|███████▋  | 767/1000 [2:50:05<51:35, 13.28s/it, Energy=-2.1058148+0.0000000j ± 0.0000080 [σ²=0.0000001]]"
     ]
    },
    {
     "name": "stdout",
     "output_type": "stream",
     "text": [
      "--->> cal O and jac  0.03924703598022461\n",
      "compute_update  0.042688846588134766\n",
      "(0.03719131296082179+0j)\n",
      "n_discard =  144\n",
      "discard samples 1.6530277729034424\n",
      "n_samples_node =  1000\n",
      "generate_samples :  11.449588060379028\n",
      "     prepare getting local values 0.002295970916748047\n",
      "     obtained local values 0.008477926254272461\n",
      "get_mc_stats 0.013006925582885742\n"
     ]
    },
    {
     "name": "stderr",
     "output_type": "stream",
     "text": [
      " 77%|███████▋  | 768/1000 [2:50:18<51:13, 13.25s/it, Energy=-2.1058129+0.0000000j ± 0.0000077 [σ²=0.0000001]]"
     ]
    },
    {
     "name": "stdout",
     "output_type": "stream",
     "text": [
      "--->> cal O and jac  0.040136098861694336\n",
      "compute_update  0.0442049503326416\n",
      "(0.037185969682719595+0j)\n",
      "n_discard =  144\n",
      "discard samples 1.6860268115997314\n",
      "n_samples_node =  1000\n",
      "generate_samples :  11.534349203109741\n",
      "     prepare getting local values 0.002357006072998047\n",
      "     obtained local values 0.008085012435913086\n",
      "get_mc_stats 0.012923955917358398\n"
     ]
    },
    {
     "name": "stderr",
     "output_type": "stream",
     "text": [
      " 77%|███████▋  | 769/1000 [2:50:32<51:02, 13.26s/it, Energy=-2.1058139+0.0000000j ± 0.0000094 [σ²=0.0000001]]"
     ]
    },
    {
     "name": "stdout",
     "output_type": "stream",
     "text": [
      "--->> cal O and jac  0.03981208801269531\n",
      "compute_update  0.043287038803100586\n",
      "(0.037180727659090605+0j)\n",
      "n_discard =  144\n",
      "discard samples 1.6584208011627197\n",
      "n_samples_node =  1000\n",
      "generate_samples :  11.368921041488647\n",
      "     prepare getting local values 0.0021271705627441406\n",
      "     obtained local values 0.007737159729003906\n",
      "get_mc_stats 0.011668920516967773\n"
     ]
    },
    {
     "name": "stderr",
     "output_type": "stream",
     "text": [
      " 77%|███████▋  | 770/1000 [2:50:45<50:37, 13.20s/it, Energy=-2.1058035+0.0000000j ± 0.0000074 [σ²=0.0000001]]"
     ]
    },
    {
     "name": "stdout",
     "output_type": "stream",
     "text": [
      "--->> cal O and jac  0.03698015213012695\n",
      "compute_update  0.040099143981933594\n",
      "(0.037175595717037824+0j)\n",
      "n_discard =  144\n",
      "discard samples 1.6889450550079346\n",
      "n_samples_node =  1000\n",
      "generate_samples :  11.66787600517273\n",
      "     prepare getting local values 0.0026721954345703125\n",
      "     obtained local values 0.008790016174316406\n",
      "get_mc_stats 0.013316154479980469\n"
     ]
    },
    {
     "name": "stderr",
     "output_type": "stream",
     "text": [
      " 77%|███████▋  | 771/1000 [2:50:58<50:38, 13.27s/it, Energy=-2.1058347+0.0000000j ± 0.0000079 [σ²=0.0000001]]"
     ]
    },
    {
     "name": "stdout",
     "output_type": "stream",
     "text": [
      "--->> cal O and jac  0.04269099235534668\n",
      "compute_update  0.04601907730102539\n",
      "(0.03717067745162756+0j)\n",
      "n_discard =  144\n",
      "discard samples 1.6802916526794434\n",
      "n_samples_node =  1000\n",
      "generate_samples :  11.383194923400879\n",
      "     prepare getting local values 0.0023348331451416016\n",
      "     obtained local values 0.00812983512878418\n",
      "get_mc_stats 0.012335062026977539\n"
     ]
    },
    {
     "name": "stderr",
     "output_type": "stream",
     "text": [
      " 77%|███████▋  | 772/1000 [2:51:11<50:14, 13.22s/it, Energy=-2.1058269+0.0000000j ± 0.0000080 [σ²=0.0000001]]"
     ]
    },
    {
     "name": "stdout",
     "output_type": "stream",
     "text": [
      "--->> cal O and jac  0.0369257926940918\n",
      "compute_update  0.04013776779174805\n",
      "(0.03716563556770266+0j)\n",
      "n_discard =  144\n",
      "discard samples 1.6888656616210938\n",
      "n_samples_node =  1000\n",
      "generate_samples :  11.569712162017822\n",
      "     prepare getting local values 0.002049684524536133\n",
      "     obtained local values 0.007772922515869141\n",
      "get_mc_stats 0.012251138687133789\n"
     ]
    },
    {
     "name": "stderr",
     "output_type": "stream",
     "text": [
      " 77%|███████▋  | 773/1000 [2:51:25<50:07, 13.25s/it, Energy=-2.105825+0.000000j ± 0.000010 [σ²=0.000000]]    "
     ]
    },
    {
     "name": "stdout",
     "output_type": "stream",
     "text": [
      "--->> cal O and jac  0.036995887756347656\n",
      "compute_update  0.04048800468444824\n",
      "(0.037160734948448675+0j)\n",
      "n_discard =  144\n",
      "discard samples 1.662466049194336\n",
      "n_samples_node =  1000\n",
      "generate_samples :  11.442686080932617\n",
      "     prepare getting local values 0.0023279190063476562\n",
      "     obtained local values 0.008026838302612305\n",
      "get_mc_stats 0.011941671371459961\n"
     ]
    },
    {
     "name": "stderr",
     "output_type": "stream",
     "text": [
      " 77%|███████▋  | 774/1000 [2:51:38<49:48, 13.22s/it, Energy=-2.1058243+0.0000000j ± 0.0000084 [σ²=0.0000001]]"
     ]
    },
    {
     "name": "stdout",
     "output_type": "stream",
     "text": [
      "--->> cal O and jac  0.03682684898376465\n",
      "compute_update  0.04024982452392578\n",
      "(0.03715601603121352+0j)\n",
      "n_discard =  144\n",
      "discard samples 1.670947790145874\n",
      "n_samples_node =  1000\n",
      "generate_samples :  11.509016036987305\n",
      "     prepare getting local values 0.002269744873046875\n",
      "     obtained local values 0.007979869842529297\n",
      "get_mc_stats 0.011833667755126953\n"
     ]
    },
    {
     "name": "stderr",
     "output_type": "stream",
     "text": [
      " 78%|███████▊  | 775/1000 [2:51:51<49:35, 13.23s/it, Energy=-2.1058314+0.0000000j ± 0.0000072 [σ²=0.0000001]]"
     ]
    },
    {
     "name": "stdout",
     "output_type": "stream",
     "text": [
      "--->> cal O and jac  0.036167144775390625\n",
      "compute_update  0.03951835632324219\n",
      "(0.037150727273016375+0j)\n",
      "n_discard =  144\n",
      "discard samples 1.6881589889526367\n",
      "n_samples_node =  1000\n",
      "generate_samples :  11.489625930786133\n",
      "     prepare getting local values 0.0022139549255371094\n",
      "     obtained local values 0.007801055908203125\n",
      "get_mc_stats 0.011604070663452148\n"
     ]
    },
    {
     "name": "stderr",
     "output_type": "stream",
     "text": [
      " 78%|███████▊  | 776/1000 [2:52:04<49:23, 13.23s/it, Energy=-2.1058135+0.0000000j ± 0.0000095 [σ²=0.0000001]]"
     ]
    },
    {
     "name": "stdout",
     "output_type": "stream",
     "text": [
      "--->> cal O and jac  0.0368037223815918\n",
      "compute_update  0.039972782135009766\n",
      "(0.03714582148009943+0j)\n",
      "n_discard =  144\n",
      "discard samples 1.662309169769287\n",
      "n_samples_node =  1000\n",
      "generate_samples :  11.666800260543823\n",
      "     prepare getting local values 0.002496004104614258\n",
      "     obtained local values 0.008201122283935547\n",
      "get_mc_stats 0.012542009353637695\n"
     ]
    },
    {
     "name": "stderr",
     "output_type": "stream",
     "text": [
      " 78%|███████▊  | 777/1000 [2:52:18<49:20, 13.27s/it, Energy=-2.1058397+0.0000000j ± 0.0000084 [σ²=0.0000001]]"
     ]
    },
    {
     "name": "stdout",
     "output_type": "stream",
     "text": [
      "--->> cal O and jac  0.035867929458618164\n",
      "compute_update  0.03920388221740723\n",
      "(0.03714090263863808+0j)\n",
      "n_discard =  144\n",
      "discard samples 1.6833279132843018\n",
      "n_samples_node =  1000\n",
      "generate_samples :  11.556665897369385\n",
      "     prepare getting local values 0.0025148391723632812\n",
      "     obtained local values 0.00826883316040039\n",
      "get_mc_stats 0.012499809265136719\n"
     ]
    },
    {
     "name": "stderr",
     "output_type": "stream",
     "text": [
      " 78%|███████▊  | 778/1000 [2:52:31<49:08, 13.28s/it, Energy=-2.1058181+0.0000000j ± 0.0000086 [σ²=0.0000001]]"
     ]
    },
    {
     "name": "stdout",
     "output_type": "stream",
     "text": [
      "--->> cal O and jac  0.03768491744995117\n",
      "compute_update  0.04105806350708008\n",
      "(0.03713578033526687+0j)\n",
      "n_discard =  144\n",
      "discard samples 1.6890859603881836\n",
      "n_samples_node =  1000\n",
      "generate_samples :  11.565839052200317\n",
      "     prepare getting local values 0.0027959346771240234\n",
      "     obtained local values 0.008835077285766602\n",
      "get_mc_stats 0.012665033340454102\n"
     ]
    },
    {
     "name": "stderr",
     "output_type": "stream",
     "text": [
      " 78%|███████▊  | 779/1000 [2:52:44<48:57, 13.29s/it, Energy=-2.1058302+0.0000000j ± 0.0000065 [σ²=0.0000001]]"
     ]
    },
    {
     "name": "stdout",
     "output_type": "stream",
     "text": [
      "--->> cal O and jac  0.03902602195739746\n",
      "compute_update  0.04226517677307129\n",
      "(0.03713077046073488+0j)\n",
      "n_discard =  144\n",
      "discard samples 1.6793720722198486\n",
      "n_samples_node =  1000\n",
      "generate_samples :  12.41418981552124\n",
      "     prepare getting local values 0.002579927444458008\n",
      "     obtained local values 0.008405923843383789\n",
      "get_mc_stats 0.013004064559936523\n"
     ]
    },
    {
     "name": "stderr",
     "output_type": "stream",
     "text": [
      " 78%|███████▊  | 780/1000 [2:52:58<49:40, 13.55s/it, Energy=-2.1058137+0.0000000j ± 0.0000097 [σ²=0.0000001]]"
     ]
    },
    {
     "name": "stdout",
     "output_type": "stream",
     "text": [
      "--->> cal O and jac  0.03749990463256836\n",
      "compute_update  0.04115104675292969\n",
      "(0.03712564176479966+0j)\n",
      "n_discard =  144\n",
      "discard samples 1.70902419090271\n",
      "n_samples_node =  1000\n",
      "generate_samples :  11.435659885406494\n",
      "     prepare getting local values 0.002370119094848633\n",
      "     obtained local values 0.00812077522277832\n",
      "get_mc_stats 0.012804031372070312\n"
     ]
    },
    {
     "name": "stderr",
     "output_type": "stream",
     "text": [
      " 78%|███████▊  | 781/1000 [2:53:12<49:04, 13.44s/it, Energy=-2.1058338+0.0000000j ± 0.0000083 [σ²=0.0000001]]"
     ]
    },
    {
     "name": "stdout",
     "output_type": "stream",
     "text": [
      "--->> cal O and jac  0.03903794288635254\n",
      "compute_update  0.04257798194885254\n",
      "(0.03712052399922079+0j)\n",
      "n_discard =  144\n",
      "discard samples 1.6579499244689941\n",
      "n_samples_node =  1000\n",
      "generate_samples :  11.577270746231079\n",
      "     prepare getting local values 0.0025072097778320312\n",
      "     obtained local values 0.008264303207397461\n",
      "get_mc_stats 0.01259922981262207\n"
     ]
    },
    {
     "name": "stderr",
     "output_type": "stream",
     "text": [
      " 78%|███████▊  | 782/1000 [2:53:25<48:41, 13.40s/it, Energy=-2.1058157+0.0000000j ± 0.0000078 [σ²=0.0000001]]"
     ]
    },
    {
     "name": "stdout",
     "output_type": "stream",
     "text": [
      "--->> cal O and jac  0.03863668441772461\n",
      "compute_update  0.042623043060302734\n",
      "(0.037115940698280045+0j)\n",
      "n_discard =  144\n",
      "discard samples 1.6726388931274414\n",
      "n_samples_node =  1000\n",
      "generate_samples :  11.54731822013855\n",
      "     prepare getting local values 0.0023720264434814453\n",
      "     obtained local values 0.00803828239440918\n",
      "get_mc_stats 0.01285099983215332\n"
     ]
    },
    {
     "name": "stderr",
     "output_type": "stream",
     "text": [
      " 78%|███████▊  | 783/1000 [2:53:38<48:19, 13.36s/it, Energy=-2.1058173+0.0000000j ± 0.0000086 [σ²=0.0000001]]"
     ]
    },
    {
     "name": "stdout",
     "output_type": "stream",
     "text": [
      "--->> cal O and jac  0.03812384605407715\n",
      "compute_update  0.04228377342224121\n",
      "(0.03711080649132047+0j)\n",
      "n_discard =  144\n",
      "discard samples 1.6515190601348877\n",
      "n_samples_node =  1000\n",
      "generate_samples :  11.442619323730469\n",
      "     prepare getting local values 0.002218961715698242\n",
      "     obtained local values 0.007844924926757812\n",
      "get_mc_stats 0.011924982070922852\n"
     ]
    },
    {
     "name": "stderr",
     "output_type": "stream",
     "text": [
      " 78%|███████▊  | 784/1000 [2:53:51<47:52, 13.30s/it, Energy=-2.1058206+0.0000000j ± 0.0000072 [σ²=0.0000001]]"
     ]
    },
    {
     "name": "stdout",
     "output_type": "stream",
     "text": [
      "--->> cal O and jac  0.038446903228759766\n",
      "compute_update  0.04208111763000488\n",
      "(0.03710567935642477+0j)\n",
      "n_discard =  144\n",
      "discard samples 1.6486380100250244\n",
      "n_samples_node =  1000\n",
      "generate_samples :  11.387854814529419\n",
      "     prepare getting local values 0.0019381046295166016\n",
      "     obtained local values 0.007508993148803711\n",
      "get_mc_stats 0.011746883392333984\n"
     ]
    },
    {
     "name": "stderr",
     "output_type": "stream",
     "text": [
      " 78%|███████▊  | 785/1000 [2:54:04<47:25, 13.24s/it, Energy=-2.1058216+0.0000000j ± 0.0000074 [σ²=0.0000001]]"
     ]
    },
    {
     "name": "stdout",
     "output_type": "stream",
     "text": [
      "--->> cal O and jac  0.03597688674926758\n",
      "compute_update  0.03952789306640625\n",
      "(0.037101103269429024+0j)\n",
      "n_discard =  144\n",
      "discard samples 1.6927471160888672\n",
      "n_samples_node =  1000\n",
      "generate_samples :  11.501434087753296\n",
      "     prepare getting local values 0.0026459693908691406\n",
      "     obtained local values 0.008649110794067383\n",
      "get_mc_stats 0.012803077697753906\n"
     ]
    },
    {
     "name": "stderr",
     "output_type": "stream",
     "text": [
      " 79%|███████▊  | 786/1000 [2:54:18<47:13, 13.24s/it, Energy=-2.1058131+0.0000000j ± 0.0000068 [σ²=0.0000001]]"
     ]
    },
    {
     "name": "stdout",
     "output_type": "stream",
     "text": [
      "--->> cal O and jac  0.03939008712768555\n",
      "compute_update  0.04286813735961914\n",
      "(0.03709626750624174+0j)\n",
      "n_discard =  144\n",
      "discard samples 1.681602954864502\n",
      "n_samples_node =  1000\n",
      "generate_samples :  11.441709995269775\n",
      "     prepare getting local values 0.0020551681518554688\n",
      "     obtained local values 0.007781028747558594\n",
      "get_mc_stats 0.011839866638183594\n"
     ]
    },
    {
     "name": "stderr",
     "output_type": "stream",
     "text": [
      " 79%|███████▊  | 787/1000 [2:54:31<46:56, 13.22s/it, Energy=-2.1058259+0.0000000j ± 0.0000095 [σ²=0.0000001]]"
     ]
    },
    {
     "name": "stdout",
     "output_type": "stream",
     "text": [
      "--->> cal O and jac  0.03608584403991699\n",
      "compute_update  0.039331912994384766\n",
      "(0.03709118960070356+0j)\n",
      "n_discard =  144\n",
      "discard samples 1.676377296447754\n",
      "n_samples_node =  1000\n",
      "generate_samples :  11.5276517868042\n",
      "     prepare getting local values 0.00225830078125\n",
      "     obtained local values 0.007801055908203125\n",
      "get_mc_stats 0.01192021369934082\n"
     ]
    },
    {
     "name": "stderr",
     "output_type": "stream",
     "text": [
      " 79%|███████▉  | 788/1000 [2:54:44<46:45, 13.23s/it, Energy=-2.1058222+0.0000000j ± 0.0000076 [σ²=0.0000001]]"
     ]
    },
    {
     "name": "stdout",
     "output_type": "stream",
     "text": [
      "--->> cal O and jac  0.035659074783325195\n",
      "compute_update  0.03918194770812988\n",
      "(0.03708628870156689+0j)\n",
      "n_discard =  144\n",
      "discard samples 1.697929859161377\n",
      "n_samples_node =  1000\n",
      "generate_samples :  11.931257963180542\n",
      "     prepare getting local values 0.0025920867919921875\n",
      "     obtained local values 0.00876307487487793\n",
      "get_mc_stats 0.013432025909423828\n"
     ]
    },
    {
     "name": "stderr",
     "output_type": "stream",
     "text": [
      " 79%|███████▉  | 789/1000 [2:54:58<47:01, 13.37s/it, Energy=-2.1058106+0.0000000j ± 0.0000074 [σ²=0.0000001]]"
     ]
    },
    {
     "name": "stdout",
     "output_type": "stream",
     "text": [
      "--->> cal O and jac  0.0415952205657959\n",
      "compute_update  0.04563713073730469\n",
      "(0.03708145763185471+0j)\n",
      "n_discard =  144\n",
      "discard samples 1.6830568313598633\n",
      "n_samples_node =  1000\n",
      "generate_samples :  11.452125072479248\n",
      "     prepare getting local values 0.002344846725463867\n",
      "     obtained local values 0.007842779159545898\n",
      "get_mc_stats 0.012104034423828125\n"
     ]
    },
    {
     "name": "stderr",
     "output_type": "stream",
     "text": [
      " 79%|███████▉  | 790/1000 [2:55:11<46:36, 13.32s/it, Energy=-2.1058150+0.0000000j ± 0.0000072 [σ²=0.0000001]]"
     ]
    },
    {
     "name": "stdout",
     "output_type": "stream",
     "text": [
      "--->> cal O and jac  0.03606104850769043\n",
      "compute_update  0.03934502601623535\n",
      "(0.03707660181009907+0j)\n",
      "n_discard =  144\n",
      "discard samples 1.6913018226623535\n",
      "n_samples_node =  1000\n",
      "generate_samples :  11.511327981948853\n",
      "     prepare getting local values 0.0023107528686523438\n",
      "     obtained local values 0.00798487663269043\n",
      "get_mc_stats 0.01227879524230957\n"
     ]
    },
    {
     "name": "stderr",
     "output_type": "stream",
     "text": [
      " 79%|███████▉  | 791/1000 [2:55:24<46:19, 13.30s/it, Energy=-2.1058091+0.0000000j ± 0.0000058 [σ²=0.0000001]]"
     ]
    },
    {
     "name": "stdout",
     "output_type": "stream",
     "text": [
      "--->> cal O and jac  0.03622698783874512\n",
      "compute_update  0.03959488868713379\n",
      "(0.03707235958153288+0j)\n",
      "n_discard =  144\n",
      "discard samples 1.6601898670196533\n",
      "n_samples_node =  1000\n",
      "generate_samples :  11.579115152359009\n",
      "     prepare getting local values 0.002015829086303711\n",
      "     obtained local values 0.008136749267578125\n",
      "get_mc_stats 0.012527227401733398\n"
     ]
    },
    {
     "name": "stderr",
     "output_type": "stream",
     "text": [
      " 79%|███████▉  | 792/1000 [2:55:38<46:05, 13.30s/it, Energy=-2.1058190+0.0000000j ± 0.0000068 [σ²=0.0000001]]"
     ]
    },
    {
     "name": "stdout",
     "output_type": "stream",
     "text": [
      "--->> cal O and jac  0.03554415702819824\n",
      "compute_update  0.039019107818603516\n",
      "(0.03706777748153979+0j)\n",
      "n_discard =  144\n",
      "discard samples 1.6916449069976807\n",
      "n_samples_node =  1000\n",
      "generate_samples :  11.933980226516724\n",
      "     prepare getting local values 0.002277851104736328\n",
      "     obtained local values 0.008235692977905273\n",
      "get_mc_stats 0.013983964920043945\n"
     ]
    },
    {
     "name": "stderr",
     "output_type": "stream",
     "text": [
      " 79%|███████▉  | 793/1000 [2:55:51<46:16, 13.41s/it, Energy=-2.1058113+0.0000000j ± 0.0000078 [σ²=0.0000001]]"
     ]
    },
    {
     "name": "stdout",
     "output_type": "stream",
     "text": [
      "--->> cal O and jac  0.041567087173461914\n",
      "compute_update  0.045668840408325195\n",
      "(0.03706387742072919+0j)\n",
      "n_discard =  144\n",
      "discard samples 1.6740801334381104\n",
      "n_samples_node =  1000\n",
      "generate_samples :  11.477009773254395\n",
      "     prepare getting local values 0.0022170543670654297\n",
      "     obtained local values 0.008204221725463867\n",
      "get_mc_stats 0.012696027755737305\n"
     ]
    },
    {
     "name": "stderr",
     "output_type": "stream",
     "text": [
      " 79%|███████▉  | 794/1000 [2:56:04<45:50, 13.35s/it, Energy=-2.1058210+0.0000000j ± 0.0000071 [σ²=0.0000001]]"
     ]
    },
    {
     "name": "stdout",
     "output_type": "stream",
     "text": [
      "--->> cal O and jac  0.03844904899597168\n",
      "compute_update  0.04188990592956543\n",
      "(0.03705992010103745+0j)\n",
      "n_discard =  144\n",
      "discard samples 1.7021739482879639\n",
      "n_samples_node =  1000\n",
      "generate_samples :  11.59415316581726\n",
      "     prepare getting local values 0.0021560192108154297\n",
      "     obtained local values 0.007771968841552734\n",
      "get_mc_stats 0.012047052383422852\n"
     ]
    },
    {
     "name": "stderr",
     "output_type": "stream",
     "text": [
      " 80%|███████▉  | 795/1000 [2:56:18<45:37, 13.35s/it, Energy=-2.1058092+0.0000000j ± 0.0000084 [σ²=0.0000001]]"
     ]
    },
    {
     "name": "stdout",
     "output_type": "stream",
     "text": [
      "--->> cal O and jac  0.03717780113220215\n",
      "compute_update  0.04059171676635742\n",
      "(0.037055521880878094+0j)\n",
      "n_discard =  144\n",
      "discard samples 1.6623411178588867\n",
      "n_samples_node =  1000\n",
      "generate_samples :  11.542159080505371\n",
      "     prepare getting local values 0.002110004425048828\n",
      "     obtained local values 0.007879018783569336\n",
      "get_mc_stats 0.012063980102539062\n"
     ]
    },
    {
     "name": "stderr",
     "output_type": "stream",
     "text": [
      " 80%|███████▉  | 796/1000 [2:56:31<45:18, 13.33s/it, Energy=-2.1058186+0.0000000j ± 0.0000078 [σ²=0.0000001]]"
     ]
    },
    {
     "name": "stdout",
     "output_type": "stream",
     "text": [
      "--->> cal O and jac  0.04077577590942383\n",
      "compute_update  0.047325849533081055\n",
      "(0.0370516338425334+0j)\n",
      "n_discard =  144\n",
      "discard samples 1.6691656112670898\n",
      "n_samples_node =  1000\n",
      "generate_samples :  11.441646814346313\n",
      "     prepare getting local values 0.00238800048828125\n",
      "     obtained local values 0.008175134658813477\n",
      "get_mc_stats 0.01247406005859375\n"
     ]
    },
    {
     "name": "stderr",
     "output_type": "stream",
     "text": [
      " 80%|███████▉  | 797/1000 [2:56:44<44:55, 13.28s/it, Energy=-2.1058091+0.0000000j ± 0.0000078 [σ²=0.0000001]]"
     ]
    },
    {
     "name": "stdout",
     "output_type": "stream",
     "text": [
      "--->> cal O and jac  0.03623700141906738\n",
      "compute_update  0.03980302810668945\n",
      "(0.037048169438435+0j)\n",
      "n_discard =  144\n",
      "discard samples 1.6883080005645752\n",
      "n_samples_node =  1000\n",
      "generate_samples :  11.966769218444824\n",
      "     prepare getting local values 0.0027430057525634766\n",
      "     obtained local values 0.008504867553710938\n",
      "get_mc_stats 0.013453245162963867\n"
     ]
    },
    {
     "name": "stderr",
     "output_type": "stream",
     "text": [
      " 80%|███████▉  | 798/1000 [2:56:58<45:08, 13.41s/it, Energy=-2.1058204+0.0000000j ± 0.0000076 [σ²=0.0000001]]"
     ]
    },
    {
     "name": "stdout",
     "output_type": "stream",
     "text": [
      "--->> cal O and jac  0.037277936935424805\n",
      "compute_update  0.04079699516296387\n",
      "(0.0370442188851516+0j)\n",
      "n_discard =  144\n",
      "discard samples 1.6955931186676025\n",
      "n_samples_node =  1000\n",
      "generate_samples :  11.571026802062988\n",
      "     prepare getting local values 0.0024819374084472656\n",
      "     obtained local values 0.008180856704711914\n",
      "get_mc_stats 0.012305021286010742\n"
     ]
    },
    {
     "name": "stderr",
     "output_type": "stream",
     "text": [
      " 80%|███████▉  | 799/1000 [2:57:11<44:49, 13.38s/it, Energy=-2.1058117+0.0000000j ± 0.0000054 [σ²=0.0000001]]"
     ]
    },
    {
     "name": "stdout",
     "output_type": "stream",
     "text": [
      "--->> cal O and jac  0.03816509246826172\n",
      "compute_update  0.041487932205200195\n",
      "(0.03704022932737177+0j)\n",
      "n_discard =  144\n",
      "discard samples 1.6740169525146484\n",
      "n_samples_node =  1000\n",
      "generate_samples :  11.514769077301025\n",
      "     prepare getting local values 0.002440929412841797\n",
      "     obtained local values 0.008120059967041016\n",
      "get_mc_stats 0.012374162673950195\n"
     ]
    },
    {
     "name": "stderr",
     "output_type": "stream",
     "text": [
      " 80%|████████  | 800/1000 [2:57:24<44:28, 13.34s/it, Energy=-2.1058110+0.0000000j ± 0.0000078 [σ²=0.0000001]]"
     ]
    },
    {
     "name": "stdout",
     "output_type": "stream",
     "text": [
      "--->> cal O and jac  0.03783297538757324\n",
      "compute_update  0.04166293144226074\n",
      "(0.037035862719473574+0j)\n",
      "n_discard =  144\n",
      "discard samples 1.6772091388702393\n",
      "n_samples_node =  1000\n",
      "generate_samples :  11.631448745727539\n",
      "     prepare getting local values 0.002173900604248047\n",
      "     obtained local values 0.00790095329284668\n",
      "get_mc_stats 0.012122154235839844\n"
     ]
    },
    {
     "name": "stderr",
     "output_type": "stream",
     "text": [
      " 80%|████████  | 801/1000 [2:57:38<44:16, 13.35s/it, Energy=-2.1058222+0.0000000j ± 0.0000080 [σ²=0.0000001]]"
     ]
    },
    {
     "name": "stdout",
     "output_type": "stream",
     "text": [
      "--->> cal O and jac  0.0358121395111084\n",
      "compute_update  0.039138078689575195\n",
      "(0.037032495986254674+0j)\n",
      "n_discard =  144\n",
      "discard samples 1.673370122909546\n",
      "n_samples_node =  1000\n",
      "generate_samples :  11.571449041366577\n",
      "     prepare getting local values 0.0023779869079589844\n",
      "     obtained local values 0.008446931838989258\n",
      "get_mc_stats 0.013027191162109375\n"
     ]
    },
    {
     "name": "stderr",
     "output_type": "stream",
     "text": [
      " 80%|████████  | 802/1000 [2:57:51<44:00, 13.33s/it, Energy=-2.1058195+0.0000000j ± 0.0000077 [σ²=0.0000001]]"
     ]
    },
    {
     "name": "stdout",
     "output_type": "stream",
     "text": [
      "--->> cal O and jac  0.03829193115234375\n",
      "compute_update  0.042009830474853516\n",
      "(0.03702829563105336+0j)\n",
      "n_discard =  144\n",
      "discard samples 1.6767749786376953\n",
      "n_samples_node =  1000\n",
      "generate_samples :  11.434864044189453\n",
      "     prepare getting local values 0.0023190975189208984\n",
      "     obtained local values 0.008076190948486328\n",
      "get_mc_stats 0.012323141098022461\n"
     ]
    },
    {
     "name": "stderr",
     "output_type": "stream",
     "text": [
      " 80%|████████  | 803/1000 [2:58:04<43:36, 13.28s/it, Energy=-2.1058148+0.0000000j ± 0.0000068 [σ²=0.0000001]]"
     ]
    },
    {
     "name": "stdout",
     "output_type": "stream",
     "text": [
      "--->> cal O and jac  0.036514997482299805\n",
      "compute_update  0.039624929428100586\n",
      "(0.03702425712403322+0j)\n",
      "n_discard =  144\n",
      "discard samples 1.6495957374572754\n",
      "n_samples_node =  1000\n",
      "generate_samples :  11.482164144515991\n",
      "     prepare getting local values 0.0023343563079833984\n",
      "     obtained local values 0.008516073226928711\n",
      "get_mc_stats 0.012923717498779297\n"
     ]
    },
    {
     "name": "stderr",
     "output_type": "stream",
     "text": [
      " 80%|████████  | 804/1000 [2:58:17<43:18, 13.26s/it, Energy=-2.1058127+0.0000000j ± 0.0000079 [σ²=0.0000001]]"
     ]
    },
    {
     "name": "stdout",
     "output_type": "stream",
     "text": [
      "--->> cal O and jac  0.04254317283630371\n",
      "compute_update  0.0464630126953125\n",
      "(0.03702032763928723+0j)\n",
      "n_discard =  144\n",
      "discard samples 1.6860899925231934\n",
      "n_samples_node =  1000\n",
      "generate_samples :  11.988245964050293\n",
      "     prepare getting local values 0.002635955810546875\n",
      "     obtained local values 0.009519100189208984\n",
      "get_mc_stats 0.014357805252075195\n"
     ]
    },
    {
     "name": "stderr",
     "output_type": "stream",
     "text": [
      " 80%|████████  | 805/1000 [2:58:31<43:33, 13.40s/it, Energy=-2.1058294+0.0000000j ± 0.0000072 [σ²=0.0000001]]"
     ]
    },
    {
     "name": "stdout",
     "output_type": "stream",
     "text": [
      "--->> cal O and jac  0.042719125747680664\n",
      "compute_update  0.04602694511413574\n",
      "(0.03701663044700428+0j)\n",
      "n_discard =  144\n",
      "discard samples 1.6623649597167969\n",
      "n_samples_node =  1000\n",
      "generate_samples :  11.587914943695068\n",
      "     prepare getting local values 0.0023622512817382812\n",
      "     obtained local values 0.008158206939697266\n",
      "get_mc_stats 0.012769699096679688\n"
     ]
    },
    {
     "name": "stderr",
     "output_type": "stream",
     "text": [
      " 81%|████████  | 806/1000 [2:58:45<43:14, 13.37s/it, Energy=-2.1058158+0.0000000j ± 0.0000063 [σ²=0.0000001]]"
     ]
    },
    {
     "name": "stdout",
     "output_type": "stream",
     "text": [
      "--->> cal O and jac  0.03984880447387695\n",
      "compute_update  0.04357790946960449\n",
      "(0.037012973936507286+0j)\n",
      "n_discard =  144\n",
      "discard samples 1.7068397998809814\n",
      "n_samples_node =  1000\n",
      "generate_samples :  11.942656993865967\n",
      "     prepare getting local values 0.0019659996032714844\n",
      "     obtained local values 0.007752895355224609\n",
      "get_mc_stats 0.011974811553955078\n"
     ]
    },
    {
     "name": "stderr",
     "output_type": "stream",
     "text": [
      " 81%|████████  | 807/1000 [2:58:58<43:20, 13.47s/it, Energy=-2.1058141+0.0000000j ± 0.0000084 [σ²=0.0000001]]"
     ]
    },
    {
     "name": "stdout",
     "output_type": "stream",
     "text": [
      "--->> cal O and jac  0.03646063804626465\n",
      "compute_update  0.039891958236694336\n",
      "(0.03700889811110707+0j)\n",
      "n_discard =  144\n",
      "discard samples 1.6486787796020508\n",
      "n_samples_node =  1000\n",
      "generate_samples :  11.371657848358154\n",
      "     prepare getting local values 0.0022950172424316406\n",
      "     obtained local values 0.007931947708129883\n",
      "get_mc_stats 0.012056112289428711\n"
     ]
    },
    {
     "name": "stderr",
     "output_type": "stream",
     "text": [
      " 81%|████████  | 808/1000 [2:59:11<42:43, 13.35s/it, Energy=-2.1058145+0.0000000j ± 0.0000065 [σ²=0.0000001]]"
     ]
    },
    {
     "name": "stdout",
     "output_type": "stream",
     "text": [
      "--->> cal O and jac  0.035860300064086914\n",
      "compute_update  0.039483070373535156\n",
      "(0.0370049270453454+0j)\n",
      "n_discard =  144\n",
      "discard samples 1.6468369960784912\n",
      "n_samples_node =  1000\n",
      "generate_samples :  11.344233989715576\n",
      "     prepare getting local values 0.0018830299377441406\n",
      "     obtained local values 0.007653951644897461\n",
      "get_mc_stats 0.01164388656616211\n"
     ]
    },
    {
     "name": "stderr",
     "output_type": "stream",
     "text": [
      " 81%|████████  | 809/1000 [2:59:24<42:12, 13.26s/it, Energy=-2.1058211+0.0000000j ± 0.0000056 [σ²=0.0000001]]"
     ]
    },
    {
     "name": "stdout",
     "output_type": "stream",
     "text": [
      "--->> cal O and jac  0.03494596481323242\n",
      "compute_update  0.03845095634460449\n",
      "(0.03700070392487427+0j)\n",
      "n_discard =  144\n",
      "discard samples 1.6462550163269043\n",
      "n_samples_node =  1000\n",
      "generate_samples :  11.34965205192566\n",
      "     prepare getting local values 0.002295970916748047\n",
      "     obtained local values 0.00795888900756836\n",
      "get_mc_stats 0.012451171875\n"
     ]
    },
    {
     "name": "stderr",
     "output_type": "stream",
     "text": [
      " 81%|████████  | 810/1000 [2:59:37<41:47, 13.20s/it, Energy=-2.1058252+0.0000000j ± 0.0000054 [σ²=0.0000000]]"
     ]
    },
    {
     "name": "stdout",
     "output_type": "stream",
     "text": [
      "--->> cal O and jac  0.03618502616882324\n",
      "compute_update  0.039238929748535156\n",
      "(0.03699691072150432+0j)\n",
      "n_discard =  144\n",
      "discard samples 1.6470839977264404\n",
      "n_samples_node =  1000\n",
      "generate_samples :  11.395897150039673\n",
      "     prepare getting local values 0.001825571060180664\n",
      "     obtained local values 0.007748842239379883\n",
      "get_mc_stats 0.011707782745361328\n"
     ]
    },
    {
     "name": "stderr",
     "output_type": "stream",
     "text": [
      " 81%|████████  | 811/1000 [2:59:51<41:28, 13.17s/it, Energy=-2.1058108+0.0000000j ± 0.0000067 [σ²=0.0000000]]"
     ]
    },
    {
     "name": "stdout",
     "output_type": "stream",
     "text": [
      "--->> cal O and jac  0.03728795051574707\n",
      "compute_update  0.04055070877075195\n",
      "(0.03699277168088026+0j)\n",
      "n_discard =  144\n",
      "discard samples 1.6458487510681152\n",
      "n_samples_node =  1000\n",
      "generate_samples :  11.381561279296875\n",
      "     prepare getting local values 0.0020809173583984375\n",
      "     obtained local values 0.007893085479736328\n",
      "get_mc_stats 0.011983871459960938\n"
     ]
    },
    {
     "name": "stderr",
     "output_type": "stream",
     "text": [
      " 81%|████████  | 812/1000 [3:00:04<41:10, 13.14s/it, Energy=-2.1058256+0.0000000j ± 0.0000067 [σ²=0.0000000]]"
     ]
    },
    {
     "name": "stdout",
     "output_type": "stream",
     "text": [
      "--->> cal O and jac  0.03589487075805664\n",
      "compute_update  0.03896498680114746\n",
      "(0.03698871545938291+0j)\n",
      "n_discard =  144\n",
      "discard samples 1.7096340656280518\n",
      "n_samples_node =  1000\n",
      "generate_samples :  11.401831865310669\n",
      "     prepare getting local values 0.002148866653442383\n",
      "     obtained local values 0.008130073547363281\n",
      "get_mc_stats 0.012279033660888672\n"
     ]
    },
    {
     "name": "stderr",
     "output_type": "stream",
     "text": [
      " 81%|████████▏ | 813/1000 [3:00:17<40:58, 13.15s/it, Energy=-2.1058218+0.0000000j ± 0.0000068 [σ²=0.0000000]]"
     ]
    },
    {
     "name": "stdout",
     "output_type": "stream",
     "text": [
      "--->> cal O and jac  0.03749871253967285\n",
      "compute_update  0.040825843811035156\n",
      "(0.03698494037904195+0j)\n",
      "n_discard =  144\n",
      "discard samples 1.6474506855010986\n",
      "n_samples_node =  1000\n",
      "generate_samples :  11.330645084381104\n",
      "     prepare getting local values 0.0022420883178710938\n",
      "     obtained local values 0.007980108261108398\n",
      "get_mc_stats 0.012138128280639648\n"
     ]
    },
    {
     "name": "stderr",
     "output_type": "stream",
     "text": [
      " 81%|████████▏ | 814/1000 [3:00:30<40:39, 13.11s/it, Energy=-2.1058164+0.0000000j ± 0.0000078 [σ²=0.0000000]]"
     ]
    },
    {
     "name": "stdout",
     "output_type": "stream",
     "text": [
      "--->> cal O and jac  0.03622102737426758\n",
      "compute_update  0.03985309600830078\n",
      "(0.03698098042580611+0j)\n",
      "n_discard =  144\n",
      "discard samples 1.6726958751678467\n",
      "n_samples_node =  1000\n",
      "generate_samples :  11.35283374786377\n",
      "     prepare getting local values 0.0022411346435546875\n",
      "     obtained local values 0.007877111434936523\n",
      "get_mc_stats 0.01178884506225586\n"
     ]
    },
    {
     "name": "stderr",
     "output_type": "stream",
     "text": [
      " 82%|████████▏ | 815/1000 [3:00:43<40:24, 13.10s/it, Energy=-2.1058214+0.0000000j ± 0.0000077 [σ²=0.0000001]]"
     ]
    },
    {
     "name": "stdout",
     "output_type": "stream",
     "text": [
      "--->> cal O and jac  0.036930084228515625\n",
      "compute_update  0.03995919227600098\n",
      "(0.03697714288789583+0j)\n",
      "n_discard =  144\n",
      "discard samples 1.6468899250030518\n",
      "n_samples_node =  1000\n",
      "generate_samples :  12.162678003311157\n",
      "     prepare getting local values 0.002251148223876953\n",
      "     obtained local values 0.00796818733215332\n",
      "get_mc_stats 0.012289762496948242\n"
     ]
    },
    {
     "name": "stderr",
     "output_type": "stream",
     "text": [
      " 82%|████████▏ | 816/1000 [3:00:57<40:53, 13.33s/it, Energy=-2.1058193+0.0000000j ± 0.0000069 [σ²=0.0000001]]"
     ]
    },
    {
     "name": "stdout",
     "output_type": "stream",
     "text": [
      "--->> cal O and jac  0.036103248596191406\n",
      "compute_update  0.039520978927612305\n",
      "(0.03697311880692253+0j)\n",
      "n_discard =  144\n",
      "discard samples 1.6787021160125732\n",
      "n_samples_node =  1000\n",
      "generate_samples :  11.475949764251709\n",
      "     prepare getting local values 0.002007007598876953\n",
      "     obtained local values 0.007956981658935547\n",
      "get_mc_stats 0.012574911117553711\n"
     ]
    },
    {
     "name": "stderr",
     "output_type": "stream",
     "text": [
      " 82%|████████▏ | 817/1000 [3:01:10<40:33, 13.30s/it, Energy=-2.1058095+0.0000000j ± 0.0000070 [σ²=0.0000001]]"
     ]
    },
    {
     "name": "stdout",
     "output_type": "stream",
     "text": [
      "--->> cal O and jac  0.039566993713378906\n",
      "compute_update  0.04308199882507324\n",
      "(0.03696918990075302+0j)\n",
      "n_discard =  144\n",
      "discard samples 1.6721889972686768\n",
      "n_samples_node =  1000\n",
      "generate_samples :  11.62625789642334\n",
      "     prepare getting local values 0.002223968505859375\n",
      "     obtained local values 0.007890939712524414\n",
      "get_mc_stats 0.012038946151733398\n"
     ]
    },
    {
     "name": "stderr",
     "output_type": "stream",
     "text": [
      " 82%|████████▏ | 818/1000 [3:01:23<40:22, 13.31s/it, Energy=-2.1058210+0.0000000j ± 0.0000065 [σ²=0.0000000]]"
     ]
    },
    {
     "name": "stdout",
     "output_type": "stream",
     "text": [
      "--->> cal O and jac  0.03523612022399902\n",
      "compute_update  0.03850507736206055\n",
      "(0.03696541461495085+0j)\n",
      "n_discard =  144\n",
      "discard samples 1.6509819030761719\n",
      "n_samples_node =  1000\n",
      "generate_samples :  11.522270917892456\n",
      "     prepare getting local values 0.0023491382598876953\n",
      "     obtained local values 0.007973194122314453\n",
      "get_mc_stats 0.012133121490478516\n"
     ]
    },
    {
     "name": "stderr",
     "output_type": "stream",
     "text": [
      " 82%|████████▏ | 819/1000 [3:01:37<40:05, 13.29s/it, Energy=-2.1058123+0.0000000j ± 0.0000067 [σ²=0.0000000]]"
     ]
    },
    {
     "name": "stdout",
     "output_type": "stream",
     "text": [
      "--->> cal O and jac  0.04169416427612305\n",
      "compute_update  0.04506206512451172\n",
      "(0.03696159552364451+0j)\n",
      "n_discard =  144\n",
      "discard samples 1.6737818717956543\n",
      "n_samples_node =  1000\n",
      "generate_samples :  11.73369812965393\n",
      "     prepare getting local values 0.0023469924926757812\n",
      "     obtained local values 0.008305788040161133\n",
      "get_mc_stats 0.012555122375488281\n"
     ]
    },
    {
     "name": "stderr",
     "output_type": "stream",
     "text": [
      " 82%|████████▏ | 820/1000 [3:01:50<40:01, 13.34s/it, Energy=-2.1058159+0.0000000j ± 0.0000072 [σ²=0.0000000]]"
     ]
    },
    {
     "name": "stdout",
     "output_type": "stream",
     "text": [
      "--->> cal O and jac  0.03829193115234375\n",
      "compute_update  0.04161405563354492\n",
      "(0.03695804747319816+0j)\n",
      "n_discard =  144\n",
      "discard samples 1.675098180770874\n",
      "n_samples_node =  1000\n",
      "generate_samples :  11.598444938659668\n",
      "     prepare getting local values 0.002312898635864258\n",
      "     obtained local values 0.008069753646850586\n",
      "get_mc_stats 0.012331962585449219\n"
     ]
    },
    {
     "name": "stderr",
     "output_type": "stream",
     "text": [
      " 82%|████████▏ | 821/1000 [3:02:03<39:47, 13.34s/it, Energy=-2.1058160+0.0000000j ± 0.0000072 [σ²=0.0000001]]"
     ]
    },
    {
     "name": "stdout",
     "output_type": "stream",
     "text": [
      "--->> cal O and jac  0.03946709632873535\n",
      "compute_update  0.04328298568725586\n",
      "(0.03695421742843766+0j)\n",
      "n_discard =  144\n",
      "discard samples 1.662743091583252\n",
      "n_samples_node =  1000\n",
      "generate_samples :  11.391657829284668\n",
      "     prepare getting local values 0.0018918514251708984\n",
      "     obtained local values 0.007591962814331055\n",
      "get_mc_stats 0.011451244354248047\n"
     ]
    },
    {
     "name": "stderr",
     "output_type": "stream",
     "text": [
      " 82%|████████▏ | 822/1000 [3:02:16<39:21, 13.27s/it, Energy=-2.1058199+0.0000000j ± 0.0000066 [σ²=0.0000000]]"
     ]
    },
    {
     "name": "stdout",
     "output_type": "stream",
     "text": [
      "--->> cal O and jac  0.03651618957519531\n",
      "compute_update  0.03993535041809082\n",
      "(0.03695111364772947+0j)\n",
      "n_discard =  144\n",
      "discard samples 1.6474969387054443\n",
      "n_samples_node =  1000\n",
      "generate_samples :  11.489399909973145\n",
      "     prepare getting local values 0.002312898635864258\n",
      "     obtained local values 0.00800776481628418\n",
      "get_mc_stats 0.011986017227172852\n"
     ]
    },
    {
     "name": "stderr",
     "output_type": "stream",
     "text": [
      " 82%|████████▏ | 823/1000 [3:02:30<39:04, 13.25s/it, Energy=-2.1058202+0.0000000j ± 0.0000066 [σ²=0.0000000]]"
     ]
    },
    {
     "name": "stdout",
     "output_type": "stream",
     "text": [
      "--->> cal O and jac  0.0365450382232666\n",
      "compute_update  0.03982686996459961\n",
      "(0.036947624043591816+0j)\n",
      "n_discard =  144\n",
      "discard samples 1.6481449604034424\n",
      "n_samples_node =  1000\n",
      "generate_samples :  11.323267221450806\n",
      "     prepare getting local values 0.002213001251220703\n",
      "     obtained local values 0.007940053939819336\n",
      "get_mc_stats 0.012142658233642578\n"
     ]
    },
    {
     "name": "stderr",
     "output_type": "stream",
     "text": [
      " 82%|████████▏ | 824/1000 [3:02:43<38:39, 13.18s/it, Energy=-2.1058243+0.0000000j ± 0.0000065 [σ²=0.0000000]]"
     ]
    },
    {
     "name": "stdout",
     "output_type": "stream",
     "text": [
      "--->> cal O and jac  0.036778926849365234\n",
      "compute_update  0.04090070724487305\n",
      "(0.03694391227472315+0j)\n",
      "n_discard =  144\n",
      "discard samples 1.6746530532836914\n",
      "n_samples_node =  1000\n",
      "generate_samples :  12.06535291671753\n",
      "     prepare getting local values 0.0025060176849365234\n",
      "     obtained local values 0.008278846740722656\n",
      "get_mc_stats 0.013338804244995117\n"
     ]
    },
    {
     "name": "stderr",
     "output_type": "stream",
     "text": [
      " 82%|████████▎ | 825/1000 [3:02:56<38:58, 13.37s/it, Energy=-2.1058151+0.0000000j ± 0.0000073 [σ²=0.0000000]]"
     ]
    },
    {
     "name": "stdout",
     "output_type": "stream",
     "text": [
      "--->> cal O and jac  0.03891420364379883\n",
      "compute_update  0.04185914993286133\n",
      "(0.03694009045979649+0j)\n",
      "n_discard =  144\n",
      "discard samples 1.7043957710266113\n",
      "n_samples_node =  1000\n",
      "generate_samples :  11.355044841766357\n",
      "     prepare getting local values 0.0022220611572265625\n",
      "     obtained local values 0.00787210464477539\n",
      "get_mc_stats 0.011650800704956055\n"
     ]
    },
    {
     "name": "stderr",
     "output_type": "stream",
     "text": [
      " 83%|████████▎ | 826/1000 [3:03:10<38:32, 13.29s/it, Energy=-2.1058138+0.0000000j ± 0.0000067 [σ²=0.0000000]]"
     ]
    },
    {
     "name": "stdout",
     "output_type": "stream",
     "text": [
      "--->> cal O and jac  0.0356600284576416\n",
      "compute_update  0.038687944412231445\n",
      "(0.03693664930555197+0j)\n",
      "n_discard =  144\n",
      "discard samples 1.6428771018981934\n",
      "n_samples_node =  1000\n",
      "generate_samples :  11.332588195800781\n",
      "     prepare getting local values 0.002113819122314453\n",
      "     obtained local values 0.007781982421875\n",
      "get_mc_stats 0.011762857437133789\n"
     ]
    },
    {
     "name": "stderr",
     "output_type": "stream",
     "text": [
      " 83%|████████▎ | 827/1000 [3:03:23<38:05, 13.21s/it, Energy=-2.1058117+0.0000000j ± 0.0000076 [σ²=0.0000000]]"
     ]
    },
    {
     "name": "stdout",
     "output_type": "stream",
     "text": [
      "--->> cal O and jac  0.03612685203552246\n",
      "compute_update  0.03958773612976074\n",
      "(0.03693327930720362+0j)\n",
      "n_discard =  144\n",
      "discard samples 1.647270917892456\n",
      "n_samples_node =  1000\n",
      "generate_samples :  11.413856029510498\n",
      "     prepare getting local values 0.002454042434692383\n",
      "     obtained local values 0.008361339569091797\n",
      "get_mc_stats 0.012384176254272461\n"
     ]
    },
    {
     "name": "stderr",
     "output_type": "stream",
     "text": [
      " 83%|████████▎ | 828/1000 [3:03:36<37:47, 13.18s/it, Energy=-2.1058215+0.0000000j ± 0.0000077 [σ²=0.0000000]]"
     ]
    },
    {
     "name": "stdout",
     "output_type": "stream",
     "text": [
      "--->> cal O and jac  0.03662705421447754\n",
      "compute_update  0.04052615165710449\n",
      "(0.036930157508055436+0j)\n",
      "n_discard =  144\n",
      "discard samples 1.6482081413269043\n",
      "n_samples_node =  1000\n",
      "generate_samples :  11.354207038879395\n",
      "     prepare getting local values 0.0022001266479492188\n",
      "     obtained local values 0.007921218872070312\n",
      "get_mc_stats 0.012784957885742188\n"
     ]
    },
    {
     "name": "stderr",
     "output_type": "stream",
     "text": [
      " 83%|████████▎ | 829/1000 [3:03:49<37:27, 13.14s/it, Energy=-2.1058169+0.0000000j ± 0.0000060 [σ²=0.0000000]]"
     ]
    },
    {
     "name": "stdout",
     "output_type": "stream",
     "text": [
      "--->> cal O and jac  0.0358889102935791\n",
      "compute_update  0.03926396369934082\n",
      "(0.036926734230123756+0j)\n",
      "n_discard =  144\n",
      "discard samples 1.6524889469146729\n",
      "n_samples_node =  1000\n",
      "generate_samples :  11.325103759765625\n",
      "     prepare getting local values 0.002172231674194336\n",
      "     obtained local values 0.00796198844909668\n",
      "get_mc_stats 0.012182950973510742\n"
     ]
    },
    {
     "name": "stderr",
     "output_type": "stream",
     "text": [
      " 83%|████████▎ | 830/1000 [3:04:02<37:08, 13.11s/it, Energy=-2.1058189+0.0000000j ± 0.0000057 [σ²=0.0000000]]"
     ]
    },
    {
     "name": "stdout",
     "output_type": "stream",
     "text": [
      "--->> cal O and jac  0.03622698783874512\n",
      "compute_update  0.03928112983703613\n",
      "(0.03692347987115468+0j)\n",
      "n_discard =  144\n",
      "discard samples 1.669938087463379\n",
      "n_samples_node =  1000\n",
      "generate_samples :  11.33218789100647\n",
      "     prepare getting local values 0.0020530223846435547\n",
      "     obtained local values 0.0077631473541259766\n",
      "get_mc_stats 0.011919736862182617\n"
     ]
    },
    {
     "name": "stderr",
     "output_type": "stream",
     "text": [
      " 83%|████████▎ | 831/1000 [3:04:15<36:52, 13.09s/it, Energy=-2.1058256+0.0000000j ± 0.0000065 [σ²=0.0000000]]"
     ]
    },
    {
     "name": "stdout",
     "output_type": "stream",
     "text": [
      "--->> cal O and jac  0.036216020584106445\n",
      "compute_update  0.03955507278442383\n",
      "(0.03692044810872241+0j)\n",
      "n_discard =  144\n",
      "discard samples 1.6614477634429932\n",
      "n_samples_node =  1000\n",
      "generate_samples :  11.398950099945068\n",
      "     prepare getting local values 0.0024938583374023438\n",
      "     obtained local values 0.008371829986572266\n",
      "get_mc_stats 0.012823104858398438\n"
     ]
    },
    {
     "name": "stderr",
     "output_type": "stream",
     "text": [
      " 83%|████████▎ | 832/1000 [3:04:28<36:40, 13.10s/it, Energy=-2.1058115+0.0000000j ± 0.0000055 [σ²=0.0000000]]"
     ]
    },
    {
     "name": "stdout",
     "output_type": "stream",
     "text": [
      "--->> cal O and jac  0.0366668701171875\n",
      "compute_update  0.04022407531738281\n",
      "(0.03691716389872675+0j)\n",
      "n_discard =  144\n",
      "discard samples 1.6466269493103027\n",
      "n_samples_node =  1000\n",
      "generate_samples :  11.316867113113403\n",
      "     prepare getting local values 0.0020380020141601562\n",
      "     obtained local values 0.007626056671142578\n",
      "get_mc_stats 0.011668920516967773\n"
     ]
    },
    {
     "name": "stderr",
     "output_type": "stream",
     "text": [
      " 83%|████████▎ | 833/1000 [3:04:41<36:23, 13.08s/it, Energy=-2.1058261+0.0000000j ± 0.0000061 [σ²=0.0000001]]"
     ]
    },
    {
     "name": "stdout",
     "output_type": "stream",
     "text": [
      "--->> cal O and jac  0.03679800033569336\n",
      "compute_update  0.0400388240814209\n",
      "(0.0369135423538173+0j)\n",
      "n_discard =  144\n",
      "discard samples 1.7192671298980713\n",
      "n_samples_node =  1000\n",
      "generate_samples :  11.658258199691772\n",
      "     prepare getting local values 0.0022950172424316406\n",
      "     obtained local values 0.007901906967163086\n",
      "get_mc_stats 0.012242794036865234\n"
     ]
    },
    {
     "name": "stderr",
     "output_type": "stream",
     "text": [
      " 83%|████████▎ | 834/1000 [3:04:54<36:28, 13.18s/it, Energy=-2.1058185+0.0000000j ± 0.0000066 [σ²=0.0000000]]"
     ]
    },
    {
     "name": "stdout",
     "output_type": "stream",
     "text": [
      "--->> cal O and jac  0.03697323799133301\n",
      "compute_update  0.04073619842529297\n",
      "(0.03690996821320826+0j)\n",
      "n_discard =  144\n",
      "discard samples 1.6580281257629395\n",
      "n_samples_node =  1000\n",
      "generate_samples :  11.405732154846191\n",
      "     prepare getting local values 0.0020787715911865234\n",
      "     obtained local values 0.007864713668823242\n",
      "get_mc_stats 0.011889934539794922\n"
     ]
    },
    {
     "name": "stderr",
     "output_type": "stream",
     "text": [
      " 84%|████████▎ | 835/1000 [3:05:08<36:11, 13.16s/it, Energy=-2.1058189+0.0000000j ± 0.0000067 [σ²=0.0000000]]"
     ]
    },
    {
     "name": "stdout",
     "output_type": "stream",
     "text": [
      "--->> cal O and jac  0.03656911849975586\n",
      "compute_update  0.04002809524536133\n",
      "(0.036906358659909384+0j)\n",
      "n_discard =  144\n",
      "discard samples 1.6490209102630615\n",
      "n_samples_node =  1000\n",
      "generate_samples :  11.342919826507568\n",
      "     prepare getting local values 0.0023560523986816406\n",
      "     obtained local values 0.007840156555175781\n",
      "get_mc_stats 0.012118101119995117\n"
     ]
    },
    {
     "name": "stderr",
     "output_type": "stream",
     "text": [
      " 84%|████████▎ | 836/1000 [3:05:21<35:53, 13.13s/it, Energy=-2.1058227+0.0000000j ± 0.0000054 [σ²=0.0000000]]"
     ]
    },
    {
     "name": "stdout",
     "output_type": "stream",
     "text": [
      "--->> cal O and jac  0.03670215606689453\n",
      "compute_update  0.04021000862121582\n",
      "(0.03690260213480087+0j)\n",
      "n_discard =  144\n",
      "discard samples 1.6454968452453613\n",
      "n_samples_node =  1000\n",
      "generate_samples :  11.334489107131958\n",
      "     prepare getting local values 0.0023889541625976562\n",
      "     obtained local values 0.008175134658813477\n",
      "get_mc_stats 0.012120962142944336\n"
     ]
    },
    {
     "name": "stderr",
     "output_type": "stream",
     "text": [
      " 84%|████████▎ | 837/1000 [3:05:34<35:35, 13.10s/it, Energy=-2.1058218+0.0000000j ± 0.0000060 [σ²=0.0000000]]"
     ]
    },
    {
     "name": "stdout",
     "output_type": "stream",
     "text": [
      "--->> cal O and jac  0.03606128692626953\n",
      "compute_update  0.03932905197143555\n",
      "(0.03689887520468914+0j)\n",
      "n_discard =  144\n",
      "discard samples 1.6445376873016357\n",
      "n_samples_node =  1000\n",
      "generate_samples :  11.360757112503052\n",
      "     prepare getting local values 0.002733945846557617\n",
      "     obtained local values 0.008568048477172852\n",
      "get_mc_stats 0.013009071350097656\n"
     ]
    },
    {
     "name": "stderr",
     "output_type": "stream",
     "text": [
      " 84%|████████▍ | 838/1000 [3:05:47<35:20, 13.09s/it, Energy=-2.1058202+0.0000000j ± 0.0000057 [σ²=0.0000000]]"
     ]
    },
    {
     "name": "stdout",
     "output_type": "stream",
     "text": [
      "--->> cal O and jac  0.036582231521606445\n",
      "compute_update  0.04013800621032715\n",
      "(0.03689548420328022+0j)\n",
      "n_discard =  144\n",
      "discard samples 1.648871898651123\n",
      "n_samples_node =  1000\n",
      "generate_samples :  11.34020209312439\n",
      "     prepare getting local values 0.0019750595092773438\n",
      "     obtained local values 0.007693052291870117\n",
      "get_mc_stats 0.011789798736572266\n"
     ]
    },
    {
     "name": "stderr",
     "output_type": "stream",
     "text": [
      " 84%|████████▍ | 839/1000 [3:06:00<35:05, 13.07s/it, Energy=-2.1058220+0.0000000j ± 0.0000072 [σ²=0.0000000]]"
     ]
    },
    {
     "name": "stdout",
     "output_type": "stream",
     "text": [
      "--->> cal O and jac  0.036702871322631836\n",
      "compute_update  0.039975881576538086\n",
      "(0.036892147422939996+0j)\n",
      "n_discard =  144\n",
      "discard samples 1.6486492156982422\n",
      "n_samples_node =  1000\n",
      "generate_samples :  11.346313953399658\n",
      "     prepare getting local values 0.002025127410888672\n",
      "     obtained local values 0.007699012756347656\n",
      "get_mc_stats 0.012022972106933594\n"
     ]
    },
    {
     "name": "stderr",
     "output_type": "stream",
     "text": [
      " 84%|████████▍ | 840/1000 [3:06:13<34:50, 13.07s/it, Energy=-2.1058216+0.0000000j ± 0.0000071 [σ²=0.0000000]]"
     ]
    },
    {
     "name": "stdout",
     "output_type": "stream",
     "text": [
      "--->> cal O and jac  0.0361480712890625\n",
      "compute_update  0.03967595100402832\n",
      "(0.036888135212096114+0j)\n",
      "n_discard =  144\n",
      "discard samples 1.650019884109497\n",
      "n_samples_node =  1000\n",
      "generate_samples :  11.377388954162598\n",
      "     prepare getting local values 0.002457141876220703\n",
      "     obtained local values 0.008096933364868164\n",
      "get_mc_stats 0.011812925338745117\n"
     ]
    },
    {
     "name": "stderr",
     "output_type": "stream",
     "text": [
      " 84%|████████▍ | 841/1000 [3:06:26<34:38, 13.07s/it, Energy=-2.1058288+0.0000000j ± 0.0000075 [σ²=0.0000000]]"
     ]
    },
    {
     "name": "stdout",
     "output_type": "stream",
     "text": [
      "--->> cal O and jac  0.037970781326293945\n",
      "compute_update  0.04147601127624512\n",
      "(0.036884758383272064+0j)\n",
      "n_discard =  144\n",
      "discard samples 1.647670030593872\n",
      "n_samples_node =  1000\n",
      "generate_samples :  11.457704067230225\n",
      "     prepare getting local values 0.002410888671875\n",
      "     obtained local values 0.008147001266479492\n",
      "get_mc_stats 0.012453794479370117\n"
     ]
    },
    {
     "name": "stderr",
     "output_type": "stream",
     "text": [
      " 84%|████████▍ | 842/1000 [3:06:39<34:29, 13.10s/it, Energy=-2.1058078+0.0000000j ± 0.0000064 [σ²=0.0000000]]"
     ]
    },
    {
     "name": "stdout",
     "output_type": "stream",
     "text": [
      "--->> cal O and jac  0.03646278381347656\n",
      "compute_update  0.039550065994262695\n",
      "(0.03688110634919409+0j)\n",
      "n_discard =  144\n",
      "discard samples 1.64577317237854\n",
      "n_samples_node =  1000\n",
      "generate_samples :  11.585072040557861\n",
      "     prepare getting local values 0.0020542144775390625\n",
      "     obtained local values 0.007920265197753906\n",
      "get_mc_stats 0.012396812438964844\n"
     ]
    },
    {
     "name": "stderr",
     "output_type": "stream",
     "text": [
      " 84%|████████▍ | 843/1000 [3:06:52<34:25, 13.15s/it, Energy=-2.1058215+0.0000000j ± 0.0000049 [σ²=0.0000000]]"
     ]
    },
    {
     "name": "stdout",
     "output_type": "stream",
     "text": [
      "--->> cal O and jac  0.03690481185913086\n",
      "compute_update  0.03991389274597168\n",
      "(0.036877699032015786+0j)\n",
      "n_discard =  144\n",
      "discard samples 1.6488571166992188\n",
      "n_samples_node =  1000\n",
      "generate_samples :  11.421015977859497\n",
      "     prepare getting local values 0.001967906951904297\n",
      "     obtained local values 0.007715940475463867\n",
      "get_mc_stats 0.012006044387817383\n"
     ]
    },
    {
     "name": "stderr",
     "output_type": "stream",
     "text": [
      " 84%|████████▍ | 844/1000 [3:07:05<34:10, 13.15s/it, Energy=-2.1058146+0.0000000j ± 0.0000066 [σ²=0.0000000]]"
     ]
    },
    {
     "name": "stdout",
     "output_type": "stream",
     "text": [
      "--->> cal O and jac  0.0369112491607666\n",
      "compute_update  0.04023599624633789\n",
      "(0.03687406987034281+0j)\n",
      "n_discard =  144\n",
      "discard samples 1.6461572647094727\n",
      "n_samples_node =  1000\n",
      "generate_samples :  11.338725805282593\n",
      "     prepare getting local values 0.002274036407470703\n",
      "     obtained local values 0.007737159729003906\n",
      "get_mc_stats 0.011700868606567383\n"
     ]
    },
    {
     "name": "stderr",
     "output_type": "stream",
     "text": [
      " 84%|████████▍ | 845/1000 [3:07:18<33:52, 13.11s/it, Energy=-2.1058213+0.0000000j ± 0.0000057 [σ²=0.0000000]]"
     ]
    },
    {
     "name": "stdout",
     "output_type": "stream",
     "text": [
      "--->> cal O and jac  0.03557181358337402\n",
      "compute_update  0.03874492645263672\n",
      "(0.036870601080761733+0j)\n",
      "n_discard =  144\n",
      "discard samples 1.6721689701080322\n",
      "n_samples_node =  1000\n",
      "generate_samples :  11.341644048690796\n",
      "     prepare getting local values 0.0022211074829101562\n",
      "     obtained local values 0.00804901123046875\n",
      "get_mc_stats 0.012293100357055664\n"
     ]
    },
    {
     "name": "stderr",
     "output_type": "stream",
     "text": [
      " 85%|████████▍ | 846/1000 [3:07:32<33:37, 13.10s/it, Energy=-2.1058228+0.0000000j ± 0.0000056 [σ²=0.0000000]]"
     ]
    },
    {
     "name": "stdout",
     "output_type": "stream",
     "text": [
      "--->> cal O and jac  0.03653097152709961\n",
      "compute_update  0.039968013763427734\n",
      "(0.03686729344027745+0j)\n",
      "n_discard =  144\n",
      "discard samples 1.669006109237671\n",
      "n_samples_node =  1000\n",
      "generate_samples :  11.572011709213257\n",
      "     prepare getting local values 0.0024008750915527344\n",
      "     obtained local values 0.007978200912475586\n",
      "get_mc_stats 0.012212991714477539\n"
     ]
    },
    {
     "name": "stderr",
     "output_type": "stream",
     "text": [
      " 85%|████████▍ | 847/1000 [3:07:45<33:33, 13.16s/it, Energy=-2.1058165+0.0000000j ± 0.0000065 [σ²=0.0000000]]"
     ]
    },
    {
     "name": "stdout",
     "output_type": "stream",
     "text": [
      "--->> cal O and jac  0.038223981857299805\n",
      "compute_update  0.04174304008483887\n",
      "(0.03686417798644245+0j)\n",
      "n_discard =  144\n",
      "discard samples 1.715411901473999\n",
      "n_samples_node =  1000\n",
      "generate_samples :  11.549755096435547\n",
      "     prepare getting local values 0.0021300315856933594\n",
      "     obtained local values 0.008008003234863281\n",
      "get_mc_stats 0.012151002883911133\n"
     ]
    },
    {
     "name": "stderr",
     "output_type": "stream",
     "text": [
      " 85%|████████▍ | 848/1000 [3:07:58<33:27, 13.21s/it, Energy=-2.1058213+0.0000000j ± 0.0000040 [σ²=0.0000000]]"
     ]
    },
    {
     "name": "stdout",
     "output_type": "stream",
     "text": [
      "--->> cal O and jac  0.03980898857116699\n",
      "compute_update  0.043459177017211914\n",
      "(0.03686075146105399+0j)\n",
      "n_discard =  144\n",
      "discard samples 1.6865921020507812\n",
      "n_samples_node =  1000\n",
      "generate_samples :  11.414097785949707\n",
      "     prepare getting local values 0.0021369457244873047\n",
      "     obtained local values 0.007795810699462891\n",
      "get_mc_stats 0.011718034744262695\n"
     ]
    },
    {
     "name": "stderr",
     "output_type": "stream",
     "text": [
      " 85%|████████▍ | 849/1000 [3:08:11<33:11, 13.19s/it, Energy=-2.1058258+0.0000000j ± 0.0000055 [σ²=0.0000000]]"
     ]
    },
    {
     "name": "stdout",
     "output_type": "stream",
     "text": [
      "--->> cal O and jac  0.03595614433288574\n",
      "compute_update  0.03933000564575195\n",
      "(0.03685752093429539+0j)\n",
      "n_discard =  144\n",
      "discard samples 1.6452407836914062\n",
      "n_samples_node =  1000\n",
      "generate_samples :  11.501131057739258\n",
      "     prepare getting local values 0.002174854278564453\n",
      "     obtained local values 0.008072853088378906\n",
      "get_mc_stats 0.01226806640625\n"
     ]
    },
    {
     "name": "stderr",
     "output_type": "stream",
     "text": [
      " 85%|████████▌ | 850/1000 [3:08:24<32:59, 13.20s/it, Energy=-2.1058079+0.0000000j ± 0.0000057 [σ²=0.0000000]]"
     ]
    },
    {
     "name": "stdout",
     "output_type": "stream",
     "text": [
      "--->> cal O and jac  0.03873085975646973\n",
      "compute_update  0.042352914810180664\n",
      "(0.036854137190988595+0j)\n",
      "n_discard =  144\n",
      "discard samples 1.6711649894714355\n",
      "n_samples_node =  1000\n",
      "generate_samples :  11.532095909118652\n",
      "     prepare getting local values 0.0026841163635253906\n",
      "     obtained local values 0.008506059646606445\n",
      "get_mc_stats 0.013111114501953125\n"
     ]
    },
    {
     "name": "stderr",
     "output_type": "stream",
     "text": [
      " 85%|████████▌ | 851/1000 [3:08:38<32:49, 13.21s/it, Energy=-2.1058177+0.0000000j ± 0.0000064 [σ²=0.0000000]]"
     ]
    },
    {
     "name": "stdout",
     "output_type": "stream",
     "text": [
      "--->> cal O and jac  0.03811907768249512\n",
      "compute_update  0.04169797897338867\n",
      "(0.036851160048157076+0j)\n",
      "n_discard =  144\n",
      "discard samples 1.6575191020965576\n",
      "n_samples_node =  1000\n",
      "generate_samples :  11.625972032546997\n",
      "     prepare getting local values 0.0022079944610595703\n",
      "     obtained local values 0.009376049041748047\n",
      "get_mc_stats 0.014018058776855469\n"
     ]
    },
    {
     "name": "stderr",
     "output_type": "stream",
     "text": [
      " 85%|████████▌ | 852/1000 [3:08:51<32:41, 13.26s/it, Energy=-2.1058101+0.0000000j ± 0.0000065 [σ²=0.0000000]]"
     ]
    },
    {
     "name": "stdout",
     "output_type": "stream",
     "text": [
      "--->> cal O and jac  0.04593682289123535\n",
      "compute_update  0.04986906051635742\n",
      "(0.03684807968107532+0j)\n",
      "n_discard =  144\n",
      "discard samples 1.6771750450134277\n",
      "n_samples_node =  1000\n",
      "generate_samples :  11.510123014450073\n",
      "     prepare getting local values 0.0023889541625976562\n",
      "     obtained local values 0.008308887481689453\n",
      "get_mc_stats 0.012538909912109375\n"
     ]
    },
    {
     "name": "stderr",
     "output_type": "stream",
     "text": [
      " 85%|████████▌ | 853/1000 [3:09:04<32:28, 13.25s/it, Energy=-2.1058084+0.0000000j ± 0.0000060 [σ²=0.0000000]]"
     ]
    },
    {
     "name": "stdout",
     "output_type": "stream",
     "text": [
      "--->> cal O and jac  0.03785395622253418\n",
      "compute_update  0.041684865951538086\n",
      "(0.036844800358201424+0j)\n",
      "n_discard =  144\n",
      "discard samples 1.6465930938720703\n",
      "n_samples_node =  1000\n",
      "generate_samples :  11.35085916519165\n",
      "     prepare getting local values 0.0020668506622314453\n",
      "     obtained local values 0.007798910140991211\n",
      "get_mc_stats 0.011811971664428711\n"
     ]
    },
    {
     "name": "stderr",
     "output_type": "stream",
     "text": [
      " 85%|████████▌ | 854/1000 [3:09:17<32:05, 13.19s/it, Energy=-2.1058213+0.0000000j ± 0.0000070 [σ²=0.0000000]]"
     ]
    },
    {
     "name": "stdout",
     "output_type": "stream",
     "text": [
      "--->> cal O and jac  0.03571295738220215\n",
      "compute_update  0.039201974868774414\n",
      "(0.03684182965766208+0j)\n",
      "n_discard =  144\n",
      "discard samples 1.6478939056396484\n",
      "n_samples_node =  1000\n",
      "generate_samples :  11.50110387802124\n",
      "     prepare getting local values 0.0019311904907226562\n",
      "     obtained local values 0.007673025131225586\n",
      "get_mc_stats 0.012124061584472656\n"
     ]
    },
    {
     "name": "stderr",
     "output_type": "stream",
     "text": [
      " 86%|████████▌ | 855/1000 [3:09:31<31:53, 13.20s/it, Energy=-2.1058152+0.0000000j ± 0.0000066 [σ²=0.0000000]]"
     ]
    },
    {
     "name": "stdout",
     "output_type": "stream",
     "text": [
      "--->> cal O and jac  0.03978395462036133\n",
      "compute_update  0.04362988471984863\n",
      "(0.03683819196248125+0j)\n",
      "n_discard =  144\n",
      "discard samples 1.7062621116638184\n",
      "n_samples_node =  1000\n",
      "generate_samples :  11.602532148361206\n",
      "     prepare getting local values 0.0026879310607910156\n",
      "     obtained local values 0.008615970611572266\n",
      "get_mc_stats 0.013411760330200195\n"
     ]
    },
    {
     "name": "stderr",
     "output_type": "stream",
     "text": [
      " 86%|████████▌ | 856/1000 [3:09:44<31:47, 13.25s/it, Energy=-2.1058213+0.0000000j ± 0.0000044 [σ²=0.0000000]]"
     ]
    },
    {
     "name": "stdout",
     "output_type": "stream",
     "text": [
      "--->> cal O and jac  0.04120230674743652\n",
      "compute_update  0.04503011703491211\n",
      "(0.03683483800135683+0j)\n",
      "n_discard =  144\n",
      "discard samples 1.6849699020385742\n",
      "n_samples_node =  1000\n",
      "generate_samples :  11.451843976974487\n",
      "     prepare getting local values 0.0023949146270751953\n",
      "     obtained local values 0.008033990859985352\n",
      "get_mc_stats 0.01214909553527832\n"
     ]
    },
    {
     "name": "stderr",
     "output_type": "stream",
     "text": [
      " 86%|████████▌ | 857/1000 [3:09:57<31:32, 13.23s/it, Energy=-2.1058199+0.0000000j ± 0.0000048 [σ²=0.0000000]]"
     ]
    },
    {
     "name": "stdout",
     "output_type": "stream",
     "text": [
      "--->> cal O and jac  0.03628706932067871\n",
      "compute_update  0.03981184959411621\n",
      "(0.03683153066960284+0j)\n",
      "n_discard =  144\n",
      "discard samples 1.6463699340820312\n",
      "n_samples_node =  1000\n",
      "generate_samples :  11.333096742630005\n",
      "     prepare getting local values 0.002328157424926758\n",
      "     obtained local values 0.008072853088378906\n",
      "get_mc_stats 0.012154102325439453\n"
     ]
    },
    {
     "name": "stderr",
     "output_type": "stream",
     "text": [
      " 86%|████████▌ | 858/1000 [3:10:10<31:10, 13.17s/it, Energy=-2.1058156+0.0000000j ± 0.0000059 [σ²=0.0000000]]"
     ]
    },
    {
     "name": "stdout",
     "output_type": "stream",
     "text": [
      "--->> cal O and jac  0.036441802978515625\n",
      "compute_update  0.03975486755371094\n",
      "(0.03682848931634111+0j)\n",
      "n_discard =  144\n",
      "discard samples 1.6465110778808594\n",
      "n_samples_node =  1000\n",
      "generate_samples :  11.347041130065918\n",
      "     prepare getting local values 0.002286195755004883\n",
      "     obtained local values 0.00793600082397461\n",
      "get_mc_stats 0.012127876281738281\n"
     ]
    },
    {
     "name": "stderr",
     "output_type": "stream",
     "text": [
      " 86%|████████▌ | 859/1000 [3:10:23<30:51, 13.13s/it, Energy=-2.1058213+0.0000000j ± 0.0000060 [σ²=0.0000000]]"
     ]
    },
    {
     "name": "stdout",
     "output_type": "stream",
     "text": [
      "--->> cal O and jac  0.035414934158325195\n",
      "compute_update  0.03873300552368164\n",
      "(0.03682552434248374+0j)\n",
      "n_discard =  144\n",
      "discard samples 1.6471521854400635\n",
      "n_samples_node =  1000\n",
      "generate_samples :  11.37581205368042\n",
      "     prepare getting local values 0.002050161361694336\n",
      "     obtained local values 0.007765054702758789\n",
      "get_mc_stats 0.012078046798706055\n"
     ]
    },
    {
     "name": "stderr",
     "output_type": "stream",
     "text": [
      " 86%|████████▌ | 860/1000 [3:10:36<30:36, 13.12s/it, Energy=-2.1058147+0.0000000j ± 0.0000050 [σ²=0.0000000]]"
     ]
    },
    {
     "name": "stdout",
     "output_type": "stream",
     "text": [
      "--->> cal O and jac  0.03622794151306152\n",
      "compute_update  0.04013180732727051\n",
      "(0.036822031974652884+0j)\n",
      "n_discard =  144\n",
      "discard samples 1.6514630317687988\n",
      "n_samples_node =  1000\n",
      "generate_samples :  11.444623231887817\n",
      "     prepare getting local values 0.002810955047607422\n",
      "     obtained local values 0.008553028106689453\n",
      "get_mc_stats 0.013210773468017578\n"
     ]
    },
    {
     "name": "stderr",
     "output_type": "stream",
     "text": [
      " 86%|████████▌ | 861/1000 [3:10:49<30:25, 13.13s/it, Energy=-2.1058205+0.0000000j ± 0.0000046 [σ²=0.0000000]]"
     ]
    },
    {
     "name": "stdout",
     "output_type": "stream",
     "text": [
      "--->> cal O and jac  0.042983055114746094\n",
      "compute_update  0.049530029296875\n",
      "(0.03681894877611255+0j)\n",
      "n_discard =  144\n",
      "discard samples 1.8297028541564941\n",
      "n_samples_node =  1000\n",
      "generate_samples :  11.745259046554565\n",
      "     prepare getting local values 0.002753019332885742\n",
      "     obtained local values 0.008538246154785156\n",
      "get_mc_stats 0.01347804069519043\n"
     ]
    },
    {
     "name": "stderr",
     "output_type": "stream",
     "text": [
      " 86%|████████▌ | 862/1000 [3:11:03<30:32, 13.28s/it, Energy=-2.1058064+0.0000000j ± 0.0000060 [σ²=0.0000000]]"
     ]
    },
    {
     "name": "stdout",
     "output_type": "stream",
     "text": [
      "--->> cal O and jac  0.036314964294433594\n",
      "compute_update  0.03941607475280762\n",
      "(0.03681587019021362+0j)\n",
      "n_discard =  144\n",
      "discard samples 1.665497064590454\n",
      "n_samples_node =  1000\n",
      "generate_samples :  11.42280101776123\n",
      "     prepare getting local values 0.0021560192108154297\n",
      "     obtained local values 0.007812023162841797\n",
      "get_mc_stats 0.011869192123413086\n"
     ]
    },
    {
     "name": "stderr",
     "output_type": "stream",
     "text": [
      " 86%|████████▋ | 863/1000 [3:11:16<30:13, 13.24s/it, Energy=-2.1058126+0.0000000j ± 0.0000046 [σ²=0.0000000]]"
     ]
    },
    {
     "name": "stdout",
     "output_type": "stream",
     "text": [
      "--->> cal O and jac  0.0360109806060791\n",
      "compute_update  0.039137840270996094\n",
      "(0.0368126368866637+0j)\n",
      "n_discard =  144\n",
      "discard samples 1.6474812030792236\n",
      "n_samples_node =  1000\n",
      "generate_samples :  11.401559829711914\n",
      "     prepare getting local values 0.002414226531982422\n",
      "     obtained local values 0.008243083953857422\n",
      "get_mc_stats 0.01293802261352539\n"
     ]
    },
    {
     "name": "stderr",
     "output_type": "stream",
     "text": [
      " 86%|████████▋ | 864/1000 [3:11:29<29:55, 13.20s/it, Energy=-2.1058122+0.0000000j ± 0.0000056 [σ²=0.0000000]]"
     ]
    },
    {
     "name": "stdout",
     "output_type": "stream",
     "text": [
      "--->> cal O and jac  0.03909707069396973\n",
      "compute_update  0.043038129806518555\n",
      "(0.03680943897860508+0j)\n",
      "n_discard =  144\n",
      "discard samples 1.6467890739440918\n",
      "n_samples_node =  1000\n",
      "generate_samples :  11.349131107330322\n",
      "     prepare getting local values 0.0020751953125\n",
      "     obtained local values 0.007732391357421875\n",
      "get_mc_stats 0.01182699203491211\n"
     ]
    },
    {
     "name": "stderr",
     "output_type": "stream",
     "text": [
      " 86%|████████▋ | 865/1000 [3:11:42<29:35, 13.15s/it, Energy=-2.1058216+0.0000000j ± 0.0000062 [σ²=0.0000000]]"
     ]
    },
    {
     "name": "stdout",
     "output_type": "stream",
     "text": [
      "--->> cal O and jac  0.03756093978881836\n",
      "compute_update  0.04094719886779785\n",
      "(0.03680633854390121+0j)\n",
      "n_discard =  144\n",
      "discard samples 1.653712272644043\n",
      "n_samples_node =  1000\n",
      "generate_samples :  11.564265966415405\n",
      "     prepare getting local values 0.0019979476928710938\n",
      "     obtained local values 0.007684946060180664\n",
      "get_mc_stats 0.011993169784545898\n"
     ]
    },
    {
     "name": "stderr",
     "output_type": "stream",
     "text": [
      " 87%|████████▋ | 866/1000 [3:11:56<29:27, 13.19s/it, Energy=-2.1058242+0.0000000j ± 0.0000056 [σ²=0.0000000]]"
     ]
    },
    {
     "name": "stdout",
     "output_type": "stream",
     "text": [
      "--->> cal O and jac  0.03879714012145996\n",
      "compute_update  0.0419011116027832\n",
      "(0.036803215797437915+0j)\n",
      "n_discard =  144\n",
      "discard samples 1.6495401859283447\n",
      "n_samples_node =  1000\n",
      "generate_samples :  11.368454933166504\n",
      "     prepare getting local values 0.002190113067626953\n",
      "     obtained local values 0.007941961288452148\n",
      "get_mc_stats 0.012125968933105469\n"
     ]
    },
    {
     "name": "stderr",
     "output_type": "stream",
     "text": [
      " 87%|████████▋ | 867/1000 [3:12:09<29:09, 13.16s/it, Energy=-2.1058214+0.0000000j ± 0.0000054 [σ²=0.0000000]]"
     ]
    },
    {
     "name": "stdout",
     "output_type": "stream",
     "text": [
      "--->> cal O and jac  0.03801703453063965\n",
      "compute_update  0.0414891242980957\n",
      "(0.03680013589998963+0j)\n",
      "n_discard =  144\n",
      "discard samples 1.67396879196167\n",
      "n_samples_node =  1000\n",
      "generate_samples :  11.36819076538086\n",
      "     prepare getting local values 0.002190828323364258\n",
      "     obtained local values 0.008057832717895508\n",
      "get_mc_stats 0.012115240097045898\n"
     ]
    },
    {
     "name": "stderr",
     "output_type": "stream",
     "text": [
      " 87%|████████▋ | 868/1000 [3:12:22<28:54, 13.14s/it, Energy=-2.1058113+0.0000000j ± 0.0000051 [σ²=0.0000000]]"
     ]
    },
    {
     "name": "stdout",
     "output_type": "stream",
     "text": [
      "--->> cal O and jac  0.03763604164123535\n",
      "compute_update  0.040780067443847656\n",
      "(0.036797001862596636+0j)\n",
      "n_discard =  144\n",
      "discard samples 1.64847993850708\n",
      "n_samples_node =  1000\n",
      "generate_samples :  11.32403302192688\n",
      "     prepare getting local values 0.0021529197692871094\n",
      "     obtained local values 0.0077877044677734375\n",
      "get_mc_stats 0.011853933334350586\n"
     ]
    },
    {
     "name": "stderr",
     "output_type": "stream",
     "text": [
      " 87%|████████▋ | 869/1000 [3:12:35<28:36, 13.10s/it, Energy=-2.1058105+0.0000000j ± 0.0000060 [σ²=0.0000000]]"
     ]
    },
    {
     "name": "stdout",
     "output_type": "stream",
     "text": [
      "--->> cal O and jac  0.03628993034362793\n",
      "compute_update  0.03955793380737305\n",
      "(0.03679391301632567+0j)\n",
      "n_discard =  144\n",
      "discard samples 1.6459388732910156\n",
      "n_samples_node =  1000\n",
      "generate_samples :  11.367597818374634\n",
      "     prepare getting local values 0.0023267269134521484\n",
      "     obtained local values 0.008297920227050781\n",
      "get_mc_stats 0.01344609260559082\n"
     ]
    },
    {
     "name": "stderr",
     "output_type": "stream",
     "text": [
      " 87%|████████▋ | 870/1000 [3:12:48<28:22, 13.10s/it, Energy=-2.1058255+0.0000000j ± 0.0000046 [σ²=0.0000000]]"
     ]
    },
    {
     "name": "stdout",
     "output_type": "stream",
     "text": [
      "--->> cal O and jac  0.05159711837768555\n",
      "compute_update  0.05539512634277344\n",
      "(0.036791249522888675+0j)\n",
      "n_discard =  144\n",
      "discard samples 1.7619011402130127\n",
      "n_samples_node =  1000\n",
      "generate_samples :  11.75278902053833\n",
      "     prepare getting local values 0.002357006072998047\n",
      "     obtained local values 0.00847005844116211\n",
      "get_mc_stats 0.013414144515991211\n"
     ]
    },
    {
     "name": "stderr",
     "output_type": "stream",
     "text": [
      " 87%|████████▋ | 871/1000 [3:13:02<28:28, 13.24s/it, Energy=-2.1058300+0.0000000j ± 0.0000057 [σ²=0.0000000]]"
     ]
    },
    {
     "name": "stdout",
     "output_type": "stream",
     "text": [
      "--->> cal O and jac  0.0397489070892334\n",
      "compute_update  0.04294109344482422\n",
      "(0.036788456401784186+0j)\n",
      "n_discard =  144\n",
      "discard samples 1.6764271259307861\n",
      "n_samples_node =  1000\n",
      "generate_samples :  11.468842029571533\n",
      "     prepare getting local values 0.002421140670776367\n",
      "     obtained local values 0.008204936981201172\n",
      "get_mc_stats 0.012424230575561523\n"
     ]
    },
    {
     "name": "stderr",
     "output_type": "stream",
     "text": [
      " 87%|████████▋ | 872/1000 [3:13:15<28:13, 13.23s/it, Energy=-2.1058093+0.0000000j ± 0.0000051 [σ²=0.0000000]]"
     ]
    },
    {
     "name": "stdout",
     "output_type": "stream",
     "text": [
      "--->> cal O and jac  0.03702497482299805\n",
      "compute_update  0.040354013442993164\n",
      "(0.036785142888982866+0j)\n",
      "n_discard =  144\n",
      "discard samples 1.7150940895080566\n",
      "n_samples_node =  1000\n",
      "generate_samples :  11.33873200416565\n",
      "     prepare getting local values 0.002398967742919922\n",
      "     obtained local values 0.007987737655639648\n",
      "get_mc_stats 0.0123291015625\n"
     ]
    },
    {
     "name": "stderr",
     "output_type": "stream",
     "text": [
      " 87%|████████▋ | 873/1000 [3:13:28<27:55, 13.19s/it, Energy=-2.1058223+0.0000000j ± 0.0000064 [σ²=0.0000000]]"
     ]
    },
    {
     "name": "stdout",
     "output_type": "stream",
     "text": [
      "--->> cal O and jac  0.03792095184326172\n",
      "compute_update  0.04148101806640625\n",
      "(0.03678213892894802+0j)\n",
      "n_discard =  144\n",
      "discard samples 1.6500270366668701\n",
      "n_samples_node =  1000\n",
      "generate_samples :  11.365910053253174\n",
      "     prepare getting local values 0.002106904983520508\n",
      "     obtained local values 0.007869958877563477\n",
      "get_mc_stats 0.01208186149597168\n"
     ]
    },
    {
     "name": "stderr",
     "output_type": "stream",
     "text": [
      " 87%|████████▋ | 874/1000 [3:13:41<27:37, 13.16s/it, Energy=-2.1058107+0.0000000j ± 0.0000048 [σ²=0.0000000]]"
     ]
    },
    {
     "name": "stdout",
     "output_type": "stream",
     "text": [
      "--->> cal O and jac  0.03754305839538574\n",
      "compute_update  0.041242122650146484\n",
      "(0.03677890379667956+0j)\n",
      "n_discard =  144\n",
      "discard samples 1.6473000049591064\n",
      "n_samples_node =  1000\n",
      "generate_samples :  11.386364221572876\n",
      "     prepare getting local values 0.0026900768280029297\n",
      "     obtained local values 0.008411884307861328\n",
      "get_mc_stats 0.012346267700195312\n"
     ]
    },
    {
     "name": "stderr",
     "output_type": "stream",
     "text": [
      " 88%|████████▊ | 875/1000 [3:13:54<27:22, 13.14s/it, Energy=-2.1058218+0.0000000j ± 0.0000050 [σ²=0.0000000]]"
     ]
    },
    {
     "name": "stdout",
     "output_type": "stream",
     "text": [
      "--->> cal O and jac  0.036850929260253906\n",
      "compute_update  0.039999961853027344\n",
      "(0.03677610978263433+0j)\n",
      "n_discard =  144\n",
      "discard samples 1.6515679359436035\n",
      "n_samples_node =  1000\n",
      "generate_samples :  11.384357213973999\n",
      "     prepare getting local values 0.002189159393310547\n",
      "     obtained local values 0.00790095329284668\n",
      "get_mc_stats 0.012229681015014648\n"
     ]
    },
    {
     "name": "stderr",
     "output_type": "stream",
     "text": [
      " 88%|████████▊ | 876/1000 [3:14:07<27:07, 13.12s/it, Energy=-2.1058200+0.0000000j ± 0.0000047 [σ²=0.0000000]]"
     ]
    },
    {
     "name": "stdout",
     "output_type": "stream",
     "text": [
      "--->> cal O and jac  0.039311885833740234\n",
      "compute_update  0.04294109344482422\n",
      "(0.03677361787182396+0j)\n",
      "n_discard =  144\n",
      "discard samples 1.6473827362060547\n",
      "n_samples_node =  1000\n",
      "generate_samples :  11.34951400756836\n",
      "     prepare getting local values 0.0019588470458984375\n",
      "     obtained local values 0.007831096649169922\n",
      "get_mc_stats 0.012012720108032227\n"
     ]
    },
    {
     "name": "stderr",
     "output_type": "stream",
     "text": [
      " 88%|████████▊ | 877/1000 [3:14:20<26:51, 13.10s/it, Energy=-2.1058206+0.0000000j ± 0.0000062 [σ²=0.0000000]]"
     ]
    },
    {
     "name": "stdout",
     "output_type": "stream",
     "text": [
      "--->> cal O and jac  0.036199092864990234\n",
      "compute_update  0.03958010673522949\n",
      "(0.036771212908656065+0j)\n",
      "n_discard =  144\n",
      "discard samples 1.64670991897583\n",
      "n_samples_node =  1000\n",
      "generate_samples :  11.348349809646606\n",
      "     prepare getting local values 0.002192974090576172\n",
      "     obtained local values 0.008090019226074219\n",
      "get_mc_stats 0.012424945831298828\n"
     ]
    },
    {
     "name": "stderr",
     "output_type": "stream",
     "text": [
      " 88%|████████▊ | 878/1000 [3:14:33<26:36, 13.09s/it, Energy=-2.1058248+0.0000000j ± 0.0000065 [σ²=0.0000000]]"
     ]
    },
    {
     "name": "stdout",
     "output_type": "stream",
     "text": [
      "--->> cal O and jac  0.03711581230163574\n",
      "compute_update  0.04012298583984375\n",
      "(0.03676881935398034+0j)\n",
      "n_discard =  144\n",
      "discard samples 1.6499748229980469\n",
      "n_samples_node =  1000\n",
      "generate_samples :  11.370100975036621\n",
      "     prepare getting local values 0.0023331642150878906\n",
      "     obtained local values 0.008186101913452148\n",
      "get_mc_stats 0.01243901252746582\n"
     ]
    },
    {
     "name": "stderr",
     "output_type": "stream",
     "text": [
      " 88%|████████▊ | 879/1000 [3:14:46<26:23, 13.08s/it, Energy=-2.1058237+0.0000000j ± 0.0000041 [σ²=0.0000000]]"
     ]
    },
    {
     "name": "stdout",
     "output_type": "stream",
     "text": [
      "--->> cal O and jac  0.043179988861083984\n",
      "compute_update  0.04686093330383301\n",
      "(0.03676647578515221+0j)\n",
      "n_discard =  144\n",
      "discard samples 1.8233227729797363\n",
      "n_samples_node =  1000\n",
      "generate_samples :  11.597105741500854\n",
      "     prepare getting local values 0.002216815948486328\n",
      "     obtained local values 0.008021831512451172\n",
      "get_mc_stats 0.012185811996459961\n"
     ]
    },
    {
     "name": "stderr",
     "output_type": "stream",
     "text": [
      " 88%|████████▊ | 880/1000 [3:15:00<26:24, 13.20s/it, Energy=-2.1058210+0.0000000j ± 0.0000058 [σ²=0.0000000]]"
     ]
    },
    {
     "name": "stdout",
     "output_type": "stream",
     "text": [
      "--->> cal O and jac  0.036520957946777344\n",
      "compute_update  0.040067195892333984\n",
      "(0.03676398465259693+0j)\n",
      "n_discard =  144\n",
      "discard samples 1.7582321166992188\n",
      "n_samples_node =  1000\n",
      "generate_samples :  11.426507949829102\n",
      "     prepare getting local values 0.001974821090698242\n",
      "     obtained local values 0.007669687271118164\n",
      "get_mc_stats 0.011879205703735352\n"
     ]
    },
    {
     "name": "stderr",
     "output_type": "stream",
     "text": [
      " 88%|████████▊ | 881/1000 [3:15:13<26:12, 13.21s/it, Energy=-2.1058245+0.0000000j ± 0.0000053 [σ²=0.0000000]]"
     ]
    },
    {
     "name": "stdout",
     "output_type": "stream",
     "text": [
      "--->> cal O and jac  0.035211801528930664\n",
      "compute_update  0.03832578659057617\n",
      "(0.03676166395175995+0j)\n",
      "n_discard =  144\n",
      "discard samples 1.6467978954315186\n",
      "n_samples_node =  1000\n",
      "generate_samples :  11.345226049423218\n",
      "     prepare getting local values 0.002176046371459961\n",
      "     obtained local values 0.007951974868774414\n",
      "get_mc_stats 0.012136220932006836\n"
     ]
    },
    {
     "name": "stderr",
     "output_type": "stream",
     "text": [
      " 88%|████████▊ | 882/1000 [3:15:26<25:53, 13.16s/it, Energy=-2.1058161+0.0000000j ± 0.0000053 [σ²=0.0000000]]"
     ]
    },
    {
     "name": "stdout",
     "output_type": "stream",
     "text": [
      "--->> cal O and jac  0.03547215461730957\n",
      "compute_update  0.03927493095397949\n",
      "(0.03675965994678028+0j)\n",
      "n_discard =  144\n",
      "discard samples 1.6480112075805664\n",
      "n_samples_node =  1000\n",
      "generate_samples :  11.454866886138916\n",
      "     prepare getting local values 0.0021882057189941406\n",
      "     obtained local values 0.00798797607421875\n",
      "get_mc_stats 0.012310028076171875\n"
     ]
    },
    {
     "name": "stderr",
     "output_type": "stream",
     "text": [
      " 88%|████████▊ | 883/1000 [3:15:39<25:39, 13.16s/it, Energy=-2.1058125+0.0000000j ± 0.0000066 [σ²=0.0000000]]"
     ]
    },
    {
     "name": "stdout",
     "output_type": "stream",
     "text": [
      "--->> cal O and jac  0.03567004203796387\n",
      "compute_update  0.03903913497924805\n",
      "(0.03675712732151975+0j)\n",
      "n_discard =  144\n",
      "discard samples 1.665410041809082\n",
      "n_samples_node =  1000\n",
      "generate_samples :  11.512855052947998\n",
      "     prepare getting local values 0.002228975296020508\n",
      "     obtained local values 0.007985830307006836\n",
      "get_mc_stats 0.012219905853271484\n"
     ]
    },
    {
     "name": "stderr",
     "output_type": "stream",
     "text": [
      " 88%|████████▊ | 884/1000 [3:15:52<25:29, 13.18s/it, Energy=-2.1058151+0.0000000j ± 0.0000052 [σ²=0.0000000]]"
     ]
    },
    {
     "name": "stdout",
     "output_type": "stream",
     "text": [
      "--->> cal O and jac  0.03796982765197754\n",
      "compute_update  0.041188716888427734\n",
      "(0.03675447322096475+0j)\n",
      "n_discard =  144\n",
      "discard samples 1.6829712390899658\n",
      "n_samples_node =  1000\n",
      "generate_samples :  11.469437837600708\n",
      "     prepare getting local values 0.0023970603942871094\n",
      "     obtained local values 0.008261919021606445\n",
      "get_mc_stats 0.012421846389770508\n"
     ]
    },
    {
     "name": "stderr",
     "output_type": "stream",
     "text": [
      " 88%|████████▊ | 885/1000 [3:16:06<25:17, 13.19s/it, Energy=-2.1058157+0.0000000j ± 0.0000053 [σ²=0.0000000]]"
     ]
    },
    {
     "name": "stdout",
     "output_type": "stream",
     "text": [
      "--->> cal O and jac  0.04099774360656738\n",
      "compute_update  0.04500699043273926\n",
      "(0.03675204224756104+0j)\n",
      "n_discard =  144\n",
      "discard samples 1.6734471321105957\n",
      "n_samples_node =  1000\n",
      "generate_samples :  11.50503420829773\n",
      "     prepare getting local values 0.0021560192108154297\n",
      "     obtained local values 0.008150100708007812\n",
      "get_mc_stats 0.012283086776733398\n"
     ]
    },
    {
     "name": "stderr",
     "output_type": "stream",
     "text": [
      " 89%|████████▊ | 886/1000 [3:16:19<25:05, 13.20s/it, Energy=-2.1058200+0.0000000j ± 0.0000054 [σ²=0.0000000]]"
     ]
    },
    {
     "name": "stdout",
     "output_type": "stream",
     "text": [
      "--->> cal O and jac  0.036875009536743164\n",
      "compute_update  0.040248870849609375\n",
      "(0.03674966460574926+0j)\n",
      "n_discard =  144\n",
      "discard samples 1.6936414241790771\n",
      "n_samples_node =  1000\n",
      "generate_samples :  11.422123193740845\n",
      "     prepare getting local values 0.0022420883178710938\n",
      "     obtained local values 0.008646011352539062\n",
      "get_mc_stats 0.012835979461669922\n"
     ]
    },
    {
     "name": "stderr",
     "output_type": "stream",
     "text": [
      " 89%|████████▊ | 887/1000 [3:16:32<24:51, 13.20s/it, Energy=-2.1058130+0.0000000j ± 0.0000059 [σ²=0.0000000]]"
     ]
    },
    {
     "name": "stdout",
     "output_type": "stream",
     "text": [
      "--->> cal O and jac  0.04005002975463867\n",
      "compute_update  0.04400014877319336\n",
      "(0.036747043722583174+0j)\n",
      "n_discard =  144\n",
      "discard samples 1.6619279384613037\n",
      "n_samples_node =  1000\n",
      "generate_samples :  11.40961480140686\n",
      "     prepare getting local values 0.002207040786743164\n",
      "     obtained local values 0.008591890335083008\n",
      "get_mc_stats 0.013197183609008789\n"
     ]
    },
    {
     "name": "stderr",
     "output_type": "stream",
     "text": [
      " 89%|████████▉ | 888/1000 [3:16:45<24:35, 13.18s/it, Energy=-2.1058121+0.0000000j ± 0.0000039 [σ²=0.0000000]]"
     ]
    },
    {
     "name": "stdout",
     "output_type": "stream",
     "text": [
      "--->> cal O and jac  0.03944897651672363\n",
      "compute_update  0.043463945388793945\n",
      "(0.03674455270963055+0j)\n",
      "n_discard =  144\n",
      "discard samples 1.794037103652954\n",
      "n_samples_node =  1000\n",
      "generate_samples :  11.742795944213867\n",
      "     prepare getting local values 0.0023818016052246094\n",
      "     obtained local values 0.008063077926635742\n",
      "get_mc_stats 0.012521982192993164\n"
     ]
    },
    {
     "name": "stderr",
     "output_type": "stream",
     "text": [
      " 89%|████████▉ | 889/1000 [3:16:59<24:36, 13.30s/it, Energy=-2.1058193+0.0000000j ± 0.0000048 [σ²=0.0000000]]"
     ]
    },
    {
     "name": "stdout",
     "output_type": "stream",
     "text": [
      "--->> cal O and jac  0.0354161262512207\n",
      "compute_update  0.03883099555969238\n",
      "(0.036741991991189306+0j)\n",
      "n_discard =  144\n",
      "discard samples 1.6655268669128418\n",
      "n_samples_node =  1000\n",
      "generate_samples :  11.576754808425903\n",
      "     prepare getting local values 0.0023038387298583984\n",
      "     obtained local values 0.008164644241333008\n",
      "get_mc_stats 0.012164115905761719\n"
     ]
    },
    {
     "name": "stderr",
     "output_type": "stream",
     "text": [
      " 89%|████████▉ | 890/1000 [3:17:12<24:22, 13.30s/it, Energy=-2.1058149+0.0000000j ± 0.0000056 [σ²=0.0000000]]"
     ]
    },
    {
     "name": "stdout",
     "output_type": "stream",
     "text": [
      "--->> cal O and jac  0.03714609146118164\n",
      "compute_update  0.040442705154418945\n",
      "(0.036739372817797544+0j)\n",
      "n_discard =  144\n",
      "discard samples 1.690004825592041\n",
      "n_samples_node =  1000\n",
      "generate_samples :  11.498862266540527\n",
      "     prepare getting local values 0.0022041797637939453\n",
      "     obtained local values 0.007933855056762695\n",
      "get_mc_stats 0.012099742889404297\n"
     ]
    },
    {
     "name": "stderr",
     "output_type": "stream",
     "text": [
      " 89%|████████▉ | 891/1000 [3:17:25<24:07, 13.28s/it, Energy=-2.1058313+0.0000000j ± 0.0000049 [σ²=0.0000000]]"
     ]
    },
    {
     "name": "stdout",
     "output_type": "stream",
     "text": [
      "--->> cal O and jac  0.038207054138183594\n",
      "compute_update  0.041465044021606445\n",
      "(0.036736681445141264+0j)\n",
      "n_discard =  144\n",
      "discard samples 1.646838665008545\n",
      "n_samples_node =  1000\n",
      "generate_samples :  11.38160514831543\n",
      "     prepare getting local values 0.002396106719970703\n",
      "     obtained local values 0.008020877838134766\n",
      "get_mc_stats 0.012143135070800781\n"
     ]
    },
    {
     "name": "stderr",
     "output_type": "stream",
     "text": [
      " 89%|████████▉ | 892/1000 [3:17:38<23:48, 13.22s/it, Energy=-2.1058231+0.0000000j ± 0.0000066 [σ²=0.0000000]]"
     ]
    },
    {
     "name": "stdout",
     "output_type": "stream",
     "text": [
      "--->> cal O and jac  0.036331892013549805\n",
      "compute_update  0.039843082427978516\n",
      "(0.03673382055710119+0j)\n",
      "n_discard =  144\n",
      "discard samples 1.6472980976104736\n",
      "n_samples_node =  1000\n",
      "generate_samples :  11.41864013671875\n",
      "     prepare getting local values 0.002229928970336914\n",
      "     obtained local values 0.00787496566772461\n",
      "get_mc_stats 0.012274980545043945\n"
     ]
    },
    {
     "name": "stderr",
     "output_type": "stream",
     "text": [
      " 89%|████████▉ | 893/1000 [3:17:52<23:31, 13.19s/it, Energy=-2.1058122+0.0000000j ± 0.0000054 [σ²=0.0000000]]"
     ]
    },
    {
     "name": "stdout",
     "output_type": "stream",
     "text": [
      "--->> cal O and jac  0.035798072814941406\n",
      "compute_update  0.03901529312133789\n",
      "(0.03673073353854813+0j)\n",
      "n_discard =  144\n",
      "discard samples 1.6469531059265137\n",
      "n_samples_node =  1000\n",
      "generate_samples :  11.483036041259766\n",
      "     prepare getting local values 0.002331972122192383\n",
      "     obtained local values 0.008255958557128906\n",
      "get_mc_stats 0.012949943542480469\n"
     ]
    },
    {
     "name": "stderr",
     "output_type": "stream",
     "text": [
      " 89%|████████▉ | 894/1000 [3:18:05<23:18, 13.19s/it, Energy=-2.1058144+0.0000000j ± 0.0000056 [σ²=0.0000000]]"
     ]
    },
    {
     "name": "stdout",
     "output_type": "stream",
     "text": [
      "--->> cal O and jac  0.0391848087310791\n",
      "compute_update  0.04279184341430664\n",
      "(0.03672783278303044+0j)\n",
      "n_discard =  144\n",
      "discard samples 1.653191089630127\n",
      "n_samples_node =  1000\n",
      "generate_samples :  11.340430736541748\n",
      "     prepare getting local values 0.0022857189178466797\n",
      "     obtained local values 0.008009910583496094\n",
      "get_mc_stats 0.012068748474121094\n"
     ]
    },
    {
     "name": "stderr",
     "output_type": "stream",
     "text": [
      " 90%|████████▉ | 895/1000 [3:18:18<23:00, 13.15s/it, Energy=-2.1058171+0.0000000j ± 0.0000065 [σ²=0.0000000]]"
     ]
    },
    {
     "name": "stdout",
     "output_type": "stream",
     "text": [
      "--->> cal O and jac  0.03652215003967285\n",
      "compute_update  0.03982114791870117\n",
      "(0.03672479265336789+0j)\n",
      "n_discard =  144\n",
      "discard samples 1.6747090816497803\n",
      "n_samples_node =  1000\n",
      "generate_samples :  11.436115980148315\n",
      "     prepare getting local values 0.00240325927734375\n",
      "     obtained local values 0.007981061935424805\n",
      "get_mc_stats 0.011942863464355469\n"
     ]
    },
    {
     "name": "stderr",
     "output_type": "stream",
     "text": [
      " 90%|████████▉ | 896/1000 [3:18:31<22:47, 13.15s/it, Energy=-2.1058161+0.0000000j ± 0.0000052 [σ²=0.0000000]]"
     ]
    },
    {
     "name": "stdout",
     "output_type": "stream",
     "text": [
      "--->> cal O and jac  0.03755807876586914\n",
      "compute_update  0.04100394248962402\n",
      "(0.03672223409459684+0j)\n",
      "n_discard =  144\n",
      "discard samples 1.7038578987121582\n",
      "n_samples_node =  1000\n",
      "generate_samples :  11.345403909683228\n",
      "     prepare getting local values 0.002199888229370117\n",
      "     obtained local values 0.008075952529907227\n",
      "get_mc_stats 0.012025117874145508\n"
     ]
    },
    {
     "name": "stderr",
     "output_type": "stream",
     "text": [
      " 90%|████████▉ | 897/1000 [3:18:44<22:33, 13.14s/it, Energy=-2.1058151+0.0000000j ± 0.0000058 [σ²=0.0000000]]"
     ]
    },
    {
     "name": "stdout",
     "output_type": "stream",
     "text": [
      "--->> cal O and jac  0.03591012954711914\n",
      "compute_update  0.03943920135498047\n",
      "(0.03671949603049859+0j)\n",
      "n_discard =  144\n",
      "discard samples 1.6538259983062744\n",
      "n_samples_node =  1000\n",
      "generate_samples :  11.762119770050049\n",
      "     prepare getting local values 0.0028617382049560547\n",
      "     obtained local values 0.008766889572143555\n",
      "get_mc_stats 0.01399993896484375\n"
     ]
    },
    {
     "name": "stderr",
     "output_type": "stream",
     "text": [
      " 90%|████████▉ | 898/1000 [3:18:58<22:30, 13.24s/it, Energy=-2.1058146+0.0000000j ± 0.0000066 [σ²=0.0000000]]"
     ]
    },
    {
     "name": "stdout",
     "output_type": "stream",
     "text": [
      "--->> cal O and jac  0.03757071495056152\n",
      "compute_update  0.0404818058013916\n",
      "(0.03671682291456188+0j)\n",
      "n_discard =  144\n",
      "discard samples 1.6588590145111084\n",
      "n_samples_node =  1000\n",
      "generate_samples :  11.385584115982056\n",
      "     prepare getting local values 0.0020568370819091797\n",
      "     obtained local values 0.00780487060546875\n",
      "get_mc_stats 0.011678218841552734\n"
     ]
    },
    {
     "name": "stderr",
     "output_type": "stream",
     "text": [
      " 90%|████████▉ | 899/1000 [3:19:11<22:12, 13.20s/it, Energy=-2.1058208+0.0000000j ± 0.0000055 [σ²=0.0000000]]"
     ]
    },
    {
     "name": "stdout",
     "output_type": "stream",
     "text": [
      "--->> cal O and jac  0.03723406791687012\n",
      "compute_update  0.0402529239654541\n",
      "(0.03671413903983723+0j)\n",
      "n_discard =  144\n",
      "discard samples 1.6467969417572021\n",
      "n_samples_node =  1000\n",
      "generate_samples :  11.398362159729004\n",
      "     prepare getting local values 0.0020971298217773438\n",
      "     obtained local values 0.007905960083007812\n",
      "get_mc_stats 0.012115955352783203\n"
     ]
    },
    {
     "name": "stderr",
     "output_type": "stream",
     "text": [
      " 90%|█████████ | 900/1000 [3:19:24<21:56, 13.17s/it, Energy=-2.1058114+0.0000000j ± 0.0000057 [σ²=0.0000000]]"
     ]
    },
    {
     "name": "stdout",
     "output_type": "stream",
     "text": [
      "--->> cal O and jac  0.03611898422241211\n",
      "compute_update  0.039723873138427734\n",
      "(0.036711342467683414+0j)\n",
      "n_discard =  144\n",
      "discard samples 1.6457390785217285\n",
      "n_samples_node =  1000\n",
      "generate_samples :  11.578450202941895\n",
      "     prepare getting local values 0.002189159393310547\n",
      "     obtained local values 0.008042097091674805\n",
      "get_mc_stats 0.013714075088500977\n"
     ]
    },
    {
     "name": "stderr",
     "output_type": "stream",
     "text": [
      " 90%|█████████ | 901/1000 [3:19:37<21:46, 13.20s/it, Energy=-2.1058128+0.0000000j ± 0.0000040 [σ²=0.0000000]]"
     ]
    },
    {
     "name": "stdout",
     "output_type": "stream",
     "text": [
      "--->> cal O and jac  0.036653995513916016\n",
      "compute_update  0.03979992866516113\n",
      "(0.03670878669845765+0j)\n",
      "n_discard =  144\n",
      "discard samples 1.6515929698944092\n",
      "n_samples_node =  1000\n",
      "generate_samples :  11.567615032196045\n",
      "     prepare getting local values 0.0021820068359375\n",
      "     obtained local values 0.007856130599975586\n",
      "get_mc_stats 0.011902809143066406\n"
     ]
    },
    {
     "name": "stderr",
     "output_type": "stream",
     "text": [
      " 90%|█████████ | 902/1000 [3:19:50<21:36, 13.22s/it, Energy=-2.1058188+0.0000000j ± 0.0000048 [σ²=0.0000000]]"
     ]
    },
    {
     "name": "stdout",
     "output_type": "stream",
     "text": [
      "--->> cal O and jac  0.03935694694519043\n",
      "compute_update  0.04482388496398926\n",
      "(0.03670638767152141+0j)\n",
      "n_discard =  144\n",
      "discard samples 1.6463370323181152\n",
      "n_samples_node =  1000\n",
      "generate_samples :  11.44147276878357\n",
      "     prepare getting local values 0.002531766891479492\n",
      "     obtained local values 0.008224964141845703\n",
      "get_mc_stats 0.01222991943359375\n"
     ]
    },
    {
     "name": "stderr",
     "output_type": "stream",
     "text": [
      " 90%|█████████ | 903/1000 [3:20:03<21:20, 13.20s/it, Energy=-2.1058147+0.0000000j ± 0.0000048 [σ²=0.0000000]]"
     ]
    },
    {
     "name": "stdout",
     "output_type": "stream",
     "text": [
      "--->> cal O and jac  0.03525400161743164\n",
      "compute_update  0.03841519355773926\n",
      "(0.03670398152490056+0j)\n",
      "n_discard =  144\n",
      "discard samples 1.649101972579956\n",
      "n_samples_node =  1000\n",
      "generate_samples :  11.39784288406372\n",
      "     prepare getting local values 0.002267122268676758\n",
      "     obtained local values 0.008044958114624023\n",
      "get_mc_stats 0.0121002197265625\n"
     ]
    },
    {
     "name": "stderr",
     "output_type": "stream",
     "text": [
      " 90%|█████████ | 904/1000 [3:20:17<21:04, 13.17s/it, Energy=-2.1058192+0.0000000j ± 0.0000056 [σ²=0.0000000]]"
     ]
    },
    {
     "name": "stdout",
     "output_type": "stream",
     "text": [
      "--->> cal O and jac  0.036340951919555664\n",
      "compute_update  0.03998684883117676\n",
      "(0.036701724828025716+0j)\n",
      "n_discard =  144\n",
      "discard samples 1.6486008167266846\n",
      "n_samples_node =  1000\n",
      "generate_samples :  11.326344966888428\n",
      "     prepare getting local values 0.0022001266479492188\n",
      "     obtained local values 0.007952213287353516\n",
      "get_mc_stats 0.012230873107910156\n"
     ]
    },
    {
     "name": "stderr",
     "output_type": "stream",
     "text": [
      " 90%|█████████ | 905/1000 [3:20:30<20:47, 13.13s/it, Energy=-2.1058112+0.0000000j ± 0.0000047 [σ²=0.0000000]]"
     ]
    },
    {
     "name": "stdout",
     "output_type": "stream",
     "text": [
      "--->> cal O and jac  0.035729169845581055\n",
      "compute_update  0.03908109664916992\n",
      "(0.036699430268662694+0j)\n",
      "n_discard =  144\n",
      "discard samples 1.6478559970855713\n",
      "n_samples_node =  1000\n",
      "generate_samples :  11.406078815460205\n",
      "     prepare getting local values 0.0025141239166259766\n",
      "     obtained local values 0.008267879486083984\n",
      "get_mc_stats 0.012159109115600586\n"
     ]
    },
    {
     "name": "stderr",
     "output_type": "stream",
     "text": [
      " 91%|█████████ | 906/1000 [3:20:43<20:33, 13.12s/it, Energy=-2.1058135+0.0000000j ± 0.0000039 [σ²=0.0000000]]"
     ]
    },
    {
     "name": "stdout",
     "output_type": "stream",
     "text": [
      "--->> cal O and jac  0.03631114959716797\n",
      "compute_update  0.039611101150512695\n",
      "(0.03669702440508114+0j)\n",
      "n_discard =  144\n",
      "discard samples 1.6466810703277588\n",
      "n_samples_node =  1000\n",
      "generate_samples :  12.090435028076172\n",
      "     prepare getting local values 0.0020787715911865234\n",
      "     obtained local values 0.007956981658935547\n",
      "get_mc_stats 0.013487100601196289\n"
     ]
    },
    {
     "name": "stderr",
     "output_type": "stream",
     "text": [
      " 91%|█████████ | 907/1000 [3:20:56<20:39, 13.32s/it, Energy=-2.1058168+0.0000000j ± 0.0000050 [σ²=0.0000000]]"
     ]
    },
    {
     "name": "stdout",
     "output_type": "stream",
     "text": [
      "--->> cal O and jac  0.04082894325256348\n",
      "compute_update  0.044029951095581055\n",
      "(0.036694854013853376+0j)\n",
      "n_discard =  144\n",
      "discard samples 1.6718201637268066\n",
      "n_samples_node =  1000\n",
      "generate_samples :  11.45364785194397\n",
      "     prepare getting local values 0.002357006072998047\n",
      "     obtained local values 0.007879018783569336\n",
      "get_mc_stats 0.01217794418334961\n"
     ]
    },
    {
     "name": "stderr",
     "output_type": "stream",
     "text": [
      " 91%|█████████ | 908/1000 [3:21:10<20:21, 13.28s/it, Energy=-2.1058157+0.0000000j ± 0.0000045 [σ²=0.0000000]]"
     ]
    },
    {
     "name": "stdout",
     "output_type": "stream",
     "text": [
      "--->> cal O and jac  0.036145925521850586\n",
      "compute_update  0.039662837982177734\n",
      "(0.03669234383559392+0j)\n",
      "n_discard =  144\n",
      "discard samples 1.6681511402130127\n",
      "n_samples_node =  1000\n",
      "generate_samples :  11.517981052398682\n",
      "     prepare getting local values 0.002663850784301758\n",
      "     obtained local values 0.008626937866210938\n",
      "get_mc_stats 0.012829065322875977\n"
     ]
    },
    {
     "name": "stderr",
     "output_type": "stream",
     "text": [
      " 91%|█████████ | 909/1000 [3:21:23<20:07, 13.27s/it, Energy=-2.1058266+0.0000000j ± 0.0000063 [σ²=0.0000000]]"
     ]
    },
    {
     "name": "stdout",
     "output_type": "stream",
     "text": [
      "--->> cal O and jac  0.04049205780029297\n",
      "compute_update  0.04405713081359863\n",
      "(0.03669010924643858+0j)\n",
      "n_discard =  144\n",
      "discard samples 1.6509220600128174\n",
      "n_samples_node =  1000\n",
      "generate_samples :  11.462669134140015\n",
      "     prepare getting local values 0.0019469261169433594\n",
      "     obtained local values 0.007834911346435547\n",
      "get_mc_stats 0.011956930160522461\n"
     ]
    },
    {
     "name": "stderr",
     "output_type": "stream",
     "text": [
      " 91%|█████████ | 910/1000 [3:21:36<19:51, 13.24s/it, Energy=-2.1058152+0.0000000j ± 0.0000044 [σ²=0.0000000]]"
     ]
    },
    {
     "name": "stdout",
     "output_type": "stream",
     "text": [
      "--->> cal O and jac  0.03864789009094238\n",
      "compute_update  0.042266845703125\n",
      "(0.036687615760917024+0j)\n",
      "n_discard =  144\n",
      "discard samples 1.6651768684387207\n",
      "n_samples_node =  1000\n",
      "generate_samples :  11.459591150283813\n",
      "     prepare getting local values 0.0022330284118652344\n",
      "     obtained local values 0.008018255233764648\n",
      "get_mc_stats 0.013322591781616211\n"
     ]
    },
    {
     "name": "stderr",
     "output_type": "stream",
     "text": [
      " 91%|█████████ | 911/1000 [3:21:49<19:36, 13.22s/it, Energy=-2.1058282+0.0000000j ± 0.0000047 [σ²=0.0000000]]"
     ]
    },
    {
     "name": "stdout",
     "output_type": "stream",
     "text": [
      "--->> cal O and jac  0.03553318977355957\n",
      "compute_update  0.03925514221191406\n",
      "(0.03668561827243374+0j)\n",
      "n_discard =  144\n",
      "discard samples 1.65360689163208\n",
      "n_samples_node =  1000\n",
      "generate_samples :  12.113369226455688\n",
      "     prepare getting local values 0.002245187759399414\n",
      "     obtained local values 0.008109092712402344\n",
      "get_mc_stats 0.014014959335327148\n"
     ]
    },
    {
     "name": "stderr",
     "output_type": "stream",
     "text": [
      " 91%|█████████ | 912/1000 [3:22:03<19:39, 13.40s/it, Energy=-2.1058171+0.0000000j ± 0.0000043 [σ²=0.0000000]]"
     ]
    },
    {
     "name": "stdout",
     "output_type": "stream",
     "text": [
      "--->> cal O and jac  0.04423236846923828\n",
      "compute_update  0.04758715629577637\n",
      "(0.03668327771444695+0j)\n",
      "n_discard =  144\n",
      "discard samples 1.6938328742980957\n",
      "n_samples_node =  1000\n",
      "generate_samples :  11.560835123062134\n",
      "     prepare getting local values 0.0020728111267089844\n",
      "     obtained local values 0.007776021957397461\n",
      "get_mc_stats 0.01170802116394043\n"
     ]
    },
    {
     "name": "stderr",
     "output_type": "stream",
     "text": [
      " 91%|█████████▏| 913/1000 [3:22:16<19:23, 13.38s/it, Energy=-2.1058118+0.0000000j ± 0.0000051 [σ²=0.0000000]]"
     ]
    },
    {
     "name": "stdout",
     "output_type": "stream",
     "text": [
      "--->> cal O and jac  0.03769803047180176\n",
      "compute_update  0.0410161018371582\n",
      "(0.03668068792535699+0j)\n",
      "n_discard =  144\n",
      "discard samples 1.6467361450195312\n",
      "n_samples_node =  1000\n",
      "generate_samples :  11.403593063354492\n",
      "     prepare getting local values 0.0022699832916259766\n",
      "     obtained local values 0.008193254470825195\n",
      "get_mc_stats 0.012219905853271484\n"
     ]
    },
    {
     "name": "stderr",
     "output_type": "stream",
     "text": [
      " 91%|█████████▏| 914/1000 [3:22:29<19:03, 13.29s/it, Energy=-2.1058254+0.0000000j ± 0.0000048 [σ²=0.0000000]]"
     ]
    },
    {
     "name": "stdout",
     "output_type": "stream",
     "text": [
      "--->> cal O and jac  0.03624916076660156\n",
      "compute_update  0.039675235748291016\n",
      "(0.03667839048567735+0j)\n",
      "n_discard =  144\n",
      "discard samples 1.6473181247711182\n",
      "n_samples_node =  1000\n",
      "generate_samples :  11.33956789970398\n",
      "     prepare getting local values 0.0023598670959472656\n",
      "     obtained local values 0.008085966110229492\n",
      "get_mc_stats 0.012199878692626953\n"
     ]
    },
    {
     "name": "stderr",
     "output_type": "stream",
     "text": [
      " 92%|█████████▏| 915/1000 [3:22:43<18:43, 13.22s/it, Energy=-2.1058223+0.0000000j ± 0.0000045 [σ²=0.0000000]]"
     ]
    },
    {
     "name": "stdout",
     "output_type": "stream",
     "text": [
      "--->> cal O and jac  0.037198781967163086\n",
      "compute_update  0.04049491882324219\n",
      "(0.03667601353053986+0j)\n",
      "n_discard =  144\n",
      "discard samples 1.6488797664642334\n",
      "n_samples_node =  1000\n",
      "generate_samples :  11.771903038024902\n",
      "     prepare getting local values 0.0022230148315429688\n",
      "     obtained local values 0.007971048355102539\n",
      "get_mc_stats 0.013434886932373047\n"
     ]
    },
    {
     "name": "stderr",
     "output_type": "stream",
     "text": [
      " 92%|█████████▏| 916/1000 [3:22:56<18:36, 13.30s/it, Energy=-2.1058097+0.0000000j ± 0.0000038 [σ²=0.0000000]]"
     ]
    },
    {
     "name": "stdout",
     "output_type": "stream",
     "text": [
      "--->> cal O and jac  0.03712630271911621\n",
      "compute_update  0.04027915000915527\n",
      "(0.036673510963927035+0j)\n",
      "n_discard =  144\n",
      "discard samples 1.6537721157073975\n",
      "n_samples_node =  1000\n",
      "generate_samples :  11.426852703094482\n",
      "     prepare getting local values 0.0019850730895996094\n",
      "     obtained local values 0.007886171340942383\n",
      "get_mc_stats 0.011949777603149414\n"
     ]
    },
    {
     "name": "stderr",
     "output_type": "stream",
     "text": [
      " 92%|█████████▏| 917/1000 [3:23:09<18:19, 13.25s/it, Energy=-2.1058255+0.0000000j ± 0.0000045 [σ²=0.0000000]]"
     ]
    },
    {
     "name": "stdout",
     "output_type": "stream",
     "text": [
      "--->> cal O and jac  0.038555145263671875\n",
      "compute_update  0.041413068771362305\n",
      "(0.036671110350698394+0j)\n",
      "n_discard =  144\n",
      "discard samples 1.6573090553283691\n",
      "n_samples_node =  1000\n",
      "generate_samples :  11.786182165145874\n",
      "     prepare getting local values 0.0029501914978027344\n",
      "     obtained local values 0.008813142776489258\n",
      "get_mc_stats 0.01355600357055664\n"
     ]
    },
    {
     "name": "stderr",
     "output_type": "stream",
     "text": [
      " 92%|█████████▏| 918/1000 [3:23:23<18:12, 13.33s/it, Energy=-2.1058223+0.0000000j ± 0.0000040 [σ²=0.0000000]]"
     ]
    },
    {
     "name": "stdout",
     "output_type": "stream",
     "text": [
      "--->> cal O and jac  0.042085886001586914\n",
      "compute_update  0.04605603218078613\n",
      "(0.03666869942447781+0j)\n",
      "n_discard =  144\n",
      "discard samples 1.6744108200073242\n",
      "n_samples_node =  1000\n",
      "generate_samples :  11.49559998512268\n",
      "     prepare getting local values 0.0020139217376708984\n",
      "     obtained local values 0.007851839065551758\n",
      "get_mc_stats 0.012307167053222656\n"
     ]
    },
    {
     "name": "stderr",
     "output_type": "stream",
     "text": [
      " 92%|█████████▏| 919/1000 [3:23:36<17:56, 13.30s/it, Energy=-2.1058173+0.0000000j ± 0.0000047 [σ²=0.0000000]]"
     ]
    },
    {
     "name": "stdout",
     "output_type": "stream",
     "text": [
      "--->> cal O and jac  0.0384829044342041\n",
      "compute_update  0.042112112045288086\n",
      "(0.036666108370397146+0j)\n",
      "n_discard =  144\n",
      "discard samples 1.6656510829925537\n",
      "n_samples_node =  1000\n",
      "generate_samples :  11.67955470085144\n",
      "     prepare getting local values 0.002530813217163086\n",
      "     obtained local values 0.00830388069152832\n",
      "get_mc_stats 0.013430118560791016\n"
     ]
    },
    {
     "name": "stderr",
     "output_type": "stream",
     "text": [
      " 92%|█████████▏| 920/1000 [3:23:49<17:46, 13.33s/it, Energy=-2.1058118+0.0000000j ± 0.0000046 [σ²=0.0000000]]"
     ]
    },
    {
     "name": "stdout",
     "output_type": "stream",
     "text": [
      "--->> cal O and jac  0.0381319522857666\n",
      "compute_update  0.04121279716491699\n",
      "(0.03666347826742483+0j)\n",
      "n_discard =  144\n",
      "discard samples 1.7963120937347412\n",
      "n_samples_node =  1000\n",
      "generate_samples :  11.65049123764038\n",
      "     prepare getting local values 0.0021669864654541016\n",
      "     obtained local values 0.008939027786254883\n",
      "get_mc_stats 0.013676166534423828\n"
     ]
    },
    {
     "name": "stderr",
     "output_type": "stream",
     "text": [
      " 92%|█████████▏| 921/1000 [3:24:03<17:37, 13.38s/it, Energy=-2.1058180+0.0000000j ± 0.0000040 [σ²=0.0000000]]"
     ]
    },
    {
     "name": "stdout",
     "output_type": "stream",
     "text": [
      "--->> cal O and jac  0.0409395694732666\n",
      "compute_update  0.0445706844329834\n",
      "(0.03666087643311504+0j)\n",
      "n_discard =  144\n",
      "discard samples 1.7847769260406494\n",
      "n_samples_node =  1000\n",
      "generate_samples :  11.673907041549683\n",
      "     prepare getting local values 0.002914905548095703\n",
      "     obtained local values 0.008685827255249023\n",
      "get_mc_stats 0.013684988021850586\n"
     ]
    },
    {
     "name": "stderr",
     "output_type": "stream",
     "text": [
      " 92%|█████████▏| 922/1000 [3:24:16<17:26, 13.42s/it, Energy=-2.1058234+0.0000000j ± 0.0000051 [σ²=0.0000000]]"
     ]
    },
    {
     "name": "stdout",
     "output_type": "stream",
     "text": [
      "--->> cal O and jac  0.03690290451049805\n",
      "compute_update  0.04015994071960449\n",
      "(0.03665869707861252+0j)\n",
      "n_discard =  144\n",
      "discard samples 1.6504690647125244\n",
      "n_samples_node =  1000\n",
      "generate_samples :  11.486309289932251\n",
      "     prepare getting local values 0.002160787582397461\n",
      "     obtained local values 0.008004903793334961\n",
      "get_mc_stats 0.012074947357177734\n"
     ]
    },
    {
     "name": "stderr",
     "output_type": "stream",
     "text": [
      " 92%|█████████▏| 923/1000 [3:24:29<17:08, 13.35s/it, Energy=-2.1058195+0.0000000j ± 0.0000042 [σ²=0.0000000]]"
     ]
    },
    {
     "name": "stdout",
     "output_type": "stream",
     "text": [
      "--->> cal O and jac  0.038231849670410156\n",
      "compute_update  0.041471004486083984\n",
      "(0.03665665667266391+0j)\n",
      "n_discard =  144\n",
      "discard samples 1.6535768508911133\n",
      "n_samples_node =  1000\n",
      "generate_samples :  11.380666017532349\n",
      "     prepare getting local values 0.00209808349609375\n",
      "     obtained local values 0.00771784782409668\n",
      "get_mc_stats 0.011758089065551758\n"
     ]
    },
    {
     "name": "stderr",
     "output_type": "stream",
     "text": [
      " 92%|█████████▏| 924/1000 [3:24:43<16:48, 13.27s/it, Energy=-2.1058159+0.0000000j ± 0.0000047 [σ²=0.0000000]]"
     ]
    },
    {
     "name": "stdout",
     "output_type": "stream",
     "text": [
      "--->> cal O and jac  0.03657722473144531\n",
      "compute_update  0.03976893424987793\n",
      "(0.03665434551253169+0j)\n",
      "n_discard =  144\n",
      "discard samples 1.6478331089019775\n",
      "n_samples_node =  1000\n",
      "generate_samples :  11.887047052383423\n",
      "     prepare getting local values 0.0025250911712646484\n",
      "     obtained local values 0.008166313171386719\n",
      "get_mc_stats 0.014137029647827148\n"
     ]
    },
    {
     "name": "stderr",
     "output_type": "stream",
     "text": [
      " 92%|█████████▎| 925/1000 [3:24:56<16:42, 13.37s/it, Energy=-2.1058162+0.0000000j ± 0.0000044 [σ²=0.0000000]]"
     ]
    },
    {
     "name": "stdout",
     "output_type": "stream",
     "text": [
      "--->> cal O and jac  0.038604021072387695\n",
      "compute_update  0.04224205017089844\n",
      "(0.036652196840924044+0j)\n",
      "n_discard =  144\n",
      "discard samples 1.6691579818725586\n",
      "n_samples_node =  1000\n",
      "generate_samples :  11.382188081741333\n",
      "     prepare getting local values 0.0024611949920654297\n",
      "     obtained local values 0.00842428207397461\n",
      "get_mc_stats 0.012811899185180664\n"
     ]
    },
    {
     "name": "stderr",
     "output_type": "stream",
     "text": [
      " 93%|█████████▎| 926/1000 [3:25:09<16:23, 13.29s/it, Energy=-2.1058155+0.0000000j ± 0.0000047 [σ²=0.0000000]]"
     ]
    },
    {
     "name": "stdout",
     "output_type": "stream",
     "text": [
      "--->> cal O and jac  0.03853797912597656\n",
      "compute_update  0.04159426689147949\n",
      "(0.03664994084642552+0j)\n",
      "n_discard =  144\n",
      "discard samples 1.64581298828125\n",
      "n_samples_node =  1000\n",
      "generate_samples :  11.440680265426636\n",
      "     prepare getting local values 0.0021071434020996094\n",
      "     obtained local values 0.007899284362792969\n",
      "get_mc_stats 0.011675834655761719\n"
     ]
    },
    {
     "name": "stderr",
     "output_type": "stream",
     "text": [
      " 93%|█████████▎| 927/1000 [3:25:22<16:07, 13.25s/it, Energy=-2.1058188+0.0000000j ± 0.0000049 [σ²=0.0000000]]"
     ]
    },
    {
     "name": "stdout",
     "output_type": "stream",
     "text": [
      "--->> cal O and jac  0.03877711296081543\n",
      "compute_update  0.04240679740905762\n",
      "(0.03664779248887098+0j)\n",
      "n_discard =  144\n",
      "discard samples 1.652745008468628\n",
      "n_samples_node =  1000\n",
      "generate_samples :  11.613621950149536\n",
      "     prepare getting local values 0.002298116683959961\n",
      "     obtained local values 0.008148193359375\n",
      "get_mc_stats 0.013047933578491211\n"
     ]
    },
    {
     "name": "stderr",
     "output_type": "stream",
     "text": [
      " 93%|█████████▎| 928/1000 [3:25:36<15:55, 13.27s/it, Energy=-2.1058241+0.0000000j ± 0.0000050 [σ²=0.0000000]]"
     ]
    },
    {
     "name": "stdout",
     "output_type": "stream",
     "text": [
      "--->> cal O and jac  0.036340951919555664\n",
      "compute_update  0.03957200050354004\n",
      "(0.036645760528450415+0j)\n",
      "n_discard =  144\n",
      "discard samples 1.656858205795288\n",
      "n_samples_node =  1000\n",
      "generate_samples :  11.395184993743896\n",
      "     prepare getting local values 0.002652883529663086\n",
      "     obtained local values 0.008477926254272461\n",
      "get_mc_stats 0.012749910354614258\n"
     ]
    },
    {
     "name": "stderr",
     "output_type": "stream",
     "text": [
      " 93%|█████████▎| 929/1000 [3:25:49<15:38, 13.22s/it, Energy=-2.1058122+0.0000000j ± 0.0000038 [σ²=0.0000000]]"
     ]
    },
    {
     "name": "stdout",
     "output_type": "stream",
     "text": [
      "--->> cal O and jac  0.04001617431640625\n",
      "compute_update  0.04344487190246582\n",
      "(0.03664375351910747+0j)\n",
      "n_discard =  144\n",
      "discard samples 1.6893119812011719\n",
      "n_samples_node =  1000\n",
      "generate_samples :  11.458748817443848\n",
      "     prepare getting local values 0.002563953399658203\n",
      "     obtained local values 0.008665084838867188\n",
      "get_mc_stats 0.013097047805786133\n"
     ]
    },
    {
     "name": "stderr",
     "output_type": "stream",
     "text": [
      " 93%|█████████▎| 930/1000 [3:26:02<15:25, 13.22s/it, Energy=-2.1058134+0.0000000j ± 0.0000035 [σ²=0.0000000]]"
     ]
    },
    {
     "name": "stdout",
     "output_type": "stream",
     "text": [
      "--->> cal O and jac  0.044062137603759766\n",
      "compute_update  0.04774904251098633\n",
      "(0.03664171315702462+0j)\n",
      "n_discard =  144\n",
      "discard samples 1.6664650440216064\n",
      "n_samples_node =  1000\n",
      "generate_samples :  11.37972354888916\n",
      "     prepare getting local values 0.0021462440490722656\n",
      "     obtained local values 0.007816076278686523\n",
      "get_mc_stats 0.012068986892700195\n"
     ]
    },
    {
     "name": "stderr",
     "output_type": "stream",
     "text": [
      " 93%|█████████▎| 931/1000 [3:26:15<15:09, 13.18s/it, Energy=-2.1058153+0.0000000j ± 0.0000047 [σ²=0.0000000]]"
     ]
    },
    {
     "name": "stdout",
     "output_type": "stream",
     "text": [
      "--->> cal O and jac  0.036041975021362305\n",
      "compute_update  0.039016008377075195\n",
      "(0.036639496753837084+0j)\n",
      "n_discard =  144\n",
      "discard samples 1.6482648849487305\n",
      "n_samples_node =  1000\n",
      "generate_samples :  11.36611819267273\n",
      "     prepare getting local values 0.002315044403076172\n",
      "     obtained local values 0.00801992416381836\n",
      "get_mc_stats 0.01186990737915039\n"
     ]
    },
    {
     "name": "stderr",
     "output_type": "stream",
     "text": [
      " 93%|█████████▎| 932/1000 [3:26:28<14:54, 13.15s/it, Energy=-2.1058186+0.0000000j ± 0.0000035 [σ²=0.0000000]]"
     ]
    },
    {
     "name": "stdout",
     "output_type": "stream",
     "text": [
      "--->> cal O and jac  0.0371401309967041\n",
      "compute_update  0.04044604301452637\n",
      "(0.036637393038509755+0j)\n",
      "n_discard =  144\n",
      "discard samples 1.6501388549804688\n",
      "n_samples_node =  1000\n",
      "generate_samples :  11.341383218765259\n",
      "     prepare getting local values 0.0023250579833984375\n",
      "     obtained local values 0.008063077926635742\n",
      "get_mc_stats 0.012072086334228516\n"
     ]
    },
    {
     "name": "stderr",
     "output_type": "stream",
     "text": [
      " 93%|█████████▎| 933/1000 [3:26:41<14:38, 13.12s/it, Energy=-2.1058335+0.0000000j ± 0.0000042 [σ²=0.0000000]]"
     ]
    },
    {
     "name": "stdout",
     "output_type": "stream",
     "text": [
      "--->> cal O and jac  0.03636312484741211\n",
      "compute_update  0.0397028923034668\n",
      "(0.036635385745324954+0j)\n",
      "n_discard =  144\n",
      "discard samples 1.6489269733428955\n",
      "n_samples_node =  1000\n",
      "generate_samples :  11.59650707244873\n",
      "     prepare getting local values 0.002263784408569336\n",
      "     obtained local values 0.008038043975830078\n",
      "get_mc_stats 0.012166261672973633\n"
     ]
    },
    {
     "name": "stderr",
     "output_type": "stream",
     "text": [
      " 93%|█████████▎| 934/1000 [3:26:55<14:29, 13.17s/it, Energy=-2.1058194+0.0000000j ± 0.0000033 [σ²=0.0000000]]"
     ]
    },
    {
     "name": "stdout",
     "output_type": "stream",
     "text": [
      "--->> cal O and jac  0.03864598274230957\n",
      "compute_update  0.04217791557312012\n",
      "(0.036633084443068384+0j)\n",
      "n_discard =  144\n",
      "discard samples 1.654129981994629\n",
      "n_samples_node =  1000\n",
      "generate_samples :  11.420857191085815\n",
      "     prepare getting local values 0.0020799636840820312\n",
      "     obtained local values 0.007779836654663086\n",
      "get_mc_stats 0.012024164199829102\n"
     ]
    },
    {
     "name": "stderr",
     "output_type": "stream",
     "text": [
      " 94%|█████████▎| 935/1000 [3:27:08<14:15, 13.16s/it, Energy=-2.1058211+0.0000000j ± 0.0000034 [σ²=0.0000000]]"
     ]
    },
    {
     "name": "stdout",
     "output_type": "stream",
     "text": [
      "--->> cal O and jac  0.03874707221984863\n",
      "compute_update  0.041821956634521484\n",
      "(0.03663084449103057+0j)\n",
      "n_discard =  144\n",
      "discard samples 1.6886370182037354\n",
      "n_samples_node =  1000\n",
      "generate_samples :  11.427043914794922\n",
      "     prepare getting local values 0.0022509098052978516\n",
      "     obtained local values 0.008064985275268555\n",
      "get_mc_stats 0.012717723846435547\n"
     ]
    },
    {
     "name": "stderr",
     "output_type": "stream",
     "text": [
      " 94%|█████████▎| 936/1000 [3:27:21<14:02, 13.16s/it, Energy=-2.1058160+0.0000000j ± 0.0000045 [σ²=0.0000000]]"
     ]
    },
    {
     "name": "stdout",
     "output_type": "stream",
     "text": [
      "--->> cal O and jac  0.03603196144104004\n",
      "compute_update  0.039251089096069336\n",
      "(0.0366283458838707+0j)\n",
      "n_discard =  144\n",
      "discard samples 1.6479177474975586\n",
      "n_samples_node =  1000\n",
      "generate_samples :  11.36226201057434\n",
      "     prepare getting local values 0.002147197723388672\n",
      "     obtained local values 0.007708311080932617\n",
      "get_mc_stats 0.011796951293945312\n"
     ]
    },
    {
     "name": "stderr",
     "output_type": "stream",
     "text": [
      " 94%|█████████▎| 937/1000 [3:27:34<13:47, 13.13s/it, Energy=-2.1058111+0.0000000j ± 0.0000043 [σ²=0.0000000]]"
     ]
    },
    {
     "name": "stdout",
     "output_type": "stream",
     "text": [
      "--->> cal O and jac  0.03655600547790527\n",
      "compute_update  0.039878129959106445\n",
      "(0.036625989888068346+0j)\n",
      "n_discard =  144\n",
      "discard samples 1.6475019454956055\n",
      "n_samples_node =  1000\n",
      "generate_samples :  11.399516105651855\n",
      "     prepare getting local values 0.0023660659790039062\n",
      "     obtained local values 0.008116006851196289\n",
      "get_mc_stats 0.012488126754760742\n"
     ]
    },
    {
     "name": "stderr",
     "output_type": "stream",
     "text": [
      " 94%|█████████▍| 938/1000 [3:27:47<13:33, 13.13s/it, Energy=-2.1058172+0.0000000j ± 0.0000042 [σ²=0.0000000]]"
     ]
    },
    {
     "name": "stdout",
     "output_type": "stream",
     "text": [
      "--->> cal O and jac  0.04420185089111328\n",
      "compute_update  0.05039477348327637\n",
      "(0.03662381535429042+0j)\n",
      "n_discard =  144\n",
      "discard samples 1.6479899883270264\n",
      "n_samples_node =  1000\n",
      "generate_samples :  11.341337203979492\n",
      "     prepare getting local values 0.0023660659790039062\n",
      "     obtained local values 0.008008241653442383\n",
      "get_mc_stats 0.011883020401000977\n"
     ]
    },
    {
     "name": "stderr",
     "output_type": "stream",
     "text": [
      " 94%|█████████▍| 939/1000 [3:28:00<13:19, 13.10s/it, Energy=-2.1058164+0.0000000j ± 0.0000037 [σ²=0.0000000]]"
     ]
    },
    {
     "name": "stdout",
     "output_type": "stream",
     "text": [
      "--->> cal O and jac  0.037142038345336914\n",
      "compute_update  0.04090070724487305\n",
      "(0.03662165806006496+0j)\n",
      "n_discard =  144\n",
      "discard samples 1.644193172454834\n",
      "n_samples_node =  1000\n",
      "generate_samples :  11.335036039352417\n",
      "     prepare getting local values 0.0024230480194091797\n",
      "     obtained local values 0.008182048797607422\n",
      "get_mc_stats 0.012387990951538086\n"
     ]
    },
    {
     "name": "stderr",
     "output_type": "stream",
     "text": [
      " 94%|█████████▍| 940/1000 [3:28:13<13:04, 13.08s/it, Energy=-2.1058212+0.0000000j ± 0.0000033 [σ²=0.0000000]]"
     ]
    },
    {
     "name": "stdout",
     "output_type": "stream",
     "text": [
      "--->> cal O and jac  0.03683590888977051\n",
      "compute_update  0.04011988639831543\n",
      "(0.03661939078292711+0j)\n",
      "n_discard =  144\n",
      "discard samples 1.646198034286499\n",
      "n_samples_node =  1000\n",
      "generate_samples :  11.359128952026367\n",
      "     prepare getting local values 0.0023391246795654297\n",
      "     obtained local values 0.00813603401184082\n",
      "get_mc_stats 0.012333869934082031\n"
     ]
    },
    {
     "name": "stderr",
     "output_type": "stream",
     "text": [
      " 94%|█████████▍| 941/1000 [3:28:26<12:51, 13.08s/it, Energy=-2.1058225+0.0000000j ± 0.0000046 [σ²=0.0000000]]"
     ]
    },
    {
     "name": "stdout",
     "output_type": "stream",
     "text": [
      "--->> cal O and jac  0.03694629669189453\n",
      "compute_update  0.04037022590637207\n",
      "(0.03661744775536169+0j)\n",
      "n_discard =  144\n",
      "discard samples 1.6482079029083252\n",
      "n_samples_node =  1000\n",
      "generate_samples :  11.346879005432129\n",
      "     prepare getting local values 0.002331972122192383\n",
      "     obtained local values 0.008109092712402344\n",
      "get_mc_stats 0.01226496696472168\n"
     ]
    },
    {
     "name": "stderr",
     "output_type": "stream",
     "text": [
      " 94%|█████████▍| 942/1000 [3:28:39<12:37, 13.07s/it, Energy=-2.1058103+0.0000000j ± 0.0000046 [σ²=0.0000000]]"
     ]
    },
    {
     "name": "stdout",
     "output_type": "stream",
     "text": [
      "--->> cal O and jac  0.0360870361328125\n",
      "compute_update  0.03978705406188965\n",
      "(0.036615152741407614+0j)\n",
      "n_discard =  144\n",
      "discard samples 1.647911787033081\n",
      "n_samples_node =  1000\n",
      "generate_samples :  11.673192024230957\n",
      "     prepare getting local values 0.0021538734436035156\n",
      "     obtained local values 0.008082866668701172\n",
      "get_mc_stats 0.013530969619750977\n"
     ]
    },
    {
     "name": "stderr",
     "output_type": "stream",
     "text": [
      " 94%|█████████▍| 943/1000 [3:28:53<12:30, 13.16s/it, Energy=-2.1058237+0.0000000j ± 0.0000051 [σ²=0.0000000]]"
     ]
    },
    {
     "name": "stdout",
     "output_type": "stream",
     "text": [
      "--->> cal O and jac  0.03838801383972168\n",
      "compute_update  0.042001962661743164\n",
      "(0.036612921746605465+0j)\n",
      "n_discard =  144\n",
      "discard samples 1.6527769565582275\n",
      "n_samples_node =  1000\n",
      "generate_samples :  11.3852698802948\n",
      "     prepare getting local values 0.0020771026611328125\n",
      "     obtained local values 0.007779836654663086\n",
      "get_mc_stats 0.0120849609375\n"
     ]
    },
    {
     "name": "stderr",
     "output_type": "stream",
     "text": [
      " 94%|█████████▍| 944/1000 [3:29:06<12:15, 13.14s/it, Energy=-2.1058155+0.0000000j ± 0.0000032 [σ²=0.0000000]]"
     ]
    },
    {
     "name": "stdout",
     "output_type": "stream",
     "text": [
      "--->> cal O and jac  0.03811478614807129\n",
      "compute_update  0.04136395454406738\n",
      "(0.0366109017927683+0j)\n",
      "n_discard =  144\n",
      "discard samples 1.6452569961547852\n",
      "n_samples_node =  1000\n",
      "generate_samples :  11.338849067687988\n",
      "     prepare getting local values 0.0024428367614746094\n",
      "     obtained local values 0.008249759674072266\n",
      "get_mc_stats 0.012408733367919922\n"
     ]
    },
    {
     "name": "stderr",
     "output_type": "stream",
     "text": [
      " 94%|█████████▍| 945/1000 [3:29:19<12:01, 13.11s/it, Energy=-2.1058166+0.0000000j ± 0.0000042 [σ²=0.0000000]]"
     ]
    },
    {
     "name": "stdout",
     "output_type": "stream",
     "text": [
      "--->> cal O and jac  0.03624916076660156\n",
      "compute_update  0.03960084915161133\n",
      "(0.03660875344189443+0j)\n",
      "n_discard =  144\n",
      "discard samples 1.6459908485412598\n",
      "n_samples_node =  1000\n",
      "generate_samples :  11.356229782104492\n",
      "     prepare getting local values 0.002202272415161133\n",
      "     obtained local values 0.00793910026550293\n",
      "get_mc_stats 0.012238025665283203\n"
     ]
    },
    {
     "name": "stderr",
     "output_type": "stream",
     "text": [
      " 95%|█████████▍| 946/1000 [3:29:32<11:47, 13.09s/it, Energy=-2.1058216+0.0000000j ± 0.0000047 [σ²=0.0000000]]"
     ]
    },
    {
     "name": "stdout",
     "output_type": "stream",
     "text": [
      "--->> cal O and jac  0.036644935607910156\n",
      "compute_update  0.03998279571533203\n",
      "(0.03660664474747661+0j)\n",
      "n_discard =  144\n",
      "discard samples 1.6495239734649658\n",
      "n_samples_node =  1000\n",
      "generate_samples :  11.341617822647095\n",
      "     prepare getting local values 0.0023009777069091797\n",
      "     obtained local values 0.008114814758300781\n",
      "get_mc_stats 0.012494802474975586\n"
     ]
    },
    {
     "name": "stderr",
     "output_type": "stream",
     "text": [
      " 95%|█████████▍| 947/1000 [3:29:45<11:33, 13.08s/it, Energy=-2.1058203+0.0000000j ± 0.0000038 [σ²=0.0000000]]"
     ]
    },
    {
     "name": "stdout",
     "output_type": "stream",
     "text": [
      "--->> cal O and jac  0.0359339714050293\n",
      "compute_update  0.03937101364135742\n",
      "(0.03660436769763677+0j)\n",
      "n_discard =  144\n",
      "discard samples 1.6805860996246338\n",
      "n_samples_node =  1000\n",
      "generate_samples :  11.340098142623901\n",
      "     prepare getting local values 0.002290964126586914\n",
      "     obtained local values 0.007887125015258789\n",
      "get_mc_stats 0.012372016906738281\n"
     ]
    },
    {
     "name": "stderr",
     "output_type": "stream",
     "text": [
      " 95%|█████████▍| 948/1000 [3:29:58<11:20, 13.08s/it, Energy=-2.1058161+0.0000000j ± 0.0000037 [σ²=0.0000000]]"
     ]
    },
    {
     "name": "stdout",
     "output_type": "stream",
     "text": [
      "--->> cal O and jac  0.035884857177734375\n",
      "compute_update  0.03908896446228027\n",
      "(0.03660235708308576+0j)\n",
      "n_discard =  144\n",
      "discard samples 1.648906946182251\n",
      "n_samples_node =  1000\n",
      "generate_samples :  11.322906970977783\n",
      "     prepare getting local values 0.0022301673889160156\n",
      "     obtained local values 0.008059978485107422\n",
      "get_mc_stats 0.012288093566894531\n"
     ]
    },
    {
     "name": "stderr",
     "output_type": "stream",
     "text": [
      " 95%|█████████▍| 949/1000 [3:30:11<11:06, 13.06s/it, Energy=-2.1058163+0.0000000j ± 0.0000043 [σ²=0.0000000]]"
     ]
    },
    {
     "name": "stdout",
     "output_type": "stream",
     "text": [
      "--->> cal O and jac  0.03678703308105469\n",
      "compute_update  0.04051613807678223\n",
      "(0.036600194189039835+0j)\n",
      "n_discard =  144\n",
      "discard samples 1.643617868423462\n",
      "n_samples_node =  1000\n",
      "generate_samples :  11.354895114898682\n",
      "     prepare getting local values 0.0020232200622558594\n",
      "     obtained local values 0.007902145385742188\n",
      "get_mc_stats 0.011990070343017578\n"
     ]
    },
    {
     "name": "stderr",
     "output_type": "stream",
     "text": [
      " 95%|█████████▌| 950/1000 [3:30:24<10:52, 13.06s/it, Energy=-2.1058289+0.0000000j ± 0.0000044 [σ²=0.0000000]]"
     ]
    },
    {
     "name": "stdout",
     "output_type": "stream",
     "text": [
      "--->> cal O and jac  0.03592705726623535\n",
      "compute_update  0.03936505317687988\n",
      "(0.03659804147191999+0j)\n",
      "n_discard =  144\n",
      "discard samples 1.645047903060913\n",
      "n_samples_node =  1000\n",
      "generate_samples :  11.47080397605896\n",
      "     prepare getting local values 0.0021910667419433594\n",
      "     obtained local values 0.00801706314086914\n",
      "get_mc_stats 0.012099266052246094\n"
     ]
    },
    {
     "name": "stderr",
     "output_type": "stream",
     "text": [
      " 95%|█████████▌| 951/1000 [3:30:37<10:41, 13.09s/it, Energy=-2.1058190+0.0000000j ± 0.0000043 [σ²=0.0000000]]"
     ]
    },
    {
     "name": "stdout",
     "output_type": "stream",
     "text": [
      "--->> cal O and jac  0.03806114196777344\n",
      "compute_update  0.04116678237915039\n",
      "(0.03659568272084464+0j)\n",
      "n_discard =  144\n",
      "discard samples 1.7702078819274902\n",
      "n_samples_node =  1000\n",
      "generate_samples :  11.933552265167236\n",
      "     prepare getting local values 0.002290964126586914\n",
      "     obtained local values 0.008421182632446289\n",
      "get_mc_stats 0.013895273208618164\n"
     ]
    },
    {
     "name": "stderr",
     "output_type": "stream",
     "text": [
      " 95%|█████████▌| 952/1000 [3:30:51<10:38, 13.30s/it, Energy=-2.1058147+0.0000000j ± 0.0000036 [σ²=0.0000000]]"
     ]
    },
    {
     "name": "stdout",
     "output_type": "stream",
     "text": [
      "--->> cal O and jac  0.04344677925109863\n",
      "compute_update  0.046910762786865234\n",
      "(0.03659346936974248+0j)\n",
      "n_discard =  144\n",
      "discard samples 1.6759648323059082\n",
      "n_samples_node =  1000\n",
      "generate_samples :  11.528498888015747\n",
      "     prepare getting local values 0.0022821426391601562\n",
      "     obtained local values 0.008107185363769531\n",
      "get_mc_stats 0.012345075607299805\n"
     ]
    },
    {
     "name": "stderr",
     "output_type": "stream",
     "text": [
      " 95%|█████████▌| 953/1000 [3:31:04<10:24, 13.28s/it, Energy=-2.1058177+0.0000000j ± 0.0000040 [σ²=0.0000000]]"
     ]
    },
    {
     "name": "stdout",
     "output_type": "stream",
     "text": [
      "--->> cal O and jac  0.03672003746032715\n",
      "compute_update  0.04020094871520996\n",
      "(0.03659137093638288+0j)\n",
      "n_discard =  144\n",
      "discard samples 1.666675090789795\n",
      "n_samples_node =  1000\n",
      "generate_samples :  11.425496101379395\n",
      "     prepare getting local values 0.0021021366119384766\n",
      "     obtained local values 0.007824182510375977\n",
      "get_mc_stats 0.012027263641357422\n"
     ]
    },
    {
     "name": "stderr",
     "output_type": "stream",
     "text": [
      " 95%|█████████▌| 954/1000 [3:31:17<10:09, 13.24s/it, Energy=-2.1058185+0.0000000j ± 0.0000035 [σ²=0.0000000]]"
     ]
    },
    {
     "name": "stdout",
     "output_type": "stream",
     "text": [
      "--->> cal O and jac  0.03759002685546875\n",
      "compute_update  0.040686845779418945\n",
      "(0.03658917811185971+0j)\n",
      "n_discard =  144\n",
      "discard samples 1.6623167991638184\n",
      "n_samples_node =  1000\n",
      "generate_samples :  11.350524187088013\n",
      "     prepare getting local values 0.0023431777954101562\n",
      "     obtained local values 0.00864100456237793\n",
      "get_mc_stats 0.013473987579345703\n"
     ]
    },
    {
     "name": "stderr",
     "output_type": "stream",
     "text": [
      " 96%|█████████▌| 955/1000 [3:31:30<09:53, 13.19s/it, Energy=-2.1058167+0.0000000j ± 0.0000046 [σ²=0.0000000]]"
     ]
    },
    {
     "name": "stdout",
     "output_type": "stream",
     "text": [
      "--->> cal O and jac  0.04193472862243652\n",
      "compute_update  0.04522895812988281\n",
      "(0.036586979794584015+0j)\n",
      "n_discard =  144\n",
      "discard samples 1.6689338684082031\n",
      "n_samples_node =  1000\n",
      "generate_samples :  11.396270990371704\n",
      "     prepare getting local values 0.002095937728881836\n",
      "     obtained local values 0.007803916931152344\n",
      "get_mc_stats 0.012286901473999023\n"
     ]
    },
    {
     "name": "stderr",
     "output_type": "stream",
     "text": [
      " 96%|█████████▌| 956/1000 [3:31:44<09:39, 13.17s/it, Energy=-2.1058202+0.0000000j ± 0.0000040 [σ²=0.0000000]]"
     ]
    },
    {
     "name": "stdout",
     "output_type": "stream",
     "text": [
      "--->> cal O and jac  0.03546595573425293\n",
      "compute_update  0.03867983818054199\n",
      "(0.03658448845816598+0j)\n",
      "n_discard =  144\n",
      "discard samples 1.706784963607788\n",
      "n_samples_node =  1000\n",
      "generate_samples :  11.659301042556763\n",
      "     prepare getting local values 0.003312826156616211\n",
      "     obtained local values 0.009568929672241211\n",
      "get_mc_stats 0.015074014663696289\n"
     ]
    },
    {
     "name": "stderr",
     "output_type": "stream",
     "text": [
      " 96%|█████████▌| 957/1000 [3:31:57<09:29, 13.25s/it, Energy=-2.1058202+0.0000000j ± 0.0000036 [σ²=0.0000000]]"
     ]
    },
    {
     "name": "stdout",
     "output_type": "stream",
     "text": [
      "--->> cal O and jac  0.04260826110839844\n",
      "compute_update  0.04688310623168945\n",
      "(0.036582290778579586+0j)\n",
      "n_discard =  144\n",
      "discard samples 1.6640229225158691\n",
      "n_samples_node =  1000\n",
      "generate_samples :  11.718653917312622\n",
      "     prepare getting local values 0.002471923828125\n",
      "     obtained local values 0.008315801620483398\n",
      "get_mc_stats 0.013482093811035156\n"
     ]
    },
    {
     "name": "stderr",
     "output_type": "stream",
     "text": [
      " 96%|█████████▌| 958/1000 [3:32:10<09:18, 13.31s/it, Energy=-2.1058146+0.0000000j ± 0.0000040 [σ²=0.0000000]]"
     ]
    },
    {
     "name": "stdout",
     "output_type": "stream",
     "text": [
      "--->> cal O and jac  0.04279828071594238\n",
      "compute_update  0.047568321228027344\n",
      "(0.03657993574624628+0j)\n",
      "n_discard =  144\n",
      "discard samples 1.657975673675537\n",
      "n_samples_node =  1000\n",
      "generate_samples :  11.474072933197021\n",
      "     prepare getting local values 0.002351999282836914\n",
      "     obtained local values 0.008040189743041992\n",
      "get_mc_stats 0.012451171875\n"
     ]
    },
    {
     "name": "stderr",
     "output_type": "stream",
     "text": [
      " 96%|█████████▌| 959/1000 [3:32:24<09:04, 13.27s/it, Energy=-2.1058179+0.0000000j ± 0.0000040 [σ²=0.0000000]]"
     ]
    },
    {
     "name": "stdout",
     "output_type": "stream",
     "text": [
      "--->> cal O and jac  0.03638005256652832\n",
      "compute_update  0.039901018142700195\n",
      "(0.036577776377297054+0j)\n",
      "n_discard =  144\n",
      "discard samples 1.6497960090637207\n",
      "n_samples_node =  1000\n",
      "generate_samples :  11.339196920394897\n",
      "     prepare getting local values 0.002624034881591797\n",
      "     obtained local values 0.008477926254272461\n",
      "get_mc_stats 0.012022972106933594\n"
     ]
    },
    {
     "name": "stderr",
     "output_type": "stream",
     "text": [
      " 96%|█████████▌| 960/1000 [3:32:37<08:48, 13.20s/it, Energy=-2.1058238+0.0000000j ± 0.0000030 [σ²=0.0000000]]"
     ]
    },
    {
     "name": "stdout",
     "output_type": "stream",
     "text": [
      "--->> cal O and jac  0.035964012145996094\n",
      "compute_update  0.03924298286437988\n",
      "(0.03657551517897004+0j)\n",
      "n_discard =  144\n",
      "discard samples 1.6865460872650146\n",
      "n_samples_node =  1000\n",
      "generate_samples :  11.629055976867676\n",
      "     prepare getting local values 0.0026290416717529297\n",
      "     obtained local values 0.00948023796081543\n",
      "get_mc_stats 0.015063047409057617\n"
     ]
    },
    {
     "name": "stderr",
     "output_type": "stream",
     "text": [
      " 96%|█████████▌| 961/1000 [3:32:50<08:37, 13.26s/it, Energy=-2.1058207+0.0000000j ± 0.0000041 [σ²=0.0000000]]"
     ]
    },
    {
     "name": "stdout",
     "output_type": "stream",
     "text": [
      "--->> cal O and jac  0.05041694641113281\n",
      "compute_update  0.05571699142456055\n",
      "(0.036573201678717464+0j)\n",
      "n_discard =  144\n",
      "discard samples 1.8477699756622314\n",
      "n_samples_node =  1000\n",
      "generate_samples :  11.818148136138916\n",
      "     prepare getting local values 0.0027399063110351562\n",
      "     obtained local values 0.008543968200683594\n",
      "get_mc_stats 0.012957334518432617\n"
     ]
    },
    {
     "name": "stderr",
     "output_type": "stream",
     "text": [
      " 96%|█████████▌| 962/1000 [3:33:04<08:29, 13.40s/it, Energy=-2.1058217+0.0000000j ± 0.0000043 [σ²=0.0000000]]"
     ]
    },
    {
     "name": "stdout",
     "output_type": "stream",
     "text": [
      "--->> cal O and jac  0.0375821590423584\n",
      "compute_update  0.04071331024169922\n",
      "(0.03657078801634283+0j)\n",
      "n_discard =  144\n",
      "discard samples 1.7146401405334473\n",
      "n_samples_node =  1000\n",
      "generate_samples :  11.467190027236938\n",
      "     prepare getting local values 0.002463102340698242\n",
      "     obtained local values 0.008022069931030273\n",
      "get_mc_stats 0.012160062789916992\n"
     ]
    },
    {
     "name": "stderr",
     "output_type": "stream",
     "text": [
      " 96%|█████████▋| 963/1000 [3:33:17<08:13, 13.35s/it, Energy=-2.1058120+0.0000000j ± 0.0000032 [σ²=0.0000000]]"
     ]
    },
    {
     "name": "stdout",
     "output_type": "stream",
     "text": [
      "--->> cal O and jac  0.03613901138305664\n",
      "compute_update  0.03986310958862305\n",
      "(0.036568302197028224+0j)\n",
      "n_discard =  144\n",
      "discard samples 1.6722569465637207\n",
      "n_samples_node =  1000\n",
      "generate_samples :  11.445671081542969\n",
      "     prepare getting local values 0.002187013626098633\n",
      "     obtained local values 0.007828950881958008\n",
      "get_mc_stats 0.012202024459838867\n"
     ]
    },
    {
     "name": "stderr",
     "output_type": "stream",
     "text": [
      " 96%|█████████▋| 964/1000 [3:33:30<07:58, 13.30s/it, Energy=-2.1058156+0.0000000j ± 0.0000042 [σ²=0.0000000]]"
     ]
    },
    {
     "name": "stdout",
     "output_type": "stream",
     "text": [
      "--->> cal O and jac  0.03862595558166504\n",
      "compute_update  0.042098045349121094\n",
      "(0.03656607218044852+0j)\n",
      "n_discard =  144\n",
      "discard samples 1.6493120193481445\n",
      "n_samples_node =  1000\n",
      "generate_samples :  11.3433997631073\n",
      "     prepare getting local values 0.0021810531616210938\n",
      "     obtained local values 0.007944107055664062\n",
      "get_mc_stats 0.012077093124389648\n"
     ]
    },
    {
     "name": "stderr",
     "output_type": "stream",
     "text": [
      " 96%|█████████▋| 965/1000 [3:33:43<07:42, 13.22s/it, Energy=-2.1058178+0.0000000j ± 0.0000037 [σ²=0.0000000]]"
     ]
    },
    {
     "name": "stdout",
     "output_type": "stream",
     "text": [
      "--->> cal O and jac  0.03655695915222168\n",
      "compute_update  0.04032778739929199\n",
      "(0.03656387702172304+0j)\n",
      "n_discard =  144\n",
      "discard samples 1.662942886352539\n",
      "n_samples_node =  1000\n",
      "generate_samples :  11.473015069961548\n",
      "     prepare getting local values 0.0019969940185546875\n",
      "     obtained local values 0.007734060287475586\n",
      "get_mc_stats 0.012012004852294922\n"
     ]
    },
    {
     "name": "stderr",
     "output_type": "stream",
     "text": [
      " 97%|█████████▋| 966/1000 [3:33:56<07:29, 13.21s/it, Energy=-2.1058171+0.0000000j ± 0.0000041 [σ²=0.0000000]]"
     ]
    },
    {
     "name": "stdout",
     "output_type": "stream",
     "text": [
      "--->> cal O and jac  0.03894805908203125\n",
      "compute_update  0.04228091239929199\n",
      "(0.036561587015687194+0j)\n",
      "n_discard =  144\n",
      "discard samples 1.8477199077606201\n",
      "n_samples_node =  1000\n",
      "generate_samples :  11.533830881118774\n",
      "     prepare getting local values 0.002190113067626953\n",
      "     obtained local values 0.007886171340942383\n",
      "get_mc_stats 0.012158870697021484\n"
     ]
    },
    {
     "name": "stderr",
     "output_type": "stream",
     "text": [
      " 97%|█████████▋| 967/1000 [3:34:10<07:18, 13.28s/it, Energy=-2.1058223+0.0000000j ± 0.0000034 [σ²=0.0000000]]"
     ]
    },
    {
     "name": "stdout",
     "output_type": "stream",
     "text": [
      "--->> cal O and jac  0.03612017631530762\n",
      "compute_update  0.039939165115356445\n",
      "(0.03655945167788152+0j)\n",
      "n_discard =  144\n",
      "discard samples 1.6492433547973633\n",
      "n_samples_node =  1000\n",
      "generate_samples :  11.662324905395508\n",
      "     prepare getting local values 0.0023581981658935547\n",
      "     obtained local values 0.008124113082885742\n",
      "get_mc_stats 0.012644290924072266\n"
     ]
    },
    {
     "name": "stderr",
     "output_type": "stream",
     "text": [
      " 97%|█████████▋| 968/1000 [3:34:23<07:05, 13.31s/it, Energy=-2.1058167+0.0000000j ± 0.0000043 [σ²=0.0000000]]"
     ]
    },
    {
     "name": "stdout",
     "output_type": "stream",
     "text": [
      "--->> cal O and jac  0.039070844650268555\n",
      "compute_update  0.042350053787231445\n",
      "(0.03655714522044695+0j)\n",
      "n_discard =  144\n",
      "discard samples 1.6576149463653564\n",
      "n_samples_node =  1000\n",
      "generate_samples :  11.455020189285278\n",
      "     prepare getting local values 0.0021600723266601562\n",
      "     obtained local values 0.008291959762573242\n",
      "get_mc_stats 0.01285696029663086\n"
     ]
    },
    {
     "name": "stderr",
     "output_type": "stream",
     "text": [
      " 97%|█████████▋| 969/1000 [3:34:36<06:51, 13.27s/it, Energy=-2.1058153+0.0000000j ± 0.0000037 [σ²=0.0000000]]"
     ]
    },
    {
     "name": "stdout",
     "output_type": "stream",
     "text": [
      "--->> cal O and jac  0.03908705711364746\n",
      "compute_update  0.042748212814331055\n",
      "(0.03655500781659816+0j)\n",
      "n_discard =  144\n",
      "discard samples 1.6529200077056885\n",
      "n_samples_node =  1000\n",
      "generate_samples :  11.745628118515015\n",
      "     prepare getting local values 0.002457857131958008\n",
      "     obtained local values 0.008504152297973633\n",
      "get_mc_stats 0.014233827590942383\n"
     ]
    },
    {
     "name": "stderr",
     "output_type": "stream",
     "text": [
      " 97%|█████████▋| 970/1000 [3:34:50<06:39, 13.32s/it, Energy=-2.1058115+0.0000000j ± 0.0000034 [σ²=0.0000000]]"
     ]
    },
    {
     "name": "stdout",
     "output_type": "stream",
     "text": [
      "--->> cal O and jac  0.03696894645690918\n",
      "compute_update  0.04009079933166504\n",
      "(0.03655287069141196+0j)\n",
      "n_discard =  144\n",
      "discard samples 1.6556670665740967\n",
      "n_samples_node =  1000\n",
      "generate_samples :  11.653883934020996\n",
      "     prepare getting local values 0.0022859573364257812\n",
      "     obtained local values 0.008272886276245117\n",
      "get_mc_stats 0.012861967086791992\n"
     ]
    },
    {
     "name": "stderr",
     "output_type": "stream",
     "text": [
      " 97%|█████████▋| 971/1000 [3:35:03<06:26, 13.34s/it, Energy=-2.1058192+0.0000000j ± 0.0000034 [σ²=0.0000000]]"
     ]
    },
    {
     "name": "stdout",
     "output_type": "stream",
     "text": [
      "--->> cal O and jac  0.03884267807006836\n",
      "compute_update  0.04285073280334473\n",
      "(0.03655077396766959+0j)\n",
      "n_discard =  144\n",
      "discard samples 1.7200851440429688\n",
      "n_samples_node =  1000\n",
      "generate_samples :  12.021799087524414\n",
      "     prepare getting local values 0.0021970272064208984\n",
      "     obtained local values 0.008189916610717773\n",
      "get_mc_stats 0.01391911506652832\n"
     ]
    },
    {
     "name": "stderr",
     "output_type": "stream",
     "text": [
      " 97%|█████████▋| 972/1000 [3:35:17<06:17, 13.48s/it, Energy=-2.1058163+0.0000000j ± 0.0000038 [σ²=0.0000000]]"
     ]
    },
    {
     "name": "stdout",
     "output_type": "stream",
     "text": [
      "--->> cal O and jac  0.03818798065185547\n",
      "compute_update  0.04146099090576172\n",
      "(0.036548624002615944+0j)\n",
      "n_discard =  144\n",
      "discard samples 1.700563907623291\n",
      "n_samples_node =  1000\n",
      "generate_samples :  11.509571075439453\n",
      "     prepare getting local values 0.002360820770263672\n",
      "     obtained local values 0.008217811584472656\n",
      "get_mc_stats 0.012812137603759766\n"
     ]
    },
    {
     "name": "stderr",
     "output_type": "stream",
     "text": [
      " 97%|█████████▋| 973/1000 [3:35:30<06:02, 13.41s/it, Energy=-2.1058199+0.0000000j ± 0.0000030 [σ²=0.0000000]]"
     ]
    },
    {
     "name": "stdout",
     "output_type": "stream",
     "text": [
      "--->> cal O and jac  0.04132580757141113\n",
      "compute_update  0.045105934143066406\n",
      "(0.03654657240163948+0j)\n",
      "n_discard =  144\n",
      "discard samples 1.6841259002685547\n",
      "n_samples_node =  1000\n",
      "generate_samples :  11.60627031326294\n",
      "     prepare getting local values 0.0022127628326416016\n",
      "     obtained local values 0.008356094360351562\n",
      "get_mc_stats 0.013119935989379883\n"
     ]
    },
    {
     "name": "stderr",
     "output_type": "stream",
     "text": [
      " 97%|█████████▋| 974/1000 [3:35:44<05:48, 13.40s/it, Energy=-2.1058204+0.0000000j ± 0.0000036 [σ²=0.0000000]]"
     ]
    },
    {
     "name": "stdout",
     "output_type": "stream",
     "text": [
      "--->> cal O and jac  0.04532980918884277\n",
      "compute_update  0.04912877082824707\n",
      "(0.03654470796609225+0j)\n",
      "n_discard =  144\n",
      "discard samples 1.6832220554351807\n",
      "n_samples_node =  1000\n",
      "generate_samples :  11.770474910736084\n",
      "     prepare getting local values 0.0023539066314697266\n",
      "     obtained local values 0.00819706916809082\n",
      "get_mc_stats 0.013290166854858398\n"
     ]
    },
    {
     "name": "stderr",
     "output_type": "stream",
     "text": [
      " 98%|█████████▊| 975/1000 [3:35:57<05:35, 13.43s/it, Energy=-2.1058167+0.0000000j ± 0.0000039 [σ²=0.0000000]]"
     ]
    },
    {
     "name": "stdout",
     "output_type": "stream",
     "text": [
      "--->> cal O and jac  0.03734302520751953\n",
      "compute_update  0.0408170223236084\n",
      "(0.03654281933689737+0j)\n",
      "n_discard =  144\n",
      "discard samples 1.646094799041748\n",
      "n_samples_node =  1000\n",
      "generate_samples :  11.761512994766235\n",
      "     prepare getting local values 0.0024216175079345703\n",
      "     obtained local values 0.008209943771362305\n",
      "get_mc_stats 0.014953851699829102\n"
     ]
    },
    {
     "name": "stderr",
     "output_type": "stream",
     "text": [
      " 98%|█████████▊| 976/1000 [3:36:11<05:22, 13.44s/it, Energy=-2.1058205+0.0000000j ± 0.0000032 [σ²=0.0000000]]"
     ]
    },
    {
     "name": "stdout",
     "output_type": "stream",
     "text": [
      "--->> cal O and jac  0.04407668113708496\n",
      "compute_update  0.04783010482788086\n",
      "(0.03654076928636952+0j)\n",
      "n_discard =  144\n",
      "discard samples 1.68104887008667\n",
      "n_samples_node =  1000\n",
      "generate_samples :  11.63258981704712\n",
      "     prepare getting local values 0.0029439926147460938\n",
      "     obtained local values 0.009758949279785156\n",
      "get_mc_stats 0.014441967010498047\n"
     ]
    },
    {
     "name": "stderr",
     "output_type": "stream",
     "text": [
      " 98%|█████████▊| 977/1000 [3:36:24<05:08, 13.42s/it, Energy=-2.1058131+0.0000000j ± 0.0000044 [σ²=0.0000000]]"
     ]
    },
    {
     "name": "stdout",
     "output_type": "stream",
     "text": [
      "--->> cal O and jac  0.04207801818847656\n",
      "compute_update  0.04587697982788086\n",
      "(0.03653885729688912+0j)\n",
      "n_discard =  144\n",
      "discard samples 1.6710960865020752\n",
      "n_samples_node =  1000\n",
      "generate_samples :  11.650755167007446\n",
      "     prepare getting local values 0.0027399063110351562\n",
      "     obtained local values 0.008644819259643555\n",
      "get_mc_stats 0.012573957443237305\n"
     ]
    },
    {
     "name": "stderr",
     "output_type": "stream",
     "text": [
      " 98%|█████████▊| 978/1000 [3:36:37<04:55, 13.41s/it, Energy=-2.1058163+0.0000000j ± 0.0000031 [σ²=0.0000000]]"
     ]
    },
    {
     "name": "stdout",
     "output_type": "stream",
     "text": [
      "--->> cal O and jac  0.038717031478881836\n",
      "compute_update  0.0423128604888916\n",
      "(0.03653684823904811+0j)\n",
      "n_discard =  144\n",
      "discard samples 1.665928840637207\n",
      "n_samples_node =  1000\n"
     ]
    }
   ],
   "source": [
    "V = 0.6\n",
    "h = 1.0\n",
    "\n",
    "ham = f.dimer_hamiltonian(V = V, h = h ,length=np.array(length))\n",
    "\n",
    "\n",
    "n_jobs = 1\n",
    "sa_mul = nk.sampler.DimerMetropolisLocal_multi(machine=ma, op=op_transition1\n",
    "    , length = length, n_chains=n_chains, sweep_size = sweep_size, kernel = 1, n_jobs=n_jobs)\n",
    "\n",
    "sr = nk.optimizer.SR(ma, diag_shift=5e-3)\n",
    "opt = nk.optimizer.Sgd(ma, learning_rate=0.05, decay_factor = decay_factor ,N = n_iter)\n",
    "\n",
    "gs = nk.Vmc(\n",
    "hamiltonian=ham,\n",
    "sampler=sa_mul,\n",
    "optimizer=opt,\n",
    "n_samples=10**3,\n",
    "sr=sr,\n",
    "n_discard=12*12,\n",
    ")\n",
    "\n",
    "\n",
    "gs.run(n_iter=n_iter)\n",
    "# ma.save(parentdir + '/save/ma/'+name)"
   ]
  },
  {
   "cell_type": "code",
   "execution_count": 16,
   "id": "characteristic-bedroom",
   "metadata": {},
   "outputs": [
    {
     "data": {
      "text/plain": [
       "720"
      ]
     },
     "execution_count": 16,
     "metadata": {},
     "output_type": "execute_result"
    }
   ],
   "source": [
    "12*12*5"
   ]
  },
  {
   "cell_type": "code",
   "execution_count": null,
   "id": "intermediate-mason",
   "metadata": {},
   "outputs": [],
   "source": []
  }
 ],
 "metadata": {
  "kernelspec": {
   "display_name": "Python 3",
   "language": "python",
   "name": "python3"
  },
  "language_info": {
   "codemirror_mode": {
    "name": "ipython",
    "version": 3
   },
   "file_extension": ".py",
   "mimetype": "text/x-python",
   "name": "python",
   "nbconvert_exporter": "python",
   "pygments_lexer": "ipython3",
   "version": "3.7.7"
  }
 },
 "nbformat": 4,
 "nbformat_minor": 5
}
