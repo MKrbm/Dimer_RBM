{
 "cells": [
  {
   "cell_type": "code",
   "execution_count": 1,
   "id": "sunrise-anaheim",
   "metadata": {},
   "outputs": [],
   "source": [
    "import sys\n",
    "import importlib\n",
    "importlib.reload(sys)\n",
    "sys.path.insert(0,'../')\n",
    "import numpy as np\n",
    "import netket as nk\n",
    "from scripts import functions as f\n",
    "from scripts import new_dynamics, new_dynamics2\n",
    "import os\n",
    "currentpath = os.getcwd()\n",
    "parentdir = os.path.dirname(currentpath)\n",
    "from conf import *"
   ]
  },
  {
   "cell_type": "code",
   "execution_count": 2,
   "id": "composite-priest",
   "metadata": {
    "scrolled": true
   },
   "outputs": [
    {
     "data": {
      "text/plain": [
       "<module 'netket' from '../netket/__init__.py'>"
      ]
     },
     "execution_count": 2,
     "metadata": {},
     "output_type": "execute_result"
    }
   ],
   "source": [
    "importlib.reload(nk)"
   ]
  },
  {
   "cell_type": "code",
   "execution_count": 6,
   "id": "realistic-highlight",
   "metadata": {},
   "outputs": [],
   "source": [
    "length = [4, 4]\n",
    "hex_ = nk.machine.new_hex(np.array(length))\n",
    "\n",
    "kernel = 1\n",
    "# sweep_size = 200\n",
    "decay_factor = 1  # or 'sigmoid decay'\n",
    "\n",
    "\n",
    "\n",
    "g = nk.graph.Graph(nodes = [i for i in range(length[0] * length[1] * 2)])\n",
    "hi = nk.hilbert.Spin(s=0.5, graph=g)\n",
    "\n",
    "\n",
    "\n",
    "op, ad2o_o, op_num, label_num  = f.dimer_flip1(length = np.array(length), return_info = True)\n",
    "\n",
    "ad2_bool = np.zeros([ad2o_o.shape[0], ad2o_o.shape[0]], dtype = np.bool)\n",
    "for l in range(ad2o_o.shape[0]):\n",
    "    label = ad2o_o[l]\n",
    "    for op_ in label:\n",
    "        ad2_bool[l,op_] = True\n",
    "\n",
    "\n"
   ]
  },
  {
   "cell_type": "code",
   "execution_count": 7,
   "id": "anticipated-priest",
   "metadata": {},
   "outputs": [
    {
     "name": "stdout",
     "output_type": "stream",
     "text": [
      "2\n"
     ]
    }
   ],
   "source": [
    "ma = nk.machine.RbmDimer(hi, hex_, alpha = 2, symmetry = True\n",
    "                    ,use_hidden_bias = False, use_visible_bias = False, dtype=float, reverse=True, half=True)\n",
    "ma.init_random_parameters(seed=1234)\n",
    "\n",
    "ma.hex.ad2o_o = ad2o_o.astype(np.int64)\n",
    "ma.hex.ad2_bool = ad2_bool"
   ]
  },
  {
   "cell_type": "code",
   "execution_count": 8,
   "id": "recognized-chambers",
   "metadata": {
    "scrolled": true
   },
   "outputs": [
    {
     "name": "stderr",
     "output_type": "stream",
     "text": [
      "\r",
      "  0%|          | 0/1000 [00:00<?, ?it/s]"
     ]
    },
    {
     "name": "stdout",
     "output_type": "stream",
     "text": [
      "yoyo\n",
      "number of core : 8\n",
      "discard =  144\n",
      "No output specified (out=[apath|nk.logging.JsonLogger(...)]).Running the optimization but not saving the output.\n",
      "n_discard =  144\n",
      "discard samples 0.07993626594543457\n",
      "n_samples_node =  1000\n",
      "generate_samples :  0.07679080963134766\n",
      "     prepare getting local values 0.0028989315032958984\n",
      "     obtained local values 0.008451461791992188\n",
      "get_mc_stats 0.011618375778198242\n"
     ]
    },
    {
     "name": "stderr",
     "output_type": "stream",
     "text": [
      "  0%|          | 1/1000 [00:00<03:27,  4.82it/s, Energy=-2.062+0.000j ± 0.017 [σ²=0.270]]"
     ]
    },
    {
     "name": "stdout",
     "output_type": "stream",
     "text": [
      "--->> cal O and jac  0.035674095153808594\n",
      "compute_update  0.03785538673400879\n",
      "(0.011203696557584061+0j)\n",
      "n_discard =  144\n",
      "discard samples 0.0821385383605957\n",
      "n_samples_node =  1000\n",
      "generate_samples :  0.06846809387207031\n",
      "     prepare getting local values 0.0014133453369140625\n",
      "     obtained local values 0.004926443099975586\n",
      "get_mc_stats 0.00676727294921875\n"
     ]
    },
    {
     "name": "stderr",
     "output_type": "stream",
     "text": [
      "  0%|          | 2/1000 [00:00<03:18,  5.03it/s, Energy=-2.068+0.000j ± 0.015 [σ²=0.205]]"
     ]
    },
    {
     "name": "stdout",
     "output_type": "stream",
     "text": [
      "--->> cal O and jac  0.030182361602783203\n",
      "compute_update  0.03264117240905762\n",
      "(0.024591400795620548+0j)\n",
      "n_discard =  144\n",
      "discard samples 0.07538056373596191\n",
      "n_samples_node =  1000\n",
      "generate_samples :  0.07244229316711426\n",
      "     prepare getting local values 0.0035119056701660156\n",
      "     obtained local values 0.009322166442871094\n",
      "get_mc_stats 0.01248621940612793\n"
     ]
    },
    {
     "name": "stderr",
     "output_type": "stream",
     "text": [
      "  0%|          | 3/1000 [00:00<03:16,  5.08it/s, Energy=-2.067+0.000j ± 0.011 [σ²=0.145]]"
     ]
    },
    {
     "name": "stdout",
     "output_type": "stream",
     "text": [
      "--->> cal O and jac  0.029261112213134766\n",
      "compute_update  0.03270840644836426\n",
      "(0.032057044102423354+0j)\n",
      "n_discard =  144\n",
      "discard samples 0.07827949523925781\n",
      "n_samples_node =  1000\n",
      "generate_samples :  0.0707859992980957\n",
      "     prepare getting local values 0.002575397491455078\n",
      "     obtained local values 0.00821375846862793\n",
      "get_mc_stats 0.01137995719909668\n"
     ]
    },
    {
     "name": "stderr",
     "output_type": "stream",
     "text": [
      "  0%|          | 4/1000 [00:00<03:15,  5.09it/s, Energy=-2.075+0.000j ± 0.010 [σ²=0.097]]"
     ]
    },
    {
     "name": "stdout",
     "output_type": "stream",
     "text": [
      "--->> cal O and jac  0.03078436851501465\n",
      "compute_update  0.032964229583740234\n",
      "(0.03736270254031846+0j)\n",
      "n_discard =  144\n",
      "discard samples 0.07906413078308105\n",
      "n_samples_node =  1000\n",
      "generate_samples :  0.0731651782989502\n",
      "     prepare getting local values 0.001957416534423828\n",
      "     obtained local values 0.0053975582122802734\n",
      "get_mc_stats 0.007939577102661133\n",
      "--->> cal O and jac  0.03377366065979004\n"
     ]
    },
    {
     "name": "stderr",
     "output_type": "stream",
     "text": [
      "  0%|          | 5/1000 [00:00<03:16,  5.06it/s, Energy=-2.0899+0.0000j ± 0.0079 [σ²=0.0723]]"
     ]
    },
    {
     "name": "stdout",
     "output_type": "stream",
     "text": [
      "compute_update  0.037360429763793945\n",
      "(0.04161086994122786+0j)\n",
      "n_discard =  144\n",
      "discard samples 0.07240915298461914\n",
      "n_samples_node =  1000\n",
      "generate_samples :  0.06375932693481445\n",
      "     prepare getting local values 0.0016124248504638672\n",
      "     obtained local values 0.00504302978515625\n",
      "get_mc_stats 0.006957292556762695\n"
     ]
    },
    {
     "name": "stderr",
     "output_type": "stream",
     "text": [
      "  1%|          | 6/1000 [00:01<03:11,  5.20it/s, Energy=-2.0957+0.0000j ± 0.0068 [σ²=0.0564]]"
     ]
    },
    {
     "name": "stdout",
     "output_type": "stream",
     "text": [
      "--->> cal O and jac  0.03354167938232422\n",
      "compute_update  0.03687453269958496\n",
      "(0.04487842805536158+0j)\n",
      "n_discard =  144\n",
      "discard samples 0.07853960990905762\n",
      "n_samples_node =  1000\n",
      "generate_samples :  0.06324553489685059\n",
      "     prepare getting local values 0.002226591110229492\n",
      "     obtained local values 0.005460023880004883\n",
      "get_mc_stats 0.008776664733886719\n"
     ]
    },
    {
     "name": "stderr",
     "output_type": "stream",
     "text": [
      "  1%|          | 7/1000 [00:01<03:11,  5.17it/s, Energy=-2.0764+0.0000j ± 0.0087 [σ²=0.0512]]"
     ]
    },
    {
     "name": "stdout",
     "output_type": "stream",
     "text": [
      "--->> cal O and jac  0.03810405731201172\n",
      "compute_update  0.0426483154296875\n",
      "(0.04737229762976173+0j)\n",
      "n_discard =  144\n",
      "discard samples 0.07088732719421387\n",
      "n_samples_node =  1000\n",
      "generate_samples :  0.06304645538330078\n",
      "     prepare getting local values 0.0026955604553222656\n",
      "     obtained local values 0.008071660995483398\n",
      "get_mc_stats 0.01051187515258789\n"
     ]
    },
    {
     "name": "stderr",
     "output_type": "stream",
     "text": [
      "  1%|          | 8/1000 [00:01<03:07,  5.29it/s, Energy=-2.0847+0.0000j ± 0.0074 [σ²=0.0400]]"
     ]
    },
    {
     "name": "stdout",
     "output_type": "stream",
     "text": [
      "--->> cal O and jac  0.03216910362243652\n",
      "compute_update  0.034271240234375\n",
      "(0.04948185919665145+0j)\n",
      "n_discard =  144\n",
      "discard samples 0.07095003128051758\n",
      "n_samples_node =  1000\n",
      "generate_samples :  0.0664670467376709\n",
      "     prepare getting local values 0.0016226768493652344\n",
      "     obtained local values 0.005029201507568359\n",
      "get_mc_stats 0.006535768508911133\n"
     ]
    },
    {
     "name": "stderr",
     "output_type": "stream",
     "text": [
      "  1%|          | 9/1000 [00:01<03:07,  5.29it/s, Energy=-2.0903+0.0000j ± 0.0061 [σ²=0.0344]]"
     ]
    },
    {
     "name": "stdout",
     "output_type": "stream",
     "text": [
      "--->> cal O and jac  0.03931093215942383\n",
      "compute_update  0.04157304763793945\n",
      "(0.051465190593092756+0j)\n",
      "n_discard =  144\n",
      "discard samples 0.07167863845825195\n",
      "n_samples_node =  1000\n",
      "generate_samples :  0.06700539588928223\n",
      "     prepare getting local values 0.0032911300659179688\n",
      "     obtained local values 0.009452581405639648\n",
      "get_mc_stats 0.012911796569824219\n"
     ]
    },
    {
     "name": "stderr",
     "output_type": "stream",
     "text": [
      "  1%|          | 10/1000 [00:01<03:05,  5.32it/s, Energy=-2.0910+0.0000j ± 0.0057 [σ²=0.0309]]"
     ]
    },
    {
     "name": "stdout",
     "output_type": "stream",
     "text": [
      "--->> cal O and jac  0.028165340423583984\n",
      "compute_update  0.0317530632019043\n",
      "(0.05302164755465802+0j)\n",
      "n_discard =  144\n",
      "discard samples 0.07351016998291016\n",
      "n_samples_node =  1000\n",
      "generate_samples :  0.06996583938598633\n",
      "     prepare getting local values 0.0032613277435302734\n",
      "     obtained local values 0.01014399528503418\n",
      "get_mc_stats 0.012768745422363281\n",
      "--->> cal O and jac  0.03794598579406738\n"
     ]
    },
    {
     "name": "stderr",
     "output_type": "stream",
     "text": [
      "  1%|          | 11/1000 [00:02<03:09,  5.22it/s, Energy=-2.0855+0.0000j ± 0.0055 [σ²=0.0269]]"
     ]
    },
    {
     "name": "stdout",
     "output_type": "stream",
     "text": [
      "compute_update  0.04072213172912598\n",
      "(0.0546350450118963+0j)\n",
      "n_discard =  144\n",
      "discard samples 0.07094478607177734\n",
      "n_samples_node =  1000\n",
      "generate_samples :  0.07603168487548828\n",
      "     prepare getting local values 0.0033817291259765625\n",
      "     obtained local values 0.007282257080078125\n",
      "get_mc_stats 0.010359048843383789\n"
     ]
    },
    {
     "name": "stderr",
     "output_type": "stream",
     "text": [
      "  1%|          | 12/1000 [00:02<03:10,  5.19it/s, Energy=-2.0914+0.0000j ± 0.0046 [σ²=0.0224]]"
     ]
    },
    {
     "name": "stdout",
     "output_type": "stream",
     "text": [
      "--->> cal O and jac  0.033470869064331055\n",
      "compute_update  0.03687119483947754\n",
      "(0.05618422435587832+0j)\n",
      "n_discard =  144\n",
      "discard samples 0.0714418888092041\n",
      "n_samples_node =  1000\n",
      "generate_samples :  0.0738685131072998\n",
      "     prepare getting local values 0.0033903121948242188\n",
      "     obtained local values 0.009879350662231445\n",
      "get_mc_stats 0.012945890426635742\n"
     ]
    },
    {
     "name": "stderr",
     "output_type": "stream",
     "text": [
      "  1%|▏         | 13/1000 [00:02<03:10,  5.18it/s, Energy=-2.0998+0.0000j ± 0.0045 [σ²=0.0197]]"
     ]
    },
    {
     "name": "stdout",
     "output_type": "stream",
     "text": [
      "--->> cal O and jac  0.03168320655822754\n",
      "compute_update  0.03382587432861328\n",
      "(0.05773977937608298+0j)\n",
      "n_discard =  144\n",
      "discard samples 0.07740545272827148\n",
      "n_samples_node =  1000\n",
      "generate_samples :  0.0751333236694336\n",
      "     prepare getting local values 0.003021717071533203\n",
      "     obtained local values 0.006314277648925781\n",
      "get_mc_stats 0.009383201599121094\n"
     ]
    },
    {
     "name": "stderr",
     "output_type": "stream",
     "text": [
      "  1%|▏         | 14/1000 [00:02<03:11,  5.15it/s, Energy=-2.0935+0.0000j ± 0.0037 [σ²=0.0173]]"
     ]
    },
    {
     "name": "stdout",
     "output_type": "stream",
     "text": [
      "--->> cal O and jac  0.029128313064575195\n",
      "compute_update  0.03169131278991699\n",
      "(0.05909348183757499+0j)\n",
      "n_discard =  144\n",
      "discard samples 0.0706334114074707\n",
      "n_samples_node =  1000\n",
      "generate_samples :  0.0715487003326416\n",
      "     prepare getting local values 0.0027844905853271484\n",
      "     obtained local values 0.009037494659423828\n",
      "get_mc_stats 0.01171731948852539\n"
     ]
    },
    {
     "name": "stderr",
     "output_type": "stream",
     "text": [
      "  2%|▏         | 15/1000 [00:02<03:10,  5.18it/s, Energy=-2.0965+0.0000j ± 0.0035 [σ²=0.0156]]"
     ]
    },
    {
     "name": "stdout",
     "output_type": "stream",
     "text": [
      "--->> cal O and jac  0.03309464454650879\n",
      "compute_update  0.035141944885253906\n",
      "(0.06026334100524767+0j)\n",
      "n_discard =  144\n",
      "discard samples 0.07241201400756836\n",
      "n_samples_node =  1000\n",
      "generate_samples :  0.07485604286193848\n",
      "     prepare getting local values 0.003381490707397461\n",
      "     obtained local values 0.007919788360595703\n",
      "get_mc_stats 0.010794401168823242\n"
     ]
    },
    {
     "name": "stderr",
     "output_type": "stream",
     "text": [
      "  2%|▏         | 16/1000 [00:03<03:10,  5.17it/s, Energy=-2.0954+0.0000j ± 0.0033 [σ²=0.0135]]"
     ]
    },
    {
     "name": "stdout",
     "output_type": "stream",
     "text": [
      "--->> cal O and jac  0.031543731689453125\n",
      "compute_update  0.0337071418762207\n",
      "(0.06136269167925104+0j)\n",
      "n_discard =  144\n",
      "discard samples 0.07018327713012695\n",
      "n_samples_node =  1000\n",
      "generate_samples :  0.0680856704711914\n",
      "     prepare getting local values 0.0034341812133789062\n",
      "     obtained local values 0.009629964828491211\n",
      "get_mc_stats 0.012854337692260742\n"
     ]
    },
    {
     "name": "stderr",
     "output_type": "stream",
     "text": [
      "  2%|▏         | 17/1000 [00:03<03:09,  5.18it/s, Energy=-2.0953+0.0000j ± 0.0030 [σ²=0.0115]]"
     ]
    },
    {
     "name": "stdout",
     "output_type": "stream",
     "text": [
      "--->> cal O and jac  0.03594660758972168\n",
      "compute_update  0.039217472076416016\n",
      "(0.062242753784293406+0j)\n",
      "n_discard =  144\n",
      "discard samples 0.07895326614379883\n",
      "n_samples_node =  1000\n",
      "generate_samples :  0.0667879581451416\n",
      "     prepare getting local values 0.003679990768432617\n",
      "     obtained local values 0.007326602935791016\n",
      "get_mc_stats 0.010626554489135742\n"
     ]
    },
    {
     "name": "stderr",
     "output_type": "stream",
     "text": [
      "\r",
      "  2%|▏         | 17/1000 [00:03<03:09,  5.18it/s, Energy=-2.0956+0.0000j ± 0.0028 [σ²=0.0102]]"
     ]
    },
    {
     "name": "stdout",
     "output_type": "stream",
     "text": [
      "--->> cal O and jac  0.03487849235534668\n",
      "compute_update  0.036989450454711914\n"
     ]
    },
    {
     "name": "stderr",
     "output_type": "stream",
     "text": [
      "\r",
      "  2%|▏         | 18/1000 [00:03<03:10,  5.15it/s, Energy=-2.0956+0.0000j ± 0.0028 [σ²=0.0102]]"
     ]
    },
    {
     "name": "stdout",
     "output_type": "stream",
     "text": [
      "(0.06244872926400415+0j)\n",
      "n_discard =  144\n",
      "discard samples 0.07291698455810547\n",
      "n_samples_node =  1000\n",
      "generate_samples :  0.06912779808044434\n",
      "     prepare getting local values 0.0018911361694335938\n",
      "     obtained local values 0.008362770080566406\n",
      "get_mc_stats 0.01049041748046875\n"
     ]
    },
    {
     "name": "stderr",
     "output_type": "stream",
     "text": [
      "\r",
      "  2%|▏         | 18/1000 [00:03<03:10,  5.15it/s, Energy=-2.0974+0.0000j ± 0.0027 [σ²=0.0095]]"
     ]
    },
    {
     "name": "stdout",
     "output_type": "stream",
     "text": [
      "--->> cal O and jac  0.039313316345214844\n",
      "compute_update  0.04292011260986328\n"
     ]
    },
    {
     "name": "stderr",
     "output_type": "stream",
     "text": [
      "\r",
      "  2%|▏         | 19/1000 [00:03<03:11,  5.13it/s, Energy=-2.0974+0.0000j ± 0.0027 [σ²=0.0095]]"
     ]
    },
    {
     "name": "stdout",
     "output_type": "stream",
     "text": [
      "(0.062410421626745656+0j)\n",
      "n_discard =  144\n",
      "discard samples 0.07805800437927246\n",
      "n_samples_node =  1000\n",
      "generate_samples :  0.06499099731445312\n",
      "     prepare getting local values 0.003657102584838867\n",
      "     obtained local values 0.007707834243774414\n",
      "get_mc_stats 0.011048078536987305\n"
     ]
    },
    {
     "name": "stderr",
     "output_type": "stream",
     "text": [
      "  2%|▏         | 20/1000 [00:03<03:09,  5.18it/s, Energy=-2.0971+0.0000j ± 0.0021 [σ²=0.0073]]"
     ]
    },
    {
     "name": "stdout",
     "output_type": "stream",
     "text": [
      "--->> cal O and jac  0.0288388729095459\n",
      "compute_update  0.03232550621032715\n",
      "(0.061977853297624313+0j)\n",
      "n_discard =  144\n",
      "discard samples 0.07779622077941895\n",
      "n_samples_node =  1000\n",
      "generate_samples :  0.07048964500427246\n",
      "     prepare getting local values 0.003373861312866211\n",
      "     obtained local values 0.006930828094482422\n",
      "get_mc_stats 0.010320425033569336\n",
      "--->> cal O and jac  0.03449583053588867\n"
     ]
    },
    {
     "name": "stderr",
     "output_type": "stream",
     "text": [
      "  2%|▏         | 21/1000 [00:04<03:10,  5.13it/s, Energy=-2.0995+0.0000j ± 0.0029 [σ²=0.0070]]"
     ]
    },
    {
     "name": "stdout",
     "output_type": "stream",
     "text": [
      "compute_update  0.03889322280883789\n",
      "(0.06184871365302338+0j)\n",
      "n_discard =  144\n",
      "discard samples 0.07038259506225586\n",
      "n_samples_node =  1000\n",
      "generate_samples :  0.06959962844848633\n",
      "     prepare getting local values 0.003470897674560547\n",
      "     obtained local values 0.00958871841430664\n",
      "get_mc_stats 0.01206064224243164\n"
     ]
    },
    {
     "name": "stderr",
     "output_type": "stream",
     "text": [
      "  2%|▏         | 22/1000 [00:04<03:09,  5.15it/s, Energy=-2.1022+0.0000j ± 0.0022 [σ²=0.0055]]"
     ]
    },
    {
     "name": "stdout",
     "output_type": "stream",
     "text": [
      "--->> cal O and jac  0.03319811820983887\n",
      "compute_update  0.03618931770324707\n",
      "(0.06157805299168813+0j)\n",
      "n_discard =  144\n",
      "discard samples 0.07683062553405762\n",
      "n_samples_node =  1000\n",
      "generate_samples :  0.07372474670410156\n",
      "     prepare getting local values 0.003466367721557617\n",
      "     obtained local values 0.008129119873046875\n",
      "get_mc_stats 0.011667490005493164\n",
      "--->> cal O and jac  0.032912492752075195\n"
     ]
    },
    {
     "name": "stderr",
     "output_type": "stream",
     "text": [
      "  2%|▏         | 23/1000 [00:04<03:11,  5.11it/s, Energy=-2.1036+0.0000j ± 0.0019 [σ²=0.0049]]"
     ]
    },
    {
     "name": "stdout",
     "output_type": "stream",
     "text": [
      "compute_update  0.03542590141296387\n",
      "(0.06121740873900104+0j)\n",
      "n_discard =  144\n",
      "discard samples 0.0767526626586914\n",
      "n_samples_node =  1000\n",
      "generate_samples :  0.07458877563476562\n",
      "     prepare getting local values 0.0036041736602783203\n",
      "     obtained local values 0.007987499237060547\n",
      "get_mc_stats 0.011307239532470703\n"
     ]
    },
    {
     "name": "stderr",
     "output_type": "stream",
     "text": [
      "  2%|▏         | 24/1000 [00:04<03:11,  5.10it/s, Energy=-2.0996+0.0000j ± 0.0021 [σ²=0.0043]]"
     ]
    },
    {
     "name": "stdout",
     "output_type": "stream",
     "text": [
      "--->> cal O and jac  0.029755592346191406\n",
      "compute_update  0.032518625259399414\n",
      "(0.06097279127734288+0j)\n",
      "n_discard =  144\n",
      "discard samples 0.07194662094116211\n",
      "n_samples_node =  1000\n",
      "generate_samples :  0.07504081726074219\n",
      "     prepare getting local values 0.0019834041595458984\n",
      "     obtained local values 0.008191108703613281\n",
      "get_mc_stats 0.011123180389404297\n"
     ]
    },
    {
     "name": "stderr",
     "output_type": "stream",
     "text": [
      "  2%|▎         | 25/1000 [00:04<03:12,  5.06it/s, Energy=-2.1010+0.0000j ± 0.0019 [σ²=0.0037]]"
     ]
    },
    {
     "name": "stdout",
     "output_type": "stream",
     "text": [
      "--->> cal O and jac  0.03942418098449707\n",
      "compute_update  0.041304826736450195\n",
      "(0.06068648599724495+0j)\n",
      "n_discard =  144\n",
      "discard samples 0.07169461250305176\n",
      "n_samples_node =  1000\n",
      "generate_samples :  0.07416844367980957\n",
      "     prepare getting local values 0.003106832504272461\n",
      "     obtained local values 0.009615659713745117\n",
      "get_mc_stats 0.012026548385620117\n"
     ]
    },
    {
     "name": "stderr",
     "output_type": "stream",
     "text": [
      "  3%|▎         | 26/1000 [00:05<03:11,  5.09it/s, Energy=-2.1022+0.0000j ± 0.0016 [σ²=0.0034]]"
     ]
    },
    {
     "name": "stdout",
     "output_type": "stream",
     "text": [
      "--->> cal O and jac  0.030880212783813477\n",
      "compute_update  0.03291463851928711\n",
      "(0.06043223748807232+0j)\n",
      "n_discard =  144\n",
      "discard samples 0.07342052459716797\n",
      "n_samples_node =  1000\n",
      "generate_samples :  0.07223677635192871\n",
      "     prepare getting local values 0.003524303436279297\n",
      "     obtained local values 0.010860919952392578\n",
      "get_mc_stats 0.013947725296020508\n"
     ]
    },
    {
     "name": "stderr",
     "output_type": "stream",
     "text": [
      "  3%|▎         | 27/1000 [00:05<03:12,  5.06it/s, Energy=-2.1046+0.0000j ± 0.0018 [σ²=0.0030]]"
     ]
    },
    {
     "name": "stdout",
     "output_type": "stream",
     "text": [
      "--->> cal O and jac  0.03754115104675293\n",
      "compute_update  0.03951311111450195\n",
      "(0.060100380200063745+0j)\n",
      "n_discard =  144\n",
      "discard samples 0.0726480484008789\n",
      "n_samples_node =  1000\n",
      "generate_samples :  0.07161951065063477\n",
      "     prepare getting local values 0.0024919509887695312\n",
      "     obtained local values 0.008639812469482422\n",
      "get_mc_stats 0.010958194732666016\n"
     ]
    },
    {
     "name": "stderr",
     "output_type": "stream",
     "text": [
      "  3%|▎         | 28/1000 [00:05<03:10,  5.09it/s, Energy=-2.1023+0.0000j ± 0.0018 [σ²=0.0031]]"
     ]
    },
    {
     "name": "stdout",
     "output_type": "stream",
     "text": [
      "--->> cal O and jac  0.03210115432739258\n",
      "compute_update  0.035887718200683594\n",
      "(0.05979872433020949+0j)\n",
      "n_discard =  144\n",
      "discard samples 0.07431507110595703\n",
      "n_samples_node =  1000\n",
      "generate_samples :  0.06850266456604004\n",
      "     prepare getting local values 0.0017418861389160156\n",
      "     obtained local values 0.005173921585083008\n",
      "get_mc_stats 0.0072748661041259766\n"
     ]
    },
    {
     "name": "stderr",
     "output_type": "stream",
     "text": [
      "  3%|▎         | 29/1000 [00:05<03:06,  5.21it/s, Energy=-2.1016+0.0000j ± 0.0015 [σ²=0.0028]]"
     ]
    },
    {
     "name": "stdout",
     "output_type": "stream",
     "text": [
      "--->> cal O and jac  0.027628183364868164\n",
      "compute_update  0.029898881912231445\n",
      "(0.05967558025836533+0j)\n",
      "n_discard =  144\n",
      "discard samples 0.07469058036804199\n",
      "n_samples_node =  1000\n",
      "generate_samples :  0.06861758232116699\n",
      "     prepare getting local values 0.002908468246459961\n",
      "     obtained local values 0.006264209747314453\n",
      "get_mc_stats 0.00950002670288086\n"
     ]
    },
    {
     "name": "stderr",
     "output_type": "stream",
     "text": [
      "  3%|▎         | 30/1000 [00:05<03:05,  5.24it/s, Energy=-2.1002+0.0000j ± 0.0020 [σ²=0.0026]]"
     ]
    },
    {
     "name": "stdout",
     "output_type": "stream",
     "text": [
      "--->> cal O and jac  0.030701160430908203\n",
      "compute_update  0.033043861389160156\n",
      "(0.05966720675752715+0j)\n",
      "n_discard =  144\n",
      "discard samples 0.08180046081542969\n",
      "n_samples_node =  1000\n",
      "generate_samples :  0.07210612297058105\n",
      "     prepare getting local values 0.004029989242553711\n",
      "     obtained local values 0.009355306625366211\n",
      "get_mc_stats 0.012511730194091797\n"
     ]
    },
    {
     "name": "stderr",
     "output_type": "stream",
     "text": [
      "  3%|▎         | 31/1000 [00:06<03:09,  5.11it/s, Energy=-2.1018+0.0000j ± 0.0018 [σ²=0.0026]]"
     ]
    },
    {
     "name": "stdout",
     "output_type": "stream",
     "text": [
      "--->> cal O and jac  0.03523969650268555\n",
      "compute_update  0.03850388526916504\n",
      "(0.059634067368802286+0j)\n",
      "n_discard =  144\n",
      "discard samples 0.07728362083435059\n",
      "n_samples_node =  1000\n",
      "generate_samples :  0.0688161849975586\n",
      "     prepare getting local values 0.0034711360931396484\n",
      "     obtained local values 0.007132768630981445\n",
      "get_mc_stats 0.01014256477355957\n"
     ]
    },
    {
     "name": "stderr",
     "output_type": "stream",
     "text": [
      "  3%|▎         | 32/1000 [00:06<03:09,  5.11it/s, Energy=-2.1022+0.0000j ± 0.0015 [σ²=0.0026]]"
     ]
    },
    {
     "name": "stdout",
     "output_type": "stream",
     "text": [
      "--->> cal O and jac  0.03340792655944824\n",
      "compute_update  0.03663825988769531\n",
      "(0.05969710718393242+0j)\n",
      "n_discard =  144\n",
      "discard samples 0.07676911354064941\n",
      "n_samples_node =  1000\n",
      "generate_samples :  0.07567119598388672\n",
      "     prepare getting local values 0.0021135807037353516\n",
      "     obtained local values 0.005860328674316406\n",
      "get_mc_stats 0.008546590805053711\n"
     ]
    },
    {
     "name": "stderr",
     "output_type": "stream",
     "text": [
      "  3%|▎         | 33/1000 [00:06<03:10,  5.07it/s, Energy=-2.1060+0.0000j ± 0.0014 [σ²=0.0023]]"
     ]
    },
    {
     "name": "stdout",
     "output_type": "stream",
     "text": [
      "--->> cal O and jac  0.034353017807006836\n",
      "compute_update  0.037407875061035156\n",
      "(0.059733487004215116+0j)\n",
      "n_discard =  144\n",
      "discard samples 0.07286453247070312\n",
      "n_samples_node =  1000\n",
      "generate_samples :  0.06701278686523438\n",
      "     prepare getting local values 0.0028901100158691406\n",
      "     obtained local values 0.008031606674194336\n",
      "get_mc_stats 0.011016607284545898\n"
     ]
    },
    {
     "name": "stderr",
     "output_type": "stream",
     "text": [
      "  3%|▎         | 34/1000 [00:06<03:09,  5.11it/s, Energy=-2.1051+0.0000j ± 0.0010 [σ²=0.0022]]"
     ]
    },
    {
     "name": "stdout",
     "output_type": "stream",
     "text": [
      "--->> cal O and jac  0.037175893783569336\n",
      "compute_update  0.03935980796813965\n",
      "(0.05974659696825042+0j)\n",
      "n_discard =  144\n",
      "discard samples 0.07412075996398926\n",
      "n_samples_node =  1000\n",
      "generate_samples :  0.07458233833312988\n",
      "     prepare getting local values 0.0021278858184814453\n",
      "     obtained local values 0.005986690521240234\n",
      "get_mc_stats 0.009653091430664062\n"
     ]
    },
    {
     "name": "stderr",
     "output_type": "stream",
     "text": [
      "  4%|▎         | 35/1000 [00:06<03:09,  5.11it/s, Energy=-2.1026+0.0000j ± 0.0014 [σ²=0.0019]]"
     ]
    },
    {
     "name": "stdout",
     "output_type": "stream",
     "text": [
      "--->> cal O and jac  0.03316164016723633\n",
      "compute_update  0.03605914115905762\n",
      "(0.05982475650248363+0j)\n",
      "n_discard =  144\n",
      "discard samples 0.07380318641662598\n",
      "n_samples_node =  1000\n",
      "generate_samples :  0.07137179374694824\n",
      "     prepare getting local values 0.0017418861389160156\n",
      "     obtained local values 0.005164384841918945\n",
      "get_mc_stats 0.007463932037353516\n"
     ]
    },
    {
     "name": "stderr",
     "output_type": "stream",
     "text": [
      "  4%|▎         | 36/1000 [00:06<03:06,  5.18it/s, Energy=-2.1022+0.0000j ± 0.0011 [σ²=0.0020]]"
     ]
    },
    {
     "name": "stdout",
     "output_type": "stream",
     "text": [
      "--->> cal O and jac  0.028541088104248047\n",
      "compute_update  0.0321810245513916\n",
      "(0.05981931685912002+0j)\n",
      "n_discard =  144\n",
      "discard samples 0.07471799850463867\n",
      "n_samples_node =  1000\n",
      "generate_samples :  0.06829524040222168\n",
      "     prepare getting local values 0.003541231155395508\n",
      "     obtained local values 0.007023811340332031\n",
      "get_mc_stats 0.009943723678588867\n"
     ]
    },
    {
     "name": "stderr",
     "output_type": "stream",
     "text": [
      "  4%|▎         | 37/1000 [00:07<03:05,  5.19it/s, Energy=-2.1032+0.0000j ± 0.0012 [σ²=0.0019]]"
     ]
    },
    {
     "name": "stdout",
     "output_type": "stream",
     "text": [
      "--->> cal O and jac  0.03360295295715332\n",
      "compute_update  0.03637981414794922\n",
      "(0.05985829147743449+0j)\n",
      "n_discard =  144\n",
      "discard samples 0.07475996017456055\n",
      "n_samples_node =  1000\n",
      "generate_samples :  0.06921672821044922\n",
      "     prepare getting local values 0.0035147666931152344\n",
      "     obtained local values 0.006971120834350586\n",
      "get_mc_stats 0.009999275207519531\n"
     ]
    },
    {
     "name": "stderr",
     "output_type": "stream",
     "text": [
      "  4%|▍         | 38/1000 [00:07<03:03,  5.23it/s, Energy=-2.1033+0.0000j ± 0.0013 [σ²=0.0016]]"
     ]
    },
    {
     "name": "stdout",
     "output_type": "stream",
     "text": [
      "--->> cal O and jac  0.029454946517944336\n",
      "compute_update  0.031615257263183594\n",
      "(0.05992787024929259+0j)\n",
      "n_discard =  144\n",
      "discard samples 0.07567095756530762\n",
      "n_samples_node =  1000\n",
      "generate_samples :  0.07239198684692383\n",
      "     prepare getting local values 0.0016779899597167969\n",
      "     obtained local values 0.0050356388092041016\n",
      "get_mc_stats 0.007281780242919922\n"
     ]
    },
    {
     "name": "stderr",
     "output_type": "stream",
     "text": [
      "  4%|▍         | 39/1000 [00:07<03:05,  5.18it/s, Energy=-2.1039+0.0000j ± 0.0014 [σ²=0.0018]]"
     ]
    },
    {
     "name": "stdout",
     "output_type": "stream",
     "text": [
      "--->> cal O and jac  0.036302804946899414\n",
      "compute_update  0.03976917266845703\n",
      "(0.05999359086021595+0j)\n",
      "n_discard =  144\n",
      "discard samples 0.07727813720703125\n",
      "n_samples_node =  1000\n",
      "generate_samples :  0.06756591796875\n",
      "     prepare getting local values 0.002691507339477539\n",
      "     obtained local values 0.006091594696044922\n",
      "get_mc_stats 0.009357213973999023\n",
      "--->> cal O and jac  0.03899645805358887\n"
     ]
    },
    {
     "name": "stderr",
     "output_type": "stream",
     "text": [
      "  4%|▍         | 40/1000 [00:07<03:07,  5.13it/s, Energy=-2.10568+0.00000j ± 0.00095 [σ²=0.00151]]"
     ]
    },
    {
     "name": "stdout",
     "output_type": "stream",
     "text": [
      "compute_update  0.04299426078796387\n",
      "(0.060093665105670636+0j)\n",
      "n_discard =  144\n",
      "discard samples 0.0768742561340332\n",
      "n_samples_node =  1000\n",
      "generate_samples :  0.07246160507202148\n",
      "     prepare getting local values 0.0017685890197753906\n",
      "     obtained local values 0.00876307487487793\n",
      "get_mc_stats 0.011404991149902344\n",
      "--->> cal O and jac  0.034827470779418945\n"
     ]
    },
    {
     "name": "stderr",
     "output_type": "stream",
     "text": [
      "  4%|▍         | 41/1000 [00:07<03:08,  5.08it/s, Energy=-2.1040+0.0000j ± 0.0012 [σ²=0.0015]]    "
     ]
    },
    {
     "name": "stdout",
     "output_type": "stream",
     "text": [
      "compute_update  0.03834891319274902\n",
      "(0.060145314014235944+0j)\n",
      "n_discard =  144\n",
      "discard samples 0.08278036117553711\n",
      "n_samples_node =  1000\n",
      "generate_samples :  0.07685017585754395\n",
      "     prepare getting local values 0.0030133724212646484\n",
      "     obtained local values 0.006525754928588867\n",
      "get_mc_stats 0.009324073791503906\n",
      "--->> cal O and jac  0.029523611068725586\n"
     ]
    },
    {
     "name": "stderr",
     "output_type": "stream",
     "text": [
      "  4%|▍         | 42/1000 [00:08<03:10,  5.03it/s, Energy=-2.1042+0.0000j ± 0.0011 [σ²=0.0015]]"
     ]
    },
    {
     "name": "stdout",
     "output_type": "stream",
     "text": [
      "compute_update  0.03252673149108887\n",
      "(0.06018890078495398+0j)\n",
      "n_discard =  144\n",
      "discard samples 0.07161879539489746\n",
      "n_samples_node =  1000\n",
      "generate_samples :  0.07341217994689941\n",
      "     prepare getting local values 0.0016646385192871094\n",
      "     obtained local values 0.005039691925048828\n",
      "get_mc_stats 0.007492542266845703\n"
     ]
    },
    {
     "name": "stderr",
     "output_type": "stream",
     "text": [
      "  4%|▍         | 43/1000 [00:08<03:07,  5.09it/s, Energy=-2.10462+0.00000j ± 0.00090 [σ²=0.00140]]"
     ]
    },
    {
     "name": "stdout",
     "output_type": "stream",
     "text": [
      "--->> cal O and jac  0.0325927734375\n",
      "compute_update  0.0354769229888916\n",
      "(0.060213081605157155+0j)\n",
      "n_discard =  144\n",
      "discard samples 0.07839751243591309\n",
      "n_samples_node =  1000\n",
      "generate_samples :  0.07590031623840332\n",
      "     prepare getting local values 0.0022470951080322266\n",
      "     obtained local values 0.005747795104980469\n",
      "get_mc_stats 0.007939338684082031\n",
      "--->> cal O and jac  0.03165769577026367\n"
     ]
    },
    {
     "name": "stderr",
     "output_type": "stream",
     "text": [
      "  4%|▍         | 44/1000 [00:08<03:08,  5.08it/s, Energy=-2.1046+0.0000j ± 0.0010 [σ²=0.0013]]    "
     ]
    },
    {
     "name": "stdout",
     "output_type": "stream",
     "text": [
      "compute_update  0.03422260284423828\n",
      "(0.060233680025409894+0j)\n",
      "n_discard =  144\n",
      "discard samples 0.07708287239074707\n",
      "n_samples_node =  1000\n",
      "generate_samples :  0.07132315635681152\n",
      "     prepare getting local values 0.0034928321838378906\n",
      "     obtained local values 0.009815454483032227\n",
      "get_mc_stats 0.012958526611328125\n"
     ]
    },
    {
     "name": "stderr",
     "output_type": "stream",
     "text": [
      "  4%|▍         | 45/1000 [00:08<03:07,  5.09it/s, Energy=-2.10485+0.00000j ± 0.00073 [σ²=0.00134]]"
     ]
    },
    {
     "name": "stdout",
     "output_type": "stream",
     "text": [
      "--->> cal O and jac  0.029149532318115234\n",
      "compute_update  0.031219005584716797\n",
      "(0.06025413020619272+0j)\n",
      "n_discard =  144\n",
      "discard samples 0.0740823745727539\n",
      "n_samples_node =  1000\n",
      "generate_samples :  0.06925320625305176\n",
      "     prepare getting local values 0.0031778812408447266\n",
      "     obtained local values 0.006598711013793945\n",
      "get_mc_stats 0.009953022003173828\n"
     ]
    },
    {
     "name": "stderr",
     "output_type": "stream",
     "text": [
      "  5%|▍         | 46/1000 [00:08<03:06,  5.11it/s, Energy=-2.10292+0.00000j ± 0.00096 [σ²=0.00127]]"
     ]
    },
    {
     "name": "stdout",
     "output_type": "stream",
     "text": [
      "--->> cal O and jac  0.03420710563659668\n",
      "compute_update  0.03792595863342285\n",
      "(0.06031800428147864+0j)\n",
      "n_discard =  144\n",
      "discard samples 0.07498502731323242\n",
      "n_samples_node =  1000\n",
      "generate_samples :  0.07196497917175293\n",
      "     prepare getting local values 0.0034813880920410156\n",
      "     obtained local values 0.008933782577514648\n",
      "get_mc_stats 0.011809110641479492\n",
      "--->> cal O and jac  0.03512430191040039\n"
     ]
    },
    {
     "name": "stderr",
     "output_type": "stream",
     "text": [
      "  5%|▍         | 47/1000 [00:09<03:07,  5.08it/s, Energy=-2.1038+0.0000j ± 0.0011 [σ²=0.0014]]    "
     ]
    },
    {
     "name": "stdout",
     "output_type": "stream",
     "text": [
      "compute_update  0.0385899543762207\n",
      "(0.060388095490436625+0j)\n",
      "n_discard =  144\n",
      "discard samples 0.0700688362121582\n",
      "n_samples_node =  1000\n",
      "generate_samples :  0.0739586353302002\n",
      "     prepare getting local values 0.0028612613677978516\n",
      "     obtained local values 0.008701801300048828\n",
      "get_mc_stats 0.011389493942260742\n"
     ]
    },
    {
     "name": "stderr",
     "output_type": "stream",
     "text": [
      "\r",
      "  5%|▍         | 47/1000 [00:09<03:07,  5.08it/s, Energy=-2.1046+0.0000j ± 0.0011 [σ²=0.0012]]"
     ]
    },
    {
     "name": "stdout",
     "output_type": "stream",
     "text": [
      "--->> cal O and jac  0.0358579158782959\n",
      "compute_update  0.03919029235839844\n"
     ]
    },
    {
     "name": "stderr",
     "output_type": "stream",
     "text": [
      "\r",
      "  5%|▍         | 48/1000 [00:09<03:07,  5.08it/s, Energy=-2.1046+0.0000j ± 0.0011 [σ²=0.0012]]"
     ]
    },
    {
     "name": "stdout",
     "output_type": "stream",
     "text": [
      "(0.06041957424595704+0j)\n",
      "n_discard =  144\n",
      "discard samples 0.07892036437988281\n",
      "n_samples_node =  1000\n",
      "generate_samples :  0.07222962379455566\n",
      "     prepare getting local values 0.004145145416259766\n",
      "     obtained local values 0.008178234100341797\n",
      "get_mc_stats 0.01164102554321289\n",
      "--->> cal O and jac "
     ]
    },
    {
     "name": "stderr",
     "output_type": "stream",
     "text": [
      "  5%|▍         | 49/1000 [00:09<03:08,  5.05it/s, Energy=-2.1059+0.0000j ± 0.0011 [σ²=0.0012]]"
     ]
    },
    {
     "name": "stdout",
     "output_type": "stream",
     "text": [
      " 0.03241920471191406\n",
      "compute_update  0.036046504974365234\n",
      "(0.060363984303907665+0j)\n",
      "n_discard =  144\n",
      "discard samples 0.07870864868164062\n",
      "n_samples_node =  1000\n",
      "generate_samples :  0.07064962387084961\n",
      "     prepare getting local values 0.0038461685180664062\n",
      "     obtained local values 0.010453462600708008\n",
      "get_mc_stats 0.013841867446899414\n"
     ]
    },
    {
     "name": "stderr",
     "output_type": "stream",
     "text": [
      "\r",
      "  5%|▍         | 49/1000 [00:09<03:08,  5.05it/s, Energy=-2.10467+0.00000j ± 0.00091 [σ²=0.00119]]"
     ]
    },
    {
     "name": "stdout",
     "output_type": "stream",
     "text": [
      "--->> cal O and jac  0.029002666473388672\n",
      "compute_update  0.031301259994506836\n"
     ]
    },
    {
     "name": "stderr",
     "output_type": "stream",
     "text": [
      "\r",
      "  5%|▌         | 50/1000 [00:09<03:07,  5.06it/s, Energy=-2.10467+0.00000j ± 0.00091 [σ²=0.00119]]"
     ]
    },
    {
     "name": "stdout",
     "output_type": "stream",
     "text": [
      "(0.060403825877545565+0j)\n",
      "n_discard =  144\n",
      "discard samples 0.07499194145202637\n",
      "n_samples_node =  1000\n",
      "generate_samples :  0.06994295120239258\n",
      "     prepare getting local values 0.0024585723876953125\n",
      "     obtained local values 0.005999565124511719\n",
      "get_mc_stats 0.010637998580932617\n"
     ]
    },
    {
     "name": "stderr",
     "output_type": "stream",
     "text": [
      "  5%|▌         | 51/1000 [00:09<03:06,  5.09it/s, Energy=-2.10409+0.00000j ± 0.00089 [σ²=0.00118]]"
     ]
    },
    {
     "name": "stdout",
     "output_type": "stream",
     "text": [
      "--->> cal O and jac  0.033591508865356445\n",
      "compute_update  0.03570127487182617\n",
      "(0.06045448692058809+0j)\n",
      "n_discard =  144\n",
      "discard samples 0.07642960548400879\n",
      "n_samples_node =  1000\n",
      "generate_samples :  0.07005524635314941\n",
      "     prepare getting local values 0.0035092830657958984\n",
      "     obtained local values 0.008886575698852539\n",
      "get_mc_stats 0.011904478073120117\n"
     ]
    },
    {
     "name": "stderr",
     "output_type": "stream",
     "text": [
      "  5%|▌         | 52/1000 [00:10<03:08,  5.02it/s, Energy=-2.10415+0.00000j ± 0.00082 [σ²=0.00106]]"
     ]
    },
    {
     "name": "stdout",
     "output_type": "stream",
     "text": [
      "--->> cal O and jac  0.04202556610107422\n",
      "compute_update  0.04553341865539551\n",
      "(0.06048908693850317+0j)\n",
      "n_discard =  144\n",
      "discard samples 0.07629680633544922\n",
      "n_samples_node =  1000\n",
      "generate_samples :  0.07171368598937988\n",
      "     prepare getting local values 0.003724336624145508\n",
      "     obtained local values 0.007132768630981445\n",
      "get_mc_stats 0.01019597053527832\n"
     ]
    },
    {
     "name": "stderr",
     "output_type": "stream",
     "text": [
      "  5%|▌         | 53/1000 [00:10<03:07,  5.05it/s, Energy=-2.10608+0.00000j ± 0.00065 [σ²=0.00100]]"
     ]
    },
    {
     "name": "stdout",
     "output_type": "stream",
     "text": [
      "--->> cal O and jac  0.032472848892211914\n",
      "compute_update  0.03462386131286621\n",
      "(0.06053518042996469+0j)\n",
      "n_discard =  144\n",
      "discard samples 0.07038450241088867\n",
      "n_samples_node =  1000\n",
      "generate_samples :  0.07441592216491699\n",
      "     prepare getting local values 0.003512144088745117\n",
      "     obtained local values 0.00710606575012207\n",
      "get_mc_stats 0.010385751724243164\n"
     ]
    },
    {
     "name": "stderr",
     "output_type": "stream",
     "text": [
      "  5%|▌         | 54/1000 [00:10<03:06,  5.08it/s, Energy=-2.1058+0.0000j ± 0.0010 [σ²=0.0011]]    "
     ]
    },
    {
     "name": "stdout",
     "output_type": "stream",
     "text": [
      "--->> cal O and jac  0.03486990928649902\n",
      "compute_update  0.0372004508972168\n",
      "(0.060618975642768844+0j)\n",
      "n_discard =  144\n",
      "discard samples 0.07518124580383301\n",
      "n_samples_node =  1000\n",
      "generate_samples :  0.07330107688903809\n",
      "     prepare getting local values 0.0020182132720947266\n",
      "     obtained local values 0.005418300628662109\n",
      "get_mc_stats 0.007626533508300781\n"
     ]
    },
    {
     "name": "stderr",
     "output_type": "stream",
     "text": [
      "  6%|▌         | 55/1000 [00:10<03:04,  5.12it/s, Energy=-2.1025+0.0000j ± 0.0010 [σ²=0.0011]]"
     ]
    },
    {
     "name": "stdout",
     "output_type": "stream",
     "text": [
      "--->> cal O and jac  0.029625654220581055\n",
      "compute_update  0.03297615051269531\n",
      "(0.06072675336370401+0j)\n",
      "n_discard =  144\n",
      "discard samples 0.07998442649841309\n",
      "n_samples_node =  1000\n",
      "generate_samples :  0.07096600532531738\n",
      "     prepare getting local values 0.003635883331298828\n",
      "     obtained local values 0.01019597053527832\n",
      "get_mc_stats 0.013584613800048828\n"
     ]
    },
    {
     "name": "stderr",
     "output_type": "stream",
     "text": [
      "  6%|▌         | 56/1000 [00:10<03:08,  5.02it/s, Energy=-2.10491+0.00000j ± 0.00084 [σ²=0.00097]]"
     ]
    },
    {
     "name": "stdout",
     "output_type": "stream",
     "text": [
      "--->> cal O and jac  0.03857135772705078\n",
      "compute_update  0.042014122009277344\n",
      "(0.06080458943810276+0j)\n",
      "n_discard =  144\n",
      "discard samples 0.07426738739013672\n",
      "n_samples_node =  1000\n",
      "generate_samples :  0.07854175567626953\n",
      "     prepare getting local values 0.0037994384765625\n",
      "     obtained local values 0.010349273681640625\n",
      "get_mc_stats 0.013135671615600586\n"
     ]
    },
    {
     "name": "stderr",
     "output_type": "stream",
     "text": [
      "  6%|▌         | 57/1000 [00:11<03:09,  4.99it/s, Energy=-2.10382+0.00000j ± 0.00087 [σ²=0.00095]]"
     ]
    },
    {
     "name": "stdout",
     "output_type": "stream",
     "text": [
      "--->> cal O and jac  0.03338336944580078\n",
      "compute_update  0.03556561470031738\n",
      "(0.060924172202670004+0j)\n",
      "n_discard =  144\n",
      "discard samples 0.0731654167175293\n",
      "n_samples_node =  1000\n",
      "generate_samples :  0.07687258720397949\n",
      "     prepare getting local values 0.002076864242553711\n",
      "     obtained local values 0.0056459903717041016\n",
      "get_mc_stats 0.008409738540649414\n"
     ]
    },
    {
     "name": "stderr",
     "output_type": "stream",
     "text": [
      "\r",
      "  6%|▌         | 57/1000 [00:11<03:09,  4.99it/s, Energy=-2.10504+0.00000j ± 0.00069 [σ²=0.00079]]"
     ]
    },
    {
     "name": "stdout",
     "output_type": "stream",
     "text": [
      "--->> cal O and jac  0.03365373611450195\n",
      "compute_update  0.03720736503601074\n"
     ]
    },
    {
     "name": "stderr",
     "output_type": "stream",
     "text": [
      "\r",
      "  6%|▌         | 58/1000 [00:11<03:08,  5.01it/s, Energy=-2.10504+0.00000j ± 0.00069 [σ²=0.00079]]"
     ]
    },
    {
     "name": "stdout",
     "output_type": "stream",
     "text": [
      "(0.060974822427891574+0j)\n",
      "n_discard =  144\n",
      "discard samples 0.07826972007751465\n",
      "n_samples_node =  1000\n",
      "generate_samples :  0.07131600379943848\n",
      "     prepare getting local values 0.002129077911376953\n",
      "     obtained local values 0.008356094360351562\n",
      "get_mc_stats 0.01061248779296875\n",
      "--->> cal O and jac  0.03306722640991211\n"
     ]
    },
    {
     "name": "stderr",
     "output_type": "stream",
     "text": [
      "  6%|▌         | 59/1000 [00:11<03:07,  5.02it/s, Energy=-2.10548+0.00000j ± 0.00076 [σ²=0.00087]]"
     ]
    },
    {
     "name": "stdout",
     "output_type": "stream",
     "text": [
      "compute_update  0.035767555236816406\n",
      "(0.06103460821196938+0j)\n",
      "n_discard =  144\n",
      "discard samples 0.0743253231048584\n",
      "n_samples_node =  1000\n",
      "generate_samples :  0.07139897346496582\n",
      "     prepare getting local values 0.003553628921508789\n",
      "     obtained local values 0.009366035461425781\n",
      "get_mc_stats 0.012631654739379883\n",
      "--->> cal O and jac  0.03533124923706055\n"
     ]
    },
    {
     "name": "stderr",
     "output_type": "stream",
     "text": [
      "  6%|▌         | 60/1000 [00:11<03:07,  5.01it/s, Energy=-2.10481+0.00000j ± 0.00074 [σ²=0.00071]]"
     ]
    },
    {
     "name": "stdout",
     "output_type": "stream",
     "text": [
      "compute_update  0.03911471366882324\n",
      "(0.06111398477318349+0j)\n",
      "n_discard =  144\n",
      "discard samples 0.07632756233215332\n",
      "n_samples_node =  1000\n",
      "generate_samples :  0.06653928756713867\n",
      "     prepare getting local values 0.0017647743225097656\n",
      "     obtained local values 0.005232810974121094\n",
      "get_mc_stats 0.007832050323486328\n"
     ]
    },
    {
     "name": "stderr",
     "output_type": "stream",
     "text": [
      "  6%|▌         | 61/1000 [00:11<03:05,  5.06it/s, Energy=-2.10533+0.00000j ± 0.00066 [σ²=0.00066]]"
     ]
    },
    {
     "name": "stdout",
     "output_type": "stream",
     "text": [
      "--->> cal O and jac  0.03911280632019043\n",
      "compute_update  0.04121661186218262\n",
      "(0.061199228118334774+0j)\n",
      "n_discard =  144\n",
      "discard samples 0.0744476318359375\n",
      "n_samples_node =  1000\n",
      "generate_samples :  0.0691981315612793\n",
      "     prepare getting local values 0.002839803695678711\n",
      "     obtained local values 0.0069043636322021484\n",
      "get_mc_stats 0.009451866149902344\n"
     ]
    },
    {
     "name": "stderr",
     "output_type": "stream",
     "text": [
      "  6%|▌         | 62/1000 [00:12<03:04,  5.10it/s, Energy=-2.10408+0.00000j ± 0.00063 [σ²=0.00061]]"
     ]
    },
    {
     "name": "stdout",
     "output_type": "stream",
     "text": [
      "--->> cal O and jac  0.03347134590148926\n",
      "compute_update  0.03671407699584961\n",
      "(0.06131187381614814+0j)\n",
      "n_discard =  144\n",
      "discard samples 0.08063888549804688\n",
      "n_samples_node =  1000\n",
      "generate_samples :  0.06825399398803711\n",
      "     prepare getting local values 0.002131938934326172\n",
      "     obtained local values 0.005429983139038086\n",
      "get_mc_stats 0.007114887237548828\n"
     ]
    },
    {
     "name": "stderr",
     "output_type": "stream",
     "text": [
      "  6%|▋         | 63/1000 [00:12<03:03,  5.10it/s, Energy=-2.10425+0.00000j ± 0.00070 [σ²=0.00064]]"
     ]
    },
    {
     "name": "stdout",
     "output_type": "stream",
     "text": [
      "--->> cal O and jac  0.033655405044555664\n",
      "compute_update  0.03680562973022461\n",
      "(0.06140475728856722+0j)\n",
      "n_discard =  144\n",
      "discard samples 0.07853436470031738\n",
      "n_samples_node =  1000\n",
      "generate_samples :  0.07415580749511719\n",
      "     prepare getting local values 0.0038504600524902344\n",
      "     obtained local values 0.009707450866699219\n",
      "get_mc_stats 0.012744903564453125\n"
     ]
    },
    {
     "name": "stderr",
     "output_type": "stream",
     "text": [
      "  6%|▋         | 64/1000 [00:12<03:06,  5.03it/s, Energy=-2.10453+0.00000j ± 0.00075 [σ²=0.00060]]"
     ]
    },
    {
     "name": "stdout",
     "output_type": "stream",
     "text": [
      "--->> cal O and jac  0.036530494689941406\n",
      "compute_update  0.03856062889099121\n",
      "(0.06152404096845411+0j)\n",
      "n_discard =  144\n",
      "discard samples 0.07249641418457031\n",
      "n_samples_node =  1000\n",
      "generate_samples :  0.07361149787902832\n",
      "     prepare getting local values 0.0027964115142822266\n",
      "     obtained local values 0.006357431411743164\n",
      "get_mc_stats 0.010180473327636719\n"
     ]
    },
    {
     "name": "stderr",
     "output_type": "stream",
     "text": [
      "  6%|▋         | 65/1000 [00:12<03:05,  5.04it/s, Energy=-2.10528+0.00000j ± 0.00057 [σ²=0.00057]]"
     ]
    },
    {
     "name": "stdout",
     "output_type": "stream",
     "text": [
      "--->> cal O and jac  0.03584575653076172\n",
      "compute_update  0.039150238037109375\n",
      "(0.061614161777021594+0j)\n",
      "n_discard =  144\n",
      "discard samples 0.07943415641784668\n",
      "n_samples_node =  1000\n",
      "generate_samples :  0.07045269012451172\n",
      "     prepare getting local values 0.0023512840270996094\n",
      "     obtained local values 0.006467580795288086\n",
      "get_mc_stats 0.008828401565551758\n"
     ]
    },
    {
     "name": "stderr",
     "output_type": "stream",
     "text": [
      "\r",
      "  6%|▋         | 65/1000 [00:12<03:05,  5.04it/s, Energy=-2.10455+0.00000j ± 0.00068 [σ²=0.00049]]"
     ]
    },
    {
     "name": "stdout",
     "output_type": "stream",
     "text": [
      "--->> cal O and jac  0.03351855278015137\n",
      "compute_update  0.0358731746673584\n"
     ]
    },
    {
     "name": "stderr",
     "output_type": "stream",
     "text": [
      "\r",
      "  7%|▋         | 66/1000 [00:12<03:05,  5.05it/s, Energy=-2.10455+0.00000j ± 0.00068 [σ²=0.00049]]"
     ]
    },
    {
     "name": "stdout",
     "output_type": "stream",
     "text": [
      "(0.061716738941407896+0j)\n",
      "n_discard =  144\n",
      "discard samples 0.08141326904296875\n",
      "n_samples_node =  1000\n",
      "generate_samples :  0.07113075256347656\n",
      "     prepare getting local values 0.004024028778076172\n",
      "     obtained local values 0.008037090301513672\n",
      "get_mc_stats 0.010899543762207031\n",
      "--->> cal O and jac  0.03480100631713867\n"
     ]
    },
    {
     "name": "stderr",
     "output_type": "stream",
     "text": [
      "  7%|▋         | 67/1000 [00:13<03:06,  5.01it/s, Energy=-2.10533+0.00000j ± 0.00059 [σ²=0.00051]]"
     ]
    },
    {
     "name": "stdout",
     "output_type": "stream",
     "text": [
      "compute_update  0.03798818588256836\n",
      "(0.061820305334619616+0j)\n",
      "n_discard =  144\n",
      "discard samples 0.07396841049194336\n",
      "n_samples_node =  1000\n",
      "generate_samples :  0.07334375381469727\n",
      "     prepare getting local values 0.0038175582885742188\n",
      "     obtained local values 0.008324861526489258\n",
      "get_mc_stats 0.011934995651245117\n"
     ]
    },
    {
     "name": "stderr",
     "output_type": "stream",
     "text": [
      "  7%|▋         | 68/1000 [00:13<03:04,  5.05it/s, Energy=-2.10422+0.00000j ± 0.00056 [σ²=0.00049]]"
     ]
    },
    {
     "name": "stdout",
     "output_type": "stream",
     "text": [
      "--->> cal O and jac  0.03165888786315918\n",
      "compute_update  0.03384232521057129\n",
      "(0.061894919337342265+0j)\n",
      "n_discard =  144\n",
      "discard samples 0.07504582405090332\n",
      "n_samples_node =  1000\n",
      "generate_samples :  0.06986451148986816\n",
      "     prepare getting local values 0.0032889842987060547\n",
      "     obtained local values 0.009435415267944336\n",
      "get_mc_stats 0.012844562530517578\n"
     ]
    },
    {
     "name": "stderr",
     "output_type": "stream",
     "text": [
      "  7%|▋         | 69/1000 [00:13<03:03,  5.06it/s, Energy=-2.10495+0.00000j ± 0.00050 [σ²=0.00046]]"
     ]
    },
    {
     "name": "stdout",
     "output_type": "stream",
     "text": [
      "--->> cal O and jac  0.033998727798461914\n",
      "compute_update  0.036234378814697266\n",
      "(0.06198550409988828+0j)\n",
      "n_discard =  144\n",
      "discard samples 0.07371115684509277\n",
      "n_samples_node =  1000\n",
      "generate_samples :  0.07382822036743164\n",
      "     prepare getting local values 0.0037851333618164062\n",
      "     obtained local values 0.008676290512084961\n",
      "get_mc_stats 0.011485815048217773\n"
     ]
    },
    {
     "name": "stderr",
     "output_type": "stream",
     "text": [
      "  7%|▋         | 70/1000 [00:13<03:03,  5.08it/s, Energy=-2.10536+0.00000j ± 0.00054 [σ²=0.00048]]"
     ]
    },
    {
     "name": "stdout",
     "output_type": "stream",
     "text": [
      "--->> cal O and jac  0.031826019287109375\n",
      "compute_update  0.034604787826538086\n",
      "(0.06207002484158872+0j)\n",
      "n_discard =  144\n",
      "discard samples 0.07290530204772949\n",
      "n_samples_node =  1000\n",
      "generate_samples :  0.07350802421569824\n",
      "     prepare getting local values 0.0017514228820800781\n",
      "     obtained local values 0.00520014762878418\n",
      "get_mc_stats 0.007764577865600586\n"
     ]
    },
    {
     "name": "stderr",
     "output_type": "stream",
     "text": [
      "  7%|▋         | 71/1000 [00:13<03:01,  5.11it/s, Energy=-2.10506+0.00000j ± 0.00052 [σ²=0.00047]]"
     ]
    },
    {
     "name": "stdout",
     "output_type": "stream",
     "text": [
      "--->> cal O and jac  0.03266096115112305\n",
      "compute_update  0.03610587120056152\n",
      "(0.06209261096726332+0j)\n",
      "n_discard =  144\n",
      "discard samples 0.07798123359680176\n",
      "n_samples_node =  1000\n",
      "generate_samples :  0.07187056541442871\n",
      "     prepare getting local values 0.0036258697509765625\n",
      "     obtained local values 0.009403467178344727\n",
      "get_mc_stats 0.012789487838745117\n"
     ]
    },
    {
     "name": "stderr",
     "output_type": "stream",
     "text": [
      "  7%|▋         | 72/1000 [00:14<03:03,  5.06it/s, Energy=-2.10498+0.00000j ± 0.00071 [σ²=0.00045]]"
     ]
    },
    {
     "name": "stdout",
     "output_type": "stream",
     "text": [
      "--->> cal O and jac  0.03318309783935547\n",
      "compute_update  0.03683161735534668\n",
      "(0.06216297875673177+0j)\n",
      "n_discard =  144\n",
      "discard samples 0.07952594757080078\n",
      "n_samples_node =  1000\n",
      "generate_samples :  0.07022809982299805\n",
      "     prepare getting local values 0.0035855770111083984\n",
      "     obtained local values 0.008660316467285156\n",
      "get_mc_stats 0.01152181625366211\n"
     ]
    },
    {
     "name": "stderr",
     "output_type": "stream",
     "text": [
      "  7%|▋         | 73/1000 [00:14<03:02,  5.08it/s, Energy=-2.10509+0.00000j ± 0.00071 [σ²=0.00044]]"
     ]
    },
    {
     "name": "stdout",
     "output_type": "stream",
     "text": [
      "--->> cal O and jac  0.02965092658996582\n",
      "compute_update  0.03185558319091797\n",
      "(0.06218247985049649+0j)\n",
      "n_discard =  144\n",
      "discard samples 0.07182860374450684\n",
      "n_samples_node =  1000\n",
      "generate_samples :  0.06963014602661133\n",
      "     prepare getting local values 0.003353118896484375\n",
      "     obtained local values 0.006598472595214844\n",
      "get_mc_stats 0.009739398956298828\n"
     ]
    },
    {
     "name": "stderr",
     "output_type": "stream",
     "text": [
      "  7%|▋         | 74/1000 [00:14<03:01,  5.09it/s, Energy=-2.10560+0.00000j ± 0.00051 [σ²=0.00047]]"
     ]
    },
    {
     "name": "stdout",
     "output_type": "stream",
     "text": [
      "--->> cal O and jac  0.03881525993347168\n",
      "compute_update  0.042037248611450195\n",
      "(0.06214830112447383+0j)\n",
      "n_discard =  144\n",
      "discard samples 0.07494664192199707\n",
      "n_samples_node =  1000\n",
      "generate_samples :  0.07213926315307617\n",
      "     prepare getting local values 0.003620624542236328\n",
      "     obtained local values 0.008099079132080078\n",
      "get_mc_stats 0.010954618453979492\n"
     ]
    },
    {
     "name": "stderr",
     "output_type": "stream",
     "text": [
      "  8%|▊         | 75/1000 [00:14<03:01,  5.11it/s, Energy=-2.10568+0.00000j ± 0.00069 [σ²=0.00043]]"
     ]
    },
    {
     "name": "stdout",
     "output_type": "stream",
     "text": [
      "--->> cal O and jac  0.030164480209350586\n",
      "compute_update  0.033269405364990234\n",
      "(0.06208791738462421+0j)\n",
      "n_discard =  144\n",
      "discard samples 0.07579445838928223\n",
      "n_samples_node =  1000\n",
      "generate_samples :  0.07587933540344238\n",
      "     prepare getting local values 0.003138303756713867\n",
      "     obtained local values 0.009467363357543945\n",
      "get_mc_stats 0.012978076934814453\n"
     ]
    },
    {
     "name": "stderr",
     "output_type": "stream",
     "text": [
      "  8%|▊         | 76/1000 [00:14<03:02,  5.07it/s, Energy=-2.10559+0.00000j ± 0.00079 [σ²=0.00045]]"
     ]
    },
    {
     "name": "stdout",
     "output_type": "stream",
     "text": [
      "--->> cal O and jac  0.03193974494934082\n",
      "compute_update  0.033974647521972656\n",
      "(0.062007996061199784+0j)\n",
      "n_discard =  144\n",
      "discard samples 0.07254528999328613\n",
      "n_samples_node =  1000\n",
      "generate_samples :  0.06966781616210938\n",
      "     prepare getting local values 0.0016231536865234375\n",
      "     obtained local values 0.004881143569946289\n",
      "get_mc_stats 0.0065157413482666016\n"
     ]
    },
    {
     "name": "stderr",
     "output_type": "stream",
     "text": [
      "  8%|▊         | 77/1000 [00:15<02:58,  5.18it/s, Energy=-2.10581+0.00000j ± 0.00061 [σ²=0.00044]]"
     ]
    },
    {
     "name": "stdout",
     "output_type": "stream",
     "text": [
      "--->> cal O and jac  0.030424833297729492\n",
      "compute_update  0.032465219497680664\n",
      "(0.06192739308829437+0j)\n",
      "n_discard =  144\n",
      "discard samples 0.0767669677734375\n",
      "n_samples_node =  1000\n",
      "generate_samples :  0.07547235488891602\n",
      "     prepare getting local values 0.0036149024963378906\n",
      "     obtained local values 0.008814573287963867\n",
      "get_mc_stats 0.01205301284790039\n"
     ]
    },
    {
     "name": "stderr",
     "output_type": "stream",
     "text": [
      "  8%|▊         | 78/1000 [00:15<03:01,  5.09it/s, Energy=-2.10513+0.00000j ± 0.00049 [σ²=0.00044]]"
     ]
    },
    {
     "name": "stdout",
     "output_type": "stream",
     "text": [
      "--->> cal O and jac  0.03589367866516113\n",
      "compute_update  0.03808259963989258\n",
      "(0.061837698612051274+0j)\n",
      "n_discard =  144\n",
      "discard samples 0.07346963882446289\n",
      "n_samples_node =  1000\n",
      "generate_samples :  0.06219029426574707\n",
      "     prepare getting local values 0.0017292499542236328\n",
      "     obtained local values 0.005167722702026367\n",
      "get_mc_stats 0.007536172866821289\n"
     ]
    },
    {
     "name": "stderr",
     "output_type": "stream",
     "text": [
      "  8%|▊         | 79/1000 [00:15<02:54,  5.27it/s, Energy=-2.10575+0.00000j ± 0.00067 [σ²=0.00043]]"
     ]
    },
    {
     "name": "stdout",
     "output_type": "stream",
     "text": [
      "--->> cal O and jac  0.02751636505126953\n",
      "compute_update  0.02955031394958496\n",
      "(0.061728493270103435+0j)\n",
      "n_discard =  144\n",
      "discard samples 0.07349586486816406\n",
      "n_samples_node =  1000\n",
      "generate_samples :  0.07304000854492188\n",
      "     prepare getting local values 0.0017025470733642578\n",
      "     obtained local values 0.005032539367675781\n",
      "get_mc_stats 0.0072820186614990234\n"
     ]
    },
    {
     "name": "stderr",
     "output_type": "stream",
     "text": [
      "  8%|▊         | 80/1000 [00:15<02:55,  5.24it/s, Energy=-2.10415+0.00000j ± 0.00067 [σ²=0.00035]]"
     ]
    },
    {
     "name": "stdout",
     "output_type": "stream",
     "text": [
      "--->> cal O and jac  0.03440070152282715\n",
      "compute_update  0.036696672439575195\n",
      "(0.06152568475132967+0j)\n",
      "n_discard =  144\n",
      "discard samples 0.07943511009216309\n",
      "n_samples_node =  1000\n",
      "generate_samples :  0.07181143760681152\n",
      "     prepare getting local values 0.002654552459716797\n",
      "     obtained local values 0.006079196929931641\n",
      "get_mc_stats 0.008970975875854492\n",
      "--->> cal O and jac  0.035471439361572266\n"
     ]
    },
    {
     "name": "stderr",
     "output_type": "stream",
     "text": [
      "  8%|▊         | 81/1000 [00:15<02:58,  5.16it/s, Energy=-2.10445+0.00000j ± 0.00069 [σ²=0.00041]]"
     ]
    },
    {
     "name": "stdout",
     "output_type": "stream",
     "text": [
      "compute_update  0.0394892692565918\n",
      "(0.06133214917831434+0j)\n",
      "n_discard =  144\n",
      "discard samples 0.07802581787109375\n",
      "n_samples_node =  1000\n",
      "generate_samples :  0.07210016250610352\n",
      "     prepare getting local values 0.0037183761596679688\n",
      "     obtained local values 0.009509801864624023\n",
      "get_mc_stats 0.012215137481689453\n",
      "--->> cal O and jac  0.03380179405212402\n"
     ]
    },
    {
     "name": "stderr",
     "output_type": "stream",
     "text": [
      "  8%|▊         | 82/1000 [00:16<03:00,  5.10it/s, Energy=-2.10534+0.00000j ± 0.00067 [σ²=0.00040]]"
     ]
    },
    {
     "name": "stdout",
     "output_type": "stream",
     "text": [
      "compute_update  0.03665280342102051\n",
      "(0.06113517575942214+0j)\n",
      "n_discard =  144\n",
      "discard samples 0.07446718215942383\n",
      "n_samples_node =  1000\n",
      "generate_samples :  0.06845521926879883\n",
      "     prepare getting local values 0.0030090808868408203\n",
      "     obtained local values 0.009160995483398438\n",
      "get_mc_stats 0.012764453887939453\n"
     ]
    },
    {
     "name": "stderr",
     "output_type": "stream",
     "text": [
      "  8%|▊         | 83/1000 [00:16<02:57,  5.15it/s, Energy=-2.10521+0.00000j ± 0.00061 [σ²=0.00038]]"
     ]
    },
    {
     "name": "stdout",
     "output_type": "stream",
     "text": [
      "--->> cal O and jac  0.02896857261657715\n",
      "compute_update  0.031035900115966797\n",
      "(0.060881634911781786+0j)\n",
      "n_discard =  144\n",
      "discard samples 0.07425427436828613\n",
      "n_samples_node =  1000\n",
      "generate_samples :  0.0727834701538086\n",
      "     prepare getting local values 0.002989053726196289\n",
      "     obtained local values 0.009200572967529297\n",
      "get_mc_stats 0.012930870056152344\n",
      "--->> cal O and jac  0.03595232963562012\n"
     ]
    },
    {
     "name": "stderr",
     "output_type": "stream",
     "text": [
      "  8%|▊         | 84/1000 [00:16<02:59,  5.10it/s, Energy=-2.10625+0.00000j ± 0.00042 [σ²=0.00034]]"
     ]
    },
    {
     "name": "stdout",
     "output_type": "stream",
     "text": [
      "compute_update  0.03852725028991699\n",
      "(0.06064717958356747+0j)\n",
      "n_discard =  144\n",
      "discard samples 0.07494497299194336\n",
      "n_samples_node =  1000\n",
      "generate_samples :  0.07129883766174316\n",
      "     prepare getting local values 0.002142190933227539\n",
      "     obtained local values 0.005483865737915039\n",
      "get_mc_stats 0.0072307586669921875\n"
     ]
    },
    {
     "name": "stderr",
     "output_type": "stream",
     "text": [
      "  8%|▊         | 85/1000 [00:16<02:59,  5.11it/s, Energy=-2.10576+0.00000j ± 0.00051 [σ²=0.00036]]"
     ]
    },
    {
     "name": "stdout",
     "output_type": "stream",
     "text": [
      "--->> cal O and jac  0.03591656684875488\n",
      "compute_update  0.0396420955657959\n",
      "(0.06037674441106833+0j)\n",
      "n_discard =  144\n",
      "discard samples 0.08233928680419922\n",
      "n_samples_node =  1000\n",
      "generate_samples :  0.06822872161865234\n",
      "     prepare getting local values 0.0019922256469726562\n",
      "     obtained local values 0.0055997371673583984\n",
      "get_mc_stats 0.00832986831665039\n",
      "--->> cal O and jac  0.03402400016784668\n"
     ]
    },
    {
     "name": "stderr",
     "output_type": "stream",
     "text": [
      "  9%|▊         | 86/1000 [00:16<02:59,  5.10it/s, Energy=-2.10583+0.00000j ± 0.00052 [σ²=0.00034]]"
     ]
    },
    {
     "name": "stdout",
     "output_type": "stream",
     "text": [
      "compute_update  0.036530494689941406\n",
      "(0.060114551718292254+0j)\n",
      "n_discard =  144\n",
      "discard samples 0.07899069786071777\n",
      "n_samples_node =  1000\n",
      "generate_samples :  0.06703782081604004\n",
      "     prepare getting local values 0.001978158950805664\n",
      "     obtained local values 0.00544428825378418\n",
      "get_mc_stats 0.007650852203369141\n"
     ]
    },
    {
     "name": "stderr",
     "output_type": "stream",
     "text": [
      "  9%|▊         | 87/1000 [00:17<02:58,  5.12it/s, Energy=-2.10537+0.00000j ± 0.00062 [σ²=0.00034]]"
     ]
    },
    {
     "name": "stdout",
     "output_type": "stream",
     "text": [
      "--->> cal O and jac  0.03498578071594238\n",
      "compute_update  0.03785252571105957\n",
      "(0.0598213820641063+0j)\n",
      "n_discard =  144\n",
      "discard samples 0.075439453125\n",
      "n_samples_node =  1000\n",
      "generate_samples :  0.07128763198852539\n",
      "     prepare getting local values 0.0035812854766845703\n",
      "     obtained local values 0.01079869270324707\n",
      "get_mc_stats 0.014299869537353516\n"
     ]
    },
    {
     "name": "stderr",
     "output_type": "stream",
     "text": [
      "\r",
      "  9%|▊         | 87/1000 [00:17<02:58,  5.12it/s, Energy=-2.10574+0.00000j ± 0.00064 [σ²=0.00034]]"
     ]
    },
    {
     "name": "stdout",
     "output_type": "stream",
     "text": [
      "--->> cal O and jac  0.031475067138671875\n",
      "compute_update  0.034407615661621094\n"
     ]
    },
    {
     "name": "stderr",
     "output_type": "stream",
     "text": [
      "\r",
      "  9%|▉         | 88/1000 [00:17<02:58,  5.10it/s, Energy=-2.10574+0.00000j ± 0.00064 [σ²=0.00034]]"
     ]
    },
    {
     "name": "stdout",
     "output_type": "stream",
     "text": [
      "(0.0595619691402355+0j)\n",
      "n_discard =  144\n",
      "discard samples 0.06834292411804199\n",
      "n_samples_node =  1000\n",
      "generate_samples :  0.0683290958404541\n",
      "     prepare getting local values 0.0028960704803466797\n",
      "     obtained local values 0.00805521011352539\n",
      "get_mc_stats 0.010782003402709961\n"
     ]
    },
    {
     "name": "stderr",
     "output_type": "stream",
     "text": [
      "  9%|▉         | 89/1000 [00:17<02:56,  5.17it/s, Energy=-2.10521+0.00000j ± 0.00064 [σ²=0.00034]]"
     ]
    },
    {
     "name": "stdout",
     "output_type": "stream",
     "text": [
      "--->> cal O and jac  0.03407120704650879\n",
      "compute_update  0.037703514099121094\n",
      "(0.05925523907569296+0j)\n",
      "n_discard =  144\n",
      "discard samples 0.0758352279663086\n",
      "n_samples_node =  1000\n",
      "generate_samples :  0.0715949535369873\n",
      "     prepare getting local values 0.003580331802368164\n",
      "     obtained local values 0.009103775024414062\n",
      "get_mc_stats 0.011975526809692383\n"
     ]
    },
    {
     "name": "stderr",
     "output_type": "stream",
     "text": [
      "\r",
      "  9%|▉         | 89/1000 [00:17<02:56,  5.17it/s, Energy=-2.10507+0.00000j ± 0.00055 [σ²=0.00031]]"
     ]
    },
    {
     "name": "stdout",
     "output_type": "stream",
     "text": [
      "--->> cal O and jac  0.03290271759033203\n",
      "compute_update  0.03507089614868164\n"
     ]
    },
    {
     "name": "stderr",
     "output_type": "stream",
     "text": [
      "\r",
      "  9%|▉         | 90/1000 [00:17<02:57,  5.14it/s, Energy=-2.10507+0.00000j ± 0.00055 [σ²=0.00031]]"
     ]
    },
    {
     "name": "stdout",
     "output_type": "stream",
     "text": [
      "(0.05896835410629167+0j)\n",
      "n_discard =  144\n",
      "discard samples 0.07648682594299316\n",
      "n_samples_node =  1000\n",
      "generate_samples :  0.07075119018554688\n",
      "     prepare getting local values 0.0039594173431396484\n",
      "     obtained local values 0.010585784912109375\n",
      "get_mc_stats 0.013730049133300781\n",
      "--->> cal O and jac  0.03420662879943848\n"
     ]
    },
    {
     "name": "stderr",
     "output_type": "stream",
     "text": [
      "  9%|▉         | 91/1000 [00:17<02:58,  5.10it/s, Energy=-2.10469+0.00000j ± 0.00047 [σ²=0.00030]]"
     ]
    },
    {
     "name": "stdout",
     "output_type": "stream",
     "text": [
      "compute_update  0.037030935287475586\n",
      "(0.05865803227780106+0j)\n",
      "n_discard =  144\n",
      "discard samples 0.07659912109375\n",
      "n_samples_node =  1000\n",
      "generate_samples :  0.07323837280273438\n",
      "     prepare getting local values 0.0027692317962646484\n",
      "     obtained local values 0.006715536117553711\n",
      "get_mc_stats 0.00958561897277832\n"
     ]
    },
    {
     "name": "stderr",
     "output_type": "stream",
     "text": [
      "  9%|▉         | 92/1000 [00:17<02:58,  5.10it/s, Energy=-2.10564+0.00000j ± 0.00052 [σ²=0.00030]]"
     ]
    },
    {
     "name": "stdout",
     "output_type": "stream",
     "text": [
      "--->> cal O and jac  0.03291583061218262\n",
      "compute_update  0.03489851951599121\n",
      "(0.05834924927529106+0j)\n",
      "n_discard =  144\n",
      "discard samples 0.07217264175415039\n",
      "n_samples_node =  1000\n",
      "generate_samples :  0.07298040390014648\n",
      "     prepare getting local values 0.0036733150482177734\n",
      "     obtained local values 0.009993791580200195\n",
      "get_mc_stats 0.01342153549194336\n"
     ]
    },
    {
     "name": "stderr",
     "output_type": "stream",
     "text": [
      "  9%|▉         | 93/1000 [00:18<02:58,  5.09it/s, Energy=-2.10437+0.00000j ± 0.00054 [σ²=0.00032]]"
     ]
    },
    {
     "name": "stdout",
     "output_type": "stream",
     "text": [
      "--->> cal O and jac  0.03441476821899414\n",
      "compute_update  0.03618431091308594\n",
      "(0.05804906012602444+0j)\n",
      "n_discard =  144\n",
      "discard samples 0.07706689834594727\n",
      "n_samples_node =  1000\n",
      "generate_samples :  0.07265424728393555\n",
      "     prepare getting local values 0.0037491321563720703\n",
      "     obtained local values 0.009200572967529297\n",
      "get_mc_stats 0.012459039688110352\n",
      "--->> cal O and jac  0.03513026237487793\n"
     ]
    },
    {
     "name": "stderr",
     "output_type": "stream",
     "text": [
      "  9%|▉         | 94/1000 [00:18<02:59,  5.05it/s, Energy=-2.10570+0.00000j ± 0.00045 [σ²=0.00029]]"
     ]
    },
    {
     "name": "stdout",
     "output_type": "stream",
     "text": [
      "compute_update  0.03832387924194336\n",
      "(0.05774844484882285+0j)\n",
      "n_discard =  144\n",
      "discard samples 0.0745999813079834\n",
      "n_samples_node =  1000\n",
      "generate_samples :  0.07238960266113281\n",
      "     prepare getting local values 0.004628896713256836\n",
      "     obtained local values 0.010770082473754883\n",
      "get_mc_stats 0.01377558708190918\n"
     ]
    },
    {
     "name": "stderr",
     "output_type": "stream",
     "text": [
      "\r",
      "  9%|▉         | 94/1000 [00:18<02:59,  5.05it/s, Energy=-2.10524+0.00000j ± 0.00042 [σ²=0.00030]]"
     ]
    },
    {
     "name": "stdout",
     "output_type": "stream",
     "text": [
      "--->> cal O and jac  0.03288888931274414\n",
      "compute_update  0.03495931625366211\n"
     ]
    },
    {
     "name": "stderr",
     "output_type": "stream",
     "text": [
      "\r",
      " 10%|▉         | 95/1000 [00:18<02:59,  5.05it/s, Energy=-2.10524+0.00000j ± 0.00042 [σ²=0.00030]]"
     ]
    },
    {
     "name": "stdout",
     "output_type": "stream",
     "text": [
      "(0.0574369388661645+0j)\n",
      "n_discard =  144\n",
      "discard samples 0.07578110694885254\n",
      "n_samples_node =  1000\n",
      "generate_samples :  0.07407093048095703\n",
      "     prepare getting local values 0.003175020217895508\n",
      "     obtained local values 0.0086517333984375\n",
      "get_mc_stats 0.012110710144042969\n"
     ]
    },
    {
     "name": "stderr",
     "output_type": "stream",
     "text": [
      " 10%|▉         | 96/1000 [00:18<02:58,  5.06it/s, Energy=-2.10556+0.00000j ± 0.00051 [σ²=0.00031]]"
     ]
    },
    {
     "name": "stdout",
     "output_type": "stream",
     "text": [
      "--->> cal O and jac  0.03134632110595703\n",
      "compute_update  0.03348350524902344\n",
      "(0.057143929778450724+0j)\n",
      "n_discard =  144\n",
      "discard samples 0.08311843872070312\n",
      "n_samples_node =  1000\n",
      "generate_samples :  0.0730588436126709\n",
      "     prepare getting local values 0.0027937889099121094\n",
      "     obtained local values 0.006232738494873047\n",
      "get_mc_stats 0.008767127990722656\n"
     ]
    },
    {
     "name": "stderr",
     "output_type": "stream",
     "text": [
      "\r",
      " 10%|▉         | 96/1000 [00:18<02:58,  5.06it/s, Energy=-2.10540+0.00000j ± 0.00060 [σ²=0.00028]]"
     ]
    },
    {
     "name": "stdout",
     "output_type": "stream",
     "text": [
      "--->> cal O and jac  0.03244185447692871\n",
      "compute_update  0.034459590911865234\n"
     ]
    },
    {
     "name": "stderr",
     "output_type": "stream",
     "text": [
      "\r",
      " 10%|▉         | 97/1000 [00:18<02:59,  5.03it/s, Energy=-2.10540+0.00000j ± 0.00060 [σ²=0.00028]]"
     ]
    },
    {
     "name": "stdout",
     "output_type": "stream",
     "text": [
      "(0.05685407248887227+0j)\n",
      "n_discard =  144\n",
      "discard samples 0.0689535140991211\n",
      "n_samples_node =  1000\n",
      "generate_samples :  0.07084918022155762\n",
      "     prepare getting local values 0.0036182403564453125\n",
      "     obtained local values 0.007100343704223633\n",
      "get_mc_stats 0.01037144660949707\n"
     ]
    },
    {
     "name": "stderr",
     "output_type": "stream",
     "text": [
      " 10%|▉         | 98/1000 [00:19<02:57,  5.09it/s, Energy=-2.10463+0.00000j ± 0.00064 [σ²=0.00029]]"
     ]
    },
    {
     "name": "stdout",
     "output_type": "stream",
     "text": [
      "--->> cal O and jac  0.036316633224487305\n",
      "compute_update  0.03851318359375\n",
      "(0.05659572669791197+0j)\n",
      "n_discard =  144\n",
      "discard samples 0.08005547523498535\n",
      "n_samples_node =  1000\n",
      "generate_samples :  0.07200241088867188\n",
      "     prepare getting local values 0.002729177474975586\n",
      "     obtained local values 0.008853673934936523\n",
      "get_mc_stats 0.011691093444824219\n",
      "--->> cal O and jac  0.03271770477294922\n"
     ]
    },
    {
     "name": "stderr",
     "output_type": "stream",
     "text": [
      " 10%|▉         | 99/1000 [00:19<02:57,  5.06it/s, Energy=-2.10478+0.00000j ± 0.00054 [σ²=0.00029]]"
     ]
    },
    {
     "name": "stdout",
     "output_type": "stream",
     "text": [
      "compute_update  0.035173892974853516\n",
      "(0.05630564155885698+0j)\n",
      "n_discard =  144\n",
      "discard samples 0.07510662078857422\n",
      "n_samples_node =  1000\n",
      "generate_samples :  0.07139992713928223\n",
      "     prepare getting local values 0.0031015872955322266\n",
      "     obtained local values 0.009546279907226562\n",
      "get_mc_stats 0.012255191802978516\n"
     ]
    },
    {
     "name": "stderr",
     "output_type": "stream",
     "text": [
      " 10%|█         | 100/1000 [00:19<02:57,  5.07it/s, Energy=-2.10541+0.00000j ± 0.00055 [σ²=0.00029]]"
     ]
    },
    {
     "name": "stdout",
     "output_type": "stream",
     "text": [
      "--->> cal O and jac  0.03356051445007324\n",
      "compute_update  0.03580284118652344\n",
      "(0.055994342582369884+0j)\n",
      "n_discard =  144\n",
      "discard samples 0.06973862648010254\n",
      "n_samples_node =  1000\n",
      "generate_samples :  0.06981134414672852\n",
      "     prepare getting local values 0.0035448074340820312\n",
      "     obtained local values 0.009834051132202148\n",
      "get_mc_stats 0.013124942779541016\n"
     ]
    },
    {
     "name": "stderr",
     "output_type": "stream",
     "text": [
      " 10%|█         | 101/1000 [00:19<02:54,  5.15it/s, Energy=-2.10625+0.00000j ± 0.00059 [σ²=0.00029]]"
     ]
    },
    {
     "name": "stdout",
     "output_type": "stream",
     "text": [
      "--->> cal O and jac  0.03130006790161133\n",
      "compute_update  0.033437252044677734\n",
      "(0.05571710990680857+0j)\n",
      "n_discard =  144\n",
      "discard samples 0.07191681861877441\n",
      "n_samples_node =  1000\n",
      "generate_samples :  0.06607818603515625\n",
      "     prepare getting local values 0.0036344528198242188\n",
      "     obtained local values 0.008578062057495117\n",
      "get_mc_stats 0.011684417724609375\n"
     ]
    },
    {
     "name": "stderr",
     "output_type": "stream",
     "text": [
      " 10%|█         | 102/1000 [00:19<02:52,  5.19it/s, Energy=-2.10597+0.00000j ± 0.00051 [σ²=0.00029]]"
     ]
    },
    {
     "name": "stdout",
     "output_type": "stream",
     "text": [
      "--->> cal O and jac  0.033521413803100586\n",
      "compute_update  0.03649735450744629\n",
      "(0.05542939143897964+0j)\n",
      "n_discard =  144\n",
      "discard samples 0.0775752067565918\n",
      "n_samples_node =  1000\n",
      "generate_samples :  0.07001662254333496\n",
      "     prepare getting local values 0.0022172927856445312\n",
      "     obtained local values 0.005737781524658203\n",
      "get_mc_stats 0.007965803146362305\n"
     ]
    },
    {
     "name": "stderr",
     "output_type": "stream",
     "text": [
      " 10%|█         | 103/1000 [00:20<02:53,  5.18it/s, Energy=-2.10599+0.00000j ± 0.00050 [σ²=0.00028]]"
     ]
    },
    {
     "name": "stdout",
     "output_type": "stream",
     "text": [
      "--->> cal O and jac  0.03323507308959961\n",
      "compute_update  0.03597688674926758\n",
      "(0.05515926614262961+0j)\n",
      "n_discard =  144\n",
      "discard samples 0.07115793228149414\n",
      "n_samples_node =  1000\n",
      "generate_samples :  0.07221031188964844\n",
      "     prepare getting local values 0.003554821014404297\n",
      "     obtained local values 0.008478403091430664\n",
      "get_mc_stats 0.011893987655639648\n"
     ]
    },
    {
     "name": "stderr",
     "output_type": "stream",
     "text": [
      " 10%|█         | 104/1000 [00:20<02:53,  5.16it/s, Energy=-2.10517+0.00000j ± 0.00047 [σ²=0.00028]]"
     ]
    },
    {
     "name": "stdout",
     "output_type": "stream",
     "text": [
      "--->> cal O and jac  0.03504681587219238\n",
      "compute_update  0.03758358955383301\n",
      "(0.05489353130924591+0j)\n",
      "n_discard =  144\n",
      "discard samples 0.06751680374145508\n",
      "n_samples_node =  1000\n",
      "generate_samples :  0.06801128387451172\n",
      "     prepare getting local values 0.0035915374755859375\n",
      "     obtained local values 0.009200811386108398\n",
      "get_mc_stats 0.012238502502441406\n"
     ]
    },
    {
     "name": "stderr",
     "output_type": "stream",
     "text": [
      " 10%|█         | 105/1000 [00:20<02:50,  5.24it/s, Energy=-2.10582+0.00000j ± 0.00051 [σ²=0.00028]]"
     ]
    },
    {
     "name": "stdout",
     "output_type": "stream",
     "text": [
      "--->> cal O and jac  0.0326695442199707\n",
      "compute_update  0.03499460220336914\n",
      "(0.05461212192150064+0j)\n",
      "n_discard =  144\n",
      "discard samples 0.07248067855834961\n",
      "n_samples_node =  1000\n",
      "generate_samples :  0.06758975982666016\n",
      "     prepare getting local values 0.0029997825622558594\n",
      "     obtained local values 0.006418943405151367\n",
      "get_mc_stats 0.009643793106079102\n"
     ]
    },
    {
     "name": "stderr",
     "output_type": "stream",
     "text": [
      " 11%|█         | 106/1000 [00:20<02:51,  5.23it/s, Energy=-2.10563+0.00000j ± 0.00050 [σ²=0.00027]]"
     ]
    },
    {
     "name": "stdout",
     "output_type": "stream",
     "text": [
      "--->> cal O and jac  0.0382084846496582\n",
      "compute_update  0.04065656661987305\n",
      "(0.05433867616050679+0j)\n",
      "n_discard =  144\n",
      "discard samples 0.08109545707702637\n",
      "n_samples_node =  1000\n",
      "generate_samples :  0.07872366905212402\n",
      "     prepare getting local values 0.0029251575469970703\n",
      "     obtained local values 0.009013891220092773\n",
      "get_mc_stats 0.011712074279785156\n"
     ]
    },
    {
     "name": "stderr",
     "output_type": "stream",
     "text": [
      " 11%|█         | 107/1000 [00:20<02:55,  5.10it/s, Energy=-2.10463+0.00000j ± 0.00057 [σ²=0.00026]]"
     ]
    },
    {
     "name": "stdout",
     "output_type": "stream",
     "text": [
      "--->> cal O and jac  0.030382394790649414\n",
      "compute_update  0.03407430648803711\n",
      "(0.05408527449705654+0j)\n",
      "n_discard =  144\n",
      "discard samples 0.07521796226501465\n",
      "n_samples_node =  1000\n",
      "generate_samples :  0.07090544700622559\n",
      "     prepare getting local values 0.0034027099609375\n",
      "     obtained local values 0.006785869598388672\n",
      "get_mc_stats 0.00982809066772461\n"
     ]
    },
    {
     "name": "stderr",
     "output_type": "stream",
     "text": [
      " 11%|█         | 108/1000 [00:21<02:54,  5.10it/s, Energy=-2.10564+0.00000j ± 0.00048 [σ²=0.00026]]"
     ]
    },
    {
     "name": "stdout",
     "output_type": "stream",
     "text": [
      "--->> cal O and jac  0.033948421478271484\n",
      "compute_update  0.03617143630981445\n",
      "(0.05383384853844434+0j)\n",
      "n_discard =  144\n",
      "discard samples 0.07475543022155762\n",
      "n_samples_node =  1000\n",
      "generate_samples :  0.06547331809997559\n",
      "     prepare getting local values 0.0017333030700683594\n",
      "     obtained local values 0.005068778991699219\n",
      "get_mc_stats 0.007207393646240234\n"
     ]
    },
    {
     "name": "stderr",
     "output_type": "stream",
     "text": [
      " 11%|█         | 109/1000 [00:21<02:51,  5.19it/s, Energy=-2.10491+0.00000j ± 0.00055 [σ²=0.00025]]"
     ]
    },
    {
     "name": "stdout",
     "output_type": "stream",
     "text": [
      "--->> cal O and jac  0.03343605995178223\n",
      "compute_update  0.03563952445983887\n",
      "(0.05359565113946048+0j)\n",
      "n_discard =  144\n",
      "discard samples 0.07675409317016602\n",
      "n_samples_node =  1000\n",
      "generate_samples :  0.06740593910217285\n",
      "     prepare getting local values 0.00345611572265625\n",
      "     obtained local values 0.010470867156982422\n",
      "get_mc_stats 0.013891458511352539\n"
     ]
    },
    {
     "name": "stderr",
     "output_type": "stream",
     "text": [
      "\r",
      " 11%|█         | 109/1000 [00:21<02:51,  5.19it/s, Energy=-2.10685+0.00000j ± 0.00045 [σ²=0.00027]]"
     ]
    },
    {
     "name": "stdout",
     "output_type": "stream",
     "text": [
      "--->> cal O and jac  0.03476071357727051\n",
      "compute_update  0.037834882736206055\n"
     ]
    },
    {
     "name": "stderr",
     "output_type": "stream",
     "text": [
      "\r",
      " 11%|█         | 110/1000 [00:21<02:52,  5.15it/s, Energy=-2.10685+0.00000j ± 0.00045 [σ²=0.00027]]"
     ]
    },
    {
     "name": "stdout",
     "output_type": "stream",
     "text": [
      "(0.05336990367289426+0j)\n",
      "n_discard =  144\n",
      "discard samples 0.07551789283752441\n",
      "n_samples_node =  1000\n",
      "generate_samples :  0.07845687866210938\n",
      "     prepare getting local values 0.003469228744506836\n",
      "     obtained local values 0.009595394134521484\n",
      "get_mc_stats 0.013154268264770508\n"
     ]
    },
    {
     "name": "stderr",
     "output_type": "stream",
     "text": [
      " 11%|█         | 111/1000 [00:21<02:56,  5.04it/s, Energy=-2.10565+0.00000j ± 0.00044 [σ²=0.00024]]"
     ]
    },
    {
     "name": "stdout",
     "output_type": "stream",
     "text": [
      "--->> cal O and jac  0.037240028381347656\n",
      "compute_update  0.03934049606323242\n",
      "(0.05316755827504782+0j)\n",
      "n_discard =  144\n",
      "discard samples 0.08249187469482422\n",
      "n_samples_node =  1000\n",
      "generate_samples :  0.06946682929992676\n",
      "     prepare getting local values 0.003567218780517578\n",
      "     obtained local values 0.009692668914794922\n",
      "get_mc_stats 0.012559175491333008\n"
     ]
    },
    {
     "name": "stderr",
     "output_type": "stream",
     "text": [
      " 11%|█         | 112/1000 [00:21<02:57,  4.99it/s, Energy=-2.10491+0.00000j ± 0.00051 [σ²=0.00024]]"
     ]
    },
    {
     "name": "stdout",
     "output_type": "stream",
     "text": [
      "--->> cal O and jac  0.03478074073791504\n",
      "compute_update  0.03814363479614258\n",
      "(0.052982363257216794+0j)\n",
      "n_discard =  144\n",
      "discard samples 0.07773923873901367\n",
      "n_samples_node =  1000\n",
      "generate_samples :  0.06858038902282715\n",
      "     prepare getting local values 0.0033524036407470703\n",
      "     obtained local values 0.009574174880981445\n",
      "get_mc_stats 0.012484550476074219\n"
     ]
    },
    {
     "name": "stderr",
     "output_type": "stream",
     "text": [
      " 11%|█▏        | 113/1000 [00:22<02:56,  5.04it/s, Energy=-2.10521+0.00000j ± 0.00046 [σ²=0.00024]]"
     ]
    },
    {
     "name": "stdout",
     "output_type": "stream",
     "text": [
      "--->> cal O and jac  0.030202865600585938\n",
      "compute_update  0.033756256103515625\n",
      "(0.05278481892611627+0j)\n",
      "n_discard =  144\n",
      "discard samples 0.07538604736328125\n",
      "n_samples_node =  1000\n",
      "generate_samples :  0.07267165184020996\n",
      "     prepare getting local values 0.0030307769775390625\n",
      "     obtained local values 0.008896112442016602\n",
      "get_mc_stats 0.011821985244750977\n"
     ]
    },
    {
     "name": "stderr",
     "output_type": "stream",
     "text": [
      " 11%|█▏        | 114/1000 [00:22<02:54,  5.07it/s, Energy=-2.10525+0.00000j ± 0.00045 [σ²=0.00024]]"
     ]
    },
    {
     "name": "stdout",
     "output_type": "stream",
     "text": [
      "--->> cal O and jac  0.029219388961791992\n",
      "compute_update  0.031287193298339844\n",
      "(0.05258546358221385+0j)\n",
      "n_discard =  144\n",
      "discard samples 0.07340764999389648\n",
      "n_samples_node =  1000\n",
      "generate_samples :  0.07137107849121094\n",
      "     prepare getting local values 0.0017676353454589844\n",
      "     obtained local values 0.0052242279052734375\n",
      "get_mc_stats 0.007279634475708008\n"
     ]
    },
    {
     "name": "stderr",
     "output_type": "stream",
     "text": [
      " 12%|█▏        | 115/1000 [00:22<02:53,  5.11it/s, Energy=-2.10614+0.00000j ± 0.00039 [σ²=0.00022]]"
     ]
    },
    {
     "name": "stdout",
     "output_type": "stream",
     "text": [
      "--->> cal O and jac  0.035131216049194336\n",
      "compute_update  0.03827643394470215\n",
      "(0.05238056103714549+0j)\n",
      "n_discard =  144\n",
      "discard samples 0.08048105239868164\n",
      "n_samples_node =  1000\n",
      "generate_samples :  0.06724834442138672\n",
      "     prepare getting local values 0.00290679931640625\n",
      "     obtained local values 0.00643157958984375\n",
      "get_mc_stats 0.008837461471557617\n"
     ]
    },
    {
     "name": "stderr",
     "output_type": "stream",
     "text": [
      " 12%|█▏        | 116/1000 [00:22<02:52,  5.13it/s, Energy=-2.10541+0.00000j ± 0.00041 [σ²=0.00022]]"
     ]
    },
    {
     "name": "stdout",
     "output_type": "stream",
     "text": [
      "--->> cal O and jac  0.03215956687927246\n",
      "compute_update  0.034379005432128906\n",
      "(0.05220499517126218+0j)\n",
      "n_discard =  144\n",
      "discard samples 0.07286262512207031\n",
      "n_samples_node =  1000\n",
      "generate_samples :  0.07532668113708496\n",
      "     prepare getting local values 0.0035352706909179688\n",
      "     obtained local values 0.009845733642578125\n",
      "get_mc_stats 0.013003826141357422\n",
      "--->> cal O and jac  0.03386521339416504\n"
     ]
    },
    {
     "name": "stderr",
     "output_type": "stream",
     "text": [
      " 12%|█▏        | 117/1000 [00:22<02:53,  5.09it/s, Energy=-2.10537+0.00000j ± 0.00051 [σ²=0.00020]]"
     ]
    },
    {
     "name": "stdout",
     "output_type": "stream",
     "text": [
      "compute_update  0.036744117736816406\n",
      "(0.05202642182612106+0j)\n",
      "n_discard =  144\n",
      "discard samples 0.0773766040802002\n",
      "n_samples_node =  1000\n",
      "generate_samples :  0.0672919750213623\n",
      "     prepare getting local values 0.0016353130340576172\n",
      "     obtained local values 0.004884481430053711\n",
      "get_mc_stats 0.0072629451751708984\n"
     ]
    },
    {
     "name": "stderr",
     "output_type": "stream",
     "text": [
      " 12%|█▏        | 118/1000 [00:23<02:50,  5.16it/s, Energy=-2.10579+0.00000j ± 0.00050 [σ²=0.00020]]"
     ]
    },
    {
     "name": "stdout",
     "output_type": "stream",
     "text": [
      "--->> cal O and jac  0.03165936470031738\n",
      "compute_update  0.03363680839538574\n",
      "(0.0518724794465549+0j)\n",
      "n_discard =  144\n",
      "discard samples 0.08126950263977051\n",
      "n_samples_node =  1000\n",
      "generate_samples :  0.06593155860900879\n",
      "     prepare getting local values 0.003436565399169922\n",
      "     obtained local values 0.006849050521850586\n",
      "get_mc_stats 0.009884357452392578\n"
     ]
    },
    {
     "name": "stderr",
     "output_type": "stream",
     "text": [
      " 12%|█▏        | 119/1000 [00:23<02:51,  5.15it/s, Energy=-2.10603+0.00000j ± 0.00035 [σ²=0.00020]]"
     ]
    },
    {
     "name": "stdout",
     "output_type": "stream",
     "text": [
      "--->> cal O and jac  0.034842491149902344\n",
      "compute_update  0.03700447082519531\n",
      "(0.05171430562784862+0j)\n",
      "n_discard =  144\n",
      "discard samples 0.0731496810913086\n",
      "n_samples_node =  1000\n",
      "generate_samples :  0.07224011421203613\n",
      "     prepare getting local values 0.0019216537475585938\n",
      "     obtained local values 0.005598306655883789\n",
      "get_mc_stats 0.009424686431884766\n"
     ]
    },
    {
     "name": "stderr",
     "output_type": "stream",
     "text": [
      " 12%|█▏        | 120/1000 [00:23<02:50,  5.16it/s, Energy=-2.10532+0.00000j ± 0.00046 [σ²=0.00019]]"
     ]
    },
    {
     "name": "stdout",
     "output_type": "stream",
     "text": [
      "--->> cal O and jac  0.03175520896911621\n",
      "compute_update  0.035007476806640625\n",
      "(0.05154691398392871+0j)\n",
      "n_discard =  144\n",
      "discard samples 0.08393383026123047\n",
      "n_samples_node =  1000\n",
      "generate_samples :  0.06971144676208496\n",
      "     prepare getting local values 0.003862619400024414\n",
      "     obtained local values 0.009071111679077148\n",
      "get_mc_stats 0.012187719345092773\n"
     ]
    },
    {
     "name": "stderr",
     "output_type": "stream",
     "text": [
      " 12%|█▏        | 121/1000 [00:23<02:53,  5.06it/s, Energy=-2.10596+0.00000j ± 0.00036 [σ²=0.00019]]"
     ]
    },
    {
     "name": "stdout",
     "output_type": "stream",
     "text": [
      "--->> cal O and jac  0.036046504974365234\n",
      "compute_update  0.038063764572143555\n",
      "(0.05139304718553675+0j)\n",
      "n_discard =  144\n",
      "discard samples 0.07474756240844727\n",
      "n_samples_node =  1000\n",
      "generate_samples :  0.07249069213867188\n",
      "     prepare getting local values 0.003949880599975586\n",
      "     obtained local values 0.009706735610961914\n",
      "get_mc_stats 0.012345314025878906\n",
      "--->> cal O and jac  0.035678863525390625\n"
     ]
    },
    {
     "name": "stderr",
     "output_type": "stream",
     "text": [
      " 12%|█▏        | 122/1000 [00:23<02:54,  5.04it/s, Energy=-2.10615+0.00000j ± 0.00032 [σ²=0.00017]]"
     ]
    },
    {
     "name": "stdout",
     "output_type": "stream",
     "text": [
      "compute_update  0.03813576698303223\n",
      "(0.051252442855258554+0j)\n",
      "n_discard =  144\n",
      "discard samples 0.07251310348510742\n",
      "n_samples_node =  1000\n",
      "generate_samples :  0.07232427597045898\n",
      "     prepare getting local values 0.0016794204711914062\n",
      "     obtained local values 0.0049839019775390625\n",
      "get_mc_stats 0.006802797317504883\n"
     ]
    },
    {
     "name": "stderr",
     "output_type": "stream",
     "text": [
      " 12%|█▏        | 123/1000 [00:24<02:51,  5.12it/s, Energy=-2.10618+0.00000j ± 0.00037 [σ²=0.00018]]"
     ]
    },
    {
     "name": "stdout",
     "output_type": "stream",
     "text": [
      "--->> cal O and jac  0.03240633010864258\n",
      "compute_update  0.035201072692871094\n",
      "(0.05112129184246988+0j)\n",
      "n_discard =  144\n",
      "discard samples 0.07987761497497559\n",
      "n_samples_node =  1000\n",
      "generate_samples :  0.07105541229248047\n",
      "     prepare getting local values 0.003559589385986328\n",
      "     obtained local values 0.009265661239624023\n",
      "get_mc_stats 0.012326955795288086\n",
      "--->> cal O and jac  0.030966997146606445\n"
     ]
    },
    {
     "name": "stderr",
     "output_type": "stream",
     "text": [
      " 12%|█▏        | 124/1000 [00:24<02:52,  5.09it/s, Energy=-2.10509+0.00000j ± 0.00032 [σ²=0.00016]]"
     ]
    },
    {
     "name": "stdout",
     "output_type": "stream",
     "text": [
      "compute_update  0.03379631042480469\n",
      "(0.05097971937059384+0j)\n",
      "n_discard =  144\n",
      "discard samples 0.07732248306274414\n",
      "n_samples_node =  1000\n",
      "generate_samples :  0.07515931129455566\n",
      "     prepare getting local values 0.0031669139862060547\n",
      "     obtained local values 0.006784915924072266\n",
      "get_mc_stats 0.009566307067871094\n"
     ]
    },
    {
     "name": "stderr",
     "output_type": "stream",
     "text": [
      " 12%|█▎        | 125/1000 [00:24<02:53,  5.04it/s, Energy=-2.10586+0.00000j ± 0.00045 [σ²=0.00016]]"
     ]
    },
    {
     "name": "stdout",
     "output_type": "stream",
     "text": [
      "--->> cal O and jac  0.03724169731140137\n",
      "compute_update  0.0390629768371582\n",
      "(0.05085609721412868+0j)\n",
      "n_discard =  144\n",
      "discard samples 0.07489776611328125\n",
      "n_samples_node =  1000\n",
      "generate_samples :  0.0730443000793457\n",
      "     prepare getting local values 0.00421595573425293\n",
      "     obtained local values 0.008324146270751953\n",
      "get_mc_stats 0.011459827423095703\n"
     ]
    },
    {
     "name": "stderr",
     "output_type": "stream",
     "text": [
      " 13%|█▎        | 126/1000 [00:24<02:53,  5.05it/s, Energy=-2.10560+0.00000j ± 0.00051 [σ²=0.00017]]"
     ]
    },
    {
     "name": "stdout",
     "output_type": "stream",
     "text": [
      "--->> cal O and jac  0.0331113338470459\n",
      "compute_update  0.03520393371582031\n",
      "(0.05072956795345313+0j)\n",
      "n_discard =  144\n",
      "discard samples 0.07442474365234375\n",
      "n_samples_node =  1000\n",
      "generate_samples :  0.06473636627197266\n",
      "     prepare getting local values 0.003541707992553711\n",
      "     obtained local values 0.009318113327026367\n",
      "get_mc_stats 0.012936115264892578\n"
     ]
    },
    {
     "name": "stderr",
     "output_type": "stream",
     "text": [
      " 13%|█▎        | 127/1000 [00:24<02:49,  5.15it/s, Energy=-2.10563+0.00000j ± 0.00039 [σ²=0.00015]]"
     ]
    },
    {
     "name": "stdout",
     "output_type": "stream",
     "text": [
      "--->> cal O and jac  0.028589487075805664\n",
      "compute_update  0.03129982948303223\n",
      "(0.0506163857299103+0j)\n",
      "n_discard =  144\n",
      "discard samples 0.07654786109924316\n",
      "n_samples_node =  1000\n",
      "generate_samples :  0.07481765747070312\n",
      "     prepare getting local values 0.002194643020629883\n",
      "     obtained local values 0.0059545040130615234\n",
      "get_mc_stats 0.008436441421508789\n"
     ]
    },
    {
     "name": "stderr",
     "output_type": "stream",
     "text": [
      " 13%|█▎        | 128/1000 [00:25<02:51,  5.08it/s, Energy=-2.10570+0.00000j ± 0.00044 [σ²=0.00015]]"
     ]
    },
    {
     "name": "stdout",
     "output_type": "stream",
     "text": [
      "--->> cal O and jac  0.03693747520446777\n",
      "compute_update  0.040215492248535156\n",
      "(0.05049839265766805+0j)\n",
      "n_discard =  144\n",
      "discard samples 0.07654500007629395\n",
      "n_samples_node =  1000\n",
      "generate_samples :  0.0727548599243164\n",
      "     prepare getting local values 0.003720521926879883\n",
      "     obtained local values 0.007347583770751953\n",
      "get_mc_stats 0.010765314102172852\n",
      "--->> cal O and jac  0.03512263298034668\n"
     ]
    },
    {
     "name": "stderr",
     "output_type": "stream",
     "text": [
      " 13%|█▎        | 129/1000 [00:25<02:52,  5.05it/s, Energy=-2.10602+0.00000j ± 0.00040 [σ²=0.00014]]"
     ]
    },
    {
     "name": "stdout",
     "output_type": "stream",
     "text": [
      "compute_update  0.038628339767456055\n",
      "(0.05038458204884962+0j)\n",
      "n_discard =  144\n",
      "discard samples 0.08288121223449707\n",
      "n_samples_node =  1000\n",
      "generate_samples :  0.07488274574279785\n",
      "     prepare getting local values 0.0035605430603027344\n",
      "     obtained local values 0.007809638977050781\n",
      "get_mc_stats 0.010780096054077148\n",
      "--->> cal O and jac  0.029818058013916016\n"
     ]
    },
    {
     "name": "stderr",
     "output_type": "stream",
     "text": [
      " 13%|█▎        | 130/1000 [00:25<02:53,  5.01it/s, Energy=-2.10601+0.00000j ± 0.00033 [σ²=0.00013]]"
     ]
    },
    {
     "name": "stdout",
     "output_type": "stream",
     "text": [
      "compute_update  0.03269171714782715\n",
      "(0.05027520587242796+0j)\n",
      "n_discard =  144\n",
      "discard samples 0.07246232032775879\n",
      "n_samples_node =  1000\n",
      "generate_samples :  0.07085943222045898\n",
      "     prepare getting local values 0.0036373138427734375\n",
      "     obtained local values 0.009531021118164062\n",
      "get_mc_stats 0.012647867202758789\n"
     ]
    },
    {
     "name": "stderr",
     "output_type": "stream",
     "text": [
      "\r",
      " 13%|█▎        | 130/1000 [00:25<02:53,  5.01it/s, Energy=-2.10565+0.00000j ± 0.00035 [σ²=0.00012]]"
     ]
    },
    {
     "name": "stdout",
     "output_type": "stream",
     "text": [
      "--->> cal O and jac  0.03634524345397949\n",
      "compute_update  0.03936266899108887\n"
     ]
    },
    {
     "name": "stderr",
     "output_type": "stream",
     "text": [
      "\r",
      " 13%|█▎        | 131/1000 [00:25<02:53,  5.02it/s, Energy=-2.10565+0.00000j ± 0.00035 [σ²=0.00012]]"
     ]
    },
    {
     "name": "stdout",
     "output_type": "stream",
     "text": [
      "(0.050172046554295684+0j)\n",
      "n_discard =  144\n",
      "discard samples 0.0833735466003418\n",
      "n_samples_node =  1000\n",
      "generate_samples :  0.06476616859436035\n",
      "     prepare getting local values 0.0024073123931884766\n",
      "     obtained local values 0.005872011184692383\n",
      "get_mc_stats 0.008863687515258789\n"
     ]
    },
    {
     "name": "stderr",
     "output_type": "stream",
     "text": [
      " 13%|█▎        | 132/1000 [00:25<02:50,  5.09it/s, Energy=-2.10585+0.00000j ± 0.00034 [σ²=0.00013]]"
     ]
    },
    {
     "name": "stdout",
     "output_type": "stream",
     "text": [
      "--->> cal O and jac  0.0289151668548584\n",
      "compute_update  0.030867815017700195\n",
      "(0.05007187661400078+0j)\n",
      "n_discard =  144\n",
      "discard samples 0.07526564598083496\n",
      "n_samples_node =  1000\n",
      "generate_samples :  0.06647968292236328\n",
      "     prepare getting local values 0.0036394596099853516\n",
      "     obtained local values 0.008147239685058594\n",
      "get_mc_stats 0.011527061462402344\n"
     ]
    },
    {
     "name": "stderr",
     "output_type": "stream",
     "text": [
      " 13%|█▎        | 133/1000 [00:26<02:48,  5.13it/s, Energy=-2.10510+0.00000j ± 0.00031 [σ²=0.00013]]"
     ]
    },
    {
     "name": "stdout",
     "output_type": "stream",
     "text": [
      "--->> cal O and jac  0.03404808044433594\n",
      "compute_update  0.0360569953918457\n",
      "(0.04996732608115357+0j)\n",
      "n_discard =  144\n",
      "discard samples 0.07360482215881348\n",
      "n_samples_node =  1000\n",
      "generate_samples :  0.0731210708618164\n",
      "     prepare getting local values 0.0034918785095214844\n",
      "     obtained local values 0.009845495223999023\n",
      "get_mc_stats 0.013229608535766602\n"
     ]
    },
    {
     "name": "stderr",
     "output_type": "stream",
     "text": [
      " 13%|█▎        | 134/1000 [00:26<02:48,  5.13it/s, Energy=-2.10569+0.00000j ± 0.00030 [σ²=0.00012]]"
     ]
    },
    {
     "name": "stdout",
     "output_type": "stream",
     "text": [
      "--->> cal O and jac  0.03124523162841797\n",
      "compute_update  0.033197641372680664\n",
      "(0.04986012775950101+0j)\n",
      "n_discard =  144\n",
      "discard samples 0.07491946220397949\n",
      "n_samples_node =  1000\n",
      "generate_samples :  0.07990193367004395\n",
      "     prepare getting local values 0.0038597583770751953\n",
      "     obtained local values 0.010708808898925781\n",
      "get_mc_stats 0.013674736022949219\n"
     ]
    },
    {
     "name": "stderr",
     "output_type": "stream",
     "text": [
      " 14%|█▎        | 135/1000 [00:26<02:51,  5.03it/s, Energy=-2.10503+0.00000j ± 0.00027 [σ²=0.00013]]"
     ]
    },
    {
     "name": "stdout",
     "output_type": "stream",
     "text": [
      "--->> cal O and jac  0.03339672088623047\n",
      "compute_update  0.03664731979370117\n",
      "(0.04975894989239428+0j)\n",
      "n_discard =  144\n",
      "discard samples 0.0730440616607666\n",
      "n_samples_node =  1000\n",
      "generate_samples :  0.0727536678314209\n",
      "     prepare getting local values 0.003648996353149414\n",
      "     obtained local values 0.008620500564575195\n",
      "get_mc_stats 0.012254476547241211\n"
     ]
    },
    {
     "name": "stderr",
     "output_type": "stream",
     "text": [
      " 14%|█▎        | 136/1000 [00:26<02:50,  5.08it/s, Energy=-2.10563+0.00000j ± 0.00037 [σ²=0.00012]]"
     ]
    },
    {
     "name": "stdout",
     "output_type": "stream",
     "text": [
      "--->> cal O and jac  0.029962539672851562\n",
      "compute_update  0.03213834762573242\n",
      "(0.049661148909642946+0j)\n",
      "n_discard =  144\n",
      "discard samples 0.07407617568969727\n",
      "n_samples_node =  1000\n",
      "generate_samples :  0.06760120391845703\n",
      "     prepare getting local values 0.001779794692993164\n",
      "     obtained local values 0.005216360092163086\n",
      "get_mc_stats 0.007598876953125\n"
     ]
    },
    {
     "name": "stderr",
     "output_type": "stream",
     "text": [
      " 14%|█▎        | 137/1000 [00:26<02:47,  5.14it/s, Energy=-2.10555+0.00000j ± 0.00027 [σ²=0.00011]]"
     ]
    },
    {
     "name": "stdout",
     "output_type": "stream",
     "text": [
      "--->> cal O and jac  0.03554177284240723\n",
      "compute_update  0.03765988349914551\n",
      "(0.0495585058466245+0j)\n",
      "n_discard =  144\n",
      "discard samples 0.07442760467529297\n",
      "n_samples_node =  1000\n",
      "generate_samples :  0.07055401802062988\n",
      "     prepare getting local values 0.0016937255859375\n",
      "     obtained local values 0.005138397216796875\n",
      "get_mc_stats 0.007477760314941406\n"
     ]
    },
    {
     "name": "stderr",
     "output_type": "stream",
     "text": [
      " 14%|█▍        | 138/1000 [00:27<02:45,  5.20it/s, Energy=-2.10551+0.00000j ± 0.00033 [σ²=0.00011]]"
     ]
    },
    {
     "name": "stdout",
     "output_type": "stream",
     "text": [
      "--->> cal O and jac  0.029776334762573242\n",
      "compute_update  0.03246331214904785\n",
      "(0.0494379251234273+0j)\n",
      "n_discard =  144\n",
      "discard samples 0.07478690147399902\n",
      "n_samples_node =  1000\n",
      "generate_samples :  0.0701754093170166\n",
      "     prepare getting local values 0.003542184829711914\n",
      "     obtained local values 0.007392168045043945\n",
      "get_mc_stats 0.01004171371459961\n"
     ]
    },
    {
     "name": "stderr",
     "output_type": "stream",
     "text": [
      " 14%|█▍        | 139/1000 [00:27<02:44,  5.23it/s, Energy=-2.10548+0.00000j ± 0.00039 [σ²=0.00011]]"
     ]
    },
    {
     "name": "stdout",
     "output_type": "stream",
     "text": [
      "--->> cal O and jac  0.029613494873046875\n",
      "compute_update  0.03240823745727539\n",
      "(0.049365244831564306+0j)\n",
      "n_discard =  144\n",
      "discard samples 0.07504439353942871\n",
      "n_samples_node =  1000\n",
      "generate_samples :  0.06933259963989258\n",
      "     prepare getting local values 0.0035419464111328125\n",
      "     obtained local values 0.0073740482330322266\n",
      "get_mc_stats 0.010380983352661133\n"
     ]
    },
    {
     "name": "stderr",
     "output_type": "stream",
     "text": [
      " 14%|█▍        | 140/1000 [00:27<02:44,  5.24it/s, Energy=-2.10640+0.00000j ± 0.00033 [σ²=0.00011]]"
     ]
    },
    {
     "name": "stdout",
     "output_type": "stream",
     "text": [
      "--->> cal O and jac  0.031013011932373047\n",
      "compute_update  0.03295540809631348\n",
      "(0.04929527922932829+0j)\n",
      "n_discard =  144\n",
      "discard samples 0.07467269897460938\n",
      "n_samples_node =  1000\n",
      "generate_samples :  0.0752558708190918\n",
      "     prepare getting local values 0.0036690235137939453\n",
      "     obtained local values 0.008382320404052734\n",
      "get_mc_stats 0.01175069808959961\n"
     ]
    },
    {
     "name": "stderr",
     "output_type": "stream",
     "text": [
      " 14%|█▍        | 141/1000 [00:27<02:46,  5.14it/s, Energy=-2.10543+0.00000j ± 0.00029 [σ²=0.00011]]"
     ]
    },
    {
     "name": "stdout",
     "output_type": "stream",
     "text": [
      "--->> cal O and jac  0.03541111946105957\n",
      "compute_update  0.03857874870300293\n",
      "(0.049205750499090956+0j)\n",
      "n_discard =  144\n",
      "discard samples 0.07725286483764648\n",
      "n_samples_node =  1000\n",
      "generate_samples :  0.07399201393127441\n",
      "     prepare getting local values 0.0026748180389404297\n",
      "     obtained local values 0.008701324462890625\n",
      "get_mc_stats 0.012116432189941406\n"
     ]
    },
    {
     "name": "stderr",
     "output_type": "stream",
     "text": [
      " 14%|█▍        | 142/1000 [00:27<02:49,  5.06it/s, Energy=-2.10520+0.00000j ± 0.00036 [σ²=0.00011]]"
     ]
    },
    {
     "name": "stdout",
     "output_type": "stream",
     "text": [
      "--->> cal O and jac  0.03639674186706543\n",
      "compute_update  0.03919553756713867\n",
      "(0.04912098269104075+0j)\n",
      "n_discard =  144\n",
      "discard samples 0.07797813415527344\n",
      "n_samples_node =  1000\n",
      "generate_samples :  0.07863712310791016\n",
      "     prepare getting local values 0.0023241043090820312\n",
      "     obtained local values 0.006270408630371094\n",
      "get_mc_stats 0.008869647979736328\n"
     ]
    },
    {
     "name": "stderr",
     "output_type": "stream",
     "text": [
      " 14%|█▍        | 143/1000 [00:27<02:51,  5.00it/s, Energy=-2.10620+0.00000j ± 0.00026 [σ²=0.00010]]"
     ]
    },
    {
     "name": "stdout",
     "output_type": "stream",
     "text": [
      "--->> cal O and jac  0.03640437126159668\n",
      "compute_update  0.038370370864868164\n",
      "(0.04902126261905247+0j)\n",
      "n_discard =  144\n",
      "discard samples 0.0804898738861084\n",
      "n_samples_node =  1000\n",
      "generate_samples :  0.07265615463256836\n",
      "     prepare getting local values 0.003541231155395508\n",
      "     obtained local values 0.006994724273681641\n",
      "get_mc_stats 0.01002645492553711\n"
     ]
    },
    {
     "name": "stderr",
     "output_type": "stream",
     "text": [
      " 14%|█▍        | 144/1000 [00:28<02:50,  5.02it/s, Energy=-2.10586+0.00000j ± 0.00037 [σ²=0.00010]]"
     ]
    },
    {
     "name": "stdout",
     "output_type": "stream",
     "text": [
      "--->> cal O and jac  0.028237104415893555\n",
      "compute_update  0.03197932243347168\n",
      "(0.04894872849476109+0j)\n",
      "n_discard =  144\n",
      "discard samples 0.0749967098236084\n",
      "n_samples_node =  1000\n",
      "generate_samples :  0.07674670219421387\n",
      "     prepare getting local values 0.0035407543182373047\n",
      "     obtained local values 0.010839700698852539\n",
      "get_mc_stats 0.014039993286132812\n"
     ]
    },
    {
     "name": "stderr",
     "output_type": "stream",
     "text": [
      " 14%|█▍        | 145/1000 [00:28<02:52,  4.95it/s, Energy=-2.10552+0.00000j ± 0.00031 [σ²=0.00011]]"
     ]
    },
    {
     "name": "stdout",
     "output_type": "stream",
     "text": [
      "--->> cal O and jac  0.03724932670593262\n",
      "compute_update  0.040752410888671875\n",
      "(0.04887985196185851+0j)\n",
      "n_discard =  144\n",
      "discard samples 0.0730125904083252\n",
      "n_samples_node =  1000\n",
      "generate_samples :  0.06749939918518066\n",
      "     prepare getting local values 0.003321409225463867\n",
      "     obtained local values 0.00949549674987793\n",
      "get_mc_stats 0.012464046478271484\n"
     ]
    },
    {
     "name": "stderr",
     "output_type": "stream",
     "text": [
      " 15%|█▍        | 146/1000 [00:28<02:47,  5.10it/s, Energy=-2.10591+0.00000j ± 0.00031 [σ²=0.00010]]"
     ]
    },
    {
     "name": "stdout",
     "output_type": "stream",
     "text": [
      "--->> cal O and jac  0.025432109832763672\n",
      "compute_update  0.02734994888305664\n",
      "(0.0488160367260257+0j)\n",
      "n_discard =  144\n",
      "discard samples 0.07559013366699219\n",
      "n_samples_node =  1000\n",
      "generate_samples :  0.06930780410766602\n",
      "     prepare getting local values 0.0017566680908203125\n",
      "     obtained local values 0.0052640438079833984\n",
      "get_mc_stats 0.0076482295989990234\n"
     ]
    },
    {
     "name": "stderr",
     "output_type": "stream",
     "text": [
      " 15%|█▍        | 147/1000 [00:28<02:45,  5.16it/s, Energy=-2.10549+0.00000j ± 0.00038 [σ²=0.00011]]"
     ]
    },
    {
     "name": "stdout",
     "output_type": "stream",
     "text": [
      "--->> cal O and jac  0.02965521812438965\n",
      "compute_update  0.03309512138366699\n",
      "(0.0487494641665142+0j)\n",
      "n_discard =  144\n",
      "discard samples 0.07759332656860352\n",
      "n_samples_node =  1000\n",
      "generate_samples :  0.0720357894897461\n",
      "     prepare getting local values 0.003595113754272461\n",
      "     obtained local values 0.008511066436767578\n",
      "get_mc_stats 0.011955499649047852\n"
     ]
    },
    {
     "name": "stderr",
     "output_type": "stream",
     "text": [
      "\r",
      " 15%|█▍        | 147/1000 [00:28<02:45,  5.16it/s, Energy=-2.10597+0.00000j ± 0.00031 [σ²=0.00011]]"
     ]
    },
    {
     "name": "stdout",
     "output_type": "stream",
     "text": [
      "--->> cal O and jac  0.03088665008544922\n",
      "compute_update  0.03286170959472656\n"
     ]
    },
    {
     "name": "stderr",
     "output_type": "stream",
     "text": [
      "\r",
      " 15%|█▍        | 148/1000 [00:28<02:45,  5.14it/s, Energy=-2.10597+0.00000j ± 0.00031 [σ²=0.00011]]"
     ]
    },
    {
     "name": "stdout",
     "output_type": "stream",
     "text": [
      "(0.04870323027555252+0j)\n",
      "n_discard =  144\n",
      "discard samples 0.07351851463317871\n",
      "n_samples_node =  1000\n",
      "generate_samples :  0.07273674011230469\n",
      "     prepare getting local values 0.003536224365234375\n",
      "     obtained local values 0.010323047637939453\n",
      "get_mc_stats 0.01362299919128418\n"
     ]
    },
    {
     "name": "stderr",
     "output_type": "stream",
     "text": [
      " 15%|█▍        | 149/1000 [00:29<02:48,  5.05it/s, Energy=-2.10579+0.00000j ± 0.00037 [σ²=0.00010]]"
     ]
    },
    {
     "name": "stdout",
     "output_type": "stream",
     "text": [
      "--->> cal O and jac  0.04075813293457031\n",
      "compute_update  0.04395747184753418\n",
      "(0.04865038120087807+0j)\n",
      "n_discard =  144\n",
      "discard samples 0.07808446884155273\n",
      "n_samples_node =  1000\n",
      "generate_samples :  0.0711369514465332\n",
      "     prepare getting local values 0.0036063194274902344\n",
      "     obtained local values 0.007634878158569336\n",
      "get_mc_stats 0.010506153106689453\n",
      "--->> cal O and jac  0.034130096435546875\n"
     ]
    },
    {
     "name": "stderr",
     "output_type": "stream",
     "text": [
      " 15%|█▌        | 150/1000 [00:29<02:48,  5.04it/s, Energy=-2.10576+0.00000j ± 0.00031 [σ²=0.00010]]"
     ]
    },
    {
     "name": "stdout",
     "output_type": "stream",
     "text": [
      "compute_update  0.03791093826293945\n",
      "(0.04860597217887707+0j)\n",
      "n_discard =  144\n",
      "discard samples 0.08091473579406738\n",
      "n_samples_node =  1000\n",
      "generate_samples :  0.07572722434997559\n",
      "     prepare getting local values 0.003512144088745117\n",
      "     obtained local values 0.009677886962890625\n",
      "get_mc_stats 0.01301431655883789\n"
     ]
    },
    {
     "name": "stderr",
     "output_type": "stream",
     "text": [
      " 15%|█▌        | 151/1000 [00:29<02:49,  4.99it/s, Energy=-2.10562+0.00000j ± 0.00026 [σ²=0.00010]]"
     ]
    },
    {
     "name": "stdout",
     "output_type": "stream",
     "text": [
      "--->> cal O and jac  0.029902219772338867\n",
      "compute_update  0.03187823295593262\n",
      "(0.04855036441381901+0j)\n",
      "n_discard =  144\n",
      "discard samples 0.0727376937866211\n",
      "n_samples_node =  1000\n",
      "generate_samples :  0.06868433952331543\n",
      "     prepare getting local values 0.00365447998046875\n",
      "     obtained local values 0.009744882583618164\n",
      "get_mc_stats 0.013467550277709961\n"
     ]
    },
    {
     "name": "stderr",
     "output_type": "stream",
     "text": [
      " 15%|█▌        | 152/1000 [00:29<02:48,  5.04it/s, Energy=-2.10544+0.00000j ± 0.00029 [σ²=0.00010]]"
     ]
    },
    {
     "name": "stdout",
     "output_type": "stream",
     "text": [
      "--->> cal O and jac  0.035352230072021484\n",
      "compute_update  0.03744029998779297\n",
      "(0.04849438374245134+0j)\n",
      "n_discard =  144\n",
      "discard samples 0.07555174827575684\n",
      "n_samples_node =  1000\n",
      "generate_samples :  0.07357335090637207\n",
      "     prepare getting local values 0.0036389827728271484\n",
      "     obtained local values 0.008632421493530273\n",
      "get_mc_stats 0.011784553527832031\n"
     ]
    },
    {
     "name": "stderr",
     "output_type": "stream",
     "text": [
      " 15%|█▌        | 153/1000 [00:29<02:47,  5.06it/s, Energy=-2.10530+0.00000j ± 0.00030 [σ²=0.00009]]"
     ]
    },
    {
     "name": "stdout",
     "output_type": "stream",
     "text": [
      "--->> cal O and jac  0.031709909439086914\n",
      "compute_update  0.0335843563079834\n",
      "(0.048458583125391114+0j)\n",
      "n_discard =  144\n",
      "discard samples 0.07157182693481445\n",
      "n_samples_node =  1000\n",
      "generate_samples :  0.07209420204162598\n",
      "     prepare getting local values 0.0030901432037353516\n",
      "     obtained local values 0.009630918502807617\n",
      "get_mc_stats 0.012702465057373047\n"
     ]
    },
    {
     "name": "stderr",
     "output_type": "stream",
     "text": [
      " 15%|█▌        | 154/1000 [00:30<02:46,  5.07it/s, Energy=-2.10613+0.00000j ± 0.00028 [σ²=0.00010]]"
     ]
    },
    {
     "name": "stdout",
     "output_type": "stream",
     "text": [
      "--->> cal O and jac  0.033371925354003906\n",
      "compute_update  0.036606788635253906\n",
      "(0.04840107046405271+0j)\n",
      "n_discard =  144\n",
      "discard samples 0.07630038261413574\n",
      "n_samples_node =  1000\n",
      "generate_samples :  0.07057929039001465\n",
      "     prepare getting local values 0.0031595230102539062\n",
      "     obtained local values 0.008863210678100586\n",
      "get_mc_stats 0.011909008026123047\n"
     ]
    },
    {
     "name": "stderr",
     "output_type": "stream",
     "text": [
      " 16%|█▌        | 155/1000 [00:30<02:45,  5.09it/s, Energy=-2.10548+0.00000j ± 0.00038 [σ²=0.00010]]"
     ]
    },
    {
     "name": "stdout",
     "output_type": "stream",
     "text": [
      "--->> cal O and jac  0.03099656105041504\n",
      "compute_update  0.03294086456298828\n",
      "(0.048357206617978765+0j)\n",
      "n_discard =  144\n",
      "discard samples 0.07187247276306152\n",
      "n_samples_node =  1000\n",
      "generate_samples :  0.0713493824005127\n",
      "     prepare getting local values 0.002526521682739258\n",
      "     obtained local values 0.005969524383544922\n",
      "get_mc_stats 0.008774518966674805\n"
     ]
    },
    {
     "name": "stderr",
     "output_type": "stream",
     "text": [
      " 16%|█▌        | 156/1000 [00:30<02:44,  5.14it/s, Energy=-2.10607+0.00000j ± 0.00032 [σ²=0.00011]]"
     ]
    },
    {
     "name": "stdout",
     "output_type": "stream",
     "text": [
      "--->> cal O and jac  0.03250861167907715\n",
      "compute_update  0.03578543663024902\n",
      "(0.048314851193682756+0j)\n",
      "n_discard =  144\n",
      "discard samples 0.07635211944580078\n",
      "n_samples_node =  1000\n",
      "generate_samples :  0.0723264217376709\n",
      "     prepare getting local values 0.0036339759826660156\n",
      "     obtained local values 0.009456872940063477\n",
      "get_mc_stats 0.012789726257324219\n"
     ]
    },
    {
     "name": "stderr",
     "output_type": "stream",
     "text": [
      " 16%|█▌        | 157/1000 [00:30<02:46,  5.07it/s, Energy=-2.10577+0.00000j ± 0.00032 [σ²=0.00009]]"
     ]
    },
    {
     "name": "stdout",
     "output_type": "stream",
     "text": [
      "--->> cal O and jac  0.038507699966430664\n",
      "compute_update  0.04055500030517578\n",
      "(0.04826094489676851+0j)\n",
      "n_discard =  144\n",
      "discard samples 0.07519078254699707\n",
      "n_samples_node =  1000\n",
      "generate_samples :  0.07425689697265625\n",
      "     prepare getting local values 0.003288745880126953\n",
      "     obtained local values 0.010743856430053711\n",
      "get_mc_stats 0.013481855392456055\n"
     ]
    },
    {
     "name": "stderr",
     "output_type": "stream",
     "text": [
      " 16%|█▌        | 158/1000 [00:30<02:47,  5.01it/s, Energy=-2.10577+0.00000j ± 0.00030 [σ²=0.00010]]"
     ]
    },
    {
     "name": "stdout",
     "output_type": "stream",
     "text": [
      "--->> cal O and jac  0.03697657585144043\n",
      "compute_update  0.0393064022064209\n",
      "(0.04823282664515876+0j)\n",
      "n_discard =  144\n",
      "discard samples 0.08157515525817871\n",
      "n_samples_node =  1000\n",
      "generate_samples :  0.07405948638916016\n",
      "     prepare getting local values 0.0016937255859375\n",
      "     obtained local values 0.005114316940307617\n",
      "get_mc_stats 0.006837129592895508\n"
     ]
    },
    {
     "name": "stderr",
     "output_type": "stream",
     "text": [
      " 16%|█▌        | 159/1000 [00:31<02:48,  4.99it/s, Energy=-2.10549+0.00000j ± 0.00027 [σ²=0.00010]]"
     ]
    },
    {
     "name": "stdout",
     "output_type": "stream",
     "text": [
      "--->> cal O and jac  0.03529787063598633\n",
      "compute_update  0.03730010986328125\n",
      "(0.04820573188740818+0j)\n",
      "n_discard =  144\n",
      "discard samples 0.07272195816040039\n",
      "n_samples_node =  1000\n",
      "generate_samples :  0.06637167930603027\n",
      "     prepare getting local values 0.003389120101928711\n",
      "     obtained local values 0.009530782699584961\n",
      "get_mc_stats 0.012537717819213867\n"
     ]
    },
    {
     "name": "stderr",
     "output_type": "stream",
     "text": [
      " 16%|█▌        | 160/1000 [00:31<02:45,  5.08it/s, Energy=-2.10605+0.00000j ± 0.00032 [σ²=0.00009]]"
     ]
    },
    {
     "name": "stdout",
     "output_type": "stream",
     "text": [
      "--->> cal O and jac  0.031889915466308594\n",
      "compute_update  0.03570079803466797\n",
      "(0.04817059058650629+0j)\n",
      "n_discard =  144\n",
      "discard samples 0.07418465614318848\n",
      "n_samples_node =  1000\n",
      "generate_samples :  0.06531882286071777\n",
      "     prepare getting local values 0.0035283565521240234\n",
      "     obtained local values 0.00943303108215332\n",
      "get_mc_stats 0.012440204620361328\n"
     ]
    },
    {
     "name": "stderr",
     "output_type": "stream",
     "text": [
      " 16%|█▌        | 161/1000 [00:31<02:42,  5.15it/s, Energy=-2.10564+0.00000j ± 0.00030 [σ²=0.00009]]"
     ]
    },
    {
     "name": "stdout",
     "output_type": "stream",
     "text": [
      "--->> cal O and jac  0.02965402603149414\n",
      "compute_update  0.03334522247314453\n",
      "(0.04811386650594271+0j)\n",
      "n_discard =  144\n",
      "discard samples 0.08087301254272461\n",
      "n_samples_node =  1000\n",
      "generate_samples :  0.06989240646362305\n",
      "     prepare getting local values 0.0034241676330566406\n",
      "     obtained local values 0.009619712829589844\n",
      "get_mc_stats 0.012629508972167969\n"
     ]
    },
    {
     "name": "stderr",
     "output_type": "stream",
     "text": [
      " 16%|█▌        | 162/1000 [00:31<02:44,  5.10it/s, Energy=-2.10580+0.00000j ± 0.00033 [σ²=0.00009]]"
     ]
    },
    {
     "name": "stdout",
     "output_type": "stream",
     "text": [
      "--->> cal O and jac  0.03263688087463379\n",
      "compute_update  0.03470039367675781\n",
      "(0.04808112763873514+0j)\n",
      "n_discard =  144\n",
      "discard samples 0.07402706146240234\n",
      "n_samples_node =  1000\n",
      "generate_samples :  0.06584525108337402\n",
      "     prepare getting local values 0.003890514373779297\n",
      "     obtained local values 0.0072689056396484375\n",
      "get_mc_stats 0.011103391647338867\n"
     ]
    },
    {
     "name": "stderr",
     "output_type": "stream",
     "text": [
      " 16%|█▋        | 163/1000 [00:31<02:41,  5.17it/s, Energy=-2.10568+0.00000j ± 0.00029 [σ²=0.00008]]"
     ]
    },
    {
     "name": "stdout",
     "output_type": "stream",
     "text": [
      "--->> cal O and jac  0.03156852722167969\n",
      "compute_update  0.034560203552246094\n",
      "(0.048045136254477365+0j)\n",
      "n_discard =  144\n",
      "discard samples 0.0782475471496582\n",
      "n_samples_node =  1000\n",
      "generate_samples :  0.06561899185180664\n",
      "     prepare getting local values 0.0035903453826904297\n",
      "     obtained local values 0.007525205612182617\n",
      "get_mc_stats 0.010956764221191406\n"
     ]
    },
    {
     "name": "stderr",
     "output_type": "stream",
     "text": [
      " 16%|█▋        | 164/1000 [00:32<02:43,  5.11it/s, Energy=-2.10552+0.00000j ± 0.00032 [σ²=0.00009]]"
     ]
    },
    {
     "name": "stdout",
     "output_type": "stream",
     "text": [
      "--->> cal O and jac  0.04146838188171387\n",
      "compute_update  0.044602394104003906\n",
      "(0.04799674364707333+0j)\n",
      "n_discard =  144\n",
      "discard samples 0.08080220222473145\n",
      "n_samples_node =  1000\n",
      "generate_samples :  0.07982468605041504\n",
      "     prepare getting local values 0.0035295486450195312\n",
      "     obtained local values 0.008041620254516602\n",
      "get_mc_stats 0.010698318481445312\n"
     ]
    },
    {
     "name": "stderr",
     "output_type": "stream",
     "text": [
      " 16%|█▋        | 165/1000 [00:32<02:47,  5.00it/s, Energy=-2.10517+0.00000j ± 0.00028 [σ²=0.00008]]"
     ]
    },
    {
     "name": "stdout",
     "output_type": "stream",
     "text": [
      "--->> cal O and jac  0.03418922424316406\n",
      "compute_update  0.03609418869018555\n",
      "(0.04795213516692013+0j)\n",
      "n_discard =  144\n",
      "discard samples 0.07959151268005371\n",
      "n_samples_node =  1000\n",
      "generate_samples :  0.07329082489013672\n",
      "     prepare getting local values 0.0036640167236328125\n",
      "     obtained local values 0.009389400482177734\n",
      "get_mc_stats 0.01217198371887207\n",
      "--->> cal O and jac  0.030734539031982422\n"
     ]
    },
    {
     "name": "stderr",
     "output_type": "stream",
     "text": [
      " 17%|█▋        | 166/1000 [00:32<02:47,  4.99it/s, Energy=-2.10565+0.00000j ± 0.00027 [σ²=0.00009]]"
     ]
    },
    {
     "name": "stdout",
     "output_type": "stream",
     "text": [
      "compute_update  0.034139394760131836\n",
      "(0.04790341851156473+0j)\n",
      "n_discard =  144\n",
      "discard samples 0.07453012466430664\n",
      "n_samples_node =  1000\n",
      "generate_samples :  0.07395267486572266\n",
      "     prepare getting local values 0.0021064281463623047\n",
      "     obtained local values 0.007917642593383789\n",
      "get_mc_stats 0.010101318359375\n"
     ]
    },
    {
     "name": "stderr",
     "output_type": "stream",
     "text": [
      "\r",
      " 17%|█▋        | 166/1000 [00:32<02:47,  4.99it/s, Energy=-2.10590+0.00000j ± 0.00026 [σ²=0.00009]]"
     ]
    },
    {
     "name": "stdout",
     "output_type": "stream",
     "text": [
      "--->> cal O and jac  0.037038326263427734\n",
      "compute_update  0.03895854949951172\n"
     ]
    },
    {
     "name": "stderr",
     "output_type": "stream",
     "text": [
      "\r",
      " 17%|█▋        | 167/1000 [00:32<02:46,  4.99it/s, Energy=-2.10590+0.00000j ± 0.00026 [σ²=0.00009]]"
     ]
    },
    {
     "name": "stdout",
     "output_type": "stream",
     "text": [
      "(0.04784995201300359+0j)\n",
      "n_discard =  144\n",
      "discard samples 0.07837820053100586\n",
      "n_samples_node =  1000\n",
      "generate_samples :  0.07036733627319336\n",
      "     prepare getting local values 0.0039403438568115234\n",
      "     obtained local values 0.00758051872253418\n",
      "get_mc_stats 0.0106048583984375\n"
     ]
    },
    {
     "name": "stderr",
     "output_type": "stream",
     "text": [
      " 17%|█▋        | 168/1000 [00:32<02:44,  5.05it/s, Energy=-2.10555+0.00000j ± 0.00025 [σ²=0.00008]]"
     ]
    },
    {
     "name": "stdout",
     "output_type": "stream",
     "text": [
      "--->> cal O and jac  0.02946758270263672\n",
      "compute_update  0.031679391860961914\n",
      "(0.04781253310970954+0j)\n",
      "n_discard =  144\n",
      "discard samples 0.07580685615539551\n",
      "n_samples_node =  1000\n",
      "generate_samples :  0.07353854179382324\n",
      "     prepare getting local values 0.003597259521484375\n",
      "     obtained local values 0.007291555404663086\n",
      "get_mc_stats 0.010341882705688477\n"
     ]
    },
    {
     "name": "stderr",
     "output_type": "stream",
     "text": [
      " 17%|█▋        | 169/1000 [00:33<02:44,  5.06it/s, Energy=-2.10625+0.00000j ± 0.00030 [σ²=0.00008]]"
     ]
    },
    {
     "name": "stdout",
     "output_type": "stream",
     "text": [
      "--->> cal O and jac  0.032271385192871094\n",
      "compute_update  0.03524518013000488\n",
      "(0.04774621456385018+0j)\n",
      "n_discard =  144\n",
      "discard samples 0.07686328887939453\n",
      "n_samples_node =  1000\n",
      "generate_samples :  0.07237434387207031\n",
      "     prepare getting local values 0.0017580986022949219\n",
      "     obtained local values 0.005645751953125\n",
      "get_mc_stats 0.007500171661376953\n"
     ]
    },
    {
     "name": "stderr",
     "output_type": "stream",
     "text": [
      " 17%|█▋        | 170/1000 [00:33<02:43,  5.07it/s, Energy=-2.10543+0.00000j ± 0.00024 [σ²=0.00008]]"
     ]
    },
    {
     "name": "stdout",
     "output_type": "stream",
     "text": [
      "--->> cal O and jac  0.033753156661987305\n",
      "compute_update  0.03607964515686035\n",
      "(0.047727258551979325+0j)\n",
      "n_discard =  144\n",
      "discard samples 0.07798242568969727\n",
      "n_samples_node =  1000\n",
      "generate_samples :  0.07418131828308105\n",
      "     prepare getting local values 0.004010677337646484\n",
      "     obtained local values 0.009933710098266602\n",
      "get_mc_stats 0.013282060623168945\n"
     ]
    },
    {
     "name": "stderr",
     "output_type": "stream",
     "text": [
      " 17%|█▋        | 171/1000 [00:33<02:44,  5.03it/s, Energy=-2.10556+0.00000j ± 0.00020 [σ²=0.00007]]"
     ]
    },
    {
     "name": "stdout",
     "output_type": "stream",
     "text": [
      "--->> cal O and jac  0.03226804733276367\n",
      "compute_update  0.03422713279724121\n",
      "(0.04769935372661782+0j)\n",
      "n_discard =  144\n",
      "discard samples 0.07335686683654785\n",
      "n_samples_node =  1000\n",
      "generate_samples :  0.07496333122253418\n",
      "     prepare getting local values 0.0028638839721679688\n",
      "     obtained local values 0.009423971176147461\n",
      "get_mc_stats 0.011435508728027344\n",
      "--->> cal O and jac  0.03584647178649902\n"
     ]
    },
    {
     "name": "stderr",
     "output_type": "stream",
     "text": [
      " 17%|█▋        | 172/1000 [00:33<02:45,  5.01it/s, Energy=-2.10574+0.00000j ± 0.00025 [σ²=0.00007]]"
     ]
    },
    {
     "name": "stdout",
     "output_type": "stream",
     "text": [
      "compute_update  0.03996443748474121\n",
      "(0.047670853052573375+0j)\n",
      "n_discard =  144\n",
      "discard samples 0.0789639949798584\n",
      "n_samples_node =  1000\n",
      "generate_samples :  0.07050251960754395\n",
      "     prepare getting local values 0.001753091812133789\n",
      "     obtained local values 0.005369901657104492\n",
      "get_mc_stats 0.007521152496337891\n",
      "--->> cal O and jac  0.03803706169128418\n"
     ]
    },
    {
     "name": "stderr",
     "output_type": "stream",
     "text": [
      "\r",
      " 17%|█▋        | 172/1000 [00:33<02:45,  5.01it/s, Energy=-2.10570+0.00000j ± 0.00022 [σ²=0.00007]]"
     ]
    },
    {
     "name": "stdout",
     "output_type": "stream",
     "text": [
      "compute_update  0.041741371154785156\n"
     ]
    },
    {
     "name": "stderr",
     "output_type": "stream",
     "text": [
      "\r",
      " 17%|█▋        | 173/1000 [00:33<02:45,  5.00it/s, Energy=-2.10570+0.00000j ± 0.00022 [σ²=0.00007]]"
     ]
    },
    {
     "name": "stdout",
     "output_type": "stream",
     "text": [
      "(0.04764131788996491+0j)\n",
      "n_discard =  144\n",
      "discard samples 0.07709074020385742\n",
      "n_samples_node =  1000\n",
      "generate_samples :  0.07244205474853516\n",
      "     prepare getting local values 0.0037164688110351562\n",
      "     obtained local values 0.007272005081176758\n",
      "get_mc_stats 0.01075434684753418\n"
     ]
    },
    {
     "name": "stderr",
     "output_type": "stream",
     "text": [
      "\r",
      " 17%|█▋        | 173/1000 [00:34<02:45,  5.00it/s, Energy=-2.10546+0.00000j ± 0.00020 [σ²=0.00007]]"
     ]
    },
    {
     "name": "stdout",
     "output_type": "stream",
     "text": [
      "--->> cal O and jac  0.0323948860168457\n",
      "compute_update  0.03497505187988281\n"
     ]
    },
    {
     "name": "stderr",
     "output_type": "stream",
     "text": [
      "\r",
      " 17%|█▋        | 174/1000 [00:34<02:44,  5.02it/s, Energy=-2.10546+0.00000j ± 0.00020 [σ²=0.00007]]"
     ]
    },
    {
     "name": "stdout",
     "output_type": "stream",
     "text": [
      "(0.04760895203024006+0j)\n",
      "n_discard =  144\n",
      "discard samples 0.07863259315490723\n",
      "n_samples_node =  1000\n",
      "generate_samples :  0.06959176063537598\n",
      "     prepare getting local values 0.0034232139587402344\n",
      "     obtained local values 0.006631135940551758\n",
      "get_mc_stats 0.009936809539794922\n"
     ]
    },
    {
     "name": "stderr",
     "output_type": "stream",
     "text": [
      " 18%|█▊        | 175/1000 [00:34<02:42,  5.06it/s, Energy=-2.10541+0.00000j ± 0.00021 [σ²=0.00006]]"
     ]
    },
    {
     "name": "stdout",
     "output_type": "stream",
     "text": [
      "--->> cal O and jac  0.030764102935791016\n",
      "compute_update  0.03287506103515625\n",
      "(0.04757367570360272+0j)\n",
      "n_discard =  144\n",
      "discard samples 0.07597565650939941\n",
      "n_samples_node =  1000\n",
      "generate_samples :  0.06754636764526367\n",
      "     prepare getting local values 0.0033054351806640625\n",
      "     obtained local values 0.007025003433227539\n",
      "get_mc_stats 0.011221647262573242\n"
     ]
    },
    {
     "name": "stderr",
     "output_type": "stream",
     "text": [
      " 18%|█▊        | 176/1000 [00:34<02:41,  5.11it/s, Energy=-2.10563+0.00000j ± 0.00021 [σ²=0.00006]]"
     ]
    },
    {
     "name": "stdout",
     "output_type": "stream",
     "text": [
      "--->> cal O and jac  0.03229165077209473\n",
      "compute_update  0.03443288803100586\n",
      "(0.04754160297695188+0j)\n",
      "n_discard =  144\n",
      "discard samples 0.08074688911437988\n",
      "n_samples_node =  1000\n",
      "generate_samples :  0.07308411598205566\n",
      "     prepare getting local values 0.0019421577453613281\n",
      "     obtained local values 0.005300045013427734\n",
      "get_mc_stats 0.00770258903503418\n"
     ]
    },
    {
     "name": "stderr",
     "output_type": "stream",
     "text": [
      " 18%|█▊        | 177/1000 [00:34<02:42,  5.07it/s, Energy=-2.10549+0.00000j ± 0.00020 [σ²=0.00006]]"
     ]
    },
    {
     "name": "stdout",
     "output_type": "stream",
     "text": [
      "--->> cal O and jac  0.03626871109008789\n",
      "compute_update  0.03816938400268555\n",
      "(0.04750682180047993+0j)\n",
      "n_discard =  144\n",
      "discard samples 0.08173251152038574\n",
      "n_samples_node =  1000\n",
      "generate_samples :  0.0780942440032959\n",
      "     prepare getting local values 0.0033969879150390625\n",
      "     obtained local values 0.00873875617980957\n",
      "get_mc_stats 0.010326862335205078\n"
     ]
    },
    {
     "name": "stderr",
     "output_type": "stream",
     "text": [
      " 18%|█▊        | 178/1000 [00:34<02:43,  5.02it/s, Energy=-2.10588+0.00000j ± 0.00027 [σ²=0.00006]]"
     ]
    },
    {
     "name": "stdout",
     "output_type": "stream",
     "text": [
      "--->> cal O and jac  0.02845001220703125\n",
      "compute_update  0.03115081787109375\n",
      "(0.04747724056468594+0j)\n",
      "n_discard =  144\n",
      "discard samples 0.07300710678100586\n",
      "n_samples_node =  1000\n",
      "generate_samples :  0.070892333984375\n",
      "     prepare getting local values 0.001750946044921875\n",
      "     obtained local values 0.005062103271484375\n",
      "get_mc_stats 0.0067138671875\n"
     ]
    },
    {
     "name": "stderr",
     "output_type": "stream",
     "text": [
      " 18%|█▊        | 179/1000 [00:35<02:40,  5.11it/s, Energy=-2.10570+0.00000j ± 0.00026 [σ²=0.00006]]"
     ]
    },
    {
     "name": "stdout",
     "output_type": "stream",
     "text": [
      "--->> cal O and jac  0.033193349838256836\n",
      "compute_update  0.03529500961303711\n",
      "(0.047448268522425466+0j)\n",
      "n_discard =  144\n",
      "discard samples 0.08004498481750488\n",
      "n_samples_node =  1000\n",
      "generate_samples :  0.07122468948364258\n",
      "     prepare getting local values 0.0035712718963623047\n",
      "     obtained local values 0.009149789810180664\n",
      "get_mc_stats 0.012378215789794922\n"
     ]
    },
    {
     "name": "stderr",
     "output_type": "stream",
     "text": [
      " 18%|█▊        | 180/1000 [00:35<02:42,  5.05it/s, Energy=-2.10549+0.00000j ± 0.00025 [σ²=0.00006]]"
     ]
    },
    {
     "name": "stdout",
     "output_type": "stream",
     "text": [
      "--->> cal O and jac  0.03488492965698242\n",
      "compute_update  0.03677654266357422\n",
      "(0.04741359475855194+0j)\n",
      "n_discard =  144\n",
      "discard samples 0.07450723648071289\n",
      "n_samples_node =  1000\n",
      "generate_samples :  0.06920480728149414\n",
      "     prepare getting local values 0.0017037391662597656\n",
      "     obtained local values 0.005115985870361328\n",
      "get_mc_stats 0.006926774978637695\n"
     ]
    },
    {
     "name": "stderr",
     "output_type": "stream",
     "text": [
      " 18%|█▊        | 181/1000 [00:35<02:38,  5.18it/s, Energy=-2.10572+0.00000j ± 0.00022 [σ²=0.00006]]"
     ]
    },
    {
     "name": "stdout",
     "output_type": "stream",
     "text": [
      "--->> cal O and jac  0.027213573455810547\n",
      "compute_update  0.029044628143310547\n",
      "(0.04738655030166256+0j)\n",
      "n_discard =  144\n",
      "discard samples 0.07283663749694824\n",
      "n_samples_node =  1000\n",
      "generate_samples :  0.07005548477172852\n",
      "     prepare getting local values 0.003503561019897461\n",
      "     obtained local values 0.007227897644042969\n",
      "get_mc_stats 0.009861469268798828\n"
     ]
    },
    {
     "name": "stderr",
     "output_type": "stream",
     "text": [
      " 18%|█▊        | 182/1000 [00:35<02:36,  5.23it/s, Energy=-2.10535+0.00000j ± 0.00020 [σ²=0.00005]]"
     ]
    },
    {
     "name": "stdout",
     "output_type": "stream",
     "text": [
      "--->> cal O and jac  0.02909231185913086\n",
      "compute_update  0.03203749656677246\n",
      "(0.047357537120526635+0j)\n",
      "n_discard =  144\n",
      "discard samples 0.07178831100463867\n",
      "n_samples_node =  1000\n",
      "generate_samples :  0.07123279571533203\n",
      "     prepare getting local values 0.0030808448791503906\n",
      "     obtained local values 0.008785009384155273\n",
      "get_mc_stats 0.01175999641418457\n"
     ]
    },
    {
     "name": "stderr",
     "output_type": "stream",
     "text": [
      " 18%|█▊        | 183/1000 [00:35<02:35,  5.24it/s, Energy=-2.10548+0.00000j ± 0.00020 [σ²=0.00005]]"
     ]
    },
    {
     "name": "stdout",
     "output_type": "stream",
     "text": [
      "--->> cal O and jac  0.03148198127746582\n",
      "compute_update  0.03335857391357422\n",
      "(0.04732921960700791+0j)\n",
      "n_discard =  144\n",
      "discard samples 0.07563424110412598\n",
      "n_samples_node =  1000\n",
      "generate_samples :  0.07709527015686035\n",
      "     prepare getting local values 0.0035262107849121094\n",
      "     obtained local values 0.009200096130371094\n",
      "get_mc_stats 0.012352228164672852\n"
     ]
    },
    {
     "name": "stderr",
     "output_type": "stream",
     "text": [
      " 18%|█▊        | 184/1000 [00:36<02:39,  5.11it/s, Energy=-2.10546+0.00000j ± 0.00023 [σ²=0.00005]]"
     ]
    },
    {
     "name": "stdout",
     "output_type": "stream",
     "text": [
      "--->> cal O and jac  0.03760123252868652\n",
      "compute_update  0.04070711135864258\n",
      "(0.047300517133444214+0j)\n",
      "n_discard =  144\n",
      "discard samples 0.07660937309265137\n",
      "n_samples_node =  1000\n",
      "generate_samples :  0.06964492797851562\n",
      "     prepare getting local values 0.0035512447357177734\n",
      "     obtained local values 0.009036540985107422\n",
      "get_mc_stats 0.011759519577026367\n"
     ]
    },
    {
     "name": "stderr",
     "output_type": "stream",
     "text": [
      "\r",
      " 18%|█▊        | 184/1000 [00:36<02:39,  5.11it/s, Energy=-2.10547+0.00000j ± 0.00020 [σ²=0.00005]]"
     ]
    },
    {
     "name": "stdout",
     "output_type": "stream",
     "text": [
      "--->> cal O and jac  0.03282666206359863\n",
      "compute_update  0.036286354064941406\n"
     ]
    },
    {
     "name": "stderr",
     "output_type": "stream",
     "text": [
      "\r",
      " 18%|█▊        | 185/1000 [00:36<02:39,  5.10it/s, Energy=-2.10547+0.00000j ± 0.00020 [σ²=0.00005]]"
     ]
    },
    {
     "name": "stdout",
     "output_type": "stream",
     "text": [
      "(0.04728196350414852+0j)\n",
      "n_discard =  144\n",
      "discard samples 0.07923507690429688\n",
      "n_samples_node =  1000\n",
      "generate_samples :  0.07208561897277832\n",
      "     prepare getting local values 0.0035381317138671875\n",
      "     obtained local values 0.00970458984375\n",
      "get_mc_stats 0.012697219848632812\n"
     ]
    },
    {
     "name": "stderr",
     "output_type": "stream",
     "text": [
      "\r",
      " 18%|█▊        | 185/1000 [00:36<02:39,  5.10it/s, Energy=-2.10581+0.00000j ± 0.00024 [σ²=0.00005]]"
     ]
    },
    {
     "name": "stdout",
     "output_type": "stream",
     "text": [
      "--->> cal O and jac  0.03300595283508301\n",
      "compute_update  0.03500962257385254\n"
     ]
    },
    {
     "name": "stderr",
     "output_type": "stream",
     "text": [
      "\r",
      " 19%|█▊        | 186/1000 [00:36<02:41,  5.06it/s, Energy=-2.10581+0.00000j ± 0.00024 [σ²=0.00005]]"
     ]
    },
    {
     "name": "stdout",
     "output_type": "stream",
     "text": [
      "(0.04725863618806862+0j)\n",
      "n_discard =  144\n",
      "discard samples 0.06995415687561035\n",
      "n_samples_node =  1000\n",
      "generate_samples :  0.06894707679748535\n",
      "     prepare getting local values 0.0016639232635498047\n",
      "     obtained local values 0.005084991455078125\n",
      "get_mc_stats 0.0070416927337646484\n"
     ]
    },
    {
     "name": "stderr",
     "output_type": "stream",
     "text": [
      " 19%|█▊        | 187/1000 [00:36<02:37,  5.15it/s, Energy=-2.10583+0.00000j ± 0.00022 [σ²=0.00005]]"
     ]
    },
    {
     "name": "stdout",
     "output_type": "stream",
     "text": [
      "--->> cal O and jac  0.03452706336975098\n",
      "compute_update  0.037970781326293945\n",
      "(0.04723604877764784+0j)\n",
      "n_discard =  144\n",
      "discard samples 0.07932138442993164\n",
      "n_samples_node =  1000\n",
      "generate_samples :  0.06849455833435059\n",
      "     prepare getting local values 0.001697540283203125\n",
      "     obtained local values 0.005043506622314453\n",
      "get_mc_stats 0.007407665252685547\n"
     ]
    },
    {
     "name": "stderr",
     "output_type": "stream",
     "text": [
      " 19%|█▉        | 188/1000 [00:36<02:37,  5.17it/s, Energy=-2.10595+0.00000j ± 0.00014 [σ²=0.00005]]"
     ]
    },
    {
     "name": "stdout",
     "output_type": "stream",
     "text": [
      "--->> cal O and jac  0.030930042266845703\n",
      "compute_update  0.03422379493713379\n",
      "(0.04721508269719168+0j)\n",
      "n_discard =  144\n",
      "discard samples 0.0783836841583252\n",
      "n_samples_node =  1000\n",
      "generate_samples :  0.07041239738464355\n",
      "     prepare getting local values 0.0036110877990722656\n",
      "     obtained local values 0.009728670120239258\n",
      "get_mc_stats 0.01335287094116211\n"
     ]
    },
    {
     "name": "stderr",
     "output_type": "stream",
     "text": [
      " 19%|█▉        | 189/1000 [00:37<02:38,  5.11it/s, Energy=-2.10580+0.00000j ± 0.00018 [σ²=0.00005]]"
     ]
    },
    {
     "name": "stdout",
     "output_type": "stream",
     "text": [
      "--->> cal O and jac  0.0338287353515625\n",
      "compute_update  0.036010026931762695\n",
      "(0.047203376764536495+0j)\n",
      "n_discard =  144\n",
      "discard samples 0.08395528793334961\n",
      "n_samples_node =  1000\n",
      "generate_samples :  0.0698401927947998\n",
      "     prepare getting local values 0.004064083099365234\n",
      "     obtained local values 0.007325172424316406\n",
      "get_mc_stats 0.011721134185791016\n"
     ]
    },
    {
     "name": "stderr",
     "output_type": "stream",
     "text": [
      " 19%|█▉        | 190/1000 [00:37<02:40,  5.05it/s, Energy=-2.10589+0.00000j ± 0.00019 [σ²=0.00005]]"
     ]
    },
    {
     "name": "stdout",
     "output_type": "stream",
     "text": [
      "--->> cal O and jac  0.03295397758483887\n",
      "compute_update  0.036101579666137695\n",
      "(0.04717779883220571+0j)\n",
      "n_discard =  144\n",
      "discard samples 0.08246111869812012\n",
      "n_samples_node =  1000\n",
      "generate_samples :  0.06784486770629883\n",
      "     prepare getting local values 0.004209280014038086\n",
      "     obtained local values 0.009331226348876953\n",
      "get_mc_stats 0.012496471405029297\n"
     ]
    },
    {
     "name": "stderr",
     "output_type": "stream",
     "text": [
      " 19%|█▉        | 191/1000 [00:37<02:41,  5.01it/s, Energy=-2.10583+0.00000j ± 0.00018 [σ²=0.00004]]"
     ]
    },
    {
     "name": "stdout",
     "output_type": "stream",
     "text": [
      "--->> cal O and jac  0.03667426109313965\n",
      "compute_update  0.0388340950012207\n",
      "(0.04715413602797114+0j)\n",
      "n_discard =  144\n",
      "discard samples 0.07459163665771484\n",
      "n_samples_node =  1000\n",
      "generate_samples :  0.08319306373596191\n",
      "     prepare getting local values 0.004778623580932617\n",
      "     obtained local values 0.011038064956665039\n",
      "get_mc_stats 0.01369023323059082\n"
     ]
    },
    {
     "name": "stderr",
     "output_type": "stream",
     "text": [
      " 19%|█▉        | 192/1000 [00:37<02:42,  4.96it/s, Energy=-2.10558+0.00000j ± 0.00023 [σ²=0.00005]]"
     ]
    },
    {
     "name": "stdout",
     "output_type": "stream",
     "text": [
      "--->> cal O and jac  0.03159928321838379\n",
      "compute_update  0.03340649604797363\n",
      "(0.047158588175809694+0j)\n",
      "n_discard =  144\n",
      "discard samples 0.07007288932800293\n",
      "n_samples_node =  1000\n",
      "generate_samples :  0.07863473892211914\n",
      "     prepare getting local values 0.004064321517944336\n",
      "     obtained local values 0.007710456848144531\n",
      "get_mc_stats 0.010918855667114258\n"
     ]
    },
    {
     "name": "stderr",
     "output_type": "stream",
     "text": [
      " 19%|█▉        | 193/1000 [00:37<02:40,  5.03it/s, Energy=-2.10540+0.00000j ± 0.00016 [σ²=0.00004]]"
     ]
    },
    {
     "name": "stdout",
     "output_type": "stream",
     "text": [
      "--->> cal O and jac  0.027872800827026367\n",
      "compute_update  0.0296781063079834\n",
      "(0.047159268833810566+0j)\n",
      "n_discard =  144\n",
      "discard samples 0.06993865966796875\n",
      "n_samples_node =  1000\n",
      "generate_samples :  0.07299375534057617\n",
      "     prepare getting local values 0.003590106964111328\n",
      "     obtained local values 0.007347583770751953\n",
      "get_mc_stats 0.010412216186523438\n"
     ]
    },
    {
     "name": "stderr",
     "output_type": "stream",
     "text": [
      " 19%|█▉        | 194/1000 [00:38<02:38,  5.08it/s, Energy=-2.10593+0.00000j ± 0.00017 [σ²=0.00004]]"
     ]
    },
    {
     "name": "stdout",
     "output_type": "stream",
     "text": [
      "--->> cal O and jac  0.0342104434967041\n",
      "compute_update  0.03716707229614258\n",
      "(0.04716407942303758+0j)\n",
      "n_discard =  144\n",
      "discard samples 0.07636761665344238\n",
      "n_samples_node =  1000\n",
      "generate_samples :  0.0728464126586914\n",
      "     prepare getting local values 0.00399017333984375\n",
      "     obtained local values 0.008309125900268555\n",
      "get_mc_stats 0.01119542121887207\n"
     ]
    },
    {
     "name": "stderr",
     "output_type": "stream",
     "text": [
      " 20%|█▉        | 195/1000 [00:38<02:39,  5.04it/s, Energy=-2.10557+0.00000j ± 0.00019 [σ²=0.00004]]"
     ]
    },
    {
     "name": "stdout",
     "output_type": "stream",
     "text": [
      "--->> cal O and jac  0.03705000877380371\n",
      "compute_update  0.039415597915649414\n",
      "(0.047150405100746376+0j)\n",
      "n_discard =  144\n",
      "discard samples 0.07350683212280273\n",
      "n_samples_node =  1000\n",
      "generate_samples :  0.07353997230529785\n",
      "     prepare getting local values 0.004142284393310547\n",
      "     obtained local values 0.010492801666259766\n",
      "get_mc_stats 0.013486385345458984\n"
     ]
    },
    {
     "name": "stderr",
     "output_type": "stream",
     "text": [
      "\r",
      " 20%|█▉        | 195/1000 [00:38<02:39,  5.04it/s, Energy=-2.10575+0.00000j ± 0.00022 [σ²=0.00005]]"
     ]
    },
    {
     "name": "stdout",
     "output_type": "stream",
     "text": [
      "--->> cal O and jac  0.03298020362854004\n",
      "compute_update  0.036608219146728516\n"
     ]
    },
    {
     "name": "stderr",
     "output_type": "stream",
     "text": [
      "\r",
      " 20%|█▉        | 196/1000 [00:38<02:39,  5.03it/s, Energy=-2.10575+0.00000j ± 0.00022 [σ²=0.00005]]"
     ]
    },
    {
     "name": "stdout",
     "output_type": "stream",
     "text": [
      "(0.04714829072120247+0j)\n",
      "n_discard =  144\n",
      "discard samples 0.07445812225341797\n",
      "n_samples_node =  1000\n",
      "generate_samples :  0.07155776023864746\n",
      "     prepare getting local values 0.004160165786743164\n",
      "     obtained local values 0.009270906448364258\n",
      "get_mc_stats 0.012418508529663086\n"
     ]
    },
    {
     "name": "stderr",
     "output_type": "stream",
     "text": [
      "\r",
      " 20%|█▉        | 196/1000 [00:38<02:39,  5.03it/s, Energy=-2.10589+0.00000j ± 0.00021 [σ²=0.00004]]"
     ]
    },
    {
     "name": "stdout",
     "output_type": "stream",
     "text": [
      "--->> cal O and jac  0.03391408920288086\n",
      "compute_update  0.035881757736206055\n"
     ]
    },
    {
     "name": "stderr",
     "output_type": "stream",
     "text": [
      "\r",
      " 20%|█▉        | 197/1000 [00:38<02:39,  5.05it/s, Energy=-2.10589+0.00000j ± 0.00021 [σ²=0.00004]]"
     ]
    },
    {
     "name": "stdout",
     "output_type": "stream",
     "text": [
      "(0.04715344954120103+0j)\n",
      "n_discard =  144\n",
      "discard samples 0.07278132438659668\n",
      "n_samples_node =  1000\n",
      "generate_samples :  0.06895852088928223\n",
      "     prepare getting local values 0.0033779144287109375\n",
      "     obtained local values 0.0065877437591552734\n",
      "get_mc_stats 0.009776592254638672\n"
     ]
    },
    {
     "name": "stderr",
     "output_type": "stream",
     "text": [
      " 20%|█▉        | 198/1000 [00:38<02:37,  5.08it/s, Energy=-2.10561+0.00000j ± 0.00019 [σ²=0.00004]]"
     ]
    },
    {
     "name": "stdout",
     "output_type": "stream",
     "text": [
      "--->> cal O and jac  0.0387117862701416\n",
      "compute_update  0.04103374481201172\n",
      "(0.04716328442677056+0j)\n",
      "n_discard =  144\n",
      "discard samples 0.07134389877319336\n",
      "n_samples_node =  1000\n",
      "generate_samples :  0.06946873664855957\n",
      "     prepare getting local values 0.0036399364471435547\n",
      "     obtained local values 0.0077059268951416016\n",
      "get_mc_stats 0.011101961135864258\n"
     ]
    },
    {
     "name": "stderr",
     "output_type": "stream",
     "text": [
      " 20%|█▉        | 199/1000 [00:39<02:34,  5.18it/s, Energy=-2.10564+0.00000j ± 0.00018 [σ²=0.00004]]"
     ]
    },
    {
     "name": "stdout",
     "output_type": "stream",
     "text": [
      "--->> cal O and jac  0.0292050838470459\n",
      "compute_update  0.03106236457824707\n",
      "(0.04717236219838882+0j)\n",
      "n_discard =  144\n",
      "discard samples 0.07302427291870117\n",
      "n_samples_node =  1000\n",
      "generate_samples :  0.07099318504333496\n",
      "     prepare getting local values 0.003495931625366211\n",
      "     obtained local values 0.008725881576538086\n",
      "get_mc_stats 0.011539936065673828\n"
     ]
    },
    {
     "name": "stderr",
     "output_type": "stream",
     "text": [
      " 20%|██        | 200/1000 [00:39<02:34,  5.18it/s, Energy=-2.10580+0.00000j ± 0.00016 [σ²=0.00003]]"
     ]
    },
    {
     "name": "stdout",
     "output_type": "stream",
     "text": [
      "--->> cal O and jac  0.031180381774902344\n",
      "compute_update  0.0344698429107666\n",
      "(0.0471815158308394+0j)\n",
      "n_discard =  144\n",
      "discard samples 0.08411216735839844\n",
      "n_samples_node =  1000\n",
      "generate_samples :  0.0740511417388916\n",
      "     prepare getting local values 0.0035181045532226562\n",
      "     obtained local values 0.00925445556640625\n",
      "get_mc_stats 0.012114524841308594\n"
     ]
    },
    {
     "name": "stderr",
     "output_type": "stream",
     "text": [
      " 20%|██        | 201/1000 [00:39<02:36,  5.11it/s, Energy=-2.10569+0.00000j ± 0.00017 [σ²=0.00004]]"
     ]
    },
    {
     "name": "stdout",
     "output_type": "stream",
     "text": [
      "--->> cal O and jac  0.027533531188964844\n",
      "compute_update  0.029561281204223633\n",
      "(0.04718727431528883+0j)\n",
      "n_discard =  144\n",
      "discard samples 0.08050894737243652\n",
      "n_samples_node =  1000\n",
      "generate_samples :  0.07186055183410645\n",
      "     prepare getting local values 0.0016970634460449219\n",
      "     obtained local values 0.005059957504272461\n",
      "get_mc_stats 0.007628440856933594\n",
      "--->> cal O and jac  0.03356504440307617\n"
     ]
    },
    {
     "name": "stderr",
     "output_type": "stream",
     "text": [
      " 20%|██        | 202/1000 [00:39<02:36,  5.09it/s, Energy=-2.10588+0.00000j ± 0.00019 [σ²=0.00004]]"
     ]
    },
    {
     "name": "stdout",
     "output_type": "stream",
     "text": [
      "compute_update  0.03700995445251465\n",
      "(0.047193102785713634+0j)\n",
      "n_discard =  144\n",
      "discard samples 0.07751917839050293\n",
      "n_samples_node =  1000\n",
      "generate_samples :  0.07110452651977539\n",
      "     prepare getting local values 0.003607511520385742\n",
      "     obtained local values 0.007225990295410156\n",
      "get_mc_stats 0.010444402694702148\n"
     ]
    },
    {
     "name": "stderr",
     "output_type": "stream",
     "text": [
      " 20%|██        | 203/1000 [00:39<02:36,  5.10it/s, Energy=-2.10552+0.00000j ± 0.00016 [σ²=0.00004]]"
     ]
    },
    {
     "name": "stdout",
     "output_type": "stream",
     "text": [
      "--->> cal O and jac  0.030606985092163086\n",
      "compute_update  0.03287100791931152\n",
      "(0.047204772578165716+0j)\n",
      "n_discard =  144\n",
      "discard samples 0.07400798797607422\n",
      "n_samples_node =  1000\n",
      "generate_samples :  0.07389712333679199\n",
      "     prepare getting local values 0.0035467147827148438\n",
      "     obtained local values 0.007192373275756836\n",
      "get_mc_stats 0.010329484939575195\n"
     ]
    },
    {
     "name": "stderr",
     "output_type": "stream",
     "text": [
      " 20%|██        | 204/1000 [00:40<02:34,  5.14it/s, Energy=-2.10552+0.00000j ± 0.00020 [σ²=0.00004]]"
     ]
    },
    {
     "name": "stdout",
     "output_type": "stream",
     "text": [
      "--->> cal O and jac  0.028863906860351562\n",
      "compute_update  0.03171658515930176\n",
      "(0.04721382345325146+0j)\n",
      "n_discard =  144\n",
      "discard samples 0.07089352607727051\n",
      "n_samples_node =  1000\n",
      "generate_samples :  0.0765833854675293\n",
      "     prepare getting local values 0.0035278797149658203\n",
      "     obtained local values 0.010645389556884766\n",
      "get_mc_stats 0.01423192024230957\n"
     ]
    },
    {
     "name": "stderr",
     "output_type": "stream",
     "text": [
      " 20%|██        | 205/1000 [00:40<02:34,  5.13it/s, Energy=-2.10558+0.00000j ± 0.00019 [σ²=0.00003]]"
     ]
    },
    {
     "name": "stdout",
     "output_type": "stream",
     "text": [
      "--->> cal O and jac  0.02950572967529297\n",
      "compute_update  0.032018184661865234\n",
      "(0.04722457619434124+0j)\n",
      "n_discard =  144\n",
      "discard samples 0.0791318416595459\n",
      "n_samples_node =  1000\n",
      "generate_samples :  0.06820535659790039\n",
      "     prepare getting local values 0.003612995147705078\n",
      "     obtained local values 0.009263277053833008\n",
      "get_mc_stats 0.012646675109863281\n"
     ]
    },
    {
     "name": "stderr",
     "output_type": "stream",
     "text": [
      " 21%|██        | 206/1000 [00:40<02:35,  5.11it/s, Energy=-2.10571+0.00000j ± 0.00017 [σ²=0.00003]]"
     ]
    },
    {
     "name": "stdout",
     "output_type": "stream",
     "text": [
      "--->> cal O and jac  0.03332400321960449\n",
      "compute_update  0.03529167175292969\n",
      "(0.0472430774618114+0j)\n",
      "n_discard =  144\n",
      "discard samples 0.07766866683959961\n",
      "n_samples_node =  1000\n",
      "generate_samples :  0.06685447692871094\n",
      "     prepare getting local values 0.0035092830657958984\n",
      "     obtained local values 0.0076982975006103516\n",
      "get_mc_stats 0.010870218276977539\n"
     ]
    },
    {
     "name": "stderr",
     "output_type": "stream",
     "text": [
      " 21%|██        | 207/1000 [00:40<02:33,  5.16it/s, Energy=-2.10578+0.00000j ± 0.00018 [σ²=0.00003]]"
     ]
    },
    {
     "name": "stdout",
     "output_type": "stream",
     "text": [
      "--->> cal O and jac  0.029550790786743164\n",
      "compute_update  0.03142523765563965\n",
      "(0.047260019188486276+0j)\n",
      "n_discard =  144\n",
      "discard samples 0.0712587833404541\n",
      "n_samples_node =  1000\n",
      "generate_samples :  0.07373404502868652\n",
      "     prepare getting local values 0.003526449203491211\n",
      "     obtained local values 0.007173776626586914\n",
      "get_mc_stats 0.010048627853393555\n"
     ]
    },
    {
     "name": "stderr",
     "output_type": "stream",
     "text": [
      " 21%|██        | 208/1000 [00:40<02:32,  5.19it/s, Energy=-2.10577+0.00000j ± 0.00015 [σ²=0.00003]]"
     ]
    },
    {
     "name": "stdout",
     "output_type": "stream",
     "text": [
      "--->> cal O and jac  0.030417442321777344\n",
      "compute_update  0.033621788024902344\n",
      "(0.04728048709941978+0j)\n",
      "n_discard =  144\n",
      "discard samples 0.07713460922241211\n",
      "n_samples_node =  1000\n",
      "generate_samples :  0.07007884979248047\n",
      "     prepare getting local values 0.003560781478881836\n",
      "     obtained local values 0.009304523468017578\n",
      "get_mc_stats 0.012521982192993164\n"
     ]
    },
    {
     "name": "stderr",
     "output_type": "stream",
     "text": [
      " 21%|██        | 209/1000 [00:40<02:33,  5.17it/s, Energy=-2.10571+0.00000j ± 0.00020 [σ²=0.00003]]"
     ]
    },
    {
     "name": "stdout",
     "output_type": "stream",
     "text": [
      "--->> cal O and jac  0.03108978271484375\n",
      "compute_update  0.03327465057373047\n",
      "(0.04729763143217865+0j)\n",
      "n_discard =  144\n",
      "discard samples 0.08141922950744629\n",
      "n_samples_node =  1000\n",
      "generate_samples :  0.07134151458740234\n",
      "     prepare getting local values 0.003755331039428711\n",
      "     obtained local values 0.008169889450073242\n",
      "get_mc_stats 0.011584043502807617\n"
     ]
    },
    {
     "name": "stderr",
     "output_type": "stream",
     "text": [
      " 21%|██        | 210/1000 [00:41<02:34,  5.10it/s, Energy=-2.10567+0.00000j ± 0.00016 [σ²=0.00003]]"
     ]
    },
    {
     "name": "stdout",
     "output_type": "stream",
     "text": [
      "--->> cal O and jac  0.03301262855529785\n",
      "compute_update  0.03555727005004883\n",
      "(0.047316155001690716+0j)\n",
      "n_discard =  144\n",
      "discard samples 0.06787514686584473\n",
      "n_samples_node =  1000\n",
      "generate_samples :  0.07419776916503906\n",
      "     prepare getting local values 0.003542184829711914\n",
      "     obtained local values 0.008899927139282227\n",
      "get_mc_stats 0.012059926986694336\n"
     ]
    },
    {
     "name": "stderr",
     "output_type": "stream",
     "text": [
      " 21%|██        | 211/1000 [00:41<02:33,  5.15it/s, Energy=-2.10580+0.00000j ± 0.00013 [σ²=0.00003]]"
     ]
    },
    {
     "name": "stdout",
     "output_type": "stream",
     "text": [
      "--->> cal O and jac  0.030892610549926758\n",
      "compute_update  0.03359675407409668\n",
      "(0.04733395366878753+0j)\n",
      "n_discard =  144\n",
      "discard samples 0.07222604751586914\n",
      "n_samples_node =  1000\n",
      "generate_samples :  0.0726163387298584\n",
      "     prepare getting local values 0.0026862621307373047\n",
      "     obtained local values 0.006529331207275391\n",
      "get_mc_stats 0.009117364883422852\n"
     ]
    },
    {
     "name": "stderr",
     "output_type": "stream",
     "text": [
      " 21%|██        | 212/1000 [00:41<02:32,  5.18it/s, Energy=-2.10549+0.00000j ± 0.00018 [σ²=0.00003]]"
     ]
    },
    {
     "name": "stdout",
     "output_type": "stream",
     "text": [
      "--->> cal O and jac  0.03310847282409668\n",
      "compute_update  0.03504133224487305\n",
      "(0.047349616302927805+0j)\n",
      "n_discard =  144\n",
      "discard samples 0.07473945617675781\n",
      "n_samples_node =  1000\n",
      "generate_samples :  0.06919431686401367\n",
      "     prepare getting local values 0.0027282238006591797\n",
      "     obtained local values 0.0073757171630859375\n",
      "get_mc_stats 0.01006460189819336\n"
     ]
    },
    {
     "name": "stderr",
     "output_type": "stream",
     "text": [
      " 21%|██▏       | 213/1000 [00:41<02:31,  5.20it/s, Energy=-2.10566+0.00000j ± 0.00017 [σ²=0.00003]]"
     ]
    },
    {
     "name": "stdout",
     "output_type": "stream",
     "text": [
      "--->> cal O and jac  0.030745983123779297\n",
      "compute_update  0.03366684913635254\n",
      "(0.04736411327557947+0j)\n",
      "n_discard =  144\n",
      "discard samples 0.07705259323120117\n",
      "n_samples_node =  1000\n",
      "generate_samples :  0.0743112564086914\n",
      "     prepare getting local values 0.0021750926971435547\n",
      "     obtained local values 0.005697727203369141\n",
      "get_mc_stats 0.00809478759765625\n"
     ]
    },
    {
     "name": "stderr",
     "output_type": "stream",
     "text": [
      " 21%|██▏       | 214/1000 [00:41<02:31,  5.19it/s, Energy=-2.10593+0.00000j ± 0.00014 [σ²=0.00003]]"
     ]
    },
    {
     "name": "stdout",
     "output_type": "stream",
     "text": [
      "--->> cal O and jac  0.029582738876342773\n",
      "compute_update  0.031583547592163086\n",
      "(0.04738128739323102+0j)\n",
      "n_discard =  144\n",
      "discard samples 0.0742795467376709\n",
      "n_samples_node =  1000\n",
      "generate_samples :  0.0715019702911377\n",
      "     prepare getting local values 0.0017020702362060547\n",
      "     obtained local values 0.0050525665283203125\n",
      "get_mc_stats 0.007106304168701172\n"
     ]
    },
    {
     "name": "stderr",
     "output_type": "stream",
     "text": [
      " 22%|██▏       | 215/1000 [00:42<02:29,  5.26it/s, Energy=-2.10573+0.00000j ± 0.00015 [σ²=0.00003]]"
     ]
    },
    {
     "name": "stdout",
     "output_type": "stream",
     "text": [
      "--->> cal O and jac  0.027321577072143555\n",
      "compute_update  0.029485702514648438\n",
      "(0.04739852103040546+0j)\n",
      "n_discard =  144\n",
      "discard samples 0.07747054100036621\n",
      "n_samples_node =  1000\n",
      "generate_samples :  0.07552719116210938\n",
      "     prepare getting local values 0.003570556640625\n",
      "     obtained local values 0.009671926498413086\n",
      "get_mc_stats 0.013138294219970703\n"
     ]
    },
    {
     "name": "stderr",
     "output_type": "stream",
     "text": [
      " 22%|██▏       | 216/1000 [00:42<02:31,  5.17it/s, Energy=-2.10577+0.00000j ± 0.00016 [σ²=0.00002]]"
     ]
    },
    {
     "name": "stdout",
     "output_type": "stream",
     "text": [
      "--->> cal O and jac  0.03188371658325195\n",
      "compute_update  0.03367948532104492\n",
      "(0.04741678957742341+0j)\n",
      "n_discard =  144\n",
      "discard samples 0.07499456405639648\n",
      "n_samples_node =  1000\n",
      "generate_samples :  0.07314109802246094\n",
      "     prepare getting local values 0.002932310104370117\n",
      "     obtained local values 0.009341239929199219\n",
      "get_mc_stats 0.012265920639038086\n"
     ]
    },
    {
     "name": "stderr",
     "output_type": "stream",
     "text": [
      " 22%|██▏       | 217/1000 [00:42<02:33,  5.10it/s, Energy=-2.10569+0.00000j ± 0.00015 [σ²=0.00003]]"
     ]
    },
    {
     "name": "stdout",
     "output_type": "stream",
     "text": [
      "--->> cal O and jac  0.03822898864746094\n",
      "compute_update  0.04015088081359863\n",
      "(0.04743345243541131+0j)\n",
      "n_discard =  144\n",
      "discard samples 0.08043527603149414\n",
      "n_samples_node =  1000\n",
      "generate_samples :  0.06873559951782227\n",
      "     prepare getting local values 0.004088163375854492\n",
      "     obtained local values 0.009353876113891602\n",
      "get_mc_stats 0.012449026107788086\n",
      "--->> cal O and jac  0.03287100791931152\n"
     ]
    },
    {
     "name": "stderr",
     "output_type": "stream",
     "text": [
      " 22%|██▏       | 218/1000 [00:42<02:34,  5.07it/s, Energy=-2.10588+0.00000j ± 0.00014 [σ²=0.00003]]"
     ]
    },
    {
     "name": "stdout",
     "output_type": "stream",
     "text": [
      "compute_update  0.03679513931274414\n",
      "(0.047456858838030705+0j)\n",
      "n_discard =  144\n",
      "discard samples 0.07668232917785645\n",
      "n_samples_node =  1000\n",
      "generate_samples :  0.0665733814239502\n",
      "     prepare getting local values 0.0036323070526123047\n",
      "     obtained local values 0.008292198181152344\n",
      "get_mc_stats 0.011091232299804688\n"
     ]
    },
    {
     "name": "stderr",
     "output_type": "stream",
     "text": [
      " 22%|██▏       | 219/1000 [00:42<02:33,  5.09it/s, Energy=-2.10577+0.00000j ± 0.00013 [σ²=0.00002]]"
     ]
    },
    {
     "name": "stdout",
     "output_type": "stream",
     "text": [
      "--->> cal O and jac  0.03554511070251465\n",
      "compute_update  0.03823280334472656\n",
      "(0.047468396354811024+0j)\n",
      "n_discard =  144\n",
      "discard samples 0.0807950496673584\n",
      "n_samples_node =  1000\n",
      "generate_samples :  0.07079625129699707\n",
      "     prepare getting local values 0.003612518310546875\n",
      "     obtained local values 0.008549690246582031\n",
      "get_mc_stats 0.012038707733154297\n"
     ]
    },
    {
     "name": "stderr",
     "output_type": "stream",
     "text": [
      " 22%|██▏       | 220/1000 [00:43<02:35,  5.02it/s, Energy=-2.10572+0.00000j ± 0.00014 [σ²=0.00002]]"
     ]
    },
    {
     "name": "stdout",
     "output_type": "stream",
     "text": [
      "--->> cal O and jac  0.037657976150512695\n",
      "compute_update  0.040529489517211914\n",
      "(0.047478815422238516+0j)\n",
      "n_discard =  144\n",
      "discard samples 0.07455873489379883\n",
      "n_samples_node =  1000\n",
      "generate_samples :  0.06519889831542969\n",
      "     prepare getting local values 0.0016584396362304688\n",
      "     obtained local values 0.0049664974212646484\n",
      "get_mc_stats 0.007257223129272461\n"
     ]
    },
    {
     "name": "stderr",
     "output_type": "stream",
     "text": [
      " 22%|██▏       | 221/1000 [00:43<02:31,  5.15it/s, Energy=-2.10588+0.00000j ± 0.00016 [σ²=0.00002]]"
     ]
    },
    {
     "name": "stdout",
     "output_type": "stream",
     "text": [
      "--->> cal O and jac  0.029619693756103516\n",
      "compute_update  0.031471967697143555\n",
      "(0.04749302536904526+0j)\n",
      "n_discard =  144\n",
      "discard samples 0.07299637794494629\n",
      "n_samples_node =  1000\n",
      "generate_samples :  0.06835412979125977\n",
      "     prepare getting local values 0.0036575794219970703\n",
      "     obtained local values 0.007530689239501953\n",
      "get_mc_stats 0.010627985000610352\n"
     ]
    },
    {
     "name": "stderr",
     "output_type": "stream",
     "text": [
      " 22%|██▏       | 222/1000 [00:43<02:30,  5.18it/s, Energy=-2.10577+0.00000j ± 0.00014 [σ²=0.00003]]"
     ]
    },
    {
     "name": "stdout",
     "output_type": "stream",
     "text": [
      "--->> cal O and jac  0.034895896911621094\n",
      "compute_update  0.037195444107055664\n",
      "(0.04750497325650392+0j)\n",
      "n_discard =  144\n",
      "discard samples 0.07550168037414551\n",
      "n_samples_node =  1000\n",
      "generate_samples :  0.07690548896789551\n",
      "     prepare getting local values 0.0035300254821777344\n",
      "     obtained local values 0.00944209098815918\n",
      "get_mc_stats 0.012217283248901367\n"
     ]
    },
    {
     "name": "stderr",
     "output_type": "stream",
     "text": [
      " 22%|██▏       | 223/1000 [00:43<02:32,  5.11it/s, Energy=-2.10577+0.00000j ± 0.00014 [σ²=0.00002]]"
     ]
    },
    {
     "name": "stdout",
     "output_type": "stream",
     "text": [
      "--->> cal O and jac  0.03313422203063965\n",
      "compute_update  0.03509068489074707\n",
      "(0.04751684421892988+0j)\n",
      "n_discard =  144\n",
      "discard samples 0.07112812995910645\n",
      "n_samples_node =  1000\n",
      "generate_samples :  0.07039499282836914\n",
      "     prepare getting local values 0.0016598701477050781\n",
      "     obtained local values 0.005036830902099609\n",
      "get_mc_stats 0.006974697113037109\n"
     ]
    },
    {
     "name": "stderr",
     "output_type": "stream",
     "text": [
      " 22%|██▏       | 224/1000 [00:43<02:28,  5.21it/s, Energy=-2.10566+0.00000j ± 0.00016 [σ²=0.00002]]"
     ]
    },
    {
     "name": "stdout",
     "output_type": "stream",
     "text": [
      "--->> cal O and jac  0.028901100158691406\n",
      "compute_update  0.03187441825866699\n",
      "(0.04752611015300169+0j)\n",
      "n_discard =  144\n",
      "discard samples 0.0826115608215332\n",
      "n_samples_node =  1000\n",
      "generate_samples :  0.08093070983886719\n",
      "     prepare getting local values 0.0035140514373779297\n",
      "     obtained local values 0.009183645248413086\n",
      "get_mc_stats 0.011980295181274414\n"
     ]
    },
    {
     "name": "stderr",
     "output_type": "stream",
     "text": [
      " 22%|██▎       | 225/1000 [00:44<02:32,  5.09it/s, Energy=-2.10582+0.00000j ± 0.00015 [σ²=0.00002]]"
     ]
    },
    {
     "name": "stdout",
     "output_type": "stream",
     "text": [
      "--->> cal O and jac  0.028876304626464844\n",
      "compute_update  0.03059697151184082\n",
      "(0.04754342046320589+0j)\n",
      "n_discard =  144\n",
      "discard samples 0.06827688217163086\n",
      "n_samples_node =  1000\n",
      "generate_samples :  0.0721597671508789\n",
      "     prepare getting local values 0.003493070602416992\n",
      "     obtained local values 0.008666515350341797\n",
      "get_mc_stats 0.011868476867675781\n"
     ]
    },
    {
     "name": "stderr",
     "output_type": "stream",
     "text": [
      " 23%|██▎       | 226/1000 [00:44<02:30,  5.16it/s, Energy=-2.10594+0.00000j ± 0.00015 [σ²=0.00002]]"
     ]
    },
    {
     "name": "stdout",
     "output_type": "stream",
     "text": [
      "--->> cal O and jac  0.031271934509277344\n",
      "compute_update  0.03328728675842285\n",
      "(0.047554684302788294+0j)\n",
      "n_discard =  144\n",
      "discard samples 0.07574629783630371\n",
      "n_samples_node =  1000\n",
      "generate_samples :  0.0668783187866211\n",
      "     prepare getting local values 0.0036385059356689453\n",
      "     obtained local values 0.007990360260009766\n",
      "get_mc_stats 0.011529207229614258\n"
     ]
    },
    {
     "name": "stderr",
     "output_type": "stream",
     "text": [
      " 23%|██▎       | 227/1000 [00:44<02:30,  5.14it/s, Energy=-2.10584+0.00000j ± 0.00011 [σ²=0.00002]]"
     ]
    },
    {
     "name": "stdout",
     "output_type": "stream",
     "text": [
      "--->> cal O and jac  0.03646564483642578\n",
      "compute_update  0.038646697998046875\n",
      "(0.0475603806836161+0j)\n",
      "n_discard =  144\n",
      "discard samples 0.07619166374206543\n",
      "n_samples_node =  1000\n",
      "generate_samples :  0.07375526428222656\n",
      "     prepare getting local values 0.0030002593994140625\n",
      "     obtained local values 0.006262540817260742\n",
      "get_mc_stats 0.00936746597290039\n"
     ]
    },
    {
     "name": "stderr",
     "output_type": "stream",
     "text": [
      "\r",
      " 23%|██▎       | 227/1000 [00:44<02:30,  5.14it/s, Energy=-2.10572+0.00000j ± 0.00015 [σ²=0.00002]]"
     ]
    },
    {
     "name": "stdout",
     "output_type": "stream",
     "text": [
      "--->> cal O and jac  0.03387856483459473\n",
      "compute_update  0.03636002540588379\n"
     ]
    },
    {
     "name": "stderr",
     "output_type": "stream",
     "text": [
      "\r",
      " 23%|██▎       | 228/1000 [00:44<02:30,  5.12it/s, Energy=-2.10572+0.00000j ± 0.00015 [σ²=0.00002]]"
     ]
    },
    {
     "name": "stdout",
     "output_type": "stream",
     "text": [
      "(0.04757007018578896+0j)\n",
      "n_discard =  144\n",
      "discard samples 0.07515621185302734\n",
      "n_samples_node =  1000\n",
      "generate_samples :  0.07582354545593262\n",
      "     prepare getting local values 0.002256631851196289\n",
      "     obtained local values 0.005716800689697266\n",
      "get_mc_stats 0.008629798889160156\n"
     ]
    },
    {
     "name": "stderr",
     "output_type": "stream",
     "text": [
      " 23%|██▎       | 229/1000 [00:44<02:29,  5.15it/s, Energy=-2.10577+0.00000j ± 0.00012 [σ²=0.00002]]"
     ]
    },
    {
     "name": "stdout",
     "output_type": "stream",
     "text": [
      "--->> cal O and jac  0.02805638313293457\n",
      "compute_update  0.02993154525756836\n",
      "(0.04758414873894695+0j)\n",
      "n_discard =  144\n",
      "discard samples 0.06731891632080078\n",
      "n_samples_node =  1000\n",
      "generate_samples :  0.07257533073425293\n",
      "     prepare getting local values 0.0034377574920654297\n",
      "     obtained local values 0.008807659149169922\n",
      "get_mc_stats 0.012022018432617188\n"
     ]
    },
    {
     "name": "stderr",
     "output_type": "stream",
     "text": [
      " 23%|██▎       | 230/1000 [00:45<02:27,  5.21it/s, Energy=-2.10548+0.00000j ± 0.00014 [σ²=0.00002]]"
     ]
    },
    {
     "name": "stdout",
     "output_type": "stream",
     "text": [
      "--->> cal O and jac  0.02919912338256836\n",
      "compute_update  0.0323338508605957\n",
      "(0.04759668583435859+0j)\n",
      "n_discard =  144\n",
      "discard samples 0.07840418815612793\n",
      "n_samples_node =  1000\n",
      "generate_samples :  0.07250189781188965\n",
      "     prepare getting local values 0.003907680511474609\n",
      "     obtained local values 0.008417606353759766\n",
      "get_mc_stats 0.011330127716064453\n"
     ]
    },
    {
     "name": "stderr",
     "output_type": "stream",
     "text": [
      "\r",
      " 23%|██▎       | 230/1000 [00:45<02:27,  5.21it/s, Energy=-2.10564+0.00000j ± 0.00012 [σ²=0.00002]]"
     ]
    },
    {
     "name": "stdout",
     "output_type": "stream",
     "text": [
      "--->> cal O and jac  0.030776500701904297\n",
      "compute_update  0.03272199630737305\n"
     ]
    },
    {
     "name": "stderr",
     "output_type": "stream",
     "text": [
      "\r",
      " 23%|██▎       | 231/1000 [00:45<02:28,  5.17it/s, Energy=-2.10564+0.00000j ± 0.00012 [σ²=0.00002]]"
     ]
    },
    {
     "name": "stdout",
     "output_type": "stream",
     "text": [
      "(0.04760632553449038+0j)\n",
      "n_discard =  144\n",
      "discard samples 0.07479143142700195\n",
      "n_samples_node =  1000\n",
      "generate_samples :  0.07376837730407715\n",
      "     prepare getting local values 0.0028367042541503906\n",
      "     obtained local values 0.009083986282348633\n",
      "get_mc_stats 0.01237797737121582\n",
      "--->> cal O and jac  0.03672957420349121\n",
      "compute_update  0.03948044776916504\n"
     ]
    },
    {
     "name": "stderr",
     "output_type": "stream",
     "text": [
      " 23%|██▎       | 232/1000 [00:45<02:30,  5.10it/s, Energy=-2.10590+0.00000j ± 0.00011 [σ²=0.00002]]"
     ]
    },
    {
     "name": "stdout",
     "output_type": "stream",
     "text": [
      "(0.04762028809093985+0j)\n",
      "n_discard =  144\n",
      "discard samples 0.08000445365905762\n",
      "n_samples_node =  1000\n",
      "generate_samples :  0.07204174995422363\n",
      "     prepare getting local values 0.003516674041748047\n",
      "     obtained local values 0.009810686111450195\n",
      "get_mc_stats 0.012506723403930664\n"
     ]
    },
    {
     "name": "stderr",
     "output_type": "stream",
     "text": [
      " 23%|██▎       | 233/1000 [00:45<02:32,  5.02it/s, Energy=-2.10579+0.00000j ± 0.00012 [σ²=0.00002]]"
     ]
    },
    {
     "name": "stdout",
     "output_type": "stream",
     "text": [
      "--->> cal O and jac  0.03677988052368164\n",
      "compute_update  0.03878283500671387\n",
      "(0.04762938508500237+0j)\n",
      "n_discard =  144\n",
      "discard samples 0.07904553413391113\n",
      "n_samples_node =  1000\n",
      "generate_samples :  0.06930112838745117\n",
      "     prepare getting local values 0.0017428398132324219\n",
      "     obtained local values 0.005163431167602539\n",
      "get_mc_stats 0.007188320159912109\n"
     ]
    },
    {
     "name": "stderr",
     "output_type": "stream",
     "text": [
      " 23%|██▎       | 234/1000 [00:45<02:30,  5.08it/s, Energy=-2.10586+0.00000j ± 0.00014 [σ²=0.00002]]"
     ]
    },
    {
     "name": "stdout",
     "output_type": "stream",
     "text": [
      "--->> cal O and jac  0.032388925552368164\n",
      "compute_update  0.034345149993896484\n",
      "(0.047644554163438116+0j)\n",
      "n_discard =  144\n",
      "discard samples 0.07268524169921875\n",
      "n_samples_node =  1000\n",
      "generate_samples :  0.07236504554748535\n",
      "     prepare getting local values 0.0035796165466308594\n",
      "     obtained local values 0.008091926574707031\n",
      "get_mc_stats 0.011093616485595703\n"
     ]
    },
    {
     "name": "stderr",
     "output_type": "stream",
     "text": [
      "\r",
      " 23%|██▎       | 234/1000 [00:46<02:30,  5.08it/s, Energy=-2.10592+0.00000j ± 0.00012 [σ²=0.00002]]"
     ]
    },
    {
     "name": "stdout",
     "output_type": "stream",
     "text": [
      "--->> cal O and jac  0.03779149055480957\n",
      "compute_update  0.03974032402038574\n"
     ]
    },
    {
     "name": "stderr",
     "output_type": "stream",
     "text": [
      "\r",
      " 24%|██▎       | 235/1000 [00:46<02:30,  5.07it/s, Energy=-2.10592+0.00000j ± 0.00012 [σ²=0.00002]]"
     ]
    },
    {
     "name": "stdout",
     "output_type": "stream",
     "text": [
      "(0.04765668595600405+0j)\n",
      "n_discard =  144\n",
      "discard samples 0.0721895694732666\n",
      "n_samples_node =  1000\n",
      "generate_samples :  0.0711972713470459\n",
      "     prepare getting local values 0.0016727447509765625\n",
      "     obtained local values 0.005021095275878906\n",
      "get_mc_stats 0.007080554962158203\n"
     ]
    },
    {
     "name": "stderr",
     "output_type": "stream",
     "text": [
      " 24%|██▎       | 236/1000 [00:46<02:28,  5.16it/s, Energy=-2.10574+0.00000j ± 0.00013 [σ²=0.00002]]"
     ]
    },
    {
     "name": "stdout",
     "output_type": "stream",
     "text": [
      "--->> cal O and jac  0.03154754638671875\n",
      "compute_update  0.03349113464355469\n",
      "(0.04766822395480114+0j)\n",
      "n_discard =  144\n",
      "discard samples 0.0702517032623291\n",
      "n_samples_node =  1000\n",
      "generate_samples :  0.07430148124694824\n",
      "     prepare getting local values 0.00365447998046875\n",
      "     obtained local values 0.008565664291381836\n",
      "get_mc_stats 0.01178121566772461\n"
     ]
    },
    {
     "name": "stderr",
     "output_type": "stream",
     "text": [
      " 24%|██▎       | 237/1000 [00:46<02:28,  5.13it/s, Energy=-2.10568+0.00000j ± 0.00014 [σ²=0.00002]]"
     ]
    },
    {
     "name": "stdout",
     "output_type": "stream",
     "text": [
      "--->> cal O and jac  0.03707265853881836\n",
      "compute_update  0.03918600082397461\n",
      "(0.047679205080621914+0j)\n",
      "n_discard =  144\n",
      "discard samples 0.07536435127258301\n",
      "n_samples_node =  1000\n",
      "generate_samples :  0.06779599189758301\n",
      "     prepare getting local values 0.0016431808471679688\n",
      "     obtained local values 0.004921913146972656\n",
      "get_mc_stats 0.007285356521606445\n"
     ]
    },
    {
     "name": "stderr",
     "output_type": "stream",
     "text": [
      " 24%|██▍       | 238/1000 [00:46<02:26,  5.22it/s, Energy=-2.10582+0.00000j ± 0.00011 [σ²=0.00002]]"
     ]
    },
    {
     "name": "stdout",
     "output_type": "stream",
     "text": [
      "--->> cal O and jac  0.02969050407409668\n",
      "compute_update  0.03166055679321289\n",
      "(0.04768930601149701+0j)\n",
      "n_discard =  144\n",
      "discard samples 0.07964634895324707\n",
      "n_samples_node =  1000\n",
      "generate_samples :  0.07798528671264648\n",
      "     prepare getting local values 0.0039615631103515625\n",
      "     obtained local values 0.009393692016601562\n",
      "get_mc_stats 0.01246190071105957\n"
     ]
    },
    {
     "name": "stderr",
     "output_type": "stream",
     "text": [
      " 24%|██▍       | 239/1000 [00:46<02:31,  5.03it/s, Energy=-2.10588+0.00000j ± 0.00013 [σ²=0.00002]]"
     ]
    },
    {
     "name": "stdout",
     "output_type": "stream",
     "text": [
      "--->> cal O and jac  0.039632558822631836\n",
      "compute_update  0.042763471603393555\n",
      "(0.04769985664339299+0j)\n",
      "n_discard =  144\n",
      "discard samples 0.07642984390258789\n",
      "n_samples_node =  1000\n",
      "generate_samples :  0.07362890243530273\n",
      "     prepare getting local values 0.00356292724609375\n",
      "     obtained local values 0.010470151901245117\n",
      "get_mc_stats 0.013397693634033203\n"
     ]
    },
    {
     "name": "stderr",
     "output_type": "stream",
     "text": [
      " 24%|██▍       | 240/1000 [00:47<02:32,  4.98it/s, Energy=-2.10577+0.00000j ± 0.00012 [σ²=0.00002]]"
     ]
    },
    {
     "name": "stdout",
     "output_type": "stream",
     "text": [
      "--->> cal O and jac  0.036661386489868164\n",
      "compute_update  0.03919363021850586\n",
      "(0.04770985731427818+0j)\n",
      "n_discard =  144\n",
      "discard samples 0.07835006713867188\n",
      "n_samples_node =  1000\n",
      "generate_samples :  0.07012104988098145\n",
      "     prepare getting local values 0.0032188892364501953\n",
      "     obtained local values 0.007028818130493164\n",
      "get_mc_stats 0.009989023208618164\n"
     ]
    },
    {
     "name": "stderr",
     "output_type": "stream",
     "text": [
      "\r",
      " 24%|██▍       | 240/1000 [00:47<02:32,  4.98it/s, Energy=-2.105813+0.000000j ± 0.000094 [σ²=0.000014]]"
     ]
    },
    {
     "name": "stdout",
     "output_type": "stream",
     "text": [
      "--->> cal O and jac  0.03300905227661133\n",
      "compute_update  0.03635811805725098\n"
     ]
    },
    {
     "name": "stderr",
     "output_type": "stream",
     "text": [
      "\r",
      " 24%|██▍       | 241/1000 [00:47<02:31,  5.01it/s, Energy=-2.105813+0.000000j ± 0.000094 [σ²=0.000014]]"
     ]
    },
    {
     "name": "stdout",
     "output_type": "stream",
     "text": [
      "(0.047715966355636935+0j)\n",
      "n_discard =  144\n",
      "discard samples 0.07717323303222656\n",
      "n_samples_node =  1000\n",
      "generate_samples :  0.06812620162963867\n",
      "     prepare getting local values 0.0035729408264160156\n",
      "     obtained local values 0.008019447326660156\n",
      "get_mc_stats 0.011066198348999023\n"
     ]
    },
    {
     "name": "stderr",
     "output_type": "stream",
     "text": [
      " 24%|██▍       | 242/1000 [00:47<02:30,  5.05it/s, Energy=-2.105819+0.000000j ± 0.000091 [σ²=0.000014]]"
     ]
    },
    {
     "name": "stdout",
     "output_type": "stream",
     "text": [
      "--->> cal O and jac  0.032564401626586914\n",
      "compute_update  0.03463482856750488\n",
      "(0.04772634594241949+0j)\n",
      "n_discard =  144\n",
      "discard samples 0.07672405242919922\n",
      "n_samples_node =  1000\n",
      "generate_samples :  0.06666851043701172\n",
      "     prepare getting local values 0.0017075538635253906\n",
      "     obtained local values 0.005062103271484375\n",
      "get_mc_stats 0.007120370864868164\n"
     ]
    },
    {
     "name": "stderr",
     "output_type": "stream",
     "text": [
      " 24%|██▍       | 243/1000 [00:47<02:27,  5.12it/s, Energy=-2.10578+0.00000j ± 0.00012 [σ²=0.00001]]    "
     ]
    },
    {
     "name": "stdout",
     "output_type": "stream",
     "text": [
      "--->> cal O and jac  0.03410959243774414\n",
      "compute_update  0.03601789474487305\n",
      "(0.047732907802843415+0j)\n",
      "n_discard =  144\n",
      "discard samples 0.0719919204711914\n",
      "n_samples_node =  1000\n",
      "generate_samples :  0.06489348411560059\n",
      "     prepare getting local values 0.003583669662475586\n",
      "     obtained local values 0.009214162826538086\n",
      "get_mc_stats 0.012416601181030273\n"
     ]
    },
    {
     "name": "stderr",
     "output_type": "stream",
     "text": [
      " 24%|██▍       | 244/1000 [00:47<02:26,  5.16it/s, Energy=-2.10598+0.00000j ± 0.00013 [σ²=0.00001]]"
     ]
    },
    {
     "name": "stdout",
     "output_type": "stream",
     "text": [
      "--->> cal O and jac  0.03574538230895996\n",
      "compute_update  0.03887462615966797\n",
      "(0.04774571121289028+0j)\n",
      "n_discard =  144\n",
      "discard samples 0.07601404190063477\n",
      "n_samples_node =  1000\n",
      "generate_samples :  0.0695807933807373\n",
      "     prepare getting local values 0.003968954086303711\n",
      "     obtained local values 0.00783681869506836\n",
      "get_mc_stats 0.010641336441040039\n"
     ]
    },
    {
     "name": "stderr",
     "output_type": "stream",
     "text": [
      " 24%|██▍       | 245/1000 [00:47<02:26,  5.15it/s, Energy=-2.10578+0.00000j ± 0.00010 [σ²=0.00001]]"
     ]
    },
    {
     "name": "stdout",
     "output_type": "stream",
     "text": [
      "--->> cal O and jac  0.03552556037902832\n",
      "compute_update  0.03747057914733887\n",
      "(0.04775194795434085+0j)\n",
      "n_discard =  144\n",
      "discard samples 0.07334041595458984\n",
      "n_samples_node =  1000\n",
      "generate_samples :  0.06916546821594238\n",
      "     prepare getting local values 0.0034606456756591797\n",
      "     obtained local values 0.007330656051635742\n",
      "get_mc_stats 0.010264396667480469\n"
     ]
    },
    {
     "name": "stderr",
     "output_type": "stream",
     "text": [
      " 25%|██▍       | 246/1000 [00:48<02:24,  5.24it/s, Energy=-2.10598+0.00000j ± 0.00010 [σ²=0.00001]]"
     ]
    },
    {
     "name": "stdout",
     "output_type": "stream",
     "text": [
      "--->> cal O and jac  0.026159048080444336\n",
      "compute_update  0.028170347213745117\n",
      "(0.047760592317250085+0j)\n",
      "n_discard =  144\n",
      "discard samples 0.0765078067779541\n",
      "n_samples_node =  1000\n",
      "generate_samples :  0.07166266441345215\n",
      "     prepare getting local values 0.0029180049896240234\n",
      "     obtained local values 0.006938934326171875\n",
      "get_mc_stats 0.00927114486694336\n"
     ]
    },
    {
     "name": "stderr",
     "output_type": "stream",
     "text": [
      " 25%|██▍       | 247/1000 [00:48<02:24,  5.22it/s, Energy=-2.10594+0.00000j ± 0.00011 [σ²=0.00001]]"
     ]
    },
    {
     "name": "stdout",
     "output_type": "stream",
     "text": [
      "--->> cal O and jac  0.02956867218017578\n",
      "compute_update  0.03181290626525879\n",
      "(0.047768865235927986+0j)\n",
      "n_discard =  144\n",
      "discard samples 0.07534050941467285\n",
      "n_samples_node =  1000\n",
      "generate_samples :  0.07246947288513184\n",
      "     prepare getting local values 0.003617525100708008\n",
      "     obtained local values 0.008896350860595703\n",
      "get_mc_stats 0.012082815170288086\n"
     ]
    },
    {
     "name": "stderr",
     "output_type": "stream",
     "text": [
      "\r",
      " 25%|██▍       | 247/1000 [00:48<02:24,  5.22it/s, Energy=-2.10589+0.00000j ± 0.00011 [σ²=0.00001]]"
     ]
    },
    {
     "name": "stdout",
     "output_type": "stream",
     "text": [
      "--->> cal O and jac  0.03197455406188965\n",
      "compute_update  0.03510236740112305\n"
     ]
    },
    {
     "name": "stderr",
     "output_type": "stream",
     "text": [
      "\r",
      " 25%|██▍       | 248/1000 [00:48<02:25,  5.17it/s, Energy=-2.10589+0.00000j ± 0.00011 [σ²=0.00001]]"
     ]
    },
    {
     "name": "stdout",
     "output_type": "stream",
     "text": [
      "(0.04777364051832288+0j)\n",
      "n_discard =  144\n",
      "discard samples 0.07658243179321289\n",
      "n_samples_node =  1000\n",
      "generate_samples :  0.07020306587219238\n",
      "     prepare getting local values 0.0017459392547607422\n",
      "     obtained local values 0.008503913879394531\n",
      "get_mc_stats 0.01023244857788086\n",
      "--->> cal O and jac  0.036435842514038086\n"
     ]
    },
    {
     "name": "stderr",
     "output_type": "stream",
     "text": [
      " 25%|██▍       | 249/1000 [00:48<02:26,  5.12it/s, Energy=-2.10583+0.00000j ± 0.00014 [σ²=0.00001]]"
     ]
    },
    {
     "name": "stdout",
     "output_type": "stream",
     "text": [
      "compute_update  0.04047679901123047\n",
      "(0.04778029319706698+0j)\n",
      "n_discard =  144\n",
      "discard samples 0.08182644844055176\n",
      "n_samples_node =  1000\n",
      "generate_samples :  0.06708025932312012\n",
      "     prepare getting local values 0.0022346973419189453\n",
      "     obtained local values 0.005629539489746094\n",
      "get_mc_stats 0.008639812469482422\n"
     ]
    },
    {
     "name": "stderr",
     "output_type": "stream",
     "text": [
      "\r",
      " 25%|██▍       | 249/1000 [00:48<02:26,  5.12it/s, Energy=-2.10586+0.00000j ± 0.00013 [σ²=0.00001]]"
     ]
    },
    {
     "name": "stdout",
     "output_type": "stream",
     "text": [
      "--->> cal O and jac  0.03428912162780762\n",
      "compute_update  0.036385536193847656\n"
     ]
    },
    {
     "name": "stderr",
     "output_type": "stream",
     "text": [
      "\r",
      " 25%|██▌       | 250/1000 [00:48<02:26,  5.11it/s, Energy=-2.10586+0.00000j ± 0.00013 [σ²=0.00001]]"
     ]
    },
    {
     "name": "stdout",
     "output_type": "stream",
     "text": [
      "(0.047792609769706326+0j)\n",
      "n_discard =  144\n",
      "discard samples 0.07671117782592773\n",
      "n_samples_node =  1000\n",
      "generate_samples :  0.0722970962524414\n",
      "     prepare getting local values 0.0016605854034423828\n",
      "     obtained local values 0.005026817321777344\n",
      "get_mc_stats 0.0067501068115234375\n"
     ]
    },
    {
     "name": "stderr",
     "output_type": "stream",
     "text": [
      " 25%|██▌       | 251/1000 [00:49<02:26,  5.12it/s, Energy=-2.105976+0.000000j ± 0.000099 [σ²=0.000014]]"
     ]
    },
    {
     "name": "stdout",
     "output_type": "stream",
     "text": [
      "--->> cal O and jac  0.034954071044921875\n",
      "compute_update  0.03694868087768555\n",
      "(0.047798997094915106+0j)\n",
      "n_discard =  144\n",
      "discard samples 0.0784757137298584\n",
      "n_samples_node =  1000\n",
      "generate_samples :  0.07564997673034668\n",
      "     prepare getting local values 0.0031385421752929688\n",
      "     obtained local values 0.00903177261352539\n",
      "get_mc_stats 0.012284278869628906\n"
     ]
    },
    {
     "name": "stderr",
     "output_type": "stream",
     "text": [
      " 25%|██▌       | 252/1000 [00:49<02:28,  5.04it/s, Energy=-2.10576+0.00000j ± 0.00012 [σ²=0.00001]]    "
     ]
    },
    {
     "name": "stdout",
     "output_type": "stream",
     "text": [
      "--->> cal O and jac  0.03374791145324707\n",
      "compute_update  0.03640413284301758\n",
      "(0.047805777200399434+0j)\n",
      "n_discard =  144\n",
      "discard samples 0.07020378112792969\n",
      "n_samples_node =  1000\n",
      "generate_samples :  0.0649864673614502\n",
      "     prepare getting local values 0.0016775131225585938\n",
      "     obtained local values 0.00494384765625\n",
      "get_mc_stats 0.006817817687988281\n"
     ]
    },
    {
     "name": "stderr",
     "output_type": "stream",
     "text": [
      " 25%|██▌       | 253/1000 [00:49<02:23,  5.22it/s, Energy=-2.10597+0.00000j ± 0.00010 [σ²=0.00001]]"
     ]
    },
    {
     "name": "stdout",
     "output_type": "stream",
     "text": [
      "--->> cal O and jac  0.02834010124206543\n",
      "compute_update  0.03162527084350586\n",
      "(0.047814112346103284+0j)\n",
      "n_discard =  144\n",
      "discard samples 0.07973408699035645\n",
      "n_samples_node =  1000\n",
      "generate_samples :  0.07130765914916992\n",
      "     prepare getting local values 0.003512144088745117\n",
      "     obtained local values 0.008305549621582031\n",
      "get_mc_stats 0.011048316955566406\n"
     ]
    },
    {
     "name": "stderr",
     "output_type": "stream",
     "text": [
      "\r",
      " 25%|██▌       | 253/1000 [00:49<02:23,  5.22it/s, Energy=-2.10592+0.00000j ± 0.00010 [σ²=0.00001]]"
     ]
    },
    {
     "name": "stdout",
     "output_type": "stream",
     "text": [
      "--->> cal O and jac  0.029139280319213867\n",
      "compute_update  0.0312652587890625\n"
     ]
    },
    {
     "name": "stderr",
     "output_type": "stream",
     "text": [
      "\r",
      " 25%|██▌       | 254/1000 [00:49<02:23,  5.18it/s, Energy=-2.10592+0.00000j ± 0.00010 [σ²=0.00001]]"
     ]
    },
    {
     "name": "stdout",
     "output_type": "stream",
     "text": [
      "(0.04781884063956185+0j)\n",
      "n_discard =  144\n",
      "discard samples 0.07596492767333984\n",
      "n_samples_node =  1000\n",
      "generate_samples :  0.06985044479370117\n",
      "     prepare getting local values 0.0035550594329833984\n",
      "     obtained local values 0.009018659591674805\n",
      "get_mc_stats 0.012439250946044922\n"
     ]
    },
    {
     "name": "stderr",
     "output_type": "stream",
     "text": [
      " 26%|██▌       | 255/1000 [00:49<02:24,  5.17it/s, Energy=-2.10587+0.00000j ± 0.00010 [σ²=0.00001]]"
     ]
    },
    {
     "name": "stdout",
     "output_type": "stream",
     "text": [
      "--->> cal O and jac  0.033111572265625\n",
      "compute_update  0.03499460220336914\n",
      "(0.047821112701797126+0j)\n",
      "n_discard =  144\n",
      "discard samples 0.0768730640411377\n",
      "n_samples_node =  1000\n",
      "generate_samples :  0.07464027404785156\n",
      "     prepare getting local values 0.0019228458404541016\n",
      "     obtained local values 0.0055255889892578125\n",
      "get_mc_stats 0.008024215698242188\n",
      "--->> cal O and jac  0.03542828559875488\n"
     ]
    },
    {
     "name": "stderr",
     "output_type": "stream",
     "text": [
      " 26%|██▌       | 256/1000 [00:50<02:25,  5.11it/s, Energy=-2.106069+0.000000j ± 0.000096 [σ²=0.000013]]"
     ]
    },
    {
     "name": "stdout",
     "output_type": "stream",
     "text": [
      "compute_update  0.0391087532043457\n",
      "(0.0478278832967595+0j)\n",
      "n_discard =  144\n",
      "discard samples 0.07300090789794922\n",
      "n_samples_node =  1000\n",
      "generate_samples :  0.07383394241333008\n",
      "     prepare getting local values 0.0035517215728759766\n",
      "     obtained local values 0.009286880493164062\n",
      "get_mc_stats 0.012138128280639648\n",
      "--->> cal O and jac  0.035469770431518555\n"
     ]
    },
    {
     "name": "stderr",
     "output_type": "stream",
     "text": [
      " 26%|██▌       | 257/1000 [00:50<02:26,  5.09it/s, Energy=-2.10582+0.00000j ± 0.00012 [σ²=0.00001]]    "
     ]
    },
    {
     "name": "stdout",
     "output_type": "stream",
     "text": [
      "compute_update  0.03813958168029785\n",
      "(0.047835629331056104+0j)\n",
      "n_discard =  144\n",
      "discard samples 0.07555627822875977\n",
      "n_samples_node =  1000\n",
      "generate_samples :  0.07586002349853516\n",
      "     prepare getting local values 0.004118680953979492\n",
      "     obtained local values 0.008532285690307617\n",
      "get_mc_stats 0.011578083038330078\n",
      "--->> cal O and jac  0.03432154655456543\n"
     ]
    },
    {
     "name": "stderr",
     "output_type": "stream",
     "text": [
      " 26%|██▌       | 258/1000 [00:50<02:27,  5.04it/s, Energy=-2.10583+0.00000j ± 0.00010 [σ²=0.00001]]"
     ]
    },
    {
     "name": "stdout",
     "output_type": "stream",
     "text": [
      "compute_update  0.037405967712402344\n",
      "(0.04783818658286906+0j)\n",
      "n_discard =  144\n",
      "discard samples 0.07184934616088867\n",
      "n_samples_node =  1000\n",
      "generate_samples :  0.0711829662322998\n",
      "     prepare getting local values 0.0035190582275390625\n",
      "     obtained local values 0.007784366607666016\n",
      "get_mc_stats 0.010738134384155273\n"
     ]
    },
    {
     "name": "stderr",
     "output_type": "stream",
     "text": [
      " 26%|██▌       | 259/1000 [00:50<02:26,  5.06it/s, Energy=-2.105896+0.000000j ± 0.000091 [σ²=0.000013]]"
     ]
    },
    {
     "name": "stdout",
     "output_type": "stream",
     "text": [
      "--->> cal O and jac  0.035249948501586914\n",
      "compute_update  0.03861403465270996\n",
      "(0.04784045220533054+0j)\n",
      "n_discard =  144\n",
      "discard samples 0.08229947090148926\n",
      "n_samples_node =  1000\n",
      "generate_samples :  0.07117199897766113\n",
      "     prepare getting local values 0.002926349639892578\n",
      "     obtained local values 0.009371519088745117\n",
      "get_mc_stats 0.01220560073852539\n"
     ]
    },
    {
     "name": "stderr",
     "output_type": "stream",
     "text": [
      " 26%|██▌       | 260/1000 [00:50<02:27,  5.03it/s, Energy=-2.105908+0.000000j ± 0.000085 [σ²=0.000013]]"
     ]
    },
    {
     "name": "stdout",
     "output_type": "stream",
     "text": [
      "--->> cal O and jac  0.032155513763427734\n",
      "compute_update  0.03446030616760254\n",
      "(0.04784286658753623+0j)\n",
      "n_discard =  144\n",
      "discard samples 0.07706642150878906\n",
      "n_samples_node =  1000\n",
      "generate_samples :  0.07412385940551758\n",
      "     prepare getting local values 0.0038063526153564453\n",
      "     obtained local values 0.009140253067016602\n",
      "get_mc_stats 0.011946678161621094\n"
     ]
    },
    {
     "name": "stderr",
     "output_type": "stream",
     "text": [
      " 26%|██▌       | 261/1000 [00:51<02:28,  4.96it/s, Energy=-2.10594+0.00000j ± 0.00011 [σ²=0.00001]]    "
     ]
    },
    {
     "name": "stdout",
     "output_type": "stream",
     "text": [
      "--->> cal O and jac  0.039064645767211914\n",
      "compute_update  0.04113268852233887\n",
      "(0.04784458226436411+0j)\n",
      "n_discard =  144\n",
      "discard samples 0.07567930221557617\n",
      "n_samples_node =  1000\n",
      "generate_samples :  0.06212282180786133\n",
      "     prepare getting local values 0.003515958786010742\n",
      "     obtained local values 0.0069580078125\n",
      "get_mc_stats 0.010254144668579102\n"
     ]
    },
    {
     "name": "stderr",
     "output_type": "stream",
     "text": [
      " 26%|██▌       | 262/1000 [00:51<02:23,  5.13it/s, Energy=-2.10589+0.00000j ± 0.00010 [σ²=0.00001]]"
     ]
    },
    {
     "name": "stdout",
     "output_type": "stream",
     "text": [
      "--->> cal O and jac  0.026807546615600586\n",
      "compute_update  0.02993178367614746\n",
      "(0.04785082645648644+0j)\n",
      "n_discard =  144\n",
      "discard samples 0.07688474655151367\n",
      "n_samples_node =  1000\n",
      "generate_samples :  0.0688939094543457\n",
      "     prepare getting local values 0.002960681915283203\n",
      "     obtained local values 0.0075511932373046875\n",
      "get_mc_stats 0.01077413558959961\n",
      "--->> cal O and jac  0.037014007568359375\n"
     ]
    },
    {
     "name": "stderr",
     "output_type": "stream",
     "text": [
      " 26%|██▋       | 263/1000 [00:51<02:24,  5.10it/s, Energy=-2.10596+0.00000j ± 0.00010 [σ²=0.00001]]"
     ]
    },
    {
     "name": "stdout",
     "output_type": "stream",
     "text": [
      "compute_update  0.04081130027770996\n",
      "(0.04786064244947408+0j)\n",
      "n_discard =  144\n",
      "discard samples 0.07540392875671387\n",
      "n_samples_node =  1000\n",
      "generate_samples :  0.07233381271362305\n",
      "     prepare getting local values 0.0019600391387939453\n",
      "     obtained local values 0.005565643310546875\n",
      "get_mc_stats 0.008210182189941406\n",
      "--->> cal O and jac  0.03792905807495117\n"
     ]
    },
    {
     "name": "stderr",
     "output_type": "stream",
     "text": [
      " 26%|██▋       | 264/1000 [00:51<02:25,  5.07it/s, Energy=-2.10593+0.00000j ± 0.00011 [σ²=0.00001]]"
     ]
    },
    {
     "name": "stdout",
     "output_type": "stream",
     "text": [
      "compute_update  0.04163050651550293\n",
      "(0.047863859627751464+0j)\n",
      "n_discard =  144\n",
      "discard samples 0.07287931442260742\n",
      "n_samples_node =  1000\n",
      "generate_samples :  0.07793402671813965\n",
      "     prepare getting local values 0.0031795501708984375\n",
      "     obtained local values 0.008471012115478516\n",
      "get_mc_stats 0.010468721389770508\n",
      "--->> cal O and jac  0.03239727020263672\n"
     ]
    },
    {
     "name": "stderr",
     "output_type": "stream",
     "text": [
      " 26%|██▋       | 265/1000 [00:51<02:25,  5.06it/s, Energy=-2.10598+0.00000j ± 0.00011 [σ²=0.00001]]"
     ]
    },
    {
     "name": "stdout",
     "output_type": "stream",
     "text": [
      "compute_update  0.035017967224121094\n",
      "(0.04786658927194316+0j)\n",
      "n_discard =  144\n",
      "discard samples 0.07193660736083984\n",
      "n_samples_node =  1000\n",
      "generate_samples :  0.0668492317199707\n",
      "     prepare getting local values 0.003554105758666992\n",
      "     obtained local values 0.009603261947631836\n",
      "get_mc_stats 0.012253999710083008\n"
     ]
    },
    {
     "name": "stderr",
     "output_type": "stream",
     "text": [
      " 27%|██▋       | 266/1000 [00:52<02:22,  5.15it/s, Energy=-2.105984+0.000000j ± 0.000086 [σ²=0.000013]]"
     ]
    },
    {
     "name": "stdout",
     "output_type": "stream",
     "text": [
      "--->> cal O and jac  0.03149533271789551\n",
      "compute_update  0.0341951847076416\n",
      "(0.04786574352813321+0j)\n",
      "n_discard =  144\n",
      "discard samples 0.07399678230285645\n",
      "n_samples_node =  1000\n",
      "generate_samples :  0.07300710678100586\n",
      "     prepare getting local values 0.0036559104919433594\n",
      "     obtained local values 0.007469654083251953\n",
      "get_mc_stats 0.010680675506591797\n"
     ]
    },
    {
     "name": "stderr",
     "output_type": "stream",
     "text": [
      " 27%|██▋       | 267/1000 [00:52<02:24,  5.08it/s, Energy=-2.105861+0.000000j ± 0.000095 [σ²=0.000014]]"
     ]
    },
    {
     "name": "stdout",
     "output_type": "stream",
     "text": [
      "--->> cal O and jac  0.039604902267456055\n",
      "compute_update  0.04280281066894531\n",
      "(0.04786732033034175+0j)\n",
      "n_discard =  144\n",
      "discard samples 0.07583141326904297\n",
      "n_samples_node =  1000\n",
      "generate_samples :  0.06630849838256836\n",
      "     prepare getting local values 0.005176067352294922\n",
      "     obtained local values 0.010163307189941406\n",
      "get_mc_stats 0.013484716415405273\n",
      "--->> cal O and jac  0.03606104850769043\n"
     ]
    },
    {
     "name": "stderr",
     "output_type": "stream",
     "text": [
      " 27%|██▋       | 268/1000 [00:52<02:24,  5.07it/s, Energy=-2.10579+0.00000j ± 0.00011 [σ²=0.00001]]    "
     ]
    },
    {
     "name": "stdout",
     "output_type": "stream",
     "text": [
      "compute_update  0.03985786437988281\n",
      "(0.04787093096171096+0j)\n",
      "n_discard =  144\n",
      "discard samples 0.07283473014831543\n",
      "n_samples_node =  1000\n",
      "generate_samples :  0.07015442848205566\n",
      "     prepare getting local values 0.0044040679931640625\n",
      "     obtained local values 0.007967472076416016\n",
      "get_mc_stats 0.011185169219970703\n"
     ]
    },
    {
     "name": "stderr",
     "output_type": "stream",
     "text": [
      " 27%|██▋       | 269/1000 [00:52<02:22,  5.13it/s, Energy=-2.105804+0.000000j ± 0.000084 [σ²=0.000014]]"
     ]
    },
    {
     "name": "stdout",
     "output_type": "stream",
     "text": [
      "--->> cal O and jac  0.031116008758544922\n",
      "compute_update  0.03337502479553223\n",
      "(0.047874709420724915+0j)\n",
      "n_discard =  144\n",
      "discard samples 0.078826904296875\n",
      "n_samples_node =  1000\n",
      "generate_samples :  0.07407641410827637\n",
      "     prepare getting local values 0.003176450729370117\n",
      "     obtained local values 0.009460210800170898\n",
      "get_mc_stats 0.013115406036376953\n"
     ]
    },
    {
     "name": "stderr",
     "output_type": "stream",
     "text": [
      " 27%|██▋       | 270/1000 [00:52<02:23,  5.08it/s, Energy=-2.10586+0.00000j ± 0.00012 [σ²=0.00001]]    "
     ]
    },
    {
     "name": "stdout",
     "output_type": "stream",
     "text": [
      "--->> cal O and jac  0.030747413635253906\n",
      "compute_update  0.032831430435180664\n",
      "(0.04787498308893994+0j)\n",
      "n_discard =  144\n",
      "discard samples 0.07121825218200684\n",
      "n_samples_node =  1000\n",
      "generate_samples :  0.06860065460205078\n",
      "     prepare getting local values 0.002338886260986328\n",
      "     obtained local values 0.0056095123291015625\n",
      "get_mc_stats 0.009466171264648438\n"
     ]
    },
    {
     "name": "stderr",
     "output_type": "stream",
     "text": [
      " 27%|██▋       | 271/1000 [00:53<02:20,  5.19it/s, Energy=-2.105882+0.000000j ± 0.000087 [σ²=0.000014]]"
     ]
    },
    {
     "name": "stdout",
     "output_type": "stream",
     "text": [
      "--->> cal O and jac  0.028307199478149414\n",
      "compute_update  0.03197813034057617\n",
      "(0.04786837834556636+0j)\n",
      "n_discard =  144\n",
      "discard samples 0.07595229148864746\n",
      "n_samples_node =  1000\n",
      "generate_samples :  0.06972241401672363\n",
      "     prepare getting local values 0.003404855728149414\n",
      "     obtained local values 0.006695270538330078\n",
      "get_mc_stats 0.009895086288452148\n"
     ]
    },
    {
     "name": "stderr",
     "output_type": "stream",
     "text": [
      " 27%|██▋       | 272/1000 [00:53<02:22,  5.11it/s, Energy=-2.10601+0.00000j ± 0.00011 [σ²=0.00002]]    "
     ]
    },
    {
     "name": "stdout",
     "output_type": "stream",
     "text": [
      "--->> cal O and jac  0.04291868209838867\n",
      "compute_update  0.04497718811035156\n",
      "(0.04786099772075714+0j)\n",
      "n_discard =  144\n",
      "discard samples 0.07245850563049316\n",
      "n_samples_node =  1000\n",
      "generate_samples :  0.07113766670227051\n",
      "     prepare getting local values 0.0030355453491210938\n",
      "     obtained local values 0.009250640869140625\n",
      "get_mc_stats 0.012176990509033203\n"
     ]
    },
    {
     "name": "stderr",
     "output_type": "stream",
     "text": [
      " 27%|██▋       | 273/1000 [00:53<02:21,  5.16it/s, Energy=-2.10597+0.00000j ± 0.00011 [σ²=0.00001]]"
     ]
    },
    {
     "name": "stdout",
     "output_type": "stream",
     "text": [
      "--->> cal O and jac  0.02938222885131836\n",
      "compute_update  0.03172183036804199\n",
      "(0.047855397860771885+0j)\n",
      "n_discard =  144\n",
      "discard samples 0.0864713191986084\n",
      "n_samples_node =  1000\n",
      "generate_samples :  0.07330131530761719\n",
      "     prepare getting local values 0.0029158592224121094\n",
      "     obtained local values 0.009131193161010742\n",
      "get_mc_stats 0.011955976486206055\n"
     ]
    },
    {
     "name": "stderr",
     "output_type": "stream",
     "text": [
      " 27%|██▋       | 274/1000 [00:53<02:22,  5.09it/s, Energy=-2.10590+0.00000j ± 0.00011 [σ²=0.00001]]"
     ]
    },
    {
     "name": "stdout",
     "output_type": "stream",
     "text": [
      "--->> cal O and jac  0.027204513549804688\n",
      "compute_update  0.029178619384765625\n",
      "(0.047853995602405795+0j)\n",
      "n_discard =  144\n",
      "discard samples 0.07303118705749512\n",
      "n_samples_node =  1000\n",
      "generate_samples :  0.07830190658569336\n",
      "     prepare getting local values 0.003147602081298828\n",
      "     obtained local values 0.006607770919799805\n",
      "get_mc_stats 0.010231494903564453\n"
     ]
    },
    {
     "name": "stderr",
     "output_type": "stream",
     "text": [
      " 28%|██▊       | 275/1000 [00:53<02:23,  5.04it/s, Energy=-2.105798+0.000000j ± 0.000087 [σ²=0.000014]]"
     ]
    },
    {
     "name": "stdout",
     "output_type": "stream",
     "text": [
      "--->> cal O and jac  0.03696703910827637\n",
      "compute_update  0.039283037185668945\n",
      "(0.04785452540203373+0j)\n",
      "n_discard =  144\n",
      "discard samples 0.06901407241821289\n",
      "n_samples_node =  1000\n",
      "generate_samples :  0.06928110122680664\n",
      "     prepare getting local values 0.0017459392547607422\n",
      "     obtained local values 0.0052547454833984375\n",
      "get_mc_stats 0.007011890411376953\n"
     ]
    },
    {
     "name": "stderr",
     "output_type": "stream",
     "text": [
      " 28%|██▊       | 276/1000 [00:54<02:20,  5.17it/s, Energy=-2.106050+0.000000j ± 0.000099 [σ²=0.000014]]"
     ]
    },
    {
     "name": "stdout",
     "output_type": "stream",
     "text": [
      "--->> cal O and jac  0.030927419662475586\n",
      "compute_update  0.03453516960144043\n",
      "(0.04784945225903577+0j)\n",
      "n_discard =  144\n",
      "discard samples 0.07669949531555176\n",
      "n_samples_node =  1000\n",
      "generate_samples :  0.07065296173095703\n",
      "     prepare getting local values 0.002785205841064453\n",
      "     obtained local values 0.008997917175292969\n",
      "get_mc_stats 0.012409210205078125\n"
     ]
    },
    {
     "name": "stderr",
     "output_type": "stream",
     "text": [
      " 28%|██▊       | 277/1000 [00:54<02:21,  5.11it/s, Energy=-2.10593+0.00000j ± 0.00011 [σ²=0.00001]]    "
     ]
    },
    {
     "name": "stdout",
     "output_type": "stream",
     "text": [
      "--->> cal O and jac  0.035980224609375\n",
      "compute_update  0.03834652900695801\n",
      "(0.04783880733378765+0j)\n",
      "n_discard =  144\n",
      "discard samples 0.07900524139404297\n",
      "n_samples_node =  1000\n",
      "generate_samples :  0.06848430633544922\n",
      "     prepare getting local values 0.0018668174743652344\n",
      "     obtained local values 0.0053288936614990234\n",
      "get_mc_stats 0.007819652557373047\n"
     ]
    },
    {
     "name": "stderr",
     "output_type": "stream",
     "text": [
      " 28%|██▊       | 278/1000 [00:54<02:20,  5.14it/s, Energy=-2.10601+0.00000j ± 0.00012 [σ²=0.00001]]"
     ]
    },
    {
     "name": "stdout",
     "output_type": "stream",
     "text": [
      "--->> cal O and jac  0.0333409309387207\n",
      "compute_update  0.035422563552856445\n",
      "(0.04783133670614511+0j)\n",
      "n_discard =  144\n",
      "discard samples 0.07292723655700684\n",
      "n_samples_node =  1000\n",
      "generate_samples :  0.07431507110595703\n",
      "     prepare getting local values 0.003556966781616211\n",
      "     obtained local values 0.010318994522094727\n",
      "get_mc_stats 0.013475894927978516\n",
      "--->> cal O and jac  0.03482246398925781\n"
     ]
    },
    {
     "name": "stderr",
     "output_type": "stream",
     "text": [
      " 28%|██▊       | 279/1000 [00:54<02:21,  5.10it/s, Energy=-2.105924+0.000000j ± 0.000082 [σ²=0.000015]]"
     ]
    },
    {
     "name": "stdout",
     "output_type": "stream",
     "text": [
      "compute_update  0.03759932518005371\n",
      "(0.04781566924687967+0j)\n",
      "n_discard =  144\n",
      "discard samples 0.08573532104492188\n",
      "n_samples_node =  1000\n",
      "generate_samples :  0.07716870307922363\n",
      "     prepare getting local values 0.0028638839721679688\n",
      "     obtained local values 0.007738828659057617\n",
      "get_mc_stats 0.010433197021484375\n"
     ]
    },
    {
     "name": "stderr",
     "output_type": "stream",
     "text": [
      " 28%|██▊       | 280/1000 [00:54<02:23,  5.01it/s, Energy=-2.105803+0.000000j ± 0.000096 [σ²=0.000015]]"
     ]
    },
    {
     "name": "stdout",
     "output_type": "stream",
     "text": [
      "--->> cal O and jac  0.029553651809692383\n",
      "compute_update  0.03171539306640625\n",
      "(0.04781023471115597+0j)\n",
      "n_discard =  144\n",
      "discard samples 0.07418179512023926\n",
      "n_samples_node =  1000\n",
      "generate_samples :  0.07331442832946777\n",
      "     prepare getting local values 0.0016407966613769531\n",
      "     obtained local values 0.0049991607666015625\n",
      "get_mc_stats 0.0064470767974853516\n"
     ]
    },
    {
     "name": "stderr",
     "output_type": "stream",
     "text": [
      " 28%|██▊       | 281/1000 [00:55<02:21,  5.09it/s, Energy=-2.105861+0.000000j ± 0.000098 [σ²=0.000013]]"
     ]
    },
    {
     "name": "stdout",
     "output_type": "stream",
     "text": [
      "--->> cal O and jac  0.031178951263427734\n",
      "compute_update  0.03336930274963379\n",
      "(0.04779771918054958+0j)\n",
      "n_discard =  144\n",
      "discard samples 0.07092761993408203\n",
      "n_samples_node =  1000\n",
      "generate_samples :  0.06904363632202148\n",
      "     prepare getting local values 0.00357818603515625\n",
      "     obtained local values 0.009276390075683594\n",
      "get_mc_stats 0.012202978134155273\n"
     ]
    },
    {
     "name": "stderr",
     "output_type": "stream",
     "text": [
      " 28%|██▊       | 282/1000 [00:55<02:20,  5.12it/s, Energy=-2.106046+0.000000j ± 0.000082 [σ²=0.000015]]"
     ]
    },
    {
     "name": "stdout",
     "output_type": "stream",
     "text": [
      "--->> cal O and jac  0.035733938217163086\n",
      "compute_update  0.03817009925842285\n",
      "(0.047782336523836524+0j)\n",
      "n_discard =  144\n",
      "discard samples 0.07538414001464844\n",
      "n_samples_node =  1000\n",
      "generate_samples :  0.07299017906188965\n",
      "     prepare getting local values 0.0037856101989746094\n",
      "     obtained local values 0.009445428848266602\n",
      "get_mc_stats 0.01161813735961914\n"
     ]
    },
    {
     "name": "stderr",
     "output_type": "stream",
     "text": [
      " 28%|██▊       | 283/1000 [00:55<02:20,  5.11it/s, Energy=-2.105810+0.000000j ± 0.000088 [σ²=0.000014]]"
     ]
    },
    {
     "name": "stdout",
     "output_type": "stream",
     "text": [
      "--->> cal O and jac  0.03120589256286621\n",
      "compute_update  0.034770965576171875\n",
      "(0.047765450488566875+0j)\n",
      "n_discard =  144\n",
      "discard samples 0.08075690269470215\n",
      "n_samples_node =  1000\n",
      "generate_samples :  0.07137656211853027\n",
      "     prepare getting local values 0.0017535686492919922\n",
      "     obtained local values 0.005451202392578125\n",
      "get_mc_stats 0.007288694381713867\n",
      "--->> cal O and jac  0.03496694564819336\n"
     ]
    },
    {
     "name": "stderr",
     "output_type": "stream",
     "text": [
      " 28%|██▊       | 284/1000 [00:55<02:20,  5.09it/s, Energy=-2.10596+0.00000j ± 0.00010 [σ²=0.00001]]    "
     ]
    },
    {
     "name": "stdout",
     "output_type": "stream",
     "text": [
      "compute_update  0.0373387336730957\n",
      "(0.047746442456562066+0j)\n",
      "n_discard =  144\n",
      "discard samples 0.07700562477111816\n",
      "n_samples_node =  1000\n",
      "generate_samples :  0.08051586151123047\n",
      "     prepare getting local values 0.003171205520629883\n",
      "     obtained local values 0.0067102909088134766\n",
      "get_mc_stats 0.009999990463256836\n"
     ]
    },
    {
     "name": "stderr",
     "output_type": "stream",
     "text": [
      " 28%|██▊       | 285/1000 [00:55<02:22,  5.02it/s, Energy=-2.105780+0.000000j ± 0.000098 [σ²=0.000015]]"
     ]
    },
    {
     "name": "stdout",
     "output_type": "stream",
     "text": [
      "--->> cal O and jac  0.03398776054382324\n",
      "compute_update  0.03635120391845703\n",
      "(0.04773272548005126+0j)\n",
      "n_discard =  144\n",
      "discard samples 0.07816839218139648\n",
      "n_samples_node =  1000\n",
      "generate_samples :  0.0767965316772461\n",
      "     prepare getting local values 0.003983259201049805\n",
      "     obtained local values 0.009063243865966797\n",
      "get_mc_stats 0.012195348739624023\n"
     ]
    },
    {
     "name": "stderr",
     "output_type": "stream",
     "text": [
      " 29%|██▊       | 286/1000 [00:56<02:23,  4.98it/s, Energy=-2.10592+0.00000j ± 0.00012 [σ²=0.00001]]    "
     ]
    },
    {
     "name": "stdout",
     "output_type": "stream",
     "text": [
      "--->> cal O and jac  0.032752037048339844\n",
      "compute_update  0.03501391410827637\n",
      "(0.04771412936115314+0j)\n",
      "n_discard =  144\n",
      "discard samples 0.07239723205566406\n",
      "n_samples_node =  1000\n",
      "generate_samples :  0.07399463653564453\n",
      "     prepare getting local values 0.002465486526489258\n",
      "     obtained local values 0.008640527725219727\n",
      "get_mc_stats 0.01138162612915039\n"
     ]
    },
    {
     "name": "stderr",
     "output_type": "stream",
     "text": [
      " 29%|██▊       | 287/1000 [00:56<02:21,  5.03it/s, Energy=-2.105849+0.000000j ± 0.000071 [σ²=0.000013]]"
     ]
    },
    {
     "name": "stdout",
     "output_type": "stream",
     "text": [
      "--->> cal O and jac  0.03181934356689453\n",
      "compute_update  0.03416132926940918\n",
      "(0.04768932871225529+0j)\n",
      "n_discard =  144\n",
      "discard samples 0.0821530818939209\n",
      "n_samples_node =  1000\n",
      "generate_samples :  0.07885313034057617\n",
      "     prepare getting local values 0.003756284713745117\n",
      "     obtained local values 0.009316444396972656\n",
      "get_mc_stats 0.012262344360351562\n"
     ]
    },
    {
     "name": "stderr",
     "output_type": "stream",
     "text": [
      " 29%|██▉       | 288/1000 [00:56<02:24,  4.94it/s, Energy=-2.105970+0.000000j ± 0.000096 [σ²=0.000014]]"
     ]
    },
    {
     "name": "stdout",
     "output_type": "stream",
     "text": [
      "--->> cal O and jac  0.03396439552307129\n",
      "compute_update  0.03643202781677246\n",
      "(0.04765495191505211+0j)\n",
      "n_discard =  144\n",
      "discard samples 0.09995555877685547\n",
      "n_samples_node =  1000\n",
      "generate_samples :  0.07727217674255371\n",
      "     prepare getting local values 0.003165721893310547\n",
      "     obtained local values 0.0064618587493896484\n",
      "get_mc_stats 0.009783029556274414\n"
     ]
    },
    {
     "name": "stderr",
     "output_type": "stream",
     "text": [
      " 29%|██▉       | 289/1000 [00:56<02:28,  4.77it/s, Energy=-2.105922+0.000000j ± 0.000092 [σ²=0.000014]]"
     ]
    },
    {
     "name": "stdout",
     "output_type": "stream",
     "text": [
      "--->> cal O and jac  0.032349348068237305\n",
      "compute_update  0.036049842834472656\n",
      "(0.04762605010657678+0j)\n",
      "n_discard =  144\n",
      "discard samples 0.07415056228637695\n",
      "n_samples_node =  1000\n",
      "generate_samples :  0.07759928703308105\n",
      "     prepare getting local values 0.0035085678100585938\n",
      "     obtained local values 0.008870840072631836\n",
      "get_mc_stats 0.01143503189086914\n"
     ]
    },
    {
     "name": "stderr",
     "output_type": "stream",
     "text": [
      " 29%|██▉       | 290/1000 [00:56<02:27,  4.82it/s, Energy=-2.10591+0.00000j ± 0.00012 [σ²=0.00001]]    "
     ]
    },
    {
     "name": "stdout",
     "output_type": "stream",
     "text": [
      "--->> cal O and jac  0.0353243350982666\n",
      "compute_update  0.037538766860961914\n",
      "(0.047601862832052144+0j)\n",
      "n_discard =  144\n",
      "discard samples 0.0734708309173584\n",
      "n_samples_node =  1000\n",
      "generate_samples :  0.07154536247253418\n",
      "     prepare getting local values 0.0033140182495117188\n",
      "     obtained local values 0.009709835052490234\n",
      "get_mc_stats 0.013039112091064453\n"
     ]
    },
    {
     "name": "stderr",
     "output_type": "stream",
     "text": [
      " 29%|██▉       | 291/1000 [00:57<02:24,  4.90it/s, Energy=-2.10600+0.00000j ± 0.00012 [σ²=0.00001]]"
     ]
    },
    {
     "name": "stdout",
     "output_type": "stream",
     "text": [
      "--->> cal O and jac  0.03299212455749512\n",
      "compute_update  0.03537607192993164\n",
      "(0.04756526189635928+0j)\n",
      "n_discard =  144\n",
      "discard samples 0.07585763931274414\n",
      "n_samples_node =  1000\n",
      "generate_samples :  0.07428693771362305\n",
      "     prepare getting local values 0.0036940574645996094\n",
      "     obtained local values 0.008728265762329102\n",
      "get_mc_stats 0.011776447296142578\n",
      "--->> cal O and jac  0.032833099365234375\n"
     ]
    },
    {
     "name": "stderr",
     "output_type": "stream",
     "text": [
      " 29%|██▉       | 292/1000 [00:57<02:23,  4.94it/s, Energy=-2.10602+0.00000j ± 0.00012 [σ²=0.00001]]"
     ]
    },
    {
     "name": "stdout",
     "output_type": "stream",
     "text": [
      "compute_update  0.0359039306640625\n",
      "(0.04752950414685558+0j)\n",
      "n_discard =  144\n",
      "discard samples 0.07421302795410156\n",
      "n_samples_node =  1000\n",
      "generate_samples :  0.07293009757995605\n",
      "     prepare getting local values 0.003518342971801758\n",
      "     obtained local values 0.00823354721069336\n",
      "get_mc_stats 0.011506319046020508\n"
     ]
    },
    {
     "name": "stderr",
     "output_type": "stream",
     "text": [
      " 29%|██▉       | 293/1000 [00:57<02:20,  5.03it/s, Energy=-2.105975+0.000000j ± 0.000091 [σ²=0.000013]]"
     ]
    },
    {
     "name": "stdout",
     "output_type": "stream",
     "text": [
      "--->> cal O and jac  0.028094053268432617\n",
      "compute_update  0.030298709869384766\n",
      "(0.04749412868904161+0j)\n",
      "n_discard =  144\n",
      "discard samples 0.07074761390686035\n",
      "n_samples_node =  1000\n",
      "generate_samples :  0.06559133529663086\n",
      "     prepare getting local values 0.002820253372192383\n",
      "     obtained local values 0.008907318115234375\n",
      "get_mc_stats 0.011823892593383789\n"
     ]
    },
    {
     "name": "stderr",
     "output_type": "stream",
     "text": [
      " 29%|██▉       | 294/1000 [00:57<02:16,  5.18it/s, Energy=-2.105903+0.000000j ± 0.000093 [σ²=0.000013]]"
     ]
    },
    {
     "name": "stdout",
     "output_type": "stream",
     "text": [
      "--->> cal O and jac  0.027821063995361328\n",
      "compute_update  0.02990865707397461\n",
      "(0.04745616936943339+0j)\n",
      "n_discard =  144\n",
      "discard samples 0.07303118705749512\n",
      "n_samples_node =  1000\n",
      "generate_samples :  0.07509160041809082\n",
      "     prepare getting local values 0.0035293102264404297\n",
      "     obtained local values 0.00868678092956543\n",
      "get_mc_stats 0.011997699737548828\n"
     ]
    },
    {
     "name": "stderr",
     "output_type": "stream",
     "text": [
      " 30%|██▉       | 295/1000 [00:57<02:16,  5.17it/s, Energy=-2.10596+0.00000j ± 0.00010 [σ²=0.00001]]    "
     ]
    },
    {
     "name": "stdout",
     "output_type": "stream",
     "text": [
      "--->> cal O and jac  0.030402183532714844\n",
      "compute_update  0.03263354301452637\n",
      "(0.047420211478705114+0j)\n",
      "n_discard =  144\n",
      "discard samples 0.07537579536437988\n",
      "n_samples_node =  1000\n",
      "generate_samples :  0.07262206077575684\n",
      "     prepare getting local values 0.0035483837127685547\n",
      "     obtained local values 0.0077056884765625\n",
      "get_mc_stats 0.010713577270507812\n"
     ]
    },
    {
     "name": "stderr",
     "output_type": "stream",
     "text": [
      "\r",
      " 30%|██▉       | 295/1000 [00:58<02:16,  5.17it/s, Energy=-2.105843+0.000000j ± 0.000093 [σ²=0.000012]]"
     ]
    },
    {
     "name": "stdout",
     "output_type": "stream",
     "text": [
      "--->> cal O and jac  0.034673452377319336\n",
      "compute_update  0.037078857421875\n"
     ]
    },
    {
     "name": "stderr",
     "output_type": "stream",
     "text": [
      "\r",
      " 30%|██▉       | 296/1000 [00:58<02:17,  5.13it/s, Energy=-2.105843+0.000000j ± 0.000093 [σ²=0.000012]]"
     ]
    },
    {
     "name": "stdout",
     "output_type": "stream",
     "text": [
      "(0.04738040919291181+0j)\n",
      "n_discard =  144\n",
      "discard samples 0.0751194953918457\n",
      "n_samples_node =  1000\n",
      "generate_samples :  0.07179450988769531\n",
      "     prepare getting local values 0.0026543140411376953\n",
      "     obtained local values 0.006031513214111328\n",
      "get_mc_stats 0.008505821228027344\n"
     ]
    },
    {
     "name": "stderr",
     "output_type": "stream",
     "text": [
      " 30%|██▉       | 297/1000 [00:58<02:16,  5.14it/s, Energy=-2.105929+0.000000j ± 0.000090 [σ²=0.000011]]"
     ]
    },
    {
     "name": "stdout",
     "output_type": "stream",
     "text": [
      "--->> cal O and jac  0.03302788734436035\n",
      "compute_update  0.03612208366394043\n",
      "(0.04733991433452293+0j)\n",
      "n_discard =  144\n",
      "discard samples 0.07470178604125977\n",
      "n_samples_node =  1000\n",
      "generate_samples :  0.06696820259094238\n",
      "     prepare getting local values 0.0017282962799072266\n",
      "     obtained local values 0.005064487457275391\n",
      "get_mc_stats 0.007328510284423828\n"
     ]
    },
    {
     "name": "stderr",
     "output_type": "stream",
     "text": [
      " 30%|██▉       | 298/1000 [00:58<02:15,  5.18it/s, Energy=-2.105886+0.000000j ± 0.000090 [σ²=0.000011]]"
     ]
    },
    {
     "name": "stdout",
     "output_type": "stream",
     "text": [
      "--->> cal O and jac  0.03408241271972656\n",
      "compute_update  0.037790775299072266\n",
      "(0.0473026832950955+0j)\n",
      "n_discard =  144\n",
      "discard samples 0.0787055492401123\n",
      "n_samples_node =  1000\n",
      "generate_samples :  0.06661081314086914\n",
      "     prepare getting local values 0.0035974979400634766\n",
      "     obtained local values 0.008444547653198242\n",
      "get_mc_stats 0.011888265609741211\n"
     ]
    },
    {
     "name": "stderr",
     "output_type": "stream",
     "text": [
      "\r",
      " 30%|██▉       | 298/1000 [00:58<02:15,  5.18it/s, Energy=-2.105840+0.000000j ± 0.000081 [σ²=0.000011]]"
     ]
    },
    {
     "name": "stdout",
     "output_type": "stream",
     "text": [
      "--->> cal O and jac  0.03509521484375\n",
      "compute_update  0.03714156150817871\n"
     ]
    },
    {
     "name": "stderr",
     "output_type": "stream",
     "text": [
      "\r",
      " 30%|██▉       | 299/1000 [00:58<02:15,  5.16it/s, Energy=-2.105840+0.000000j ± 0.000081 [σ²=0.000011]]"
     ]
    },
    {
     "name": "stdout",
     "output_type": "stream",
     "text": [
      "(0.04725796192682375+0j)\n",
      "n_discard =  144\n",
      "discard samples 0.08220529556274414\n",
      "n_samples_node =  1000\n",
      "generate_samples :  0.06955957412719727\n",
      "     prepare getting local values 0.003488779067993164\n",
      "     obtained local values 0.009140491485595703\n",
      "get_mc_stats 0.01257181167602539\n",
      "--->> cal O and jac  0.03243207931518555\n"
     ]
    },
    {
     "name": "stderr",
     "output_type": "stream",
     "text": [
      "\r",
      " 30%|██▉       | 299/1000 [00:58<02:15,  5.16it/s, Energy=-2.105867+0.000000j ± 0.000071 [σ²=0.000012]]"
     ]
    },
    {
     "name": "stdout",
     "output_type": "stream",
     "text": [
      "compute_update  0.03556561470031738\n"
     ]
    },
    {
     "name": "stderr",
     "output_type": "stream",
     "text": [
      "\r",
      " 30%|███       | 300/1000 [00:58<02:17,  5.10it/s, Energy=-2.105867+0.000000j ± 0.000071 [σ²=0.000012]]"
     ]
    },
    {
     "name": "stdout",
     "output_type": "stream",
     "text": [
      "(0.0472160022255444+0j)\n",
      "n_discard =  144\n",
      "discard samples 0.06845831871032715\n",
      "n_samples_node =  1000\n",
      "generate_samples :  0.0664675235748291\n",
      "     prepare getting local values 0.003558635711669922\n",
      "     obtained local values 0.010702848434448242\n",
      "get_mc_stats 0.014076471328735352\n"
     ]
    },
    {
     "name": "stderr",
     "output_type": "stream",
     "text": [
      " 30%|███       | 301/1000 [00:59<02:14,  5.21it/s, Energy=-2.106045+0.000000j ± 0.000093 [σ²=0.000011]]"
     ]
    },
    {
     "name": "stdout",
     "output_type": "stream",
     "text": [
      "--->> cal O and jac  0.02859354019165039\n",
      "compute_update  0.031538963317871094\n",
      "(0.04716637795622591+0j)\n",
      "n_discard =  144\n",
      "discard samples 0.07337093353271484\n",
      "n_samples_node =  1000\n",
      "generate_samples :  0.06751561164855957\n",
      "     prepare getting local values 0.003635406494140625\n",
      "     obtained local values 0.008384466171264648\n",
      "get_mc_stats 0.011725664138793945\n"
     ]
    },
    {
     "name": "stderr",
     "output_type": "stream",
     "text": [
      " 30%|███       | 302/1000 [00:59<02:13,  5.24it/s, Energy=-2.105866+0.000000j ± 0.000089 [σ²=0.000011]]"
     ]
    },
    {
     "name": "stdout",
     "output_type": "stream",
     "text": [
      "--->> cal O and jac  0.03074049949645996\n",
      "compute_update  0.03318452835083008\n",
      "(0.04713059397951594+0j)\n",
      "n_discard =  144\n",
      "discard samples 0.07545304298400879\n",
      "n_samples_node =  1000\n",
      "generate_samples :  0.07394242286682129\n",
      "     prepare getting local values 0.0016155242919921875\n",
      "     obtained local values 0.004771709442138672\n",
      "get_mc_stats 0.006721973419189453\n"
     ]
    },
    {
     "name": "stderr",
     "output_type": "stream",
     "text": [
      " 30%|███       | 303/1000 [00:59<02:12,  5.26it/s, Energy=-2.105777+0.000000j ± 0.000072 [σ²=0.000010]]"
     ]
    },
    {
     "name": "stdout",
     "output_type": "stream",
     "text": [
      "--->> cal O and jac  0.028049230575561523\n",
      "compute_update  0.03070378303527832\n",
      "(0.04708486170914861+0j)\n",
      "n_discard =  144\n",
      "discard samples 0.0734550952911377\n",
      "n_samples_node =  1000\n",
      "generate_samples :  0.07509016990661621\n",
      "     prepare getting local values 0.0034782886505126953\n",
      "     obtained local values 0.008828878402709961\n",
      "get_mc_stats 0.011349916458129883\n"
     ]
    },
    {
     "name": "stderr",
     "output_type": "stream",
     "text": [
      " 30%|███       | 304/1000 [00:59<02:13,  5.21it/s, Energy=-2.105863+0.000000j ± 0.000066 [σ²=0.000011]]"
     ]
    },
    {
     "name": "stdout",
     "output_type": "stream",
     "text": [
      "--->> cal O and jac  0.03218364715576172\n",
      "compute_update  0.03457927703857422\n",
      "(0.04704094028326587+0j)\n",
      "n_discard =  144\n",
      "discard samples 0.07273221015930176\n",
      "n_samples_node =  1000\n",
      "generate_samples :  0.07662415504455566\n",
      "     prepare getting local values 0.0037183761596679688\n",
      "     obtained local values 0.010255098342895508\n",
      "get_mc_stats 0.013129234313964844\n"
     ]
    },
    {
     "name": "stderr",
     "output_type": "stream",
     "text": [
      " 30%|███       | 305/1000 [00:59<02:14,  5.17it/s, Energy=-2.105942+0.000000j ± 0.000088 [σ²=0.000010]]"
     ]
    },
    {
     "name": "stdout",
     "output_type": "stream",
     "text": [
      "--->> cal O and jac  0.028661727905273438\n",
      "compute_update  0.0317988395690918\n",
      "(0.0469941423147853+0j)\n",
      "n_discard =  144\n",
      "discard samples 0.07759284973144531\n",
      "n_samples_node =  1000\n",
      "generate_samples :  0.06607294082641602\n",
      "     prepare getting local values 0.0034372806549072266\n",
      "     obtained local values 0.009537458419799805\n",
      "get_mc_stats 0.012631416320800781\n"
     ]
    },
    {
     "name": "stderr",
     "output_type": "stream",
     "text": [
      " 31%|███       | 306/1000 [00:59<02:13,  5.21it/s, Energy=-2.105932+0.000000j ± 0.000085 [σ²=0.000009]]"
     ]
    },
    {
     "name": "stdout",
     "output_type": "stream",
     "text": [
      "--->> cal O and jac  0.028818845748901367\n",
      "compute_update  0.03078150749206543\n",
      "(0.046949290282555546+0j)\n",
      "n_discard =  144\n",
      "discard samples 0.07513260841369629\n",
      "n_samples_node =  1000\n",
      "generate_samples :  0.06921672821044922\n",
      "     prepare getting local values 0.003575563430786133\n",
      "     obtained local values 0.009897232055664062\n",
      "get_mc_stats 0.0130767822265625\n"
     ]
    },
    {
     "name": "stderr",
     "output_type": "stream",
     "text": [
      " 31%|███       | 307/1000 [01:00<02:13,  5.17it/s, Energy=-2.105953+0.000000j ± 0.000086 [σ²=0.000010]]"
     ]
    },
    {
     "name": "stdout",
     "output_type": "stream",
     "text": [
      "--->> cal O and jac  0.03428006172180176\n",
      "compute_update  0.03660178184509277\n",
      "(0.0469076023896176+0j)\n",
      "n_discard =  144\n",
      "discard samples 0.0773923397064209\n",
      "n_samples_node =  1000\n",
      "generate_samples :  0.07219839096069336\n",
      "     prepare getting local values 0.0035552978515625\n",
      "     obtained local values 0.006784915924072266\n",
      "get_mc_stats 0.00947880744934082\n"
     ]
    },
    {
     "name": "stderr",
     "output_type": "stream",
     "text": [
      " 31%|███       | 308/1000 [01:00<02:15,  5.10it/s, Energy=-2.105985+0.000000j ± 0.000086 [σ²=0.000010]]"
     ]
    },
    {
     "name": "stdout",
     "output_type": "stream",
     "text": [
      "--->> cal O and jac  0.03840970993041992\n",
      "compute_update  0.040582895278930664\n",
      "(0.04686160256985217+0j)\n",
      "n_discard =  144\n",
      "discard samples 0.07419681549072266\n",
      "n_samples_node =  1000\n",
      "generate_samples :  0.07756352424621582\n",
      "     prepare getting local values 0.0017170906066894531\n",
      "     obtained local values 0.005155801773071289\n",
      "get_mc_stats 0.007320880889892578\n"
     ]
    },
    {
     "name": "stderr",
     "output_type": "stream",
     "text": [
      "\r",
      " 31%|███       | 308/1000 [01:00<02:15,  5.10it/s, Energy=-2.105794+0.000000j ± 0.000099 [σ²=0.000009]]"
     ]
    },
    {
     "name": "stdout",
     "output_type": "stream",
     "text": [
      "--->> cal O and jac  0.03562140464782715\n",
      "compute_update  0.03779244422912598\n"
     ]
    },
    {
     "name": "stderr",
     "output_type": "stream",
     "text": [
      "\r",
      " 31%|███       | 309/1000 [01:00<02:15,  5.08it/s, Energy=-2.105794+0.000000j ± 0.000099 [σ²=0.000009]]"
     ]
    },
    {
     "name": "stdout",
     "output_type": "stream",
     "text": [
      "(0.04681626343330964+0j)\n",
      "n_discard =  144\n",
      "discard samples 0.07362246513366699\n",
      "n_samples_node =  1000\n",
      "generate_samples :  0.07531976699829102\n",
      "     prepare getting local values 0.004039764404296875\n",
      "     obtained local values 0.009023427963256836\n",
      "get_mc_stats 0.012202262878417969\n",
      "--->> cal O and jac  0.0355532169342041\n"
     ]
    },
    {
     "name": "stderr",
     "output_type": "stream",
     "text": [
      " 31%|███       | 310/1000 [01:00<02:17,  5.03it/s, Energy=-2.106018+0.000000j ± 0.000071 [σ²=0.000009]]"
     ]
    },
    {
     "name": "stdout",
     "output_type": "stream",
     "text": [
      "compute_update  0.040018320083618164\n",
      "(0.04677248503538671+0j)\n",
      "n_discard =  144\n",
      "discard samples 0.0842745304107666\n",
      "n_samples_node =  1000\n",
      "generate_samples :  0.0743405818939209\n",
      "     prepare getting local values 0.0030167102813720703\n",
      "     obtained local values 0.009219169616699219\n",
      "get_mc_stats 0.011881113052368164\n",
      "--->> cal O and jac  0.027434349060058594\n"
     ]
    },
    {
     "name": "stderr",
     "output_type": "stream",
     "text": [
      " 31%|███       | 311/1000 [01:00<02:17,  4.99it/s, Energy=-2.105957+0.000000j ± 0.000088 [σ²=0.000009]]"
     ]
    },
    {
     "name": "stdout",
     "output_type": "stream",
     "text": [
      "compute_update  0.03063225746154785\n",
      "(0.04672525711963927+0j)\n",
      "n_discard =  144\n",
      "discard samples 0.07475447654724121\n",
      "n_samples_node =  1000\n",
      "generate_samples :  0.06899452209472656\n",
      "     prepare getting local values 0.003590106964111328\n",
      "     obtained local values 0.009976863861083984\n",
      "get_mc_stats 0.013240814208984375\n"
     ]
    },
    {
     "name": "stderr",
     "output_type": "stream",
     "text": [
      " 31%|███       | 312/1000 [01:01<02:16,  5.05it/s, Energy=-2.105942+0.000000j ± 0.000079 [σ²=0.000008]]"
     ]
    },
    {
     "name": "stdout",
     "output_type": "stream",
     "text": [
      "--->> cal O and jac  0.030942678451538086\n",
      "compute_update  0.033060550689697266\n",
      "(0.046678266108915525+0j)\n",
      "n_discard =  144\n",
      "discard samples 0.07585310935974121\n",
      "n_samples_node =  1000\n",
      "generate_samples :  0.07309699058532715\n",
      "     prepare getting local values 0.004359006881713867\n",
      "     obtained local values 0.008025646209716797\n",
      "get_mc_stats 0.012140274047851562\n"
     ]
    },
    {
     "name": "stderr",
     "output_type": "stream",
     "text": [
      " 31%|███▏      | 313/1000 [01:01<02:15,  5.06it/s, Energy=-2.105861+0.000000j ± 0.000074 [σ²=0.000008]]"
     ]
    },
    {
     "name": "stdout",
     "output_type": "stream",
     "text": [
      "--->> cal O and jac  0.030634164810180664\n",
      "compute_update  0.033719778060913086\n",
      "(0.04663183463989428+0j)\n",
      "n_discard =  144\n",
      "discard samples 0.07657480239868164\n",
      "n_samples_node =  1000\n",
      "generate_samples :  0.07490706443786621\n",
      "     prepare getting local values 0.004006862640380859\n",
      "     obtained local values 0.009629249572753906\n",
      "get_mc_stats 0.012725591659545898\n",
      "--->> cal O and jac  0.0308687686920166\n"
     ]
    },
    {
     "name": "stderr",
     "output_type": "stream",
     "text": [
      " 31%|███▏      | 314/1000 [01:01<02:16,  5.04it/s, Energy=-2.106043+0.000000j ± 0.000073 [σ²=0.000008]]"
     ]
    },
    {
     "name": "stdout",
     "output_type": "stream",
     "text": [
      "compute_update  0.034110069274902344\n",
      "(0.04658626460191225+0j)\n",
      "n_discard =  144\n",
      "discard samples 0.07730460166931152\n",
      "n_samples_node =  1000\n",
      "generate_samples :  0.06623387336730957\n",
      "     prepare getting local values 0.0035147666931152344\n",
      "     obtained local values 0.009489774703979492\n",
      "get_mc_stats 0.012235403060913086\n"
     ]
    },
    {
     "name": "stderr",
     "output_type": "stream",
     "text": [
      " 32%|███▏      | 315/1000 [01:01<02:15,  5.06it/s, Energy=-2.105918+0.000000j ± 0.000079 [σ²=0.000008]]"
     ]
    },
    {
     "name": "stdout",
     "output_type": "stream",
     "text": [
      "--->> cal O and jac  0.0339810848236084\n",
      "compute_update  0.03708815574645996\n",
      "(0.046539416242591315+0j)\n",
      "n_discard =  144\n",
      "discard samples 0.07871389389038086\n",
      "n_samples_node =  1000\n",
      "generate_samples :  0.07273483276367188\n",
      "     prepare getting local values 0.0029144287109375\n",
      "     obtained local values 0.009078502655029297\n",
      "get_mc_stats 0.012614250183105469\n"
     ]
    },
    {
     "name": "stderr",
     "output_type": "stream",
     "text": [
      " 32%|███▏      | 316/1000 [01:01<02:16,  5.01it/s, Energy=-2.105783+0.000000j ± 0.000073 [σ²=0.000007]]"
     ]
    },
    {
     "name": "stdout",
     "output_type": "stream",
     "text": [
      "--->> cal O and jac  0.03426647186279297\n",
      "compute_update  0.03782987594604492\n",
      "(0.04649808369165796+0j)\n",
      "n_discard =  144\n",
      "discard samples 0.0825045108795166\n",
      "n_samples_node =  1000\n",
      "generate_samples :  0.07419371604919434\n",
      "     prepare getting local values 0.0016589164733886719\n",
      "     obtained local values 0.008131980895996094\n",
      "get_mc_stats 0.010055303573608398\n"
     ]
    },
    {
     "name": "stderr",
     "output_type": "stream",
     "text": [
      " 32%|███▏      | 317/1000 [01:02<02:17,  4.98it/s, Energy=-2.105909+0.000000j ± 0.000079 [σ²=0.000007]]"
     ]
    },
    {
     "name": "stdout",
     "output_type": "stream",
     "text": [
      "--->> cal O and jac  0.031661033630371094\n",
      "compute_update  0.03389906883239746\n",
      "(0.04644839621181806+0j)\n",
      "n_discard =  144\n",
      "discard samples 0.07915949821472168\n",
      "n_samples_node =  1000\n",
      "generate_samples :  0.07598614692687988\n",
      "     prepare getting local values 0.0030617713928222656\n",
      "     obtained local values 0.009245157241821289\n",
      "get_mc_stats 0.01233530044555664\n"
     ]
    },
    {
     "name": "stderr",
     "output_type": "stream",
     "text": [
      " 32%|███▏      | 318/1000 [01:02<02:17,  4.94it/s, Energy=-2.105882+0.000000j ± 0.000058 [σ²=0.000007]]"
     ]
    },
    {
     "name": "stdout",
     "output_type": "stream",
     "text": [
      "--->> cal O and jac  0.03293013572692871\n",
      "compute_update  0.03594708442687988\n",
      "(0.046403961525283616+0j)\n",
      "n_discard =  144\n",
      "discard samples 0.0769805908203125\n",
      "n_samples_node =  1000\n",
      "generate_samples :  0.07571172714233398\n",
      "     prepare getting local values 0.0028748512268066406\n",
      "     obtained local values 0.009332895278930664\n",
      "get_mc_stats 0.01159977912902832\n"
     ]
    },
    {
     "name": "stderr",
     "output_type": "stream",
     "text": [
      " 32%|███▏      | 319/1000 [01:02<02:17,  4.96it/s, Energy=-2.106000+0.000000j ± 0.000077 [σ²=0.000007]]"
     ]
    },
    {
     "name": "stdout",
     "output_type": "stream",
     "text": [
      "--->> cal O and jac  0.03147268295288086\n",
      "compute_update  0.03367352485656738\n",
      "(0.04635588136376992+0j)\n",
      "n_discard =  144\n",
      "discard samples 0.07347297668457031\n",
      "n_samples_node =  1000\n",
      "generate_samples :  0.06855940818786621\n",
      "     prepare getting local values 0.002748727798461914\n",
      "     obtained local values 0.008890390396118164\n",
      "get_mc_stats 0.011935710906982422\n"
     ]
    },
    {
     "name": "stderr",
     "output_type": "stream",
     "text": [
      " 32%|███▏      | 320/1000 [01:02<02:14,  5.06it/s, Energy=-2.105935+0.000000j ± 0.000075 [σ²=0.000006]]"
     ]
    },
    {
     "name": "stdout",
     "output_type": "stream",
     "text": [
      "--->> cal O and jac  0.03142523765563965\n",
      "compute_update  0.03318333625793457\n",
      "(0.04630896247707554+0j)\n",
      "n_discard =  144\n",
      "discard samples 0.07649064064025879\n",
      "n_samples_node =  1000\n",
      "generate_samples :  0.07183837890625\n",
      "     prepare getting local values 0.0029768943786621094\n",
      "     obtained local values 0.009440183639526367\n",
      "get_mc_stats 0.012122869491577148\n"
     ]
    },
    {
     "name": "stderr",
     "output_type": "stream",
     "text": [
      " 32%|███▏      | 321/1000 [01:02<02:14,  5.06it/s, Energy=-2.105830+0.000000j ± 0.000068 [σ²=0.000007]]"
     ]
    },
    {
     "name": "stdout",
     "output_type": "stream",
     "text": [
      "--->> cal O and jac  0.03278684616088867\n",
      "compute_update  0.03444361686706543\n",
      "(0.046259768901823+0j)\n",
      "n_discard =  144\n",
      "discard samples 0.07105684280395508\n",
      "n_samples_node =  1000\n",
      "generate_samples :  0.06842160224914551\n",
      "     prepare getting local values 0.00177001953125\n",
      "     obtained local values 0.005249500274658203\n",
      "get_mc_stats 0.006845235824584961\n"
     ]
    },
    {
     "name": "stderr",
     "output_type": "stream",
     "text": [
      " 32%|███▏      | 322/1000 [01:03<02:10,  5.18it/s, Energy=-2.105897+0.000000j ± 0.000073 [σ²=0.000006]]"
     ]
    },
    {
     "name": "stdout",
     "output_type": "stream",
     "text": [
      "--->> cal O and jac  0.02991485595703125\n",
      "compute_update  0.033324480056762695\n",
      "(0.04621107364712339+0j)\n",
      "n_discard =  144\n",
      "discard samples 0.07674312591552734\n",
      "n_samples_node =  1000\n",
      "generate_samples :  0.0692448616027832\n",
      "     prepare getting local values 0.001748800277709961\n",
      "     obtained local values 0.005152463912963867\n",
      "get_mc_stats 0.007250308990478516\n"
     ]
    },
    {
     "name": "stderr",
     "output_type": "stream",
     "text": [
      " 32%|███▏      | 323/1000 [01:03<02:09,  5.24it/s, Energy=-2.105963+0.000000j ± 0.000064 [σ²=0.000006]]"
     ]
    },
    {
     "name": "stdout",
     "output_type": "stream",
     "text": [
      "--->> cal O and jac  0.02739405632019043\n",
      "compute_update  0.03063797950744629\n",
      "(0.04616158542991508+0j)\n",
      "n_discard =  144\n",
      "discard samples 0.07170963287353516\n",
      "n_samples_node =  1000\n",
      "generate_samples :  0.07257366180419922\n",
      "     prepare getting local values 0.0029189586639404297\n",
      "     obtained local values 0.008424043655395508\n",
      "get_mc_stats 0.01113128662109375\n"
     ]
    },
    {
     "name": "stderr",
     "output_type": "stream",
     "text": [
      "\r",
      " 32%|███▏      | 323/1000 [01:03<02:09,  5.24it/s, Energy=-2.105825+0.000000j ± 0.000069 [σ²=0.000005]]"
     ]
    },
    {
     "name": "stdout",
     "output_type": "stream",
     "text": [
      "--->> cal O and jac  0.03565192222595215\n",
      "compute_update  0.03882169723510742\n"
     ]
    },
    {
     "name": "stderr",
     "output_type": "stream",
     "text": [
      "\r",
      " 32%|███▏      | 324/1000 [01:03<02:10,  5.19it/s, Energy=-2.105825+0.000000j ± 0.000069 [σ²=0.000005]]"
     ]
    },
    {
     "name": "stdout",
     "output_type": "stream",
     "text": [
      "(0.046115728470747526+0j)\n",
      "n_discard =  144\n",
      "discard samples 0.07479572296142578\n",
      "n_samples_node =  1000\n",
      "generate_samples :  0.07252264022827148\n",
      "     prepare getting local values 0.003748178482055664\n",
      "     obtained local values 0.00748753547668457\n",
      "get_mc_stats 0.010848283767700195\n"
     ]
    },
    {
     "name": "stderr",
     "output_type": "stream",
     "text": [
      " 32%|███▎      | 325/1000 [01:03<02:10,  5.17it/s, Energy=-2.106059+0.000000j ± 0.000069 [σ²=0.000006]]"
     ]
    },
    {
     "name": "stdout",
     "output_type": "stream",
     "text": [
      "--->> cal O and jac  0.0313720703125\n",
      "compute_update  0.034673452377319336\n",
      "(0.04606839388012194+0j)\n",
      "n_discard =  144\n",
      "discard samples 0.07462310791015625\n",
      "n_samples_node =  1000\n",
      "generate_samples :  0.0686941146850586\n",
      "     prepare getting local values 0.0035521984100341797\n",
      "     obtained local values 0.009446859359741211\n",
      "get_mc_stats 0.012489557266235352\n"
     ]
    },
    {
     "name": "stderr",
     "output_type": "stream",
     "text": [
      " 33%|███▎      | 326/1000 [01:03<02:10,  5.16it/s, Energy=-2.105860+0.000000j ± 0.000064 [σ²=0.000006]]"
     ]
    },
    {
     "name": "stdout",
     "output_type": "stream",
     "text": [
      "--->> cal O and jac  0.0332489013671875\n",
      "compute_update  0.03537893295288086\n",
      "(0.04602048167343464+0j)\n",
      "n_discard =  144\n",
      "discard samples 0.07648658752441406\n",
      "n_samples_node =  1000\n",
      "generate_samples :  0.06726288795471191\n",
      "     prepare getting local values 0.003072500228881836\n",
      "     obtained local values 0.009168148040771484\n",
      "get_mc_stats 0.011988162994384766\n"
     ]
    },
    {
     "name": "stderr",
     "output_type": "stream",
     "text": [
      " 33%|███▎      | 327/1000 [01:04<02:09,  5.19it/s, Energy=-2.105890+0.000000j ± 0.000076 [σ²=0.000005]]"
     ]
    },
    {
     "name": "stdout",
     "output_type": "stream",
     "text": [
      "--->> cal O and jac  0.030822277069091797\n",
      "compute_update  0.0330507755279541\n",
      "(0.04597689405611021+0j)\n",
      "n_discard =  144\n",
      "discard samples 0.07350921630859375\n",
      "n_samples_node =  1000\n",
      "generate_samples :  0.07272458076477051\n",
      "     prepare getting local values 0.0017168521881103516\n",
      "     obtained local values 0.005081892013549805\n",
      "get_mc_stats 0.0076198577880859375\n"
     ]
    },
    {
     "name": "stderr",
     "output_type": "stream",
     "text": [
      " 33%|███▎      | 328/1000 [01:04<02:08,  5.22it/s, Energy=-2.105818+0.000000j ± 0.000073 [σ²=0.000006]]"
     ]
    },
    {
     "name": "stdout",
     "output_type": "stream",
     "text": [
      "--->> cal O and jac  0.02861762046813965\n",
      "compute_update  0.03154492378234863\n",
      "(0.04593281428866137+0j)\n",
      "n_discard =  144\n",
      "discard samples 0.0811460018157959\n",
      "n_samples_node =  1000\n",
      "generate_samples :  0.0720670223236084\n",
      "     prepare getting local values 0.003588438034057617\n",
      "     obtained local values 0.007489204406738281\n",
      "get_mc_stats 0.010739564895629883\n"
     ]
    },
    {
     "name": "stderr",
     "output_type": "stream",
     "text": [
      " 33%|███▎      | 329/1000 [01:04<02:10,  5.15it/s, Energy=-2.105967+0.000000j ± 0.000071 [σ²=0.000005]]"
     ]
    },
    {
     "name": "stdout",
     "output_type": "stream",
     "text": [
      "--->> cal O and jac  0.032334327697753906\n",
      "compute_update  0.034348249435424805\n",
      "(0.04588654508567473+0j)\n",
      "n_discard =  144\n",
      "discard samples 0.0783836841583252\n",
      "n_samples_node =  1000\n",
      "generate_samples :  0.06854510307312012\n",
      "     prepare getting local values 0.0017788410186767578\n",
      "     obtained local values 0.0053446292877197266\n",
      "get_mc_stats 0.008070230484008789\n"
     ]
    },
    {
     "name": "stderr",
     "output_type": "stream",
     "text": [
      " 33%|███▎      | 330/1000 [01:04<02:09,  5.17it/s, Energy=-2.105773+0.000000j ± 0.000054 [σ²=0.000006]]"
     ]
    },
    {
     "name": "stdout",
     "output_type": "stream",
     "text": [
      "--->> cal O and jac  0.032558441162109375\n",
      "compute_update  0.03465867042541504\n",
      "(0.04583915342882868+0j)\n",
      "n_discard =  144\n",
      "discard samples 0.07569050788879395\n",
      "n_samples_node =  1000\n",
      "generate_samples :  0.0722050666809082\n",
      "     prepare getting local values 0.0028946399688720703\n",
      "     obtained local values 0.008828878402709961\n",
      "get_mc_stats 0.011938333511352539\n",
      "--->> cal O and jac  0.03441166877746582\n"
     ]
    },
    {
     "name": "stderr",
     "output_type": "stream",
     "text": [
      " 33%|███▎      | 331/1000 [01:04<02:10,  5.12it/s, Energy=-2.105915+0.000000j ± 0.000056 [σ²=0.000005]]"
     ]
    },
    {
     "name": "stdout",
     "output_type": "stream",
     "text": [
      "compute_update  0.037923574447631836\n",
      "(0.045794122303301245+0j)\n",
      "n_discard =  144\n",
      "discard samples 0.08130455017089844\n",
      "n_samples_node =  1000\n",
      "generate_samples :  0.07311677932739258\n",
      "     prepare getting local values 0.003512859344482422\n",
      "     obtained local values 0.009618759155273438\n",
      "get_mc_stats 0.0126800537109375\n"
     ]
    },
    {
     "name": "stderr",
     "output_type": "stream",
     "text": [
      "\r",
      " 33%|███▎      | 331/1000 [01:05<02:10,  5.12it/s, Energy=-2.105830+0.000000j ± 0.000055 [σ²=0.000005]]"
     ]
    },
    {
     "name": "stdout",
     "output_type": "stream",
     "text": [
      "--->> cal O and jac  0.029531478881835938\n",
      "compute_update  0.031185626983642578\n"
     ]
    },
    {
     "name": "stderr",
     "output_type": "stream",
     "text": [
      "\r",
      " 33%|███▎      | 332/1000 [01:05<02:11,  5.08it/s, Energy=-2.105830+0.000000j ± 0.000055 [σ²=0.000005]]"
     ]
    },
    {
     "name": "stdout",
     "output_type": "stream",
     "text": [
      "(0.04575034313779271+0j)\n",
      "n_discard =  144\n",
      "discard samples 0.07580041885375977\n",
      "n_samples_node =  1000\n",
      "generate_samples :  0.07225418090820312\n",
      "     prepare getting local values 0.003224611282348633\n",
      "     obtained local values 0.006541013717651367\n",
      "get_mc_stats 0.009678363800048828\n"
     ]
    },
    {
     "name": "stderr",
     "output_type": "stream",
     "text": [
      " 33%|███▎      | 333/1000 [01:05<02:11,  5.09it/s, Energy=-2.105837+0.000000j ± 0.000064 [σ²=0.000005]]"
     ]
    },
    {
     "name": "stdout",
     "output_type": "stream",
     "text": [
      "--->> cal O and jac  0.032859086990356445\n",
      "compute_update  0.03592872619628906\n",
      "(0.045706283460233775+0j)\n",
      "n_discard =  144\n",
      "discard samples 0.0736079216003418\n",
      "n_samples_node =  1000\n",
      "generate_samples :  0.07174181938171387\n",
      "     prepare getting local values 0.0035605430603027344\n",
      "     obtained local values 0.008472919464111328\n",
      "get_mc_stats 0.011376142501831055\n"
     ]
    },
    {
     "name": "stderr",
     "output_type": "stream",
     "text": [
      " 33%|███▎      | 334/1000 [01:05<02:10,  5.12it/s, Energy=-2.105884+0.000000j ± 0.000056 [σ²=0.000005]]"
     ]
    },
    {
     "name": "stdout",
     "output_type": "stream",
     "text": [
      "--->> cal O and jac  0.03159046173095703\n",
      "compute_update  0.033837318420410156\n",
      "(0.045661289711432226+0j)\n",
      "n_discard =  144\n",
      "discard samples 0.07930612564086914\n",
      "n_samples_node =  1000\n",
      "generate_samples :  0.07159996032714844\n",
      "     prepare getting local values 0.004143476486206055\n",
      "     obtained local values 0.009132146835327148\n",
      "get_mc_stats 0.012455224990844727\n",
      "--->> cal O and jac  0.033438920974731445\n"
     ]
    },
    {
     "name": "stderr",
     "output_type": "stream",
     "text": [
      " 34%|███▎      | 335/1000 [01:05<02:11,  5.06it/s, Energy=-2.105862+0.000000j ± 0.000060 [σ²=0.000005]]"
     ]
    },
    {
     "name": "stdout",
     "output_type": "stream",
     "text": [
      "compute_update  0.03771257400512695\n",
      "(0.045617237466228554+0j)\n",
      "n_discard =  144\n",
      "discard samples 0.08466410636901855\n",
      "n_samples_node =  1000\n",
      "generate_samples :  0.06525540351867676\n",
      "     prepare getting local values 0.0035219192504882812\n",
      "     obtained local values 0.01029825210571289\n",
      "get_mc_stats 0.013186454772949219\n",
      "--->> cal O and jac  0.030127286911010742\n"
     ]
    },
    {
     "name": "stderr",
     "output_type": "stream",
     "text": [
      " 34%|███▎      | 336/1000 [01:05<02:11,  5.05it/s, Energy=-2.105888+0.000000j ± 0.000051 [σ²=0.000005]]"
     ]
    },
    {
     "name": "stdout",
     "output_type": "stream",
     "text": [
      "compute_update  0.03404068946838379\n",
      "(0.04557590344854687+0j)\n",
      "n_discard =  144\n",
      "discard samples 0.07898306846618652\n",
      "n_samples_node =  1000\n",
      "generate_samples :  0.09238958358764648\n",
      "     prepare getting local values 0.0016217231750488281\n",
      "     obtained local values 0.004877805709838867\n",
      "get_mc_stats 0.0064504146575927734\n"
     ]
    },
    {
     "name": "stderr",
     "output_type": "stream",
     "text": [
      " 34%|███▎      | 337/1000 [01:06<02:14,  4.93it/s, Energy=-2.105822+0.000000j ± 0.000068 [σ²=0.000005]]"
     ]
    },
    {
     "name": "stdout",
     "output_type": "stream",
     "text": [
      "--->> cal O and jac  0.030198097229003906\n",
      "compute_update  0.03375124931335449\n",
      "(0.04553720695128277+0j)\n",
      "n_discard =  144\n",
      "discard samples 0.07045316696166992\n",
      "n_samples_node =  1000\n",
      "generate_samples :  0.07156825065612793\n",
      "     prepare getting local values 0.0034983158111572266\n",
      "     obtained local values 0.00756072998046875\n",
      "get_mc_stats 0.010538339614868164\n"
     ]
    },
    {
     "name": "stderr",
     "output_type": "stream",
     "text": [
      " 34%|███▍      | 338/1000 [01:06<02:11,  5.04it/s, Energy=-2.105926+0.000000j ± 0.000061 [σ²=0.000005]]"
     ]
    },
    {
     "name": "stdout",
     "output_type": "stream",
     "text": [
      "--->> cal O and jac  0.030382394790649414\n",
      "compute_update  0.034010887145996094\n",
      "(0.04549896405124268+0j)\n",
      "n_discard =  144\n",
      "discard samples 0.07761526107788086\n",
      "n_samples_node =  1000\n",
      "generate_samples :  0.06897997856140137\n",
      "     prepare getting local values 0.003530263900756836\n",
      "     obtained local values 0.008782625198364258\n",
      "get_mc_stats 0.012224435806274414\n"
     ]
    },
    {
     "name": "stderr",
     "output_type": "stream",
     "text": [
      " 34%|███▍      | 339/1000 [01:06<02:10,  5.07it/s, Energy=-2.105903+0.000000j ± 0.000075 [σ²=0.000005]]"
     ]
    },
    {
     "name": "stdout",
     "output_type": "stream",
     "text": [
      "--->> cal O and jac  0.03172755241394043\n",
      "compute_update  0.03383755683898926\n",
      "(0.04546208862379038+0j)\n",
      "n_discard =  144\n",
      "discard samples 0.07330822944641113\n",
      "n_samples_node =  1000\n",
      "generate_samples :  0.0896759033203125\n",
      "     prepare getting local values 0.003981590270996094\n",
      "     obtained local values 0.007672786712646484\n",
      "get_mc_stats 0.010678529739379883\n"
     ]
    },
    {
     "name": "stderr",
     "output_type": "stream",
     "text": [
      " 34%|███▍      | 340/1000 [01:06<02:13,  4.95it/s, Energy=-2.105789+0.000000j ± 0.000071 [σ²=0.000005]]"
     ]
    },
    {
     "name": "stdout",
     "output_type": "stream",
     "text": [
      "--->> cal O and jac  0.03555631637573242\n",
      "compute_update  0.03751206398010254\n",
      "(0.04542293534711078+0j)\n",
      "n_discard =  144\n",
      "discard samples 0.07796788215637207\n",
      "n_samples_node =  1000\n",
      "generate_samples :  0.06900143623352051\n",
      "     prepare getting local values 0.0019965171813964844\n",
      "     obtained local values 0.005565643310546875\n",
      "get_mc_stats 0.008018255233764648\n"
     ]
    },
    {
     "name": "stderr",
     "output_type": "stream",
     "text": [
      " 34%|███▍      | 341/1000 [01:06<02:11,  5.02it/s, Energy=-2.105747+0.000000j ± 0.000062 [σ²=0.000005]]"
     ]
    },
    {
     "name": "stdout",
     "output_type": "stream",
     "text": [
      "--->> cal O and jac  0.032100677490234375\n",
      "compute_update  0.03496360778808594\n",
      "(0.045384334760458805+0j)\n",
      "n_discard =  144\n",
      "discard samples 0.0748748779296875\n",
      "n_samples_node =  1000\n",
      "generate_samples :  0.07059621810913086\n",
      "     prepare getting local values 0.0035550594329833984\n",
      "     obtained local values 0.00995779037475586\n",
      "get_mc_stats 0.013201475143432617\n"
     ]
    },
    {
     "name": "stderr",
     "output_type": "stream",
     "text": [
      " 34%|███▍      | 342/1000 [01:07<02:10,  5.06it/s, Energy=-2.105914+0.000000j ± 0.000083 [σ²=0.000005]]"
     ]
    },
    {
     "name": "stdout",
     "output_type": "stream",
     "text": [
      "--->> cal O and jac  0.03178262710571289\n",
      "compute_update  0.03402590751647949\n",
      "(0.045350925672947184+0j)\n",
      "n_discard =  144\n",
      "discard samples 0.07629919052124023\n",
      "n_samples_node =  1000\n",
      "generate_samples :  0.07020282745361328\n",
      "     prepare getting local values 0.001962900161743164\n",
      "     obtained local values 0.0072972774505615234\n",
      "get_mc_stats 0.009878873825073242\n"
     ]
    },
    {
     "name": "stderr",
     "output_type": "stream",
     "text": [
      " 34%|███▍      | 343/1000 [01:07<02:08,  5.09it/s, Energy=-2.105807+0.000000j ± 0.000074 [σ²=0.000005]]"
     ]
    },
    {
     "name": "stdout",
     "output_type": "stream",
     "text": [
      "--->> cal O and jac  0.031806230545043945\n",
      "compute_update  0.03404831886291504\n",
      "(0.0453157769124573+0j)\n",
      "n_discard =  144\n",
      "discard samples 0.0818624496459961\n",
      "n_samples_node =  1000\n",
      "generate_samples :  0.06479310989379883\n",
      "     prepare getting local values 0.0028679370880126953\n",
      "     obtained local values 0.009881973266601562\n",
      "get_mc_stats 0.013259410858154297\n",
      "--->> cal O and jac  0.03272199630737305\n"
     ]
    },
    {
     "name": "stderr",
     "output_type": "stream",
     "text": [
      " 34%|███▍      | 344/1000 [01:07<02:09,  5.08it/s, Energy=-2.105943+0.000000j ± 0.000071 [σ²=0.000005]]"
     ]
    },
    {
     "name": "stdout",
     "output_type": "stream",
     "text": [
      "compute_update  0.036551713943481445\n",
      "(0.045279466773784756+0j)\n",
      "n_discard =  144\n",
      "discard samples 0.07520771026611328\n",
      "n_samples_node =  1000\n",
      "generate_samples :  0.06480979919433594\n",
      "     prepare getting local values 0.002933502197265625\n",
      "     obtained local values 0.009197235107421875\n",
      "get_mc_stats 0.01222538948059082\n"
     ]
    },
    {
     "name": "stderr",
     "output_type": "stream",
     "text": [
      " 34%|███▍      | 345/1000 [01:07<02:07,  5.14it/s, Energy=-2.105940+0.000000j ± 0.000077 [σ²=0.000005]]"
     ]
    },
    {
     "name": "stdout",
     "output_type": "stream",
     "text": [
      "--->> cal O and jac  0.03334379196166992\n",
      "compute_update  0.03535151481628418\n",
      "(0.04524837889143912+0j)\n",
      "n_discard =  144\n",
      "discard samples 0.07493901252746582\n",
      "n_samples_node =  1000\n",
      "generate_samples :  0.07143902778625488\n",
      "     prepare getting local values 0.0017163753509521484\n",
      "     obtained local values 0.00507354736328125\n",
      "get_mc_stats 0.007081031799316406\n"
     ]
    },
    {
     "name": "stderr",
     "output_type": "stream",
     "text": [
      " 35%|███▍      | 346/1000 [01:07<02:06,  5.16it/s, Energy=-2.105798+0.000000j ± 0.000071 [σ²=0.000005]]"
     ]
    },
    {
     "name": "stdout",
     "output_type": "stream",
     "text": [
      "--->> cal O and jac  0.03401374816894531\n",
      "compute_update  0.03583264350891113\n",
      "(0.04521603329441399+0j)\n",
      "n_discard =  144\n",
      "discard samples 0.08018231391906738\n",
      "n_samples_node =  1000\n",
      "generate_samples :  0.07257771492004395\n",
      "     prepare getting local values 0.0020465850830078125\n",
      "     obtained local values 0.00545048713684082\n",
      "get_mc_stats 0.007665395736694336\n",
      "--->> cal O and jac  0.033857107162475586\n"
     ]
    },
    {
     "name": "stderr",
     "output_type": "stream",
     "text": [
      " 35%|███▍      | 347/1000 [01:08<02:07,  5.11it/s, Energy=-2.105822+0.000000j ± 0.000066 [σ²=0.000005]]"
     ]
    },
    {
     "name": "stdout",
     "output_type": "stream",
     "text": [
      "compute_update  0.0385432243347168\n",
      "(0.04519054232847564+0j)\n",
      "n_discard =  144\n",
      "discard samples 0.0767204761505127\n",
      "n_samples_node =  1000\n",
      "generate_samples :  0.06810188293457031\n",
      "     prepare getting local values 0.0017650127410888672\n",
      "     obtained local values 0.005263090133666992\n",
      "get_mc_stats 0.00805211067199707\n"
     ]
    },
    {
     "name": "stderr",
     "output_type": "stream",
     "text": [
      " 35%|███▍      | 348/1000 [01:08<02:06,  5.16it/s, Energy=-2.105782+0.000000j ± 0.000063 [σ²=0.000005]]"
     ]
    },
    {
     "name": "stdout",
     "output_type": "stream",
     "text": [
      "--->> cal O and jac  0.030261754989624023\n",
      "compute_update  0.033919572830200195\n",
      "(0.045162049349408644+0j)\n",
      "n_discard =  144\n",
      "discard samples 0.07723426818847656\n",
      "n_samples_node =  1000\n",
      "generate_samples :  0.0697934627532959\n",
      "     prepare getting local values 0.0035037994384765625\n",
      "     obtained local values 0.007433652877807617\n",
      "get_mc_stats 0.011020898818969727\n"
     ]
    },
    {
     "name": "stderr",
     "output_type": "stream",
     "text": [
      " 35%|███▍      | 349/1000 [01:08<02:06,  5.16it/s, Energy=-2.105855+0.000000j ± 0.000062 [σ²=0.000005]]"
     ]
    },
    {
     "name": "stdout",
     "output_type": "stream",
     "text": [
      "--->> cal O and jac  0.029883384704589844\n",
      "compute_update  0.033635854721069336\n",
      "(0.04513271229173537+0j)\n",
      "n_discard =  144\n",
      "discard samples 0.07389950752258301\n",
      "n_samples_node =  1000\n",
      "generate_samples :  0.07107782363891602\n",
      "     prepare getting local values 0.003526926040649414\n",
      "     obtained local values 0.008433103561401367\n",
      "get_mc_stats 0.011785268783569336\n"
     ]
    },
    {
     "name": "stderr",
     "output_type": "stream",
     "text": [
      " 35%|███▌      | 350/1000 [01:08<02:05,  5.16it/s, Energy=-2.105978+0.000000j ± 0.000074 [σ²=0.000005]]"
     ]
    },
    {
     "name": "stdout",
     "output_type": "stream",
     "text": [
      "--->> cal O and jac  0.03249025344848633\n",
      "compute_update  0.03464365005493164\n",
      "(0.045109119619397696+0j)\n",
      "n_discard =  144\n",
      "discard samples 0.0731511116027832\n",
      "n_samples_node =  1000\n",
      "generate_samples :  0.07977771759033203\n",
      "     prepare getting local values 0.002183198928833008\n",
      "     obtained local values 0.005526304244995117\n",
      "get_mc_stats 0.008671283721923828\n"
     ]
    },
    {
     "name": "stderr",
     "output_type": "stream",
     "text": [
      " 35%|███▌      | 351/1000 [01:08<02:06,  5.15it/s, Energy=-2.105874+0.000000j ± 0.000078 [σ²=0.000005]]"
     ]
    },
    {
     "name": "stdout",
     "output_type": "stream",
     "text": [
      "--->> cal O and jac  0.02953791618347168\n",
      "compute_update  0.03140521049499512\n",
      "(0.045084018967487476+0j)\n",
      "n_discard =  144\n",
      "discard samples 0.07211589813232422\n",
      "n_samples_node =  1000\n",
      "generate_samples :  0.07059240341186523\n",
      "     prepare getting local values 0.001772165298461914\n",
      "     obtained local values 0.005267620086669922\n",
      "get_mc_stats 0.007721424102783203\n"
     ]
    },
    {
     "name": "stderr",
     "output_type": "stream",
     "text": [
      " 35%|███▌      | 352/1000 [01:08<02:05,  5.17it/s, Energy=-2.105970+0.000000j ± 0.000064 [σ²=0.000005]]"
     ]
    },
    {
     "name": "stdout",
     "output_type": "stream",
     "text": [
      "--->> cal O and jac  0.03479814529418945\n",
      "compute_update  0.0383913516998291\n",
      "(0.045059896213754655+0j)\n",
      "n_discard =  144\n",
      "discard samples 0.0782630443572998\n",
      "n_samples_node =  1000\n",
      "generate_samples :  0.07279682159423828\n",
      "     prepare getting local values 0.003873109817504883\n",
      "     obtained local values 0.01005244255065918\n",
      "get_mc_stats 0.012940406799316406\n"
     ]
    },
    {
     "name": "stderr",
     "output_type": "stream",
     "text": [
      " 35%|███▌      | 353/1000 [01:09<02:06,  5.11it/s, Energy=-2.105828+0.000000j ± 0.000064 [σ²=0.000005]]"
     ]
    },
    {
     "name": "stdout",
     "output_type": "stream",
     "text": [
      "--->> cal O and jac  0.03346085548400879\n",
      "compute_update  0.03562116622924805\n",
      "(0.045036370155741835+0j)\n",
      "n_discard =  144\n",
      "discard samples 0.07484197616577148\n",
      "n_samples_node =  1000\n",
      "generate_samples :  0.06835484504699707\n",
      "     prepare getting local values 0.001725912094116211\n",
      "     obtained local values 0.005133152008056641\n",
      "get_mc_stats 0.007780790328979492\n"
     ]
    },
    {
     "name": "stderr",
     "output_type": "stream",
     "text": [
      " 35%|███▌      | 354/1000 [01:09<02:04,  5.20it/s, Energy=-2.105820+0.000000j ± 0.000065 [σ²=0.000005]]"
     ]
    },
    {
     "name": "stdout",
     "output_type": "stream",
     "text": [
      "--->> cal O and jac  0.02839493751525879\n",
      "compute_update  0.030594348907470703\n",
      "(0.04501434006751327+0j)\n",
      "n_discard =  144\n",
      "discard samples 0.07559800148010254\n",
      "n_samples_node =  1000\n",
      "generate_samples :  0.0662844181060791\n",
      "     prepare getting local values 0.0032262802124023438\n",
      "     obtained local values 0.006535768508911133\n",
      "get_mc_stats 0.010849952697753906\n"
     ]
    },
    {
     "name": "stderr",
     "output_type": "stream",
     "text": [
      " 36%|███▌      | 355/1000 [01:09<02:02,  5.25it/s, Energy=-2.105916+0.000000j ± 0.000066 [σ²=0.000004]]"
     ]
    },
    {
     "name": "stdout",
     "output_type": "stream",
     "text": [
      "--->> cal O and jac  0.029082059860229492\n",
      "compute_update  0.03139686584472656\n",
      "(0.04499559471270609+0j)\n",
      "n_discard =  144\n",
      "discard samples 0.07577872276306152\n",
      "n_samples_node =  1000\n",
      "generate_samples :  0.07147622108459473\n",
      "     prepare getting local values 0.003084421157836914\n",
      "     obtained local values 0.009410619735717773\n",
      "get_mc_stats 0.012699127197265625\n"
     ]
    },
    {
     "name": "stderr",
     "output_type": "stream",
     "text": [
      " 36%|███▌      | 356/1000 [01:09<02:03,  5.19it/s, Energy=-2.105792+0.000000j ± 0.000083 [σ²=0.000005]]"
     ]
    },
    {
     "name": "stdout",
     "output_type": "stream",
     "text": [
      "--->> cal O and jac  0.03209996223449707\n",
      "compute_update  0.03423118591308594\n",
      "(0.0449747738649369+0j)\n",
      "n_discard =  144\n",
      "discard samples 0.07964110374450684\n",
      "n_samples_node =  1000\n",
      "generate_samples :  0.06473326683044434\n",
      "     prepare getting local values 0.001767873764038086\n",
      "     obtained local values 0.0055806636810302734\n",
      "get_mc_stats 0.00807499885559082\n"
     ]
    },
    {
     "name": "stderr",
     "output_type": "stream",
     "text": [
      " 36%|███▌      | 357/1000 [01:09<02:02,  5.23it/s, Energy=-2.105825+0.000000j ± 0.000052 [σ²=0.000005]]"
     ]
    },
    {
     "name": "stdout",
     "output_type": "stream",
     "text": [
      "--->> cal O and jac  0.030655384063720703\n",
      "compute_update  0.03335213661193848\n",
      "(0.044953860945173056+0j)\n",
      "n_discard =  144\n",
      "discard samples 0.07693934440612793\n",
      "n_samples_node =  1000\n",
      "generate_samples :  0.07033395767211914\n",
      "     prepare getting local values 0.0017704963684082031\n",
      "     obtained local values 0.005218029022216797\n",
      "get_mc_stats 0.007204294204711914\n"
     ]
    },
    {
     "name": "stderr",
     "output_type": "stream",
     "text": [
      " 36%|███▌      | 358/1000 [01:10<02:02,  5.26it/s, Energy=-2.105864+0.000000j ± 0.000068 [σ²=0.000004]]"
     ]
    },
    {
     "name": "stdout",
     "output_type": "stream",
     "text": [
      "--->> cal O and jac  0.028281211853027344\n",
      "compute_update  0.030887365341186523\n",
      "(0.04493466347265676+0j)\n",
      "n_discard =  144\n",
      "discard samples 0.07732152938842773\n",
      "n_samples_node =  1000\n",
      "generate_samples :  0.06938385963439941\n",
      "     prepare getting local values 0.0035376548767089844\n",
      "     obtained local values 0.008932113647460938\n",
      "get_mc_stats 0.011970281600952148\n"
     ]
    },
    {
     "name": "stderr",
     "output_type": "stream",
     "text": [
      " 36%|███▌      | 359/1000 [01:10<02:02,  5.25it/s, Energy=-2.105818+0.000000j ± 0.000078 [σ²=0.000005]]"
     ]
    },
    {
     "name": "stdout",
     "output_type": "stream",
     "text": [
      "--->> cal O and jac  0.027646303176879883\n",
      "compute_update  0.029857158660888672\n",
      "(0.044920288541317424+0j)\n",
      "n_discard =  144\n",
      "discard samples 0.07113456726074219\n",
      "n_samples_node =  1000\n",
      "generate_samples :  0.07219433784484863\n",
      "     prepare getting local values 0.0035941600799560547\n",
      "     obtained local values 0.009632587432861328\n",
      "get_mc_stats 0.012839317321777344\n"
     ]
    },
    {
     "name": "stderr",
     "output_type": "stream",
     "text": [
      " 36%|███▌      | 360/1000 [01:10<02:02,  5.24it/s, Energy=-2.105833+0.000000j ± 0.000054 [σ²=0.000005]]"
     ]
    },
    {
     "name": "stdout",
     "output_type": "stream",
     "text": [
      "--->> cal O and jac  0.030779123306274414\n",
      "compute_update  0.03388619422912598\n",
      "(0.044907026442392965+0j)\n",
      "n_discard =  144\n",
      "discard samples 0.08078360557556152\n",
      "n_samples_node =  1000\n",
      "generate_samples :  0.06936907768249512\n",
      "     prepare getting local values 0.0022573471069335938\n",
      "     obtained local values 0.005740165710449219\n",
      "get_mc_stats 0.008049249649047852\n"
     ]
    },
    {
     "name": "stderr",
     "output_type": "stream",
     "text": [
      " 36%|███▌      | 361/1000 [01:10<02:02,  5.20it/s, Energy=-2.105886+0.000000j ± 0.000073 [σ²=0.000004]]"
     ]
    },
    {
     "name": "stdout",
     "output_type": "stream",
     "text": [
      "--->> cal O and jac  0.03341341018676758\n",
      "compute_update  0.035703182220458984\n",
      "(0.04489729544407428+0j)\n",
      "n_discard =  144\n",
      "discard samples 0.0758662223815918\n",
      "n_samples_node =  1000\n",
      "generate_samples :  0.07117629051208496\n",
      "     prepare getting local values 0.0017557144165039062\n",
      "     obtained local values 0.005240678787231445\n",
      "get_mc_stats 0.007661581039428711\n"
     ]
    },
    {
     "name": "stderr",
     "output_type": "stream",
     "text": [
      " 36%|███▌      | 362/1000 [01:10<02:02,  5.21it/s, Energy=-2.105780+0.000000j ± 0.000063 [σ²=0.000004]]"
     ]
    },
    {
     "name": "stdout",
     "output_type": "stream",
     "text": [
      "--->> cal O and jac  0.03130054473876953\n",
      "compute_update  0.0337369441986084\n",
      "(0.044888939632009656+0j)\n",
      "n_discard =  144\n",
      "discard samples 0.07717132568359375\n",
      "n_samples_node =  1000\n",
      "generate_samples :  0.07242178916931152\n",
      "     prepare getting local values 0.00344085693359375\n",
      "     obtained local values 0.006778717041015625\n",
      "get_mc_stats 0.010170221328735352\n",
      "--->> cal O and jac  0.03307604789733887\n"
     ]
    },
    {
     "name": "stderr",
     "output_type": "stream",
     "text": [
      " 36%|███▋      | 363/1000 [01:11<02:03,  5.16it/s, Energy=-2.106015+0.000000j ± 0.000082 [σ²=0.000004]]"
     ]
    },
    {
     "name": "stdout",
     "output_type": "stream",
     "text": [
      "compute_update  0.03669905662536621\n",
      "(0.044884475221585174+0j)\n",
      "n_discard =  144\n",
      "discard samples 0.07978057861328125\n",
      "n_samples_node =  1000\n",
      "generate_samples :  0.06831979751586914\n",
      "     prepare getting local values 0.003602266311645508\n",
      "     obtained local values 0.00882863998413086\n",
      "get_mc_stats 0.011885643005371094\n"
     ]
    },
    {
     "name": "stderr",
     "output_type": "stream",
     "text": [
      "\r",
      " 36%|███▋      | 363/1000 [01:11<02:03,  5.16it/s, Energy=-2.105819+0.000000j ± 0.000059 [σ²=0.000004]]"
     ]
    },
    {
     "name": "stdout",
     "output_type": "stream",
     "text": [
      "--->> cal O and jac  0.03161764144897461\n",
      "compute_update  0.03545975685119629\n"
     ]
    },
    {
     "name": "stderr",
     "output_type": "stream",
     "text": [
      "\r",
      " 36%|███▋      | 364/1000 [01:11<02:03,  5.13it/s, Energy=-2.105819+0.000000j ± 0.000059 [σ²=0.000004]]"
     ]
    },
    {
     "name": "stdout",
     "output_type": "stream",
     "text": [
      "(0.04488119491547502+0j)\n",
      "n_discard =  144\n",
      "discard samples 0.07893228530883789\n",
      "n_samples_node =  1000\n",
      "generate_samples :  0.06884956359863281\n",
      "     prepare getting local values 0.004029035568237305\n",
      "     obtained local values 0.010293722152709961\n",
      "get_mc_stats 0.01371312141418457\n",
      "--->> cal O and jac  0.032106876373291016\n"
     ]
    },
    {
     "name": "stderr",
     "output_type": "stream",
     "text": [
      " 36%|███▋      | 365/1000 [01:11<02:04,  5.11it/s, Energy=-2.105894+0.000000j ± 0.000064 [σ²=0.000004]]"
     ]
    },
    {
     "name": "stdout",
     "output_type": "stream",
     "text": [
      "compute_update  0.034548044204711914\n",
      "(0.04487721295193257+0j)\n",
      "n_discard =  144\n",
      "discard samples 0.07314491271972656\n",
      "n_samples_node =  1000\n",
      "generate_samples :  0.07317161560058594\n",
      "     prepare getting local values 0.0035104751586914062\n",
      "     obtained local values 0.010179758071899414\n",
      "get_mc_stats 0.013026714324951172\n"
     ]
    },
    {
     "name": "stderr",
     "output_type": "stream",
     "text": [
      " 37%|███▋      | 366/1000 [01:11<02:04,  5.11it/s, Energy=-2.105830+0.000000j ± 0.000059 [σ²=0.000004]]"
     ]
    },
    {
     "name": "stdout",
     "output_type": "stream",
     "text": [
      "--->> cal O and jac  0.032436370849609375\n",
      "compute_update  0.034670352935791016\n",
      "(0.04487479827019094+0j)\n",
      "n_discard =  144\n",
      "discard samples 0.07394862174987793\n",
      "n_samples_node =  1000\n",
      "generate_samples :  0.06746268272399902\n",
      "     prepare getting local values 0.0029098987579345703\n",
      "     obtained local values 0.006361484527587891\n",
      "get_mc_stats 0.009482860565185547\n"
     ]
    },
    {
     "name": "stderr",
     "output_type": "stream",
     "text": [
      " 37%|███▋      | 367/1000 [01:11<02:02,  5.18it/s, Energy=-2.105912+0.000000j ± 0.000070 [σ²=0.000004]]"
     ]
    },
    {
     "name": "stdout",
     "output_type": "stream",
     "text": [
      "--->> cal O and jac  0.03191351890563965\n",
      "compute_update  0.03417634963989258\n",
      "(0.04487629253287937+0j)\n",
      "n_discard =  144\n",
      "discard samples 0.06986260414123535\n",
      "n_samples_node =  1000\n",
      "generate_samples :  0.07170987129211426\n",
      "     prepare getting local values 0.0017430782318115234\n",
      "     obtained local values 0.005182504653930664\n",
      "get_mc_stats 0.007311344146728516\n"
     ]
    },
    {
     "name": "stderr",
     "output_type": "stream",
     "text": [
      " 37%|███▋      | 368/1000 [01:12<02:00,  5.23it/s, Energy=-2.105771+0.000000j ± 0.000062 [σ²=0.000004]]"
     ]
    },
    {
     "name": "stdout",
     "output_type": "stream",
     "text": [
      "--->> cal O and jac  0.03236222267150879\n",
      "compute_update  0.0357813835144043\n",
      "(0.04487852504039678+0j)\n",
      "n_discard =  144\n",
      "discard samples 0.07375788688659668\n",
      "n_samples_node =  1000\n",
      "generate_samples :  0.07318520545959473\n",
      "     prepare getting local values 0.003547191619873047\n",
      "     obtained local values 0.008893489837646484\n",
      "get_mc_stats 0.012328863143920898\n"
     ]
    },
    {
     "name": "stderr",
     "output_type": "stream",
     "text": [
      " 37%|███▋      | 369/1000 [01:12<02:00,  5.22it/s, Energy=-2.105715+0.000000j ± 0.000070 [σ²=0.000004]]"
     ]
    },
    {
     "name": "stdout",
     "output_type": "stream",
     "text": [
      "--->> cal O and jac  0.028927326202392578\n",
      "compute_update  0.031091690063476562\n",
      "(0.044883231433739464+0j)\n",
      "n_discard =  144\n",
      "discard samples 0.07830214500427246\n",
      "n_samples_node =  1000\n",
      "generate_samples :  0.0719151496887207\n",
      "     prepare getting local values 0.0017521381378173828\n",
      "     obtained local values 0.005314826965332031\n",
      "get_mc_stats 0.007525205612182617\n"
     ]
    },
    {
     "name": "stderr",
     "output_type": "stream",
     "text": [
      " 37%|███▋      | 370/1000 [01:12<02:00,  5.21it/s, Energy=-2.105907+0.000000j ± 0.000070 [σ²=0.000004]]"
     ]
    },
    {
     "name": "stdout",
     "output_type": "stream",
     "text": [
      "--->> cal O and jac  0.02930903434753418\n",
      "compute_update  0.03276252746582031\n",
      "(0.04489808103717737+0j)\n",
      "n_discard =  144\n",
      "discard samples 0.07029104232788086\n",
      "n_samples_node =  1000\n",
      "generate_samples :  0.07480049133300781\n",
      "     prepare getting local values 0.001851797103881836\n",
      "     obtained local values 0.005662679672241211\n",
      "get_mc_stats 0.007922172546386719\n"
     ]
    },
    {
     "name": "stderr",
     "output_type": "stream",
     "text": [
      " 37%|███▋      | 371/1000 [01:12<01:59,  5.27it/s, Energy=-2.105890+0.000000j ± 0.000068 [σ²=0.000004]]"
     ]
    },
    {
     "name": "stdout",
     "output_type": "stream",
     "text": [
      "--->> cal O and jac  0.027072429656982422\n",
      "compute_update  0.029263973236083984\n",
      "(0.04491204836456899+0j)\n",
      "n_discard =  144\n",
      "discard samples 0.07126021385192871\n",
      "n_samples_node =  1000\n",
      "generate_samples :  0.06887984275817871\n",
      "     prepare getting local values 0.0016674995422363281\n",
      "     obtained local values 0.004953145980834961\n",
      "get_mc_stats 0.006437063217163086\n"
     ]
    },
    {
     "name": "stderr",
     "output_type": "stream",
     "text": [
      " 37%|███▋      | 372/1000 [01:12<01:57,  5.34it/s, Energy=-2.105828+0.000000j ± 0.000048 [σ²=0.000004]]"
     ]
    },
    {
     "name": "stdout",
     "output_type": "stream",
     "text": [
      "--->> cal O and jac  0.0312502384185791\n",
      "compute_update  0.03342103958129883\n",
      "(0.0449247915482536+0j)\n",
      "n_discard =  144\n",
      "discard samples 0.07826614379882812\n",
      "n_samples_node =  1000\n",
      "generate_samples :  0.07298922538757324\n",
      "     prepare getting local values 0.0035142898559570312\n",
      "     obtained local values 0.009015560150146484\n",
      "get_mc_stats 0.012271642684936523\n"
     ]
    },
    {
     "name": "stderr",
     "output_type": "stream",
     "text": [
      " 37%|███▋      | 373/1000 [01:13<02:01,  5.15it/s, Energy=-2.105864+0.000000j ± 0.000057 [σ²=0.000004]]"
     ]
    },
    {
     "name": "stdout",
     "output_type": "stream",
     "text": [
      "--->> cal O and jac  0.04139852523803711\n",
      "compute_update  0.04454851150512695\n",
      "(0.044938729533064374+0j)\n",
      "n_discard =  144\n",
      "discard samples 0.0816812515258789\n",
      "n_samples_node =  1000\n",
      "generate_samples :  0.07487130165100098\n",
      "     prepare getting local values 0.0030498504638671875\n",
      "     obtained local values 0.006750345230102539\n",
      "get_mc_stats 0.009553194046020508\n"
     ]
    },
    {
     "name": "stderr",
     "output_type": "stream",
     "text": [
      " 37%|███▋      | 374/1000 [01:13<02:03,  5.06it/s, Energy=-2.105859+0.000000j ± 0.000059 [σ²=0.000004]]"
     ]
    },
    {
     "name": "stdout",
     "output_type": "stream",
     "text": [
      "--->> cal O and jac  0.033967018127441406\n",
      "compute_update  0.0375208854675293\n",
      "(0.044955437059601304+0j)\n",
      "n_discard =  144\n",
      "discard samples 0.07612323760986328\n",
      "n_samples_node =  1000\n",
      "generate_samples :  0.07683062553405762\n",
      "     prepare getting local values 0.003503084182739258\n",
      "     obtained local values 0.009755611419677734\n",
      "get_mc_stats 0.012596845626831055\n"
     ]
    },
    {
     "name": "stderr",
     "output_type": "stream",
     "text": [
      " 38%|███▊      | 375/1000 [01:13<02:04,  5.03it/s, Energy=-2.105863+0.000000j ± 0.000062 [σ²=0.000004]]"
     ]
    },
    {
     "name": "stdout",
     "output_type": "stream",
     "text": [
      "--->> cal O and jac  0.02899622917175293\n",
      "compute_update  0.03235912322998047\n",
      "(0.04497385640873174+0j)\n",
      "n_discard =  144\n",
      "discard samples 0.07591652870178223\n",
      "n_samples_node =  1000\n",
      "generate_samples :  0.0744783878326416\n",
      "     prepare getting local values 0.002532958984375\n",
      "     obtained local values 0.005834341049194336\n",
      "get_mc_stats 0.00869894027709961\n"
     ]
    },
    {
     "name": "stderr",
     "output_type": "stream",
     "text": [
      " 38%|███▊      | 376/1000 [01:13<02:03,  5.05it/s, Energy=-2.105815+0.000000j ± 0.000056 [σ²=0.000004]]"
     ]
    },
    {
     "name": "stdout",
     "output_type": "stream",
     "text": [
      "--->> cal O and jac  0.03217363357543945\n",
      "compute_update  0.03511643409729004\n",
      "(0.04499371514147751+0j)\n",
      "n_discard =  144\n",
      "discard samples 0.07530331611633301\n",
      "n_samples_node =  1000\n",
      "generate_samples :  0.0675044059753418\n",
      "     prepare getting local values 0.0026504993438720703\n",
      "     obtained local values 0.0061109066009521484\n",
      "get_mc_stats 0.009027719497680664\n"
     ]
    },
    {
     "name": "stderr",
     "output_type": "stream",
     "text": [
      " 38%|███▊      | 377/1000 [01:13<02:02,  5.08it/s, Energy=-2.105774+0.000000j ± 0.000062 [σ²=0.000004]]"
     ]
    },
    {
     "name": "stdout",
     "output_type": "stream",
     "text": [
      "--->> cal O and jac  0.03748488426208496\n",
      "compute_update  0.03966236114501953\n",
      "(0.04501312927653042+0j)\n",
      "n_discard =  144\n",
      "discard samples 0.07492923736572266\n",
      "n_samples_node =  1000\n",
      "generate_samples :  0.06757712364196777\n",
      "     prepare getting local values 0.0035238265991210938\n",
      "     obtained local values 0.010017633438110352\n",
      "get_mc_stats 0.013170480728149414\n"
     ]
    },
    {
     "name": "stderr",
     "output_type": "stream",
     "text": [
      " 38%|███▊      | 378/1000 [01:14<02:01,  5.12it/s, Energy=-2.105879+0.000000j ± 0.000062 [σ²=0.000003]]"
     ]
    },
    {
     "name": "stdout",
     "output_type": "stream",
     "text": [
      "--->> cal O and jac  0.032114505767822266\n",
      "compute_update  0.03412961959838867\n",
      "(0.04503334786614229+0j)\n",
      "n_discard =  144\n",
      "discard samples 0.07637143135070801\n",
      "n_samples_node =  1000\n",
      "generate_samples :  0.07282257080078125\n",
      "     prepare getting local values 0.004130363464355469\n",
      "     obtained local values 0.00886392593383789\n",
      "get_mc_stats 0.011826515197753906\n"
     ]
    },
    {
     "name": "stderr",
     "output_type": "stream",
     "text": [
      "\r",
      " 38%|███▊      | 378/1000 [01:14<02:01,  5.12it/s, Energy=-2.105848+0.000000j ± 0.000061 [σ²=0.000004]]"
     ]
    },
    {
     "name": "stdout",
     "output_type": "stream",
     "text": [
      "--->> cal O and jac  0.032804012298583984\n",
      "compute_update  0.03515791893005371\n"
     ]
    },
    {
     "name": "stderr",
     "output_type": "stream",
     "text": [
      "\r",
      " 38%|███▊      | 379/1000 [01:14<02:01,  5.10it/s, Energy=-2.105848+0.000000j ± 0.000061 [σ²=0.000004]]"
     ]
    },
    {
     "name": "stdout",
     "output_type": "stream",
     "text": [
      "(0.045056457152556025+0j)\n",
      "n_discard =  144\n",
      "discard samples 0.07606625556945801\n",
      "n_samples_node =  1000\n",
      "generate_samples :  0.07138347625732422\n",
      "     prepare getting local values 0.0028333663940429688\n",
      "     obtained local values 0.006150245666503906\n",
      "get_mc_stats 0.00927424430847168\n"
     ]
    },
    {
     "name": "stderr",
     "output_type": "stream",
     "text": [
      " 38%|███▊      | 380/1000 [01:14<02:01,  5.12it/s, Energy=-2.105802+0.000000j ± 0.000051 [σ²=0.000004]]"
     ]
    },
    {
     "name": "stdout",
     "output_type": "stream",
     "text": [
      "--->> cal O and jac  0.03271317481994629\n",
      "compute_update  0.03484392166137695\n",
      "(0.045079826074146796+0j)\n",
      "n_discard =  144\n",
      "discard samples 0.07629585266113281\n",
      "n_samples_node =  1000\n",
      "generate_samples :  0.0709071159362793\n",
      "     prepare getting local values 0.0016853809356689453\n",
      "     obtained local values 0.005045652389526367\n",
      "get_mc_stats 0.007713794708251953\n"
     ]
    },
    {
     "name": "stderr",
     "output_type": "stream",
     "text": [
      " 38%|███▊      | 381/1000 [01:14<02:01,  5.11it/s, Energy=-2.105840+0.000000j ± 0.000043 [σ²=0.000004]]"
     ]
    },
    {
     "name": "stdout",
     "output_type": "stream",
     "text": [
      "--->> cal O and jac  0.03518414497375488\n",
      "compute_update  0.038559675216674805\n",
      "(0.045104761536706096+0j)\n",
      "n_discard =  144\n",
      "discard samples 0.08062481880187988\n",
      "n_samples_node =  1000\n",
      "generate_samples :  0.0683126449584961\n",
      "     prepare getting local values 0.003881692886352539\n",
      "     obtained local values 0.007636308670043945\n",
      "get_mc_stats 0.010621786117553711\n"
     ]
    },
    {
     "name": "stderr",
     "output_type": "stream",
     "text": [
      " 38%|███▊      | 382/1000 [01:14<02:01,  5.08it/s, Energy=-2.105902+0.000000j ± 0.000070 [σ²=0.000003]]"
     ]
    },
    {
     "name": "stdout",
     "output_type": "stream",
     "text": [
      "--->> cal O and jac  0.03614091873168945\n",
      "compute_update  0.03833413124084473\n",
      "(0.045128708521157586+0j)\n",
      "n_discard =  144\n",
      "discard samples 0.07430434226989746\n",
      "n_samples_node =  1000\n",
      "generate_samples :  0.06507086753845215\n",
      "     prepare getting local values 0.002856016159057617\n",
      "     obtained local values 0.009001731872558594\n",
      "get_mc_stats 0.012587308883666992\n"
     ]
    },
    {
     "name": "stderr",
     "output_type": "stream",
     "text": [
      " 38%|███▊      | 383/1000 [01:15<02:01,  5.09it/s, Energy=-2.105816+0.000000j ± 0.000059 [σ²=0.000003]]"
     ]
    },
    {
     "name": "stdout",
     "output_type": "stream",
     "text": [
      "--->> cal O and jac  0.038915395736694336\n",
      "compute_update  0.04110288619995117\n",
      "(0.04515574601729253+0j)\n",
      "n_discard =  144\n",
      "discard samples 0.08368468284606934\n",
      "n_samples_node =  1000\n",
      "generate_samples :  0.06932353973388672\n",
      "     prepare getting local values 0.0017545223236083984\n",
      "     obtained local values 0.005196571350097656\n",
      "get_mc_stats 0.0075833797454833984\n",
      "--->> cal O and jac  0.03479886054992676\n"
     ]
    },
    {
     "name": "stderr",
     "output_type": "stream",
     "text": [
      " 38%|███▊      | 384/1000 [01:15<02:02,  5.05it/s, Energy=-2.105918+0.000000j ± 0.000060 [σ²=0.000003]]"
     ]
    },
    {
     "name": "stdout",
     "output_type": "stream",
     "text": [
      "compute_update  0.039090871810913086\n",
      "(0.045182431403859566+0j)\n",
      "n_discard =  144\n",
      "discard samples 0.07373666763305664\n",
      "n_samples_node =  1000\n",
      "generate_samples :  0.07195496559143066\n",
      "     prepare getting local values 0.0034499168395996094\n",
      "     obtained local values 0.007440090179443359\n",
      "get_mc_stats 0.010302066802978516\n"
     ]
    },
    {
     "name": "stderr",
     "output_type": "stream",
     "text": [
      " 38%|███▊      | 385/1000 [01:15<02:01,  5.08it/s, Energy=-2.105841+0.000000j ± 0.000064 [σ²=0.000003]]"
     ]
    },
    {
     "name": "stdout",
     "output_type": "stream",
     "text": [
      "--->> cal O and jac  0.03409862518310547\n",
      "compute_update  0.03611159324645996\n",
      "(0.04521036276242319+0j)\n",
      "n_discard =  144\n",
      "discard samples 0.07599449157714844\n",
      "n_samples_node =  1000\n",
      "generate_samples :  0.07366132736206055\n",
      "     prepare getting local values 0.002013683319091797\n",
      "     obtained local values 0.005398750305175781\n",
      "get_mc_stats 0.007539033889770508\n"
     ]
    },
    {
     "name": "stderr",
     "output_type": "stream",
     "text": [
      " 39%|███▊      | 386/1000 [01:15<02:00,  5.11it/s, Energy=-2.105836+0.000000j ± 0.000060 [σ²=0.000003]]"
     ]
    },
    {
     "name": "stdout",
     "output_type": "stream",
     "text": [
      "--->> cal O and jac  0.02940201759338379\n",
      "compute_update  0.032636404037475586\n",
      "(0.045240441679615655+0j)\n",
      "n_discard =  144\n",
      "discard samples 0.0779259204864502\n",
      "n_samples_node =  1000\n",
      "generate_samples :  0.06704306602478027\n",
      "     prepare getting local values 0.0030565261840820312\n",
      "     obtained local values 0.008461475372314453\n",
      "get_mc_stats 0.011248111724853516\n",
      "--->> cal O and jac  0.0352635383605957\n"
     ]
    },
    {
     "name": "stderr",
     "output_type": "stream",
     "text": [
      " 39%|███▊      | 387/1000 [01:15<02:00,  5.10it/s, Energy=-2.105812+0.000000j ± 0.000064 [σ²=0.000003]]"
     ]
    },
    {
     "name": "stdout",
     "output_type": "stream",
     "text": [
      "compute_update  0.03896760940551758\n",
      "(0.045272542540178075+0j)\n",
      "n_discard =  144\n",
      "discard samples 0.07753729820251465\n",
      "n_samples_node =  1000\n",
      "generate_samples :  0.07286930084228516\n",
      "     prepare getting local values 0.0028030872344970703\n",
      "     obtained local values 0.008357048034667969\n",
      "get_mc_stats 0.011122465133666992\n",
      "--->> cal O and jac  0.03438901901245117\n",
      "compute_update  0.03653669357299805\n"
     ]
    },
    {
     "name": "stderr",
     "output_type": "stream",
     "text": [
      " 39%|███▉      | 388/1000 [01:15<02:00,  5.06it/s, Energy=-2.105873+0.000000j ± 0.000058 [σ²=0.000003]]"
     ]
    },
    {
     "name": "stdout",
     "output_type": "stream",
     "text": [
      "(0.04530223094947784+0j)\n",
      "n_discard =  144\n",
      "discard samples 0.07390022277832031\n",
      "n_samples_node =  1000\n",
      "generate_samples :  0.0685427188873291\n",
      "     prepare getting local values 0.001756906509399414\n",
      "     obtained local values 0.005076408386230469\n",
      "get_mc_stats 0.0068206787109375\n"
     ]
    },
    {
     "name": "stderr",
     "output_type": "stream",
     "text": [
      " 39%|███▉      | 389/1000 [01:16<01:58,  5.17it/s, Energy=-2.105786+0.000000j ± 0.000068 [σ²=0.000003]]"
     ]
    },
    {
     "name": "stdout",
     "output_type": "stream",
     "text": [
      "--->> cal O and jac  0.03034210205078125\n",
      "compute_update  0.03231477737426758\n",
      "(0.04533227234818657+0j)\n",
      "n_discard =  144\n",
      "discard samples 0.07035660743713379\n",
      "n_samples_node =  1000\n",
      "generate_samples :  0.07343673706054688\n",
      "     prepare getting local values 0.0031626224517822266\n",
      "     obtained local values 0.009247779846191406\n",
      "get_mc_stats 0.012118339538574219\n"
     ]
    },
    {
     "name": "stderr",
     "output_type": "stream",
     "text": [
      "\r",
      " 39%|███▉      | 389/1000 [01:16<01:58,  5.17it/s, Energy=-2.105830+0.000000j ± 0.000057 [σ²=0.000003]]"
     ]
    },
    {
     "name": "stdout",
     "output_type": "stream",
     "text": [
      "--->> cal O and jac  0.03750967979431152\n",
      "compute_update  0.03990650177001953\n"
     ]
    },
    {
     "name": "stderr",
     "output_type": "stream",
     "text": [
      "\r",
      " 39%|███▉      | 390/1000 [01:16<01:59,  5.13it/s, Energy=-2.105830+0.000000j ± 0.000057 [σ²=0.000003]]"
     ]
    },
    {
     "name": "stdout",
     "output_type": "stream",
     "text": [
      "(0.04536697065066122+0j)\n",
      "n_discard =  144\n",
      "discard samples 0.07282376289367676\n",
      "n_samples_node =  1000\n",
      "generate_samples :  0.07390308380126953\n",
      "     prepare getting local values 0.0029442310333251953\n",
      "     obtained local values 0.00911569595336914\n",
      "get_mc_stats 0.012165546417236328\n"
     ]
    },
    {
     "name": "stderr",
     "output_type": "stream",
     "text": [
      "\r",
      " 39%|███▉      | 390/1000 [01:16<01:59,  5.13it/s, Energy=-2.105861+0.000000j ± 0.000038 [σ²=0.000003]]"
     ]
    },
    {
     "name": "stdout",
     "output_type": "stream",
     "text": [
      "--->> cal O and jac  0.033719539642333984\n",
      "compute_update  0.0357968807220459\n"
     ]
    },
    {
     "name": "stderr",
     "output_type": "stream",
     "text": [
      "\r",
      " 39%|███▉      | 391/1000 [01:16<01:59,  5.11it/s, Energy=-2.105861+0.000000j ± 0.000038 [σ²=0.000003]]"
     ]
    },
    {
     "name": "stdout",
     "output_type": "stream",
     "text": [
      "(0.045403583556941615+0j)\n",
      "n_discard =  144\n",
      "discard samples 0.07662105560302734\n",
      "n_samples_node =  1000\n",
      "generate_samples :  0.07658553123474121\n",
      "     prepare getting local values 0.0017514228820800781\n",
      "     obtained local values 0.005252838134765625\n",
      "get_mc_stats 0.007694244384765625\n"
     ]
    },
    {
     "name": "stderr",
     "output_type": "stream",
     "text": [
      " 39%|███▉      | 392/1000 [01:16<02:00,  5.03it/s, Energy=-2.105846+0.000000j ± 0.000048 [σ²=0.000003]]"
     ]
    },
    {
     "name": "stdout",
     "output_type": "stream",
     "text": [
      "--->> cal O and jac  0.039919376373291016\n",
      "compute_update  0.04220151901245117\n",
      "(0.04543861827686239+0j)\n",
      "n_discard =  144\n",
      "discard samples 0.07862520217895508\n",
      "n_samples_node =  1000\n",
      "generate_samples :  0.0664510726928711\n",
      "     prepare getting local values 0.0037453174591064453\n",
      "     obtained local values 0.010703325271606445\n",
      "get_mc_stats 0.013406753540039062\n"
     ]
    },
    {
     "name": "stderr",
     "output_type": "stream",
     "text": [
      " 39%|███▉      | 393/1000 [01:16<01:59,  5.07it/s, Energy=-2.105719+0.000000j ± 0.000055 [σ²=0.000003]]"
     ]
    },
    {
     "name": "stdout",
     "output_type": "stream",
     "text": [
      "--->> cal O and jac  0.02868962287902832\n",
      "compute_update  0.03245377540588379\n",
      "(0.04547432876879353+0j)\n",
      "n_discard =  144\n",
      "discard samples 0.07427430152893066\n",
      "n_samples_node =  1000\n",
      "generate_samples :  0.06996417045593262\n",
      "     prepare getting local values 0.0036504268646240234\n",
      "     obtained local values 0.010548591613769531\n",
      "get_mc_stats 0.013914823532104492\n",
      "--->> cal O and jac  0.034821510314941406\n"
     ]
    },
    {
     "name": "stderr",
     "output_type": "stream",
     "text": [
      " 39%|███▉      | 394/1000 [01:17<01:59,  5.07it/s, Energy=-2.105890+0.000000j ± 0.000050 [σ²=0.000003]]"
     ]
    },
    {
     "name": "stdout",
     "output_type": "stream",
     "text": [
      "compute_update  0.03771018981933594\n",
      "(0.045511214404233856+0j)\n",
      "n_discard =  144\n",
      "discard samples 0.07591938972473145\n",
      "n_samples_node =  1000\n",
      "generate_samples :  0.06544947624206543\n",
      "     prepare getting local values 0.003507852554321289\n",
      "     obtained local values 0.00699615478515625\n",
      "get_mc_stats 0.009469270706176758\n"
     ]
    },
    {
     "name": "stderr",
     "output_type": "stream",
     "text": [
      " 40%|███▉      | 395/1000 [01:17<01:57,  5.16it/s, Energy=-2.105817+0.000000j ± 0.000049 [σ²=0.000003]]"
     ]
    },
    {
     "name": "stdout",
     "output_type": "stream",
     "text": [
      "--->> cal O and jac  0.030570030212402344\n",
      "compute_update  0.03316998481750488\n",
      "(0.045550489621693065+0j)\n",
      "n_discard =  144\n",
      "discard samples 0.0723273754119873\n",
      "n_samples_node =  1000\n",
      "generate_samples :  0.06853628158569336\n",
      "     prepare getting local values 0.0035429000854492188\n",
      "     obtained local values 0.01084446907043457\n",
      "get_mc_stats 0.013893604278564453\n",
      "--->> cal O and jac  0.04178047180175781\n"
     ]
    },
    {
     "name": "stderr",
     "output_type": "stream",
     "text": [
      " 40%|███▉      | 396/1000 [01:17<01:58,  5.09it/s, Energy=-2.105879+0.000000j ± 0.000055 [σ²=0.000002]]"
     ]
    },
    {
     "name": "stdout",
     "output_type": "stream",
     "text": [
      "compute_update  0.04580569267272949\n",
      "(0.045589472759900655+0j)\n",
      "n_discard =  144\n",
      "discard samples 0.0761260986328125\n",
      "n_samples_node =  1000\n",
      "generate_samples :  0.07447218894958496\n",
      "     prepare getting local values 0.003252744674682617\n",
      "     obtained local values 0.009573221206665039\n",
      "get_mc_stats 0.012584447860717773\n",
      "--->> cal O and jac  0.0351099967956543\n"
     ]
    },
    {
     "name": "stderr",
     "output_type": "stream",
     "text": [
      " 40%|███▉      | 397/1000 [01:17<01:59,  5.04it/s, Energy=-2.105847+0.000000j ± 0.000055 [σ²=0.000002]]"
     ]
    },
    {
     "name": "stdout",
     "output_type": "stream",
     "text": [
      "compute_update  0.03787589073181152\n",
      "(0.045629653498088785+0j)\n",
      "n_discard =  144\n",
      "discard samples 0.07381415367126465\n",
      "n_samples_node =  1000\n",
      "generate_samples :  0.07701945304870605\n",
      "     prepare getting local values 0.0035791397094726562\n",
      "     obtained local values 0.010321855545043945\n",
      "get_mc_stats 0.013436555862426758\n",
      "--->> cal O and jac  0.028322935104370117\n"
     ]
    },
    {
     "name": "stderr",
     "output_type": "stream",
     "text": [
      " 40%|███▉      | 398/1000 [01:17<01:59,  5.04it/s, Energy=-2.105859+0.000000j ± 0.000055 [σ²=0.000003]]"
     ]
    },
    {
     "name": "stdout",
     "output_type": "stream",
     "text": [
      "compute_update  0.032028913497924805\n",
      "(0.0456685898006186+0j)\n",
      "n_discard =  144\n",
      "discard samples 0.0802755355834961\n",
      "n_samples_node =  1000\n",
      "generate_samples :  0.06975579261779785\n",
      "     prepare getting local values 0.0016829967498779297\n",
      "     obtained local values 0.005002021789550781\n",
      "get_mc_stats 0.006964206695556641\n"
     ]
    },
    {
     "name": "stderr",
     "output_type": "stream",
     "text": [
      "\r",
      " 40%|███▉      | 398/1000 [01:18<01:59,  5.04it/s, Energy=-2.105820+0.000000j ± 0.000048 [σ²=0.000002]]"
     ]
    },
    {
     "name": "stdout",
     "output_type": "stream",
     "text": [
      "--->> cal O and jac  0.03373908996582031\n",
      "compute_update  0.03698921203613281\n"
     ]
    },
    {
     "name": "stderr",
     "output_type": "stream",
     "text": [
      "\r",
      " 40%|███▉      | 399/1000 [01:18<01:58,  5.05it/s, Energy=-2.105820+0.000000j ± 0.000048 [σ²=0.000002]]"
     ]
    },
    {
     "name": "stdout",
     "output_type": "stream",
     "text": [
      "(0.04570757795890858+0j)\n",
      "n_discard =  144\n",
      "discard samples 0.07432103157043457\n",
      "n_samples_node =  1000\n",
      "generate_samples :  0.07336878776550293\n",
      "     prepare getting local values 0.0017130374908447266\n",
      "     obtained local values 0.005047321319580078\n",
      "get_mc_stats 0.0073053836822509766\n"
     ]
    },
    {
     "name": "stderr",
     "output_type": "stream",
     "text": [
      " 40%|████      | 400/1000 [01:18<01:57,  5.10it/s, Energy=-2.105911+0.000000j ± 0.000060 [σ²=0.000003]]"
     ]
    },
    {
     "name": "stdout",
     "output_type": "stream",
     "text": [
      "--->> cal O and jac  0.03335261344909668\n",
      "compute_update  0.03537321090698242\n",
      "(0.04574671931890611+0j)\n",
      "n_discard =  144\n",
      "discard samples 0.07308292388916016\n",
      "n_samples_node =  1000\n",
      "generate_samples :  0.07277798652648926\n",
      "     prepare getting local values 0.0029115676879882812\n",
      "     obtained local values 0.0069272518157958984\n",
      "get_mc_stats 0.009399890899658203\n"
     ]
    },
    {
     "name": "stderr",
     "output_type": "stream",
     "text": [
      " 40%|████      | 401/1000 [01:18<01:56,  5.12it/s, Energy=-2.105909+0.000000j ± 0.000049 [σ²=0.000002]]"
     ]
    },
    {
     "name": "stdout",
     "output_type": "stream",
     "text": [
      "--->> cal O and jac  0.03353762626647949\n",
      "compute_update  0.03562021255493164\n",
      "(0.04578718543479563+0j)\n",
      "n_discard =  144\n",
      "discard samples 0.07491755485534668\n",
      "n_samples_node =  1000\n",
      "generate_samples :  0.07102108001708984\n",
      "     prepare getting local values 0.003483295440673828\n",
      "     obtained local values 0.00957942008972168\n",
      "get_mc_stats 0.013174057006835938\n"
     ]
    },
    {
     "name": "stderr",
     "output_type": "stream",
     "text": [
      "\r",
      " 40%|████      | 401/1000 [01:18<01:56,  5.12it/s, Energy=-2.105800+0.000000j ± 0.000043 [σ²=0.000002]]"
     ]
    },
    {
     "name": "stdout",
     "output_type": "stream",
     "text": [
      "--->> cal O and jac  0.03542494773864746\n",
      "compute_update  0.03777170181274414\n"
     ]
    },
    {
     "name": "stderr",
     "output_type": "stream",
     "text": [
      "\r",
      " 40%|████      | 402/1000 [01:18<01:57,  5.09it/s, Energy=-2.105800+0.000000j ± 0.000043 [σ²=0.000002]]"
     ]
    },
    {
     "name": "stdout",
     "output_type": "stream",
     "text": [
      "(0.04583048973076777+0j)\n",
      "n_discard =  144\n",
      "discard samples 0.07836222648620605\n",
      "n_samples_node =  1000\n",
      "generate_samples :  0.0746762752532959\n",
      "     prepare getting local values 0.0036420822143554688\n",
      "     obtained local values 0.007621049880981445\n",
      "get_mc_stats 0.011003971099853516\n"
     ]
    },
    {
     "name": "stderr",
     "output_type": "stream",
     "text": [
      " 40%|████      | 403/1000 [01:18<01:59,  5.01it/s, Energy=-2.105887+0.000000j ± 0.000058 [σ²=0.000003]]"
     ]
    },
    {
     "name": "stdout",
     "output_type": "stream",
     "text": [
      "--->> cal O and jac  0.039031267166137695\n",
      "compute_update  0.041487932205200195\n",
      "(0.045873875948086305+0j)\n",
      "n_discard =  144\n",
      "discard samples 0.0730140209197998\n",
      "n_samples_node =  1000\n",
      "generate_samples :  0.06912398338317871\n",
      "     prepare getting local values 0.0017518997192382812\n",
      "     obtained local values 0.005166530609130859\n",
      "get_mc_stats 0.00789022445678711\n"
     ]
    },
    {
     "name": "stderr",
     "output_type": "stream",
     "text": [
      " 40%|████      | 404/1000 [01:19<01:56,  5.12it/s, Energy=-2.105826+0.000000j ± 0.000052 [σ²=0.000002]]"
     ]
    },
    {
     "name": "stdout",
     "output_type": "stream",
     "text": [
      "--->> cal O and jac  0.03138542175292969\n",
      "compute_update  0.03332948684692383\n",
      "(0.04591663595274795+0j)\n",
      "n_discard =  144\n",
      "discard samples 0.07532119750976562\n",
      "n_samples_node =  1000\n",
      "generate_samples :  0.0705268383026123\n",
      "     prepare getting local values 0.0017333030700683594\n",
      "     obtained local values 0.005113363265991211\n",
      "get_mc_stats 0.007440090179443359\n"
     ]
    },
    {
     "name": "stderr",
     "output_type": "stream",
     "text": [
      " 40%|████      | 405/1000 [01:19<01:54,  5.18it/s, Energy=-2.105864+0.000000j ± 0.000042 [σ²=0.000002]]"
     ]
    },
    {
     "name": "stdout",
     "output_type": "stream",
     "text": [
      "--->> cal O and jac  0.029072284698486328\n",
      "compute_update  0.0324101448059082\n",
      "(0.04595918334302314+0j)\n",
      "n_discard =  144\n",
      "discard samples 0.08200192451477051\n",
      "n_samples_node =  1000\n",
      "generate_samples :  0.07562541961669922\n",
      "     prepare getting local values 0.003950595855712891\n",
      "     obtained local values 0.009034872055053711\n",
      "get_mc_stats 0.012434720993041992\n"
     ]
    },
    {
     "name": "stderr",
     "output_type": "stream",
     "text": [
      " 41%|████      | 406/1000 [01:19<01:57,  5.06it/s, Energy=-2.105822+0.000000j ± 0.000040 [σ²=0.000002]]"
     ]
    },
    {
     "name": "stdout",
     "output_type": "stream",
     "text": [
      "--->> cal O and jac  0.0339047908782959\n",
      "compute_update  0.03619813919067383\n",
      "(0.04599958277610628+0j)\n",
      "n_discard =  144\n",
      "discard samples 0.07177090644836426\n",
      "n_samples_node =  1000\n",
      "generate_samples :  0.07394051551818848\n",
      "     prepare getting local values 0.0034863948822021484\n",
      "     obtained local values 0.008700847625732422\n",
      "get_mc_stats 0.011946678161621094\n"
     ]
    },
    {
     "name": "stderr",
     "output_type": "stream",
     "text": [
      " 41%|████      | 407/1000 [01:19<01:56,  5.07it/s, Energy=-2.105878+0.000000j ± 0.000039 [σ²=0.000002]]"
     ]
    },
    {
     "name": "stdout",
     "output_type": "stream",
     "text": [
      "--->> cal O and jac  0.0328373908996582\n",
      "compute_update  0.035993099212646484\n",
      "(0.04604354399148877+0j)\n",
      "n_discard =  144\n",
      "discard samples 0.07456755638122559\n",
      "n_samples_node =  1000\n",
      "generate_samples :  0.0699613094329834\n",
      "     prepare getting local values 0.0035364627838134766\n",
      "     obtained local values 0.00961613655090332\n",
      "get_mc_stats 0.012441873550415039\n"
     ]
    },
    {
     "name": "stderr",
     "output_type": "stream",
     "text": [
      " 41%|████      | 408/1000 [01:19<01:56,  5.08it/s, Energy=-2.105790+0.000000j ± 0.000036 [σ²=0.000002]]"
     ]
    },
    {
     "name": "stdout",
     "output_type": "stream",
     "text": [
      "--->> cal O and jac  0.034790992736816406\n",
      "compute_update  0.03710627555847168\n",
      "(0.04608555272098643+0j)\n",
      "n_discard =  144\n",
      "discard samples 0.07917308807373047\n",
      "n_samples_node =  1000\n",
      "generate_samples :  0.06577658653259277\n",
      "     prepare getting local values 0.0035848617553710938\n",
      "     obtained local values 0.007069587707519531\n",
      "get_mc_stats 0.01014399528503418\n"
     ]
    },
    {
     "name": "stderr",
     "output_type": "stream",
     "text": [
      " 41%|████      | 409/1000 [01:20<01:55,  5.12it/s, Energy=-2.105839+0.000000j ± 0.000040 [σ²=0.000002]]"
     ]
    },
    {
     "name": "stdout",
     "output_type": "stream",
     "text": [
      "--->> cal O and jac  0.03345060348510742\n",
      "compute_update  0.035273075103759766\n",
      "(0.04612800690746935+0j)\n",
      "n_discard =  144\n",
      "discard samples 0.07041239738464355\n",
      "n_samples_node =  1000\n",
      "generate_samples :  0.06687617301940918\n",
      "     prepare getting local values 0.0035152435302734375\n",
      "     obtained local values 0.008549928665161133\n",
      "get_mc_stats 0.011633872985839844\n"
     ]
    },
    {
     "name": "stderr",
     "output_type": "stream",
     "text": [
      " 41%|████      | 410/1000 [01:20<01:53,  5.22it/s, Energy=-2.105846+0.000000j ± 0.000033 [σ²=0.000002]]"
     ]
    },
    {
     "name": "stdout",
     "output_type": "stream",
     "text": [
      "--->> cal O and jac  0.029624462127685547\n",
      "compute_update  0.031572580337524414\n",
      "(0.046171182568583935+0j)\n",
      "n_discard =  144\n",
      "discard samples 0.07651495933532715\n",
      "n_samples_node =  1000\n",
      "generate_samples :  0.07021903991699219\n",
      "     prepare getting local values 0.003549337387084961\n",
      "     obtained local values 0.008697271347045898\n",
      "get_mc_stats 0.012176752090454102\n"
     ]
    },
    {
     "name": "stderr",
     "output_type": "stream",
     "text": [
      " 41%|████      | 411/1000 [01:20<01:53,  5.18it/s, Energy=-2.105775+0.000000j ± 0.000049 [σ²=0.000002]]"
     ]
    },
    {
     "name": "stdout",
     "output_type": "stream",
     "text": [
      "--->> cal O and jac  0.03174901008605957\n",
      "compute_update  0.03518056869506836\n",
      "(0.046213242322764636+0j)\n",
      "n_discard =  144\n",
      "discard samples 0.08166766166687012\n",
      "n_samples_node =  1000\n",
      "generate_samples :  0.06967949867248535\n",
      "     prepare getting local values 0.003541231155395508\n",
      "     obtained local values 0.010206937789916992\n",
      "get_mc_stats 0.013046741485595703\n"
     ]
    },
    {
     "name": "stderr",
     "output_type": "stream",
     "text": [
      " 41%|████      | 412/1000 [01:20<01:55,  5.09it/s, Energy=-2.105871+0.000000j ± 0.000047 [σ²=0.000002]]"
     ]
    },
    {
     "name": "stdout",
     "output_type": "stream",
     "text": [
      "--->> cal O and jac  0.03246474266052246\n",
      "compute_update  0.03667140007019043\n",
      "(0.04625732362932463+0j)\n",
      "n_discard =  144\n",
      "discard samples 0.08033537864685059\n",
      "n_samples_node =  1000\n",
      "generate_samples :  0.06938481330871582\n",
      "     prepare getting local values 0.0035445690155029297\n",
      "     obtained local values 0.00899815559387207\n",
      "get_mc_stats 0.012238025665283203\n"
     ]
    },
    {
     "name": "stderr",
     "output_type": "stream",
     "text": [
      " 41%|████▏     | 413/1000 [01:20<01:55,  5.07it/s, Energy=-2.105889+0.000000j ± 0.000043 [σ²=0.000002]]"
     ]
    },
    {
     "name": "stdout",
     "output_type": "stream",
     "text": [
      "--->> cal O and jac  0.03267955780029297\n",
      "compute_update  0.03502511978149414\n",
      "(0.046300096460875045+0j)\n",
      "n_discard =  144\n",
      "discard samples 0.08336400985717773\n",
      "n_samples_node =  1000\n",
      "generate_samples :  0.07275104522705078\n",
      "     prepare getting local values 0.0032215118408203125\n",
      "     obtained local values 0.009637117385864258\n",
      "get_mc_stats 0.012824296951293945\n"
     ]
    },
    {
     "name": "stderr",
     "output_type": "stream",
     "text": [
      " 41%|████▏     | 414/1000 [01:21<01:56,  5.03it/s, Energy=-2.105870+0.000000j ± 0.000034 [σ²=0.000002]]"
     ]
    },
    {
     "name": "stdout",
     "output_type": "stream",
     "text": [
      "--->> cal O and jac  0.029099464416503906\n",
      "compute_update  0.03127574920654297\n",
      "(0.046343397314212866+0j)\n",
      "n_discard =  144\n",
      "discard samples 0.07378506660461426\n",
      "n_samples_node =  1000\n",
      "generate_samples :  0.06487154960632324\n",
      "     prepare getting local values 0.002872943878173828\n",
      "     obtained local values 0.008997440338134766\n",
      "get_mc_stats 0.011970043182373047\n"
     ]
    },
    {
     "name": "stderr",
     "output_type": "stream",
     "text": [
      " 42%|████▏     | 415/1000 [01:21<01:54,  5.11it/s, Energy=-2.105827+0.000000j ± 0.000049 [σ²=0.000002]]"
     ]
    },
    {
     "name": "stdout",
     "output_type": "stream",
     "text": [
      "--->> cal O and jac  0.03432726860046387\n",
      "compute_update  0.03644585609436035\n",
      "(0.04638650106219612+0j)\n",
      "n_discard =  144\n",
      "discard samples 0.07828354835510254\n",
      "n_samples_node =  1000\n",
      "generate_samples :  0.07552695274353027\n",
      "     prepare getting local values 0.003589630126953125\n",
      "     obtained local values 0.009706735610961914\n",
      "get_mc_stats 0.012833118438720703\n",
      "--->> cal O and jac  0.02853703498840332\n"
     ]
    },
    {
     "name": "stderr",
     "output_type": "stream",
     "text": [
      " 42%|████▏     | 416/1000 [01:21<01:55,  5.08it/s, Energy=-2.105851+0.000000j ± 0.000046 [σ²=0.000002]]"
     ]
    },
    {
     "name": "stdout",
     "output_type": "stream",
     "text": [
      "compute_update  0.03130221366882324\n",
      "(0.04642982069988932+0j)\n",
      "n_discard =  144\n",
      "discard samples 0.07915425300598145\n",
      "n_samples_node =  1000\n",
      "generate_samples :  0.07182621955871582\n",
      "     prepare getting local values 0.0031173229217529297\n",
      "     obtained local values 0.00857400894165039\n",
      "get_mc_stats 0.011790275573730469\n"
     ]
    },
    {
     "name": "stderr",
     "output_type": "stream",
     "text": [
      "\r",
      " 42%|████▏     | 416/1000 [01:21<01:55,  5.08it/s, Energy=-2.105813+0.000000j ± 0.000034 [σ²=0.000002]]"
     ]
    },
    {
     "name": "stdout",
     "output_type": "stream",
     "text": [
      "--->> cal O and jac  0.030554771423339844\n",
      "compute_update  0.03300142288208008\n"
     ]
    },
    {
     "name": "stderr",
     "output_type": "stream",
     "text": [
      "\r",
      " 42%|████▏     | 417/1000 [01:21<01:55,  5.07it/s, Energy=-2.105813+0.000000j ± 0.000034 [σ²=0.000002]]"
     ]
    },
    {
     "name": "stdout",
     "output_type": "stream",
     "text": [
      "(0.04647348808110887+0j)\n",
      "n_discard =  144\n",
      "discard samples 0.08137273788452148\n",
      "n_samples_node =  1000\n",
      "generate_samples :  0.07447218894958496\n",
      "     prepare getting local values 0.002960681915283203\n",
      "     obtained local values 0.006512641906738281\n",
      "get_mc_stats 0.009615421295166016\n"
     ]
    },
    {
     "name": "stderr",
     "output_type": "stream",
     "text": [
      " 42%|████▏     | 418/1000 [01:21<01:56,  5.00it/s, Energy=-2.105812+0.000000j ± 0.000045 [σ²=0.000002]]"
     ]
    },
    {
     "name": "stdout",
     "output_type": "stream",
     "text": [
      "--->> cal O and jac  0.03493237495422363\n",
      "compute_update  0.03820180892944336\n",
      "(0.04651799664302618+0j)\n",
      "n_discard =  144\n",
      "discard samples 0.07707762718200684\n",
      "n_samples_node =  1000\n",
      "generate_samples :  0.06929945945739746\n",
      "     prepare getting local values 0.0017693042755126953\n",
      "     obtained local values 0.007476091384887695\n",
      "get_mc_stats 0.009087800979614258\n"
     ]
    },
    {
     "name": "stderr",
     "output_type": "stream",
     "text": [
      " 42%|████▏     | 419/1000 [01:22<01:54,  5.05it/s, Energy=-2.105834+0.000000j ± 0.000032 [σ²=0.000002]]"
     ]
    },
    {
     "name": "stdout",
     "output_type": "stream",
     "text": [
      "--->> cal O and jac  0.033472299575805664\n",
      "compute_update  0.035590171813964844\n",
      "(0.046562991279409854+0j)\n",
      "n_discard =  144\n",
      "discard samples 0.07244205474853516\n",
      "n_samples_node =  1000\n",
      "generate_samples :  0.07584547996520996\n",
      "     prepare getting local values 0.0035827159881591797\n",
      "     obtained local values 0.011077165603637695\n",
      "get_mc_stats 0.014265060424804688\n"
     ]
    },
    {
     "name": "stderr",
     "output_type": "stream",
     "text": [
      " 42%|████▏     | 420/1000 [01:22<01:55,  5.03it/s, Energy=-2.105871+0.000000j ± 0.000048 [σ²=0.000002]]"
     ]
    },
    {
     "name": "stdout",
     "output_type": "stream",
     "text": [
      "--->> cal O and jac  0.03437948226928711\n",
      "compute_update  0.036428213119506836\n",
      "(0.04660798139614335+0j)\n",
      "n_discard =  144\n",
      "discard samples 0.0854482650756836\n",
      "n_samples_node =  1000\n",
      "generate_samples :  0.07662701606750488\n",
      "     prepare getting local values 0.0029244422912597656\n",
      "     obtained local values 0.0064733028411865234\n",
      "get_mc_stats 0.009663820266723633\n"
     ]
    },
    {
     "name": "stderr",
     "output_type": "stream",
     "text": [
      " 42%|████▏     | 421/1000 [01:22<01:58,  4.88it/s, Energy=-2.105731+0.000000j ± 0.000033 [σ²=0.000002]]"
     ]
    },
    {
     "name": "stdout",
     "output_type": "stream",
     "text": [
      "--->> cal O and jac  0.04183483123779297\n",
      "compute_update  0.045543670654296875\n",
      "(0.04665067320022765+0j)\n",
      "n_discard =  144\n",
      "discard samples 0.08162999153137207\n",
      "n_samples_node =  1000\n",
      "generate_samples :  0.07282495498657227\n",
      "     prepare getting local values 0.001661539077758789\n",
      "     obtained local values 0.004958629608154297\n",
      "get_mc_stats 0.007112026214599609\n"
     ]
    },
    {
     "name": "stderr",
     "output_type": "stream",
     "text": [
      " 42%|████▏     | 422/1000 [01:22<01:57,  4.91it/s, Energy=-2.105826+0.000000j ± 0.000044 [σ²=0.000002]]"
     ]
    },
    {
     "name": "stdout",
     "output_type": "stream",
     "text": [
      "--->> cal O and jac  0.03391265869140625\n",
      "compute_update  0.03635740280151367\n",
      "(0.046692869396857746+0j)\n",
      "n_discard =  144\n",
      "discard samples 0.07908129692077637\n",
      "n_samples_node =  1000\n",
      "generate_samples :  0.06763076782226562\n",
      "     prepare getting local values 0.0018012523651123047\n",
      "     obtained local values 0.005293130874633789\n",
      "get_mc_stats 0.007134199142456055\n"
     ]
    },
    {
     "name": "stderr",
     "output_type": "stream",
     "text": [
      " 42%|████▏     | 423/1000 [01:22<01:55,  4.98it/s, Energy=-2.105845+0.000000j ± 0.000039 [σ²=0.000002]]"
     ]
    },
    {
     "name": "stdout",
     "output_type": "stream",
     "text": [
      "--->> cal O and jac  0.035469770431518555\n",
      "compute_update  0.037570953369140625\n",
      "(0.046736393425641835+0j)\n",
      "n_discard =  144\n",
      "discard samples 0.07601690292358398\n",
      "n_samples_node =  1000\n",
      "generate_samples :  0.06563258171081543\n",
      "     prepare getting local values 0.0034766197204589844\n",
      "     obtained local values 0.008080720901489258\n",
      "get_mc_stats 0.010763883590698242\n"
     ]
    },
    {
     "name": "stderr",
     "output_type": "stream",
     "text": [
      " 42%|████▏     | 424/1000 [01:23<01:52,  5.12it/s, Energy=-2.105843+0.000000j ± 0.000038 [σ²=0.000002]]"
     ]
    },
    {
     "name": "stdout",
     "output_type": "stream",
     "text": [
      "--->> cal O and jac  0.02654099464416504\n",
      "compute_update  0.028856277465820312\n",
      "(0.04678127657384696+0j)\n",
      "n_discard =  144\n",
      "discard samples 0.07844996452331543\n",
      "n_samples_node =  1000\n",
      "generate_samples :  0.06954407691955566\n",
      "     prepare getting local values 0.0016622543334960938\n",
      "     obtained local values 0.004953622817993164\n",
      "get_mc_stats 0.0071408748626708984\n"
     ]
    },
    {
     "name": "stderr",
     "output_type": "stream",
     "text": [
      " 42%|████▎     | 425/1000 [01:23<01:50,  5.18it/s, Energy=-2.105836+0.000000j ± 0.000040 [σ²=0.000002]]"
     ]
    },
    {
     "name": "stdout",
     "output_type": "stream",
     "text": [
      "--->> cal O and jac  0.026726961135864258\n",
      "compute_update  0.02996683120727539\n",
      "(0.0468252132528417+0j)\n",
      "n_discard =  144\n",
      "discard samples 0.0748753547668457\n",
      "n_samples_node =  1000\n",
      "generate_samples :  0.06974172592163086\n",
      "     prepare getting local values 0.0035390853881835938\n",
      "     obtained local values 0.0068624019622802734\n",
      "get_mc_stats 0.009618997573852539\n"
     ]
    },
    {
     "name": "stderr",
     "output_type": "stream",
     "text": [
      " 43%|████▎     | 426/1000 [01:23<01:50,  5.20it/s, Energy=-2.105805+0.000000j ± 0.000049 [σ²=0.000002]]"
     ]
    },
    {
     "name": "stdout",
     "output_type": "stream",
     "text": [
      "--->> cal O and jac  0.03172492980957031\n",
      "compute_update  0.03373312950134277\n",
      "(0.04686793873726781+0j)\n",
      "n_discard =  144\n",
      "discard samples 0.0780491828918457\n",
      "n_samples_node =  1000\n",
      "generate_samples :  0.07022237777709961\n",
      "     prepare getting local values 0.002901792526245117\n",
      "     obtained local values 0.009087562561035156\n",
      "get_mc_stats 0.01240086555480957\n",
      "--->> cal O and jac  0.0343019962310791\n"
     ]
    },
    {
     "name": "stderr",
     "output_type": "stream",
     "text": [
      " 43%|████▎     | 427/1000 [01:23<01:51,  5.13it/s, Energy=-2.105782+0.000000j ± 0.000027 [σ²=0.000002]]"
     ]
    },
    {
     "name": "stdout",
     "output_type": "stream",
     "text": [
      "compute_update  0.03841543197631836\n",
      "(0.046910614412603246+0j)\n",
      "n_discard =  144\n",
      "discard samples 0.07303977012634277\n",
      "n_samples_node =  1000\n",
      "generate_samples :  0.06948614120483398\n",
      "     prepare getting local values 0.003656148910522461\n",
      "     obtained local values 0.008679389953613281\n",
      "get_mc_stats 0.011862754821777344\n"
     ]
    },
    {
     "name": "stderr",
     "output_type": "stream",
     "text": [
      " 43%|████▎     | 428/1000 [01:23<01:50,  5.16it/s, Energy=-2.105812+0.000000j ± 0.000037 [σ²=0.000002]]"
     ]
    },
    {
     "name": "stdout",
     "output_type": "stream",
     "text": [
      "--->> cal O and jac  0.032259225845336914\n",
      "compute_update  0.03476142883300781\n",
      "(0.046953630780200054+0j)\n",
      "n_discard =  144\n",
      "discard samples 0.0776677131652832\n",
      "n_samples_node =  1000\n",
      "generate_samples :  0.07275223731994629\n",
      "     prepare getting local values 0.003935098648071289\n",
      "     obtained local values 0.00759124755859375\n",
      "get_mc_stats 0.010571002960205078\n",
      "--->> cal O and jac  0.0346224308013916\n"
     ]
    },
    {
     "name": "stderr",
     "output_type": "stream",
     "text": [
      " 43%|████▎     | 429/1000 [01:24<01:52,  5.09it/s, Energy=-2.105918+0.000000j ± 0.000035 [σ²=0.000002]]"
     ]
    },
    {
     "name": "stdout",
     "output_type": "stream",
     "text": [
      "compute_update  0.03907608985900879\n",
      "(0.04699761748064382+0j)\n",
      "n_discard =  144\n",
      "discard samples 0.07577753067016602\n",
      "n_samples_node =  1000\n",
      "generate_samples :  0.07097625732421875\n",
      "     prepare getting local values 0.0020606517791748047\n",
      "     obtained local values 0.0053293704986572266\n",
      "get_mc_stats 0.00739598274230957\n"
     ]
    },
    {
     "name": "stderr",
     "output_type": "stream",
     "text": [
      " 43%|████▎     | 430/1000 [01:24<01:50,  5.14it/s, Energy=-2.105888+0.000000j ± 0.000044 [σ²=0.000002]]"
     ]
    },
    {
     "name": "stdout",
     "output_type": "stream",
     "text": [
      "--->> cal O and jac  0.031476736068725586\n",
      "compute_update  0.03368401527404785\n",
      "(0.04704085077809475+0j)\n",
      "n_discard =  144\n",
      "discard samples 0.08224916458129883\n",
      "n_samples_node =  1000\n",
      "generate_samples :  0.07099580764770508\n",
      "     prepare getting local values 0.0038805007934570312\n",
      "     obtained local values 0.009353160858154297\n",
      "get_mc_stats 0.012276172637939453\n"
     ]
    },
    {
     "name": "stderr",
     "output_type": "stream",
     "text": [
      " 43%|████▎     | 431/1000 [01:24<01:52,  5.05it/s, Energy=-2.105792+0.000000j ± 0.000031 [σ²=0.000002]]"
     ]
    },
    {
     "name": "stdout",
     "output_type": "stream",
     "text": [
      "--->> cal O and jac  0.03471970558166504\n",
      "compute_update  0.03847956657409668\n",
      "(0.047085732877498974+0j)\n",
      "n_discard =  144\n",
      "discard samples 0.07142853736877441\n",
      "n_samples_node =  1000\n",
      "generate_samples :  0.07248473167419434\n",
      "     prepare getting local values 0.0027990341186523438\n",
      "     obtained local values 0.0062482357025146484\n",
      "get_mc_stats 0.009294271469116211\n"
     ]
    },
    {
     "name": "stderr",
     "output_type": "stream",
     "text": [
      " 43%|████▎     | 432/1000 [01:24<01:51,  5.10it/s, Energy=-2.105839+0.000000j ± 0.000030 [σ²=0.000001]]"
     ]
    },
    {
     "name": "stdout",
     "output_type": "stream",
     "text": [
      "--->> cal O and jac  0.03375244140625\n",
      "compute_update  0.036013126373291016\n",
      "(0.047127825191145466+0j)\n",
      "n_discard =  144\n",
      "discard samples 0.08135151863098145\n",
      "n_samples_node =  1000\n",
      "generate_samples :  0.07479453086853027\n",
      "     prepare getting local values 0.003477334976196289\n",
      "     obtained local values 0.009856939315795898\n",
      "get_mc_stats 0.012868642807006836\n"
     ]
    },
    {
     "name": "stderr",
     "output_type": "stream",
     "text": [
      " 43%|████▎     | 433/1000 [01:24<01:53,  5.00it/s, Energy=-2.105854+0.000000j ± 0.000034 [σ²=0.000002]]"
     ]
    },
    {
     "name": "stdout",
     "output_type": "stream",
     "text": [
      "--->> cal O and jac  0.033574581146240234\n",
      "compute_update  0.037457942962646484\n",
      "(0.04717210875050678+0j)\n",
      "n_discard =  144\n",
      "discard samples 0.0778193473815918\n",
      "n_samples_node =  1000\n",
      "generate_samples :  0.07089996337890625\n",
      "     prepare getting local values 0.0029196739196777344\n",
      "     obtained local values 0.008066177368164062\n",
      "get_mc_stats 0.010613203048706055\n"
     ]
    },
    {
     "name": "stderr",
     "output_type": "stream",
     "text": [
      " 43%|████▎     | 434/1000 [01:25<01:53,  4.98it/s, Energy=-2.105853+0.000000j ± 0.000034 [σ²=0.000001]]"
     ]
    },
    {
     "name": "stdout",
     "output_type": "stream",
     "text": [
      "--->> cal O and jac  0.03943514823913574\n",
      "compute_update  0.04125165939331055\n",
      "(0.04721695082700799+0j)\n",
      "n_discard =  144\n",
      "discard samples 0.07460427284240723\n",
      "n_samples_node =  1000\n",
      "generate_samples :  0.07381272315979004\n",
      "     prepare getting local values 0.0035827159881591797\n",
      "     obtained local values 0.009224176406860352\n",
      "get_mc_stats 0.012608766555786133\n"
     ]
    },
    {
     "name": "stderr",
     "output_type": "stream",
     "text": [
      " 44%|████▎     | 435/1000 [01:25<01:54,  4.95it/s, Energy=-2.105849+0.000000j ± 0.000034 [σ²=0.000001]]"
     ]
    },
    {
     "name": "stdout",
     "output_type": "stream",
     "text": [
      "--->> cal O and jac  0.03989672660827637\n",
      "compute_update  0.04163980484008789\n",
      "(0.04726137773945965+0j)\n",
      "n_discard =  144\n",
      "discard samples 0.07696890830993652\n",
      "n_samples_node =  1000\n",
      "generate_samples :  0.0721442699432373\n",
      "     prepare getting local values 0.0035445690155029297\n",
      "     obtained local values 0.007360935211181641\n",
      "get_mc_stats 0.010798454284667969\n"
     ]
    },
    {
     "name": "stderr",
     "output_type": "stream",
     "text": [
      " 44%|████▎     | 436/1000 [01:25<01:52,  5.03it/s, Energy=-2.105810+0.000000j ± 0.000032 [σ²=0.000001]]"
     ]
    },
    {
     "name": "stdout",
     "output_type": "stream",
     "text": [
      "--->> cal O and jac  0.02724313735961914\n",
      "compute_update  0.03034520149230957\n",
      "(0.04730383671694266+0j)\n",
      "n_discard =  144\n",
      "discard samples 0.07839417457580566\n",
      "n_samples_node =  1000\n",
      "generate_samples :  0.07503676414489746\n",
      "     prepare getting local values 0.0038292407989501953\n",
      "     obtained local values 0.0103607177734375\n",
      "get_mc_stats 0.013647794723510742\n"
     ]
    },
    {
     "name": "stderr",
     "output_type": "stream",
     "text": [
      " 44%|████▎     | 437/1000 [01:25<01:53,  4.94it/s, Energy=-2.105840+0.000000j ± 0.000034 [σ²=0.000001]]"
     ]
    },
    {
     "name": "stdout",
     "output_type": "stream",
     "text": [
      "--->> cal O and jac  0.037598371505737305\n",
      "compute_update  0.04060626029968262\n",
      "(0.04734627920607103+0j)\n",
      "n_discard =  144\n",
      "discard samples 0.0765683650970459\n",
      "n_samples_node =  1000\n",
      "generate_samples :  0.06944513320922852\n",
      "     prepare getting local values 0.0036089420318603516\n",
      "     obtained local values 0.00713658332824707\n",
      "get_mc_stats 0.009935140609741211\n"
     ]
    },
    {
     "name": "stderr",
     "output_type": "stream",
     "text": [
      " 44%|████▍     | 438/1000 [01:25<01:52,  4.99it/s, Energy=-2.105835+0.000000j ± 0.000035 [σ²=0.000001]]"
     ]
    },
    {
     "name": "stdout",
     "output_type": "stream",
     "text": [
      "--->> cal O and jac  0.03544878959655762\n",
      "compute_update  0.03742837905883789\n",
      "(0.04738897587950263+0j)\n",
      "n_discard =  144\n",
      "discard samples 0.07474255561828613\n",
      "n_samples_node =  1000\n",
      "generate_samples :  0.07162284851074219\n",
      "     prepare getting local values 0.003490924835205078\n",
      "     obtained local values 0.009137630462646484\n",
      "get_mc_stats 0.0123443603515625\n"
     ]
    },
    {
     "name": "stderr",
     "output_type": "stream",
     "text": [
      " 44%|████▍     | 439/1000 [01:26<01:50,  5.06it/s, Energy=-2.105826+0.000000j ± 0.000033 [σ²=0.000001]]"
     ]
    },
    {
     "name": "stdout",
     "output_type": "stream",
     "text": [
      "--->> cal O and jac  0.028403282165527344\n",
      "compute_update  0.030562400817871094\n",
      "(0.047430767031003386+0j)\n",
      "n_discard =  144\n",
      "discard samples 0.08036398887634277\n",
      "n_samples_node =  1000\n",
      "generate_samples :  0.06761598587036133\n",
      "     prepare getting local values 0.002871990203857422\n",
      "     obtained local values 0.008183479309082031\n",
      "get_mc_stats 0.011275291442871094\n"
     ]
    },
    {
     "name": "stderr",
     "output_type": "stream",
     "text": [
      " 44%|████▍     | 440/1000 [01:26<01:50,  5.07it/s, Energy=-2.105773+0.000000j ± 0.000035 [σ²=0.000001]]"
     ]
    },
    {
     "name": "stdout",
     "output_type": "stream",
     "text": [
      "--->> cal O and jac  0.03243207931518555\n",
      "compute_update  0.03490781784057617\n",
      "(0.04747293053753438+0j)\n",
      "n_discard =  144\n",
      "discard samples 0.0756385326385498\n",
      "n_samples_node =  1000\n",
      "generate_samples :  0.07266354560852051\n",
      "     prepare getting local values 0.0016913414001464844\n",
      "     obtained local values 0.005115032196044922\n",
      "get_mc_stats 0.007678508758544922\n"
     ]
    },
    {
     "name": "stderr",
     "output_type": "stream",
     "text": [
      " 44%|████▍     | 441/1000 [01:26<01:49,  5.09it/s, Energy=-2.105867+0.000000j ± 0.000036 [σ²=0.000001]]"
     ]
    },
    {
     "name": "stdout",
     "output_type": "stream",
     "text": [
      "--->> cal O and jac  0.03437638282775879\n",
      "compute_update  0.03659558296203613\n",
      "(0.047514539238724306+0j)\n",
      "n_discard =  144\n",
      "discard samples 0.07848048210144043\n",
      "n_samples_node =  1000\n",
      "generate_samples :  0.06926083564758301\n",
      "     prepare getting local values 0.0016865730285644531\n",
      "     obtained local values 0.004978179931640625\n",
      "get_mc_stats 0.0072956085205078125\n"
     ]
    },
    {
     "name": "stderr",
     "output_type": "stream",
     "text": [
      " 44%|████▍     | 442/1000 [01:26<01:47,  5.18it/s, Energy=-2.105908+0.000000j ± 0.000032 [σ²=0.000001]]"
     ]
    },
    {
     "name": "stdout",
     "output_type": "stream",
     "text": [
      "--->> cal O and jac  0.02694225311279297\n",
      "compute_update  0.028969287872314453\n",
      "(0.04755617738068942+0j)\n",
      "n_discard =  144\n",
      "discard samples 0.07387423515319824\n",
      "n_samples_node =  1000\n",
      "generate_samples :  0.07819247245788574\n",
      "     prepare getting local values 0.0017588138580322266\n",
      "     obtained local values 0.0052433013916015625\n",
      "get_mc_stats 0.007601261138916016\n"
     ]
    },
    {
     "name": "stderr",
     "output_type": "stream",
     "text": [
      " 44%|████▍     | 443/1000 [01:26<01:48,  5.16it/s, Energy=-2.105796+0.000000j ± 0.000029 [σ²=0.000001]]"
     ]
    },
    {
     "name": "stdout",
     "output_type": "stream",
     "text": [
      "--->> cal O and jac  0.03196907043457031\n",
      "compute_update  0.034003257751464844\n",
      "(0.04759548573845148+0j)\n",
      "n_discard =  144\n",
      "discard samples 0.07228565216064453\n",
      "n_samples_node =  1000\n",
      "generate_samples :  0.07169866561889648\n",
      "     prepare getting local values 0.003237485885620117\n",
      "     obtained local values 0.006508350372314453\n",
      "get_mc_stats 0.009305000305175781\n"
     ]
    },
    {
     "name": "stderr",
     "output_type": "stream",
     "text": [
      " 44%|████▍     | 444/1000 [01:27<01:46,  5.20it/s, Energy=-2.105882+0.000000j ± 0.000034 [σ²=0.000001]]"
     ]
    },
    {
     "name": "stdout",
     "output_type": "stream",
     "text": [
      "--->> cal O and jac  0.030664443969726562\n",
      "compute_update  0.033298492431640625\n",
      "(0.04763386085621108+0j)\n",
      "n_discard =  144\n",
      "discard samples 0.08078622817993164\n",
      "n_samples_node =  1000\n",
      "generate_samples :  0.07588768005371094\n",
      "     prepare getting local values 0.002892017364501953\n",
      "     obtained local values 0.008950233459472656\n",
      "get_mc_stats 0.011677980422973633\n"
     ]
    },
    {
     "name": "stderr",
     "output_type": "stream",
     "text": [
      " 44%|████▍     | 445/1000 [01:27<01:48,  5.10it/s, Energy=-2.105790+0.000000j ± 0.000029 [σ²=0.000001]]"
     ]
    },
    {
     "name": "stdout",
     "output_type": "stream",
     "text": [
      "--->> cal O and jac  0.03195691108703613\n",
      "compute_update  0.03394174575805664\n",
      "(0.04767151576097999+0j)\n",
      "n_discard =  144\n",
      "discard samples 0.07497692108154297\n",
      "n_samples_node =  1000\n",
      "generate_samples :  0.07738685607910156\n",
      "     prepare getting local values 0.004230499267578125\n",
      "     obtained local values 0.007986783981323242\n",
      "get_mc_stats 0.011391162872314453\n"
     ]
    },
    {
     "name": "stderr",
     "output_type": "stream",
     "text": [
      " 45%|████▍     | 446/1000 [01:27<01:49,  5.05it/s, Energy=-2.105863+0.000000j ± 0.000029 [σ²=0.000001]]"
     ]
    },
    {
     "name": "stdout",
     "output_type": "stream",
     "text": [
      "--->> cal O and jac  0.03428530693054199\n",
      "compute_update  0.03651738166809082\n",
      "(0.04771030848376959+0j)\n",
      "n_discard =  144\n",
      "discard samples 0.07388973236083984\n",
      "n_samples_node =  1000\n",
      "generate_samples :  0.0711512565612793\n",
      "     prepare getting local values 0.0034608840942382812\n",
      "     obtained local values 0.009613513946533203\n",
      "get_mc_stats 0.012851238250732422\n"
     ]
    },
    {
     "name": "stderr",
     "output_type": "stream",
     "text": [
      " 45%|████▍     | 447/1000 [01:27<01:50,  5.01it/s, Energy=-2.105884+0.000000j ± 0.000031 [σ²=0.000001]]"
     ]
    },
    {
     "name": "stdout",
     "output_type": "stream",
     "text": [
      "--->> cal O and jac  0.04031705856323242\n",
      "compute_update  0.04343056678771973\n",
      "(0.0477487622494442+0j)\n",
      "n_discard =  144\n",
      "discard samples 0.08001160621643066\n",
      "n_samples_node =  1000\n",
      "generate_samples :  0.06803560256958008\n",
      "     prepare getting local values 0.0044710636138916016\n",
      "     obtained local values 0.008460283279418945\n",
      "get_mc_stats 0.011621952056884766\n"
     ]
    },
    {
     "name": "stderr",
     "output_type": "stream",
     "text": [
      " 45%|████▍     | 448/1000 [01:27<01:48,  5.07it/s, Energy=-2.105873+0.000000j ± 0.000027 [σ²=0.000001]]"
     ]
    },
    {
     "name": "stdout",
     "output_type": "stream",
     "text": [
      "--->> cal O and jac  0.027097463607788086\n",
      "compute_update  0.029417037963867188\n",
      "(0.0477862871158407+0j)\n",
      "n_discard =  144\n",
      "discard samples 0.08290672302246094\n",
      "n_samples_node =  1000\n",
      "generate_samples :  0.07148480415344238\n",
      "     prepare getting local values 0.0017094612121582031\n",
      "     obtained local values 0.005328178405761719\n",
      "get_mc_stats 0.0073833465576171875\n"
     ]
    },
    {
     "name": "stderr",
     "output_type": "stream",
     "text": [
      "\r",
      " 45%|████▍     | 448/1000 [01:28<01:48,  5.07it/s, Energy=-2.105823+0.000000j ± 0.000026 [σ²=0.000001]]"
     ]
    },
    {
     "name": "stdout",
     "output_type": "stream",
     "text": [
      "--->> cal O and jac  0.03137087821960449\n",
      "compute_update  0.034891366958618164\n"
     ]
    },
    {
     "name": "stderr",
     "output_type": "stream",
     "text": [
      "\r",
      " 45%|████▍     | 449/1000 [01:28<01:48,  5.06it/s, Energy=-2.105823+0.000000j ± 0.000026 [σ²=0.000001]]"
     ]
    },
    {
     "name": "stdout",
     "output_type": "stream",
     "text": [
      "(0.047824827059774984+0j)\n",
      "n_discard =  144\n",
      "discard samples 0.0788426399230957\n",
      "n_samples_node =  1000\n",
      "generate_samples :  0.07037734985351562\n",
      "     prepare getting local values 0.0029077529907226562\n",
      "     obtained local values 0.008565187454223633\n",
      "get_mc_stats 0.011428356170654297\n"
     ]
    },
    {
     "name": "stderr",
     "output_type": "stream",
     "text": [
      " 45%|████▌     | 450/1000 [01:28<01:49,  5.00it/s, Energy=-2.105860+0.000000j ± 0.000037 [σ²=0.000001]]"
     ]
    },
    {
     "name": "stdout",
     "output_type": "stream",
     "text": [
      "--->> cal O and jac  0.04028487205505371\n",
      "compute_update  0.042382001876831055\n",
      "(0.047863763681526346+0j)\n",
      "n_discard =  144\n",
      "discard samples 0.07390952110290527\n",
      "n_samples_node =  1000\n",
      "generate_samples :  0.06809782981872559\n",
      "     prepare getting local values 0.0018961429595947266\n",
      "     obtained local values 0.005519390106201172\n",
      "get_mc_stats 0.007147312164306641\n"
     ]
    },
    {
     "name": "stderr",
     "output_type": "stream",
     "text": [
      " 45%|████▌     | 451/1000 [01:28<01:48,  5.08it/s, Energy=-2.105862+0.000000j ± 0.000040 [σ²=0.000001]]"
     ]
    },
    {
     "name": "stdout",
     "output_type": "stream",
     "text": [
      "--->> cal O and jac  0.036013126373291016\n",
      "compute_update  0.03818392753601074\n",
      "(0.04790255112032984+0j)\n",
      "n_discard =  144\n",
      "discard samples 0.07863950729370117\n",
      "n_samples_node =  1000\n",
      "generate_samples :  0.0672001838684082\n",
      "     prepare getting local values 0.0017323493957519531\n",
      "     obtained local values 0.004984378814697266\n",
      "get_mc_stats 0.007324934005737305\n"
     ]
    },
    {
     "name": "stderr",
     "output_type": "stream",
     "text": [
      " 45%|████▌     | 452/1000 [01:28<01:46,  5.14it/s, Energy=-2.105852+0.000000j ± 0.000036 [σ²=0.000001]]"
     ]
    },
    {
     "name": "stdout",
     "output_type": "stream",
     "text": [
      "--->> cal O and jac  0.03101658821105957\n",
      "compute_update  0.03419303894042969\n",
      "(0.047941047317599635+0j)\n",
      "n_discard =  144\n",
      "discard samples 0.0854339599609375\n",
      "n_samples_node =  1000\n",
      "generate_samples :  0.07165718078613281\n",
      "     prepare getting local values 0.0038025379180908203\n",
      "     obtained local values 0.010887384414672852\n",
      "get_mc_stats 0.014314889907836914\n"
     ]
    },
    {
     "name": "stderr",
     "output_type": "stream",
     "text": [
      " 45%|████▌     | 453/1000 [01:28<01:49,  5.00it/s, Energy=-2.105882+0.000000j ± 0.000030 [σ²=0.000001]]"
     ]
    },
    {
     "name": "stdout",
     "output_type": "stream",
     "text": [
      "--->> cal O and jac  0.03665804862976074\n",
      "compute_update  0.0393221378326416\n",
      "(0.04797918193134579+0j)\n",
      "n_discard =  144\n",
      "discard samples 0.0771796703338623\n",
      "n_samples_node =  1000\n",
      "generate_samples :  0.07454514503479004\n",
      "     prepare getting local values 0.0035524368286132812\n",
      "     obtained local values 0.009193181991577148\n",
      "get_mc_stats 0.012134552001953125\n"
     ]
    },
    {
     "name": "stderr",
     "output_type": "stream",
     "text": [
      " 45%|████▌     | 454/1000 [01:29<01:49,  4.97it/s, Energy=-2.105832+0.000000j ± 0.000029 [σ²=0.000001]]"
     ]
    },
    {
     "name": "stdout",
     "output_type": "stream",
     "text": [
      "--->> cal O and jac  0.03580808639526367\n",
      "compute_update  0.03782248497009277\n",
      "(0.048016975538257435+0j)\n",
      "n_discard =  144\n",
      "discard samples 0.07148528099060059\n",
      "n_samples_node =  1000\n",
      "generate_samples :  0.07523536682128906\n",
      "     prepare getting local values 0.004109621047973633\n",
      "     obtained local values 0.009794950485229492\n",
      "get_mc_stats 0.012951850891113281\n",
      "--->> cal O and jac  0.035866498947143555\n"
     ]
    },
    {
     "name": "stderr",
     "output_type": "stream",
     "text": [
      " 46%|████▌     | 455/1000 [01:29<01:49,  4.98it/s, Energy=-2.105846+0.000000j ± 0.000030 [σ²=0.000001]]"
     ]
    },
    {
     "name": "stdout",
     "output_type": "stream",
     "text": [
      "compute_update  0.038368940353393555\n",
      "(0.04805424441474747+0j)\n",
      "n_discard =  144\n",
      "discard samples 0.07485365867614746\n",
      "n_samples_node =  1000\n",
      "generate_samples :  0.07087969779968262\n",
      "     prepare getting local values 0.003930330276489258\n",
      "     obtained local values 0.010610818862915039\n",
      "get_mc_stats 0.013547658920288086\n"
     ]
    },
    {
     "name": "stderr",
     "output_type": "stream",
     "text": [
      " 46%|████▌     | 456/1000 [01:29<01:48,  5.01it/s, Energy=-2.105833+0.000000j ± 0.000023 [σ²=0.000001]]"
     ]
    },
    {
     "name": "stdout",
     "output_type": "stream",
     "text": [
      "--->> cal O and jac  0.033308982849121094\n",
      "compute_update  0.035318613052368164\n",
      "(0.0480916614716247+0j)\n",
      "n_discard =  144\n",
      "discard samples 0.07303953170776367\n",
      "n_samples_node =  1000\n",
      "generate_samples :  0.06560420989990234\n",
      "     prepare getting local values 0.0035746097564697266\n",
      "     obtained local values 0.006996631622314453\n",
      "get_mc_stats 0.010442733764648438\n"
     ]
    },
    {
     "name": "stderr",
     "output_type": "stream",
     "text": [
      " 46%|████▌     | 457/1000 [01:29<01:45,  5.14it/s, Energy=-2.105898+0.000000j ± 0.000023 [σ²=0.000001]]"
     ]
    },
    {
     "name": "stdout",
     "output_type": "stream",
     "text": [
      "--->> cal O and jac  0.02986598014831543\n",
      "compute_update  0.03178238868713379\n",
      "(0.04812911442394058+0j)\n",
      "n_discard =  144\n",
      "discard samples 0.07175016403198242\n",
      "n_samples_node =  1000\n",
      "generate_samples :  0.07553386688232422\n",
      "     prepare getting local values 0.003574848175048828\n",
      "     obtained local values 0.00998830795288086\n",
      "get_mc_stats 0.012596368789672852\n"
     ]
    },
    {
     "name": "stderr",
     "output_type": "stream",
     "text": [
      " 46%|████▌     | 458/1000 [01:29<01:46,  5.08it/s, Energy=-2.105858+0.000000j ± 0.000030 [σ²=0.000001]]"
     ]
    },
    {
     "name": "stdout",
     "output_type": "stream",
     "text": [
      "--->> cal O and jac  0.03801369667053223\n",
      "compute_update  0.040008544921875\n",
      "(0.048165556446996986+0j)\n",
      "n_discard =  144\n",
      "discard samples 0.07545828819274902\n",
      "n_samples_node =  1000\n",
      "generate_samples :  0.07249116897583008\n",
      "     prepare getting local values 0.003543376922607422\n",
      "     obtained local values 0.01013493537902832\n",
      "get_mc_stats 0.013541460037231445\n"
     ]
    },
    {
     "name": "stderr",
     "output_type": "stream",
     "text": [
      " 46%|████▌     | 459/1000 [01:29<01:47,  5.04it/s, Energy=-2.105875+0.000000j ± 0.000032 [σ²=0.000001]]"
     ]
    },
    {
     "name": "stdout",
     "output_type": "stream",
     "text": [
      "--->> cal O and jac  0.035025596618652344\n",
      "compute_update  0.03824019432067871\n",
      "(0.04820235753936013+0j)\n",
      "n_discard =  144\n",
      "discard samples 0.08423352241516113\n",
      "n_samples_node =  1000\n",
      "generate_samples :  0.0668182373046875\n",
      "     prepare getting local values 0.0016834735870361328\n",
      "     obtained local values 0.007760286331176758\n",
      "get_mc_stats 0.009923219680786133\n",
      "--->> cal O and jac  0.03426671028137207\n"
     ]
    },
    {
     "name": "stderr",
     "output_type": "stream",
     "text": [
      " 46%|████▌     | 460/1000 [01:30<01:47,  5.02it/s, Energy=-2.105894+0.000000j ± 0.000028 [σ²=0.000001]]"
     ]
    },
    {
     "name": "stdout",
     "output_type": "stream",
     "text": [
      "compute_update  0.0382540225982666\n",
      "(0.048238554088781076+0j)\n",
      "n_discard =  144\n",
      "discard samples 0.07746434211730957\n",
      "n_samples_node =  1000\n",
      "generate_samples :  0.07004356384277344\n",
      "     prepare getting local values 0.003358125686645508\n",
      "     obtained local values 0.009437322616577148\n",
      "get_mc_stats 0.012920379638671875\n",
      "--->> cal O and jac  0.03642010688781738\n"
     ]
    },
    {
     "name": "stderr",
     "output_type": "stream",
     "text": [
      " 46%|████▌     | 461/1000 [01:30<01:47,  5.00it/s, Energy=-2.105813+0.000000j ± 0.000021 [σ²=0.000001]]"
     ]
    },
    {
     "name": "stdout",
     "output_type": "stream",
     "text": [
      "compute_update  0.03896951675415039\n",
      "(0.04827369264151633+0j)\n",
      "n_discard =  144\n",
      "discard samples 0.08467221260070801\n",
      "n_samples_node =  1000\n",
      "generate_samples :  0.07397079467773438\n",
      "     prepare getting local values 0.003571748733520508\n",
      "     obtained local values 0.009907722473144531\n",
      "get_mc_stats 0.012284994125366211\n"
     ]
    },
    {
     "name": "stderr",
     "output_type": "stream",
     "text": [
      "\r",
      " 46%|████▌     | 461/1000 [01:30<01:47,  5.00it/s, Energy=-2.105807+0.000000j ± 0.000036 [σ²=0.000001]]"
     ]
    },
    {
     "name": "stdout",
     "output_type": "stream",
     "text": [
      "--->> cal O and jac  0.02640247344970703\n",
      "compute_update  0.028284549713134766\n"
     ]
    },
    {
     "name": "stderr",
     "output_type": "stream",
     "text": [
      "\r",
      " 46%|████▌     | 462/1000 [01:30<01:47,  4.99it/s, Energy=-2.105807+0.000000j ± 0.000036 [σ²=0.000001]]"
     ]
    },
    {
     "name": "stdout",
     "output_type": "stream",
     "text": [
      "(0.04831012574087475+0j)\n",
      "n_discard =  144\n",
      "discard samples 0.07039952278137207\n",
      "n_samples_node =  1000\n",
      "generate_samples :  0.07155704498291016\n",
      "     prepare getting local values 0.003533601760864258\n",
      "     obtained local values 0.010285615921020508\n",
      "get_mc_stats 0.013495922088623047\n"
     ]
    },
    {
     "name": "stderr",
     "output_type": "stream",
     "text": [
      " 46%|████▋     | 463/1000 [01:30<01:46,  5.04it/s, Energy=-2.105828+0.000000j ± 0.000030 [σ²=0.000001]]"
     ]
    },
    {
     "name": "stdout",
     "output_type": "stream",
     "text": [
      "--->> cal O and jac  0.03431534767150879\n",
      "compute_update  0.03718066215515137\n",
      "(0.04834510593298917+0j)\n",
      "n_discard =  144\n",
      "discard samples 0.08596110343933105\n",
      "n_samples_node =  1000\n",
      "generate_samples :  0.07444620132446289\n",
      "     prepare getting local values 0.003531932830810547\n",
      "     obtained local values 0.009759902954101562\n",
      "get_mc_stats 0.012873172760009766\n"
     ]
    },
    {
     "name": "stderr",
     "output_type": "stream",
     "text": [
      " 46%|████▋     | 464/1000 [01:31<01:48,  4.94it/s, Energy=-2.105851+0.000000j ± 0.000021 [σ²=0.000001]]"
     ]
    },
    {
     "name": "stdout",
     "output_type": "stream",
     "text": [
      "--->> cal O and jac  0.03320765495300293\n",
      "compute_update  0.03531908988952637\n",
      "(0.04837964300661975+0j)\n",
      "n_discard =  144\n",
      "discard samples 0.06888747215270996\n",
      "n_samples_node =  1000\n",
      "generate_samples :  0.07132244110107422\n",
      "     prepare getting local values 0.002893209457397461\n",
      "     obtained local values 0.006253242492675781\n",
      "get_mc_stats 0.009444713592529297\n"
     ]
    },
    {
     "name": "stderr",
     "output_type": "stream",
     "text": [
      " 46%|████▋     | 465/1000 [01:31<01:45,  5.07it/s, Energy=-2.105881+0.000000j ± 0.000025 [σ²=0.000001]]"
     ]
    },
    {
     "name": "stdout",
     "output_type": "stream",
     "text": [
      "--->> cal O and jac  0.03177976608276367\n",
      "compute_update  0.033689260482788086\n",
      "(0.048414837861689854+0j)\n",
      "n_discard =  144\n",
      "discard samples 0.08146548271179199\n",
      "n_samples_node =  1000\n",
      "generate_samples :  0.07404398918151855\n",
      "     prepare getting local values 0.0035490989685058594\n",
      "     obtained local values 0.009905338287353516\n",
      "get_mc_stats 0.012791633605957031\n"
     ]
    },
    {
     "name": "stderr",
     "output_type": "stream",
     "text": [
      " 47%|████▋     | 466/1000 [01:31<01:46,  5.02it/s, Energy=-2.105880+0.000000j ± 0.000026 [σ²=0.000001]]"
     ]
    },
    {
     "name": "stdout",
     "output_type": "stream",
     "text": [
      "--->> cal O and jac  0.030738115310668945\n",
      "compute_update  0.03251218795776367\n",
      "(0.048449694692561676+0j)\n",
      "n_discard =  144\n",
      "discard samples 0.07302665710449219\n",
      "n_samples_node =  1000\n",
      "generate_samples :  0.06930661201477051\n",
      "     prepare getting local values 0.003574848175048828\n",
      "     obtained local values 0.009325504302978516\n",
      "get_mc_stats 0.012336969375610352\n"
     ]
    },
    {
     "name": "stderr",
     "output_type": "stream",
     "text": [
      " 47%|████▋     | 467/1000 [01:31<01:44,  5.10it/s, Energy=-2.105791+0.000000j ± 0.000026 [σ²=0.000001]]"
     ]
    },
    {
     "name": "stdout",
     "output_type": "stream",
     "text": [
      "--->> cal O and jac  0.03112959861755371\n",
      "compute_update  0.03307199478149414\n",
      "(0.04848247714952769+0j)\n",
      "n_discard =  144\n",
      "discard samples 0.0764169692993164\n",
      "n_samples_node =  1000\n",
      "generate_samples :  0.07691287994384766\n",
      "     prepare getting local values 0.0031545162200927734\n",
      "     obtained local values 0.008732318878173828\n",
      "get_mc_stats 0.011198043823242188\n",
      "--->> cal O and jac  0.03108501434326172\n"
     ]
    },
    {
     "name": "stderr",
     "output_type": "stream",
     "text": [
      " 47%|████▋     | 468/1000 [01:31<01:44,  5.07it/s, Energy=-2.105873+0.000000j ± 0.000029 [σ²=0.000001]]"
     ]
    },
    {
     "name": "stdout",
     "output_type": "stream",
     "text": [
      "compute_update  0.03401803970336914\n",
      "(0.04851727766187438+0j)\n",
      "n_discard =  144\n",
      "discard samples 0.07857704162597656\n",
      "n_samples_node =  1000\n",
      "generate_samples :  0.07297587394714355\n",
      "     prepare getting local values 0.0017375946044921875\n",
      "     obtained local values 0.009870767593383789\n",
      "get_mc_stats 0.01204228401184082\n"
     ]
    },
    {
     "name": "stderr",
     "output_type": "stream",
     "text": [
      " 47%|████▋     | 469/1000 [01:31<01:46,  5.00it/s, Energy=-2.105843+0.000000j ± 0.000026 [σ²=0.000001]]"
     ]
    },
    {
     "name": "stdout",
     "output_type": "stream",
     "text": [
      "--->> cal O and jac  0.03702068328857422\n",
      "compute_update  0.04008173942565918\n",
      "(0.0485496524088522+0j)\n",
      "n_discard =  144\n",
      "discard samples 0.07407689094543457\n",
      "n_samples_node =  1000\n",
      "generate_samples :  0.06957840919494629\n",
      "     prepare getting local values 0.0038247108459472656\n",
      "     obtained local values 0.007501363754272461\n",
      "get_mc_stats 0.01044607162475586\n"
     ]
    },
    {
     "name": "stderr",
     "output_type": "stream",
     "text": [
      " 47%|████▋     | 470/1000 [01:32<01:44,  5.09it/s, Energy=-2.105879+0.000000j ± 0.000026 [σ²=0.000001]]"
     ]
    },
    {
     "name": "stdout",
     "output_type": "stream",
     "text": [
      "--->> cal O and jac  0.029629945755004883\n",
      "compute_update  0.031853437423706055\n",
      "(0.04858426288638155+0j)\n",
      "n_discard =  144\n",
      "discard samples 0.07334613800048828\n",
      "n_samples_node =  1000\n",
      "generate_samples :  0.0723414421081543\n",
      "     prepare getting local values 0.0034792423248291016\n",
      "     obtained local values 0.0071675777435302734\n",
      "get_mc_stats 0.009661197662353516\n"
     ]
    },
    {
     "name": "stderr",
     "output_type": "stream",
     "text": [
      " 47%|████▋     | 471/1000 [01:32<01:42,  5.14it/s, Energy=-2.105842+0.000000j ± 0.000029 [σ²=0.000001]]"
     ]
    },
    {
     "name": "stdout",
     "output_type": "stream",
     "text": [
      "--->> cal O and jac  0.02956414222717285\n",
      "compute_update  0.03312969207763672\n",
      "(0.04861676512553982+0j)\n",
      "n_discard =  144\n",
      "discard samples 0.07470536231994629\n",
      "n_samples_node =  1000\n",
      "generate_samples :  0.07494258880615234\n",
      "     prepare getting local values 0.00360107421875\n",
      "     obtained local values 0.007443666458129883\n",
      "get_mc_stats 0.010480642318725586\n"
     ]
    },
    {
     "name": "stderr",
     "output_type": "stream",
     "text": [
      " 47%|████▋     | 472/1000 [01:32<01:44,  5.07it/s, Energy=-2.105820+0.000000j ± 0.000027 [σ²=0.000001]]"
     ]
    },
    {
     "name": "stdout",
     "output_type": "stream",
     "text": [
      "--->> cal O and jac  0.037312984466552734\n",
      "compute_update  0.04055976867675781\n",
      "(0.048647698237436074+0j)\n",
      "n_discard =  144\n",
      "discard samples 0.07686018943786621\n",
      "n_samples_node =  1000\n",
      "generate_samples :  0.07160425186157227\n",
      "     prepare getting local values 0.001706838607788086\n",
      "     obtained local values 0.005079984664916992\n",
      "get_mc_stats 0.00711822509765625\n"
     ]
    },
    {
     "name": "stderr",
     "output_type": "stream",
     "text": [
      " 47%|████▋     | 473/1000 [01:32<01:43,  5.10it/s, Energy=-2.105875+0.000000j ± 0.000026 [σ²=0.000001]]"
     ]
    },
    {
     "name": "stdout",
     "output_type": "stream",
     "text": [
      "--->> cal O and jac  0.03444480895996094\n",
      "compute_update  0.03649163246154785\n",
      "(0.0486797483266157+0j)\n",
      "n_discard =  144\n",
      "discard samples 0.07716131210327148\n",
      "n_samples_node =  1000\n",
      "generate_samples :  0.07010865211486816\n",
      "     prepare getting local values 0.0034813880920410156\n",
      "     obtained local values 0.00910186767578125\n",
      "get_mc_stats 0.012143135070800781\n"
     ]
    },
    {
     "name": "stderr",
     "output_type": "stream",
     "text": [
      " 47%|████▋     | 474/1000 [01:32<01:42,  5.12it/s, Energy=-2.105818+0.000000j ± 0.000026 [σ²=0.000001]]"
     ]
    },
    {
     "name": "stdout",
     "output_type": "stream",
     "text": [
      "--->> cal O and jac  0.02837061882019043\n",
      "compute_update  0.031240224838256836\n",
      "(0.0487102807965602+0j)\n",
      "n_discard =  144\n",
      "discard samples 0.08550357818603516\n",
      "n_samples_node =  1000\n",
      "generate_samples :  0.0717010498046875\n",
      "     prepare getting local values 0.0017130374908447266\n",
      "     obtained local values 0.00514984130859375\n",
      "get_mc_stats 0.007069587707519531\n"
     ]
    },
    {
     "name": "stderr",
     "output_type": "stream",
     "text": [
      " 48%|████▊     | 475/1000 [01:33<01:43,  5.07it/s, Energy=-2.105859+0.000000j ± 0.000025 [σ²=0.000001]]"
     ]
    },
    {
     "name": "stdout",
     "output_type": "stream",
     "text": [
      "--->> cal O and jac  0.03377962112426758\n",
      "compute_update  0.035861968994140625\n",
      "(0.04874262188725505+0j)\n",
      "n_discard =  144\n",
      "discard samples 0.07972145080566406\n",
      "n_samples_node =  1000\n",
      "generate_samples :  0.0718543529510498\n",
      "     prepare getting local values 0.0039730072021484375\n",
      "     obtained local values 0.009581327438354492\n",
      "get_mc_stats 0.012910127639770508\n"
     ]
    },
    {
     "name": "stderr",
     "output_type": "stream",
     "text": [
      " 48%|████▊     | 476/1000 [01:33<01:45,  4.98it/s, Energy=-2.105867+0.000000j ± 0.000023 [σ²=0.000001]]"
     ]
    },
    {
     "name": "stdout",
     "output_type": "stream",
     "text": [
      "--->> cal O and jac  0.038739681243896484\n",
      "compute_update  0.04175281524658203\n",
      "(0.04877373882686159+0j)\n",
      "n_discard =  144\n",
      "discard samples 0.07873225212097168\n",
      "n_samples_node =  1000\n",
      "generate_samples :  0.07565045356750488\n",
      "     prepare getting local values 0.001703500747680664\n",
      "     obtained local values 0.005050182342529297\n",
      "get_mc_stats 0.007058143615722656\n"
     ]
    },
    {
     "name": "stderr",
     "output_type": "stream",
     "text": [
      " 48%|████▊     | 477/1000 [01:33<01:45,  4.95it/s, Energy=-2.105805+0.000000j ± 0.000026 [σ²=0.000001]]"
     ]
    },
    {
     "name": "stdout",
     "output_type": "stream",
     "text": [
      "--->> cal O and jac  0.038552045822143555\n",
      "compute_update  0.04119062423706055\n",
      "(0.04880638263417738+0j)\n",
      "n_discard =  144\n",
      "discard samples 0.0723869800567627\n",
      "n_samples_node =  1000\n",
      "generate_samples :  0.06713271141052246\n",
      "     prepare getting local values 0.0029048919677734375\n",
      "     obtained local values 0.006390094757080078\n",
      "get_mc_stats 0.009663581848144531\n"
     ]
    },
    {
     "name": "stderr",
     "output_type": "stream",
     "text": [
      " 48%|████▊     | 478/1000 [01:33<01:43,  5.06it/s, Energy=-2.105846+0.000000j ± 0.000030 [σ²=0.000001]]"
     ]
    },
    {
     "name": "stdout",
     "output_type": "stream",
     "text": [
      "--->> cal O and jac  0.03252816200256348\n",
      "compute_update  0.03567218780517578\n",
      "(0.0488368531249853+0j)\n",
      "n_discard =  144\n",
      "discard samples 0.08007001876831055\n",
      "n_samples_node =  1000\n",
      "generate_samples :  0.07119250297546387\n",
      "     prepare getting local values 0.0041964054107666016\n",
      "     obtained local values 0.010402917861938477\n",
      "get_mc_stats 0.013189554214477539\n"
     ]
    },
    {
     "name": "stderr",
     "output_type": "stream",
     "text": [
      " 48%|████▊     | 479/1000 [01:33<01:44,  4.99it/s, Energy=-2.105833+0.000000j ± 0.000021 [σ²=0.000001]]"
     ]
    },
    {
     "name": "stdout",
     "output_type": "stream",
     "text": [
      "--->> cal O and jac  0.03645801544189453\n",
      "compute_update  0.039958953857421875\n",
      "(0.04886950867173355+0j)\n",
      "n_discard =  144\n",
      "discard samples 0.08123421669006348\n",
      "n_samples_node =  1000\n",
      "generate_samples :  0.06781268119812012\n",
      "     prepare getting local values 0.0021648406982421875\n",
      "     obtained local values 0.005604982376098633\n",
      "get_mc_stats 0.00767827033996582\n"
     ]
    },
    {
     "name": "stderr",
     "output_type": "stream",
     "text": [
      " 48%|████▊     | 480/1000 [01:34<01:42,  5.07it/s, Energy=-2.105861+0.000000j ± 0.000023 [σ²=0.000001]]"
     ]
    },
    {
     "name": "stdout",
     "output_type": "stream",
     "text": [
      "--->> cal O and jac  0.02930307388305664\n",
      "compute_update  0.0316009521484375\n",
      "(0.048898090586031076+0j)\n",
      "n_discard =  144\n",
      "discard samples 0.07425451278686523\n",
      "n_samples_node =  1000\n",
      "generate_samples :  0.07397031784057617\n",
      "     prepare getting local values 0.00373077392578125\n",
      "     obtained local values 0.010221481323242188\n",
      "get_mc_stats 0.013957977294921875\n"
     ]
    },
    {
     "name": "stderr",
     "output_type": "stream",
     "text": [
      " 48%|████▊     | 481/1000 [01:34<01:44,  4.98it/s, Energy=-2.105815+0.000000j ± 0.000027 [σ²=0.000001]]"
     ]
    },
    {
     "name": "stdout",
     "output_type": "stream",
     "text": [
      "--->> cal O and jac  0.041834115982055664\n",
      "compute_update  0.04428434371948242\n",
      "(0.04892652016078873+0j)\n",
      "n_discard =  144\n",
      "discard samples 0.07511520385742188\n",
      "n_samples_node =  1000\n",
      "generate_samples :  0.07076287269592285\n",
      "     prepare getting local values 0.001678466796875\n",
      "     obtained local values 0.0050160884857177734\n",
      "get_mc_stats 0.006715536117553711\n"
     ]
    },
    {
     "name": "stderr",
     "output_type": "stream",
     "text": [
      " 48%|████▊     | 482/1000 [01:34<01:42,  5.07it/s, Energy=-2.105859+0.000000j ± 0.000021 [σ²=0.000001]]"
     ]
    },
    {
     "name": "stdout",
     "output_type": "stream",
     "text": [
      "--->> cal O and jac  0.03108978271484375\n",
      "compute_update  0.03401041030883789\n",
      "(0.04895572426481334+0j)\n",
      "n_discard =  144\n",
      "discard samples 0.07617974281311035\n",
      "n_samples_node =  1000\n",
      "generate_samples :  0.07400727272033691\n",
      "     prepare getting local values 0.003084897994995117\n",
      "     obtained local values 0.008231163024902344\n",
      "get_mc_stats 0.011188030242919922\n",
      "--->> cal O and jac  0.033271074295043945\n"
     ]
    },
    {
     "name": "stderr",
     "output_type": "stream",
     "text": [
      " 48%|████▊     | 483/1000 [01:34<01:42,  5.05it/s, Energy=-2.105863+0.000000j ± 0.000024 [σ²=0.000001]]"
     ]
    },
    {
     "name": "stdout",
     "output_type": "stream",
     "text": [
      "compute_update  0.037409067153930664\n",
      "(0.04898565843222218+0j)\n",
      "n_discard =  144\n",
      "discard samples 0.07862710952758789\n",
      "n_samples_node =  1000\n",
      "generate_samples :  0.06591391563415527\n",
      "     prepare getting local values 0.0035970211029052734\n",
      "     obtained local values 0.008845806121826172\n",
      "get_mc_stats 0.012334108352661133\n",
      "--->> cal O and jac  0.035639047622680664\n"
     ]
    },
    {
     "name": "stderr",
     "output_type": "stream",
     "text": [
      " 48%|████▊     | 484/1000 [01:34<01:42,  5.05it/s, Energy=-2.105852+0.000000j ± 0.000026 [σ²=0.000001]]"
     ]
    },
    {
     "name": "stdout",
     "output_type": "stream",
     "text": [
      "compute_update  0.03915214538574219\n",
      "(0.049013914880818236+0j)\n",
      "n_discard =  144\n",
      "discard samples 0.07779383659362793\n",
      "n_samples_node =  1000\n",
      "generate_samples :  0.07277226448059082\n",
      "     prepare getting local values 0.0036475658416748047\n",
      "     obtained local values 0.009246349334716797\n",
      "get_mc_stats 0.011862516403198242\n",
      "--->> cal O and jac  0.03162860870361328\n"
     ]
    },
    {
     "name": "stderr",
     "output_type": "stream",
     "text": [
      "\r",
      " 48%|████▊     | 484/1000 [01:35<01:42,  5.05it/s, Energy=-2.105781+0.000000j ± 0.000023 [σ²=0.000001]]"
     ]
    },
    {
     "name": "stdout",
     "output_type": "stream",
     "text": [
      "compute_update  0.03549790382385254\n"
     ]
    },
    {
     "name": "stderr",
     "output_type": "stream",
     "text": [
      "\r",
      " 48%|████▊     | 485/1000 [01:35<01:42,  5.03it/s, Energy=-2.105781+0.000000j ± 0.000023 [σ²=0.000001]]"
     ]
    },
    {
     "name": "stdout",
     "output_type": "stream",
     "text": [
      "(0.04904153755243503+0j)\n",
      "n_discard =  144\n",
      "discard samples 0.08069992065429688\n",
      "n_samples_node =  1000\n",
      "generate_samples :  0.06984758377075195\n",
      "     prepare getting local values 0.0018701553344726562\n",
      "     obtained local values 0.005335807800292969\n",
      "get_mc_stats 0.007887125015258789\n"
     ]
    },
    {
     "name": "stderr",
     "output_type": "stream",
     "text": [
      " 49%|████▊     | 486/1000 [01:35<01:41,  5.08it/s, Energy=-2.105843+0.000000j ± 0.000027 [σ²=0.000001]]"
     ]
    },
    {
     "name": "stdout",
     "output_type": "stream",
     "text": [
      "--->> cal O and jac  0.02881312370300293\n",
      "compute_update  0.03162050247192383\n",
      "(0.04906870538887279+0j)\n",
      "n_discard =  144\n",
      "discard samples 0.07605266571044922\n",
      "n_samples_node =  1000\n",
      "generate_samples :  0.06877374649047852\n",
      "     prepare getting local values 0.0035195350646972656\n",
      "     obtained local values 0.009599447250366211\n",
      "get_mc_stats 0.012640237808227539\n",
      "--->> cal O and jac  0.03755497932434082\n"
     ]
    },
    {
     "name": "stderr",
     "output_type": "stream",
     "text": [
      " 49%|████▊     | 487/1000 [01:35<01:41,  5.05it/s, Energy=-2.105815+0.000000j ± 0.000026 [σ²=0.000001]]"
     ]
    },
    {
     "name": "stdout",
     "output_type": "stream",
     "text": [
      "compute_update  0.0415492057800293\n",
      "(0.04909504728528817+0j)\n",
      "n_discard =  144\n",
      "discard samples 0.07536745071411133\n",
      "n_samples_node =  1000\n",
      "generate_samples :  0.07159924507141113\n",
      "     prepare getting local values 0.003456592559814453\n",
      "     obtained local values 0.009947538375854492\n",
      "get_mc_stats 0.01302194595336914\n",
      "--->> cal O and jac  0.03149294853210449\n"
     ]
    },
    {
     "name": "stderr",
     "output_type": "stream",
     "text": [
      " 49%|████▉     | 488/1000 [01:35<01:41,  5.05it/s, Energy=-2.105816+0.000000j ± 0.000026 [σ²=0.000001]]"
     ]
    },
    {
     "name": "stdout",
     "output_type": "stream",
     "text": [
      "compute_update  0.03556323051452637\n",
      "(0.04912189604106052+0j)\n",
      "n_discard =  144\n",
      "discard samples 0.08403754234313965\n",
      "n_samples_node =  1000\n",
      "generate_samples :  0.06882643699645996\n",
      "     prepare getting local values 0.0017082691192626953\n",
      "     obtained local values 0.005127906799316406\n",
      "get_mc_stats 0.0072460174560546875\n",
      "--->> cal O and jac  0.03450632095336914\n"
     ]
    },
    {
     "name": "stderr",
     "output_type": "stream",
     "text": [
      "\r",
      " 49%|████▉     | 488/1000 [01:35<01:41,  5.05it/s, Energy=-2.105822+0.000000j ± 0.000024 [σ²=0.000001]]"
     ]
    },
    {
     "name": "stdout",
     "output_type": "stream",
     "text": [
      "compute_update  0.03801321983337402\n"
     ]
    },
    {
     "name": "stderr",
     "output_type": "stream",
     "text": [
      "\r",
      " 49%|████▉     | 489/1000 [01:35<01:41,  5.03it/s, Energy=-2.105822+0.000000j ± 0.000024 [σ²=0.000001]]"
     ]
    },
    {
     "name": "stdout",
     "output_type": "stream",
     "text": [
      "(0.04914837002706872+0j)\n",
      "n_discard =  144\n",
      "discard samples 0.07826542854309082\n",
      "n_samples_node =  1000\n",
      "generate_samples :  0.07853531837463379\n",
      "     prepare getting local values 0.003524303436279297\n",
      "     obtained local values 0.00734257698059082\n",
      "get_mc_stats 0.009935140609741211\n",
      "--->> cal O and jac  0.031419992446899414\n"
     ]
    },
    {
     "name": "stderr",
     "output_type": "stream",
     "text": [
      " 49%|████▉     | 490/1000 [01:36<01:42,  4.99it/s, Energy=-2.105887+0.000000j ± 0.000025 [σ²=0.000001]]"
     ]
    },
    {
     "name": "stdout",
     "output_type": "stream",
     "text": [
      "compute_update  0.03546595573425293\n",
      "(0.04917451122758504+0j)\n",
      "n_discard =  144\n",
      "discard samples 0.07549691200256348\n",
      "n_samples_node =  1000\n",
      "generate_samples :  0.06675553321838379\n",
      "     prepare getting local values 0.0037009716033935547\n",
      "     obtained local values 0.008933782577514648\n",
      "get_mc_stats 0.011851310729980469\n"
     ]
    },
    {
     "name": "stderr",
     "output_type": "stream",
     "text": [
      "\r",
      " 49%|████▉     | 490/1000 [01:36<01:42,  4.99it/s, Energy=-2.105793+0.000000j ± 0.000019 [σ²=0.000001]]"
     ]
    },
    {
     "name": "stdout",
     "output_type": "stream",
     "text": [
      "--->> cal O and jac  0.03688979148864746\n",
      "compute_update  0.0390629768371582\n"
     ]
    },
    {
     "name": "stderr",
     "output_type": "stream",
     "text": [
      "\r",
      " 49%|████▉     | 491/1000 [01:36<01:41,  5.02it/s, Energy=-2.105793+0.000000j ± 0.000019 [σ²=0.000001]]"
     ]
    },
    {
     "name": "stdout",
     "output_type": "stream",
     "text": [
      "(0.04919934763462962+0j)\n",
      "n_discard =  144\n",
      "discard samples 0.07534217834472656\n",
      "n_samples_node =  1000\n",
      "generate_samples :  0.06893587112426758\n",
      "     prepare getting local values 0.001714468002319336\n",
      "     obtained local values 0.005251169204711914\n",
      "get_mc_stats 0.007103681564331055\n"
     ]
    },
    {
     "name": "stderr",
     "output_type": "stream",
     "text": [
      " 49%|████▉     | 492/1000 [01:36<01:39,  5.08it/s, Energy=-2.105864+0.000000j ± 0.000022 [σ²=0.000001]]"
     ]
    },
    {
     "name": "stdout",
     "output_type": "stream",
     "text": [
      "--->> cal O and jac  0.03446817398071289\n",
      "compute_update  0.03773188591003418\n",
      "(0.049224709399814874+0j)\n",
      "n_discard =  144\n",
      "discard samples 0.07814860343933105\n",
      "n_samples_node =  1000\n",
      "generate_samples :  0.0686960220336914\n",
      "     prepare getting local values 0.003021717071533203\n",
      "     obtained local values 0.00962209701538086\n",
      "get_mc_stats 0.01275324821472168\n"
     ]
    },
    {
     "name": "stderr",
     "output_type": "stream",
     "text": [
      " 49%|████▉     | 493/1000 [01:36<01:39,  5.11it/s, Energy=-2.105836+0.000000j ± 0.000025 [σ²=0.000001]]"
     ]
    },
    {
     "name": "stdout",
     "output_type": "stream",
     "text": [
      "--->> cal O and jac  0.02965569496154785\n",
      "compute_update  0.03199410438537598\n",
      "(0.04925006163339536+0j)\n",
      "n_discard =  144\n",
      "discard samples 0.07361888885498047\n",
      "n_samples_node =  1000\n",
      "generate_samples :  0.07123827934265137\n",
      "     prepare getting local values 0.0017230510711669922\n",
      "     obtained local values 0.005293607711791992\n",
      "get_mc_stats 0.007208347320556641\n"
     ]
    },
    {
     "name": "stderr",
     "output_type": "stream",
     "text": [
      " 49%|████▉     | 494/1000 [01:36<01:37,  5.16it/s, Energy=-2.105862+0.000000j ± 0.000022 [σ²=0.000001]]"
     ]
    },
    {
     "name": "stdout",
     "output_type": "stream",
     "text": [
      "--->> cal O and jac  0.03154301643371582\n",
      "compute_update  0.03425931930541992\n",
      "(0.049273193188777265+0j)\n",
      "n_discard =  144\n",
      "discard samples 0.07965731620788574\n",
      "n_samples_node =  1000\n",
      "generate_samples :  0.06991457939147949\n",
      "     prepare getting local values 0.002855062484741211\n",
      "     obtained local values 0.008352279663085938\n",
      "get_mc_stats 0.011258840560913086\n"
     ]
    },
    {
     "name": "stderr",
     "output_type": "stream",
     "text": [
      " 50%|████▉     | 495/1000 [01:37<01:39,  5.07it/s, Energy=-2.105866+0.000000j ± 0.000019 [σ²=0.000001]]"
     ]
    },
    {
     "name": "stdout",
     "output_type": "stream",
     "text": [
      "--->> cal O and jac  0.04023313522338867\n",
      "compute_update  0.042111873626708984\n",
      "(0.04929746052150328+0j)\n",
      "n_discard =  144\n",
      "discard samples 0.08606934547424316\n",
      "n_samples_node =  1000\n",
      "generate_samples :  0.07298445701599121\n",
      "     prepare getting local values 0.003483295440673828\n",
      "     obtained local values 0.009099245071411133\n",
      "get_mc_stats 0.012174129486083984\n"
     ]
    },
    {
     "name": "stderr",
     "output_type": "stream",
     "text": [
      " 50%|████▉     | 496/1000 [01:37<01:40,  5.01it/s, Energy=-2.105846+0.000000j ± 0.000020 [σ²=0.000001]]"
     ]
    },
    {
     "name": "stdout",
     "output_type": "stream",
     "text": [
      "--->> cal O and jac  0.03000164031982422\n",
      "compute_update  0.0319516658782959\n",
      "(0.04932170257986886+0j)\n",
      "n_discard =  144\n",
      "discard samples 0.07654690742492676\n",
      "n_samples_node =  1000\n",
      "generate_samples :  0.07323861122131348\n",
      "     prepare getting local values 0.0031027793884277344\n",
      "     obtained local values 0.00944209098815918\n",
      "get_mc_stats 0.012940645217895508\n",
      "--->> cal O and jac  0.03446793556213379\n"
     ]
    },
    {
     "name": "stderr",
     "output_type": "stream",
     "text": [
      " 50%|████▉     | 497/1000 [01:37<01:40,  5.00it/s, Energy=-2.105820+0.000000j ± 0.000024 [σ²=0.000001]]"
     ]
    },
    {
     "name": "stdout",
     "output_type": "stream",
     "text": [
      "compute_update  0.03704071044921875\n",
      "(0.04934550784359819+0j)\n",
      "n_discard =  144\n",
      "discard samples 0.07452797889709473\n",
      "n_samples_node =  1000\n",
      "generate_samples :  0.07677817344665527\n",
      "     prepare getting local values 0.0038576126098632812\n",
      "     obtained local values 0.010226726531982422\n",
      "get_mc_stats 0.013141393661499023\n"
     ]
    },
    {
     "name": "stderr",
     "output_type": "stream",
     "text": [
      " 50%|████▉     | 498/1000 [01:37<01:41,  4.93it/s, Energy=-2.105819+0.000000j ± 0.000023 [σ²=0.000001]]"
     ]
    },
    {
     "name": "stdout",
     "output_type": "stream",
     "text": [
      "--->> cal O and jac  0.04101061820983887\n",
      "compute_update  0.0429387092590332\n",
      "(0.04936949726713917+0j)\n",
      "n_discard =  144\n",
      "discard samples 0.07838082313537598\n",
      "n_samples_node =  1000\n",
      "generate_samples :  0.07213354110717773\n",
      "     prepare getting local values 0.0035414695739746094\n",
      "     obtained local values 0.009770870208740234\n",
      "get_mc_stats 0.012817144393920898\n"
     ]
    },
    {
     "name": "stderr",
     "output_type": "stream",
     "text": [
      " 50%|████▉     | 499/1000 [01:37<01:40,  4.97it/s, Energy=-2.105855+0.000000j ± 0.000022 [σ²=0.000001]]"
     ]
    },
    {
     "name": "stdout",
     "output_type": "stream",
     "text": [
      "--->> cal O and jac  0.030460834503173828\n",
      "compute_update  0.032187461853027344\n",
      "(0.049393617462217106+0j)\n",
      "n_discard =  144\n",
      "discard samples 0.07265686988830566\n",
      "n_samples_node =  1000\n",
      "generate_samples :  0.07384705543518066\n",
      "     prepare getting local values 0.0033257007598876953\n",
      "     obtained local values 0.006600856781005859\n",
      "get_mc_stats 0.010227203369140625\n"
     ]
    },
    {
     "name": "stderr",
     "output_type": "stream",
     "text": [
      " 50%|█████     | 500/1000 [01:38<01:39,  5.02it/s, Energy=-2.105843+0.000000j ± 0.000025 [σ²=0.000001]]"
     ]
    },
    {
     "name": "stdout",
     "output_type": "stream",
     "text": [
      "--->> cal O and jac  0.032572269439697266\n",
      "compute_update  0.0358734130859375\n",
      "(0.04941509847204242+0j)\n",
      "n_discard =  144\n",
      "discard samples 0.07435369491577148\n",
      "n_samples_node =  1000\n",
      "generate_samples :  0.07154989242553711\n",
      "     prepare getting local values 0.0017168521881103516\n",
      "     obtained local values 0.005022525787353516\n",
      "get_mc_stats 0.007416248321533203\n"
     ]
    },
    {
     "name": "stderr",
     "output_type": "stream",
     "text": [
      " 50%|█████     | 501/1000 [01:38<01:38,  5.08it/s, Energy=-2.105881+0.000000j ± 0.000020 [σ²=0.000001]]"
     ]
    },
    {
     "name": "stdout",
     "output_type": "stream",
     "text": [
      "--->> cal O and jac  0.03357648849487305\n",
      "compute_update  0.035489559173583984\n",
      "(0.049437482396990085+0j)\n",
      "n_discard =  144\n",
      "discard samples 0.07472467422485352\n",
      "n_samples_node =  1000\n",
      "generate_samples :  0.0694131851196289\n",
      "     prepare getting local values 0.0030481815338134766\n",
      "     obtained local values 0.006739616394042969\n",
      "get_mc_stats 0.009345531463623047\n"
     ]
    },
    {
     "name": "stderr",
     "output_type": "stream",
     "text": [
      " 50%|█████     | 502/1000 [01:38<01:37,  5.10it/s, Energy=-2.105842+0.000000j ± 0.000024 [σ²=0.000001]]"
     ]
    },
    {
     "name": "stdout",
     "output_type": "stream",
     "text": [
      "--->> cal O and jac  0.03415966033935547\n",
      "compute_update  0.03787946701049805\n",
      "(0.04945903820164086+0j)\n",
      "n_discard =  144\n",
      "discard samples 0.07541418075561523\n",
      "n_samples_node =  1000\n",
      "generate_samples :  0.06869292259216309\n",
      "     prepare getting local values 0.0017094612121582031\n",
      "     obtained local values 0.005014657974243164\n",
      "get_mc_stats 0.007452249526977539\n"
     ]
    },
    {
     "name": "stderr",
     "output_type": "stream",
     "text": [
      " 50%|█████     | 503/1000 [01:38<01:36,  5.13it/s, Energy=-2.105828+0.000000j ± 0.000021 [σ²=0.000001]]"
     ]
    },
    {
     "name": "stdout",
     "output_type": "stream",
     "text": [
      "--->> cal O and jac  0.035553932189941406\n",
      "compute_update  0.03894639015197754\n",
      "(0.049480480254411256+0j)\n",
      "n_discard =  144\n",
      "discard samples 0.07954645156860352\n",
      "n_samples_node =  1000\n",
      "generate_samples :  0.0738515853881836\n",
      "     prepare getting local values 0.003552675247192383\n",
      "     obtained local values 0.006978750228881836\n",
      "get_mc_stats 0.010262727737426758\n"
     ]
    },
    {
     "name": "stderr",
     "output_type": "stream",
     "text": [
      " 50%|█████     | 504/1000 [01:38<01:37,  5.08it/s, Energy=-2.105807+0.000000j ± 0.000019 [σ²=0.000001]]"
     ]
    },
    {
     "name": "stdout",
     "output_type": "stream",
     "text": [
      "--->> cal O and jac  0.03226041793823242\n",
      "compute_update  0.03586912155151367\n",
      "(0.04950069036037016+0j)\n",
      "n_discard =  144\n",
      "discard samples 0.07124638557434082\n",
      "n_samples_node =  1000\n",
      "generate_samples :  0.09209036827087402\n",
      "     prepare getting local values 0.0034270286560058594\n",
      "     obtained local values 0.006900787353515625\n",
      "get_mc_stats 0.010450124740600586\n"
     ]
    },
    {
     "name": "stderr",
     "output_type": "stream",
     "text": [
      " 50%|█████     | 505/1000 [01:39<01:39,  4.99it/s, Energy=-2.105815+0.000000j ± 0.000021 [σ²=0.000001]]"
     ]
    },
    {
     "name": "stdout",
     "output_type": "stream",
     "text": [
      "--->> cal O and jac  0.02975606918334961\n",
      "compute_update  0.032022714614868164\n",
      "(0.04952128725989247+0j)\n",
      "n_discard =  144\n",
      "discard samples 0.07785630226135254\n",
      "n_samples_node =  1000\n",
      "generate_samples :  0.07184267044067383\n",
      "     prepare getting local values 0.003563404083251953\n",
      "     obtained local values 0.0073146820068359375\n",
      "get_mc_stats 0.010460138320922852\n"
     ]
    },
    {
     "name": "stderr",
     "output_type": "stream",
     "text": [
      " 51%|█████     | 506/1000 [01:39<01:39,  4.96it/s, Energy=-2.105842+0.000000j ± 0.000019 [σ²=0.000001]]"
     ]
    },
    {
     "name": "stdout",
     "output_type": "stream",
     "text": [
      "--->> cal O and jac  0.03900861740112305\n",
      "compute_update  0.042215824127197266\n",
      "(0.04954254224482315+0j)\n",
      "n_discard =  144\n",
      "discard samples 0.08034539222717285\n",
      "n_samples_node =  1000\n",
      "generate_samples :  0.07224559783935547\n",
      "     prepare getting local values 0.0017366409301757812\n",
      "     obtained local values 0.005420207977294922\n",
      "get_mc_stats 0.006846189498901367\n",
      "--->> cal O and jac  0.033278465270996094\n"
     ]
    },
    {
     "name": "stderr",
     "output_type": "stream",
     "text": [
      " 51%|█████     | 507/1000 [01:39<01:38,  4.99it/s, Energy=-2.105854+0.000000j ± 0.000022 [σ²=0.000001]]"
     ]
    },
    {
     "name": "stdout",
     "output_type": "stream",
     "text": [
      "compute_update  0.036113739013671875\n",
      "(0.049563957920440806+0j)\n",
      "n_discard =  144\n",
      "discard samples 0.08336162567138672\n",
      "n_samples_node =  1000\n",
      "generate_samples :  0.07008719444274902\n",
      "     prepare getting local values 0.00397491455078125\n",
      "     obtained local values 0.009300470352172852\n",
      "get_mc_stats 0.012647390365600586\n"
     ]
    },
    {
     "name": "stderr",
     "output_type": "stream",
     "text": [
      " 51%|█████     | 508/1000 [01:39<01:39,  4.97it/s, Energy=-2.105846+0.000000j ± 0.000016 [σ²=0.000000]]"
     ]
    },
    {
     "name": "stdout",
     "output_type": "stream",
     "text": [
      "--->> cal O and jac  0.03338027000427246\n",
      "compute_update  0.03532552719116211\n",
      "(0.04958524326568929+0j)\n",
      "n_discard =  144\n",
      "discard samples 0.07643318176269531\n",
      "n_samples_node =  1000\n",
      "generate_samples :  0.0789797306060791\n",
      "     prepare getting local values 0.0037469863891601562\n",
      "     obtained local values 0.008723258972167969\n",
      "get_mc_stats 0.011457204818725586\n"
     ]
    },
    {
     "name": "stderr",
     "output_type": "stream",
     "text": [
      " 51%|█████     | 509/1000 [01:39<01:40,  4.90it/s, Energy=-2.105781+0.000000j ± 0.000019 [σ²=0.000001]]"
     ]
    },
    {
     "name": "stdout",
     "output_type": "stream",
     "text": [
      "--->> cal O and jac  0.037549495697021484\n",
      "compute_update  0.041240692138671875\n",
      "(0.04960574399113882+0j)\n",
      "n_discard =  144\n",
      "discard samples 0.08000850677490234\n",
      "n_samples_node =  1000\n",
      "generate_samples :  0.07110309600830078\n",
      "     prepare getting local values 0.003156423568725586\n",
      "     obtained local values 0.008235692977905273\n",
      "get_mc_stats 0.012021780014038086\n"
     ]
    },
    {
     "name": "stderr",
     "output_type": "stream",
     "text": [
      " 51%|█████     | 510/1000 [01:40<01:39,  4.93it/s, Energy=-2.105819+0.000000j ± 0.000016 [σ²=0.000001]]"
     ]
    },
    {
     "name": "stdout",
     "output_type": "stream",
     "text": [
      "--->> cal O and jac  0.03261208534240723\n",
      "compute_update  0.03449440002441406\n",
      "(0.04962663498668262+0j)\n",
      "n_discard =  144\n",
      "discard samples 0.07560849189758301\n",
      "n_samples_node =  1000\n",
      "generate_samples :  0.07072567939758301\n",
      "     prepare getting local values 0.003619670867919922\n",
      "     obtained local values 0.010751485824584961\n",
      "get_mc_stats 0.01389765739440918\n"
     ]
    },
    {
     "name": "stderr",
     "output_type": "stream",
     "text": [
      " 51%|█████     | 511/1000 [01:40<01:39,  4.93it/s, Energy=-2.105820+0.000000j ± 0.000018 [σ²=0.000001]]"
     ]
    },
    {
     "name": "stdout",
     "output_type": "stream",
     "text": [
      "--->> cal O and jac  0.038930654525756836\n",
      "compute_update  0.041068077087402344\n",
      "(0.049646156669242+0j)\n",
      "n_discard =  144\n",
      "discard samples 0.08202409744262695\n",
      "n_samples_node =  1000\n",
      "generate_samples :  0.06997919082641602\n",
      "     prepare getting local values 0.0035588741302490234\n",
      "     obtained local values 0.010780811309814453\n",
      "get_mc_stats 0.014306783676147461\n"
     ]
    },
    {
     "name": "stderr",
     "output_type": "stream",
     "text": [
      " 51%|█████     | 512/1000 [01:40<01:39,  4.91it/s, Energy=-2.105830+0.000000j ± 0.000017 [σ²=0.000001]]"
     ]
    },
    {
     "name": "stdout",
     "output_type": "stream",
     "text": [
      "--->> cal O and jac  0.03350043296813965\n",
      "compute_update  0.03673863410949707\n",
      "(0.049665117470499814+0j)\n",
      "n_discard =  144\n",
      "discard samples 0.07676959037780762\n",
      "n_samples_node =  1000\n",
      "generate_samples :  0.07024741172790527\n",
      "     prepare getting local values 0.003300189971923828\n",
      "     obtained local values 0.00943756103515625\n",
      "get_mc_stats 0.012888193130493164\n",
      "--->> cal O and jac  0.03640270233154297\n"
     ]
    },
    {
     "name": "stderr",
     "output_type": "stream",
     "text": [
      " 51%|█████▏    | 513/1000 [01:40<01:38,  4.92it/s, Energy=-2.105834+0.000000j ± 0.000014 [σ²=0.000000]]"
     ]
    },
    {
     "name": "stdout",
     "output_type": "stream",
     "text": [
      "compute_update  0.04014754295349121\n",
      "(0.04968476216219186+0j)\n",
      "n_discard =  144\n",
      "discard samples 0.07504749298095703\n",
      "n_samples_node =  1000\n",
      "generate_samples :  0.06878185272216797\n",
      "     prepare getting local values 0.002610445022583008\n",
      "     obtained local values 0.0060577392578125\n",
      "get_mc_stats 0.009518861770629883\n",
      "--->> cal O and jac  0.041567325592041016\n"
     ]
    },
    {
     "name": "stderr",
     "output_type": "stream",
     "text": [
      " 51%|█████▏    | 514/1000 [01:40<01:38,  4.95it/s, Energy=-2.105826+0.000000j ± 0.000018 [σ²=0.000001]]"
     ]
    },
    {
     "name": "stdout",
     "output_type": "stream",
     "text": [
      "compute_update  0.04429006576538086\n",
      "(0.04970464012450347+0j)\n",
      "n_discard =  144\n",
      "discard samples 0.07616090774536133\n",
      "n_samples_node =  1000\n",
      "generate_samples :  0.06979060173034668\n",
      "     prepare getting local values 0.002118825912475586\n",
      "     obtained local values 0.00546574592590332\n",
      "get_mc_stats 0.007738828659057617\n"
     ]
    },
    {
     "name": "stderr",
     "output_type": "stream",
     "text": [
      "\r",
      " 51%|█████▏    | 514/1000 [01:41<01:38,  4.95it/s, Energy=-2.105822+0.000000j ± 0.000021 [σ²=0.000000]]"
     ]
    },
    {
     "name": "stdout",
     "output_type": "stream",
     "text": [
      "--->> cal O and jac  0.0373382568359375\n",
      "compute_update  0.04078245162963867\n"
     ]
    },
    {
     "name": "stderr",
     "output_type": "stream",
     "text": [
      "\r",
      " 52%|█████▏    | 515/1000 [01:41<01:37,  4.98it/s, Energy=-2.105822+0.000000j ± 0.000021 [σ²=0.000000]]"
     ]
    },
    {
     "name": "stdout",
     "output_type": "stream",
     "text": [
      "(0.049724126043672885+0j)\n",
      "n_discard =  144\n",
      "discard samples 0.07654213905334473\n",
      "n_samples_node =  1000\n",
      "generate_samples :  0.07858777046203613\n",
      "     prepare getting local values 0.003698110580444336\n",
      "     obtained local values 0.007139682769775391\n",
      "get_mc_stats 0.009961366653442383\n",
      "--->> cal O and jac  0.033945322036743164\n"
     ]
    },
    {
     "name": "stderr",
     "output_type": "stream",
     "text": [
      " 52%|█████▏    | 516/1000 [01:41<01:37,  4.96it/s, Energy=-2.105829+0.000000j ± 0.000018 [σ²=0.000000]]"
     ]
    },
    {
     "name": "stdout",
     "output_type": "stream",
     "text": [
      "compute_update  0.03621959686279297\n",
      "(0.0497439178277231+0j)\n",
      "n_discard =  144\n",
      "discard samples 0.07507109642028809\n",
      "n_samples_node =  1000\n",
      "generate_samples :  0.06735873222351074\n",
      "     prepare getting local values 0.0017554759979248047\n",
      "     obtained local values 0.005217075347900391\n",
      "get_mc_stats 0.006982088088989258\n"
     ]
    },
    {
     "name": "stderr",
     "output_type": "stream",
     "text": [
      " 52%|█████▏    | 517/1000 [01:41<01:35,  5.04it/s, Energy=-2.105825+0.000000j ± 0.000020 [σ²=0.000000]]"
     ]
    },
    {
     "name": "stdout",
     "output_type": "stream",
     "text": [
      "--->> cal O and jac  0.035529136657714844\n",
      "compute_update  0.0390629768371582\n",
      "(0.049764781574245694+0j)\n",
      "n_discard =  144\n",
      "discard samples 0.07283258438110352\n",
      "n_samples_node =  1000\n",
      "generate_samples :  0.06850266456604004\n",
      "     prepare getting local values 0.0035619735717773438\n",
      "     obtained local values 0.008765935897827148\n",
      "get_mc_stats 0.012248516082763672\n"
     ]
    },
    {
     "name": "stderr",
     "output_type": "stream",
     "text": [
      " 52%|█████▏    | 518/1000 [01:41<01:34,  5.12it/s, Energy=-2.105861+0.000000j ± 0.000019 [σ²=0.000000]]"
     ]
    },
    {
     "name": "stdout",
     "output_type": "stream",
     "text": [
      "--->> cal O and jac  0.028847694396972656\n",
      "compute_update  0.032172441482543945\n",
      "(0.04978379207996345+0j)\n",
      "n_discard =  144\n",
      "discard samples 0.08186650276184082\n",
      "n_samples_node =  1000\n",
      "generate_samples :  0.07174205780029297\n",
      "     prepare getting local values 0.0032160282135009766\n",
      "     obtained local values 0.009367704391479492\n",
      "get_mc_stats 0.013044595718383789\n"
     ]
    },
    {
     "name": "stderr",
     "output_type": "stream",
     "text": [
      " 52%|█████▏    | 519/1000 [01:41<01:35,  5.04it/s, Energy=-2.105844+0.000000j ± 0.000020 [σ²=0.000000]]"
     ]
    },
    {
     "name": "stdout",
     "output_type": "stream",
     "text": [
      "--->> cal O and jac  0.03478264808654785\n",
      "compute_update  0.03667593002319336\n",
      "(0.04980240476570703+0j)\n",
      "n_discard =  144\n",
      "discard samples 0.0727994441986084\n",
      "n_samples_node =  1000\n",
      "generate_samples :  0.07164716720581055\n",
      "     prepare getting local values 0.0030868053436279297\n",
      "     obtained local values 0.009245157241821289\n",
      "get_mc_stats 0.012454032897949219\n",
      "--->> cal O and jac  0.0388338565826416\n"
     ]
    },
    {
     "name": "stderr",
     "output_type": "stream",
     "text": [
      " 52%|█████▏    | 520/1000 [01:42<01:35,  5.02it/s, Energy=-2.105847+0.000000j ± 0.000017 [σ²=0.000000]]"
     ]
    },
    {
     "name": "stdout",
     "output_type": "stream",
     "text": [
      "compute_update  0.04271697998046875\n",
      "(0.049821727467420876+0j)\n",
      "n_discard =  144\n",
      "discard samples 0.07872653007507324\n",
      "n_samples_node =  1000\n",
      "generate_samples :  0.07110166549682617\n",
      "     prepare getting local values 0.001720428466796875\n",
      "     obtained local values 0.005927085876464844\n",
      "get_mc_stats 0.008437871932983398\n"
     ]
    },
    {
     "name": "stderr",
     "output_type": "stream",
     "text": [
      " 52%|█████▏    | 521/1000 [01:42<01:34,  5.04it/s, Energy=-2.105856+0.000000j ± 0.000018 [σ²=0.000000]]"
     ]
    },
    {
     "name": "stdout",
     "output_type": "stream",
     "text": [
      "--->> cal O and jac  0.033451080322265625\n",
      "compute_update  0.035536766052246094\n",
      "(0.04984035472503143+0j)\n",
      "n_discard =  144\n",
      "discard samples 0.07182073593139648\n",
      "n_samples_node =  1000\n",
      "generate_samples :  0.07288694381713867\n",
      "     prepare getting local values 0.003543853759765625\n",
      "     obtained local values 0.00948476791381836\n",
      "get_mc_stats 0.01287221908569336\n",
      "--->> cal O and jac  0.03674125671386719\n"
     ]
    },
    {
     "name": "stderr",
     "output_type": "stream",
     "text": [
      " 52%|█████▏    | 522/1000 [01:42<01:34,  5.03it/s, Energy=-2.105842+0.000000j ± 0.000015 [σ²=0.000000]]"
     ]
    },
    {
     "name": "stdout",
     "output_type": "stream",
     "text": [
      "compute_update  0.039453744888305664\n",
      "(0.049858429519144334+0j)\n",
      "n_discard =  144\n",
      "discard samples 0.0796666145324707\n",
      "n_samples_node =  1000\n",
      "generate_samples :  0.06561112403869629\n",
      "     prepare getting local values 0.0034842491149902344\n",
      "     obtained local values 0.010050296783447266\n",
      "get_mc_stats 0.012090206146240234\n"
     ]
    },
    {
     "name": "stderr",
     "output_type": "stream",
     "text": [
      " 52%|█████▏    | 523/1000 [01:42<01:34,  5.05it/s, Energy=-2.105861+0.000000j ± 0.000019 [σ²=0.000000]]"
     ]
    },
    {
     "name": "stdout",
     "output_type": "stream",
     "text": [
      "--->> cal O and jac  0.033040523529052734\n",
      "compute_update  0.036376953125\n",
      "(0.04987742589733447+0j)\n",
      "n_discard =  144\n",
      "discard samples 0.07722711563110352\n",
      "n_samples_node =  1000\n",
      "generate_samples :  0.0695943832397461\n",
      "     prepare getting local values 0.0032112598419189453\n",
      "     obtained local values 0.008227825164794922\n",
      "get_mc_stats 0.01108694076538086\n"
     ]
    },
    {
     "name": "stderr",
     "output_type": "stream",
     "text": [
      " 52%|█████▏    | 524/1000 [01:42<01:34,  5.03it/s, Energy=-2.105866+0.000000j ± 0.000018 [σ²=0.000000]]"
     ]
    },
    {
     "name": "stdout",
     "output_type": "stream",
     "text": [
      "--->> cal O and jac  0.038330793380737305\n",
      "compute_update  0.04044747352600098\n",
      "(0.04989635539044292+0j)\n",
      "n_discard =  144\n",
      "discard samples 0.0786733627319336\n",
      "n_samples_node =  1000\n",
      "generate_samples :  0.07490897178649902\n",
      "     prepare getting local values 0.0027740001678466797\n",
      "     obtained local values 0.008929729461669922\n",
      "get_mc_stats 0.012095212936401367\n"
     ]
    },
    {
     "name": "stderr",
     "output_type": "stream",
     "text": [
      " 52%|█████▎    | 525/1000 [01:43<01:34,  5.00it/s, Energy=-2.105850+0.000000j ± 0.000021 [σ²=0.000000]]"
     ]
    },
    {
     "name": "stdout",
     "output_type": "stream",
     "text": [
      "--->> cal O and jac  0.0312652587890625\n",
      "compute_update  0.03455400466918945\n",
      "(0.04991372447845964+0j)\n",
      "n_discard =  144\n",
      "discard samples 0.07825350761413574\n",
      "n_samples_node =  1000\n",
      "generate_samples :  0.07338070869445801\n",
      "     prepare getting local values 0.0030219554901123047\n",
      "     obtained local values 0.009227752685546875\n",
      "get_mc_stats 0.013419389724731445\n",
      "--->> cal O and jac  0.02965712547302246\n"
     ]
    },
    {
     "name": "stderr",
     "output_type": "stream",
     "text": [
      " 53%|█████▎    | 526/1000 [01:43<01:34,  5.01it/s, Energy=-2.105842+0.000000j ± 0.000025 [σ²=0.000000]]"
     ]
    },
    {
     "name": "stdout",
     "output_type": "stream",
     "text": [
      "compute_update  0.032216787338256836\n",
      "(0.04993020472512676+0j)\n",
      "n_discard =  144\n",
      "discard samples 0.07458782196044922\n",
      "n_samples_node =  1000\n",
      "generate_samples :  0.07286643981933594\n",
      "     prepare getting local values 0.0017344951629638672\n",
      "     obtained local values 0.005271434783935547\n",
      "get_mc_stats 0.007457256317138672\n"
     ]
    },
    {
     "name": "stderr",
     "output_type": "stream",
     "text": [
      " 53%|█████▎    | 527/1000 [01:43<01:33,  5.07it/s, Energy=-2.105820+0.000000j ± 0.000020 [σ²=0.000000]]"
     ]
    },
    {
     "name": "stdout",
     "output_type": "stream",
     "text": [
      "--->> cal O and jac  0.03214144706726074\n",
      "compute_update  0.03525829315185547\n",
      "(0.049947621308631174+0j)\n",
      "n_discard =  144\n",
      "discard samples 0.08556056022644043\n",
      "n_samples_node =  1000\n",
      "generate_samples :  0.06941676139831543\n",
      "     prepare getting local values 0.003962039947509766\n",
      "     obtained local values 0.009569168090820312\n",
      "get_mc_stats 0.012928009033203125\n"
     ]
    },
    {
     "name": "stderr",
     "output_type": "stream",
     "text": [
      " 53%|█████▎    | 528/1000 [01:43<01:34,  4.98it/s, Energy=-2.105824+0.000000j ± 0.000017 [σ²=0.000000]]"
     ]
    },
    {
     "name": "stdout",
     "output_type": "stream",
     "text": [
      "--->> cal O and jac  0.03435373306274414\n",
      "compute_update  0.03798484802246094\n",
      "(0.04996323886775855+0j)\n",
      "n_discard =  144\n",
      "discard samples 0.0778191089630127\n",
      "n_samples_node =  1000\n",
      "generate_samples :  0.06962728500366211\n",
      "     prepare getting local values 0.0038099288940429688\n",
      "     obtained local values 0.008763551712036133\n",
      "get_mc_stats 0.012361288070678711\n",
      "--->> cal O and jac  0.033236026763916016\n"
     ]
    },
    {
     "name": "stderr",
     "output_type": "stream",
     "text": [
      " 53%|█████▎    | 529/1000 [01:43<01:34,  5.01it/s, Energy=-2.105829+0.000000j ± 0.000018 [σ²=0.000000]]"
     ]
    },
    {
     "name": "stdout",
     "output_type": "stream",
     "text": [
      "compute_update  0.03571581840515137\n",
      "(0.04997863287324398+0j)\n",
      "n_discard =  144\n",
      "discard samples 0.08020853996276855\n",
      "n_samples_node =  1000\n",
      "generate_samples :  0.0679478645324707\n",
      "     prepare getting local values 0.004228830337524414\n",
      "     obtained local values 0.008204936981201172\n",
      "get_mc_stats 0.011559247970581055\n"
     ]
    },
    {
     "name": "stderr",
     "output_type": "stream",
     "text": [
      "\r",
      " 53%|█████▎    | 529/1000 [01:44<01:34,  5.01it/s, Energy=-2.105831+0.000000j ± 0.000015 [σ²=0.000000]]"
     ]
    },
    {
     "name": "stdout",
     "output_type": "stream",
     "text": [
      "--->> cal O and jac  0.03380322456359863\n",
      "compute_update  0.03591775894165039\n"
     ]
    },
    {
     "name": "stderr",
     "output_type": "stream",
     "text": [
      "\r",
      " 53%|█████▎    | 530/1000 [01:44<01:33,  5.02it/s, Energy=-2.105831+0.000000j ± 0.000015 [σ²=0.000000]]"
     ]
    },
    {
     "name": "stdout",
     "output_type": "stream",
     "text": [
      "(0.04999335692108072+0j)\n",
      "n_discard =  144\n",
      "discard samples 0.07591843605041504\n",
      "n_samples_node =  1000\n",
      "generate_samples :  0.0739736557006836\n",
      "     prepare getting local values 0.005171298980712891\n",
      "     obtained local values 0.01004481315612793\n",
      "get_mc_stats 0.013392925262451172\n"
     ]
    },
    {
     "name": "stderr",
     "output_type": "stream",
     "text": [
      "\r",
      " 53%|█████▎    | 530/1000 [01:44<01:33,  5.02it/s, Energy=-2.105831+0.000000j ± 0.000021 [σ²=0.000000]]"
     ]
    },
    {
     "name": "stdout",
     "output_type": "stream",
     "text": [
      "--->> cal O and jac  0.033798933029174805\n",
      "compute_update  0.036231040954589844\n"
     ]
    },
    {
     "name": "stderr",
     "output_type": "stream",
     "text": [
      "\r",
      " 53%|█████▎    | 531/1000 [01:44<01:33,  5.01it/s, Energy=-2.105831+0.000000j ± 0.000021 [σ²=0.000000]]"
     ]
    },
    {
     "name": "stdout",
     "output_type": "stream",
     "text": [
      "(0.05000946367211456+0j)\n",
      "n_discard =  144\n",
      "discard samples 0.08469581604003906\n",
      "n_samples_node =  1000\n",
      "generate_samples :  0.07376265525817871\n",
      "     prepare getting local values 0.0017783641815185547\n",
      "     obtained local values 0.00549626350402832\n",
      "get_mc_stats 0.006992340087890625\n",
      "--->> cal O and jac  0.029625415802001953\n"
     ]
    },
    {
     "name": "stderr",
     "output_type": "stream",
     "text": [
      " 53%|█████▎    | 532/1000 [01:44<01:33,  5.00it/s, Energy=-2.105847+0.000000j ± 0.000017 [σ²=0.000000]]"
     ]
    },
    {
     "name": "stdout",
     "output_type": "stream",
     "text": [
      "compute_update  0.03249788284301758\n",
      "(0.050025116476327014+0j)\n",
      "n_discard =  144\n",
      "discard samples 0.07082319259643555\n",
      "n_samples_node =  1000\n",
      "generate_samples :  0.06924152374267578\n",
      "     prepare getting local values 0.0036478042602539062\n",
      "     obtained local values 0.008566856384277344\n",
      "get_mc_stats 0.011673450469970703\n"
     ]
    },
    {
     "name": "stderr",
     "output_type": "stream",
     "text": [
      " 53%|█████▎    | 533/1000 [01:44<01:31,  5.12it/s, Energy=-2.105815+0.000000j ± 0.000021 [σ²=0.000000]]"
     ]
    },
    {
     "name": "stdout",
     "output_type": "stream",
     "text": [
      "--->> cal O and jac  0.02905893325805664\n",
      "compute_update  0.03146505355834961\n",
      "(0.05003896623203016+0j)\n",
      "n_discard =  144\n",
      "discard samples 0.07379627227783203\n",
      "n_samples_node =  1000\n",
      "generate_samples :  0.0710296630859375\n",
      "     prepare getting local values 0.0028967857360839844\n",
      "     obtained local values 0.0072209835052490234\n",
      "get_mc_stats 0.009953975677490234\n"
     ]
    },
    {
     "name": "stderr",
     "output_type": "stream",
     "text": [
      " 53%|█████▎    | 534/1000 [01:44<01:30,  5.13it/s, Energy=-2.105830+0.000000j ± 0.000017 [σ²=0.000000]]"
     ]
    },
    {
     "name": "stdout",
     "output_type": "stream",
     "text": [
      "--->> cal O and jac  0.034620046615600586\n",
      "compute_update  0.0372614860534668\n",
      "(0.05005305220362295+0j)\n",
      "n_discard =  144\n",
      "discard samples 0.07106471061706543\n",
      "n_samples_node =  1000\n",
      "generate_samples :  0.07027530670166016\n",
      "     prepare getting local values 0.0035512447357177734\n",
      "     obtained local values 0.00828409194946289\n",
      "get_mc_stats 0.011549949645996094\n"
     ]
    },
    {
     "name": "stderr",
     "output_type": "stream",
     "text": [
      " 54%|█████▎    | 535/1000 [01:45<01:29,  5.18it/s, Energy=-2.105850+0.000000j ± 0.000020 [σ²=0.000000]]"
     ]
    },
    {
     "name": "stdout",
     "output_type": "stream",
     "text": [
      "--->> cal O and jac  0.030091524124145508\n",
      "compute_update  0.03361701965332031\n",
      "(0.050067641665997704+0j)\n",
      "n_discard =  144\n",
      "discard samples 0.08059978485107422\n",
      "n_samples_node =  1000\n",
      "generate_samples :  0.07285094261169434\n",
      "     prepare getting local values 0.0035247802734375\n",
      "     obtained local values 0.0074498653411865234\n",
      "get_mc_stats 0.010524988174438477\n",
      "--->> cal O and jac  0.03016805648803711\n"
     ]
    },
    {
     "name": "stderr",
     "output_type": "stream",
     "text": [
      " 54%|█████▎    | 536/1000 [01:45<01:30,  5.12it/s, Energy=-2.105845+0.000000j ± 0.000016 [σ²=0.000000]]"
     ]
    },
    {
     "name": "stdout",
     "output_type": "stream",
     "text": [
      "compute_update  0.03330397605895996\n",
      "(0.050081588869582035+0j)\n",
      "n_discard =  144\n",
      "discard samples 0.07446503639221191\n",
      "n_samples_node =  1000\n",
      "generate_samples :  0.07542729377746582\n",
      "     prepare getting local values 0.0036592483520507812\n",
      "     obtained local values 0.007231235504150391\n",
      "get_mc_stats 0.01038980484008789\n"
     ]
    },
    {
     "name": "stderr",
     "output_type": "stream",
     "text": [
      " 54%|█████▎    | 537/1000 [01:45<01:31,  5.04it/s, Energy=-2.105824+0.000000j ± 0.000015 [σ²=0.000000]]"
     ]
    },
    {
     "name": "stdout",
     "output_type": "stream",
     "text": [
      "--->> cal O and jac  0.04066157341003418\n",
      "compute_update  0.04376840591430664\n",
      "(0.05009500732924802+0j)\n",
      "n_discard =  144\n",
      "discard samples 0.07656455039978027\n",
      "n_samples_node =  1000\n",
      "generate_samples :  0.0680084228515625\n",
      "     prepare getting local values 0.00380706787109375\n",
      "     obtained local values 0.009450197219848633\n",
      "get_mc_stats 0.012970924377441406\n"
     ]
    },
    {
     "name": "stderr",
     "output_type": "stream",
     "text": [
      " 54%|█████▍    | 538/1000 [01:45<01:31,  5.06it/s, Energy=-2.105821+0.000000j ± 0.000016 [σ²=0.000000]]"
     ]
    },
    {
     "name": "stdout",
     "output_type": "stream",
     "text": [
      "--->> cal O and jac  0.033429622650146484\n",
      "compute_update  0.03563952445983887\n",
      "(0.0501084618133835+0j)\n",
      "n_discard =  144\n",
      "discard samples 0.07925176620483398\n",
      "n_samples_node =  1000\n",
      "generate_samples :  0.07240939140319824\n",
      "     prepare getting local values 0.0036106109619140625\n",
      "     obtained local values 0.009757041931152344\n",
      "get_mc_stats 0.012953996658325195\n",
      "--->> cal O and jac  0.031043052673339844\n"
     ]
    },
    {
     "name": "stderr",
     "output_type": "stream",
     "text": [
      " 54%|█████▍    | 539/1000 [01:45<01:31,  5.03it/s, Energy=-2.105830+0.000000j ± 0.000016 [σ²=0.000000]]"
     ]
    },
    {
     "name": "stdout",
     "output_type": "stream",
     "text": [
      "compute_update  0.034815311431884766\n",
      "(0.05012149257083007+0j)\n",
      "n_discard =  144\n",
      "discard samples 0.07889008522033691\n",
      "n_samples_node =  1000\n",
      "generate_samples :  0.0756235122680664\n",
      "     prepare getting local values 0.0017366409301757812\n",
      "     obtained local values 0.005233287811279297\n",
      "get_mc_stats 0.006994724273681641\n"
     ]
    },
    {
     "name": "stderr",
     "output_type": "stream",
     "text": [
      "\r",
      " 54%|█████▍    | 539/1000 [01:46<01:31,  5.03it/s, Energy=-2.105849+0.000000j ± 0.000014 [σ²=0.000000]]"
     ]
    },
    {
     "name": "stdout",
     "output_type": "stream",
     "text": [
      "--->> cal O and jac  0.0346219539642334\n",
      "compute_update  0.036630868911743164\n"
     ]
    },
    {
     "name": "stderr",
     "output_type": "stream",
     "text": [
      "\r",
      " 54%|█████▍    | 540/1000 [01:46<01:31,  5.01it/s, Energy=-2.105849+0.000000j ± 0.000014 [σ²=0.000000]]"
     ]
    },
    {
     "name": "stdout",
     "output_type": "stream",
     "text": [
      "(0.05013478137435122+0j)\n",
      "n_discard =  144\n",
      "discard samples 0.07890653610229492\n",
      "n_samples_node =  1000\n",
      "generate_samples :  0.07092738151550293\n",
      "     prepare getting local values 0.0035440921783447266\n",
      "     obtained local values 0.007849693298339844\n",
      "get_mc_stats 0.010599136352539062\n",
      "--->> cal O and jac  0.034128427505493164\n"
     ]
    },
    {
     "name": "stderr",
     "output_type": "stream",
     "text": [
      "\r",
      " 54%|█████▍    | 540/1000 [01:46<01:31,  5.01it/s, Energy=-2.105860+0.000000j ± 0.000014 [σ²=0.000000]]"
     ]
    },
    {
     "name": "stdout",
     "output_type": "stream",
     "text": [
      "compute_update  0.038648366928100586\n"
     ]
    },
    {
     "name": "stderr",
     "output_type": "stream",
     "text": [
      "\r",
      " 54%|█████▍    | 541/1000 [01:46<01:31,  5.00it/s, Energy=-2.105860+0.000000j ± 0.000014 [σ²=0.000000]]"
     ]
    },
    {
     "name": "stdout",
     "output_type": "stream",
     "text": [
      "(0.05014827871905449+0j)\n",
      "n_discard =  144\n",
      "discard samples 0.07403087615966797\n",
      "n_samples_node =  1000\n",
      "generate_samples :  0.07188129425048828\n",
      "     prepare getting local values 0.0022230148315429688\n",
      "     obtained local values 0.005786895751953125\n",
      "get_mc_stats 0.008387565612792969\n"
     ]
    },
    {
     "name": "stderr",
     "output_type": "stream",
     "text": [
      " 54%|█████▍    | 542/1000 [01:46<01:30,  5.08it/s, Energy=-2.105843+0.000000j ± 0.000017 [σ²=0.000000]]"
     ]
    },
    {
     "name": "stdout",
     "output_type": "stream",
     "text": [
      "--->> cal O and jac  0.031009674072265625\n",
      "compute_update  0.03290581703186035\n",
      "(0.05016111917233594+0j)\n",
      "n_discard =  144\n",
      "discard samples 0.0726170539855957\n",
      "n_samples_node =  1000\n",
      "generate_samples :  0.0736534595489502\n",
      "     prepare getting local values 0.001758575439453125\n",
      "     obtained local values 0.0075418949127197266\n",
      "get_mc_stats 0.009938478469848633\n"
     ]
    },
    {
     "name": "stderr",
     "output_type": "stream",
     "text": [
      " 54%|█████▍    | 543/1000 [01:46<01:30,  5.07it/s, Energy=-2.105816+0.000000j ± 0.000016 [σ²=0.000000]]"
     ]
    },
    {
     "name": "stdout",
     "output_type": "stream",
     "text": [
      "--->> cal O and jac  0.036501169204711914\n",
      "compute_update  0.03959918022155762\n",
      "(0.05017327865466633+0j)\n",
      "n_discard =  144\n",
      "discard samples 0.0734102725982666\n",
      "n_samples_node =  1000\n",
      "generate_samples :  0.07222914695739746\n",
      "     prepare getting local values 0.003934144973754883\n",
      "     obtained local values 0.007582902908325195\n",
      "get_mc_stats 0.010884284973144531\n"
     ]
    },
    {
     "name": "stderr",
     "output_type": "stream",
     "text": [
      " 54%|█████▍    | 544/1000 [01:46<01:29,  5.10it/s, Energy=-2.105827+0.000000j ± 0.000022 [σ²=0.000000]]"
     ]
    },
    {
     "name": "stdout",
     "output_type": "stream",
     "text": [
      "--->> cal O and jac  0.0325162410736084\n",
      "compute_update  0.034822702407836914\n",
      "(0.05018560386204104+0j)\n",
      "n_discard =  144\n",
      "discard samples 0.07866668701171875\n",
      "n_samples_node =  1000\n",
      "generate_samples :  0.06606769561767578\n",
      "     prepare getting local values 0.0017228126525878906\n",
      "     obtained local values 0.005129575729370117\n",
      "get_mc_stats 0.0073702335357666016\n"
     ]
    },
    {
     "name": "stderr",
     "output_type": "stream",
     "text": [
      " 55%|█████▍    | 545/1000 [01:47<01:28,  5.17it/s, Energy=-2.105867+0.000000j ± 0.000017 [σ²=0.000000]]"
     ]
    },
    {
     "name": "stdout",
     "output_type": "stream",
     "text": [
      "--->> cal O and jac  0.030983686447143555\n",
      "compute_update  0.03356361389160156\n",
      "(0.05019818533205136+0j)\n",
      "n_discard =  144\n",
      "discard samples 0.0931546688079834\n",
      "n_samples_node =  1000\n",
      "generate_samples :  0.07219672203063965\n",
      "     prepare getting local values 0.002923250198364258\n",
      "     obtained local values 0.009078502655029297\n",
      "get_mc_stats 0.012198448181152344\n"
     ]
    },
    {
     "name": "stderr",
     "output_type": "stream",
     "text": [
      " 55%|█████▍    | 546/1000 [01:47<01:30,  5.04it/s, Energy=-2.105828+0.000000j ± 0.000018 [σ²=0.000000]]"
     ]
    },
    {
     "name": "stdout",
     "output_type": "stream",
     "text": [
      "--->> cal O and jac  0.028380393981933594\n",
      "compute_update  0.030313968658447266\n",
      "(0.05021006576845775+0j)\n",
      "n_discard =  144\n",
      "discard samples 0.08034968376159668\n",
      "n_samples_node =  1000\n",
      "generate_samples :  0.0715494155883789\n",
      "     prepare getting local values 0.0028858184814453125\n",
      "     obtained local values 0.009160995483398438\n",
      "get_mc_stats 0.01205134391784668\n"
     ]
    },
    {
     "name": "stderr",
     "output_type": "stream",
     "text": [
      " 55%|█████▍    | 547/1000 [01:47<01:29,  5.05it/s, Energy=-2.105825+0.000000j ± 0.000016 [σ²=0.000000]]"
     ]
    },
    {
     "name": "stdout",
     "output_type": "stream",
     "text": [
      "--->> cal O and jac  0.029771804809570312\n",
      "compute_update  0.031759023666381836\n",
      "(0.050222126053535196+0j)\n",
      "n_discard =  144\n",
      "discard samples 0.07591605186462402\n",
      "n_samples_node =  1000\n",
      "generate_samples :  0.07219076156616211\n",
      "     prepare getting local values 0.003564596176147461\n",
      "     obtained local values 0.007923364639282227\n",
      "get_mc_stats 0.010975360870361328\n"
     ]
    },
    {
     "name": "stderr",
     "output_type": "stream",
     "text": [
      " 55%|█████▍    | 548/1000 [01:47<01:28,  5.09it/s, Energy=-2.105825+0.000000j ± 0.000019 [σ²=0.000000]]"
     ]
    },
    {
     "name": "stdout",
     "output_type": "stream",
     "text": [
      "--->> cal O and jac  0.02891850471496582\n",
      "compute_update  0.03151345252990723\n",
      "(0.05023383662752617+0j)\n",
      "n_discard =  144\n",
      "discard samples 0.07433915138244629\n",
      "n_samples_node =  1000\n",
      "generate_samples :  0.0703895092010498\n",
      "     prepare getting local values 0.003475666046142578\n",
      "     obtained local values 0.009311914443969727\n",
      "get_mc_stats 0.012390851974487305\n"
     ]
    },
    {
     "name": "stderr",
     "output_type": "stream",
     "text": [
      " 55%|█████▍    | 549/1000 [01:47<01:27,  5.14it/s, Energy=-2.105805+0.000000j ± 0.000017 [σ²=0.000000]]"
     ]
    },
    {
     "name": "stdout",
     "output_type": "stream",
     "text": [
      "--->> cal O and jac  0.028855562210083008\n",
      "compute_update  0.03126215934753418\n",
      "(0.05024545697369529+0j)\n",
      "n_discard =  144\n",
      "discard samples 0.07533860206604004\n",
      "n_samples_node =  1000\n",
      "generate_samples :  0.06816339492797852\n",
      "     prepare getting local values 0.0036318302154541016\n",
      "     obtained local values 0.008763313293457031\n",
      "get_mc_stats 0.011885881423950195\n"
     ]
    },
    {
     "name": "stderr",
     "output_type": "stream",
     "text": [
      " 55%|█████▌    | 550/1000 [01:48<01:27,  5.14it/s, Energy=-2.105831+0.000000j ± 0.000015 [σ²=0.000000]]"
     ]
    },
    {
     "name": "stdout",
     "output_type": "stream",
     "text": [
      "--->> cal O and jac  0.03482341766357422\n",
      "compute_update  0.03712344169616699\n",
      "(0.050257324909105026+0j)\n",
      "n_discard =  144\n",
      "discard samples 0.07912111282348633\n",
      "n_samples_node =  1000\n",
      "generate_samples :  0.07189559936523438\n",
      "     prepare getting local values 0.0035202503204345703\n",
      "     obtained local values 0.007704734802246094\n",
      "get_mc_stats 0.010793685913085938\n"
     ]
    },
    {
     "name": "stderr",
     "output_type": "stream",
     "text": [
      " 55%|█████▌    | 551/1000 [01:48<01:27,  5.12it/s, Energy=-2.105805+0.000000j ± 0.000019 [σ²=0.000000]]"
     ]
    },
    {
     "name": "stdout",
     "output_type": "stream",
     "text": [
      "--->> cal O and jac  0.03006148338317871\n",
      "compute_update  0.03289389610290527\n",
      "(0.05026884975477176+0j)\n",
      "n_discard =  144\n",
      "discard samples 0.07413148880004883\n",
      "n_samples_node =  1000\n",
      "generate_samples :  0.07297325134277344\n",
      "     prepare getting local values 0.0016875267028808594\n",
      "     obtained local values 0.005087614059448242\n",
      "get_mc_stats 0.0074100494384765625\n"
     ]
    },
    {
     "name": "stderr",
     "output_type": "stream",
     "text": [
      " 55%|█████▌    | 552/1000 [01:48<01:27,  5.13it/s, Energy=-2.105838+0.000000j ± 0.000013 [σ²=0.000000]]"
     ]
    },
    {
     "name": "stdout",
     "output_type": "stream",
     "text": [
      "--->> cal O and jac  0.03555583953857422\n",
      "compute_update  0.03763437271118164\n",
      "(0.0502810823847408+0j)\n",
      "n_discard =  144\n",
      "discard samples 0.07579278945922852\n",
      "n_samples_node =  1000\n",
      "generate_samples :  0.07443785667419434\n",
      "     prepare getting local values 0.003686666488647461\n",
      "     obtained local values 0.008487224578857422\n",
      "get_mc_stats 0.011317253112792969\n"
     ]
    },
    {
     "name": "stderr",
     "output_type": "stream",
     "text": [
      " 55%|█████▌    | 553/1000 [01:48<01:28,  5.05it/s, Energy=-2.105828+0.000000j ± 0.000016 [σ²=0.000000]]"
     ]
    },
    {
     "name": "stdout",
     "output_type": "stream",
     "text": [
      "--->> cal O and jac  0.03801894187927246\n",
      "compute_update  0.04093813896179199\n",
      "(0.05029306187938714+0j)\n",
      "n_discard =  144\n",
      "discard samples 0.07389092445373535\n",
      "n_samples_node =  1000\n",
      "generate_samples :  0.0713036060333252\n",
      "     prepare getting local values 0.0033555030822753906\n",
      "     obtained local values 0.009631872177124023\n",
      "get_mc_stats 0.012523174285888672\n"
     ]
    },
    {
     "name": "stderr",
     "output_type": "stream",
     "text": [
      " 55%|█████▌    | 554/1000 [01:48<01:27,  5.08it/s, Energy=-2.105845+0.000000j ± 0.000018 [σ²=0.000000]]"
     ]
    },
    {
     "name": "stdout",
     "output_type": "stream",
     "text": [
      "--->> cal O and jac  0.031187057495117188\n",
      "compute_update  0.034712791442871094\n",
      "(0.05030430632201109+0j)\n",
      "n_discard =  144\n",
      "discard samples 0.08525466918945312\n",
      "n_samples_node =  1000\n",
      "generate_samples :  0.06953310966491699\n",
      "     prepare getting local values 0.003652334213256836\n",
      "     obtained local values 0.0071506500244140625\n",
      "get_mc_stats 0.010393619537353516\n"
     ]
    },
    {
     "name": "stderr",
     "output_type": "stream",
     "text": [
      " 56%|█████▌    | 555/1000 [01:49<01:28,  5.05it/s, Energy=-2.105840+0.000000j ± 0.000016 [σ²=0.000000]]"
     ]
    },
    {
     "name": "stdout",
     "output_type": "stream",
     "text": [
      "--->> cal O and jac  0.03132009506225586\n",
      "compute_update  0.03326773643493652\n",
      "(0.0503155605144292+0j)\n",
      "n_discard =  144\n",
      "discard samples 0.07572054862976074\n",
      "n_samples_node =  1000\n",
      "generate_samples :  0.07139420509338379\n",
      "     prepare getting local values 0.003570079803466797\n",
      "     obtained local values 0.010366201400756836\n",
      "get_mc_stats 0.013467073440551758\n",
      "--->> cal O and jac  0.03673291206359863\n"
     ]
    },
    {
     "name": "stderr",
     "output_type": "stream",
     "text": [
      " 56%|█████▌    | 556/1000 [01:49<01:28,  5.02it/s, Energy=-2.105834+0.000000j ± 0.000014 [σ²=0.000000]]"
     ]
    },
    {
     "name": "stdout",
     "output_type": "stream",
     "text": [
      "compute_update  0.03964972496032715\n",
      "(0.05032656953176475+0j)\n",
      "n_discard =  144\n",
      "discard samples 0.08234834671020508\n",
      "n_samples_node =  1000\n",
      "generate_samples :  0.07691788673400879\n",
      "     prepare getting local values 0.0030264854431152344\n",
      "     obtained local values 0.009358644485473633\n",
      "get_mc_stats 0.01172637939453125\n"
     ]
    },
    {
     "name": "stderr",
     "output_type": "stream",
     "text": [
      " 56%|█████▌    | 557/1000 [01:49<01:30,  4.92it/s, Energy=-2.105825+0.000000j ± 0.000014 [σ²=0.000000]]"
     ]
    },
    {
     "name": "stdout",
     "output_type": "stream",
     "text": [
      "--->> cal O and jac  0.03609299659729004\n",
      "compute_update  0.039774417877197266\n",
      "(0.050338255692936325+0j)\n",
      "n_discard =  144\n",
      "discard samples 0.07489657402038574\n",
      "n_samples_node =  1000\n",
      "generate_samples :  0.07095861434936523\n",
      "     prepare getting local values 0.0036613941192626953\n",
      "     obtained local values 0.007268667221069336\n",
      "get_mc_stats 0.01083230972290039\n"
     ]
    },
    {
     "name": "stderr",
     "output_type": "stream",
     "text": [
      " 56%|█████▌    | 558/1000 [01:49<01:28,  4.98it/s, Energy=-2.105805+0.000000j ± 0.000016 [σ²=0.000000]]"
     ]
    },
    {
     "name": "stdout",
     "output_type": "stream",
     "text": [
      "--->> cal O and jac  0.03260302543640137\n",
      "compute_update  0.036285400390625\n",
      "(0.05034900814357738+0j)\n",
      "n_discard =  144\n",
      "discard samples 0.0779421329498291\n",
      "n_samples_node =  1000\n",
      "generate_samples :  0.07159996032714844\n",
      "     prepare getting local values 0.0037260055541992188\n",
      "     obtained local values 0.009749889373779297\n",
      "get_mc_stats 0.012816667556762695\n"
     ]
    },
    {
     "name": "stderr",
     "output_type": "stream",
     "text": [
      "\r",
      " 56%|█████▌    | 558/1000 [01:49<01:28,  4.98it/s, Energy=-2.105831+0.000000j ± 0.000013 [σ²=0.000000]]"
     ]
    },
    {
     "name": "stdout",
     "output_type": "stream",
     "text": [
      "--->> cal O and jac  0.029100656509399414\n",
      "compute_update  0.03229951858520508\n"
     ]
    },
    {
     "name": "stderr",
     "output_type": "stream",
     "text": [
      "\r",
      " 56%|█████▌    | 559/1000 [01:49<01:28,  5.01it/s, Energy=-2.105831+0.000000j ± 0.000013 [σ²=0.000000]]"
     ]
    },
    {
     "name": "stdout",
     "output_type": "stream",
     "text": [
      "(0.05036010514253914+0j)\n",
      "n_discard =  144\n",
      "discard samples 0.07809567451477051\n",
      "n_samples_node =  1000\n",
      "generate_samples :  0.0715174674987793\n",
      "     prepare getting local values 0.003746509552001953\n",
      "     obtained local values 0.009162187576293945\n",
      "get_mc_stats 0.012070894241333008\n",
      "--->> cal O and jac  0.03315877914428711\n"
     ]
    },
    {
     "name": "stderr",
     "output_type": "stream",
     "text": [
      "\r",
      " 56%|█████▌    | 559/1000 [01:50<01:28,  5.01it/s, Energy=-2.105832+0.000000j ± 0.000014 [σ²=0.000000]]"
     ]
    },
    {
     "name": "stdout",
     "output_type": "stream",
     "text": [
      "compute_update  0.037154436111450195\n"
     ]
    },
    {
     "name": "stderr",
     "output_type": "stream",
     "text": [
      "\r",
      " 56%|█████▌    | 560/1000 [01:50<01:28,  4.99it/s, Energy=-2.105832+0.000000j ± 0.000014 [σ²=0.000000]]"
     ]
    },
    {
     "name": "stdout",
     "output_type": "stream",
     "text": [
      "(0.05037042921694476+0j)\n",
      "n_discard =  144\n",
      "discard samples 0.07815217971801758\n",
      "n_samples_node =  1000\n",
      "generate_samples :  0.07094049453735352\n",
      "     prepare getting local values 0.0033369064331054688\n",
      "     obtained local values 0.009546756744384766\n",
      "get_mc_stats 0.01277017593383789\n"
     ]
    },
    {
     "name": "stderr",
     "output_type": "stream",
     "text": [
      "\r",
      " 56%|█████▌    | 560/1000 [01:50<01:28,  4.99it/s, Energy=-2.105848+0.000000j ± 0.000013 [σ²=0.000000]]"
     ]
    },
    {
     "name": "stdout",
     "output_type": "stream",
     "text": [
      "--->> cal O and jac  0.03317856788635254\n",
      "compute_update  0.03570151329040527\n"
     ]
    },
    {
     "name": "stderr",
     "output_type": "stream",
     "text": [
      "\r",
      " 56%|█████▌    | 561/1000 [01:50<01:27,  4.99it/s, Energy=-2.105848+0.000000j ± 0.000013 [σ²=0.000000]]"
     ]
    },
    {
     "name": "stdout",
     "output_type": "stream",
     "text": [
      "(0.050381178434289235+0j)\n",
      "n_discard =  144\n",
      "discard samples 0.07769227027893066\n",
      "n_samples_node =  1000\n",
      "generate_samples :  0.07384896278381348\n",
      "     prepare getting local values 0.0029587745666503906\n",
      "     obtained local values 0.007232189178466797\n",
      "get_mc_stats 0.009790897369384766\n"
     ]
    },
    {
     "name": "stderr",
     "output_type": "stream",
     "text": [
      " 56%|█████▌    | 562/1000 [01:50<01:28,  4.94it/s, Energy=-2.105840+0.000000j ± 0.000015 [σ²=0.000000]]"
     ]
    },
    {
     "name": "stdout",
     "output_type": "stream",
     "text": [
      "--->> cal O and jac  0.04026007652282715\n",
      "compute_update  0.04356837272644043\n",
      "(0.05039245362605273+0j)\n",
      "n_discard =  144\n",
      "discard samples 0.07835268974304199\n",
      "n_samples_node =  1000\n",
      "generate_samples :  0.07465982437133789\n",
      "     prepare getting local values 0.0017104148864746094\n",
      "     obtained local values 0.005048513412475586\n",
      "get_mc_stats 0.0071697235107421875\n"
     ]
    },
    {
     "name": "stderr",
     "output_type": "stream",
     "text": [
      " 56%|█████▋    | 563/1000 [01:50<01:27,  4.99it/s, Energy=-2.105803+0.000000j ± 0.000016 [σ²=0.000000]]"
     ]
    },
    {
     "name": "stdout",
     "output_type": "stream",
     "text": [
      "--->> cal O and jac  0.0314183235168457\n",
      "compute_update  0.03355979919433594\n",
      "(0.050403417081997824+0j)\n",
      "n_discard =  144\n",
      "discard samples 0.07744026184082031\n",
      "n_samples_node =  1000\n",
      "generate_samples :  0.07404518127441406\n",
      "     prepare getting local values 0.0034427642822265625\n",
      "     obtained local values 0.0068433284759521484\n",
      "get_mc_stats 0.010170459747314453\n"
     ]
    },
    {
     "name": "stderr",
     "output_type": "stream",
     "text": [
      " 56%|█████▋    | 564/1000 [01:50<01:27,  4.98it/s, Energy=-2.105812+0.000000j ± 0.000012 [σ²=0.000000]]"
     ]
    },
    {
     "name": "stdout",
     "output_type": "stream",
     "text": [
      "--->> cal O and jac  0.03620576858520508\n",
      "compute_update  0.03827238082885742\n",
      "(0.050415245918091184+0j)\n",
      "n_discard =  144\n",
      "discard samples 0.07886099815368652\n",
      "n_samples_node =  1000\n",
      "generate_samples :  0.0695796012878418\n",
      "     prepare getting local values 0.0032579898834228516\n",
      "     obtained local values 0.008977413177490234\n",
      "get_mc_stats 0.011972188949584961\n",
      "--->> cal O and jac  0.036516427993774414\n"
     ]
    },
    {
     "name": "stderr",
     "output_type": "stream",
     "text": [
      " 56%|█████▋    | 565/1000 [01:51<01:27,  4.98it/s, Energy=-2.105852+0.000000j ± 0.000012 [σ²=0.000000]]"
     ]
    },
    {
     "name": "stdout",
     "output_type": "stream",
     "text": [
      "compute_update  0.038983821868896484\n",
      "(0.050426243618967075+0j)\n",
      "n_discard =  144\n",
      "discard samples 0.07449841499328613\n",
      "n_samples_node =  1000\n",
      "generate_samples :  0.0732889175415039\n",
      "     prepare getting local values 0.0031507015228271484\n",
      "     obtained local values 0.009412527084350586\n",
      "get_mc_stats 0.012683868408203125\n"
     ]
    },
    {
     "name": "stderr",
     "output_type": "stream",
     "text": [
      "\r",
      " 56%|█████▋    | 565/1000 [01:51<01:27,  4.98it/s, Energy=-2.105843+0.000000j ± 0.000012 [σ²=0.000000]]"
     ]
    },
    {
     "name": "stdout",
     "output_type": "stream",
     "text": [
      "--->> cal O and jac  0.03242087364196777\n",
      "compute_update  0.03582620620727539\n"
     ]
    },
    {
     "name": "stderr",
     "output_type": "stream",
     "text": [
      "\r",
      " 57%|█████▋    | 566/1000 [01:51<01:26,  5.00it/s, Energy=-2.105843+0.000000j ± 0.000012 [σ²=0.000000]]"
     ]
    },
    {
     "name": "stdout",
     "output_type": "stream",
     "text": [
      "(0.050437151002457076+0j)\n",
      "n_discard =  144\n",
      "discard samples 0.07982206344604492\n",
      "n_samples_node =  1000\n",
      "generate_samples :  0.0678853988647461\n",
      "     prepare getting local values 0.0021028518676757812\n",
      "     obtained local values 0.005606889724731445\n",
      "get_mc_stats 0.007383584976196289\n"
     ]
    },
    {
     "name": "stderr",
     "output_type": "stream",
     "text": [
      "\r",
      " 57%|█████▋    | 566/1000 [01:51<01:26,  5.00it/s, Energy=-2.105854+0.000000j ± 0.000016 [σ²=0.000000]]"
     ]
    },
    {
     "name": "stdout",
     "output_type": "stream",
     "text": [
      "--->> cal O and jac  0.0360865592956543\n",
      "compute_update  0.03948211669921875\n"
     ]
    },
    {
     "name": "stderr",
     "output_type": "stream",
     "text": [
      "\r",
      " 57%|█████▋    | 567/1000 [01:51<01:26,  5.02it/s, Energy=-2.105854+0.000000j ± 0.000016 [σ²=0.000000]]"
     ]
    },
    {
     "name": "stdout",
     "output_type": "stream",
     "text": [
      "(0.05044773728825518+0j)\n",
      "n_discard =  144\n",
      "discard samples 0.07759428024291992\n",
      "n_samples_node =  1000\n",
      "generate_samples :  0.07116556167602539\n",
      "     prepare getting local values 0.0041348934173583984\n",
      "     obtained local values 0.00789189338684082\n",
      "get_mc_stats 0.011127471923828125\n"
     ]
    },
    {
     "name": "stderr",
     "output_type": "stream",
     "text": [
      " 57%|█████▋    | 568/1000 [01:51<01:25,  5.04it/s, Energy=-2.105824+0.000000j ± 0.000011 [σ²=0.000000]]"
     ]
    },
    {
     "name": "stdout",
     "output_type": "stream",
     "text": [
      "--->> cal O and jac  0.03191637992858887\n",
      "compute_update  0.0341336727142334\n",
      "(0.05045795375815426+0j)\n",
      "n_discard =  144\n",
      "discard samples 0.07178354263305664\n",
      "n_samples_node =  1000\n",
      "generate_samples :  0.07293033599853516\n",
      "     prepare getting local values 0.0031147003173828125\n",
      "     obtained local values 0.008613348007202148\n",
      "get_mc_stats 0.011980772018432617\n"
     ]
    },
    {
     "name": "stderr",
     "output_type": "stream",
     "text": [
      " 57%|█████▋    | 569/1000 [01:51<01:25,  5.05it/s, Energy=-2.105829+0.000000j ± 0.000010 [σ²=0.000000]]"
     ]
    },
    {
     "name": "stdout",
     "output_type": "stream",
     "text": [
      "--->> cal O and jac  0.035993099212646484\n",
      "compute_update  0.03822064399719238\n",
      "(0.050467964222190534+0j)\n",
      "n_discard =  144\n",
      "discard samples 0.07588863372802734\n",
      "n_samples_node =  1000\n",
      "generate_samples :  0.06970095634460449\n",
      "     prepare getting local values 0.0017778873443603516\n",
      "     obtained local values 0.0053632259368896484\n",
      "get_mc_stats 0.0071451663970947266\n"
     ]
    },
    {
     "name": "stderr",
     "output_type": "stream",
     "text": [
      " 57%|█████▋    | 570/1000 [01:52<01:24,  5.08it/s, Energy=-2.105811+0.000000j ± 0.000012 [σ²=0.000000]]"
     ]
    },
    {
     "name": "stdout",
     "output_type": "stream",
     "text": [
      "--->> cal O and jac  0.03684067726135254\n",
      "compute_update  0.03912639617919922\n",
      "(0.05047853859287991+0j)\n",
      "n_discard =  144\n",
      "discard samples 0.0796058177947998\n",
      "n_samples_node =  1000\n",
      "generate_samples :  0.07093477249145508\n",
      "     prepare getting local values 0.003184080123901367\n",
      "     obtained local values 0.009435415267944336\n",
      "get_mc_stats 0.012243270874023438\n"
     ]
    },
    {
     "name": "stderr",
     "output_type": "stream",
     "text": [
      " 57%|█████▋    | 571/1000 [01:52<01:24,  5.09it/s, Energy=-2.105819+0.000000j ± 0.000013 [σ²=0.000000]]"
     ]
    },
    {
     "name": "stdout",
     "output_type": "stream",
     "text": [
      "--->> cal O and jac  0.029210567474365234\n",
      "compute_update  0.031090259552001953\n",
      "(0.050488548584787296+0j)\n",
      "n_discard =  144\n",
      "discard samples 0.07474565505981445\n",
      "n_samples_node =  1000\n",
      "generate_samples :  0.07204532623291016\n",
      "     prepare getting local values 0.003495454788208008\n",
      "     obtained local values 0.009923219680786133\n",
      "get_mc_stats 0.013129949569702148\n"
     ]
    },
    {
     "name": "stderr",
     "output_type": "stream",
     "text": [
      " 57%|█████▋    | 572/1000 [01:52<01:23,  5.12it/s, Energy=-2.105828+0.000000j ± 0.000018 [σ²=0.000000]]"
     ]
    },
    {
     "name": "stdout",
     "output_type": "stream",
     "text": [
      "--->> cal O and jac  0.027334928512573242\n",
      "compute_update  0.03018784523010254\n",
      "(0.050498822922624524+0j)\n",
      "n_discard =  144\n",
      "discard samples 0.08561420440673828\n",
      "n_samples_node =  1000\n",
      "generate_samples :  0.07395458221435547\n",
      "     prepare getting local values 0.001756429672241211\n",
      "     obtained local values 0.005145072937011719\n",
      "get_mc_stats 0.00690460205078125\n"
     ]
    },
    {
     "name": "stderr",
     "output_type": "stream",
     "text": [
      " 57%|█████▋    | 573/1000 [01:52<01:24,  5.05it/s, Energy=-2.105825+0.000000j ± 0.000012 [σ²=0.000000]]"
     ]
    },
    {
     "name": "stdout",
     "output_type": "stream",
     "text": [
      "--->> cal O and jac  0.033550262451171875\n",
      "compute_update  0.0356447696685791\n",
      "(0.05050868358317826+0j)\n",
      "n_discard =  144\n",
      "discard samples 0.07680106163024902\n",
      "n_samples_node =  1000\n",
      "generate_samples :  0.07677340507507324\n",
      "     prepare getting local values 0.004081010818481445\n",
      "     obtained local values 0.00939488410949707\n",
      "get_mc_stats 0.013002395629882812\n"
     ]
    },
    {
     "name": "stderr",
     "output_type": "stream",
     "text": [
      " 57%|█████▋    | 574/1000 [01:52<01:25,  5.01it/s, Energy=-2.105816+0.000000j ± 0.000014 [σ²=0.000000]]"
     ]
    },
    {
     "name": "stdout",
     "output_type": "stream",
     "text": [
      "--->> cal O and jac  0.03187131881713867\n",
      "compute_update  0.034180402755737305\n",
      "(0.05051727820493378+0j)\n",
      "n_discard =  144\n",
      "discard samples 0.07398200035095215\n",
      "n_samples_node =  1000\n",
      "generate_samples :  0.07135748863220215\n",
      "     prepare getting local values 0.0036492347717285156\n",
      "     obtained local values 0.00880885124206543\n",
      "get_mc_stats 0.011896133422851562\n"
     ]
    },
    {
     "name": "stderr",
     "output_type": "stream",
     "text": [
      " 57%|█████▊    | 575/1000 [01:53<01:24,  5.03it/s, Energy=-2.105826+0.000000j ± 0.000013 [σ²=0.000000]]"
     ]
    },
    {
     "name": "stdout",
     "output_type": "stream",
     "text": [
      "--->> cal O and jac  0.03430056571960449\n",
      "compute_update  0.037908315658569336\n",
      "(0.05052627932235617+0j)\n",
      "n_discard =  144\n",
      "discard samples 0.07935476303100586\n",
      "n_samples_node =  1000\n",
      "generate_samples :  0.07072615623474121\n",
      "     prepare getting local values 0.00395512580871582\n",
      "     obtained local values 0.009753227233886719\n",
      "get_mc_stats 0.012850761413574219\n"
     ]
    },
    {
     "name": "stderr",
     "output_type": "stream",
     "text": [
      " 58%|█████▊    | 576/1000 [01:53<01:24,  5.01it/s, Energy=-2.105812+0.000000j ± 0.000016 [σ²=0.000000]]"
     ]
    },
    {
     "name": "stdout",
     "output_type": "stream",
     "text": [
      "--->> cal O and jac  0.03287029266357422\n",
      "compute_update  0.0364532470703125\n",
      "(0.05053550563094748+0j)\n",
      "n_discard =  144\n",
      "discard samples 0.07895421981811523\n",
      "n_samples_node =  1000\n",
      "generate_samples :  0.07230472564697266\n",
      "     prepare getting local values 0.0035157203674316406\n",
      "     obtained local values 0.010199785232543945\n",
      "get_mc_stats 0.01298666000366211\n"
     ]
    },
    {
     "name": "stderr",
     "output_type": "stream",
     "text": [
      " 58%|█████▊    | 577/1000 [01:53<01:25,  4.93it/s, Energy=-2.105820+0.000000j ± 0.000015 [σ²=0.000000]]"
     ]
    },
    {
     "name": "stdout",
     "output_type": "stream",
     "text": [
      "--->> cal O and jac  0.0405116081237793\n",
      "compute_update  0.0436863899230957\n",
      "(0.05054452279793337+0j)\n",
      "n_discard =  144\n",
      "discard samples 0.07835841178894043\n",
      "n_samples_node =  1000\n",
      "generate_samples :  0.06764888763427734\n",
      "     prepare getting local values 0.004438161849975586\n",
      "     obtained local values 0.011667251586914062\n",
      "get_mc_stats 0.014953851699829102\n"
     ]
    },
    {
     "name": "stderr",
     "output_type": "stream",
     "text": [
      " 58%|█████▊    | 578/1000 [01:53<01:26,  4.88it/s, Energy=-2.105798+0.000000j ± 0.000014 [σ²=0.000000]]"
     ]
    },
    {
     "name": "stdout",
     "output_type": "stream",
     "text": [
      "--->> cal O and jac  0.04374861717224121\n",
      "compute_update  0.04680228233337402\n",
      "(0.05055364907938258+0j)\n",
      "n_discard =  144\n",
      "discard samples 0.0762939453125\n",
      "n_samples_node =  1000\n",
      "generate_samples :  0.06980037689208984\n",
      "     prepare getting local values 0.003452777862548828\n",
      "     obtained local values 0.010551214218139648\n",
      "get_mc_stats 0.013658761978149414\n"
     ]
    },
    {
     "name": "stderr",
     "output_type": "stream",
     "text": [
      " 58%|█████▊    | 579/1000 [01:53<01:24,  4.96it/s, Energy=-2.105832+0.000000j ± 0.000014 [σ²=0.000000]]"
     ]
    },
    {
     "name": "stdout",
     "output_type": "stream",
     "text": [
      "--->> cal O and jac  0.029761552810668945\n",
      "compute_update  0.0320277214050293\n",
      "(0.050562381284461735+0j)\n",
      "n_discard =  144\n",
      "discard samples 0.07769608497619629\n",
      "n_samples_node =  1000\n",
      "generate_samples :  0.0725243091583252\n",
      "     prepare getting local values 0.0037992000579833984\n",
      "     obtained local values 0.009963512420654297\n",
      "get_mc_stats 0.012896299362182617\n"
     ]
    },
    {
     "name": "stderr",
     "output_type": "stream",
     "text": [
      "\r",
      " 58%|█████▊    | 579/1000 [01:54<01:24,  4.96it/s, Energy=-2.105825+0.000000j ± 0.000012 [σ²=0.000000]]"
     ]
    },
    {
     "name": "stdout",
     "output_type": "stream",
     "text": [
      "--->> cal O and jac  0.030823469161987305\n",
      "compute_update  0.03275465965270996\n"
     ]
    },
    {
     "name": "stderr",
     "output_type": "stream",
     "text": [
      "\r",
      " 58%|█████▊    | 580/1000 [01:54<01:24,  4.99it/s, Energy=-2.105825+0.000000j ± 0.000012 [σ²=0.000000]]"
     ]
    },
    {
     "name": "stdout",
     "output_type": "stream",
     "text": [
      "(0.05057131279784575+0j)\n",
      "n_discard =  144\n",
      "discard samples 0.07537603378295898\n",
      "n_samples_node =  1000\n",
      "generate_samples :  0.07938194274902344\n",
      "     prepare getting local values 0.003659486770629883\n",
      "     obtained local values 0.010930299758911133\n",
      "get_mc_stats 0.014069557189941406\n"
     ]
    },
    {
     "name": "stderr",
     "output_type": "stream",
     "text": [
      " 58%|█████▊    | 581/1000 [01:54<01:25,  4.92it/s, Energy=-2.105814+0.000000j ± 0.000012 [σ²=0.000000]]"
     ]
    },
    {
     "name": "stdout",
     "output_type": "stream",
     "text": [
      "--->> cal O and jac  0.037038564682006836\n",
      "compute_update  0.039163827896118164\n",
      "(0.0505802563904507+0j)\n",
      "n_discard =  144\n",
      "discard samples 0.07780838012695312\n",
      "n_samples_node =  1000\n",
      "generate_samples :  0.06711769104003906\n",
      "     prepare getting local values 0.0030248165130615234\n",
      "     obtained local values 0.009370565414428711\n",
      "get_mc_stats 0.012992143630981445\n"
     ]
    },
    {
     "name": "stderr",
     "output_type": "stream",
     "text": [
      " 58%|█████▊    | 582/1000 [01:54<01:23,  5.00it/s, Energy=-2.105837+0.000000j ± 0.000014 [σ²=0.000000]]"
     ]
    },
    {
     "name": "stdout",
     "output_type": "stream",
     "text": [
      "--->> cal O and jac  0.028435230255126953\n",
      "compute_update  0.03184366226196289\n",
      "(0.05058893536817932+0j)\n",
      "n_discard =  144\n",
      "discard samples 0.0799558162689209\n",
      "n_samples_node =  1000\n",
      "generate_samples :  0.07064294815063477\n",
      "     prepare getting local values 0.0034689903259277344\n",
      "     obtained local values 0.008982419967651367\n",
      "get_mc_stats 0.012373924255371094\n"
     ]
    },
    {
     "name": "stderr",
     "output_type": "stream",
     "text": [
      " 58%|█████▊    | 583/1000 [01:54<01:24,  4.96it/s, Energy=-2.105839+0.000000j ± 0.000012 [σ²=0.000000]]"
     ]
    },
    {
     "name": "stdout",
     "output_type": "stream",
     "text": [
      "--->> cal O and jac  0.03794360160827637\n",
      "compute_update  0.0409393310546875\n",
      "(0.05059771655665239+0j)\n",
      "n_discard =  144\n",
      "discard samples 0.07933855056762695\n",
      "n_samples_node =  1000\n",
      "generate_samples :  0.07372784614562988\n",
      "     prepare getting local values 0.004050731658935547\n",
      "     obtained local values 0.009519100189208984\n",
      "get_mc_stats 0.012973308563232422\n"
     ]
    },
    {
     "name": "stderr",
     "output_type": "stream",
     "text": [
      " 58%|█████▊    | 584/1000 [01:54<01:24,  4.91it/s, Energy=-2.105825+0.000000j ± 0.000014 [σ²=0.000000]]"
     ]
    },
    {
     "name": "stdout",
     "output_type": "stream",
     "text": [
      "--->> cal O and jac  0.03767704963684082\n",
      "compute_update  0.04052233695983887\n",
      "(0.050606021575279936+0j)\n",
      "n_discard =  144\n",
      "discard samples 0.0747215747833252\n",
      "n_samples_node =  1000\n",
      "generate_samples :  0.0717477798461914\n",
      "     prepare getting local values 0.002747058868408203\n",
      "     obtained local values 0.009151935577392578\n",
      "get_mc_stats 0.011773824691772461\n"
     ]
    },
    {
     "name": "stderr",
     "output_type": "stream",
     "text": [
      " 58%|█████▊    | 585/1000 [01:55<01:23,  4.99it/s, Energy=-2.105839+0.000000j ± 0.000013 [σ²=0.000000]]"
     ]
    },
    {
     "name": "stdout",
     "output_type": "stream",
     "text": [
      "--->> cal O and jac  0.029847145080566406\n",
      "compute_update  0.0319666862487793\n",
      "(0.050614604471783446+0j)\n",
      "n_discard =  144\n",
      "discard samples 0.07575106620788574\n",
      "n_samples_node =  1000\n",
      "generate_samples :  0.0708918571472168\n",
      "     prepare getting local values 0.0035855770111083984\n",
      "     obtained local values 0.01059269905090332\n",
      "get_mc_stats 0.013312101364135742\n"
     ]
    },
    {
     "name": "stderr",
     "output_type": "stream",
     "text": [
      " 59%|█████▊    | 586/1000 [01:55<01:22,  5.02it/s, Energy=-2.105810+0.000000j ± 0.000010 [σ²=0.000000]]"
     ]
    },
    {
     "name": "stdout",
     "output_type": "stream",
     "text": [
      "--->> cal O and jac  0.03254270553588867\n",
      "compute_update  0.034811973571777344\n",
      "(0.05062261728967489+0j)\n",
      "n_discard =  144\n",
      "discard samples 0.07612133026123047\n",
      "n_samples_node =  1000\n",
      "generate_samples :  0.0723121166229248\n",
      "     prepare getting local values 0.0035448074340820312\n",
      "     obtained local values 0.009866952896118164\n",
      "get_mc_stats 0.013117074966430664\n"
     ]
    },
    {
     "name": "stderr",
     "output_type": "stream",
     "text": [
      " 59%|█████▊    | 587/1000 [01:55<01:21,  5.06it/s, Energy=-2.105802+0.000000j ± 0.000011 [σ²=0.000000]]"
     ]
    },
    {
     "name": "stdout",
     "output_type": "stream",
     "text": [
      "--->> cal O and jac  0.028458595275878906\n",
      "compute_update  0.030390262603759766\n",
      "(0.05063078134037922+0j)\n",
      "n_discard =  144\n",
      "discard samples 0.07395410537719727\n",
      "n_samples_node =  1000\n",
      "generate_samples :  0.07068014144897461\n",
      "     prepare getting local values 0.003474712371826172\n",
      "     obtained local values 0.009616613388061523\n",
      "get_mc_stats 0.012639760971069336\n"
     ]
    },
    {
     "name": "stderr",
     "output_type": "stream",
     "text": [
      " 59%|█████▉    | 588/1000 [01:55<01:20,  5.11it/s, Energy=-2.105818+0.000000j ± 0.000012 [σ²=0.000000]]"
     ]
    },
    {
     "name": "stdout",
     "output_type": "stream",
     "text": [
      "--->> cal O and jac  0.029791593551635742\n",
      "compute_update  0.03172183036804199\n",
      "(0.05063889297783569+0j)\n",
      "n_discard =  144\n",
      "discard samples 0.07249808311462402\n",
      "n_samples_node =  1000\n",
      "generate_samples :  0.08022594451904297\n",
      "     prepare getting local values 0.004127979278564453\n",
      "     obtained local values 0.008417606353759766\n",
      "get_mc_stats 0.011310338973999023\n"
     ]
    },
    {
     "name": "stderr",
     "output_type": "stream",
     "text": [
      " 59%|█████▉    | 589/1000 [01:55<01:20,  5.10it/s, Energy=-2.105805+0.000000j ± 0.000013 [σ²=0.000000]]"
     ]
    },
    {
     "name": "stdout",
     "output_type": "stream",
     "text": [
      "--->> cal O and jac  0.02881765365600586\n",
      "compute_update  0.031128883361816406\n",
      "(0.05064681001080353+0j)\n",
      "n_discard =  144\n",
      "discard samples 0.0805971622467041\n",
      "n_samples_node =  1000\n",
      "generate_samples :  0.06751155853271484\n",
      "     prepare getting local values 0.003622770309448242\n",
      "     obtained local values 0.009639739990234375\n",
      "get_mc_stats 0.013255596160888672\n",
      "--->> cal O and jac  0.035186767578125\n"
     ]
    },
    {
     "name": "stderr",
     "output_type": "stream",
     "text": [
      " 59%|█████▉    | 590/1000 [01:56<01:21,  5.06it/s, Energy=-2.105822+0.000000j ± 0.000012 [σ²=0.000000]]"
     ]
    },
    {
     "name": "stdout",
     "output_type": "stream",
     "text": [
      "compute_update  0.03820204734802246\n",
      "(0.05065468557768641+0j)\n",
      "n_discard =  144\n",
      "discard samples 0.0718839168548584\n",
      "n_samples_node =  1000\n",
      "generate_samples :  0.06934976577758789\n",
      "     prepare getting local values 0.0035839080810546875\n",
      "     obtained local values 0.007686614990234375\n",
      "get_mc_stats 0.010881423950195312\n"
     ]
    },
    {
     "name": "stderr",
     "output_type": "stream",
     "text": [
      " 59%|█████▉    | 591/1000 [01:56<01:19,  5.17it/s, Energy=-2.105818+0.000000j ± 0.000013 [σ²=0.000000]]"
     ]
    },
    {
     "name": "stdout",
     "output_type": "stream",
     "text": [
      "--->> cal O and jac  0.026990890502929688\n",
      "compute_update  0.029057741165161133\n",
      "(0.05066253161448989+0j)\n",
      "n_discard =  144\n",
      "discard samples 0.07526659965515137\n",
      "n_samples_node =  1000\n",
      "generate_samples :  0.0750436782836914\n",
      "     prepare getting local values 0.001705169677734375\n",
      "     obtained local values 0.005110979080200195\n",
      "get_mc_stats 0.00693511962890625\n",
      "--->> cal O and jac  0.03575730323791504\n",
      "compute_update  0.03910326957702637\n"
     ]
    },
    {
     "name": "stderr",
     "output_type": "stream",
     "text": [
      " 59%|█████▉    | 592/1000 [01:56<01:19,  5.13it/s, Energy=-2.105830+0.000000j ± 0.000014 [σ²=0.000000]]"
     ]
    },
    {
     "name": "stdout",
     "output_type": "stream",
     "text": [
      "(0.05067064695941262+0j)\n",
      "n_discard =  144\n",
      "discard samples 0.07610440254211426\n",
      "n_samples_node =  1000\n",
      "generate_samples :  0.06936216354370117\n",
      "     prepare getting local values 0.0038568973541259766\n",
      "     obtained local values 0.009896278381347656\n",
      "get_mc_stats 0.013147115707397461\n"
     ]
    },
    {
     "name": "stderr",
     "output_type": "stream",
     "text": [
      " 59%|█████▉    | 593/1000 [01:56<01:21,  4.99it/s, Energy=-2.1058166+0.0000000j ± 0.0000094 [σ²=0.0000002]]"
     ]
    },
    {
     "name": "stdout",
     "output_type": "stream",
     "text": [
      "--->> cal O and jac  0.04797029495239258\n",
      "compute_update  0.051432132720947266\n",
      "(0.05067821935592789+0j)\n",
      "n_discard =  144\n",
      "discard samples 0.07232952117919922\n",
      "n_samples_node =  1000\n",
      "generate_samples :  0.07481980323791504\n",
      "     prepare getting local values 0.0029053688049316406\n",
      "     obtained local values 0.009177207946777344\n",
      "get_mc_stats 0.011978387832641602\n"
     ]
    },
    {
     "name": "stderr",
     "output_type": "stream",
     "text": [
      " 59%|█████▉    | 594/1000 [01:56<01:21,  4.97it/s, Energy=-2.105828+0.000000j ± 0.000011 [σ²=0.000000]]    "
     ]
    },
    {
     "name": "stdout",
     "output_type": "stream",
     "text": [
      "--->> cal O and jac  0.038198232650756836\n",
      "compute_update  0.04144620895385742\n",
      "(0.05068574029112086+0j)\n",
      "n_discard =  144\n",
      "discard samples 0.08259439468383789\n",
      "n_samples_node =  1000\n",
      "generate_samples :  0.07227396965026855\n",
      "     prepare getting local values 0.0035572052001953125\n",
      "     obtained local values 0.009428024291992188\n",
      "get_mc_stats 0.011505365371704102\n"
     ]
    },
    {
     "name": "stderr",
     "output_type": "stream",
     "text": [
      " 60%|█████▉    | 595/1000 [01:57<01:21,  4.96it/s, Energy=-2.105812+0.000000j ± 0.000013 [σ²=0.000000]]"
     ]
    },
    {
     "name": "stdout",
     "output_type": "stream",
     "text": [
      "--->> cal O and jac  0.03272104263305664\n",
      "compute_update  0.034969329833984375\n",
      "(0.05069408146824207+0j)\n",
      "n_discard =  144\n",
      "discard samples 0.07846999168395996\n",
      "n_samples_node =  1000\n",
      "generate_samples :  0.07122397422790527\n",
      "     prepare getting local values 0.0025625228881835938\n",
      "     obtained local values 0.00616908073425293\n",
      "get_mc_stats 0.009545326232910156\n"
     ]
    },
    {
     "name": "stderr",
     "output_type": "stream",
     "text": [
      " 60%|█████▉    | 596/1000 [01:57<01:20,  5.02it/s, Energy=-2.105820+0.000000j ± 0.000011 [σ²=0.000000]]"
     ]
    },
    {
     "name": "stdout",
     "output_type": "stream",
     "text": [
      "--->> cal O and jac  0.03010416030883789\n",
      "compute_update  0.032239437103271484\n",
      "(0.05070228119880353+0j)\n",
      "n_discard =  144\n",
      "discard samples 0.07539153099060059\n",
      "n_samples_node =  1000\n",
      "generate_samples :  0.07324647903442383\n",
      "     prepare getting local values 0.0030183792114257812\n",
      "     obtained local values 0.009337425231933594\n",
      "get_mc_stats 0.012135744094848633\n",
      "--->> cal O and jac  0.03451418876647949\n"
     ]
    },
    {
     "name": "stderr",
     "output_type": "stream",
     "text": [
      " 60%|█████▉    | 597/1000 [01:57<01:20,  5.01it/s, Energy=-2.105821+0.000000j ± 0.000010 [σ²=0.000000]]"
     ]
    },
    {
     "name": "stdout",
     "output_type": "stream",
     "text": [
      "compute_update  0.03847670555114746\n",
      "(0.05071067124154323+0j)\n",
      "n_discard =  144\n",
      "discard samples 0.08006596565246582\n",
      "n_samples_node =  1000\n",
      "generate_samples :  0.08322668075561523\n",
      "     prepare getting local values 0.003002166748046875\n",
      "     obtained local values 0.009203195571899414\n",
      "get_mc_stats 0.012151718139648438\n"
     ]
    },
    {
     "name": "stderr",
     "output_type": "stream",
     "text": [
      " 60%|█████▉    | 598/1000 [01:57<01:22,  4.87it/s, Energy=-2.105829+0.000000j ± 0.000013 [σ²=0.000000]]"
     ]
    },
    {
     "name": "stdout",
     "output_type": "stream",
     "text": [
      "--->> cal O and jac  0.03870677947998047\n",
      "compute_update  0.04069685935974121\n",
      "(0.05071866947916986+0j)\n",
      "n_discard =  144\n",
      "discard samples 0.08609986305236816\n",
      "n_samples_node =  1000\n",
      "generate_samples :  0.07910752296447754\n",
      "     prepare getting local values 0.003638029098510742\n",
      "     obtained local values 0.010913848876953125\n",
      "get_mc_stats 0.014162302017211914\n"
     ]
    },
    {
     "name": "stderr",
     "output_type": "stream",
     "text": [
      " 60%|█████▉    | 599/1000 [01:57<01:24,  4.77it/s, Energy=-2.105787+0.000000j ± 0.000012 [σ²=0.000000]]"
     ]
    },
    {
     "name": "stdout",
     "output_type": "stream",
     "text": [
      "--->> cal O and jac  0.03533577919006348\n",
      "compute_update  0.037825584411621094\n",
      "(0.050727110376996565+0j)\n",
      "n_discard =  144\n",
      "discard samples 0.07581067085266113\n",
      "n_samples_node =  1000\n",
      "generate_samples :  0.07581686973571777\n",
      "     prepare getting local values 0.0017468929290771484\n",
      "     obtained local values 0.0052471160888671875\n",
      "get_mc_stats 0.007581472396850586\n"
     ]
    },
    {
     "name": "stderr",
     "output_type": "stream",
     "text": [
      "\r",
      " 60%|█████▉    | 599/1000 [01:58<01:24,  4.77it/s, Energy=-2.105811+0.000000j ± 0.000011 [σ²=0.000000]]"
     ]
    },
    {
     "name": "stdout",
     "output_type": "stream",
     "text": [
      "--->> cal O and jac  0.03395557403564453\n",
      "compute_update  0.03613781929016113\n"
     ]
    },
    {
     "name": "stderr",
     "output_type": "stream",
     "text": [
      "\r",
      " 60%|██████    | 600/1000 [01:58<01:22,  4.85it/s, Energy=-2.105811+0.000000j ± 0.000011 [σ²=0.000000]]"
     ]
    },
    {
     "name": "stdout",
     "output_type": "stream",
     "text": [
      "(0.050735571238030415+0j)\n",
      "n_discard =  144\n",
      "discard samples 0.0773782730102539\n",
      "n_samples_node =  1000\n",
      "generate_samples :  0.0649564266204834\n",
      "     prepare getting local values 0.001720428466796875\n",
      "     obtained local values 0.005094289779663086\n",
      "get_mc_stats 0.007233858108520508\n"
     ]
    },
    {
     "name": "stderr",
     "output_type": "stream",
     "text": [
      " 60%|██████    | 601/1000 [01:58<01:20,  4.99it/s, Energy=-2.1058070+0.0000000j ± 0.0000095 [σ²=0.0000001]]"
     ]
    },
    {
     "name": "stdout",
     "output_type": "stream",
     "text": [
      "--->> cal O and jac  0.03443741798400879\n",
      "compute_update  0.0364987850189209\n",
      "(0.05074399843491083+0j)\n",
      "n_discard =  144\n",
      "discard samples 0.07306194305419922\n",
      "n_samples_node =  1000\n",
      "generate_samples :  0.07178139686584473\n",
      "     prepare getting local values 0.0035736560821533203\n",
      "     obtained local values 0.007391452789306641\n",
      "get_mc_stats 0.01082611083984375\n"
     ]
    },
    {
     "name": "stderr",
     "output_type": "stream",
     "text": [
      " 60%|██████    | 602/1000 [01:58<01:18,  5.06it/s, Energy=-2.105827+0.000000j ± 0.000011 [σ²=0.000000]]    "
     ]
    },
    {
     "name": "stdout",
     "output_type": "stream",
     "text": [
      "--->> cal O and jac  0.03080916404724121\n",
      "compute_update  0.03308439254760742\n",
      "(0.050752914849731635+0j)\n",
      "n_discard =  144\n",
      "discard samples 0.07315993309020996\n",
      "n_samples_node =  1000\n",
      "generate_samples :  0.07024407386779785\n",
      "     prepare getting local values 0.003614187240600586\n",
      "     obtained local values 0.006876707077026367\n",
      "get_mc_stats 0.009982824325561523\n"
     ]
    },
    {
     "name": "stderr",
     "output_type": "stream",
     "text": [
      " 60%|██████    | 603/1000 [01:58<01:17,  5.12it/s, Energy=-2.105813+0.000000j ± 0.000010 [σ²=0.000000]]"
     ]
    },
    {
     "name": "stdout",
     "output_type": "stream",
     "text": [
      "--->> cal O and jac  0.03198599815368652\n",
      "compute_update  0.03427267074584961\n",
      "(0.05076184279905146+0j)\n",
      "n_discard =  144\n",
      "discard samples 0.0729825496673584\n",
      "n_samples_node =  1000\n",
      "generate_samples :  0.06896686553955078\n",
      "     prepare getting local values 0.003572702407836914\n",
      "     obtained local values 0.008999347686767578\n",
      "get_mc_stats 0.012274980545043945\n"
     ]
    },
    {
     "name": "stderr",
     "output_type": "stream",
     "text": [
      " 60%|██████    | 604/1000 [01:58<01:16,  5.15it/s, Energy=-2.105819+0.000000j ± 0.000011 [σ²=0.000000]]"
     ]
    },
    {
     "name": "stdout",
     "output_type": "stream",
     "text": [
      "--->> cal O and jac  0.0326688289642334\n",
      "compute_update  0.035886526107788086\n",
      "(0.05077012601955442+0j)\n",
      "n_discard =  144\n",
      "discard samples 0.07643771171569824\n",
      "n_samples_node =  1000\n",
      "generate_samples :  0.0753014087677002\n",
      "     prepare getting local values 0.0017764568328857422\n",
      "     obtained local values 0.005291938781738281\n",
      "get_mc_stats 0.007521390914916992\n"
     ]
    },
    {
     "name": "stderr",
     "output_type": "stream",
     "text": [
      " 60%|██████    | 605/1000 [01:59<01:16,  5.16it/s, Energy=-2.105813+0.000000j ± 0.000013 [σ²=0.000000]]"
     ]
    },
    {
     "name": "stdout",
     "output_type": "stream",
     "text": [
      "--->> cal O and jac  0.02907252311706543\n",
      "compute_update  0.03133106231689453\n",
      "(0.05077830656677358+0j)\n",
      "n_discard =  144\n",
      "discard samples 0.07954573631286621\n",
      "n_samples_node =  1000\n",
      "generate_samples :  0.0760505199432373\n",
      "     prepare getting local values 0.0017642974853515625\n",
      "     obtained local values 0.005567789077758789\n",
      "get_mc_stats 0.007857084274291992\n",
      "--->> cal O and jac  0.03253030776977539\n"
     ]
    },
    {
     "name": "stderr",
     "output_type": "stream",
     "text": [
      " 61%|██████    | 606/1000 [01:59<01:17,  5.10it/s, Energy=-2.105803+0.000000j ± 0.000011 [σ²=0.000000]]"
     ]
    },
    {
     "name": "stdout",
     "output_type": "stream",
     "text": [
      "compute_update  0.03589630126953125\n",
      "(0.0507866834140492+0j)\n",
      "n_discard =  144\n",
      "discard samples 0.07811212539672852\n",
      "n_samples_node =  1000\n",
      "generate_samples :  0.0791771411895752\n",
      "     prepare getting local values 0.0026273727416992188\n",
      "     obtained local values 0.0061893463134765625\n",
      "get_mc_stats 0.009289264678955078\n"
     ]
    },
    {
     "name": "stderr",
     "output_type": "stream",
     "text": [
      " 61%|██████    | 607/1000 [01:59<01:17,  5.05it/s, Energy=-2.105802+0.000000j ± 0.000011 [σ²=0.000000]]"
     ]
    },
    {
     "name": "stdout",
     "output_type": "stream",
     "text": [
      "--->> cal O and jac  0.031691551208496094\n",
      "compute_update  0.033826351165771484\n",
      "(0.05079533344994483+0j)\n",
      "n_discard =  144\n",
      "discard samples 0.07455110549926758\n",
      "n_samples_node =  1000\n",
      "generate_samples :  0.08038568496704102\n",
      "     prepare getting local values 0.0037353038787841797\n",
      "     obtained local values 0.008364439010620117\n",
      "get_mc_stats 0.011803627014160156\n"
     ]
    },
    {
     "name": "stderr",
     "output_type": "stream",
     "text": [
      " 61%|██████    | 608/1000 [01:59<01:18,  5.00it/s, Energy=-2.105818+0.000000j ± 0.000012 [σ²=0.000000]]"
     ]
    },
    {
     "name": "stdout",
     "output_type": "stream",
     "text": [
      "--->> cal O and jac  0.03432011604309082\n",
      "compute_update  0.03605175018310547\n",
      "(0.05080403254134064+0j)\n",
      "n_discard =  144\n",
      "discard samples 0.07461237907409668\n",
      "n_samples_node =  1000\n",
      "generate_samples :  0.0667881965637207\n",
      "     prepare getting local values 0.0036211013793945312\n",
      "     obtained local values 0.008740663528442383\n",
      "get_mc_stats 0.012276411056518555\n"
     ]
    },
    {
     "name": "stderr",
     "output_type": "stream",
     "text": [
      "\r",
      " 61%|██████    | 608/1000 [01:59<01:18,  5.00it/s, Energy=-2.105840+0.000000j ± 0.000011 [σ²=0.000000]]"
     ]
    },
    {
     "name": "stdout",
     "output_type": "stream",
     "text": [
      "--->> cal O and jac  0.03995919227600098\n",
      "compute_update  0.042043447494506836\n"
     ]
    },
    {
     "name": "stderr",
     "output_type": "stream",
     "text": [
      "\r",
      " 61%|██████    | 609/1000 [01:59<01:17,  5.02it/s, Energy=-2.105840+0.000000j ± 0.000011 [σ²=0.000000]]"
     ]
    },
    {
     "name": "stdout",
     "output_type": "stream",
     "text": [
      "(0.05081290895836068+0j)\n",
      "n_discard =  144\n",
      "discard samples 0.07281112670898438\n",
      "n_samples_node =  1000\n",
      "generate_samples :  0.07113313674926758\n",
      "     prepare getting local values 0.002994060516357422\n",
      "     obtained local values 0.009072542190551758\n",
      "get_mc_stats 0.011464595794677734\n",
      "--->> cal O and jac  0.038658857345581055\n"
     ]
    },
    {
     "name": "stderr",
     "output_type": "stream",
     "text": [
      " 61%|██████    | 610/1000 [02:00<01:17,  5.01it/s, Energy=-2.105832+0.000000j ± 0.000011 [σ²=0.000000]]"
     ]
    },
    {
     "name": "stdout",
     "output_type": "stream",
     "text": [
      "compute_update  0.04238748550415039\n",
      "(0.0508215311943671+0j)\n",
      "n_discard =  144\n",
      "discard samples 0.0863642692565918\n",
      "n_samples_node =  1000\n",
      "generate_samples :  0.06721901893615723\n",
      "     prepare getting local values 0.0017120838165283203\n",
      "     obtained local values 0.005031585693359375\n",
      "get_mc_stats 0.007161855697631836\n"
     ]
    },
    {
     "name": "stderr",
     "output_type": "stream",
     "text": [
      " 61%|██████    | 611/1000 [02:00<01:17,  5.04it/s, Energy=-2.1058057+0.0000000j ± 0.0000091 [σ²=0.0000001]]"
     ]
    },
    {
     "name": "stdout",
     "output_type": "stream",
     "text": [
      "--->> cal O and jac  0.029273271560668945\n",
      "compute_update  0.032944679260253906\n",
      "(0.050829904447926365+0j)\n",
      "n_discard =  144\n",
      "discard samples 0.08204007148742676\n",
      "n_samples_node =  1000\n",
      "generate_samples :  0.0695044994354248\n",
      "     prepare getting local values 0.003580808639526367\n",
      "     obtained local values 0.0073397159576416016\n",
      "get_mc_stats 0.010093927383422852\n"
     ]
    },
    {
     "name": "stderr",
     "output_type": "stream",
     "text": [
      " 61%|██████    | 612/1000 [02:00<01:17,  5.02it/s, Energy=-2.105816+0.000000j ± 0.000011 [σ²=0.000000]]    "
     ]
    },
    {
     "name": "stdout",
     "output_type": "stream",
     "text": [
      "--->> cal O and jac  0.03475499153137207\n",
      "compute_update  0.03778886795043945\n",
      "(0.050838364413185594+0j)\n",
      "n_discard =  144\n",
      "discard samples 0.07858800888061523\n",
      "n_samples_node =  1000\n",
      "generate_samples :  0.07303714752197266\n",
      "     prepare getting local values 0.0035750865936279297\n",
      "     obtained local values 0.007886409759521484\n",
      "get_mc_stats 0.010726690292358398\n"
     ]
    },
    {
     "name": "stderr",
     "output_type": "stream",
     "text": [
      " 61%|██████▏   | 613/1000 [02:00<01:18,  4.96it/s, Energy=-2.105812+0.000000j ± 0.000012 [σ²=0.000000]]"
     ]
    },
    {
     "name": "stdout",
     "output_type": "stream",
     "text": [
      "--->> cal O and jac  0.03927731513977051\n",
      "compute_update  0.04219555854797363\n",
      "(0.05084658520828785+0j)\n",
      "n_discard =  144\n",
      "discard samples 0.07590198516845703\n",
      "n_samples_node =  1000\n",
      "generate_samples :  0.07448554039001465\n",
      "     prepare getting local values 0.003584146499633789\n",
      "     obtained local values 0.007109880447387695\n",
      "get_mc_stats 0.010155200958251953\n",
      "--->> cal O and jac  0.03329634666442871\n"
     ]
    },
    {
     "name": "stderr",
     "output_type": "stream",
     "text": [
      " 61%|██████▏   | 614/1000 [02:00<01:17,  4.98it/s, Energy=-2.105832+0.000000j ± 0.000010 [σ²=0.000000]]"
     ]
    },
    {
     "name": "stdout",
     "output_type": "stream",
     "text": [
      "compute_update  0.036072731018066406\n",
      "(0.05085497685226929+0j)\n",
      "n_discard =  144\n",
      "discard samples 0.07481718063354492\n",
      "n_samples_node =  1000\n",
      "generate_samples :  0.07392144203186035\n",
      "     prepare getting local values 0.003661632537841797\n",
      "     obtained local values 0.0077974796295166016\n",
      "get_mc_stats 0.011206388473510742\n",
      "--->> cal O and jac  0.03356504440307617\n"
     ]
    },
    {
     "name": "stderr",
     "output_type": "stream",
     "text": [
      " 62%|██████▏   | 615/1000 [02:01<01:17,  5.00it/s, Energy=-2.1058284+0.0000000j ± 0.0000084 [σ²=0.0000001]]"
     ]
    },
    {
     "name": "stdout",
     "output_type": "stream",
     "text": [
      "compute_update  0.037070512771606445\n",
      "(0.050863424119456484+0j)\n",
      "n_discard =  144\n",
      "discard samples 0.07718515396118164\n",
      "n_samples_node =  1000\n",
      "generate_samples :  0.07058048248291016\n",
      "     prepare getting local values 0.004143714904785156\n",
      "     obtained local values 0.010020732879638672\n",
      "get_mc_stats 0.013472557067871094\n"
     ]
    },
    {
     "name": "stderr",
     "output_type": "stream",
     "text": [
      " 62%|██████▏   | 616/1000 [02:01<01:17,  4.93it/s, Energy=-2.1058176+0.0000000j ± 0.0000085 [σ²=0.0000001]]"
     ]
    },
    {
     "name": "stdout",
     "output_type": "stream",
     "text": [
      "--->> cal O and jac  0.04091668128967285\n",
      "compute_update  0.04425215721130371\n",
      "(0.05087181611772929+0j)\n",
      "n_discard =  144\n",
      "discard samples 0.0774083137512207\n",
      "n_samples_node =  1000\n",
      "generate_samples :  0.07356452941894531\n",
      "     prepare getting local values 0.0021944046020507812\n",
      "     obtained local values 0.00556492805480957\n",
      "get_mc_stats 0.007569789886474609\n"
     ]
    },
    {
     "name": "stderr",
     "output_type": "stream",
     "text": [
      " 62%|██████▏   | 617/1000 [02:01<01:16,  5.01it/s, Energy=-2.105813+0.000000j ± 0.000012 [σ²=0.000000]]    "
     ]
    },
    {
     "name": "stdout",
     "output_type": "stream",
     "text": [
      "--->> cal O and jac  0.02817535400390625\n",
      "compute_update  0.03145289421081543\n",
      "(0.05088035068818456+0j)\n",
      "n_discard =  144\n",
      "discard samples 0.07192516326904297\n",
      "n_samples_node =  1000\n",
      "generate_samples :  0.0698232650756836\n",
      "     prepare getting local values 0.003088235855102539\n",
      "     obtained local values 0.00861048698425293\n",
      "get_mc_stats 0.011078834533691406\n"
     ]
    },
    {
     "name": "stderr",
     "output_type": "stream",
     "text": [
      " 62%|██████▏   | 618/1000 [02:01<01:15,  5.05it/s, Energy=-2.105824+0.000000j ± 0.000012 [σ²=0.000000]]"
     ]
    },
    {
     "name": "stdout",
     "output_type": "stream",
     "text": [
      "--->> cal O and jac  0.03805828094482422\n",
      "compute_update  0.04003763198852539\n",
      "(0.050888566452064465+0j)\n",
      "n_discard =  144\n",
      "discard samples 0.07938170433044434\n",
      "n_samples_node =  1000\n",
      "generate_samples :  0.06788110733032227\n",
      "     prepare getting local values 0.0031325817108154297\n",
      "     obtained local values 0.00936436653137207\n",
      "get_mc_stats 0.012659311294555664\n"
     ]
    },
    {
     "name": "stderr",
     "output_type": "stream",
     "text": [
      " 62%|██████▏   | 619/1000 [02:01<01:14,  5.08it/s, Energy=-2.105819+0.000000j ± 0.000011 [σ²=0.000000]]"
     ]
    },
    {
     "name": "stdout",
     "output_type": "stream",
     "text": [
      "--->> cal O and jac  0.02905750274658203\n",
      "compute_update  0.03129291534423828\n",
      "(0.05089693310461968+0j)\n",
      "n_discard =  144\n",
      "discard samples 0.07834029197692871\n",
      "n_samples_node =  1000\n",
      "generate_samples :  0.06907892227172852\n",
      "     prepare getting local values 0.002754688262939453\n",
      "     obtained local values 0.008747339248657227\n",
      "get_mc_stats 0.012007713317871094\n"
     ]
    },
    {
     "name": "stderr",
     "output_type": "stream",
     "text": [
      " 62%|██████▏   | 620/1000 [02:02<01:14,  5.10it/s, Energy=-2.1058195+0.0000000j ± 0.0000092 [σ²=0.0000001]]"
     ]
    },
    {
     "name": "stdout",
     "output_type": "stream",
     "text": [
      "--->> cal O and jac  0.030240535736083984\n",
      "compute_update  0.032330989837646484\n",
      "(0.050905079743023995+0j)\n",
      "n_discard =  144\n",
      "discard samples 0.07553577423095703\n",
      "n_samples_node =  1000\n",
      "generate_samples :  0.07349848747253418\n",
      "     prepare getting local values 0.0036232471466064453\n",
      "     obtained local values 0.010920047760009766\n",
      "get_mc_stats 0.01434469223022461\n",
      "--->> cal O and jac  0.03194403648376465\n"
     ]
    },
    {
     "name": "stderr",
     "output_type": "stream",
     "text": [
      " 62%|██████▏   | 621/1000 [02:02<01:14,  5.07it/s, Energy=-2.1058259+0.0000000j ± 0.0000090 [σ²=0.0000001]]"
     ]
    },
    {
     "name": "stdout",
     "output_type": "stream",
     "text": [
      "compute_update  0.034723520278930664\n",
      "(0.05091297752477541+0j)\n",
      "n_discard =  144\n",
      "discard samples 0.08411169052124023\n",
      "n_samples_node =  1000\n",
      "generate_samples :  0.0735161304473877\n",
      "     prepare getting local values 0.003053903579711914\n",
      "     obtained local values 0.008777618408203125\n",
      "get_mc_stats 0.01137685775756836\n"
     ]
    },
    {
     "name": "stderr",
     "output_type": "stream",
     "text": [
      " 62%|██████▏   | 622/1000 [02:02<01:15,  5.01it/s, Energy=-2.1058316+0.0000000j ± 0.0000095 [σ²=0.0000001]]"
     ]
    },
    {
     "name": "stdout",
     "output_type": "stream",
     "text": [
      "--->> cal O and jac  0.0316004753112793\n",
      "compute_update  0.03342700004577637\n",
      "(0.0509209520998412+0j)\n",
      "n_discard =  144\n",
      "discard samples 0.07926821708679199\n",
      "n_samples_node =  1000\n",
      "generate_samples :  0.07425260543823242\n",
      "     prepare getting local values 0.0038025379180908203\n",
      "     obtained local values 0.008852243423461914\n",
      "get_mc_stats 0.01237344741821289\n"
     ]
    },
    {
     "name": "stderr",
     "output_type": "stream",
     "text": [
      "\r",
      " 62%|██████▏   | 622/1000 [02:02<01:15,  5.01it/s, Energy=-2.1058089+0.0000000j ± 0.0000085 [σ²=0.0000001]]"
     ]
    },
    {
     "name": "stdout",
     "output_type": "stream",
     "text": [
      "--->> cal O and jac  0.028250455856323242\n",
      "compute_update  0.030393362045288086\n"
     ]
    },
    {
     "name": "stderr",
     "output_type": "stream",
     "text": [
      "\r",
      " 62%|██████▏   | 623/1000 [02:02<01:15,  5.02it/s, Energy=-2.1058089+0.0000000j ± 0.0000085 [σ²=0.0000001]]"
     ]
    },
    {
     "name": "stdout",
     "output_type": "stream",
     "text": [
      "(0.05092907418279032+0j)\n",
      "n_discard =  144\n",
      "discard samples 0.0749356746673584\n",
      "n_samples_node =  1000\n",
      "generate_samples :  0.06887173652648926\n",
      "     prepare getting local values 0.001781463623046875\n",
      "     obtained local values 0.005262136459350586\n",
      "get_mc_stats 0.007462739944458008\n"
     ]
    },
    {
     "name": "stderr",
     "output_type": "stream",
     "text": [
      " 62%|██████▏   | 624/1000 [02:02<01:14,  5.08it/s, Energy=-2.1058168+0.0000000j ± 0.0000099 [σ²=0.0000001]]"
     ]
    },
    {
     "name": "stdout",
     "output_type": "stream",
     "text": [
      "--->> cal O and jac  0.03463912010192871\n",
      "compute_update  0.03828907012939453\n",
      "(0.05093695123535493+0j)\n",
      "n_discard =  144\n",
      "discard samples 0.08234143257141113\n",
      "n_samples_node =  1000\n",
      "generate_samples :  0.07300972938537598\n",
      "     prepare getting local values 0.0029239654541015625\n",
      "     obtained local values 0.008533954620361328\n",
      "get_mc_stats 0.011316537857055664\n"
     ]
    },
    {
     "name": "stderr",
     "output_type": "stream",
     "text": [
      " 62%|██████▎   | 625/1000 [02:03<01:14,  5.02it/s, Energy=-2.1058181+0.0000000j ± 0.0000090 [σ²=0.0000001]]"
     ]
    },
    {
     "name": "stdout",
     "output_type": "stream",
     "text": [
      "--->> cal O and jac  0.031902313232421875\n",
      "compute_update  0.03521442413330078\n",
      "(0.05094480763100915+0j)\n",
      "n_discard =  144\n",
      "discard samples 0.07889699935913086\n",
      "n_samples_node =  1000\n",
      "generate_samples :  0.06505584716796875\n",
      "     prepare getting local values 0.001699686050415039\n",
      "     obtained local values 0.004950284957885742\n",
      "get_mc_stats 0.007048606872558594\n"
     ]
    },
    {
     "name": "stderr",
     "output_type": "stream",
     "text": [
      " 63%|██████▎   | 626/1000 [02:03<01:12,  5.13it/s, Energy=-2.1058138+0.0000000j ± 0.0000076 [σ²=0.0000001]]"
     ]
    },
    {
     "name": "stdout",
     "output_type": "stream",
     "text": [
      "--->> cal O and jac  0.028935909271240234\n",
      "compute_update  0.03204488754272461\n",
      "(0.050952712163312326+0j)\n",
      "n_discard =  144\n",
      "discard samples 0.0744168758392334\n",
      "n_samples_node =  1000\n",
      "generate_samples :  0.07380342483520508\n",
      "     prepare getting local values 0.0035467147827148438\n",
      "     obtained local values 0.009762287139892578\n",
      "get_mc_stats 0.013274908065795898\n",
      "--->> cal O and jac  0.032564640045166016\n"
     ]
    },
    {
     "name": "stderr",
     "output_type": "stream",
     "text": [
      " 63%|██████▎   | 627/1000 [02:03<01:13,  5.10it/s, Energy=-2.105817+0.000000j ± 0.000010 [σ²=0.000000]]    "
     ]
    },
    {
     "name": "stdout",
     "output_type": "stream",
     "text": [
      "compute_update  0.03522372245788574\n",
      "(0.05096048669356009+0j)\n",
      "n_discard =  144\n",
      "discard samples 0.07515931129455566\n",
      "n_samples_node =  1000\n",
      "generate_samples :  0.07021093368530273\n",
      "     prepare getting local values 0.0017244815826416016\n",
      "     obtained local values 0.0051615238189697266\n",
      "get_mc_stats 0.00738525390625\n"
     ]
    },
    {
     "name": "stderr",
     "output_type": "stream",
     "text": [
      " 63%|██████▎   | 628/1000 [02:03<01:12,  5.14it/s, Energy=-2.105806+0.000000j ± 0.000011 [σ²=0.000000]]"
     ]
    },
    {
     "name": "stdout",
     "output_type": "stream",
     "text": [
      "--->> cal O and jac  0.03207755088806152\n",
      "compute_update  0.03513765335083008\n",
      "(0.05096829985873008+0j)\n",
      "n_discard =  144\n",
      "discard samples 0.06913495063781738\n",
      "n_samples_node =  1000\n",
      "generate_samples :  0.0715792179107666\n",
      "     prepare getting local values 0.002927541732788086\n",
      "     obtained local values 0.008675813674926758\n",
      "get_mc_stats 0.011174678802490234\n"
     ]
    },
    {
     "name": "stderr",
     "output_type": "stream",
     "text": [
      " 63%|██████▎   | 629/1000 [02:03<01:11,  5.17it/s, Energy=-2.1058168+0.0000000j ± 0.0000078 [σ²=0.0000001]]"
     ]
    },
    {
     "name": "stdout",
     "output_type": "stream",
     "text": [
      "--->> cal O and jac  0.03398275375366211\n",
      "compute_update  0.036995887756347656\n",
      "(0.050976090608009526+0j)\n",
      "n_discard =  144\n",
      "discard samples 0.0734257698059082\n",
      "n_samples_node =  1000\n",
      "generate_samples :  0.07822465896606445\n",
      "     prepare getting local values 0.0036673545837402344\n",
      "     obtained local values 0.007557392120361328\n",
      "get_mc_stats 0.010599851608276367\n",
      "--->> cal O and jac  0.03302168846130371\n"
     ]
    },
    {
     "name": "stderr",
     "output_type": "stream",
     "text": [
      " 63%|██████▎   | 630/1000 [02:03<01:12,  5.11it/s, Energy=-2.1058068+0.0000000j ± 0.0000087 [σ²=0.0000001]]"
     ]
    },
    {
     "name": "stdout",
     "output_type": "stream",
     "text": [
      "compute_update  0.0365903377532959\n",
      "(0.050983919606429236+0j)\n",
      "n_discard =  144\n",
      "discard samples 0.08545827865600586\n",
      "n_samples_node =  1000\n",
      "generate_samples :  0.07321810722351074\n",
      "     prepare getting local values 0.0017867088317871094\n",
      "     obtained local values 0.0053937435150146484\n",
      "get_mc_stats 0.007659435272216797\n"
     ]
    },
    {
     "name": "stderr",
     "output_type": "stream",
     "text": [
      " 63%|██████▎   | 631/1000 [02:04<01:13,  5.00it/s, Energy=-2.105810+0.000000j ± 0.000010 [σ²=0.000000]]    "
     ]
    },
    {
     "name": "stdout",
     "output_type": "stream",
     "text": [
      "--->> cal O and jac  0.03946280479431152\n",
      "compute_update  0.042014360427856445\n",
      "(0.05099167308133215+0j)\n",
      "n_discard =  144\n",
      "discard samples 0.08039283752441406\n",
      "n_samples_node =  1000\n",
      "generate_samples :  0.06892156600952148\n",
      "     prepare getting local values 0.001653432846069336\n",
      "     obtained local values 0.004992961883544922\n",
      "get_mc_stats 0.007178068161010742\n"
     ]
    },
    {
     "name": "stderr",
     "output_type": "stream",
     "text": [
      " 63%|██████▎   | 632/1000 [02:04<01:12,  5.05it/s, Energy=-2.1058074+0.0000000j ± 0.0000076 [σ²=0.0000001]]"
     ]
    },
    {
     "name": "stdout",
     "output_type": "stream",
     "text": [
      "--->> cal O and jac  0.03104400634765625\n",
      "compute_update  0.03438878059387207\n",
      "(0.050999335301881915+0j)\n",
      "n_discard =  144\n",
      "discard samples 0.07754230499267578\n",
      "n_samples_node =  1000\n",
      "generate_samples :  0.06742405891418457\n",
      "     prepare getting local values 0.003412485122680664\n",
      "     obtained local values 0.009559154510498047\n",
      "get_mc_stats 0.012876749038696289\n",
      "--->> cal O and jac  0.035715579986572266\n"
     ]
    },
    {
     "name": "stderr",
     "output_type": "stream",
     "text": [
      " 63%|██████▎   | 633/1000 [02:04<01:12,  5.03it/s, Energy=-2.1058187+0.0000000j ± 0.0000091 [σ²=0.0000001]]"
     ]
    },
    {
     "name": "stdout",
     "output_type": "stream",
     "text": [
      "compute_update  0.03998994827270508\n",
      "(0.051007441762061734+0j)\n",
      "n_discard =  144\n",
      "discard samples 0.07471728324890137\n",
      "n_samples_node =  1000\n",
      "generate_samples :  0.07265329360961914\n",
      "     prepare getting local values 0.0035789012908935547\n",
      "     obtained local values 0.009198188781738281\n",
      "get_mc_stats 0.012560844421386719\n"
     ]
    },
    {
     "name": "stderr",
     "output_type": "stream",
     "text": [
      " 63%|██████▎   | 634/1000 [02:04<01:13,  4.99it/s, Energy=-2.105806+0.000000j ± 0.000011 [σ²=0.000000]]    "
     ]
    },
    {
     "name": "stdout",
     "output_type": "stream",
     "text": [
      "--->> cal O and jac  0.03948640823364258\n",
      "compute_update  0.04168534278869629\n",
      "(0.05101530487131653+0j)\n",
      "n_discard =  144\n",
      "discard samples 0.07482266426086426\n",
      "n_samples_node =  1000\n",
      "generate_samples :  0.0724785327911377\n",
      "     prepare getting local values 0.001720428466796875\n",
      "     obtained local values 0.009269952774047852\n",
      "get_mc_stats 0.011308670043945312\n"
     ]
    },
    {
     "name": "stderr",
     "output_type": "stream",
     "text": [
      " 64%|██████▎   | 635/1000 [02:04<01:12,  5.02it/s, Energy=-2.1058178+0.0000000j ± 0.0000075 [σ²=0.0000001]]"
     ]
    },
    {
     "name": "stdout",
     "output_type": "stream",
     "text": [
      "--->> cal O and jac  0.03342890739440918\n",
      "compute_update  0.03542661666870117\n",
      "(0.05102290118565708+0j)\n",
      "n_discard =  144\n",
      "discard samples 0.07599711418151855\n",
      "n_samples_node =  1000\n",
      "generate_samples :  0.07497739791870117\n",
      "     prepare getting local values 0.0041866302490234375\n",
      "     obtained local values 0.009794473648071289\n",
      "get_mc_stats 0.013221263885498047\n"
     ]
    },
    {
     "name": "stderr",
     "output_type": "stream",
     "text": [
      " 64%|██████▎   | 636/1000 [02:05<01:13,  4.96it/s, Energy=-2.1058203+0.0000000j ± 0.0000099 [σ²=0.0000001]]"
     ]
    },
    {
     "name": "stdout",
     "output_type": "stream",
     "text": [
      "--->> cal O and jac  0.03806471824645996\n",
      "compute_update  0.04149484634399414\n",
      "(0.05103056593452517+0j)\n",
      "n_discard =  144\n",
      "discard samples 0.07775259017944336\n",
      "n_samples_node =  1000\n",
      "generate_samples :  0.07322025299072266\n",
      "     prepare getting local values 0.0035636425018310547\n",
      "     obtained local values 0.006978034973144531\n",
      "get_mc_stats 0.00989389419555664\n"
     ]
    },
    {
     "name": "stderr",
     "output_type": "stream",
     "text": [
      " 64%|██████▎   | 637/1000 [02:05<01:13,  4.97it/s, Energy=-2.1058145+0.0000000j ± 0.0000074 [σ²=0.0000001]]"
     ]
    },
    {
     "name": "stdout",
     "output_type": "stream",
     "text": [
      "--->> cal O and jac  0.034397125244140625\n",
      "compute_update  0.03622889518737793\n",
      "(0.05103827923547388+0j)\n",
      "n_discard =  144\n",
      "discard samples 0.07644248008728027\n",
      "n_samples_node =  1000\n",
      "generate_samples :  0.07158589363098145\n",
      "     prepare getting local values 0.0016548633575439453\n",
      "     obtained local values 0.0050771236419677734\n",
      "get_mc_stats 0.0072536468505859375\n"
     ]
    },
    {
     "name": "stderr",
     "output_type": "stream",
     "text": [
      " 64%|██████▍   | 638/1000 [02:05<01:11,  5.07it/s, Energy=-2.1058193+0.0000000j ± 0.0000074 [σ²=0.0000001]]"
     ]
    },
    {
     "name": "stdout",
     "output_type": "stream",
     "text": [
      "--->> cal O and jac  0.028428077697753906\n",
      "compute_update  0.03038954734802246\n",
      "(0.051045901520916356+0j)\n",
      "n_discard =  144\n",
      "discard samples 0.07340240478515625\n",
      "n_samples_node =  1000\n",
      "generate_samples :  0.07272720336914062\n",
      "     prepare getting local values 0.0017709732055664062\n",
      "     obtained local values 0.005117177963256836\n",
      "get_mc_stats 0.007173061370849609\n"
     ]
    },
    {
     "name": "stderr",
     "output_type": "stream",
     "text": [
      " 64%|██████▍   | 639/1000 [02:05<01:10,  5.12it/s, Energy=-2.1058146+0.0000000j ± 0.0000075 [σ²=0.0000001]]"
     ]
    },
    {
     "name": "stdout",
     "output_type": "stream",
     "text": [
      "--->> cal O and jac  0.03328108787536621\n",
      "compute_update  0.03538012504577637\n",
      "(0.051053645396955546+0j)\n",
      "n_discard =  144\n",
      "discard samples 0.07585692405700684\n",
      "n_samples_node =  1000\n",
      "generate_samples :  0.07303166389465332\n",
      "     prepare getting local values 0.0029320716857910156\n",
      "     obtained local values 0.008616924285888672\n",
      "get_mc_stats 0.011661291122436523\n"
     ]
    },
    {
     "name": "stderr",
     "output_type": "stream",
     "text": [
      "\r",
      " 64%|██████▍   | 639/1000 [02:05<01:10,  5.12it/s, Energy=-2.1058201+0.0000000j ± 0.0000078 [σ²=0.0000001]]"
     ]
    },
    {
     "name": "stdout",
     "output_type": "stream",
     "text": [
      "--->> cal O and jac  0.03296923637390137\n",
      "compute_update  0.03632998466491699\n"
     ]
    },
    {
     "name": "stderr",
     "output_type": "stream",
     "text": [
      "\r",
      " 64%|██████▍   | 640/1000 [02:05<01:10,  5.09it/s, Energy=-2.1058201+0.0000000j ± 0.0000078 [σ²=0.0000001]]"
     ]
    },
    {
     "name": "stdout",
     "output_type": "stream",
     "text": [
      "(0.05106165443503315+0j)\n",
      "n_discard =  144\n",
      "discard samples 0.07375025749206543\n",
      "n_samples_node =  1000\n",
      "generate_samples :  0.07352113723754883\n",
      "     prepare getting local values 0.0021996498107910156\n",
      "     obtained local values 0.005579233169555664\n",
      "get_mc_stats 0.0077075958251953125\n"
     ]
    },
    {
     "name": "stderr",
     "output_type": "stream",
     "text": [
      "\r",
      " 64%|██████▍   | 640/1000 [02:06<01:10,  5.09it/s, Energy=-2.1058236+0.0000000j ± 0.0000098 [σ²=0.0000001]]"
     ]
    },
    {
     "name": "stdout",
     "output_type": "stream",
     "text": [
      "--->> cal O and jac  0.03798937797546387\n",
      "compute_update  0.04007124900817871\n"
     ]
    },
    {
     "name": "stderr",
     "output_type": "stream",
     "text": [
      "\r",
      " 64%|██████▍   | 641/1000 [02:06<01:10,  5.09it/s, Energy=-2.1058236+0.0000000j ± 0.0000098 [σ²=0.0000001]]"
     ]
    },
    {
     "name": "stdout",
     "output_type": "stream",
     "text": [
      "(0.05106885257993522+0j)\n",
      "n_discard =  144\n",
      "discard samples 0.08061528205871582\n",
      "n_samples_node =  1000\n",
      "generate_samples :  0.07459688186645508\n",
      "     prepare getting local values 0.0034284591674804688\n",
      "     obtained local values 0.00913095474243164\n",
      "get_mc_stats 0.012068748474121094\n"
     ]
    },
    {
     "name": "stderr",
     "output_type": "stream",
     "text": [
      " 64%|██████▍   | 642/1000 [02:06<01:11,  5.03it/s, Energy=-2.1058212+0.0000000j ± 0.0000076 [σ²=0.0000001]]"
     ]
    },
    {
     "name": "stdout",
     "output_type": "stream",
     "text": [
      "--->> cal O and jac  0.03262615203857422\n",
      "compute_update  0.03478860855102539\n",
      "(0.051075853347994644+0j)\n",
      "n_discard =  144\n",
      "discard samples 0.08241796493530273\n",
      "n_samples_node =  1000\n",
      "generate_samples :  0.07008028030395508\n",
      "     prepare getting local values 0.003591775894165039\n",
      "     obtained local values 0.009307384490966797\n",
      "get_mc_stats 0.012229681015014648\n"
     ]
    },
    {
     "name": "stderr",
     "output_type": "stream",
     "text": [
      " 64%|██████▍   | 643/1000 [02:06<01:11,  4.99it/s, Energy=-2.1058329+0.0000000j ± 0.0000078 [σ²=0.0000001]]"
     ]
    },
    {
     "name": "stdout",
     "output_type": "stream",
     "text": [
      "--->> cal O and jac  0.03394150733947754\n",
      "compute_update  0.03676009178161621\n",
      "(0.05108313383501244+0j)\n",
      "n_discard =  144\n",
      "discard samples 0.07492280006408691\n",
      "n_samples_node =  1000\n",
      "generate_samples :  0.07350635528564453\n",
      "     prepare getting local values 0.0029249191284179688\n",
      "     obtained local values 0.00910043716430664\n",
      "get_mc_stats 0.012686729431152344\n"
     ]
    },
    {
     "name": "stderr",
     "output_type": "stream",
     "text": [
      " 64%|██████▍   | 644/1000 [02:06<01:11,  4.98it/s, Energy=-2.1058252+0.0000000j ± 0.0000082 [σ²=0.0000001]]"
     ]
    },
    {
     "name": "stdout",
     "output_type": "stream",
     "text": [
      "--->> cal O and jac  0.03534746170043945\n",
      "compute_update  0.03752779960632324\n",
      "(0.05109069318653439+0j)\n",
      "n_discard =  144\n",
      "discard samples 0.07612085342407227\n",
      "n_samples_node =  1000\n",
      "generate_samples :  0.07133293151855469\n",
      "     prepare getting local values 0.003064870834350586\n",
      "     obtained local values 0.009272098541259766\n",
      "get_mc_stats 0.012536048889160156\n",
      "--->> cal O and jac  0.036476850509643555\n"
     ]
    },
    {
     "name": "stderr",
     "output_type": "stream",
     "text": [
      " 64%|██████▍   | 645/1000 [02:06<01:11,  4.98it/s, Energy=-2.1058233+0.0000000j ± 0.0000069 [σ²=0.0000001]]"
     ]
    },
    {
     "name": "stdout",
     "output_type": "stream",
     "text": [
      "compute_update  0.03905344009399414\n",
      "(0.05109814461566763+0j)\n",
      "n_discard =  144\n",
      "discard samples 0.07298660278320312\n",
      "n_samples_node =  1000\n",
      "generate_samples :  0.07246518135070801\n",
      "     prepare getting local values 0.003328084945678711\n",
      "     obtained local values 0.008975028991699219\n",
      "get_mc_stats 0.011745691299438477\n"
     ]
    },
    {
     "name": "stderr",
     "output_type": "stream",
     "text": [
      " 65%|██████▍   | 646/1000 [02:07<01:10,  5.03it/s, Energy=-2.1058124+0.0000000j ± 0.0000065 [σ²=0.0000001]]"
     ]
    },
    {
     "name": "stdout",
     "output_type": "stream",
     "text": [
      "--->> cal O and jac  0.032340288162231445\n",
      "compute_update  0.03438901901245117\n",
      "(0.05110557510920129+0j)\n",
      "n_discard =  144\n",
      "discard samples 0.07487797737121582\n",
      "n_samples_node =  1000\n",
      "generate_samples :  0.0682229995727539\n",
      "     prepare getting local values 0.0029659271240234375\n",
      "     obtained local values 0.009128093719482422\n",
      "get_mc_stats 0.01266336441040039\n"
     ]
    },
    {
     "name": "stderr",
     "output_type": "stream",
     "text": [
      " 65%|██████▍   | 647/1000 [02:07<01:09,  5.11it/s, Energy=-2.1058135+0.0000000j ± 0.0000089 [σ²=0.0000001]]"
     ]
    },
    {
     "name": "stdout",
     "output_type": "stream",
     "text": [
      "--->> cal O and jac  0.028705358505249023\n",
      "compute_update  0.0306551456451416\n",
      "(0.051113155884793225+0j)\n",
      "n_discard =  144\n",
      "discard samples 0.07431697845458984\n",
      "n_samples_node =  1000\n",
      "generate_samples :  0.07288813591003418\n",
      "     prepare getting local values 0.003093242645263672\n",
      "     obtained local values 0.009209156036376953\n",
      "get_mc_stats 0.01234292984008789\n"
     ]
    },
    {
     "name": "stderr",
     "output_type": "stream",
     "text": [
      " 65%|██████▍   | 648/1000 [02:07<01:08,  5.13it/s, Energy=-2.1058219+0.0000000j ± 0.0000078 [σ²=0.0000001]]"
     ]
    },
    {
     "name": "stdout",
     "output_type": "stream",
     "text": [
      "--->> cal O and jac  0.02794957160949707\n",
      "compute_update  0.03131842613220215\n",
      "(0.051120610972213536+0j)\n",
      "n_discard =  144\n",
      "discard samples 0.08136773109436035\n",
      "n_samples_node =  1000\n",
      "generate_samples :  0.07341718673706055\n",
      "     prepare getting local values 0.003824472427368164\n",
      "     obtained local values 0.008716344833374023\n",
      "get_mc_stats 0.011280059814453125\n"
     ]
    },
    {
     "name": "stderr",
     "output_type": "stream",
     "text": [
      " 65%|██████▍   | 649/1000 [02:07<01:09,  5.06it/s, Energy=-2.1058289+0.0000000j ± 0.0000087 [σ²=0.0000001]]"
     ]
    },
    {
     "name": "stdout",
     "output_type": "stream",
     "text": [
      "--->> cal O and jac  0.0331881046295166\n",
      "compute_update  0.0353398323059082\n",
      "(0.05112788308826095+0j)\n",
      "n_discard =  144\n",
      "discard samples 0.07705354690551758\n",
      "n_samples_node =  1000\n",
      "generate_samples :  0.0701746940612793\n",
      "     prepare getting local values 0.0027723312377929688\n",
      "     obtained local values 0.006231784820556641\n",
      "get_mc_stats 0.009226083755493164\n",
      "--->> cal O and jac  0.03653287887573242\n",
      "compute_update  0.039734840393066406\n"
     ]
    },
    {
     "name": "stderr",
     "output_type": "stream",
     "text": [
      " 65%|██████▌   | 650/1000 [02:07<01:09,  5.05it/s, Energy=-2.1058372+0.0000000j ± 0.0000064 [σ²=0.0000001]]"
     ]
    },
    {
     "name": "stdout",
     "output_type": "stream",
     "text": [
      "(0.05113538974431581+0j)\n",
      "n_discard =  144\n",
      "discard samples 0.07632684707641602\n",
      "n_samples_node =  1000\n",
      "generate_samples :  0.06891250610351562\n",
      "     prepare getting local values 0.0029060840606689453\n",
      "     obtained local values 0.006544351577758789\n",
      "get_mc_stats 0.009500265121459961\n"
     ]
    },
    {
     "name": "stderr",
     "output_type": "stream",
     "text": [
      " 65%|██████▌   | 651/1000 [02:08<01:07,  5.13it/s, Energy=-2.1058088+0.0000000j ± 0.0000081 [σ²=0.0000001]]"
     ]
    },
    {
     "name": "stdout",
     "output_type": "stream",
     "text": [
      "--->> cal O and jac  0.028455018997192383\n",
      "compute_update  0.03037548065185547\n",
      "(0.05114307674355536+0j)\n",
      "n_discard =  144\n",
      "discard samples 0.07420921325683594\n",
      "n_samples_node =  1000\n",
      "generate_samples :  0.07710862159729004\n",
      "     prepare getting local values 0.0034563541412353516\n",
      "     obtained local values 0.0071141719818115234\n",
      "get_mc_stats 0.01033926010131836\n"
     ]
    },
    {
     "name": "stderr",
     "output_type": "stream",
     "text": [
      " 65%|██████▌   | 652/1000 [02:08<01:07,  5.12it/s, Energy=-2.1058226+0.0000000j ± 0.0000082 [σ²=0.0000001]]"
     ]
    },
    {
     "name": "stdout",
     "output_type": "stream",
     "text": [
      "--->> cal O and jac  0.03049445152282715\n",
      "compute_update  0.03259611129760742\n",
      "(0.051150587972097136+0j)\n",
      "n_discard =  144\n",
      "discard samples 0.08050823211669922\n",
      "n_samples_node =  1000\n",
      "generate_samples :  0.06930899620056152\n",
      "     prepare getting local values 0.003184080123901367\n",
      "     obtained local values 0.009820699691772461\n",
      "get_mc_stats 0.013221979141235352\n",
      "--->> cal O and jac  0.03412008285522461\n"
     ]
    },
    {
     "name": "stderr",
     "output_type": "stream",
     "text": [
      " 65%|██████▌   | 653/1000 [02:08<01:08,  5.07it/s, Energy=-2.1058358+0.0000000j ± 0.0000081 [σ²=0.0000001]]"
     ]
    },
    {
     "name": "stdout",
     "output_type": "stream",
     "text": [
      "compute_update  0.036336660385131836\n",
      "(0.05115823493115816+0j)\n",
      "n_discard =  144\n",
      "discard samples 0.07598400115966797\n",
      "n_samples_node =  1000\n",
      "generate_samples :  0.07402801513671875\n",
      "     prepare getting local values 0.0037720203399658203\n",
      "     obtained local values 0.009573936462402344\n",
      "get_mc_stats 0.012082815170288086\n",
      "--->> cal O and jac  0.03455615043640137\n"
     ]
    },
    {
     "name": "stderr",
     "output_type": "stream",
     "text": [
      " 65%|██████▌   | 654/1000 [02:08<01:08,  5.02it/s, Energy=-2.1058195+0.0000000j ± 0.0000045 [σ²=0.0000001]]"
     ]
    },
    {
     "name": "stdout",
     "output_type": "stream",
     "text": [
      "compute_update  0.03952312469482422\n",
      "(0.0511657045686734+0j)\n",
      "n_discard =  144\n",
      "discard samples 0.07931828498840332\n",
      "n_samples_node =  1000\n",
      "generate_samples :  0.07103538513183594\n",
      "     prepare getting local values 0.0032880306243896484\n",
      "     obtained local values 0.006716728210449219\n",
      "get_mc_stats 0.009753942489624023\n"
     ]
    },
    {
     "name": "stderr",
     "output_type": "stream",
     "text": [
      " 66%|██████▌   | 655/1000 [02:08<01:08,  5.02it/s, Energy=-2.1058302+0.0000000j ± 0.0000088 [σ²=0.0000001]]"
     ]
    },
    {
     "name": "stdout",
     "output_type": "stream",
     "text": [
      "--->> cal O and jac  0.0346217155456543\n",
      "compute_update  0.036478281021118164\n",
      "(0.051173343959617+0j)\n",
      "n_discard =  144\n",
      "discard samples 0.07280278205871582\n",
      "n_samples_node =  1000\n",
      "generate_samples :  0.06523299217224121\n",
      "     prepare getting local values 0.0017485618591308594\n",
      "     obtained local values 0.005303382873535156\n",
      "get_mc_stats 0.007398843765258789\n"
     ]
    },
    {
     "name": "stderr",
     "output_type": "stream",
     "text": [
      " 66%|██████▌   | 656/1000 [02:09<01:06,  5.16it/s, Energy=-2.1058175+0.0000000j ± 0.0000064 [σ²=0.0000001]]"
     ]
    },
    {
     "name": "stdout",
     "output_type": "stream",
     "text": [
      "--->> cal O and jac  0.03208756446838379\n",
      "compute_update  0.034078359603881836\n",
      "(0.051180954439180325+0j)\n",
      "n_discard =  144\n",
      "discard samples 0.07242417335510254\n",
      "n_samples_node =  1000\n",
      "generate_samples :  0.07172250747680664\n",
      "     prepare getting local values 0.003159046173095703\n",
      "     obtained local values 0.008595705032348633\n",
      "get_mc_stats 0.01163482666015625\n"
     ]
    },
    {
     "name": "stderr",
     "output_type": "stream",
     "text": [
      " 66%|██████▌   | 657/1000 [02:09<01:06,  5.19it/s, Energy=-2.1058224+0.0000000j ± 0.0000072 [σ²=0.0000001]]"
     ]
    },
    {
     "name": "stdout",
     "output_type": "stream",
     "text": [
      "--->> cal O and jac  0.030083656311035156\n",
      "compute_update  0.03222799301147461\n",
      "(0.051188807757173695+0j)\n",
      "n_discard =  144\n",
      "discard samples 0.07883715629577637\n",
      "n_samples_node =  1000\n",
      "generate_samples :  0.07030057907104492\n",
      "     prepare getting local values 0.001672506332397461\n",
      "     obtained local values 0.005006313323974609\n",
      "get_mc_stats 0.0074694156646728516\n"
     ]
    },
    {
     "name": "stderr",
     "output_type": "stream",
     "text": [
      " 66%|██████▌   | 658/1000 [02:09<01:05,  5.22it/s, Energy=-2.1058172+0.0000000j ± 0.0000062 [σ²=0.0000000]]"
     ]
    },
    {
     "name": "stdout",
     "output_type": "stream",
     "text": [
      "--->> cal O and jac  0.02877497673034668\n",
      "compute_update  0.030616283416748047\n",
      "(0.05119661454563061+0j)\n",
      "n_discard =  144\n",
      "discard samples 0.07613873481750488\n",
      "n_samples_node =  1000\n",
      "generate_samples :  0.0727546215057373\n",
      "     prepare getting local values 0.003445148468017578\n",
      "     obtained local values 0.010179996490478516\n",
      "get_mc_stats 0.013698101043701172\n"
     ]
    },
    {
     "name": "stderr",
     "output_type": "stream",
     "text": [
      " 66%|██████▌   | 659/1000 [02:09<01:05,  5.18it/s, Energy=-2.1058169+0.0000000j ± 0.0000061 [σ²=0.0000000]]"
     ]
    },
    {
     "name": "stdout",
     "output_type": "stream",
     "text": [
      "--->> cal O and jac  0.03056621551513672\n",
      "compute_update  0.032843589782714844\n",
      "(0.05120383033892713+0j)\n",
      "n_discard =  144\n",
      "discard samples 0.07301616668701172\n",
      "n_samples_node =  1000\n",
      "generate_samples :  0.07592487335205078\n",
      "     prepare getting local values 0.004239082336425781\n",
      "     obtained local values 0.009682655334472656\n",
      "get_mc_stats 0.012486934661865234\n"
     ]
    },
    {
     "name": "stderr",
     "output_type": "stream",
     "text": [
      " 66%|██████▌   | 660/1000 [02:09<01:06,  5.09it/s, Energy=-2.1058180+0.0000000j ± 0.0000079 [σ²=0.0000001]]"
     ]
    },
    {
     "name": "stdout",
     "output_type": "stream",
     "text": [
      "--->> cal O and jac  0.03623700141906738\n",
      "compute_update  0.03961014747619629\n",
      "(0.05121131067316371+0j)\n",
      "n_discard =  144\n",
      "discard samples 0.07867908477783203\n",
      "n_samples_node =  1000\n",
      "generate_samples :  0.06764698028564453\n",
      "     prepare getting local values 0.0034644603729248047\n",
      "     obtained local values 0.009854316711425781\n",
      "get_mc_stats 0.01244044303894043\n"
     ]
    },
    {
     "name": "stderr",
     "output_type": "stream",
     "text": [
      " 66%|██████▌   | 661/1000 [02:10<01:06,  5.13it/s, Energy=-2.1058112+0.0000000j ± 0.0000058 [σ²=0.0000000]]"
     ]
    },
    {
     "name": "stdout",
     "output_type": "stream",
     "text": [
      "--->> cal O and jac  0.02740025520324707\n",
      "compute_update  0.030563831329345703\n",
      "(0.05121887307735392+0j)\n",
      "n_discard =  144\n",
      "discard samples 0.07970261573791504\n",
      "n_samples_node =  1000\n",
      "generate_samples :  0.06839418411254883\n",
      "     prepare getting local values 0.0024194717407226562\n",
      "     obtained local values 0.006017923355102539\n",
      "get_mc_stats 0.009561300277709961\n"
     ]
    },
    {
     "name": "stderr",
     "output_type": "stream",
     "text": [
      " 66%|██████▌   | 662/1000 [02:10<01:06,  5.07it/s, Energy=-2.1058277+0.0000000j ± 0.0000075 [σ²=0.0000000]]"
     ]
    },
    {
     "name": "stdout",
     "output_type": "stream",
     "text": [
      "--->> cal O and jac  0.03863096237182617\n",
      "compute_update  0.04183650016784668\n",
      "(0.05122653074339685+0j)\n",
      "n_discard =  144\n",
      "discard samples 0.07540583610534668\n",
      "n_samples_node =  1000\n",
      "generate_samples :  0.06855058670043945\n",
      "     prepare getting local values 0.003876209259033203\n",
      "     obtained local values 0.0076634883880615234\n",
      "get_mc_stats 0.010850667953491211\n"
     ]
    },
    {
     "name": "stderr",
     "output_type": "stream",
     "text": [
      " 66%|██████▋   | 663/1000 [02:10<01:05,  5.14it/s, Energy=-2.1058322+0.0000000j ± 0.0000079 [σ²=0.0000000]]"
     ]
    },
    {
     "name": "stdout",
     "output_type": "stream",
     "text": [
      "--->> cal O and jac  0.02974700927734375\n",
      "compute_update  0.03169679641723633\n",
      "(0.05123405029235645+0j)\n",
      "n_discard =  144\n",
      "discard samples 0.07463479042053223\n",
      "n_samples_node =  1000\n",
      "generate_samples :  0.07322502136230469\n",
      "     prepare getting local values 0.001758575439453125\n",
      "     obtained local values 0.005118608474731445\n",
      "get_mc_stats 0.007284402847290039\n"
     ]
    },
    {
     "name": "stderr",
     "output_type": "stream",
     "text": [
      " 66%|██████▋   | 664/1000 [02:10<01:04,  5.17it/s, Energy=-2.1058219+0.0000000j ± 0.0000061 [σ²=0.0000000]]"
     ]
    },
    {
     "name": "stdout",
     "output_type": "stream",
     "text": [
      "--->> cal O and jac  0.03180742263793945\n",
      "compute_update  0.033626556396484375\n",
      "(0.05124154245853391+0j)\n",
      "n_discard =  144\n",
      "discard samples 0.07272553443908691\n",
      "n_samples_node =  1000\n",
      "generate_samples :  0.07281756401062012\n",
      "     prepare getting local values 0.002886533737182617\n",
      "     obtained local values 0.00668644905090332\n",
      "get_mc_stats 0.009475946426391602\n"
     ]
    },
    {
     "name": "stderr",
     "output_type": "stream",
     "text": [
      " 66%|██████▋   | 665/1000 [02:10<01:04,  5.20it/s, Energy=-2.1058175+0.0000000j ± 0.0000056 [σ²=0.0000000]]"
     ]
    },
    {
     "name": "stdout",
     "output_type": "stream",
     "text": [
      "--->> cal O and jac  0.030184507369995117\n",
      "compute_update  0.03351473808288574\n",
      "(0.05124878340040939+0j)\n",
      "n_discard =  144\n",
      "discard samples 0.07372903823852539\n",
      "n_samples_node =  1000\n",
      "generate_samples :  0.07331109046936035\n",
      "     prepare getting local values 0.003680706024169922\n",
      "     obtained local values 0.0073888301849365234\n",
      "get_mc_stats 0.010751485824584961\n"
     ]
    },
    {
     "name": "stderr",
     "output_type": "stream",
     "text": [
      "\r",
      " 66%|██████▋   | 665/1000 [02:11<01:04,  5.20it/s, Energy=-2.1058303+0.0000000j ± 0.0000059 [σ²=0.0000000]]"
     ]
    },
    {
     "name": "stdout",
     "output_type": "stream",
     "text": [
      "--->> cal O and jac  0.03483009338378906\n",
      "compute_update  0.03694558143615723\n"
     ]
    },
    {
     "name": "stderr",
     "output_type": "stream",
     "text": [
      "\r",
      " 67%|██████▋   | 666/1000 [02:11<01:04,  5.16it/s, Energy=-2.1058303+0.0000000j ± 0.0000059 [σ²=0.0000000]]"
     ]
    },
    {
     "name": "stdout",
     "output_type": "stream",
     "text": [
      "(0.05125592646019432+0j)\n",
      "n_discard =  144\n",
      "discard samples 0.08099079132080078\n",
      "n_samples_node =  1000\n",
      "generate_samples :  0.07658958435058594\n",
      "     prepare getting local values 0.003747701644897461\n",
      "     obtained local values 0.0073244571685791016\n",
      "get_mc_stats 0.010266780853271484\n",
      "--->> cal O and jac  0.02766132354736328\n"
     ]
    },
    {
     "name": "stderr",
     "output_type": "stream",
     "text": [
      " 67%|██████▋   | 667/1000 [02:11<01:05,  5.11it/s, Energy=-2.1058142+0.0000000j ± 0.0000072 [σ²=0.0000000]]"
     ]
    },
    {
     "name": "stdout",
     "output_type": "stream",
     "text": [
      "compute_update  0.030199050903320312\n",
      "(0.051262968546065046+0j)\n",
      "n_discard =  144\n",
      "discard samples 0.07087516784667969\n",
      "n_samples_node =  1000\n",
      "generate_samples :  0.07116436958312988\n",
      "     prepare getting local values 0.003546476364135742\n",
      "     obtained local values 0.008712530136108398\n",
      "get_mc_stats 0.01185464859008789\n"
     ]
    },
    {
     "name": "stderr",
     "output_type": "stream",
     "text": [
      " 67%|██████▋   | 668/1000 [02:11<01:04,  5.13it/s, Energy=-2.1058222+0.0000000j ± 0.0000057 [σ²=0.0000000]]"
     ]
    },
    {
     "name": "stdout",
     "output_type": "stream",
     "text": [
      "--->> cal O and jac  0.03553199768066406\n",
      "compute_update  0.03773355484008789\n",
      "(0.051269784603851114+0j)\n",
      "n_discard =  144\n",
      "discard samples 0.07881903648376465\n",
      "n_samples_node =  1000\n",
      "generate_samples :  0.06643080711364746\n",
      "     prepare getting local values 0.0033600330352783203\n",
      "     obtained local values 0.009410858154296875\n",
      "get_mc_stats 0.012711048126220703\n"
     ]
    },
    {
     "name": "stderr",
     "output_type": "stream",
     "text": [
      " 67%|██████▋   | 669/1000 [02:11<01:04,  5.15it/s, Energy=-2.1058241+0.0000000j ± 0.0000059 [σ²=0.0000000]]"
     ]
    },
    {
     "name": "stdout",
     "output_type": "stream",
     "text": [
      "--->> cal O and jac  0.030177593231201172\n",
      "compute_update  0.03207516670227051\n",
      "(0.051276653549325785+0j)\n",
      "n_discard =  144\n",
      "discard samples 0.09163308143615723\n",
      "n_samples_node =  1000\n",
      "generate_samples :  0.0710606575012207\n",
      "     prepare getting local values 0.003522634506225586\n",
      "     obtained local values 0.010386943817138672\n",
      "get_mc_stats 0.013284683227539062\n"
     ]
    },
    {
     "name": "stderr",
     "output_type": "stream",
     "text": [
      " 67%|██████▋   | 670/1000 [02:11<01:06,  5.00it/s, Energy=-2.1058289+0.0000000j ± 0.0000056 [σ²=0.0000000]]"
     ]
    },
    {
     "name": "stdout",
     "output_type": "stream",
     "text": [
      "--->> cal O and jac  0.03384542465209961\n",
      "compute_update  0.03619670867919922\n",
      "(0.05128349215014384+0j)\n",
      "n_discard =  144\n",
      "discard samples 0.07158255577087402\n",
      "n_samples_node =  1000\n",
      "generate_samples :  0.08211135864257812\n",
      "     prepare getting local values 0.003492593765258789\n",
      "     obtained local values 0.010027885437011719\n",
      "get_mc_stats 0.01264810562133789\n"
     ]
    },
    {
     "name": "stderr",
     "output_type": "stream",
     "text": [
      "\r",
      " 67%|██████▋   | 670/1000 [02:12<01:06,  5.00it/s, Energy=-2.1058037+0.0000000j ± 0.0000051 [σ²=0.0000000]]"
     ]
    },
    {
     "name": "stdout",
     "output_type": "stream",
     "text": [
      "--->> cal O and jac  0.027582883834838867\n",
      "compute_update  0.029955625534057617\n"
     ]
    },
    {
     "name": "stderr",
     "output_type": "stream",
     "text": [
      "\r",
      " 67%|██████▋   | 671/1000 [02:12<01:05,  5.01it/s, Energy=-2.1058037+0.0000000j ± 0.0000051 [σ²=0.0000000]]"
     ]
    },
    {
     "name": "stdout",
     "output_type": "stream",
     "text": [
      "(0.05129051392881378+0j)\n",
      "n_discard =  144\n",
      "discard samples 0.08464527130126953\n",
      "n_samples_node =  1000\n",
      "generate_samples :  0.07236289978027344\n",
      "     prepare getting local values 0.0036079883575439453\n",
      "     obtained local values 0.00919198989868164\n",
      "get_mc_stats 0.012149333953857422\n"
     ]
    },
    {
     "name": "stderr",
     "output_type": "stream",
     "text": [
      " 67%|██████▋   | 672/1000 [02:12<01:06,  4.96it/s, Energy=-2.1058188+0.0000000j ± 0.0000057 [σ²=0.0000000]]"
     ]
    },
    {
     "name": "stdout",
     "output_type": "stream",
     "text": [
      "--->> cal O and jac  0.033800601959228516\n",
      "compute_update  0.03553128242492676\n",
      "(0.05129747659932653+0j)\n",
      "n_discard =  144\n",
      "discard samples 0.07495331764221191\n",
      "n_samples_node =  1000\n",
      "generate_samples :  0.07254433631896973\n",
      "     prepare getting local values 0.0039904117584228516\n",
      "     obtained local values 0.010790109634399414\n",
      "get_mc_stats 0.013908147811889648\n"
     ]
    },
    {
     "name": "stderr",
     "output_type": "stream",
     "text": [
      " 67%|██████▋   | 673/1000 [02:12<01:06,  4.95it/s, Energy=-2.1058191+0.0000000j ± 0.0000067 [σ²=0.0000000]]"
     ]
    },
    {
     "name": "stdout",
     "output_type": "stream",
     "text": [
      "--->> cal O and jac  0.03602194786071777\n",
      "compute_update  0.03908038139343262\n",
      "(0.051304350968223035+0j)\n",
      "n_discard =  144\n",
      "discard samples 0.0739755630493164\n",
      "n_samples_node =  1000\n",
      "generate_samples :  0.06947088241577148\n",
      "     prepare getting local values 0.0040454864501953125\n",
      "     obtained local values 0.00905466079711914\n",
      "get_mc_stats 0.012217044830322266\n",
      "--->> cal O and jac  0.036826133728027344\n"
     ]
    },
    {
     "name": "stderr",
     "output_type": "stream",
     "text": [
      " 67%|██████▋   | 674/1000 [02:12<01:05,  4.98it/s, Energy=-2.1058191+0.0000000j ± 0.0000075 [σ²=0.0000000]]"
     ]
    },
    {
     "name": "stdout",
     "output_type": "stream",
     "text": [
      "compute_update  0.040430307388305664\n",
      "(0.051311039379661014+0j)\n",
      "n_discard =  144\n",
      "discard samples 0.07831478118896484\n",
      "n_samples_node =  1000\n",
      "generate_samples :  0.06946969032287598\n",
      "     prepare getting local values 0.0034894943237304688\n",
      "     obtained local values 0.007512331008911133\n",
      "get_mc_stats 0.010761260986328125\n"
     ]
    },
    {
     "name": "stderr",
     "output_type": "stream",
     "text": [
      " 68%|██████▊   | 675/1000 [02:12<01:04,  5.06it/s, Energy=-2.1058219+0.0000000j ± 0.0000043 [σ²=0.0000000]]"
     ]
    },
    {
     "name": "stdout",
     "output_type": "stream",
     "text": [
      "--->> cal O and jac  0.02768850326538086\n",
      "compute_update  0.02978372573852539\n",
      "(0.051317657990679964+0j)\n",
      "n_discard =  144\n",
      "discard samples 0.07612872123718262\n",
      "n_samples_node =  1000\n",
      "generate_samples :  0.0741736888885498\n",
      "     prepare getting local values 0.0035552978515625\n",
      "     obtained local values 0.009214639663696289\n",
      "get_mc_stats 0.012370109558105469\n"
     ]
    },
    {
     "name": "stderr",
     "output_type": "stream",
     "text": [
      " 68%|██████▊   | 676/1000 [02:13<01:04,  5.03it/s, Energy=-2.1058091+0.0000000j ± 0.0000070 [σ²=0.0000000]]"
     ]
    },
    {
     "name": "stdout",
     "output_type": "stream",
     "text": [
      "--->> cal O and jac  0.035050153732299805\n",
      "compute_update  0.03699636459350586\n",
      "(0.051324306935942934+0j)\n",
      "n_discard =  144\n",
      "discard samples 0.08385300636291504\n",
      "n_samples_node =  1000\n",
      "generate_samples :  0.08159732818603516\n",
      "     prepare getting local values 0.002026796340942383\n",
      "     obtained local values 0.005408287048339844\n",
      "get_mc_stats 0.007178783416748047\n"
     ]
    },
    {
     "name": "stderr",
     "output_type": "stream",
     "text": [
      " 68%|██████▊   | 677/1000 [02:13<01:05,  4.93it/s, Energy=-2.1058098+0.0000000j ± 0.0000059 [σ²=0.0000000]]"
     ]
    },
    {
     "name": "stdout",
     "output_type": "stream",
     "text": [
      "--->> cal O and jac  0.03562474250793457\n",
      "compute_update  0.03773307800292969\n",
      "(0.05133105576791501+0j)\n",
      "n_discard =  144\n",
      "discard samples 0.07948422431945801\n",
      "n_samples_node =  1000\n",
      "generate_samples :  0.0707244873046875\n",
      "     prepare getting local values 0.003932476043701172\n",
      "     obtained local values 0.01160120964050293\n",
      "get_mc_stats 0.014913320541381836\n"
     ]
    },
    {
     "name": "stderr",
     "output_type": "stream",
     "text": [
      " 68%|██████▊   | 678/1000 [02:13<01:05,  4.92it/s, Energy=-2.1058101+0.0000000j ± 0.0000047 [σ²=0.0000000]]"
     ]
    },
    {
     "name": "stdout",
     "output_type": "stream",
     "text": [
      "--->> cal O and jac  0.03515958786010742\n",
      "compute_update  0.037313222885131836\n",
      "(0.05133752005948888+0j)\n",
      "n_discard =  144\n",
      "discard samples 0.07587552070617676\n",
      "n_samples_node =  1000\n",
      "generate_samples :  0.06882834434509277\n",
      "     prepare getting local values 0.003444194793701172\n",
      "     obtained local values 0.00899648666381836\n",
      "get_mc_stats 0.012175321578979492\n"
     ]
    },
    {
     "name": "stderr",
     "output_type": "stream",
     "text": [
      " 68%|██████▊   | 679/1000 [02:13<01:04,  4.98it/s, Energy=-2.1058269+0.0000000j ± 0.0000065 [σ²=0.0000000]]"
     ]
    },
    {
     "name": "stdout",
     "output_type": "stream",
     "text": [
      "--->> cal O and jac  0.03239321708679199\n",
      "compute_update  0.035430908203125\n",
      "(0.0513439352826755+0j)\n",
      "n_discard =  144\n",
      "discard samples 0.07868218421936035\n",
      "n_samples_node =  1000\n",
      "generate_samples :  0.06890606880187988\n",
      "     prepare getting local values 0.004114389419555664\n",
      "     obtained local values 0.010840415954589844\n",
      "get_mc_stats 0.013979673385620117\n",
      "--->> cal O and jac  0.0320591926574707\n"
     ]
    },
    {
     "name": "stderr",
     "output_type": "stream",
     "text": [
      " 68%|██████▊   | 680/1000 [02:13<01:04,  4.99it/s, Energy=-2.1058197+0.0000000j ± 0.0000059 [σ²=0.0000000]]"
     ]
    },
    {
     "name": "stdout",
     "output_type": "stream",
     "text": [
      "compute_update  0.03485465049743652\n",
      "(0.0513502025541767+0j)\n",
      "n_discard =  144\n",
      "discard samples 0.07580423355102539\n",
      "n_samples_node =  1000\n",
      "generate_samples :  0.07126474380493164\n",
      "     prepare getting local values 0.003456592559814453\n",
      "     obtained local values 0.008327484130859375\n",
      "get_mc_stats 0.011297941207885742\n"
     ]
    },
    {
     "name": "stderr",
     "output_type": "stream",
     "text": [
      " 68%|██████▊   | 681/1000 [02:14<01:03,  5.02it/s, Energy=-2.1058133+0.0000000j ± 0.0000054 [σ²=0.0000000]]"
     ]
    },
    {
     "name": "stdout",
     "output_type": "stream",
     "text": [
      "--->> cal O and jac  0.03460192680358887\n",
      "compute_update  0.0365910530090332\n",
      "(0.051356523054544606+0j)\n",
      "n_discard =  144\n",
      "discard samples 0.07916522026062012\n",
      "n_samples_node =  1000\n",
      "generate_samples :  0.07141804695129395\n",
      "     prepare getting local values 0.0030655860900878906\n",
      "     obtained local values 0.008960485458374023\n",
      "get_mc_stats 0.01253819465637207\n"
     ]
    },
    {
     "name": "stderr",
     "output_type": "stream",
     "text": [
      " 68%|██████▊   | 682/1000 [02:14<01:03,  4.98it/s, Energy=-2.1058184+0.0000000j ± 0.0000051 [σ²=0.0000000]]"
     ]
    },
    {
     "name": "stdout",
     "output_type": "stream",
     "text": [
      "--->> cal O and jac  0.038529396057128906\n",
      "compute_update  0.04023265838623047\n",
      "(0.05136285403533216+0j)\n",
      "n_discard =  144\n",
      "discard samples 0.07862210273742676\n",
      "n_samples_node =  1000\n",
      "generate_samples :  0.07127499580383301\n",
      "     prepare getting local values 0.004790782928466797\n",
      "     obtained local values 0.008581161499023438\n",
      "get_mc_stats 0.012426137924194336\n"
     ]
    },
    {
     "name": "stderr",
     "output_type": "stream",
     "text": [
      " 68%|██████▊   | 683/1000 [02:14<01:03,  4.96it/s, Energy=-2.1058186+0.0000000j ± 0.0000059 [σ²=0.0000000]]"
     ]
    },
    {
     "name": "stdout",
     "output_type": "stream",
     "text": [
      "--->> cal O and jac  0.03686380386352539\n",
      "compute_update  0.03888559341430664\n",
      "(0.051369124565672705+0j)\n",
      "n_discard =  144\n",
      "discard samples 0.0747373104095459\n",
      "n_samples_node =  1000\n",
      "generate_samples :  0.07680153846740723\n",
      "     prepare getting local values 0.0038483142852783203\n",
      "     obtained local values 0.007982730865478516\n",
      "get_mc_stats 0.010927200317382812\n"
     ]
    },
    {
     "name": "stderr",
     "output_type": "stream",
     "text": [
      " 68%|██████▊   | 684/1000 [02:14<01:03,  4.95it/s, Energy=-2.1058204+0.0000000j ± 0.0000062 [σ²=0.0000000]]"
     ]
    },
    {
     "name": "stdout",
     "output_type": "stream",
     "text": [
      "--->> cal O and jac  0.035433292388916016\n",
      "compute_update  0.03796887397766113\n",
      "(0.051375202062386265+0j)\n",
      "n_discard =  144\n",
      "discard samples 0.07877874374389648\n",
      "n_samples_node =  1000\n",
      "generate_samples :  0.07042956352233887\n",
      "     prepare getting local values 0.00368499755859375\n",
      "     obtained local values 0.009604930877685547\n",
      "get_mc_stats 0.012775659561157227\n",
      "--->> cal O and jac  0.03200840950012207\n"
     ]
    },
    {
     "name": "stderr",
     "output_type": "stream",
     "text": [
      " 68%|██████▊   | 685/1000 [02:14<01:03,  4.97it/s, Energy=-2.1058138+0.0000000j ± 0.0000053 [σ²=0.0000000]]"
     ]
    },
    {
     "name": "stdout",
     "output_type": "stream",
     "text": [
      "compute_update  0.035379648208618164\n",
      "(0.051381260559354706+0j)\n",
      "n_discard =  144\n",
      "discard samples 0.0747222900390625\n",
      "n_samples_node =  1000\n",
      "generate_samples :  0.07177948951721191\n",
      "     prepare getting local values 0.0018084049224853516\n",
      "     obtained local values 0.0052645206451416016\n",
      "get_mc_stats 0.0076732635498046875\n"
     ]
    },
    {
     "name": "stderr",
     "output_type": "stream",
     "text": [
      " 69%|██████▊   | 686/1000 [02:15<01:02,  5.03it/s, Energy=-2.1058190+0.0000000j ± 0.0000044 [σ²=0.0000000]]"
     ]
    },
    {
     "name": "stdout",
     "output_type": "stream",
     "text": [
      "--->> cal O and jac  0.034956932067871094\n",
      "compute_update  0.03702211380004883\n",
      "(0.05138730185790008+0j)\n",
      "n_discard =  144\n",
      "discard samples 0.07671928405761719\n",
      "n_samples_node =  1000\n",
      "generate_samples :  0.07342410087585449\n",
      "     prepare getting local values 0.0032575130462646484\n",
      "     obtained local values 0.009531974792480469\n",
      "get_mc_stats 0.012939691543579102\n"
     ]
    },
    {
     "name": "stderr",
     "output_type": "stream",
     "text": [
      " 69%|██████▊   | 687/1000 [02:15<01:02,  4.99it/s, Energy=-2.1058233+0.0000000j ± 0.0000048 [σ²=0.0000000]]"
     ]
    },
    {
     "name": "stdout",
     "output_type": "stream",
     "text": [
      "--->> cal O and jac  0.03531646728515625\n",
      "compute_update  0.03868579864501953\n",
      "(0.05139336871549137+0j)\n",
      "n_discard =  144\n",
      "discard samples 0.07721424102783203\n",
      "n_samples_node =  1000\n",
      "generate_samples :  0.06916165351867676\n",
      "     prepare getting local values 0.003159046173095703\n",
      "     obtained local values 0.009268760681152344\n",
      "get_mc_stats 0.012473344802856445\n"
     ]
    },
    {
     "name": "stderr",
     "output_type": "stream",
     "text": [
      "\r",
      " 69%|██████▊   | 687/1000 [02:15<01:02,  4.99it/s, Energy=-2.1058166+0.0000000j ± 0.0000047 [σ²=0.0000000]]"
     ]
    },
    {
     "name": "stdout",
     "output_type": "stream",
     "text": [
      "--->> cal O and jac  0.03305840492248535\n",
      "compute_update  0.03560280799865723\n"
     ]
    },
    {
     "name": "stderr",
     "output_type": "stream",
     "text": [
      "\r",
      " 69%|██████▉   | 688/1000 [02:15<01:02,  5.02it/s, Energy=-2.1058166+0.0000000j ± 0.0000047 [σ²=0.0000000]]"
     ]
    },
    {
     "name": "stdout",
     "output_type": "stream",
     "text": [
      "(0.05139935028319431+0j)\n",
      "n_discard =  144\n",
      "discard samples 0.0832979679107666\n",
      "n_samples_node =  1000\n",
      "generate_samples :  0.07110095024108887\n",
      "     prepare getting local values 0.0040283203125\n",
      "     obtained local values 0.008048772811889648\n",
      "get_mc_stats 0.011061429977416992\n",
      "--->> cal O and jac "
     ]
    },
    {
     "name": "stderr",
     "output_type": "stream",
     "text": [
      " 69%|██████▉   | 689/1000 [02:15<01:02,  4.97it/s, Energy=-2.1058283+0.0000000j ± 0.0000074 [σ²=0.0000000]]"
     ]
    },
    {
     "name": "stdout",
     "output_type": "stream",
     "text": [
      " 0.0340878963470459\n",
      "compute_update  0.03739762306213379\n",
      "(0.05140536387568592+0j)\n",
      "n_discard =  144\n",
      "discard samples 0.08189678192138672\n",
      "n_samples_node =  1000\n",
      "generate_samples :  0.07078313827514648\n",
      "     prepare getting local values 0.002635955810546875\n",
      "     obtained local values 0.00595855712890625\n",
      "get_mc_stats 0.009107589721679688\n",
      "--->> cal O and jac  0.03213763236999512\n"
     ]
    },
    {
     "name": "stderr",
     "output_type": "stream",
     "text": [
      " 69%|██████▉   | 690/1000 [02:15<01:02,  4.98it/s, Energy=-2.1058238+0.0000000j ± 0.0000060 [σ²=0.0000000]]"
     ]
    },
    {
     "name": "stdout",
     "output_type": "stream",
     "text": [
      "compute_update  0.035475730895996094\n",
      "(0.0514113334708566+0j)\n",
      "n_discard =  144\n",
      "discard samples 0.08024382591247559\n",
      "n_samples_node =  1000\n",
      "generate_samples :  0.0719151496887207\n",
      "     prepare getting local values 0.0040738582611083984\n",
      "     obtained local values 0.009404420852661133\n",
      "get_mc_stats 0.012449502944946289\n"
     ]
    },
    {
     "name": "stderr",
     "output_type": "stream",
     "text": [
      " 69%|██████▉   | 691/1000 [02:16<01:02,  4.95it/s, Energy=-2.1058208+0.0000000j ± 0.0000045 [σ²=0.0000000]]"
     ]
    },
    {
     "name": "stdout",
     "output_type": "stream",
     "text": [
      "--->> cal O and jac  0.03551077842712402\n",
      "compute_update  0.03865456581115723\n",
      "(0.051417035069368365+0j)\n",
      "n_discard =  144\n",
      "discard samples 0.07326602935791016\n",
      "n_samples_node =  1000\n",
      "generate_samples :  0.0695645809173584\n",
      "     prepare getting local values 0.001739501953125\n",
      "     obtained local values 0.005262851715087891\n",
      "get_mc_stats 0.007211446762084961\n"
     ]
    },
    {
     "name": "stderr",
     "output_type": "stream",
     "text": [
      " 69%|██████▉   | 692/1000 [02:16<01:00,  5.05it/s, Energy=-2.1058207+0.0000000j ± 0.0000051 [σ²=0.0000000]]"
     ]
    },
    {
     "name": "stdout",
     "output_type": "stream",
     "text": [
      "--->> cal O and jac  0.03395795822143555\n",
      "compute_update  0.035973310470581055\n",
      "(0.051422798387544384+0j)\n",
      "n_discard =  144\n",
      "discard samples 0.07788634300231934\n",
      "n_samples_node =  1000\n",
      "generate_samples :  0.0679636001586914\n",
      "     prepare getting local values 0.0018084049224853516\n",
      "     obtained local values 0.005858659744262695\n",
      "get_mc_stats 0.008266687393188477\n"
     ]
    },
    {
     "name": "stderr",
     "output_type": "stream",
     "text": [
      " 69%|██████▉   | 693/1000 [02:16<01:00,  5.10it/s, Energy=-2.1058206+0.0000000j ± 0.0000054 [σ²=0.0000000]]"
     ]
    },
    {
     "name": "stdout",
     "output_type": "stream",
     "text": [
      "--->> cal O and jac  0.03324246406555176\n",
      "compute_update  0.035080909729003906\n",
      "(0.051428423534232576+0j)\n",
      "n_discard =  144\n",
      "discard samples 0.07509374618530273\n",
      "n_samples_node =  1000\n",
      "generate_samples :  0.07117462158203125\n",
      "     prepare getting local values 0.0016493797302246094\n",
      "     obtained local values 0.004961252212524414\n",
      "get_mc_stats 0.007083892822265625\n"
     ]
    },
    {
     "name": "stderr",
     "output_type": "stream",
     "text": [
      " 69%|██████▉   | 694/1000 [02:16<00:59,  5.17it/s, Energy=-2.1058143+0.0000000j ± 0.0000050 [σ²=0.0000000]]"
     ]
    },
    {
     "name": "stdout",
     "output_type": "stream",
     "text": [
      "--->> cal O and jac  0.030132532119750977\n",
      "compute_update  0.03232836723327637\n",
      "(0.0514339978892178+0j)\n",
      "n_discard =  144\n",
      "discard samples 0.07527565956115723\n",
      "n_samples_node =  1000\n",
      "generate_samples :  0.06908559799194336\n",
      "     prepare getting local values 0.0031304359436035156\n",
      "     obtained local values 0.0064237117767333984\n",
      "get_mc_stats 0.009595632553100586\n"
     ]
    },
    {
     "name": "stderr",
     "output_type": "stream",
     "text": [
      " 70%|██████▉   | 695/1000 [02:16<00:58,  5.22it/s, Energy=-2.1058186+0.0000000j ± 0.0000055 [σ²=0.0000000]]"
     ]
    },
    {
     "name": "stdout",
     "output_type": "stream",
     "text": [
      "--->> cal O and jac  0.02832961082458496\n",
      "compute_update  0.0306396484375\n",
      "(0.05143972568944194+0j)\n",
      "n_discard =  144\n",
      "discard samples 0.0791938304901123\n",
      "n_samples_node =  1000\n",
      "generate_samples :  0.07334280014038086\n",
      "     prepare getting local values 0.0036170482635498047\n",
      "     obtained local values 0.009007453918457031\n",
      "get_mc_stats 0.012460708618164062\n"
     ]
    },
    {
     "name": "stderr",
     "output_type": "stream",
     "text": [
      " 70%|██████▉   | 696/1000 [02:17<00:59,  5.10it/s, Energy=-2.1058161+0.0000000j ± 0.0000056 [σ²=0.0000000]]"
     ]
    },
    {
     "name": "stdout",
     "output_type": "stream",
     "text": [
      "--->> cal O and jac  0.03684735298156738\n",
      "compute_update  0.038857221603393555\n",
      "(0.05144526450266779+0j)\n",
      "n_discard =  144\n",
      "discard samples 0.07651424407958984\n",
      "n_samples_node =  1000\n",
      "generate_samples :  0.07279682159423828\n",
      "     prepare getting local values 0.0017185211181640625\n",
      "     obtained local values 0.00500798225402832\n",
      "get_mc_stats 0.007310152053833008\n"
     ]
    },
    {
     "name": "stderr",
     "output_type": "stream",
     "text": [
      " 70%|██████▉   | 697/1000 [02:17<00:59,  5.13it/s, Energy=-2.1058335+0.0000000j ± 0.0000045 [σ²=0.0000000]]"
     ]
    },
    {
     "name": "stdout",
     "output_type": "stream",
     "text": [
      "--->> cal O and jac  0.0317075252532959\n",
      "compute_update  0.033751726150512695\n",
      "(0.05145073196549325+0j)\n",
      "n_discard =  144\n",
      "discard samples 0.07530951499938965\n",
      "n_samples_node =  1000\n",
      "generate_samples :  0.07004714012145996\n",
      "     prepare getting local values 0.0018076896667480469\n",
      "     obtained local values 0.008117437362670898\n",
      "get_mc_stats 0.010202407836914062\n"
     ]
    },
    {
     "name": "stderr",
     "output_type": "stream",
     "text": [
      " 70%|██████▉   | 698/1000 [02:17<00:58,  5.16it/s, Energy=-2.1058109+0.0000000j ± 0.0000046 [σ²=0.0000000]]"
     ]
    },
    {
     "name": "stdout",
     "output_type": "stream",
     "text": [
      "--->> cal O and jac  0.03110980987548828\n",
      "compute_update  0.0334010124206543\n",
      "(0.05145614034294291+0j)\n",
      "n_discard =  144\n",
      "discard samples 0.07208704948425293\n",
      "n_samples_node =  1000\n",
      "generate_samples :  0.06860518455505371\n",
      "     prepare getting local values 0.0036301612854003906\n",
      "     obtained local values 0.008421659469604492\n",
      "get_mc_stats 0.011510372161865234\n"
     ]
    },
    {
     "name": "stderr",
     "output_type": "stream",
     "text": [
      " 70%|██████▉   | 699/1000 [02:17<00:58,  5.17it/s, Energy=-2.1058119+0.0000000j ± 0.0000040 [σ²=0.0000000]]"
     ]
    },
    {
     "name": "stdout",
     "output_type": "stream",
     "text": [
      "--->> cal O and jac  0.035297393798828125\n",
      "compute_update  0.038303375244140625\n",
      "(0.05146155869655206+0j)\n",
      "n_discard =  144\n",
      "discard samples 0.07465243339538574\n",
      "n_samples_node =  1000\n",
      "generate_samples :  0.06879043579101562\n",
      "     prepare getting local values 0.0035974979400634766\n",
      "     obtained local values 0.009109020233154297\n",
      "get_mc_stats 0.012122392654418945\n"
     ]
    },
    {
     "name": "stderr",
     "output_type": "stream",
     "text": [
      "\r",
      " 70%|██████▉   | 699/1000 [02:17<00:58,  5.17it/s, Energy=-2.1058163+0.0000000j ± 0.0000034 [σ²=0.0000000]]"
     ]
    },
    {
     "name": "stdout",
     "output_type": "stream",
     "text": [
      "--->> cal O and jac  0.03738069534301758\n",
      "compute_update  0.03940463066101074\n"
     ]
    },
    {
     "name": "stderr",
     "output_type": "stream",
     "text": [
      "\r",
      " 70%|███████   | 700/1000 [02:17<00:58,  5.14it/s, Energy=-2.1058163+0.0000000j ± 0.0000034 [σ²=0.0000000]]"
     ]
    },
    {
     "name": "stdout",
     "output_type": "stream",
     "text": [
      "(0.051466887001350395+0j)\n",
      "n_discard =  144\n",
      "discard samples 0.07381319999694824\n",
      "n_samples_node =  1000\n",
      "generate_samples :  0.06856083869934082\n",
      "     prepare getting local values 0.0017707347869873047\n",
      "     obtained local values 0.005148887634277344\n",
      "get_mc_stats 0.007140636444091797\n"
     ]
    },
    {
     "name": "stderr",
     "output_type": "stream",
     "text": [
      " 70%|███████   | 701/1000 [02:18<00:57,  5.23it/s, Energy=-2.1058156+0.0000000j ± 0.0000046 [σ²=0.0000000]]"
     ]
    },
    {
     "name": "stdout",
     "output_type": "stream",
     "text": [
      "--->> cal O and jac  0.02816152572631836\n",
      "compute_update  0.03115677833557129\n",
      "(0.05147218370793138+0j)\n",
      "n_discard =  144\n",
      "discard samples 0.07564878463745117\n",
      "n_samples_node =  1000\n",
      "generate_samples :  0.07037067413330078\n",
      "     prepare getting local values 0.002908468246459961\n",
      "     obtained local values 0.009252548217773438\n",
      "get_mc_stats 0.012188911437988281\n"
     ]
    },
    {
     "name": "stderr",
     "output_type": "stream",
     "text": [
      " 70%|███████   | 702/1000 [02:18<00:57,  5.15it/s, Energy=-2.1058201+0.0000000j ± 0.0000051 [σ²=0.0000000]]"
     ]
    },
    {
     "name": "stdout",
     "output_type": "stream",
     "text": [
      "--->> cal O and jac  0.03825974464416504\n",
      "compute_update  0.04036426544189453\n",
      "(0.05147745346884117+0j)\n",
      "n_discard =  144\n",
      "discard samples 0.07424545288085938\n",
      "n_samples_node =  1000\n",
      "generate_samples :  0.06878185272216797\n",
      "     prepare getting local values 0.0034346580505371094\n",
      "     obtained local values 0.009746313095092773\n",
      "get_mc_stats 0.012914419174194336\n"
     ]
    },
    {
     "name": "stderr",
     "output_type": "stream",
     "text": [
      " 70%|███████   | 703/1000 [02:18<00:57,  5.15it/s, Energy=-2.1058128+0.0000000j ± 0.0000041 [σ²=0.0000000]]"
     ]
    },
    {
     "name": "stdout",
     "output_type": "stream",
     "text": [
      "--->> cal O and jac  0.03361964225769043\n",
      "compute_update  0.0357661247253418\n",
      "(0.05148242430394633+0j)\n",
      "n_discard =  144\n",
      "discard samples 0.07914614677429199\n",
      "n_samples_node =  1000\n",
      "generate_samples :  0.07052469253540039\n",
      "     prepare getting local values 0.0019152164459228516\n",
      "     obtained local values 0.005536317825317383\n",
      "get_mc_stats 0.007527828216552734\n",
      "--->> cal O and jac  0.037445783615112305\n"
     ]
    },
    {
     "name": "stderr",
     "output_type": "stream",
     "text": [
      " 70%|███████   | 704/1000 [02:18<00:57,  5.11it/s, Energy=-2.1058236+0.0000000j ± 0.0000051 [σ²=0.0000000]]"
     ]
    },
    {
     "name": "stdout",
     "output_type": "stream",
     "text": [
      "compute_update  0.040087223052978516\n",
      "(0.05148744797860727+0j)\n",
      "n_discard =  144\n",
      "discard samples 0.07628893852233887\n",
      "n_samples_node =  1000\n",
      "generate_samples :  0.0727086067199707\n",
      "     prepare getting local values 0.00412297248840332\n",
      "     obtained local values 0.008040904998779297\n",
      "get_mc_stats 0.011337041854858398\n",
      "--->> cal O and jac  0.0329585075378418\n",
      "compute_update  0.036264657974243164\n"
     ]
    },
    {
     "name": "stderr",
     "output_type": "stream",
     "text": [
      " 70%|███████   | 705/1000 [02:18<00:57,  5.09it/s, Energy=-2.1058204+0.0000000j ± 0.0000040 [σ²=0.0000000]]"
     ]
    },
    {
     "name": "stdout",
     "output_type": "stream",
     "text": [
      "(0.051492402213118765+0j)\n",
      "n_discard =  144\n",
      "discard samples 0.08223414421081543\n",
      "n_samples_node =  1000\n",
      "generate_samples :  0.06670069694519043\n",
      "     prepare getting local values 0.0034685134887695312\n",
      "     obtained local values 0.009357213973999023\n",
      "get_mc_stats 0.012486934661865234\n"
     ]
    },
    {
     "name": "stderr",
     "output_type": "stream",
     "text": [
      " 71%|███████   | 706/1000 [02:18<00:57,  5.10it/s, Energy=-2.1058208+0.0000000j ± 0.0000049 [σ²=0.0000000]]"
     ]
    },
    {
     "name": "stdout",
     "output_type": "stream",
     "text": [
      "--->> cal O and jac  0.030090808868408203\n",
      "compute_update  0.031775712966918945\n",
      "(0.05149738690887889+0j)\n",
      "n_discard =  144\n",
      "discard samples 0.0748286247253418\n",
      "n_samples_node =  1000\n",
      "generate_samples :  0.07285118103027344\n",
      "     prepare getting local values 0.0018239021301269531\n",
      "     obtained local values 0.005242109298706055\n",
      "get_mc_stats 0.008006572723388672\n"
     ]
    },
    {
     "name": "stderr",
     "output_type": "stream",
     "text": [
      " 71%|███████   | 707/1000 [02:19<00:57,  5.12it/s, Energy=-2.1058165+0.0000000j ± 0.0000040 [σ²=0.0000000]]"
     ]
    },
    {
     "name": "stdout",
     "output_type": "stream",
     "text": [
      "--->> cal O and jac  0.03282618522644043\n",
      "compute_update  0.036118268966674805\n",
      "(0.05150249406315956+0j)\n",
      "n_discard =  144\n",
      "discard samples 0.07651138305664062\n",
      "n_samples_node =  1000\n",
      "generate_samples :  0.06754946708679199\n",
      "     prepare getting local values 0.0034041404724121094\n",
      "     obtained local values 0.0068492889404296875\n",
      "get_mc_stats 0.009876012802124023\n"
     ]
    },
    {
     "name": "stderr",
     "output_type": "stream",
     "text": [
      " 71%|███████   | 708/1000 [02:19<00:56,  5.18it/s, Energy=-2.1058235+0.0000000j ± 0.0000035 [σ²=0.0000000]]"
     ]
    },
    {
     "name": "stdout",
     "output_type": "stream",
     "text": [
      "--->> cal O and jac  0.03064250946044922\n",
      "compute_update  0.03237175941467285\n",
      "(0.05150752800193902+0j)\n",
      "n_discard =  144\n",
      "discard samples 0.07451343536376953\n",
      "n_samples_node =  1000\n",
      "generate_samples :  0.06819295883178711\n",
      "     prepare getting local values 0.003543853759765625\n",
      "     obtained local values 0.00735783576965332\n",
      "get_mc_stats 0.010407209396362305\n"
     ]
    },
    {
     "name": "stderr",
     "output_type": "stream",
     "text": [
      " 71%|███████   | 709/1000 [02:19<00:56,  5.17it/s, Energy=-2.1058201+0.0000000j ± 0.0000045 [σ²=0.0000000]]"
     ]
    },
    {
     "name": "stdout",
     "output_type": "stream",
     "text": [
      "--->> cal O and jac  0.03632855415344238\n",
      "compute_update  0.038483381271362305\n",
      "(0.05151245347372386+0j)\n",
      "n_discard =  144\n",
      "discard samples 0.0749521255493164\n",
      "n_samples_node =  1000\n",
      "generate_samples :  0.06990694999694824\n",
      "     prepare getting local values 0.0037615299224853516\n",
      "     obtained local values 0.010663509368896484\n",
      "get_mc_stats 0.01385354995727539\n"
     ]
    },
    {
     "name": "stderr",
     "output_type": "stream",
     "text": [
      " 71%|███████   | 710/1000 [02:19<00:56,  5.10it/s, Energy=-2.1058252+0.0000000j ± 0.0000034 [σ²=0.0000000]]"
     ]
    },
    {
     "name": "stdout",
     "output_type": "stream",
     "text": [
      "--->> cal O and jac  0.039397478103637695\n",
      "compute_update  0.04135560989379883\n",
      "(0.051517337226372285+0j)\n",
      "n_discard =  144\n",
      "discard samples 0.07363152503967285\n",
      "n_samples_node =  1000\n",
      "generate_samples :  0.07171463966369629\n",
      "     prepare getting local values 0.002816438674926758\n",
      "     obtained local values 0.006283760070800781\n",
      "get_mc_stats 0.009644031524658203\n"
     ]
    },
    {
     "name": "stderr",
     "output_type": "stream",
     "text": [
      " 71%|███████   | 711/1000 [02:19<00:56,  5.10it/s, Energy=-2.1058127+0.0000000j ± 0.0000048 [σ²=0.0000000]]"
     ]
    },
    {
     "name": "stdout",
     "output_type": "stream",
     "text": [
      "--->> cal O and jac  0.03614020347595215\n",
      "compute_update  0.03834986686706543\n",
      "(0.05152223945631836+0j)\n",
      "n_discard =  144\n",
      "discard samples 0.074188232421875\n",
      "n_samples_node =  1000\n",
      "generate_samples :  0.07104301452636719\n",
      "     prepare getting local values 0.0028448104858398438\n",
      "     obtained local values 0.009154319763183594\n",
      "get_mc_stats 0.012647628784179688\n",
      "--->> cal O and jac  0.03656601905822754\n"
     ]
    },
    {
     "name": "stderr",
     "output_type": "stream",
     "text": [
      " 71%|███████   | 712/1000 [02:20<00:56,  5.07it/s, Energy=-2.1058149+0.0000000j ± 0.0000042 [σ²=0.0000000]]"
     ]
    },
    {
     "name": "stdout",
     "output_type": "stream",
     "text": [
      "compute_update  0.04024171829223633\n",
      "(0.05152702194091657+0j)\n",
      "n_discard =  144\n",
      "discard samples 0.08212637901306152\n",
      "n_samples_node =  1000\n",
      "generate_samples :  0.07218384742736816\n",
      "     prepare getting local values 0.0039594173431396484\n",
      "     obtained local values 0.00815725326538086\n",
      "get_mc_stats 0.01134347915649414\n"
     ]
    },
    {
     "name": "stderr",
     "output_type": "stream",
     "text": [
      " 71%|███████▏  | 713/1000 [02:20<00:57,  5.01it/s, Energy=-2.1058145+0.0000000j ± 0.0000034 [σ²=0.0000000]]"
     ]
    },
    {
     "name": "stdout",
     "output_type": "stream",
     "text": [
      "--->> cal O and jac  0.03581547737121582\n",
      "compute_update  0.037767648696899414\n",
      "(0.05153165920322979+0j)\n",
      "n_discard =  144\n",
      "discard samples 0.0734398365020752\n",
      "n_samples_node =  1000\n",
      "generate_samples :  0.06508374214172363\n",
      "     prepare getting local values 0.0035538673400878906\n",
      "     obtained local values 0.007237672805786133\n",
      "get_mc_stats 0.010300636291503906\n"
     ]
    },
    {
     "name": "stderr",
     "output_type": "stream",
     "text": [
      " 71%|███████▏  | 714/1000 [02:20<00:56,  5.06it/s, Energy=-2.1058194+0.0000000j ± 0.0000046 [σ²=0.0000000]]"
     ]
    },
    {
     "name": "stdout",
     "output_type": "stream",
     "text": [
      "--->> cal O and jac  0.038100242614746094\n",
      "compute_update  0.04135465621948242\n",
      "(0.05153635955203924+0j)\n",
      "n_discard =  144\n",
      "discard samples 0.07607555389404297\n",
      "n_samples_node =  1000\n",
      "generate_samples :  0.0698249340057373\n",
      "     prepare getting local values 0.0019309520721435547\n",
      "     obtained local values 0.0054318904876708984\n",
      "get_mc_stats 0.00783681869506836\n"
     ]
    },
    {
     "name": "stderr",
     "output_type": "stream",
     "text": [
      " 72%|███████▏  | 715/1000 [02:20<00:55,  5.15it/s, Energy=-2.1058231+0.0000000j ± 0.0000038 [σ²=0.0000000]]"
     ]
    },
    {
     "name": "stdout",
     "output_type": "stream",
     "text": [
      "--->> cal O and jac  0.028377532958984375\n",
      "compute_update  0.030327796936035156\n",
      "(0.05154102957503432+0j)\n",
      "n_discard =  144\n",
      "discard samples 0.07446503639221191\n",
      "n_samples_node =  1000\n",
      "generate_samples :  0.0703268051147461\n",
      "     prepare getting local values 0.0034971237182617188\n",
      "     obtained local values 0.008372068405151367\n",
      "get_mc_stats 0.011446475982666016\n"
     ]
    },
    {
     "name": "stderr",
     "output_type": "stream",
     "text": [
      " 72%|███████▏  | 716/1000 [02:20<00:55,  5.16it/s, Energy=-2.1058221+0.0000000j ± 0.0000032 [σ²=0.0000000]]"
     ]
    },
    {
     "name": "stdout",
     "output_type": "stream",
     "text": [
      "--->> cal O and jac  0.03185081481933594\n",
      "compute_update  0.03487968444824219\n",
      "(0.051545767731822005+0j)\n",
      "n_discard =  144\n",
      "discard samples 0.07355880737304688\n",
      "n_samples_node =  1000\n",
      "generate_samples :  0.0667273998260498\n",
      "     prepare getting local values 0.0026137828826904297\n",
      "     obtained local values 0.006062030792236328\n",
      "get_mc_stats 0.008931875228881836\n"
     ]
    },
    {
     "name": "stderr",
     "output_type": "stream",
     "text": [
      " 72%|███████▏  | 717/1000 [02:21<00:54,  5.20it/s, Energy=-2.1058246+0.0000000j ± 0.0000037 [σ²=0.0000000]]"
     ]
    },
    {
     "name": "stdout",
     "output_type": "stream",
     "text": [
      "--->> cal O and jac  0.03410172462463379\n",
      "compute_update  0.036895036697387695\n",
      "(0.05155037776766604+0j)\n",
      "n_discard =  144\n",
      "discard samples 0.07474780082702637\n",
      "n_samples_node =  1000\n",
      "generate_samples :  0.07414650917053223\n",
      "     prepare getting local values 0.0017750263214111328\n",
      "     obtained local values 0.005547285079956055\n",
      "get_mc_stats 0.0076313018798828125\n"
     ]
    },
    {
     "name": "stderr",
     "output_type": "stream",
     "text": [
      "\r",
      " 72%|███████▏  | 717/1000 [02:21<00:54,  5.20it/s, Energy=-2.1058219+0.0000000j ± 0.0000032 [σ²=0.0000000]]"
     ]
    },
    {
     "name": "stdout",
     "output_type": "stream",
     "text": [
      "--->> cal O and jac  0.03666496276855469\n",
      "compute_update  0.03882169723510742\n"
     ]
    },
    {
     "name": "stderr",
     "output_type": "stream",
     "text": [
      "\r",
      " 72%|███████▏  | 718/1000 [02:21<00:54,  5.16it/s, Energy=-2.1058219+0.0000000j ± 0.0000032 [σ²=0.0000000]]"
     ]
    },
    {
     "name": "stdout",
     "output_type": "stream",
     "text": [
      "(0.0515550190862373+0j)\n",
      "n_discard =  144\n",
      "discard samples 0.0755162239074707\n",
      "n_samples_node =  1000\n",
      "generate_samples :  0.07693028450012207\n",
      "     prepare getting local values 0.0038099288940429688\n",
      "     obtained local values 0.00949716567993164\n",
      "get_mc_stats 0.01320195198059082\n"
     ]
    },
    {
     "name": "stderr",
     "output_type": "stream",
     "text": [
      " 72%|███████▏  | 719/1000 [02:21<00:55,  5.06it/s, Energy=-2.1058207+0.0000000j ± 0.0000037 [σ²=0.0000000]]"
     ]
    },
    {
     "name": "stdout",
     "output_type": "stream",
     "text": [
      "--->> cal O and jac  0.0372157096862793\n",
      "compute_update  0.039086341857910156\n",
      "(0.05155965020000241+0j)\n",
      "n_discard =  144\n",
      "discard samples 0.07048654556274414\n",
      "n_samples_node =  1000\n",
      "generate_samples :  0.07569456100463867\n",
      "     prepare getting local values 0.002027273178100586\n",
      "     obtained local values 0.005388498306274414\n",
      "get_mc_stats 0.007869243621826172\n"
     ]
    },
    {
     "name": "stderr",
     "output_type": "stream",
     "text": [
      " 72%|███████▏  | 720/1000 [02:21<00:55,  5.08it/s, Energy=-2.1058193+0.0000000j ± 0.0000040 [σ²=0.0000000]]"
     ]
    },
    {
     "name": "stdout",
     "output_type": "stream",
     "text": [
      "--->> cal O and jac  0.035738468170166016\n",
      "compute_update  0.03853750228881836\n",
      "(0.05156431072099275+0j)\n",
      "n_discard =  144\n",
      "discard samples 0.08017897605895996\n",
      "n_samples_node =  1000\n",
      "generate_samples :  0.0653834342956543\n",
      "     prepare getting local values 0.0035982131958007812\n",
      "     obtained local values 0.007664918899536133\n",
      "get_mc_stats 0.010863780975341797\n",
      "--->> cal O and jac  0.0395817756652832\n"
     ]
    },
    {
     "name": "stderr",
     "output_type": "stream",
     "text": [
      " 72%|███████▏  | 721/1000 [02:21<00:55,  5.05it/s, Energy=-2.1058201+0.0000000j ± 0.0000036 [σ²=0.0000000]]"
     ]
    },
    {
     "name": "stdout",
     "output_type": "stream",
     "text": [
      "compute_update  0.04287600517272949\n",
      "(0.05156888231216546+0j)\n",
      "n_discard =  144\n",
      "discard samples 0.0819096565246582\n",
      "n_samples_node =  1000\n",
      "generate_samples :  0.07242584228515625\n",
      "     prepare getting local values 0.002054929733276367\n",
      "     obtained local values 0.0054531097412109375\n",
      "get_mc_stats 0.007470369338989258\n"
     ]
    },
    {
     "name": "stderr",
     "output_type": "stream",
     "text": [
      "\r",
      " 72%|███████▏  | 721/1000 [02:22<00:55,  5.05it/s, Energy=-2.1058133+0.0000000j ± 0.0000035 [σ²=0.0000000]]"
     ]
    },
    {
     "name": "stdout",
     "output_type": "stream",
     "text": [
      "--->> cal O and jac  0.033849239349365234\n",
      "compute_update  0.03675365447998047\n"
     ]
    },
    {
     "name": "stderr",
     "output_type": "stream",
     "text": [
      "\r",
      " 72%|███████▏  | 722/1000 [02:22<00:55,  5.03it/s, Energy=-2.1058133+0.0000000j ± 0.0000035 [σ²=0.0000000]]"
     ]
    },
    {
     "name": "stdout",
     "output_type": "stream",
     "text": [
      "(0.0515734444621206+0j)\n",
      "n_discard =  144\n",
      "discard samples 0.08092427253723145\n",
      "n_samples_node =  1000\n",
      "generate_samples :  0.06670069694519043\n",
      "     prepare getting local values 0.0018160343170166016\n",
      "     obtained local values 0.00520777702331543\n",
      "get_mc_stats 0.007767200469970703\n"
     ]
    },
    {
     "name": "stderr",
     "output_type": "stream",
     "text": [
      " 72%|███████▏  | 723/1000 [02:22<00:54,  5.07it/s, Energy=-2.1058156+0.0000000j ± 0.0000029 [σ²=0.0000000]]"
     ]
    },
    {
     "name": "stdout",
     "output_type": "stream",
     "text": [
      "--->> cal O and jac  0.033582448959350586\n",
      "compute_update  0.035436391830444336\n",
      "(0.05157803674804039+0j)\n",
      "n_discard =  144\n",
      "discard samples 0.07392668724060059\n",
      "n_samples_node =  1000\n",
      "generate_samples :  0.06923675537109375\n",
      "     prepare getting local values 0.0035254955291748047\n",
      "     obtained local values 0.009768486022949219\n",
      "get_mc_stats 0.012977838516235352\n"
     ]
    },
    {
     "name": "stderr",
     "output_type": "stream",
     "text": [
      " 72%|███████▏  | 724/1000 [02:22<00:53,  5.14it/s, Energy=-2.1058182+0.0000000j ± 0.0000032 [σ²=0.0000000]]"
     ]
    },
    {
     "name": "stdout",
     "output_type": "stream",
     "text": [
      "--->> cal O and jac  0.028234481811523438\n",
      "compute_update  0.030242919921875\n",
      "(0.05158255792310044+0j)\n",
      "n_discard =  144\n",
      "discard samples 0.07321357727050781\n",
      "n_samples_node =  1000\n",
      "generate_samples :  0.07098555564880371\n",
      "     prepare getting local values 0.002737283706665039\n",
      "     obtained local values 0.008221864700317383\n",
      "get_mc_stats 0.011408567428588867\n"
     ]
    },
    {
     "name": "stderr",
     "output_type": "stream",
     "text": [
      " 72%|███████▎  | 725/1000 [02:22<00:53,  5.12it/s, Energy=-2.1058168+0.0000000j ± 0.0000030 [σ²=0.0000000]]"
     ]
    },
    {
     "name": "stdout",
     "output_type": "stream",
     "text": [
      "--->> cal O and jac  0.036725759506225586\n",
      "compute_update  0.03897285461425781\n",
      "(0.05158691237549388+0j)\n",
      "n_discard =  144\n",
      "discard samples 0.07453203201293945\n",
      "n_samples_node =  1000\n",
      "generate_samples :  0.07163095474243164\n",
      "     prepare getting local values 0.004024028778076172\n",
      "     obtained local values 0.007722377777099609\n",
      "get_mc_stats 0.010832071304321289\n"
     ]
    },
    {
     "name": "stderr",
     "output_type": "stream",
     "text": [
      " 73%|███████▎  | 726/1000 [02:22<00:53,  5.12it/s, Energy=-2.1058208+0.0000000j ± 0.0000028 [σ²=0.0000000]]"
     ]
    },
    {
     "name": "stdout",
     "output_type": "stream",
     "text": [
      "--->> cal O and jac  0.033910512924194336\n",
      "compute_update  0.036566972732543945\n",
      "(0.051591409656636715+0j)\n",
      "n_discard =  144\n",
      "discard samples 0.07970190048217773\n",
      "n_samples_node =  1000\n",
      "generate_samples :  0.06526994705200195\n",
      "     prepare getting local values 0.003627300262451172\n",
      "     obtained local values 0.007808208465576172\n",
      "get_mc_stats 0.011133432388305664\n"
     ]
    },
    {
     "name": "stderr",
     "output_type": "stream",
     "text": [
      " 73%|███████▎  | 727/1000 [02:23<00:53,  5.12it/s, Energy=-2.1058167+0.0000000j ± 0.0000031 [σ²=0.0000000]]"
     ]
    },
    {
     "name": "stdout",
     "output_type": "stream",
     "text": [
      "--->> cal O and jac  0.03498053550720215\n",
      "compute_update  0.03698396682739258\n",
      "(0.05159582502424757+0j)\n",
      "n_discard =  144\n",
      "discard samples 0.08034443855285645\n",
      "n_samples_node =  1000\n",
      "generate_samples :  0.06998300552368164\n",
      "     prepare getting local values 0.003823995590209961\n",
      "     obtained local values 0.007994413375854492\n",
      "get_mc_stats 0.011267423629760742\n"
     ]
    },
    {
     "name": "stderr",
     "output_type": "stream",
     "text": [
      " 73%|███████▎  | 728/1000 [02:23<00:53,  5.06it/s, Energy=-2.1058178+0.0000000j ± 0.0000024 [σ²=0.0000000]]"
     ]
    },
    {
     "name": "stdout",
     "output_type": "stream",
     "text": [
      "--->> cal O and jac  0.037015438079833984\n",
      "compute_update  0.03965449333190918\n",
      "(0.05160025103082656+0j)\n",
      "n_discard =  144\n",
      "discard samples 0.07172250747680664\n",
      "n_samples_node =  1000\n",
      "generate_samples :  0.07259654998779297\n",
      "     prepare getting local values 0.003887176513671875\n",
      "     obtained local values 0.007592678070068359\n",
      "get_mc_stats 0.010766029357910156\n"
     ]
    },
    {
     "name": "stderr",
     "output_type": "stream",
     "text": [
      " 73%|███████▎  | 729/1000 [02:23<00:53,  5.10it/s, Energy=-2.1058161+0.0000000j ± 0.0000025 [σ²=0.0000000]]"
     ]
    },
    {
     "name": "stdout",
     "output_type": "stream",
     "text": [
      "--->> cal O and jac  0.03218412399291992\n",
      "compute_update  0.03425097465515137\n",
      "(0.05160462020856482+0j)\n",
      "n_discard =  144\n",
      "discard samples 0.07172012329101562\n",
      "n_samples_node =  1000\n",
      "generate_samples :  0.07674098014831543\n",
      "     prepare getting local values 0.0016779899597167969\n",
      "     obtained local values 0.0049479007720947266\n",
      "get_mc_stats 0.0069425106048583984\n"
     ]
    },
    {
     "name": "stderr",
     "output_type": "stream",
     "text": [
      " 73%|███████▎  | 730/1000 [02:23<00:52,  5.12it/s, Energy=-2.1058185+0.0000000j ± 0.0000029 [σ²=0.0000000]]"
     ]
    },
    {
     "name": "stdout",
     "output_type": "stream",
     "text": [
      "--->> cal O and jac  0.034120798110961914\n",
      "compute_update  0.03591728210449219\n",
      "(0.051608994039635446+0j)\n",
      "n_discard =  144\n",
      "discard samples 0.07787251472473145\n",
      "n_samples_node =  1000\n",
      "generate_samples :  0.07291054725646973\n",
      "     prepare getting local values 0.001775503158569336\n",
      "     obtained local values 0.005250215530395508\n",
      "get_mc_stats 0.007260560989379883\n"
     ]
    },
    {
     "name": "stderr",
     "output_type": "stream",
     "text": [
      " 73%|███████▎  | 731/1000 [02:23<00:52,  5.11it/s, Energy=-2.1058211+0.0000000j ± 0.0000030 [σ²=0.0000000]]"
     ]
    },
    {
     "name": "stdout",
     "output_type": "stream",
     "text": [
      "--->> cal O and jac  0.03374958038330078\n",
      "compute_update  0.03586983680725098\n",
      "(0.051613341975226074+0j)\n",
      "n_discard =  144\n",
      "discard samples 0.06911659240722656\n",
      "n_samples_node =  1000\n",
      "generate_samples :  0.06871819496154785\n",
      "     prepare getting local values 0.003547191619873047\n",
      "     obtained local values 0.007130861282348633\n",
      "get_mc_stats 0.010107755661010742\n"
     ]
    },
    {
     "name": "stderr",
     "output_type": "stream",
     "text": [
      " 73%|███████▎  | 732/1000 [02:24<00:51,  5.22it/s, Energy=-2.1058206+0.0000000j ± 0.0000025 [σ²=0.0000000]]"
     ]
    },
    {
     "name": "stdout",
     "output_type": "stream",
     "text": [
      "--->> cal O and jac  0.029600858688354492\n",
      "compute_update  0.031537771224975586\n",
      "(0.051617626830160135+0j)\n",
      "n_discard =  144\n",
      "discard samples 0.07335901260375977\n",
      "n_samples_node =  1000\n",
      "generate_samples :  0.07080960273742676\n",
      "     prepare getting local values 0.003539562225341797\n",
      "     obtained local values 0.007130861282348633\n",
      "get_mc_stats 0.01016545295715332\n"
     ]
    },
    {
     "name": "stderr",
     "output_type": "stream",
     "text": [
      " 73%|███████▎  | 733/1000 [02:24<00:51,  5.23it/s, Energy=-2.1058209+0.0000000j ± 0.0000030 [σ²=0.0000000]]"
     ]
    },
    {
     "name": "stdout",
     "output_type": "stream",
     "text": [
      "--->> cal O and jac  0.03240776062011719\n",
      "compute_update  0.03452801704406738\n",
      "(0.05162204064512604+0j)\n",
      "n_discard =  144\n",
      "discard samples 0.07973146438598633\n",
      "n_samples_node =  1000\n",
      "generate_samples :  0.07454228401184082\n",
      "     prepare getting local values 0.004302501678466797\n",
      "     obtained local values 0.007834672927856445\n",
      "get_mc_stats 0.011332988739013672\n",
      "--->> cal O and jac  0.029420852661132812\n"
     ]
    },
    {
     "name": "stderr",
     "output_type": "stream",
     "text": [
      " 73%|███████▎  | 734/1000 [02:24<00:51,  5.16it/s, Energy=-2.1058210+0.0000000j ± 0.0000024 [σ²=0.0000000]]"
     ]
    },
    {
     "name": "stdout",
     "output_type": "stream",
     "text": [
      "compute_update  0.031896114349365234\n",
      "(0.051626430520973966+0j)\n",
      "n_discard =  144\n",
      "discard samples 0.07251620292663574\n",
      "n_samples_node =  1000\n",
      "generate_samples :  0.07106471061706543\n",
      "     prepare getting local values 0.0018017292022705078\n",
      "     obtained local values 0.005318164825439453\n",
      "get_mc_stats 0.0076062679290771484\n"
     ]
    },
    {
     "name": "stderr",
     "output_type": "stream",
     "text": [
      " 74%|███████▎  | 735/1000 [02:24<00:51,  5.18it/s, Energy=-2.1058184+0.0000000j ± 0.0000031 [σ²=0.0000000]]"
     ]
    },
    {
     "name": "stdout",
     "output_type": "stream",
     "text": [
      "--->> cal O and jac  0.035874366760253906\n",
      "compute_update  0.03783273696899414\n",
      "(0.05163069869183676+0j)\n",
      "n_discard =  144\n",
      "discard samples 0.07147741317749023\n",
      "n_samples_node =  1000\n",
      "generate_samples :  0.0714104175567627\n",
      "     prepare getting local values 0.0029451847076416016\n",
      "     obtained local values 0.00903773307800293\n",
      "get_mc_stats 0.011977434158325195\n"
     ]
    },
    {
     "name": "stderr",
     "output_type": "stream",
     "text": [
      " 74%|███████▎  | 736/1000 [02:24<00:50,  5.18it/s, Energy=-2.1058151+0.0000000j ± 0.0000027 [σ²=0.0000000]]"
     ]
    },
    {
     "name": "stdout",
     "output_type": "stream",
     "text": [
      "--->> cal O and jac  0.03403735160827637\n",
      "compute_update  0.03609037399291992\n",
      "(0.05163488549524441+0j)\n",
      "n_discard =  144\n",
      "discard samples 0.07342243194580078\n",
      "n_samples_node =  1000\n",
      "generate_samples :  0.06684088706970215\n",
      "     prepare getting local values 0.0036046504974365234\n",
      "     obtained local values 0.008244514465332031\n",
      "get_mc_stats 0.011398077011108398\n"
     ]
    },
    {
     "name": "stderr",
     "output_type": "stream",
     "text": [
      " 74%|███████▎  | 737/1000 [02:25<00:50,  5.18it/s, Energy=-2.1058143+0.0000000j ± 0.0000033 [σ²=0.0000000]]"
     ]
    },
    {
     "name": "stdout",
     "output_type": "stream",
     "text": [
      "--->> cal O and jac  0.03741168975830078\n",
      "compute_update  0.03920316696166992\n",
      "(0.05163901256847439+0j)\n",
      "n_discard =  144\n",
      "discard samples 0.07081365585327148\n",
      "n_samples_node =  1000\n",
      "generate_samples :  0.07445502281188965\n",
      "     prepare getting local values 0.0031020641326904297\n",
      "     obtained local values 0.008752822875976562\n",
      "get_mc_stats 0.011471748352050781\n",
      "--->> cal O and jac  0.03705644607543945\n"
     ]
    },
    {
     "name": "stderr",
     "output_type": "stream",
     "text": [
      " 74%|███████▍  | 738/1000 [02:25<00:51,  5.13it/s, Energy=-2.1058209+0.0000000j ± 0.0000023 [σ²=0.0000000]]"
     ]
    },
    {
     "name": "stdout",
     "output_type": "stream",
     "text": [
      "compute_update  0.04068899154663086\n",
      "(0.05164310543886364+0j)\n",
      "n_discard =  144\n",
      "discard samples 0.07450103759765625\n",
      "n_samples_node =  1000\n",
      "generate_samples :  0.07177114486694336\n",
      "     prepare getting local values 0.002024412155151367\n",
      "     obtained local values 0.005679130554199219\n",
      "get_mc_stats 0.008408069610595703\n"
     ]
    },
    {
     "name": "stderr",
     "output_type": "stream",
     "text": [
      " 74%|███████▍  | 739/1000 [02:25<00:50,  5.12it/s, Energy=-2.1058207+0.0000000j ± 0.0000023 [σ²=0.0000000]]"
     ]
    },
    {
     "name": "stdout",
     "output_type": "stream",
     "text": [
      "--->> cal O and jac  0.035410404205322266\n",
      "compute_update  0.03875136375427246\n",
      "(0.05164718418751759+0j)\n",
      "n_discard =  144\n",
      "discard samples 0.08220267295837402\n",
      "n_samples_node =  1000\n",
      "generate_samples :  0.0776216983795166\n",
      "     prepare getting local values 0.004052162170410156\n",
      "     obtained local values 0.010158777236938477\n",
      "get_mc_stats 0.013931035995483398\n"
     ]
    },
    {
     "name": "stderr",
     "output_type": "stream",
     "text": [
      " 74%|███████▍  | 740/1000 [02:25<00:51,  5.02it/s, Energy=-2.1058173+0.0000000j ± 0.0000024 [σ²=0.0000000]]"
     ]
    },
    {
     "name": "stdout",
     "output_type": "stream",
     "text": [
      "--->> cal O and jac  0.030349016189575195\n",
      "compute_update  0.03220939636230469\n",
      "(0.0516512161476467+0j)\n",
      "n_discard =  144\n",
      "discard samples 0.07464265823364258\n",
      "n_samples_node =  1000\n",
      "generate_samples :  0.07428145408630371\n",
      "     prepare getting local values 0.0034122467041015625\n",
      "     obtained local values 0.007578372955322266\n",
      "get_mc_stats 0.01068568229675293\n"
     ]
    },
    {
     "name": "stderr",
     "output_type": "stream",
     "text": [
      " 74%|███████▍  | 741/1000 [02:25<00:51,  5.06it/s, Energy=-2.1058190+0.0000000j ± 0.0000022 [σ²=0.0000000]]"
     ]
    },
    {
     "name": "stdout",
     "output_type": "stream",
     "text": [
      "--->> cal O and jac  0.03077101707458496\n",
      "compute_update  0.03267240524291992\n",
      "(0.051655252459723563+0j)\n",
      "n_discard =  144\n",
      "discard samples 0.0717315673828125\n",
      "n_samples_node =  1000\n",
      "generate_samples :  0.06934714317321777\n",
      "     prepare getting local values 0.003574371337890625\n",
      "     obtained local values 0.008420228958129883\n",
      "get_mc_stats 0.011780977249145508\n"
     ]
    },
    {
     "name": "stderr",
     "output_type": "stream",
     "text": [
      " 74%|███████▍  | 742/1000 [02:26<00:50,  5.11it/s, Energy=-2.1058174+0.0000000j ± 0.0000024 [σ²=0.0000000]]"
     ]
    },
    {
     "name": "stdout",
     "output_type": "stream",
     "text": [
      "--->> cal O and jac  0.03248000144958496\n",
      "compute_update  0.0357208251953125\n",
      "(0.05165918664242097+0j)\n",
      "n_discard =  144\n",
      "discard samples 0.08039045333862305\n",
      "n_samples_node =  1000\n",
      "generate_samples :  0.06505584716796875\n",
      "     prepare getting local values 0.0036725997924804688\n",
      "     obtained local values 0.008239269256591797\n",
      "get_mc_stats 0.011451005935668945\n"
     ]
    },
    {
     "name": "stderr",
     "output_type": "stream",
     "text": [
      " 74%|███████▍  | 743/1000 [02:26<00:50,  5.06it/s, Energy=-2.1058217+0.0000000j ± 0.0000027 [σ²=0.0000000]]"
     ]
    },
    {
     "name": "stdout",
     "output_type": "stream",
     "text": [
      "--->> cal O and jac  0.03876757621765137\n",
      "compute_update  0.04213285446166992\n",
      "(0.05166310089501112+0j)\n",
      "n_discard =  144\n",
      "discard samples 0.08072519302368164\n",
      "n_samples_node =  1000\n",
      "generate_samples :  0.07560896873474121\n",
      "     prepare getting local values 0.0036160945892333984\n",
      "     obtained local values 0.010187625885009766\n",
      "get_mc_stats 0.013228178024291992\n"
     ]
    },
    {
     "name": "stderr",
     "output_type": "stream",
     "text": [
      " 74%|███████▍  | 744/1000 [02:26<00:51,  4.96it/s, Energy=-2.1058165+0.0000000j ± 0.0000022 [σ²=0.0000000]]"
     ]
    },
    {
     "name": "stdout",
     "output_type": "stream",
     "text": [
      "--->> cal O and jac  0.03675079345703125\n",
      "compute_update  0.038429975509643555\n",
      "(0.05166698795717547+0j)\n",
      "n_discard =  144\n",
      "discard samples 0.0728919506072998\n",
      "n_samples_node =  1000\n",
      "generate_samples :  0.07175087928771973\n",
      "     prepare getting local values 0.004087924957275391\n",
      "     obtained local values 0.009180307388305664\n",
      "get_mc_stats 0.012326717376708984\n"
     ]
    },
    {
     "name": "stderr",
     "output_type": "stream",
     "text": [
      " 74%|███████▍  | 745/1000 [02:26<00:50,  5.05it/s, Energy=-2.1058204+0.0000000j ± 0.0000028 [σ²=0.0000000]]"
     ]
    },
    {
     "name": "stdout",
     "output_type": "stream",
     "text": [
      "--->> cal O and jac  0.028979063034057617\n",
      "compute_update  0.030941247940063477\n",
      "(0.05167080765589835+0j)\n",
      "n_discard =  144\n",
      "discard samples 0.07304167747497559\n",
      "n_samples_node =  1000\n",
      "generate_samples :  0.0726618766784668\n",
      "     prepare getting local values 0.002956390380859375\n",
      "     obtained local values 0.00918269157409668\n",
      "get_mc_stats 0.012596607208251953\n"
     ]
    },
    {
     "name": "stderr",
     "output_type": "stream",
     "text": [
      " 75%|███████▍  | 746/1000 [02:26<00:49,  5.11it/s, Energy=-2.1058168+0.0000000j ± 0.0000022 [σ²=0.0000000]]"
     ]
    },
    {
     "name": "stdout",
     "output_type": "stream",
     "text": [
      "--->> cal O and jac  0.028039216995239258\n",
      "compute_update  0.029940128326416016\n",
      "(0.05167460108334127+0j)\n",
      "n_discard =  144\n",
      "discard samples 0.0742027759552002\n",
      "n_samples_node =  1000\n",
      "generate_samples :  0.0729074478149414\n",
      "     prepare getting local values 0.003002166748046875\n",
      "     obtained local values 0.007700443267822266\n",
      "get_mc_stats 0.010448455810546875\n"
     ]
    },
    {
     "name": "stderr",
     "output_type": "stream",
     "text": [
      "\r",
      " 75%|███████▍  | 746/1000 [02:27<00:49,  5.11it/s, Energy=-2.1058158+0.0000000j ± 0.0000019 [σ²=0.0000000]]"
     ]
    },
    {
     "name": "stdout",
     "output_type": "stream",
     "text": [
      "--->> cal O and jac  0.037108659744262695\n",
      "compute_update  0.03894829750061035\n"
     ]
    },
    {
     "name": "stderr",
     "output_type": "stream",
     "text": [
      "\r",
      " 75%|███████▍  | 747/1000 [02:27<00:49,  5.09it/s, Energy=-2.1058158+0.0000000j ± 0.0000019 [σ²=0.0000000]]"
     ]
    },
    {
     "name": "stdout",
     "output_type": "stream",
     "text": [
      "(0.0516784299242013+0j)\n",
      "n_discard =  144\n",
      "discard samples 0.07569360733032227\n",
      "n_samples_node =  1000\n",
      "generate_samples :  0.07121467590332031\n",
      "     prepare getting local values 0.0033578872680664062\n",
      "     obtained local values 0.009557962417602539\n",
      "get_mc_stats 0.012609720230102539\n",
      "--->> cal O and jac  0.03473305702209473\n",
      "compute_update  0.03723788261413574\n"
     ]
    },
    {
     "name": "stderr",
     "output_type": "stream",
     "text": [
      " 75%|███████▍  | 748/1000 [02:27<00:49,  5.07it/s, Energy=-2.1058163+0.0000000j ± 0.0000021 [σ²=0.0000000]]"
     ]
    },
    {
     "name": "stdout",
     "output_type": "stream",
     "text": [
      "(0.05168215278869537+0j)\n",
      "n_discard =  144\n",
      "discard samples 0.077789306640625\n",
      "n_samples_node =  1000\n",
      "generate_samples :  0.0732107162475586\n",
      "     prepare getting local values 0.0017032623291015625\n",
      "     obtained local values 0.005311489105224609\n",
      "get_mc_stats 0.0071985721588134766\n"
     ]
    },
    {
     "name": "stderr",
     "output_type": "stream",
     "text": [
      " 75%|███████▍  | 749/1000 [02:27<00:48,  5.13it/s, Energy=-2.1058150+0.0000000j ± 0.0000026 [σ²=0.0000000]]"
     ]
    },
    {
     "name": "stdout",
     "output_type": "stream",
     "text": [
      "--->> cal O and jac  0.028268814086914062\n",
      "compute_update  0.03017711639404297\n",
      "(0.051685892714330474+0j)\n",
      "n_discard =  144\n",
      "discard samples 0.0797123908996582\n",
      "n_samples_node =  1000\n",
      "generate_samples :  0.07748198509216309\n",
      "     prepare getting local values 0.0028028488159179688\n",
      "     obtained local values 0.006095170974731445\n",
      "get_mc_stats 0.009041547775268555\n"
     ]
    },
    {
     "name": "stderr",
     "output_type": "stream",
     "text": [
      " 75%|███████▌  | 750/1000 [02:27<00:49,  5.07it/s, Energy=-2.1058175+0.0000000j ± 0.0000024 [σ²=0.0000000]]"
     ]
    },
    {
     "name": "stdout",
     "output_type": "stream",
     "text": [
      "--->> cal O and jac  0.03160834312438965\n",
      "compute_update  0.03339433670043945\n",
      "(0.05168964331950497+0j)\n",
      "n_discard =  144\n",
      "discard samples 0.07408976554870605\n",
      "n_samples_node =  1000\n",
      "generate_samples :  0.07037591934204102\n",
      "     prepare getting local values 0.0037331581115722656\n",
      "     obtained local values 0.008483648300170898\n",
      "get_mc_stats 0.011551380157470703\n"
     ]
    },
    {
     "name": "stderr",
     "output_type": "stream",
     "text": [
      " 75%|███████▌  | 751/1000 [02:27<00:48,  5.10it/s, Energy=-2.1058176+0.0000000j ± 0.0000023 [σ²=0.0000000]]"
     ]
    },
    {
     "name": "stdout",
     "output_type": "stream",
     "text": [
      "--->> cal O and jac  0.03355288505554199\n",
      "compute_update  0.03561258316040039\n",
      "(0.05169334630638705+0j)\n",
      "n_discard =  144\n",
      "discard samples 0.08143258094787598\n",
      "n_samples_node =  1000\n",
      "generate_samples :  0.07332420349121094\n",
      "     prepare getting local values 0.0017552375793457031\n",
      "     obtained local values 0.005240201950073242\n",
      "get_mc_stats 0.007318973541259766\n",
      "--->> cal O and jac  0.03411388397216797\n"
     ]
    },
    {
     "name": "stderr",
     "output_type": "stream",
     "text": [
      " 75%|███████▌  | 752/1000 [02:28<00:49,  5.06it/s, Energy=-2.1058193+0.0000000j ± 0.0000020 [σ²=0.0000000]]"
     ]
    },
    {
     "name": "stdout",
     "output_type": "stream",
     "text": [
      "compute_update  0.03778719902038574\n",
      "(0.0516970328861457+0j)\n",
      "n_discard =  144\n",
      "discard samples 0.0776522159576416\n",
      "n_samples_node =  1000\n",
      "generate_samples :  0.07398509979248047\n",
      "     prepare getting local values 0.004153728485107422\n",
      "     obtained local values 0.008026599884033203\n",
      "get_mc_stats 0.012057065963745117\n",
      "--->> cal O and jac  0.030219078063964844\n"
     ]
    },
    {
     "name": "stderr",
     "output_type": "stream",
     "text": [
      "\r",
      " 75%|███████▌  | 752/1000 [02:28<00:49,  5.06it/s, Energy=-2.1058181+0.0000000j ± 0.0000028 [σ²=0.0000000]]"
     ]
    },
    {
     "name": "stdout",
     "output_type": "stream",
     "text": [
      "compute_update  0.033699989318847656\n"
     ]
    },
    {
     "name": "stderr",
     "output_type": "stream",
     "text": [
      "\r",
      " 75%|███████▌  | 753/1000 [02:28<00:49,  5.04it/s, Energy=-2.1058181+0.0000000j ± 0.0000028 [σ²=0.0000000]]"
     ]
    },
    {
     "name": "stdout",
     "output_type": "stream",
     "text": [
      "(0.05170069726582068+0j)\n",
      "n_discard =  144\n",
      "discard samples 0.07785391807556152\n",
      "n_samples_node =  1000\n",
      "generate_samples :  0.07330489158630371\n",
      "     prepare getting local values 0.004981279373168945\n",
      "     obtained local values 0.01129460334777832\n",
      "get_mc_stats 0.014548063278198242\n"
     ]
    },
    {
     "name": "stderr",
     "output_type": "stream",
     "text": [
      " 75%|███████▌  | 754/1000 [02:28<00:49,  4.97it/s, Energy=-2.1058186+0.0000000j ± 0.0000023 [σ²=0.0000000]]"
     ]
    },
    {
     "name": "stdout",
     "output_type": "stream",
     "text": [
      "--->> cal O and jac  0.038132667541503906\n",
      "compute_update  0.04001450538635254\n",
      "(0.051704350508230766+0j)\n",
      "n_discard =  144\n",
      "discard samples 0.07330560684204102\n",
      "n_samples_node =  1000\n",
      "generate_samples :  0.07385802268981934\n",
      "     prepare getting local values 0.0036301612854003906\n",
      "     obtained local values 0.007329463958740234\n",
      "get_mc_stats 0.010373592376708984\n"
     ]
    },
    {
     "name": "stderr",
     "output_type": "stream",
     "text": [
      " 76%|███████▌  | 755/1000 [02:28<00:49,  4.97it/s, Energy=-2.1058159+0.0000000j ± 0.0000020 [σ²=0.0000000]]"
     ]
    },
    {
     "name": "stdout",
     "output_type": "stream",
     "text": [
      "--->> cal O and jac  0.039582014083862305\n",
      "compute_update  0.04151463508605957\n",
      "(0.05170788870290479+0j)\n",
      "n_discard =  144\n",
      "discard samples 0.07521557807922363\n",
      "n_samples_node =  1000\n",
      "generate_samples :  0.07544136047363281\n",
      "     prepare getting local values 0.004019737243652344\n",
      "     obtained local values 0.007590293884277344\n",
      "get_mc_stats 0.010139703750610352\n",
      "--->> cal O and jac  0.03520917892456055\n"
     ]
    },
    {
     "name": "stderr",
     "output_type": "stream",
     "text": [
      " 76%|███████▌  | 756/1000 [02:28<00:49,  4.97it/s, Energy=-2.1058197+0.0000000j ± 0.0000023 [σ²=0.0000000]]"
     ]
    },
    {
     "name": "stdout",
     "output_type": "stream",
     "text": [
      "compute_update  0.03831768035888672\n",
      "(0.051711404519394995+0j)\n",
      "n_discard =  144\n",
      "discard samples 0.07780981063842773\n",
      "n_samples_node =  1000\n",
      "generate_samples :  0.07138586044311523\n",
      "     prepare getting local values 0.003592967987060547\n",
      "     obtained local values 0.008840322494506836\n",
      "get_mc_stats 0.011998176574707031\n"
     ]
    },
    {
     "name": "stderr",
     "output_type": "stream",
     "text": [
      "\r",
      " 76%|███████▌  | 756/1000 [02:29<00:49,  4.97it/s, Energy=-2.1058156+0.0000000j ± 0.0000016 [σ²=0.0000000]]"
     ]
    },
    {
     "name": "stdout",
     "output_type": "stream",
     "text": [
      "--->> cal O and jac  0.03507041931152344\n",
      "compute_update  0.0369265079498291\n"
     ]
    },
    {
     "name": "stderr",
     "output_type": "stream",
     "text": [
      "\r",
      " 76%|███████▌  | 757/1000 [02:29<00:48,  4.97it/s, Energy=-2.1058156+0.0000000j ± 0.0000016 [σ²=0.0000000]]"
     ]
    },
    {
     "name": "stdout",
     "output_type": "stream",
     "text": [
      "(0.05171486042938828+0j)\n",
      "n_discard =  144\n",
      "discard samples 0.07447028160095215\n",
      "n_samples_node =  1000\n",
      "generate_samples :  0.07073330879211426\n",
      "     prepare getting local values 0.002870798110961914\n",
      "     obtained local values 0.007261991500854492\n",
      "get_mc_stats 0.010237932205200195\n",
      "--->> cal O and jac  0.0412287712097168"
     ]
    },
    {
     "name": "stderr",
     "output_type": "stream",
     "text": [
      " 76%|███████▌  | 758/1000 [02:29<00:48,  4.98it/s, Energy=-2.1058210+0.0000000j ± 0.0000024 [σ²=0.0000000]]"
     ]
    },
    {
     "name": "stdout",
     "output_type": "stream",
     "text": [
      "\n",
      "compute_update  0.04363441467285156\n",
      "(0.05171821954226438+0j)\n",
      "n_discard =  144\n",
      "discard samples 0.07672524452209473\n",
      "n_samples_node =  1000\n",
      "generate_samples :  0.06804800033569336\n",
      "     prepare getting local values 0.0037636756896972656\n",
      "     obtained local values 0.008160829544067383\n",
      "get_mc_stats 0.011392354965209961\n"
     ]
    },
    {
     "name": "stderr",
     "output_type": "stream",
     "text": [
      " 76%|███████▌  | 759/1000 [02:29<00:47,  5.06it/s, Energy=-2.1058192+0.0000000j ± 0.0000021 [σ²=0.0000000]]"
     ]
    },
    {
     "name": "stdout",
     "output_type": "stream",
     "text": [
      "--->> cal O and jac  0.029511213302612305\n",
      "compute_update  0.031278371810913086\n",
      "(0.051721631324264744+0j)\n",
      "n_discard =  144\n",
      "discard samples 0.07082843780517578\n",
      "n_samples_node =  1000\n",
      "generate_samples :  0.06796526908874512\n",
      "     prepare getting local values 0.002947092056274414\n",
      "     obtained local values 0.009227514266967773\n",
      "get_mc_stats 0.012328624725341797\n"
     ]
    },
    {
     "name": "stderr",
     "output_type": "stream",
     "text": [
      " 76%|███████▌  | 760/1000 [02:29<00:46,  5.15it/s, Energy=-2.1058212+0.0000000j ± 0.0000023 [σ²=0.0000000]]"
     ]
    },
    {
     "name": "stdout",
     "output_type": "stream",
     "text": [
      "--->> cal O and jac  0.031111955642700195\n",
      "compute_update  0.03317070007324219\n",
      "(0.05172499819080865+0j)\n",
      "n_discard =  144\n",
      "discard samples 0.07941079139709473\n",
      "n_samples_node =  1000\n",
      "generate_samples :  0.0667569637298584\n",
      "     prepare getting local values 0.0029299259185791016\n",
      "     obtained local values 0.009094476699829102\n",
      "get_mc_stats 0.012199878692626953\n",
      "--->> cal O and jac  0.03704977035522461\n"
     ]
    },
    {
     "name": "stderr",
     "output_type": "stream",
     "text": [
      " 76%|███████▌  | 761/1000 [02:29<00:46,  5.10it/s, Energy=-2.1058214+0.0000000j ± 0.0000018 [σ²=0.0000000]]"
     ]
    },
    {
     "name": "stdout",
     "output_type": "stream",
     "text": [
      "compute_update  0.03925514221191406\n",
      "(0.05172839018297262+0j)\n",
      "n_discard =  144\n",
      "discard samples 0.07512259483337402\n",
      "n_samples_node =  1000\n",
      "generate_samples :  0.0721738338470459\n",
      "     prepare getting local values 0.003160238265991211\n",
      "     obtained local values 0.009539604187011719\n",
      "get_mc_stats 0.013037443161010742\n"
     ]
    },
    {
     "name": "stderr",
     "output_type": "stream",
     "text": [
      " 76%|███████▌  | 762/1000 [02:29<00:46,  5.14it/s, Energy=-2.1058231+0.0000000j ± 0.0000018 [σ²=0.0000000]]"
     ]
    },
    {
     "name": "stdout",
     "output_type": "stream",
     "text": [
      "--->> cal O and jac  0.027770280838012695\n",
      "compute_update  0.029665231704711914\n",
      "(0.05173169522285044+0j)\n",
      "n_discard =  144\n",
      "discard samples 0.07475447654724121\n",
      "n_samples_node =  1000\n",
      "generate_samples :  0.0714571475982666\n",
      "     prepare getting local values 0.0027618408203125\n",
      "     obtained local values 0.008878707885742188\n",
      "get_mc_stats 0.011979341506958008\n"
     ]
    },
    {
     "name": "stderr",
     "output_type": "stream",
     "text": [
      " 76%|███████▋  | 763/1000 [02:30<00:45,  5.16it/s, Energy=-2.1058160+0.0000000j ± 0.0000021 [σ²=0.0000000]]"
     ]
    },
    {
     "name": "stdout",
     "output_type": "stream",
     "text": [
      "--->> cal O and jac  0.028859376907348633\n",
      "compute_update  0.03159213066101074\n",
      "(0.05173500099378579+0j)\n",
      "n_discard =  144\n",
      "discard samples 0.0748291015625\n",
      "n_samples_node =  1000\n",
      "generate_samples :  0.07470512390136719\n",
      "     prepare getting local values 0.0036475658416748047\n",
      "     obtained local values 0.008419990539550781\n",
      "get_mc_stats 0.011706113815307617\n"
     ]
    },
    {
     "name": "stderr",
     "output_type": "stream",
     "text": [
      " 76%|███████▋  | 764/1000 [02:30<00:45,  5.16it/s, Energy=-2.1058209+0.0000000j ± 0.0000020 [σ²=0.0000000]]"
     ]
    },
    {
     "name": "stdout",
     "output_type": "stream",
     "text": [
      "--->> cal O and jac  0.029407501220703125\n",
      "compute_update  0.031085968017578125\n",
      "(0.05173831198686793+0j)\n",
      "n_discard =  144\n",
      "discard samples 0.07359838485717773\n",
      "n_samples_node =  1000\n",
      "generate_samples :  0.07768750190734863\n",
      "     prepare getting local values 0.003526926040649414\n",
      "     obtained local values 0.008177518844604492\n",
      "get_mc_stats 0.011197328567504883\n"
     ]
    },
    {
     "name": "stderr",
     "output_type": "stream",
     "text": [
      " 76%|███████▋  | 765/1000 [02:30<00:45,  5.13it/s, Energy=-2.1058203+0.0000000j ± 0.0000018 [σ²=0.0000000]]"
     ]
    },
    {
     "name": "stdout",
     "output_type": "stream",
     "text": [
      "--->> cal O and jac  0.02974104881286621\n",
      "compute_update  0.03213095664978027\n",
      "(0.05174163629618644+0j)\n",
      "n_discard =  144\n",
      "discard samples 0.07731819152832031\n",
      "n_samples_node =  1000\n",
      "generate_samples :  0.06918001174926758\n",
      "     prepare getting local values 0.002605915069580078\n",
      "     obtained local values 0.005914926528930664\n",
      "get_mc_stats 0.009156227111816406\n"
     ]
    },
    {
     "name": "stderr",
     "output_type": "stream",
     "text": [
      " 77%|███████▋  | 766/1000 [02:30<00:45,  5.15it/s, Energy=-2.1058191+0.0000000j ± 0.0000019 [σ²=0.0000000]]"
     ]
    },
    {
     "name": "stdout",
     "output_type": "stream",
     "text": [
      "--->> cal O and jac  0.031769752502441406\n",
      "compute_update  0.034609079360961914\n",
      "(0.05174494664246893+0j)\n",
      "n_discard =  144\n",
      "discard samples 0.07653617858886719\n",
      "n_samples_node =  1000\n",
      "generate_samples :  0.06775951385498047\n",
      "     prepare getting local values 0.0029075145721435547\n",
      "     obtained local values 0.007283210754394531\n",
      "get_mc_stats 0.009360551834106445\n"
     ]
    },
    {
     "name": "stderr",
     "output_type": "stream",
     "text": [
      " 77%|███████▋  | 767/1000 [02:30<00:45,  5.16it/s, Energy=-2.1058206+0.0000000j ± 0.0000015 [σ²=0.0000000]]"
     ]
    },
    {
     "name": "stdout",
     "output_type": "stream",
     "text": [
      "--->> cal O and jac  0.03438067436218262\n",
      "compute_update  0.03735542297363281\n",
      "(0.051748259713839506+0j)\n",
      "n_discard =  144\n",
      "discard samples 0.07682633399963379\n",
      "n_samples_node =  1000\n",
      "generate_samples :  0.07575798034667969\n",
      "     prepare getting local values 0.0017595291137695312\n",
      "     obtained local values 0.007447481155395508\n",
      "get_mc_stats 0.009296894073486328\n",
      "--->> cal O and jac  0.03357195854187012\n"
     ]
    },
    {
     "name": "stderr",
     "output_type": "stream",
     "text": [
      " 77%|███████▋  | 768/1000 [02:31<00:45,  5.10it/s, Energy=-2.1058183+0.0000000j ± 0.0000018 [σ²=0.0000000]]"
     ]
    },
    {
     "name": "stdout",
     "output_type": "stream",
     "text": [
      "compute_update  0.03694462776184082\n",
      "(0.05175153289322106+0j)\n",
      "n_discard =  144\n",
      "discard samples 0.0765223503112793\n",
      "n_samples_node =  1000\n",
      "generate_samples :  0.06648492813110352\n",
      "     prepare getting local values 0.0027933120727539062\n",
      "     obtained local values 0.008008956909179688\n",
      "get_mc_stats 0.011175394058227539\n"
     ]
    },
    {
     "name": "stderr",
     "output_type": "stream",
     "text": [
      " 77%|███████▋  | 769/1000 [02:31<00:44,  5.18it/s, Energy=-2.1058173+0.0000000j ± 0.0000015 [σ²=0.0000000]]"
     ]
    },
    {
     "name": "stdout",
     "output_type": "stream",
     "text": [
      "--->> cal O and jac  0.028427600860595703\n",
      "compute_update  0.030129671096801758\n",
      "(0.051754822658601825+0j)\n",
      "n_discard =  144\n",
      "discard samples 0.07159543037414551\n",
      "n_samples_node =  1000\n",
      "generate_samples :  0.07585883140563965\n",
      "     prepare getting local values 0.0016946792602539062\n",
      "     obtained local values 0.0051116943359375\n",
      "get_mc_stats 0.007580280303955078\n"
     ]
    },
    {
     "name": "stderr",
     "output_type": "stream",
     "text": [
      " 77%|███████▋  | 770/1000 [02:31<00:43,  5.24it/s, Energy=-2.1058197+0.0000000j ± 0.0000017 [σ²=0.0000000]]"
     ]
    },
    {
     "name": "stdout",
     "output_type": "stream",
     "text": [
      "--->> cal O and jac  0.027210235595703125\n",
      "compute_update  0.02906322479248047\n",
      "(0.05175803578439455+0j)\n",
      "n_discard =  144\n",
      "discard samples 0.07583308219909668\n",
      "n_samples_node =  1000\n",
      "generate_samples :  0.07321667671203613\n",
      "     prepare getting local values 0.0017864704132080078\n",
      "     obtained local values 0.005109071731567383\n",
      "get_mc_stats 0.007331371307373047\n"
     ]
    },
    {
     "name": "stderr",
     "output_type": "stream",
     "text": [
      " 77%|███████▋  | 771/1000 [02:31<00:44,  5.20it/s, Energy=-2.1058202+0.0000000j ± 0.0000019 [σ²=0.0000000]]"
     ]
    },
    {
     "name": "stdout",
     "output_type": "stream",
     "text": [
      "--->> cal O and jac  0.03422379493713379\n",
      "compute_update  0.036925315856933594\n",
      "(0.051761228174039595+0j)\n",
      "n_discard =  144\n",
      "discard samples 0.07892012596130371\n",
      "n_samples_node =  1000\n",
      "generate_samples :  0.07310867309570312\n",
      "     prepare getting local values 0.0040476322174072266\n",
      "     obtained local values 0.01022648811340332\n",
      "get_mc_stats 0.0130767822265625\n"
     ]
    },
    {
     "name": "stderr",
     "output_type": "stream",
     "text": [
      "\r",
      " 77%|███████▋  | 771/1000 [02:31<00:44,  5.20it/s, Energy=-2.1058184+0.0000000j ± 0.0000016 [σ²=0.0000000]]"
     ]
    },
    {
     "name": "stdout",
     "output_type": "stream",
     "text": [
      "--->> cal O and jac  0.028462648391723633\n",
      "compute_update  0.030493497848510742\n"
     ]
    },
    {
     "name": "stderr",
     "output_type": "stream",
     "text": [
      "\r",
      " 77%|███████▋  | 772/1000 [02:31<00:44,  5.15it/s, Energy=-2.1058184+0.0000000j ± 0.0000016 [σ²=0.0000000]]"
     ]
    },
    {
     "name": "stdout",
     "output_type": "stream",
     "text": [
      "(0.051764388471724716+0j)\n",
      "n_discard =  144\n",
      "discard samples 0.07795119285583496\n",
      "n_samples_node =  1000\n",
      "generate_samples :  0.07098889350891113\n",
      "     prepare getting local values 0.0029146671295166016\n",
      "     obtained local values 0.008474588394165039\n",
      "get_mc_stats 0.01125335693359375\n",
      "--->> cal O and jac  0.03585028648376465\n"
     ]
    },
    {
     "name": "stderr",
     "output_type": "stream",
     "text": [
      "\r",
      " 77%|███████▋  | 772/1000 [02:32<00:44,  5.15it/s, Energy=-2.1058202+0.0000000j ± 0.0000012 [σ²=0.0000000]]"
     ]
    },
    {
     "name": "stdout",
     "output_type": "stream",
     "text": [
      "compute_update  0.039327144622802734\n"
     ]
    },
    {
     "name": "stderr",
     "output_type": "stream",
     "text": [
      "\r",
      " 77%|███████▋  | 773/1000 [02:32<00:44,  5.09it/s, Energy=-2.1058202+0.0000000j ± 0.0000012 [σ²=0.0000000]]"
     ]
    },
    {
     "name": "stdout",
     "output_type": "stream",
     "text": [
      "(0.051767565033591194+0j)\n",
      "n_discard =  144\n",
      "discard samples 0.08250260353088379\n",
      "n_samples_node =  1000\n",
      "generate_samples :  0.07180094718933105\n",
      "     prepare getting local values 0.0016880035400390625\n",
      "     obtained local values 0.00496983528137207\n",
      "get_mc_stats 0.007277011871337891\n"
     ]
    },
    {
     "name": "stderr",
     "output_type": "stream",
     "text": [
      " 77%|███████▋  | 774/1000 [02:32<00:44,  5.10it/s, Energy=-2.1058202+0.0000000j ± 0.0000017 [σ²=0.0000000]]"
     ]
    },
    {
     "name": "stdout",
     "output_type": "stream",
     "text": [
      "--->> cal O and jac  0.029222726821899414\n",
      "compute_update  0.03200364112854004\n",
      "(0.051770661083653434+0j)\n",
      "n_discard =  144\n",
      "discard samples 0.0805349349975586\n",
      "n_samples_node =  1000\n",
      "generate_samples :  0.07366204261779785\n",
      "     prepare getting local values 0.0035600662231445312\n",
      "     obtained local values 0.0108795166015625\n",
      "get_mc_stats 0.014081239700317383\n"
     ]
    },
    {
     "name": "stderr",
     "output_type": "stream",
     "text": [
      " 78%|███████▊  | 775/1000 [02:32<00:44,  5.02it/s, Energy=-2.1058193+0.0000000j ± 0.0000015 [σ²=0.0000000]]"
     ]
    },
    {
     "name": "stdout",
     "output_type": "stream",
     "text": [
      "--->> cal O and jac  0.034665584564208984\n",
      "compute_update  0.03645610809326172\n",
      "(0.05177374784375236+0j)\n",
      "n_discard =  144\n",
      "discard samples 0.08269596099853516\n",
      "n_samples_node =  1000\n",
      "generate_samples :  0.07091689109802246\n",
      "     prepare getting local values 0.0036585330963134766\n",
      "     obtained local values 0.008132219314575195\n",
      "get_mc_stats 0.011493921279907227\n",
      "--->> cal O and jac  0.03035259246826172\n"
     ]
    },
    {
     "name": "stderr",
     "output_type": "stream",
     "text": [
      " 78%|███████▊  | 776/1000 [02:32<00:44,  5.00it/s, Energy=-2.1058187+0.0000000j ± 0.0000015 [σ²=0.0000000]]"
     ]
    },
    {
     "name": "stdout",
     "output_type": "stream",
     "text": [
      "compute_update  0.03435039520263672\n",
      "(0.05177682573443477+0j)\n",
      "n_discard =  144\n",
      "discard samples 0.07433819770812988\n",
      "n_samples_node =  1000\n",
      "generate_samples :  0.06662559509277344\n",
      "     prepare getting local values 0.003548145294189453\n",
      "     obtained local values 0.007236003875732422\n",
      "get_mc_stats 0.009811639785766602\n"
     ]
    },
    {
     "name": "stderr",
     "output_type": "stream",
     "text": [
      " 78%|███████▊  | 777/1000 [02:32<00:43,  5.09it/s, Energy=-2.1058176+0.0000000j ± 0.0000017 [σ²=0.0000000]]"
     ]
    },
    {
     "name": "stdout",
     "output_type": "stream",
     "text": [
      "--->> cal O and jac  0.032617807388305664\n",
      "compute_update  0.034566640853881836\n",
      "(0.05177990757620867+0j)\n",
      "n_discard =  144\n",
      "discard samples 0.0827794075012207\n",
      "n_samples_node =  1000\n",
      "generate_samples :  0.07194638252258301\n",
      "     prepare getting local values 0.003543853759765625\n",
      "     obtained local values 0.009314298629760742\n",
      "get_mc_stats 0.012181758880615234\n"
     ]
    },
    {
     "name": "stderr",
     "output_type": "stream",
     "text": [
      " 78%|███████▊  | 778/1000 [02:33<00:44,  5.04it/s, Energy=-2.1058182+0.0000000j ± 0.0000014 [σ²=0.0000000]]"
     ]
    },
    {
     "name": "stdout",
     "output_type": "stream",
     "text": [
      "--->> cal O and jac  0.03248190879821777\n",
      "compute_update  0.034395694732666016\n",
      "(0.051782991948464245+0j)\n",
      "n_discard =  144\n",
      "discard samples 0.07424044609069824\n",
      "n_samples_node =  1000\n",
      "generate_samples :  0.06964278221130371\n",
      "     prepare getting local values 0.0017781257629394531\n",
      "     obtained local values 0.005276203155517578\n",
      "get_mc_stats 0.007383823394775391\n"
     ]
    },
    {
     "name": "stderr",
     "output_type": "stream",
     "text": [
      " 78%|███████▊  | 779/1000 [02:33<00:43,  5.09it/s, Energy=-2.1058179+0.0000000j ± 0.0000014 [σ²=0.0000000]]"
     ]
    },
    {
     "name": "stdout",
     "output_type": "stream",
     "text": [
      "--->> cal O and jac  0.03690528869628906\n",
      "compute_update  0.03869795799255371\n",
      "(0.051786076194509464+0j)\n",
      "n_discard =  144\n",
      "discard samples 0.07471108436584473\n",
      "n_samples_node =  1000\n",
      "generate_samples :  0.07017827033996582\n",
      "     prepare getting local values 0.0016813278198242188\n",
      "     obtained local values 0.005031108856201172\n",
      "get_mc_stats 0.007305145263671875\n"
     ]
    },
    {
     "name": "stderr",
     "output_type": "stream",
     "text": [
      " 78%|███████▊  | 780/1000 [02:33<00:42,  5.19it/s, Energy=-2.1058185+0.0000000j ± 0.0000013 [σ²=0.0000000]]"
     ]
    },
    {
     "name": "stdout",
     "output_type": "stream",
     "text": [
      "--->> cal O and jac  0.028496265411376953\n",
      "compute_update  0.030295610427856445\n",
      "(0.05178911822770576+0j)\n",
      "n_discard =  144\n",
      "discard samples 0.07315564155578613\n",
      "n_samples_node =  1000\n",
      "generate_samples :  0.06776237487792969\n",
      "     prepare getting local values 0.002409219741821289\n",
      "     obtained local values 0.005703449249267578\n",
      "get_mc_stats 0.009112834930419922\n"
     ]
    },
    {
     "name": "stderr",
     "output_type": "stream",
     "text": [
      " 78%|███████▊  | 781/1000 [02:33<00:41,  5.25it/s, Energy=-2.1058214+0.0000000j ± 0.0000014 [σ²=0.0000000]]"
     ]
    },
    {
     "name": "stdout",
     "output_type": "stream",
     "text": [
      "--->> cal O and jac  0.03023672103881836\n",
      "compute_update  0.032083988189697266\n",
      "(0.05179217935002828+0j)\n",
      "n_discard =  144\n",
      "discard samples 0.0730431079864502\n",
      "n_samples_node =  1000\n",
      "generate_samples :  0.0708150863647461\n",
      "     prepare getting local values 0.003042459487915039\n",
      "     obtained local values 0.006314992904663086\n",
      "get_mc_stats 0.0094757080078125\n"
     ]
    },
    {
     "name": "stderr",
     "output_type": "stream",
     "text": [
      " 78%|███████▊  | 782/1000 [02:33<00:41,  5.27it/s, Energy=-2.1058188+0.0000000j ± 0.0000012 [σ²=0.0000000]]"
     ]
    },
    {
     "name": "stdout",
     "output_type": "stream",
     "text": [
      "--->> cal O and jac  0.030427217483520508\n",
      "compute_update  0.0331873893737793\n",
      "(0.05179523035579194+0j)\n",
      "n_discard =  144\n",
      "discard samples 0.07921361923217773\n",
      "n_samples_node =  1000\n",
      "generate_samples :  0.07184123992919922\n",
      "     prepare getting local values 0.003252744674682617\n",
      "     obtained local values 0.007797718048095703\n",
      "get_mc_stats 0.01074075698852539\n"
     ]
    },
    {
     "name": "stderr",
     "output_type": "stream",
     "text": [
      " 78%|███████▊  | 783/1000 [02:34<00:42,  5.13it/s, Energy=-2.1058171+0.0000000j ± 0.0000013 [σ²=0.0000000]]"
     ]
    },
    {
     "name": "stdout",
     "output_type": "stream",
     "text": [
      "--->> cal O and jac  0.039179086685180664\n",
      "compute_update  0.04211926460266113\n",
      "(0.051798241595853244+0j)\n",
      "n_discard =  144\n",
      "discard samples 0.08098769187927246\n",
      "n_samples_node =  1000\n",
      "generate_samples :  0.0682218074798584\n",
      "     prepare getting local values 0.004253864288330078\n",
      "     obtained local values 0.010689735412597656\n",
      "get_mc_stats 0.01402425765991211\n"
     ]
    },
    {
     "name": "stderr",
     "output_type": "stream",
     "text": [
      " 78%|███████▊  | 784/1000 [02:34<00:42,  5.05it/s, Energy=-2.1058169+0.0000000j ± 0.0000015 [σ²=0.0000000]]"
     ]
    },
    {
     "name": "stdout",
     "output_type": "stream",
     "text": [
      "--->> cal O and jac  0.036889076232910156\n",
      "compute_update  0.03998589515686035\n",
      "(0.051801234965785994+0j)\n",
      "n_discard =  144\n",
      "discard samples 0.0735325813293457\n",
      "n_samples_node =  1000\n",
      "generate_samples :  0.0686187744140625\n",
      "     prepare getting local values 0.0038480758666992188\n",
      "     obtained local values 0.010160684585571289\n",
      "get_mc_stats 0.013284683227539062\n"
     ]
    },
    {
     "name": "stderr",
     "output_type": "stream",
     "text": [
      " 78%|███████▊  | 785/1000 [02:34<00:42,  5.11it/s, Energy=-2.1058181+0.0000000j ± 0.0000014 [σ²=0.0000000]]"
     ]
    },
    {
     "name": "stdout",
     "output_type": "stream",
     "text": [
      "--->> cal O and jac  0.030995607376098633\n",
      "compute_update  0.032742977142333984\n",
      "(0.05180421370510875+0j)\n",
      "n_discard =  144\n",
      "discard samples 0.07735347747802734\n",
      "n_samples_node =  1000\n",
      "generate_samples :  0.06991076469421387\n",
      "     prepare getting local values 0.0017673969268798828\n",
      "     obtained local values 0.0052509307861328125\n",
      "get_mc_stats 0.0077266693115234375\n"
     ]
    },
    {
     "name": "stderr",
     "output_type": "stream",
     "text": [
      "\r",
      " 78%|███████▊  | 785/1000 [02:34<00:42,  5.11it/s, Energy=-2.1058210+0.0000000j ± 0.0000013 [σ²=0.0000000]]"
     ]
    },
    {
     "name": "stdout",
     "output_type": "stream",
     "text": [
      "--->> cal O and jac  0.03906893730163574\n",
      "compute_update  0.0414276123046875\n"
     ]
    },
    {
     "name": "stderr",
     "output_type": "stream",
     "text": [
      "\r",
      " 79%|███████▊  | 786/1000 [02:34<00:42,  5.09it/s, Energy=-2.1058210+0.0000000j ± 0.0000013 [σ²=0.0000000]]"
     ]
    },
    {
     "name": "stdout",
     "output_type": "stream",
     "text": [
      "(0.051807178632017205+0j)\n",
      "n_discard =  144\n",
      "discard samples 0.07372736930847168\n",
      "n_samples_node =  1000\n",
      "generate_samples :  0.0677802562713623\n",
      "     prepare getting local values 0.0035047531127929688\n",
      "     obtained local values 0.008758544921875\n",
      "get_mc_stats 0.0121917724609375\n"
     ]
    },
    {
     "name": "stderr",
     "output_type": "stream",
     "text": [
      " 79%|███████▊  | 787/1000 [02:34<00:41,  5.15it/s, Energy=-2.10581743+0.00000000j ± 0.00000100 [σ²=0.00000000]]"
     ]
    },
    {
     "name": "stdout",
     "output_type": "stream",
     "text": [
      "--->> cal O and jac  0.030570030212402344\n",
      "compute_update  0.03269457817077637\n",
      "(0.05181013907323688+0j)\n",
      "n_discard =  144\n",
      "discard samples 0.08078479766845703\n",
      "n_samples_node =  1000\n",
      "generate_samples :  0.06859278678894043\n",
      "     prepare getting local values 0.0034110546112060547\n",
      "     obtained local values 0.0069446563720703125\n",
      "get_mc_stats 0.00977015495300293\n"
     ]
    },
    {
     "name": "stderr",
     "output_type": "stream",
     "text": [
      " 79%|███████▉  | 788/1000 [02:35<00:41,  5.13it/s, Energy=-2.1058174+0.0000000j ± 0.0000012 [σ²=0.0000000]]    "
     ]
    },
    {
     "name": "stdout",
     "output_type": "stream",
     "text": [
      "--->> cal O and jac  0.0333251953125\n",
      "compute_update  0.03514599800109863\n",
      "(0.05181309072270217+0j)\n",
      "n_discard =  144\n",
      "discard samples 0.07957196235656738\n",
      "n_samples_node =  1000\n",
      "generate_samples :  0.06311559677124023\n",
      "     prepare getting local values 0.0016715526580810547\n",
      "     obtained local values 0.004971027374267578\n",
      "get_mc_stats 0.00705718994140625\n"
     ]
    },
    {
     "name": "stderr",
     "output_type": "stream",
     "text": [
      " 79%|███████▉  | 789/1000 [02:35<00:40,  5.20it/s, Energy=-2.1058179+0.0000000j ± 0.0000012 [σ²=0.0000000]]"
     ]
    },
    {
     "name": "stdout",
     "output_type": "stream",
     "text": [
      "--->> cal O and jac  0.03227496147155762\n",
      "compute_update  0.03397631645202637\n",
      "(0.051816004981322696+0j)\n",
      "n_discard =  144\n",
      "discard samples 0.07242226600646973\n",
      "n_samples_node =  1000\n",
      "generate_samples :  0.07149147987365723\n",
      "     prepare getting local values 0.003604412078857422\n",
      "     obtained local values 0.00834345817565918\n",
      "get_mc_stats 0.011080026626586914\n"
     ]
    },
    {
     "name": "stderr",
     "output_type": "stream",
     "text": [
      " 79%|███████▉  | 790/1000 [02:35<00:40,  5.17it/s, Energy=-2.1058164+0.0000000j ± 0.0000015 [σ²=0.0000000]]"
     ]
    },
    {
     "name": "stdout",
     "output_type": "stream",
     "text": [
      "--->> cal O and jac  0.03693532943725586\n",
      "compute_update  0.038718461990356445\n",
      "(0.051818917042423376+0j)\n",
      "n_discard =  144\n",
      "discard samples 0.07672739028930664\n",
      "n_samples_node =  1000\n",
      "generate_samples :  0.06967425346374512\n",
      "     prepare getting local values 0.003960847854614258\n",
      "     obtained local values 0.009473323822021484\n",
      "get_mc_stats 0.012382984161376953\n"
     ]
    },
    {
     "name": "stderr",
     "output_type": "stream",
     "text": [
      " 79%|███████▉  | 791/1000 [02:35<00:40,  5.18it/s, Energy=-2.1058158+0.0000000j ± 0.0000013 [σ²=0.0000000]]"
     ]
    },
    {
     "name": "stdout",
     "output_type": "stream",
     "text": [
      "--->> cal O and jac  0.029679536819458008\n",
      "compute_update  0.031697750091552734\n",
      "(0.05182181809089004+0j)\n",
      "n_discard =  144\n",
      "discard samples 0.08036327362060547\n",
      "n_samples_node =  1000\n",
      "generate_samples :  0.07958102226257324\n",
      "     prepare getting local values 0.0023899078369140625\n",
      "     obtained local values 0.0058193206787109375\n",
      "get_mc_stats 0.007982015609741211\n"
     ]
    },
    {
     "name": "stderr",
     "output_type": "stream",
     "text": [
      " 79%|███████▉  | 792/1000 [02:35<00:41,  5.04it/s, Energy=-2.1058163+0.0000000j ± 0.0000011 [σ²=0.0000000]]"
     ]
    },
    {
     "name": "stdout",
     "output_type": "stream",
     "text": [
      "--->> cal O and jac  0.038266897201538086\n",
      "compute_update  0.04068326950073242\n",
      "(0.05182472391180181+0j)\n",
      "n_discard =  144\n",
      "discard samples 0.0783228874206543\n",
      "n_samples_node =  1000\n",
      "generate_samples :  0.07435989379882812\n",
      "     prepare getting local values 0.003972530364990234\n",
      "     obtained local values 0.008849859237670898\n",
      "get_mc_stats 0.011666297912597656\n"
     ]
    },
    {
     "name": "stderr",
     "output_type": "stream",
     "text": [
      " 79%|███████▉  | 793/1000 [02:36<00:41,  5.00it/s, Energy=-2.10581737+0.00000000j ± 0.00000097 [σ²=0.00000000]]"
     ]
    },
    {
     "name": "stdout",
     "output_type": "stream",
     "text": [
      "--->> cal O and jac  0.03487110137939453\n",
      "compute_update  0.03790020942687988\n",
      "(0.05182762288357266+0j)\n",
      "n_discard =  144\n",
      "discard samples 0.08165454864501953\n",
      "n_samples_node =  1000\n",
      "generate_samples :  0.066375732421875\n",
      "     prepare getting local values 0.0036742687225341797\n",
      "     obtained local values 0.008179187774658203\n",
      "get_mc_stats 0.01148080825805664\n"
     ]
    },
    {
     "name": "stderr",
     "output_type": "stream",
     "text": [
      " 79%|███████▉  | 794/1000 [02:36<00:40,  5.05it/s, Energy=-2.1058167+0.0000000j ± 0.0000012 [σ²=0.0000000]]    "
     ]
    },
    {
     "name": "stdout",
     "output_type": "stream",
     "text": [
      "--->> cal O and jac  0.029423236846923828\n",
      "compute_update  0.03131723403930664\n",
      "(0.05183051129285619+0j)\n",
      "n_discard =  144\n",
      "discard samples 0.0753927230834961\n",
      "n_samples_node =  1000\n",
      "generate_samples :  0.07187628746032715\n",
      "     prepare getting local values 0.0017004013061523438\n",
      "     obtained local values 0.005105257034301758\n",
      "get_mc_stats 0.0074346065521240234\n"
     ]
    },
    {
     "name": "stderr",
     "output_type": "stream",
     "text": [
      " 80%|███████▉  | 795/1000 [02:36<00:40,  5.07it/s, Energy=-2.1058189+0.0000000j ± 0.0000011 [σ²=0.0000000]]"
     ]
    },
    {
     "name": "stdout",
     "output_type": "stream",
     "text": [
      "--->> cal O and jac  0.03577017784118652\n",
      "compute_update  0.03862881660461426\n",
      "(0.05183337581081346+0j)\n",
      "n_discard =  144\n",
      "discard samples 0.07816910743713379\n",
      "n_samples_node =  1000\n",
      "generate_samples :  0.07667112350463867\n",
      "     prepare getting local values 0.003138303756713867\n",
      "     obtained local values 0.00653529167175293\n",
      "get_mc_stats 0.010313272476196289\n",
      "--->> cal O and jac  0.028867244720458984\n"
     ]
    },
    {
     "name": "stderr",
     "output_type": "stream",
     "text": [
      " 80%|███████▉  | 796/1000 [02:36<00:40,  5.05it/s, Energy=-2.1058170+0.0000000j ± 0.0000011 [σ²=0.0000000]]"
     ]
    },
    {
     "name": "stdout",
     "output_type": "stream",
     "text": [
      "compute_update  0.03176450729370117\n",
      "(0.051836216691681224+0j)\n",
      "n_discard =  144\n",
      "discard samples 0.07691287994384766\n",
      "n_samples_node =  1000\n",
      "generate_samples :  0.07440614700317383\n",
      "     prepare getting local values 0.0035347938537597656\n",
      "     obtained local values 0.01060628890991211\n",
      "get_mc_stats 0.01376962661743164\n"
     ]
    },
    {
     "name": "stderr",
     "output_type": "stream",
     "text": [
      " 80%|███████▉  | 797/1000 [02:36<00:40,  5.00it/s, Energy=-2.1058166+0.0000000j ± 0.0000012 [σ²=0.0000000]]"
     ]
    },
    {
     "name": "stdout",
     "output_type": "stream",
     "text": [
      "--->> cal O and jac  0.0359187126159668\n",
      "compute_update  0.03809952735900879\n",
      "(0.05183907773850375+0j)\n",
      "n_discard =  144\n",
      "discard samples 0.07546162605285645\n",
      "n_samples_node =  1000\n",
      "generate_samples :  0.06914210319519043\n",
      "     prepare getting local values 0.002313852310180664\n",
      "     obtained local values 0.0059316158294677734\n",
      "get_mc_stats 0.008486509323120117\n"
     ]
    },
    {
     "name": "stderr",
     "output_type": "stream",
     "text": [
      " 80%|███████▉  | 798/1000 [02:37<00:40,  5.05it/s, Energy=-2.1058179+0.0000000j ± 0.0000012 [σ²=0.0000000]]"
     ]
    },
    {
     "name": "stdout",
     "output_type": "stream",
     "text": [
      "--->> cal O and jac  0.036573171615600586\n",
      "compute_update  0.03842043876647949\n",
      "(0.05184191504376296+0j)\n",
      "n_discard =  144\n",
      "discard samples 0.07127904891967773\n",
      "n_samples_node =  1000\n",
      "generate_samples :  0.07072782516479492\n",
      "     prepare getting local values 0.0031211376190185547\n",
      "     obtained local values 0.00829172134399414\n",
      "get_mc_stats 0.011069297790527344\n"
     ]
    },
    {
     "name": "stderr",
     "output_type": "stream",
     "text": [
      " 80%|███████▉  | 799/1000 [02:37<00:39,  5.08it/s, Energy=-2.1058155+0.0000000j ± 0.0000010 [σ²=0.0000000]]"
     ]
    },
    {
     "name": "stdout",
     "output_type": "stream",
     "text": [
      "--->> cal O and jac  0.03742241859436035\n",
      "compute_update  0.039319753646850586\n",
      "(0.05184476139360998+0j)\n",
      "n_discard =  144\n",
      "discard samples 0.07096695899963379\n",
      "n_samples_node =  1000\n",
      "generate_samples :  0.07010316848754883\n",
      "     prepare getting local values 0.002926349639892578\n",
      "     obtained local values 0.006453752517700195\n",
      "get_mc_stats 0.009823322296142578\n"
     ]
    },
    {
     "name": "stderr",
     "output_type": "stream",
     "text": [
      " 80%|████████  | 800/1000 [02:37<00:38,  5.18it/s, Energy=-2.10581852+0.00000000j ± 0.00000095 [σ²=0.00000000]]"
     ]
    },
    {
     "name": "stdout",
     "output_type": "stream",
     "text": [
      "--->> cal O and jac  0.02936577796936035\n",
      "compute_update  0.03191709518432617\n",
      "(0.05184757619499087+0j)\n",
      "n_discard =  144\n",
      "discard samples 0.07644271850585938\n",
      "n_samples_node =  1000\n",
      "generate_samples :  0.07573294639587402\n",
      "     prepare getting local values 0.0032186508178710938\n",
      "     obtained local values 0.009368419647216797\n",
      "get_mc_stats 0.011906862258911133\n",
      "--->> cal O and jac  0.029520034790039062\n",
      "compute_update  0.03128480911254883"
     ]
    },
    {
     "name": "stderr",
     "output_type": "stream",
     "text": [
      " 80%|████████  | 801/1000 [02:37<00:38,  5.14it/s, Energy=-2.1058179+0.0000000j ± 0.0000010 [σ²=0.0000000]]    "
     ]
    },
    {
     "name": "stdout",
     "output_type": "stream",
     "text": [
      "\n",
      "(0.05185039120799574+0j)\n",
      "n_discard =  144\n",
      "discard samples 0.08133363723754883\n",
      "n_samples_node =  1000\n",
      "generate_samples :  0.07354474067687988\n",
      "     prepare getting local values 0.003814697265625\n",
      "     obtained local values 0.00974273681640625\n",
      "get_mc_stats 0.013067960739135742\n"
     ]
    },
    {
     "name": "stderr",
     "output_type": "stream",
     "text": [
      " 80%|████████  | 802/1000 [02:37<00:39,  5.00it/s, Energy=-2.1058161+0.0000000j ± 0.0000011 [σ²=0.0000000]]"
     ]
    },
    {
     "name": "stdout",
     "output_type": "stream",
     "text": [
      "--->> cal O and jac  0.04027724266052246\n",
      "compute_update  0.04310488700866699\n",
      "(0.05185318844753019+0j)\n",
      "n_discard =  144\n",
      "discard samples 0.07807517051696777\n",
      "n_samples_node =  1000\n",
      "generate_samples :  0.06840777397155762\n",
      "     prepare getting local values 0.0033445358276367188\n",
      "     obtained local values 0.008758544921875\n",
      "get_mc_stats 0.011748790740966797\n"
     ]
    },
    {
     "name": "stderr",
     "output_type": "stream",
     "text": [
      " 80%|████████  | 803/1000 [02:38<00:39,  5.05it/s, Energy=-2.1058179+0.0000000j ± 0.0000011 [σ²=0.0000000]]"
     ]
    },
    {
     "name": "stdout",
     "output_type": "stream",
     "text": [
      "--->> cal O and jac  0.03102397918701172\n",
      "compute_update  0.032901763916015625\n",
      "(0.05185596959712188+0j)\n",
      "n_discard =  144\n",
      "discard samples 0.07643342018127441\n",
      "n_samples_node =  1000\n",
      "generate_samples :  0.06494402885437012\n",
      "     prepare getting local values 0.0017960071563720703\n",
      "     obtained local values 0.005281925201416016\n",
      "get_mc_stats 0.0074005126953125\n"
     ]
    },
    {
     "name": "stderr",
     "output_type": "stream",
     "text": [
      " 80%|████████  | 804/1000 [02:38<00:38,  5.14it/s, Energy=-2.10581863+0.00000000j ± 0.00000100 [σ²=0.00000000]]"
     ]
    },
    {
     "name": "stdout",
     "output_type": "stream",
     "text": [
      "--->> cal O and jac  0.032644033432006836\n",
      "compute_update  0.03558540344238281\n",
      "(0.05185874828153664+0j)\n",
      "n_discard =  144\n",
      "discard samples 0.08045601844787598\n",
      "n_samples_node =  1000\n",
      "generate_samples :  0.07023000717163086\n",
      "     prepare getting local values 0.0035338401794433594\n",
      "     obtained local values 0.008983373641967773\n",
      "get_mc_stats 0.01187443733215332\n"
     ]
    },
    {
     "name": "stderr",
     "output_type": "stream",
     "text": [
      " 80%|████████  | 805/1000 [02:38<00:38,  5.07it/s, Energy=-2.1058178+0.0000000j ± 0.0000011 [σ²=0.0000000]]    "
     ]
    },
    {
     "name": "stdout",
     "output_type": "stream",
     "text": [
      "--->> cal O and jac  0.035668134689331055\n",
      "compute_update  0.03735971450805664\n",
      "(0.05186152318312313+0j)\n",
      "n_discard =  144\n",
      "discard samples 0.08274507522583008\n",
      "n_samples_node =  1000\n",
      "generate_samples :  0.07478094100952148\n",
      "     prepare getting local values 0.003629922866821289\n",
      "     obtained local values 0.008808374404907227\n",
      "get_mc_stats 0.011339187622070312\n"
     ]
    },
    {
     "name": "stderr",
     "output_type": "stream",
     "text": [
      " 81%|████████  | 806/1000 [02:38<00:39,  4.97it/s, Energy=-2.10581967+0.00000000j ± 0.00000098 [σ²=0.00000000]]"
     ]
    },
    {
     "name": "stdout",
     "output_type": "stream",
     "text": [
      "--->> cal O and jac  0.03799152374267578\n",
      "compute_update  0.039760589599609375\n",
      "(0.05186427455693427+0j)\n",
      "n_discard =  144\n",
      "discard samples 0.08054661750793457\n",
      "n_samples_node =  1000\n",
      "generate_samples :  0.07261419296264648\n",
      "     prepare getting local values 0.0034966468811035156\n",
      "     obtained local values 0.009262800216674805\n",
      "get_mc_stats 0.012042999267578125\n"
     ]
    },
    {
     "name": "stderr",
     "output_type": "stream",
     "text": [
      " 81%|████████  | 807/1000 [02:38<00:39,  4.91it/s, Energy=-2.10581741+0.00000000j ± 0.00000095 [σ²=0.00000000]]"
     ]
    },
    {
     "name": "stdout",
     "output_type": "stream",
     "text": [
      "--->> cal O and jac  0.03932332992553711\n",
      "compute_update  0.04238605499267578\n",
      "(0.051867029014345936+0j)\n",
      "n_discard =  144\n",
      "discard samples 0.08220911026000977\n",
      "n_samples_node =  1000\n",
      "generate_samples :  0.07006263732910156\n",
      "     prepare getting local values 0.003553152084350586\n",
      "     obtained local values 0.008564472198486328\n",
      "get_mc_stats 0.011247396469116211\n"
     ]
    },
    {
     "name": "stderr",
     "output_type": "stream",
     "text": [
      " 81%|████████  | 808/1000 [02:39<00:38,  4.93it/s, Energy=-2.10581762+0.00000000j ± 0.00000076 [σ²=0.00000000]]"
     ]
    },
    {
     "name": "stdout",
     "output_type": "stream",
     "text": [
      "--->> cal O and jac  0.03281140327453613\n",
      "compute_update  0.03461861610412598\n",
      "(0.05186976620096255+0j)\n",
      "n_discard =  144\n",
      "discard samples 0.07314658164978027\n",
      "n_samples_node =  1000\n",
      "generate_samples :  0.0710446834564209\n",
      "     prepare getting local values 0.0035517215728759766\n",
      "     obtained local values 0.008192062377929688\n",
      "get_mc_stats 0.011566877365112305\n"
     ]
    },
    {
     "name": "stderr",
     "output_type": "stream",
     "text": [
      " 81%|████████  | 809/1000 [02:39<00:38,  4.99it/s, Energy=-2.1058172+0.0000000j ± 0.0000013 [σ²=0.0000000]]    "
     ]
    },
    {
     "name": "stdout",
     "output_type": "stream",
     "text": [
      "--->> cal O and jac  0.03350663185119629\n",
      "compute_update  0.036243438720703125\n",
      "(0.05187249935837268+0j)\n",
      "n_discard =  144\n",
      "discard samples 0.07966184616088867\n",
      "n_samples_node =  1000\n",
      "generate_samples :  0.06934261322021484\n",
      "     prepare getting local values 0.0026259422302246094\n",
      "     obtained local values 0.008855342864990234\n",
      "get_mc_stats 0.010718584060668945\n"
     ]
    },
    {
     "name": "stderr",
     "output_type": "stream",
     "text": [
      " 81%|████████  | 810/1000 [02:39<00:38,  4.99it/s, Energy=-2.10581994+0.00000000j ± 0.00000085 [σ²=0.00000000]]"
     ]
    },
    {
     "name": "stdout",
     "output_type": "stream",
     "text": [
      "--->> cal O and jac  0.03712797164916992\n",
      "compute_update  0.03883075714111328\n",
      "(0.05187521757944737+0j)\n",
      "n_discard =  144\n",
      "discard samples 0.07811307907104492\n",
      "n_samples_node =  1000\n",
      "generate_samples :  0.07590126991271973\n",
      "     prepare getting local values 0.0035173892974853516\n",
      "     obtained local values 0.009649515151977539\n",
      "get_mc_stats 0.012652397155761719\n"
     ]
    },
    {
     "name": "stderr",
     "output_type": "stream",
     "text": [
      " 81%|████████  | 811/1000 [02:39<00:37,  4.97it/s, Energy=-2.1058170+0.0000000j ± 0.0000011 [σ²=0.0000000]]    "
     ]
    },
    {
     "name": "stdout",
     "output_type": "stream",
     "text": [
      "--->> cal O and jac  0.031072378158569336\n",
      "compute_update  0.033043622970581055\n",
      "(0.051877922945032996+0j)\n",
      "n_discard =  144\n",
      "discard samples 0.07756638526916504\n",
      "n_samples_node =  1000\n",
      "generate_samples :  0.0685276985168457\n",
      "     prepare getting local values 0.0028443336486816406\n",
      "     obtained local values 0.009025812149047852\n",
      "get_mc_stats 0.012025833129882812\n"
     ]
    },
    {
     "name": "stderr",
     "output_type": "stream",
     "text": [
      " 81%|████████  | 812/1000 [02:39<00:37,  5.05it/s, Energy=-2.1058186+0.0000000j ± 0.0000014 [σ²=0.0000000]]"
     ]
    },
    {
     "name": "stdout",
     "output_type": "stream",
     "text": [
      "--->> cal O and jac  0.027948617935180664\n",
      "compute_update  0.030104875564575195\n",
      "(0.05188063956773235+0j)\n",
      "n_discard =  144\n",
      "discard samples 0.08032059669494629\n",
      "n_samples_node =  1000\n",
      "generate_samples :  0.07225751876831055\n",
      "     prepare getting local values 0.003345012664794922\n",
      "     obtained local values 0.01081705093383789\n",
      "get_mc_stats 0.013801813125610352\n"
     ]
    },
    {
     "name": "stderr",
     "output_type": "stream",
     "text": [
      " 81%|████████▏ | 813/1000 [02:40<00:37,  4.99it/s, Energy=-2.1058184+0.0000000j ± 0.0000012 [σ²=0.0000000]]"
     ]
    },
    {
     "name": "stdout",
     "output_type": "stream",
     "text": [
      "--->> cal O and jac  0.03661179542541504\n",
      "compute_update  0.03818011283874512\n",
      "(0.05188334791128899+0j)\n",
      "n_discard =  144\n",
      "discard samples 0.07778120040893555\n",
      "n_samples_node =  1000\n",
      "generate_samples :  0.07593536376953125\n",
      "     prepare getting local values 0.003571033477783203\n",
      "     obtained local values 0.008314132690429688\n",
      "get_mc_stats 0.011267900466918945\n"
     ]
    },
    {
     "name": "stderr",
     "output_type": "stream",
     "text": [
      " 81%|████████▏ | 814/1000 [02:40<00:37,  4.95it/s, Energy=-2.1058172+0.0000000j ± 0.0000012 [σ²=0.0000000]]"
     ]
    },
    {
     "name": "stdout",
     "output_type": "stream",
     "text": [
      "--->> cal O and jac  0.03500080108642578\n",
      "compute_update  0.03781723976135254\n",
      "(0.05188601774479762+0j)\n",
      "n_discard =  144\n",
      "discard samples 0.07680940628051758\n",
      "n_samples_node =  1000\n",
      "generate_samples :  0.07353472709655762\n",
      "     prepare getting local values 0.0035753250122070312\n",
      "     obtained local values 0.00984334945678711\n",
      "get_mc_stats 0.012256860733032227\n",
      "--->> cal O and jac  0.03132057189941406\n"
     ]
    },
    {
     "name": "stderr",
     "output_type": "stream",
     "text": [
      " 82%|████████▏ | 815/1000 [02:40<00:37,  4.97it/s, Energy=-2.1058178+0.0000000j ± 0.0000011 [σ²=0.0000000]]"
     ]
    },
    {
     "name": "stdout",
     "output_type": "stream",
     "text": [
      "compute_update  0.03479170799255371\n",
      "(0.051888675349259096+0j)\n",
      "n_discard =  144\n",
      "discard samples 0.07704806327819824\n",
      "n_samples_node =  1000\n",
      "generate_samples :  0.06557846069335938\n",
      "     prepare getting local values 0.003528118133544922\n",
      "     obtained local values 0.009529829025268555\n",
      "get_mc_stats 0.013271808624267578\n",
      "--->> cal O and jac  0.03854560852050781\n"
     ]
    },
    {
     "name": "stderr",
     "output_type": "stream",
     "text": [
      " 82%|████████▏ | 816/1000 [02:40<00:36,  4.99it/s, Energy=-2.1058153+0.0000000j ± 0.0000010 [σ²=0.0000000]]"
     ]
    },
    {
     "name": "stdout",
     "output_type": "stream",
     "text": [
      "compute_update  0.04102778434753418\n",
      "(0.05189133788284789+0j)\n",
      "n_discard =  144\n",
      "discard samples 0.07519650459289551\n",
      "n_samples_node =  1000\n",
      "generate_samples :  0.07222652435302734\n",
      "     prepare getting local values 0.0024657249450683594\n",
      "     obtained local values 0.0059604644775390625\n",
      "get_mc_stats 0.008983612060546875\n"
     ]
    },
    {
     "name": "stderr",
     "output_type": "stream",
     "text": [
      " 82%|████████▏ | 817/1000 [02:40<00:36,  5.04it/s, Energy=-2.1058166+0.0000000j ± 0.0000012 [σ²=0.0000000]]"
     ]
    },
    {
     "name": "stdout",
     "output_type": "stream",
     "text": [
      "--->> cal O and jac  0.03396916389465332\n",
      "compute_update  0.035993099212646484\n",
      "(0.051893981071058616+0j)\n",
      "n_discard =  144\n",
      "discard samples 0.07749605178833008\n",
      "n_samples_node =  1000\n",
      "generate_samples :  0.07880973815917969\n",
      "     prepare getting local values 0.0034830570220947266\n",
      "     obtained local values 0.010434627532958984\n",
      "get_mc_stats 0.01326608657836914\n"
     ]
    },
    {
     "name": "stderr",
     "output_type": "stream",
     "text": [
      " 82%|████████▏ | 818/1000 [02:41<00:36,  4.98it/s, Energy=-2.1058187+0.0000000j ± 0.0000012 [σ²=0.0000000]]"
     ]
    },
    {
     "name": "stdout",
     "output_type": "stream",
     "text": [
      "--->> cal O and jac  0.03243136405944824\n",
      "compute_update  0.03498959541320801\n",
      "(0.05189661571839692+0j)\n",
      "n_discard =  144\n",
      "discard samples 0.07137250900268555\n",
      "n_samples_node =  1000\n",
      "generate_samples :  0.06909680366516113\n",
      "     prepare getting local values 0.003563404083251953\n",
      "     obtained local values 0.008972406387329102\n",
      "get_mc_stats 0.012551069259643555\n"
     ]
    },
    {
     "name": "stderr",
     "output_type": "stream",
     "text": [
      " 82%|████████▏ | 819/1000 [02:41<00:36,  5.02it/s, Energy=-2.1058193+0.0000000j ± 0.0000012 [σ²=0.0000000]]"
     ]
    },
    {
     "name": "stdout",
     "output_type": "stream",
     "text": [
      "--->> cal O and jac  0.03744816780090332\n",
      "compute_update  0.04036974906921387\n",
      "(0.05189924266952808+0j)\n",
      "n_discard =  144\n",
      "discard samples 0.07721638679504395\n",
      "n_samples_node =  1000\n",
      "generate_samples :  0.06738805770874023\n",
      "     prepare getting local values 0.003618478775024414\n",
      "     obtained local values 0.007215738296508789\n",
      "get_mc_stats 0.010282754898071289\n"
     ]
    },
    {
     "name": "stderr",
     "output_type": "stream",
     "text": [
      " 82%|████████▏ | 820/1000 [02:41<00:35,  5.09it/s, Energy=-2.1058176+0.0000000j ± 0.0000013 [σ²=0.0000000]]"
     ]
    },
    {
     "name": "stdout",
     "output_type": "stream",
     "text": [
      "--->> cal O and jac  0.030144929885864258\n",
      "compute_update  0.03294491767883301\n",
      "(0.05190186942484502+0j)\n",
      "n_discard =  144\n",
      "discard samples 0.08293342590332031\n",
      "n_samples_node =  1000\n",
      "generate_samples :  0.07623076438903809\n",
      "     prepare getting local values 0.004823207855224609\n",
      "     obtained local values 0.00848245620727539\n",
      "get_mc_stats 0.011695623397827148\n"
     ]
    },
    {
     "name": "stderr",
     "output_type": "stream",
     "text": [
      " 82%|████████▏ | 821/1000 [02:41<00:35,  4.98it/s, Energy=-2.1058158+0.0000000j ± 0.0000014 [σ²=0.0000000]]"
     ]
    },
    {
     "name": "stdout",
     "output_type": "stream",
     "text": [
      "--->> cal O and jac  0.034874677658081055\n",
      "compute_update  0.03740715980529785\n",
      "(0.05190448007792554+0j)\n",
      "n_discard =  144\n",
      "discard samples 0.07555723190307617\n",
      "n_samples_node =  1000\n",
      "generate_samples :  0.07226276397705078\n",
      "     prepare getting local values 0.004084587097167969\n",
      "     obtained local values 0.008946418762207031\n",
      "get_mc_stats 0.012182474136352539\n"
     ]
    },
    {
     "name": "stderr",
     "output_type": "stream",
     "text": [
      " 82%|████████▏ | 822/1000 [02:41<00:35,  5.04it/s, Energy=-2.1058176+0.0000000j ± 0.0000011 [σ²=0.0000000]]"
     ]
    },
    {
     "name": "stdout",
     "output_type": "stream",
     "text": [
      "--->> cal O and jac  0.028682708740234375\n",
      "compute_update  0.030303239822387695\n",
      "(0.05190708800688027+0j)\n",
      "n_discard =  144\n",
      "discard samples 0.09887433052062988\n",
      "n_samples_node =  1000\n",
      "generate_samples :  0.07208538055419922\n",
      "     prepare getting local values 0.00356292724609375\n",
      "     obtained local values 0.009179115295410156\n",
      "get_mc_stats 0.012116193771362305\n"
     ]
    },
    {
     "name": "stderr",
     "output_type": "stream",
     "text": [
      " 82%|████████▏ | 823/1000 [02:42<00:36,  4.88it/s, Energy=-2.1058175+0.0000000j ± 0.0000013 [σ²=0.0000000]]"
     ]
    },
    {
     "name": "stdout",
     "output_type": "stream",
     "text": [
      "--->> cal O and jac  0.031221628189086914\n",
      "compute_update  0.03427743911743164\n",
      "(0.0519096856453073+0j)\n",
      "n_discard =  144\n",
      "discard samples 0.07891607284545898\n",
      "n_samples_node =  1000\n",
      "generate_samples :  0.0738382339477539\n",
      "     prepare getting local values 0.002822399139404297\n",
      "     obtained local values 0.006258487701416016\n",
      "get_mc_stats 0.009152889251708984\n"
     ]
    },
    {
     "name": "stderr",
     "output_type": "stream",
     "text": [
      "\r",
      " 82%|████████▏ | 823/1000 [02:42<00:36,  4.88it/s, Energy=-2.1058193+0.0000000j ± 0.0000012 [σ²=0.0000000]]"
     ]
    },
    {
     "name": "stdout",
     "output_type": "stream",
     "text": [
      "--->> cal O and jac  0.03137326240539551\n",
      "compute_update  0.033301591873168945\n"
     ]
    },
    {
     "name": "stderr",
     "output_type": "stream",
     "text": [
      "\r",
      " 82%|████████▏ | 824/1000 [02:42<00:35,  4.94it/s, Energy=-2.1058193+0.0000000j ± 0.0000012 [σ²=0.0000000]]"
     ]
    },
    {
     "name": "stdout",
     "output_type": "stream",
     "text": [
      "(0.05191221605451537+0j)\n",
      "n_discard =  144\n",
      "discard samples 0.0821232795715332\n",
      "n_samples_node =  1000\n",
      "generate_samples :  0.07071542739868164\n",
      "     prepare getting local values 0.002157449722290039\n",
      "     obtained local values 0.009369373321533203\n",
      "get_mc_stats 0.011668920516967773\n"
     ]
    },
    {
     "name": "stderr",
     "output_type": "stream",
     "text": [
      "\r",
      " 82%|████████▏ | 824/1000 [02:42<00:35,  4.94it/s, Energy=-2.1058166+0.0000000j ± 0.0000012 [σ²=0.0000000]]"
     ]
    },
    {
     "name": "stdout",
     "output_type": "stream",
     "text": [
      "--->> cal O and jac  0.028568267822265625\n",
      "compute_update  0.031501054763793945\n"
     ]
    },
    {
     "name": "stderr",
     "output_type": "stream",
     "text": [
      "\r",
      " 82%|████████▎ | 825/1000 [02:42<00:35,  4.97it/s, Energy=-2.1058166+0.0000000j ± 0.0000012 [σ²=0.0000000]]"
     ]
    },
    {
     "name": "stdout",
     "output_type": "stream",
     "text": [
      "(0.05191474814634055+0j)\n",
      "n_discard =  144\n",
      "discard samples 0.0819709300994873\n",
      "n_samples_node =  1000\n",
      "generate_samples :  0.06917357444763184\n",
      "     prepare getting local values 0.003628253936767578\n",
      "     obtained local values 0.00743412971496582\n",
      "get_mc_stats 0.010446310043334961\n",
      "--->> cal O and jac  0.03570961952209473\n",
      "compute_update  0.03883624076843262\n"
     ]
    },
    {
     "name": "stderr",
     "output_type": "stream",
     "text": [
      " 83%|████████▎ | 826/1000 [02:42<00:35,  4.96it/s, Energy=-2.1058167+0.0000000j ± 0.0000012 [σ²=0.0000000]]"
     ]
    },
    {
     "name": "stdout",
     "output_type": "stream",
     "text": [
      "(0.05191730612424868+0j)\n",
      "n_discard =  144\n",
      "discard samples 0.07590174674987793\n",
      "n_samples_node =  1000\n",
      "generate_samples :  0.07678532600402832\n",
      "     prepare getting local values 0.003566265106201172\n",
      "     obtained local values 0.009661197662353516\n",
      "get_mc_stats 0.01328420639038086\n"
     ]
    },
    {
     "name": "stderr",
     "output_type": "stream",
     "text": [
      " 83%|████████▎ | 827/1000 [02:42<00:35,  4.87it/s, Energy=-2.1058174+0.0000000j ± 0.0000015 [σ²=0.0000000]]"
     ]
    },
    {
     "name": "stdout",
     "output_type": "stream",
     "text": [
      "--->> cal O and jac  0.04230785369873047\n",
      "compute_update  0.045152902603149414\n",
      "(0.05191975524302117+0j)\n",
      "n_discard =  144\n",
      "discard samples 0.078887939453125\n",
      "n_samples_node =  1000\n",
      "generate_samples :  0.0754399299621582\n",
      "     prepare getting local values 0.003557920455932617\n",
      "     obtained local values 0.007810831069946289\n",
      "get_mc_stats 0.01009511947631836\n"
     ]
    },
    {
     "name": "stderr",
     "output_type": "stream",
     "text": [
      " 83%|████████▎ | 828/1000 [02:43<00:35,  4.88it/s, Energy=-2.1058173+0.0000000j ± 0.0000013 [σ²=0.0000000]]"
     ]
    },
    {
     "name": "stdout",
     "output_type": "stream",
     "text": [
      "--->> cal O and jac  0.03564119338989258\n",
      "compute_update  0.03747749328613281\n",
      "(0.05192215409109923+0j)\n",
      "n_discard =  144\n",
      "discard samples 0.0759122371673584\n",
      "n_samples_node =  1000\n",
      "generate_samples :  0.0715031623840332\n",
      "     prepare getting local values 0.0040132999420166016\n",
      "     obtained local values 0.009120702743530273\n",
      "get_mc_stats 0.012401342391967773\n"
     ]
    },
    {
     "name": "stderr",
     "output_type": "stream",
     "text": [
      " 83%|████████▎ | 829/1000 [02:43<00:34,  4.98it/s, Energy=-2.1058164+0.0000000j ± 0.0000013 [σ²=0.0000000]]"
     ]
    },
    {
     "name": "stdout",
     "output_type": "stream",
     "text": [
      "--->> cal O and jac  0.027843475341796875\n",
      "compute_update  0.029677867889404297\n",
      "(0.05192453096476308+0j)\n",
      "n_discard =  144\n",
      "discard samples 0.07497978210449219\n",
      "n_samples_node =  1000\n",
      "generate_samples :  0.0928957462310791\n",
      "     prepare getting local values 0.0017833709716796875\n",
      "     obtained local values 0.005322456359863281\n",
      "get_mc_stats 0.007752180099487305\n"
     ]
    },
    {
     "name": "stderr",
     "output_type": "stream",
     "text": [
      " 83%|████████▎ | 830/1000 [02:43<00:35,  4.84it/s, Energy=-2.1058177+0.0000000j ± 0.0000014 [σ²=0.0000000]]"
     ]
    },
    {
     "name": "stdout",
     "output_type": "stream",
     "text": [
      "--->> cal O and jac  0.039103031158447266\n",
      "compute_update  0.0419917106628418\n",
      "(0.05192690607184634+0j)\n",
      "n_discard =  144\n",
      "discard samples 0.0805509090423584\n",
      "n_samples_node =  1000\n",
      "generate_samples :  0.07050561904907227\n",
      "     prepare getting local values 0.002794027328491211\n",
      "     obtained local values 0.008797168731689453\n",
      "get_mc_stats 0.011510372161865234\n"
     ]
    },
    {
     "name": "stderr",
     "output_type": "stream",
     "text": [
      " 83%|████████▎ | 831/1000 [02:43<00:34,  4.88it/s, Energy=-2.1058194+0.0000000j ± 0.0000012 [σ²=0.0000000]]"
     ]
    },
    {
     "name": "stdout",
     "output_type": "stream",
     "text": [
      "--->> cal O and jac  0.034097909927368164\n",
      "compute_update  0.035865068435668945\n",
      "(0.0519292755889691+0j)\n",
      "n_discard =  144\n",
      "discard samples 0.06927728652954102\n",
      "n_samples_node =  1000\n",
      "generate_samples :  0.07091093063354492\n",
      "     prepare getting local values 0.0016977787017822266\n",
      "     obtained local values 0.005090475082397461\n",
      "get_mc_stats 0.007547616958618164\n"
     ]
    },
    {
     "name": "stderr",
     "output_type": "stream",
     "text": [
      " 83%|████████▎ | 832/1000 [02:43<00:33,  5.01it/s, Energy=-2.1058170+0.0000000j ± 0.0000015 [σ²=0.0000000]]"
     ]
    },
    {
     "name": "stdout",
     "output_type": "stream",
     "text": [
      "--->> cal O and jac  0.03527021408081055\n",
      "compute_update  0.03772163391113281\n",
      "(0.051931623752287825+0j)\n",
      "n_discard =  144\n",
      "discard samples 0.08165287971496582\n",
      "n_samples_node =  1000\n",
      "generate_samples :  0.07187294960021973\n",
      "     prepare getting local values 0.0018906593322753906\n",
      "     obtained local values 0.007562875747680664\n",
      "get_mc_stats 0.010097265243530273\n"
     ]
    },
    {
     "name": "stderr",
     "output_type": "stream",
     "text": [
      "\r",
      " 83%|████████▎ | 832/1000 [02:44<00:33,  5.01it/s, Energy=-2.1058191+0.0000000j ± 0.0000014 [σ²=0.0000000]]"
     ]
    },
    {
     "name": "stdout",
     "output_type": "stream",
     "text": [
      "--->> cal O and jac  0.030879735946655273\n",
      "compute_update  0.03278374671936035\n"
     ]
    },
    {
     "name": "stderr",
     "output_type": "stream",
     "text": [
      "\r",
      " 83%|████████▎ | 833/1000 [02:44<00:33,  5.02it/s, Energy=-2.1058191+0.0000000j ± 0.0000014 [σ²=0.0000000]]"
     ]
    },
    {
     "name": "stdout",
     "output_type": "stream",
     "text": [
      "(0.05193396905431359+0j)\n",
      "n_discard =  144\n",
      "discard samples 0.07678103446960449\n",
      "n_samples_node =  1000\n",
      "generate_samples :  0.07317829132080078\n",
      "     prepare getting local values 0.0030121803283691406\n",
      "     obtained local values 0.006783485412597656\n",
      "get_mc_stats 0.011007070541381836\n"
     ]
    },
    {
     "name": "stderr",
     "output_type": "stream",
     "text": [
      " 83%|████████▎ | 834/1000 [02:44<00:33,  4.98it/s, Energy=-2.1058180+0.0000000j ± 0.0000013 [σ²=0.0000000]]"
     ]
    },
    {
     "name": "stdout",
     "output_type": "stream",
     "text": [
      "--->> cal O and jac  0.03922271728515625\n",
      "compute_update  0.0410919189453125\n",
      "(0.051936267133316616+0j)\n",
      "n_discard =  144\n",
      "discard samples 0.07555699348449707\n",
      "n_samples_node =  1000\n",
      "generate_samples :  0.06946611404418945\n",
      "     prepare getting local values 0.0026509761810302734\n",
      "     obtained local values 0.006136178970336914\n",
      "get_mc_stats 0.008421659469604492\n"
     ]
    },
    {
     "name": "stderr",
     "output_type": "stream",
     "text": [
      " 84%|████████▎ | 835/1000 [02:44<00:32,  5.05it/s, Energy=-2.1058194+0.0000000j ± 0.0000014 [σ²=0.0000000]]"
     ]
    },
    {
     "name": "stdout",
     "output_type": "stream",
     "text": [
      "--->> cal O and jac  0.033776044845581055\n",
      "compute_update  0.03576302528381348\n",
      "(0.05193852931419598+0j)\n",
      "n_discard =  144\n",
      "discard samples 0.0727996826171875\n",
      "n_samples_node =  1000\n",
      "generate_samples :  0.06766676902770996\n",
      "     prepare getting local values 0.002890348434448242\n",
      "     obtained local values 0.008929014205932617\n",
      "get_mc_stats 0.011680364608764648\n"
     ]
    },
    {
     "name": "stderr",
     "output_type": "stream",
     "text": [
      " 84%|████████▎ | 836/1000 [02:44<00:31,  5.13it/s, Energy=-2.1058174+0.0000000j ± 0.0000016 [σ²=0.0000000]]"
     ]
    },
    {
     "name": "stdout",
     "output_type": "stream",
     "text": [
      "--->> cal O and jac  0.03149843215942383\n",
      "compute_update  0.03329610824584961\n",
      "(0.05194075735521918+0j)\n",
      "n_discard =  144\n",
      "discard samples 0.07457613945007324\n",
      "n_samples_node =  1000\n",
      "generate_samples :  0.06663990020751953\n",
      "     prepare getting local values 0.0028808116912841797\n",
      "     obtained local values 0.0069806575775146484\n",
      "get_mc_stats 0.009716033935546875\n"
     ]
    },
    {
     "name": "stderr",
     "output_type": "stream",
     "text": [
      " 84%|████████▎ | 837/1000 [02:44<00:31,  5.18it/s, Energy=-2.1058184+0.0000000j ± 0.0000012 [σ²=0.0000000]]"
     ]
    },
    {
     "name": "stdout",
     "output_type": "stream",
     "text": [
      "--->> cal O and jac  0.03176069259643555\n",
      "compute_update  0.034906625747680664\n",
      "(0.05194295890299414+0j)\n",
      "n_discard =  144\n",
      "discard samples 0.07654476165771484\n",
      "n_samples_node =  1000\n",
      "generate_samples :  0.07241964340209961\n",
      "     prepare getting local values 0.001687765121459961\n",
      "     obtained local values 0.004923105239868164\n",
      "get_mc_stats 0.006883382797241211\n"
     ]
    },
    {
     "name": "stderr",
     "output_type": "stream",
     "text": [
      " 84%|████████▍ | 838/1000 [02:45<00:31,  5.18it/s, Energy=-2.1058196+0.0000000j ± 0.0000013 [σ²=0.0000000]]"
     ]
    },
    {
     "name": "stdout",
     "output_type": "stream",
     "text": [
      "--->> cal O and jac  0.03294658660888672\n",
      "compute_update  0.034778594970703125\n",
      "(0.05194519173987994+0j)\n",
      "n_discard =  144\n",
      "discard samples 0.07595157623291016\n",
      "n_samples_node =  1000\n",
      "generate_samples :  0.06890630722045898\n",
      "     prepare getting local values 0.0029077529907226562\n",
      "     obtained local values 0.008099079132080078\n",
      "get_mc_stats 0.011476755142211914\n",
      "--->> cal O and jac  0.03988838195800781\n"
     ]
    },
    {
     "name": "stderr",
     "output_type": "stream",
     "text": [
      " 84%|████████▍ | 839/1000 [02:45<00:31,  5.10it/s, Energy=-2.1058170+0.0000000j ± 0.0000018 [σ²=0.0000000]]"
     ]
    },
    {
     "name": "stdout",
     "output_type": "stream",
     "text": [
      "compute_update  0.0441737174987793\n",
      "(0.051947369444918255+0j)\n",
      "n_discard =  144\n",
      "discard samples 0.080047607421875\n",
      "n_samples_node =  1000\n",
      "generate_samples :  0.0682823657989502\n",
      "     prepare getting local values 0.0017368793487548828\n",
      "     obtained local values 0.005301475524902344\n",
      "get_mc_stats 0.007197380065917969\n"
     ]
    },
    {
     "name": "stderr",
     "output_type": "stream",
     "text": [
      " 84%|████████▍ | 840/1000 [02:45<00:30,  5.17it/s, Energy=-2.1058166+0.0000000j ± 0.0000013 [σ²=0.0000000]]"
     ]
    },
    {
     "name": "stdout",
     "output_type": "stream",
     "text": [
      "--->> cal O and jac  0.027682781219482422\n",
      "compute_update  0.029691696166992188\n",
      "(0.05194952683292444+0j)\n",
      "n_discard =  144\n",
      "discard samples 0.0738215446472168\n",
      "n_samples_node =  1000\n",
      "generate_samples :  0.07298874855041504\n",
      "     prepare getting local values 0.0029036998748779297\n",
      "     obtained local values 0.009155750274658203\n",
      "get_mc_stats 0.012235879898071289\n",
      "--->> cal O and jac  0.03765392303466797"
     ]
    },
    {
     "name": "stderr",
     "output_type": "stream",
     "text": [
      " 84%|████████▍ | 841/1000 [02:45<00:31,  5.12it/s, Energy=-2.1058185+0.0000000j ± 0.0000013 [σ²=0.0000000]]"
     ]
    },
    {
     "name": "stdout",
     "output_type": "stream",
     "text": [
      "\n",
      "compute_update  0.03998684883117676\n",
      "(0.0519516522554605+0j)\n",
      "n_discard =  144\n",
      "discard samples 0.0782616138458252\n",
      "n_samples_node =  1000\n",
      "generate_samples :  0.06881308555603027\n",
      "     prepare getting local values 0.0016803741455078125\n",
      "     obtained local values 0.004982948303222656\n",
      "get_mc_stats 0.0066106319427490234\n"
     ]
    },
    {
     "name": "stderr",
     "output_type": "stream",
     "text": [
      " 84%|████████▍ | 842/1000 [02:45<00:30,  5.16it/s, Energy=-2.1058180+0.0000000j ± 0.0000016 [σ²=0.0000000]]"
     ]
    },
    {
     "name": "stdout",
     "output_type": "stream",
     "text": [
      "--->> cal O and jac  0.03151726722717285\n",
      "compute_update  0.03397655487060547\n",
      "(0.05195373787865026+0j)\n",
      "n_discard =  144\n",
      "discard samples 0.0755002498626709\n",
      "n_samples_node =  1000\n",
      "generate_samples :  0.07457399368286133\n",
      "     prepare getting local values 0.003239870071411133\n",
      "     obtained local values 0.009577035903930664\n",
      "get_mc_stats 0.012921571731567383\n"
     ]
    },
    {
     "name": "stderr",
     "output_type": "stream",
     "text": [
      " 84%|████████▍ | 843/1000 [02:45<00:30,  5.08it/s, Energy=-2.1058144+0.0000000j ± 0.0000015 [σ²=0.0000000]]"
     ]
    },
    {
     "name": "stdout",
     "output_type": "stream",
     "text": [
      "--->> cal O and jac  0.03652524948120117\n",
      "compute_update  0.038509368896484375\n",
      "(0.05195580832869896+0j)\n",
      "n_discard =  144\n",
      "discard samples 0.07432436943054199\n",
      "n_samples_node =  1000\n",
      "generate_samples :  0.07469630241394043\n",
      "     prepare getting local values 0.0031785964965820312\n",
      "     obtained local values 0.006562471389770508\n",
      "get_mc_stats 0.00973653793334961\n"
     ]
    },
    {
     "name": "stderr",
     "output_type": "stream",
     "text": [
      "\r",
      " 84%|████████▍ | 843/1000 [02:46<00:30,  5.08it/s, Energy=-2.1058158+0.0000000j ± 0.0000016 [σ²=0.0000000]]"
     ]
    },
    {
     "name": "stdout",
     "output_type": "stream",
     "text": [
      "--->> cal O and jac  0.03520846366882324\n",
      "compute_update  0.037175893783569336\n"
     ]
    },
    {
     "name": "stderr",
     "output_type": "stream",
     "text": [
      "\r",
      " 84%|████████▍ | 844/1000 [02:46<00:30,  5.07it/s, Energy=-2.1058158+0.0000000j ± 0.0000016 [σ²=0.0000000]]"
     ]
    },
    {
     "name": "stdout",
     "output_type": "stream",
     "text": [
      "(0.0519578697460092+0j)\n",
      "n_discard =  144\n",
      "discard samples 0.07673954963684082\n",
      "n_samples_node =  1000\n",
      "generate_samples :  0.0660409927368164\n",
      "     prepare getting local values 0.0019626617431640625\n",
      "     obtained local values 0.005293369293212891\n",
      "get_mc_stats 0.008034944534301758\n"
     ]
    },
    {
     "name": "stderr",
     "output_type": "stream",
     "text": [
      " 84%|████████▍ | 845/1000 [02:46<00:29,  5.20it/s, Energy=-2.1058165+0.0000000j ± 0.0000016 [σ²=0.0000000]]"
     ]
    },
    {
     "name": "stdout",
     "output_type": "stream",
     "text": [
      "--->> cal O and jac  0.02572798728942871\n",
      "compute_update  0.02765035629272461\n",
      "(0.051959877079022526+0j)\n",
      "n_discard =  144\n",
      "discard samples 0.07185006141662598\n",
      "n_samples_node =  1000\n",
      "generate_samples :  0.06879186630249023\n",
      "     prepare getting local values 0.003548145294189453\n",
      "     obtained local values 0.009567499160766602\n",
      "get_mc_stats 0.012143373489379883\n"
     ]
    },
    {
     "name": "stderr",
     "output_type": "stream",
     "text": [
      " 85%|████████▍ | 846/1000 [02:46<00:29,  5.22it/s, Energy=-2.1058172+0.0000000j ± 0.0000015 [σ²=0.0000000]]"
     ]
    },
    {
     "name": "stdout",
     "output_type": "stream",
     "text": [
      "--->> cal O and jac  0.03311753273010254\n",
      "compute_update  0.03502082824707031\n",
      "(0.05196183084591505+0j)\n",
      "n_discard =  144\n",
      "discard samples 0.07343411445617676\n",
      "n_samples_node =  1000\n",
      "generate_samples :  0.07063794136047363\n",
      "     prepare getting local values 0.0036401748657226562\n",
      "     obtained local values 0.008906126022338867\n",
      "get_mc_stats 0.012387275695800781\n"
     ]
    },
    {
     "name": "stderr",
     "output_type": "stream",
     "text": [
      " 85%|████████▍ | 847/1000 [02:46<00:29,  5.17it/s, Energy=-2.1058200+0.0000000j ± 0.0000012 [σ²=0.0000000]]"
     ]
    },
    {
     "name": "stdout",
     "output_type": "stream",
     "text": [
      "--->> cal O and jac  0.0366663932800293\n",
      "compute_update  0.03891563415527344\n",
      "(0.0519637956689362+0j)\n",
      "n_discard =  144\n",
      "discard samples 0.07847881317138672\n",
      "n_samples_node =  1000\n",
      "generate_samples :  0.07363390922546387\n",
      "     prepare getting local values 0.002737283706665039\n",
      "     obtained local values 0.009005069732666016\n",
      "get_mc_stats 0.012211322784423828\n",
      "--->> cal O and jac  0.030303239822387695\n"
     ]
    },
    {
     "name": "stderr",
     "output_type": "stream",
     "text": [
      " 85%|████████▍ | 848/1000 [02:46<00:29,  5.13it/s, Energy=-2.1058180+0.0000000j ± 0.0000014 [σ²=0.0000000]]"
     ]
    },
    {
     "name": "stdout",
     "output_type": "stream",
     "text": [
      "compute_update  0.03299427032470703\n",
      "(0.051965764583274926+0j)\n",
      "n_discard =  144\n",
      "discard samples 0.07269573211669922\n",
      "n_samples_node =  1000\n",
      "generate_samples :  0.06778907775878906\n",
      "     prepare getting local values 0.0018014907836914062\n",
      "     obtained local values 0.005047321319580078\n",
      "get_mc_stats 0.008543729782104492\n"
     ]
    },
    {
     "name": "stderr",
     "output_type": "stream",
     "text": [
      " 85%|████████▍ | 849/1000 [02:47<00:28,  5.23it/s, Energy=-2.1058173+0.0000000j ± 0.0000019 [σ²=0.0000000]]"
     ]
    },
    {
     "name": "stdout",
     "output_type": "stream",
     "text": [
      "--->> cal O and jac  0.029731035232543945\n",
      "compute_update  0.03167128562927246\n",
      "(0.05196772559263467+0j)\n",
      "n_discard =  144\n",
      "discard samples 0.07142972946166992\n",
      "n_samples_node =  1000\n",
      "generate_samples :  0.07094693183898926\n",
      "     prepare getting local values 0.0035750865936279297\n",
      "     obtained local values 0.008044004440307617\n",
      "get_mc_stats 0.011255264282226562\n"
     ]
    },
    {
     "name": "stderr",
     "output_type": "stream",
     "text": [
      " 85%|████████▌ | 850/1000 [02:47<00:28,  5.26it/s, Energy=-2.1058173+0.0000000j ± 0.0000020 [σ²=0.0000000]]"
     ]
    },
    {
     "name": "stdout",
     "output_type": "stream",
     "text": [
      "--->> cal O and jac  0.029970407485961914\n",
      "compute_update  0.03178691864013672\n",
      "(0.05196963713152983+0j)\n",
      "n_discard =  144\n",
      "discard samples 0.07346487045288086\n",
      "n_samples_node =  1000\n",
      "generate_samples :  0.06954264640808105\n",
      "     prepare getting local values 0.003549337387084961\n",
      "     obtained local values 0.010416507720947266\n",
      "get_mc_stats 0.013687372207641602\n"
     ]
    },
    {
     "name": "stderr",
     "output_type": "stream",
     "text": [
      " 85%|████████▌ | 851/1000 [02:47<00:28,  5.21it/s, Energy=-2.1058168+0.0000000j ± 0.0000016 [σ²=0.0000000]]"
     ]
    },
    {
     "name": "stdout",
     "output_type": "stream",
     "text": [
      "--->> cal O and jac  0.033780813217163086\n",
      "compute_update  0.036655426025390625\n",
      "(0.05197156935831112+0j)\n",
      "n_discard =  144\n",
      "discard samples 0.06970715522766113\n",
      "n_samples_node =  1000\n",
      "generate_samples :  0.06813430786132812\n",
      "     prepare getting local values 0.0033216476440429688\n",
      "     obtained local values 0.006627082824707031\n",
      "get_mc_stats 0.009778976440429688\n"
     ]
    },
    {
     "name": "stderr",
     "output_type": "stream",
     "text": [
      " 85%|████████▌ | 852/1000 [02:47<00:27,  5.31it/s, Energy=-2.1058193+0.0000000j ± 0.0000016 [σ²=0.0000000]]"
     ]
    },
    {
     "name": "stdout",
     "output_type": "stream",
     "text": [
      "--->> cal O and jac  0.028804302215576172\n",
      "compute_update  0.03086709976196289\n",
      "(0.05197342987835615+0j)\n",
      "n_discard =  144\n",
      "discard samples 0.06705737113952637\n",
      "n_samples_node =  1000\n",
      "generate_samples :  0.07664823532104492\n",
      "     prepare getting local values 0.0030629634857177734\n",
      "     obtained local values 0.009202957153320312\n",
      "get_mc_stats 0.012637138366699219\n"
     ]
    },
    {
     "name": "stderr",
     "output_type": "stream",
     "text": [
      "\r",
      " 85%|████████▌ | 852/1000 [02:47<00:27,  5.31it/s, Energy=-2.1058178+0.0000000j ± 0.0000020 [σ²=0.0000000]]"
     ]
    },
    {
     "name": "stdout",
     "output_type": "stream",
     "text": [
      "--->> cal O and jac  0.037546396255493164\n",
      "compute_update  0.03934431076049805\n"
     ]
    },
    {
     "name": "stderr",
     "output_type": "stream",
     "text": [
      "\r",
      " 85%|████████▌ | 853/1000 [02:47<00:28,  5.23it/s, Energy=-2.1058178+0.0000000j ± 0.0000020 [σ²=0.0000000]]"
     ]
    },
    {
     "name": "stdout",
     "output_type": "stream",
     "text": [
      "(0.05197526596529681+0j)\n",
      "n_discard =  144\n",
      "discard samples 0.07021069526672363\n",
      "n_samples_node =  1000\n",
      "generate_samples :  0.06719589233398438\n",
      "     prepare getting local values 0.0035886764526367188\n",
      "     obtained local values 0.00977468490600586\n",
      "get_mc_stats 0.013154745101928711\n"
     ]
    },
    {
     "name": "stderr",
     "output_type": "stream",
     "text": [
      " 85%|████████▌ | 854/1000 [02:48<00:28,  5.19it/s, Energy=-2.1058185+0.0000000j ± 0.0000018 [σ²=0.0000000]]"
     ]
    },
    {
     "name": "stdout",
     "output_type": "stream",
     "text": [
      "--->> cal O and jac  0.03966236114501953\n",
      "compute_update  0.042668819427490234\n",
      "(0.051977033865215426+0j)\n",
      "n_discard =  144\n",
      "discard samples 0.07771587371826172\n",
      "n_samples_node =  1000\n",
      "generate_samples :  0.07368087768554688\n",
      "     prepare getting local values 0.003526449203491211\n",
      "     obtained local values 0.009269237518310547\n",
      "get_mc_stats 0.011739253997802734\n"
     ]
    },
    {
     "name": "stderr",
     "output_type": "stream",
     "text": [
      " 86%|████████▌ | 855/1000 [02:48<00:28,  5.17it/s, Energy=-2.1058181+0.0000000j ± 0.0000017 [σ²=0.0000000]]"
     ]
    },
    {
     "name": "stdout",
     "output_type": "stream",
     "text": [
      "--->> cal O and jac  0.028616905212402344\n",
      "compute_update  0.030621051788330078\n",
      "(0.05197880296359365+0j)\n",
      "n_discard =  144\n",
      "discard samples 0.0722510814666748\n",
      "n_samples_node =  1000\n",
      "generate_samples :  0.07152724266052246\n",
      "     prepare getting local values 0.003556489944458008\n",
      "     obtained local values 0.009114503860473633\n",
      "get_mc_stats 0.012135505676269531\n"
     ]
    },
    {
     "name": "stderr",
     "output_type": "stream",
     "text": [
      " 86%|████████▌ | 856/1000 [02:48<00:27,  5.15it/s, Energy=-2.1058121+0.0000000j ± 0.0000014 [σ²=0.0000000]]"
     ]
    },
    {
     "name": "stdout",
     "output_type": "stream",
     "text": [
      "--->> cal O and jac  0.035167694091796875\n",
      "compute_update  0.03725314140319824\n",
      "(0.05198046958025001+0j)\n",
      "n_discard =  144\n",
      "discard samples 0.0731346607208252\n",
      "n_samples_node =  1000\n",
      "generate_samples :  0.07136368751525879\n",
      "     prepare getting local values 0.0035245418548583984\n",
      "     obtained local values 0.009249687194824219\n",
      "get_mc_stats 0.012012958526611328\n"
     ]
    },
    {
     "name": "stderr",
     "output_type": "stream",
     "text": [
      " 86%|████████▌ | 857/1000 [02:48<00:27,  5.16it/s, Energy=-2.1058158+0.0000000j ± 0.0000017 [σ²=0.0000000]]"
     ]
    },
    {
     "name": "stdout",
     "output_type": "stream",
     "text": [
      "--->> cal O and jac  0.03204345703125\n",
      "compute_update  0.03440999984741211\n",
      "(0.05198215569673081+0j)\n",
      "n_discard =  144\n",
      "discard samples 0.07608675956726074\n",
      "n_samples_node =  1000\n",
      "generate_samples :  0.06945252418518066\n",
      "     prepare getting local values 0.004801273345947266\n",
      "     obtained local values 0.00823664665222168\n",
      "get_mc_stats 0.012099981307983398\n"
     ]
    },
    {
     "name": "stderr",
     "output_type": "stream",
     "text": [
      " 86%|████████▌ | 858/1000 [02:48<00:27,  5.18it/s, Energy=-2.1058172+0.0000000j ± 0.0000018 [σ²=0.0000000]]"
     ]
    },
    {
     "name": "stdout",
     "output_type": "stream",
     "text": [
      "--->> cal O and jac  0.029143333435058594\n",
      "compute_update  0.03145456314086914\n",
      "(0.051983805879935494+0j)\n",
      "n_discard =  144\n",
      "discard samples 0.07449460029602051\n",
      "n_samples_node =  1000\n",
      "generate_samples :  0.07711601257324219\n",
      "     prepare getting local values 0.0038449764251708984\n",
      "     obtained local values 0.009641408920288086\n",
      "get_mc_stats 0.01234579086303711\n"
     ]
    },
    {
     "name": "stderr",
     "output_type": "stream",
     "text": [
      " 86%|████████▌ | 859/1000 [02:49<00:27,  5.10it/s, Energy=-2.1058160+0.0000000j ± 0.0000015 [σ²=0.0000000]]"
     ]
    },
    {
     "name": "stdout",
     "output_type": "stream",
     "text": [
      "--->> cal O and jac  0.03456711769104004\n",
      "compute_update  0.03649449348449707\n",
      "(0.051985385088204494+0j)\n",
      "n_discard =  144\n",
      "discard samples 0.07834792137145996\n",
      "n_samples_node =  1000\n",
      "generate_samples :  0.07107019424438477\n",
      "     prepare getting local values 0.003322124481201172\n",
      "     obtained local values 0.00948333740234375\n",
      "get_mc_stats 0.012824058532714844\n"
     ]
    },
    {
     "name": "stderr",
     "output_type": "stream",
     "text": [
      " 86%|████████▌ | 860/1000 [02:49<00:27,  5.06it/s, Energy=-2.1058140+0.0000000j ± 0.0000017 [σ²=0.0000000]]"
     ]
    },
    {
     "name": "stdout",
     "output_type": "stream",
     "text": [
      "--->> cal O and jac  0.03466081619262695\n",
      "compute_update  0.03677225112915039\n",
      "(0.05198693280822362+0j)\n",
      "n_discard =  144\n",
      "discard samples 0.07489681243896484\n",
      "n_samples_node =  1000\n",
      "generate_samples :  0.06900501251220703\n",
      "     prepare getting local values 0.003534555435180664\n",
      "     obtained local values 0.007031679153442383\n",
      "get_mc_stats 0.010206937789916992\n"
     ]
    },
    {
     "name": "stderr",
     "output_type": "stream",
     "text": [
      " 86%|████████▌ | 861/1000 [02:49<00:27,  5.11it/s, Energy=-2.1058175+0.0000000j ± 0.0000016 [σ²=0.0000000]]"
     ]
    },
    {
     "name": "stdout",
     "output_type": "stream",
     "text": [
      "--->> cal O and jac  0.031488656997680664\n",
      "compute_update  0.034702301025390625\n",
      "(0.051988475737102094+0j)\n",
      "n_discard =  144\n",
      "discard samples 0.07964825630187988\n",
      "n_samples_node =  1000\n",
      "generate_samples :  0.06828713417053223\n",
      "     prepare getting local values 0.0027322769165039062\n",
      "     obtained local values 0.00899505615234375\n",
      "get_mc_stats 0.01112222671508789\n"
     ]
    },
    {
     "name": "stderr",
     "output_type": "stream",
     "text": [
      " 86%|████████▌ | 862/1000 [02:49<00:26,  5.13it/s, Energy=-2.1058161+0.0000000j ± 0.0000018 [σ²=0.0000000]]"
     ]
    },
    {
     "name": "stdout",
     "output_type": "stream",
     "text": [
      "--->> cal O and jac  0.026685714721679688\n",
      "compute_update  0.03050971031188965\n",
      "(0.05198994398749563+0j)\n",
      "n_discard =  144\n",
      "discard samples 0.07629609107971191\n",
      "n_samples_node =  1000\n",
      "generate_samples :  0.06618690490722656\n",
      "     prepare getting local values 0.002347707748413086\n",
      "     obtained local values 0.0060350894927978516\n",
      "get_mc_stats 0.008254528045654297\n"
     ]
    },
    {
     "name": "stderr",
     "output_type": "stream",
     "text": [
      " 86%|████████▋ | 863/1000 [02:49<00:26,  5.21it/s, Energy=-2.1058190+0.0000000j ± 0.0000020 [σ²=0.0000000]]"
     ]
    },
    {
     "name": "stdout",
     "output_type": "stream",
     "text": [
      "--->> cal O and jac  0.02984786033630371\n",
      "compute_update  0.032067298889160156\n",
      "(0.051991381358503994+0j)\n",
      "n_discard =  144\n",
      "discard samples 0.07579660415649414\n",
      "n_samples_node =  1000\n",
      "generate_samples :  0.07091069221496582\n",
      "     prepare getting local values 0.004019737243652344\n",
      "     obtained local values 0.0078125\n",
      "get_mc_stats 0.01206827163696289\n",
      "--->> cal O and jac  0.037474632263183594\n"
     ]
    },
    {
     "name": "stderr",
     "output_type": "stream",
     "text": [
      " 86%|████████▋ | 864/1000 [02:50<00:26,  5.14it/s, Energy=-2.1058200+0.0000000j ± 0.0000015 [σ²=0.0000000]]"
     ]
    },
    {
     "name": "stdout",
     "output_type": "stream",
     "text": [
      "compute_update  0.04013538360595703\n",
      "(0.05199283836021242+0j)\n",
      "n_discard =  144\n",
      "discard samples 0.08002710342407227\n",
      "n_samples_node =  1000\n",
      "generate_samples :  0.07008767127990723\n",
      "     prepare getting local values 0.00275421142578125\n",
      "     obtained local values 0.008944988250732422\n",
      "get_mc_stats 0.011863470077514648\n",
      "--->> cal O and jac  0.03151273727416992\n",
      "compute_update  0.03374052047729492\n"
     ]
    },
    {
     "name": "stderr",
     "output_type": "stream",
     "text": [
      " 86%|████████▋ | 865/1000 [02:50<00:26,  5.11it/s, Energy=-2.1058169+0.0000000j ± 0.0000019 [σ²=0.0000000]]"
     ]
    },
    {
     "name": "stdout",
     "output_type": "stream",
     "text": [
      "(0.05199418640187492+0j)\n",
      "n_discard =  144\n",
      "discard samples 0.07393932342529297\n",
      "n_samples_node =  1000\n",
      "generate_samples :  0.07178664207458496\n",
      "     prepare getting local values 0.003587007522583008\n",
      "     obtained local values 0.010408163070678711\n",
      "get_mc_stats 0.013514518737792969\n",
      "--->> cal O and jac  0.036466360092163086\n"
     ]
    },
    {
     "name": "stderr",
     "output_type": "stream",
     "text": [
      "\r",
      " 86%|████████▋ | 865/1000 [02:50<00:26,  5.11it/s, Energy=-2.1058188+0.0000000j ± 0.0000019 [σ²=0.0000000]]"
     ]
    },
    {
     "name": "stdout",
     "output_type": "stream",
     "text": [
      "compute_update  0.04102730751037598\n"
     ]
    },
    {
     "name": "stderr",
     "output_type": "stream",
     "text": [
      "\r",
      " 87%|████████▋ | 866/1000 [02:50<00:26,  5.06it/s, Energy=-2.1058188+0.0000000j ± 0.0000019 [σ²=0.0000000]]"
     ]
    },
    {
     "name": "stdout",
     "output_type": "stream",
     "text": [
      "(0.051995472651300896+0j)\n",
      "n_discard =  144\n",
      "discard samples 0.07367444038391113\n",
      "n_samples_node =  1000\n",
      "generate_samples :  0.06799483299255371\n",
      "     prepare getting local values 0.0019207000732421875\n",
      "     obtained local values 0.005509853363037109\n",
      "get_mc_stats 0.0074732303619384766\n"
     ]
    },
    {
     "name": "stderr",
     "output_type": "stream",
     "text": [
      " 87%|████████▋ | 867/1000 [02:50<00:25,  5.16it/s, Energy=-2.1058156+0.0000000j ± 0.0000017 [σ²=0.0000000]]"
     ]
    },
    {
     "name": "stdout",
     "output_type": "stream",
     "text": [
      "--->> cal O and jac  0.029117584228515625\n",
      "compute_update  0.03248119354248047\n",
      "(0.051996727467215974+0j)\n",
      "n_discard =  144\n",
      "discard samples 0.08288335800170898\n",
      "n_samples_node =  1000\n",
      "generate_samples :  0.07424378395080566\n",
      "     prepare getting local values 0.0024566650390625\n",
      "     obtained local values 0.006051778793334961\n",
      "get_mc_stats 0.00896596908569336\n"
     ]
    },
    {
     "name": "stderr",
     "output_type": "stream",
     "text": [
      " 87%|████████▋ | 868/1000 [02:50<00:25,  5.09it/s, Energy=-2.1058152+0.0000000j ± 0.0000016 [σ²=0.0000000]]"
     ]
    },
    {
     "name": "stdout",
     "output_type": "stream",
     "text": [
      "--->> cal O and jac  0.030530214309692383\n",
      "compute_update  0.034420013427734375\n",
      "(0.05199794127723024+0j)\n",
      "n_discard =  144\n",
      "discard samples 0.0798041820526123\n",
      "n_samples_node =  1000\n",
      "generate_samples :  0.0751655101776123\n",
      "     prepare getting local values 0.0037467479705810547\n",
      "     obtained local values 0.011006832122802734\n",
      "get_mc_stats 0.014351367950439453\n"
     ]
    },
    {
     "name": "stderr",
     "output_type": "stream",
     "text": [
      " 87%|████████▋ | 869/1000 [02:51<00:26,  5.01it/s, Energy=-2.1058197+0.0000000j ± 0.0000019 [σ²=0.0000000]]"
     ]
    },
    {
     "name": "stdout",
     "output_type": "stream",
     "text": [
      "--->> cal O and jac  0.03320026397705078\n",
      "compute_update  0.035146474838256836\n",
      "(0.05199909497381199+0j)\n",
      "n_discard =  144\n",
      "discard samples 0.07367181777954102\n",
      "n_samples_node =  1000\n",
      "generate_samples :  0.07187819480895996\n",
      "     prepare getting local values 0.0033469200134277344\n",
      "     obtained local values 0.009184122085571289\n",
      "get_mc_stats 0.012271642684936523\n",
      "--->> cal O and jac  0.03594684600830078\n"
     ]
    },
    {
     "name": "stderr",
     "output_type": "stream",
     "text": [
      " 87%|████████▋ | 870/1000 [02:51<00:25,  5.01it/s, Energy=-2.1058173+0.0000000j ± 0.0000020 [σ²=0.0000000]]"
     ]
    },
    {
     "name": "stdout",
     "output_type": "stream",
     "text": [
      "compute_update  0.040132761001586914\n",
      "(0.05200026159851447+0j)\n",
      "n_discard =  144\n",
      "discard samples 0.07538580894470215\n",
      "n_samples_node =  1000\n",
      "generate_samples :  0.07282447814941406\n",
      "     prepare getting local values 0.003922700881958008\n",
      "     obtained local values 0.007871627807617188\n",
      "get_mc_stats 0.011130571365356445\n",
      "--->> cal O and jac  0.032706499099731445\n"
     ]
    },
    {
     "name": "stderr",
     "output_type": "stream",
     "text": [
      " 87%|████████▋ | 871/1000 [02:51<00:25,  5.02it/s, Energy=-2.1058190+0.0000000j ± 0.0000022 [σ²=0.0000000]]"
     ]
    },
    {
     "name": "stdout",
     "output_type": "stream",
     "text": [
      "compute_update  0.03708291053771973\n",
      "(0.05200131434377537+0j)\n",
      "n_discard =  144\n",
      "discard samples 0.07627701759338379\n",
      "n_samples_node =  1000\n",
      "generate_samples :  0.07581162452697754\n",
      "     prepare getting local values 0.001766204833984375\n",
      "     obtained local values 0.005426645278930664\n",
      "get_mc_stats 0.007419109344482422\n"
     ]
    },
    {
     "name": "stderr",
     "output_type": "stream",
     "text": [
      " 87%|████████▋ | 872/1000 [02:51<00:25,  5.07it/s, Energy=-2.1058155+0.0000000j ± 0.0000016 [σ²=0.0000000]]"
     ]
    },
    {
     "name": "stdout",
     "output_type": "stream",
     "text": [
      "--->> cal O and jac  0.029465913772583008\n",
      "compute_update  0.031594038009643555\n",
      "(0.05200239283811831+0j)\n",
      "n_discard =  144\n",
      "discard samples 0.07174444198608398\n",
      "n_samples_node =  1000\n",
      "generate_samples :  0.07515621185302734\n",
      "     prepare getting local values 0.003229856491088867\n",
      "     obtained local values 0.010102272033691406\n",
      "get_mc_stats 0.013127326965332031\n"
     ]
    },
    {
     "name": "stderr",
     "output_type": "stream",
     "text": [
      " 87%|████████▋ | 873/1000 [02:51<00:25,  4.99it/s, Energy=-2.1058194+0.0000000j ± 0.0000017 [σ²=0.0000000]]"
     ]
    },
    {
     "name": "stdout",
     "output_type": "stream",
     "text": [
      "--->> cal O and jac  0.04192519187927246\n",
      "compute_update  0.04532194137573242\n",
      "(0.052003328771120794+0j)\n",
      "n_discard =  144\n",
      "discard samples 0.0762338638305664\n",
      "n_samples_node =  1000\n",
      "generate_samples :  0.07239770889282227\n",
      "     prepare getting local values 0.0017223358154296875\n",
      "     obtained local values 0.005584716796875\n",
      "get_mc_stats 0.0075299739837646484\n"
     ]
    },
    {
     "name": "stderr",
     "output_type": "stream",
     "text": [
      " 87%|████████▋ | 874/1000 [02:52<00:24,  5.07it/s, Energy=-2.1058146+0.0000000j ± 0.0000018 [σ²=0.0000000]]"
     ]
    },
    {
     "name": "stdout",
     "output_type": "stream",
     "text": [
      "--->> cal O and jac  0.02758955955505371\n",
      "compute_update  0.031368255615234375\n",
      "(0.05200421017282848+0j)\n",
      "n_discard =  144\n",
      "discard samples 0.07923054695129395\n",
      "n_samples_node =  1000\n",
      "generate_samples :  0.06496310234069824\n",
      "     prepare getting local values 0.0016748905181884766\n",
      "     obtained local values 0.0049285888671875\n",
      "get_mc_stats 0.0067102909088134766\n"
     ]
    },
    {
     "name": "stderr",
     "output_type": "stream",
     "text": [
      " 88%|████████▊ | 875/1000 [02:52<00:24,  5.16it/s, Energy=-2.1058162+0.0000000j ± 0.0000022 [σ²=0.0000000]]"
     ]
    },
    {
     "name": "stdout",
     "output_type": "stream",
     "text": [
      "--->> cal O and jac  0.03063654899597168\n",
      "compute_update  0.03282523155212402\n",
      "(0.052005052648469934+0j)\n",
      "n_discard =  144\n",
      "discard samples 0.07771420478820801\n",
      "n_samples_node =  1000\n",
      "generate_samples :  0.06954646110534668\n",
      "     prepare getting local values 0.0017199516296386719\n",
      "     obtained local values 0.004971981048583984\n",
      "get_mc_stats 0.0071010589599609375\n"
     ]
    },
    {
     "name": "stderr",
     "output_type": "stream",
     "text": [
      " 88%|████████▊ | 876/1000 [02:52<00:23,  5.20it/s, Energy=-2.1058159+0.0000000j ± 0.0000014 [σ²=0.0000000]]"
     ]
    },
    {
     "name": "stdout",
     "output_type": "stream",
     "text": [
      "--->> cal O and jac  0.03115987777709961\n",
      "compute_update  0.03322744369506836\n",
      "(0.05200586480556049+0j)\n",
      "n_discard =  144\n",
      "discard samples 0.0776510238647461\n",
      "n_samples_node =  1000\n",
      "generate_samples :  0.06943917274475098\n",
      "     prepare getting local values 0.0016870498657226562\n",
      "     obtained local values 0.004979372024536133\n",
      "get_mc_stats 0.006880760192871094\n"
     ]
    },
    {
     "name": "stderr",
     "output_type": "stream",
     "text": [
      " 88%|████████▊ | 877/1000 [02:52<00:23,  5.21it/s, Energy=-2.1058179+0.0000000j ± 0.0000017 [σ²=0.0000000]]"
     ]
    },
    {
     "name": "stdout",
     "output_type": "stream",
     "text": [
      "--->> cal O and jac  0.033329010009765625\n",
      "compute_update  0.035452842712402344\n",
      "(0.05200668008117714+0j)\n",
      "n_discard =  144\n",
      "discard samples 0.07412219047546387\n",
      "n_samples_node =  1000\n",
      "generate_samples :  0.06817865371704102\n",
      "     prepare getting local values 0.0017821788787841797\n",
      "     obtained local values 0.008555173873901367\n",
      "get_mc_stats 0.010682344436645508\n"
     ]
    },
    {
     "name": "stderr",
     "output_type": "stream",
     "text": [
      " 88%|████████▊ | 878/1000 [02:52<00:23,  5.21it/s, Energy=-2.1058147+0.0000000j ± 0.0000018 [σ²=0.0000000]]"
     ]
    },
    {
     "name": "stdout",
     "output_type": "stream",
     "text": [
      "--->> cal O and jac  0.03531908988952637\n",
      "compute_update  0.037317752838134766\n",
      "(0.05200747352749707+0j)\n",
      "n_discard =  144\n",
      "discard samples 0.07260704040527344\n",
      "n_samples_node =  1000\n",
      "generate_samples :  0.06176280975341797\n",
      "     prepare getting local values 0.002553701400756836\n",
      "     obtained local values 0.005967378616333008\n",
      "get_mc_stats 0.009019136428833008\n"
     ]
    },
    {
     "name": "stderr",
     "output_type": "stream",
     "text": [
      " 88%|████████▊ | 879/1000 [02:52<00:22,  5.32it/s, Energy=-2.1058155+0.0000000j ± 0.0000019 [σ²=0.0000000]]"
     ]
    },
    {
     "name": "stdout",
     "output_type": "stream",
     "text": [
      "--->> cal O and jac  0.02903580665588379\n",
      "compute_update  0.03289294242858887\n",
      "(0.052008139303575646+0j)\n",
      "n_discard =  144\n",
      "discard samples 0.0819082260131836\n",
      "n_samples_node =  1000\n",
      "generate_samples :  0.06890177726745605\n",
      "     prepare getting local values 0.0028624534606933594\n",
      "     obtained local values 0.008778572082519531\n",
      "get_mc_stats 0.01149129867553711\n",
      "--->> cal O and jac  0.032302141189575195\n"
     ]
    },
    {
     "name": "stderr",
     "output_type": "stream",
     "text": [
      " 88%|████████▊ | 880/1000 [02:53<00:22,  5.23it/s, Energy=-2.1058157+0.0000000j ± 0.0000020 [σ²=0.0000000]]"
     ]
    },
    {
     "name": "stdout",
     "output_type": "stream",
     "text": [
      "compute_update  0.03486490249633789\n",
      "(0.05200883591948506+0j)\n",
      "n_discard =  144\n",
      "discard samples 0.07842183113098145\n",
      "n_samples_node =  1000\n",
      "generate_samples :  0.07317757606506348\n",
      "     prepare getting local values 0.003763437271118164\n",
      "     obtained local values 0.00844120979309082\n",
      "get_mc_stats 0.012064456939697266\n"
     ]
    },
    {
     "name": "stderr",
     "output_type": "stream",
     "text": [
      " 88%|████████▊ | 881/1000 [02:53<00:23,  5.12it/s, Energy=-2.1058189+0.0000000j ± 0.0000019 [σ²=0.0000000]]"
     ]
    },
    {
     "name": "stdout",
     "output_type": "stream",
     "text": [
      "--->> cal O and jac  0.03630995750427246\n",
      "compute_update  0.03860902786254883\n",
      "(0.05200951939558933+0j)\n",
      "n_discard =  144\n",
      "discard samples 0.07215118408203125\n",
      "n_samples_node =  1000\n",
      "generate_samples :  0.07345104217529297\n",
      "     prepare getting local values 0.0033721923828125\n",
      "     obtained local values 0.009363412857055664\n",
      "get_mc_stats 0.012457609176635742\n"
     ]
    },
    {
     "name": "stderr",
     "output_type": "stream",
     "text": [
      "\r",
      " 88%|████████▊ | 881/1000 [02:53<00:23,  5.12it/s, Energy=-2.1058181+0.0000000j ± 0.0000018 [σ²=0.0000000]]"
     ]
    },
    {
     "name": "stdout",
     "output_type": "stream",
     "text": [
      "--->> cal O and jac  0.03539872169494629\n",
      "compute_update  0.037344932556152344\n"
     ]
    },
    {
     "name": "stderr",
     "output_type": "stream",
     "text": [
      "\r",
      " 88%|████████▊ | 882/1000 [02:53<00:23,  5.10it/s, Energy=-2.1058181+0.0000000j ± 0.0000018 [σ²=0.0000000]]"
     ]
    },
    {
     "name": "stdout",
     "output_type": "stream",
     "text": [
      "(0.05201008581626621+0j)\n",
      "n_discard =  144\n",
      "discard samples 0.07780170440673828\n",
      "n_samples_node =  1000\n",
      "generate_samples :  0.06545352935791016\n",
      "     prepare getting local values 0.001739501953125\n",
      "     obtained local values 0.005086660385131836\n",
      "get_mc_stats 0.0077855587005615234\n"
     ]
    },
    {
     "name": "stderr",
     "output_type": "stream",
     "text": [
      " 88%|████████▊ | 883/1000 [02:53<00:22,  5.14it/s, Energy=-2.1058187+0.0000000j ± 0.0000017 [σ²=0.0000000]]"
     ]
    },
    {
     "name": "stdout",
     "output_type": "stream",
     "text": [
      "--->> cal O and jac  0.03702807426452637\n",
      "compute_update  0.03905177116394043\n",
      "(0.05201070326443924+0j)\n",
      "n_discard =  144\n",
      "discard samples 0.07901644706726074\n",
      "n_samples_node =  1000\n",
      "generate_samples :  0.0702962875366211\n",
      "     prepare getting local values 0.0033249855041503906\n",
      "     obtained local values 0.009584665298461914\n",
      "get_mc_stats 0.013444662094116211\n"
     ]
    },
    {
     "name": "stderr",
     "output_type": "stream",
     "text": [
      " 88%|████████▊ | 884/1000 [02:53<00:22,  5.08it/s, Energy=-2.1058182+0.0000000j ± 0.0000015 [σ²=0.0000000]]"
     ]
    },
    {
     "name": "stdout",
     "output_type": "stream",
     "text": [
      "--->> cal O and jac  0.03453850746154785\n",
      "compute_update  0.036882877349853516\n",
      "(0.052011194114110114+0j)\n",
      "n_discard =  144\n",
      "discard samples 0.07644104957580566\n",
      "n_samples_node =  1000\n",
      "generate_samples :  0.07315731048583984\n",
      "     prepare getting local values 0.0037238597869873047\n",
      "     obtained local values 0.007193565368652344\n",
      "get_mc_stats 0.01124262809753418\n"
     ]
    },
    {
     "name": "stderr",
     "output_type": "stream",
     "text": [
      " 88%|████████▊ | 885/1000 [02:54<00:22,  5.12it/s, Energy=-2.1058186+0.0000000j ± 0.0000017 [σ²=0.0000000]]"
     ]
    },
    {
     "name": "stdout",
     "output_type": "stream",
     "text": [
      "--->> cal O and jac  0.027973651885986328\n",
      "compute_update  0.030008554458618164\n",
      "(0.05201170948774244+0j)\n",
      "n_discard =  144\n",
      "discard samples 0.06732749938964844\n",
      "n_samples_node =  1000\n",
      "generate_samples :  0.06839179992675781\n",
      "     prepare getting local values 0.003536701202392578\n",
      "     obtained local values 0.009165287017822266\n",
      "get_mc_stats 0.012120485305786133\n"
     ]
    },
    {
     "name": "stderr",
     "output_type": "stream",
     "text": [
      " 89%|████████▊ | 886/1000 [02:54<00:21,  5.21it/s, Energy=-2.1058181+0.0000000j ± 0.0000014 [σ²=0.0000000]]"
     ]
    },
    {
     "name": "stdout",
     "output_type": "stream",
     "text": [
      "--->> cal O and jac  0.02942943572998047\n",
      "compute_update  0.03303050994873047\n",
      "(0.05201217974240266+0j)\n",
      "n_discard =  144\n",
      "discard samples 0.0786890983581543\n",
      "n_samples_node =  1000\n",
      "generate_samples :  0.06977105140686035\n",
      "     prepare getting local values 0.0035321712493896484\n",
      "     obtained local values 0.009494304656982422\n",
      "get_mc_stats 0.012259483337402344\n",
      "--->> cal O and jac  0.033338308334350586\n"
     ]
    },
    {
     "name": "stderr",
     "output_type": "stream",
     "text": [
      " 89%|████████▊ | 887/1000 [02:54<00:21,  5.16it/s, Energy=-2.1058156+0.0000000j ± 0.0000019 [σ²=0.0000000]]"
     ]
    },
    {
     "name": "stdout",
     "output_type": "stream",
     "text": [
      "compute_update  0.03630232810974121\n",
      "(0.052012545881996386+0j)\n",
      "n_discard =  144\n",
      "discard samples 0.07246613502502441\n",
      "n_samples_node =  1000\n",
      "generate_samples :  0.07185864448547363\n",
      "     prepare getting local values 0.003081083297729492\n",
      "     obtained local values 0.009477615356445312\n",
      "get_mc_stats 0.012012481689453125\n"
     ]
    },
    {
     "name": "stderr",
     "output_type": "stream",
     "text": [
      " 89%|████████▉ | 888/1000 [02:54<00:21,  5.15it/s, Energy=-2.1058174+0.0000000j ± 0.0000018 [σ²=0.0000000]]"
     ]
    },
    {
     "name": "stdout",
     "output_type": "stream",
     "text": [
      "--->> cal O and jac  0.03294491767883301\n",
      "compute_update  0.03658032417297363\n",
      "(0.0520129127625279+0j)\n",
      "n_discard =  144\n",
      "discard samples 0.08929252624511719\n",
      "n_samples_node =  1000\n",
      "generate_samples :  0.07092475891113281\n",
      "     prepare getting local values 0.0031669139862060547\n",
      "     obtained local values 0.00951528549194336\n",
      "get_mc_stats 0.012846946716308594\n"
     ]
    },
    {
     "name": "stderr",
     "output_type": "stream",
     "text": [
      " 89%|████████▉ | 889/1000 [02:54<00:22,  5.02it/s, Energy=-2.1058183+0.0000000j ± 0.0000013 [σ²=0.0000000]]"
     ]
    },
    {
     "name": "stdout",
     "output_type": "stream",
     "text": [
      "--->> cal O and jac  0.031224489212036133\n",
      "compute_update  0.03500676155090332\n",
      "(0.05201326801321208+0j)\n",
      "n_discard =  144\n",
      "discard samples 0.08206820487976074\n",
      "n_samples_node =  1000\n",
      "generate_samples :  0.06479740142822266\n",
      "     prepare getting local values 0.0017559528350830078\n",
      "     obtained local values 0.005481719970703125\n",
      "get_mc_stats 0.007534503936767578\n"
     ]
    },
    {
     "name": "stderr",
     "output_type": "stream",
     "text": [
      " 89%|████████▉ | 890/1000 [02:55<00:21,  5.10it/s, Energy=-2.1058197+0.0000000j ± 0.0000019 [σ²=0.0000000]]"
     ]
    },
    {
     "name": "stdout",
     "output_type": "stream",
     "text": [
      "--->> cal O and jac  0.02926015853881836\n",
      "compute_update  0.031382083892822266\n",
      "(0.052013551317059675+0j)\n",
      "n_discard =  144\n",
      "discard samples 0.07352900505065918\n",
      "n_samples_node =  1000\n",
      "generate_samples :  0.07086968421936035\n",
      "     prepare getting local values 0.0035588741302490234\n",
      "     obtained local values 0.008839130401611328\n",
      "get_mc_stats 0.012134075164794922\n"
     ]
    },
    {
     "name": "stderr",
     "output_type": "stream",
     "text": [
      " 89%|████████▉ | 891/1000 [02:55<00:21,  5.15it/s, Energy=-2.1058183+0.0000000j ± 0.0000018 [σ²=0.0000000]]"
     ]
    },
    {
     "name": "stdout",
     "output_type": "stream",
     "text": [
      "--->> cal O and jac  0.029965639114379883\n",
      "compute_update  0.031946659088134766\n",
      "(0.052013826167610286+0j)\n",
      "n_discard =  144\n",
      "discard samples 0.07591772079467773\n",
      "n_samples_node =  1000\n",
      "generate_samples :  0.07056713104248047\n",
      "     prepare getting local values 0.0016808509826660156\n",
      "     obtained local values 0.0049915313720703125\n",
      "get_mc_stats 0.006947040557861328\n"
     ]
    },
    {
     "name": "stderr",
     "output_type": "stream",
     "text": [
      " 89%|████████▉ | 892/1000 [02:55<00:20,  5.17it/s, Energy=-2.1058142+0.0000000j ± 0.0000016 [σ²=0.0000000]]"
     ]
    },
    {
     "name": "stdout",
     "output_type": "stream",
     "text": [
      "--->> cal O and jac  0.03296923637390137\n",
      "compute_update  0.036069631576538086\n",
      "(0.052014122992423875+0j)\n",
      "n_discard =  144\n",
      "discard samples 0.07349419593811035\n",
      "n_samples_node =  1000\n",
      "generate_samples :  0.07104969024658203\n",
      "     prepare getting local values 0.0030908584594726562\n",
      "     obtained local values 0.007781505584716797\n",
      "get_mc_stats 0.010719060897827148\n"
     ]
    },
    {
     "name": "stderr",
     "output_type": "stream",
     "text": [
      " 89%|████████▉ | 893/1000 [02:55<00:20,  5.18it/s, Energy=-2.1058207+0.0000000j ± 0.0000017 [σ²=0.0000000]]"
     ]
    },
    {
     "name": "stdout",
     "output_type": "stream",
     "text": [
      "--->> cal O and jac  0.03191423416137695\n",
      "compute_update  0.03551888465881348\n",
      "(0.05201437127340726+0j)\n",
      "n_discard =  144\n",
      "discard samples 0.08108901977539062\n",
      "n_samples_node =  1000\n",
      "generate_samples :  0.075103759765625\n",
      "     prepare getting local values 0.003556489944458008\n",
      "     obtained local values 0.010213851928710938\n",
      "get_mc_stats 0.012927055358886719\n"
     ]
    },
    {
     "name": "stderr",
     "output_type": "stream",
     "text": [
      " 89%|████████▉ | 894/1000 [02:55<00:20,  5.05it/s, Energy=-2.1058208+0.0000000j ± 0.0000018 [σ²=0.0000000]]"
     ]
    },
    {
     "name": "stdout",
     "output_type": "stream",
     "text": [
      "--->> cal O and jac  0.03645753860473633\n",
      "compute_update  0.03882932662963867\n",
      "(0.05201456795011609+0j)\n",
      "n_discard =  144\n",
      "discard samples 0.07412028312683105\n",
      "n_samples_node =  1000\n",
      "generate_samples :  0.07469391822814941\n",
      "     prepare getting local values 0.0035429000854492188\n",
      "     obtained local values 0.008699417114257812\n",
      "get_mc_stats 0.011835575103759766\n"
     ]
    },
    {
     "name": "stderr",
     "output_type": "stream",
     "text": [
      " 90%|████████▉ | 895/1000 [02:56<00:20,  5.06it/s, Energy=-2.1058188+0.0000000j ± 0.0000020 [σ²=0.0000000]]"
     ]
    },
    {
     "name": "stdout",
     "output_type": "stream",
     "text": [
      "--->> cal O and jac  0.0318455696105957\n",
      "compute_update  0.034189701080322266\n",
      "(0.05201478220937725+0j)\n",
      "n_discard =  144\n",
      "discard samples 0.07541966438293457\n",
      "n_samples_node =  1000\n",
      "generate_samples :  0.06835126876831055\n",
      "     prepare getting local values 0.003537893295288086\n",
      "     obtained local values 0.007327556610107422\n",
      "get_mc_stats 0.010051250457763672\n"
     ]
    },
    {
     "name": "stderr",
     "output_type": "stream",
     "text": [
      " 90%|████████▉ | 896/1000 [02:56<00:20,  5.14it/s, Energy=-2.1058190+0.0000000j ± 0.0000019 [σ²=0.0000000]]"
     ]
    },
    {
     "name": "stdout",
     "output_type": "stream",
     "text": [
      "--->> cal O and jac  0.02923750877380371\n",
      "compute_update  0.03222060203552246\n",
      "(0.05201496796403284+0j)\n",
      "n_discard =  144\n",
      "discard samples 0.07365036010742188\n",
      "n_samples_node =  1000\n",
      "generate_samples :  0.0688164234161377\n",
      "     prepare getting local values 0.003545999526977539\n",
      "     obtained local values 0.009733915328979492\n",
      "get_mc_stats 0.012536287307739258\n"
     ]
    },
    {
     "name": "stderr",
     "output_type": "stream",
     "text": [
      "\r",
      " 90%|████████▉ | 896/1000 [02:56<00:20,  5.14it/s, Energy=-2.1058163+0.0000000j ± 0.0000015 [σ²=0.0000000]]"
     ]
    },
    {
     "name": "stdout",
     "output_type": "stream",
     "text": [
      "--->> cal O and jac  0.03681635856628418\n",
      "compute_update  0.03997206687927246\n"
     ]
    },
    {
     "name": "stderr",
     "output_type": "stream",
     "text": [
      "\r",
      " 90%|████████▉ | 897/1000 [02:56<00:20,  5.11it/s, Energy=-2.1058163+0.0000000j ± 0.0000015 [σ²=0.0000000]]"
     ]
    },
    {
     "name": "stdout",
     "output_type": "stream",
     "text": [
      "(0.05201511317138379+0j)\n",
      "n_discard =  144\n",
      "discard samples 0.07374024391174316\n",
      "n_samples_node =  1000\n",
      "generate_samples :  0.06850576400756836\n",
      "     prepare getting local values 0.0016522407531738281\n",
      "     obtained local values 0.005002260208129883\n",
      "get_mc_stats 0.006648063659667969\n"
     ]
    },
    {
     "name": "stderr",
     "output_type": "stream",
     "text": [
      " 90%|████████▉ | 898/1000 [02:56<00:19,  5.14it/s, Energy=-2.1058163+0.0000000j ± 0.0000018 [σ²=0.0000000]]"
     ]
    },
    {
     "name": "stdout",
     "output_type": "stream",
     "text": [
      "--->> cal O and jac  0.03772616386413574\n",
      "compute_update  0.04107356071472168\n",
      "(0.05201528087118755+0j)\n",
      "n_discard =  144\n",
      "discard samples 0.07390594482421875\n",
      "n_samples_node =  1000\n",
      "generate_samples :  0.06970047950744629\n",
      "     prepare getting local values 0.0031423568725585938\n",
      "     obtained local values 0.009282350540161133\n",
      "get_mc_stats 0.012721061706542969\n"
     ]
    },
    {
     "name": "stderr",
     "output_type": "stream",
     "text": [
      " 90%|████████▉ | 899/1000 [02:56<00:19,  5.17it/s, Energy=-2.1058175+0.0000000j ± 0.0000020 [σ²=0.0000000]]"
     ]
    },
    {
     "name": "stdout",
     "output_type": "stream",
     "text": [
      "--->> cal O and jac  0.02852630615234375\n",
      "compute_update  0.030948638916015625\n",
      "(0.0520153975172805+0j)\n",
      "n_discard =  144\n",
      "discard samples 0.0768270492553711\n",
      "n_samples_node =  1000\n",
      "generate_samples :  0.06961846351623535\n",
      "     prepare getting local values 0.0035202503204345703\n",
      "     obtained local values 0.010329008102416992\n",
      "get_mc_stats 0.013949871063232422\n"
     ]
    },
    {
     "name": "stderr",
     "output_type": "stream",
     "text": [
      " 90%|█████████ | 900/1000 [02:57<00:19,  5.09it/s, Energy=-2.1058189+0.0000000j ± 0.0000016 [σ²=0.0000000]]"
     ]
    },
    {
     "name": "stdout",
     "output_type": "stream",
     "text": [
      "--->> cal O and jac  0.03828072547912598\n",
      "compute_update  0.041574954986572266\n",
      "(0.05201553096418707+0j)\n",
      "n_discard =  144\n",
      "discard samples 0.0771484375\n",
      "n_samples_node =  1000\n",
      "generate_samples :  0.06648540496826172\n",
      "     prepare getting local values 0.0019137859344482422\n",
      "     obtained local values 0.005350351333618164\n",
      "get_mc_stats 0.007246971130371094\n"
     ]
    },
    {
     "name": "stderr",
     "output_type": "stream",
     "text": [
      " 90%|█████████ | 901/1000 [02:57<00:19,  5.14it/s, Energy=-2.1058150+0.0000000j ± 0.0000019 [σ²=0.0000000]]"
     ]
    },
    {
     "name": "stdout",
     "output_type": "stream",
     "text": [
      "--->> cal O and jac  0.03361225128173828\n",
      "compute_update  0.036664485931396484\n",
      "(0.052015668181113695+0j)\n",
      "n_discard =  144\n",
      "discard samples 0.07640409469604492\n",
      "n_samples_node =  1000\n",
      "generate_samples :  0.07280492782592773\n",
      "     prepare getting local values 0.0035028457641601562\n",
      "     obtained local values 0.009315967559814453\n",
      "get_mc_stats 0.01235508918762207\n"
     ]
    },
    {
     "name": "stderr",
     "output_type": "stream",
     "text": [
      " 90%|█████████ | 902/1000 [02:57<00:19,  5.08it/s, Energy=-2.1058182+0.0000000j ± 0.0000015 [σ²=0.0000000]]"
     ]
    },
    {
     "name": "stdout",
     "output_type": "stream",
     "text": [
      "--->> cal O and jac  0.03615307807922363\n",
      "compute_update  0.038358211517333984\n",
      "(0.0520158022759321+0j)\n",
      "n_discard =  144\n",
      "discard samples 0.07289266586303711\n",
      "n_samples_node =  1000\n",
      "generate_samples :  0.06908035278320312\n",
      "     prepare getting local values 0.003522634506225586\n",
      "     obtained local values 0.010247468948364258\n",
      "get_mc_stats 0.013575315475463867\n"
     ]
    },
    {
     "name": "stderr",
     "output_type": "stream",
     "text": [
      " 90%|█████████ | 903/1000 [02:57<00:19,  5.09it/s, Energy=-2.1058185+0.0000000j ± 0.0000022 [σ²=0.0000000]]"
     ]
    },
    {
     "name": "stdout",
     "output_type": "stream",
     "text": [
      "--->> cal O and jac  0.034759521484375\n",
      "compute_update  0.038117170333862305\n",
      "(0.05201591109205057+0j)\n",
      "n_discard =  144\n",
      "discard samples 0.07885909080505371\n",
      "n_samples_node =  1000\n",
      "generate_samples :  0.07277917861938477\n",
      "     prepare getting local values 0.0033559799194335938\n",
      "     obtained local values 0.00969696044921875\n",
      "get_mc_stats 0.01246953010559082\n"
     ]
    },
    {
     "name": "stderr",
     "output_type": "stream",
     "text": [
      " 90%|█████████ | 904/1000 [02:57<00:19,  5.04it/s, Energy=-2.1058180+0.0000000j ± 0.0000018 [σ²=0.0000000]]"
     ]
    },
    {
     "name": "stdout",
     "output_type": "stream",
     "text": [
      "--->> cal O and jac  0.03475809097290039\n",
      "compute_update  0.036744117736816406\n",
      "(0.05201598936946864+0j)\n",
      "n_discard =  144\n",
      "discard samples 0.0761113166809082\n",
      "n_samples_node =  1000\n",
      "generate_samples :  0.07683467864990234\n",
      "     prepare getting local values 0.0037102699279785156\n",
      "     obtained local values 0.009344100952148438\n",
      "get_mc_stats 0.012261152267456055\n"
     ]
    },
    {
     "name": "stderr",
     "output_type": "stream",
     "text": [
      " 90%|█████████ | 905/1000 [02:58<00:19,  4.98it/s, Energy=-2.1058190+0.0000000j ± 0.0000015 [σ²=0.0000000]]"
     ]
    },
    {
     "name": "stdout",
     "output_type": "stream",
     "text": [
      "--->> cal O and jac  0.03588128089904785\n",
      "compute_update  0.03871560096740723\n",
      "(0.05201604716166666+0j)\n",
      "n_discard =  144\n",
      "discard samples 0.08251595497131348\n",
      "n_samples_node =  1000\n",
      "generate_samples :  0.07136750221252441\n",
      "     prepare getting local values 0.0031414031982421875\n",
      "     obtained local values 0.009701251983642578\n",
      "get_mc_stats 0.013275861740112305\n"
     ]
    },
    {
     "name": "stderr",
     "output_type": "stream",
     "text": [
      " 91%|█████████ | 906/1000 [02:58<00:19,  4.89it/s, Energy=-2.1058158+0.0000000j ± 0.0000015 [σ²=0.0000000]]"
     ]
    },
    {
     "name": "stdout",
     "output_type": "stream",
     "text": [
      "--->> cal O and jac  0.04030346870422363\n",
      "compute_update  0.043437957763671875\n",
      "(0.05201609707758581+0j)\n",
      "n_discard =  144\n",
      "discard samples 0.07712888717651367\n",
      "n_samples_node =  1000\n",
      "generate_samples :  0.06865739822387695\n",
      "     prepare getting local values 0.0039403438568115234\n",
      "     obtained local values 0.007400989532470703\n",
      "get_mc_stats 0.010425806045532227\n"
     ]
    },
    {
     "name": "stderr",
     "output_type": "stream",
     "text": [
      " 91%|█████████ | 907/1000 [02:58<00:18,  4.96it/s, Energy=-2.1058156+0.0000000j ± 0.0000013 [σ²=0.0000000]]"
     ]
    },
    {
     "name": "stdout",
     "output_type": "stream",
     "text": [
      "--->> cal O and jac  0.03415346145629883\n",
      "compute_update  0.037430763244628906\n",
      "(0.0520161197260069+0j)\n",
      "n_discard =  144\n",
      "discard samples 0.0738375186920166\n",
      "n_samples_node =  1000\n",
      "generate_samples :  0.0667119026184082\n",
      "     prepare getting local values 0.0024955272674560547\n",
      "     obtained local values 0.005930662155151367\n",
      "get_mc_stats 0.009174823760986328\n"
     ]
    },
    {
     "name": "stderr",
     "output_type": "stream",
     "text": [
      " 91%|█████████ | 908/1000 [02:58<00:18,  5.02it/s, Energy=-2.1058173+0.0000000j ± 0.0000017 [σ²=0.0000000]]"
     ]
    },
    {
     "name": "stdout",
     "output_type": "stream",
     "text": [
      "--->> cal O and jac  0.037213802337646484\n",
      "compute_update  0.041146039962768555\n",
      "(0.05201610789677259+0j)\n",
      "n_discard =  144\n",
      "discard samples 0.07686519622802734\n",
      "n_samples_node =  1000\n",
      "generate_samples :  0.07169723510742188\n",
      "     prepare getting local values 0.0036134719848632812\n",
      "     obtained local values 0.009586095809936523\n",
      "get_mc_stats 0.012579202651977539\n",
      "--->> cal O and jac  0.032973527908325195\n"
     ]
    },
    {
     "name": "stderr",
     "output_type": "stream",
     "text": [
      " 91%|█████████ | 909/1000 [02:58<00:18,  5.02it/s, Energy=-2.1058154+0.0000000j ± 0.0000017 [σ²=0.0000000]]"
     ]
    },
    {
     "name": "stdout",
     "output_type": "stream",
     "text": [
      "compute_update  0.03601837158203125\n",
      "(0.05201606806584469+0j)\n",
      "n_discard =  144\n",
      "discard samples 0.07429289817810059\n",
      "n_samples_node =  1000\n",
      "generate_samples :  0.07265615463256836\n",
      "     prepare getting local values 0.00407719612121582\n",
      "     obtained local values 0.009618520736694336\n",
      "get_mc_stats 0.01141357421875\n",
      "--->> cal O and jac  0.036565303802490234\n",
      "compute_update  0.039673566818237305\n"
     ]
    },
    {
     "name": "stderr",
     "output_type": "stream",
     "text": [
      " 91%|█████████ | 910/1000 [02:59<00:17,  5.01it/s, Energy=-2.1058182+0.0000000j ± 0.0000014 [σ²=0.0000000]]"
     ]
    },
    {
     "name": "stdout",
     "output_type": "stream",
     "text": [
      "(0.052016072966252484+0j)\n",
      "n_discard =  144\n",
      "discard samples 0.07682466506958008\n",
      "n_samples_node =  1000\n",
      "generate_samples :  0.07307982444763184\n",
      "     prepare getting local values 0.0032110214233398438\n",
      "     obtained local values 0.008723258972167969\n",
      "get_mc_stats 0.011517524719238281\n",
      "--->> cal O and jac  0.03312182426452637\n"
     ]
    },
    {
     "name": "stderr",
     "output_type": "stream",
     "text": [
      " 91%|█████████ | 911/1000 [02:59<00:17,  5.02it/s, Energy=-2.1058167+0.0000000j ± 0.0000016 [σ²=0.0000000]]"
     ]
    },
    {
     "name": "stdout",
     "output_type": "stream",
     "text": [
      "compute_update  0.03579998016357422\n",
      "(0.05201605749928396+0j)\n",
      "n_discard =  144\n",
      "discard samples 0.07287812232971191\n",
      "n_samples_node =  1000\n",
      "generate_samples :  0.07065725326538086\n",
      "     prepare getting local values 0.0029888153076171875\n",
      "     obtained local values 0.009095430374145508\n",
      "get_mc_stats 0.01215982437133789\n"
     ]
    },
    {
     "name": "stderr",
     "output_type": "stream",
     "text": [
      " 91%|█████████ | 912/1000 [02:59<00:17,  5.10it/s, Energy=-2.1058154+0.0000000j ± 0.0000015 [σ²=0.0000000]]"
     ]
    },
    {
     "name": "stdout",
     "output_type": "stream",
     "text": [
      "--->> cal O and jac  0.028672456741333008\n",
      "compute_update  0.03069758415222168\n",
      "(0.05201600245190095+0j)\n",
      "n_discard =  144\n",
      "discard samples 0.07468509674072266\n",
      "n_samples_node =  1000\n",
      "generate_samples :  0.06782960891723633\n",
      "     prepare getting local values 0.0034804344177246094\n",
      "     obtained local values 0.009041070938110352\n",
      "get_mc_stats 0.012142658233642578\n"
     ]
    },
    {
     "name": "stderr",
     "output_type": "stream",
     "text": [
      " 91%|█████████▏| 913/1000 [02:59<00:16,  5.17it/s, Energy=-2.1058191+0.0000000j ± 0.0000019 [σ²=0.0000000]]"
     ]
    },
    {
     "name": "stdout",
     "output_type": "stream",
     "text": [
      "--->> cal O and jac  0.028862714767456055\n",
      "compute_update  0.03086996078491211\n",
      "(0.05201590785645479+0j)\n",
      "n_discard =  144\n",
      "discard samples 0.07106733322143555\n",
      "n_samples_node =  1000\n",
      "generate_samples :  0.07363748550415039\n",
      "     prepare getting local values 0.0028514862060546875\n",
      "     obtained local values 0.006287813186645508\n",
      "get_mc_stats 0.009609222412109375\n"
     ]
    },
    {
     "name": "stderr",
     "output_type": "stream",
     "text": [
      " 91%|█████████▏| 914/1000 [02:59<00:16,  5.15it/s, Energy=-2.1058180+0.0000000j ± 0.0000015 [σ²=0.0000000]]"
     ]
    },
    {
     "name": "stdout",
     "output_type": "stream",
     "text": [
      "--->> cal O and jac  0.03604531288146973\n",
      "compute_update  0.039452314376831055\n",
      "(0.05201585770939519+0j)\n",
      "n_discard =  144\n",
      "discard samples 0.07818818092346191\n",
      "n_samples_node =  1000\n",
      "generate_samples :  0.07322382926940918\n",
      "     prepare getting local values 0.0016624927520751953\n",
      "     obtained local values 0.0052907466888427734\n",
      "get_mc_stats 0.0068206787109375\n"
     ]
    },
    {
     "name": "stderr",
     "output_type": "stream",
     "text": [
      " 92%|█████████▏| 915/1000 [03:00<00:16,  5.18it/s, Energy=-2.1058171+0.0000000j ± 0.0000015 [σ²=0.0000000]]"
     ]
    },
    {
     "name": "stdout",
     "output_type": "stream",
     "text": [
      "--->> cal O and jac  0.028154850006103516\n",
      "compute_update  0.03041529655456543\n",
      "(0.05201579520427319+0j)\n",
      "n_discard =  144\n",
      "discard samples 0.07832169532775879\n",
      "n_samples_node =  1000\n",
      "generate_samples :  0.07320213317871094\n",
      "     prepare getting local values 0.0017697811126708984\n",
      "     obtained local values 0.005254983901977539\n",
      "get_mc_stats 0.007318973541259766\n"
     ]
    },
    {
     "name": "stderr",
     "output_type": "stream",
     "text": [
      " 92%|█████████▏| 916/1000 [03:00<00:16,  5.15it/s, Energy=-2.1058198+0.0000000j ± 0.0000018 [σ²=0.0000000]]"
     ]
    },
    {
     "name": "stdout",
     "output_type": "stream",
     "text": [
      "--->> cal O and jac  0.032907724380493164\n",
      "compute_update  0.035302162170410156\n",
      "(0.05201571575830122+0j)\n",
      "n_discard =  144\n",
      "discard samples 0.07387828826904297\n",
      "n_samples_node =  1000\n",
      "generate_samples :  0.06688785552978516\n",
      "     prepare getting local values 0.003102540969848633\n",
      "     obtained local values 0.008172988891601562\n",
      "get_mc_stats 0.011046648025512695\n"
     ]
    },
    {
     "name": "stderr",
     "output_type": "stream",
     "text": [
      " 92%|█████████▏| 917/1000 [03:00<00:16,  5.18it/s, Energy=-2.1058176+0.0000000j ± 0.0000015 [σ²=0.0000000]]"
     ]
    },
    {
     "name": "stdout",
     "output_type": "stream",
     "text": [
      "--->> cal O and jac  0.03314208984375\n",
      "compute_update  0.03609633445739746\n",
      "(0.05201564360588464+0j)\n",
      "n_discard =  144\n",
      "discard samples 0.07654786109924316\n",
      "n_samples_node =  1000\n",
      "generate_samples :  0.07178401947021484\n",
      "     prepare getting local values 0.00414586067199707\n",
      "     obtained local values 0.007628202438354492\n",
      "get_mc_stats 0.010967731475830078\n",
      "--->> cal O and jac  0.03453660011291504\n"
     ]
    },
    {
     "name": "stderr",
     "output_type": "stream",
     "text": [
      " 92%|█████████▏| 918/1000 [03:00<00:15,  5.14it/s, Energy=-2.1058152+0.0000000j ± 0.0000018 [σ²=0.0000000]]"
     ]
    },
    {
     "name": "stdout",
     "output_type": "stream",
     "text": [
      "compute_update  0.03751492500305176\n",
      "(0.05201553636799326+0j)\n",
      "n_discard =  144\n",
      "discard samples 0.08074021339416504\n",
      "n_samples_node =  1000\n",
      "generate_samples :  0.07067394256591797\n",
      "     prepare getting local values 0.0030906200408935547\n",
      "     obtained local values 0.00719141960144043\n",
      "get_mc_stats 0.009931564331054688\n"
     ]
    },
    {
     "name": "stderr",
     "output_type": "stream",
     "text": [
      " 92%|█████████▏| 919/1000 [03:00<00:15,  5.13it/s, Energy=-2.1058156+0.0000000j ± 0.0000017 [σ²=0.0000000]]"
     ]
    },
    {
     "name": "stdout",
     "output_type": "stream",
     "text": [
      "--->> cal O and jac  0.0306396484375\n",
      "compute_update  0.0327000617980957\n",
      "(0.05201543061779159+0j)\n",
      "n_discard =  144\n",
      "discard samples 0.07572245597839355\n",
      "n_samples_node =  1000\n",
      "generate_samples :  0.06545376777648926\n",
      "     prepare getting local values 0.002843618392944336\n",
      "     obtained local values 0.009041547775268555\n",
      "get_mc_stats 0.012216329574584961\n"
     ]
    },
    {
     "name": "stderr",
     "output_type": "stream",
     "text": [
      " 92%|█████████▏| 920/1000 [03:01<00:15,  5.16it/s, Energy=-2.1058157+0.0000000j ± 0.0000014 [σ²=0.0000000]]"
     ]
    },
    {
     "name": "stdout",
     "output_type": "stream",
     "text": [
      "--->> cal O and jac  0.03226780891418457\n",
      "compute_update  0.0355832576751709\n",
      "(0.05201533065290334+0j)\n",
      "n_discard =  144\n",
      "discard samples 0.07747340202331543\n",
      "n_samples_node =  1000\n",
      "generate_samples :  0.0744621753692627\n",
      "     prepare getting local values 0.0016493797302246094\n",
      "     obtained local values 0.004961252212524414\n",
      "get_mc_stats 0.006900310516357422\n",
      "--->> cal O and jac  0.03312063217163086\n",
      "compute_update  0.03658771514892578\n"
     ]
    },
    {
     "name": "stderr",
     "output_type": "stream",
     "text": [
      " 92%|█████████▏| 921/1000 [03:01<00:15,  5.13it/s, Energy=-2.1058169+0.0000000j ± 0.0000018 [σ²=0.0000000]]"
     ]
    },
    {
     "name": "stdout",
     "output_type": "stream",
     "text": [
      "(0.052015240231093836+0j)\n",
      "n_discard =  144\n",
      "discard samples 0.0715644359588623\n",
      "n_samples_node =  1000\n",
      "generate_samples :  0.06927633285522461\n",
      "     prepare getting local values 0.0028972625732421875\n",
      "     obtained local values 0.0065038204193115234\n",
      "get_mc_stats 0.009300947189331055\n"
     ]
    },
    {
     "name": "stderr",
     "output_type": "stream",
     "text": [
      " 92%|█████████▏| 922/1000 [03:01<00:15,  5.16it/s, Energy=-2.1058187+0.0000000j ± 0.0000020 [σ²=0.0000000]]"
     ]
    },
    {
     "name": "stdout",
     "output_type": "stream",
     "text": [
      "--->> cal O and jac  0.035019874572753906\n",
      "compute_update  0.03841996192932129\n",
      "(0.052015066753411804+0j)\n",
      "n_discard =  144\n",
      "discard samples 0.07889175415039062\n",
      "n_samples_node =  1000\n",
      "generate_samples :  0.07057523727416992\n",
      "     prepare getting local values 0.003626585006713867\n",
      "     obtained local values 0.009432315826416016\n",
      "get_mc_stats 0.012249231338500977\n"
     ]
    },
    {
     "name": "stderr",
     "output_type": "stream",
     "text": [
      " 92%|█████████▏| 923/1000 [03:01<00:15,  5.08it/s, Energy=-2.1058174+0.0000000j ± 0.0000014 [σ²=0.0000000]]"
     ]
    },
    {
     "name": "stdout",
     "output_type": "stream",
     "text": [
      "--->> cal O and jac  0.03696322441101074\n",
      "compute_update  0.03939175605773926\n",
      "(0.05201487378108087+0j)\n",
      "n_discard =  144\n",
      "discard samples 0.07856535911560059\n",
      "n_samples_node =  1000\n",
      "generate_samples :  0.07687926292419434\n",
      "     prepare getting local values 0.0036420822143554688\n",
      "     obtained local values 0.00926828384399414\n",
      "get_mc_stats 0.012451171875\n"
     ]
    },
    {
     "name": "stderr",
     "output_type": "stream",
     "text": [
      " 92%|█████████▏| 924/1000 [03:01<00:15,  5.02it/s, Energy=-2.1058185+0.0000000j ± 0.0000013 [σ²=0.0000000]]"
     ]
    },
    {
     "name": "stdout",
     "output_type": "stream",
     "text": [
      "--->> cal O and jac  0.03118610382080078\n",
      "compute_update  0.03469491004943848\n",
      "(0.05201465440079942+0j)\n",
      "n_discard =  144\n",
      "discard samples 0.07720088958740234\n",
      "n_samples_node =  1000\n",
      "generate_samples :  0.07230305671691895\n",
      "     prepare getting local values 0.00412750244140625\n",
      "     obtained local values 0.01017904281616211\n",
      "get_mc_stats 0.012979745864868164\n"
     ]
    },
    {
     "name": "stderr",
     "output_type": "stream",
     "text": [
      " 92%|█████████▎| 925/1000 [03:02<00:14,  5.01it/s, Energy=-2.1058163+0.0000000j ± 0.0000015 [σ²=0.0000000]]"
     ]
    },
    {
     "name": "stdout",
     "output_type": "stream",
     "text": [
      "--->> cal O and jac  0.03225207328796387\n",
      "compute_update  0.035497426986694336\n",
      "(0.05201441963503672+0j)\n",
      "n_discard =  144\n",
      "discard samples 0.07646918296813965\n",
      "n_samples_node =  1000\n",
      "generate_samples :  0.07929277420043945\n",
      "     prepare getting local values 0.004025697708129883\n",
      "     obtained local values 0.011328458786010742\n",
      "get_mc_stats 0.014875650405883789\n"
     ]
    },
    {
     "name": "stderr",
     "output_type": "stream",
     "text": [
      " 93%|█████████▎| 926/1000 [03:02<00:15,  4.91it/s, Energy=-2.1058178+0.0000000j ± 0.0000013 [σ²=0.0000000]]"
     ]
    },
    {
     "name": "stdout",
     "output_type": "stream",
     "text": [
      "--->> cal O and jac  0.03674006462097168\n",
      "compute_update  0.040754079818725586\n",
      "(0.05201423673453175+0j)\n",
      "n_discard =  144\n",
      "discard samples 0.07573103904724121\n",
      "n_samples_node =  1000\n",
      "generate_samples :  0.08011293411254883\n",
      "     prepare getting local values 0.003551483154296875\n",
      "     obtained local values 0.009711265563964844\n",
      "get_mc_stats 0.012614965438842773\n"
     ]
    },
    {
     "name": "stderr",
     "output_type": "stream",
     "text": [
      " 93%|█████████▎| 927/1000 [03:02<00:14,  4.90it/s, Energy=-2.1058157+0.0000000j ± 0.0000015 [σ²=0.0000000]]"
     ]
    },
    {
     "name": "stdout",
     "output_type": "stream",
     "text": [
      "--->> cal O and jac  0.03178143501281738\n",
      "compute_update  0.03506779670715332\n",
      "(0.052014068636963874+0j)\n",
      "n_discard =  144\n",
      "discard samples 0.07071900367736816\n",
      "n_samples_node =  1000\n",
      "generate_samples :  0.07072234153747559\n",
      "     prepare getting local values 0.0017180442810058594\n",
      "     obtained local values 0.0050737857818603516\n",
      "get_mc_stats 0.007130622863769531\n"
     ]
    },
    {
     "name": "stderr",
     "output_type": "stream",
     "text": [
      " 93%|█████████▎| 928/1000 [03:02<00:14,  4.99it/s, Energy=-2.1058166+0.0000000j ± 0.0000011 [σ²=0.0000000]]"
     ]
    },
    {
     "name": "stdout",
     "output_type": "stream",
     "text": [
      "--->> cal O and jac  0.03555464744567871\n",
      "compute_update  0.03966665267944336\n",
      "(0.05201385102047643+0j)\n",
      "n_discard =  144\n",
      "discard samples 0.07605171203613281\n",
      "n_samples_node =  1000\n",
      "generate_samples :  0.06429409980773926\n",
      "     prepare getting local values 0.0035736560821533203\n",
      "     obtained local values 0.008782625198364258\n",
      "get_mc_stats 0.012493610382080078\n"
     ]
    },
    {
     "name": "stderr",
     "output_type": "stream",
     "text": [
      " 93%|█████████▎| 929/1000 [03:02<00:14,  5.04it/s, Energy=-2.1058169+0.0000000j ± 0.0000014 [σ²=0.0000000]]"
     ]
    },
    {
     "name": "stdout",
     "output_type": "stream",
     "text": [
      "--->> cal O and jac  0.03759574890136719\n",
      "compute_update  0.03965473175048828\n",
      "(0.05201360139462821+0j)\n",
      "n_discard =  144\n",
      "discard samples 0.07769370079040527\n",
      "n_samples_node =  1000\n",
      "generate_samples :  0.0715024471282959\n",
      "     prepare getting local values 0.003554105758666992\n",
      "     obtained local values 0.009566545486450195\n",
      "get_mc_stats 0.012947559356689453\n"
     ]
    },
    {
     "name": "stderr",
     "output_type": "stream",
     "text": [
      " 93%|█████████▎| 930/1000 [03:03<00:13,  5.01it/s, Energy=-2.1058161+0.0000000j ± 0.0000011 [σ²=0.0000000]]"
     ]
    },
    {
     "name": "stdout",
     "output_type": "stream",
     "text": [
      "--->> cal O and jac  0.03647422790527344\n",
      "compute_update  0.03845787048339844\n",
      "(0.052013348987786326+0j)\n",
      "n_discard =  144\n",
      "discard samples 0.07863211631774902\n",
      "n_samples_node =  1000\n",
      "generate_samples :  0.06841802597045898\n",
      "     prepare getting local values 0.0019137859344482422\n",
      "     obtained local values 0.005417346954345703\n",
      "get_mc_stats 0.00780487060546875\n"
     ]
    },
    {
     "name": "stderr",
     "output_type": "stream",
     "text": [
      " 93%|█████████▎| 931/1000 [03:03<00:13,  5.03it/s, Energy=-2.1058198+0.0000000j ± 0.0000015 [σ²=0.0000000]]"
     ]
    },
    {
     "name": "stdout",
     "output_type": "stream",
     "text": [
      "--->> cal O and jac  0.03551959991455078\n",
      "compute_update  0.03916335105895996\n",
      "(0.052013103338084274+0j)\n",
      "n_discard =  144\n",
      "discard samples 0.07899975776672363\n",
      "n_samples_node =  1000\n",
      "generate_samples :  0.0738365650177002\n",
      "     prepare getting local values 0.004004001617431641\n",
      "     obtained local values 0.008318901062011719\n",
      "get_mc_stats 0.011326789855957031\n"
     ]
    },
    {
     "name": "stderr",
     "output_type": "stream",
     "text": [
      " 93%|█████████▎| 932/1000 [03:03<00:13,  5.01it/s, Energy=-2.1058186+0.0000000j ± 0.0000013 [σ²=0.0000000]]"
     ]
    },
    {
     "name": "stdout",
     "output_type": "stream",
     "text": [
      "--->> cal O and jac  0.03209972381591797\n",
      "compute_update  0.03457498550415039\n",
      "(0.05201278109082005+0j)\n",
      "n_discard =  144\n",
      "discard samples 0.08180928230285645\n",
      "n_samples_node =  1000\n",
      "generate_samples :  0.07224774360656738\n",
      "     prepare getting local values 0.002977132797241211\n",
      "     obtained local values 0.009717226028442383\n",
      "get_mc_stats 0.011848926544189453\n"
     ]
    },
    {
     "name": "stderr",
     "output_type": "stream",
     "text": [
      " 93%|█████████▎| 933/1000 [03:03<00:13,  5.04it/s, Energy=-2.1058166+0.0000000j ± 0.0000016 [σ²=0.0000000]]"
     ]
    },
    {
     "name": "stdout",
     "output_type": "stream",
     "text": [
      "--->> cal O and jac  0.026964187622070312\n",
      "compute_update  0.028977394104003906\n",
      "(0.05201244853164737+0j)\n",
      "n_discard =  144\n",
      "discard samples 0.08331489562988281\n",
      "n_samples_node =  1000\n",
      "generate_samples :  0.07196044921875\n",
      "     prepare getting local values 0.0041332244873046875\n",
      "     obtained local values 0.00815892219543457\n",
      "get_mc_stats 0.011508464813232422\n",
      "--->> cal O and jac  0.02871084213256836\n"
     ]
    },
    {
     "name": "stderr",
     "output_type": "stream",
     "text": [
      " 93%|█████████▎| 934/1000 [03:03<00:13,  5.02it/s, Energy=-2.1058195+0.0000000j ± 0.0000014 [σ²=0.0000000]]"
     ]
    },
    {
     "name": "stdout",
     "output_type": "stream",
     "text": [
      "compute_update  0.03151893615722656\n",
      "(0.05201208030626795+0j)\n",
      "n_discard =  144\n",
      "discard samples 0.07630562782287598\n",
      "n_samples_node =  1000\n",
      "generate_samples :  0.0685880184173584\n",
      "     prepare getting local values 0.0017638206481933594\n",
      "     obtained local values 0.00527191162109375\n",
      "get_mc_stats 0.007467508316040039\n"
     ]
    },
    {
     "name": "stderr",
     "output_type": "stream",
     "text": [
      " 94%|█████████▎| 935/1000 [03:03<00:12,  5.10it/s, Energy=-2.1058141+0.0000000j ± 0.0000015 [σ²=0.0000000]]"
     ]
    },
    {
     "name": "stdout",
     "output_type": "stream",
     "text": [
      "--->> cal O and jac  0.03221487998962402\n",
      "compute_update  0.03448486328125\n",
      "(0.05201175514616518+0j)\n",
      "n_discard =  144\n",
      "discard samples 0.08039617538452148\n",
      "n_samples_node =  1000\n",
      "generate_samples :  0.07273054122924805\n",
      "     prepare getting local values 0.0038535594940185547\n",
      "     obtained local values 0.008820295333862305\n",
      "get_mc_stats 0.012041568756103516\n",
      "--->> cal O and jac  0.030571937561035156\n"
     ]
    },
    {
     "name": "stderr",
     "output_type": "stream",
     "text": [
      " 94%|█████████▎| 936/1000 [03:04<00:12,  5.06it/s, Energy=-2.1058175+0.0000000j ± 0.0000017 [σ²=0.0000000]]"
     ]
    },
    {
     "name": "stdout",
     "output_type": "stream",
     "text": [
      "compute_update  0.03437948226928711\n",
      "(0.05201141787345277+0j)\n",
      "n_discard =  144\n",
      "discard samples 0.08109712600708008\n",
      "n_samples_node =  1000\n",
      "generate_samples :  0.06609797477722168\n",
      "     prepare getting local values 0.0017511844635009766\n",
      "     obtained local values 0.005201578140258789\n",
      "get_mc_stats 0.008398771286010742\n"
     ]
    },
    {
     "name": "stderr",
     "output_type": "stream",
     "text": [
      " 94%|█████████▎| 937/1000 [03:04<00:12,  5.13it/s, Energy=-2.1058189+0.0000000j ± 0.0000015 [σ²=0.0000000]]"
     ]
    },
    {
     "name": "stdout",
     "output_type": "stream",
     "text": [
      "--->> cal O and jac  0.02783036231994629\n",
      "compute_update  0.030985116958618164\n",
      "(0.052011070713344064+0j)\n",
      "n_discard =  144\n",
      "discard samples 0.08473038673400879\n",
      "n_samples_node =  1000\n",
      "generate_samples :  0.07373881340026855\n",
      "     prepare getting local values 0.0018634796142578125\n",
      "     obtained local values 0.006524801254272461\n",
      "get_mc_stats 0.009037256240844727\n"
     ]
    },
    {
     "name": "stderr",
     "output_type": "stream",
     "text": [
      " 94%|█████████▍| 938/1000 [03:04<00:12,  5.02it/s, Energy=-2.1058151+0.0000000j ± 0.0000016 [σ²=0.0000000]]"
     ]
    },
    {
     "name": "stdout",
     "output_type": "stream",
     "text": [
      "--->> cal O and jac  0.03685808181762695\n",
      "compute_update  0.03903651237487793\n",
      "(0.052010803538195816+0j)\n",
      "n_discard =  144\n",
      "discard samples 0.07941770553588867\n",
      "n_samples_node =  1000\n",
      "generate_samples :  0.07377099990844727\n",
      "     prepare getting local values 0.0020034313201904297\n",
      "     obtained local values 0.005360126495361328\n",
      "get_mc_stats 0.007390737533569336\n"
     ]
    },
    {
     "name": "stderr",
     "output_type": "stream",
     "text": [
      "\r",
      " 94%|█████████▍| 938/1000 [03:04<00:12,  5.02it/s, Energy=-2.1058180+0.0000000j ± 0.0000017 [σ²=0.0000000]]"
     ]
    },
    {
     "name": "stdout",
     "output_type": "stream",
     "text": [
      "--->> cal O and jac  0.032980918884277344\n",
      "compute_update  0.03654170036315918\n"
     ]
    },
    {
     "name": "stderr",
     "output_type": "stream",
     "text": [
      "\r",
      " 94%|█████████▍| 939/1000 [03:04<00:12,  5.03it/s, Energy=-2.1058180+0.0000000j ± 0.0000017 [σ²=0.0000000]]"
     ]
    },
    {
     "name": "stdout",
     "output_type": "stream",
     "text": [
      "(0.052010418391186954+0j)\n",
      "n_discard =  144\n",
      "discard samples 0.08148527145385742\n",
      "n_samples_node =  1000\n",
      "generate_samples :  0.07346916198730469\n",
      "     prepare getting local values 0.003984689712524414\n",
      "     obtained local values 0.01246500015258789\n",
      "get_mc_stats 0.015219688415527344\n"
     ]
    },
    {
     "name": "stderr",
     "output_type": "stream",
     "text": [
      " 94%|█████████▍| 940/1000 [03:05<00:12,  4.91it/s, Energy=-2.1058167+0.0000000j ± 0.0000015 [σ²=0.0000000]]"
     ]
    },
    {
     "name": "stdout",
     "output_type": "stream",
     "text": [
      "--->> cal O and jac  0.03944587707519531\n",
      "compute_update  0.0419771671295166\n",
      "(0.05201006089745368+0j)\n",
      "n_discard =  144\n",
      "discard samples 0.07387685775756836\n",
      "n_samples_node =  1000\n",
      "generate_samples :  0.07147598266601562\n",
      "     prepare getting local values 0.003055095672607422\n",
      "     obtained local values 0.00855875015258789\n",
      "get_mc_stats 0.011290550231933594\n"
     ]
    },
    {
     "name": "stderr",
     "output_type": "stream",
     "text": [
      " 94%|█████████▍| 941/1000 [03:05<00:11,  4.97it/s, Energy=-2.1058159+0.0000000j ± 0.0000014 [σ²=0.0000000]]"
     ]
    },
    {
     "name": "stdout",
     "output_type": "stream",
     "text": [
      "--->> cal O and jac  0.03521084785461426\n",
      "compute_update  0.03746771812438965\n",
      "(0.05200969016146284+0j)\n",
      "n_discard =  144\n",
      "discard samples 0.07477807998657227\n",
      "n_samples_node =  1000\n",
      "generate_samples :  0.06708955764770508\n",
      "     prepare getting local values 0.002910137176513672\n",
      "     obtained local values 0.00611567497253418\n",
      "get_mc_stats 0.009207010269165039\n"
     ]
    },
    {
     "name": "stderr",
     "output_type": "stream",
     "text": [
      " 94%|█████████▍| 942/1000 [03:05<00:11,  5.04it/s, Energy=-2.1058171+0.0000000j ± 0.0000015 [σ²=0.0000000]]"
     ]
    },
    {
     "name": "stdout",
     "output_type": "stream",
     "text": [
      "--->> cal O and jac  0.034040212631225586\n",
      "compute_update  0.038134098052978516\n",
      "(0.05200935341010886+0j)\n",
      "n_discard =  144\n",
      "discard samples 0.0792698860168457\n",
      "n_samples_node =  1000\n",
      "generate_samples :  0.07282876968383789\n",
      "     prepare getting local values 0.0035753250122070312\n",
      "     obtained local values 0.01027226448059082\n",
      "get_mc_stats 0.01238870620727539\n"
     ]
    },
    {
     "name": "stderr",
     "output_type": "stream",
     "text": [
      " 94%|█████████▍| 943/1000 [03:05<00:11,  4.98it/s, Energy=-2.1058189+0.0000000j ± 0.0000014 [σ²=0.0000000]]"
     ]
    },
    {
     "name": "stdout",
     "output_type": "stream",
     "text": [
      "--->> cal O and jac  0.03795266151428223\n",
      "compute_update  0.04016757011413574\n",
      "(0.052009067794692165+0j)\n",
      "n_discard =  144\n",
      "discard samples 0.07841801643371582\n",
      "n_samples_node =  1000\n",
      "generate_samples :  0.0689702033996582\n",
      "     prepare getting local values 0.0017244815826416016\n",
      "     obtained local values 0.006976604461669922\n",
      "get_mc_stats 0.009289741516113281\n"
     ]
    },
    {
     "name": "stderr",
     "output_type": "stream",
     "text": [
      " 94%|█████████▍| 944/1000 [03:05<00:11,  5.05it/s, Energy=-2.1058173+0.0000000j ± 0.0000015 [σ²=0.0000000]]"
     ]
    },
    {
     "name": "stdout",
     "output_type": "stream",
     "text": [
      "--->> cal O and jac  0.03078770637512207\n",
      "compute_update  0.03273630142211914\n",
      "(0.05200876190035489+0j)\n",
      "n_discard =  144\n",
      "discard samples 0.0754859447479248\n",
      "n_samples_node =  1000\n",
      "generate_samples :  0.07809877395629883\n",
      "     prepare getting local values 0.004155158996582031\n",
      "     obtained local values 0.008021116256713867\n",
      "get_mc_stats 0.011371850967407227\n"
     ]
    },
    {
     "name": "stderr",
     "output_type": "stream",
     "text": [
      " 94%|█████████▍| 945/1000 [03:05<00:11,  4.99it/s, Energy=-2.1058178+0.0000000j ± 0.0000016 [σ²=0.0000000]]"
     ]
    },
    {
     "name": "stdout",
     "output_type": "stream",
     "text": [
      "--->> cal O and jac  0.034854888916015625\n",
      "compute_update  0.03868865966796875\n",
      "(0.052008435162177916+0j)\n",
      "n_discard =  144\n",
      "discard samples 0.07666206359863281\n",
      "n_samples_node =  1000\n",
      "generate_samples :  0.0689699649810791\n",
      "     prepare getting local values 0.0016932487487792969\n",
      "     obtained local values 0.006012916564941406\n",
      "get_mc_stats 0.008328914642333984\n"
     ]
    },
    {
     "name": "stderr",
     "output_type": "stream",
     "text": [
      "\r",
      " 94%|█████████▍| 945/1000 [03:06<00:11,  4.99it/s, Energy=-2.1058169+0.0000000j ± 0.0000015 [σ²=0.0000000]]"
     ]
    },
    {
     "name": "stdout",
     "output_type": "stream",
     "text": [
      "--->> cal O and jac  0.03819775581359863\n",
      "compute_update  0.040555477142333984\n"
     ]
    },
    {
     "name": "stderr",
     "output_type": "stream",
     "text": [
      "\r",
      " 95%|█████████▍| 946/1000 [03:06<00:10,  5.02it/s, Energy=-2.1058169+0.0000000j ± 0.0000015 [σ²=0.0000000]]"
     ]
    },
    {
     "name": "stdout",
     "output_type": "stream",
     "text": [
      "(0.05200815318399333+0j)\n",
      "n_discard =  144\n",
      "discard samples 0.07491517066955566\n",
      "n_samples_node =  1000\n",
      "generate_samples :  0.07310771942138672\n",
      "     prepare getting local values 0.002157926559448242\n",
      "     obtained local values 0.005606174468994141\n",
      "get_mc_stats 0.007875680923461914\n"
     ]
    },
    {
     "name": "stderr",
     "output_type": "stream",
     "text": [
      " 95%|█████████▍| 947/1000 [03:06<00:10,  5.08it/s, Energy=-2.1058147+0.0000000j ± 0.0000011 [σ²=0.0000000]]"
     ]
    },
    {
     "name": "stdout",
     "output_type": "stream",
     "text": [
      "--->> cal O and jac  0.030415058135986328\n",
      "compute_update  0.03291916847229004\n",
      "(0.05200795692015508+0j)\n",
      "n_discard =  144\n",
      "discard samples 0.07505345344543457\n",
      "n_samples_node =  1000\n",
      "generate_samples :  0.07307243347167969\n",
      "     prepare getting local values 0.004141092300415039\n",
      "     obtained local values 0.009225130081176758\n",
      "get_mc_stats 0.013562917709350586\n",
      "--->> cal O and jac  0.033081769943237305\n"
     ]
    },
    {
     "name": "stderr",
     "output_type": "stream",
     "text": [
      " 95%|█████████▍| 948/1000 [03:06<00:10,  5.04it/s, Energy=-2.1058187+0.0000000j ± 0.0000015 [σ²=0.0000000]]"
     ]
    },
    {
     "name": "stdout",
     "output_type": "stream",
     "text": [
      "compute_update  0.03777909278869629\n",
      "(0.052007634977178405+0j)\n",
      "n_discard =  144\n",
      "discard samples 0.0742495059967041\n",
      "n_samples_node =  1000\n",
      "generate_samples :  0.07570958137512207\n",
      "     prepare getting local values 0.003507375717163086\n",
      "     obtained local values 0.009723663330078125\n",
      "get_mc_stats 0.013060808181762695\n"
     ]
    },
    {
     "name": "stderr",
     "output_type": "stream",
     "text": [
      " 95%|█████████▍| 949/1000 [03:06<00:10,  4.97it/s, Energy=-2.1058163+0.0000000j ± 0.0000013 [σ²=0.0000000]]"
     ]
    },
    {
     "name": "stdout",
     "output_type": "stream",
     "text": [
      "--->> cal O and jac  0.03967595100402832\n",
      "compute_update  0.042662620544433594\n",
      "(0.05200732450281586+0j)\n",
      "n_discard =  144\n",
      "discard samples 0.07357954978942871\n",
      "n_samples_node =  1000\n",
      "generate_samples :  0.06941676139831543\n",
      "     prepare getting local values 0.00392603874206543\n",
      "     obtained local values 0.009101629257202148\n",
      "get_mc_stats 0.012639045715332031\n"
     ]
    },
    {
     "name": "stderr",
     "output_type": "stream",
     "text": [
      "\r",
      " 95%|█████████▍| 949/1000 [03:06<00:10,  4.97it/s, Energy=-2.1058176+0.0000000j ± 0.0000016 [σ²=0.0000000]]"
     ]
    },
    {
     "name": "stdout",
     "output_type": "stream",
     "text": [
      "--->> cal O and jac  0.036374568939208984\n",
      "compute_update  0.039708852767944336\n"
     ]
    },
    {
     "name": "stderr",
     "output_type": "stream",
     "text": [
      "\r",
      " 95%|█████████▌| 950/1000 [03:06<00:10,  4.99it/s, Energy=-2.1058176+0.0000000j ± 0.0000016 [σ²=0.0000000]]"
     ]
    },
    {
     "name": "stdout",
     "output_type": "stream",
     "text": [
      "(0.05200700516466696+0j)\n",
      "n_discard =  144\n",
      "discard samples 0.08034372329711914\n",
      "n_samples_node =  1000\n",
      "generate_samples :  0.07201695442199707\n",
      "     prepare getting local values 0.003166675567626953\n",
      "     obtained local values 0.009514331817626953\n",
      "get_mc_stats 0.01224064826965332\n",
      "--->> cal O and jac  0.03529477119445801\n"
     ]
    },
    {
     "name": "stderr",
     "output_type": "stream",
     "text": [
      " 95%|█████████▌| 951/1000 [03:07<00:09,  4.96it/s, Energy=-2.1058171+0.0000000j ± 0.0000013 [σ²=0.0000000]]"
     ]
    },
    {
     "name": "stdout",
     "output_type": "stream",
     "text": [
      "compute_update  0.03808784484863281\n",
      "(0.052006715916631426+0j)\n",
      "n_discard =  144\n",
      "discard samples 0.07940912246704102\n",
      "n_samples_node =  1000\n",
      "generate_samples :  0.07064127922058105\n",
      "     prepare getting local values 0.0017352104187011719\n",
      "     obtained local values 0.005609273910522461\n",
      "get_mc_stats 0.007293701171875\n"
     ]
    },
    {
     "name": "stderr",
     "output_type": "stream",
     "text": [
      " 95%|█████████▌| 952/1000 [03:07<00:09,  5.02it/s, Energy=-2.1058156+0.0000000j ± 0.0000013 [σ²=0.0000000]]"
     ]
    },
    {
     "name": "stdout",
     "output_type": "stream",
     "text": [
      "--->> cal O and jac  0.03125786781311035\n",
      "compute_update  0.03482198715209961\n",
      "(0.05200638155774432+0j)\n",
      "n_discard =  144\n",
      "discard samples 0.0795295238494873\n",
      "n_samples_node =  1000\n",
      "generate_samples :  0.07404589653015137\n",
      "     prepare getting local values 0.004029989242553711\n",
      "     obtained local values 0.010017633438110352\n",
      "get_mc_stats 0.013440847396850586\n"
     ]
    },
    {
     "name": "stderr",
     "output_type": "stream",
     "text": [
      " 95%|█████████▌| 953/1000 [03:07<00:09,  4.96it/s, Energy=-2.1058177+0.0000000j ± 0.0000014 [σ²=0.0000000]]"
     ]
    },
    {
     "name": "stdout",
     "output_type": "stream",
     "text": [
      "--->> cal O and jac  0.034040212631225586\n",
      "compute_update  0.03700971603393555\n",
      "(0.05200604673927069+0j)\n",
      "n_discard =  144\n",
      "discard samples 0.07404470443725586\n",
      "n_samples_node =  1000\n",
      "generate_samples :  0.07030797004699707\n",
      "     prepare getting local values 0.0028035640716552734\n",
      "     obtained local values 0.006383657455444336\n",
      "get_mc_stats 0.00927114486694336\n"
     ]
    },
    {
     "name": "stderr",
     "output_type": "stream",
     "text": [
      " 95%|█████████▌| 954/1000 [03:07<00:09,  5.04it/s, Energy=-2.1058156+0.0000000j ± 0.0000012 [σ²=0.0000000]]"
     ]
    },
    {
     "name": "stdout",
     "output_type": "stream",
     "text": [
      "--->> cal O and jac  0.032027482986450195\n",
      "compute_update  0.03575587272644043\n",
      "(0.05200569638396357+0j)\n",
      "n_discard =  144\n",
      "discard samples 0.07623767852783203\n",
      "n_samples_node =  1000\n",
      "generate_samples :  0.07242202758789062\n",
      "     prepare getting local values 0.003018617630004883\n",
      "     obtained local values 0.008845806121826172\n",
      "get_mc_stats 0.011065959930419922\n"
     ]
    },
    {
     "name": "stderr",
     "output_type": "stream",
     "text": [
      " 96%|█████████▌| 955/1000 [03:07<00:08,  5.07it/s, Energy=-2.10581677+0.00000000j ± 0.00000096 [σ²=0.00000000]]"
     ]
    },
    {
     "name": "stdout",
     "output_type": "stream",
     "text": [
      "--->> cal O and jac  0.0292510986328125\n",
      "compute_update  0.03144121170043945\n",
      "(0.05200538969461833+0j)\n",
      "n_discard =  144\n",
      "discard samples 0.07699942588806152\n",
      "n_samples_node =  1000\n",
      "generate_samples :  0.07351541519165039\n",
      "     prepare getting local values 0.0035223960876464844\n",
      "     obtained local values 0.009645938873291016\n",
      "get_mc_stats 0.01258087158203125\n"
     ]
    },
    {
     "name": "stderr",
     "output_type": "stream",
     "text": [
      "\r",
      " 96%|█████████▌| 955/1000 [03:08<00:08,  5.07it/s, Energy=-2.1058161+0.0000000j ± 0.0000013 [σ²=0.0000000]]    "
     ]
    },
    {
     "name": "stdout",
     "output_type": "stream",
     "text": [
      "--->> cal O and jac  0.031122922897338867\n",
      "compute_update  0.03305840492248535\n"
     ]
    },
    {
     "name": "stderr",
     "output_type": "stream",
     "text": [
      "\r",
      " 96%|█████████▌| 956/1000 [03:08<00:08,  5.07it/s, Energy=-2.1058161+0.0000000j ± 0.0000013 [σ²=0.0000000]]"
     ]
    },
    {
     "name": "stdout",
     "output_type": "stream",
     "text": [
      "(0.05200506289577413+0j)\n",
      "n_discard =  144\n",
      "discard samples 0.07440805435180664\n",
      "n_samples_node =  1000\n",
      "generate_samples :  0.07061362266540527\n",
      "     prepare getting local values 0.003560304641723633\n",
      "     obtained local values 0.007265806198120117\n",
      "get_mc_stats 0.010281085968017578\n"
     ]
    },
    {
     "name": "stderr",
     "output_type": "stream",
     "text": [
      " 96%|█████████▌| 957/1000 [03:08<00:08,  5.08it/s, Energy=-2.1058159+0.0000000j ± 0.0000014 [σ²=0.0000000]]"
     ]
    },
    {
     "name": "stdout",
     "output_type": "stream",
     "text": [
      "--->> cal O and jac  0.03495597839355469\n",
      "compute_update  0.03827810287475586\n",
      "(0.052004801287276504+0j)\n",
      "n_discard =  144\n",
      "discard samples 0.0768899917602539\n",
      "n_samples_node =  1000\n",
      "generate_samples :  0.06930160522460938\n",
      "     prepare getting local values 0.0036530494689941406\n",
      "     obtained local values 0.008225679397583008\n",
      "get_mc_stats 0.011337518692016602\n"
     ]
    },
    {
     "name": "stderr",
     "output_type": "stream",
     "text": [
      " 96%|█████████▌| 958/1000 [03:08<00:08,  5.03it/s, Energy=-2.1058137+0.0000000j ± 0.0000016 [σ²=0.0000000]]"
     ]
    },
    {
     "name": "stdout",
     "output_type": "stream",
     "text": [
      "--->> cal O and jac  0.042090654373168945\n",
      "compute_update  0.04399728775024414\n",
      "(0.052004546362877414+0j)\n",
      "n_discard =  144\n",
      "discard samples 0.07396912574768066\n",
      "n_samples_node =  1000\n",
      "generate_samples :  0.07274818420410156\n",
      "     prepare getting local values 0.004069089889526367\n",
      "     obtained local values 0.010232925415039062\n",
      "get_mc_stats 0.013301372528076172\n",
      "--->> cal O and jac  0.03325843811035156\n"
     ]
    },
    {
     "name": "stderr",
     "output_type": "stream",
     "text": [
      " 96%|█████████▌| 959/1000 [03:08<00:08,  5.02it/s, Energy=-2.1058178+0.0000000j ± 0.0000013 [σ²=0.0000000]]"
     ]
    },
    {
     "name": "stdout",
     "output_type": "stream",
     "text": [
      "compute_update  0.037895917892456055\n",
      "(0.052004215219918146+0j)\n",
      "n_discard =  144\n",
      "discard samples 0.07776260375976562\n",
      "n_samples_node =  1000\n",
      "generate_samples :  0.07144665718078613\n",
      "     prepare getting local values 0.0017750263214111328\n",
      "     obtained local values 0.005263090133666992\n",
      "get_mc_stats 0.007476806640625\n",
      "--->> cal O and jac  0.03704071044921875\n"
     ]
    },
    {
     "name": "stderr",
     "output_type": "stream",
     "text": [
      " 96%|█████████▌| 960/1000 [03:08<00:07,  5.03it/s, Energy=-2.10581470+0.00000000j ± 0.00000098 [σ²=0.00000000]]"
     ]
    },
    {
     "name": "stdout",
     "output_type": "stream",
     "text": [
      "compute_update  0.0395665168762207\n",
      "(0.05200391243808397+0j)\n",
      "n_discard =  144\n",
      "discard samples 0.07807087898254395\n",
      "n_samples_node =  1000\n",
      "generate_samples :  0.07023477554321289\n",
      "     prepare getting local values 0.0037696361541748047\n",
      "     obtained local values 0.010209798812866211\n",
      "get_mc_stats 0.01368093490600586\n"
     ]
    },
    {
     "name": "stderr",
     "output_type": "stream",
     "text": [
      " 96%|█████████▌| 961/1000 [03:09<00:07,  4.97it/s, Energy=-2.1058150+0.0000000j ± 0.0000010 [σ²=0.0000000]]    "
     ]
    },
    {
     "name": "stdout",
     "output_type": "stream",
     "text": [
      "--->> cal O and jac  0.04087376594543457\n",
      "compute_update  0.0429685115814209\n",
      "(0.05200359033690617+0j)\n",
      "n_discard =  144\n",
      "discard samples 0.07557797431945801\n",
      "n_samples_node =  1000\n",
      "generate_samples :  0.07455706596374512\n",
      "     prepare getting local values 0.0017075538635253906\n",
      "     obtained local values 0.005155801773071289\n",
      "get_mc_stats 0.007253885269165039\n"
     ]
    },
    {
     "name": "stderr",
     "output_type": "stream",
     "text": [
      " 96%|█████████▌| 962/1000 [03:09<00:07,  5.01it/s, Energy=-2.1058185+0.0000000j ± 0.0000014 [σ²=0.0000000]]"
     ]
    },
    {
     "name": "stdout",
     "output_type": "stream",
     "text": [
      "--->> cal O and jac  0.03398752212524414\n",
      "compute_update  0.036124467849731445\n",
      "(0.05200329278163794+0j)\n",
      "n_discard =  144\n",
      "discard samples 0.07860708236694336\n",
      "n_samples_node =  1000\n",
      "generate_samples :  0.07285261154174805\n",
      "     prepare getting local values 0.003947734832763672\n",
      "     obtained local values 0.010973215103149414\n",
      "get_mc_stats 0.013683319091796875\n"
     ]
    },
    {
     "name": "stderr",
     "output_type": "stream",
     "text": [
      " 96%|█████████▋| 963/1000 [03:09<00:07,  4.98it/s, Energy=-2.1058151+0.0000000j ± 0.0000012 [σ²=0.0000000]]"
     ]
    },
    {
     "name": "stdout",
     "output_type": "stream",
     "text": [
      "--->> cal O and jac  0.035062313079833984\n",
      "compute_update  0.037238121032714844\n",
      "(0.052003032951385475+0j)\n",
      "n_discard =  144\n",
      "discard samples 0.07650041580200195\n",
      "n_samples_node =  1000\n",
      "generate_samples :  0.07393407821655273\n",
      "     prepare getting local values 0.0035707950592041016\n",
      "     obtained local values 0.009143352508544922\n",
      "get_mc_stats 0.011404275894165039\n"
     ]
    },
    {
     "name": "stderr",
     "output_type": "stream",
     "text": [
      " 96%|█████████▋| 964/1000 [03:09<00:07,  4.96it/s, Energy=-2.1058169+0.0000000j ± 0.0000013 [σ²=0.0000000]]"
     ]
    },
    {
     "name": "stdout",
     "output_type": "stream",
     "text": [
      "--->> cal O and jac  0.03639364242553711\n",
      "compute_update  0.03946852684020996\n",
      "(0.05200275677659263+0j)\n",
      "n_discard =  144\n",
      "discard samples 0.07358789443969727\n",
      "n_samples_node =  1000\n",
      "generate_samples :  0.07920074462890625\n",
      "     prepare getting local values 0.0017254352569580078\n",
      "     obtained local values 0.005228281021118164\n",
      "get_mc_stats 0.007536172866821289\n"
     ]
    },
    {
     "name": "stderr",
     "output_type": "stream",
     "text": [
      " 96%|█████████▋| 965/1000 [03:09<00:06,  5.02it/s, Energy=-2.1058172+0.0000000j ± 0.0000011 [σ²=0.0000000]]"
     ]
    },
    {
     "name": "stdout",
     "output_type": "stream",
     "text": [
      "--->> cal O and jac  0.02858901023864746\n",
      "compute_update  0.030643939971923828\n",
      "(0.052002491313102195+0j)\n",
      "n_discard =  144\n",
      "discard samples 0.07138872146606445\n",
      "n_samples_node =  1000\n",
      "generate_samples :  0.06992030143737793\n",
      "     prepare getting local values 0.0016887187957763672\n",
      "     obtained local values 0.005059242248535156\n",
      "get_mc_stats 0.006830692291259766\n"
     ]
    },
    {
     "name": "stderr",
     "output_type": "stream",
     "text": [
      " 97%|█████████▋| 966/1000 [03:10<00:06,  5.08it/s, Energy=-2.1058152+0.0000000j ± 0.0000011 [σ²=0.0000000]]"
     ]
    },
    {
     "name": "stdout",
     "output_type": "stream",
     "text": [
      "--->> cal O and jac  0.03715372085571289\n",
      "compute_update  0.04106426239013672\n",
      "(0.05200207995014739+0j)\n",
      "n_discard =  144\n",
      "discard samples 0.07561969757080078\n",
      "n_samples_node =  1000\n",
      "generate_samples :  0.07203483581542969\n",
      "     prepare getting local values 0.00417327880859375\n",
      "     obtained local values 0.010197162628173828\n",
      "get_mc_stats 0.013232946395874023\n"
     ]
    },
    {
     "name": "stderr",
     "output_type": "stream",
     "text": [
      " 97%|█████████▋| 967/1000 [03:10<00:06,  5.05it/s, Energy=-2.1058158+0.0000000j ± 0.0000015 [σ²=0.0000000]]"
     ]
    },
    {
     "name": "stdout",
     "output_type": "stream",
     "text": [
      "--->> cal O and jac  0.036691904067993164\n",
      "compute_update  0.03868675231933594\n",
      "(0.052001733496304756+0j)\n",
      "n_discard =  144\n",
      "discard samples 0.07816481590270996\n",
      "n_samples_node =  1000\n",
      "generate_samples :  0.07011008262634277\n",
      "     prepare getting local values 0.003487825393676758\n",
      "     obtained local values 0.008635759353637695\n",
      "get_mc_stats 0.011603593826293945\n"
     ]
    },
    {
     "name": "stderr",
     "output_type": "stream",
     "text": [
      "\r",
      " 97%|█████████▋| 967/1000 [03:10<00:06,  5.05it/s, Energy=-2.1058150+0.0000000j ± 0.0000015 [σ²=0.0000000]]"
     ]
    },
    {
     "name": "stdout",
     "output_type": "stream",
     "text": [
      "--->> cal O and jac  0.03451347351074219\n",
      "compute_update  0.03652381896972656\n"
     ]
    },
    {
     "name": "stderr",
     "output_type": "stream",
     "text": [
      "\r",
      " 97%|█████████▋| 968/1000 [03:10<00:06,  5.04it/s, Energy=-2.1058150+0.0000000j ± 0.0000015 [σ²=0.0000000]]"
     ]
    },
    {
     "name": "stdout",
     "output_type": "stream",
     "text": [
      "(0.05200142832198001+0j)\n",
      "n_discard =  144\n",
      "discard samples 0.07949185371398926\n",
      "n_samples_node =  1000\n",
      "generate_samples :  0.0713505744934082\n",
      "     prepare getting local values 0.0018715858459472656\n",
      "     obtained local values 0.0053157806396484375\n",
      "get_mc_stats 0.007947206497192383\n"
     ]
    },
    {
     "name": "stderr",
     "output_type": "stream",
     "text": [
      " 97%|█████████▋| 969/1000 [03:10<00:06,  5.06it/s, Energy=-2.10581822+0.00000000j ± 0.00000099 [σ²=0.00000000]]"
     ]
    },
    {
     "name": "stdout",
     "output_type": "stream",
     "text": [
      "--->> cal O and jac  0.032128095626831055\n",
      "compute_update  0.03456425666809082\n",
      "(0.052001065561707624+0j)\n",
      "n_discard =  144\n",
      "discard samples 0.07784152030944824\n",
      "n_samples_node =  1000\n",
      "generate_samples :  0.07417130470275879\n",
      "     prepare getting local values 0.0038809776306152344\n",
      "     obtained local values 0.010125160217285156\n",
      "get_mc_stats 0.013155698776245117\n"
     ]
    },
    {
     "name": "stderr",
     "output_type": "stream",
     "text": [
      " 97%|█████████▋| 970/1000 [03:10<00:06,  5.00it/s, Energy=-2.1058163+0.0000000j ± 0.0000013 [σ²=0.0000000]]    "
     ]
    },
    {
     "name": "stdout",
     "output_type": "stream",
     "text": [
      "--->> cal O and jac  0.03654766082763672\n",
      "compute_update  0.03875231742858887\n",
      "(0.05200071178715407+0j)\n",
      "n_discard =  144\n",
      "discard samples 0.07529568672180176\n",
      "n_samples_node =  1000\n",
      "generate_samples :  0.07712054252624512\n",
      "     prepare getting local values 0.002061128616333008\n",
      "     obtained local values 0.005707263946533203\n",
      "get_mc_stats 0.008330821990966797\n"
     ]
    },
    {
     "name": "stderr",
     "output_type": "stream",
     "text": [
      " 97%|█████████▋| 971/1000 [03:11<00:05,  4.97it/s, Energy=-2.1058168+0.0000000j ± 0.0000014 [σ²=0.0000000]]"
     ]
    },
    {
     "name": "stdout",
     "output_type": "stream",
     "text": [
      "--->> cal O and jac  0.0367889404296875\n",
      "compute_update  0.040489912033081055\n",
      "(0.05200039446537734+0j)\n",
      "n_discard =  144\n",
      "discard samples 0.08110237121582031\n",
      "n_samples_node =  1000\n",
      "generate_samples :  0.08431506156921387\n",
      "     prepare getting local values 0.0035338401794433594\n",
      "     obtained local values 0.008384466171264648\n",
      "get_mc_stats 0.011198043823242188\n"
     ]
    },
    {
     "name": "stderr",
     "output_type": "stream",
     "text": [
      " 97%|█████████▋| 972/1000 [03:11<00:05,  4.91it/s, Energy=-2.1058162+0.0000000j ± 0.0000014 [σ²=0.0000000]]"
     ]
    },
    {
     "name": "stdout",
     "output_type": "stream",
     "text": [
      "--->> cal O and jac  0.029334068298339844\n",
      "compute_update  0.03145551681518555\n",
      "(0.0520000663949256+0j)\n",
      "n_discard =  144\n",
      "discard samples 0.07973289489746094\n",
      "n_samples_node =  1000\n",
      "generate_samples :  0.07160568237304688\n",
      "     prepare getting local values 0.003162860870361328\n",
      "     obtained local values 0.007897138595581055\n",
      "get_mc_stats 0.011046171188354492\n"
     ]
    },
    {
     "name": "stderr",
     "output_type": "stream",
     "text": [
      " 97%|█████████▋| 973/1000 [03:11<00:05,  4.89it/s, Energy=-2.1058177+0.0000000j ± 0.0000013 [σ²=0.0000000]]"
     ]
    },
    {
     "name": "stdout",
     "output_type": "stream",
     "text": [
      "--->> cal O and jac  0.038590431213378906\n",
      "compute_update  0.04197096824645996\n",
      "(0.05199970820691386+0j)\n",
      "n_discard =  144\n",
      "discard samples 0.0789649486541748\n",
      "n_samples_node =  1000\n",
      "generate_samples :  0.07134270668029785\n",
      "     prepare getting local values 0.0029447078704833984\n",
      "     obtained local values 0.009168148040771484\n",
      "get_mc_stats 0.012664318084716797\n",
      "--->> cal O and jac  0.03194117546081543\n"
     ]
    },
    {
     "name": "stderr",
     "output_type": "stream",
     "text": [
      " 97%|█████████▋| 974/1000 [03:11<00:05,  4.92it/s, Energy=-2.1058176+0.0000000j ± 0.0000012 [σ²=0.0000000]]"
     ]
    },
    {
     "name": "stdout",
     "output_type": "stream",
     "text": [
      "compute_update  0.03492903709411621\n",
      "(0.051999375004484844+0j)\n",
      "n_discard =  144\n",
      "discard samples 0.07450389862060547\n",
      "n_samples_node =  1000\n",
      "generate_samples :  0.06903362274169922\n",
      "     prepare getting local values 0.0035538673400878906\n",
      "     obtained local values 0.007008552551269531\n",
      "get_mc_stats 0.010275840759277344\n"
     ]
    },
    {
     "name": "stderr",
     "output_type": "stream",
     "text": [
      " 98%|█████████▊| 975/1000 [03:11<00:05,  4.97it/s, Energy=-2.1058185+0.0000000j ± 0.0000013 [σ²=0.0000000]]"
     ]
    },
    {
     "name": "stdout",
     "output_type": "stream",
     "text": [
      "--->> cal O and jac  0.03690385818481445\n",
      "compute_update  0.040424346923828125\n",
      "(0.051998992360910164+0j)\n",
      "n_discard =  144\n",
      "discard samples 0.08107399940490723\n",
      "n_samples_node =  1000\n",
      "generate_samples :  0.07089781761169434\n",
      "     prepare getting local values 0.0032863616943359375\n",
      "     obtained local values 0.008062124252319336\n",
      "get_mc_stats 0.011226654052734375\n"
     ]
    },
    {
     "name": "stderr",
     "output_type": "stream",
     "text": [
      " 98%|█████████▊| 976/1000 [03:12<00:04,  4.91it/s, Energy=-2.1058172+0.0000000j ± 0.0000011 [σ²=0.0000000]]"
     ]
    },
    {
     "name": "stdout",
     "output_type": "stream",
     "text": [
      "--->> cal O and jac  0.040760040283203125\n",
      "compute_update  0.04436540603637695\n",
      "(0.05199864111133747+0j)\n",
      "n_discard =  144\n",
      "discard samples 0.07561230659484863\n",
      "n_samples_node =  1000\n",
      "generate_samples :  0.07107210159301758\n",
      "     prepare getting local values 0.0034618377685546875\n",
      "     obtained local values 0.007446765899658203\n",
      "get_mc_stats 0.010206222534179688\n",
      "--->> cal O and jac  0.03845500946044922\n"
     ]
    },
    {
     "name": "stderr",
     "output_type": "stream",
     "text": [
      " 98%|█████████▊| 977/1000 [03:12<00:04,  4.93it/s, Energy=-2.1058173+0.0000000j ± 0.0000011 [σ²=0.0000000]]"
     ]
    },
    {
     "name": "stdout",
     "output_type": "stream",
     "text": [
      "compute_update  0.041269779205322266\n",
      "(0.05199829377424378+0j)\n",
      "n_discard =  144\n",
      "discard samples 0.07930874824523926\n",
      "n_samples_node =  1000\n",
      "generate_samples :  0.06924247741699219\n",
      "     prepare getting local values 0.002965211868286133\n",
      "     obtained local values 0.008856058120727539\n",
      "get_mc_stats 0.011599063873291016\n"
     ]
    },
    {
     "name": "stderr",
     "output_type": "stream",
     "text": [
      " 98%|█████████▊| 978/1000 [03:12<00:04,  5.01it/s, Energy=-2.1058161+0.0000000j ± 0.0000011 [σ²=0.0000000]]"
     ]
    },
    {
     "name": "stdout",
     "output_type": "stream",
     "text": [
      "--->> cal O and jac  0.02767348289489746\n",
      "compute_update  0.030066967010498047\n",
      "(0.05199795280529814+0j)\n",
      "n_discard =  144\n",
      "discard samples 0.0794823169708252\n",
      "n_samples_node =  1000\n",
      "generate_samples :  0.07276034355163574\n",
      "     prepare getting local values 0.003530740737915039\n",
      "     obtained local values 0.009623050689697266\n",
      "get_mc_stats 0.012478113174438477\n"
     ]
    },
    {
     "name": "stderr",
     "output_type": "stream",
     "text": [
      " 98%|█████████▊| 979/1000 [03:12<00:04,  4.95it/s, Energy=-2.10581422+0.00000000j ± 0.00000100 [σ²=0.00000000]]"
     ]
    },
    {
     "name": "stdout",
     "output_type": "stream",
     "text": [
      "--->> cal O and jac  0.03727221488952637\n",
      "compute_update  0.04052257537841797\n",
      "(0.05199759315830656+0j)\n",
      "n_discard =  144\n",
      "discard samples 0.07905912399291992\n",
      "n_samples_node =  1000\n",
      "generate_samples :  0.07458043098449707\n",
      "     prepare getting local values 0.004235267639160156\n",
      "     obtained local values 0.00901484489440918\n",
      "get_mc_stats 0.01203465461730957\n"
     ]
    },
    {
     "name": "stderr",
     "output_type": "stream",
     "text": [
      " 98%|█████████▊| 980/1000 [03:13<00:04,  4.89it/s, Energy=-2.1058170+0.0000000j ± 0.0000011 [σ²=0.0000000]]    "
     ]
    },
    {
     "name": "stdout",
     "output_type": "stream",
     "text": [
      "--->> cal O and jac  0.039138078689575195\n",
      "compute_update  0.04185914993286133\n",
      "(0.05199727893717735+0j)\n",
      "n_discard =  144\n",
      "discard samples 0.07563209533691406\n",
      "n_samples_node =  1000\n",
      "generate_samples :  0.07492804527282715\n",
      "     prepare getting local values 0.0029518604278564453\n",
      "     obtained local values 0.008522272109985352\n",
      "get_mc_stats 0.011565685272216797\n"
     ]
    },
    {
     "name": "stderr",
     "output_type": "stream",
     "text": [
      " 98%|█████████▊| 981/1000 [03:13<00:03,  4.89it/s, Energy=-2.1058180+0.0000000j ± 0.0000013 [σ²=0.0000000]]"
     ]
    },
    {
     "name": "stdout",
     "output_type": "stream",
     "text": [
      "--->> cal O and jac  0.038123130798339844\n",
      "compute_update  0.040093183517456055\n",
      "(0.05199696568242246+0j)\n",
      "n_discard =  144\n",
      "discard samples 0.0729372501373291\n",
      "n_samples_node =  1000\n",
      "generate_samples :  0.07014131546020508\n",
      "     prepare getting local values 0.004503011703491211\n",
      "     obtained local values 0.009257316589355469\n",
      "get_mc_stats 0.012540578842163086\n",
      "--->> cal O and jac  0.0393369197845459\n"
     ]
    },
    {
     "name": "stderr",
     "output_type": "stream",
     "text": [
      " 98%|█████████▊| 982/1000 [03:13<00:03,  4.91it/s, Energy=-2.1058154+0.0000000j ± 0.0000012 [σ²=0.0000000]]"
     ]
    },
    {
     "name": "stdout",
     "output_type": "stream",
     "text": [
      "compute_update  0.04338645935058594\n",
      "(0.051996631621994+0j)\n",
      "n_discard =  144\n",
      "discard samples 0.07840824127197266\n",
      "n_samples_node =  1000\n",
      "generate_samples :  0.07466888427734375\n",
      "     prepare getting local values 0.0035881996154785156\n",
      "     obtained local values 0.007305145263671875\n",
      "get_mc_stats 0.009635686874389648\n"
     ]
    },
    {
     "name": "stderr",
     "output_type": "stream",
     "text": [
      "\r",
      " 98%|█████████▊| 982/1000 [03:13<00:03,  4.91it/s, Energy=-2.1058195+0.0000000j ± 0.0000011 [σ²=0.0000000]]"
     ]
    },
    {
     "name": "stdout",
     "output_type": "stream",
     "text": [
      "--->> cal O and jac  0.02842998504638672\n",
      "compute_update  0.030686616897583008\n"
     ]
    },
    {
     "name": "stderr",
     "output_type": "stream",
     "text": [
      "\r",
      " 98%|█████████▊| 983/1000 [03:13<00:03,  4.97it/s, Energy=-2.1058195+0.0000000j ± 0.0000011 [σ²=0.0000000]]"
     ]
    },
    {
     "name": "stdout",
     "output_type": "stream",
     "text": [
      "(0.05199630885614422+0j)\n",
      "n_discard =  144\n",
      "discard samples 0.07474112510681152\n",
      "n_samples_node =  1000\n",
      "generate_samples :  0.08919262886047363\n",
      "     prepare getting local values 0.003700733184814453\n",
      "     obtained local values 0.009779691696166992\n",
      "get_mc_stats 0.01275634765625\n"
     ]
    },
    {
     "name": "stderr",
     "output_type": "stream",
     "text": [
      " 98%|█████████▊| 984/1000 [03:13<00:03,  4.89it/s, Energy=-2.10581698+0.00000000j ± 0.00000087 [σ²=0.00000000]]"
     ]
    },
    {
     "name": "stdout",
     "output_type": "stream",
     "text": [
      "--->> cal O and jac  0.03069138526916504\n",
      "compute_update  0.03292584419250488\n",
      "(0.05199596292014301+0j)\n",
      "n_discard =  144\n",
      "discard samples 0.07553482055664062\n",
      "n_samples_node =  1000\n",
      "generate_samples :  0.09249401092529297\n",
      "     prepare getting local values 0.001783609390258789\n",
      "     obtained local values 0.0077092647552490234\n",
      "get_mc_stats 0.009922981262207031\n"
     ]
    },
    {
     "name": "stderr",
     "output_type": "stream",
     "text": [
      " 98%|█████████▊| 985/1000 [03:14<00:03,  4.78it/s, Energy=-2.10581647+0.00000000j ± 0.00000099 [σ²=0.00000000]]"
     ]
    },
    {
     "name": "stdout",
     "output_type": "stream",
     "text": [
      "--->> cal O and jac  0.03630208969116211\n",
      "compute_update  0.03994464874267578\n",
      "(0.05199561332514169+0j)\n",
      "n_discard =  144\n",
      "discard samples 0.07637715339660645\n",
      "n_samples_node =  1000\n",
      "generate_samples :  0.07343745231628418\n",
      "     prepare getting local values 0.003592252731323242\n",
      "     obtained local values 0.009005069732666016\n",
      "get_mc_stats 0.012179851531982422\n",
      "--->> cal O and jac  0.0326080322265625\n"
     ]
    },
    {
     "name": "stderr",
     "output_type": "stream",
     "text": [
      " 99%|█████████▊| 986/1000 [03:14<00:02,  4.84it/s, Energy=-2.1058169+0.0000000j ± 0.0000012 [σ²=0.0000000]]    "
     ]
    },
    {
     "name": "stdout",
     "output_type": "stream",
     "text": [
      "compute_update  0.036592960357666016\n",
      "(0.0519951997197589+0j)\n",
      "n_discard =  144\n",
      "discard samples 0.07748675346374512\n",
      "n_samples_node =  1000\n",
      "generate_samples :  0.07379508018493652\n",
      "     prepare getting local values 0.003504514694213867\n",
      "     obtained local values 0.007849454879760742\n",
      "get_mc_stats 0.010451078414916992\n"
     ]
    },
    {
     "name": "stderr",
     "output_type": "stream",
     "text": [
      " 99%|█████████▊| 987/1000 [03:14<00:02,  4.92it/s, Energy=-2.10581657+0.00000000j ± 0.00000083 [σ²=0.00000000]]"
     ]
    },
    {
     "name": "stdout",
     "output_type": "stream",
     "text": [
      "--->> cal O and jac  0.028969764709472656\n",
      "compute_update  0.03132987022399902\n",
      "(0.05199478546798769+0j)\n",
      "n_discard =  144\n",
      "discard samples 0.07593393325805664\n",
      "n_samples_node =  1000\n",
      "generate_samples :  0.07059860229492188\n",
      "     prepare getting local values 0.0035262107849121094\n",
      "     obtained local values 0.008589029312133789\n",
      "get_mc_stats 0.011538267135620117\n",
      "--->> cal O and jac  0.03632307052612305\n"
     ]
    },
    {
     "name": "stderr",
     "output_type": "stream",
     "text": [
      " 99%|█████████▉| 988/1000 [03:14<00:02,  4.95it/s, Energy=-2.1058167+0.0000000j ± 0.0000012 [σ²=0.0000000]]    "
     ]
    },
    {
     "name": "stdout",
     "output_type": "stream",
     "text": [
      "compute_update  0.039216041564941406\n",
      "(0.051994412968544304+0j)\n",
      "n_discard =  144\n",
      "discard samples 0.0769045352935791\n",
      "n_samples_node =  1000\n",
      "generate_samples :  0.07248544692993164\n",
      "     prepare getting local values 0.0017757415771484375\n",
      "     obtained local values 0.005308628082275391\n",
      "get_mc_stats 0.00748896598815918\n"
     ]
    },
    {
     "name": "stderr",
     "output_type": "stream",
     "text": [
      " 99%|█████████▉| 989/1000 [03:14<00:02,  5.00it/s, Energy=-2.1058160+0.0000000j ± 0.0000010 [σ²=0.0000000]]"
     ]
    },
    {
     "name": "stdout",
     "output_type": "stream",
     "text": [
      "--->> cal O and jac  0.03345489501953125\n",
      "compute_update  0.035376787185668945\n",
      "(0.051994044135549894+0j)\n",
      "n_discard =  144\n",
      "discard samples 0.07030653953552246\n",
      "n_samples_node =  1000\n",
      "generate_samples :  0.07011914253234863\n",
      "     prepare getting local values 0.0031337738037109375\n",
      "     obtained local values 0.008552074432373047\n",
      "get_mc_stats 0.011077880859375\n"
     ]
    },
    {
     "name": "stderr",
     "output_type": "stream",
     "text": [
      " 99%|█████████▉| 990/1000 [03:15<00:01,  5.06it/s, Energy=-2.10581609+0.00000000j ± 0.00000099 [σ²=0.00000000]]"
     ]
    },
    {
     "name": "stdout",
     "output_type": "stream",
     "text": [
      "--->> cal O and jac  0.03667759895324707\n",
      "compute_update  0.039858102798461914\n",
      "(0.05199374251505495+0j)\n",
      "n_discard =  144\n",
      "discard samples 0.08056044578552246\n",
      "n_samples_node =  1000\n",
      "generate_samples :  0.07376885414123535\n",
      "     prepare getting local values 0.003120899200439453\n",
      "     obtained local values 0.008508920669555664\n",
      "get_mc_stats 0.011524677276611328\n"
     ]
    },
    {
     "name": "stderr",
     "output_type": "stream",
     "text": [
      " 99%|█████████▉| 991/1000 [03:15<00:01,  4.96it/s, Energy=-2.10581702+0.00000000j ± 0.00000094 [σ²=0.00000000]]"
     ]
    },
    {
     "name": "stdout",
     "output_type": "stream",
     "text": [
      "--->> cal O and jac  0.0405268669128418\n",
      "compute_update  0.04231405258178711\n",
      "(0.05199338035692279+0j)\n",
      "n_discard =  144\n",
      "discard samples 0.08518314361572266\n",
      "n_samples_node =  1000\n",
      "generate_samples :  0.07179689407348633\n",
      "     prepare getting local values 0.003475189208984375\n",
      "     obtained local values 0.008147716522216797\n",
      "get_mc_stats 0.010935068130493164\n"
     ]
    },
    {
     "name": "stderr",
     "output_type": "stream",
     "text": [
      " 99%|█████████▉| 992/1000 [03:15<00:01,  4.96it/s, Energy=-2.1058166+0.0000000j ± 0.0000012 [σ²=0.0000000]]    "
     ]
    },
    {
     "name": "stdout",
     "output_type": "stream",
     "text": [
      "--->> cal O and jac  0.02812051773071289\n",
      "compute_update  0.03058314323425293\n",
      "(0.05199300273635721+0j)\n",
      "n_discard =  144\n",
      "discard samples 0.07693696022033691\n",
      "n_samples_node =  1000\n",
      "generate_samples :  0.06762504577636719\n",
      "     prepare getting local values 0.002599477767944336\n",
      "     obtained local values 0.005938529968261719\n",
      "get_mc_stats 0.008772611618041992\n"
     ]
    },
    {
     "name": "stderr",
     "output_type": "stream",
     "text": [
      " 99%|█████████▉| 993/1000 [03:15<00:01,  5.06it/s, Energy=-2.10581752+0.00000000j ± 0.00000086 [σ²=0.00000000]]"
     ]
    },
    {
     "name": "stdout",
     "output_type": "stream",
     "text": [
      "--->> cal O and jac  0.030911684036254883\n",
      "compute_update  0.032918453216552734\n",
      "(0.051992606610704574+0j)\n",
      "n_discard =  144\n",
      "discard samples 0.06750750541687012\n",
      "n_samples_node =  1000\n",
      "generate_samples :  0.06771302223205566\n",
      "     prepare getting local values 0.0029096603393554688\n",
      "     obtained local values 0.00772404670715332\n",
      "get_mc_stats 0.010721445083618164\n"
     ]
    },
    {
     "name": "stderr",
     "output_type": "stream",
     "text": [
      " 99%|█████████▉| 994/1000 [03:15<00:01,  5.16it/s, Energy=-2.1058167+0.0000000j ± 0.0000011 [σ²=0.0000000]]    "
     ]
    },
    {
     "name": "stdout",
     "output_type": "stream",
     "text": [
      "--->> cal O and jac  0.0353391170501709\n",
      "compute_update  0.03753376007080078\n",
      "(0.051992255141748316+0j)\n",
      "n_discard =  144\n",
      "discard samples 0.07715582847595215\n",
      "n_samples_node =  1000\n",
      "generate_samples :  0.06966400146484375\n",
      "     prepare getting local values 0.003719329833984375\n",
      "     obtained local values 0.01101231575012207\n",
      "get_mc_stats 0.014444351196289062\n"
     ]
    },
    {
     "name": "stderr",
     "output_type": "stream",
     "text": [
      "100%|█████████▉| 995/1000 [03:16<00:00,  5.09it/s, Energy=-2.1058158+0.0000000j ± 0.0000012 [σ²=0.0000000]]"
     ]
    },
    {
     "name": "stdout",
     "output_type": "stream",
     "text": [
      "--->> cal O and jac  0.03648734092712402\n",
      "compute_update  0.039556026458740234\n",
      "(0.05199193556771348+0j)\n",
      "n_discard =  144\n",
      "discard samples 0.07823371887207031\n",
      "n_samples_node =  1000\n",
      "generate_samples :  0.07495546340942383\n",
      "     prepare getting local values 0.0034799575805664062\n",
      "     obtained local values 0.007295370101928711\n",
      "get_mc_stats 0.010307073593139648\n",
      "--->> cal O and jac  0.031080961227416992\n"
     ]
    },
    {
     "name": "stderr",
     "output_type": "stream",
     "text": [
      "100%|█████████▉| 996/1000 [03:16<00:00,  5.06it/s, Energy=-2.1058168+0.0000000j ± 0.0000012 [σ²=0.0000000]]"
     ]
    },
    {
     "name": "stdout",
     "output_type": "stream",
     "text": [
      "compute_update  0.03508949279785156\n",
      "(0.051991587489352904+0j)\n",
      "n_discard =  144\n",
      "discard samples 0.07766151428222656\n",
      "n_samples_node =  1000\n",
      "generate_samples :  0.0648951530456543\n",
      "     prepare getting local values 0.003305196762084961\n",
      "     obtained local values 0.009583473205566406\n",
      "get_mc_stats 0.013033628463745117\n",
      "--->> cal O and jac  0.03656339645385742\n"
     ]
    },
    {
     "name": "stderr",
     "output_type": "stream",
     "text": [
      "100%|█████████▉| 997/1000 [03:16<00:00,  5.06it/s, Energy=-2.10581591+0.00000000j ± 0.00000099 [σ²=0.00000000]]"
     ]
    },
    {
     "name": "stdout",
     "output_type": "stream",
     "text": [
      "compute_update  0.03935980796813965\n",
      "(0.051991214130620904+0j)\n",
      "n_discard =  144\n",
      "discard samples 0.08366966247558594\n",
      "n_samples_node =  1000\n",
      "generate_samples :  0.07099056243896484\n",
      "     prepare getting local values 0.0051364898681640625\n",
      "     obtained local values 0.008800983428955078\n",
      "get_mc_stats 0.013315916061401367\n"
     ]
    },
    {
     "name": "stderr",
     "output_type": "stream",
     "text": [
      "100%|█████████▉| 998/1000 [03:16<00:00,  5.00it/s, Energy=-2.10581731+0.00000000j ± 0.00000098 [σ²=0.00000000]]"
     ]
    },
    {
     "name": "stdout",
     "output_type": "stream",
     "text": [
      "--->> cal O and jac  0.0326385498046875\n",
      "compute_update  0.03465414047241211\n",
      "(0.051990833139308204+0j)\n",
      "n_discard =  144\n",
      "discard samples 0.07854056358337402\n",
      "n_samples_node =  1000\n",
      "generate_samples :  0.06869196891784668\n",
      "     prepare getting local values 0.002737760543823242\n",
      "     obtained local values 0.006297588348388672\n",
      "get_mc_stats 0.009293079376220703\n",
      "--->> cal O and jac  0.03996634483337402\n"
     ]
    },
    {
     "name": "stderr",
     "output_type": "stream",
     "text": [
      "100%|█████████▉| 999/1000 [03:16<00:00,  5.00it/s, Energy=-2.1058182+0.0000000j ± 0.0000013 [σ²=0.0000000]]    "
     ]
    },
    {
     "name": "stdout",
     "output_type": "stream",
     "text": [
      "compute_update  0.042635440826416016\n",
      "(0.051990543143522694+0j)\n",
      "n_discard =  144\n",
      "discard samples 0.07939672470092773\n",
      "n_samples_node =  1000\n",
      "generate_samples :  0.07616543769836426\n",
      "     prepare getting local values 0.0034856796264648438\n",
      "     obtained local values 0.008558511734008789\n",
      "get_mc_stats 0.011468172073364258\n",
      "--->> cal O and jac  0.02921915054321289\n"
     ]
    },
    {
     "name": "stderr",
     "output_type": "stream",
     "text": [
      "100%|██████████| 1000/1000 [03:17<00:00,  5.08it/s, Energy=-2.1058165+0.0000000j ± 0.0000011 [σ²=0.0000000]]"
     ]
    },
    {
     "name": "stdout",
     "output_type": "stream",
     "text": [
      "compute_update  0.03202962875366211\n",
      "(0.05199022393792771+0j)\n"
     ]
    },
    {
     "name": "stderr",
     "output_type": "stream",
     "text": [
      "\n"
     ]
    }
   ],
   "source": [
    "V = 0.6\n",
    "h = 1.0\n",
    "\n",
    "ham = f.dimer_hamiltonian(V = V, h = h ,length=np.array(length))\n",
    "\n",
    "\n",
    "n_jobs = 8\n",
    "sa_mul = nk.sampler.DimerMetropolisLocal_multi(machine=ma, op=op\n",
    "    , length = length, n_chains=n_chains, sweep_size = sweep_size*4, kernel = 1, n_jobs=n_jobs)\n",
    "\n",
    "sr = nk.optimizer.SR(ma, diag_shift=5e-3)\n",
    "opt = nk.optimizer.Sgd(ma, learning_rate=0.05, decay_factor = decay_factor ,N = n_iter)\n",
    "\n",
    "gs = nk.Vmc(\n",
    "hamiltonian=ham,\n",
    "sampler=sa_mul,\n",
    "optimizer=opt,\n",
    "n_samples=10**3,\n",
    "sr=sr,\n",
    "n_discard=12*12,\n",
    ")\n",
    "\n",
    "\n",
    "gs.run(n_iter=1000)\n",
    "# ma.save(parentdir + '/save/ma/'+name)"
   ]
  },
  {
   "cell_type": "code",
   "execution_count": 9,
   "id": "annoying-farmer",
   "metadata": {},
   "outputs": [
    {
     "data": {
      "text/plain": [
       "<numba.experimental.jitclass.boxing._DimerLocalKernel_1 at 0x7f26284362f0>"
      ]
     },
     "execution_count": 9,
     "metadata": {},
     "output_type": "execute_result"
    }
   ],
   "source": [
    "sa_mul.sa_list[0]._kernel"
   ]
  },
  {
   "cell_type": "code",
   "execution_count": null,
   "id": "indirect-activation",
   "metadata": {},
   "outputs": [],
   "source": []
  }
 ],
 "metadata": {
  "kernelspec": {
   "display_name": "Python 3",
   "language": "python",
   "name": "python3"
  },
  "language_info": {
   "codemirror_mode": {
    "name": "ipython",
    "version": 3
   },
   "file_extension": ".py",
   "mimetype": "text/x-python",
   "name": "python",
   "nbconvert_exporter": "python",
   "pygments_lexer": "ipython3",
   "version": "3.8.5"
  }
 },
 "nbformat": 4,
 "nbformat_minor": 5
}
