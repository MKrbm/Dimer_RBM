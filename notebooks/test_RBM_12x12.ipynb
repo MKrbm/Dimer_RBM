{
 "cells": [
  {
   "cell_type": "code",
   "execution_count": 1,
   "id": "framed-train",
   "metadata": {},
   "outputs": [],
   "source": [
    "import sys\n",
    "import importlib\n",
    "importlib.reload(sys)\n",
    "sys.path.insert(0,'../')\n",
    "import numpy as np\n",
    "import netket as nk\n",
    "from scripts import functions as f\n",
    "from scripts import new_dynamics, new_dynamics2\n",
    "import os\n",
    "currentpath = os.getcwd()\n",
    "parentdir = os.path.dirname(currentpath)\n",
    "from conf import *"
   ]
  },
  {
   "cell_type": "code",
   "execution_count": 2,
   "id": "stunning-climate",
   "metadata": {
    "scrolled": true
   },
   "outputs": [
    {
     "data": {
      "text/plain": [
       "<module 'netket' from '../netket/__init__.py'>"
      ]
     },
     "execution_count": 2,
     "metadata": {},
     "output_type": "execute_result"
    }
   ],
   "source": [
    "importlib.reload(nk)"
   ]
  },
  {
   "cell_type": "code",
   "execution_count": 28,
   "id": "still-statistics",
   "metadata": {},
   "outputs": [],
   "source": [
    "length = [4, 4]\n",
    "hex_ = nk.machine.new_hex(np.array(length))\n",
    "\n",
    "kernel = 1\n",
    "# sweep_size = 200\n",
    "decay_factor = 1  # or 'sigmoid decay'\n",
    "\n",
    "\n",
    "\n",
    "g = nk.graph.Graph(nodes = [i for i in range(length[0] * length[1] * 2)])\n",
    "hi = nk.hilbert.Spin(s=0.5, graph=g)\n",
    "\n",
    "\n",
    "\n",
    "op, ad2o_o, op_num, label_num  = f.dimer_flip1(length = np.array(length), return_info = True)\n",
    "op2= f.dimer_flip_old(length = np.array(length))\n",
    "\n",
    "ad2_bool = np.zeros([ad2o_o.shape[0], ad2o_o.shape[0]], dtype = np.bool)\n",
    "for l in range(ad2o_o.shape[0]):\n",
    "    label = ad2o_o[l]\n",
    "    for op_ in label:\n",
    "        ad2_bool[l,op_] = True\n",
    "\n",
    "\n"
   ]
  },
  {
   "cell_type": "code",
   "execution_count": 41,
   "id": "blank-beauty",
   "metadata": {},
   "outputs": [
    {
     "data": {
      "text/plain": [
       "48.0"
      ]
     },
     "execution_count": 41,
     "metadata": {},
     "output_type": "execute_result"
    }
   ],
   "source": [
    "32 * 3 / 2"
   ]
  },
  {
   "cell_type": "code",
   "execution_count": null,
   "id": "described-stress",
   "metadata": {},
   "outputs": [],
   "source": []
  },
  {
   "cell_type": "code",
   "execution_count": 62,
   "id": "applicable-authority",
   "metadata": {},
   "outputs": [
    {
     "data": {
      "text/plain": [
       "array([[ 1,  7],\n",
       "       [ 2,  4],\n",
       "       [13, 11],\n",
       "       [14,  8]])"
      ]
     },
     "execution_count": 62,
     "metadata": {},
     "output_type": "execute_result"
    }
   ],
   "source": [
    "np.argwhere(op._operators[0] == -1)"
   ]
  },
  {
   "cell_type": "code",
   "execution_count": 64,
   "id": "defined-printing",
   "metadata": {},
   "outputs": [
    {
     "data": {
      "text/plain": [
       "array([[12,  8,  1, 29],\n",
       "       [ 8,  1,  5,  2],\n",
       "       [25, 29,  1,  5],\n",
       "       [ 1,  5,  9, 13],\n",
       "       [ 5,  9, 16, 20],\n",
       "       [16,  9, 13, 10],\n",
       "       [ 9, 13, 17, 21],\n",
       "       [13, 17, 24, 28],\n",
       "       [24, 17, 21, 18],\n",
       "       [17, 21, 25, 29],\n",
       "       [21, 25, 32,  4],\n",
       "       [32, 25, 29, 26],\n",
       "       [ 9,  5,  2, 30],\n",
       "       [ 5,  2,  6,  3],\n",
       "       [26, 30,  2,  6],\n",
       "       [ 2,  6, 10, 14],\n",
       "       [ 6, 10, 13, 17],\n",
       "       [13, 10, 14, 11],\n",
       "       [10, 14, 18, 22],\n",
       "       [14, 18, 21, 25],\n",
       "       [21, 18, 22, 19],\n",
       "       [18, 22, 26, 30],\n",
       "       [22, 26, 29,  1],\n",
       "       [29, 26, 30, 27],\n",
       "       [10,  6,  3, 31],\n",
       "       [ 6,  3,  7,  4],\n",
       "       [27, 31,  3,  7],\n",
       "       [ 3,  7, 11, 15],\n",
       "       [ 7, 11, 14, 18],\n",
       "       [14, 11, 15, 12],\n",
       "       [11, 15, 19, 23],\n",
       "       [15, 19, 22, 26],\n",
       "       [22, 19, 23, 20],\n",
       "       [19, 23, 27, 31],\n",
       "       [23, 27, 30,  2],\n",
       "       [30, 27, 31, 28],\n",
       "       [11,  7,  4, 32],\n",
       "       [ 1,  8,  4,  7],\n",
       "       [ 8,  4, 32, 28],\n",
       "       [16, 12,  8,  4],\n",
       "       [ 8, 12, 15, 19],\n",
       "       [ 9, 16, 12, 15],\n",
       "       [24, 20, 16, 12],\n",
       "       [16, 20, 23, 27],\n",
       "       [17, 24, 20, 23],\n",
       "       [32, 28, 24, 20],\n",
       "       [24, 28, 31,  3],\n",
       "       [25, 32, 28, 31]])"
      ]
     },
     "execution_count": 64,
     "metadata": {},
     "output_type": "execute_result"
    }
   ],
   "source": []
  },
  {
   "cell_type": "code",
   "execution_count": 29,
   "id": "attractive-humor",
   "metadata": {},
   "outputs": [
    {
     "name": "stdout",
     "output_type": "stream",
     "text": [
      "2\n"
     ]
    }
   ],
   "source": [
    "ma = nk.machine.RbmDimer(hi, hex_, alpha = 2, symmetry = True\n",
    "                    ,use_hidden_bias = False, use_visible_bias = False, dtype=float, reverse=True, half=True)\n",
    "ma.init_random_parameters(seed=1234)\n",
    "\n",
    "ma.hex.ad2o_o = ad2o_o.astype(np.int64)\n",
    "ma.hex.ad2_bool = ad2_bool\n",
    "\n",
    "ma._ws[:] = np.random.normal(0, 1e-3)\n",
    "ma._set_bare_parameters(\n",
    "    ma._a, ma._b, ma._w, ma._as, ma._bs, ma._ws, ma._autom, ma._z2\n",
    ")"
   ]
  },
  {
   "cell_type": "code",
   "execution_count": 30,
   "id": "informed-music",
   "metadata": {
    "scrolled": true
   },
   "outputs": [
    {
     "name": "stdout",
     "output_type": "stream",
     "text": [
      "yoyo\n",
      "number of core : 8\n",
      "transtion1\n",
      "transtion1\n",
      "transtion1\n",
      "transtion1\n",
      "transtion1\n",
      "transtion1\n",
      "transtion1\n",
      "transtion1\n",
      "discard =  144\n"
     ]
    }
   ],
   "source": [
    "V = 1\n",
    "h = 1\n",
    "\n",
    "ham = f.dimer_hamiltonian(V = V, h = h ,length=np.array(length))\n",
    "\n",
    "\n",
    "n_jobs = 8\n",
    "sa_mul = nk.sampler.DimerMetropolisLocal_multi(machine=ma, op=op2\n",
    "    , length = length, n_chains=n_chains, sweep_size = sweep_size*4, kernel = 1, n_jobs=n_jobs, transition = 1)\n",
    "\n",
    "sr = nk.optimizer.SR(ma, diag_shift=5e-3)\n",
    "opt = nk.optimizer.Sgd(ma, learning_rate=0.05, decay_factor = decay_factor ,N = n_iter)\n",
    "\n",
    "gs = nk.Vmc(\n",
    "hamiltonian=ham,\n",
    "sampler=sa_mul,\n",
    "optimizer=opt,\n",
    "n_samples=10**3,\n",
    "sr=sr,\n",
    "n_discard=12*12,\n",
    ")\n",
    "\n",
    "\n",
    "# gs.run(n_iter=1000)\n",
    "# ma.save(parentdir + '/save/ma/'+name)"
   ]
  },
  {
   "cell_type": "code",
   "execution_count": 31,
   "id": "received-inspector",
   "metadata": {},
   "outputs": [],
   "source": [
    "sweep_size = 1000\n",
    "sa_mul.reset()\n",
    "_ = sa_mul.generate_samples(1000) # discard the begginings of metropolis sampling."
   ]
  },
  {
   "cell_type": "code",
   "execution_count": 32,
   "id": "biological-arthritis",
   "metadata": {},
   "outputs": [],
   "source": [
    "gs._samples = sa_mul.generate_samples(10000)"
   ]
  },
  {
   "cell_type": "code",
   "execution_count": 33,
   "id": "direct-receiver",
   "metadata": {},
   "outputs": [
    {
     "data": {
      "text/plain": [
       "(10000, 1, 32)"
      ]
     },
     "execution_count": 33,
     "metadata": {},
     "output_type": "execute_result"
    }
   ],
   "source": [
    "gs._samples.shape"
   ]
  },
  {
   "cell_type": "code",
   "execution_count": 34,
   "id": "static-nomination",
   "metadata": {},
   "outputs": [
    {
     "name": "stdout",
     "output_type": "stream",
     "text": [
      "     prepare getting local values 0.006664276123046875\n",
      "     obtained local values 0.0409238338470459\n"
     ]
    }
   ],
   "source": [
    "eloc, gs._loss_stats = gs._get_mc_stats(gs._ham)\n"
   ]
  },
  {
   "cell_type": "code",
   "execution_count": 35,
   "id": "headed-development",
   "metadata": {},
   "outputs": [
    {
     "data": {
      "text/plain": [
       "0.0000022+0.0000000j ± 0.0000016 [σ²=0.0000000]"
      ]
     },
     "execution_count": 35,
     "metadata": {},
     "output_type": "execute_result"
    }
   ],
   "source": [
    "gs._loss_stats"
   ]
  },
  {
   "cell_type": "code",
   "execution_count": 9,
   "id": "vanilla-parker",
   "metadata": {},
   "outputs": [
    {
     "data": {
      "text/plain": [
       "<numba.experimental.jitclass.boxing._DimerLocalKernel_1 at 0x7f26284362f0>"
      ]
     },
     "execution_count": 9,
     "metadata": {},
     "output_type": "execute_result"
    }
   ],
   "source": [
    "sa_mul.sa_list[0]._kernel"
   ]
  },
  {
   "cell_type": "code",
   "execution_count": null,
   "id": "vocal-pharmaceutical",
   "metadata": {},
   "outputs": [],
   "source": []
  }
 ],
 "metadata": {
  "kernelspec": {
   "display_name": "Python 3",
   "language": "python",
   "name": "python3"
  },
  "language_info": {
   "codemirror_mode": {
    "name": "ipython",
    "version": 3
   },
   "file_extension": ".py",
   "mimetype": "text/x-python",
   "name": "python",
   "nbconvert_exporter": "python",
   "pygments_lexer": "ipython3",
   "version": "3.8.5"
  }
 },
 "nbformat": 4,
 "nbformat_minor": 5
}
