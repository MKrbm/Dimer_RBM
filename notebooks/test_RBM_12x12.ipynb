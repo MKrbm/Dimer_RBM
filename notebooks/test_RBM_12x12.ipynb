{
 "cells": [
  {
   "cell_type": "code",
   "execution_count": 1,
   "id": "vital-packaging",
   "metadata": {},
   "outputs": [],
   "source": [
    "import sys\n",
    "import importlib\n",
    "importlib.reload(sys)\n",
    "sys.path.insert(0,'../')\n",
    "import numpy as np\n",
    "import netket as nk\n",
    "from scripts import functions as f\n",
    "from scripts import new_dynamics, new_dynamics2\n",
    "import os\n",
    "currentpath = os.getcwd()\n",
    "parentdir = os.path.dirname(currentpath)\n",
    "from conf import *"
   ]
  },
  {
   "cell_type": "code",
   "execution_count": 2,
   "id": "august-shark",
   "metadata": {},
   "outputs": [
    {
     "data": {
      "text/plain": [
       "<module 'netket' from '../netket/__init__.py'>"
      ]
     },
     "execution_count": 2,
     "metadata": {},
     "output_type": "execute_result"
    }
   ],
   "source": [
    "importlib.reload(nk)"
   ]
  },
  {
   "cell_type": "code",
   "execution_count": 3,
   "id": "wrapped-basketball",
   "metadata": {},
   "outputs": [],
   "source": [
    "length = [4, 4]\n",
    "hex_ = nk.machine.new_hex(np.array(length))\n",
    "\n",
    "kernel = 1\n",
    "# sweep_size = 200\n",
    "decay_factor = 1  # or 'sigmoid decay'\n",
    "\n",
    "\n",
    "\n",
    "g = nk.graph.Graph(nodes = [i for i in range(length[0] * length[1] * 2)])\n",
    "hi = nk.hilbert.Spin(s=0.5, graph=g)\n",
    "\n",
    "\n",
    "\n",
    "op_transition1 = f.dimer_flip1(length = np.array(length))\n"
   ]
  },
  {
   "cell_type": "code",
   "execution_count": 4,
   "id": "labeled-feeding",
   "metadata": {},
   "outputs": [
    {
     "name": "stdout",
     "output_type": "stream",
     "text": [
      "2\n"
     ]
    }
   ],
   "source": [
    "ma = nk.machine.RbmDimer(hi, hex_, alpha = 2, symmetry = True\n",
    "                    ,use_hidden_bias = False, use_visible_bias = False, dtype=float, reverse=True, half=True)\n",
    "ma.init_random_parameters(seed=1234)"
   ]
  },
  {
   "cell_type": "code",
   "execution_count": 5,
   "id": "ongoing-annex",
   "metadata": {},
   "outputs": [
    {
     "name": "stdout",
     "output_type": "stream",
     "text": [
      "yoyo\n",
      "number of core : 12\n"
     ]
    }
   ],
   "source": [
    "V = 1.0\n",
    "h = 1.0\n",
    "\n",
    "ham = f.dimer_hamiltonian(V = V, h = h ,length=np.array(length))\n",
    "\n",
    "\n",
    "n_jobs = 12\n",
    "sa_mul = nk.sampler.DimerMetropolisLocal_multi(machine=ma, op=op_transition1\n",
    "    , length = length, n_chains=n_chains, sweep_size = sweep_size, kernel = 1, n_jobs=n_jobs)\n",
    "sampler = sa_mul.sa_list[0]"
   ]
  },
  {
   "cell_type": "code",
   "execution_count": 6,
   "id": "standard-identification",
   "metadata": {
    "scrolled": true
   },
   "outputs": [
    {
     "name": "stdout",
     "output_type": "stream",
     "text": [
      "56.7 ms ± 521 µs per loop (mean ± std. dev. of 7 runs, 10 loops each)\n"
     ]
    }
   ],
   "source": [
    "%timeit sampler.__next__()"
   ]
  },
  {
   "cell_type": "code",
   "execution_count": 12,
   "id": "recognized-question",
   "metadata": {},
   "outputs": [
    {
     "data": {
      "text/plain": [
       "(288, 576)"
      ]
     },
     "execution_count": 12,
     "metadata": {},
     "output_type": "execute_result"
    }
   ],
   "source": [
    "ma._w.shape"
   ]
  },
  {
   "cell_type": "code",
   "execution_count": 13,
   "id": "linear-multimedia",
   "metadata": {},
   "outputs": [
    {
     "data": {
      "text/plain": [
       "(1, 288)"
      ]
     },
     "execution_count": 13,
     "metadata": {},
     "output_type": "execute_result"
    }
   ],
   "source": [
    "state.shape"
   ]
  },
  {
   "cell_type": "code",
   "execution_count": 10,
   "id": "broke-beast",
   "metadata": {},
   "outputs": [
    {
     "name": "stdout",
     "output_type": "stream",
     "text": [
      "57.3 ms ± 480 µs per loop (mean ± std. dev. of 7 runs, 10 loops each)\n"
     ]
    }
   ],
   "source": [
    "import numpy as np\n",
    "kernel = sampler._kernel.transition\n",
    "sweep_size = np.random.randint(0, 10) + sampler.sweep_size\n",
    "\n",
    "state = sampler._state\n",
    "state1 = sampler._state1\n",
    "%timeit accepted = kernel(state, state1, sampler._w, None, sweep_size)"
   ]
  },
  {
   "cell_type": "code",
   "execution_count": 18,
   "id": "infrared-oxygen",
   "metadata": {
    "scrolled": true
   },
   "outputs": [
    {
     "name": "stdout",
     "output_type": "stream",
     "text": [
      "xs_n 1  n_conn 0\n",
      "xs_n 0  n_conn 0\n",
      "xs_n 0  n_conn 0\n",
      "xs_n 1  n_conn 0\n",
      "xs_n 0  n_conn 0\n",
      "xs_n 0  n_conn 0\n",
      "xs_n 0  n_conn 0\n",
      "xs_n 0  n_conn 0\n",
      "xs_n 0  n_conn 0\n",
      "xs_n 8  n_conn 0\n",
      "xs_n 3  n_conn 0\n",
      "xs_n 12  n_conn 0\n",
      "xs_n 7  n_conn 0\n",
      "xs_n 7  n_conn 0\n",
      "xs_n 15  n_conn 0\n",
      "xs_n 14  n_conn 0\n",
      "xs_n 15  n_conn 0\n",
      "xs_n 15  n_conn 0\n",
      "xs_n 15  n_conn 0\n",
      "xs_n 15  n_conn 0\n",
      "xs_n 15  n_conn 0\n",
      "xs_n 7  n_conn 0\n",
      "xs_n 12  n_conn 0\n",
      "xs_n 3  n_conn 0\n",
      "xs_n 8  n_conn 0\n",
      "xs_n 8  n_conn 0\n",
      "xs_n 0  n_conn 0\n",
      "xs_n 1  n_conn 0\n",
      "xs_n 0  n_conn 0\n",
      "xs_n 0  n_conn 0\n",
      "xs_n 0  n_conn 0\n",
      "xs_n 0  n_conn 0\n",
      "xs_n 0  n_conn 0\n",
      "xs_n 8  n_conn 0\n",
      "xs_n 3  n_conn 0\n",
      "xs_n 4  n_conn 0\n",
      "xs_n 4  n_conn 0\n",
      "xs_n 3  n_conn 0\n",
      "xs_n 7  n_conn 0\n",
      "xs_n 6  n_conn 0\n",
      "xs_n 12  n_conn 0\n",
      "xs_n 3  n_conn 0\n",
      "xs_n 8  n_conn 0\n",
      "xs_n 0  n_conn 0\n",
      "xs_n 0  n_conn 0\n",
      "xs_n 1  n_conn 0\n",
      "xs_n 0  n_conn 0\n",
      "xs_n 0  n_conn 0\n",
      "xs_n 0  n_conn 0\n",
      "xs_n 0  n_conn 0\n",
      "xs_n 0  n_conn 0\n",
      "xs_n 8  n_conn 0\n",
      "xs_n 3  n_conn 0\n",
      "xs_n 4  n_conn 0\n",
      "xs_n 4  n_conn 0\n",
      "xs_n 3  n_conn 0\n",
      "xs_n 7  n_conn 0\n",
      "xs_n 6  n_conn 0\n",
      "xs_n 12  n_conn 0\n",
      "xs_n 3  n_conn 0\n",
      "xs_n 9  n_conn 0\n",
      "xs_n 0  n_conn 0\n",
      "xs_n 0  n_conn 0\n",
      "xs_n 9  n_conn 0\n",
      "xs_n 3  n_conn 0\n",
      "xs_n 12  n_conn 0\n",
      "xs_n 6  n_conn 0\n",
      "xs_n 15  n_conn 0\n",
      "xs_n 14  n_conn 0\n",
      "xs_n 6  n_conn 0\n",
      "xs_n 12  n_conn 0\n",
      "xs_n 2  n_conn 0\n",
      "xs_n 0  n_conn 0\n",
      "xs_n 0  n_conn 0\n",
      "xs_n 0  n_conn 0\n",
      "xs_n 0  n_conn 0\n",
      "xs_n 0  n_conn 0\n",
      "xs_n 0  n_conn 0\n",
      "xs_n 1  n_conn 0\n",
      "xs_n 0  n_conn 0\n",
      "xs_n 0  n_conn 0\n",
      "xs_n 8  n_conn 0\n",
      "xs_n 3  n_conn 0\n",
      "xs_n 12  n_conn 0\n",
      "xs_n 7  n_conn 1\n",
      "xs_n 15  n_conn 0\n",
      "xs_n 15  n_conn 0\n",
      "xs_n 14  n_conn 0\n",
      "xs_n 14  n_conn 0\n",
      "xs_n 15  n_conn 0\n",
      "xs_n 14  n_conn 0\n",
      "xs_n 14  n_conn 0\n",
      "xs_n 12  n_conn 0\n",
      "xs_n 3  n_conn 0\n",
      "xs_n 8  n_conn 0\n",
      "xs_n 0  n_conn 0\n",
      "xs_n 0  n_conn 0\n",
      "xs_n 0  n_conn 0\n",
      "xs_n 0  n_conn 0\n",
      "xs_n 0  n_conn 0\n",
      "xs_n 1  n_conn 0\n",
      "xs_n 0  n_conn 0\n",
      "xs_n 1  n_conn 0\n",
      "xs_n 1  n_conn 0\n",
      "xs_n 3  n_conn 0\n",
      "xs_n 12  n_conn 0\n",
      "xs_n 7  n_conn 0\n",
      "xs_n 15  n_conn 0\n",
      "xs_n 14  n_conn 0\n",
      "xs_n 15  n_conn 0\n",
      "xs_n 15  n_conn 0\n",
      "xs_n 7  n_conn 0\n",
      "xs_n 12  n_conn 0\n",
      "xs_n 3  n_conn 0\n",
      "xs_n 8  n_conn 1\n",
      "xs_n 0  n_conn 0\n",
      "xs_n 0  n_conn 0\n",
      "xs_n 1  n_conn 0\n",
      "xs_n 1  n_conn 0\n",
      "xs_n 0  n_conn 0\n",
      "xs_n 1  n_conn 0\n",
      "xs_n 1  n_conn 0\n",
      "xs_n 3  n_conn 0\n",
      "xs_n 12  n_conn 0\n",
      "xs_n 6  n_conn 1\n",
      "xs_n 15  n_conn 0\n",
      "xs_n 14  n_conn 0\n",
      "xs_n 14  n_conn 0\n",
      "xs_n 12  n_conn 0\n",
      "xs_n 3  n_conn 0\n",
      "xs_n 8  n_conn 0\n",
      "xs_n 0  n_conn 0\n",
      "xs_n 1  n_conn 0\n",
      "xs_n 0  n_conn 0\n",
      "xs_n 0  n_conn 0\n",
      "xs_n 0  n_conn 0\n",
      "xs_n 0  n_conn 0\n",
      "xs_n 8  n_conn 0\n",
      "xs_n 2  n_conn 0\n",
      "xs_n 12  n_conn 0\n",
      "xs_n 9  n_conn 1\n",
      "xs_n 0  n_conn 0\n",
      "xs_n 0  n_conn 0\n",
      "xs_n 1  n_conn 0\n",
      "xs_n 1  n_conn 0\n",
      "xs_n 0  n_conn 0\n",
      "xs_n 0  n_conn 0\n",
      "xs_n 1  n_conn 0\n",
      "xs_n 0  n_conn 0\n",
      "xs_n 0  n_conn 0\n",
      "xs_n 1  n_conn 1\n",
      "xs_n 0  n_conn 0\n",
      "xs_n 0  n_conn 0\n",
      "xs_n 8  n_conn 0\n",
      "xs_n 3  n_conn 0\n",
      "xs_n 12  n_conn 0\n",
      "xs_n 7  n_conn 0\n",
      "xs_n 15  n_conn 0\n",
      "xs_n 14  n_conn 0\n",
      "xs_n 6  n_conn 0\n",
      "xs_n 12  n_conn 0\n",
      "xs_n 2  n_conn 0\n",
      "xs_n 8  n_conn 0\n",
      "xs_n 8  n_conn 0\n",
      "xs_n 0  n_conn 0\n",
      "xs_n 1  n_conn 0\n",
      "xs_n 0  n_conn 0\n",
      "xs_n 0  n_conn 0\n",
      "xs_n 0  n_conn 0\n",
      "xs_n 0  n_conn 0\n",
      "xs_n 0  n_conn 0\n",
      "xs_n 8  n_conn 0\n",
      "xs_n 2  n_conn 0\n",
      "xs_n 12  n_conn 0\n",
      "xs_n 7  n_conn 0\n",
      "xs_n 6  n_conn 1\n",
      "xs_n 12  n_conn 0\n",
      "xs_n 10  n_conn 0\n",
      "xs_n 11  n_conn 0\n",
      "xs_n 12  n_conn 0\n",
      "xs_n 6  n_conn 0\n",
      "xs_n 15  n_conn 0\n",
      "xs_n 14  n_conn 0\n",
      "xs_n 6  n_conn 0\n",
      "xs_n 12  n_conn 0\n",
      "xs_n 2  n_conn 0\n",
      "xs_n 8  n_conn 0\n",
      "xs_n 0  n_conn 0\n",
      "xs_n 0  n_conn 0\n",
      "xs_n 9  n_conn 0\n",
      "xs_n 3  n_conn 0\n",
      "xs_n 12  n_conn 0\n",
      "xs_n 7  n_conn 0\n",
      "xs_n 7  n_conn 0\n",
      "xs_n 14  n_conn 0\n",
      "xs_n 6  n_conn 0\n",
      "xs_n 12  n_conn 0\n",
      "xs_n 2  n_conn 0\n",
      "xs_n 8  n_conn 0\n",
      "xs_n 8  n_conn 0\n",
      "xs_n 0  n_conn 0\n",
      "xs_n 1  n_conn 0\n",
      "xs_n 0  n_conn 0\n",
      "xs_n 0  n_conn 0\n",
      "xs_n 0  n_conn 0\n",
      "xs_n 0  n_conn 0\n",
      "xs_n 0  n_conn 0\n",
      "xs_n 8  n_conn 0\n",
      "xs_n 3  n_conn 0\n",
      "xs_n 4  n_conn 0\n",
      "xs_n 4  n_conn 0\n",
      "xs_n 3  n_conn 0\n",
      "xs_n 6  n_conn 1\n",
      "xs_n 6  n_conn 0\n",
      "xs_n 12  n_conn 0\n",
      "xs_n 2  n_conn 0\n",
      "xs_n 0  n_conn 0\n",
      "xs_n 0  n_conn 0\n",
      "xs_n 0  n_conn 0\n",
      "xs_n 0  n_conn 0\n",
      "xs_n 0  n_conn 0\n",
      "xs_n 0  n_conn 0\n",
      "xs_n 1  n_conn 0\n",
      "xs_n 0  n_conn 0\n",
      "xs_n 1  n_conn 0\n",
      "xs_n 0  n_conn 0\n",
      "xs_n 0  n_conn 0\n",
      "xs_n 9  n_conn 1\n",
      "xs_n 2  n_conn 0\n",
      "xs_n 12  n_conn 0\n",
      "xs_n 8  n_conn 0\n",
      "xs_n 0  n_conn 0\n",
      "xs_n 0  n_conn 0\n",
      "xs_n 0  n_conn 0\n",
      "xs_n 0  n_conn 0\n",
      "xs_n 0  n_conn 0\n",
      "xs_n 0  n_conn 0\n",
      "xs_n 0  n_conn 0\n",
      "xs_n 0  n_conn 0\n",
      "xs_n 0  n_conn 0\n",
      "xs_n 1  n_conn 0\n",
      "xs_n 0  n_conn 0\n",
      "xs_n 0  n_conn 0\n",
      "xs_n 0  n_conn 0\n",
      "xs_n 0  n_conn 0\n",
      "xs_n 0  n_conn 0\n",
      "xs_n 1  n_conn 0\n",
      "xs_n 8  n_conn 0\n",
      "xs_n 1  n_conn 0\n",
      "xs_n 0  n_conn 0\n",
      "xs_n 0  n_conn 0\n",
      "xs_n 9  n_conn 1\n",
      "xs_n 2  n_conn 0\n",
      "xs_n 12  n_conn 0\n",
      "xs_n 8  n_conn 0\n",
      "xs_n 0  n_conn 0\n",
      "xs_n 0  n_conn 0\n",
      "xs_n 0  n_conn 0\n",
      "xs_n 1  n_conn 0\n",
      "xs_n 0  n_conn 0\n",
      "xs_n 0  n_conn 0\n",
      "xs_n 0  n_conn 0\n",
      "xs_n 0  n_conn 0\n",
      "xs_n 8  n_conn 0\n",
      "xs_n 2  n_conn 0\n",
      "xs_n 12  n_conn 0\n",
      "xs_n 8  n_conn 0\n",
      "xs_n 0  n_conn 0\n",
      "xs_n 0  n_conn 0\n",
      "xs_n 0  n_conn 0\n",
      "xs_n 0  n_conn 0\n",
      "xs_n 0  n_conn 0\n",
      "xs_n 0  n_conn 0\n",
      "xs_n 0  n_conn 0\n",
      "xs_n 0  n_conn 0\n",
      "xs_n 0  n_conn 0\n",
      "xs_n 1  n_conn 0\n",
      "xs_n 0  n_conn 0\n",
      "xs_n 1  n_conn 0\n",
      "xs_n 0  n_conn 0\n",
      "xs_n 0  n_conn 0\n",
      "xs_n 9  n_conn 1\n",
      "xs_n 2  n_conn 0\n",
      "xs_n 12  n_conn 0\n",
      "xs_n 8  n_conn 0\n",
      "xs_n 0  n_conn 0\n",
      "xs_n 0  n_conn 0\n",
      "xs_n 0  n_conn 0\n",
      "xs_n 1  n_conn 0\n",
      "xs_n 0  n_conn 0\n",
      "xs_n 1  n_conn 0\n",
      "xs_n 9  n_conn 0\n",
      "xs_n 3  n_conn 0\n",
      "xs_n 5  n_conn 1\n",
      "xs_n 4  n_conn 0\n",
      "xs_n 3  n_conn 0\n",
      "xs_n 7  n_conn 0\n",
      "xs_n 6  n_conn 0\n",
      "xs_n 13  n_conn 0\n",
      "xs_n 3  n_conn 0\n",
      "xs_n 8  n_conn 0\n",
      "xs_n 1  n_conn 0\n",
      "xs_n 3  n_conn 0\n",
      "xs_n 5  n_conn 0\n",
      "xs_n 5  n_conn 1\n",
      "xs_n 3  n_conn 0\n",
      "xs_n 8  n_conn 0\n",
      "xs_n 1  n_conn 0\n",
      "xs_n 3  n_conn 0\n",
      "xs_n 5  n_conn 0\n",
      "xs_n 4  n_conn 0\n",
      "xs_n 3  n_conn 0\n",
      "xs_n 8  n_conn 0\n",
      "xs_n 0  n_conn 0\n",
      "xs_n 0  n_conn 0\n",
      "xs_n 9  n_conn 0\n",
      "xs_n 3  n_conn 0\n",
      "xs_n 4  n_conn 0\n",
      "xs_n 4  n_conn 0\n",
      "xs_n 3  n_conn 0\n",
      "xs_n 7  n_conn 0\n",
      "xs_n 6  n_conn 0\n",
      "xs_n 13  n_conn 0\n",
      "xs_n 3  n_conn 0\n",
      "xs_n 8  n_conn 0\n",
      "xs_n 1  n_conn 0\n",
      "xs_n 3  n_conn 0\n",
      "xs_n 5  n_conn 0\n",
      "xs_n 5  n_conn 1\n",
      "xs_n 3  n_conn 0\n",
      "xs_n 8  n_conn 0\n",
      "xs_n 1  n_conn 0\n",
      "xs_n 3  n_conn 0\n",
      "xs_n 5  n_conn 0\n",
      "xs_n 5  n_conn 1\n",
      "xs_n 3  n_conn 0\n",
      "xs_n 8  n_conn 0\n",
      "xs_n 1  n_conn 0\n",
      "xs_n 3  n_conn 0\n",
      "xs_n 5  n_conn 0\n",
      "xs_n 4  n_conn 0\n",
      "xs_n 3  n_conn 0\n",
      "xs_n 8  n_conn 0\n",
      "xs_n 0  n_conn 0\n",
      "xs_n 1  n_conn 0\n",
      "xs_n 9  n_conn 0\n",
      "xs_n 3  n_conn 0\n",
      "xs_n 5  n_conn 1\n",
      "xs_n 4  n_conn 0\n",
      "xs_n 3  n_conn 0\n",
      "xs_n 7  n_conn 0\n",
      "xs_n 6  n_conn 0\n",
      "xs_n 13  n_conn 0\n",
      "xs_n 3  n_conn 0\n",
      "xs_n 8  n_conn 0\n",
      "xs_n 1  n_conn 0\n",
      "xs_n 3  n_conn 0\n",
      "xs_n 5  n_conn 0\n",
      "xs_n 4  n_conn 0\n",
      "xs_n 3  n_conn 0\n",
      "xs_n 11  n_conn 0\n",
      "xs_n 12  n_conn 0\n",
      "xs_n 7  n_conn 0\n",
      "xs_n 15  n_conn 0\n",
      "xs_n 15  n_conn 0\n",
      "xs_n 15  n_conn 0\n",
      "xs_n 14  n_conn 0\n",
      "xs_n 15  n_conn 0\n",
      "xs_n 15  n_conn 0\n",
      "xs_n 15  n_conn 0\n",
      "xs_n 15  n_conn 0\n",
      "xs_n 15  n_conn 0\n",
      "xs_n 14  n_conn 0\n",
      "xs_n 7  n_conn 0\n",
      "xs_n 14  n_conn 0\n",
      "xs_n 15  n_conn 0\n",
      "xs_n 15  n_conn 0\n",
      "xs_n 14  n_conn 0\n",
      "xs_n 14  n_conn 0\n",
      "xs_n 7  n_conn 0\n",
      "xs_n 15  n_conn 0\n",
      "xs_n 7  n_conn 0\n",
      "xs_n 12  n_conn 0\n",
      "xs_n 3  n_conn 0\n",
      "xs_n 9  n_conn 0\n",
      "xs_n 0  n_conn 0\n",
      "xs_n 0  n_conn 0\n",
      "xs_n 9  n_conn 1\n",
      "xs_n 3  n_conn 0\n",
      "xs_n 12  n_conn 0\n",
      "xs_n 6  n_conn 0\n",
      "xs_n 15  n_conn 0\n",
      "xs_n 15  n_conn 0\n",
      "xs_n 14  n_conn 0\n",
      "xs_n 15  n_conn 0\n",
      "xs_n 15  n_conn 0\n",
      "xs_n 14  n_conn 0\n",
      "xs_n 7  n_conn 0\n",
      "xs_n 14  n_conn 0\n",
      "xs_n 15  n_conn 0\n",
      "xs_n 15  n_conn 0\n",
      "xs_n 14  n_conn 0\n",
      "xs_n 14  n_conn 0\n",
      "xs_n 7  n_conn 0\n",
      "xs_n 15  n_conn 0\n",
      "xs_n 15  n_conn 0\n",
      "xs_n 15  n_conn 0\n",
      "xs_n 15  n_conn 0\n",
      "xs_n 14  n_conn 0\n",
      "xs_n 7  n_conn 0\n",
      "xs_n 15  n_conn 0\n",
      "xs_n 15  n_conn 0\n",
      "xs_n 15  n_conn 0\n",
      "xs_n 7  n_conn 0\n",
      "xs_n 13  n_conn 0\n",
      "xs_n 3  n_conn 0\n",
      "xs_n 6  n_conn 1\n",
      "xs_n 15  n_conn 0\n",
      "xs_n 15  n_conn 0\n",
      "xs_n 14  n_conn 0\n",
      "xs_n 14  n_conn 0\n",
      "xs_n 15  n_conn 0\n",
      "xs_n 15  n_conn 0\n",
      "xs_n 15  n_conn 0\n",
      "xs_n 15  n_conn 0\n",
      "xs_n 15  n_conn 0\n",
      "xs_n 14  n_conn 0\n",
      "xs_n 7  n_conn 0\n",
      "xs_n 14  n_conn 0\n",
      "xs_n 15  n_conn 0\n",
      "xs_n 15  n_conn 0\n",
      "xs_n 6  n_conn 1\n",
      "xs_n 14  n_conn 0\n",
      "xs_n 7  n_conn 0\n",
      "xs_n 12  n_conn 0\n",
      "xs_n 10  n_conn 0\n",
      "xs_n 11  n_conn 0\n",
      "xs_n 12  n_conn 0\n",
      "xs_n 7  n_conn 0\n",
      "xs_n 15  n_conn 0\n",
      "xs_n 14  n_conn 0\n",
      "xs_n 6  n_conn 0\n",
      "xs_n 12  n_conn 0\n",
      "xs_n 10  n_conn 1\n",
      "xs_n 11  n_conn 0\n",
      "xs_n 12  n_conn 0\n",
      "xs_n 8  n_conn 0\n",
      "xs_n 9  n_conn 0\n",
      "xs_n 3  n_conn 0\n",
      "xs_n 12  n_conn 0\n",
      "xs_n 6  n_conn 0\n",
      "xs_n 15  n_conn 0\n",
      "xs_n 14  n_conn 0\n",
      "xs_n 6  n_conn 0\n",
      "xs_n 12  n_conn 0\n",
      "xs_n 2  n_conn 0\n",
      "xs_n 9  n_conn 0\n",
      "xs_n 0  n_conn 0\n",
      "xs_n 0  n_conn 0\n",
      "xs_n 9  n_conn 0\n",
      "xs_n 3  n_conn 0\n",
      "xs_n 12  n_conn 0\n",
      "xs_n 7  n_conn 0\n",
      "xs_n 15  n_conn 0\n",
      "xs_n 14  n_conn 0\n",
      "xs_n 6  n_conn 0\n",
      "xs_n 12  n_conn 0\n",
      "xs_n 10  n_conn 1\n",
      "xs_n 11  n_conn 0\n",
      "xs_n 12  n_conn 0\n",
      "xs_n 8  n_conn 0\n",
      "xs_n 9  n_conn 0\n",
      "xs_n 3  n_conn 0\n",
      "xs_n 12  n_conn 0\n",
      "xs_n 7  n_conn 0\n",
      "xs_n 15  n_conn 0\n",
      "xs_n 15  n_conn 0\n",
      "xs_n 14  n_conn 0\n",
      "xs_n 15  n_conn 0\n",
      "xs_n 15  n_conn 0\n",
      "xs_n 15  n_conn 0\n",
      "xs_n 15  n_conn 0\n",
      "xs_n 15  n_conn 0\n",
      "xs_n 7  n_conn 0\n",
      "xs_n 12  n_conn 0\n",
      "xs_n 11  n_conn 0\n",
      "xs_n 11  n_conn 0\n",
      "xs_n 12  n_conn 0\n",
      "xs_n 8  n_conn 0\n",
      "xs_n 9  n_conn 0\n",
      "xs_n 3  n_conn 0\n",
      "xs_n 12  n_conn 0\n",
      "xs_n 7  n_conn 0\n",
      "xs_n 15  n_conn 0\n",
      "xs_n 15  n_conn 0\n",
      "xs_n 6  n_conn 0\n",
      "xs_n 12  n_conn 0\n",
      "xs_n 11  n_conn 0\n",
      "xs_n 11  n_conn 0\n",
      "xs_n 12  n_conn 0\n",
      "xs_n 8  n_conn 0\n",
      "xs_n 9  n_conn 0\n",
      "xs_n 2  n_conn 0\n",
      "xs_n 12  n_conn 0\n",
      "xs_n 8  n_conn 0\n",
      "xs_n 1  n_conn 0\n",
      "xs_n 0  n_conn 0\n",
      "xs_n 0  n_conn 0\n",
      "xs_n 0  n_conn 0\n",
      "xs_n 8  n_conn 0\n",
      "xs_n 2  n_conn 0\n",
      "xs_n 12  n_conn 0\n",
      "xs_n 8  n_conn 0\n",
      "xs_n 0  n_conn 0\n",
      "xs_n 0  n_conn 0\n",
      "xs_n 0  n_conn 0\n",
      "xs_n 1  n_conn 0\n",
      "xs_n 0  n_conn 0\n",
      "xs_n 1  n_conn 0\n",
      "xs_n 0  n_conn 0\n",
      "xs_n 0  n_conn 0\n",
      "xs_n 9  n_conn 1\n",
      "xs_n 2  n_conn 0\n",
      "xs_n 12  n_conn 0\n",
      "xs_n 8  n_conn 0\n",
      "xs_n 0  n_conn 0\n",
      "xs_n 0  n_conn 0\n",
      "xs_n 0  n_conn 0\n",
      "xs_n 1  n_conn 0\n",
      "xs_n 0  n_conn 0\n",
      "xs_n 0  n_conn 0\n",
      "xs_n 0  n_conn 0\n",
      "xs_n 0  n_conn 0\n",
      "xs_n 8  n_conn 0\n",
      "xs_n 2  n_conn 0\n",
      "xs_n 12  n_conn 0\n",
      "xs_n 9  n_conn 1\n",
      "xs_n 0  n_conn 0\n",
      "xs_n 0  n_conn 0\n",
      "xs_n 1  n_conn 0\n",
      "xs_n 1  n_conn 0\n",
      "xs_n 0  n_conn 0\n",
      "xs_n 0  n_conn 0\n",
      "xs_n 8  n_conn 0\n",
      "xs_n 3  n_conn 0\n",
      "xs_n 12  n_conn 0\n",
      "xs_n 7  n_conn 1\n",
      "xs_n 15  n_conn 0\n",
      "xs_n 15  n_conn 0\n",
      "xs_n 14  n_conn 0\n",
      "xs_n 14  n_conn 0\n",
      "xs_n 15  n_conn 0\n",
      "xs_n 14  n_conn 0\n",
      "xs_n 14  n_conn 0\n",
      "xs_n 12  n_conn 0\n",
      "xs_n 3  n_conn 0\n",
      "xs_n 9  n_conn 1\n",
      "xs_n 0  n_conn 0\n",
      "xs_n 1  n_conn 0\n",
      "xs_n 1  n_conn 0\n",
      "xs_n 3  n_conn 0\n",
      "xs_n 12  n_conn 0\n",
      "xs_n 7  n_conn 0\n",
      "xs_n 15  n_conn 0\n",
      "xs_n 14  n_conn 0\n",
      "xs_n 15  n_conn 0\n",
      "xs_n 15  n_conn 0\n",
      "xs_n 7  n_conn 0\n",
      "xs_n 12  n_conn 0\n",
      "xs_n 3  n_conn 0\n",
      "xs_n 9  n_conn 0\n",
      "xs_n 0  n_conn 0\n",
      "xs_n 0  n_conn 0\n",
      "xs_n 1  n_conn 0\n",
      "xs_n 0  n_conn 0\n",
      "xs_n 0  n_conn 0\n",
      "xs_n 1  n_conn 0\n",
      "xs_n 8  n_conn 0\n",
      "xs_n 3  n_conn 0\n",
      "xs_n 5  n_conn 0\n",
      "xs_n 4  n_conn 0\n",
      "xs_n 3  n_conn 0\n",
      "xs_n 8  n_conn 0\n",
      "xs_n 0  n_conn 0\n",
      "xs_n 0  n_conn 0\n",
      "xs_n 9  n_conn 0\n",
      "xs_n 3  n_conn 0\n",
      "xs_n 4  n_conn 0\n",
      "xs_n 4  n_conn 0\n",
      "xs_n 3  n_conn 0\n",
      "xs_n 7  n_conn 0\n",
      "xs_n 6  n_conn 0\n",
      "xs_n 13  n_conn 0\n",
      "xs_n 3  n_conn 0\n",
      "xs_n 8  n_conn 0\n",
      "xs_n 1  n_conn 0\n",
      "xs_n 3  n_conn 0\n",
      "xs_n 5  n_conn 0\n",
      "xs_n 4  n_conn 0\n",
      "xs_n 3  n_conn 0\n",
      "xs_n 8  n_conn 0\n",
      "xs_n 0  n_conn 0\n",
      "xs_n 0  n_conn 0\n",
      "xs_n 9  n_conn 0\n",
      "xs_n 3  n_conn 0\n",
      "xs_n 4  n_conn 0\n",
      "xs_n 4  n_conn 0\n",
      "xs_n 3  n_conn 0\n",
      "xs_n 6  n_conn 1\n",
      "xs_n 6  n_conn 0\n",
      "xs_n 12  n_conn 0\n",
      "xs_n 2  n_conn 0\n",
      "xs_n 9  n_conn 0\n",
      "xs_n 0  n_conn 0\n",
      "xs_n 0  n_conn 0\n",
      "xs_n 9  n_conn 0\n",
      "xs_n 3  n_conn 0\n",
      "xs_n 12  n_conn 0\n",
      "xs_n 7  n_conn 0\n",
      "xs_n 15  n_conn 0\n",
      "xs_n 14  n_conn 0\n",
      "xs_n 6  n_conn 0\n",
      "xs_n 12  n_conn 0\n",
      "xs_n 2  n_conn 0\n",
      "xs_n 8  n_conn 0\n",
      "xs_n 8  n_conn 0\n",
      "xs_n 0  n_conn 0\n",
      "xs_n 9  n_conn 0\n",
      "xs_n 3  n_conn 0\n",
      "xs_n 12  n_conn 0\n",
      "xs_n 7  n_conn 0\n",
      "xs_n 7  n_conn 0\n",
      "xs_n 15  n_conn 0\n",
      "xs_n 14  n_conn 0\n",
      "xs_n 15  n_conn 0\n",
      "xs_n 15  n_conn 0\n",
      "xs_n 14  n_conn 1\n",
      "xs_n 15  n_conn 0\n",
      "xs_n 15  n_conn 0\n",
      "xs_n 7  n_conn 0\n",
      "xs_n 13  n_conn 0\n",
      "xs_n 3  n_conn 0\n",
      "xs_n 8  n_conn 0\n",
      "xs_n 1  n_conn 0\n",
      "xs_n 3  n_conn 0\n",
      "xs_n 5  n_conn 0\n",
      "xs_n 5  n_conn 1\n",
      "xs_n 3  n_conn 0\n",
      "xs_n 7  n_conn 0\n",
      "xs_n 6  n_conn 1\n",
      "xs_n 12  n_conn 0\n",
      "xs_n 3  n_conn 0\n",
      "xs_n 9  n_conn 1\n",
      "xs_n 0  n_conn 0\n",
      "xs_n 1  n_conn 0\n",
      "xs_n 1  n_conn 0\n",
      "xs_n 3  n_conn 0\n",
      "xs_n 12  n_conn 0\n",
      "xs_n 7  n_conn 0\n",
      "xs_n 15  n_conn 0\n",
      "xs_n 14  n_conn 0\n",
      "xs_n 15  n_conn 0\n",
      "xs_n 14  n_conn 0\n",
      "xs_n 15  n_conn 0\n",
      "xs_n 15  n_conn 0\n",
      "xs_n 14  n_conn 0\n",
      "xs_n 14  n_conn 0\n",
      "xs_n 7  n_conn 0\n",
      "xs_n 15  n_conn 0\n",
      "xs_n 7  n_conn 0\n",
      "xs_n 12  n_conn 0\n",
      "xs_n 3  n_conn 0\n",
      "xs_n 9  n_conn 0\n",
      "xs_n 0  n_conn 0\n",
      "xs_n 0  n_conn 0\n",
      "xs_n 1  n_conn 0\n",
      "xs_n 0  n_conn 0\n",
      "xs_n 8  n_conn 0\n",
      "xs_n 2  n_conn 0\n",
      "xs_n 12  n_conn 0\n",
      "xs_n 8  n_conn 0\n",
      "xs_n 0  n_conn 0\n",
      "xs_n 0  n_conn 0\n",
      "xs_n 0  n_conn 0\n",
      "xs_n 1  n_conn 0\n",
      "xs_n 0  n_conn 0\n",
      "xs_n 1  n_conn 0\n",
      "xs_n 0  n_conn 0\n",
      "xs_n 0  n_conn 0\n",
      "xs_n 9  n_conn 1\n",
      "xs_n 2  n_conn 0\n",
      "xs_n 12  n_conn 0\n",
      "xs_n 8  n_conn 0\n",
      "xs_n 0  n_conn 0\n",
      "xs_n 1  n_conn 0\n",
      "xs_n 0  n_conn 0\n",
      "xs_n 1  n_conn 0\n",
      "xs_n 1  n_conn 0\n",
      "xs_n 3  n_conn 0\n",
      "xs_n 12  n_conn 0\n",
      "xs_n 7  n_conn 0\n",
      "xs_n 15  n_conn 0\n",
      "xs_n 15  n_conn 0\n",
      "xs_n 15  n_conn 0\n",
      "xs_n 14  n_conn 0\n",
      "xs_n 15  n_conn 0\n",
      "xs_n 15  n_conn 0\n",
      "xs_n 14  n_conn 0\n",
      "xs_n 14  n_conn 0\n",
      "xs_n 15  n_conn 0\n",
      "xs_n 15  n_conn 0\n",
      "xs_n 15  n_conn 0\n",
      "xs_n 15  n_conn 0\n",
      "xs_n 15  n_conn 0\n",
      "xs_n 14  n_conn 0\n",
      "xs_n 7  n_conn 0\n",
      "xs_n 15  n_conn 0\n",
      "xs_n 15  n_conn 0\n",
      "xs_n 14  n_conn 0\n",
      "xs_n 15  n_conn 0\n",
      "xs_n 1  n_conn 0\n",
      "xs_n 1  n_conn 0\n",
      "xs_n 0  n_conn 0\n",
      "xs_n 9  n_conn 0\n",
      "xs_n 3  n_conn 0\n",
      "xs_n 12  n_conn 0\n",
      "xs_n 7  n_conn 0\n",
      "xs_n 7  n_conn 0\n",
      "xs_n 14  n_conn 0\n",
      "xs_n 6  n_conn 0\n",
      "xs_n 12  n_conn 0\n",
      "xs_n 10  n_conn 1\n",
      "xs_n 11  n_conn 0\n",
      "xs_n 12  n_conn 0\n",
      "xs_n 8  n_conn 0\n",
      "xs_n 9  n_conn 0\n",
      "xs_n 3  n_conn 0\n",
      "xs_n 12  n_conn 0\n",
      "xs_n 6  n_conn 0\n",
      "xs_n 15  n_conn 0\n",
      "xs_n 15  n_conn 0\n",
      "xs_n 6  n_conn 0\n",
      "xs_n 13  n_conn 0\n",
      "xs_n 3  n_conn 0\n",
      "xs_n 8  n_conn 0\n",
      "xs_n 1  n_conn 0\n",
      "xs_n 3  n_conn 0\n",
      "xs_n 5  n_conn 0\n",
      "xs_n 4  n_conn 0\n",
      "xs_n 3  n_conn 0\n",
      "xs_n 8  n_conn 0\n",
      "xs_n 0  n_conn 0\n",
      "xs_n 0  n_conn 0\n",
      "xs_n 9  n_conn 0\n",
      "xs_n 3  n_conn 0\n",
      "xs_n 4  n_conn 0\n",
      "xs_n 4  n_conn 0\n",
      "xs_n 3  n_conn 0\n",
      "xs_n 6  n_conn 1\n",
      "xs_n 6  n_conn 0\n",
      "xs_n 12  n_conn 0\n",
      "xs_n 2  n_conn 0\n",
      "xs_n 8  n_conn 0\n",
      "xs_n 0  n_conn 0\n",
      "xs_n 0  n_conn 0\n",
      "xs_n 9  n_conn 0\n",
      "xs_n 3  n_conn 0\n",
      "xs_n 12  n_conn 0\n",
      "xs_n 7  n_conn 0\n",
      "xs_n 7  n_conn 0\n",
      "xs_n 14  n_conn 0\n",
      "xs_n 6  n_conn 0\n",
      "xs_n 12  n_conn 0\n",
      "xs_n 10  n_conn 1\n",
      "xs_n 11  n_conn 0\n",
      "xs_n 12  n_conn 0\n",
      "xs_n 8  n_conn 0\n",
      "xs_n 9  n_conn 0\n",
      "xs_n 2  n_conn 0\n",
      "xs_n 12  n_conn 0\n",
      "xs_n 7  n_conn 0\n",
      "xs_n 14  n_conn 0\n",
      "xs_n 12  n_conn 0\n",
      "xs_n 10  n_conn 0\n",
      "xs_n 11  n_conn 0\n",
      "xs_n 12  n_conn 0\n",
      "xs_n 7  n_conn 0\n",
      "xs_n 15  n_conn 0\n",
      "xs_n 15  n_conn 0\n",
      "xs_n 6  n_conn 0\n",
      "xs_n 12  n_conn 0\n",
      "xs_n 3  n_conn 0\n",
      "xs_n 9  n_conn 0\n",
      "xs_n 0  n_conn 0\n",
      "xs_n 0  n_conn 0\n",
      "xs_n 8  n_conn 0\n",
      "xs_n 0  n_conn 0\n",
      "xs_n 1  n_conn 0\n",
      "xs_n 2  n_conn 0\n",
      "xs_n 12  n_conn 0\n",
      "xs_n 1  n_conn 0\n",
      "xs_n 0  n_conn 0\n",
      "xs_n 8  n_conn 0\n",
      "xs_n 0  n_conn 0\n",
      "xs_n 1  n_conn 0\n",
      "xs_n 1  n_conn 0\n",
      "xs_n 12  n_conn 0\n",
      "xs_n 3  n_conn 0\n",
      "xs_n 14  n_conn 0\n",
      "xs_n 15  n_conn 0\n",
      "xs_n 14  n_conn 0\n",
      "xs_n 15  n_conn 0\n",
      "xs_n 15  n_conn 0\n",
      "xs_n 15  n_conn 0\n",
      "xs_n 7  n_conn 0\n",
      "xs_n 15  n_conn 0\n",
      "xs_n 14  n_conn 0\n",
      "xs_n 6  n_conn 1\n",
      "xs_n 3  n_conn 0\n",
      "xs_n 12  n_conn 0\n",
      "xs_n 1  n_conn 0\n",
      "xs_n 0  n_conn 0\n",
      "xs_n 1  n_conn 0\n",
      "xs_n 0  n_conn 0\n",
      "xs_n 0  n_conn 0\n",
      "xs_n 0  n_conn 0\n",
      "xs_n 0  n_conn 0\n",
      "xs_n 1  n_conn 0\n",
      "xs_n 2  n_conn 0\n",
      "xs_n 12  n_conn 0\n",
      "xs_n 9  n_conn 1\n",
      "xs_n 0  n_conn 0\n",
      "xs_n 0  n_conn 0\n",
      "xs_n 8  n_conn 0\n",
      "xs_n 1  n_conn 0\n",
      "xs_n 0  n_conn 0\n",
      "xs_n 0  n_conn 0\n",
      "xs_n 0  n_conn 0\n",
      "xs_n 0  n_conn 0\n",
      "xs_n 1  n_conn 0\n",
      "xs_n 2  n_conn 0\n",
      "xs_n 12  n_conn 0\n",
      "xs_n 1  n_conn 0\n",
      "xs_n 0  n_conn 0\n",
      "xs_n 0  n_conn 0\n",
      "xs_n 0  n_conn 0\n",
      "xs_n 1  n_conn 0\n",
      "xs_n 0  n_conn 0\n",
      "xs_n 8  n_conn 0\n",
      "xs_n 0  n_conn 0\n",
      "xs_n 0  n_conn 0\n",
      "xs_n 8  n_conn 0\n",
      "xs_n 1  n_conn 0\n",
      "xs_n 8  n_conn 0\n",
      "xs_n 0  n_conn 0\n",
      "xs_n 1  n_conn 0\n",
      "xs_n 12  n_conn 0\n",
      "xs_n 3  n_conn 0\n",
      "xs_n 6  n_conn 0\n",
      "xs_n 15  n_conn 0\n",
      "xs_n 15  n_conn 0\n",
      "xs_n 6  n_conn 1\n",
      "xs_n 3  n_conn 0\n",
      "xs_n 12  n_conn 0\n",
      "CPU times: user 108 ms, sys: 45.1 ms, total: 153 ms\n",
      "Wall time: 116 ms\n"
     ]
    }
   ],
   "source": [
    "%time P_pirime = op_transition1.get_conn(P[0])[0]"
   ]
  },
  {
   "cell_type": "code",
   "execution_count": 24,
   "id": "indie-drink",
   "metadata": {},
   "outputs": [
    {
     "name": "stdout",
     "output_type": "stream",
     "text": [
      "CPU times: user 2.05 ms, sys: 705 µs, total: 2.75 ms\n",
      "Wall time: 221 µs\n"
     ]
    },
    {
     "data": {
      "text/plain": [
       "array([7.78092483+0.j])"
      ]
     },
     "execution_count": 24,
     "metadata": {},
     "output_type": "execute_result"
    }
   ],
   "source": [
    "%time ma.log_val(P[0].reshape(1,-1))"
   ]
  },
  {
   "cell_type": "code",
   "execution_count": 9,
   "id": "practical-sheffield",
   "metadata": {},
   "outputs": [],
   "source": [
    "P = P[:,0,:]"
   ]
  },
  {
   "cell_type": "code",
   "execution_count": 12,
   "id": "regional-verse",
   "metadata": {},
   "outputs": [
    {
     "data": {
      "text/plain": [
       "(288,)"
      ]
     },
     "execution_count": 12,
     "metadata": {},
     "output_type": "execute_result"
    }
   ],
   "source": [
    "(P[1] - P[0]).shape"
   ]
  },
  {
   "cell_type": "code",
   "execution_count": 80,
   "id": "latest-serum",
   "metadata": {},
   "outputs": [
    {
     "data": {
      "text/plain": [
       "array([3.87753514+0.j, 3.87753514+0.j, 3.87753514+0.j, 3.87753514+0.j,\n",
       "       3.87753514+0.j, 3.87753514+0.j, 3.87753514+0.j, 3.87753514+0.j,\n",
       "       3.87753514+0.j, 3.87753514+0.j, 3.87753514+0.j, 3.87753514+0.j,\n",
       "       3.87753514+0.j, 3.87753514+0.j, 3.87753514+0.j, 3.87753514+0.j,\n",
       "       3.87753514+0.j, 3.87753514+0.j, 3.87753514+0.j, 3.87753514+0.j,\n",
       "       3.87753514+0.j, 3.87753514+0.j, 3.87753514+0.j, 3.87753514+0.j,\n",
       "       3.87753514+0.j, 3.87753514+0.j, 3.87753514+0.j, 3.87753514+0.j,\n",
       "       3.87753514+0.j, 3.87753514+0.j, 3.87753514+0.j, 3.87753514+0.j,\n",
       "       3.87753514+0.j, 3.87753514+0.j, 3.87753514+0.j, 3.87753514+0.j,\n",
       "       3.87753514+0.j, 3.87753514+0.j, 3.87753514+0.j, 3.87753514+0.j,\n",
       "       3.87753514+0.j, 3.87753514+0.j, 3.87753514+0.j, 3.87753514+0.j,\n",
       "       3.87753514+0.j, 3.87753514+0.j, 3.87753514+0.j, 3.87753514+0.j,\n",
       "       3.87753514+0.j, 3.87753514+0.j, 3.87753514+0.j, 3.87753514+0.j,\n",
       "       3.87753514+0.j, 3.87753514+0.j, 3.87753514+0.j, 3.87753514+0.j,\n",
       "       3.87753514+0.j, 3.87753514+0.j, 3.87753514+0.j, 3.87753514+0.j,\n",
       "       3.87753514+0.j, 3.87753514+0.j, 3.87753514+0.j, 3.87753514+0.j,\n",
       "       3.87753514+0.j, 3.87753514+0.j, 3.87753514+0.j, 3.87753514+0.j,\n",
       "       3.87753514+0.j, 3.87753514+0.j, 3.87753514+0.j, 3.87753514+0.j,\n",
       "       3.87753514+0.j, 3.87753514+0.j, 3.87753514+0.j, 3.87753514+0.j,\n",
       "       3.87753514+0.j, 3.87753514+0.j, 3.87753514+0.j, 3.87753514+0.j,\n",
       "       3.87753514+0.j, 3.87753514+0.j, 3.87753514+0.j, 3.87753514+0.j,\n",
       "       3.87753514+0.j, 3.87753514+0.j, 3.87753514+0.j, 3.87753514+0.j,\n",
       "       3.87753514+0.j, 3.87753514+0.j, 3.87753514+0.j, 3.87753514+0.j,\n",
       "       3.87753514+0.j, 3.87753514+0.j, 3.87753514+0.j, 3.87753514+0.j,\n",
       "       3.87753514+0.j, 3.87753514+0.j, 3.87753514+0.j, 3.87753514+0.j])"
      ]
     },
     "execution_count": 80,
     "metadata": {},
     "output_type": "execute_result"
    }
   ],
   "source": [
    "ma.log_val(P[:,:])"
   ]
  },
  {
   "cell_type": "code",
   "execution_count": 6,
   "id": "static-domain",
   "metadata": {
    "scrolled": true
   },
   "outputs": [
    {
     "name": "stderr",
     "output_type": "stream",
     "text": [
      "\r",
      "  0%|          | 0/1000 [00:00<?, ?it/s]"
     ]
    },
    {
     "name": "stdout",
     "output_type": "stream",
     "text": [
      "yoyo\n",
      "number of core : 12\n",
      "discard =  144\n",
      "No output specified (out=[apath|nk.logging.JsonLogger(...)]).Running the optimization but not saving the output.\n",
      "n_discard =  144\n",
      "discard samples 0.7303977012634277\n",
      "n_samples_node =  1000\n",
      "generate_samples :  0.43751025199890137\n",
      "     prepare getting local values 0.0016171932220458984\n",
      "     obtained local values 0.6843521595001221\n",
      "get_mc_stats 1.1522746086120605\n"
     ]
    },
    {
     "name": "stderr",
     "output_type": "stream",
     "text": [
      "  0%|          | 1/1000 [00:02<39:24,  2.37s/it, Energy=0.00086+0.00000j ± 0.00096 [σ²=0.00143]]"
     ]
    },
    {
     "name": "stdout",
     "output_type": "stream",
     "text": [
      "--->> cal O and jac  0.04314255714416504\n",
      "compute_update  0.04557037353515625\n",
      "(0.0038192135311345935+0j)\n",
      "n_discard =  144\n",
      "discard samples 0.7534174919128418\n",
      "n_samples_node =  1000\n",
      "generate_samples :  0.4433925151824951\n",
      "     prepare getting local values 0.0013878345489501953\n",
      "     obtained local values 0.004719972610473633\n",
      "get_mc_stats 0.006305694580078125\n"
     ]
    },
    {
     "name": "stderr",
     "output_type": "stream",
     "text": [
      "  0%|          | 2/1000 [00:03<28:25,  1.71s/it, Energy=-0.0001+0.0000j ± 0.0010 [σ²=0.0011]]   "
     ]
    },
    {
     "name": "stdout",
     "output_type": "stream",
     "text": [
      "--->> cal O and jac  0.04190564155578613\n",
      "compute_update  0.04404425621032715\n",
      "(0.003011561477841108+0j)\n",
      "n_discard =  144\n",
      "discard samples 0.7434649467468262\n",
      "n_samples_node =  1000\n",
      "generate_samples :  0.44503283500671387\n",
      "     prepare getting local values 0.0013761520385742188\n",
      "     obtained local values 0.004804134368896484\n",
      "get_mc_stats 0.0066356658935546875\n"
     ]
    },
    {
     "name": "stderr",
     "output_type": "stream",
     "text": [
      "  0%|          | 3/1000 [00:04<24:52,  1.50s/it, Energy=-0.0005+0.0000j ± 0.0011 [σ²=0.0009]]"
     ]
    },
    {
     "name": "stdout",
     "output_type": "stream",
     "text": [
      "--->> cal O and jac  0.04417991638183594\n",
      "compute_update  0.04632711410522461\n",
      "(0.0023274438898583305+0j)\n",
      "n_discard =  144\n",
      "discard samples 0.7539606094360352\n",
      "n_samples_node =  1000\n",
      "generate_samples :  0.4408681392669678\n",
      "     prepare getting local values 0.0014057159423828125\n",
      "     obtained local values 0.004790544509887695\n",
      "get_mc_stats 0.006572246551513672\n"
     ]
    },
    {
     "name": "stderr",
     "output_type": "stream",
     "text": [
      "  0%|          | 4/1000 [00:06<23:11,  1.40s/it, Energy=0.00001+0.00000j ± 0.00077 [σ²=0.00068]]"
     ]
    },
    {
     "name": "stdout",
     "output_type": "stream",
     "text": [
      "--->> cal O and jac  0.03879070281982422\n",
      "compute_update  0.04108381271362305\n",
      "(0.0017909087423015105+0j)\n",
      "n_discard =  144\n",
      "discard samples 0.7458236217498779\n",
      "n_samples_node =  1000\n",
      "generate_samples :  0.44121479988098145\n",
      "     prepare getting local values 0.0013442039489746094\n",
      "     obtained local values 0.004733085632324219\n",
      "get_mc_stats 0.006554126739501953\n"
     ]
    },
    {
     "name": "stderr",
     "output_type": "stream",
     "text": [
      "  0%|          | 5/1000 [00:07<22:13,  1.34s/it, Energy=0.00021+0.00000j ± 0.00073 [σ²=0.00054]]"
     ]
    },
    {
     "name": "stdout",
     "output_type": "stream",
     "text": [
      "--->> cal O and jac  0.0412600040435791\n",
      "compute_update  0.0435638427734375\n",
      "(0.0013649485978910912+0j)\n",
      "n_discard =  144\n",
      "discard samples 0.758366584777832\n",
      "n_samples_node =  1000\n",
      "generate_samples :  0.44594407081604004\n",
      "     prepare getting local values 0.0012509822845458984\n",
      "     obtained local values 0.004504680633544922\n",
      "get_mc_stats 0.006117343902587891\n"
     ]
    },
    {
     "name": "stderr",
     "output_type": "stream",
     "text": [
      "  1%|          | 6/1000 [00:08<21:41,  1.31s/it, Energy=0.00076+0.00000j ± 0.00060 [σ²=0.00044]]"
     ]
    },
    {
     "name": "stdout",
     "output_type": "stream",
     "text": [
      "--->> cal O and jac  0.034998416900634766\n",
      "compute_update  0.037062644958496094\n",
      "(0.0010274023245825015+0j)\n",
      "n_discard =  144\n",
      "discard samples 0.7513308525085449\n",
      "n_samples_node =  1000\n",
      "generate_samples :  0.4677414894104004\n",
      "     prepare getting local values 0.0012221336364746094\n",
      "     obtained local values 0.005462169647216797\n",
      "get_mc_stats 0.007397174835205078\n"
     ]
    },
    {
     "name": "stderr",
     "output_type": "stream",
     "text": [
      "  1%|          | 7/1000 [00:09<21:26,  1.30s/it, Energy=0.00034+0.00000j ± 0.00055 [σ²=0.00037]]"
     ]
    },
    {
     "name": "stdout",
     "output_type": "stream",
     "text": [
      "--->> cal O and jac  0.03656816482543945\n",
      "compute_update  0.03860282897949219\n",
      "(0.000798443537435934+0j)\n",
      "n_discard =  144\n",
      "discard samples 1.015676736831665\n",
      "n_samples_node =  1000\n",
      "generate_samples :  0.5614116191864014\n",
      "     prepare getting local values 0.002712249755859375\n",
      "     obtained local values 0.006669282913208008\n",
      "get_mc_stats 0.009263277053833008\n"
     ]
    },
    {
     "name": "stderr",
     "output_type": "stream",
     "text": [
      "  1%|          | 8/1000 [00:11<23:10,  1.40s/it, Energy=-0.00001+0.00000j ± 0.00070 [σ²=0.00034]]"
     ]
    },
    {
     "name": "stdout",
     "output_type": "stream",
     "text": [
      "--->> cal O and jac  0.04022717475891113\n",
      "compute_update  0.042412519454956055\n",
      "(0.0006808755453923709+0j)\n",
      "n_discard =  144\n",
      "discard samples 0.7338161468505859\n",
      "n_samples_node =  1000\n",
      "generate_samples :  0.4370720386505127\n",
      "     prepare getting local values 0.002329111099243164\n",
      "     obtained local values 0.009046554565429688\n",
      "get_mc_stats 0.011700153350830078\n"
     ]
    },
    {
     "name": "stderr",
     "output_type": "stream",
     "text": [
      "  1%|          | 9/1000 [00:12<22:14,  1.35s/it, Energy=-0.00046+0.00000j ± 0.00052 [σ²=0.00030]]"
     ]
    },
    {
     "name": "stdout",
     "output_type": "stream",
     "text": [
      "--->> cal O and jac  0.039133310317993164\n",
      "compute_update  0.04136800765991211\n",
      "(0.000620361439981899+0j)\n",
      "n_discard =  144\n",
      "discard samples 0.8035573959350586\n",
      "n_samples_node =  1000\n",
      "generate_samples :  0.4370112419128418\n",
      "     prepare getting local values 0.0012557506561279297\n",
      "     obtained local values 0.004572153091430664\n",
      "get_mc_stats 0.0064754486083984375\n"
     ]
    },
    {
     "name": "stderr",
     "output_type": "stream",
     "text": [
      "  1%|          | 10/1000 [00:14<21:55,  1.33s/it, Energy=-0.00075+0.00000j ± 0.00037 [σ²=0.00027]]"
     ]
    },
    {
     "name": "stdout",
     "output_type": "stream",
     "text": [
      "--->> cal O and jac  0.03859424591064453\n",
      "compute_update  0.04077959060668945\n",
      "(0.0006356524974355398+0j)\n",
      "n_discard =  144\n",
      "discard samples 0.738229513168335\n",
      "n_samples_node =  1000\n",
      "generate_samples :  0.4348490238189697\n",
      "     prepare getting local values 0.00128173828125\n",
      "     obtained local values 0.004554271697998047\n",
      "get_mc_stats 0.006259918212890625\n"
     ]
    },
    {
     "name": "stderr",
     "output_type": "stream",
     "text": [
      "  1%|          | 11/1000 [00:15<21:22,  1.30s/it, Energy=0.00001+0.00000j ± 0.00052 [σ²=0.00024]] "
     ]
    },
    {
     "name": "stdout",
     "output_type": "stream",
     "text": [
      "--->> cal O and jac  0.03728055953979492\n",
      "compute_update  0.04082894325256348\n",
      "(0.0007060763833141197+0j)\n",
      "n_discard =  144\n",
      "discard samples 0.7368524074554443\n",
      "n_samples_node =  1000\n",
      "generate_samples :  0.441270112991333\n",
      "     prepare getting local values 0.0013391971588134766\n",
      "     obtained local values 0.004769086837768555\n",
      "get_mc_stats 0.0064847469329833984\n"
     ]
    },
    {
     "name": "stderr",
     "output_type": "stream",
     "text": [
      "  1%|          | 12/1000 [00:16<21:00,  1.28s/it, Energy=0.00050+0.00000j ± 0.00038 [σ²=0.00021]]"
     ]
    },
    {
     "name": "stdout",
     "output_type": "stream",
     "text": [
      "--->> cal O and jac  0.03982400894165039\n",
      "compute_update  0.04277372360229492\n",
      "(0.0008367909049869075+0j)\n",
      "n_discard =  144\n",
      "discard samples 0.7353625297546387\n",
      "n_samples_node =  1000\n",
      "generate_samples :  0.43901896476745605\n",
      "     prepare getting local values 0.002683877944946289\n",
      "     obtained local values 0.006514787673950195\n",
      "get_mc_stats 0.009093999862670898\n"
     ]
    },
    {
     "name": "stderr",
     "output_type": "stream",
     "text": [
      "  1%|▏         | 13/1000 [00:17<20:44,  1.26s/it, Energy=-0.00048+0.00000j ± 0.00048 [σ²=0.00020]]"
     ]
    },
    {
     "name": "stdout",
     "output_type": "stream",
     "text": [
      "--->> cal O and jac  0.03917360305786133\n",
      "compute_update  0.041257381439208984\n",
      "(0.0009999792526847752+0j)\n",
      "n_discard =  144\n",
      "discard samples 0.7342991828918457\n",
      "n_samples_node =  1000\n",
      "generate_samples :  0.4411940574645996\n",
      "     prepare getting local values 0.001371145248413086\n",
      "     obtained local values 0.00477910041809082\n",
      "get_mc_stats 0.006377696990966797\n"
     ]
    },
    {
     "name": "stderr",
     "output_type": "stream",
     "text": [
      "  1%|▏         | 14/1000 [00:18<20:33,  1.25s/it, Energy=0.00017+0.00000j ± 0.00031 [σ²=0.00019]] "
     ]
    },
    {
     "name": "stdout",
     "output_type": "stream",
     "text": [
      "--->> cal O and jac  0.04023289680480957\n",
      "compute_update  0.04309988021850586\n",
      "(0.0011801732657890011+0j)\n",
      "n_discard =  144\n",
      "discard samples 0.7370145320892334\n",
      "n_samples_node =  1000\n",
      "generate_samples :  0.43306684494018555\n",
      "     prepare getting local values 0.001299142837524414\n",
      "     obtained local values 0.00458979606628418\n",
      "get_mc_stats 0.006028413772583008\n"
     ]
    },
    {
     "name": "stderr",
     "output_type": "stream",
     "text": [
      "  2%|▏         | 15/1000 [00:20<20:22,  1.24s/it, Energy=0.00049+0.00000j ± 0.00048 [σ²=0.00018]]"
     ]
    },
    {
     "name": "stdout",
     "output_type": "stream",
     "text": [
      "--->> cal O and jac  0.03817892074584961\n",
      "compute_update  0.04026627540588379\n",
      "(0.0014115097024253688+0j)\n",
      "n_discard =  144\n",
      "discard samples 0.7306406497955322\n",
      "n_samples_node =  1000\n",
      "generate_samples :  0.4373817443847656\n",
      "     prepare getting local values 0.0013375282287597656\n",
      "     obtained local values 0.004815816879272461\n",
      "get_mc_stats 0.0067250728607177734\n"
     ]
    },
    {
     "name": "stderr",
     "output_type": "stream",
     "text": [
      "  2%|▏         | 16/1000 [00:21<20:15,  1.24s/it, Energy=-0.00126+0.00000j ± 0.00040 [σ²=0.00017]]"
     ]
    },
    {
     "name": "stdout",
     "output_type": "stream",
     "text": [
      "--->> cal O and jac  0.04047226905822754\n",
      "compute_update  0.04440140724182129\n",
      "(0.0015808402453840308+0j)\n",
      "n_discard =  144\n",
      "discard samples 0.7318968772888184\n",
      "n_samples_node =  1000\n",
      "generate_samples :  0.44045519828796387\n",
      "     prepare getting local values 0.0018889904022216797\n",
      "     obtained local values 0.0053408145904541016\n",
      "get_mc_stats 0.0074269771575927734\n"
     ]
    },
    {
     "name": "stderr",
     "output_type": "stream",
     "text": [
      "  2%|▏         | 17/1000 [00:22<20:10,  1.23s/it, Energy=-0.00011+0.00000j ± 0.00038 [σ²=0.00016]]"
     ]
    },
    {
     "name": "stdout",
     "output_type": "stream",
     "text": [
      "--->> cal O and jac  0.039910316467285156\n",
      "compute_update  0.04205727577209473\n",
      "(0.0017856984643052744+0j)\n",
      "n_discard =  144\n",
      "discard samples 0.7369885444641113\n",
      "n_samples_node =  1000\n",
      "generate_samples :  0.4411041736602783\n",
      "     prepare getting local values 0.0013649463653564453\n",
      "     obtained local values 0.005007505416870117\n",
      "get_mc_stats 0.0068590641021728516\n"
     ]
    },
    {
     "name": "stderr",
     "output_type": "stream",
     "text": [
      "  2%|▏         | 18/1000 [00:23<20:09,  1.23s/it, Energy=0.00037+0.00000j ± 0.00035 [σ²=0.00014]] "
     ]
    },
    {
     "name": "stdout",
     "output_type": "stream",
     "text": [
      "--->> cal O and jac  0.04442644119262695\n",
      "compute_update  0.046353816986083984\n",
      "(0.0019876334932270212+0j)\n",
      "n_discard =  144\n",
      "discard samples 0.7368893623352051\n",
      "n_samples_node =  1000\n",
      "generate_samples :  0.4383220672607422\n",
      "     prepare getting local values 0.001317739486694336\n",
      "     obtained local values 0.004657745361328125\n",
      "get_mc_stats 0.006460666656494141\n"
     ]
    },
    {
     "name": "stderr",
     "output_type": "stream",
     "text": [
      "  2%|▏         | 19/1000 [00:25<20:05,  1.23s/it, Energy=-0.00002+0.00000j ± 0.00036 [σ²=0.00014]]"
     ]
    },
    {
     "name": "stdout",
     "output_type": "stream",
     "text": [
      "--->> cal O and jac  0.034957170486450195\n",
      "compute_update  0.03791999816894531\n",
      "(0.002191909117600818+0j)\n",
      "n_discard =  144\n",
      "discard samples 0.7358522415161133\n",
      "n_samples_node =  1000\n",
      "generate_samples :  0.4374065399169922\n",
      "     prepare getting local values 0.002216815948486328\n",
      "     obtained local values 0.008432149887084961\n",
      "get_mc_stats 0.011016130447387695\n"
     ]
    },
    {
     "name": "stderr",
     "output_type": "stream",
     "text": [
      "  2%|▏         | 20/1000 [00:26<20:05,  1.23s/it, Energy=-0.00008+0.00000j ± 0.00032 [σ²=0.00013]]"
     ]
    },
    {
     "name": "stdout",
     "output_type": "stream",
     "text": [
      "--->> cal O and jac  0.04310774803161621\n",
      "compute_update  0.04549455642700195\n",
      "(0.0024202654607202033+0j)\n",
      "n_discard =  144\n",
      "discard samples 0.7370083332061768\n",
      "n_samples_node =  1000\n",
      "generate_samples :  0.441295862197876\n",
      "     prepare getting local values 0.002202749252319336\n",
      "     obtained local values 0.008428096771240234\n",
      "get_mc_stats 0.01083683967590332\n"
     ]
    },
    {
     "name": "stderr",
     "output_type": "stream",
     "text": [
      "  2%|▏         | 21/1000 [00:27<20:03,  1.23s/it, Energy=0.00069+0.00000j ± 0.00033 [σ²=0.00012]] "
     ]
    },
    {
     "name": "stdout",
     "output_type": "stream",
     "text": [
      "--->> cal O and jac  0.035320281982421875\n",
      "compute_update  0.037459373474121094\n",
      "(0.002631474789710312+0j)\n",
      "n_discard =  144\n",
      "discard samples 0.7400984764099121\n",
      "n_samples_node =  1000\n",
      "generate_samples :  0.5335774421691895\n",
      "     prepare getting local values 0.0027048587799072266\n",
      "     obtained local values 0.008646011352539062\n",
      "get_mc_stats 0.011284112930297852\n"
     ]
    },
    {
     "name": "stderr",
     "output_type": "stream",
     "text": [
      "  2%|▏         | 22/1000 [00:28<20:31,  1.26s/it, Energy=0.00041+0.00000j ± 0.00035 [σ²=0.00012]]"
     ]
    },
    {
     "name": "stdout",
     "output_type": "stream",
     "text": [
      "--->> cal O and jac  0.0407717227935791\n",
      "compute_update  0.0428166389465332\n",
      "(0.0028415582024649702+0j)\n",
      "n_discard =  144\n",
      "discard samples 0.7402322292327881\n",
      "n_samples_node =  1000\n",
      "generate_samples :  0.4386012554168701\n",
      "     prepare getting local values 0.0023953914642333984\n",
      "     obtained local values 0.008671045303344727\n",
      "get_mc_stats 0.011189699172973633\n"
     ]
    },
    {
     "name": "stderr",
     "output_type": "stream",
     "text": [
      "  2%|▏         | 23/1000 [00:30<20:22,  1.25s/it, Energy=0.00032+0.00000j ± 0.00027 [σ²=0.00012]]"
     ]
    },
    {
     "name": "stdout",
     "output_type": "stream",
     "text": [
      "--->> cal O and jac  0.03770256042480469\n",
      "compute_update  0.03979825973510742\n",
      "(0.002991923555588873+0j)\n",
      "n_discard =  144\n",
      "discard samples 0.7405393123626709\n",
      "n_samples_node =  1000\n",
      "generate_samples :  0.44069552421569824\n",
      "     prepare getting local values 0.0013988018035888672\n",
      "     obtained local values 0.0048694610595703125\n",
      "get_mc_stats 0.006803989410400391\n"
     ]
    },
    {
     "name": "stderr",
     "output_type": "stream",
     "text": [
      "  2%|▏         | 24/1000 [00:31<20:16,  1.25s/it, Energy=-0.00033+0.00000j ± 0.00034 [σ²=0.00011]]"
     ]
    },
    {
     "name": "stdout",
     "output_type": "stream",
     "text": [
      "--->> cal O and jac  0.04117441177368164\n",
      "compute_update  0.04460620880126953\n",
      "(0.0031809259919694014+0j)\n",
      "n_discard =  144\n",
      "discard samples 0.734839916229248\n",
      "n_samples_node =  1000\n",
      "generate_samples :  0.4415171146392822\n",
      "     prepare getting local values 0.0013744831085205078\n",
      "     obtained local values 0.004739522933959961\n",
      "get_mc_stats 0.006585121154785156\n"
     ]
    },
    {
     "name": "stderr",
     "output_type": "stream",
     "text": [
      "  2%|▎         | 25/1000 [00:32<20:08,  1.24s/it, Energy=0.00038+0.00000j ± 0.00027 [σ²=0.00011]] "
     ]
    },
    {
     "name": "stdout",
     "output_type": "stream",
     "text": [
      "--->> cal O and jac  0.0391080379486084\n",
      "compute_update  0.04118180274963379\n",
      "(0.003328834852897803+0j)\n",
      "n_discard =  144\n",
      "discard samples 0.7450683116912842\n",
      "n_samples_node =  1000\n",
      "generate_samples :  0.43791794776916504\n",
      "     prepare getting local values 0.0022423267364501953\n",
      "     obtained local values 0.008455038070678711\n",
      "get_mc_stats 0.011010408401489258\n"
     ]
    },
    {
     "name": "stderr",
     "output_type": "stream",
     "text": [
      "  3%|▎         | 26/1000 [00:33<20:06,  1.24s/it, Energy=-0.00047+0.00000j ± 0.00033 [σ²=0.00011]]"
     ]
    },
    {
     "name": "stdout",
     "output_type": "stream",
     "text": [
      "--->> cal O and jac  0.037575721740722656\n",
      "compute_update  0.039571285247802734\n",
      "(0.0034394943134445507+0j)\n",
      "n_discard =  144\n",
      "discard samples 0.7357287406921387\n",
      "n_samples_node =  1000\n",
      "generate_samples :  0.43908119201660156\n",
      "     prepare getting local values 0.0013666152954101562\n",
      "     obtained local values 0.004728794097900391\n",
      "get_mc_stats 0.006371974945068359\n"
     ]
    },
    {
     "name": "stderr",
     "output_type": "stream",
     "text": [
      "  3%|▎         | 27/1000 [00:34<20:01,  1.23s/it, Energy=0.00021+0.00000j ± 0.00027 [σ²=0.00010]] "
     ]
    },
    {
     "name": "stdout",
     "output_type": "stream",
     "text": [
      "--->> cal O and jac  0.038091421127319336\n",
      "compute_update  0.042107582092285156\n",
      "(0.0035492822041616147+0j)\n",
      "n_discard =  144\n",
      "discard samples 0.7369437217712402\n",
      "n_samples_node =  1000\n",
      "generate_samples :  0.5909233093261719\n",
      "     prepare getting local values 0.002521991729736328\n",
      "     obtained local values 0.008384466171264648\n",
      "get_mc_stats 0.011094331741333008\n"
     ]
    },
    {
     "name": "stderr",
     "output_type": "stream",
     "text": [
      "  3%|▎         | 28/1000 [00:36<20:42,  1.28s/it, Energy=0.00014+0.00000j ± 0.00034 [σ²=0.00010]]"
     ]
    },
    {
     "name": "stdout",
     "output_type": "stream",
     "text": [
      "--->> cal O and jac  0.03693747520446777\n",
      "compute_update  0.03890228271484375\n",
      "(0.003692783847071962+0j)\n",
      "n_discard =  144\n",
      "discard samples 0.7364401817321777\n",
      "n_samples_node =  1000\n",
      "generate_samples :  0.44227123260498047\n",
      "     prepare getting local values 0.0013668537139892578\n",
      "     obtained local values 0.0048732757568359375\n",
      "get_mc_stats 0.006546497344970703\n"
     ]
    },
    {
     "name": "stderr",
     "output_type": "stream",
     "text": [
      "  3%|▎         | 29/1000 [00:37<20:26,  1.26s/it, Energy=-0.00007+0.00000j ± 0.00028 [σ²=0.00008]]"
     ]
    },
    {
     "name": "stdout",
     "output_type": "stream",
     "text": [
      "--->> cal O and jac  0.039138078689575195\n",
      "compute_update  0.041768550872802734\n",
      "(0.0038273697369005572+0j)\n",
      "n_discard =  144\n",
      "discard samples 0.7640359401702881\n",
      "n_samples_node =  1000\n",
      "generate_samples :  0.4460275173187256\n",
      "     prepare getting local values 0.0017728805541992188\n",
      "     obtained local values 0.005274057388305664\n",
      "get_mc_stats 0.00764775276184082\n"
     ]
    },
    {
     "name": "stderr",
     "output_type": "stream",
     "text": [
      "  3%|▎         | 30/1000 [00:38<20:24,  1.26s/it, Energy=-0.00004+0.00000j ± 0.00030 [σ²=0.00009]]"
     ]
    },
    {
     "name": "stdout",
     "output_type": "stream",
     "text": [
      "--->> cal O and jac  0.038286447525024414\n",
      "compute_update  0.04064035415649414\n",
      "(0.003953571757088673+0j)\n",
      "n_discard =  144\n",
      "discard samples 0.8336126804351807\n",
      "n_samples_node =  1000\n",
      "generate_samples :  0.4436030387878418\n",
      "     prepare getting local values 0.0026803016662597656\n",
      "     obtained local values 0.007972240447998047\n",
      "get_mc_stats 0.010681390762329102\n"
     ]
    },
    {
     "name": "stderr",
     "output_type": "stream",
     "text": [
      "  3%|▎         | 31/1000 [00:40<20:43,  1.28s/it, Energy=0.00017+0.00000j ± 0.00022 [σ²=0.00008]] "
     ]
    },
    {
     "name": "stdout",
     "output_type": "stream",
     "text": [
      "--->> cal O and jac  0.04049277305603027\n",
      "compute_update  0.0436093807220459\n",
      "(0.004029943283958584+0j)\n",
      "n_discard =  144\n",
      "discard samples 0.7417106628417969\n",
      "n_samples_node =  1000\n",
      "generate_samples :  0.441817045211792\n",
      "     prepare getting local values 0.002702474594116211\n",
      "     obtained local values 0.009841442108154297\n",
      "get_mc_stats 0.01260066032409668\n"
     ]
    },
    {
     "name": "stderr",
     "output_type": "stream",
     "text": [
      "  3%|▎         | 32/1000 [00:41<20:30,  1.27s/it, Energy=-0.00050+0.00000j ± 0.00030 [σ²=0.00008]]"
     ]
    },
    {
     "name": "stdout",
     "output_type": "stream",
     "text": [
      "--->> cal O and jac  0.038903236389160156\n",
      "compute_update  0.04259610176086426\n",
      "(0.004129405603800983+0j)\n",
      "n_discard =  144\n",
      "discard samples 0.7401866912841797\n",
      "n_samples_node =  1000\n",
      "generate_samples :  0.4685699939727783\n",
      "     prepare getting local values 0.0013012886047363281\n",
      "     obtained local values 0.0048024654388427734\n",
      "get_mc_stats 0.006620645523071289\n"
     ]
    },
    {
     "name": "stderr",
     "output_type": "stream",
     "text": [
      "  3%|▎         | 33/1000 [00:42<20:25,  1.27s/it, Energy=-0.00044+0.00000j ± 0.00029 [σ²=0.00008]]"
     ]
    },
    {
     "name": "stdout",
     "output_type": "stream",
     "text": [
      "--->> cal O and jac  0.0393369197845459\n",
      "compute_update  0.04144620895385742\n",
      "(0.0042193437440993685+0j)\n",
      "n_discard =  144\n",
      "discard samples 0.7363219261169434\n",
      "n_samples_node =  1000\n",
      "generate_samples :  0.44624900817871094\n",
      "     prepare getting local values 0.001371622085571289\n",
      "     obtained local values 0.0048580169677734375\n",
      "get_mc_stats 0.006659746170043945\n"
     ]
    },
    {
     "name": "stderr",
     "output_type": "stream",
     "text": [
      "  3%|▎         | 34/1000 [00:43<20:15,  1.26s/it, Energy=-0.00019+0.00000j ± 0.00026 [σ²=0.00008]]"
     ]
    },
    {
     "name": "stdout",
     "output_type": "stream",
     "text": [
      "--->> cal O and jac  0.04364657402038574\n",
      "compute_update  0.04601550102233887\n",
      "(0.004267032344181131+0j)\n",
      "n_discard =  144\n",
      "discard samples 0.7396132946014404\n",
      "n_samples_node =  1000\n",
      "generate_samples :  0.4489297866821289\n",
      "     prepare getting local values 0.0012726783752441406\n",
      "     obtained local values 0.00470733642578125\n",
      "get_mc_stats 0.00635981559753418\n"
     ]
    },
    {
     "name": "stderr",
     "output_type": "stream",
     "text": [
      "  4%|▎         | 35/1000 [00:45<20:07,  1.25s/it, Energy=-0.00036+0.00000j ± 0.00028 [σ²=0.00008]]"
     ]
    },
    {
     "name": "stdout",
     "output_type": "stream",
     "text": [
      "--->> cal O and jac  0.035422563552856445\n",
      "compute_update  0.03745293617248535\n",
      "(0.004331166968917405+0j)\n",
      "n_discard =  144\n",
      "discard samples 0.7485930919647217\n",
      "n_samples_node =  1000\n",
      "generate_samples :  0.4441201686859131\n",
      "     prepare getting local values 0.0013146400451660156\n",
      "     obtained local values 0.004719257354736328\n",
      "get_mc_stats 0.00613856315612793\n"
     ]
    },
    {
     "name": "stderr",
     "output_type": "stream",
     "text": [
      "  4%|▎         | 36/1000 [00:46<20:04,  1.25s/it, Energy=-0.00014+0.00000j ± 0.00030 [σ²=0.00007]]"
     ]
    },
    {
     "name": "stdout",
     "output_type": "stream",
     "text": [
      "--->> cal O and jac  0.04409384727478027\n",
      "compute_update  0.04642796516418457\n",
      "(0.00438239373477871+0j)\n",
      "n_discard =  144\n",
      "discard samples 0.7379472255706787\n",
      "n_samples_node =  1000\n",
      "generate_samples :  0.44642210006713867\n",
      "     prepare getting local values 0.002705097198486328\n",
      "     obtained local values 0.009081602096557617\n",
      "get_mc_stats 0.011985063552856445\n"
     ]
    },
    {
     "name": "stderr",
     "output_type": "stream",
     "text": [
      "  4%|▎         | 37/1000 [00:47<20:01,  1.25s/it, Energy=0.00010+0.00000j ± 0.00023 [σ²=0.00007]] "
     ]
    },
    {
     "name": "stdout",
     "output_type": "stream",
     "text": [
      "--->> cal O and jac  0.04023885726928711\n",
      "compute_update  0.043474435806274414\n",
      "(0.004441033572559858+0j)\n",
      "n_discard =  144\n",
      "discard samples 0.7435431480407715\n",
      "n_samples_node =  1000\n",
      "generate_samples :  0.4426255226135254\n",
      "     prepare getting local values 0.0013124942779541016\n",
      "     obtained local values 0.00465846061706543\n",
      "get_mc_stats 0.006551027297973633\n"
     ]
    },
    {
     "name": "stderr",
     "output_type": "stream",
     "text": [
      "  4%|▍         | 38/1000 [00:48<19:55,  1.24s/it, Energy=0.00029+0.00000j ± 0.00026 [σ²=0.00007]]"
     ]
    },
    {
     "name": "stdout",
     "output_type": "stream",
     "text": [
      "--->> cal O and jac  0.03553605079650879\n",
      "compute_update  0.038321495056152344\n",
      "(0.004515866882853944+0j)\n",
      "n_discard =  144\n",
      "discard samples 0.9897105693817139\n",
      "n_samples_node =  1000\n",
      "generate_samples :  0.4442305564880371\n",
      "     prepare getting local values 0.0014002323150634766\n",
      "     obtained local values 0.004863262176513672\n",
      "get_mc_stats 0.0067446231842041016\n"
     ]
    },
    {
     "name": "stderr",
     "output_type": "stream",
     "text": [
      "  4%|▍         | 39/1000 [00:50<21:03,  1.31s/it, Energy=0.00005+0.00000j ± 0.00028 [σ²=0.00007]]"
     ]
    },
    {
     "name": "stdout",
     "output_type": "stream",
     "text": [
      "--->> cal O and jac  0.03749227523803711\n",
      "compute_update  0.03996753692626953\n",
      "(0.0045607302595876064+0j)\n",
      "n_discard =  144\n",
      "discard samples 0.7637073993682861\n",
      "n_samples_node =  1000\n",
      "generate_samples :  0.44214296340942383\n",
      "     prepare getting local values 0.0016620159149169922\n",
      "     obtained local values 0.005125999450683594\n",
      "get_mc_stats 0.00716710090637207\n"
     ]
    },
    {
     "name": "stderr",
     "output_type": "stream",
     "text": [
      "  4%|▍         | 40/1000 [00:51<20:44,  1.30s/it, Energy=-0.00028+0.00000j ± 0.00027 [σ²=0.00006]]"
     ]
    },
    {
     "name": "stdout",
     "output_type": "stream",
     "text": [
      "--->> cal O and jac  0.03588557243347168\n",
      "compute_update  0.038160085678100586\n",
      "(0.004585979068050545+0j)\n",
      "n_discard =  144\n",
      "discard samples 0.7364001274108887\n",
      "n_samples_node =  1000\n",
      "generate_samples :  0.4417300224304199\n",
      "     prepare getting local values 0.0026552677154541016\n",
      "     obtained local values 0.007175445556640625\n",
      "get_mc_stats 0.009862422943115234\n"
     ]
    },
    {
     "name": "stderr",
     "output_type": "stream",
     "text": [
      "  4%|▍         | 41/1000 [00:52<20:24,  1.28s/it, Energy=0.00077+0.00000j ± 0.00027 [σ²=0.00006]] "
     ]
    },
    {
     "name": "stdout",
     "output_type": "stream",
     "text": [
      "--->> cal O and jac  0.03753829002380371\n",
      "compute_update  0.04161500930786133\n",
      "(0.004649396501913269+0j)\n",
      "n_discard =  144\n",
      "discard samples 0.7441415786743164\n",
      "n_samples_node =  1000\n",
      "generate_samples :  0.4399435520172119\n",
      "     prepare getting local values 0.0012640953063964844\n",
      "     obtained local values 0.004582643508911133\n",
      "get_mc_stats 0.006377458572387695\n"
     ]
    },
    {
     "name": "stderr",
     "output_type": "stream",
     "text": [
      "  4%|▍         | 42/1000 [00:54<20:09,  1.26s/it, Energy=-0.00034+0.00000j ± 0.00025 [σ²=0.00006]]"
     ]
    },
    {
     "name": "stdout",
     "output_type": "stream",
     "text": [
      "--->> cal O and jac  0.03574776649475098\n",
      "compute_update  0.03811335563659668\n",
      "(0.004667317561236817+0j)\n",
      "n_discard =  144\n",
      "discard samples 0.7406048774719238\n",
      "n_samples_node =  1000\n",
      "generate_samples :  0.46795034408569336\n",
      "     prepare getting local values 0.0013315677642822266\n",
      "     obtained local values 0.004882097244262695\n",
      "get_mc_stats 0.006808280944824219\n"
     ]
    },
    {
     "name": "stderr",
     "output_type": "stream",
     "text": [
      "  4%|▍         | 43/1000 [00:55<20:06,  1.26s/it, Energy=0.00018+0.00000j ± 0.00020 [σ²=0.00006]] "
     ]
    },
    {
     "name": "stdout",
     "output_type": "stream",
     "text": [
      "--->> cal O and jac  0.03678393363952637\n",
      "compute_update  0.03922724723815918\n",
      "(0.004680301778816535+0j)\n",
      "n_discard =  144\n",
      "discard samples 0.8003664016723633\n",
      "n_samples_node =  1000\n",
      "generate_samples :  0.43674206733703613\n",
      "     prepare getting local values 0.0012974739074707031\n",
      "     obtained local values 0.004658937454223633\n",
      "get_mc_stats 0.0065708160400390625\n"
     ]
    },
    {
     "name": "stderr",
     "output_type": "stream",
     "text": [
      "  4%|▍         | 44/1000 [00:56<20:13,  1.27s/it, Energy=-0.00020+0.00000j ± 0.00022 [σ²=0.00005]]"
     ]
    },
    {
     "name": "stdout",
     "output_type": "stream",
     "text": [
      "--->> cal O and jac  0.040384769439697266\n",
      "compute_update  0.0425114631652832\n",
      "(0.004713556563567229+0j)\n",
      "n_discard =  144\n",
      "discard samples 0.7373638153076172\n",
      "n_samples_node =  1000\n",
      "generate_samples :  0.43747901916503906\n",
      "     prepare getting local values 0.0013992786407470703\n",
      "     obtained local values 0.0048732757568359375\n",
      "get_mc_stats 0.006685733795166016\n"
     ]
    },
    {
     "name": "stderr",
     "output_type": "stream",
     "text": [
      "  4%|▍         | 45/1000 [00:57<20:00,  1.26s/it, Energy=-0.00004+0.00000j ± 0.00022 [σ²=0.00006]]"
     ]
    },
    {
     "name": "stdout",
     "output_type": "stream",
     "text": [
      "--->> cal O and jac  0.041954994201660156\n",
      "compute_update  0.04528546333312988\n",
      "(0.0047281220415802995+0j)\n",
      "n_discard =  144\n",
      "discard samples 0.7389912605285645\n",
      "n_samples_node =  1000\n",
      "generate_samples :  0.4457693099975586\n",
      "     prepare getting local values 0.0013213157653808594\n",
      "     obtained local values 0.004564762115478516\n",
      "get_mc_stats 0.006288766860961914\n"
     ]
    },
    {
     "name": "stderr",
     "output_type": "stream",
     "text": [
      "  5%|▍         | 46/1000 [00:59<19:52,  1.25s/it, Energy=0.00002+0.00000j ± 0.00020 [σ²=0.00005]] "
     ]
    },
    {
     "name": "stdout",
     "output_type": "stream",
     "text": [
      "--->> cal O and jac  0.039844512939453125\n",
      "compute_update  0.04202389717102051\n",
      "(0.004769896234599607+0j)\n",
      "n_discard =  144\n",
      "discard samples 0.7415118217468262\n",
      "n_samples_node =  1000\n",
      "generate_samples :  0.44295477867126465\n",
      "     prepare getting local values 0.0027894973754882812\n",
      "     obtained local values 0.009578466415405273\n",
      "get_mc_stats 0.011947154998779297\n"
     ]
    },
    {
     "name": "stderr",
     "output_type": "stream",
     "text": [
      "  5%|▍         | 47/1000 [01:00<19:48,  1.25s/it, Energy=0.00019+0.00000j ± 0.00018 [σ²=0.00005]]"
     ]
    },
    {
     "name": "stdout",
     "output_type": "stream",
     "text": [
      "--->> cal O and jac  0.04054689407348633\n",
      "compute_update  0.04290652275085449\n",
      "(0.00478920758581397+0j)\n",
      "n_discard =  144\n",
      "discard samples 0.7537841796875\n",
      "n_samples_node =  1000\n",
      "generate_samples :  0.4457390308380127\n",
      "     prepare getting local values 0.002110004425048828\n",
      "     obtained local values 0.00831294059753418\n",
      "get_mc_stats 0.010050058364868164\n"
     ]
    },
    {
     "name": "stderr",
     "output_type": "stream",
     "text": [
      "  5%|▍         | 48/1000 [01:01<19:50,  1.25s/it, Energy=-0.00005+0.00000j ± 0.00019 [σ²=0.00005]]"
     ]
    },
    {
     "name": "stdout",
     "output_type": "stream",
     "text": [
      "--->> cal O and jac  0.04522061347961426\n",
      "compute_update  0.04759955406188965\n",
      "(0.004832815269816769+0j)\n",
      "n_discard =  144\n",
      "discard samples 0.7426967620849609\n",
      "n_samples_node =  1000\n",
      "generate_samples :  0.4454531669616699\n",
      "     prepare getting local values 0.0013530254364013672\n",
      "     obtained local values 0.0047779083251953125\n",
      "get_mc_stats 0.006291627883911133\n"
     ]
    },
    {
     "name": "stderr",
     "output_type": "stream",
     "text": [
      "  5%|▍         | 49/1000 [01:02<19:45,  1.25s/it, Energy=0.00014+0.00000j ± 0.00019 [σ²=0.00004]] "
     ]
    },
    {
     "name": "stdout",
     "output_type": "stream",
     "text": [
      "--->> cal O and jac  0.03892660140991211\n",
      "compute_update  0.04108715057373047\n",
      "(0.004839345071379798+0j)\n",
      "n_discard =  144\n",
      "discard samples 0.7414546012878418\n",
      "n_samples_node =  1000\n",
      "generate_samples :  0.4426000118255615\n",
      "     prepare getting local values 0.0015892982482910156\n",
      "     obtained local values 0.0076787471771240234\n",
      "get_mc_stats 0.009346723556518555\n"
     ]
    },
    {
     "name": "stderr",
     "output_type": "stream",
     "text": [
      "  5%|▌         | 50/1000 [01:04<19:42,  1.24s/it, Energy=-0.00009+0.00000j ± 0.00015 [σ²=0.00004]]"
     ]
    },
    {
     "name": "stdout",
     "output_type": "stream",
     "text": [
      "--->> cal O and jac  0.04008603096008301\n",
      "compute_update  0.04345965385437012\n",
      "(0.004875660857281265+0j)\n",
      "n_discard =  144\n",
      "discard samples 0.7483563423156738\n",
      "n_samples_node =  1000\n",
      "generate_samples :  0.43749094009399414\n",
      "     prepare getting local values 0.0014252662658691406\n",
      "     obtained local values 0.004877328872680664\n",
      "get_mc_stats 0.006675004959106445\n"
     ]
    },
    {
     "name": "stderr",
     "output_type": "stream",
     "text": [
      "  5%|▌         | 51/1000 [01:05<19:38,  1.24s/it, Energy=0.00004+0.00000j ± 0.00019 [σ²=0.00005]] "
     ]
    },
    {
     "name": "stdout",
     "output_type": "stream",
     "text": [
      "--->> cal O and jac  0.03887200355529785\n",
      "compute_update  0.04120898246765137\n",
      "(0.004909928374934023+0j)\n",
      "n_discard =  144\n",
      "discard samples 0.7416050434112549\n",
      "n_samples_node =  1000\n",
      "generate_samples :  0.44385600090026855\n",
      "     prepare getting local values 0.0026454925537109375\n",
      "     obtained local values 0.008797883987426758\n",
      "get_mc_stats 0.011447429656982422\n"
     ]
    },
    {
     "name": "stderr",
     "output_type": "stream",
     "text": [
      "  5%|▌         | 52/1000 [01:06<19:36,  1.24s/it, Energy=0.00001+0.00000j ± 0.00028 [σ²=0.00005]]"
     ]
    },
    {
     "name": "stdout",
     "output_type": "stream",
     "text": [
      "--->> cal O and jac  0.039487600326538086\n",
      "compute_update  0.04176640510559082\n",
      "(0.004870110856227902+0j)\n",
      "n_discard =  144\n",
      "discard samples 0.7497618198394775\n",
      "n_samples_node =  1000\n",
      "generate_samples :  0.4411778450012207\n",
      "     prepare getting local values 0.0013549327850341797\n",
      "     obtained local values 0.00493931770324707\n",
      "get_mc_stats 0.0070455074310302734\n"
     ]
    },
    {
     "name": "stderr",
     "output_type": "stream",
     "text": [
      "  5%|▌         | 53/1000 [01:07<19:35,  1.24s/it, Energy=0.00028+0.00000j ± 0.00022 [σ²=0.00004]]"
     ]
    },
    {
     "name": "stdout",
     "output_type": "stream",
     "text": [
      "--->> cal O and jac  0.03757834434509277\n",
      "compute_update  0.04128217697143555\n",
      "(0.004875354209587813+0j)\n",
      "n_discard =  144\n",
      "discard samples 0.7408854961395264\n",
      "n_samples_node =  1000\n",
      "generate_samples :  0.585712194442749\n",
      "     prepare getting local values 0.00156402587890625\n",
      "     obtained local values 0.004962921142578125\n",
      "get_mc_stats 0.008456230163574219\n"
     ]
    },
    {
     "name": "stderr",
     "output_type": "stream",
     "text": [
      "  5%|▌         | 54/1000 [01:09<20:14,  1.28s/it, Energy=0.00041+0.00000j ± 0.00020 [σ²=0.00005]]"
     ]
    },
    {
     "name": "stdout",
     "output_type": "stream",
     "text": [
      "--->> cal O and jac  0.04240775108337402\n",
      "compute_update  0.04652976989746094\n",
      "(0.004895147214741563+0j)\n",
      "n_discard =  144\n",
      "discard samples 0.7464890480041504\n",
      "n_samples_node =  1000\n",
      "generate_samples :  0.4452681541442871\n",
      "     prepare getting local values 0.0024344921112060547\n",
      "     obtained local values 0.009242057800292969\n",
      "get_mc_stats 0.011310815811157227\n"
     ]
    },
    {
     "name": "stderr",
     "output_type": "stream",
     "text": [
      "  6%|▌         | 55/1000 [01:10<20:02,  1.27s/it, Energy=-0.00015+0.00000j ± 0.00020 [σ²=0.00005]]"
     ]
    },
    {
     "name": "stdout",
     "output_type": "stream",
     "text": [
      "--->> cal O and jac  0.037070274353027344\n",
      "compute_update  0.03941631317138672\n",
      "(0.00487262346776057+0j)\n",
      "n_discard =  144\n",
      "discard samples 0.7454667091369629\n",
      "n_samples_node =  1000\n",
      "generate_samples :  0.4461960792541504\n",
      "     prepare getting local values 0.0013592243194580078\n",
      "     obtained local values 0.004755496978759766\n",
      "get_mc_stats 0.006501674652099609\n"
     ]
    },
    {
     "name": "stderr",
     "output_type": "stream",
     "text": [
      "  6%|▌         | 56/1000 [01:11<19:52,  1.26s/it, Energy=0.00018+0.00000j ± 0.00022 [σ²=0.00004]] "
     ]
    },
    {
     "name": "stdout",
     "output_type": "stream",
     "text": [
      "--->> cal O and jac  0.038260698318481445\n",
      "compute_update  0.041832923889160156\n",
      "(0.004850329051408903+0j)\n",
      "n_discard =  144\n",
      "discard samples 0.7458658218383789\n",
      "n_samples_node =  1000\n",
      "generate_samples :  0.4409451484680176\n",
      "     prepare getting local values 0.002275705337524414\n",
      "     obtained local values 0.008439779281616211\n",
      "get_mc_stats 0.010614395141601562\n"
     ]
    },
    {
     "name": "stderr",
     "output_type": "stream",
     "text": [
      "  6%|▌         | 57/1000 [01:12<19:46,  1.26s/it, Energy=-0.00014+0.00000j ± 0.00018 [σ²=0.00004]]"
     ]
    },
    {
     "name": "stdout",
     "output_type": "stream",
     "text": [
      "--->> cal O and jac  0.041484832763671875\n",
      "compute_update  0.04566144943237305\n",
      "(0.004872316362861566+0j)\n",
      "n_discard =  144\n",
      "discard samples 0.7569313049316406\n",
      "n_samples_node =  1000\n",
      "generate_samples :  0.4459493160247803\n",
      "     prepare getting local values 0.0013594627380371094\n",
      "     obtained local values 0.0047757625579833984\n",
      "get_mc_stats 0.006213665008544922\n"
     ]
    },
    {
     "name": "stderr",
     "output_type": "stream",
     "text": [
      "  6%|▌         | 58/1000 [01:14<19:45,  1.26s/it, Energy=0.00031+0.00000j ± 0.00023 [σ²=0.00004]] "
     ]
    },
    {
     "name": "stdout",
     "output_type": "stream",
     "text": [
      "--->> cal O and jac  0.04454922676086426\n",
      "compute_update  0.04787778854370117\n",
      "(0.0048493680644582085+0j)\n",
      "n_discard =  144\n",
      "discard samples 0.7428216934204102\n",
      "n_samples_node =  1000\n",
      "generate_samples :  0.4445762634277344\n",
      "     prepare getting local values 0.0013077259063720703\n",
      "     obtained local values 0.004606723785400391\n",
      "get_mc_stats 0.0063130855560302734\n"
     ]
    },
    {
     "name": "stderr",
     "output_type": "stream",
     "text": [
      "  6%|▌         | 59/1000 [01:15<19:37,  1.25s/it, Energy=0.00018+0.00000j ± 0.00018 [σ²=0.00004]]"
     ]
    },
    {
     "name": "stdout",
     "output_type": "stream",
     "text": [
      "--->> cal O and jac  0.0386357307434082\n",
      "compute_update  0.040964365005493164\n",
      "(0.004833660677498109+0j)\n",
      "n_discard =  144\n",
      "discard samples 0.7405517101287842\n",
      "n_samples_node =  1000\n",
      "generate_samples :  0.44979047775268555\n",
      "     prepare getting local values 0.0026695728302001953\n",
      "     obtained local values 0.009781360626220703\n",
      "get_mc_stats 0.012363433837890625\n"
     ]
    },
    {
     "name": "stderr",
     "output_type": "stream",
     "text": [
      "  6%|▌         | 60/1000 [01:16<19:33,  1.25s/it, Energy=0.00012+0.00000j ± 0.00018 [σ²=0.00004]]"
     ]
    },
    {
     "name": "stdout",
     "output_type": "stream",
     "text": [
      "--->> cal O and jac  0.035022735595703125\n",
      "compute_update  0.03716111183166504\n",
      "(0.004866511639807138+0j)\n",
      "n_discard =  144\n",
      "discard samples 0.7529661655426025\n",
      "n_samples_node =  1000\n",
      "generate_samples :  0.4643425941467285\n",
      "     prepare getting local values 0.002300739288330078\n",
      "     obtained local values 0.008493900299072266\n",
      "get_mc_stats 0.010878324508666992\n"
     ]
    },
    {
     "name": "stderr",
     "output_type": "stream",
     "text": [
      "  6%|▌         | 61/1000 [01:17<19:38,  1.26s/it, Energy=0.00026+0.00000j ± 0.00018 [σ²=0.00004]]"
     ]
    },
    {
     "name": "stdout",
     "output_type": "stream",
     "text": [
      "--->> cal O and jac  0.037836313247680664\n",
      "compute_update  0.04073047637939453\n",
      "(0.004856085431475709+0j)\n",
      "n_discard =  144\n",
      "discard samples 0.7414860725402832\n",
      "n_samples_node =  1000\n",
      "generate_samples :  0.4448554515838623\n",
      "     prepare getting local values 0.0013840198516845703\n",
      "     obtained local values 0.004855155944824219\n",
      "get_mc_stats 0.006335258483886719\n"
     ]
    },
    {
     "name": "stderr",
     "output_type": "stream",
     "text": [
      "  6%|▌         | 62/1000 [01:19<19:31,  1.25s/it, Energy=0.00039+0.00000j ± 0.00018 [σ²=0.00004]]"
     ]
    },
    {
     "name": "stdout",
     "output_type": "stream",
     "text": [
      "--->> cal O and jac  0.03753256797790527\n",
      "compute_update  0.03968524932861328\n",
      "(0.00486592440286066+0j)\n",
      "n_discard =  144\n",
      "discard samples 0.7498049736022949\n",
      "n_samples_node =  1000\n",
      "generate_samples :  0.4490032196044922\n",
      "     prepare getting local values 0.0013556480407714844\n",
      "     obtained local values 0.00470423698425293\n",
      "get_mc_stats 0.0062255859375\n"
     ]
    },
    {
     "name": "stderr",
     "output_type": "stream",
     "text": [
      "  6%|▋         | 63/1000 [01:20<19:29,  1.25s/it, Energy=-0.00033+0.00000j ± 0.00015 [σ²=0.00003]]"
     ]
    },
    {
     "name": "stdout",
     "output_type": "stream",
     "text": [
      "--->> cal O and jac  0.03716230392456055\n",
      "compute_update  0.03917646408081055\n",
      "(0.004863835094225692+0j)\n",
      "n_discard =  144\n",
      "discard samples 0.7467596530914307\n",
      "n_samples_node =  1000\n",
      "generate_samples :  0.4447760581970215\n",
      "     prepare getting local values 0.0013513565063476562\n",
      "     obtained local values 0.004752397537231445\n",
      "get_mc_stats 0.006334543228149414\n"
     ]
    },
    {
     "name": "stderr",
     "output_type": "stream",
     "text": [
      "  6%|▋         | 64/1000 [01:21<19:26,  1.25s/it, Energy=-0.00004+0.00000j ± 0.00023 [σ²=0.00003]]"
     ]
    },
    {
     "name": "stdout",
     "output_type": "stream",
     "text": [
      "--->> cal O and jac  0.0402529239654541\n",
      "compute_update  0.04248237609863281\n",
      "(0.004856625161146163+0j)\n",
      "n_discard =  144\n",
      "discard samples 0.770183801651001\n",
      "n_samples_node =  1000\n",
      "generate_samples :  0.44484591484069824\n",
      "     prepare getting local values 0.002727031707763672\n",
      "     obtained local values 0.008022308349609375\n",
      "get_mc_stats 0.010637998580932617\n"
     ]
    },
    {
     "name": "stderr",
     "output_type": "stream",
     "text": [
      "  6%|▋         | 65/1000 [01:22<19:31,  1.25s/it, Energy=0.00022+0.00000j ± 0.00016 [σ²=0.00003]] "
     ]
    },
    {
     "name": "stdout",
     "output_type": "stream",
     "text": [
      "--->> cal O and jac  0.03863334655761719\n",
      "compute_update  0.04088616371154785\n",
      "(0.004895295230329677+0j)\n",
      "n_discard =  144\n",
      "discard samples 0.7396953105926514\n",
      "n_samples_node =  1000\n",
      "generate_samples :  0.45346641540527344\n",
      "     prepare getting local values 0.0013573169708251953\n",
      "     obtained local values 0.0048065185546875\n",
      "get_mc_stats 0.006609678268432617\n"
     ]
    },
    {
     "name": "stderr",
     "output_type": "stream",
     "text": [
      "  7%|▋         | 66/1000 [01:24<19:27,  1.25s/it, Energy=-0.00003+0.00000j ± 0.00018 [σ²=0.00003]]"
     ]
    },
    {
     "name": "stdout",
     "output_type": "stream",
     "text": [
      "--->> cal O and jac  0.036742448806762695\n",
      "compute_update  0.04078388214111328\n",
      "(0.0048786717328670815+0j)\n",
      "n_discard =  144\n",
      "discard samples 0.7633509635925293\n",
      "n_samples_node =  1000\n",
      "generate_samples :  0.4584543704986572\n",
      "     prepare getting local values 0.0013663768768310547\n",
      "     obtained local values 0.004918813705444336\n",
      "get_mc_stats 0.006811857223510742\n"
     ]
    },
    {
     "name": "stderr",
     "output_type": "stream",
     "text": [
      "  7%|▋         | 67/1000 [01:25<19:32,  1.26s/it, Energy=0.00017+0.00000j ± 0.00019 [σ²=0.00003]] "
     ]
    },
    {
     "name": "stdout",
     "output_type": "stream",
     "text": [
      "--->> cal O and jac  0.03829789161682129\n",
      "compute_update  0.04054856300354004\n",
      "(0.004872452349681953+0j)\n",
      "n_discard =  144\n",
      "discard samples 0.7420628070831299\n",
      "n_samples_node =  1000\n",
      "generate_samples :  0.47182631492614746\n",
      "     prepare getting local values 0.0023119449615478516\n",
      "     obtained local values 0.008409976959228516\n",
      "get_mc_stats 0.011014699935913086\n"
     ]
    },
    {
     "name": "stderr",
     "output_type": "stream",
     "text": [
      "  7%|▋         | 68/1000 [01:26<19:34,  1.26s/it, Energy=-0.00023+0.00000j ± 0.00014 [σ²=0.00003]]"
     ]
    },
    {
     "name": "stdout",
     "output_type": "stream",
     "text": [
      "--->> cal O and jac  0.03961372375488281\n",
      "compute_update  0.04188203811645508\n",
      "(0.004876600879019531+0j)\n",
      "n_discard =  144\n",
      "discard samples 0.7480268478393555\n",
      "n_samples_node =  1000\n",
      "generate_samples :  0.4505951404571533\n",
      "     prepare getting local values 0.0013644695281982422\n",
      "     obtained local values 0.004805326461791992\n",
      "get_mc_stats 0.006564140319824219\n"
     ]
    },
    {
     "name": "stderr",
     "output_type": "stream",
     "text": [
      "  7%|▋         | 69/1000 [01:27<19:30,  1.26s/it, Energy=0.00022+0.00000j ± 0.00016 [σ²=0.00003]] "
     ]
    },
    {
     "name": "stdout",
     "output_type": "stream",
     "text": [
      "--->> cal O and jac  0.03976774215698242\n",
      "compute_update  0.04197573661804199\n",
      "(0.00487777739378083+0j)\n",
      "n_discard =  144\n",
      "discard samples 0.7468311786651611\n",
      "n_samples_node =  1000\n",
      "generate_samples :  0.4409921169281006\n",
      "     prepare getting local values 0.0026023387908935547\n",
      "     obtained local values 0.009590625762939453\n",
      "get_mc_stats 0.012246131896972656\n"
     ]
    },
    {
     "name": "stderr",
     "output_type": "stream",
     "text": [
      "  7%|▋         | 70/1000 [01:29<19:25,  1.25s/it, Energy=0.00037+0.00000j ± 0.00017 [σ²=0.00003]]"
     ]
    },
    {
     "name": "stdout",
     "output_type": "stream",
     "text": [
      "--->> cal O and jac  0.040090322494506836\n",
      "compute_update  0.042319536209106445\n",
      "(0.0048564580643174465+0j)\n",
      "n_discard =  144\n",
      "discard samples 0.7452511787414551\n",
      "n_samples_node =  1000\n",
      "generate_samples :  0.4633021354675293\n",
      "     prepare getting local values 0.0013358592987060547\n",
      "     obtained local values 0.004645824432373047\n",
      "get_mc_stats 0.006273746490478516\n"
     ]
    },
    {
     "name": "stderr",
     "output_type": "stream",
     "text": [
      "  7%|▋         | 71/1000 [01:30<19:24,  1.25s/it, Energy=0.00026+0.00000j ± 0.00018 [σ²=0.00003]]"
     ]
    },
    {
     "name": "stdout",
     "output_type": "stream",
     "text": [
      "--->> cal O and jac  0.036161184310913086\n",
      "compute_update  0.039166927337646484\n",
      "(0.004865386388636753+0j)\n",
      "n_discard =  144\n",
      "discard samples 0.7417464256286621\n",
      "n_samples_node =  1000\n",
      "generate_samples :  0.4489459991455078\n",
      "     prepare getting local values 0.001337289810180664\n",
      "     obtained local values 0.004907846450805664\n",
      "get_mc_stats 0.006806373596191406\n"
     ]
    },
    {
     "name": "stderr",
     "output_type": "stream",
     "text": [
      "  7%|▋         | 72/1000 [01:31<19:18,  1.25s/it, Energy=-0.00012+0.00000j ± 0.00015 [σ²=0.00003]]"
     ]
    },
    {
     "name": "stdout",
     "output_type": "stream",
     "text": [
      "--->> cal O and jac  0.035437822341918945\n",
      "compute_update  0.037648677825927734\n",
      "(0.004871448853538777+0j)\n",
      "n_discard =  144\n",
      "discard samples 0.7458600997924805\n",
      "n_samples_node =  1000\n",
      "generate_samples :  0.4497363567352295\n",
      "     prepare getting local values 0.0013082027435302734\n",
      "     obtained local values 0.004669189453125\n",
      "get_mc_stats 0.006584882736206055\n"
     ]
    },
    {
     "name": "stderr",
     "output_type": "stream",
     "text": [
      "  7%|▋         | 73/1000 [01:32<19:15,  1.25s/it, Energy=0.00027+0.00000j ± 0.00017 [σ²=0.00003]] "
     ]
    },
    {
     "name": "stdout",
     "output_type": "stream",
     "text": [
      "--->> cal O and jac  0.03514385223388672\n",
      "compute_update  0.03719949722290039\n",
      "(0.004873607592399875+0j)\n",
      "n_discard =  144\n",
      "discard samples 0.74485182762146\n",
      "n_samples_node =  1000\n",
      "generate_samples :  0.4411005973815918\n",
      "     prepare getting local values 0.002271413803100586\n",
      "     obtained local values 0.008376359939575195\n",
      "get_mc_stats 0.010855674743652344\n"
     ]
    },
    {
     "name": "stderr",
     "output_type": "stream",
     "text": [
      "  7%|▋         | 74/1000 [01:34<19:11,  1.24s/it, Energy=-0.00006+0.00000j ± 0.00012 [σ²=0.00003]]"
     ]
    },
    {
     "name": "stdout",
     "output_type": "stream",
     "text": [
      "--->> cal O and jac  0.03652477264404297\n",
      "compute_update  0.038785696029663086\n",
      "(0.004882854906030529+0j)\n",
      "n_discard =  144\n",
      "discard samples 0.743511438369751\n",
      "n_samples_node =  1000\n",
      "generate_samples :  0.4477992057800293\n",
      "     prepare getting local values 0.0013172626495361328\n",
      "     obtained local values 0.0048787593841552734\n",
      "get_mc_stats 0.006386756896972656\n"
     ]
    },
    {
     "name": "stderr",
     "output_type": "stream",
     "text": [
      "  8%|▊         | 75/1000 [01:35<19:10,  1.24s/it, Energy=-0.00016+0.00000j ± 0.00013 [σ²=0.00003]]"
     ]
    },
    {
     "name": "stdout",
     "output_type": "stream",
     "text": [
      "--->> cal O and jac  0.03984808921813965\n",
      "compute_update  0.04220747947692871\n",
      "(0.004845754818831473+0j)\n",
      "n_discard =  144\n",
      "discard samples 0.7474997043609619\n",
      "n_samples_node =  1000\n",
      "generate_samples :  0.6091256141662598\n",
      "     prepare getting local values 0.0012645721435546875\n",
      "     obtained local values 0.004596710205078125\n",
      "get_mc_stats 0.006510734558105469\n"
     ]
    },
    {
     "name": "stderr",
     "output_type": "stream",
     "text": [
      "  8%|▊         | 76/1000 [01:36<19:54,  1.29s/it, Energy=-0.00000+0.00000j ± 0.00017 [σ²=0.00002]]"
     ]
    },
    {
     "name": "stdout",
     "output_type": "stream",
     "text": [
      "--->> cal O and jac  0.03981471061706543\n",
      "compute_update  0.041990041732788086\n",
      "(0.004839621383474956+0j)\n",
      "n_discard =  144\n",
      "discard samples 0.7597408294677734\n",
      "n_samples_node =  1000\n",
      "generate_samples :  0.4926145076751709\n",
      "     prepare getting local values 0.0027077198028564453\n",
      "     obtained local values 0.008745431900024414\n",
      "get_mc_stats 0.01162099838256836\n"
     ]
    },
    {
     "name": "stderr",
     "output_type": "stream",
     "text": [
      "  8%|▊         | 77/1000 [01:38<19:55,  1.30s/it, Energy=-0.00002+0.00000j ± 0.00019 [σ²=0.00002]]"
     ]
    },
    {
     "name": "stdout",
     "output_type": "stream",
     "text": [
      "--->> cal O and jac  0.033113718032836914\n",
      "compute_update  0.03527712821960449\n",
      "(0.004843062690509429+0j)\n",
      "n_discard =  144\n",
      "discard samples 1.0401420593261719\n",
      "n_samples_node =  1000\n",
      "generate_samples :  0.5908255577087402\n",
      "     prepare getting local values 0.002712249755859375\n",
      "     obtained local values 0.009329557418823242\n",
      "get_mc_stats 0.012207984924316406\n"
     ]
    },
    {
     "name": "stderr",
     "output_type": "stream",
     "text": [
      "  8%|▊         | 78/1000 [01:39<21:42,  1.41s/it, Energy=0.00007+0.00000j ± 0.00013 [σ²=0.00002]] "
     ]
    },
    {
     "name": "stdout",
     "output_type": "stream",
     "text": [
      "--->> cal O and jac  0.04018092155456543\n",
      "compute_update  0.042357683181762695\n",
      "(0.004844034238006256+0j)\n",
      "n_discard =  144\n",
      "discard samples 0.7518236637115479\n",
      "n_samples_node =  1000\n",
      "generate_samples :  0.4799816608428955\n",
      "     prepare getting local values 0.002751588821411133\n",
      "     obtained local values 0.008640289306640625\n",
      "get_mc_stats 0.011405229568481445\n"
     ]
    },
    {
     "name": "stderr",
     "output_type": "stream",
     "text": [
      "  8%|▊         | 79/1000 [01:41<21:07,  1.38s/it, Energy=0.00023+0.00000j ± 0.00016 [σ²=0.00002]]"
     ]
    },
    {
     "name": "stdout",
     "output_type": "stream",
     "text": [
      "--->> cal O and jac  0.042998552322387695\n",
      "compute_update  0.045186758041381836\n",
      "(0.004843920329400041+0j)\n",
      "n_discard =  144\n",
      "discard samples 0.7577838897705078\n",
      "n_samples_node =  1000\n",
      "generate_samples :  0.44746923446655273\n",
      "     prepare getting local values 0.0013325214385986328\n",
      "     obtained local values 0.0046749114990234375\n",
      "get_mc_stats 0.0066106319427490234\n"
     ]
    },
    {
     "name": "stderr",
     "output_type": "stream",
     "text": [
      "  8%|▊         | 80/1000 [01:42<20:31,  1.34s/it, Energy=-0.00034+0.00000j ± 0.00016 [σ²=0.00002]]"
     ]
    },
    {
     "name": "stdout",
     "output_type": "stream",
     "text": [
      "--->> cal O and jac  0.036058902740478516\n",
      "compute_update  0.03816413879394531\n",
      "(0.004816851273720448+0j)\n",
      "n_discard =  144\n",
      "discard samples 0.7541844844818115\n",
      "n_samples_node =  1000\n",
      "generate_samples :  0.44268298149108887\n",
      "     prepare getting local values 0.0013370513916015625\n",
      "     obtained local values 0.004862546920776367\n",
      "get_mc_stats 0.006987571716308594\n"
     ]
    },
    {
     "name": "stderr",
     "output_type": "stream",
     "text": [
      "  8%|▊         | 81/1000 [01:43<20:04,  1.31s/it, Energy=-0.00005+0.00000j ± 0.00013 [σ²=0.00002]]"
     ]
    },
    {
     "name": "stdout",
     "output_type": "stream",
     "text": [
      "--->> cal O and jac  0.03883957862854004\n",
      "compute_update  0.041115522384643555\n",
      "(0.004808157660765334+0j)\n",
      "n_discard =  144\n",
      "discard samples 0.7530221939086914\n",
      "n_samples_node =  1000\n",
      "generate_samples :  0.4432249069213867\n",
      "     prepare getting local values 0.0013649463653564453\n",
      "     obtained local values 0.004819154739379883\n",
      "get_mc_stats 0.006705760955810547\n"
     ]
    },
    {
     "name": "stderr",
     "output_type": "stream",
     "text": [
      "  8%|▊         | 82/1000 [01:44<19:45,  1.29s/it, Energy=0.00011+0.00000j ± 0.00015 [σ²=0.00002]] "
     ]
    },
    {
     "name": "stdout",
     "output_type": "stream",
     "text": [
      "--->> cal O and jac  0.03855586051940918\n",
      "compute_update  0.04057574272155762\n",
      "(0.004782501329615788+0j)\n",
      "n_discard =  144\n",
      "discard samples 0.7465198040008545\n",
      "n_samples_node =  1000\n",
      "generate_samples :  0.4401688575744629\n",
      "     prepare getting local values 0.0022971630096435547\n",
      "     obtained local values 0.008149862289428711\n",
      "get_mc_stats 0.010169506072998047\n"
     ]
    },
    {
     "name": "stderr",
     "output_type": "stream",
     "text": [
      "  8%|▊         | 83/1000 [01:46<19:28,  1.27s/it, Energy=-0.00010+0.00000j ± 0.00017 [σ²=0.00002]]"
     ]
    },
    {
     "name": "stdout",
     "output_type": "stream",
     "text": [
      "--->> cal O and jac  0.03396153450012207\n",
      "compute_update  0.03602194786071777\n",
      "(0.004756667205116783+0j)\n",
      "n_discard =  144\n",
      "discard samples 0.7444736957550049\n",
      "n_samples_node =  1000\n",
      "generate_samples :  0.5272073745727539\n",
      "     prepare getting local values 0.0027027130126953125\n",
      "     obtained local values 0.008671045303344727\n",
      "get_mc_stats 0.011331558227539062\n"
     ]
    },
    {
     "name": "stderr",
     "output_type": "stream",
     "text": [
      "  8%|▊         | 84/1000 [01:47<19:42,  1.29s/it, Energy=-0.00003+0.00000j ± 0.00013 [σ²=0.00002]]"
     ]
    },
    {
     "name": "stdout",
     "output_type": "stream",
     "text": [
      "--->> cal O and jac  0.0406646728515625\n",
      "compute_update  0.04350590705871582\n",
      "(0.004765486405844726+0j)\n",
      "n_discard =  144\n",
      "discard samples 0.7464148998260498\n",
      "n_samples_node =  1000\n",
      "generate_samples :  0.4489133358001709\n",
      "     prepare getting local values 0.0023119449615478516\n",
      "     obtained local values 0.008515119552612305\n",
      "get_mc_stats 0.011020660400390625\n"
     ]
    },
    {
     "name": "stderr",
     "output_type": "stream",
     "text": [
      "  8%|▊         | 85/1000 [01:48<19:29,  1.28s/it, Energy=0.00018+0.00000j ± 0.00015 [σ²=0.00002]] "
     ]
    },
    {
     "name": "stdout",
     "output_type": "stream",
     "text": [
      "--->> cal O and jac  0.03745269775390625\n",
      "compute_update  0.03950190544128418\n",
      "(0.004741696254415214+0j)\n",
      "n_discard =  144\n",
      "discard samples 0.741262674331665\n",
      "n_samples_node =  1000\n",
      "generate_samples :  0.44936466217041016\n",
      "     prepare getting local values 0.0014224052429199219\n",
      "     obtained local values 0.0048711299896240234\n",
      "get_mc_stats 0.0067479610443115234\n"
     ]
    },
    {
     "name": "stderr",
     "output_type": "stream",
     "text": [
      "  9%|▊         | 86/1000 [01:49<19:17,  1.27s/it, Energy=0.00008+0.00000j ± 0.00014 [σ²=0.00002]]"
     ]
    },
    {
     "name": "stdout",
     "output_type": "stream",
     "text": [
      "--->> cal O and jac  0.03870201110839844\n",
      "compute_update  0.04103255271911621\n",
      "(0.004772217201805589+0j)\n",
      "n_discard =  144\n",
      "discard samples 0.7595260143280029\n",
      "n_samples_node =  1000\n",
      "generate_samples :  0.44728708267211914\n",
      "     prepare getting local values 0.0016109943389892578\n",
      "     obtained local values 0.005128622055053711\n",
      "get_mc_stats 0.0072667598724365234\n"
     ]
    },
    {
     "name": "stderr",
     "output_type": "stream",
     "text": [
      "  9%|▊         | 87/1000 [01:51<19:13,  1.26s/it, Energy=0.00003+0.00000j ± 0.00011 [σ²=0.00002]]"
     ]
    },
    {
     "name": "stdout",
     "output_type": "stream",
     "text": [
      "--->> cal O and jac  0.03725147247314453\n",
      "compute_update  0.03945779800415039\n",
      "(0.0047378336821596225+0j)\n",
      "n_discard =  144\n",
      "discard samples 0.7543630599975586\n",
      "n_samples_node =  1000\n",
      "generate_samples :  0.5583584308624268\n",
      "     prepare getting local values 0.00154876708984375\n",
      "     obtained local values 0.004988193511962891\n",
      "get_mc_stats 0.006903886795043945\n"
     ]
    },
    {
     "name": "stderr",
     "output_type": "stream",
     "text": [
      "  9%|▉         | 88/1000 [01:52<19:39,  1.29s/it, Energy=0.00013+0.00000j ± 0.00014 [σ²=0.00002]]"
     ]
    },
    {
     "name": "stdout",
     "output_type": "stream",
     "text": [
      "--->> cal O and jac  0.03969073295593262\n",
      "compute_update  0.04181814193725586\n",
      "(0.004748543450311404+0j)\n",
      "n_discard =  144\n",
      "discard samples 0.7515735626220703\n",
      "n_samples_node =  1000\n",
      "generate_samples :  0.43937158584594727\n",
      "     prepare getting local values 0.001318216323852539\n",
      "     obtained local values 0.004742145538330078\n",
      "get_mc_stats 0.006769418716430664\n"
     ]
    },
    {
     "name": "stderr",
     "output_type": "stream",
     "text": [
      "  9%|▉         | 89/1000 [01:53<19:23,  1.28s/it, Energy=0.00000+0.00000j ± 0.00014 [σ²=0.00002]]"
     ]
    },
    {
     "name": "stdout",
     "output_type": "stream",
     "text": [
      "--->> cal O and jac  0.03687596321105957\n",
      "compute_update  0.039185285568237305\n",
      "(0.0047536943965523675+0j)\n",
      "n_discard =  144\n",
      "discard samples 0.7740812301635742\n",
      "n_samples_node =  1000\n",
      "generate_samples :  0.44555020332336426\n",
      "     prepare getting local values 0.0018510818481445312\n",
      "     obtained local values 0.005270957946777344\n",
      "get_mc_stats 0.007218837738037109\n"
     ]
    },
    {
     "name": "stderr",
     "output_type": "stream",
     "text": [
      "  9%|▉         | 90/1000 [01:54<19:20,  1.27s/it, Energy=0.00007+0.00000j ± 0.00016 [σ²=0.00002]]"
     ]
    },
    {
     "name": "stdout",
     "output_type": "stream",
     "text": [
      "--->> cal O and jac  0.03876161575317383\n",
      "compute_update  0.04143500328063965\n",
      "(0.004751357955758451+0j)\n",
      "n_discard =  144\n",
      "discard samples 0.7958357334136963\n",
      "n_samples_node =  1000\n",
      "generate_samples :  0.44142937660217285\n",
      "     prepare getting local values 0.0013780593872070312\n",
      "     obtained local values 0.004902839660644531\n",
      "get_mc_stats 0.006627559661865234\n"
     ]
    },
    {
     "name": "stderr",
     "output_type": "stream",
     "text": [
      "  9%|▉         | 91/1000 [01:56<19:21,  1.28s/it, Energy=-0.00018+0.00000j ± 0.00010 [σ²=0.00002]]"
     ]
    },
    {
     "name": "stdout",
     "output_type": "stream",
     "text": [
      "--->> cal O and jac  0.038448333740234375\n",
      "compute_update  0.04051828384399414\n",
      "(0.004749599263662496+0j)\n",
      "n_discard =  144\n",
      "discard samples 0.7441117763519287\n",
      "n_samples_node =  1000\n",
      "generate_samples :  0.4450953006744385\n",
      "     prepare getting local values 0.002396821975708008\n",
      "     obtained local values 0.00866556167602539\n",
      "get_mc_stats 0.011410713195800781\n"
     ]
    },
    {
     "name": "stderr",
     "output_type": "stream",
     "text": [
      "  9%|▉         | 92/1000 [01:57<19:11,  1.27s/it, Energy=0.00002+0.00000j ± 0.00012 [σ²=0.00002]] "
     ]
    },
    {
     "name": "stdout",
     "output_type": "stream",
     "text": [
      "--->> cal O and jac  0.041467905044555664\n",
      "compute_update  0.043657779693603516\n",
      "(0.00474586318790635+0j)\n",
      "n_discard =  144\n",
      "discard samples 0.7471351623535156\n",
      "n_samples_node =  1000\n",
      "generate_samples :  0.46280336380004883\n",
      "     prepare getting local values 0.0013308525085449219\n",
      "     obtained local values 0.0048716068267822266\n",
      "get_mc_stats 0.006670713424682617\n"
     ]
    },
    {
     "name": "stderr",
     "output_type": "stream",
     "text": [
      "  9%|▉         | 93/1000 [01:58<19:07,  1.27s/it, Energy=-0.000096+0.000000j ± 0.000095 [σ²=0.000015]]"
     ]
    },
    {
     "name": "stdout",
     "output_type": "stream",
     "text": [
      "--->> cal O and jac  0.03623032569885254\n",
      "compute_update  0.03975534439086914\n",
      "(0.004727207923604436+0j)\n",
      "n_discard =  144\n",
      "discard samples 0.7443251609802246\n",
      "n_samples_node =  1000\n",
      "generate_samples :  0.44880151748657227\n",
      "     prepare getting local values 0.002225160598754883\n",
      "     obtained local values 0.009012460708618164\n",
      "get_mc_stats 0.010776281356811523\n"
     ]
    },
    {
     "name": "stderr",
     "output_type": "stream",
     "text": [
      "  9%|▉         | 94/1000 [02:00<19:01,  1.26s/it, Energy=0.00012+0.00000j ± 0.00013 [σ²=0.00002]]     "
     ]
    },
    {
     "name": "stdout",
     "output_type": "stream",
     "text": [
      "--->> cal O and jac  0.03748202323913574\n",
      "compute_update  0.041080474853515625\n",
      "(0.004701112992042815+0j)\n",
      "n_discard =  144\n",
      "discard samples 0.75242018699646\n",
      "n_samples_node =  1000\n",
      "generate_samples :  0.4440169334411621\n",
      "     prepare getting local values 0.0017712116241455078\n",
      "     obtained local values 0.0053234100341796875\n",
      "get_mc_stats 0.007241964340209961\n"
     ]
    },
    {
     "name": "stderr",
     "output_type": "stream",
     "text": [
      " 10%|▉         | 95/1000 [02:01<18:56,  1.26s/it, Energy=0.00007+0.00000j ± 0.00010 [σ²=0.00002]]"
     ]
    },
    {
     "name": "stdout",
     "output_type": "stream",
     "text": [
      "--->> cal O and jac  0.03892397880554199\n",
      "compute_update  0.04105520248413086\n",
      "(0.004690740856620564+0j)\n",
      "n_discard =  144\n",
      "discard samples 0.7485260963439941\n",
      "n_samples_node =  1000\n",
      "generate_samples :  0.4508805274963379\n",
      "     prepare getting local values 0.0021445751190185547\n",
      "     obtained local values 0.008129358291625977\n",
      "get_mc_stats 0.010557413101196289\n"
     ]
    },
    {
     "name": "stderr",
     "output_type": "stream",
     "text": [
      " 10%|▉         | 96/1000 [02:02<18:54,  1.25s/it, Energy=0.00002+0.00000j ± 0.00010 [σ²=0.00001]]"
     ]
    },
    {
     "name": "stdout",
     "output_type": "stream",
     "text": [
      "--->> cal O and jac  0.037927865982055664\n",
      "compute_update  0.04027915000915527\n",
      "(0.004668030086767142+0j)\n",
      "n_discard =  144\n",
      "discard samples 0.7455370426177979\n",
      "n_samples_node =  1000\n",
      "generate_samples :  0.4459340572357178\n",
      "     prepare getting local values 0.0020363330841064453\n",
      "     obtained local values 0.008190155029296875\n",
      "get_mc_stats 0.00998234748840332\n"
     ]
    },
    {
     "name": "stderr",
     "output_type": "stream",
     "text": [
      " 10%|▉         | 97/1000 [02:03<18:50,  1.25s/it, Energy=-0.00011+0.00000j ± 0.00014 [σ²=0.00001]]"
     ]
    },
    {
     "name": "stdout",
     "output_type": "stream",
     "text": [
      "--->> cal O and jac  0.03907322883605957\n",
      "compute_update  0.04261469841003418\n",
      "(0.004670648862730006+0j)\n",
      "n_discard =  144\n",
      "discard samples 0.7648558616638184\n",
      "n_samples_node =  1000\n",
      "generate_samples :  0.44365930557250977\n",
      "     prepare getting local values 0.0014424324035644531\n",
      "     obtained local values 0.004892587661743164\n",
      "get_mc_stats 0.006790637969970703\n"
     ]
    },
    {
     "name": "stderr",
     "output_type": "stream",
     "text": [
      " 10%|▉         | 98/1000 [02:05<18:51,  1.25s/it, Energy=-0.00031+0.00000j ± 0.00014 [σ²=0.00001]]"
     ]
    },
    {
     "name": "stdout",
     "output_type": "stream",
     "text": [
      "--->> cal O and jac  0.03847241401672363\n",
      "compute_update  0.04199981689453125\n",
      "(0.004680740177248916+0j)\n",
      "n_discard =  144\n",
      "discard samples 0.7843592166900635\n",
      "n_samples_node =  1000\n",
      "generate_samples :  0.4475412368774414\n",
      "     prepare getting local values 0.0018665790557861328\n",
      "     obtained local values 0.007983922958374023\n",
      "get_mc_stats 0.009964704513549805\n"
     ]
    },
    {
     "name": "stderr",
     "output_type": "stream",
     "text": [
      " 10%|▉         | 99/1000 [02:06<18:58,  1.26s/it, Energy=0.000028+0.000000j ± 0.000099 [σ²=0.000014]]"
     ]
    },
    {
     "name": "stdout",
     "output_type": "stream",
     "text": [
      "--->> cal O and jac  0.037549734115600586\n",
      "compute_update  0.04151177406311035\n",
      "(0.004663289907673914+0j)\n",
      "n_discard =  144\n",
      "discard samples 0.743232011795044\n",
      "n_samples_node =  1000\n",
      "generate_samples :  0.4472041130065918\n",
      "     prepare getting local values 0.0013611316680908203\n",
      "     obtained local values 0.004850864410400391\n",
      "get_mc_stats 0.006694793701171875\n"
     ]
    },
    {
     "name": "stderr",
     "output_type": "stream",
     "text": [
      " 10%|█         | 100/1000 [02:07<18:51,  1.26s/it, Energy=-0.00007+0.00000j ± 0.00012 [σ²=0.00001]]  "
     ]
    },
    {
     "name": "stdout",
     "output_type": "stream",
     "text": [
      "--->> cal O and jac  0.04076027870178223\n",
      "compute_update  0.04380607604980469\n",
      "(0.004661887613569468+0j)\n",
      "n_discard =  144\n",
      "discard samples 0.7450644969940186\n",
      "n_samples_node =  1000\n",
      "generate_samples :  0.44472479820251465\n",
      "     prepare getting local values 0.0013740062713623047\n",
      "     obtained local values 0.004807949066162109\n",
      "get_mc_stats 0.006570577621459961\n"
     ]
    },
    {
     "name": "stderr",
     "output_type": "stream",
     "text": [
      " 10%|█         | 101/1000 [02:08<18:44,  1.25s/it, Energy=-0.00006+0.00000j ± 0.00011 [σ²=0.00001]]"
     ]
    },
    {
     "name": "stdout",
     "output_type": "stream",
     "text": [
      "--->> cal O and jac  0.035943031311035156\n",
      "compute_update  0.03807830810546875\n",
      "(0.004663013548851525+0j)\n",
      "n_discard =  144\n",
      "discard samples 0.7461130619049072\n",
      "n_samples_node =  1000\n",
      "generate_samples :  0.44785022735595703\n",
      "     prepare getting local values 0.0013134479522705078\n",
      "     obtained local values 0.004608154296875\n",
      "get_mc_stats 0.0063266754150390625\n"
     ]
    },
    {
     "name": "stderr",
     "output_type": "stream",
     "text": [
      " 10%|█         | 102/1000 [02:10<18:40,  1.25s/it, Energy=0.00005+0.00000j ± 0.00012 [σ²=0.00001]] "
     ]
    },
    {
     "name": "stdout",
     "output_type": "stream",
     "text": [
      "--->> cal O and jac  0.036878347396850586\n",
      "compute_update  0.03905844688415527\n",
      "(0.004693100741092243+0j)\n",
      "n_discard =  144\n",
      "discard samples 0.7424488067626953\n",
      "n_samples_node =  1000\n",
      "generate_samples :  0.5104851722717285\n",
      "     prepare getting local values 0.0026578903198242188\n",
      "     obtained local values 0.00629425048828125\n",
      "get_mc_stats 0.008977413177490234\n"
     ]
    },
    {
     "name": "stderr",
     "output_type": "stream",
     "text": [
      " 10%|█         | 103/1000 [02:11<18:55,  1.27s/it, Energy=0.00019+0.00000j ± 0.00012 [σ²=0.00001]]"
     ]
    },
    {
     "name": "stdout",
     "output_type": "stream",
     "text": [
      "--->> cal O and jac  0.04101395606994629\n",
      "compute_update  0.04320573806762695\n",
      "(0.004676155850685365+0j)\n",
      "n_discard =  144\n",
      "discard samples 0.7455556392669678\n",
      "n_samples_node =  1000\n",
      "generate_samples :  0.45687174797058105\n",
      "     prepare getting local values 0.0013275146484375\n",
      "     obtained local values 0.004796743392944336\n",
      "get_mc_stats 0.006544828414916992\n"
     ]
    },
    {
     "name": "stderr",
     "output_type": "stream",
     "text": [
      " 10%|█         | 104/1000 [02:12<18:50,  1.26s/it, Energy=-0.00003+0.00000j ± 0.00011 [σ²=0.00001]]"
     ]
    },
    {
     "name": "stdout",
     "output_type": "stream",
     "text": [
      "--->> cal O and jac  0.03782796859741211\n",
      "compute_update  0.04018378257751465\n",
      "(0.0046723337313508894+0j)\n",
      "n_discard =  144\n",
      "discard samples 0.7473514080047607\n",
      "n_samples_node =  1000\n",
      "generate_samples :  0.444502592086792\n",
      "     prepare getting local values 0.001405954360961914\n",
      "     obtained local values 0.005977153778076172\n",
      "get_mc_stats 0.007949113845825195\n"
     ]
    },
    {
     "name": "stderr",
     "output_type": "stream",
     "text": [
      " 10%|█         | 105/1000 [02:13<18:43,  1.26s/it, Energy=0.00003+0.00000j ± 0.00010 [σ²=0.00001]] "
     ]
    },
    {
     "name": "stdout",
     "output_type": "stream",
     "text": [
      "--->> cal O and jac  0.039663076400756836\n",
      "compute_update  0.041617393493652344\n",
      "(0.004655543795466208+0j)\n",
      "n_discard =  144\n",
      "discard samples 0.7465319633483887\n",
      "n_samples_node =  1000\n",
      "generate_samples :  0.43998289108276367\n",
      "     prepare getting local values 0.0014336109161376953\n",
      "     obtained local values 0.004900932312011719\n",
      "get_mc_stats 0.00677800178527832\n"
     ]
    },
    {
     "name": "stderr",
     "output_type": "stream",
     "text": [
      " 11%|█         | 106/1000 [02:15<18:37,  1.25s/it, Energy=0.000004+0.000000j ± 0.000094 [σ²=0.000012]]"
     ]
    },
    {
     "name": "stdout",
     "output_type": "stream",
     "text": [
      "--->> cal O and jac  0.03717207908630371\n",
      "compute_update  0.04085206985473633\n",
      "(0.004665359492476011+0j)\n",
      "n_discard =  144\n",
      "discard samples 0.7507047653198242\n",
      "n_samples_node =  1000\n",
      "generate_samples :  0.4526348114013672\n",
      "     prepare getting local values 0.0013277530670166016\n",
      "     obtained local values 0.004797935485839844\n",
      "get_mc_stats 0.0063822269439697266\n"
     ]
    },
    {
     "name": "stderr",
     "output_type": "stream",
     "text": [
      " 11%|█         | 107/1000 [02:16<18:37,  1.25s/it, Energy=-0.00006+0.00000j ± 0.00012 [σ²=0.00001]]   "
     ]
    },
    {
     "name": "stdout",
     "output_type": "stream",
     "text": [
      "--->> cal O and jac  0.03929710388183594\n",
      "compute_update  0.04301166534423828\n",
      "(0.0046665271739797405+0j)\n",
      "n_discard =  144\n",
      "discard samples 0.7492778301239014\n",
      "n_samples_node =  1000\n",
      "generate_samples :  0.447878360748291\n",
      "     prepare getting local values 0.0026946067810058594\n",
      "     obtained local values 0.008460760116577148\n",
      "get_mc_stats 0.011183738708496094\n"
     ]
    },
    {
     "name": "stderr",
     "output_type": "stream",
     "text": [
      " 11%|█         | 108/1000 [02:17<18:36,  1.25s/it, Energy=0.000018+0.000000j ± 0.000088 [σ²=0.000011]]"
     ]
    },
    {
     "name": "stdout",
     "output_type": "stream",
     "text": [
      "--->> cal O and jac  0.03925299644470215\n",
      "compute_update  0.041304588317871094\n",
      "(0.004658954975982577+0j)\n",
      "n_discard =  144\n",
      "discard samples 0.7488498687744141\n",
      "n_samples_node =  1000\n",
      "generate_samples :  0.44556331634521484\n",
      "     prepare getting local values 0.0013515949249267578\n",
      "     obtained local values 0.004780292510986328\n",
      "get_mc_stats 0.0065577030181884766\n"
     ]
    },
    {
     "name": "stderr",
     "output_type": "stream",
     "text": [
      " 11%|█         | 109/1000 [02:18<18:33,  1.25s/it, Energy=0.00028+0.00000j ± 0.00012 [σ²=0.00001]]    "
     ]
    },
    {
     "name": "stdout",
     "output_type": "stream",
     "text": [
      "--->> cal O and jac  0.039484500885009766\n",
      "compute_update  0.04157876968383789\n",
      "(0.004646162116271582+0j)\n",
      "n_discard =  144\n",
      "discard samples 0.7688825130462646\n",
      "n_samples_node =  1000\n",
      "generate_samples :  0.45000743865966797\n",
      "     prepare getting local values 0.001317739486694336\n",
      "     obtained local values 0.004760026931762695\n",
      "get_mc_stats 0.0064411163330078125\n"
     ]
    },
    {
     "name": "stderr",
     "output_type": "stream",
     "text": [
      " 11%|█         | 110/1000 [02:20<18:37,  1.26s/it, Energy=0.00002+0.00000j ± 0.00011 [σ²=0.00001]]"
     ]
    },
    {
     "name": "stdout",
     "output_type": "stream",
     "text": [
      "--->> cal O and jac  0.040343523025512695\n",
      "compute_update  0.043941497802734375\n",
      "(0.004639140848078842+0j)\n",
      "n_discard =  144\n",
      "discard samples 0.7513551712036133\n",
      "n_samples_node =  1000\n",
      "generate_samples :  0.4579010009765625\n",
      "     prepare getting local values 0.0013387203216552734\n",
      "     obtained local values 0.004912614822387695\n",
      "get_mc_stats 0.006918668746948242\n"
     ]
    },
    {
     "name": "stderr",
     "output_type": "stream",
     "text": [
      " 11%|█         | 111/1000 [02:21<18:37,  1.26s/it, Energy=0.000023+0.000000j ± 0.000095 [σ²=0.000010]]"
     ]
    },
    {
     "name": "stdout",
     "output_type": "stream",
     "text": [
      "--->> cal O and jac  0.03918027877807617\n",
      "compute_update  0.04227852821350098\n",
      "(0.004636488382382982+0j)\n",
      "n_discard =  144\n",
      "discard samples 0.7490415573120117\n",
      "n_samples_node =  1000\n",
      "generate_samples :  0.44283008575439453\n",
      "     prepare getting local values 0.001354217529296875\n",
      "     obtained local values 0.008353233337402344\n",
      "get_mc_stats 0.010397672653198242\n"
     ]
    },
    {
     "name": "stderr",
     "output_type": "stream",
     "text": [
      " 11%|█         | 112/1000 [02:22<18:33,  1.25s/it, Energy=0.000019+0.000000j ± 0.000070 [σ²=0.000010]]"
     ]
    },
    {
     "name": "stdout",
     "output_type": "stream",
     "text": [
      "--->> cal O and jac  0.03968620300292969\n",
      "compute_update  0.04157376289367676\n",
      "(0.004618267025666129+0j)\n",
      "n_discard =  144\n",
      "discard samples 0.7456414699554443\n",
      "n_samples_node =  1000\n",
      "generate_samples :  0.4502279758453369\n",
      "     prepare getting local values 0.0013699531555175781\n",
      "     obtained local values 0.004904031753540039\n",
      "get_mc_stats 0.006449222564697266\n"
     ]
    },
    {
     "name": "stderr",
     "output_type": "stream",
     "text": [
      " 11%|█▏        | 113/1000 [02:23<18:28,  1.25s/it, Energy=-0.000080+0.000000j ± 0.000096 [σ²=0.000009]]"
     ]
    },
    {
     "name": "stdout",
     "output_type": "stream",
     "text": [
      "--->> cal O and jac  0.035291433334350586\n",
      "compute_update  0.03729104995727539\n",
      "(0.0046159922051292445+0j)\n",
      "n_discard =  144\n",
      "discard samples 0.7495105266571045\n",
      "n_samples_node =  1000\n",
      "generate_samples :  0.4516007900238037\n",
      "     prepare getting local values 0.0013399124145507812\n",
      "     obtained local values 0.004873037338256836\n",
      "get_mc_stats 0.006747245788574219\n"
     ]
    },
    {
     "name": "stderr",
     "output_type": "stream",
     "text": [
      " 11%|█▏        | 114/1000 [02:25<18:26,  1.25s/it, Energy=0.000066+0.000000j ± 0.000092 [σ²=0.000009]] "
     ]
    },
    {
     "name": "stdout",
     "output_type": "stream",
     "text": [
      "--->> cal O and jac  0.03481602668762207\n",
      "compute_update  0.03697323799133301\n",
      "(0.004610306900354186+0j)\n",
      "n_discard =  144\n",
      "discard samples 0.7457399368286133\n",
      "n_samples_node =  1000\n",
      "generate_samples :  0.4501454830169678\n",
      "     prepare getting local values 0.0014252662658691406\n",
      "     obtained local values 0.00854182243347168\n",
      "get_mc_stats 0.010638713836669922\n"
     ]
    },
    {
     "name": "stderr",
     "output_type": "stream",
     "text": [
      " 12%|█▏        | 115/1000 [02:26<18:25,  1.25s/it, Energy=-0.000008+0.000000j ± 0.000071 [σ²=0.000009]]"
     ]
    },
    {
     "name": "stdout",
     "output_type": "stream",
     "text": [
      "--->> cal O and jac  0.0363919734954834\n",
      "compute_update  0.03989577293395996\n",
      "(0.004601239625076141+0j)\n",
      "n_discard =  144\n",
      "discard samples 0.7471058368682861\n",
      "n_samples_node =  1000\n",
      "generate_samples :  0.5009133815765381\n",
      "     prepare getting local values 0.0027196407318115234\n",
      "     obtained local values 0.00773930549621582\n",
      "get_mc_stats 0.010675907135009766\n"
     ]
    },
    {
     "name": "stderr",
     "output_type": "stream",
     "text": [
      " 12%|█▏        | 116/1000 [02:27<18:37,  1.26s/it, Energy=0.000130+0.000000j ± 0.000092 [σ²=0.000009]] "
     ]
    },
    {
     "name": "stdout",
     "output_type": "stream",
     "text": [
      "--->> cal O and jac  0.0384821891784668\n",
      "compute_update  0.04059481620788574\n",
      "(0.004604254809907004+0j)\n",
      "n_discard =  144\n",
      "discard samples 0.746483564376831\n",
      "n_samples_node =  1000\n",
      "generate_samples :  0.5452189445495605\n",
      "     prepare getting local values 0.0027179718017578125\n",
      "     obtained local values 0.009463071823120117\n",
      "get_mc_stats 0.011863946914672852\n"
     ]
    },
    {
     "name": "stderr",
     "output_type": "stream",
     "text": [
      " 12%|█▏        | 117/1000 [02:28<18:58,  1.29s/it, Energy=0.000093+0.000000j ± 0.000089 [σ²=0.000009]]"
     ]
    },
    {
     "name": "stdout",
     "output_type": "stream",
     "text": [
      "--->> cal O and jac  0.03856515884399414\n",
      "compute_update  0.040659427642822266\n",
      "(0.004618134567031048+0j)\n",
      "n_discard =  144\n",
      "discard samples 0.7512862682342529\n",
      "n_samples_node =  1000\n",
      "generate_samples :  0.4397609233856201\n",
      "     prepare getting local values 0.0013813972473144531\n",
      "     obtained local values 0.004709005355834961\n",
      "get_mc_stats 0.006533622741699219\n"
     ]
    },
    {
     "name": "stderr",
     "output_type": "stream",
     "text": [
      " 12%|█▏        | 118/1000 [02:30<18:44,  1.27s/it, Energy=-0.000087+0.000000j ± 0.000095 [σ²=0.000008]]"
     ]
    },
    {
     "name": "stdout",
     "output_type": "stream",
     "text": [
      "--->> cal O and jac  0.040634870529174805\n",
      "compute_update  0.042472124099731445\n",
      "(0.004626192201172193+0j)\n",
      "n_discard =  144\n",
      "discard samples 0.7471756935119629\n",
      "n_samples_node =  1000\n",
      "generate_samples :  0.44867801666259766\n",
      "     prepare getting local values 0.0013585090637207031\n",
      "     obtained local values 0.004786252975463867\n",
      "get_mc_stats 0.0063555240631103516\n"
     ]
    },
    {
     "name": "stderr",
     "output_type": "stream",
     "text": [
      " 12%|█▏        | 119/1000 [02:31<18:34,  1.27s/it, Energy=-0.000079+0.000000j ± 0.000093 [σ²=0.000008]]"
     ]
    },
    {
     "name": "stdout",
     "output_type": "stream",
     "text": [
      "--->> cal O and jac  0.03615450859069824\n",
      "compute_update  0.03832435607910156\n",
      "(0.004625362397851308+0j)\n",
      "n_discard =  144\n",
      "discard samples 0.7464618682861328\n",
      "n_samples_node =  1000\n",
      "generate_samples :  0.4694559574127197\n",
      "     prepare getting local values 0.0012345314025878906\n",
      "     obtained local values 0.004489898681640625\n",
      "get_mc_stats 0.006051778793334961\n"
     ]
    },
    {
     "name": "stderr",
     "output_type": "stream",
     "text": [
      " 12%|█▏        | 120/1000 [02:32<18:32,  1.26s/it, Energy=0.000119+0.000000j ± 0.000081 [σ²=0.000008]] "
     ]
    },
    {
     "name": "stdout",
     "output_type": "stream",
     "text": [
      "--->> cal O and jac  0.0363311767578125\n",
      "compute_update  0.03834199905395508\n",
      "(0.004636196294969817+0j)\n",
      "n_discard =  144\n",
      "discard samples 0.743643045425415\n",
      "n_samples_node =  1000\n",
      "generate_samples :  0.451491117477417\n",
      "     prepare getting local values 0.0013222694396972656\n",
      "     obtained local values 0.004672050476074219\n",
      "get_mc_stats 0.00626826286315918\n"
     ]
    },
    {
     "name": "stderr",
     "output_type": "stream",
     "text": [
      " 12%|█▏        | 121/1000 [02:33<18:24,  1.26s/it, Energy=-0.000033+0.000000j ± 0.000081 [σ²=0.000008]]"
     ]
    },
    {
     "name": "stdout",
     "output_type": "stream",
     "text": [
      "--->> cal O and jac  0.03502774238586426\n",
      "compute_update  0.036898136138916016\n",
      "(0.004631924562368588+0j)\n",
      "n_discard =  144\n",
      "discard samples 0.7453935146331787\n",
      "n_samples_node =  1000\n",
      "generate_samples :  0.441906213760376\n",
      "     prepare getting local values 0.0013797283172607422\n",
      "     obtained local values 0.004957437515258789\n",
      "get_mc_stats 0.0067675113677978516\n"
     ]
    },
    {
     "name": "stderr",
     "output_type": "stream",
     "text": [
      " 12%|█▏        | 122/1000 [02:35<18:18,  1.25s/it, Energy=-0.000021+0.000000j ± 0.000081 [σ²=0.000007]]"
     ]
    },
    {
     "name": "stdout",
     "output_type": "stream",
     "text": [
      "--->> cal O and jac  0.04040956497192383\n",
      "compute_update  0.042325496673583984\n",
      "(0.004642250284376217+0j)\n",
      "n_discard =  144\n",
      "discard samples 0.7474625110626221\n",
      "n_samples_node =  1000\n",
      "generate_samples :  0.44338440895080566\n",
      "     prepare getting local values 0.0016469955444335938\n",
      "     obtained local values 0.005218029022216797\n",
      "get_mc_stats 0.0073735713958740234\n"
     ]
    },
    {
     "name": "stderr",
     "output_type": "stream",
     "text": [
      " 12%|█▏        | 123/1000 [02:36<18:14,  1.25s/it, Energy=0.000010+0.000000j ± 0.000096 [σ²=0.000007]] "
     ]
    },
    {
     "name": "stdout",
     "output_type": "stream",
     "text": [
      "--->> cal O and jac  0.03866434097290039\n",
      "compute_update  0.04069995880126953\n",
      "(0.004644081378392032+0j)\n",
      "n_discard =  144\n",
      "discard samples 0.7519888877868652\n",
      "n_samples_node =  1000\n",
      "generate_samples :  0.44594907760620117\n",
      "     prepare getting local values 0.0013835430145263672\n",
      "     obtained local values 0.00495457649230957\n",
      "get_mc_stats 0.0069005489349365234\n"
     ]
    },
    {
     "name": "stderr",
     "output_type": "stream",
     "text": [
      " 12%|█▏        | 124/1000 [02:37<18:13,  1.25s/it, Energy=0.00011+0.00000j ± 0.00011 [σ²=0.00001]]    "
     ]
    },
    {
     "name": "stdout",
     "output_type": "stream",
     "text": [
      "--->> cal O and jac  0.038202762603759766\n",
      "compute_update  0.04024505615234375\n",
      "(0.00465384953809269+0j)\n",
      "n_discard =  144\n",
      "discard samples 0.7472424507141113\n",
      "n_samples_node =  1000\n",
      "generate_samples :  0.5675036907196045\n",
      "     prepare getting local values 0.002430438995361328\n",
      "     obtained local values 0.008780479431152344\n",
      "get_mc_stats 0.011586904525756836\n"
     ]
    },
    {
     "name": "stderr",
     "output_type": "stream",
     "text": [
      " 12%|█▎        | 125/1000 [02:39<18:43,  1.28s/it, Energy=-0.000182+0.000000j ± 0.000067 [σ²=0.000007]]"
     ]
    },
    {
     "name": "stdout",
     "output_type": "stream",
     "text": [
      "--->> cal O and jac  0.03821969032287598\n",
      "compute_update  0.04210805892944336\n",
      "(0.00465061360372163+0j)\n",
      "n_discard =  144\n",
      "discard samples 0.751091480255127\n",
      "n_samples_node =  1000\n",
      "generate_samples :  0.44360947608947754\n",
      "     prepare getting local values 0.0012764930725097656\n",
      "     obtained local values 0.004669189453125\n",
      "get_mc_stats 0.006220817565917969\n"
     ]
    },
    {
     "name": "stderr",
     "output_type": "stream",
     "text": [
      " 13%|█▎        | 126/1000 [02:40<18:32,  1.27s/it, Energy=-0.000051+0.000000j ± 0.000074 [σ²=0.000006]]"
     ]
    },
    {
     "name": "stdout",
     "output_type": "stream",
     "text": [
      "--->> cal O and jac  0.03960466384887695\n",
      "compute_update  0.04164385795593262\n",
      "(0.004658192246621538+0j)\n",
      "n_discard =  144\n",
      "discard samples 0.7467548847198486\n",
      "n_samples_node =  1000\n",
      "generate_samples :  0.44768714904785156\n",
      "     prepare getting local values 0.0013744831085205078\n",
      "     obtained local values 0.0049588680267333984\n",
      "get_mc_stats 0.0071146488189697266\n"
     ]
    },
    {
     "name": "stderr",
     "output_type": "stream",
     "text": [
      " 13%|█▎        | 127/1000 [02:41<18:23,  1.26s/it, Energy=-0.000071+0.000000j ± 0.000056 [σ²=0.000006]]"
     ]
    },
    {
     "name": "stdout",
     "output_type": "stream",
     "text": [
      "--->> cal O and jac  0.036870718002319336\n",
      "compute_update  0.039937496185302734\n",
      "(0.004652760226132943+0j)\n",
      "n_discard =  144\n",
      "discard samples 0.7607975006103516\n",
      "n_samples_node =  1000\n",
      "generate_samples :  0.44724512100219727\n",
      "     prepare getting local values 0.0013856887817382812\n",
      "     obtained local values 0.00495147705078125\n",
      "get_mc_stats 0.006979942321777344\n"
     ]
    },
    {
     "name": "stderr",
     "output_type": "stream",
     "text": [
      " 13%|█▎        | 128/1000 [02:42<18:22,  1.26s/it, Energy=0.000062+0.000000j ± 0.000090 [σ²=0.000006]] "
     ]
    },
    {
     "name": "stdout",
     "output_type": "stream",
     "text": [
      "--->> cal O and jac  0.04329037666320801\n",
      "compute_update  0.04695844650268555\n",
      "(0.004659994911340472+0j)\n",
      "n_discard =  144\n",
      "discard samples 0.7536923885345459\n",
      "n_samples_node =  1000\n",
      "generate_samples :  0.4434535503387451\n",
      "     prepare getting local values 0.0013010501861572266\n",
      "     obtained local values 0.004730701446533203\n",
      "get_mc_stats 0.0066874027252197266\n"
     ]
    },
    {
     "name": "stderr",
     "output_type": "stream",
     "text": [
      " 13%|█▎        | 129/1000 [02:44<18:16,  1.26s/it, Energy=-0.000160+0.000000j ± 0.000055 [σ²=0.000006]]"
     ]
    },
    {
     "name": "stdout",
     "output_type": "stream",
     "text": [
      "--->> cal O and jac  0.038024187088012695\n",
      "compute_update  0.04013800621032715\n",
      "(0.004646433882231706+0j)\n",
      "n_discard =  144\n",
      "discard samples 0.7447922229766846\n",
      "n_samples_node =  1000\n",
      "generate_samples :  0.4444856643676758\n",
      "     prepare getting local values 0.0013179779052734375\n",
      "     obtained local values 0.004590511322021484\n",
      "get_mc_stats 0.006366729736328125\n"
     ]
    },
    {
     "name": "stderr",
     "output_type": "stream",
     "text": [
      " 13%|█▎        | 130/1000 [02:45<18:09,  1.25s/it, Energy=0.000096+0.000000j ± 0.000063 [σ²=0.000006]] "
     ]
    },
    {
     "name": "stdout",
     "output_type": "stream",
     "text": [
      "--->> cal O and jac  0.03902411460876465\n",
      "compute_update  0.041136980056762695\n",
      "(0.0046469462979785055+0j)\n",
      "n_discard =  144\n",
      "discard samples 0.7461981773376465\n",
      "n_samples_node =  1000\n",
      "generate_samples :  0.48424553871154785\n",
      "     prepare getting local values 0.002692699432373047\n",
      "     obtained local values 0.009849309921264648\n",
      "get_mc_stats 0.013061761856079102\n"
     ]
    },
    {
     "name": "stderr",
     "output_type": "stream",
     "text": [
      " 13%|█▎        | 131/1000 [02:46<18:17,  1.26s/it, Energy=-0.000123+0.000000j ± 0.000071 [σ²=0.000005]]"
     ]
    },
    {
     "name": "stdout",
     "output_type": "stream",
     "text": [
      "--->> cal O and jac  0.03859829902648926\n",
      "compute_update  0.04057168960571289\n",
      "(0.004652615512992192+0j)\n",
      "n_discard =  144\n",
      "discard samples 0.746783971786499\n",
      "n_samples_node =  1000\n",
      "generate_samples :  0.4491102695465088\n",
      "     prepare getting local values 0.0013992786407470703\n",
      "     obtained local values 0.004870176315307617\n",
      "get_mc_stats 0.0066318511962890625\n"
     ]
    },
    {
     "name": "stderr",
     "output_type": "stream",
     "text": [
      " 13%|█▎        | 132/1000 [02:47<18:11,  1.26s/it, Energy=-0.000058+0.000000j ± 0.000090 [σ²=0.000006]]"
     ]
    },
    {
     "name": "stdout",
     "output_type": "stream",
     "text": [
      "--->> cal O and jac  0.03850126266479492\n",
      "compute_update  0.04062008857727051\n",
      "(0.004652899939381108+0j)\n",
      "n_discard =  144\n",
      "discard samples 0.7441451549530029\n",
      "n_samples_node =  1000\n",
      "generate_samples :  0.4472520351409912\n",
      "     prepare getting local values 0.0013477802276611328\n",
      "     obtained local values 0.004801750183105469\n",
      "get_mc_stats 0.006791830062866211\n"
     ]
    },
    {
     "name": "stderr",
     "output_type": "stream",
     "text": [
      " 13%|█▎        | 133/1000 [02:49<18:05,  1.25s/it, Energy=-0.000001+0.000000j ± 0.000086 [σ²=0.000006]]"
     ]
    },
    {
     "name": "stdout",
     "output_type": "stream",
     "text": [
      "--->> cal O and jac  0.03763580322265625\n",
      "compute_update  0.04003620147705078\n",
      "(0.004666969241955555+0j)\n",
      "n_discard =  144\n",
      "discard samples 0.7478291988372803\n",
      "n_samples_node =  1000\n",
      "generate_samples :  0.451265811920166\n",
      "     prepare getting local values 0.0013518333435058594\n",
      "     obtained local values 0.004831075668334961\n",
      "get_mc_stats 0.0066034793853759766\n"
     ]
    },
    {
     "name": "stderr",
     "output_type": "stream",
     "text": [
      " 13%|█▎        | 134/1000 [02:50<18:04,  1.25s/it, Energy=0.000005+0.000000j ± 0.000073 [σ²=0.000005]] "
     ]
    },
    {
     "name": "stdout",
     "output_type": "stream",
     "text": [
      "--->> cal O and jac  0.0407869815826416\n",
      "compute_update  0.04407048225402832\n",
      "(0.004678801406698701+0j)\n",
      "n_discard =  144\n",
      "discard samples 0.7531876564025879\n",
      "n_samples_node =  1000\n",
      "generate_samples :  0.604949951171875\n",
      "     prepare getting local values 0.002654552459716797\n",
      "     obtained local values 0.008433818817138672\n",
      "get_mc_stats 0.011205911636352539\n"
     ]
    },
    {
     "name": "stderr",
     "output_type": "stream",
     "text": [
      " 14%|█▎        | 135/1000 [02:51<18:44,  1.30s/it, Energy=0.000026+0.000000j ± 0.000063 [σ²=0.000005]]"
     ]
    },
    {
     "name": "stdout",
     "output_type": "stream",
     "text": [
      "--->> cal O and jac  0.037362098693847656\n",
      "compute_update  0.040697336196899414\n",
      "(0.004667933089745432+0j)\n",
      "n_discard =  144\n",
      "discard samples 0.8492271900177002\n",
      "n_samples_node =  1000\n",
      "generate_samples :  0.44830965995788574\n",
      "     prepare getting local values 0.0019016265869140625\n",
      "     obtained local values 0.005333900451660156\n",
      "get_mc_stats 0.007692813873291016\n"
     ]
    },
    {
     "name": "stderr",
     "output_type": "stream",
     "text": [
      " 14%|█▎        | 136/1000 [02:53<18:55,  1.31s/it, Energy=0.000074+0.000000j ± 0.000075 [σ²=0.000005]]"
     ]
    },
    {
     "name": "stdout",
     "output_type": "stream",
     "text": [
      "--->> cal O and jac  0.03785395622253418\n",
      "compute_update  0.040283203125\n",
      "(0.004672658168198527+0j)\n",
      "n_discard =  144\n",
      "discard samples 0.7894535064697266\n",
      "n_samples_node =  1000\n",
      "generate_samples :  0.4459686279296875\n",
      "     prepare getting local values 0.0013883113861083984\n",
      "     obtained local values 0.004901409149169922\n",
      "get_mc_stats 0.007081508636474609\n"
     ]
    },
    {
     "name": "stderr",
     "output_type": "stream",
     "text": [
      " 14%|█▎        | 137/1000 [02:54<18:47,  1.31s/it, Energy=-0.000089+0.000000j ± 0.000064 [σ²=0.000005]]"
     ]
    },
    {
     "name": "stdout",
     "output_type": "stream",
     "text": [
      "--->> cal O and jac  0.04047036170959473\n",
      "compute_update  0.04391050338745117\n",
      "(0.004682598412238705+0j)\n",
      "n_discard =  144\n",
      "discard samples 0.7458140850067139\n",
      "n_samples_node =  1000\n",
      "generate_samples :  0.4451136589050293\n",
      "     prepare getting local values 0.0013587474822998047\n",
      "     obtained local values 0.004666805267333984\n",
      "get_mc_stats 0.006197452545166016\n"
     ]
    },
    {
     "name": "stderr",
     "output_type": "stream",
     "text": [
      " 14%|█▍        | 138/1000 [02:55<18:29,  1.29s/it, Energy=-0.000019+0.000000j ± 0.000077 [σ²=0.000005]]"
     ]
    },
    {
     "name": "stdout",
     "output_type": "stream",
     "text": [
      "--->> cal O and jac  0.04008293151855469\n",
      "compute_update  0.04198408126831055\n",
      "(0.0046810703974751134+0j)\n",
      "n_discard =  144\n",
      "discard samples 0.743255615234375\n",
      "n_samples_node =  1000\n",
      "generate_samples :  0.5650722980499268\n",
      "     prepare getting local values 0.0013086795806884766\n",
      "     obtained local values 0.00476527214050293\n",
      "get_mc_stats 0.00657343864440918\n"
     ]
    },
    {
     "name": "stderr",
     "output_type": "stream",
     "text": [
      " 14%|█▍        | 139/1000 [02:56<18:45,  1.31s/it, Energy=0.000047+0.000000j ± 0.000073 [σ²=0.000005]] "
     ]
    },
    {
     "name": "stdout",
     "output_type": "stream",
     "text": [
      "--->> cal O and jac  0.0359196662902832\n",
      "compute_update  0.038233041763305664\n",
      "(0.00469249338433485+0j)\n",
      "n_discard =  144\n",
      "discard samples 0.9139044284820557\n",
      "n_samples_node =  1000\n",
      "generate_samples :  0.44458818435668945\n",
      "     prepare getting local values 0.00130462646484375\n",
      "     obtained local values 0.004608869552612305\n",
      "get_mc_stats 0.00642704963684082\n"
     ]
    },
    {
     "name": "stderr",
     "output_type": "stream",
     "text": [
      " 14%|█▍        | 140/1000 [02:58<19:10,  1.34s/it, Energy=-0.000063+0.000000j ± 0.000056 [σ²=0.000005]]"
     ]
    },
    {
     "name": "stdout",
     "output_type": "stream",
     "text": [
      "--->> cal O and jac  0.0378413200378418\n",
      "compute_update  0.04118180274963379\n",
      "(0.0047025311159566855+0j)\n",
      "n_discard =  144\n",
      "discard samples 0.7465512752532959\n",
      "n_samples_node =  1000\n",
      "generate_samples :  0.45959997177124023\n",
      "     prepare getting local values 0.0013120174407958984\n",
      "     obtained local values 0.004800319671630859\n",
      "get_mc_stats 0.006757020950317383\n"
     ]
    },
    {
     "name": "stderr",
     "output_type": "stream",
     "text": [
      " 14%|█▍        | 141/1000 [02:59<18:47,  1.31s/it, Energy=-0.000022+0.000000j ± 0.000054 [σ²=0.000004]]"
     ]
    },
    {
     "name": "stdout",
     "output_type": "stream",
     "text": [
      "--->> cal O and jac  0.038767099380493164\n",
      "compute_update  0.040894269943237305\n",
      "(0.00471074748317322+0j)\n",
      "n_discard =  144\n",
      "discard samples 0.7560670375823975\n",
      "n_samples_node =  1000\n",
      "generate_samples :  0.44541454315185547\n",
      "     prepare getting local values 0.0013582706451416016\n",
      "     obtained local values 0.004702329635620117\n",
      "get_mc_stats 0.006285190582275391\n"
     ]
    },
    {
     "name": "stderr",
     "output_type": "stream",
     "text": [
      " 14%|█▍        | 142/1000 [03:00<18:30,  1.29s/it, Energy=0.000077+0.000000j ± 0.000055 [σ²=0.000004]] "
     ]
    },
    {
     "name": "stdout",
     "output_type": "stream",
     "text": [
      "--->> cal O and jac  0.035336971282958984\n",
      "compute_update  0.03888869285583496\n",
      "(0.004713857698106632+0j)\n",
      "n_discard =  144\n",
      "discard samples 0.7481653690338135\n",
      "n_samples_node =  1000\n",
      "generate_samples :  0.44538044929504395\n",
      "     prepare getting local values 0.0013899803161621094\n",
      "     obtained local values 0.004902362823486328\n",
      "get_mc_stats 0.006368160247802734\n"
     ]
    },
    {
     "name": "stderr",
     "output_type": "stream",
     "text": [
      " 14%|█▍        | 143/1000 [03:02<18:14,  1.28s/it, Energy=-0.000084+0.000000j ± 0.000060 [σ²=0.000004]]"
     ]
    },
    {
     "name": "stdout",
     "output_type": "stream",
     "text": [
      "--->> cal O and jac  0.03553318977355957\n",
      "compute_update  0.037564992904663086\n",
      "(0.004723684439269875+0j)\n",
      "n_discard =  144\n",
      "discard samples 0.7460536956787109\n",
      "n_samples_node =  1000\n",
      "generate_samples :  0.45138120651245117\n",
      "     prepare getting local values 0.002575397491455078\n",
      "     obtained local values 0.008884429931640625\n",
      "get_mc_stats 0.010973691940307617\n"
     ]
    },
    {
     "name": "stderr",
     "output_type": "stream",
     "text": [
      " 14%|█▍        | 144/1000 [03:03<18:06,  1.27s/it, Energy=0.000002+0.000000j ± 0.000070 [σ²=0.000004]] "
     ]
    },
    {
     "name": "stdout",
     "output_type": "stream",
     "text": [
      "--->> cal O and jac  0.03653097152709961\n",
      "compute_update  0.039380788803100586\n",
      "(0.004726990543867444+0j)\n",
      "n_discard =  144\n",
      "discard samples 0.7494995594024658\n",
      "n_samples_node =  1000\n",
      "generate_samples :  0.4825725555419922\n",
      "     prepare getting local values 0.0013010501861572266\n",
      "     obtained local values 0.0046329498291015625\n",
      "get_mc_stats 0.0065555572509765625\n"
     ]
    },
    {
     "name": "stderr",
     "output_type": "stream",
     "text": [
      " 14%|█▍        | 145/1000 [03:04<18:07,  1.27s/it, Energy=-0.000049+0.000000j ± 0.000048 [σ²=0.000004]]"
     ]
    },
    {
     "name": "stdout",
     "output_type": "stream",
     "text": [
      "--->> cal O and jac  0.03764748573303223\n",
      "compute_update  0.039710044860839844\n",
      "(0.004734445569808734+0j)\n",
      "n_discard =  144\n",
      "discard samples 0.7440533638000488\n",
      "n_samples_node =  1000\n",
      "generate_samples :  0.4475722312927246\n",
      "     prepare getting local values 0.0026302337646484375\n",
      "     obtained local values 0.008960723876953125\n",
      "get_mc_stats 0.010983705520629883\n"
     ]
    },
    {
     "name": "stderr",
     "output_type": "stream",
     "text": [
      " 15%|█▍        | 146/1000 [03:05<18:00,  1.26s/it, Energy=-0.000056+0.000000j ± 0.000043 [σ²=0.000004]]"
     ]
    },
    {
     "name": "stdout",
     "output_type": "stream",
     "text": [
      "--->> cal O and jac  0.040155649185180664\n",
      "compute_update  0.04226994514465332\n",
      "(0.0047391612913868855+0j)\n",
      "n_discard =  144\n",
      "discard samples 0.7562069892883301\n",
      "n_samples_node =  1000\n",
      "generate_samples :  0.4526529312133789\n",
      "     prepare getting local values 0.0014393329620361328\n",
      "     obtained local values 0.004916667938232422\n",
      "get_mc_stats 0.0066089630126953125\n"
     ]
    },
    {
     "name": "stderr",
     "output_type": "stream",
     "text": [
      " 15%|█▍        | 147/1000 [03:07<17:57,  1.26s/it, Energy=0.000005+0.000000j ± 0.000061 [σ²=0.000004]] "
     ]
    },
    {
     "name": "stdout",
     "output_type": "stream",
     "text": [
      "--->> cal O and jac  0.038602352142333984\n",
      "compute_update  0.042113542556762695\n",
      "(0.004746330806684992+0j)\n",
      "n_discard =  144\n",
      "discard samples 0.8036601543426514\n",
      "n_samples_node =  1000\n",
      "generate_samples :  0.4451913833618164\n",
      "     prepare getting local values 0.0027229785919189453\n",
      "     obtained local values 0.006754159927368164\n",
      "get_mc_stats 0.00922703742980957\n"
     ]
    },
    {
     "name": "stderr",
     "output_type": "stream",
     "text": [
      " 15%|█▍        | 148/1000 [03:08<18:06,  1.28s/it, Energy=0.000019+0.000000j ± 0.000051 [σ²=0.000004]]"
     ]
    },
    {
     "name": "stdout",
     "output_type": "stream",
     "text": [
      "--->> cal O and jac  0.04132556915283203\n",
      "compute_update  0.04357719421386719\n",
      "(0.004749735795132267+0j)\n",
      "n_discard =  144\n",
      "discard samples 0.749173641204834\n",
      "n_samples_node =  1000\n",
      "generate_samples :  0.4476189613342285\n",
      "     prepare getting local values 0.0013728141784667969\n",
      "     obtained local values 0.004854440689086914\n",
      "get_mc_stats 0.006530284881591797\n"
     ]
    },
    {
     "name": "stderr",
     "output_type": "stream",
     "text": [
      " 15%|█▍        | 149/1000 [03:09<17:58,  1.27s/it, Energy=0.000031+0.000000j ± 0.000063 [σ²=0.000004]]"
     ]
    },
    {
     "name": "stdout",
     "output_type": "stream",
     "text": [
      "--->> cal O and jac  0.03885936737060547\n",
      "compute_update  0.042130231857299805\n",
      "(0.004753820497401406+0j)\n",
      "n_discard =  144\n",
      "discard samples 0.7517590522766113\n",
      "n_samples_node =  1000\n",
      "generate_samples :  0.44791674613952637\n",
      "     prepare getting local values 0.0014026165008544922\n",
      "     obtained local values 0.004911661148071289\n",
      "get_mc_stats 0.006772279739379883\n"
     ]
    },
    {
     "name": "stderr",
     "output_type": "stream",
     "text": [
      " 15%|█▌        | 150/1000 [03:10<17:52,  1.26s/it, Energy=0.000143+0.000000j ± 0.000056 [σ²=0.000004]]"
     ]
    },
    {
     "name": "stdout",
     "output_type": "stream",
     "text": [
      "--->> cal O and jac  0.040067195892333984\n",
      "compute_update  0.04209017753601074\n",
      "(0.00476414410759497+0j)\n",
      "n_discard =  144\n",
      "discard samples 0.7457077503204346\n",
      "n_samples_node =  1000\n",
      "generate_samples :  0.44493556022644043\n",
      "     prepare getting local values 0.0013725757598876953\n",
      "     obtained local values 0.00489044189453125\n",
      "get_mc_stats 0.0064051151275634766\n"
     ]
    },
    {
     "name": "stderr",
     "output_type": "stream",
     "text": [
      " 15%|█▌        | 151/1000 [03:12<17:48,  1.26s/it, Energy=-0.000010+0.000000j ± 0.000055 [σ²=0.000004]]"
     ]
    },
    {
     "name": "stdout",
     "output_type": "stream",
     "text": [
      "--->> cal O and jac  0.04516339302062988\n",
      "compute_update  0.04896974563598633\n",
      "(0.004766759078360157+0j)\n",
      "n_discard =  144\n",
      "discard samples 0.749859094619751\n",
      "n_samples_node =  1000\n",
      "generate_samples :  0.4469776153564453\n",
      "     prepare getting local values 0.0013213157653808594\n",
      "     obtained local values 0.004789829254150391\n",
      "get_mc_stats 0.006536245346069336\n"
     ]
    },
    {
     "name": "stderr",
     "output_type": "stream",
     "text": [
      " 15%|█▌        | 152/1000 [03:13<17:44,  1.25s/it, Energy=0.000024+0.000000j ± 0.000054 [σ²=0.000003]] "
     ]
    },
    {
     "name": "stdout",
     "output_type": "stream",
     "text": [
      "--->> cal O and jac  0.03949332237243652\n",
      "compute_update  0.04246854782104492\n",
      "(0.004766842752163321+0j)\n",
      "n_discard =  144\n",
      "discard samples 0.7719306945800781\n",
      "n_samples_node =  1000\n",
      "generate_samples :  0.44545865058898926\n",
      "     prepare getting local values 0.0013453960418701172\n",
      "     obtained local values 0.004770040512084961\n",
      "get_mc_stats 0.006695985794067383\n"
     ]
    },
    {
     "name": "stderr",
     "output_type": "stream",
     "text": [
      " 15%|█▌        | 153/1000 [03:14<17:45,  1.26s/it, Energy=-0.000012+0.000000j ± 0.000059 [σ²=0.000003]]"
     ]
    },
    {
     "name": "stdout",
     "output_type": "stream",
     "text": [
      "--->> cal O and jac  0.0381007194519043\n",
      "compute_update  0.04006767272949219\n",
      "(0.004759452379758423+0j)\n",
      "n_discard =  144\n",
      "discard samples 0.7441861629486084\n",
      "n_samples_node =  1000\n",
      "generate_samples :  0.44896674156188965\n",
      "     prepare getting local values 0.0014255046844482422\n",
      "     obtained local values 0.004824161529541016\n",
      "get_mc_stats 0.006613969802856445\n"
     ]
    },
    {
     "name": "stderr",
     "output_type": "stream",
     "text": [
      " 15%|█▌        | 154/1000 [03:15<17:40,  1.25s/it, Energy=-0.000032+0.000000j ± 0.000055 [σ²=0.000003]]"
     ]
    },
    {
     "name": "stdout",
     "output_type": "stream",
     "text": [
      "--->> cal O and jac  0.040814876556396484\n",
      "compute_update  0.0428318977355957\n",
      "(0.0047700995796889425+0j)\n",
      "n_discard =  144\n",
      "discard samples 0.7464144229888916\n",
      "n_samples_node =  1000\n",
      "generate_samples :  0.4452626705169678\n",
      "     prepare getting local values 0.0013697147369384766\n",
      "     obtained local values 0.0048902034759521484\n",
      "get_mc_stats 0.006825685501098633\n"
     ]
    },
    {
     "name": "stderr",
     "output_type": "stream",
     "text": [
      " 16%|█▌        | 155/1000 [03:17<17:36,  1.25s/it, Energy=0.000020+0.000000j ± 0.000047 [σ²=0.000003]] "
     ]
    },
    {
     "name": "stdout",
     "output_type": "stream",
     "text": [
      "--->> cal O and jac  0.0389256477355957\n",
      "compute_update  0.04249119758605957\n",
      "(0.004775033708868668+0j)\n",
      "n_discard =  144\n",
      "discard samples 0.7530584335327148\n",
      "n_samples_node =  1000\n",
      "generate_samples :  0.44002628326416016\n",
      "     prepare getting local values 0.0024843215942382812\n",
      "     obtained local values 0.008336305618286133\n",
      "get_mc_stats 0.010617733001708984\n"
     ]
    },
    {
     "name": "stderr",
     "output_type": "stream",
     "text": [
      " 16%|█▌        | 156/1000 [03:18<17:34,  1.25s/it, Energy=0.000049+0.000000j ± 0.000040 [σ²=0.000003]]"
     ]
    },
    {
     "name": "stdout",
     "output_type": "stream",
     "text": [
      "--->> cal O and jac  0.03825688362121582\n",
      "compute_update  0.04053235054016113\n",
      "(0.0047799772165663685+0j)\n",
      "n_discard =  144\n",
      "discard samples 0.7514240741729736\n",
      "n_samples_node =  1000\n",
      "generate_samples :  0.4423980712890625\n",
      "     prepare getting local values 0.0013751983642578125\n",
      "     obtained local values 0.004695415496826172\n",
      "get_mc_stats 0.006526947021484375\n"
     ]
    },
    {
     "name": "stderr",
     "output_type": "stream",
     "text": [
      " 16%|█▌        | 157/1000 [03:19<17:32,  1.25s/it, Energy=0.000020+0.000000j ± 0.000044 [σ²=0.000003]]"
     ]
    },
    {
     "name": "stdout",
     "output_type": "stream",
     "text": [
      "--->> cal O and jac  0.04144692420959473\n",
      "compute_update  0.04355788230895996\n",
      "(0.004785192322332513+0j)\n",
      "n_discard =  144\n",
      "discard samples 0.7482733726501465\n",
      "n_samples_node =  1000\n",
      "generate_samples :  0.4458489418029785\n",
      "     prepare getting local values 0.0013470649719238281\n",
      "     obtained local values 0.004877805709838867\n",
      "get_mc_stats 0.006890296936035156\n"
     ]
    },
    {
     "name": "stderr",
     "output_type": "stream",
     "text": [
      " 16%|█▌        | 158/1000 [03:20<17:30,  1.25s/it, Energy=0.000054+0.000000j ± 0.000056 [σ²=0.000003]]"
     ]
    },
    {
     "name": "stdout",
     "output_type": "stream",
     "text": [
      "--->> cal O and jac  0.040079355239868164\n",
      "compute_update  0.04403090476989746\n",
      "(0.004795462032388008+0j)\n",
      "n_discard =  144\n",
      "discard samples 0.7488312721252441\n",
      "n_samples_node =  1000\n",
      "generate_samples :  0.4483151435852051\n",
      "     prepare getting local values 0.002342700958251953\n",
      "     obtained local values 0.008599281311035156\n",
      "get_mc_stats 0.011011838912963867\n"
     ]
    },
    {
     "name": "stderr",
     "output_type": "stream",
     "text": [
      " 16%|█▌        | 159/1000 [03:22<17:31,  1.25s/it, Energy=0.000015+0.000000j ± 0.000055 [σ²=0.000003]]"
     ]
    },
    {
     "name": "stdout",
     "output_type": "stream",
     "text": [
      "--->> cal O and jac  0.04137611389160156\n",
      "compute_update  0.044271230697631836\n",
      "(0.004803492594331497+0j)\n",
      "n_discard =  144\n",
      "discard samples 0.7494361400604248\n",
      "n_samples_node =  1000\n",
      "generate_samples :  0.44480133056640625\n",
      "     prepare getting local values 0.0022492408752441406\n",
      "     obtained local values 0.00831294059753418\n",
      "get_mc_stats 0.01060032844543457\n"
     ]
    },
    {
     "name": "stderr",
     "output_type": "stream",
     "text": [
      " 16%|█▌        | 160/1000 [03:23<17:29,  1.25s/it, Energy=0.000063+0.000000j ± 0.000054 [σ²=0.000003]]"
     ]
    },
    {
     "name": "stdout",
     "output_type": "stream",
     "text": [
      "--->> cal O and jac  0.03921651840209961\n",
      "compute_update  0.041901588439941406\n",
      "(0.004822306079891821+0j)\n",
      "n_discard =  144\n",
      "discard samples 0.7504673004150391\n",
      "n_samples_node =  1000\n",
      "generate_samples :  0.447767972946167\n",
      "     prepare getting local values 0.0013399124145507812\n",
      "     obtained local values 0.004819631576538086\n",
      "get_mc_stats 0.006540536880493164\n"
     ]
    },
    {
     "name": "stderr",
     "output_type": "stream",
     "text": [
      " 16%|█▌        | 161/1000 [03:24<17:27,  1.25s/it, Energy=0.000045+0.000000j ± 0.000051 [σ²=0.000003]]"
     ]
    },
    {
     "name": "stdout",
     "output_type": "stream",
     "text": [
      "--->> cal O and jac  0.03889751434326172\n",
      "compute_update  0.04131960868835449\n",
      "(0.004827997345168311+0j)\n",
      "n_discard =  144\n",
      "discard samples 0.7440626621246338\n",
      "n_samples_node =  1000\n",
      "generate_samples :  0.44542670249938965\n",
      "     prepare getting local values 0.0013430118560791016\n",
      "     obtained local values 0.00469660758972168\n",
      "get_mc_stats 0.006602048873901367\n"
     ]
    },
    {
     "name": "stderr",
     "output_type": "stream",
     "text": [
      " 16%|█▌        | 162/1000 [03:25<17:25,  1.25s/it, Energy=-0.000015+0.000000j ± 0.000051 [σ²=0.000003]]"
     ]
    },
    {
     "name": "stdout",
     "output_type": "stream",
     "text": [
      "--->> cal O and jac  0.0430302619934082\n",
      "compute_update  0.04698348045349121\n",
      "(0.004835923513155589+0j)\n",
      "n_discard =  144\n",
      "discard samples 0.7520666122436523\n",
      "n_samples_node =  1000\n",
      "generate_samples :  0.45017027854919434\n",
      "     prepare getting local values 0.0022172927856445312\n",
      "     obtained local values 0.008281469345092773\n",
      "get_mc_stats 0.010390996932983398\n"
     ]
    },
    {
     "name": "stderr",
     "output_type": "stream",
     "text": [
      " 16%|█▋        | 163/1000 [03:27<17:26,  1.25s/it, Energy=-0.000076+0.000000j ± 0.000044 [σ²=0.000002]]"
     ]
    },
    {
     "name": "stdout",
     "output_type": "stream",
     "text": [
      "--->> cal O and jac  0.03981900215148926\n",
      "compute_update  0.04199814796447754\n",
      "(0.004835126575811841+0j)\n",
      "n_discard =  144\n",
      "discard samples 0.7480943202972412\n",
      "n_samples_node =  1000\n",
      "generate_samples :  0.44826698303222656\n",
      "     prepare getting local values 0.001386404037475586\n",
      "     obtained local values 0.00494384765625\n",
      "get_mc_stats 0.006731510162353516\n"
     ]
    },
    {
     "name": "stderr",
     "output_type": "stream",
     "text": [
      " 16%|█▋        | 164/1000 [03:28<17:23,  1.25s/it, Energy=0.000102+0.000000j ± 0.000052 [σ²=0.000003]] "
     ]
    },
    {
     "name": "stdout",
     "output_type": "stream",
     "text": [
      "--->> cal O and jac  0.03693890571594238\n",
      "compute_update  0.039224863052368164\n",
      "(0.004847060407738912+0j)\n",
      "n_discard =  144\n",
      "discard samples 0.7629470825195312\n",
      "n_samples_node =  1000\n",
      "generate_samples :  0.4889371395111084\n",
      "     prepare getting local values 0.0026617050170898438\n",
      "     obtained local values 0.00793600082397461\n",
      "get_mc_stats 0.010595560073852539\n"
     ]
    },
    {
     "name": "stderr",
     "output_type": "stream",
     "text": [
      " 16%|█▋        | 165/1000 [03:29<17:36,  1.27s/it, Energy=0.000056+0.000000j ± 0.000053 [σ²=0.000003]]"
     ]
    },
    {
     "name": "stdout",
     "output_type": "stream",
     "text": [
      "--->> cal O and jac  0.03795003890991211\n",
      "compute_update  0.04108452796936035\n",
      "(0.004855341442179261+0j)\n",
      "n_discard =  144\n",
      "discard samples 0.7508907318115234\n",
      "n_samples_node =  1000\n",
      "generate_samples :  0.450793981552124\n",
      "     prepare getting local values 0.0013468265533447266\n",
      "     obtained local values 0.004759550094604492\n",
      "get_mc_stats 0.006896495819091797\n"
     ]
    },
    {
     "name": "stderr",
     "output_type": "stream",
     "text": [
      " 17%|█▋        | 166/1000 [03:30<17:31,  1.26s/it, Energy=-0.000073+0.000000j ± 0.000045 [σ²=0.000002]]"
     ]
    },
    {
     "name": "stdout",
     "output_type": "stream",
     "text": [
      "--->> cal O and jac  0.03582406044006348\n",
      "compute_update  0.03967738151550293\n",
      "(0.004855995088411625+0j)\n",
      "n_discard =  144\n",
      "discard samples 0.7485051155090332\n",
      "n_samples_node =  1000\n",
      "generate_samples :  0.44774770736694336\n",
      "     prepare getting local values 0.0013179779052734375\n",
      "     obtained local values 0.0046808719635009766\n",
      "get_mc_stats 0.006575107574462891\n"
     ]
    },
    {
     "name": "stderr",
     "output_type": "stream",
     "text": [
      " 17%|█▋        | 167/1000 [03:32<17:25,  1.26s/it, Energy=-0.000083+0.000000j ± 0.000045 [σ²=0.000002]]"
     ]
    },
    {
     "name": "stdout",
     "output_type": "stream",
     "text": [
      "--->> cal O and jac  0.03641319274902344\n",
      "compute_update  0.038619041442871094\n",
      "(0.004862123971925096+0j)\n",
      "n_discard =  144\n",
      "discard samples 0.7452359199523926\n",
      "n_samples_node =  1000\n",
      "generate_samples :  0.4483757019042969\n",
      "     prepare getting local values 0.0027272701263427734\n",
      "     obtained local values 0.007828950881958008\n",
      "get_mc_stats 0.010486125946044922\n"
     ]
    },
    {
     "name": "stderr",
     "output_type": "stream",
     "text": [
      " 17%|█▋        | 168/1000 [03:33<17:23,  1.25s/it, Energy=-0.000016+0.000000j ± 0.000042 [σ²=0.000002]]"
     ]
    },
    {
     "name": "stdout",
     "output_type": "stream",
     "text": [
      "--->> cal O and jac  0.044355154037475586\n",
      "compute_update  0.04655766487121582\n",
      "(0.004874386380115422+0j)\n",
      "n_discard =  144\n",
      "discard samples 0.7492027282714844\n",
      "n_samples_node =  1000\n",
      "generate_samples :  0.44206953048706055\n",
      "     prepare getting local values 0.0013453960418701172\n",
      "     obtained local values 0.004785299301147461\n",
      "get_mc_stats 0.006611347198486328\n"
     ]
    },
    {
     "name": "stderr",
     "output_type": "stream",
     "text": [
      " 17%|█▋        | 169/1000 [03:34<17:19,  1.25s/it, Energy=0.000080+0.000000j ± 0.000060 [σ²=0.000002]] "
     ]
    },
    {
     "name": "stdout",
     "output_type": "stream",
     "text": [
      "--->> cal O and jac  0.039606332778930664\n",
      "compute_update  0.04177451133728027\n",
      "(0.004873156016593347+0j)\n",
      "n_discard =  144\n",
      "discard samples 0.7444875240325928\n",
      "n_samples_node =  1000\n",
      "generate_samples :  0.45133185386657715\n",
      "     prepare getting local values 0.0013720989227294922\n",
      "     obtained local values 0.004912137985229492\n",
      "get_mc_stats 0.00656580924987793\n"
     ]
    },
    {
     "name": "stderr",
     "output_type": "stream",
     "text": [
      " 17%|█▋        | 170/1000 [03:35<17:16,  1.25s/it, Energy=0.000036+0.000000j ± 0.000045 [σ²=0.000002]]"
     ]
    },
    {
     "name": "stdout",
     "output_type": "stream",
     "text": [
      "--->> cal O and jac  0.03723883628845215\n",
      "compute_update  0.03937172889709473\n",
      "(0.0048896001940646715+0j)\n",
      "n_discard =  144\n",
      "discard samples 0.764916181564331\n",
      "n_samples_node =  1000\n",
      "generate_samples :  0.4441077709197998\n",
      "     prepare getting local values 0.001401662826538086\n",
      "     obtained local values 0.004972219467163086\n",
      "get_mc_stats 0.006598234176635742\n"
     ]
    },
    {
     "name": "stderr",
     "output_type": "stream",
     "text": [
      " 17%|█▋        | 171/1000 [03:37<17:18,  1.25s/it, Energy=-0.000013+0.000000j ± 0.000039 [σ²=0.000002]]"
     ]
    },
    {
     "name": "stdout",
     "output_type": "stream",
     "text": [
      "--->> cal O and jac  0.041715145111083984\n",
      "compute_update  0.04383969306945801\n",
      "(0.004891097228560546+0j)\n",
      "n_discard =  144\n",
      "discard samples 0.8084371089935303\n",
      "n_samples_node =  1000\n",
      "generate_samples :  0.6304409503936768\n",
      "     prepare getting local values 0.002584218978881836\n",
      "     obtained local values 0.009494304656982422\n",
      "get_mc_stats 0.012050628662109375\n"
     ]
    },
    {
     "name": "stderr",
     "output_type": "stream",
     "text": [
      " 17%|█▋        | 172/1000 [03:38<18:17,  1.32s/it, Energy=0.000058+0.000000j ± 0.000046 [σ²=0.000002]] "
     ]
    },
    {
     "name": "stdout",
     "output_type": "stream",
     "text": [
      "--->> cal O and jac  0.03860020637512207\n",
      "compute_update  0.0405728816986084\n",
      "(0.004888422078655046+0j)\n",
      "n_discard =  144\n",
      "discard samples 0.8582844734191895\n",
      "n_samples_node =  1000\n",
      "generate_samples :  0.5208604335784912\n",
      "     prepare getting local values 0.0027625560760498047\n",
      "     obtained local values 0.008384943008422852\n",
      "get_mc_stats 0.011214971542358398\n"
     ]
    },
    {
     "name": "stderr",
     "output_type": "stream",
     "text": [
      " 17%|█▋        | 173/1000 [03:40<18:41,  1.36s/it, Energy=-0.000008+0.000000j ± 0.000043 [σ²=0.000002]]"
     ]
    },
    {
     "name": "stdout",
     "output_type": "stream",
     "text": [
      "--->> cal O and jac  0.03603839874267578\n",
      "compute_update  0.038295745849609375\n",
      "(0.0048898772733155455+0j)\n",
      "n_discard =  144\n",
      "discard samples 0.7433350086212158\n",
      "n_samples_node =  1000\n",
      "generate_samples :  0.44348788261413574\n",
      "     prepare getting local values 0.001360177993774414\n",
      "     obtained local values 0.004885435104370117\n",
      "get_mc_stats 0.006454944610595703\n"
     ]
    },
    {
     "name": "stderr",
     "output_type": "stream",
     "text": [
      " 17%|█▋        | 174/1000 [03:41<18:10,  1.32s/it, Energy=-0.000047+0.000000j ± 0.000051 [σ²=0.000002]]"
     ]
    },
    {
     "name": "stdout",
     "output_type": "stream",
     "text": [
      "--->> cal O and jac  0.03827190399169922\n",
      "compute_update  0.04176187515258789\n",
      "(0.004892571567588505+0j)\n",
      "n_discard =  144\n",
      "discard samples 0.7473862171173096\n",
      "n_samples_node =  1000\n",
      "generate_samples :  0.44420909881591797\n",
      "     prepare getting local values 0.0021941661834716797\n",
      "     obtained local values 0.007862329483032227\n",
      "get_mc_stats 0.010074377059936523\n"
     ]
    },
    {
     "name": "stderr",
     "output_type": "stream",
     "text": [
      " 18%|█▊        | 175/1000 [03:42<17:50,  1.30s/it, Energy=-0.000061+0.000000j ± 0.000040 [σ²=0.000002]]"
     ]
    },
    {
     "name": "stdout",
     "output_type": "stream",
     "text": [
      "--->> cal O and jac  0.03828787803649902\n",
      "compute_update  0.04057049751281738\n",
      "(0.004900502917999707+0j)\n",
      "n_discard =  144\n",
      "discard samples 0.7448275089263916\n",
      "n_samples_node =  1000\n",
      "generate_samples :  0.44524431228637695\n",
      "     prepare getting local values 0.0026717185974121094\n",
      "     obtained local values 0.0068569183349609375\n",
      "get_mc_stats 0.009430885314941406\n"
     ]
    },
    {
     "name": "stderr",
     "output_type": "stream",
     "text": [
      " 18%|█▊        | 176/1000 [03:43<17:36,  1.28s/it, Energy=-0.000019+0.000000j ± 0.000043 [σ²=0.000002]]"
     ]
    },
    {
     "name": "stdout",
     "output_type": "stream",
     "text": [
      "--->> cal O and jac  0.04099273681640625\n",
      "compute_update  0.04309201240539551\n",
      "(0.004898351285342628+0j)\n",
      "n_discard =  144\n",
      "discard samples 0.7726881504058838\n",
      "n_samples_node =  1000\n",
      "generate_samples :  0.4402623176574707\n",
      "     prepare getting local values 0.0013124942779541016\n",
      "     obtained local values 0.004626750946044922\n",
      "get_mc_stats 0.0060422420501708984\n"
     ]
    },
    {
     "name": "stderr",
     "output_type": "stream",
     "text": [
      " 18%|█▊        | 177/1000 [03:45<17:30,  1.28s/it, Energy=-0.000016+0.000000j ± 0.000038 [σ²=0.000002]]"
     ]
    },
    {
     "name": "stdout",
     "output_type": "stream",
     "text": [
      "--->> cal O and jac  0.03843092918395996\n",
      "compute_update  0.040694475173950195\n",
      "(0.004901599568603183+0j)\n",
      "n_discard =  144\n",
      "discard samples 0.7458899021148682\n",
      "n_samples_node =  1000\n",
      "generate_samples :  0.44817423820495605\n",
      "     prepare getting local values 0.0012967586517333984\n",
      "     obtained local values 0.004673480987548828\n",
      "get_mc_stats 0.006661415100097656\n"
     ]
    },
    {
     "name": "stderr",
     "output_type": "stream",
     "text": [
      " 18%|█▊        | 178/1000 [03:46<17:20,  1.27s/it, Energy=-0.000021+0.000000j ± 0.000040 [σ²=0.000002]]"
     ]
    },
    {
     "name": "stdout",
     "output_type": "stream",
     "text": [
      "--->> cal O and jac  0.03819990158081055\n",
      "compute_update  0.04027247428894043\n",
      "(0.004916120126678459+0j)\n",
      "n_discard =  144\n",
      "discard samples 0.7957923412322998\n",
      "n_samples_node =  1000\n",
      "generate_samples :  0.4451103210449219\n",
      "     prepare getting local values 0.001386880874633789\n",
      "     obtained local values 0.004953145980834961\n",
      "get_mc_stats 0.00680232048034668\n"
     ]
    },
    {
     "name": "stderr",
     "output_type": "stream",
     "text": [
      " 18%|█▊        | 179/1000 [03:47<17:25,  1.27s/it, Energy=-0.000036+0.000000j ± 0.000035 [σ²=0.000002]]"
     ]
    },
    {
     "name": "stdout",
     "output_type": "stream",
     "text": [
      "--->> cal O and jac  0.03844022750854492\n",
      "compute_update  0.040604591369628906\n",
      "(0.004922065796146067+0j)\n",
      "n_discard =  144\n",
      "discard samples 0.7454390525817871\n",
      "n_samples_node =  1000\n",
      "generate_samples :  0.44687676429748535\n",
      "     prepare getting local values 0.0012979507446289062\n",
      "     obtained local values 0.004637718200683594\n",
      "get_mc_stats 0.006232738494873047\n"
     ]
    },
    {
     "name": "stderr",
     "output_type": "stream",
     "text": [
      " 18%|█▊        | 180/1000 [03:48<17:16,  1.26s/it, Energy=-0.000007+0.000000j ± 0.000044 [σ²=0.000002]]"
     ]
    },
    {
     "name": "stdout",
     "output_type": "stream",
     "text": [
      "--->> cal O and jac  0.03639054298400879\n",
      "compute_update  0.040329933166503906\n",
      "(0.004933890538375184+0j)\n",
      "n_discard =  144\n",
      "discard samples 0.7507679462432861\n",
      "n_samples_node =  1000\n",
      "generate_samples :  0.4526050090789795\n",
      "     prepare getting local values 0.0013468265533447266\n",
      "     obtained local values 0.004782676696777344\n",
      "get_mc_stats 0.006680011749267578\n"
     ]
    },
    {
     "name": "stderr",
     "output_type": "stream",
     "text": [
      " 18%|█▊        | 181/1000 [03:50<17:11,  1.26s/it, Energy=0.000020+0.000000j ± 0.000045 [σ²=0.000002]] "
     ]
    },
    {
     "name": "stdout",
     "output_type": "stream",
     "text": [
      "--->> cal O and jac  0.03625345230102539\n",
      "compute_update  0.038509368896484375\n",
      "(0.004946142822065926+0j)\n",
      "n_discard =  144\n",
      "discard samples 0.749333381652832\n",
      "n_samples_node =  1000\n",
      "generate_samples :  0.4505884647369385\n",
      "     prepare getting local values 0.0026831626892089844\n",
      "     obtained local values 0.008812189102172852\n",
      "get_mc_stats 0.01101541519165039\n"
     ]
    },
    {
     "name": "stderr",
     "output_type": "stream",
     "text": [
      " 18%|█▊        | 182/1000 [03:51<17:10,  1.26s/it, Energy=0.000041+0.000000j ± 0.000046 [σ²=0.000002]]"
     ]
    },
    {
     "name": "stdout",
     "output_type": "stream",
     "text": [
      "--->> cal O and jac  0.04339957237243652\n",
      "compute_update  0.046823740005493164\n",
      "(0.004954978705508245+0j)\n",
      "n_discard =  144\n",
      "discard samples 0.7507064342498779\n",
      "n_samples_node =  1000\n",
      "generate_samples :  0.439697265625\n",
      "     prepare getting local values 0.002646207809448242\n",
      "     obtained local values 0.009468317031860352\n",
      "get_mc_stats 0.011718273162841797\n"
     ]
    },
    {
     "name": "stderr",
     "output_type": "stream",
     "text": [
      " 18%|█▊        | 183/1000 [03:52<17:06,  1.26s/it, Energy=-0.000048+0.000000j ± 0.000029 [σ²=0.000002]]"
     ]
    },
    {
     "name": "stdout",
     "output_type": "stream",
     "text": [
      "--->> cal O and jac  0.038660287857055664\n",
      "compute_update  0.042268991470336914\n",
      "(0.0049568175546471005+0j)\n",
      "n_discard =  144\n",
      "discard samples 0.7484579086303711\n",
      "n_samples_node =  1000\n",
      "generate_samples :  0.43973827362060547\n",
      "     prepare getting local values 0.0013120174407958984\n",
      "     obtained local values 0.0046176910400390625\n",
      "get_mc_stats 0.006467103958129883\n"
     ]
    },
    {
     "name": "stderr",
     "output_type": "stream",
     "text": [
      " 18%|█▊        | 184/1000 [03:53<16:59,  1.25s/it, Energy=-0.000067+0.000000j ± 0.000040 [σ²=0.000002]]"
     ]
    },
    {
     "name": "stdout",
     "output_type": "stream",
     "text": [
      "--->> cal O and jac  0.03544902801513672\n",
      "compute_update  0.03742361068725586\n",
      "(0.00496783331887536+0j)\n",
      "n_discard =  144\n",
      "discard samples 0.7466387748718262\n",
      "n_samples_node =  1000\n",
      "generate_samples :  0.4481070041656494\n",
      "     prepare getting local values 0.002653360366821289\n",
      "     obtained local values 0.009002208709716797\n",
      "get_mc_stats 0.011545419692993164\n"
     ]
    },
    {
     "name": "stderr",
     "output_type": "stream",
     "text": [
      " 18%|█▊        | 185/1000 [03:55<16:59,  1.25s/it, Energy=0.000022+0.000000j ± 0.000037 [σ²=0.000002]] "
     ]
    },
    {
     "name": "stdout",
     "output_type": "stream",
     "text": [
      "--->> cal O and jac  0.04610729217529297\n",
      "compute_update  0.04817652702331543\n",
      "(0.004980071806203459+0j)\n",
      "n_discard =  144\n",
      "discard samples 0.7494003772735596\n",
      "n_samples_node =  1000\n",
      "generate_samples :  0.4491748809814453\n",
      "     prepare getting local values 0.0023412704467773438\n",
      "     obtained local values 0.008590936660766602\n",
      "get_mc_stats 0.011176824569702148\n"
     ]
    },
    {
     "name": "stderr",
     "output_type": "stream",
     "text": [
      " 19%|█▊        | 186/1000 [03:56<16:59,  1.25s/it, Energy=0.000055+0.000000j ± 0.000043 [σ²=0.000002]]"
     ]
    },
    {
     "name": "stdout",
     "output_type": "stream",
     "text": [
      "--->> cal O and jac  0.0429530143737793\n",
      "compute_update  0.04509401321411133\n",
      "(0.004990370883388716+0j)\n",
      "n_discard =  144\n",
      "discard samples 0.750805139541626\n",
      "n_samples_node =  1000\n",
      "generate_samples :  0.44275999069213867\n",
      "     prepare getting local values 0.0013566017150878906\n",
      "     obtained local values 0.004704475402832031\n",
      "get_mc_stats 0.006436824798583984\n"
     ]
    },
    {
     "name": "stderr",
     "output_type": "stream",
     "text": [
      " 19%|█▊        | 187/1000 [03:57<16:56,  1.25s/it, Energy=-0.000012+0.000000j ± 0.000039 [σ²=0.000001]]"
     ]
    },
    {
     "name": "stdout",
     "output_type": "stream",
     "text": [
      "--->> cal O and jac  0.03803133964538574\n",
      "compute_update  0.04120159149169922\n",
      "(0.0050053340317880975+0j)\n",
      "n_discard =  144\n",
      "discard samples 0.744652509689331\n",
      "n_samples_node =  1000\n",
      "generate_samples :  0.44197988510131836\n",
      "     prepare getting local values 0.0013298988342285156\n",
      "     obtained local values 0.004671573638916016\n",
      "get_mc_stats 0.006493806838989258\n"
     ]
    },
    {
     "name": "stderr",
     "output_type": "stream",
     "text": [
      " 19%|█▉        | 188/1000 [03:58<16:51,  1.25s/it, Energy=0.000068+0.000000j ± 0.000032 [σ²=0.000001]] "
     ]
    },
    {
     "name": "stdout",
     "output_type": "stream",
     "text": [
      "--->> cal O and jac  0.03753519058227539\n",
      "compute_update  0.04074430465698242\n",
      "(0.005009548084539242+0j)\n",
      "n_discard =  144\n",
      "discard samples 0.7515966892242432\n",
      "n_samples_node =  1000\n",
      "generate_samples :  0.4508936405181885\n",
      "     prepare getting local values 0.0013093948364257812\n",
      "     obtained local values 0.004636287689208984\n",
      "get_mc_stats 0.00671696662902832\n"
     ]
    },
    {
     "name": "stderr",
     "output_type": "stream",
     "text": [
      " 19%|█▉        | 189/1000 [04:00<16:51,  1.25s/it, Energy=0.000037+0.000000j ± 0.000040 [σ²=0.000001]]"
     ]
    },
    {
     "name": "stdout",
     "output_type": "stream",
     "text": [
      "--->> cal O and jac  0.03835582733154297\n",
      "compute_update  0.04111146926879883\n",
      "(0.005016899075782034+0j)\n",
      "n_discard =  144\n",
      "discard samples 0.7453060150146484\n",
      "n_samples_node =  1000\n",
      "generate_samples :  0.4470224380493164\n",
      "     prepare getting local values 0.0027375221252441406\n",
      "     obtained local values 0.006577968597412109\n",
      "get_mc_stats 0.009324312210083008\n"
     ]
    },
    {
     "name": "stderr",
     "output_type": "stream",
     "text": [
      " 19%|█▉        | 190/1000 [04:01<16:50,  1.25s/it, Energy=0.000063+0.000000j ± 0.000034 [σ²=0.000001]]"
     ]
    },
    {
     "name": "stdout",
     "output_type": "stream",
     "text": [
      "--->> cal O and jac  0.04254150390625\n",
      "compute_update  0.04456830024719238\n",
      "(0.005025146402820826+0j)\n",
      "n_discard =  144\n",
      "discard samples 0.7470886707305908\n",
      "n_samples_node =  1000\n",
      "generate_samples :  0.4468252658843994\n",
      "     prepare getting local values 0.002410411834716797\n",
      "     obtained local values 0.0075376033782958984\n",
      "get_mc_stats 0.010188102722167969\n"
     ]
    },
    {
     "name": "stderr",
     "output_type": "stream",
     "text": [
      " 19%|█▉        | 191/1000 [04:02<16:48,  1.25s/it, Energy=0.000064+0.000000j ± 0.000032 [σ²=0.000001]]"
     ]
    },
    {
     "name": "stdout",
     "output_type": "stream",
     "text": [
      "--->> cal O and jac  0.03811192512512207\n",
      "compute_update  0.04022860527038574\n",
      "(0.005035750839969094+0j)\n",
      "n_discard =  144\n",
      "discard samples 0.758167028427124\n",
      "n_samples_node =  1000\n",
      "generate_samples :  0.4512603282928467\n",
      "     prepare getting local values 0.0014142990112304688\n",
      "     obtained local values 0.004802703857421875\n",
      "get_mc_stats 0.006941795349121094\n"
     ]
    },
    {
     "name": "stderr",
     "output_type": "stream",
     "text": [
      " 19%|█▉        | 192/1000 [04:03<16:50,  1.25s/it, Energy=-0.000043+0.000000j ± 0.000032 [σ²=0.000001]]"
     ]
    },
    {
     "name": "stdout",
     "output_type": "stream",
     "text": [
      "--->> cal O and jac  0.03752946853637695\n",
      "compute_update  0.040024757385253906\n",
      "(0.00504093193384332+0j)\n",
      "n_discard =  144\n",
      "discard samples 0.7483315467834473\n",
      "n_samples_node =  1000\n",
      "generate_samples :  0.45036983489990234\n",
      "     prepare getting local values 0.0014393329620361328\n",
      "     obtained local values 0.004828929901123047\n",
      "get_mc_stats 0.006650686264038086\n"
     ]
    },
    {
     "name": "stderr",
     "output_type": "stream",
     "text": [
      " 19%|█▉        | 193/1000 [04:05<16:49,  1.25s/it, Energy=0.000014+0.000000j ± 0.000034 [σ²=0.000001]] "
     ]
    },
    {
     "name": "stdout",
     "output_type": "stream",
     "text": [
      "--->> cal O and jac  0.041254520416259766\n",
      "compute_update  0.04483819007873535\n",
      "(0.005046950374371205+0j)\n",
      "n_discard =  144\n",
      "discard samples 0.7514054775238037\n",
      "n_samples_node =  1000\n",
      "generate_samples :  0.4463987350463867\n",
      "     prepare getting local values 0.0013573169708251953\n",
      "     obtained local values 0.004891633987426758\n",
      "get_mc_stats 0.006779670715332031\n"
     ]
    },
    {
     "name": "stderr",
     "output_type": "stream",
     "text": [
      " 19%|█▉        | 194/1000 [04:06<16:47,  1.25s/it, Energy=0.000017+0.000000j ± 0.000035 [σ²=0.000001]]"
     ]
    },
    {
     "name": "stdout",
     "output_type": "stream",
     "text": [
      "--->> cal O and jac  0.03972935676574707\n",
      "compute_update  0.04297661781311035\n",
      "(0.005055788583123988+0j)\n",
      "n_discard =  144\n",
      "discard samples 0.74802565574646\n",
      "n_samples_node =  1000\n",
      "generate_samples :  0.44536256790161133\n",
      "     prepare getting local values 0.0021750926971435547\n",
      "     obtained local values 0.008367061614990234\n",
      "get_mc_stats 0.010885238647460938\n"
     ]
    },
    {
     "name": "stderr",
     "output_type": "stream",
     "text": [
      " 20%|█▉        | 195/1000 [04:07<16:45,  1.25s/it, Energy=0.000034+0.000000j ± 0.000038 [σ²=0.000001]]"
     ]
    },
    {
     "name": "stdout",
     "output_type": "stream",
     "text": [
      "--->> cal O and jac  0.03848552703857422\n",
      "compute_update  0.04136085510253906\n",
      "(0.005065164274214309+0j)\n",
      "n_discard =  144\n",
      "discard samples 0.7468490600585938\n",
      "n_samples_node =  1000\n",
      "generate_samples :  0.44513463973999023\n",
      "     prepare getting local values 0.0013506412506103516\n",
      "     obtained local values 0.00462031364440918\n",
      "get_mc_stats 0.0065152645111083984\n"
     ]
    },
    {
     "name": "stderr",
     "output_type": "stream",
     "text": [
      " 20%|█▉        | 196/1000 [04:08<16:42,  1.25s/it, Energy=-0.000005+0.000000j ± 0.000034 [σ²=0.000001]]"
     ]
    },
    {
     "name": "stdout",
     "output_type": "stream",
     "text": [
      "--->> cal O and jac  0.03913402557373047\n",
      "compute_update  0.04203677177429199\n",
      "(0.005068945482647584+0j)\n",
      "n_discard =  144\n",
      "discard samples 0.806396484375\n",
      "n_samples_node =  1000\n",
      "generate_samples :  0.4470827579498291\n",
      "     prepare getting local values 0.0014586448669433594\n",
      "     obtained local values 0.004849672317504883\n",
      "get_mc_stats 0.006770133972167969\n"
     ]
    },
    {
     "name": "stderr",
     "output_type": "stream",
     "text": [
      " 20%|█▉        | 197/1000 [04:10<16:54,  1.26s/it, Energy=-0.000013+0.000000j ± 0.000038 [σ²=0.000001]]"
     ]
    },
    {
     "name": "stdout",
     "output_type": "stream",
     "text": [
      "--->> cal O and jac  0.03866863250732422\n",
      "compute_update  0.04071807861328125\n",
      "(0.005073221471792158+0j)\n",
      "n_discard =  144\n",
      "discard samples 0.7482171058654785\n",
      "n_samples_node =  1000\n",
      "generate_samples :  0.4480900764465332\n",
      "     prepare getting local values 0.002696990966796875\n",
      "     obtained local values 0.009717702865600586\n",
      "get_mc_stats 0.012089729309082031\n"
     ]
    },
    {
     "name": "stderr",
     "output_type": "stream",
     "text": [
      " 20%|█▉        | 198/1000 [04:11<16:51,  1.26s/it, Energy=-0.000036+0.000000j ± 0.000029 [σ²=0.000001]]"
     ]
    },
    {
     "name": "stdout",
     "output_type": "stream",
     "text": [
      "--->> cal O and jac  0.043094635009765625\n",
      "compute_update  0.04526472091674805\n",
      "(0.005076640089797046+0j)\n",
      "n_discard =  144\n",
      "discard samples 0.7468218803405762\n",
      "n_samples_node =  1000\n",
      "generate_samples :  0.44611549377441406\n",
      "     prepare getting local values 0.0013692378997802734\n",
      "     obtained local values 0.004803895950317383\n",
      "get_mc_stats 0.0068738460540771484\n"
     ]
    },
    {
     "name": "stderr",
     "output_type": "stream",
     "text": [
      " 20%|█▉        | 199/1000 [04:12<16:46,  1.26s/it, Energy=0.000025+0.000000j ± 0.000032 [σ²=0.000001]] "
     ]
    },
    {
     "name": "stdout",
     "output_type": "stream",
     "text": [
      "--->> cal O and jac  0.04191231727600098\n",
      "compute_update  0.044026851654052734\n",
      "(0.0050860763648488735+0j)\n",
      "n_discard =  144\n",
      "discard samples 0.7463829517364502\n",
      "n_samples_node =  1000\n",
      "generate_samples :  0.4652073383331299\n",
      "     prepare getting local values 0.0013308525085449219\n",
      "     obtained local values 0.004746675491333008\n",
      "get_mc_stats 0.006667375564575195\n"
     ]
    },
    {
     "name": "stderr",
     "output_type": "stream",
     "text": [
      " 20%|██        | 200/1000 [04:13<16:47,  1.26s/it, Energy=-0.000034+0.000000j ± 0.000029 [σ²=0.000001]]"
     ]
    },
    {
     "name": "stdout",
     "output_type": "stream",
     "text": [
      "--->> cal O and jac  0.042873382568359375\n",
      "compute_update  0.04637861251831055\n",
      "(0.0050979008761054675+0j)\n",
      "n_discard =  144\n",
      "discard samples 0.749406099319458\n",
      "n_samples_node =  1000\n",
      "generate_samples :  0.4467322826385498\n",
      "     prepare getting local values 0.0013468265533447266\n",
      "     obtained local values 0.004813671112060547\n",
      "get_mc_stats 0.006548166275024414\n"
     ]
    },
    {
     "name": "stderr",
     "output_type": "stream",
     "text": [
      " 20%|██        | 201/1000 [04:15<16:42,  1.25s/it, Energy=-0.000008+0.000000j ± 0.000028 [σ²=0.000001]]"
     ]
    },
    {
     "name": "stdout",
     "output_type": "stream",
     "text": [
      "--->> cal O and jac  0.03446817398071289\n",
      "compute_update  0.0366361141204834\n",
      "(0.005107377716616444+0j)\n",
      "n_discard =  144\n",
      "discard samples 0.7479550838470459\n",
      "n_samples_node =  1000\n",
      "generate_samples :  0.4516181945800781\n",
      "     prepare getting local values 0.0013659000396728516\n",
      "     obtained local values 0.004941701889038086\n",
      "get_mc_stats 0.00707697868347168\n"
     ]
    },
    {
     "name": "stderr",
     "output_type": "stream",
     "text": [
      " 20%|██        | 202/1000 [04:16<16:38,  1.25s/it, Energy=0.000015+0.000000j ± 0.000030 [σ²=0.000001]] "
     ]
    },
    {
     "name": "stdout",
     "output_type": "stream",
     "text": [
      "--->> cal O and jac  0.03547072410583496\n",
      "compute_update  0.037377119064331055\n",
      "(0.005118251197016018+0j)\n",
      "n_discard =  144\n",
      "discard samples 0.7481899261474609\n",
      "n_samples_node =  1000\n",
      "generate_samples :  0.4447782039642334\n",
      "     prepare getting local values 0.0013446807861328125\n",
      "     obtained local values 0.004771232604980469\n",
      "get_mc_stats 0.0066378116607666016\n"
     ]
    },
    {
     "name": "stderr",
     "output_type": "stream",
     "text": [
      " 20%|██        | 203/1000 [04:17<16:35,  1.25s/it, Energy=-0.000012+0.000000j ± 0.000028 [σ²=0.000001]]"
     ]
    },
    {
     "name": "stdout",
     "output_type": "stream",
     "text": [
      "--->> cal O and jac  0.03867340087890625\n",
      "compute_update  0.04195761680603027\n",
      "(0.005121175252322145+0j)\n",
      "n_discard =  144\n",
      "discard samples 0.7444093227386475\n",
      "n_samples_node =  1000\n",
      "generate_samples :  0.4453914165496826\n",
      "     prepare getting local values 0.0026836395263671875\n",
      "     obtained local values 0.007875680923461914\n",
      "get_mc_stats 0.010222673416137695\n"
     ]
    },
    {
     "name": "stderr",
     "output_type": "stream",
     "text": [
      " 20%|██        | 204/1000 [04:18<16:32,  1.25s/it, Energy=0.000003+0.000000j ± 0.000029 [σ²=0.000001]] "
     ]
    },
    {
     "name": "stdout",
     "output_type": "stream",
     "text": [
      "--->> cal O and jac  0.03776240348815918\n",
      "compute_update  0.040447235107421875\n",
      "(0.005131485725965713+0j)\n",
      "n_discard =  144\n",
      "discard samples 0.748877763748169\n",
      "n_samples_node =  1000\n",
      "generate_samples :  0.44495391845703125\n",
      "     prepare getting local values 0.001428842544555664\n",
      "     obtained local values 0.004889965057373047\n",
      "get_mc_stats 0.006932735443115234\n"
     ]
    },
    {
     "name": "stderr",
     "output_type": "stream",
     "text": [
      " 20%|██        | 205/1000 [04:20<16:31,  1.25s/it, Energy=0.000002+0.000000j ± 0.000031 [σ²=0.000001]]"
     ]
    },
    {
     "name": "stdout",
     "output_type": "stream",
     "text": [
      "--->> cal O and jac  0.04290056228637695\n",
      "compute_update  0.046132802963256836\n",
      "(0.005141555285677883+0j)\n",
      "n_discard =  144\n",
      "discard samples 0.7516632080078125\n",
      "n_samples_node =  1000\n",
      "generate_samples :  0.44487619400024414\n",
      "     prepare getting local values 0.0013668537139892578\n",
      "     obtained local values 0.0048351287841796875\n",
      "get_mc_stats 0.0066335201263427734\n"
     ]
    },
    {
     "name": "stderr",
     "output_type": "stream",
     "text": [
      " 21%|██        | 206/1000 [04:21<16:30,  1.25s/it, Energy=-0.000021+0.000000j ± 0.000028 [σ²=0.000001]]"
     ]
    },
    {
     "name": "stdout",
     "output_type": "stream",
     "text": [
      "--->> cal O and jac  0.03817558288574219\n",
      "compute_update  0.04166102409362793\n",
      "(0.005148933911637895+0j)\n",
      "n_discard =  144\n",
      "discard samples 0.8720419406890869\n",
      "n_samples_node =  1000\n",
      "generate_samples :  0.4461092948913574\n",
      "     prepare getting local values 0.0023055076599121094\n",
      "     obtained local values 0.007825613021850586\n",
      "get_mc_stats 0.01037287712097168\n"
     ]
    },
    {
     "name": "stderr",
     "output_type": "stream",
     "text": [
      " 21%|██        | 207/1000 [04:22<17:00,  1.29s/it, Energy=-0.000037+0.000000j ± 0.000026 [σ²=0.000001]]"
     ]
    },
    {
     "name": "stdout",
     "output_type": "stream",
     "text": [
      "--->> cal O and jac  0.043981075286865234\n",
      "compute_update  0.04738140106201172\n",
      "(0.005155949489688175+0j)\n",
      "n_discard =  144\n",
      "discard samples 0.7511718273162842\n",
      "n_samples_node =  1000\n",
      "generate_samples :  0.4472072124481201\n",
      "     prepare getting local values 0.0022809505462646484\n",
      "     obtained local values 0.008503913879394531\n",
      "get_mc_stats 0.011106014251708984\n"
     ]
    },
    {
     "name": "stderr",
     "output_type": "stream",
     "text": [
      " 21%|██        | 208/1000 [04:24<16:51,  1.28s/it, Energy=0.000016+0.000000j ± 0.000027 [σ²=0.000001]] "
     ]
    },
    {
     "name": "stdout",
     "output_type": "stream",
     "text": [
      "--->> cal O and jac  0.04148149490356445\n",
      "compute_update  0.04334735870361328\n",
      "(0.005170160685355287+0j)\n",
      "n_discard =  144\n",
      "discard samples 0.7481269836425781\n",
      "n_samples_node =  1000\n",
      "generate_samples :  0.44515466690063477\n",
      "     prepare getting local values 0.0013184547424316406\n",
      "     obtained local values 0.004660844802856445\n",
      "get_mc_stats 0.006480216979980469\n"
     ]
    },
    {
     "name": "stderr",
     "output_type": "stream",
     "text": [
      " 21%|██        | 209/1000 [04:25<16:41,  1.27s/it, Energy=-0.000022+0.000000j ± 0.000028 [σ²=0.000001]]"
     ]
    },
    {
     "name": "stdout",
     "output_type": "stream",
     "text": [
      "--->> cal O and jac  0.038022518157958984\n",
      "compute_update  0.04004049301147461\n",
      "(0.0051750299934652895+0j)\n",
      "n_discard =  144\n",
      "discard samples 0.7495112419128418\n",
      "n_samples_node =  1000\n",
      "generate_samples :  0.45226001739501953\n",
      "     prepare getting local values 0.0012950897216796875\n",
      "     obtained local values 0.004663944244384766\n",
      "get_mc_stats 0.006428241729736328\n"
     ]
    },
    {
     "name": "stderr",
     "output_type": "stream",
     "text": [
      " 21%|██        | 210/1000 [04:26<16:36,  1.26s/it, Energy=-0.000007+0.000000j ± 0.000025 [σ²=0.000001]]"
     ]
    },
    {
     "name": "stdout",
     "output_type": "stream",
     "text": [
      "--->> cal O and jac  0.036580562591552734\n",
      "compute_update  0.03866171836853027\n",
      "(0.00518277420236758+0j)\n",
      "n_discard =  144\n",
      "discard samples 0.7452828884124756\n",
      "n_samples_node =  1000\n",
      "generate_samples :  0.4456026554107666\n",
      "     prepare getting local values 0.0016109943389892578\n",
      "     obtained local values 0.004930973052978516\n",
      "get_mc_stats 0.006701231002807617\n"
     ]
    },
    {
     "name": "stderr",
     "output_type": "stream",
     "text": [
      " 21%|██        | 211/1000 [04:27<16:29,  1.25s/it, Energy=-0.000000+0.000000j ± 0.000029 [σ²=0.000001]]"
     ]
    },
    {
     "name": "stdout",
     "output_type": "stream",
     "text": [
      "--->> cal O and jac  0.03672003746032715\n",
      "compute_update  0.03914976119995117\n",
      "(0.005194080471759281+0j)\n",
      "n_discard =  144\n",
      "discard samples 0.7522311210632324\n",
      "n_samples_node =  1000\n",
      "generate_samples :  0.44846415519714355\n",
      "     prepare getting local values 0.0013968944549560547\n",
      "     obtained local values 0.0047190189361572266\n",
      "get_mc_stats 0.006458759307861328\n"
     ]
    },
    {
     "name": "stderr",
     "output_type": "stream",
     "text": [
      " 21%|██        | 212/1000 [04:29<16:26,  1.25s/it, Energy=0.000021+0.000000j ± 0.000034 [σ²=0.000001]] "
     ]
    },
    {
     "name": "stdout",
     "output_type": "stream",
     "text": [
      "--->> cal O and jac  0.037325143814086914\n",
      "compute_update  0.039379119873046875\n",
      "(0.005203257464460788+0j)\n",
      "n_discard =  144\n",
      "discard samples 0.7507021427154541\n",
      "n_samples_node =  1000\n",
      "generate_samples :  0.44232988357543945\n",
      "     prepare getting local values 0.0013327598571777344\n",
      "     obtained local values 0.004671573638916016\n",
      "get_mc_stats 0.0066339969635009766\n"
     ]
    },
    {
     "name": "stderr",
     "output_type": "stream",
     "text": [
      " 21%|██▏       | 213/1000 [04:30<16:23,  1.25s/it, Energy=0.000050+0.000000j ± 0.000028 [σ²=0.000001]]"
     ]
    },
    {
     "name": "stdout",
     "output_type": "stream",
     "text": [
      "--->> cal O and jac  0.03811335563659668\n",
      "compute_update  0.04023599624633789\n",
      "(0.005211119079871556+0j)\n",
      "n_discard =  144\n",
      "discard samples 0.7483983039855957\n",
      "n_samples_node =  1000\n",
      "generate_samples :  0.45396852493286133\n",
      "     prepare getting local values 0.0014293193817138672\n",
      "     obtained local values 0.007570981979370117\n",
      "get_mc_stats 0.009399652481079102\n"
     ]
    },
    {
     "name": "stderr",
     "output_type": "stream",
     "text": [
      " 21%|██▏       | 214/1000 [04:31<16:23,  1.25s/it, Energy=0.000047+0.000000j ± 0.000031 [σ²=0.000001]]"
     ]
    },
    {
     "name": "stdout",
     "output_type": "stream",
     "text": [
      "--->> cal O and jac  0.038402557373046875\n",
      "compute_update  0.042114973068237305\n",
      "(0.005220699504646016+0j)\n",
      "n_discard =  144\n",
      "discard samples 0.7502131462097168\n",
      "n_samples_node =  1000\n",
      "generate_samples :  0.4446711540222168\n",
      "     prepare getting local values 0.001348733901977539\n",
      "     obtained local values 0.004820823669433594\n",
      "get_mc_stats 0.006333351135253906\n"
     ]
    },
    {
     "name": "stderr",
     "output_type": "stream",
     "text": [
      " 22%|██▏       | 215/1000 [04:32<16:19,  1.25s/it, Energy=0.000026+0.000000j ± 0.000028 [σ²=0.000001]]"
     ]
    },
    {
     "name": "stdout",
     "output_type": "stream",
     "text": [
      "--->> cal O and jac  0.0351717472076416\n",
      "compute_update  0.03713345527648926\n",
      "(0.005232125108470934+0j)\n",
      "n_discard =  144\n",
      "discard samples 0.7461168766021729\n",
      "n_samples_node =  1000\n",
      "generate_samples :  0.445631742477417\n",
      "     prepare getting local values 0.0022759437561035156\n",
      "     obtained local values 0.008480072021484375\n",
      "get_mc_stats 0.010936498641967773\n"
     ]
    },
    {
     "name": "stderr",
     "output_type": "stream",
     "text": [
      " 22%|██▏       | 216/1000 [04:34<16:17,  1.25s/it, Energy=0.000008+0.000000j ± 0.000026 [σ²=0.000001]]"
     ]
    },
    {
     "name": "stdout",
     "output_type": "stream",
     "text": [
      "--->> cal O and jac  0.03687548637390137\n",
      "compute_update  0.03885602951049805\n",
      "(0.005236944739742647+0j)\n",
      "n_discard =  144\n",
      "discard samples 0.7533118724822998\n",
      "n_samples_node =  1000\n",
      "generate_samples :  0.608006477355957\n",
      "     prepare getting local values 0.0029420852661132812\n",
      "     obtained local values 0.00729680061340332\n",
      "get_mc_stats 0.010379552841186523\n"
     ]
    },
    {
     "name": "stderr",
     "output_type": "stream",
     "text": [
      " 22%|██▏       | 217/1000 [04:35<16:54,  1.30s/it, Energy=-0.000033+0.000000j ± 0.000019 [σ²=0.000001]]"
     ]
    },
    {
     "name": "stdout",
     "output_type": "stream",
     "text": [
      "--->> cal O and jac  0.034627676010131836\n",
      "compute_update  0.036904335021972656\n",
      "(0.005251179326605713+0j)\n",
      "n_discard =  144\n",
      "discard samples 0.7530472278594971\n",
      "n_samples_node =  1000\n",
      "generate_samples :  0.44658899307250977\n",
      "     prepare getting local values 0.0023212432861328125\n",
      "     obtained local values 0.008493423461914062\n",
      "get_mc_stats 0.011219978332519531\n"
     ]
    },
    {
     "name": "stderr",
     "output_type": "stream",
     "text": [
      " 22%|██▏       | 218/1000 [04:36<16:42,  1.28s/it, Energy=-0.000021+0.000000j ± 0.000026 [σ²=0.000001]]"
     ]
    },
    {
     "name": "stdout",
     "output_type": "stream",
     "text": [
      "--->> cal O and jac  0.03341364860534668\n",
      "compute_update  0.03554224967956543\n",
      "(0.00526120049052121+0j)\n",
      "n_discard =  144\n",
      "discard samples 0.7515096664428711\n",
      "n_samples_node =  1000\n",
      "generate_samples :  0.44948840141296387\n",
      "     prepare getting local values 0.0012714862823486328\n",
      "     obtained local values 0.0045948028564453125\n",
      "get_mc_stats 0.006206989288330078\n"
     ]
    },
    {
     "name": "stderr",
     "output_type": "stream",
     "text": [
      " 22%|██▏       | 219/1000 [04:37<16:33,  1.27s/it, Energy=0.000010+0.000000j ± 0.000030 [σ²=0.000001]] "
     ]
    },
    {
     "name": "stdout",
     "output_type": "stream",
     "text": [
      "--->> cal O and jac  0.03796648979187012\n",
      "compute_update  0.04011058807373047\n",
      "(0.0052746735977881815+0j)\n",
      "n_discard =  144\n",
      "discard samples 0.7500271797180176\n",
      "n_samples_node =  1000\n",
      "generate_samples :  0.4475231170654297\n",
      "     prepare getting local values 0.0013718605041503906\n",
      "     obtained local values 0.00490880012512207\n",
      "get_mc_stats 0.006567716598510742\n"
     ]
    },
    {
     "name": "stderr",
     "output_type": "stream",
     "text": [
      " 22%|██▏       | 220/1000 [04:39<16:25,  1.26s/it, Energy=-0.000008+0.000000j ± 0.000027 [σ²=0.000001]]"
     ]
    },
    {
     "name": "stdout",
     "output_type": "stream",
     "text": [
      "--->> cal O and jac  0.03699779510498047\n",
      "compute_update  0.03905010223388672\n",
      "(0.005285411330731209+0j)\n",
      "n_discard =  144\n",
      "discard samples 0.7722084522247314\n",
      "n_samples_node =  1000\n",
      "generate_samples :  0.45105528831481934\n",
      "     prepare getting local values 0.0013146400451660156\n",
      "     obtained local values 0.0047740936279296875\n",
      "get_mc_stats 0.0064585208892822266\n"
     ]
    },
    {
     "name": "stderr",
     "output_type": "stream",
     "text": [
      " 22%|██▏       | 221/1000 [04:40<16:25,  1.27s/it, Energy=-0.000017+0.000000j ± 0.000024 [σ²=0.000001]]"
     ]
    },
    {
     "name": "stdout",
     "output_type": "stream",
     "text": [
      "--->> cal O and jac  0.03588676452636719\n",
      "compute_update  0.038066864013671875\n",
      "(0.005294847673623338+0j)\n",
      "n_discard =  144\n",
      "discard samples 0.7511301040649414\n",
      "n_samples_node =  1000\n",
      "generate_samples :  0.44911742210388184\n",
      "     prepare getting local values 0.0026712417602539062\n",
      "     obtained local values 0.00966024398803711\n",
      "get_mc_stats 0.012024164199829102\n"
     ]
    },
    {
     "name": "stderr",
     "output_type": "stream",
     "text": [
      " 22%|██▏       | 222/1000 [04:41<16:22,  1.26s/it, Energy=-0.000059+0.000000j ± 0.000025 [σ²=0.000001]]"
     ]
    },
    {
     "name": "stdout",
     "output_type": "stream",
     "text": [
      "--->> cal O and jac  0.03997302055358887\n",
      "compute_update  0.04283547401428223\n",
      "(0.005298552558742269+0j)\n",
      "n_discard =  144\n",
      "discard samples 0.7933964729309082\n",
      "n_samples_node =  1000\n",
      "generate_samples :  0.4477999210357666\n",
      "     prepare getting local values 0.001371622085571289\n",
      "     obtained local values 0.004695892333984375\n",
      "get_mc_stats 0.00647735595703125\n"
     ]
    },
    {
     "name": "stderr",
     "output_type": "stream",
     "text": [
      " 22%|██▏       | 223/1000 [04:42<16:27,  1.27s/it, Energy=-0.000008+0.000000j ± 0.000026 [σ²=0.000001]]"
     ]
    },
    {
     "name": "stdout",
     "output_type": "stream",
     "text": [
      "--->> cal O and jac  0.037668704986572266\n",
      "compute_update  0.03959465026855469\n",
      "(0.005303946048007689+0j)\n",
      "n_discard =  144\n",
      "discard samples 0.7715160846710205\n",
      "n_samples_node =  1000\n",
      "generate_samples :  0.44852542877197266\n",
      "     prepare getting local values 0.0013225078582763672\n",
      "     obtained local values 0.004769325256347656\n",
      "get_mc_stats 0.006451606750488281\n"
     ]
    },
    {
     "name": "stderr",
     "output_type": "stream",
     "text": [
      " 22%|██▏       | 224/1000 [04:44<16:25,  1.27s/it, Energy=-0.000013+0.000000j ± 0.000021 [σ²=0.000001]]"
     ]
    },
    {
     "name": "stdout",
     "output_type": "stream",
     "text": [
      "--->> cal O and jac  0.0393221378326416\n",
      "compute_update  0.04139399528503418\n",
      "(0.005316444615462758+0j)\n",
      "n_discard =  144\n",
      "discard samples 0.7439866065979004\n",
      "n_samples_node =  1000\n",
      "generate_samples :  0.44976282119750977\n",
      "     prepare getting local values 0.0013644695281982422\n",
      "     obtained local values 0.004826545715332031\n",
      "get_mc_stats 0.0063402652740478516\n"
     ]
    },
    {
     "name": "stderr",
     "output_type": "stream",
     "text": [
      " 22%|██▎       | 225/1000 [04:45<16:17,  1.26s/it, Energy=-0.000011+0.000000j ± 0.000027 [σ²=0.000001]]"
     ]
    },
    {
     "name": "stdout",
     "output_type": "stream",
     "text": [
      "--->> cal O and jac  0.03719615936279297\n",
      "compute_update  0.03922295570373535\n",
      "(0.005322151326266689+0j)\n",
      "n_discard =  144\n",
      "discard samples 0.7455556392669678\n",
      "n_samples_node =  1000\n",
      "generate_samples :  0.45319557189941406\n",
      "     prepare getting local values 0.0013861656188964844\n",
      "     obtained local values 0.004811525344848633\n",
      "get_mc_stats 0.0067746639251708984\n"
     ]
    },
    {
     "name": "stderr",
     "output_type": "stream",
     "text": [
      " 23%|██▎       | 226/1000 [04:46<16:13,  1.26s/it, Energy=0.000007+0.000000j ± 0.000022 [σ²=0.000001]] "
     ]
    },
    {
     "name": "stdout",
     "output_type": "stream",
     "text": [
      "--->> cal O and jac  0.03948187828063965\n",
      "compute_update  0.04344916343688965\n",
      "(0.005322915563441463+0j)\n",
      "n_discard =  144\n",
      "discard samples 0.803356409072876\n",
      "n_samples_node =  1000\n",
      "generate_samples :  0.44266748428344727\n",
      "     prepare getting local values 0.0013535022735595703\n",
      "     obtained local values 0.0047986507415771484\n",
      "get_mc_stats 0.006694316864013672\n"
     ]
    },
    {
     "name": "stderr",
     "output_type": "stream",
     "text": [
      " 23%|██▎       | 227/1000 [04:48<16:20,  1.27s/it, Energy=0.000025+0.000000j ± 0.000019 [σ²=0.000001]]"
     ]
    },
    {
     "name": "stdout",
     "output_type": "stream",
     "text": [
      "--->> cal O and jac  0.03676724433898926\n",
      "compute_update  0.03906559944152832\n",
      "(0.00533275190168675+0j)\n",
      "n_discard =  144\n",
      "discard samples 0.7474808692932129\n",
      "n_samples_node =  1000\n",
      "generate_samples :  0.4451143741607666\n",
      "     prepare getting local values 0.0013294219970703125\n",
      "     obtained local values 0.004874706268310547\n",
      "get_mc_stats 0.00663304328918457\n"
     ]
    },
    {
     "name": "stderr",
     "output_type": "stream",
     "text": [
      " 23%|██▎       | 228/1000 [04:49<16:13,  1.26s/it, Energy=-0.000009+0.000000j ± 0.000023 [σ²=0.000001]]"
     ]
    },
    {
     "name": "stdout",
     "output_type": "stream",
     "text": [
      "--->> cal O and jac  0.03621840476989746\n",
      "compute_update  0.03976583480834961\n",
      "(0.005343334116942542+0j)\n",
      "n_discard =  144\n",
      "discard samples 0.7512242794036865\n",
      "n_samples_node =  1000\n",
      "generate_samples :  0.4474160671234131\n",
      "     prepare getting local values 0.0013840198516845703\n",
      "     obtained local values 0.004776716232299805\n",
      "get_mc_stats 0.006833076477050781\n"
     ]
    },
    {
     "name": "stderr",
     "output_type": "stream",
     "text": [
      " 23%|██▎       | 229/1000 [04:50<16:08,  1.26s/it, Energy=0.000010+0.000000j ± 0.000024 [σ²=0.000001]] "
     ]
    },
    {
     "name": "stdout",
     "output_type": "stream",
     "text": [
      "--->> cal O and jac  0.0379793643951416\n",
      "compute_update  0.04023289680480957\n",
      "(0.005346665297866634+0j)\n",
      "n_discard =  144\n",
      "discard samples 0.7507693767547607\n",
      "n_samples_node =  1000\n",
      "generate_samples :  0.4429206848144531\n",
      "     prepare getting local values 0.0013623237609863281\n",
      "     obtained local values 0.0069293975830078125\n",
      "get_mc_stats 0.008642196655273438\n"
     ]
    },
    {
     "name": "stderr",
     "output_type": "stream",
     "text": [
      " 23%|██▎       | 230/1000 [04:51<16:04,  1.25s/it, Energy=0.000056+0.000000j ± 0.000023 [σ²=0.000001]]"
     ]
    },
    {
     "name": "stdout",
     "output_type": "stream",
     "text": [
      "--->> cal O and jac  0.03479409217834473\n",
      "compute_update  0.03693842887878418\n",
      "(0.005355376135964573+0j)\n",
      "n_discard =  144\n",
      "discard samples 0.7903945446014404\n",
      "n_samples_node =  1000\n",
      "generate_samples :  0.44911837577819824\n",
      "     prepare getting local values 0.001354217529296875\n",
      "     obtained local values 0.004843950271606445\n",
      "get_mc_stats 0.006586551666259766\n"
     ]
    },
    {
     "name": "stderr",
     "output_type": "stream",
     "text": [
      " 23%|██▎       | 231/1000 [04:53<16:11,  1.26s/it, Energy=0.000036+0.000000j ± 0.000021 [σ²=0.000001]]"
     ]
    },
    {
     "name": "stdout",
     "output_type": "stream",
     "text": [
      "--->> cal O and jac  0.04046487808227539\n",
      "compute_update  0.04354500770568848\n",
      "(0.005365223632233189+0j)\n",
      "n_discard =  144\n",
      "discard samples 0.7524304389953613\n",
      "n_samples_node =  1000\n",
      "generate_samples :  0.44825029373168945\n",
      "     prepare getting local values 0.0013484954833984375\n",
      "     obtained local values 0.004754781723022461\n",
      "get_mc_stats 0.0066950321197509766\n"
     ]
    },
    {
     "name": "stderr",
     "output_type": "stream",
     "text": [
      " 23%|██▎       | 232/1000 [04:54<16:06,  1.26s/it, Energy=-0.000028+0.000000j ± 0.000017 [σ²=0.000001]]"
     ]
    },
    {
     "name": "stdout",
     "output_type": "stream",
     "text": [
      "--->> cal O and jac  0.03532290458679199\n",
      "compute_update  0.038457393646240234\n",
      "(0.005374046025254747+0j)\n",
      "n_discard =  144\n",
      "discard samples 0.7497556209564209\n",
      "n_samples_node =  1000\n",
      "generate_samples :  0.448261022567749\n",
      "     prepare getting local values 0.0013875961303710938\n",
      "     obtained local values 0.004869699478149414\n",
      "get_mc_stats 0.006631612777709961\n"
     ]
    },
    {
     "name": "stderr",
     "output_type": "stream",
     "text": [
      " 23%|██▎       | 233/1000 [04:55<16:03,  1.26s/it, Energy=-0.000042+0.000000j ± 0.000023 [σ²=0.000001]]"
     ]
    },
    {
     "name": "stdout",
     "output_type": "stream",
     "text": [
      "--->> cal O and jac  0.04016876220703125\n",
      "compute_update  0.04355216026306152\n",
      "(0.005384738915216404+0j)\n",
      "n_discard =  144\n",
      "discard samples 0.8011314868927002\n",
      "n_samples_node =  1000\n",
      "generate_samples :  0.49514198303222656\n",
      "     prepare getting local values 0.002226114273071289\n",
      "     obtained local values 0.008391141891479492\n",
      "get_mc_stats 0.011149406433105469\n"
     ]
    },
    {
     "name": "stderr",
     "output_type": "stream",
     "text": [
      " 23%|██▎       | 234/1000 [04:56<16:24,  1.29s/it, Energy=0.000001+0.000000j ± 0.000023 [σ²=0.000001]] "
     ]
    },
    {
     "name": "stdout",
     "output_type": "stream",
     "text": [
      "--->> cal O and jac  0.039995431900024414\n",
      "compute_update  0.043649911880493164\n",
      "(0.005394433730876198+0j)\n",
      "n_discard =  144\n",
      "discard samples 0.7731649875640869\n",
      "n_samples_node =  1000\n",
      "generate_samples :  0.4798903465270996\n",
      "     prepare getting local values 0.0013761520385742188\n",
      "     obtained local values 0.004750251770019531\n",
      "get_mc_stats 0.00667262077331543\n"
     ]
    },
    {
     "name": "stderr",
     "output_type": "stream",
     "text": [
      " 24%|██▎       | 235/1000 [04:58<16:28,  1.29s/it, Energy=0.000002+0.000000j ± 0.000017 [σ²=0.000000]]"
     ]
    },
    {
     "name": "stdout",
     "output_type": "stream",
     "text": [
      "--->> cal O and jac  0.045905351638793945\n",
      "compute_update  0.04810476303100586\n",
      "(0.005400843022291766+0j)\n",
      "n_discard =  144\n",
      "discard samples 0.7897536754608154\n",
      "n_samples_node =  1000\n",
      "generate_samples :  0.4626328945159912\n",
      "     prepare getting local values 0.0013782978057861328\n",
      "     obtained local values 0.004874229431152344\n",
      "get_mc_stats 0.006308317184448242\n"
     ]
    },
    {
     "name": "stderr",
     "output_type": "stream",
     "text": [
      " 24%|██▎       | 236/1000 [04:59<16:30,  1.30s/it, Energy=-0.000047+0.000000j ± 0.000019 [σ²=0.000000]]"
     ]
    },
    {
     "name": "stdout",
     "output_type": "stream",
     "text": [
      "--->> cal O and jac  0.0402064323425293\n",
      "compute_update  0.04234194755554199\n",
      "(0.0054085398081954675+0j)\n",
      "n_discard =  144\n",
      "discard samples 0.753774881362915\n",
      "n_samples_node =  1000\n",
      "generate_samples :  0.4534153938293457\n",
      "     prepare getting local values 0.001285552978515625\n",
      "     obtained local values 0.00460505485534668\n",
      "get_mc_stats 0.006213665008544922\n"
     ]
    },
    {
     "name": "stderr",
     "output_type": "stream",
     "text": [
      " 24%|██▎       | 237/1000 [05:00<16:19,  1.28s/it, Energy=-0.000008+0.000000j ± 0.000020 [σ²=0.000000]]"
     ]
    },
    {
     "name": "stdout",
     "output_type": "stream",
     "text": [
      "--->> cal O and jac  0.0389859676361084\n",
      "compute_update  0.041460514068603516\n",
      "(0.005423089860664833+0j)\n",
      "n_discard =  144\n",
      "discard samples 0.7534241676330566\n",
      "n_samples_node =  1000\n",
      "generate_samples :  0.4521615505218506\n",
      "     prepare getting local values 0.001283884048461914\n",
      "     obtained local values 0.007205486297607422\n",
      "get_mc_stats 0.00897073745727539\n"
     ]
    },
    {
     "name": "stderr",
     "output_type": "stream",
     "text": [
      " 24%|██▍       | 238/1000 [05:02<16:12,  1.28s/it, Energy=0.000033+0.000000j ± 0.000024 [σ²=0.000000]] "
     ]
    },
    {
     "name": "stdout",
     "output_type": "stream",
     "text": [
      "--->> cal O and jac  0.03985428810119629\n",
      "compute_update  0.04218649864196777\n",
      "(0.0054310868644152225+0j)\n",
      "n_discard =  144\n",
      "discard samples 0.7517099380493164\n",
      "n_samples_node =  1000\n",
      "generate_samples :  0.45492053031921387\n",
      "     prepare getting local values 0.0026700496673583984\n",
      "     obtained local values 0.007523298263549805\n",
      "get_mc_stats 0.010242462158203125\n"
     ]
    },
    {
     "name": "stderr",
     "output_type": "stream",
     "text": [
      " 24%|██▍       | 239/1000 [05:03<16:07,  1.27s/it, Energy=0.000026+0.000000j ± 0.000020 [σ²=0.000000]]"
     ]
    },
    {
     "name": "stdout",
     "output_type": "stream",
     "text": [
      "--->> cal O and jac  0.03866720199584961\n",
      "compute_update  0.04085421562194824\n",
      "(0.005439616147048056+0j)\n",
      "n_discard =  144\n",
      "discard samples 0.7520482540130615\n",
      "n_samples_node =  1000\n",
      "generate_samples :  0.455899715423584\n",
      "     prepare getting local values 0.0014050006866455078\n",
      "     obtained local values 0.004771709442138672\n",
      "get_mc_stats 0.006527900695800781\n"
     ]
    },
    {
     "name": "stderr",
     "output_type": "stream",
     "text": [
      " 24%|██▍       | 240/1000 [05:04<16:03,  1.27s/it, Energy=-0.000055+0.000000j ± 0.000019 [σ²=0.000000]]"
     ]
    },
    {
     "name": "stdout",
     "output_type": "stream",
     "text": [
      "--->> cal O and jac  0.03860330581665039\n",
      "compute_update  0.04174184799194336\n",
      "(0.00544638102826884+0j)\n",
      "n_discard =  144\n",
      "discard samples 0.754084587097168\n",
      "n_samples_node =  1000\n",
      "generate_samples :  0.4667685031890869\n",
      "     prepare getting local values 0.0013496875762939453\n",
      "     obtained local values 0.0048215389251708984\n",
      "get_mc_stats 0.006611347198486328\n"
     ]
    },
    {
     "name": "stderr",
     "output_type": "stream",
     "text": [
      " 24%|██▍       | 241/1000 [05:05<16:03,  1.27s/it, Energy=-0.000018+0.000000j ± 0.000020 [σ²=0.000000]]"
     ]
    },
    {
     "name": "stdout",
     "output_type": "stream",
     "text": [
      "--->> cal O and jac  0.04135894775390625\n",
      "compute_update  0.04424452781677246\n",
      "(0.005448875419299315+0j)\n",
      "n_discard =  144\n",
      "discard samples 0.755302906036377\n",
      "n_samples_node =  1000\n",
      "generate_samples :  0.45020437240600586\n",
      "     prepare getting local values 0.00141143798828125\n",
      "     obtained local values 0.004987955093383789\n",
      "get_mc_stats 0.007027864456176758\n"
     ]
    },
    {
     "name": "stderr",
     "output_type": "stream",
     "text": [
      " 24%|██▍       | 242/1000 [05:07<15:59,  1.27s/it, Energy=0.000003+0.000000j ± 0.000022 [σ²=0.000000]] "
     ]
    },
    {
     "name": "stdout",
     "output_type": "stream",
     "text": [
      "--->> cal O and jac  0.04017043113708496\n",
      "compute_update  0.042304039001464844\n",
      "(0.0054583174489463565+0j)\n",
      "n_discard =  144\n",
      "discard samples 0.7778356075286865\n",
      "n_samples_node =  1000\n",
      "generate_samples :  0.44787168502807617\n",
      "     prepare getting local values 0.002257108688354492\n",
      "     obtained local values 0.008414983749389648\n",
      "get_mc_stats 0.01076507568359375\n"
     ]
    },
    {
     "name": "stderr",
     "output_type": "stream",
     "text": [
      " 24%|██▍       | 243/1000 [05:08<16:02,  1.27s/it, Energy=-0.000031+0.000000j ± 0.000022 [σ²=0.000000]]"
     ]
    },
    {
     "name": "stdout",
     "output_type": "stream",
     "text": [
      "--->> cal O and jac  0.04109334945678711\n",
      "compute_update  0.04474830627441406\n",
      "(0.005465765233010123+0j)\n",
      "n_discard =  144\n",
      "discard samples 0.7512097358703613\n",
      "n_samples_node =  1000\n",
      "generate_samples :  0.4454457759857178\n",
      "     prepare getting local values 0.0014450550079345703\n",
      "     obtained local values 0.0049703121185302734\n",
      "get_mc_stats 0.006994724273681641\n"
     ]
    },
    {
     "name": "stderr",
     "output_type": "stream",
     "text": [
      " 24%|██▍       | 244/1000 [05:09<15:55,  1.26s/it, Energy=-0.000007+0.000000j ± 0.000023 [σ²=0.000000]]"
     ]
    },
    {
     "name": "stdout",
     "output_type": "stream",
     "text": [
      "--->> cal O and jac  0.039794206619262695\n",
      "compute_update  0.04331803321838379\n",
      "(0.005471187237845725+0j)\n",
      "n_discard =  144\n",
      "discard samples 0.7610819339752197\n",
      "n_samples_node =  1000\n",
      "generate_samples :  0.4456806182861328\n",
      "     prepare getting local values 0.0014655590057373047\n",
      "     obtained local values 0.004964113235473633\n",
      "get_mc_stats 0.007126331329345703\n"
     ]
    },
    {
     "name": "stderr",
     "output_type": "stream",
     "text": [
      " 24%|██▍       | 245/1000 [05:10<15:52,  1.26s/it, Energy=-0.000021+0.000000j ± 0.000014 [σ²=0.000000]]"
     ]
    },
    {
     "name": "stdout",
     "output_type": "stream",
     "text": [
      "--->> cal O and jac  0.03648734092712402\n",
      "compute_update  0.03854990005493164\n",
      "(0.00547776152296665+0j)\n",
      "n_discard =  144\n",
      "discard samples 0.7485330104827881\n",
      "n_samples_node =  1000\n",
      "generate_samples :  0.5605485439300537\n",
      "     prepare getting local values 0.0026946067810058594\n",
      "     obtained local values 0.008184432983398438\n",
      "get_mc_stats 0.011062860488891602\n"
     ]
    },
    {
     "name": "stderr",
     "output_type": "stream",
     "text": [
      " 25%|██▍       | 246/1000 [05:12<16:14,  1.29s/it, Energy=-0.000023+0.000000j ± 0.000019 [σ²=0.000000]]"
     ]
    },
    {
     "name": "stdout",
     "output_type": "stream",
     "text": [
      "--->> cal O and jac  0.0382692813873291\n",
      "compute_update  0.04121899604797363\n",
      "(0.005488852722234673+0j)\n",
      "n_discard =  144\n",
      "discard samples 0.7512001991271973\n",
      "n_samples_node =  1000\n",
      "generate_samples :  0.45022082328796387\n",
      "     prepare getting local values 0.0013575553894042969\n",
      "     obtained local values 0.004759550094604492\n",
      "get_mc_stats 0.006251335144042969\n"
     ]
    },
    {
     "name": "stderr",
     "output_type": "stream",
     "text": [
      " 25%|██▍       | 247/1000 [05:13<16:04,  1.28s/it, Energy=-0.000011+0.000000j ± 0.000015 [σ²=0.000000]]"
     ]
    },
    {
     "name": "stdout",
     "output_type": "stream",
     "text": [
      "--->> cal O and jac  0.044594764709472656\n",
      "compute_update  0.04663848876953125\n",
      "(0.00549238891287821+0j)\n",
      "n_discard =  144\n",
      "discard samples 0.7485036849975586\n",
      "n_samples_node =  1000\n",
      "generate_samples :  0.4429914951324463\n",
      "     prepare getting local values 0.0013744831085205078\n",
      "     obtained local values 0.00492405891418457\n",
      "get_mc_stats 0.006757497787475586\n"
     ]
    },
    {
     "name": "stderr",
     "output_type": "stream",
     "text": [
      " 25%|██▍       | 248/1000 [05:14<15:54,  1.27s/it, Energy=0.000004+0.000000j ± 0.000020 [σ²=0.000000]] "
     ]
    },
    {
     "name": "stdout",
     "output_type": "stream",
     "text": [
      "--->> cal O and jac  0.038643598556518555\n",
      "compute_update  0.042174577713012695\n",
      "(0.005493419314956+0j)\n",
      "n_discard =  144\n",
      "discard samples 0.7499520778656006\n",
      "n_samples_node =  1000\n",
      "generate_samples :  0.4658646583557129\n",
      "     prepare getting local values 0.002660989761352539\n",
      "     obtained local values 0.007909297943115234\n",
      "get_mc_stats 0.010418176651000977\n"
     ]
    },
    {
     "name": "stderr",
     "output_type": "stream",
     "text": [
      " 25%|██▍       | 249/1000 [05:16<15:53,  1.27s/it, Energy=0.000027+0.000000j ± 0.000020 [σ²=0.000000]]"
     ]
    },
    {
     "name": "stdout",
     "output_type": "stream",
     "text": [
      "--->> cal O and jac  0.03798365592956543\n",
      "compute_update  0.041074514389038086\n",
      "(0.005502975815056966+0j)\n",
      "n_discard =  144\n",
      "discard samples 0.7447762489318848\n",
      "n_samples_node =  1000\n",
      "generate_samples :  0.44431304931640625\n",
      "     prepare getting local values 0.0022215843200683594\n",
      "     obtained local values 0.00835561752319336\n",
      "get_mc_stats 0.010392427444458008\n"
     ]
    },
    {
     "name": "stderr",
     "output_type": "stream",
     "text": [
      " 25%|██▌       | 250/1000 [05:17<15:45,  1.26s/it, Energy=-0.000002+0.000000j ± 0.000020 [σ²=0.000000]]"
     ]
    },
    {
     "name": "stdout",
     "output_type": "stream",
     "text": [
      "--->> cal O and jac  0.03817319869995117\n",
      "compute_update  0.040181636810302734\n",
      "(0.005506483249905035+0j)\n",
      "n_discard =  144\n",
      "discard samples 0.7532327175140381\n",
      "n_samples_node =  1000\n",
      "generate_samples :  0.4477062225341797\n",
      "     prepare getting local values 0.0013408660888671875\n",
      "     obtained local values 0.0048580169677734375\n",
      "get_mc_stats 0.0068111419677734375\n"
     ]
    },
    {
     "name": "stderr",
     "output_type": "stream",
     "text": [
      " 25%|██▌       | 251/1000 [05:18<15:42,  1.26s/it, Energy=0.000002+0.000000j ± 0.000016 [σ²=0.000000]] "
     ]
    },
    {
     "name": "stdout",
     "output_type": "stream",
     "text": [
      "--->> cal O and jac  0.03742170333862305\n",
      "compute_update  0.04059600830078125\n",
      "(0.005518127704239675+0j)\n",
      "n_discard =  144\n",
      "discard samples 0.7585906982421875\n",
      "n_samples_node =  1000\n",
      "generate_samples :  0.44341564178466797\n",
      "     prepare getting local values 0.0013222694396972656\n",
      "     obtained local values 0.0050122737884521484\n",
      "get_mc_stats 0.0064945220947265625\n"
     ]
    },
    {
     "name": "stderr",
     "output_type": "stream",
     "text": [
      " 25%|██▌       | 252/1000 [05:19<15:40,  1.26s/it, Energy=-0.000034+0.000000j ± 0.000016 [σ²=0.000000]]"
     ]
    },
    {
     "name": "stdout",
     "output_type": "stream",
     "text": [
      "--->> cal O and jac  0.04234910011291504\n",
      "compute_update  0.04615283012390137\n",
      "(0.0055256505839974416+0j)\n",
      "n_discard =  144\n",
      "discard samples 0.7489168643951416\n",
      "n_samples_node =  1000\n",
      "generate_samples :  0.4557368755340576\n",
      "     prepare getting local values 0.0026650428771972656\n",
      "     obtained local values 0.008352518081665039\n",
      "get_mc_stats 0.010997772216796875\n"
     ]
    },
    {
     "name": "stderr",
     "output_type": "stream",
     "text": [
      " 25%|██▌       | 253/1000 [05:21<15:39,  1.26s/it, Energy=-0.000012+0.000000j ± 0.000016 [σ²=0.000000]]"
     ]
    },
    {
     "name": "stdout",
     "output_type": "stream",
     "text": [
      "--->> cal O and jac  0.03728890419006348\n",
      "compute_update  0.039504051208496094\n",
      "(0.005531768834742036+0j)\n",
      "n_discard =  144\n",
      "discard samples 0.8339619636535645\n",
      "n_samples_node =  1000\n",
      "generate_samples :  0.44733190536499023\n",
      "     prepare getting local values 0.0014255046844482422\n",
      "     obtained local values 0.0070688724517822266\n",
      "get_mc_stats 0.009375333786010742\n"
     ]
    },
    {
     "name": "stderr",
     "output_type": "stream",
     "text": [
      " 25%|██▌       | 254/1000 [05:22<15:55,  1.28s/it, Energy=-0.000014+0.000000j ± 0.000018 [σ²=0.000000]]"
     ]
    },
    {
     "name": "stdout",
     "output_type": "stream",
     "text": [
      "--->> cal O and jac  0.03906655311584473\n",
      "compute_update  0.04224705696105957\n",
      "(0.0055391468642315405+0j)\n",
      "n_discard =  144\n",
      "discard samples 0.7529826164245605\n",
      "n_samples_node =  1000\n",
      "generate_samples :  0.45921874046325684\n",
      "     prepare getting local values 0.0013098716735839844\n",
      "     obtained local values 0.004872322082519531\n",
      "get_mc_stats 0.0068891048431396484\n"
     ]
    },
    {
     "name": "stderr",
     "output_type": "stream",
     "text": [
      " 26%|██▌       | 255/1000 [05:23<15:50,  1.28s/it, Energy=0.000015+0.000000j ± 0.000017 [σ²=0.000000]] "
     ]
    },
    {
     "name": "stdout",
     "output_type": "stream",
     "text": [
      "--->> cal O and jac  0.040157318115234375\n",
      "compute_update  0.0422205924987793\n",
      "(0.00554629890046302+0j)\n",
      "n_discard =  144\n",
      "discard samples 0.7521939277648926\n",
      "n_samples_node =  1000\n",
      "generate_samples :  0.4529917240142822\n",
      "     prepare getting local values 0.0013148784637451172\n",
      "     obtained local values 0.0045812129974365234\n",
      "get_mc_stats 0.006340742111206055\n"
     ]
    },
    {
     "name": "stderr",
     "output_type": "stream",
     "text": [
      " 26%|██▌       | 256/1000 [05:24<15:44,  1.27s/it, Energy=0.000017+0.000000j ± 0.000021 [σ²=0.000000]]"
     ]
    },
    {
     "name": "stdout",
     "output_type": "stream",
     "text": [
      "--->> cal O and jac  0.03829026222229004\n",
      "compute_update  0.04033398628234863\n",
      "(0.005557049889907169+0j)\n",
      "n_discard =  144\n",
      "discard samples 0.7501082420349121\n",
      "n_samples_node =  1000\n",
      "generate_samples :  0.44654130935668945\n",
      "     prepare getting local values 0.0013370513916015625\n",
      "     obtained local values 0.007254362106323242\n",
      "get_mc_stats 0.009171724319458008\n"
     ]
    },
    {
     "name": "stderr",
     "output_type": "stream",
     "text": [
      " 26%|██▌       | 257/1000 [05:26<15:39,  1.26s/it, Energy=0.000013+0.000000j ± 0.000015 [σ²=0.000000]]"
     ]
    },
    {
     "name": "stdout",
     "output_type": "stream",
     "text": [
      "--->> cal O and jac  0.043276071548461914\n",
      "compute_update  0.04539346694946289\n",
      "(0.0055701100899604224+0j)\n",
      "n_discard =  144\n",
      "discard samples 0.7533013820648193\n",
      "n_samples_node =  1000\n",
      "generate_samples :  0.4795215129852295\n",
      "     prepare getting local values 0.00266265869140625\n",
      "     obtained local values 0.00979161262512207\n",
      "get_mc_stats 0.012557744979858398\n"
     ]
    },
    {
     "name": "stderr",
     "output_type": "stream",
     "text": [
      " 26%|██▌       | 258/1000 [05:27<15:43,  1.27s/it, Energy=0.000006+0.000000j ± 0.000021 [σ²=0.000000]]"
     ]
    },
    {
     "name": "stdout",
     "output_type": "stream",
     "text": [
      "--->> cal O and jac  0.0405125617980957\n",
      "compute_update  0.04380512237548828\n",
      "(0.005576602371339048+0j)\n",
      "n_discard =  144\n",
      "discard samples 0.7687020301818848\n",
      "n_samples_node =  1000\n",
      "generate_samples :  0.44539499282836914\n",
      "     prepare getting local values 0.0014178752899169922\n",
      "     obtained local values 0.0048601627349853516\n",
      "get_mc_stats 0.006851911544799805\n"
     ]
    },
    {
     "name": "stderr",
     "output_type": "stream",
     "text": [
      " 26%|██▌       | 259/1000 [05:28<15:41,  1.27s/it, Energy=0.000024+0.000000j ± 0.000020 [σ²=0.000000]]"
     ]
    },
    {
     "name": "stdout",
     "output_type": "stream",
     "text": [
      "--->> cal O and jac  0.04140114784240723\n",
      "compute_update  0.044568538665771484\n",
      "(0.00558340712144855+0j)\n",
      "n_discard =  144\n",
      "discard samples 0.7510590553283691\n",
      "n_samples_node =  1000\n",
      "generate_samples :  0.4456968307495117\n",
      "     prepare getting local values 0.0013473033905029297\n",
      "     obtained local values 0.004716157913208008\n",
      "get_mc_stats 0.0067250728607177734\n"
     ]
    },
    {
     "name": "stderr",
     "output_type": "stream",
     "text": [
      " 26%|██▌       | 260/1000 [05:29<15:34,  1.26s/it, Energy=0.000016+0.000000j ± 0.000016 [σ²=0.000000]]"
     ]
    },
    {
     "name": "stdout",
     "output_type": "stream",
     "text": [
      "--->> cal O and jac  0.03718829154968262\n",
      "compute_update  0.040482521057128906\n",
      "(0.005592477173662159+0j)\n",
      "n_discard =  144\n",
      "discard samples 0.825972318649292\n",
      "n_samples_node =  1000\n",
      "generate_samples :  0.44866442680358887\n",
      "     prepare getting local values 0.0013318061828613281\n",
      "     obtained local values 0.004839897155761719\n",
      "get_mc_stats 0.006474494934082031\n"
     ]
    },
    {
     "name": "stderr",
     "output_type": "stream",
     "text": [
      " 26%|██▌       | 261/1000 [05:31<15:46,  1.28s/it, Energy=-0.000014+0.000000j ± 0.000017 [σ²=0.000000]]"
     ]
    },
    {
     "name": "stdout",
     "output_type": "stream",
     "text": [
      "--->> cal O and jac  0.03671407699584961\n",
      "compute_update  0.03860950469970703\n",
      "(0.005599987657790976+0j)\n",
      "n_discard =  144\n",
      "discard samples 0.7471010684967041\n",
      "n_samples_node =  1000\n",
      "generate_samples :  0.4481973648071289\n",
      "     prepare getting local values 0.0013620853424072266\n",
      "     obtained local values 0.004675865173339844\n",
      "get_mc_stats 0.006508827209472656\n"
     ]
    },
    {
     "name": "stderr",
     "output_type": "stream",
     "text": [
      " 26%|██▌       | 262/1000 [05:32<15:37,  1.27s/it, Energy=0.000003+0.000000j ± 0.000019 [σ²=0.000000]] "
     ]
    },
    {
     "name": "stdout",
     "output_type": "stream",
     "text": [
      "--->> cal O and jac  0.03936934471130371\n",
      "compute_update  0.04150962829589844\n",
      "(0.00560563354301232+0j)\n",
      "n_discard =  144\n",
      "discard samples 0.7514255046844482\n",
      "n_samples_node =  1000\n",
      "generate_samples :  0.45599913597106934\n",
      "     prepare getting local values 0.0013382434844970703\n",
      "     obtained local values 0.0048465728759765625\n",
      "get_mc_stats 0.006755828857421875\n"
     ]
    },
    {
     "name": "stderr",
     "output_type": "stream",
     "text": [
      " 26%|██▋       | 263/1000 [05:33<15:33,  1.27s/it, Energy=0.000013+0.000000j ± 0.000016 [σ²=0.000000]]"
     ]
    },
    {
     "name": "stdout",
     "output_type": "stream",
     "text": [
      "--->> cal O and jac  0.04204368591308594\n",
      "compute_update  0.04422879219055176\n",
      "(0.005618240811498297+0j)\n",
      "n_discard =  144\n",
      "discard samples 0.7504806518554688\n",
      "n_samples_node =  1000\n",
      "generate_samples :  0.45064473152160645\n",
      "     prepare getting local values 0.0013530254364013672\n",
      "     obtained local values 0.004805564880371094\n",
      "get_mc_stats 0.006674766540527344\n"
     ]
    },
    {
     "name": "stderr",
     "output_type": "stream",
     "text": [
      " 26%|██▋       | 264/1000 [05:35<15:29,  1.26s/it, Energy=-0.000013+0.000000j ± 0.000017 [σ²=0.000000]]"
     ]
    },
    {
     "name": "stdout",
     "output_type": "stream",
     "text": [
      "--->> cal O and jac  0.04073023796081543\n",
      "compute_update  0.043758392333984375\n",
      "(0.005627460884224191+0j)\n",
      "n_discard =  144\n",
      "discard samples 0.7582101821899414\n",
      "n_samples_node =  1000\n",
      "generate_samples :  0.4482133388519287\n",
      "     prepare getting local values 0.001352071762084961\n",
      "     obtained local values 0.004787921905517578\n",
      "get_mc_stats 0.0066678524017333984\n"
     ]
    },
    {
     "name": "stderr",
     "output_type": "stream",
     "text": [
      " 26%|██▋       | 265/1000 [05:36<15:26,  1.26s/it, Energy=-0.000015+0.000000j ± 0.000015 [σ²=0.000000]]"
     ]
    },
    {
     "name": "stdout",
     "output_type": "stream",
     "text": [
      "--->> cal O and jac  0.03638720512390137\n",
      "compute_update  0.0384979248046875\n",
      "(0.0056327017977988465+0j)\n",
      "n_discard =  144\n",
      "discard samples 0.8389508724212646\n",
      "n_samples_node =  1000\n",
      "generate_samples :  0.5855958461761475\n",
      "     prepare getting local values 0.0020852088928222656\n",
      "     obtained local values 0.007443904876708984\n",
      "get_mc_stats 0.009262561798095703\n"
     ]
    },
    {
     "name": "stderr",
     "output_type": "stream",
     "text": [
      " 27%|██▋       | 266/1000 [05:37<16:12,  1.32s/it, Energy=-0.000017+0.000000j ± 0.000018 [σ²=0.000000]]"
     ]
    },
    {
     "name": "stdout",
     "output_type": "stream",
     "text": [
      "--->> cal O and jac  0.038906097412109375\n",
      "compute_update  0.04084491729736328\n",
      "(0.0056388143205313756+0j)\n",
      "n_discard =  144\n",
      "discard samples 1.0238993167877197\n",
      "n_samples_node =  1000\n",
      "generate_samples :  0.5480010509490967\n",
      "     prepare getting local values 0.002917766571044922\n",
      "     obtained local values 0.009502649307250977\n",
      "get_mc_stats 0.012623310089111328\n"
     ]
    },
    {
     "name": "stderr",
     "output_type": "stream",
     "text": [
      " 27%|██▋       | 267/1000 [05:39<17:18,  1.42s/it, Energy=0.000003+0.000000j ± 0.000013 [σ²=0.000000]] "
     ]
    },
    {
     "name": "stdout",
     "output_type": "stream",
     "text": [
      "--->> cal O and jac  0.04106616973876953\n",
      "compute_update  0.04302859306335449\n",
      "(0.005648562598458064+0j)\n",
      "n_discard =  144\n",
      "discard samples 0.7514526844024658\n",
      "n_samples_node =  1000\n",
      "generate_samples :  0.4518101215362549\n",
      "     prepare getting local values 0.001890420913696289\n",
      "     obtained local values 0.008120536804199219\n",
      "get_mc_stats 0.009773492813110352\n"
     ]
    },
    {
     "name": "stderr",
     "output_type": "stream",
     "text": [
      " 27%|██▋       | 268/1000 [05:40<16:42,  1.37s/it, Energy=-0.000013+0.000000j ± 0.000019 [σ²=0.000000]]"
     ]
    },
    {
     "name": "stdout",
     "output_type": "stream",
     "text": [
      "--->> cal O and jac  0.04463362693786621\n",
      "compute_update  0.0465850830078125\n",
      "(0.005653481126293381+0j)\n",
      "n_discard =  144\n",
      "discard samples 0.7550926208496094\n",
      "n_samples_node =  1000\n",
      "generate_samples :  0.44920802116394043\n",
      "     prepare getting local values 0.002717733383178711\n",
      "     obtained local values 0.009879350662231445\n",
      "get_mc_stats 0.012143611907958984\n"
     ]
    },
    {
     "name": "stderr",
     "output_type": "stream",
     "text": [
      " 27%|██▋       | 269/1000 [05:41<16:17,  1.34s/it, Energy=-0.000006+0.000000j ± 0.000019 [σ²=0.000000]]"
     ]
    },
    {
     "name": "stdout",
     "output_type": "stream",
     "text": [
      "--->> cal O and jac  0.0402674674987793\n",
      "compute_update  0.04212450981140137\n",
      "(0.005662047795723575+0j)\n",
      "n_discard =  144\n",
      "discard samples 0.7476291656494141\n",
      "n_samples_node =  1000\n",
      "generate_samples :  0.445202112197876\n",
      "     prepare getting local values 0.0013010501861572266\n",
      "     obtained local values 0.00468754768371582\n",
      "get_mc_stats 0.006431102752685547\n"
     ]
    },
    {
     "name": "stderr",
     "output_type": "stream",
     "text": [
      " 27%|██▋       | 270/1000 [05:43<15:54,  1.31s/it, Energy=0.000002+0.000000j ± 0.000015 [σ²=0.000000]] "
     ]
    },
    {
     "name": "stdout",
     "output_type": "stream",
     "text": [
      "--->> cal O and jac  0.03588223457336426\n",
      "compute_update  0.037882328033447266\n",
      "(0.005669548725945727+0j)\n",
      "n_discard =  144\n",
      "discard samples 0.7506654262542725\n",
      "n_samples_node =  1000\n",
      "generate_samples :  0.5687558650970459\n",
      "     prepare getting local values 0.002658843994140625\n",
      "     obtained local values 0.006062030792236328\n",
      "get_mc_stats 0.008834123611450195\n"
     ]
    },
    {
     "name": "stderr",
     "output_type": "stream",
     "text": [
      " 27%|██▋       | 271/1000 [05:44<16:06,  1.33s/it, Energy=-0.000022+0.000000j ± 0.000015 [σ²=0.000000]]"
     ]
    },
    {
     "name": "stdout",
     "output_type": "stream",
     "text": [
      "--->> cal O and jac  0.0362391471862793\n",
      "compute_update  0.0391545295715332\n",
      "(0.005675421695873591+0j)\n",
      "n_discard =  144\n",
      "discard samples 0.750424861907959\n",
      "n_samples_node =  1000\n",
      "generate_samples :  0.4459657669067383\n",
      "     prepare getting local values 0.002157926559448242\n",
      "     obtained local values 0.008274078369140625\n",
      "get_mc_stats 0.010749101638793945\n"
     ]
    },
    {
     "name": "stderr",
     "output_type": "stream",
     "text": [
      " 27%|██▋       | 272/1000 [05:45<15:48,  1.30s/it, Energy=-0.000017+0.000000j ± 0.000015 [σ²=0.000000]]"
     ]
    },
    {
     "name": "stdout",
     "output_type": "stream",
     "text": [
      "--->> cal O and jac  0.03872036933898926\n",
      "compute_update  0.0408322811126709\n",
      "(0.005680201273838264+0j)\n",
      "n_discard =  144\n",
      "discard samples 0.9035212993621826\n",
      "n_samples_node =  1000\n",
      "generate_samples :  0.4478261470794678\n",
      "     prepare getting local values 0.0026273727416992188\n",
      "     obtained local values 0.00925755500793457\n",
      "get_mc_stats 0.011205196380615234\n"
     ]
    },
    {
     "name": "stderr",
     "output_type": "stream",
     "text": [
      " 27%|██▋       | 273/1000 [05:47<16:10,  1.34s/it, Energy=0.000001+0.000000j ± 0.000013 [σ²=0.000000]] "
     ]
    },
    {
     "name": "stdout",
     "output_type": "stream",
     "text": [
      "--->> cal O and jac  0.042395591735839844\n",
      "compute_update  0.04575920104980469\n",
      "(0.005687055439061396+0j)\n",
      "n_discard =  144\n",
      "discard samples 0.7619369029998779\n",
      "n_samples_node =  1000\n",
      "generate_samples :  0.4601867198944092\n",
      "     prepare getting local values 0.0026497840881347656\n",
      "     obtained local values 0.00822591781616211\n",
      "get_mc_stats 0.010866880416870117\n"
     ]
    },
    {
     "name": "stderr",
     "output_type": "stream",
     "text": [
      " 27%|██▋       | 274/1000 [05:48<15:56,  1.32s/it, Energy=0.000008+0.000000j ± 0.000011 [σ²=0.000000]]"
     ]
    },
    {
     "name": "stdout",
     "output_type": "stream",
     "text": [
      "--->> cal O and jac  0.03869271278381348\n",
      "compute_update  0.04254794120788574\n",
      "(0.005696874709137505+0j)\n",
      "n_discard =  144\n",
      "discard samples 0.8241069316864014\n",
      "n_samples_node =  1000\n",
      "generate_samples :  0.4570047855377197\n",
      "     prepare getting local values 0.0013279914855957031\n",
      "     obtained local values 0.004819631576538086\n",
      "get_mc_stats 0.006468534469604492\n"
     ]
    },
    {
     "name": "stderr",
     "output_type": "stream",
     "text": [
      " 28%|██▊       | 275/1000 [05:49<15:58,  1.32s/it, Energy=-0.000001+0.000000j ± 0.000014 [σ²=0.000000]]"
     ]
    },
    {
     "name": "stdout",
     "output_type": "stream",
     "text": [
      "--->> cal O and jac  0.03836941719055176\n",
      "compute_update  0.04045224189758301\n",
      "(0.005705237911969382+0j)\n",
      "n_discard =  144\n",
      "discard samples 0.8140435218811035\n",
      "n_samples_node =  1000\n",
      "generate_samples :  0.4981856346130371\n",
      "     prepare getting local values 0.001451253890991211\n",
      "     obtained local values 0.004862308502197266\n",
      "get_mc_stats 0.006437063217163086\n"
     ]
    },
    {
     "name": "stderr",
     "output_type": "stream",
     "text": [
      " 28%|██▊       | 276/1000 [05:51<16:05,  1.33s/it, Energy=-0.000015+0.000000j ± 0.000014 [σ²=0.000000]]"
     ]
    },
    {
     "name": "stdout",
     "output_type": "stream",
     "text": [
      "--->> cal O and jac  0.03764629364013672\n",
      "compute_update  0.03990769386291504\n",
      "(0.005709892777662251+0j)\n",
      "n_discard =  144\n",
      "discard samples 0.8217287063598633\n",
      "n_samples_node =  1000\n",
      "generate_samples :  0.48363685607910156\n",
      "     prepare getting local values 0.001308441162109375\n",
      "     obtained local values 0.004762411117553711\n",
      "get_mc_stats 0.006561279296875\n"
     ]
    },
    {
     "name": "stderr",
     "output_type": "stream",
     "text": [
      " 28%|██▊       | 277/1000 [05:52<16:08,  1.34s/it, Energy=0.000030+0.000000j ± 0.000014 [σ²=0.000000]] "
     ]
    },
    {
     "name": "stdout",
     "output_type": "stream",
     "text": [
      "--->> cal O and jac  0.0358126163482666\n",
      "compute_update  0.03883624076843262\n",
      "(0.0057185593187061385+0j)\n",
      "n_discard =  144\n",
      "discard samples 0.7560210227966309\n",
      "n_samples_node =  1000\n",
      "generate_samples :  0.44363999366760254\n",
      "     prepare getting local values 0.0014235973358154297\n",
      "     obtained local values 0.004990816116333008\n",
      "get_mc_stats 0.0069348812103271484\n"
     ]
    },
    {
     "name": "stderr",
     "output_type": "stream",
     "text": [
      " 28%|██▊       | 278/1000 [05:53<15:46,  1.31s/it, Energy=0.000008+0.000000j ± 0.000017 [σ²=0.000000]]"
     ]
    },
    {
     "name": "stdout",
     "output_type": "stream",
     "text": [
      "--->> cal O and jac  0.0353090763092041\n",
      "compute_update  0.03838014602661133\n",
      "(0.005725496960605893+0j)\n",
      "n_discard =  144\n",
      "discard samples 0.7490212917327881\n",
      "n_samples_node =  1000\n",
      "generate_samples :  0.4456608295440674\n",
      "     prepare getting local values 0.0013201236724853516\n",
      "     obtained local values 0.00479578971862793\n",
      "get_mc_stats 0.006558895111083984\n"
     ]
    },
    {
     "name": "stderr",
     "output_type": "stream",
     "text": [
      " 28%|██▊       | 279/1000 [05:54<15:30,  1.29s/it, Energy=-0.000006+0.000000j ± 0.000016 [σ²=0.000000]]"
     ]
    },
    {
     "name": "stdout",
     "output_type": "stream",
     "text": [
      "--->> cal O and jac  0.036110639572143555\n",
      "compute_update  0.038336753845214844\n",
      "(0.005737581387233873+0j)\n",
      "n_discard =  144\n",
      "discard samples 0.7643499374389648\n",
      "n_samples_node =  1000\n",
      "generate_samples :  0.5655832290649414\n",
      "     prepare getting local values 0.0027017593383789062\n",
      "     obtained local values 0.009862422943115234\n",
      "get_mc_stats 0.012761354446411133\n"
     ]
    },
    {
     "name": "stderr",
     "output_type": "stream",
     "text": [
      " 28%|██▊       | 280/1000 [05:56<15:49,  1.32s/it, Energy=0.000018+0.000000j ± 0.000013 [σ²=0.000000]] "
     ]
    },
    {
     "name": "stdout",
     "output_type": "stream",
     "text": [
      "--->> cal O and jac  0.037993669509887695\n",
      "compute_update  0.0411067008972168\n",
      "(0.005751618274111039+0j)\n",
      "n_discard =  144\n",
      "discard samples 0.7481722831726074\n",
      "n_samples_node =  1000\n",
      "generate_samples :  0.4518899917602539\n",
      "     prepare getting local values 0.0013530254364013672\n",
      "     obtained local values 0.0048542022705078125\n",
      "get_mc_stats 0.0066263675689697266\n"
     ]
    },
    {
     "name": "stderr",
     "output_type": "stream",
     "text": [
      " 28%|██▊       | 281/1000 [05:57<15:34,  1.30s/it, Energy=-0.000014+0.000000j ± 0.000015 [σ²=0.000000]]"
     ]
    },
    {
     "name": "stdout",
     "output_type": "stream",
     "text": [
      "--->> cal O and jac  0.0418400764465332\n",
      "compute_update  0.04582476615905762\n",
      "(0.0057564254212456225+0j)\n",
      "n_discard =  144\n",
      "discard samples 0.7605025768280029\n",
      "n_samples_node =  1000\n",
      "generate_samples :  0.4530608654022217\n",
      "     prepare getting local values 0.0013427734375\n",
      "     obtained local values 0.004822492599487305\n",
      "get_mc_stats 0.006758451461791992\n"
     ]
    },
    {
     "name": "stderr",
     "output_type": "stream",
     "text": [
      " 28%|██▊       | 282/1000 [05:58<15:25,  1.29s/it, Energy=0.000004+0.000000j ± 0.000014 [σ²=0.000000]] "
     ]
    },
    {
     "name": "stdout",
     "output_type": "stream",
     "text": [
      "--->> cal O and jac  0.038091182708740234\n",
      "compute_update  0.04013466835021973\n",
      "(0.005764500268615108+0j)\n",
      "n_discard =  144\n",
      "discard samples 0.7555434703826904\n",
      "n_samples_node =  1000\n",
      "generate_samples :  0.45042943954467773\n",
      "     prepare getting local values 0.001659393310546875\n",
      "     obtained local values 0.005046844482421875\n",
      "get_mc_stats 0.007163286209106445\n"
     ]
    },
    {
     "name": "stderr",
     "output_type": "stream",
     "text": [
      " 28%|██▊       | 283/1000 [06:00<15:16,  1.28s/it, Energy=0.000007+0.000000j ± 0.000012 [σ²=0.000000]]"
     ]
    },
    {
     "name": "stdout",
     "output_type": "stream",
     "text": [
      "--->> cal O and jac  0.03783130645751953\n",
      "compute_update  0.040724754333496094\n",
      "(0.005774028242725219+0j)\n",
      "n_discard =  144\n",
      "discard samples 1.0073752403259277\n",
      "n_samples_node =  1000\n",
      "generate_samples :  0.4487149715423584\n",
      "     prepare getting local values 0.0018620491027832031\n",
      "     obtained local values 0.005227327346801758\n",
      "get_mc_stats 0.007560014724731445\n"
     ]
    },
    {
     "name": "stderr",
     "output_type": "stream",
     "text": [
      " 28%|██▊       | 284/1000 [06:01<16:04,  1.35s/it, Energy=-0.000026+0.000000j ± 0.000011 [σ²=0.000000]]"
     ]
    },
    {
     "name": "stdout",
     "output_type": "stream",
     "text": [
      "--->> cal O and jac  0.038072824478149414\n",
      "compute_update  0.04015803337097168\n",
      "(0.005778965659282011+0j)\n",
      "n_discard =  144\n",
      "discard samples 0.783104658126831\n",
      "n_samples_node =  1000\n",
      "generate_samples :  0.6148738861083984\n",
      "     prepare getting local values 0.0013003349304199219\n",
      "     obtained local values 0.0045397281646728516\n",
      "get_mc_stats 0.005934715270996094\n"
     ]
    },
    {
     "name": "stderr",
     "output_type": "stream",
     "text": [
      " 28%|██▊       | 285/1000 [06:03<16:24,  1.38s/it, Energy=0.000007+0.000000j ± 0.000015 [σ²=0.000000]] "
     ]
    },
    {
     "name": "stdout",
     "output_type": "stream",
     "text": [
      "--->> cal O and jac  0.03725409507751465\n",
      "compute_update  0.04076433181762695\n",
      "(0.005787624048919361+0j)\n",
      "n_discard =  144\n",
      "discard samples 0.790626049041748\n",
      "n_samples_node =  1000\n",
      "generate_samples :  0.4532318115234375\n",
      "     prepare getting local values 0.002330303192138672\n",
      "     obtained local values 0.0077130794525146484\n",
      "get_mc_stats 0.010078907012939453\n"
     ]
    },
    {
     "name": "stderr",
     "output_type": "stream",
     "text": [
      " 29%|██▊       | 286/1000 [06:04<16:06,  1.35s/it, Energy=0.000011+0.000000j ± 0.000014 [σ²=0.000000]]"
     ]
    },
    {
     "name": "stdout",
     "output_type": "stream",
     "text": [
      "--->> cal O and jac  0.03978157043457031\n",
      "compute_update  0.041851043701171875\n",
      "(0.005793327532222786+0j)\n",
      "n_discard =  144\n",
      "discard samples 0.7494008541107178\n",
      "n_samples_node =  1000\n",
      "generate_samples :  0.45250749588012695\n",
      "     prepare getting local values 0.0013687610626220703\n",
      "     obtained local values 0.00484919548034668\n",
      "get_mc_stats 0.006758451461791992\n"
     ]
    },
    {
     "name": "stderr",
     "output_type": "stream",
     "text": [
      " 29%|██▊       | 287/1000 [06:05<15:43,  1.32s/it, Energy=0.000007+0.000000j ± 0.000012 [σ²=0.000000]]"
     ]
    },
    {
     "name": "stdout",
     "output_type": "stream",
     "text": [
      "--->> cal O and jac  0.04150128364562988\n",
      "compute_update  0.04516267776489258\n",
      "(0.0058023624359998015+0j)\n",
      "n_discard =  144\n",
      "discard samples 0.7522268295288086\n",
      "n_samples_node =  1000\n",
      "generate_samples :  0.4499623775482178\n",
      "     prepare getting local values 0.0013630390167236328\n",
      "     obtained local values 0.004935264587402344\n",
      "get_mc_stats 0.006592988967895508\n"
     ]
    },
    {
     "name": "stderr",
     "output_type": "stream",
     "text": [
      " 29%|██▉       | 288/1000 [06:06<15:27,  1.30s/it, Energy=0.000016+0.000000j ± 0.000015 [σ²=0.000000]]"
     ]
    },
    {
     "name": "stdout",
     "output_type": "stream",
     "text": [
      "--->> cal O and jac  0.03808331489562988\n",
      "compute_update  0.04020810127258301\n",
      "(0.005808992576632753+0j)\n",
      "n_discard =  144\n",
      "discard samples 0.7504847049713135\n",
      "n_samples_node =  1000\n",
      "generate_samples :  0.44658350944519043\n",
      "     prepare getting local values 0.0013127326965332031\n",
      "     obtained local values 0.004576921463012695\n",
      "get_mc_stats 0.006325960159301758\n"
     ]
    },
    {
     "name": "stderr",
     "output_type": "stream",
     "text": [
      " 29%|██▉       | 289/1000 [06:08<15:13,  1.28s/it, Energy=0.000018+0.000000j ± 0.000014 [σ²=0.000000]]"
     ]
    },
    {
     "name": "stdout",
     "output_type": "stream",
     "text": [
      "--->> cal O and jac  0.03721284866333008\n",
      "compute_update  0.039589881896972656\n",
      "(0.005818338919410078+0j)\n",
      "n_discard =  144\n",
      "discard samples 0.7525653839111328\n",
      "n_samples_node =  1000\n",
      "generate_samples :  0.44756102561950684\n",
      "     prepare getting local values 0.0015213489532470703\n",
      "     obtained local values 0.004815340042114258\n",
      "get_mc_stats 0.006480216979980469\n"
     ]
    },
    {
     "name": "stderr",
     "output_type": "stream",
     "text": [
      " 29%|██▉       | 290/1000 [06:09<15:03,  1.27s/it, Energy=0.000000+0.000000j ± 0.000012 [σ²=0.000000]]"
     ]
    },
    {
     "name": "stdout",
     "output_type": "stream",
     "text": [
      "--->> cal O and jac  0.03321504592895508\n",
      "compute_update  0.03515934944152832\n",
      "(0.005825834140310831+0j)\n",
      "n_discard =  144\n",
      "discard samples 0.7566475868225098\n",
      "n_samples_node =  1000\n",
      "generate_samples :  0.48851537704467773\n",
      "     prepare getting local values 0.002661466598510742\n",
      "     obtained local values 0.009126663208007812\n",
      "get_mc_stats 0.011720657348632812\n"
     ]
    },
    {
     "name": "stderr",
     "output_type": "stream",
     "text": [
      " 29%|██▉       | 291/1000 [06:10<15:07,  1.28s/it, Energy=0.000020+0.000000j ± 0.000013 [σ²=0.000000]]"
     ]
    },
    {
     "name": "stdout",
     "output_type": "stream",
     "text": [
      "--->> cal O and jac  0.03542160987854004\n",
      "compute_update  0.037732839584350586\n",
      "(0.005831051072678252+0j)\n",
      "n_discard =  144\n",
      "discard samples 0.894749641418457\n",
      "n_samples_node =  1000\n",
      "generate_samples :  0.6105148792266846\n",
      "     prepare getting local values 0.0017366409301757812\n",
      "     obtained local values 0.008839607238769531\n",
      "get_mc_stats 0.010695457458496094\n"
     ]
    },
    {
     "name": "stderr",
     "output_type": "stream",
     "text": [
      " 29%|██▉       | 292/1000 [06:12<16:05,  1.36s/it, Energy=-0.000002+0.000000j ± 0.000014 [σ²=0.000000]]"
     ]
    },
    {
     "name": "stdout",
     "output_type": "stream",
     "text": [
      "--->> cal O and jac  0.037596940994262695\n",
      "compute_update  0.04065990447998047\n",
      "(0.0058361307657370355+0j)\n",
      "n_discard =  144\n",
      "discard samples 0.7666409015655518\n",
      "n_samples_node =  1000\n",
      "generate_samples :  0.44735097885131836\n",
      "     prepare getting local values 0.0012917518615722656\n",
      "     obtained local values 0.004565238952636719\n",
      "get_mc_stats 0.006219148635864258\n"
     ]
    },
    {
     "name": "stderr",
     "output_type": "stream",
     "text": [
      " 29%|██▉       | 293/1000 [06:13<15:42,  1.33s/it, Energy=-0.0000016+0.0000000j ± 0.0000099 [σ²=0.0000002]]"
     ]
    },
    {
     "name": "stdout",
     "output_type": "stream",
     "text": [
      "--->> cal O and jac  0.036339759826660156\n",
      "compute_update  0.03844761848449707\n",
      "(0.005843826055789487+0j)\n",
      "n_discard =  144\n",
      "discard samples 0.7577495574951172\n",
      "n_samples_node =  1000\n",
      "generate_samples :  0.4561431407928467\n",
      "     prepare getting local values 0.0022923946380615234\n",
      "     obtained local values 0.00844430923461914\n",
      "get_mc_stats 0.010894775390625\n"
     ]
    },
    {
     "name": "stderr",
     "output_type": "stream",
     "text": [
      " 29%|██▉       | 294/1000 [06:14<15:26,  1.31s/it, Energy=-0.000002+0.000000j ± 0.000014 [σ²=0.000000]]    "
     ]
    },
    {
     "name": "stdout",
     "output_type": "stream",
     "text": [
      "--->> cal O and jac  0.034536123275756836\n",
      "compute_update  0.03690171241760254\n",
      "(0.00585417034121479+0j)\n",
      "n_discard =  144\n",
      "discard samples 0.7510569095611572\n",
      "n_samples_node =  1000\n",
      "generate_samples :  0.4494643211364746\n",
      "     prepare getting local values 0.0013332366943359375\n",
      "     obtained local values 0.004737138748168945\n",
      "get_mc_stats 0.00681614875793457\n"
     ]
    },
    {
     "name": "stderr",
     "output_type": "stream",
     "text": [
      " 30%|██▉       | 295/1000 [06:15<15:10,  1.29s/it, Energy=0.000003+0.000000j ± 0.000011 [σ²=0.000000]] "
     ]
    },
    {
     "name": "stdout",
     "output_type": "stream",
     "text": [
      "--->> cal O and jac  0.03573870658874512\n",
      "compute_update  0.03765296936035156\n",
      "(0.005860671176690208+0j)\n",
      "n_discard =  144\n",
      "discard samples 0.7824053764343262\n",
      "n_samples_node =  1000\n",
      "generate_samples :  0.6128096580505371\n",
      "     prepare getting local values 0.0020771026611328125\n",
      "     obtained local values 0.0055904388427734375\n",
      "get_mc_stats 0.008832693099975586\n"
     ]
    },
    {
     "name": "stderr",
     "output_type": "stream",
     "text": [
      " 30%|██▉       | 296/1000 [06:17<15:41,  1.34s/it, Energy=-0.0000018+0.0000000j ± 0.0000089 [σ²=0.0000001]]"
     ]
    },
    {
     "name": "stdout",
     "output_type": "stream",
     "text": [
      "--->> cal O and jac  0.03564047813415527\n",
      "compute_update  0.037703514099121094\n",
      "(0.005867559603443521+0j)\n",
      "n_discard =  144\n",
      "discard samples 0.8183548450469971\n",
      "n_samples_node =  1000\n",
      "generate_samples :  0.452406644821167\n",
      "     prepare getting local values 0.0013778209686279297\n",
      "     obtained local values 0.005615949630737305\n",
      "get_mc_stats 0.007617950439453125\n"
     ]
    },
    {
     "name": "stderr",
     "output_type": "stream",
     "text": [
      " 30%|██▉       | 297/1000 [06:18<15:36,  1.33s/it, Energy=0.000023+0.000000j ± 0.000011 [σ²=0.000000]]     "
     ]
    },
    {
     "name": "stdout",
     "output_type": "stream",
     "text": [
      "--->> cal O and jac  0.03785347938537598\n",
      "compute_update  0.04060721397399902\n",
      "(0.005873621994898183+0j)\n",
      "n_discard =  144\n",
      "discard samples 0.7506387233734131\n",
      "n_samples_node =  1000\n",
      "generate_samples :  0.4594130516052246\n",
      "     prepare getting local values 0.0013155937194824219\n",
      "     obtained local values 0.004692792892456055\n",
      "get_mc_stats 0.006375789642333984\n"
     ]
    },
    {
     "name": "stderr",
     "output_type": "stream",
     "text": [
      " 30%|██▉       | 298/1000 [06:20<15:19,  1.31s/it, Energy=-0.000005+0.000000j ± 0.000013 [σ²=0.000000]]"
     ]
    },
    {
     "name": "stdout",
     "output_type": "stream",
     "text": [
      "--->> cal O and jac  0.03610086441040039\n",
      "compute_update  0.03945422172546387\n",
      "(0.005882022990054575+0j)\n",
      "n_discard =  144\n",
      "discard samples 0.9190268516540527\n",
      "n_samples_node =  1000\n",
      "generate_samples :  0.44763851165771484\n",
      "     prepare getting local values 0.00139617919921875\n",
      "     obtained local values 0.0049097537994384766\n",
      "get_mc_stats 0.0067942142486572266\n"
     ]
    },
    {
     "name": "stderr",
     "output_type": "stream",
     "text": [
      " 30%|██▉       | 299/1000 [06:21<15:40,  1.34s/it, Energy=-0.000002+0.000000j ± 0.000013 [σ²=0.000000]]"
     ]
    },
    {
     "name": "stdout",
     "output_type": "stream",
     "text": [
      "--->> cal O and jac  0.03891396522521973\n",
      "compute_update  0.041237831115722656\n",
      "(0.005888437125772957+0j)\n",
      "n_discard =  144\n",
      "discard samples 0.7550060749053955\n",
      "n_samples_node =  1000\n",
      "generate_samples :  0.4568064212799072\n",
      "     prepare getting local values 0.0013942718505859375\n",
      "     obtained local values 0.004835367202758789\n",
      "get_mc_stats 0.0066144466400146484\n"
     ]
    },
    {
     "name": "stderr",
     "output_type": "stream",
     "text": [
      " 30%|███       | 300/1000 [06:22<15:23,  1.32s/it, Energy=-0.000002+0.000000j ± 0.000012 [σ²=0.000000]]"
     ]
    },
    {
     "name": "stdout",
     "output_type": "stream",
     "text": [
      "--->> cal O and jac  0.041228294372558594\n",
      "compute_update  0.04466533660888672\n",
      "(0.005894998617399321+0j)\n",
      "n_discard =  144\n",
      "discard samples 0.7589375972747803\n",
      "n_samples_node =  1000\n",
      "generate_samples :  0.45438194274902344\n",
      "     prepare getting local values 0.002681732177734375\n",
      "     obtained local values 0.008198022842407227\n",
      "get_mc_stats 0.010635137557983398\n"
     ]
    },
    {
     "name": "stderr",
     "output_type": "stream",
     "text": [
      " 30%|███       | 301/1000 [06:23<15:11,  1.30s/it, Energy=0.000021+0.000000j ± 0.000014 [σ²=0.000000]] "
     ]
    },
    {
     "name": "stdout",
     "output_type": "stream",
     "text": [
      "--->> cal O and jac  0.040085554122924805\n",
      "compute_update  0.04332542419433594\n",
      "(0.005902337789465394+0j)\n",
      "n_discard =  144\n",
      "discard samples 0.7522323131561279\n",
      "n_samples_node =  1000\n",
      "generate_samples :  0.4529879093170166\n",
      "     prepare getting local values 0.0012738704681396484\n",
      "     obtained local values 0.004667758941650391\n",
      "get_mc_stats 0.0065343379974365234\n"
     ]
    },
    {
     "name": "stderr",
     "output_type": "stream",
     "text": [
      " 30%|███       | 302/1000 [06:25<14:59,  1.29s/it, Energy=0.000006+0.000000j ± 0.000012 [σ²=0.000000]]"
     ]
    },
    {
     "name": "stdout",
     "output_type": "stream",
     "text": [
      "--->> cal O and jac  0.03544259071350098\n",
      "compute_update  0.03882193565368652\n",
      "(0.005906883800421077+0j)\n",
      "n_discard =  144\n",
      "discard samples 0.7906942367553711\n",
      "n_samples_node =  1000\n",
      "generate_samples :  0.45195746421813965\n",
      "     prepare getting local values 0.0013175010681152344\n",
      "     obtained local values 0.004866123199462891\n",
      "get_mc_stats 0.00649571418762207\n"
     ]
    },
    {
     "name": "stderr",
     "output_type": "stream",
     "text": [
      " 30%|███       | 303/1000 [06:26<14:58,  1.29s/it, Energy=0.000010+0.000000j ± 0.000011 [σ²=0.000000]]"
     ]
    },
    {
     "name": "stdout",
     "output_type": "stream",
     "text": [
      "--->> cal O and jac  0.03883671760559082\n",
      "compute_update  0.04088401794433594\n",
      "(0.005914255198482777+0j)\n",
      "n_discard =  144\n",
      "discard samples 0.7508695125579834\n",
      "n_samples_node =  1000\n",
      "generate_samples :  0.4562082290649414\n",
      "     prepare getting local values 0.0012969970703125\n",
      "     obtained local values 0.004573822021484375\n",
      "get_mc_stats 0.006405353546142578\n"
     ]
    },
    {
     "name": "stderr",
     "output_type": "stream",
     "text": [
      " 30%|███       | 304/1000 [06:27<14:50,  1.28s/it, Energy=0.000009+0.000000j ± 0.000012 [σ²=0.000000]]"
     ]
    },
    {
     "name": "stdout",
     "output_type": "stream",
     "text": [
      "--->> cal O and jac  0.0382380485534668\n",
      "compute_update  0.0413365364074707\n",
      "(0.005920680702761358+0j)\n",
      "n_discard =  144\n",
      "discard samples 0.796273946762085\n",
      "n_samples_node =  1000\n",
      "generate_samples :  0.5334458351135254\n",
      "     prepare getting local values 0.0023298263549804688\n",
      "     obtained local values 0.009022951126098633\n",
      "get_mc_stats 0.010986328125\n"
     ]
    },
    {
     "name": "stderr",
     "output_type": "stream",
     "text": [
      " 30%|███       | 305/1000 [06:29<15:11,  1.31s/it, Energy=0.0000035+0.0000000j ± 0.0000097 [σ²=0.0000001]]"
     ]
    },
    {
     "name": "stdout",
     "output_type": "stream",
     "text": [
      "--->> cal O and jac  0.0397799015045166\n",
      "compute_update  0.04201841354370117\n",
      "(0.005928227850062484+0j)\n",
      "n_discard =  144\n",
      "discard samples 0.7696051597595215\n",
      "n_samples_node =  1000\n",
      "generate_samples :  0.4587972164154053\n",
      "     prepare getting local values 0.0012676715850830078\n",
      "     obtained local values 0.004599571228027344\n",
      "get_mc_stats 0.006220340728759766\n"
     ]
    },
    {
     "name": "stderr",
     "output_type": "stream",
     "text": [
      " 31%|███       | 306/1000 [06:30<15:02,  1.30s/it, Energy=0.000020+0.000000j ± 0.000011 [σ²=0.000000]]    "
     ]
    },
    {
     "name": "stdout",
     "output_type": "stream",
     "text": [
      "--->> cal O and jac  0.037719011306762695\n",
      "compute_update  0.039603471755981445\n",
      "(0.005934791872458829+0j)\n",
      "n_discard =  144\n",
      "discard samples 0.8149981498718262\n",
      "n_samples_node =  1000\n",
      "generate_samples :  0.5325496196746826\n",
      "     prepare getting local values 0.001363515853881836\n",
      "     obtained local values 0.004645824432373047\n",
      "get_mc_stats 0.00676417350769043\n"
     ]
    },
    {
     "name": "stderr",
     "output_type": "stream",
     "text": [
      " 31%|███       | 307/1000 [06:31<15:21,  1.33s/it, Energy=-0.0000127+0.0000000j ± 0.0000099 [σ²=0.0000001]]"
     ]
    },
    {
     "name": "stdout",
     "output_type": "stream",
     "text": [
      "--->> cal O and jac  0.039670467376708984\n",
      "compute_update  0.04343461990356445\n",
      "(0.005938921384411661+0j)\n",
      "n_discard =  144\n",
      "discard samples 0.8035039901733398\n",
      "n_samples_node =  1000\n",
      "generate_samples :  0.4786674976348877\n",
      "     prepare getting local values 0.0015735626220703125\n",
      "     obtained local values 0.005053997039794922\n",
      "get_mc_stats 0.0069310665130615234\n"
     ]
    },
    {
     "name": "stderr",
     "output_type": "stream",
     "text": [
      " 31%|███       | 308/1000 [06:33<15:20,  1.33s/it, Energy=0.000005+0.000000j ± 0.000011 [σ²=0.000000]]     "
     ]
    },
    {
     "name": "stdout",
     "output_type": "stream",
     "text": [
      "--->> cal O and jac  0.03655362129211426\n",
      "compute_update  0.03862118721008301\n",
      "(0.005947220921964259+0j)\n",
      "n_discard =  144\n",
      "discard samples 0.9051027297973633\n",
      "n_samples_node =  1000\n",
      "generate_samples :  0.5092763900756836\n",
      "     prepare getting local values 0.0014798641204833984\n",
      "     obtained local values 0.005480051040649414\n",
      "get_mc_stats 0.007284641265869141\n"
     ]
    },
    {
     "name": "stderr",
     "output_type": "stream",
     "text": [
      " 31%|███       | 309/1000 [06:34<15:46,  1.37s/it, Energy=-0.000012+0.000000j ± 0.000011 [σ²=0.000000]]"
     ]
    },
    {
     "name": "stdout",
     "output_type": "stream",
     "text": [
      "--->> cal O and jac  0.03726339340209961\n",
      "compute_update  0.0395200252532959\n",
      "(0.005953178209651178+0j)\n",
      "n_discard =  144\n",
      "discard samples 0.7511253356933594\n",
      "n_samples_node =  1000\n",
      "generate_samples :  0.4578127861022949\n",
      "     prepare getting local values 0.0012826919555664062\n",
      "     obtained local values 0.0047206878662109375\n",
      "get_mc_stats 0.006547689437866211\n"
     ]
    },
    {
     "name": "stderr",
     "output_type": "stream",
     "text": [
      " 31%|███       | 310/1000 [06:35<15:21,  1.34s/it, Energy=0.000014+0.000000j ± 0.000010 [σ²=0.000000]] "
     ]
    },
    {
     "name": "stdout",
     "output_type": "stream",
     "text": [
      "--->> cal O and jac  0.03715872764587402\n",
      "compute_update  0.039252519607543945\n",
      "(0.005957317128796222+0j)\n",
      "n_discard =  144\n",
      "discard samples 0.7595760822296143\n",
      "n_samples_node =  1000\n",
      "generate_samples :  0.4637336730957031\n",
      "     prepare getting local values 0.0026717185974121094\n",
      "     obtained local values 0.00908803939819336\n",
      "get_mc_stats 0.01189875602722168\n"
     ]
    },
    {
     "name": "stderr",
     "output_type": "stream",
     "text": [
      " 31%|███       | 311/1000 [06:37<15:08,  1.32s/it, Energy=-0.0000021+0.0000000j ± 0.0000089 [σ²=0.0000001]]"
     ]
    },
    {
     "name": "stdout",
     "output_type": "stream",
     "text": [
      "--->> cal O and jac  0.037489891052246094\n",
      "compute_update  0.03949379920959473\n",
      "(0.005963484825244187+0j)\n",
      "n_discard =  144\n",
      "discard samples 0.8768179416656494\n",
      "n_samples_node =  1000\n",
      "generate_samples :  0.45264244079589844\n",
      "     prepare getting local values 0.0013659000396728516\n",
      "     obtained local values 0.004947185516357422\n",
      "get_mc_stats 0.006931304931640625\n"
     ]
    },
    {
     "name": "stderr",
     "output_type": "stream",
     "text": [
      " 31%|███       | 312/1000 [06:38<15:20,  1.34s/it, Energy=0.000004+0.000000j ± 0.000012 [σ²=0.000000]]     "
     ]
    },
    {
     "name": "stdout",
     "output_type": "stream",
     "text": [
      "--->> cal O and jac  0.04290032386779785\n",
      "compute_update  0.046016693115234375\n",
      "(0.005970173868204709+0j)\n",
      "n_discard =  144\n",
      "discard samples 0.9858169555664062\n",
      "n_samples_node =  1000\n",
      "generate_samples :  0.454587459564209\n",
      "     prepare getting local values 0.0022208690643310547\n",
      "     obtained local values 0.008554935455322266\n",
      "get_mc_stats 0.010968208312988281\n"
     ]
    },
    {
     "name": "stderr",
     "output_type": "stream",
     "text": [
      " 31%|███▏      | 313/1000 [06:40<15:51,  1.38s/it, Energy=-0.000002+0.000000j ± 0.000011 [σ²=0.000000]]"
     ]
    },
    {
     "name": "stdout",
     "output_type": "stream",
     "text": [
      "--->> cal O and jac  0.03862953186035156\n",
      "compute_update  0.040816545486450195\n",
      "(0.005976638724561015+0j)\n",
      "n_discard =  144\n",
      "discard samples 0.749539852142334\n",
      "n_samples_node =  1000\n",
      "generate_samples :  0.4504830837249756\n",
      "     prepare getting local values 0.00135040283203125\n",
      "     obtained local values 0.004741191864013672\n",
      "get_mc_stats 0.006541252136230469\n"
     ]
    },
    {
     "name": "stderr",
     "output_type": "stream",
     "text": [
      " 31%|███▏      | 314/1000 [06:41<15:21,  1.34s/it, Energy=-0.000008+0.000000j ± 0.000010 [σ²=0.000000]]"
     ]
    },
    {
     "name": "stdout",
     "output_type": "stream",
     "text": [
      "--->> cal O and jac  0.03849649429321289\n",
      "compute_update  0.0404362678527832\n",
      "(0.005982990897043014+0j)\n",
      "n_discard =  144\n",
      "discard samples 0.7522318363189697\n",
      "n_samples_node =  1000\n",
      "generate_samples :  0.4531867504119873\n",
      "     prepare getting local values 0.0012791156768798828\n",
      "     obtained local values 0.004630327224731445\n",
      "get_mc_stats 0.006391763687133789\n"
     ]
    },
    {
     "name": "stderr",
     "output_type": "stream",
     "text": [
      " 32%|███▏      | 315/1000 [06:42<15:01,  1.32s/it, Energy=0.000006+0.000000j ± 0.000011 [σ²=0.000000]] "
     ]
    },
    {
     "name": "stdout",
     "output_type": "stream",
     "text": [
      "--->> cal O and jac  0.03505301475524902\n",
      "compute_update  0.037212371826171875\n",
      "(0.005989960377314509+0j)\n",
      "n_discard =  144\n",
      "discard samples 0.7503840923309326\n",
      "n_samples_node =  1000\n",
      "generate_samples :  0.44750237464904785\n",
      "     prepare getting local values 0.0013740062713623047\n",
      "     obtained local values 0.004734992980957031\n",
      "get_mc_stats 0.006367921829223633\n"
     ]
    },
    {
     "name": "stderr",
     "output_type": "stream",
     "text": [
      " 32%|███▏      | 316/1000 [06:43<14:45,  1.29s/it, Energy=0.0000141+0.0000000j ± 0.0000080 [σ²=0.0000001]]"
     ]
    },
    {
     "name": "stdout",
     "output_type": "stream",
     "text": [
      "--->> cal O and jac  0.037075042724609375\n",
      "compute_update  0.039072275161743164\n",
      "(0.005997914796518205+0j)\n",
      "n_discard =  144\n",
      "discard samples 0.7578227519989014\n",
      "n_samples_node =  1000\n",
      "generate_samples :  0.44840288162231445\n",
      "     prepare getting local values 0.0014386177062988281\n",
      "     obtained local values 0.004980325698852539\n",
      "get_mc_stats 0.006971120834350586\n"
     ]
    },
    {
     "name": "stderr",
     "output_type": "stream",
     "text": [
      " 32%|███▏      | 317/1000 [06:45<14:36,  1.28s/it, Energy=0.000008+0.000000j ± 0.000012 [σ²=0.000000]]    "
     ]
    },
    {
     "name": "stdout",
     "output_type": "stream",
     "text": [
      "--->> cal O and jac  0.03954648971557617\n",
      "compute_update  0.04330635070800781\n",
      "(0.006002553868021987+0j)\n",
      "n_discard =  144\n",
      "discard samples 0.8357961177825928\n",
      "n_samples_node =  1000\n",
      "generate_samples :  0.45343637466430664\n",
      "     prepare getting local values 0.0012543201446533203\n",
      "     obtained local values 0.004606485366821289\n",
      "get_mc_stats 0.006051778793334961\n"
     ]
    },
    {
     "name": "stderr",
     "output_type": "stream",
     "text": [
      " 32%|███▏      | 318/1000 [06:46<14:46,  1.30s/it, Energy=0.0000001+0.0000000j ± 0.0000091 [σ²=0.0000001]]"
     ]
    },
    {
     "name": "stdout",
     "output_type": "stream",
     "text": [
      "--->> cal O and jac  0.0367894172668457\n",
      "compute_update  0.03900313377380371\n",
      "(0.006007439242944871+0j)\n",
      "n_discard =  144\n",
      "discard samples 0.752312183380127\n",
      "n_samples_node =  1000\n",
      "generate_samples :  0.4510045051574707\n",
      "     prepare getting local values 0.0014278888702392578\n",
      "     obtained local values 0.005376100540161133\n",
      "get_mc_stats 0.0072329044342041016\n"
     ]
    },
    {
     "name": "stderr",
     "output_type": "stream",
     "text": [
      " 32%|███▏      | 319/1000 [06:47<14:36,  1.29s/it, Energy=0.0000037+0.0000000j ± 0.0000100 [σ²=0.0000001]]"
     ]
    },
    {
     "name": "stdout",
     "output_type": "stream",
     "text": [
      "--->> cal O and jac  0.04287219047546387\n",
      "compute_update  0.04479074478149414\n",
      "(0.006013946562783338+0j)\n",
      "n_discard =  144\n",
      "discard samples 0.7535228729248047\n",
      "n_samples_node =  1000\n",
      "generate_samples :  0.44142770767211914\n",
      "     prepare getting local values 0.0013422966003417969\n",
      "     obtained local values 0.004689693450927734\n",
      "get_mc_stats 0.006640434265136719\n"
     ]
    },
    {
     "name": "stderr",
     "output_type": "stream",
     "text": [
      " 32%|███▏      | 320/1000 [06:48<14:26,  1.27s/it, Energy=0.0000115+0.0000000j ± 0.0000073 [σ²=0.0000001]]"
     ]
    },
    {
     "name": "stdout",
     "output_type": "stream",
     "text": [
      "--->> cal O and jac  0.03857564926147461\n",
      "compute_update  0.041815757751464844\n",
      "(0.006021157207901477+0j)\n",
      "n_discard =  144\n",
      "discard samples 0.7531938552856445\n",
      "n_samples_node =  1000\n",
      "generate_samples :  0.4679577350616455\n",
      "     prepare getting local values 0.002610921859741211\n",
      "     obtained local values 0.006009101867675781\n",
      "get_mc_stats 0.009865045547485352\n"
     ]
    },
    {
     "name": "stderr",
     "output_type": "stream",
     "text": [
      " 32%|███▏      | 321/1000 [06:50<14:25,  1.27s/it, Energy=-0.000019+0.000000j ± 0.000011 [σ²=0.000000]]   "
     ]
    },
    {
     "name": "stdout",
     "output_type": "stream",
     "text": [
      "--->> cal O and jac  0.03991055488586426\n",
      "compute_update  0.04301095008850098\n",
      "(0.006026374823906048+0j)\n",
      "n_discard =  144\n",
      "discard samples 1.0280795097351074\n",
      "n_samples_node =  1000\n",
      "generate_samples :  0.4451427459716797\n",
      "     prepare getting local values 0.0022728443145751953\n",
      "     obtained local values 0.007436037063598633\n",
      "get_mc_stats 0.009872674942016602\n"
     ]
    },
    {
     "name": "stderr",
     "output_type": "stream",
     "text": [
      " 32%|███▏      | 322/1000 [06:51<15:15,  1.35s/it, Energy=-0.0000074+0.0000000j ± 0.0000082 [σ²=0.0000001]]"
     ]
    },
    {
     "name": "stdout",
     "output_type": "stream",
     "text": [
      "--->> cal O and jac  0.03837084770202637\n",
      "compute_update  0.04031777381896973\n",
      "(0.006030040057817618+0j)\n",
      "n_discard =  144\n",
      "discard samples 0.7643041610717773\n",
      "n_samples_node =  1000\n",
      "generate_samples :  0.46286463737487793\n",
      "     prepare getting local values 0.0020236968994140625\n",
      "     obtained local values 0.007283687591552734\n",
      "get_mc_stats 0.009520292282104492\n"
     ]
    },
    {
     "name": "stderr",
     "output_type": "stream",
     "text": [
      " 32%|███▏      | 323/1000 [06:52<15:00,  1.33s/it, Energy=-0.000009+0.000000j ± 0.000011 [σ²=0.000000]]    "
     ]
    },
    {
     "name": "stdout",
     "output_type": "stream",
     "text": [
      "--->> cal O and jac  0.042696475982666016\n",
      "compute_update  0.04651474952697754\n",
      "(0.00603565528582129+0j)\n",
      "n_discard =  144\n",
      "discard samples 0.770139217376709\n",
      "n_samples_node =  1000\n",
      "generate_samples :  0.450084924697876\n",
      "     prepare getting local values 0.001302480697631836\n",
      "     obtained local values 0.004601001739501953\n",
      "get_mc_stats 0.0061228275299072266\n"
     ]
    },
    {
     "name": "stderr",
     "output_type": "stream",
     "text": [
      " 32%|███▏      | 324/1000 [06:54<14:46,  1.31s/it, Energy=-0.0000050+0.0000000j ± 0.0000098 [σ²=0.0000001]]"
     ]
    },
    {
     "name": "stdout",
     "output_type": "stream",
     "text": [
      "--->> cal O and jac  0.03529167175292969\n",
      "compute_update  0.03728842735290527\n",
      "(0.006041434307759179+0j)\n",
      "n_discard =  144\n",
      "discard samples 0.7493321895599365\n",
      "n_samples_node =  1000\n",
      "generate_samples :  0.45621395111083984\n",
      "     prepare getting local values 0.002701997756958008\n",
      "     obtained local values 0.009820938110351562\n",
      "get_mc_stats 0.012461423873901367\n"
     ]
    },
    {
     "name": "stderr",
     "output_type": "stream",
     "text": [
      " 32%|███▎      | 325/1000 [06:55<14:34,  1.30s/it, Energy=-0.0000132+0.0000000j ± 0.0000084 [σ²=0.0000001]]"
     ]
    },
    {
     "name": "stdout",
     "output_type": "stream",
     "text": [
      "--->> cal O and jac  0.037242889404296875\n",
      "compute_update  0.04059290885925293\n",
      "(0.00604731136438954+0j)\n",
      "n_discard =  144\n",
      "discard samples 0.7582223415374756\n",
      "n_samples_node =  1000\n",
      "generate_samples :  0.4732398986816406\n",
      "     prepare getting local values 0.0012929439544677734\n",
      "     obtained local values 0.0047550201416015625\n",
      "get_mc_stats 0.006398439407348633\n"
     ]
    },
    {
     "name": "stderr",
     "output_type": "stream",
     "text": [
      " 33%|███▎      | 326/1000 [06:56<14:29,  1.29s/it, Energy=0.0000015+0.0000000j ± 0.0000088 [σ²=0.0000001]] "
     ]
    },
    {
     "name": "stdout",
     "output_type": "stream",
     "text": [
      "--->> cal O and jac  0.03579878807067871\n",
      "compute_update  0.03871774673461914\n",
      "(0.0060526229119763734+0j)\n",
      "n_discard =  144\n",
      "discard samples 0.9298269748687744\n",
      "n_samples_node =  1000\n",
      "generate_samples :  0.47824740409851074\n",
      "     prepare getting local values 0.002333402633666992\n",
      "     obtained local values 0.006592750549316406\n",
      "get_mc_stats 0.009146928787231445\n"
     ]
    },
    {
     "name": "stderr",
     "output_type": "stream",
     "text": [
      " 33%|███▎      | 327/1000 [06:58<15:02,  1.34s/it, Energy=0.0000118+0.0000000j ± 0.0000096 [σ²=0.0000001]]"
     ]
    },
    {
     "name": "stdout",
     "output_type": "stream",
     "text": [
      "--->> cal O and jac  0.03545689582824707\n",
      "compute_update  0.039649248123168945\n",
      "(0.006059042474292979+0j)\n",
      "n_discard =  144\n",
      "discard samples 0.7738513946533203\n",
      "n_samples_node =  1000\n",
      "generate_samples :  0.44959092140197754\n",
      "     prepare getting local values 0.00133514404296875\n",
      "     obtained local values 0.004763364791870117\n",
      "get_mc_stats 0.0065441131591796875\n"
     ]
    },
    {
     "name": "stderr",
     "output_type": "stream",
     "text": [
      " 33%|███▎      | 328/1000 [06:59<14:47,  1.32s/it, Energy=0.000006+0.000000j ± 0.000010 [σ²=0.000000]]    "
     ]
    },
    {
     "name": "stdout",
     "output_type": "stream",
     "text": [
      "--->> cal O and jac  0.03673744201660156\n",
      "compute_update  0.03946971893310547\n",
      "(0.0060649016284393415+0j)\n",
      "n_discard =  144\n",
      "discard samples 0.7585365772247314\n",
      "n_samples_node =  1000\n",
      "generate_samples :  0.45729756355285645\n",
      "     prepare getting local values 0.0013458728790283203\n",
      "     obtained local values 0.004830598831176758\n",
      "get_mc_stats 0.006619453430175781\n"
     ]
    },
    {
     "name": "stderr",
     "output_type": "stream",
     "text": [
      " 33%|███▎      | 329/1000 [07:00<14:34,  1.30s/it, Energy=-0.0000077+0.0000000j ± 0.0000085 [σ²=0.0000001]]"
     ]
    },
    {
     "name": "stdout",
     "output_type": "stream",
     "text": [
      "--->> cal O and jac  0.037187814712524414\n",
      "compute_update  0.03906726837158203\n",
      "(0.006069603687110918+0j)\n",
      "n_discard =  144\n",
      "discard samples 0.7718112468719482\n",
      "n_samples_node =  1000\n",
      "generate_samples :  0.4481661319732666\n",
      "     prepare getting local values 0.0013196468353271484\n",
      "     obtained local values 0.004689931869506836\n",
      "get_mc_stats 0.006246089935302734\n"
     ]
    },
    {
     "name": "stderr",
     "output_type": "stream",
     "text": [
      " 33%|███▎      | 330/1000 [07:02<14:25,  1.29s/it, Energy=-0.0000146+0.0000000j ± 0.0000099 [σ²=0.0000001]]"
     ]
    },
    {
     "name": "stdout",
     "output_type": "stream",
     "text": [
      "--->> cal O and jac  0.03720808029174805\n",
      "compute_update  0.03925323486328125\n",
      "(0.006075606176829447+0j)\n",
      "n_discard =  144\n",
      "discard samples 0.7561299800872803\n",
      "n_samples_node =  1000\n",
      "generate_samples :  0.44875097274780273\n",
      "     prepare getting local values 0.0013117790222167969\n",
      "     obtained local values 0.004711151123046875\n",
      "get_mc_stats 0.006647825241088867\n"
     ]
    },
    {
     "name": "stderr",
     "output_type": "stream",
     "text": [
      " 33%|███▎      | 331/1000 [07:03<14:18,  1.28s/it, Energy=-0.0000005+0.0000000j ± 0.0000088 [σ²=0.0000001]]"
     ]
    },
    {
     "name": "stdout",
     "output_type": "stream",
     "text": [
      "--->> cal O and jac  0.04292440414428711\n",
      "compute_update  0.04616546630859375\n",
      "(0.006081985434132392+0j)\n",
      "n_discard =  144\n",
      "discard samples 0.7604067325592041\n",
      "n_samples_node =  1000\n",
      "generate_samples :  0.45113325119018555\n",
      "     prepare getting local values 0.002328634262084961\n",
      "     obtained local values 0.008589982986450195\n",
      "get_mc_stats 0.011136054992675781\n"
     ]
    },
    {
     "name": "stderr",
     "output_type": "stream",
     "text": [
      " 33%|███▎      | 332/1000 [07:04<14:13,  1.28s/it, Energy=-0.000005+0.000000j ± 0.000010 [σ²=0.000000]]    "
     ]
    },
    {
     "name": "stdout",
     "output_type": "stream",
     "text": [
      "--->> cal O and jac  0.04019641876220703\n",
      "compute_update  0.04400920867919922\n",
      "(0.006087261616446777+0j)\n",
      "n_discard =  144\n",
      "discard samples 0.755244255065918\n",
      "n_samples_node =  1000\n",
      "generate_samples :  0.44672322273254395\n",
      "     prepare getting local values 0.0013229846954345703\n",
      "     obtained local values 0.004738807678222656\n",
      "get_mc_stats 0.0061702728271484375\n"
     ]
    },
    {
     "name": "stderr",
     "output_type": "stream",
     "text": [
      " 33%|███▎      | 333/1000 [07:05<14:06,  1.27s/it, Energy=-0.0000054+0.0000000j ± 0.0000089 [σ²=0.0000001]]"
     ]
    },
    {
     "name": "stdout",
     "output_type": "stream",
     "text": [
      "--->> cal O and jac  0.036444664001464844\n",
      "compute_update  0.038651466369628906\n",
      "(0.006094191297697719+0j)\n",
      "n_discard =  144\n",
      "discard samples 0.7522952556610107\n",
      "n_samples_node =  1000\n",
      "generate_samples :  0.46065711975097656\n",
      "     prepare getting local values 0.0013766288757324219\n",
      "     obtained local values 0.004896402359008789\n",
      "get_mc_stats 0.006697177886962891\n"
     ]
    },
    {
     "name": "stderr",
     "output_type": "stream",
     "text": [
      " 33%|███▎      | 334/1000 [07:07<14:04,  1.27s/it, Energy=0.0000065+0.0000000j ± 0.0000069 [σ²=0.0000001]] "
     ]
    },
    {
     "name": "stdout",
     "output_type": "stream",
     "text": [
      "--->> cal O and jac  0.03924417495727539\n",
      "compute_update  0.04149627685546875\n",
      "(0.0060996241533467326+0j)\n",
      "n_discard =  144\n",
      "discard samples 0.768634557723999\n",
      "n_samples_node =  1000\n",
      "generate_samples :  0.4749875068664551\n",
      "     prepare getting local values 0.0014014244079589844\n",
      "     obtained local values 0.004858255386352539\n",
      "get_mc_stats 0.00688934326171875\n"
     ]
    },
    {
     "name": "stderr",
     "output_type": "stream",
     "text": [
      " 34%|███▎      | 335/1000 [07:08<14:08,  1.28s/it, Energy=-0.0000179+0.0000000j ± 0.0000071 [σ²=0.0000001]]"
     ]
    },
    {
     "name": "stdout",
     "output_type": "stream",
     "text": [
      "--->> cal O and jac  0.04180145263671875\n",
      "compute_update  0.04384303092956543\n",
      "(0.006106313644770471+0j)\n",
      "n_discard =  144\n",
      "discard samples 0.8351881504058838\n",
      "n_samples_node =  1000\n",
      "generate_samples :  0.47044944763183594\n",
      "     prepare getting local values 0.0013117790222167969\n",
      "     obtained local values 0.004770517349243164\n",
      "get_mc_stats 0.006365299224853516\n"
     ]
    },
    {
     "name": "stderr",
     "output_type": "stream",
     "text": [
      " 34%|███▎      | 336/1000 [07:09<14:22,  1.30s/it, Energy=-0.0000004+0.0000000j ± 0.0000084 [σ²=0.0000001]]"
     ]
    },
    {
     "name": "stdout",
     "output_type": "stream",
     "text": [
      "--->> cal O and jac  0.037101030349731445\n",
      "compute_update  0.03950071334838867\n",
      "(0.006110037731853624+0j)\n",
      "n_discard =  144\n",
      "discard samples 0.7570388317108154\n",
      "n_samples_node =  1000\n",
      "generate_samples :  0.5958631038665771\n",
      "     prepare getting local values 0.0012362003326416016\n",
      "     obtained local values 0.004479885101318359\n",
      "get_mc_stats 0.006069660186767578\n"
     ]
    },
    {
     "name": "stderr",
     "output_type": "stream",
     "text": [
      " 34%|███▎      | 337/1000 [07:11<14:41,  1.33s/it, Energy=-0.0000144+0.0000000j ± 0.0000072 [σ²=0.0000001]]"
     ]
    },
    {
     "name": "stdout",
     "output_type": "stream",
     "text": [
      "--->> cal O and jac  0.03717350959777832\n",
      "compute_update  0.040528297424316406\n",
      "(0.006113801294908368+0j)\n",
      "n_discard =  144\n",
      "discard samples 0.7689785957336426\n",
      "n_samples_node =  1000\n",
      "generate_samples :  0.4612107276916504\n",
      "     prepare getting local values 0.0012767314910888672\n",
      "     obtained local values 0.004614591598510742\n",
      "get_mc_stats 0.006534099578857422\n"
     ]
    },
    {
     "name": "stderr",
     "output_type": "stream",
     "text": [
      " 34%|███▍      | 338/1000 [07:12<14:30,  1.31s/it, Energy=0.000021+0.000000j ± 0.000011 [σ²=0.000000]]     "
     ]
    },
    {
     "name": "stdout",
     "output_type": "stream",
     "text": [
      "--->> cal O and jac  0.038993120193481445\n",
      "compute_update  0.04114985466003418\n",
      "(0.0061215385781178775+0j)\n",
      "n_discard =  144\n",
      "discard samples 0.8068499565124512\n",
      "n_samples_node =  1000\n",
      "generate_samples :  0.48406338691711426\n",
      "     prepare getting local values 0.001384735107421875\n",
      "     obtained local values 0.004897594451904297\n",
      "get_mc_stats 0.0067555904388427734\n"
     ]
    },
    {
     "name": "stderr",
     "output_type": "stream",
     "text": [
      " 34%|███▍      | 339/1000 [07:13<14:33,  1.32s/it, Energy=0.0000108+0.0000000j ± 0.0000070 [σ²=0.0000001]]"
     ]
    },
    {
     "name": "stdout",
     "output_type": "stream",
     "text": [
      "--->> cal O and jac  0.03763937950134277\n",
      "compute_update  0.03976750373840332\n",
      "(0.006128514726203807+0j)\n",
      "n_discard =  144\n",
      "discard samples 0.8523342609405518\n",
      "n_samples_node =  1000\n",
      "generate_samples :  0.48533082008361816\n",
      "     prepare getting local values 0.0022928714752197266\n",
      "     obtained local values 0.008584022521972656\n",
      "get_mc_stats 0.011420488357543945\n"
     ]
    },
    {
     "name": "stderr",
     "output_type": "stream",
     "text": [
      " 34%|███▍      | 340/1000 [07:15<14:45,  1.34s/it, Energy=0.0000208+0.0000000j ± 0.0000077 [σ²=0.0000001]]"
     ]
    },
    {
     "name": "stdout",
     "output_type": "stream",
     "text": [
      "--->> cal O and jac  0.03479909896850586\n",
      "compute_update  0.036963701248168945\n",
      "(0.006133881186911244+0j)\n",
      "n_discard =  144\n",
      "discard samples 0.7875497341156006\n",
      "n_samples_node =  1000\n",
      "generate_samples :  0.5803859233856201\n",
      "     prepare getting local values 0.0012788772583007812\n",
      "     obtained local values 0.0046422481536865234\n",
      "get_mc_stats 0.0065937042236328125\n"
     ]
    },
    {
     "name": "stderr",
     "output_type": "stream",
     "text": [
      " 34%|███▍      | 341/1000 [07:16<14:58,  1.36s/it, Energy=0.0000008+0.0000000j ± 0.0000089 [σ²=0.0000001]]"
     ]
    },
    {
     "name": "stdout",
     "output_type": "stream",
     "text": [
      "--->> cal O and jac  0.03669881820678711\n",
      "compute_update  0.03882479667663574\n",
      "(0.006140362644575943+0j)\n",
      "n_discard =  144\n",
      "discard samples 0.7634079456329346\n",
      "n_samples_node =  1000\n",
      "generate_samples :  0.47370147705078125\n",
      "     prepare getting local values 0.0023474693298339844\n",
      "     obtained local values 0.0084686279296875\n",
      "get_mc_stats 0.011620759963989258\n"
     ]
    },
    {
     "name": "stderr",
     "output_type": "stream",
     "text": [
      " 34%|███▍      | 342/1000 [07:17<14:44,  1.34s/it, Energy=-0.0000025+0.0000000j ± 0.0000068 [σ²=0.0000001]]"
     ]
    },
    {
     "name": "stdout",
     "output_type": "stream",
     "text": [
      "--->> cal O and jac  0.0466914176940918\n",
      "compute_update  0.04906296730041504\n",
      "(0.006145082264436367+0j)\n",
      "n_discard =  144\n",
      "discard samples 0.7781240940093994\n",
      "n_samples_node =  1000\n",
      "generate_samples :  0.46877503395080566\n",
      "     prepare getting local values 0.0026857852935791016\n",
      "     obtained local values 0.007235288619995117\n",
      "get_mc_stats 0.010193109512329102\n"
     ]
    },
    {
     "name": "stderr",
     "output_type": "stream",
     "text": [
      " 34%|███▍      | 343/1000 [07:19<14:34,  1.33s/it, Energy=0.0000040+0.0000000j ± 0.0000075 [σ²=0.0000001]] "
     ]
    },
    {
     "name": "stdout",
     "output_type": "stream",
     "text": [
      "--->> cal O and jac  0.03837132453918457\n",
      "compute_update  0.04043316841125488\n",
      "(0.006150316676009709+0j)\n",
      "n_discard =  144\n",
      "discard samples 0.7914924621582031\n",
      "n_samples_node =  1000\n",
      "generate_samples :  0.4645404815673828\n",
      "     prepare getting local values 0.002166748046875\n",
      "     obtained local values 0.00829768180847168\n",
      "get_mc_stats 0.011123418807983398\n"
     ]
    },
    {
     "name": "stderr",
     "output_type": "stream",
     "text": [
      " 34%|███▍      | 344/1000 [07:20<14:30,  1.33s/it, Energy=0.0000100+0.0000000j ± 0.0000072 [σ²=0.0000001]]"
     ]
    },
    {
     "name": "stdout",
     "output_type": "stream",
     "text": [
      "--->> cal O and jac  0.042962074279785156\n",
      "compute_update  0.04648113250732422\n",
      "(0.0061548784118684256+0j)\n",
      "n_discard =  144\n",
      "discard samples 0.7741258144378662\n",
      "n_samples_node =  1000\n",
      "generate_samples :  0.5278356075286865\n",
      "     prepare getting local values 0.002029895782470703\n",
      "     obtained local values 0.007298707962036133\n",
      "get_mc_stats 0.009896516799926758\n"
     ]
    },
    {
     "name": "stderr",
     "output_type": "stream",
     "text": [
      " 34%|███▍      | 345/1000 [07:21<14:34,  1.34s/it, Energy=0.0000115+0.0000000j ± 0.0000082 [σ²=0.0000001]]"
     ]
    },
    {
     "name": "stdout",
     "output_type": "stream",
     "text": [
      "--->> cal O and jac  0.03880572319030762\n",
      "compute_update  0.04147934913635254\n",
      "(0.006161055640316514+0j)\n",
      "n_discard =  144\n",
      "discard samples 0.7610673904418945\n",
      "n_samples_node =  1000\n",
      "generate_samples :  0.47974276542663574\n",
      "     prepare getting local values 0.0026547908782958984\n",
      "     obtained local values 0.009065389633178711\n",
      "get_mc_stats 0.011487007141113281\n"
     ]
    },
    {
     "name": "stderr",
     "output_type": "stream",
     "text": [
      " 35%|███▍      | 346/1000 [07:23<14:25,  1.32s/it, Energy=-0.0000072+0.0000000j ± 0.0000080 [σ²=0.0000001]]"
     ]
    },
    {
     "name": "stdout",
     "output_type": "stream",
     "text": [
      "--->> cal O and jac  0.03701043128967285\n",
      "compute_update  0.04034018516540527\n",
      "(0.006164853727529951+0j)\n",
      "n_discard =  144\n",
      "discard samples 0.7581136226654053\n",
      "n_samples_node =  1000\n",
      "generate_samples :  0.47935986518859863\n",
      "     prepare getting local values 0.002332925796508789\n",
      "     obtained local values 0.008536577224731445\n",
      "get_mc_stats 0.01120758056640625\n"
     ]
    },
    {
     "name": "stderr",
     "output_type": "stream",
     "text": [
      " 35%|███▍      | 347/1000 [07:24<14:18,  1.31s/it, Energy=0.0000075+0.0000000j ± 0.0000063 [σ²=0.0000001]] "
     ]
    },
    {
     "name": "stdout",
     "output_type": "stream",
     "text": [
      "--->> cal O and jac  0.038297414779663086\n",
      "compute_update  0.04208540916442871\n",
      "(0.006170145482594452+0j)\n",
      "n_discard =  144\n",
      "discard samples 0.7707140445709229\n",
      "n_samples_node =  1000\n",
      "generate_samples :  0.4639909267425537\n",
      "     prepare getting local values 0.0029306411743164062\n",
      "     obtained local values 0.0075457096099853516\n",
      "get_mc_stats 0.010676383972167969\n"
     ]
    },
    {
     "name": "stderr",
     "output_type": "stream",
     "text": [
      " 35%|███▍      | 348/1000 [07:25<14:10,  1.31s/it, Energy=-0.0000012+0.0000000j ± 0.0000080 [σ²=0.0000001]]"
     ]
    },
    {
     "name": "stdout",
     "output_type": "stream",
     "text": [
      "--->> cal O and jac  0.034130096435546875\n",
      "compute_update  0.036299943923950195\n",
      "(0.006175957570151051+0j)\n",
      "n_discard =  144\n",
      "discard samples 0.7693314552307129\n",
      "n_samples_node =  1000\n",
      "generate_samples :  0.509577751159668\n",
      "     prepare getting local values 0.002703428268432617\n",
      "     obtained local values 0.00809335708618164\n",
      "get_mc_stats 0.010688066482543945\n"
     ]
    },
    {
     "name": "stderr",
     "output_type": "stream",
     "text": [
      " 35%|███▍      | 349/1000 [07:27<14:14,  1.31s/it, Energy=0.0000152+0.0000000j ± 0.0000058 [σ²=0.0000001]] "
     ]
    },
    {
     "name": "stdout",
     "output_type": "stream",
     "text": [
      "--->> cal O and jac  0.03452277183532715\n",
      "compute_update  0.037778615951538086\n",
      "(0.006183720673623135+0j)\n",
      "n_discard =  144\n",
      "discard samples 0.9014146327972412\n",
      "n_samples_node =  1000\n",
      "generate_samples :  0.45450377464294434\n",
      "     prepare getting local values 0.002328634262084961\n",
      "     obtained local values 0.00869894027709961\n",
      "get_mc_stats 0.011562347412109375\n"
     ]
    },
    {
     "name": "stderr",
     "output_type": "stream",
     "text": [
      " 35%|███▌      | 350/1000 [07:28<14:32,  1.34s/it, Energy=-0.0000026+0.0000000j ± 0.0000076 [σ²=0.0000001]]"
     ]
    },
    {
     "name": "stdout",
     "output_type": "stream",
     "text": [
      "--->> cal O and jac  0.04088544845581055\n",
      "compute_update  0.04455280303955078\n",
      "(0.006189338142794369+0j)\n",
      "n_discard =  144\n",
      "discard samples 0.7932219505310059\n",
      "n_samples_node =  1000\n",
      "generate_samples :  0.4575951099395752\n",
      "     prepare getting local values 0.002127408981323242\n",
      "     obtained local values 0.00824594497680664\n",
      "get_mc_stats 0.010973215103149414\n"
     ]
    },
    {
     "name": "stderr",
     "output_type": "stream",
     "text": [
      " 35%|███▌      | 351/1000 [07:29<14:23,  1.33s/it, Energy=-0.0000033+0.0000000j ± 0.0000069 [σ²=0.0000001]]"
     ]
    },
    {
     "name": "stdout",
     "output_type": "stream",
     "text": [
      "--->> cal O and jac  0.03720808029174805\n",
      "compute_update  0.039520263671875\n",
      "(0.006193787509291152+0j)\n",
      "n_discard =  144\n",
      "discard samples 0.7598495483398438\n",
      "n_samples_node =  1000\n",
      "generate_samples :  0.456498384475708\n",
      "     prepare getting local values 0.0027208328247070312\n",
      "     obtained local values 0.008197307586669922\n",
      "get_mc_stats 0.010820865631103516\n"
     ]
    },
    {
     "name": "stderr",
     "output_type": "stream",
     "text": [
      " 35%|███▌      | 352/1000 [07:30<14:10,  1.31s/it, Energy=-0.0000071+0.0000000j ± 0.0000064 [σ²=0.0000000]]"
     ]
    },
    {
     "name": "stdout",
     "output_type": "stream",
     "text": [
      "--->> cal O and jac  0.03853321075439453\n",
      "compute_update  0.04056501388549805\n",
      "(0.006197784267226115+0j)\n",
      "n_discard =  144\n",
      "discard samples 0.7731006145477295\n",
      "n_samples_node =  1000\n",
      "generate_samples :  0.46287965774536133\n",
      "     prepare getting local values 0.0014481544494628906\n",
      "     obtained local values 0.0051479339599609375\n",
      "get_mc_stats 0.00712895393371582\n"
     ]
    },
    {
     "name": "stderr",
     "output_type": "stream",
     "text": [
      " 35%|███▌      | 353/1000 [07:32<14:04,  1.31s/it, Energy=0.0000066+0.0000000j ± 0.0000074 [σ²=0.0000001]] "
     ]
    },
    {
     "name": "stdout",
     "output_type": "stream",
     "text": [
      "--->> cal O and jac  0.04145193099975586\n",
      "compute_update  0.04374051094055176\n",
      "(0.006201427101233006+0j)\n",
      "n_discard =  144\n",
      "discard samples 0.996906042098999\n",
      "n_samples_node =  1000\n",
      "generate_samples :  0.44802379608154297\n",
      "     prepare getting local values 0.002321958541870117\n",
      "     obtained local values 0.008316516876220703\n",
      "get_mc_stats 0.010643959045410156\n"
     ]
    },
    {
     "name": "stderr",
     "output_type": "stream",
     "text": [
      " 35%|███▌      | 354/1000 [07:33<14:41,  1.36s/it, Energy=-0.0000047+0.0000000j ± 0.0000066 [σ²=0.0000000]]"
     ]
    },
    {
     "name": "stdout",
     "output_type": "stream",
     "text": [
      "--->> cal O and jac  0.04047822952270508\n",
      "compute_update  0.04419255256652832\n",
      "(0.006206738630458511+0j)\n",
      "n_discard =  144\n",
      "discard samples 0.7797200679779053\n",
      "n_samples_node =  1000\n",
      "generate_samples :  0.45980024337768555\n",
      "     prepare getting local values 0.001413106918334961\n",
      "     obtained local values 0.0058825016021728516\n",
      "get_mc_stats 0.008116722106933594\n"
     ]
    },
    {
     "name": "stderr",
     "output_type": "stream",
     "text": [
      " 36%|███▌      | 355/1000 [07:35<14:26,  1.34s/it, Energy=0.0000068+0.0000000j ± 0.0000068 [σ²=0.0000001]] "
     ]
    },
    {
     "name": "stdout",
     "output_type": "stream",
     "text": [
      "--->> cal O and jac  0.04088449478149414\n",
      "compute_update  0.04303860664367676\n",
      "(0.00621178619650175+0j)\n",
      "n_discard =  144\n",
      "discard samples 0.7572543621063232\n",
      "n_samples_node =  1000\n",
      "generate_samples :  0.4536170959472656\n",
      "     prepare getting local values 0.0025453567504882812\n",
      "     obtained local values 0.005869626998901367\n",
      "get_mc_stats 0.009762287139892578\n"
     ]
    },
    {
     "name": "stderr",
     "output_type": "stream",
     "text": [
      " 36%|███▌      | 356/1000 [07:36<14:10,  1.32s/it, Energy=-0.0000130+0.0000000j ± 0.0000069 [σ²=0.0000000]]"
     ]
    },
    {
     "name": "stdout",
     "output_type": "stream",
     "text": [
      "--->> cal O and jac  0.040923357009887695\n",
      "compute_update  0.04365825653076172\n",
      "(0.00621604268924869+0j)\n",
      "n_discard =  144\n",
      "discard samples 0.7650880813598633\n",
      "n_samples_node =  1000\n",
      "generate_samples :  0.5726449489593506\n",
      "     prepare getting local values 0.00299835205078125\n",
      "     obtained local values 0.008090496063232422\n",
      "get_mc_stats 0.011152982711791992\n"
     ]
    },
    {
     "name": "stderr",
     "output_type": "stream",
     "text": [
      " 36%|███▌      | 357/1000 [07:37<14:23,  1.34s/it, Energy=-0.0000001+0.0000000j ± 0.0000071 [σ²=0.0000000]]"
     ]
    },
    {
     "name": "stdout",
     "output_type": "stream",
     "text": [
      "--->> cal O and jac  0.040540456771850586\n",
      "compute_update  0.043798208236694336\n",
      "(0.006220546096440047+0j)\n",
      "n_discard =  144\n",
      "discard samples 1.064457893371582\n",
      "n_samples_node =  1000\n",
      "generate_samples :  0.6283257007598877\n",
      "     prepare getting local values 0.002604246139526367\n",
      "     obtained local values 0.00861811637878418\n",
      "get_mc_stats 0.011405229568481445\n"
     ]
    },
    {
     "name": "stderr",
     "output_type": "stream",
     "text": [
      " 36%|███▌      | 358/1000 [07:39<15:40,  1.46s/it, Energy=0.0000052+0.0000000j ± 0.0000063 [σ²=0.0000000]] "
     ]
    },
    {
     "name": "stdout",
     "output_type": "stream",
     "text": [
      "--->> cal O and jac  0.03808784484863281\n",
      "compute_update  0.04195213317871094\n",
      "(0.00622585172573083+0j)\n",
      "n_discard =  144\n",
      "discard samples 0.7734525203704834\n",
      "n_samples_node =  1000\n",
      "generate_samples :  0.4519474506378174\n",
      "     prepare getting local values 0.0013844966888427734\n",
      "     obtained local values 0.005041360855102539\n",
      "get_mc_stats 0.006894111633300781\n"
     ]
    },
    {
     "name": "stderr",
     "output_type": "stream",
     "text": [
      " 36%|███▌      | 359/1000 [07:40<15:03,  1.41s/it, Energy=-0.0000054+0.0000000j ± 0.0000062 [σ²=0.0000000]]"
     ]
    },
    {
     "name": "stdout",
     "output_type": "stream",
     "text": [
      "--->> cal O and jac  0.04720807075500488\n",
      "compute_update  0.04943680763244629\n",
      "(0.006230846151524421+0j)\n",
      "n_discard =  144\n",
      "discard samples 0.7669064998626709\n",
      "n_samples_node =  1000\n",
      "generate_samples :  0.45865678787231445\n",
      "     prepare getting local values 0.0019712448120117188\n",
      "     obtained local values 0.005645751953125\n",
      "get_mc_stats 0.007813453674316406\n"
     ]
    },
    {
     "name": "stderr",
     "output_type": "stream",
     "text": [
      " 36%|███▌      | 360/1000 [07:42<14:37,  1.37s/it, Energy=-0.0000044+0.0000000j ± 0.0000071 [σ²=0.0000000]]"
     ]
    },
    {
     "name": "stdout",
     "output_type": "stream",
     "text": [
      "--->> cal O and jac  0.04314875602722168\n",
      "compute_update  0.04580092430114746\n",
      "(0.006234386651750106+0j)\n",
      "n_discard =  144\n",
      "discard samples 0.8052637577056885\n",
      "n_samples_node =  1000\n",
      "generate_samples :  0.6141843795776367\n",
      "     prepare getting local values 0.0029485225677490234\n",
      "     obtained local values 0.00854802131652832\n",
      "get_mc_stats 0.011825084686279297\n"
     ]
    },
    {
     "name": "stderr",
     "output_type": "stream",
     "text": [
      " 36%|███▌      | 361/1000 [07:43<14:57,  1.40s/it, Energy=-0.0000038+0.0000000j ± 0.0000056 [σ²=0.0000000]]"
     ]
    },
    {
     "name": "stdout",
     "output_type": "stream",
     "text": [
      "--->> cal O and jac  0.042092323303222656\n",
      "compute_update  0.04588508605957031\n",
      "(0.0062388825264148+0j)\n",
      "n_discard =  144\n",
      "discard samples 0.8425872325897217\n",
      "n_samples_node =  1000\n",
      "generate_samples :  0.46839141845703125\n",
      "     prepare getting local values 0.0014104843139648438\n",
      "     obtained local values 0.004953145980834961\n",
      "get_mc_stats 0.006669759750366211\n"
     ]
    },
    {
     "name": "stderr",
     "output_type": "stream",
     "text": [
      " 36%|███▌      | 362/1000 [07:44<14:49,  1.39s/it, Energy=0.0000131+0.0000000j ± 0.0000077 [σ²=0.0000000]] "
     ]
    },
    {
     "name": "stdout",
     "output_type": "stream",
     "text": [
      "--->> cal O and jac  0.04615211486816406\n",
      "compute_update  0.05035209655761719\n",
      "(0.006243494318303907+0j)\n",
      "n_discard =  144\n",
      "discard samples 0.8432843685150146\n",
      "n_samples_node =  1000\n",
      "generate_samples :  0.6046104431152344\n",
      "     prepare getting local values 0.002629518508911133\n",
      "     obtained local values 0.0073719024658203125\n",
      "get_mc_stats 0.010350465774536133\n"
     ]
    },
    {
     "name": "stderr",
     "output_type": "stream",
     "text": [
      " 36%|███▋      | 363/1000 [07:46<15:09,  1.43s/it, Energy=0.0000003+0.0000000j ± 0.0000063 [σ²=0.0000000]]"
     ]
    },
    {
     "name": "stdout",
     "output_type": "stream",
     "text": [
      "--->> cal O and jac  0.043160438537597656\n",
      "compute_update  0.045421600341796875\n",
      "(0.0062473283758098675+0j)\n",
      "n_discard =  144\n",
      "discard samples 0.9213430881500244\n",
      "n_samples_node =  1000\n",
      "generate_samples :  0.626521110534668\n",
      "     prepare getting local values 0.0013909339904785156\n",
      "     obtained local values 0.004878520965576172\n",
      "get_mc_stats 0.006437063217163086\n"
     ]
    },
    {
     "name": "stderr",
     "output_type": "stream",
     "text": [
      " 36%|███▋      | 364/1000 [07:48<15:39,  1.48s/it, Energy=-0.0000069+0.0000000j ± 0.0000066 [σ²=0.0000000]]"
     ]
    },
    {
     "name": "stdout",
     "output_type": "stream",
     "text": [
      "--->> cal O and jac  0.036322593688964844\n",
      "compute_update  0.03819608688354492\n",
      "(0.006252427827360377+0j)\n",
      "n_discard =  144\n",
      "discard samples 0.9336309432983398\n",
      "n_samples_node =  1000\n",
      "generate_samples :  0.6456823348999023\n",
      "     prepare getting local values 0.002660989761352539\n",
      "     obtained local values 0.007517576217651367\n",
      "get_mc_stats 0.010344505310058594\n"
     ]
    },
    {
     "name": "stderr",
     "output_type": "stream",
     "text": [
      " 36%|███▋      | 365/1000 [07:49<16:07,  1.52s/it, Energy=0.0000039+0.0000000j ± 0.0000063 [σ²=0.0000000]] "
     ]
    },
    {
     "name": "stdout",
     "output_type": "stream",
     "text": [
      "--->> cal O and jac  0.038950443267822266\n",
      "compute_update  0.041992902755737305\n",
      "(0.006257096721480832+0j)\n",
      "n_discard =  144\n",
      "discard samples 0.7676141262054443\n",
      "n_samples_node =  1000\n",
      "generate_samples :  0.49099040031433105\n",
      "     prepare getting local values 0.002287626266479492\n",
      "     obtained local values 0.008436203002929688\n",
      "get_mc_stats 0.010918140411376953\n"
     ]
    },
    {
     "name": "stderr",
     "output_type": "stream",
     "text": [
      " 37%|███▋      | 366/1000 [07:50<15:27,  1.46s/it, Energy=-0.0000068+0.0000000j ± 0.0000059 [σ²=0.0000000]]"
     ]
    },
    {
     "name": "stdout",
     "output_type": "stream",
     "text": [
      "--->> cal O and jac  0.04406595230102539\n",
      "compute_update  0.04784679412841797\n",
      "(0.006260843934107952+0j)\n",
      "n_discard =  144\n",
      "discard samples 1.0560474395751953\n",
      "n_samples_node =  1000\n",
      "generate_samples :  0.5116569995880127\n",
      "     prepare getting local values 0.001399993896484375\n",
      "     obtained local values 0.004784584045410156\n",
      "get_mc_stats 0.006769657135009766\n"
     ]
    },
    {
     "name": "stderr",
     "output_type": "stream",
     "text": [
      " 37%|███▋      | 367/1000 [07:52<15:57,  1.51s/it, Energy=-0.0000020+0.0000000j ± 0.0000062 [σ²=0.0000000]]"
     ]
    },
    {
     "name": "stdout",
     "output_type": "stream",
     "text": [
      "--->> cal O and jac  0.04886937141418457\n",
      "compute_update  0.05243325233459473\n",
      "(0.006265532504169824+0j)\n",
      "n_discard =  144\n",
      "discard samples 0.9502992630004883\n",
      "n_samples_node =  1000\n",
      "generate_samples :  0.5301940441131592\n",
      "     prepare getting local values 0.0014584064483642578\n",
      "     obtained local values 0.005017280578613281\n",
      "get_mc_stats 0.007294654846191406\n"
     ]
    },
    {
     "name": "stderr",
     "output_type": "stream",
     "text": [
      " 37%|███▋      | 368/1000 [07:54<16:01,  1.52s/it, Energy=-0.0000087+0.0000000j ± 0.0000060 [σ²=0.0000000]]"
     ]
    },
    {
     "name": "stdout",
     "output_type": "stream",
     "text": [
      "--->> cal O and jac  0.04470944404602051\n",
      "compute_update  0.048735618591308594\n",
      "(0.006268059746451519+0j)\n",
      "n_discard =  144\n",
      "discard samples 0.8437118530273438\n",
      "n_samples_node =  1000\n",
      "generate_samples :  0.45772290229797363\n",
      "     prepare getting local values 0.0013666152954101562\n",
      "     obtained local values 0.004587411880493164\n",
      "get_mc_stats 0.006295204162597656\n"
     ]
    },
    {
     "name": "stderr",
     "output_type": "stream",
     "text": [
      " 37%|███▋      | 369/1000 [07:55<15:27,  1.47s/it, Energy=0.0000062+0.0000000j ± 0.0000053 [σ²=0.0000000]] "
     ]
    },
    {
     "name": "stdout",
     "output_type": "stream",
     "text": [
      "--->> cal O and jac  0.03779172897338867\n",
      "compute_update  0.040136098861694336\n",
      "(0.006272235728324697+0j)\n",
      "n_discard =  144\n",
      "discard samples 0.7613492012023926\n",
      "n_samples_node =  1000\n",
      "generate_samples :  0.4494597911834717\n",
      "     prepare getting local values 0.0017554759979248047\n",
      "     obtained local values 0.007962703704833984\n",
      "get_mc_stats 0.009496450424194336\n"
     ]
    },
    {
     "name": "stderr",
     "output_type": "stream",
     "text": [
      " 37%|███▋      | 370/1000 [07:56<14:46,  1.41s/it, Energy=-0.0000024+0.0000000j ± 0.0000061 [σ²=0.0000000]]"
     ]
    },
    {
     "name": "stdout",
     "output_type": "stream",
     "text": [
      "--->> cal O and jac  0.03877067565917969\n",
      "compute_update  0.04081869125366211\n",
      "(0.006275826016216901+0j)\n",
      "n_discard =  144\n",
      "discard samples 0.7691736221313477\n",
      "n_samples_node =  1000\n",
      "generate_samples :  0.5114858150482178\n",
      "     prepare getting local values 0.002870798110961914\n",
      "     obtained local values 0.008241891860961914\n",
      "get_mc_stats 0.010823726654052734\n"
     ]
    },
    {
     "name": "stderr",
     "output_type": "stream",
     "text": [
      " 37%|███▋      | 371/1000 [07:58<14:31,  1.39s/it, Energy=-0.0000049+0.0000000j ± 0.0000066 [σ²=0.0000000]]"
     ]
    },
    {
     "name": "stdout",
     "output_type": "stream",
     "text": [
      "--->> cal O and jac  0.038207054138183594\n",
      "compute_update  0.040340423583984375\n",
      "(0.006278648180124358+0j)\n",
      "n_discard =  144\n",
      "discard samples 0.7663509845733643\n",
      "n_samples_node =  1000\n",
      "generate_samples :  0.45182299613952637\n",
      "     prepare getting local values 0.0013692378997802734\n",
      "     obtained local values 0.004773616790771484\n",
      "get_mc_stats 0.006608724594116211\n"
     ]
    },
    {
     "name": "stderr",
     "output_type": "stream",
     "text": [
      " 37%|███▋      | 372/1000 [07:59<14:08,  1.35s/it, Energy=-0.0000077+0.0000000j ± 0.0000068 [σ²=0.0000000]]"
     ]
    },
    {
     "name": "stdout",
     "output_type": "stream",
     "text": [
      "--->> cal O and jac  0.04088854789733887\n",
      "compute_update  0.04450225830078125\n",
      "(0.006282634212795395+0j)\n",
      "n_discard =  144\n",
      "discard samples 1.012977123260498\n",
      "n_samples_node =  1000\n",
      "generate_samples :  0.454240083694458\n",
      "     prepare getting local values 0.0013973712921142578\n",
      "     obtained local values 0.004847049713134766\n",
      "get_mc_stats 0.0066623687744140625\n"
     ]
    },
    {
     "name": "stderr",
     "output_type": "stream",
     "text": [
      " 37%|███▋      | 373/1000 [08:00<14:38,  1.40s/it, Energy=-0.0000130+0.0000000j ± 0.0000059 [σ²=0.0000000]]"
     ]
    },
    {
     "name": "stdout",
     "output_type": "stream",
     "text": [
      "--->> cal O and jac  0.03826498985290527\n",
      "compute_update  0.04186606407165527\n",
      "(0.006287882809453865+0j)\n",
      "n_discard =  144\n",
      "discard samples 0.7724955081939697\n",
      "n_samples_node =  1000\n",
      "generate_samples :  0.4642331600189209\n",
      "     prepare getting local values 0.0014140605926513672\n",
      "     obtained local values 0.005135774612426758\n",
      "get_mc_stats 0.0072290897369384766\n"
     ]
    },
    {
     "name": "stderr",
     "output_type": "stream",
     "text": [
      " 37%|███▋      | 374/1000 [08:02<14:16,  1.37s/it, Energy=0.0000051+0.0000000j ± 0.0000056 [σ²=0.0000000]] "
     ]
    },
    {
     "name": "stdout",
     "output_type": "stream",
     "text": [
      "--->> cal O and jac  0.04085421562194824\n",
      "compute_update  0.044510602951049805\n",
      "(0.006292400309635359+0j)\n",
      "n_discard =  144\n",
      "discard samples 0.7685184478759766\n",
      "n_samples_node =  1000\n",
      "generate_samples :  0.4556093215942383\n",
      "     prepare getting local values 0.0013582706451416016\n",
      "     obtained local values 0.0048105716705322266\n",
      "get_mc_stats 0.006804227828979492\n"
     ]
    },
    {
     "name": "stderr",
     "output_type": "stream",
     "text": [
      " 38%|███▊      | 375/1000 [08:03<13:57,  1.34s/it, Energy=-0.0000012+0.0000000j ± 0.0000054 [σ²=0.0000000]]"
     ]
    },
    {
     "name": "stdout",
     "output_type": "stream",
     "text": [
      "--->> cal O and jac  0.04109835624694824\n",
      "compute_update  0.04336690902709961\n",
      "(0.006296698697116359+0j)\n",
      "n_discard =  144\n",
      "discard samples 0.7563199996948242\n",
      "n_samples_node =  1000\n",
      "generate_samples :  0.4578089714050293\n",
      "     prepare getting local values 0.0013844966888427734\n",
      "     obtained local values 0.004739522933959961\n",
      "get_mc_stats 0.006646156311035156\n"
     ]
    },
    {
     "name": "stderr",
     "output_type": "stream",
     "text": [
      " 38%|███▊      | 376/1000 [08:04<13:42,  1.32s/it, Energy=0.0000097+0.0000000j ± 0.0000062 [σ²=0.0000000]] "
     ]
    },
    {
     "name": "stdout",
     "output_type": "stream",
     "text": [
      "--->> cal O and jac  0.04242873191833496\n",
      "compute_update  0.04434561729431152\n",
      "(0.006301715300944541+0j)\n",
      "n_discard =  144\n",
      "discard samples 1.0407671928405762\n",
      "n_samples_node =  1000\n",
      "generate_samples :  0.4552316665649414\n",
      "     prepare getting local values 0.0013587474822998047\n",
      "     obtained local values 0.0048580169677734375\n",
      "get_mc_stats 0.006730318069458008\n"
     ]
    },
    {
     "name": "stderr",
     "output_type": "stream",
     "text": [
      " 38%|███▊      | 377/1000 [08:06<14:23,  1.39s/it, Energy=-0.0000068+0.0000000j ± 0.0000046 [σ²=0.0000000]]"
     ]
    },
    {
     "name": "stdout",
     "output_type": "stream",
     "text": [
      "--->> cal O and jac  0.03650331497192383\n",
      "compute_update  0.04003787040710449\n",
      "(0.0063062004658386754+0j)\n",
      "n_discard =  144\n",
      "discard samples 0.819843053817749\n",
      "n_samples_node =  1000\n",
      "generate_samples :  0.4533851146697998\n",
      "     prepare getting local values 0.0013461112976074219\n",
      "     obtained local values 0.004998683929443359\n",
      "get_mc_stats 0.006548166275024414\n"
     ]
    },
    {
     "name": "stderr",
     "output_type": "stream",
     "text": [
      " 38%|███▊      | 378/1000 [08:07<14:10,  1.37s/it, Energy=-0.0000005+0.0000000j ± 0.0000057 [σ²=0.0000000]]"
     ]
    },
    {
     "name": "stdout",
     "output_type": "stream",
     "text": [
      "--->> cal O and jac  0.03931736946105957\n",
      "compute_update  0.041571855545043945\n",
      "(0.006311235861860795+0j)\n",
      "n_discard =  144\n",
      "discard samples 0.7522487640380859\n",
      "n_samples_node =  1000\n",
      "generate_samples :  0.5440423488616943\n",
      "     prepare getting local values 0.0027027130126953125\n",
      "     obtained local values 0.00995635986328125\n",
      "get_mc_stats 0.012459754943847656\n"
     ]
    },
    {
     "name": "stderr",
     "output_type": "stream",
     "text": [
      " 38%|███▊      | 379/1000 [08:08<14:06,  1.36s/it, Energy=-0.0000002+0.0000000j ± 0.0000064 [σ²=0.0000000]]"
     ]
    },
    {
     "name": "stdout",
     "output_type": "stream",
     "text": [
      "--->> cal O and jac  0.040602922439575195\n",
      "compute_update  0.042902469635009766\n",
      "(0.006315700204715374+0j)\n",
      "n_discard =  144\n",
      "discard samples 0.7586081027984619\n",
      "n_samples_node =  1000\n",
      "generate_samples :  0.45443105697631836\n",
      "     prepare getting local values 0.0013208389282226562\n",
      "     obtained local values 0.004699230194091797\n",
      "get_mc_stats 0.006697893142700195\n"
     ]
    },
    {
     "name": "stderr",
     "output_type": "stream",
     "text": [
      " 38%|███▊      | 380/1000 [08:10<13:47,  1.33s/it, Energy=0.0000023+0.0000000j ± 0.0000052 [σ²=0.0000000]] "
     ]
    },
    {
     "name": "stdout",
     "output_type": "stream",
     "text": [
      "--->> cal O and jac  0.04172468185424805\n",
      "compute_update  0.043678998947143555\n",
      "(0.0063196164715254065+0j)\n",
      "n_discard =  144\n",
      "discard samples 0.7757594585418701\n",
      "n_samples_node =  1000\n",
      "generate_samples :  0.45418739318847656\n",
      "     prepare getting local values 0.002560853958129883\n",
      "     obtained local values 0.009486675262451172\n",
      "get_mc_stats 0.012059211730957031\n"
     ]
    },
    {
     "name": "stderr",
     "output_type": "stream",
     "text": [
      " 38%|███▊      | 381/1000 [08:11<13:36,  1.32s/it, Energy=0.0000024+0.0000000j ± 0.0000051 [σ²=0.0000000]]"
     ]
    },
    {
     "name": "stdout",
     "output_type": "stream",
     "text": [
      "--->> cal O and jac  0.03793215751647949\n",
      "compute_update  0.04016447067260742\n",
      "(0.006323944062930425+0j)\n",
      "n_discard =  144\n",
      "discard samples 1.0102126598358154\n",
      "n_samples_node =  1000\n",
      "generate_samples :  0.4576866626739502\n",
      "     prepare getting local values 0.0013840198516845703\n",
      "     obtained local values 0.0047817230224609375\n",
      "get_mc_stats 0.006536722183227539\n"
     ]
    },
    {
     "name": "stderr",
     "output_type": "stream",
     "text": [
      " 38%|███▊      | 382/1000 [08:12<14:12,  1.38s/it, Energy=0.0000027+0.0000000j ± 0.0000068 [σ²=0.0000000]]"
     ]
    },
    {
     "name": "stdout",
     "output_type": "stream",
     "text": [
      "--->> cal O and jac  0.040833473205566406\n",
      "compute_update  0.0440981388092041\n",
      "(0.006327013016529649+0j)\n",
      "n_discard =  144\n",
      "discard samples 0.8305518627166748\n",
      "n_samples_node =  1000\n",
      "generate_samples :  0.46242570877075195\n",
      "     prepare getting local values 0.002547025680541992\n",
      "     obtained local values 0.008701324462890625\n",
      "get_mc_stats 0.01182246208190918\n"
     ]
    },
    {
     "name": "stderr",
     "output_type": "stream",
     "text": [
      " 38%|███▊      | 383/1000 [08:14<14:06,  1.37s/it, Energy=-0.0000112+0.0000000j ± 0.0000051 [σ²=0.0000000]]"
     ]
    },
    {
     "name": "stdout",
     "output_type": "stream",
     "text": [
      "--->> cal O and jac  0.04166555404663086\n",
      "compute_update  0.04489254951477051\n",
      "(0.00633131432291967+0j)\n",
      "n_discard =  144\n",
      "discard samples 0.7789087295532227\n",
      "n_samples_node =  1000\n",
      "generate_samples :  0.4794738292694092\n",
      "     prepare getting local values 0.0013589859008789062\n",
      "     obtained local values 0.004717350006103516\n",
      "get_mc_stats 0.006664276123046875\n"
     ]
    },
    {
     "name": "stderr",
     "output_type": "stream",
     "text": [
      " 38%|███▊      | 384/1000 [08:15<13:52,  1.35s/it, Energy=-0.0000041+0.0000000j ± 0.0000048 [σ²=0.0000000]]"
     ]
    },
    {
     "name": "stdout",
     "output_type": "stream",
     "text": [
      "--->> cal O and jac  0.03740811347961426\n",
      "compute_update  0.039788007736206055\n",
      "(0.006335495207283873+0j)\n",
      "n_discard =  144\n",
      "discard samples 0.7753808498382568\n",
      "n_samples_node =  1000\n",
      "generate_samples :  0.6094017028808594\n",
      "     prepare getting local values 0.002696514129638672\n",
      "     obtained local values 0.010058879852294922\n",
      "get_mc_stats 0.013195514678955078\n"
     ]
    },
    {
     "name": "stderr",
     "output_type": "stream",
     "text": [
      " 38%|███▊      | 385/1000 [08:17<14:07,  1.38s/it, Energy=0.0000045+0.0000000j ± 0.0000055 [σ²=0.0000000]] "
     ]
    },
    {
     "name": "stdout",
     "output_type": "stream",
     "text": [
      "--->> cal O and jac  0.038561344146728516\n",
      "compute_update  0.04070925712585449\n",
      "(0.00634024090033682+0j)\n",
      "n_discard =  144\n",
      "discard samples 1.0598363876342773\n",
      "n_samples_node =  1000\n",
      "generate_samples :  0.45719408988952637\n",
      "     prepare getting local values 0.0013115406036376953\n",
      "     obtained local values 0.004976987838745117\n",
      "get_mc_stats 0.006418466567993164\n"
     ]
    },
    {
     "name": "stderr",
     "output_type": "stream",
     "text": [
      " 39%|███▊      | 386/1000 [08:18<14:41,  1.44s/it, Energy=0.0000034+0.0000000j ± 0.0000047 [σ²=0.0000000]]"
     ]
    },
    {
     "name": "stdout",
     "output_type": "stream",
     "text": [
      "--->> cal O and jac  0.039649009704589844\n",
      "compute_update  0.04285597801208496\n",
      "(0.006344087903480395+0j)\n",
      "n_discard =  144\n",
      "discard samples 0.7570254802703857\n",
      "n_samples_node =  1000\n",
      "generate_samples :  0.6053214073181152\n",
      "     prepare getting local values 0.002173900604248047\n",
      "     obtained local values 0.00843954086303711\n",
      "get_mc_stats 0.011314630508422852\n"
     ]
    },
    {
     "name": "stderr",
     "output_type": "stream",
     "text": [
      " 39%|███▊      | 387/1000 [08:20<14:36,  1.43s/it, Energy=0.0000040+0.0000000j ± 0.0000053 [σ²=0.0000000]]"
     ]
    },
    {
     "name": "stdout",
     "output_type": "stream",
     "text": [
      "--->> cal O and jac  0.04132986068725586\n",
      "compute_update  0.043622493743896484\n",
      "(0.006348846401448995+0j)\n",
      "n_discard =  144\n",
      "discard samples 0.7633130550384521\n",
      "n_samples_node =  1000\n",
      "generate_samples :  0.47391796112060547\n",
      "     prepare getting local values 0.0027604103088378906\n",
      "     obtained local values 0.006082773208618164\n",
      "get_mc_stats 0.008649587631225586\n"
     ]
    },
    {
     "name": "stderr",
     "output_type": "stream",
     "text": [
      " 39%|███▉      | 388/1000 [08:21<14:09,  1.39s/it, Energy=-0.0000048+0.0000000j ± 0.0000055 [σ²=0.0000000]]"
     ]
    },
    {
     "name": "stdout",
     "output_type": "stream",
     "text": [
      "--->> cal O and jac  0.041271209716796875\n",
      "compute_update  0.04367470741271973\n",
      "(0.006352454414091159+0j)\n",
      "n_discard =  144\n",
      "discard samples 1.02937650680542\n",
      "n_samples_node =  1000\n",
      "generate_samples :  0.5786862373352051\n",
      "     prepare getting local values 0.0030488967895507812\n",
      "     obtained local values 0.007125377655029297\n",
      "get_mc_stats 0.010282039642333984\n"
     ]
    },
    {
     "name": "stderr",
     "output_type": "stream",
     "text": [
      " 39%|███▉      | 389/1000 [08:23<14:59,  1.47s/it, Energy=0.0000006+0.0000000j ± 0.0000055 [σ²=0.0000000]] "
     ]
    },
    {
     "name": "stdout",
     "output_type": "stream",
     "text": [
      "--->> cal O and jac  0.04214215278625488\n",
      "compute_update  0.04446840286254883\n",
      "(0.006356047659462604+0j)\n",
      "n_discard =  144\n",
      "discard samples 0.7623958587646484\n",
      "n_samples_node =  1000\n",
      "generate_samples :  0.6230940818786621\n",
      "     prepare getting local values 0.002765655517578125\n",
      "     obtained local values 0.009639501571655273\n",
      "get_mc_stats 0.012666463851928711\n"
     ]
    },
    {
     "name": "stderr",
     "output_type": "stream",
     "text": [
      " 39%|███▉      | 390/1000 [08:24<14:52,  1.46s/it, Energy=-0.0000014+0.0000000j ± 0.0000048 [σ²=0.0000000]]"
     ]
    },
    {
     "name": "stdout",
     "output_type": "stream",
     "text": [
      "--->> cal O and jac  0.04034090042114258\n",
      "compute_update  0.042618513107299805\n",
      "(0.006360123473676659+0j)\n",
      "n_discard =  144\n",
      "discard samples 0.7682349681854248\n",
      "n_samples_node =  1000\n",
      "generate_samples :  0.4566230773925781\n",
      "     prepare getting local values 0.0014066696166992188\n",
      "     obtained local values 0.004826784133911133\n",
      "get_mc_stats 0.0067141056060791016\n"
     ]
    },
    {
     "name": "stderr",
     "output_type": "stream",
     "text": [
      " 39%|███▉      | 391/1000 [08:25<14:16,  1.41s/it, Energy=-0.0000046+0.0000000j ± 0.0000046 [σ²=0.0000000]]"
     ]
    },
    {
     "name": "stdout",
     "output_type": "stream",
     "text": [
      "--->> cal O and jac  0.03989982604980469\n",
      "compute_update  0.04248952865600586\n",
      "(0.0063638180088184506+0j)\n",
      "n_discard =  144\n",
      "discard samples 0.910529613494873\n",
      "n_samples_node =  1000\n",
      "generate_samples :  0.4653468132019043\n",
      "     prepare getting local values 0.0013232231140136719\n",
      "     obtained local values 0.0046672821044921875\n",
      "get_mc_stats 0.0066606998443603516\n"
     ]
    },
    {
     "name": "stderr",
     "output_type": "stream",
     "text": [
      " 39%|███▉      | 392/1000 [08:27<14:18,  1.41s/it, Energy=0.0000009+0.0000000j ± 0.0000047 [σ²=0.0000000]] "
     ]
    },
    {
     "name": "stdout",
     "output_type": "stream",
     "text": [
      "--->> cal O and jac  0.03684854507446289\n",
      "compute_update  0.03886222839355469\n",
      "(0.0063675451103694415+0j)\n",
      "n_discard =  144\n",
      "discard samples 0.8053925037384033\n",
      "n_samples_node =  1000\n",
      "generate_samples :  0.45116710662841797\n",
      "     prepare getting local values 0.0013751983642578125\n",
      "     obtained local values 0.004982709884643555\n",
      "get_mc_stats 0.006816864013671875\n"
     ]
    },
    {
     "name": "stderr",
     "output_type": "stream",
     "text": [
      " 39%|███▉      | 393/1000 [08:28<13:58,  1.38s/it, Energy=-0.0000045+0.0000000j ± 0.0000051 [σ²=0.0000000]]"
     ]
    },
    {
     "name": "stdout",
     "output_type": "stream",
     "text": [
      "--->> cal O and jac  0.04077458381652832\n",
      "compute_update  0.044274330139160156\n",
      "(0.006372549374655379+0j)\n",
      "n_discard =  144\n",
      "discard samples 0.7875587940216064\n",
      "n_samples_node =  1000\n",
      "generate_samples :  0.5087718963623047\n",
      "     prepare getting local values 0.002477407455444336\n",
      "     obtained local values 0.005875349044799805\n",
      "get_mc_stats 0.009888887405395508\n"
     ]
    },
    {
     "name": "stderr",
     "output_type": "stream",
     "text": [
      " 39%|███▉      | 394/1000 [08:29<13:50,  1.37s/it, Energy=0.0000021+0.0000000j ± 0.0000051 [σ²=0.0000000]] "
     ]
    },
    {
     "name": "stdout",
     "output_type": "stream",
     "text": [
      "--->> cal O and jac  0.03637886047363281\n",
      "compute_update  0.038630008697509766\n",
      "(0.006377296367184953+0j)\n",
      "n_discard =  144\n",
      "discard samples 0.9208579063415527\n",
      "n_samples_node =  1000\n",
      "generate_samples :  0.4778718948364258\n",
      "     prepare getting local values 0.0027205944061279297\n",
      "     obtained local values 0.007851123809814453\n",
      "get_mc_stats 0.010977745056152344\n"
     ]
    },
    {
     "name": "stderr",
     "output_type": "stream",
     "text": [
      " 40%|███▉      | 395/1000 [08:31<14:04,  1.40s/it, Energy=-0.0000092+0.0000000j ± 0.0000052 [σ²=0.0000000]]"
     ]
    },
    {
     "name": "stdout",
     "output_type": "stream",
     "text": [
      "--->> cal O and jac  0.039406538009643555\n",
      "compute_update  0.04154801368713379\n",
      "(0.006380715589724678+0j)\n",
      "n_discard =  144\n",
      "discard samples 0.7591311931610107\n",
      "n_samples_node =  1000\n",
      "generate_samples :  0.4507577419281006\n",
      "     prepare getting local values 0.001354217529296875\n",
      "     obtained local values 0.004977226257324219\n",
      "get_mc_stats 0.00739288330078125\n"
     ]
    },
    {
     "name": "stderr",
     "output_type": "stream",
     "text": [
      " 40%|███▉      | 396/1000 [08:32<13:38,  1.36s/it, Energy=-0.0000066+0.0000000j ± 0.0000046 [σ²=0.0000000]]"
     ]
    },
    {
     "name": "stdout",
     "output_type": "stream",
     "text": [
      "--->> cal O and jac  0.03999471664428711\n",
      "compute_update  0.04201936721801758\n",
      "(0.006383340905381873+0j)\n",
      "n_discard =  144\n",
      "discard samples 1.0259709358215332\n",
      "n_samples_node =  1000\n",
      "generate_samples :  0.4548816680908203\n",
      "     prepare getting local values 0.001415252685546875\n",
      "     obtained local values 0.005084514617919922\n",
      "get_mc_stats 0.006807804107666016\n"
     ]
    },
    {
     "name": "stderr",
     "output_type": "stream",
     "text": [
      " 40%|███▉      | 397/1000 [08:34<14:08,  1.41s/it, Energy=0.0000022+0.0000000j ± 0.0000039 [σ²=0.0000000]] "
     ]
    },
    {
     "name": "stdout",
     "output_type": "stream",
     "text": [
      "--->> cal O and jac  0.03855085372924805\n",
      "compute_update  0.04164838790893555\n",
      "(0.0063870938335468625+0j)\n",
      "n_discard =  144\n",
      "discard samples 0.9454243183135986\n",
      "n_samples_node =  1000\n",
      "generate_samples :  0.49373340606689453\n",
      "     prepare getting local values 0.001340627670288086\n",
      "     obtained local values 0.004810333251953125\n",
      "get_mc_stats 0.006413459777832031\n"
     ]
    },
    {
     "name": "stderr",
     "output_type": "stream",
     "text": [
      " 40%|███▉      | 398/1000 [08:35<14:23,  1.43s/it, Energy=-0.0000009+0.0000000j ± 0.0000052 [σ²=0.0000000]]"
     ]
    },
    {
     "name": "stdout",
     "output_type": "stream",
     "text": [
      "--->> cal O and jac  0.041933536529541016\n",
      "compute_update  0.045365333557128906\n",
      "(0.006389946480424189+0j)\n",
      "n_discard =  144\n",
      "discard samples 0.7730433940887451\n",
      "n_samples_node =  1000\n",
      "generate_samples :  0.5248959064483643\n",
      "     prepare getting local values 0.0023326873779296875\n",
      "     obtained local values 0.008551359176635742\n",
      "get_mc_stats 0.011162042617797852\n"
     ]
    },
    {
     "name": "stderr",
     "output_type": "stream",
     "text": [
      " 40%|███▉      | 399/1000 [08:36<14:06,  1.41s/it, Energy=0.0000018+0.0000000j ± 0.0000045 [σ²=0.0000000]] "
     ]
    },
    {
     "name": "stdout",
     "output_type": "stream",
     "text": [
      "--->> cal O and jac  0.0373992919921875\n",
      "compute_update  0.040486812591552734\n",
      "(0.006393211331652545+0j)\n",
      "n_discard =  144\n",
      "discard samples 0.8586227893829346\n",
      "n_samples_node =  1000\n",
      "generate_samples :  0.5236480236053467\n",
      "     prepare getting local values 0.0027878284454345703\n",
      "     obtained local values 0.006998538970947266\n",
      "get_mc_stats 0.009656429290771484\n"
     ]
    },
    {
     "name": "stderr",
     "output_type": "stream",
     "text": [
      " 40%|████      | 400/1000 [08:38<14:10,  1.42s/it, Energy=0.0000024+0.0000000j ± 0.0000044 [σ²=0.0000000]]"
     ]
    },
    {
     "name": "stdout",
     "output_type": "stream",
     "text": [
      "--->> cal O and jac  0.04138302803039551\n",
      "compute_update  0.04366588592529297\n",
      "(0.006396818222795081+0j)\n",
      "n_discard =  144\n",
      "discard samples 0.9197642803192139\n",
      "n_samples_node =  1000\n",
      "generate_samples :  0.5701520442962646\n",
      "     prepare getting local values 0.0023009777069091797\n",
      "     obtained local values 0.006132364273071289\n",
      "get_mc_stats 0.008731365203857422\n"
     ]
    },
    {
     "name": "stderr",
     "output_type": "stream",
     "text": [
      " 40%|████      | 401/1000 [08:39<14:31,  1.46s/it, Energy=-0.0000016+0.0000000j ± 0.0000045 [σ²=0.0000000]]"
     ]
    },
    {
     "name": "stdout",
     "output_type": "stream",
     "text": [
      "--->> cal O and jac  0.03907656669616699\n",
      "compute_update  0.04182100296020508\n",
      "(0.0064000858778655014+0j)\n",
      "n_discard =  144\n",
      "discard samples 0.7718689441680908\n",
      "n_samples_node =  1000\n",
      "generate_samples :  0.46607398986816406\n",
      "     prepare getting local values 0.0018582344055175781\n",
      "     obtained local values 0.008113861083984375\n",
      "get_mc_stats 0.010143280029296875\n"
     ]
    },
    {
     "name": "stderr",
     "output_type": "stream",
     "text": [
      " 40%|████      | 402/1000 [08:41<14:01,  1.41s/it, Energy=0.0000036+0.0000000j ± 0.0000048 [σ²=0.0000000]] "
     ]
    },
    {
     "name": "stdout",
     "output_type": "stream",
     "text": [
      "--->> cal O and jac  0.04070115089416504\n",
      "compute_update  0.04282546043395996\n",
      "(0.006404211575222875+0j)\n",
      "n_discard =  144\n",
      "discard samples 0.9794085025787354\n",
      "n_samples_node =  1000\n",
      "generate_samples :  0.46300697326660156\n",
      "     prepare getting local values 0.002417325973510742\n",
      "     obtained local values 0.008544683456420898\n",
      "get_mc_stats 0.011089086532592773\n"
     ]
    },
    {
     "name": "stderr",
     "output_type": "stream",
     "text": [
      " 40%|████      | 403/1000 [08:42<14:16,  1.43s/it, Energy=0.0000082+0.0000000j ± 0.0000045 [σ²=0.0000000]]"
     ]
    },
    {
     "name": "stdout",
     "output_type": "stream",
     "text": [
      "--->> cal O and jac  0.03954672813415527\n",
      "compute_update  0.043747901916503906\n",
      "(0.006408662177543083+0j)\n",
      "n_discard =  144\n",
      "discard samples 1.0297434329986572\n",
      "n_samples_node =  1000\n",
      "generate_samples :  0.6583902835845947\n",
      "     prepare getting local values 0.0023033618927001953\n",
      "     obtained local values 0.008531332015991211\n",
      "get_mc_stats 0.01136922836303711\n"
     ]
    },
    {
     "name": "stderr",
     "output_type": "stream",
     "text": [
      " 40%|████      | 404/1000 [08:44<15:10,  1.53s/it, Energy=-0.0000024+0.0000000j ± 0.0000041 [σ²=0.0000000]]"
     ]
    },
    {
     "name": "stdout",
     "output_type": "stream",
     "text": [
      "--->> cal O and jac  0.03923463821411133\n",
      "compute_update  0.042870521545410156\n",
      "(0.006412034666907751+0j)\n",
      "n_discard =  144\n",
      "discard samples 0.9278600215911865\n",
      "n_samples_node =  1000\n",
      "generate_samples :  0.5540850162506104\n",
      "     prepare getting local values 0.0025153160095214844\n",
      "     obtained local values 0.00759577751159668\n",
      "get_mc_stats 0.01004171371459961\n"
     ]
    },
    {
     "name": "stderr",
     "output_type": "stream",
     "text": [
      " 40%|████      | 405/1000 [08:45<15:10,  1.53s/it, Energy=0.0000006+0.0000000j ± 0.0000049 [σ²=0.0000000]] "
     ]
    },
    {
     "name": "stdout",
     "output_type": "stream",
     "text": [
      "--->> cal O and jac  0.03903532028198242\n",
      "compute_update  0.04208993911743164\n",
      "(0.006415912320210946+0j)\n",
      "n_discard =  144\n",
      "discard samples 0.994337797164917\n",
      "n_samples_node =  1000\n",
      "generate_samples :  0.5021214485168457\n",
      "     prepare getting local values 0.0014095306396484375\n",
      "     obtained local values 0.004676342010498047\n",
      "get_mc_stats 0.006392002105712891\n"
     ]
    },
    {
     "name": "stderr",
     "output_type": "stream",
     "text": [
      " 41%|████      | 406/1000 [08:47<15:11,  1.53s/it, Energy=0.0000049+0.0000000j ± 0.0000043 [σ²=0.0000000]]"
     ]
    },
    {
     "name": "stdout",
     "output_type": "stream",
     "text": [
      "--->> cal O and jac  0.035764217376708984\n",
      "compute_update  0.037799835205078125\n",
      "(0.006420409472496769+0j)\n",
      "n_discard =  144\n",
      "discard samples 0.7652173042297363\n",
      "n_samples_node =  1000\n",
      "generate_samples :  0.4615206718444824\n",
      "     prepare getting local values 0.0023374557495117188\n",
      "     obtained local values 0.008190393447875977\n",
      "get_mc_stats 0.010739564895629883\n"
     ]
    },
    {
     "name": "stderr",
     "output_type": "stream",
     "text": [
      " 41%|████      | 407/1000 [08:48<14:25,  1.46s/it, Energy=0.0000046+0.0000000j ± 0.0000042 [σ²=0.0000000]]"
     ]
    },
    {
     "name": "stdout",
     "output_type": "stream",
     "text": [
      "--->> cal O and jac  0.04416513442993164\n",
      "compute_update  0.04734492301940918\n",
      "(0.006424405530508852+0j)\n",
      "n_discard =  144\n",
      "discard samples 0.7602174282073975\n",
      "n_samples_node =  1000\n",
      "generate_samples :  0.4441080093383789\n",
      "     prepare getting local values 0.0013573169708251953\n",
      "     obtained local values 0.0058515071868896484\n",
      "get_mc_stats 0.007803678512573242\n"
     ]
    },
    {
     "name": "stderr",
     "output_type": "stream",
     "text": [
      " 41%|████      | 408/1000 [08:50<13:47,  1.40s/it, Energy=-0.0000004+0.0000000j ± 0.0000032 [σ²=0.0000000]]"
     ]
    },
    {
     "name": "stdout",
     "output_type": "stream",
     "text": [
      "--->> cal O and jac  0.037195682525634766\n",
      "compute_update  0.0394134521484375\n",
      "(0.006428031793231431+0j)\n",
      "n_discard =  144\n",
      "discard samples 0.7622659206390381\n",
      "n_samples_node =  1000\n",
      "generate_samples :  0.447784423828125\n",
      "     prepare getting local values 0.0014181137084960938\n",
      "     obtained local values 0.004969596862792969\n",
      "get_mc_stats 0.006812572479248047\n"
     ]
    },
    {
     "name": "stderr",
     "output_type": "stream",
     "text": [
      " 41%|████      | 409/1000 [08:51<13:21,  1.36s/it, Energy=0.0000109+0.0000000j ± 0.0000046 [σ²=0.0000000]] "
     ]
    },
    {
     "name": "stdout",
     "output_type": "stream",
     "text": [
      "--->> cal O and jac  0.04079174995422363\n",
      "compute_update  0.042922019958496094\n",
      "(0.006430722328638387+0j)\n",
      "n_discard =  144\n",
      "discard samples 0.7650885581970215\n",
      "n_samples_node =  1000\n",
      "generate_samples :  0.45945000648498535\n",
      "     prepare getting local values 0.0021026134490966797\n",
      "     obtained local values 0.008297920227050781\n",
      "get_mc_stats 0.010370731353759766\n"
     ]
    },
    {
     "name": "stderr",
     "output_type": "stream",
     "text": [
      " 41%|████      | 410/1000 [08:52<13:06,  1.33s/it, Energy=-0.0000006+0.0000000j ± 0.0000042 [σ²=0.0000000]]"
     ]
    },
    {
     "name": "stdout",
     "output_type": "stream",
     "text": [
      "--->> cal O and jac  0.040163516998291016\n",
      "compute_update  0.04221987724304199\n",
      "(0.006434010143048792+0j)\n",
      "n_discard =  144\n",
      "discard samples 0.7559802532196045\n",
      "n_samples_node =  1000\n",
      "generate_samples :  0.47441649436950684\n",
      "     prepare getting local values 0.0020666122436523438\n",
      "     obtained local values 0.0068187713623046875\n",
      "get_mc_stats 0.009002447128295898\n"
     ]
    },
    {
     "name": "stderr",
     "output_type": "stream",
     "text": [
      " 41%|████      | 411/1000 [08:53<12:57,  1.32s/it, Energy=0.0000012+0.0000000j ± 0.0000048 [σ²=0.0000000]] "
     ]
    },
    {
     "name": "stdout",
     "output_type": "stream",
     "text": [
      "--->> cal O and jac  0.04387307167053223\n",
      "compute_update  0.04729938507080078\n",
      "(0.006436985771511973+0j)\n",
      "n_discard =  144\n",
      "discard samples 1.0204157829284668\n",
      "n_samples_node =  1000\n",
      "generate_samples :  0.4584469795227051\n",
      "     prepare getting local values 0.001313924789428711\n",
      "     obtained local values 0.004738807678222656\n",
      "get_mc_stats 0.006211996078491211\n"
     ]
    },
    {
     "name": "stderr",
     "output_type": "stream",
     "text": [
      " 41%|████      | 412/1000 [08:55<13:33,  1.38s/it, Energy=0.0000045+0.0000000j ± 0.0000037 [σ²=0.0000000]]"
     ]
    },
    {
     "name": "stdout",
     "output_type": "stream",
     "text": [
      "--->> cal O and jac  0.03993582725524902\n",
      "compute_update  0.04376935958862305\n",
      "(0.006441139698607056+0j)\n",
      "n_discard =  144\n",
      "discard samples 0.7539787292480469\n",
      "n_samples_node =  1000\n",
      "generate_samples :  0.4523298740386963\n",
      "     prepare getting local values 0.002308368682861328\n",
      "     obtained local values 0.006070375442504883\n",
      "get_mc_stats 0.00841665267944336\n"
     ]
    },
    {
     "name": "stderr",
     "output_type": "stream",
     "text": [
      " 41%|████▏     | 413/1000 [08:56<13:10,  1.35s/it, Energy=-0.0000015+0.0000000j ± 0.0000044 [σ²=0.0000000]]"
     ]
    },
    {
     "name": "stdout",
     "output_type": "stream",
     "text": [
      "--->> cal O and jac  0.04008126258850098\n",
      "compute_update  0.042099714279174805\n",
      "(0.006444715303133242+0j)\n",
      "n_discard =  144\n",
      "discard samples 0.7674694061279297\n",
      "n_samples_node =  1000\n",
      "generate_samples :  0.4980907440185547\n",
      "     prepare getting local values 0.002712726593017578\n",
      "     obtained local values 0.009588241577148438\n",
      "get_mc_stats 0.012359619140625\n"
     ]
    },
    {
     "name": "stderr",
     "output_type": "stream",
     "text": [
      " 41%|████▏     | 414/1000 [08:57<13:04,  1.34s/it, Energy=-0.0000017+0.0000000j ± 0.0000038 [σ²=0.0000000]]"
     ]
    },
    {
     "name": "stdout",
     "output_type": "stream",
     "text": [
      "--->> cal O and jac  0.03842878341674805\n",
      "compute_update  0.04044008255004883\n",
      "(0.006447925904992546+0j)\n",
      "n_discard =  144\n",
      "discard samples 0.7632763385772705\n",
      "n_samples_node =  1000\n",
      "generate_samples :  0.4528384208679199\n",
      "     prepare getting local values 0.0013437271118164062\n",
      "     obtained local values 0.004794597625732422\n",
      "get_mc_stats 0.0063593387603759766\n"
     ]
    },
    {
     "name": "stderr",
     "output_type": "stream",
     "text": [
      " 42%|████▏     | 415/1000 [08:59<12:50,  1.32s/it, Energy=0.0000022+0.0000000j ± 0.0000043 [σ²=0.0000000]] "
     ]
    },
    {
     "name": "stdout",
     "output_type": "stream",
     "text": [
      "--->> cal O and jac  0.03883218765258789\n",
      "compute_update  0.041812896728515625\n",
      "(0.006451294049036308+0j)\n",
      "n_discard =  144\n",
      "discard samples 0.7605366706848145\n",
      "n_samples_node =  1000\n",
      "generate_samples :  0.6075389385223389\n",
      "     prepare getting local values 0.0020198822021484375\n",
      "     obtained local values 0.007455348968505859\n",
      "get_mc_stats 0.010159492492675781\n"
     ]
    },
    {
     "name": "stderr",
     "output_type": "stream",
     "text": [
      " 42%|████▏     | 416/1000 [09:00<13:07,  1.35s/it, Energy=0.0000012+0.0000000j ± 0.0000031 [σ²=0.0000000]]"
     ]
    },
    {
     "name": "stdout",
     "output_type": "stream",
     "text": [
      "--->> cal O and jac  0.038529157638549805\n",
      "compute_update  0.040778398513793945\n",
      "(0.006454517475421432+0j)\n",
      "n_discard =  144\n",
      "discard samples 1.0347414016723633\n",
      "n_samples_node =  1000\n",
      "generate_samples :  0.5538246631622314\n",
      "     prepare getting local values 0.002599954605102539\n",
      "     obtained local values 0.005821704864501953\n",
      "get_mc_stats 0.008440971374511719\n"
     ]
    },
    {
     "name": "stderr",
     "output_type": "stream",
     "text": [
      " 42%|████▏     | 417/1000 [09:02<13:56,  1.44s/it, Energy=0.0000014+0.0000000j ± 0.0000037 [σ²=0.0000000]]"
     ]
    },
    {
     "name": "stdout",
     "output_type": "stream",
     "text": [
      "--->> cal O and jac  0.03771567344665527\n",
      "compute_update  0.040863990783691406\n",
      "(0.006457261553407343+0j)\n",
      "n_discard =  144\n",
      "discard samples 1.0276989936828613\n",
      "n_samples_node =  1000\n",
      "generate_samples :  0.4575037956237793\n",
      "     prepare getting local values 0.0017731189727783203\n",
      "     obtained local values 0.005133152008056641\n",
      "get_mc_stats 0.0071718692779541016\n"
     ]
    },
    {
     "name": "stderr",
     "output_type": "stream",
     "text": [
      " 42%|████▏     | 418/1000 [09:03<14:13,  1.47s/it, Energy=0.0000059+0.0000000j ± 0.0000038 [σ²=0.0000000]]"
     ]
    },
    {
     "name": "stdout",
     "output_type": "stream",
     "text": [
      "--->> cal O and jac  0.04052615165710449\n",
      "compute_update  0.04413914680480957\n",
      "(0.006460855310532336+0j)\n",
      "n_discard =  144\n",
      "discard samples 0.7624022960662842\n",
      "n_samples_node =  1000\n",
      "generate_samples :  0.4548196792602539\n",
      "     prepare getting local values 0.0013675689697265625\n",
      "     obtained local values 0.004962921142578125\n",
      "get_mc_stats 0.0069332122802734375\n"
     ]
    },
    {
     "name": "stderr",
     "output_type": "stream",
     "text": [
      " 42%|████▏     | 419/1000 [09:05<13:37,  1.41s/it, Energy=0.0000019+0.0000000j ± 0.0000036 [σ²=0.0000000]]"
     ]
    },
    {
     "name": "stdout",
     "output_type": "stream",
     "text": [
      "--->> cal O and jac  0.03836226463317871\n",
      "compute_update  0.0407261848449707\n",
      "(0.006464123600334028+0j)\n",
      "n_discard =  144\n",
      "discard samples 0.7588140964508057\n",
      "n_samples_node =  1000\n",
      "generate_samples :  0.45167040824890137\n",
      "     prepare getting local values 0.0022907257080078125\n",
      "     obtained local values 0.006546735763549805\n",
      "get_mc_stats 0.008808612823486328\n"
     ]
    },
    {
     "name": "stderr",
     "output_type": "stream",
     "text": [
      " 42%|████▏     | 420/1000 [09:06<13:10,  1.36s/it, Energy=-0.0000031+0.0000000j ± 0.0000027 [σ²=0.0000000]]"
     ]
    },
    {
     "name": "stdout",
     "output_type": "stream",
     "text": [
      "--->> cal O and jac  0.03809309005737305\n",
      "compute_update  0.04050302505493164\n",
      "(0.006466061743693901+0j)\n",
      "n_discard =  144\n",
      "discard samples 0.7669069766998291\n",
      "n_samples_node =  1000\n",
      "generate_samples :  0.46003079414367676\n",
      "     prepare getting local values 0.0024805068969726562\n",
      "     obtained local values 0.008694648742675781\n",
      "get_mc_stats 0.01139688491821289\n"
     ]
    },
    {
     "name": "stderr",
     "output_type": "stream",
     "text": [
      " 42%|████▏     | 421/1000 [09:07<12:54,  1.34s/it, Energy=-0.0000016+0.0000000j ± 0.0000036 [σ²=0.0000000]]"
     ]
    },
    {
     "name": "stdout",
     "output_type": "stream",
     "text": [
      "--->> cal O and jac  0.038820505142211914\n",
      "compute_update  0.04097294807434082\n",
      "(0.006468689359631168+0j)\n",
      "n_discard =  144\n",
      "discard samples 0.754619836807251\n",
      "n_samples_node =  1000\n",
      "generate_samples :  0.454617977142334\n",
      "     prepare getting local values 0.0029425621032714844\n",
      "     obtained local values 0.008001327514648438\n",
      "get_mc_stats 0.011171817779541016\n"
     ]
    },
    {
     "name": "stderr",
     "output_type": "stream",
     "text": [
      " 42%|████▏     | 422/1000 [09:08<12:40,  1.32s/it, Energy=0.0000031+0.0000000j ± 0.0000034 [σ²=0.0000000]] "
     ]
    },
    {
     "name": "stdout",
     "output_type": "stream",
     "text": [
      "--->> cal O and jac  0.03764486312866211\n",
      "compute_update  0.03966474533081055\n",
      "(0.006471266350700062+0j)\n",
      "n_discard =  144\n",
      "discard samples 0.7729794979095459\n",
      "n_samples_node =  1000\n",
      "generate_samples :  0.4573323726654053\n",
      "     prepare getting local values 0.0013780593872070312\n",
      "     obtained local values 0.004823207855224609\n",
      "get_mc_stats 0.006697654724121094\n"
     ]
    },
    {
     "name": "stderr",
     "output_type": "stream",
     "text": [
      " 42%|████▏     | 423/1000 [09:10<12:33,  1.31s/it, Energy=0.0000007+0.0000000j ± 0.0000039 [σ²=0.0000000]]"
     ]
    },
    {
     "name": "stdout",
     "output_type": "stream",
     "text": [
      "--->> cal O and jac  0.04027915000915527\n",
      "compute_update  0.04319477081298828\n",
      "(0.0064746101655348874+0j)\n",
      "n_discard =  144\n",
      "discard samples 0.7585806846618652\n",
      "n_samples_node =  1000\n",
      "generate_samples :  0.45406126976013184\n",
      "     prepare getting local values 0.0013990402221679688\n",
      "     obtained local values 0.0047109127044677734\n",
      "get_mc_stats 0.0064656734466552734\n"
     ]
    },
    {
     "name": "stderr",
     "output_type": "stream",
     "text": [
      " 42%|████▏     | 424/1000 [09:11<12:24,  1.29s/it, Energy=-0.0000044+0.0000000j ± 0.0000035 [σ²=0.0000000]]"
     ]
    },
    {
     "name": "stdout",
     "output_type": "stream",
     "text": [
      "--->> cal O and jac  0.03795027732849121\n",
      "compute_update  0.03999185562133789\n",
      "(0.006478611752726848+0j)\n",
      "n_discard =  144\n",
      "discard samples 0.7581751346588135\n",
      "n_samples_node =  1000\n",
      "generate_samples :  0.45866847038269043\n",
      "     prepare getting local values 0.0012912750244140625\n",
      "     obtained local values 0.004708290100097656\n",
      "get_mc_stats 0.006455421447753906\n"
     ]
    },
    {
     "name": "stderr",
     "output_type": "stream",
     "text": [
      " 42%|████▎     | 425/1000 [09:12<12:17,  1.28s/it, Energy=0.0000042+0.0000000j ± 0.0000033 [σ²=0.0000000]] "
     ]
    },
    {
     "name": "stdout",
     "output_type": "stream",
     "text": [
      "--->> cal O and jac  0.032375335693359375\n",
      "compute_update  0.03561806678771973\n",
      "(0.006480920927604173+0j)\n",
      "n_discard =  144\n",
      "discard samples 0.7623982429504395\n",
      "n_samples_node =  1000\n",
      "generate_samples :  0.45003247261047363\n",
      "     prepare getting local values 0.0013206005096435547\n",
      "     obtained local values 0.004736185073852539\n",
      "get_mc_stats 0.00621795654296875\n"
     ]
    },
    {
     "name": "stderr",
     "output_type": "stream",
     "text": [
      " 43%|████▎     | 426/1000 [09:13<12:12,  1.28s/it, Energy=0.0000002+0.0000000j ± 0.0000035 [σ²=0.0000000]]"
     ]
    },
    {
     "name": "stdout",
     "output_type": "stream",
     "text": [
      "--->> cal O and jac  0.038341522216796875\n",
      "compute_update  0.040495872497558594\n",
      "(0.006483824542222259+0j)\n",
      "n_discard =  144\n",
      "discard samples 0.7623147964477539\n",
      "n_samples_node =  1000\n",
      "generate_samples :  0.46422576904296875\n",
      "     prepare getting local values 0.0027201175689697266\n",
      "     obtained local values 0.008018255233764648\n",
      "get_mc_stats 0.010489225387573242\n"
     ]
    },
    {
     "name": "stderr",
     "output_type": "stream",
     "text": [
      " 43%|████▎     | 427/1000 [09:15<12:12,  1.28s/it, Energy=-0.0000041+0.0000000j ± 0.0000040 [σ²=0.0000000]]"
     ]
    },
    {
     "name": "stdout",
     "output_type": "stream",
     "text": [
      "--->> cal O and jac  0.03926563262939453\n",
      "compute_update  0.04250454902648926\n",
      "(0.006486610109887549+0j)\n",
      "n_discard =  144\n",
      "discard samples 0.8615891933441162\n",
      "n_samples_node =  1000\n",
      "generate_samples :  0.5216128826141357\n",
      "     prepare getting local values 0.0027048587799072266\n",
      "     obtained local values 0.008910417556762695\n",
      "get_mc_stats 0.011786222457885742\n"
     ]
    },
    {
     "name": "stderr",
     "output_type": "stream",
     "text": [
      " 43%|████▎     | 428/1000 [09:16<12:38,  1.33s/it, Energy=-0.0000081+0.0000000j ± 0.0000037 [σ²=0.0000000]]"
     ]
    },
    {
     "name": "stdout",
     "output_type": "stream",
     "text": [
      "--->> cal O and jac  0.03912949562072754\n",
      "compute_update  0.04255533218383789\n",
      "(0.006488328231502559+0j)\n",
      "n_discard =  144\n",
      "discard samples 0.7642054557800293\n",
      "n_samples_node =  1000\n",
      "generate_samples :  0.6062653064727783\n",
      "     prepare getting local values 0.002978086471557617\n",
      "     obtained local values 0.011024951934814453\n",
      "get_mc_stats 0.014664411544799805\n"
     ]
    },
    {
     "name": "stderr",
     "output_type": "stream",
     "text": [
      " 43%|████▎     | 429/1000 [09:18<12:54,  1.36s/it, Energy=-0.0000046+0.0000000j ± 0.0000045 [σ²=0.0000000]]"
     ]
    },
    {
     "name": "stdout",
     "output_type": "stream",
     "text": [
      "--->> cal O and jac  0.03794145584106445\n",
      "compute_update  0.041840314865112305\n",
      "(0.006490597701078506+0j)\n",
      "n_discard =  144\n",
      "discard samples 0.7645995616912842\n",
      "n_samples_node =  1000\n",
      "generate_samples :  0.4523792266845703\n",
      "     prepare getting local values 0.002317667007446289\n",
      "     obtained local values 0.008402109146118164\n",
      "get_mc_stats 0.011092424392700195\n"
     ]
    },
    {
     "name": "stderr",
     "output_type": "stream",
     "text": [
      " 43%|████▎     | 430/1000 [09:19<12:38,  1.33s/it, Energy=-0.0000039+0.0000000j ± 0.0000028 [σ²=0.0000000]]"
     ]
    },
    {
     "name": "stdout",
     "output_type": "stream",
     "text": [
      "--->> cal O and jac  0.0381166934967041\n",
      "compute_update  0.040384769439697266\n",
      "(0.006493723290913008+0j)\n",
      "n_discard =  144\n",
      "discard samples 0.7576680183410645\n",
      "n_samples_node =  1000\n",
      "generate_samples :  0.48961615562438965\n",
      "     prepare getting local values 0.0012769699096679688\n",
      "     obtained local values 0.004686832427978516\n",
      "get_mc_stats 0.0065000057220458984\n"
     ]
    },
    {
     "name": "stderr",
     "output_type": "stream",
     "text": [
      " 43%|████▎     | 431/1000 [09:20<12:31,  1.32s/it, Energy=-0.0000049+0.0000000j ± 0.0000031 [σ²=0.0000000]]"
     ]
    },
    {
     "name": "stdout",
     "output_type": "stream",
     "text": [
      "--->> cal O and jac  0.03828144073486328\n",
      "compute_update  0.04045701026916504\n",
      "(0.006496634683276814+0j)\n",
      "n_discard =  144\n",
      "discard samples 0.7655186653137207\n",
      "n_samples_node =  1000\n",
      "generate_samples :  0.4600350856781006\n",
      "     prepare getting local values 0.0012843608856201172\n",
      "     obtained local values 0.004613637924194336\n",
      "get_mc_stats 0.006375789642333984\n"
     ]
    },
    {
     "name": "stderr",
     "output_type": "stream",
     "text": [
      " 43%|████▎     | 432/1000 [09:21<12:21,  1.31s/it, Energy=-0.0000028+0.0000000j ± 0.0000036 [σ²=0.0000000]]"
     ]
    },
    {
     "name": "stdout",
     "output_type": "stream",
     "text": [
      "--->> cal O and jac  0.036113739013671875\n",
      "compute_update  0.03848528861999512\n",
      "(0.006499217657260629+0j)\n",
      "n_discard =  144\n",
      "discard samples 0.7655198574066162\n",
      "n_samples_node =  1000\n",
      "generate_samples :  0.45508694648742676\n",
      "     prepare getting local values 0.002147197723388672\n",
      "     obtained local values 0.008346796035766602\n",
      "get_mc_stats 0.010212898254394531\n"
     ]
    },
    {
     "name": "stderr",
     "output_type": "stream",
     "text": [
      " 43%|████▎     | 433/1000 [09:23<12:14,  1.30s/it, Energy=0.0000054+0.0000000j ± 0.0000037 [σ²=0.0000000]] "
     ]
    },
    {
     "name": "stdout",
     "output_type": "stream",
     "text": [
      "--->> cal O and jac  0.03452706336975098\n",
      "compute_update  0.03792309761047363\n",
      "(0.006502398105190445+0j)\n",
      "n_discard =  144\n",
      "discard samples 1.0187366008758545\n",
      "n_samples_node =  1000\n",
      "generate_samples :  0.6146485805511475\n",
      "     prepare getting local values 0.0029358863830566406\n",
      "     obtained local values 0.009246587753295898\n",
      "get_mc_stats 0.012117862701416016\n"
     ]
    },
    {
     "name": "stderr",
     "output_type": "stream",
     "text": [
      " 43%|████▎     | 434/1000 [09:24<13:19,  1.41s/it, Energy=0.0000018+0.0000000j ± 0.0000037 [σ²=0.0000000]]"
     ]
    },
    {
     "name": "stdout",
     "output_type": "stream",
     "text": [
      "--->> cal O and jac  0.03769207000732422\n",
      "compute_update  0.03983354568481445\n",
      "(0.006505833299980225+0j)\n",
      "n_discard =  144\n",
      "discard samples 0.7714221477508545\n",
      "n_samples_node =  1000\n",
      "generate_samples :  0.45365405082702637\n",
      "     prepare getting local values 0.001299142837524414\n",
      "     obtained local values 0.0047190189361572266\n",
      "get_mc_stats 0.006501197814941406\n"
     ]
    },
    {
     "name": "stderr",
     "output_type": "stream",
     "text": [
      " 44%|████▎     | 435/1000 [09:26<12:54,  1.37s/it, Energy=0.0000003+0.0000000j ± 0.0000033 [σ²=0.0000000]]"
     ]
    },
    {
     "name": "stdout",
     "output_type": "stream",
     "text": [
      "--->> cal O and jac  0.03881239891052246\n",
      "compute_update  0.041402339935302734\n",
      "(0.006508798744218524+0j)\n",
      "n_discard =  144\n",
      "discard samples 0.8558914661407471\n",
      "n_samples_node =  1000\n",
      "generate_samples :  0.5113096237182617\n",
      "     prepare getting local values 0.0026814937591552734\n",
      "     obtained local values 0.00906682014465332\n",
      "get_mc_stats 0.011757373809814453\n"
     ]
    },
    {
     "name": "stderr",
     "output_type": "stream",
     "text": [
      " 44%|████▎     | 436/1000 [09:27<13:01,  1.39s/it, Energy=0.0000019+0.0000000j ± 0.0000033 [σ²=0.0000000]]"
     ]
    },
    {
     "name": "stdout",
     "output_type": "stream",
     "text": [
      "--->> cal O and jac  0.03604769706726074\n",
      "compute_update  0.038041114807128906\n",
      "(0.006510607926375793+0j)\n",
      "n_discard =  144\n",
      "discard samples 0.7493376731872559\n",
      "n_samples_node =  1000\n",
      "generate_samples :  0.4464406967163086\n",
      "     prepare getting local values 0.001310110092163086\n",
      "     obtained local values 0.00477910041809082\n",
      "get_mc_stats 0.006363630294799805\n"
     ]
    },
    {
     "name": "stderr",
     "output_type": "stream",
     "text": [
      " 44%|████▎     | 437/1000 [09:28<12:35,  1.34s/it, Energy=-0.0000025+0.0000000j ± 0.0000030 [σ²=0.0000000]]"
     ]
    },
    {
     "name": "stdout",
     "output_type": "stream",
     "text": [
      "--->> cal O and jac  0.03483915328979492\n",
      "compute_update  0.03764772415161133\n",
      "(0.006513981648671341+0j)\n",
      "n_discard =  144\n",
      "discard samples 0.7534806728363037\n",
      "n_samples_node =  1000\n",
      "generate_samples :  0.5392634868621826\n",
      "     prepare getting local values 0.002699613571166992\n",
      "     obtained local values 0.008891820907592773\n",
      "get_mc_stats 0.011697053909301758\n"
     ]
    },
    {
     "name": "stderr",
     "output_type": "stream",
     "text": [
      " 44%|████▍     | 438/1000 [09:30<12:34,  1.34s/it, Energy=0.0000021+0.0000000j ± 0.0000039 [σ²=0.0000000]] "
     ]
    },
    {
     "name": "stdout",
     "output_type": "stream",
     "text": [
      "--->> cal O and jac  0.03642010688781738\n",
      "compute_update  0.03850507736206055\n",
      "(0.006516895351630093+0j)\n",
      "n_discard =  144\n",
      "discard samples 0.7565798759460449\n",
      "n_samples_node =  1000\n",
      "generate_samples :  0.4559509754180908\n",
      "     prepare getting local values 0.002136707305908203\n",
      "     obtained local values 0.00831460952758789\n",
      "get_mc_stats 0.01032400131225586\n"
     ]
    },
    {
     "name": "stderr",
     "output_type": "stream",
     "text": [
      " 44%|████▍     | 439/1000 [09:31<12:21,  1.32s/it, Energy=-0.0000025+0.0000000j ± 0.0000039 [σ²=0.0000000]]"
     ]
    },
    {
     "name": "stdout",
     "output_type": "stream",
     "text": [
      "--->> cal O and jac  0.04238414764404297\n",
      "compute_update  0.04497385025024414\n",
      "(0.006519654075111427+0j)\n",
      "n_discard =  144\n",
      "discard samples 0.9487617015838623\n",
      "n_samples_node =  1000\n",
      "generate_samples :  0.4511885643005371\n",
      "     prepare getting local values 0.0013725757598876953\n",
      "     obtained local values 0.004817962646484375\n",
      "get_mc_stats 0.006761074066162109\n"
     ]
    },
    {
     "name": "stderr",
     "output_type": "stream",
     "text": [
      " 44%|████▍     | 440/1000 [09:32<12:41,  1.36s/it, Energy=-0.0000011+0.0000000j ± 0.0000035 [σ²=0.0000000]]"
     ]
    },
    {
     "name": "stdout",
     "output_type": "stream",
     "text": [
      "--->> cal O and jac  0.04064440727233887\n",
      "compute_update  0.04262828826904297\n",
      "(0.006522498731819294+0j)\n",
      "n_discard =  144\n",
      "discard samples 1.028254747390747\n",
      "n_samples_node =  1000\n",
      "generate_samples :  0.4506552219390869\n",
      "     prepare getting local values 0.0012636184692382812\n",
      "     obtained local values 0.00456547737121582\n",
      "get_mc_stats 0.006177186965942383\n"
     ]
    },
    {
     "name": "stderr",
     "output_type": "stream",
     "text": [
      " 44%|████▍     | 441/1000 [09:34<13:08,  1.41s/it, Energy=-0.0000015+0.0000000j ± 0.0000031 [σ²=0.0000000]]"
     ]
    },
    {
     "name": "stdout",
     "output_type": "stream",
     "text": [
      "--->> cal O and jac  0.04050493240356445\n",
      "compute_update  0.0425417423248291\n",
      "(0.006524933073957794+0j)\n",
      "n_discard =  144\n",
      "discard samples 0.8828461170196533\n",
      "n_samples_node =  1000\n",
      "generate_samples :  0.46202564239501953\n",
      "     prepare getting local values 0.0022797584533691406\n",
      "     obtained local values 0.006606578826904297\n",
      "get_mc_stats 0.009026527404785156\n"
     ]
    },
    {
     "name": "stderr",
     "output_type": "stream",
     "text": [
      " 44%|████▍     | 442/1000 [09:35<13:04,  1.41s/it, Energy=-0.0000077+0.0000000j ± 0.0000026 [σ²=0.0000000]]"
     ]
    },
    {
     "name": "stdout",
     "output_type": "stream",
     "text": [
      "--->> cal O and jac  0.03682208061218262\n",
      "compute_update  0.04024362564086914\n",
      "(0.006526911538090258+0j)\n",
      "n_discard =  144\n",
      "discard samples 0.7512338161468506\n",
      "n_samples_node =  1000\n",
      "generate_samples :  0.4496767520904541\n",
      "     prepare getting local values 0.0014405250549316406\n",
      "     obtained local values 0.004969596862792969\n",
      "get_mc_stats 0.006932735443115234\n"
     ]
    },
    {
     "name": "stderr",
     "output_type": "stream",
     "text": [
      " 44%|████▍     | 443/1000 [09:37<12:38,  1.36s/it, Energy=0.0000005+0.0000000j ± 0.0000038 [σ²=0.0000000]] "
     ]
    },
    {
     "name": "stdout",
     "output_type": "stream",
     "text": [
      "--->> cal O and jac  0.0439915657043457\n",
      "compute_update  0.04770851135253906\n",
      "(0.006529954210865617+0j)\n",
      "n_discard =  144\n",
      "discard samples 0.9984629154205322\n",
      "n_samples_node =  1000\n",
      "generate_samples :  0.630225419998169\n",
      "     prepare getting local values 0.002774477005004883\n",
      "     obtained local values 0.010121345520019531\n",
      "get_mc_stats 0.012833356857299805\n"
     ]
    },
    {
     "name": "stderr",
     "output_type": "stream",
     "text": [
      " 44%|████▍     | 444/1000 [09:38<13:31,  1.46s/it, Energy=-0.0000052+0.0000000j ± 0.0000030 [σ²=0.0000000]]"
     ]
    },
    {
     "name": "stdout",
     "output_type": "stream",
     "text": [
      "--->> cal O and jac  0.04054069519042969\n",
      "compute_update  0.04292416572570801\n",
      "(0.006531503784467682+0j)\n",
      "n_discard =  144\n",
      "discard samples 0.9859623908996582\n",
      "n_samples_node =  1000\n",
      "generate_samples :  0.46294641494750977\n",
      "     prepare getting local values 0.0023415088653564453\n",
      "     obtained local values 0.008085250854492188\n",
      "get_mc_stats 0.01035308837890625\n"
     ]
    },
    {
     "name": "stderr",
     "output_type": "stream",
     "text": [
      " 44%|████▍     | 445/1000 [09:40<13:37,  1.47s/it, Energy=-0.0000031+0.0000000j ± 0.0000028 [σ²=0.0000000]]"
     ]
    },
    {
     "name": "stdout",
     "output_type": "stream",
     "text": [
      "--->> cal O and jac  0.03973817825317383\n",
      "compute_update  0.041953325271606445\n",
      "(0.006533667526080777+0j)\n",
      "n_discard =  144\n",
      "discard samples 0.7591955661773682\n",
      "n_samples_node =  1000\n",
      "generate_samples :  0.4474344253540039\n",
      "     prepare getting local values 0.0013146400451660156\n",
      "     obtained local values 0.007899284362792969\n",
      "get_mc_stats 0.009821653366088867\n"
     ]
    },
    {
     "name": "stderr",
     "output_type": "stream",
     "text": [
      " 45%|████▍     | 446/1000 [09:41<13:00,  1.41s/it, Energy=0.0000006+0.0000000j ± 0.0000031 [σ²=0.0000000]] "
     ]
    },
    {
     "name": "stdout",
     "output_type": "stream",
     "text": [
      "--->> cal O and jac  0.03944873809814453\n",
      "compute_update  0.042527198791503906\n",
      "(0.006536781216412869+0j)\n",
      "n_discard =  144\n",
      "discard samples 0.7854597568511963\n",
      "n_samples_node =  1000\n",
      "generate_samples :  0.4518249034881592\n",
      "     prepare getting local values 0.002305746078491211\n",
      "     obtained local values 0.00895071029663086\n",
      "get_mc_stats 0.011254549026489258\n"
     ]
    },
    {
     "name": "stderr",
     "output_type": "stream",
     "text": [
      " 45%|████▍     | 447/1000 [09:42<12:40,  1.37s/it, Energy=-0.0000054+0.0000000j ± 0.0000033 [σ²=0.0000000]]"
     ]
    },
    {
     "name": "stdout",
     "output_type": "stream",
     "text": [
      "--->> cal O and jac  0.04007983207702637\n",
      "compute_update  0.04368734359741211\n",
      "(0.006539181266487129+0j)\n",
      "n_discard =  144\n",
      "discard samples 0.7619514465332031\n",
      "n_samples_node =  1000\n",
      "generate_samples :  0.4725356101989746\n",
      "     prepare getting local values 0.0016450881958007812\n",
      "     obtained local values 0.005036115646362305\n",
      "get_mc_stats 0.008622884750366211\n"
     ]
    },
    {
     "name": "stderr",
     "output_type": "stream",
     "text": [
      " 45%|████▍     | 448/1000 [09:44<12:24,  1.35s/it, Energy=0.0000052+0.0000000j ± 0.0000029 [σ²=0.0000000]] "
     ]
    },
    {
     "name": "stdout",
     "output_type": "stream",
     "text": [
      "--->> cal O and jac  0.03973054885864258\n",
      "compute_update  0.0428318977355957\n",
      "(0.006541548805099757+0j)\n",
      "n_discard =  144\n",
      "discard samples 0.7527716159820557\n",
      "n_samples_node =  1000\n",
      "generate_samples :  0.44912242889404297\n",
      "     prepare getting local values 0.0013537406921386719\n",
      "     obtained local values 0.004949331283569336\n",
      "get_mc_stats 0.006984233856201172\n"
     ]
    },
    {
     "name": "stderr",
     "output_type": "stream",
     "text": [
      " 45%|████▍     | 449/1000 [09:45<12:07,  1.32s/it, Energy=0.0000030+0.0000000j ± 0.0000028 [σ²=0.0000000]]"
     ]
    },
    {
     "name": "stdout",
     "output_type": "stream",
     "text": [
      "--->> cal O and jac  0.03931832313537598\n",
      "compute_update  0.04165530204772949\n",
      "(0.006543994210666522+0j)\n",
      "n_discard =  144\n",
      "discard samples 1.019312858581543\n",
      "n_samples_node =  1000\n",
      "generate_samples :  0.4486544132232666\n",
      "     prepare getting local values 0.0012509822845458984\n",
      "     obtained local values 0.004614591598510742\n",
      "get_mc_stats 0.0060291290283203125\n"
     ]
    },
    {
     "name": "stderr",
     "output_type": "stream",
     "text": [
      " 45%|████▌     | 450/1000 [09:46<12:38,  1.38s/it, Energy=-0.0000009+0.0000000j ± 0.0000034 [σ²=0.0000000]]"
     ]
    },
    {
     "name": "stdout",
     "output_type": "stream",
     "text": [
      "--->> cal O and jac  0.03733515739440918\n",
      "compute_update  0.039361000061035156\n",
      "(0.0065456865008247725+0j)\n",
      "n_discard =  144\n",
      "discard samples 0.7530786991119385\n",
      "n_samples_node =  1000\n",
      "generate_samples :  0.4502272605895996\n",
      "     prepare getting local values 0.0013947486877441406\n",
      "     obtained local values 0.007086277008056641\n",
      "get_mc_stats 0.008793830871582031\n"
     ]
    },
    {
     "name": "stderr",
     "output_type": "stream",
     "text": [
      " 45%|████▌     | 451/1000 [09:48<12:16,  1.34s/it, Energy=0.0000012+0.0000000j ± 0.0000030 [σ²=0.0000000]] "
     ]
    },
    {
     "name": "stdout",
     "output_type": "stream",
     "text": [
      "--->> cal O and jac  0.03835296630859375\n",
      "compute_update  0.04187726974487305\n",
      "(0.0065487849926227516+0j)\n",
      "n_discard =  144\n",
      "discard samples 0.7592816352844238\n",
      "n_samples_node =  1000\n",
      "generate_samples :  0.45153045654296875\n",
      "     prepare getting local values 0.0013327598571777344\n",
      "     obtained local values 0.004839181900024414\n",
      "get_mc_stats 0.0066089630126953125\n"
     ]
    },
    {
     "name": "stderr",
     "output_type": "stream",
     "text": [
      " 45%|████▌     | 452/1000 [09:49<12:01,  1.32s/it, Energy=-0.0000050+0.0000000j ± 0.0000027 [σ²=0.0000000]]"
     ]
    },
    {
     "name": "stdout",
     "output_type": "stream",
     "text": [
      "--->> cal O and jac  0.035692691802978516\n",
      "compute_update  0.03920149803161621\n",
      "(0.006551286427773053+0j)\n",
      "n_discard =  144\n",
      "discard samples 0.764655590057373\n",
      "n_samples_node =  1000\n",
      "generate_samples :  0.5586738586425781\n",
      "     prepare getting local values 0.002891063690185547\n",
      "     obtained local values 0.008130788803100586\n",
      "get_mc_stats 0.010500431060791016\n"
     ]
    },
    {
     "name": "stderr",
     "output_type": "stream",
     "text": [
      " 45%|████▌     | 453/1000 [09:50<12:10,  1.33s/it, Energy=0.0000005+0.0000000j ± 0.0000033 [σ²=0.0000000]] "
     ]
    },
    {
     "name": "stdout",
     "output_type": "stream",
     "text": [
      "--->> cal O and jac  0.03694653511047363\n",
      "compute_update  0.04002499580383301\n",
      "(0.006554392686369655+0j)\n",
      "n_discard =  144\n",
      "discard samples 0.9365124702453613\n",
      "n_samples_node =  1000\n",
      "generate_samples :  0.4505341053009033\n",
      "     prepare getting local values 0.0013289451599121094\n",
      "     obtained local values 0.004652738571166992\n",
      "get_mc_stats 0.006596803665161133\n"
     ]
    },
    {
     "name": "stderr",
     "output_type": "stream",
     "text": [
      " 45%|████▌     | 454/1000 [09:52<12:25,  1.36s/it, Energy=0.0000014+0.0000000j ± 0.0000029 [σ²=0.0000000]]"
     ]
    },
    {
     "name": "stdout",
     "output_type": "stream",
     "text": [
      "--->> cal O and jac  0.036962270736694336\n",
      "compute_update  0.03923153877258301\n",
      "(0.006556210731908196+0j)\n",
      "n_discard =  144\n",
      "discard samples 0.7575490474700928\n",
      "n_samples_node =  1000\n",
      "generate_samples :  0.45097851753234863\n",
      "     prepare getting local values 0.0022809505462646484\n",
      "     obtained local values 0.007809162139892578\n",
      "get_mc_stats 0.010170936584472656\n"
     ]
    },
    {
     "name": "stderr",
     "output_type": "stream",
     "text": [
      " 46%|████▌     | 455/1000 [09:53<12:07,  1.33s/it, Energy=0.0000005+0.0000000j ± 0.0000034 [σ²=0.0000000]]"
     ]
    },
    {
     "name": "stdout",
     "output_type": "stream",
     "text": [
      "--->> cal O and jac  0.040010690689086914\n",
      "compute_update  0.04327750205993652\n",
      "(0.006559614495875942+0j)\n",
      "n_discard =  144\n",
      "discard samples 0.8097693920135498\n",
      "n_samples_node =  1000\n",
      "generate_samples :  0.45374298095703125\n",
      "     prepare getting local values 0.002547025680541992\n",
      "     obtained local values 0.00824737548828125\n",
      "get_mc_stats 0.010949134826660156\n"
     ]
    },
    {
     "name": "stderr",
     "output_type": "stream",
     "text": [
      " 46%|████▌     | 456/1000 [09:54<12:02,  1.33s/it, Energy=0.0000040+0.0000000j ± 0.0000039 [σ²=0.0000000]]"
     ]
    },
    {
     "name": "stdout",
     "output_type": "stream",
     "text": [
      "--->> cal O and jac  0.03716564178466797\n",
      "compute_update  0.03931283950805664\n",
      "(0.006562284029079035+0j)\n",
      "n_discard =  144\n",
      "discard samples 0.7512366771697998\n",
      "n_samples_node =  1000\n",
      "generate_samples :  0.4538149833679199\n",
      "     prepare getting local values 0.0013599395751953125\n",
      "     obtained local values 0.004844188690185547\n",
      "get_mc_stats 0.006529092788696289\n"
     ]
    },
    {
     "name": "stderr",
     "output_type": "stream",
     "text": [
      " 46%|████▌     | 457/1000 [09:56<11:49,  1.31s/it, Energy=-0.0000074+0.0000000j ± 0.0000024 [σ²=0.0000000]]"
     ]
    },
    {
     "name": "stdout",
     "output_type": "stream",
     "text": [
      "--->> cal O and jac  0.03790163993835449\n",
      "compute_update  0.04021787643432617\n",
      "(0.006564356557110866+0j)\n",
      "n_discard =  144\n",
      "discard samples 1.0165774822235107\n",
      "n_samples_node =  1000\n",
      "generate_samples :  0.45166802406311035\n",
      "     prepare getting local values 0.0013470649719238281\n",
      "     obtained local values 0.004672527313232422\n",
      "get_mc_stats 0.006102323532104492\n"
     ]
    },
    {
     "name": "stderr",
     "output_type": "stream",
     "text": [
      " 46%|████▌     | 458/1000 [09:57<12:22,  1.37s/it, Energy=0.0000041+0.0000000j ± 0.0000026 [σ²=0.0000000]] "
     ]
    },
    {
     "name": "stdout",
     "output_type": "stream",
     "text": [
      "--->> cal O and jac  0.0375058650970459\n",
      "compute_update  0.03973078727722168\n",
      "(0.006566515028070559+0j)\n",
      "n_discard =  144\n",
      "discard samples 0.7555739879608154\n",
      "n_samples_node =  1000\n",
      "generate_samples :  0.4490354061126709\n",
      "     prepare getting local values 0.0013430118560791016\n",
      "     obtained local values 0.004822969436645508\n",
      "get_mc_stats 0.00661921501159668\n"
     ]
    },
    {
     "name": "stderr",
     "output_type": "stream",
     "text": [
      " 46%|████▌     | 459/1000 [09:58<12:02,  1.34s/it, Energy=0.0000009+0.0000000j ± 0.0000027 [σ²=0.0000000]]"
     ]
    },
    {
     "name": "stdout",
     "output_type": "stream",
     "text": [
      "--->> cal O and jac  0.04174447059631348\n",
      "compute_update  0.04390740394592285\n",
      "(0.0065681422399488845+0j)\n",
      "n_discard =  144\n",
      "discard samples 0.7516117095947266\n",
      "n_samples_node =  1000\n",
      "generate_samples :  0.5464916229248047\n",
      "     prepare getting local values 0.0026760101318359375\n",
      "     obtained local values 0.008785724639892578\n",
      "get_mc_stats 0.011780977249145508\n"
     ]
    },
    {
     "name": "stderr",
     "output_type": "stream",
     "text": [
      " 46%|████▌     | 460/1000 [10:00<12:03,  1.34s/it, Energy=0.0000049+0.0000000j ± 0.0000030 [σ²=0.0000000]]"
     ]
    },
    {
     "name": "stdout",
     "output_type": "stream",
     "text": [
      "--->> cal O and jac  0.03689098358154297\n",
      "compute_update  0.03927469253540039\n",
      "(0.0065705182405566085+0j)\n",
      "n_discard =  144\n",
      "discard samples 0.7725701332092285\n",
      "n_samples_node =  1000\n",
      "generate_samples :  0.4487571716308594\n",
      "     prepare getting local values 0.0013918876647949219\n",
      "     obtained local values 0.004947662353515625\n",
      "get_mc_stats 0.0067598819732666016\n"
     ]
    },
    {
     "name": "stderr",
     "output_type": "stream",
     "text": [
      " 46%|████▌     | 461/1000 [10:01<11:51,  1.32s/it, Energy=0.0000022+0.0000000j ± 0.0000028 [σ²=0.0000000]]"
     ]
    },
    {
     "name": "stdout",
     "output_type": "stream",
     "text": [
      "--->> cal O and jac  0.039639949798583984\n",
      "compute_update  0.04168820381164551\n",
      "(0.006573094359006539+0j)\n",
      "n_discard =  144\n",
      "discard samples 0.7544500827789307\n",
      "n_samples_node =  1000\n",
      "generate_samples :  0.45290565490722656\n",
      "     prepare getting local values 0.0013680458068847656\n",
      "     obtained local values 0.0048940181732177734\n",
      "get_mc_stats 0.006695985794067383\n"
     ]
    },
    {
     "name": "stderr",
     "output_type": "stream",
     "text": [
      " 46%|████▌     | 462/1000 [10:02<11:39,  1.30s/it, Energy=-0.0000039+0.0000000j ± 0.0000028 [σ²=0.0000000]]"
     ]
    },
    {
     "name": "stdout",
     "output_type": "stream",
     "text": [
      "--->> cal O and jac  0.03743910789489746\n",
      "compute_update  0.0396268367767334\n",
      "(0.006576059398105054+0j)\n",
      "n_discard =  144\n",
      "discard samples 0.7529301643371582\n",
      "n_samples_node =  1000\n",
      "generate_samples :  0.4560973644256592\n",
      "     prepare getting local values 0.002657651901245117\n",
      "     obtained local values 0.009139776229858398\n",
      "get_mc_stats 0.011891603469848633\n"
     ]
    },
    {
     "name": "stderr",
     "output_type": "stream",
     "text": [
      " 46%|████▋     | 463/1000 [10:04<11:32,  1.29s/it, Energy=-0.0000018+0.0000000j ± 0.0000026 [σ²=0.0000000]]"
     ]
    },
    {
     "name": "stdout",
     "output_type": "stream",
     "text": [
      "--->> cal O and jac  0.039476633071899414\n",
      "compute_update  0.043161630630493164\n",
      "(0.006577425982462719+0j)\n",
      "n_discard =  144\n",
      "discard samples 1.0251917839050293\n",
      "n_samples_node =  1000\n",
      "generate_samples :  0.45488500595092773\n",
      "     prepare getting local values 0.0017938613891601562\n",
      "     obtained local values 0.005405426025390625\n",
      "get_mc_stats 0.0073392391204833984\n"
     ]
    },
    {
     "name": "stderr",
     "output_type": "stream",
     "text": [
      " 46%|████▋     | 464/1000 [10:05<12:10,  1.36s/it, Energy=-0.0000005+0.0000000j ± 0.0000026 [σ²=0.0000000]]"
     ]
    },
    {
     "name": "stdout",
     "output_type": "stream",
     "text": [
      "--->> cal O and jac  0.039424896240234375\n",
      "compute_update  0.041697025299072266\n",
      "(0.006579159497211012+0j)\n",
      "n_discard =  144\n",
      "discard samples 0.7726120948791504\n",
      "n_samples_node =  1000\n",
      "generate_samples :  0.4565248489379883\n",
      "     prepare getting local values 0.0013988018035888672\n",
      "     obtained local values 0.004840850830078125\n",
      "get_mc_stats 0.006723165512084961\n"
     ]
    },
    {
     "name": "stderr",
     "output_type": "stream",
     "text": [
      " 46%|████▋     | 465/1000 [10:06<11:55,  1.34s/it, Energy=-0.0000011+0.0000000j ± 0.0000037 [σ²=0.0000000]]"
     ]
    },
    {
     "name": "stdout",
     "output_type": "stream",
     "text": [
      "--->> cal O and jac  0.03952980041503906\n",
      "compute_update  0.043323516845703125\n",
      "(0.006582115097863989+0j)\n",
      "n_discard =  144\n",
      "discard samples 0.7657191753387451\n",
      "n_samples_node =  1000\n",
      "generate_samples :  0.45430493354797363\n",
      "     prepare getting local values 0.0013108253479003906\n",
      "     obtained local values 0.004734992980957031\n",
      "get_mc_stats 0.006435394287109375\n"
     ]
    },
    {
     "name": "stderr",
     "output_type": "stream",
     "text": [
      " 47%|████▋     | 466/1000 [10:08<11:43,  1.32s/it, Energy=0.0000012+0.0000000j ± 0.0000030 [σ²=0.0000000]] "
     ]
    },
    {
     "name": "stdout",
     "output_type": "stream",
     "text": [
      "--->> cal O and jac  0.03995966911315918\n",
      "compute_update  0.04366755485534668\n",
      "(0.006584691869542888+0j)\n",
      "n_discard =  144\n",
      "discard samples 0.762242317199707\n",
      "n_samples_node =  1000\n",
      "generate_samples :  0.5187163352966309\n",
      "     prepare getting local values 0.0026671886444091797\n",
      "     obtained local values 0.008060216903686523\n",
      "get_mc_stats 0.010738611221313477\n"
     ]
    },
    {
     "name": "stderr",
     "output_type": "stream",
     "text": [
      " 47%|████▋     | 467/1000 [10:09<11:45,  1.32s/it, Energy=0.0000026+0.0000000j ± 0.0000035 [σ²=0.0000000]]"
     ]
    },
    {
     "name": "stdout",
     "output_type": "stream",
     "text": [
      "--->> cal O and jac  0.03928375244140625\n",
      "compute_update  0.04285860061645508\n",
      "(0.006586668507182961+0j)\n",
      "n_discard =  144\n",
      "discard samples 0.8618080615997314\n",
      "n_samples_node =  1000\n",
      "generate_samples :  0.4527108669281006\n",
      "     prepare getting local values 0.0013935565948486328\n",
      "     obtained local values 0.004956960678100586\n",
      "get_mc_stats 0.006743431091308594\n"
     ]
    },
    {
     "name": "stderr",
     "output_type": "stream",
     "text": [
      " 47%|████▋     | 468/1000 [10:10<11:50,  1.34s/it, Energy=-0.0000027+0.0000000j ± 0.0000033 [σ²=0.0000000]]"
     ]
    },
    {
     "name": "stdout",
     "output_type": "stream",
     "text": [
      "--->> cal O and jac  0.03704023361206055\n",
      "compute_update  0.0408935546875\n",
      "(0.006589109455790832+0j)\n",
      "n_discard =  144\n",
      "discard samples 0.7694621086120605\n",
      "n_samples_node =  1000\n",
      "generate_samples :  0.44910407066345215\n",
      "     prepare getting local values 0.001399993896484375\n",
      "     obtained local values 0.004822969436645508\n",
      "get_mc_stats 0.006866931915283203\n"
     ]
    },
    {
     "name": "stderr",
     "output_type": "stream",
     "text": [
      " 47%|████▋     | 469/1000 [10:12<11:38,  1.32s/it, Energy=0.0000042+0.0000000j ± 0.0000030 [σ²=0.0000000]] "
     ]
    },
    {
     "name": "stdout",
     "output_type": "stream",
     "text": [
      "--->> cal O and jac  0.03962540626525879\n",
      "compute_update  0.041574954986572266\n",
      "(0.006591523750279991+0j)\n",
      "n_discard =  144\n",
      "discard samples 0.7537555694580078\n",
      "n_samples_node =  1000\n",
      "generate_samples :  0.49852848052978516\n",
      "     prepare getting local values 0.0013577938079833984\n",
      "     obtained local values 0.006549835205078125\n",
      "get_mc_stats 0.00844264030456543\n"
     ]
    },
    {
     "name": "stderr",
     "output_type": "stream",
     "text": [
      " 47%|████▋     | 470/1000 [10:13<11:35,  1.31s/it, Energy=0.0000007+0.0000000j ± 0.0000033 [σ²=0.0000000]]"
     ]
    },
    {
     "name": "stdout",
     "output_type": "stream",
     "text": [
      "--->> cal O and jac  0.04058957099914551\n",
      "compute_update  0.04285168647766113\n",
      "(0.006593331747216183+0j)\n",
      "n_discard =  144\n",
      "discard samples 1.0375640392303467\n",
      "n_samples_node =  1000\n",
      "generate_samples :  0.45027709007263184\n",
      "     prepare getting local values 0.0013785362243652344\n",
      "     obtained local values 0.004814863204956055\n",
      "get_mc_stats 0.006589651107788086\n"
     ]
    },
    {
     "name": "stderr",
     "output_type": "stream",
     "text": [
      " 47%|████▋     | 471/1000 [10:14<12:10,  1.38s/it, Energy=0.0000011+0.0000000j ± 0.0000032 [σ²=0.0000000]]"
     ]
    },
    {
     "name": "stdout",
     "output_type": "stream",
     "text": [
      "--->> cal O and jac  0.038574934005737305\n",
      "compute_update  0.040802001953125\n",
      "(0.006595525042133774+0j)\n",
      "n_discard =  144\n",
      "discard samples 0.7645537853240967\n",
      "n_samples_node =  1000\n",
      "generate_samples :  0.4739077091217041\n",
      "     prepare getting local values 0.002345561981201172\n",
      "     obtained local values 0.006335020065307617\n",
      "get_mc_stats 0.008730411529541016\n"
     ]
    },
    {
     "name": "stderr",
     "output_type": "stream",
     "text": [
      " 47%|████▋     | 472/1000 [10:16<11:55,  1.35s/it, Energy=0.0000054+0.0000000j ± 0.0000021 [σ²=0.0000000]]"
     ]
    },
    {
     "name": "stdout",
     "output_type": "stream",
     "text": [
      "--->> cal O and jac  0.04126787185668945\n",
      "compute_update  0.044184207916259766\n",
      "(0.006598071566033807+0j)\n",
      "n_discard =  144\n",
      "discard samples 0.7965841293334961\n",
      "n_samples_node =  1000\n",
      "generate_samples :  0.49604034423828125\n",
      "     prepare getting local values 0.0021390914916992188\n",
      "     obtained local values 0.00871896743774414\n",
      "get_mc_stats 0.010972976684570312\n"
     ]
    },
    {
     "name": "stderr",
     "output_type": "stream",
     "text": [
      " 47%|████▋     | 473/1000 [10:17<11:53,  1.35s/it, Energy=-0.0000038+0.0000000j ± 0.0000027 [σ²=0.0000000]]"
     ]
    },
    {
     "name": "stdout",
     "output_type": "stream",
     "text": [
      "--->> cal O and jac  0.04198098182678223\n",
      "compute_update  0.04582667350769043\n",
      "(0.006599280410611452+0j)\n",
      "n_discard =  144\n",
      "discard samples 0.7760403156280518\n",
      "n_samples_node =  1000\n",
      "generate_samples :  0.46073222160339355\n",
      "     prepare getting local values 0.002649068832397461\n",
      "     obtained local values 0.008885860443115234\n",
      "get_mc_stats 0.01155400276184082\n"
     ]
    },
    {
     "name": "stderr",
     "output_type": "stream",
     "text": [
      " 47%|████▋     | 474/1000 [10:18<11:41,  1.33s/it, Energy=0.0000022+0.0000000j ± 0.0000028 [σ²=0.0000000]] "
     ]
    },
    {
     "name": "stdout",
     "output_type": "stream",
     "text": [
      "--->> cal O and jac  0.03662538528442383\n",
      "compute_update  0.04007124900817871\n",
      "(0.006601159531665811+0j)\n",
      "n_discard =  144\n",
      "discard samples 0.803945779800415\n",
      "n_samples_node =  1000\n",
      "generate_samples :  0.44797325134277344\n",
      "     prepare getting local values 0.0013875961303710938\n",
      "     obtained local values 0.004922151565551758\n",
      "get_mc_stats 0.007043600082397461\n"
     ]
    },
    {
     "name": "stderr",
     "output_type": "stream",
     "text": [
      " 48%|████▊     | 475/1000 [10:20<11:35,  1.33s/it, Energy=0.0000035+0.0000000j ± 0.0000023 [σ²=0.0000000]]"
     ]
    },
    {
     "name": "stdout",
     "output_type": "stream",
     "text": [
      "--->> cal O and jac  0.04074692726135254\n",
      "compute_update  0.04407620429992676\n",
      "(0.006603439201260739+0j)\n",
      "n_discard =  144\n",
      "discard samples 0.7644128799438477\n",
      "n_samples_node =  1000\n",
      "generate_samples :  0.45153093338012695\n",
      "     prepare getting local values 0.0014195442199707031\n",
      "     obtained local values 0.004846334457397461\n",
      "get_mc_stats 0.0066356658935546875\n"
     ]
    },
    {
     "name": "stderr",
     "output_type": "stream",
     "text": [
      " 48%|████▊     | 476/1000 [10:21<11:25,  1.31s/it, Energy=-0.0000000+0.0000000j ± 0.0000031 [σ²=0.0000000]]"
     ]
    },
    {
     "name": "stdout",
     "output_type": "stream",
     "text": [
      "--->> cal O and jac  0.03865551948547363\n",
      "compute_update  0.04048299789428711\n",
      "(0.0066055165473106955+0j)\n",
      "n_discard =  144\n",
      "discard samples 0.7654740810394287\n",
      "n_samples_node =  1000\n",
      "generate_samples :  0.4607081413269043\n",
      "     prepare getting local values 0.0021905899047851562\n",
      "     obtained local values 0.0075702667236328125\n",
      "get_mc_stats 0.00968623161315918\n"
     ]
    },
    {
     "name": "stderr",
     "output_type": "stream",
     "text": [
      " 48%|████▊     | 477/1000 [10:22<11:19,  1.30s/it, Energy=0.0000028+0.0000000j ± 0.0000022 [σ²=0.0000000]] "
     ]
    },
    {
     "name": "stdout",
     "output_type": "stream",
     "text": [
      "--->> cal O and jac  0.03778886795043945\n",
      "compute_update  0.040670156478881836\n",
      "(0.006607489761318123+0j)\n",
      "n_discard =  144\n",
      "discard samples 0.7594020366668701\n",
      "n_samples_node =  1000\n",
      "generate_samples :  0.4568290710449219\n",
      "     prepare getting local values 0.0013306140899658203\n",
      "     obtained local values 0.0048656463623046875\n",
      "get_mc_stats 0.0065729618072509766\n"
     ]
    },
    {
     "name": "stderr",
     "output_type": "stream",
     "text": [
      " 48%|████▊     | 478/1000 [10:23<11:12,  1.29s/it, Energy=0.0000014+0.0000000j ± 0.0000026 [σ²=0.0000000]]"
     ]
    },
    {
     "name": "stdout",
     "output_type": "stream",
     "text": [
      "--->> cal O and jac  0.03560900688171387\n",
      "compute_update  0.03943228721618652\n",
      "(0.00660992496686986+0j)\n",
      "n_discard =  144\n",
      "discard samples 0.7522313594818115\n",
      "n_samples_node =  1000\n",
      "generate_samples :  0.6084315776824951\n",
      "     prepare getting local values 0.0013926029205322266\n",
      "     obtained local values 0.00468754768371582\n",
      "get_mc_stats 0.007479667663574219\n"
     ]
    },
    {
     "name": "stderr",
     "output_type": "stream",
     "text": [
      " 48%|████▊     | 479/1000 [10:25<11:30,  1.32s/it, Energy=-0.0000029+0.0000000j ± 0.0000023 [σ²=0.0000000]]"
     ]
    },
    {
     "name": "stdout",
     "output_type": "stream",
     "text": [
      "--->> cal O and jac  0.035315752029418945\n",
      "compute_update  0.039186954498291016\n",
      "(0.006611503906805144+0j)\n",
      "n_discard =  144\n",
      "discard samples 0.7580873966217041\n",
      "n_samples_node =  1000\n",
      "generate_samples :  0.4507131576538086\n",
      "     prepare getting local values 0.0013489723205566406\n",
      "     obtained local values 0.004883289337158203\n",
      "get_mc_stats 0.006885528564453125\n"
     ]
    },
    {
     "name": "stderr",
     "output_type": "stream",
     "text": [
      " 48%|████▊     | 480/1000 [10:26<11:18,  1.30s/it, Energy=0.0000025+0.0000000j ± 0.0000031 [σ²=0.0000000]] "
     ]
    },
    {
     "name": "stdout",
     "output_type": "stream",
     "text": [
      "--->> cal O and jac  0.03881382942199707\n",
      "compute_update  0.040953636169433594\n",
      "(0.006613961407579556+0j)\n",
      "n_discard =  144\n",
      "discard samples 0.7571935653686523\n",
      "n_samples_node =  1000\n",
      "generate_samples :  0.45733165740966797\n",
      "     prepare getting local values 0.0013189315795898438\n",
      "     obtained local values 0.004626035690307617\n",
      "get_mc_stats 0.0060269832611083984\n"
     ]
    },
    {
     "name": "stderr",
     "output_type": "stream",
     "text": [
      " 48%|████▊     | 481/1000 [10:27<11:11,  1.29s/it, Energy=-0.0000010+0.0000000j ± 0.0000027 [σ²=0.0000000]]"
     ]
    },
    {
     "name": "stdout",
     "output_type": "stream",
     "text": [
      "--->> cal O and jac  0.039824724197387695\n",
      "compute_update  0.04257655143737793\n",
      "(0.006615318234100636+0j)\n",
      "n_discard =  144\n",
      "discard samples 0.7606792449951172\n",
      "n_samples_node =  1000\n",
      "generate_samples :  0.4560213088989258\n",
      "     prepare getting local values 0.0014023780822753906\n",
      "     obtained local values 0.004869222640991211\n",
      "get_mc_stats 0.006598949432373047\n"
     ]
    },
    {
     "name": "stderr",
     "output_type": "stream",
     "text": [
      " 48%|████▊     | 482/1000 [10:29<11:05,  1.28s/it, Energy=0.0000033+0.0000000j ± 0.0000024 [σ²=0.0000000]] "
     ]
    },
    {
     "name": "stdout",
     "output_type": "stream",
     "text": [
      "--->> cal O and jac  0.03633618354797363\n",
      "compute_update  0.03914213180541992\n",
      "(0.0066177193416523845+0j)\n",
      "n_discard =  144\n",
      "discard samples 0.7738778591156006\n",
      "n_samples_node =  1000\n",
      "generate_samples :  0.5424950122833252\n",
      "     prepare getting local values 0.002137899398803711\n",
      "     obtained local values 0.008407354354858398\n",
      "get_mc_stats 0.010739564895629883\n"
     ]
    },
    {
     "name": "stderr",
     "output_type": "stream",
     "text": [
      " 48%|████▊     | 483/1000 [10:30<11:16,  1.31s/it, Energy=-0.0000006+0.0000000j ± 0.0000029 [σ²=0.0000000]]"
     ]
    },
    {
     "name": "stdout",
     "output_type": "stream",
     "text": [
      "--->> cal O and jac  0.035729169845581055\n",
      "compute_update  0.03765130043029785\n",
      "(0.006619172256271264+0j)\n",
      "n_discard =  144\n",
      "discard samples 0.755882740020752\n",
      "n_samples_node =  1000\n",
      "generate_samples :  0.4513845443725586\n",
      "     prepare getting local values 0.0021784305572509766\n",
      "     obtained local values 0.0078887939453125\n",
      "get_mc_stats 0.01014566421508789\n"
     ]
    },
    {
     "name": "stderr",
     "output_type": "stream",
     "text": [
      " 48%|████▊     | 484/1000 [10:31<11:07,  1.29s/it, Energy=-0.0000072+0.0000000j ± 0.0000024 [σ²=0.0000000]]"
     ]
    },
    {
     "name": "stdout",
     "output_type": "stream",
     "text": [
      "--->> cal O and jac  0.03695964813232422\n",
      "compute_update  0.0406336784362793\n",
      "(0.006620770958722565+0j)\n",
      "n_discard =  144\n",
      "discard samples 0.7653357982635498\n",
      "n_samples_node =  1000\n",
      "generate_samples :  0.4538462162017822\n",
      "     prepare getting local values 0.0021924972534179688\n",
      "     obtained local values 0.008389949798583984\n",
      "get_mc_stats 0.010898113250732422\n"
     ]
    },
    {
     "name": "stderr",
     "output_type": "stream",
     "text": [
      " 48%|████▊     | 485/1000 [10:33<11:03,  1.29s/it, Energy=-0.0000018+0.0000000j ± 0.0000032 [σ²=0.0000000]]"
     ]
    },
    {
     "name": "stdout",
     "output_type": "stream",
     "text": [
      "--->> cal O and jac  0.03763937950134277\n",
      "compute_update  0.03973889350891113\n",
      "(0.006622785998058572+0j)\n",
      "n_discard =  144\n",
      "discard samples 0.75650954246521\n",
      "n_samples_node =  1000\n",
      "generate_samples :  0.5278410911560059\n",
      "     prepare getting local values 0.0027098655700683594\n",
      "     obtained local values 0.008128643035888672\n",
      "get_mc_stats 0.010880231857299805\n"
     ]
    },
    {
     "name": "stderr",
     "output_type": "stream",
     "text": [
      " 49%|████▊     | 486/1000 [10:34<11:09,  1.30s/it, Energy=0.0000014+0.0000000j ± 0.0000024 [σ²=0.0000000]] "
     ]
    },
    {
     "name": "stdout",
     "output_type": "stream",
     "text": [
      "--->> cal O and jac  0.038260698318481445\n",
      "compute_update  0.041584014892578125\n",
      "(0.0066244054062010215+0j)\n",
      "n_discard =  144\n",
      "discard samples 0.7559010982513428\n",
      "n_samples_node =  1000\n",
      "generate_samples :  0.4503495693206787\n",
      "     prepare getting local values 0.0022208690643310547\n",
      "     obtained local values 0.007803916931152344\n",
      "get_mc_stats 0.009545087814331055\n"
     ]
    },
    {
     "name": "stderr",
     "output_type": "stream",
     "text": [
      " 49%|████▊     | 487/1000 [10:35<11:01,  1.29s/it, Energy=-0.0000043+0.0000000j ± 0.0000026 [σ²=0.0000000]]"
     ]
    },
    {
     "name": "stdout",
     "output_type": "stream",
     "text": [
      "--->> cal O and jac  0.04039168357849121\n",
      "compute_update  0.04252910614013672\n",
      "(0.006626523259595544+0j)\n",
      "n_discard =  144\n",
      "discard samples 0.7527823448181152\n",
      "n_samples_node =  1000\n",
      "generate_samples :  0.45865702629089355\n",
      "     prepare getting local values 0.0012593269348144531\n",
      "     obtained local values 0.004538774490356445\n",
      "get_mc_stats 0.005861997604370117\n"
     ]
    },
    {
     "name": "stderr",
     "output_type": "stream",
     "text": [
      " 49%|████▉     | 488/1000 [10:36<10:56,  1.28s/it, Energy=0.0000021+0.0000000j ± 0.0000025 [σ²=0.0000000]] "
     ]
    },
    {
     "name": "stdout",
     "output_type": "stream",
     "text": [
      "--->> cal O and jac  0.03848123550415039\n",
      "compute_update  0.042432546615600586\n",
      "(0.006628367472520173+0j)\n",
      "n_discard =  144\n",
      "discard samples 0.841660737991333\n",
      "n_samples_node =  1000\n",
      "generate_samples :  0.4750699996948242\n",
      "     prepare getting local values 0.0026710033416748047\n",
      "     obtained local values 0.009768247604370117\n",
      "get_mc_stats 0.01235342025756836\n"
     ]
    },
    {
     "name": "stderr",
     "output_type": "stream",
     "text": [
      " 49%|████▉     | 489/1000 [10:38<11:08,  1.31s/it, Energy=-0.0000035+0.0000000j ± 0.0000024 [σ²=0.0000000]]"
     ]
    },
    {
     "name": "stdout",
     "output_type": "stream",
     "text": [
      "--->> cal O and jac  0.03696441650390625\n",
      "compute_update  0.04096055030822754\n",
      "(0.006629683713272939+0j)\n",
      "n_discard =  144\n",
      "discard samples 0.770031213760376\n",
      "n_samples_node =  1000\n",
      "generate_samples :  0.46165966987609863\n",
      "     prepare getting local values 0.0013604164123535156\n",
      "     obtained local values 0.004816293716430664\n",
      "get_mc_stats 0.006612062454223633\n"
     ]
    },
    {
     "name": "stderr",
     "output_type": "stream",
     "text": [
      " 49%|████▉     | 490/1000 [10:39<11:02,  1.30s/it, Energy=-0.0000010+0.0000000j ± 0.0000024 [σ²=0.0000000]]"
     ]
    },
    {
     "name": "stdout",
     "output_type": "stream",
     "text": [
      "--->> cal O and jac  0.03659939765930176\n",
      "compute_update  0.038762807846069336\n",
      "(0.006630983683281776+0j)\n",
      "n_discard =  144\n",
      "discard samples 0.7547705173492432\n",
      "n_samples_node =  1000\n",
      "generate_samples :  0.45552849769592285\n",
      "     prepare getting local values 0.0013911724090576172\n",
      "     obtained local values 0.00726771354675293\n",
      "get_mc_stats 0.009304523468017578\n"
     ]
    },
    {
     "name": "stderr",
     "output_type": "stream",
     "text": [
      " 49%|████▉     | 491/1000 [10:40<10:56,  1.29s/it, Energy=0.0000021+0.0000000j ± 0.0000025 [σ²=0.0000000]] "
     ]
    },
    {
     "name": "stdout",
     "output_type": "stream",
     "text": [
      "--->> cal O and jac  0.042162418365478516\n",
      "compute_update  0.04440784454345703\n",
      "(0.006632986672502876+0j)\n",
      "n_discard =  144\n",
      "discard samples 0.7533037662506104\n",
      "n_samples_node =  1000\n",
      "generate_samples :  0.4480321407318115\n",
      "     prepare getting local values 0.0013568401336669922\n",
      "     obtained local values 0.0048215389251708984\n",
      "get_mc_stats 0.006721019744873047\n"
     ]
    },
    {
     "name": "stderr",
     "output_type": "stream",
     "text": [
      " 49%|████▉     | 492/1000 [10:42<10:49,  1.28s/it, Energy=-0.0000010+0.0000000j ± 0.0000019 [σ²=0.0000000]]"
     ]
    },
    {
     "name": "stdout",
     "output_type": "stream",
     "text": [
      "--->> cal O and jac  0.03779745101928711\n",
      "compute_update  0.04181623458862305\n",
      "(0.006634383660613807+0j)\n",
      "n_discard =  144\n",
      "discard samples 0.7542455196380615\n",
      "n_samples_node =  1000\n",
      "generate_samples :  0.44786715507507324\n",
      "     prepare getting local values 0.0023925304412841797\n",
      "     obtained local values 0.008584976196289062\n",
      "get_mc_stats 0.011475563049316406\n"
     ]
    },
    {
     "name": "stderr",
     "output_type": "stream",
     "text": [
      " 49%|████▉     | 493/1000 [10:43<10:45,  1.27s/it, Energy=0.0000046+0.0000000j ± 0.0000025 [σ²=0.0000000]] "
     ]
    },
    {
     "name": "stdout",
     "output_type": "stream",
     "text": [
      "--->> cal O and jac  0.044554710388183594\n",
      "compute_update  0.047788143157958984\n",
      "(0.006636461835674592+0j)\n",
      "n_discard =  144\n",
      "discard samples 0.753150224685669\n",
      "n_samples_node =  1000\n",
      "generate_samples :  0.4500772953033447\n",
      "     prepare getting local values 0.0013442039489746094\n",
      "     obtained local values 0.004855632781982422\n",
      "get_mc_stats 0.00638580322265625\n"
     ]
    },
    {
     "name": "stderr",
     "output_type": "stream",
     "text": [
      " 49%|████▉     | 494/1000 [10:44<10:41,  1.27s/it, Energy=-0.0000015+0.0000000j ± 0.0000023 [σ²=0.0000000]]"
     ]
    },
    {
     "name": "stdout",
     "output_type": "stream",
     "text": [
      "--->> cal O and jac  0.03845381736755371\n",
      "compute_update  0.04071831703186035\n",
      "(0.006638665418951674+0j)\n",
      "n_discard =  144\n",
      "discard samples 0.8007833957672119\n",
      "n_samples_node =  1000\n",
      "generate_samples :  0.45148706436157227\n",
      "     prepare getting local values 0.0013148784637451172\n",
      "     obtained local values 0.004614830017089844\n",
      "get_mc_stats 0.006457805633544922\n"
     ]
    },
    {
     "name": "stderr",
     "output_type": "stream",
     "text": [
      " 50%|████▉     | 495/1000 [10:45<10:44,  1.28s/it, Energy=-0.0000017+0.0000000j ± 0.0000029 [σ²=0.0000000]]"
     ]
    },
    {
     "name": "stdout",
     "output_type": "stream",
     "text": [
      "--->> cal O and jac  0.03644609451293945\n",
      "compute_update  0.038583993911743164\n",
      "(0.006640806155539746+0j)\n",
      "n_discard =  144\n",
      "discard samples 0.7540700435638428\n",
      "n_samples_node =  1000\n",
      "generate_samples :  0.45189905166625977\n",
      "     prepare getting local values 0.0013527870178222656\n",
      "     obtained local values 0.004767894744873047\n",
      "get_mc_stats 0.006533622741699219\n"
     ]
    },
    {
     "name": "stderr",
     "output_type": "stream",
     "text": [
      " 50%|████▉     | 496/1000 [10:47<10:40,  1.27s/it, Energy=-0.0000029+0.0000000j ± 0.0000024 [σ²=0.0000000]]"
     ]
    },
    {
     "name": "stdout",
     "output_type": "stream",
     "text": [
      "--->> cal O and jac  0.04082798957824707\n",
      "compute_update  0.04300975799560547\n",
      "(0.006642470575861217+0j)\n",
      "n_discard =  144\n",
      "discard samples 0.9954240322113037\n",
      "n_samples_node =  1000\n",
      "generate_samples :  0.4504432678222656\n",
      "     prepare getting local values 0.002259969711303711\n",
      "     obtained local values 0.00580596923828125\n",
      "get_mc_stats 0.008147478103637695\n"
     ]
    },
    {
     "name": "stderr",
     "output_type": "stream",
     "text": [
      " 50%|████▉     | 497/1000 [10:48<11:13,  1.34s/it, Energy=-0.0000040+0.0000000j ± 0.0000024 [σ²=0.0000000]]"
     ]
    },
    {
     "name": "stdout",
     "output_type": "stream",
     "text": [
      "--->> cal O and jac  0.0373225212097168\n",
      "compute_update  0.04026079177856445\n",
      "(0.006644206834887582+0j)\n",
      "n_discard =  144\n",
      "discard samples 0.768244743347168\n",
      "n_samples_node =  1000\n",
      "generate_samples :  0.44362926483154297\n",
      "     prepare getting local values 0.001375436782836914\n",
      "     obtained local values 0.0049724578857421875\n",
      "get_mc_stats 0.0067234039306640625\n"
     ]
    },
    {
     "name": "stderr",
     "output_type": "stream",
     "text": [
      " 50%|████▉     | 498/1000 [10:49<11:00,  1.32s/it, Energy=0.0000008+0.0000000j ± 0.0000024 [σ²=0.0000000]] "
     ]
    },
    {
     "name": "stdout",
     "output_type": "stream",
     "text": [
      "--->> cal O and jac  0.03673219680786133\n",
      "compute_update  0.03938174247741699\n",
      "(0.006645994332489706+0j)\n",
      "n_discard =  144\n",
      "discard samples 0.7587778568267822\n",
      "n_samples_node =  1000\n",
      "generate_samples :  0.447770357131958\n",
      "     prepare getting local values 0.0014019012451171875\n",
      "     obtained local values 0.004914045333862305\n",
      "get_mc_stats 0.006498098373413086\n"
     ]
    },
    {
     "name": "stderr",
     "output_type": "stream",
     "text": [
      " 50%|████▉     | 499/1000 [10:51<10:50,  1.30s/it, Energy=-0.0000038+0.0000000j ± 0.0000026 [σ²=0.0000000]]"
     ]
    },
    {
     "name": "stdout",
     "output_type": "stream",
     "text": [
      "--->> cal O and jac  0.04116988182067871\n",
      "compute_update  0.04337930679321289\n",
      "(0.006646822584020672+0j)\n",
      "n_discard =  144\n",
      "discard samples 0.8024556636810303\n",
      "n_samples_node =  1000\n",
      "generate_samples :  0.45034170150756836\n",
      "     prepare getting local values 0.0013573169708251953\n",
      "     obtained local values 0.0046689510345458984\n",
      "get_mc_stats 0.0066204071044921875\n"
     ]
    },
    {
     "name": "stderr",
     "output_type": "stream",
     "text": [
      " 50%|█████     | 500/1000 [10:52<10:50,  1.30s/it, Energy=-0.0000041+0.0000000j ± 0.0000024 [σ²=0.0000000]]"
     ]
    },
    {
     "name": "stdout",
     "output_type": "stream",
     "text": [
      "--->> cal O and jac  0.04174089431762695\n",
      "compute_update  0.045041561126708984\n",
      "(0.006648022492486756+0j)\n",
      "n_discard =  144\n",
      "discard samples 0.7616593837738037\n",
      "n_samples_node =  1000\n",
      "generate_samples :  0.4517829418182373\n",
      "     prepare getting local values 0.0025641918182373047\n",
      "     obtained local values 0.00767827033996582\n",
      "get_mc_stats 0.010238409042358398\n"
     ]
    },
    {
     "name": "stderr",
     "output_type": "stream",
     "text": [
      " 50%|█████     | 501/1000 [10:53<10:44,  1.29s/it, Energy=-0.0000012+0.0000000j ± 0.0000025 [σ²=0.0000000]]"
     ]
    },
    {
     "name": "stdout",
     "output_type": "stream",
     "text": [
      "--->> cal O and jac  0.039566755294799805\n",
      "compute_update  0.04361987113952637\n",
      "(0.006649977970288108+0j)\n",
      "n_discard =  144\n",
      "discard samples 0.7697403430938721\n",
      "n_samples_node =  1000\n",
      "generate_samples :  0.45256733894348145\n",
      "     prepare getting local values 0.0022602081298828125\n",
      "     obtained local values 0.008219003677368164\n",
      "get_mc_stats 0.010802984237670898\n"
     ]
    },
    {
     "name": "stderr",
     "output_type": "stream",
     "text": [
      " 50%|█████     | 502/1000 [10:55<10:40,  1.29s/it, Energy=0.0000006+0.0000000j ± 0.0000024 [σ²=0.0000000]] "
     ]
    },
    {
     "name": "stdout",
     "output_type": "stream",
     "text": [
      "--->> cal O and jac  0.04014420509338379\n",
      "compute_update  0.04211711883544922\n",
      "(0.006651754204726568+0j)\n",
      "n_discard =  144\n",
      "discard samples 0.9707028865814209\n",
      "n_samples_node =  1000\n",
      "generate_samples :  0.45702362060546875\n",
      "     prepare getting local values 0.001405477523803711\n",
      "     obtained local values 0.007025241851806641\n",
      "get_mc_stats 0.009032249450683594\n"
     ]
    },
    {
     "name": "stderr",
     "output_type": "stream",
     "text": [
      " 50%|█████     | 503/1000 [10:56<11:08,  1.34s/it, Energy=-0.0000001+0.0000000j ± 0.0000028 [σ²=0.0000000]]"
     ]
    },
    {
     "name": "stdout",
     "output_type": "stream",
     "text": [
      "--->> cal O and jac  0.03872823715209961\n",
      "compute_update  0.04072260856628418\n",
      "(0.006653780017725815+0j)\n",
      "n_discard =  144\n",
      "discard samples 0.7539463043212891\n",
      "n_samples_node =  1000\n",
      "generate_samples :  0.4679279327392578\n",
      "     prepare getting local values 0.001417398452758789\n",
      "     obtained local values 0.0048673152923583984\n",
      "get_mc_stats 0.006741523742675781\n"
     ]
    },
    {
     "name": "stderr",
     "output_type": "stream",
     "text": [
      " 50%|█████     | 504/1000 [10:57<10:55,  1.32s/it, Energy=-0.0000031+0.0000000j ± 0.0000024 [σ²=0.0000000]]"
     ]
    },
    {
     "name": "stdout",
     "output_type": "stream",
     "text": [
      "--->> cal O and jac  0.038431406021118164\n",
      "compute_update  0.04063105583190918\n",
      "(0.006655634064781059+0j)\n",
      "n_discard =  144\n",
      "discard samples 0.757401704788208\n",
      "n_samples_node =  1000\n",
      "generate_samples :  0.44893336296081543\n",
      "     prepare getting local values 0.0022895336151123047\n",
      "     obtained local values 0.0068857669830322266\n",
      "get_mc_stats 0.009551763534545898\n"
     ]
    },
    {
     "name": "stderr",
     "output_type": "stream",
     "text": [
      " 50%|█████     | 505/1000 [10:59<10:45,  1.30s/it, Energy=-0.0000006+0.0000000j ± 0.0000022 [σ²=0.0000000]]"
     ]
    },
    {
     "name": "stdout",
     "output_type": "stream",
     "text": [
      "--->> cal O and jac  0.04324007034301758\n",
      "compute_update  0.046080827713012695\n",
      "(0.006657009797352937+0j)\n",
      "n_discard =  144\n",
      "discard samples 0.7597353458404541\n",
      "n_samples_node =  1000\n",
      "generate_samples :  0.4564023017883301\n",
      "     prepare getting local values 0.0023086071014404297\n",
      "     obtained local values 0.008452415466308594\n",
      "get_mc_stats 0.01031494140625\n"
     ]
    },
    {
     "name": "stderr",
     "output_type": "stream",
     "text": [
      " 51%|█████     | 506/1000 [11:00<10:39,  1.30s/it, Energy=-0.0000068+0.0000000j ± 0.0000022 [σ²=0.0000000]]"
     ]
    },
    {
     "name": "stdout",
     "output_type": "stream",
     "text": [
      "--->> cal O and jac  0.04014396667480469\n",
      "compute_update  0.043242692947387695\n",
      "(0.00665797628468684+0j)\n",
      "n_discard =  144\n",
      "discard samples 0.757082462310791\n",
      "n_samples_node =  1000\n",
      "generate_samples :  0.45989561080932617\n",
      "     prepare getting local values 0.0014035701751708984\n",
      "     obtained local values 0.004736900329589844\n",
      "get_mc_stats 0.0065155029296875\n"
     ]
    },
    {
     "name": "stderr",
     "output_type": "stream",
     "text": [
      " 51%|█████     | 507/1000 [11:01<10:35,  1.29s/it, Energy=-0.0000023+0.0000000j ± 0.0000023 [σ²=0.0000000]]"
     ]
    },
    {
     "name": "stdout",
     "output_type": "stream",
     "text": [
      "--->> cal O and jac  0.04572653770446777\n",
      "compute_update  0.047658443450927734\n",
      "(0.006659682411412497+0j)\n",
      "n_discard =  144\n",
      "discard samples 0.7524471282958984\n",
      "n_samples_node =  1000\n",
      "generate_samples :  0.45067286491394043\n",
      "     prepare getting local values 0.001402139663696289\n",
      "     obtained local values 0.004820823669433594\n",
      "get_mc_stats 0.0063343048095703125\n"
     ]
    },
    {
     "name": "stderr",
     "output_type": "stream",
     "text": [
      " 51%|█████     | 508/1000 [11:02<10:29,  1.28s/it, Energy=0.0000030+0.0000000j ± 0.0000024 [σ²=0.0000000]] "
     ]
    },
    {
     "name": "stdout",
     "output_type": "stream",
     "text": [
      "--->> cal O and jac  0.04047799110412598\n",
      "compute_update  0.044379472732543945\n",
      "(0.006661533607138191+0j)\n",
      "n_discard =  144\n",
      "discard samples 0.758336067199707\n",
      "n_samples_node =  1000\n",
      "generate_samples :  0.49581098556518555\n",
      "     prepare getting local values 0.0012934207916259766\n",
      "     obtained local values 0.0046689510345458984\n",
      "get_mc_stats 0.00647282600402832\n"
     ]
    },
    {
     "name": "stderr",
     "output_type": "stream",
     "text": [
      " 51%|█████     | 509/1000 [11:04<10:31,  1.29s/it, Energy=-0.0000011+0.0000000j ± 0.0000022 [σ²=0.0000000]]"
     ]
    },
    {
     "name": "stdout",
     "output_type": "stream",
     "text": [
      "--->> cal O and jac  0.037261962890625\n",
      "compute_update  0.03989124298095703\n",
      "(0.006663015062733465+0j)\n",
      "n_discard =  144\n",
      "discard samples 0.7694463729858398\n",
      "n_samples_node =  1000\n",
      "generate_samples :  0.44899916648864746\n",
      "     prepare getting local values 0.001386880874633789\n",
      "     obtained local values 0.005044221878051758\n",
      "get_mc_stats 0.0070803165435791016\n"
     ]
    },
    {
     "name": "stderr",
     "output_type": "stream",
     "text": [
      " 51%|█████     | 510/1000 [11:05<10:27,  1.28s/it, Energy=0.0000030+0.0000000j ± 0.0000017 [σ²=0.0000000]] "
     ]
    },
    {
     "name": "stdout",
     "output_type": "stream",
     "text": [
      "--->> cal O and jac  0.04100966453552246\n",
      "compute_update  0.04432225227355957\n",
      "(0.006664534011984878+0j)\n",
      "n_discard =  144\n",
      "discard samples 0.7537503242492676\n",
      "n_samples_node =  1000\n",
      "generate_samples :  0.6103839874267578\n",
      "     prepare getting local values 0.0026667118072509766\n",
      "     obtained local values 0.008084535598754883\n",
      "get_mc_stats 0.011107921600341797\n"
     ]
    },
    {
     "name": "stderr",
     "output_type": "stream",
     "text": [
      " 51%|█████     | 511/1000 [11:06<10:46,  1.32s/it, Energy=-0.0000004+0.0000000j ± 0.0000025 [σ²=0.0000000]]"
     ]
    },
    {
     "name": "stdout",
     "output_type": "stream",
     "text": [
      "--->> cal O and jac  0.03670048713684082\n",
      "compute_update  0.039890289306640625\n",
      "(0.006666189841809031+0j)\n",
      "n_discard =  144\n",
      "discard samples 0.7560029029846191\n",
      "n_samples_node =  1000\n",
      "generate_samples :  0.4516565799713135\n",
      "     prepare getting local values 0.0013511180877685547\n",
      "     obtained local values 0.0048220157623291016\n",
      "get_mc_stats 0.006596803665161133\n"
     ]
    },
    {
     "name": "stderr",
     "output_type": "stream",
     "text": [
      " 51%|█████     | 512/1000 [11:08<10:36,  1.30s/it, Energy=-0.0000034+0.0000000j ± 0.0000025 [σ²=0.0000000]]"
     ]
    },
    {
     "name": "stdout",
     "output_type": "stream",
     "text": [
      "--->> cal O and jac  0.04148459434509277\n",
      "compute_update  0.044782400131225586\n",
      "(0.006667899047588726+0j)\n",
      "n_discard =  144\n",
      "discard samples 0.7544620037078857\n",
      "n_samples_node =  1000\n",
      "generate_samples :  0.45027637481689453\n",
      "     prepare getting local values 0.0020902156829833984\n",
      "     obtained local values 0.008481979370117188\n",
      "get_mc_stats 0.01079416275024414\n"
     ]
    },
    {
     "name": "stderr",
     "output_type": "stream",
     "text": [
      " 51%|█████▏    | 513/1000 [11:09<10:28,  1.29s/it, Energy=0.0000009+0.0000000j ± 0.0000022 [σ²=0.0000000]] "
     ]
    },
    {
     "name": "stdout",
     "output_type": "stream",
     "text": [
      "--->> cal O and jac  0.038335323333740234\n",
      "compute_update  0.04141378402709961\n",
      "(0.006668874381581947+0j)\n",
      "n_discard =  144\n",
      "discard samples 0.7499184608459473\n",
      "n_samples_node =  1000\n",
      "generate_samples :  0.5711634159088135\n",
      "     prepare getting local values 0.0014107227325439453\n",
      "     obtained local values 0.004678487777709961\n",
      "get_mc_stats 0.006480693817138672\n"
     ]
    },
    {
     "name": "stderr",
     "output_type": "stream",
     "text": [
      " 51%|█████▏    | 514/1000 [11:10<10:39,  1.32s/it, Energy=0.0000008+0.0000000j ± 0.0000027 [σ²=0.0000000]]"
     ]
    },
    {
     "name": "stdout",
     "output_type": "stream",
     "text": [
      "--->> cal O and jac  0.04024958610534668\n",
      "compute_update  0.04402327537536621\n",
      "(0.006670280094189836+0j)\n",
      "n_discard =  144\n",
      "discard samples 0.7619714736938477\n",
      "n_samples_node =  1000\n",
      "generate_samples :  0.4469161033630371\n",
      "     prepare getting local values 0.002656221389770508\n",
      "     obtained local values 0.00592803955078125\n",
      "get_mc_stats 0.008476734161376953\n"
     ]
    },
    {
     "name": "stderr",
     "output_type": "stream",
     "text": [
      " 52%|█████▏    | 515/1000 [11:11<10:29,  1.30s/it, Energy=0.0000019+0.0000000j ± 0.0000024 [σ²=0.0000000]]"
     ]
    },
    {
     "name": "stdout",
     "output_type": "stream",
     "text": [
      "--->> cal O and jac  0.036557912826538086\n",
      "compute_update  0.03990483283996582\n",
      "(0.006672283936876678+0j)\n",
      "n_discard =  144\n",
      "discard samples 0.7562789916992188\n",
      "n_samples_node =  1000\n",
      "generate_samples :  0.4519476890563965\n",
      "     prepare getting local values 0.0026869773864746094\n",
      "     obtained local values 0.00881505012512207\n",
      "get_mc_stats 0.011496305465698242\n"
     ]
    },
    {
     "name": "stderr",
     "output_type": "stream",
     "text": [
      " 52%|█████▏    | 516/1000 [11:13<10:23,  1.29s/it, Energy=-0.0000002+0.0000000j ± 0.0000023 [σ²=0.0000000]]"
     ]
    },
    {
     "name": "stdout",
     "output_type": "stream",
     "text": [
      "--->> cal O and jac  0.03822803497314453\n",
      "compute_update  0.04133439064025879\n",
      "(0.006673385794269403+0j)\n",
      "n_discard =  144\n",
      "discard samples 0.7594141960144043\n",
      "n_samples_node =  1000\n",
      "generate_samples :  0.44742488861083984\n",
      "     prepare getting local values 0.0013017654418945312\n",
      "     obtained local values 0.004583597183227539\n",
      "get_mc_stats 0.006476402282714844\n"
     ]
    },
    {
     "name": "stderr",
     "output_type": "stream",
     "text": [
      " 52%|█████▏    | 517/1000 [11:14<10:18,  1.28s/it, Energy=0.0000007+0.0000000j ± 0.0000018 [σ²=0.0000000]] "
     ]
    },
    {
     "name": "stdout",
     "output_type": "stream",
     "text": [
      "--->> cal O and jac  0.04158449172973633\n",
      "compute_update  0.0444486141204834\n",
      "(0.006675264520143141+0j)\n",
      "n_discard =  144\n",
      "discard samples 0.7531874179840088\n",
      "n_samples_node =  1000\n",
      "generate_samples :  0.44891905784606934\n",
      "     prepare getting local values 0.00214385986328125\n",
      "     obtained local values 0.00845646858215332\n",
      "get_mc_stats 0.010612010955810547\n"
     ]
    },
    {
     "name": "stderr",
     "output_type": "stream",
     "text": [
      " 52%|█████▏    | 518/1000 [11:15<10:13,  1.27s/it, Energy=0.0000000+0.0000000j ± 0.0000020 [σ²=0.0000000]]"
     ]
    },
    {
     "name": "stdout",
     "output_type": "stream",
     "text": [
      "--->> cal O and jac  0.038251638412475586\n",
      "compute_update  0.041383981704711914\n",
      "(0.006676922188564265+0j)\n",
      "n_discard =  144\n",
      "discard samples 0.7587809562683105\n",
      "n_samples_node =  1000\n",
      "generate_samples :  0.5056939125061035\n",
      "     prepare getting local values 0.0026574134826660156\n",
      "     obtained local values 0.00953054428100586\n",
      "get_mc_stats 0.012152910232543945\n"
     ]
    },
    {
     "name": "stderr",
     "output_type": "stream",
     "text": [
      " 52%|█████▏    | 519/1000 [11:17<10:19,  1.29s/it, Energy=0.0000014+0.0000000j ± 0.0000021 [σ²=0.0000000]]"
     ]
    },
    {
     "name": "stdout",
     "output_type": "stream",
     "text": [
      "--->> cal O and jac  0.03831768035888672\n",
      "compute_update  0.04391598701477051\n",
      "(0.006678349645164543+0j)\n",
      "n_discard =  144\n",
      "discard samples 0.8146483898162842\n",
      "n_samples_node =  1000\n",
      "generate_samples :  0.4483489990234375\n",
      "     prepare getting local values 0.0013942718505859375\n",
      "     obtained local values 0.0048406124114990234\n",
      "get_mc_stats 0.006261110305786133\n"
     ]
    },
    {
     "name": "stderr",
     "output_type": "stream",
     "text": [
      " 52%|█████▏    | 520/1000 [11:18<10:22,  1.30s/it, Energy=0.0000059+0.0000000j ± 0.0000017 [σ²=0.0000000]]"
     ]
    },
    {
     "name": "stdout",
     "output_type": "stream",
     "text": [
      "--->> cal O and jac  0.04378104209899902\n",
      "compute_update  0.04701519012451172\n",
      "(0.00668000513243173+0j)\n",
      "n_discard =  144\n",
      "discard samples 0.7531983852386475\n",
      "n_samples_node =  1000\n",
      "generate_samples :  0.4606900215148926\n",
      "     prepare getting local values 0.0012652873992919922\n",
      "     obtained local values 0.004609107971191406\n",
      "get_mc_stats 0.006373167037963867\n"
     ]
    },
    {
     "name": "stderr",
     "output_type": "stream",
     "text": [
      " 52%|█████▏    | 521/1000 [11:19<10:16,  1.29s/it, Energy=-0.0000013+0.0000000j ± 0.0000021 [σ²=0.0000000]]"
     ]
    },
    {
     "name": "stdout",
     "output_type": "stream",
     "text": [
      "--->> cal O and jac  0.036286354064941406\n",
      "compute_update  0.03930926322937012\n",
      "(0.0066816063708060765+0j)\n",
      "n_discard =  144\n",
      "discard samples 0.8341505527496338\n",
      "n_samples_node =  1000\n",
      "generate_samples :  0.45255088806152344\n",
      "     prepare getting local values 0.0013432502746582031\n",
      "     obtained local values 0.004791259765625\n",
      "get_mc_stats 0.006361961364746094\n"
     ]
    },
    {
     "name": "stderr",
     "output_type": "stream",
     "text": [
      " 52%|█████▏    | 522/1000 [11:20<10:22,  1.30s/it, Energy=-0.0000005+0.0000000j ± 0.0000019 [σ²=0.0000000]]"
     ]
    },
    {
     "name": "stdout",
     "output_type": "stream",
     "text": [
      "--->> cal O and jac  0.037926435470581055\n",
      "compute_update  0.041252851486206055\n",
      "(0.00668262391864774+0j)\n",
      "n_discard =  144\n",
      "discard samples 0.7570526599884033\n",
      "n_samples_node =  1000\n",
      "generate_samples :  0.45554304122924805\n",
      "     prepare getting local values 0.0012845993041992188\n",
      "     obtained local values 0.00457453727722168\n",
      "get_mc_stats 0.006226778030395508\n"
     ]
    },
    {
     "name": "stderr",
     "output_type": "stream",
     "text": [
      " 52%|█████▏    | 523/1000 [11:22<10:14,  1.29s/it, Energy=-0.0000009+0.0000000j ± 0.0000020 [σ²=0.0000000]]"
     ]
    },
    {
     "name": "stdout",
     "output_type": "stream",
     "text": [
      "--->> cal O and jac  0.038028717041015625\n",
      "compute_update  0.040136098861694336\n",
      "(0.006684186167037976+0j)\n",
      "n_discard =  144\n",
      "discard samples 0.753593921661377\n",
      "n_samples_node =  1000\n",
      "generate_samples :  0.44542932510375977\n",
      "     prepare getting local values 0.001428365707397461\n",
      "     obtained local values 0.004934549331665039\n",
      "get_mc_stats 0.007030487060546875\n"
     ]
    },
    {
     "name": "stderr",
     "output_type": "stream",
     "text": [
      " 52%|█████▏    | 524/1000 [11:23<10:07,  1.28s/it, Energy=-0.0000022+0.0000000j ± 0.0000023 [σ²=0.0000000]]"
     ]
    },
    {
     "name": "stdout",
     "output_type": "stream",
     "text": [
      "--->> cal O and jac  0.03757524490356445\n",
      "compute_update  0.03963279724121094\n",
      "(0.0066857653453402935+0j)\n",
      "n_discard =  144\n",
      "discard samples 0.752739429473877\n",
      "n_samples_node =  1000\n",
      "generate_samples :  0.45012354850769043\n",
      "     prepare getting local values 0.0012879371643066406\n",
      "     obtained local values 0.0045833587646484375\n",
      "get_mc_stats 0.006294727325439453\n"
     ]
    },
    {
     "name": "stderr",
     "output_type": "stream",
     "text": [
      " 52%|█████▎    | 525/1000 [11:24<10:03,  1.27s/it, Energy=0.0000011+0.0000000j ± 0.0000025 [σ²=0.0000000]] "
     ]
    },
    {
     "name": "stdout",
     "output_type": "stream",
     "text": [
      "--->> cal O and jac  0.042600154876708984\n",
      "compute_update  0.046114444732666016\n",
      "(0.006687392944628548+0j)\n",
      "n_discard =  144\n",
      "discard samples 0.7576601505279541\n",
      "n_samples_node =  1000\n",
      "generate_samples :  0.4528532028198242\n",
      "     prepare getting local values 0.0012640953063964844\n",
      "     obtained local values 0.004731893539428711\n",
      "get_mc_stats 0.006506204605102539\n"
     ]
    },
    {
     "name": "stderr",
     "output_type": "stream",
     "text": [
      " 53%|█████▎    | 526/1000 [11:26<10:00,  1.27s/it, Energy=-0.0000004+0.0000000j ± 0.0000016 [σ²=0.0000000]]"
     ]
    },
    {
     "name": "stdout",
     "output_type": "stream",
     "text": [
      "--->> cal O and jac  0.037053585052490234\n",
      "compute_update  0.040834903717041016\n",
      "(0.006688780349681866+0j)\n",
      "n_discard =  144\n",
      "discard samples 0.7567217350006104\n",
      "n_samples_node =  1000\n",
      "generate_samples :  0.5992138385772705\n",
      "     prepare getting local values 0.002957582473754883\n",
      "     obtained local values 0.009647846221923828\n",
      "get_mc_stats 0.012840509414672852\n"
     ]
    },
    {
     "name": "stderr",
     "output_type": "stream",
     "text": [
      " 53%|█████▎    | 527/1000 [11:27<10:20,  1.31s/it, Energy=-0.0000010+0.0000000j ± 0.0000017 [σ²=0.0000000]]"
     ]
    },
    {
     "name": "stdout",
     "output_type": "stream",
     "text": [
      "--->> cal O and jac  0.03871774673461914\n",
      "compute_update  0.04200124740600586\n",
      "(0.006689691809764711+0j)\n",
      "n_discard =  144\n",
      "discard samples 1.034306287765503\n",
      "n_samples_node =  1000\n",
      "generate_samples :  0.44947314262390137\n",
      "     prepare getting local values 0.00141143798828125\n",
      "     obtained local values 0.004950523376464844\n",
      "get_mc_stats 0.006687641143798828\n"
     ]
    },
    {
     "name": "stderr",
     "output_type": "stream",
     "text": [
      " 53%|█████▎    | 528/1000 [11:28<10:50,  1.38s/it, Energy=-0.0000004+0.0000000j ± 0.0000018 [σ²=0.0000000]]"
     ]
    },
    {
     "name": "stdout",
     "output_type": "stream",
     "text": [
      "--->> cal O and jac  0.043163299560546875\n",
      "compute_update  0.04552960395812988\n",
      "(0.006690927047680813+0j)\n",
      "n_discard =  144\n",
      "discard samples 0.7591171264648438\n",
      "n_samples_node =  1000\n",
      "generate_samples :  0.45156097412109375\n",
      "     prepare getting local values 0.0020751953125\n",
      "     obtained local values 0.008138895034790039\n",
      "get_mc_stats 0.01006174087524414\n"
     ]
    },
    {
     "name": "stderr",
     "output_type": "stream",
     "text": [
      " 53%|█████▎    | 529/1000 [11:30<10:33,  1.34s/it, Energy=-0.0000003+0.0000000j ± 0.0000016 [σ²=0.0000000]]"
     ]
    },
    {
     "name": "stdout",
     "output_type": "stream",
     "text": [
      "--->> cal O and jac  0.03676939010620117\n",
      "compute_update  0.03982734680175781\n",
      "(0.006692275472267349+0j)\n",
      "n_discard =  144\n",
      "discard samples 0.7499306201934814\n",
      "n_samples_node =  1000\n",
      "generate_samples :  0.45340824127197266\n",
      "     prepare getting local values 0.0022690296173095703\n",
      "     obtained local values 0.007632255554199219\n",
      "get_mc_stats 0.010426759719848633\n"
     ]
    },
    {
     "name": "stderr",
     "output_type": "stream",
     "text": [
      " 53%|█████▎    | 530/1000 [11:31<10:20,  1.32s/it, Energy=-0.0000003+0.0000000j ± 0.0000021 [σ²=0.0000000]]"
     ]
    },
    {
     "name": "stdout",
     "output_type": "stream",
     "text": [
      "--->> cal O and jac  0.04465365409851074\n",
      "compute_update  0.046788692474365234\n",
      "(0.006693411939014019+0j)\n",
      "n_discard =  144\n",
      "discard samples 0.7552030086517334\n",
      "n_samples_node =  1000\n",
      "generate_samples :  0.4553399085998535\n",
      "     prepare getting local values 0.002688884735107422\n",
      "     obtained local values 0.008443593978881836\n",
      "get_mc_stats 0.01120615005493164\n"
     ]
    },
    {
     "name": "stderr",
     "output_type": "stream",
     "text": [
      " 53%|█████▎    | 531/1000 [11:32<10:11,  1.30s/it, Energy=0.0000007+0.0000000j ± 0.0000021 [σ²=0.0000000]] "
     ]
    },
    {
     "name": "stdout",
     "output_type": "stream",
     "text": [
      "--->> cal O and jac  0.038779258728027344\n",
      "compute_update  0.04212379455566406\n",
      "(0.006694878424276975+0j)\n",
      "n_discard =  144\n",
      "discard samples 0.7550854682922363\n",
      "n_samples_node =  1000\n",
      "generate_samples :  0.47887587547302246\n",
      "     prepare getting local values 0.0026369094848632812\n",
      "     obtained local values 0.00884103775024414\n",
      "get_mc_stats 0.011605262756347656\n"
     ]
    },
    {
     "name": "stderr",
     "output_type": "stream",
     "text": [
      " 53%|█████▎    | 532/1000 [11:34<10:07,  1.30s/it, Energy=0.0000013+0.0000000j ± 0.0000019 [σ²=0.0000000]]"
     ]
    },
    {
     "name": "stdout",
     "output_type": "stream",
     "text": [
      "--->> cal O and jac  0.03863215446472168\n",
      "compute_update  0.04153704643249512\n",
      "(0.006695730195552994+0j)\n",
      "n_discard =  144\n",
      "discard samples 0.7647545337677002\n",
      "n_samples_node =  1000\n",
      "generate_samples :  0.46470046043395996\n",
      "     prepare getting local values 0.002881765365600586\n",
      "     obtained local values 0.00725865364074707\n",
      "get_mc_stats 0.01069331169128418\n"
     ]
    },
    {
     "name": "stderr",
     "output_type": "stream",
     "text": [
      " 53%|█████▎    | 533/1000 [11:35<10:04,  1.29s/it, Energy=-0.0000033+0.0000000j ± 0.0000023 [σ²=0.0000000]]"
     ]
    },
    {
     "name": "stdout",
     "output_type": "stream",
     "text": [
      "--->> cal O and jac  0.03558182716369629\n",
      "compute_update  0.03851008415222168\n",
      "(0.006696519169419432+0j)\n",
      "n_discard =  144\n",
      "discard samples 0.7614548206329346\n",
      "n_samples_node =  1000\n",
      "generate_samples :  0.465557336807251\n",
      "     prepare getting local values 0.0026607513427734375\n",
      "     obtained local values 0.006444692611694336\n",
      "get_mc_stats 0.009198188781738281\n"
     ]
    },
    {
     "name": "stderr",
     "output_type": "stream",
     "text": [
      " 53%|█████▎    | 534/1000 [11:36<10:00,  1.29s/it, Energy=-0.0000014+0.0000000j ± 0.0000021 [σ²=0.0000000]]"
     ]
    },
    {
     "name": "stdout",
     "output_type": "stream",
     "text": [
      "--->> cal O and jac  0.03637290000915527\n",
      "compute_update  0.038504838943481445\n",
      "(0.006698023048171903+0j)\n",
      "n_discard =  144\n",
      "discard samples 0.8114290237426758\n",
      "n_samples_node =  1000\n",
      "generate_samples :  0.44869136810302734\n",
      "     prepare getting local values 0.001329660415649414\n",
      "     obtained local values 0.004748106002807617\n",
      "get_mc_stats 0.0065691471099853516\n"
     ]
    },
    {
     "name": "stderr",
     "output_type": "stream",
     "text": [
      " 54%|█████▎    | 535/1000 [11:37<10:01,  1.29s/it, Energy=0.0000010+0.0000000j ± 0.0000026 [σ²=0.0000000]] "
     ]
    },
    {
     "name": "stdout",
     "output_type": "stream",
     "text": [
      "--->> cal O and jac  0.0361018180847168\n",
      "compute_update  0.039461374282836914\n",
      "(0.006699543845463057+0j)\n",
      "n_discard =  144\n",
      "discard samples 0.7569727897644043\n",
      "n_samples_node =  1000\n",
      "generate_samples :  0.616581916809082\n",
      "     prepare getting local values 0.002704143524169922\n",
      "     obtained local values 0.0064563751220703125\n",
      "get_mc_stats 0.010234594345092773\n"
     ]
    },
    {
     "name": "stderr",
     "output_type": "stream",
     "text": [
      " 54%|█████▎    | 536/1000 [11:39<10:18,  1.33s/it, Energy=0.0000030+0.0000000j ± 0.0000020 [σ²=0.0000000]]"
     ]
    },
    {
     "name": "stdout",
     "output_type": "stream",
     "text": [
      "--->> cal O and jac  0.03751087188720703\n",
      "compute_update  0.03981494903564453\n",
      "(0.006700791432345007+0j)\n",
      "n_discard =  144\n",
      "discard samples 0.9814977645874023\n",
      "n_samples_node =  1000\n",
      "generate_samples :  0.45560479164123535\n",
      "     prepare getting local values 0.0013532638549804688\n",
      "     obtained local values 0.0046961307525634766\n",
      "get_mc_stats 0.006106853485107422\n"
     ]
    },
    {
     "name": "stderr",
     "output_type": "stream",
     "text": [
      " 54%|█████▎    | 537/1000 [11:40<10:38,  1.38s/it, Energy=0.0000024+0.0000000j ± 0.0000018 [σ²=0.0000000]]"
     ]
    },
    {
     "name": "stdout",
     "output_type": "stream",
     "text": [
      "--->> cal O and jac  0.0383753776550293\n",
      "compute_update  0.04213142395019531\n",
      "(0.006702210742500716+0j)\n",
      "n_discard =  144\n",
      "discard samples 0.7478363513946533\n",
      "n_samples_node =  1000\n",
      "generate_samples :  0.45365381240844727\n",
      "     prepare getting local values 0.0013189315795898438\n",
      "     obtained local values 0.00480341911315918\n",
      "get_mc_stats 0.006556987762451172\n"
     ]
    },
    {
     "name": "stderr",
     "output_type": "stream",
     "text": [
      " 54%|█████▍    | 538/1000 [11:42<10:20,  1.34s/it, Energy=0.0000002+0.0000000j ± 0.0000024 [σ²=0.0000000]]"
     ]
    },
    {
     "name": "stdout",
     "output_type": "stream",
     "text": [
      "--->> cal O and jac  0.04487013816833496\n",
      "compute_update  0.0485997200012207\n",
      "(0.0067031585430448746+0j)\n",
      "n_discard =  144\n",
      "discard samples 0.7618265151977539\n",
      "n_samples_node =  1000\n",
      "generate_samples :  0.44794416427612305\n",
      "     prepare getting local values 0.002437591552734375\n",
      "     obtained local values 0.007492780685424805\n",
      "get_mc_stats 0.009995698928833008\n"
     ]
    },
    {
     "name": "stderr",
     "output_type": "stream",
     "text": [
      " 54%|█████▍    | 539/1000 [11:43<10:08,  1.32s/it, Energy=0.0000012+0.0000000j ± 0.0000011 [σ²=0.0000000]]"
     ]
    },
    {
     "name": "stdout",
     "output_type": "stream",
     "text": [
      "--->> cal O and jac  0.0381932258605957\n",
      "compute_update  0.04041719436645508\n",
      "(0.006703750407036588+0j)\n",
      "n_discard =  144\n",
      "discard samples 0.7513678073883057\n",
      "n_samples_node =  1000\n",
      "generate_samples :  0.4566469192504883\n",
      "     prepare getting local values 0.0013620853424072266\n",
      "     obtained local values 0.004817008972167969\n",
      "get_mc_stats 0.00672602653503418\n"
     ]
    },
    {
     "name": "stderr",
     "output_type": "stream",
     "text": [
      " 54%|█████▍    | 540/1000 [11:44<09:58,  1.30s/it, Energy=-0.0000031+0.0000000j ± 0.0000020 [σ²=0.0000000]]"
     ]
    },
    {
     "name": "stdout",
     "output_type": "stream",
     "text": [
      "--->> cal O and jac  0.04117751121520996\n",
      "compute_update  0.04341888427734375\n",
      "(0.006704824038039774+0j)\n",
      "n_discard =  144\n",
      "discard samples 0.7623059749603271\n",
      "n_samples_node =  1000\n",
      "generate_samples :  0.590975284576416\n",
      "     prepare getting local values 0.0027129650115966797\n",
      "     obtained local values 0.008901357650756836\n",
      "get_mc_stats 0.011704683303833008\n"
     ]
    },
    {
     "name": "stderr",
     "output_type": "stream",
     "text": [
      " 54%|█████▍    | 541/1000 [11:46<10:11,  1.33s/it, Energy=0.0000009+0.0000000j ± 0.0000021 [σ²=0.0000000]] "
     ]
    },
    {
     "name": "stdout",
     "output_type": "stream",
     "text": [
      "--->> cal O and jac  0.03738808631896973\n",
      "compute_update  0.03972291946411133\n",
      "(0.006706008627899193+0j)\n",
      "n_discard =  144\n",
      "discard samples 0.8057861328125\n",
      "n_samples_node =  1000\n",
      "generate_samples :  0.4586033821105957\n",
      "     prepare getting local values 0.0013413429260253906\n",
      "     obtained local values 0.00467371940612793\n",
      "get_mc_stats 0.006330251693725586\n"
     ]
    },
    {
     "name": "stderr",
     "output_type": "stream",
     "text": [
      " 54%|█████▍    | 542/1000 [11:47<10:07,  1.33s/it, Energy=0.0000010+0.0000000j ± 0.0000018 [σ²=0.0000000]]"
     ]
    },
    {
     "name": "stdout",
     "output_type": "stream",
     "text": [
      "--->> cal O and jac  0.039441823959350586\n",
      "compute_update  0.041675567626953125\n",
      "(0.006707336310905398+0j)\n",
      "n_discard =  144\n",
      "discard samples 0.7964637279510498\n",
      "n_samples_node =  1000\n",
      "generate_samples :  0.47211384773254395\n",
      "     prepare getting local values 0.0013539791107177734\n",
      "     obtained local values 0.004823207855224609\n",
      "get_mc_stats 0.006399869918823242\n"
     ]
    },
    {
     "name": "stderr",
     "output_type": "stream",
     "text": [
      " 54%|█████▍    | 543/1000 [11:48<10:05,  1.33s/it, Energy=-0.0000005+0.0000000j ± 0.0000020 [σ²=0.0000000]]"
     ]
    },
    {
     "name": "stdout",
     "output_type": "stream",
     "text": [
      "--->> cal O and jac  0.04058980941772461\n",
      "compute_update  0.04436492919921875\n",
      "(0.0067081818484712305+0j)\n",
      "n_discard =  144\n",
      "discard samples 0.7602155208587646\n",
      "n_samples_node =  1000\n",
      "generate_samples :  0.4474928379058838\n",
      "     prepare getting local values 0.0022735595703125\n",
      "     obtained local values 0.008383989334106445\n",
      "get_mc_stats 0.010539054870605469\n"
     ]
    },
    {
     "name": "stderr",
     "output_type": "stream",
     "text": [
      " 54%|█████▍    | 544/1000 [11:49<09:55,  1.31s/it, Energy=0.0000007+0.0000000j ± 0.0000018 [σ²=0.0000000]] "
     ]
    },
    {
     "name": "stdout",
     "output_type": "stream",
     "text": [
      "--->> cal O and jac  0.03607916831970215\n",
      "compute_update  0.03841114044189453\n",
      "(0.006709737927665002+0j)\n",
      "n_discard =  144\n",
      "discard samples 0.7742934226989746\n",
      "n_samples_node =  1000\n",
      "generate_samples :  0.463667631149292\n",
      "     prepare getting local values 0.0026924610137939453\n",
      "     obtained local values 0.007935285568237305\n",
      "get_mc_stats 0.010713815689086914\n"
     ]
    },
    {
     "name": "stderr",
     "output_type": "stream",
     "text": [
      " 55%|█████▍    | 545/1000 [11:51<09:51,  1.30s/it, Energy=0.0000013+0.0000000j ± 0.0000023 [σ²=0.0000000]]"
     ]
    },
    {
     "name": "stdout",
     "output_type": "stream",
     "text": [
      "--->> cal O and jac  0.038773536682128906\n",
      "compute_update  0.04096841812133789\n",
      "(0.00671143636665067+0j)\n",
      "n_discard =  144\n",
      "discard samples 0.7635383605957031\n",
      "n_samples_node =  1000\n",
      "generate_samples :  0.45014071464538574\n",
      "     prepare getting local values 0.0019757747650146484\n",
      "     obtained local values 0.005605459213256836\n",
      "get_mc_stats 0.008071184158325195\n"
     ]
    },
    {
     "name": "stderr",
     "output_type": "stream",
     "text": [
      " 55%|█████▍    | 546/1000 [11:52<09:45,  1.29s/it, Energy=-0.0000002+0.0000000j ± 0.0000022 [σ²=0.0000000]]"
     ]
    },
    {
     "name": "stdout",
     "output_type": "stream",
     "text": [
      "--->> cal O and jac  0.03829550743103027\n",
      "compute_update  0.04054093360900879\n",
      "(0.006712412673546833+0j)\n",
      "n_discard =  144\n",
      "discard samples 0.7938790321350098\n",
      "n_samples_node =  1000\n",
      "generate_samples :  0.44896507263183594\n",
      "     prepare getting local values 0.0025987625122070312\n",
      "     obtained local values 0.009678840637207031\n",
      "get_mc_stats 0.012585639953613281\n"
     ]
    },
    {
     "name": "stderr",
     "output_type": "stream",
     "text": [
      " 55%|█████▍    | 547/1000 [11:53<09:45,  1.29s/it, Energy=0.0000026+0.0000000j ± 0.0000019 [σ²=0.0000000]] "
     ]
    },
    {
     "name": "stdout",
     "output_type": "stream",
     "text": [
      "--->> cal O and jac  0.04172396659851074\n",
      "compute_update  0.043921470642089844\n",
      "(0.006713450178918039+0j)\n",
      "n_discard =  144\n",
      "discard samples 0.7857213020324707\n",
      "n_samples_node =  1000\n",
      "generate_samples :  0.457369327545166\n",
      "     prepare getting local values 0.0013034343719482422\n",
      "     obtained local values 0.004780769348144531\n",
      "get_mc_stats 0.006933927536010742\n"
     ]
    },
    {
     "name": "stderr",
     "output_type": "stream",
     "text": [
      " 55%|█████▍    | 548/1000 [11:55<09:44,  1.29s/it, Energy=0.0000001+0.0000000j ± 0.0000023 [σ²=0.0000000]]"
     ]
    },
    {
     "name": "stdout",
     "output_type": "stream",
     "text": [
      "--->> cal O and jac  0.03698158264160156\n",
      "compute_update  0.039344072341918945\n",
      "(0.006714484679971237+0j)\n",
      "n_discard =  144\n",
      "discard samples 0.7606446743011475\n",
      "n_samples_node =  1000\n",
      "generate_samples :  0.4521164894104004\n",
      "     prepare getting local values 0.0013668537139892578\n",
      "     obtained local values 0.004823446273803711\n",
      "get_mc_stats 0.006561994552612305\n"
     ]
    },
    {
     "name": "stderr",
     "output_type": "stream",
     "text": [
      " 55%|█████▍    | 549/1000 [11:56<09:38,  1.28s/it, Energy=-0.0000005+0.0000000j ± 0.0000021 [σ²=0.0000000]]"
     ]
    },
    {
     "name": "stdout",
     "output_type": "stream",
     "text": [
      "--->> cal O and jac  0.03531813621520996\n",
      "compute_update  0.03738999366760254\n",
      "(0.006715607604558349+0j)\n",
      "n_discard =  144\n",
      "discard samples 0.7589883804321289\n",
      "n_samples_node =  1000\n",
      "generate_samples :  0.45940423011779785\n",
      "     prepare getting local values 0.002330780029296875\n",
      "     obtained local values 0.008528947830200195\n",
      "get_mc_stats 0.01093149185180664\n"
     ]
    },
    {
     "name": "stderr",
     "output_type": "stream",
     "text": [
      " 55%|█████▌    | 550/1000 [11:57<09:36,  1.28s/it, Energy=0.0000005+0.0000000j ± 0.0000023 [σ²=0.0000000]] "
     ]
    },
    {
     "name": "stdout",
     "output_type": "stream",
     "text": [
      "--->> cal O and jac  0.039702653884887695\n",
      "compute_update  0.04373598098754883\n",
      "(0.006717003012831788+0j)\n",
      "n_discard =  144\n",
      "discard samples 0.7550218105316162\n",
      "n_samples_node =  1000\n",
      "generate_samples :  0.461761474609375\n",
      "     prepare getting local values 0.001283407211303711\n",
      "     obtained local values 0.008380651473999023\n",
      "get_mc_stats 0.010509252548217773\n"
     ]
    },
    {
     "name": "stderr",
     "output_type": "stream",
     "text": [
      " 55%|█████▌    | 551/1000 [11:58<09:33,  1.28s/it, Energy=-0.0000005+0.0000000j ± 0.0000019 [σ²=0.0000000]]"
     ]
    },
    {
     "name": "stdout",
     "output_type": "stream",
     "text": [
      "--->> cal O and jac  0.0392758846282959\n",
      "compute_update  0.04218554496765137\n",
      "(0.006718029365543441+0j)\n",
      "n_discard =  144\n",
      "discard samples 0.7538650035858154\n",
      "n_samples_node =  1000\n",
      "generate_samples :  0.4530472755432129\n",
      "     prepare getting local values 0.0013697147369384766\n",
      "     obtained local values 0.004723548889160156\n",
      "get_mc_stats 0.006398200988769531\n"
     ]
    },
    {
     "name": "stderr",
     "output_type": "stream",
     "text": [
      " 55%|█████▌    | 552/1000 [12:00<09:29,  1.27s/it, Energy=0.0000006+0.0000000j ± 0.0000021 [σ²=0.0000000]] "
     ]
    },
    {
     "name": "stdout",
     "output_type": "stream",
     "text": [
      "--->> cal O and jac  0.03979301452636719\n",
      "compute_update  0.04372215270996094\n",
      "(0.00671930498559225+0j)\n",
      "n_discard =  144\n",
      "discard samples 0.7502744197845459\n",
      "n_samples_node =  1000\n",
      "generate_samples :  0.4535222053527832\n",
      "     prepare getting local values 0.0013434886932373047\n",
      "     obtained local values 0.0048370361328125\n",
      "get_mc_stats 0.006524085998535156\n"
     ]
    },
    {
     "name": "stderr",
     "output_type": "stream",
     "text": [
      " 55%|█████▌    | 553/1000 [12:01<09:26,  1.27s/it, Energy=-0.0000030+0.0000000j ± 0.0000014 [σ²=0.0000000]]"
     ]
    },
    {
     "name": "stdout",
     "output_type": "stream",
     "text": [
      "--->> cal O and jac  0.03792881965637207\n",
      "compute_update  0.04026365280151367\n",
      "(0.006720256020038355+0j)\n",
      "n_discard =  144\n",
      "discard samples 0.8110003471374512\n",
      "n_samples_node =  1000\n",
      "generate_samples :  0.4503939151763916\n",
      "     prepare getting local values 0.0014138221740722656\n",
      "     obtained local values 0.0048372745513916016\n",
      "get_mc_stats 0.0066912174224853516\n"
     ]
    },
    {
     "name": "stderr",
     "output_type": "stream",
     "text": [
      " 55%|█████▌    | 554/1000 [12:02<09:31,  1.28s/it, Energy=-0.0000006+0.0000000j ± 0.0000021 [σ²=0.0000000]]"
     ]
    },
    {
     "name": "stdout",
     "output_type": "stream",
     "text": [
      "--->> cal O and jac  0.04151749610900879\n",
      "compute_update  0.04377412796020508\n",
      "(0.0067213161786403245+0j)\n",
      "n_discard =  144\n",
      "discard samples 0.7602622509002686\n",
      "n_samples_node =  1000\n",
      "generate_samples :  0.44631266593933105\n",
      "     prepare getting local values 0.001308441162109375\n",
      "     obtained local values 0.004648923873901367\n",
      "get_mc_stats 0.006138801574707031\n"
     ]
    },
    {
     "name": "stderr",
     "output_type": "stream",
     "text": [
      " 56%|█████▌    | 555/1000 [12:03<09:26,  1.27s/it, Energy=0.0000040+0.0000000j ± 0.0000023 [σ²=0.0000000]] "
     ]
    },
    {
     "name": "stdout",
     "output_type": "stream",
     "text": [
      "--->> cal O and jac  0.0375828742980957\n",
      "compute_update  0.0397186279296875\n",
      "(0.006722171830019214+0j)\n",
      "n_discard =  144\n",
      "discard samples 0.7568314075469971\n",
      "n_samples_node =  1000\n",
      "generate_samples :  0.4528324604034424\n",
      "     prepare getting local values 0.0013775825500488281\n",
      "     obtained local values 0.0049479007720947266\n",
      "get_mc_stats 0.006539821624755859\n"
     ]
    },
    {
     "name": "stderr",
     "output_type": "stream",
     "text": [
      " 56%|█████▌    | 556/1000 [12:05<09:23,  1.27s/it, Energy=0.0000005+0.0000000j ± 0.0000014 [σ²=0.0000000]]"
     ]
    },
    {
     "name": "stdout",
     "output_type": "stream",
     "text": [
      "--->> cal O and jac  0.04194998741149902\n",
      "compute_update  0.044188499450683594\n",
      "(0.006723110191293099+0j)\n",
      "n_discard =  144\n",
      "discard samples 0.9217185974121094\n",
      "n_samples_node =  1000\n",
      "generate_samples :  0.6248483657836914\n",
      "     prepare getting local values 0.002223491668701172\n",
      "     obtained local values 0.008190393447875977\n",
      "get_mc_stats 0.011190414428710938\n"
     ]
    },
    {
     "name": "stderr",
     "output_type": "stream",
     "text": [
      " 56%|█████▌    | 557/1000 [12:06<10:06,  1.37s/it, Energy=0.0000004+0.0000000j ± 0.0000020 [σ²=0.0000000]]"
     ]
    },
    {
     "name": "stdout",
     "output_type": "stream",
     "text": [
      "--->> cal O and jac  0.03843498229980469\n",
      "compute_update  0.04138326644897461\n",
      "(0.006724452905131542+0j)\n",
      "n_discard =  144\n",
      "discard samples 1.0202903747558594\n",
      "n_samples_node =  1000\n",
      "generate_samples :  0.5166122913360596\n",
      "     prepare getting local values 0.0026702880859375\n",
      "     obtained local values 0.009341239929199219\n",
      "get_mc_stats 0.01210331916809082\n"
     ]
    },
    {
     "name": "stderr",
     "output_type": "stream",
     "text": [
      " 56%|█████▌    | 558/1000 [12:08<10:34,  1.43s/it, Energy=0.0000005+0.0000000j ± 0.0000017 [σ²=0.0000000]]"
     ]
    },
    {
     "name": "stdout",
     "output_type": "stream",
     "text": [
      "--->> cal O and jac  0.034979820251464844\n",
      "compute_update  0.037291765213012695\n",
      "(0.006725562272578315+0j)\n",
      "n_discard =  144\n",
      "discard samples 0.7871363162994385\n",
      "n_samples_node =  1000\n",
      "generate_samples :  0.46188950538635254\n",
      "     prepare getting local values 0.0026841163635253906\n",
      "     obtained local values 0.009287595748901367\n",
      "get_mc_stats 0.011913776397705078\n"
     ]
    },
    {
     "name": "stderr",
     "output_type": "stream",
     "text": [
      " 56%|█████▌    | 559/1000 [12:09<10:15,  1.40s/it, Energy=0.0000006+0.0000000j ± 0.0000022 [σ²=0.0000000]]"
     ]
    },
    {
     "name": "stdout",
     "output_type": "stream",
     "text": [
      "--->> cal O and jac  0.03842639923095703\n",
      "compute_update  0.040470123291015625\n",
      "(0.006726345965117338+0j)\n",
      "n_discard =  144\n",
      "discard samples 0.7531602382659912\n",
      "n_samples_node =  1000\n",
      "generate_samples :  0.45450639724731445\n",
      "     prepare getting local values 0.0014061927795410156\n",
      "     obtained local values 0.004896640777587891\n",
      "get_mc_stats 0.0067784786224365234\n"
     ]
    },
    {
     "name": "stderr",
     "output_type": "stream",
     "text": [
      " 56%|█████▌    | 560/1000 [12:10<09:55,  1.35s/it, Energy=0.0000002+0.0000000j ± 0.0000022 [σ²=0.0000000]]"
     ]
    },
    {
     "name": "stdout",
     "output_type": "stream",
     "text": [
      "--->> cal O and jac  0.03888273239135742\n",
      "compute_update  0.042035818099975586\n",
      "(0.006727287508349268+0j)\n",
      "n_discard =  144\n",
      "discard samples 0.7573654651641846\n",
      "n_samples_node =  1000\n",
      "generate_samples :  0.4452831745147705\n",
      "     prepare getting local values 0.0013685226440429688\n",
      "     obtained local values 0.004861116409301758\n",
      "get_mc_stats 0.006287574768066406\n"
     ]
    },
    {
     "name": "stderr",
     "output_type": "stream",
     "text": [
      " 56%|█████▌    | 561/1000 [12:12<09:40,  1.32s/it, Energy=-0.0000005+0.0000000j ± 0.0000018 [σ²=0.0000000]]"
     ]
    },
    {
     "name": "stdout",
     "output_type": "stream",
     "text": [
      "--->> cal O and jac  0.03844118118286133\n",
      "compute_update  0.04073596000671387\n",
      "(0.006728197196354534+0j)\n",
      "n_discard =  144\n",
      "discard samples 0.7628405094146729\n",
      "n_samples_node =  1000\n",
      "generate_samples :  0.6094131469726562\n",
      "     prepare getting local values 0.0025396347045898438\n",
      "     obtained local values 0.009176969528198242\n",
      "get_mc_stats 0.011938095092773438\n"
     ]
    },
    {
     "name": "stderr",
     "output_type": "stream",
     "text": [
      " 56%|█████▌    | 562/1000 [12:13<09:53,  1.35s/it, Energy=-0.0000020+0.0000000j ± 0.0000014 [σ²=0.0000000]]"
     ]
    },
    {
     "name": "stdout",
     "output_type": "stream",
     "text": [
      "--->> cal O and jac  0.03865766525268555\n",
      "compute_update  0.040857553482055664\n",
      "(0.0067288264527781035+0j)\n",
      "n_discard =  144\n",
      "discard samples 0.7485442161560059\n",
      "n_samples_node =  1000\n",
      "generate_samples :  0.4490320682525635\n",
      "     prepare getting local values 0.0013973712921142578\n",
      "     obtained local values 0.004939556121826172\n",
      "get_mc_stats 0.006802797317504883\n"
     ]
    },
    {
     "name": "stderr",
     "output_type": "stream",
     "text": [
      " 56%|█████▋    | 563/1000 [12:14<09:37,  1.32s/it, Energy=0.0000029+0.0000000j ± 0.0000018 [σ²=0.0000000]] "
     ]
    },
    {
     "name": "stdout",
     "output_type": "stream",
     "text": [
      "--->> cal O and jac  0.03892946243286133\n",
      "compute_update  0.04259061813354492\n",
      "(0.006730260069569381+0j)\n",
      "n_discard =  144\n",
      "discard samples 0.7533230781555176\n",
      "n_samples_node =  1000\n",
      "generate_samples :  0.5303401947021484\n",
      "     prepare getting local values 0.00128936767578125\n",
      "     obtained local values 0.004775524139404297\n",
      "get_mc_stats 0.0062105655670166016\n"
     ]
    },
    {
     "name": "stderr",
     "output_type": "stream",
     "text": [
      " 56%|█████▋    | 564/1000 [12:16<09:37,  1.33s/it, Energy=-0.0000005+0.0000000j ± 0.0000020 [σ²=0.0000000]]"
     ]
    },
    {
     "name": "stdout",
     "output_type": "stream",
     "text": [
      "--->> cal O and jac  0.035653114318847656\n",
      "compute_update  0.03894639015197754\n",
      "(0.006731376076307225+0j)\n",
      "n_discard =  144\n",
      "discard samples 1.0107457637786865\n",
      "n_samples_node =  1000\n",
      "generate_samples :  0.4508483409881592\n",
      "     prepare getting local values 0.001436471939086914\n",
      "     obtained local values 0.004925966262817383\n",
      "get_mc_stats 0.006500959396362305\n"
     ]
    },
    {
     "name": "stderr",
     "output_type": "stream",
     "text": [
      " 56%|█████▋    | 565/1000 [12:17<10:00,  1.38s/it, Energy=-0.0000026+0.0000000j ± 0.0000012 [σ²=0.0000000]]"
     ]
    },
    {
     "name": "stdout",
     "output_type": "stream",
     "text": [
      "--->> cal O and jac  0.0404355525970459\n",
      "compute_update  0.04272747039794922\n",
      "(0.0067318790591115825+0j)\n",
      "n_discard =  144\n",
      "discard samples 0.7598772048950195\n",
      "n_samples_node =  1000\n",
      "generate_samples :  0.44761133193969727\n",
      "     prepare getting local values 0.002170562744140625\n",
      "     obtained local values 0.005687713623046875\n",
      "get_mc_stats 0.008369684219360352\n"
     ]
    },
    {
     "name": "stderr",
     "output_type": "stream",
     "text": [
      " 57%|█████▋    | 566/1000 [12:18<09:43,  1.34s/it, Energy=0.0000006+0.0000000j ± 0.0000020 [σ²=0.0000000]] "
     ]
    },
    {
     "name": "stdout",
     "output_type": "stream",
     "text": [
      "--->> cal O and jac  0.038652896881103516\n",
      "compute_update  0.040898799896240234\n",
      "(0.006732663963804109+0j)\n",
      "n_discard =  144\n",
      "discard samples 0.815852165222168\n",
      "n_samples_node =  1000\n",
      "generate_samples :  0.45765042304992676\n",
      "     prepare getting local values 0.0013470649719238281\n",
      "     obtained local values 0.004857301712036133\n",
      "get_mc_stats 0.006512880325317383\n"
     ]
    },
    {
     "name": "stderr",
     "output_type": "stream",
     "text": [
      " 57%|█████▋    | 567/1000 [12:20<09:39,  1.34s/it, Energy=-0.0000010+0.0000000j ± 0.0000017 [σ²=0.0000000]]"
     ]
    },
    {
     "name": "stdout",
     "output_type": "stream",
     "text": [
      "--->> cal O and jac  0.037786245346069336\n",
      "compute_update  0.04152870178222656\n",
      "(0.006732994353480489+0j)\n",
      "n_discard =  144\n",
      "discard samples 0.7574608325958252\n",
      "n_samples_node =  1000\n",
      "generate_samples :  0.44824671745300293\n",
      "     prepare getting local values 0.0013780593872070312\n",
      "     obtained local values 0.004800081253051758\n",
      "get_mc_stats 0.006894111633300781\n"
     ]
    },
    {
     "name": "stderr",
     "output_type": "stream",
     "text": [
      " 57%|█████▋    | 568/1000 [12:21<09:27,  1.31s/it, Energy=0.0000025+0.0000000j ± 0.0000024 [σ²=0.0000000]] "
     ]
    },
    {
     "name": "stdout",
     "output_type": "stream",
     "text": [
      "--->> cal O and jac  0.03739666938781738\n",
      "compute_update  0.03973793983459473\n",
      "(0.006734303322655527+0j)\n",
      "n_discard =  144\n",
      "discard samples 0.7515068054199219\n",
      "n_samples_node =  1000\n",
      "generate_samples :  0.4472084045410156\n",
      "     prepare getting local values 0.0013201236724853516\n",
      "     obtained local values 0.0046842098236083984\n",
      "get_mc_stats 0.0065708160400390625\n"
     ]
    },
    {
     "name": "stderr",
     "output_type": "stream",
     "text": [
      " 57%|█████▋    | 569/1000 [12:22<09:17,  1.29s/it, Energy=-0.0000005+0.0000000j ± 0.0000019 [σ²=0.0000000]]"
     ]
    },
    {
     "name": "stdout",
     "output_type": "stream",
     "text": [
      "--->> cal O and jac  0.03695940971374512\n",
      "compute_update  0.0392458438873291\n",
      "(0.006735340660273719+0j)\n",
      "n_discard =  144\n",
      "discard samples 0.7544076442718506\n",
      "n_samples_node =  1000\n",
      "generate_samples :  0.45351076126098633\n",
      "     prepare getting local values 0.0013713836669921875\n",
      "     obtained local values 0.004858970642089844\n",
      "get_mc_stats 0.0066149234771728516\n"
     ]
    },
    {
     "name": "stderr",
     "output_type": "stream",
     "text": [
      " 57%|█████▋    | 570/1000 [12:24<09:11,  1.28s/it, Energy=-0.0000045+0.0000000j ± 0.0000020 [σ²=0.0000000]]"
     ]
    },
    {
     "name": "stdout",
     "output_type": "stream",
     "text": [
      "--->> cal O and jac  0.038805484771728516\n",
      "compute_update  0.04209446907043457\n",
      "(0.006736151400840569+0j)\n",
      "n_discard =  144\n",
      "discard samples 0.7673346996307373\n",
      "n_samples_node =  1000\n",
      "generate_samples :  0.4486825466156006\n",
      "     prepare getting local values 0.0013985633850097656\n",
      "     obtained local values 0.004986286163330078\n",
      "get_mc_stats 0.0069429874420166016\n"
     ]
    },
    {
     "name": "stderr",
     "output_type": "stream",
     "text": [
      " 57%|█████▋    | 571/1000 [12:25<09:09,  1.28s/it, Energy=0.0000050+0.0000000j ± 0.0000022 [σ²=0.0000000]] "
     ]
    },
    {
     "name": "stdout",
     "output_type": "stream",
     "text": [
      "--->> cal O and jac  0.044879913330078125\n",
      "compute_update  0.04813838005065918\n",
      "(0.00673732776872511+0j)\n",
      "n_discard =  144\n",
      "discard samples 0.7532973289489746\n",
      "n_samples_node =  1000\n",
      "generate_samples :  0.45320701599121094\n",
      "     prepare getting local values 0.0012583732604980469\n",
      "     obtained local values 0.004600048065185547\n",
      "get_mc_stats 0.006012439727783203\n"
     ]
    },
    {
     "name": "stderr",
     "output_type": "stream",
     "text": [
      " 57%|█████▋    | 572/1000 [12:26<09:04,  1.27s/it, Energy=-0.0000010+0.0000000j ± 0.0000018 [σ²=0.0000000]]"
     ]
    },
    {
     "name": "stdout",
     "output_type": "stream",
     "text": [
      "--->> cal O and jac  0.03816819190979004\n",
      "compute_update  0.04184532165527344\n",
      "(0.006738143632605383+0j)\n",
      "n_discard =  144\n",
      "discard samples 0.759558916091919\n",
      "n_samples_node =  1000\n",
      "generate_samples :  0.4452066421508789\n",
      "     prepare getting local values 0.0013797283172607422\n",
      "     obtained local values 0.0048182010650634766\n",
      "get_mc_stats 0.006777763366699219\n"
     ]
    },
    {
     "name": "stderr",
     "output_type": "stream",
     "text": [
      " 57%|█████▋    | 573/1000 [12:27<09:00,  1.27s/it, Energy=0.0000031+0.0000000j ± 0.0000015 [σ²=0.0000000]] "
     ]
    },
    {
     "name": "stdout",
     "output_type": "stream",
     "text": [
      "--->> cal O and jac  0.036997079849243164\n",
      "compute_update  0.039325714111328125\n",
      "(0.006739093075547832+0j)\n",
      "n_discard =  144\n",
      "discard samples 0.7980070114135742\n",
      "n_samples_node =  1000\n",
      "generate_samples :  0.457993745803833\n",
      "     prepare getting local values 0.002344369888305664\n",
      "     obtained local values 0.007883548736572266\n",
      "get_mc_stats 0.010148286819458008\n"
     ]
    },
    {
     "name": "stderr",
     "output_type": "stream",
     "text": [
      " 57%|█████▋    | 574/1000 [12:29<09:05,  1.28s/it, Energy=-0.0000007+0.0000000j ± 0.0000016 [σ²=0.0000000]]"
     ]
    },
    {
     "name": "stdout",
     "output_type": "stream",
     "text": [
      "--->> cal O and jac  0.03944587707519531\n",
      "compute_update  0.04335832595825195\n",
      "(0.006739583533201781+0j)\n",
      "n_discard =  144\n",
      "discard samples 0.7733983993530273\n",
      "n_samples_node =  1000\n",
      "generate_samples :  0.454787015914917\n",
      "     prepare getting local values 0.0013034343719482422\n",
      "     obtained local values 0.004769563674926758\n",
      "get_mc_stats 0.006567239761352539\n"
     ]
    },
    {
     "name": "stderr",
     "output_type": "stream",
     "text": [
      " 57%|█████▊    | 575/1000 [12:30<09:03,  1.28s/it, Energy=-0.0000005+0.0000000j ± 0.0000019 [σ²=0.0000000]]"
     ]
    },
    {
     "name": "stdout",
     "output_type": "stream",
     "text": [
      "--->> cal O and jac  0.0370328426361084\n",
      "compute_update  0.04074525833129883\n",
      "(0.006740818335663434+0j)\n",
      "n_discard =  144\n",
      "discard samples 0.7564265727996826\n",
      "n_samples_node =  1000\n",
      "generate_samples :  0.4524407386779785\n",
      "     prepare getting local values 0.0013546943664550781\n",
      "     obtained local values 0.00487065315246582\n",
      "get_mc_stats 0.006611824035644531\n"
     ]
    },
    {
     "name": "stderr",
     "output_type": "stream",
     "text": [
      " 58%|█████▊    | 576/1000 [12:31<08:59,  1.27s/it, Energy=-0.0000031+0.0000000j ± 0.0000023 [σ²=0.0000000]]"
     ]
    },
    {
     "name": "stdout",
     "output_type": "stream",
     "text": [
      "--->> cal O and jac  0.03906726837158203\n",
      "compute_update  0.041536569595336914\n",
      "(0.006742081111313143+0j)\n",
      "n_discard =  144\n",
      "discard samples 0.7590651512145996\n",
      "n_samples_node =  1000\n",
      "generate_samples :  0.4505634307861328\n",
      "     prepare getting local values 0.0013594627380371094\n",
      "     obtained local values 0.004708766937255859\n",
      "get_mc_stats 0.006489753723144531\n"
     ]
    },
    {
     "name": "stderr",
     "output_type": "stream",
     "text": [
      " 58%|█████▊    | 577/1000 [12:32<08:56,  1.27s/it, Energy=-0.0000018+0.0000000j ± 0.0000017 [σ²=0.0000000]]"
     ]
    },
    {
     "name": "stdout",
     "output_type": "stream",
     "text": [
      "--->> cal O and jac  0.038414955139160156\n",
      "compute_update  0.04100489616394043\n",
      "(0.006743347562782+0j)\n",
      "n_discard =  144\n",
      "discard samples 0.7571213245391846\n",
      "n_samples_node =  1000\n",
      "generate_samples :  0.4579732418060303\n",
      "     prepare getting local values 0.0014276504516601562\n",
      "     obtained local values 0.00495147705078125\n",
      "get_mc_stats 0.006604909896850586\n"
     ]
    },
    {
     "name": "stderr",
     "output_type": "stream",
     "text": [
      " 58%|█████▊    | 578/1000 [12:34<08:55,  1.27s/it, Energy=0.0000004+0.0000000j ± 0.0000018 [σ²=0.0000000]] "
     ]
    },
    {
     "name": "stdout",
     "output_type": "stream",
     "text": [
      "--->> cal O and jac  0.043382883071899414\n",
      "compute_update  0.04771113395690918\n",
      "(0.006744000475038409+0j)\n",
      "n_discard =  144\n",
      "discard samples 0.764270544052124\n",
      "n_samples_node =  1000\n",
      "generate_samples :  0.6224422454833984\n",
      "     prepare getting local values 0.002151966094970703\n",
      "     obtained local values 0.008036613464355469\n",
      "get_mc_stats 0.010508537292480469\n"
     ]
    },
    {
     "name": "stderr",
     "output_type": "stream",
     "text": [
      " 58%|█████▊    | 579/1000 [12:35<09:16,  1.32s/it, Energy=-0.0000004+0.0000000j ± 0.0000018 [σ²=0.0000000]]"
     ]
    },
    {
     "name": "stdout",
     "output_type": "stream",
     "text": [
      "--->> cal O and jac  0.03718900680541992\n",
      "compute_update  0.040711164474487305\n",
      "(0.006745030431373448+0j)\n",
      "n_discard =  144\n",
      "discard samples 0.7636120319366455\n",
      "n_samples_node =  1000\n",
      "generate_samples :  0.4571845531463623\n",
      "     prepare getting local values 0.0022721290588378906\n",
      "     obtained local values 0.008679628372192383\n",
      "get_mc_stats 0.011235475540161133\n"
     ]
    },
    {
     "name": "stderr",
     "output_type": "stream",
     "text": [
      " 58%|█████▊    | 580/1000 [12:36<09:09,  1.31s/it, Energy=-0.0000010+0.0000000j ± 0.0000018 [σ²=0.0000000]]"
     ]
    },
    {
     "name": "stdout",
     "output_type": "stream",
     "text": [
      "--->> cal O and jac  0.041977882385253906\n",
      "compute_update  0.04422259330749512\n",
      "(0.0067457647106467355+0j)\n",
      "n_discard =  144\n",
      "discard samples 0.8113992214202881\n",
      "n_samples_node =  1000\n",
      "generate_samples :  0.4739854335784912\n",
      "     prepare getting local values 0.0013325214385986328\n",
      "     obtained local values 0.0047681331634521484\n",
      "get_mc_stats 0.0061800479888916016\n"
     ]
    },
    {
     "name": "stderr",
     "output_type": "stream",
     "text": [
      " 58%|█████▊    | 581/1000 [12:38<09:11,  1.32s/it, Energy=-0.0000014+0.0000000j ± 0.0000017 [σ²=0.0000000]]"
     ]
    },
    {
     "name": "stdout",
     "output_type": "stream",
     "text": [
      "--->> cal O and jac  0.035840749740600586\n",
      "compute_update  0.037989139556884766\n",
      "(0.006746340617226025+0j)\n",
      "n_discard =  144\n",
      "discard samples 0.803316593170166\n",
      "n_samples_node =  1000\n",
      "generate_samples :  0.5505287647247314\n",
      "     prepare getting local values 0.002240896224975586\n",
      "     obtained local values 0.008849143981933594\n",
      "get_mc_stats 0.011792898178100586\n"
     ]
    },
    {
     "name": "stderr",
     "output_type": "stream",
     "text": [
      " 58%|█████▊    | 582/1000 [12:39<09:21,  1.34s/it, Energy=-0.0000026+0.0000000j ± 0.0000017 [σ²=0.0000000]]"
     ]
    },
    {
     "name": "stdout",
     "output_type": "stream",
     "text": [
      "--->> cal O and jac  0.03593873977661133\n",
      "compute_update  0.03995227813720703\n",
      "(0.006747683118981054+0j)\n",
      "n_discard =  144\n",
      "discard samples 0.8902683258056641\n",
      "n_samples_node =  1000\n",
      "generate_samples :  0.4679374694824219\n",
      "     prepare getting local values 0.001355886459350586\n",
      "     obtained local values 0.0049321651458740234\n",
      "get_mc_stats 0.006842851638793945\n"
     ]
    },
    {
     "name": "stderr",
     "output_type": "stream",
     "text": [
      " 58%|█████▊    | 583/1000 [12:41<09:28,  1.36s/it, Energy=-0.0000007+0.0000000j ± 0.0000014 [σ²=0.0000000]]"
     ]
    },
    {
     "name": "stdout",
     "output_type": "stream",
     "text": [
      "--->> cal O and jac  0.04066729545593262\n",
      "compute_update  0.044020652770996094\n",
      "(0.00674852066888973+0j)\n",
      "n_discard =  144\n",
      "discard samples 0.7754623889923096\n",
      "n_samples_node =  1000\n",
      "generate_samples :  0.47585439682006836\n",
      "     prepare getting local values 0.0013806819915771484\n",
      "     obtained local values 0.00480341911315918\n",
      "get_mc_stats 0.0067708492279052734\n"
     ]
    },
    {
     "name": "stderr",
     "output_type": "stream",
     "text": [
      " 58%|█████▊    | 584/1000 [12:42<09:19,  1.35s/it, Energy=-0.0000000+0.0000000j ± 0.0000017 [σ²=0.0000000]]"
     ]
    },
    {
     "name": "stdout",
     "output_type": "stream",
     "text": [
      "--->> cal O and jac  0.0409543514251709\n",
      "compute_update  0.04317665100097656\n",
      "(0.006749455774527756+0j)\n",
      "n_discard =  144\n",
      "discard samples 0.9799294471740723\n",
      "n_samples_node =  1000\n",
      "generate_samples :  0.4660663604736328\n",
      "     prepare getting local values 0.0013318061828613281\n",
      "     obtained local values 0.0047686100006103516\n",
      "get_mc_stats 0.0063703060150146484\n"
     ]
    },
    {
     "name": "stderr",
     "output_type": "stream",
     "text": [
      " 58%|█████▊    | 585/1000 [12:43<09:36,  1.39s/it, Energy=-0.0000011+0.0000000j ± 0.0000013 [σ²=0.0000000]]"
     ]
    },
    {
     "name": "stdout",
     "output_type": "stream",
     "text": [
      "--->> cal O and jac  0.03746342658996582\n",
      "compute_update  0.03976559638977051\n",
      "(0.006750182534058053+0j)\n",
      "n_discard =  144\n",
      "discard samples 1.0506069660186768\n",
      "n_samples_node =  1000\n",
      "generate_samples :  0.6312515735626221\n",
      "     prepare getting local values 0.0024204254150390625\n",
      "     obtained local values 0.005990028381347656\n",
      "get_mc_stats 0.008908510208129883\n"
     ]
    },
    {
     "name": "stderr",
     "output_type": "stream",
     "text": [
      " 59%|█████▊    | 586/1000 [12:45<10:19,  1.50s/it, Energy=0.0000012+0.0000000j ± 0.0000019 [σ²=0.0000000]] "
     ]
    },
    {
     "name": "stdout",
     "output_type": "stream",
     "text": [
      "--->> cal O and jac  0.04663348197937012\n",
      "compute_update  0.04898643493652344\n",
      "(0.006750931278629389+0j)\n",
      "n_discard =  144\n",
      "discard samples 1.0350327491760254\n",
      "n_samples_node =  1000\n",
      "generate_samples :  0.4624960422515869\n",
      "     prepare getting local values 0.0013661384582519531\n",
      "     obtained local values 0.00493311882019043\n",
      "get_mc_stats 0.006955385208129883\n"
     ]
    },
    {
     "name": "stderr",
     "output_type": "stream",
     "text": [
      " 59%|█████▊    | 587/1000 [12:47<10:24,  1.51s/it, Energy=-0.0000015+0.0000000j ± 0.0000018 [σ²=0.0000000]]"
     ]
    },
    {
     "name": "stdout",
     "output_type": "stream",
     "text": [
      "--->> cal O and jac  0.037679195404052734\n",
      "compute_update  0.04080629348754883\n",
      "(0.006751536476590539+0j)\n",
      "n_discard =  144\n",
      "discard samples 0.7678947448730469\n",
      "n_samples_node =  1000\n",
      "generate_samples :  0.60866379737854\n",
      "     prepare getting local values 0.0026977062225341797\n",
      "     obtained local values 0.008677959442138672\n",
      "get_mc_stats 0.01169729232788086\n"
     ]
    },
    {
     "name": "stderr",
     "output_type": "stream",
     "text": [
      " 59%|█████▉    | 588/1000 [12:48<10:13,  1.49s/it, Energy=-0.0000006+0.0000000j ± 0.0000018 [σ²=0.0000000]]"
     ]
    },
    {
     "name": "stdout",
     "output_type": "stream",
     "text": [
      "--->> cal O and jac  0.04338526725769043\n",
      "compute_update  0.04685497283935547\n",
      "(0.00675215918740237+0j)\n",
      "n_discard =  144\n",
      "discard samples 1.0401160717010498\n",
      "n_samples_node =  1000\n",
      "generate_samples :  0.46003079414367676\n",
      "     prepare getting local values 0.0027577877044677734\n",
      "     obtained local values 0.006516218185424805\n",
      "get_mc_stats 0.008650064468383789\n"
     ]
    },
    {
     "name": "stderr",
     "output_type": "stream",
     "text": [
      " 59%|█████▉    | 589/1000 [12:50<10:20,  1.51s/it, Energy=-0.0000014+0.0000000j ± 0.0000016 [σ²=0.0000000]]"
     ]
    },
    {
     "name": "stdout",
     "output_type": "stream",
     "text": [
      "--->> cal O and jac  0.04095029830932617\n",
      "compute_update  0.0442507266998291\n",
      "(0.006753063815042737+0j)\n",
      "n_discard =  144\n",
      "discard samples 0.7670125961303711\n",
      "n_samples_node =  1000\n",
      "generate_samples :  0.6268277168273926\n",
      "     prepare getting local values 0.0027265548706054688\n",
      "     obtained local values 0.009963512420654297\n",
      "get_mc_stats 0.012988805770874023\n"
     ]
    },
    {
     "name": "stderr",
     "output_type": "stream",
     "text": [
      " 59%|█████▉    | 590/1000 [12:51<10:12,  1.49s/it, Energy=0.0000023+0.0000000j ± 0.0000017 [σ²=0.0000000]] "
     ]
    },
    {
     "name": "stdout",
     "output_type": "stream",
     "text": [
      "--->> cal O and jac  0.04735612869262695\n",
      "compute_update  0.05130767822265625\n",
      "(0.006753914873981414+0j)\n",
      "n_discard =  144\n",
      "discard samples 0.8605563640594482\n",
      "n_samples_node =  1000\n",
      "generate_samples :  0.4633815288543701\n",
      "     prepare getting local values 0.0026404857635498047\n",
      "     obtained local values 0.006610870361328125\n",
      "get_mc_stats 0.009164571762084961\n"
     ]
    },
    {
     "name": "stderr",
     "output_type": "stream",
     "text": [
      " 59%|█████▉    | 591/1000 [12:53<09:56,  1.46s/it, Energy=0.0000005+0.0000000j ± 0.0000013 [σ²=0.0000000]]"
     ]
    },
    {
     "name": "stdout",
     "output_type": "stream",
     "text": [
      "--->> cal O and jac  0.03873085975646973\n",
      "compute_update  0.041932106018066406\n",
      "(0.006755068203787254+0j)\n",
      "n_discard =  144\n",
      "discard samples 0.8067398071289062\n",
      "n_samples_node =  1000\n",
      "generate_samples :  0.45934605598449707\n",
      "     prepare getting local values 0.0013532638549804688\n",
      "     obtained local values 0.004985332489013672\n",
      "get_mc_stats 0.007081270217895508\n"
     ]
    },
    {
     "name": "stderr",
     "output_type": "stream",
     "text": [
      " 59%|█████▉    | 592/1000 [12:54<09:38,  1.42s/it, Energy=-0.0000026+0.0000000j ± 0.0000021 [σ²=0.0000000]]"
     ]
    },
    {
     "name": "stdout",
     "output_type": "stream",
     "text": [
      "--->> cal O and jac  0.04216766357421875\n",
      "compute_update  0.04551291465759277\n",
      "(0.0067556489868788394+0j)\n",
      "n_discard =  144\n",
      "discard samples 0.7816460132598877\n",
      "n_samples_node =  1000\n",
      "generate_samples :  0.4704606533050537\n",
      "     prepare getting local values 0.001394033432006836\n",
      "     obtained local values 0.004814863204956055\n",
      "get_mc_stats 0.006571292877197266\n"
     ]
    },
    {
     "name": "stderr",
     "output_type": "stream",
     "text": [
      " 59%|█████▉    | 593/1000 [12:55<09:23,  1.38s/it, Energy=-0.0000002+0.0000000j ± 0.0000018 [σ²=0.0000000]]"
     ]
    },
    {
     "name": "stdout",
     "output_type": "stream",
     "text": [
      "--->> cal O and jac  0.04333209991455078\n",
      "compute_update  0.046919822692871094\n",
      "(0.006756124033219562+0j)\n",
      "n_discard =  144\n",
      "discard samples 1.0221436023712158\n",
      "n_samples_node =  1000\n",
      "generate_samples :  0.45657968521118164\n",
      "     prepare getting local values 0.0022728443145751953\n",
      "     obtained local values 0.008378744125366211\n",
      "get_mc_stats 0.010680437088012695\n"
     ]
    },
    {
     "name": "stderr",
     "output_type": "stream",
     "text": [
      " 59%|█████▉    | 594/1000 [12:57<09:40,  1.43s/it, Energy=-0.0000017+0.0000000j ± 0.0000021 [σ²=0.0000000]]"
     ]
    },
    {
     "name": "stdout",
     "output_type": "stream",
     "text": [
      "--->> cal O and jac  0.04216885566711426\n",
      "compute_update  0.044399261474609375\n",
      "(0.006756859783590604+0j)\n",
      "n_discard =  144\n",
      "discard samples 0.771237850189209\n",
      "n_samples_node =  1000\n",
      "generate_samples :  0.4850306510925293\n",
      "     prepare getting local values 0.0026845932006835938\n",
      "     obtained local values 0.009630441665649414\n",
      "get_mc_stats 0.012751340866088867\n"
     ]
    },
    {
     "name": "stderr",
     "output_type": "stream",
     "text": [
      " 60%|█████▉    | 595/1000 [12:58<09:25,  1.40s/it, Energy=0.0000030+0.0000000j ± 0.0000017 [σ²=0.0000000]] "
     ]
    },
    {
     "name": "stdout",
     "output_type": "stream",
     "text": [
      "--->> cal O and jac  0.043839454650878906\n",
      "compute_update  0.04605388641357422\n",
      "(0.006757750773330305+0j)\n",
      "n_discard =  144\n",
      "discard samples 0.8113987445831299\n",
      "n_samples_node =  1000\n",
      "generate_samples :  0.45581650733947754\n",
      "     prepare getting local values 0.002346515655517578\n",
      "     obtained local values 0.006074666976928711\n",
      "get_mc_stats 0.008594274520874023\n"
     ]
    },
    {
     "name": "stderr",
     "output_type": "stream",
     "text": [
      " 60%|█████▉    | 596/1000 [12:59<09:14,  1.37s/it, Energy=0.0000005+0.0000000j ± 0.0000019 [σ²=0.0000000]]"
     ]
    },
    {
     "name": "stdout",
     "output_type": "stream",
     "text": [
      "--->> cal O and jac  0.03793025016784668\n",
      "compute_update  0.03991842269897461\n",
      "(0.006758804246832266+0j)\n",
      "n_discard =  144\n",
      "discard samples 0.7723896503448486\n",
      "n_samples_node =  1000\n",
      "generate_samples :  0.611034631729126\n",
      "     prepare getting local values 0.002674102783203125\n",
      "     obtained local values 0.008995532989501953\n",
      "get_mc_stats 0.01148223876953125\n"
     ]
    },
    {
     "name": "stderr",
     "output_type": "stream",
     "text": [
      " 60%|█████▉    | 597/1000 [13:01<09:21,  1.39s/it, Energy=0.0000045+0.0000000j ± 0.0000016 [σ²=0.0000000]]"
     ]
    },
    {
     "name": "stdout",
     "output_type": "stream",
     "text": [
      "--->> cal O and jac  0.04469609260559082\n",
      "compute_update  0.04849886894226074\n",
      "(0.006759951383440743+0j)\n",
      "n_discard =  144\n",
      "discard samples 0.7704203128814697\n",
      "n_samples_node =  1000\n",
      "generate_samples :  0.574368953704834\n",
      "     prepare getting local values 0.0027005672454833984\n",
      "     obtained local values 0.009462594985961914\n",
      "get_mc_stats 0.012230634689331055\n"
     ]
    },
    {
     "name": "stderr",
     "output_type": "stream",
     "text": [
      " 60%|█████▉    | 598/1000 [13:02<09:21,  1.40s/it, Energy=0.0000006+0.0000000j ± 0.0000015 [σ²=0.0000000]]"
     ]
    },
    {
     "name": "stdout",
     "output_type": "stream",
     "text": [
      "--->> cal O and jac  0.03811788558959961\n",
      "compute_update  0.04030013084411621\n",
      "(0.0067604145215287475+0j)\n",
      "n_discard =  144\n",
      "discard samples 0.7631292343139648\n",
      "n_samples_node =  1000\n",
      "generate_samples :  0.4946296215057373\n",
      "     prepare getting local values 0.0013394355773925781\n",
      "     obtained local values 0.00476837158203125\n",
      "get_mc_stats 0.006455183029174805\n"
     ]
    },
    {
     "name": "stderr",
     "output_type": "stream",
     "text": [
      " 60%|█████▉    | 599/1000 [13:03<09:09,  1.37s/it, Energy=-0.0000001+0.0000000j ± 0.0000018 [σ²=0.0000000]]"
     ]
    },
    {
     "name": "stdout",
     "output_type": "stream",
     "text": [
      "--->> cal O and jac  0.04082512855529785\n",
      "compute_update  0.043122053146362305\n",
      "(0.00676086830609732+0j)\n",
      "n_discard =  144\n",
      "discard samples 0.7530088424682617\n",
      "n_samples_node =  1000\n",
      "generate_samples :  0.4582211971282959\n",
      "     prepare getting local values 0.002190113067626953\n",
      "     obtained local values 0.008025169372558594\n",
      "get_mc_stats 0.010668039321899414\n"
     ]
    },
    {
     "name": "stderr",
     "output_type": "stream",
     "text": [
      " 60%|██████    | 600/1000 [13:05<08:55,  1.34s/it, Energy=-0.0000006+0.0000000j ± 0.0000016 [σ²=0.0000000]]"
     ]
    },
    {
     "name": "stdout",
     "output_type": "stream",
     "text": [
      "--->> cal O and jac  0.04009842872619629\n",
      "compute_update  0.0438995361328125\n",
      "(0.006761485577341038+0j)\n",
      "n_discard =  144\n",
      "discard samples 0.768223762512207\n",
      "n_samples_node =  1000\n",
      "generate_samples :  0.4877002239227295\n",
      "     prepare getting local values 0.0012714862823486328\n",
      "     obtained local values 0.00452113151550293\n",
      "get_mc_stats 0.006124258041381836\n"
     ]
    },
    {
     "name": "stderr",
     "output_type": "stream",
     "text": [
      " 60%|██████    | 601/1000 [13:06<08:49,  1.33s/it, Energy=-0.0000006+0.0000000j ± 0.0000019 [σ²=0.0000000]]"
     ]
    },
    {
     "name": "stdout",
     "output_type": "stream",
     "text": [
      "--->> cal O and jac  0.0356442928314209\n",
      "compute_update  0.037799835205078125\n",
      "(0.006762362139150036+0j)\n",
      "n_discard =  144\n",
      "discard samples 0.7701525688171387\n",
      "n_samples_node =  1000\n",
      "generate_samples :  0.45464420318603516\n",
      "     prepare getting local values 0.0014791488647460938\n",
      "     obtained local values 0.00563502311706543\n",
      "get_mc_stats 0.007481098175048828\n"
     ]
    },
    {
     "name": "stderr",
     "output_type": "stream",
     "text": [
      " 60%|██████    | 602/1000 [13:07<08:43,  1.31s/it, Energy=-0.0000005+0.0000000j ± 0.0000015 [σ²=0.0000000]]"
     ]
    },
    {
     "name": "stdout",
     "output_type": "stream",
     "text": [
      "--->> cal O and jac  0.04861807823181152\n",
      "compute_update  0.05092787742614746\n",
      "(0.006762922869549404+0j)\n",
      "n_discard =  144\n",
      "discard samples 0.7870519161224365\n",
      "n_samples_node =  1000\n",
      "generate_samples :  0.45644259452819824\n",
      "     prepare getting local values 0.00275421142578125\n",
      "     obtained local values 0.009453058242797852\n",
      "get_mc_stats 0.011393547058105469\n"
     ]
    },
    {
     "name": "stderr",
     "output_type": "stream",
     "text": [
      " 60%|██████    | 603/1000 [13:09<08:40,  1.31s/it, Energy=0.0000006+0.0000000j ± 0.0000015 [σ²=0.0000000]] "
     ]
    },
    {
     "name": "stdout",
     "output_type": "stream",
     "text": [
      "--->> cal O and jac  0.040230512619018555\n",
      "compute_update  0.04247689247131348\n",
      "(0.006763674740273113+0j)\n",
      "n_discard =  144\n",
      "discard samples 0.9056715965270996\n",
      "n_samples_node =  1000\n",
      "generate_samples :  0.6077232360839844\n",
      "     prepare getting local values 0.0013217926025390625\n",
      "     obtained local values 0.004743099212646484\n",
      "get_mc_stats 0.006477832794189453\n"
     ]
    },
    {
     "name": "stderr",
     "output_type": "stream",
     "text": [
      " 60%|██████    | 604/1000 [13:10<09:09,  1.39s/it, Energy=-0.0000011+0.0000000j ± 0.0000017 [σ²=0.0000000]]"
     ]
    },
    {
     "name": "stdout",
     "output_type": "stream",
     "text": [
      "--->> cal O and jac  0.0429532527923584\n",
      "compute_update  0.045600175857543945\n",
      "(0.006764305657443551+0j)\n",
      "n_discard =  144\n",
      "discard samples 0.7608387470245361\n",
      "n_samples_node =  1000\n",
      "generate_samples :  0.45842599868774414\n",
      "     prepare getting local values 0.0023467540740966797\n",
      "     obtained local values 0.007584095001220703\n",
      "get_mc_stats 0.010094642639160156\n"
     ]
    },
    {
     "name": "stderr",
     "output_type": "stream",
     "text": [
      " 60%|██████    | 605/1000 [13:11<08:54,  1.35s/it, Energy=-0.0000005+0.0000000j ± 0.0000016 [σ²=0.0000000]]"
     ]
    },
    {
     "name": "stdout",
     "output_type": "stream",
     "text": [
      "--->> cal O and jac  0.038057804107666016\n",
      "compute_update  0.041429758071899414\n",
      "(0.006764966439944702+0j)\n",
      "n_discard =  144\n",
      "discard samples 0.7614233493804932\n",
      "n_samples_node =  1000\n",
      "generate_samples :  0.45444703102111816\n",
      "     prepare getting local values 0.0013458728790283203\n",
      "     obtained local values 0.007546186447143555\n",
      "get_mc_stats 0.009415864944458008\n"
     ]
    },
    {
     "name": "stderr",
     "output_type": "stream",
     "text": [
      " 61%|██████    | 606/1000 [13:13<08:43,  1.33s/it, Energy=-0.0000004+0.0000000j ± 0.0000022 [σ²=0.0000000]]"
     ]
    },
    {
     "name": "stdout",
     "output_type": "stream",
     "text": [
      "--->> cal O and jac  0.040087223052978516\n",
      "compute_update  0.04376029968261719\n",
      "(0.006765817006648452+0j)\n",
      "n_discard =  144\n",
      "discard samples 0.7573409080505371\n",
      "n_samples_node =  1000\n",
      "generate_samples :  0.448824405670166\n",
      "     prepare getting local values 0.0015401840209960938\n",
      "     obtained local values 0.007773160934448242\n",
      "get_mc_stats 0.010083436965942383\n"
     ]
    },
    {
     "name": "stderr",
     "output_type": "stream",
     "text": [
      " 61%|██████    | 607/1000 [13:14<08:33,  1.31s/it, Energy=0.0000016+0.0000000j ± 0.0000019 [σ²=0.0000000]] "
     ]
    },
    {
     "name": "stdout",
     "output_type": "stream",
     "text": [
      "--->> cal O and jac  0.0380558967590332\n",
      "compute_update  0.04038357734680176\n",
      "(0.006766573977680398+0j)\n",
      "n_discard =  144\n",
      "discard samples 0.759880781173706\n",
      "n_samples_node =  1000\n",
      "generate_samples :  0.490206241607666\n",
      "     prepare getting local values 0.001298666000366211\n",
      "     obtained local values 0.004709005355834961\n",
      "get_mc_stats 0.006608247756958008\n"
     ]
    },
    {
     "name": "stderr",
     "output_type": "stream",
     "text": [
      " 61%|██████    | 608/1000 [13:15<08:31,  1.30s/it, Energy=-0.0000004+0.0000000j ± 0.0000016 [σ²=0.0000000]]"
     ]
    },
    {
     "name": "stdout",
     "output_type": "stream",
     "text": [
      "--->> cal O and jac  0.037688493728637695\n",
      "compute_update  0.04094195365905762\n",
      "(0.006766746962765201+0j)\n",
      "n_discard =  144\n",
      "discard samples 0.7614490985870361\n",
      "n_samples_node =  1000\n",
      "generate_samples :  0.45580148696899414\n",
      "     prepare getting local values 0.0012848377227783203\n",
      "     obtained local values 0.004578828811645508\n",
      "get_mc_stats 0.006299018859863281\n"
     ]
    },
    {
     "name": "stderr",
     "output_type": "stream",
     "text": [
      " 61%|██████    | 609/1000 [13:17<08:25,  1.29s/it, Energy=-0.0000019+0.0000000j ± 0.0000018 [σ²=0.0000000]]"
     ]
    },
    {
     "name": "stdout",
     "output_type": "stream",
     "text": [
      "--->> cal O and jac  0.0377507209777832\n",
      "compute_update  0.03998446464538574\n",
      "(0.006767619084475155+0j)\n",
      "n_discard =  144\n",
      "discard samples 0.8223865032196045\n",
      "n_samples_node =  1000\n",
      "generate_samples :  0.4527151584625244\n",
      "     prepare getting local values 0.0026292800903320312\n",
      "     obtained local values 0.00870966911315918\n",
      "get_mc_stats 0.011164426803588867\n"
     ]
    },
    {
     "name": "stderr",
     "output_type": "stream",
     "text": [
      " 61%|██████    | 610/1000 [13:18<08:28,  1.30s/it, Energy=0.0000007+0.0000000j ± 0.0000017 [σ²=0.0000000]] "
     ]
    },
    {
     "name": "stdout",
     "output_type": "stream",
     "text": [
      "--->> cal O and jac  0.03615379333496094\n",
      "compute_update  0.03847622871398926\n",
      "(0.006768333856061003+0j)\n",
      "n_discard =  144\n",
      "discard samples 0.7522139549255371\n",
      "n_samples_node =  1000\n",
      "generate_samples :  0.44844698905944824\n",
      "     prepare getting local values 0.002669811248779297\n",
      "     obtained local values 0.008315324783325195\n",
      "get_mc_stats 0.011012077331542969\n"
     ]
    },
    {
     "name": "stderr",
     "output_type": "stream",
     "text": [
      " 61%|██████    | 611/1000 [13:19<08:21,  1.29s/it, Energy=-0.0000003+0.0000000j ± 0.0000016 [σ²=0.0000000]]"
     ]
    },
    {
     "name": "stdout",
     "output_type": "stream",
     "text": [
      "--->> cal O and jac  0.03750014305114746\n",
      "compute_update  0.03971147537231445\n",
      "(0.006768828595449819+0j)\n",
      "n_discard =  144\n",
      "discard samples 0.7782809734344482\n",
      "n_samples_node =  1000\n",
      "generate_samples :  0.44907426834106445\n",
      "     prepare getting local values 0.0026557445526123047\n",
      "     obtained local values 0.008879899978637695\n",
      "get_mc_stats 0.011611461639404297\n"
     ]
    },
    {
     "name": "stderr",
     "output_type": "stream",
     "text": [
      " 61%|██████    | 612/1000 [13:20<08:19,  1.29s/it, Energy=0.0000017+0.0000000j ± 0.0000015 [σ²=0.0000000]] "
     ]
    },
    {
     "name": "stdout",
     "output_type": "stream",
     "text": [
      "--->> cal O and jac  0.04045248031616211\n",
      "compute_update  0.04276156425476074\n",
      "(0.006769430077785987+0j)\n",
      "n_discard =  144\n",
      "discard samples 0.759436845779419\n",
      "n_samples_node =  1000\n",
      "generate_samples :  0.4497990608215332\n",
      "     prepare getting local values 0.0012967586517333984\n",
      "     obtained local values 0.004708290100097656\n",
      "get_mc_stats 0.006610393524169922\n"
     ]
    },
    {
     "name": "stderr",
     "output_type": "stream",
     "text": [
      " 61%|██████▏   | 613/1000 [13:22<08:14,  1.28s/it, Energy=-0.0000003+0.0000000j ± 0.0000019 [σ²=0.0000000]]"
     ]
    },
    {
     "name": "stdout",
     "output_type": "stream",
     "text": [
      "--->> cal O and jac  0.03751039505004883\n",
      "compute_update  0.03961443901062012\n",
      "(0.006770368222237514+0j)\n",
      "n_discard =  144\n",
      "discard samples 0.7611339092254639\n",
      "n_samples_node =  1000\n",
      "generate_samples :  0.45090556144714355\n",
      "     prepare getting local values 0.002567291259765625\n",
      "     obtained local values 0.006036520004272461\n",
      "get_mc_stats 0.008941650390625\n"
     ]
    },
    {
     "name": "stderr",
     "output_type": "stream",
     "text": [
      " 61%|██████▏   | 614/1000 [13:23<08:11,  1.27s/it, Energy=-0.0000011+0.0000000j ± 0.0000017 [σ²=0.0000000]]"
     ]
    },
    {
     "name": "stdout",
     "output_type": "stream",
     "text": [
      "--->> cal O and jac  0.03860783576965332\n",
      "compute_update  0.04092836380004883\n",
      "(0.006771154707946153+0j)\n",
      "n_discard =  144\n",
      "discard samples 0.7590374946594238\n",
      "n_samples_node =  1000\n",
      "generate_samples :  0.4658088684082031\n",
      "     prepare getting local values 0.001313924789428711\n",
      "     obtained local values 0.004806995391845703\n",
      "get_mc_stats 0.0063245296478271484\n"
     ]
    },
    {
     "name": "stderr",
     "output_type": "stream",
     "text": [
      " 62%|██████▏   | 615/1000 [13:24<08:10,  1.27s/it, Energy=-0.0000022+0.0000000j ± 0.0000020 [σ²=0.0000000]]"
     ]
    },
    {
     "name": "stdout",
     "output_type": "stream",
     "text": [
      "--->> cal O and jac  0.03986191749572754\n",
      "compute_update  0.04351305961608887\n",
      "(0.0067714152709253605+0j)\n",
      "n_discard =  144\n",
      "discard samples 0.7643423080444336\n",
      "n_samples_node =  1000\n",
      "generate_samples :  0.4633631706237793\n",
      "     prepare getting local values 0.002343416213989258\n",
      "     obtained local values 0.008622407913208008\n",
      "get_mc_stats 0.01086282730102539\n"
     ]
    },
    {
     "name": "stderr",
     "output_type": "stream",
     "text": [
      " 62%|██████▏   | 616/1000 [13:26<08:10,  1.28s/it, Energy=-0.0000011+0.0000000j ± 0.0000016 [σ²=0.0000000]]"
     ]
    },
    {
     "name": "stdout",
     "output_type": "stream",
     "text": [
      "--->> cal O and jac  0.04297614097595215\n",
      "compute_update  0.04526019096374512\n",
      "(0.006772039061609429+0j)\n",
      "n_discard =  144\n",
      "discard samples 0.7925970554351807\n",
      "n_samples_node =  1000\n",
      "generate_samples :  0.4718811511993408\n",
      "     prepare getting local values 0.0023114681243896484\n",
      "     obtained local values 0.008494853973388672\n",
      "get_mc_stats 0.011324882507324219\n"
     ]
    },
    {
     "name": "stderr",
     "output_type": "stream",
     "text": [
      " 62%|██████▏   | 617/1000 [13:27<08:13,  1.29s/it, Energy=-0.0000009+0.0000000j ± 0.0000017 [σ²=0.0000000]]"
     ]
    },
    {
     "name": "stdout",
     "output_type": "stream",
     "text": [
      "--->> cal O and jac  0.03627443313598633\n",
      "compute_update  0.03846478462219238\n",
      "(0.006772688063688985+0j)\n",
      "n_discard =  144\n",
      "discard samples 0.8008713722229004\n",
      "n_samples_node =  1000\n",
      "generate_samples :  0.4695122241973877\n",
      "     prepare getting local values 0.0023412704467773438\n",
      "     obtained local values 0.007814645767211914\n",
      "get_mc_stats 0.011730670928955078\n"
     ]
    },
    {
     "name": "stderr",
     "output_type": "stream",
     "text": [
      " 62%|██████▏   | 618/1000 [13:28<08:17,  1.30s/it, Energy=-0.0000002+0.0000000j ± 0.0000018 [σ²=0.0000000]]"
     ]
    },
    {
     "name": "stdout",
     "output_type": "stream",
     "text": [
      "--->> cal O and jac  0.04131579399108887\n",
      "compute_update  0.04556679725646973\n",
      "(0.006773441745101909+0j)\n",
      "n_discard =  144\n",
      "discard samples 0.9375720024108887\n",
      "n_samples_node =  1000\n",
      "generate_samples :  0.4576685428619385\n",
      "     prepare getting local values 0.0014071464538574219\n",
      "     obtained local values 0.004782199859619141\n",
      "get_mc_stats 0.0063512325286865234\n"
     ]
    },
    {
     "name": "stderr",
     "output_type": "stream",
     "text": [
      " 62%|██████▏   | 619/1000 [13:30<08:33,  1.35s/it, Energy=-0.0000023+0.0000000j ± 0.0000017 [σ²=0.0000000]]"
     ]
    },
    {
     "name": "stdout",
     "output_type": "stream",
     "text": [
      "--->> cal O and jac  0.04418063163757324\n",
      "compute_update  0.04738473892211914\n",
      "(0.006774057549250571+0j)\n",
      "n_discard =  144\n",
      "discard samples 0.774848461151123\n",
      "n_samples_node =  1000\n",
      "generate_samples :  0.46538591384887695\n",
      "     prepare getting local values 0.0013544559478759766\n",
      "     obtained local values 0.0048487186431884766\n",
      "get_mc_stats 0.006255626678466797\n"
     ]
    },
    {
     "name": "stderr",
     "output_type": "stream",
     "text": [
      " 62%|██████▏   | 620/1000 [13:31<08:25,  1.33s/it, Energy=-0.0000018+0.0000000j ± 0.0000014 [σ²=0.0000000]]"
     ]
    },
    {
     "name": "stdout",
     "output_type": "stream",
     "text": [
      "--->> cal O and jac  0.04016923904418945\n",
      "compute_update  0.043700218200683594\n",
      "(0.006774781742221555+0j)\n",
      "n_discard =  144\n",
      "discard samples 0.8025379180908203\n",
      "n_samples_node =  1000\n",
      "generate_samples :  0.482651948928833\n",
      "     prepare getting local values 0.0026187896728515625\n",
      "     obtained local values 0.006088972091674805\n",
      "get_mc_stats 0.008899688720703125\n"
     ]
    },
    {
     "name": "stderr",
     "output_type": "stream",
     "text": [
      " 62%|██████▏   | 621/1000 [13:32<08:25,  1.33s/it, Energy=-0.0000029+0.0000000j ± 0.0000018 [σ²=0.0000000]]"
     ]
    },
    {
     "name": "stdout",
     "output_type": "stream",
     "text": [
      "--->> cal O and jac  0.04198908805847168\n",
      "compute_update  0.044187068939208984\n",
      "(0.006775050283101343+0j)\n",
      "n_discard =  144\n",
      "discard samples 0.9483771324157715\n",
      "n_samples_node =  1000\n",
      "generate_samples :  0.5457086563110352\n",
      "     prepare getting local values 0.002664804458618164\n",
      "     obtained local values 0.007827997207641602\n",
      "get_mc_stats 0.010720252990722656\n"
     ]
    },
    {
     "name": "stderr",
     "output_type": "stream",
     "text": [
      " 62%|██████▏   | 622/1000 [13:34<08:48,  1.40s/it, Energy=-0.0000017+0.0000000j ± 0.0000017 [σ²=0.0000000]]"
     ]
    },
    {
     "name": "stdout",
     "output_type": "stream",
     "text": [
      "--->> cal O and jac  0.039041996002197266\n",
      "compute_update  0.041353464126586914\n",
      "(0.006775870407519856+0j)\n",
      "n_discard =  144\n",
      "discard samples 0.896491289138794\n",
      "n_samples_node =  1000\n",
      "generate_samples :  0.6252591609954834\n",
      "     prepare getting local values 0.0024688243865966797\n",
      "     obtained local values 0.008530139923095703\n",
      "get_mc_stats 0.01148080825805664\n"
     ]
    },
    {
     "name": "stderr",
     "output_type": "stream",
     "text": [
      " 62%|██████▏   | 623/1000 [13:35<09:07,  1.45s/it, Energy=-0.0000016+0.0000000j ± 0.0000018 [σ²=0.0000000]]"
     ]
    },
    {
     "name": "stdout",
     "output_type": "stream",
     "text": [
      "--->> cal O and jac  0.03710675239562988\n",
      "compute_update  0.040083885192871094\n",
      "(0.006776291158800758+0j)\n",
      "n_discard =  144\n",
      "discard samples 1.0311071872711182\n",
      "n_samples_node =  1000\n",
      "generate_samples :  0.5469377040863037\n",
      "     prepare getting local values 0.0027430057525634766\n",
      "     obtained local values 0.01005697250366211\n",
      "get_mc_stats 0.013252496719360352\n"
     ]
    },
    {
     "name": "stderr",
     "output_type": "stream",
     "text": [
      " 62%|██████▏   | 624/1000 [13:37<09:26,  1.51s/it, Energy=0.0000002+0.0000000j ± 0.0000017 [σ²=0.0000000]] "
     ]
    },
    {
     "name": "stdout",
     "output_type": "stream",
     "text": [
      "--->> cal O and jac  0.04183602333068848\n",
      "compute_update  0.04500770568847656\n",
      "(0.006776800672167161+0j)\n",
      "n_discard =  144\n",
      "discard samples 0.7660360336303711\n",
      "n_samples_node =  1000\n",
      "generate_samples :  0.5707190036773682\n",
      "     prepare getting local values 0.002047300338745117\n",
      "     obtained local values 0.007669925689697266\n",
      "get_mc_stats 0.010418176651000977\n"
     ]
    },
    {
     "name": "stderr",
     "output_type": "stream",
     "text": [
      " 62%|██████▎   | 625/1000 [13:38<09:12,  1.47s/it, Energy=0.0000006+0.0000000j ± 0.0000016 [σ²=0.0000000]]"
     ]
    },
    {
     "name": "stdout",
     "output_type": "stream",
     "text": [
      "--->> cal O and jac  0.039254188537597656\n",
      "compute_update  0.04360318183898926\n",
      "(0.006777636380517579+0j)\n",
      "n_discard =  144\n",
      "discard samples 0.8022627830505371\n",
      "n_samples_node =  1000\n",
      "generate_samples :  0.4577198028564453\n",
      "     prepare getting local values 0.002662181854248047\n",
      "     obtained local values 0.007648468017578125\n",
      "get_mc_stats 0.010428667068481445\n"
     ]
    },
    {
     "name": "stderr",
     "output_type": "stream",
     "text": [
      " 63%|██████▎   | 626/1000 [13:40<08:52,  1.42s/it, Energy=-0.0000022+0.0000000j ± 0.0000019 [σ²=0.0000000]]"
     ]
    },
    {
     "name": "stdout",
     "output_type": "stream",
     "text": [
      "--->> cal O and jac  0.037581443786621094\n",
      "compute_update  0.03970050811767578\n",
      "(0.006778204939061614+0j)\n",
      "n_discard =  144\n",
      "discard samples 0.7675189971923828\n",
      "n_samples_node =  1000\n",
      "generate_samples :  0.46190428733825684\n",
      "     prepare getting local values 0.0012831687927246094\n",
      "     obtained local values 0.007346630096435547\n",
      "get_mc_stats 0.008976936340332031\n"
     ]
    },
    {
     "name": "stderr",
     "output_type": "stream",
     "text": [
      " 63%|██████▎   | 627/1000 [13:41<08:35,  1.38s/it, Energy=-0.0000006+0.0000000j ± 0.0000015 [σ²=0.0000000]]"
     ]
    },
    {
     "name": "stdout",
     "output_type": "stream",
     "text": [
      "--->> cal O and jac  0.03783559799194336\n",
      "compute_update  0.04131793975830078\n",
      "(0.006778748444325696+0j)\n",
      "n_discard =  144\n",
      "discard samples 0.8184361457824707\n",
      "n_samples_node =  1000\n",
      "generate_samples :  0.4755113124847412\n",
      "     prepare getting local values 0.002400636672973633\n",
      "     obtained local values 0.0076138973236083984\n",
      "get_mc_stats 0.009727001190185547\n"
     ]
    },
    {
     "name": "stderr",
     "output_type": "stream",
     "text": [
      " 63%|██████▎   | 628/1000 [13:42<08:29,  1.37s/it, Energy=0.0000039+0.0000000j ± 0.0000017 [σ²=0.0000000]] "
     ]
    },
    {
     "name": "stdout",
     "output_type": "stream",
     "text": [
      "--->> cal O and jac  0.036924123764038086\n",
      "compute_update  0.03911447525024414\n",
      "(0.0067797064322385955+0j)\n",
      "n_discard =  144\n",
      "discard samples 0.7663874626159668\n",
      "n_samples_node =  1000\n",
      "generate_samples :  0.4626152515411377\n",
      "     prepare getting local values 0.0013213157653808594\n",
      "     obtained local values 0.004719257354736328\n",
      "get_mc_stats 0.0063877105712890625\n"
     ]
    },
    {
     "name": "stderr",
     "output_type": "stream",
     "text": [
      " 63%|██████▎   | 629/1000 [13:44<08:17,  1.34s/it, Energy=-0.0000008+0.0000000j ± 0.0000019 [σ²=0.0000000]]"
     ]
    },
    {
     "name": "stdout",
     "output_type": "stream",
     "text": [
      "--->> cal O and jac  0.03542780876159668\n",
      "compute_update  0.03766369819641113\n",
      "(0.006780588153693647+0j)\n",
      "n_discard =  144\n",
      "discard samples 0.7658987045288086\n",
      "n_samples_node =  1000\n",
      "generate_samples :  0.45235681533813477\n",
      "     prepare getting local values 0.0013566017150878906\n",
      "     obtained local values 0.004752397537231445\n",
      "get_mc_stats 0.006487607955932617\n"
     ]
    },
    {
     "name": "stderr",
     "output_type": "stream",
     "text": [
      " 63%|██████▎   | 630/1000 [13:45<08:08,  1.32s/it, Energy=0.0000005+0.0000000j ± 0.0000017 [σ²=0.0000000]] "
     ]
    },
    {
     "name": "stdout",
     "output_type": "stream",
     "text": [
      "--->> cal O and jac  0.03849625587463379\n",
      "compute_update  0.040660858154296875\n",
      "(0.00678127076555182+0j)\n",
      "n_discard =  144\n",
      "discard samples 0.7618489265441895\n",
      "n_samples_node =  1000\n",
      "generate_samples :  0.4675469398498535\n",
      "     prepare getting local values 0.0012607574462890625\n",
      "     obtained local values 0.007023811340332031\n",
      "get_mc_stats 0.008669614791870117\n"
     ]
    },
    {
     "name": "stderr",
     "output_type": "stream",
     "text": [
      " 63%|██████▎   | 631/1000 [13:46<08:02,  1.31s/it, Energy=0.0000000+0.0000000j ± 0.0000017 [σ²=0.0000000]]"
     ]
    },
    {
     "name": "stdout",
     "output_type": "stream",
     "text": [
      "--->> cal O and jac  0.03980278968811035\n",
      "compute_update  0.04365277290344238\n",
      "(0.0067819043591548145+0j)\n",
      "n_discard =  144\n",
      "discard samples 0.7773900032043457\n",
      "n_samples_node =  1000\n",
      "generate_samples :  0.4537465572357178\n",
      "     prepare getting local values 0.0012967586517333984\n",
      "     obtained local values 0.004693508148193359\n",
      "get_mc_stats 0.006438016891479492\n"
     ]
    },
    {
     "name": "stderr",
     "output_type": "stream",
     "text": [
      " 63%|██████▎   | 632/1000 [13:47<07:58,  1.30s/it, Energy=0.0000015+0.0000000j ± 0.0000023 [σ²=0.0000000]]"
     ]
    },
    {
     "name": "stdout",
     "output_type": "stream",
     "text": [
      "--->> cal O and jac  0.03705644607543945\n",
      "compute_update  0.041082143783569336\n",
      "(0.0067826685942591405+0j)\n",
      "n_discard =  144\n",
      "discard samples 0.7661271095275879\n",
      "n_samples_node =  1000\n",
      "generate_samples :  0.48546791076660156\n",
      "     prepare getting local values 0.0014376640319824219\n",
      "     obtained local values 0.005074024200439453\n",
      "get_mc_stats 0.006741762161254883\n"
     ]
    },
    {
     "name": "stderr",
     "output_type": "stream",
     "text": [
      " 63%|██████▎   | 633/1000 [13:49<07:57,  1.30s/it, Energy=-0.0000005+0.0000000j ± 0.0000015 [σ²=0.0000000]]"
     ]
    },
    {
     "name": "stdout",
     "output_type": "stream",
     "text": [
      "--->> cal O and jac  0.037641286849975586\n",
      "compute_update  0.039977073669433594\n",
      "(0.006782909809004152+0j)\n",
      "n_discard =  144\n",
      "discard samples 0.8313322067260742\n",
      "n_samples_node =  1000\n",
      "generate_samples :  0.6173579692840576\n",
      "     prepare getting local values 0.002040386199951172\n",
      "     obtained local values 0.007403373718261719\n",
      "get_mc_stats 0.010396957397460938\n"
     ]
    },
    {
     "name": "stderr",
     "output_type": "stream",
     "text": [
      " 63%|██████▎   | 634/1000 [13:50<08:18,  1.36s/it, Energy=0.0000015+0.0000000j ± 0.0000016 [σ²=0.0000000]] "
     ]
    },
    {
     "name": "stdout",
     "output_type": "stream",
     "text": [
      "--->> cal O and jac  0.04285073280334473\n",
      "compute_update  0.0452885627746582\n",
      "(0.0067833208654166635+0j)\n",
      "n_discard =  144\n",
      "discard samples 0.8047268390655518\n",
      "n_samples_node =  1000\n",
      "generate_samples :  0.47647738456726074\n",
      "     prepare getting local values 0.0013585090637207031\n",
      "     obtained local values 0.00493621826171875\n",
      "get_mc_stats 0.006639003753662109\n"
     ]
    },
    {
     "name": "stderr",
     "output_type": "stream",
     "text": [
      " 64%|██████▎   | 635/1000 [13:52<08:13,  1.35s/it, Energy=0.0000006+0.0000000j ± 0.0000019 [σ²=0.0000000]]"
     ]
    },
    {
     "name": "stdout",
     "output_type": "stream",
     "text": [
      "--->> cal O and jac  0.03884387016296387\n",
      "compute_update  0.042249202728271484\n",
      "(0.006783780916679698+0j)\n",
      "n_discard =  144\n",
      "discard samples 0.8186190128326416\n",
      "n_samples_node =  1000\n",
      "generate_samples :  0.4557530879974365\n",
      "     prepare getting local values 0.0013301372528076172\n",
      "     obtained local values 0.004851341247558594\n",
      "get_mc_stats 0.006579160690307617\n"
     ]
    },
    {
     "name": "stderr",
     "output_type": "stream",
     "text": [
      " 64%|██████▎   | 636/1000 [13:53<08:09,  1.34s/it, Energy=-0.0000003+0.0000000j ± 0.0000019 [σ²=0.0000000]]"
     ]
    },
    {
     "name": "stdout",
     "output_type": "stream",
     "text": [
      "--->> cal O and jac  0.04012274742126465\n",
      "compute_update  0.04233956336975098\n",
      "(0.0067845657916662154+0j)\n",
      "n_discard =  144\n",
      "discard samples 0.7807893753051758\n",
      "n_samples_node =  1000\n",
      "generate_samples :  0.45131683349609375\n",
      "     prepare getting local values 0.0012750625610351562\n",
      "     obtained local values 0.0045659542083740234\n",
      "get_mc_stats 0.00640869140625\n"
     ]
    },
    {
     "name": "stderr",
     "output_type": "stream",
     "text": [
      " 64%|██████▎   | 637/1000 [13:54<08:01,  1.33s/it, Energy=0.0000010+0.0000000j ± 0.0000018 [σ²=0.0000000]] "
     ]
    },
    {
     "name": "stdout",
     "output_type": "stream",
     "text": [
      "--->> cal O and jac  0.03815603256225586\n",
      "compute_update  0.040599822998046875\n",
      "(0.006784710453192922+0j)\n",
      "n_discard =  144\n",
      "discard samples 0.7596592903137207\n",
      "n_samples_node =  1000\n",
      "generate_samples :  0.44843554496765137\n",
      "     prepare getting local values 0.0013928413391113281\n",
      "     obtained local values 0.004776716232299805\n",
      "get_mc_stats 0.006566762924194336\n"
     ]
    },
    {
     "name": "stderr",
     "output_type": "stream",
     "text": [
      " 64%|██████▍   | 638/1000 [13:55<07:52,  1.31s/it, Energy=0.0000004+0.0000000j ± 0.0000015 [σ²=0.0000000]]"
     ]
    },
    {
     "name": "stdout",
     "output_type": "stream",
     "text": [
      "--->> cal O and jac  0.03827309608459473\n",
      "compute_update  0.04198503494262695\n",
      "(0.006785209781708085+0j)\n",
      "n_discard =  144\n",
      "discard samples 0.7728722095489502\n",
      "n_samples_node =  1000\n",
      "generate_samples :  0.46685147285461426\n",
      "     prepare getting local values 0.002669095993041992\n",
      "     obtained local values 0.008924484252929688\n",
      "get_mc_stats 0.011547565460205078\n"
     ]
    },
    {
     "name": "stderr",
     "output_type": "stream",
     "text": [
      " 64%|██████▍   | 639/1000 [13:57<07:49,  1.30s/it, Energy=0.0000010+0.0000000j ± 0.0000012 [σ²=0.0000000]]"
     ]
    },
    {
     "name": "stdout",
     "output_type": "stream",
     "text": [
      "--->> cal O and jac  0.036252498626708984\n",
      "compute_update  0.04045534133911133\n",
      "(0.006785605740990641+0j)\n",
      "n_discard =  144\n",
      "discard samples 1.0233590602874756\n",
      "n_samples_node =  1000\n",
      "generate_samples :  0.45226383209228516\n",
      "     prepare getting local values 0.0014026165008544922\n",
      "     obtained local values 0.0048465728759765625\n",
      "get_mc_stats 0.006585836410522461\n"
     ]
    },
    {
     "name": "stderr",
     "output_type": "stream",
     "text": [
      " 64%|██████▍   | 640/1000 [13:58<08:13,  1.37s/it, Energy=0.0000008+0.0000000j ± 0.0000015 [σ²=0.0000000]]"
     ]
    },
    {
     "name": "stdout",
     "output_type": "stream",
     "text": [
      "--->> cal O and jac  0.04103350639343262\n",
      "compute_update  0.04523944854736328\n",
      "(0.006785806783913322+0j)\n",
      "n_discard =  144\n",
      "discard samples 0.7639849185943604\n",
      "n_samples_node =  1000\n",
      "generate_samples :  0.5312092304229736\n",
      "     prepare getting local values 0.002269744873046875\n",
      "     obtained local values 0.0058116912841796875\n",
      "get_mc_stats 0.008259773254394531\n"
     ]
    },
    {
     "name": "stderr",
     "output_type": "stream",
     "text": [
      " 64%|██████▍   | 641/1000 [14:00<08:09,  1.36s/it, Energy=-0.0000010+0.0000000j ± 0.0000015 [σ²=0.0000000]]"
     ]
    },
    {
     "name": "stdout",
     "output_type": "stream",
     "text": [
      "--->> cal O and jac  0.03863239288330078\n",
      "compute_update  0.04071235656738281\n",
      "(0.006786429044093317+0j)\n",
      "n_discard =  144\n",
      "discard samples 0.7985637187957764\n",
      "n_samples_node =  1000\n",
      "generate_samples :  0.4920961856842041\n",
      "     prepare getting local values 0.002522706985473633\n",
      "     obtained local values 0.009102582931518555\n",
      "get_mc_stats 0.011817455291748047\n"
     ]
    },
    {
     "name": "stderr",
     "output_type": "stream",
     "text": [
      " 64%|██████▍   | 642/1000 [14:01<08:08,  1.36s/it, Energy=-0.0000026+0.0000000j ± 0.0000014 [σ²=0.0000000]]"
     ]
    },
    {
     "name": "stdout",
     "output_type": "stream",
     "text": [
      "--->> cal O and jac  0.06029534339904785\n",
      "compute_update  0.06368541717529297\n",
      "(0.006787168738570811+0j)\n",
      "n_discard =  144\n",
      "discard samples 0.8743672370910645\n",
      "n_samples_node =  1000\n",
      "generate_samples :  0.5395307540893555\n",
      "     prepare getting local values 0.002674102783203125\n",
      "     obtained local values 0.009582757949829102\n",
      "get_mc_stats 0.012124776840209961\n"
     ]
    },
    {
     "name": "stderr",
     "output_type": "stream",
     "text": [
      " 64%|██████▍   | 643/1000 [14:02<08:17,  1.39s/it, Energy=0.0000013+0.0000000j ± 0.0000015 [σ²=0.0000000]] "
     ]
    },
    {
     "name": "stdout",
     "output_type": "stream",
     "text": [
      "--->> cal O and jac  0.03478860855102539\n",
      "compute_update  0.03677988052368164\n",
      "(0.006787282682771383+0j)\n",
      "n_discard =  144\n",
      "discard samples 0.7666668891906738\n",
      "n_samples_node =  1000\n",
      "generate_samples :  0.45247530937194824\n",
      "     prepare getting local values 0.001348257064819336\n",
      "     obtained local values 0.004997730255126953\n",
      "get_mc_stats 0.0068852901458740234\n"
     ]
    },
    {
     "name": "stderr",
     "output_type": "stream",
     "text": [
      " 64%|██████▍   | 644/1000 [14:04<08:02,  1.36s/it, Energy=0.0000003+0.0000000j ± 0.0000013 [σ²=0.0000000]]"
     ]
    },
    {
     "name": "stdout",
     "output_type": "stream",
     "text": [
      "--->> cal O and jac  0.03625917434692383\n",
      "compute_update  0.040162086486816406\n",
      "(0.00678775403713146+0j)\n",
      "n_discard =  144\n",
      "discard samples 0.7650067806243896\n",
      "n_samples_node =  1000\n",
      "generate_samples :  0.5088906288146973\n",
      "     prepare getting local values 0.0014159679412841797\n",
      "     obtained local values 0.0050389766693115234\n",
      "get_mc_stats 0.0070493221282958984\n"
     ]
    },
    {
     "name": "stderr",
     "output_type": "stream",
     "text": [
      " 64%|██████▍   | 645/1000 [14:05<07:58,  1.35s/it, Energy=-0.0000012+0.0000000j ± 0.0000017 [σ²=0.0000000]]"
     ]
    },
    {
     "name": "stdout",
     "output_type": "stream",
     "text": [
      "--->> cal O and jac  0.03953051567077637\n",
      "compute_update  0.04187130928039551\n",
      "(0.006788450235046103+0j)\n",
      "n_discard =  144\n",
      "discard samples 0.8531327247619629\n",
      "n_samples_node =  1000\n",
      "generate_samples :  0.6281166076660156\n",
      "     prepare getting local values 0.0013589859008789062\n",
      "     obtained local values 0.007536649703979492\n",
      "get_mc_stats 0.00973963737487793\n"
     ]
    },
    {
     "name": "stderr",
     "output_type": "stream",
     "text": [
      " 65%|██████▍   | 646/1000 [14:07<08:16,  1.40s/it, Energy=-0.0000009+0.0000000j ± 0.0000014 [σ²=0.0000000]]"
     ]
    },
    {
     "name": "stdout",
     "output_type": "stream",
     "text": [
      "--->> cal O and jac  0.03626060485839844\n",
      "compute_update  0.03938937187194824\n",
      "(0.006789020403545984+0j)\n",
      "n_discard =  144\n",
      "discard samples 1.0280537605285645\n",
      "n_samples_node =  1000\n",
      "generate_samples :  0.45509862899780273\n",
      "     prepare getting local values 0.0023086071014404297\n",
      "     obtained local values 0.008477210998535156\n",
      "get_mc_stats 0.010877847671508789\n"
     ]
    },
    {
     "name": "stderr",
     "output_type": "stream",
     "text": [
      " 65%|██████▍   | 647/1000 [14:08<08:29,  1.44s/it, Energy=0.0000017+0.0000000j ± 0.0000016 [σ²=0.0000000]] "
     ]
    },
    {
     "name": "stdout",
     "output_type": "stream",
     "text": [
      "--->> cal O and jac  0.0392608642578125\n",
      "compute_update  0.04135584831237793\n",
      "(0.0067895654216403095+0j)\n",
      "n_discard =  144\n",
      "discard samples 0.7714395523071289\n",
      "n_samples_node =  1000\n",
      "generate_samples :  0.4450385570526123\n",
      "     prepare getting local values 0.0012965202331542969\n",
      "     obtained local values 0.0046710968017578125\n",
      "get_mc_stats 0.0064144134521484375\n"
     ]
    },
    {
     "name": "stderr",
     "output_type": "stream",
     "text": [
      " 65%|██████▍   | 648/1000 [14:09<08:09,  1.39s/it, Energy=-0.0000022+0.0000000j ± 0.0000019 [σ²=0.0000000]]"
     ]
    },
    {
     "name": "stdout",
     "output_type": "stream",
     "text": [
      "--->> cal O and jac  0.03903698921203613\n",
      "compute_update  0.042835235595703125\n",
      "(0.006790009188929223+0j)\n",
      "n_discard =  144\n",
      "discard samples 0.7656304836273193\n",
      "n_samples_node =  1000\n",
      "generate_samples :  0.4529106616973877\n",
      "     prepare getting local values 0.0013651847839355469\n",
      "     obtained local values 0.004994392395019531\n",
      "get_mc_stats 0.00727534294128418\n"
     ]
    },
    {
     "name": "stderr",
     "output_type": "stream",
     "text": [
      " 65%|██████▍   | 649/1000 [14:11<07:55,  1.36s/it, Energy=-0.0000006+0.0000000j ± 0.0000015 [σ²=0.0000000]]"
     ]
    },
    {
     "name": "stdout",
     "output_type": "stream",
     "text": [
      "--->> cal O and jac  0.04094648361206055\n",
      "compute_update  0.04474067687988281\n",
      "(0.006790572970971855+0j)\n",
      "n_discard =  144\n",
      "discard samples 0.8284194469451904\n",
      "n_samples_node =  1000\n",
      "generate_samples :  0.45249199867248535\n",
      "     prepare getting local values 0.0027043819427490234\n",
      "     obtained local values 0.009823799133300781\n",
      "get_mc_stats 0.012387275695800781\n"
     ]
    },
    {
     "name": "stderr",
     "output_type": "stream",
     "text": [
      " 65%|██████▌   | 650/1000 [14:12<07:52,  1.35s/it, Energy=-0.0000008+0.0000000j ± 0.0000017 [σ²=0.0000000]]"
     ]
    },
    {
     "name": "stdout",
     "output_type": "stream",
     "text": [
      "--->> cal O and jac  0.03480672836303711\n",
      "compute_update  0.03892660140991211\n",
      "(0.006790873433361146+0j)\n",
      "n_discard =  144\n",
      "discard samples 0.753699779510498\n",
      "n_samples_node =  1000\n",
      "generate_samples :  0.6138615608215332\n",
      "     prepare getting local values 0.002938985824584961\n",
      "     obtained local values 0.007487297058105469\n",
      "get_mc_stats 0.01058816909790039\n"
     ]
    },
    {
     "name": "stderr",
     "output_type": "stream",
     "text": [
      " 65%|██████▌   | 651/1000 [14:13<07:58,  1.37s/it, Energy=-0.0000011+0.0000000j ± 0.0000014 [σ²=0.0000000]]"
     ]
    },
    {
     "name": "stdout",
     "output_type": "stream",
     "text": [
      "--->> cal O and jac  0.03746986389160156\n",
      "compute_update  0.03956437110900879\n",
      "(0.006791529746502782+0j)\n",
      "n_discard =  144\n",
      "discard samples 0.7555224895477295\n",
      "n_samples_node =  1000\n",
      "generate_samples :  0.4511113166809082\n",
      "     prepare getting local values 0.0013997554779052734\n",
      "     obtained local values 0.0049228668212890625\n",
      "get_mc_stats 0.0067424774169921875\n"
     ]
    },
    {
     "name": "stderr",
     "output_type": "stream",
     "text": [
      " 65%|██████▌   | 652/1000 [14:15<07:45,  1.34s/it, Energy=-0.0000010+0.0000000j ± 0.0000019 [σ²=0.0000000]]"
     ]
    },
    {
     "name": "stdout",
     "output_type": "stream",
     "text": [
      "--->> cal O and jac  0.03911948204040527\n",
      "compute_update  0.04131889343261719\n",
      "(0.00679164982163311+0j)\n",
      "n_discard =  144\n",
      "discard samples 0.7571992874145508\n",
      "n_samples_node =  1000\n",
      "generate_samples :  0.4529910087585449\n",
      "     prepare getting local values 0.0024962425231933594\n",
      "     obtained local values 0.005807638168334961\n",
      "get_mc_stats 0.008472204208374023\n"
     ]
    },
    {
     "name": "stderr",
     "output_type": "stream",
     "text": [
      " 65%|██████▌   | 653/1000 [14:16<07:35,  1.31s/it, Energy=0.0000026+0.0000000j ± 0.0000016 [σ²=0.0000000]] "
     ]
    },
    {
     "name": "stdout",
     "output_type": "stream",
     "text": [
      "--->> cal O and jac  0.03936362266540527\n",
      "compute_update  0.041487693786621094\n",
      "(0.006792243919098447+0j)\n",
      "n_discard =  144\n",
      "discard samples 0.8551671504974365\n",
      "n_samples_node =  1000\n",
      "generate_samples :  0.6125991344451904\n",
      "     prepare getting local values 0.002364635467529297\n",
      "     obtained local values 0.008260250091552734\n",
      "get_mc_stats 0.011154413223266602\n"
     ]
    },
    {
     "name": "stderr",
     "output_type": "stream",
     "text": [
      " 65%|██████▌   | 654/1000 [14:17<07:56,  1.38s/it, Energy=-0.0000012+0.0000000j ± 0.0000017 [σ²=0.0000000]]"
     ]
    },
    {
     "name": "stdout",
     "output_type": "stream",
     "text": [
      "--->> cal O and jac  0.0406343936920166\n",
      "compute_update  0.043996334075927734\n",
      "(0.006792472204018538+0j)\n",
      "n_discard =  144\n",
      "discard samples 0.757728099822998\n",
      "n_samples_node =  1000\n",
      "generate_samples :  0.501502275466919\n",
      "     prepare getting local values 0.0022215843200683594\n",
      "     obtained local values 0.00841379165649414\n",
      "get_mc_stats 0.010218381881713867\n"
     ]
    },
    {
     "name": "stderr",
     "output_type": "stream",
     "text": [
      " 66%|██████▌   | 655/1000 [14:19<07:48,  1.36s/it, Energy=-0.0000000+0.0000000j ± 0.0000017 [σ²=0.0000000]]"
     ]
    },
    {
     "name": "stdout",
     "output_type": "stream",
     "text": [
      "--->> cal O and jac  0.03862571716308594\n",
      "compute_update  0.042517662048339844\n",
      "(0.006792657603234535+0j)\n",
      "n_discard =  144\n",
      "discard samples 0.754126787185669\n",
      "n_samples_node =  1000\n",
      "generate_samples :  0.5816259384155273\n",
      "     prepare getting local values 0.002324342727661133\n",
      "     obtained local values 0.008524894714355469\n",
      "get_mc_stats 0.010932683944702148\n"
     ]
    },
    {
     "name": "stderr",
     "output_type": "stream",
     "text": [
      " 66%|██████▌   | 656/1000 [14:20<07:50,  1.37s/it, Energy=-0.0000020+0.0000000j ± 0.0000017 [σ²=0.0000000]]"
     ]
    },
    {
     "name": "stdout",
     "output_type": "stream",
     "text": [
      "--->> cal O and jac  0.03895306587219238\n",
      "compute_update  0.042241573333740234\n",
      "(0.006793182203837015+0j)\n",
      "n_discard =  144\n",
      "discard samples 0.7624948024749756\n",
      "n_samples_node =  1000\n",
      "generate_samples :  0.4462261199951172\n",
      "     prepare getting local values 0.0014033317565917969\n",
      "     obtained local values 0.004999876022338867\n",
      "get_mc_stats 0.006935596466064453\n"
     ]
    },
    {
     "name": "stderr",
     "output_type": "stream",
     "text": [
      " 66%|██████▌   | 657/1000 [14:21<07:38,  1.34s/it, Energy=0.0000025+0.0000000j ± 0.0000013 [σ²=0.0000000]] "
     ]
    },
    {
     "name": "stdout",
     "output_type": "stream",
     "text": [
      "--->> cal O and jac  0.0429377555847168\n",
      "compute_update  0.04521965980529785\n",
      "(0.006793854543246333+0j)\n",
      "n_discard =  144\n",
      "discard samples 0.7595818042755127\n",
      "n_samples_node =  1000\n",
      "generate_samples :  0.45354652404785156\n",
      "     prepare getting local values 0.0013496875762939453\n",
      "     obtained local values 0.004929065704345703\n",
      "get_mc_stats 0.0069713592529296875\n"
     ]
    },
    {
     "name": "stderr",
     "output_type": "stream",
     "text": [
      " 66%|██████▌   | 658/1000 [14:23<07:29,  1.31s/it, Energy=0.0000010+0.0000000j ± 0.0000020 [σ²=0.0000000]]"
     ]
    },
    {
     "name": "stdout",
     "output_type": "stream",
     "text": [
      "--->> cal O and jac  0.03998899459838867\n",
      "compute_update  0.04248762130737305\n",
      "(0.006794378745928566+0j)\n",
      "n_discard =  144\n",
      "discard samples 0.9074137210845947\n",
      "n_samples_node =  1000\n",
      "generate_samples :  0.45944833755493164\n",
      "     prepare getting local values 0.002726316452026367\n",
      "     obtained local values 0.008487462997436523\n",
      "get_mc_stats 0.0113525390625\n"
     ]
    },
    {
     "name": "stderr",
     "output_type": "stream",
     "text": [
      " 66%|██████▌   | 659/1000 [14:24<07:39,  1.35s/it, Energy=-0.0000028+0.0000000j ± 0.0000016 [σ²=0.0000000]]"
     ]
    },
    {
     "name": "stdout",
     "output_type": "stream",
     "text": [
      "--->> cal O and jac  0.038969993591308594\n",
      "compute_update  0.041208505630493164\n",
      "(0.006794321655469108+0j)\n",
      "n_discard =  144\n",
      "discard samples 0.9616448879241943\n",
      "n_samples_node =  1000\n",
      "generate_samples :  0.6252899169921875\n",
      "     prepare getting local values 0.002669095993041992\n",
      "     obtained local values 0.009788274765014648\n",
      "get_mc_stats 0.012725353240966797\n"
     ]
    },
    {
     "name": "stderr",
     "output_type": "stream",
     "text": [
      " 66%|██████▌   | 660/1000 [14:26<08:08,  1.44s/it, Energy=0.0000019+0.0000000j ± 0.0000018 [σ²=0.0000000]] "
     ]
    },
    {
     "name": "stdout",
     "output_type": "stream",
     "text": [
      "--->> cal O and jac  0.03636932373046875\n",
      "compute_update  0.040459394454956055\n",
      "(0.006794865597301672+0j)\n",
      "n_discard =  144\n",
      "discard samples 0.7745394706726074\n",
      "n_samples_node =  1000\n",
      "generate_samples :  0.4544963836669922\n",
      "     prepare getting local values 0.00250244140625\n",
      "     obtained local values 0.008741140365600586\n",
      "get_mc_stats 0.011172056198120117\n"
     ]
    },
    {
     "name": "stderr",
     "output_type": "stream",
     "text": [
      " 66%|██████▌   | 661/1000 [14:27<07:51,  1.39s/it, Energy=-0.0000019+0.0000000j ± 0.0000017 [σ²=0.0000000]]"
     ]
    },
    {
     "name": "stdout",
     "output_type": "stream",
     "text": [
      "--->> cal O and jac  0.03901195526123047\n",
      "compute_update  0.04114413261413574\n",
      "(0.006795228727631947+0j)\n",
      "n_discard =  144\n",
      "discard samples 0.7542922496795654\n",
      "n_samples_node =  1000\n",
      "generate_samples :  0.4464914798736572\n",
      "     prepare getting local values 0.0013992786407470703\n",
      "     obtained local values 0.00479435920715332\n",
      "get_mc_stats 0.006532192230224609\n"
     ]
    },
    {
     "name": "stderr",
     "output_type": "stream",
     "text": [
      " 66%|██████▌   | 662/1000 [14:28<07:35,  1.35s/it, Energy=-0.0000006+0.0000000j ± 0.0000016 [σ²=0.0000000]]"
     ]
    },
    {
     "name": "stdout",
     "output_type": "stream",
     "text": [
      "--->> cal O and jac  0.04003763198852539\n",
      "compute_update  0.042252302169799805\n",
      "(0.0067957805969610105+0j)\n",
      "n_discard =  144\n",
      "discard samples 0.9414410591125488\n",
      "n_samples_node =  1000\n",
      "generate_samples :  0.49417805671691895\n",
      "     prepare getting local values 0.0021991729736328125\n",
      "     obtained local values 0.008989095687866211\n",
      "get_mc_stats 0.011750936508178711\n"
     ]
    },
    {
     "name": "stderr",
     "output_type": "stream",
     "text": [
      " 66%|██████▋   | 663/1000 [14:30<07:48,  1.39s/it, Energy=0.0000007+0.0000000j ± 0.0000016 [σ²=0.0000000]] "
     ]
    },
    {
     "name": "stdout",
     "output_type": "stream",
     "text": [
      "--->> cal O and jac  0.03860354423522949\n",
      "compute_update  0.04203367233276367\n",
      "(0.006796416110861541+0j)\n",
      "n_discard =  144\n",
      "discard samples 0.7751202583312988\n",
      "n_samples_node =  1000\n",
      "generate_samples :  0.4746263027191162\n",
      "     prepare getting local values 0.0024399757385253906\n",
      "     obtained local values 0.008537769317626953\n",
      "get_mc_stats 0.010998249053955078\n"
     ]
    },
    {
     "name": "stderr",
     "output_type": "stream",
     "text": [
      " 66%|██████▋   | 664/1000 [14:31<07:38,  1.37s/it, Energy=-0.0000007+0.0000000j ± 0.0000021 [σ²=0.0000000]]"
     ]
    },
    {
     "name": "stdout",
     "output_type": "stream",
     "text": [
      "--->> cal O and jac  0.039890289306640625\n",
      "compute_update  0.04239916801452637\n",
      "(0.006796779971564772+0j)\n",
      "n_discard =  144\n",
      "discard samples 0.8337655067443848\n",
      "n_samples_node =  1000\n",
      "generate_samples :  0.46996235847473145\n",
      "     prepare getting local values 0.002172708511352539\n",
      "     obtained local values 0.008401870727539062\n",
      "get_mc_stats 0.010569334030151367\n"
     ]
    },
    {
     "name": "stderr",
     "output_type": "stream",
     "text": [
      " 66%|██████▋   | 665/1000 [14:32<07:36,  1.36s/it, Energy=0.0000024+0.0000000j ± 0.0000020 [σ²=0.0000000]] "
     ]
    },
    {
     "name": "stdout",
     "output_type": "stream",
     "text": [
      "--->> cal O and jac  0.042624711990356445\n",
      "compute_update  0.04492306709289551\n",
      "(0.0067972997739698315+0j)\n",
      "n_discard =  144\n",
      "discard samples 0.7821247577667236\n",
      "n_samples_node =  1000\n",
      "generate_samples :  0.46738362312316895\n",
      "     prepare getting local values 0.0018546581268310547\n",
      "     obtained local values 0.005162715911865234\n",
      "get_mc_stats 0.007642507553100586\n"
     ]
    },
    {
     "name": "stderr",
     "output_type": "stream",
     "text": [
      " 67%|██████▋   | 666/1000 [14:34<07:29,  1.34s/it, Energy=0.0000005+0.0000000j ± 0.0000021 [σ²=0.0000000]]"
     ]
    },
    {
     "name": "stdout",
     "output_type": "stream",
     "text": [
      "--->> cal O and jac  0.03797030448913574\n",
      "compute_update  0.04112124443054199\n",
      "(0.006797557339333574+0j)\n",
      "n_discard =  144\n",
      "discard samples 0.7649807929992676\n",
      "n_samples_node =  1000\n",
      "generate_samples :  0.4582054615020752\n",
      "     prepare getting local values 0.002302408218383789\n",
      "     obtained local values 0.008281946182250977\n",
      "get_mc_stats 0.010172367095947266\n"
     ]
    },
    {
     "name": "stderr",
     "output_type": "stream",
     "text": [
      " 67%|██████▋   | 667/1000 [14:35<07:20,  1.32s/it, Energy=-0.0000022+0.0000000j ± 0.0000014 [σ²=0.0000000]]"
     ]
    },
    {
     "name": "stdout",
     "output_type": "stream",
     "text": [
      "--->> cal O and jac  0.03658413887023926\n",
      "compute_update  0.03964805603027344\n",
      "(0.006797836864875217+0j)\n",
      "n_discard =  144\n",
      "discard samples 0.7730627059936523\n",
      "n_samples_node =  1000\n",
      "generate_samples :  0.6180286407470703\n",
      "     prepare getting local values 0.0020706653594970703\n",
      "     obtained local values 0.0075702667236328125\n",
      "get_mc_stats 0.010648965835571289\n"
     ]
    },
    {
     "name": "stderr",
     "output_type": "stream",
     "text": [
      " 67%|██████▋   | 668/1000 [14:36<07:32,  1.36s/it, Energy=0.0000000+0.0000000j ± 0.0000015 [σ²=0.0000000]] "
     ]
    },
    {
     "name": "stdout",
     "output_type": "stream",
     "text": [
      "--->> cal O and jac  0.044434309005737305\n",
      "compute_update  0.04782414436340332\n",
      "(0.00679827517199425+0j)\n",
      "n_discard =  144\n",
      "discard samples 0.7706170082092285\n",
      "n_samples_node =  1000\n",
      "generate_samples :  0.44916749000549316\n",
      "     prepare getting local values 0.002618551254272461\n",
      "     obtained local values 0.006815671920776367\n",
      "get_mc_stats 0.009542703628540039\n"
     ]
    },
    {
     "name": "stderr",
     "output_type": "stream",
     "text": [
      " 67%|██████▋   | 669/1000 [14:38<07:22,  1.34s/it, Energy=-0.0000011+0.0000000j ± 0.0000014 [σ²=0.0000000]]"
     ]
    },
    {
     "name": "stdout",
     "output_type": "stream",
     "text": [
      "--->> cal O and jac  0.03949117660522461\n",
      "compute_update  0.041676998138427734\n",
      "(0.006798615757122815+0j)\n",
      "n_discard =  144\n",
      "discard samples 0.7545459270477295\n",
      "n_samples_node =  1000\n",
      "generate_samples :  0.5734825134277344\n",
      "     prepare getting local values 0.002521038055419922\n",
      "     obtained local values 0.008441448211669922\n",
      "get_mc_stats 0.010935544967651367\n"
     ]
    },
    {
     "name": "stderr",
     "output_type": "stream",
     "text": [
      " 67%|██████▋   | 670/1000 [14:39<07:25,  1.35s/it, Energy=-0.0000009+0.0000000j ± 0.0000019 [σ²=0.0000000]]"
     ]
    },
    {
     "name": "stdout",
     "output_type": "stream",
     "text": [
      "--->> cal O and jac  0.03877711296081543\n",
      "compute_update  0.04172039031982422\n",
      "(0.0067990611151298504+0j)\n",
      "n_discard =  144\n",
      "discard samples 0.7675175666809082\n",
      "n_samples_node =  1000\n",
      "generate_samples :  0.4548530578613281\n",
      "     prepare getting local values 0.0013191699981689453\n",
      "     obtained local values 0.00474858283996582\n",
      "get_mc_stats 0.00640416145324707\n"
     ]
    },
    {
     "name": "stderr",
     "output_type": "stream",
     "text": [
      " 67%|██████▋   | 671/1000 [14:40<07:15,  1.32s/it, Energy=-0.0000007+0.0000000j ± 0.0000016 [σ²=0.0000000]]"
     ]
    },
    {
     "name": "stdout",
     "output_type": "stream",
     "text": [
      "--->> cal O and jac  0.03440713882446289\n",
      "compute_update  0.036589860916137695\n",
      "(0.0067991896875991345+0j)\n",
      "n_discard =  144\n",
      "discard samples 0.7532632350921631\n",
      "n_samples_node =  1000\n",
      "generate_samples :  0.4508485794067383\n",
      "     prepare getting local values 0.0012972354888916016\n",
      "     obtained local values 0.0046918392181396484\n",
      "get_mc_stats 0.006598949432373047\n"
     ]
    },
    {
     "name": "stderr",
     "output_type": "stream",
     "text": [
      " 67%|██████▋   | 672/1000 [14:42<07:07,  1.30s/it, Energy=-0.0000021+0.0000000j ± 0.0000017 [σ²=0.0000000]]"
     ]
    },
    {
     "name": "stdout",
     "output_type": "stream",
     "text": [
      "--->> cal O and jac  0.036089420318603516\n",
      "compute_update  0.03845024108886719\n",
      "(0.006799752015574593+0j)\n",
      "n_discard =  144\n",
      "discard samples 0.7504684925079346\n",
      "n_samples_node =  1000\n",
      "generate_samples :  0.44608616828918457\n",
      "     prepare getting local values 0.0013775825500488281\n",
      "     obtained local values 0.0046367645263671875\n",
      "get_mc_stats 0.0065059661865234375\n"
     ]
    },
    {
     "name": "stderr",
     "output_type": "stream",
     "text": [
      " 67%|██████▋   | 673/1000 [14:43<07:00,  1.29s/it, Energy=0.0000022+0.0000000j ± 0.0000017 [σ²=0.0000000]] "
     ]
    },
    {
     "name": "stdout",
     "output_type": "stream",
     "text": [
      "--->> cal O and jac  0.036565542221069336\n",
      "compute_update  0.040259599685668945\n",
      "(0.006800009635953238+0j)\n",
      "n_discard =  144\n",
      "discard samples 0.7598516941070557\n",
      "n_samples_node =  1000\n",
      "generate_samples :  0.5003325939178467\n",
      "     prepare getting local values 0.001371145248413086\n",
      "     obtained local values 0.0048100948333740234\n",
      "get_mc_stats 0.006575584411621094\n"
     ]
    },
    {
     "name": "stderr",
     "output_type": "stream",
     "text": [
      " 67%|██████▋   | 674/1000 [14:44<07:01,  1.29s/it, Energy=-0.0000020+0.0000000j ± 0.0000014 [σ²=0.0000000]]"
     ]
    },
    {
     "name": "stdout",
     "output_type": "stream",
     "text": [
      "--->> cal O and jac  0.04067420959472656\n",
      "compute_update  0.043932199478149414\n",
      "(0.006800270081413295+0j)\n",
      "n_discard =  144\n",
      "discard samples 1.0248451232910156\n",
      "n_samples_node =  1000\n",
      "generate_samples :  0.45023155212402344\n",
      "     prepare getting local values 0.002180814743041992\n",
      "     obtained local values 0.007621288299560547\n",
      "get_mc_stats 0.009776115417480469\n"
     ]
    },
    {
     "name": "stderr",
     "output_type": "stream",
     "text": [
      " 68%|██████▊   | 675/1000 [14:46<07:23,  1.36s/it, Energy=0.0000009+0.0000000j ± 0.0000012 [σ²=0.0000000]] "
     ]
    },
    {
     "name": "stdout",
     "output_type": "stream",
     "text": [
      "--->> cal O and jac  0.03627276420593262\n",
      "compute_update  0.040099143981933594\n",
      "(0.0068004752231160155+0j)\n",
      "n_discard =  144\n",
      "discard samples 0.7614076137542725\n",
      "n_samples_node =  1000\n",
      "generate_samples :  0.44950056076049805\n",
      "     prepare getting local values 0.002685070037841797\n",
      "     obtained local values 0.008927583694458008\n",
      "get_mc_stats 0.011411428451538086\n"
     ]
    },
    {
     "name": "stderr",
     "output_type": "stream",
     "text": [
      " 68%|██████▊   | 676/1000 [14:47<07:12,  1.33s/it, Energy=-0.0000014+0.0000000j ± 0.0000016 [σ²=0.0000000]]"
     ]
    },
    {
     "name": "stdout",
     "output_type": "stream",
     "text": [
      "--->> cal O and jac  0.039510250091552734\n",
      "compute_update  0.04334449768066406\n",
      "(0.006800650777589702+0j)\n",
      "n_discard =  144\n",
      "discard samples 0.8743374347686768\n",
      "n_samples_node =  1000\n",
      "generate_samples :  0.5163071155548096\n",
      "     prepare getting local values 0.0012421607971191406\n",
      "     obtained local values 0.004618167877197266\n",
      "get_mc_stats 0.006221771240234375\n"
     ]
    },
    {
     "name": "stderr",
     "output_type": "stream",
     "text": [
      " 68%|██████▊   | 677/1000 [14:48<07:21,  1.37s/it, Energy=-0.0000024+0.0000000j ± 0.0000018 [σ²=0.0000000]]"
     ]
    },
    {
     "name": "stdout",
     "output_type": "stream",
     "text": [
      "--->> cal O and jac  0.03584766387939453\n",
      "compute_update  0.03795790672302246\n",
      "(0.006801287539504056+0j)\n",
      "n_discard =  144\n",
      "discard samples 0.7498903274536133\n",
      "n_samples_node =  1000\n",
      "generate_samples :  0.45473814010620117\n",
      "     prepare getting local values 0.0019266605377197266\n",
      "     obtained local values 0.005461215972900391\n",
      "get_mc_stats 0.007870197296142578\n"
     ]
    },
    {
     "name": "stderr",
     "output_type": "stream",
     "text": [
      " 68%|██████▊   | 678/1000 [14:50<07:09,  1.33s/it, Energy=0.0000017+0.0000000j ± 0.0000018 [σ²=0.0000000]] "
     ]
    },
    {
     "name": "stdout",
     "output_type": "stream",
     "text": [
      "--->> cal O and jac  0.03774690628051758\n",
      "compute_update  0.04117107391357422\n",
      "(0.00680194596770023+0j)\n",
      "n_discard =  144\n",
      "discard samples 0.765312910079956\n",
      "n_samples_node =  1000\n",
      "generate_samples :  0.4522073268890381\n",
      "     prepare getting local values 0.0013813972473144531\n",
      "     obtained local values 0.0048329830169677734\n",
      "get_mc_stats 0.006417989730834961\n"
     ]
    },
    {
     "name": "stderr",
     "output_type": "stream",
     "text": [
      " 68%|██████▊   | 679/1000 [14:51<07:01,  1.31s/it, Energy=0.0000006+0.0000000j ± 0.0000014 [σ²=0.0000000]]"
     ]
    },
    {
     "name": "stdout",
     "output_type": "stream",
     "text": [
      "--->> cal O and jac  0.037242889404296875\n",
      "compute_update  0.039632558822631836\n",
      "(0.006802684604844772+0j)\n",
      "n_discard =  144\n",
      "discard samples 0.761317253112793\n",
      "n_samples_node =  1000\n",
      "generate_samples :  0.620633602142334\n",
      "     prepare getting local values 0.0026710033416748047\n",
      "     obtained local values 0.009820699691772461\n",
      "get_mc_stats 0.012775182723999023\n"
     ]
    },
    {
     "name": "stderr",
     "output_type": "stream",
     "text": [
      " 68%|██████▊   | 680/1000 [14:52<07:12,  1.35s/it, Energy=-0.0000034+0.0000000j ± 0.0000016 [σ²=0.0000000]]"
     ]
    },
    {
     "name": "stdout",
     "output_type": "stream",
     "text": [
      "--->> cal O and jac  0.03807473182678223\n",
      "compute_update  0.04208087921142578\n",
      "(0.006802802502035611+0j)\n",
      "n_discard =  144\n",
      "discard samples 0.7565004825592041\n",
      "n_samples_node =  1000\n",
      "generate_samples :  0.4460170269012451\n",
      "     prepare getting local values 0.0013391971588134766\n",
      "     obtained local values 0.004808187484741211\n",
      "get_mc_stats 0.006598949432373047\n"
     ]
    },
    {
     "name": "stderr",
     "output_type": "stream",
     "text": [
      " 68%|██████▊   | 681/1000 [14:54<07:01,  1.32s/it, Energy=-0.0000014+0.0000000j ± 0.0000018 [σ²=0.0000000]]"
     ]
    },
    {
     "name": "stdout",
     "output_type": "stream",
     "text": [
      "--->> cal O and jac  0.03857302665710449\n",
      "compute_update  0.0423586368560791\n",
      "(0.006802943306139156+0j)\n",
      "n_discard =  144\n",
      "discard samples 0.7550852298736572\n",
      "n_samples_node =  1000\n",
      "generate_samples :  0.4525489807128906\n",
      "     prepare getting local values 0.0014274120330810547\n",
      "     obtained local values 0.004864692687988281\n",
      "get_mc_stats 0.0066449642181396484\n"
     ]
    },
    {
     "name": "stderr",
     "output_type": "stream",
     "text": [
      " 68%|██████▊   | 682/1000 [14:55<06:54,  1.30s/it, Energy=0.0000012+0.0000000j ± 0.0000019 [σ²=0.0000000]] "
     ]
    },
    {
     "name": "stdout",
     "output_type": "stream",
     "text": [
      "--->> cal O and jac  0.03901839256286621\n",
      "compute_update  0.04132533073425293\n",
      "(0.006803248842884121+0j)\n",
      "n_discard =  144\n",
      "discard samples 0.7577998638153076\n",
      "n_samples_node =  1000\n",
      "generate_samples :  0.4511222839355469\n",
      "     prepare getting local values 0.0014874935150146484\n",
      "     obtained local values 0.005007266998291016\n",
      "get_mc_stats 0.00710606575012207\n"
     ]
    },
    {
     "name": "stderr",
     "output_type": "stream",
     "text": [
      " 68%|██████▊   | 683/1000 [14:56<06:48,  1.29s/it, Energy=-0.0000003+0.0000000j ± 0.0000017 [σ²=0.0000000]]"
     ]
    },
    {
     "name": "stdout",
     "output_type": "stream",
     "text": [
      "--->> cal O and jac  0.03956270217895508\n",
      "compute_update  0.04317975044250488\n",
      "(0.006803401478156602+0j)\n",
      "n_discard =  144\n",
      "discard samples 0.755415678024292\n",
      "n_samples_node =  1000\n",
      "generate_samples :  0.45769476890563965\n",
      "     prepare getting local values 0.0012660026550292969\n",
      "     obtained local values 0.0047380924224853516\n",
      "get_mc_stats 0.006450176239013672\n"
     ]
    },
    {
     "name": "stderr",
     "output_type": "stream",
     "text": [
      " 68%|██████▊   | 684/1000 [14:57<06:44,  1.28s/it, Energy=-0.0000030+0.0000000j ± 0.0000013 [σ²=0.0000000]]"
     ]
    },
    {
     "name": "stdout",
     "output_type": "stream",
     "text": [
      "--->> cal O and jac  0.03476405143737793\n",
      "compute_update  0.03712153434753418\n",
      "(0.006803882021521737+0j)\n",
      "n_discard =  144\n",
      "discard samples 0.7584006786346436\n",
      "n_samples_node =  1000\n",
      "generate_samples :  0.4525449275970459\n",
      "     prepare getting local values 0.001363992691040039\n",
      "     obtained local values 0.004897356033325195\n",
      "get_mc_stats 0.006735801696777344\n"
     ]
    },
    {
     "name": "stderr",
     "output_type": "stream",
     "text": [
      " 68%|██████▊   | 685/1000 [14:59<06:41,  1.27s/it, Energy=0.0000013+0.0000000j ± 0.0000020 [σ²=0.0000000]] "
     ]
    },
    {
     "name": "stdout",
     "output_type": "stream",
     "text": [
      "--->> cal O and jac  0.03859138488769531\n",
      "compute_update  0.04167294502258301\n",
      "(0.006804232724412964+0j)\n",
      "n_discard =  144\n",
      "discard samples 0.7589616775512695\n",
      "n_samples_node =  1000\n",
      "generate_samples :  0.4534311294555664\n",
      "     prepare getting local values 0.001325845718383789\n",
      "     obtained local values 0.004700422286987305\n",
      "get_mc_stats 0.006482362747192383\n"
     ]
    },
    {
     "name": "stderr",
     "output_type": "stream",
     "text": [
      " 69%|██████▊   | 686/1000 [15:00<06:38,  1.27s/it, Energy=-0.0000015+0.0000000j ± 0.0000016 [σ²=0.0000000]]"
     ]
    },
    {
     "name": "stdout",
     "output_type": "stream",
     "text": [
      "--->> cal O and jac  0.038237810134887695\n",
      "compute_update  0.040317535400390625\n",
      "(0.006804489225532194+0j)\n",
      "n_discard =  144\n",
      "discard samples 0.7572188377380371\n",
      "n_samples_node =  1000\n",
      "generate_samples :  0.4489772319793701\n",
      "     prepare getting local values 0.001354217529296875\n",
      "     obtained local values 0.004941701889038086\n",
      "get_mc_stats 0.0067517757415771484\n"
     ]
    },
    {
     "name": "stderr",
     "output_type": "stream",
     "text": [
      " 69%|██████▊   | 687/1000 [15:01<06:36,  1.27s/it, Energy=0.0000024+0.0000000j ± 0.0000017 [σ²=0.0000000]] "
     ]
    },
    {
     "name": "stdout",
     "output_type": "stream",
     "text": [
      "--->> cal O and jac  0.03662467002868652\n",
      "compute_update  0.040033578872680664\n",
      "(0.006804786517975239+0j)\n",
      "n_discard =  144\n",
      "discard samples 0.7586727142333984\n",
      "n_samples_node =  1000\n",
      "generate_samples :  0.45087671279907227\n",
      "     prepare getting local values 0.0013756752014160156\n",
      "     obtained local values 0.004785060882568359\n",
      "get_mc_stats 0.006911277770996094\n"
     ]
    },
    {
     "name": "stderr",
     "output_type": "stream",
     "text": [
      " 69%|██████▉   | 688/1000 [15:02<06:34,  1.26s/it, Energy=-0.0000009+0.0000000j ± 0.0000015 [σ²=0.0000000]]"
     ]
    },
    {
     "name": "stdout",
     "output_type": "stream",
     "text": [
      "--->> cal O and jac  0.0391232967376709\n",
      "compute_update  0.04165196418762207\n",
      "(0.006804767824837087+0j)\n",
      "n_discard =  144\n",
      "discard samples 0.7659587860107422\n",
      "n_samples_node =  1000\n",
      "generate_samples :  0.45186305046081543\n",
      "     prepare getting local values 0.0015726089477539062\n",
      "     obtained local values 0.004961967468261719\n",
      "get_mc_stats 0.006795406341552734\n"
     ]
    },
    {
     "name": "stderr",
     "output_type": "stream",
     "text": [
      " 69%|██████▉   | 689/1000 [15:04<06:33,  1.27s/it, Energy=-0.0000001+0.0000000j ± 0.0000014 [σ²=0.0000000]]"
     ]
    },
    {
     "name": "stdout",
     "output_type": "stream",
     "text": [
      "--->> cal O and jac  0.03862476348876953\n",
      "compute_update  0.04076647758483887\n",
      "(0.006804733441305534+0j)\n",
      "n_discard =  144\n",
      "discard samples 0.7532691955566406\n",
      "n_samples_node =  1000\n",
      "generate_samples :  0.4533393383026123\n",
      "     prepare getting local values 0.0019383430480957031\n",
      "     obtained local values 0.005372762680053711\n",
      "get_mc_stats 0.007842302322387695\n"
     ]
    },
    {
     "name": "stderr",
     "output_type": "stream",
     "text": [
      " 69%|██████▉   | 690/1000 [15:05<06:31,  1.26s/it, Energy=-0.0000021+0.0000000j ± 0.0000016 [σ²=0.0000000]]"
     ]
    },
    {
     "name": "stdout",
     "output_type": "stream",
     "text": [
      "--->> cal O and jac  0.03933143615722656\n",
      "compute_update  0.041637420654296875\n",
      "(0.006805152858266723+0j)\n",
      "n_discard =  144\n",
      "discard samples 0.7570774555206299\n",
      "n_samples_node =  1000\n",
      "generate_samples :  0.45056700706481934\n",
      "     prepare getting local values 0.002263307571411133\n",
      "     obtained local values 0.008469820022583008\n",
      "get_mc_stats 0.010480880737304688\n"
     ]
    },
    {
     "name": "stderr",
     "output_type": "stream",
     "text": [
      " 69%|██████▉   | 691/1000 [15:06<06:30,  1.26s/it, Energy=-0.0000017+0.0000000j ± 0.0000014 [σ²=0.0000000]]"
     ]
    },
    {
     "name": "stdout",
     "output_type": "stream",
     "text": [
      "--->> cal O and jac  0.03968358039855957\n",
      "compute_update  0.041857242584228516\n",
      "(0.006805563927405599+0j)\n",
      "n_discard =  144\n",
      "discard samples 0.765465259552002\n",
      "n_samples_node =  1000\n",
      "generate_samples :  0.453718900680542\n",
      "     prepare getting local values 0.0013518333435058594\n",
      "     obtained local values 0.00482940673828125\n",
      "get_mc_stats 0.006607770919799805\n"
     ]
    },
    {
     "name": "stderr",
     "output_type": "stream",
     "text": [
      " 69%|██████▉   | 692/1000 [15:07<06:29,  1.27s/it, Energy=-0.0000016+0.0000000j ± 0.0000018 [σ²=0.0000000]]"
     ]
    },
    {
     "name": "stdout",
     "output_type": "stream",
     "text": [
      "--->> cal O and jac  0.040625810623168945\n",
      "compute_update  0.04451918601989746\n",
      "(0.006805658163183096+0j)\n",
      "n_discard =  144\n",
      "discard samples 0.7554364204406738\n",
      "n_samples_node =  1000\n",
      "generate_samples :  0.44944095611572266\n",
      "     prepare getting local values 0.001310586929321289\n",
      "     obtained local values 0.00473785400390625\n",
      "get_mc_stats 0.00638270378112793\n"
     ]
    },
    {
     "name": "stderr",
     "output_type": "stream",
     "text": [
      " 69%|██████▉   | 693/1000 [15:09<06:27,  1.26s/it, Energy=0.0000020+0.0000000j ± 0.0000016 [σ²=0.0000000]] "
     ]
    },
    {
     "name": "stdout",
     "output_type": "stream",
     "text": [
      "--->> cal O and jac  0.03888106346130371\n",
      "compute_update  0.04097795486450195\n",
      "(0.006806447545645763+0j)\n",
      "n_discard =  144\n",
      "discard samples 0.7527015209197998\n",
      "n_samples_node =  1000\n",
      "generate_samples :  0.4528801441192627\n",
      "     prepare getting local values 0.0023403167724609375\n",
      "     obtained local values 0.00833272933959961\n",
      "get_mc_stats 0.010692596435546875\n"
     ]
    },
    {
     "name": "stderr",
     "output_type": "stream",
     "text": [
      " 69%|██████▉   | 694/1000 [15:10<06:25,  1.26s/it, Energy=0.0000018+0.0000000j ± 0.0000016 [σ²=0.0000000]]"
     ]
    },
    {
     "name": "stdout",
     "output_type": "stream",
     "text": [
      "--->> cal O and jac  0.03844189643859863\n",
      "compute_update  0.0407865047454834\n",
      "(0.006806702478392858+0j)\n",
      "n_discard =  144\n",
      "discard samples 0.9065341949462891\n",
      "n_samples_node =  1000\n",
      "generate_samples :  0.45392942428588867\n",
      "     prepare getting local values 0.0026917457580566406\n",
      "     obtained local values 0.009865045547485352\n",
      "get_mc_stats 0.012760639190673828\n"
     ]
    },
    {
     "name": "stderr",
     "output_type": "stream",
     "text": [
      " 70%|██████▉   | 695/1000 [15:11<06:39,  1.31s/it, Energy=0.0000012+0.0000000j ± 0.0000018 [σ²=0.0000000]]"
     ]
    },
    {
     "name": "stdout",
     "output_type": "stream",
     "text": [
      "--->> cal O and jac  0.04111456871032715\n",
      "compute_update  0.04355192184448242\n",
      "(0.006807068509414812+0j)\n",
      "n_discard =  144\n",
      "discard samples 0.7856919765472412\n",
      "n_samples_node =  1000\n",
      "generate_samples :  0.45020437240600586\n",
      "     prepare getting local values 0.002274751663208008\n",
      "     obtained local values 0.00839090347290039\n",
      "get_mc_stats 0.011044025421142578\n"
     ]
    },
    {
     "name": "stderr",
     "output_type": "stream",
     "text": [
      " 70%|██████▉   | 696/1000 [15:13<06:35,  1.30s/it, Energy=-0.0000001+0.0000000j ± 0.0000014 [σ²=0.0000000]]"
     ]
    },
    {
     "name": "stdout",
     "output_type": "stream",
     "text": [
      "--->> cal O and jac  0.0363314151763916\n",
      "compute_update  0.0383296012878418\n",
      "(0.006807103922116367+0j)\n",
      "n_discard =  144\n",
      "discard samples 0.7569210529327393\n",
      "n_samples_node =  1000\n",
      "generate_samples :  0.4574246406555176\n",
      "     prepare getting local values 0.0012972354888916016\n",
      "     obtained local values 0.004723310470581055\n",
      "get_mc_stats 0.006725788116455078\n"
     ]
    },
    {
     "name": "stderr",
     "output_type": "stream",
     "text": [
      " 70%|██████▉   | 697/1000 [15:14<06:30,  1.29s/it, Energy=-0.0000024+0.0000000j ± 0.0000017 [σ²=0.0000000]]"
     ]
    },
    {
     "name": "stdout",
     "output_type": "stream",
     "text": [
      "--->> cal O and jac  0.03819632530212402\n",
      "compute_update  0.04039573669433594\n",
      "(0.006807152384705255+0j)\n",
      "n_discard =  144\n",
      "discard samples 0.7601654529571533\n",
      "n_samples_node =  1000\n",
      "generate_samples :  0.593935489654541\n",
      "     prepare getting local values 0.002306699752807617\n",
      "     obtained local values 0.008561134338378906\n",
      "get_mc_stats 0.011061668395996094\n"
     ]
    },
    {
     "name": "stderr",
     "output_type": "stream",
     "text": [
      " 70%|██████▉   | 698/1000 [15:15<06:40,  1.33s/it, Energy=0.0000023+0.0000000j ± 0.0000016 [σ²=0.0000000]] "
     ]
    },
    {
     "name": "stdout",
     "output_type": "stream",
     "text": [
      "--->> cal O and jac  0.03650617599487305\n",
      "compute_update  0.040491342544555664\n",
      "(0.006807568226724048+0j)\n",
      "n_discard =  144\n",
      "discard samples 0.7548525333404541\n",
      "n_samples_node =  1000\n",
      "generate_samples :  0.45099544525146484\n",
      "     prepare getting local values 0.0013539791107177734\n",
      "     obtained local values 0.00473332405090332\n",
      "get_mc_stats 0.006363391876220703\n"
     ]
    },
    {
     "name": "stderr",
     "output_type": "stream",
     "text": [
      " 70%|██████▉   | 699/1000 [15:17<06:33,  1.31s/it, Energy=-0.0000015+0.0000000j ± 0.0000017 [σ²=0.0000000]]"
     ]
    },
    {
     "name": "stdout",
     "output_type": "stream",
     "text": [
      "--->> cal O and jac  0.04532933235168457\n",
      "compute_update  0.04870724678039551\n",
      "(0.0068077733872418675+0j)\n",
      "n_discard =  144\n",
      "discard samples 0.765333890914917\n",
      "n_samples_node =  1000\n",
      "generate_samples :  0.45526599884033203\n",
      "     prepare getting local values 0.0027043819427490234\n",
      "     obtained local values 0.006114006042480469\n",
      "get_mc_stats 0.00881505012512207\n"
     ]
    },
    {
     "name": "stderr",
     "output_type": "stream",
     "text": [
      " 70%|███████   | 700/1000 [15:18<06:29,  1.30s/it, Energy=-0.0000001+0.0000000j ± 0.0000017 [σ²=0.0000000]]"
     ]
    },
    {
     "name": "stdout",
     "output_type": "stream",
     "text": [
      "--->> cal O and jac  0.042539119720458984\n",
      "compute_update  0.046094655990600586\n",
      "(0.006807883771503068+0j)\n",
      "n_discard =  144\n",
      "discard samples 0.7620964050292969\n",
      "n_samples_node =  1000\n",
      "generate_samples :  0.45369958877563477\n",
      "     prepare getting local values 0.0021789073944091797\n",
      "     obtained local values 0.00830698013305664\n",
      "get_mc_stats 0.010456085205078125\n"
     ]
    },
    {
     "name": "stderr",
     "output_type": "stream",
     "text": [
      " 70%|███████   | 701/1000 [15:19<06:25,  1.29s/it, Energy=-0.0000016+0.0000000j ± 0.0000013 [σ²=0.0000000]]"
     ]
    },
    {
     "name": "stdout",
     "output_type": "stream",
     "text": [
      "--->> cal O and jac  0.03707289695739746\n",
      "compute_update  0.03925371170043945\n",
      "(0.006808006052914148+0j)\n",
      "n_discard =  144\n",
      "discard samples 0.7578620910644531\n",
      "n_samples_node =  1000\n",
      "generate_samples :  0.45147109031677246\n",
      "     prepare getting local values 0.001833200454711914\n",
      "     obtained local values 0.005284786224365234\n",
      "get_mc_stats 0.007686138153076172\n"
     ]
    },
    {
     "name": "stderr",
     "output_type": "stream",
     "text": [
      " 70%|███████   | 702/1000 [15:20<06:21,  1.28s/it, Energy=-0.0000006+0.0000000j ± 0.0000018 [σ²=0.0000000]]"
     ]
    },
    {
     "name": "stdout",
     "output_type": "stream",
     "text": [
      "--->> cal O and jac  0.04075908660888672\n",
      "compute_update  0.04285836219787598\n",
      "(0.006808498684558408+0j)\n",
      "n_discard =  144\n",
      "discard samples 0.7520651817321777\n",
      "n_samples_node =  1000\n",
      "generate_samples :  0.6168720722198486\n",
      "     prepare getting local values 0.0027015209197998047\n",
      "     obtained local values 0.00909423828125\n",
      "get_mc_stats 0.011739730834960938\n"
     ]
    },
    {
     "name": "stderr",
     "output_type": "stream",
     "text": [
      " 70%|███████   | 703/1000 [15:22<06:33,  1.32s/it, Energy=-0.0000025+0.0000000j ± 0.0000015 [σ²=0.0000000]]"
     ]
    },
    {
     "name": "stdout",
     "output_type": "stream",
     "text": [
      "--->> cal O and jac  0.038910627365112305\n",
      "compute_update  0.04105210304260254\n",
      "(0.006808850060564041+0j)\n",
      "n_discard =  144\n",
      "discard samples 0.760751485824585\n",
      "n_samples_node =  1000\n",
      "generate_samples :  0.4537780284881592\n",
      "     prepare getting local values 0.002132415771484375\n",
      "     obtained local values 0.008239984512329102\n",
      "get_mc_stats 0.010006189346313477\n"
     ]
    },
    {
     "name": "stderr",
     "output_type": "stream",
     "text": [
      " 70%|███████   | 704/1000 [15:23<06:26,  1.31s/it, Energy=-0.0000001+0.0000000j ± 0.0000015 [σ²=0.0000000]]"
     ]
    },
    {
     "name": "stdout",
     "output_type": "stream",
     "text": [
      "--->> cal O and jac  0.03863406181335449\n",
      "compute_update  0.04096198081970215\n",
      "(0.006809297004771963+0j)\n",
      "n_discard =  144\n",
      "discard samples 0.756028413772583\n",
      "n_samples_node =  1000\n",
      "generate_samples :  0.45650434494018555\n",
      "     prepare getting local values 0.0013279914855957031\n",
      "     obtained local values 0.004735231399536133\n",
      "get_mc_stats 0.006587028503417969\n"
     ]
    },
    {
     "name": "stderr",
     "output_type": "stream",
     "text": [
      " 70%|███████   | 705/1000 [15:24<06:21,  1.29s/it, Energy=-0.0000014+0.0000000j ± 0.0000016 [σ²=0.0000000]]"
     ]
    },
    {
     "name": "stdout",
     "output_type": "stream",
     "text": [
      "--->> cal O and jac  0.0411677360534668\n",
      "compute_update  0.04500412940979004\n",
      "(0.006809618083263866+0j)\n",
      "n_discard =  144\n",
      "discard samples 0.7572197914123535\n",
      "n_samples_node =  1000\n",
      "generate_samples :  0.6264104843139648\n",
      "     prepare getting local values 0.0020246505737304688\n",
      "     obtained local values 0.0073702335357666016\n",
      "get_mc_stats 0.01105189323425293\n"
     ]
    },
    {
     "name": "stderr",
     "output_type": "stream",
     "text": [
      " 71%|███████   | 706/1000 [15:26<06:33,  1.34s/it, Energy=-0.0000027+0.0000000j ± 0.0000012 [σ²=0.0000000]]"
     ]
    },
    {
     "name": "stdout",
     "output_type": "stream",
     "text": [
      "--->> cal O and jac  0.041582345962524414\n",
      "compute_update  0.04520606994628906\n",
      "(0.00680995549048249+0j)\n",
      "n_discard =  144\n",
      "discard samples 0.9533703327178955\n",
      "n_samples_node =  1000\n",
      "generate_samples :  0.4489939212799072\n",
      "     prepare getting local values 0.0013210773468017578\n",
      "     obtained local values 0.004689216613769531\n",
      "get_mc_stats 0.006514072418212891\n"
     ]
    },
    {
     "name": "stderr",
     "output_type": "stream",
     "text": [
      " 71%|███████   | 707/1000 [15:27<06:42,  1.37s/it, Energy=0.0000005+0.0000000j ± 0.0000016 [σ²=0.0000000]] "
     ]
    },
    {
     "name": "stdout",
     "output_type": "stream",
     "text": [
      "--->> cal O and jac  0.03850388526916504\n",
      "compute_update  0.042120933532714844\n",
      "(0.006810087971840533+0j)\n",
      "n_discard =  144\n",
      "discard samples 0.788395881652832\n",
      "n_samples_node =  1000\n",
      "generate_samples :  0.47809267044067383\n",
      "     prepare getting local values 0.0013461112976074219\n",
      "     obtained local values 0.0049817562103271484\n",
      "get_mc_stats 0.006465435028076172\n"
     ]
    },
    {
     "name": "stderr",
     "output_type": "stream",
     "text": [
      " 71%|███████   | 708/1000 [15:29<06:36,  1.36s/it, Energy=-0.0000028+0.0000000j ± 0.0000019 [σ²=0.0000000]]"
     ]
    },
    {
     "name": "stdout",
     "output_type": "stream",
     "text": [
      "--->> cal O and jac  0.04250788688659668\n",
      "compute_update  0.04486393928527832\n",
      "(0.006810199253918709+0j)\n",
      "n_discard =  144\n",
      "discard samples 0.7812550067901611\n",
      "n_samples_node =  1000\n",
      "generate_samples :  0.4473247528076172\n",
      "     prepare getting local values 0.0014100074768066406\n",
      "     obtained local values 0.00484013557434082\n",
      "get_mc_stats 0.006720542907714844\n"
     ]
    },
    {
     "name": "stderr",
     "output_type": "stream",
     "text": [
      " 71%|███████   | 709/1000 [15:30<06:27,  1.33s/it, Energy=-0.0000014+0.0000000j ± 0.0000015 [σ²=0.0000000]]"
     ]
    },
    {
     "name": "stdout",
     "output_type": "stream",
     "text": [
      "--->> cal O and jac  0.036325693130493164\n",
      "compute_update  0.038695573806762695\n",
      "(0.006810645267573164+0j)\n",
      "n_discard =  144\n",
      "discard samples 0.7655408382415771\n",
      "n_samples_node =  1000\n",
      "generate_samples :  0.44727134704589844\n",
      "     prepare getting local values 0.001428842544555664\n",
      "     obtained local values 0.004968166351318359\n",
      "get_mc_stats 0.006541013717651367\n"
     ]
    },
    {
     "name": "stderr",
     "output_type": "stream",
     "text": [
      " 71%|███████   | 710/1000 [15:31<06:20,  1.31s/it, Energy=-0.0000004+0.0000000j ± 0.0000014 [σ²=0.0000000]]"
     ]
    },
    {
     "name": "stdout",
     "output_type": "stream",
     "text": [
      "--->> cal O and jac  0.038597822189331055\n",
      "compute_update  0.04077649116516113\n",
      "(0.006810744359612387+0j)\n",
      "n_discard =  144\n",
      "discard samples 0.7687873840332031\n",
      "n_samples_node =  1000\n",
      "generate_samples :  0.449798583984375\n",
      "     prepare getting local values 0.0014367103576660156\n",
      "     obtained local values 0.0048792362213134766\n",
      "get_mc_stats 0.006685733795166016\n"
     ]
    },
    {
     "name": "stderr",
     "output_type": "stream",
     "text": [
      " 71%|███████   | 711/1000 [15:32<06:15,  1.30s/it, Energy=0.00000105+0.00000000j ± 0.00000099 [σ²=0.00000000]]"
     ]
    },
    {
     "name": "stdout",
     "output_type": "stream",
     "text": [
      "--->> cal O and jac  0.04440116882324219\n",
      "compute_update  0.04675483703613281\n",
      "(0.006811591641172941+0j)\n",
      "n_discard =  144\n",
      "discard samples 0.7527196407318115\n",
      "n_samples_node =  1000\n",
      "generate_samples :  0.45196962356567383\n",
      "     prepare getting local values 0.00130462646484375\n",
      "     obtained local values 0.004658937454223633\n",
      "get_mc_stats 0.0062808990478515625\n"
     ]
    },
    {
     "name": "stderr",
     "output_type": "stream",
     "text": [
      " 71%|███████   | 712/1000 [15:34<06:10,  1.29s/it, Energy=-0.0000007+0.0000000j ± 0.0000014 [σ²=0.0000000]]   "
     ]
    },
    {
     "name": "stdout",
     "output_type": "stream",
     "text": [
      "--->> cal O and jac  0.03713846206665039\n",
      "compute_update  0.04126453399658203\n",
      "(0.0068115187729384605+0j)\n",
      "n_discard =  144\n",
      "discard samples 0.7595441341400146\n",
      "n_samples_node =  1000\n",
      "generate_samples :  0.4525609016418457\n",
      "     prepare getting local values 0.0013141632080078125\n",
      "     obtained local values 0.005522966384887695\n",
      "get_mc_stats 0.007595062255859375\n"
     ]
    },
    {
     "name": "stderr",
     "output_type": "stream",
     "text": [
      " 71%|███████▏  | 713/1000 [15:35<06:07,  1.28s/it, Energy=-0.0000019+0.0000000j ± 0.0000012 [σ²=0.0000000]]"
     ]
    },
    {
     "name": "stdout",
     "output_type": "stream",
     "text": [
      "--->> cal O and jac  0.04019331932067871\n",
      "compute_update  0.04381275177001953\n",
      "(0.00681160249503193+0j)\n",
      "n_discard =  144\n",
      "discard samples 0.7630488872528076\n",
      "n_samples_node =  1000\n",
      "generate_samples :  0.4506533145904541\n",
      "     prepare getting local values 0.0013446807861328125\n",
      "     obtained local values 0.004738569259643555\n",
      "get_mc_stats 0.006538867950439453\n"
     ]
    },
    {
     "name": "stderr",
     "output_type": "stream",
     "text": [
      " 71%|███████▏  | 714/1000 [15:36<06:04,  1.27s/it, Energy=-0.0000009+0.0000000j ± 0.0000017 [σ²=0.0000000]]"
     ]
    },
    {
     "name": "stdout",
     "output_type": "stream",
     "text": [
      "--->> cal O and jac  0.0362088680267334\n",
      "compute_update  0.03937554359436035\n",
      "(0.006811985678656774+0j)\n",
      "n_discard =  144\n",
      "discard samples 0.7725174427032471\n",
      "n_samples_node =  1000\n",
      "generate_samples :  0.45079684257507324\n",
      "     prepare getting local values 0.0013074874877929688\n",
      "     obtained local values 0.004616975784301758\n",
      "get_mc_stats 0.0063288211822509766\n"
     ]
    },
    {
     "name": "stderr",
     "output_type": "stream",
     "text": [
      " 72%|███████▏  | 715/1000 [15:37<06:03,  1.27s/it, Energy=-0.0000020+0.0000000j ± 0.0000016 [σ²=0.0000000]]"
     ]
    },
    {
     "name": "stdout",
     "output_type": "stream",
     "text": [
      "--->> cal O and jac  0.041239261627197266\n",
      "compute_update  0.04358339309692383\n",
      "(0.006812215504015572+0j)\n",
      "n_discard =  144\n",
      "discard samples 0.7721645832061768\n",
      "n_samples_node =  1000\n",
      "generate_samples :  0.4527161121368408\n",
      "     prepare getting local values 0.0023040771484375\n",
      "     obtained local values 0.008572816848754883\n",
      "get_mc_stats 0.011134624481201172\n"
     ]
    },
    {
     "name": "stderr",
     "output_type": "stream",
     "text": [
      " 72%|███████▏  | 716/1000 [15:39<06:02,  1.28s/it, Energy=0.0000011+0.0000000j ± 0.0000013 [σ²=0.0000000]] "
     ]
    },
    {
     "name": "stdout",
     "output_type": "stream",
     "text": [
      "--->> cal O and jac  0.04469490051269531\n",
      "compute_update  0.047009944915771484\n",
      "(0.006812709101399131+0j)\n",
      "n_discard =  144\n",
      "discard samples 0.7603104114532471\n",
      "n_samples_node =  1000\n",
      "generate_samples :  0.4634699821472168\n",
      "     prepare getting local values 0.0014498233795166016\n",
      "     obtained local values 0.004853725433349609\n",
      "get_mc_stats 0.0068874359130859375\n"
     ]
    },
    {
     "name": "stderr",
     "output_type": "stream",
     "text": [
      " 72%|███████▏  | 717/1000 [15:40<06:01,  1.28s/it, Energy=-0.0000006+0.0000000j ± 0.0000014 [σ²=0.0000000]]"
     ]
    },
    {
     "name": "stdout",
     "output_type": "stream",
     "text": [
      "--->> cal O and jac  0.03768610954284668\n",
      "compute_update  0.0398869514465332\n",
      "(0.0068128325982001105+0j)\n",
      "n_discard =  144\n",
      "discard samples 0.7535521984100342\n",
      "n_samples_node =  1000\n",
      "generate_samples :  0.4542527198791504\n",
      "     prepare getting local values 0.001424551010131836\n",
      "     obtained local values 0.004836559295654297\n",
      "get_mc_stats 0.0065844058990478516\n"
     ]
    },
    {
     "name": "stderr",
     "output_type": "stream",
     "text": [
      " 72%|███████▏  | 718/1000 [15:41<05:58,  1.27s/it, Energy=-0.0000024+0.0000000j ± 0.0000016 [σ²=0.0000000]]"
     ]
    },
    {
     "name": "stdout",
     "output_type": "stream",
     "text": [
      "--->> cal O and jac  0.03621721267700195\n",
      "compute_update  0.04018568992614746\n",
      "(0.006812860894704758+0j)\n",
      "n_discard =  144\n",
      "discard samples 0.7577199935913086\n",
      "n_samples_node =  1000\n",
      "generate_samples :  0.4516143798828125\n",
      "     prepare getting local values 0.0013840198516845703\n",
      "     obtained local values 0.004774332046508789\n",
      "get_mc_stats 0.006545305252075195\n"
     ]
    },
    {
     "name": "stderr",
     "output_type": "stream",
     "text": [
      " 72%|███████▏  | 719/1000 [15:43<05:56,  1.27s/it, Energy=0.0000005+0.0000000j ± 0.0000018 [σ²=0.0000000]] "
     ]
    },
    {
     "name": "stdout",
     "output_type": "stream",
     "text": [
      "--->> cal O and jac  0.0397791862487793\n",
      "compute_update  0.04203939437866211\n",
      "(0.006813393158633944+0j)\n",
      "n_discard =  144\n",
      "discard samples 0.9705483913421631\n",
      "n_samples_node =  1000\n",
      "generate_samples :  0.5008342266082764\n",
      "     prepare getting local values 0.0012874603271484375\n",
      "     obtained local values 0.004637956619262695\n",
      "get_mc_stats 0.006380319595336914\n"
     ]
    },
    {
     "name": "stderr",
     "output_type": "stream",
     "text": [
      " 72%|███████▏  | 720/1000 [15:44<06:15,  1.34s/it, Energy=-0.0000015+0.0000000j ± 0.0000017 [σ²=0.0000000]]"
     ]
    },
    {
     "name": "stdout",
     "output_type": "stream",
     "text": [
      "--->> cal O and jac  0.03446674346923828\n",
      "compute_update  0.03676128387451172\n",
      "(0.006814127837937157+0j)\n",
      "n_discard =  144\n",
      "discard samples 0.7663335800170898\n",
      "n_samples_node =  1000\n",
      "generate_samples :  0.44561314582824707\n",
      "     prepare getting local values 0.0014252662658691406\n",
      "     obtained local values 0.004949092864990234\n",
      "get_mc_stats 0.006923675537109375\n"
     ]
    },
    {
     "name": "stderr",
     "output_type": "stream",
     "text": [
      " 72%|███████▏  | 721/1000 [15:45<06:07,  1.32s/it, Energy=-0.0000013+0.0000000j ± 0.0000016 [σ²=0.0000000]]"
     ]
    },
    {
     "name": "stdout",
     "output_type": "stream",
     "text": [
      "--->> cal O and jac  0.038954734802246094\n",
      "compute_update  0.041101694107055664\n",
      "(0.006814373025131436+0j)\n",
      "n_discard =  144\n",
      "discard samples 0.7615501880645752\n",
      "n_samples_node =  1000\n",
      "generate_samples :  0.4543037414550781\n",
      "     prepare getting local values 0.0013051033020019531\n",
      "     obtained local values 0.004660367965698242\n",
      "get_mc_stats 0.006674051284790039\n"
     ]
    },
    {
     "name": "stderr",
     "output_type": "stream",
     "text": [
      " 72%|███████▏  | 722/1000 [15:47<06:01,  1.30s/it, Energy=-0.0000006+0.0000000j ± 0.0000016 [σ²=0.0000000]]"
     ]
    },
    {
     "name": "stdout",
     "output_type": "stream",
     "text": [
      "--->> cal O and jac  0.03728508949279785\n",
      "compute_update  0.03960371017456055\n",
      "(0.006814821904173577+0j)\n",
      "n_discard =  144\n",
      "discard samples 0.7583906650543213\n",
      "n_samples_node =  1000\n",
      "generate_samples :  0.46064090728759766\n",
      "     prepare getting local values 0.001336812973022461\n",
      "     obtained local values 0.004942178726196289\n",
      "get_mc_stats 0.006758451461791992\n"
     ]
    },
    {
     "name": "stderr",
     "output_type": "stream",
     "text": [
      " 72%|███████▏  | 723/1000 [15:48<05:57,  1.29s/it, Energy=0.0000015+0.0000000j ± 0.0000014 [σ²=0.0000000]] "
     ]
    },
    {
     "name": "stdout",
     "output_type": "stream",
     "text": [
      "--->> cal O and jac  0.03828573226928711\n",
      "compute_update  0.04066324234008789\n",
      "(0.00681484188961471+0j)\n",
      "n_discard =  144\n",
      "discard samples 0.9111318588256836\n",
      "n_samples_node =  1000\n",
      "generate_samples :  0.4514744281768799\n",
      "     prepare getting local values 0.0013015270233154297\n",
      "     obtained local values 0.004680633544921875\n",
      "get_mc_stats 0.006171464920043945\n"
     ]
    },
    {
     "name": "stderr",
     "output_type": "stream",
     "text": [
      " 72%|███████▏  | 724/1000 [15:49<06:06,  1.33s/it, Energy=-0.0000011+0.0000000j ± 0.0000017 [σ²=0.0000000]]"
     ]
    },
    {
     "name": "stdout",
     "output_type": "stream",
     "text": [
      "--->> cal O and jac  0.03720569610595703\n",
      "compute_update  0.04096627235412598\n",
      "(0.006815352208205947+0j)\n",
      "n_discard =  144\n",
      "discard samples 0.7579605579376221\n",
      "n_samples_node =  1000\n",
      "generate_samples :  0.4930305480957031\n",
      "     prepare getting local values 0.0013501644134521484\n",
      "     obtained local values 0.004751920700073242\n",
      "get_mc_stats 0.006375312805175781\n"
     ]
    },
    {
     "name": "stderr",
     "output_type": "stream",
     "text": [
      " 72%|███████▎  | 725/1000 [15:51<06:03,  1.32s/it, Energy=-0.0000002+0.0000000j ± 0.0000016 [σ²=0.0000000]]"
     ]
    },
    {
     "name": "stdout",
     "output_type": "stream",
     "text": [
      "--->> cal O and jac  0.04404807090759277\n",
      "compute_update  0.04644274711608887\n",
      "(0.006815548085554656+0j)\n",
      "n_discard =  144\n",
      "discard samples 0.7573280334472656\n",
      "n_samples_node =  1000\n",
      "generate_samples :  0.4501523971557617\n",
      "     prepare getting local values 0.0013651847839355469\n",
      "     obtained local values 0.00496673583984375\n",
      "get_mc_stats 0.006992340087890625\n"
     ]
    },
    {
     "name": "stderr",
     "output_type": "stream",
     "text": [
      " 73%|███████▎  | 726/1000 [15:52<05:56,  1.30s/it, Energy=-0.0000016+0.0000000j ± 0.0000018 [σ²=0.0000000]]"
     ]
    },
    {
     "name": "stdout",
     "output_type": "stream",
     "text": [
      "--->> cal O and jac  0.03744959831237793\n",
      "compute_update  0.03971362113952637\n",
      "(0.006815874022067939+0j)\n",
      "n_discard =  144\n",
      "discard samples 0.7556686401367188\n",
      "n_samples_node =  1000\n",
      "generate_samples :  0.5953609943389893\n",
      "     prepare getting local values 0.0027086734771728516\n",
      "     obtained local values 0.007548809051513672\n",
      "get_mc_stats 0.010001182556152344\n"
     ]
    },
    {
     "name": "stderr",
     "output_type": "stream",
     "text": [
      " 73%|███████▎  | 727/1000 [15:53<06:03,  1.33s/it, Energy=0.0000015+0.0000000j ± 0.0000013 [σ²=0.0000000]] "
     ]
    },
    {
     "name": "stdout",
     "output_type": "stream",
     "text": [
      "--->> cal O and jac  0.03783774375915527\n",
      "compute_update  0.04012441635131836\n",
      "(0.006816236147936237+0j)\n",
      "n_discard =  144\n",
      "discard samples 0.7547280788421631\n",
      "n_samples_node =  1000\n",
      "generate_samples :  0.4628572463989258\n",
      "     prepare getting local values 0.001340627670288086\n",
      "     obtained local values 0.0048618316650390625\n",
      "get_mc_stats 0.0068476200103759766\n"
     ]
    },
    {
     "name": "stderr",
     "output_type": "stream",
     "text": [
      " 73%|███████▎  | 728/1000 [15:55<05:57,  1.31s/it, Energy=0.0000000+0.0000000j ± 0.0000016 [σ²=0.0000000]]"
     ]
    },
    {
     "name": "stdout",
     "output_type": "stream",
     "text": [
      "--->> cal O and jac  0.03734159469604492\n",
      "compute_update  0.04150557518005371\n",
      "(0.006816273306980095+0j)\n",
      "n_discard =  144\n",
      "discard samples 0.7551732063293457\n",
      "n_samples_node =  1000\n",
      "generate_samples :  0.5585808753967285\n",
      "     prepare getting local values 0.0025434494018554688\n",
      "     obtained local values 0.008732318878173828\n",
      "get_mc_stats 0.011371612548828125\n"
     ]
    },
    {
     "name": "stderr",
     "output_type": "stream",
     "text": [
      " 73%|███████▎  | 729/1000 [15:56<06:00,  1.33s/it, Energy=-0.0000021+0.0000000j ± 0.0000020 [σ²=0.0000000]]"
     ]
    },
    {
     "name": "stdout",
     "output_type": "stream",
     "text": [
      "--->> cal O and jac  0.037894248962402344\n",
      "compute_update  0.04010605812072754\n",
      "(0.006816422946747608+0j)\n",
      "n_discard =  144\n",
      "discard samples 0.7541024684906006\n",
      "n_samples_node =  1000\n",
      "generate_samples :  0.4473388195037842\n",
      "     prepare getting local values 0.0023267269134521484\n",
      "     obtained local values 0.008448362350463867\n",
      "get_mc_stats 0.01134943962097168\n"
     ]
    },
    {
     "name": "stderr",
     "output_type": "stream",
     "text": [
      " 73%|███████▎  | 730/1000 [15:57<05:52,  1.31s/it, Energy=-0.0000004+0.0000000j ± 0.0000016 [σ²=0.0000000]]"
     ]
    },
    {
     "name": "stdout",
     "output_type": "stream",
     "text": [
      "--->> cal O and jac  0.03816485404968262\n",
      "compute_update  0.04048037528991699\n",
      "(0.0068164112535752126+0j)\n",
      "n_discard =  144\n",
      "discard samples 0.7647943496704102\n",
      "n_samples_node =  1000\n",
      "generate_samples :  0.44922947883605957\n",
      "     prepare getting local values 0.0027866363525390625\n",
      "     obtained local values 0.009896516799926758\n",
      "get_mc_stats 0.01254129409790039\n"
     ]
    },
    {
     "name": "stderr",
     "output_type": "stream",
     "text": [
      " 73%|███████▎  | 731/1000 [15:58<05:48,  1.30s/it, Energy=-0.0000017+0.0000000j ± 0.0000014 [σ²=0.0000000]]"
     ]
    },
    {
     "name": "stdout",
     "output_type": "stream",
     "text": [
      "--->> cal O and jac  0.03935670852661133\n",
      "compute_update  0.042597293853759766\n",
      "(0.006816450190464146+0j)\n",
      "n_discard =  144\n",
      "discard samples 0.7561261653900146\n",
      "n_samples_node =  1000\n",
      "generate_samples :  0.44783902168273926\n",
      "     prepare getting local values 0.002689838409423828\n",
      "     obtained local values 0.00930333137512207\n",
      "get_mc_stats 0.011653423309326172\n"
     ]
    },
    {
     "name": "stderr",
     "output_type": "stream",
     "text": [
      " 73%|███████▎  | 732/1000 [16:00<05:44,  1.28s/it, Energy=-0.0000008+0.0000000j ± 0.0000016 [σ²=0.0000000]]"
     ]
    },
    {
     "name": "stdout",
     "output_type": "stream",
     "text": [
      "--->> cal O and jac  0.037725210189819336\n",
      "compute_update  0.039910078048706055\n",
      "(0.00681687150784672+0j)\n",
      "n_discard =  144\n",
      "discard samples 0.7979297637939453\n",
      "n_samples_node =  1000\n",
      "generate_samples :  0.45572948455810547\n",
      "     prepare getting local values 0.0012896060943603516\n",
      "     obtained local values 0.0045833587646484375\n",
      "get_mc_stats 0.006009101867675781\n"
     ]
    },
    {
     "name": "stderr",
     "output_type": "stream",
     "text": [
      " 73%|███████▎  | 733/1000 [16:01<05:44,  1.29s/it, Energy=-0.0000018+0.0000000j ± 0.0000013 [σ²=0.0000000]]"
     ]
    },
    {
     "name": "stdout",
     "output_type": "stream",
     "text": [
      "--->> cal O and jac  0.03789806365966797\n",
      "compute_update  0.04014873504638672\n",
      "(0.0068169645762127425+0j)\n",
      "n_discard =  144\n",
      "discard samples 0.7722082138061523\n",
      "n_samples_node =  1000\n",
      "generate_samples :  0.4578731060028076\n",
      "     prepare getting local values 0.0013515949249267578\n",
      "     obtained local values 0.004887819290161133\n",
      "get_mc_stats 0.0067327022552490234\n"
     ]
    },
    {
     "name": "stderr",
     "output_type": "stream",
     "text": [
      " 73%|███████▎  | 734/1000 [16:02<05:42,  1.29s/it, Energy=-0.0000011+0.0000000j ± 0.0000021 [σ²=0.0000000]]"
     ]
    },
    {
     "name": "stdout",
     "output_type": "stream",
     "text": [
      "--->> cal O and jac  0.03835248947143555\n",
      "compute_update  0.040589094161987305\n",
      "(0.006817060138325617+0j)\n",
      "n_discard =  144\n",
      "discard samples 0.7588021755218506\n",
      "n_samples_node =  1000\n",
      "generate_samples :  0.4494898319244385\n",
      "     prepare getting local values 0.0026917457580566406\n",
      "     obtained local values 0.0077342987060546875\n",
      "get_mc_stats 0.01047062873840332\n"
     ]
    },
    {
     "name": "stderr",
     "output_type": "stream",
     "text": [
      " 74%|███████▎  | 735/1000 [16:04<05:39,  1.28s/it, Energy=-0.0000014+0.0000000j ± 0.0000016 [σ²=0.0000000]]"
     ]
    },
    {
     "name": "stdout",
     "output_type": "stream",
     "text": [
      "--->> cal O and jac  0.041603803634643555\n",
      "compute_update  0.045638084411621094\n",
      "(0.006817188807688223+0j)\n",
      "n_discard =  144\n",
      "discard samples 0.8571164608001709\n",
      "n_samples_node =  1000\n",
      "generate_samples :  0.46320223808288574\n",
      "     prepare getting local values 0.0013988018035888672\n",
      "     obtained local values 0.005004167556762695\n",
      "get_mc_stats 0.00709223747253418\n"
     ]
    },
    {
     "name": "stderr",
     "output_type": "stream",
     "text": [
      " 74%|███████▎  | 736/1000 [16:05<05:45,  1.31s/it, Energy=0.0000022+0.0000000j ± 0.0000018 [σ²=0.0000000]] "
     ]
    },
    {
     "name": "stdout",
     "output_type": "stream",
     "text": [
      "--->> cal O and jac  0.042662858963012695\n",
      "compute_update  0.04641246795654297\n",
      "(0.006817490846273638+0j)\n",
      "n_discard =  144\n",
      "discard samples 0.8849794864654541\n",
      "n_samples_node =  1000\n",
      "generate_samples :  0.6609969139099121\n",
      "     prepare getting local values 0.002579212188720703\n",
      "     obtained local values 0.009578227996826172\n",
      "get_mc_stats 0.012533187866210938\n"
     ]
    },
    {
     "name": "stderr",
     "output_type": "stream",
     "text": [
      " 74%|███████▎  | 737/1000 [16:06<06:07,  1.40s/it, Energy=-0.0000013+0.0000000j ± 0.0000015 [σ²=0.0000000]]"
     ]
    },
    {
     "name": "stdout",
     "output_type": "stream",
     "text": [
      "--->> cal O and jac  0.037627458572387695\n",
      "compute_update  0.04095768928527832\n",
      "(0.006818020809313818+0j)\n",
      "n_discard =  144\n",
      "discard samples 1.0757009983062744\n",
      "n_samples_node =  1000\n",
      "generate_samples :  0.5339725017547607\n",
      "     prepare getting local values 0.0024535655975341797\n",
      "     obtained local values 0.008722305297851562\n",
      "get_mc_stats 0.011660575866699219\n"
     ]
    },
    {
     "name": "stderr",
     "output_type": "stream",
     "text": [
      " 74%|███████▍  | 738/1000 [16:08<06:26,  1.48s/it, Energy=-0.0000014+0.0000000j ± 0.0000017 [σ²=0.0000000]]"
     ]
    },
    {
     "name": "stdout",
     "output_type": "stream",
     "text": [
      "--->> cal O and jac  0.03478884696960449\n",
      "compute_update  0.03881549835205078\n",
      "(0.0068184345911913085+0j)\n",
      "n_discard =  144\n",
      "discard samples 0.8710055351257324\n",
      "n_samples_node =  1000\n",
      "generate_samples :  0.4820902347564697\n",
      "     prepare getting local values 0.002361774444580078\n",
      "     obtained local values 0.008427858352661133\n",
      "get_mc_stats 0.010574817657470703\n"
     ]
    },
    {
     "name": "stderr",
     "output_type": "stream",
     "text": [
      " 74%|███████▍  | 739/1000 [16:10<06:20,  1.46s/it, Energy=0.0000029+0.0000000j ± 0.0000018 [σ²=0.0000000]] "
     ]
    },
    {
     "name": "stdout",
     "output_type": "stream",
     "text": [
      "--->> cal O and jac  0.041121482849121094\n",
      "compute_update  0.044734954833984375\n",
      "(0.006818753355292425+0j)\n",
      "n_discard =  144\n",
      "discard samples 0.8298146724700928\n",
      "n_samples_node =  1000\n",
      "generate_samples :  0.4602363109588623\n",
      "     prepare getting local values 0.002203702926635742\n",
      "     obtained local values 0.005895137786865234\n",
      "get_mc_stats 0.007875442504882812\n"
     ]
    },
    {
     "name": "stderr",
     "output_type": "stream",
     "text": [
      " 74%|███████▍  | 740/1000 [16:11<06:09,  1.42s/it, Energy=-0.0000009+0.0000000j ± 0.0000017 [σ²=0.0000000]]"
     ]
    },
    {
     "name": "stdout",
     "output_type": "stream",
     "text": [
      "--->> cal O and jac  0.04004955291748047\n",
      "compute_update  0.0430142879486084\n",
      "(0.006818995428552918+0j)\n",
      "n_discard =  144\n",
      "discard samples 0.7724878787994385\n",
      "n_samples_node =  1000\n",
      "generate_samples :  0.4579300880432129\n",
      "     prepare getting local values 0.0012767314910888672\n",
      "     obtained local values 0.004673480987548828\n",
      "get_mc_stats 0.006674766540527344\n"
     ]
    },
    {
     "name": "stderr",
     "output_type": "stream",
     "text": [
      " 74%|███████▍  | 741/1000 [16:12<05:57,  1.38s/it, Energy=-0.0000021+0.0000000j ± 0.0000015 [σ²=0.0000000]]"
     ]
    },
    {
     "name": "stdout",
     "output_type": "stream",
     "text": [
      "--->> cal O and jac  0.03557014465332031\n",
      "compute_update  0.037789344787597656\n",
      "(0.0068191142568602685+0j)\n",
      "n_discard =  144\n",
      "discard samples 0.7914822101593018\n",
      "n_samples_node =  1000\n",
      "generate_samples :  0.6378986835479736\n",
      "     prepare getting local values 0.0023567676544189453\n",
      "     obtained local values 0.008550167083740234\n",
      "get_mc_stats 0.010858297348022461\n"
     ]
    },
    {
     "name": "stderr",
     "output_type": "stream",
     "text": [
      " 74%|███████▍  | 742/1000 [16:14<06:04,  1.41s/it, Energy=0.0000009+0.0000000j ± 0.0000016 [σ²=0.0000000]] "
     ]
    },
    {
     "name": "stdout",
     "output_type": "stream",
     "text": [
      "--->> cal O and jac  0.040947675704956055\n",
      "compute_update  0.04410409927368164\n",
      "(0.006819339595411868+0j)\n",
      "n_discard =  144\n",
      "discard samples 0.7593579292297363\n",
      "n_samples_node =  1000\n",
      "generate_samples :  0.44945406913757324\n",
      "     prepare getting local values 0.001287698745727539\n",
      "     obtained local values 0.004662036895751953\n",
      "get_mc_stats 0.0060749053955078125\n"
     ]
    },
    {
     "name": "stderr",
     "output_type": "stream",
     "text": [
      " 74%|███████▍  | 743/1000 [16:15<05:50,  1.37s/it, Energy=-0.0000019+0.0000000j ± 0.0000015 [σ²=0.0000000]]"
     ]
    },
    {
     "name": "stdout",
     "output_type": "stream",
     "text": [
      "--->> cal O and jac  0.0360722541809082\n",
      "compute_update  0.04020357131958008\n",
      "(0.006819409481249763+0j)\n",
      "n_discard =  144\n",
      "discard samples 0.9376189708709717\n",
      "n_samples_node =  1000\n",
      "generate_samples :  0.5998258590698242\n",
      "     prepare getting local values 0.002550840377807617\n",
      "     obtained local values 0.006445169448852539\n",
      "get_mc_stats 0.009847164154052734\n"
     ]
    },
    {
     "name": "stderr",
     "output_type": "stream",
     "text": [
      " 74%|███████▍  | 744/1000 [16:17<06:06,  1.43s/it, Energy=-0.0000029+0.0000000j ± 0.0000019 [σ²=0.0000000]]"
     ]
    },
    {
     "name": "stdout",
     "output_type": "stream",
     "text": [
      "--->> cal O and jac  0.041400909423828125\n",
      "compute_update  0.043747901916503906\n",
      "(0.0068196333842675235+0j)\n",
      "n_discard =  144\n",
      "discard samples 0.9182376861572266\n",
      "n_samples_node =  1000\n",
      "generate_samples :  0.6099655628204346\n",
      "     prepare getting local values 0.002351522445678711\n",
      "     obtained local values 0.007842540740966797\n",
      "get_mc_stats 0.010754585266113281\n"
     ]
    },
    {
     "name": "stderr",
     "output_type": "stream",
     "text": [
      " 74%|███████▍  | 745/1000 [16:18<06:16,  1.48s/it, Energy=-0.0000036+0.0000000j ± 0.0000011 [σ²=0.0000000]]"
     ]
    },
    {
     "name": "stdout",
     "output_type": "stream",
     "text": [
      "--->> cal O and jac  0.03862738609313965\n",
      "compute_update  0.04077768325805664\n",
      "(0.006819878969362154+0j)\n",
      "n_discard =  144\n",
      "discard samples 1.0356323719024658\n",
      "n_samples_node =  1000\n",
      "generate_samples :  0.4601120948791504\n",
      "     prepare getting local values 0.002154827117919922\n",
      "     obtained local values 0.0060482025146484375\n",
      "get_mc_stats 0.008548736572265625\n"
     ]
    },
    {
     "name": "stderr",
     "output_type": "stream",
     "text": [
      " 75%|███████▍  | 746/1000 [16:20<06:20,  1.50s/it, Energy=-0.0000020+0.0000000j ± 0.0000016 [σ²=0.0000000]]"
     ]
    },
    {
     "name": "stdout",
     "output_type": "stream",
     "text": [
      "--->> cal O and jac  0.03929543495178223\n",
      "compute_update  0.04353618621826172\n",
      "(0.00682052702047858+0j)\n",
      "n_discard =  144\n",
      "discard samples 0.8002347946166992\n",
      "n_samples_node =  1000\n",
      "generate_samples :  0.5500564575195312\n",
      "     prepare getting local values 0.002312898635864258\n",
      "     obtained local values 0.007938146591186523\n",
      "get_mc_stats 0.01036214828491211\n"
     ]
    },
    {
     "name": "stderr",
     "output_type": "stream",
     "text": [
      " 75%|███████▍  | 747/1000 [16:21<06:12,  1.47s/it, Energy=0.0000033+0.0000000j ± 0.0000019 [σ²=0.0000000]] "
     ]
    },
    {
     "name": "stdout",
     "output_type": "stream",
     "text": [
      "--->> cal O and jac  0.04082465171813965\n",
      "compute_update  0.044309377670288086\n",
      "(0.0068204523694491105+0j)\n",
      "n_discard =  144\n",
      "discard samples 0.9750735759735107\n",
      "n_samples_node =  1000\n",
      "generate_samples :  0.6170549392700195\n",
      "     prepare getting local values 0.0013766288757324219\n",
      "     obtained local values 0.004739999771118164\n",
      "get_mc_stats 0.006724357604980469\n"
     ]
    },
    {
     "name": "stderr",
     "output_type": "stream",
     "text": [
      " 75%|███████▍  | 748/1000 [16:23<06:24,  1.52s/it, Energy=0.0000029+0.0000000j ± 0.0000016 [σ²=0.0000000]]"
     ]
    },
    {
     "name": "stdout",
     "output_type": "stream",
     "text": [
      "--->> cal O and jac  0.04214763641357422\n",
      "compute_update  0.04446077346801758\n",
      "(0.006820426306764747+0j)\n",
      "n_discard =  144\n",
      "discard samples 0.8606052398681641\n",
      "n_samples_node =  1000\n",
      "generate_samples :  0.565537691116333\n",
      "     prepare getting local values 0.0013420581817626953\n",
      "     obtained local values 0.006247997283935547\n",
      "get_mc_stats 0.008336782455444336\n"
     ]
    },
    {
     "name": "stderr",
     "output_type": "stream",
     "text": [
      " 75%|███████▍  | 749/1000 [16:24<06:19,  1.51s/it, Energy=-0.0000006+0.0000000j ± 0.0000014 [σ²=0.0000000]]"
     ]
    },
    {
     "name": "stdout",
     "output_type": "stream",
     "text": [
      "--->> cal O and jac  0.03824901580810547\n",
      "compute_update  0.04236745834350586\n",
      "(0.006820723981558574+0j)\n",
      "n_discard =  144\n",
      "discard samples 0.9395854473114014\n",
      "n_samples_node =  1000\n",
      "generate_samples :  0.47415971755981445\n",
      "     prepare getting local values 0.0018825531005859375\n",
      "     obtained local values 0.005499839782714844\n",
      "get_mc_stats 0.009089231491088867\n"
     ]
    },
    {
     "name": "stderr",
     "output_type": "stream",
     "text": [
      " 75%|███████▌  | 750/1000 [16:26<06:14,  1.50s/it, Energy=0.0000003+0.0000000j ± 0.0000017 [σ²=0.0000000]] "
     ]
    },
    {
     "name": "stdout",
     "output_type": "stream",
     "text": [
      "--->> cal O and jac  0.039595603942871094\n",
      "compute_update  0.04188704490661621\n",
      "(0.006820822551291128+0j)\n",
      "n_discard =  144\n",
      "discard samples 0.9632871150970459\n",
      "n_samples_node =  1000\n",
      "generate_samples :  0.48300600051879883\n",
      "     prepare getting local values 0.0024785995483398438\n",
      "     obtained local values 0.00838470458984375\n",
      "get_mc_stats 0.011828184127807617\n"
     ]
    },
    {
     "name": "stderr",
     "output_type": "stream",
     "text": [
      " 75%|███████▌  | 751/1000 [16:27<06:13,  1.50s/it, Energy=-0.0000021+0.0000000j ± 0.0000015 [σ²=0.0000000]]"
     ]
    },
    {
     "name": "stdout",
     "output_type": "stream",
     "text": [
      "--->> cal O and jac  0.03954958915710449\n",
      "compute_update  0.04193258285522461\n",
      "(0.0068209696922930715+0j)\n",
      "n_discard =  144\n",
      "discard samples 1.029883861541748\n",
      "n_samples_node =  1000\n",
      "generate_samples :  0.45758986473083496\n",
      "     prepare getting local values 0.0018451213836669922\n",
      "     obtained local values 0.00522160530090332\n",
      "get_mc_stats 0.007589578628540039\n"
     ]
    },
    {
     "name": "stderr",
     "output_type": "stream",
     "text": [
      " 75%|███████▌  | 752/1000 [16:29<06:14,  1.51s/it, Energy=-0.0000018+0.0000000j ± 0.0000015 [σ²=0.0000000]]"
     ]
    },
    {
     "name": "stdout",
     "output_type": "stream",
     "text": [
      "--->> cal O and jac  0.03818225860595703\n",
      "compute_update  0.04059720039367676\n",
      "(0.006821068214367594+0j)\n",
      "n_discard =  144\n",
      "discard samples 1.011122226715088\n",
      "n_samples_node =  1000\n",
      "generate_samples :  0.4729483127593994\n",
      "     prepare getting local values 0.002257823944091797\n",
      "     obtained local values 0.00839853286743164\n",
      "get_mc_stats 0.011023759841918945\n"
     ]
    },
    {
     "name": "stderr",
     "output_type": "stream",
     "text": [
      " 75%|███████▌  | 753/1000 [16:30<06:15,  1.52s/it, Energy=0.0000044+0.0000000j ± 0.0000015 [σ²=0.0000000]] "
     ]
    },
    {
     "name": "stdout",
     "output_type": "stream",
     "text": [
      "--->> cal O and jac  0.04047846794128418\n",
      "compute_update  0.04286313056945801\n",
      "(0.006821160411636641+0j)\n",
      "n_discard =  144\n",
      "discard samples 0.895582914352417\n",
      "n_samples_node =  1000\n",
      "generate_samples :  0.5068020820617676\n",
      "     prepare getting local values 0.002676725387573242\n",
      "     obtained local values 0.00908517837524414\n",
      "get_mc_stats 0.011767387390136719\n"
     ]
    },
    {
     "name": "stderr",
     "output_type": "stream",
     "text": [
      " 75%|███████▌  | 754/1000 [16:32<06:09,  1.50s/it, Energy=0.0000011+0.0000000j ± 0.0000019 [σ²=0.0000000]]"
     ]
    },
    {
     "name": "stdout",
     "output_type": "stream",
     "text": [
      "--->> cal O and jac  0.03924250602722168\n",
      "compute_update  0.04317808151245117\n",
      "(0.006821605050059129+0j)\n",
      "n_discard =  144\n",
      "discard samples 0.7938265800476074\n",
      "n_samples_node =  1000\n",
      "generate_samples :  0.45719027519226074\n",
      "     prepare getting local values 0.0013833045959472656\n",
      "     obtained local values 0.004990816116333008\n",
      "get_mc_stats 0.006567478179931641\n"
     ]
    },
    {
     "name": "stderr",
     "output_type": "stream",
     "text": [
      " 76%|███████▌  | 755/1000 [16:33<05:53,  1.44s/it, Energy=0.0000010+0.0000000j ± 0.0000015 [σ²=0.0000000]]"
     ]
    },
    {
     "name": "stdout",
     "output_type": "stream",
     "text": [
      "--->> cal O and jac  0.040453195571899414\n",
      "compute_update  0.043260812759399414\n",
      "(0.006821496478911874+0j)\n",
      "n_discard =  144\n",
      "discard samples 0.7759718894958496\n",
      "n_samples_node =  1000\n",
      "generate_samples :  0.45584964752197266\n",
      "     prepare getting local values 0.0013442039489746094\n",
      "     obtained local values 0.005218505859375\n",
      "get_mc_stats 0.007233381271362305\n"
     ]
    },
    {
     "name": "stderr",
     "output_type": "stream",
     "text": [
      " 76%|███████▌  | 756/1000 [16:34<05:40,  1.40s/it, Energy=0.0000012+0.0000000j ± 0.0000014 [σ²=0.0000000]]"
     ]
    },
    {
     "name": "stdout",
     "output_type": "stream",
     "text": [
      "--->> cal O and jac  0.04781293869018555\n",
      "compute_update  0.050603628158569336\n",
      "(0.006821624799664452+0j)\n",
      "n_discard =  144\n",
      "discard samples 0.9264919757843018\n",
      "n_samples_node =  1000\n",
      "generate_samples :  0.4534332752227783\n",
      "     prepare getting local values 0.0028111934661865234\n",
      "     obtained local values 0.006651401519775391\n",
      "get_mc_stats 0.00876474380493164\n"
     ]
    },
    {
     "name": "stderr",
     "output_type": "stream",
     "text": [
      " 76%|███████▌  | 757/1000 [16:36<05:42,  1.41s/it, Energy=0.0000014+0.0000000j ± 0.0000012 [σ²=0.0000000]]"
     ]
    },
    {
     "name": "stdout",
     "output_type": "stream",
     "text": [
      "--->> cal O and jac  0.038788795471191406\n",
      "compute_update  0.04104971885681152\n",
      "(0.0068215629187042565+0j)\n",
      "n_discard =  144\n",
      "discard samples 0.9530572891235352\n",
      "n_samples_node =  1000\n",
      "generate_samples :  0.6435673236846924\n",
      "     prepare getting local values 0.001971721649169922\n",
      "     obtained local values 0.006123781204223633\n",
      "get_mc_stats 0.008797407150268555\n"
     ]
    },
    {
     "name": "stderr",
     "output_type": "stream",
     "text": [
      " 76%|███████▌  | 758/1000 [16:37<05:58,  1.48s/it, Energy=-0.0000019+0.0000000j ± 0.0000016 [σ²=0.0000000]]"
     ]
    },
    {
     "name": "stdout",
     "output_type": "stream",
     "text": [
      "--->> cal O and jac  0.046865224838256836\n",
      "compute_update  0.05052495002746582\n",
      "(0.0068215803661133825+0j)\n",
      "n_discard =  144\n",
      "discard samples 0.7763400077819824\n",
      "n_samples_node =  1000\n",
      "generate_samples :  0.5327255725860596\n",
      "     prepare getting local values 0.0026464462280273438\n",
      "     obtained local values 0.009111166000366211\n",
      "get_mc_stats 0.011830568313598633\n"
     ]
    },
    {
     "name": "stderr",
     "output_type": "stream",
     "text": [
      " 76%|███████▌  | 759/1000 [16:39<05:48,  1.45s/it, Energy=0.0000005+0.0000000j ± 0.0000017 [σ²=0.0000000]] "
     ]
    },
    {
     "name": "stdout",
     "output_type": "stream",
     "text": [
      "--->> cal O and jac  0.036829233169555664\n",
      "compute_update  0.03900599479675293\n",
      "(0.006821753570020801+0j)\n",
      "n_discard =  144\n",
      "discard samples 0.7685308456420898\n",
      "n_samples_node =  1000\n",
      "generate_samples :  0.4555628299713135\n",
      "     prepare getting local values 0.0016579627990722656\n",
      "     obtained local values 0.007961750030517578\n",
      "get_mc_stats 0.009988546371459961\n"
     ]
    },
    {
     "name": "stderr",
     "output_type": "stream",
     "text": [
      " 76%|███████▌  | 760/1000 [16:40<05:35,  1.40s/it, Energy=-0.0000008+0.0000000j ± 0.0000021 [σ²=0.0000000]]"
     ]
    },
    {
     "name": "stdout",
     "output_type": "stream",
     "text": [
      "--->> cal O and jac  0.03948616981506348\n",
      "compute_update  0.043296098709106445\n",
      "(0.006821829503946789+0j)\n",
      "n_discard =  144\n",
      "discard samples 0.7590072154998779\n",
      "n_samples_node =  1000\n",
      "generate_samples :  0.451643705368042\n",
      "     prepare getting local values 0.002680540084838867\n",
      "     obtained local values 0.006667613983154297\n",
      "get_mc_stats 0.00937652587890625\n"
     ]
    },
    {
     "name": "stderr",
     "output_type": "stream",
     "text": [
      " 76%|███████▌  | 761/1000 [16:41<05:23,  1.35s/it, Energy=-0.0000033+0.0000000j ± 0.0000016 [σ²=0.0000000]]"
     ]
    },
    {
     "name": "stdout",
     "output_type": "stream",
     "text": [
      "--->> cal O and jac  0.03236651420593262\n",
      "compute_update  0.035283565521240234\n",
      "(0.006821941790709399+0j)\n",
      "n_discard =  144\n",
      "discard samples 0.7548630237579346\n",
      "n_samples_node =  1000\n",
      "generate_samples :  0.45481157302856445\n",
      "     prepare getting local values 0.0014009475708007812\n",
      "     obtained local values 0.005034923553466797\n",
      "get_mc_stats 0.007005214691162109\n"
     ]
    },
    {
     "name": "stderr",
     "output_type": "stream",
     "text": [
      " 76%|███████▌  | 762/1000 [16:43<05:15,  1.33s/it, Energy=-0.0000013+0.0000000j ± 0.0000015 [σ²=0.0000000]]"
     ]
    },
    {
     "name": "stdout",
     "output_type": "stream",
     "text": [
      "--->> cal O and jac  0.04040861129760742\n",
      "compute_update  0.04409480094909668\n",
      "(0.006822232077434015+0j)\n",
      "n_discard =  144\n",
      "discard samples 0.7742607593536377\n",
      "n_samples_node =  1000\n",
      "generate_samples :  0.45655250549316406\n",
      "     prepare getting local values 0.0027899742126464844\n",
      "     obtained local values 0.009903192520141602\n",
      "get_mc_stats 0.012659549713134766\n"
     ]
    },
    {
     "name": "stderr",
     "output_type": "stream",
     "text": [
      " 76%|███████▋  | 763/1000 [16:44<05:11,  1.31s/it, Energy=-0.0000025+0.0000000j ± 0.0000017 [σ²=0.0000000]]"
     ]
    },
    {
     "name": "stdout",
     "output_type": "stream",
     "text": [
      "--->> cal O and jac  0.037966251373291016\n",
      "compute_update  0.04026985168457031\n",
      "(0.006822622792177432+0j)\n",
      "n_discard =  144\n",
      "discard samples 0.7629373073577881\n",
      "n_samples_node =  1000\n",
      "generate_samples :  0.4508695602416992\n",
      "     prepare getting local values 0.0026459693908691406\n",
      "     obtained local values 0.00998687744140625\n",
      "get_mc_stats 0.012769460678100586\n"
     ]
    },
    {
     "name": "stderr",
     "output_type": "stream",
     "text": [
      " 76%|███████▋  | 764/1000 [16:45<05:07,  1.30s/it, Energy=-0.0000016+0.0000000j ± 0.0000018 [σ²=0.0000000]]"
     ]
    },
    {
     "name": "stdout",
     "output_type": "stream",
     "text": [
      "--->> cal O and jac  0.04358339309692383\n",
      "compute_update  0.04584240913391113\n",
      "(0.006823259351359067+0j)\n",
      "n_discard =  144\n",
      "discard samples 0.775092363357544\n",
      "n_samples_node =  1000\n",
      "generate_samples :  0.452838659286499\n",
      "     prepare getting local values 0.0015535354614257812\n",
      "     obtained local values 0.008642435073852539\n",
      "get_mc_stats 0.011089324951171875\n"
     ]
    },
    {
     "name": "stderr",
     "output_type": "stream",
     "text": [
      " 76%|███████▋  | 765/1000 [16:46<05:04,  1.30s/it, Energy=0.0000001+0.0000000j ± 0.0000016 [σ²=0.0000000]] "
     ]
    },
    {
     "name": "stdout",
     "output_type": "stream",
     "text": [
      "--->> cal O and jac  0.03596758842468262\n",
      "compute_update  0.03826260566711426\n",
      "(0.006823437935893218+0j)\n",
      "n_discard =  144\n",
      "discard samples 0.7951257228851318\n",
      "n_samples_node =  1000\n",
      "generate_samples :  0.4480283260345459\n",
      "     prepare getting local values 0.0022842884063720703\n",
      "     obtained local values 0.007486104965209961\n",
      "get_mc_stats 0.010195016860961914\n"
     ]
    },
    {
     "name": "stderr",
     "output_type": "stream",
     "text": [
      " 77%|███████▋  | 766/1000 [16:48<05:03,  1.30s/it, Energy=-0.0000003+0.0000000j ± 0.0000017 [σ²=0.0000000]]"
     ]
    },
    {
     "name": "stdout",
     "output_type": "stream",
     "text": [
      "--->> cal O and jac  0.03770947456359863\n",
      "compute_update  0.03988981246948242\n",
      "(0.006823386290377614+0j)\n",
      "n_discard =  144\n",
      "discard samples 0.7546920776367188\n",
      "n_samples_node =  1000\n",
      "generate_samples :  0.44724202156066895\n",
      "     prepare getting local values 0.0013594627380371094\n",
      "     obtained local values 0.0049512386322021484\n",
      "get_mc_stats 0.0068225860595703125\n"
     ]
    },
    {
     "name": "stderr",
     "output_type": "stream",
     "text": [
      " 77%|███████▋  | 767/1000 [16:49<04:58,  1.28s/it, Energy=-0.0000002+0.0000000j ± 0.0000018 [σ²=0.0000000]]"
     ]
    },
    {
     "name": "stdout",
     "output_type": "stream",
     "text": [
      "--->> cal O and jac  0.036585092544555664\n",
      "compute_update  0.04046034812927246\n",
      "(0.006823067528982847+0j)\n",
      "n_discard =  144\n",
      "discard samples 0.7600009441375732\n",
      "n_samples_node =  1000\n",
      "generate_samples :  0.5699865818023682\n",
      "     prepare getting local values 0.002696990966796875\n",
      "     obtained local values 0.0061817169189453125\n",
      "get_mc_stats 0.00914907455444336\n"
     ]
    },
    {
     "name": "stderr",
     "output_type": "stream",
     "text": [
      " 77%|███████▋  | 768/1000 [16:50<05:04,  1.31s/it, Energy=0.0000013+0.0000000j ± 0.0000019 [σ²=0.0000000]] "
     ]
    },
    {
     "name": "stdout",
     "output_type": "stream",
     "text": [
      "--->> cal O and jac  0.04021859169006348\n",
      "compute_update  0.04432964324951172\n",
      "(0.006823109597666176+0j)\n",
      "n_discard =  144\n",
      "discard samples 0.8324985504150391\n",
      "n_samples_node =  1000\n",
      "generate_samples :  0.4496347904205322\n",
      "     prepare getting local values 0.0013427734375\n",
      "     obtained local values 0.00464630126953125\n",
      "get_mc_stats 0.006579875946044922\n"
     ]
    },
    {
     "name": "stderr",
     "output_type": "stream",
     "text": [
      " 77%|███████▋  | 769/1000 [16:52<05:04,  1.32s/it, Energy=-0.0000016+0.0000000j ± 0.0000015 [σ²=0.0000000]]"
     ]
    },
    {
     "name": "stdout",
     "output_type": "stream",
     "text": [
      "--->> cal O and jac  0.039335012435913086\n",
      "compute_update  0.04297995567321777\n",
      "(0.0068231968971571785+0j)\n",
      "n_discard =  144\n",
      "discard samples 0.7548558712005615\n",
      "n_samples_node =  1000\n",
      "generate_samples :  0.4837522506713867\n",
      "     prepare getting local values 0.0013186931610107422\n",
      "     obtained local values 0.00479435920715332\n",
      "get_mc_stats 0.006655693054199219\n"
     ]
    },
    {
     "name": "stderr",
     "output_type": "stream",
     "text": [
      " 77%|███████▋  | 770/1000 [16:53<05:01,  1.31s/it, Energy=-0.0000004+0.0000000j ± 0.0000015 [σ²=0.0000000]]"
     ]
    },
    {
     "name": "stdout",
     "output_type": "stream",
     "text": [
      "--->> cal O and jac  0.04075980186462402\n",
      "compute_update  0.044545650482177734\n",
      "(0.006823464369546097+0j)\n",
      "n_discard =  144\n",
      "discard samples 0.75563645362854\n",
      "n_samples_node =  1000\n",
      "generate_samples :  0.459244966506958\n",
      "     prepare getting local values 0.0012826919555664062\n",
      "     obtained local values 0.004663944244384766\n",
      "get_mc_stats 0.006464481353759766\n"
     ]
    },
    {
     "name": "stderr",
     "output_type": "stream",
     "text": [
      " 77%|███████▋  | 771/1000 [16:54<04:56,  1.30s/it, Energy=0.0000010+0.0000000j ± 0.0000016 [σ²=0.0000000]] "
     ]
    },
    {
     "name": "stdout",
     "output_type": "stream",
     "text": [
      "--->> cal O and jac  0.03587484359741211\n",
      "compute_update  0.03798508644104004\n",
      "(0.006823441390847241+0j)\n",
      "n_discard =  144\n",
      "discard samples 0.758326530456543\n",
      "n_samples_node =  1000\n",
      "generate_samples :  0.45042896270751953\n",
      "     prepare getting local values 0.0022623538970947266\n",
      "     obtained local values 0.005654096603393555\n",
      "get_mc_stats 0.008014678955078125\n"
     ]
    },
    {
     "name": "stderr",
     "output_type": "stream",
     "text": [
      " 77%|███████▋  | 772/1000 [16:55<04:52,  1.28s/it, Energy=-0.0000007+0.0000000j ± 0.0000018 [σ²=0.0000000]]"
     ]
    },
    {
     "name": "stdout",
     "output_type": "stream",
     "text": [
      "--->> cal O and jac  0.0375974178314209\n",
      "compute_update  0.03988933563232422\n",
      "(0.006823980396935931+0j)\n",
      "n_discard =  144\n",
      "discard samples 0.8116083145141602\n",
      "n_samples_node =  1000\n",
      "generate_samples :  0.6246459484100342\n",
      "     prepare getting local values 0.0029528141021728516\n",
      "     obtained local values 0.006334066390991211\n",
      "get_mc_stats 0.009375572204589844\n"
     ]
    },
    {
     "name": "stderr",
     "output_type": "stream",
     "text": [
      " 77%|███████▋  | 773/1000 [16:57<05:05,  1.35s/it, Energy=-0.0000019+0.0000000j ± 0.0000019 [σ²=0.0000000]]"
     ]
    },
    {
     "name": "stdout",
     "output_type": "stream",
     "text": [
      "--->> cal O and jac  0.038344383239746094\n",
      "compute_update  0.042058706283569336\n",
      "(0.006823885798030944+0j)\n",
      "n_discard =  144\n",
      "discard samples 0.754636287689209\n",
      "n_samples_node =  1000\n",
      "generate_samples :  0.4565238952636719\n",
      "     prepare getting local values 0.0013263225555419922\n",
      "     obtained local values 0.00482487678527832\n",
      "get_mc_stats 0.00669550895690918\n"
     ]
    },
    {
     "name": "stderr",
     "output_type": "stream",
     "text": [
      " 77%|███████▋  | 774/1000 [16:58<04:58,  1.32s/it, Energy=0.0000020+0.0000000j ± 0.0000017 [σ²=0.0000000]] "
     ]
    },
    {
     "name": "stdout",
     "output_type": "stream",
     "text": [
      "--->> cal O and jac  0.035555124282836914\n",
      "compute_update  0.037575483322143555\n",
      "(0.006824066295689664+0j)\n",
      "n_discard =  144\n",
      "discard samples 0.7529466152191162\n",
      "n_samples_node =  1000\n",
      "generate_samples :  0.44753551483154297\n",
      "     prepare getting local values 0.0013828277587890625\n",
      "     obtained local values 0.004873514175415039\n",
      "get_mc_stats 0.006819248199462891\n"
     ]
    },
    {
     "name": "stderr",
     "output_type": "stream",
     "text": [
      " 78%|███████▊  | 775/1000 [16:59<04:52,  1.30s/it, Energy=-0.0000012+0.0000000j ± 0.0000016 [σ²=0.0000000]]"
     ]
    },
    {
     "name": "stdout",
     "output_type": "stream",
     "text": [
      "--->> cal O and jac  0.03710317611694336\n",
      "compute_update  0.03937983512878418\n",
      "(0.006824211733795667+0j)\n",
      "n_discard =  144\n",
      "discard samples 0.7541072368621826\n",
      "n_samples_node =  1000\n",
      "generate_samples :  0.4594113826751709\n",
      "     prepare getting local values 0.0013201236724853516\n",
      "     obtained local values 0.004658937454223633\n",
      "get_mc_stats 0.006482839584350586\n"
     ]
    },
    {
     "name": "stderr",
     "output_type": "stream",
     "text": [
      " 78%|███████▊  | 776/1000 [17:01<04:48,  1.29s/it, Energy=-0.0000002+0.0000000j ± 0.0000018 [σ²=0.0000000]]"
     ]
    },
    {
     "name": "stdout",
     "output_type": "stream",
     "text": [
      "--->> cal O and jac  0.03762316703796387\n",
      "compute_update  0.03978705406188965\n",
      "(0.006824495084890848+0j)\n",
      "n_discard =  144\n",
      "discard samples 0.7557106018066406\n",
      "n_samples_node =  1000\n",
      "generate_samples :  0.454193115234375\n",
      "     prepare getting local values 0.0027239322662353516\n",
      "     obtained local values 0.009874343872070312\n",
      "get_mc_stats 0.012512445449829102\n"
     ]
    },
    {
     "name": "stderr",
     "output_type": "stream",
     "text": [
      " 78%|███████▊  | 777/1000 [17:02<04:45,  1.28s/it, Energy=-0.0000021+0.0000000j ± 0.0000016 [σ²=0.0000000]]"
     ]
    },
    {
     "name": "stdout",
     "output_type": "stream",
     "text": [
      "--->> cal O and jac  0.036276817321777344\n",
      "compute_update  0.03842520713806152\n",
      "(0.006825143697886542+0j)\n",
      "n_discard =  144\n",
      "discard samples 0.7586665153503418\n",
      "n_samples_node =  1000\n",
      "generate_samples :  0.4512302875518799\n",
      "     prepare getting local values 0.002625703811645508\n",
      "     obtained local values 0.008466958999633789\n",
      "get_mc_stats 0.011124610900878906\n"
     ]
    },
    {
     "name": "stderr",
     "output_type": "stream",
     "text": [
      " 78%|███████▊  | 778/1000 [17:03<04:43,  1.27s/it, Energy=-0.0000031+0.0000000j ± 0.0000014 [σ²=0.0000000]]"
     ]
    },
    {
     "name": "stdout",
     "output_type": "stream",
     "text": [
      "--->> cal O and jac  0.03858208656311035\n",
      "compute_update  0.040854454040527344\n",
      "(0.0068251004996460595+0j)\n",
      "n_discard =  144\n",
      "discard samples 0.765338659286499\n",
      "n_samples_node =  1000\n",
      "generate_samples :  0.45990562438964844\n",
      "     prepare getting local values 0.0019521713256835938\n",
      "     obtained local values 0.008887052536010742\n",
      "get_mc_stats 0.010288715362548828\n"
     ]
    },
    {
     "name": "stderr",
     "output_type": "stream",
     "text": [
      " 78%|███████▊  | 779/1000 [17:05<04:42,  1.28s/it, Energy=-0.0000020+0.0000000j ± 0.0000015 [σ²=0.0000000]]"
     ]
    },
    {
     "name": "stdout",
     "output_type": "stream",
     "text": [
      "--->> cal O and jac  0.037758827209472656\n",
      "compute_update  0.04175114631652832\n",
      "(0.006825046324396769+0j)\n",
      "n_discard =  144\n",
      "discard samples 0.7563762664794922\n",
      "n_samples_node =  1000\n",
      "generate_samples :  0.4536459445953369\n",
      "     prepare getting local values 0.0012578964233398438\n",
      "     obtained local values 0.0046138763427734375\n",
      "get_mc_stats 0.006285667419433594\n"
     ]
    },
    {
     "name": "stderr",
     "output_type": "stream",
     "text": [
      " 78%|███████▊  | 780/1000 [17:06<04:39,  1.27s/it, Energy=0.0000006+0.0000000j ± 0.0000015 [σ²=0.0000000]] "
     ]
    },
    {
     "name": "stdout",
     "output_type": "stream",
     "text": [
      "--->> cal O and jac  0.03586173057556152\n",
      "compute_update  0.03959941864013672\n",
      "(0.006824962195824922+0j)\n",
      "n_discard =  144\n",
      "discard samples 0.7831196784973145\n",
      "n_samples_node =  1000\n",
      "generate_samples :  0.6372709274291992\n",
      "     prepare getting local values 0.0014052391052246094\n",
      "     obtained local values 0.0049550533294677734\n",
      "get_mc_stats 0.0072116851806640625\n"
     ]
    },
    {
     "name": "stderr",
     "output_type": "stream",
     "text": [
      " 78%|███████▊  | 781/1000 [17:07<04:51,  1.33s/it, Energy=-0.0000005+0.0000000j ± 0.0000017 [σ²=0.0000000]]"
     ]
    },
    {
     "name": "stdout",
     "output_type": "stream",
     "text": [
      "--->> cal O and jac  0.03795599937438965\n",
      "compute_update  0.041967153549194336\n",
      "(0.006825014692575215+0j)\n",
      "n_discard =  144\n",
      "discard samples 0.7691226005554199\n",
      "n_samples_node =  1000\n",
      "generate_samples :  0.4523301124572754\n",
      "     prepare getting local values 0.0013916492462158203\n",
      "     obtained local values 0.004822969436645508\n",
      "get_mc_stats 0.006634235382080078\n"
     ]
    },
    {
     "name": "stderr",
     "output_type": "stream",
     "text": [
      " 78%|███████▊  | 782/1000 [17:09<04:45,  1.31s/it, Energy=-0.0000036+0.0000000j ± 0.0000016 [σ²=0.0000000]]"
     ]
    },
    {
     "name": "stdout",
     "output_type": "stream",
     "text": [
      "--->> cal O and jac  0.0353851318359375\n",
      "compute_update  0.03738808631896973\n",
      "(0.006825356983204895+0j)\n",
      "n_discard =  144\n",
      "discard samples 0.7625658512115479\n",
      "n_samples_node =  1000\n",
      "generate_samples :  0.475846529006958\n",
      "     prepare getting local values 0.001256704330444336\n",
      "     obtained local values 0.00456690788269043\n",
      "get_mc_stats 0.006205558776855469\n"
     ]
    },
    {
     "name": "stderr",
     "output_type": "stream",
     "text": [
      " 78%|███████▊  | 783/1000 [17:10<04:42,  1.30s/it, Energy=0.0000039+0.0000000j ± 0.0000017 [σ²=0.0000000]] "
     ]
    },
    {
     "name": "stdout",
     "output_type": "stream",
     "text": [
      "--->> cal O and jac  0.033841609954833984\n",
      "compute_update  0.036025285720825195\n",
      "(0.006825587326254586+0j)\n",
      "n_discard =  144\n",
      "discard samples 0.7632079124450684\n",
      "n_samples_node =  1000\n",
      "generate_samples :  0.4516792297363281\n",
      "     prepare getting local values 0.0022192001342773438\n",
      "     obtained local values 0.00835561752319336\n",
      "get_mc_stats 0.011137723922729492\n"
     ]
    },
    {
     "name": "stderr",
     "output_type": "stream",
     "text": [
      " 78%|███████▊  | 784/1000 [17:11<04:39,  1.29s/it, Energy=-0.0000033+0.0000000j ± 0.0000012 [σ²=0.0000000]]"
     ]
    },
    {
     "name": "stdout",
     "output_type": "stream",
     "text": [
      "--->> cal O and jac  0.03917384147644043\n",
      "compute_update  0.04145002365112305\n",
      "(0.006825190926641619+0j)\n",
      "n_discard =  144\n",
      "discard samples 0.7629499435424805\n",
      "n_samples_node =  1000\n",
      "generate_samples :  0.45789098739624023\n",
      "     prepare getting local values 0.0013697147369384766\n",
      "     obtained local values 0.0046885013580322266\n",
      "get_mc_stats 0.006588459014892578\n"
     ]
    },
    {
     "name": "stderr",
     "output_type": "stream",
     "text": [
      " 78%|███████▊  | 785/1000 [17:12<04:36,  1.29s/it, Energy=-0.0000008+0.0000000j ± 0.0000017 [σ²=0.0000000]]"
     ]
    },
    {
     "name": "stdout",
     "output_type": "stream",
     "text": [
      "--->> cal O and jac  0.03641939163208008\n",
      "compute_update  0.0389707088470459\n",
      "(0.006825446110277643+0j)\n",
      "n_discard =  144\n",
      "discard samples 0.7852842807769775\n",
      "n_samples_node =  1000\n",
      "generate_samples :  0.46399450302124023\n",
      "     prepare getting local values 0.0013756752014160156\n",
      "     obtained local values 0.0048253536224365234\n",
      "get_mc_stats 0.006842136383056641\n"
     ]
    },
    {
     "name": "stderr",
     "output_type": "stream",
     "text": [
      " 79%|███████▊  | 786/1000 [17:14<04:36,  1.29s/it, Energy=-0.0000036+0.0000000j ± 0.0000015 [σ²=0.0000000]]"
     ]
    },
    {
     "name": "stdout",
     "output_type": "stream",
     "text": [
      "--->> cal O and jac  0.040318965911865234\n",
      "compute_update  0.04248309135437012\n",
      "(0.006825266675852521+0j)\n",
      "n_discard =  144\n",
      "discard samples 0.8384511470794678\n",
      "n_samples_node =  1000\n",
      "generate_samples :  0.5476663112640381\n",
      "     prepare getting local values 0.0013530254364013672\n",
      "     obtained local values 0.004872560501098633\n",
      "get_mc_stats 0.006850004196166992\n"
     ]
    },
    {
     "name": "stderr",
     "output_type": "stream",
     "text": [
      " 79%|███████▊  | 787/1000 [17:15<04:44,  1.33s/it, Energy=-0.0000019+0.0000000j ± 0.0000017 [σ²=0.0000000]]"
     ]
    },
    {
     "name": "stdout",
     "output_type": "stream",
     "text": [
      "--->> cal O and jac  0.04278063774108887\n",
      "compute_update  0.04512429237365723\n",
      "(0.006825586032147026+0j)\n",
      "n_discard =  144\n",
      "discard samples 0.8507797718048096\n",
      "n_samples_node =  1000\n",
      "generate_samples :  0.4701049327850342\n",
      "     prepare getting local values 0.0013668537139892578\n",
      "     obtained local values 0.005020856857299805\n",
      "get_mc_stats 0.006883144378662109\n"
     ]
    },
    {
     "name": "stderr",
     "output_type": "stream",
     "text": [
      " 79%|███████▉  | 788/1000 [17:16<04:45,  1.35s/it, Energy=-0.0000022+0.0000000j ± 0.0000016 [σ²=0.0000000]]"
     ]
    },
    {
     "name": "stdout",
     "output_type": "stream",
     "text": [
      "--->> cal O and jac  0.03998160362243652\n",
      "compute_update  0.042217254638671875\n",
      "(0.006825680753253283+0j)\n",
      "n_discard =  144\n",
      "discard samples 0.7610547542572021\n",
      "n_samples_node =  1000\n",
      "generate_samples :  0.49767565727233887\n",
      "     prepare getting local values 0.0013165473937988281\n",
      "     obtained local values 0.004801750183105469\n",
      "get_mc_stats 0.006481170654296875\n"
     ]
    },
    {
     "name": "stderr",
     "output_type": "stream",
     "text": [
      " 79%|███████▉  | 789/1000 [17:18<04:41,  1.33s/it, Energy=-0.0000020+0.0000000j ± 0.0000019 [σ²=0.0000000]]"
     ]
    },
    {
     "name": "stdout",
     "output_type": "stream",
     "text": [
      "--->> cal O and jac  0.03829836845397949\n",
      "compute_update  0.04068112373352051\n",
      "(0.006826154840705279+0j)\n",
      "n_discard =  144\n",
      "discard samples 0.7581162452697754\n",
      "n_samples_node =  1000\n",
      "generate_samples :  0.45177626609802246\n",
      "     prepare getting local values 0.0015921592712402344\n",
      "     obtained local values 0.005414724349975586\n",
      "get_mc_stats 0.0074956417083740234\n"
     ]
    },
    {
     "name": "stderr",
     "output_type": "stream",
     "text": [
      " 79%|███████▉  | 790/1000 [17:19<04:35,  1.31s/it, Energy=-0.0000011+0.0000000j ± 0.0000013 [σ²=0.0000000]]"
     ]
    },
    {
     "name": "stdout",
     "output_type": "stream",
     "text": [
      "--->> cal O and jac  0.03954005241394043\n",
      "compute_update  0.04319500923156738\n",
      "(0.006826276159427348+0j)\n",
      "n_discard =  144\n",
      "discard samples 0.7609677314758301\n",
      "n_samples_node =  1000\n",
      "generate_samples :  0.45273494720458984\n",
      "     prepare getting local values 0.0023593902587890625\n",
      "     obtained local values 0.008528947830200195\n",
      "get_mc_stats 0.011048316955566406\n"
     ]
    },
    {
     "name": "stderr",
     "output_type": "stream",
     "text": [
      " 79%|███████▉  | 791/1000 [17:20<04:31,  1.30s/it, Energy=0.0000002+0.0000000j ± 0.0000016 [σ²=0.0000000]] "
     ]
    },
    {
     "name": "stdout",
     "output_type": "stream",
     "text": [
      "--->> cal O and jac  0.03814101219177246\n",
      "compute_update  0.0405421257019043\n",
      "(0.006826345609998+0j)\n",
      "n_discard =  144\n",
      "discard samples 0.7554316520690918\n",
      "n_samples_node =  1000\n",
      "generate_samples :  0.5047597885131836\n",
      "     prepare getting local values 0.0013153553009033203\n",
      "     obtained local values 0.004759311676025391\n",
      "get_mc_stats 0.006671905517578125\n"
     ]
    },
    {
     "name": "stderr",
     "output_type": "stream",
     "text": [
      " 79%|███████▉  | 792/1000 [17:22<04:30,  1.30s/it, Energy=0.0000012+0.0000000j ± 0.0000017 [σ²=0.0000000]]"
     ]
    },
    {
     "name": "stdout",
     "output_type": "stream",
     "text": [
      "--->> cal O and jac  0.036072731018066406\n",
      "compute_update  0.038364410400390625\n",
      "(0.0068264556274026346+0j)\n",
      "n_discard =  144\n",
      "discard samples 0.7525250911712646\n",
      "n_samples_node =  1000\n",
      "generate_samples :  0.45221710205078125\n",
      "     prepare getting local values 0.001348257064819336\n",
      "     obtained local values 0.00477910041809082\n",
      "get_mc_stats 0.006671428680419922\n"
     ]
    },
    {
     "name": "stderr",
     "output_type": "stream",
     "text": [
      " 79%|███████▉  | 793/1000 [17:23<04:26,  1.29s/it, Energy=-0.0000009+0.0000000j ± 0.0000012 [σ²=0.0000000]]"
     ]
    },
    {
     "name": "stdout",
     "output_type": "stream",
     "text": [
      "--->> cal O and jac  0.04126119613647461\n",
      "compute_update  0.04453086853027344\n",
      "(0.00682678414645771+0j)\n",
      "n_discard =  144\n",
      "discard samples 0.8084332942962646\n",
      "n_samples_node =  1000\n",
      "generate_samples :  0.5131406784057617\n",
      "     prepare getting local values 0.0013246536254882812\n",
      "     obtained local values 0.004755496978759766\n",
      "get_mc_stats 0.006322383880615234\n"
     ]
    },
    {
     "name": "stderr",
     "output_type": "stream",
     "text": [
      " 79%|███████▉  | 794/1000 [17:24<04:30,  1.31s/it, Energy=-0.0000027+0.0000000j ± 0.0000015 [σ²=0.0000000]]"
     ]
    },
    {
     "name": "stdout",
     "output_type": "stream",
     "text": [
      "--->> cal O and jac  0.03625607490539551\n",
      "compute_update  0.03848528861999512\n",
      "(0.006826590637367031+0j)\n",
      "n_discard =  144\n",
      "discard samples 0.7555851936340332\n",
      "n_samples_node =  1000\n",
      "generate_samples :  0.4512917995452881\n",
      "     prepare getting local values 0.0013413429260253906\n",
      "     obtained local values 0.004897117614746094\n",
      "get_mc_stats 0.006520509719848633\n"
     ]
    },
    {
     "name": "stderr",
     "output_type": "stream",
     "text": [
      " 80%|███████▉  | 795/1000 [17:25<04:25,  1.29s/it, Energy=0.0000005+0.0000000j ± 0.0000014 [σ²=0.0000000]] "
     ]
    },
    {
     "name": "stdout",
     "output_type": "stream",
     "text": [
      "--->> cal O and jac  0.036275625228881836\n",
      "compute_update  0.03853797912597656\n",
      "(0.006826555450119643+0j)\n",
      "n_discard =  144\n",
      "discard samples 0.7876777648925781\n",
      "n_samples_node =  1000\n",
      "generate_samples :  0.45078420639038086\n",
      "     prepare getting local values 0.0014138221740722656\n",
      "     obtained local values 0.00480341911315918\n",
      "get_mc_stats 0.006223917007446289\n"
     ]
    },
    {
     "name": "stderr",
     "output_type": "stream",
     "text": [
      " 80%|███████▉  | 796/1000 [17:27<04:23,  1.29s/it, Energy=-0.0000008+0.0000000j ± 0.0000025 [σ²=0.0000000]]"
     ]
    },
    {
     "name": "stdout",
     "output_type": "stream",
     "text": [
      "--->> cal O and jac  0.0393064022064209\n",
      "compute_update  0.04312443733215332\n",
      "(0.006826868685056832+0j)\n",
      "n_discard =  144\n",
      "discard samples 0.7775132656097412\n",
      "n_samples_node =  1000\n",
      "generate_samples :  0.4983994960784912\n",
      "     prepare getting local values 0.0036776065826416016\n",
      "     obtained local values 0.008815526962280273\n",
      "get_mc_stats 0.012670278549194336\n"
     ]
    },
    {
     "name": "stderr",
     "output_type": "stream",
     "text": [
      " 80%|███████▉  | 797/1000 [17:28<04:24,  1.30s/it, Energy=-0.0000006+0.0000000j ± 0.0000019 [σ²=0.0000000]]"
     ]
    },
    {
     "name": "stdout",
     "output_type": "stream",
     "text": [
      "--->> cal O and jac  0.03937506675720215\n",
      "compute_update  0.04160642623901367\n",
      "(0.006826964030311977+0j)\n",
      "n_discard =  144\n",
      "discard samples 0.7691342830657959\n",
      "n_samples_node =  1000\n",
      "generate_samples :  0.44896745681762695\n",
      "     prepare getting local values 0.0022733211517333984\n",
      "     obtained local values 0.008383035659790039\n",
      "get_mc_stats 0.010861635208129883\n"
     ]
    },
    {
     "name": "stderr",
     "output_type": "stream",
     "text": [
      " 80%|███████▉  | 798/1000 [17:29<04:21,  1.29s/it, Energy=-0.0000012+0.0000000j ± 0.0000013 [σ²=0.0000000]]"
     ]
    },
    {
     "name": "stdout",
     "output_type": "stream",
     "text": [
      "--->> cal O and jac  0.0380253791809082\n",
      "compute_update  0.040233612060546875\n",
      "(0.006827113380794258+0j)\n",
      "n_discard =  144\n",
      "discard samples 0.8485813140869141\n",
      "n_samples_node =  1000\n",
      "generate_samples :  0.4508817195892334\n",
      "     prepare getting local values 0.0013599395751953125\n",
      "     obtained local values 0.004891157150268555\n",
      "get_mc_stats 0.006711006164550781\n"
     ]
    },
    {
     "name": "stderr",
     "output_type": "stream",
     "text": [
      " 80%|███████▉  | 799/1000 [17:31<04:23,  1.31s/it, Energy=-0.0000004+0.0000000j ± 0.0000016 [σ²=0.0000000]]"
     ]
    },
    {
     "name": "stdout",
     "output_type": "stream",
     "text": [
      "--->> cal O and jac  0.03597569465637207\n",
      "compute_update  0.03818345069885254\n",
      "(0.0068275111336230385+0j)\n",
      "n_discard =  144\n",
      "discard samples 0.8306529521942139\n",
      "n_samples_node =  1000\n",
      "generate_samples :  0.44762086868286133\n",
      "     prepare getting local values 0.001333475112915039\n",
      "     obtained local values 0.0048215389251708984\n",
      "get_mc_stats 0.00644993782043457\n"
     ]
    },
    {
     "name": "stderr",
     "output_type": "stream",
     "text": [
      " 80%|████████  | 800/1000 [17:32<04:23,  1.32s/it, Energy=-0.0000010+0.0000000j ± 0.0000015 [σ²=0.0000000]]"
     ]
    },
    {
     "name": "stdout",
     "output_type": "stream",
     "text": [
      "--->> cal O and jac  0.03707408905029297\n",
      "compute_update  0.04021716117858887\n",
      "(0.006827755205600471+0j)\n",
      "n_discard =  144\n",
      "discard samples 0.7673773765563965\n",
      "n_samples_node =  1000\n",
      "generate_samples :  0.451948881149292\n",
      "     prepare getting local values 0.001340627670288086\n",
      "     obtained local values 0.004813194274902344\n",
      "get_mc_stats 0.006676197052001953\n"
     ]
    },
    {
     "name": "stderr",
     "output_type": "stream",
     "text": [
      " 80%|████████  | 801/1000 [17:33<04:19,  1.30s/it, Energy=-0.0000004+0.0000000j ± 0.0000018 [σ²=0.0000000]]"
     ]
    },
    {
     "name": "stdout",
     "output_type": "stream",
     "text": [
      "--->> cal O and jac  0.04226493835449219\n",
      "compute_update  0.04448294639587402\n",
      "(0.006827758336208937+0j)\n",
      "n_discard =  144\n",
      "discard samples 0.7525694370269775\n",
      "n_samples_node =  1000\n",
      "generate_samples :  0.44475555419921875\n",
      "     prepare getting local values 0.0013425350189208984\n",
      "     obtained local values 0.004761219024658203\n",
      "get_mc_stats 0.006593227386474609\n"
     ]
    },
    {
     "name": "stderr",
     "output_type": "stream",
     "text": [
      " 80%|████████  | 802/1000 [17:35<04:14,  1.29s/it, Energy=0.0000010+0.0000000j ± 0.0000014 [σ²=0.0000000]] "
     ]
    },
    {
     "name": "stdout",
     "output_type": "stream",
     "text": [
      "--->> cal O and jac  0.04191756248474121\n",
      "compute_update  0.04413914680480957\n",
      "(0.006827991688324465+0j)\n",
      "n_discard =  144\n",
      "discard samples 0.7544844150543213\n",
      "n_samples_node =  1000\n",
      "generate_samples :  0.45059728622436523\n",
      "     prepare getting local values 0.0013730525970458984\n",
      "     obtained local values 0.004991292953491211\n",
      "get_mc_stats 0.006947517395019531\n"
     ]
    },
    {
     "name": "stderr",
     "output_type": "stream",
     "text": [
      " 80%|████████  | 803/1000 [17:36<04:11,  1.28s/it, Energy=0.0000009+0.0000000j ± 0.0000015 [σ²=0.0000000]]"
     ]
    },
    {
     "name": "stdout",
     "output_type": "stream",
     "text": [
      "--->> cal O and jac  0.03777313232421875\n",
      "compute_update  0.04183173179626465\n",
      "(0.006828034855802465+0j)\n",
      "n_discard =  144\n",
      "discard samples 0.7556142807006836\n",
      "n_samples_node =  1000\n",
      "generate_samples :  0.44733405113220215\n",
      "     prepare getting local values 0.0013287067413330078\n",
      "     obtained local values 0.004715919494628906\n",
      "get_mc_stats 0.006660938262939453\n"
     ]
    },
    {
     "name": "stderr",
     "output_type": "stream",
     "text": [
      " 80%|████████  | 804/1000 [17:37<04:08,  1.27s/it, Energy=0.0000004+0.0000000j ± 0.0000017 [σ²=0.0000000]]"
     ]
    },
    {
     "name": "stdout",
     "output_type": "stream",
     "text": [
      "--->> cal O and jac  0.03541088104248047\n",
      "compute_update  0.03757333755493164\n",
      "(0.0068279291883868495+0j)\n",
      "n_discard =  144\n",
      "discard samples 0.7545976638793945\n",
      "n_samples_node =  1000\n",
      "generate_samples :  0.44671058654785156\n",
      "     prepare getting local values 0.0014197826385498047\n",
      "     obtained local values 0.004854440689086914\n",
      "get_mc_stats 0.006809711456298828\n"
     ]
    },
    {
     "name": "stderr",
     "output_type": "stream",
     "text": [
      " 80%|████████  | 805/1000 [17:38<04:06,  1.26s/it, Energy=-0.0000027+0.0000000j ± 0.0000012 [σ²=0.0000000]]"
     ]
    },
    {
     "name": "stdout",
     "output_type": "stream",
     "text": [
      "--->> cal O and jac  0.0378568172454834\n",
      "compute_update  0.04004859924316406\n",
      "(0.006828030479137838+0j)\n",
      "n_discard =  144\n",
      "discard samples 0.7518513202667236\n",
      "n_samples_node =  1000\n",
      "generate_samples :  0.4467308521270752\n",
      "     prepare getting local values 0.0013201236724853516\n",
      "     obtained local values 0.004649162292480469\n",
      "get_mc_stats 0.006334781646728516\n"
     ]
    },
    {
     "name": "stderr",
     "output_type": "stream",
     "text": [
      " 81%|████████  | 806/1000 [17:40<04:03,  1.26s/it, Energy=-0.0000013+0.0000000j ± 0.0000015 [σ²=0.0000000]]"
     ]
    },
    {
     "name": "stdout",
     "output_type": "stream",
     "text": [
      "--->> cal O and jac  0.0364682674407959\n",
      "compute_update  0.038643598556518555\n",
      "(0.006828085084509273+0j)\n",
      "n_discard =  144\n",
      "discard samples 0.7509808540344238\n",
      "n_samples_node =  1000\n",
      "generate_samples :  0.47141456604003906\n",
      "     prepare getting local values 0.0013346672058105469\n",
      "     obtained local values 0.004765987396240234\n",
      "get_mc_stats 0.006589651107788086\n"
     ]
    },
    {
     "name": "stderr",
     "output_type": "stream",
     "text": [
      " 81%|████████  | 807/1000 [17:41<04:03,  1.26s/it, Energy=-0.0000001+0.0000000j ± 0.0000015 [σ²=0.0000000]]"
     ]
    },
    {
     "name": "stdout",
     "output_type": "stream",
     "text": [
      "--->> cal O and jac  0.036316871643066406\n",
      "compute_update  0.03860783576965332\n",
      "(0.0068279835399531795+0j)\n",
      "n_discard =  144\n",
      "discard samples 0.7835333347320557\n",
      "n_samples_node =  1000\n",
      "generate_samples :  0.6163110733032227\n",
      "     prepare getting local values 0.0013873577117919922\n",
      "     obtained local values 0.00488734245300293\n",
      "get_mc_stats 0.007038593292236328\n"
     ]
    },
    {
     "name": "stderr",
     "output_type": "stream",
     "text": [
      " 81%|████████  | 808/1000 [17:42<04:13,  1.32s/it, Energy=-0.0000037+0.0000000j ± 0.0000018 [σ²=0.0000000]]"
     ]
    },
    {
     "name": "stdout",
     "output_type": "stream",
     "text": [
      "--->> cal O and jac  0.04215812683105469\n",
      "compute_update  0.04592323303222656\n",
      "(0.006828076559690937+0j)\n",
      "n_discard =  144\n",
      "discard samples 0.758115291595459\n",
      "n_samples_node =  1000\n",
      "generate_samples :  0.4640038013458252\n",
      "     prepare getting local values 0.0016162395477294922\n",
      "     obtained local values 0.0050811767578125\n",
      "get_mc_stats 0.006877899169921875\n"
     ]
    },
    {
     "name": "stderr",
     "output_type": "stream",
     "text": [
      " 81%|████████  | 809/1000 [17:44<04:09,  1.31s/it, Energy=0.0000003+0.0000000j ± 0.0000020 [σ²=0.0000000]] "
     ]
    },
    {
     "name": "stdout",
     "output_type": "stream",
     "text": [
      "--->> cal O and jac  0.046556949615478516\n",
      "compute_update  0.05000138282775879\n",
      "(0.006828768941755615+0j)\n",
      "n_discard =  144\n",
      "discard samples 0.9069604873657227\n",
      "n_samples_node =  1000\n",
      "generate_samples :  0.5769169330596924\n",
      "     prepare getting local values 0.0022118091583251953\n",
      "     obtained local values 0.0056874752044677734\n",
      "get_mc_stats 0.008513689041137695\n"
     ]
    },
    {
     "name": "stderr",
     "output_type": "stream",
     "text": [
      " 81%|████████  | 810/1000 [17:45<04:21,  1.38s/it, Energy=-0.0000027+0.0000000j ± 0.0000021 [σ²=0.0000000]]"
     ]
    },
    {
     "name": "stdout",
     "output_type": "stream",
     "text": [
      "--->> cal O and jac  0.03654932975769043\n",
      "compute_update  0.03976941108703613\n",
      "(0.006828796884476828+0j)\n",
      "n_discard =  144\n",
      "discard samples 0.7714846134185791\n",
      "n_samples_node =  1000\n",
      "generate_samples :  0.4611191749572754\n",
      "     prepare getting local values 0.0025930404663085938\n",
      "     obtained local values 0.006271839141845703\n",
      "get_mc_stats 0.009030818939208984\n"
     ]
    },
    {
     "name": "stderr",
     "output_type": "stream",
     "text": [
      " 81%|████████  | 811/1000 [17:46<04:14,  1.35s/it, Energy=-0.0000006+0.0000000j ± 0.0000017 [σ²=0.0000000]]"
     ]
    },
    {
     "name": "stdout",
     "output_type": "stream",
     "text": [
      "--->> cal O and jac  0.0391392707824707\n",
      "compute_update  0.04163384437561035\n",
      "(0.006829140020992177+0j)\n",
      "n_discard =  144\n",
      "discard samples 1.0269708633422852\n",
      "n_samples_node =  1000\n",
      "generate_samples :  0.4663546085357666\n",
      "     prepare getting local values 0.0016243457794189453\n",
      "     obtained local values 0.005076408386230469\n",
      "get_mc_stats 0.006719112396240234\n"
     ]
    },
    {
     "name": "stderr",
     "output_type": "stream",
     "text": [
      " 81%|████████  | 812/1000 [17:48<04:24,  1.41s/it, Energy=0.0000006+0.0000000j ± 0.0000016 [σ²=0.0000000]] "
     ]
    },
    {
     "name": "stdout",
     "output_type": "stream",
     "text": [
      "--->> cal O and jac  0.03792309761047363\n",
      "compute_update  0.04021573066711426\n",
      "(0.006829084353469693+0j)\n",
      "n_discard =  144\n",
      "discard samples 0.8289079666137695\n",
      "n_samples_node =  1000\n",
      "generate_samples :  0.5380172729492188\n",
      "     prepare getting local values 0.002724885940551758\n",
      "     obtained local values 0.00998687744140625\n",
      "get_mc_stats 0.012845039367675781\n"
     ]
    },
    {
     "name": "stderr",
     "output_type": "stream",
     "text": [
      " 81%|████████▏ | 813/1000 [17:49<04:23,  1.41s/it, Energy=-0.0000023+0.0000000j ± 0.0000014 [σ²=0.0000000]]"
     ]
    },
    {
     "name": "stdout",
     "output_type": "stream",
     "text": [
      "--->> cal O and jac  0.03987288475036621\n",
      "compute_update  0.0421297550201416\n",
      "(0.006829265619891924+0j)\n",
      "n_discard =  144\n",
      "discard samples 0.8262264728546143\n",
      "n_samples_node =  1000\n",
      "generate_samples :  0.4762451648712158\n",
      "     prepare getting local values 0.003058195114135742\n",
      "     obtained local values 0.008489847183227539\n",
      "get_mc_stats 0.011641740798950195\n"
     ]
    },
    {
     "name": "stderr",
     "output_type": "stream",
     "text": [
      " 81%|████████▏ | 814/1000 [17:51<04:20,  1.40s/it, Energy=-0.0000004+0.0000000j ± 0.0000018 [σ²=0.0000000]]"
     ]
    },
    {
     "name": "stdout",
     "output_type": "stream",
     "text": [
      "--->> cal O and jac  0.04794716835021973\n",
      "compute_update  0.05163264274597168\n",
      "(0.006829302480682549+0j)\n",
      "n_discard =  144\n",
      "discard samples 0.8962175846099854\n",
      "n_samples_node =  1000\n",
      "generate_samples :  0.5776135921478271\n",
      "     prepare getting local values 0.0018019676208496094\n",
      "     obtained local values 0.005238533020019531\n",
      "get_mc_stats 0.007659196853637695\n"
     ]
    },
    {
     "name": "stderr",
     "output_type": "stream",
     "text": [
      " 82%|████████▏ | 815/1000 [17:52<04:25,  1.43s/it, Energy=0.0000005+0.0000000j ± 0.0000017 [σ²=0.0000000]] "
     ]
    },
    {
     "name": "stdout",
     "output_type": "stream",
     "text": [
      "--->> cal O and jac  0.033995628356933594\n",
      "compute_update  0.03618574142456055\n",
      "(0.0068294314312659+0j)\n",
      "n_discard =  144\n",
      "discard samples 0.7735373973846436\n",
      "n_samples_node =  1000\n",
      "generate_samples :  0.4961116313934326\n",
      "     prepare getting local values 0.002262115478515625\n",
      "     obtained local values 0.006778717041015625\n",
      "get_mc_stats 0.009553670883178711\n"
     ]
    },
    {
     "name": "stderr",
     "output_type": "stream",
     "text": [
      " 82%|████████▏ | 816/1000 [17:54<04:17,  1.40s/it, Energy=-0.0000015+0.0000000j ± 0.0000016 [σ²=0.0000000]]"
     ]
    },
    {
     "name": "stdout",
     "output_type": "stream",
     "text": [
      "--->> cal O and jac  0.03920888900756836\n",
      "compute_update  0.042684316635131836\n",
      "(0.006829393338865435+0j)\n",
      "n_discard =  144\n",
      "discard samples 0.8551640510559082\n",
      "n_samples_node =  1000\n",
      "generate_samples :  0.491607666015625\n",
      "     prepare getting local values 0.0013995170593261719\n",
      "     obtained local values 0.004907369613647461\n",
      "get_mc_stats 0.00652003288269043\n"
     ]
    },
    {
     "name": "stderr",
     "output_type": "stream",
     "text": [
      " 82%|████████▏ | 817/1000 [17:55<04:16,  1.40s/it, Energy=-0.0000024+0.0000000j ± 0.0000016 [σ²=0.0000000]]"
     ]
    },
    {
     "name": "stdout",
     "output_type": "stream",
     "text": [
      "--->> cal O and jac  0.037672996520996094\n",
      "compute_update  0.04016590118408203\n",
      "(0.006829334758572309+0j)\n",
      "n_discard =  144\n",
      "discard samples 0.7720341682434082\n",
      "n_samples_node =  1000\n",
      "generate_samples :  0.47261953353881836\n",
      "     prepare getting local values 0.0027112960815429688\n",
      "     obtained local values 0.006414890289306641\n",
      "get_mc_stats 0.00913381576538086\n"
     ]
    },
    {
     "name": "stderr",
     "output_type": "stream",
     "text": [
      " 82%|████████▏ | 818/1000 [17:56<04:09,  1.37s/it, Energy=-0.0000025+0.0000000j ± 0.0000017 [σ²=0.0000000]]"
     ]
    },
    {
     "name": "stdout",
     "output_type": "stream",
     "text": [
      "--->> cal O and jac  0.04078483581542969\n",
      "compute_update  0.042984724044799805\n",
      "(0.0068294074899290175+0j)\n",
      "n_discard =  144\n",
      "discard samples 1.0431320667266846\n",
      "n_samples_node =  1000\n",
      "generate_samples :  0.46522951126098633\n",
      "     prepare getting local values 0.0013697147369384766\n",
      "     obtained local values 0.004865884780883789\n",
      "get_mc_stats 0.006335020065307617\n"
     ]
    },
    {
     "name": "stderr",
     "output_type": "stream",
     "text": [
      " 82%|████████▏ | 819/1000 [17:58<04:18,  1.43s/it, Energy=-0.0000010+0.0000000j ± 0.0000015 [σ²=0.0000000]]"
     ]
    },
    {
     "name": "stdout",
     "output_type": "stream",
     "text": [
      "--->> cal O and jac  0.04612874984741211\n",
      "compute_update  0.048583269119262695\n",
      "(0.0068291811135977355+0j)\n",
      "n_discard =  144\n",
      "discard samples 0.79099440574646\n",
      "n_samples_node =  1000\n",
      "generate_samples :  0.4582855701446533\n",
      "     prepare getting local values 0.0013289451599121094\n",
      "     obtained local values 0.004760026931762695\n",
      "get_mc_stats 0.006567478179931641\n"
     ]
    },
    {
     "name": "stderr",
     "output_type": "stream",
     "text": [
      " 82%|████████▏ | 820/1000 [17:59<04:10,  1.39s/it, Energy=-0.0000004+0.0000000j ± 0.0000014 [σ²=0.0000000]]"
     ]
    },
    {
     "name": "stdout",
     "output_type": "stream",
     "text": [
      "--->> cal O and jac  0.04079461097717285\n",
      "compute_update  0.04337596893310547\n",
      "(0.0068295167170461845+0j)\n",
      "n_discard =  144\n",
      "discard samples 0.7970564365386963\n",
      "n_samples_node =  1000\n",
      "generate_samples :  0.6132416725158691\n",
      "     prepare getting local values 0.0023255348205566406\n",
      "     obtained local values 0.007973432540893555\n",
      "get_mc_stats 0.011090278625488281\n"
     ]
    },
    {
     "name": "stderr",
     "output_type": "stream",
     "text": [
      " 82%|████████▏ | 821/1000 [18:01<04:12,  1.41s/it, Energy=0.0000010+0.0000000j ± 0.0000012 [σ²=0.0000000]] "
     ]
    },
    {
     "name": "stdout",
     "output_type": "stream",
     "text": [
      "--->> cal O and jac  0.03862571716308594\n",
      "compute_update  0.041194915771484375\n",
      "(0.006829768252050808+0j)\n",
      "n_discard =  144\n",
      "discard samples 0.8280971050262451\n",
      "n_samples_node =  1000\n",
      "generate_samples :  0.6533432006835938\n",
      "     prepare getting local values 0.002524852752685547\n",
      "     obtained local values 0.008561134338378906\n",
      "get_mc_stats 0.011593103408813477\n"
     ]
    },
    {
     "name": "stderr",
     "output_type": "stream",
     "text": [
      " 82%|████████▏ | 822/1000 [18:02<04:18,  1.45s/it, Energy=-0.0000006+0.0000000j ± 0.0000017 [σ²=0.0000000]]"
     ]
    },
    {
     "name": "stdout",
     "output_type": "stream",
     "text": [
      "--->> cal O and jac  0.052019357681274414\n",
      "compute_update  0.055200815200805664\n",
      "(0.0068297723842376265+0j)\n",
      "n_discard =  144\n",
      "discard samples 0.871973991394043\n",
      "n_samples_node =  1000\n",
      "generate_samples :  0.46137022972106934\n",
      "     prepare getting local values 0.002354145050048828\n",
      "     obtained local values 0.008501052856445312\n",
      "get_mc_stats 0.011148452758789062\n"
     ]
    },
    {
     "name": "stderr",
     "output_type": "stream",
     "text": [
      " 82%|████████▏ | 823/1000 [18:04<04:13,  1.43s/it, Energy=-0.0000031+0.0000000j ± 0.0000014 [σ²=0.0000000]]"
     ]
    },
    {
     "name": "stdout",
     "output_type": "stream",
     "text": [
      "--->> cal O and jac  0.03897690773010254\n",
      "compute_update  0.04193449020385742\n",
      "(0.0068295953321737615+0j)\n",
      "n_discard =  144\n",
      "discard samples 0.7769885063171387\n",
      "n_samples_node =  1000\n",
      "generate_samples :  0.46141886711120605\n",
      "     prepare getting local values 0.0013136863708496094\n",
      "     obtained local values 0.004647254943847656\n",
      "get_mc_stats 0.006036996841430664\n"
     ]
    },
    {
     "name": "stderr",
     "output_type": "stream",
     "text": [
      " 82%|████████▏ | 824/1000 [18:05<04:04,  1.39s/it, Energy=0.0000000+0.0000000j ± 0.0000014 [σ²=0.0000000]] "
     ]
    },
    {
     "name": "stdout",
     "output_type": "stream",
     "text": [
      "--->> cal O and jac  0.04159212112426758\n",
      "compute_update  0.04396629333496094\n",
      "(0.006829513511173993+0j)\n",
      "n_discard =  144\n",
      "discard samples 0.9472067356109619\n",
      "n_samples_node =  1000\n",
      "generate_samples :  0.640047550201416\n",
      "     prepare getting local values 0.003041505813598633\n",
      "     obtained local values 0.010139942169189453\n",
      "get_mc_stats 0.012761354446411133\n"
     ]
    },
    {
     "name": "stderr",
     "output_type": "stream",
     "text": [
      " 82%|████████▎ | 825/1000 [18:06<04:16,  1.47s/it, Energy=-0.0000006+0.0000000j ± 0.0000015 [σ²=0.0000000]]"
     ]
    },
    {
     "name": "stdout",
     "output_type": "stream",
     "text": [
      "--->> cal O and jac  0.03932666778564453\n",
      "compute_update  0.04167938232421875\n",
      "(0.006829742936773585+0j)\n",
      "n_discard =  144\n",
      "discard samples 1.0702106952667236\n",
      "n_samples_node =  1000\n",
      "generate_samples :  0.6478085517883301\n",
      "     prepare getting local values 0.002341747283935547\n",
      "     obtained local values 0.008228540420532227\n",
      "get_mc_stats 0.010992050170898438\n"
     ]
    },
    {
     "name": "stderr",
     "output_type": "stream",
     "text": [
      " 83%|████████▎ | 826/1000 [18:08<04:31,  1.56s/it, Energy=-0.0000008+0.0000000j ± 0.0000017 [σ²=0.0000000]]"
     ]
    },
    {
     "name": "stdout",
     "output_type": "stream",
     "text": [
      "--->> cal O and jac  0.041782379150390625\n",
      "compute_update  0.04401373863220215\n",
      "(0.006830086598927042+0j)\n",
      "n_discard =  144\n",
      "discard samples 0.7534327507019043\n",
      "n_samples_node =  1000\n",
      "generate_samples :  0.45592188835144043\n",
      "     prepare getting local values 0.0012810230255126953\n",
      "     obtained local values 0.004675865173339844\n",
      "get_mc_stats 0.0067517757415771484\n"
     ]
    },
    {
     "name": "stderr",
     "output_type": "stream",
     "text": [
      " 83%|████████▎ | 827/1000 [18:09<04:14,  1.47s/it, Energy=-0.0000025+0.0000000j ± 0.0000013 [σ²=0.0000000]]"
     ]
    },
    {
     "name": "stdout",
     "output_type": "stream",
     "text": [
      "--->> cal O and jac  0.03775978088378906\n",
      "compute_update  0.04070854187011719\n",
      "(0.006830184601108947+0j)\n",
      "n_discard =  144\n",
      "discard samples 0.7867767810821533\n",
      "n_samples_node =  1000\n",
      "generate_samples :  0.5315120220184326\n",
      "     prepare getting local values 0.0025396347045898438\n",
      "     obtained local values 0.006016731262207031\n",
      "get_mc_stats 0.008731603622436523\n"
     ]
    },
    {
     "name": "stderr",
     "output_type": "stream",
     "text": [
      " 83%|████████▎ | 828/1000 [18:11<04:07,  1.44s/it, Energy=-0.0000004+0.0000000j ± 0.0000018 [σ²=0.0000000]]"
     ]
    },
    {
     "name": "stdout",
     "output_type": "stream",
     "text": [
      "--->> cal O and jac  0.04328298568725586\n",
      "compute_update  0.045731544494628906\n",
      "(0.006830152157045878+0j)\n",
      "n_discard =  144\n",
      "discard samples 0.7722184658050537\n",
      "n_samples_node =  1000\n",
      "generate_samples :  0.4694654941558838\n",
      "     prepare getting local values 0.0013194084167480469\n",
      "     obtained local values 0.004706621170043945\n",
      "get_mc_stats 0.006362199783325195\n"
     ]
    },
    {
     "name": "stderr",
     "output_type": "stream",
     "text": [
      " 83%|████████▎ | 829/1000 [18:12<03:58,  1.40s/it, Energy=-0.0000024+0.0000000j ± 0.0000016 [σ²=0.0000000]]"
     ]
    },
    {
     "name": "stdout",
     "output_type": "stream",
     "text": [
      "--->> cal O and jac  0.036865234375\n",
      "compute_update  0.03914046287536621\n",
      "(0.006830594387606656+0j)\n",
      "n_discard =  144\n",
      "discard samples 0.916651725769043\n",
      "n_samples_node =  1000\n",
      "generate_samples :  0.631610631942749\n",
      "     prepare getting local values 0.002025127410888672\n",
      "     obtained local values 0.0075876712799072266\n",
      "get_mc_stats 0.010306358337402344\n"
     ]
    },
    {
     "name": "stderr",
     "output_type": "stream",
     "text": [
      " 83%|████████▎ | 830/1000 [18:14<04:07,  1.46s/it, Energy=-0.0000013+0.0000000j ± 0.0000021 [σ²=0.0000000]]"
     ]
    },
    {
     "name": "stdout",
     "output_type": "stream",
     "text": [
      "--->> cal O and jac  0.03846168518066406\n",
      "compute_update  0.04090476036071777\n",
      "(0.006831018001029183+0j)\n",
      "n_discard =  144\n",
      "discard samples 0.7740142345428467\n",
      "n_samples_node =  1000\n",
      "generate_samples :  0.45757460594177246\n",
      "     prepare getting local values 0.0013704299926757812\n",
      "     obtained local values 0.004725217819213867\n",
      "get_mc_stats 0.006519794464111328\n"
     ]
    },
    {
     "name": "stderr",
     "output_type": "stream",
     "text": [
      " 83%|████████▎ | 831/1000 [18:15<03:57,  1.40s/it, Energy=0.0000009+0.0000000j ± 0.0000012 [σ²=0.0000000]] "
     ]
    },
    {
     "name": "stdout",
     "output_type": "stream",
     "text": [
      "--->> cal O and jac  0.03803205490112305\n",
      "compute_update  0.041544198989868164\n",
      "(0.006830982079807888+0j)\n",
      "n_discard =  144\n",
      "discard samples 0.7741684913635254\n",
      "n_samples_node =  1000\n",
      "generate_samples :  0.6206800937652588\n",
      "     prepare getting local values 0.0017006397247314453\n",
      "     obtained local values 0.004973173141479492\n",
      "get_mc_stats 0.00850534439086914\n"
     ]
    },
    {
     "name": "stderr",
     "output_type": "stream",
     "text": [
      " 83%|████████▎ | 832/1000 [18:16<03:58,  1.42s/it, Energy=-0.0000003+0.0000000j ± 0.0000016 [σ²=0.0000000]]"
     ]
    },
    {
     "name": "stdout",
     "output_type": "stream",
     "text": [
      "--->> cal O and jac  0.03965497016906738\n",
      "compute_update  0.04188227653503418\n",
      "(0.006830845731685519+0j)\n",
      "n_discard =  144\n",
      "discard samples 0.77376389503479\n",
      "n_samples_node =  1000\n",
      "generate_samples :  0.538447380065918\n",
      "     prepare getting local values 0.0024182796478271484\n",
      "     obtained local values 0.009122371673583984\n",
      "get_mc_stats 0.012269258499145508\n"
     ]
    },
    {
     "name": "stderr",
     "output_type": "stream",
     "text": [
      " 83%|████████▎ | 833/1000 [18:18<03:54,  1.40s/it, Energy=0.0000001+0.0000000j ± 0.0000014 [σ²=0.0000000]] "
     ]
    },
    {
     "name": "stdout",
     "output_type": "stream",
     "text": [
      "--->> cal O and jac  0.038995981216430664\n",
      "compute_update  0.04158520698547363\n",
      "(0.006830682460823019+0j)\n",
      "n_discard =  144\n",
      "discard samples 0.849722146987915\n",
      "n_samples_node =  1000\n",
      "generate_samples :  0.499056339263916\n",
      "     prepare getting local values 0.0013492107391357422\n",
      "     obtained local values 0.004719734191894531\n",
      "get_mc_stats 0.006494760513305664\n"
     ]
    },
    {
     "name": "stderr",
     "output_type": "stream",
     "text": [
      " 83%|████████▎ | 834/1000 [18:19<03:52,  1.40s/it, Energy=0.0000003+0.0000000j ± 0.0000013 [σ²=0.0000000]]"
     ]
    },
    {
     "name": "stdout",
     "output_type": "stream",
     "text": [
      "--->> cal O and jac  0.03928780555725098\n",
      "compute_update  0.04154777526855469\n",
      "(0.006830745745150269+0j)\n",
      "n_discard =  144\n",
      "discard samples 0.9245686531066895\n",
      "n_samples_node =  1000\n",
      "generate_samples :  0.45720553398132324\n",
      "     prepare getting local values 0.0024161338806152344\n",
      "     obtained local values 0.006196022033691406\n",
      "get_mc_stats 0.008609533309936523\n"
     ]
    },
    {
     "name": "stderr",
     "output_type": "stream",
     "text": [
      " 84%|████████▎ | 835/1000 [18:21<03:52,  1.41s/it, Energy=-0.0000006+0.0000000j ± 0.0000014 [σ²=0.0000000]]"
     ]
    },
    {
     "name": "stdout",
     "output_type": "stream",
     "text": [
      "--->> cal O and jac  0.03998994827270508\n",
      "compute_update  0.04418540000915527\n",
      "(0.006830382066055876+0j)\n",
      "n_discard =  144\n",
      "discard samples 0.7875156402587891\n",
      "n_samples_node =  1000\n",
      "generate_samples :  0.472703218460083\n",
      "     prepare getting local values 0.0013861656188964844\n",
      "     obtained local values 0.004936933517456055\n",
      "get_mc_stats 0.006738185882568359\n"
     ]
    },
    {
     "name": "stderr",
     "output_type": "stream",
     "text": [
      " 84%|████████▎ | 836/1000 [18:22<03:46,  1.38s/it, Energy=0.0000019+0.0000000j ± 0.0000017 [σ²=0.0000000]] "
     ]
    },
    {
     "name": "stdout",
     "output_type": "stream",
     "text": [
      "--->> cal O and jac  0.041388750076293945\n",
      "compute_update  0.04374980926513672\n",
      "(0.006830464109050828+0j)\n",
      "n_discard =  144\n",
      "discard samples 0.8239963054656982\n",
      "n_samples_node =  1000\n",
      "generate_samples :  0.5902495384216309\n",
      "     prepare getting local values 0.00246429443359375\n",
      "     obtained local values 0.006403684616088867\n",
      "get_mc_stats 0.009821653366088867\n"
     ]
    },
    {
     "name": "stderr",
     "output_type": "stream",
     "text": [
      " 84%|████████▎ | 837/1000 [18:23<03:50,  1.41s/it, Energy=0.0000011+0.0000000j ± 0.0000013 [σ²=0.0000000]]"
     ]
    },
    {
     "name": "stdout",
     "output_type": "stream",
     "text": [
      "--->> cal O and jac  0.05281233787536621\n",
      "compute_update  0.05591630935668945\n",
      "(0.006830543908279461+0j)\n",
      "n_discard =  144\n",
      "discard samples 1.0939154624938965\n",
      "n_samples_node =  1000\n",
      "generate_samples :  0.6720607280731201\n",
      "     prepare getting local values 0.0022754669189453125\n",
      "     obtained local values 0.0058405399322509766\n",
      "get_mc_stats 0.008382797241210938\n"
     ]
    },
    {
     "name": "stderr",
     "output_type": "stream",
     "text": [
      " 84%|████████▍ | 838/1000 [18:25<04:08,  1.54s/it, Energy=-0.0000002+0.0000000j ± 0.0000017 [σ²=0.0000000]]"
     ]
    },
    {
     "name": "stdout",
     "output_type": "stream",
     "text": [
      "--->> cal O and jac  0.04587817192077637\n",
      "compute_update  0.048410654067993164\n",
      "(0.006830827500963926+0j)\n",
      "n_discard =  144\n",
      "discard samples 1.0861196517944336\n",
      "n_samples_node =  1000\n",
      "generate_samples :  0.5407087802886963\n",
      "     prepare getting local values 0.00146484375\n",
      "     obtained local values 0.004909515380859375\n",
      "get_mc_stats 0.0070912837982177734\n"
     ]
    },
    {
     "name": "stderr",
     "output_type": "stream",
     "text": [
      " 84%|████████▍ | 839/1000 [18:27<04:14,  1.58s/it, Energy=-0.0000023+0.0000000j ± 0.0000012 [σ²=0.0000000]]"
     ]
    },
    {
     "name": "stdout",
     "output_type": "stream",
     "text": [
      "--->> cal O and jac  0.04144620895385742\n",
      "compute_update  0.04369068145751953\n",
      "(0.006830828981058269+0j)\n",
      "n_discard =  144\n",
      "discard samples 1.06984281539917\n",
      "n_samples_node =  1000\n",
      "generate_samples :  0.5250856876373291\n",
      "     prepare getting local values 0.001361846923828125\n",
      "     obtained local values 0.004912376403808594\n",
      "get_mc_stats 0.006776094436645508\n"
     ]
    },
    {
     "name": "stderr",
     "output_type": "stream",
     "text": [
      " 84%|████████▍ | 840/1000 [18:29<04:15,  1.60s/it, Energy=0.0000023+0.0000000j ± 0.0000016 [σ²=0.0000000]] "
     ]
    },
    {
     "name": "stdout",
     "output_type": "stream",
     "text": [
      "--->> cal O and jac  0.039526939392089844\n",
      "compute_update  0.04320383071899414\n",
      "(0.006831170785597207+0j)\n",
      "n_discard =  144\n",
      "discard samples 0.8089098930358887\n",
      "n_samples_node =  1000\n",
      "generate_samples :  0.4510023593902588\n",
      "     prepare getting local values 0.0013794898986816406\n",
      "     obtained local values 0.0049130916595458984\n",
      "get_mc_stats 0.006910085678100586\n"
     ]
    },
    {
     "name": "stderr",
     "output_type": "stream",
     "text": [
      " 84%|████████▍ | 841/1000 [18:30<04:00,  1.51s/it, Energy=-0.0000027+0.0000000j ± 0.0000015 [σ²=0.0000000]]"
     ]
    },
    {
     "name": "stdout",
     "output_type": "stream",
     "text": [
      "--->> cal O and jac  0.03454184532165527\n",
      "compute_update  0.03695273399353027\n",
      "(0.006831058484459708+0j)\n",
      "n_discard =  144\n",
      "discard samples 0.7697558403015137\n",
      "n_samples_node =  1000\n",
      "generate_samples :  0.519085168838501\n",
      "     prepare getting local values 0.0013468265533447266\n",
      "     obtained local values 0.0048406124114990234\n",
      "get_mc_stats 0.006509304046630859\n"
     ]
    },
    {
     "name": "stderr",
     "output_type": "stream",
     "text": [
      " 84%|████████▍ | 842/1000 [18:31<03:50,  1.46s/it, Energy=0.0000011+0.0000000j ± 0.0000017 [σ²=0.0000000]] "
     ]
    },
    {
     "name": "stdout",
     "output_type": "stream",
     "text": [
      "--->> cal O and jac  0.037313222885131836\n",
      "compute_update  0.03954172134399414\n",
      "(0.00683144283279811+0j)\n",
      "n_discard =  144\n",
      "discard samples 0.9734923839569092\n",
      "n_samples_node =  1000\n",
      "generate_samples :  0.45540452003479004\n",
      "     prepare getting local values 0.0013666152954101562\n",
      "     obtained local values 0.004892587661743164\n",
      "get_mc_stats 0.006794452667236328\n"
     ]
    },
    {
     "name": "stderr",
     "output_type": "stream",
     "text": [
      " 84%|████████▍ | 843/1000 [18:33<03:49,  1.46s/it, Energy=-0.0000028+0.0000000j ± 0.0000015 [σ²=0.0000000]]"
     ]
    },
    {
     "name": "stdout",
     "output_type": "stream",
     "text": [
      "--->> cal O and jac  0.03630852699279785\n",
      "compute_update  0.0396578311920166\n",
      "(0.00683143155446337+0j)\n",
      "n_discard =  144\n",
      "discard samples 0.7523927688598633\n",
      "n_samples_node =  1000\n",
      "generate_samples :  0.4571974277496338\n",
      "     prepare getting local values 0.001323699951171875\n",
      "     obtained local values 0.0047528743743896484\n",
      "get_mc_stats 0.006500959396362305\n"
     ]
    },
    {
     "name": "stderr",
     "output_type": "stream",
     "text": [
      " 84%|████████▍ | 844/1000 [18:34<03:38,  1.40s/it, Energy=0.0000020+0.0000000j ± 0.0000019 [σ²=0.0000000]] "
     ]
    },
    {
     "name": "stdout",
     "output_type": "stream",
     "text": [
      "--->> cal O and jac  0.03696727752685547\n",
      "compute_update  0.03912854194641113\n",
      "(0.006831427360935634+0j)\n",
      "n_discard =  144\n",
      "discard samples 0.757448673248291\n",
      "n_samples_node =  1000\n",
      "generate_samples :  0.45183706283569336\n",
      "     prepare getting local values 0.0014209747314453125\n",
      "     obtained local values 0.005031108856201172\n",
      "get_mc_stats 0.006922245025634766\n"
     ]
    },
    {
     "name": "stderr",
     "output_type": "stream",
     "text": [
      " 84%|████████▍ | 845/1000 [18:35<03:30,  1.36s/it, Energy=0.0000027+0.0000000j ± 0.0000019 [σ²=0.0000000]]"
     ]
    },
    {
     "name": "stdout",
     "output_type": "stream",
     "text": [
      "--->> cal O and jac  0.03780841827392578\n",
      "compute_update  0.040129661560058594\n",
      "(0.0068316290973241866+0j)\n",
      "n_discard =  144\n",
      "discard samples 0.7759997844696045\n",
      "n_samples_node =  1000\n",
      "generate_samples :  0.459897518157959\n",
      "     prepare getting local values 0.0013248920440673828\n",
      "     obtained local values 0.00482630729675293\n",
      "get_mc_stats 0.006607770919799805\n"
     ]
    },
    {
     "name": "stderr",
     "output_type": "stream",
     "text": [
      " 85%|████████▍ | 846/1000 [18:37<03:26,  1.34s/it, Energy=-0.0000006+0.0000000j ± 0.0000013 [σ²=0.0000000]]"
     ]
    },
    {
     "name": "stdout",
     "output_type": "stream",
     "text": [
      "--->> cal O and jac  0.04123520851135254\n",
      "compute_update  0.043623924255371094\n",
      "(0.006831601798956799+0j)\n",
      "n_discard =  144\n",
      "discard samples 0.7758057117462158\n",
      "n_samples_node =  1000\n",
      "generate_samples :  0.44955015182495117\n",
      "     prepare getting local values 0.0014424324035644531\n",
      "     obtained local values 0.0049285888671875\n",
      "get_mc_stats 0.006871938705444336\n"
     ]
    },
    {
     "name": "stderr",
     "output_type": "stream",
     "text": [
      " 85%|████████▍ | 847/1000 [18:38<03:21,  1.32s/it, Energy=0.0000006+0.0000000j ± 0.0000013 [σ²=0.0000000]] "
     ]
    },
    {
     "name": "stdout",
     "output_type": "stream",
     "text": [
      "--->> cal O and jac  0.03822898864746094\n",
      "compute_update  0.040364742279052734\n",
      "(0.006831687207318462+0j)\n",
      "n_discard =  144\n",
      "discard samples 0.7786543369293213\n",
      "n_samples_node =  1000\n",
      "generate_samples :  0.4465787410736084\n",
      "     prepare getting local values 0.0014460086822509766\n",
      "     obtained local values 0.004807472229003906\n",
      "get_mc_stats 0.00661778450012207\n"
     ]
    },
    {
     "name": "stderr",
     "output_type": "stream",
     "text": [
      " 85%|████████▍ | 848/1000 [18:39<03:18,  1.31s/it, Energy=-0.0000010+0.0000000j ± 0.0000017 [σ²=0.0000000]]"
     ]
    },
    {
     "name": "stdout",
     "output_type": "stream",
     "text": [
      "--->> cal O and jac  0.03998255729675293\n",
      "compute_update  0.04320263862609863\n",
      "(0.0068315518963779935+0j)\n",
      "n_discard =  144\n",
      "discard samples 0.7556264400482178\n",
      "n_samples_node =  1000\n",
      "generate_samples :  0.45357275009155273\n",
      "     prepare getting local values 0.0022077560424804688\n",
      "     obtained local values 0.0072901248931884766\n",
      "get_mc_stats 0.009334564208984375\n"
     ]
    },
    {
     "name": "stderr",
     "output_type": "stream",
     "text": [
      " 85%|████████▍ | 849/1000 [18:40<03:15,  1.29s/it, Energy=-0.0000013+0.0000000j ± 0.0000017 [σ²=0.0000000]]"
     ]
    },
    {
     "name": "stdout",
     "output_type": "stream",
     "text": [
      "--->> cal O and jac  0.03676009178161621\n",
      "compute_update  0.0389862060546875\n",
      "(0.006831809406389315+0j)\n",
      "n_discard =  144\n",
      "discard samples 0.7577395439147949\n",
      "n_samples_node =  1000\n",
      "generate_samples :  0.45772409439086914\n",
      "     prepare getting local values 0.0015108585357666016\n",
      "     obtained local values 0.006541728973388672\n",
      "get_mc_stats 0.008265018463134766\n"
     ]
    },
    {
     "name": "stderr",
     "output_type": "stream",
     "text": [
      " 85%|████████▌ | 850/1000 [18:42<03:12,  1.28s/it, Energy=-0.0000009+0.0000000j ± 0.0000018 [σ²=0.0000000]]"
     ]
    },
    {
     "name": "stdout",
     "output_type": "stream",
     "text": [
      "--->> cal O and jac  0.03749895095825195\n",
      "compute_update  0.0398106575012207\n",
      "(0.006832126824008175+0j)\n",
      "n_discard =  144\n",
      "discard samples 0.7575740814208984\n",
      "n_samples_node =  1000\n",
      "generate_samples :  0.4461958408355713\n",
      "     prepare getting local values 0.0013785362243652344\n",
      "     obtained local values 0.004858970642089844\n",
      "get_mc_stats 0.006825923919677734\n"
     ]
    },
    {
     "name": "stderr",
     "output_type": "stream",
     "text": [
      " 85%|████████▌ | 851/1000 [18:43<03:09,  1.27s/it, Energy=0.0000008+0.0000000j ± 0.0000017 [σ²=0.0000000]] "
     ]
    },
    {
     "name": "stdout",
     "output_type": "stream",
     "text": [
      "--->> cal O and jac  0.038419246673583984\n",
      "compute_update  0.040700435638427734\n",
      "(0.0068319038794821575+0j)\n",
      "n_discard =  144\n",
      "discard samples 0.7580146789550781\n",
      "n_samples_node =  1000\n",
      "generate_samples :  0.4635961055755615\n",
      "     prepare getting local values 0.002652883529663086\n",
      "     obtained local values 0.00853276252746582\n",
      "get_mc_stats 0.0113525390625\n"
     ]
    },
    {
     "name": "stderr",
     "output_type": "stream",
     "text": [
      " 85%|████████▌ | 852/1000 [18:44<03:08,  1.27s/it, Energy=-0.0000018+0.0000000j ± 0.0000016 [σ²=0.0000000]]"
     ]
    },
    {
     "name": "stdout",
     "output_type": "stream",
     "text": [
      "--->> cal O and jac  0.036489248275756836\n",
      "compute_update  0.03956151008605957\n",
      "(0.0068323188339099224+0j)\n",
      "n_discard =  144\n",
      "discard samples 0.7519357204437256\n",
      "n_samples_node =  1000\n",
      "generate_samples :  0.45059800148010254\n",
      "     prepare getting local values 0.002195596694946289\n",
      "     obtained local values 0.008404016494750977\n",
      "get_mc_stats 0.010712146759033203\n"
     ]
    },
    {
     "name": "stderr",
     "output_type": "stream",
     "text": [
      " 85%|████████▌ | 853/1000 [18:45<03:06,  1.27s/it, Energy=-0.0000006+0.0000000j ± 0.0000014 [σ²=0.0000000]]"
     ]
    },
    {
     "name": "stdout",
     "output_type": "stream",
     "text": [
      "--->> cal O and jac  0.0391688346862793\n",
      "compute_update  0.04299640655517578\n",
      "(0.006832462337926989+0j)\n",
      "n_discard =  144\n",
      "discard samples 0.7526888847351074\n",
      "n_samples_node =  1000\n",
      "generate_samples :  0.45510077476501465\n",
      "     prepare getting local values 0.0013513565063476562\n",
      "     obtained local values 0.004927158355712891\n",
      "get_mc_stats 0.006682157516479492\n"
     ]
    },
    {
     "name": "stderr",
     "output_type": "stream",
     "text": [
      " 85%|████████▌ | 854/1000 [18:47<03:04,  1.27s/it, Energy=-0.0000004+0.0000000j ± 0.0000014 [σ²=0.0000000]]"
     ]
    },
    {
     "name": "stdout",
     "output_type": "stream",
     "text": [
      "--->> cal O and jac  0.037221431732177734\n",
      "compute_update  0.03956270217895508\n",
      "(0.00683265492670083+0j)\n",
      "n_discard =  144\n",
      "discard samples 0.7542259693145752\n",
      "n_samples_node =  1000\n",
      "generate_samples :  0.4728734493255615\n",
      "     prepare getting local values 0.0027201175689697266\n",
      "     obtained local values 0.00761866569519043\n",
      "get_mc_stats 0.010552167892456055\n"
     ]
    },
    {
     "name": "stderr",
     "output_type": "stream",
     "text": [
      " 86%|████████▌ | 855/1000 [18:48<03:04,  1.27s/it, Energy=0.0000011+0.0000000j ± 0.0000017 [σ²=0.0000000]] "
     ]
    },
    {
     "name": "stdout",
     "output_type": "stream",
     "text": [
      "--->> cal O and jac  0.03851795196533203\n",
      "compute_update  0.04102778434753418\n",
      "(0.006832513706087064+0j)\n",
      "n_discard =  144\n",
      "discard samples 0.7540056705474854\n",
      "n_samples_node =  1000\n",
      "generate_samples :  0.44872212409973145\n",
      "     prepare getting local values 0.002687215805053711\n",
      "     obtained local values 0.009766578674316406\n",
      "get_mc_stats 0.012617111206054688\n"
     ]
    },
    {
     "name": "stderr",
     "output_type": "stream",
     "text": [
      " 86%|████████▌ | 856/1000 [18:49<03:02,  1.27s/it, Energy=0.0000012+0.0000000j ± 0.0000016 [σ²=0.0000000]]"
     ]
    },
    {
     "name": "stdout",
     "output_type": "stream",
     "text": [
      "--->> cal O and jac  0.038297176361083984\n",
      "compute_update  0.042305707931518555\n",
      "(0.006832182107433707+0j)\n",
      "n_discard =  144\n",
      "discard samples 1.0196533203125\n",
      "n_samples_node =  1000\n",
      "generate_samples :  0.4508039951324463\n",
      "     prepare getting local values 0.0012905597686767578\n",
      "     obtained local values 0.0045948028564453125\n",
      "get_mc_stats 0.006272077560424805\n"
     ]
    },
    {
     "name": "stderr",
     "output_type": "stream",
     "text": [
      " 86%|████████▌ | 857/1000 [18:51<03:11,  1.34s/it, Energy=0.0000002+0.0000000j ± 0.0000015 [σ²=0.0000000]]"
     ]
    },
    {
     "name": "stdout",
     "output_type": "stream",
     "text": [
      "--->> cal O and jac  0.03630328178405762\n",
      "compute_update  0.040448904037475586\n",
      "(0.006832209258689422+0j)\n",
      "n_discard =  144\n",
      "discard samples 0.7538139820098877\n",
      "n_samples_node =  1000\n",
      "generate_samples :  0.45304036140441895\n",
      "     prepare getting local values 0.002232074737548828\n",
      "     obtained local values 0.008021831512451172\n",
      "get_mc_stats 0.010385990142822266\n"
     ]
    },
    {
     "name": "stderr",
     "output_type": "stream",
     "text": [
      " 86%|████████▌ | 858/1000 [18:52<03:07,  1.32s/it, Energy=-0.0000005+0.0000000j ± 0.0000015 [σ²=0.0000000]]"
     ]
    },
    {
     "name": "stdout",
     "output_type": "stream",
     "text": [
      "--->> cal O and jac  0.03732776641845703\n",
      "compute_update  0.039566993713378906\n",
      "(0.0068321342494413375+0j)\n",
      "n_discard =  144\n",
      "discard samples 0.7703711986541748\n",
      "n_samples_node =  1000\n",
      "generate_samples :  0.45403099060058594\n",
      "     prepare getting local values 0.002668142318725586\n",
      "     obtained local values 0.006788015365600586\n",
      "get_mc_stats 0.009555816650390625\n"
     ]
    },
    {
     "name": "stderr",
     "output_type": "stream",
     "text": [
      " 86%|████████▌ | 859/1000 [18:53<03:03,  1.30s/it, Energy=-0.0000029+0.0000000j ± 0.0000017 [σ²=0.0000000]]"
     ]
    },
    {
     "name": "stdout",
     "output_type": "stream",
     "text": [
      "--->> cal O and jac  0.0370635986328125\n",
      "compute_update  0.03918790817260742\n",
      "(0.006832245599958+0j)\n",
      "n_discard =  144\n",
      "discard samples 0.7633106708526611\n",
      "n_samples_node =  1000\n",
      "generate_samples :  0.4523942470550537\n",
      "     prepare getting local values 0.0012774467468261719\n",
      "     obtained local values 0.004653453826904297\n",
      "get_mc_stats 0.006285667419433594\n"
     ]
    },
    {
     "name": "stderr",
     "output_type": "stream",
     "text": [
      " 86%|████████▌ | 860/1000 [18:55<03:00,  1.29s/it, Energy=0.0000014+0.0000000j ± 0.0000015 [σ²=0.0000000]] "
     ]
    },
    {
     "name": "stdout",
     "output_type": "stream",
     "text": [
      "--->> cal O and jac  0.03789544105529785\n",
      "compute_update  0.041890859603881836\n",
      "(0.006832367210557219+0j)\n",
      "n_discard =  144\n",
      "discard samples 0.7583897113800049\n",
      "n_samples_node =  1000\n",
      "generate_samples :  0.4540717601776123\n",
      "     prepare getting local values 0.001270294189453125\n",
      "     obtained local values 0.004696369171142578\n",
      "get_mc_stats 0.0063321590423583984\n"
     ]
    },
    {
     "name": "stderr",
     "output_type": "stream",
     "text": [
      " 86%|████████▌ | 861/1000 [18:56<02:58,  1.28s/it, Energy=-0.0000009+0.0000000j ± 0.0000013 [σ²=0.0000000]]"
     ]
    },
    {
     "name": "stdout",
     "output_type": "stream",
     "text": [
      "--->> cal O and jac  0.03735089302062988\n",
      "compute_update  0.04036712646484375\n",
      "(0.006832278946285214+0j)\n",
      "n_discard =  144\n",
      "discard samples 0.7603726387023926\n",
      "n_samples_node =  1000\n",
      "generate_samples :  0.451984167098999\n",
      "     prepare getting local values 0.001363992691040039\n",
      "     obtained local values 0.0048487186431884766\n",
      "get_mc_stats 0.00665283203125\n"
     ]
    },
    {
     "name": "stderr",
     "output_type": "stream",
     "text": [
      " 86%|████████▌ | 862/1000 [18:57<02:56,  1.28s/it, Energy=0.0000010+0.0000000j ± 0.0000014 [σ²=0.0000000]] "
     ]
    },
    {
     "name": "stdout",
     "output_type": "stream",
     "text": [
      "--->> cal O and jac  0.03911614418029785\n",
      "compute_update  0.04237532615661621\n",
      "(0.006832454606859597+0j)\n",
      "n_discard =  144\n",
      "discard samples 0.7570698261260986\n",
      "n_samples_node =  1000\n",
      "generate_samples :  0.45886898040771484\n",
      "     prepare getting local values 0.0024690628051757812\n",
      "     obtained local values 0.006067752838134766\n",
      "get_mc_stats 0.009334325790405273\n"
     ]
    },
    {
     "name": "stderr",
     "output_type": "stream",
     "text": [
      " 86%|████████▋ | 863/1000 [18:58<02:54,  1.28s/it, Energy=-0.0000017+0.0000000j ± 0.0000020 [σ²=0.0000000]]"
     ]
    },
    {
     "name": "stdout",
     "output_type": "stream",
     "text": [
      "--->> cal O and jac  0.04057669639587402\n",
      "compute_update  0.04462575912475586\n",
      "(0.006832484029271195+0j)\n",
      "n_discard =  144\n",
      "discard samples 0.758995532989502\n",
      "n_samples_node =  1000\n",
      "generate_samples :  0.4498763084411621\n",
      "     prepare getting local values 0.0013501644134521484\n",
      "     obtained local values 0.004723310470581055\n",
      "get_mc_stats 0.0066220760345458984\n"
     ]
    },
    {
     "name": "stderr",
     "output_type": "stream",
     "text": [
      " 86%|████████▋ | 864/1000 [19:00<02:52,  1.27s/it, Energy=-0.0000008+0.0000000j ± 0.0000016 [σ²=0.0000000]]"
     ]
    },
    {
     "name": "stdout",
     "output_type": "stream",
     "text": [
      "--->> cal O and jac  0.037854909896850586\n",
      "compute_update  0.04183006286621094\n",
      "(0.006832542989901109+0j)\n",
      "n_discard =  144\n",
      "discard samples 0.7524271011352539\n",
      "n_samples_node =  1000\n",
      "generate_samples :  0.4478788375854492\n",
      "     prepare getting local values 0.0013387203216552734\n",
      "     obtained local values 0.004781246185302734\n",
      "get_mc_stats 0.0064089298248291016\n"
     ]
    },
    {
     "name": "stderr",
     "output_type": "stream",
     "text": [
      " 86%|████████▋ | 865/1000 [19:01<02:50,  1.26s/it, Energy=-0.0000006+0.0000000j ± 0.0000018 [σ²=0.0000000]]"
     ]
    },
    {
     "name": "stdout",
     "output_type": "stream",
     "text": [
      "--->> cal O and jac  0.036269426345825195\n",
      "compute_update  0.03848099708557129\n",
      "(0.006832689468598822+0j)\n",
      "n_discard =  144\n",
      "discard samples 0.7563066482543945\n",
      "n_samples_node =  1000\n",
      "generate_samples :  0.4499049186706543\n",
      "     prepare getting local values 0.0013821125030517578\n",
      "     obtained local values 0.005046844482421875\n",
      "get_mc_stats 0.007130861282348633\n"
     ]
    },
    {
     "name": "stderr",
     "output_type": "stream",
     "text": [
      " 87%|████████▋ | 866/1000 [19:02<02:49,  1.26s/it, Energy=-0.0000002+0.0000000j ± 0.0000020 [σ²=0.0000000]]"
     ]
    },
    {
     "name": "stdout",
     "output_type": "stream",
     "text": [
      "--->> cal O and jac  0.038604021072387695\n",
      "compute_update  0.04084444046020508\n",
      "(0.006832753350388187+0j)\n",
      "n_discard =  144\n",
      "discard samples 0.7577018737792969\n",
      "n_samples_node =  1000\n",
      "generate_samples :  0.4469289779663086\n",
      "     prepare getting local values 0.0014739036560058594\n",
      "     obtained local values 0.005309104919433594\n",
      "get_mc_stats 0.007444143295288086\n"
     ]
    },
    {
     "name": "stderr",
     "output_type": "stream",
     "text": [
      " 87%|████████▋ | 867/1000 [19:03<02:47,  1.26s/it, Energy=-0.0000002+0.0000000j ± 0.0000015 [σ²=0.0000000]]"
     ]
    },
    {
     "name": "stdout",
     "output_type": "stream",
     "text": [
      "--->> cal O and jac  0.04405474662780762\n",
      "compute_update  0.04817843437194824\n",
      "(0.0068325935165027465+0j)\n",
      "n_discard =  144\n",
      "discard samples 0.7817928791046143\n",
      "n_samples_node =  1000\n",
      "generate_samples :  0.44852137565612793\n",
      "     prepare getting local values 0.0013332366943359375\n",
      "     obtained local values 0.004754304885864258\n",
      "get_mc_stats 0.00666499137878418\n"
     ]
    },
    {
     "name": "stderr",
     "output_type": "stream",
     "text": [
      " 87%|████████▋ | 868/1000 [19:05<02:47,  1.27s/it, Energy=-0.0000002+0.0000000j ± 0.0000016 [σ²=0.0000000]]"
     ]
    },
    {
     "name": "stdout",
     "output_type": "stream",
     "text": [
      "--->> cal O and jac  0.036783456802368164\n",
      "compute_update  0.0390012264251709\n",
      "(0.006832702224176011+0j)\n",
      "n_discard =  144\n",
      "discard samples 0.757016658782959\n",
      "n_samples_node =  1000\n",
      "generate_samples :  0.45264267921447754\n",
      "     prepare getting local values 0.0013213157653808594\n",
      "     obtained local values 0.004760026931762695\n",
      "get_mc_stats 0.006475925445556641\n"
     ]
    },
    {
     "name": "stderr",
     "output_type": "stream",
     "text": [
      " 87%|████████▋ | 869/1000 [19:06<02:45,  1.26s/it, Energy=-0.0000026+0.0000000j ± 0.0000013 [σ²=0.0000000]]"
     ]
    },
    {
     "name": "stdout",
     "output_type": "stream",
     "text": [
      "--->> cal O and jac  0.03686356544494629\n",
      "compute_update  0.038987159729003906\n",
      "(0.0068328236517379865+0j)\n",
      "n_discard =  144\n",
      "discard samples 0.7560551166534424\n",
      "n_samples_node =  1000\n",
      "generate_samples :  0.4495987892150879\n",
      "     prepare getting local values 0.002149343490600586\n",
      "     obtained local values 0.0076372623443603516\n",
      "get_mc_stats 0.00995182991027832\n"
     ]
    },
    {
     "name": "stderr",
     "output_type": "stream",
     "text": [
      " 87%|████████▋ | 870/1000 [19:07<02:44,  1.26s/it, Energy=0.0000017+0.0000000j ± 0.0000021 [σ²=0.0000000]] "
     ]
    },
    {
     "name": "stdout",
     "output_type": "stream",
     "text": [
      "--->> cal O and jac  0.038774967193603516\n",
      "compute_update  0.0409693717956543\n",
      "(0.006832971382185796+0j)\n",
      "n_discard =  144\n",
      "discard samples 0.8231785297393799\n",
      "n_samples_node =  1000\n",
      "generate_samples :  0.45783114433288574\n",
      "     prepare getting local values 0.002324819564819336\n",
      "     obtained local values 0.008737802505493164\n",
      "get_mc_stats 0.011553764343261719\n"
     ]
    },
    {
     "name": "stderr",
     "output_type": "stream",
     "text": [
      " 87%|████████▋ | 871/1000 [19:08<02:45,  1.28s/it, Energy=-0.0000014+0.0000000j ± 0.0000015 [σ²=0.0000000]]"
     ]
    },
    {
     "name": "stdout",
     "output_type": "stream",
     "text": [
      "--->> cal O and jac  0.04117608070373535\n",
      "compute_update  0.0435183048248291\n",
      "(0.006833395219267745+0j)\n",
      "n_discard =  144\n",
      "discard samples 0.7540202140808105\n",
      "n_samples_node =  1000\n",
      "generate_samples :  0.4685382843017578\n",
      "     prepare getting local values 0.0028579235076904297\n",
      "     obtained local values 0.007688999176025391\n",
      "get_mc_stats 0.01051783561706543\n"
     ]
    },
    {
     "name": "stderr",
     "output_type": "stream",
     "text": [
      " 87%|████████▋ | 872/1000 [19:10<02:44,  1.28s/it, Energy=0.0000003+0.0000000j ± 0.0000019 [σ²=0.0000000]] "
     ]
    },
    {
     "name": "stdout",
     "output_type": "stream",
     "text": [
      "--->> cal O and jac  0.03805255889892578\n",
      "compute_update  0.040297508239746094\n",
      "(0.006833238690934425+0j)\n",
      "n_discard =  144\n",
      "discard samples 0.7567543983459473\n",
      "n_samples_node =  1000\n",
      "generate_samples :  0.4469306468963623\n",
      "     prepare getting local values 0.0012922286987304688\n",
      "     obtained local values 0.004611968994140625\n",
      "get_mc_stats 0.006210803985595703\n"
     ]
    },
    {
     "name": "stderr",
     "output_type": "stream",
     "text": [
      " 87%|████████▋ | 873/1000 [19:11<02:41,  1.27s/it, Energy=-0.0000021+0.0000000j ± 0.0000018 [σ²=0.0000000]]"
     ]
    },
    {
     "name": "stdout",
     "output_type": "stream",
     "text": [
      "--->> cal O and jac  0.03731942176818848\n",
      "compute_update  0.039430856704711914\n",
      "(0.006833044443146991+0j)\n",
      "n_discard =  144\n",
      "discard samples 0.7533199787139893\n",
      "n_samples_node =  1000\n",
      "generate_samples :  0.44847631454467773\n",
      "     prepare getting local values 0.0013878345489501953\n",
      "     obtained local values 0.0049173831939697266\n",
      "get_mc_stats 0.006444215774536133\n"
     ]
    },
    {
     "name": "stderr",
     "output_type": "stream",
     "text": [
      " 87%|████████▋ | 874/1000 [19:12<02:39,  1.27s/it, Energy=0.0000014+0.0000000j ± 0.0000020 [σ²=0.0000000]] "
     ]
    },
    {
     "name": "stdout",
     "output_type": "stream",
     "text": [
      "--->> cal O and jac  0.04361724853515625\n",
      "compute_update  0.0471646785736084\n",
      "(0.00683318600784928+0j)\n",
      "n_discard =  144\n",
      "discard samples 0.7581443786621094\n",
      "n_samples_node =  1000\n",
      "generate_samples :  0.45087456703186035\n",
      "     prepare getting local values 0.0012993812561035156\n",
      "     obtained local values 0.0046803951263427734\n",
      "get_mc_stats 0.0062601566314697266\n"
     ]
    },
    {
     "name": "stderr",
     "output_type": "stream",
     "text": [
      " 88%|████████▊ | 875/1000 [19:14<02:38,  1.26s/it, Energy=-0.0000042+0.0000000j ± 0.0000016 [σ²=0.0000000]]"
     ]
    },
    {
     "name": "stdout",
     "output_type": "stream",
     "text": [
      "--->> cal O and jac  0.037607669830322266\n",
      "compute_update  0.039760589599609375\n",
      "(0.00683309608621413+0j)\n",
      "n_discard =  144\n",
      "discard samples 0.9336400032043457\n",
      "n_samples_node =  1000\n",
      "generate_samples :  0.4503824710845947\n",
      "     prepare getting local values 0.0012850761413574219\n",
      "     obtained local values 0.004611015319824219\n",
      "get_mc_stats 0.00621795654296875\n"
     ]
    },
    {
     "name": "stderr",
     "output_type": "stream",
     "text": [
      " 88%|████████▊ | 876/1000 [19:15<02:43,  1.31s/it, Energy=-0.0000025+0.0000000j ± 0.0000017 [σ²=0.0000000]]"
     ]
    },
    {
     "name": "stdout",
     "output_type": "stream",
     "text": [
      "--->> cal O and jac  0.03783679008483887\n",
      "compute_update  0.040259599685668945\n",
      "(0.006832908782049673+0j)\n",
      "n_discard =  144\n",
      "discard samples 0.757239580154419\n",
      "n_samples_node =  1000\n",
      "generate_samples :  0.45107436180114746\n",
      "     prepare getting local values 0.002299070358276367\n",
      "     obtained local values 0.005781412124633789\n",
      "get_mc_stats 0.007994413375854492\n"
     ]
    },
    {
     "name": "stderr",
     "output_type": "stream",
     "text": [
      " 88%|████████▊ | 877/1000 [19:16<02:39,  1.30s/it, Energy=-0.0000030+0.0000000j ± 0.0000014 [σ²=0.0000000]]"
     ]
    },
    {
     "name": "stdout",
     "output_type": "stream",
     "text": [
      "--->> cal O and jac  0.03660321235656738\n",
      "compute_update  0.03980875015258789\n",
      "(0.006832745646449239+0j)\n",
      "n_discard =  144\n",
      "discard samples 0.7680168151855469\n",
      "n_samples_node =  1000\n",
      "generate_samples :  0.47487974166870117\n",
      "     prepare getting local values 0.0013947486877441406\n",
      "     obtained local values 0.00641322135925293\n",
      "get_mc_stats 0.008665084838867188\n"
     ]
    },
    {
     "name": "stderr",
     "output_type": "stream",
     "text": [
      " 88%|████████▊ | 878/1000 [19:18<02:38,  1.30s/it, Energy=-0.0000016+0.0000000j ± 0.0000014 [σ²=0.0000000]]"
     ]
    },
    {
     "name": "stdout",
     "output_type": "stream",
     "text": [
      "--->> cal O and jac  0.043418169021606445\n",
      "compute_update  0.0473325252532959\n",
      "(0.006832795708400232+0j)\n",
      "n_discard =  144\n",
      "discard samples 0.7665326595306396\n",
      "n_samples_node =  1000\n",
      "generate_samples :  0.4558122158050537\n",
      "     prepare getting local values 0.002153635025024414\n",
      "     obtained local values 0.007941484451293945\n",
      "get_mc_stats 0.009847402572631836\n"
     ]
    },
    {
     "name": "stderr",
     "output_type": "stream",
     "text": [
      " 88%|████████▊ | 879/1000 [19:19<02:36,  1.29s/it, Energy=-0.0000035+0.0000000j ± 0.0000016 [σ²=0.0000000]]"
     ]
    },
    {
     "name": "stdout",
     "output_type": "stream",
     "text": [
      "--->> cal O and jac  0.03776907920837402\n",
      "compute_update  0.04012441635131836\n",
      "(0.0068327225004092+0j)\n",
      "n_discard =  144\n",
      "discard samples 0.7653014659881592\n",
      "n_samples_node =  1000\n",
      "generate_samples :  0.4743196964263916\n",
      "     prepare getting local values 0.002650022506713867\n",
      "     obtained local values 0.008475303649902344\n",
      "get_mc_stats 0.010933399200439453\n"
     ]
    },
    {
     "name": "stderr",
     "output_type": "stream",
     "text": [
      " 88%|████████▊ | 880/1000 [19:20<02:34,  1.29s/it, Energy=-0.0000033+0.0000000j ± 0.0000014 [σ²=0.0000000]]"
     ]
    },
    {
     "name": "stdout",
     "output_type": "stream",
     "text": [
      "--->> cal O and jac  0.035921335220336914\n",
      "compute_update  0.03820943832397461\n",
      "(0.00683272345316754+0j)\n",
      "n_discard =  144\n",
      "discard samples 0.8037989139556885\n",
      "n_samples_node =  1000\n",
      "generate_samples :  0.4666104316711426\n",
      "     prepare getting local values 0.0022873878479003906\n",
      "     obtained local values 0.010118722915649414\n",
      "get_mc_stats 0.012888669967651367\n"
     ]
    },
    {
     "name": "stderr",
     "output_type": "stream",
     "text": [
      " 88%|████████▊ | 881/1000 [19:21<02:35,  1.30s/it, Energy=0.0000028+0.0000000j ± 0.0000015 [σ²=0.0000000]] "
     ]
    },
    {
     "name": "stdout",
     "output_type": "stream",
     "text": [
      "--->> cal O and jac  0.044365644454956055\n",
      "compute_update  0.047976016998291016\n",
      "(0.006832888516956699+0j)\n",
      "n_discard =  144\n",
      "discard samples 0.8183777332305908\n",
      "n_samples_node =  1000\n",
      "generate_samples :  0.4580056667327881\n",
      "     prepare getting local values 0.0013592243194580078\n",
      "     obtained local values 0.004688262939453125\n",
      "get_mc_stats 0.006197690963745117\n"
     ]
    },
    {
     "name": "stderr",
     "output_type": "stream",
     "text": [
      " 88%|████████▊ | 882/1000 [19:23<02:34,  1.31s/it, Energy=-0.0000031+0.0000000j ± 0.0000016 [σ²=0.0000000]]"
     ]
    },
    {
     "name": "stdout",
     "output_type": "stream",
     "text": [
      "--->> cal O and jac  0.04098057746887207\n",
      "compute_update  0.04453110694885254\n",
      "(0.0068330238374955015+0j)\n",
      "n_discard =  144\n",
      "discard samples 0.8958418369293213\n",
      "n_samples_node =  1000\n",
      "generate_samples :  0.48508143424987793\n",
      "     prepare getting local values 0.0013697147369384766\n",
      "     obtained local values 0.004750728607177734\n",
      "get_mc_stats 0.00672602653503418\n"
     ]
    },
    {
     "name": "stderr",
     "output_type": "stream",
     "text": [
      " 88%|████████▊ | 883/1000 [19:24<02:37,  1.35s/it, Energy=-0.0000026+0.0000000j ± 0.0000017 [σ²=0.0000000]]"
     ]
    },
    {
     "name": "stdout",
     "output_type": "stream",
     "text": [
      "--->> cal O and jac  0.034783363342285156\n",
      "compute_update  0.037108659744262695\n",
      "(0.006833314470862623+0j)\n",
      "n_discard =  144\n",
      "discard samples 1.0250244140625\n",
      "n_samples_node =  1000\n",
      "generate_samples :  0.6179049015045166\n",
      "     prepare getting local values 0.002719879150390625\n",
      "     obtained local values 0.008646726608276367\n",
      "get_mc_stats 0.011585474014282227\n"
     ]
    },
    {
     "name": "stderr",
     "output_type": "stream",
     "text": [
      " 88%|████████▊ | 884/1000 [19:26<02:48,  1.45s/it, Energy=-0.0000005+0.0000000j ± 0.0000015 [σ²=0.0000000]]"
     ]
    },
    {
     "name": "stdout",
     "output_type": "stream",
     "text": [
      "--->> cal O and jac  0.045665740966796875\n",
      "compute_update  0.04945206642150879\n",
      "(0.00683344648639924+0j)\n",
      "n_discard =  144\n",
      "discard samples 0.9013547897338867\n",
      "n_samples_node =  1000\n",
      "generate_samples :  0.4633982181549072\n",
      "     prepare getting local values 0.0026521682739257812\n",
      "     obtained local values 0.008905172348022461\n",
      "get_mc_stats 0.011634349822998047\n"
     ]
    },
    {
     "name": "stderr",
     "output_type": "stream",
     "text": [
      " 88%|████████▊ | 885/1000 [19:27<02:45,  1.44s/it, Energy=0.0000005+0.0000000j ± 0.0000012 [σ²=0.0000000]] "
     ]
    },
    {
     "name": "stdout",
     "output_type": "stream",
     "text": [
      "--->> cal O and jac  0.037146806716918945\n",
      "compute_update  0.03964495658874512\n",
      "(0.006833668918763327+0j)\n",
      "n_discard =  144\n",
      "discard samples 0.7670741081237793\n",
      "n_samples_node =  1000\n",
      "generate_samples :  0.5031259059906006\n",
      "     prepare getting local values 0.00222015380859375\n",
      "     obtained local values 0.007922172546386719\n",
      "get_mc_stats 0.010483503341674805\n"
     ]
    },
    {
     "name": "stderr",
     "output_type": "stream",
     "text": [
      " 89%|████████▊ | 886/1000 [19:29<02:40,  1.41s/it, Energy=-0.0000013+0.0000000j ± 0.0000015 [σ²=0.0000000]]"
     ]
    },
    {
     "name": "stdout",
     "output_type": "stream",
     "text": [
      "--->> cal O and jac  0.04185748100280762\n",
      "compute_update  0.04529714584350586\n",
      "(0.006833715686775419+0j)\n",
      "n_discard =  144\n",
      "discard samples 0.7672083377838135\n",
      "n_samples_node =  1000\n",
      "generate_samples :  0.4537076950073242\n",
      "     prepare getting local values 0.0012705326080322266\n",
      "     obtained local values 0.00458073616027832\n",
      "get_mc_stats 0.006250143051147461\n"
     ]
    },
    {
     "name": "stderr",
     "output_type": "stream",
     "text": [
      " 89%|████████▊ | 887/1000 [19:30<02:34,  1.37s/it, Energy=0.0000013+0.0000000j ± 0.0000017 [σ²=0.0000000]] "
     ]
    },
    {
     "name": "stdout",
     "output_type": "stream",
     "text": [
      "--->> cal O and jac  0.03622269630432129\n",
      "compute_update  0.038492679595947266\n",
      "(0.006833476954397183+0j)\n",
      "n_discard =  144\n",
      "discard samples 0.7511110305786133\n",
      "n_samples_node =  1000\n",
      "generate_samples :  0.44898223876953125\n",
      "     prepare getting local values 0.001360177993774414\n",
      "     obtained local values 0.004848957061767578\n",
      "get_mc_stats 0.0067365169525146484\n"
     ]
    },
    {
     "name": "stderr",
     "output_type": "stream",
     "text": [
      " 89%|████████▉ | 888/1000 [19:31<02:29,  1.33s/it, Energy=-0.0000011+0.0000000j ± 0.0000019 [σ²=0.0000000]]"
     ]
    },
    {
     "name": "stdout",
     "output_type": "stream",
     "text": [
      "--->> cal O and jac  0.04411196708679199\n",
      "compute_update  0.047669172286987305\n",
      "(0.006833810329194739+0j)\n",
      "n_discard =  144\n",
      "discard samples 0.7508268356323242\n",
      "n_samples_node =  1000\n",
      "generate_samples :  0.44851040840148926\n",
      "     prepare getting local values 0.0023958683013916016\n",
      "     obtained local values 0.00855875015258789\n",
      "get_mc_stats 0.010887622833251953\n"
     ]
    },
    {
     "name": "stderr",
     "output_type": "stream",
     "text": [
      " 89%|████████▉ | 889/1000 [19:32<02:25,  1.31s/it, Energy=-0.0000017+0.0000000j ± 0.0000016 [σ²=0.0000000]]"
     ]
    },
    {
     "name": "stdout",
     "output_type": "stream",
     "text": [
      "--->> cal O and jac  0.0406951904296875\n",
      "compute_update  0.04297614097595215\n",
      "(0.006833804496710948+0j)\n",
      "n_discard =  144\n",
      "discard samples 0.7587003707885742\n",
      "n_samples_node =  1000\n",
      "generate_samples :  0.45200252532958984\n",
      "     prepare getting local values 0.001356363296508789\n",
      "     obtained local values 0.004765748977661133\n",
      "get_mc_stats 0.0068476200103759766\n"
     ]
    },
    {
     "name": "stderr",
     "output_type": "stream",
     "text": [
      " 89%|████████▉ | 890/1000 [19:34<02:22,  1.30s/it, Energy=0.0000001+0.0000000j ± 0.0000020 [σ²=0.0000000]] "
     ]
    },
    {
     "name": "stdout",
     "output_type": "stream",
     "text": [
      "--->> cal O and jac  0.03981423377990723\n",
      "compute_update  0.04270052909851074\n",
      "(0.006833753041774453+0j)\n",
      "n_discard =  144\n",
      "discard samples 0.7682523727416992\n",
      "n_samples_node =  1000\n",
      "generate_samples :  0.4562556743621826\n",
      "     prepare getting local values 0.001314401626586914\n",
      "     obtained local values 0.004714012145996094\n",
      "get_mc_stats 0.006291866302490234\n"
     ]
    },
    {
     "name": "stderr",
     "output_type": "stream",
     "text": [
      " 89%|████████▉ | 891/1000 [19:35<02:20,  1.29s/it, Energy=-0.0000020+0.0000000j ± 0.0000015 [σ²=0.0000000]]"
     ]
    },
    {
     "name": "stdout",
     "output_type": "stream",
     "text": [
      "--->> cal O and jac  0.036683082580566406\n",
      "compute_update  0.0389561653137207\n",
      "(0.006834032158734863+0j)\n",
      "n_discard =  144\n",
      "discard samples 0.7648561000823975\n",
      "n_samples_node =  1000\n",
      "generate_samples :  0.44997143745422363\n",
      "     prepare getting local values 0.001314401626586914\n",
      "     obtained local values 0.00469517707824707\n",
      "get_mc_stats 0.006638765335083008\n"
     ]
    },
    {
     "name": "stderr",
     "output_type": "stream",
     "text": [
      " 89%|████████▉ | 892/1000 [19:36<02:18,  1.28s/it, Energy=0.0000005+0.0000000j ± 0.0000016 [σ²=0.0000000]] "
     ]
    },
    {
     "name": "stdout",
     "output_type": "stream",
     "text": [
      "--->> cal O and jac  0.034575700759887695\n",
      "compute_update  0.03696584701538086\n",
      "(0.006834415771705813+0j)\n",
      "n_discard =  144\n",
      "discard samples 0.7591841220855713\n",
      "n_samples_node =  1000\n",
      "generate_samples :  0.45229482650756836\n",
      "     prepare getting local values 0.0013232231140136719\n",
      "     obtained local values 0.0048351287841796875\n",
      "get_mc_stats 0.006635189056396484\n"
     ]
    },
    {
     "name": "stderr",
     "output_type": "stream",
     "text": [
      " 89%|████████▉ | 893/1000 [19:37<02:16,  1.27s/it, Energy=-0.0000008+0.0000000j ± 0.0000019 [σ²=0.0000000]]"
     ]
    },
    {
     "name": "stdout",
     "output_type": "stream",
     "text": [
      "--->> cal O and jac  0.03567981719970703\n",
      "compute_update  0.037900447845458984\n",
      "(0.00683446145701885+0j)\n",
      "n_discard =  144\n",
      "discard samples 0.9179322719573975\n",
      "n_samples_node =  1000\n",
      "generate_samples :  0.4544544219970703\n",
      "     prepare getting local values 0.001306295394897461\n",
      "     obtained local values 0.004660129547119141\n",
      "get_mc_stats 0.006364345550537109\n"
     ]
    },
    {
     "name": "stderr",
     "output_type": "stream",
     "text": [
      " 89%|████████▉ | 894/1000 [19:39<02:19,  1.32s/it, Energy=0.0000046+0.0000000j ± 0.0000020 [σ²=0.0000000]] "
     ]
    },
    {
     "name": "stdout",
     "output_type": "stream",
     "text": [
      "--->> cal O and jac  0.03885960578918457\n",
      "compute_update  0.04094290733337402\n",
      "(0.006834363615988066+0j)\n",
      "n_discard =  144\n",
      "discard samples 0.7492280006408691\n",
      "n_samples_node =  1000\n",
      "generate_samples :  0.4488248825073242\n",
      "     prepare getting local values 0.001275777816772461\n",
      "     obtained local values 0.0047075748443603516\n",
      "get_mc_stats 0.006352424621582031\n"
     ]
    },
    {
     "name": "stderr",
     "output_type": "stream",
     "text": [
      " 90%|████████▉ | 895/1000 [19:40<02:16,  1.30s/it, Energy=0.0000010+0.0000000j ± 0.0000017 [σ²=0.0000000]]"
     ]
    },
    {
     "name": "stdout",
     "output_type": "stream",
     "text": [
      "--->> cal O and jac  0.038992881774902344\n",
      "compute_update  0.04303288459777832\n",
      "(0.00683450050488006+0j)\n",
      "n_discard =  144\n",
      "discard samples 0.7749083042144775\n",
      "n_samples_node =  1000\n",
      "generate_samples :  0.45793795585632324\n",
      "     prepare getting local values 0.0014426708221435547\n",
      "     obtained local values 0.005004405975341797\n",
      "get_mc_stats 0.0069408416748046875\n"
     ]
    },
    {
     "name": "stderr",
     "output_type": "stream",
     "text": [
      " 90%|████████▉ | 896/1000 [19:41<02:14,  1.29s/it, Energy=-0.0000003+0.0000000j ± 0.0000016 [σ²=0.0000000]]"
     ]
    },
    {
     "name": "stdout",
     "output_type": "stream",
     "text": [
      "--->> cal O and jac  0.04211616516113281\n",
      "compute_update  0.045781612396240234\n",
      "(0.0068347814187304555+0j)\n",
      "n_discard =  144\n",
      "discard samples 0.7648379802703857\n",
      "n_samples_node =  1000\n",
      "generate_samples :  0.5021975040435791\n",
      "     prepare getting local values 0.0026531219482421875\n",
      "     obtained local values 0.009549856185913086\n",
      "get_mc_stats 0.012184858322143555\n"
     ]
    },
    {
     "name": "stderr",
     "output_type": "stream",
     "text": [
      " 90%|████████▉ | 897/1000 [19:43<02:14,  1.30s/it, Energy=-0.0000028+0.0000000j ± 0.0000019 [σ²=0.0000000]]"
     ]
    },
    {
     "name": "stdout",
     "output_type": "stream",
     "text": [
      "--->> cal O and jac  0.03582501411437988\n",
      "compute_update  0.03878045082092285\n",
      "(0.0068345398092150966+0j)\n",
      "n_discard =  144\n",
      "discard samples 0.7557463645935059\n",
      "n_samples_node =  1000\n",
      "generate_samples :  0.4491004943847656\n",
      "     prepare getting local values 0.0014188289642333984\n",
      "     obtained local values 0.0049059391021728516\n",
      "get_mc_stats 0.006446123123168945\n"
     ]
    },
    {
     "name": "stderr",
     "output_type": "stream",
     "text": [
      " 90%|████████▉ | 898/1000 [19:44<02:11,  1.29s/it, Energy=-0.0000015+0.0000000j ± 0.0000012 [σ²=0.0000000]]"
     ]
    },
    {
     "name": "stdout",
     "output_type": "stream",
     "text": [
      "--->> cal O and jac  0.04158496856689453\n",
      "compute_update  0.043965816497802734\n",
      "(0.0068346768195919625+0j)\n",
      "n_discard =  144\n",
      "discard samples 0.7709200382232666\n",
      "n_samples_node =  1000\n",
      "generate_samples :  0.46044325828552246\n",
      "     prepare getting local values 0.001271963119506836\n",
      "     obtained local values 0.004712581634521484\n",
      "get_mc_stats 0.0063419342041015625\n"
     ]
    },
    {
     "name": "stderr",
     "output_type": "stream",
     "text": [
      " 90%|████████▉ | 899/1000 [19:45<02:09,  1.29s/it, Energy=0.0000000+0.0000000j ± 0.0000018 [σ²=0.0000000]] "
     ]
    },
    {
     "name": "stdout",
     "output_type": "stream",
     "text": [
      "--->> cal O and jac  0.03708219528198242\n",
      "compute_update  0.03933596611022949\n",
      "(0.006834669036726281+0j)\n",
      "n_discard =  144\n",
      "discard samples 0.7794480323791504\n",
      "n_samples_node =  1000\n",
      "generate_samples :  0.4579043388366699\n",
      "     prepare getting local values 0.001277923583984375\n",
      "     obtained local values 0.004712581634521484\n",
      "get_mc_stats 0.006774187088012695\n"
     ]
    },
    {
     "name": "stderr",
     "output_type": "stream",
     "text": [
      " 90%|█████████ | 900/1000 [19:47<02:08,  1.29s/it, Energy=-0.0000001+0.0000000j ± 0.0000016 [σ²=0.0000000]]"
     ]
    },
    {
     "name": "stdout",
     "output_type": "stream",
     "text": [
      "--->> cal O and jac  0.040125131607055664\n",
      "compute_update  0.04340958595275879\n",
      "(0.006834791853457598+0j)\n",
      "n_discard =  144\n",
      "discard samples 0.7678813934326172\n",
      "n_samples_node =  1000\n",
      "generate_samples :  0.4521138668060303\n",
      "     prepare getting local values 0.0013532638549804688\n",
      "     obtained local values 0.004877328872680664\n",
      "get_mc_stats 0.006878852844238281\n"
     ]
    },
    {
     "name": "stderr",
     "output_type": "stream",
     "text": [
      " 90%|█████████ | 901/1000 [19:48<02:06,  1.28s/it, Energy=-0.0000022+0.0000000j ± 0.0000016 [σ²=0.0000000]]"
     ]
    },
    {
     "name": "stdout",
     "output_type": "stream",
     "text": [
      "--->> cal O and jac  0.03954434394836426\n",
      "compute_update  0.04190516471862793\n",
      "(0.006834522698498631+0j)\n",
      "n_discard =  144\n",
      "discard samples 0.7574877738952637\n",
      "n_samples_node =  1000\n",
      "generate_samples :  0.49082469940185547\n",
      "     prepare getting local values 0.0022466182708740234\n",
      "     obtained local values 0.008332490921020508\n",
      "get_mc_stats 0.01085662841796875\n"
     ]
    },
    {
     "name": "stderr",
     "output_type": "stream",
     "text": [
      " 90%|█████████ | 902/1000 [19:49<02:06,  1.29s/it, Energy=0.0000005+0.0000000j ± 0.0000016 [σ²=0.0000000]] "
     ]
    },
    {
     "name": "stdout",
     "output_type": "stream",
     "text": [
      "--->> cal O and jac  0.038385868072509766\n",
      "compute_update  0.041712045669555664\n",
      "(0.006834145368773194+0j)\n",
      "n_discard =  144\n",
      "discard samples 0.756481409072876\n",
      "n_samples_node =  1000\n",
      "generate_samples :  0.4554469585418701\n",
      "     prepare getting local values 0.0019125938415527344\n",
      "     obtained local values 0.005336284637451172\n",
      "get_mc_stats 0.0077667236328125\n"
     ]
    },
    {
     "name": "stderr",
     "output_type": "stream",
     "text": [
      " 90%|█████████ | 903/1000 [19:50<02:04,  1.28s/it, Energy=0.0000022+0.0000000j ± 0.0000014 [σ²=0.0000000]]"
     ]
    },
    {
     "name": "stdout",
     "output_type": "stream",
     "text": [
      "--->> cal O and jac  0.036858320236206055\n",
      "compute_update  0.039613962173461914\n",
      "(0.0068343045387701164+0j)\n",
      "n_discard =  144\n",
      "discard samples 0.7581584453582764\n",
      "n_samples_node =  1000\n",
      "generate_samples :  0.4644944667816162\n",
      "     prepare getting local values 0.002256155014038086\n",
      "     obtained local values 0.008453369140625\n",
      "get_mc_stats 0.010863542556762695\n"
     ]
    },
    {
     "name": "stderr",
     "output_type": "stream",
     "text": [
      " 90%|█████████ | 904/1000 [19:52<02:02,  1.28s/it, Energy=-0.0000002+0.0000000j ± 0.0000017 [σ²=0.0000000]]"
     ]
    },
    {
     "name": "stdout",
     "output_type": "stream",
     "text": [
      "--->> cal O and jac  0.0387120246887207\n",
      "compute_update  0.04106569290161133\n",
      "(0.006834494612167754+0j)\n",
      "n_discard =  144\n",
      "discard samples 0.7590124607086182\n",
      "n_samples_node =  1000\n",
      "generate_samples :  0.44608378410339355\n",
      "     prepare getting local values 0.0013797283172607422\n",
      "     obtained local values 0.004885196685791016\n",
      "get_mc_stats 0.006823062896728516\n"
     ]
    },
    {
     "name": "stderr",
     "output_type": "stream",
     "text": [
      " 90%|█████████ | 905/1000 [19:53<02:00,  1.27s/it, Energy=-0.0000009+0.0000000j ± 0.0000016 [σ²=0.0000000]]"
     ]
    },
    {
     "name": "stdout",
     "output_type": "stream",
     "text": [
      "--->> cal O and jac  0.0379638671875\n",
      "compute_update  0.040086984634399414\n",
      "(0.006834455453468069+0j)\n",
      "n_discard =  144\n",
      "discard samples 0.7546916007995605\n",
      "n_samples_node =  1000\n",
      "generate_samples :  0.452833890914917\n",
      "     prepare getting local values 0.0014562606811523438\n",
      "     obtained local values 0.005016803741455078\n",
      "get_mc_stats 0.007013082504272461\n"
     ]
    },
    {
     "name": "stderr",
     "output_type": "stream",
     "text": [
      " 91%|█████████ | 906/1000 [19:54<01:59,  1.27s/it, Energy=0.0000015+0.0000000j ± 0.0000013 [σ²=0.0000000]] "
     ]
    },
    {
     "name": "stdout",
     "output_type": "stream",
     "text": [
      "--->> cal O and jac  0.04122042655944824\n",
      "compute_update  0.04471397399902344\n",
      "(0.006834443126510281+0j)\n",
      "n_discard =  144\n",
      "discard samples 0.7592577934265137\n",
      "n_samples_node =  1000\n",
      "generate_samples :  0.48247218132019043\n",
      "     prepare getting local values 0.0013136863708496094\n",
      "     obtained local values 0.004675626754760742\n",
      "get_mc_stats 0.006348609924316406\n"
     ]
    },
    {
     "name": "stderr",
     "output_type": "stream",
     "text": [
      " 91%|█████████ | 907/1000 [19:55<01:58,  1.28s/it, Energy=-0.0000011+0.0000000j ± 0.0000016 [σ²=0.0000000]]"
     ]
    },
    {
     "name": "stdout",
     "output_type": "stream",
     "text": [
      "--->> cal O and jac  0.04167747497558594\n",
      "compute_update  0.045250892639160156\n",
      "(0.006834501691550676+0j)\n",
      "n_discard =  144\n",
      "discard samples 0.7813055515289307\n",
      "n_samples_node =  1000\n",
      "generate_samples :  0.4921557903289795\n",
      "     prepare getting local values 0.002241373062133789\n",
      "     obtained local values 0.00823831558227539\n",
      "get_mc_stats 0.010679244995117188\n"
     ]
    },
    {
     "name": "stderr",
     "output_type": "stream",
     "text": [
      " 91%|█████████ | 908/1000 [19:57<01:58,  1.29s/it, Energy=0.0000014+0.0000000j ± 0.0000016 [σ²=0.0000000]] "
     ]
    },
    {
     "name": "stdout",
     "output_type": "stream",
     "text": [
      "--->> cal O and jac  0.03984498977661133\n",
      "compute_update  0.04212784767150879\n",
      "(0.006834571426799784+0j)\n",
      "n_discard =  144\n",
      "discard samples 0.7627367973327637\n",
      "n_samples_node =  1000\n",
      "generate_samples :  0.4551873207092285\n",
      "     prepare getting local values 0.0013949871063232422\n",
      "     obtained local values 0.004957437515258789\n",
      "get_mc_stats 0.007027626037597656\n"
     ]
    },
    {
     "name": "stderr",
     "output_type": "stream",
     "text": [
      " 91%|█████████ | 909/1000 [19:58<01:56,  1.28s/it, Energy=-0.0000013+0.0000000j ± 0.0000016 [σ²=0.0000000]]"
     ]
    },
    {
     "name": "stdout",
     "output_type": "stream",
     "text": [
      "--->> cal O and jac  0.03871512413024902\n",
      "compute_update  0.041095733642578125\n",
      "(0.006834548698397784+0j)\n",
      "n_discard =  144\n",
      "discard samples 0.8752453327178955\n",
      "n_samples_node =  1000\n",
      "generate_samples :  0.4535391330718994\n",
      "     prepare getting local values 0.0013966560363769531\n",
      "     obtained local values 0.004935503005981445\n",
      "get_mc_stats 0.006968021392822266\n"
     ]
    },
    {
     "name": "stderr",
     "output_type": "stream",
     "text": [
      " 91%|█████████ | 910/1000 [19:59<01:58,  1.31s/it, Energy=-0.0000013+0.0000000j ± 0.0000017 [σ²=0.0000000]]"
     ]
    },
    {
     "name": "stdout",
     "output_type": "stream",
     "text": [
      "--->> cal O and jac  0.036956071853637695\n",
      "compute_update  0.04045534133911133\n",
      "(0.0068347312391361685+0j)\n",
      "n_discard =  144\n",
      "discard samples 0.928887128829956\n",
      "n_samples_node =  1000\n",
      "generate_samples :  0.48019862174987793\n",
      "     prepare getting local values 0.0023453235626220703\n",
      "     obtained local values 0.0071141719818115234\n",
      "get_mc_stats 0.010613441467285156\n"
     ]
    },
    {
     "name": "stderr",
     "output_type": "stream",
     "text": [
      " 91%|█████████ | 911/1000 [20:01<02:00,  1.36s/it, Energy=-0.0000001+0.0000000j ± 0.0000014 [σ²=0.0000000]]"
     ]
    },
    {
     "name": "stdout",
     "output_type": "stream",
     "text": [
      "--->> cal O and jac  0.04239916801452637\n",
      "compute_update  0.04633927345275879\n",
      "(0.006834478901530436+0j)\n",
      "n_discard =  144\n",
      "discard samples 0.7635085582733154\n",
      "n_samples_node =  1000\n",
      "generate_samples :  0.4480705261230469\n",
      "     prepare getting local values 0.00189208984375\n",
      "     obtained local values 0.005416393280029297\n",
      "get_mc_stats 0.007718086242675781\n"
     ]
    },
    {
     "name": "stderr",
     "output_type": "stream",
     "text": [
      " 91%|█████████ | 912/1000 [20:02<01:57,  1.33s/it, Energy=-0.0000005+0.0000000j ± 0.0000015 [σ²=0.0000000]]"
     ]
    },
    {
     "name": "stdout",
     "output_type": "stream",
     "text": [
      "--->> cal O and jac  0.041368722915649414\n",
      "compute_update  0.04534649848937988\n",
      "(0.006834539849664164+0j)\n",
      "n_discard =  144\n",
      "discard samples 0.7509927749633789\n",
      "n_samples_node =  1000\n",
      "generate_samples :  0.45088720321655273\n",
      "     prepare getting local values 0.0013682842254638672\n",
      "     obtained local values 0.004747629165649414\n",
      "get_mc_stats 0.0064966678619384766\n"
     ]
    },
    {
     "name": "stderr",
     "output_type": "stream",
     "text": [
      " 91%|█████████▏| 913/1000 [20:03<01:53,  1.31s/it, Energy=-0.0000002+0.0000000j ± 0.0000016 [σ²=0.0000000]]"
     ]
    },
    {
     "name": "stdout",
     "output_type": "stream",
     "text": [
      "--->> cal O and jac  0.04134845733642578\n",
      "compute_update  0.04457569122314453\n",
      "(0.006834378641329043+0j)\n",
      "n_discard =  144\n",
      "discard samples 0.7623019218444824\n",
      "n_samples_node =  1000\n",
      "generate_samples :  0.4549062252044678\n",
      "     prepare getting local values 0.001338958740234375\n",
      "     obtained local values 0.004698753356933594\n",
      "get_mc_stats 0.0063436031341552734\n"
     ]
    },
    {
     "name": "stderr",
     "output_type": "stream",
     "text": [
      " 91%|█████████▏| 914/1000 [20:05<01:51,  1.30s/it, Energy=-0.0000046+0.0000000j ± 0.0000018 [σ²=0.0000000]]"
     ]
    },
    {
     "name": "stdout",
     "output_type": "stream",
     "text": [
      "--->> cal O and jac  0.03882646560668945\n",
      "compute_update  0.04218935966491699\n",
      "(0.006834780777734746+0j)\n",
      "n_discard =  144\n",
      "discard samples 1.046396255493164\n",
      "n_samples_node =  1000\n",
      "generate_samples :  0.6311142444610596\n",
      "     prepare getting local values 0.002299070358276367\n",
      "     obtained local values 0.007991552352905273\n",
      "get_mc_stats 0.010983943939208984\n"
     ]
    },
    {
     "name": "stderr",
     "output_type": "stream",
     "text": [
      " 92%|█████████▏| 915/1000 [20:06<02:01,  1.43s/it, Energy=-0.0000005+0.0000000j ± 0.0000013 [σ²=0.0000000]]"
     ]
    },
    {
     "name": "stdout",
     "output_type": "stream",
     "text": [
      "--->> cal O and jac  0.042398691177368164\n",
      "compute_update  0.045716047286987305\n",
      "(0.006834688124429304+0j)\n",
      "n_discard =  144\n",
      "discard samples 1.0484676361083984\n",
      "n_samples_node =  1000\n",
      "generate_samples :  0.6217045783996582\n",
      "     prepare getting local values 0.002699613571166992\n",
      "     obtained local values 0.009908199310302734\n",
      "get_mc_stats 0.012830257415771484\n"
     ]
    },
    {
     "name": "stderr",
     "output_type": "stream",
     "text": [
      " 92%|█████████▏| 916/1000 [20:08<02:07,  1.52s/it, Energy=-0.0000016+0.0000000j ± 0.0000016 [σ²=0.0000000]]"
     ]
    },
    {
     "name": "stdout",
     "output_type": "stream",
     "text": [
      "--->> cal O and jac  0.03509378433227539\n",
      "compute_update  0.03728294372558594\n",
      "(0.006834562540185134+0j)\n",
      "n_discard =  144\n",
      "discard samples 0.8126630783081055\n",
      "n_samples_node =  1000\n",
      "generate_samples :  0.45642995834350586\n",
      "     prepare getting local values 0.0024573802947998047\n",
      "     obtained local values 0.009134769439697266\n",
      "get_mc_stats 0.011635065078735352\n"
     ]
    },
    {
     "name": "stderr",
     "output_type": "stream",
     "text": [
      " 92%|█████████▏| 917/1000 [20:09<02:01,  1.46s/it, Energy=0.0000022+0.0000000j ± 0.0000017 [σ²=0.0000000]] "
     ]
    },
    {
     "name": "stdout",
     "output_type": "stream",
     "text": [
      "--->> cal O and jac  0.03891181945800781\n",
      "compute_update  0.042688608169555664\n",
      "(0.006834751271465101+0j)\n",
      "n_discard =  144\n",
      "discard samples 0.7736830711364746\n",
      "n_samples_node =  1000\n",
      "generate_samples :  0.4559657573699951\n",
      "     prepare getting local values 0.002343893051147461\n",
      "     obtained local values 0.008107423782348633\n",
      "get_mc_stats 0.01051950454711914\n"
     ]
    },
    {
     "name": "stderr",
     "output_type": "stream",
     "text": [
      " 92%|█████████▏| 918/1000 [20:11<01:55,  1.41s/it, Energy=-0.0000006+0.0000000j ± 0.0000014 [σ²=0.0000000]]"
     ]
    },
    {
     "name": "stdout",
     "output_type": "stream",
     "text": [
      "--->> cal O and jac  0.04048943519592285\n",
      "compute_update  0.04285693168640137\n",
      "(0.0068348555583615115+0j)\n",
      "n_discard =  144\n",
      "discard samples 0.763192892074585\n",
      "n_samples_node =  1000\n",
      "generate_samples :  0.4462857246398926\n",
      "     prepare getting local values 0.0015566349029541016\n",
      "     obtained local values 0.005112409591674805\n",
      "get_mc_stats 0.007511615753173828\n"
     ]
    },
    {
     "name": "stderr",
     "output_type": "stream",
     "text": [
      " 92%|█████████▏| 919/1000 [20:12<01:50,  1.36s/it, Energy=-0.0000017+0.0000000j ± 0.0000017 [σ²=0.0000000]]"
     ]
    },
    {
     "name": "stdout",
     "output_type": "stream",
     "text": [
      "--->> cal O and jac  0.04522705078125\n",
      "compute_update  0.0474858283996582\n",
      "(0.006834398895822815+0j)\n",
      "n_discard =  144\n",
      "discard samples 0.7555572986602783\n",
      "n_samples_node =  1000\n",
      "generate_samples :  0.4510498046875\n",
      "     prepare getting local values 0.0023496150970458984\n",
      "     obtained local values 0.008617162704467773\n",
      "get_mc_stats 0.01066899299621582\n"
     ]
    },
    {
     "name": "stderr",
     "output_type": "stream",
     "text": [
      " 92%|█████████▏| 920/1000 [20:13<01:46,  1.33s/it, Energy=-0.0000022+0.0000000j ± 0.0000020 [σ²=0.0000000]]"
     ]
    },
    {
     "name": "stdout",
     "output_type": "stream",
     "text": [
      "--->> cal O and jac  0.03796243667602539\n",
      "compute_update  0.04194474220275879\n",
      "(0.0068341937407586165+0j)\n",
      "n_discard =  144\n",
      "discard samples 1.0010972023010254\n",
      "n_samples_node =  1000\n",
      "generate_samples :  0.4548358917236328\n",
      "     prepare getting local values 0.001316070556640625\n",
      "     obtained local values 0.0048825740814208984\n",
      "get_mc_stats 0.006310462951660156\n"
     ]
    },
    {
     "name": "stderr",
     "output_type": "stream",
     "text": [
      " 92%|█████████▏| 921/1000 [20:15<01:49,  1.39s/it, Energy=-0.0000022+0.0000000j ± 0.0000017 [σ²=0.0000000]]"
     ]
    },
    {
     "name": "stdout",
     "output_type": "stream",
     "text": [
      "--->> cal O and jac  0.03829646110534668\n",
      "compute_update  0.04053783416748047\n",
      "(0.006834444626325282+0j)\n",
      "n_discard =  144\n",
      "discard samples 0.7628538608551025\n",
      "n_samples_node =  1000\n",
      "generate_samples :  0.4500162601470947\n",
      "     prepare getting local values 0.0013213157653808594\n",
      "     obtained local values 0.004700660705566406\n",
      "get_mc_stats 0.006560802459716797\n"
     ]
    },
    {
     "name": "stderr",
     "output_type": "stream",
     "text": [
      " 92%|█████████▏| 922/1000 [20:16<01:45,  1.35s/it, Energy=0.0000002+0.0000000j ± 0.0000015 [σ²=0.0000000]] "
     ]
    },
    {
     "name": "stdout",
     "output_type": "stream",
     "text": [
      "--->> cal O and jac  0.03998303413391113\n",
      "compute_update  0.04206705093383789\n",
      "(0.006834797944984658+0j)\n",
      "n_discard =  144\n",
      "discard samples 0.7666463851928711\n",
      "n_samples_node =  1000\n",
      "generate_samples :  0.45485639572143555\n",
      "     prepare getting local values 0.0026993751525878906\n",
      "     obtained local values 0.008152484893798828\n",
      "get_mc_stats 0.010907649993896484\n"
     ]
    },
    {
     "name": "stderr",
     "output_type": "stream",
     "text": [
      " 92%|█████████▏| 923/1000 [20:17<01:42,  1.33s/it, Energy=-0.0000018+0.0000000j ± 0.0000015 [σ²=0.0000000]]"
     ]
    },
    {
     "name": "stdout",
     "output_type": "stream",
     "text": [
      "--->> cal O and jac  0.04066944122314453\n",
      "compute_update  0.04327058792114258\n",
      "(0.006834663875629409+0j)\n",
      "n_discard =  144\n",
      "discard samples 0.763634443283081\n",
      "n_samples_node =  1000\n",
      "generate_samples :  0.4562845230102539\n",
      "     prepare getting local values 0.001779794692993164\n",
      "     obtained local values 0.005156517028808594\n",
      "get_mc_stats 0.006929159164428711\n"
     ]
    },
    {
     "name": "stderr",
     "output_type": "stream",
     "text": [
      " 92%|█████████▏| 924/1000 [20:19<01:39,  1.31s/it, Energy=0.0000004+0.0000000j ± 0.0000016 [σ²=0.0000000]] "
     ]
    },
    {
     "name": "stdout",
     "output_type": "stream",
     "text": [
      "--->> cal O and jac  0.03740835189819336\n",
      "compute_update  0.04073977470397949\n",
      "(0.006834890161367147+0j)\n",
      "n_discard =  144\n",
      "discard samples 0.7583024501800537\n",
      "n_samples_node =  1000\n",
      "generate_samples :  0.4456450939178467\n",
      "     prepare getting local values 0.00136566162109375\n",
      "     obtained local values 0.004890918731689453\n",
      "get_mc_stats 0.006906747817993164\n"
     ]
    },
    {
     "name": "stderr",
     "output_type": "stream",
     "text": [
      " 92%|█████████▎| 925/1000 [20:20<01:37,  1.29s/it, Energy=-0.0000040+0.0000000j ± 0.0000013 [σ²=0.0000000]]"
     ]
    },
    {
     "name": "stdout",
     "output_type": "stream",
     "text": [
      "--->> cal O and jac  0.03792309761047363\n",
      "compute_update  0.04204583168029785\n",
      "(0.0068348163637782615+0j)\n",
      "n_discard =  144\n",
      "discard samples 0.7567782402038574\n",
      "n_samples_node =  1000\n",
      "generate_samples :  0.46120715141296387\n",
      "     prepare getting local values 0.0023026466369628906\n",
      "     obtained local values 0.008161067962646484\n",
      "get_mc_stats 0.010483503341674805\n"
     ]
    },
    {
     "name": "stderr",
     "output_type": "stream",
     "text": [
      " 93%|█████████▎| 926/1000 [20:21<01:35,  1.29s/it, Energy=-0.0000025+0.0000000j ± 0.0000012 [σ²=0.0000000]]"
     ]
    },
    {
     "name": "stdout",
     "output_type": "stream",
     "text": [
      "--->> cal O and jac  0.036466121673583984\n",
      "compute_update  0.04027271270751953\n",
      "(0.006834864026804699+0j)\n",
      "n_discard =  144\n",
      "discard samples 0.7961935997009277\n",
      "n_samples_node =  1000\n",
      "generate_samples :  0.4539346694946289\n",
      "     prepare getting local values 0.0012900829315185547\n",
      "     obtained local values 0.00666046142578125\n",
      "get_mc_stats 0.008438825607299805\n"
     ]
    },
    {
     "name": "stderr",
     "output_type": "stream",
     "text": [
      " 93%|█████████▎| 927/1000 [20:22<01:34,  1.29s/it, Energy=-0.0000025+0.0000000j ± 0.0000015 [σ²=0.0000000]]"
     ]
    },
    {
     "name": "stdout",
     "output_type": "stream",
     "text": [
      "--->> cal O and jac  0.03961467742919922\n",
      "compute_update  0.042894840240478516\n",
      "(0.006835086636218077+0j)\n",
      "n_discard =  144\n",
      "discard samples 0.76255202293396\n",
      "n_samples_node =  1000\n",
      "generate_samples :  0.4577004909515381\n",
      "     prepare getting local values 0.002198934555053711\n",
      "     obtained local values 0.008209943771362305\n",
      "get_mc_stats 0.009804487228393555\n"
     ]
    },
    {
     "name": "stderr",
     "output_type": "stream",
     "text": [
      " 93%|█████████▎| 928/1000 [20:24<01:32,  1.29s/it, Energy=-0.0000019+0.0000000j ± 0.0000013 [σ²=0.0000000]]"
     ]
    },
    {
     "name": "stdout",
     "output_type": "stream",
     "text": [
      "--->> cal O and jac  0.03774738311767578\n",
      "compute_update  0.04094099998474121\n",
      "(0.00683494158328367+0j)\n",
      "n_discard =  144\n",
      "discard samples 0.8688485622406006\n",
      "n_samples_node =  1000\n",
      "generate_samples :  0.6104750633239746\n",
      "     prepare getting local values 0.002643108367919922\n",
      "     obtained local values 0.008405685424804688\n",
      "get_mc_stats 0.011078596115112305\n"
     ]
    },
    {
     "name": "stderr",
     "output_type": "stream",
     "text": [
      " 93%|█████████▎| 929/1000 [20:25<01:36,  1.36s/it, Energy=-0.0000019+0.0000000j ± 0.0000013 [σ²=0.0000000]]"
     ]
    },
    {
     "name": "stdout",
     "output_type": "stream",
     "text": [
      "--->> cal O and jac  0.037629127502441406\n",
      "compute_update  0.03975534439086914\n",
      "(0.006834846496438636+0j)\n",
      "n_discard =  144\n",
      "discard samples 1.0312128067016602\n",
      "n_samples_node =  1000\n",
      "generate_samples :  0.5586080551147461\n",
      "     prepare getting local values 0.002750396728515625\n",
      "     obtained local values 0.009747028350830078\n",
      "get_mc_stats 0.01226043701171875\n"
     ]
    },
    {
     "name": "stderr",
     "output_type": "stream",
     "text": [
      " 93%|█████████▎| 930/1000 [20:27<01:41,  1.44s/it, Energy=-0.0000005+0.0000000j ± 0.0000014 [σ²=0.0000000]]"
     ]
    },
    {
     "name": "stdout",
     "output_type": "stream",
     "text": [
      "--->> cal O and jac  0.03510570526123047\n",
      "compute_update  0.03733038902282715\n",
      "(0.00683522011407656+0j)\n",
      "n_discard =  144\n",
      "discard samples 1.049879789352417\n",
      "n_samples_node =  1000\n",
      "generate_samples :  0.45182228088378906\n",
      "     prepare getting local values 0.0017910003662109375\n",
      "     obtained local values 0.00515437126159668\n",
      "get_mc_stats 0.007574319839477539\n"
     ]
    },
    {
     "name": "stderr",
     "output_type": "stream",
     "text": [
      " 93%|█████████▎| 931/1000 [20:28<01:41,  1.48s/it, Energy=-0.0000013+0.0000000j ± 0.0000014 [σ²=0.0000000]]"
     ]
    },
    {
     "name": "stdout",
     "output_type": "stream",
     "text": [
      "--->> cal O and jac  0.0388035774230957\n",
      "compute_update  0.042687177658081055\n",
      "(0.006835354618442315+0j)\n",
      "n_discard =  144\n",
      "discard samples 0.7594869136810303\n",
      "n_samples_node =  1000\n",
      "generate_samples :  0.4506237506866455\n",
      "     prepare getting local values 0.0012998580932617188\n",
      "     obtained local values 0.004673480987548828\n",
      "get_mc_stats 0.006443500518798828\n"
     ]
    },
    {
     "name": "stderr",
     "output_type": "stream",
     "text": [
      " 93%|█████████▎| 932/1000 [20:30<01:36,  1.41s/it, Energy=0.0000021+0.0000000j ± 0.0000017 [σ²=0.0000000]] "
     ]
    },
    {
     "name": "stdout",
     "output_type": "stream",
     "text": [
      "--->> cal O and jac  0.03754854202270508\n",
      "compute_update  0.0414731502532959\n",
      "(0.006835271928698374+0j)\n",
      "n_discard =  144\n",
      "discard samples 0.7723562717437744\n",
      "n_samples_node =  1000\n",
      "generate_samples :  0.45209431648254395\n",
      "     prepare getting local values 0.0013399124145507812\n",
      "     obtained local values 0.004822969436645508\n",
      "get_mc_stats 0.006779670715332031\n"
     ]
    },
    {
     "name": "stderr",
     "output_type": "stream",
     "text": [
      " 93%|█████████▎| 933/1000 [20:31<01:31,  1.37s/it, Energy=0.0000012+0.0000000j ± 0.0000016 [σ²=0.0000000]]"
     ]
    },
    {
     "name": "stdout",
     "output_type": "stream",
     "text": [
      "--->> cal O and jac  0.03921055793762207\n",
      "compute_update  0.04151010513305664\n",
      "(0.0068354079375273135+0j)\n",
      "n_discard =  144\n",
      "discard samples 0.7581074237823486\n",
      "n_samples_node =  1000\n",
      "generate_samples :  0.4543745517730713\n",
      "     prepare getting local values 0.0013730525970458984\n",
      "     obtained local values 0.004850625991821289\n",
      "get_mc_stats 0.006675243377685547\n"
     ]
    },
    {
     "name": "stderr",
     "output_type": "stream",
     "text": [
      " 93%|█████████▎| 934/1000 [20:32<01:28,  1.34s/it, Energy=-0.0000009+0.0000000j ± 0.0000014 [σ²=0.0000000]]"
     ]
    },
    {
     "name": "stdout",
     "output_type": "stream",
     "text": [
      "--->> cal O and jac  0.043405771255493164\n",
      "compute_update  0.047384023666381836\n",
      "(0.006835203235899947+0j)\n",
      "n_discard =  144\n",
      "discard samples 0.7600483894348145\n",
      "n_samples_node =  1000\n",
      "generate_samples :  0.45110559463500977\n",
      "     prepare getting local values 0.0013790130615234375\n",
      "     obtained local values 0.004983425140380859\n",
      "get_mc_stats 0.006667613983154297\n"
     ]
    },
    {
     "name": "stderr",
     "output_type": "stream",
     "text": [
      " 94%|█████████▎| 935/1000 [20:34<01:25,  1.32s/it, Energy=0.0000002+0.0000000j ± 0.0000016 [σ²=0.0000000]] "
     ]
    },
    {
     "name": "stdout",
     "output_type": "stream",
     "text": [
      "--->> cal O and jac  0.037197113037109375\n",
      "compute_update  0.03940629959106445\n",
      "(0.006835121331122815+0j)\n",
      "n_discard =  144\n",
      "discard samples 0.8731687068939209\n",
      "n_samples_node =  1000\n",
      "generate_samples :  0.44802021980285645\n",
      "     prepare getting local values 0.0015289783477783203\n",
      "     obtained local values 0.00509953498840332\n",
      "get_mc_stats 0.007001638412475586\n"
     ]
    },
    {
     "name": "stderr",
     "output_type": "stream",
     "text": [
      " 94%|█████████▎| 936/1000 [20:35<01:25,  1.33s/it, Energy=-0.0000017+0.0000000j ± 0.0000018 [σ²=0.0000000]]"
     ]
    },
    {
     "name": "stdout",
     "output_type": "stream",
     "text": [
      "--->> cal O and jac  0.04038667678833008\n",
      "compute_update  0.04266023635864258\n",
      "(0.006835095422749957+0j)\n",
      "n_discard =  144\n",
      "discard samples 0.756751298904419\n",
      "n_samples_node =  1000\n",
      "generate_samples :  0.4601597785949707\n",
      "     prepare getting local values 0.001341104507446289\n",
      "     obtained local values 0.0048825740814208984\n",
      "get_mc_stats 0.007100343704223633\n"
     ]
    },
    {
     "name": "stderr",
     "output_type": "stream",
     "text": [
      " 94%|█████████▎| 937/1000 [20:36<01:22,  1.31s/it, Energy=0.0000015+0.0000000j ± 0.0000013 [σ²=0.0000000]] "
     ]
    },
    {
     "name": "stdout",
     "output_type": "stream",
     "text": [
      "--->> cal O and jac  0.03897833824157715\n",
      "compute_update  0.0429987907409668\n",
      "(0.006835101108510215+0j)\n",
      "n_discard =  144\n",
      "discard samples 0.761798620223999\n",
      "n_samples_node =  1000\n",
      "generate_samples :  0.4505350589752197\n",
      "     prepare getting local values 0.0013320446014404297\n",
      "     obtained local values 0.004807233810424805\n",
      "get_mc_stats 0.0062677860260009766\n"
     ]
    },
    {
     "name": "stderr",
     "output_type": "stream",
     "text": [
      " 94%|█████████▍| 938/1000 [20:37<01:20,  1.30s/it, Energy=-0.0000018+0.0000000j ± 0.0000015 [σ²=0.0000000]]"
     ]
    },
    {
     "name": "stdout",
     "output_type": "stream",
     "text": [
      "--->> cal O and jac  0.03694033622741699\n",
      "compute_update  0.0392155647277832\n",
      "(0.006834861538431753+0j)\n",
      "n_discard =  144\n",
      "discard samples 0.9417774677276611\n",
      "n_samples_node =  1000\n",
      "generate_samples :  0.5984048843383789\n",
      "     prepare getting local values 0.0020058155059814453\n",
      "     obtained local values 0.007275819778442383\n",
      "get_mc_stats 0.009696245193481445\n"
     ]
    },
    {
     "name": "stderr",
     "output_type": "stream",
     "text": [
      " 94%|█████████▍| 939/1000 [20:39<01:24,  1.38s/it, Energy=-0.0000010+0.0000000j ± 0.0000014 [σ²=0.0000000]]"
     ]
    },
    {
     "name": "stdout",
     "output_type": "stream",
     "text": [
      "--->> cal O and jac  0.03369140625\n",
      "compute_update  0.03641176223754883\n",
      "(0.006835218315593346+0j)\n",
      "n_discard =  144\n",
      "discard samples 0.8020083904266357\n",
      "n_samples_node =  1000\n",
      "generate_samples :  0.45191311836242676\n",
      "     prepare getting local values 0.002706766128540039\n",
      "     obtained local values 0.007046937942504883\n",
      "get_mc_stats 0.009989023208618164\n"
     ]
    },
    {
     "name": "stderr",
     "output_type": "stream",
     "text": [
      " 94%|█████████▍| 940/1000 [20:40<01:21,  1.36s/it, Energy=0.0000011+0.0000000j ± 0.0000019 [σ²=0.0000000]] "
     ]
    },
    {
     "name": "stdout",
     "output_type": "stream",
     "text": [
      "--->> cal O and jac  0.037303924560546875\n",
      "compute_update  0.03986477851867676\n",
      "(0.006835431214800648+0j)\n",
      "n_discard =  144\n",
      "discard samples 0.7533020973205566\n",
      "n_samples_node =  1000\n",
      "generate_samples :  0.4552624225616455\n",
      "     prepare getting local values 0.0012979507446289062\n",
      "     obtained local values 0.0066301822662353516\n",
      "get_mc_stats 0.008698225021362305\n"
     ]
    },
    {
     "name": "stderr",
     "output_type": "stream",
     "text": [
      " 94%|█████████▍| 941/1000 [20:42<01:18,  1.33s/it, Energy=-0.0000009+0.0000000j ± 0.0000015 [σ²=0.0000000]]"
     ]
    },
    {
     "name": "stdout",
     "output_type": "stream",
     "text": [
      "--->> cal O and jac  0.039908647537231445\n",
      "compute_update  0.04301190376281738\n",
      "(0.006835568680063053+0j)\n",
      "n_discard =  144\n",
      "discard samples 0.7574131488800049\n",
      "n_samples_node =  1000\n",
      "generate_samples :  0.45730042457580566\n",
      "     prepare getting local values 0.0013358592987060547\n",
      "     obtained local values 0.004705905914306641\n",
      "get_mc_stats 0.0065724849700927734\n"
     ]
    },
    {
     "name": "stderr",
     "output_type": "stream",
     "text": [
      " 94%|█████████▍| 942/1000 [20:43<01:15,  1.31s/it, Energy=0.0000002+0.0000000j ± 0.0000017 [σ²=0.0000000]] "
     ]
    },
    {
     "name": "stdout",
     "output_type": "stream",
     "text": [
      "--->> cal O and jac  0.03574991226196289\n",
      "compute_update  0.03804326057434082\n",
      "(0.006835749519872554+0j)\n",
      "n_discard =  144\n",
      "discard samples 0.8111541271209717\n",
      "n_samples_node =  1000\n",
      "generate_samples :  0.45259857177734375\n",
      "     prepare getting local values 0.0013167858123779297\n",
      "     obtained local values 0.004672050476074219\n",
      "get_mc_stats 0.006454944610595703\n"
     ]
    },
    {
     "name": "stderr",
     "output_type": "stream",
     "text": [
      " 94%|█████████▍| 943/1000 [20:44<01:14,  1.31s/it, Energy=0.0000014+0.0000000j ± 0.0000017 [σ²=0.0000000]]"
     ]
    },
    {
     "name": "stdout",
     "output_type": "stream",
     "text": [
      "--->> cal O and jac  0.0354769229888916\n",
      "compute_update  0.0376439094543457\n",
      "(0.006835499178182712+0j)\n",
      "n_discard =  144\n",
      "discard samples 0.748612642288208\n",
      "n_samples_node =  1000\n",
      "generate_samples :  0.45276784896850586\n",
      "     prepare getting local values 0.0013523101806640625\n",
      "     obtained local values 0.004817962646484375\n",
      "get_mc_stats 0.0066759586334228516\n"
     ]
    },
    {
     "name": "stderr",
     "output_type": "stream",
     "text": [
      " 94%|█████████▍| 944/1000 [20:45<01:12,  1.29s/it, Energy=0.0000009+0.0000000j ± 0.0000014 [σ²=0.0000000]]"
     ]
    },
    {
     "name": "stdout",
     "output_type": "stream",
     "text": [
      "--->> cal O and jac  0.03885173797607422\n",
      "compute_update  0.04122161865234375\n",
      "(0.0068355167669640025+0j)\n",
      "n_discard =  144\n",
      "discard samples 0.7637007236480713\n",
      "n_samples_node =  1000\n",
      "generate_samples :  0.4572725296020508\n",
      "     prepare getting local values 0.0026590824127197266\n",
      "     obtained local values 0.009821653366088867\n",
      "get_mc_stats 0.011828422546386719\n"
     ]
    },
    {
     "name": "stderr",
     "output_type": "stream",
     "text": [
      " 94%|█████████▍| 945/1000 [20:47<01:10,  1.29s/it, Energy=-0.0000001+0.0000000j ± 0.0000014 [σ²=0.0000000]]"
     ]
    },
    {
     "name": "stdout",
     "output_type": "stream",
     "text": [
      "--->> cal O and jac  0.03779339790344238\n",
      "compute_update  0.04012155532836914\n",
      "(0.006835420956110991+0j)\n",
      "n_discard =  144\n",
      "discard samples 0.7549314498901367\n",
      "n_samples_node =  1000\n",
      "generate_samples :  0.4506089687347412\n",
      "     prepare getting local values 0.001313924789428711\n",
      "     obtained local values 0.0047833919525146484\n",
      "get_mc_stats 0.006545305252075195\n"
     ]
    },
    {
     "name": "stderr",
     "output_type": "stream",
     "text": [
      " 95%|█████████▍| 946/1000 [20:48<01:08,  1.28s/it, Energy=0.0000021+0.0000000j ± 0.0000016 [σ²=0.0000000]] "
     ]
    },
    {
     "name": "stdout",
     "output_type": "stream",
     "text": [
      "--->> cal O and jac  0.03851056098937988\n",
      "compute_update  0.04266858100891113\n",
      "(0.006835326132568128+0j)\n",
      "n_discard =  144\n",
      "discard samples 0.7584586143493652\n",
      "n_samples_node =  1000\n",
      "generate_samples :  0.44893598556518555\n",
      "     prepare getting local values 0.0022089481353759766\n",
      "     obtained local values 0.008329153060913086\n",
      "get_mc_stats 0.010452747344970703\n"
     ]
    },
    {
     "name": "stderr",
     "output_type": "stream",
     "text": [
      " 95%|█████████▍| 947/1000 [20:49<01:07,  1.27s/it, Energy=0.0000003+0.0000000j ± 0.0000014 [σ²=0.0000000]]"
     ]
    },
    {
     "name": "stdout",
     "output_type": "stream",
     "text": [
      "--->> cal O and jac  0.0402989387512207\n",
      "compute_update  0.04255485534667969\n",
      "(0.006835250379346122+0j)\n",
      "n_discard =  144\n",
      "discard samples 0.7772953510284424\n",
      "n_samples_node =  1000\n",
      "generate_samples :  0.46038007736206055\n",
      "     prepare getting local values 0.0013158321380615234\n",
      "     obtained local values 0.004634857177734375\n",
      "get_mc_stats 0.006245136260986328\n"
     ]
    },
    {
     "name": "stderr",
     "output_type": "stream",
     "text": [
      " 95%|█████████▍| 948/1000 [20:50<01:06,  1.28s/it, Energy=-0.0000006+0.0000000j ± 0.0000018 [σ²=0.0000000]]"
     ]
    },
    {
     "name": "stdout",
     "output_type": "stream",
     "text": [
      "--->> cal O and jac  0.0372166633605957\n",
      "compute_update  0.039296627044677734\n",
      "(0.0068350497980292175+0j)\n",
      "n_discard =  144\n",
      "discard samples 0.7618207931518555\n",
      "n_samples_node =  1000\n",
      "generate_samples :  0.4698784351348877\n",
      "     prepare getting local values 0.001275777816772461\n",
      "     obtained local values 0.004605531692504883\n",
      "get_mc_stats 0.00644373893737793\n"
     ]
    },
    {
     "name": "stderr",
     "output_type": "stream",
     "text": [
      " 95%|█████████▍| 949/1000 [20:52<01:05,  1.28s/it, Energy=-0.0000008+0.0000000j ± 0.0000017 [σ²=0.0000000]]"
     ]
    },
    {
     "name": "stdout",
     "output_type": "stream",
     "text": [
      "--->> cal O and jac  0.037703514099121094\n",
      "compute_update  0.04082512855529785\n",
      "(0.006834970793198322+0j)\n",
      "n_discard =  144\n",
      "discard samples 0.7641820907592773\n",
      "n_samples_node =  1000\n",
      "generate_samples :  0.45642995834350586\n",
      "     prepare getting local values 0.0027022361755371094\n",
      "     obtained local values 0.006662607192993164\n",
      "get_mc_stats 0.009635210037231445\n"
     ]
    },
    {
     "name": "stderr",
     "output_type": "stream",
     "text": [
      " 95%|█████████▌| 950/1000 [20:53<01:03,  1.28s/it, Energy=-0.0000021+0.0000000j ± 0.0000015 [σ²=0.0000000]]"
     ]
    },
    {
     "name": "stdout",
     "output_type": "stream",
     "text": [
      "--->> cal O and jac  0.03957509994506836\n",
      "compute_update  0.04167652130126953\n",
      "(0.006835091560370489+0j)\n",
      "n_discard =  144\n",
      "discard samples 0.9100899696350098\n",
      "n_samples_node =  1000\n",
      "generate_samples :  0.4599168300628662\n",
      "     prepare getting local values 0.0026543140411376953\n",
      "     obtained local values 0.008989095687866211\n",
      "get_mc_stats 0.01189732551574707\n"
     ]
    },
    {
     "name": "stderr",
     "output_type": "stream",
     "text": [
      " 95%|█████████▌| 951/1000 [20:54<01:04,  1.32s/it, Energy=0.0000010+0.0000000j ± 0.0000018 [σ²=0.0000000]] "
     ]
    },
    {
     "name": "stdout",
     "output_type": "stream",
     "text": [
      "--->> cal O and jac  0.03969550132751465\n",
      "compute_update  0.043657779693603516\n",
      "(0.006835150738489225+0j)\n",
      "n_discard =  144\n",
      "discard samples 0.7607448101043701\n",
      "n_samples_node =  1000\n",
      "generate_samples :  0.45894622802734375\n",
      "     prepare getting local values 0.0027189254760742188\n",
      "     obtained local values 0.009880781173706055\n",
      "get_mc_stats 0.012033462524414062\n"
     ]
    },
    {
     "name": "stderr",
     "output_type": "stream",
     "text": [
      " 95%|█████████▌| 952/1000 [20:56<01:02,  1.31s/it, Energy=-0.0000017+0.0000000j ± 0.0000018 [σ²=0.0000000]]"
     ]
    },
    {
     "name": "stdout",
     "output_type": "stream",
     "text": [
      "--->> cal O and jac  0.03662371635437012\n",
      "compute_update  0.038948774337768555\n",
      "(0.0068347853762468535+0j)\n",
      "n_discard =  144\n",
      "discard samples 0.7651324272155762\n",
      "n_samples_node =  1000\n",
      "generate_samples :  0.47363853454589844\n",
      "     prepare getting local values 0.002310514450073242\n",
      "     obtained local values 0.008474588394165039\n",
      "get_mc_stats 0.010805845260620117\n"
     ]
    },
    {
     "name": "stderr",
     "output_type": "stream",
     "text": [
      " 95%|█████████▌| 953/1000 [20:57<01:01,  1.30s/it, Energy=-0.0000028+0.0000000j ± 0.0000011 [σ²=0.0000000]]"
     ]
    },
    {
     "name": "stdout",
     "output_type": "stream",
     "text": [
      "--->> cal O and jac  0.04066348075866699\n",
      "compute_update  0.04383659362792969\n",
      "(0.006834676251039262+0j)\n",
      "n_discard =  144\n",
      "discard samples 0.7668929100036621\n",
      "n_samples_node =  1000\n",
      "generate_samples :  0.48824548721313477\n",
      "     prepare getting local values 0.0022928714752197266\n",
      "     obtained local values 0.008072137832641602\n",
      "get_mc_stats 0.010387897491455078\n"
     ]
    },
    {
     "name": "stderr",
     "output_type": "stream",
     "text": [
      " 95%|█████████▌| 954/1000 [20:58<01:00,  1.31s/it, Energy=0.0000016+0.0000000j ± 0.0000015 [σ²=0.0000000]] "
     ]
    },
    {
     "name": "stdout",
     "output_type": "stream",
     "text": [
      "--->> cal O and jac  0.03879427909851074\n",
      "compute_update  0.04117560386657715\n",
      "(0.006834964726645567+0j)\n",
      "n_discard =  144\n",
      "discard samples 0.7556774616241455\n",
      "n_samples_node =  1000\n",
      "generate_samples :  0.4464731216430664\n",
      "     prepare getting local values 0.0023088455200195312\n",
      "     obtained local values 0.008269548416137695\n",
      "get_mc_stats 0.010717391967773438\n"
     ]
    },
    {
     "name": "stderr",
     "output_type": "stream",
     "text": [
      " 96%|█████████▌| 955/1000 [21:00<00:58,  1.29s/it, Energy=-0.0000009+0.0000000j ± 0.0000018 [σ²=0.0000000]]"
     ]
    },
    {
     "name": "stdout",
     "output_type": "stream",
     "text": [
      "--->> cal O and jac  0.04048752784729004\n",
      "compute_update  0.04391074180603027\n",
      "(0.006835253419793362+0j)\n",
      "n_discard =  144\n",
      "discard samples 0.7608346939086914\n",
      "n_samples_node =  1000\n",
      "generate_samples :  0.451829195022583\n",
      "     prepare getting local values 0.0013391971588134766\n",
      "     obtained local values 0.0048635005950927734\n",
      "get_mc_stats 0.006913900375366211\n"
     ]
    },
    {
     "name": "stderr",
     "output_type": "stream",
     "text": [
      " 96%|█████████▌| 956/1000 [21:01<00:56,  1.28s/it, Energy=-0.0000016+0.0000000j ± 0.0000016 [σ²=0.0000000]]"
     ]
    },
    {
     "name": "stdout",
     "output_type": "stream",
     "text": [
      "--->> cal O and jac  0.0387876033782959\n",
      "compute_update  0.042725563049316406\n",
      "(0.006835594841079709+0j)\n",
      "n_discard =  144\n",
      "discard samples 0.821040153503418\n",
      "n_samples_node =  1000\n",
      "generate_samples :  0.4557375907897949\n",
      "     prepare getting local values 0.0013065338134765625\n",
      "     obtained local values 0.004686832427978516\n",
      "get_mc_stats 0.006383180618286133\n"
     ]
    },
    {
     "name": "stderr",
     "output_type": "stream",
     "text": [
      " 96%|█████████▌| 957/1000 [21:02<00:55,  1.30s/it, Energy=0.0000017+0.0000000j ± 0.0000015 [σ²=0.0000000]] "
     ]
    },
    {
     "name": "stdout",
     "output_type": "stream",
     "text": [
      "--->> cal O and jac  0.04388308525085449\n",
      "compute_update  0.047559261322021484\n",
      "(0.006835283702232963+0j)\n",
      "n_discard =  144\n",
      "discard samples 0.7603366374969482\n",
      "n_samples_node =  1000\n",
      "generate_samples :  0.4537327289581299\n",
      "     prepare getting local values 0.0012671947479248047\n",
      "     obtained local values 0.004588603973388672\n",
      "get_mc_stats 0.0062007904052734375\n"
     ]
    },
    {
     "name": "stderr",
     "output_type": "stream",
     "text": [
      " 96%|█████████▌| 958/1000 [21:03<00:54,  1.29s/it, Energy=0.0000014+0.0000000j ± 0.0000019 [σ²=0.0000000]]"
     ]
    },
    {
     "name": "stdout",
     "output_type": "stream",
     "text": [
      "--->> cal O and jac  0.03634166717529297\n",
      "compute_update  0.03869295120239258\n",
      "(0.00683539938192405+0j)\n",
      "n_discard =  144\n",
      "discard samples 0.7615132331848145\n",
      "n_samples_node =  1000\n",
      "generate_samples :  0.4566924571990967\n",
      "     prepare getting local values 0.001371145248413086\n",
      "     obtained local values 0.0048961639404296875\n",
      "get_mc_stats 0.006862640380859375\n"
     ]
    },
    {
     "name": "stderr",
     "output_type": "stream",
     "text": [
      " 96%|█████████▌| 959/1000 [21:05<00:52,  1.28s/it, Energy=-0.0000010+0.0000000j ± 0.0000014 [σ²=0.0000000]]"
     ]
    },
    {
     "name": "stdout",
     "output_type": "stream",
     "text": [
      "--->> cal O and jac  0.03563117980957031\n",
      "compute_update  0.03806591033935547\n",
      "(0.006835191523293683+0j)\n",
      "n_discard =  144\n",
      "discard samples 0.7927353382110596\n",
      "n_samples_node =  1000\n",
      "generate_samples :  0.46645212173461914\n",
      "     prepare getting local values 0.0018672943115234375\n",
      "     obtained local values 0.005374431610107422\n",
      "get_mc_stats 0.007860183715820312\n"
     ]
    },
    {
     "name": "stderr",
     "output_type": "stream",
     "text": [
      " 96%|█████████▌| 960/1000 [21:06<00:51,  1.29s/it, Energy=-0.0000011+0.0000000j ± 0.0000014 [σ²=0.0000000]]"
     ]
    },
    {
     "name": "stdout",
     "output_type": "stream",
     "text": [
      "--->> cal O and jac  0.03767538070678711\n",
      "compute_update  0.0405271053314209\n",
      "(0.006835256469133893+0j)\n",
      "n_discard =  144\n",
      "discard samples 0.7754030227661133\n",
      "n_samples_node =  1000\n",
      "generate_samples :  0.45900774002075195\n",
      "     prepare getting local values 0.0014116764068603516\n",
      "     obtained local values 0.004986763000488281\n",
      "get_mc_stats 0.006857872009277344\n"
     ]
    },
    {
     "name": "stderr",
     "output_type": "stream",
     "text": [
      " 96%|█████████▌| 961/1000 [21:07<00:50,  1.29s/it, Energy=-0.0000005+0.0000000j ± 0.0000017 [σ²=0.0000000]]"
     ]
    },
    {
     "name": "stdout",
     "output_type": "stream",
     "text": [
      "--->> cal O and jac  0.03877854347229004\n",
      "compute_update  0.04188942909240723\n",
      "(0.006835149607699569+0j)\n",
      "n_discard =  144\n",
      "discard samples 1.0465011596679688\n",
      "n_samples_node =  1000\n",
      "generate_samples :  0.45754504203796387\n",
      "     prepare getting local values 0.0026149749755859375\n",
      "     obtained local values 0.007639169692993164\n",
      "get_mc_stats 0.010422229766845703\n"
     ]
    },
    {
     "name": "stderr",
     "output_type": "stream",
     "text": [
      " 96%|█████████▌| 962/1000 [21:09<00:51,  1.37s/it, Energy=-0.0000004+0.0000000j ± 0.0000014 [σ²=0.0000000]]"
     ]
    },
    {
     "name": "stdout",
     "output_type": "stream",
     "text": [
      "--->> cal O and jac  0.0364072322845459\n",
      "compute_update  0.03985953330993652\n",
      "(0.0068353720645552+0j)\n",
      "n_discard =  144\n",
      "discard samples 0.7660610675811768\n",
      "n_samples_node =  1000\n",
      "generate_samples :  0.4544515609741211\n",
      "     prepare getting local values 0.0019032955169677734\n",
      "     obtained local values 0.00566554069519043\n",
      "get_mc_stats 0.008177042007446289\n"
     ]
    },
    {
     "name": "stderr",
     "output_type": "stream",
     "text": [
      " 96%|█████████▋| 963/1000 [21:10<00:49,  1.34s/it, Energy=-0.0000027+0.0000000j ± 0.0000016 [σ²=0.0000000]]"
     ]
    },
    {
     "name": "stdout",
     "output_type": "stream",
     "text": [
      "--->> cal O and jac  0.03960466384887695\n",
      "compute_update  0.0434873104095459\n",
      "(0.006835500603244113+0j)\n",
      "n_discard =  144\n",
      "discard samples 0.7728118896484375\n",
      "n_samples_node =  1000\n",
      "generate_samples :  0.46418237686157227\n",
      "     prepare getting local values 0.0022928714752197266\n",
      "     obtained local values 0.008367061614990234\n",
      "get_mc_stats 0.011194467544555664\n"
     ]
    },
    {
     "name": "stderr",
     "output_type": "stream",
     "text": [
      " 96%|█████████▋| 964/1000 [21:11<00:47,  1.33s/it, Energy=0.0000015+0.0000000j ± 0.0000016 [σ²=0.0000000]] "
     ]
    },
    {
     "name": "stdout",
     "output_type": "stream",
     "text": [
      "--->> cal O and jac  0.037854671478271484\n",
      "compute_update  0.04142498970031738\n",
      "(0.006835630428200243+0j)\n",
      "n_discard =  144\n",
      "discard samples 0.870697021484375\n",
      "n_samples_node =  1000\n",
      "generate_samples :  0.6202337741851807\n",
      "     prepare getting local values 0.002656698226928711\n",
      "     obtained local values 0.009418725967407227\n",
      "get_mc_stats 0.012549877166748047\n"
     ]
    },
    {
     "name": "stderr",
     "output_type": "stream",
     "text": [
      " 96%|█████████▋| 965/1000 [21:13<00:48,  1.39s/it, Energy=-0.0000021+0.0000000j ± 0.0000012 [σ²=0.0000000]]"
     ]
    },
    {
     "name": "stdout",
     "output_type": "stream",
     "text": [
      "--->> cal O and jac  0.03551340103149414\n",
      "compute_update  0.037906646728515625\n",
      "(0.006835394263240323+0j)\n",
      "n_discard =  144\n",
      "discard samples 0.7872281074523926\n",
      "n_samples_node =  1000\n",
      "generate_samples :  0.6259002685546875\n",
      "     prepare getting local values 0.0022492408752441406\n",
      "     obtained local values 0.008027315139770508\n",
      "get_mc_stats 0.010605096817016602\n"
     ]
    },
    {
     "name": "stderr",
     "output_type": "stream",
     "text": [
      " 97%|█████████▋| 966/1000 [21:14<00:48,  1.41s/it, Energy=0.0000000+0.0000000j ± 0.0000018 [σ²=0.0000000]] "
     ]
    },
    {
     "name": "stdout",
     "output_type": "stream",
     "text": [
      "--->> cal O and jac  0.0384371280670166\n",
      "compute_update  0.04186296463012695\n",
      "(0.006835470154112812+0j)\n",
      "n_discard =  144\n",
      "discard samples 0.7679681777954102\n",
      "n_samples_node =  1000\n",
      "generate_samples :  0.6251730918884277\n",
      "     prepare getting local values 0.0026459693908691406\n",
      "     obtained local values 0.006674528121948242\n",
      "get_mc_stats 0.009716510772705078\n"
     ]
    },
    {
     "name": "stderr",
     "output_type": "stream",
     "text": [
      " 97%|█████████▋| 967/1000 [21:16<00:46,  1.42s/it, Energy=0.0000023+0.0000000j ± 0.0000016 [σ²=0.0000000]]"
     ]
    },
    {
     "name": "stdout",
     "output_type": "stream",
     "text": [
      "--->> cal O and jac  0.03657388687133789\n",
      "compute_update  0.03863525390625\n",
      "(0.006835513288623904+0j)\n",
      "n_discard =  144\n",
      "discard samples 0.8214626312255859\n",
      "n_samples_node =  1000\n",
      "generate_samples :  0.46552395820617676\n",
      "     prepare getting local values 0.002714872360229492\n",
      "     obtained local values 0.0062408447265625\n",
      "get_mc_stats 0.008965253829956055\n"
     ]
    },
    {
     "name": "stderr",
     "output_type": "stream",
     "text": [
      " 97%|█████████▋| 968/1000 [21:17<00:44,  1.40s/it, Energy=-0.0000009+0.0000000j ± 0.0000014 [σ²=0.0000000]]"
     ]
    },
    {
     "name": "stdout",
     "output_type": "stream",
     "text": [
      "--->> cal O and jac  0.038535356521606445\n",
      "compute_update  0.04196476936340332\n",
      "(0.006835611971810849+0j)\n",
      "n_discard =  144\n",
      "discard samples 0.7696881294250488\n",
      "n_samples_node =  1000\n",
      "generate_samples :  0.46897268295288086\n",
      "     prepare getting local values 0.0026352405548095703\n",
      "     obtained local values 0.008607625961303711\n",
      "get_mc_stats 0.011373758316040039\n"
     ]
    },
    {
     "name": "stderr",
     "output_type": "stream",
     "text": [
      " 97%|█████████▋| 969/1000 [21:19<00:42,  1.37s/it, Energy=-0.0000013+0.0000000j ± 0.0000016 [σ²=0.0000000]]"
     ]
    },
    {
     "name": "stdout",
     "output_type": "stream",
     "text": [
      "--->> cal O and jac  0.040799617767333984\n",
      "compute_update  0.04313302040100098\n",
      "(0.006835525074053407+0j)\n",
      "n_discard =  144\n",
      "discard samples 0.8016974925994873\n",
      "n_samples_node =  1000\n",
      "generate_samples :  0.46945834159851074\n",
      "     prepare getting local values 0.0012829303741455078\n",
      "     obtained local values 0.0072977542877197266\n",
      "get_mc_stats 0.00882101058959961\n"
     ]
    },
    {
     "name": "stderr",
     "output_type": "stream",
     "text": [
      " 97%|█████████▋| 970/1000 [21:20<00:40,  1.35s/it, Energy=-0.0000004+0.0000000j ± 0.0000016 [σ²=0.0000000]]"
     ]
    },
    {
     "name": "stdout",
     "output_type": "stream",
     "text": [
      "--->> cal O and jac  0.03707551956176758\n",
      "compute_update  0.03933310508728027\n",
      "(0.006835141441198094+0j)\n",
      "n_discard =  144\n",
      "discard samples 0.7673821449279785\n",
      "n_samples_node =  1000\n",
      "generate_samples :  0.5947537422180176\n",
      "     prepare getting local values 0.002339601516723633\n",
      "     obtained local values 0.008550167083740234\n",
      "get_mc_stats 0.011586427688598633\n"
     ]
    },
    {
     "name": "stderr",
     "output_type": "stream",
     "text": [
      " 97%|█████████▋| 971/1000 [21:21<00:39,  1.37s/it, Energy=-0.0000003+0.0000000j ± 0.0000016 [σ²=0.0000000]]"
     ]
    },
    {
     "name": "stdout",
     "output_type": "stream",
     "text": [
      "--->> cal O and jac  0.03984355926513672\n",
      "compute_update  0.04221773147583008\n",
      "(0.006835386778765791+0j)\n",
      "n_discard =  144\n",
      "discard samples 0.7688412666320801\n",
      "n_samples_node =  1000\n",
      "generate_samples :  0.45833492279052734\n",
      "     prepare getting local values 0.0012545585632324219\n",
      "     obtained local values 0.004532337188720703\n",
      "get_mc_stats 0.006342649459838867\n"
     ]
    },
    {
     "name": "stderr",
     "output_type": "stream",
     "text": [
      " 97%|█████████▋| 972/1000 [21:23<00:37,  1.34s/it, Energy=0.0000005+0.0000000j ± 0.0000013 [σ²=0.0000000]] "
     ]
    },
    {
     "name": "stdout",
     "output_type": "stream",
     "text": [
      "--->> cal O and jac  0.036777496337890625\n",
      "compute_update  0.03928017616271973\n",
      "(0.006835452046046901+0j)\n",
      "n_discard =  144\n",
      "discard samples 0.7924880981445312\n",
      "n_samples_node =  1000\n",
      "generate_samples :  0.563004732131958\n",
      "     prepare getting local values 0.003041505813598633\n",
      "     obtained local values 0.00852513313293457\n",
      "get_mc_stats 0.01116323471069336\n"
     ]
    },
    {
     "name": "stderr",
     "output_type": "stream",
     "text": [
      " 97%|█████████▋| 973/1000 [21:24<00:36,  1.36s/it, Energy=-0.0000012+0.0000000j ± 0.0000015 [σ²=0.0000000]]"
     ]
    },
    {
     "name": "stdout",
     "output_type": "stream",
     "text": [
      "--->> cal O and jac  0.03938937187194824\n",
      "compute_update  0.0432591438293457\n",
      "(0.0068351490282006246+0j)\n",
      "n_discard =  144\n",
      "discard samples 0.7825198173522949\n",
      "n_samples_node =  1000\n",
      "generate_samples :  0.517101526260376\n",
      "     prepare getting local values 0.002965211868286133\n",
      "     obtained local values 0.0065097808837890625\n",
      "get_mc_stats 0.01030421257019043\n"
     ]
    },
    {
     "name": "stderr",
     "output_type": "stream",
     "text": [
      " 97%|█████████▋| 974/1000 [21:25<00:35,  1.36s/it, Energy=0.0000001+0.0000000j ± 0.0000019 [σ²=0.0000000]] "
     ]
    },
    {
     "name": "stdout",
     "output_type": "stream",
     "text": [
      "--->> cal O and jac  0.036405086517333984\n",
      "compute_update  0.03882551193237305\n",
      "(0.006835052661892691+0j)\n",
      "n_discard =  144\n",
      "discard samples 1.0259640216827393\n",
      "n_samples_node =  1000\n",
      "generate_samples :  0.45929527282714844\n",
      "     prepare getting local values 0.0013394355773925781\n",
      "     obtained local values 0.004704713821411133\n",
      "get_mc_stats 0.0064771175384521484\n"
     ]
    },
    {
     "name": "stderr",
     "output_type": "stream",
     "text": [
      " 98%|█████████▊| 975/1000 [21:27<00:35,  1.41s/it, Energy=-0.0000013+0.0000000j ± 0.0000018 [σ²=0.0000000]]"
     ]
    },
    {
     "name": "stdout",
     "output_type": "stream",
     "text": [
      "--->> cal O and jac  0.03576827049255371\n",
      "compute_update  0.03804492950439453\n",
      "(0.0068350848591583946+0j)\n",
      "n_discard =  144\n",
      "discard samples 0.7741470336914062\n",
      "n_samples_node =  1000\n",
      "generate_samples :  0.485090970993042\n",
      "     prepare getting local values 0.0013887882232666016\n",
      "     obtained local values 0.004918336868286133\n",
      "get_mc_stats 0.007108211517333984\n"
     ]
    },
    {
     "name": "stderr",
     "output_type": "stream",
     "text": [
      " 98%|█████████▊| 976/1000 [21:28<00:33,  1.38s/it, Energy=0.0000031+0.0000000j ± 0.0000017 [σ²=0.0000000]] "
     ]
    },
    {
     "name": "stdout",
     "output_type": "stream",
     "text": [
      "--->> cal O and jac  0.04269146919250488\n",
      "compute_update  0.04490518569946289\n",
      "(0.006835197338910002+0j)\n",
      "n_discard =  144\n",
      "discard samples 0.7631306648254395\n",
      "n_samples_node =  1000\n",
      "generate_samples :  0.4541294574737549\n",
      "     prepare getting local values 0.0021576881408691406\n",
      "     obtained local values 0.005889892578125\n",
      "get_mc_stats 0.00839996337890625\n"
     ]
    },
    {
     "name": "stderr",
     "output_type": "stream",
     "text": [
      " 98%|█████████▊| 977/1000 [21:29<00:31,  1.35s/it, Energy=0.0000003+0.0000000j ± 0.0000016 [σ²=0.0000000]]"
     ]
    },
    {
     "name": "stdout",
     "output_type": "stream",
     "text": [
      "--->> cal O and jac  0.04105854034423828\n",
      "compute_update  0.043256282806396484\n",
      "(0.0068349918530123+0j)\n",
      "n_discard =  144\n",
      "discard samples 1.0671005249023438\n",
      "n_samples_node =  1000\n",
      "generate_samples :  0.4551386833190918\n",
      "     prepare getting local values 0.0013930797576904297\n",
      "     obtained local values 0.004796743392944336\n",
      "get_mc_stats 0.006690263748168945\n"
     ]
    },
    {
     "name": "stderr",
     "output_type": "stream",
     "text": [
      " 98%|█████████▊| 978/1000 [21:31<00:31,  1.42s/it, Energy=0.0000015+0.0000000j ± 0.0000014 [σ²=0.0000000]]"
     ]
    },
    {
     "name": "stdout",
     "output_type": "stream",
     "text": [
      "--->> cal O and jac  0.03877568244934082\n",
      "compute_update  0.04247164726257324\n",
      "(0.006835052588923554+0j)\n",
      "n_discard =  144\n",
      "discard samples 0.7599213123321533\n",
      "n_samples_node =  1000\n",
      "generate_samples :  0.4569857120513916\n",
      "     prepare getting local values 0.002329111099243164\n",
      "     obtained local values 0.008123397827148438\n",
      "get_mc_stats 0.010248184204101562\n"
     ]
    },
    {
     "name": "stderr",
     "output_type": "stream",
     "text": [
      " 98%|█████████▊| 979/1000 [21:32<00:28,  1.37s/it, Energy=-0.0000000+0.0000000j ± 0.0000016 [σ²=0.0000000]]"
     ]
    },
    {
     "name": "stdout",
     "output_type": "stream",
     "text": [
      "--->> cal O and jac  0.03784751892089844\n",
      "compute_update  0.04024195671081543\n",
      "(0.00683483188961647+0j)\n",
      "n_discard =  144\n",
      "discard samples 0.7603862285614014\n",
      "n_samples_node =  1000\n",
      "generate_samples :  0.48568034172058105\n",
      "     prepare getting local values 0.0026597976684570312\n",
      "     obtained local values 0.007142782211303711\n",
      "get_mc_stats 0.00969552993774414\n"
     ]
    },
    {
     "name": "stderr",
     "output_type": "stream",
     "text": [
      " 98%|█████████▊| 980/1000 [21:34<00:27,  1.35s/it, Energy=0.0000010+0.0000000j ± 0.0000016 [σ²=0.0000000]] "
     ]
    },
    {
     "name": "stdout",
     "output_type": "stream",
     "text": [
      "--->> cal O and jac  0.03727412223815918\n",
      "compute_update  0.04011726379394531\n",
      "(0.006835045096158512+0j)\n",
      "n_discard =  144\n",
      "discard samples 0.7619960308074951\n",
      "n_samples_node =  1000\n",
      "generate_samples :  0.4544520378112793\n",
      "     prepare getting local values 0.0013415813446044922\n",
      "     obtained local values 0.0048372745513916016\n",
      "get_mc_stats 0.006723642349243164\n"
     ]
    },
    {
     "name": "stderr",
     "output_type": "stream",
     "text": [
      " 98%|█████████▊| 981/1000 [21:35<00:25,  1.32s/it, Energy=0.0000003+0.0000000j ± 0.0000017 [σ²=0.0000000]]"
     ]
    },
    {
     "name": "stdout",
     "output_type": "stream",
     "text": [
      "--->> cal O and jac  0.03594803810119629\n",
      "compute_update  0.03823494911193848\n",
      "(0.006834836033528719+0j)\n",
      "n_discard =  144\n",
      "discard samples 0.8035340309143066\n",
      "n_samples_node =  1000\n",
      "generate_samples :  0.5725698471069336\n",
      "     prepare getting local values 0.0013623237609863281\n",
      "     obtained local values 0.004828929901123047\n",
      "get_mc_stats 0.006856203079223633\n"
     ]
    },
    {
     "name": "stderr",
     "output_type": "stream",
     "text": [
      " 98%|█████████▊| 982/1000 [21:36<00:24,  1.35s/it, Energy=-0.0000010+0.0000000j ± 0.0000020 [σ²=0.0000000]]"
     ]
    },
    {
     "name": "stdout",
     "output_type": "stream",
     "text": [
      "--->> cal O and jac  0.03462362289428711\n",
      "compute_update  0.03700661659240723\n",
      "(0.006834870283063822+0j)\n",
      "n_discard =  144\n",
      "discard samples 0.7749707698822021\n",
      "n_samples_node =  1000\n",
      "generate_samples :  0.555063009262085\n",
      "     prepare getting local values 0.0013537406921386719\n",
      "     obtained local values 0.004880666732788086\n",
      "get_mc_stats 0.006740093231201172\n"
     ]
    },
    {
     "name": "stderr",
     "output_type": "stream",
     "text": [
      " 98%|█████████▊| 983/1000 [21:38<00:23,  1.36s/it, Energy=0.0000006+0.0000000j ± 0.0000015 [σ²=0.0000000]] "
     ]
    },
    {
     "name": "stdout",
     "output_type": "stream",
     "text": [
      "--->> cal O and jac  0.038323163986206055\n",
      "compute_update  0.040615081787109375\n",
      "(0.006835070999642809+0j)\n",
      "n_discard =  144\n",
      "discard samples 0.967597484588623\n",
      "n_samples_node =  1000\n",
      "generate_samples :  0.4696006774902344\n",
      "     prepare getting local values 0.0014071464538574219\n",
      "     obtained local values 0.005063056945800781\n",
      "get_mc_stats 0.0071566104888916016\n"
     ]
    },
    {
     "name": "stderr",
     "output_type": "stream",
     "text": [
      " 98%|█████████▊| 984/1000 [21:39<00:22,  1.40s/it, Energy=-0.0000009+0.0000000j ± 0.0000016 [σ²=0.0000000]]"
     ]
    },
    {
     "name": "stdout",
     "output_type": "stream",
     "text": [
      "--->> cal O and jac  0.04586625099182129\n",
      "compute_update  0.04948711395263672\n",
      "(0.006834747259828773+0j)\n",
      "n_discard =  144\n",
      "discard samples 0.7691798210144043\n",
      "n_samples_node =  1000\n",
      "generate_samples :  0.4899270534515381\n",
      "     prepare getting local values 0.0013127326965332031\n",
      "     obtained local values 0.004735708236694336\n",
      "get_mc_stats 0.006384372711181641\n"
     ]
    },
    {
     "name": "stderr",
     "output_type": "stream",
     "text": [
      " 98%|█████████▊| 985/1000 [21:40<00:20,  1.37s/it, Energy=-0.0000013+0.0000000j ± 0.0000016 [σ²=0.0000000]]"
     ]
    },
    {
     "name": "stdout",
     "output_type": "stream",
     "text": [
      "--->> cal O and jac  0.03929853439331055\n",
      "compute_update  0.04347109794616699\n",
      "(0.006834575099333122+0j)\n",
      "n_discard =  144\n",
      "discard samples 1.0322363376617432\n",
      "n_samples_node =  1000\n",
      "generate_samples :  0.45513272285461426\n",
      "     prepare getting local values 0.0022296905517578125\n",
      "     obtained local values 0.0076334476470947266\n",
      "get_mc_stats 0.010016441345214844\n"
     ]
    },
    {
     "name": "stderr",
     "output_type": "stream",
     "text": [
      " 99%|█████████▊| 986/1000 [21:42<00:19,  1.42s/it, Energy=0.0000031+0.0000000j ± 0.0000013 [σ²=0.0000000]] "
     ]
    },
    {
     "name": "stdout",
     "output_type": "stream",
     "text": [
      "--->> cal O and jac  0.03525805473327637\n",
      "compute_update  0.0386967658996582\n",
      "(0.006834764175241136+0j)\n",
      "n_discard =  144\n",
      "discard samples 0.7571365833282471\n",
      "n_samples_node =  1000\n",
      "generate_samples :  0.4546239376068115\n",
      "     prepare getting local values 0.0012676715850830078\n",
      "     obtained local values 0.004622220993041992\n",
      "get_mc_stats 0.0066182613372802734\n"
     ]
    },
    {
     "name": "stderr",
     "output_type": "stream",
     "text": [
      " 99%|█████████▊| 987/1000 [21:43<00:17,  1.38s/it, Energy=0.0000009+0.0000000j ± 0.0000012 [σ²=0.0000000]]"
     ]
    },
    {
     "name": "stdout",
     "output_type": "stream",
     "text": [
      "--->> cal O and jac  0.03860044479370117\n",
      "compute_update  0.04218578338623047\n",
      "(0.0068348513376643725+0j)\n",
      "n_discard =  144\n",
      "discard samples 0.801588773727417\n",
      "n_samples_node =  1000\n",
      "generate_samples :  0.4789087772369385\n",
      "     prepare getting local values 0.002664804458618164\n",
      "     obtained local values 0.006830453872680664\n",
      "get_mc_stats 0.009566307067871094\n"
     ]
    },
    {
     "name": "stderr",
     "output_type": "stream",
     "text": [
      " 99%|█████████▉| 988/1000 [21:45<00:16,  1.36s/it, Energy=-0.0000028+0.0000000j ± 0.0000015 [σ²=0.0000000]]"
     ]
    },
    {
     "name": "stdout",
     "output_type": "stream",
     "text": [
      "--->> cal O and jac  0.03741025924682617\n",
      "compute_update  0.039932966232299805\n",
      "(0.006835020893834806+0j)\n",
      "n_discard =  144\n",
      "discard samples 0.8330864906311035\n",
      "n_samples_node =  1000\n",
      "generate_samples :  0.5459690093994141\n",
      "     prepare getting local values 0.0013391971588134766\n",
      "     obtained local values 0.004907846450805664\n",
      "get_mc_stats 0.0063402652740478516\n"
     ]
    },
    {
     "name": "stderr",
     "output_type": "stream",
     "text": [
      " 99%|█████████▉| 989/1000 [21:46<00:15,  1.38s/it, Energy=-0.0000041+0.0000000j ± 0.0000014 [σ²=0.0000000]]"
     ]
    },
    {
     "name": "stdout",
     "output_type": "stream",
     "text": [
      "--->> cal O and jac  0.03357362747192383\n",
      "compute_update  0.0371859073638916\n",
      "(0.00683502304017599+0j)\n",
      "n_discard =  144\n",
      "discard samples 1.0376265048980713\n",
      "n_samples_node =  1000\n",
      "generate_samples :  0.617053747177124\n",
      "     prepare getting local values 0.002466440200805664\n",
      "     obtained local values 0.008549690246582031\n",
      "get_mc_stats 0.011052846908569336\n"
     ]
    },
    {
     "name": "stderr",
     "output_type": "stream",
     "text": [
      " 99%|█████████▉| 990/1000 [21:48<00:14,  1.48s/it, Energy=-0.0000009+0.0000000j ± 0.0000016 [σ²=0.0000000]]"
     ]
    },
    {
     "name": "stdout",
     "output_type": "stream",
     "text": [
      "--->> cal O and jac  0.04295682907104492\n",
      "compute_update  0.04515981674194336\n",
      "(0.006834860727087363+0j)\n",
      "n_discard =  144\n",
      "discard samples 0.7873296737670898\n",
      "n_samples_node =  1000\n",
      "generate_samples :  0.6201896667480469\n",
      "     prepare getting local values 0.0027806758880615234\n",
      "     obtained local values 0.006272077560424805\n",
      "get_mc_stats 0.009453058242797852\n"
     ]
    },
    {
     "name": "stderr",
     "output_type": "stream",
     "text": [
      " 99%|█████████▉| 991/1000 [21:49<00:13,  1.47s/it, Energy=-0.0000009+0.0000000j ± 0.0000017 [σ²=0.0000000]]"
     ]
    },
    {
     "name": "stdout",
     "output_type": "stream",
     "text": [
      "--->> cal O and jac  0.0386204719543457\n",
      "compute_update  0.04195976257324219\n",
      "(0.006834889433856579+0j)\n",
      "n_discard =  144\n",
      "discard samples 0.8803830146789551\n",
      "n_samples_node =  1000\n",
      "generate_samples :  0.4716060161590576\n",
      "     prepare getting local values 0.0013554096221923828\n",
      "     obtained local values 0.004907846450805664\n",
      "get_mc_stats 0.006379604339599609\n"
     ]
    },
    {
     "name": "stderr",
     "output_type": "stream",
     "text": [
      " 99%|█████████▉| 992/1000 [21:51<00:11,  1.45s/it, Energy=-0.0000052+0.0000000j ± 0.0000016 [σ²=0.0000000]]"
     ]
    },
    {
     "name": "stdout",
     "output_type": "stream",
     "text": [
      "--->> cal O and jac  0.03873848915100098\n",
      "compute_update  0.04092717170715332\n",
      "(0.00683529888190992+0j)\n",
      "n_discard =  144\n",
      "discard samples 0.7819218635559082\n",
      "n_samples_node =  1000\n",
      "generate_samples :  0.5759861469268799\n",
      "     prepare getting local values 0.002842426300048828\n",
      "     obtained local values 0.010235071182250977\n",
      "get_mc_stats 0.013262033462524414\n"
     ]
    },
    {
     "name": "stderr",
     "output_type": "stream",
     "text": [
      " 99%|█████████▉| 993/1000 [21:52<00:10,  1.44s/it, Energy=0.0000012+0.0000000j ± 0.0000015 [σ²=0.0000000]] "
     ]
    },
    {
     "name": "stdout",
     "output_type": "stream",
     "text": [
      "--->> cal O and jac  0.03767848014831543\n",
      "compute_update  0.04166722297668457\n",
      "(0.0068354651200997025+0j)\n",
      "n_discard =  144\n",
      "discard samples 0.8263463973999023\n",
      "n_samples_node =  1000\n",
      "generate_samples :  0.5312178134918213\n",
      "     prepare getting local values 0.0013124942779541016\n",
      "     obtained local values 0.0046961307525634766\n",
      "get_mc_stats 0.006542205810546875\n"
     ]
    },
    {
     "name": "stderr",
     "output_type": "stream",
     "text": [
      " 99%|█████████▉| 994/1000 [21:53<00:08,  1.43s/it, Energy=-0.0000010+0.0000000j ± 0.0000014 [σ²=0.0000000]]"
     ]
    },
    {
     "name": "stdout",
     "output_type": "stream",
     "text": [
      "--->> cal O and jac  0.034795284271240234\n",
      "compute_update  0.0392763614654541\n",
      "(0.006835627520455742+0j)\n",
      "n_discard =  144\n",
      "discard samples 0.7827246189117432\n",
      "n_samples_node =  1000\n",
      "generate_samples :  0.462155818939209\n",
      "     prepare getting local values 0.0020904541015625\n",
      "     obtained local values 0.008227825164794922\n",
      "get_mc_stats 0.010148763656616211\n"
     ]
    },
    {
     "name": "stderr",
     "output_type": "stream",
     "text": [
      "100%|█████████▉| 995/1000 [21:55<00:06,  1.39s/it, Energy=-0.0000047+0.0000000j ± 0.0000016 [σ²=0.0000000]]"
     ]
    },
    {
     "name": "stdout",
     "output_type": "stream",
     "text": [
      "--->> cal O and jac  0.03567242622375488\n",
      "compute_update  0.03904151916503906\n",
      "(0.00683555664076322+0j)\n",
      "n_discard =  144\n",
      "discard samples 0.7773251533508301\n",
      "n_samples_node =  1000\n",
      "generate_samples :  0.4655439853668213\n",
      "     prepare getting local values 0.001369476318359375\n",
      "     obtained local values 0.004914522171020508\n",
      "get_mc_stats 0.00697636604309082\n"
     ]
    },
    {
     "name": "stderr",
     "output_type": "stream",
     "text": [
      "100%|█████████▉| 996/1000 [21:56<00:05,  1.36s/it, Energy=-0.0000020+0.0000000j ± 0.0000015 [σ²=0.0000000]]"
     ]
    },
    {
     "name": "stdout",
     "output_type": "stream",
     "text": [
      "--->> cal O and jac  0.041081905364990234\n",
      "compute_update  0.04454922676086426\n",
      "(0.006835454372054337+0j)\n",
      "n_discard =  144\n",
      "discard samples 0.7993543148040771\n",
      "n_samples_node =  1000\n",
      "generate_samples :  0.468780517578125\n",
      "     prepare getting local values 0.0026581287384033203\n",
      "     obtained local values 0.008466720581054688\n",
      "get_mc_stats 0.011121749877929688\n"
     ]
    },
    {
     "name": "stderr",
     "output_type": "stream",
     "text": [
      "100%|█████████▉| 997/1000 [21:57<00:04,  1.35s/it, Energy=-0.0000002+0.0000000j ± 0.0000017 [σ²=0.0000000]]"
     ]
    },
    {
     "name": "stdout",
     "output_type": "stream",
     "text": [
      "--->> cal O and jac  0.03845405578613281\n",
      "compute_update  0.0408322811126709\n",
      "(0.006835222602021929+0j)\n",
      "n_discard =  144\n",
      "discard samples 1.0534474849700928\n",
      "n_samples_node =  1000\n",
      "generate_samples :  0.45519590377807617\n",
      "     prepare getting local values 0.0013675689697265625\n",
      "     obtained local values 0.004855155944824219\n",
      "get_mc_stats 0.006785154342651367\n"
     ]
    },
    {
     "name": "stderr",
     "output_type": "stream",
     "text": [
      "100%|█████████▉| 998/1000 [21:59<00:02,  1.41s/it, Energy=-0.0000015+0.0000000j ± 0.0000013 [σ²=0.0000000]]"
     ]
    },
    {
     "name": "stdout",
     "output_type": "stream",
     "text": [
      "--->> cal O and jac  0.03955268859863281\n",
      "compute_update  0.041619062423706055\n",
      "(0.00683503916059543+0j)\n",
      "n_discard =  144\n",
      "discard samples 0.7734496593475342\n",
      "n_samples_node =  1000\n",
      "generate_samples :  0.45735716819763184\n",
      "     prepare getting local values 0.0013277530670166016\n",
      "     obtained local values 0.005471467971801758\n",
      "get_mc_stats 0.007602691650390625\n"
     ]
    },
    {
     "name": "stderr",
     "output_type": "stream",
     "text": [
      "100%|█████████▉| 999/1000 [22:00<00:01,  1.37s/it, Energy=0.0000003+0.0000000j ± 0.0000020 [σ²=0.0000000]] "
     ]
    },
    {
     "name": "stdout",
     "output_type": "stream",
     "text": [
      "--->> cal O and jac  0.037024736404418945\n",
      "compute_update  0.04061579704284668\n",
      "(0.0068351658426206024+0j)\n",
      "n_discard =  144\n",
      "discard samples 0.7672865390777588\n",
      "n_samples_node =  1000\n",
      "generate_samples :  0.4626891613006592\n",
      "     prepare getting local values 0.0012514591217041016\n",
      "     obtained local values 0.00456547737121582\n",
      "get_mc_stats 0.006329059600830078\n"
     ]
    },
    {
     "name": "stderr",
     "output_type": "stream",
     "text": [
      "100%|██████████| 1000/1000 [22:01<00:00,  1.32s/it, Energy=-0.0000029+0.0000000j ± 0.0000012 [σ²=0.0000000]]"
     ]
    },
    {
     "name": "stdout",
     "output_type": "stream",
     "text": [
      "--->> cal O and jac  0.03894162178039551\n",
      "compute_update  0.041173458099365234\n",
      "(0.006835372933919722+0j)\n"
     ]
    },
    {
     "name": "stderr",
     "output_type": "stream",
     "text": [
      "\n"
     ]
    }
   ],
   "source": [
    "V = 1.0\n",
    "h = 1.0\n",
    "\n",
    "ham = f.dimer_hamiltonian(V = V, h = h ,length=np.array(length))\n",
    "\n",
    "\n",
    "n_jobs = 12\n",
    "sa_mul = nk.sampler.DimerMetropolisLocal_multi(machine=ma, op=op_transition1\n",
    "    , length = length, n_chains=n_chains, sweep_size = sweep_size, kernel = 1, n_jobs=n_jobs)\n",
    "\n",
    "sr = nk.optimizer.SR(ma, diag_shift=5e-3)\n",
    "opt = nk.optimizer.Sgd(ma, learning_rate=0.05, decay_factor = decay_factor ,N = n_iter)\n",
    "\n",
    "gs = nk.Vmc(\n",
    "hamiltonian=ham,\n",
    "sampler=sa_mul,\n",
    "optimizer=opt,\n",
    "n_samples=10**3,\n",
    "sr=sr,\n",
    "n_discard=12*12,\n",
    ")\n",
    "\n",
    "\n",
    "gs.run(n_iter=n_iter)\n",
    "# ma.save(parentdir + '/save/ma/'+name)"
   ]
  },
  {
   "cell_type": "code",
   "execution_count": 16,
   "id": "characteristic-bedroom",
   "metadata": {},
   "outputs": [
    {
     "data": {
      "text/plain": [
       "720"
      ]
     },
     "execution_count": 16,
     "metadata": {},
     "output_type": "execute_result"
    }
   ],
   "source": [
    "12*12*5"
   ]
  },
  {
   "cell_type": "code",
   "execution_count": null,
   "id": "intermediate-mason",
   "metadata": {},
   "outputs": [],
   "source": []
  }
 ],
 "metadata": {
  "kernelspec": {
   "display_name": "Python 3",
   "language": "python",
   "name": "python3"
  },
  "language_info": {
   "codemirror_mode": {
    "name": "ipython",
    "version": 3
   },
   "file_extension": ".py",
   "mimetype": "text/x-python",
   "name": "python",
   "nbconvert_exporter": "python",
   "pygments_lexer": "ipython3",
   "version": "3.8.5"
  }
 },
 "nbformat": 4,
 "nbformat_minor": 5
}
