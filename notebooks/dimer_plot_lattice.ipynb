{
 "cells": [
  {
   "cell_type": "code",
   "execution_count": 1,
   "id": "present-signature",
   "metadata": {},
   "outputs": [],
   "source": [
    "import sys\n",
    "import importlib\n",
    "importlib.reload(sys)\n",
    "sys.path.insert(0,'../')\n",
    "import numpy as np\n",
    "import netket as nk\n",
    "from scripts import functions as f\n",
    "from scripts import new_dynamics \n",
    "import os\n",
    "currentpath = os.getcwd()\n",
    "parentdir = os.path.dirname(currentpath)"
   ]
  },
  {
   "cell_type": "code",
   "execution_count": 2,
   "id": "floating-congo",
   "metadata": {},
   "outputs": [
    {
     "data": {
      "text/plain": [
       "<module 'scripts.functions' from '../scripts/functions.py'>"
      ]
     },
     "execution_count": 2,
     "metadata": {},
     "output_type": "execute_result"
    }
   ],
   "source": [
    "importlib.reload(f)"
   ]
  },
  {
   "cell_type": "code",
   "execution_count": 3,
   "id": "built-realtor",
   "metadata": {},
   "outputs": [],
   "source": [
    "from conf import *\n",
    "from numba import njit, jit"
   ]
  },
  {
   "cell_type": "code",
   "execution_count": 4,
   "id": "improved-strand",
   "metadata": {
    "scrolled": true
   },
   "outputs": [],
   "source": [
    "# P = np.load(parentdir+'/save/dynamics/h=1.0V=0.9l=[4, 4]/P_n=1.0e+04_1.npy')\n",
    "# T = np.load(parentdir+'/save/dynamics/h=1.0V=0.9l=[12, 12]/T_n=1.0e+04_0.npy')"
   ]
  },
  {
   "cell_type": "code",
   "execution_count": null,
   "id": "after-prefix",
   "metadata": {},
   "outputs": [],
   "source": [
    "length = [20, 20]\n",
    "g = nk.graph.Graph(nodes = [i for i in range(length[0] * length[1] * 2)])\n",
    "hi = nk.hilbert.Spin(s=0.5, graph=g)\n",
    "hex_ = nk.machine.new_hex(np.array(length))\n",
    "\n",
    "\n",
    "l = []\n",
    "for i in range(length[0]):\n",
    "    for j in range(length[1]):\n",
    "        l.append([i, j])\n",
    "l = np.array(l)\n",
    "a = 0\n",
    "a_ = [a for _ in range(np.prod(length))]\n",
    "a = np.array(a_)\n",
    "\n",
    "\n",
    "\n",
    "edges, colors = hex_.dimer_corr(l,a)\n",
    "operators = f.return_spin_corr(hi, edges, colors)\n"
   ]
  },
  {
   "cell_type": "code",
   "execution_count": 8,
   "id": "noted-termination",
   "metadata": {
    "scrolled": true
   },
   "outputs": [],
   "source": [
    "@njit\n",
    "def cal_mels(P, T, t_list):\n",
    "    mels_list = np.zeros((t_list.shape[0],)+P.shape[1:] , dtype=P.dtype)\n",
    "#     num_samples = np.zeros_like(T, dtype=nb.boolean)\n",
    "#     sections = np.zeros(t_list.shape[0])\n",
    "    t_list_ = t_list.reshape(-1,1)\n",
    "\n",
    "    S = 0\n",
    "    for n in range(T.shape[0]-1):\n",
    "        \n",
    "#         A = T <= t_list[n]\n",
    "#         num_samples = np.logical_or(A, )\n",
    "#         ind1, ind2 = np.where(np.logical_xor(A[1:,:],A[:-1,:]))\n",
    "#     #     sections[n] = S\n",
    "#         n_state = ind1.shape[0]\n",
    "\n",
    "        index = np.logical_and(T[n] <= t_list_,  t_list_ < T[n+1])\n",
    "\n",
    "        for i in range(index.shape[1]):\n",
    "            mels_list[index[:,i],i] = P[n,i]\n",
    "    return mels_list"
   ]
  },
  {
   "cell_type": "code",
   "execution_count": 6,
   "id": "square-group",
   "metadata": {},
   "outputs": [],
   "source": [
    "import numpy as np\n",
    "a = np.tan((1/6)*np.pi) * 1/2\n",
    "edge_coors_prime = np.array([\n",
    "    hex_.a((1/2)*np.pi) * a,\n",
    "    hex_.a(np.pi*(2/3)+(1/2)*np.pi) * a,\n",
    "    hex_.a(np.pi*(4/3)+(1/2)*np.pi) * a,\n",
    "])\n",
    "\n",
    "edge_coors = np.array([[ 0.5     ,  0.      ],\n",
    "                       [ 0.25    , -0.433013],\n",
    "                       [ 0.75    , -0.433013]])\n",
    "\n",
    "base_edge = edge_coors[0]\n",
    "x = np.arange(length[0]*2)\n",
    "y = np.arange(length[1]*2)\n",
    "\n",
    "xx, yy = np.meshgrid(x,y)\n",
    "xx = xx.reshape(-1)\n",
    "yy = yy.reshape(-1)\n",
    "edge_coor_array = hex_.ProcessPeriodic(xx[:,None] * hex_.a1[None,:] * 1/2 + yy[:,None]  * hex_.a2[None,:] * 1/2 + base_edge)\n",
    "edges = hex_.edge_coor_to_lattice(edge_coor_array)\n",
    "colors = hex_.get_edge_color(edges)\n",
    "\n",
    "operators = f.return_spin_corr(hi, edges, colors)"
   ]
  },
  {
   "cell_type": "code",
   "execution_count": 7,
   "id": "parallel-infrastructure",
   "metadata": {},
   "outputs": [
    {
     "data": {
      "text/plain": [
       "array([0.5       , 0.28867514])"
      ]
     },
     "execution_count": 7,
     "metadata": {},
     "output_type": "execute_result"
    }
   ],
   "source": [
    "hex_.b1 / 2"
   ]
  },
  {
   "cell_type": "code",
   "execution_count": 8,
   "id": "dressed-indicator",
   "metadata": {},
   "outputs": [],
   "source": [
    "from plotly import graph_objects as go\n",
    "data1 = go.Scatter(\n",
    "    x = hex_.lattice_coor[:,0],\n",
    "    y = hex_.lattice_coor[:,1],\n",
    "    text=[f'{i}' for i in range(np.prod(hex_.l) * 2)],\n",
    "    mode = 'markers+text',\n",
    "    textposition=\"top center\"\n",
    ")\n",
    "\n",
    "data2 = go.Scatter(\n",
    "    x = edge_coor_array[:,0],\n",
    "    y = edge_coor_array[:,1],\n",
    "    mode = 'markers',\n",
    ")\n",
    "\n",
    "fig = go.Figure()\n",
    "fig.add_traces(\n",
    "    [data1, data2]\n",
    ")\n",
    "fig.layout.yaxis = {\n",
    "    'scaleanchor': 'x', 'scaleratio': 1\n",
    "}\n",
    "fig.layout.yaxis.showgrid = False\n",
    "fig.layout.xaxis.showgrid = False\n",
    "fig.write_image(\"fig1.jpeg\")"
   ]
  },
  {
   "cell_type": "code",
   "execution_count": 86,
   "id": "incident-international",
   "metadata": {},
   "outputs": [
    {
     "name": "stdout",
     "output_type": "stream",
     "text": [
      "0\n",
      "1\n",
      "2\n",
      "3\n",
      "4\n",
      "5\n",
      "6\n",
      "7\n",
      "8\n",
      "9\n",
      "10\n",
      "11\n",
      "12\n",
      "13\n",
      "14\n",
      "15\n"
     ]
    }
   ],
   "source": [
    "num_samples = (P_list[:,:,0]!=0).sum(axis=1)\n",
    "P_list_ = P_list.reshape(-1,P_list.shape[-1])\n",
    "sections1 = np.arange(P_list.shape[1])\n",
    "sections2 = np.zeros(P_list_.shape[0])\n",
    "\n",
    "\n",
    "_, mels1 = operators[0].get_conn_flattened(P_list_, sections2)\n",
    "mels1 = mels1.reshape(P_list.shape[0], P_list.shape[1]).real\n",
    "sub1 = mels1[0].mean().real\n",
    "\n",
    "size = len(operators)\n",
    "\n",
    "dimer_corr = np.zeros((size,t_list.shape[0]))\n",
    "dimer_std = np.zeros((size,t_list.shape[0]))\n",
    "\n",
    "\n",
    "for s in range(size):\n",
    "    print(s)\n",
    "    if operators[s]:\n",
    "\n",
    "        _, mels2 = operators[s].get_conn_flattened(P_list[0,:,:], sections1)\n",
    "        mels2 = mels2.real\n",
    "        sub2 = mels2.mean().real\n",
    "#         mels2 = mels2_.reshape(P_list.shape[0], P_list.shape[1]).real\n",
    "        dimer_corr[s] = (mels2 * mels1).mean(axis=1)\n",
    "        dimer_std[s] = (mels2 * mels1).std(axis=1)\n",
    "    else:\n",
    "        dimer_corr[s] = 0\n",
    "        dimer_std[s] = 0"
   ]
  },
  {
   "cell_type": "code",
   "execution_count": 2,
   "id": "entertaining-nitrogen",
   "metadata": {},
   "outputs": [],
   "source": [
    "import numpy as np\n",
    "X = np.ma.masked_equal(np.random.rand(100),0)"
   ]
  },
  {
   "cell_type": "code",
   "execution_count": 39,
   "id": "improving-turtle",
   "metadata": {
    "scrolled": true
   },
   "outputs": [
    {
     "name": "stdout",
     "output_type": "stream",
     "text": [
      "0\n",
      "1\n",
      "2\n",
      "3\n",
      "4\n",
      "5\n",
      "6\n",
      "7\n",
      "8\n",
      "9\n",
      "10\n",
      "11\n",
      "12\n",
      "13\n",
      "14\n",
      "15\n"
     ]
    }
   ],
   "source": [
    "num_samples = (P_list[:,:,0]!=0).sum(axis=1)\n",
    "P_list_ = P_list.reshape(-1,P_list.shape[-1])\n",
    "sections1 = np.arange(P_list.shape[1])\n",
    "sections2 = np.zeros(P_list_.shape[0])\n",
    "\n",
    "\n",
    "_, mels1 = operators[0].get_conn_flattened(P_list[0,:,:], sections1)\n",
    "sub1 = mels1.mean().real\n",
    "mels1 = mels1.real\n",
    "\n",
    "size = len(operators)\n",
    "\n",
    "dimer_corr = np.zeros((size,t_list.shape[0]))\n",
    "dimer_std = np.zeros((size,t_list.shape[0]))\n",
    "\n",
    "\n",
    "for s in range(size):\n",
    "    print(s)\n",
    "    \n",
    "    if operators[s]:\n",
    "        sub2 = operators[s].get_conn_flattened(P_list[0,:,:], sections1)[1].mean().real\n",
    "        _, mels2_ = operators[s].get_conn_flattened(P_list_, sections2)\n",
    "        mels2 = mels2_.reshape(P_list.shape[0], P_list.shape[1]).real\n",
    "        dimer_corr[s] = (mels2 * mels1).mean(axis=1) - \n",
    "        dimer_std[s] = (mels2 * mels1).std(axis=1)\n",
    "    else:\n",
    "        dimer_corr[s] = 0\n",
    "        dimer_std[s] = 0"
   ]
  },
  {
   "cell_type": "code",
   "execution_count": null,
   "id": "instructional-teaching",
   "metadata": {},
   "outputs": [],
   "source": [
    "length = [4, 4]\n",
    "g = nk.graph.Graph(nodes = [i for i in range(length[0] * length[1] * 2)])\n",
    "hi = nk.hilbert.Spin(s=0.5, graph=g)\n",
    "hex_ = nk.machine.new_hex(np.array(length))\n",
    "\n",
    "\n",
    "l = []\n",
    "for i in range(length[0]):\n",
    "    for j in range(length[1]):\n",
    "        l.append([i, j])\n",
    "l = np.array(l)\n",
    "a = 0\n",
    "a_ = [a for _ in range(np.prod(length))]\n",
    "a = np.array(a_)\n",
    "\n",
    "\n",
    "\n",
    "edges, colors = hex_.dimer_corr(l,a)\n",
    "operators = f.return_spin_corr(hi, edges, colors)\n",
    "\n",
    "\n",
    "\n",
    "\n",
    "\n",
    "size = len(operators)\n",
    "Dimer = np.zeros((size,t_list.shape[0]))\n",
    "total_num_samples = np.zeros(t_list.shape[0])\n",
    "\n",
    "\n",
    "P_list = np.load(currentpath+f'/save/dynamics/h=1.0V=0.9l=[4, 4]/P_n=1.0e+04_{i}.npy')\n",
    "\n",
    "dimer_corr = np.zeros((size,t_list.shape[0]))\n",
    "dimer_std = np.zeros((size,t_list.shape[0]))\n",
    "\n",
    "\n",
    "num_samples = (P_list[:,:,0]!=0).sum(axis=1)\n",
    "P_list_ = P_list.reshape(-1,P_list.shape[-1])\n",
    "sections1 = np.arange(P_list.shape[1])\n",
    "sections2 = np.zeros(P_list_.shape[0])\n",
    "\n",
    "\n",
    "_, mels1 = operators[0].get_conn_flattened(P_list_, sections2)\n",
    "mels1 = mels1.reshape(P_list.shape[0], P_list.shape[1]).real\n",
    "sub1 = mels1[0].mean().real\n",
    "\n",
    "\n",
    "\n",
    "\n",
    "\n",
    "\n",
    "for s in range(size):\n",
    "    print(s)\n",
    "    if operators[s]:\n",
    "\n",
    "        _, mels2 = operators[s].get_conn_flattened(P_list[0,:,:], sections1)\n",
    "        mels2 = mels2.real\n",
    "        sub2 = mels2.mean().real\n",
    "#         mels2 = mels2_.reshape(P_list.shape[0], P_list.shape[1]).real\n",
    "        print(mels1.shape, mels2.shape)\n",
    "        dimer_corr[s] = (mels2 * mels1).mean(axis=1)\n",
    "        dimer_std[s] = (mels2 * mels1).std(axis=1)\n",
    "    else:\n",
    "        dimer_corr[s] = 0\n",
    "        dimer_std[s] = 0\n",
    "\n",
    "\n",
    "\n",
    "file_name = 'test_dimer_corr.dat'\n",
    "f.save_corr(file_name, Dimer, t_list)"
   ]
  }
 ],
 "metadata": {
  "kernelspec": {
   "display_name": "Python 3",
   "language": "python",
   "name": "python3"
  },
  "language_info": {
   "codemirror_mode": {
    "name": "ipython",
    "version": 3
   },
   "file_extension": ".py",
   "mimetype": "text/x-python",
   "name": "python",
   "nbconvert_exporter": "python",
   "pygments_lexer": "ipython3",
   "version": "3.8.5"
  }
 },
 "nbformat": 4,
 "nbformat_minor": 5
}
