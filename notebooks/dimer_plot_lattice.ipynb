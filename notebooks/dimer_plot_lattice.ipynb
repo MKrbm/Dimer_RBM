{
 "cells": [
  {
   "cell_type": "code",
   "execution_count": 1,
   "id": "excellent-memphis",
   "metadata": {},
   "outputs": [],
   "source": [
    "import sys\n",
    "import importlib\n",
    "importlib.reload(sys)\n",
    "sys.path.insert(0,'../')\n",
    "import numpy as np\n",
    "import netket as nk\n",
    "from scripts import functions as f\n",
    "from scripts import new_dynamics \n",
    "import os\n",
    "currentpath = os.getcwd()\n",
    "parentdir = os.path.dirname(currentpath)"
   ]
  },
  {
   "cell_type": "code",
   "execution_count": 2,
   "id": "dress-things",
   "metadata": {},
   "outputs": [
    {
     "data": {
      "text/plain": [
       "<module 'scripts.functions' from '../scripts/functions.py'>"
      ]
     },
     "execution_count": 2,
     "metadata": {},
     "output_type": "execute_result"
    }
   ],
   "source": [
    "importlib.reload(f)"
   ]
  },
  {
   "cell_type": "code",
   "execution_count": 3,
   "id": "japanese-cabin",
   "metadata": {},
   "outputs": [],
   "source": [
    "from conf import *\n",
    "from numba import njit, jit"
   ]
  },
  {
   "cell_type": "code",
   "execution_count": 4,
   "id": "renewable-resident",
   "metadata": {
    "scrolled": true
   },
   "outputs": [],
   "source": [
    "# P = np.load(parentdir+'/save/dynamics/h=1.0V=0.9l=[4, 4]/P_n=1.0e+04_1.npy')\n",
    "# T = np.load(parentdir+'/save/dynamics/h=1.0V=0.9l=[12, 12]/T_n=1.0e+04_0.npy')"
   ]
  },
  {
   "cell_type": "code",
   "execution_count": null,
   "id": "binary-beast",
   "metadata": {},
   "outputs": [],
   "source": [
    "length = [20, 20]\n",
    "g = nk.graph.Graph(nodes = [i for i in range(length[0] * length[1] * 2)])\n",
    "hi = nk.hilbert.Spin(s=0.5, graph=g)\n",
    "hex_ = nk.machine.new_hex(np.array(length))\n",
    "\n",
    "\n",
    "l = []\n",
    "for i in range(length[0]):\n",
    "    for j in range(length[1]):\n",
    "        l.append([i, j])\n",
    "l = np.array(l)\n",
    "a = 0\n",
    "a_ = [a for _ in range(np.prod(length))]\n",
    "a = np.array(a_)\n",
    "\n",
    "\n",
    "\n",
    "edges, colors = hex_.dimer_corr(l,a)\n",
    "operators = f.return_spin_corr(hi, edges, colors)\n"
   ]
  },
  {
   "cell_type": "code",
   "execution_count": 8,
   "id": "linear-craps",
   "metadata": {
    "scrolled": true
   },
   "outputs": [],
   "source": [
    "@njit\n",
    "def cal_mels(P, T, t_list):\n",
    "    mels_list = np.zeros((t_list.shape[0],)+P.shape[1:] , dtype=P.dtype)\n",
    "#     num_samples = np.zeros_like(T, dtype=nb.boolean)\n",
    "#     sections = np.zeros(t_list.shape[0])\n",
    "    t_list_ = t_list.reshape(-1,1)\n",
    "\n",
    "    S = 0\n",
    "    for n in range(T.shape[0]-1):\n",
    "        \n",
    "#         A = T <= t_list[n]\n",
    "#         num_samples = np.logical_or(A, )\n",
    "#         ind1, ind2 = np.where(np.logical_xor(A[1:,:],A[:-1,:]))\n",
    "#     #     sections[n] = S\n",
    "#         n_state = ind1.shape[0]\n",
    "\n",
    "        index = np.logical_and(T[n] <= t_list_,  t_list_ < T[n+1])\n",
    "\n",
    "        for i in range(index.shape[1]):\n",
    "            mels_list[index[:,i],i] = P[n,i]\n",
    "    return mels_list"
   ]
  },
  {
   "cell_type": "code",
   "execution_count": 6,
   "id": "hazardous-reform",
   "metadata": {},
   "outputs": [],
   "source": [
    "import numpy as np\n",
    "a = np.tan((1/6)*np.pi) * 1/2\n",
    "edge_coors_prime = np.array([\n",
    "    hex_.a((1/2)*np.pi) * a,\n",
    "    hex_.a(np.pi*(2/3)+(1/2)*np.pi) * a,\n",
    "    hex_.a(np.pi*(4/3)+(1/2)*np.pi) * a,\n",
    "])\n",
    "\n",
    "edge_coors = np.array([[ 0.5     ,  0.      ],\n",
    "                       [ 0.25    , -0.433013],\n",
    "                       [ 0.75    , -0.433013]])\n",
    "\n",
    "base_edge = edge_coors[0]\n",
    "x = np.arange(length[0]*2)\n",
    "y = np.arange(length[1]*2)\n",
    "\n",
    "xx, yy = np.meshgrid(x,y)\n",
    "xx = xx.reshape(-1)\n",
    "yy = yy.reshape(-1)\n",
    "edge_coor_array = hex_.ProcessPeriodic(xx[:,None] * hex_.a1[None,:] * 1/2 + yy[:,None]  * hex_.a2[None,:] * 1/2 + base_edge)\n",
    "edges = hex_.edge_coor_to_lattice(edge_coor_array)\n",
    "colors = hex_.get_edge_color(edges)\n",
    "\n",
    "operators = f.return_spin_corr(hi, edges, colors)"
   ]
  },
  {
   "cell_type": "code",
   "execution_count": 7,
   "id": "sexual-generation",
   "metadata": {},
   "outputs": [
    {
     "data": {
      "text/plain": [
       "array([0.5       , 0.28867514])"
      ]
     },
     "execution_count": 7,
     "metadata": {},
     "output_type": "execute_result"
    }
   ],
   "source": [
    "hex_.b1 / 2"
   ]
  },
  {
   "cell_type": "code",
   "execution_count": 8,
   "id": "virgin-farming",
   "metadata": {},
   "outputs": [],
   "source": [
    "from plotly import graph_objects as go\n",
    "data1 = go.Scatter(\n",
    "    x = hex_.lattice_coor[:,0],\n",
    "    y = hex_.lattice_coor[:,1],\n",
    "    text=[f'{i}' for i in range(np.prod(hex_.l) * 2)],\n",
    "    mode = 'markers+text',\n",
    "    textposition=\"top center\"\n",
    ")\n",
    "\n",
    "data2 = go.Scatter(\n",
    "    x = edge_coor_array[:,0],\n",
    "    y = edge_coor_array[:,1],\n",
    "    mode = 'markers',\n",
    ")\n",
    "\n",
    "fig = go.Figure()\n",
    "fig.add_traces(\n",
    "    [data1, data2]\n",
    ")\n",
    "fig.layout.yaxis = {\n",
    "    'scaleanchor': 'x', 'scaleratio': 1\n",
    "}\n",
    "fig.layout.yaxis.showgrid = False\n",
    "fig.layout.xaxis.showgrid = False\n",
    "fig.write_image(\"fig1.jpeg\")"
   ]
  },
  {
   "cell_type": "code",
   "execution_count": 86,
   "id": "respected-button",
   "metadata": {},
   "outputs": [
    {
     "name": "stdout",
     "output_type": "stream",
     "text": [
      "0\n",
      "1\n",
      "2\n",
      "3\n",
      "4\n",
      "5\n",
      "6\n",
      "7\n",
      "8\n",
      "9\n",
      "10\n",
      "11\n",
      "12\n",
      "13\n",
      "14\n",
      "15\n"
     ]
    }
   ],
   "source": [
    "num_samples = (P_list[:,:,0]!=0).sum(axis=1)\n",
    "P_list_ = P_list.reshape(-1,P_list.shape[-1])\n",
    "sections1 = np.arange(P_list.shape[1])\n",
    "sections2 = np.zeros(P_list_.shape[0])\n",
    "\n",
    "\n",
    "_, mels1 = operators[0].get_conn_flattened(P_list_, sections2)\n",
    "mels1 = mels1.reshape(P_list.shape[0], P_list.shape[1]).real\n",
    "sub1 = mels1[0].mean().real\n",
    "\n",
    "size = len(operators)\n",
    "\n",
    "dimer_corr = np.zeros((size,t_list.shape[0]))\n",
    "dimer_std = np.zeros((size,t_list.shape[0]))\n",
    "\n",
    "\n",
    "for s in range(size):\n",
    "    print(s)\n",
    "    if operators[s]:\n",
    "\n",
    "        _, mels2 = operators[s].get_conn_flattened(P_list[0,:,:], sections1)\n",
    "        mels2 = mels2.real\n",
    "        sub2 = mels2.mean().real\n",
    "#         mels2 = mels2_.reshape(P_list.shape[0], P_list.shape[1]).real\n",
    "        dimer_corr[s] = (mels2 * mels1).mean(axis=1)\n",
    "        dimer_std[s] = (mels2 * mels1).std(axis=1)\n",
    "    else:\n",
    "        dimer_corr[s] = 0\n",
    "        dimer_std[s] = 0"
   ]
  },
  {
   "cell_type": "code",
   "execution_count": 2,
   "id": "funky-definition",
   "metadata": {},
   "outputs": [],
   "source": [
    "import numpy as np\n",
    "X = np.ma.masked_equal(np.random.rand(100),0)"
   ]
  },
  {
   "cell_type": "code",
   "execution_count": 39,
   "id": "medical-relative",
   "metadata": {
    "scrolled": true
   },
   "outputs": [
    {
     "name": "stdout",
     "output_type": "stream",
     "text": [
      "0\n",
      "1\n",
      "2\n",
      "3\n",
      "4\n",
      "5\n",
      "6\n",
      "7\n",
      "8\n",
      "9\n",
      "10\n",
      "11\n",
      "12\n",
      "13\n",
      "14\n",
      "15\n"
     ]
    }
   ],
   "source": [
    "num_samples = (P_list[:,:,0]!=0).sum(axis=1)\n",
    "P_list_ = P_list.reshape(-1,P_list.shape[-1])\n",
    "sections1 = np.arange(P_list.shape[1])\n",
    "sections2 = np.zeros(P_list_.shape[0])\n",
    "\n",
    "\n",
    "_, mels1 = operators[0].get_conn_flattened(P_list[0,:,:], sections1)\n",
    "sub1 = mels1.mean().real\n",
    "mels1 = mels1.real\n",
    "\n",
    "size = len(operators)\n",
    "\n",
    "dimer_corr = np.zeros((size,t_list.shape[0]))\n",
    "dimer_std = np.zeros((size,t_list.shape[0]))\n",
    "\n",
    "\n",
    "for s in range(size):\n",
    "    print(s)\n",
    "    \n",
    "    if operators[s]:\n",
    "        sub2 = operators[s].get_conn_flattened(P_list[0,:,:], sections1)[1].mean().real\n",
    "        _, mels2_ = operators[s].get_conn_flattened(P_list_, sections2)\n",
    "        mels2 = mels2_.reshape(P_list.shape[0], P_list.shape[1]).real\n",
    "        dimer_corr[s] = (mels2 * mels1).mean(axis=1) - \n",
    "        dimer_std[s] = (mels2 * mels1).std(axis=1)\n",
    "    else:\n",
    "        dimer_corr[s] = 0\n",
    "        dimer_std[s] = 0"
   ]
  },
  {
   "cell_type": "code",
   "execution_count": null,
   "id": "alive-antenna",
   "metadata": {},
   "outputs": [],
   "source": [
    "length = [4, 4]\n",
    "g = nk.graph.Graph(nodes = [i for i in range(length[0] * length[1] * 2)])\n",
    "hi = nk.hilbert.Spin(s=0.5, graph=g)\n",
    "hex_ = nk.machine.new_hex(np.array(length))\n",
    "\n",
    "\n",
    "l = []\n",
    "for i in range(length[0]):\n",
    "    for j in range(length[1]):\n",
    "        l.append([i, j])\n",
    "l = np.array(l)\n",
    "a = 0\n",
    "a_ = [a for _ in range(np.prod(length))]\n",
    "a = np.array(a_)\n",
    "\n",
    "\n",
    "\n",
    "edges, colors = hex_.dimer_corr(l,a)\n",
    "operators = f.return_spin_corr(hi, edges, colors)\n",
    "\n",
    "\n",
    "\n",
    "\n",
    "\n",
    "size = len(operators)\n",
    "Dimer = np.zeros((size,t_list.shape[0]))\n",
    "total_num_samples = np.zeros(t_list.shape[0])\n",
    "\n",
    "\n",
    "P_list = np.load(currentpath+f'/save/dynamics/h=1.0V=0.9l=[4, 4]/P_n=1.0e+04_{i}.npy')\n",
    "\n",
    "dimer_corr = np.zeros((size,t_list.shape[0]))\n",
    "dimer_std = np.zeros((size,t_list.shape[0]))\n",
    "\n",
    "\n",
    "num_samples = (P_list[:,:,0]!=0).sum(axis=1)\n",
    "P_list_ = P_list.reshape(-1,P_list.shape[-1])\n",
    "sections1 = np.arange(P_list.shape[1])\n",
    "sections2 = np.zeros(P_list_.shape[0])\n",
    "\n",
    "\n",
    "_, mels1 = operators[0].get_conn_flattened(P_list_, sections2)\n",
    "mels1 = mels1.reshape(P_list.shape[0], P_list.shape[1]).real\n",
    "sub1 = mels1[0].mean().real\n",
    "\n",
    "\n",
    "\n",
    "\n",
    "\n",
    "\n",
    "for s in range(size):\n",
    "    print(s)\n",
    "    if operators[s]:\n",
    "\n",
    "        _, mels2 = operators[s].get_conn_flattened(P_list[0,:,:], sections1)\n",
    "        mels2 = mels2.real\n",
    "        sub2 = mels2.mean().real\n",
    "#         mels2 = mels2_.reshape(P_list.shape[0], P_list.shape[1]).real\n",
    "        print(mels1.shape, mels2.shape)\n",
    "        dimer_corr[s] = (mels2 * mels1).mean(axis=1)\n",
    "        dimer_std[s] = (mels2 * mels1).std(axis=1)\n",
    "    else:\n",
    "        dimer_corr[s] = 0\n",
    "        dimer_std[s] = 0\n",
    "\n",
    "\n",
    "\n",
    "file_name = 'test_dimer_corr.dat'\n",
    "f.save_corr(file_name, Dimer, t_list)"
   ]
  },
  {
   "cell_type": "code",
   "execution_count": 3,
   "id": "genuine-crossing",
   "metadata": {},
   "outputs": [],
   "source": [
    "import numpy as np\n",
    "dimer_momentum = np.load(\"/Users/keisukemurota/Documents/Resaerch/Dimer_RBM/save/corr/h=1.0V=1.0l=[4, 4]/dimer_momentum_mean.npy\")"
   ]
  },
  {
   "cell_type": "code",
   "execution_count": 6,
   "id": "humanitarian-simple",
   "metadata": {},
   "outputs": [
    {
     "data": {
      "text/plain": [
       "array([ 0.10589712+1.55335514e-01j,  0.08979234+1.26944155e-01j,\n",
       "        0.07697391+1.05073366e-01j,  0.0641882 +9.05493966e-02j,\n",
       "        0.05537735+7.79395178e-02j,  0.0517388 +6.61697483e-02j,\n",
       "        0.04831628+5.67623763e-02j,  0.04256764+4.87936530e-02j,\n",
       "        0.04158005+4.16154928e-02j,  0.0373204 +3.80483186e-02j,\n",
       "        0.04056135+3.20638362e-02j,  0.03506283+2.94988995e-02j,\n",
       "        0.03499544+2.59027830e-02j,  0.03463513+2.11365665e-02j,\n",
       "        0.03207672+2.11787848e-02j,  0.02677123+1.81197657e-02j,\n",
       "        0.02410996+1.58299089e-02j,  0.02275416+1.36472695e-02j,\n",
       "        0.01956928+1.37642056e-02j,  0.01947157+1.02812543e-02j,\n",
       "        0.02404098+7.26046918e-03j,  0.02358019+7.62216257e-03j,\n",
       "        0.01983246+8.25537860e-03j,  0.02137158+5.45359593e-03j,\n",
       "        0.01772077+7.08310159e-03j,  0.01401207+3.28076662e-04j,\n",
       "        0.01617034+4.21221336e-04j,  0.01110605+7.62310809e-04j,\n",
       "        0.01108087-2.75400175e-04j,  0.0128612 +3.22925682e-04j,\n",
       "        0.01036046-5.29079296e-04j,  0.0099189 -4.65460301e-04j,\n",
       "        0.01334636-1.48771834e-03j,  0.01027682-3.15922870e-03j,\n",
       "        0.01453786-3.89748509e-03j,  0.01820572-4.00629622e-03j,\n",
       "        0.01576642-2.59797008e-03j,  0.0157908 -4.04692071e-03j,\n",
       "        0.02062143-1.47901010e-03j,  0.01842175-1.64389867e-03j,\n",
       "        0.01637962-1.03882812e-03j,  0.01608452-3.90159144e-04j,\n",
       "        0.01238336-8.36075453e-04j,  0.00848025-2.79158747e-03j,\n",
       "        0.01201275-3.30053943e-03j,  0.01090329-3.23394652e-03j,\n",
       "        0.00771327-1.96613425e-03j,  0.00975242-3.23909750e-03j,\n",
       "        0.01109633-3.72802888e-03j,  0.00791363-5.42986178e-03j,\n",
       "        0.00868438-3.10076069e-03j,  0.00595296-3.75872890e-04j,\n",
       "        0.00531242-1.15395691e-03j,  0.00588557-3.97198938e-03j,\n",
       "        0.00762447-3.44540742e-03j,  0.01218736-1.00988578e-03j,\n",
       "        0.01012224-3.26129513e-03j,  0.00674948-3.80115298e-03j,\n",
       "        0.00636936-1.47720287e-03j,  0.00842555-1.22947159e-03j,\n",
       "        0.00816295-2.51273679e-03j,  0.01125171-1.13930083e-03j,\n",
       "        0.00899653-2.22873513e-03j,  0.00684421-9.86094424e-04j,\n",
       "        0.00535899-2.23308925e-03j,  0.00277244-3.89647471e-03j,\n",
       "        0.006998  -3.37068961e-03j,  0.00678872-1.91064016e-03j,\n",
       "        0.01121624+1.24740656e-04j,  0.01237821+3.14800783e-04j,\n",
       "        0.01353642-2.64969340e-03j,  0.01144395-4.12004481e-03j,\n",
       "        0.01062227-1.73247571e-03j,  0.00851137-4.18091105e-04j,\n",
       "        0.00529617-1.87989824e-04j,  0.00395226+3.00941560e-04j,\n",
       "        0.00816672+6.41817516e-04j,  0.00530727-3.08067731e-06j,\n",
       "        0.00441522-1.87952076e-03j,  0.00598111+1.32973078e-03j,\n",
       "        0.00526664+2.41183704e-03j,  0.00879102+2.38586863e-03j,\n",
       "        0.00889606+2.89917471e-03j,  0.00490198+1.28315845e-03j,\n",
       "        0.0046261 +1.63375302e-03j,  0.00394929-3.66951131e-04j,\n",
       "       -0.00052183-6.55306912e-04j,  0.00309946+3.15014298e-04j,\n",
       "        0.00778581+4.79106008e-04j,  0.01039376+2.56481429e-05j,\n",
       "        0.01437079+1.20969878e-04j,  0.01264894+1.11508244e-03j,\n",
       "        0.01380794+6.37249879e-04j,  0.01345517+2.18014205e-03j,\n",
       "        0.0087274 +1.94430644e-03j,  0.00791384+3.84889200e-03j,\n",
       "        0.00628513+2.68473988e-03j,  0.00894858+3.15582775e-03j,\n",
       "        0.00922961+1.65435694e-03j,  0.00781018-9.69844625e-04j])"
      ]
     },
     "execution_count": 6,
     "metadata": {},
     "output_type": "execute_result"
    }
   ],
   "source": [
    "dimer_momentum[0,1]"
   ]
  },
  {
   "cell_type": "code",
   "execution_count": null,
   "id": "hundred-metabolism",
   "metadata": {},
   "outputs": [],
   "source": []
  }
 ],
 "metadata": {
  "kernelspec": {
   "display_name": "Python 3",
   "language": "python",
   "name": "python3"
  },
  "language_info": {
   "codemirror_mode": {
    "name": "ipython",
    "version": 3
   },
   "file_extension": ".py",
   "mimetype": "text/x-python",
   "name": "python",
   "nbconvert_exporter": "python",
   "pygments_lexer": "ipython3",
   "version": "3.8.5"
  }
 },
 "nbformat": 4,
 "nbformat_minor": 5
}
