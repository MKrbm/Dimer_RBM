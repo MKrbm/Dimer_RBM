{
 "cells": [
  {
   "cell_type": "code",
   "execution_count": 1,
   "id": "republican-friendly",
   "metadata": {},
   "outputs": [],
   "source": [
    "import sys\n",
    "import importlib\n",
    "importlib.reload(sys)\n",
    "sys.path.insert(0,'../')\n",
    "import numpy as np\n",
    "import netket as nk\n",
    "from scripts import functions as f\n",
    "from scripts import new_dynamics, new_dynamics2\n",
    "import os\n",
    "currentpath = os.getcwd()\n",
    "parentdir = os.path.dirname(currentpath)"
   ]
  },
  {
   "cell_type": "code",
   "execution_count": 2,
   "id": "clean-craps",
   "metadata": {},
   "outputs": [
    {
     "name": "stdout",
     "output_type": "stream",
     "text": [
      "yoyo\n",
      "1\n"
     ]
    }
   ],
   "source": [
    "length=[4, 4]\n",
    "V = 1.0\n",
    "h = 1.0\n",
    "g = nk.graph.Graph(nodes = [i for i in range(length[0] * length[1] * 2)])\n",
    "hi = nk.hilbert.Spin(s=0.5, graph=g)\n",
    "\n",
    "\n",
    "ham = f.dimer_hamiltonian(V = V, h = h ,length=np.array(length))\n",
    "\n",
    "\n",
    "hex_ = nk.machine.new_hex(np.array(length))\n",
    "\n",
    "ma = nk.machine.RbmDimer(hi, hex_, alpha = 1, symmetry = True\n",
    "                    ,use_hidden_bias = False, use_visible_bias = False, dtype=float, reverse=True, half=True)\n",
    "ma.init_random_parameters(seed=1234)"
   ]
  },
  {
   "cell_type": "markdown",
   "id": "olympic-theater",
   "metadata": {},
   "source": [
    "### set params to 0 (represent ground state for v=1)"
   ]
  },
  {
   "cell_type": "code",
   "execution_count": 3,
   "id": "honey-array",
   "metadata": {},
   "outputs": [],
   "source": [
    "ma._ws[:] = 0\n",
    "ma._set_bare_parameters(\n",
    "    ma._a, ma._b, ma._w, ma._as, ma._bs, ma._ws, ma._autom, ma._z2\n",
    ")"
   ]
  },
  {
   "cell_type": "markdown",
   "id": "sexual-appearance",
   "metadata": {},
   "source": [
    "### create Markov Chain \n",
    "number of markov chain is denoted by n_samples_"
   ]
  },
  {
   "cell_type": "code",
   "execution_count": 4,
   "id": "flying-night",
   "metadata": {},
   "outputs": [
    {
     "data": {
      "text/plain": [
       "<module 'netket' from '../netket/__init__.py'>"
      ]
     },
     "execution_count": 4,
     "metadata": {},
     "output_type": "execute_result"
    }
   ],
   "source": [
    "importlib.reload(nk)"
   ]
  },
  {
   "cell_type": "code",
   "execution_count": 5,
   "id": "absent-genealogy",
   "metadata": {},
   "outputs": [
    {
     "name": "stdout",
     "output_type": "stream",
     "text": [
      "number of core : 6\n"
     ]
    }
   ],
   "source": [
    "n_jobs = 6\n",
    "length=[4, 4]\n",
    "V = 1.0\n",
    "h = 1.0\n",
    "\n",
    "g = nk.graph.Graph(nodes = [i for i in range(length[0] * length[1] * 2)])\n",
    "hi = nk.hilbert.Spin(s=0.5, graph=g)\n",
    "\n",
    "op, ad2o_o, op_num, label_num  = f.dimer_flip1(length = np.array(length), return_info = True)\n",
    "# op = f.dimer_flip_old(length = np.array(length))\n",
    "\n",
    "ad2_bool = np.zeros([ad2o_o.shape[0], ad2o_o.shape[0]], dtype = np.bool)\n",
    "for l in range(ad2o_o.shape[0]):\n",
    "    label = ad2o_o[l]\n",
    "    for op_ in label:\n",
    "        ad2_bool[l,op_] = True\n",
    "        \n",
    "ma.hex.ad2o_o = ad2o_o.astype(np.int64)\n",
    "ma.hex.ad2_bool = ad2_bool\n",
    "hex_ = nk.machine.new_hex(np.array(length))\n",
    "\n",
    "\n",
    "\n",
    "\n",
    "sweep_size = 1000\n",
    "sa_mul = nk.sampler.DimerMetropolisLocal_multi(machine=ma, op=op, length = length, n_chains=1, sweep_size = sweep_size, kernel = 1, n_jobs=n_jobs)\n",
    "sa_mul.reset()\n",
    "_ = sa_mul.generate_samples(1000) # discard the begginings of metropolis sampling."
   ]
  },
  {
   "cell_type": "code",
   "execution_count": 6,
   "id": "greatest-burns",
   "metadata": {
    "scrolled": true
   },
   "outputs": [
    {
     "name": "stdout",
     "output_type": "stream",
     "text": [
      "get samples\n"
     ]
    }
   ],
   "source": [
    "n_samples_ = 500000\n",
    "samples_state = sa_mul.generate_samples(int(n_samples_ / 1))\n",
    "samples_state = samples_state.reshape(-1, ma.hilbert.size)\n",
    "print('get samples')"
   ]
  },
  {
   "cell_type": "code",
   "execution_count": 8,
   "id": "hollow-sleeping",
   "metadata": {
    "scrolled": true
   },
   "outputs": [],
   "source": [
    "import scripts.dynamics as Dynamics\n",
    "from importlib import reload\n",
    "reload(Dynamics)\n",
    "t_list = np.arange(0,20,0.1)\n",
    "\n",
    "# d = Dynamics.new_dynamics(op, ma)\n",
    "# %time P_ = d.multiprocess(samples_state, 300, 12) \n",
    "# d = Dynamics.new_dynamics3(op, ma)\n",
    "# %time P_ = d.multiprocess(samples_state, t_list, 12) \n",
    "import scripts.dynamics_4 as sdy\n",
    "reload(sdy)\n",
    "\n",
    "\n",
    "d = sdy.new_dynamics_one(op, ma)\n",
    "P_list = d.multiprocess(samples_state, t_list,6) "
   ]
  },
  {
   "cell_type": "code",
   "execution_count": 9,
   "id": "tough-extraction",
   "metadata": {},
   "outputs": [],
   "source": [
    "g = nk.graph.Graph(nodes = [i for i in range(length[0] * length[1] * 2)])\n",
    "hi = nk.hilbert.Spin(s=0.5, graph=g)\n",
    "hex_ = nk.machine.new_hex(np.array(length))"
   ]
  },
  {
   "cell_type": "code",
   "execution_count": 10,
   "id": "challenging-pillow",
   "metadata": {},
   "outputs": [],
   "source": [
    "from importlib import reload\n",
    "reload(f)\n",
    "\n",
    "\n",
    "operators = f.return_vison(hi, np.arange(hex_.lattice_coor.shape[0]))"
   ]
  },
  {
   "cell_type": "code",
   "execution_count": 11,
   "id": "democratic-impression",
   "metadata": {
    "scrolled": true
   },
   "outputs": [
    {
     "name": "stdout",
     "output_type": "stream",
     "text": [
      "yo\n",
      "0\n",
      "yo\n",
      "yo\n"
     ]
    }
   ],
   "source": [
    "num_samples = (P_list[:,:,0]!=0).sum(axis=1)\n",
    "P_list_ = P_list.reshape(-1,P_list.shape[-1])\n",
    "sections1 = np.arange(P_list.shape[1])\n",
    "sections2 = np.zeros(P_list_.shape[0])\n",
    "\n",
    "_, mels1, _ = operators[0].get_conn_flattened(P_list[0,:,:], sections1)\n",
    "sub1 = mels1.mean().real\n",
    "mels1 = mels1.real\n",
    "\n",
    "size = len(operators)\n",
    "\n",
    "dimer_corr = np.zeros((size,t_list.shape[0]))\n",
    "dimer_std = np.zeros((size,t_list.shape[0]))\n",
    "\n",
    "\n",
    "for s in range(1):\n",
    "    print(s)\n",
    "    \n",
    "    if operators[s]:\n",
    "        sub2 = operators[s].get_conn_flattened(P_list[0,:,:], sections1)[1].mean().real\n",
    "        _, mels2_, _ = operators[s].get_conn_flattened(P_list_, sections2)\n",
    "        mels2 = mels2_.reshape(P_list.shape[0], P_list.shape[1]).real\n",
    "        dimer_corr[s] = (mels2 * mels1).mean(axis=1)\n",
    "        dimer_std[s] = (mels2 * mels1).std(axis=1)\n",
    "    else:\n",
    "        dimer_corr[s] = 0\n",
    "        dimer_std[s] = 0"
   ]
  },
  {
   "cell_type": "code",
   "execution_count": 12,
   "id": "loaded-perfume",
   "metadata": {},
   "outputs": [
    {
     "data": {
      "text/plain": [
       "array([1.        , 0.94125977, 0.89362357, 0.85278741, 0.81783927,\n",
       "       0.78729115, 0.76026704, 0.73692295, 0.71514686, 0.69589878,\n",
       "       0.67743471, 0.66146665, 0.64611058, 0.63219453, 0.61811047,\n",
       "       0.60519842, 0.59276237, 0.58097432, 0.56969028, 0.55882624,\n",
       "       0.5487902 , 0.53849815, 0.52839411, 0.51927008, 0.51025004,\n",
       "       0.501006  , 0.49245797, 0.48422994, 0.47633791, 0.46896188,\n",
       "       0.46154185, 0.45404582, 0.44764979, 0.44122576, 0.43472174,\n",
       "       0.42782971, 0.42144969, 0.41512566, 0.40876564, 0.40232161,\n",
       "       0.39615758, 0.38892956, 0.38249753, 0.37708151, 0.37254149,\n",
       "       0.36564546, 0.36034144, 0.35602542, 0.3505574 , 0.34543738,\n",
       "       0.34134537, 0.33643335, 0.33188533, 0.32740931, 0.32212529,\n",
       "       0.31787727, 0.31297325, 0.30880124, 0.30365721, 0.2996892 ,\n",
       "       0.29538118, 0.29040116, 0.28590514, 0.28180913, 0.27748911,\n",
       "       0.27240109, 0.26838907, 0.26464506, 0.26164105, 0.25742103,\n",
       "       0.25330501, 0.250057  , 0.24661299, 0.24298497, 0.23935296,\n",
       "       0.23692095, 0.23369693, 0.22977292, 0.22682091, 0.22353689,\n",
       "       0.22003688, 0.21767287, 0.21440886, 0.21108884, 0.20851683,\n",
       "       0.20494882, 0.20184081, 0.1991928 , 0.19618478, 0.19292477,\n",
       "       0.18977276, 0.18715675, 0.18399674, 0.18134073, 0.17982072,\n",
       "       0.17710471, 0.1739847 , 0.17222069, 0.16988068, 0.16684467,\n",
       "       0.16468466, 0.16170065, 0.15903264, 0.15760463, 0.15480862,\n",
       "       0.15264861, 0.1504726 , 0.1488606 , 0.14666059, 0.14424058,\n",
       "       0.14302457, 0.14035656, 0.13752855, 0.13582054, 0.13339653,\n",
       "       0.13205253, 0.13032852, 0.12826051, 0.1257805 , 0.12270449,\n",
       "       0.12071648, 0.11883648, 0.11660047, 0.11497646, 0.11408846,\n",
       "       0.11240045, 0.11116844, 0.11039244, 0.10974844, 0.10771243,\n",
       "       0.10585242, 0.10406842, 0.10331641, 0.10202441, 0.1005364 ,\n",
       "       0.0989484 , 0.09791239, 0.09615238, 0.09446038, 0.09350037,\n",
       "       0.09208037, 0.09071636, 0.08868035, 0.08700035, 0.08624834,\n",
       "       0.08453234, 0.08383634, 0.08257233, 0.08069232, 0.07976432,\n",
       "       0.07912032, 0.07759631, 0.07629631, 0.0755323 , 0.0742163 ,\n",
       "       0.07316029, 0.07220029, 0.07116428, 0.07080828, 0.06950828,\n",
       "       0.06814827, 0.06722027, 0.06631627, 0.06529226, 0.06442826,\n",
       "       0.06384026, 0.06316825, 0.06209625, 0.06108024, 0.06112424,\n",
       "       0.05992424, 0.05876824, 0.05755223, 0.05644423, 0.05570422,\n",
       "       0.05507222, 0.05490022, 0.05358021, 0.05229221, 0.05155621,\n",
       "       0.0510882 , 0.0507402 , 0.0496162 , 0.0491002 , 0.04836419,\n",
       "       0.04778019, 0.04746819, 0.04703619, 0.04644019, 0.04491618,\n",
       "       0.04440418, 0.04396818, 0.04345217, 0.04296017, 0.04193617,\n",
       "       0.04120416, 0.03979216, 0.03965216, 0.03957216, 0.03946416])"
      ]
     },
     "execution_count": 12,
     "metadata": {},
     "output_type": "execute_result"
    }
   ],
   "source": [
    "dimer_corr[0]"
   ]
  },
  {
   "cell_type": "code",
   "execution_count": 29,
   "id": "threatened-providence",
   "metadata": {
    "scrolled": true
   },
   "outputs": [],
   "source": [
    "s = 0\n",
    "for i in range(P_list.shape[-1]):\n",
    "    s += np.mean(P_list[:,:,i] * P_list[0,:,i],axis=-1)   \n",
    "s/=P_list.shape[-1]"
   ]
  },
  {
   "cell_type": "code",
   "execution_count": 39,
   "id": "approved-belgium",
   "metadata": {},
   "outputs": [
    {
     "ename": "FileNotFoundError",
     "evalue": "[Errno 2] No such file or directory: '/home/keisuke/Documents/dimermaster/save/dynamics/h=1.0V=1.0l=[4, 4]/P_n=1.0e+04_30.npy'",
     "output_type": "error",
     "traceback": [
      "\u001b[0;31m---------------------------------------------------------------------------\u001b[0m",
      "\u001b[0;31mFileNotFoundError\u001b[0m                         Traceback (most recent call last)",
      "\u001b[0;32m<ipython-input-39-92be2ef7a0ba>\u001b[0m in \u001b[0;36m<module>\u001b[0;34m\u001b[0m\n\u001b[1;32m      6\u001b[0m \u001b[0;32mfor\u001b[0m \u001b[0mj\u001b[0m \u001b[0;32min\u001b[0m \u001b[0mrange\u001b[0m\u001b[0;34m(\u001b[0m\u001b[0;36m100\u001b[0m\u001b[0;34m)\u001b[0m\u001b[0;34m:\u001b[0m\u001b[0;34m\u001b[0m\u001b[0;34m\u001b[0m\u001b[0m\n\u001b[1;32m      7\u001b[0m \u001b[0;34m\u001b[0m\u001b[0m\n\u001b[0;32m----> 8\u001b[0;31m     \u001b[0mP_list\u001b[0m \u001b[0;34m=\u001b[0m \u001b[0mnp\u001b[0m\u001b[0;34m.\u001b[0m\u001b[0mload\u001b[0m\u001b[0;34m(\u001b[0m\u001b[0mparentdir\u001b[0m\u001b[0;34m+\u001b[0m\u001b[0;34mf'/save/dynamics/{name}/P_n=1.0e+04_{j}.npy'\u001b[0m\u001b[0;34m)\u001b[0m\u001b[0;34m\u001b[0m\u001b[0;34m\u001b[0m\u001b[0m\n\u001b[0m\u001b[1;32m      9\u001b[0m     \u001b[0;31m# new_P_list = np.zeros((P_list.shape[0], P_list.shape[1] * T.shape[0] * T.shape[1], P_list.shape[-1]))\u001b[0m\u001b[0;34m\u001b[0m\u001b[0;34m\u001b[0m\u001b[0;34m\u001b[0m\u001b[0m\n\u001b[1;32m     10\u001b[0m \u001b[0;34m\u001b[0m\u001b[0m\n",
      "\u001b[0;32m~/miniconda3/envs/research/lib/python3.8/site-packages/numpy/lib/npyio.py\u001b[0m in \u001b[0;36mload\u001b[0;34m(file, mmap_mode, allow_pickle, fix_imports, encoding)\u001b[0m\n\u001b[1;32m    414\u001b[0m             \u001b[0mown_fid\u001b[0m \u001b[0;34m=\u001b[0m \u001b[0;32mFalse\u001b[0m\u001b[0;34m\u001b[0m\u001b[0;34m\u001b[0m\u001b[0m\n\u001b[1;32m    415\u001b[0m         \u001b[0;32melse\u001b[0m\u001b[0;34m:\u001b[0m\u001b[0;34m\u001b[0m\u001b[0;34m\u001b[0m\u001b[0m\n\u001b[0;32m--> 416\u001b[0;31m             \u001b[0mfid\u001b[0m \u001b[0;34m=\u001b[0m \u001b[0mstack\u001b[0m\u001b[0;34m.\u001b[0m\u001b[0menter_context\u001b[0m\u001b[0;34m(\u001b[0m\u001b[0mopen\u001b[0m\u001b[0;34m(\u001b[0m\u001b[0mos_fspath\u001b[0m\u001b[0;34m(\u001b[0m\u001b[0mfile\u001b[0m\u001b[0;34m)\u001b[0m\u001b[0;34m,\u001b[0m \u001b[0;34m\"rb\"\u001b[0m\u001b[0;34m)\u001b[0m\u001b[0;34m)\u001b[0m\u001b[0;34m\u001b[0m\u001b[0;34m\u001b[0m\u001b[0m\n\u001b[0m\u001b[1;32m    417\u001b[0m             \u001b[0mown_fid\u001b[0m \u001b[0;34m=\u001b[0m \u001b[0;32mTrue\u001b[0m\u001b[0;34m\u001b[0m\u001b[0;34m\u001b[0m\u001b[0m\n\u001b[1;32m    418\u001b[0m \u001b[0;34m\u001b[0m\u001b[0m\n",
      "\u001b[0;31mFileNotFoundError\u001b[0m: [Errno 2] No such file or directory: '/home/keisuke/Documents/dimermaster/save/dynamics/h=1.0V=1.0l=[4, 4]/P_n=1.0e+04_30.npy'"
     ]
    }
   ],
   "source": [
    "name = 'h={}V={}l={}'.format(h, V, length)\n",
    "\n",
    "currentdir = os.getcwd()\n",
    "parentdir = os.path.dirname(currentdir)\n",
    "s = []\n",
    "for j in range(100):\n",
    "\n",
    "    P_list = np.load(parentdir+f'/save/dynamics/{name}/P_n=1.0e+04_{j}.npy')\n",
    "    # new_P_list = np.zeros((P_list.shape[0], P_list.shape[1] * T.shape[0] * T.shape[1], P_list.shape[-1]))\n",
    "\n",
    "    # for t in range(len(new_P_list)):\n",
    "    #     new_P_list[t] = f.permute(P_list[t], T, color)\n",
    "    s.append(0)\n",
    "    for i in range(P_list.shape[-1]):\n",
    "        s[j] += np.mean(P_list[:,:,i] * P_list[0,:,i],axis=-1)   \n",
    "    s[j]/=P_list.shape[-1]\n",
    "    "
   ]
  },
  {
   "cell_type": "code",
   "execution_count": 38,
   "id": "brutal-threshold",
   "metadata": {},
   "outputs": [
    {
     "data": {
      "text/plain": [
       "array([1.        , 0.94220002, 0.89367238, 0.85278195, 0.81783353,\n",
       "       0.78759265, 0.76063577, 0.73675756, 0.71467223, 0.69511969,\n",
       "       0.67709836, 0.66038912, 0.64404923, 0.62955479, 0.61589042,\n",
       "       0.6030336 , 0.5906563 , 0.57926933, 0.56815154, 0.55735927,\n",
       "       0.54713542, 0.53724334, 0.52767929, 0.51891026, 0.5095603 ,\n",
       "       0.50082131, 0.49297626, 0.48476938, 0.47668895, 0.46946489,\n",
       "       0.46177885, 0.45423803, 0.44705278, 0.43985502, 0.43331831,\n",
       "       0.42679662, 0.42014724, 0.41417393, 0.40786884, 0.40191682,\n",
       "       0.39557166, 0.38906125, 0.38245067, 0.37661759, 0.37120768,\n",
       "       0.3657527 , 0.36057442, 0.35535106, 0.35035682, 0.34572441,\n",
       "       0.34021059, 0.33538036, 0.33002679, 0.32507762, 0.32005459,\n",
       "       0.31517678, 0.31045172, 0.30556766, 0.3014085 , 0.29711288,\n",
       "       0.29252304, 0.28798077, 0.28392803, 0.27946715, 0.27512395,\n",
       "       0.27129407, 0.26745292, 0.26369441, 0.2594977 , 0.25582181,\n",
       "       0.2526242 , 0.24919872, 0.24534756, 0.24152143, 0.23756636,\n",
       "       0.23373523, 0.23032602, 0.22655499, 0.22319586, 0.21968274,\n",
       "       0.21644381, 0.21297952, 0.21000726, 0.20706505, 0.20417919,\n",
       "       0.2011844 , 0.19829853, 0.1954377 , 0.19300756, 0.19043845,\n",
       "       0.1874036 , 0.1849359 , 0.1825959 , 0.17977514, 0.17693935,\n",
       "       0.17442783, 0.17242338, 0.16952249, 0.16741036, 0.16448568])"
      ]
     },
     "execution_count": 38,
     "metadata": {},
     "output_type": "execute_result"
    }
   ],
   "source": [
    "np.mean(s,axis=0)"
   ]
  },
  {
   "cell_type": "code",
   "execution_count": 19,
   "id": "democratic-mirror",
   "metadata": {
    "scrolled": true
   },
   "outputs": [
    {
     "data": {
      "text/plain": [
       "array([0.        , 0.00105866, 0.00142574, 0.0016519 , 0.00181669,\n",
       "       0.00194948, 0.00205127, 0.00213277, 0.00220801, 0.0022732 ,\n",
       "       0.00232998, 0.00237336, 0.00241301, 0.00245271, 0.00248396,\n",
       "       0.00251451, 0.00254319, 0.00256785, 0.00259157, 0.00261232,\n",
       "       0.00263563, 0.00265954, 0.00267409, 0.00269052, 0.00270583,\n",
       "       0.00272045, 0.00273905, 0.00275149, 0.00276745, 0.00278112,\n",
       "       0.00279352, 0.00280739, 0.00282142, 0.00283258, 0.00284269,\n",
       "       0.00285316, 0.00286322, 0.00287274, 0.00288188, 0.00289164,\n",
       "       0.00289894, 0.00290722, 0.00291519, 0.00292445, 0.00293478,\n",
       "       0.00293945, 0.00294818, 0.00295388, 0.00296151, 0.00296876,\n",
       "       0.00297424, 0.00297871, 0.00298434, 0.0029901 , 0.00299472,\n",
       "       0.00299949, 0.00300466, 0.00300856, 0.00301197, 0.00301617,\n",
       "       0.00302241, 0.0030258 , 0.00302942, 0.00303376, 0.0030386 ,\n",
       "       0.00304231, 0.00304569, 0.00304843, 0.00305228, 0.00305485,\n",
       "       0.00305856, 0.0030628 , 0.00306532, 0.0030676 , 0.00306997,\n",
       "       0.00307235, 0.00307466, 0.0030774 , 0.00307965, 0.00308223,\n",
       "       0.00308494, 0.00308843, 0.00309144, 0.00309431, 0.0030967 ,\n",
       "       0.00309828, 0.0031006 , 0.00310213, 0.00310394, 0.00310648,\n",
       "       0.00310762, 0.00310878, 0.00311026, 0.00311182, 0.00311311,\n",
       "       0.00311519, 0.00311672, 0.00311777, 0.00311867, 0.00311979,\n",
       "       0.00312011, 0.00312176, 0.00312297, 0.00312482, 0.00312544,\n",
       "       0.00312566, 0.00312629, 0.00312685, 0.00312878, 0.00312945,\n",
       "       0.00313055, 0.0031309 , 0.00313155, 0.0031325 , 0.003133  ,\n",
       "       0.00313399, 0.00313513, 0.00313594, 0.00313668, 0.00313694,\n",
       "       0.00313743, 0.0031382 , 0.00313919, 0.00313907, 0.00313979,\n",
       "       0.00314033, 0.00314092, 0.00314253, 0.00314359, 0.00314416,\n",
       "       0.00314426, 0.00314452, 0.00314528, 0.00314602, 0.00314643,\n",
       "       0.00314691, 0.00314715, 0.00314742, 0.00314775, 0.00314768,\n",
       "       0.00314853, 0.00314902, 0.00314952, 0.00314959, 0.00314998,\n",
       "       0.00315009, 0.00315066, 0.00315147, 0.00315271, 0.00315289,\n",
       "       0.00315291, 0.0031528 , 0.00315303, 0.00315316, 0.00315381,\n",
       "       0.0031546 , 0.00315465, 0.00315499, 0.00315529, 0.00315551,\n",
       "       0.00315561, 0.00315563, 0.00315559, 0.00315551, 0.00315575,\n",
       "       0.00315599, 0.00315635, 0.00315628, 0.00315655, 0.00315684,\n",
       "       0.00315648, 0.00315722, 0.0031574 , 0.00315747, 0.00315759,\n",
       "       0.0031575 , 0.0031579 , 0.0031579 , 0.0031583 , 0.00315835,\n",
       "       0.00315852, 0.00315857, 0.00315859, 0.00315884, 0.00315904,\n",
       "       0.00315925, 0.00315928, 0.00315968, 0.0031598 , 0.0031596 ,\n",
       "       0.00315948, 0.00315989, 0.00315987, 0.0031599 , 0.00315988,\n",
       "       0.00316012, 0.00316018, 0.00316016, 0.00316025, 0.00316056])"
      ]
     },
     "execution_count": 19,
     "metadata": {},
     "output_type": "execute_result"
    }
   ],
   "source": [
    "dimer_std[0]/np.sqrt(n_samples_)"
   ]
  },
  {
   "cell_type": "code",
   "execution_count": 20,
   "id": "plastic-survivor",
   "metadata": {
    "scrolled": true
   },
   "outputs": [
    {
     "data": {
      "text/plain": [
       "array([1.        , 0.94229769, 0.8925957 , 0.85271411, 0.81851274,\n",
       "       0.78737149, 0.76107044, 0.73832953, 0.71586863, 0.69516781,\n",
       "       0.67610704, 0.66084643, 0.64632585, 0.63120525, 0.61886475,\n",
       "       0.60640426, 0.59432377, 0.58362334, 0.57304292, 0.56354254,\n",
       "       0.5525821 , 0.54100164, 0.53378135, 0.52546102, 0.5175407 ,\n",
       "       0.50982039, 0.49975999, 0.49287972, 0.48385935, 0.47595904,\n",
       "       0.46863875, 0.46027841, 0.45161806, 0.44457778, 0.43807752,\n",
       "       0.43121725, 0.42449698, 0.41801672, 0.41167647, 0.40477619,\n",
       "       0.39951598, 0.39345574, 0.3875155 , 0.38047522, 0.3724349 ,\n",
       "       0.36873475, 0.36169447, 0.35701428, 0.35063403, 0.34445378,\n",
       "       0.33969359, 0.33575343, 0.33071323, 0.32547302, 0.32119285,\n",
       "       0.31671267, 0.31177247, 0.30799232, 0.30463219, 0.30045202,\n",
       "       0.29411176, 0.29061162, 0.28681147, 0.28219129, 0.27693108,\n",
       "       0.27283091, 0.26903076, 0.26591064, 0.26145046, 0.25843034,\n",
       "       0.25401016, 0.24884995, 0.24572983, 0.24286971, 0.23984959,\n",
       "       0.23678947, 0.23376935, 0.23012921, 0.22710908, 0.22356894,\n",
       "       0.21980879, 0.21484859, 0.21046842, 0.20620825, 0.2025881 ,\n",
       "       0.20016801, 0.19654786, 0.19410776, 0.19118765, 0.18702748,\n",
       "       0.18512741, 0.18316733, 0.18062723, 0.17792712, 0.17564703,\n",
       "       0.17192688, 0.16912677, 0.16718669, 0.16550662, 0.16336653,\n",
       "       0.16276651, 0.15956638, 0.15718629, 0.15346614, 0.15218609,\n",
       "       0.15174607, 0.15042602, 0.14926597, 0.14516581, 0.14370575,\n",
       "       0.14130565, 0.14052562, 0.13906556, 0.13690548, 0.13576543,\n",
       "       0.13346534, 0.13074523, 0.12880515, 0.12698508, 0.12632505,\n",
       "       0.125105  , 0.12316493, 0.12060482, 0.12092484, 0.11904476,\n",
       "       0.1176047 , 0.11602464, 0.11158446, 0.10854434, 0.10690428,\n",
       "       0.10660426, 0.10582423, 0.10354414, 0.10128405, 0.099984  ,\n",
       "       0.09846394, 0.09768391, 0.09682387, 0.09574383, 0.09596384,\n",
       "       0.09314373, 0.09146366, 0.08972359, 0.08948358, 0.08810352,\n",
       "       0.08770351, 0.08562342, 0.0826233 , 0.07774311, 0.07698308,\n",
       "       0.07690308, 0.0773831 , 0.07642306, 0.07586303, 0.07312292,\n",
       "       0.06966279, 0.06942278, 0.06784271, 0.06642266, 0.06538262,\n",
       "       0.0649026 , 0.06478259, 0.0650226 , 0.06538262, 0.06422257,\n",
       "       0.06304252, 0.06118245, 0.06156246, 0.06016241, 0.05864235,\n",
       "       0.06054242, 0.05652226, 0.05550222, 0.0551222 , 0.05444218,\n",
       "       0.0549622 , 0.0525821 , 0.0526021 , 0.05014201, 0.04980199,\n",
       "       0.04874195, 0.04840194, 0.04826193, 0.04660186, 0.04524181,\n",
       "       0.04374175, 0.04356174, 0.04056162, 0.03960158, 0.04112164,\n",
       "       0.04206168, 0.03882155, 0.03904156, 0.03880155, 0.03894156,\n",
       "       0.03696148, 0.03642146, 0.03656146, 0.03576143, 0.03298132])"
      ]
     },
     "execution_count": 20,
     "metadata": {},
     "output_type": "execute_result"
    }
   ],
   "source": [
    "dimer_corr[0]"
   ]
  },
  {
   "cell_type": "code",
   "execution_count": null,
   "id": "exempt-palmer",
   "metadata": {
    "scrolled": true
   },
   "outputs": [],
   "source": [
    "dimer_std[0] / np.sqrt(10**5)"
   ]
  },
  {
   "cell_type": "code",
   "execution_count": null,
   "id": "narrow-camcorder",
   "metadata": {},
   "outputs": [],
   "source": [
    "from plotly import graph_objects as go"
   ]
  },
  {
   "cell_type": "code",
   "execution_count": null,
   "id": "efficient-senior",
   "metadata": {},
   "outputs": [],
   "source": [
    "\n",
    "data_list = []\n",
    "\n",
    "for correlation in dimer_corr:\n",
    "    data_list.append(go.Scatter(\n",
    "        x = t_list,\n",
    "        y = correlation * np.sign(correlation[0])\n",
    "    ))\n",
    "    \n",
    "\n",
    "Fig = go.Figure(data = data_list)"
   ]
  },
  {
   "cell_type": "code",
   "execution_count": null,
   "id": "corresponding-polyester",
   "metadata": {},
   "outputs": [],
   "source": [
    "Fig.show()"
   ]
  },
  {
   "cell_type": "code",
   "execution_count": 25,
   "id": "violent-elements",
   "metadata": {},
   "outputs": [],
   "source": [
    "# import struct\n",
    "# with open('your_data.dat', 'wb') as fe:  \n",
    "#     for i in range(dimer_corr.shape[0]):\n",
    "#         fe.write(struct.pack('{}\\n'.format(dimer_corr[i])))\n",
    "        "
   ]
  },
  {
   "cell_type": "code",
   "execution_count": 26,
   "id": "designing-outside",
   "metadata": {},
   "outputs": [],
   "source": [
    "file_name = 'vison{}_{:.0e}_T={:.1f}_2.dat'.format(length,n_samples_, t_list[-1])\n",
    "f.save_corr(file_name, dimer_corr, t_list)"
   ]
  },
  {
   "cell_type": "code",
   "execution_count": 68,
   "id": "external-civilian",
   "metadata": {},
   "outputs": [],
   "source": [
    "# outfile = open('vison{}_{:.0e}_T={:.1f}.dat'.format(length,n_samples_, t_list[-1]), 'w')\n",
    "#  # write table header\n",
    "# for i in range(dimer_corr.shape[0]):\n",
    "#     outfile.write('#{}\\n'.format(i)) \n",
    "#     for n in range(dimer_corr.shape[1]):\n",
    "#         outfile.write('{}\\t{:.2f}\\t{}\\n'.format(n, t_list[n], dimer_corr[i,n]))\n",
    "#     outfile.write('\\n') \n",
    "# outfile.close()"
   ]
  },
  {
   "cell_type": "code",
   "execution_count": 19,
   "id": "better-norwegian",
   "metadata": {},
   "outputs": [],
   "source": [
    "tau_list = []\n",
    "N = 2000\n",
    "corr1 = []\n",
    "corr2 = np.zeros((81,N),dtype=np.complex128)\n",
    "n = -1\n",
    "import re\n",
    "with open('K4_4V1.0st.dat') as fe:\n",
    "    for line in fe:\n",
    "        \n",
    "        if re.findall(r'#\\d', line):\n",
    "            i = 0\n",
    "            n += 1\n",
    "        else:\n",
    "            try:\n",
    "                match = re.findall(r'[\\d,\\.]+', line)\n",
    "                tau_list.append(float(match[1]))\n",
    "                corr1.append(float(match[2]))\n",
    "                corr2[n,i] = float(match[2]) + 1j*float(match[3])\n",
    "                i+=1\n",
    "            except:\n",
    "                pass"
   ]
  },
  {
   "cell_type": "code",
   "execution_count": 67,
   "id": "separated-tragedy",
   "metadata": {},
   "outputs": [],
   "source": [
    "# import re \n",
    "\n",
    "# corr = []\n",
    "# tau = []\n",
    "# n = -1\n",
    "# with open(file_name) as fe:\n",
    "#     for line in fe:\n",
    "#         if re.findall(r'#\\d', line):\n",
    "#             n += 1\n",
    "#             corr.append([])\n",
    "#             tau.append([])\n",
    "#         else:\n",
    "#             try:\n",
    "#                 match = re.findall(r'[\\d,\\.]+', line)\n",
    "#                 tau[n].append(float(match[1]))\n",
    "#                 corr[n].append(float(match[2]))\n",
    "#             except:\n",
    "#                 pass"
   ]
  },
  {
   "cell_type": "code",
   "execution_count": 65,
   "id": "arctic-health",
   "metadata": {},
   "outputs": [],
   "source": [
    "tau = np.array(tau[0])"
   ]
  },
  {
   "cell_type": "code",
   "execution_count": 62,
   "id": "military-maximum",
   "metadata": {},
   "outputs": [],
   "source": [
    "corr = np.array(corr)"
   ]
  },
  {
   "cell_type": "code",
   "execution_count": 64,
   "id": "subtle-driving",
   "metadata": {},
   "outputs": [
    {
     "data": {
      "text/plain": [
       "(32, 200)"
      ]
     },
     "execution_count": 64,
     "metadata": {},
     "output_type": "execute_result"
    }
   ],
   "source": [
    "corr.shape"
   ]
  },
  {
   "cell_type": "code",
   "execution_count": null,
   "id": "eastern-fighter",
   "metadata": {},
   "outputs": [],
   "source": []
  }
 ],
 "metadata": {
  "kernelspec": {
   "display_name": "Python 3",
   "language": "python",
   "name": "python3"
  },
  "language_info": {
   "codemirror_mode": {
    "name": "ipython",
    "version": 3
   },
   "file_extension": ".py",
   "mimetype": "text/x-python",
   "name": "python",
   "nbconvert_exporter": "python",
   "pygments_lexer": "ipython3",
   "version": "3.8.5"
  }
 },
 "nbformat": 4,
 "nbformat_minor": 5
}
