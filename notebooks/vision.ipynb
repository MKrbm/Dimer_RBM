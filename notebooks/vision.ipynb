{
 "cells": [
  {
   "cell_type": "code",
   "execution_count": 1,
   "id": "younger-turtle",
   "metadata": {},
   "outputs": [
    {
     "name": "stderr",
     "output_type": "stream",
     "text": [
      "../scripts/functions.py:121: NumbaDeprecationWarning: The 'numba.jitclass' decorator has moved to 'numba.experimental.jitclass' to better reflect the experimental nature of the functionality. Please update your imports to accommodate this change and see https://numba.pydata.org/numba-doc/latest/reference/deprecation.html#change-of-jitclass-location for the time frame.\n",
      "  @jitclass(spec)\n"
     ]
    }
   ],
   "source": [
    "import sys\n",
    "import importlib\n",
    "importlib.reload(sys)\n",
    "sys.path.insert(0,'../')\n",
    "import numpy as np\n",
    "import netket as nk\n",
    "from scripts import functions as f\n",
    "from scripts import new_dynamics, new_dynamics2\n",
    "import os\n",
    "currentpath = os.getcwd()\n",
    "parentdir = os.path.dirname(currentpath)"
   ]
  },
  {
   "cell_type": "code",
   "execution_count": 3,
   "id": "frank-addiction",
   "metadata": {},
   "outputs": [
    {
     "name": "stdout",
     "output_type": "stream",
     "text": [
      "1\n"
     ]
    }
   ],
   "source": [
    "length=[4, 4]\n",
    "V = 1.0\n",
    "h = 1.0\n",
    "g = nk.graph.Graph(nodes = [i for i in range(length[0] * length[1] * 2)])\n",
    "hi = nk.hilbert.Spin(s=0.5, graph=g)\n",
    "\n",
    "\n",
    "ham = f.dimer_hamiltonian(V = V, h = h ,length=np.array(length))\n",
    "op_transition1 = f.dimer_flip1(length = np.array(length))\n",
    "\n",
    "\n",
    "hex_ = nk.machine.new_hex(np.array(length))\n",
    "\n",
    "ma = nk.machine.RbmDimer(hi, hex_, alpha = 1, symmetry = True\n",
    "                    ,use_hidden_bias = False, use_visible_bias = False, dtype=float, reverse=True, half=True)\n",
    "ma.init_random_parameters(seed=1234)"
   ]
  },
  {
   "cell_type": "code",
   "execution_count": 4,
   "id": "involved-action",
   "metadata": {},
   "outputs": [
    {
     "data": {
      "text/plain": [
       "array([[ 1.999995, -2.886748],\n",
       "       [ 2.999995, -2.886748],\n",
       "       [ 3.999995, -2.886748],\n",
       "       [ 4.999995, -2.886748],\n",
       "       [ 2.500005, -3.175429],\n",
       "       [ 3.500005, -3.175429],\n",
       "       [ 4.500005, -3.175429],\n",
       "       [ 5.500005, -3.175429],\n",
       "       [ 0.499995, -0.288672],\n",
       "       [ 1.499995, -0.288672],\n",
       "       [ 2.499995, -0.288672],\n",
       "       [ 3.499995, -0.288672],\n",
       "       [ 1.000005, -0.577353],\n",
       "       [ 2.000005, -0.577353],\n",
       "       [ 3.000005, -0.577353],\n",
       "       [ 4.000005, -0.577353],\n",
       "       [ 0.999995, -1.154698],\n",
       "       [ 1.999995, -1.154698],\n",
       "       [ 2.999995, -1.154698],\n",
       "       [ 3.999995, -1.154698],\n",
       "       [ 1.500005, -1.443379],\n",
       "       [ 2.500005, -1.443379],\n",
       "       [ 3.500005, -1.443379],\n",
       "       [ 4.500005, -1.443379],\n",
       "       [ 1.499995, -2.020723],\n",
       "       [ 2.499995, -2.020723],\n",
       "       [ 3.499995, -2.020723],\n",
       "       [ 4.499995, -2.020723],\n",
       "       [ 2.000005, -2.309404],\n",
       "       [ 3.000005, -2.309404],\n",
       "       [ 4.000005, -2.309404],\n",
       "       [ 5.000005, -2.309404]], dtype=float32)"
      ]
     },
     "execution_count": 4,
     "metadata": {},
     "output_type": "execute_result"
    }
   ],
   "source": [
    "hex_.lattice_coor"
   ]
  },
  {
   "cell_type": "markdown",
   "id": "intelligent-kitchen",
   "metadata": {},
   "source": [
    "### set params to 0 (represent ground state for v=1)"
   ]
  },
  {
   "cell_type": "code",
   "execution_count": 5,
   "id": "guided-shower",
   "metadata": {},
   "outputs": [],
   "source": [
    "ma._ws[:] = 0\n",
    "ma._set_bare_parameters(\n",
    "    ma._a, ma._b, ma._w, ma._as, ma._bs, ma._ws, ma._autom, ma._z2\n",
    ")"
   ]
  },
  {
   "cell_type": "markdown",
   "id": "confidential-timber",
   "metadata": {},
   "source": [
    "### create Markov Chain \n",
    "number of markov chain is denoted by n_samples_"
   ]
  },
  {
   "cell_type": "code",
   "execution_count": 6,
   "id": "social-alert",
   "metadata": {},
   "outputs": [
    {
     "name": "stdout",
     "output_type": "stream",
     "text": [
      "number of core : 12\n"
     ]
    }
   ],
   "source": [
    "n_jobs = 12\n",
    "\n",
    "g = nk.graph.Graph(nodes = [i for i in range(length[0] * length[1] * 2)])\n",
    "hi = nk.hilbert.Spin(s=0.5, graph=g)\n",
    "\n",
    "op = f.dimer_hamiltonian(h, V,np.array(length))\n",
    "op_transition = f.dimer_flip1(length = np.array(length))\n",
    "hex_ = nk.machine.new_hex(np.array(length))\n",
    "\n",
    "\n",
    "\n",
    "\n",
    "sweep_size = 1000\n",
    "sa_mul = nk.sampler.DimerMetropolisLocal_multi(machine=ma, op=op_transition, length = length, n_chains=1, sweep_size = sweep_size, kernel = 1, n_jobs=n_jobs)\n",
    "sa_mul.reset()\n",
    "_ = sa_mul.generate_samples(1000) # discard the begginings of metropolis sampling."
   ]
  },
  {
   "cell_type": "code",
   "execution_count": 7,
   "id": "authorized-coach",
   "metadata": {},
   "outputs": [
    {
     "name": "stdout",
     "output_type": "stream",
     "text": [
      "get samples\n"
     ]
    }
   ],
   "source": [
    "n_samples_ = 10000\n",
    "samples_state = sa_mul.generate_samples(int(n_samples_ / 1))\n",
    "samples_state = samples_state.reshape(-1, ma.hilbert.size)\n",
    "print('get samples')"
   ]
  },
  {
   "cell_type": "code",
   "execution_count": 8,
   "id": "aerial-niger",
   "metadata": {},
   "outputs": [
    {
     "name": "stdout",
     "output_type": "stream",
     "text": [
      "CPU times: user 57.7 ms, sys: 100 ms, total: 158 ms\n",
      "Wall time: 3.01 s\n"
     ]
    }
   ],
   "source": [
    "import scripts.dynamics as Dynamics\n",
    "d = Dynamics.new_dynamics(op, ma)\n",
    "%time P_ = d.multiprocess(samples_state, 300, 12) "
   ]
  },
  {
   "cell_type": "code",
   "execution_count": 9,
   "id": "fewer-crisis",
   "metadata": {},
   "outputs": [],
   "source": [
    "P = P_[0]\n",
    "T = P_[1]\n",
    "\n",
    "# t_list = np.linspace(0,50,100)\n",
    "t_list = np.arange(0,20,0.1)\n",
    "P_list = f.process_P(P, T, t_list)"
   ]
  },
  {
   "cell_type": "code",
   "execution_count": 10,
   "id": "innocent-scratch",
   "metadata": {},
   "outputs": [],
   "source": [
    "g = nk.graph.Graph(nodes = [i for i in range(length[0] * length[1] * 2)])\n",
    "hi = nk.hilbert.Spin(s=0.5, graph=g)\n",
    "hex_ = nk.machine.new_hex(np.array(length))"
   ]
  },
  {
   "cell_type": "code",
   "execution_count": 11,
   "id": "daily-bouquet",
   "metadata": {},
   "outputs": [
    {
     "name": "stderr",
     "output_type": "stream",
     "text": [
      "../scripts/functions.py:121: NumbaDeprecationWarning: The 'numba.jitclass' decorator has moved to 'numba.experimental.jitclass' to better reflect the experimental nature of the functionality. Please update your imports to accommodate this change and see https://numba.pydata.org/numba-doc/latest/reference/deprecation.html#change-of-jitclass-location for the time frame.\n",
      "  @jitclass(spec)\n"
     ]
    }
   ],
   "source": [
    "from importlib import reload\n",
    "reload(f)\n",
    "\n",
    "\n",
    "operators = f.return_vison(hi, np.arange(hex_.lattice_coor.shape[0]))"
   ]
  },
  {
   "cell_type": "code",
   "execution_count": 13,
   "id": "passing-appliance",
   "metadata": {
    "scrolled": true
   },
   "outputs": [
    {
     "name": "stdout",
     "output_type": "stream",
     "text": [
      "0\n",
      "1\n",
      "2\n",
      "3\n",
      "4\n",
      "5\n",
      "6\n",
      "7\n",
      "8\n",
      "9\n",
      "10\n",
      "11\n",
      "12\n",
      "13\n",
      "14\n",
      "15\n",
      "16\n",
      "17\n",
      "18\n",
      "19\n",
      "20\n",
      "21\n",
      "22\n",
      "23\n",
      "24\n",
      "25\n",
      "26\n",
      "27\n",
      "28\n",
      "29\n",
      "30\n",
      "31\n"
     ]
    }
   ],
   "source": [
    "num_samples = (P_list[:,:,0]!=0).sum(axis=1)\n",
    "P_list_ = P_list.reshape(-1,P_list.shape[-1])\n",
    "sections1 = np.arange(P_list.shape[1])\n",
    "sections2 = np.zeros(P_list_.shape[0])\n",
    "\n",
    "_, mels1 = operators[0].get_conn_flattened(P_list[0,:,:], sections1)\n",
    "sub1 = mels1.mean().real\n",
    "mels1 = mels1.real\n",
    "\n",
    "size = len(operators)\n",
    "\n",
    "dimer_corr = np.zeros((size,t_list.shape[0]))\n",
    "dimer_std = np.zeros((size,t_list.shape[0]))\n",
    "\n",
    "\n",
    "for s in range(size):\n",
    "    print(s)\n",
    "    \n",
    "    if operators[s]:\n",
    "        sub2 = operators[s].get_conn_flattened(P_list[0,:,:], sections1)[1].mean().real\n",
    "        _, mels2_ = operators[s].get_conn_flattened(P_list_, sections2)\n",
    "        mels2 = mels2_.reshape(P_list.shape[0], P_list.shape[1]).real\n",
    "        dimer_corr[s] = (mels2 * mels1).mean(axis=1)\n",
    "        dimer_std[s] = (mels2 * mels1).std(axis=1)\n",
    "    else:\n",
    "        dimer_corr[s] = 0\n",
    "        dimer_std[s] = 0"
   ]
  },
  {
   "cell_type": "code",
   "execution_count": 14,
   "id": "sporting-cruise",
   "metadata": {},
   "outputs": [],
   "source": [
    "from plotly import graph_objects as go"
   ]
  },
  {
   "cell_type": "code",
   "execution_count": 27,
   "id": "expensive-wichita",
   "metadata": {},
   "outputs": [],
   "source": [
    "\n",
    "\n",
    "data = go.Scatter(\n",
    "    x = t_list,\n",
    "    y = dimer_corr[4]\n",
    ")\n",
    "Fig = go.Figure(data = [data])"
   ]
  },
  {
   "cell_type": "code",
   "execution_count": 28,
   "id": "extreme-smooth",
   "metadata": {},
   "outputs": [
    {
     "data": {
      "application/vnd.plotly.v1+json": {
       "config": {
        "plotlyServerURL": "https://plot.ly"
       },
       "data": [
        {
         "type": "scatter",
         "x": [
          0,
          0.1,
          0.2,
          0.30000000000000004,
          0.4,
          0.5,
          0.6000000000000001,
          0.7000000000000001,
          0.8,
          0.9,
          1,
          1.1,
          1.2000000000000002,
          1.3,
          1.4000000000000001,
          1.5,
          1.6,
          1.7000000000000002,
          1.8,
          1.9000000000000001,
          2,
          2.1,
          2.2,
          2.3000000000000003,
          2.4000000000000004,
          2.5,
          2.6,
          2.7,
          2.8000000000000003,
          2.9000000000000004,
          3,
          3.1,
          3.2,
          3.3000000000000003,
          3.4000000000000004,
          3.5,
          3.6,
          3.7,
          3.8000000000000003,
          3.9000000000000004,
          4,
          4.1000000000000005,
          4.2,
          4.3,
          4.4,
          4.5,
          4.6000000000000005,
          4.7,
          4.800000000000001,
          4.9,
          5,
          5.1000000000000005,
          5.2,
          5.300000000000001,
          5.4,
          5.5,
          5.6000000000000005,
          5.7,
          5.800000000000001,
          5.9,
          6,
          6.1000000000000005,
          6.2,
          6.300000000000001,
          6.4,
          6.5,
          6.6000000000000005,
          6.7,
          6.800000000000001,
          6.9,
          7,
          7.1000000000000005,
          7.2,
          7.300000000000001,
          7.4,
          7.5,
          7.6000000000000005,
          7.7,
          7.800000000000001,
          7.9,
          8,
          8.1,
          8.200000000000001,
          8.3,
          8.4,
          8.5,
          8.6,
          8.700000000000001,
          8.8,
          8.9,
          9,
          9.1,
          9.200000000000001,
          9.3,
          9.4,
          9.5,
          9.600000000000001,
          9.700000000000001,
          9.8,
          9.9,
          10,
          10.100000000000001,
          10.200000000000001,
          10.3,
          10.4,
          10.5,
          10.600000000000001,
          10.700000000000001,
          10.8,
          10.9,
          11,
          11.100000000000001,
          11.200000000000001,
          11.3,
          11.4,
          11.5,
          11.600000000000001,
          11.700000000000001,
          11.8,
          11.9,
          12,
          12.100000000000001,
          12.200000000000001,
          12.3,
          12.4,
          12.5,
          12.600000000000001,
          12.700000000000001,
          12.8,
          12.9,
          13,
          13.100000000000001,
          13.200000000000001,
          13.3,
          13.4,
          13.5,
          13.600000000000001,
          13.700000000000001,
          13.8,
          13.9,
          14,
          14.100000000000001,
          14.200000000000001,
          14.3,
          14.4,
          14.5,
          14.600000000000001,
          14.700000000000001,
          14.8,
          14.9,
          15,
          15.100000000000001,
          15.200000000000001,
          15.3,
          15.4,
          15.5,
          15.600000000000001,
          15.700000000000001,
          15.8,
          15.9,
          16,
          16.1,
          16.2,
          16.3,
          16.400000000000002,
          16.5,
          16.6,
          16.7,
          16.8,
          16.900000000000002,
          17,
          17.1,
          17.2,
          17.3,
          17.400000000000002,
          17.5,
          17.6,
          17.7,
          17.8,
          17.900000000000002,
          18,
          18.1,
          18.2,
          18.3,
          18.400000000000002,
          18.5,
          18.6,
          18.7,
          18.8,
          18.900000000000002,
          19,
          19.1,
          19.200000000000003,
          19.3,
          19.400000000000002,
          19.5,
          19.6,
          19.700000000000003,
          19.8,
          19.900000000000002
         ],
         "y": [
          0.6678671468587435,
          0.650860344137655,
          0.6312525010004002,
          0.6178471388555422,
          0.5958383353341337,
          0.5794317727090836,
          0.5650260104041617,
          0.5518207282913166,
          0.5368147258903562,
          0.524609843937575,
          0.5178071228491397,
          0.5036014405762305,
          0.49459783913565425,
          0.48299319727891155,
          0.4803921568627451,
          0.4809923969587835,
          0.4725890356142457,
          0.46638655462184875,
          0.45898359343737494,
          0.44657863145258103,
          0.43497398959583833,
          0.4323729491796719,
          0.42697078831532614,
          0.41676670668267307,
          0.40796318527410963,
          0.4073629451780712,
          0.39995998399359745,
          0.3971588635454182,
          0.3873549419767907,
          0.37735094037615047,
          0.3663465386154462,
          0.3631452581032413,
          0.3559423769507803,
          0.3437374949979992,
          0.33873549419767907,
          0.33753501400560226,
          0.32633053221288516,
          0.32573029211684673,
          0.32192877150860344,
          0.31392557022809126,
          0.29971988795518206,
          0.29471788715486197,
          0.2927170868347339,
          0.2853141256502601,
          0.28211284513805523,
          0.2771108443377351,
          0.2743097238895558,
          0.27651060424169666,
          0.26630652260904364,
          0.27090836334533813,
          0.2613045218087235,
          0.2535014005602241,
          0.25610244097639057,
          0.24829931972789115,
          0.24449779911964786,
          0.23689475790316125,
          0.22949179671868747,
          0.22809123649459784,
          0.2304921968787515,
          0.22549019607843138,
          0.22028811524609843,
          0.2146858743497399,
          0.21208483393357344,
          0.20548219287715086,
          0.20908363345338135,
          0.20868347338935575,
          0.20888355342136855,
          0.20388155262104843,
          0.20448179271708683,
          0.20208083233293317,
          0.19307723089235695,
          0.1906762705082033,
          0.18927571028411364,
          0.1876750700280112,
          0.17747098839535813,
          0.17727090836334533,
          0.16846738695478192,
          0.16826730692276912,
          0.1716686674669868,
          0.17106842737094838,
          0.17146858743497398,
          0.16806722689075632,
          0.16706682673069229,
          0.16306522609043617,
          0.1634653861544618,
          0.15786314525810324,
          0.1566626650660264,
          0.1522609043617447,
          0.15386154461784715,
          0.15346138455382152,
          0.14725890356142457,
          0.1446578631452581,
          0.14085634253701482,
          0.13405362144857944,
          0.13805522208883553,
          0.1332533013205282,
          0.1362545018007203,
          0.1360544217687075,
          0.1366546618647459,
          0.12705082032813125,
          0.12725090036014405,
          0.12745098039215685,
          0.12204881952781113,
          0.11944777911164466,
          0.11404561824729892,
          0.11064425770308123,
          0.11044417767106843,
          0.11024409763905563,
          0.10844337735094038,
          0.10884353741496598,
          0.10644257703081232,
          0.1058423369347739,
          0.09983993597438975,
          0.09923969587835134,
          0.09563825530212085,
          0.09163665466186474,
          0.09103641456582633,
          0.08823529411764706,
          0.08883553421368548,
          0.08643457382953182,
          0.09083633453381353,
          0.08903561424569828,
          0.08363345338135254,
          0.08003201280512205,
          0.08323329331732693,
          0.08703481392557023,
          0.07883153261304522,
          0.07943177270908364,
          0.0744297719087635,
          0.07102841136454582,
          0.07543017206882753,
          0.07583033213285315,
          0.07062825130052021,
          0.0666266506602641,
          0.06442577030812324,
          0.062224889955982396,
          0.061224489795918366,
          0.06382553021208483,
          0.06562625050020009,
          0.0664265706282513,
          0.06062424969987995,
          0.06382553021208483,
          0.05782312925170068,
          0.061224489795918366,
          0.05782312925170068,
          0.06182472989195678,
          0.06362545018007203,
          0.06602641056422569,
          0.06582633053221289,
          0.062625050020008,
          0.06082432973189276,
          0.06342537014805923,
          0.05962384953981593,
          0.06202480992396959,
          0.06402561024409764,
          0.06142456982793117,
          0.058823529411764705,
          0.057623049219687875,
          0.04881952781112445,
          0.04601840736294518,
          0.04201680672268908,
          0.04421768707482993,
          0.04321728691476591,
          0.045018007202881155,
          0.05302120848339336,
          0.047819127651060424,
          0.046218487394957986,
          0.045018007202881155,
          0.03981592637054822,
          0.03801520608243297,
          0.037615046018407365,
          0.03701480592236895,
          0.029811924769907964,
          0.028211284513805522,
          0.031212484993997598,
          0.029411764705882353,
          0.027410964385754303,
          0.029611844737895156,
          0.02701080432172869,
          0.024809923969587835,
          0.016206482593037214,
          0.018807523009203683,
          0.022408963585434174,
          0.017406962785114045,
          0.021608643457382955,
          0.022408963585434174,
          0.019407763105242098,
          0.015806322529011603,
          0.01800720288115246,
          0.020608243297318928,
          0.00980392156862745,
          0.012605042016806723,
          0.01720688275310124,
          0.019407763105242098,
          0.012805122048819529,
          0.016206482593037214,
          0.01680672268907563,
          0.019407763105242098,
          0.023609443777511004,
          0.026210484193677473
         ]
        }
       ],
       "layout": {
        "template": {
         "data": {
          "bar": [
           {
            "error_x": {
             "color": "#2a3f5f"
            },
            "error_y": {
             "color": "#2a3f5f"
            },
            "marker": {
             "line": {
              "color": "#E5ECF6",
              "width": 0.5
             }
            },
            "type": "bar"
           }
          ],
          "barpolar": [
           {
            "marker": {
             "line": {
              "color": "#E5ECF6",
              "width": 0.5
             }
            },
            "type": "barpolar"
           }
          ],
          "carpet": [
           {
            "aaxis": {
             "endlinecolor": "#2a3f5f",
             "gridcolor": "white",
             "linecolor": "white",
             "minorgridcolor": "white",
             "startlinecolor": "#2a3f5f"
            },
            "baxis": {
             "endlinecolor": "#2a3f5f",
             "gridcolor": "white",
             "linecolor": "white",
             "minorgridcolor": "white",
             "startlinecolor": "#2a3f5f"
            },
            "type": "carpet"
           }
          ],
          "choropleth": [
           {
            "colorbar": {
             "outlinewidth": 0,
             "ticks": ""
            },
            "type": "choropleth"
           }
          ],
          "contour": [
           {
            "colorbar": {
             "outlinewidth": 0,
             "ticks": ""
            },
            "colorscale": [
             [
              0,
              "#0d0887"
             ],
             [
              0.1111111111111111,
              "#46039f"
             ],
             [
              0.2222222222222222,
              "#7201a8"
             ],
             [
              0.3333333333333333,
              "#9c179e"
             ],
             [
              0.4444444444444444,
              "#bd3786"
             ],
             [
              0.5555555555555556,
              "#d8576b"
             ],
             [
              0.6666666666666666,
              "#ed7953"
             ],
             [
              0.7777777777777778,
              "#fb9f3a"
             ],
             [
              0.8888888888888888,
              "#fdca26"
             ],
             [
              1,
              "#f0f921"
             ]
            ],
            "type": "contour"
           }
          ],
          "contourcarpet": [
           {
            "colorbar": {
             "outlinewidth": 0,
             "ticks": ""
            },
            "type": "contourcarpet"
           }
          ],
          "heatmap": [
           {
            "colorbar": {
             "outlinewidth": 0,
             "ticks": ""
            },
            "colorscale": [
             [
              0,
              "#0d0887"
             ],
             [
              0.1111111111111111,
              "#46039f"
             ],
             [
              0.2222222222222222,
              "#7201a8"
             ],
             [
              0.3333333333333333,
              "#9c179e"
             ],
             [
              0.4444444444444444,
              "#bd3786"
             ],
             [
              0.5555555555555556,
              "#d8576b"
             ],
             [
              0.6666666666666666,
              "#ed7953"
             ],
             [
              0.7777777777777778,
              "#fb9f3a"
             ],
             [
              0.8888888888888888,
              "#fdca26"
             ],
             [
              1,
              "#f0f921"
             ]
            ],
            "type": "heatmap"
           }
          ],
          "heatmapgl": [
           {
            "colorbar": {
             "outlinewidth": 0,
             "ticks": ""
            },
            "colorscale": [
             [
              0,
              "#0d0887"
             ],
             [
              0.1111111111111111,
              "#46039f"
             ],
             [
              0.2222222222222222,
              "#7201a8"
             ],
             [
              0.3333333333333333,
              "#9c179e"
             ],
             [
              0.4444444444444444,
              "#bd3786"
             ],
             [
              0.5555555555555556,
              "#d8576b"
             ],
             [
              0.6666666666666666,
              "#ed7953"
             ],
             [
              0.7777777777777778,
              "#fb9f3a"
             ],
             [
              0.8888888888888888,
              "#fdca26"
             ],
             [
              1,
              "#f0f921"
             ]
            ],
            "type": "heatmapgl"
           }
          ],
          "histogram": [
           {
            "marker": {
             "colorbar": {
              "outlinewidth": 0,
              "ticks": ""
             }
            },
            "type": "histogram"
           }
          ],
          "histogram2d": [
           {
            "colorbar": {
             "outlinewidth": 0,
             "ticks": ""
            },
            "colorscale": [
             [
              0,
              "#0d0887"
             ],
             [
              0.1111111111111111,
              "#46039f"
             ],
             [
              0.2222222222222222,
              "#7201a8"
             ],
             [
              0.3333333333333333,
              "#9c179e"
             ],
             [
              0.4444444444444444,
              "#bd3786"
             ],
             [
              0.5555555555555556,
              "#d8576b"
             ],
             [
              0.6666666666666666,
              "#ed7953"
             ],
             [
              0.7777777777777778,
              "#fb9f3a"
             ],
             [
              0.8888888888888888,
              "#fdca26"
             ],
             [
              1,
              "#f0f921"
             ]
            ],
            "type": "histogram2d"
           }
          ],
          "histogram2dcontour": [
           {
            "colorbar": {
             "outlinewidth": 0,
             "ticks": ""
            },
            "colorscale": [
             [
              0,
              "#0d0887"
             ],
             [
              0.1111111111111111,
              "#46039f"
             ],
             [
              0.2222222222222222,
              "#7201a8"
             ],
             [
              0.3333333333333333,
              "#9c179e"
             ],
             [
              0.4444444444444444,
              "#bd3786"
             ],
             [
              0.5555555555555556,
              "#d8576b"
             ],
             [
              0.6666666666666666,
              "#ed7953"
             ],
             [
              0.7777777777777778,
              "#fb9f3a"
             ],
             [
              0.8888888888888888,
              "#fdca26"
             ],
             [
              1,
              "#f0f921"
             ]
            ],
            "type": "histogram2dcontour"
           }
          ],
          "mesh3d": [
           {
            "colorbar": {
             "outlinewidth": 0,
             "ticks": ""
            },
            "type": "mesh3d"
           }
          ],
          "parcoords": [
           {
            "line": {
             "colorbar": {
              "outlinewidth": 0,
              "ticks": ""
             }
            },
            "type": "parcoords"
           }
          ],
          "pie": [
           {
            "automargin": true,
            "type": "pie"
           }
          ],
          "scatter": [
           {
            "marker": {
             "colorbar": {
              "outlinewidth": 0,
              "ticks": ""
             }
            },
            "type": "scatter"
           }
          ],
          "scatter3d": [
           {
            "line": {
             "colorbar": {
              "outlinewidth": 0,
              "ticks": ""
             }
            },
            "marker": {
             "colorbar": {
              "outlinewidth": 0,
              "ticks": ""
             }
            },
            "type": "scatter3d"
           }
          ],
          "scattercarpet": [
           {
            "marker": {
             "colorbar": {
              "outlinewidth": 0,
              "ticks": ""
             }
            },
            "type": "scattercarpet"
           }
          ],
          "scattergeo": [
           {
            "marker": {
             "colorbar": {
              "outlinewidth": 0,
              "ticks": ""
             }
            },
            "type": "scattergeo"
           }
          ],
          "scattergl": [
           {
            "marker": {
             "colorbar": {
              "outlinewidth": 0,
              "ticks": ""
             }
            },
            "type": "scattergl"
           }
          ],
          "scattermapbox": [
           {
            "marker": {
             "colorbar": {
              "outlinewidth": 0,
              "ticks": ""
             }
            },
            "type": "scattermapbox"
           }
          ],
          "scatterpolar": [
           {
            "marker": {
             "colorbar": {
              "outlinewidth": 0,
              "ticks": ""
             }
            },
            "type": "scatterpolar"
           }
          ],
          "scatterpolargl": [
           {
            "marker": {
             "colorbar": {
              "outlinewidth": 0,
              "ticks": ""
             }
            },
            "type": "scatterpolargl"
           }
          ],
          "scatterternary": [
           {
            "marker": {
             "colorbar": {
              "outlinewidth": 0,
              "ticks": ""
             }
            },
            "type": "scatterternary"
           }
          ],
          "surface": [
           {
            "colorbar": {
             "outlinewidth": 0,
             "ticks": ""
            },
            "colorscale": [
             [
              0,
              "#0d0887"
             ],
             [
              0.1111111111111111,
              "#46039f"
             ],
             [
              0.2222222222222222,
              "#7201a8"
             ],
             [
              0.3333333333333333,
              "#9c179e"
             ],
             [
              0.4444444444444444,
              "#bd3786"
             ],
             [
              0.5555555555555556,
              "#d8576b"
             ],
             [
              0.6666666666666666,
              "#ed7953"
             ],
             [
              0.7777777777777778,
              "#fb9f3a"
             ],
             [
              0.8888888888888888,
              "#fdca26"
             ],
             [
              1,
              "#f0f921"
             ]
            ],
            "type": "surface"
           }
          ],
          "table": [
           {
            "cells": {
             "fill": {
              "color": "#EBF0F8"
             },
             "line": {
              "color": "white"
             }
            },
            "header": {
             "fill": {
              "color": "#C8D4E3"
             },
             "line": {
              "color": "white"
             }
            },
            "type": "table"
           }
          ]
         },
         "layout": {
          "annotationdefaults": {
           "arrowcolor": "#2a3f5f",
           "arrowhead": 0,
           "arrowwidth": 1
          },
          "autotypenumbers": "strict",
          "coloraxis": {
           "colorbar": {
            "outlinewidth": 0,
            "ticks": ""
           }
          },
          "colorscale": {
           "diverging": [
            [
             0,
             "#8e0152"
            ],
            [
             0.1,
             "#c51b7d"
            ],
            [
             0.2,
             "#de77ae"
            ],
            [
             0.3,
             "#f1b6da"
            ],
            [
             0.4,
             "#fde0ef"
            ],
            [
             0.5,
             "#f7f7f7"
            ],
            [
             0.6,
             "#e6f5d0"
            ],
            [
             0.7,
             "#b8e186"
            ],
            [
             0.8,
             "#7fbc41"
            ],
            [
             0.9,
             "#4d9221"
            ],
            [
             1,
             "#276419"
            ]
           ],
           "sequential": [
            [
             0,
             "#0d0887"
            ],
            [
             0.1111111111111111,
             "#46039f"
            ],
            [
             0.2222222222222222,
             "#7201a8"
            ],
            [
             0.3333333333333333,
             "#9c179e"
            ],
            [
             0.4444444444444444,
             "#bd3786"
            ],
            [
             0.5555555555555556,
             "#d8576b"
            ],
            [
             0.6666666666666666,
             "#ed7953"
            ],
            [
             0.7777777777777778,
             "#fb9f3a"
            ],
            [
             0.8888888888888888,
             "#fdca26"
            ],
            [
             1,
             "#f0f921"
            ]
           ],
           "sequentialminus": [
            [
             0,
             "#0d0887"
            ],
            [
             0.1111111111111111,
             "#46039f"
            ],
            [
             0.2222222222222222,
             "#7201a8"
            ],
            [
             0.3333333333333333,
             "#9c179e"
            ],
            [
             0.4444444444444444,
             "#bd3786"
            ],
            [
             0.5555555555555556,
             "#d8576b"
            ],
            [
             0.6666666666666666,
             "#ed7953"
            ],
            [
             0.7777777777777778,
             "#fb9f3a"
            ],
            [
             0.8888888888888888,
             "#fdca26"
            ],
            [
             1,
             "#f0f921"
            ]
           ]
          },
          "colorway": [
           "#636efa",
           "#EF553B",
           "#00cc96",
           "#ab63fa",
           "#FFA15A",
           "#19d3f3",
           "#FF6692",
           "#B6E880",
           "#FF97FF",
           "#FECB52"
          ],
          "font": {
           "color": "#2a3f5f"
          },
          "geo": {
           "bgcolor": "white",
           "lakecolor": "white",
           "landcolor": "#E5ECF6",
           "showlakes": true,
           "showland": true,
           "subunitcolor": "white"
          },
          "hoverlabel": {
           "align": "left"
          },
          "hovermode": "closest",
          "mapbox": {
           "style": "light"
          },
          "paper_bgcolor": "white",
          "plot_bgcolor": "#E5ECF6",
          "polar": {
           "angularaxis": {
            "gridcolor": "white",
            "linecolor": "white",
            "ticks": ""
           },
           "bgcolor": "#E5ECF6",
           "radialaxis": {
            "gridcolor": "white",
            "linecolor": "white",
            "ticks": ""
           }
          },
          "scene": {
           "xaxis": {
            "backgroundcolor": "#E5ECF6",
            "gridcolor": "white",
            "gridwidth": 2,
            "linecolor": "white",
            "showbackground": true,
            "ticks": "",
            "zerolinecolor": "white"
           },
           "yaxis": {
            "backgroundcolor": "#E5ECF6",
            "gridcolor": "white",
            "gridwidth": 2,
            "linecolor": "white",
            "showbackground": true,
            "ticks": "",
            "zerolinecolor": "white"
           },
           "zaxis": {
            "backgroundcolor": "#E5ECF6",
            "gridcolor": "white",
            "gridwidth": 2,
            "linecolor": "white",
            "showbackground": true,
            "ticks": "",
            "zerolinecolor": "white"
           }
          },
          "shapedefaults": {
           "line": {
            "color": "#2a3f5f"
           }
          },
          "ternary": {
           "aaxis": {
            "gridcolor": "white",
            "linecolor": "white",
            "ticks": ""
           },
           "baxis": {
            "gridcolor": "white",
            "linecolor": "white",
            "ticks": ""
           },
           "bgcolor": "#E5ECF6",
           "caxis": {
            "gridcolor": "white",
            "linecolor": "white",
            "ticks": ""
           }
          },
          "title": {
           "x": 0.05
          },
          "xaxis": {
           "automargin": true,
           "gridcolor": "white",
           "linecolor": "white",
           "ticks": "",
           "title": {
            "standoff": 15
           },
           "zerolinecolor": "white",
           "zerolinewidth": 2
          },
          "yaxis": {
           "automargin": true,
           "gridcolor": "white",
           "linecolor": "white",
           "ticks": "",
           "title": {
            "standoff": 15
           },
           "zerolinecolor": "white",
           "zerolinewidth": 2
          }
         }
        }
       }
      },
      "text/html": [
       "<div>                            <div id=\"2ecd43a7-d52e-481b-aba0-821e491c8148\" class=\"plotly-graph-div\" style=\"height:525px; width:100%;\"></div>            <script type=\"text/javascript\">                require([\"plotly\"], function(Plotly) {                    window.PLOTLYENV=window.PLOTLYENV || {};                                    if (document.getElementById(\"2ecd43a7-d52e-481b-aba0-821e491c8148\")) {                    Plotly.newPlot(                        \"2ecd43a7-d52e-481b-aba0-821e491c8148\",                        [{\"type\": \"scatter\", \"x\": [0.0, 0.1, 0.2, 0.30000000000000004, 0.4, 0.5, 0.6000000000000001, 0.7000000000000001, 0.8, 0.9, 1.0, 1.1, 1.2000000000000002, 1.3, 1.4000000000000001, 1.5, 1.6, 1.7000000000000002, 1.8, 1.9000000000000001, 2.0, 2.1, 2.2, 2.3000000000000003, 2.4000000000000004, 2.5, 2.6, 2.7, 2.8000000000000003, 2.9000000000000004, 3.0, 3.1, 3.2, 3.3000000000000003, 3.4000000000000004, 3.5, 3.6, 3.7, 3.8000000000000003, 3.9000000000000004, 4.0, 4.1000000000000005, 4.2, 4.3, 4.4, 4.5, 4.6000000000000005, 4.7, 4.800000000000001, 4.9, 5.0, 5.1000000000000005, 5.2, 5.300000000000001, 5.4, 5.5, 5.6000000000000005, 5.7, 5.800000000000001, 5.9, 6.0, 6.1000000000000005, 6.2, 6.300000000000001, 6.4, 6.5, 6.6000000000000005, 6.7, 6.800000000000001, 6.9, 7.0, 7.1000000000000005, 7.2, 7.300000000000001, 7.4, 7.5, 7.6000000000000005, 7.7, 7.800000000000001, 7.9, 8.0, 8.1, 8.200000000000001, 8.3, 8.4, 8.5, 8.6, 8.700000000000001, 8.8, 8.9, 9.0, 9.1, 9.200000000000001, 9.3, 9.4, 9.5, 9.600000000000001, 9.700000000000001, 9.8, 9.9, 10.0, 10.100000000000001, 10.200000000000001, 10.3, 10.4, 10.5, 10.600000000000001, 10.700000000000001, 10.8, 10.9, 11.0, 11.100000000000001, 11.200000000000001, 11.3, 11.4, 11.5, 11.600000000000001, 11.700000000000001, 11.8, 11.9, 12.0, 12.100000000000001, 12.200000000000001, 12.3, 12.4, 12.5, 12.600000000000001, 12.700000000000001, 12.8, 12.9, 13.0, 13.100000000000001, 13.200000000000001, 13.3, 13.4, 13.5, 13.600000000000001, 13.700000000000001, 13.8, 13.9, 14.0, 14.100000000000001, 14.200000000000001, 14.3, 14.4, 14.5, 14.600000000000001, 14.700000000000001, 14.8, 14.9, 15.0, 15.100000000000001, 15.200000000000001, 15.3, 15.4, 15.5, 15.600000000000001, 15.700000000000001, 15.8, 15.9, 16.0, 16.1, 16.2, 16.3, 16.400000000000002, 16.5, 16.6, 16.7, 16.8, 16.900000000000002, 17.0, 17.1, 17.2, 17.3, 17.400000000000002, 17.5, 17.6, 17.7, 17.8, 17.900000000000002, 18.0, 18.1, 18.2, 18.3, 18.400000000000002, 18.5, 18.6, 18.7, 18.8, 18.900000000000002, 19.0, 19.1, 19.200000000000003, 19.3, 19.400000000000002, 19.5, 19.6, 19.700000000000003, 19.8, 19.900000000000002], \"y\": [0.6678671468587435, 0.650860344137655, 0.6312525010004002, 0.6178471388555422, 0.5958383353341337, 0.5794317727090836, 0.5650260104041617, 0.5518207282913166, 0.5368147258903562, 0.524609843937575, 0.5178071228491397, 0.5036014405762305, 0.49459783913565425, 0.48299319727891155, 0.4803921568627451, 0.4809923969587835, 0.4725890356142457, 0.46638655462184875, 0.45898359343737494, 0.44657863145258103, 0.43497398959583833, 0.4323729491796719, 0.42697078831532614, 0.41676670668267307, 0.40796318527410963, 0.4073629451780712, 0.39995998399359745, 0.3971588635454182, 0.3873549419767907, 0.37735094037615047, 0.3663465386154462, 0.3631452581032413, 0.3559423769507803, 0.3437374949979992, 0.33873549419767907, 0.33753501400560226, 0.32633053221288516, 0.32573029211684673, 0.32192877150860344, 0.31392557022809126, 0.29971988795518206, 0.29471788715486197, 0.2927170868347339, 0.2853141256502601, 0.28211284513805523, 0.2771108443377351, 0.2743097238895558, 0.27651060424169666, 0.26630652260904364, 0.27090836334533813, 0.2613045218087235, 0.2535014005602241, 0.25610244097639057, 0.24829931972789115, 0.24449779911964786, 0.23689475790316125, 0.22949179671868747, 0.22809123649459784, 0.2304921968787515, 0.22549019607843138, 0.22028811524609843, 0.2146858743497399, 0.21208483393357344, 0.20548219287715086, 0.20908363345338135, 0.20868347338935575, 0.20888355342136855, 0.20388155262104843, 0.20448179271708683, 0.20208083233293317, 0.19307723089235695, 0.1906762705082033, 0.18927571028411364, 0.1876750700280112, 0.17747098839535813, 0.17727090836334533, 0.16846738695478192, 0.16826730692276912, 0.1716686674669868, 0.17106842737094838, 0.17146858743497398, 0.16806722689075632, 0.16706682673069229, 0.16306522609043617, 0.1634653861544618, 0.15786314525810324, 0.1566626650660264, 0.1522609043617447, 0.15386154461784715, 0.15346138455382152, 0.14725890356142457, 0.1446578631452581, 0.14085634253701482, 0.13405362144857944, 0.13805522208883553, 0.1332533013205282, 0.1362545018007203, 0.1360544217687075, 0.1366546618647459, 0.12705082032813125, 0.12725090036014405, 0.12745098039215685, 0.12204881952781113, 0.11944777911164466, 0.11404561824729892, 0.11064425770308123, 0.11044417767106843, 0.11024409763905563, 0.10844337735094038, 0.10884353741496598, 0.10644257703081232, 0.1058423369347739, 0.09983993597438975, 0.09923969587835134, 0.09563825530212085, 0.09163665466186474, 0.09103641456582633, 0.08823529411764706, 0.08883553421368548, 0.08643457382953182, 0.09083633453381353, 0.08903561424569828, 0.08363345338135254, 0.08003201280512205, 0.08323329331732693, 0.08703481392557023, 0.07883153261304522, 0.07943177270908364, 0.0744297719087635, 0.07102841136454582, 0.07543017206882753, 0.07583033213285315, 0.07062825130052021, 0.0666266506602641, 0.06442577030812324, 0.062224889955982396, 0.061224489795918366, 0.06382553021208483, 0.06562625050020009, 0.0664265706282513, 0.06062424969987995, 0.06382553021208483, 0.05782312925170068, 0.061224489795918366, 0.05782312925170068, 0.06182472989195678, 0.06362545018007203, 0.06602641056422569, 0.06582633053221289, 0.062625050020008, 0.06082432973189276, 0.06342537014805923, 0.05962384953981593, 0.06202480992396959, 0.06402561024409764, 0.06142456982793117, 0.058823529411764705, 0.057623049219687875, 0.04881952781112445, 0.04601840736294518, 0.04201680672268908, 0.04421768707482993, 0.04321728691476591, 0.045018007202881155, 0.05302120848339336, 0.047819127651060424, 0.046218487394957986, 0.045018007202881155, 0.03981592637054822, 0.03801520608243297, 0.037615046018407365, 0.03701480592236895, 0.029811924769907964, 0.028211284513805522, 0.031212484993997598, 0.029411764705882353, 0.027410964385754303, 0.029611844737895156, 0.02701080432172869, 0.024809923969587835, 0.016206482593037214, 0.018807523009203683, 0.022408963585434174, 0.017406962785114045, 0.021608643457382955, 0.022408963585434174, 0.019407763105242098, 0.015806322529011603, 0.01800720288115246, 0.020608243297318928, 0.00980392156862745, 0.012605042016806723, 0.01720688275310124, 0.019407763105242098, 0.012805122048819529, 0.016206482593037214, 0.01680672268907563, 0.019407763105242098, 0.023609443777511004, 0.026210484193677473]}],                        {\"template\": {\"data\": {\"bar\": [{\"error_x\": {\"color\": \"#2a3f5f\"}, \"error_y\": {\"color\": \"#2a3f5f\"}, \"marker\": {\"line\": {\"color\": \"#E5ECF6\", \"width\": 0.5}}, \"type\": \"bar\"}], \"barpolar\": [{\"marker\": {\"line\": {\"color\": \"#E5ECF6\", \"width\": 0.5}}, \"type\": \"barpolar\"}], \"carpet\": [{\"aaxis\": {\"endlinecolor\": \"#2a3f5f\", \"gridcolor\": \"white\", \"linecolor\": \"white\", \"minorgridcolor\": \"white\", \"startlinecolor\": \"#2a3f5f\"}, \"baxis\": {\"endlinecolor\": \"#2a3f5f\", \"gridcolor\": \"white\", \"linecolor\": \"white\", \"minorgridcolor\": \"white\", \"startlinecolor\": \"#2a3f5f\"}, \"type\": \"carpet\"}], \"choropleth\": [{\"colorbar\": {\"outlinewidth\": 0, \"ticks\": \"\"}, \"type\": \"choropleth\"}], \"contour\": [{\"colorbar\": {\"outlinewidth\": 0, \"ticks\": \"\"}, \"colorscale\": [[0.0, \"#0d0887\"], [0.1111111111111111, \"#46039f\"], [0.2222222222222222, \"#7201a8\"], [0.3333333333333333, \"#9c179e\"], [0.4444444444444444, \"#bd3786\"], [0.5555555555555556, \"#d8576b\"], [0.6666666666666666, \"#ed7953\"], [0.7777777777777778, \"#fb9f3a\"], [0.8888888888888888, \"#fdca26\"], [1.0, \"#f0f921\"]], \"type\": \"contour\"}], \"contourcarpet\": [{\"colorbar\": {\"outlinewidth\": 0, \"ticks\": \"\"}, \"type\": \"contourcarpet\"}], \"heatmap\": [{\"colorbar\": {\"outlinewidth\": 0, \"ticks\": \"\"}, \"colorscale\": [[0.0, \"#0d0887\"], [0.1111111111111111, \"#46039f\"], [0.2222222222222222, \"#7201a8\"], [0.3333333333333333, \"#9c179e\"], [0.4444444444444444, \"#bd3786\"], [0.5555555555555556, \"#d8576b\"], [0.6666666666666666, \"#ed7953\"], [0.7777777777777778, \"#fb9f3a\"], [0.8888888888888888, \"#fdca26\"], [1.0, \"#f0f921\"]], \"type\": \"heatmap\"}], \"heatmapgl\": [{\"colorbar\": {\"outlinewidth\": 0, \"ticks\": \"\"}, \"colorscale\": [[0.0, \"#0d0887\"], [0.1111111111111111, \"#46039f\"], [0.2222222222222222, \"#7201a8\"], [0.3333333333333333, \"#9c179e\"], [0.4444444444444444, \"#bd3786\"], [0.5555555555555556, \"#d8576b\"], [0.6666666666666666, \"#ed7953\"], [0.7777777777777778, \"#fb9f3a\"], [0.8888888888888888, \"#fdca26\"], [1.0, \"#f0f921\"]], \"type\": \"heatmapgl\"}], \"histogram\": [{\"marker\": {\"colorbar\": {\"outlinewidth\": 0, \"ticks\": \"\"}}, \"type\": \"histogram\"}], \"histogram2d\": [{\"colorbar\": {\"outlinewidth\": 0, \"ticks\": \"\"}, \"colorscale\": [[0.0, \"#0d0887\"], [0.1111111111111111, \"#46039f\"], [0.2222222222222222, \"#7201a8\"], [0.3333333333333333, \"#9c179e\"], [0.4444444444444444, \"#bd3786\"], [0.5555555555555556, \"#d8576b\"], [0.6666666666666666, \"#ed7953\"], [0.7777777777777778, \"#fb9f3a\"], [0.8888888888888888, \"#fdca26\"], [1.0, \"#f0f921\"]], \"type\": \"histogram2d\"}], \"histogram2dcontour\": [{\"colorbar\": {\"outlinewidth\": 0, \"ticks\": \"\"}, \"colorscale\": [[0.0, \"#0d0887\"], [0.1111111111111111, \"#46039f\"], [0.2222222222222222, \"#7201a8\"], [0.3333333333333333, \"#9c179e\"], [0.4444444444444444, \"#bd3786\"], [0.5555555555555556, \"#d8576b\"], [0.6666666666666666, \"#ed7953\"], [0.7777777777777778, \"#fb9f3a\"], [0.8888888888888888, \"#fdca26\"], [1.0, \"#f0f921\"]], \"type\": \"histogram2dcontour\"}], \"mesh3d\": [{\"colorbar\": {\"outlinewidth\": 0, \"ticks\": \"\"}, \"type\": \"mesh3d\"}], \"parcoords\": [{\"line\": {\"colorbar\": {\"outlinewidth\": 0, \"ticks\": \"\"}}, \"type\": \"parcoords\"}], \"pie\": [{\"automargin\": true, \"type\": \"pie\"}], \"scatter\": [{\"marker\": {\"colorbar\": {\"outlinewidth\": 0, \"ticks\": \"\"}}, \"type\": \"scatter\"}], \"scatter3d\": [{\"line\": {\"colorbar\": {\"outlinewidth\": 0, \"ticks\": \"\"}}, \"marker\": {\"colorbar\": {\"outlinewidth\": 0, \"ticks\": \"\"}}, \"type\": \"scatter3d\"}], \"scattercarpet\": [{\"marker\": {\"colorbar\": {\"outlinewidth\": 0, \"ticks\": \"\"}}, \"type\": \"scattercarpet\"}], \"scattergeo\": [{\"marker\": {\"colorbar\": {\"outlinewidth\": 0, \"ticks\": \"\"}}, \"type\": \"scattergeo\"}], \"scattergl\": [{\"marker\": {\"colorbar\": {\"outlinewidth\": 0, \"ticks\": \"\"}}, \"type\": \"scattergl\"}], \"scattermapbox\": [{\"marker\": {\"colorbar\": {\"outlinewidth\": 0, \"ticks\": \"\"}}, \"type\": \"scattermapbox\"}], \"scatterpolar\": [{\"marker\": {\"colorbar\": {\"outlinewidth\": 0, \"ticks\": \"\"}}, \"type\": \"scatterpolar\"}], \"scatterpolargl\": [{\"marker\": {\"colorbar\": {\"outlinewidth\": 0, \"ticks\": \"\"}}, \"type\": \"scatterpolargl\"}], \"scatterternary\": [{\"marker\": {\"colorbar\": {\"outlinewidth\": 0, \"ticks\": \"\"}}, \"type\": \"scatterternary\"}], \"surface\": [{\"colorbar\": {\"outlinewidth\": 0, \"ticks\": \"\"}, \"colorscale\": [[0.0, \"#0d0887\"], [0.1111111111111111, \"#46039f\"], [0.2222222222222222, \"#7201a8\"], [0.3333333333333333, \"#9c179e\"], [0.4444444444444444, \"#bd3786\"], [0.5555555555555556, \"#d8576b\"], [0.6666666666666666, \"#ed7953\"], [0.7777777777777778, \"#fb9f3a\"], [0.8888888888888888, \"#fdca26\"], [1.0, \"#f0f921\"]], \"type\": \"surface\"}], \"table\": [{\"cells\": {\"fill\": {\"color\": \"#EBF0F8\"}, \"line\": {\"color\": \"white\"}}, \"header\": {\"fill\": {\"color\": \"#C8D4E3\"}, \"line\": {\"color\": \"white\"}}, \"type\": \"table\"}]}, \"layout\": {\"annotationdefaults\": {\"arrowcolor\": \"#2a3f5f\", \"arrowhead\": 0, \"arrowwidth\": 1}, \"autotypenumbers\": \"strict\", \"coloraxis\": {\"colorbar\": {\"outlinewidth\": 0, \"ticks\": \"\"}}, \"colorscale\": {\"diverging\": [[0, \"#8e0152\"], [0.1, \"#c51b7d\"], [0.2, \"#de77ae\"], [0.3, \"#f1b6da\"], [0.4, \"#fde0ef\"], [0.5, \"#f7f7f7\"], [0.6, \"#e6f5d0\"], [0.7, \"#b8e186\"], [0.8, \"#7fbc41\"], [0.9, \"#4d9221\"], [1, \"#276419\"]], \"sequential\": [[0.0, \"#0d0887\"], [0.1111111111111111, \"#46039f\"], [0.2222222222222222, \"#7201a8\"], [0.3333333333333333, \"#9c179e\"], [0.4444444444444444, \"#bd3786\"], [0.5555555555555556, \"#d8576b\"], [0.6666666666666666, \"#ed7953\"], [0.7777777777777778, \"#fb9f3a\"], [0.8888888888888888, \"#fdca26\"], [1.0, \"#f0f921\"]], \"sequentialminus\": [[0.0, \"#0d0887\"], [0.1111111111111111, \"#46039f\"], [0.2222222222222222, \"#7201a8\"], [0.3333333333333333, \"#9c179e\"], [0.4444444444444444, \"#bd3786\"], [0.5555555555555556, \"#d8576b\"], [0.6666666666666666, \"#ed7953\"], [0.7777777777777778, \"#fb9f3a\"], [0.8888888888888888, \"#fdca26\"], [1.0, \"#f0f921\"]]}, \"colorway\": [\"#636efa\", \"#EF553B\", \"#00cc96\", \"#ab63fa\", \"#FFA15A\", \"#19d3f3\", \"#FF6692\", \"#B6E880\", \"#FF97FF\", \"#FECB52\"], \"font\": {\"color\": \"#2a3f5f\"}, \"geo\": {\"bgcolor\": \"white\", \"lakecolor\": \"white\", \"landcolor\": \"#E5ECF6\", \"showlakes\": true, \"showland\": true, \"subunitcolor\": \"white\"}, \"hoverlabel\": {\"align\": \"left\"}, \"hovermode\": \"closest\", \"mapbox\": {\"style\": \"light\"}, \"paper_bgcolor\": \"white\", \"plot_bgcolor\": \"#E5ECF6\", \"polar\": {\"angularaxis\": {\"gridcolor\": \"white\", \"linecolor\": \"white\", \"ticks\": \"\"}, \"bgcolor\": \"#E5ECF6\", \"radialaxis\": {\"gridcolor\": \"white\", \"linecolor\": \"white\", \"ticks\": \"\"}}, \"scene\": {\"xaxis\": {\"backgroundcolor\": \"#E5ECF6\", \"gridcolor\": \"white\", \"gridwidth\": 2, \"linecolor\": \"white\", \"showbackground\": true, \"ticks\": \"\", \"zerolinecolor\": \"white\"}, \"yaxis\": {\"backgroundcolor\": \"#E5ECF6\", \"gridcolor\": \"white\", \"gridwidth\": 2, \"linecolor\": \"white\", \"showbackground\": true, \"ticks\": \"\", \"zerolinecolor\": \"white\"}, \"zaxis\": {\"backgroundcolor\": \"#E5ECF6\", \"gridcolor\": \"white\", \"gridwidth\": 2, \"linecolor\": \"white\", \"showbackground\": true, \"ticks\": \"\", \"zerolinecolor\": \"white\"}}, \"shapedefaults\": {\"line\": {\"color\": \"#2a3f5f\"}}, \"ternary\": {\"aaxis\": {\"gridcolor\": \"white\", \"linecolor\": \"white\", \"ticks\": \"\"}, \"baxis\": {\"gridcolor\": \"white\", \"linecolor\": \"white\", \"ticks\": \"\"}, \"bgcolor\": \"#E5ECF6\", \"caxis\": {\"gridcolor\": \"white\", \"linecolor\": \"white\", \"ticks\": \"\"}}, \"title\": {\"x\": 0.05}, \"xaxis\": {\"automargin\": true, \"gridcolor\": \"white\", \"linecolor\": \"white\", \"ticks\": \"\", \"title\": {\"standoff\": 15}, \"zerolinecolor\": \"white\", \"zerolinewidth\": 2}, \"yaxis\": {\"automargin\": true, \"gridcolor\": \"white\", \"linecolor\": \"white\", \"ticks\": \"\", \"title\": {\"standoff\": 15}, \"zerolinecolor\": \"white\", \"zerolinewidth\": 2}}}},                        {\"responsive\": true}                    ).then(function(){\n",
       "                            \n",
       "var gd = document.getElementById('2ecd43a7-d52e-481b-aba0-821e491c8148');\n",
       "var x = new MutationObserver(function (mutations, observer) {{\n",
       "        var display = window.getComputedStyle(gd).display;\n",
       "        if (!display || display === 'none') {{\n",
       "            console.log([gd, 'removed!']);\n",
       "            Plotly.purge(gd);\n",
       "            observer.disconnect();\n",
       "        }}\n",
       "}});\n",
       "\n",
       "// Listen for the removal of the full notebook cells\n",
       "var notebookContainer = gd.closest('#notebook-container');\n",
       "if (notebookContainer) {{\n",
       "    x.observe(notebookContainer, {childList: true});\n",
       "}}\n",
       "\n",
       "// Listen for the clearing of the current output cell\n",
       "var outputEl = gd.closest('.output');\n",
       "if (outputEl) {{\n",
       "    x.observe(outputEl, {childList: true});\n",
       "}}\n",
       "\n",
       "                        })                };                });            </script>        </div>"
      ]
     },
     "metadata": {},
     "output_type": "display_data"
    }
   ],
   "source": [
    "Fig.show()"
   ]
  },
  {
   "cell_type": "code",
   "execution_count": 17,
   "id": "north-marriage",
   "metadata": {},
   "outputs": [],
   "source": [
    "# import struct\n",
    "# with open('your_data.dat', 'wb') as fe:  \n",
    "#     for i in range(dimer_corr.shape[0]):\n",
    "#         fe.write(struct.pack('{}\\n'.format(dimer_corr[i])))\n",
    "        "
   ]
  },
  {
   "cell_type": "code",
   "execution_count": 18,
   "id": "palestinian-galaxy",
   "metadata": {},
   "outputs": [],
   "source": [
    "outfile = open('table1.dat', 'w')\n",
    " # write table header\n",
    "for i in range(dimer_corr.shape[0]):\n",
    "    outfile.write('#{}\\n'.format(i)) \n",
    "    for n in range(dimer_corr.shape[1]):\n",
    "        outfile.write('{}\\t{:.2f}\\t{}\\n'.format(n, t_list[n], dimer_corr[i,n]))\n",
    "    outfile.write('\\n') "
   ]
  },
  {
   "cell_type": "code",
   "execution_count": 19,
   "id": "exotic-playback",
   "metadata": {},
   "outputs": [],
   "source": [
    "tau_list = []\n",
    "N = 2000\n",
    "corr1 = []\n",
    "corr2 = np.zeros((81,N),dtype=np.complex128)\n",
    "n = -1\n",
    "import re\n",
    "with open('K4_4V1.0st.dat') as fe:\n",
    "    for line in fe:\n",
    "        \n",
    "        if re.findall(r'#\\d', line):\n",
    "            i = 0\n",
    "            n += 1\n",
    "        else:\n",
    "            try:\n",
    "                match = re.findall(r'[\\d,\\.]+', line)\n",
    "                tau_list.append(float(match[1]))\n",
    "                corr1.append(float(match[2]))\n",
    "                corr2[n,i] = float(match[2]) + 1j*float(match[3])\n",
    "                i+=1\n",
    "            except:\n",
    "                pass"
   ]
  },
  {
   "cell_type": "code",
   "execution_count": 20,
   "id": "sublime-frontier",
   "metadata": {},
   "outputs": [
    {
     "data": {
      "text/plain": [
       "array([0.32873149, 0.32793117, 0.32893157, 0.32573029, 0.31972789,\n",
       "       0.31852741, 0.31752701, 0.30952381, 0.30492197, 0.29771909,\n",
       "       0.29231693, 0.28871549, 0.28531413, 0.27971188, 0.27691076,\n",
       "       0.28071228, 0.27290916, 0.26790716, 0.26510604, 0.26270508,\n",
       "       0.2615046 , 0.26010404, 0.25110044, 0.2444978 , 0.24009604,\n",
       "       0.24009604, 0.23429372, 0.23289316, 0.22809124, 0.22669068,\n",
       "       0.22088836, 0.21888756, 0.21348539, 0.20248099, 0.20068027,\n",
       "       0.19527811, 0.18487395, 0.18587435, 0.18107243, 0.17446979,\n",
       "       0.17286915, 0.16846739, 0.16866747, 0.16446579, 0.16146459,\n",
       "       0.16546619, 0.16526611, 0.16866747, 0.16246499, 0.16046419,\n",
       "       0.15646259, 0.15486194, 0.15206082, 0.14705882, 0.14245698,\n",
       "       0.14005602, 0.13885554, 0.1372549 , 0.12945178, 0.1322529 ,\n",
       "       0.12845138, 0.12164866, 0.12364946, 0.12184874, 0.12264906,\n",
       "       0.12144858, 0.12064826, 0.11884754, 0.1132453 , 0.11364546,\n",
       "       0.11304522, 0.11244498, 0.11004402, 0.1082433 , 0.10464186,\n",
       "       0.10484194, 0.10144058, 0.1062425 , 0.10264106, 0.1002401 ,\n",
       "       0.09803922, 0.09323729, 0.09183673, 0.09143657, 0.08903561,\n",
       "       0.08643457, 0.07943177, 0.07543017, 0.07462985, 0.07883153,\n",
       "       0.07703081, 0.07382953, 0.07142857, 0.07723089, 0.07603041,\n",
       "       0.06942777, 0.06902761, 0.06662665, 0.06722689, 0.06362545,\n",
       "       0.06122449, 0.06522609, 0.06282513, 0.06582633, 0.06642657,\n",
       "       0.06782713, 0.06842737, 0.06202481, 0.05982393, 0.06002401,\n",
       "       0.05462185, 0.05902361, 0.05402161, 0.05222089, 0.05042017,\n",
       "       0.05042017, 0.05162065, 0.05242097, 0.05222089, 0.04961985,\n",
       "       0.04861945, 0.05002001, 0.04421769, 0.04341737, 0.04621849,\n",
       "       0.04421769, 0.04321729, 0.04641857, 0.03901561, 0.03641457,\n",
       "       0.03861545, 0.03621449, 0.03881553, 0.03181273, 0.03081232,\n",
       "       0.03201281, 0.03601441, 0.03781513, 0.03741497, 0.03521409,\n",
       "       0.03541417, 0.03561425, 0.03601441, 0.03721489, 0.03901561,\n",
       "       0.03721489, 0.03161265, 0.03261305, 0.03701481, 0.04281713,\n",
       "       0.04501801, 0.04781913, 0.03621449, 0.03181273, 0.03161265,\n",
       "       0.03081232, 0.03341337, 0.03501401, 0.02561024, 0.02360944,\n",
       "       0.02340936, 0.02781112, 0.02921168, 0.03181273, 0.03261305,\n",
       "       0.02781112, 0.02360944, 0.02380952, 0.02721088, 0.02761104,\n",
       "       0.02921168, 0.02320928, 0.01880752, 0.015006  , 0.01480592,\n",
       "       0.01220488, 0.01780712, 0.02020808, 0.020008  , 0.01640656,\n",
       "       0.01660664, 0.01360544, 0.0170068 , 0.0160064 , 0.02060824,\n",
       "       0.01340536, 0.01120448, 0.0120048 , 0.01520608, 0.0140056 ,\n",
       "       0.01380552, 0.01720688, 0.02581032, 0.03061224, 0.02501   ,\n",
       "       0.02320928, 0.02360944, 0.01740696, 0.01540616, 0.01660664])"
      ]
     },
     "execution_count": 20,
     "metadata": {},
     "output_type": "execute_result"
    }
   ],
   "source": [
    "dimer_corr[1]"
   ]
  },
  {
   "cell_type": "code",
   "execution_count": null,
   "id": "according-staff",
   "metadata": {},
   "outputs": [],
   "source": []
  }
 ],
 "metadata": {
  "kernelspec": {
   "display_name": "Python 3",
   "language": "python",
   "name": "python3"
  },
  "language_info": {
   "codemirror_mode": {
    "name": "ipython",
    "version": 3
   },
   "file_extension": ".py",
   "mimetype": "text/x-python",
   "name": "python",
   "nbconvert_exporter": "python",
   "pygments_lexer": "ipython3",
   "version": "3.8.5"
  }
 },
 "nbformat": 4,
 "nbformat_minor": 5
}
