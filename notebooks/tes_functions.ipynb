{
 "cells": [
  {
   "cell_type": "code",
   "execution_count": 548,
   "id": "creative-consistency",
   "metadata": {},
   "outputs": [],
   "source": [
    "import sys\n",
    "sys.path.insert(0, '..')\n",
    "from importlib import reload\n",
    "import netket.machine.functions2 as f\n",
    "import numpy as np"
   ]
  },
  {
   "cell_type": "code",
   "execution_count": null,
   "id": "steady-ozone",
   "metadata": {},
   "outputs": [],
   "source": []
  },
  {
   "cell_type": "code",
   "execution_count": 549,
   "id": "mechanical-syndrome",
   "metadata": {},
   "outputs": [],
   "source": [
    "reload(f)\n",
    "h = f.new_hex(np.array([5,1]))"
   ]
  },
  {
   "cell_type": "code",
   "execution_count": null,
   "id": "ranging-vietnamese",
   "metadata": {},
   "outputs": [],
   "source": []
  },
  {
   "cell_type": "code",
   "execution_count": 550,
   "id": "applied-discharge",
   "metadata": {},
   "outputs": [],
   "source": [
    "import scipy.fft as fft\n",
    "L = 20\n",
    "states = (f.list_up_states(L) + 1)/2\n",
    "wave_space = fft.fft(states)\n",
    "dft_matrix = np.fft.fft(np.eye(L))"
   ]
  },
  {
   "cell_type": "code",
   "execution_count": 551,
   "id": "former-organization",
   "metadata": {},
   "outputs": [],
   "source": [
    "a = np.arange(L)\n",
    "a[3:] = 0\n",
    "b = 2 ** a\n",
    "b[3:] = 0\n",
    "U = np.empty((L,L), dtype=np.int)\n",
    "for l in range(L):\n",
    "    U[l] = np.roll(b,-l)"
   ]
  },
  {
   "cell_type": "code",
   "execution_count": 591,
   "id": "cosmetic-macintosh",
   "metadata": {},
   "outputs": [
    {
     "name": "stdout",
     "output_type": "stream",
     "text": [
      "(96,)\n"
     ]
    }
   ],
   "source": [
    "ind = np.where(np.round((np.sqrt(states.dot(U))).dot(dft_matrix[4]),4)==0)[0]\n",
    "print(ind.shape)"
   ]
  },
  {
   "cell_type": "code",
   "execution_count": 592,
   "id": "equipped-basket",
   "metadata": {},
   "outputs": [
    {
     "data": {
      "text/plain": [
       "array([0., 0., 0., 0., 0., 1., 0., 0., 1., 0., 0., 0., 1., 0., 0., 0., 1.,\n",
       "       0., 0., 1.])"
      ]
     },
     "execution_count": 592,
     "metadata": {},
     "output_type": "execute_result"
    }
   ],
   "source": [
    "states[ind][3]"
   ]
  },
  {
   "cell_type": "code",
   "execution_count": 593,
   "id": "pediatric-sharing",
   "metadata": {},
   "outputs": [
    {
     "name": "stdout",
     "output_type": "stream",
     "text": [
      "157 ms ± 2.21 ms per loop (mean ± std. dev. of 7 runs, 10 loops each)\n"
     ]
    }
   ],
   "source": [
    "%timeit np.round((np.sqrt(states.dot(U))).dot(dft_matrix[1]),4)"
   ]
  },
  {
   "cell_type": "code",
   "execution_count": 597,
   "id": "tough-relation",
   "metadata": {},
   "outputs": [
    {
     "data": {
      "text/plain": [
       "(1048576, 20)"
      ]
     },
     "execution_count": 597,
     "metadata": {},
     "output_type": "execute_result"
    }
   ],
   "source": [
    "np.sqrt(states.dot(U)).shape"
   ]
  },
  {
   "cell_type": "code",
   "execution_count": 598,
   "id": "other-vertex",
   "metadata": {},
   "outputs": [
    {
     "data": {
      "text/plain": [
       "array([0., 0., 0., 0., 0., 0., 0., 0., 0., 0., 0., 0., 0., 0., 0., 0., 0.,\n",
       "       0., 0., 0.])"
      ]
     },
     "execution_count": 598,
     "metadata": {},
     "output_type": "execute_result"
    }
   ],
   "source": [
    "states[0]"
   ]
  },
  {
   "cell_type": "code",
   "execution_count": 936,
   "id": "eleven-assault",
   "metadata": {},
   "outputs": [],
   "source": [
    "from numba import njit\n",
    "@njit\n",
    "def for_kinetic(x, t, K, normalize=False):\n",
    "    \n",
    "    mult_array = np.random.rand(K)\n",
    "    L = x.shape[1]\n",
    "    batch_size = x.shape[0]\n",
    "    out = np.zeros(batch_size, dtype=np.complex128)\n",
    "    for b in range(batch_size):\n",
    "        out_ = 0\n",
    "        for i in range(L):\n",
    "            temp = 0\n",
    "            \n",
    "            for k in range(K):\n",
    "                temp += x[b,(i+k)%L] * mult_array[k]\n",
    "            out_ += t[i]*np.sqrt(temp)\n",
    "#             out_ += t[i]*temp**2\n",
    "        if normalize:\n",
    "            out[b] = out_/np.abs(out_)\n",
    "        else:\n",
    "            out[b] = out_\n",
    "    return out\n"
   ]
  },
  {
   "cell_type": "code",
   "execution_count": 1002,
   "id": "acquired-metallic",
   "metadata": {},
   "outputs": [],
   "source": [
    "import scipy.fft as fft\n",
    "L = 20\n",
    "states = (f.list_up_states(L) + 1)/2\n",
    "wave_space = fft.fft(states)\n",
    "dft_matrix = np.fft.fft(np.eye(L))"
   ]
  },
  {
   "cell_type": "code",
   "execution_count": 1003,
   "id": "beautiful-heart",
   "metadata": {
    "collapsed": true
   },
   "outputs": [
    {
     "ename": "KeyboardInterrupt",
     "evalue": "",
     "output_type": "error",
     "traceback": [
      "\u001b[0;31m---------------------------------------------------------------------------\u001b[0m",
      "\u001b[0;31mKeyboardInterrupt\u001b[0m                         Traceback (most recent call last)",
      "\u001b[0;32m<ipython-input-1003-f79a71344b00>\u001b[0m in \u001b[0;36m<module>\u001b[0;34m\u001b[0m\n\u001b[1;32m      2\u001b[0m \u001b[0;32mfor\u001b[0m \u001b[0mi\u001b[0m \u001b[0;32min\u001b[0m \u001b[0mrange\u001b[0m\u001b[0;34m(\u001b[0m\u001b[0mL\u001b[0m\u001b[0;34m)\u001b[0m\u001b[0;34m:\u001b[0m\u001b[0;34m\u001b[0m\u001b[0;34m\u001b[0m\u001b[0m\n\u001b[1;32m      3\u001b[0m     \u001b[0;32mfor\u001b[0m \u001b[0mj\u001b[0m \u001b[0;32min\u001b[0m \u001b[0mrange\u001b[0m\u001b[0;34m(\u001b[0m\u001b[0mL\u001b[0m\u001b[0;34m)\u001b[0m\u001b[0;34m:\u001b[0m\u001b[0;34m\u001b[0m\u001b[0;34m\u001b[0m\u001b[0m\n\u001b[0;32m----> 4\u001b[0;31m         \u001b[0ma\u001b[0m\u001b[0;34m[\u001b[0m\u001b[0mi\u001b[0m\u001b[0;34m,\u001b[0m\u001b[0mj\u001b[0m\u001b[0;34m]\u001b[0m \u001b[0;34m=\u001b[0m \u001b[0mnp\u001b[0m\u001b[0;34m.\u001b[0m\u001b[0mwhere\u001b[0m\u001b[0;34m(\u001b[0m\u001b[0mnp\u001b[0m\u001b[0;34m.\u001b[0m\u001b[0mround\u001b[0m\u001b[0;34m(\u001b[0m\u001b[0mfor_kinetic\u001b[0m\u001b[0;34m(\u001b[0m\u001b[0mstates\u001b[0m\u001b[0;34m,\u001b[0m \u001b[0mdft_matrix\u001b[0m\u001b[0;34m[\u001b[0m\u001b[0mj\u001b[0m\u001b[0;34m]\u001b[0m\u001b[0;34m,\u001b[0m\u001b[0mi\u001b[0m\u001b[0;34m)\u001b[0m\u001b[0;34m,\u001b[0m\u001b[0;36m4\u001b[0m\u001b[0;34m)\u001b[0m\u001b[0;34m==\u001b[0m\u001b[0;36m0\u001b[0m\u001b[0;34m)\u001b[0m\u001b[0;34m[\u001b[0m\u001b[0;36m0\u001b[0m\u001b[0;34m]\u001b[0m\u001b[0;34m.\u001b[0m\u001b[0mshape\u001b[0m\u001b[0;34m[\u001b[0m\u001b[0;36m0\u001b[0m\u001b[0;34m]\u001b[0m\u001b[0;34m\u001b[0m\u001b[0;34m\u001b[0m\u001b[0m\n\u001b[0m",
      "\u001b[0;31mKeyboardInterrupt\u001b[0m: "
     ]
    }
   ],
   "source": [
    "a = np.empty((L,L), dtype=np.int)\n",
    "for i in range(L):\n",
    "    for j in range(L):\n",
    "        a[i,j] = np.where(np.round(for_kinetic(states, dft_matrix[j],i),4)==0)[0].shape[0]"
   ]
  },
  {
   "cell_type": "code",
   "execution_count": 951,
   "id": "contained-handling",
   "metadata": {},
   "outputs": [
    {
     "data": {
      "text/plain": [
       "(0.7660444431189781-0.6427876096865393j)"
      ]
     },
     "execution_count": 951,
     "metadata": {},
     "output_type": "execute_result"
    }
   ],
   "source": [
    "dft_matrix[2][1]"
   ]
  },
  {
   "cell_type": "code",
   "execution_count": 962,
   "id": "liable-average",
   "metadata": {},
   "outputs": [
    {
     "data": {
      "text/plain": [
       "(0.766044443118978-0.6427876096865393j)"
      ]
     },
     "execution_count": 962,
     "metadata": {},
     "output_type": "execute_result"
    }
   ],
   "source": [
    "np.exp(-1j * 2*np.pi*(2/L))"
   ]
  },
  {
   "cell_type": "code",
   "execution_count": 949,
   "id": "strong-overall",
   "metadata": {},
   "outputs": [
    {
     "data": {
      "text/plain": [
       "array([262144,   1000,    208,    136,     64,     64,     64,     64,\n",
       "           64,     64,     64,     64,     64,     64,     64,     64,\n",
       "           64,     64])"
      ]
     },
     "execution_count": 949,
     "metadata": {},
     "output_type": "execute_result"
    }
   ],
   "source": [
    "a[:,2]"
   ]
  },
  {
   "cell_type": "code",
   "execution_count": 1008,
   "id": "complete-regard",
   "metadata": {},
   "outputs": [
    {
     "name": "stdout",
     "output_type": "stream",
     "text": [
      "157 ms ± 318 µs per loop (mean ± std. dev. of 7 runs, 10 loops each)\n"
     ]
    }
   ],
   "source": [
    "%timeit indb = np.where(np.round(for_kinetic(states, dft_matrix[2],4),4)==0)[0]"
   ]
  },
  {
   "cell_type": "code",
   "execution_count": 1005,
   "id": "superb-cooperation",
   "metadata": {},
   "outputs": [
    {
     "data": {
      "text/plain": [
       "(16,)"
      ]
     },
     "execution_count": 1005,
     "metadata": {},
     "output_type": "execute_result"
    }
   ],
   "source": [
    "inda = np.where(np.round(for_kinetic(states, dft_matrix[4],4),4)==0)[0]\n",
    "inda.shape"
   ]
  },
  {
   "cell_type": "code",
   "execution_count": 774,
   "id": "brazilian-petite",
   "metadata": {},
   "outputs": [
    {
     "name": "stdout",
     "output_type": "stream",
     "text": [
      "172 ms ± 432 µs per loop (mean ± std. dev. of 7 runs, 10 loops each)\n"
     ]
    }
   ],
   "source": [
    "states_finite = states[ind]\n",
    "%timeit np.round(for_kinetic(states_finite, dft_matrix[4],4,normalize=True),4)"
   ]
  },
  {
   "cell_type": "code",
   "execution_count": 1032,
   "id": "consecutive-competition",
   "metadata": {
    "scrolled": true
   },
   "outputs": [
    {
     "name": "stdout",
     "output_type": "stream",
     "text": [
      "(86,)\n"
     ]
    }
   ],
   "source": [
    "ind = np.where(np.round(for_kinetic(states, dft_matrix[2],6),4)==0)[0]\n",
    "print(ind.shape)"
   ]
  },
  {
   "cell_type": "code",
   "execution_count": 779,
   "id": "blind-buffalo",
   "metadata": {},
   "outputs": [
    {
     "name": "stdout",
     "output_type": "stream",
     "text": [
      "[      0   69905  139810  209715  279620  349525  419430  489335  559240\n",
      "  629145  699050  768955  838860  908765  978670 1048575]\n"
     ]
    }
   ],
   "source": [
    "ind = np.where(np.round(for_kinetic(states, dft_matrix[4],4),4)==0)[0]\n",
    "print(ind)"
   ]
  },
  {
   "cell_type": "code",
   "execution_count": 780,
   "id": "resistant-usage",
   "metadata": {},
   "outputs": [
    {
     "data": {
      "text/plain": [
       "array([0., 0., 0., 0., 0., 0., 0., 0., 0., 0., 0., 1., 0., 1., 0., 1., 0.,\n",
       "       1., 0., 1.])"
      ]
     },
     "execution_count": 780,
     "metadata": {},
     "output_type": "execute_result"
    }
   ],
   "source": [
    "states[341]"
   ]
  },
  {
   "cell_type": "code",
   "execution_count": 781,
   "id": "accepting-seven",
   "metadata": {},
   "outputs": [
    {
     "data": {
      "text/plain": [
       "array([ 0.    +0.j    , -2.4531-0.6067j, -1.3351+2.1456j, ...,\n",
       "        0.2079-0.9944j,  1.01  -0.1096j, -0.    +0.j    ])"
      ]
     },
     "execution_count": 781,
     "metadata": {},
     "output_type": "execute_result"
    }
   ],
   "source": [
    "np.round((np.sqrt(states.dot(U))).dot(dft_matrix[2]),4)"
   ]
  },
  {
   "cell_type": "code",
   "execution_count": 782,
   "id": "fatal-enlargement",
   "metadata": {},
   "outputs": [
    {
     "data": {
      "text/plain": [
       "array([ 0.    +0.j    , -2.4531+0.6067j, -1.3351-2.1456j, ...,\n",
       "        0.2079+0.9944j,  1.01  +0.1096j, -0.    +0.j    ])"
      ]
     },
     "execution_count": 782,
     "metadata": {},
     "output_type": "execute_result"
    }
   ],
   "source": [
    "np.round(for_kinetic(states, dft_matrix[4],3),4)"
   ]
  },
  {
   "cell_type": "code",
   "execution_count": 1057,
   "id": "devoted-relationship",
   "metadata": {},
   "outputs": [
    {
     "data": {
      "text/plain": [
       "array([ 1.25988449+0.00000000e+00j,  1.02647402-7.45777029e-01j,\n",
       "        0.41625051-1.28108735e+00j, -0.34464586-1.06071089e+00j,\n",
       "       -0.85760086-6.23083496e-01j, -1.2947412 +7.18725747e-17j,\n",
       "       -0.82487145+5.99304187e-01j, -0.40823811+1.25642772e+00j,\n",
       "        0.35895501+1.10474993e+00j,  0.69809282+5.07194121e-01j,\n",
       "        1.34830165+0.00000000e+00j,  0.85550873-6.21563477e-01j,\n",
       "        0.30374655-9.34835762e-01j, -0.3981587 -1.22540648e+00j,\n",
       "       -0.95917003-6.96877817e-01j, -1.23479101+0.00000000e+00j,\n",
       "       -0.88778705+6.45015050e-01j, -0.36542928+1.12467567e+00j,\n",
       "        0.38557257+1.18667034e+00j,  0.96504593+7.01146910e-01j])"
      ]
     },
     "execution_count": 1057,
     "metadata": {},
     "output_type": "execute_result"
    }
   ],
   "source": [
    "a = np.random.rand(L)\n",
    "# a[3:] = 0# b[3:] = 0\n",
    "U = np.empty((L,L), dtype=np.float64)\n",
    "for l in range(L):\n",
    "    U[l] = np.roll(a,-l)\n",
    "np.sqrt(states[73].dot(U)) * dft_matrix[2]"
   ]
  },
  {
   "cell_type": "code",
   "execution_count": 1062,
   "id": "supported-photographer",
   "metadata": {
    "scrolled": true
   },
   "outputs": [
    {
     "data": {
      "text/plain": [
       "array([      0,   33825,   67650,   69905,  101475,  135300,  139810,\n",
       "        169125,  202950,  209715,  236775,  270600,  279620,  304425,\n",
       "        338250,  349525,  372075,  405900,  419430,  439725,  473550,\n",
       "        489335,  507375,  541200,  559240,  575025,  608850,  629145,\n",
       "        642675,  676500,  699050,  710325,  744150,  768955,  777975,\n",
       "        811800,  838860,  845625,  879450,  908765,  913275,  947100,\n",
       "        978670,  980925, 1014750, 1048575])"
      ]
     },
     "execution_count": 1062,
     "metadata": {},
     "output_type": "execute_result"
    }
   ],
   "source": [
    "np.where(np.round(np.sqrt(states.dot(U)).dot(dft_matrix[2]), 4) == 0)[0]"
   ]
  },
  {
   "cell_type": "code",
   "execution_count": 1063,
   "id": "posted-analysis",
   "metadata": {},
   "outputs": [
    {
     "data": {
      "text/plain": [
       "array([0., 0., 0., 0., 1., 0., 0., 0., 0., 1., 0., 0., 0., 0., 1., 0., 0.,\n",
       "       0., 0., 1.])"
      ]
     },
     "execution_count": 1063,
     "metadata": {},
     "output_type": "execute_result"
    }
   ],
   "source": [
    "states[33825]"
   ]
  },
  {
   "cell_type": "code",
   "execution_count": null,
   "id": "demographic-equivalent",
   "metadata": {},
   "outputs": [],
   "source": []
  }
 ],
 "metadata": {
  "kernelspec": {
   "display_name": "Python 3",
   "language": "python",
   "name": "python3"
  },
  "language_info": {
   "codemirror_mode": {
    "name": "ipython",
    "version": 3
   },
   "file_extension": ".py",
   "mimetype": "text/x-python",
   "name": "python",
   "nbconvert_exporter": "python",
   "pygments_lexer": "ipython3",
   "version": "3.8.5"
  }
 },
 "nbformat": 4,
 "nbformat_minor": 5
}
