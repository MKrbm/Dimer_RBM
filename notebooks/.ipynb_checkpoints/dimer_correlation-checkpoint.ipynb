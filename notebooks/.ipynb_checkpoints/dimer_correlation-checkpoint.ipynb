{
 "cells": [
  {
   "cell_type": "code",
   "execution_count": 1,
   "id": "featured-confidence",
   "metadata": {},
   "outputs": [],
   "source": [
    "import sys\n",
    "sys.path.insert(0,'../')"
   ]
  },
  {
   "cell_type": "code",
   "execution_count": 2,
   "id": "turned-nomination",
   "metadata": {
    "scrolled": true
   },
   "outputs": [
    {
     "name": "stderr",
     "output_type": "stream",
     "text": [
      "../scripts/functions.py:65: NumbaDeprecationWarning: The 'numba.jitclass' decorator has moved to 'numba.experimental.jitclass' to better reflect the experimental nature of the functionality. Please update your imports to accommodate this change and see https://numba.pydata.org/numba-doc/latest/reference/deprecation.html#change-of-jitclass-location for the time frame.\n",
      "  @jitclass(spec)\n"
     ]
    }
   ],
   "source": [
    "import numpy as np\n",
    "import netket as nk\n",
    "from scripts import functions as f\n",
    "from scripts import new_dynamics "
   ]
  },
  {
   "cell_type": "code",
   "execution_count": 3,
   "id": "identified-founder",
   "metadata": {},
   "outputs": [],
   "source": [
    "from conf import *\n",
    "from numba import njit, jit"
   ]
  },
  {
   "cell_type": "code",
   "execution_count": 5,
   "id": "flush-medicine",
   "metadata": {
    "scrolled": true
   },
   "outputs": [
    {
     "name": "stdout",
     "output_type": "stream",
     "text": [
      "4\n",
      "0.0006165504455566406 for metropolis\n",
      "discard samples\n",
      "0.520266056060791 for metropolis\n",
      "prepared initial samples\n"
     ]
    }
   ],
   "source": [
    "np.load()"
   ]
  },
  {
   "cell_type": "code",
   "execution_count": null,
   "id": "israeli-valentine",
   "metadata": {},
   "outputs": [],
   "source": [
    "sa"
   ]
  },
  {
   "cell_type": "code",
   "execution_count": 21,
   "id": "aquatic-premium",
   "metadata": {},
   "outputs": [
    {
     "data": {
      "text/plain": [
       "12"
      ]
     },
     "execution_count": 21,
     "metadata": {},
     "output_type": "execute_result"
    }
   ],
   "source": [
    "import mkl\n",
    "import time\n",
    "mkl.set_num_threads(1)"
   ]
  },
  {
   "cell_type": "code",
   "execution_count": 2,
   "id": "alone-candy",
   "metadata": {},
   "outputs": [
    {
     "data": {
      "text/plain": [
       "12"
      ]
     },
     "execution_count": 2,
     "metadata": {},
     "output_type": "execute_result"
    }
   ],
   "source": [
    "mkl.get_max_threads()"
   ]
  },
  {
   "cell_type": "code",
   "execution_count": 60,
   "id": "extreme-bonus",
   "metadata": {
    "collapsed": true
   },
   "outputs": [
    {
     "name": "stdout",
     "output_type": "stream",
     "text": [
      "0.46875953674316406 for metropolis\n",
      "0.46160006523132324 for metropolis\n",
      "0.46405816078186035 for metropolis\n",
      "0.4608039855957031 for metropolis\n",
      "0.4637465476989746 for metropolis\n",
      "0.4635438919067383 for metropolis\n",
      "0.46074652671813965 for metropolis\n",
      "0.4622330665588379 for metropolis\n",
      "0.46103668212890625 for metropolis\n",
      "0.4712491035461426 for metropolis\n",
      "4.638937950134277\n"
     ]
    }
   ],
   "source": [
    "s = time.time()\n",
    "n_samples = 1e3\n",
    "for _ in range(10):\n",
    "    samples_state = sa.generate_samples(int(n_samples/n_chains))\n",
    "print(time.time()-s)"
   ]
  },
  {
   "cell_type": "code",
   "execution_count": 55,
   "id": "hired-teacher",
   "metadata": {},
   "outputs": [
    {
     "name": "stdout",
     "output_type": "stream",
     "text": [
      "3.8114428520202637\n"
     ]
    }
   ],
   "source": [
    "s = time.time()\n",
    "for _ in range(1000):\n",
    "    ma.log_val(samples_state)\n",
    "print(time.time()-s)"
   ]
  },
  {
   "cell_type": "code",
   "execution_count": 51,
   "id": "prepared-receipt",
   "metadata": {},
   "outputs": [],
   "source": [
    "from scripts import dynamics as dy\n",
    "from importlib import reload\n",
    "reload(dy)\n",
    "\n",
    "d = dy.new_dynamics(op, ma)\n",
    "import time"
   ]
  },
  {
   "cell_type": "code",
   "execution_count": 52,
   "id": "collaborative-dividend",
   "metadata": {},
   "outputs": [
    {
     "name": "stdout",
     "output_type": "stream",
     "text": [
      "CPU times: user 185 ms, sys: 401 ms, total: 586 ms\n",
      "Wall time: 8.02 s\n"
     ]
    }
   ],
   "source": [
    "%time P, T = d.multiprocess(samples_state, 100, 6)"
   ]
  },
  {
   "cell_type": "code",
   "execution_count": 11,
   "id": "registered-shift",
   "metadata": {},
   "outputs": [],
   "source": [
    "def run(X, num, qout):\n",
    "    out = d.dynamics(d,X, num)\n",
    "    qout.put(out)\n",
    "    "
   ]
  },
  {
   "cell_type": "code",
   "execution_count": 7,
   "id": "fresh-bachelor",
   "metadata": {},
   "outputs": [],
   "source": [
    "import multiprocessing as mp\n",
    "N = samples_state.shape[0]\n",
    "queue = []\n",
    "process = []\n",
    "n = 12\n",
    "index = np.round(np.linspace(0, N, n + 1)).astype(np.int)"
   ]
  },
  {
   "cell_type": "code",
   "execution_count": 8,
   "id": "micro-maryland",
   "metadata": {},
   "outputs": [
    {
     "name": "stderr",
     "output_type": "stream",
     "text": [
      "Process Process-1:\n",
      "Process Process-2:\n",
      "Process Process-4:\n",
      "Process Process-5:\n",
      "Process Process-6:\n",
      "Traceback (most recent call last):\n",
      "  File \"/home/keisuke/miniconda3/envs/research/lib/python3.8/multiprocessing/process.py\", line 315, in _bootstrap\n",
      "    self.run()\n",
      "  File \"/home/keisuke/miniconda3/envs/research/lib/python3.8/multiprocessing/process.py\", line 108, in run\n",
      "    self._target(*self._args, **self._kwargs)\n",
      "  File \"<ipython-input-6-ba53355f42c2>\", line 2, in run\n",
      "    out = d.dynamics(X, num)\n",
      "NameError: name 'd' is not defined\n",
      "Process Process-7:\n",
      "Process Process-8:\n",
      "Traceback (most recent call last):\n",
      "  File \"/home/keisuke/miniconda3/envs/research/lib/python3.8/multiprocessing/process.py\", line 315, in _bootstrap\n",
      "    self.run()\n",
      "  File \"/home/keisuke/miniconda3/envs/research/lib/python3.8/multiprocessing/process.py\", line 108, in run\n",
      "    self._target(*self._args, **self._kwargs)\n",
      "  File \"<ipython-input-6-ba53355f42c2>\", line 2, in run\n",
      "    out = d.dynamics(X, num)\n",
      "NameError: name 'd' is not defined\n",
      "Process Process-9:\n",
      "Process Process-10:\n",
      "Process Process-11:\n",
      "Traceback (most recent call last):\n",
      "  File \"/home/keisuke/miniconda3/envs/research/lib/python3.8/multiprocessing/process.py\", line 315, in _bootstrap\n",
      "    self.run()\n",
      "  File \"/home/keisuke/miniconda3/envs/research/lib/python3.8/multiprocessing/process.py\", line 108, in run\n",
      "    self._target(*self._args, **self._kwargs)\n",
      "  File \"<ipython-input-6-ba53355f42c2>\", line 2, in run\n",
      "    out = d.dynamics(X, num)\n",
      "NameError: name 'd' is not defined\n",
      "Process Process-12:\n",
      "Process Process-3:\n",
      "Traceback (most recent call last):\n",
      "  File \"/home/keisuke/miniconda3/envs/research/lib/python3.8/multiprocessing/process.py\", line 315, in _bootstrap\n",
      "    self.run()\n",
      "  File \"/home/keisuke/miniconda3/envs/research/lib/python3.8/multiprocessing/process.py\", line 108, in run\n",
      "    self._target(*self._args, **self._kwargs)\n",
      "  File \"<ipython-input-6-ba53355f42c2>\", line 2, in run\n",
      "    out = d.dynamics(X, num)\n",
      "NameError: name 'd' is not defined\n",
      "Traceback (most recent call last):\n",
      "  File \"/home/keisuke/miniconda3/envs/research/lib/python3.8/multiprocessing/process.py\", line 315, in _bootstrap\n",
      "    self.run()\n",
      "  File \"/home/keisuke/miniconda3/envs/research/lib/python3.8/multiprocessing/process.py\", line 108, in run\n",
      "    self._target(*self._args, **self._kwargs)\n",
      "  File \"<ipython-input-6-ba53355f42c2>\", line 2, in run\n",
      "    out = d.dynamics(X, num)\n",
      "NameError: name 'd' is not defined\n",
      "Traceback (most recent call last):\n",
      "  File \"/home/keisuke/miniconda3/envs/research/lib/python3.8/multiprocessing/process.py\", line 315, in _bootstrap\n",
      "    self.run()\n",
      "  File \"/home/keisuke/miniconda3/envs/research/lib/python3.8/multiprocessing/process.py\", line 108, in run\n",
      "    self._target(*self._args, **self._kwargs)\n",
      "  File \"<ipython-input-6-ba53355f42c2>\", line 2, in run\n",
      "    out = d.dynamics(X, num)\n",
      "NameError: name 'd' is not defined\n",
      "Traceback (most recent call last):\n",
      "  File \"/home/keisuke/miniconda3/envs/research/lib/python3.8/multiprocessing/process.py\", line 315, in _bootstrap\n",
      "    self.run()\n",
      "  File \"/home/keisuke/miniconda3/envs/research/lib/python3.8/multiprocessing/process.py\", line 108, in run\n",
      "    self._target(*self._args, **self._kwargs)\n",
      "  File \"<ipython-input-6-ba53355f42c2>\", line 2, in run\n",
      "    out = d.dynamics(X, num)\n",
      "NameError: name 'd' is not defined\n",
      "Traceback (most recent call last):\n",
      "  File \"/home/keisuke/miniconda3/envs/research/lib/python3.8/multiprocessing/process.py\", line 315, in _bootstrap\n",
      "    self.run()\n",
      "  File \"/home/keisuke/miniconda3/envs/research/lib/python3.8/multiprocessing/process.py\", line 108, in run\n",
      "    self._target(*self._args, **self._kwargs)\n",
      "  File \"<ipython-input-6-ba53355f42c2>\", line 2, in run\n",
      "    out = d.dynamics(X, num)\n",
      "NameError: name 'd' is not defined\n",
      "Traceback (most recent call last):\n",
      "  File \"/home/keisuke/miniconda3/envs/research/lib/python3.8/multiprocessing/process.py\", line 315, in _bootstrap\n",
      "    self.run()\n",
      "  File \"/home/keisuke/miniconda3/envs/research/lib/python3.8/multiprocessing/process.py\", line 108, in run\n",
      "    self._target(*self._args, **self._kwargs)\n",
      "  File \"<ipython-input-6-ba53355f42c2>\", line 2, in run\n",
      "    out = d.dynamics(X, num)\n",
      "NameError: name 'd' is not defined\n",
      "Traceback (most recent call last):\n",
      "  File \"/home/keisuke/miniconda3/envs/research/lib/python3.8/multiprocessing/process.py\", line 315, in _bootstrap\n",
      "    self.run()\n",
      "  File \"/home/keisuke/miniconda3/envs/research/lib/python3.8/multiprocessing/process.py\", line 108, in run\n",
      "    self._target(*self._args, **self._kwargs)\n",
      "  File \"<ipython-input-6-ba53355f42c2>\", line 2, in run\n",
      "    out = d.dynamics(X, num)\n",
      "NameError: name 'd' is not defined\n",
      "Traceback (most recent call last):\n",
      "  File \"/home/keisuke/miniconda3/envs/research/lib/python3.8/multiprocessing/process.py\", line 315, in _bootstrap\n",
      "    self.run()\n",
      "  File \"/home/keisuke/miniconda3/envs/research/lib/python3.8/multiprocessing/process.py\", line 108, in run\n",
      "    self._target(*self._args, **self._kwargs)\n",
      "  File \"<ipython-input-6-ba53355f42c2>\", line 2, in run\n",
      "    out = d.dynamics(X, num)\n",
      "NameError: name 'd' is not defined\n",
      "Traceback (most recent call last):\n",
      "  File \"/home/keisuke/miniconda3/envs/research/lib/python3.8/multiprocessing/process.py\", line 315, in _bootstrap\n",
      "    self.run()\n",
      "  File \"/home/keisuke/miniconda3/envs/research/lib/python3.8/multiprocessing/process.py\", line 108, in run\n",
      "    self._target(*self._args, **self._kwargs)\n",
      "  File \"<ipython-input-6-ba53355f42c2>\", line 2, in run\n",
      "    out = d.dynamics(X, num)\n",
      "NameError: name 'd' is not defined\n"
     ]
    }
   ],
   "source": [
    "for i in range(n):\n",
    "    queue.append(mp.Queue())\n",
    "    p = mp.Process(target=run, args=(samples_state[index[i]:index[i+1]], 100, queue[i]))\n",
    "    p.start()\n",
    "    process.append(p)"
   ]
  },
  {
   "cell_type": "code",
   "execution_count": 20,
   "id": "simple-stack",
   "metadata": {
    "collapsed": true
   },
   "outputs": [
    {
     "ename": "KeyboardInterrupt",
     "evalue": "",
     "output_type": "error",
     "traceback": [
      "\u001b[0;31m---------------------------------------------------------------------------\u001b[0m",
      "\u001b[0;31mKeyboardInterrupt\u001b[0m                         Traceback (most recent call last)",
      "\u001b[0;32m<ipython-input-20-0ad6f648e7cb>\u001b[0m in \u001b[0;36m<module>\u001b[0;34m\u001b[0m\n\u001b[0;32m----> 1\u001b[0;31m \u001b[0mqueue\u001b[0m\u001b[0;34m[\u001b[0m\u001b[0;36m0\u001b[0m\u001b[0;34m]\u001b[0m\u001b[0;34m.\u001b[0m\u001b[0mget\u001b[0m\u001b[0;34m(\u001b[0m\u001b[0;34m)\u001b[0m\u001b[0;34m\u001b[0m\u001b[0;34m\u001b[0m\u001b[0m\n\u001b[0m",
      "\u001b[0;32m~/miniconda3/envs/research/lib/python3.8/multiprocessing/queues.py\u001b[0m in \u001b[0;36mget\u001b[0;34m(self, block, timeout)\u001b[0m\n\u001b[1;32m     95\u001b[0m         \u001b[0;32mif\u001b[0m \u001b[0mblock\u001b[0m \u001b[0;32mand\u001b[0m \u001b[0mtimeout\u001b[0m \u001b[0;32mis\u001b[0m \u001b[0;32mNone\u001b[0m\u001b[0;34m:\u001b[0m\u001b[0;34m\u001b[0m\u001b[0;34m\u001b[0m\u001b[0m\n\u001b[1;32m     96\u001b[0m             \u001b[0;32mwith\u001b[0m \u001b[0mself\u001b[0m\u001b[0;34m.\u001b[0m\u001b[0m_rlock\u001b[0m\u001b[0;34m:\u001b[0m\u001b[0;34m\u001b[0m\u001b[0;34m\u001b[0m\u001b[0m\n\u001b[0;32m---> 97\u001b[0;31m                 \u001b[0mres\u001b[0m \u001b[0;34m=\u001b[0m \u001b[0mself\u001b[0m\u001b[0;34m.\u001b[0m\u001b[0m_recv_bytes\u001b[0m\u001b[0;34m(\u001b[0m\u001b[0;34m)\u001b[0m\u001b[0;34m\u001b[0m\u001b[0;34m\u001b[0m\u001b[0m\n\u001b[0m\u001b[1;32m     98\u001b[0m             \u001b[0mself\u001b[0m\u001b[0;34m.\u001b[0m\u001b[0m_sem\u001b[0m\u001b[0;34m.\u001b[0m\u001b[0mrelease\u001b[0m\u001b[0;34m(\u001b[0m\u001b[0;34m)\u001b[0m\u001b[0;34m\u001b[0m\u001b[0;34m\u001b[0m\u001b[0m\n\u001b[1;32m     99\u001b[0m         \u001b[0;32melse\u001b[0m\u001b[0;34m:\u001b[0m\u001b[0;34m\u001b[0m\u001b[0;34m\u001b[0m\u001b[0m\n",
      "\u001b[0;32m~/miniconda3/envs/research/lib/python3.8/multiprocessing/connection.py\u001b[0m in \u001b[0;36mrecv_bytes\u001b[0;34m(self, maxlength)\u001b[0m\n\u001b[1;32m    214\u001b[0m         \u001b[0;32mif\u001b[0m \u001b[0mmaxlength\u001b[0m \u001b[0;32mis\u001b[0m \u001b[0;32mnot\u001b[0m \u001b[0;32mNone\u001b[0m \u001b[0;32mand\u001b[0m \u001b[0mmaxlength\u001b[0m \u001b[0;34m<\u001b[0m \u001b[0;36m0\u001b[0m\u001b[0;34m:\u001b[0m\u001b[0;34m\u001b[0m\u001b[0;34m\u001b[0m\u001b[0m\n\u001b[1;32m    215\u001b[0m             \u001b[0;32mraise\u001b[0m \u001b[0mValueError\u001b[0m\u001b[0;34m(\u001b[0m\u001b[0;34m\"negative maxlength\"\u001b[0m\u001b[0;34m)\u001b[0m\u001b[0;34m\u001b[0m\u001b[0;34m\u001b[0m\u001b[0m\n\u001b[0;32m--> 216\u001b[0;31m         \u001b[0mbuf\u001b[0m \u001b[0;34m=\u001b[0m \u001b[0mself\u001b[0m\u001b[0;34m.\u001b[0m\u001b[0m_recv_bytes\u001b[0m\u001b[0;34m(\u001b[0m\u001b[0mmaxlength\u001b[0m\u001b[0;34m)\u001b[0m\u001b[0;34m\u001b[0m\u001b[0;34m\u001b[0m\u001b[0m\n\u001b[0m\u001b[1;32m    217\u001b[0m         \u001b[0;32mif\u001b[0m \u001b[0mbuf\u001b[0m \u001b[0;32mis\u001b[0m \u001b[0;32mNone\u001b[0m\u001b[0;34m:\u001b[0m\u001b[0;34m\u001b[0m\u001b[0;34m\u001b[0m\u001b[0m\n\u001b[1;32m    218\u001b[0m             \u001b[0mself\u001b[0m\u001b[0;34m.\u001b[0m\u001b[0m_bad_message_length\u001b[0m\u001b[0;34m(\u001b[0m\u001b[0;34m)\u001b[0m\u001b[0;34m\u001b[0m\u001b[0;34m\u001b[0m\u001b[0m\n",
      "\u001b[0;32m~/miniconda3/envs/research/lib/python3.8/multiprocessing/connection.py\u001b[0m in \u001b[0;36m_recv_bytes\u001b[0;34m(self, maxsize)\u001b[0m\n\u001b[1;32m    412\u001b[0m \u001b[0;34m\u001b[0m\u001b[0m\n\u001b[1;32m    413\u001b[0m     \u001b[0;32mdef\u001b[0m \u001b[0m_recv_bytes\u001b[0m\u001b[0;34m(\u001b[0m\u001b[0mself\u001b[0m\u001b[0;34m,\u001b[0m \u001b[0mmaxsize\u001b[0m\u001b[0;34m=\u001b[0m\u001b[0;32mNone\u001b[0m\u001b[0;34m)\u001b[0m\u001b[0;34m:\u001b[0m\u001b[0;34m\u001b[0m\u001b[0;34m\u001b[0m\u001b[0m\n\u001b[0;32m--> 414\u001b[0;31m         \u001b[0mbuf\u001b[0m \u001b[0;34m=\u001b[0m \u001b[0mself\u001b[0m\u001b[0;34m.\u001b[0m\u001b[0m_recv\u001b[0m\u001b[0;34m(\u001b[0m\u001b[0;36m4\u001b[0m\u001b[0;34m)\u001b[0m\u001b[0;34m\u001b[0m\u001b[0;34m\u001b[0m\u001b[0m\n\u001b[0m\u001b[1;32m    415\u001b[0m         \u001b[0msize\u001b[0m\u001b[0;34m,\u001b[0m \u001b[0;34m=\u001b[0m \u001b[0mstruct\u001b[0m\u001b[0;34m.\u001b[0m\u001b[0munpack\u001b[0m\u001b[0;34m(\u001b[0m\u001b[0;34m\"!i\"\u001b[0m\u001b[0;34m,\u001b[0m \u001b[0mbuf\u001b[0m\u001b[0;34m.\u001b[0m\u001b[0mgetvalue\u001b[0m\u001b[0;34m(\u001b[0m\u001b[0;34m)\u001b[0m\u001b[0;34m)\u001b[0m\u001b[0;34m\u001b[0m\u001b[0;34m\u001b[0m\u001b[0m\n\u001b[1;32m    416\u001b[0m         \u001b[0;32mif\u001b[0m \u001b[0msize\u001b[0m \u001b[0;34m==\u001b[0m \u001b[0;34m-\u001b[0m\u001b[0;36m1\u001b[0m\u001b[0;34m:\u001b[0m\u001b[0;34m\u001b[0m\u001b[0;34m\u001b[0m\u001b[0m\n",
      "\u001b[0;32m~/miniconda3/envs/research/lib/python3.8/multiprocessing/connection.py\u001b[0m in \u001b[0;36m_recv\u001b[0;34m(self, size, read)\u001b[0m\n\u001b[1;32m    377\u001b[0m         \u001b[0mremaining\u001b[0m \u001b[0;34m=\u001b[0m \u001b[0msize\u001b[0m\u001b[0;34m\u001b[0m\u001b[0;34m\u001b[0m\u001b[0m\n\u001b[1;32m    378\u001b[0m         \u001b[0;32mwhile\u001b[0m \u001b[0mremaining\u001b[0m \u001b[0;34m>\u001b[0m \u001b[0;36m0\u001b[0m\u001b[0;34m:\u001b[0m\u001b[0;34m\u001b[0m\u001b[0;34m\u001b[0m\u001b[0m\n\u001b[0;32m--> 379\u001b[0;31m             \u001b[0mchunk\u001b[0m \u001b[0;34m=\u001b[0m \u001b[0mread\u001b[0m\u001b[0;34m(\u001b[0m\u001b[0mhandle\u001b[0m\u001b[0;34m,\u001b[0m \u001b[0mremaining\u001b[0m\u001b[0;34m)\u001b[0m\u001b[0;34m\u001b[0m\u001b[0;34m\u001b[0m\u001b[0m\n\u001b[0m\u001b[1;32m    380\u001b[0m             \u001b[0mn\u001b[0m \u001b[0;34m=\u001b[0m \u001b[0mlen\u001b[0m\u001b[0;34m(\u001b[0m\u001b[0mchunk\u001b[0m\u001b[0;34m)\u001b[0m\u001b[0;34m\u001b[0m\u001b[0;34m\u001b[0m\u001b[0m\n\u001b[1;32m    381\u001b[0m             \u001b[0;32mif\u001b[0m \u001b[0mn\u001b[0m \u001b[0;34m==\u001b[0m \u001b[0;36m0\u001b[0m\u001b[0;34m:\u001b[0m\u001b[0;34m\u001b[0m\u001b[0;34m\u001b[0m\u001b[0m\n",
      "\u001b[0;31mKeyboardInterrupt\u001b[0m: "
     ]
    }
   ],
   "source": [
    "queue[0].get()"
   ]
  },
  {
   "cell_type": "code",
   "execution_count": 15,
   "id": "heated-helping",
   "metadata": {
    "collapsed": true
   },
   "outputs": [
    {
     "ename": "KeyboardInterrupt",
     "evalue": "",
     "output_type": "error",
     "traceback": [
      "\u001b[0;31m---------------------------------------------------------------------------\u001b[0m",
      "\u001b[0;31mKeyboardInterrupt\u001b[0m                         Traceback (most recent call last)",
      "\u001b[0;32m<ipython-input-15-6ba9244bc94c>\u001b[0m in \u001b[0;36m<module>\u001b[0;34m\u001b[0m\n\u001b[1;32m      1\u001b[0m \u001b[0mout\u001b[0m \u001b[0;34m=\u001b[0m \u001b[0;34m[\u001b[0m\u001b[0;34m]\u001b[0m\u001b[0;34m\u001b[0m\u001b[0;34m\u001b[0m\u001b[0m\n\u001b[1;32m      2\u001b[0m \u001b[0;32mfor\u001b[0m \u001b[0mq\u001b[0m \u001b[0;32min\u001b[0m \u001b[0mqueue\u001b[0m\u001b[0;34m:\u001b[0m\u001b[0;34m\u001b[0m\u001b[0;34m\u001b[0m\u001b[0m\n\u001b[0;32m----> 3\u001b[0;31m     \u001b[0mout\u001b[0m\u001b[0;34m.\u001b[0m\u001b[0mappend\u001b[0m\u001b[0;34m(\u001b[0m\u001b[0mq\u001b[0m\u001b[0;34m.\u001b[0m\u001b[0mget\u001b[0m\u001b[0;34m(\u001b[0m\u001b[0;34m)\u001b[0m\u001b[0;34m)\u001b[0m\u001b[0;34m\u001b[0m\u001b[0;34m\u001b[0m\u001b[0m\n\u001b[0m",
      "\u001b[0;32m~/miniconda3/envs/research/lib/python3.8/multiprocessing/queues.py\u001b[0m in \u001b[0;36mget\u001b[0;34m(self, block, timeout)\u001b[0m\n\u001b[1;32m     95\u001b[0m         \u001b[0;32mif\u001b[0m \u001b[0mblock\u001b[0m \u001b[0;32mand\u001b[0m \u001b[0mtimeout\u001b[0m \u001b[0;32mis\u001b[0m \u001b[0;32mNone\u001b[0m\u001b[0;34m:\u001b[0m\u001b[0;34m\u001b[0m\u001b[0;34m\u001b[0m\u001b[0m\n\u001b[1;32m     96\u001b[0m             \u001b[0;32mwith\u001b[0m \u001b[0mself\u001b[0m\u001b[0;34m.\u001b[0m\u001b[0m_rlock\u001b[0m\u001b[0;34m:\u001b[0m\u001b[0;34m\u001b[0m\u001b[0;34m\u001b[0m\u001b[0m\n\u001b[0;32m---> 97\u001b[0;31m                 \u001b[0mres\u001b[0m \u001b[0;34m=\u001b[0m \u001b[0mself\u001b[0m\u001b[0;34m.\u001b[0m\u001b[0m_recv_bytes\u001b[0m\u001b[0;34m(\u001b[0m\u001b[0;34m)\u001b[0m\u001b[0;34m\u001b[0m\u001b[0;34m\u001b[0m\u001b[0m\n\u001b[0m\u001b[1;32m     98\u001b[0m             \u001b[0mself\u001b[0m\u001b[0;34m.\u001b[0m\u001b[0m_sem\u001b[0m\u001b[0;34m.\u001b[0m\u001b[0mrelease\u001b[0m\u001b[0;34m(\u001b[0m\u001b[0;34m)\u001b[0m\u001b[0;34m\u001b[0m\u001b[0;34m\u001b[0m\u001b[0m\n\u001b[1;32m     99\u001b[0m         \u001b[0;32melse\u001b[0m\u001b[0;34m:\u001b[0m\u001b[0;34m\u001b[0m\u001b[0;34m\u001b[0m\u001b[0m\n",
      "\u001b[0;32m~/miniconda3/envs/research/lib/python3.8/multiprocessing/connection.py\u001b[0m in \u001b[0;36mrecv_bytes\u001b[0;34m(self, maxlength)\u001b[0m\n\u001b[1;32m    214\u001b[0m         \u001b[0;32mif\u001b[0m \u001b[0mmaxlength\u001b[0m \u001b[0;32mis\u001b[0m \u001b[0;32mnot\u001b[0m \u001b[0;32mNone\u001b[0m \u001b[0;32mand\u001b[0m \u001b[0mmaxlength\u001b[0m \u001b[0;34m<\u001b[0m \u001b[0;36m0\u001b[0m\u001b[0;34m:\u001b[0m\u001b[0;34m\u001b[0m\u001b[0;34m\u001b[0m\u001b[0m\n\u001b[1;32m    215\u001b[0m             \u001b[0;32mraise\u001b[0m \u001b[0mValueError\u001b[0m\u001b[0;34m(\u001b[0m\u001b[0;34m\"negative maxlength\"\u001b[0m\u001b[0;34m)\u001b[0m\u001b[0;34m\u001b[0m\u001b[0;34m\u001b[0m\u001b[0m\n\u001b[0;32m--> 216\u001b[0;31m         \u001b[0mbuf\u001b[0m \u001b[0;34m=\u001b[0m \u001b[0mself\u001b[0m\u001b[0;34m.\u001b[0m\u001b[0m_recv_bytes\u001b[0m\u001b[0;34m(\u001b[0m\u001b[0mmaxlength\u001b[0m\u001b[0;34m)\u001b[0m\u001b[0;34m\u001b[0m\u001b[0;34m\u001b[0m\u001b[0m\n\u001b[0m\u001b[1;32m    217\u001b[0m         \u001b[0;32mif\u001b[0m \u001b[0mbuf\u001b[0m \u001b[0;32mis\u001b[0m \u001b[0;32mNone\u001b[0m\u001b[0;34m:\u001b[0m\u001b[0;34m\u001b[0m\u001b[0;34m\u001b[0m\u001b[0m\n\u001b[1;32m    218\u001b[0m             \u001b[0mself\u001b[0m\u001b[0;34m.\u001b[0m\u001b[0m_bad_message_length\u001b[0m\u001b[0;34m(\u001b[0m\u001b[0;34m)\u001b[0m\u001b[0;34m\u001b[0m\u001b[0;34m\u001b[0m\u001b[0m\n",
      "\u001b[0;32m~/miniconda3/envs/research/lib/python3.8/multiprocessing/connection.py\u001b[0m in \u001b[0;36m_recv_bytes\u001b[0;34m(self, maxsize)\u001b[0m\n\u001b[1;32m    412\u001b[0m \u001b[0;34m\u001b[0m\u001b[0m\n\u001b[1;32m    413\u001b[0m     \u001b[0;32mdef\u001b[0m \u001b[0m_recv_bytes\u001b[0m\u001b[0;34m(\u001b[0m\u001b[0mself\u001b[0m\u001b[0;34m,\u001b[0m \u001b[0mmaxsize\u001b[0m\u001b[0;34m=\u001b[0m\u001b[0;32mNone\u001b[0m\u001b[0;34m)\u001b[0m\u001b[0;34m:\u001b[0m\u001b[0;34m\u001b[0m\u001b[0;34m\u001b[0m\u001b[0m\n\u001b[0;32m--> 414\u001b[0;31m         \u001b[0mbuf\u001b[0m \u001b[0;34m=\u001b[0m \u001b[0mself\u001b[0m\u001b[0;34m.\u001b[0m\u001b[0m_recv\u001b[0m\u001b[0;34m(\u001b[0m\u001b[0;36m4\u001b[0m\u001b[0;34m)\u001b[0m\u001b[0;34m\u001b[0m\u001b[0;34m\u001b[0m\u001b[0m\n\u001b[0m\u001b[1;32m    415\u001b[0m         \u001b[0msize\u001b[0m\u001b[0;34m,\u001b[0m \u001b[0;34m=\u001b[0m \u001b[0mstruct\u001b[0m\u001b[0;34m.\u001b[0m\u001b[0munpack\u001b[0m\u001b[0;34m(\u001b[0m\u001b[0;34m\"!i\"\u001b[0m\u001b[0;34m,\u001b[0m \u001b[0mbuf\u001b[0m\u001b[0;34m.\u001b[0m\u001b[0mgetvalue\u001b[0m\u001b[0;34m(\u001b[0m\u001b[0;34m)\u001b[0m\u001b[0;34m)\u001b[0m\u001b[0;34m\u001b[0m\u001b[0;34m\u001b[0m\u001b[0m\n\u001b[1;32m    416\u001b[0m         \u001b[0;32mif\u001b[0m \u001b[0msize\u001b[0m \u001b[0;34m==\u001b[0m \u001b[0;34m-\u001b[0m\u001b[0;36m1\u001b[0m\u001b[0;34m:\u001b[0m\u001b[0;34m\u001b[0m\u001b[0;34m\u001b[0m\u001b[0m\n",
      "\u001b[0;32m~/miniconda3/envs/research/lib/python3.8/multiprocessing/connection.py\u001b[0m in \u001b[0;36m_recv\u001b[0;34m(self, size, read)\u001b[0m\n\u001b[1;32m    377\u001b[0m         \u001b[0mremaining\u001b[0m \u001b[0;34m=\u001b[0m \u001b[0msize\u001b[0m\u001b[0;34m\u001b[0m\u001b[0;34m\u001b[0m\u001b[0m\n\u001b[1;32m    378\u001b[0m         \u001b[0;32mwhile\u001b[0m \u001b[0mremaining\u001b[0m \u001b[0;34m>\u001b[0m \u001b[0;36m0\u001b[0m\u001b[0;34m:\u001b[0m\u001b[0;34m\u001b[0m\u001b[0;34m\u001b[0m\u001b[0m\n\u001b[0;32m--> 379\u001b[0;31m             \u001b[0mchunk\u001b[0m \u001b[0;34m=\u001b[0m \u001b[0mread\u001b[0m\u001b[0;34m(\u001b[0m\u001b[0mhandle\u001b[0m\u001b[0;34m,\u001b[0m \u001b[0mremaining\u001b[0m\u001b[0;34m)\u001b[0m\u001b[0;34m\u001b[0m\u001b[0;34m\u001b[0m\u001b[0m\n\u001b[0m\u001b[1;32m    380\u001b[0m             \u001b[0mn\u001b[0m \u001b[0;34m=\u001b[0m \u001b[0mlen\u001b[0m\u001b[0;34m(\u001b[0m\u001b[0mchunk\u001b[0m\u001b[0;34m)\u001b[0m\u001b[0;34m\u001b[0m\u001b[0;34m\u001b[0m\u001b[0m\n\u001b[1;32m    381\u001b[0m             \u001b[0;32mif\u001b[0m \u001b[0mn\u001b[0m \u001b[0;34m==\u001b[0m \u001b[0;36m0\u001b[0m\u001b[0;34m:\u001b[0m\u001b[0;34m\u001b[0m\u001b[0;34m\u001b[0m\u001b[0m\n",
      "\u001b[0;31mKeyboardInterrupt\u001b[0m: "
     ]
    }
   ],
   "source": [
    "out = []\n",
    "for q in queue:\n",
    "    out.append(q.get())"
   ]
  },
  {
   "cell_type": "code",
   "execution_count": 12,
   "id": "plastic-needle",
   "metadata": {},
   "outputs": [
    {
     "data": {
      "text/plain": [
       "2"
      ]
     },
     "execution_count": 12,
     "metadata": {},
     "output_type": "execute_result"
    }
   ],
   "source": [
    "import mkl\n",
    "mkl.set_num_threads(2)"
   ]
  },
  {
   "cell_type": "code",
   "execution_count": 5,
   "id": "peaceful-missouri",
   "metadata": {},
   "outputs": [],
   "source": [
    "t_list = np.arange(0, 32, 1)"
   ]
  },
  {
   "cell_type": "code",
   "execution_count": 17,
   "id": "hollywood-performer",
   "metadata": {},
   "outputs": [
    {
     "name": "stdout",
     "output_type": "stream",
     "text": [
      "CPU times: user 7.5 s, sys: 56.1 ms, total: 7.56 s\n",
      "Wall time: 4.54 s\n"
     ]
    }
   ],
   "source": [
    "%time P, T = d.dynamics(samples_state, 100)"
   ]
  },
  {
   "cell_type": "code",
   "execution_count": 9,
   "id": "grave-candy",
   "metadata": {},
   "outputs": [],
   "source": [
    "import numpy as np\n",
    "import numba as nb\n",
    "from numba import prange"
   ]
  },
  {
   "cell_type": "code",
   "execution_count": 36,
   "id": "everyday-plane",
   "metadata": {},
   "outputs": [],
   "source": [
    "t_list = np.linspace(0,20,10**2 )\n"
   ]
  },
  {
   "cell_type": "code",
   "execution_count": null,
   "id": "massive-prompt",
   "metadata": {},
   "outputs": [],
   "source": []
  },
  {
   "cell_type": "code",
   "execution_count": 37,
   "id": "cathedral-eugene",
   "metadata": {
    "scrolled": true
   },
   "outputs": [],
   "source": [
    "@njit\n",
    "def cal_mels(P, T, t_list):\n",
    "    mels_list = np.zeros((t_list.shape[0],)+P.shape[1:] , dtype=P.dtype)\n",
    "#     num_samples = np.zeros_like(T, dtype=nb.boolean)\n",
    "#     sections = np.zeros(t_list.shape[0])\n",
    "    t_list_ = t_list.reshape(-1,1)\n",
    "\n",
    "    S = 0\n",
    "    for n in range(T.shape[0]-1):\n",
    "        \n",
    "#         A = T <= t_list[n]\n",
    "#         num_samples = np.logical_or(A, )\n",
    "#         ind1, ind2 = np.where(np.logical_xor(A[1:,:],A[:-1,:]))\n",
    "#     #     sections[n] = S\n",
    "#         n_state = ind1.shape[0]\n",
    "\n",
    "        index = np.logical_and(T[n] <= t_list_,  t_list_ < T[n+1])\n",
    "\n",
    "        for i in range(index.shape[1]):\n",
    "            mels_list[index[:,i],i] = P[n,i]\n",
    "    return mels_list"
   ]
  },
  {
   "cell_type": "code",
   "execution_count": 30,
   "id": "classical-mother",
   "metadata": {
    "collapsed": true
   },
   "outputs": [
    {
     "ename": "KeyboardInterrupt",
     "evalue": "",
     "output_type": "error",
     "traceback": [
      "\u001b[0;31m---------------------------------------------------------------------------\u001b[0m",
      "\u001b[0;31mKeyboardInterrupt\u001b[0m                         Traceback (most recent call last)",
      "\u001b[0;32m<ipython-input-30-80aa19c7ec07>\u001b[0m in \u001b[0;36m<module>\u001b[0;34m\u001b[0m\n\u001b[0;32m----> 1\u001b[0;31m \u001b[0mP_list\u001b[0m\u001b[0;34m=\u001b[0m \u001b[0mcal_mels\u001b[0m\u001b[0;34m(\u001b[0m\u001b[0mP\u001b[0m\u001b[0;34m,\u001b[0m \u001b[0mT\u001b[0m\u001b[0;34m,\u001b[0m \u001b[0mt_list\u001b[0m\u001b[0;34m)\u001b[0m\u001b[0;34m\u001b[0m\u001b[0;34m\u001b[0m\u001b[0m\n\u001b[0m",
      "\u001b[0;31mKeyboardInterrupt\u001b[0m: "
     ]
    }
   ],
   "source": [
    "P_list= cal_mels(P, T, t_list)"
   ]
  },
  {
   "cell_type": "code",
   "execution_count": 120,
   "id": "fatty-tuning",
   "metadata": {},
   "outputs": [],
   "source": [
    "P_list_ = P_list.reshape(-1,P_list.shape[-1])\n",
    "sections = np.zeros(P_list_.shape[0])"
   ]
  },
  {
   "cell_type": "code",
   "execution_count": 133,
   "id": "functioning-sustainability",
   "metadata": {},
   "outputs": [
    {
     "data": {
      "text/plain": [
       "array([10000, 10000, 10000, ...,  7996,  7975,  7952])"
      ]
     },
     "execution_count": 133,
     "metadata": {},
     "output_type": "execute_result"
    }
   ],
   "source": [
    "num_samples = (P_list[:,:,0]!=0).sum(axis=1)"
   ]
  },
  {
   "cell_type": "code",
   "execution_count": 126,
   "id": "pressed-compensation",
   "metadata": {},
   "outputs": [],
   "source": [
    "mels2 = mels2_.reshape(P_list.shape[0], P_list.shape[1])"
   ]
  },
  {
   "cell_type": "code",
   "execution_count": 40,
   "id": "round-director",
   "metadata": {},
   "outputs": [
    {
     "data": {
      "text/plain": [
       "(16, 6, 2)"
      ]
     },
     "execution_count": 40,
     "metadata": {},
     "output_type": "execute_result"
    }
   ],
   "source": [
    "hex_.edges_from_hex_(l = hex_.all_hex_index, color=True, num =True)[0].shape"
   ]
  },
  {
   "cell_type": "code",
   "execution_count": 21,
   "id": "separate-august",
   "metadata": {},
   "outputs": [
    {
     "data": {
      "text/plain": [
       "16000"
      ]
     },
     "execution_count": 21,
     "metadata": {},
     "output_type": "execute_result"
    }
   ],
   "source": [
    "dimer_corr.size"
   ]
  },
  {
   "cell_type": "code",
   "execution_count": 23,
   "id": "balanced-trader",
   "metadata": {},
   "outputs": [
    {
     "data": {
      "text/plain": [
       "128000"
      ]
     },
     "execution_count": 23,
     "metadata": {},
     "output_type": "execute_result"
    }
   ],
   "source": [
    "dimer_corr.nbytes"
   ]
  },
  {
   "cell_type": "code",
   "execution_count": 26,
   "id": "significant-expression",
   "metadata": {},
   "outputs": [
    {
     "data": {
      "text/plain": [
       "3200000000"
      ]
     },
     "execution_count": 26,
     "metadata": {},
     "output_type": "execute_result"
    }
   ],
   "source": [
    "P_list.nbytes"
   ]
  },
  {
   "cell_type": "code",
   "execution_count": 27,
   "id": "divided-production",
   "metadata": {},
   "outputs": [
    {
     "data": {
      "text/plain": [
       "(1000, 100000, 32)"
      ]
     },
     "execution_count": 27,
     "metadata": {},
     "output_type": "execute_result"
    }
   ],
   "source": [
    "P_list.shape"
   ]
  },
  {
   "cell_type": "code",
   "execution_count": 14,
   "id": "satisfied-maker",
   "metadata": {
    "collapsed": true
   },
   "outputs": [
    {
     "name": "stdout",
     "output_type": "stream",
     "text": [
      "0 0\n",
      "0 1\n",
      "0 2\n",
      "0 3\n",
      "1 0\n",
      "1 1\n",
      "1 2\n",
      "1 3\n",
      "2 0\n",
      "2 1\n",
      "2 2\n",
      "2 3\n",
      "3 0\n",
      "3 1\n",
      "3 2\n",
      "3 3\n"
     ]
    }
   ],
   "source": [
    "length = [4, 4]\n",
    "g = nk.graph.Graph(nodes = [i for i in range(length[0] * length[1] * 2)])\n",
    "hi = nk.hilbert.Spin(s=0.5, graph=g)\n",
    "hex_ = nk.machine.new_hex(np.array(length))\n",
    "\n",
    "\n",
    "l = []\n",
    "for i in range(length[0]):\n",
    "    for j in range(length[1]):\n",
    "        l.append([i, j])\n",
    "l = np.array(l)\n",
    "a = 0\n",
    "a_ = [a for _ in range(np.prod(length))]\n",
    "a = np.array(a_)\n",
    "\n",
    "\n",
    "\n",
    "edges, colors = hex_.dimer_corr(l,a)\n",
    "operators = f.return_dimer_operator(hi, edges, colors)\n",
    "\n",
    "\n",
    "\n",
    "P_list= cal_mels(P, T, t_list)\n",
    "P_list_ = P_list.reshape(-1,P_list.shape[-1])\n",
    "num_samples = (P_list[:,:,0]!=0).sum(axis=1)\n",
    "\n",
    "sections1 = np.arange(P.shape[1])\n",
    "sections2 = np.zeros(P_list_.shape[0])\n",
    "\n",
    "_, mels1 = operators[0].get_conn_flattened(P[0,:,:], sections1)\n",
    "sub1 = mels1.mean().real\n",
    "mels1 = mels1.real\n",
    "\n",
    "\n",
    "dimer_corr = np.zeros((length[0],length[1],t_list.shape[0]))\n",
    "dimer_std = np.zeros((length[0],length[1],t_list.shape[0]))\n",
    "\n",
    "for l1 in range(length[0]):\n",
    "    for l2 in range(length[1]):\n",
    "        \n",
    "        print(l1,l2)\n",
    "        \n",
    "        sub2 = operators[l1 * length[1] + l2].get_conn_flattened(P[0,:,:], sections1)[1].mean().real\n",
    "        \n",
    "        _, mels2_ = operators[l1 * length[1] + l2].get_conn_flattened(P_list_, sections2)\n",
    "        mels2 = mels2_.reshape(P_list.shape[0], P_list.shape[1]).real\n",
    "        dimer_corr[l1,l2] = (mels2 * mels1).sum(axis=1)/num_samples - sub1*sub2\n",
    "        dimer_std[l1,l2] = (mels2 * mels1 - ).sum(axis=1) "
   ]
  },
  {
   "cell_type": "code",
   "execution_count": 28,
   "id": "prospective-manhattan",
   "metadata": {},
   "outputs": [],
   "source": [
    "from plotly import graph_objects as go"
   ]
  },
  {
   "cell_type": "code",
   "execution_count": 35,
   "id": "accessible-monaco",
   "metadata": {},
   "outputs": [
    {
     "data": {
      "application/vnd.plotly.v1+json": {
       "config": {
        "plotlyServerURL": "https://plot.ly"
       },
       "data": [
        {
         "type": "scatter",
         "x": [
          0,
          0.02002002002002002,
          0.04004004004004004,
          0.06006006006006006,
          0.08008008008008008,
          0.10010010010010009,
          0.12012012012012012,
          0.14014014014014015,
          0.16016016016016016,
          0.18018018018018017,
          0.20020020020020018,
          0.22022022022022023,
          0.24024024024024024,
          0.2602602602602603,
          0.2802802802802803,
          0.3003003003003003,
          0.3203203203203203,
          0.34034034034034033,
          0.36036036036036034,
          0.38038038038038036,
          0.40040040040040037,
          0.42042042042042044,
          0.44044044044044045,
          0.46046046046046046,
          0.4804804804804805,
          0.5005005005005005,
          0.5205205205205206,
          0.5405405405405406,
          0.5605605605605606,
          0.5805805805805806,
          0.6006006006006006,
          0.6206206206206206,
          0.6406406406406406,
          0.6606606606606606,
          0.6806806806806807,
          0.7007007007007007,
          0.7207207207207207,
          0.7407407407407407,
          0.7607607607607607,
          0.7807807807807807,
          0.8008008008008007,
          0.8208208208208209,
          0.8408408408408409,
          0.8608608608608609,
          0.8808808808808809,
          0.9009009009009009,
          0.9209209209209209,
          0.9409409409409409,
          0.960960960960961,
          0.980980980980981,
          1.001001001001001,
          1.021021021021021,
          1.0410410410410411,
          1.0610610610610611,
          1.0810810810810811,
          1.1011011011011012,
          1.1211211211211212,
          1.1411411411411412,
          1.1611611611611612,
          1.1811811811811812,
          1.2012012012012012,
          1.2212212212212212,
          1.2412412412412412,
          1.2612612612612613,
          1.2812812812812813,
          1.3013013013013013,
          1.3213213213213213,
          1.3413413413413413,
          1.3613613613613613,
          1.3813813813813813,
          1.4014014014014013,
          1.4214214214214214,
          1.4414414414414414,
          1.4614614614614614,
          1.4814814814814814,
          1.5015015015015014,
          1.5215215215215214,
          1.5415415415415414,
          1.5615615615615615,
          1.5815815815815815,
          1.6016016016016015,
          1.6216216216216217,
          1.6416416416416417,
          1.6616616616616617,
          1.6816816816816818,
          1.7017017017017018,
          1.7217217217217218,
          1.7417417417417418,
          1.7617617617617618,
          1.7817817817817818,
          1.8018018018018018,
          1.8218218218218218,
          1.8418418418418419,
          1.8618618618618619,
          1.8818818818818819,
          1.901901901901902,
          1.921921921921922,
          1.941941941941942,
          1.961961961961962,
          1.981981981981982,
          2.002002002002002,
          2.022022022022022,
          2.042042042042042,
          2.062062062062062,
          2.0820820820820822,
          2.1021021021021022,
          2.1221221221221223,
          2.1421421421421423,
          2.1621621621621623,
          2.1821821821821823,
          2.2022022022022023,
          2.2222222222222223,
          2.2422422422422423,
          2.2622622622622623,
          2.2822822822822824,
          2.3023023023023024,
          2.3223223223223224,
          2.3423423423423424,
          2.3623623623623624,
          2.3823823823823824,
          2.4024024024024024,
          2.4224224224224224,
          2.4424424424424425,
          2.4624624624624625,
          2.4824824824824825,
          2.5025025025025025,
          2.5225225225225225,
          2.5425425425425425,
          2.5625625625625625,
          2.5825825825825826,
          2.6026026026026026,
          2.6226226226226226,
          2.6426426426426426,
          2.6626626626626626,
          2.6826826826826826,
          2.7027027027027026,
          2.7227227227227226,
          2.7427427427427427,
          2.7627627627627627,
          2.7827827827827827,
          2.8028028028028027,
          2.8228228228228227,
          2.8428428428428427,
          2.8628628628628627,
          2.8828828828828827,
          2.9029029029029028,
          2.9229229229229228,
          2.942942942942943,
          2.962962962962963,
          2.982982982982983,
          3.003003003003003,
          3.023023023023023,
          3.043043043043043,
          3.063063063063063,
          3.083083083083083,
          3.103103103103103,
          3.123123123123123,
          3.143143143143143,
          3.163163163163163,
          3.183183183183183,
          3.203203203203203,
          3.2232232232232234,
          3.2432432432432434,
          3.2632632632632634,
          3.2832832832832834,
          3.3033033033033035,
          3.3233233233233235,
          3.3433433433433435,
          3.3633633633633635,
          3.3833833833833835,
          3.4034034034034035,
          3.4234234234234235,
          3.4434434434434436,
          3.4634634634634636,
          3.4834834834834836,
          3.5035035035035036,
          3.5235235235235236,
          3.5435435435435436,
          3.5635635635635636,
          3.5835835835835836,
          3.6036036036036037,
          3.6236236236236237,
          3.6436436436436437,
          3.6636636636636637,
          3.6836836836836837,
          3.7037037037037037,
          3.7237237237237237,
          3.7437437437437437,
          3.7637637637637638,
          3.7837837837837838,
          3.803803803803804,
          3.823823823823824,
          3.843843843843844,
          3.863863863863864,
          3.883883883883884,
          3.903903903903904,
          3.923923923923924,
          3.943943943943944,
          3.963963963963964,
          3.983983983983984,
          4.004004004004004,
          4.024024024024024,
          4.044044044044044,
          4.064064064064064,
          4.084084084084084,
          4.104104104104104,
          4.124124124124124,
          4.1441441441441444,
          4.1641641641641645,
          4.1841841841841845,
          4.2042042042042045,
          4.2242242242242245,
          4.2442442442442445,
          4.2642642642642645,
          4.2842842842842845,
          4.3043043043043046,
          4.324324324324325,
          4.344344344344345,
          4.364364364364365,
          4.384384384384385,
          4.404404404404405,
          4.424424424424425,
          4.444444444444445,
          4.464464464464465,
          4.484484484484485,
          4.504504504504505,
          4.524524524524525,
          4.544544544544545,
          4.564564564564565,
          4.584584584584585,
          4.604604604604605,
          4.624624624624625,
          4.644644644644645,
          4.664664664664665,
          4.684684684684685,
          4.704704704704705,
          4.724724724724725,
          4.744744744744745,
          4.764764764764765,
          4.784784784784785,
          4.804804804804805,
          4.824824824824825,
          4.844844844844845,
          4.864864864864865,
          4.884884884884885,
          4.904904904904905,
          4.924924924924925,
          4.944944944944945,
          4.964964964964965,
          4.984984984984985,
          5.005005005005005,
          5.025025025025025,
          5.045045045045045,
          5.065065065065065,
          5.085085085085085,
          5.105105105105105,
          5.125125125125125,
          5.145145145145145,
          5.165165165165165,
          5.185185185185185,
          5.205205205205205,
          5.225225225225225,
          5.245245245245245,
          5.265265265265265,
          5.285285285285285,
          5.305305305305305,
          5.325325325325325,
          5.345345345345345,
          5.365365365365365,
          5.385385385385385,
          5.405405405405405,
          5.425425425425425,
          5.445445445445445,
          5.465465465465465,
          5.485485485485485,
          5.505505505505505,
          5.525525525525525,
          5.545545545545545,
          5.565565565565565,
          5.585585585585585,
          5.605605605605605,
          5.625625625625625,
          5.645645645645645,
          5.665665665665665,
          5.685685685685685,
          5.7057057057057055,
          5.7257257257257255,
          5.7457457457457455,
          5.7657657657657655,
          5.7857857857857855,
          5.8058058058058055,
          5.8258258258258255,
          5.8458458458458455,
          5.865865865865866,
          5.885885885885886,
          5.905905905905906,
          5.925925925925926,
          5.945945945945946,
          5.965965965965966,
          5.985985985985986,
          6.006006006006006,
          6.026026026026026,
          6.046046046046046,
          6.066066066066066,
          6.086086086086086,
          6.106106106106106,
          6.126126126126126,
          6.146146146146146,
          6.166166166166166,
          6.186186186186186,
          6.206206206206206,
          6.226226226226226,
          6.246246246246246,
          6.266266266266266,
          6.286286286286286,
          6.306306306306306,
          6.326326326326326,
          6.346346346346346,
          6.366366366366366,
          6.386386386386386,
          6.406406406406406,
          6.426426426426427,
          6.446446446446447,
          6.466466466466467,
          6.486486486486487,
          6.506506506506507,
          6.526526526526527,
          6.546546546546547,
          6.566566566566567,
          6.586586586586587,
          6.606606606606607,
          6.626626626626627,
          6.646646646646647,
          6.666666666666667,
          6.686686686686687,
          6.706706706706707,
          6.726726726726727,
          6.746746746746747,
          6.766766766766767,
          6.786786786786787,
          6.806806806806807,
          6.826826826826827,
          6.846846846846847,
          6.866866866866867,
          6.886886886886887,
          6.906906906906907,
          6.926926926926927,
          6.946946946946947,
          6.966966966966967,
          6.986986986986987,
          7.007007007007007,
          7.027027027027027,
          7.047047047047047,
          7.067067067067067,
          7.087087087087087,
          7.107107107107107,
          7.127127127127127,
          7.147147147147147,
          7.167167167167167,
          7.187187187187187,
          7.207207207207207,
          7.227227227227227,
          7.247247247247247,
          7.267267267267267,
          7.287287287287287,
          7.307307307307307,
          7.327327327327327,
          7.347347347347347,
          7.367367367367367,
          7.387387387387387,
          7.407407407407407,
          7.4274274274274275,
          7.4474474474474475,
          7.4674674674674675,
          7.4874874874874875,
          7.5075075075075075,
          7.5275275275275275,
          7.5475475475475475,
          7.5675675675675675,
          7.587587587587588,
          7.607607607607608,
          7.627627627627628,
          7.647647647647648,
          7.667667667667668,
          7.687687687687688,
          7.707707707707708,
          7.727727727727728,
          7.747747747747748,
          7.767767767767768,
          7.787787787787788,
          7.807807807807808,
          7.827827827827828,
          7.847847847847848,
          7.867867867867868,
          7.887887887887888,
          7.907907907907908,
          7.927927927927928,
          7.947947947947948,
          7.967967967967968,
          7.987987987987988,
          8.008008008008009,
          8.028028028028029,
          8.048048048048049,
          8.068068068068069,
          8.088088088088089,
          8.108108108108109,
          8.128128128128129,
          8.148148148148149,
          8.168168168168169,
          8.188188188188189,
          8.208208208208209,
          8.228228228228229,
          8.248248248248249,
          8.268268268268269,
          8.288288288288289,
          8.308308308308309,
          8.328328328328329,
          8.348348348348349,
          8.368368368368369,
          8.388388388388389,
          8.408408408408409,
          8.428428428428429,
          8.448448448448449,
          8.468468468468469,
          8.488488488488489,
          8.508508508508509,
          8.528528528528529,
          8.548548548548549,
          8.568568568568569,
          8.588588588588589,
          8.608608608608609,
          8.62862862862863,
          8.64864864864865,
          8.66866866866867,
          8.68868868868869,
          8.70870870870871,
          8.72872872872873,
          8.74874874874875,
          8.76876876876877,
          8.78878878878879,
          8.80880880880881,
          8.82882882882883,
          8.84884884884885,
          8.86886886886887,
          8.88888888888889,
          8.90890890890891,
          8.92892892892893,
          8.94894894894895,
          8.96896896896897,
          8.98898898898899,
          9.00900900900901,
          9.02902902902903,
          9.04904904904905,
          9.06906906906907,
          9.08908908908909,
          9.10910910910911,
          9.12912912912913,
          9.14914914914915,
          9.16916916916917,
          9.18918918918919,
          9.20920920920921,
          9.22922922922923,
          9.24924924924925,
          9.26926926926927,
          9.28928928928929,
          9.30930930930931,
          9.32932932932933,
          9.34934934934935,
          9.36936936936937,
          9.38938938938939,
          9.40940940940941,
          9.42942942942943,
          9.44944944944945,
          9.46946946946947,
          9.48948948948949,
          9.50950950950951,
          9.52952952952953,
          9.54954954954955,
          9.56956956956957,
          9.58958958958959,
          9.60960960960961,
          9.62962962962963,
          9.64964964964965,
          9.66966966966967,
          9.68968968968969,
          9.70970970970971,
          9.72972972972973,
          9.74974974974975,
          9.76976976976977,
          9.78978978978979,
          9.80980980980981,
          9.82982982982983,
          9.84984984984985,
          9.86986986986987,
          9.88988988988989,
          9.90990990990991,
          9.92992992992993,
          9.94994994994995,
          9.96996996996997,
          9.98998998998999,
          10.01001001001001,
          10.03003003003003,
          10.05005005005005,
          10.07007007007007,
          10.09009009009009,
          10.11011011011011,
          10.13013013013013,
          10.15015015015015,
          10.17017017017017,
          10.19019019019019,
          10.21021021021021,
          10.23023023023023,
          10.25025025025025,
          10.27027027027027,
          10.29029029029029,
          10.31031031031031,
          10.33033033033033,
          10.35035035035035,
          10.37037037037037,
          10.39039039039039,
          10.41041041041041,
          10.43043043043043,
          10.45045045045045,
          10.47047047047047,
          10.49049049049049,
          10.51051051051051,
          10.53053053053053,
          10.55055055055055,
          10.57057057057057,
          10.59059059059059,
          10.61061061061061,
          10.63063063063063,
          10.65065065065065,
          10.67067067067067,
          10.69069069069069,
          10.71071071071071,
          10.73073073073073,
          10.75075075075075,
          10.77077077077077,
          10.79079079079079,
          10.81081081081081,
          10.83083083083083,
          10.85085085085085,
          10.87087087087087,
          10.89089089089089,
          10.91091091091091,
          10.93093093093093,
          10.95095095095095,
          10.97097097097097,
          10.99099099099099,
          11.01101101101101,
          11.03103103103103,
          11.05105105105105,
          11.07107107107107,
          11.09109109109109,
          11.11111111111111,
          11.13113113113113,
          11.15115115115115,
          11.17117117117117,
          11.19119119119119,
          11.21121121121121,
          11.23123123123123,
          11.25125125125125,
          11.27127127127127,
          11.29129129129129,
          11.31131131131131,
          11.33133133133133,
          11.35135135135135,
          11.37137137137137,
          11.391391391391391,
          11.411411411411411,
          11.431431431431431,
          11.451451451451451,
          11.471471471471471,
          11.491491491491491,
          11.511511511511511,
          11.531531531531531,
          11.551551551551551,
          11.571571571571571,
          11.591591591591591,
          11.611611611611611,
          11.631631631631631,
          11.651651651651651,
          11.671671671671671,
          11.691691691691691,
          11.711711711711711,
          11.731731731731731,
          11.751751751751751,
          11.771771771771771,
          11.791791791791791,
          11.811811811811811,
          11.831831831831831,
          11.851851851851851,
          11.871871871871871,
          11.891891891891891,
          11.911911911911911,
          11.931931931931931,
          11.951951951951951,
          11.971971971971971,
          11.991991991991991,
          12.012012012012011,
          12.032032032032031,
          12.052052052052051,
          12.072072072072071,
          12.092092092092091,
          12.112112112112111,
          12.132132132132131,
          12.152152152152151,
          12.172172172172171,
          12.192192192192191,
          12.212212212212211,
          12.232232232232231,
          12.252252252252251,
          12.272272272272271,
          12.292292292292291,
          12.312312312312311,
          12.332332332332332,
          12.352352352352352,
          12.372372372372372,
          12.392392392392392,
          12.412412412412412,
          12.432432432432432,
          12.452452452452452,
          12.472472472472472,
          12.492492492492492,
          12.512512512512512,
          12.532532532532532,
          12.552552552552552,
          12.572572572572572,
          12.592592592592592,
          12.612612612612612,
          12.632632632632632,
          12.652652652652652,
          12.672672672672672,
          12.692692692692692,
          12.712712712712712,
          12.732732732732732,
          12.752752752752752,
          12.772772772772772,
          12.792792792792792,
          12.812812812812812,
          12.832832832832834,
          12.852852852852854,
          12.872872872872874,
          12.892892892892894,
          12.912912912912914,
          12.932932932932934,
          12.952952952952954,
          12.972972972972974,
          12.992992992992994,
          13.013013013013014,
          13.033033033033034,
          13.053053053053054,
          13.073073073073074,
          13.093093093093094,
          13.113113113113114,
          13.133133133133134,
          13.153153153153154,
          13.173173173173174,
          13.193193193193194,
          13.213213213213214,
          13.233233233233234,
          13.253253253253254,
          13.273273273273274,
          13.293293293293294,
          13.313313313313314,
          13.333333333333334,
          13.353353353353354,
          13.373373373373374,
          13.393393393393394,
          13.413413413413414,
          13.433433433433434,
          13.453453453453454,
          13.473473473473474,
          13.493493493493494,
          13.513513513513514,
          13.533533533533534,
          13.553553553553554,
          13.573573573573574,
          13.593593593593594,
          13.613613613613614,
          13.633633633633634,
          13.653653653653654,
          13.673673673673674,
          13.693693693693694,
          13.713713713713714,
          13.733733733733734,
          13.753753753753754,
          13.773773773773774,
          13.793793793793794,
          13.813813813813814,
          13.833833833833834,
          13.853853853853854,
          13.873873873873874,
          13.893893893893894,
          13.913913913913914,
          13.933933933933934,
          13.953953953953954,
          13.973973973973974,
          13.993993993993994,
          14.014014014014014,
          14.034034034034034,
          14.054054054054054,
          14.074074074074074,
          14.094094094094094,
          14.114114114114114,
          14.134134134134134,
          14.154154154154154,
          14.174174174174174,
          14.194194194194194,
          14.214214214214214,
          14.234234234234235,
          14.254254254254255,
          14.274274274274275,
          14.294294294294295,
          14.314314314314315,
          14.334334334334335,
          14.354354354354355,
          14.374374374374375,
          14.394394394394395,
          14.414414414414415,
          14.434434434434435,
          14.454454454454455,
          14.474474474474475,
          14.494494494494495,
          14.514514514514515,
          14.534534534534535,
          14.554554554554555,
          14.574574574574575,
          14.594594594594595,
          14.614614614614615,
          14.634634634634635,
          14.654654654654655,
          14.674674674674675,
          14.694694694694695,
          14.714714714714715,
          14.734734734734735,
          14.754754754754755,
          14.774774774774775,
          14.794794794794795,
          14.814814814814815,
          14.834834834834835,
          14.854854854854855,
          14.874874874874875,
          14.894894894894895,
          14.914914914914915,
          14.934934934934935,
          14.954954954954955,
          14.974974974974975,
          14.994994994994995,
          15.015015015015015,
          15.035035035035035,
          15.055055055055055,
          15.075075075075075,
          15.095095095095095,
          15.115115115115115,
          15.135135135135135,
          15.155155155155155,
          15.175175175175175,
          15.195195195195195,
          15.215215215215215,
          15.235235235235235,
          15.255255255255255,
          15.275275275275275,
          15.295295295295295,
          15.315315315315315,
          15.335335335335335,
          15.355355355355355,
          15.375375375375375,
          15.395395395395395,
          15.415415415415415,
          15.435435435435435,
          15.455455455455455,
          15.475475475475475,
          15.495495495495495,
          15.515515515515515,
          15.535535535535535,
          15.555555555555555,
          15.575575575575575,
          15.595595595595595,
          15.615615615615615,
          15.635635635635635,
          15.655655655655655,
          15.675675675675675,
          15.695695695695695,
          15.715715715715715,
          15.735735735735735,
          15.755755755755755,
          15.775775775775776,
          15.795795795795796,
          15.815815815815816,
          15.835835835835836,
          15.855855855855856,
          15.875875875875876,
          15.895895895895896,
          15.915915915915916,
          15.935935935935936,
          15.955955955955956,
          15.975975975975976,
          15.995995995995996,
          16.016016016016017,
          16.036036036036037,
          16.056056056056057,
          16.076076076076077,
          16.096096096096097,
          16.116116116116117,
          16.136136136136138,
          16.156156156156158,
          16.176176176176178,
          16.196196196196198,
          16.216216216216218,
          16.236236236236238,
          16.256256256256258,
          16.276276276276278,
          16.296296296296298,
          16.316316316316318,
          16.336336336336338,
          16.356356356356358,
          16.376376376376378,
          16.396396396396398,
          16.416416416416418,
          16.436436436436438,
          16.456456456456458,
          16.476476476476478,
          16.496496496496498,
          16.516516516516518,
          16.536536536536538,
          16.556556556556558,
          16.576576576576578,
          16.596596596596598,
          16.616616616616618,
          16.636636636636638,
          16.656656656656658,
          16.676676676676678,
          16.696696696696698,
          16.716716716716718,
          16.736736736736738,
          16.756756756756758,
          16.776776776776778,
          16.796796796796798,
          16.816816816816818,
          16.836836836836838,
          16.856856856856858,
          16.876876876876878,
          16.896896896896898,
          16.916916916916918,
          16.936936936936938,
          16.956956956956958,
          16.976976976976978,
          16.996996996996998,
          17.017017017017018,
          17.037037037037038,
          17.057057057057058,
          17.077077077077078,
          17.097097097097098,
          17.117117117117118,
          17.137137137137138,
          17.157157157157158,
          17.177177177177178,
          17.197197197197198,
          17.217217217217218,
          17.237237237237238,
          17.25725725725726,
          17.27727727727728,
          17.2972972972973,
          17.31731731731732,
          17.33733733733734,
          17.35735735735736,
          17.37737737737738,
          17.3973973973974,
          17.41741741741742,
          17.43743743743744,
          17.45745745745746,
          17.47747747747748,
          17.4974974974975,
          17.51751751751752,
          17.53753753753754,
          17.55755755755756,
          17.57757757757758,
          17.5975975975976,
          17.61761761761762,
          17.63763763763764,
          17.65765765765766,
          17.67767767767768,
          17.6976976976977,
          17.71771771771772,
          17.73773773773774,
          17.75775775775776,
          17.77777777777778,
          17.7977977977978,
          17.81781781781782,
          17.83783783783784,
          17.85785785785786,
          17.87787787787788,
          17.8978978978979,
          17.91791791791792,
          17.93793793793794,
          17.95795795795796,
          17.97797797797798,
          17.997997997998,
          18.01801801801802,
          18.03803803803804,
          18.05805805805806,
          18.07807807807808,
          18.0980980980981,
          18.11811811811812,
          18.13813813813814,
          18.15815815815816,
          18.17817817817818,
          18.1981981981982,
          18.21821821821822,
          18.23823823823824,
          18.25825825825826,
          18.27827827827828,
          18.2982982982983,
          18.31831831831832,
          18.33833833833834,
          18.35835835835836,
          18.37837837837838,
          18.3983983983984,
          18.41841841841842,
          18.43843843843844,
          18.45845845845846,
          18.47847847847848,
          18.4984984984985,
          18.51851851851852,
          18.53853853853854,
          18.55855855855856,
          18.57857857857858,
          18.5985985985986,
          18.61861861861862,
          18.63863863863864,
          18.65865865865866,
          18.67867867867868,
          18.6986986986987,
          18.71871871871872,
          18.73873873873874,
          18.75875875875876,
          18.77877877877878,
          18.7987987987988,
          18.81881881881882,
          18.83883883883884,
          18.85885885885886,
          18.87887887887888,
          18.8988988988989,
          18.91891891891892,
          18.93893893893894,
          18.95895895895896,
          18.97897897897898,
          18.998998998999,
          19.01901901901902,
          19.03903903903904,
          19.05905905905906,
          19.07907907907908,
          19.0990990990991,
          19.11911911911912,
          19.13913913913914,
          19.15915915915916,
          19.17917917917918,
          19.1991991991992,
          19.21921921921922,
          19.23923923923924,
          19.25925925925926,
          19.27927927927928,
          19.2992992992993,
          19.31931931931932,
          19.33933933933934,
          19.35935935935936,
          19.37937937937938,
          19.3993993993994,
          19.41941941941942,
          19.43943943943944,
          19.45945945945946,
          19.47947947947948,
          19.4994994994995,
          19.51951951951952,
          19.53953953953954,
          19.55955955955956,
          19.57957957957958,
          19.5995995995996,
          19.61961961961962,
          19.63963963963964,
          19.65965965965966,
          19.67967967967968,
          19.6996996996997,
          19.71971971971972,
          19.73973973973974,
          19.75975975975976,
          19.77977977977978,
          19.7997997997998,
          19.81981981981982,
          19.83983983983984,
          19.85985985985986,
          19.87987987987988,
          19.8998998998999,
          19.91991991991992,
          19.93993993993994,
          19.95995995995996,
          19.97997997997998,
          20
         ],
         "y": [
          -3.562542797643402,
          -3.562542797643402,
          -3.563600938992025,
          -3.5657205866140416,
          -3.569263347559048,
          -3.5710394458583,
          -3.5735312950317377,
          -3.5774596466984794,
          -3.5806852706875465,
          -3.582481790080474,
          -3.5878907947082217,
          -3.5922391629364427,
          -3.596971331111505,
          -3.6017259992178503,
          -3.607240394211974,
          -3.6105636865896815,
          -3.619853426909975,
          -3.624718414213443,
          -3.6311162436447892,
          -3.6364159534848643,
          -3.6390763783507976,
          -3.6490203909032592,
          -3.658288082243325,
          -3.6625646496958013,
          -3.6676424677674198,
          -3.6723526806905125,
          -3.679459862097513,
          -3.6870170933847453,
          -3.691418578964816,
          -3.6970486351965577,
          -3.7031162216647706,
          -3.7133114022802305,
          -3.7219564189582517,
          -3.7260995100771295,
          -3.7319288274015516,
          -3.7361135288188128,
          -3.7386327811758644,
          -3.745381981447414,
          -3.750048622168765,
          -3.75730381294912,
          -3.76633939600035,
          -3.7772035876642582,
          -3.785099542159236,
          -3.791727466530904,
          -3.80063359215135,
          -3.803769570299903,
          -3.808717491841428,
          -3.81097466585194,
          -3.8195986948324605,
          -3.8296782234084064,
          -3.8333688428758035,
          -3.8356824159916303,
          -3.8454583008872576,
          -3.848269054485295,
          -3.852500053756893,
          -3.863394644824395,
          -3.8667340872828877,
          -3.8700847189936107,
          -3.873446615190915,
          -3.880688964321984,
          -3.884086761541193,
          -3.8938588569604904,
          -3.897301776400354,
          -3.904719620191232,
          -3.912693109898004,
          -3.9273091251174144,
          -3.937002286103887,
          -3.9431730494235993,
          -3.950940439775094,
          -3.9545859728960413,
          -3.9640216853837154,
          -3.9682440845858893,
          -3.9815551794554302,
          -3.989627724080205,
          -3.9961330100176933,
          -4.004324583616547,
          -4.009271931386845,
          -4.019240666736127,
          -4.027624537295146,
          -4.034382612630294,
          -4.042894943253874,
          -4.046320268399363,
          -4.052630667323263,
          -4.056089561372724,
          -4.053782303190187,
          -4.0647895036768835,
          -4.0759192123489605,
          -4.084794168758972,
          -4.087770077586581,
          -4.085983469777196,
          -4.088962925242554,
          -4.091951284397535,
          -4.100970320157204,
          -4.114347142627571,
          -4.118641205618622,
          -4.130390331089278,
          -4.138509488116325,
          -4.135378929291809,
          -4.14290880071466,
          -4.154948281257,
          -4.161343554237086,
          -4.169719027116207,
          -4.178165241451449,
          -4.1866834024314254,
          -4.188000352883134,
          -4.197933155328988,
          -4.210658016242739,
          -4.214033751435415,
          -4.226966489678328,
          -4.22628163331004,
          -4.2352215604410235,
          -4.242849043868415,
          -4.248433075981708,
          -4.256868028200754,
          -4.263951915339096,
          -4.272519355934788,
          -4.284057998969641,
          -4.2804378502600215,
          -4.2906074769051425,
          -4.303096984372785,
          -4.320999089806548,
          -4.3262814821285005,
          -4.320999089806548,
          -4.324769377719074,
          -4.333114390337489,
          -4.324769377719074,
          -4.321752011040842,
          -4.3262814821285005,
          -4.341529628636663,
          -4.353120286010588,
          -4.355454626327782,
          -4.372741681571044,
          -4.391139842092665,
          -4.391139842092665,
          -4.395184630668615,
          -4.391947492041397,
          -4.4000600720698575,
          -4.396807138131624,
          -4.403323622130234,
          -4.404959399904411,
          -4.410705786161618,
          -4.4082390047108015,
          -4.414004322301287,
          -4.414004322301287,
          -4.426471651085652,
          -4.418142852084743,
          -4.434027345537264,
          -4.435714169811837,
          -4.441640563412679,
          -4.45790581387373,
          -4.465703730743216,
          -4.491252174367957,
          -4.493038431002189,
          -4.481484392601283,
          -4.480601125348396,
          -4.499315576414769,
          -4.508351834955043,
          -4.510168926622044,
          -4.505632373411661,
          -4.503823498973581,
          -4.5065380391222405,
          -4.518386948353598,
          -4.52945043345051,
          -4.537829120648742,
          -4.545336239025592,
          -4.552900140776974,
          -4.568201776598498,
          -4.5847204739787415,
          -4.601516628365413,
          -4.60851553543493,
          -4.629811053917241,
          -4.6349489652228,
          -4.635979722872215,
          -4.646346159818297,
          -4.64947716267727,
          -4.64947716267727,
          -4.646346159818297,
          -4.662100136516004,
          -4.653667141147486,
          -4.663159278864004,
          -4.679182519638397,
          -4.693280086133402,
          -4.6856644022429546,
          -4.6889211674846125,
          -4.6921885739113876,
          -4.6910982517894135,
          -4.67810627890674,
          -4.687834400142413,
          -4.695466691289512,
          -4.715364320337015,
          -4.716481438881059,
          -4.737947303149885,
          -4.744822858333436,
          -4.769266547212659,
          -4.7633921957764045,
          -4.771625984205745,
          -4.764564308666343,
          -4.770445569841498,
          -4.796742107788475,
          -4.805256314564984,
          -4.810154322085005,
          -4.817546611404174,
          -4.81384363601747,
          -4.823748872171015,
          -4.824993953886198,
          -4.83627000462231,
          -4.843858635604478,
          -4.8387931550972825,
          -4.865677862981186,
          -4.877424887982391,
          -4.889311547494856,
          -4.873493860517905,
          -4.870881734364926,
          -4.88005418427925,
          -4.832497175690926,
          -4.827488777675085,
          -4.824993953886198,
          -4.851505294540157,
          -4.850226783967674,
          -4.8476746561660145,
          -4.855350663148937,
          -4.861792654162727,
          -4.8566357456887745,
          -4.865677862981186,
          -4.859210875716308,
          -4.882690412003906,
          -4.882690412003906,
          -4.8866578302525845,
          -4.899997404306056,
          -4.906734519341957,
          -4.913517331135191,
          -4.932757673147772,
          -4.943920679867627,
          -4.925843548667168,
          -4.909442125780684,
          -4.928603464499617,
          -4.909442125780684,
          -4.91897690122955,
          -4.912157083260266,
          -4.910798683146494,
          -4.898655410871089,
          -4.89731521596915,
          -4.898655410871089,
          -4.899997404306056,
          -4.906734519341957,
          -4.924466441931009,
          -4.91760921176673,
          -4.912157083260266,
          -4.928603464499617,
          -4.916243390323796,
          -4.910798683146494,
          -4.916243390323796,
          -4.9203464638289995,
          -4.927222554441769,
          -4.931371018553178,
          -4.92171790470287,
          -4.952375480353256,
          -4.978177436044891,
          -4.963760906712993,
          -5.01364947217032,
          -5.015155133197119,
          -5.019685766343648,
          -5.022717632463145,
          -5.038016398444036,
          -5.042652043817275,
          -5.0614125532318495,
          -5.0349378637632585,
          -5.031868777378792,
          -5.045754455723676,
          -5.059835664388715,
          -5.055119862659745,
          -5.083754137137968,
          -5.056689326889447,
          -5.0442020466510025,
          -5.047309278517846,
          -5.0334021431600835,
          -5.021200550377316,
          -5.0395592271099225,
          -5.025758718756224,
          -5.045754455723676,
          -5.058261258209634,
          -5.047309278517846,
          -5.059835664388715,
          -5.038016398444036,
          -5.0395592271099225,
          -5.066158194353276,
          -5.074117988814758,
          -5.059835664388715,
          -5.064573810316047,
          -5.062991932581174,
          -5.078924456101957,
          -5.064573810316047,
          -5.098384732477107,
          -5.113232564368846,
          -5.124935247731668,
          -5.123255027569008,
          -5.13507628986132,
          -5.153939589201004,
          -5.174931849694342,
          -5.198182046478742,
          -5.220134405593427,
          -5.2018074703276955,
          -5.185595579652337,
          -5.190970393204359,
          -5.189175576925927,
          -5.174931849694342,
          -5.159146485771896,
          -5.187383976242428,
          -5.1927684366412885,
          -5.180249500348611,
          -5.196374251557791,
          -5.205446085714151,
          -5.198182046478742,
          -5.162632873508679,
          -5.147038967773449,
          -5.1661314586823055,
          -5.169642326940139,
          -5.178473806342306,
          -5.17140239423762,
          -5.159146485771896,
          -5.176701259837032,
          -5.176701259837032,
          -5.178473806342306,
          -5.190970393204359,
          -5.238803497860106,
          -5.223840445321537,
          -5.2018074703276955,
          -5.190970393204359,
          -5.210928953978587,
          -5.214600972055922,
          -5.218286523560269,
          -5.233166083187587,
          -5.229425385483685,
          -5.259750251558891,
          -5.291023551208751,
          -5.296997757615017,
          -5.291023551208751,
          -5.313105696870211,
          -5.285084824088987,
          -5.2791811573375,
          -5.281145176211887,
          -5.265539982512083,
          -5.293010990298055,
          -5.291023551208751,
          -5.3151375561362855,
          -5.305019294379865,
          -5.311077957686201,
          -5.319213702125128,
          -5.380264700203982,
          -5.391178020890951,
          -5.339847445033915,
          -5.319213702125128,
          -5.339847445033915,
          -5.3151375561362855,
          -5.3440257801923705,
          -5.346121512992756,
          -5.363047394021774,
          -5.382437857088529,
          -5.440664094605355,
          -5.41112724885659,
          -5.420122941779635,
          -5.449930708142276,
          -5.442972710105573,
          -5.447605992007752,
          -5.386798390212221,
          -5.350326201083916,
          -5.341934430304144,
          -5.371618993116526,
          -5.3759325031579746,
          -5.404433189600912,
          -5.426923218162046,
          -5.471099987991438,
          -5.46163605105873,
          -5.42920029231632,
          -5.500041363203843,
          -5.5349002221107515,
          -5.539980756284001,
          -5.550219922027556,
          -5.5579686903691545,
          -5.573648717463481,
          -5.560565013815576,
          -5.5579686903691545,
          -5.573648717463481,
          -5.576286126332249,
          -5.539980756284001,
          -5.532369601789057,
          -5.552796179073079,
          -5.571018246226891,
          -5.555379090365706,
          -5.568394676219712,
          -5.5579686903691545,
          -5.529845369344683,
          -5.529845369344683,
          -5.552796179073079,
          -5.576286126332249,
          -5.613959394212069,
          -5.603050003896064,
          -5.641765204201673,
          -5.605766214138692,
          -5.608489822278206,
          -5.633341979482211,
          -5.592258345152491,
          -5.58158190402441,
          -5.616705439822092,
          -5.644588786725745,
          -5.613959394212069,
          -5.611220868722657,
          -5.616705439822092,
          -5.608489822278206,
          -5.670366344778618,
          -5.661699783947438,
          -5.622220257406911,
          -5.658827541305713,
          -5.638949571853162,
          -5.613959394212069,
          -5.627765656936507,
          -5.684979641104911,
          -5.699809656758297,
          -5.724004855636632,
          -5.736325583915484,
          -5.7088143935519,
          -5.684979641104911,
          -5.730146244852909,
          -5.803624114032744,
          -5.816972763140484,
          -5.810276165447854,
          -5.77744976853824,
          -5.823714507754393,
          -5.837335901809194,
          -5.879350027172951,
          -5.840770440065531,
          -5.810276165447854,
          -5.748800008154316,
          -5.711834082026205,
          -5.717900952979414,
          -5.6531076875048205,
          -5.661699783947438,
          -5.693851233094142,
          -5.7088143935519,
          -5.711834082026205,
          -5.6502599827766735,
          -5.633341979482211,
          -5.644588786725745,
          -5.687928102057915,
          -5.693851233094142,
          -5.724004855636632,
          -5.696826007081214,
          -5.727070835669491,
          -5.727070835669491,
          -5.823714507754393,
          -5.8901352820331505,
          -5.879350027172951,
          -5.865148281020784,
          -5.882932203020527,
          -5.930707265855903,
          -5.953551457752942,
          -5.957410079124593,
          -5.915762668755051,
          -5.923207049942458,
          -5.9848455411392125,
          -6.029539318703165,
          -5.972995200392332,
          -6.004913621833587,
          -5.976929731183001,
          -6.025392692240712,
          -5.945878596667095,
          -5.879350027172951,
          -5.847675108603177,
          -5.868679853953953,
          -5.901038128018289,
          -5.897390622060856,
          -5.882932203020527,
          -5.926950126260818,
          -6.004913621833587,
          -6.0008676581132425,
          -6.004913621833587,
          -5.976929731183001,
          -5.965172278065125,
          -6.037884514414539,
          -6.098336248476415,
          -6.085071122870073,
          -6.0719796596804745,
          -6.148538375173137,
          -6.148538375173137,
          -6.181849372856906,
          -6.153229690185898,
          -6.226375867816712,
          -6.172218181734572,
          -6.221329436089514,
          -6.246820181502262,
          -6.26769120409311,
          -6.355824718327855,
          -6.379127615997742,
          -6.373250785557841,
          -6.361599732148756,
          -6.344373790206427,
          -6.415132893417219,
          -6.373250785557841,
          -6.27297773961957,
          -6.2998379360232075,
          -6.231447895238608,
          -6.167437149235971,
          -6.2063411638838755,
          -6.305297649790989,
          -6.26769120409311,
          -6.26769120409311,
          -6.327439563363727,
          -6.278292371200474,
          -6.196472349792754,
          -6.129990150065778,
          -6.196472349792754,
          -6.167437149235971,
          -6.211312335420449,
          -6.172218181734572,
          -6.157943117411309,
          -6.134595052727026,
          -6.167437149235971,
          -6.129990150065778,
          -6.172218181734572,
          -6.148538375173137,
          -6.148538375173137,
          -6.143868965870328,
          -6.054786784218943,
          -6.063346273033956,
          -6.10279735031344,
          -6.054786784218943,
          -6.050534358269187,
          -6.042083374262856,
          -6.076324465599651,
          -5.988827068315035,
          -5.945878596667095,
          -5.915762668755051,
          -5.901038128018289,
          -5.934478574801884,
          -5.84421681504024,
          -5.820337954068143,
          -5.840770440065531,
          -5.882932203020527,
          -5.868679853953953,
          -5.780684339943252,
          -5.761432011430216,
          -5.771011844883107,
          -5.84421681504024,
          -5.790451306684689,
          -5.761432011430216,
          -5.758259019688016,
          -5.790451306684689,
          -5.767808359214357,
          -5.803624114032744,
          -5.761432011430216,
          -5.730146244852909,
          -5.793728276498573,
          -5.823714507754393,
          -5.840770440065531,
          -5.858122332376467,
          -5.833913119242044,
          -5.854627783246734,
          -5.879350027172951,
          -5.912061157600911,
          -5.912061157600911,
          -5.934478574801884,
          -5.9421621341885436,
          -5.980982081659197,
          -5.945977012554204,
          -5.923303035397256,
          -6.085185731182933,
          -6.167562456297822,
          -6.143991121066399,
          -6.072092647219518,
          -6.167562456297822,
          -6.116419883507862,
          -6.134715987912464,
          -6.111897687368414,
          -6.094010672485015,
          -6.080802294592877,
          -6.042192739132383,
          -6.0591687789347946,
          -6.0591687789347946,
          -6.158067145856263,
          -6.134715987912464,
          -6.177148792669699,
          -6.143991121066399,
          -6.231582147267319,
          -6.158067145856263,
          -6.116419883507862,
          -6.076437988691497,
          -6.085185731182933,
          -6.158067145856263,
          -6.241941274650366,
          -6.283919383418884,
          -6.385355619921739,
          -6.3166014065052,
          -6.278574735434642,
          -6.252271757912557,
          -6.241941274650366,
          -6.153476504195026,
          -6.112015685134219,
          -6.162928213759789,
          -6.226642932674659,
          -6.167687781570166,
          -6.226776495861922,
          -6.206733248462333,
          -6.322301735867465,
          -6.362062727572321,
          -6.333501620151648,
          -6.316748484214784,
          -6.278715951692727,
          -6.2068639827212655,
          -6.257753436859478,
          -6.252546360266759,
          -6.216968966042463,
          -6.163427125249724,
          -6.172974191006993,
          -6.339601016799141,
          -6.380071296863035,
          -6.368340271803844,
          -6.374188582313459,
          -6.428421991848087,
          -6.380071296863035,
          -6.34543482646494,
          -6.279281044493098,
          -6.232388094594725,
          -6.317484241578157,
          -6.374501401799513,
          -6.428919094781876,
          -6.410665481564315,
          -6.561398392255174,
          -6.575646024717929,
          -6.480104258198958,
          -6.43546771230304,
          -6.454354228079281,
          -6.5200169155813725,
          -6.561779762004501,
          -6.620054398666255,
          -6.73122559544467,
          -6.7919401641712955,
          -6.731453414741885,
          -6.748829187754107,
          -6.774758338977542,
          -6.783552977370317,
          -6.957006546341175,
          -6.8109056332937294,
          -6.957871052834261,
          -7.1055451353292165,
          -6.947980499994435,
          -6.858920900012687,
          -6.938186422987147,
          -7.002655644484654,
          -7.070923902025812,
          -7.119852269489366,
          -7.170582103174249,
          -7.280885191707334,
          -7.22554202413456,
          -7.509782224684138,
          -7.566132505045825,
          -7.357596877974265,
          -7.254199588254815,
          -7.124292864134509,
          -7.257334712143964,
          -7.346323328581468,
          -7.516921830690934,
          -7.482268897952223,
          -7.351929750550067,
          -7.559743495968279,
          -7.322883441249002,
          -7.293024510087491,
          -7.236239280560564,
          -7.208824623171714,
          -7.070489336319165,
          -7.071461820722324,
          -6.898702782383921,
          -6.919565840030889,
          -6.744302220151009,
          -6.973570370142108,
          -7.15006535753556,
          -7.1380886026374855,
          -7.138783703065426,
          -7.067466514926672,
          -7.034406590607208,
          -7.03471889984081,
          -7.035656450745324,
          -6.9188658008183,
          -6.899638698622697,
          -6.890296110466362,
          -6.97343662944397,
          -6.912917411318859,
          -6.934657219302914,
          -6.8372676381671535,
          -6.757098644448907,
          -6.767878273569288,
          -6.65391610909299,
          -6.795807015992,
          -6.972130301734802,
          -7.028871481342326,
          -7.07938825762288,
          -7.01260561418452,
          -6.992394962482012,
          -7.0983355943158015,
          -6.996293196436367,
          -7.151556847656203,
          -7.092572321574167,
          -7.251549617422323,
          -7.17267984956325,
          -7.041577316724917,
          -6.999174916101989,
          -6.969093054390101,
          -7.049167694901659,
          -6.882559793582213,
          -6.89400616983726,
          -6.935780323638325,
          -6.938892937152777,
          -7.213259041572798,
          -7.304226188991019,
          -7.338770588632427,
          -7.391139725318916,
          -7.395664823280054,
          -7.483889534441533,
          -7.491864466358522,
          -7.654983832494483,
          -7.643317306327952,
          -7.737874728806558,
          -7.846640801340025,
          -8.43707165668232,
          -8.015086463885176,
          -7.784648799556775,
          -7.745236022594165,
          -7.703571577490589,
          -7.85785385352822,
          -7.816202133116032,
          -7.75646009956427,
          -8.134238585541372,
          -8.687423461752928,
          -9.15666504306602,
          -9.882473524156094,
          -10.068159193212109,
          -9.242796437177624,
          -9.89588942961245,
          -8.81920223065793,
          -11.962464038510431,
          -9.542355433870682,
          -8.773820832121418,
          -8.524308840222796,
          -8.793408816212823,
          -9.36979309446482,
          -10.614335690751783,
          -10.21964786923204,
          -10.086727495633149,
          -9.45967688641684,
          -8.446578500615388,
          -9.855213337848683,
          -13.770967289410835,
          -9.534104401734657,
          -11.3009323286626,
          -11.01440670546098,
          -8.83179062292536,
          -9.04663961799506,
          -8.113340379853103,
          -7.866831847462369,
          -7.670953733464296,
          -7.546869457711781,
          -7.373040797626314,
          -8.012188372176247,
          -7.875253236693456,
          -7.6642644753662355,
          -7.643545086157901,
          -7.505784853560552,
          -7.071693957657413,
          -7.0593526320439715,
          -7.203951391092866,
          -7.518348405353988,
          -7.72922616463288,
          -7.460720854272114,
          -7.5174282073413385,
          -7.601692036821161,
          -7.240143334169449,
          -6.952693293871705,
          -6.86423890527211,
          -6.847853668879209,
          -6.698147098705779,
          -6.711515820464277,
          -6.690425487558758,
          -6.623702338643847,
          -6.742437052293426,
          -6.611891370893545,
          -6.690856655866755,
          -6.782318464392185,
          -6.991822198239237,
          -6.693254031503771,
          -6.733374913873234,
          -6.811716243552508,
          -6.8902892171874175,
          -7.081010737735782,
          -7.68970445503325,
          -7.387477719323343,
          -7.450141789446092,
          -7.795690915965453,
          -7.711646055444196,
          -7.388709039052809,
          -7.498424365493637,
          -7.73463564721455,
          -7.581039024310349,
          -7.623974639426786,
          -7.654195292195678,
          -7.393163184296068,
          -7.461783741431837,
          -7.255949251531082,
          -7.373426503146158,
          -7.105425822617738,
          -7.092433254859407,
          -7.140907967043338,
          -7.410041978819675,
          -7.405684499341307,
          -7.118233866867478,
          -7.17316337096109,
          -7.158507420068893,
          -7.093712210036523,
          -7.159075683449841,
          -7.4393795550827075,
          -7.276701807077942,
          -7.281635435557265,
          -7.705717956239775,
          -7.588679170378041,
          -7.383130857099751,
          -7.417468802537575,
          -7.542406435996355,
          -7.984780433281075,
          -7.94641500491883,
          -7.943202341486292,
          -7.713859150384568,
          -7.586373352145067,
          -7.509500106110945,
          -7.5151075994923735,
          -8.208661277466259,
          -8.560661509032936,
          -10.240677557748622,
          -9.572425477391201,
          -8.444516201901536,
          -8.747944518546984,
          -8.569156758953529,
          -9.61726750572266,
          -10.360027813556497,
          -9.626523215241178,
          -10.534212097282948,
          -14.953544051456396,
          -9.311451218214724,
          -8.168178875188627,
          -8.610566219432114,
          -8.668932045315591,
          -8.197041966408072,
          -8.52932490651951,
          -7.9406047212568645,
          -7.571352580228373,
          -7.8954806257247885,
          -7.545689895749809,
          -7.708573001484303,
          -8.244144297419856,
          -8.947925357508295,
          -8.684306610623658,
          -8.83308950697215,
          -9.084661410133162,
          -8.319854457728393,
          -8.252458526244958,
          -8.761408986108421,
          -9.537828137879165,
          -8.64749787493866,
          -8.853455726123231,
          -9.936110453149084,
          -8.839206497134196,
          -9.52289528872343,
          -9.523503186272622,
          -12.155786042559118,
          -8.832120307331557,
          -8.939930238194925,
          -8.874411352139356,
          -9.072136483937348,
          -11.56732588695091,
          -8.56988367947371,
          -8.526783259388905,
          -8.922263310169836,
          -8.688945122368997,
          -8.721115372916026,
          -8.656274946835556,
          -8.921445117999887,
          -8.490393689861769,
          -8.331994166731668,
          -8.073513022443898,
          -8.404932149507836,
          -8.514575047488691,
          -8.178633393650014,
          -8.26017241387716,
          -8.855161240132203,
          -9.776912273470483,
          -12.095409687893481,
          -9.67697982832978,
          -8.174103697592741,
          -8.610605186235176,
          -8.047884444941499,
          -7.714497865424972,
          -7.548925715399407,
          -7.764052886896335,
          -8.82935973542379,
          -8.300997971321904,
          -7.758192718525682,
          -8.010007225468685,
          -8.65971503904813,
          -8.713516218960546,
          -10.871519796227256,
          -8.607246185047213,
          -8.389101310850327,
          -7.860753134087466,
          -8.951653931255649,
          -13.856366704162705,
          -7.89155459439432,
          -8.274821333373309,
          -8.697853351871892,
          -8.00401275785168,
          -8.750249298946695,
          -9.677782868213496,
          -7.892488614729684,
          -9.299865684301672,
          -9.633429374414334,
          -10.199206382160263,
          -10.053242448594036,
          -8.30746786737278,
          -7.900676607384415,
          -7.913971173035598,
          -8.36985158415578,
          -9.64640426463693,
          -9.406567142055243,
          -9.16743317072075,
          -11.460431442288959,
          -8.951388478694604,
          -8.901072963970753,
          -9.28066149471831,
          -9.002359290708087,
          -9.059776989031016,
          -8.969546939170835,
          -9.510352939276343,
          -9.575313408975251,
          -9.233860469727398,
          -8.7803556487526,
          -8.296179355880193,
          -9.148902365068894,
          -10.647530927630763,
          -9.836461680243163,
          -8.288583104408984,
          -8.761160488544656,
          -8.725879135564515,
          -8.538756488201788,
          -9.461011452958783,
          -8.975547044625198,
          -8.614707823768983,
          -9.835531152850512,
          -9.783326911647023,
          -8.504893177638769,
          -8.30457735036294,
          -8.09942434584971,
          -8.486368626305973,
          -8.335105261048772,
          -9.890451862208941,
          -9.177984629364923,
          -8.465057410852785,
          -8.495756964780028,
          -8.40177289529489,
          -8.320121376653683,
          -8.888527092040594,
          -8.261228592849655,
          -8.830224981063575,
          -8.900483183658357,
          -8.827307844060666,
          -8.625603347287498,
          -9.241922727217398,
          -10.858542914778411,
          -8.312364080962265,
          -8.501157897387433,
          -8.973025185457068,
          -8.805309148484392,
          -9.031178680816021,
          -9.591367374258615,
          -9.278994952547663,
          -8.56615273649777,
          -7.787557047530404,
          -7.644629899700624,
          -7.6347610514508535,
          -7.550366341872405,
          -7.856737648521621,
          -7.307128998277299,
          -7.42198622441504,
          -7.114085827460932,
          -7.021231203961347,
          -7.414707969096672,
          -7.0169257542475405,
          -6.75611579993999,
          -6.695023424163615,
          -6.926401658195747,
          -6.834252910029707,
          -6.6673758535012215,
          -6.640478176943853,
          -6.704751909158261,
          -6.823697004721311
         ]
        }
       ],
       "layout": {
        "template": {
         "data": {
          "bar": [
           {
            "error_x": {
             "color": "#2a3f5f"
            },
            "error_y": {
             "color": "#2a3f5f"
            },
            "marker": {
             "line": {
              "color": "#E5ECF6",
              "width": 0.5
             }
            },
            "type": "bar"
           }
          ],
          "barpolar": [
           {
            "marker": {
             "line": {
              "color": "#E5ECF6",
              "width": 0.5
             }
            },
            "type": "barpolar"
           }
          ],
          "carpet": [
           {
            "aaxis": {
             "endlinecolor": "#2a3f5f",
             "gridcolor": "white",
             "linecolor": "white",
             "minorgridcolor": "white",
             "startlinecolor": "#2a3f5f"
            },
            "baxis": {
             "endlinecolor": "#2a3f5f",
             "gridcolor": "white",
             "linecolor": "white",
             "minorgridcolor": "white",
             "startlinecolor": "#2a3f5f"
            },
            "type": "carpet"
           }
          ],
          "choropleth": [
           {
            "colorbar": {
             "outlinewidth": 0,
             "ticks": ""
            },
            "type": "choropleth"
           }
          ],
          "contour": [
           {
            "colorbar": {
             "outlinewidth": 0,
             "ticks": ""
            },
            "colorscale": [
             [
              0,
              "#0d0887"
             ],
             [
              0.1111111111111111,
              "#46039f"
             ],
             [
              0.2222222222222222,
              "#7201a8"
             ],
             [
              0.3333333333333333,
              "#9c179e"
             ],
             [
              0.4444444444444444,
              "#bd3786"
             ],
             [
              0.5555555555555556,
              "#d8576b"
             ],
             [
              0.6666666666666666,
              "#ed7953"
             ],
             [
              0.7777777777777778,
              "#fb9f3a"
             ],
             [
              0.8888888888888888,
              "#fdca26"
             ],
             [
              1,
              "#f0f921"
             ]
            ],
            "type": "contour"
           }
          ],
          "contourcarpet": [
           {
            "colorbar": {
             "outlinewidth": 0,
             "ticks": ""
            },
            "type": "contourcarpet"
           }
          ],
          "heatmap": [
           {
            "colorbar": {
             "outlinewidth": 0,
             "ticks": ""
            },
            "colorscale": [
             [
              0,
              "#0d0887"
             ],
             [
              0.1111111111111111,
              "#46039f"
             ],
             [
              0.2222222222222222,
              "#7201a8"
             ],
             [
              0.3333333333333333,
              "#9c179e"
             ],
             [
              0.4444444444444444,
              "#bd3786"
             ],
             [
              0.5555555555555556,
              "#d8576b"
             ],
             [
              0.6666666666666666,
              "#ed7953"
             ],
             [
              0.7777777777777778,
              "#fb9f3a"
             ],
             [
              0.8888888888888888,
              "#fdca26"
             ],
             [
              1,
              "#f0f921"
             ]
            ],
            "type": "heatmap"
           }
          ],
          "heatmapgl": [
           {
            "colorbar": {
             "outlinewidth": 0,
             "ticks": ""
            },
            "colorscale": [
             [
              0,
              "#0d0887"
             ],
             [
              0.1111111111111111,
              "#46039f"
             ],
             [
              0.2222222222222222,
              "#7201a8"
             ],
             [
              0.3333333333333333,
              "#9c179e"
             ],
             [
              0.4444444444444444,
              "#bd3786"
             ],
             [
              0.5555555555555556,
              "#d8576b"
             ],
             [
              0.6666666666666666,
              "#ed7953"
             ],
             [
              0.7777777777777778,
              "#fb9f3a"
             ],
             [
              0.8888888888888888,
              "#fdca26"
             ],
             [
              1,
              "#f0f921"
             ]
            ],
            "type": "heatmapgl"
           }
          ],
          "histogram": [
           {
            "marker": {
             "colorbar": {
              "outlinewidth": 0,
              "ticks": ""
             }
            },
            "type": "histogram"
           }
          ],
          "histogram2d": [
           {
            "colorbar": {
             "outlinewidth": 0,
             "ticks": ""
            },
            "colorscale": [
             [
              0,
              "#0d0887"
             ],
             [
              0.1111111111111111,
              "#46039f"
             ],
             [
              0.2222222222222222,
              "#7201a8"
             ],
             [
              0.3333333333333333,
              "#9c179e"
             ],
             [
              0.4444444444444444,
              "#bd3786"
             ],
             [
              0.5555555555555556,
              "#d8576b"
             ],
             [
              0.6666666666666666,
              "#ed7953"
             ],
             [
              0.7777777777777778,
              "#fb9f3a"
             ],
             [
              0.8888888888888888,
              "#fdca26"
             ],
             [
              1,
              "#f0f921"
             ]
            ],
            "type": "histogram2d"
           }
          ],
          "histogram2dcontour": [
           {
            "colorbar": {
             "outlinewidth": 0,
             "ticks": ""
            },
            "colorscale": [
             [
              0,
              "#0d0887"
             ],
             [
              0.1111111111111111,
              "#46039f"
             ],
             [
              0.2222222222222222,
              "#7201a8"
             ],
             [
              0.3333333333333333,
              "#9c179e"
             ],
             [
              0.4444444444444444,
              "#bd3786"
             ],
             [
              0.5555555555555556,
              "#d8576b"
             ],
             [
              0.6666666666666666,
              "#ed7953"
             ],
             [
              0.7777777777777778,
              "#fb9f3a"
             ],
             [
              0.8888888888888888,
              "#fdca26"
             ],
             [
              1,
              "#f0f921"
             ]
            ],
            "type": "histogram2dcontour"
           }
          ],
          "mesh3d": [
           {
            "colorbar": {
             "outlinewidth": 0,
             "ticks": ""
            },
            "type": "mesh3d"
           }
          ],
          "parcoords": [
           {
            "line": {
             "colorbar": {
              "outlinewidth": 0,
              "ticks": ""
             }
            },
            "type": "parcoords"
           }
          ],
          "pie": [
           {
            "automargin": true,
            "type": "pie"
           }
          ],
          "scatter": [
           {
            "marker": {
             "colorbar": {
              "outlinewidth": 0,
              "ticks": ""
             }
            },
            "type": "scatter"
           }
          ],
          "scatter3d": [
           {
            "line": {
             "colorbar": {
              "outlinewidth": 0,
              "ticks": ""
             }
            },
            "marker": {
             "colorbar": {
              "outlinewidth": 0,
              "ticks": ""
             }
            },
            "type": "scatter3d"
           }
          ],
          "scattercarpet": [
           {
            "marker": {
             "colorbar": {
              "outlinewidth": 0,
              "ticks": ""
             }
            },
            "type": "scattercarpet"
           }
          ],
          "scattergeo": [
           {
            "marker": {
             "colorbar": {
              "outlinewidth": 0,
              "ticks": ""
             }
            },
            "type": "scattergeo"
           }
          ],
          "scattergl": [
           {
            "marker": {
             "colorbar": {
              "outlinewidth": 0,
              "ticks": ""
             }
            },
            "type": "scattergl"
           }
          ],
          "scattermapbox": [
           {
            "marker": {
             "colorbar": {
              "outlinewidth": 0,
              "ticks": ""
             }
            },
            "type": "scattermapbox"
           }
          ],
          "scatterpolar": [
           {
            "marker": {
             "colorbar": {
              "outlinewidth": 0,
              "ticks": ""
             }
            },
            "type": "scatterpolar"
           }
          ],
          "scatterpolargl": [
           {
            "marker": {
             "colorbar": {
              "outlinewidth": 0,
              "ticks": ""
             }
            },
            "type": "scatterpolargl"
           }
          ],
          "scatterternary": [
           {
            "marker": {
             "colorbar": {
              "outlinewidth": 0,
              "ticks": ""
             }
            },
            "type": "scatterternary"
           }
          ],
          "surface": [
           {
            "colorbar": {
             "outlinewidth": 0,
             "ticks": ""
            },
            "colorscale": [
             [
              0,
              "#0d0887"
             ],
             [
              0.1111111111111111,
              "#46039f"
             ],
             [
              0.2222222222222222,
              "#7201a8"
             ],
             [
              0.3333333333333333,
              "#9c179e"
             ],
             [
              0.4444444444444444,
              "#bd3786"
             ],
             [
              0.5555555555555556,
              "#d8576b"
             ],
             [
              0.6666666666666666,
              "#ed7953"
             ],
             [
              0.7777777777777778,
              "#fb9f3a"
             ],
             [
              0.8888888888888888,
              "#fdca26"
             ],
             [
              1,
              "#f0f921"
             ]
            ],
            "type": "surface"
           }
          ],
          "table": [
           {
            "cells": {
             "fill": {
              "color": "#EBF0F8"
             },
             "line": {
              "color": "white"
             }
            },
            "header": {
             "fill": {
              "color": "#C8D4E3"
             },
             "line": {
              "color": "white"
             }
            },
            "type": "table"
           }
          ]
         },
         "layout": {
          "annotationdefaults": {
           "arrowcolor": "#2a3f5f",
           "arrowhead": 0,
           "arrowwidth": 1
          },
          "autotypenumbers": "strict",
          "coloraxis": {
           "colorbar": {
            "outlinewidth": 0,
            "ticks": ""
           }
          },
          "colorscale": {
           "diverging": [
            [
             0,
             "#8e0152"
            ],
            [
             0.1,
             "#c51b7d"
            ],
            [
             0.2,
             "#de77ae"
            ],
            [
             0.3,
             "#f1b6da"
            ],
            [
             0.4,
             "#fde0ef"
            ],
            [
             0.5,
             "#f7f7f7"
            ],
            [
             0.6,
             "#e6f5d0"
            ],
            [
             0.7,
             "#b8e186"
            ],
            [
             0.8,
             "#7fbc41"
            ],
            [
             0.9,
             "#4d9221"
            ],
            [
             1,
             "#276419"
            ]
           ],
           "sequential": [
            [
             0,
             "#0d0887"
            ],
            [
             0.1111111111111111,
             "#46039f"
            ],
            [
             0.2222222222222222,
             "#7201a8"
            ],
            [
             0.3333333333333333,
             "#9c179e"
            ],
            [
             0.4444444444444444,
             "#bd3786"
            ],
            [
             0.5555555555555556,
             "#d8576b"
            ],
            [
             0.6666666666666666,
             "#ed7953"
            ],
            [
             0.7777777777777778,
             "#fb9f3a"
            ],
            [
             0.8888888888888888,
             "#fdca26"
            ],
            [
             1,
             "#f0f921"
            ]
           ],
           "sequentialminus": [
            [
             0,
             "#0d0887"
            ],
            [
             0.1111111111111111,
             "#46039f"
            ],
            [
             0.2222222222222222,
             "#7201a8"
            ],
            [
             0.3333333333333333,
             "#9c179e"
            ],
            [
             0.4444444444444444,
             "#bd3786"
            ],
            [
             0.5555555555555556,
             "#d8576b"
            ],
            [
             0.6666666666666666,
             "#ed7953"
            ],
            [
             0.7777777777777778,
             "#fb9f3a"
            ],
            [
             0.8888888888888888,
             "#fdca26"
            ],
            [
             1,
             "#f0f921"
            ]
           ]
          },
          "colorway": [
           "#636efa",
           "#EF553B",
           "#00cc96",
           "#ab63fa",
           "#FFA15A",
           "#19d3f3",
           "#FF6692",
           "#B6E880",
           "#FF97FF",
           "#FECB52"
          ],
          "font": {
           "color": "#2a3f5f"
          },
          "geo": {
           "bgcolor": "white",
           "lakecolor": "white",
           "landcolor": "#E5ECF6",
           "showlakes": true,
           "showland": true,
           "subunitcolor": "white"
          },
          "hoverlabel": {
           "align": "left"
          },
          "hovermode": "closest",
          "mapbox": {
           "style": "light"
          },
          "paper_bgcolor": "white",
          "plot_bgcolor": "#E5ECF6",
          "polar": {
           "angularaxis": {
            "gridcolor": "white",
            "linecolor": "white",
            "ticks": ""
           },
           "bgcolor": "#E5ECF6",
           "radialaxis": {
            "gridcolor": "white",
            "linecolor": "white",
            "ticks": ""
           }
          },
          "scene": {
           "xaxis": {
            "backgroundcolor": "#E5ECF6",
            "gridcolor": "white",
            "gridwidth": 2,
            "linecolor": "white",
            "showbackground": true,
            "ticks": "",
            "zerolinecolor": "white"
           },
           "yaxis": {
            "backgroundcolor": "#E5ECF6",
            "gridcolor": "white",
            "gridwidth": 2,
            "linecolor": "white",
            "showbackground": true,
            "ticks": "",
            "zerolinecolor": "white"
           },
           "zaxis": {
            "backgroundcolor": "#E5ECF6",
            "gridcolor": "white",
            "gridwidth": 2,
            "linecolor": "white",
            "showbackground": true,
            "ticks": "",
            "zerolinecolor": "white"
           }
          },
          "shapedefaults": {
           "line": {
            "color": "#2a3f5f"
           }
          },
          "ternary": {
           "aaxis": {
            "gridcolor": "white",
            "linecolor": "white",
            "ticks": ""
           },
           "baxis": {
            "gridcolor": "white",
            "linecolor": "white",
            "ticks": ""
           },
           "bgcolor": "#E5ECF6",
           "caxis": {
            "gridcolor": "white",
            "linecolor": "white",
            "ticks": ""
           }
          },
          "title": {
           "x": 0.05
          },
          "xaxis": {
           "automargin": true,
           "gridcolor": "white",
           "linecolor": "white",
           "ticks": "",
           "title": {
            "standoff": 15
           },
           "zerolinecolor": "white",
           "zerolinewidth": 2
          },
          "yaxis": {
           "automargin": true,
           "gridcolor": "white",
           "linecolor": "white",
           "ticks": "",
           "title": {
            "standoff": 15
           },
           "zerolinecolor": "white",
           "zerolinewidth": 2
          }
         }
        }
       }
      },
      "text/html": [
       "<div>                            <div id=\"05c59ced-15a0-498b-aa8d-d2da8e3583b5\" class=\"plotly-graph-div\" style=\"height:525px; width:100%;\"></div>            <script type=\"text/javascript\">                require([\"plotly\"], function(Plotly) {                    window.PLOTLYENV=window.PLOTLYENV || {};                                    if (document.getElementById(\"05c59ced-15a0-498b-aa8d-d2da8e3583b5\")) {                    Plotly.newPlot(                        \"05c59ced-15a0-498b-aa8d-d2da8e3583b5\",                        [{\"type\": \"scatter\", \"x\": [0.0, 0.02002002002002002, 0.04004004004004004, 0.06006006006006006, 0.08008008008008008, 0.10010010010010009, 0.12012012012012012, 0.14014014014014015, 0.16016016016016016, 0.18018018018018017, 0.20020020020020018, 0.22022022022022023, 0.24024024024024024, 0.2602602602602603, 0.2802802802802803, 0.3003003003003003, 0.3203203203203203, 0.34034034034034033, 0.36036036036036034, 0.38038038038038036, 0.40040040040040037, 0.42042042042042044, 0.44044044044044045, 0.46046046046046046, 0.4804804804804805, 0.5005005005005005, 0.5205205205205206, 0.5405405405405406, 0.5605605605605606, 0.5805805805805806, 0.6006006006006006, 0.6206206206206206, 0.6406406406406406, 0.6606606606606606, 0.6806806806806807, 0.7007007007007007, 0.7207207207207207, 0.7407407407407407, 0.7607607607607607, 0.7807807807807807, 0.8008008008008007, 0.8208208208208209, 0.8408408408408409, 0.8608608608608609, 0.8808808808808809, 0.9009009009009009, 0.9209209209209209, 0.9409409409409409, 0.960960960960961, 0.980980980980981, 1.001001001001001, 1.021021021021021, 1.0410410410410411, 1.0610610610610611, 1.0810810810810811, 1.1011011011011012, 1.1211211211211212, 1.1411411411411412, 1.1611611611611612, 1.1811811811811812, 1.2012012012012012, 1.2212212212212212, 1.2412412412412412, 1.2612612612612613, 1.2812812812812813, 1.3013013013013013, 1.3213213213213213, 1.3413413413413413, 1.3613613613613613, 1.3813813813813813, 1.4014014014014013, 1.4214214214214214, 1.4414414414414414, 1.4614614614614614, 1.4814814814814814, 1.5015015015015014, 1.5215215215215214, 1.5415415415415414, 1.5615615615615615, 1.5815815815815815, 1.6016016016016015, 1.6216216216216217, 1.6416416416416417, 1.6616616616616617, 1.6816816816816818, 1.7017017017017018, 1.7217217217217218, 1.7417417417417418, 1.7617617617617618, 1.7817817817817818, 1.8018018018018018, 1.8218218218218218, 1.8418418418418419, 1.8618618618618619, 1.8818818818818819, 1.901901901901902, 1.921921921921922, 1.941941941941942, 1.961961961961962, 1.981981981981982, 2.002002002002002, 2.022022022022022, 2.042042042042042, 2.062062062062062, 2.0820820820820822, 2.1021021021021022, 2.1221221221221223, 2.1421421421421423, 2.1621621621621623, 2.1821821821821823, 2.2022022022022023, 2.2222222222222223, 2.2422422422422423, 2.2622622622622623, 2.2822822822822824, 2.3023023023023024, 2.3223223223223224, 2.3423423423423424, 2.3623623623623624, 2.3823823823823824, 2.4024024024024024, 2.4224224224224224, 2.4424424424424425, 2.4624624624624625, 2.4824824824824825, 2.5025025025025025, 2.5225225225225225, 2.5425425425425425, 2.5625625625625625, 2.5825825825825826, 2.6026026026026026, 2.6226226226226226, 2.6426426426426426, 2.6626626626626626, 2.6826826826826826, 2.7027027027027026, 2.7227227227227226, 2.7427427427427427, 2.7627627627627627, 2.7827827827827827, 2.8028028028028027, 2.8228228228228227, 2.8428428428428427, 2.8628628628628627, 2.8828828828828827, 2.9029029029029028, 2.9229229229229228, 2.942942942942943, 2.962962962962963, 2.982982982982983, 3.003003003003003, 3.023023023023023, 3.043043043043043, 3.063063063063063, 3.083083083083083, 3.103103103103103, 3.123123123123123, 3.143143143143143, 3.163163163163163, 3.183183183183183, 3.203203203203203, 3.2232232232232234, 3.2432432432432434, 3.2632632632632634, 3.2832832832832834, 3.3033033033033035, 3.3233233233233235, 3.3433433433433435, 3.3633633633633635, 3.3833833833833835, 3.4034034034034035, 3.4234234234234235, 3.4434434434434436, 3.4634634634634636, 3.4834834834834836, 3.5035035035035036, 3.5235235235235236, 3.5435435435435436, 3.5635635635635636, 3.5835835835835836, 3.6036036036036037, 3.6236236236236237, 3.6436436436436437, 3.6636636636636637, 3.6836836836836837, 3.7037037037037037, 3.7237237237237237, 3.7437437437437437, 3.7637637637637638, 3.7837837837837838, 3.803803803803804, 3.823823823823824, 3.843843843843844, 3.863863863863864, 3.883883883883884, 3.903903903903904, 3.923923923923924, 3.943943943943944, 3.963963963963964, 3.983983983983984, 4.004004004004004, 4.024024024024024, 4.044044044044044, 4.064064064064064, 4.084084084084084, 4.104104104104104, 4.124124124124124, 4.1441441441441444, 4.1641641641641645, 4.1841841841841845, 4.2042042042042045, 4.2242242242242245, 4.2442442442442445, 4.2642642642642645, 4.2842842842842845, 4.3043043043043046, 4.324324324324325, 4.344344344344345, 4.364364364364365, 4.384384384384385, 4.404404404404405, 4.424424424424425, 4.444444444444445, 4.464464464464465, 4.484484484484485, 4.504504504504505, 4.524524524524525, 4.544544544544545, 4.564564564564565, 4.584584584584585, 4.604604604604605, 4.624624624624625, 4.644644644644645, 4.664664664664665, 4.684684684684685, 4.704704704704705, 4.724724724724725, 4.744744744744745, 4.764764764764765, 4.784784784784785, 4.804804804804805, 4.824824824824825, 4.844844844844845, 4.864864864864865, 4.884884884884885, 4.904904904904905, 4.924924924924925, 4.944944944944945, 4.964964964964965, 4.984984984984985, 5.005005005005005, 5.025025025025025, 5.045045045045045, 5.065065065065065, 5.085085085085085, 5.105105105105105, 5.125125125125125, 5.145145145145145, 5.165165165165165, 5.185185185185185, 5.205205205205205, 5.225225225225225, 5.245245245245245, 5.265265265265265, 5.285285285285285, 5.305305305305305, 5.325325325325325, 5.345345345345345, 5.365365365365365, 5.385385385385385, 5.405405405405405, 5.425425425425425, 5.445445445445445, 5.465465465465465, 5.485485485485485, 5.505505505505505, 5.525525525525525, 5.545545545545545, 5.565565565565565, 5.585585585585585, 5.605605605605605, 5.625625625625625, 5.645645645645645, 5.665665665665665, 5.685685685685685, 5.7057057057057055, 5.7257257257257255, 5.7457457457457455, 5.7657657657657655, 5.7857857857857855, 5.8058058058058055, 5.8258258258258255, 5.8458458458458455, 5.865865865865866, 5.885885885885886, 5.905905905905906, 5.925925925925926, 5.945945945945946, 5.965965965965966, 5.985985985985986, 6.006006006006006, 6.026026026026026, 6.046046046046046, 6.066066066066066, 6.086086086086086, 6.106106106106106, 6.126126126126126, 6.146146146146146, 6.166166166166166, 6.186186186186186, 6.206206206206206, 6.226226226226226, 6.246246246246246, 6.266266266266266, 6.286286286286286, 6.306306306306306, 6.326326326326326, 6.346346346346346, 6.366366366366366, 6.386386386386386, 6.406406406406406, 6.426426426426427, 6.446446446446447, 6.466466466466467, 6.486486486486487, 6.506506506506507, 6.526526526526527, 6.546546546546547, 6.566566566566567, 6.586586586586587, 6.606606606606607, 6.626626626626627, 6.646646646646647, 6.666666666666667, 6.686686686686687, 6.706706706706707, 6.726726726726727, 6.746746746746747, 6.766766766766767, 6.786786786786787, 6.806806806806807, 6.826826826826827, 6.846846846846847, 6.866866866866867, 6.886886886886887, 6.906906906906907, 6.926926926926927, 6.946946946946947, 6.966966966966967, 6.986986986986987, 7.007007007007007, 7.027027027027027, 7.047047047047047, 7.067067067067067, 7.087087087087087, 7.107107107107107, 7.127127127127127, 7.147147147147147, 7.167167167167167, 7.187187187187187, 7.207207207207207, 7.227227227227227, 7.247247247247247, 7.267267267267267, 7.287287287287287, 7.307307307307307, 7.327327327327327, 7.347347347347347, 7.367367367367367, 7.387387387387387, 7.407407407407407, 7.4274274274274275, 7.4474474474474475, 7.4674674674674675, 7.4874874874874875, 7.5075075075075075, 7.5275275275275275, 7.5475475475475475, 7.5675675675675675, 7.587587587587588, 7.607607607607608, 7.627627627627628, 7.647647647647648, 7.667667667667668, 7.687687687687688, 7.707707707707708, 7.727727727727728, 7.747747747747748, 7.767767767767768, 7.787787787787788, 7.807807807807808, 7.827827827827828, 7.847847847847848, 7.867867867867868, 7.887887887887888, 7.907907907907908, 7.927927927927928, 7.947947947947948, 7.967967967967968, 7.987987987987988, 8.008008008008009, 8.028028028028029, 8.048048048048049, 8.068068068068069, 8.088088088088089, 8.108108108108109, 8.128128128128129, 8.148148148148149, 8.168168168168169, 8.188188188188189, 8.208208208208209, 8.228228228228229, 8.248248248248249, 8.268268268268269, 8.288288288288289, 8.308308308308309, 8.328328328328329, 8.348348348348349, 8.368368368368369, 8.388388388388389, 8.408408408408409, 8.428428428428429, 8.448448448448449, 8.468468468468469, 8.488488488488489, 8.508508508508509, 8.528528528528529, 8.548548548548549, 8.568568568568569, 8.588588588588589, 8.608608608608609, 8.62862862862863, 8.64864864864865, 8.66866866866867, 8.68868868868869, 8.70870870870871, 8.72872872872873, 8.74874874874875, 8.76876876876877, 8.78878878878879, 8.80880880880881, 8.82882882882883, 8.84884884884885, 8.86886886886887, 8.88888888888889, 8.90890890890891, 8.92892892892893, 8.94894894894895, 8.96896896896897, 8.98898898898899, 9.00900900900901, 9.02902902902903, 9.04904904904905, 9.06906906906907, 9.08908908908909, 9.10910910910911, 9.12912912912913, 9.14914914914915, 9.16916916916917, 9.18918918918919, 9.20920920920921, 9.22922922922923, 9.24924924924925, 9.26926926926927, 9.28928928928929, 9.30930930930931, 9.32932932932933, 9.34934934934935, 9.36936936936937, 9.38938938938939, 9.40940940940941, 9.42942942942943, 9.44944944944945, 9.46946946946947, 9.48948948948949, 9.50950950950951, 9.52952952952953, 9.54954954954955, 9.56956956956957, 9.58958958958959, 9.60960960960961, 9.62962962962963, 9.64964964964965, 9.66966966966967, 9.68968968968969, 9.70970970970971, 9.72972972972973, 9.74974974974975, 9.76976976976977, 9.78978978978979, 9.80980980980981, 9.82982982982983, 9.84984984984985, 9.86986986986987, 9.88988988988989, 9.90990990990991, 9.92992992992993, 9.94994994994995, 9.96996996996997, 9.98998998998999, 10.01001001001001, 10.03003003003003, 10.05005005005005, 10.07007007007007, 10.09009009009009, 10.11011011011011, 10.13013013013013, 10.15015015015015, 10.17017017017017, 10.19019019019019, 10.21021021021021, 10.23023023023023, 10.25025025025025, 10.27027027027027, 10.29029029029029, 10.31031031031031, 10.33033033033033, 10.35035035035035, 10.37037037037037, 10.39039039039039, 10.41041041041041, 10.43043043043043, 10.45045045045045, 10.47047047047047, 10.49049049049049, 10.51051051051051, 10.53053053053053, 10.55055055055055, 10.57057057057057, 10.59059059059059, 10.61061061061061, 10.63063063063063, 10.65065065065065, 10.67067067067067, 10.69069069069069, 10.71071071071071, 10.73073073073073, 10.75075075075075, 10.77077077077077, 10.79079079079079, 10.81081081081081, 10.83083083083083, 10.85085085085085, 10.87087087087087, 10.89089089089089, 10.91091091091091, 10.93093093093093, 10.95095095095095, 10.97097097097097, 10.99099099099099, 11.01101101101101, 11.03103103103103, 11.05105105105105, 11.07107107107107, 11.09109109109109, 11.11111111111111, 11.13113113113113, 11.15115115115115, 11.17117117117117, 11.19119119119119, 11.21121121121121, 11.23123123123123, 11.25125125125125, 11.27127127127127, 11.29129129129129, 11.31131131131131, 11.33133133133133, 11.35135135135135, 11.37137137137137, 11.391391391391391, 11.411411411411411, 11.431431431431431, 11.451451451451451, 11.471471471471471, 11.491491491491491, 11.511511511511511, 11.531531531531531, 11.551551551551551, 11.571571571571571, 11.591591591591591, 11.611611611611611, 11.631631631631631, 11.651651651651651, 11.671671671671671, 11.691691691691691, 11.711711711711711, 11.731731731731731, 11.751751751751751, 11.771771771771771, 11.791791791791791, 11.811811811811811, 11.831831831831831, 11.851851851851851, 11.871871871871871, 11.891891891891891, 11.911911911911911, 11.931931931931931, 11.951951951951951, 11.971971971971971, 11.991991991991991, 12.012012012012011, 12.032032032032031, 12.052052052052051, 12.072072072072071, 12.092092092092091, 12.112112112112111, 12.132132132132131, 12.152152152152151, 12.172172172172171, 12.192192192192191, 12.212212212212211, 12.232232232232231, 12.252252252252251, 12.272272272272271, 12.292292292292291, 12.312312312312311, 12.332332332332332, 12.352352352352352, 12.372372372372372, 12.392392392392392, 12.412412412412412, 12.432432432432432, 12.452452452452452, 12.472472472472472, 12.492492492492492, 12.512512512512512, 12.532532532532532, 12.552552552552552, 12.572572572572572, 12.592592592592592, 12.612612612612612, 12.632632632632632, 12.652652652652652, 12.672672672672672, 12.692692692692692, 12.712712712712712, 12.732732732732732, 12.752752752752752, 12.772772772772772, 12.792792792792792, 12.812812812812812, 12.832832832832834, 12.852852852852854, 12.872872872872874, 12.892892892892894, 12.912912912912914, 12.932932932932934, 12.952952952952954, 12.972972972972974, 12.992992992992994, 13.013013013013014, 13.033033033033034, 13.053053053053054, 13.073073073073074, 13.093093093093094, 13.113113113113114, 13.133133133133134, 13.153153153153154, 13.173173173173174, 13.193193193193194, 13.213213213213214, 13.233233233233234, 13.253253253253254, 13.273273273273274, 13.293293293293294, 13.313313313313314, 13.333333333333334, 13.353353353353354, 13.373373373373374, 13.393393393393394, 13.413413413413414, 13.433433433433434, 13.453453453453454, 13.473473473473474, 13.493493493493494, 13.513513513513514, 13.533533533533534, 13.553553553553554, 13.573573573573574, 13.593593593593594, 13.613613613613614, 13.633633633633634, 13.653653653653654, 13.673673673673674, 13.693693693693694, 13.713713713713714, 13.733733733733734, 13.753753753753754, 13.773773773773774, 13.793793793793794, 13.813813813813814, 13.833833833833834, 13.853853853853854, 13.873873873873874, 13.893893893893894, 13.913913913913914, 13.933933933933934, 13.953953953953954, 13.973973973973974, 13.993993993993994, 14.014014014014014, 14.034034034034034, 14.054054054054054, 14.074074074074074, 14.094094094094094, 14.114114114114114, 14.134134134134134, 14.154154154154154, 14.174174174174174, 14.194194194194194, 14.214214214214214, 14.234234234234235, 14.254254254254255, 14.274274274274275, 14.294294294294295, 14.314314314314315, 14.334334334334335, 14.354354354354355, 14.374374374374375, 14.394394394394395, 14.414414414414415, 14.434434434434435, 14.454454454454455, 14.474474474474475, 14.494494494494495, 14.514514514514515, 14.534534534534535, 14.554554554554555, 14.574574574574575, 14.594594594594595, 14.614614614614615, 14.634634634634635, 14.654654654654655, 14.674674674674675, 14.694694694694695, 14.714714714714715, 14.734734734734735, 14.754754754754755, 14.774774774774775, 14.794794794794795, 14.814814814814815, 14.834834834834835, 14.854854854854855, 14.874874874874875, 14.894894894894895, 14.914914914914915, 14.934934934934935, 14.954954954954955, 14.974974974974975, 14.994994994994995, 15.015015015015015, 15.035035035035035, 15.055055055055055, 15.075075075075075, 15.095095095095095, 15.115115115115115, 15.135135135135135, 15.155155155155155, 15.175175175175175, 15.195195195195195, 15.215215215215215, 15.235235235235235, 15.255255255255255, 15.275275275275275, 15.295295295295295, 15.315315315315315, 15.335335335335335, 15.355355355355355, 15.375375375375375, 15.395395395395395, 15.415415415415415, 15.435435435435435, 15.455455455455455, 15.475475475475475, 15.495495495495495, 15.515515515515515, 15.535535535535535, 15.555555555555555, 15.575575575575575, 15.595595595595595, 15.615615615615615, 15.635635635635635, 15.655655655655655, 15.675675675675675, 15.695695695695695, 15.715715715715715, 15.735735735735735, 15.755755755755755, 15.775775775775776, 15.795795795795796, 15.815815815815816, 15.835835835835836, 15.855855855855856, 15.875875875875876, 15.895895895895896, 15.915915915915916, 15.935935935935936, 15.955955955955956, 15.975975975975976, 15.995995995995996, 16.016016016016017, 16.036036036036037, 16.056056056056057, 16.076076076076077, 16.096096096096097, 16.116116116116117, 16.136136136136138, 16.156156156156158, 16.176176176176178, 16.196196196196198, 16.216216216216218, 16.236236236236238, 16.256256256256258, 16.276276276276278, 16.296296296296298, 16.316316316316318, 16.336336336336338, 16.356356356356358, 16.376376376376378, 16.396396396396398, 16.416416416416418, 16.436436436436438, 16.456456456456458, 16.476476476476478, 16.496496496496498, 16.516516516516518, 16.536536536536538, 16.556556556556558, 16.576576576576578, 16.596596596596598, 16.616616616616618, 16.636636636636638, 16.656656656656658, 16.676676676676678, 16.696696696696698, 16.716716716716718, 16.736736736736738, 16.756756756756758, 16.776776776776778, 16.796796796796798, 16.816816816816818, 16.836836836836838, 16.856856856856858, 16.876876876876878, 16.896896896896898, 16.916916916916918, 16.936936936936938, 16.956956956956958, 16.976976976976978, 16.996996996996998, 17.017017017017018, 17.037037037037038, 17.057057057057058, 17.077077077077078, 17.097097097097098, 17.117117117117118, 17.137137137137138, 17.157157157157158, 17.177177177177178, 17.197197197197198, 17.217217217217218, 17.237237237237238, 17.25725725725726, 17.27727727727728, 17.2972972972973, 17.31731731731732, 17.33733733733734, 17.35735735735736, 17.37737737737738, 17.3973973973974, 17.41741741741742, 17.43743743743744, 17.45745745745746, 17.47747747747748, 17.4974974974975, 17.51751751751752, 17.53753753753754, 17.55755755755756, 17.57757757757758, 17.5975975975976, 17.61761761761762, 17.63763763763764, 17.65765765765766, 17.67767767767768, 17.6976976976977, 17.71771771771772, 17.73773773773774, 17.75775775775776, 17.77777777777778, 17.7977977977978, 17.81781781781782, 17.83783783783784, 17.85785785785786, 17.87787787787788, 17.8978978978979, 17.91791791791792, 17.93793793793794, 17.95795795795796, 17.97797797797798, 17.997997997998, 18.01801801801802, 18.03803803803804, 18.05805805805806, 18.07807807807808, 18.0980980980981, 18.11811811811812, 18.13813813813814, 18.15815815815816, 18.17817817817818, 18.1981981981982, 18.21821821821822, 18.23823823823824, 18.25825825825826, 18.27827827827828, 18.2982982982983, 18.31831831831832, 18.33833833833834, 18.35835835835836, 18.37837837837838, 18.3983983983984, 18.41841841841842, 18.43843843843844, 18.45845845845846, 18.47847847847848, 18.4984984984985, 18.51851851851852, 18.53853853853854, 18.55855855855856, 18.57857857857858, 18.5985985985986, 18.61861861861862, 18.63863863863864, 18.65865865865866, 18.67867867867868, 18.6986986986987, 18.71871871871872, 18.73873873873874, 18.75875875875876, 18.77877877877878, 18.7987987987988, 18.81881881881882, 18.83883883883884, 18.85885885885886, 18.87887887887888, 18.8988988988989, 18.91891891891892, 18.93893893893894, 18.95895895895896, 18.97897897897898, 18.998998998999, 19.01901901901902, 19.03903903903904, 19.05905905905906, 19.07907907907908, 19.0990990990991, 19.11911911911912, 19.13913913913914, 19.15915915915916, 19.17917917917918, 19.1991991991992, 19.21921921921922, 19.23923923923924, 19.25925925925926, 19.27927927927928, 19.2992992992993, 19.31931931931932, 19.33933933933934, 19.35935935935936, 19.37937937937938, 19.3993993993994, 19.41941941941942, 19.43943943943944, 19.45945945945946, 19.47947947947948, 19.4994994994995, 19.51951951951952, 19.53953953953954, 19.55955955955956, 19.57957957957958, 19.5995995995996, 19.61961961961962, 19.63963963963964, 19.65965965965966, 19.67967967967968, 19.6996996996997, 19.71971971971972, 19.73973973973974, 19.75975975975976, 19.77977977977978, 19.7997997997998, 19.81981981981982, 19.83983983983984, 19.85985985985986, 19.87987987987988, 19.8998998998999, 19.91991991991992, 19.93993993993994, 19.95995995995996, 19.97997997997998, 20.0], \"y\": [-3.562542797643402, -3.562542797643402, -3.563600938992025, -3.5657205866140416, -3.569263347559048, -3.5710394458583, -3.5735312950317377, -3.5774596466984794, -3.5806852706875465, -3.582481790080474, -3.5878907947082217, -3.5922391629364427, -3.596971331111505, -3.6017259992178503, -3.607240394211974, -3.6105636865896815, -3.619853426909975, -3.624718414213443, -3.6311162436447892, -3.6364159534848643, -3.6390763783507976, -3.6490203909032592, -3.658288082243325, -3.6625646496958013, -3.6676424677674198, -3.6723526806905125, -3.679459862097513, -3.6870170933847453, -3.691418578964816, -3.6970486351965577, -3.7031162216647706, -3.7133114022802305, -3.7219564189582517, -3.7260995100771295, -3.7319288274015516, -3.7361135288188128, -3.7386327811758644, -3.745381981447414, -3.750048622168765, -3.75730381294912, -3.76633939600035, -3.7772035876642582, -3.785099542159236, -3.791727466530904, -3.80063359215135, -3.803769570299903, -3.808717491841428, -3.81097466585194, -3.8195986948324605, -3.8296782234084064, -3.8333688428758035, -3.8356824159916303, -3.8454583008872576, -3.848269054485295, -3.852500053756893, -3.863394644824395, -3.8667340872828877, -3.8700847189936107, -3.873446615190915, -3.880688964321984, -3.884086761541193, -3.8938588569604904, -3.897301776400354, -3.904719620191232, -3.912693109898004, -3.9273091251174144, -3.937002286103887, -3.9431730494235993, -3.950940439775094, -3.9545859728960413, -3.9640216853837154, -3.9682440845858893, -3.9815551794554302, -3.989627724080205, -3.9961330100176933, -4.004324583616547, -4.009271931386845, -4.019240666736127, -4.027624537295146, -4.034382612630294, -4.042894943253874, -4.046320268399363, -4.052630667323263, -4.056089561372724, -4.053782303190187, -4.0647895036768835, -4.0759192123489605, -4.084794168758972, -4.087770077586581, -4.085983469777196, -4.088962925242554, -4.091951284397535, -4.100970320157204, -4.114347142627571, -4.118641205618622, -4.130390331089278, -4.138509488116325, -4.135378929291809, -4.14290880071466, -4.154948281257, -4.161343554237086, -4.169719027116207, -4.178165241451449, -4.1866834024314254, -4.188000352883134, -4.197933155328988, -4.210658016242739, -4.214033751435415, -4.226966489678328, -4.22628163331004, -4.2352215604410235, -4.242849043868415, -4.248433075981708, -4.256868028200754, -4.263951915339096, -4.272519355934788, -4.284057998969641, -4.2804378502600215, -4.2906074769051425, -4.303096984372785, -4.320999089806548, -4.3262814821285005, -4.320999089806548, -4.324769377719074, -4.333114390337489, -4.324769377719074, -4.321752011040842, -4.3262814821285005, -4.341529628636663, -4.353120286010588, -4.355454626327782, -4.372741681571044, -4.391139842092665, -4.391139842092665, -4.395184630668615, -4.391947492041397, -4.4000600720698575, -4.396807138131624, -4.403323622130234, -4.404959399904411, -4.410705786161618, -4.4082390047108015, -4.414004322301287, -4.414004322301287, -4.426471651085652, -4.418142852084743, -4.434027345537264, -4.435714169811837, -4.441640563412679, -4.45790581387373, -4.465703730743216, -4.491252174367957, -4.493038431002189, -4.481484392601283, -4.480601125348396, -4.499315576414769, -4.508351834955043, -4.510168926622044, -4.505632373411661, -4.503823498973581, -4.5065380391222405, -4.518386948353598, -4.52945043345051, -4.537829120648742, -4.545336239025592, -4.552900140776974, -4.568201776598498, -4.5847204739787415, -4.601516628365413, -4.60851553543493, -4.629811053917241, -4.6349489652228, -4.635979722872215, -4.646346159818297, -4.64947716267727, -4.64947716267727, -4.646346159818297, -4.662100136516004, -4.653667141147486, -4.663159278864004, -4.679182519638397, -4.693280086133402, -4.6856644022429546, -4.6889211674846125, -4.6921885739113876, -4.6910982517894135, -4.67810627890674, -4.687834400142413, -4.695466691289512, -4.715364320337015, -4.716481438881059, -4.737947303149885, -4.744822858333436, -4.769266547212659, -4.7633921957764045, -4.771625984205745, -4.764564308666343, -4.770445569841498, -4.796742107788475, -4.805256314564984, -4.810154322085005, -4.817546611404174, -4.81384363601747, -4.823748872171015, -4.824993953886198, -4.83627000462231, -4.843858635604478, -4.8387931550972825, -4.865677862981186, -4.877424887982391, -4.889311547494856, -4.873493860517905, -4.870881734364926, -4.88005418427925, -4.832497175690926, -4.827488777675085, -4.824993953886198, -4.851505294540157, -4.850226783967674, -4.8476746561660145, -4.855350663148937, -4.861792654162727, -4.8566357456887745, -4.865677862981186, -4.859210875716308, -4.882690412003906, -4.882690412003906, -4.8866578302525845, -4.899997404306056, -4.906734519341957, -4.913517331135191, -4.932757673147772, -4.943920679867627, -4.925843548667168, -4.909442125780684, -4.928603464499617, -4.909442125780684, -4.91897690122955, -4.912157083260266, -4.910798683146494, -4.898655410871089, -4.89731521596915, -4.898655410871089, -4.899997404306056, -4.906734519341957, -4.924466441931009, -4.91760921176673, -4.912157083260266, -4.928603464499617, -4.916243390323796, -4.910798683146494, -4.916243390323796, -4.9203464638289995, -4.927222554441769, -4.931371018553178, -4.92171790470287, -4.952375480353256, -4.978177436044891, -4.963760906712993, -5.01364947217032, -5.015155133197119, -5.019685766343648, -5.022717632463145, -5.038016398444036, -5.042652043817275, -5.0614125532318495, -5.0349378637632585, -5.031868777378792, -5.045754455723676, -5.059835664388715, -5.055119862659745, -5.083754137137968, -5.056689326889447, -5.0442020466510025, -5.047309278517846, -5.0334021431600835, -5.021200550377316, -5.0395592271099225, -5.025758718756224, -5.045754455723676, -5.058261258209634, -5.047309278517846, -5.059835664388715, -5.038016398444036, -5.0395592271099225, -5.066158194353276, -5.074117988814758, -5.059835664388715, -5.064573810316047, -5.062991932581174, -5.078924456101957, -5.064573810316047, -5.098384732477107, -5.113232564368846, -5.124935247731668, -5.123255027569008, -5.13507628986132, -5.153939589201004, -5.174931849694342, -5.198182046478742, -5.220134405593427, -5.2018074703276955, -5.185595579652337, -5.190970393204359, -5.189175576925927, -5.174931849694342, -5.159146485771896, -5.187383976242428, -5.1927684366412885, -5.180249500348611, -5.196374251557791, -5.205446085714151, -5.198182046478742, -5.162632873508679, -5.147038967773449, -5.1661314586823055, -5.169642326940139, -5.178473806342306, -5.17140239423762, -5.159146485771896, -5.176701259837032, -5.176701259837032, -5.178473806342306, -5.190970393204359, -5.238803497860106, -5.223840445321537, -5.2018074703276955, -5.190970393204359, -5.210928953978587, -5.214600972055922, -5.218286523560269, -5.233166083187587, -5.229425385483685, -5.259750251558891, -5.291023551208751, -5.296997757615017, -5.291023551208751, -5.313105696870211, -5.285084824088987, -5.2791811573375, -5.281145176211887, -5.265539982512083, -5.293010990298055, -5.291023551208751, -5.3151375561362855, -5.305019294379865, -5.311077957686201, -5.319213702125128, -5.380264700203982, -5.391178020890951, -5.339847445033915, -5.319213702125128, -5.339847445033915, -5.3151375561362855, -5.3440257801923705, -5.346121512992756, -5.363047394021774, -5.382437857088529, -5.440664094605355, -5.41112724885659, -5.420122941779635, -5.449930708142276, -5.442972710105573, -5.447605992007752, -5.386798390212221, -5.350326201083916, -5.341934430304144, -5.371618993116526, -5.3759325031579746, -5.404433189600912, -5.426923218162046, -5.471099987991438, -5.46163605105873, -5.42920029231632, -5.500041363203843, -5.5349002221107515, -5.539980756284001, -5.550219922027556, -5.5579686903691545, -5.573648717463481, -5.560565013815576, -5.5579686903691545, -5.573648717463481, -5.576286126332249, -5.539980756284001, -5.532369601789057, -5.552796179073079, -5.571018246226891, -5.555379090365706, -5.568394676219712, -5.5579686903691545, -5.529845369344683, -5.529845369344683, -5.552796179073079, -5.576286126332249, -5.613959394212069, -5.603050003896064, -5.641765204201673, -5.605766214138692, -5.608489822278206, -5.633341979482211, -5.592258345152491, -5.58158190402441, -5.616705439822092, -5.644588786725745, -5.613959394212069, -5.611220868722657, -5.616705439822092, -5.608489822278206, -5.670366344778618, -5.661699783947438, -5.622220257406911, -5.658827541305713, -5.638949571853162, -5.613959394212069, -5.627765656936507, -5.684979641104911, -5.699809656758297, -5.724004855636632, -5.736325583915484, -5.7088143935519, -5.684979641104911, -5.730146244852909, -5.803624114032744, -5.816972763140484, -5.810276165447854, -5.77744976853824, -5.823714507754393, -5.837335901809194, -5.879350027172951, -5.840770440065531, -5.810276165447854, -5.748800008154316, -5.711834082026205, -5.717900952979414, -5.6531076875048205, -5.661699783947438, -5.693851233094142, -5.7088143935519, -5.711834082026205, -5.6502599827766735, -5.633341979482211, -5.644588786725745, -5.687928102057915, -5.693851233094142, -5.724004855636632, -5.696826007081214, -5.727070835669491, -5.727070835669491, -5.823714507754393, -5.8901352820331505, -5.879350027172951, -5.865148281020784, -5.882932203020527, -5.930707265855903, -5.953551457752942, -5.957410079124593, -5.915762668755051, -5.923207049942458, -5.9848455411392125, -6.029539318703165, -5.972995200392332, -6.004913621833587, -5.976929731183001, -6.025392692240712, -5.945878596667095, -5.879350027172951, -5.847675108603177, -5.868679853953953, -5.901038128018289, -5.897390622060856, -5.882932203020527, -5.926950126260818, -6.004913621833587, -6.0008676581132425, -6.004913621833587, -5.976929731183001, -5.965172278065125, -6.037884514414539, -6.098336248476415, -6.085071122870073, -6.0719796596804745, -6.148538375173137, -6.148538375173137, -6.181849372856906, -6.153229690185898, -6.226375867816712, -6.172218181734572, -6.221329436089514, -6.246820181502262, -6.26769120409311, -6.355824718327855, -6.379127615997742, -6.373250785557841, -6.361599732148756, -6.344373790206427, -6.415132893417219, -6.373250785557841, -6.27297773961957, -6.2998379360232075, -6.231447895238608, -6.167437149235971, -6.2063411638838755, -6.305297649790989, -6.26769120409311, -6.26769120409311, -6.327439563363727, -6.278292371200474, -6.196472349792754, -6.129990150065778, -6.196472349792754, -6.167437149235971, -6.211312335420449, -6.172218181734572, -6.157943117411309, -6.134595052727026, -6.167437149235971, -6.129990150065778, -6.172218181734572, -6.148538375173137, -6.148538375173137, -6.143868965870328, -6.054786784218943, -6.063346273033956, -6.10279735031344, -6.054786784218943, -6.050534358269187, -6.042083374262856, -6.076324465599651, -5.988827068315035, -5.945878596667095, -5.915762668755051, -5.901038128018289, -5.934478574801884, -5.84421681504024, -5.820337954068143, -5.840770440065531, -5.882932203020527, -5.868679853953953, -5.780684339943252, -5.761432011430216, -5.771011844883107, -5.84421681504024, -5.790451306684689, -5.761432011430216, -5.758259019688016, -5.790451306684689, -5.767808359214357, -5.803624114032744, -5.761432011430216, -5.730146244852909, -5.793728276498573, -5.823714507754393, -5.840770440065531, -5.858122332376467, -5.833913119242044, -5.854627783246734, -5.879350027172951, -5.912061157600911, -5.912061157600911, -5.934478574801884, -5.9421621341885436, -5.980982081659197, -5.945977012554204, -5.923303035397256, -6.085185731182933, -6.167562456297822, -6.143991121066399, -6.072092647219518, -6.167562456297822, -6.116419883507862, -6.134715987912464, -6.111897687368414, -6.094010672485015, -6.080802294592877, -6.042192739132383, -6.0591687789347946, -6.0591687789347946, -6.158067145856263, -6.134715987912464, -6.177148792669699, -6.143991121066399, -6.231582147267319, -6.158067145856263, -6.116419883507862, -6.076437988691497, -6.085185731182933, -6.158067145856263, -6.241941274650366, -6.283919383418884, -6.385355619921739, -6.3166014065052, -6.278574735434642, -6.252271757912557, -6.241941274650366, -6.153476504195026, -6.112015685134219, -6.162928213759789, -6.226642932674659, -6.167687781570166, -6.226776495861922, -6.206733248462333, -6.322301735867465, -6.362062727572321, -6.333501620151648, -6.316748484214784, -6.278715951692727, -6.2068639827212655, -6.257753436859478, -6.252546360266759, -6.216968966042463, -6.163427125249724, -6.172974191006993, -6.339601016799141, -6.380071296863035, -6.368340271803844, -6.374188582313459, -6.428421991848087, -6.380071296863035, -6.34543482646494, -6.279281044493098, -6.232388094594725, -6.317484241578157, -6.374501401799513, -6.428919094781876, -6.410665481564315, -6.561398392255174, -6.575646024717929, -6.480104258198958, -6.43546771230304, -6.454354228079281, -6.5200169155813725, -6.561779762004501, -6.620054398666255, -6.73122559544467, -6.7919401641712955, -6.731453414741885, -6.748829187754107, -6.774758338977542, -6.783552977370317, -6.957006546341175, -6.8109056332937294, -6.957871052834261, -7.1055451353292165, -6.947980499994435, -6.858920900012687, -6.938186422987147, -7.002655644484654, -7.070923902025812, -7.119852269489366, -7.170582103174249, -7.280885191707334, -7.22554202413456, -7.509782224684138, -7.566132505045825, -7.357596877974265, -7.254199588254815, -7.124292864134509, -7.257334712143964, -7.346323328581468, -7.516921830690934, -7.482268897952223, -7.351929750550067, -7.559743495968279, -7.322883441249002, -7.293024510087491, -7.236239280560564, -7.208824623171714, -7.070489336319165, -7.071461820722324, -6.898702782383921, -6.919565840030889, -6.744302220151009, -6.973570370142108, -7.15006535753556, -7.1380886026374855, -7.138783703065426, -7.067466514926672, -7.034406590607208, -7.03471889984081, -7.035656450745324, -6.9188658008183, -6.899638698622697, -6.890296110466362, -6.97343662944397, -6.912917411318859, -6.934657219302914, -6.8372676381671535, -6.757098644448907, -6.767878273569288, -6.65391610909299, -6.795807015992, -6.972130301734802, -7.028871481342326, -7.07938825762288, -7.01260561418452, -6.992394962482012, -7.0983355943158015, -6.996293196436367, -7.151556847656203, -7.092572321574167, -7.251549617422323, -7.17267984956325, -7.041577316724917, -6.999174916101989, -6.969093054390101, -7.049167694901659, -6.882559793582213, -6.89400616983726, -6.935780323638325, -6.938892937152777, -7.213259041572798, -7.304226188991019, -7.338770588632427, -7.391139725318916, -7.395664823280054, -7.483889534441533, -7.491864466358522, -7.654983832494483, -7.643317306327952, -7.737874728806558, -7.846640801340025, -8.43707165668232, -8.015086463885176, -7.784648799556775, -7.745236022594165, -7.703571577490589, -7.85785385352822, -7.816202133116032, -7.75646009956427, -8.134238585541372, -8.687423461752928, -9.15666504306602, -9.882473524156094, -10.068159193212109, -9.242796437177624, -9.89588942961245, -8.81920223065793, -11.962464038510431, -9.542355433870682, -8.773820832121418, -8.524308840222796, -8.793408816212823, -9.36979309446482, -10.614335690751783, -10.21964786923204, -10.086727495633149, -9.45967688641684, -8.446578500615388, -9.855213337848683, -13.770967289410835, -9.534104401734657, -11.3009323286626, -11.01440670546098, -8.83179062292536, -9.04663961799506, -8.113340379853103, -7.866831847462369, -7.670953733464296, -7.546869457711781, -7.373040797626314, -8.012188372176247, -7.875253236693456, -7.6642644753662355, -7.643545086157901, -7.505784853560552, -7.071693957657413, -7.0593526320439715, -7.203951391092866, -7.518348405353988, -7.72922616463288, -7.460720854272114, -7.5174282073413385, -7.601692036821161, -7.240143334169449, -6.952693293871705, -6.86423890527211, -6.847853668879209, -6.698147098705779, -6.711515820464277, -6.690425487558758, -6.623702338643847, -6.742437052293426, -6.611891370893545, -6.690856655866755, -6.782318464392185, -6.991822198239237, -6.693254031503771, -6.733374913873234, -6.811716243552508, -6.8902892171874175, -7.081010737735782, -7.68970445503325, -7.387477719323343, -7.450141789446092, -7.795690915965453, -7.711646055444196, -7.388709039052809, -7.498424365493637, -7.73463564721455, -7.581039024310349, -7.623974639426786, -7.654195292195678, -7.393163184296068, -7.461783741431837, -7.255949251531082, -7.373426503146158, -7.105425822617738, -7.092433254859407, -7.140907967043338, -7.410041978819675, -7.405684499341307, -7.118233866867478, -7.17316337096109, -7.158507420068893, -7.093712210036523, -7.159075683449841, -7.4393795550827075, -7.276701807077942, -7.281635435557265, -7.705717956239775, -7.588679170378041, -7.383130857099751, -7.417468802537575, -7.542406435996355, -7.984780433281075, -7.94641500491883, -7.943202341486292, -7.713859150384568, -7.586373352145067, -7.509500106110945, -7.5151075994923735, -8.208661277466259, -8.560661509032936, -10.240677557748622, -9.572425477391201, -8.444516201901536, -8.747944518546984, -8.569156758953529, -9.61726750572266, -10.360027813556497, -9.626523215241178, -10.534212097282948, -14.953544051456396, -9.311451218214724, -8.168178875188627, -8.610566219432114, -8.668932045315591, -8.197041966408072, -8.52932490651951, -7.9406047212568645, -7.571352580228373, -7.8954806257247885, -7.545689895749809, -7.708573001484303, -8.244144297419856, -8.947925357508295, -8.684306610623658, -8.83308950697215, -9.084661410133162, -8.319854457728393, -8.252458526244958, -8.761408986108421, -9.537828137879165, -8.64749787493866, -8.853455726123231, -9.936110453149084, -8.839206497134196, -9.52289528872343, -9.523503186272622, -12.155786042559118, -8.832120307331557, -8.939930238194925, -8.874411352139356, -9.072136483937348, -11.56732588695091, -8.56988367947371, -8.526783259388905, -8.922263310169836, -8.688945122368997, -8.721115372916026, -8.656274946835556, -8.921445117999887, -8.490393689861769, -8.331994166731668, -8.073513022443898, -8.404932149507836, -8.514575047488691, -8.178633393650014, -8.26017241387716, -8.855161240132203, -9.776912273470483, -12.095409687893481, -9.67697982832978, -8.174103697592741, -8.610605186235176, -8.047884444941499, -7.714497865424972, -7.548925715399407, -7.764052886896335, -8.82935973542379, -8.300997971321904, -7.758192718525682, -8.010007225468685, -8.65971503904813, -8.713516218960546, -10.871519796227256, -8.607246185047213, -8.389101310850327, -7.860753134087466, -8.951653931255649, -13.856366704162705, -7.89155459439432, -8.274821333373309, -8.697853351871892, -8.00401275785168, -8.750249298946695, -9.677782868213496, -7.892488614729684, -9.299865684301672, -9.633429374414334, -10.199206382160263, -10.053242448594036, -8.30746786737278, -7.900676607384415, -7.913971173035598, -8.36985158415578, -9.64640426463693, -9.406567142055243, -9.16743317072075, -11.460431442288959, -8.951388478694604, -8.901072963970753, -9.28066149471831, -9.002359290708087, -9.059776989031016, -8.969546939170835, -9.510352939276343, -9.575313408975251, -9.233860469727398, -8.7803556487526, -8.296179355880193, -9.148902365068894, -10.647530927630763, -9.836461680243163, -8.288583104408984, -8.761160488544656, -8.725879135564515, -8.538756488201788, -9.461011452958783, -8.975547044625198, -8.614707823768983, -9.835531152850512, -9.783326911647023, -8.504893177638769, -8.30457735036294, -8.09942434584971, -8.486368626305973, -8.335105261048772, -9.890451862208941, -9.177984629364923, -8.465057410852785, -8.495756964780028, -8.40177289529489, -8.320121376653683, -8.888527092040594, -8.261228592849655, -8.830224981063575, -8.900483183658357, -8.827307844060666, -8.625603347287498, -9.241922727217398, -10.858542914778411, -8.312364080962265, -8.501157897387433, -8.973025185457068, -8.805309148484392, -9.031178680816021, -9.591367374258615, -9.278994952547663, -8.56615273649777, -7.787557047530404, -7.644629899700624, -7.6347610514508535, -7.550366341872405, -7.856737648521621, -7.307128998277299, -7.42198622441504, -7.114085827460932, -7.021231203961347, -7.414707969096672, -7.0169257542475405, -6.75611579993999, -6.695023424163615, -6.926401658195747, -6.834252910029707, -6.6673758535012215, -6.640478176943853, -6.704751909158261, -6.823697004721311]}],                        {\"template\": {\"data\": {\"bar\": [{\"error_x\": {\"color\": \"#2a3f5f\"}, \"error_y\": {\"color\": \"#2a3f5f\"}, \"marker\": {\"line\": {\"color\": \"#E5ECF6\", \"width\": 0.5}}, \"type\": \"bar\"}], \"barpolar\": [{\"marker\": {\"line\": {\"color\": \"#E5ECF6\", \"width\": 0.5}}, \"type\": \"barpolar\"}], \"carpet\": [{\"aaxis\": {\"endlinecolor\": \"#2a3f5f\", \"gridcolor\": \"white\", \"linecolor\": \"white\", \"minorgridcolor\": \"white\", \"startlinecolor\": \"#2a3f5f\"}, \"baxis\": {\"endlinecolor\": \"#2a3f5f\", \"gridcolor\": \"white\", \"linecolor\": \"white\", \"minorgridcolor\": \"white\", \"startlinecolor\": \"#2a3f5f\"}, \"type\": \"carpet\"}], \"choropleth\": [{\"colorbar\": {\"outlinewidth\": 0, \"ticks\": \"\"}, \"type\": \"choropleth\"}], \"contour\": [{\"colorbar\": {\"outlinewidth\": 0, \"ticks\": \"\"}, \"colorscale\": [[0.0, \"#0d0887\"], [0.1111111111111111, \"#46039f\"], [0.2222222222222222, \"#7201a8\"], [0.3333333333333333, \"#9c179e\"], [0.4444444444444444, \"#bd3786\"], [0.5555555555555556, \"#d8576b\"], [0.6666666666666666, \"#ed7953\"], [0.7777777777777778, \"#fb9f3a\"], [0.8888888888888888, \"#fdca26\"], [1.0, \"#f0f921\"]], \"type\": \"contour\"}], \"contourcarpet\": [{\"colorbar\": {\"outlinewidth\": 0, \"ticks\": \"\"}, \"type\": \"contourcarpet\"}], \"heatmap\": [{\"colorbar\": {\"outlinewidth\": 0, \"ticks\": \"\"}, \"colorscale\": [[0.0, \"#0d0887\"], [0.1111111111111111, \"#46039f\"], [0.2222222222222222, \"#7201a8\"], [0.3333333333333333, \"#9c179e\"], [0.4444444444444444, \"#bd3786\"], [0.5555555555555556, \"#d8576b\"], [0.6666666666666666, \"#ed7953\"], [0.7777777777777778, \"#fb9f3a\"], [0.8888888888888888, \"#fdca26\"], [1.0, \"#f0f921\"]], \"type\": \"heatmap\"}], \"heatmapgl\": [{\"colorbar\": {\"outlinewidth\": 0, \"ticks\": \"\"}, \"colorscale\": [[0.0, \"#0d0887\"], [0.1111111111111111, \"#46039f\"], [0.2222222222222222, \"#7201a8\"], [0.3333333333333333, \"#9c179e\"], [0.4444444444444444, \"#bd3786\"], [0.5555555555555556, \"#d8576b\"], [0.6666666666666666, \"#ed7953\"], [0.7777777777777778, \"#fb9f3a\"], [0.8888888888888888, \"#fdca26\"], [1.0, \"#f0f921\"]], \"type\": \"heatmapgl\"}], \"histogram\": [{\"marker\": {\"colorbar\": {\"outlinewidth\": 0, \"ticks\": \"\"}}, \"type\": \"histogram\"}], \"histogram2d\": [{\"colorbar\": {\"outlinewidth\": 0, \"ticks\": \"\"}, \"colorscale\": [[0.0, \"#0d0887\"], [0.1111111111111111, \"#46039f\"], [0.2222222222222222, \"#7201a8\"], [0.3333333333333333, \"#9c179e\"], [0.4444444444444444, \"#bd3786\"], [0.5555555555555556, \"#d8576b\"], [0.6666666666666666, \"#ed7953\"], [0.7777777777777778, \"#fb9f3a\"], [0.8888888888888888, \"#fdca26\"], [1.0, \"#f0f921\"]], \"type\": \"histogram2d\"}], \"histogram2dcontour\": [{\"colorbar\": {\"outlinewidth\": 0, \"ticks\": \"\"}, \"colorscale\": [[0.0, \"#0d0887\"], [0.1111111111111111, \"#46039f\"], [0.2222222222222222, \"#7201a8\"], [0.3333333333333333, \"#9c179e\"], [0.4444444444444444, \"#bd3786\"], [0.5555555555555556, \"#d8576b\"], [0.6666666666666666, \"#ed7953\"], [0.7777777777777778, \"#fb9f3a\"], [0.8888888888888888, \"#fdca26\"], [1.0, \"#f0f921\"]], \"type\": \"histogram2dcontour\"}], \"mesh3d\": [{\"colorbar\": {\"outlinewidth\": 0, \"ticks\": \"\"}, \"type\": \"mesh3d\"}], \"parcoords\": [{\"line\": {\"colorbar\": {\"outlinewidth\": 0, \"ticks\": \"\"}}, \"type\": \"parcoords\"}], \"pie\": [{\"automargin\": true, \"type\": \"pie\"}], \"scatter\": [{\"marker\": {\"colorbar\": {\"outlinewidth\": 0, \"ticks\": \"\"}}, \"type\": \"scatter\"}], \"scatter3d\": [{\"line\": {\"colorbar\": {\"outlinewidth\": 0, \"ticks\": \"\"}}, \"marker\": {\"colorbar\": {\"outlinewidth\": 0, \"ticks\": \"\"}}, \"type\": \"scatter3d\"}], \"scattercarpet\": [{\"marker\": {\"colorbar\": {\"outlinewidth\": 0, \"ticks\": \"\"}}, \"type\": \"scattercarpet\"}], \"scattergeo\": [{\"marker\": {\"colorbar\": {\"outlinewidth\": 0, \"ticks\": \"\"}}, \"type\": \"scattergeo\"}], \"scattergl\": [{\"marker\": {\"colorbar\": {\"outlinewidth\": 0, \"ticks\": \"\"}}, \"type\": \"scattergl\"}], \"scattermapbox\": [{\"marker\": {\"colorbar\": {\"outlinewidth\": 0, \"ticks\": \"\"}}, \"type\": \"scattermapbox\"}], \"scatterpolar\": [{\"marker\": {\"colorbar\": {\"outlinewidth\": 0, \"ticks\": \"\"}}, \"type\": \"scatterpolar\"}], \"scatterpolargl\": [{\"marker\": {\"colorbar\": {\"outlinewidth\": 0, \"ticks\": \"\"}}, \"type\": \"scatterpolargl\"}], \"scatterternary\": [{\"marker\": {\"colorbar\": {\"outlinewidth\": 0, \"ticks\": \"\"}}, \"type\": \"scatterternary\"}], \"surface\": [{\"colorbar\": {\"outlinewidth\": 0, \"ticks\": \"\"}, \"colorscale\": [[0.0, \"#0d0887\"], [0.1111111111111111, \"#46039f\"], [0.2222222222222222, \"#7201a8\"], [0.3333333333333333, \"#9c179e\"], [0.4444444444444444, \"#bd3786\"], [0.5555555555555556, \"#d8576b\"], [0.6666666666666666, \"#ed7953\"], [0.7777777777777778, \"#fb9f3a\"], [0.8888888888888888, \"#fdca26\"], [1.0, \"#f0f921\"]], \"type\": \"surface\"}], \"table\": [{\"cells\": {\"fill\": {\"color\": \"#EBF0F8\"}, \"line\": {\"color\": \"white\"}}, \"header\": {\"fill\": {\"color\": \"#C8D4E3\"}, \"line\": {\"color\": \"white\"}}, \"type\": \"table\"}]}, \"layout\": {\"annotationdefaults\": {\"arrowcolor\": \"#2a3f5f\", \"arrowhead\": 0, \"arrowwidth\": 1}, \"autotypenumbers\": \"strict\", \"coloraxis\": {\"colorbar\": {\"outlinewidth\": 0, \"ticks\": \"\"}}, \"colorscale\": {\"diverging\": [[0, \"#8e0152\"], [0.1, \"#c51b7d\"], [0.2, \"#de77ae\"], [0.3, \"#f1b6da\"], [0.4, \"#fde0ef\"], [0.5, \"#f7f7f7\"], [0.6, \"#e6f5d0\"], [0.7, \"#b8e186\"], [0.8, \"#7fbc41\"], [0.9, \"#4d9221\"], [1, \"#276419\"]], \"sequential\": [[0.0, \"#0d0887\"], [0.1111111111111111, \"#46039f\"], [0.2222222222222222, \"#7201a8\"], [0.3333333333333333, \"#9c179e\"], [0.4444444444444444, \"#bd3786\"], [0.5555555555555556, \"#d8576b\"], [0.6666666666666666, \"#ed7953\"], [0.7777777777777778, \"#fb9f3a\"], [0.8888888888888888, \"#fdca26\"], [1.0, \"#f0f921\"]], \"sequentialminus\": [[0.0, \"#0d0887\"], [0.1111111111111111, \"#46039f\"], [0.2222222222222222, \"#7201a8\"], [0.3333333333333333, \"#9c179e\"], [0.4444444444444444, \"#bd3786\"], [0.5555555555555556, \"#d8576b\"], [0.6666666666666666, \"#ed7953\"], [0.7777777777777778, \"#fb9f3a\"], [0.8888888888888888, \"#fdca26\"], [1.0, \"#f0f921\"]]}, \"colorway\": [\"#636efa\", \"#EF553B\", \"#00cc96\", \"#ab63fa\", \"#FFA15A\", \"#19d3f3\", \"#FF6692\", \"#B6E880\", \"#FF97FF\", \"#FECB52\"], \"font\": {\"color\": \"#2a3f5f\"}, \"geo\": {\"bgcolor\": \"white\", \"lakecolor\": \"white\", \"landcolor\": \"#E5ECF6\", \"showlakes\": true, \"showland\": true, \"subunitcolor\": \"white\"}, \"hoverlabel\": {\"align\": \"left\"}, \"hovermode\": \"closest\", \"mapbox\": {\"style\": \"light\"}, \"paper_bgcolor\": \"white\", \"plot_bgcolor\": \"#E5ECF6\", \"polar\": {\"angularaxis\": {\"gridcolor\": \"white\", \"linecolor\": \"white\", \"ticks\": \"\"}, \"bgcolor\": \"#E5ECF6\", \"radialaxis\": {\"gridcolor\": \"white\", \"linecolor\": \"white\", \"ticks\": \"\"}}, \"scene\": {\"xaxis\": {\"backgroundcolor\": \"#E5ECF6\", \"gridcolor\": \"white\", \"gridwidth\": 2, \"linecolor\": \"white\", \"showbackground\": true, \"ticks\": \"\", \"zerolinecolor\": \"white\"}, \"yaxis\": {\"backgroundcolor\": \"#E5ECF6\", \"gridcolor\": \"white\", \"gridwidth\": 2, \"linecolor\": \"white\", \"showbackground\": true, \"ticks\": \"\", \"zerolinecolor\": \"white\"}, \"zaxis\": {\"backgroundcolor\": \"#E5ECF6\", \"gridcolor\": \"white\", \"gridwidth\": 2, \"linecolor\": \"white\", \"showbackground\": true, \"ticks\": \"\", \"zerolinecolor\": \"white\"}}, \"shapedefaults\": {\"line\": {\"color\": \"#2a3f5f\"}}, \"ternary\": {\"aaxis\": {\"gridcolor\": \"white\", \"linecolor\": \"white\", \"ticks\": \"\"}, \"baxis\": {\"gridcolor\": \"white\", \"linecolor\": \"white\", \"ticks\": \"\"}, \"bgcolor\": \"#E5ECF6\", \"caxis\": {\"gridcolor\": \"white\", \"linecolor\": \"white\", \"ticks\": \"\"}}, \"title\": {\"x\": 0.05}, \"xaxis\": {\"automargin\": true, \"gridcolor\": \"white\", \"linecolor\": \"white\", \"ticks\": \"\", \"title\": {\"standoff\": 15}, \"zerolinecolor\": \"white\", \"zerolinewidth\": 2}, \"yaxis\": {\"automargin\": true, \"gridcolor\": \"white\", \"linecolor\": \"white\", \"ticks\": \"\", \"title\": {\"standoff\": 15}, \"zerolinecolor\": \"white\", \"zerolinewidth\": 2}}}},                        {\"responsive\": true}                    ).then(function(){\n",
       "                            \n",
       "var gd = document.getElementById('05c59ced-15a0-498b-aa8d-d2da8e3583b5');\n",
       "var x = new MutationObserver(function (mutations, observer) {{\n",
       "        var display = window.getComputedStyle(gd).display;\n",
       "        if (!display || display === 'none') {{\n",
       "            console.log([gd, 'removed!']);\n",
       "            Plotly.purge(gd);\n",
       "            observer.disconnect();\n",
       "        }}\n",
       "}});\n",
       "\n",
       "// Listen for the removal of the full notebook cells\n",
       "var notebookContainer = gd.closest('#notebook-container');\n",
       "if (notebookContainer) {{\n",
       "    x.observe(notebookContainer, {childList: true});\n",
       "}}\n",
       "\n",
       "// Listen for the clearing of the current output cell\n",
       "var outputEl = gd.closest('.output');\n",
       "if (outputEl) {{\n",
       "    x.observe(outputEl, {childList: true});\n",
       "}}\n",
       "\n",
       "                        })                };                });            </script>        </div>"
      ]
     },
     "metadata": {},
     "output_type": "display_data"
    }
   ],
   "source": [
    "fig = go.Figure()\n",
    "y = np.log(np.abs(dimer_corr[0,1]))\n",
    "y_ = y[1:] - y[:-1]\n",
    "\n",
    "fig.add_trace(\n",
    "    go.Scatter(x = t_list, y = y)\n",
    ")\n",
    "fig.show()"
   ]
  },
  {
   "cell_type": "code",
   "execution_count": null,
   "id": "explicit-amendment",
   "metadata": {},
   "outputs": [],
   "source": []
  },
  {
   "cell_type": "code",
   "execution_count": 20,
   "id": "handled-potato",
   "metadata": {},
   "outputs": [
    {
     "data": {
      "text/plain": [
       "array([-0.02810652, -0.02800652, -0.02800652, -0.02800652, -0.02800652,\n",
       "       -0.02800652, -0.02800652, -0.02800652, -0.02800652, -0.02800652,\n",
       "       -0.02800652, -0.02800652, -0.02800652, -0.02800652, -0.02800652,\n",
       "       -0.02800652, -0.02790652, -0.02790652, -0.02790652, -0.02790652,\n",
       "       -0.02790652, -0.02800652, -0.02800652, -0.02800652, -0.02800652,\n",
       "       -0.02800652, -0.02800652, -0.02800652, -0.02800652, -0.02800652,\n",
       "       -0.02800652, -0.02790652, -0.02790652, -0.02780652, -0.02780652,\n",
       "       -0.02770652, -0.02770652, -0.02760652, -0.02750652, -0.02740652,\n",
       "       -0.02740652, -0.02740652, -0.02700652, -0.02700652, -0.02700652,\n",
       "       -0.02690652, -0.02670652, -0.02660652, -0.02650652, -0.02640652,\n",
       "       -0.02640652, -0.02640652, -0.02640652, -0.02620652, -0.02600652,\n",
       "       -0.02600652, -0.02590652, -0.02590652, -0.02590652, -0.02590652,\n",
       "       -0.02580652, -0.02590652, -0.02580652, -0.02580652, -0.02570652,\n",
       "       -0.02560652, -0.02550652, -0.02540652, -0.02540652, -0.02530652,\n",
       "       -0.02530652, -0.02540652, -0.02530652, -0.02520652, -0.02530652,\n",
       "       -0.02530652, -0.02530652, -0.02530652, -0.02510652, -0.02520652,\n",
       "       -0.02520652, -0.02500652, -0.02490652, -0.02480652, -0.02480652,\n",
       "       -0.02480652, -0.02480652, -0.02450652, -0.02450652, -0.02450652,\n",
       "       -0.02450652, -0.02450652, -0.02450652, -0.02440652, -0.02430652,\n",
       "       -0.02430652, -0.02430652, -0.02430652, -0.02420652, -0.02420652,\n",
       "       -0.02430652, -0.02440652, -0.02440652, -0.02450652, -0.02440652,\n",
       "       -0.02410652, -0.02410652, -0.02410652, -0.02400652, -0.02400652,\n",
       "       -0.02400652, -0.02380652, -0.02380652, -0.02390652, -0.02390652,\n",
       "       -0.02390652, -0.02390652, -0.02390652, -0.02400652, -0.02370652,\n",
       "       -0.02370652, -0.02380652, -0.02360652, -0.02360652, -0.02360652,\n",
       "       -0.02360652, -0.02350652, -0.02350652, -0.02350652, -0.02350652,\n",
       "       -0.02350652, -0.02340652, -0.02310652, -0.02310652, -0.02310652,\n",
       "       -0.02310652, -0.02300652, -0.02300652, -0.02320652, -0.02330652,\n",
       "       -0.02340652, -0.02300652, -0.02270652, -0.02260652, -0.02270652,\n",
       "       -0.02270652, -0.02270652, -0.02270652, -0.02260652, -0.02260652,\n",
       "       -0.02270652, -0.02280652, -0.02290652, -0.02290652, -0.02290652,\n",
       "       -0.02280652, -0.02270652, -0.02260652, -0.02260652, -0.02250652,\n",
       "       -0.02260652, -0.02250652, -0.02250652, -0.02230652, -0.02230652,\n",
       "       -0.02210652, -0.02200652, -0.02190652, -0.02190652, -0.02200652,\n",
       "       -0.02200652, -0.02220652, -0.02220652, -0.02200652, -0.02180652,\n",
       "       -0.02180652, -0.02180652, -0.02160652, -0.02160652, -0.02140652,\n",
       "       -0.02130652, -0.02130652, -0.02100652, -0.02100652, -0.02100652,\n",
       "       -0.02100652, -0.02080652, -0.02090652, -0.02080652, -0.02090652,\n",
       "       -0.02090652, -0.02070652, -0.02070652, -0.02080652, -0.02090652,\n",
       "       -0.02100652, -0.02090652, -0.02100652, -0.02100652, -0.02100652,\n",
       "       -0.02090652, -0.02090652, -0.02090652, -0.02090652, -0.02090652,\n",
       "       -0.02050652, -0.02040652, -0.02040652, -0.02040652, -0.02040652,\n",
       "       -0.02040652, -0.02040652, -0.02040652, -0.02030652, -0.02050652,\n",
       "       -0.02050652, -0.02060652, -0.02060652, -0.02070652, -0.02070652,\n",
       "       -0.02080652, -0.02050652, -0.02060652, -0.02050652, -0.02040652,\n",
       "       -0.02040652, -0.02040652, -0.02050652, -0.02040652, -0.02030652,\n",
       "       -0.02030652, -0.02020652, -0.02020652, -0.02020652, -0.02010652,\n",
       "       -0.02020652, -0.02010652, -0.01990652, -0.01990652, -0.01990652,\n",
       "       -0.01990652, -0.01960652, -0.01950652, -0.01940652, -0.01950652,\n",
       "       -0.01950652, -0.01950652, -0.01950652, -0.01950652, -0.01950652,\n",
       "       -0.01940652, -0.01940652, -0.01930652, -0.01930652, -0.01930652,\n",
       "       -0.01940652, -0.01920652, -0.01910652, -0.01890652, -0.01890652,\n",
       "       -0.01880652, -0.01880652, -0.01900652, -0.01880652, -0.01890652,\n",
       "       -0.01890652, -0.01890652, -0.01860652, -0.01860652, -0.01860652,\n",
       "       -0.01850652, -0.01850652, -0.01840652, -0.01850652, -0.01840652,\n",
       "       -0.01810652, -0.01810652, -0.01790652, -0.01770652, -0.01760652,\n",
       "       -0.01720652, -0.01710652, -0.01680652, -0.01670652, -0.01670652,\n",
       "       -0.01690652, -0.01680652, -0.01670652, -0.01680652, -0.01670652,\n",
       "       -0.01670652, -0.01680652, -0.01680652, -0.01680652, -0.01680652,\n",
       "       -0.01680652, -0.01680652, -0.01670652, -0.01690652, -0.01650652,\n",
       "       -0.01670652, -0.01660652, -0.01650652, -0.01630652, -0.01620652,\n",
       "       -0.01590652, -0.01600652, -0.01610652, -0.01610652, -0.01630652,\n",
       "       -0.01640652, -0.01650652, -0.01610652, -0.01610652, -0.01610652,\n",
       "       -0.01610652, -0.01610652, -0.01600652, -0.01590652, -0.01590652,\n",
       "       -0.01580652, -0.01570652, -0.01560652, -0.01570652, -0.01580652,\n",
       "       -0.01590652, -0.01560652, -0.01550652, -0.01560652, -0.01550652,\n",
       "       -0.01540652, -0.01540652, -0.01530652, -0.01530652, -0.01540652,\n",
       "       -0.01550652, -0.01560652, -0.01560652, -0.01580652, -0.01570652,\n",
       "       -0.01560652, -0.01540652, -0.01550652, -0.01560652, -0.01550652,\n",
       "       -0.01570652, -0.01560652, -0.01560652, -0.01540652, -0.01560652,\n",
       "       -0.01550652, -0.01560652, -0.01550652, -0.01570652, -0.01570652,\n",
       "       -0.01570652, -0.01570652, -0.01580652, -0.01580652, -0.01560652,\n",
       "       -0.01560652, -0.01530652, -0.01540652, -0.01530652, -0.01550652,\n",
       "       -0.01540652, -0.01550652, -0.01550652, -0.01560652, -0.01560652,\n",
       "       -0.01560652, -0.01550652, -0.01550652, -0.01530652, -0.01540652,\n",
       "       -0.01510652, -0.01500652, -0.01500652, -0.01510652, -0.01500652,\n",
       "       -0.01510652, -0.01510652, -0.01500652, -0.01490652, -0.01490652,\n",
       "       -0.01490652, -0.01510652, -0.01500652, -0.01500652, -0.01500652,\n",
       "       -0.01500652, -0.01490652, -0.01480652, -0.01470652, -0.01450652,\n",
       "       -0.01480652, -0.01480652, -0.01460652, -0.01480652, -0.01470652,\n",
       "       -0.01470652, -0.01460652, -0.01460652, -0.01460652, -0.01450652,\n",
       "       -0.01460652, -0.01430652, -0.01430652, -0.01430652, -0.01430652,\n",
       "       -0.01440652, -0.01440652, -0.01460652, -0.01470652, -0.01430652,\n",
       "       -0.01430652, -0.01440652, -0.01440652, -0.01440652, -0.01420652,\n",
       "       -0.01400652, -0.01400652, -0.01390652, -0.01390652, -0.01400652,\n",
       "       -0.01360652, -0.01360652, -0.01350652, -0.01360652, -0.01360652,\n",
       "       -0.01360652, -0.01340652, -0.01330652, -0.01340652, -0.01290652,\n",
       "       -0.01290652, -0.01300652, -0.01290652, -0.01300652, -0.01300652,\n",
       "       -0.01310652, -0.01310652, -0.01320652, -0.01330652, -0.01320652,\n",
       "       -0.01330652, -0.01340652, -0.01350652, -0.01320652, -0.01310652,\n",
       "       -0.01320652, -0.01310652, -0.01320652, -0.01320652, -0.01370652,\n",
       "       -0.01340652, -0.01340652, -0.01340652, -0.01350652, -0.01340652,\n",
       "       -0.01350652, -0.01360652, -0.01370652, -0.01390652, -0.01390652,\n",
       "       -0.01390652, -0.01400652, -0.01400652, -0.01420652, -0.01430652,\n",
       "       -0.01420652, -0.01430652, -0.01450652, -0.01460652, -0.01460652,\n",
       "       -0.01480652, -0.01480652, -0.01490652, -0.01500652, -0.01510652,\n",
       "       -0.01520652, -0.01540652, -0.01530652, -0.01520652, -0.01530652,\n",
       "       -0.01530652, -0.01520652, -0.01520652, -0.01530652, -0.01550652,\n",
       "       -0.01550652, -0.01530652, -0.01520652, -0.01520652, -0.01520652,\n",
       "       -0.01520652, -0.01500652, -0.01510652, -0.01520652, -0.01540652,\n",
       "       -0.01550652, -0.01540652, -0.01550652, -0.01570652, -0.01570652,\n",
       "       -0.01550652, -0.01540652, -0.01540652, -0.01550652, -0.01550652,\n",
       "       -0.01540652, -0.01530652, -0.01530652, -0.01520652, -0.01520652,\n",
       "       -0.01490652, -0.01460652, -0.01470652, -0.01470652, -0.01470652,\n",
       "       -0.01470652, -0.01460652, -0.01460652, -0.01460652, -0.01440652,\n",
       "       -0.01430652, -0.01430652, -0.01400652, -0.01390652, -0.01400652,\n",
       "       -0.01390652, -0.01400652, -0.01400652, -0.01410652, -0.01420652,\n",
       "       -0.01440652, -0.01430652, -0.01450652, -0.01460652, -0.01460652,\n",
       "       -0.01430652, -0.01410652, -0.01410652, -0.01400652, -0.01360652,\n",
       "       -0.01360652, -0.01360652, -0.01350652, -0.01350652, -0.01350652,\n",
       "       -0.01360652, -0.01350652, -0.01360652, -0.01380652, -0.01360652,\n",
       "       -0.01360652, -0.01360652, -0.01350652, -0.01350652, -0.01330652,\n",
       "       -0.01300652, -0.01310652, -0.01310652, -0.01310652, -0.01310652,\n",
       "       -0.01290652, -0.01290652, -0.01290652, -0.01300652, -0.01290652,\n",
       "       -0.01300652, -0.01320652, -0.01320652, -0.01330652, -0.01310652,\n",
       "       -0.01280652, -0.01290652, -0.01260652, -0.01260652, -0.01260652,\n",
       "       -0.01270652, -0.01260652, -0.01290652, -0.01260652, -0.01280652,\n",
       "       -0.01280652, -0.01290652, -0.01290652, -0.01280652, -0.01300652,\n",
       "       -0.01290652, -0.01300652, -0.01280652, -0.01270652, -0.01280652,\n",
       "       -0.01290652, -0.01300652, -0.01270652, -0.01270652, -0.01240652,\n",
       "       -0.01250652, -0.01250652, -0.01240652, -0.01230652, -0.01230652,\n",
       "       -0.01260652, -0.01250652, -0.01250652, -0.01260652, -0.01230652,\n",
       "       -0.01230652, -0.01230652, -0.01220652, -0.01220652, -0.01190652,\n",
       "       -0.01170652, -0.01180652, -0.01190652, -0.01220652, -0.01240652,\n",
       "       -0.01230652, -0.01220652, -0.01240652, -0.01240652, -0.01230652,\n",
       "       -0.01220652, -0.01220652, -0.01220652, -0.01210652, -0.01200652,\n",
       "       -0.01220652, -0.01220652, -0.01210652, -0.01180652, -0.01170652,\n",
       "       -0.01170652, -0.01160652, -0.01130652, -0.01140652, -0.01140652,\n",
       "       -0.01140652, -0.01130652, -0.01140652, -0.01110652, -0.01120652,\n",
       "       -0.01130652, -0.01140652, -0.01130652, -0.01150652, -0.01150652,\n",
       "       -0.01150652, -0.01150652, -0.01180652, -0.01170652, -0.01150652,\n",
       "       -0.01150652, -0.01150652, -0.01150652, -0.01120652, -0.01120652,\n",
       "       -0.01120652, -0.01130652, -0.01120652, -0.01100652, -0.01080652,\n",
       "       -0.01090652, -0.01100652, -0.01100652, -0.01100652, -0.01130652,\n",
       "       -0.01130652, -0.01120652, -0.01130652, -0.01120652, -0.01130652,\n",
       "       -0.01130652, -0.01140652, -0.01130652, -0.01150652, -0.01180652,\n",
       "       -0.01180652, -0.01130652, -0.01130652, -0.01140652, -0.01140652,\n",
       "       -0.01140652, -0.01140652, -0.01140652, -0.01110652, -0.01090652,\n",
       "       -0.01100652, -0.01100652, -0.01090652, -0.01080652, -0.01100652,\n",
       "       -0.01100652, -0.01110652, -0.01110652, -0.01140652, -0.01140652,\n",
       "       -0.01140652, -0.01140652, -0.01130652, -0.01140652, -0.01120652,\n",
       "       -0.01120483, -0.01120483, -0.01120483, -0.0109048 , -0.01120483,\n",
       "       -0.01110482, -0.01110482, -0.0109048 , -0.0109048 , -0.01070478,\n",
       "       -0.0109048 , -0.01110482, -0.0109048 , -0.0109048 , -0.01100481,\n",
       "       -0.01110482, -0.01120483, -0.01140485, -0.01130484, -0.01130484,\n",
       "       -0.01140485, -0.01140485, -0.01160487, -0.01140485, -0.01130484,\n",
       "       -0.01140485, -0.01130484, -0.01080479, -0.01060477, -0.01060477,\n",
       "       -0.01040475, -0.01030474, -0.01040475, -0.01030296, -0.01020294,\n",
       "       -0.01020115, -0.01010112, -0.01040121, -0.01030118, -0.01030118,\n",
       "       -0.01000109, -0.01000109, -0.00980103, -0.00980103, -0.00980103,\n",
       "       -0.00989924, -0.01009932, -0.01019936, -0.01009932, -0.01009932,\n",
       "       -0.00999928, -0.00979737, -0.00989742, -0.00979553, -0.00989559,\n",
       "       -0.00989195, -0.00968995, -0.00958615, -0.00968441, -0.00948417,\n",
       "       -0.0093803 , -0.00918002, -0.00907798, -0.00897591, -0.00887575,\n",
       "       -0.00897399, -0.00887382, -0.00857136, -0.008371  , -0.00847118,\n",
       "       -0.00847118, -0.00866764, -0.00886804, -0.00876784, -0.0087659 ,\n",
       "       -0.0086618 , -0.0086618 , -0.00856157, -0.0084574 , -0.0086579 ,\n",
       "       -0.00865205, -0.00834922, -0.00844951, -0.00814664, -0.00824694,\n",
       "       -0.00824495, -0.00834328, -0.0084436 , -0.00843965, -0.00833733,\n",
       "       -0.00833534, -0.00833534, -0.00843373, -0.00832939, -0.00842978,\n",
       "       -0.00862274, -0.00882167, -0.00892211, -0.00902255, -0.00892211,\n",
       "       -0.00882167, -0.00892018, -0.00921774, -0.0090168 , -0.00911345,\n",
       "       -0.00890861, -0.00890668, -0.0090072 , -0.0090072 , -0.00910773,\n",
       "       -0.00890668, -0.00859727, -0.00869783, -0.0089976 , -0.00899183,\n",
       "       -0.00889123, -0.00858549, -0.00858353, -0.00858353, -0.00857959,\n",
       "       -0.00857173, -0.00866655, -0.00856386, -0.00855598, -0.00855401,\n",
       "       -0.00854612, -0.00833849, -0.00843538, -0.00853033, -0.00832253,\n",
       "       -0.00832053, -0.00821958, -0.00801363, -0.0081045 , -0.00830454,\n",
       "       -0.00839561, -0.00869493, -0.00898471, -0.00918705, -0.00928061,\n",
       "       -0.00927298, -0.00946417, -0.00935905, -0.00895176, -0.00894205,\n",
       "       -0.00842907, -0.00831358, -0.00831158, -0.00841309, -0.00840309,\n",
       "       -0.00858639, -0.00888944, -0.00868213, -0.00867423, -0.00856652,\n",
       "       -0.00845675, -0.00834689, -0.00834287, -0.00802906, -0.00801678,\n",
       "       -0.0081106 , -0.00799216, -0.0081862 , -0.00817398, -0.00816379,\n",
       "       -0.00825388, -0.00835217, -0.00834003, -0.0084364 , -0.00851879,\n",
       "       -0.00840815, -0.00869802, -0.00878682, -0.00846238, -0.00845227,\n",
       "       -0.00884604, -0.00904025, -0.00892335, -0.00881027, -0.00888767,\n",
       "       -0.00877636, -0.00907269, -0.00916634, -0.00914672, -0.00923664,\n",
       "       -0.00943626, -0.00941105, -0.00929351, -0.00928177, -0.00895581,\n",
       "       -0.00904799, -0.00894385, -0.00893186, -0.00912644, -0.00920115,\n",
       "       -0.00928397, -0.0093611 , -0.00893217, -0.00891407, -0.00879096,\n",
       "       -0.00899088, -0.00907992, -0.00896273, -0.00905389, -0.00892642,\n",
       "       -0.00942578, -0.00940407, -0.00949597, -0.00948021, -0.00945257,\n",
       "       -0.00954282, -0.00930673, -0.00928874, -0.00926471, -0.00935918,\n",
       "       -0.00933719, -0.00931314, -0.00917806, -0.00936589, -0.0092386 ,\n",
       "       -0.00911103, -0.00917365, -0.00937065, -0.00924063, -0.00923045,\n",
       "       -0.00942603, -0.00951193, -0.00959201, -0.00977283, -0.00963228,\n",
       "       -0.00971296, -0.00979988, -0.00978191, -0.00986512, -0.00972578,\n",
       "       -0.00935858, -0.00910597, -0.00875948, -0.00862386, -0.00860669,\n",
       "       -0.00879724, -0.00876309, -0.00917803, -0.0092616 , -0.00899541,\n",
       "       -0.0090875 , -0.00882861, -0.00880495, -0.00877475, -0.00874879,\n",
       "       -0.00871625, -0.00868141, -0.00875676, -0.00859377, -0.00867149,\n",
       "       -0.00874291, -0.00904377, -0.00901344, -0.00919345, -0.00948008,\n",
       "       -0.00919318, -0.00924294, -0.00918635, -0.00937387, -0.00945499,\n",
       "       -0.00941168, -0.00937906, -0.0094585 , -0.01000961, -0.01008428,\n",
       "       -0.01004624, -0.00977515, -0.01009381, -0.00994614, -0.01014811,\n",
       "       -0.00986224, -0.00992902, -0.01000697, -0.01005296, -0.01024081,\n",
       "       -0.0104531 , -0.01041912, -0.01074038, -0.01056903, -0.01050943,\n",
       "       -0.01033632, -0.00992248, -0.00975116, -0.0094585 , -0.00965634,\n",
       "       -0.00959257, -0.00940915, -0.00909322, -0.00915626, -0.00895519])"
      ]
     },
     "execution_count": 20,
     "metadata": {},
     "output_type": "execute_result"
    }
   ],
   "source": [
    "dimer_corr[0,1]"
   ]
  },
  {
   "cell_type": "code",
   "execution_count": 60,
   "id": "sonic-allen",
   "metadata": {},
   "outputs": [],
   "source": [
    "sections1 = np.arange(P.shape[1])\n",
    "_, mels1 = operators[0].get_conn_flattened(P[0,:,:], sections1)\n",
    "sub1 = mels1.mean().real\n",
    "mels1 = mels1.real\n",
    "\n",
    "\n",
    "\n",
    "sub2 = operators[1].get_conn_flattened(P[0,:,:], sections1)[1].mean().real \n",
    "\n",
    "P_ = P.reshape(-1,P.shape[-1])\n",
    "sections2 = np.zeros(P_.shape[0])\n",
    "\n",
    "_, mels2 = operators[1].get_conn_flattened(P.reshape(-1,P.shape[-1]), sections2)\n",
    "mels2 = mels2.reshape(P.shape[0], P.shape[1]).real\n",
    "mels2_list= cal_mels(mels2, T, t_list, 4)\n",
    "\n",
    "num_samples = (mels2_list != 4).sum(axis=1)\n",
    "mels2_list[mels2_list == 4] = 0\n",
    "\n",
    "(mels2_list * mels1).sum(axis=1)/num_samples - sub1*sub2"
   ]
  },
  {
   "cell_type": "code",
   "execution_count": 378,
   "id": "green-pipeline",
   "metadata": {},
   "outputs": [],
   "source": [
    "g = nk.graph.Graph(nodes = [i for i in range(length[0] * length[1] * 2)])\n",
    "hi = nk.hilbert.Spin(s=0.5, graph=g)\n",
    "\n",
    "\n",
    "l = []\n",
    "for i in range(length[0]):\n",
    "    for j in range(length[1]):\n",
    "        l.append([i, j])\n",
    "l = np.array(l)\n",
    "\n",
    "a_ = [a for _ in range(np.prod(length))]\n",
    "a = np.array(a_)\n",
    "\n",
    "edges, colors = hex_.dimer_corr(l,a)\n",
    "operators = f.return_dimer_operator(hi, edges, colors)\n",
    "sections = np.arange(P.shape[0])\n",
    "\n",
    "_, mels1 = operators[0].get_conn_flattened(P[:,0,:], sections)\n",
    "sub1 = operators[0].get_conn_flattened(P[:,0,:], sections)[1].mean().real\n",
    "\n",
    "dimer_corr = np.zeros((length[0],length[1],t_list.shape[0]))\n",
    "dimer_std = np.zeros((length[0],length[1],t_list.shape[0]))\n",
    "\n"
   ]
  },
  {
   "cell_type": "code",
   "execution_count": 157,
   "id": "artificial-education",
   "metadata": {},
   "outputs": [
    {
     "data": {
      "text/plain": [
       "array([      0.,   11781.,   13620., ..., 1000000., 1000000.,       0.])"
      ]
     },
     "execution_count": 157,
     "metadata": {},
     "output_type": "execute_result"
    }
   ],
   "source": [
    "for l1 in range(length[0]):\n",
    "    for l2 in range(length[1]):\n",
    "        sub2 = operators[1].get_conn_flattened(P[:,0,:], sections)[1].mean().real \n",
    "        for i in range(t_list.shape[0]):\n",
    "            _, mels2 = operators[l1 * length[1] + l2].get_conn_flattened(P[:,i,:], sections)\n",
    "            dimer_corr[l1,l2,i] = np.real(((mels1 * mels2 ).mean()))\n",
    "            dimer_std[l1,l2,i] = np.real(((mels1 * mels2 ).std()))\n",
    "        dimer_corr[l1,l2] -= sub1 * sub2\n",
    "        dimer_std[l1,l2] /= np.sqrt(P.shape[0])"
   ]
  },
  {
   "cell_type": "code",
   "execution_count": 130,
   "id": "limited-damages",
   "metadata": {},
   "outputs": [
    {
     "data": {
      "text/plain": [
       "array([ 0,  1,  2,  3,  4,  5,  6,  7,  8,  9, 10, 11, 12, 13, 14, 15, 16,\n",
       "       17, 18, 19, 20, 21, 22, 23, 24, 25, 26, 27, 28, 29, 30, 31])"
      ]
     },
     "execution_count": 130,
     "metadata": {},
     "output_type": "execute_result"
    }
   ],
   "source": [
    "t_list"
   ]
  },
  {
   "cell_type": "code",
   "execution_count": 131,
   "id": "frequent-civilization",
   "metadata": {},
   "outputs": [
    {
     "data": {
      "text/plain": [
       "array([[0.00000000e+00, 0.00000000e+00, 0.00000000e+00, ...,\n",
       "        0.00000000e+00, 0.00000000e+00, 0.00000000e+00],\n",
       "       [6.50003037e-03, 4.14623515e-02, 1.28183943e-02, ...,\n",
       "        8.76878538e-04, 1.46357781e-01, 1.17844909e-02],\n",
       "       [2.79099326e-02, 9.92815279e-02, 7.54051726e-02, ...,\n",
       "        2.37202743e-02, 1.58896211e-01, 3.93037399e-02],\n",
       "       ...,\n",
       "       [5.30711799e+00, 5.04581071e+00, 4.47723092e+00, ...,\n",
       "        5.51410925e+00, 5.77221651e+00, 5.09853167e+00],\n",
       "       [5.32337520e+00, 5.08316312e+00, 4.52526924e+00, ...,\n",
       "        5.63484709e+00, 6.00703305e+00, 5.18120553e+00],\n",
       "       [5.39683269e+00, 5.16378228e+00, 4.54716179e+00, ...,\n",
       "        5.63932573e+00, 6.01152956e+00, 5.19258294e+00]])"
      ]
     },
     "execution_count": 131,
     "metadata": {},
     "output_type": "execute_result"
    }
   ],
   "source": [
    "T"
   ]
  },
  {
   "cell_type": "code",
   "execution_count": 86,
   "id": "practical-modern",
   "metadata": {},
   "outputs": [],
   "source": [
    "ind1, ind2 = np.where(np.logical_and(0<=T, T<1))"
   ]
  },
  {
   "cell_type": "code",
   "execution_count": 90,
   "id": "antique-short",
   "metadata": {},
   "outputs": [
    {
     "data": {
      "text/plain": [
       "array([[-1, -1, -1, ..., -1, -1, -1],\n",
       "       [-1, -1,  1, ..., -1, -1, -1],\n",
       "       [-1, -1, -1, ..., -1, -1, -1],\n",
       "       ...,\n",
       "       [-1,  1, -1, ...,  1,  1,  1],\n",
       "       [-1, -1, -1, ..., -1, -1, -1],\n",
       "       [-1,  1, -1, ...,  1,  1,  1]], dtype=int8)"
      ]
     },
     "execution_count": 90,
     "metadata": {},
     "output_type": "execute_result"
    }
   ],
   "source": [
    "P[ind1, ind2]"
   ]
  },
  {
   "cell_type": "code",
   "execution_count": 57,
   "id": "artificial-journey",
   "metadata": {},
   "outputs": [],
   "source": [
    "X = samples_state.astype(np.int8)"
   ]
  },
  {
   "cell_type": "code",
   "execution_count": 74,
   "id": "freelance-familiar",
   "metadata": {},
   "outputs": [],
   "source": [
    "log_val_kernel = ma._log_val_kernel\n",
    "_w = ma._w\n",
    "_a = ma._a\n",
    "_b = ma._b\n",
    "_r = ma._r"
   ]
  },
  {
   "cell_type": "code",
   "execution_count": 85,
   "id": "short-seeker",
   "metadata": {},
   "outputs": [],
   "source": [
    "sections = np.ones(X.shape[0])"
   ]
  },
  {
   "cell_type": "code",
   "execution_count": 77,
   "id": "baking-translator",
   "metadata": {},
   "outputs": [
    {
     "name": "stdout",
     "output_type": "stream",
     "text": [
      "0.025664091110229492\n"
     ]
    }
   ],
   "source": [
    "s = time.time()\n",
    "log_val_prime = np.real(log_val_kernel(X.astype(np.float64), None, _w, _a, _b, _r))\n",
    "print(time.time()-s)"
   ]
  },
  {
   "cell_type": "code",
   "execution_count": 333,
   "id": "solid-drove",
   "metadata": {},
   "outputs": [],
   "source": [
    "@jit(fastmath=True)\n",
    "def numpy_log_cosh_sum(x, out):\n",
    "#     x = x * np.sign(x.real)\n",
    "    for i in range(x.shape[0]):\n",
    "        for j in range(x.shape[1]):\n",
    "            out[i] += x[i,j] - np.log(2.0) + np.log(1.0 + np.exp(-2.0 * x[i,j]))\n",
    "    return out\n",
    "\n",
    "@jit(fastmath=True)\n",
    "def _log_cosh_sum(x, out):\n",
    "    x = x * np.sign(x.real)\n",
    "    for i in range(x.shape[0]):\n",
    "        out[i] = np.sum(x[i] - np.log(2.0) + np.log(1.0 + np.exp(-2.0 * x[i])))\n",
    "    return out\n",
    "\n",
    "@njit\n",
    "def _dot(X, w, out):\n",
    "    \n",
    "    for i in range(X.shape[0]):\n",
    "        for j in range(w.shape[1]):\n",
    "#             out_ij = out[i,j]\n",
    "            for l in range(X.shape[1]):\n",
    "                out[i,j] += X[i,l] * w[l,j]\n",
    "    return out\n",
    "    \n",
    "    \n",
    "    "
   ]
  },
  {
   "cell_type": "code",
   "execution_count": 345,
   "id": "unauthorized-filter",
   "metadata": {},
   "outputs": [
    {
     "name": "stdout",
     "output_type": "stream",
     "text": [
      "CPU times: user 19 ms, sys: 0 ns, total: 19 ms\n",
      "Wall time: 18.9 ms\n"
     ]
    },
    {
     "data": {
      "text/plain": [
       "array([0.7654612 , 0.76811602, 0.76309587, ..., 0.75646857, 0.77094005,\n",
       "       0.75896698])"
      ]
     },
     "execution_count": 345,
     "metadata": {},
     "output_type": "execute_result"
    }
   ],
   "source": [
    "%%time \n",
    "    out = np.empty(X.shape[0], dtype=np.float64)\n",
    "    _log_cosh_sum(r, out)"
   ]
  },
  {
   "cell_type": "code",
   "execution_count": 349,
   "id": "pending-atmosphere",
   "metadata": {},
   "outputs": [
    {
     "name": "stdout",
     "output_type": "stream",
     "text": [
      "CPU times: user 15.4 ms, sys: 0 ns, total: 15.4 ms\n",
      "Wall time: 15.4 ms\n"
     ]
    },
    {
     "data": {
      "text/plain": [
       "array([0.7654612 , 0.76811602, 0.76309587, ..., 0.76520739, 0.77656835,\n",
       "       0.75908644])"
      ]
     },
     "execution_count": 349,
     "metadata": {},
     "output_type": "execute_result"
    }
   ],
   "source": [
    "%%time \n",
    "    out = np.empty(X.shape[0], dtype=np.float64)\n",
    "    numpy_log_cosh_sum(r, out)"
   ]
  },
  {
   "cell_type": "code",
   "execution_count": 327,
   "id": "homeless-budapest",
   "metadata": {},
   "outputs": [],
   "source": [
    "out = np.empty(X.shape[0], dtype=np.float64)"
   ]
  },
  {
   "cell_type": "code",
   "execution_count": 328,
   "id": "suitable-savage",
   "metadata": {},
   "outputs": [
    {
     "data": {
      "text/plain": [
       "array([[ 0.00535431, -0.08177295,  0.06112185, ..., -0.06396568,\n",
       "         0.02583953,  0.02139704],\n",
       "       [-0.00981531,  0.26920866,  0.281769  , ...,  0.1109706 ,\n",
       "         0.1070953 ,  0.03293422],\n",
       "       [ 0.01600842,  0.11044312,  0.01940674, ...,  0.1530982 ,\n",
       "         0.11114629, -0.00498917],\n",
       "       ...,\n",
       "       [ 0.18495536,  0.00642587, -0.1271401 , ...,  0.10302041,\n",
       "        -0.09885506, -0.09689404],\n",
       "       [ 0.1054339 , -0.02622662,  0.01161515, ...,  0.04229888,\n",
       "        -0.0183555 , -0.19516845],\n",
       "       [ 0.06722916, -0.11148691,  0.0695765 , ...,  0.05926635,\n",
       "        -0.01534759,  0.05655404]])"
      ]
     },
     "execution_count": 328,
     "metadata": {},
     "output_type": "execute_result"
    }
   ],
   "source": [
    "X.dot(_w)"
   ]
  },
  {
   "cell_type": "code",
   "execution_count": 329,
   "id": "unique-petroleum",
   "metadata": {},
   "outputs": [
    {
     "data": {
      "text/plain": [
       "array([[ 0.00535431, -0.08177295,  0.06112185, ..., -0.06396568,\n",
       "         0.02583953,  0.02139704],\n",
       "       [-0.00981531,  0.26920866,  0.281769  , ...,  0.1109706 ,\n",
       "         0.1070953 ,  0.03293422],\n",
       "       [ 0.01600842,  0.11044312,  0.01940674, ...,  0.1530982 ,\n",
       "         0.11114629, -0.00498917],\n",
       "       ...,\n",
       "       [ 0.18495536,  0.00642587, -0.1271401 , ...,  0.10302041,\n",
       "        -0.09885506, -0.09689404],\n",
       "       [ 0.1054339 , -0.02622662,  0.01161515, ...,  0.04229888,\n",
       "        -0.0183555 , -0.19516845],\n",
       "       [ 0.06722916, -0.11148691,  0.0695765 , ...,  0.05926635,\n",
       "        -0.01534759,  0.05655404]])"
      ]
     },
     "execution_count": 329,
     "metadata": {},
     "output_type": "execute_result"
    }
   ],
   "source": [
    "out_w = np.zeros((X.shape[0], _w.shape[1]), dtype=np.float64)\n",
    "_dot(X, _w, out_w)"
   ]
  },
  {
   "cell_type": "code",
   "execution_count": 273,
   "id": "confused-uganda",
   "metadata": {},
   "outputs": [
    {
     "data": {
      "text/plain": [
       "array([6.94676642e-310, 4.65639296e-310, 4.65639060e-310, ...,\n",
       "       0.00000000e+000, 4.65639084e-310, 0.00000000e+000])"
      ]
     },
     "execution_count": 273,
     "metadata": {},
     "output_type": "execute_result"
    }
   ],
   "source": [
    "# %%time    \n",
    "\n",
    "r = X.dot(_w)\n",
    "numpy_log_cosh_sum(r, out)"
   ]
  },
  {
   "cell_type": "code",
   "execution_count": 106,
   "id": "intellectual-vegetation",
   "metadata": {},
   "outputs": [
    {
     "data": {
      "text/plain": [
       "array([0.7654612 , 0.76811602, 0.76309587, ..., 0.75646857, 0.77094005,\n",
       "       0.75896698])"
      ]
     },
     "execution_count": 106,
     "metadata": {},
     "output_type": "execute_result"
    }
   ],
   "source": [
    "out"
   ]
  },
  {
   "cell_type": "code",
   "execution_count": 111,
   "id": "athletic-dress",
   "metadata": {},
   "outputs": [
    {
     "name": "stdout",
     "output_type": "stream",
     "text": [
      "CPU times: user 285 ms, sys: 20 ms, total: 305 ms\n",
      "Wall time: 26 ms\n"
     ]
    },
    {
     "data": {
      "text/plain": [
       "array([0.7654612 +0.j, 0.76811602+0.j, 0.76309587+0.j, ...,\n",
       "       0.75646857+0.j, 0.77094005+0.j, 0.75896698+0.j])"
      ]
     },
     "execution_count": 111,
     "metadata": {},
     "output_type": "execute_result"
    }
   ],
   "source": [
    "%%time\n",
    "ma.log_val(X)"
   ]
  },
  {
   "cell_type": "code",
   "execution_count": 10,
   "id": "favorite-juvenile",
   "metadata": {},
   "outputs": [],
   "source": [
    "t_list = np.linspace(0, 10, 11)"
   ]
  },
  {
   "cell_type": "code",
   "execution_count": 11,
   "id": "closed-legislature",
   "metadata": {},
   "outputs": [],
   "source": [
    "T_ind = np.argwhere(np.logical_and(T[:,:,None] <t_list[None,None,1:], t_list[None,None,:-1]<=T[:,:,None]))"
   ]
  },
  {
   "cell_type": "code",
   "execution_count": 12,
   "id": "numerical-borough",
   "metadata": {},
   "outputs": [
    {
     "data": {
      "text/plain": [
       "(array([0, 0, 0, 0, 0, 0, 0, 0, 0, 0, 1, 1, 1, 1, 1, 1, 1, 1, 1, 1, 2, 2,\n",
       "        2, 2, 2, 2, 2, 2, 2, 2, 3, 3, 3, 3, 3, 3, 3, 3, 3, 3, 4, 4, 4, 4,\n",
       "        4, 4, 4, 4, 4, 4, 5, 5, 5, 5, 5, 5, 5, 5, 5, 5, 6, 6, 6, 6, 6, 6,\n",
       "        6, 6, 6, 6, 7, 7, 7, 7, 7, 7, 7, 7, 7, 7, 8, 8, 8, 8, 8, 8, 8, 8,\n",
       "        8, 8, 9, 9, 9, 9, 9, 9, 9, 9, 9, 9]),\n",
       " array([0, 1, 2, 3, 4, 5, 6, 7, 8, 9, 0, 1, 2, 3, 4, 5, 6, 7, 8, 9, 0, 1,\n",
       "        2, 3, 4, 5, 6, 7, 8, 9, 0, 1, 2, 3, 4, 5, 6, 7, 8, 9, 0, 1, 2, 3,\n",
       "        4, 5, 6, 7, 8, 9, 0, 1, 2, 3, 4, 5, 6, 7, 8, 9, 0, 1, 2, 3, 4, 5,\n",
       "        6, 7, 8, 9, 0, 1, 2, 3, 4, 5, 6, 7, 8, 9, 0, 1, 2, 3, 4, 5, 6, 7,\n",
       "        8, 9, 0, 1, 2, 3, 4, 5, 6, 7, 8, 9]))"
      ]
     },
     "execution_count": 12,
     "metadata": {},
     "output_type": "execute_result"
    }
   ],
   "source": [
    "T_ind[:,[0,1]][:,0], T_ind[:,[0,1]][:,1]"
   ]
  },
  {
   "cell_type": "code",
   "execution_count": 13,
   "id": "dental-vault",
   "metadata": {},
   "outputs": [
    {
     "data": {
      "text/plain": [
       "array([0, 0, 0, 0, 0, 0, 0, 0, 0, 0, 0, 0, 0, 0, 0, 0, 0, 0, 0, 0, 0, 0,\n",
       "       0, 0, 0, 0, 0, 0, 0, 0, 0, 0, 0, 0, 0, 0, 0, 0, 0, 0, 0, 0, 0, 0,\n",
       "       0, 0, 0, 0, 0, 0, 0, 0, 0, 0, 0, 0, 0, 0, 0, 0, 0, 0, 0, 0, 0, 0,\n",
       "       0, 0, 0, 0, 0, 0, 0, 0, 0, 0, 0, 0, 0, 0, 0, 0, 0, 0, 0, 0, 0, 0,\n",
       "       0, 0, 0, 0, 0, 0, 0, 0, 0, 0, 0, 0])"
      ]
     },
     "execution_count": 13,
     "metadata": {},
     "output_type": "execute_result"
    }
   ],
   "source": [
    "T_ind[:,2]"
   ]
  },
  {
   "cell_type": "code",
   "execution_count": 14,
   "id": "mechanical-wilderness",
   "metadata": {},
   "outputs": [
    {
     "data": {
      "text/plain": [
       "array([[ 1,  1,  1, ...,  1,  1,  1],\n",
       "       [ 1,  1,  1, ...,  1,  1, -1],\n",
       "       [ 1, -1,  1, ...,  1,  1, -1],\n",
       "       ...,\n",
       "       [ 1, -1,  1, ..., -1, -1, -1],\n",
       "       [-1, -1,  1, ...,  1, -1, -1],\n",
       "       [-1,  1,  1, ...,  1, -1, -1]], dtype=int8)"
      ]
     },
     "execution_count": 14,
     "metadata": {},
     "output_type": "execute_result"
    }
   ],
   "source": [
    "P[T_ind[:,[0,1]][:,0], T_ind[:,[0,1]][:,1]]"
   ]
  },
  {
   "cell_type": "code",
   "execution_count": 15,
   "id": "allied-toner",
   "metadata": {},
   "outputs": [
    {
     "data": {
      "text/plain": [
       "array([ 0, 91, 31, 21, 41, 11, 92, 32, 81, 12, 71, 22, 82, 51, 42,  1, 43,\n",
       "       72, 52, 53, 83, 13, 23, 14, 73, 33, 44, 93, 74, 75, 54, 15, 24, 94,\n",
       "       34, 61, 84, 85, 55, 76,  2, 45, 35, 25, 62, 77, 63, 64, 78, 95, 26,\n",
       "       96, 86, 97, 46, 16, 65, 56, 57, 66, 27, 28, 79, 98, 67, 29, 58,  3,\n",
       "       36, 37, 47, 59, 48, 99,  4,  5, 17, 38, 39, 68, 49, 18, 19, 69, 87,\n",
       "       88, 89,  6,  7,  8,  9])"
      ]
     },
     "execution_count": 15,
     "metadata": {},
     "output_type": "execute_result"
    }
   ],
   "source": [
    "ind"
   ]
  },
  {
   "cell_type": "code",
   "execution_count": 16,
   "id": "latest-connectivity",
   "metadata": {
    "scrolled": true
   },
   "outputs": [
    {
     "name": "stdout",
     "output_type": "stream",
     "text": [
      "0 2500\n"
     ]
    },
    {
     "ename": "TypeError",
     "evalue": "dynamics() takes 3 positional arguments but 4 were given",
     "output_type": "error",
     "traceback": [
      "\u001b[0;31m---------------------------------------------------------------------------\u001b[0m",
      "\u001b[0;31mTypeError\u001b[0m                                 Traceback (most recent call last)",
      "\u001b[0;32m<ipython-input-16-5404cd352c8f>\u001b[0m in \u001b[0;36m<module>\u001b[0;34m\u001b[0m\n\u001b[1;32m      5\u001b[0m     \u001b[0ms\u001b[0m \u001b[0;34m=\u001b[0m \u001b[0mtime\u001b[0m\u001b[0;34m.\u001b[0m\u001b[0mtime\u001b[0m\u001b[0;34m(\u001b[0m\u001b[0;34m)\u001b[0m\u001b[0;34m\u001b[0m\u001b[0;34m\u001b[0m\u001b[0m\n\u001b[1;32m      6\u001b[0m     \u001b[0mprint\u001b[0m\u001b[0;34m(\u001b[0m\u001b[0mi\u001b[0m \u001b[0;34m*\u001b[0m \u001b[0mnum\u001b[0m \u001b[0;34m,\u001b[0m\u001b[0;34m(\u001b[0m\u001b[0mi\u001b[0m\u001b[0;34m+\u001b[0m\u001b[0;36m1\u001b[0m\u001b[0;34m)\u001b[0m\u001b[0;34m*\u001b[0m\u001b[0mnum\u001b[0m\u001b[0;34m)\u001b[0m\u001b[0;34m\u001b[0m\u001b[0;34m\u001b[0m\u001b[0m\n\u001b[0;32m----> 7\u001b[0;31m     \u001b[0mP\u001b[0m\u001b[0;34m.\u001b[0m\u001b[0mappend\u001b[0m\u001b[0;34m(\u001b[0m\u001b[0md\u001b[0m\u001b[0;34m.\u001b[0m\u001b[0mdynamics\u001b[0m\u001b[0;34m(\u001b[0m\u001b[0msamples_state\u001b[0m\u001b[0;34m[\u001b[0m\u001b[0mi\u001b[0m \u001b[0;34m*\u001b[0m \u001b[0mnum\u001b[0m \u001b[0;34m:\u001b[0m \u001b[0;34m(\u001b[0m\u001b[0mi\u001b[0m\u001b[0;34m+\u001b[0m\u001b[0;36m1\u001b[0m\u001b[0;34m)\u001b[0m\u001b[0;34m*\u001b[0m\u001b[0mnum\u001b[0m\u001b[0;34m]\u001b[0m\u001b[0;34m,\u001b[0m \u001b[0mt_list\u001b[0m\u001b[0;34m,\u001b[0m \u001b[0;36m0\u001b[0m\u001b[0;34m)\u001b[0m\u001b[0;34m)\u001b[0m\u001b[0;34m\u001b[0m\u001b[0;34m\u001b[0m\u001b[0m\n\u001b[0m\u001b[1;32m      8\u001b[0m     \u001b[0mprint\u001b[0m\u001b[0;34m(\u001b[0m\u001b[0;34m'{}th loop done : {}'\u001b[0m\u001b[0;34m.\u001b[0m\u001b[0mformat\u001b[0m\u001b[0;34m(\u001b[0m\u001b[0mi\u001b[0m\u001b[0;34m,\u001b[0m \u001b[0mtime\u001b[0m\u001b[0;34m.\u001b[0m\u001b[0mtime\u001b[0m\u001b[0;34m(\u001b[0m\u001b[0;34m)\u001b[0m\u001b[0;34m-\u001b[0m\u001b[0ms\u001b[0m\u001b[0;34m)\u001b[0m\u001b[0;34m)\u001b[0m\u001b[0;34m\u001b[0m\u001b[0;34m\u001b[0m\u001b[0m\n\u001b[1;32m      9\u001b[0m \u001b[0mP\u001b[0m \u001b[0;34m=\u001b[0m \u001b[0mnp\u001b[0m\u001b[0;34m.\u001b[0m\u001b[0mvstack\u001b[0m\u001b[0;34m(\u001b[0m\u001b[0mP\u001b[0m\u001b[0;34m)\u001b[0m\u001b[0;34m\u001b[0m\u001b[0;34m\u001b[0m\u001b[0m\n",
      "\u001b[0;31mTypeError\u001b[0m: dynamics() takes 3 positional arguments but 4 were given"
     ]
    }
   ],
   "source": [
    "num = 2500\n",
    "batch_size = samples_state.shape[0]\n",
    "P = []\n",
    "for i in range(int(1)):\n",
    "    s = time.time()\n",
    "    print(i * num ,(i+1)*num)\n",
    "    P.append(d.dynamics(samples_state[i * num : (i+1)*num], t_list, 0))\n",
    "    print('{}th loop done : {}'.format(i, time.time()-s))\n",
    "P = np.vstack(P)"
   ]
  },
  {
   "cell_type": "code",
   "execution_count": null,
   "id": "numerical-brick",
   "metadata": {},
   "outputs": [],
   "source": [
    "g = nk.graph.Graph(nodes = [i for i in range(length[0] * length[1] * 2)])\n",
    "hi = nk.hilbert.Spin(s=0.5, graph=g)\n",
    "\n",
    "\n",
    "l = []\n",
    "for i in range(length[0]):\n",
    "    for j in range(length[1]):\n",
    "        l.append([i, j])\n",
    "l = np.array(l)\n",
    "\n",
    "a_ = [a for _ in range(np.prod(length))]\n",
    "a = np.array(a_)\n",
    "\n",
    "edges, colors = hex_.dimer_corr(l,a)\n",
    "operators = f.return_dimer_operator(hi, edges, colors)\n",
    "sections = np.arange(P.shape[0])\n",
    "\n",
    "_, mels1 = operators[0].get_conn_flattened(P[:,0,:], sections)\n",
    "sub1 = operators[0].get_conn_flattened(P[:,0,:], sections)[1].mean().real\n",
    "\n",
    "dimer_corr = np.zeros((length[0],length[1],t_list.shape[0]))\n",
    "dimer_std = np.zeros((length[0],length[1],t_list.shape[0]))\n",
    "\n",
    "for l1 in range(length[0]):\n",
    "    for l2 in range(length[1]):\n",
    "        sub2 = operators[1].get_conn_flattened(P[:,0,:], sections)[1].mean().real \n",
    "        for i in range(t_list.shape[0]):\n",
    "            _, mels2 = operators[l1 * length[1] + l2].get_conn_flattened(P[:,i,:], sections)\n",
    "            dimer_corr[l1,l2,i] = np.real(((mels1 * mels2 ).mean()))\n",
    "            dimer_std[l1,l2,i] = np.real(((mels1 * mels2 ).std()))\n",
    "        dimer_corr[l1,l2] -= sub1 * sub2\n",
    "        dimer_std[l1,l2] /= np.sqrt(P.shape[0])"
   ]
  },
  {
   "cell_type": "code",
   "execution_count": null,
   "id": "lovely-cornwall",
   "metadata": {},
   "outputs": [],
   "source": [
    "dimer_corr2 = dimer_corr"
   ]
  },
  {
   "cell_type": "code",
   "execution_count": null,
   "id": "hawaiian-covering",
   "metadata": {
    "scrolled": true
   },
   "outputs": [],
   "source": [
    "dimer_corr2[1,3]"
   ]
  },
  {
   "cell_type": "code",
   "execution_count": null,
   "id": "narrative-armor",
   "metadata": {
    "scrolled": true
   },
   "outputs": [],
   "source": [
    "dimer_corr[1,3]"
   ]
  },
  {
   "cell_type": "code",
   "execution_count": null,
   "id": "mature-robinson",
   "metadata": {},
   "outputs": [],
   "source": [
    "dimer_std[1,3]"
   ]
  },
  {
   "cell_type": "code",
   "execution_count": null,
   "id": "incredible-favorite",
   "metadata": {},
   "outputs": [],
   "source": [
    "t_list"
   ]
  },
  {
   "cell_type": "code",
   "execution_count": null,
   "id": "deluxe-empire",
   "metadata": {},
   "outputs": [],
   "source": []
  }
 ],
 "metadata": {
  "kernelspec": {
   "display_name": "Python 3",
   "language": "python",
   "name": "python3"
  },
  "language_info": {
   "codemirror_mode": {
    "name": "ipython",
    "version": 3
   },
   "file_extension": ".py",
   "mimetype": "text/x-python",
   "name": "python",
   "nbconvert_exporter": "python",
   "pygments_lexer": "ipython3",
   "version": "3.8.5"
  }
 },
 "nbformat": 4,
 "nbformat_minor": 5
}
