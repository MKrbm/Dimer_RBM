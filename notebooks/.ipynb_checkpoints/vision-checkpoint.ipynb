{
 "cells": [
  {
   "cell_type": "code",
   "execution_count": 1,
   "id": "successful-instrument",
   "metadata": {},
   "outputs": [
    {
     "name": "stderr",
     "output_type": "stream",
     "text": [
      "../scripts/functions.py:121: NumbaDeprecationWarning: The 'numba.jitclass' decorator has moved to 'numba.experimental.jitclass' to better reflect the experimental nature of the functionality. Please update your imports to accommodate this change and see https://numba.pydata.org/numba-doc/latest/reference/deprecation.html#change-of-jitclass-location for the time frame.\n",
      "  @jitclass(spec)\n"
     ]
    }
   ],
   "source": [
    "import sys\n",
    "import importlib\n",
    "importlib.reload(sys)\n",
    "sys.path.insert(0,'../')\n",
    "import numpy as np\n",
    "import netket as nk\n",
    "from scripts import functions as f\n",
    "from scripts import new_dynamics, new_dynamics2\n",
    "import os\n",
    "currentpath = os.getcwd()\n",
    "parentdir = os.path.dirname(currentpath)"
   ]
  },
  {
   "cell_type": "code",
   "execution_count": 2,
   "id": "three-blanket",
   "metadata": {},
   "outputs": [
    {
     "name": "stdout",
     "output_type": "stream",
     "text": [
      "2\n"
     ]
    }
   ],
   "source": [
    "length=[4, 4]\n",
    "V = 1.0\n",
    "h = 1.0\n",
    "g = nk.graph.Graph(nodes = [i for i in range(length[0] * length[1] * 2)])\n",
    "hi = nk.hilbert.Spin(s=0.5, graph=g)\n",
    "\n",
    "\n",
    "ham = f.dimer_hamiltonian(V = V, h = h ,length=np.array(length))\n",
    "op_transition1 = f.dimer_flip1(length = np.array(length))\n",
    "\n",
    "\n",
    "hex_ = nk.machine.new_hex(np.array(length))\n",
    "\n",
    "ma = nk.machine.RbmDimer(hi, hex_, alpha = 2, symmetry = True\n",
    "                    ,use_hidden_bias = False, use_visible_bias = False, dtype=float, reverse=True, half=True)\n",
    "ma.init_random_parameters(seed=1234)"
   ]
  },
  {
   "cell_type": "markdown",
   "id": "theoretical-gibraltar",
   "metadata": {},
   "source": [
    "### set params to 0 (represent ground state for v=1)"
   ]
  },
  {
   "cell_type": "code",
   "execution_count": 3,
   "id": "stuffed-person",
   "metadata": {},
   "outputs": [],
   "source": [
    "ma._ws[:] = 0\n",
    "ma._set_bare_parameters(\n",
    "    ma._a, ma._b, ma._w, ma._as, ma._bs, ma._ws, ma._autom, ma._z2\n",
    ")"
   ]
  },
  {
   "cell_type": "markdown",
   "id": "afraid-quest",
   "metadata": {},
   "source": [
    "### create Markov Chain \n",
    "number of markov chain is denoted by n_samples_"
   ]
  },
  {
   "cell_type": "code",
   "execution_count": 4,
   "id": "considerable-marina",
   "metadata": {},
   "outputs": [
    {
     "name": "stdout",
     "output_type": "stream",
     "text": [
      "number of core : 12\n"
     ]
    }
   ],
   "source": [
    "n_jobs = 12\n",
    "\n",
    "g = nk.graph.Graph(nodes = [i for i in range(length[0] * length[1] * 2)])\n",
    "hi = nk.hilbert.Spin(s=0.5, graph=g)\n",
    "\n",
    "op = f.dimer_hamiltonian(h, V,np.array(length))\n",
    "op_transition = f.dimer_flip1(length = np.array(length))\n",
    "hex_ = nk.machine.new_hex(np.array(length))\n",
    "\n",
    "\n",
    "\n",
    "\n",
    "sweep_size = 1000\n",
    "sa_mul = nk.sampler.DimerMetropolisLocal_multi(machine=ma, op=op_transition, length = length, n_chains=1, sweep_size = sweep_size, kernel = 1, n_jobs=n_jobs)\n",
    "sa_mul.reset()\n",
    "_ = sa_mul.generate_samples(1000) # discard the begginings of metropolis sampling."
   ]
  },
  {
   "cell_type": "code",
   "execution_count": 5,
   "id": "outdoor-toilet",
   "metadata": {},
   "outputs": [
    {
     "name": "stdout",
     "output_type": "stream",
     "text": [
      "get samples\n"
     ]
    }
   ],
   "source": [
    "n_samples_ = 10000\n",
    "samples_state = sa_mul.generate_samples(int(n_samples_ / 1))\n",
    "samples_state = samples_state.reshape(-1, ma.hilbert.size)\n",
    "print('get samples')"
   ]
  },
  {
   "cell_type": "code",
   "execution_count": 6,
   "id": "elegant-brick",
   "metadata": {},
   "outputs": [
    {
     "name": "stdout",
     "output_type": "stream",
     "text": [
      "CPU times: user 56.4 ms, sys: 124 ms, total: 180 ms\n",
      "Wall time: 3.15 s\n"
     ]
    }
   ],
   "source": [
    "import scripts.dynamics as Dynamics\n",
    "d = Dynamics.new_dynamics(op, ma)\n",
    "%time P_ = d.multiprocess(samples_state, 300, 12) "
   ]
  },
  {
   "cell_type": "code",
   "execution_count": 7,
   "id": "improving-charity",
   "metadata": {},
   "outputs": [
    {
     "ename": "NameError",
     "evalue": "name 'T' is not defined",
     "output_type": "error",
     "traceback": [
      "\u001b[0;31m---------------------------------------------------------------------------\u001b[0m",
      "\u001b[0;31mNameError\u001b[0m                                 Traceback (most recent call last)",
      "\u001b[0;32m<ipython-input-7-29704cb91324>\u001b[0m in \u001b[0;36m<module>\u001b[0;34m\u001b[0m\n\u001b[0;32m----> 1\u001b[0;31m \u001b[0mT\u001b[0m\u001b[0;34m\u001b[0m\u001b[0;34m\u001b[0m\u001b[0m\n\u001b[0m",
      "\u001b[0;31mNameError\u001b[0m: name 'T' is not defined"
     ]
    }
   ],
   "source": [
    "T"
   ]
  },
  {
   "cell_type": "code",
   "execution_count": null,
   "id": "interstate-greenhouse",
   "metadata": {},
   "outputs": [],
   "source": [
    "P = P_[0]\n",
    "T = P_[1]\n",
    "\n",
    "# t_list = np.linspace(0,50,100)\n",
    "t_list = np.arange(0,20,0.1)\n",
    "P_list = f.process_P(P, T, t_list)"
   ]
  },
  {
   "cell_type": "code",
   "execution_count": null,
   "id": "proved-hawaiian",
   "metadata": {},
   "outputs": [],
   "source": [
    "g = nk.graph.Graph(nodes = [i for i in range(length[0] * length[1] * 2)])\n",
    "hi = nk.hilbert.Spin(s=0.5, graph=g)\n",
    "hex_ = nk.machine.new_hex(np.array(length))"
   ]
  },
  {
   "cell_type": "code",
   "execution_count": null,
   "id": "going-sociology",
   "metadata": {},
   "outputs": [],
   "source": []
  },
  {
   "cell_type": "code",
   "execution_count": null,
   "id": "lasting-anime",
   "metadata": {},
   "outputs": [],
   "source": [
    "from importlib import reload\n",
    "reload(f)\n",
    "\n",
    "\n",
    "operators = f.return_vison(hi, np.arange(hex_.lattice_coor.shape[0]))"
   ]
  },
  {
   "cell_type": "code",
   "execution_count": null,
   "id": "blond-observer",
   "metadata": {},
   "outputs": [],
   "source": [
    "operators[0]._acting_on"
   ]
  },
  {
   "cell_type": "code",
   "execution_count": null,
   "id": "coral-buffer",
   "metadata": {
    "scrolled": true
   },
   "outputs": [],
   "source": [
    "num_samples = (P_list[:,:,0]!=0).sum(axis=1)\n",
    "P_list_ = P_list.reshape(-1,P_list.shape[-1])\n",
    "sections1 = np.arange(P_list.shape[1])\n",
    "sections2 = np.zeros(P_list_.shape[0])\n",
    "\n",
    "_, mels1 = operators[0].get_conn_flattened(P_list[0,:,:], sections1)\n",
    "sub1 = mels1.mean().real\n",
    "mels1 = mels1.real\n",
    "\n",
    "size = len(operators)\n",
    "\n",
    "dimer_corr = np.zeros((size,t_list.shape[0]))\n",
    "dimer_std = np.zeros((size,t_list.shape[0]))\n",
    "\n",
    "\n",
    "for s in range(size):\n",
    "    print(s)\n",
    "    \n",
    "    if operators[s]:\n",
    "        sub2 = operators[s].get_conn_flattened(P_list[0,:,:], sections1)[1].mean().real\n",
    "        _, mels2_ = operators[s].get_conn_flattened(P_list_, sections2)\n",
    "        mels2 = mels2_.reshape(P_list.shape[0], P_list.shape[1]).real\n",
    "        dimer_corr[s] = (mels2 * mels1).mean(axis=1)\n",
    "        dimer_std[s] = (mels2 * mels1).std(axis=1)\n",
    "    else:\n",
    "        dimer_corr[s] = 0\n",
    "        dimer_std[s] = 0"
   ]
  },
  {
   "cell_type": "code",
   "execution_count": null,
   "id": "naked-adaptation",
   "metadata": {},
   "outputs": [],
   "source": [
    "dimer_corr[0]"
   ]
  },
  {
   "cell_type": "code",
   "execution_count": null,
   "id": "welcome-cinema",
   "metadata": {},
   "outputs": [],
   "source": [
    "from plotly import graph_objects as go"
   ]
  },
  {
   "cell_type": "code",
   "execution_count": null,
   "id": "homeless-decision",
   "metadata": {},
   "outputs": [],
   "source": [
    "\n",
    "\n",
    "data = go.Scatter(\n",
    "    x = t_list,\n",
    "    y = dimer_corr[1]\n",
    ")\n",
    "Fig = go.Figure(data = [data])"
   ]
  },
  {
   "cell_type": "code",
   "execution_count": null,
   "id": "japanese-croatia",
   "metadata": {},
   "outputs": [],
   "source": [
    "Fig.show()"
   ]
  },
  {
   "cell_type": "code",
   "execution_count": null,
   "id": "coral-pontiac",
   "metadata": {},
   "outputs": [],
   "source": [
    "import struct\n",
    "with open('your_data.dat', 'wb') as fe:  \n",
    "    for i in range(dimer_corr.shape[0]):\n",
    "        fe.write(struct.pack('{}\\n'.format(dimer_corr[i])))\n",
    "        "
   ]
  },
  {
   "cell_type": "code",
   "execution_count": null,
   "id": "amateur-blast",
   "metadata": {},
   "outputs": [],
   "source": [
    "outfile = open('table1.dat', 'w')\n",
    " # write table header\n",
    "for i in range(dimer_corr.shape[0]):\n",
    "    outfile.write('#{}\\n'.format(i)) \n",
    "    for n in range(dimer_corr.shape[1]):\n",
    "        outfile.write('{}\\t{:.2f}\\t{}\\n'.format(n, t_list[n], dimer_corr[i,n]))\n",
    "    outfile.write('\\n') "
   ]
  },
  {
   "cell_type": "code",
   "execution_count": null,
   "id": "fixed-brooklyn",
   "metadata": {},
   "outputs": [],
   "source": [
    "tau_list = []\n",
    "N = 2000\n",
    "corr1 = []\n",
    "corr2 = np.zeros((81,N),dtype=np.complex128)\n",
    "n = -1\n",
    "import re\n",
    "with open('K4_4V1.0st.dat') as fe:\n",
    "    for line in fe:\n",
    "        \n",
    "        if re.findall(r'#\\d', line):\n",
    "            i = 0\n",
    "            n += 1\n",
    "        else:\n",
    "            try:\n",
    "                match = re.findall(r'[\\d,\\.]+', line)\n",
    "                tau_list.append(float(match[1]))\n",
    "                corr1.append(float(match[2]))\n",
    "                corr2[n,i] = float(match[2]) + 1j*float(match[3])\n",
    "                i+=1\n",
    "            except:\n",
    "                pass"
   ]
  },
  {
   "cell_type": "code",
   "execution_count": null,
   "id": "formal-madonna",
   "metadata": {},
   "outputs": [],
   "source": []
  },
  {
   "cell_type": "code",
   "execution_count": null,
   "id": "vertical-sample",
   "metadata": {},
   "outputs": [],
   "source": []
  }
 ],
 "metadata": {
  "kernelspec": {
   "display_name": "Python 3",
   "language": "python",
   "name": "python3"
  },
  "language_info": {
   "codemirror_mode": {
    "name": "ipython",
    "version": 3
   },
   "file_extension": ".py",
   "mimetype": "text/x-python",
   "name": "python",
   "nbconvert_exporter": "python",
   "pygments_lexer": "ipython3",
   "version": "3.8.5"
  }
 },
 "nbformat": 4,
 "nbformat_minor": 5
}
