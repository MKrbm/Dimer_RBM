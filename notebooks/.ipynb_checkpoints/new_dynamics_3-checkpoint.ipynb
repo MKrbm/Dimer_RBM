{
 "cells": [
  {
   "cell_type": "markdown",
   "id": "capital-model",
   "metadata": {},
   "source": [
    "## This notebook is scarchpad for dynamics\n",
    "\n",
    "The idea is that computational complexity for searching connected states from a given state reduce to $O(1)$ from $O(L^2)$ by using the information from the one before. \n",
    "\n",
    "#### We are going the test the new kenel called \"kernel3\" for 12 x 12 system"
   ]
  },
  {
   "cell_type": "code",
   "execution_count": 1,
   "id": "regular-india",
   "metadata": {},
   "outputs": [],
   "source": [
    "import sys\n",
    "import importlib\n",
    "importlib.reload(sys)\n",
    "sys.path.insert(0,'../')\n",
    "import numpy as np\n",
    "import netket as nk\n",
    "from scripts import functions as f\n",
    "from scripts import new_dynamics, new_dynamics2\n",
    "import os\n",
    "currentpath = os.getcwd()\n",
    "parentdir = os.path.dirname(currentpath)\n",
    "from conf import *"
   ]
  },
  {
   "cell_type": "code",
   "execution_count": 2,
   "id": "athletic-model",
   "metadata": {},
   "outputs": [
    {
     "name": "stdout",
     "output_type": "stream",
     "text": [
      "yoyo\n",
      "2\n"
     ]
    }
   ],
   "source": [
    "length=[4, 4]\n",
    "V = 1.0\n",
    "h = 1.0\n",
    "g = nk.graph.Graph(nodes = [i for i in range(length[0] * length[1] * 2)])\n",
    "hi = nk.hilbert.Spin(s=0.5, graph=g)\n",
    "\n",
    "\n",
    "ham = f.dimer_hamiltonian(V = V, h = h ,length=np.array(length))\n",
    "op_transition1 = f.dimer_flip1(length = np.array(length))\n",
    "\n",
    "\n",
    "hex_ = nk.machine.new_hex(np.array(length))\n",
    "\n",
    "ma = nk.machine.RbmDimer(hi, hex_, alpha = 2, symmetry = True\n",
    "                    ,use_hidden_bias = False, use_visible_bias = False, dtype=float, reverse=True, half=True)\n",
    "ma.init_random_parameters(seed=1234)\n",
    "ma._ws[:] = 0"
   ]
  },
  {
   "cell_type": "code",
   "execution_count": 3,
   "id": "harmful-metropolitan",
   "metadata": {},
   "outputs": [],
   "source": [
    "ma._set_bare_parameters(\n",
    "    ma._a, ma._b, ma._w, ma._as, ma._bs, ma._ws, ma._autom, ma._z2\n",
    ")\n",
    "op, ad2o_o, op_num, label_num  = f.dimer_flip1(length = np.array(length), return_info = True)\n",
    "\n",
    "ad2_bool = np.zeros([ad2o_o.shape[0], ad2o_o.shape[0]], dtype = np.bool)\n",
    "for l in range(ad2o_o.shape[0]):\n",
    "    label = ad2o_o[l]\n",
    "    for op_ in label:\n",
    "        ad2_bool[l,op_] = True\n",
    "        \n",
    "ma.hex.ad2o_o = ad2o_o.astype(np.int64)\n",
    "ma.hex.ad2_bool = ad2_bool"
   ]
  },
  {
   "cell_type": "code",
   "execution_count": 4,
   "id": "handmade-turning",
   "metadata": {},
   "outputs": [
    {
     "name": "stdout",
     "output_type": "stream",
     "text": [
      "number of core : 4\n"
     ]
    },
    {
     "data": {
      "text/plain": [
       "array([[[-1.,  1., -1., ...,  1.,  1.,  1.]],\n",
       "\n",
       "       [[ 1., -1., -1., ..., -1.,  1.,  1.]],\n",
       "\n",
       "       [[ 1.,  1.,  1., ..., -1., -1., -1.]],\n",
       "\n",
       "       ...,\n",
       "\n",
       "       [[-1., -1., -1., ..., -1.,  1., -1.]],\n",
       "\n",
       "       [[ 1.,  1.,  1., ...,  1.,  1.,  1.]],\n",
       "\n",
       "       [[ 1., -1.,  1., ..., -1., -1.,  1.]]])"
      ]
     },
     "execution_count": 4,
     "metadata": {},
     "output_type": "execute_result"
    }
   ],
   "source": [
    "\n",
    "# create save folder.\n",
    "\n",
    "\n",
    "n_jobs = 4\n",
    "\n",
    "g = nk.graph.Graph(nodes = [i for i in range(length[0] * length[1] * 2)])\n",
    "hi = nk.hilbert.Spin(s=0.5, graph=g)\n",
    "\n",
    "        \n",
    "        \n",
    "hex_ = nk.machine.new_hex(np.array(length))\n",
    "\n",
    "\n",
    "\n",
    "\n",
    "sweep_size = 1000\n",
    "sa_mul = nk.sampler.DimerMetropolisLocal_multi(machine=ma, op=op, length = length, n_chains=1, sweep_size = sweep_size, kernel = 1, n_jobs=n_jobs)\n",
    "sa_mul.reset()\n",
    "sa_mul.generate_samples(100) # discard the begginings of metropolis sampling.\n",
    "\n"
   ]
  },
  {
   "cell_type": "code",
   "execution_count": 5,
   "id": "assisted-legislature",
   "metadata": {},
   "outputs": [
    {
     "name": "stdout",
     "output_type": "stream",
     "text": [
      "get samples\n"
     ]
    }
   ],
   "source": [
    "n_samples_ = 10**2\n",
    "samples_state = sa_mul.generate_samples(int(n_samples_ / 1))\n",
    "samples_state = samples_state.reshape(-1, ma.hilbert.size)\n",
    "print('get samples')"
   ]
  },
  {
   "cell_type": "code",
   "execution_count": 26,
   "id": "median-think",
   "metadata": {},
   "outputs": [],
   "source": [
    "import scripts.dynamics_4 as sdy\n",
    "importlib.reload(sdy) \n",
    "t_list = np.arange(0,10,0.1)\n",
    "d = sdy.new_dynamics_one(op, ma)"
   ]
  },
  {
   "cell_type": "code",
   "execution_count": 7,
   "id": "hired-resistance",
   "metadata": {},
   "outputs": [],
   "source": [
    "%load_ext line_profiler"
   ]
  },
  {
   "cell_type": "code",
   "execution_count": 95,
   "id": "latter-tours",
   "metadata": {},
   "outputs": [
    {
     "name": "stdout",
     "output_type": "stream",
     "text": [
      "\n",
      "*** Profile printout saved to text file 'profile6.txt'. \n"
     ]
    }
   ],
   "source": [
    "%lprun -T profile6.txt -f d._dynamics d.dynamics(samples_state, t_list)"
   ]
  },
  {
   "cell_type": "code",
   "execution_count": 148,
   "id": "italic-station",
   "metadata": {},
   "outputs": [],
   "source": [
    "importlib.reload(sdy) \n",
    "import random\n",
    "def d_dynamics(\n",
    "        X,\n",
    "        t_list,\n",
    "        _basis,\n",
    "        _constant,\n",
    "        _diag_mels,\n",
    "        _n_conns,\n",
    "        _mels,\n",
    "        _x_prime,\n",
    "        _acting_on,\n",
    "        _w,\n",
    "        c_r,\n",
    "        s_r,\n",
    "        _ad2o_o,\n",
    "        _ad2_bool    \n",
    "        ):\n",
    "\n",
    "    # basis is float64[:]\n",
    "\n",
    "\n",
    "    batch_size = X.shape[0]\n",
    "    sys_size = X.shape[1]\n",
    "    t_num = len(t_list)\n",
    "    L = X.shape[1]\n",
    "    p_array = np.zeros((batch_size, t_num, L),dtype= np.int8) \n",
    "    p_array[:,0,:] = X[:,:]\n",
    "    X = X.astype(np.int8)\n",
    "    _x_prime = _x_prime[:,:,0,:].astype(np.int8)\n",
    "    _mels = _mels[:,:,0]\n",
    "    t_mels = np.zeros(int(sys_size/4), dtype=np.float64)\n",
    "    conn_op_prime = np.zeros(int(sys_size/4), dtype=np.int32)\n",
    "    conn_op_prime_1 = np.zeros(int(sys_size/4), dtype=np.int32)\n",
    "\n",
    "    acting_on_prime = np.zeros((int(sys_size/4), 2), dtype=np.int32)\n",
    "    acting_on_prime_1 = np.zeros((int(sys_size/4), 2), dtype=np.int32)\n",
    "\n",
    "    x_prime = np.zeros((int(sys_size/4), 2), dtype=np.int32)\n",
    "    op_labels_bool = np.zeros(len(_acting_on), dtype = np.bool)\n",
    "    \n",
    "#     np.random.seed(2021)\n",
    "#         T = np.zeros(batch_size)\n",
    "    t_delta = t_list[1] - t_list[0]\n",
    "\n",
    "    l = 0\n",
    "    for b in range(batch_size):\n",
    "        T = 0\n",
    "        ti_old = np.int64(0)\n",
    "        x_b = X[b]\n",
    "        P = p_array[b]\n",
    "        sections = np.zeros(1, dtype=np.int64)\n",
    "        op_labels = np.arange(len(_acting_on))\n",
    "        n_conn = 0\n",
    "#         print(b)\n",
    "\n",
    "\n",
    "        r = (x_b).astype(np.float64).dot(_w)\n",
    "        \n",
    "        while True:\n",
    "\n",
    "            r = (x_b).astype(np.float64).dot(_w)\n",
    "            \n",
    "            tan = np.tanh(r)\n",
    "            sdy.get_transition_one_2( x_b, c_r, s_r, tan, sections, _basis,_n_conns,  \n",
    "                                 _mels, _x_prime, _acting_on, op_labels, op_labels_bool ,x_prime, \n",
    "                                 acting_on_prime, conn_op_prime, conn_op_prime_1, n_conn, t_mels)\n",
    "            n_conn = sections[0]\n",
    "\n",
    "\n",
    "            \n",
    "            \n",
    "            \n",
    "#             print(n_conn_1)\n",
    "#             print(conn_op_prime_1)\n",
    "            \n",
    "#                 print(x_b)\n",
    "#                 print(x_prime, sites, mels)\n",
    "#                 for n in range(batch_size):\n",
    "#                     a_0[n] = (-1)* mels[sections[n]: sections[n+1]].sum()\n",
    "#             a_0 = (-1) * t_mels[:n_conn].sum()\n",
    "            a_0 = 0\n",
    "            for i in range(n_conn):\n",
    "                a_0 -= t_mels[i]\n",
    "#             print(sections)\n",
    "\n",
    "            r_1 = random.random()\n",
    "            r_2 = random.random()\n",
    "\n",
    "            tau = np.log(1/r_1)/a_0\n",
    "            T += tau\n",
    "\n",
    "#                 print(T,ti_new)\n",
    "            if T > (t_list[-1] + t_delta):\n",
    "                P[ti_old+1:] = x_b\n",
    "                break\n",
    "\n",
    "            ti_new = np.int64(T // t_delta)\n",
    "\n",
    "            if ti_new > ti_old:\n",
    "                P[ti_old+1:ti_new+1] = x_b\n",
    "#                     P[ti_new] = x_b\n",
    "                ti_old = ti_new\n",
    "            s = 0\n",
    "        \n",
    "\n",
    "                \n",
    "            for i in range(n_conn):\n",
    "                s -= t_mels[i]\n",
    "#                 print(type(r_2), type(a_0))\n",
    "                if s >= r_2 * a_0:\n",
    "#                     print(list(x_b))\n",
    "\n",
    "                    acting_on_prime_i = acting_on_prime[i]\n",
    "                    x_prime_i = x_prime[i]\n",
    "                    x_b[acting_on_prime_i] = x_prime_i\n",
    "#                     if not hex_.is_dimer_basis(x_b):\n",
    "#                         raise NameError(\"why\")\n",
    "                    conn_op_prime[:] = conn_op_prime_1\n",
    "                    op_label = conn_op_prime[i]\n",
    "                    op_labels = _ad2o_o[op_label]\n",
    "                    op_labels_bool[:] = _ad2_bool[op_label]\n",
    "#                     print(f\"op_labels : {op_labels}\")\n",
    "#                     print(f\"conn_op_prime : {conn_op_prime_1}\")\n",
    "#                     print(f\"n_conn : {n_conn}\")\n",
    "#                     print(f\"op_label : {op_label}\")\n",
    "#                     print(f\" acting_on_prime_i : {acting_on_prime_i}\")\n",
    "#                     print(\"\\n \", \"-\" * 20, '\\n\\n')\n",
    "#                     r_ = (x_b).astype(np.float64).dot(_w)\n",
    "                    \n",
    "#                     print(t_mels[:n_conn], n_conn)\n",
    "                    \n",
    "#                     r +=  2 * x_prime[i].astype(np.float64).dot(_w[acting_on_prime_i, :])\n",
    "                    r += 2 * (x_prime_i[0] * _w[acting_on_prime_i[0]] + x_prime_i[1] * _w[acting_on_prime_i[1]])\n",
    "\n",
    "                    break\n",
    "            l += 1\n",
    "        p_array[b,:,:] = P[:,:]\n",
    "\n",
    "    return p_array\n",
    "\n",
    "\n"
   ]
  },
  {
   "cell_type": "code",
   "execution_count": 149,
   "id": "viral-tolerance",
   "metadata": {},
   "outputs": [],
   "source": [
    "ad2_bool = np.zeros([ad2o_o.shape[0], ad2o_o.shape[0]], dtype = np.bool)\n",
    "for l in range(ad2o_o.shape[0]):\n",
    "    label = ad2o_o[l]\n",
    "    for op_ in label:\n",
    "        ad2_bool[l,op_] = True"
   ]
  },
  {
   "cell_type": "code",
   "execution_count": 150,
   "id": "induced-exploration",
   "metadata": {},
   "outputs": [
    {
     "data": {
      "text/plain": [
       "array([ True])"
      ]
     },
     "execution_count": 150,
     "metadata": {},
     "output_type": "execute_result"
    }
   ],
   "source": [
    "state = np.ones(samples_state.shape[1])[None, :]\n",
    "hex_.is_dimer_basis(state)"
   ]
  },
  {
   "cell_type": "code",
   "execution_count": 152,
   "id": "dangerous-prime",
   "metadata": {
    "scrolled": true
   },
   "outputs": [
    {
     "name": "stdout",
     "output_type": "stream",
     "text": [
      "\n",
      "*** Profile printout saved to text file 'profile7.txt'. \n"
     ]
    }
   ],
   "source": [
    "%lprun -T profile7.txt -f d_dynamics d_dynamics(samples_state, t_list, d.basis, d.constant, d.diag_mels, d.n_conns, d.mels, d.x_prime, d.acting_on, d._w, d.c_r, d.s_r, ad2o_o, ad2_bool)"
   ]
  },
  {
   "cell_type": "code",
   "execution_count": 106,
   "id": "downtown-stroke",
   "metadata": {},
   "outputs": [
    {
     "data": {
      "text/plain": [
       "23.1"
      ]
     },
     "execution_count": 106,
     "metadata": {},
     "output_type": "execute_result"
    }
   ],
   "source": [
    "1.6 + 4.1+1.9+1.4+1.5+1.9+10.7"
   ]
  },
  {
   "cell_type": "code",
   "execution_count": 14,
   "id": "white-thickness",
   "metadata": {},
   "outputs": [
    {
     "name": "stdout",
     "output_type": "stream",
     "text": [
      "yo\n"
     ]
    },
    {
     "data": {
      "text/plain": [
       "array([0., 0., 0., 0., 0., 0., 0., 0., 0., 0., 0., 0., 0., 0., 0., 0., 0.,\n",
       "       0., 0., 0., 0., 0., 0., 0., 2., 0., 0., 0., 2., 0., 0., 0.])"
      ]
     },
     "execution_count": 14,
     "metadata": {},
     "output_type": "execute_result"
    }
   ],
   "source": [
    "op.get_conn_flattened(samples_state[1:2], np.zeros(1))[0][2] - samples_state[1:2][0]"
   ]
  },
  {
   "cell_type": "code",
   "execution_count": 15,
   "id": "therapeutic-panel",
   "metadata": {},
   "outputs": [],
   "source": [
    "LL = [ 1,  1,  1,  1,  1,  1,  1,  1,  1,  1, -1,  1,  1,  1, -1,  1,  1,\n",
    "        1,  1,  1,  1,  1,  1,  1,  1,  1,  1,  1,  1,  1,  1,  1]\n",
    "test = np.array([LL])"
   ]
  },
  {
   "cell_type": "code",
   "execution_count": 16,
   "id": "distant-dimension",
   "metadata": {},
   "outputs": [
    {
     "data": {
      "text/plain": [
       "array([30, 31, 32, 33, 34, 35, 36, 37, 38, 39, 40, 41, 50, 51, 54, 55, 56,\n",
       "       57, 58, 59, 60, 61, 72, 73, 80, 81])"
      ]
     },
     "execution_count": 16,
     "metadata": {},
     "output_type": "execute_result"
    }
   ],
   "source": [
    "ad2o_o[57]"
   ]
  },
  {
   "cell_type": "code",
   "execution_count": 17,
   "id": "painted-queen",
   "metadata": {},
   "outputs": [
    {
     "name": "stdout",
     "output_type": "stream",
     "text": [
      "yo\n"
     ]
    },
    {
     "data": {
      "text/plain": [
       "(array([[ 1,  1,  1,  1,  1,  1,  1,  1,  1,  1, -1,  1,  1,  1, -1,  1,\n",
       "          1,  1,  1,  1,  1,  1,  1,  1,  1,  1,  1,  1,  1,  1,  1,  1],\n",
       "        [-1,  1,  1,  1, -1,  1,  1,  1,  1,  1, -1,  1,  1,  1, -1,  1,\n",
       "          1,  1,  1,  1,  1,  1,  1,  1,  1,  1,  1,  1,  1,  1,  1,  1],\n",
       "        [ 1,  1,  1,  1,  1,  1,  1,  1, -1,  1, -1,  1, -1,  1, -1,  1,\n",
       "          1,  1,  1,  1,  1,  1,  1,  1,  1,  1,  1,  1,  1,  1,  1,  1],\n",
       "        [ 1,  1,  1,  1,  1,  1,  1,  1,  1,  1, -1,  1,  1,  1, -1,  1,\n",
       "         -1,  1,  1,  1, -1,  1,  1,  1,  1,  1,  1,  1,  1,  1,  1,  1],\n",
       "        [ 1,  1,  1,  1,  1,  1,  1,  1,  1,  1, -1,  1,  1,  1, -1,  1,\n",
       "          1,  1,  1,  1,  1,  1,  1,  1, -1,  1,  1,  1, -1,  1,  1,  1],\n",
       "        [ 1,  1,  1,  1,  1,  1,  1,  1,  1,  1,  1,  1,  1,  1,  1,  1,\n",
       "          1,  1,  1,  1,  1,  1,  1,  1,  1,  1,  1,  1,  1,  1,  1,  1],\n",
       "        [ 1,  1,  1,  1,  1,  1,  1,  1,  1,  1, -1,  1,  1,  1, -1,  1,\n",
       "          1,  1,  1,  1,  1,  1,  1,  1,  1,  1, -1,  1,  1,  1, -1,  1]],\n",
       "       dtype=int8),\n",
       " array([ 0.+0.j, -1.+0.j, -1.+0.j, -1.+0.j, -1.+0.j, -1.+0.j, -1.+0.j]),\n",
       " array([ 0,  3, 11, 17, 23, 58, 71]))"
      ]
     },
     "execution_count": 17,
     "metadata": {},
     "output_type": "execute_result"
    }
   ],
   "source": [
    "op.get_conn_flattened(test, np.zeros(1))"
   ]
  },
  {
   "cell_type": "code",
   "execution_count": 35,
   "id": "joined-medicine",
   "metadata": {},
   "outputs": [
    {
     "data": {
      "text/plain": [
       "<netket.operator._local_operator.DimerLocalOperator at 0x7f7ce00fb8e0>"
      ]
     },
     "execution_count": 35,
     "metadata": {},
     "output_type": "execute_result"
    }
   ],
   "source": [
    "op"
   ]
  },
  {
   "cell_type": "code",
   "execution_count": 47,
   "id": "enabling-allergy",
   "metadata": {},
   "outputs": [
    {
     "data": {
      "text/plain": [
       "array([[ 8,  4,  0, 28],\n",
       "       [16, 12,  8,  4],\n",
       "       [24, 20, 16, 12],\n",
       "       [ 0, 28, 24, 20],\n",
       "       [10,  6,  2, 30],\n",
       "       [18, 14, 10,  6],\n",
       "       [26, 22, 18, 14],\n",
       "       [ 2, 30, 26, 22]])"
      ]
     },
     "execution_count": 47,
     "metadata": {},
     "output_type": "execute_result"
    }
   ],
   "source": [
    "op._acting_on[[3,  9, 15, 21, 51, 57, 63, 69]]"
   ]
  },
  {
   "cell_type": "code",
   "execution_count": 43,
   "id": "negative-eugene",
   "metadata": {},
   "outputs": [
    {
     "data": {
      "text/plain": [
       "array([ 1,  1,  1,  1,  1,  1,  1,  1,  1,  1, -1,  1,  1,  1, -1,  1,  1,\n",
       "        1,  1,  1,  1,  1,  1,  1,  1,  1,  1,  1,  1,  1,  1,  1],\n",
       "      dtype=int8)"
      ]
     },
     "execution_count": 43,
     "metadata": {},
     "output_type": "execute_result"
    }
   ],
   "source": [
    "op_transition.get_conn_flattened(test, np.zeros(1))[0] [-3]"
   ]
  }
 ],
 "metadata": {
  "kernelspec": {
   "display_name": "Python 3",
   "language": "python",
   "name": "python3"
  },
  "language_info": {
   "codemirror_mode": {
    "name": "ipython",
    "version": 3
   },
   "file_extension": ".py",
   "mimetype": "text/x-python",
   "name": "python",
   "nbconvert_exporter": "python",
   "pygments_lexer": "ipython3",
   "version": "3.8.5"
  }
 },
 "nbformat": 4,
 "nbformat_minor": 5
}
