{
 "cells": [
  {
   "cell_type": "markdown",
   "id": "stable-american",
   "metadata": {},
   "source": [
    "## This notebook is scarchpad for new_kernel3\n",
    "\n",
    "The idea is that computational complexity for searching connected states from a given state reduce to $O(1)$ from $O(L^2)$ by using the information from the one before. \n",
    "\n",
    "#### We are going the test the new kenel called \"kernel3\" for 12 x 12 system"
   ]
  },
  {
   "cell_type": "code",
   "execution_count": 4,
   "id": "spoken-adolescent",
   "metadata": {},
   "outputs": [],
   "source": [
    "import sys\n",
    "import importlib\n",
    "importlib.reload(sys)\n",
    "sys.path.insert(0,'../')\n",
    "import numpy as np\n",
    "import netket as nk\n",
    "from scripts import functions as f\n",
    "from scripts import new_dynamics, new_dynamics2\n",
    "import os\n",
    "currentpath = os.getcwd()\n",
    "parentdir = os.path.dirname(currentpath)\n",
    "from conf import *"
   ]
  },
  {
   "cell_type": "code",
   "execution_count": 5,
   "id": "medieval-minimum",
   "metadata": {},
   "outputs": [
    {
     "name": "stdout",
     "output_type": "stream",
     "text": [
      "2\n"
     ]
    }
   ],
   "source": [
    "length = [12, 12]\n",
    "hex_ = nk.machine.new_hex(np.array(length))\n",
    "kernel = 1\n",
    "decay_factor = 1  # or 'sigmoid decay'\n",
    "g = nk.graph.Graph(nodes = [i for i in range(length[0] * length[1] * 2)])\n",
    "hi = nk.hilbert.Spin(s=0.5, graph=g)\n",
    "op = f.dimer_flip1(length = np.array(length))\n",
    "\n",
    "ma = nk.machine.RbmDimer(hi, hex_, alpha = 2, symmetry = True\n",
    "                    ,use_hidden_bias = False, use_visible_bias = False, dtype=float, reverse=True, half=True)\n",
    "ma.init_random_parameters(seed=1234)"
   ]
  },
  {
   "cell_type": "code",
   "execution_count": 6,
   "id": "activated-english",
   "metadata": {},
   "outputs": [
    {
     "name": "stdout",
     "output_type": "stream",
     "text": [
      "yoyo\n",
      "number of core : 12\n"
     ]
    }
   ],
   "source": [
    "V = 1.0\n",
    "h = 0.9\n",
    "\n",
    "ham = f.dimer_hamiltonian(V = V, h = h ,length=np.array(length))\n",
    "\n",
    "\n",
    "n_jobs = 12\n",
    "\n",
    "sa_mul = nk.sampler.DimerMetropolisLocal_multi(machine=ma, op=op\n",
    "    , length = length, n_chains=n_chains, sweep_size = sweep_size, kernel = 1, n_jobs=n_jobs)\n",
    "sampler = sa_mul.sa_list[0]\n",
    "\n"
   ]
  },
  {
   "cell_type": "code",
   "execution_count": 7,
   "id": "continuing-directory",
   "metadata": {},
   "outputs": [],
   "source": [
    "import netket.sampler.numpy.local_kernel as local_kernel\n",
    "sweep_size = np.random.randint(0, 10) + sampler.sweep_size\n",
    "importlib.reload(local_kernel)\n",
    "\n",
    "kernel = local_kernel._DimerLocalKernel_1\n",
    "kernel = kernel(np.array(ma.hilbert.local_states, dtype=np.int8),ma.input_size,\n",
    "                op._basis, op._constant, op._diag_mels, op._n_conns, op._mels, \n",
    "                op._x_prime, op._acting_on, op._acting_size)\n",
    "sampler.reset()\n",
    "state = sampler._state\n",
    "state1 = sampler._state1\n",
    "sections_1 = np.zeros(1, dtype=np.int64)"
   ]
  },
  {
   "cell_type": "markdown",
   "id": "rough-going",
   "metadata": {},
   "source": [
    "## measure execution time for transition function"
   ]
  },
  {
   "cell_type": "code",
   "execution_count": 8,
   "id": "balanced-dealer",
   "metadata": {},
   "outputs": [
    {
     "name": "stdout",
     "output_type": "stream",
     "text": [
      "55.4 ms ± 1.77 ms per loop (mean ± std. dev. of 7 runs, 1 loop each)\n"
     ]
    }
   ],
   "source": [
    "%timeit accepted = kernel.transition(state, state1, sampler._w, None, sweep_size)"
   ]
  },
  {
   "cell_type": "markdown",
   "id": "detected-israel",
   "metadata": {},
   "source": [
    "### measure components of transition functions\n",
    "- get_conn\n",
    "- _log_val_kern\n",
    "\n",
    "each functions are executed sweep_size times"
   ]
  },
  {
   "cell_type": "code",
   "execution_count": 9,
   "id": "accepted-sally",
   "metadata": {},
   "outputs": [
    {
     "name": "stdout",
     "output_type": "stream",
     "text": [
      "37.1 µs ± 123 ns per loop (mean ± std. dev. of 7 runs, 10000 loops each)\n"
     ]
    }
   ],
   "source": [
    "%timeit kernel.get_conn(state, sections_1)"
   ]
  },
  {
   "cell_type": "code",
   "execution_count": 10,
   "id": "better-latvia",
   "metadata": {},
   "outputs": [
    {
     "name": "stdout",
     "output_type": "stream",
     "text": [
      "27 µs ± 256 ns per loop (mean ± std. dev. of 7 runs, 10000 loops each)\n"
     ]
    }
   ],
   "source": [
    "%timeit local_kernel._log_val_kernel(state.astype(np.float64), sampler._w, None)"
   ]
  },
  {
   "cell_type": "code",
   "execution_count": 11,
   "id": "instrumental-noise",
   "metadata": {},
   "outputs": [
    {
     "name": "stdout",
     "output_type": "stream",
     "text": [
      "30.3 ms ± 101 µs per loop (mean ± std. dev. of 7 runs, 10 loops each)\n"
     ]
    }
   ],
   "source": [
    "%%timeit \n",
    "for _ in range(sweep_size):\n",
    "    kernel.get_conn(state, sections_1)"
   ]
  },
  {
   "cell_type": "code",
   "execution_count": 12,
   "id": "quality-delivery",
   "metadata": {},
   "outputs": [
    {
     "name": "stdout",
     "output_type": "stream",
     "text": [
      "22 ms ± 759 µs per loop (mean ± std. dev. of 7 runs, 10 loops each)\n"
     ]
    }
   ],
   "source": [
    "%%timeit\n",
    "for _ in range(sweep_size):\n",
    "    local_kernel._log_val_kernel(state.astype(np.float64), sampler._w, None)"
   ]
  },
  {
   "cell_type": "markdown",
   "id": "postal-validity",
   "metadata": {},
   "source": [
    "### As seen from above results, almost all calculation time comes from these two functions\n",
    "\n",
    "\n",
    "### First, optimize get_conn\n",
    "\n",
    "Since it is applied consectively, we don't need to care about local operators away from the point where last local operator is applied. In the following, I restrict the dimer model to 4 x 4"
   ]
  },
  {
   "cell_type": "code",
   "execution_count": 46,
   "id": "rapid-northeast",
   "metadata": {},
   "outputs": [
    {
     "data": {
      "text/plain": [
       "<module 'scripts.functions' from '../scripts/functions.py'>"
      ]
     },
     "execution_count": 46,
     "metadata": {},
     "output_type": "execute_result"
    }
   ],
   "source": [
    "import netket.machine.functions2 as f2\n",
    "importlib.reload(f2)\n",
    "importlib.reload(f)"
   ]
  },
  {
   "cell_type": "code",
   "execution_count": 47,
   "id": "analyzed-vertical",
   "metadata": {},
   "outputs": [
    {
     "name": "stdout",
     "output_type": "stream",
     "text": [
      "2\n"
     ]
    }
   ],
   "source": [
    "length = [4, 4]\n",
    "hex_ = f2.new_hex(np.array(length))\n",
    "kernel = 1\n",
    "decay_factor = 1  # or 'sigmoid decay'\n",
    "g = nk.graph.Graph(nodes = [i for i in range(length[0] * length[1] * 2)])\n",
    "hi = nk.hilbert.Spin(s=0.5, graph=g)\n",
    "op = f.dimer_flip1(length = np.array(length))\n",
    "\n",
    "ma = nk.machine.RbmDimer(hi, hex_, alpha = 2, symmetry = True\n",
    "                    ,use_hidden_bias = False, use_visible_bias = False, dtype=float, reverse=True, half=True)\n",
    "ma.init_random_parameters(seed=1234)"
   ]
  },
  {
   "cell_type": "markdown",
   "id": "willing-paraguay",
   "metadata": {},
   "source": [
    "#### create function to fetch related operator by given one local operator\n",
    "\n",
    "\n",
    "We first need to update new_hex function in order to deal with it"
   ]
  },
  {
   "cell_type": "code",
   "execution_count": 48,
   "id": "acknowledged-discipline",
   "metadata": {},
   "outputs": [],
   "source": [
    "op, operator_num, label_num  = f.dimer_flip1(length = np.array(length), return_info = True)"
   ]
  },
  {
   "cell_type": "code",
   "execution_count": 50,
   "id": "optimum-bottom",
   "metadata": {},
   "outputs": [
    {
     "data": {
      "text/plain": [
       "array([[ 0,  7],\n",
       "       [ 0,  4],\n",
       "       [ 0, 28]])"
      ]
     },
     "execution_count": 50,
     "metadata": {},
     "output_type": "execute_result"
    }
   ],
   "source": [
    "e, ec, ce, cec = hex_.for_hamiltonian()\n",
    "hex_.get_conn_edge(e[0,0,0,0]).astype(np.int)\n"
   ]
  },
  {
   "cell_type": "code",
   "execution_count": 50,
   "id": "pacific-acquisition",
   "metadata": {},
   "outputs": [],
   "source": [
    "label_ = np.arange(hex_.size).reshape((2*hex_.l[0], hex_.l[1]))\n",
    "label = np.zeros((hex_.l[0], 2 * hex_.l[1]))\n",
    "label[:,::2] = label_[::2, :]\n",
    "label[:,1::2] = label_[1::2, :]"
   ]
  },
  {
   "cell_type": "code",
   "execution_count": 71,
   "id": "guided-sleep",
   "metadata": {},
   "outputs": [],
   "source": [
    "label_ = label.reshape(-1)\n",
    "conn_edges = np.zeros(label.shape + (3,2))\n",
    "conn_edges_ = conn_edges.reshape(label_.shape + (3,2))\n",
    "\n",
    "for n, ele in enumerate(label_):\n",
    "    \n",
    "    conn_label = np.where(np.any(hex_.edges == ele,axis=1))[0]\n",
    "    conn_edges_[n] = hex_.edges[conn_label]\n",
    "\n"
   ]
  },
  {
   "cell_type": "code",
   "execution_count": 75,
   "id": "stable-yeast",
   "metadata": {},
   "outputs": [
    {
     "data": {
      "text/plain": [
       "array([[ 0.,  7.],\n",
       "       [ 0.,  4.],\n",
       "       [ 0., 28.]])"
      ]
     },
     "execution_count": 75,
     "metadata": {},
     "output_type": "execute_result"
    }
   ],
   "source": [
    "conn_edges[0,0]"
   ]
  },
  {
   "cell_type": "code",
   "execution_count": 74,
   "id": "dedicated-peeing",
   "metadata": {},
   "outputs": [
    {
     "data": {
      "text/plain": [
       "array([[ 0,  7],\n",
       "       [ 0,  4],\n",
       "       [ 4,  8],\n",
       "       [ 8, 15],\n",
       "       [ 8, 12],\n",
       "       [12, 16],\n",
       "       [16, 23],\n",
       "       [16, 20],\n",
       "       [20, 24],\n",
       "       [24, 31],\n",
       "       [24, 28],\n",
       "       [ 0, 28],\n",
       "       [ 1,  4],\n",
       "       [ 1,  5],\n",
       "       [ 5,  9],\n",
       "       [ 9, 12],\n",
       "       [ 9, 13],\n",
       "       [13, 17],\n",
       "       [17, 20],\n",
       "       [17, 21],\n",
       "       [21, 25],\n",
       "       [25, 28],\n",
       "       [25, 29],\n",
       "       [ 1, 29],\n",
       "       [ 2,  5],\n",
       "       [ 2,  6],\n",
       "       [ 6, 10],\n",
       "       [10, 13],\n",
       "       [10, 14],\n",
       "       [14, 18],\n",
       "       [18, 21],\n",
       "       [18, 22],\n",
       "       [22, 26],\n",
       "       [26, 29],\n",
       "       [26, 30],\n",
       "       [ 2, 30],\n",
       "       [ 3,  6],\n",
       "       [ 3,  7],\n",
       "       [ 7, 11],\n",
       "       [11, 14],\n",
       "       [11, 15],\n",
       "       [15, 19],\n",
       "       [19, 22],\n",
       "       [19, 23],\n",
       "       [23, 27],\n",
       "       [27, 30],\n",
       "       [27, 31],\n",
       "       [ 3, 31]])"
      ]
     },
     "execution_count": 74,
     "metadata": {},
     "output_type": "execute_result"
    }
   ],
   "source": [
    "hex_.edges"
   ]
  },
  {
   "cell_type": "markdown",
   "id": "common-sunrise",
   "metadata": {},
   "source": [
    "### Second, optimize _log_val_kernel function. \n",
    "It calculate x.dot(ma._w) $\\leftarrow$ measure execution time."
   ]
  },
  {
   "cell_type": "code",
   "execution_count": 47,
   "id": "arabic-commerce",
   "metadata": {},
   "outputs": [
    {
     "name": "stdout",
     "output_type": "stream",
     "text": [
      "21.5 µs ± 119 ns per loop (mean ± std. dev. of 7 runs, 10000 loops each)\n"
     ]
    }
   ],
   "source": [
    "w = ma._w\n",
    "%timeit state.dot(w)"
   ]
  },
  {
   "cell_type": "markdown",
   "id": "legal-enzyme",
   "metadata": {},
   "source": [
    "This sugests that dot calculation dominates _log_val_kernel"
   ]
  },
  {
   "cell_type": "code",
   "execution_count": null,
   "id": "allied-liquid",
   "metadata": {},
   "outputs": [],
   "source": []
  }
 ],
 "metadata": {
  "kernelspec": {
   "display_name": "Python 3",
   "language": "python",
   "name": "python3"
  },
  "language_info": {
   "codemirror_mode": {
    "name": "ipython",
    "version": 3
   },
   "file_extension": ".py",
   "mimetype": "text/x-python",
   "name": "python",
   "nbconvert_exporter": "python",
   "pygments_lexer": "ipython3",
   "version": "3.8.5"
  }
 },
 "nbformat": 4,
 "nbformat_minor": 5
}
