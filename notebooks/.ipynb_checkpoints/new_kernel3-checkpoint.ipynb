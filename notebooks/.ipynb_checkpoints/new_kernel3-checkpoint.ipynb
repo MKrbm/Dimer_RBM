{
 "cells": [
  {
   "cell_type": "markdown",
   "id": "virgin-butter",
   "metadata": {},
   "source": [
    "## This notebook is scarchpad for new_kernel3\n",
    "\n",
    "The idea is that computational complexity for searching connected states from a given state reduce to $O(1)$ from $O(L^2)$ by using the information from the one before. \n",
    "\n",
    "#### We are going the test the new kenel called \"kernel3\" for 12 x 12 system"
   ]
  },
  {
   "cell_type": "code",
   "execution_count": 1,
   "id": "distant-franklin",
   "metadata": {},
   "outputs": [],
   "source": [
    "import sys\n",
    "import importlib\n",
    "importlib.reload(sys)\n",
    "sys.path.insert(0,'../')\n",
    "import numpy as np\n",
    "import netket as nk\n",
    "from scripts import functions as f\n",
    "from scripts import new_dynamics, new_dynamics2\n",
    "import os\n",
    "currentpath = os.getcwd()\n",
    "parentdir = os.path.dirname(currentpath)\n",
    "from conf import *"
   ]
  },
  {
   "cell_type": "code",
   "execution_count": 2,
   "id": "hidden-norman",
   "metadata": {},
   "outputs": [
    {
     "name": "stdout",
     "output_type": "stream",
     "text": [
      "2\n"
     ]
    }
   ],
   "source": [
    "length = [14, 14]\n",
    "hex_ = nk.machine.new_hex(np.array(length))\n",
    "kernel = 1\n",
    "decay_factor = 1  # or 'sigmoid decay'\n",
    "g = nk.graph.Graph(nodes = [i for i in range(length[0] * length[1] * 2)])\n",
    "hi = nk.hilbert.Spin(s=0.5, graph=g)\n",
    "op, ad2o_o, op_num, label_num  = f.dimer_flip1(length = np.array(length), return_info = True)\n",
    "\n",
    "ad2_bool = np.zeros([ad2o_o.shape[0], ad2o_o.shape[0]], dtype = np.bool)\n",
    "for l in range(ad2o_o.shape[0]):\n",
    "    label = ad2o_o[l]\n",
    "    for op_ in label:\n",
    "        ad2_bool[l,op_] = True\n",
    "\n",
    "\n",
    "ma = nk.machine.RbmDimer(hi, hex_, alpha = 2, symmetry = True\n",
    "                    ,use_hidden_bias = False, use_visible_bias = False, dtype=float, reverse=True, half=True)\n",
    "ma.hex.ad2o_o = ad2o_o.astype(np.int64)\n",
    "ma.hex.ad2_bool = ad2_bool\n",
    "ma.init_random_parameters(seed=1234)"
   ]
  },
  {
   "cell_type": "code",
   "execution_count": 3,
   "id": "flush-trace",
   "metadata": {},
   "outputs": [
    {
     "name": "stdout",
     "output_type": "stream",
     "text": [
      "yoyo\n",
      "number of core : 12\n"
     ]
    }
   ],
   "source": [
    "V = 1.0\n",
    "h = 0.9\n",
    "\n",
    "ham = f.dimer_hamiltonian(V = V, h = h ,length=np.array(length))\n",
    "\n",
    "\n",
    "n_jobs = 12\n",
    "\n",
    "sa_mul = nk.sampler.DimerMetropolisLocal_multi(machine=ma, op=op\n",
    "    , length = length, n_chains=n_chains, sweep_size = sweep_size, kernel = 1, n_jobs=n_jobs)\n",
    "sampler = sa_mul.sa_list[0]\n",
    "\n"
   ]
  },
  {
   "cell_type": "code",
   "execution_count": 4,
   "id": "accessible-custom",
   "metadata": {},
   "outputs": [],
   "source": [
    "import netket.sampler.numpy.local_kernel as local_kernel\n",
    "sweep_size = np.random.randint(0, 10) + sampler.sweep_size\n",
    "importlib.reload(local_kernel)\n",
    "\n",
    "kernel = local_kernel._DimerLocalKernel_1\n",
    "kernel = kernel(np.array(ma.hilbert.local_states, dtype=np.int8),ma.input_size,\n",
    "                op._basis, op._constant, op._diag_mels, op._n_conns, op._mels, \n",
    "                op._x_prime, op._acting_on, op._acting_size, ad2o_o.astype(np.int64), ad2_bool)\n",
    "sampler.reset()\n",
    "state = sampler._state\n",
    "state1 = sampler._state1\n",
    "sections_1 = np.zeros(1, dtype=np.int64)"
   ]
  },
  {
   "cell_type": "markdown",
   "id": "atmospheric-peter",
   "metadata": {},
   "source": [
    "## measure execution time for transition function"
   ]
  },
  {
   "cell_type": "code",
   "execution_count": 5,
   "id": "metallic-montgomery",
   "metadata": {},
   "outputs": [],
   "source": [
    "state = np.ones(kernel.size).reshape(1,-1)"
   ]
  },
  {
   "cell_type": "code",
   "execution_count": 6,
   "id": "worldwide-retention",
   "metadata": {},
   "outputs": [
    {
     "name": "stdout",
     "output_type": "stream",
     "text": [
      "1.18 s ± 15.8 ms per loop (mean ± std. dev. of 7 runs, 1 loop each)\n"
     ]
    }
   ],
   "source": [
    "# state = np.ones(kernel.size).reshape(1,-1)\n",
    "%timeit kernel.transition(state, state1, sampler._w, None, 10**4)\n",
    "# accepted"
   ]
  },
  {
   "cell_type": "code",
   "execution_count": 7,
   "id": "unauthorized-photograph",
   "metadata": {},
   "outputs": [
    {
     "name": "stdout",
     "output_type": "stream",
     "text": [
      "791 ms ± 14.2 ms per loop (mean ± std. dev. of 7 runs, 1 loop each)\n"
     ]
    }
   ],
   "source": [
    "%timeit kernel.new_transition(state, state1, sampler._w, None, 10**4)"
   ]
  },
  {
   "cell_type": "code",
   "execution_count": 8,
   "id": "technological-disabled",
   "metadata": {},
   "outputs": [
    {
     "ename": "ValueError",
     "evalue": "could not broadcast input array from shape (32) into shape (392)",
     "output_type": "error",
     "traceback": [
      "\u001b[0;31m---------------------------------------------------------------------------\u001b[0m",
      "\u001b[0;31mValueError\u001b[0m                                Traceback (most recent call last)",
      "\u001b[0;32m<ipython-input-8-e37aa8052dd1>\u001b[0m in \u001b[0;36m<module>\u001b[0;34m\u001b[0m\n\u001b[0;32m----> 1\u001b[0;31m \u001b[0mstate\u001b[0m\u001b[0;34m[\u001b[0m\u001b[0;36m0\u001b[0m\u001b[0;34m]\u001b[0m \u001b[0;34m=\u001b[0m \u001b[0mnp\u001b[0m\u001b[0;34m.\u001b[0m\u001b[0marray\u001b[0m\u001b[0;34m(\u001b[0m\u001b[0;34m[\u001b[0m\u001b[0;34m[\u001b[0m\u001b[0;34m-\u001b[0m\u001b[0;36m1\u001b[0m\u001b[0;34m,\u001b[0m \u001b[0;34m-\u001b[0m\u001b[0;36m1\u001b[0m\u001b[0;34m,\u001b[0m \u001b[0;36m1\u001b[0m\u001b[0;34m,\u001b[0m \u001b[0;34m-\u001b[0m\u001b[0;36m1\u001b[0m\u001b[0;34m,\u001b[0m \u001b[0;34m-\u001b[0m\u001b[0;36m1\u001b[0m\u001b[0;34m,\u001b[0m \u001b[0;36m1\u001b[0m\u001b[0;34m,\u001b[0m \u001b[0;34m-\u001b[0m\u001b[0;36m1\u001b[0m\u001b[0;34m,\u001b[0m \u001b[0;34m-\u001b[0m\u001b[0;36m1\u001b[0m\u001b[0;34m,\u001b[0m \u001b[0;36m1\u001b[0m\u001b[0;34m,\u001b[0m \u001b[0;36m1\u001b[0m\u001b[0;34m,\u001b[0m \u001b[0;36m1\u001b[0m\u001b[0;34m,\u001b[0m \u001b[0;36m1\u001b[0m\u001b[0;34m,\u001b[0m \u001b[0;36m1\u001b[0m\u001b[0;34m,\u001b[0m \u001b[0;36m1\u001b[0m\u001b[0;34m,\u001b[0m \u001b[0;36m1\u001b[0m\u001b[0;34m,\u001b[0m \u001b[0;36m1\u001b[0m\u001b[0;34m,\u001b[0m \u001b[0;36m1\u001b[0m\u001b[0;34m,\u001b[0m \u001b[0;36m1\u001b[0m\u001b[0;34m,\u001b[0m \u001b[0;36m1\u001b[0m\u001b[0;34m,\u001b[0m \u001b[0;36m1\u001b[0m\u001b[0;34m,\u001b[0m \u001b[0;36m1\u001b[0m\u001b[0;34m,\u001b[0m \u001b[0;36m1\u001b[0m\u001b[0;34m,\u001b[0m \u001b[0;36m1\u001b[0m\u001b[0;34m,\u001b[0m \u001b[0;36m1\u001b[0m\u001b[0;34m,\u001b[0m \u001b[0;34m-\u001b[0m\u001b[0;36m1\u001b[0m\u001b[0;34m,\u001b[0m \u001b[0;36m1\u001b[0m\u001b[0;34m,\u001b[0m \u001b[0;34m-\u001b[0m\u001b[0;36m1\u001b[0m\u001b[0;34m,\u001b[0m \u001b[0;34m-\u001b[0m\u001b[0;36m1\u001b[0m\u001b[0;34m,\u001b[0m \u001b[0;36m1\u001b[0m\u001b[0;34m,\u001b[0m \u001b[0;34m-\u001b[0m\u001b[0;36m1\u001b[0m\u001b[0;34m,\u001b[0m \u001b[0;34m-\u001b[0m\u001b[0;36m1\u001b[0m\u001b[0;34m,\u001b[0m \u001b[0;34m-\u001b[0m\u001b[0;36m1\u001b[0m\u001b[0;34m]\u001b[0m\u001b[0;34m]\u001b[0m\u001b[0;34m)\u001b[0m\u001b[0;34m\u001b[0m\u001b[0;34m\u001b[0m\u001b[0m\n\u001b[0m",
      "\u001b[0;31mValueError\u001b[0m: could not broadcast input array from shape (32) into shape (392)"
     ]
    }
   ],
   "source": [
    "state[0] = np.array([[-1, -1, 1, -1, -1, 1, -1, -1, 1, 1, 1, 1, 1, 1, 1, 1, 1, 1, 1, 1, 1, 1, 1, 1, -1, 1, -1, -1, 1, -1, -1, -1]])"
   ]
  },
  {
   "cell_type": "markdown",
   "id": "manufactured-volume",
   "metadata": {},
   "source": [
    "### measure components of transition functions\n",
    "- get_conn\n",
    "- _log_val_kern\n",
    "\n",
    "each functions are executed sweep_size times"
   ]
  },
  {
   "cell_type": "markdown",
   "id": "substantial-tissue",
   "metadata": {},
   "source": [
    "### As seen from above results, almost all calculation time comes from these two functions\n",
    "\n",
    "\n",
    "### First, optimize get_conn\n",
    "\n",
    "Since it is applied consectively, we don't need to care about local operators away from the point where last local operator is applied. In the following, I restrict the dimer model to 4 x 4"
   ]
  },
  {
   "cell_type": "code",
   "execution_count": null,
   "id": "arabic-league",
   "metadata": {
    "scrolled": true
   },
   "outputs": [],
   "source": [
    "import netket.machine.functions2 as f2\n",
    "importlib.reload(f2)\n",
    "importlib.reload(f)"
   ]
  },
  {
   "cell_type": "code",
   "execution_count": null,
   "id": "consistent-samuel",
   "metadata": {},
   "outputs": [],
   "source": [
    "length = [14, 14]\n",
    "hex_ = f2.new_hex(np.array(length))\n",
    "kernel = 1\n",
    "decay_factor = 1  # or 'sigmoid decay'\n",
    "g = nk.graph.Graph(nodes = [i for i in range(length[0] * length[1] * 2)])\n",
    "hi = nk.hilbert.Spin(s=0.5, graph=g)\n",
    "op = f.dimer_flip1(length = np.array(length))\n",
    "\n",
    "ma = nk.machine.RbmDimer(hi, hex_, alpha = 2, symmetry = True\n",
    "                    ,use_hidden_bias = False, use_visible_bias = False, dtype=float, reverse=True, half=True)\n",
    "ma.init_random_parameters(seed=1234)"
   ]
  },
  {
   "cell_type": "markdown",
   "id": "disturbed-thesaurus",
   "metadata": {},
   "source": [
    "#### create function to fetch related operator by given one local operator\n",
    "\n",
    "\n",
    "We first need to update new_hex function in order to deal with it"
   ]
  },
  {
   "cell_type": "code",
   "execution_count": null,
   "id": "constant-reading",
   "metadata": {
    "scrolled": true
   },
   "outputs": [],
   "source": [
    "op, ad2o_o, op_num, label_num  = f.dimer_flip1(length = np.array(length), return_info = True)\n",
    "ad2_bool = np.zeros([ad2o_o.shape[0], ad2o_o.shape[0]], dtype = np.bool)\n",
    "for l in range(ad2o_o.shape[0]):\n",
    "    label = ad2o_o[l]\n",
    "    for op_ in label:\n",
    "        ad2_bool[l,op_] = True\n",
    "np.random.seed(2021)\n"
   ]
  },
  {
   "cell_type": "markdown",
   "id": "electoral-content",
   "metadata": {},
   "source": [
    "then, modify get_conn_flattered_kernel function"
   ]
  },
  {
   "cell_type": "code",
   "execution_count": null,
   "id": "endangered-breast",
   "metadata": {},
   "outputs": [],
   "source": [
    "importlib.reload(local_kernel)\n",
    "kernel = local_kernel._DimerLocalKernel_1\n",
    "kernel = kernel(np.array(ma.hilbert.local_states, dtype=np.int8),ma.input_size,\n",
    "                op._basis, op._constant, op._diag_mels, op._n_conns, op._mels, \n",
    "                op._x_prime, op._acting_on, op._acting_size, ad2o_o.astype(np.int64), ad2_bool)"
   ]
  },
  {
   "cell_type": "code",
   "execution_count": null,
   "id": "excessive-disease",
   "metadata": {},
   "outputs": [],
   "source": [
    "state = np.ones(kernel.size).reshape(1,-1)\n",
    "state_1 = state.copy()\n",
    "# state = sampler._state.reshape(1,-1)\n",
    "sections = np.zeros(1, dtype=np.int32)\n",
    "op_labels = np.arange(len(op._acting_on))"
   ]
  },
  {
   "cell_type": "code",
   "execution_count": null,
   "id": "reflected-designation",
   "metadata": {},
   "outputs": [],
   "source": [
    "x_prime1, acting_on, conn_op = local_kernel.new_get_conn_one(\n",
    "                                        state,\n",
    "                                        sections,\n",
    "                                        kernel.basis,\n",
    "                                        kernel.n_conns,\n",
    "                                        kernel.x_prime,\n",
    "                                        kernel.acting_on,\n",
    "                                        op_labels)"
   ]
  },
  {
   "cell_type": "code",
   "execution_count": null,
   "id": "everyday-trailer",
   "metadata": {},
   "outputs": [],
   "source": [
    "x_prime2 = local_kernel.get_conn_one(\n",
    "                                    state,\n",
    "                                    sections,\n",
    "                                    kernel.basis,\n",
    "                                    kernel.n_conns,\n",
    "                                    kernel.x_prime,\n",
    "                                    kernel.acting_on,\n",
    "                                )\n"
   ]
  },
  {
   "cell_type": "code",
   "execution_count": null,
   "id": "broke-exemption",
   "metadata": {},
   "outputs": [],
   "source": [
    "states = np.zeros((int(kernel.size/4), kernel.size))\n",
    "x_prime = np.zeros((int(kernel.size/4), kernel.size))\n",
    "state = np.ones(kernel.size).reshape(1,-1)\n",
    "# state = sampler._state.reshape(1,-1)\n",
    "sections = np.zeros(1, dtype=np.int32)\n",
    "op_labels = np.arange(len(op._acting_on))"
   ]
  },
  {
   "cell_type": "code",
   "execution_count": null,
   "id": "compound-stanley",
   "metadata": {},
   "outputs": [],
   "source": [
    "# %%timeit\n",
    "conn_op3 = local_kernel.get_conn_one_2(\n",
    "                                        state,\n",
    "                                        sections,\n",
    "                                        kernel.basis,\n",
    "                                        kernel.n_conns,\n",
    "                                        kernel.x_prime,\n",
    "                                        kernel.acting_on,\n",
    "                                        op_labels,\n",
    "                                        x_prime)"
   ]
  },
  {
   "cell_type": "markdown",
   "id": "reflected-composer",
   "metadata": {},
   "source": [
    "#### Note that # of connected states is bounded by $(L \\times L / 2)$"
   ]
  },
  {
   "cell_type": "code",
   "execution_count": 24,
   "id": "neither-lawyer",
   "metadata": {},
   "outputs": [],
   "source": [
    "importlib.reload(local_kernel)\n",
    "\n",
    "def transition(state, state_1, w, r, sweep_size, _basis, _n_conns, _x_prime, _acting_on):\n",
    "    '''\n",
    "    This transition is exclusively for batch_size = 1\n",
    "    '''\n",
    "\n",
    "    accepted = 0\n",
    "    batch_size = state.shape[0]\n",
    "\n",
    "    assert batch_size == 1, 'batch_size must be 1'\n",
    "\n",
    "    sections = np.zeros(1, dtype=np.int64)\n",
    "    sections_1 = np.zeros(1, dtype=np.int64)\n",
    "    state_1 = state\n",
    "    r = np.zeros((1, w.shape[1]), dtype = np.float64)\n",
    "    \n",
    "    log_values = _log_val_kernel(state.astype(np.float64), w, r)[0]\n",
    "#         print(log_values)\n",
    "\n",
    "    state_prime = local_kernel.get_conn_one(state,sections, _basis, _n_conns, _x_prime, _acting_on)\n",
    "    n_conn = sections[0]-1\n",
    "#         print(log_values_prime)\n",
    "\n",
    "    N = 0\n",
    "    for _ in range(sweep_size * 2):\n",
    "    # while True:\n",
    "\n",
    "#             state_prime_, mels_ = self.get_conn(state, sections)\n",
    "#             n_conn_ = sections[0]-1\n",
    "\n",
    "        # print((state_prime_ == state_prime).any())\n",
    "        # print((n_conn_ + 1).sum())\n",
    "#             print(log_values)\n",
    "\n",
    "        rs = (np.random.rand(1) * (n_conn)).astype(np.int64)\n",
    "\n",
    "        state_1 = state_prime[rs+1].reshape(1,-1)\n",
    "\n",
    "        state_1_prime = local_kernel.get_conn_one(state_1, sections_1, _basis, _n_conns, _x_prime, _acting_on)\n",
    "        n_conn_1 = sections_1[0]-1\n",
    "\n",
    "        prob_corr = n_conn/n_conn_1\n",
    "\n",
    "\n",
    "        log_values_1 = _log_val_kernel(state_1.astype(np.float64), w, r)[0]\n",
    "\n",
    "        prob = np.exp(\n",
    "            2 * (log_values_1 - log_values)\n",
    "        ) * prob_corr\n",
    "\n",
    "        if prob > np.random.rand(1):\n",
    "            state[:] = state_1\n",
    "            state_prime = state_1_prime\n",
    "            log_values = log_values_1\n",
    "            n_conn = n_conn_1\n",
    "            accepted += 1\n",
    "\n",
    "\n",
    "        # sections = sections_1\n",
    "\n",
    "        N += 1\n",
    "        if accepted >= sweep_size:\n",
    "            break\n",
    "\n",
    "    return accepted/N"
   ]
  },
  {
   "cell_type": "code",
   "execution_count": 25,
   "id": "acute-bosnia",
   "metadata": {},
   "outputs": [],
   "source": [
    "from numba import boolean"
   ]
  },
  {
   "cell_type": "code",
   "execution_count": 26,
   "id": "racial-contents",
   "metadata": {},
   "outputs": [],
   "source": [
    "from numba import njit\n",
    "importlib.reload(local_kernel)\n",
    "\n",
    "# @njit\n",
    "def new_transition(state, state_1, w, r, sweep_size, _basis, _n_conns, _x_prime, _acting_on, _ad2o_o, _ad2_bool):\n",
    "    '''\n",
    "    This transition is exclusively for batch_size = 1\n",
    "    '''\n",
    "\n",
    "    accepted = 0\n",
    "    batch_size = state.shape[0]\n",
    "    sys_size = state.shape[-1]\n",
    "\n",
    "    assert batch_size == 1, 'batch_size must be 1'\n",
    "\n",
    "    sections = np.zeros(1, dtype=np.int64)\n",
    "    sections_1 = np.zeros(1, dtype=np.int64)\n",
    "    state_1 = state\n",
    "    \n",
    "    r = np.zeros((1, w.shape[1]), dtype = np.float64)\n",
    "\n",
    "    log_values = _log_val_kernel(state.astype(np.float64), w, r)[0]\n",
    "    \n",
    "    state_prime = np.zeros((int(sys_size/4), sys_size), dtype=np.int32)\n",
    "    state_1_prime = np.zeros((int(sys_size/4), sys_size), dtype=np.int32)\n",
    "#     state_prime[:] = state\n",
    "    \n",
    "    \n",
    "    conn_op_prime = np.zeros(int(sys_size/4), dtype=np.int32)\n",
    "    conn_op_prime_1 = np.zeros(int(sys_size/4), dtype=np.int32)\n",
    "    \n",
    "\n",
    "    op_labels = np.arange(len(_acting_on))\n",
    "#     print(state_prime.shape)\n",
    "    conn_op_prime[:] = local_kernel.get_conn_one_2(\n",
    "                                    state, sections,_basis,_n_conns,_x_prime,_acting_on, op_labels, state_prime)\n",
    "    \n",
    "\n",
    "    \n",
    "    n_conn = sections[0]\n",
    "    n_conn_1 = n_conn\n",
    "        \n",
    "    np.random.seed(2021)\n",
    "    last_state = state\n",
    "\n",
    "    N = 0\n",
    "    last_picked = 0\n",
    "    for kk in range(sweep_size * 2):\n",
    "#         print(kk)\n",
    "\n",
    "#         print(f'conn_op_prime (this is labels of flippable operators in last op_labels) = {conn_op_prime}')\n",
    "#         print(f\"n_conn = {n_conn}\")\n",
    "#         print(state)\n",
    "#         print(r)\n",
    "        rs = (np.random.rand(1)[0] * n_conn).astype(np.int64)\n",
    "        op_label = conn_op_prime[rs] # choose operator label randomly. and flip the plaquete the choosen operator acting on.\n",
    "        op_labels = _ad2o_o[op_label] # list up all adjacent operators to choosen operator.\n",
    "        \n",
    "        state_old = state\n",
    "        state_1 = state_prime[rs].reshape(1,-1).copy() # new candidate state\n",
    "        op_label_bool = _ad2_bool[op_label]\n",
    "#         print((state_1==0).any())\n",
    "\n",
    "#         print(conn_op_prime, n_conn, op_label, last_picked, list(last_state[0]))\n",
    "    \n",
    "\n",
    "        local_kernel.get_conn_one_3(\n",
    "                                    state_1, sections,_basis,_n_conns,\n",
    "                                    _x_prime,_acting_on, op_labels, state_1_prime,\n",
    "                                    conn_op_prime, conn_op_prime_1, op_label_bool, n_conn)\n",
    "        n_conn_1 = sections[0]\n",
    "        \n",
    "        \n",
    "        \n",
    "        prob_corr = n_conn/n_conn_1\n",
    "\n",
    "\n",
    "        log_values_1 = _log_val_kernel(state_1.astype(np.float64), w, r)[0]\n",
    "\n",
    "        prob = np.exp(\n",
    "            2 * (log_values_1 - log_values)\n",
    "        ) * prob_corr\n",
    "\n",
    "        if prob > np.random.rand(1):\n",
    "\n",
    "            state[:] = state_1\n",
    "            state_prime[:] = state_1_prime\n",
    "            conn_op_prime[:] = conn_op_prime_1\n",
    "\n",
    "            log_values = log_values_1\n",
    "            n_conn = n_conn_1\n",
    "            accepted += 1\n",
    "        \n",
    "#         else:\n",
    "#             print(\"YO?\")\n",
    "            \n",
    "#         print(\"-\" * 20)\n",
    "#         print(\"\\n\\n\")\n",
    "\n",
    "        N += 1\n",
    "        if accepted >= sweep_size:\n",
    "            break\n",
    "        \n",
    "    return accepted/N\n",
    "\n",
    "@njit\n",
    "def _log_val_kernel(x, W, r):\n",
    "\n",
    "    if x.ndim != 2:\n",
    "        raise RuntimeError(\"Invalid input shape, expected a 2d array\")\n",
    "\n",
    "    # if out is None:\n",
    "    out = np.empty(x.shape[0], dtype=np.float64)\n",
    "    r[:] = x.dot(W)\n",
    "    _log_cosh_sum(r, out)\n",
    "\n",
    "    return out\n",
    "\n",
    "@njit(fastmath=True)\n",
    "def _log_cosh_sum(x, out, add_factor=None):\n",
    "    x = x * np.sign(x.real)\n",
    "    if add_factor is None:\n",
    "        for i in range(x.shape[0]):\n",
    "            out[i] = np.sum(x[i] - np.log(2.0) + np.log(1.0 + np.exp(-2.0 * x[i])))\n",
    "    else:\n",
    "        for i in range(x.shape[0]):\n",
    "            out[i] += add_factor * (\n",
    "                np.sum(x[i] - np.log(2.0) + np.log(1.0 + np.exp(-2.0 * x[i])))\n",
    "            )\n",
    "\n",
    "    return out"
   ]
  },
  {
   "cell_type": "code",
   "execution_count": null,
   "id": "forty-queens",
   "metadata": {},
   "outputs": [],
   "source": [
    "state = np.ones((1,kernel.size),dtype=np.int32)\n",
    "state1 = np.copy(state)"
   ]
  },
  {
   "cell_type": "code",
   "execution_count": null,
   "id": "toxic-strip",
   "metadata": {},
   "outputs": [],
   "source": [
    "ad2_bool = np.zeros([ad2o_o.shape[0], ad2o_o.shape[0]], dtype = np.bool)\n",
    "for l in range(ad2o_o.shape[0]):\n",
    "    label = ad2o_o[l]\n",
    "    for op_ in label:\n",
    "        ad2_bool[l,op_] = True"
   ]
  },
  {
   "cell_type": "code",
   "execution_count": null,
   "id": "imperial-opportunity",
   "metadata": {},
   "outputs": [],
   "source": [
    "state = np.ones((1,kernel.size),dtype=np.int32)\n",
    "tmp = new_transition(state, state1, ma._w, None, 10**4, kernel.basis,kernel.n_conns, kernel.x_prime, kernel.acting_on, ad2o_o.astype(np.int64), ad2_bool)"
   ]
  },
  {
   "cell_type": "code",
   "execution_count": null,
   "id": "great-sheriff",
   "metadata": {},
   "outputs": [],
   "source": []
  },
  {
   "cell_type": "code",
   "execution_count": null,
   "id": "korean-burst",
   "metadata": {},
   "outputs": [],
   "source": []
  },
  {
   "cell_type": "code",
   "execution_count": null,
   "id": "relative-diagram",
   "metadata": {},
   "outputs": [],
   "source": [
    "w_.shape"
   ]
  },
  {
   "cell_type": "code",
   "execution_count": 68,
   "id": "played-vaccine",
   "metadata": {},
   "outputs": [
    {
     "name": "stdout",
     "output_type": "stream",
     "text": [
      "182 ns ± 0.64 ns per loop (mean ± std. dev. of 7 runs, 10000000 loops each)\n"
     ]
    }
   ],
   "source": [
    "%timeit op._acting_on[acting_on]"
   ]
  },
  {
   "cell_type": "code",
   "execution_count": 37,
   "id": "essential-canada",
   "metadata": {},
   "outputs": [],
   "source": [
    "%load_ext line_profiler"
   ]
  },
  {
   "cell_type": "code",
   "execution_count": 40,
   "id": "million-western",
   "metadata": {},
   "outputs": [
    {
     "name": "stdout",
     "output_type": "stream",
     "text": [
      "\n",
      "*** Profile printout saved to text file 'profile3.txt'. \n"
     ]
    }
   ],
   "source": [
    "state = np.ones((1,kernel.size),dtype=np.int32)\n",
    "state1 = np.copy(state)\n",
    "%lprun -T profile3.txt -f new_transition new_transition(state, state1, ma._w, None, 10**4, kernel.basis,kernel.n_conns, kernel.x_prime, kernel.acting_on, ad2o_o, ad2_bool)"
   ]
  },
  {
   "cell_type": "code",
   "execution_count": 87,
   "id": "exclusive-vienna",
   "metadata": {},
   "outputs": [
    {
     "name": "stdout",
     "output_type": "stream",
     "text": [
      "\n",
      "*** Profile printout saved to text file 'profile4.txt'. \n"
     ]
    }
   ],
   "source": [
    "state = np.ones(kernel.size,dtype=np.int32)\n",
    "state1 = np.copy(state)\n",
    "%lprun -T profile4.txt -f _new_log_val_kernel_2 new_transition_2(state, state1, ma._w, None, 10**4, kernel.basis,kernel.n_conns, kernel.x_prime, kernel.acting_on, ad2o_o, ad2_bool)"
   ]
  },
  {
   "cell_type": "code",
   "execution_count": 223,
   "id": "fitted-trail",
   "metadata": {
    "scrolled": true
   },
   "outputs": [
    {
     "name": "stdout",
     "output_type": "stream",
     "text": [
      "\n",
      "*** Profile printout saved to text file 'profile2.txt'. \n"
     ]
    }
   ],
   "source": [
    "state = np.ones((1,kernel.size),dtype=np.int32)\n",
    "state1 = np.copy(state)\n",
    "%lprun -T profile2.txt -f transition transition(state, state1, ma._w, None, 10**4, kernel.basis,kernel.n_conns, kernel.x_prime, kernel.acting_on)"
   ]
  },
  {
   "cell_type": "markdown",
   "id": "invisible-communications",
   "metadata": {},
   "source": [
    "### Second, optimize _log_val_kernel function. \n",
    "It calculate x.dot(ma._w) $\\leftarrow$ measure execution time."
   ]
  },
  {
   "cell_type": "code",
   "execution_count": 86,
   "id": "editorial-launch",
   "metadata": {},
   "outputs": [],
   "source": [
    "from numba import njit\n",
    "# @njit\n",
    "def _new_log_val_kernel_2(x, W, r_prime, r_prime_1, acting_on):\n",
    "    \n",
    "    '''\n",
    "    r_prime : last r_prime\n",
    "    r_prime_1 : new r_prime\n",
    "    '''\n",
    "    \n",
    "#     W_prime = W[acting_on, :]\n",
    "    \n",
    "    assert x.ndim == 1, \"Invalid input shape, expected a 1d array\"\n",
    "#     assert x_prime.shape[0] == 2, 'x should be 1 by 2 matrix'\n",
    "    \n",
    "    x.dot(np.array([2,1]))\n",
    "\n",
    "    r_prime_1[:] = x[acting_on[0]] * W[0] + x[acting_on[1]] * W[1] + r_prime\n",
    "    out = _new_log_cosh_sum(r_prime_1)\n",
    "\n",
    "    return out\n",
    "\n",
    "@njit\n",
    "def _new_log_val_kernel_1(x, W, r):\n",
    "\n",
    "    if x.ndim != 1:\n",
    "        raise RuntimeError(\"Invalid input shape, expected a 1d array\")\n",
    "\n",
    "    # if out is None:\n",
    "    r[:] = x.dot(W)\n",
    "    out = _new_log_cosh_sum(r)\n",
    "\n",
    "    return out\n",
    "\n",
    "@njit(fastmath=True)\n",
    "def _new_log_cosh_sum(x, add_factor=None):\n",
    "    x = np.abs(x)\n",
    "    out = np.sum(x -  np.log(2.0 * (1.0 + np.exp(-2.0 * x))))\n",
    "    return out\n",
    "\n",
    "@njit\n",
    "def w_acting_on(w, acting_on_list):\n",
    "    \n",
    "    shape = (acting_on_list.shape[0], 2, w.shape[1])\n",
    "    w_ = np.empty(shape, dtype = np.float64)\n",
    "    for i in range(shape[0]):\n",
    "        w_[i] = w[acting_on_list[i], :]\n",
    "    \n",
    "    return w_"
   ]
  },
  {
   "cell_type": "code",
   "execution_count": 72,
   "id": "mighty-efficiency",
   "metadata": {},
   "outputs": [],
   "source": [
    "importlib.reload(local_kernel)\n",
    "\n",
    "def new_transition_2(state, state_1, w , r, sweep_size, _basis, _n_conns, _x_prime, _acting_on, _ad2o_o, _ad2_bool):\n",
    "    '''\n",
    "    This transition is exclusively for batch_size = 1\n",
    "    w_ :  w_acting_on(w, _acting_on)\n",
    "    '''\n",
    "\n",
    "    accepted = 0\n",
    "    sys_size = state.shape[0]\n",
    "    _w =  w_acting_on(w, _acting_on[:,1:3])\n",
    "\n",
    "\n",
    "    sections = np.zeros(1, dtype=np.int64)\n",
    "    sections_1 = np.zeros(1, dtype=np.int64)\n",
    "    state_1[:] = state\n",
    "    \n",
    "    r_prime = np.zeros(w.shape[1], dtype = np.float64)\n",
    "    r_prime_1 = np.zeros(w.shape[1], dtype = np.float64)\n",
    "    \n",
    "    log_values = _new_log_val_kernel_1(state.astype(np.float64), w, r_prime)\n",
    "    \n",
    "#     w_ = w_acting_on(w, _acting_on)\n",
    "\n",
    "    state_prime = np.zeros((int(sys_size/4), sys_size), dtype=np.int32)\n",
    "    \n",
    "    \n",
    "    conn_op_prime = np.zeros(int(sys_size/4), dtype=np.int32)\n",
    "    conn_op_prime_1 = np.zeros(int(sys_size/4), dtype=np.int32)\n",
    "    \n",
    "    acting_on_prime = np.zeros((int(sys_size/4), 4), dtype=np.int32)\n",
    "    acting_on_prime_1 = np.zeros((int(sys_size/4), 4), dtype=np.int32)\n",
    "    \n",
    "    \n",
    "    \n",
    "    op_labels = np.arange(len(_acting_on))\n",
    "    conn_op_prime[:] = local_kernel.get_conn_one_4(\n",
    "                                    state, sections,_basis,_n_conns,_acting_on, op_labels, acting_on_prime)\n",
    "\n",
    "    \n",
    "    n_conn = sections[0]\n",
    "    n_conn_1 = n_conn\n",
    "        \n",
    "    np.random.seed(2021)\n",
    "    last_state = state\n",
    "\n",
    "    N = 0\n",
    "    last_picked = 0\n",
    "    for kk in range(sweep_size * 2):\n",
    "\n",
    "#         print(state)\n",
    "        \n",
    "        rs = (np.random.rand(1)[0] * n_conn).astype(np.int64)\n",
    "        op_label = conn_op_prime[rs] # choose operator label randomly. and flip the plaquete the choosen operator acting on.\n",
    "        w_prime = _w[op_label]\n",
    "        op_labels = _ad2o_o[op_label] # list up all adjacent operators to choosen operator.\n",
    "        state_old = state\n",
    "        state_1[:] = state\n",
    "        acting_on_rs = acting_on_prime[rs][1:3]\n",
    "#         print(state_1)\n",
    "        state_1[acting_on_rs] *= -1\n",
    "        log_values_1 = _new_log_val_kernel_2(state_1.astype(np.float64), w_prime, r_prime, r_prime_1, acting_on_rs)\n",
    "        \n",
    "        \n",
    "        op_label_bool = _ad2_bool[op_label] \n",
    "        local_kernel.get_conn_one_5(\n",
    "                                    state_1, sections,_basis,_n_conns,\n",
    "                                    _acting_on, op_labels,conn_op_prime,\n",
    "                                     conn_op_prime_1,acting_on_prime_1, op_label_bool, n_conn)\n",
    "        n_conn_1 = sections[0]\n",
    "        prob_corr = n_conn/n_conn_1\n",
    "\n",
    "        \n",
    "#         print(r_prime)\n",
    "\n",
    "        prob = np.exp(\n",
    "            2 * (log_values_1 - log_values)\n",
    "        ) * prob_corr\n",
    "\n",
    "        if prob > np.random.rand(1):\n",
    "            r_prime[:] = r_prime_1\n",
    "            state[:] = state_1\n",
    "            acting_on_prime[:] = acting_on_prime_1\n",
    "            conn_op_prime[:] = conn_op_prime_1\n",
    "\n",
    "            log_values = log_values_1\n",
    "            n_conn = n_conn_1\n",
    "            accepted += 1\n",
    "        \n",
    "\n",
    "        N += 1\n",
    "        if accepted >= sweep_size:\n",
    "            break\n",
    "        \n",
    "    return accepted/N"
   ]
  },
  {
   "cell_type": "code",
   "execution_count": 73,
   "id": "equivalent-reading",
   "metadata": {},
   "outputs": [],
   "source": [
    "state = np.ones(kernel.size, dtype=np.int8)\n",
    "state_1 = np.copy(state)"
   ]
  },
  {
   "cell_type": "code",
   "execution_count": 74,
   "id": "light-lindsay",
   "metadata": {},
   "outputs": [
    {
     "data": {
      "text/plain": [
       "(1176, 4)"
      ]
     },
     "execution_count": 74,
     "metadata": {},
     "output_type": "execute_result"
    }
   ],
   "source": [
    "kernel.acting_on.shape"
   ]
  },
  {
   "cell_type": "code",
   "execution_count": 75,
   "id": "sublime-address",
   "metadata": {},
   "outputs": [
    {
     "data": {
      "text/plain": [
       "(392, 784)"
      ]
     },
     "execution_count": 75,
     "metadata": {},
     "output_type": "execute_result"
    }
   ],
   "source": [
    "ma._w.shape"
   ]
  },
  {
   "cell_type": "code",
   "execution_count": 76,
   "id": "subsequent-lighter",
   "metadata": {
    "scrolled": false
   },
   "outputs": [
    {
     "data": {
      "text/plain": [
       "0.8368901163277261"
      ]
     },
     "execution_count": 76,
     "metadata": {},
     "output_type": "execute_result"
    }
   ],
   "source": [
    "new_transition_2(state, state_1, ma._w, None, 10**4, kernel.basis,kernel.n_conns, kernel.x_prime, kernel.acting_on, ad2o_o, ad2_bool)"
   ]
  },
  {
   "cell_type": "code",
   "execution_count": 77,
   "id": "dedicated-founder",
   "metadata": {},
   "outputs": [],
   "source": [
    "state = np.ones((1,kernel.size),dtype=np.int32)\n",
    "tmp = new_transition(state, state1, ma._w, None, 10**4, kernel.basis,kernel.n_conns, kernel.x_prime, kernel.acting_on, ad2o_o.astype(np.int64), ad2_bool)"
   ]
  },
  {
   "cell_type": "code",
   "execution_count": 78,
   "id": "adaptive-verification",
   "metadata": {},
   "outputs": [
    {
     "data": {
      "text/plain": [
       "0.8368901163277261"
      ]
     },
     "execution_count": 78,
     "metadata": {},
     "output_type": "execute_result"
    }
   ],
   "source": [
    "tmp"
   ]
  },
  {
   "cell_type": "code",
   "execution_count": 47,
   "id": "spread-galaxy",
   "metadata": {},
   "outputs": [
    {
     "name": "stdout",
     "output_type": "stream",
     "text": [
      "21.5 µs ± 119 ns per loop (mean ± std. dev. of 7 runs, 10000 loops each)\n"
     ]
    }
   ],
   "source": [
    "w = ma._w\n",
    "%timeit state.dot(w)"
   ]
  },
  {
   "cell_type": "code",
   "execution_count": 614,
   "id": "integral-sunrise",
   "metadata": {},
   "outputs": [
    {
     "data": {
      "text/plain": [
       "(864, 4)"
      ]
     },
     "execution_count": 614,
     "metadata": {},
     "output_type": "execute_result"
    }
   ],
   "source": [
    "op._acting_on.shape"
   ]
  },
  {
   "cell_type": "markdown",
   "id": "fossil-photograph",
   "metadata": {},
   "source": [
    "This sugests that dot calculation dominates _log_val_kernel"
   ]
  },
  {
   "cell_type": "code",
   "execution_count": 611,
   "id": "linear-baghdad",
   "metadata": {},
   "outputs": [
    {
     "data": {
      "text/plain": [
       "(288, 576)"
      ]
     },
     "execution_count": 611,
     "metadata": {},
     "output_type": "execute_result"
    }
   ],
   "source": [
    "ma._w"
   ]
  }
 ],
 "metadata": {
  "kernelspec": {
   "display_name": "Python 3",
   "language": "python",
   "name": "python3"
  },
  "language_info": {
   "codemirror_mode": {
    "name": "ipython",
    "version": 3
   },
   "file_extension": ".py",
   "mimetype": "text/x-python",
   "name": "python",
   "nbconvert_exporter": "python",
   "pygments_lexer": "ipython3",
   "version": "3.8.5"
  }
 },
 "nbformat": 4,
 "nbformat_minor": 5
}
