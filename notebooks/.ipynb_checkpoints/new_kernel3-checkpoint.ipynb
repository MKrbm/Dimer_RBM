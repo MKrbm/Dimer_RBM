{
 "cells": [
  {
   "cell_type": "markdown",
   "id": "stable-american",
   "metadata": {},
   "source": [
    "## This notebook is scarchpad for new_kernel3\n",
    "\n",
    "The idea is that computational complexity for searching connected states from a given state reduce to $O(1)$ from $O(L^2)$ by using the information from the one before. \n",
    "\n",
    "#### We are going the test the new kenel called \"kernel3\" for 12 x 12 system"
   ]
  },
  {
   "cell_type": "code",
   "execution_count": 1,
   "id": "spoken-adolescent",
   "metadata": {},
   "outputs": [],
   "source": [
    "import sys\n",
    "import importlib\n",
    "importlib.reload(sys)\n",
    "sys.path.insert(0,'../')\n",
    "import numpy as np\n",
    "import netket as nk\n",
    "from scripts import functions as f\n",
    "from scripts import new_dynamics, new_dynamics2\n",
    "import os\n",
    "currentpath = os.getcwd()\n",
    "parentdir = os.path.dirname(currentpath)\n",
    "from conf import *"
   ]
  },
  {
   "cell_type": "code",
   "execution_count": 2,
   "id": "medieval-minimum",
   "metadata": {},
   "outputs": [
    {
     "name": "stdout",
     "output_type": "stream",
     "text": [
      "2\n"
     ]
    }
   ],
   "source": [
    "length = [4, 4]\n",
    "hex_ = nk.machine.new_hex(np.array(length))\n",
    "kernel = 1\n",
    "decay_factor = 1  # or 'sigmoid decay'\n",
    "g = nk.graph.Graph(nodes = [i for i in range(length[0] * length[1] * 2)])\n",
    "hi = nk.hilbert.Spin(s=0.5, graph=g)\n",
    "op = f.dimer_flip1(length = np.array(length))\n",
    "\n",
    "ma = nk.machine.RbmDimer(hi, hex_, alpha = 2, symmetry = True\n",
    "                    ,use_hidden_bias = False, use_visible_bias = False, dtype=float, reverse=True, half=True)\n",
    "ma.init_random_parameters(seed=1234)"
   ]
  },
  {
   "cell_type": "code",
   "execution_count": 3,
   "id": "activated-english",
   "metadata": {},
   "outputs": [
    {
     "name": "stdout",
     "output_type": "stream",
     "text": [
      "yoyo\n",
      "number of core : 12\n"
     ]
    }
   ],
   "source": [
    "V = 1.0\n",
    "h = 0.9\n",
    "\n",
    "ham = f.dimer_hamiltonian(V = V, h = h ,length=np.array(length))\n",
    "\n",
    "\n",
    "n_jobs = 12\n",
    "\n",
    "sa_mul = nk.sampler.DimerMetropolisLocal_multi(machine=ma, op=op\n",
    "    , length = length, n_chains=n_chains, sweep_size = sweep_size, kernel = 1, n_jobs=n_jobs)\n",
    "sampler = sa_mul.sa_list[0]\n",
    "\n"
   ]
  },
  {
   "cell_type": "code",
   "execution_count": 4,
   "id": "continuing-directory",
   "metadata": {},
   "outputs": [],
   "source": [
    "import netket.sampler.numpy.local_kernel as local_kernel\n",
    "sweep_size = np.random.randint(0, 10) + sampler.sweep_size\n",
    "importlib.reload(local_kernel)\n",
    "\n",
    "kernel = local_kernel._DimerLocalKernel_1\n",
    "kernel = kernel(np.array(ma.hilbert.local_states, dtype=np.int8),ma.input_size,\n",
    "                op._basis, op._constant, op._diag_mels, op._n_conns, op._mels, \n",
    "                op._x_prime, op._acting_on, op._acting_size)\n",
    "sampler.reset()\n",
    "state = sampler._state\n",
    "state1 = sampler._state1\n",
    "sections_1 = np.zeros(1, dtype=np.int64)"
   ]
  },
  {
   "cell_type": "markdown",
   "id": "rough-going",
   "metadata": {},
   "source": [
    "## measure execution time for transition function"
   ]
  },
  {
   "cell_type": "code",
   "execution_count": 140,
   "id": "balanced-dealer",
   "metadata": {},
   "outputs": [
    {
     "name": "stdout",
     "output_type": "stream",
     "text": [
      "3.25 ms ± 84 µs per loop (mean ± std. dev. of 7 runs, 100 loops each)\n"
     ]
    }
   ],
   "source": [
    "%timeit accepted = kernel.transition(state, state1, sampler._w, None, 200)"
   ]
  },
  {
   "cell_type": "markdown",
   "id": "detected-israel",
   "metadata": {},
   "source": [
    "### measure components of transition functions\n",
    "- get_conn\n",
    "- _log_val_kern\n",
    "\n",
    "each functions are executed sweep_size times"
   ]
  },
  {
   "cell_type": "code",
   "execution_count": 6,
   "id": "accepted-sally",
   "metadata": {},
   "outputs": [
    {
     "name": "stdout",
     "output_type": "stream",
     "text": [
      "13.1 µs ± 929 ns per loop (mean ± std. dev. of 7 runs, 100000 loops each)\n"
     ]
    }
   ],
   "source": [
    "%timeit kernel.get_conn(state, sections_1)"
   ]
  },
  {
   "cell_type": "code",
   "execution_count": 7,
   "id": "better-latvia",
   "metadata": {},
   "outputs": [
    {
     "name": "stdout",
     "output_type": "stream",
     "text": [
      "3.67 µs ± 66 ns per loop (mean ± std. dev. of 7 runs, 100000 loops each)\n"
     ]
    }
   ],
   "source": [
    "%timeit local_kernel._log_val_kernel(state.astype(np.float64), sampler._w, None)"
   ]
  },
  {
   "cell_type": "code",
   "execution_count": 8,
   "id": "instrumental-noise",
   "metadata": {},
   "outputs": [],
   "source": [
    "# %%timeit \n",
    "# for _ in range(sweep_size):\n",
    "#     kernel.get_conn(state, sections_1)"
   ]
  },
  {
   "cell_type": "code",
   "execution_count": 9,
   "id": "quality-delivery",
   "metadata": {},
   "outputs": [],
   "source": [
    "# %%timeit\n",
    "# for _ in range(sweep_size):\n",
    "#     local_kernel._log_val_kernel(state.astype(np.float64), sampler._w, None)"
   ]
  },
  {
   "cell_type": "markdown",
   "id": "postal-validity",
   "metadata": {},
   "source": [
    "### As seen from above results, almost all calculation time comes from these two functions\n",
    "\n",
    "\n",
    "### First, optimize get_conn\n",
    "\n",
    "Since it is applied consectively, we don't need to care about local operators away from the point where last local operator is applied. In the following, I restrict the dimer model to 4 x 4"
   ]
  },
  {
   "cell_type": "code",
   "execution_count": 10,
   "id": "rapid-northeast",
   "metadata": {
    "scrolled": true
   },
   "outputs": [
    {
     "data": {
      "text/plain": [
       "<module 'scripts.functions' from '../scripts/functions.py'>"
      ]
     },
     "execution_count": 10,
     "metadata": {},
     "output_type": "execute_result"
    }
   ],
   "source": [
    "import netket.machine.functions2 as f2\n",
    "importlib.reload(f2)\n",
    "importlib.reload(f)"
   ]
  },
  {
   "cell_type": "code",
   "execution_count": 11,
   "id": "analyzed-vertical",
   "metadata": {},
   "outputs": [
    {
     "name": "stdout",
     "output_type": "stream",
     "text": [
      "2\n"
     ]
    }
   ],
   "source": [
    "length = [4, 4]\n",
    "hex_ = f2.new_hex(np.array(length))\n",
    "kernel = 1\n",
    "decay_factor = 1  # or 'sigmoid decay'\n",
    "g = nk.graph.Graph(nodes = [i for i in range(length[0] * length[1] * 2)])\n",
    "hi = nk.hilbert.Spin(s=0.5, graph=g)\n",
    "op = f.dimer_flip1(length = np.array(length))\n",
    "\n",
    "ma = nk.machine.RbmDimer(hi, hex_, alpha = 2, symmetry = True\n",
    "                    ,use_hidden_bias = False, use_visible_bias = False, dtype=float, reverse=True, half=True)\n",
    "ma.init_random_parameters(seed=1234)"
   ]
  },
  {
   "cell_type": "markdown",
   "id": "willing-paraguay",
   "metadata": {},
   "source": [
    "#### create function to fetch related operator by given one local operator\n",
    "\n",
    "\n",
    "We first need to update new_hex function in order to deal with it"
   ]
  },
  {
   "cell_type": "code",
   "execution_count": 27,
   "id": "acknowledged-discipline",
   "metadata": {
    "scrolled": true
   },
   "outputs": [],
   "source": [
    "op, ad2o_o, op_num, label_num  = f.dimer_flip1(length = np.array(length), return_info = True)"
   ]
  },
  {
   "cell_type": "markdown",
   "id": "2b919401",
   "metadata": {},
   "source": [
    "then, modify get_conn_flattered_kernel function"
   ]
  },
  {
   "cell_type": "code",
   "execution_count": 77,
   "id": "9eb3b148",
   "metadata": {},
   "outputs": [],
   "source": [
    "importlib.reload(local_kernel)\n",
    "kernel = local_kernel._DimerLocalKernel_1\n",
    "kernel = kernel(np.array(ma.hilbert.local_states, dtype=np.int8),ma.input_size,\n",
    "                op._basis, op._constant, op._diag_mels, op._n_conns, op._mels, \n",
    "                op._x_prime, op._acting_on, op._acting_size)"
   ]
  },
  {
   "cell_type": "code",
   "execution_count": 46,
   "id": "0cdaed2e",
   "metadata": {},
   "outputs": [],
   "source": [
    "state = np.ones(kernel.size).reshape(1,-1)\n",
    "sections = np.zeros(1, dtype=np.int32)\n",
    "op_labels = np.arange(len(op._acting_on))\n",
    "x_prime1, acting_on, conn_op = local_kernel.new_get_conn_one(\n",
    "                                        state,\n",
    "                                        sections,\n",
    "                                        kernel.basis,\n",
    "                                        kernel.n_conns,\n",
    "                                        kernel.x_prime,\n",
    "                                        kernel.acting_on,\n",
    "                                        op_labels)"
   ]
  },
  {
   "cell_type": "code",
   "execution_count": 47,
   "id": "201a29d2",
   "metadata": {},
   "outputs": [],
   "source": [
    "x_prime2 = local_kernel.get_conn_one(\n",
    "                                    state,\n",
    "                                    sections,\n",
    "                                    kernel.basis,\n",
    "                                    kernel.n_conns,\n",
    "                                    kernel.x_prime,\n",
    "                                    kernel.acting_on,\n",
    "                                )\n"
   ]
  },
  {
   "cell_type": "markdown",
   "id": "f1ba4b79",
   "metadata": {},
   "source": [
    "#### Note that # of connected states is bounded by $(L \\times L / 2)$"
   ]
  },
  {
   "cell_type": "code",
   "execution_count": 48,
   "id": "aeb3ccad",
   "metadata": {},
   "outputs": [
    {
     "name": "stdout",
     "output_type": "stream",
     "text": [
      "n_conn : 8\n"
     ]
    }
   ],
   "source": [
    "x_prime = np.zeros((int(kernel.size/4), kernel.size))\n",
    "x_prime[:] = state\n",
    "conn_op_prime = np.zeros(int(kernel.size/4), dtype=np.int32)\n",
    "n_conn = len(conn_op)\n",
    "print(f\"n_conn : {n_conn}\")"
   ]
  },
  {
   "cell_type": "code",
   "execution_count": 49,
   "id": "55252cbc",
   "metadata": {},
   "outputs": [
    {
     "name": "stdout",
     "output_type": "stream",
     "text": [
      "i = 4\n",
      "op_label = 51\n"
     ]
    },
    {
     "data": {
      "text/plain": [
       "array([ 3, 11, 17, 23, 51, 59, 65, 71], dtype=int32)"
      ]
     },
     "execution_count": 49,
     "metadata": {},
     "output_type": "execute_result"
    }
   ],
   "source": [
    "for s in range(n_conn):\n",
    "    x_prime[s][acting_on[s]] = x_prime1[s]\n",
    "    \n",
    "# i = np.random.randint(n_conn)\n",
    "i = 4\n",
    "\n",
    "\n",
    "op_label = conn_op[i]\n",
    "print(f\"i = {i}\")\n",
    "print(f\"op_label = {op_label}\")\n",
    "op_labels = ad2o_o[op_label]\n",
    "state = x_prime[i].reshape(1,-1).copy()\n",
    "conn_op"
   ]
  },
  {
   "cell_type": "code",
   "execution_count": 50,
   "id": "1c133971",
   "metadata": {},
   "outputs": [],
   "source": [
    "conn_op_prime = np.zeros(int(kernel.size/4), dtype=np.int32)\n",
    "acting_on_prime = np.zeros((int(kernel.size/4), 4), dtype=np.int32)\n",
    "x_prime[:] = state.copy()\n",
    "\n",
    "i = 0\n",
    "j = 0\n",
    "for l in conn_op:\n",
    "    if l not in op_labels:\n",
    "        conn_op_prime[i] = l\n",
    "        acting_on_prime[i] = acting_on[j]\n",
    "        x_prime[i][acting_on[j]] = x_prime1[i]\n",
    "        i += 1\n",
    "    j += 1\n",
    "n_conn_prime = i\n",
    "        \n",
    "x_prime1, acting_on, conn_op = local_kernel.new_get_conn_one(\n",
    "                                        state.copy(),\n",
    "                                        sections,\n",
    "                                        kernel.basis,\n",
    "                                        kernel.n_conns,\n",
    "                                        kernel.x_prime,\n",
    "                                        kernel.acting_on,\n",
    "                                        op_labels)    "
   ]
  },
  {
   "cell_type": "code",
   "execution_count": 51,
   "id": "b0099ba2",
   "metadata": {},
   "outputs": [],
   "source": [
    "j = 0\n",
    "for i in range(n_conn_prime, n_conn_prime + len(conn_op)):\n",
    "    conn_op_prime[i] = conn_op[j]\n",
    "    acting_on_prime[i] = acting_on[j]\n",
    "    x_prime[i][acting_on[j]] = x_prime1[j]\n",
    "    j +=1\n",
    "n_conn = n_conn_prime + len(conn_op)"
   ]
  },
  {
   "cell_type": "code",
   "execution_count": 63,
   "id": "68bc53d2",
   "metadata": {},
   "outputs": [
    {
     "name": "stdout",
     "output_type": "stream",
     "text": [
      "i = 5\n",
      "op_label = 50\n"
     ]
    },
    {
     "data": {
      "text/plain": [
       "array([26, 27, 30, 31, 48, 49, 50, 51, 52, 53, 54, 55, 56, 57, 58, 59, 70,\n",
       "       71, 72, 73, 74, 75, 76, 77, 92, 93], dtype=int32)"
      ]
     },
     "execution_count": 63,
     "metadata": {},
     "output_type": "execute_result"
    }
   ],
   "source": [
    "i = np.random.randint(n_conn)\n",
    "\n",
    "op_label = conn_op_prime[i]\n",
    "print(f\"i = {i}\")\n",
    "print(f\"op_label = {op_label}\")\n",
    "op_labels = ad2o_o[op_label]\n",
    "state = x_prime[i].reshape(1,-1).copy()\n",
    "op_labels"
   ]
  },
  {
   "cell_type": "code",
   "execution_count": 68,
   "id": "56f8581a",
   "metadata": {},
   "outputs": [
    {
     "data": {
      "text/plain": [
       "array([50], dtype=int32)"
      ]
     },
     "execution_count": 68,
     "metadata": {},
     "output_type": "execute_result"
    }
   ],
   "source": [
    "conn_op"
   ]
  },
  {
   "cell_type": "code",
   "execution_count": 69,
   "id": "779e2d0c",
   "metadata": {},
   "outputs": [],
   "source": [
    "conn_op_prime = np.zeros(int(kernel.size/4), dtype=np.int32)\n",
    "acting_on_prime = np.zeros((int(kernel.size/4), 4), dtype=np.int32)\n",
    "x_prime[:] = state.copy()\n",
    "\n",
    "i = 0\n",
    "j = 0\n",
    "for l in conn_op:\n",
    "    if l not in op_labels:\n",
    "        conn_op_prime[i] = l\n",
    "        acting_on_prime[i] = acting_on[j]\n",
    "        x_prime[i][acting_on[j]] = x_prime1[i]\n",
    "        i += 1\n",
    "    j += 1\n",
    "n_conn_prime = i"
   ]
  },
  {
   "cell_type": "code",
   "execution_count": 72,
   "id": "b3267611",
   "metadata": {},
   "outputs": [],
   "source": [
    "x_prime1, acting_on, conn_op = local_kernel.new_get_conn_one(\n",
    "                                        state.copy(),\n",
    "                                        sections,\n",
    "                                        kernel.basis,\n",
    "                                        kernel.n_conns,\n",
    "                                        kernel.x_prime,\n",
    "                                        kernel.acting_on,\n",
    "                                        op_labels)  "
   ]
  },
  {
   "cell_type": "code",
   "execution_count": 54,
   "id": "6e59fc30",
   "metadata": {},
   "outputs": [],
   "source": [
    "x_prime2 = local_kernel.get_conn_one(\n",
    "                                    state,\n",
    "                                    sections,\n",
    "                                    kernel.basis,\n",
    "                                    kernel.n_conns,\n",
    "                                    kernel.x_prime,\n",
    "                                    kernel.acting_on,\n",
    "                                )"
   ]
  },
  {
   "cell_type": "code",
   "execution_count": 153,
   "id": "0d66176b",
   "metadata": {},
   "outputs": [],
   "source": [
    "from numba import njit\n",
    "\n",
    "# @njit\n",
    "def new_transition(state, state_1, w, r, sweep_size, _basis, _n_conns, _x_prime, _acting_on, _ad2o_o):\n",
    "    '''\n",
    "    This transition is exclusively for batch_size = 1\n",
    "    '''\n",
    "\n",
    "    accepted = 0\n",
    "    batch_size = state.shape[0]\n",
    "    sys_size = state.shape[-1]\n",
    "\n",
    "    assert batch_size == 1, 'batch_size must be 1'\n",
    "\n",
    "    sections = np.zeros(1, dtype=np.int64)\n",
    "    sections_1 = np.zeros(1, dtype=np.int64)\n",
    "    state_1 = state\n",
    "\n",
    "    log_values = _log_val_kernel(state.astype(np.float64), w, r)[0]\n",
    "    \n",
    "    \n",
    "#         print(log_values)\n",
    "#     state_prime = local_kernel.get_conn_one(state,sections,basis,n_conns,x_prime,acting_on)\n",
    "#     n_conn = sections[0]-1\n",
    "\n",
    "\n",
    "\n",
    "    op_labels = np.arange(len(op._acting_on))\n",
    "    x_prime1, acting_on, conn_op = local_kernel.get_conn_one(state,sections,_basis,_n_conns,_x_prime,_acting_on, op_labels)\n",
    "    \n",
    "    state_prime = np.zeros((int(sys_size/4), sys_size))\n",
    "    state_prime[:] = state.copy()\n",
    "    \n",
    "    conn_op_prime = np.zeros(int(sys_size.size/4), dtype=np.int32)\n",
    "    acting_on_prime = np.zeros((int(kernel.size/4), 4), dtype=np.int32)\n",
    "    \n",
    "    n_conn = len(conn_op)\n",
    "    for s in range(n_conn):\n",
    "        state_prime[s][acting_on[s]] = x_prime1[s]\n",
    "    \n",
    "    \n",
    "    np.random.seed(2021)\n",
    "\n",
    "    N = 0\n",
    "    for _ in range(sweep_size * 2):\n",
    "\n",
    "#         rs = (np.random.rand(1) * (n_conn)).astype(np.int64)\n",
    "        rs = np.random.randint(n_conn)\n",
    "        op_label = conn_op_prime[rs] # choose operator label randomly. and flip the plaquete the choosen operator acting on.\n",
    "        op_labels = _ad2o_o[op_label] # list up all adjacent operators to choosen operator.\n",
    "        state_1 = state_prime[rs].reshape(1,-1).copy() # new candidate state\n",
    "        state_prime[:] = state_1.copy()\n",
    "        \n",
    "        \n",
    "        '''\n",
    "        Start setting for operators except operators listed in op_labels. (since they are not affected by the last flipping)\n",
    "        '''\n",
    "        i = 0\n",
    "        j = 0\n",
    "        for l in conn_op:\n",
    "            if l not in op_labels:\n",
    "                conn_op_prime[i] = l # If last flippable operators are not in op_labels(all adjacent operators to the last plaquet),\n",
    "                                     # add to new list of operators connecting to state_1\n",
    "                    \n",
    "                acting_on_prime[i] = acting_on[j] #Same setting for acting_on list.\n",
    "                state_prime[i][acting_on[j]] = x_prime1[i] #Since operator which pass the if condition won't affected by the last flip,\n",
    "                                                           #We set the connected states beforehand.\n",
    "                i += 1\n",
    "            j += 1\n",
    "        n_conn_1 = i # this is the number of connected states which weren't affected by the last flip.\n",
    "        \n",
    "        '''\n",
    "        Finish settings\n",
    "        '''\n",
    "        \n",
    "        \n",
    "#         state_1 = state_prime[rs].reshape(1,-1)\n",
    "#         state_1_prime = local_kernel.get_conn_one(state_1, sections_1,basis,n_conns,x_prime,acting_on)\n",
    "#         n_conn_1 = sections_1[0]-1\n",
    "\n",
    "\n",
    "        x_prime1, acting_on, conn_op = local_kernel.get_conn_one(state,sections,_basis,_n_conns,_x_prime,_acting_on, op_labels)\n",
    "\n",
    "    \n",
    "        '''\n",
    "        Start remaining settings\n",
    "        '''\n",
    "        j = 0\n",
    "        for i in range(n_conn_prime, n_conn_prime + len(conn_op)):  # range starts from n_conn_prime since we calculate for some candidates beforehand.\n",
    "            ''' all the below are the same as above settings'''\n",
    "            conn_op_prime[i] = conn_op[j] \n",
    "            acting_on_prime[i] = acting_on[j]\n",
    "            x_prime[i][acting_on[j]] = x_prime1[j]\n",
    "            j +=1\n",
    "        n_conn = n_conn_prime + len(conn_op) # This is the actual number of connected states from state_1\n",
    "        \n",
    "        '''\n",
    "        Finish settings\n",
    "        '''\n",
    "        \n",
    "        \n",
    "\n",
    "\n",
    "        prob_corr = n_conn/n_conn_1\n",
    "\n",
    "\n",
    "        log_values_1 = _log_val_kernel(state_1.astype(np.float64), w, r)[0]\n",
    "\n",
    "        prob = np.exp(\n",
    "            2 * (log_values_1 - log_values)\n",
    "        ) * prob_corr\n",
    "\n",
    "        if prob > np.random.rand(1):\n",
    "            state[:] = state_1\n",
    "            state_prime = state_1_prime\n",
    "            log_values = log_values_1\n",
    "            n_conn = n_conn_1\n",
    "            accepted += 1\n",
    "\n",
    "\n",
    "        # sections = sections_1\n",
    "\n",
    "        N += 1\n",
    "        if accepted >= sweep_size:\n",
    "            break\n",
    "\n",
    "    return accepted/N\n",
    "\n",
    "@njit\n",
    "def _log_val_kernel(x, W, r):\n",
    "\n",
    "    if x.ndim != 2:\n",
    "        raise RuntimeError(\"Invalid input shape, expected a 2d array\")\n",
    "\n",
    "    # if out is None:\n",
    "    out = np.empty(x.shape[0], dtype=np.float64)\n",
    "    r = x.dot(W)\n",
    "    _log_cosh_sum(r, out)\n",
    "\n",
    "    return out\n",
    "\n",
    "@njit(fastmath=True)\n",
    "def _log_cosh_sum(x, out, add_factor=None):\n",
    "    x = x * np.sign(x.real)\n",
    "    if add_factor is None:\n",
    "        for i in range(x.shape[0]):\n",
    "            out[i] = np.sum(x[i] - np.log(2.0) + np.log(1.0 + np.exp(-2.0 * x[i])))\n",
    "    else:\n",
    "        for i in range(x.shape[0]):\n",
    "            out[i] += add_factor * (\n",
    "                np.sum(x[i] - np.log(2.0) + np.log(1.0 + np.exp(-2.0 * x[i])))\n",
    "            )\n",
    "\n",
    "    return out"
   ]
  },
  {
   "cell_type": "code",
   "execution_count": 154,
   "id": "26724bca",
   "metadata": {},
   "outputs": [],
   "source": [
    "state\n",
    "state1 = np.copy(state)"
   ]
  },
  {
   "cell_type": "code",
   "execution_count": 155,
   "id": "49db1ab4",
   "metadata": {},
   "outputs": [
    {
     "name": "stdout",
     "output_type": "stream",
     "text": [
      "CPU times: user 329 ms, sys: 2.2 ms, total: 331 ms\n",
      "Wall time: 334 ms\n"
     ]
    },
    {
     "data": {
      "text/plain": [
       "0.8431703204047217"
      ]
     },
     "execution_count": 155,
     "metadata": {},
     "output_type": "execute_result"
    }
   ],
   "source": [
    "%time new_transition(state, state1, ma._w, None, 10**3, kernel.basis,kernel.n_conns, kernel.x_prime, kernel.acting_on)"
   ]
  },
  {
   "cell_type": "code",
   "execution_count": null,
   "id": "8fee6485",
   "metadata": {},
   "outputs": [],
   "source": []
  },
  {
   "cell_type": "markdown",
   "id": "common-sunrise",
   "metadata": {},
   "source": [
    "### Second, optimize _log_val_kernel function. \n",
    "It calculate x.dot(ma._w) $\\leftarrow$ measure execution time."
   ]
  },
  {
   "cell_type": "code",
   "execution_count": 88,
   "id": "489e8941",
   "metadata": {},
   "outputs": [
    {
     "data": {
      "text/plain": [
       "20736"
      ]
     },
     "execution_count": 88,
     "metadata": {},
     "output_type": "execute_result"
    }
   ],
   "source": [
    "12 * 6 * 12 * 12 * 2 "
   ]
  },
  {
   "cell_type": "code",
   "execution_count": 47,
   "id": "arabic-commerce",
   "metadata": {},
   "outputs": [
    {
     "name": "stdout",
     "output_type": "stream",
     "text": [
      "21.5 µs ± 119 ns per loop (mean ± std. dev. of 7 runs, 10000 loops each)\n"
     ]
    }
   ],
   "source": [
    "w = ma._w\n",
    "%timeit state.dot(w)"
   ]
  },
  {
   "cell_type": "markdown",
   "id": "legal-enzyme",
   "metadata": {},
   "source": [
    "This sugests that dot calculation dominates _log_val_kernel"
   ]
  },
  {
   "cell_type": "code",
   "execution_count": null,
   "id": "allied-liquid",
   "metadata": {},
   "outputs": [],
   "source": []
  }
 ],
 "metadata": {
  "kernelspec": {
   "display_name": "Python 3",
   "language": "python",
   "name": "python3"
  },
  "language_info": {
   "codemirror_mode": {
    "name": "ipython",
    "version": 3
   },
   "file_extension": ".py",
   "mimetype": "text/x-python",
   "name": "python",
   "nbconvert_exporter": "python",
   "pygments_lexer": "ipython3",
   "version": "3.7.7"
  }
 },
 "nbformat": 4,
 "nbformat_minor": 5
}
