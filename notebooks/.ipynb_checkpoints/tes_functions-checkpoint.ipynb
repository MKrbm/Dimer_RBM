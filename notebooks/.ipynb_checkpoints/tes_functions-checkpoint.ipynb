{
 "cells": [
  {
   "cell_type": "code",
   "execution_count": 548,
   "id": "demonstrated-comparative",
   "metadata": {},
   "outputs": [],
   "source": [
    "import sys\n",
    "sys.path.insert(0, '..')\n",
    "from importlib import reload\n",
    "import netket.machine.functions2 as f\n",
    "import numpy as np"
   ]
  },
  {
   "cell_type": "code",
   "execution_count": null,
   "id": "tested-state",
   "metadata": {},
   "outputs": [],
   "source": []
  },
  {
   "cell_type": "code",
   "execution_count": 549,
   "id": "infrared-cleaners",
   "metadata": {},
   "outputs": [],
   "source": [
    "reload(f)\n",
    "h = f.new_hex(np.array([5,1]))"
   ]
  },
  {
   "cell_type": "code",
   "execution_count": null,
   "id": "normal-actor",
   "metadata": {},
   "outputs": [],
   "source": []
  },
  {
   "cell_type": "code",
   "execution_count": 550,
   "id": "atlantic-soviet",
   "metadata": {},
   "outputs": [],
   "source": [
    "import scipy.fft as fft\n",
    "L = 20\n",
    "states = (f.list_up_states(L) + 1)/2\n",
    "wave_space = fft.fft(states)\n",
    "dft_matrix = np.fft.fft(np.eye(L))"
   ]
  },
  {
   "cell_type": "code",
   "execution_count": 551,
   "id": "broad-wright",
   "metadata": {},
   "outputs": [],
   "source": [
    "a = np.arange(L)\n",
    "a[3:] = 0\n",
    "b = 2 ** a\n",
    "b[3:] = 0\n",
    "U = np.empty((L,L), dtype=np.int)\n",
    "for l in range(L):\n",
    "    U[l] = np.roll(b,-l)"
   ]
  },
  {
   "cell_type": "code",
   "execution_count": 591,
   "id": "gorgeous-jenny",
   "metadata": {},
   "outputs": [
    {
     "name": "stdout",
     "output_type": "stream",
     "text": [
      "(96,)\n"
     ]
    }
   ],
   "source": [
    "ind = np.where(np.round((np.sqrt(states.dot(U))).dot(dft_matrix[4]),4)==0)[0]\n",
    "print(ind.shape)"
   ]
  },
  {
   "cell_type": "code",
   "execution_count": 592,
   "id": "accompanied-innocent",
   "metadata": {},
   "outputs": [
    {
     "data": {
      "text/plain": [
       "array([0., 0., 0., 0., 0., 1., 0., 0., 1., 0., 0., 0., 1., 0., 0., 0., 1.,\n",
       "       0., 0., 1.])"
      ]
     },
     "execution_count": 592,
     "metadata": {},
     "output_type": "execute_result"
    }
   ],
   "source": [
    "states[ind][3]"
   ]
  },
  {
   "cell_type": "code",
   "execution_count": 593,
   "id": "sharp-aspect",
   "metadata": {},
   "outputs": [
    {
     "name": "stdout",
     "output_type": "stream",
     "text": [
      "157 ms ± 2.21 ms per loop (mean ± std. dev. of 7 runs, 10 loops each)\n"
     ]
    }
   ],
   "source": [
    "%timeit np.round((np.sqrt(states.dot(U))).dot(dft_matrix[1]),4)"
   ]
  },
  {
   "cell_type": "code",
   "execution_count": 597,
   "id": "positive-reading",
   "metadata": {},
   "outputs": [
    {
     "data": {
      "text/plain": [
       "(1048576, 20)"
      ]
     },
     "execution_count": 597,
     "metadata": {},
     "output_type": "execute_result"
    }
   ],
   "source": [
    "np.sqrt(states.dot(U)).shape"
   ]
  },
  {
   "cell_type": "code",
   "execution_count": 598,
   "id": "upper-commerce",
   "metadata": {},
   "outputs": [
    {
     "data": {
      "text/plain": [
       "array([0., 0., 0., 0., 0., 0., 0., 0., 0., 0., 0., 0., 0., 0., 0., 0., 0.,\n",
       "       0., 0., 0.])"
      ]
     },
     "execution_count": 598,
     "metadata": {},
     "output_type": "execute_result"
    }
   ],
   "source": [
    "states[0]"
   ]
  },
  {
   "cell_type": "code",
   "execution_count": 890,
   "id": "casual-dominican",
   "metadata": {},
   "outputs": [],
   "source": [
    "from numba import njit\n",
    "@njit\n",
    "def for_kinetic(x, t, K, normalize=False):\n",
    "    \n",
    "    mult_array = 2 ** np.arange(K)\n",
    "    L = x.shape[1]\n",
    "    batch_size = x.shape[0]\n",
    "    out = np.zeros(batch_size, dtype=np.complex128)\n",
    "    for b in range(batch_size):\n",
    "        out_ = 0\n",
    "        for i in range(L):\n",
    "            temp = 0\n",
    "            \n",
    "            for k in range(K):\n",
    "                temp += x[b,(i+k)%L] * mult_array[k]\n",
    "            out_ += t[i]*np.sqrt(temp)\n",
    "#             out_ += t[i]*temp**2\n",
    "        if normalize:\n",
    "            out[b] = out_/np.abs(out_)\n",
    "        else:\n",
    "            out[b] = out_\n",
    "    return out\n"
   ]
  },
  {
   "cell_type": "code",
   "execution_count": 891,
   "id": "solid-property",
   "metadata": {},
   "outputs": [],
   "source": [
    "import scipy.fft as fft\n",
    "L = 12\n",
    "states = (f.list_up_states(L) + 1)/2\n",
    "wave_space = fft.fft(states)\n",
    "dft_matrix = np.fft.fft(np.eye(L))"
   ]
  },
  {
   "cell_type": "code",
   "execution_count": 896,
   "id": "returning-cloud",
   "metadata": {},
   "outputs": [
    {
     "name": "stdout",
     "output_type": "stream",
     "text": [
      "(32,)\n"
     ]
    }
   ],
   "source": [
    "for i in range(L)\n",
    "print(np.where(np.round(for_kinetic(states, dft_matrix[6],5),4)==0)[0].shape)"
   ]
  },
  {
   "cell_type": "code",
   "execution_count": 839,
   "id": "scheduled-attack",
   "metadata": {},
   "outputs": [
    {
     "data": {
      "text/plain": [
       "array([nan+nanj, nan+nanj, nan+nanj, ..., nan+nanj, nan+nanj,  0. +0.j])"
      ]
     },
     "execution_count": 839,
     "metadata": {},
     "output_type": "execute_result"
    }
   ],
   "source": [
    "np.round(for_kinetic(states, dft_matrix[5],4),4)"
   ]
  },
  {
   "cell_type": "code",
   "execution_count": 774,
   "id": "following-promise",
   "metadata": {},
   "outputs": [
    {
     "name": "stdout",
     "output_type": "stream",
     "text": [
      "172 ms ± 432 µs per loop (mean ± std. dev. of 7 runs, 10 loops each)\n"
     ]
    }
   ],
   "source": [
    "states_finite = states[ind]\n",
    "%timeit np.round(for_kinetic(states_finite, dft_matrix[4],4,normalize=True),4)"
   ]
  },
  {
   "cell_type": "code",
   "execution_count": 795,
   "id": "forced-brush",
   "metadata": {
    "scrolled": true
   },
   "outputs": [
    {
     "name": "stdout",
     "output_type": "stream",
     "text": [
      "(1036,)\n"
     ]
    }
   ],
   "source": [
    "ind = np.where(np.round(for_kinetic(states, dft_matrix[3],4),4)==0)[0]\n",
    "print(ind.shape)"
   ]
  },
  {
   "cell_type": "code",
   "execution_count": 779,
   "id": "improved-thong",
   "metadata": {},
   "outputs": [
    {
     "name": "stdout",
     "output_type": "stream",
     "text": [
      "[      0   69905  139810  209715  279620  349525  419430  489335  559240\n",
      "  629145  699050  768955  838860  908765  978670 1048575]\n"
     ]
    }
   ],
   "source": [
    "ind = np.where(np.round(for_kinetic(states, dft_matrix[4],4),4)==0)[0]\n",
    "print(ind)"
   ]
  },
  {
   "cell_type": "code",
   "execution_count": 780,
   "id": "wound-fundamental",
   "metadata": {},
   "outputs": [
    {
     "data": {
      "text/plain": [
       "array([0., 0., 0., 0., 0., 0., 0., 0., 0., 0., 0., 1., 0., 1., 0., 1., 0.,\n",
       "       1., 0., 1.])"
      ]
     },
     "execution_count": 780,
     "metadata": {},
     "output_type": "execute_result"
    }
   ],
   "source": [
    "states[341]"
   ]
  },
  {
   "cell_type": "code",
   "execution_count": 781,
   "id": "modern-valley",
   "metadata": {},
   "outputs": [
    {
     "data": {
      "text/plain": [
       "array([ 0.    +0.j    , -2.4531-0.6067j, -1.3351+2.1456j, ...,\n",
       "        0.2079-0.9944j,  1.01  -0.1096j, -0.    +0.j    ])"
      ]
     },
     "execution_count": 781,
     "metadata": {},
     "output_type": "execute_result"
    }
   ],
   "source": [
    "np.round((np.sqrt(states.dot(U))).dot(dft_matrix[4]),4)"
   ]
  },
  {
   "cell_type": "code",
   "execution_count": 782,
   "id": "nervous-footage",
   "metadata": {},
   "outputs": [
    {
     "data": {
      "text/plain": [
       "array([ 0.    +0.j    , -2.4531+0.6067j, -1.3351-2.1456j, ...,\n",
       "        0.2079+0.9944j,  1.01  +0.1096j, -0.    +0.j    ])"
      ]
     },
     "execution_count": 782,
     "metadata": {},
     "output_type": "execute_result"
    }
   ],
   "source": [
    "np.round(for_kinetic(states, dft_matrix[4],3),4)"
   ]
  },
  {
   "cell_type": "code",
   "execution_count": 788,
   "id": "dynamic-congo",
   "metadata": {},
   "outputs": [
    {
     "data": {
      "text/plain": [
       "(-4.440892098500626e-16+0j)"
      ]
     },
     "execution_count": 788,
     "metadata": {},
     "output_type": "execute_result"
    }
   ],
   "source": [
    "(np.sqrt(states[ind[1]].dot(U)) * dft_matrix[4]).sum()"
   ]
  },
  {
   "cell_type": "code",
   "execution_count": 786,
   "id": "frank-alias",
   "metadata": {},
   "outputs": [
    {
     "data": {
      "text/plain": [
       "array([0., 0., 0., 0., 0., 0., 0., 1., 0., 0., 1., 0., 0., 1., 0., 0., 1.,\n",
       "       0., 0., 1.])"
      ]
     },
     "execution_count": 786,
     "metadata": {},
     "output_type": "execute_result"
    }
   ],
   "source": [
    "states[ind[1]]"
   ]
  }
 ],
 "metadata": {
  "kernelspec": {
   "display_name": "Python 3",
   "language": "python",
   "name": "python3"
  },
  "language_info": {
   "codemirror_mode": {
    "name": "ipython",
    "version": 3
   },
   "file_extension": ".py",
   "mimetype": "text/x-python",
   "name": "python",
   "nbconvert_exporter": "python",
   "pygments_lexer": "ipython3",
   "version": "3.8.5"
  }
 },
 "nbformat": 4,
 "nbformat_minor": 5
}
