{
 "cells": [
  {
   "cell_type": "code",
   "execution_count": 1,
   "id": "single-adult",
   "metadata": {},
   "outputs": [
    {
     "name": "stderr",
     "output_type": "stream",
     "text": [
      "/home/keisuke/Documents/Research/sshfs/DimerMaster/functions.py:65: NumbaDeprecationWarning: The 'numba.jitclass' decorator has moved to 'numba.experimental.jitclass' to better reflect the experimental nature of the functionality. Please update your imports to accommodate this change and see https://numba.pydata.org/numba-doc/latest/reference/deprecation.html#change-of-jitclass-location for the time frame.\n",
      "  @jitclass(spec)\n"
     ]
    }
   ],
   "source": [
    "import numpy as np\n",
    "import netket as nk\n",
    "import functions as f"
   ]
  },
  {
   "cell_type": "code",
   "execution_count": 2,
   "id": "unexpected-jerusalem",
   "metadata": {},
   "outputs": [],
   "source": [
    "from conf import *\n",
    "from numba import njit"
   ]
  },
  {
   "cell_type": "code",
   "execution_count": null,
   "id": "balanced-broadcasting",
   "metadata": {},
   "outputs": [],
   "source": []
  },
  {
   "cell_type": "code",
   "execution_count": null,
   "id": "alert-token",
   "metadata": {},
   "outputs": [],
   "source": []
  },
  {
   "cell_type": "code",
   "execution_count": 3,
   "id": "present-catalog",
   "metadata": {},
   "outputs": [
    {
     "data": {
      "text/plain": [
       "1.0"
      ]
     },
     "execution_count": 3,
     "metadata": {},
     "output_type": "execute_result"
    }
   ],
   "source": [
    "np.zeros(3, dtype=np.intp)[0:3]\n",
    "np.random.rand(4)\n",
    "5.1 //3"
   ]
  },
  {
   "cell_type": "code",
   "execution_count": 4,
   "id": "satisfied-spectrum",
   "metadata": {},
   "outputs": [],
   "source": [
    "@njit\n",
    "def foo(x,y):\n",
    "    print((x//y).astype(np.int64))\n",
    "    return x"
   ]
  },
  {
   "cell_type": "code",
   "execution_count": 5,
   "id": "positive-optics",
   "metadata": {},
   "outputs": [],
   "source": [
    "x = np.random.randint(0,100, 10)\n",
    "y = np.random.randint(1,10, 10)"
   ]
  },
  {
   "cell_type": "code",
   "execution_count": 6,
   "id": "seasonal-biodiversity",
   "metadata": {},
   "outputs": [
    {
     "name": "stdout",
     "output_type": "stream",
     "text": [
      "[15 14 17  2  2 13 83 10  4  1]\n"
     ]
    },
    {
     "data": {
      "text/plain": [
       "array([92, 71, 71, 13,  8, 95, 83, 92, 21,  1])"
      ]
     },
     "execution_count": 6,
     "metadata": {},
     "output_type": "execute_result"
    }
   ],
   "source": [
    "foo(x,y)"
   ]
  },
  {
   "cell_type": "code",
   "execution_count": 7,
   "id": "leading-teacher",
   "metadata": {
    "scrolled": true
   },
   "outputs": [
    {
     "name": "stdout",
     "output_type": "stream",
     "text": [
      "4\n",
      "discard samples\n",
      "prepared initial samples\n"
     ]
    }
   ],
   "source": [
    "h = 1.0\n",
    "V = 1.0\n",
    "\n",
    "length = [4, 4]\n",
    "name = 'h={}V={}l={}'.format(h, V, length)\n",
    "n_chains = 10\n",
    "sweep_size = 70\n",
    "n_samples = 10000\n",
    "\n",
    "\n",
    "\n",
    "g = nk.graph.Graph(nodes = [i for i in range(length[0] * length[1] * 2)])\n",
    "hi = nk.hilbert.Spin(s=0.5, graph=g)\n",
    "\n",
    "op = f.dimer_hamiltonian(h, V,np.array(length))\n",
    "op_transition = f.dimer_flip(length = np.array(length))\n",
    "hex_ = nk.machine.new_hex(np.array(length))\n",
    "\n",
    "\n",
    "ma = nk.machine.RbmDimer(hi, hex_, alpha = alpha, symmetry = True\n",
    "                    ,use_hidden_bias = False, use_visible_bias = False, dtype=float)\n",
    "\n",
    "ma.load('save/ma/'+name)\n",
    "\n",
    "\n",
    "sa = nk.sampler.DimerMetropolisLocal(machine=ma, op=op_transition, length = length, n_chains=n_chains, sweep_size = 70)\n",
    "sa.generate_samples(10) # discard the begginings of metropolis sampling.\n",
    "print('discard samples')\n",
    "samples_state = sa.generate_samples(int(n_samples / n_chains))\n",
    "samples_state = samples_state.reshape(-1, ma.hilbert.size)\n",
    "\n",
    "print('prepared initial samples')\n",
    "\n",
    "\n"
   ]
  },
  {
   "cell_type": "code",
   "execution_count": 8,
   "id": "portable-champion",
   "metadata": {},
   "outputs": [],
   "source": [
    "import numpy as _np\n",
    "@njit\n",
    "def _get_conn_flattened_kernel(\n",
    "        x,\n",
    "        sections,\n",
    "        local_states,\n",
    "        basis,\n",
    "        constant,\n",
    "        diag_mels,\n",
    "        n_conns,\n",
    "        all_mels,\n",
    "        all_x_prime,\n",
    "        acting_on\n",
    "    ):\n",
    "    \n",
    "    \n",
    "    batch_size = x.shape[0]\n",
    "    n_sites = x.shape[1]\n",
    "\n",
    "    assert sections.shape[0] == batch_size\n",
    "\n",
    "    n_operators = n_conns.shape[0]\n",
    "    xs_n = _np.empty((batch_size, n_operators), dtype=_np.intp)\n",
    "\n",
    "    max_conn = 0\n",
    "\n",
    "    acting_size = 4\n",
    "    tot_conn = 0\n",
    "\n",
    "    sections += 1\n",
    "    for i in range(n_operators):\n",
    "        n_conns_i = n_conns[i]\n",
    "        x_i = (x[:, acting_on[i]] + 1) / 2\n",
    "        s = np.zeros(batch_size)\n",
    "        for j in range(acting_size):\n",
    "            s += x_i[:, j] * basis[j]\n",
    "        xs_n[:, i] = s\n",
    "        sections += n_conns_i[xs_n[:, i]]\n",
    "    tot_conn=sections.sum()\n",
    "    \n",
    "    s = 0 \n",
    "    for i in range(batch_size):\n",
    "        s += sections[i]\n",
    "        sections[i] = s\n",
    "\n",
    "    \n",
    "    \n",
    "#     for b in range(batch_size):\n",
    "#         # diagonal element\n",
    "#         conn_b = 1\n",
    "\n",
    "#         # counting the off-diagonal elements\n",
    "#         for i in range(n_operators):\n",
    "#             x_b = x[b]\n",
    "#             x_i = x_b[acting_on[i]]\n",
    "            \n",
    "            \n",
    "# #             xs_n[b, i] = (_np.searchsorted(local_states, x_i) * basis).sum()\n",
    "\n",
    "#             s = 0\n",
    "#             for k in range(acting_size):\n",
    "#                  s += (\n",
    "#                     (x_i[k] + 1)/2\n",
    "#                     * basis[k]\n",
    "#                 )\n",
    "#                 # print('xs_n',xs_n[b, i], ' x_i', x_i[acting_size_i - k - 1])\n",
    "#             xs_n[b, i] = s\n",
    "#             conn_b += n_conns[i, xs_n[b, i]]\n",
    "\n",
    "#         tot_conn += conn_b\n",
    "#         sections[b] = tot_conn\n",
    "\n",
    "\n",
    "\n",
    "    x_prime = _np.empty((tot_conn, n_sites), dtype=_np.int8) # x.shpae[0] is number of connected elements of hamiltonian from batch of states. \n",
    "    mels = _np.empty(tot_conn, dtype=_np.complex128)\n",
    "\n",
    "    c = 0\n",
    "    for b in range(batch_size):\n",
    "        c_diag = c\n",
    "        mels[c_diag] = constant\n",
    "        x_batch = x[b]\n",
    "        x_prime[c_diag] = _np.copy(x_batch)\n",
    "        c += 1\n",
    "        for i in range(n_operators):\n",
    "\n",
    "            # Diagonal part\n",
    "            mels[c_diag] += diag_mels[i, xs_n[b, i]]\n",
    "            n_conn_i = n_conns[i, xs_n[b, i]]\n",
    "\n",
    "            if n_conn_i > 0:\n",
    "                sites = acting_on[i]\n",
    "\n",
    "                for cc in range(n_conn_i):\n",
    "                    mels[c + cc] = all_mels[i, xs_n[b, i], cc]\n",
    "                    x_prime[c + cc] = _np.copy(x_batch) # assigin original basis to n_conn_i number of vectors, where n_conn_i means number of connected basis from one local operator indexed by i. \n",
    "\n",
    "                    for k in range(acting_size): \n",
    "                        x_prime[c + cc, sites[k]] = all_x_prime[\n",
    "                            i, xs_n[b, i], cc, k\n",
    "                        ]\n",
    "                c += n_conn_i\n",
    "\n",
    "\n",
    "    return x_prime, mels, sections"
   ]
  },
  {
   "cell_type": "code",
   "execution_count": null,
   "id": "personalized-exemption",
   "metadata": {},
   "outputs": [],
   "source": []
  },
  {
   "cell_type": "code",
   "execution_count": 17,
   "id": "cathedral-representation",
   "metadata": {},
   "outputs": [
    {
     "name": "stdout",
     "output_type": "stream",
     "text": [
      "1.18 ms ± 3.03 µs per loop (mean ± std. dev. of 7 runs, 1000 loops each)\n"
     ]
    }
   ],
   "source": [
    "%timeit np.searchsorted(np.array([-1, 1]), samples_state)"
   ]
  },
  {
   "cell_type": "code",
   "execution_count": 18,
   "id": "thousand-niagara",
   "metadata": {},
   "outputs": [
    {
     "name": "stdout",
     "output_type": "stream",
     "text": [
      "226 µs ± 1.82 µs per loop (mean ± std. dev. of 7 runs, 1000 loops each)\n"
     ]
    }
   ],
   "source": [
    "%timeit (samples_state + 1 ) / 2"
   ]
  },
  {
   "cell_type": "code",
   "execution_count": 12,
   "id": "artificial-spectrum",
   "metadata": {},
   "outputs": [
    {
     "data": {
      "text/plain": [
       "(10000, 32)"
      ]
     },
     "execution_count": 12,
     "metadata": {},
     "output_type": "execute_result"
    }
   ],
   "source": [
    "samples_state.shape"
   ]
  },
  {
   "cell_type": "code",
   "execution_count": 9,
   "id": "julian-collector",
   "metadata": {},
   "outputs": [
    {
     "data": {
      "text/plain": [
       "array([[-1., -1.,  1., -1.],\n",
       "       [-1., -1., -1.,  1.],\n",
       "       [-1.,  1.,  1., -1.],\n",
       "       ...,\n",
       "       [-1., -1.,  1., -1.],\n",
       "       [ 1.,  1.,  1., -1.],\n",
       "       [ 1., -1., -1.,  1.]])"
      ]
     },
     "execution_count": 9,
     "metadata": {},
     "output_type": "execute_result"
    }
   ],
   "source": [
    "samples_state[:,op._acting_on[0]]"
   ]
  },
  {
   "cell_type": "code",
   "execution_count": 10,
   "id": "otherwise-techno",
   "metadata": {},
   "outputs": [],
   "source": [
    "batch_size = samples_state.shape[0]\n",
    "basis = op._basis[::-1].copy()"
   ]
  },
  {
   "cell_type": "code",
   "execution_count": 13,
   "id": "medical-scanner",
   "metadata": {},
   "outputs": [
    {
     "name": "stdout",
     "output_type": "stream",
     "text": [
      "30.5 ms ± 315 µs per loop (mean ± std. dev. of 7 runs, 10 loops each)\n"
     ]
    }
   ],
   "source": [
    "%%timeit\n",
    "sections = np.zeros(batch_size, dtype=np.int64 )\n",
    "samples_state = np.random.choice([-1,1], (10000,32)).astype(np.int64)\n",
    "x_prime, mels, sec = _get_conn_flattened_kernel(\n",
    "    samples_state,\n",
    "    sections,\n",
    "    op._local_states,\n",
    "    basis,\n",
    "    op._constant,\n",
    "    op._diag_mels,\n",
    "    op._n_conns,\n",
    "    op._mels,\n",
    "    op._x_prime,\n",
    "    op._acting_on)"
   ]
  },
  {
   "cell_type": "code",
   "execution_count": 18,
   "id": "hidden-borough",
   "metadata": {},
   "outputs": [
    {
     "name": "stdout",
     "output_type": "stream",
     "text": [
      "1.11 ms ± 3.58 µs per loop (mean ± std. dev. of 7 runs, 1000 loops each)\n"
     ]
    }
   ],
   "source": [
    "%%timeit\n",
    "sections = np.zeros(batch_size, dtype=np.int64 )\n",
    "samples_state = np.random.choice([-1,1], (10000,32)).astype(np.int64)"
   ]
  },
  {
   "cell_type": "code",
   "execution_count": 12,
   "id": "varied-hopkins",
   "metadata": {},
   "outputs": [
    {
     "data": {
      "text/plain": [
       "array([[-1,  1, -1,  1],\n",
       "       [-1, -1, -1, -1],\n",
       "       [-1,  1, -1,  1],\n",
       "       ...,\n",
       "       [ 1, -1, -1, -1],\n",
       "       [-1, -1, -1,  1],\n",
       "       [-1,  1,  1,  1]])"
      ]
     },
     "execution_count": 12,
     "metadata": {},
     "output_type": "execute_result"
    }
   ],
   "source": [
    "np.random.choice([-1,1], (10000,4))"
   ]
  },
  {
   "cell_type": "code",
   "execution_count": 17,
   "id": "afraid-eligibility",
   "metadata": {},
   "outputs": [
    {
     "name": "stdout",
     "output_type": "stream",
     "text": [
      "70.4 ms ± 160 µs per loop (mean ± std. dev. of 7 runs, 10 loops each)\n"
     ]
    }
   ],
   "source": [
    "%%timeit \n",
    "sections = np.zeros(batch_size, dtype=np.int64 )\n",
    "samples_state = np.random.choice([-1,1], (10000,32)).astype(np.int64)\n",
    "x_prime, mels = op.get_conn_flattened(samples_state, sections)"
   ]
  },
  {
   "cell_type": "code",
   "execution_count": 14,
   "id": "uniform-favorite",
   "metadata": {},
   "outputs": [
    {
     "ename": "NameError",
     "evalue": "name 'x_prime_' is not defined",
     "output_type": "error",
     "traceback": [
      "\u001b[0;31m---------------------------------------------------------------------------\u001b[0m",
      "\u001b[0;31mNameError\u001b[0m                                 Traceback (most recent call last)",
      "\u001b[0;32m<ipython-input-14-3841855e5e80>\u001b[0m in \u001b[0;36m<module>\u001b[0;34m\u001b[0m\n\u001b[0;32m----> 1\u001b[0;31m \u001b[0;34m(\u001b[0m\u001b[0mx_prime_\u001b[0m \u001b[0;34m==\u001b[0m \u001b[0mx_prime\u001b[0m\u001b[0;34m)\u001b[0m\u001b[0;34m.\u001b[0m\u001b[0mall\u001b[0m\u001b[0;34m(\u001b[0m\u001b[0;34m)\u001b[0m\u001b[0;34m\u001b[0m\u001b[0;34m\u001b[0m\u001b[0m\n\u001b[0m",
      "\u001b[0;31mNameError\u001b[0m: name 'x_prime_' is not defined"
     ]
    }
   ],
   "source": [
    "(x_prime_ == x_prime).all()"
   ]
  },
  {
   "cell_type": "code",
   "execution_count": null,
   "id": "large-equity",
   "metadata": {},
   "outputs": [],
   "source": [
    "sections"
   ]
  },
  {
   "cell_type": "code",
   "execution_count": null,
   "id": "played-geology",
   "metadata": {},
   "outputs": [],
   "source": [
    "sections"
   ]
  },
  {
   "cell_type": "code",
   "execution_count": null,
   "id": "banner-nickel",
   "metadata": {},
   "outputs": [],
   "source": []
  }
 ],
 "metadata": {
  "kernelspec": {
   "display_name": "Python 3",
   "language": "python",
   "name": "python3"
  },
  "language_info": {
   "codemirror_mode": {
    "name": "ipython",
    "version": 3
   },
   "file_extension": ".py",
   "mimetype": "text/x-python",
   "name": "python",
   "nbconvert_exporter": "python",
   "pygments_lexer": "ipython3",
   "version": "3.8.5"
  }
 },
 "nbformat": 4,
 "nbformat_minor": 5
}
