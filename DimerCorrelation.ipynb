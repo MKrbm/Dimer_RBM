{
 "cells": [
  {
   "cell_type": "code",
   "execution_count": 1,
   "id": "neural-dylan",
   "metadata": {},
   "outputs": [
    {
     "name": "stderr",
     "output_type": "stream",
     "text": [
      "/home/keisuke/Documents/Research/sshfs/DimerMaster/functions.py:65: NumbaDeprecationWarning: The 'numba.jitclass' decorator has moved to 'numba.experimental.jitclass' to better reflect the experimental nature of the functionality. Please update your imports to accommodate this change and see https://numba.pydata.org/numba-doc/latest/reference/deprecation.html#change-of-jitclass-location for the time frame.\n",
      "  @jitclass(spec)\n"
     ]
    }
   ],
   "source": [
    "import numpy as np\n",
    "import netket as nk\n",
    "import functions as f"
   ]
  },
  {
   "cell_type": "code",
   "execution_count": 2,
   "id": "dimensional-netscape",
   "metadata": {},
   "outputs": [],
   "source": [
    "from conf import *\n",
    "from numba import njit"
   ]
  },
  {
   "cell_type": "code",
   "execution_count": null,
   "id": "starting-engineer",
   "metadata": {},
   "outputs": [],
   "source": []
  },
  {
   "cell_type": "code",
   "execution_count": null,
   "id": "powered-haven",
   "metadata": {},
   "outputs": [],
   "source": []
  },
  {
   "cell_type": "code",
   "execution_count": 3,
   "id": "behind-adjustment",
   "metadata": {},
   "outputs": [
    {
     "data": {
      "text/plain": [
       "1.0"
      ]
     },
     "execution_count": 3,
     "metadata": {},
     "output_type": "execute_result"
    }
   ],
   "source": [
    "np.zeros(3, dtype=np.intp)[0:3]\n",
    "np.random.rand(4)\n",
    "5.1 //3"
   ]
  },
  {
   "cell_type": "code",
   "execution_count": 4,
   "id": "systematic-deadline",
   "metadata": {},
   "outputs": [],
   "source": [
    "@njit\n",
    "def foo(x,y):\n",
    "    print((x//y).astype(np.int64))\n",
    "    return x"
   ]
  },
  {
   "cell_type": "code",
   "execution_count": 5,
   "id": "buried-convertible",
   "metadata": {},
   "outputs": [],
   "source": [
    "x = np.random.randint(0,100, 10)\n",
    "y = np.random.randint(1,10, 10)"
   ]
  },
  {
   "cell_type": "code",
   "execution_count": 6,
   "id": "finished-theta",
   "metadata": {},
   "outputs": [
    {
     "name": "stdout",
     "output_type": "stream",
     "text": [
      "[12  6 14 29  8 18 11  2 45 13]\n"
     ]
    },
    {
     "data": {
      "text/plain": [
       "array([24, 44, 28, 89, 67, 56, 88, 12, 91, 95])"
      ]
     },
     "execution_count": 6,
     "metadata": {},
     "output_type": "execute_result"
    }
   ],
   "source": [
    "foo(x,y)"
   ]
  },
  {
   "cell_type": "code",
   "execution_count": 7,
   "id": "synthetic-sheep",
   "metadata": {
    "scrolled": true
   },
   "outputs": [
    {
     "name": "stdout",
     "output_type": "stream",
     "text": [
      "4\n",
      "discard samples\n",
      "prepared initial samples\n"
     ]
    }
   ],
   "source": [
    "h = 1.0\n",
    "V = 1.0\n",
    "\n",
    "length = [4, 4]\n",
    "name = 'h={}V={}l={}'.format(h, V, length)\n",
    "n_chains = 10\n",
    "sweep_size = 70\n",
    "n_samples = 10000\n",
    "\n",
    "\n",
    "\n",
    "g = nk.graph.Graph(nodes = [i for i in range(length[0] * length[1] * 2)])\n",
    "hi = nk.hilbert.Spin(s=0.5, graph=g)\n",
    "\n",
    "op = f.dimer_hamiltonian(h, V,np.array(length))\n",
    "op_transition = f.dimer_flip(length = np.array(length))\n",
    "hex_ = nk.machine.new_hex(np.array(length))\n",
    "\n",
    "\n",
    "ma = nk.machine.RbmDimer(hi, hex_, alpha = alpha, symmetry = True\n",
    "                    ,use_hidden_bias = False, use_visible_bias = False, dtype=float)\n",
    "\n",
    "ma.load('save/ma/'+name)\n",
    "\n",
    "\n",
    "sa = nk.sampler.DimerMetropolisLocal(machine=ma, op=op_transition, length = length, n_chains=n_chains, sweep_size = 70)\n",
    "sa.generate_samples(10) # discard the begginings of metropolis sampling.\n",
    "print('discard samples')\n",
    "samples_state = sa.generate_samples(int(n_samples / n_chains))\n",
    "samples_state = samples_state.reshape(-1, ma.hilbert.size)\n",
    "\n",
    "print('prepared initial samples')\n",
    "\n",
    "\n"
   ]
  },
  {
   "cell_type": "code",
   "execution_count": 18,
   "id": "incomplete-following",
   "metadata": {},
   "outputs": [],
   "source": [
    "import numpy as _np\n",
    "@njit\n",
    "def _get_conn_flattened_kernel(\n",
    "        x,\n",
    "        sections,\n",
    "        local_states,\n",
    "        basis,\n",
    "        constant,\n",
    "        diag_mels,\n",
    "        n_conns,\n",
    "        all_mels,\n",
    "        all_x_prime,\n",
    "        acting_on,\n",
    "        acting_size\n",
    "    ):\n",
    "    \n",
    "    \n",
    "    batch_size = x.shape[0]\n",
    "    n_sites = x.shape[1]\n",
    "\n",
    "    assert sections.shape[0] == batch_size\n",
    "\n",
    "    n_operators = n_conns.shape[0]\n",
    "    xs_n = _np.empty((batch_size, n_operators), dtype=_np.intp)\n",
    "\n",
    "    max_conn = 0\n",
    "\n",
    "#     acting_size = np.int8(acting_size)\n",
    "#     acting_size = 4\n",
    "    tot_conn = 0\n",
    "\n",
    "    sections[:] = 1\n",
    "    \n",
    "    for i in range(n_operators):\n",
    "        n_conns_i = n_conns[i]\n",
    "        x_i = (x[:, acting_on[i]] + 1) / 2\n",
    "        s = np.zeros(batch_size)\n",
    "        for j in range(acting_size):\n",
    "            s += x_i[:, j] * basis[j]\n",
    "        xs_n[:, i] = s\n",
    "        sections += n_conns_i[xs_n[:, i]]\n",
    "    tot_conn=sections.sum()\n",
    "    \n",
    "    s = 0 \n",
    "#     sec = sections.copy()\n",
    "    for b in range(batch_size):\n",
    "        s += sections[b]\n",
    "        sections[b] = s\n",
    "\n",
    "\n",
    "\n",
    "    x_prime = _np.empty((tot_conn, n_sites), dtype=_np.int8) # x.shpae[0] is number of connected elements of hamiltonian from batch of states. \n",
    "    mels = _np.empty(tot_conn, dtype=_np.complex128)\n",
    "\n",
    "    \n",
    "    c = 0\n",
    "    for b in range(batch_size):\n",
    "        c_diag = c\n",
    "        mels[c_diag] = constant\n",
    "        x_batch = x[b]\n",
    "        xs_n_b = xs_n[b]\n",
    "        x_prime[c_diag] = _np.copy(x_batch)\n",
    "        c += 1\n",
    "        for i in range(n_operators):\n",
    "\n",
    "            # Diagonal part\n",
    "            mels[c_diag] += diag_mels[i, xs_n_b[i]]\n",
    "            n_conn_i = n_conns[i, xs_n_b[i]]\n",
    "\n",
    "            if n_conn_i > 0:\n",
    "                sites = acting_on[i]\n",
    "\n",
    "                for cc in range(n_conn_i):\n",
    "                    mels[c + cc] = all_mels[i, xs_n_b[i], cc]\n",
    "                    x_prime_cc = x_prime[c + cc]\n",
    "                    x_prime_cc[:] = _np.copy(x_batch)\n",
    "                    x_prime_cc[sites] = all_x_prime[i, xs_n_b[i], cc]\n",
    "#                     x_prime[c + cc] = x_prime_cc\n",
    "#                     x_prime[c + cc] =  _np.copy(x_batch)\n",
    "#                     for k in range(acting_size): \n",
    "#                         x_prime[c + cc, sites[k]] = all_x_prime[\n",
    "#                             i, xs_n[b, i], cc, k\n",
    "#                         ]\n",
    "                c += n_conn_i\n",
    "\n",
    "\n",
    "    return x_prime, mels"
   ]
  },
  {
   "cell_type": "code",
   "execution_count": 47,
   "id": "competent-photographer",
   "metadata": {},
   "outputs": [],
   "source": [
    "batch_size = samples_state.shape[0]\n",
    "basis = op._basis[::-1].copy()\n",
    "sections = np.zeros(batch_size, dtype=np.int64 )\n",
    "sections1 = np.zeros(batch_size, dtype=np.int64 )"
   ]
  },
  {
   "cell_type": "code",
   "execution_count": 48,
   "id": "acute-vegetation",
   "metadata": {},
   "outputs": [],
   "source": [
    "# %%timeit\n",
    "\n",
    "# samples_state = np.random.choice([-1,1], (10000,32)).astype(np.int64)\n",
    "x_prime, mels = _get_conn_flattened_kernel(\n",
    "    samples_state,\n",
    "    sections,\n",
    "    op._local_states,\n",
    "    basis,\n",
    "    op._constant,\n",
    "    op._diag_mels,\n",
    "    op._n_conns,\n",
    "    op._mels,\n",
    "    op._x_prime,\n",
    "    op._acting_on,\n",
    "    op._acting_size[0]\n",
    ")"
   ]
  },
  {
   "cell_type": "code",
   "execution_count": 49,
   "id": "vietnamese-hypothesis",
   "metadata": {},
   "outputs": [],
   "source": [
    "# %timeit\n",
    "x_prime1, mels1 = op.get_conn_flattened(samples_state, sections1)"
   ]
  },
  {
   "cell_type": "code",
   "execution_count": 50,
   "id": "irish-eligibility",
   "metadata": {},
   "outputs": [
    {
     "data": {
      "text/plain": [
       "array([ True,  True,  True, ...,  True,  True,  True])"
      ]
     },
     "execution_count": 50,
     "metadata": {},
     "output_type": "execute_result"
    }
   ],
   "source": [
    "sections == sections1"
   ]
  },
  {
   "cell_type": "code",
   "execution_count": 15,
   "id": "afraid-diagram",
   "metadata": {},
   "outputs": [
    {
     "data": {
      "text/plain": [
       "15600.0"
      ]
     },
     "execution_count": 15,
     "metadata": {},
     "output_type": "execute_result"
    }
   ],
   "source": [
    "1000 * 15.6 "
   ]
  },
  {
   "cell_type": "code",
   "execution_count": 13,
   "id": "molecular-litigation",
   "metadata": {},
   "outputs": [
    {
     "data": {
      "text/plain": [
       "0.00156"
      ]
     },
     "execution_count": 13,
     "metadata": {},
     "output_type": "execute_result"
    }
   ],
   "source": [
    "15.6/10000"
   ]
  },
  {
   "cell_type": "code",
   "execution_count": 11,
   "id": "found-blocking",
   "metadata": {},
   "outputs": [
    {
     "data": {
      "text/plain": [
       "array([-1,  1, -1,  1, -1,  1, -1,  1,  1,  1,  1,  1,  1,  1,  1,  1, -1,\n",
       "        1,  1,  1, -1,  1,  1,  1,  1,  1,  1,  1,  1,  1,  1,  1],\n",
       "      dtype=int8)"
      ]
     },
     "execution_count": 11,
     "metadata": {},
     "output_type": "execute_result"
    }
   ],
   "source": [
    "x_prime[0]"
   ]
  },
  {
   "cell_type": "code",
   "execution_count": 54,
   "id": "accompanied-match",
   "metadata": {},
   "outputs": [
    {
     "data": {
      "text/plain": [
       "array([    0,     6,    10, ..., 59882, 59889, 59896])"
      ]
     },
     "execution_count": 54,
     "metadata": {},
     "output_type": "execute_result"
    }
   ],
   "source": [
    "sections"
   ]
  },
  {
   "cell_type": "code",
   "execution_count": 55,
   "id": "charming-roman",
   "metadata": {},
   "outputs": [
    {
     "data": {
      "text/plain": [
       "array([4, 5, 6, 7, 9])"
      ]
     },
     "execution_count": 55,
     "metadata": {},
     "output_type": "execute_result"
    }
   ],
   "source": [
    "np.unique(sections[1:] - sections[:-1])"
   ]
  },
  {
   "cell_type": "code",
   "execution_count": 19,
   "id": "endless-standing",
   "metadata": {},
   "outputs": [
    {
     "data": {
      "text/plain": [
       "array([     0,     14,     35, ..., 166458, 166474, 166491])"
      ]
     },
     "execution_count": 19,
     "metadata": {},
     "output_type": "execute_result"
    }
   ],
   "source": [
    "sections"
   ]
  },
  {
   "cell_type": "code",
   "execution_count": null,
   "id": "homeless-disabled",
   "metadata": {},
   "outputs": [],
   "source": []
  },
  {
   "cell_type": "code",
   "execution_count": 36,
   "id": "coastal-parcel",
   "metadata": {},
   "outputs": [
    {
     "data": {
      "text/plain": [
       "array([     0,     16,     27, ..., 165955, 165969, 165985])"
      ]
     },
     "execution_count": 36,
     "metadata": {},
     "output_type": "execute_result"
    }
   ],
   "source": [
    "sections"
   ]
  },
  {
   "cell_type": "code",
   "execution_count": 37,
   "id": "hungry-stretch",
   "metadata": {},
   "outputs": [
    {
     "name": "stdout",
     "output_type": "stream",
     "text": [
      "55.8 ms ± 244 µs per loop (mean ± std. dev. of 7 runs, 1 loop each)\n"
     ]
    }
   ],
   "source": [
    "%%timeit \n",
    "sections = np.zeros(batch_size, dtype=np.int64 )\n",
    "# samples_state = np.random.choice([-1,1], (10000,32)).astype(np.int64)\n",
    "x_prime, mels = op.get_conn_flattened(samples_state, sections)"
   ]
  },
  {
   "cell_type": "code",
   "execution_count": 38,
   "id": "classified-maryland",
   "metadata": {},
   "outputs": [
    {
     "data": {
      "text/plain": [
       "array([     0,     16,     27, ..., 165955, 165969, 165985])"
      ]
     },
     "execution_count": 38,
     "metadata": {},
     "output_type": "execute_result"
    }
   ],
   "source": [
    "sections"
   ]
  },
  {
   "cell_type": "code",
   "execution_count": 212,
   "id": "hispanic-milan",
   "metadata": {},
   "outputs": [
    {
     "data": {
      "text/plain": [
       "True"
      ]
     },
     "execution_count": 212,
     "metadata": {},
     "output_type": "execute_result"
    }
   ],
   "source": [
    "(x_prime_ == x_prime).all()"
   ]
  },
  {
   "cell_type": "code",
   "execution_count": 146,
   "id": "growing-bidding",
   "metadata": {},
   "outputs": [
    {
     "data": {
      "text/plain": [
       "(249070, 32)"
      ]
     },
     "execution_count": 146,
     "metadata": {},
     "output_type": "execute_result"
    }
   ],
   "source": [
    "x_prime.shape"
   ]
  },
  {
   "cell_type": "code",
   "execution_count": null,
   "id": "stone-frequency",
   "metadata": {},
   "outputs": [],
   "source": [
    "sections"
   ]
  },
  {
   "cell_type": "code",
   "execution_count": null,
   "id": "spanish-scott",
   "metadata": {},
   "outputs": [],
   "source": []
  }
 ],
 "metadata": {
  "kernelspec": {
   "display_name": "Python 3",
   "language": "python",
   "name": "python3"
  },
  "language_info": {
   "codemirror_mode": {
    "name": "ipython",
    "version": 3
   },
   "file_extension": ".py",
   "mimetype": "text/x-python",
   "name": "python",
   "nbconvert_exporter": "python",
   "pygments_lexer": "ipython3",
   "version": "3.8.5"
  }
 },
 "nbformat": 4,
 "nbformat_minor": 5
}
