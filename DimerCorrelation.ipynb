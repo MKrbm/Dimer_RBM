{
 "cells": [
  {
   "cell_type": "code",
   "execution_count": 1,
   "id": "intelligent-convert",
   "metadata": {},
   "outputs": [
    {
     "name": "stderr",
     "output_type": "stream",
     "text": [
      "/home/keisuke/Documents/Research/sshfs/DimerMaster/functions.py:65: NumbaDeprecationWarning: The 'numba.jitclass' decorator has moved to 'numba.experimental.jitclass' to better reflect the experimental nature of the functionality. Please update your imports to accommodate this change and see https://numba.pydata.org/numba-doc/latest/reference/deprecation.html#change-of-jitclass-location for the time frame.\n",
      "  @jitclass(spec)\n"
     ]
    }
   ],
   "source": [
    "import numpy as np\n",
    "import netket as nk\n",
    "import functions"
   ]
  },
  {
   "cell_type": "code",
   "execution_count": 3,
   "id": "italic-collapse",
   "metadata": {},
   "outputs": [],
   "source": [
    "from conf import *"
   ]
  },
  {
   "cell_type": "code",
   "execution_count": 2,
   "id": "worth-humidity",
   "metadata": {},
   "outputs": [],
   "source": [
    "from numba import njit\n",
    "\n",
    "@njit\n",
    "def vec_n_to_state(number, local_states, out):\n",
    "    for n in range(number.shape[0]):\n",
    "        out[n] = nk.operator._local_operator._number_to_state(number[n] , local_states, out[n])"
   ]
  },
  {
   "cell_type": "code",
   "execution_count": 3,
   "id": "conventional-technique",
   "metadata": {},
   "outputs": [],
   "source": [
    "N = 2**16\n",
    "length = [2, 4]\n",
    "L = 2 * np.prod(length)\n",
    "hexagonal = nk.machine.graph_hex(length)\n",
    "number = np.arange(N)\n",
    "local_state = np.array([-1,1],dtype=np.int64)\n",
    "out = np.empty((N,L), dtype=np.int64)\n",
    "vec_n_to_state(number, local_state, out)\n",
    "dimer_basis = out[hexagonal.is_dimer_basis2(out)]"
   ]
  },
  {
   "cell_type": "code",
   "execution_count": null,
   "id": "advisory-enlargement",
   "metadata": {},
   "outputs": [],
   "source": []
  },
  {
   "cell_type": "code",
   "execution_count": 4,
   "id": "editorial-settlement",
   "metadata": {},
   "outputs": [],
   "source": [
    "e, ec, ce, cec = hexagonal.for_transition()"
   ]
  },
  {
   "cell_type": "code",
   "execution_count": 5,
   "id": "decent-copper",
   "metadata": {
    "scrolled": true
   },
   "outputs": [
    {
     "data": {
      "text/plain": [
       "array([[ 4,  8],\n",
       "       [ 6, 10],\n",
       "       [12,  0],\n",
       "       [14,  2]])"
      ]
     },
     "execution_count": 5,
     "metadata": {},
     "output_type": "execute_result"
    }
   ],
   "source": [
    "e[ec==-1]"
   ]
  },
  {
   "cell_type": "code",
   "execution_count": 6,
   "id": "simplified-friendly",
   "metadata": {},
   "outputs": [],
   "source": [
    "P_0 = np.ones(dimer_basis.shape[0])\n",
    "P_0 = P_0/np.sum(P_0)\n",
    "v = P_0/np.sqrt(np.sum(P_0 ** 2))"
   ]
  },
  {
   "cell_type": "code",
   "execution_count": 7,
   "id": "identified-accountability",
   "metadata": {},
   "outputs": [
    {
     "data": {
      "text/plain": [
       "array([[ 1,  1, -1, ...,  1,  1,  1],\n",
       "       [ 1,  1, -1, ...,  1,  1,  1],\n",
       "       [-1,  1,  1, ...,  1, -1, -1],\n",
       "       ...,\n",
       "       [-1, -1, -1, ..., -1,  1,  1],\n",
       "       [-1,  1, -1, ...,  1,  1, -1],\n",
       "       [ 1, -1, -1, ..., -1,  1,  1]])"
      ]
     },
     "execution_count": 7,
     "metadata": {},
     "output_type": "execute_result"
    }
   ],
   "source": [
    "s = np.random.choice(len(P_0), 100, replace=True, p=P_0)\n",
    "dimer_basis[s]"
   ]
  },
  {
   "cell_type": "code",
   "execution_count": 8,
   "id": "willing-emperor",
   "metadata": {},
   "outputs": [],
   "source": [
    "h = 1\n",
    "q = 1\n",
    "V = h * q\n",
    "# V = 1\n",
    "sigmaz = np.array([[1, 0], [0, -1]])\n",
    "sigmax = np.array([[0,1],[1,0]])\n",
    "sigmay = np.array([[0,1],[-1,0]])\n",
    "\n",
    "mszsz = np.kron(sigmaz, sigmaz)\n",
    "mszsx = np.kron(sigmax, sigmax)\n",
    "mszsy = np.kron(sigmay, sigmay)\n",
    "\n",
    "potential_anti = (np.identity(4) + mszsz)/2\n",
    "potential_ferro = (np.identity(4) - mszsz)/2\n",
    "\n",
    "hexagon = nk.machine.graph_hex(length = length)\n",
    "\n",
    "\n",
    "g = nk.graph.Graph(nodes = [i for i in range(length[0] * length[1] * 2)])\n",
    "hi = nk.hilbert.Spin(s=0.5, graph=g)\n",
    "op = nk.operator.LocalOperator(hi)\n"
   ]
  },
  {
   "cell_type": "code",
   "execution_count": 9,
   "id": "architectural-animal",
   "metadata": {},
   "outputs": [],
   "source": [
    "e, ec, ce, cec = hexagon.for_transition()"
   ]
  },
  {
   "cell_type": "code",
   "execution_count": 10,
   "id": "included-backing",
   "metadata": {
    "scrolled": true
   },
   "outputs": [],
   "source": [
    "hi = nk.hilbert.Spin(s=0.5, graph=g)\n",
    "op = nk.operator.DimerLocalOperator(hi)\n",
    "\n",
    "for edge, edge_color, pe, pec in zip(e, ec, ce, cec):\n",
    "    l_op = -h*mszsx\n",
    "    \n",
    "    l_op = np.kron(np.identity(2), l_op)\n",
    "    l_op = np.kron(l_op, np.identity(2))\n",
    "    \n",
    "    mat = []\n",
    "    edge_ = []\n",
    "    for p, c in zip(pe, pec):\n",
    "        mat.append(np.kron(\n",
    "            potential_ferro if c[0] == 1 else potential_anti,\n",
    "            potential_ferro if c[1] == 1 else potential_anti,\n",
    "        ))\n",
    "        edge_.append(p[0].tolist() + p[1].tolist())\n",
    "    \n",
    "    op += nk.operator.LocalOperator(hi, l_op @ mat[0] + V * mat[0], edge_[0])\n",
    "    op += nk.operator.LocalOperator(hi, l_op @ mat[1] + V * mat[1], edge_[1])"
   ]
  },
  {
   "cell_type": "code",
   "execution_count": 11,
   "id": "perceived-kansas",
   "metadata": {},
   "outputs": [],
   "source": [
    "alpha = 4\n",
    "ma = nk.machine.RbmDimer(hi, alpha = alpha, symmetry = False\n",
    "                        ,use_hidden_bias = False, use_visible_bias = False, dtype=float)\n",
    "ma.init_random_parameters(seed=1234, sigma=0.01)"
   ]
  },
  {
   "cell_type": "code",
   "execution_count": 12,
   "id": "drawn-composer",
   "metadata": {
    "collapsed": true
   },
   "outputs": [
    {
     "name": "stderr",
     "output_type": "stream",
     "text": [
      "/home/keisuke/Documents/Research/sshfs/DimerMaster/netket/machine/rbm.py:173: NumbaPerformanceWarning: np.dot() is faster on contiguous arrays, called on (array(float64, 2d, C), array(float64, 2d, A))\n",
      "  r = x.dot(W)\n",
      "\r",
      "  0%|          | 0/300 [00:00<?, ?it/s]"
     ]
    },
    {
     "name": "stdout",
     "output_type": "stream",
     "text": [
      "No output specified (out=[apath|nk.logging.JsonLogger(...)]).Running the optimization but not saving the output.\n"
     ]
    },
    {
     "name": "stderr",
     "output_type": "stream",
     "text": [
      " 11%|█         | 33/300 [00:07<01:01,  4.35it/s, Energy=0.00034+0.00000j ± 0.00041 [σ²=0.00014, R̂=0.9982]] \n"
     ]
    },
    {
     "ename": "KeyboardInterrupt",
     "evalue": "",
     "output_type": "error",
     "traceback": [
      "\u001b[0;31m---------------------------------------------------------------------------\u001b[0m",
      "\u001b[0;31mKeyboardInterrupt\u001b[0m                         Traceback (most recent call last)",
      "\u001b[0;32m<ipython-input-12-12e415a0745a>\u001b[0m in \u001b[0;36m<module>\u001b[0;34m\u001b[0m\n\u001b[1;32m     10\u001b[0m \u001b[0mn_discard\u001b[0m\u001b[0;34m=\u001b[0m\u001b[0;36m200\u001b[0m\u001b[0;34m\u001b[0m\u001b[0;34m\u001b[0m\u001b[0m\n\u001b[1;32m     11\u001b[0m )\n\u001b[0;32m---> 12\u001b[0;31m \u001b[0mgs\u001b[0m\u001b[0;34m.\u001b[0m\u001b[0mrun\u001b[0m\u001b[0;34m(\u001b[0m\u001b[0mn_iter\u001b[0m\u001b[0;34m=\u001b[0m\u001b[0;36m300\u001b[0m\u001b[0;34m)\u001b[0m\u001b[0;34m\u001b[0m\u001b[0;34m\u001b[0m\u001b[0m\n\u001b[0m",
      "\u001b[0;32m~/Documents/Research/sshfs/DimerMaster/netket/abstract_variational_driver.py\u001b[0m in \u001b[0;36mrun\u001b[0;34m(self, n_iter, out, obs, show_progress, save_params_every, write_every, step_size, callback)\u001b[0m\n\u001b[1;32m    229\u001b[0m             \u001b[0mself\u001b[0m\u001b[0;34m.\u001b[0m\u001b[0miter\u001b[0m\u001b[0;34m(\u001b[0m\u001b[0mn_iter\u001b[0m\u001b[0;34m,\u001b[0m \u001b[0mstep_size\u001b[0m\u001b[0;34m)\u001b[0m\u001b[0;34m,\u001b[0m \u001b[0mtotal\u001b[0m\u001b[0;34m=\u001b[0m\u001b[0mn_iter\u001b[0m\u001b[0;34m,\u001b[0m \u001b[0mdisable\u001b[0m\u001b[0;34m=\u001b[0m\u001b[0;32mnot\u001b[0m \u001b[0mshow_progress\u001b[0m\u001b[0;34m\u001b[0m\u001b[0;34m\u001b[0m\u001b[0m\n\u001b[1;32m    230\u001b[0m         ) as itr:\n\u001b[0;32m--> 231\u001b[0;31m             \u001b[0;32mfor\u001b[0m \u001b[0mstep\u001b[0m \u001b[0;32min\u001b[0m \u001b[0mitr\u001b[0m\u001b[0;34m:\u001b[0m\u001b[0;34m\u001b[0m\u001b[0;34m\u001b[0m\u001b[0m\n\u001b[0m\u001b[1;32m    232\u001b[0m \u001b[0;34m\u001b[0m\u001b[0m\n\u001b[1;32m    233\u001b[0m                 \u001b[0mlog_data\u001b[0m \u001b[0;34m=\u001b[0m \u001b[0mself\u001b[0m\u001b[0;34m.\u001b[0m\u001b[0mestimate\u001b[0m\u001b[0;34m(\u001b[0m\u001b[0mobs\u001b[0m\u001b[0;34m)\u001b[0m\u001b[0;34m\u001b[0m\u001b[0;34m\u001b[0m\u001b[0m\n",
      "\u001b[0;32m~/miniconda3/envs/research/lib/python3.8/site-packages/tqdm/std.py\u001b[0m in \u001b[0;36m__iter__\u001b[0;34m(self)\u001b[0m\n\u001b[1;32m   1165\u001b[0m \u001b[0;34m\u001b[0m\u001b[0m\n\u001b[1;32m   1166\u001b[0m         \u001b[0;32mtry\u001b[0m\u001b[0;34m:\u001b[0m\u001b[0;34m\u001b[0m\u001b[0;34m\u001b[0m\u001b[0m\n\u001b[0;32m-> 1167\u001b[0;31m             \u001b[0;32mfor\u001b[0m \u001b[0mobj\u001b[0m \u001b[0;32min\u001b[0m \u001b[0miterable\u001b[0m\u001b[0;34m:\u001b[0m\u001b[0;34m\u001b[0m\u001b[0;34m\u001b[0m\u001b[0m\n\u001b[0m\u001b[1;32m   1168\u001b[0m                 \u001b[0;32myield\u001b[0m \u001b[0mobj\u001b[0m\u001b[0;34m\u001b[0m\u001b[0;34m\u001b[0m\u001b[0m\n\u001b[1;32m   1169\u001b[0m                 \u001b[0;31m# Update and possibly print the progressbar.\u001b[0m\u001b[0;34m\u001b[0m\u001b[0;34m\u001b[0m\u001b[0;34m\u001b[0m\u001b[0m\n",
      "\u001b[0;32m~/Documents/Research/sshfs/DimerMaster/netket/abstract_variational_driver.py\u001b[0m in \u001b[0;36miter\u001b[0;34m(self, n_steps, step)\u001b[0m\n\u001b[1;32m    151\u001b[0m         \u001b[0;32mfor\u001b[0m \u001b[0m_\u001b[0m \u001b[0;32min\u001b[0m \u001b[0mrange\u001b[0m\u001b[0;34m(\u001b[0m\u001b[0;36m0\u001b[0m\u001b[0;34m,\u001b[0m \u001b[0mn_steps\u001b[0m\u001b[0;34m,\u001b[0m \u001b[0mstep\u001b[0m\u001b[0;34m)\u001b[0m\u001b[0;34m:\u001b[0m\u001b[0;34m\u001b[0m\u001b[0;34m\u001b[0m\u001b[0m\n\u001b[1;32m    152\u001b[0m             \u001b[0;32mfor\u001b[0m \u001b[0mi\u001b[0m \u001b[0;32min\u001b[0m \u001b[0mrange\u001b[0m\u001b[0;34m(\u001b[0m\u001b[0;36m0\u001b[0m\u001b[0;34m,\u001b[0m \u001b[0mstep\u001b[0m\u001b[0;34m)\u001b[0m\u001b[0;34m:\u001b[0m\u001b[0;34m\u001b[0m\u001b[0;34m\u001b[0m\u001b[0m\n\u001b[0;32m--> 153\u001b[0;31m                 \u001b[0mdp\u001b[0m \u001b[0;34m=\u001b[0m \u001b[0mself\u001b[0m\u001b[0;34m.\u001b[0m\u001b[0m_forward_and_backward\u001b[0m\u001b[0;34m(\u001b[0m\u001b[0;34m)\u001b[0m\u001b[0;34m\u001b[0m\u001b[0;34m\u001b[0m\u001b[0m\n\u001b[0m\u001b[1;32m    154\u001b[0m                 \u001b[0;32mif\u001b[0m \u001b[0mi\u001b[0m \u001b[0;34m==\u001b[0m \u001b[0;36m0\u001b[0m\u001b[0;34m:\u001b[0m\u001b[0;34m\u001b[0m\u001b[0;34m\u001b[0m\u001b[0m\n\u001b[1;32m    155\u001b[0m                     \u001b[0;32myield\u001b[0m \u001b[0mself\u001b[0m\u001b[0;34m.\u001b[0m\u001b[0mstep_count\u001b[0m\u001b[0;34m\u001b[0m\u001b[0;34m\u001b[0m\u001b[0m\n",
      "\u001b[0;32m~/Documents/Research/sshfs/DimerMaster/netket/_vmc.py\u001b[0m in \u001b[0;36m_forward_and_backward\u001b[0;34m(self)\u001b[0m\n\u001b[1;32m    134\u001b[0m \u001b[0;34m\u001b[0m\u001b[0m\n\u001b[1;32m    135\u001b[0m         \u001b[0;31m# Burnout phase\u001b[0m\u001b[0;34m\u001b[0m\u001b[0;34m\u001b[0m\u001b[0;34m\u001b[0m\u001b[0m\n\u001b[0;32m--> 136\u001b[0;31m         \u001b[0mself\u001b[0m\u001b[0;34m.\u001b[0m\u001b[0m_sampler\u001b[0m\u001b[0;34m.\u001b[0m\u001b[0mgenerate_samples\u001b[0m\u001b[0;34m(\u001b[0m\u001b[0mself\u001b[0m\u001b[0;34m.\u001b[0m\u001b[0m_n_discard\u001b[0m\u001b[0;34m)\u001b[0m\u001b[0;34m\u001b[0m\u001b[0;34m\u001b[0m\u001b[0m\n\u001b[0m\u001b[1;32m    137\u001b[0m \u001b[0;34m\u001b[0m\u001b[0m\n\u001b[1;32m    138\u001b[0m         \u001b[0;31m# Generate samples and store them\u001b[0m\u001b[0;34m\u001b[0m\u001b[0;34m\u001b[0m\u001b[0;34m\u001b[0m\u001b[0m\n",
      "\u001b[0;32m~/Documents/Research/sshfs/DimerMaster/netket/sampler/abstract_sampler.py\u001b[0m in \u001b[0;36mgenerate_samples\u001b[0;34m(self, n_samples, init_random, samples)\u001b[0m\n\u001b[1;32m     65\u001b[0m \u001b[0;34m\u001b[0m\u001b[0m\n\u001b[1;32m     66\u001b[0m         \u001b[0;32mfor\u001b[0m \u001b[0mi\u001b[0m \u001b[0;32min\u001b[0m \u001b[0mrange\u001b[0m\u001b[0;34m(\u001b[0m\u001b[0mn_samples\u001b[0m\u001b[0;34m)\u001b[0m\u001b[0;34m:\u001b[0m\u001b[0;34m\u001b[0m\u001b[0;34m\u001b[0m\u001b[0m\n\u001b[0;32m---> 67\u001b[0;31m             \u001b[0msamples\u001b[0m\u001b[0;34m[\u001b[0m\u001b[0mi\u001b[0m\u001b[0;34m]\u001b[0m \u001b[0;34m=\u001b[0m \u001b[0mself\u001b[0m\u001b[0;34m.\u001b[0m\u001b[0m__next__\u001b[0m\u001b[0;34m(\u001b[0m\u001b[0;34m)\u001b[0m\u001b[0;34m\u001b[0m\u001b[0;34m\u001b[0m\u001b[0m\n\u001b[0m\u001b[1;32m     68\u001b[0m \u001b[0;34m\u001b[0m\u001b[0m\n\u001b[1;32m     69\u001b[0m \u001b[0;34m\u001b[0m\u001b[0m\n",
      "\u001b[0;32m~/Documents/Research/sshfs/DimerMaster/netket/sampler/numpy/metropolis_hastings.py\u001b[0m in \u001b[0;36m__next__\u001b[0;34m(self)\u001b[0m\n\u001b[1;32m    162\u001b[0m             \u001b[0m_t_kernel\u001b[0m\u001b[0;34m(\u001b[0m\u001b[0m_state\u001b[0m\u001b[0;34m,\u001b[0m \u001b[0m_state1\u001b[0m\u001b[0;34m,\u001b[0m \u001b[0m_log_prob_corr\u001b[0m\u001b[0;34m,\u001b[0m \u001b[0mself\u001b[0m\u001b[0;34m.\u001b[0m\u001b[0me\u001b[0m\u001b[0;34m,\u001b[0m \u001b[0mself\u001b[0m\u001b[0;34m.\u001b[0m\u001b[0mec\u001b[0m\u001b[0;34m,\u001b[0m \u001b[0mself\u001b[0m\u001b[0;34m.\u001b[0m\u001b[0mcpe\u001b[0m\u001b[0;34m,\u001b[0m \u001b[0mself\u001b[0m\u001b[0;34m.\u001b[0m\u001b[0mcpc\u001b[0m\u001b[0;34m)\u001b[0m\u001b[0;34m\u001b[0m\u001b[0;34m\u001b[0m\u001b[0m\n\u001b[1;32m    163\u001b[0m \u001b[0;34m\u001b[0m\u001b[0m\n\u001b[0;32m--> 164\u001b[0;31m             \u001b[0m_log_values_1\u001b[0m \u001b[0;34m=\u001b[0m \u001b[0m_log_val\u001b[0m\u001b[0;34m(\u001b[0m\u001b[0m_state1\u001b[0m\u001b[0;34m,\u001b[0m \u001b[0mout\u001b[0m\u001b[0;34m=\u001b[0m\u001b[0m_log_values_1\u001b[0m\u001b[0;34m)\u001b[0m\u001b[0;34m\u001b[0m\u001b[0;34m\u001b[0m\u001b[0m\n\u001b[0m\u001b[1;32m    165\u001b[0m \u001b[0;34m\u001b[0m\u001b[0m\n\u001b[1;32m    166\u001b[0m \u001b[0;34m\u001b[0m\u001b[0m\n",
      "\u001b[0;32m~/Documents/Research/sshfs/DimerMaster/netket/machine/rbm.py\u001b[0m in \u001b[0;36mlog_val\u001b[0;34m(self, x, out)\u001b[0m\n\u001b[1;32m    575\u001b[0m         \u001b[0mx\u001b[0m \u001b[0;34m=\u001b[0m \u001b[0mx\u001b[0m\u001b[0;34m.\u001b[0m\u001b[0mastype\u001b[0m\u001b[0;34m(\u001b[0m\u001b[0mdtype\u001b[0m\u001b[0;34m=\u001b[0m\u001b[0mself\u001b[0m\u001b[0;34m.\u001b[0m\u001b[0m_npdtype\u001b[0m\u001b[0;34m)\u001b[0m\u001b[0;34m\u001b[0m\u001b[0;34m\u001b[0m\u001b[0m\n\u001b[1;32m    576\u001b[0m \u001b[0;34m\u001b[0m\u001b[0m\n\u001b[0;32m--> 577\u001b[0;31m         \u001b[0mout_\u001b[0m \u001b[0;34m=\u001b[0m  \u001b[0mself\u001b[0m\u001b[0;34m.\u001b[0m\u001b[0m_log_val_kernel\u001b[0m\u001b[0;34m(\u001b[0m\u001b[0mx\u001b[0m\u001b[0;34m,\u001b[0m \u001b[0mout\u001b[0m\u001b[0;34m,\u001b[0m \u001b[0mself\u001b[0m\u001b[0;34m.\u001b[0m\u001b[0m_w\u001b[0m\u001b[0;34m,\u001b[0m \u001b[0mself\u001b[0m\u001b[0;34m.\u001b[0m\u001b[0m_a\u001b[0m\u001b[0;34m,\u001b[0m \u001b[0mself\u001b[0m\u001b[0;34m.\u001b[0m\u001b[0m_b\u001b[0m\u001b[0;34m,\u001b[0m \u001b[0mself\u001b[0m\u001b[0;34m.\u001b[0m\u001b[0m_r\u001b[0m\u001b[0;34m)\u001b[0m\u001b[0;34m\u001b[0m\u001b[0;34m\u001b[0m\u001b[0m\n\u001b[0m\u001b[1;32m    578\u001b[0m \u001b[0;34m\u001b[0m\u001b[0m\n\u001b[1;32m    579\u001b[0m \u001b[0;34m\u001b[0m\u001b[0m\n",
      "\u001b[0;31mKeyboardInterrupt\u001b[0m: "
     ]
    }
   ],
   "source": [
    "sa = nk.sampler.DimerMetropolisLocal(machine=ma, n_chains=10, sweep_size= 20,length=length)\n",
    "sr = nk.optimizer.SR(ma, diag_shift=0.05)\n",
    "opt = nk.optimizer.Sgd(ma, learning_rate=0.01)\n",
    "gs = nk.Vmc(\n",
    "hamiltonian=op,\n",
    "sampler=sa,\n",
    "optimizer=opt,\n",
    "n_samples=1000,\n",
    "sr = sr,\n",
    "n_discard=200\n",
    ")\n",
    "gs.run(n_iter=300)"
   ]
  },
  {
   "cell_type": "code",
   "execution_count": 81,
   "id": "recent-retro",
   "metadata": {
    "scrolled": true
   },
   "outputs": [
    {
     "data": {
      "text/plain": [
       "array([0.04741705+0.j, 0.04796538+0.j, 0.04745201+0.j, 0.04737368+0.j,\n",
       "       0.04695419+0.j, 0.04680067+0.j, 0.046157  +0.j, 0.04659263+0.j,\n",
       "       0.04694302+0.j, 0.04618711+0.j, 0.04685424+0.j, 0.04656629+0.j,\n",
       "       0.04616666+0.j, 0.04508593+0.j, 0.04598874+0.j, 0.04668497+0.j,\n",
       "       0.04602444+0.j, 0.04547165+0.j, 0.04701593+0.j, 0.04543277+0.j,\n",
       "       0.04628851+0.j, 0.04521021+0.j, 0.04622782+0.j, 0.04548385+0.j,\n",
       "       0.04620717+0.j, 0.04680037+0.j, 0.04724961+0.j, 0.04743695+0.j,\n",
       "       0.04743695+0.j, 0.04724961+0.j, 0.04680037+0.j, 0.04620717+0.j,\n",
       "       0.04548385+0.j, 0.04622782+0.j, 0.04521021+0.j, 0.04628851+0.j,\n",
       "       0.04543277+0.j, 0.04701593+0.j, 0.04547165+0.j, 0.04602444+0.j,\n",
       "       0.04668497+0.j, 0.04598874+0.j, 0.04508593+0.j, 0.04616666+0.j,\n",
       "       0.04656629+0.j, 0.04685424+0.j, 0.04618711+0.j, 0.04694302+0.j,\n",
       "       0.04659263+0.j, 0.046157  +0.j, 0.04680067+0.j, 0.04695419+0.j,\n",
       "       0.04737368+0.j, 0.04745201+0.j, 0.04796538+0.j, 0.04741705+0.j])"
      ]
     },
     "execution_count": 81,
     "metadata": {},
     "output_type": "execute_result"
    }
   ],
   "source": [
    "ma.log_val(dimer_basis)"
   ]
  },
  {
   "cell_type": "code",
   "execution_count": 77,
   "id": "engaging-dairy",
   "metadata": {
    "scrolled": true
   },
   "outputs": [],
   "source": [
    "from numba import jitclass, int64, float64, complex128, njit, prange\n",
    "\n",
    "\n",
    "\n",
    "\n",
    "\n",
    "get_conn = nk.operator.LocalOperator._get_conn_flattened_kernel\n",
    "\n",
    "\n",
    "class dynamics: \n",
    "    def __init__(self,\n",
    "                local_states,\n",
    "                basis,\n",
    "                constant,\n",
    "                diag_mels,\n",
    "                n_conns,\n",
    "                mels,\n",
    "                x_prime,\n",
    "                acting_on,\n",
    "                acting_size,):\n",
    "        \n",
    "        self.local_states = np.sort(local_states)\n",
    "        self.basis = basis\n",
    "        self.constant = constant\n",
    "        self.diag_mels = diag_mels\n",
    "        self.n_conns = n_conns\n",
    "        self.mels = mels\n",
    "        self.x_prime = x_prime\n",
    "        self.acting_on = acting_on\n",
    "        self.acting_size = acting_size\n",
    "        \n",
    "    \n",
    "    \n",
    "    def dynamics(self, X, time_list, E0):\n",
    "        \n",
    "        \n",
    "        \n",
    "        \n",
    "        return self._dynamics(\n",
    "            X, \n",
    "            time_list, \n",
    "            E0,\n",
    "            self.local_states,\n",
    "            self.basis,\n",
    "            self.constant,\n",
    "            self.diag_mels,\n",
    "            self.n_conns,\n",
    "            self.mels,\n",
    "            self.x_prime,\n",
    "            self.acting_on,\n",
    "            self.acting_size,        \n",
    "        )\n",
    "    \n",
    "    \n",
    "    @staticmethod\n",
    "    @njit\n",
    "    def _dynamics(\n",
    "            X,\n",
    "            time_list,\n",
    "            E0,\n",
    "            _local_states,\n",
    "            _basis,\n",
    "            _constant,\n",
    "            _diag_mels,\n",
    "            _n_conns,\n",
    "            _mels,\n",
    "            _x_prime,\n",
    "            _acting_on,\n",
    "            _acting_size):\n",
    "        \n",
    "        # basis is float64[:]\n",
    "        \n",
    "        \n",
    "         \n",
    "        t_d = time_list[1]-time_list[0]\n",
    "        t_end = np.shape(time_list)[0]\n",
    "        p_array = np.zeros((X.shape[0],t_end,X.shape[1]),dtype= np.float64)\n",
    "        p = np.zeros_like(p_array[0])\n",
    "        t_s = time_list[0]\n",
    "        \n",
    "        for j in range(X.shape[0]):\n",
    "            p = np.zeros_like(p_array[0])\n",
    "            x = X[j]\n",
    "            time = 0\n",
    "            t_index_b = -1\n",
    "        \n",
    "            while True:\n",
    "                x_prime, mels = get_conn(\n",
    "                                    x.reshape((1, -1)),\n",
    "                                    np.ones(1),\n",
    "                                    _local_states,\n",
    "                                    _basis,\n",
    "                                    _constant,\n",
    "                                    _diag_mels,\n",
    "                                    _n_conns,\n",
    "                                    _mels,\n",
    "                                    _x_prime,\n",
    "                                    _acting_on,\n",
    "                                    _acting_size)\n",
    "\n",
    "                mels = np.real(mels)\n",
    "                n_conn = mels.shape[0]\n",
    "\n",
    "                a_0 = mels[0] - E0\n",
    "                r_1 = np.random.uniform(0,1)\n",
    "                r_2 = np.random.uniform(0,1)\n",
    "                tau = np.log(1/r_1)/a_0\n",
    "                time += tau\n",
    "                if time > t_s:\n",
    "                    t_index = int((time-t_s) // t_d)\n",
    "                    if t_index >= t_end - 1:\n",
    "                        p[np.arange(t_index_b + 1, t_end)] = x\n",
    "    #                     for i in range(t_index_b + 1, t_end):\n",
    "    #                         p[i,:] = x\n",
    "    #                     return p\n",
    "                        break\n",
    "    #                 for i in range(t_index_b + 1, t_index+1):　\n",
    "    #                     p[i,:] = x\n",
    "                    p[np.arange(t_index_b + 1, t_index+1)] = x\n",
    "\n",
    "                    t_index_b = t_index\n",
    "\n",
    "                s = 0\n",
    "\n",
    "                for i in range(n_conn-1):\n",
    "                    s -= mels[i + 1]\n",
    "                    if s >= r_2 * a_0:\n",
    "                        x = x_prime[i]\n",
    "                        break\n",
    "    #                     print(x_prime[i])\n",
    "    #                     print(x)\n",
    "            p_array[j] = p\n",
    "                \n",
    "        return p_array\n",
    "            \n",
    "        \n",
    "    def run(self, basis, t_list, E_0, qout):\n",
    "        \n",
    "        out = self.dynamics(basis, t_list, E_0)\n",
    "        \n",
    "        qout.put(out)\n",
    "            \n",
    "            \n",
    "        "
   ]
  },
  {
   "cell_type": "code",
   "execution_count": 72,
   "id": "freelance-pakistan",
   "metadata": {},
   "outputs": [
    {
     "ename": "ImportError",
     "evalue": "cannot import name 'dynamics' from 'functions' (/home/keisuke/Documents/Research/sshfs/DimerMaster/functions.py)",
     "output_type": "error",
     "traceback": [
      "\u001b[0;31m---------------------------------------------------------------------------\u001b[0m",
      "\u001b[0;31mImportError\u001b[0m                               Traceback (most recent call last)",
      "\u001b[0;32m<ipython-input-72-0931174541e1>\u001b[0m in \u001b[0;36m<module>\u001b[0;34m\u001b[0m\n\u001b[0;32m----> 1\u001b[0;31m \u001b[0;32mfrom\u001b[0m \u001b[0mfunctions\u001b[0m \u001b[0;32mimport\u001b[0m \u001b[0mdynamics\u001b[0m\u001b[0;34m\u001b[0m\u001b[0;34m\u001b[0m\u001b[0m\n\u001b[0m",
      "\u001b[0;31mImportError\u001b[0m: cannot import name 'dynamics' from 'functions' (/home/keisuke/Documents/Research/sshfs/DimerMaster/functions.py)"
     ]
    }
   ],
   "source": [
    "from functions import dynamics"
   ]
  },
  {
   "cell_type": "code",
   "execution_count": 78,
   "id": "geographic-brown",
   "metadata": {
    "scrolled": true
   },
   "outputs": [],
   "source": [
    "d = dynamics(\n",
    "            op._local_states,\n",
    "            op._basis,\n",
    "            op._constant,\n",
    "            op._diag_mels,\n",
    "            op._n_conns,  \n",
    "            op._mels,\n",
    "            op._x_prime,\n",
    "            op._acting_on,\n",
    "            op._acting_size,\n",
    "            )\n"
   ]
  },
  {
   "cell_type": "code",
   "execution_count": 79,
   "id": "sealed-abuse",
   "metadata": {},
   "outputs": [],
   "source": [
    "t_list = np.linspace(0, 10, 101)"
   ]
  },
  {
   "cell_type": "code",
   "execution_count": 86,
   "id": "encouraging-today",
   "metadata": {},
   "outputs": [],
   "source": [
    "basis = np.resize(np.ones(16), (100000, 16)).astype('float64')"
   ]
  },
  {
   "cell_type": "code",
   "execution_count": null,
   "id": "loaded-subscription",
   "metadata": {},
   "outputs": [],
   "source": [
    "import multiprocessing as mp\n",
    "b = mp.Queue()\n",
    "p = mp.Process(target=d.run, args=(basis, t_list, 0,q))\n",
    "p.start()\n",
    "a = q.get()\n",
    "print('got output')\n"
   ]
  },
  {
   "cell_type": "code",
   "execution_count": null,
   "id": "directed-franchise",
   "metadata": {},
   "outputs": [],
   "source": [
    "a = q.get()"
   ]
  },
  {
   "cell_type": "code",
   "execution_count": 76,
   "id": "mighty-kazakhstan",
   "metadata": {},
   "outputs": [],
   "source": [
    "a = d.dynamics(basis, t_list, 0)"
   ]
  },
  {
   "cell_type": "code",
   "execution_count": 20,
   "id": "powerful-jacob",
   "metadata": {},
   "outputs": [],
   "source": [
    "import multiprocessing as mp"
   ]
  },
  {
   "cell_type": "code",
   "execution_count": 22,
   "id": "useful-mountain",
   "metadata": {},
   "outputs": [],
   "source": [
    "p = mp.Process(target=d.dynamics, args=(basis, t_list, 0,))"
   ]
  },
  {
   "cell_type": "code",
   "execution_count": 23,
   "id": "appropriate-facial",
   "metadata": {},
   "outputs": [],
   "source": [
    "p.start()"
   ]
  },
  {
   "cell_type": "code",
   "execution_count": null,
   "id": "dressed-archive",
   "metadata": {},
   "outputs": [],
   "source": [
    "def dimer_corr (rIJ, aIJ, hexagon):\n",
    "    "
   ]
  },
  {
   "cell_type": "code",
   "execution_count": 257,
   "id": "norman-demographic",
   "metadata": {},
   "outputs": [],
   "source": [
    "class new_hex:\n",
    "    \n",
    "    def __init__(self, l = np.array([4, 2])):\n",
    "        \n",
    "        self.a1 = self.a(np.float32(0))\n",
    "        self.a2 =  self.a(np.pi*(5/3))\n",
    "        self.R1 = self.a1 * l[0]\n",
    "        self.R2 = self.a2 * l[1]\n",
    "        \n",
    "        self.epsilon = 1e-5\n",
    "        \n",
    "        self.l = l\n",
    "        \n",
    "        self.x_array = np.zeros((l[0],l[1],2)).astype(np.float32)\n",
    "        \n",
    "        for i in range(l[0]):\n",
    "            for j in range(l[1]):\n",
    "                self.x_array[i, j] = self.a1 * i + self.a2 * j\n",
    "        \n",
    "        self.x = np.zeros((np.prod(l),2), dtype=np.float32)\n",
    "        \n",
    "        for i in range(l[0]):\n",
    "            for j in range(l[1]):\n",
    "                self.x[j * l[0] + i] = self.x_array[i, j]\n",
    "        \n",
    "        self.lattice_pos_array = np.zeros([l[0], l[1], 6, 2],dtype=np.float32)\n",
    "        \n",
    "        \n",
    "        \n",
    "        \n",
    "        for j in range(l[1]):\n",
    "            for i in range(l[0]):\n",
    "                for a in range(6):\n",
    "                    self.lattice_pos_array[i, j, a] = self.x_array[i, j] + self.alpha(a)\n",
    "                    \n",
    "        self.lattice_pos_array = self.ProcessPeriodic(self.lattice_pos_array)\n",
    "                    \n",
    "\n",
    "                    \n",
    "        self.lattice_pos = np.zeros((np.prod(l) * 2, 2), dtype=np.float32)\n",
    "        \n",
    "        for j in range(l[1]):\n",
    "            for n,a in enumerate([0,5]):\n",
    "                for i in range(l[0]):\n",
    "                    self.lattice_pos[j * 2 * l[0] + l[0] * n + i] = self.lattice_pos_array[i, j, a] \n",
    "                    \n",
    "\n",
    "        self.all_hex_index = []\n",
    "\n",
    "        for i in range(l[0]):\n",
    "            for j in range(l[1]):\n",
    "                self.all_hex_index.append([i,j])\n",
    "        self.all_hex_index = np.array(self.all_hex_index)\n",
    "\n",
    "        self.edges , self.edges_color = self.edges_from_hex(l = self.all_hex_index, color=True, num =True)\n",
    "        self.edges = np.sort(self.edges[:,np.array([0,5,4]),:].reshape(-1,2),axis=1)\n",
    "        self.edges_color = self.edges_color[:,np.array([0,5,4])].reshape(-1)\n",
    "        \n",
    "                    \n",
    "        \n",
    "                \n",
    "                \n",
    "    def a(self, theta):\n",
    "        return self.Rotation(theta) @ np.array([1,0])\n",
    "    \n",
    "    def alpha(self, i):\n",
    "        r = np.array([0, (1/(np.sqrt(3)))],dtype=np.float32)\n",
    "        \n",
    "        return self.Rotation(np.pi*(1/3) * i) @ r\n",
    "    \n",
    "    def LatticeToHexIndex(self, X):\n",
    "        \n",
    "        lattice_pos_array = self.ProcessPeriodic(self.lattice_pos_array)\n",
    "        X_ = self.ProcessPeriodic(X).reshape(-1, 2)\n",
    "        \n",
    "        HexIndex = np.zeros((X_.shape[0],3,2), dtype=np.int)\n",
    "        \n",
    "        for n, x in enumerate(X_):\n",
    "            m = 0\n",
    "            for j in range(self.l[1]):\n",
    "                for i in range(self.l[0]):\n",
    "                    lp = lattice_pos_array[i, j]\n",
    "                    if (np.abs(lp-x).sum(axis=1) < self.epsilon).any():\n",
    "                        HexIndex[n,m] = np.array([i, j])\n",
    "                        m += 1\n",
    "        \n",
    "        \n",
    "        return HexIndex.reshape(X.shape[:-1] + (3,) + (2,))\n",
    "    \n",
    "    def ProcessPeriodic(self, X):\n",
    "        \n",
    "        X_ = X.reshape(-1, 2).copy()\n",
    "        \n",
    "        W = self.to_lattice_vec(X_) % self.l\n",
    "        \n",
    "        A = np.concatenate((self.a1.reshape(-1,1), self.a2.reshape(-1,1)), axis=1)\n",
    "        \n",
    "#         for n in range(X_.shape[0]):\n",
    "\n",
    "#             w = self.decompose(X_[n].copy(), self.R1, self.R2)\n",
    "\n",
    "#             X_[n] = ((w[0] % 1)*self.R1 + (w[1] % 1)*self.R2)\n",
    "            \n",
    "        return (A @ W.T).T.reshape(X.shape)\n",
    "    \n",
    "    \n",
    "    def edges_from_hex(self, l, color=False, num = True):\n",
    "        \n",
    "        '''\n",
    "        \n",
    "        l : coordinate number of hex\n",
    "        \n",
    "        '''\n",
    "        \n",
    "        l = l.reshape(-1,2)\n",
    "        edge = np.zeros((l.shape[0],6,2,2),dtype=np.float32)\n",
    "        \n",
    "        if color:\n",
    "            color_ = np.ones((l.shape[0],6),dtype=np.int)\n",
    "        \n",
    "        for i in range(6):\n",
    "            \n",
    "            edge[:, i, 0] = self.lattice_pos_array[l[:,0], l[:,1], i, :]\n",
    "\n",
    "            \n",
    "            edge[:, i, 1] = self.lattice_pos_array[l[:,0], l[:,1], (i + 1) % 6, :]\n",
    "\n",
    "            if color:\n",
    "                if i == 4:\n",
    "                    color_[l[:,0] % 2 == 0, i] = -1\n",
    "\n",
    "                if i == 1:\n",
    "                    color_[l[:,0] % 2 == 1, i] = -1  \n",
    "        if num:\n",
    "            edge = self.lpos_to_num(edge)\n",
    "        \n",
    "        if color:\n",
    "            return edge, color_\n",
    "        else:\n",
    "            return edge\n",
    "#         return self.lattice_pos_array[l[:,0], l[:,1]]\n",
    "\n",
    "        \n",
    "    def lpos_to_num(self, V):\n",
    "        \n",
    "        # convert lattice corrdinate to index of lattice(integer)\n",
    "        \n",
    "        V_ = V.reshape(-1, 2)\n",
    "        V_num = np.zeros(V_.shape[0], dtype=np.int)\n",
    "        \n",
    "        for n, v in enumerate(V_):\n",
    "            V_num[n] = np.where(np.abs(self.lattice_pos - v).sum(axis=1) < self.epsilon)[0][0]\n",
    "        \n",
    "        \n",
    "        return V_num.reshape(V.shape[:-1])\n",
    "    \n",
    "    \n",
    "    def get_edge_color(self, edges):\n",
    "        \n",
    "        \n",
    "        edges_ = np.sort(edges.reshape(-1,2), axis=1)\n",
    "        edges_color = np.zeros(edges_.shape[0])\n",
    "        \n",
    "        \n",
    "        for i, edge in enumerate(edges_):\n",
    "            index = np.where((self.edges == edge).all(axis=1))[0][0]\n",
    "            edges_color[i] = self.edges_color[index]\n",
    "        \n",
    "        return edges_color.reshape(edges.shape[:-1])\n",
    "        \n",
    "        \n",
    "    \n",
    "    @staticmethod\n",
    "    def decompose(v, a1, a2):\n",
    "        \n",
    "        b = np.array([np.dot(a1,v), np.dot(a2, v)])\n",
    "        \n",
    "        A = np.concatenate((a1.reshape(-1,1), a2.reshape(-1,1)), axis=1)\n",
    "        B = A.T @ A\n",
    "        \n",
    "        return np.linalg.inv(B) @ b\n",
    "    \n",
    "    def to_lattice_vec(self, V):\n",
    "        \n",
    "        V_ = V.reshape(-1,2)\n",
    "        \n",
    "        l_vec = np.zeros((V_.shape[0],2),dtype=np.float32)\n",
    "        \n",
    "        for i, v in enumerate(V_):\n",
    "            w = self.decompose(v, self.a1, self.a2)\n",
    "            \n",
    "            l_vec[i] = w\n",
    "        \n",
    "        return l_vec.reshape(V.shape)\n",
    "    \n",
    "    \n",
    "    def dimer_corr(self,l, a):\n",
    "        \n",
    "        '''\n",
    "        l : 2 x 2 matrix l[0] = r_i is first index of hexagon, l[1] = r_j is second one\n",
    "        a : 2 dimensional vector, specify which dimer which direct to a * np.pi*(1/3) will be chosen.\n",
    "        \n",
    "        '''\n",
    "        assert l.shape[0] == 2, 'l must have exactly two edges'\n",
    "        assert a.shape[0] == 2, 'a.shape[0] should be 2'\n",
    "        \n",
    "        assert (0<= a <=5).any()\n",
    "        \n",
    "        hex_edges, color = self.edges_from_hex(l = self.all_hex_index, color=True, num =True)\n",
    "        \n",
    "\n",
    "        return hex_edges[self.l[1] * l[:, 0] + l[:, 1], a ], color[self.l[1] * l[:, 0] + l[:, 1], a ]\n",
    "    \n",
    "    @staticmethod\n",
    "    def Rotation(theta):\n",
    "        return np.array([[np.cos(theta), -np.sin(theta)],[np.sin(theta), np.cos(theta)]]).astype(np.float32)\n",
    "        "
   ]
  },
  {
   "cell_type": "code",
   "execution_count": 258,
   "id": "closed-knight",
   "metadata": {},
   "outputs": [
    {
     "data": {
      "text/plain": [
       "array([[0, 0],\n",
       "       [2, 1],\n",
       "       [0, 0],\n",
       "       [2, 1]])"
      ]
     },
     "execution_count": 258,
     "metadata": {},
     "output_type": "execute_result"
    }
   ],
   "source": [
    "l =np.array([[0,0],[2,1]])\n",
    "np.resize(l, (4,2))"
   ]
  },
  {
   "cell_type": "code",
   "execution_count": 259,
   "id": "herbal-pricing",
   "metadata": {},
   "outputs": [],
   "source": [
    "hex_ = new_hex(l = np.array([4,2]))"
   ]
  },
  {
   "cell_type": "code",
   "execution_count": 265,
   "id": "postal-guidance",
   "metadata": {},
   "outputs": [],
   "source": [
    "edge, color = hex_.dimer_corr(np.array([[0,0],[2,1]]),np.array([4,2]))"
   ]
  },
  {
   "cell_type": "code",
   "execution_count": 267,
   "id": "hawaiian-engine",
   "metadata": {},
   "outputs": [
    {
     "data": {
      "text/plain": [
       "array([[8, 4],\n",
       "       [1, 5]])"
      ]
     },
     "execution_count": 267,
     "metadata": {},
     "output_type": "execute_result"
    }
   ],
   "source": [
    "edge"
   ]
  },
  {
   "cell_type": "code",
   "execution_count": 268,
   "id": "random-alaska",
   "metadata": {},
   "outputs": [
    {
     "data": {
      "text/plain": [
       "array([-1,  1])"
      ]
     },
     "execution_count": 268,
     "metadata": {},
     "output_type": "execute_result"
    }
   ],
   "source": [
    "color"
   ]
  },
  {
   "cell_type": "code",
   "execution_count": 162,
   "id": "consecutive-external",
   "metadata": {},
   "outputs": [
    {
     "data": {
      "text/plain": [
       "array([ 1.,  1., -1.])"
      ]
     },
     "execution_count": 162,
     "metadata": {},
     "output_type": "execute_result"
    }
   ],
   "source": [
    "hex_.get_edge_color(np.array([[0, 4],[4,0],[4,8]]))"
   ]
  },
  {
   "cell_type": "code",
   "execution_count": 148,
   "id": "supposed-possession",
   "metadata": {},
   "outputs": [
    {
     "data": {
      "text/plain": [
       "(24, 2)"
      ]
     },
     "execution_count": 148,
     "metadata": {},
     "output_type": "execute_result"
    }
   ],
   "source": [
    "hex_.edges.shape"
   ]
  },
  {
   "cell_type": "code",
   "execution_count": 149,
   "id": "confused-nigeria",
   "metadata": {},
   "outputs": [
    {
     "data": {
      "text/plain": [
       "array([[ 0,  7],\n",
       "       [ 4,  0],\n",
       "       [ 8,  4],\n",
       "       [ 8, 15],\n",
       "       [12,  8],\n",
       "       [ 0, 12],\n",
       "       [ 1,  4],\n",
       "       [ 5,  1],\n",
       "       [ 9,  5],\n",
       "       [ 9, 12],\n",
       "       [13,  9],\n",
       "       [ 1, 13],\n",
       "       [ 2,  5],\n",
       "       [ 6,  2],\n",
       "       [10,  6],\n",
       "       [10, 13],\n",
       "       [14, 10],\n",
       "       [ 2, 14],\n",
       "       [ 3,  6],\n",
       "       [ 7,  3],\n",
       "       [11,  7],\n",
       "       [11, 14],\n",
       "       [15, 11],\n",
       "       [ 3, 15]])"
      ]
     },
     "execution_count": 149,
     "metadata": {},
     "output_type": "execute_result"
    }
   ],
   "source": [
    "hex_.edges"
   ]
  },
  {
   "cell_type": "code",
   "execution_count": null,
   "id": "muslim-necessity",
   "metadata": {},
   "outputs": [],
   "source": []
  }
 ],
 "metadata": {
  "kernelspec": {
   "display_name": "Python 3",
   "language": "python",
   "name": "python3"
  },
  "language_info": {
   "codemirror_mode": {
    "name": "ipython",
    "version": 3
   },
   "file_extension": ".py",
   "mimetype": "text/x-python",
   "name": "python",
   "nbconvert_exporter": "python",
   "pygments_lexer": "ipython3",
   "version": "3.8.5"
  }
 },
 "nbformat": 4,
 "nbformat_minor": 5
}
