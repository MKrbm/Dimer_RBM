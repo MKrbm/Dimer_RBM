{
 "cells": [
  {
   "cell_type": "code",
   "execution_count": 1,
   "id": "handmade-sport",
   "metadata": {
    "scrolled": true
   },
   "outputs": [
    {
     "name": "stderr",
     "output_type": "stream",
     "text": [
      "/home/keisuke/Documents/Research/sshfs/DimerMaster/scripts/functions.py:65: NumbaDeprecationWarning: The 'numba.jitclass' decorator has moved to 'numba.experimental.jitclass' to better reflect the experimental nature of the functionality. Please update your imports to accommodate this change and see https://numba.pydata.org/numba-doc/latest/reference/deprecation.html#change-of-jitclass-location for the time frame.\n",
      "  @jitclass(spec)\n"
     ]
    }
   ],
   "source": [
    "import numpy as np\n",
    "import netket as nk\n",
    "from scripts import functions as f"
   ]
  },
  {
   "cell_type": "code",
   "execution_count": 2,
   "id": "periodic-conflict",
   "metadata": {},
   "outputs": [],
   "source": [
    "from conf import *\n",
    "from numba import njit, jit"
   ]
  },
  {
   "cell_type": "code",
   "execution_count": 3,
   "id": "italian-planning",
   "metadata": {},
   "outputs": [
    {
     "name": "stdout",
     "output_type": "stream",
     "text": [
      "4\n",
      "3.7305123805999756 for metropolis\n",
      "discard samples\n",
      "15.03051471710205 for metropolis\n",
      "prepared initial samples\n"
     ]
    }
   ],
   "source": [
    "h = 1.0\n",
    "V = 1.0\n",
    "\n",
    "length = [8, 8]\n",
    "name = 'h={}V={}l={}'.format(h, V, length)\n",
    "kernel = 1\n",
    "n_chains = 1\n",
    "n_discards = 1\n",
    "n_samples = 1e4\n",
    "\n",
    "g = nk.graph.Graph(nodes = [i for i in range(length[0] * length[1] * 2)])\n",
    "hi = nk.hilbert.Spin(s=0.5, graph=g)\n",
    "\n",
    "op = f.dimer_hamiltonian(h, V,np.array(length))\n",
    "op_transition = f.dimer_flip1(length = np.array(length))\n",
    "hex_ = nk.machine.new_hex(np.array(length))\n",
    "\n",
    "\n",
    "ma = nk.machine.RbmDimer(hi, hex_, alpha = 1, symmetry = True\n",
    "                    ,use_hidden_bias = False, use_visible_bias = False, dtype=float)\n",
    "\n",
    "ma.load('save/ma/'+name)\n",
    "\n",
    "\n",
    "sa = nk.sampler.DimerMetropolisLocal(machine=ma, op=op_transition, length = length, n_chains=n_chains, sweep_size = 70, kernel = 1)\n",
    "sa.generate_samples(n_discards) # discard the begginings of metropolis sampling.\n",
    "print('discard samples')\n",
    "samples_state = sa.generate_samples(int(n_samples/n_chains))\n",
    "samples_state = samples_state.reshape(-1, ma.hilbert.size)\n",
    "\n",
    "print('prepared initial samples')"
   ]
  },
  {
   "cell_type": "code",
   "execution_count": 83,
   "id": "graphic-produce",
   "metadata": {},
   "outputs": [],
   "source": [
    "class new_dynamics:\n",
    "    def __init__(self,op,ma):\n",
    "        \n",
    "        self.local_states = np.sort(op._local_states)\n",
    "        self.basis = op._basis[::-1].copy()\n",
    "        self.constant = op._constant\n",
    "        self.diag_mels = op._diag_mels\n",
    "        self.n_conns = op._n_conns\n",
    "        self.mels = op._mels\n",
    "        self.x_prime = op._x_prime\n",
    "        self.acting_on = op._acting_on\n",
    "        self.acting_size = np.int64(op._acting_size[0])\n",
    "        self.ma = ma\n",
    "\n",
    "\n",
    "        self._w = ma._w\n",
    "        self._a = ma._a\n",
    "        self._b = ma._b\n",
    "        self._r = ma._r\n",
    "        \n",
    "    \n",
    "    \n",
    "    def dynamics(self, X, num):\n",
    "        \n",
    "        \n",
    "        \n",
    "        \n",
    "        return self._dynamics(\n",
    "            X, \n",
    "            num,\n",
    "            self.local_states,\n",
    "            self.basis,\n",
    "            self.constant,\n",
    "            self.diag_mels,\n",
    "            self.n_conns,\n",
    "            self.mels,\n",
    "            self.x_prime,\n",
    "            self.acting_on,\n",
    "            self.acting_size,\n",
    "            self._w,\n",
    "        )\n",
    "\n",
    "    \n",
    "    \n",
    "    @staticmethod\n",
    "    @njit\n",
    "    def _dynamics(\n",
    "            X,\n",
    "            num,\n",
    "            _local_states,\n",
    "            _basis,\n",
    "            _constant,\n",
    "            _diag_mels,\n",
    "            _n_conns,\n",
    "            _mels,\n",
    "            _x_prime,\n",
    "            _acting_on,\n",
    "            _acting_size,\n",
    "            _w,\n",
    "            ):\n",
    "        \n",
    "        # basis is float64[:]\n",
    "        \n",
    "        \n",
    "        batch_size = X.shape[0]\n",
    "        L = X.shape[1]\n",
    "        p_array = np.zeros((num, batch_size, L),dtype= np.int8) \n",
    "        X_float = X\n",
    "        X = X.astype(np.int8)\n",
    "        T = np.zeros(batch_size)\n",
    "        t_array = np.zeros((num, batch_size))\n",
    "        \n",
    "        \n",
    "\n",
    "        sections = np.zeros(batch_size + 1, dtype = np.int64)\n",
    "        a_0 = np.zeros(batch_size)\n",
    "        \n",
    "        for _ in range(num):\n",
    "\n",
    "           \n",
    "            x_prime, sites, mels  = get_conn_local(\n",
    "                                X,\n",
    "                                sections[1:],\n",
    "                                _basis,\n",
    "                                _constant,\n",
    "                                _diag_mels,\n",
    "                                _n_conns,\n",
    "                                _mels,\n",
    "                                _x_prime,\n",
    "                                _acting_on,\n",
    "                                _acting_size)\n",
    "                                \n",
    "\n",
    "\n",
    "\n",
    "            with objmode(start='float64'):\n",
    "                start = time.time()\n",
    "\n",
    "            # log_val_prime = np.real(log_val_kernel(x_prime.astype(np.float64), None, _w, _a, _b, _r))\n",
    "            R = np.empty(x_prime.shape[0], dtype=np.float64)\n",
    "            for n in range(batch_size):\n",
    "                R[sections[n]:sections[n+1]] = rate_psi(X_float[n], x_prime[sections[n]:sections[n+1]].astype(np.float64), sites[sections[n]:sections[n+1]], _w)\n",
    "\n",
    "            with objmode():\n",
    "                end = time.time()   \n",
    "                print(end-start,'cal log')\n",
    "\n",
    "\n",
    "\n",
    "\n",
    "            # for n in range(batch_size):\n",
    "            #     log_val_prime[sections[n] : sections[n+1]] -= log_val_prime[sections[n]]\n",
    "            \n",
    "\n",
    "            # mels = np.real(mels) * np.exp(log_val_prime)\n",
    "            mels = np.real(mels) * R\n",
    "\n",
    "            N_conn = sections[1:] - sections[:-1]\n",
    "            for n in range(batch_size):\n",
    "                a_0[n] = (-1)* mels[sections[n]: sections[n+1]].sum()\n",
    "#             print(a_0[0], N_conn[0], mels[sections[0] + 1: sections[1]])\n",
    "                \n",
    "#             print((a_0 - mels[sections[:-1]]).mean(), mels[sections[:-1]].mean())\n",
    "\n",
    "                \n",
    "            r_1 = np.random.rand(batch_size)\n",
    "            r_2 = np.random.rand(batch_size)\n",
    "            \n",
    "            tau = np.log(1/r_1)/a_0\n",
    "            t_array[_, :] = T\n",
    "            T += tau\n",
    "\n",
    "            \n",
    "            p_array[_,:,:] = X\n",
    "            for n in range(batch_size):\n",
    "                s = 0\n",
    "                for i in range(N_conn[n]):\n",
    "                    s -= mels[sections[n] + i]\n",
    "                    if s >= r_2[n] * a_0[n]:\n",
    "                        X[n][sites[sections[n] +  i]] = x_prime[sections[n] +  i]\n",
    "                        break\n",
    "\n",
    "        return p_array, t_array\n",
    "            \n",
    "        \n",
    "    def run(self, basis, t_list, E_0, qout):\n",
    "        \n",
    "        out = self.dynamics(basis, t_list, E_0)\n",
    "        \n",
    "        qout.put(out)\n",
    "    \n",
    "        \n",
    "    def multiprocess(self, basis, t_list, E0 , n = 1):\n",
    "        queue = []\n",
    "        process = []\n",
    "        N = basis.shape[0] \n",
    "        index = np.round(np.linspace(0, N, n + 1)).astype(np.int)\n",
    "\n",
    "        for i in range(n):\n",
    "            queue.append(mp.Queue())\n",
    "            p = mp.Process(target=self.run, args=(basis[index[i]:index[i+1]], t_list, E0 ,queue[i]))\n",
    "            p.start()\n",
    "            process.append(p)\n",
    "\n",
    "\n",
    "        out = []\n",
    "        for q in queue:\n",
    "            out.append(q.get())\n",
    "\n",
    "        \n",
    "        return np.vstack(out)"
   ]
  },
  {
   "cell_type": "code",
   "execution_count": 251,
   "id": "oriented-vienna",
   "metadata": {},
   "outputs": [],
   "source": [
    "@njit\n",
    "def rate_psi(X, X_prime_local, sites, W):\n",
    "    \n",
    "    n_conn = X_prime_local.shape[0]\n",
    "    \n",
    "    r = X.dot(W)\n",
    "    tan = np.tanh(r)\n",
    "#     r_prime = np.empty((n_conn, W.shape[1]), dtype=np.float64)\n",
    "    out = np.empty(n_conn, dtype=np.float64)\n",
    "    \n",
    "    \n",
    "    for n in range(n_conn):\n",
    "        W_prime = W[sites[n]]\n",
    "        r_prime = X_prime_local[n].dot(W_prime)\n",
    "#         for j in range(W.shape[1]):\n",
    "        out[n] = np.prod(np.cosh(r_prime) + tan*np.sinh(r_prime))\n",
    "    return out\n",
    "\n",
    "\n",
    "\n",
    "\n",
    "@jit(nopython=True)\n",
    "def get_transition(\n",
    "        x,\n",
    "        c_r,\n",
    "        s_r,\n",
    "        tan,\n",
    "        sections,\n",
    "        basis,\n",
    "        constant,\n",
    "        diag_mels,\n",
    "        n_conns,\n",
    "        all_mels,\n",
    "        all_x_prime,\n",
    "        acting_on\n",
    "    ):\n",
    "\n",
    "\n",
    "    batch_size = x.shape[0]\n",
    "    n_sites = x.shape[1]\n",
    "\n",
    "    assert sections.shape[0] == batch_size\n",
    "\n",
    "    n_operators = n_conns.shape[0]\n",
    "    xs_n = np.empty((batch_size, n_operators), dtype=np.intp)\n",
    "    xs_n_prime = np.empty(batch_size, dtype=np.intp)\n",
    "    max_conn = 0\n",
    "\n",
    "#     acting_size = np.int8(acting_size)\n",
    "#     acting_size = 4\n",
    "    tot_conn = 0\n",
    "\n",
    "    sections[:] = 1\n",
    "\n",
    "    for i in range(n_operators):\n",
    "        n_conns_i = n_conns[i]\n",
    "        x_i = (x[:, acting_on[i]] + 1) / 2\n",
    "        s = np.zeros(batch_size)\n",
    "        for j in range(4):\n",
    "            s += x_i[:, j] * basis[j]\n",
    "        xs_n[:, i] = s\n",
    "        sections += n_conns_i[xs_n[:, i]]\n",
    "    sections -= 1\n",
    "    tot_conn=sections.sum()\n",
    "\n",
    "    s = 0 \n",
    "#     sec = sections.copy()\n",
    "    for b in range(batch_size):\n",
    "        s += sections[b]\n",
    "        sections[b] = s\n",
    "\n",
    "\n",
    "\n",
    "    x_prime = np.empty((tot_conn, 2), dtype=np.int8) # x.shpae[0] is number of connected elements of hamiltonian from batch of states. \n",
    "    t_mels = np.empty(tot_conn, dtype=np.complex128)\n",
    "    sites_ = np.empty((tot_conn, 2), dtype=np.int8)\n",
    "    \n",
    "    log_val = np.empty(tot_conn, dtype=np.float64)\n",
    "    \n",
    "    acting_on = acting_on[:,1:3].copy()\n",
    "    \n",
    "    basis_r = np.array([3,1])\n",
    "    c = 0\n",
    "    \n",
    "    for b in range(batch_size):\n",
    "        x_batch = x[b]\n",
    "        xs_n_b = xs_n[b]\n",
    "#         r_b = r[b]\n",
    "#         psi_b = np.prod(np.cosh(r_b))\n",
    "        tan_b = tan[b]\n",
    "#         psi_b = 1\n",
    "#         print('psi_b',psi_b)\n",
    "        \n",
    "        \n",
    "        for i in range(n_operators):\n",
    "            \n",
    "#             r_prime_i = r_primes[i]\n",
    "            s_r_i = s_r[i]\n",
    "            c_r_i = c_r[i]\n",
    "            # Diagonal part\n",
    "            n_conn_i = n_conns[i, xs_n_b[i]]\n",
    "\n",
    "            if n_conn_i > 0:\n",
    "                sites = acting_on[i]\n",
    "\n",
    "                for cc in range(n_conn_i):\n",
    "                    \n",
    "                    x_prime_cc = x_prime[c + cc]\n",
    "                    x_prime_cc[:] = all_x_prime[i, xs_n_b[i], cc]\n",
    "                    sites_[c + cc] = sites\n",
    "                    \n",
    "                    num = ((np.sum((x_prime_cc - x_batch[sites]) * basis_r) + 8)/2)\n",
    "#                     print(x_prime_cc - x_batch[sites])\n",
    "#                     print(num)\n",
    "                    sin_prime = s_r_i[np.int(num)]\n",
    "                    cos_prime = c_r_i[np.int(num)]\n",
    "                    \n",
    "#                     print((r_prime+r_b)[10])\n",
    "#                     temp = np.exp(r_prime+r_b)\n",
    "#                     t_mels[c + cc] = all_mels[i, xs_n_b[i], cc] * np.prod((temp + 1/temp)/2)/psi_b# transition matrix\n",
    "#                     log_val[c + cc] = np.prod(np.cosh(r_prime+r_b))/psi_b\n",
    "#                     log_val[c + cc] = np.prod(tan_b*sin_prime + cos_prime)\n",
    "                    t_mels[c + cc] = all_mels[i, xs_n_b[i], cc] *np.prod(tan_b*sin_prime + cos_prime)\n",
    "                c += n_conn_i\n",
    "\n",
    "\n",
    "    return x_prime, sites_, t_mels, log_val"
   ]
  },
  {
   "cell_type": "code",
   "execution_count": 239,
   "id": "usual-arrow",
   "metadata": {},
   "outputs": [],
   "source": [
    "w = ma._w\n",
    "acting_list = op._acting_on[:,1:3]\n",
    "w_ = w[acting_list]\n",
    "x = np.zeros((9,2))\n",
    "\n",
    "n = 0\n",
    "for i in range(3):\n",
    "    for j in range(3):\n",
    "        \n",
    "        x[n,1] = 2*(j-1)\n",
    "        x[n,0] = 2*(i-1)\n",
    "        n += 1\n",
    "\n",
    "r_primes = np.einsum('ij,kjl->kil', x, w_)\n",
    "c_r = np.cosh(r_primes)\n",
    "s_r = np.sinh(r_primes)\n",
    "r = samples_state.dot(w)\n",
    "tan = np.tanh(r)"
   ]
  },
  {
   "cell_type": "code",
   "execution_count": 240,
   "id": "minor-innocent",
   "metadata": {},
   "outputs": [
    {
     "name": "stdout",
     "output_type": "stream",
     "text": [
      "1.71 ms ± 196 µs per loop (mean ± std. dev. of 7 runs, 100 loops each)\n"
     ]
    }
   ],
   "source": [
    "%timeit r = samples_state.dot(w)"
   ]
  },
  {
   "cell_type": "code",
   "execution_count": 241,
   "id": "sporting-hopkins",
   "metadata": {},
   "outputs": [],
   "source": [
    "r_ = r_primes[10,0]"
   ]
  },
  {
   "cell_type": "code",
   "execution_count": 233,
   "id": "intimate-lobby",
   "metadata": {},
   "outputs": [
    {
     "name": "stdout",
     "output_type": "stream",
     "text": [
      "4.78 ms ± 9.12 µs per loop (mean ± std. dev. of 7 runs, 100 loops each)\n"
     ]
    }
   ],
   "source": [
    "%%timeit \n",
    "a = (np.exp(r_ + r))\n",
    "# b = np.prod((a + 1/a)/2)\n",
    "# a = r_ + r\n",
    "# b = a + a**2 + a**4"
   ]
  },
  {
   "cell_type": "code",
   "execution_count": 253,
   "id": "single-classification",
   "metadata": {},
   "outputs": [
    {
     "name": "stdout",
     "output_type": "stream",
     "text": [
      "143 ms ± 681 µs per loop (mean ± std. dev. of 7 runs, 10 loops each)\n"
     ]
    }
   ],
   "source": [
    "%%timeit\n",
    "x_prime, sites, t_mels  = get_transition(\n",
    "                            samples_state,\n",
    "                            c_r,\n",
    "                            s_r,\n",
    "                            tan,\n",
    "                            sections[1:],\n",
    "                            op._basis[::-1].copy(),\n",
    "                            op._constant,\n",
    "                            op._diag_mels,\n",
    "                            op._n_conns,\n",
    "                            op._mels,\n",
    "                            op._x_prime[:,:,:,1:3].copy(),\n",
    "                            op._acting_on)"
   ]
  },
  {
   "cell_type": "code",
   "execution_count": 208,
   "id": "greatest-memphis",
   "metadata": {},
   "outputs": [
    {
     "data": {
      "text/plain": [
       "array([-1.00065335+0.j, -1.00042299+0.j, -1.00177615+0.j, ...,\n",
       "       -0.99828775+0.j, -0.99857497+0.j, -1.00137769+0.j])"
      ]
     },
     "execution_count": 208,
     "metadata": {},
     "output_type": "execute_result"
    }
   ],
   "source": [
    "t_mels"
   ]
  },
  {
   "cell_type": "code",
   "execution_count": 170,
   "id": "british-fight",
   "metadata": {
    "scrolled": true
   },
   "outputs": [],
   "source": [
    "x = np.random.choice([-1,1],384 * 2).reshape(-1,2)\n",
    "x_prime = np.random.choice([-1,1],384 * 2).reshape(-1,2)\n",
    "\n",
    "z = x_prime - x"
   ]
  },
  {
   "cell_type": "code",
   "execution_count": 171,
   "id": "selective-coupon",
   "metadata": {},
   "outputs": [],
   "source": [
    "x_num = ((x + 1)/2  * np.array([2,1])).sum(axis=1)\n",
    "x_prime_num = ((x_prime + 1)/2  * np.array([2,1])).sum(axis=1)\n",
    "z_num = x_prime_num - x_num"
   ]
  },
  {
   "cell_type": "code",
   "execution_count": 172,
   "id": "auburn-commissioner",
   "metadata": {
    "scrolled": true
   },
   "outputs": [],
   "source": [
    "sections = np.zeros(samples_state.shape[0] + 1, dtype=np.int)"
   ]
  },
  {
   "cell_type": "code",
   "execution_count": 212,
   "id": "acting-oxide",
   "metadata": {},
   "outputs": [
    {
     "name": "stdout",
     "output_type": "stream",
     "text": [
      "84.8 ms ± 515 µs per loop (mean ± std. dev. of 7 runs, 10 loops each)\n"
     ]
    }
   ],
   "source": [
    "%%timeit\n",
    "x_prime1, mels1 = op.get_conn_flattened(samples_state,sections[1:])"
   ]
  },
  {
   "cell_type": "code",
   "execution_count": 106,
   "id": "assigned-forestry",
   "metadata": {},
   "outputs": [
    {
     "data": {
      "text/plain": [
       "0.1561740967584369"
      ]
     },
     "execution_count": 106,
     "metadata": {},
     "output_type": "execute_result"
    }
   ],
   "source": [
    "x_prime1[2].dot(ma._w)[10]"
   ]
  },
  {
   "cell_type": "code",
   "execution_count": 79,
   "id": "thousand-isolation",
   "metadata": {},
   "outputs": [
    {
     "data": {
      "text/plain": [
       "array([ 0,  0,  0,  0,  0,  0,  0,  0,  0,  0,  0,  0,  0,  0,  0,  0,  0,\n",
       "        0,  0,  0,  0,  0,  0,  0,  0,  0,  0,  0,  0,  0,  0,  0, -2,  0,\n",
       "        0,  0,  0,  0,  0,  0,  0,  0,  0,  0,  0,  0,  0, -2,  0,  0,  0,\n",
       "        0,  0,  0,  0,  0,  0,  0,  0,  0,  0,  0,  0,  0,  0,  0,  0,  0,\n",
       "        0,  0,  0,  0,  0,  0,  0,  0,  0,  0,  0,  0,  0,  0,  0,  0,  0,\n",
       "        0,  0,  0,  0,  0,  0,  0,  0,  0,  0,  0,  0,  0,  0,  0,  0,  0,\n",
       "        0,  0,  0,  0,  0,  0,  0,  0,  0,  0,  0,  0,  0,  0,  0,  0,  0,\n",
       "        0,  0,  0,  0,  0,  0,  0,  0,  0], dtype=int8)"
      ]
     },
     "execution_count": 79,
     "metadata": {},
     "output_type": "execute_result"
    }
   ],
   "source": [
    "(x_prime1-x_prime1[0])[2]"
   ]
  },
  {
   "cell_type": "code",
   "execution_count": 190,
   "id": "exclusive-economics",
   "metadata": {},
   "outputs": [
    {
     "data": {
      "text/plain": [
       "array([-1.00065335+0.j, -1.00042299+0.j, -1.00177615+0.j, ...,\n",
       "       -0.99828775+0.j, -0.99857497+0.j, -1.00137769+0.j])"
      ]
     },
     "execution_count": 190,
     "metadata": {},
     "output_type": "execute_result"
    }
   ],
   "source": [
    "t_mels"
   ]
  },
  {
   "cell_type": "code",
   "execution_count": 246,
   "id": "binding-diploma",
   "metadata": {},
   "outputs": [],
   "source": [
    "log_prime = ma.log_val(x_prime1)"
   ]
  },
  {
   "cell_type": "code",
   "execution_count": null,
   "id": "electric-tower",
   "metadata": {},
   "outputs": [],
   "source": [
    "log_prime "
   ]
  },
  {
   "cell_type": "code",
   "execution_count": 247,
   "id": "black-words",
   "metadata": {},
   "outputs": [
    {
     "data": {
      "text/plain": [
       "array([1.        +0.j, 1.00065335+0.j, 1.00042299+0.j, ...,\n",
       "       0.98759749+0.j, 0.98788163+0.j, 0.99065434+0.j])"
      ]
     },
     "execution_count": 247,
     "metadata": {},
     "output_type": "execute_result"
    }
   ],
   "source": [
    "np.exp(log_prime-log_prime[0]) "
   ]
  },
  {
   "cell_type": "code",
   "execution_count": 250,
   "id": "sealed-hampshire",
   "metadata": {},
   "outputs": [
    {
     "data": {
      "text/plain": [
       "array([1.00065335, 1.00042299, 1.00177615, ..., 0.99828775, 0.99857497,\n",
       "       1.00137769])"
      ]
     },
     "execution_count": 250,
     "metadata": {},
     "output_type": "execute_result"
    }
   ],
   "source": [
    "log_val"
   ]
  },
  {
   "cell_type": "code",
   "execution_count": 361,
   "id": "secondary-mills",
   "metadata": {},
   "outputs": [],
   "source": [
    "x_prime1, mels1 = op.get_conn_flattened(samples_state, sections[1:])"
   ]
  },
  {
   "cell_type": "code",
   "execution_count": 347,
   "id": "qualified-devon",
   "metadata": {},
   "outputs": [
    {
     "data": {
      "text/plain": [
       "(100, 128)"
      ]
     },
     "execution_count": 347,
     "metadata": {},
     "output_type": "execute_result"
    }
   ],
   "source": [
    "samples_state.shape"
   ]
  },
  {
   "cell_type": "code",
   "execution_count": 329,
   "id": "hazardous-travel",
   "metadata": {},
   "outputs": [
    {
     "data": {
      "text/plain": [
       "array([1, 2, 4, 8])"
      ]
     },
     "execution_count": 329,
     "metadata": {},
     "output_type": "execute_result"
    }
   ],
   "source": [
    "op._basis"
   ]
  },
  {
   "cell_type": "code",
   "execution_count": 26,
   "id": "printable-immigration",
   "metadata": {},
   "outputs": [],
   "source": [
    "d = f.dynamics2(op, ma)\n",
    "import time"
   ]
  },
  {
   "cell_type": "code",
   "execution_count": 27,
   "id": "alike-speaking",
   "metadata": {},
   "outputs": [],
   "source": [
    "t_list = np.linspace(0, 30, 11)"
   ]
  },
  {
   "cell_type": "code",
   "execution_count": 28,
   "id": "adopted-rachel",
   "metadata": {},
   "outputs": [
    {
     "name": "stdout",
     "output_type": "stream",
     "text": [
      "594\n",
      "542\n",
      "548\n",
      "514\n",
      "484\n",
      "563\n",
      "516\n",
      "549\n",
      "546\n",
      "568\n",
      "521\n",
      "538\n",
      "529\n",
      "530\n",
      "519\n",
      "577\n",
      "553\n",
      "581\n",
      "560\n",
      "584\n",
      "555\n",
      "515\n",
      "493\n",
      "557\n",
      "543\n",
      "547\n",
      "542\n",
      "573\n",
      "537\n",
      "506\n",
      "538\n",
      "540\n",
      "514\n",
      "589\n",
      "535\n",
      "532\n",
      "535\n",
      "511\n",
      "546\n",
      "564\n",
      "507\n",
      "519\n",
      "508\n",
      "564\n",
      "549\n",
      "576\n",
      "556\n",
      "550\n",
      "496\n",
      "537\n",
      "542\n",
      "499\n",
      "497\n",
      "513\n",
      "612\n",
      "550\n",
      "534\n",
      "544\n",
      "535\n",
      "494\n",
      "561\n",
      "536\n",
      "527\n",
      "539\n",
      "538\n",
      "520\n",
      "597\n",
      "514\n",
      "551\n",
      "545\n",
      "578\n",
      "543\n",
      "544\n",
      "539\n",
      "535\n",
      "519\n",
      "506\n",
      "534\n",
      "556\n",
      "496\n",
      "576\n",
      "507\n",
      "520\n",
      "548\n",
      "543\n",
      "525\n",
      "572\n",
      "572\n",
      "534\n",
      "507\n",
      "548\n",
      "549\n",
      "505\n",
      "541\n",
      "550\n",
      "527\n",
      "543\n",
      "557\n",
      "567\n",
      "546\n",
      "CPU times: user 42 s, sys: 492 ms, total: 42.4 s\n",
      "Wall time: 3.54 s\n"
     ]
    },
    {
     "data": {
      "text/plain": [
       "array([[[-1,  1, -1, ...,  1, -1,  1],\n",
       "        [-1, -1, -1, ..., -1, -1,  1],\n",
       "        [ 1,  1,  1, ..., -1, -1, -1],\n",
       "        ...,\n",
       "        [ 1, -1,  1, ..., -1, -1, -1],\n",
       "        [ 1, -1,  1, ..., -1, -1,  1],\n",
       "        [ 1,  1,  1, ..., -1,  1,  1]],\n",
       "\n",
       "       [[-1,  1,  1, ..., -1,  1,  1],\n",
       "        [ 1,  1,  1, ...,  1,  1,  1],\n",
       "        [ 1,  1,  1, ...,  1,  1,  1],\n",
       "        ...,\n",
       "        [-1, -1,  1, ...,  1,  1,  1],\n",
       "        [-1, -1,  1, ...,  1, -1,  1],\n",
       "        [ 1,  1,  1, ...,  1,  1,  1]],\n",
       "\n",
       "       [[-1,  1, -1, ...,  1,  1, -1],\n",
       "        [-1,  1, -1, ...,  1,  1, -1],\n",
       "        [ 1,  1,  1, ...,  1, -1,  1],\n",
       "        ...,\n",
       "        [ 1,  1,  1, ...,  1,  1,  1],\n",
       "        [ 1,  1,  1, ...,  1,  1,  1],\n",
       "        [ 1,  1, -1, ..., -1,  1,  1]],\n",
       "\n",
       "       ...,\n",
       "\n",
       "       [[-1, -1, -1, ..., -1, -1, -1],\n",
       "        [ 1, -1, -1, ..., -1, -1, -1],\n",
       "        [-1, -1, -1, ..., -1, -1,  1],\n",
       "        ...,\n",
       "        [ 1,  1,  1, ...,  1,  1, -1],\n",
       "        [-1, -1,  1, ...,  1,  1, -1],\n",
       "        [-1, -1,  1, ...,  1,  1,  1]],\n",
       "\n",
       "       [[-1, -1, -1, ...,  1,  1, -1],\n",
       "        [-1, -1, -1, ...,  1,  1,  1],\n",
       "        [-1,  1, -1, ..., -1,  1, -1],\n",
       "        ...,\n",
       "        [ 1, -1,  1, ..., -1, -1,  1],\n",
       "        [ 1,  1,  1, ..., -1,  1,  1],\n",
       "        [ 1,  1, -1, ..., -1, -1, -1]],\n",
       "\n",
       "       [[-1, -1, -1, ..., -1, -1, -1],\n",
       "        [-1, -1,  1, ..., -1, -1, -1],\n",
       "        [ 1, -1, -1, ..., -1, -1, -1],\n",
       "        ...,\n",
       "        [-1, -1, -1, ..., -1, -1, -1],\n",
       "        [-1, -1, -1, ..., -1, -1, -1],\n",
       "        [ 1,  1,  1, ..., -1, -1, -1]]], dtype=int8)"
      ]
     },
     "execution_count": 28,
     "metadata": {},
     "output_type": "execute_result"
    }
   ],
   "source": [
    "%time d.dynamics(samples_state, t_list, 0)"
   ]
  },
  {
   "cell_type": "code",
   "execution_count": 299,
   "id": "lined-harvey",
   "metadata": {},
   "outputs": [],
   "source": [
    "@jit(fastmath=True)\n",
    "def rate_psi(X, X_prime_local, sites, W):\n",
    "    \n",
    "    n_conn = X_prime_local.shape[0]\n",
    "    \n",
    "    r = X.dot(W)\n",
    "    tan = np.tanh(r)\n",
    "#     r_prime = np.empty((n_conn, W.shape[1]), dtype=np.float64)\n",
    "    out = np.empty(n_conn, dtype=np.float64)\n",
    "    \n",
    "#     w = W[sites]\n",
    "    for n in range(n_conn):\n",
    "        r_prime = X_prime_local[n].dot(W[sites[n]])\n",
    "#         for j in range(W.shape[1]):\n",
    "        out[n] = np.prod(np.cosh(r_prime) + tan*np.sinh(r_prime))\n",
    "    return out"
   ]
  },
  {
   "cell_type": "code",
   "execution_count": 321,
   "id": "considerable-south",
   "metadata": {},
   "outputs": [],
   "source": [
    "@jit(fastmath=True)\n",
    "def log_val_(X, X_prime_local, sites, W):\n",
    "    \n",
    "    n_conn = X_prime_local.shape[0]\n",
    "    \n",
    "    r = X.dot(W)\n",
    "#     r_prime = np.empty((n_conn, W.shape[1]), dtype=np.float64)\n",
    "    lc = logcosh(r).sum()\n",
    "    \n",
    "    out = np.empty(n_conn, dtype=np.float64)\n",
    "    \n",
    "    \n",
    "    \n",
    "#     w = W[sites]\n",
    "    for n in range(n_conn):\n",
    "        r_prime = X_prime_local[n].dot(W[sites[n]])\n",
    "        f = r_prime + r\n",
    "        out[n] = logcosh(f).sum()\n",
    "    out -= lc\n",
    "    return out"
   ]
  },
  {
   "cell_type": "code",
   "execution_count": 316,
   "id": "experimental-chemistry",
   "metadata": {},
   "outputs": [],
   "source": [
    "@njit\n",
    "def logcosh(x, y):\n",
    "    # s always has real part >= 0\n",
    "    s = np.sign(x) * x\n",
    "    p = np.exp(-2 * s)\n",
    "    return s + np.log(p) - np.log(2.0)"
   ]
  },
  {
   "cell_type": "code",
   "execution_count": null,
   "id": "oriented-proportion",
   "metadata": {},
   "outputs": [],
   "source": []
  },
  {
   "cell_type": "code",
   "execution_count": 296,
   "id": "registered-layout",
   "metadata": {},
   "outputs": [],
   "source": [
    "x_prime = x_prime.astype(np.float64)\n",
    "batch_size = samples_state.shape[0]"
   ]
  },
  {
   "cell_type": "code",
   "execution_count": 287,
   "id": "neural-employee",
   "metadata": {},
   "outputs": [],
   "source": [
    "x = np.random.rand(100)"
   ]
  },
  {
   "cell_type": "code",
   "execution_count": 291,
   "id": "animated-corps",
   "metadata": {},
   "outputs": [
    {
     "name": "stdout",
     "output_type": "stream",
     "text": [
      "961 ns ± 1.15 ns per loop (mean ± std. dev. of 7 runs, 1000000 loops each)\n"
     ]
    }
   ],
   "source": [
    "%timeit np.cosh(x)"
   ]
  },
  {
   "cell_type": "code",
   "execution_count": 290,
   "id": "united-century",
   "metadata": {},
   "outputs": [
    {
     "name": "stdout",
     "output_type": "stream",
     "text": [
      "2.9 µs ± 6.31 ns per loop (mean ± std. dev. of 7 runs, 100000 loops each)\n"
     ]
    }
   ],
   "source": [
    "%timeit (np.exp(x) + np.exp(-x))/2"
   ]
  },
  {
   "cell_type": "code",
   "execution_count": 282,
   "id": "enhanced-processing",
   "metadata": {
    "collapsed": true
   },
   "outputs": [
    {
     "ename": "TypingError",
     "evalue": "Failed in nopython mode pipeline (step: nopython frontend)\nNo implementation of function Function(<built-in function getitem>) found for signature:\n \n >>> getitem(array(float64, 2d, C), Tuple(array(int8, 2d, C), slice<a:b>))\n \nThere are 22 candidate implementations:\n      - Of which 20 did not match due to:\n      Overload of function 'getitem': File: <numerous>: Line N/A.\n        With argument(s): '(array(float64, 2d, C), Tuple(array(int8, 2d, C), slice<a:b>))':\n       No match.\n      - Of which 2 did not match due to:\n      Overload in function 'GetItemBuffer.generic': File: numba/core/typing/arraydecl.py: Line 162.\n        With argument(s): '(array(float64, 2d, C), Tuple(array(int8, 2d, C), slice<a:b>))':\n       Rejected as the implementation raised a specific error:\n         TypeError: unsupported array index type array(int8, 2d, C) in Tuple(array(int8, 2d, C), slice<a:b>)\n  raised from /home/keisuke/miniconda3/envs/research/lib/python3.8/site-packages/numba/core/typing/arraydecl.py:68\n\nDuring: typing of intrinsic-call at <ipython-input-280-09f20df58fff> (11)\n\nFile \"<ipython-input-280-09f20df58fff>\", line 11:\ndef rate_psi(X, X_prime_local, sites, W):\n    <source elided>\n    \n    w = W[sites,:]\n    ^\n",
     "output_type": "error",
     "traceback": [
      "\u001b[0;31m---------------------------------------------------------------------------\u001b[0m",
      "\u001b[0;31mTypingError\u001b[0m                               Traceback (most recent call last)",
      "\u001b[0;32m<timed exec>\u001b[0m in \u001b[0;36m<module>\u001b[0;34m\u001b[0m\n",
      "\u001b[0;32m~/miniconda3/envs/research/lib/python3.8/site-packages/numba/core/dispatcher.py\u001b[0m in \u001b[0;36m_compile_for_args\u001b[0;34m(self, *args, **kws)\u001b[0m\n\u001b[1;32m    413\u001b[0m                 \u001b[0me\u001b[0m\u001b[0;34m.\u001b[0m\u001b[0mpatch_message\u001b[0m\u001b[0;34m(\u001b[0m\u001b[0mmsg\u001b[0m\u001b[0;34m)\u001b[0m\u001b[0;34m\u001b[0m\u001b[0;34m\u001b[0m\u001b[0m\n\u001b[1;32m    414\u001b[0m \u001b[0;34m\u001b[0m\u001b[0m\n\u001b[0;32m--> 415\u001b[0;31m             \u001b[0merror_rewrite\u001b[0m\u001b[0;34m(\u001b[0m\u001b[0me\u001b[0m\u001b[0;34m,\u001b[0m \u001b[0;34m'typing'\u001b[0m\u001b[0;34m)\u001b[0m\u001b[0;34m\u001b[0m\u001b[0;34m\u001b[0m\u001b[0m\n\u001b[0m\u001b[1;32m    416\u001b[0m         \u001b[0;32mexcept\u001b[0m \u001b[0merrors\u001b[0m\u001b[0;34m.\u001b[0m\u001b[0mUnsupportedError\u001b[0m \u001b[0;32mas\u001b[0m \u001b[0me\u001b[0m\u001b[0;34m:\u001b[0m\u001b[0;34m\u001b[0m\u001b[0;34m\u001b[0m\u001b[0m\n\u001b[1;32m    417\u001b[0m             \u001b[0;31m# Something unsupported is present in the user code, add help info\u001b[0m\u001b[0;34m\u001b[0m\u001b[0;34m\u001b[0m\u001b[0;34m\u001b[0m\u001b[0m\n",
      "\u001b[0;32m~/miniconda3/envs/research/lib/python3.8/site-packages/numba/core/dispatcher.py\u001b[0m in \u001b[0;36merror_rewrite\u001b[0;34m(e, issue_type)\u001b[0m\n\u001b[1;32m    356\u001b[0m                 \u001b[0;32mraise\u001b[0m \u001b[0me\u001b[0m\u001b[0;34m\u001b[0m\u001b[0;34m\u001b[0m\u001b[0m\n\u001b[1;32m    357\u001b[0m             \u001b[0;32melse\u001b[0m\u001b[0;34m:\u001b[0m\u001b[0;34m\u001b[0m\u001b[0;34m\u001b[0m\u001b[0m\n\u001b[0;32m--> 358\u001b[0;31m                 \u001b[0mreraise\u001b[0m\u001b[0;34m(\u001b[0m\u001b[0mtype\u001b[0m\u001b[0;34m(\u001b[0m\u001b[0me\u001b[0m\u001b[0;34m)\u001b[0m\u001b[0;34m,\u001b[0m \u001b[0me\u001b[0m\u001b[0;34m,\u001b[0m \u001b[0;32mNone\u001b[0m\u001b[0;34m)\u001b[0m\u001b[0;34m\u001b[0m\u001b[0;34m\u001b[0m\u001b[0m\n\u001b[0m\u001b[1;32m    359\u001b[0m \u001b[0;34m\u001b[0m\u001b[0m\n\u001b[1;32m    360\u001b[0m         \u001b[0margtypes\u001b[0m \u001b[0;34m=\u001b[0m \u001b[0;34m[\u001b[0m\u001b[0;34m]\u001b[0m\u001b[0;34m\u001b[0m\u001b[0;34m\u001b[0m\u001b[0m\n",
      "\u001b[0;32m~/miniconda3/envs/research/lib/python3.8/site-packages/numba/core/utils.py\u001b[0m in \u001b[0;36mreraise\u001b[0;34m(tp, value, tb)\u001b[0m\n\u001b[1;32m     78\u001b[0m         \u001b[0mvalue\u001b[0m \u001b[0;34m=\u001b[0m \u001b[0mtp\u001b[0m\u001b[0;34m(\u001b[0m\u001b[0;34m)\u001b[0m\u001b[0;34m\u001b[0m\u001b[0;34m\u001b[0m\u001b[0m\n\u001b[1;32m     79\u001b[0m     \u001b[0;32mif\u001b[0m \u001b[0mvalue\u001b[0m\u001b[0;34m.\u001b[0m\u001b[0m__traceback__\u001b[0m \u001b[0;32mis\u001b[0m \u001b[0;32mnot\u001b[0m \u001b[0mtb\u001b[0m\u001b[0;34m:\u001b[0m\u001b[0;34m\u001b[0m\u001b[0;34m\u001b[0m\u001b[0m\n\u001b[0;32m---> 80\u001b[0;31m         \u001b[0;32mraise\u001b[0m \u001b[0mvalue\u001b[0m\u001b[0;34m.\u001b[0m\u001b[0mwith_traceback\u001b[0m\u001b[0;34m(\u001b[0m\u001b[0mtb\u001b[0m\u001b[0;34m)\u001b[0m\u001b[0;34m\u001b[0m\u001b[0;34m\u001b[0m\u001b[0m\n\u001b[0m\u001b[1;32m     81\u001b[0m     \u001b[0;32mraise\u001b[0m \u001b[0mvalue\u001b[0m\u001b[0;34m\u001b[0m\u001b[0;34m\u001b[0m\u001b[0m\n\u001b[1;32m     82\u001b[0m \u001b[0;34m\u001b[0m\u001b[0m\n",
      "\u001b[0;31mTypingError\u001b[0m: Failed in nopython mode pipeline (step: nopython frontend)\nNo implementation of function Function(<built-in function getitem>) found for signature:\n \n >>> getitem(array(float64, 2d, C), Tuple(array(int8, 2d, C), slice<a:b>))\n \nThere are 22 candidate implementations:\n      - Of which 20 did not match due to:\n      Overload of function 'getitem': File: <numerous>: Line N/A.\n        With argument(s): '(array(float64, 2d, C), Tuple(array(int8, 2d, C), slice<a:b>))':\n       No match.\n      - Of which 2 did not match due to:\n      Overload in function 'GetItemBuffer.generic': File: numba/core/typing/arraydecl.py: Line 162.\n        With argument(s): '(array(float64, 2d, C), Tuple(array(int8, 2d, C), slice<a:b>))':\n       Rejected as the implementation raised a specific error:\n         TypeError: unsupported array index type array(int8, 2d, C) in Tuple(array(int8, 2d, C), slice<a:b>)\n  raised from /home/keisuke/miniconda3/envs/research/lib/python3.8/site-packages/numba/core/typing/arraydecl.py:68\n\nDuring: typing of intrinsic-call at <ipython-input-280-09f20df58fff> (11)\n\nFile \"<ipython-input-280-09f20df58fff>\", line 11:\ndef rate_psi(X, X_prime_local, sites, W):\n    <source elided>\n    \n    w = W[sites,:]\n    ^\n"
     ]
    }
   ],
   "source": [
    "%%time\n",
    "log_val_prime = np.empty(x_prime.shape[0], dtype=np.float64)\n",
    "for n in range(batch_size):\n",
    "    log_val_prime[sections[n]:sections[n+1]] = rate_psi(samples_state[n], x_prime[sections[n]:sections[n+1]], sites[sections[n]:sections[n+1]], ma._w)"
   ]
  },
  {
   "cell_type": "code",
   "execution_count": 223,
   "id": "worthy-seating",
   "metadata": {},
   "outputs": [],
   "source": [
    "n = 0"
   ]
  },
  {
   "cell_type": "code",
   "execution_count": 301,
   "id": "technical-slave",
   "metadata": {},
   "outputs": [
    {
     "name": "stdout",
     "output_type": "stream",
     "text": [
      "40.6 µs ± 434 ns per loop (mean ± std. dev. of 7 runs, 10000 loops each)\n"
     ]
    }
   ],
   "source": [
    "%%timeit\n",
    "rate_psi(samples_state[n], x_prime[sections[n]:sections[n+1]], sites[sections[n]:sections[n+1]], ma._w)"
   ]
  },
  {
   "cell_type": "code",
   "execution_count": 298,
   "id": "secret-seller",
   "metadata": {},
   "outputs": [
    {
     "name": "stdout",
     "output_type": "stream",
     "text": [
      "38.7 µs ± 930 ns per loop (mean ± std. dev. of 7 runs, 10000 loops each)\n"
     ]
    }
   ],
   "source": [
    "%timeit ma.log_val(x_prime1[sections[n]:sections[n+1]])"
   ]
  },
  {
   "cell_type": "code",
   "execution_count": 323,
   "id": "sufficient-bhutan",
   "metadata": {},
   "outputs": [
    {
     "name": "stdout",
     "output_type": "stream",
     "text": [
      "25.6 µs ± 37.8 ns per loop (mean ± std. dev. of 7 runs, 10000 loops each)\n"
     ]
    }
   ],
   "source": [
    "%timeit log_val_(samples_state[n], x_prime[sections[n]:sections[n+1]], sites[sections[n]:sections[n+1]], ma._w)"
   ]
  },
  {
   "cell_type": "code",
   "execution_count": 111,
   "id": "recorded-canada",
   "metadata": {},
   "outputs": [
    {
     "data": {
      "text/plain": [
       "(4, 128)"
      ]
     },
     "execution_count": 111,
     "metadata": {},
     "output_type": "execute_result"
    }
   ],
   "source": [
    "ma._w[[32,24,16,8],:]"
   ]
  },
  {
   "cell_type": "code",
   "execution_count": 113,
   "id": "second-swift",
   "metadata": {},
   "outputs": [
    {
     "ename": "KeyboardInterrupt",
     "evalue": "",
     "output_type": "error",
     "traceback": [
      "\u001b[0;31m---------------------------------------------------------------------------\u001b[0m",
      "\u001b[0;31mKeyboardInterrupt\u001b[0m                         Traceback (most recent call last)",
      "\u001b[0;32m<ipython-input-113-8a69cb204eeb>\u001b[0m in \u001b[0;36m<module>\u001b[0;34m\u001b[0m\n\u001b[0;32m----> 1\u001b[0;31m \u001b[0mx_prime\u001b[0m\u001b[0;34m.\u001b[0m\u001b[0mdot\u001b[0m\u001b[0;34m(\u001b[0m\u001b[0mma\u001b[0m\u001b[0;34m.\u001b[0m\u001b[0m_w\u001b[0m\u001b[0;34m[\u001b[0m\u001b[0msites\u001b[0m\u001b[0;34m]\u001b[0m\u001b[0;34m)\u001b[0m\u001b[0;34m\u001b[0m\u001b[0;34m\u001b[0m\u001b[0m\n\u001b[0m",
      "\u001b[0;31mKeyboardInterrupt\u001b[0m: "
     ]
    }
   ],
   "source": [
    "x_prime.dot(ma._w[sites])"
   ]
  },
  {
   "cell_type": "code",
   "execution_count": 114,
   "id": "finished-castle",
   "metadata": {},
   "outputs": [
    {
     "data": {
      "text/plain": [
       "(1766, 4)"
      ]
     },
     "execution_count": 114,
     "metadata": {},
     "output_type": "execute_result"
    }
   ],
   "source": [
    "x_prime.shape"
   ]
  },
  {
   "cell_type": "code",
   "execution_count": 209,
   "id": "welcome-harassment",
   "metadata": {},
   "outputs": [],
   "source": [
    "import numpy as _np\n",
    "@jit(nopython=True)\n",
    "def get_conn_local(\n",
    "        x,\n",
    "        sections,\n",
    "        basis,\n",
    "        constant,\n",
    "        diag_mels,\n",
    "        n_conns,\n",
    "        all_mels,\n",
    "        all_x_prime,\n",
    "        acting_on,\n",
    "        acting_size\n",
    "    ):\n",
    "\n",
    "\n",
    "    batch_size = x.shape[0]\n",
    "    n_sites = x.shape[1]\n",
    "\n",
    "    assert sections.shape[0] == batch_size\n",
    "\n",
    "    n_operators = n_conns.shape[0]\n",
    "    xs_n = _np.empty((batch_size, n_operators), dtype=_np.intp)\n",
    "\n",
    "    max_conn = 0\n",
    "\n",
    "#     acting_size = np.int8(acting_size)\n",
    "#     acting_size = 4\n",
    "    tot_conn = 0\n",
    "\n",
    "    sections[:] = 1\n",
    "\n",
    "    for i in range(n_operators):\n",
    "        n_conns_i = n_conns[i]\n",
    "        x_i = (x[:, acting_on[i]] + 1) / 2\n",
    "        s = _np.zeros(batch_size)\n",
    "        for j in range(acting_size):\n",
    "            s += x_i[:, j] * basis[j]\n",
    "        xs_n[:, i] = s\n",
    "        sections += n_conns_i[xs_n[:, i]]\n",
    "    sections -= 1\n",
    "    tot_conn=sections.sum()\n",
    "\n",
    "    s = 0 \n",
    "#     sec = sections.copy()\n",
    "    for b in range(batch_size):\n",
    "        s += sections[b]\n",
    "        sections[b] = s\n",
    "\n",
    "\n",
    "\n",
    "    x_prime = _np.empty((tot_conn, acting_size), dtype=_np.int8) # x.shpae[0] is number of connected elements of hamiltonian from batch of states. \n",
    "    mels = _np.empty(tot_conn, dtype=_np.complex128)\n",
    "    sites_ = _np.empty((tot_conn, acting_size), dtype=_np.int8)\n",
    "\n",
    "\n",
    "    c = 0\n",
    "    for b in range(batch_size):\n",
    "        x_batch = x[b]\n",
    "        xs_n_b = xs_n[b]\n",
    "        for i in range(n_operators):\n",
    "\n",
    "            # Diagonal part\n",
    "            n_conn_i = n_conns[i, xs_n_b[i]]\n",
    "\n",
    "            if n_conn_i > 0:\n",
    "                sites = acting_on[i]\n",
    "\n",
    "                for cc in range(n_conn_i):\n",
    "                    mels[c + cc] = all_mels[i, xs_n_b[i], cc]\n",
    "                    x_prime_cc = x_prime[c + cc]\n",
    "                    x_prime_cc[:] = all_x_prime[i, xs_n_b[i], cc] - x_batch[sites]\n",
    "                    sites_[c + cc] = sites\n",
    "                c += n_conn_i\n",
    "\n",
    "\n",
    "    return x_prime, sites_ , mels"
   ]
  },
  {
   "cell_type": "code",
   "execution_count": 210,
   "id": "russian-builder",
   "metadata": {},
   "outputs": [
    {
     "data": {
      "text/plain": [
       "<netket.operator._local_operator.DimerLocalOperator2 at 0x7fbec2d0e640>"
      ]
     },
     "execution_count": 210,
     "metadata": {},
     "output_type": "execute_result"
    }
   ],
   "source": [
    "op"
   ]
  },
  {
   "cell_type": "code",
   "execution_count": 211,
   "id": "accessory-triangle",
   "metadata": {},
   "outputs": [],
   "source": [
    "batch_size = samples_state.shape[0]\n",
    "sections = np.zeros(batch_size + 1, dtype=np.int)\n",
    "acting_size = int(op._acting_size[0])"
   ]
  },
  {
   "cell_type": "code",
   "execution_count": 213,
   "id": "aggressive-cincinnati",
   "metadata": {},
   "outputs": [],
   "source": [
    "x_prime, sites, mels =  get_conn_local(\n",
    "    samples_state,\n",
    "    sections[1:],\n",
    "    op._basis[::-1].copy(),\n",
    "    op._constant,\n",
    "    op._diag_mels,\n",
    "    op._n_conns,\n",
    "    op._mels,\n",
    "    op._x_prime,\n",
    "    op._acting_on,\n",
    "    acting_size\n",
    ")"
   ]
  },
  {
   "cell_type": "code",
   "execution_count": 175,
   "id": "adopted-bulgarian",
   "metadata": {},
   "outputs": [],
   "source": [
    "x_prime1,  mels1 = op.get_conn_flattened(samples_state, sections[1:])"
   ]
  },
  {
   "cell_type": "code",
   "execution_count": 94,
   "id": "transparent-belarus",
   "metadata": {},
   "outputs": [
    {
     "data": {
      "text/plain": [
       "array([   0,   16,   33,   54,   70,   87,  108,  126,  144,  164,  181,\n",
       "        197,  217,  235,  254,  274,  293,  313,  332,  349,  368,  387,\n",
       "        406,  424,  447,  465,  487,  506,  523,  543,  562,  580,  599,\n",
       "        614,  635,  655,  673,  691,  708,  723,  742,  760,  780,  800,\n",
       "        821,  841,  857,  874,  894,  911,  929,  948,  965,  985, 1005,\n",
       "       1019, 1036, 1055, 1069, 1094, 1114, 1132, 1151, 1171, 1189, 1210,\n",
       "       1227, 1247, 1261, 1281, 1303, 1319, 1335, 1355, 1378, 1395, 1413,\n",
       "       1432, 1451, 1467, 1487, 1507, 1524, 1540, 1558, 1576, 1599, 1621,\n",
       "       1639, 1660, 1676, 1697, 1717, 1736, 1752, 1772, 1790, 1806, 1824,\n",
       "       1842, 1866])"
      ]
     },
     "execution_count": 94,
     "metadata": {},
     "output_type": "execute_result"
    }
   ],
   "source": [
    "sections"
   ]
  },
  {
   "cell_type": "code",
   "execution_count": 79,
   "id": "overall-devil",
   "metadata": {},
   "outputs": [
    {
     "data": {
      "text/plain": [
       "array([   0,   16,   33,   54,   70,   87,  108,  126,  144,  164,  181,\n",
       "        197,  217,  235,  254,  274,  293,  313,  332,  349,  368,  387,\n",
       "        406,  424,  447,  465,  487,  506,  523,  543,  562,  580,  599,\n",
       "        614,  635,  655,  673,  691,  708,  723,  742,  760,  780,  800,\n",
       "        821,  841,  857,  874,  894,  911,  929,  948,  965,  985, 1005,\n",
       "       1019, 1036, 1055, 1069, 1094, 1114, 1132, 1151, 1171, 1189, 1210,\n",
       "       1227, 1247, 1261, 1281, 1303, 1319, 1335, 1355, 1378, 1395, 1413,\n",
       "       1432, 1451, 1467, 1487, 1507, 1524, 1540, 1558, 1576, 1599, 1621,\n",
       "       1639, 1660, 1676, 1697, 1717, 1736, 1752, 1772, 1790, 1806, 1824,\n",
       "       1842, 1866])"
      ]
     },
     "execution_count": 79,
     "metadata": {},
     "output_type": "execute_result"
    }
   ],
   "source": [
    "for n in range(batch_size):\n",
    "    "
   ]
  },
  {
   "cell_type": "code",
   "execution_count": 65,
   "id": "asian-feeding",
   "metadata": {},
   "outputs": [
    {
     "data": {
      "text/plain": [
       "array([ 1, -1, -1,  1], dtype=int8)"
      ]
     },
     "execution_count": 65,
     "metadata": {},
     "output_type": "execute_result"
    }
   ],
   "source": [
    "x_prime1[1][sites[0]]"
   ]
  },
  {
   "cell_type": "code",
   "execution_count": 67,
   "id": "tutorial-twelve",
   "metadata": {},
   "outputs": [
    {
     "data": {
      "text/plain": [
       "array([ 0, -2, -2,  0], dtype=int8)"
      ]
     },
     "execution_count": 67,
     "metadata": {},
     "output_type": "execute_result"
    }
   ],
   "source": [
    "(x_prime1[1]- x_prime1[0])[sites[0]]"
   ]
  },
  {
   "cell_type": "code",
   "execution_count": 63,
   "id": "dangerous-venue",
   "metadata": {},
   "outputs": [
    {
     "data": {
      "text/plain": [
       "array([ 1, -1, -1,  1], dtype=int8)"
      ]
     },
     "execution_count": 63,
     "metadata": {},
     "output_type": "execute_result"
    }
   ],
   "source": [
    "x_prime[0]"
   ]
  },
  {
   "cell_type": "code",
   "execution_count": 64,
   "id": "unauthorized-edward",
   "metadata": {},
   "outputs": [
    {
     "data": {
      "text/plain": [
       "array([[ 32,  24,  16,   8],\n",
       "       [ 24,  32,  47,  55],\n",
       "       [ 16,   8,   1, 121],\n",
       "       ...,\n",
       "       [ 32,  47,  39,  46],\n",
       "       [ 64,  79,  71,  78],\n",
       "       [ 96, 111, 103, 110]], dtype=int8)"
      ]
     },
     "execution_count": 64,
     "metadata": {},
     "output_type": "execute_result"
    }
   ],
   "source": [
    "sites"
   ]
  },
  {
   "cell_type": "code",
   "execution_count": null,
   "id": "literary-appearance",
   "metadata": {
    "scrolled": true
   },
   "outputs": [],
   "source": [
    "num = 2500\n",
    "batch_size = samples_state.shape[0]\n",
    "P = []\n",
    "for i in range(int(1)):\n",
    "    s = time.time()\n",
    "    print(i * num ,(i+1)*num)\n",
    "    P.append(d.dynamics(samples_state[i * num : (i+1)*num], t_list, 0))\n",
    "    print('{}th loop done : {}'.format(i, time.time()-s))\n",
    "P = np.vstack(P)"
   ]
  },
  {
   "cell_type": "code",
   "execution_count": null,
   "id": "sustained-subscription",
   "metadata": {},
   "outputs": [],
   "source": [
    "g = nk.graph.Graph(nodes = [i for i in range(length[0] * length[1] * 2)])\n",
    "hi = nk.hilbert.Spin(s=0.5, graph=g)\n",
    "\n",
    "\n",
    "l = []\n",
    "for i in range(length[0]):\n",
    "    for j in range(length[1]):\n",
    "        l.append([i, j])\n",
    "l = np.array(l)\n",
    "\n",
    "a_ = [a for _ in range(np.prod(length))]\n",
    "a = np.array(a_)\n",
    "\n",
    "edges, colors = hex_.dimer_corr(l,a)\n",
    "operators = f.return_dimer_operator(hi, edges, colors)\n",
    "sections = np.arange(P.shape[0])\n",
    "\n",
    "_, mels1 = operators[0].get_conn_flattened(P[:,0,:], sections)\n",
    "sub1 = operators[0].get_conn_flattened(P[:,0,:], sections)[1].mean().real\n",
    "\n",
    "dimer_corr = np.zeros((length[0],length[1],t_list.shape[0]))\n",
    "dimer_std = np.zeros((length[0],length[1],t_list.shape[0]))\n",
    "\n",
    "for l1 in range(length[0]):\n",
    "    for l2 in range(length[1]):\n",
    "        sub2 = operators[1].get_conn_flattened(P[:,0,:], sections)[1].mean().real \n",
    "        for i in range(t_list.shape[0]):\n",
    "            _, mels2 = operators[l1 * length[1] + l2].get_conn_flattened(P[:,i,:], sections)\n",
    "            dimer_corr[l1,l2,i] = np.real(((mels1 * mels2 ).mean()))\n",
    "            dimer_std[l1,l2,i] = np.real(((mels1 * mels2 ).std()))\n",
    "        dimer_corr[l1,l2] -= sub1 * sub2\n",
    "        dimer_std[l1,l2] /= np.sqrt(P.shape[0])"
   ]
  },
  {
   "cell_type": "code",
   "execution_count": null,
   "id": "monthly-watershed",
   "metadata": {},
   "outputs": [],
   "source": [
    "dimer_corr2 = dimer_corr"
   ]
  },
  {
   "cell_type": "code",
   "execution_count": null,
   "id": "expressed-split",
   "metadata": {
    "scrolled": true
   },
   "outputs": [],
   "source": [
    "dimer_corr2[1,3]"
   ]
  },
  {
   "cell_type": "code",
   "execution_count": null,
   "id": "prospective-airline",
   "metadata": {
    "scrolled": true
   },
   "outputs": [],
   "source": [
    "dimer_corr[1,3]"
   ]
  },
  {
   "cell_type": "code",
   "execution_count": null,
   "id": "spatial-correlation",
   "metadata": {},
   "outputs": [],
   "source": [
    "dimer_std[1,3]"
   ]
  },
  {
   "cell_type": "code",
   "execution_count": null,
   "id": "dental-detail",
   "metadata": {},
   "outputs": [],
   "source": [
    "t_list"
   ]
  },
  {
   "cell_type": "code",
   "execution_count": null,
   "id": "vital-possession",
   "metadata": {},
   "outputs": [],
   "source": []
  }
 ],
 "metadata": {
  "kernelspec": {
   "display_name": "Python 3",
   "language": "python",
   "name": "python3"
  },
  "language_info": {
   "codemirror_mode": {
    "name": "ipython",
    "version": 3
   },
   "file_extension": ".py",
   "mimetype": "text/x-python",
   "name": "python",
   "nbconvert_exporter": "python",
   "pygments_lexer": "ipython3",
   "version": "3.8.5"
  }
 },
 "nbformat": 4,
 "nbformat_minor": 5
}
