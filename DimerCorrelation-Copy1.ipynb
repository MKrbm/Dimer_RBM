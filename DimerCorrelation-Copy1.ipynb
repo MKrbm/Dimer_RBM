{
 "cells": [
  {
   "cell_type": "code",
   "execution_count": 1,
   "id": "latest-mistress",
   "metadata": {},
   "outputs": [
    {
     "name": "stderr",
     "output_type": "stream",
     "text": [
      "/home/keisuke/Documents/Research/sshfs/DimerMaster/functions.py:65: NumbaDeprecationWarning: The 'numba.jitclass' decorator has moved to 'numba.experimental.jitclass' to better reflect the experimental nature of the functionality. Please update your imports to accommodate this change and see https://numba.pydata.org/numba-doc/latest/reference/deprecation.html#change-of-jitclass-location for the time frame.\n",
      "  @jitclass(spec)\n"
     ]
    }
   ],
   "source": [
    "import numpy as np\n",
    "import netket as nk\n",
    "import functions as f"
   ]
  },
  {
   "cell_type": "code",
   "execution_count": 2,
   "id": "expensive-recorder",
   "metadata": {},
   "outputs": [],
   "source": [
    "from conf import *\n",
    "from numba import njit"
   ]
  },
  {
   "cell_type": "code",
   "execution_count": null,
   "id": "thermal-parking",
   "metadata": {},
   "outputs": [],
   "source": []
  },
  {
   "cell_type": "code",
   "execution_count": null,
   "id": "olympic-leader",
   "metadata": {},
   "outputs": [],
   "source": []
  },
  {
   "cell_type": "code",
   "execution_count": 3,
   "id": "subjective-motorcycle",
   "metadata": {},
   "outputs": [
    {
     "data": {
      "text/plain": [
       "1.0"
      ]
     },
     "execution_count": 3,
     "metadata": {},
     "output_type": "execute_result"
    }
   ],
   "source": [
    "np.zeros(3, dtype=np.intp)[0:3]\n",
    "np.random.rand(4)\n",
    "5.1 //3"
   ]
  },
  {
   "cell_type": "code",
   "execution_count": 4,
   "id": "moved-vitamin",
   "metadata": {},
   "outputs": [],
   "source": [
    "@njit\n",
    "def foo(x,y):\n",
    "    print((x//y).astype(np.int64))\n",
    "    return x"
   ]
  },
  {
   "cell_type": "code",
   "execution_count": 5,
   "id": "several-pointer",
   "metadata": {},
   "outputs": [],
   "source": [
    "x = np.random.randint(0,100, 10)\n",
    "y = np.random.randint(1,10, 10)"
   ]
  },
  {
   "cell_type": "code",
   "execution_count": 6,
   "id": "ultimate-presence",
   "metadata": {},
   "outputs": [
    {
     "name": "stdout",
     "output_type": "stream",
     "text": [
      "[12 15 13  7 11 12  3 13  1  0]\n"
     ]
    },
    {
     "data": {
      "text/plain": [
       "array([88, 46, 67, 66, 99, 25, 14, 66, 13,  1])"
      ]
     },
     "execution_count": 6,
     "metadata": {},
     "output_type": "execute_result"
    }
   ],
   "source": [
    "foo(x,y)"
   ]
  },
  {
   "cell_type": "code",
   "execution_count": 103,
   "id": "matched-programmer",
   "metadata": {
    "scrolled": true
   },
   "outputs": [
    {
     "name": "stdout",
     "output_type": "stream",
     "text": [
      "4\n",
      "discard samples\n",
      "prepared initial samples\n"
     ]
    }
   ],
   "source": [
    "h = 1.0\n",
    "V = 1.0\n",
    "\n",
    "length = [4, 4]\n",
    "name = 'h={}V={}l={}'.format(h, V, length)\n",
    "n_chains = 10\n",
    "sweep_size = 70\n",
    "n_samples = 10000\n",
    "\n",
    "\n",
    "\n",
    "g = nk.graph.Graph(nodes = [i for i in range(length[0] * length[1] * 2)])\n",
    "hi = nk.hilbert.Spin(s=0.5, graph=g)\n",
    "\n",
    "op = f.dimer_hamiltonian(h, V,np.array(length))\n",
    "op_transition = f.dimer_flip(length = np.array(length))\n",
    "hex_ = nk.machine.new_hex(np.array(length))\n",
    "\n",
    "\n",
    "ma = nk.machine.RbmDimer(hi, hex_, alpha = alpha, symmetry = True\n",
    "                    ,use_hidden_bias = False, use_visible_bias = False, dtype=float)\n",
    "\n",
    "ma.load('save/ma/'+name)\n",
    "\n",
    "\n",
    "sa = nk.sampler.DimerMetropolisLocal(machine=ma, op=op_transition, length = length, n_chains=n_chains, sweep_size = 70)\n",
    "sa.generate_samples(10) # discard the begginings of metropolis sampling.\n",
    "print('discard samples')\n",
    "samples_state = sa.generate_samples(int(n_samples / n_chains))\n",
    "samples_state = samples_state.reshape(-1, ma.hilbert.size)\n",
    "\n",
    "print('prepared initial samples')\n",
    "\n",
    "\n"
   ]
  },
  {
   "cell_type": "code",
   "execution_count": 104,
   "id": "satisfied-suite",
   "metadata": {},
   "outputs": [],
   "source": [
    "local_states = op._local_states\n",
    "basis = op._basis"
   ]
  },
  {
   "cell_type": "code",
   "execution_count": 161,
   "id": "micro-adams",
   "metadata": {},
   "outputs": [
    {
     "data": {
      "text/plain": [
       "array([[-1., -1., -1., ..., -1.,  1., -1.],\n",
       "       [ 1., -1., -1., ..., -1.,  1., -1.],\n",
       "       [ 1.,  1.,  1., ..., -1., -1., -1.],\n",
       "       ...,\n",
       "       [-1., -1., -1., ..., -1.,  1., -1.],\n",
       "       [-1., -1., -1., ...,  1.,  1.,  1.],\n",
       "       [-1., -1., -1., ..., -1., -1., -1.]])"
      ]
     },
     "execution_count": 161,
     "metadata": {},
     "output_type": "execute_result"
    }
   ],
   "source": [
    "samples_state"
   ]
  },
  {
   "cell_type": "code",
   "execution_count": 173,
   "id": "unnecessary-absorption",
   "metadata": {},
   "outputs": [
    {
     "data": {
      "text/plain": [
       "array([8., 4., 4., ..., 8., 9., 8.])"
      ]
     },
     "execution_count": 173,
     "metadata": {},
     "output_type": "execute_result"
    }
   ],
   "source": [
    "((samples_state[:, op._acting_on[0]] + 1) / 2 * basis).sum(axis=1)"
   ]
  },
  {
   "cell_type": "code",
   "execution_count": 192,
   "id": "corresponding-worship",
   "metadata": {},
   "outputs": [],
   "source": [
    "def dot_1(x, y):\n",
    "    return (x * y).sum(axis=1)\n",
    "\n",
    "@njit\n",
    "def dot_numba(x,z):\n",
    "    y = np.zeros(x.shape[0])\n",
    "    for i in range(x.shape[1]):\n",
    "        y += x[:,i] * z[i]\n",
    "    return y "
   ]
  },
  {
   "cell_type": "code",
   "execution_count": 222,
   "id": "neural-hearing",
   "metadata": {},
   "outputs": [],
   "source": [
    "# %%timeit \n",
    "X = (np.random.choice([-1,1], (10000,4)) + 1)/2\n",
    "i = dot_1(X, basis)"
   ]
  },
  {
   "cell_type": "code",
   "execution_count": 225,
   "id": "sacred-offset",
   "metadata": {},
   "outputs": [
    {
     "data": {
      "text/plain": [
       "array([[0, 0, 0, ..., 0, 0, 0],\n",
       "       [0, 1, 1, ..., 1, 1, 0],\n",
       "       [1, 0, 0, ..., 0, 0, 1],\n",
       "       ...,\n",
       "       [0, 0, 0, ..., 0, 0, 0],\n",
       "       [0, 1, 1, ..., 1, 1, 0],\n",
       "       [0, 0, 0, ..., 0, 0, 0]])"
      ]
     },
     "execution_count": 225,
     "metadata": {},
     "output_type": "execute_result"
    }
   ],
   "source": [
    "op._n_conns[i.astype(np.int)]"
   ]
  },
  {
   "cell_type": "code",
   "execution_count": 224,
   "id": "cooperative-pledge",
   "metadata": {},
   "outputs": [
    {
     "data": {
      "text/plain": [
       "array([5., 6., 3., ..., 0., 6., 7.])"
      ]
     },
     "execution_count": 224,
     "metadata": {},
     "output_type": "execute_result"
    }
   ],
   "source": [
    "i"
   ]
  },
  {
   "cell_type": "code",
   "execution_count": null,
   "id": "focused-coordinate",
   "metadata": {},
   "outputs": [],
   "source": [
    "conn = op._n_conns"
   ]
  },
  {
   "cell_type": "code",
   "execution_count": 210,
   "id": "korean-theater",
   "metadata": {},
   "outputs": [
    {
     "data": {
      "text/plain": [
       "array([15., 15., 15., ..., 15., 15., 15.])"
      ]
     },
     "execution_count": 210,
     "metadata": {},
     "output_type": "execute_result"
    }
   ],
   "source": [
    "# %%timeit \n",
    "X = np.random.randint(1,2, (10000,4))\n",
    "dot_numba(X, basis)"
   ]
  },
  {
   "cell_type": "code",
   "execution_count": 109,
   "id": "tired-aggregate",
   "metadata": {},
   "outputs": [
    {
     "name": "stdout",
     "output_type": "stream",
     "text": [
      "8.12 µs ± 218 ns per loop (mean ± std. dev. of 7 runs, 100000 loops each)\n"
     ]
    }
   ],
   "source": [
    "%%timeit \n",
    "a = 0\n",
    "for k in range(acting_size):\n",
    "    a += (\n",
    "        _np.searchsorted(local_states, x_i[acting_size- k - 1])\n",
    "        * basis[k]\n",
    "    )"
   ]
  },
  {
   "cell_type": "code",
   "execution_count": 170,
   "id": "judicial-burning",
   "metadata": {},
   "outputs": [],
   "source": [
    "@njit\n",
    "def dot(x, acting_on):\n",
    "    \n",
    "    xx = x[:, acting_on]\n",
    "    \n",
    "    return xx"
   ]
  },
  {
   "cell_type": "code",
   "execution_count": 171,
   "id": "athletic-williams",
   "metadata": {},
   "outputs": [
    {
     "data": {
      "text/plain": [
       "array([[-1., -1., -1.,  1.],\n",
       "       [-1., -1.,  1., -1.],\n",
       "       [-1., -1.,  1., -1.],\n",
       "       ...,\n",
       "       [-1., -1., -1.,  1.],\n",
       "       [ 1., -1., -1.,  1.],\n",
       "       [-1., -1., -1.,  1.]])"
      ]
     },
     "execution_count": 171,
     "metadata": {},
     "output_type": "execute_result"
    }
   ],
   "source": [
    "dot(samples_state, op._acting_on[0])"
   ]
  },
  {
   "cell_type": "code",
   "execution_count": null,
   "id": "attempted-number",
   "metadata": {},
   "outputs": [],
   "source": []
  }
 ],
 "metadata": {
  "kernelspec": {
   "display_name": "Python 3",
   "language": "python",
   "name": "python3"
  },
  "language_info": {
   "codemirror_mode": {
    "name": "ipython",
    "version": 3
   },
   "file_extension": ".py",
   "mimetype": "text/x-python",
   "name": "python",
   "nbconvert_exporter": "python",
   "pygments_lexer": "ipython3",
   "version": "3.8.5"
  }
 },
 "nbformat": 4,
 "nbformat_minor": 5
}
