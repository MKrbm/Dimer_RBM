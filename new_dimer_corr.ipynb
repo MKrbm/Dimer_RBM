{
 "cells": [
  {
   "cell_type": "code",
   "execution_count": 1,
   "id": "retained-physics",
   "metadata": {
    "scrolled": true
   },
   "outputs": [
    {
     "name": "stderr",
     "output_type": "stream",
     "text": [
      "/home/keisuke/Documents/Research/sshfs/DimerMaster/scripts/functions.py:65: NumbaDeprecationWarning: The 'numba.jitclass' decorator has moved to 'numba.experimental.jitclass' to better reflect the experimental nature of the functionality. Please update your imports to accommodate this change and see https://numba.pydata.org/numba-doc/latest/reference/deprecation.html#change-of-jitclass-location for the time frame.\n",
      "  @jitclass(spec)\n"
     ]
    }
   ],
   "source": [
    "import numpy as np\n",
    "import netket as nk\n",
    "from scripts import functions as f\n",
    "from scripts import new_dynamics "
   ]
  },
  {
   "cell_type": "code",
   "execution_count": 2,
   "id": "buried-young",
   "metadata": {},
   "outputs": [],
   "source": [
    "from conf import *\n",
    "from numba import njit, jit"
   ]
  },
  {
   "cell_type": "code",
   "execution_count": 3,
   "id": "noticed-munich",
   "metadata": {},
   "outputs": [
    {
     "name": "stdout",
     "output_type": "stream",
     "text": [
      "4\n",
      "3.970005750656128 for metropolis\n",
      "discard samples\n",
      "0.16279172897338867 for metropolis\n",
      "prepared initial samples\n"
     ]
    }
   ],
   "source": [
    "h = 1.0\n",
    "V = 1.0\n",
    "\n",
    "length = [8, 8]\n",
    "name = 'h={}V={}l={}'.format(h, V, length)\n",
    "kernel = 1\n",
    "n_chains = 1\n",
    "n_discards = 1\n",
    "n_samples = 100\n",
    "\n",
    "g = nk.graph.Graph(nodes = [i for i in range(length[0] * length[1] * 2)])\n",
    "hi = nk.hilbert.Spin(s=0.5, graph=g)\n",
    "\n",
    "op = f.dimer_hamiltonian(h, V,np.array(length))\n",
    "op_transition = f.dimer_flip1(length = np.array(length))\n",
    "hex_ = nk.machine.new_hex(np.array(length))\n",
    "\n",
    "\n",
    "ma = nk.machine.RbmDimer(hi, hex_, alpha = alpha, symmetry = True\n",
    "                    ,use_hidden_bias = False, use_visible_bias = False, dtype=float)\n",
    "\n",
    "ma.load('save/ma/'+name)\n",
    "\n",
    "\n",
    "sa = nk.sampler.DimerMetropolisLocal(machine=ma, op=op_transition, length = length, n_chains=n_chains, sweep_size = 70, kernel = 1)\n",
    "sa.generate_samples(n_discards) # discard the begginings of metropolis sampling.\n",
    "print('discard samples')\n",
    "samples_state = sa.generate_samples(int(n_samples/n_chains))\n",
    "samples_state = samples_state.reshape(-1, ma.hilbert.size)\n",
    "\n",
    "print('prepared initial samples')"
   ]
  },
  {
   "cell_type": "code",
   "execution_count": 4,
   "id": "continental-certificate",
   "metadata": {},
   "outputs": [],
   "source": [
    "from scripts import dynamics as dy\n",
    "from importlib import reload\n",
    "reload(dy)\n",
    "\n",
    "d = dy.new_dynamics(op, ma)\n",
    "import time"
   ]
  },
  {
   "cell_type": "code",
   "execution_count": 5,
   "id": "linear-efficiency",
   "metadata": {},
   "outputs": [],
   "source": [
    "t_list = np.linspace(0, 30, 11)"
   ]
  },
  {
   "cell_type": "code",
   "execution_count": 6,
   "id": "capital-proof",
   "metadata": {},
   "outputs": [
    {
     "data": {
      "text/plain": [
       "(100, 128)"
      ]
     },
     "execution_count": 6,
     "metadata": {},
     "output_type": "execute_result"
    }
   ],
   "source": [
    "samples_state.shape"
   ]
  },
  {
   "cell_type": "code",
   "execution_count": 24,
   "id": "improved-stationery",
   "metadata": {},
   "outputs": [
    {
     "name": "stdout",
     "output_type": "stream",
     "text": [
      "0.4884757995605469 cal log\n",
      "0.5672433376312256 cal log\n",
      "0.6599569320678711 cal log\n",
      "0.7263798713684082 cal log\n",
      "0.7977445125579834 cal log\n",
      "0.856661319732666 cal log\n",
      "0.9028880596160889 cal log\n",
      "0.9672219753265381 cal log\n",
      "1.0219569206237793 cal log\n",
      "1.0752029418945312 cal log\n",
      "CPU times: user 8.08 s, sys: 12 ms, total: 8.1 s\n",
      "Wall time: 8.07 s\n"
     ]
    }
   ],
   "source": [
    "%time P, T = d.dynamics(samples_state, 10)"
   ]
  },
  {
   "cell_type": "code",
   "execution_count": null,
   "id": "compact-filter",
   "metadata": {},
   "outputs": [],
   "source": []
  },
  {
   "cell_type": "code",
   "execution_count": 7,
   "id": "distributed-performer",
   "metadata": {},
   "outputs": [],
   "source": [
    "T_ = T.T\n",
    "uni, ind = np.unique(T_, return_index=True)"
   ]
  },
  {
   "cell_type": "code",
   "execution_count": 57,
   "id": "efficient-fence",
   "metadata": {},
   "outputs": [],
   "source": [
    "X = samples_state.astype(np.int8)"
   ]
  },
  {
   "cell_type": "code",
   "execution_count": 74,
   "id": "central-playing",
   "metadata": {},
   "outputs": [],
   "source": [
    "log_val_kernel = ma._log_val_kernel\n",
    "_w = ma._w\n",
    "_a = ma._a\n",
    "_b = ma._b\n",
    "_r = ma._r"
   ]
  },
  {
   "cell_type": "code",
   "execution_count": 85,
   "id": "macro-prime",
   "metadata": {},
   "outputs": [],
   "source": [
    "sections = np.ones(X.shape[0])"
   ]
  },
  {
   "cell_type": "code",
   "execution_count": 77,
   "id": "following-image",
   "metadata": {},
   "outputs": [
    {
     "name": "stdout",
     "output_type": "stream",
     "text": [
      "0.025664091110229492\n"
     ]
    }
   ],
   "source": [
    "s = time.time()\n",
    "log_val_prime = np.real(log_val_kernel(X.astype(np.float64), None, _w, _a, _b, _r))\n",
    "print(time.time()-s)"
   ]
  },
  {
   "cell_type": "code",
   "execution_count": 333,
   "id": "equal-whale",
   "metadata": {},
   "outputs": [],
   "source": [
    "@jit(fastmath=True)\n",
    "def numpy_log_cosh_sum(x, out):\n",
    "#     x = x * np.sign(x.real)\n",
    "    for i in range(x.shape[0]):\n",
    "        for j in range(x.shape[1]):\n",
    "            out[i] += x[i,j] - np.log(2.0) + np.log(1.0 + np.exp(-2.0 * x[i,j]))\n",
    "    return out\n",
    "\n",
    "@jit(fastmath=True)\n",
    "def _log_cosh_sum(x, out):\n",
    "    x = x * np.sign(x.real)\n",
    "    for i in range(x.shape[0]):\n",
    "        out[i] = np.sum(x[i] - np.log(2.0) + np.log(1.0 + np.exp(-2.0 * x[i])))\n",
    "    return out\n",
    "\n",
    "@njit\n",
    "def _dot(X, w, out):\n",
    "    \n",
    "    for i in range(X.shape[0]):\n",
    "        for j in range(w.shape[1]):\n",
    "#             out_ij = out[i,j]\n",
    "            for l in range(X.shape[1]):\n",
    "                out[i,j] += X[i,l] * w[l,j]\n",
    "    return out\n",
    "    \n",
    "    \n",
    "    "
   ]
  },
  {
   "cell_type": "code",
   "execution_count": 345,
   "id": "laden-overhead",
   "metadata": {},
   "outputs": [
    {
     "name": "stdout",
     "output_type": "stream",
     "text": [
      "CPU times: user 19 ms, sys: 0 ns, total: 19 ms\n",
      "Wall time: 18.9 ms\n"
     ]
    },
    {
     "data": {
      "text/plain": [
       "array([0.7654612 , 0.76811602, 0.76309587, ..., 0.75646857, 0.77094005,\n",
       "       0.75896698])"
      ]
     },
     "execution_count": 345,
     "metadata": {},
     "output_type": "execute_result"
    }
   ],
   "source": [
    "%%time \n",
    "    out = np.empty(X.shape[0], dtype=np.float64)\n",
    "    _log_cosh_sum(r, out)"
   ]
  },
  {
   "cell_type": "code",
   "execution_count": 349,
   "id": "improved-retirement",
   "metadata": {},
   "outputs": [
    {
     "name": "stdout",
     "output_type": "stream",
     "text": [
      "CPU times: user 15.4 ms, sys: 0 ns, total: 15.4 ms\n",
      "Wall time: 15.4 ms\n"
     ]
    },
    {
     "data": {
      "text/plain": [
       "array([0.7654612 , 0.76811602, 0.76309587, ..., 0.76520739, 0.77656835,\n",
       "       0.75908644])"
      ]
     },
     "execution_count": 349,
     "metadata": {},
     "output_type": "execute_result"
    }
   ],
   "source": [
    "%%time \n",
    "    out = np.empty(X.shape[0], dtype=np.float64)\n",
    "    numpy_log_cosh_sum(r, out)"
   ]
  },
  {
   "cell_type": "code",
   "execution_count": 327,
   "id": "incoming-valentine",
   "metadata": {},
   "outputs": [],
   "source": [
    "out = np.empty(X.shape[0], dtype=np.float64)"
   ]
  },
  {
   "cell_type": "code",
   "execution_count": 328,
   "id": "another-planner",
   "metadata": {},
   "outputs": [
    {
     "data": {
      "text/plain": [
       "array([[ 0.00535431, -0.08177295,  0.06112185, ..., -0.06396568,\n",
       "         0.02583953,  0.02139704],\n",
       "       [-0.00981531,  0.26920866,  0.281769  , ...,  0.1109706 ,\n",
       "         0.1070953 ,  0.03293422],\n",
       "       [ 0.01600842,  0.11044312,  0.01940674, ...,  0.1530982 ,\n",
       "         0.11114629, -0.00498917],\n",
       "       ...,\n",
       "       [ 0.18495536,  0.00642587, -0.1271401 , ...,  0.10302041,\n",
       "        -0.09885506, -0.09689404],\n",
       "       [ 0.1054339 , -0.02622662,  0.01161515, ...,  0.04229888,\n",
       "        -0.0183555 , -0.19516845],\n",
       "       [ 0.06722916, -0.11148691,  0.0695765 , ...,  0.05926635,\n",
       "        -0.01534759,  0.05655404]])"
      ]
     },
     "execution_count": 328,
     "metadata": {},
     "output_type": "execute_result"
    }
   ],
   "source": [
    "X.dot(_w)"
   ]
  },
  {
   "cell_type": "code",
   "execution_count": 329,
   "id": "seven-portrait",
   "metadata": {},
   "outputs": [
    {
     "data": {
      "text/plain": [
       "array([[ 0.00535431, -0.08177295,  0.06112185, ..., -0.06396568,\n",
       "         0.02583953,  0.02139704],\n",
       "       [-0.00981531,  0.26920866,  0.281769  , ...,  0.1109706 ,\n",
       "         0.1070953 ,  0.03293422],\n",
       "       [ 0.01600842,  0.11044312,  0.01940674, ...,  0.1530982 ,\n",
       "         0.11114629, -0.00498917],\n",
       "       ...,\n",
       "       [ 0.18495536,  0.00642587, -0.1271401 , ...,  0.10302041,\n",
       "        -0.09885506, -0.09689404],\n",
       "       [ 0.1054339 , -0.02622662,  0.01161515, ...,  0.04229888,\n",
       "        -0.0183555 , -0.19516845],\n",
       "       [ 0.06722916, -0.11148691,  0.0695765 , ...,  0.05926635,\n",
       "        -0.01534759,  0.05655404]])"
      ]
     },
     "execution_count": 329,
     "metadata": {},
     "output_type": "execute_result"
    }
   ],
   "source": [
    "out_w = np.zeros((X.shape[0], _w.shape[1]), dtype=np.float64)\n",
    "_dot(X, _w, out_w)"
   ]
  },
  {
   "cell_type": "code",
   "execution_count": 273,
   "id": "confident-anaheim",
   "metadata": {},
   "outputs": [
    {
     "data": {
      "text/plain": [
       "array([6.94676642e-310, 4.65639296e-310, 4.65639060e-310, ...,\n",
       "       0.00000000e+000, 4.65639084e-310, 0.00000000e+000])"
      ]
     },
     "execution_count": 273,
     "metadata": {},
     "output_type": "execute_result"
    }
   ],
   "source": [
    "# %%time    \n",
    "\n",
    "r = X.dot(_w)\n",
    "numpy_log_cosh_sum(r, out)"
   ]
  },
  {
   "cell_type": "code",
   "execution_count": 106,
   "id": "dressed-violation",
   "metadata": {},
   "outputs": [
    {
     "data": {
      "text/plain": [
       "array([0.7654612 , 0.76811602, 0.76309587, ..., 0.75646857, 0.77094005,\n",
       "       0.75896698])"
      ]
     },
     "execution_count": 106,
     "metadata": {},
     "output_type": "execute_result"
    }
   ],
   "source": [
    "out"
   ]
  },
  {
   "cell_type": "code",
   "execution_count": 111,
   "id": "bored-swift",
   "metadata": {},
   "outputs": [
    {
     "name": "stdout",
     "output_type": "stream",
     "text": [
      "CPU times: user 285 ms, sys: 20 ms, total: 305 ms\n",
      "Wall time: 26 ms\n"
     ]
    },
    {
     "data": {
      "text/plain": [
       "array([0.7654612 +0.j, 0.76811602+0.j, 0.76309587+0.j, ...,\n",
       "       0.75646857+0.j, 0.77094005+0.j, 0.75896698+0.j])"
      ]
     },
     "execution_count": 111,
     "metadata": {},
     "output_type": "execute_result"
    }
   ],
   "source": [
    "%%time\n",
    "ma.log_val(X)"
   ]
  },
  {
   "cell_type": "code",
   "execution_count": 10,
   "id": "narrative-confusion",
   "metadata": {},
   "outputs": [],
   "source": [
    "t_list = np.linspace(0, 10, 11)"
   ]
  },
  {
   "cell_type": "code",
   "execution_count": 11,
   "id": "alone-internet",
   "metadata": {},
   "outputs": [],
   "source": [
    "T_ind = np.argwhere(np.logical_and(T[:,:,None] <t_list[None,None,1:], t_list[None,None,:-1]<=T[:,:,None]))"
   ]
  },
  {
   "cell_type": "code",
   "execution_count": 12,
   "id": "natural-contributor",
   "metadata": {},
   "outputs": [
    {
     "data": {
      "text/plain": [
       "(array([0, 0, 0, 0, 0, 0, 0, 0, 0, 0, 1, 1, 1, 1, 1, 1, 1, 1, 1, 1, 2, 2,\n",
       "        2, 2, 2, 2, 2, 2, 2, 2, 3, 3, 3, 3, 3, 3, 3, 3, 3, 3, 4, 4, 4, 4,\n",
       "        4, 4, 4, 4, 4, 4, 5, 5, 5, 5, 5, 5, 5, 5, 5, 5, 6, 6, 6, 6, 6, 6,\n",
       "        6, 6, 6, 6, 7, 7, 7, 7, 7, 7, 7, 7, 7, 7, 8, 8, 8, 8, 8, 8, 8, 8,\n",
       "        8, 8, 9, 9, 9, 9, 9, 9, 9, 9, 9, 9]),\n",
       " array([0, 1, 2, 3, 4, 5, 6, 7, 8, 9, 0, 1, 2, 3, 4, 5, 6, 7, 8, 9, 0, 1,\n",
       "        2, 3, 4, 5, 6, 7, 8, 9, 0, 1, 2, 3, 4, 5, 6, 7, 8, 9, 0, 1, 2, 3,\n",
       "        4, 5, 6, 7, 8, 9, 0, 1, 2, 3, 4, 5, 6, 7, 8, 9, 0, 1, 2, 3, 4, 5,\n",
       "        6, 7, 8, 9, 0, 1, 2, 3, 4, 5, 6, 7, 8, 9, 0, 1, 2, 3, 4, 5, 6, 7,\n",
       "        8, 9, 0, 1, 2, 3, 4, 5, 6, 7, 8, 9]))"
      ]
     },
     "execution_count": 12,
     "metadata": {},
     "output_type": "execute_result"
    }
   ],
   "source": [
    "T_ind[:,[0,1]][:,0], T_ind[:,[0,1]][:,1]"
   ]
  },
  {
   "cell_type": "code",
   "execution_count": 13,
   "id": "composite-count",
   "metadata": {},
   "outputs": [
    {
     "data": {
      "text/plain": [
       "array([0, 0, 0, 0, 0, 0, 0, 0, 0, 0, 0, 0, 0, 0, 0, 0, 0, 0, 0, 0, 0, 0,\n",
       "       0, 0, 0, 0, 0, 0, 0, 0, 0, 0, 0, 0, 0, 0, 0, 0, 0, 0, 0, 0, 0, 0,\n",
       "       0, 0, 0, 0, 0, 0, 0, 0, 0, 0, 0, 0, 0, 0, 0, 0, 0, 0, 0, 0, 0, 0,\n",
       "       0, 0, 0, 0, 0, 0, 0, 0, 0, 0, 0, 0, 0, 0, 0, 0, 0, 0, 0, 0, 0, 0,\n",
       "       0, 0, 0, 0, 0, 0, 0, 0, 0, 0, 0, 0])"
      ]
     },
     "execution_count": 13,
     "metadata": {},
     "output_type": "execute_result"
    }
   ],
   "source": [
    "T_ind[:,2]"
   ]
  },
  {
   "cell_type": "code",
   "execution_count": 14,
   "id": "absolute-chain",
   "metadata": {},
   "outputs": [
    {
     "data": {
      "text/plain": [
       "array([[ 1,  1,  1, ...,  1,  1,  1],\n",
       "       [ 1,  1,  1, ...,  1,  1, -1],\n",
       "       [ 1, -1,  1, ...,  1,  1, -1],\n",
       "       ...,\n",
       "       [ 1, -1,  1, ..., -1, -1, -1],\n",
       "       [-1, -1,  1, ...,  1, -1, -1],\n",
       "       [-1,  1,  1, ...,  1, -1, -1]], dtype=int8)"
      ]
     },
     "execution_count": 14,
     "metadata": {},
     "output_type": "execute_result"
    }
   ],
   "source": [
    "P[T_ind[:,[0,1]][:,0], T_ind[:,[0,1]][:,1]]"
   ]
  },
  {
   "cell_type": "code",
   "execution_count": 15,
   "id": "ecological-penetration",
   "metadata": {},
   "outputs": [
    {
     "data": {
      "text/plain": [
       "array([ 0, 91, 31, 21, 41, 11, 92, 32, 81, 12, 71, 22, 82, 51, 42,  1, 43,\n",
       "       72, 52, 53, 83, 13, 23, 14, 73, 33, 44, 93, 74, 75, 54, 15, 24, 94,\n",
       "       34, 61, 84, 85, 55, 76,  2, 45, 35, 25, 62, 77, 63, 64, 78, 95, 26,\n",
       "       96, 86, 97, 46, 16, 65, 56, 57, 66, 27, 28, 79, 98, 67, 29, 58,  3,\n",
       "       36, 37, 47, 59, 48, 99,  4,  5, 17, 38, 39, 68, 49, 18, 19, 69, 87,\n",
       "       88, 89,  6,  7,  8,  9])"
      ]
     },
     "execution_count": 15,
     "metadata": {},
     "output_type": "execute_result"
    }
   ],
   "source": [
    "ind"
   ]
  },
  {
   "cell_type": "code",
   "execution_count": 16,
   "id": "sophisticated-captain",
   "metadata": {
    "scrolled": true
   },
   "outputs": [
    {
     "name": "stdout",
     "output_type": "stream",
     "text": [
      "0 2500\n"
     ]
    },
    {
     "ename": "TypeError",
     "evalue": "dynamics() takes 3 positional arguments but 4 were given",
     "output_type": "error",
     "traceback": [
      "\u001b[0;31m---------------------------------------------------------------------------\u001b[0m",
      "\u001b[0;31mTypeError\u001b[0m                                 Traceback (most recent call last)",
      "\u001b[0;32m<ipython-input-16-5404cd352c8f>\u001b[0m in \u001b[0;36m<module>\u001b[0;34m\u001b[0m\n\u001b[1;32m      5\u001b[0m     \u001b[0ms\u001b[0m \u001b[0;34m=\u001b[0m \u001b[0mtime\u001b[0m\u001b[0;34m.\u001b[0m\u001b[0mtime\u001b[0m\u001b[0;34m(\u001b[0m\u001b[0;34m)\u001b[0m\u001b[0;34m\u001b[0m\u001b[0;34m\u001b[0m\u001b[0m\n\u001b[1;32m      6\u001b[0m     \u001b[0mprint\u001b[0m\u001b[0;34m(\u001b[0m\u001b[0mi\u001b[0m \u001b[0;34m*\u001b[0m \u001b[0mnum\u001b[0m \u001b[0;34m,\u001b[0m\u001b[0;34m(\u001b[0m\u001b[0mi\u001b[0m\u001b[0;34m+\u001b[0m\u001b[0;36m1\u001b[0m\u001b[0;34m)\u001b[0m\u001b[0;34m*\u001b[0m\u001b[0mnum\u001b[0m\u001b[0;34m)\u001b[0m\u001b[0;34m\u001b[0m\u001b[0;34m\u001b[0m\u001b[0m\n\u001b[0;32m----> 7\u001b[0;31m     \u001b[0mP\u001b[0m\u001b[0;34m.\u001b[0m\u001b[0mappend\u001b[0m\u001b[0;34m(\u001b[0m\u001b[0md\u001b[0m\u001b[0;34m.\u001b[0m\u001b[0mdynamics\u001b[0m\u001b[0;34m(\u001b[0m\u001b[0msamples_state\u001b[0m\u001b[0;34m[\u001b[0m\u001b[0mi\u001b[0m \u001b[0;34m*\u001b[0m \u001b[0mnum\u001b[0m \u001b[0;34m:\u001b[0m \u001b[0;34m(\u001b[0m\u001b[0mi\u001b[0m\u001b[0;34m+\u001b[0m\u001b[0;36m1\u001b[0m\u001b[0;34m)\u001b[0m\u001b[0;34m*\u001b[0m\u001b[0mnum\u001b[0m\u001b[0;34m]\u001b[0m\u001b[0;34m,\u001b[0m \u001b[0mt_list\u001b[0m\u001b[0;34m,\u001b[0m \u001b[0;36m0\u001b[0m\u001b[0;34m)\u001b[0m\u001b[0;34m)\u001b[0m\u001b[0;34m\u001b[0m\u001b[0;34m\u001b[0m\u001b[0m\n\u001b[0m\u001b[1;32m      8\u001b[0m     \u001b[0mprint\u001b[0m\u001b[0;34m(\u001b[0m\u001b[0;34m'{}th loop done : {}'\u001b[0m\u001b[0;34m.\u001b[0m\u001b[0mformat\u001b[0m\u001b[0;34m(\u001b[0m\u001b[0mi\u001b[0m\u001b[0;34m,\u001b[0m \u001b[0mtime\u001b[0m\u001b[0;34m.\u001b[0m\u001b[0mtime\u001b[0m\u001b[0;34m(\u001b[0m\u001b[0;34m)\u001b[0m\u001b[0;34m-\u001b[0m\u001b[0ms\u001b[0m\u001b[0;34m)\u001b[0m\u001b[0;34m)\u001b[0m\u001b[0;34m\u001b[0m\u001b[0;34m\u001b[0m\u001b[0m\n\u001b[1;32m      9\u001b[0m \u001b[0mP\u001b[0m \u001b[0;34m=\u001b[0m \u001b[0mnp\u001b[0m\u001b[0;34m.\u001b[0m\u001b[0mvstack\u001b[0m\u001b[0;34m(\u001b[0m\u001b[0mP\u001b[0m\u001b[0;34m)\u001b[0m\u001b[0;34m\u001b[0m\u001b[0;34m\u001b[0m\u001b[0m\n",
      "\u001b[0;31mTypeError\u001b[0m: dynamics() takes 3 positional arguments but 4 were given"
     ]
    }
   ],
   "source": [
    "num = 2500\n",
    "batch_size = samples_state.shape[0]\n",
    "P = []\n",
    "for i in range(int(1)):\n",
    "    s = time.time()\n",
    "    print(i * num ,(i+1)*num)\n",
    "    P.append(d.dynamics(samples_state[i * num : (i+1)*num], t_list, 0))\n",
    "    print('{}th loop done : {}'.format(i, time.time()-s))\n",
    "P = np.vstack(P)"
   ]
  },
  {
   "cell_type": "code",
   "execution_count": null,
   "id": "regional-hypothesis",
   "metadata": {},
   "outputs": [],
   "source": [
    "g = nk.graph.Graph(nodes = [i for i in range(length[0] * length[1] * 2)])\n",
    "hi = nk.hilbert.Spin(s=0.5, graph=g)\n",
    "\n",
    "\n",
    "l = []\n",
    "for i in range(length[0]):\n",
    "    for j in range(length[1]):\n",
    "        l.append([i, j])\n",
    "l = np.array(l)\n",
    "\n",
    "a_ = [a for _ in range(np.prod(length))]\n",
    "a = np.array(a_)\n",
    "\n",
    "edges, colors = hex_.dimer_corr(l,a)\n",
    "operators = f.return_dimer_operator(hi, edges, colors)\n",
    "sections = np.arange(P.shape[0])\n",
    "\n",
    "_, mels1 = operators[0].get_conn_flattened(P[:,0,:], sections)\n",
    "sub1 = operators[0].get_conn_flattened(P[:,0,:], sections)[1].mean().real\n",
    "\n",
    "dimer_corr = np.zeros((length[0],length[1],t_list.shape[0]))\n",
    "dimer_std = np.zeros((length[0],length[1],t_list.shape[0]))\n",
    "\n",
    "for l1 in range(length[0]):\n",
    "    for l2 in range(length[1]):\n",
    "        sub2 = operators[1].get_conn_flattened(P[:,0,:], sections)[1].mean().real \n",
    "        for i in range(t_list.shape[0]):\n",
    "            _, mels2 = operators[l1 * length[1] + l2].get_conn_flattened(P[:,i,:], sections)\n",
    "            dimer_corr[l1,l2,i] = np.real(((mels1 * mels2 ).mean()))\n",
    "            dimer_std[l1,l2,i] = np.real(((mels1 * mels2 ).std()))\n",
    "        dimer_corr[l1,l2] -= sub1 * sub2\n",
    "        dimer_std[l1,l2] /= np.sqrt(P.shape[0])"
   ]
  },
  {
   "cell_type": "code",
   "execution_count": null,
   "id": "derived-madonna",
   "metadata": {},
   "outputs": [],
   "source": [
    "dimer_corr2 = dimer_corr"
   ]
  },
  {
   "cell_type": "code",
   "execution_count": null,
   "id": "seven-handy",
   "metadata": {
    "scrolled": true
   },
   "outputs": [],
   "source": [
    "dimer_corr2[1,3]"
   ]
  },
  {
   "cell_type": "code",
   "execution_count": null,
   "id": "occupied-exception",
   "metadata": {
    "scrolled": true
   },
   "outputs": [],
   "source": [
    "dimer_corr[1,3]"
   ]
  },
  {
   "cell_type": "code",
   "execution_count": null,
   "id": "enclosed-hometown",
   "metadata": {},
   "outputs": [],
   "source": [
    "dimer_std[1,3]"
   ]
  },
  {
   "cell_type": "code",
   "execution_count": null,
   "id": "julian-rebate",
   "metadata": {},
   "outputs": [],
   "source": [
    "t_list"
   ]
  },
  {
   "cell_type": "code",
   "execution_count": null,
   "id": "stable-hacker",
   "metadata": {},
   "outputs": [],
   "source": []
  }
 ],
 "metadata": {
  "kernelspec": {
   "display_name": "Python 3",
   "language": "python",
   "name": "python3"
  },
  "language_info": {
   "codemirror_mode": {
    "name": "ipython",
    "version": 3
   },
   "file_extension": ".py",
   "mimetype": "text/x-python",
   "name": "python",
   "nbconvert_exporter": "python",
   "pygments_lexer": "ipython3",
   "version": "3.8.5"
  }
 },
 "nbformat": 4,
 "nbformat_minor": 5
}
