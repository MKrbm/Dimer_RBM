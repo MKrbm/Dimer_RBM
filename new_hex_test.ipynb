{
 "cells": [
  {
   "cell_type": "code",
   "execution_count": 1,
   "id": "specialized-petite",
   "metadata": {
    "scrolled": true
   },
   "outputs": [
    {
     "name": "stderr",
     "output_type": "stream",
     "text": [
      "/home/keisuke/Documents/dimermaster/scripts/functions.py:96: NumbaDeprecationWarning: The 'numba.jitclass' decorator has moved to 'numba.experimental.jitclass' to better reflect the experimental nature of the functionality. Please update your imports to accommodate this change and see https://numba.pydata.org/numba-doc/latest/reference/deprecation.html#change-of-jitclass-location for the time frame.\n",
      "  @jitclass(spec)\n"
     ]
    }
   ],
   "source": [
    "import netket as nk\n",
    "import numpy as np\n",
    "from scripts import functions as f"
   ]
  },
  {
   "cell_type": "code",
   "execution_count": 2,
   "id": "acute-tamil",
   "metadata": {},
   "outputs": [],
   "source": [
    "from importlib import reload"
   ]
  },
  {
   "cell_type": "code",
   "execution_count": 3,
   "id": "dressed-boston",
   "metadata": {},
   "outputs": [],
   "source": [
    "from netket.machine import functions2 as f2"
   ]
  },
  {
   "cell_type": "code",
   "execution_count": 223,
   "id": "fifty-prefix",
   "metadata": {},
   "outputs": [
    {
     "data": {
      "text/plain": [
       "<module 'netket.machine.functions2' from '/home/keisuke/Documents/dimermaster/netket/machine/functions2.py'>"
      ]
     },
     "execution_count": 223,
     "metadata": {},
     "output_type": "execute_result"
    }
   ],
   "source": [
    "reload(f2)"
   ]
  },
  {
   "cell_type": "code",
   "execution_count": 224,
   "id": "reliable-conspiracy",
   "metadata": {},
   "outputs": [],
   "source": [
    "h = f2.new_hex(np.array([4,4]))"
   ]
  },
  {
   "cell_type": "code",
   "execution_count": 225,
   "id": "fitted-issue",
   "metadata": {
    "scrolled": true
   },
   "outputs": [],
   "source": [
    "a = h.edges_coor"
   ]
  },
  {
   "cell_type": "code",
   "execution_count": 226,
   "id": "massive-manor",
   "metadata": {},
   "outputs": [],
   "source": [
    "base_edge = h.get_edge_coor(np.array([4,8]))"
   ]
  },
  {
   "cell_type": "code",
   "execution_count": 227,
   "id": "light-nicaragua",
   "metadata": {},
   "outputs": [],
   "source": [
    "x = np.arange(8)\n",
    "y = np.arange(8)\n",
    "\n",
    "xx, yy = np.meshgrid(x,y)"
   ]
  },
  {
   "cell_type": "code",
   "execution_count": 228,
   "id": "seeing-relationship",
   "metadata": {},
   "outputs": [],
   "source": [
    "xx = xx.reshape(-1)\n",
    "yy = yy.reshape(-1)"
   ]
  },
  {
   "cell_type": "code",
   "execution_count": 229,
   "id": "recovered-distributor",
   "metadata": {},
   "outputs": [],
   "source": [
    "edge_coor_array = h.ProcessPeriodic(xx[:,None] * h.a1[None,:] * 1/2 + yy[:,None]  * h.a2[None,:] * 1/2 + base_edge)"
   ]
  },
  {
   "cell_type": "code",
   "execution_count": 230,
   "id": "present-default",
   "metadata": {},
   "outputs": [
    {
     "data": {
      "text/plain": [
       "array([ 0.25    , -0.433013])"
      ]
     },
     "execution_count": 230,
     "metadata": {},
     "output_type": "execute_result"
    }
   ],
   "source": [
    "edge_coor_array[15]"
   ]
  },
  {
   "cell_type": "code",
   "execution_count": 231,
   "id": "requested-object",
   "metadata": {},
   "outputs": [],
   "source": [
    "a = h.edge_coor_to_lattice(edge_coor_array)"
   ]
  },
  {
   "cell_type": "code",
   "execution_count": 232,
   "id": "hybrid-mexico",
   "metadata": {},
   "outputs": [],
   "source": [
    "color = h.get_edge_color(a)"
   ]
  },
  {
   "cell_type": "code",
   "execution_count": 234,
   "id": "first-wholesale",
   "metadata": {},
   "outputs": [
    {
     "data": {
      "text/plain": [
       "array([[ 4,  8],\n",
       "       [-1, -1],\n",
       "       [ 5,  9],\n",
       "       [-1, -1],\n",
       "       [ 6, 10],\n",
       "       [-1, -1],\n",
       "       [ 7, 11],\n",
       "       [-1, -1],\n",
       "       [ 8, 12],\n",
       "       [ 9, 12],\n",
       "       [ 9, 13],\n",
       "       [10, 13],\n",
       "       [10, 14],\n",
       "       [11, 14],\n",
       "       [11, 15],\n",
       "       [ 8, 15],\n",
       "       [12, 16],\n",
       "       [-1, -1],\n",
       "       [13, 17],\n",
       "       [-1, -1],\n",
       "       [14, 18],\n",
       "       [-1, -1],\n",
       "       [15, 19],\n",
       "       [-1, -1],\n",
       "       [16, 20],\n",
       "       [17, 20],\n",
       "       [17, 21],\n",
       "       [18, 21],\n",
       "       [18, 22],\n",
       "       [19, 22],\n",
       "       [19, 23],\n",
       "       [16, 23],\n",
       "       [20, 24],\n",
       "       [-1, -1],\n",
       "       [21, 25],\n",
       "       [-1, -1],\n",
       "       [22, 26],\n",
       "       [-1, -1],\n",
       "       [23, 27],\n",
       "       [-1, -1],\n",
       "       [24, 28],\n",
       "       [25, 28],\n",
       "       [25, 29],\n",
       "       [26, 29],\n",
       "       [26, 30],\n",
       "       [27, 30],\n",
       "       [27, 31],\n",
       "       [24, 31],\n",
       "       [ 0, 28],\n",
       "       [-1, -1],\n",
       "       [ 1, 29],\n",
       "       [-1, -1],\n",
       "       [ 2, 30],\n",
       "       [-1, -1],\n",
       "       [ 3, 31],\n",
       "       [-1, -1],\n",
       "       [ 0,  4],\n",
       "       [ 1,  4],\n",
       "       [ 1,  5],\n",
       "       [ 2,  5],\n",
       "       [ 2,  6],\n",
       "       [ 3,  6],\n",
       "       [ 3,  7],\n",
       "       [ 0,  7]])"
      ]
     },
     "execution_count": 234,
     "metadata": {},
     "output_type": "execute_result"
    }
   ],
   "source": []
  },
  {
   "cell_type": "code",
   "execution_count": 94,
   "id": "dutch-range",
   "metadata": {},
   "outputs": [
    {
     "data": {
      "text/plain": [
       "1"
      ]
     },
     "execution_count": 94,
     "metadata": {},
     "output_type": "execute_result"
    }
   ],
   "source": [
    "np.where(((a - h.edges_coor[1])**2).sum(axis=1)==0)[0][0]"
   ]
  },
  {
   "cell_type": "code",
   "execution_count": 100,
   "id": "eastern-consumer",
   "metadata": {},
   "outputs": [
    {
     "data": {
      "text/plain": [
       "array([[ 0,  7],\n",
       "       [ 0,  4],\n",
       "       [ 4,  8],\n",
       "       [ 8, 15],\n",
       "       [ 8, 12],\n",
       "       [ 0, 12],\n",
       "       [ 1,  4],\n",
       "       [ 1,  5],\n",
       "       [ 5,  9],\n",
       "       [ 9, 12],\n",
       "       [ 9, 13],\n",
       "       [ 1, 13],\n",
       "       [ 2,  5],\n",
       "       [ 2,  6],\n",
       "       [ 6, 10],\n",
       "       [10, 13],\n",
       "       [10, 14],\n",
       "       [ 2, 14],\n",
       "       [ 3,  6],\n",
       "       [ 3,  7],\n",
       "       [ 7, 11],\n",
       "       [11, 14],\n",
       "       [11, 15],\n",
       "       [ 3, 15]])"
      ]
     },
     "execution_count": 100,
     "metadata": {},
     "output_type": "execute_result"
    }
   ],
   "source": [
    "h.edge_coor_to_lattice(h.edges_coor)"
   ]
  },
  {
   "cell_type": "code",
   "execution_count": 39,
   "id": "stock-photographer",
   "metadata": {},
   "outputs": [
    {
     "data": {
      "text/plain": [
       "array([4, 4])"
      ]
     },
     "execution_count": 39,
     "metadata": {},
     "output_type": "execute_result"
    }
   ],
   "source": [
    "h.l"
   ]
  },
  {
   "cell_type": "code",
   "execution_count": 17,
   "id": "naughty-immunology",
   "metadata": {},
   "outputs": [
    {
     "data": {
      "text/plain": [
       "array([ 2.        , -3.46410155])"
      ]
     },
     "execution_count": 17,
     "metadata": {},
     "output_type": "execute_result"
    }
   ],
   "source": [
    "h.R2"
   ]
  },
  {
   "cell_type": "code",
   "execution_count": 56,
   "id": "competent-martial",
   "metadata": {
    "scrolled": true
   },
   "outputs": [],
   "source": [
    "coordinate = h.lattice_coor\n",
    "\n",
    "# return_array = self.coor_to_lattice_num(self.translation(coordinate, self.all_unit_cell))\n",
    "return_array_coor = h.translation(coordinate, h.all_unit_cell)"
   ]
  },
  {
   "cell_type": "code",
   "execution_count": 62,
   "id": "animated-homework",
   "metadata": {},
   "outputs": [],
   "source": [
    "return_array_coor_ = return_array_coor.copy()\n",
    "return_array_coor_ = h.riverse(return_array_coor_)"
   ]
  },
  {
   "cell_type": "code",
   "execution_count": 68,
   "id": "intended-server",
   "metadata": {},
   "outputs": [
    {
     "data": {
      "text/plain": [
       "(16, 32, 2)"
      ]
     },
     "execution_count": 68,
     "metadata": {},
     "output_type": "execute_result"
    }
   ],
   "source": [
    "np.concatenate((return_array_coor, return_array_coor),axis=0 )"
   ]
  },
  {
   "cell_type": "code",
   "execution_count": 18,
   "id": "satisfied-crisis",
   "metadata": {},
   "outputs": [
    {
     "data": {
      "text/plain": [
       "array([ 0,  1,  2,  3,  4,  5,  6,  7,  8,  9, 10, 11, 12, 13, 14, 15, 16,\n",
       "       17, 18, 19, 20, 21, 22, 23, 24, 25, 26, 27, 28, 29, 30, 31])"
      ]
     },
     "execution_count": 18,
     "metadata": {},
     "output_type": "execute_result"
    }
   ],
   "source": [
    "h.coor_to_lattice_num(h.lattice_coor)"
   ]
  },
  {
   "cell_type": "code",
   "execution_count": 4,
   "id": "proprietary-retail",
   "metadata": {},
   "outputs": [],
   "source": [
    "from importlib import reload"
   ]
  },
  {
   "cell_type": "code",
   "execution_count": 59,
   "id": "ready-houston",
   "metadata": {
    "scrolled": true
   },
   "outputs": [
    {
     "data": {
      "text/plain": [
       "<module 'functions' from '/home/keisuke/Documents/Research/sshfs/DimerMaster/functions.py'>"
      ]
     },
     "execution_count": 59,
     "metadata": {},
     "output_type": "execute_result"
    }
   ],
   "source": [
    "reload(f)"
   ]
  },
  {
   "cell_type": "code",
   "execution_count": 3,
   "id": "olive-australian",
   "metadata": {},
   "outputs": [],
   "source": [
    "h = new_hex(np.array([4,4]))"
   ]
  },
  {
   "cell_type": "code",
   "execution_count": 7,
   "id": "conscious-today",
   "metadata": {},
   "outputs": [
    {
     "data": {
      "text/plain": [
       "array([[0, 0],\n",
       "       [1, 0],\n",
       "       [0, 1],\n",
       "       [1, 1],\n",
       "       [0, 2],\n",
       "       [1, 2],\n",
       "       [0, 3],\n",
       "       [1, 3]])"
      ]
     },
     "execution_count": 7,
     "metadata": {},
     "output_type": "execute_result"
    }
   ],
   "source": [
    "h.all_unit_cell"
   ]
  },
  {
   "cell_type": "code",
   "execution_count": 61,
   "id": "cathedral-objective",
   "metadata": {},
   "outputs": [],
   "source": [
    "e, ec, pe, pec = h.for_hamiltonian()"
   ]
  },
  {
   "cell_type": "code",
   "execution_count": 62,
   "id": "acceptable-token",
   "metadata": {},
   "outputs": [
    {
     "data": {
      "text/plain": [
       "array([[ 0,  1,  2,  3,  4,  5,  6,  7,  8,  9, 10, 11, 12, 13, 14, 15],\n",
       "       [ 2,  3,  0,  1,  6,  7,  4,  5, 10, 11,  8,  9, 14, 15, 12, 13],\n",
       "       [ 8,  9, 10, 11, 12, 13, 14, 15,  0,  1,  2,  3,  4,  5,  6,  7],\n",
       "       [10, 11,  8,  9, 14, 15, 12, 13,  2,  3,  0,  1,  6,  7,  4,  5]])"
      ]
     },
     "execution_count": 62,
     "metadata": {},
     "output_type": "execute_result"
    }
   ],
   "source": [
    "coordinate = h.lattice_coor\n",
    "h.all_hex_index\n",
    "h.coor_to_lattice_num(h.translation(coordinate, h.all_unit_cell))"
   ]
  },
  {
   "cell_type": "code",
   "execution_count": 63,
   "id": "recreational-snapshot",
   "metadata": {},
   "outputs": [
    {
     "data": {
      "text/plain": [
       "array([[ 0,  1,  2,  3,  4,  5,  6,  7,  8,  9, 10, 11, 12, 13, 14, 15],\n",
       "       [ 2,  3,  0,  1,  6,  7,  4,  5, 10, 11,  8,  9, 14, 15, 12, 13],\n",
       "       [ 8,  9, 10, 11, 12, 13, 14, 15,  0,  1,  2,  3,  4,  5,  6,  7],\n",
       "       [10, 11,  8,  9, 14, 15, 12, 13,  2,  3,  0,  1,  6,  7,  4,  5]])"
      ]
     },
     "execution_count": 63,
     "metadata": {},
     "output_type": "execute_result"
    }
   ],
   "source": [
    "h.autom"
   ]
  },
  {
   "cell_type": "code",
   "execution_count": 64,
   "id": "cleared-frontier",
   "metadata": {},
   "outputs": [
    {
     "data": {
      "text/plain": [
       "array([11,  7])"
      ]
     },
     "execution_count": 64,
     "metadata": {},
     "output_type": "execute_result"
    }
   ],
   "source": [
    "pe[0][0,0]"
   ]
  },
  {
   "cell_type": "code",
   "execution_count": 74,
   "id": "injured-military",
   "metadata": {},
   "outputs": [],
   "source": [
    "op = f.dimer_flip()"
   ]
  },
  {
   "cell_type": "code",
   "execution_count": 75,
   "id": "excellent-modem",
   "metadata": {},
   "outputs": [
    {
     "data": {
      "text/plain": [
       "(array([[ 1,  1,  1,  1,  1,  1,  1,  1,  1,  1,  1,  1,  1,  1,  1,  1],\n",
       "        [-1,  1,  1,  1, -1,  1,  1,  1,  1,  1,  1,  1,  1,  1,  1,  1],\n",
       "        [ 1,  1,  1,  1,  1,  1,  1,  1, -1,  1,  1,  1, -1,  1,  1,  1],\n",
       "        [ 1,  1, -1,  1,  1,  1, -1,  1,  1,  1,  1,  1,  1,  1,  1,  1],\n",
       "        [ 1,  1,  1,  1,  1,  1,  1,  1,  1,  1, -1,  1,  1,  1, -1,  1]],\n",
       "       dtype=int8),\n",
       " array([ 0.+0.j, -1.+0.j, -1.+0.j, -1.+0.j, -1.+0.j]))"
      ]
     },
     "execution_count": 75,
     "metadata": {},
     "output_type": "execute_result"
    }
   ],
   "source": [
    "op.get_conn(np.ones(16))"
   ]
  },
  {
   "cell_type": "code",
   "execution_count": 8,
   "id": "ranging-surgery",
   "metadata": {},
   "outputs": [],
   "source": [
    "from numba import njit"
   ]
  },
  {
   "cell_type": "code",
   "execution_count": 12,
   "id": "imposed-extraction",
   "metadata": {},
   "outputs": [],
   "source": [
    "@njit\n",
    "def convert(x):\n",
    "    \n",
    "    y = np.ones(10, dtype=np.int8)\n",
    "    return y.astype(np.float64)"
   ]
  },
  {
   "cell_type": "code",
   "execution_count": 20,
   "id": "equivalent-intake",
   "metadata": {},
   "outputs": [],
   "source": [
    "length = [4,2]\n",
    "V = 1\n",
    "h = 1\n",
    "sigmaz = np.array([[1, 0], [0, -1]])\n",
    "sigmax = np.array([[0,1],[1,0]])\n",
    "sigmay = np.array([[0,1],[-1,0]])\n",
    "\n",
    "mszsz = np.kron(sigmaz, sigmaz)\n",
    "mszsx = np.kron(sigmax, sigmax)\n",
    "mszsy = np.kron(sigmay, sigmay)\n",
    "\n",
    "potential_anti = (np.identity(4) + mszsz)/2\n",
    "potential_ferro = (np.identity(4) - mszsz)/2\n",
    "\n",
    "# hexagon = nk.machine.graph_hex(length = length)\n",
    "hexagon = f.new_hex(np.array(length))\n",
    "\n",
    "\n",
    "g = nk.graph.Graph(nodes = [i for i in range(length[0] * length[1] * 2)])\n",
    "\n",
    "e, ec, ce, cec = hexagon.for_hamiltonian()\n",
    "\n",
    "hi = nk.hilbert.Spin(s=0.5, graph=g)\n",
    "op = nk.operator.DimerLocalOperator(hi)\n",
    "\n",
    "for edge, edge_color, pe, pec in zip(e, ec, ce, cec):\n",
    "\n",
    "    l_op = -h*mszsx\n",
    "\n",
    "    l_op = np.kron(np.identity(2), l_op)\n",
    "    l_op = np.kron(l_op, np.identity(2))\n",
    "\n",
    "    mat = []\n",
    "    edge_ = []\n",
    "    for p, c in zip(pe, pec):\n",
    "        mat.append(np.kron(\n",
    "            potential_ferro if c[0] == 1 else potential_anti,\n",
    "            potential_ferro if c[1] == 1 else potential_anti,\n",
    "        ))\n",
    "        edge_.append(p[0].tolist() + p[1].tolist())\n",
    "\n",
    "    op += nk.operator.LocalOperator(hi, l_op @ mat[0] + V * mat[0], edge_[0])\n",
    "    op += nk.operator.LocalOperator(hi, l_op @ mat[1] + V * mat[1], edge_[1])\n"
   ]
  },
  {
   "cell_type": "code",
   "execution_count": 31,
   "id": "mineral-quick",
   "metadata": {},
   "outputs": [
    {
     "data": {
      "text/plain": [
       "array([1, 1, 0, 0, 0, 1, 1, 0, 0, 2])"
      ]
     },
     "execution_count": 31,
     "metadata": {},
     "output_type": "execute_result"
    }
   ],
   "source": [
    "np.random.randint(0,3,10)"
   ]
  },
  {
   "cell_type": "code",
   "execution_count": null,
   "id": "communist-arrest",
   "metadata": {},
   "outputs": [],
   "source": []
  }
 ],
 "metadata": {
  "kernelspec": {
   "display_name": "Python 3",
   "language": "python",
   "name": "python3"
  },
  "language_info": {
   "codemirror_mode": {
    "name": "ipython",
    "version": 3
   },
   "file_extension": ".py",
   "mimetype": "text/x-python",
   "name": "python",
   "nbconvert_exporter": "python",
   "pygments_lexer": "ipython3",
   "version": "3.8.5"
  }
 },
 "nbformat": 4,
 "nbformat_minor": 5
}
