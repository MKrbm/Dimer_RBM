{
 "cells": [
  {
   "cell_type": "code",
   "execution_count": 1,
   "id": "unauthorized-mistake",
   "metadata": {
    "scrolled": true
   },
   "outputs": [
    {
     "name": "stderr",
     "output_type": "stream",
     "text": [
      "/home/keisuke/Documents/Research/sshfs/DimerMaster/scripts/functions.py:65: NumbaDeprecationWarning: The 'numba.jitclass' decorator has moved to 'numba.experimental.jitclass' to better reflect the experimental nature of the functionality. Please update your imports to accommodate this change and see https://numba.pydata.org/numba-doc/latest/reference/deprecation.html#change-of-jitclass-location for the time frame.\n",
      "  @jitclass(spec)\n"
     ]
    }
   ],
   "source": [
    "import netket as nk\n",
    "import numpy as np\n",
    "from scripts import functions as f"
   ]
  },
  {
   "cell_type": "code",
   "execution_count": 44,
   "id": "respected-crazy",
   "metadata": {},
   "outputs": [],
   "source": [
    "from importlib import reload"
   ]
  },
  {
   "cell_type": "code",
   "execution_count": 9,
   "id": "major-colony",
   "metadata": {},
   "outputs": [],
   "source": [
    "from netket.machine import functions2 as f2"
   ]
  },
  {
   "cell_type": "code",
   "execution_count": 69,
   "id": "tough-dutch",
   "metadata": {},
   "outputs": [
    {
     "data": {
      "text/plain": [
       "<module 'netket.machine.functions2' from '/home/keisuke/Documents/Research/sshfs/DimerMaster/netket/machine/functions2.py'>"
      ]
     },
     "execution_count": 69,
     "metadata": {},
     "output_type": "execute_result"
    }
   ],
   "source": [
    "reload(f2)"
   ]
  },
  {
   "cell_type": "code",
   "execution_count": 70,
   "id": "radical-european",
   "metadata": {},
   "outputs": [],
   "source": [
    "h = f2.new_hex(np.array([4,4]))"
   ]
  },
  {
   "cell_type": "code",
   "execution_count": 56,
   "id": "documented-hindu",
   "metadata": {
    "scrolled": true
   },
   "outputs": [],
   "source": [
    "coordinate = h.lattice_coor\n",
    "\n",
    "# return_array = self.coor_to_lattice_num(self.translation(coordinate, self.all_unit_cell))\n",
    "return_array_coor = h.translation(coordinate, h.all_unit_cell)"
   ]
  },
  {
   "cell_type": "code",
   "execution_count": 62,
   "id": "varied-bearing",
   "metadata": {},
   "outputs": [],
   "source": [
    "return_array_coor_ = return_array_coor.copy()\n",
    "return_array_coor_ = h.riverse(return_array_coor_)"
   ]
  },
  {
   "cell_type": "code",
   "execution_count": 68,
   "id": "beginning-snapshot",
   "metadata": {},
   "outputs": [
    {
     "data": {
      "text/plain": [
       "(16, 32, 2)"
      ]
     },
     "execution_count": 68,
     "metadata": {},
     "output_type": "execute_result"
    }
   ],
   "source": [
    "np.concatenate((return_array_coor, return_array_coor),axis=0 )"
   ]
  },
  {
   "cell_type": "code",
   "execution_count": 18,
   "id": "future-coordinate",
   "metadata": {},
   "outputs": [
    {
     "data": {
      "text/plain": [
       "array([ 0,  1,  2,  3,  4,  5,  6,  7,  8,  9, 10, 11, 12, 13, 14, 15, 16,\n",
       "       17, 18, 19, 20, 21, 22, 23, 24, 25, 26, 27, 28, 29, 30, 31])"
      ]
     },
     "execution_count": 18,
     "metadata": {},
     "output_type": "execute_result"
    }
   ],
   "source": [
    "h.coor_to_lattice_num(h.lattice_coor)"
   ]
  },
  {
   "cell_type": "code",
   "execution_count": 4,
   "id": "finnish-tamil",
   "metadata": {},
   "outputs": [],
   "source": [
    "from importlib import reload"
   ]
  },
  {
   "cell_type": "code",
   "execution_count": 59,
   "id": "environmental-municipality",
   "metadata": {
    "scrolled": true
   },
   "outputs": [
    {
     "data": {
      "text/plain": [
       "<module 'functions' from '/home/keisuke/Documents/Research/sshfs/DimerMaster/functions.py'>"
      ]
     },
     "execution_count": 59,
     "metadata": {},
     "output_type": "execute_result"
    }
   ],
   "source": [
    "reload(f)"
   ]
  },
  {
   "cell_type": "code",
   "execution_count": 3,
   "id": "established-nancy",
   "metadata": {},
   "outputs": [],
   "source": [
    "h = new_hex(np.array([4,4]))"
   ]
  },
  {
   "cell_type": "code",
   "execution_count": 7,
   "id": "greek-folder",
   "metadata": {},
   "outputs": [
    {
     "data": {
      "text/plain": [
       "array([[0, 0],\n",
       "       [1, 0],\n",
       "       [0, 1],\n",
       "       [1, 1],\n",
       "       [0, 2],\n",
       "       [1, 2],\n",
       "       [0, 3],\n",
       "       [1, 3]])"
      ]
     },
     "execution_count": 7,
     "metadata": {},
     "output_type": "execute_result"
    }
   ],
   "source": [
    "h.all_unit_cell"
   ]
  },
  {
   "cell_type": "code",
   "execution_count": 61,
   "id": "organized-breed",
   "metadata": {},
   "outputs": [],
   "source": [
    "e, ec, pe, pec = h.for_hamiltonian()"
   ]
  },
  {
   "cell_type": "code",
   "execution_count": 62,
   "id": "recovered-discipline",
   "metadata": {},
   "outputs": [
    {
     "data": {
      "text/plain": [
       "array([[ 0,  1,  2,  3,  4,  5,  6,  7,  8,  9, 10, 11, 12, 13, 14, 15],\n",
       "       [ 2,  3,  0,  1,  6,  7,  4,  5, 10, 11,  8,  9, 14, 15, 12, 13],\n",
       "       [ 8,  9, 10, 11, 12, 13, 14, 15,  0,  1,  2,  3,  4,  5,  6,  7],\n",
       "       [10, 11,  8,  9, 14, 15, 12, 13,  2,  3,  0,  1,  6,  7,  4,  5]])"
      ]
     },
     "execution_count": 62,
     "metadata": {},
     "output_type": "execute_result"
    }
   ],
   "source": [
    "coordinate = h.lattice_coor\n",
    "h.all_hex_index\n",
    "h.coor_to_lattice_num(h.translation(coordinate, h.all_unit_cell))"
   ]
  },
  {
   "cell_type": "code",
   "execution_count": 63,
   "id": "adopted-broad",
   "metadata": {},
   "outputs": [
    {
     "data": {
      "text/plain": [
       "array([[ 0,  1,  2,  3,  4,  5,  6,  7,  8,  9, 10, 11, 12, 13, 14, 15],\n",
       "       [ 2,  3,  0,  1,  6,  7,  4,  5, 10, 11,  8,  9, 14, 15, 12, 13],\n",
       "       [ 8,  9, 10, 11, 12, 13, 14, 15,  0,  1,  2,  3,  4,  5,  6,  7],\n",
       "       [10, 11,  8,  9, 14, 15, 12, 13,  2,  3,  0,  1,  6,  7,  4,  5]])"
      ]
     },
     "execution_count": 63,
     "metadata": {},
     "output_type": "execute_result"
    }
   ],
   "source": [
    "h.autom"
   ]
  },
  {
   "cell_type": "code",
   "execution_count": 64,
   "id": "comic-macintosh",
   "metadata": {},
   "outputs": [
    {
     "data": {
      "text/plain": [
       "array([11,  7])"
      ]
     },
     "execution_count": 64,
     "metadata": {},
     "output_type": "execute_result"
    }
   ],
   "source": [
    "pe[0][0,0]"
   ]
  },
  {
   "cell_type": "code",
   "execution_count": 74,
   "id": "reduced-rapid",
   "metadata": {},
   "outputs": [],
   "source": [
    "op = f.dimer_flip()"
   ]
  },
  {
   "cell_type": "code",
   "execution_count": 75,
   "id": "manual-looking",
   "metadata": {},
   "outputs": [
    {
     "data": {
      "text/plain": [
       "(array([[ 1,  1,  1,  1,  1,  1,  1,  1,  1,  1,  1,  1,  1,  1,  1,  1],\n",
       "        [-1,  1,  1,  1, -1,  1,  1,  1,  1,  1,  1,  1,  1,  1,  1,  1],\n",
       "        [ 1,  1,  1,  1,  1,  1,  1,  1, -1,  1,  1,  1, -1,  1,  1,  1],\n",
       "        [ 1,  1, -1,  1,  1,  1, -1,  1,  1,  1,  1,  1,  1,  1,  1,  1],\n",
       "        [ 1,  1,  1,  1,  1,  1,  1,  1,  1,  1, -1,  1,  1,  1, -1,  1]],\n",
       "       dtype=int8),\n",
       " array([ 0.+0.j, -1.+0.j, -1.+0.j, -1.+0.j, -1.+0.j]))"
      ]
     },
     "execution_count": 75,
     "metadata": {},
     "output_type": "execute_result"
    }
   ],
   "source": [
    "op.get_conn(np.ones(16))"
   ]
  },
  {
   "cell_type": "code",
   "execution_count": 8,
   "id": "optional-christianity",
   "metadata": {},
   "outputs": [],
   "source": [
    "from numba import njit"
   ]
  },
  {
   "cell_type": "code",
   "execution_count": 12,
   "id": "basic-cartridge",
   "metadata": {},
   "outputs": [],
   "source": [
    "@njit\n",
    "def convert(x):\n",
    "    \n",
    "    y = np.ones(10, dtype=np.int8)\n",
    "    return y.astype(np.float64)"
   ]
  },
  {
   "cell_type": "code",
   "execution_count": 20,
   "id": "duplicate-mattress",
   "metadata": {},
   "outputs": [],
   "source": [
    "length = [4,2]\n",
    "V = 1\n",
    "h = 1\n",
    "sigmaz = np.array([[1, 0], [0, -1]])\n",
    "sigmax = np.array([[0,1],[1,0]])\n",
    "sigmay = np.array([[0,1],[-1,0]])\n",
    "\n",
    "mszsz = np.kron(sigmaz, sigmaz)\n",
    "mszsx = np.kron(sigmax, sigmax)\n",
    "mszsy = np.kron(sigmay, sigmay)\n",
    "\n",
    "potential_anti = (np.identity(4) + mszsz)/2\n",
    "potential_ferro = (np.identity(4) - mszsz)/2\n",
    "\n",
    "# hexagon = nk.machine.graph_hex(length = length)\n",
    "hexagon = f.new_hex(np.array(length))\n",
    "\n",
    "\n",
    "g = nk.graph.Graph(nodes = [i for i in range(length[0] * length[1] * 2)])\n",
    "\n",
    "e, ec, ce, cec = hexagon.for_hamiltonian()\n",
    "\n",
    "hi = nk.hilbert.Spin(s=0.5, graph=g)\n",
    "op = nk.operator.DimerLocalOperator(hi)\n",
    "\n",
    "for edge, edge_color, pe, pec in zip(e, ec, ce, cec):\n",
    "\n",
    "    l_op = -h*mszsx\n",
    "\n",
    "    l_op = np.kron(np.identity(2), l_op)\n",
    "    l_op = np.kron(l_op, np.identity(2))\n",
    "\n",
    "    mat = []\n",
    "    edge_ = []\n",
    "    for p, c in zip(pe, pec):\n",
    "        mat.append(np.kron(\n",
    "            potential_ferro if c[0] == 1 else potential_anti,\n",
    "            potential_ferro if c[1] == 1 else potential_anti,\n",
    "        ))\n",
    "        edge_.append(p[0].tolist() + p[1].tolist())\n",
    "\n",
    "    op += nk.operator.LocalOperator(hi, l_op @ mat[0] + V * mat[0], edge_[0])\n",
    "    op += nk.operator.LocalOperator(hi, l_op @ mat[1] + V * mat[1], edge_[1])\n"
   ]
  },
  {
   "cell_type": "code",
   "execution_count": 31,
   "id": "impaired-diameter",
   "metadata": {},
   "outputs": [
    {
     "data": {
      "text/plain": [
       "array([1, 1, 0, 0, 0, 1, 1, 0, 0, 2])"
      ]
     },
     "execution_count": 31,
     "metadata": {},
     "output_type": "execute_result"
    }
   ],
   "source": [
    "np.random.randint(0,3,10)"
   ]
  },
  {
   "cell_type": "code",
   "execution_count": null,
   "id": "regulated-benefit",
   "metadata": {},
   "outputs": [],
   "source": []
  }
 ],
 "metadata": {
  "kernelspec": {
   "display_name": "Python 3",
   "language": "python",
   "name": "python3"
  },
  "language_info": {
   "codemirror_mode": {
    "name": "ipython",
    "version": 3
   },
   "file_extension": ".py",
   "mimetype": "text/x-python",
   "name": "python",
   "nbconvert_exporter": "python",
   "pygments_lexer": "ipython3",
   "version": "3.8.5"
  }
 },
 "nbformat": 4,
 "nbformat_minor": 5
}
