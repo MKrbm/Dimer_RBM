{
 "cells": [
  {
   "cell_type": "code",
   "execution_count": 1,
   "metadata": {
    "scrolled": true
   },
   "outputs": [
    {
     "name": "stderr",
     "output_type": "stream",
     "text": [
      "/home/keisuke/Documents/Research/sshfs/DimerMaster/scripts/functions.py:65: NumbaDeprecationWarning: The 'numba.jitclass' decorator has moved to 'numba.experimental.jitclass' to better reflect the experimental nature of the functionality. Please update your imports to accommodate this change and see https://numba.pydata.org/numba-doc/latest/reference/deprecation.html#change-of-jitclass-location for the time frame.\n",
      "  @jitclass(spec)\n"
     ]
    }
   ],
   "source": [
    "import netket as nk\n",
    "import numpy as np\n",
    "from scripts import functions as f"
   ]
  },
  {
   "cell_type": "code",
   "execution_count": 2,
   "metadata": {},
   "outputs": [],
   "source": [
    "h = 1.0\n",
    "V = 0.9\n",
    "\n",
    "length = [12, 12]\n",
    "name = 'h={}V={}l={}'.format(h, V, length)\n",
    "\n",
    "alpha = 2\n",
    "g = nk.graph.Graph(nodes = [i for i in range(length[0] * length[1] * 2)])\n",
    "hi = nk.hilbert.Spin(s=0.5, graph=g)\n",
    "\n",
    "hex_ = nk.machine.new_hex(np.array(length))\n",
    "\n",
    "\n",
    "# ma = nk.machine.RbmDimer(hi, hex_, alpha = alpha, symmetry = True\n",
    "#                     ,use_hidden_bias = False, use_visible_bias = False, dtype=float, reverse=True, half=True)\n",
    "\n",
    "# ma.load('save/ma/'+name)"
   ]
  },
  {
   "cell_type": "code",
   "execution_count": 3,
   "metadata": {},
   "outputs": [],
   "source": [
    "h = 1.0\n",
    "V = 0.9\n",
    "\n",
    "# length = [12, 12]\n",
    "name = 'h={}V={}l={}'.format(h, V, length)\n",
    "kernel = 1\n",
    "n_chains = 1\n",
    "n_discards = 300\n",
    "n_samples = 2000\n",
    "\n",
    "g = nk.graph.Graph(nodes = [i for i in range(length[0] * length[1] * 2)])\n",
    "hi = nk.hilbert.Spin(s=0.5, graph=g)\n",
    "\n",
    "op = f.dimer_hamiltonian(h =h, V = V,length = np.array(length))\n",
    "op_transition = f.dimer_flip1(length = np.array(length))"
   ]
  },
  {
   "cell_type": "code",
   "execution_count": 4,
   "metadata": {},
   "outputs": [
    {
     "name": "stdout",
     "output_type": "stream",
     "text": [
      "2\n"
     ]
    }
   ],
   "source": [
    "alpha = 2\n",
    "ma2 = nk.machine.RbmDimer(hi, hex_, alpha = alpha, symmetry = True\n",
    "                    ,use_hidden_bias = False, use_visible_bias = False, dtype=float, reverse=True, half=True)"
   ]
  },
  {
   "cell_type": "code",
   "execution_count": 5,
   "metadata": {},
   "outputs": [],
   "source": [
    "ma2.init_random_parameters()\n",
    "# ma2._ws *= 10**(-3)\n",
    "# ma2._set_bare_parameters(\n",
    "#     ma2._a, ma2._b, ma2._w, ma2._as, ma2._bs, ma2._ws, ma2._autom, ma2._z2\n",
    "# )"
   ]
  },
  {
   "cell_type": "code",
   "execution_count": 6,
   "metadata": {},
   "outputs": [
    {
     "name": "stdout",
     "output_type": "stream",
     "text": [
      "number of core : 6\n"
     ]
    }
   ],
   "source": [
    "sa_mul = nk.sampler.DimerMetropolisLocal_multi(machine=ma2, op=op_transition\n",
    "    , length = length, n_chains=n_chains, sweep_size = 10, kernel = 1, n_jobs=6)\n",
    "\n",
    "sr = nk.optimizer.SR(ma2, diag_shift=0)\n",
    "opt = nk.optimizer.Sgd(ma2, learning_rate=0.05, decay_factor = 1 ,N = 300)"
   ]
  },
  {
   "cell_type": "code",
   "execution_count": 7,
   "metadata": {},
   "outputs": [
    {
     "name": "stdout",
     "output_type": "stream",
     "text": [
      "discard =  300\n"
     ]
    }
   ],
   "source": [
    "gs = nk.Vmc(\n",
    "hamiltonian=op,\n",
    "sampler=sa_mul,\n",
    "optimizer=opt,\n",
    "n_samples=1*10 ** (4),\n",
    "sr = sr,\n",
    "n_discard = n_discards,\n",
    ")"
   ]
  },
  {
   "cell_type": "code",
   "execution_count": 8,
   "metadata": {
    "scrolled": true
   },
   "outputs": [
    {
     "name": "stderr",
     "output_type": "stream",
     "text": [
      "\r",
      "  0%|          | 0/600 [00:00<?, ?it/s]"
     ]
    },
    {
     "name": "stdout",
     "output_type": "stream",
     "text": [
      "No output specified (out=[apath|nk.logging.JsonLogger(...)]).Running the optimization but not saving the output.\n",
      "n_discard =  300\n",
      "discard samples 0.2385411262512207\n",
      "n_samples_node =  10000\n",
      "generate_samples :  1.2570569515228271\n",
      "time :  7.559288263320923\n",
      "get_mc_stats 7.774195432662964\n",
      "size of x :  (9996, 288)\n",
      "matmal 10.859431266784668\n",
      "cal tan 11.592436790466309\n"
     ]
    },
    {
     "name": "stderr",
     "output_type": "stream",
     "text": [
      "  0%|          | 0/600 [00:34<?, ?it/s]\n"
     ]
    },
    {
     "ename": "KeyboardInterrupt",
     "evalue": "",
     "output_type": "error",
     "traceback": [
      "\u001b[0;31m---------------------------------------------------------------------------\u001b[0m",
      "\u001b[0;31mKeyboardInterrupt\u001b[0m                         Traceback (most recent call last)",
      "\u001b[0;32m<ipython-input-8-bd3fcdb12709>\u001b[0m in \u001b[0;36m<module>\u001b[0;34m\u001b[0m\n\u001b[0;32m----> 1\u001b[0;31m \u001b[0mgs\u001b[0m\u001b[0;34m.\u001b[0m\u001b[0mrun\u001b[0m\u001b[0;34m(\u001b[0m\u001b[0mn_iter\u001b[0m\u001b[0;34m=\u001b[0m\u001b[0;36m600\u001b[0m\u001b[0;34m)\u001b[0m\u001b[0;34m\u001b[0m\u001b[0;34m\u001b[0m\u001b[0m\n\u001b[0m",
      "\u001b[0;32m~/Documents/Research/sshfs/DimerMaster/netket/abstract_variational_driver.py\u001b[0m in \u001b[0;36mrun\u001b[0;34m(self, n_iter, out, obs, show_progress, save_params_every, write_every, step_size, callback)\u001b[0m\n\u001b[1;32m    229\u001b[0m             \u001b[0mself\u001b[0m\u001b[0;34m.\u001b[0m\u001b[0miter\u001b[0m\u001b[0;34m(\u001b[0m\u001b[0mn_iter\u001b[0m\u001b[0;34m,\u001b[0m \u001b[0mstep_size\u001b[0m\u001b[0;34m)\u001b[0m\u001b[0;34m,\u001b[0m \u001b[0mtotal\u001b[0m\u001b[0;34m=\u001b[0m\u001b[0mn_iter\u001b[0m\u001b[0;34m,\u001b[0m \u001b[0mdisable\u001b[0m\u001b[0;34m=\u001b[0m\u001b[0;32mnot\u001b[0m \u001b[0mshow_progress\u001b[0m\u001b[0;34m\u001b[0m\u001b[0;34m\u001b[0m\u001b[0m\n\u001b[1;32m    230\u001b[0m         ) as itr:\n\u001b[0;32m--> 231\u001b[0;31m             \u001b[0;32mfor\u001b[0m \u001b[0mstep\u001b[0m \u001b[0;32min\u001b[0m \u001b[0mitr\u001b[0m\u001b[0;34m:\u001b[0m\u001b[0;34m\u001b[0m\u001b[0;34m\u001b[0m\u001b[0m\n\u001b[0m\u001b[1;32m    232\u001b[0m \u001b[0;34m\u001b[0m\u001b[0m\n\u001b[1;32m    233\u001b[0m                 \u001b[0mlog_data\u001b[0m \u001b[0;34m=\u001b[0m \u001b[0mself\u001b[0m\u001b[0;34m.\u001b[0m\u001b[0mestimate\u001b[0m\u001b[0;34m(\u001b[0m\u001b[0mobs\u001b[0m\u001b[0;34m)\u001b[0m\u001b[0;34m\u001b[0m\u001b[0;34m\u001b[0m\u001b[0m\n",
      "\u001b[0;32m~/miniconda3/envs/research/lib/python3.8/site-packages/tqdm/std.py\u001b[0m in \u001b[0;36m__iter__\u001b[0;34m(self)\u001b[0m\n\u001b[1;32m   1165\u001b[0m \u001b[0;34m\u001b[0m\u001b[0m\n\u001b[1;32m   1166\u001b[0m         \u001b[0;32mtry\u001b[0m\u001b[0;34m:\u001b[0m\u001b[0;34m\u001b[0m\u001b[0;34m\u001b[0m\u001b[0m\n\u001b[0;32m-> 1167\u001b[0;31m             \u001b[0;32mfor\u001b[0m \u001b[0mobj\u001b[0m \u001b[0;32min\u001b[0m \u001b[0miterable\u001b[0m\u001b[0;34m:\u001b[0m\u001b[0;34m\u001b[0m\u001b[0;34m\u001b[0m\u001b[0m\n\u001b[0m\u001b[1;32m   1168\u001b[0m                 \u001b[0;32myield\u001b[0m \u001b[0mobj\u001b[0m\u001b[0;34m\u001b[0m\u001b[0;34m\u001b[0m\u001b[0m\n\u001b[1;32m   1169\u001b[0m                 \u001b[0;31m# Update and possibly print the progressbar.\u001b[0m\u001b[0;34m\u001b[0m\u001b[0;34m\u001b[0m\u001b[0;34m\u001b[0m\u001b[0m\n",
      "\u001b[0;32m~/Documents/Research/sshfs/DimerMaster/netket/abstract_variational_driver.py\u001b[0m in \u001b[0;36miter\u001b[0;34m(self, n_steps, step)\u001b[0m\n\u001b[1;32m    151\u001b[0m         \u001b[0;32mfor\u001b[0m \u001b[0m_\u001b[0m \u001b[0;32min\u001b[0m \u001b[0mrange\u001b[0m\u001b[0;34m(\u001b[0m\u001b[0;36m0\u001b[0m\u001b[0;34m,\u001b[0m \u001b[0mn_steps\u001b[0m\u001b[0;34m,\u001b[0m \u001b[0mstep\u001b[0m\u001b[0;34m)\u001b[0m\u001b[0;34m:\u001b[0m\u001b[0;34m\u001b[0m\u001b[0;34m\u001b[0m\u001b[0m\n\u001b[1;32m    152\u001b[0m             \u001b[0;32mfor\u001b[0m \u001b[0mi\u001b[0m \u001b[0;32min\u001b[0m \u001b[0mrange\u001b[0m\u001b[0;34m(\u001b[0m\u001b[0;36m0\u001b[0m\u001b[0;34m,\u001b[0m \u001b[0mstep\u001b[0m\u001b[0;34m)\u001b[0m\u001b[0;34m:\u001b[0m\u001b[0;34m\u001b[0m\u001b[0;34m\u001b[0m\u001b[0m\n\u001b[0;32m--> 153\u001b[0;31m                 \u001b[0mdp\u001b[0m \u001b[0;34m=\u001b[0m \u001b[0mself\u001b[0m\u001b[0;34m.\u001b[0m\u001b[0m_forward_and_backward\u001b[0m\u001b[0;34m(\u001b[0m\u001b[0;34m)\u001b[0m\u001b[0;34m\u001b[0m\u001b[0;34m\u001b[0m\u001b[0m\n\u001b[0m\u001b[1;32m    154\u001b[0m                 \u001b[0;32mif\u001b[0m \u001b[0mi\u001b[0m \u001b[0;34m==\u001b[0m \u001b[0;36m0\u001b[0m\u001b[0;34m:\u001b[0m\u001b[0;34m\u001b[0m\u001b[0;34m\u001b[0m\u001b[0m\n\u001b[1;32m    155\u001b[0m                     \u001b[0;32myield\u001b[0m \u001b[0mself\u001b[0m\u001b[0;34m.\u001b[0m\u001b[0mstep_count\u001b[0m\u001b[0;34m\u001b[0m\u001b[0;34m\u001b[0m\u001b[0m\n",
      "\u001b[0;32m~/Documents/Research/sshfs/DimerMaster/netket/_vmc.py\u001b[0m in \u001b[0;36m_forward_and_backward\u001b[0;34m(self)\u001b[0m\n\u001b[1;32m    176\u001b[0m             \u001b[0ms\u001b[0m \u001b[0;34m=\u001b[0m \u001b[0mtime\u001b[0m\u001b[0;34m.\u001b[0m\u001b[0mtime\u001b[0m\u001b[0;34m(\u001b[0m\u001b[0;34m)\u001b[0m\u001b[0;34m\u001b[0m\u001b[0;34m\u001b[0m\u001b[0m\n\u001b[1;32m    177\u001b[0m             \u001b[0;31m# When using the SR (Natural gradient) we need to have the full jacobian\u001b[0m\u001b[0;34m\u001b[0m\u001b[0;34m\u001b[0m\u001b[0;34m\u001b[0m\u001b[0m\n\u001b[0;32m--> 178\u001b[0;31m             self._grads, self._jac = self._machine.vector_jacobian_prod(\n\u001b[0m\u001b[1;32m    179\u001b[0m                 \u001b[0msamples_r\u001b[0m\u001b[0;34m,\u001b[0m \u001b[0meloc_r\u001b[0m \u001b[0;34m/\u001b[0m \u001b[0mself\u001b[0m\u001b[0;34m.\u001b[0m\u001b[0m_n_samples\u001b[0m\u001b[0;34m,\u001b[0m \u001b[0mself\u001b[0m\u001b[0;34m.\u001b[0m\u001b[0m_grads\u001b[0m\u001b[0;34m,\u001b[0m \u001b[0mreturn_jacobian\u001b[0m\u001b[0;34m=\u001b[0m\u001b[0;32mTrue\u001b[0m\u001b[0;34m\u001b[0m\u001b[0;34m\u001b[0m\u001b[0m\n\u001b[1;32m    180\u001b[0m             )\n",
      "\u001b[0;32m~/Documents/Research/sshfs/DimerMaster/netket/machine/abstract_machine.py\u001b[0m in \u001b[0;36mvector_jacobian_prod\u001b[0;34m(self, x, vec, out, conjugate, return_jacobian)\u001b[0m\n\u001b[1;32m     75\u001b[0m \u001b[0;34m\u001b[0m\u001b[0m\n\u001b[1;32m     76\u001b[0m             \u001b[0ms\u001b[0m \u001b[0;34m=\u001b[0m \u001b[0mtime\u001b[0m\u001b[0;34m.\u001b[0m\u001b[0mtime\u001b[0m\u001b[0;34m(\u001b[0m\u001b[0;34m)\u001b[0m\u001b[0;34m\u001b[0m\u001b[0;34m\u001b[0m\u001b[0m\n\u001b[0;32m---> 77\u001b[0;31m             \u001b[0mjacobian\u001b[0m \u001b[0;34m=\u001b[0m \u001b[0mself\u001b[0m\u001b[0;34m.\u001b[0m\u001b[0mder_log\u001b[0m\u001b[0;34m(\u001b[0m\u001b[0mx\u001b[0m\u001b[0;34m)\u001b[0m\u001b[0;34m\u001b[0m\u001b[0;34m\u001b[0m\u001b[0m\n\u001b[0m\u001b[1;32m     78\u001b[0m             \u001b[0mprint\u001b[0m\u001b[0;34m(\u001b[0m\u001b[0;34m'     cal jacobian '\u001b[0m\u001b[0;34m,\u001b[0m\u001b[0mtime\u001b[0m\u001b[0;34m.\u001b[0m\u001b[0mtime\u001b[0m\u001b[0;34m(\u001b[0m\u001b[0;34m)\u001b[0m\u001b[0;34m-\u001b[0m\u001b[0ms\u001b[0m\u001b[0;34m)\u001b[0m\u001b[0;34m\u001b[0m\u001b[0;34m\u001b[0m\u001b[0m\n\u001b[1;32m     79\u001b[0m \u001b[0;34m\u001b[0m\u001b[0m\n",
      "\u001b[0;32m~/Documents/Research/sshfs/DimerMaster/netket/machine/rbm.py\u001b[0m in \u001b[0;36mder_log\u001b[0;34m(self, x, out)\u001b[0m\n\u001b[1;32m    686\u001b[0m                 \u001b[0mprint\u001b[0m\u001b[0;34m(\u001b[0m\u001b[0;34m'cal tan'\u001b[0m\u001b[0;34m,\u001b[0m \u001b[0mtime\u001b[0m\u001b[0;34m.\u001b[0m\u001b[0mtime\u001b[0m\u001b[0;34m(\u001b[0m\u001b[0;34m)\u001b[0m\u001b[0;34m-\u001b[0m\u001b[0ms\u001b[0m\u001b[0;34m)\u001b[0m\u001b[0;34m\u001b[0m\u001b[0;34m\u001b[0m\u001b[0m\n\u001b[1;32m    687\u001b[0m                 \u001b[0ms\u001b[0m \u001b[0;34m=\u001b[0m \u001b[0mtime\u001b[0m\u001b[0;34m.\u001b[0m\u001b[0mtime\u001b[0m\u001b[0;34m(\u001b[0m\u001b[0;34m)\u001b[0m\u001b[0;34m\u001b[0m\u001b[0;34m\u001b[0m\u001b[0m\n\u001b[0;32m--> 688\u001b[0;31m                 \u001b[0mout1\u001b[0m \u001b[0;34m=\u001b[0m \u001b[0m_np\u001b[0m\u001b[0;34m.\u001b[0m\u001b[0meinsum\u001b[0m\u001b[0;34m(\u001b[0m\u001b[0;34m'ijk,ijl->ikl'\u001b[0m\u001b[0;34m,\u001b[0m\u001b[0mT_x_1\u001b[0m\u001b[0;34m,\u001b[0m \u001b[0mtanh_1\u001b[0m\u001b[0;34m)\u001b[0m\u001b[0;34m\u001b[0m\u001b[0;34m\u001b[0m\u001b[0m\n\u001b[0m\u001b[1;32m    689\u001b[0m                 \u001b[0mout\u001b[0m \u001b[0;34m=\u001b[0m \u001b[0;34m(\u001b[0m\u001b[0mout1\u001b[0m \u001b[0;34m+\u001b[0m \u001b[0m_np\u001b[0m\u001b[0;34m.\u001b[0m\u001b[0meinsum\u001b[0m\u001b[0;34m(\u001b[0m\u001b[0;34m'ijk,ijl->ikl'\u001b[0m\u001b[0;34m,\u001b[0m\u001b[0mT_x_2\u001b[0m\u001b[0;34m,\u001b[0m \u001b[0mtanh_2\u001b[0m\u001b[0;34m)\u001b[0m\u001b[0;34m)\u001b[0m\u001b[0;34m.\u001b[0m\u001b[0mreshape\u001b[0m\u001b[0;34m(\u001b[0m\u001b[0mbatch_size\u001b[0m\u001b[0;34m,\u001b[0m\u001b[0;34m-\u001b[0m\u001b[0;36m1\u001b[0m\u001b[0;34m)\u001b[0m\u001b[0;34m\u001b[0m\u001b[0;34m\u001b[0m\u001b[0m\n\u001b[1;32m    690\u001b[0m                 \u001b[0mprint\u001b[0m\u001b[0;34m(\u001b[0m\u001b[0;34m'cal output'\u001b[0m\u001b[0;34m,\u001b[0m \u001b[0mtime\u001b[0m\u001b[0;34m.\u001b[0m\u001b[0mtime\u001b[0m\u001b[0;34m(\u001b[0m\u001b[0;34m)\u001b[0m\u001b[0;34m-\u001b[0m\u001b[0ms\u001b[0m\u001b[0;34m)\u001b[0m\u001b[0;34m\u001b[0m\u001b[0;34m\u001b[0m\u001b[0m\n",
      "\u001b[0;32m<__array_function__ internals>\u001b[0m in \u001b[0;36meinsum\u001b[0;34m(*args, **kwargs)\u001b[0m\n",
      "\u001b[0;32m~/miniconda3/envs/research/lib/python3.8/site-packages/numpy/core/einsumfunc.py\u001b[0m in \u001b[0;36meinsum\u001b[0;34m(out, optimize, *operands, **kwargs)\u001b[0m\n\u001b[1;32m   1348\u001b[0m         \u001b[0;32mif\u001b[0m \u001b[0mspecified_out\u001b[0m\u001b[0;34m:\u001b[0m\u001b[0;34m\u001b[0m\u001b[0;34m\u001b[0m\u001b[0m\n\u001b[1;32m   1349\u001b[0m             \u001b[0mkwargs\u001b[0m\u001b[0;34m[\u001b[0m\u001b[0;34m'out'\u001b[0m\u001b[0;34m]\u001b[0m \u001b[0;34m=\u001b[0m \u001b[0mout\u001b[0m\u001b[0;34m\u001b[0m\u001b[0;34m\u001b[0m\u001b[0m\n\u001b[0;32m-> 1350\u001b[0;31m         \u001b[0;32mreturn\u001b[0m \u001b[0mc_einsum\u001b[0m\u001b[0;34m(\u001b[0m\u001b[0;34m*\u001b[0m\u001b[0moperands\u001b[0m\u001b[0;34m,\u001b[0m \u001b[0;34m**\u001b[0m\u001b[0mkwargs\u001b[0m\u001b[0;34m)\u001b[0m\u001b[0;34m\u001b[0m\u001b[0;34m\u001b[0m\u001b[0m\n\u001b[0m\u001b[1;32m   1351\u001b[0m \u001b[0;34m\u001b[0m\u001b[0m\n\u001b[1;32m   1352\u001b[0m     \u001b[0;31m# Check the kwargs to avoid a more cryptic error later, without having to\u001b[0m\u001b[0;34m\u001b[0m\u001b[0;34m\u001b[0m\u001b[0;34m\u001b[0m\u001b[0m\n",
      "\u001b[0;31mKeyboardInterrupt\u001b[0m: "
     ]
    }
   ],
   "source": [
    "gs.run(n_iter=600)"
   ]
  },
  {
   "cell_type": "code",
   "execution_count": 9,
   "metadata": {},
   "outputs": [
    {
     "name": "stdout",
     "output_type": "stream",
     "text": [
      "2\n"
     ]
    }
   ],
   "source": [
    "ma3 = nk.machine.RbmDimer(hi, hex_, alpha = 2, symmetry = True\n",
    "                    ,use_hidden_bias = False, use_visible_bias = False, dtype=float, reverse=True, half=True)\n",
    "ma3.init_random_parameters()"
   ]
  },
  {
   "cell_type": "code",
   "execution_count": 10,
   "metadata": {},
   "outputs": [],
   "source": [
    "ma3._ws[:,0] = ma2._ws[:,0]\n",
    "ma3._ws[:,1] = ma._ws[:,0]"
   ]
  },
  {
   "cell_type": "code",
   "execution_count": 13,
   "metadata": {},
   "outputs": [],
   "source": [
    "ma3._set_bare_parameters(\n",
    "    ma3._a, ma3._b, ma3._w, ma3._as, ma3._bs, ma3._ws, ma3._autom, ma3._z2\n",
    ")"
   ]
  },
  {
   "cell_type": "code",
   "execution_count": 14,
   "metadata": {},
   "outputs": [
    {
     "name": "stdout",
     "output_type": "stream",
     "text": [
      "number of core : 6\n"
     ]
    }
   ],
   "source": [
    "sa_mul = nk.sampler.DimerMetropolisLocal_multi(machine=ma3, op=op_transition\n",
    "    , length = length, n_chains=n_chains, sweep_size = 400, kernel = 1, n_jobs=6)\n",
    "\n",
    "sr = nk.optimizer.SR(ma3, diag_shift=0)\n",
    "opt = nk.optimizer.Sgd(ma3, learning_rate=0.05, decay_factor = 1 ,N = 300)"
   ]
  },
  {
   "cell_type": "code",
   "execution_count": 15,
   "metadata": {},
   "outputs": [
    {
     "name": "stderr",
     "output_type": "stream",
     "text": [
      "\r",
      "  0%|          | 0/300 [00:00<?, ?it/s]"
     ]
    },
    {
     "name": "stdout",
     "output_type": "stream",
     "text": [
      "No output specified (out=[apath|nk.logging.JsonLogger(...)]).Running the optimization but not saving the output.\n",
      "n_discard =  300\n",
      "discard samples 0.6387391090393066\n",
      "n_samples_node =  2000\n"
     ]
    },
    {
     "name": "stderr",
     "output_type": "stream",
     "text": [
      "  0%|          | 1/300 [00:01<06:59,  1.40s/it, Energy=-0.50766+0.00000j ± 0.00050 [σ²=0.00052]]"
     ]
    },
    {
     "name": "stdout",
     "output_type": "stream",
     "text": [
      "generate_samples :  0.724083662033081\n",
      "time :  0.0304563045501709\n",
      "get_mc_stats 0.031020164489746094\n",
      "     cal jacobian  0.005073070526123047\n",
      "     cal F 0.00011229515075683594\n",
      "cal O and jac  0.0053598880767822266\n",
      "compute_update  0.0010981559753417969\n",
      "(-0.0222583400981163+0j)\n",
      "n_discard =  300\n",
      "discard samples 0.6434280872344971\n",
      "n_samples_node =  2000\n"
     ]
    },
    {
     "name": "stderr",
     "output_type": "stream",
     "text": [
      "  1%|          | 2/300 [00:02<06:57,  1.40s/it, Energy=-0.50711+0.00000j ± 0.00051 [σ²=0.00044]]"
     ]
    },
    {
     "name": "stdout",
     "output_type": "stream",
     "text": [
      "generate_samples :  0.7180402278900146\n",
      "time :  0.029636621475219727\n",
      "get_mc_stats 0.030215740203857422\n",
      "     cal jacobian  0.005959749221801758\n",
      "     cal F 0.00021147727966308594\n",
      "cal O and jac  0.006499290466308594\n",
      "compute_update  0.0011284351348876953\n",
      "(-0.02534200758701269+0j)\n",
      "n_discard =  300\n",
      "discard samples 0.6537513732910156\n",
      "n_samples_node =  2000\n"
     ]
    },
    {
     "name": "stderr",
     "output_type": "stream",
     "text": [
      "  1%|          | 3/300 [00:04<06:58,  1.41s/it, Energy=-0.50703+0.00000j ± 0.00045 [σ²=0.00039]]"
     ]
    },
    {
     "name": "stdout",
     "output_type": "stream",
     "text": [
      "generate_samples :  0.7196121215820312\n",
      "time :  0.03095555305480957\n",
      "get_mc_stats 0.03163886070251465\n",
      "     cal jacobian  0.010928630828857422\n",
      "     cal F 0.00030303001403808594\n",
      "cal O and jac  0.011507272720336914\n",
      "compute_update  0.0013680458068847656\n",
      "(-0.02837369081746865+0j)\n",
      "n_discard =  300\n",
      "discard samples 0.6387388706207275\n",
      "n_samples_node =  2000\n"
     ]
    },
    {
     "name": "stderr",
     "output_type": "stream",
     "text": [
      "  1%|▏         | 4/300 [00:05<06:56,  1.41s/it, Energy=-0.50750+0.00000j ± 0.00039 [σ²=0.00039]]"
     ]
    },
    {
     "name": "stdout",
     "output_type": "stream",
     "text": [
      "generate_samples :  0.7278842926025391\n",
      "time :  0.02869558334350586\n",
      "get_mc_stats 0.02957463264465332\n",
      "     cal jacobian  0.0063288211822509766\n",
      "     cal F 0.0002524852752685547\n",
      "cal O and jac  0.0068094730377197266\n",
      "compute_update  0.0012898445129394531\n",
      "(-0.03128396515865471+0j)\n",
      "n_discard =  300\n",
      "discard samples 0.6585252285003662\n",
      "n_samples_node =  2000\n"
     ]
    },
    {
     "name": "stderr",
     "output_type": "stream",
     "text": [
      "  2%|▏         | 5/300 [00:07<06:57,  1.41s/it, Energy=-0.50818+0.00000j ± 0.00036 [σ²=0.00035]]"
     ]
    },
    {
     "name": "stdout",
     "output_type": "stream",
     "text": [
      "generate_samples :  0.731389045715332\n",
      "time :  0.02540445327758789\n",
      "get_mc_stats 0.025948762893676758\n",
      "     cal jacobian  0.005708456039428711\n",
      "     cal F 0.00020241737365722656\n",
      "cal O and jac  0.0061070919036865234\n",
      "compute_update  0.0011131763458251953\n",
      "(-0.0342454078724337+0j)\n",
      "n_discard =  300\n",
      "discard samples 0.646190881729126\n",
      "n_samples_node =  2000\n"
     ]
    },
    {
     "name": "stderr",
     "output_type": "stream",
     "text": [
      "  2%|▏         | 6/300 [00:08<06:54,  1.41s/it, Energy=-0.50710+0.00000j ± 0.00041 [σ²=0.00035]]"
     ]
    },
    {
     "name": "stdout",
     "output_type": "stream",
     "text": [
      "generate_samples :  0.7239868640899658\n",
      "time :  0.023551225662231445\n",
      "get_mc_stats 0.02403092384338379\n",
      "     cal jacobian  0.0058634281158447266\n",
      "     cal F 0.00023794174194335938\n",
      "cal O and jac  0.0063934326171875\n",
      "compute_update  0.0011420249938964844\n",
      "(-0.03713743506688237+0j)\n",
      "n_discard =  300\n",
      "discard samples 0.6433417797088623\n",
      "n_samples_node =  2000\n"
     ]
    },
    {
     "name": "stderr",
     "output_type": "stream",
     "text": [
      "  2%|▏         | 7/300 [00:09<06:52,  1.41s/it, Energy=-0.50781+0.00000j ± 0.00046 [σ²=0.00035]]"
     ]
    },
    {
     "name": "stdout",
     "output_type": "stream",
     "text": [
      "generate_samples :  0.7169034481048584\n",
      "time :  0.03078746795654297\n",
      "get_mc_stats 0.03134870529174805\n",
      "     cal jacobian  0.0052912235260009766\n",
      "     cal F 0.0001926422119140625\n",
      "cal O and jac  0.005780935287475586\n",
      "compute_update  0.0010988712310791016\n",
      "(-0.03996623911753126+0j)\n",
      "n_discard =  300\n",
      "discard samples 0.6550757884979248\n",
      "n_samples_node =  2000\n"
     ]
    },
    {
     "name": "stderr",
     "output_type": "stream",
     "text": [
      "  3%|▎         | 8/300 [00:11<06:52,  1.41s/it, Energy=-0.50805+0.00000j ± 0.00037 [σ²=0.00036]]"
     ]
    },
    {
     "name": "stdout",
     "output_type": "stream",
     "text": [
      "generate_samples :  0.7301576137542725\n",
      "time :  0.031296730041503906\n",
      "get_mc_stats 0.031770944595336914\n",
      "     cal jacobian  0.006262540817260742\n",
      "     cal F 0.0001621246337890625\n",
      "cal O and jac  0.0065119266510009766\n",
      "compute_update  0.001081705093383789\n",
      "(-0.04269180601425448+0j)\n",
      "n_discard =  300\n",
      "discard samples 0.648449182510376\n",
      "n_samples_node =  2000\n"
     ]
    },
    {
     "name": "stderr",
     "output_type": "stream",
     "text": [
      "  3%|▎         | 9/300 [00:12<06:53,  1.42s/it, Energy=-0.50712+0.00000j ± 0.00028 [σ²=0.00034]]"
     ]
    },
    {
     "name": "stdout",
     "output_type": "stream",
     "text": [
      "generate_samples :  0.7422468662261963\n",
      "time :  0.03279876708984375\n",
      "get_mc_stats 0.03345513343811035\n",
      "     cal jacobian  0.0055506229400634766\n",
      "     cal F 0.00025153160095214844\n",
      "cal O and jac  0.006128072738647461\n",
      "compute_update  0.0010895729064941406\n",
      "(-0.04548207132475689+0j)\n",
      "n_discard =  300\n",
      "discard samples 0.6698014736175537\n",
      "n_samples_node =  2000\n"
     ]
    },
    {
     "name": "stderr",
     "output_type": "stream",
     "text": [
      "  3%|▎         | 10/300 [00:14<06:52,  1.42s/it, Energy=-0.50694+0.00000j ± 0.00035 [σ²=0.00037]]"
     ]
    },
    {
     "name": "stdout",
     "output_type": "stream",
     "text": [
      "generate_samples :  0.7150156497955322\n",
      "time :  0.03285527229309082\n",
      "get_mc_stats 0.033481597900390625\n",
      "     cal jacobian  0.006327390670776367\n",
      "     cal F 0.0001628398895263672\n",
      "cal O and jac  0.006696462631225586\n",
      "compute_update  0.0013420581817626953\n",
      "(-0.048140081819472706+0j)\n",
      "n_discard =  300\n",
      "discard samples 0.6607906818389893\n",
      "n_samples_node =  2000\n"
     ]
    },
    {
     "name": "stderr",
     "output_type": "stream",
     "text": [
      "  4%|▎         | 11/300 [00:15<06:50,  1.42s/it, Energy=-0.50711+0.00000j ± 0.00043 [σ²=0.00043]]"
     ]
    },
    {
     "name": "stdout",
     "output_type": "stream",
     "text": [
      "generate_samples :  0.7121055126190186\n",
      "time :  0.030735015869140625\n",
      "get_mc_stats 0.03123760223388672\n",
      "     cal jacobian  0.005843639373779297\n",
      "     cal F 0.00021457672119140625\n",
      "cal O and jac  0.006341218948364258\n",
      "compute_update  0.0015120506286621094\n",
      "(-0.04814284870242672+0j)\n",
      "n_discard =  300\n",
      "discard samples 0.6431713104248047\n",
      "n_samples_node =  2000\n"
     ]
    },
    {
     "name": "stderr",
     "output_type": "stream",
     "text": [
      "  4%|▍         | 12/300 [00:16<06:46,  1.41s/it, Energy=-0.50733+0.00000j ± 0.00048 [σ²=0.00035]]"
     ]
    },
    {
     "name": "stdout",
     "output_type": "stream",
     "text": [
      "generate_samples :  0.7125406265258789\n",
      "time :  0.029175758361816406\n",
      "get_mc_stats 0.029623031616210938\n",
      "     cal jacobian  0.006058931350708008\n",
      "     cal F 0.00027441978454589844\n",
      "cal O and jac  0.006613731384277344\n",
      "compute_update  0.001172780990600586\n",
      "(-0.04829663448402879+0j)\n",
      "n_discard =  300\n",
      "discard samples 0.6622982025146484\n",
      "n_samples_node =  2000\n"
     ]
    },
    {
     "name": "stderr",
     "output_type": "stream",
     "text": [
      "  4%|▍         | 13/300 [00:18<06:45,  1.41s/it, Energy=-0.50766+0.00000j ± 0.00048 [σ²=0.00037]]"
     ]
    },
    {
     "name": "stdout",
     "output_type": "stream",
     "text": [
      "generate_samples :  0.7132282257080078\n",
      "time :  0.03046107292175293\n",
      "get_mc_stats 0.030971765518188477\n",
      "     cal jacobian  0.005281686782836914\n",
      "     cal F 0.00014781951904296875\n",
      "cal O and jac  0.005512714385986328\n",
      "compute_update  0.0010614395141601562\n",
      "(-0.04837240164853026+0j)\n",
      "n_discard =  300\n",
      "discard samples 0.6420304775238037\n",
      "n_samples_node =  2000\n"
     ]
    },
    {
     "name": "stderr",
     "output_type": "stream",
     "text": [
      "  5%|▍         | 14/300 [00:19<06:42,  1.41s/it, Energy=-0.50700+0.00000j ± 0.00042 [σ²=0.00036]]"
     ]
    },
    {
     "name": "stdout",
     "output_type": "stream",
     "text": [
      "generate_samples :  0.716167688369751\n",
      "time :  0.028664827346801758\n",
      "get_mc_stats 0.029120922088623047\n",
      "     cal jacobian  0.006476640701293945\n",
      "     cal F 0.0002815723419189453\n",
      "cal O and jac  0.007043123245239258\n",
      "compute_update  0.0011970996856689453\n",
      "(-0.048465100231417674+0j)\n",
      "n_discard =  300\n",
      "discard samples 0.6412627696990967\n",
      "n_samples_node =  2000\n"
     ]
    },
    {
     "name": "stderr",
     "output_type": "stream",
     "text": [
      "  5%|▌         | 15/300 [00:21<06:39,  1.40s/it, Energy=-0.50777+0.00000j ± 0.00032 [σ²=0.00036]]"
     ]
    },
    {
     "name": "stdout",
     "output_type": "stream",
     "text": [
      "generate_samples :  0.7116916179656982\n",
      "time :  0.028913021087646484\n",
      "get_mc_stats 0.02942061424255371\n",
      "     cal jacobian  0.0052645206451416016\n",
      "     cal F 0.0001933574676513672\n",
      "cal O and jac  0.005647897720336914\n",
      "compute_update  0.0010535717010498047\n",
      "(-0.0486334163599626+0j)\n",
      "n_discard =  300\n",
      "discard samples 0.6368966102600098\n",
      "n_samples_node =  2000\n"
     ]
    },
    {
     "name": "stderr",
     "output_type": "stream",
     "text": [
      "  5%|▌         | 16/300 [00:22<06:37,  1.40s/it, Energy=-0.50757+0.00000j ± 0.00045 [σ²=0.00036]]"
     ]
    },
    {
     "name": "stdout",
     "output_type": "stream",
     "text": [
      "generate_samples :  0.7089011669158936\n",
      "time :  0.030604839324951172\n",
      "get_mc_stats 0.03113579750061035\n",
      "     cal jacobian  0.005976438522338867\n",
      "     cal F 0.0001761913299560547\n",
      "cal O and jac  0.006323575973510742\n",
      "compute_update  0.001119375228881836\n",
      "(-0.048787608254804514+0j)\n",
      "n_discard =  300\n",
      "discard samples 0.6413478851318359\n",
      "n_samples_node =  2000\n"
     ]
    },
    {
     "name": "stderr",
     "output_type": "stream",
     "text": [
      "  6%|▌         | 17/300 [00:23<06:35,  1.40s/it, Energy=-0.50734+0.00000j ± 0.00040 [σ²=0.00037]]"
     ]
    },
    {
     "name": "stdout",
     "output_type": "stream",
     "text": [
      "generate_samples :  0.7136728763580322\n",
      "time :  0.030385971069335938\n",
      "get_mc_stats 0.030832529067993164\n",
      "     cal jacobian  0.005468606948852539\n",
      "     cal F 0.00019288063049316406\n",
      "cal O and jac  0.005922555923461914\n",
      "compute_update  0.0009453296661376953\n",
      "(-0.04901088479558793+0j)\n",
      "n_discard =  300\n",
      "discard samples 0.6397252082824707\n",
      "n_samples_node =  2000\n"
     ]
    },
    {
     "name": "stderr",
     "output_type": "stream",
     "text": [
      "  6%|▌         | 18/300 [00:25<06:33,  1.40s/it, Energy=-0.50696+0.00000j ± 0.00039 [σ²=0.00034]]"
     ]
    },
    {
     "name": "stdout",
     "output_type": "stream",
     "text": [
      "generate_samples :  0.7133679389953613\n",
      "time :  0.03186488151550293\n",
      "get_mc_stats 0.0324099063873291\n",
      "     cal jacobian  0.005959749221801758\n",
      "     cal F 0.0002040863037109375\n",
      "cal O and jac  0.00623631477355957\n",
      "compute_update  0.0011708736419677734\n",
      "(-0.04935528145253928+0j)\n",
      "n_discard =  300\n",
      "discard samples 0.6387126445770264\n",
      "n_samples_node =  2000\n"
     ]
    },
    {
     "name": "stderr",
     "output_type": "stream",
     "text": [
      "  6%|▋         | 19/300 [00:26<06:31,  1.39s/it, Energy=-0.50793+0.00000j ± 0.00029 [σ²=0.00035]]"
     ]
    },
    {
     "name": "stdout",
     "output_type": "stream",
     "text": [
      "generate_samples :  0.70383620262146\n",
      "time :  0.030295610427856445\n",
      "get_mc_stats 0.030876874923706055\n",
      "     cal jacobian  0.005226850509643555\n",
      "     cal F 0.00014853477478027344\n",
      "cal O and jac  0.005705356597900391\n",
      "compute_update  0.0013120174407958984\n",
      "(-0.04971205428487202+0j)\n",
      "n_discard =  300\n",
      "discard samples 0.644312858581543\n",
      "n_samples_node =  2000\n"
     ]
    },
    {
     "name": "stderr",
     "output_type": "stream",
     "text": [
      "  7%|▋         | 20/300 [00:28<06:31,  1.40s/it, Energy=-0.50709+0.00000j ± 0.00044 [σ²=0.00034]]"
     ]
    },
    {
     "name": "stdout",
     "output_type": "stream",
     "text": [
      "generate_samples :  0.7232701778411865\n",
      "time :  0.030030250549316406\n",
      "get_mc_stats 0.0305330753326416\n",
      "     cal jacobian  0.0063822269439697266\n",
      "     cal F 0.00020432472229003906\n",
      "cal O and jac  0.006690263748168945\n",
      "compute_update  0.0012781620025634766\n",
      "(-0.050277966301503205+0j)\n",
      "n_discard =  300\n",
      "discard samples 0.6616640090942383\n",
      "n_samples_node =  2000\n"
     ]
    },
    {
     "name": "stderr",
     "output_type": "stream",
     "text": [
      "  7%|▋         | 21/300 [00:29<06:31,  1.40s/it, Energy=-0.50807+0.00000j ± 0.00044 [σ²=0.00033]]"
     ]
    },
    {
     "name": "stdout",
     "output_type": "stream",
     "text": [
      "generate_samples :  0.7173910140991211\n",
      "time :  0.03352713584899902\n",
      "get_mc_stats 0.03413891792297363\n",
      "     cal jacobian  0.0053615570068359375\n",
      "     cal F 0.00019240379333496094\n",
      "cal O and jac  0.0057523250579833984\n",
      "compute_update  0.0013093948364257812\n",
      "(-0.05101843188407163+0j)\n",
      "n_discard =  300\n",
      "discard samples 0.6474075317382812\n",
      "n_samples_node =  2000\n"
     ]
    },
    {
     "name": "stderr",
     "output_type": "stream",
     "text": [
      "  7%|▋         | 22/300 [00:30<06:31,  1.41s/it, Energy=-0.50658+0.00000j ± 0.00047 [σ²=0.00031]]"
     ]
    },
    {
     "name": "stdout",
     "output_type": "stream",
     "text": [
      "generate_samples :  0.7333681583404541\n",
      "time :  0.029284000396728516\n",
      "get_mc_stats 0.029789209365844727\n",
      "     cal jacobian  0.005999565124511719\n",
      "     cal F 0.0001952648162841797\n",
      "cal O and jac  0.00638580322265625\n",
      "compute_update  0.001428365707397461\n",
      "(-0.05201346184524413+0j)\n",
      "n_discard =  300\n",
      "discard samples 0.6398165225982666\n",
      "n_samples_node =  2000\n"
     ]
    },
    {
     "name": "stderr",
     "output_type": "stream",
     "text": [
      "  8%|▊         | 23/300 [00:32<06:28,  1.40s/it, Energy=-0.50751+0.00000j ± 0.00039 [σ²=0.00029]]"
     ]
    },
    {
     "name": "stdout",
     "output_type": "stream",
     "text": [
      "generate_samples :  0.709151029586792\n",
      "time :  0.028792858123779297\n",
      "get_mc_stats 0.029303789138793945\n",
      "     cal jacobian  0.005527019500732422\n",
      "     cal F 0.000186920166015625\n",
      "cal O and jac  0.0057985782623291016\n",
      "compute_update  0.0012934207916259766\n",
      "(-0.05308402531158676+0j)\n",
      "n_discard =  300\n",
      "discard samples 0.6411545276641846\n",
      "n_samples_node =  2000\n"
     ]
    },
    {
     "name": "stderr",
     "output_type": "stream",
     "text": [
      "  8%|▊         | 24/300 [00:33<06:26,  1.40s/it, Energy=-0.50734+0.00000j ± 0.00040 [σ²=0.00033]]"
     ]
    },
    {
     "name": "stdout",
     "output_type": "stream",
     "text": [
      "generate_samples :  0.7151079177856445\n",
      "time :  0.030806779861450195\n",
      "get_mc_stats 0.031267404556274414\n",
      "     cal jacobian  0.0061168670654296875\n",
      "     cal F 0.00028896331787109375\n",
      "cal O and jac  0.006699562072753906\n",
      "compute_update  0.0015106201171875\n",
      "(-0.05427528642787569+0j)\n",
      "n_discard =  300\n",
      "discard samples 0.641392707824707\n",
      "n_samples_node =  2000\n"
     ]
    },
    {
     "name": "stderr",
     "output_type": "stream",
     "text": [
      "  8%|▊         | 25/300 [00:35<06:24,  1.40s/it, Energy=-0.50789+0.00000j ± 0.00034 [σ²=0.00031]]"
     ]
    },
    {
     "name": "stdout",
     "output_type": "stream",
     "text": [
      "generate_samples :  0.7140729427337646\n",
      "time :  0.030484437942504883\n",
      "get_mc_stats 0.031001806259155273\n",
      "     cal jacobian  0.005364179611206055\n",
      "     cal F 0.00018930435180664062\n",
      "cal O and jac  0.005739450454711914\n",
      "compute_update  0.0013325214385986328\n",
      "(-0.05552533937281199+0j)\n",
      "n_discard =  300\n",
      "discard samples 0.6521623134613037\n",
      "n_samples_node =  2000\n"
     ]
    },
    {
     "name": "stderr",
     "output_type": "stream",
     "text": [
      "  9%|▊         | 26/300 [00:36<06:24,  1.40s/it, Energy=-0.50669+0.00000j ± 0.00034 [σ²=0.00032]]"
     ]
    },
    {
     "name": "stdout",
     "output_type": "stream",
     "text": [
      "generate_samples :  0.7138371467590332\n",
      "time :  0.030356168746948242\n",
      "get_mc_stats 0.030844926834106445\n",
      "     cal jacobian  0.0068242549896240234\n",
      "     cal F 0.00022912025451660156\n",
      "cal O and jac  0.007347822189331055\n",
      "compute_update  0.0017437934875488281\n",
      "(-0.05667969330584709+0j)\n",
      "n_discard =  300\n",
      "discard samples 0.6422827243804932\n",
      "n_samples_node =  2000\n"
     ]
    },
    {
     "name": "stderr",
     "output_type": "stream",
     "text": [
      "  9%|▉         | 27/300 [00:37<06:22,  1.40s/it, Energy=-0.50806+0.00000j ± 0.00043 [σ²=0.00034]]"
     ]
    },
    {
     "name": "stdout",
     "output_type": "stream",
     "text": [
      "generate_samples :  0.7084643840789795\n",
      "time :  0.03400921821594238\n",
      "get_mc_stats 0.03448748588562012\n",
      "     cal jacobian  0.005481243133544922\n",
      "     cal F 0.000225067138671875\n",
      "cal O and jac  0.00600123405456543\n",
      "compute_update  0.0020661354064941406\n",
      "(-0.05534836138332371+0j)\n",
      "n_discard =  300\n",
      "discard samples 0.6428894996643066\n",
      "n_samples_node =  2000\n"
     ]
    },
    {
     "name": "stderr",
     "output_type": "stream",
     "text": [
      "  9%|▉         | 28/300 [00:39<06:20,  1.40s/it, Energy=-0.50769+0.00000j ± 0.00044 [σ²=0.00032]]"
     ]
    },
    {
     "name": "stdout",
     "output_type": "stream",
     "text": [
      "generate_samples :  0.7116227149963379\n",
      "time :  0.027965068817138672\n",
      "get_mc_stats 0.028468608856201172\n",
      "     cal jacobian  0.006261587142944336\n",
      "     cal F 0.00019979476928710938\n",
      "cal O and jac  0.006549835205078125\n",
      "compute_update  0.0013630390167236328\n",
      "(-0.05392517657282177+0j)\n",
      "n_discard =  300\n",
      "discard samples 0.6440060138702393\n",
      "n_samples_node =  2000\n"
     ]
    },
    {
     "name": "stderr",
     "output_type": "stream",
     "text": [
      " 10%|▉         | 29/300 [00:40<06:20,  1.40s/it, Energy=-0.50750+0.00000j ± 0.00034 [σ²=0.00028]]"
     ]
    },
    {
     "name": "stdout",
     "output_type": "stream",
     "text": [
      "generate_samples :  0.7332155704498291\n",
      "time :  0.02643108367919922\n",
      "get_mc_stats 0.027014732360839844\n",
      "     cal jacobian  0.00595402717590332\n",
      "     cal F 0.00020194053649902344\n",
      "cal O and jac  0.006373167037963867\n",
      "compute_update  0.0013287067413330078\n",
      "(-0.05243844651426728+0j)\n",
      "n_discard =  300\n",
      "discard samples 0.6416187286376953\n",
      "n_samples_node =  2000\n"
     ]
    },
    {
     "name": "stderr",
     "output_type": "stream",
     "text": [
      " 10%|█         | 30/300 [00:42<06:18,  1.40s/it, Energy=-0.50746+0.00000j ± 0.00036 [σ²=0.00028]]"
     ]
    },
    {
     "name": "stdout",
     "output_type": "stream",
     "text": [
      "generate_samples :  0.712059736251831\n",
      "time :  0.030226707458496094\n",
      "get_mc_stats 0.030676603317260742\n",
      "     cal jacobian  0.0059452056884765625\n",
      "     cal F 0.00021219253540039062\n",
      "cal O and jac  0.006456613540649414\n",
      "compute_update  0.0013670921325683594\n",
      "(-0.050884538880730856+0j)\n",
      "n_discard =  300\n",
      "discard samples 0.6402561664581299\n",
      "n_samples_node =  2000\n"
     ]
    },
    {
     "name": "stderr",
     "output_type": "stream",
     "text": [
      " 10%|█         | 31/300 [00:43<06:15,  1.40s/it, Energy=-0.50830+0.00000j ± 0.00043 [σ²=0.00028]]"
     ]
    },
    {
     "name": "stdout",
     "output_type": "stream",
     "text": [
      "generate_samples :  0.7104611396789551\n",
      "time :  0.02682328224182129\n",
      "get_mc_stats 0.027419567108154297\n",
      "     cal jacobian  0.005234479904174805\n",
      "     cal F 0.00020051002502441406\n",
      "cal O and jac  0.005761146545410156\n",
      "compute_update  0.0016608238220214844\n",
      "(-0.04853566563801025+0j)\n",
      "n_discard =  300\n",
      "discard samples 0.636568546295166\n",
      "n_samples_node =  2000\n"
     ]
    },
    {
     "name": "stderr",
     "output_type": "stream",
     "text": [
      " 11%|█         | 32/300 [00:44<06:12,  1.39s/it, Energy=-0.50702+0.00000j ± 0.00039 [σ²=0.00028]]"
     ]
    },
    {
     "name": "stdout",
     "output_type": "stream",
     "text": [
      "generate_samples :  0.705242395401001\n",
      "time :  0.024410486221313477\n",
      "get_mc_stats 0.0249178409576416\n",
      "     cal jacobian  0.0067234039306640625\n",
      "     cal F 0.00021529197692871094\n",
      "cal O and jac  0.007147073745727539\n",
      "compute_update  0.0013458728790283203\n",
      "(-0.04615501721628374+0j)\n",
      "n_discard =  300\n",
      "discard samples 0.6410379409790039\n",
      "n_samples_node =  2000\n"
     ]
    },
    {
     "name": "stderr",
     "output_type": "stream",
     "text": [
      " 11%|█         | 33/300 [00:46<06:11,  1.39s/it, Energy=-0.50693+0.00000j ± 0.00037 [σ²=0.00026]]"
     ]
    },
    {
     "name": "stdout",
     "output_type": "stream",
     "text": [
      "generate_samples :  0.7123384475708008\n",
      "time :  0.03277397155761719\n",
      "get_mc_stats 0.033312082290649414\n",
      "     cal jacobian  0.005347013473510742\n",
      "     cal F 0.00020837783813476562\n",
      "cal O and jac  0.005727529525756836\n",
      "compute_update  0.0012478828430175781\n",
      "(-0.04384075318872341+0j)\n",
      "n_discard =  300\n",
      "discard samples 0.640601396560669\n",
      "n_samples_node =  2000\n"
     ]
    },
    {
     "name": "stderr",
     "output_type": "stream",
     "text": [
      " 11%|█▏        | 34/300 [00:47<06:10,  1.39s/it, Energy=-0.50715+0.00000j ± 0.00041 [σ²=0.00025]]"
     ]
    },
    {
     "name": "stdout",
     "output_type": "stream",
     "text": [
      "generate_samples :  0.7104270458221436\n",
      "time :  0.030832767486572266\n",
      "get_mc_stats 0.03136706352233887\n",
      "     cal jacobian  0.006036043167114258\n",
      "     cal F 0.0002067089080810547\n",
      "cal O and jac  0.006439924240112305\n",
      "compute_update  0.0012373924255371094\n",
      "(-0.04155167114692631+0j)\n",
      "n_discard =  300\n",
      "discard samples 0.641289472579956\n",
      "n_samples_node =  2000\n"
     ]
    },
    {
     "name": "stderr",
     "output_type": "stream",
     "text": [
      " 12%|█▏        | 35/300 [00:49<06:10,  1.40s/it, Energy=-0.50722+0.00000j ± 0.00026 [σ²=0.00026]]"
     ]
    },
    {
     "name": "stdout",
     "output_type": "stream",
     "text": [
      "generate_samples :  0.7243211269378662\n",
      "time :  0.033854007720947266\n",
      "get_mc_stats 0.03436470031738281\n",
      "     cal jacobian  0.005883216857910156\n",
      "     cal F 0.00022912025451660156\n",
      "cal O and jac  0.00640416145324707\n",
      "compute_update  0.0013592243194580078\n",
      "(-0.039388600876714405+0j)\n",
      "n_discard =  300\n",
      "discard samples 0.6437957286834717\n",
      "n_samples_node =  2000\n"
     ]
    },
    {
     "name": "stderr",
     "output_type": "stream",
     "text": [
      " 12%|█▏        | 36/300 [00:50<06:08,  1.40s/it, Energy=-0.50741+0.00000j ± 0.00037 [σ²=0.00026]]"
     ]
    },
    {
     "name": "stdout",
     "output_type": "stream",
     "text": [
      "generate_samples :  0.7139053344726562\n",
      "time :  0.023686885833740234\n",
      "get_mc_stats 0.02424764633178711\n",
      "     cal jacobian  0.005937099456787109\n",
      "     cal F 0.0002624988555908203\n",
      "cal O and jac  0.006423234939575195\n",
      "compute_update  0.0013675689697265625\n",
      "(-0.03726070417964979+0j)\n",
      "n_discard =  300\n",
      "discard samples 0.6359901428222656\n",
      "n_samples_node =  2000\n"
     ]
    },
    {
     "name": "stderr",
     "output_type": "stream",
     "text": [
      " 12%|█▏        | 37/300 [00:51<06:06,  1.39s/it, Energy=-0.50697+0.00000j ± 0.00032 [σ²=0.00024]]"
     ]
    },
    {
     "name": "stdout",
     "output_type": "stream",
     "text": [
      "generate_samples :  0.7110247611999512\n",
      "time :  0.033672332763671875\n",
      "get_mc_stats 0.034155845642089844\n",
      "     cal jacobian  0.005611419677734375\n",
      "     cal F 0.00011229515075683594\n",
      "cal O and jac  0.005849599838256836\n",
      "compute_update  0.001310586929321289\n",
      "(-0.035347752073459485+0j)\n",
      "n_discard =  300\n",
      "discard samples 0.6439542770385742\n",
      "n_samples_node =  2000\n"
     ]
    },
    {
     "name": "stderr",
     "output_type": "stream",
     "text": [
      " 13%|█▎        | 38/300 [00:53<06:05,  1.40s/it, Energy=-0.50761+0.00000j ± 0.00036 [σ²=0.00022]]"
     ]
    },
    {
     "name": "stdout",
     "output_type": "stream",
     "text": [
      "generate_samples :  0.7178895473480225\n",
      "time :  0.029840707778930664\n",
      "get_mc_stats 0.030295372009277344\n",
      "     cal jacobian  0.006412506103515625\n",
      "     cal F 0.00022077560424804688\n",
      "cal O and jac  0.006922483444213867\n",
      "compute_update  0.0014603137969970703\n",
      "(-0.03359411755581587+0j)\n",
      "n_discard =  300\n",
      "discard samples 0.6402885913848877\n",
      "n_samples_node =  2000\n"
     ]
    },
    {
     "name": "stderr",
     "output_type": "stream",
     "text": [
      " 13%|█▎        | 39/300 [00:54<06:04,  1.40s/it, Energy=-0.50677+0.00000j ± 0.00036 [σ²=0.00022]]"
     ]
    },
    {
     "name": "stdout",
     "output_type": "stream",
     "text": [
      "generate_samples :  0.7108829021453857\n",
      "time :  0.032790422439575195\n",
      "get_mc_stats 0.033272504806518555\n",
      "     cal jacobian  0.005633115768432617\n",
      "     cal F 0.0002129077911376953\n",
      "cal O and jac  0.00614476203918457\n",
      "compute_update  0.001444101333618164\n",
      "(-0.03222354927273931+0j)\n",
      "n_discard =  300\n",
      "discard samples 0.6513347625732422\n",
      "n_samples_node =  2000\n"
     ]
    },
    {
     "name": "stderr",
     "output_type": "stream",
     "text": [
      " 13%|█▎        | 40/300 [00:56<06:04,  1.40s/it, Energy=-0.50749+0.00000j ± 0.00041 [σ²=0.00023]]"
     ]
    },
    {
     "name": "stdout",
     "output_type": "stream",
     "text": [
      "generate_samples :  0.7189431190490723\n",
      "time :  0.03237462043762207\n",
      "get_mc_stats 0.03285574913024902\n",
      "     cal jacobian  0.006416797637939453\n",
      "     cal F 0.00022029876708984375\n",
      "cal O and jac  0.006943464279174805\n",
      "compute_update  0.0012695789337158203\n",
      "(-0.03106987244586838+0j)\n",
      "n_discard =  300\n",
      "discard samples 0.6449024677276611\n",
      "n_samples_node =  2000\n"
     ]
    },
    {
     "name": "stderr",
     "output_type": "stream",
     "text": [
      " 14%|█▎        | 41/300 [00:57<06:02,  1.40s/it, Energy=-0.50720+0.00000j ± 0.00038 [σ²=0.00021]]"
     ]
    },
    {
     "name": "stdout",
     "output_type": "stream",
     "text": [
      "generate_samples :  0.7080960273742676\n",
      "time :  0.030286550521850586\n",
      "get_mc_stats 0.03078603744506836\n",
      "     cal jacobian  0.006005287170410156\n",
      "     cal F 0.0001666545867919922\n",
      "cal O and jac  0.0062444210052490234\n",
      "compute_update  0.0013811588287353516\n",
      "(-0.030180007834002924+0j)\n",
      "n_discard =  300\n",
      "discard samples 0.6420834064483643\n",
      "n_samples_node =  2000\n"
     ]
    },
    {
     "name": "stderr",
     "output_type": "stream",
     "text": [
      " 14%|█▍        | 42/300 [00:58<06:00,  1.40s/it, Energy=-0.50707+0.00000j ± 0.00036 [σ²=0.00021]]"
     ]
    },
    {
     "name": "stdout",
     "output_type": "stream",
     "text": [
      "generate_samples :  0.7143166065216064\n",
      "time :  0.03243732452392578\n",
      "get_mc_stats 0.03281068801879883\n",
      "     cal jacobian  0.006090402603149414\n",
      "     cal F 0.000213623046875\n",
      "cal O and jac  0.006472110748291016\n",
      "compute_update  0.0014379024505615234\n",
      "(-0.029586952898984102+0j)\n",
      "n_discard =  300\n",
      "discard samples 0.6487529277801514\n",
      "n_samples_node =  2000\n"
     ]
    },
    {
     "name": "stderr",
     "output_type": "stream",
     "text": [
      " 14%|█▍        | 43/300 [01:00<06:00,  1.40s/it, Energy=-0.50753+0.00000j ± 0.00033 [σ²=0.00023]]"
     ]
    },
    {
     "name": "stdout",
     "output_type": "stream",
     "text": [
      "generate_samples :  0.720353364944458\n",
      "time :  0.03573036193847656\n",
      "get_mc_stats 0.03630995750427246\n",
      "     cal jacobian  0.005186557769775391\n",
      "     cal F 0.000186920166015625\n",
      "cal O and jac  0.0055637359619140625\n",
      "compute_update  0.0014140605926513672\n",
      "(-0.029300563869397448+0j)\n",
      "n_discard =  300\n",
      "discard samples 0.6468210220336914\n",
      "n_samples_node =  2000\n"
     ]
    },
    {
     "name": "stderr",
     "output_type": "stream",
     "text": [
      " 15%|█▍        | 44/300 [01:01<05:59,  1.40s/it, Energy=-0.50730+0.00000j ± 0.00032 [σ²=0.00023]]"
     ]
    },
    {
     "name": "stdout",
     "output_type": "stream",
     "text": [
      "generate_samples :  0.7122666835784912\n",
      "time :  0.030088186264038086\n",
      "get_mc_stats 0.03057551383972168\n",
      "     cal jacobian  0.0062503814697265625\n",
      "     cal F 0.00012874603271484375\n",
      "cal O and jac  0.0065495967864990234\n",
      "compute_update  0.0017299652099609375\n",
      "(-0.029246685199474095+0j)\n",
      "n_discard =  300\n",
      "discard samples 0.6450314521789551\n",
      "n_samples_node =  2000\n"
     ]
    },
    {
     "name": "stderr",
     "output_type": "stream",
     "text": [
      " 15%|█▌        | 45/300 [01:03<05:57,  1.40s/it, Energy=-0.50699+0.00000j ± 0.00033 [σ²=0.00022]]"
     ]
    },
    {
     "name": "stdout",
     "output_type": "stream",
     "text": [
      "generate_samples :  0.7172207832336426\n",
      "time :  0.03355669975280762\n",
      "get_mc_stats 0.03401517868041992\n",
      "     cal jacobian  0.005640268325805664\n",
      "     cal F 0.00013875961303710938\n",
      "cal O and jac  0.006155252456665039\n",
      "compute_update  0.0013310909271240234\n",
      "(-0.029210942348842216+0j)\n",
      "n_discard =  300\n",
      "discard samples 0.6468725204467773\n",
      "n_samples_node =  2000\n"
     ]
    },
    {
     "name": "stderr",
     "output_type": "stream",
     "text": [
      " 15%|█▌        | 46/300 [01:04<05:55,  1.40s/it, Energy=-0.50722+0.00000j ± 0.00037 [σ²=0.00021]]"
     ]
    },
    {
     "name": "stdout",
     "output_type": "stream",
     "text": [
      "generate_samples :  0.7035415172576904\n",
      "time :  0.03137087821960449\n",
      "get_mc_stats 0.03195476531982422\n",
      "     cal jacobian  0.006086111068725586\n",
      "     cal F 0.0002713203430175781\n",
      "cal O and jac  0.006582021713256836\n",
      "compute_update  0.0015833377838134766\n",
      "(-0.02924994235187802+0j)\n",
      "n_discard =  300\n",
      "discard samples 0.6686186790466309\n",
      "n_samples_node =  2000\n"
     ]
    },
    {
     "name": "stderr",
     "output_type": "stream",
     "text": [
      " 16%|█▌        | 47/300 [01:05<05:56,  1.41s/it, Energy=-0.50780+0.00000j ± 0.00032 [σ²=0.00022]]"
     ]
    },
    {
     "name": "stdout",
     "output_type": "stream",
     "text": [
      "generate_samples :  0.7153141498565674\n",
      "time :  0.029741764068603516\n",
      "get_mc_stats 0.030232667922973633\n",
      "     cal jacobian  0.0061113834381103516\n",
      "     cal F 0.00016450881958007812\n",
      "cal O and jac  0.0065844058990478516\n",
      "compute_update  0.0015904903411865234\n",
      "(-0.02941133361646077+0j)\n",
      "n_discard =  300\n",
      "discard samples 0.651423454284668\n",
      "n_samples_node =  2000\n"
     ]
    },
    {
     "name": "stderr",
     "output_type": "stream",
     "text": [
      " 16%|█▌        | 48/300 [01:07<05:54,  1.41s/it, Energy=-0.50729+0.00000j ± 0.00041 [σ²=0.00022]]"
     ]
    },
    {
     "name": "stdout",
     "output_type": "stream",
     "text": [
      "generate_samples :  0.7222449779510498\n",
      "time :  0.024401426315307617\n",
      "get_mc_stats 0.024960994720458984\n",
      "     cal jacobian  0.005928754806518555\n",
      "     cal F 0.0002396106719970703\n",
      "cal O and jac  0.006251811981201172\n",
      "compute_update  0.0014827251434326172\n",
      "(-0.029635730496807178+0j)\n",
      "n_discard =  300\n",
      "discard samples 0.6432754993438721\n",
      "n_samples_node =  2000\n"
     ]
    },
    {
     "name": "stderr",
     "output_type": "stream",
     "text": [
      " 16%|█▋        | 49/300 [01:08<05:52,  1.41s/it, Energy=-0.50738+0.00000j ± 0.00037 [σ²=0.00022]]"
     ]
    },
    {
     "name": "stdout",
     "output_type": "stream",
     "text": [
      "generate_samples :  0.7123241424560547\n",
      "time :  0.03181290626525879\n",
      "get_mc_stats 0.03240036964416504\n",
      "     cal jacobian  0.005656719207763672\n",
      "     cal F 0.00020194053649902344\n",
      "cal O and jac  0.006084442138671875\n",
      "compute_update  0.0014770030975341797\n",
      "(-0.029897986581414262+0j)\n",
      "n_discard =  300\n",
      "discard samples 0.6418828964233398\n",
      "n_samples_node =  2000\n"
     ]
    },
    {
     "name": "stderr",
     "output_type": "stream",
     "text": [
      " 17%|█▋        | 50/300 [01:10<05:52,  1.41s/it, Energy=-0.50700+0.00000j ± 0.00033 [σ²=0.00021]]"
     ]
    },
    {
     "name": "stdout",
     "output_type": "stream",
     "text": [
      "generate_samples :  0.7309761047363281\n",
      "time :  0.03151226043701172\n",
      "get_mc_stats 0.03200268745422363\n",
      "     cal jacobian  0.006234169006347656\n",
      "     cal F 0.00015735626220703125\n",
      "cal O and jac  0.0065670013427734375\n",
      "compute_update  0.0019137859344482422\n",
      "(-0.03032633566810553+0j)\n",
      "n_discard =  300\n",
      "discard samples 0.6494593620300293\n",
      "n_samples_node =  2000\n"
     ]
    },
    {
     "name": "stderr",
     "output_type": "stream",
     "text": [
      " 17%|█▋        | 51/300 [01:11<05:51,  1.41s/it, Energy=-0.50725+0.00000j ± 0.00030 [σ²=0.00021]]"
     ]
    },
    {
     "name": "stdout",
     "output_type": "stream",
     "text": [
      "generate_samples :  0.7169444561004639\n",
      "time :  0.038424015045166016\n",
      "get_mc_stats 0.03890419006347656\n",
      "     cal jacobian  0.005295991897583008\n",
      "     cal F 0.00019860267639160156\n",
      "cal O and jac  0.005776166915893555\n",
      "compute_update  0.0017294883728027344\n",
      "(-0.030846113691411183+0j)\n",
      "n_discard =  300\n",
      "discard samples 0.6416549682617188\n",
      "n_samples_node =  2000\n"
     ]
    },
    {
     "name": "stderr",
     "output_type": "stream",
     "text": [
      " 17%|█▋        | 52/300 [01:12<05:48,  1.41s/it, Energy=-0.50698+0.00000j ± 0.00038 [σ²=0.00021]]"
     ]
    },
    {
     "name": "stdout",
     "output_type": "stream",
     "text": [
      "generate_samples :  0.7165021896362305\n",
      "time :  0.029264211654663086\n",
      "get_mc_stats 0.029720306396484375\n",
      "     cal jacobian  0.005959749221801758\n",
      "     cal F 0.00020432472229003906\n",
      "cal O and jac  0.0064508914947509766\n",
      "compute_update  0.001485586166381836\n",
      "(-0.031403400768022255+0j)\n",
      "n_discard =  300\n",
      "discard samples 0.6408238410949707\n",
      "n_samples_node =  2000\n"
     ]
    },
    {
     "name": "stderr",
     "output_type": "stream",
     "text": [
      " 18%|█▊        | 53/300 [01:14<05:46,  1.40s/it, Energy=-0.50735+0.00000j ± 0.00031 [σ²=0.00021]]"
     ]
    },
    {
     "name": "stdout",
     "output_type": "stream",
     "text": [
      "generate_samples :  0.7094242572784424\n",
      "time :  0.03262615203857422\n",
      "get_mc_stats 0.03314638137817383\n",
      "     cal jacobian  0.0059261322021484375\n",
      "     cal F 0.0001895427703857422\n",
      "cal O and jac  0.006302833557128906\n",
      "compute_update  0.0016446113586425781\n",
      "(-0.03195989839003804+0j)\n",
      "n_discard =  300\n",
      "discard samples 0.6445269584655762\n",
      "n_samples_node =  2000\n"
     ]
    },
    {
     "name": "stderr",
     "output_type": "stream",
     "text": [
      " 18%|█▊        | 54/300 [01:15<05:44,  1.40s/it, Energy=-0.50687+0.00000j ± 0.00036 [σ²=0.00022]]"
     ]
    },
    {
     "name": "stdout",
     "output_type": "stream",
     "text": [
      "generate_samples :  0.7143721580505371\n",
      "time :  0.029844045639038086\n",
      "get_mc_stats 0.030333280563354492\n",
      "     cal jacobian  0.006142616271972656\n",
      "     cal F 0.0002148151397705078\n",
      "cal O and jac  0.006425142288208008\n",
      "compute_update  0.0018045902252197266\n",
      "(-0.032684260581447945+0j)\n",
      "n_discard =  300\n",
      "discard samples 0.6370260715484619\n",
      "n_samples_node =  2000\n"
     ]
    },
    {
     "name": "stderr",
     "output_type": "stream",
     "text": [
      " 18%|█▊        | 55/300 [01:17<05:43,  1.40s/it, Energy=-0.50719+0.00000j ± 0.00029 [σ²=0.00020]]"
     ]
    },
    {
     "name": "stdout",
     "output_type": "stream",
     "text": [
      "generate_samples :  0.7206251621246338\n",
      "time :  0.032598257064819336\n",
      "get_mc_stats 0.03306007385253906\n",
      "     cal jacobian  0.00548863410949707\n",
      "     cal F 9.393692016601562e-05\n",
      "cal O and jac  0.006041049957275391\n",
      "compute_update  0.0014793872833251953\n",
      "(-0.03340291647194167+0j)\n",
      "n_discard =  300\n",
      "discard samples 0.653350830078125\n",
      "n_samples_node =  2000\n"
     ]
    },
    {
     "name": "stderr",
     "output_type": "stream",
     "text": [
      " 19%|█▊        | 56/300 [01:18<05:42,  1.40s/it, Energy=-0.50773+0.00000j ± 0.00034 [σ²=0.00024]]"
     ]
    },
    {
     "name": "stdout",
     "output_type": "stream",
     "text": [
      "generate_samples :  0.7130413055419922\n",
      "time :  0.030635356903076172\n",
      "get_mc_stats 0.031215667724609375\n",
      "     cal jacobian  0.0065577030181884766\n",
      "     cal F 0.00020003318786621094\n",
      "cal O and jac  0.006967306137084961\n",
      "compute_update  0.002018451690673828\n",
      "(-0.03415194928266089+0j)\n",
      "n_discard =  300\n",
      "discard samples 0.6629981994628906\n",
      "n_samples_node =  2000\n"
     ]
    },
    {
     "name": "stderr",
     "output_type": "stream",
     "text": [
      " 19%|█▉        | 57/300 [01:20<05:41,  1.41s/it, Energy=-0.50745+0.00000j ± 0.00035 [σ²=0.00024]]"
     ]
    },
    {
     "name": "stdout",
     "output_type": "stream",
     "text": [
      "generate_samples :  0.7095985412597656\n",
      "time :  0.031146526336669922\n",
      "get_mc_stats 0.03172183036804199\n",
      "     cal jacobian  0.005213499069213867\n",
      "     cal F 0.00020432472229003906\n",
      "cal O and jac  0.0055522918701171875\n",
      "compute_update  0.0013718605041503906\n",
      "(-0.034890906526177067+0j)\n",
      "n_discard =  300\n",
      "discard samples 0.6441607475280762\n",
      "n_samples_node =  2000\n"
     ]
    },
    {
     "name": "stderr",
     "output_type": "stream",
     "text": [
      " 19%|█▉        | 58/300 [01:21<05:39,  1.40s/it, Energy=-0.50735+0.00000j ± 0.00032 [σ²=0.00022]]"
     ]
    },
    {
     "name": "stdout",
     "output_type": "stream",
     "text": [
      "generate_samples :  0.7108361721038818\n",
      "time :  0.027821063995361328\n",
      "get_mc_stats 0.028401851654052734\n",
      "     cal jacobian  0.006211280822753906\n",
      "     cal F 0.000141143798828125\n",
      "cal O and jac  0.006801605224609375\n",
      "compute_update  0.001348257064819336\n",
      "(-0.03563919523002785+0j)\n",
      "n_discard =  300\n",
      "discard samples 0.6392810344696045\n",
      "n_samples_node =  2000\n"
     ]
    },
    {
     "name": "stderr",
     "output_type": "stream",
     "text": [
      " 20%|█▉        | 59/300 [01:22<05:37,  1.40s/it, Energy=-0.50715+0.00000j ± 0.00036 [σ²=0.00024]]"
     ]
    },
    {
     "name": "stdout",
     "output_type": "stream",
     "text": [
      "generate_samples :  0.7100255489349365\n",
      "time :  0.03191804885864258\n",
      "get_mc_stats 0.03243422508239746\n",
      "     cal jacobian  0.005852699279785156\n",
      "     cal F 0.0001761913299560547\n",
      "cal O and jac  0.006208896636962891\n",
      "compute_update  0.0016827583312988281\n",
      "(-0.03638890552157061+0j)\n",
      "n_discard =  300\n",
      "discard samples 0.6482152938842773\n",
      "n_samples_node =  2000\n"
     ]
    },
    {
     "name": "stderr",
     "output_type": "stream",
     "text": [
      " 20%|██        | 60/300 [01:24<05:35,  1.40s/it, Energy=-0.50708+0.00000j ± 0.00027 [σ²=0.00021]]"
     ]
    },
    {
     "name": "stdout",
     "output_type": "stream",
     "text": [
      "generate_samples :  0.7094314098358154\n",
      "time :  0.030832529067993164\n",
      "get_mc_stats 0.03138875961303711\n",
      "     cal jacobian  0.006186962127685547\n",
      "     cal F 0.0001373291015625\n",
      "cal O and jac  0.0066585540771484375\n",
      "compute_update  0.0013625621795654297\n",
      "(-0.03715402867659701+0j)\n",
      "n_discard =  300\n",
      "discard samples 0.6482646465301514\n",
      "n_samples_node =  2000\n"
     ]
    },
    {
     "name": "stderr",
     "output_type": "stream",
     "text": [
      " 20%|██        | 61/300 [01:25<05:35,  1.41s/it, Energy=-0.50716+0.00000j ± 0.00025 [σ²=0.00020]]"
     ]
    },
    {
     "name": "stdout",
     "output_type": "stream",
     "text": [
      "generate_samples :  0.7300770282745361\n",
      "time :  0.030667781829833984\n",
      "get_mc_stats 0.03128385543823242\n",
      "     cal jacobian  0.005611419677734375\n",
      "     cal F 0.00020265579223632812\n",
      "cal O and jac  0.006015777587890625\n",
      "compute_update  0.0013308525085449219\n",
      "(-0.03794075629217339+0j)\n",
      "n_discard =  300\n",
      "discard samples 0.6422402858734131\n",
      "n_samples_node =  2000\n"
     ]
    },
    {
     "name": "stderr",
     "output_type": "stream",
     "text": [
      " 21%|██        | 62/300 [01:26<05:33,  1.40s/it, Energy=-0.50739+0.00000j ± 0.00038 [σ²=0.00021]]"
     ]
    },
    {
     "name": "stdout",
     "output_type": "stream",
     "text": [
      "generate_samples :  0.7111337184906006\n",
      "time :  0.028215885162353516\n",
      "get_mc_stats 0.02872157096862793\n",
      "     cal jacobian  0.006169557571411133\n",
      "     cal F 0.0001971721649169922\n",
      "cal O and jac  0.00655674934387207\n",
      "compute_update  0.00135040283203125\n",
      "(-0.038752044307917996+0j)\n",
      "n_discard =  300\n",
      "discard samples 0.6390032768249512\n",
      "n_samples_node =  2000\n"
     ]
    },
    {
     "name": "stderr",
     "output_type": "stream",
     "text": [
      " 21%|██        | 63/300 [01:28<05:31,  1.40s/it, Energy=-0.50730+0.00000j ± 0.00030 [σ²=0.00023]]"
     ]
    },
    {
     "name": "stdout",
     "output_type": "stream",
     "text": [
      "generate_samples :  0.7114055156707764\n",
      "time :  0.0319514274597168\n",
      "get_mc_stats 0.032460927963256836\n",
      "     cal jacobian  0.00524592399597168\n",
      "     cal F 0.00020360946655273438\n",
      "cal O and jac  0.005640983581542969\n",
      "compute_update  0.0012621879577636719\n",
      "(-0.03956976476327035+0j)\n",
      "n_discard =  300\n",
      "discard samples 0.6527559757232666\n",
      "n_samples_node =  2000\n"
     ]
    },
    {
     "name": "stderr",
     "output_type": "stream",
     "text": [
      " 21%|██▏       | 64/300 [01:29<05:30,  1.40s/it, Energy=-0.50765+0.00000j ± 0.00032 [σ²=0.00022]]"
     ]
    },
    {
     "name": "stdout",
     "output_type": "stream",
     "text": [
      "generate_samples :  0.7085049152374268\n",
      "time :  0.03168129920959473\n",
      "get_mc_stats 0.03219437599182129\n",
      "     cal jacobian  0.006104946136474609\n",
      "     cal F 0.0001957416534423828\n",
      "cal O and jac  0.006489992141723633\n",
      "compute_update  0.0013039112091064453\n",
      "(-0.040392529589354666+0j)\n",
      "n_discard =  300\n",
      "discard samples 0.6521780490875244\n",
      "n_samples_node =  2000\n"
     ]
    },
    {
     "name": "stderr",
     "output_type": "stream",
     "text": [
      " 22%|██▏       | 65/300 [01:31<05:29,  1.40s/it, Energy=-0.50767+0.00000j ± 0.00031 [σ²=0.00020]]"
     ]
    },
    {
     "name": "stdout",
     "output_type": "stream",
     "text": [
      "generate_samples :  0.7140655517578125\n",
      "time :  0.024188995361328125\n",
      "get_mc_stats 0.02475762367248535\n",
      "     cal jacobian  0.005445241928100586\n",
      "     cal F 0.0001990795135498047\n",
      "cal O and jac  0.005841970443725586\n",
      "compute_update  0.0012798309326171875\n",
      "(-0.041217411780816074+0j)\n",
      "n_discard =  300\n",
      "discard samples 0.6495053768157959\n",
      "n_samples_node =  2000\n"
     ]
    },
    {
     "name": "stderr",
     "output_type": "stream",
     "text": [
      " 22%|██▏       | 66/300 [01:32<05:27,  1.40s/it, Energy=-0.50703+0.00000j ± 0.00028 [σ²=0.00020]]"
     ]
    },
    {
     "name": "stdout",
     "output_type": "stream",
     "text": [
      "generate_samples :  0.7104754447937012\n",
      "time :  0.02903127670288086\n",
      "get_mc_stats 0.029566526412963867\n",
      "     cal jacobian  0.006090402603149414\n",
      "     cal F 0.00017070770263671875\n",
      "cal O and jac  0.006459951400756836\n",
      "compute_update  0.0013632774353027344\n",
      "(-0.04207099131431994+0j)\n",
      "n_discard =  300\n",
      "discard samples 0.6463325023651123\n",
      "n_samples_node =  2000\n"
     ]
    },
    {
     "name": "stderr",
     "output_type": "stream",
     "text": [
      " 22%|██▏       | 67/300 [01:33<05:26,  1.40s/it, Energy=-0.50747+0.00000j ± 0.00034 [σ²=0.00022]]"
     ]
    },
    {
     "name": "stdout",
     "output_type": "stream",
     "text": [
      "generate_samples :  0.7140562534332275\n",
      "time :  0.031038284301757812\n",
      "get_mc_stats 0.03162527084350586\n",
      "     cal jacobian  0.005620718002319336\n",
      "     cal F 0.00020742416381835938\n",
      "cal O and jac  0.005910158157348633\n",
      "compute_update  0.0012078285217285156\n",
      "(-0.04292422680485084+0j)\n",
      "n_discard =  300\n",
      "discard samples 0.6426975727081299\n",
      "n_samples_node =  2000\n"
     ]
    },
    {
     "name": "stderr",
     "output_type": "stream",
     "text": [
      " 23%|██▎       | 68/300 [01:35<05:24,  1.40s/it, Energy=-0.50739+0.00000j ± 0.00029 [σ²=0.00020]]"
     ]
    },
    {
     "name": "stdout",
     "output_type": "stream",
     "text": [
      "generate_samples :  0.712186336517334\n",
      "time :  0.029714345932006836\n",
      "get_mc_stats 0.030308008193969727\n",
      "     cal jacobian  0.0065364837646484375\n",
      "     cal F 0.0002269744873046875\n",
      "cal O and jac  0.006845951080322266\n",
      "compute_update  0.0013756752014160156\n",
      "(-0.04377738305947368+0j)\n",
      "n_discard =  300\n",
      "discard samples 0.6483669281005859\n",
      "n_samples_node =  2000\n"
     ]
    },
    {
     "name": "stderr",
     "output_type": "stream",
     "text": [
      " 23%|██▎       | 69/300 [01:36<05:23,  1.40s/it, Energy=-0.50700+0.00000j ± 0.00031 [σ²=0.00021]]"
     ]
    },
    {
     "name": "stdout",
     "output_type": "stream",
     "text": [
      "generate_samples :  0.716771125793457\n",
      "time :  0.03162741661071777\n",
      "get_mc_stats 0.03218650817871094\n",
      "     cal jacobian  0.00528407096862793\n",
      "     cal F 0.00019121170043945312\n",
      "cal O and jac  0.005671262741088867\n",
      "compute_update  0.0012907981872558594\n",
      "(-0.044636723984132+0j)\n",
      "n_discard =  300\n",
      "discard samples 0.6466917991638184\n",
      "n_samples_node =  2000\n"
     ]
    },
    {
     "name": "stderr",
     "output_type": "stream",
     "text": [
      " 23%|██▎       | 70/300 [01:38<05:22,  1.40s/it, Energy=-0.50745+0.00000j ± 0.00024 [σ²=0.00021]]"
     ]
    },
    {
     "name": "stdout",
     "output_type": "stream",
     "text": [
      "generate_samples :  0.71559739112854\n",
      "time :  0.030370473861694336\n",
      "get_mc_stats 0.030833005905151367\n",
      "     cal jacobian  0.006144046783447266\n",
      "     cal F 0.0002193450927734375\n",
      "cal O and jac  0.0066585540771484375\n",
      "compute_update  0.0013549327850341797\n",
      "(-0.04549041104952307+0j)\n",
      "n_discard =  300\n",
      "discard samples 0.6452090740203857\n",
      "n_samples_node =  2000\n"
     ]
    },
    {
     "name": "stderr",
     "output_type": "stream",
     "text": [
      " 24%|██▎       | 71/300 [01:39<05:21,  1.40s/it, Energy=-0.50728+0.00000j ± 0.00027 [σ²=0.00018]]"
     ]
    },
    {
     "name": "stdout",
     "output_type": "stream",
     "text": [
      "generate_samples :  0.7156410217285156\n",
      "time :  0.02987217903137207\n",
      "get_mc_stats 0.030366182327270508\n",
      "     cal jacobian  0.005896329879760742\n",
      "     cal F 0.00020837783813476562\n",
      "cal O and jac  0.0063991546630859375\n",
      "compute_update  0.0013446807861328125\n",
      "(-0.04633645026544087+0j)\n",
      "n_discard =  300\n",
      "discard samples 0.6454124450683594\n",
      "n_samples_node =  2000\n"
     ]
    },
    {
     "name": "stderr",
     "output_type": "stream",
     "text": [
      " 24%|██▍       | 72/300 [01:41<05:19,  1.40s/it, Energy=-0.50791+0.00000j ± 0.00037 [σ²=0.00021]]"
     ]
    },
    {
     "name": "stdout",
     "output_type": "stream",
     "text": [
      "generate_samples :  0.7174763679504395\n",
      "time :  0.0318293571472168\n",
      "get_mc_stats 0.03231191635131836\n",
      "     cal jacobian  0.0063059329986572266\n",
      "     cal F 0.0002460479736328125\n",
      "cal O and jac  0.006836652755737305\n",
      "compute_update  0.0014896392822265625\n",
      "(-0.04721654926295228+0j)\n",
      "n_discard =  300\n",
      "discard samples 0.6460998058319092\n",
      "n_samples_node =  2000\n"
     ]
    },
    {
     "name": "stderr",
     "output_type": "stream",
     "text": [
      " 24%|██▍       | 73/300 [01:42<05:18,  1.40s/it, Energy=-0.50776+0.00000j ± 0.00026 [σ²=0.00021]]"
     ]
    },
    {
     "name": "stdout",
     "output_type": "stream",
     "text": [
      "generate_samples :  0.7097969055175781\n",
      "time :  0.03090381622314453\n",
      "get_mc_stats 0.03149914741516113\n",
      "     cal jacobian  0.005466461181640625\n",
      "     cal F 0.00020194053649902344\n",
      "cal O and jac  0.0058917999267578125\n",
      "compute_update  0.0011398792266845703\n",
      "(-0.04809082459118178+0j)\n",
      "n_discard =  300\n",
      "discard samples 0.6445934772491455\n",
      "n_samples_node =  2000\n"
     ]
    },
    {
     "name": "stderr",
     "output_type": "stream",
     "text": [
      " 25%|██▍       | 74/300 [01:43<05:16,  1.40s/it, Energy=-0.50732+0.00000j ± 0.00033 [σ²=0.00020]]"
     ]
    },
    {
     "name": "stdout",
     "output_type": "stream",
     "text": [
      "generate_samples :  0.7105679512023926\n",
      "time :  0.028704404830932617\n",
      "get_mc_stats 0.02915477752685547\n",
      "     cal jacobian  0.006374835968017578\n",
      "     cal F 0.00010752677917480469\n",
      "cal O and jac  0.00661778450012207\n",
      "compute_update  0.0012090206146240234\n",
      "(-0.048965238714507885+0j)\n",
      "n_discard =  300\n",
      "discard samples 0.6403698921203613\n",
      "n_samples_node =  2000\n"
     ]
    },
    {
     "name": "stderr",
     "output_type": "stream",
     "text": [
      " 25%|██▌       | 75/300 [01:45<05:14,  1.40s/it, Energy=-0.50751+0.00000j ± 0.00027 [σ²=0.00019]]"
     ]
    },
    {
     "name": "stdout",
     "output_type": "stream",
     "text": [
      "generate_samples :  0.7078180313110352\n",
      "time :  0.033208370208740234\n",
      "get_mc_stats 0.03382420539855957\n",
      "     cal jacobian  0.005728483200073242\n",
      "     cal F 0.00020241737365722656\n",
      "cal O and jac  0.006262063980102539\n",
      "compute_update  0.0011391639709472656\n",
      "(-0.04984850012579664+0j)\n",
      "n_discard =  300\n",
      "discard samples 0.6695287227630615\n",
      "n_samples_node =  2000\n"
     ]
    },
    {
     "name": "stderr",
     "output_type": "stream",
     "text": [
      " 25%|██▌       | 76/300 [01:46<05:14,  1.41s/it, Energy=-0.50780+0.00000j ± 0.00031 [σ²=0.00021]]"
     ]
    },
    {
     "name": "stdout",
     "output_type": "stream",
     "text": [
      "generate_samples :  0.7146930694580078\n",
      "time :  0.028905391693115234\n",
      "get_mc_stats 0.029453754425048828\n",
      "     cal jacobian  0.006058454513549805\n",
      "     cal F 0.00022125244140625\n",
      "cal O and jac  0.0064852237701416016\n",
      "compute_update  0.0014395713806152344\n",
      "(-0.05073962515128931+0j)\n",
      "n_discard =  300\n",
      "discard samples 0.6435904502868652\n",
      "n_samples_node =  2000\n"
     ]
    },
    {
     "name": "stderr",
     "output_type": "stream",
     "text": [
      " 26%|██▌       | 77/300 [01:48<05:12,  1.40s/it, Energy=-0.50723+0.00000j ± 0.00026 [σ²=0.00018]]"
     ]
    },
    {
     "name": "stdout",
     "output_type": "stream",
     "text": [
      "generate_samples :  0.7144660949707031\n",
      "time :  0.02879810333251953\n",
      "get_mc_stats 0.029268741607666016\n",
      "     cal jacobian  0.005788326263427734\n",
      "     cal F 0.00020051002502441406\n",
      "cal O and jac  0.0062673091888427734\n",
      "compute_update  0.0013763904571533203\n",
      "(-0.051618583654626925+0j)\n",
      "n_discard =  300\n",
      "discard samples 0.636981725692749\n",
      "n_samples_node =  2000\n"
     ]
    },
    {
     "name": "stderr",
     "output_type": "stream",
     "text": [
      " 26%|██▌       | 78/300 [01:49<05:10,  1.40s/it, Energy=-0.50730+0.00000j ± 0.00034 [σ²=0.00017]]"
     ]
    },
    {
     "name": "stdout",
     "output_type": "stream",
     "text": [
      "generate_samples :  0.712925910949707\n",
      "time :  0.023717880249023438\n",
      "get_mc_stats 0.024165868759155273\n",
      "     cal jacobian  0.006122112274169922\n",
      "     cal F 0.00021028518676757812\n",
      "cal O and jac  0.0066258907318115234\n",
      "compute_update  0.0014014244079589844\n",
      "(-0.05250421522010944+0j)\n",
      "n_discard =  300\n",
      "discard samples 0.6427676677703857\n",
      "n_samples_node =  2000\n"
     ]
    },
    {
     "name": "stderr",
     "output_type": "stream",
     "text": [
      " 26%|██▋       | 79/300 [01:50<05:08,  1.40s/it, Energy=-0.50699+0.00000j ± 0.00025 [σ²=0.00018]]"
     ]
    },
    {
     "name": "stdout",
     "output_type": "stream",
     "text": [
      "generate_samples :  0.7099752426147461\n",
      "time :  0.029538869857788086\n",
      "get_mc_stats 0.030008792877197266\n",
      "     cal jacobian  0.0055158138275146484\n",
      "     cal F 0.00020551681518554688\n",
      "cal O and jac  0.006108760833740234\n",
      "compute_update  0.0012826919555664062\n",
      "(-0.053401352386919974+0j)\n",
      "n_discard =  300\n",
      "discard samples 0.6425879001617432\n",
      "n_samples_node =  2000\n"
     ]
    },
    {
     "name": "stderr",
     "output_type": "stream",
     "text": [
      " 27%|██▋       | 80/300 [01:52<05:07,  1.40s/it, Energy=-0.50751+0.00000j ± 0.00025 [σ²=0.00020]]"
     ]
    },
    {
     "name": "stdout",
     "output_type": "stream",
     "text": [
      "generate_samples :  0.7141900062561035\n",
      "time :  0.026844501495361328\n",
      "get_mc_stats 0.027278900146484375\n",
      "     cal jacobian  0.006179332733154297\n",
      "     cal F 9.274482727050781e-05\n",
      "cal O and jac  0.006761312484741211\n",
      "compute_update  0.0013279914855957031\n",
      "(-0.05430461193367244+0j)\n",
      "n_discard =  300\n",
      "discard samples 0.6466436386108398\n",
      "n_samples_node =  2000\n"
     ]
    },
    {
     "name": "stderr",
     "output_type": "stream",
     "text": [
      " 27%|██▋       | 81/300 [01:53<05:06,  1.40s/it, Energy=-0.50796+0.00000j ± 0.00032 [σ²=0.00020]]"
     ]
    },
    {
     "name": "stdout",
     "output_type": "stream",
     "text": [
      "generate_samples :  0.7159290313720703\n",
      "time :  0.03189396858215332\n",
      "get_mc_stats 0.032364606857299805\n",
      "     cal jacobian  0.005403041839599609\n",
      "     cal F 0.00019669532775878906\n",
      "cal O and jac  0.005886077880859375\n",
      "compute_update  0.0012917518615722656\n",
      "(-0.05520907325971069+0j)\n",
      "n_discard =  300\n",
      "discard samples 0.640751838684082\n",
      "n_samples_node =  2000\n"
     ]
    },
    {
     "name": "stderr",
     "output_type": "stream",
     "text": [
      " 27%|██▋       | 82/300 [01:54<05:04,  1.40s/it, Energy=-0.50729+0.00000j ± 0.00031 [σ²=0.00018]]"
     ]
    },
    {
     "name": "stdout",
     "output_type": "stream",
     "text": [
      "generate_samples :  0.7143683433532715\n",
      "time :  0.028041839599609375\n",
      "get_mc_stats 0.02848029136657715\n",
      "     cal jacobian  0.005903959274291992\n",
      "     cal F 0.0002186298370361328\n",
      "cal O and jac  0.006413698196411133\n",
      "compute_update  0.0012934207916259766\n",
      "(-0.05609504787880984+0j)\n",
      "n_discard =  300\n",
      "discard samples 0.638145923614502\n",
      "n_samples_node =  2000\n"
     ]
    },
    {
     "name": "stderr",
     "output_type": "stream",
     "text": [
      " 28%|██▊       | 83/300 [01:56<05:02,  1.39s/it, Energy=-0.50710+0.00000j ± 0.00029 [σ²=0.00019]]"
     ]
    },
    {
     "name": "stdout",
     "output_type": "stream",
     "text": [
      "generate_samples :  0.7072486877441406\n",
      "time :  0.031522274017333984\n",
      "get_mc_stats 0.03200507164001465\n",
      "     cal jacobian  0.006249189376831055\n",
      "     cal F 0.0002110004425048828\n",
      "cal O and jac  0.006753206253051758\n",
      "compute_update  0.001346588134765625\n",
      "(-0.05699448003099295+0j)\n",
      "n_discard =  300\n",
      "discard samples 0.6481053829193115\n",
      "n_samples_node =  2000\n"
     ]
    },
    {
     "name": "stderr",
     "output_type": "stream",
     "text": [
      " 28%|██▊       | 84/300 [01:57<05:01,  1.40s/it, Energy=-0.50763+0.00000j ± 0.00032 [σ²=0.00018]]"
     ]
    },
    {
     "name": "stdout",
     "output_type": "stream",
     "text": [
      "generate_samples :  0.7178101539611816\n",
      "time :  0.02820730209350586\n",
      "get_mc_stats 0.02880072593688965\n",
      "     cal jacobian  0.0059604644775390625\n",
      "     cal F 0.0002834796905517578\n",
      "cal O and jac  0.006483793258666992\n",
      "compute_update  0.0014619827270507812\n",
      "(-0.05788208137066117+0j)\n",
      "n_discard =  300\n",
      "discard samples 0.6447319984436035\n",
      "n_samples_node =  2000\n"
     ]
    },
    {
     "name": "stderr",
     "output_type": "stream",
     "text": [
      " 28%|██▊       | 85/300 [01:59<05:00,  1.40s/it, Energy=-0.50731+0.00000j ± 0.00028 [σ²=0.00017]]"
     ]
    },
    {
     "name": "stdout",
     "output_type": "stream",
     "text": [
      "generate_samples :  0.7166049480438232\n",
      "time :  0.028667926788330078\n",
      "get_mc_stats 0.029250383377075195\n",
      "     cal jacobian  0.005383729934692383\n",
      "     cal F 0.0002665519714355469\n",
      "cal O and jac  0.0057222843170166016\n",
      "compute_update  0.001112222671508789\n",
      "(-0.05877864199991177+0j)\n",
      "n_discard =  300\n",
      "discard samples 0.6528451442718506\n",
      "n_samples_node =  2000\n"
     ]
    },
    {
     "name": "stderr",
     "output_type": "stream",
     "text": [
      " 29%|██▊       | 86/300 [02:00<04:59,  1.40s/it, Energy=-0.50768+0.00000j ± 0.00028 [σ²=0.00018]]"
     ]
    },
    {
     "name": "stdout",
     "output_type": "stream",
     "text": [
      "generate_samples :  0.7122073173522949\n",
      "time :  0.023694276809692383\n",
      "get_mc_stats 0.024170398712158203\n",
      "     cal jacobian  0.006235837936401367\n",
      "     cal F 9.608268737792969e-05\n",
      "cal O and jac  0.006493330001831055\n",
      "compute_update  0.0013127326965332031\n",
      "(-0.05967526787745159+0j)\n",
      "n_discard =  300\n",
      "discard samples 0.6394138336181641\n",
      "n_samples_node =  2000\n"
     ]
    },
    {
     "name": "stderr",
     "output_type": "stream",
     "text": [
      " 29%|██▉       | 87/300 [02:01<04:56,  1.39s/it, Energy=-0.50775+0.00000j ± 0.00026 [σ²=0.00018]]"
     ]
    },
    {
     "name": "stdout",
     "output_type": "stream",
     "text": [
      "generate_samples :  0.7065081596374512\n",
      "time :  0.025982379913330078\n",
      "get_mc_stats 0.02651500701904297\n",
      "     cal jacobian  0.005446195602416992\n",
      "     cal F 0.00010442733764648438\n",
      "cal O and jac  0.005946159362792969\n",
      "compute_update  0.0012128353118896484\n",
      "(-0.06058039034653857+0j)\n",
      "n_discard =  300\n",
      "discard samples 0.6418356895446777\n",
      "n_samples_node =  2000\n"
     ]
    },
    {
     "name": "stderr",
     "output_type": "stream",
     "text": [
      " 29%|██▉       | 88/300 [02:03<04:55,  1.39s/it, Energy=-0.50733+0.00000j ± 0.00028 [σ²=0.00016]]"
     ]
    },
    {
     "name": "stdout",
     "output_type": "stream",
     "text": [
      "generate_samples :  0.7099864482879639\n",
      "time :  0.03214406967163086\n",
      "get_mc_stats 0.032593488693237305\n",
      "     cal jacobian  0.006249904632568359\n",
      "     cal F 0.00021958351135253906\n",
      "cal O and jac  0.006762981414794922\n",
      "compute_update  0.0013666152954101562\n",
      "(-0.06148193429319862+0j)\n",
      "n_discard =  300\n",
      "discard samples 0.6441206932067871\n",
      "n_samples_node =  2000\n"
     ]
    },
    {
     "name": "stderr",
     "output_type": "stream",
     "text": [
      " 30%|██▉       | 89/300 [02:04<04:54,  1.39s/it, Energy=-0.50722+0.00000j ± 0.00030 [σ²=0.00016]]"
     ]
    },
    {
     "name": "stdout",
     "output_type": "stream",
     "text": [
      "generate_samples :  0.7103729248046875\n",
      "time :  0.029392242431640625\n",
      "get_mc_stats 0.029963016510009766\n",
      "     cal jacobian  0.0058498382568359375\n",
      "     cal F 0.000194549560546875\n",
      "cal O and jac  0.006245136260986328\n",
      "compute_update  0.0013375282287597656\n",
      "(-0.0623958650529438+0j)\n",
      "n_discard =  300\n",
      "discard samples 0.6529054641723633\n",
      "n_samples_node =  2000\n"
     ]
    },
    {
     "name": "stderr",
     "output_type": "stream",
     "text": [
      " 30%|███       | 90/300 [02:06<04:53,  1.40s/it, Energy=-0.50739+0.00000j ± 0.00032 [σ²=0.00016]]"
     ]
    },
    {
     "name": "stdout",
     "output_type": "stream",
     "text": [
      "generate_samples :  0.7121355533599854\n",
      "time :  0.027727365493774414\n",
      "get_mc_stats 0.028235912322998047\n",
      "     cal jacobian  0.006029844284057617\n",
      "     cal F 0.00019860267639160156\n",
      "cal O and jac  0.006427764892578125\n",
      "compute_update  0.0012526512145996094\n",
      "(-0.06328956436577882+0j)\n",
      "n_discard =  300\n",
      "discard samples 0.6477231979370117\n",
      "n_samples_node =  2000\n"
     ]
    },
    {
     "name": "stderr",
     "output_type": "stream",
     "text": [
      " 30%|███       | 91/300 [02:07<04:52,  1.40s/it, Energy=-0.50777+0.00000j ± 0.00026 [σ²=0.00018]]"
     ]
    },
    {
     "name": "stdout",
     "output_type": "stream",
     "text": [
      "generate_samples :  0.7173058986663818\n",
      "time :  0.02892160415649414\n",
      "get_mc_stats 0.029457569122314453\n",
      "     cal jacobian  0.005391836166381836\n",
      "     cal F 0.00018548965454101562\n",
      "cal O and jac  0.0056645870208740234\n",
      "compute_update  0.0013659000396728516\n",
      "(-0.06417712591494815+0j)\n",
      "n_discard =  300\n",
      "discard samples 0.6435110569000244\n",
      "n_samples_node =  2000\n"
     ]
    },
    {
     "name": "stderr",
     "output_type": "stream",
     "text": [
      " 31%|███       | 92/300 [02:08<04:50,  1.40s/it, Energy=-0.50747+0.00000j ± 0.00031 [σ²=0.00017]]"
     ]
    },
    {
     "name": "stdout",
     "output_type": "stream",
     "text": [
      "generate_samples :  0.7103152275085449\n",
      "time :  0.028887033462524414\n",
      "get_mc_stats 0.029368162155151367\n",
      "     cal jacobian  0.006890296936035156\n",
      "     cal F 0.0002319812774658203\n",
      "cal O and jac  0.007429599761962891\n",
      "compute_update  0.0014297962188720703\n",
      "(-0.06504820711577182+0j)\n",
      "n_discard =  300\n",
      "discard samples 0.6452009677886963\n",
      "n_samples_node =  2000\n"
     ]
    },
    {
     "name": "stderr",
     "output_type": "stream",
     "text": [
      " 31%|███       | 93/300 [02:10<04:49,  1.40s/it, Energy=-0.50732+0.00000j ± 0.00028 [σ²=0.00015]]"
     ]
    },
    {
     "name": "stdout",
     "output_type": "stream",
     "text": [
      "generate_samples :  0.7120420932769775\n",
      "time :  0.030938386917114258\n",
      "get_mc_stats 0.031432390213012695\n",
      "     cal jacobian  0.005400180816650391\n",
      "     cal F 0.00021028518676757812\n",
      "cal O and jac  0.00590062141418457\n",
      "compute_update  0.0012009143829345703\n",
      "(-0.06591491156465232+0j)\n",
      "n_discard =  300\n",
      "discard samples 0.6508255004882812\n",
      "n_samples_node =  2000\n"
     ]
    },
    {
     "name": "stderr",
     "output_type": "stream",
     "text": [
      " 31%|███▏      | 94/300 [02:11<04:48,  1.40s/it, Energy=-0.50769+0.00000j ± 0.00028 [σ²=0.00016]]"
     ]
    },
    {
     "name": "stdout",
     "output_type": "stream",
     "text": [
      "generate_samples :  0.714092493057251\n",
      "time :  0.028279542922973633\n",
      "get_mc_stats 0.02875661849975586\n",
      "     cal jacobian  0.005867481231689453\n",
      "     cal F 0.0001316070556640625\n",
      "cal O and jac  0.0060765743255615234\n",
      "compute_update  0.0012409687042236328\n",
      "(-0.06679853681685533+0j)\n",
      "n_discard =  300\n",
      "discard samples 0.6386232376098633\n",
      "n_samples_node =  2000\n"
     ]
    },
    {
     "name": "stderr",
     "output_type": "stream",
     "text": [
      " 32%|███▏      | 95/300 [02:13<04:46,  1.40s/it, Energy=-0.50732+0.00000j ± 0.00032 [σ²=0.00015]]"
     ]
    },
    {
     "name": "stdout",
     "output_type": "stream",
     "text": [
      "generate_samples :  0.7137389183044434\n",
      "time :  0.031041383743286133\n",
      "get_mc_stats 0.031529903411865234\n",
      "     cal jacobian  0.005982637405395508\n",
      "     cal F 0.00015687942504882812\n",
      "cal O and jac  0.006213665008544922\n",
      "compute_update  0.0011181831359863281\n",
      "(-0.06765148932614723+0j)\n",
      "n_discard =  300\n",
      "discard samples 0.6486616134643555\n",
      "n_samples_node =  2000\n"
     ]
    },
    {
     "name": "stderr",
     "output_type": "stream",
     "text": [
      " 32%|███▏      | 96/300 [02:14<04:46,  1.40s/it, Energy=-0.50736+0.00000j ± 0.00025 [σ²=0.00014]]"
     ]
    },
    {
     "name": "stdout",
     "output_type": "stream",
     "text": [
      "generate_samples :  0.7275617122650146\n",
      "time :  0.029151201248168945\n",
      "get_mc_stats 0.029732704162597656\n",
      "     cal jacobian  0.006058692932128906\n",
      "     cal F 0.0002613067626953125\n",
      "cal O and jac  0.006545543670654297\n",
      "compute_update  0.0011572837829589844\n",
      "(-0.06850645397627092+0j)\n",
      "n_discard =  300\n",
      "discard samples 0.6533634662628174\n",
      "n_samples_node =  2000\n"
     ]
    },
    {
     "name": "stderr",
     "output_type": "stream",
     "text": [
      " 32%|███▏      | 97/300 [02:15<04:44,  1.40s/it, Energy=-0.50703+0.00000j ± 0.00030 [σ²=0.00014]]"
     ]
    },
    {
     "name": "stdout",
     "output_type": "stream",
     "text": [
      "generate_samples :  0.7081794738769531\n",
      "time :  0.02952265739440918\n",
      "get_mc_stats 0.030086994171142578\n",
      "     cal jacobian  0.005421161651611328\n",
      "     cal F 0.0002636909484863281\n",
      "cal O and jac  0.005762815475463867\n",
      "compute_update  0.0013568401336669922\n",
      "(-0.06937908237151112+0j)\n",
      "n_discard =  300\n",
      "discard samples 0.6416597366333008\n",
      "n_samples_node =  2000\n"
     ]
    },
    {
     "name": "stderr",
     "output_type": "stream",
     "text": [
      " 33%|███▎      | 98/300 [02:17<04:43,  1.40s/it, Energy=-0.50715+0.00000j ± 0.00025 [σ²=0.00015]]"
     ]
    },
    {
     "name": "stdout",
     "output_type": "stream",
     "text": [
      "generate_samples :  0.7184903621673584\n",
      "time :  0.03168129920959473\n",
      "get_mc_stats 0.03213858604431152\n",
      "     cal jacobian  0.006391048431396484\n",
      "     cal F 0.0002079010009765625\n",
      "cal O and jac  0.006669521331787109\n",
      "compute_update  0.0011866092681884766\n",
      "(-0.07024137496117981+0j)\n",
      "n_discard =  300\n",
      "discard samples 0.6477499008178711\n",
      "n_samples_node =  2000\n"
     ]
    },
    {
     "name": "stderr",
     "output_type": "stream",
     "text": [
      " 33%|███▎      | 99/300 [02:18<04:41,  1.40s/it, Energy=-0.50782+0.00000j ± 0.00024 [σ²=0.00014]]"
     ]
    },
    {
     "name": "stdout",
     "output_type": "stream",
     "text": [
      "generate_samples :  0.7103731632232666\n",
      "time :  0.03035283088684082\n",
      "get_mc_stats 0.030920028686523438\n",
      "     cal jacobian  0.005330562591552734\n",
      "     cal F 0.0001590251922607422\n",
      "cal O and jac  0.0057163238525390625\n",
      "compute_update  0.0013086795806884766\n",
      "(-0.07109469847368662+0j)\n",
      "n_discard =  300\n",
      "discard samples 0.6510355472564697\n",
      "n_samples_node =  2000\n"
     ]
    },
    {
     "name": "stderr",
     "output_type": "stream",
     "text": [
      " 33%|███▎      | 100/300 [02:20<04:40,  1.40s/it, Energy=-0.50717+0.00000j ± 0.00028 [σ²=0.00015]]"
     ]
    },
    {
     "name": "stdout",
     "output_type": "stream",
     "text": [
      "generate_samples :  0.7141656875610352\n",
      "time :  0.02982616424560547\n",
      "get_mc_stats 0.030303478240966797\n",
      "     cal jacobian  0.0063169002532958984\n",
      "     cal F 0.00021886825561523438\n",
      "cal O and jac  0.006834268569946289\n",
      "compute_update  0.0013766288757324219\n",
      "(-0.07190977412239004+0j)\n",
      "n_discard =  300\n",
      "discard samples 0.6348989009857178\n",
      "n_samples_node =  2000\n"
     ]
    },
    {
     "name": "stderr",
     "output_type": "stream",
     "text": [
      " 34%|███▎      | 101/300 [02:21<04:38,  1.40s/it, Energy=-0.50755+0.00000j ± 0.00031 [σ²=0.00017]]"
     ]
    },
    {
     "name": "stdout",
     "output_type": "stream",
     "text": [
      "generate_samples :  0.7101166248321533\n",
      "time :  0.03077220916748047\n",
      "get_mc_stats 0.031261444091796875\n",
      "     cal jacobian  0.005846738815307617\n",
      "     cal F 0.00023818016052246094\n",
      "cal O and jac  0.0063686370849609375\n",
      "compute_update  0.0013124942779541016\n",
      "(-0.07273907748165503+0j)\n",
      "n_discard =  300\n",
      "discard samples 0.6437568664550781\n",
      "n_samples_node =  2000\n"
     ]
    },
    {
     "name": "stderr",
     "output_type": "stream",
     "text": [
      " 34%|███▍      | 102/300 [02:22<04:36,  1.40s/it, Energy=-0.50782+0.00000j ± 0.00025 [σ²=0.00016]]"
     ]
    },
    {
     "name": "stdout",
     "output_type": "stream",
     "text": [
      "generate_samples :  0.7093963623046875\n",
      "time :  0.028296947479248047\n",
      "get_mc_stats 0.0288238525390625\n",
      "     cal jacobian  0.00608372688293457\n",
      "     cal F 0.0002167224884033203\n",
      "cal O and jac  0.006497859954833984\n",
      "compute_update  0.0013265609741210938\n",
      "(-0.07353902159619072+0j)\n",
      "n_discard =  300\n",
      "discard samples 0.6473665237426758\n",
      "n_samples_node =  2000\n"
     ]
    },
    {
     "name": "stderr",
     "output_type": "stream",
     "text": [
      " 34%|███▍      | 103/300 [02:24<04:35,  1.40s/it, Energy=-0.50757+0.00000j ± 0.00027 [σ²=0.00015]]"
     ]
    },
    {
     "name": "stdout",
     "output_type": "stream",
     "text": [
      "generate_samples :  0.7149174213409424\n",
      "time :  0.028296470642089844\n",
      "get_mc_stats 0.028776884078979492\n",
      "     cal jacobian  0.005445718765258789\n",
      "     cal F 0.00020074844360351562\n",
      "cal O and jac  0.00593113899230957\n",
      "compute_update  0.0012919902801513672\n",
      "(-0.07430334160040232+0j)\n",
      "n_discard =  300\n",
      "discard samples 0.6413993835449219\n",
      "n_samples_node =  2000\n"
     ]
    },
    {
     "name": "stderr",
     "output_type": "stream",
     "text": [
      " 35%|███▍      | 104/300 [02:25<04:33,  1.40s/it, Energy=-0.50759+0.00000j ± 0.00023 [σ²=0.00016]]"
     ]
    },
    {
     "name": "stdout",
     "output_type": "stream",
     "text": [
      "generate_samples :  0.710167646408081\n",
      "time :  0.0296938419342041\n",
      "get_mc_stats 0.03026747703552246\n",
      "     cal jacobian  0.006772279739379883\n",
      "     cal F 0.0002624988555908203\n",
      "cal O and jac  0.007118940353393555\n",
      "compute_update  0.0015282630920410156\n",
      "(-0.07503855633470216+0j)\n",
      "n_discard =  300\n",
      "discard samples 0.6464006900787354\n",
      "n_samples_node =  2000\n"
     ]
    },
    {
     "name": "stderr",
     "output_type": "stream",
     "text": [
      " 35%|███▌      | 105/300 [02:27<04:33,  1.40s/it, Energy=-0.50750+0.00000j ± 0.00030 [σ²=0.00017]]"
     ]
    },
    {
     "name": "stdout",
     "output_type": "stream",
     "text": [
      "generate_samples :  0.721184253692627\n",
      "time :  0.03289651870727539\n",
      "get_mc_stats 0.03339505195617676\n",
      "     cal jacobian  0.005617618560791016\n",
      "     cal F 0.0002048015594482422\n",
      "cal O and jac  0.0062520503997802734\n",
      "compute_update  0.0011467933654785156\n",
      "(-0.07579136795635417+0j)\n",
      "n_discard =  300\n",
      "discard samples 0.6522774696350098\n",
      "n_samples_node =  2000\n"
     ]
    },
    {
     "name": "stderr",
     "output_type": "stream",
     "text": [
      " 35%|███▌      | 106/300 [02:28<04:31,  1.40s/it, Energy=-0.50702+0.00000j ± 0.00026 [σ²=0.00017]]"
     ]
    },
    {
     "name": "stdout",
     "output_type": "stream",
     "text": [
      "generate_samples :  0.7135653495788574\n",
      "time :  0.028799057006835938\n",
      "get_mc_stats 0.029244422912597656\n",
      "     cal jacobian  0.006049394607543945\n",
      "     cal F 0.00021076202392578125\n",
      "cal O and jac  0.0065402984619140625\n",
      "compute_update  0.0016214847564697266\n",
      "(-0.07629297136104596+0j)\n",
      "n_discard =  300\n",
      "discard samples 0.6460261344909668\n",
      "n_samples_node =  2000\n"
     ]
    },
    {
     "name": "stderr",
     "output_type": "stream",
     "text": [
      " 36%|███▌      | 107/300 [02:29<04:30,  1.40s/it, Energy=-0.50687+0.00000j ± 0.00029 [σ²=0.00018]]"
     ]
    },
    {
     "name": "stdout",
     "output_type": "stream",
     "text": [
      "generate_samples :  0.7149815559387207\n",
      "time :  0.02992725372314453\n",
      "get_mc_stats 0.030419111251831055\n",
      "     cal jacobian  0.005814790725708008\n",
      "     cal F 0.00022339820861816406\n",
      "cal O and jac  0.006457090377807617\n",
      "compute_update  0.0013794898986816406\n",
      "(-0.07671183379635094+0j)\n",
      "n_discard =  300\n",
      "discard samples 0.6391241550445557\n",
      "n_samples_node =  2000\n"
     ]
    },
    {
     "name": "stderr",
     "output_type": "stream",
     "text": [
      " 36%|███▌      | 108/300 [02:31<04:28,  1.40s/it, Energy=-0.50738+0.00000j ± 0.00027 [σ²=0.00019]]"
     ]
    },
    {
     "name": "stdout",
     "output_type": "stream",
     "text": [
      "generate_samples :  0.7137329578399658\n",
      "time :  0.028529644012451172\n",
      "get_mc_stats 0.02905750274658203\n",
      "     cal jacobian  0.0060122013092041016\n",
      "     cal F 0.000225067138671875\n",
      "cal O and jac  0.006438732147216797\n",
      "compute_update  0.0017011165618896484\n",
      "(-0.07705795680854684+0j)\n",
      "n_discard =  300\n",
      "discard samples 0.6471302509307861\n",
      "n_samples_node =  2000\n"
     ]
    },
    {
     "name": "stderr",
     "output_type": "stream",
     "text": [
      " 36%|███▋      | 109/300 [02:32<04:27,  1.40s/it, Energy=-0.50725+0.00000j ± 0.00036 [σ²=0.00018]]"
     ]
    },
    {
     "name": "stdout",
     "output_type": "stream",
     "text": [
      "generate_samples :  0.7072274684906006\n",
      "time :  0.031386375427246094\n",
      "get_mc_stats 0.03185439109802246\n",
      "     cal jacobian  0.005454063415527344\n",
      "     cal F 0.00011014938354492188\n",
      "cal O and jac  0.00577235221862793\n",
      "compute_update  0.0013582706451416016\n",
      "(-0.07736693991395442+0j)\n",
      "n_discard =  300\n",
      "discard samples 0.65948486328125\n",
      "n_samples_node =  2000\n"
     ]
    },
    {
     "name": "stderr",
     "output_type": "stream",
     "text": [
      " 37%|███▋      | 110/300 [02:34<04:26,  1.40s/it, Energy=-0.50770+0.00000j ± 0.00024 [σ²=0.00019]]"
     ]
    },
    {
     "name": "stdout",
     "output_type": "stream",
     "text": [
      "generate_samples :  0.7137064933776855\n",
      "time :  0.028731822967529297\n",
      "get_mc_stats 0.02922534942626953\n",
      "     cal jacobian  0.006270408630371094\n",
      "     cal F 0.00019359588623046875\n",
      "cal O and jac  0.006554603576660156\n",
      "compute_update  0.0016167163848876953\n",
      "(-0.07759568021950575+0j)\n",
      "n_discard =  300\n",
      "discard samples 0.6438248157501221\n",
      "n_samples_node =  2000\n"
     ]
    },
    {
     "name": "stderr",
     "output_type": "stream",
     "text": [
      " 37%|███▋      | 111/300 [02:35<04:24,  1.40s/it, Energy=-0.50720+0.00000j ± 0.00036 [σ²=0.00020]]"
     ]
    },
    {
     "name": "stdout",
     "output_type": "stream",
     "text": [
      "generate_samples :  0.7066400051116943\n",
      "time :  0.03269386291503906\n",
      "get_mc_stats 0.03319263458251953\n",
      "     cal jacobian  0.005622148513793945\n",
      "     cal F 0.00022220611572265625\n",
      "cal O and jac  0.006274700164794922\n",
      "compute_update  0.0012707710266113281\n",
      "(-0.07782241700603884+0j)\n",
      "n_discard =  300\n",
      "discard samples 0.6403875350952148\n",
      "n_samples_node =  2000\n"
     ]
    },
    {
     "name": "stderr",
     "output_type": "stream",
     "text": [
      " 37%|███▋      | 112/300 [02:36<04:22,  1.40s/it, Energy=-0.50773+0.00000j ± 0.00032 [σ²=0.00017]]"
     ]
    },
    {
     "name": "stdout",
     "output_type": "stream",
     "text": [
      "generate_samples :  0.7131063938140869\n",
      "time :  0.03117847442626953\n",
      "get_mc_stats 0.03163266181945801\n",
      "     cal jacobian  0.006348848342895508\n",
      "     cal F 0.00023937225341796875\n",
      "cal O and jac  0.0068933963775634766\n",
      "compute_update  0.0012955665588378906\n",
      "(-0.07798986902012744+0j)\n",
      "n_discard =  300\n",
      "discard samples 0.6490664482116699\n",
      "n_samples_node =  2000\n"
     ]
    },
    {
     "name": "stderr",
     "output_type": "stream",
     "text": [
      " 38%|███▊      | 113/300 [02:38<04:21,  1.40s/it, Energy=-0.50770+0.00000j ± 0.00034 [σ²=0.00017]]"
     ]
    },
    {
     "name": "stdout",
     "output_type": "stream",
     "text": [
      "generate_samples :  0.7068185806274414\n",
      "time :  0.03039240837097168\n",
      "get_mc_stats 0.030845165252685547\n",
      "     cal jacobian  0.005401611328125\n",
      "     cal F 0.00015926361083984375\n",
      "cal O and jac  0.00571751594543457\n",
      "compute_update  0.0012328624725341797\n",
      "(-0.07815924987414717+0j)\n",
      "n_discard =  300\n",
      "discard samples 0.6450788974761963\n",
      "n_samples_node =  2000\n"
     ]
    },
    {
     "name": "stderr",
     "output_type": "stream",
     "text": [
      " 38%|███▊      | 114/300 [02:39<04:20,  1.40s/it, Energy=-0.50752+0.00000j ± 0.00030 [σ²=0.00018]]"
     ]
    },
    {
     "name": "stdout",
     "output_type": "stream",
     "text": [
      "generate_samples :  0.7140774726867676\n",
      "time :  0.029567956924438477\n",
      "get_mc_stats 0.030147790908813477\n",
      "     cal jacobian  0.006177663803100586\n",
      "     cal F 0.00021219253540039062\n",
      "cal O and jac  0.006597757339477539\n",
      "compute_update  0.0013709068298339844\n",
      "(-0.07833155667301793+0j)\n",
      "n_discard =  300\n",
      "discard samples 0.6443319320678711\n",
      "n_samples_node =  2000\n"
     ]
    },
    {
     "name": "stderr",
     "output_type": "stream",
     "text": [
      " 38%|███▊      | 115/300 [02:41<04:18,  1.40s/it, Energy=-0.50748+0.00000j ± 0.00030 [σ²=0.00017]]"
     ]
    },
    {
     "name": "stdout",
     "output_type": "stream",
     "text": [
      "generate_samples :  0.7154643535614014\n",
      "time :  0.027005910873413086\n",
      "get_mc_stats 0.027458667755126953\n",
      "     cal jacobian  0.0052525997161865234\n",
      "     cal F 0.00019598007202148438\n",
      "cal O and jac  0.005627870559692383\n",
      "compute_update  0.0013163089752197266\n",
      "(-0.07847556235218973+0j)\n",
      "n_discard =  300\n",
      "discard samples 0.645719051361084\n",
      "n_samples_node =  2000\n"
     ]
    },
    {
     "name": "stderr",
     "output_type": "stream",
     "text": [
      " 39%|███▊      | 116/300 [02:42<04:17,  1.40s/it, Energy=-0.50749+0.00000j ± 0.00030 [σ²=0.00018]]"
     ]
    },
    {
     "name": "stdout",
     "output_type": "stream",
     "text": [
      "generate_samples :  0.7130520343780518\n",
      "time :  0.028926372528076172\n",
      "get_mc_stats 0.02944779396057129\n",
      "     cal jacobian  0.0066716670989990234\n",
      "     cal F 0.0001266002655029297\n",
      "cal O and jac  0.006976127624511719\n",
      "compute_update  0.0012843608856201172\n",
      "(-0.07859385989146761+0j)\n",
      "n_discard =  300\n",
      "discard samples 0.6378929615020752\n",
      "n_samples_node =  2000\n"
     ]
    },
    {
     "name": "stderr",
     "output_type": "stream",
     "text": [
      " 39%|███▉      | 117/300 [02:43<04:15,  1.40s/it, Energy=-0.50710+0.00000j ± 0.00031 [σ²=0.00017]]"
     ]
    },
    {
     "name": "stdout",
     "output_type": "stream",
     "text": [
      "generate_samples :  0.7171039581298828\n",
      "time :  0.030034780502319336\n",
      "get_mc_stats 0.030524492263793945\n",
      "     cal jacobian  0.005432605743408203\n",
      "     cal F 0.0001933574676513672\n",
      "cal O and jac  0.005872011184692383\n",
      "compute_update  0.0012867450714111328\n",
      "(-0.07869550923203172+0j)\n",
      "n_discard =  300\n",
      "discard samples 0.6460208892822266\n",
      "n_samples_node =  2000\n"
     ]
    },
    {
     "name": "stderr",
     "output_type": "stream",
     "text": [
      " 39%|███▉      | 118/300 [02:45<04:14,  1.40s/it, Energy=-0.50765+0.00000j ± 0.00030 [σ²=0.00016]]"
     ]
    },
    {
     "name": "stdout",
     "output_type": "stream",
     "text": [
      "generate_samples :  0.7111771106719971\n",
      "time :  0.033509254455566406\n",
      "get_mc_stats 0.03398919105529785\n",
      "     cal jacobian  0.006128787994384766\n",
      "     cal F 0.0002288818359375\n",
      "cal O and jac  0.006657123565673828\n",
      "compute_update  0.0013897418975830078\n",
      "(-0.0788120525564033+0j)\n",
      "n_discard =  300\n",
      "discard samples 0.6403594017028809\n",
      "n_samples_node =  2000\n"
     ]
    },
    {
     "name": "stderr",
     "output_type": "stream",
     "text": [
      " 40%|███▉      | 119/300 [02:46<04:13,  1.40s/it, Energy=-0.50725+0.00000j ± 0.00032 [σ²=0.00017]]"
     ]
    },
    {
     "name": "stdout",
     "output_type": "stream",
     "text": [
      "generate_samples :  0.7166059017181396\n",
      "time :  0.0310056209564209\n",
      "get_mc_stats 0.03150367736816406\n",
      "     cal jacobian  0.0058879852294921875\n",
      "     cal F 0.0001621246337890625\n",
      "cal O and jac  0.006122112274169922\n",
      "compute_update  0.0012192726135253906\n",
      "(-0.07892426120096506+0j)\n",
      "n_discard =  300\n",
      "discard samples 0.6562426090240479\n",
      "n_samples_node =  2000\n"
     ]
    },
    {
     "name": "stderr",
     "output_type": "stream",
     "text": [
      " 40%|████      | 120/300 [02:48<04:12,  1.40s/it, Energy=-0.50733+0.00000j ± 0.00030 [σ²=0.00016]]"
     ]
    },
    {
     "name": "stdout",
     "output_type": "stream",
     "text": [
      "generate_samples :  0.7130606174468994\n",
      "time :  0.02888798713684082\n",
      "get_mc_stats 0.029343843460083008\n",
      "     cal jacobian  0.005889892578125\n",
      "     cal F 0.00018405914306640625\n",
      "cal O and jac  0.006232023239135742\n",
      "compute_update  0.001249074935913086\n",
      "(-0.07900237812107458+0j)\n",
      "n_discard =  300\n",
      "discard samples 0.6503124237060547\n",
      "n_samples_node =  2000\n"
     ]
    },
    {
     "name": "stderr",
     "output_type": "stream",
     "text": [
      " 40%|████      | 121/300 [02:49<04:10,  1.40s/it, Energy=-0.50740+0.00000j ± 0.00026 [σ²=0.00016]]"
     ]
    },
    {
     "name": "stdout",
     "output_type": "stream",
     "text": [
      "generate_samples :  0.7128026485443115\n",
      "time :  0.029933452606201172\n",
      "get_mc_stats 0.030458450317382812\n",
      "     cal jacobian  0.005517244338989258\n",
      "     cal F 0.00015616416931152344\n",
      "cal O and jac  0.005936145782470703\n",
      "compute_update  0.0011701583862304688\n",
      "(-0.07908209018503995+0j)\n",
      "n_discard =  300\n",
      "discard samples 0.6463301181793213\n",
      "n_samples_node =  2000\n"
     ]
    },
    {
     "name": "stderr",
     "output_type": "stream",
     "text": [
      " 41%|████      | 122/300 [02:50<04:09,  1.40s/it, Energy=-0.50742+0.00000j ± 0.00027 [σ²=0.00016]]"
     ]
    },
    {
     "name": "stdout",
     "output_type": "stream",
     "text": [
      "generate_samples :  0.7143135070800781\n",
      "time :  0.02573394775390625\n",
      "get_mc_stats 0.026266813278198242\n",
      "     cal jacobian  0.006609678268432617\n",
      "     cal F 0.0002124309539794922\n",
      "cal O and jac  0.007155656814575195\n",
      "compute_update  0.0012984275817871094\n",
      "(-0.0791607868251133+0j)\n",
      "n_discard =  300\n",
      "discard samples 0.6438939571380615\n",
      "n_samples_node =  2000\n"
     ]
    },
    {
     "name": "stderr",
     "output_type": "stream",
     "text": [
      " 41%|████      | 123/300 [02:52<04:07,  1.40s/it, Energy=-0.50767+0.00000j ± 0.00026 [σ²=0.00015]]"
     ]
    },
    {
     "name": "stdout",
     "output_type": "stream",
     "text": [
      "generate_samples :  0.7090258598327637\n",
      "time :  0.03111410140991211\n",
      "get_mc_stats 0.03169393539428711\n",
      "     cal jacobian  0.005660533905029297\n",
      "     cal F 0.0001976490020751953\n",
      "cal O and jac  0.006066322326660156\n",
      "compute_update  0.0012159347534179688\n",
      "(-0.07924633911021285+0j)\n",
      "n_discard =  300\n",
      "discard samples 0.6363885402679443\n",
      "n_samples_node =  2000\n"
     ]
    },
    {
     "name": "stderr",
     "output_type": "stream",
     "text": [
      " 41%|████▏     | 124/300 [02:53<04:06,  1.40s/it, Energy=-0.50748+0.00000j ± 0.00034 [σ²=0.00016]]"
     ]
    },
    {
     "name": "stdout",
     "output_type": "stream",
     "text": [
      "generate_samples :  0.7191579341888428\n",
      "time :  0.030178546905517578\n",
      "get_mc_stats 0.030709505081176758\n",
      "     cal jacobian  0.006021261215209961\n",
      "     cal F 0.00023484230041503906\n",
      "cal O and jac  0.0064585208892822266\n",
      "compute_update  0.0013301372528076172\n",
      "(-0.07931488781772159+0j)\n",
      "n_discard =  300\n",
      "discard samples 0.6493816375732422\n",
      "n_samples_node =  2000\n"
     ]
    },
    {
     "name": "stderr",
     "output_type": "stream",
     "text": [
      " 42%|████▏     | 125/300 [02:55<04:04,  1.40s/it, Energy=-0.50731+0.00000j ± 0.00027 [σ²=0.00016]]"
     ]
    },
    {
     "name": "stdout",
     "output_type": "stream",
     "text": [
      "generate_samples :  0.716066837310791\n",
      "time :  0.027315378189086914\n",
      "get_mc_stats 0.02779555320739746\n",
      "     cal jacobian  0.005945444107055664\n",
      "     cal F 0.00010919570922851562\n",
      "cal O and jac  0.006220817565917969\n",
      "compute_update  0.0012531280517578125\n",
      "(-0.07936067054601467+0j)\n",
      "n_discard =  300\n",
      "discard samples 0.6533019542694092\n",
      "n_samples_node =  2000\n"
     ]
    },
    {
     "name": "stderr",
     "output_type": "stream",
     "text": [
      " 42%|████▏     | 126/300 [02:56<04:03,  1.40s/it, Energy=-0.50743+0.00000j ± 0.00026 [σ²=0.00017]]"
     ]
    },
    {
     "name": "stdout",
     "output_type": "stream",
     "text": [
      "generate_samples :  0.7166187763214111\n",
      "time :  0.029033184051513672\n",
      "get_mc_stats 0.029547452926635742\n",
      "     cal jacobian  0.006020069122314453\n",
      "     cal F 0.00019741058349609375\n",
      "cal O and jac  0.006309032440185547\n",
      "compute_update  0.0013267993927001953\n",
      "(-0.0794447395272745+0j)\n",
      "n_discard =  300\n",
      "discard samples 0.6480581760406494\n",
      "n_samples_node =  2000\n"
     ]
    },
    {
     "name": "stderr",
     "output_type": "stream",
     "text": [
      " 42%|████▏     | 127/300 [02:57<04:03,  1.41s/it, Energy=-0.50680+0.00000j ± 0.00024 [σ²=0.00016]]"
     ]
    },
    {
     "name": "stdout",
     "output_type": "stream",
     "text": [
      "generate_samples :  0.7225463390350342\n",
      "time :  0.03185272216796875\n",
      "get_mc_stats 0.032425880432128906\n",
      "     cal jacobian  0.005553245544433594\n",
      "     cal F 0.00020432472229003906\n",
      "cal O and jac  0.005962848663330078\n",
      "compute_update  0.0011551380157470703\n",
      "(-0.07952491955418135+0j)\n",
      "n_discard =  300\n",
      "discard samples 0.6422896385192871\n",
      "n_samples_node =  2000\n"
     ]
    },
    {
     "name": "stderr",
     "output_type": "stream",
     "text": [
      " 43%|████▎     | 128/300 [02:59<04:02,  1.41s/it, Energy=-0.50795+0.00000j ± 0.00031 [σ²=0.00017]]"
     ]
    },
    {
     "name": "stdout",
     "output_type": "stream",
     "text": [
      "generate_samples :  0.7435710430145264\n",
      "time :  0.02561163902282715\n",
      "get_mc_stats 0.025969743728637695\n",
      "     cal jacobian  0.006381511688232422\n",
      "     cal F 0.00016546249389648438\n",
      "cal O and jac  0.0068132877349853516\n",
      "compute_update  0.001323699951171875\n",
      "(-0.07957083417953724+0j)\n",
      "n_discard =  300\n",
      "discard samples 0.6488974094390869\n",
      "n_samples_node =  2000\n"
     ]
    },
    {
     "name": "stderr",
     "output_type": "stream",
     "text": [
      " 43%|████▎     | 129/300 [03:00<04:00,  1.41s/it, Energy=-0.50733+0.00000j ± 0.00028 [σ²=0.00019]]"
     ]
    },
    {
     "name": "stdout",
     "output_type": "stream",
     "text": [
      "generate_samples :  0.7089416980743408\n",
      "time :  0.029227018356323242\n",
      "get_mc_stats 0.029700279235839844\n",
      "     cal jacobian  0.0054128170013427734\n",
      "     cal F 0.0002009868621826172\n",
      "cal O and jac  0.006009340286254883\n",
      "compute_update  0.0011970996856689453\n",
      "(-0.07964519834536136+0j)\n",
      "n_discard =  300\n",
      "discard samples 0.640552282333374\n",
      "n_samples_node =  2000\n"
     ]
    },
    {
     "name": "stderr",
     "output_type": "stream",
     "text": [
      " 43%|████▎     | 130/300 [03:02<03:58,  1.41s/it, Energy=-0.50738+0.00000j ± 0.00028 [σ²=0.00017]]"
     ]
    },
    {
     "name": "stdout",
     "output_type": "stream",
     "text": [
      "generate_samples :  0.7201290130615234\n",
      "time :  0.030301332473754883\n",
      "get_mc_stats 0.0308382511138916\n",
      "     cal jacobian  0.006186008453369141\n",
      "     cal F 0.00021910667419433594\n",
      "cal O and jac  0.006606340408325195\n",
      "compute_update  0.0013148784637451172\n",
      "(-0.07970231979752855+0j)\n",
      "n_discard =  300\n",
      "discard samples 0.6454365253448486\n",
      "n_samples_node =  2000\n"
     ]
    },
    {
     "name": "stderr",
     "output_type": "stream",
     "text": [
      " 44%|████▎     | 131/300 [03:03<03:56,  1.40s/it, Energy=-0.50763+0.00000j ± 0.00028 [σ²=0.00017]]"
     ]
    },
    {
     "name": "stdout",
     "output_type": "stream",
     "text": [
      "generate_samples :  0.7129178047180176\n",
      "time :  0.025403499603271484\n",
      "get_mc_stats 0.025853872299194336\n",
      "     cal jacobian  0.006081819534301758\n",
      "     cal F 0.00023031234741210938\n",
      "cal O and jac  0.0066187381744384766\n",
      "compute_update  0.0013358592987060547\n",
      "(-0.07979609134777543+0j)\n",
      "n_discard =  300\n",
      "discard samples 0.6409869194030762\n",
      "n_samples_node =  2000\n"
     ]
    },
    {
     "name": "stderr",
     "output_type": "stream",
     "text": [
      " 44%|████▍     | 132/300 [03:04<03:55,  1.40s/it, Energy=-0.50743+0.00000j ± 0.00025 [σ²=0.00018]]"
     ]
    },
    {
     "name": "stdout",
     "output_type": "stream",
     "text": [
      "generate_samples :  0.7203257083892822\n",
      "time :  0.03241682052612305\n",
      "get_mc_stats 0.032891273498535156\n",
      "     cal jacobian  0.006364107131958008\n",
      "     cal F 0.0002384185791015625\n",
      "cal O and jac  0.006899833679199219\n",
      "compute_update  0.0013728141784667969\n",
      "(-0.0798662342744686+0j)\n",
      "n_discard =  300\n",
      "discard samples 0.6483101844787598\n",
      "n_samples_node =  2000\n"
     ]
    },
    {
     "name": "stderr",
     "output_type": "stream",
     "text": [
      " 44%|████▍     | 133/300 [03:06<03:54,  1.40s/it, Energy=-0.50774+0.00000j ± 0.00021 [σ²=0.00019]]"
     ]
    },
    {
     "name": "stdout",
     "output_type": "stream",
     "text": [
      "generate_samples :  0.7155110836029053\n",
      "time :  0.0333707332611084\n",
      "get_mc_stats 0.03387093544006348\n",
      "     cal jacobian  0.005669116973876953\n",
      "     cal F 0.0002288818359375\n",
      "cal O and jac  0.006331682205200195\n",
      "compute_update  0.0011544227600097656\n",
      "(-0.07998443282657311+0j)\n",
      "n_discard =  300\n",
      "discard samples 0.6691246032714844\n",
      "n_samples_node =  2000\n"
     ]
    },
    {
     "name": "stderr",
     "output_type": "stream",
     "text": [
      " 45%|████▍     | 134/300 [03:07<03:53,  1.41s/it, Energy=-0.50677+0.00000j ± 0.00028 [σ²=0.00020]]"
     ]
    },
    {
     "name": "stdout",
     "output_type": "stream",
     "text": [
      "generate_samples :  0.7097547054290771\n",
      "time :  0.030110836029052734\n",
      "get_mc_stats 0.030556201934814453\n",
      "     cal jacobian  0.0066454410552978516\n",
      "     cal F 0.00022864341735839844\n",
      "cal O and jac  0.007165670394897461\n",
      "compute_update  0.001291036605834961\n",
      "(-0.08011752004642696+0j)\n",
      "n_discard =  300\n",
      "discard samples 0.6437075138092041\n",
      "n_samples_node =  2000\n"
     ]
    },
    {
     "name": "stderr",
     "output_type": "stream",
     "text": [
      " 45%|████▌     | 135/300 [03:09<03:51,  1.40s/it, Energy=-0.50734+0.00000j ± 0.00021 [σ²=0.00019]]"
     ]
    },
    {
     "name": "stdout",
     "output_type": "stream",
     "text": [
      "generate_samples :  0.7086787223815918\n",
      "time :  0.0297548770904541\n",
      "get_mc_stats 0.03022480010986328\n",
      "     cal jacobian  0.005266666412353516\n",
      "     cal F 0.00026607513427734375\n",
      "cal O and jac  0.00579524040222168\n",
      "compute_update  0.0015108585357666016\n",
      "(-0.08022099766411575+0j)\n",
      "n_discard =  300\n",
      "discard samples 0.6393427848815918\n",
      "n_samples_node =  2000\n"
     ]
    },
    {
     "name": "stderr",
     "output_type": "stream",
     "text": [
      " 45%|████▌     | 136/300 [03:10<03:49,  1.40s/it, Energy=-0.50706+0.00000j ± 0.00032 [σ²=0.00021]]"
     ]
    },
    {
     "name": "stdout",
     "output_type": "stream",
     "text": [
      "generate_samples :  0.7132577896118164\n",
      "time :  0.031912803649902344\n",
      "get_mc_stats 0.03240323066711426\n",
      "     cal jacobian  0.006273031234741211\n",
      "     cal F 0.00011444091796875\n",
      "cal O and jac  0.006524562835693359\n",
      "compute_update  0.001407623291015625\n",
      "(-0.08037466190506608+0j)\n",
      "n_discard =  300\n",
      "discard samples 0.6472122669219971\n",
      "n_samples_node =  2000\n"
     ]
    },
    {
     "name": "stderr",
     "output_type": "stream",
     "text": [
      " 46%|████▌     | 137/300 [03:12<03:49,  1.41s/it, Energy=-0.50798+0.00000j ± 0.00029 [σ²=0.00021]]"
     ]
    },
    {
     "name": "stdout",
     "output_type": "stream",
     "text": [
      "generate_samples :  0.7321798801422119\n",
      "time :  0.029749393463134766\n",
      "get_mc_stats 0.030258655548095703\n",
      "     cal jacobian  0.006375789642333984\n",
      "     cal F 0.0001983642578125\n",
      "cal O and jac  0.0067293643951416016\n",
      "compute_update  0.0013272762298583984\n",
      "(-0.08053167685763872+0j)\n",
      "n_discard =  300\n",
      "discard samples 0.648775577545166\n",
      "n_samples_node =  2000\n"
     ]
    },
    {
     "name": "stderr",
     "output_type": "stream",
     "text": [
      " 46%|████▌     | 138/300 [03:13<03:47,  1.41s/it, Energy=-0.50756+0.00000j ± 0.00030 [σ²=0.00020]]"
     ]
    },
    {
     "name": "stdout",
     "output_type": "stream",
     "text": [
      "generate_samples :  0.7115709781646729\n",
      "time :  0.030245304107666016\n",
      "get_mc_stats 0.030767440795898438\n",
      "     cal jacobian  0.005973100662231445\n",
      "     cal F 0.00022792816162109375\n",
      "cal O and jac  0.006424427032470703\n",
      "compute_update  0.0011298656463623047\n",
      "(-0.08069265060236104+0j)\n",
      "n_discard =  300\n",
      "discard samples 0.6392166614532471\n",
      "n_samples_node =  2000\n"
     ]
    },
    {
     "name": "stderr",
     "output_type": "stream",
     "text": [
      " 46%|████▋     | 139/300 [03:14<03:45,  1.40s/it, Energy=-0.50720+0.00000j ± 0.00031 [σ²=0.00020]]"
     ]
    },
    {
     "name": "stdout",
     "output_type": "stream",
     "text": [
      "generate_samples :  0.7162916660308838\n",
      "time :  0.03306007385253906\n",
      "get_mc_stats 0.033548593521118164\n",
      "     cal jacobian  0.005496025085449219\n",
      "     cal F 0.00025081634521484375\n",
      "cal O and jac  0.0060329437255859375\n",
      "compute_update  0.0014896392822265625\n",
      "(-0.08083195041273632+0j)\n",
      "n_discard =  300\n",
      "discard samples 0.646899938583374\n",
      "n_samples_node =  2000\n"
     ]
    },
    {
     "name": "stderr",
     "output_type": "stream",
     "text": [
      " 47%|████▋     | 140/300 [03:16<03:44,  1.40s/it, Energy=-0.50710+0.00000j ± 0.00033 [σ²=0.00021]]"
     ]
    },
    {
     "name": "stdout",
     "output_type": "stream",
     "text": [
      "generate_samples :  0.7103619575500488\n",
      "time :  0.03240633010864258\n",
      "get_mc_stats 0.03276348114013672\n",
      "     cal jacobian  0.006433248519897461\n",
      "     cal F 0.0002315044403076172\n",
      "cal O and jac  0.006824970245361328\n",
      "compute_update  0.0015501976013183594\n",
      "(-0.08093821045497457+0j)\n",
      "n_discard =  300\n",
      "discard samples 0.6385061740875244\n",
      "n_samples_node =  2000\n"
     ]
    },
    {
     "name": "stderr",
     "output_type": "stream",
     "text": [
      " 47%|████▋     | 141/300 [03:17<03:43,  1.40s/it, Energy=-0.50768+0.00000j ± 0.00029 [σ²=0.00021]]"
     ]
    },
    {
     "name": "stdout",
     "output_type": "stream",
     "text": [
      "generate_samples :  0.724299430847168\n",
      "time :  0.030823707580566406\n",
      "get_mc_stats 0.031348466873168945\n",
      "     cal jacobian  0.005259990692138672\n",
      "     cal F 0.00016880035400390625\n",
      "cal O and jac  0.005807399749755859\n",
      "compute_update  0.0013298988342285156\n",
      "(-0.08101858582456693+0j)\n",
      "n_discard =  300\n",
      "discard samples 0.6439208984375\n",
      "n_samples_node =  2000\n"
     ]
    },
    {
     "name": "stderr",
     "output_type": "stream",
     "text": [
      " 47%|████▋     | 142/300 [03:19<03:41,  1.40s/it, Energy=-0.50776+0.00000j ± 0.00035 [σ²=0.00024]]"
     ]
    },
    {
     "name": "stdout",
     "output_type": "stream",
     "text": [
      "generate_samples :  0.7104325294494629\n",
      "time :  0.03040909767150879\n",
      "get_mc_stats 0.030867576599121094\n",
      "     cal jacobian  0.006119251251220703\n",
      "     cal F 0.0002346038818359375\n",
      "cal O and jac  0.0067784786224365234\n",
      "compute_update  0.0011851787567138672\n",
      "(-0.08113820649281753+0j)\n",
      "n_discard =  300\n",
      "discard samples 0.6493191719055176\n",
      "n_samples_node =  2000\n"
     ]
    },
    {
     "name": "stderr",
     "output_type": "stream",
     "text": [
      " 48%|████▊     | 143/300 [03:20<03:40,  1.40s/it, Energy=-0.50701+0.00000j ± 0.00031 [σ²=0.00023]]"
     ]
    },
    {
     "name": "stdout",
     "output_type": "stream",
     "text": [
      "generate_samples :  0.7154951095581055\n",
      "time :  0.03221487998962402\n",
      "get_mc_stats 0.032791852951049805\n",
      "     cal jacobian  0.005609750747680664\n",
      "     cal F 0.00019025802612304688\n",
      "cal O and jac  0.005999088287353516\n",
      "compute_update  0.0012900829315185547\n",
      "(-0.08122657773722541+0j)\n",
      "n_discard =  300\n",
      "discard samples 0.6510906219482422\n",
      "n_samples_node =  2000\n"
     ]
    },
    {
     "name": "stderr",
     "output_type": "stream",
     "text": [
      " 48%|████▊     | 144/300 [03:21<03:38,  1.40s/it, Energy=-0.50705+0.00000j ± 0.00032 [σ²=0.00021]]"
     ]
    },
    {
     "name": "stdout",
     "output_type": "stream",
     "text": [
      "generate_samples :  0.7129719257354736\n",
      "time :  0.02525019645690918\n",
      "get_mc_stats 0.02584671974182129\n",
      "     cal jacobian  0.006112098693847656\n",
      "     cal F 0.00011920928955078125\n",
      "cal O and jac  0.006591320037841797\n",
      "compute_update  0.0012929439544677734\n",
      "(-0.0813001308029745+0j)\n",
      "n_discard =  300\n",
      "discard samples 0.6578884124755859\n",
      "n_samples_node =  2000\n"
     ]
    },
    {
     "name": "stderr",
     "output_type": "stream",
     "text": [
      " 48%|████▊     | 145/300 [03:23<03:37,  1.40s/it, Energy=-0.50698+0.00000j ± 0.00039 [σ²=0.00023]]"
     ]
    },
    {
     "name": "stdout",
     "output_type": "stream",
     "text": [
      "generate_samples :  0.7111365795135498\n",
      "time :  0.030510902404785156\n",
      "get_mc_stats 0.031067371368408203\n",
      "     cal jacobian  0.005335092544555664\n",
      "     cal F 0.0002512931823730469\n",
      "cal O and jac  0.005788087844848633\n",
      "compute_update  0.0013010501861572266\n",
      "(-0.0814165544027112+0j)\n",
      "n_discard =  300\n",
      "discard samples 0.6440472602844238\n",
      "n_samples_node =  2000\n"
     ]
    },
    {
     "name": "stderr",
     "output_type": "stream",
     "text": [
      " 49%|████▊     | 146/300 [03:24<03:36,  1.40s/it, Energy=-0.50738+0.00000j ± 0.00039 [σ²=0.00021]]"
     ]
    },
    {
     "name": "stdout",
     "output_type": "stream",
     "text": [
      "generate_samples :  0.7210381031036377\n",
      "time :  0.025008678436279297\n",
      "get_mc_stats 0.025582075119018555\n",
      "     cal jacobian  0.0066640377044677734\n",
      "     cal F 0.00026488304138183594\n",
      "cal O and jac  0.007009267807006836\n",
      "compute_update  0.0014655590057373047\n",
      "(-0.08149067497878575+0j)\n",
      "n_discard =  300\n",
      "discard samples 0.6399140357971191\n",
      "n_samples_node =  2000\n"
     ]
    },
    {
     "name": "stderr",
     "output_type": "stream",
     "text": [
      " 49%|████▉     | 147/300 [03:26<03:34,  1.40s/it, Energy=-0.50766+0.00000j ± 0.00038 [σ²=0.00022]]"
     ]
    },
    {
     "name": "stdout",
     "output_type": "stream",
     "text": [
      "generate_samples :  0.723259449005127\n",
      "time :  0.032218217849731445\n",
      "get_mc_stats 0.03280186653137207\n",
      "     cal jacobian  0.005620479583740234\n",
      "     cal F 0.00020003318786621094\n",
      "cal O and jac  0.006047725677490234\n",
      "compute_update  0.0013613700866699219\n",
      "(-0.08156140231114224+0j)\n",
      "n_discard =  300\n",
      "discard samples 0.6490716934204102\n",
      "n_samples_node =  2000\n"
     ]
    },
    {
     "name": "stderr",
     "output_type": "stream",
     "text": [
      " 49%|████▉     | 148/300 [03:27<03:34,  1.41s/it, Energy=-0.50726+0.00000j ± 0.00029 [σ²=0.00022]]"
     ]
    },
    {
     "name": "stdout",
     "output_type": "stream",
     "text": [
      "generate_samples :  0.7390279769897461\n",
      "time :  0.03331947326660156\n",
      "get_mc_stats 0.03407120704650879\n",
      "     cal jacobian  0.007961511611938477\n",
      "     cal F 0.00026679039001464844\n",
      "cal O and jac  0.008476972579956055\n",
      "compute_update  0.0014157295227050781\n",
      "(-0.08165549624841559+0j)\n",
      "n_discard =  300\n",
      "discard samples 0.683793306350708\n",
      "n_samples_node =  2000\n"
     ]
    },
    {
     "name": "stderr",
     "output_type": "stream",
     "text": [
      " 50%|████▉     | 149/300 [03:28<03:35,  1.43s/it, Energy=-0.50734+0.00000j ± 0.00033 [σ²=0.00021]]"
     ]
    },
    {
     "name": "stdout",
     "output_type": "stream",
     "text": [
      "generate_samples :  0.7408244609832764\n",
      "time :  0.028827667236328125\n",
      "get_mc_stats 0.029280900955200195\n",
      "     cal jacobian  0.00546717643737793\n",
      "     cal F 0.0002028942108154297\n",
      "cal O and jac  0.005985736846923828\n",
      "compute_update  0.0011641979217529297\n",
      "(-0.08174628802942521+0j)\n",
      "n_discard =  300\n",
      "discard samples 0.6521561145782471\n",
      "n_samples_node =  2000\n"
     ]
    },
    {
     "name": "stderr",
     "output_type": "stream",
     "text": [
      " 50%|█████     | 150/300 [03:30<03:34,  1.43s/it, Energy=-0.50777+0.00000j ± 0.00028 [σ²=0.00022]]"
     ]
    },
    {
     "name": "stdout",
     "output_type": "stream",
     "text": [
      "generate_samples :  0.7400565147399902\n",
      "time :  0.029547929763793945\n",
      "get_mc_stats 0.029989957809448242\n",
      "     cal jacobian  0.006273031234741211\n",
      "     cal F 0.00021457672119140625\n",
      "cal O and jac  0.006775856018066406\n",
      "compute_update  0.0013098716735839844\n",
      "(-0.0818620917030152+0j)\n",
      "n_discard =  300\n",
      "discard samples 0.6535160541534424\n",
      "n_samples_node =  2000\n"
     ]
    },
    {
     "name": "stderr",
     "output_type": "stream",
     "text": [
      " 50%|█████     | 151/300 [03:31<03:32,  1.43s/it, Energy=-0.50749+0.00000j ± 0.00033 [σ²=0.00022]]"
     ]
    },
    {
     "name": "stdout",
     "output_type": "stream",
     "text": [
      "generate_samples :  0.7310519218444824\n",
      "time :  0.0292665958404541\n",
      "get_mc_stats 0.02979564666748047\n",
      "     cal jacobian  0.005380392074584961\n",
      "     cal F 0.0002295970916748047\n",
      "cal O and jac  0.0058135986328125\n",
      "compute_update  0.0012969970703125\n",
      "(-0.08193800343190875+0j)\n",
      "n_discard =  300\n",
      "discard samples 0.6614868640899658\n",
      "n_samples_node =  2000\n"
     ]
    },
    {
     "name": "stderr",
     "output_type": "stream",
     "text": [
      " 51%|█████     | 152/300 [03:33<03:32,  1.43s/it, Energy=-0.50688+0.00000j ± 0.00031 [σ²=0.00022]]"
     ]
    },
    {
     "name": "stdout",
     "output_type": "stream",
     "text": [
      "generate_samples :  0.7521085739135742\n",
      "time :  0.024738550186157227\n",
      "get_mc_stats 0.025259971618652344\n",
      "     cal jacobian  0.006290435791015625\n",
      "     cal F 0.00017952919006347656\n",
      "cal O and jac  0.006648540496826172\n",
      "compute_update  0.0012607574462890625\n",
      "(-0.08201050633013213+0j)\n",
      "n_discard =  300\n",
      "discard samples 0.6562643051147461\n",
      "n_samples_node =  2000\n"
     ]
    },
    {
     "name": "stderr",
     "output_type": "stream",
     "text": [
      " 51%|█████     | 153/300 [03:34<03:30,  1.43s/it, Energy=-0.50724+0.00000j ± 0.00032 [σ²=0.00022]]"
     ]
    },
    {
     "name": "stdout",
     "output_type": "stream",
     "text": [
      "generate_samples :  0.7334110736846924\n",
      "time :  0.029692888259887695\n",
      "get_mc_stats 0.03038644790649414\n",
      "     cal jacobian  0.006947517395019531\n",
      "     cal F 0.00029754638671875\n",
      "cal O and jac  0.0073468685150146484\n",
      "compute_update  0.0013341903686523438\n",
      "(-0.08207764861008525+0j)\n",
      "n_discard =  300\n",
      "discard samples 0.6609220504760742\n",
      "n_samples_node =  2000\n"
     ]
    },
    {
     "name": "stderr",
     "output_type": "stream",
     "text": [
      " 51%|█████▏    | 154/300 [03:36<03:29,  1.44s/it, Energy=-0.50734+0.00000j ± 0.00035 [σ²=0.00023]]"
     ]
    },
    {
     "name": "stdout",
     "output_type": "stream",
     "text": [
      "generate_samples :  0.7443788051605225\n",
      "time :  0.031060457229614258\n",
      "get_mc_stats 0.03166794776916504\n",
      "     cal jacobian  0.006445884704589844\n",
      "     cal F 0.00023865699768066406\n",
      "cal O and jac  0.006906986236572266\n",
      "compute_update  0.0013644695281982422\n",
      "(-0.08218844353332369+0j)\n",
      "n_discard =  300\n",
      "discard samples 0.6603147983551025\n",
      "n_samples_node =  2000\n"
     ]
    },
    {
     "name": "stderr",
     "output_type": "stream",
     "text": [
      " 52%|█████▏    | 155/300 [03:37<03:28,  1.44s/it, Energy=-0.50704+0.00000j ± 0.00034 [σ²=0.00021]]"
     ]
    },
    {
     "name": "stdout",
     "output_type": "stream",
     "text": [
      "generate_samples :  0.7337265014648438\n",
      "time :  0.028874874114990234\n",
      "get_mc_stats 0.02948164939880371\n",
      "     cal jacobian  0.005818367004394531\n",
      "     cal F 0.00012803077697753906\n",
      "cal O and jac  0.006239175796508789\n",
      "compute_update  0.001283407211303711\n",
      "(-0.08227020175833905+0j)\n",
      "n_discard =  300\n",
      "discard samples 0.6495864391326904\n",
      "n_samples_node =  2000\n"
     ]
    },
    {
     "name": "stderr",
     "output_type": "stream",
     "text": [
      " 52%|█████▏    | 156/300 [03:38<03:25,  1.43s/it, Energy=-0.50732+0.00000j ± 0.00034 [σ²=0.00022]]"
     ]
    },
    {
     "name": "stdout",
     "output_type": "stream",
     "text": [
      "generate_samples :  0.7177400588989258\n",
      "time :  0.028695344924926758\n",
      "get_mc_stats 0.029158353805541992\n",
      "     cal jacobian  0.006026029586791992\n",
      "     cal F 0.00020933151245117188\n",
      "cal O and jac  0.006519317626953125\n",
      "compute_update  0.0013527870178222656\n",
      "(-0.08237599833776622+0j)\n",
      "n_discard =  300\n",
      "discard samples 0.6927316188812256\n",
      "n_samples_node =  2000\n"
     ]
    },
    {
     "name": "stderr",
     "output_type": "stream",
     "text": [
      " 52%|█████▏    | 157/300 [03:40<03:25,  1.44s/it, Energy=-0.50760+0.00000j ± 0.00030 [σ²=0.00023]]"
     ]
    },
    {
     "name": "stdout",
     "output_type": "stream",
     "text": [
      "generate_samples :  0.7200005054473877\n",
      "time :  0.02816319465637207\n",
      "get_mc_stats 0.02878403663635254\n",
      "     cal jacobian  0.005458831787109375\n",
      "     cal F 0.00022935867309570312\n",
      "cal O and jac  0.0058863162994384766\n",
      "compute_update  0.002474546432495117\n",
      "(-0.08247038675424938+0j)\n",
      "n_discard =  300\n",
      "discard samples 0.6574440002441406\n",
      "n_samples_node =  2000\n"
     ]
    },
    {
     "name": "stderr",
     "output_type": "stream",
     "text": [
      " 53%|█████▎    | 158/300 [03:41<03:23,  1.43s/it, Energy=-0.50694+0.00000j ± 0.00036 [σ²=0.00023]]"
     ]
    },
    {
     "name": "stdout",
     "output_type": "stream",
     "text": [
      "generate_samples :  0.7313261032104492\n",
      "time :  0.03108692169189453\n",
      "get_mc_stats 0.03172421455383301\n",
      "     cal jacobian  0.00669097900390625\n",
      "     cal F 0.0001888275146484375\n",
      "cal O and jac  0.007115602493286133\n",
      "compute_update  0.0014159679412841797\n",
      "(-0.08260049254428292+0j)\n",
      "n_discard =  300\n",
      "discard samples 0.6574068069458008\n",
      "n_samples_node =  2000\n"
     ]
    },
    {
     "name": "stderr",
     "output_type": "stream",
     "text": [
      " 53%|█████▎    | 159/300 [03:43<03:22,  1.44s/it, Energy=-0.50763+0.00000j ± 0.00029 [σ²=0.00023]]"
     ]
    },
    {
     "name": "stdout",
     "output_type": "stream",
     "text": [
      "generate_samples :  0.7402808666229248\n",
      "time :  0.03128170967102051\n",
      "get_mc_stats 0.03182220458984375\n",
      "     cal jacobian  0.005911827087402344\n",
      "     cal F 0.00022649765014648438\n",
      "cal O and jac  0.006455898284912109\n",
      "compute_update  0.0013003349304199219\n",
      "(-0.08270585673131291+0j)\n",
      "n_discard =  300\n",
      "discard samples 0.6533327102661133\n",
      "n_samples_node =  2000\n"
     ]
    },
    {
     "name": "stderr",
     "output_type": "stream",
     "text": [
      " 53%|█████▎    | 160/300 [03:44<03:20,  1.43s/it, Energy=-0.50764+0.00000j ± 0.00028 [σ²=0.00022]]"
     ]
    },
    {
     "name": "stdout",
     "output_type": "stream",
     "text": [
      "generate_samples :  0.7283787727355957\n",
      "time :  0.032485008239746094\n",
      "get_mc_stats 0.03297281265258789\n",
      "     cal jacobian  0.006062746047973633\n",
      "     cal F 9.5367431640625e-05\n",
      "cal O and jac  0.006404876708984375\n",
      "compute_update  0.0012784004211425781\n",
      "(-0.08282992830785456+0j)\n",
      "n_discard =  300\n",
      "discard samples 0.6455802917480469\n",
      "n_samples_node =  2000\n"
     ]
    },
    {
     "name": "stderr",
     "output_type": "stream",
     "text": [
      " 54%|█████▎    | 161/300 [03:46<03:19,  1.43s/it, Energy=-0.50809+0.00000j ± 0.00033 [σ²=0.00022]]"
     ]
    },
    {
     "name": "stdout",
     "output_type": "stream",
     "text": [
      "generate_samples :  0.7459690570831299\n",
      "time :  0.03080129623413086\n",
      "get_mc_stats 0.031378984451293945\n",
      "     cal jacobian  0.006150007247924805\n",
      "     cal F 0.00019168853759765625\n",
      "cal O and jac  0.006542205810546875\n",
      "compute_update  0.0011179447174072266\n",
      "(-0.0829587043750989+0j)\n",
      "n_discard =  300\n",
      "discard samples 0.6443390846252441\n",
      "n_samples_node =  2000\n"
     ]
    },
    {
     "name": "stderr",
     "output_type": "stream",
     "text": [
      " 54%|█████▍    | 162/300 [03:47<03:16,  1.42s/it, Energy=-0.50764+0.00000j ± 0.00030 [σ²=0.00022]]"
     ]
    },
    {
     "name": "stdout",
     "output_type": "stream",
     "text": [
      "generate_samples :  0.7192213535308838\n",
      "time :  0.03249645233154297\n",
      "get_mc_stats 0.033075809478759766\n",
      "     cal jacobian  0.006054401397705078\n",
      "     cal F 0.00025653839111328125\n",
      "cal O and jac  0.006514787673950195\n",
      "compute_update  0.0014295578002929688\n",
      "(-0.08308527939618579+0j)\n",
      "n_discard =  300\n"
     ]
    },
    {
     "name": "stderr",
     "output_type": "stream",
     "text": [
      "\r",
      " 54%|█████▍    | 162/300 [03:47<03:14,  1.41s/it, Energy=-0.50764+0.00000j ± 0.00030 [σ²=0.00022]]"
     ]
    },
    {
     "name": "stdout",
     "output_type": "stream",
     "text": [
      "Received keyboardinterrupt\n",
      "\n",
      "Received keyboardinterrupt\n",
      "Received keyboardinterrupt\n",
      "Received keyboardinterrupt\n",
      "Received keyboardinterrupt\n",
      "Received keyboardinterrupt\n",
      "\n",
      "\n",
      "\n",
      "\n",
      "\n"
     ]
    },
    {
     "name": "stderr",
     "output_type": "stream",
     "text": [
      "\n"
     ]
    },
    {
     "ename": "KeyboardInterrupt",
     "evalue": "",
     "output_type": "error",
     "traceback": [
      "\u001b[0;31m---------------------------------------------------------------------------\u001b[0m",
      "\u001b[0;31mKeyboardInterrupt\u001b[0m                         Traceback (most recent call last)",
      "\u001b[0;32m<ipython-input-15-c1cd38fbb179>\u001b[0m in \u001b[0;36m<module>\u001b[0;34m\u001b[0m\n\u001b[0;32m----> 1\u001b[0;31m \u001b[0mgs\u001b[0m\u001b[0;34m.\u001b[0m\u001b[0mrun\u001b[0m\u001b[0;34m(\u001b[0m\u001b[0mn_iter\u001b[0m\u001b[0;34m=\u001b[0m\u001b[0;36m300\u001b[0m\u001b[0;34m)\u001b[0m\u001b[0;34m\u001b[0m\u001b[0;34m\u001b[0m\u001b[0m\n\u001b[0m",
      "\u001b[0;32m~/Documents/Research/sshfs/DimerMaster/netket/abstract_variational_driver.py\u001b[0m in \u001b[0;36mrun\u001b[0;34m(self, n_iter, out, obs, show_progress, save_params_every, write_every, step_size, callback)\u001b[0m\n\u001b[1;32m    229\u001b[0m             \u001b[0mself\u001b[0m\u001b[0;34m.\u001b[0m\u001b[0miter\u001b[0m\u001b[0;34m(\u001b[0m\u001b[0mn_iter\u001b[0m\u001b[0;34m,\u001b[0m \u001b[0mstep_size\u001b[0m\u001b[0;34m)\u001b[0m\u001b[0;34m,\u001b[0m \u001b[0mtotal\u001b[0m\u001b[0;34m=\u001b[0m\u001b[0mn_iter\u001b[0m\u001b[0;34m,\u001b[0m \u001b[0mdisable\u001b[0m\u001b[0;34m=\u001b[0m\u001b[0;32mnot\u001b[0m \u001b[0mshow_progress\u001b[0m\u001b[0;34m\u001b[0m\u001b[0;34m\u001b[0m\u001b[0m\n\u001b[1;32m    230\u001b[0m         ) as itr:\n\u001b[0;32m--> 231\u001b[0;31m             \u001b[0;32mfor\u001b[0m \u001b[0mstep\u001b[0m \u001b[0;32min\u001b[0m \u001b[0mitr\u001b[0m\u001b[0;34m:\u001b[0m\u001b[0;34m\u001b[0m\u001b[0;34m\u001b[0m\u001b[0m\n\u001b[0m\u001b[1;32m    232\u001b[0m \u001b[0;34m\u001b[0m\u001b[0m\n\u001b[1;32m    233\u001b[0m                 \u001b[0mlog_data\u001b[0m \u001b[0;34m=\u001b[0m \u001b[0mself\u001b[0m\u001b[0;34m.\u001b[0m\u001b[0mestimate\u001b[0m\u001b[0;34m(\u001b[0m\u001b[0mobs\u001b[0m\u001b[0;34m)\u001b[0m\u001b[0;34m\u001b[0m\u001b[0;34m\u001b[0m\u001b[0m\n",
      "\u001b[0;32m~/miniconda3/envs/research/lib/python3.8/site-packages/tqdm/std.py\u001b[0m in \u001b[0;36m__iter__\u001b[0;34m(self)\u001b[0m\n\u001b[1;32m   1165\u001b[0m \u001b[0;34m\u001b[0m\u001b[0m\n\u001b[1;32m   1166\u001b[0m         \u001b[0;32mtry\u001b[0m\u001b[0;34m:\u001b[0m\u001b[0;34m\u001b[0m\u001b[0;34m\u001b[0m\u001b[0m\n\u001b[0;32m-> 1167\u001b[0;31m             \u001b[0;32mfor\u001b[0m \u001b[0mobj\u001b[0m \u001b[0;32min\u001b[0m \u001b[0miterable\u001b[0m\u001b[0;34m:\u001b[0m\u001b[0;34m\u001b[0m\u001b[0;34m\u001b[0m\u001b[0m\n\u001b[0m\u001b[1;32m   1168\u001b[0m                 \u001b[0;32myield\u001b[0m \u001b[0mobj\u001b[0m\u001b[0;34m\u001b[0m\u001b[0;34m\u001b[0m\u001b[0m\n\u001b[1;32m   1169\u001b[0m                 \u001b[0;31m# Update and possibly print the progressbar.\u001b[0m\u001b[0;34m\u001b[0m\u001b[0;34m\u001b[0m\u001b[0;34m\u001b[0m\u001b[0m\n",
      "\u001b[0;32m~/Documents/Research/sshfs/DimerMaster/netket/abstract_variational_driver.py\u001b[0m in \u001b[0;36miter\u001b[0;34m(self, n_steps, step)\u001b[0m\n\u001b[1;32m    151\u001b[0m         \u001b[0;32mfor\u001b[0m \u001b[0m_\u001b[0m \u001b[0;32min\u001b[0m \u001b[0mrange\u001b[0m\u001b[0;34m(\u001b[0m\u001b[0;36m0\u001b[0m\u001b[0;34m,\u001b[0m \u001b[0mn_steps\u001b[0m\u001b[0;34m,\u001b[0m \u001b[0mstep\u001b[0m\u001b[0;34m)\u001b[0m\u001b[0;34m:\u001b[0m\u001b[0;34m\u001b[0m\u001b[0;34m\u001b[0m\u001b[0m\n\u001b[1;32m    152\u001b[0m             \u001b[0;32mfor\u001b[0m \u001b[0mi\u001b[0m \u001b[0;32min\u001b[0m \u001b[0mrange\u001b[0m\u001b[0;34m(\u001b[0m\u001b[0;36m0\u001b[0m\u001b[0;34m,\u001b[0m \u001b[0mstep\u001b[0m\u001b[0;34m)\u001b[0m\u001b[0;34m:\u001b[0m\u001b[0;34m\u001b[0m\u001b[0;34m\u001b[0m\u001b[0m\n\u001b[0;32m--> 153\u001b[0;31m                 \u001b[0mdp\u001b[0m \u001b[0;34m=\u001b[0m \u001b[0mself\u001b[0m\u001b[0;34m.\u001b[0m\u001b[0m_forward_and_backward\u001b[0m\u001b[0;34m(\u001b[0m\u001b[0;34m)\u001b[0m\u001b[0;34m\u001b[0m\u001b[0;34m\u001b[0m\u001b[0m\n\u001b[0m\u001b[1;32m    154\u001b[0m                 \u001b[0;32mif\u001b[0m \u001b[0mi\u001b[0m \u001b[0;34m==\u001b[0m \u001b[0;36m0\u001b[0m\u001b[0;34m:\u001b[0m\u001b[0;34m\u001b[0m\u001b[0;34m\u001b[0m\u001b[0m\n\u001b[1;32m    155\u001b[0m                     \u001b[0;32myield\u001b[0m \u001b[0mself\u001b[0m\u001b[0;34m.\u001b[0m\u001b[0mstep_count\u001b[0m\u001b[0;34m\u001b[0m\u001b[0;34m\u001b[0m\u001b[0m\n",
      "\u001b[0;32m~/Documents/Research/sshfs/DimerMaster/netket/_vmc.py\u001b[0m in \u001b[0;36m_forward_and_backward\u001b[0;34m(self)\u001b[0m\n\u001b[1;32m    141\u001b[0m         \u001b[0mprint\u001b[0m\u001b[0;34m(\u001b[0m\u001b[0;34m'n_discard = '\u001b[0m\u001b[0;34m,\u001b[0m\u001b[0mself\u001b[0m\u001b[0;34m.\u001b[0m\u001b[0m_n_discard\u001b[0m\u001b[0;34m)\u001b[0m\u001b[0;34m\u001b[0m\u001b[0;34m\u001b[0m\u001b[0m\n\u001b[1;32m    142\u001b[0m         \u001b[0ms\u001b[0m \u001b[0;34m=\u001b[0m \u001b[0mtime\u001b[0m\u001b[0;34m.\u001b[0m\u001b[0mtime\u001b[0m\u001b[0;34m(\u001b[0m\u001b[0;34m)\u001b[0m\u001b[0;34m\u001b[0m\u001b[0;34m\u001b[0m\u001b[0m\n\u001b[0;32m--> 143\u001b[0;31m         \u001b[0mself\u001b[0m\u001b[0;34m.\u001b[0m\u001b[0m_sampler\u001b[0m\u001b[0;34m.\u001b[0m\u001b[0mdiscard\u001b[0m\u001b[0;34m(\u001b[0m\u001b[0mself\u001b[0m\u001b[0;34m.\u001b[0m\u001b[0m_n_discard\u001b[0m\u001b[0;34m)\u001b[0m\u001b[0;34m\u001b[0m\u001b[0;34m\u001b[0m\u001b[0m\n\u001b[0m\u001b[1;32m    144\u001b[0m         \u001b[0mprint\u001b[0m\u001b[0;34m(\u001b[0m\u001b[0;34m'discard samples'\u001b[0m\u001b[0;34m,\u001b[0m \u001b[0mtime\u001b[0m\u001b[0;34m.\u001b[0m\u001b[0mtime\u001b[0m\u001b[0;34m(\u001b[0m\u001b[0;34m)\u001b[0m\u001b[0;34m-\u001b[0m\u001b[0ms\u001b[0m\u001b[0;34m)\u001b[0m\u001b[0;34m\u001b[0m\u001b[0;34m\u001b[0m\u001b[0m\n\u001b[1;32m    145\u001b[0m \u001b[0;34m\u001b[0m\u001b[0m\n",
      "\u001b[0;32m~/Documents/Research/sshfs/DimerMaster/netket/sampler/new_sampler.py\u001b[0m in \u001b[0;36mdiscard\u001b[0;34m(self, n_discard)\u001b[0m\n\u001b[1;32m     80\u001b[0m \u001b[0;34m\u001b[0m\u001b[0m\n\u001b[1;32m     81\u001b[0m \u001b[0;34m\u001b[0m\u001b[0m\n\u001b[0;32m---> 82\u001b[0;31m             \u001b[0mtemp_out\u001b[0m \u001b[0;34m=\u001b[0m \u001b[0mqueue\u001b[0m\u001b[0;34m[\u001b[0m\u001b[0mi\u001b[0m\u001b[0;34m]\u001b[0m\u001b[0;34m.\u001b[0m\u001b[0mget\u001b[0m\u001b[0;34m(\u001b[0m\u001b[0;34m)\u001b[0m\u001b[0;34m\u001b[0m\u001b[0;34m\u001b[0m\u001b[0m\n\u001b[0m\u001b[1;32m     83\u001b[0m \u001b[0;34m\u001b[0m\u001b[0m\n\u001b[1;32m     84\u001b[0m             \u001b[0;32mif\u001b[0m \u001b[0mtemp_out\u001b[0m \u001b[0;32mis\u001b[0m \u001b[0;32mnot\u001b[0m \u001b[0;32mNone\u001b[0m\u001b[0;34m:\u001b[0m\u001b[0;34m\u001b[0m\u001b[0;34m\u001b[0m\u001b[0m\n",
      "\u001b[0;32m~/miniconda3/envs/research/lib/python3.8/multiprocessing/queues.py\u001b[0m in \u001b[0;36mget\u001b[0;34m(self, block, timeout)\u001b[0m\n\u001b[1;32m     95\u001b[0m         \u001b[0;32mif\u001b[0m \u001b[0mblock\u001b[0m \u001b[0;32mand\u001b[0m \u001b[0mtimeout\u001b[0m \u001b[0;32mis\u001b[0m \u001b[0;32mNone\u001b[0m\u001b[0;34m:\u001b[0m\u001b[0;34m\u001b[0m\u001b[0;34m\u001b[0m\u001b[0m\n\u001b[1;32m     96\u001b[0m             \u001b[0;32mwith\u001b[0m \u001b[0mself\u001b[0m\u001b[0;34m.\u001b[0m\u001b[0m_rlock\u001b[0m\u001b[0;34m:\u001b[0m\u001b[0;34m\u001b[0m\u001b[0;34m\u001b[0m\u001b[0m\n\u001b[0;32m---> 97\u001b[0;31m                 \u001b[0mres\u001b[0m \u001b[0;34m=\u001b[0m \u001b[0mself\u001b[0m\u001b[0;34m.\u001b[0m\u001b[0m_recv_bytes\u001b[0m\u001b[0;34m(\u001b[0m\u001b[0;34m)\u001b[0m\u001b[0;34m\u001b[0m\u001b[0;34m\u001b[0m\u001b[0m\n\u001b[0m\u001b[1;32m     98\u001b[0m             \u001b[0mself\u001b[0m\u001b[0;34m.\u001b[0m\u001b[0m_sem\u001b[0m\u001b[0;34m.\u001b[0m\u001b[0mrelease\u001b[0m\u001b[0;34m(\u001b[0m\u001b[0;34m)\u001b[0m\u001b[0;34m\u001b[0m\u001b[0;34m\u001b[0m\u001b[0m\n\u001b[1;32m     99\u001b[0m         \u001b[0;32melse\u001b[0m\u001b[0;34m:\u001b[0m\u001b[0;34m\u001b[0m\u001b[0;34m\u001b[0m\u001b[0m\n",
      "\u001b[0;32m~/miniconda3/envs/research/lib/python3.8/multiprocessing/connection.py\u001b[0m in \u001b[0;36mrecv_bytes\u001b[0;34m(self, maxlength)\u001b[0m\n\u001b[1;32m    214\u001b[0m         \u001b[0;32mif\u001b[0m \u001b[0mmaxlength\u001b[0m \u001b[0;32mis\u001b[0m \u001b[0;32mnot\u001b[0m \u001b[0;32mNone\u001b[0m \u001b[0;32mand\u001b[0m \u001b[0mmaxlength\u001b[0m \u001b[0;34m<\u001b[0m \u001b[0;36m0\u001b[0m\u001b[0;34m:\u001b[0m\u001b[0;34m\u001b[0m\u001b[0;34m\u001b[0m\u001b[0m\n\u001b[1;32m    215\u001b[0m             \u001b[0;32mraise\u001b[0m \u001b[0mValueError\u001b[0m\u001b[0;34m(\u001b[0m\u001b[0;34m\"negative maxlength\"\u001b[0m\u001b[0;34m)\u001b[0m\u001b[0;34m\u001b[0m\u001b[0;34m\u001b[0m\u001b[0m\n\u001b[0;32m--> 216\u001b[0;31m         \u001b[0mbuf\u001b[0m \u001b[0;34m=\u001b[0m \u001b[0mself\u001b[0m\u001b[0;34m.\u001b[0m\u001b[0m_recv_bytes\u001b[0m\u001b[0;34m(\u001b[0m\u001b[0mmaxlength\u001b[0m\u001b[0;34m)\u001b[0m\u001b[0;34m\u001b[0m\u001b[0;34m\u001b[0m\u001b[0m\n\u001b[0m\u001b[1;32m    217\u001b[0m         \u001b[0;32mif\u001b[0m \u001b[0mbuf\u001b[0m \u001b[0;32mis\u001b[0m \u001b[0;32mNone\u001b[0m\u001b[0;34m:\u001b[0m\u001b[0;34m\u001b[0m\u001b[0;34m\u001b[0m\u001b[0m\n\u001b[1;32m    218\u001b[0m             \u001b[0mself\u001b[0m\u001b[0;34m.\u001b[0m\u001b[0m_bad_message_length\u001b[0m\u001b[0;34m(\u001b[0m\u001b[0;34m)\u001b[0m\u001b[0;34m\u001b[0m\u001b[0;34m\u001b[0m\u001b[0m\n",
      "\u001b[0;32m~/miniconda3/envs/research/lib/python3.8/multiprocessing/connection.py\u001b[0m in \u001b[0;36m_recv_bytes\u001b[0;34m(self, maxsize)\u001b[0m\n\u001b[1;32m    412\u001b[0m \u001b[0;34m\u001b[0m\u001b[0m\n\u001b[1;32m    413\u001b[0m     \u001b[0;32mdef\u001b[0m \u001b[0m_recv_bytes\u001b[0m\u001b[0;34m(\u001b[0m\u001b[0mself\u001b[0m\u001b[0;34m,\u001b[0m \u001b[0mmaxsize\u001b[0m\u001b[0;34m=\u001b[0m\u001b[0;32mNone\u001b[0m\u001b[0;34m)\u001b[0m\u001b[0;34m:\u001b[0m\u001b[0;34m\u001b[0m\u001b[0;34m\u001b[0m\u001b[0m\n\u001b[0;32m--> 414\u001b[0;31m         \u001b[0mbuf\u001b[0m \u001b[0;34m=\u001b[0m \u001b[0mself\u001b[0m\u001b[0;34m.\u001b[0m\u001b[0m_recv\u001b[0m\u001b[0;34m(\u001b[0m\u001b[0;36m4\u001b[0m\u001b[0;34m)\u001b[0m\u001b[0;34m\u001b[0m\u001b[0;34m\u001b[0m\u001b[0m\n\u001b[0m\u001b[1;32m    415\u001b[0m         \u001b[0msize\u001b[0m\u001b[0;34m,\u001b[0m \u001b[0;34m=\u001b[0m \u001b[0mstruct\u001b[0m\u001b[0;34m.\u001b[0m\u001b[0munpack\u001b[0m\u001b[0;34m(\u001b[0m\u001b[0;34m\"!i\"\u001b[0m\u001b[0;34m,\u001b[0m \u001b[0mbuf\u001b[0m\u001b[0;34m.\u001b[0m\u001b[0mgetvalue\u001b[0m\u001b[0;34m(\u001b[0m\u001b[0;34m)\u001b[0m\u001b[0;34m)\u001b[0m\u001b[0;34m\u001b[0m\u001b[0;34m\u001b[0m\u001b[0m\n\u001b[1;32m    416\u001b[0m         \u001b[0;32mif\u001b[0m \u001b[0msize\u001b[0m \u001b[0;34m==\u001b[0m \u001b[0;34m-\u001b[0m\u001b[0;36m1\u001b[0m\u001b[0;34m:\u001b[0m\u001b[0;34m\u001b[0m\u001b[0;34m\u001b[0m\u001b[0m\n",
      "\u001b[0;32m~/miniconda3/envs/research/lib/python3.8/multiprocessing/connection.py\u001b[0m in \u001b[0;36m_recv\u001b[0;34m(self, size, read)\u001b[0m\n\u001b[1;32m    377\u001b[0m         \u001b[0mremaining\u001b[0m \u001b[0;34m=\u001b[0m \u001b[0msize\u001b[0m\u001b[0;34m\u001b[0m\u001b[0;34m\u001b[0m\u001b[0m\n\u001b[1;32m    378\u001b[0m         \u001b[0;32mwhile\u001b[0m \u001b[0mremaining\u001b[0m \u001b[0;34m>\u001b[0m \u001b[0;36m0\u001b[0m\u001b[0;34m:\u001b[0m\u001b[0;34m\u001b[0m\u001b[0;34m\u001b[0m\u001b[0m\n\u001b[0;32m--> 379\u001b[0;31m             \u001b[0mchunk\u001b[0m \u001b[0;34m=\u001b[0m \u001b[0mread\u001b[0m\u001b[0;34m(\u001b[0m\u001b[0mhandle\u001b[0m\u001b[0;34m,\u001b[0m \u001b[0mremaining\u001b[0m\u001b[0;34m)\u001b[0m\u001b[0;34m\u001b[0m\u001b[0;34m\u001b[0m\u001b[0m\n\u001b[0m\u001b[1;32m    380\u001b[0m             \u001b[0mn\u001b[0m \u001b[0;34m=\u001b[0m \u001b[0mlen\u001b[0m\u001b[0;34m(\u001b[0m\u001b[0mchunk\u001b[0m\u001b[0;34m)\u001b[0m\u001b[0;34m\u001b[0m\u001b[0;34m\u001b[0m\u001b[0m\n\u001b[1;32m    381\u001b[0m             \u001b[0;32mif\u001b[0m \u001b[0mn\u001b[0m \u001b[0;34m==\u001b[0m \u001b[0;36m0\u001b[0m\u001b[0;34m:\u001b[0m\u001b[0;34m\u001b[0m\u001b[0;34m\u001b[0m\u001b[0m\n",
      "\u001b[0;31mKeyboardInterrupt\u001b[0m: "
     ]
    }
   ],
   "source": [
    "gs.run(n_iter=300)"
   ]
  },
  {
   "cell_type": "code",
   "execution_count": null,
   "metadata": {},
   "outputs": [],
   "source": []
  }
 ],
 "metadata": {
  "kernelspec": {
   "display_name": "Python 3",
   "language": "python",
   "name": "python3"
  },
  "language_info": {
   "codemirror_mode": {
    "name": "ipython",
    "version": 3
   },
   "file_extension": ".py",
   "mimetype": "text/x-python",
   "name": "python",
   "nbconvert_exporter": "python",
   "pygments_lexer": "ipython3",
   "version": "3.8.5"
  }
 },
 "nbformat": 4,
 "nbformat_minor": 5
}
