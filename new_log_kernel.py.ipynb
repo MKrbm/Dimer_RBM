{
 "cells": [
  {
   "cell_type": "code",
   "execution_count": 10,
   "id": "needed-struggle",
   "metadata": {},
   "outputs": [
    {
     "data": {
      "text/plain": [
       "12"
      ]
     },
     "execution_count": 10,
     "metadata": {},
     "output_type": "execute_result"
    }
   ],
   "source": [
    "import numpy as np\n",
    "import netket as nk\n",
    "from scripts import functions as f\n",
    "from scripts import new_dynamics \n",
    "\n",
    "import multiprocessing\n",
    "import mkl\n",
    "import time\n",
    "mkl.set_num_threads(12)\n",
    "mkl.get_max_threads()"
   ]
  },
  {
   "cell_type": "code",
   "execution_count": 17,
   "id": "saving-allergy",
   "metadata": {},
   "outputs": [
    {
     "name": "stdout",
     "output_type": "stream",
     "text": [
      "4\n"
     ]
    }
   ],
   "source": [
    "h = 1.0\n",
    "V = 1.0\n",
    "alpha = 1 \n",
    "length = [8, 8]\n",
    "name = 'h={}V={}l={}'.format(h, V, length)\n",
    "kernel = 1\n",
    "n_chains = 1\n",
    "n_discards = 1\n",
    "n_samples = 1e5\n",
    "\n",
    "g = nk.graph.Graph(nodes = [i for i in range(length[0] * length[1] * 2)])\n",
    "hi = nk.hilbert.Spin(s=0.5, graph=g)\n",
    "\n",
    "op = f.dimer_hamiltonian(h, V,np.array(length))\n",
    "op_transition = f.dimer_flip1(length = np.array(length))\n",
    "hex_ = nk.machine.new_hex(np.array(length))\n",
    "\n",
    "\n",
    "ma = nk.machine.RbmDimer(hi, hex_, alpha = alpha, symmetry = True\n",
    "                    ,use_hidden_bias = False, use_visible_bias = False, dtype=float)\n",
    "\n",
    "ma.load('save/ma/'+name)"
   ]
  },
  {
   "cell_type": "code",
   "execution_count": 20,
   "id": "electoral-scheme",
   "metadata": {},
   "outputs": [
    {
     "name": "stdout",
     "output_type": "stream",
     "text": [
      "number of core : 12\n",
      "0.020051240921020508 for metropolis\n",
      "[[-1. -1. -1. -1. -1.  1.  1.  1. -1. -1. -1. -1. -1.  1.  1. -1.  1.  1.\n",
      "   1.  1.  1.  1. -1. -1.  1.  1.  1.  1.  1.  1. -1. -1. -1. -1. -1.  1.\n",
      "   1.  1.  1. -1. -1. -1.  1.  1.  1.  1.  1. -1. -1. -1. -1.  1. -1. -1.\n",
      "  -1. -1. -1. -1.  1. -1. -1. -1. -1. -1. -1. -1. -1. -1. -1. -1. -1. -1.\n",
      "  -1. -1. -1. -1. -1. -1. -1. -1.  1. -1. -1. -1. -1. -1.  1.  1.  1. -1.\n",
      "  -1. -1. -1.  1.  1.  1. -1. -1.  1.  1.  1.  1.  1.  1. -1. -1.  1.  1.\n",
      "   1.  1.  1.  1.  1. -1. -1. -1. -1.  1. -1.  1.  1. -1. -1. -1.  1.  1.\n",
      "  -1.  1.]]\n",
      "14.568799257278442 for metropolis\n",
      "14.60584378242492714.615193605422974 for metropolis \n",
      "for metropolis\n",
      "14.640964269638062 for metropolis\n",
      "14.673559665679932 for metropolis\n",
      "14.6926908493042 for metropolis\n",
      "14.750976324081421 for metropolis\n",
      "14.808945417404175 for metropolis\n",
      "14.848471641540527 for metropolis\n",
      "15.29661750793457 for metropolis\n",
      "15.460580825805664 for metropolis\n",
      "16.58040690422058 for metropolis\n"
     ]
    }
   ],
   "source": [
    "mkl.set_num_threads(1)\n",
    "sa_mul = nk.sampler.DimerMetropolisLocal_multi(machine=ma, op=op_transition, length = length, n_chains=n_chains, sweep_size = 70, kernel = 1, n_jobs=12)\n",
    "sa_mul.reset()\n",
    "print(sa_mul.sa_list[0]._state)\n",
    "samples_state = sa_mul.generate_samples(10**5)\n",
    "samples_state = samples_state.reshape(-1, samples_state.shape[-1])"
   ]
  },
  {
   "cell_type": "code",
   "execution_count": 26,
   "id": "better-rwanda",
   "metadata": {},
   "outputs": [
    {
     "data": {
      "text/plain": [
       "1"
      ]
     },
     "execution_count": 26,
     "metadata": {},
     "output_type": "execute_result"
    }
   ],
   "source": [
    "mkl.set_num_threads(12)"
   ]
  },
  {
   "cell_type": "code",
   "execution_count": 27,
   "id": "capital-namibia",
   "metadata": {},
   "outputs": [
    {
     "name": "stdout",
     "output_type": "stream",
     "text": [
      "182 ms ± 428 µs per loop (mean ± std. dev. of 7 runs, 10 loops each)\n"
     ]
    }
   ],
   "source": [
    "%timeit ma.log_val(samples_state)"
   ]
  },
  {
   "cell_type": "code",
   "execution_count": 23,
   "id": "shared-stream",
   "metadata": {},
   "outputs": [
    {
     "name": "stdout",
     "output_type": "stream",
     "text": [
      "112 ms ± 380 µs per loop (mean ± std. dev. of 7 runs, 10 loops each)\n"
     ]
    }
   ],
   "source": [
    "%timeit r = samples_state.dot(ma._w)"
   ]
  },
  {
   "cell_type": "code",
   "execution_count": 15,
   "id": "lyric-parent",
   "metadata": {},
   "outputs": [],
   "source": [
    "out = np.empty(samples_state.shape[0], dtype=np.complex128)"
   ]
  },
  {
   "cell_type": "code",
   "execution_count": 24,
   "id": "boolean-sugar",
   "metadata": {},
   "outputs": [
    {
     "name": "stdout",
     "output_type": "stream",
     "text": [
      "134 ms ± 127 µs per loop (mean ± std. dev. of 7 runs, 10 loops each)\n"
     ]
    }
   ],
   "source": [
    "%timeit nk.machine.rbm._log_cosh_sum(r, out)"
   ]
  },
  {
   "cell_type": "code",
   "execution_count": null,
   "id": "appointed-sleeve",
   "metadata": {},
   "outputs": [],
   "source": []
  }
 ],
 "metadata": {
  "kernelspec": {
   "display_name": "Python 3",
   "language": "python",
   "name": "python3"
  },
  "language_info": {
   "codemirror_mode": {
    "name": "ipython",
    "version": 3
   },
   "file_extension": ".py",
   "mimetype": "text/x-python",
   "name": "python",
   "nbconvert_exporter": "python",
   "pygments_lexer": "ipython3",
   "version": "3.8.5"
  }
 },
 "nbformat": 4,
 "nbformat_minor": 5
}
