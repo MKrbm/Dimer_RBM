{
 "cells": [
  {
   "cell_type": "code",
   "execution_count": 27,
   "id": "medium-diary",
   "metadata": {},
   "outputs": [],
   "source": [
    "import numpy as np"
   ]
  },
  {
   "cell_type": "code",
   "execution_count": 36,
   "id": "indie-madagascar",
   "metadata": {},
   "outputs": [],
   "source": [
    "lam = np.random.uniform(0,1,size=30000)"
   ]
  },
  {
   "cell_type": "code",
   "execution_count": 37,
   "id": "statistical-senegal",
   "metadata": {},
   "outputs": [],
   "source": [
    "lam_ = np.log(lam)"
   ]
  },
  {
   "cell_type": "code",
   "execution_count": 38,
   "id": "sufficient-rescue",
   "metadata": {},
   "outputs": [
    {
     "data": {
      "text/plain": [
       "-0.9911201483496223"
      ]
     },
     "execution_count": 38,
     "metadata": {},
     "output_type": "execute_result"
    }
   ],
   "source": [
    "lam_.mean()"
   ]
  },
  {
   "cell_type": "code",
   "execution_count": 39,
   "id": "latin-arkansas",
   "metadata": {},
   "outputs": [
    {
     "data": {
      "text/plain": [
       "0.9871780389966005"
      ]
     },
     "execution_count": 39,
     "metadata": {},
     "output_type": "execute_result"
    }
   ],
   "source": [
    "lam_.std()"
   ]
  },
  {
   "cell_type": "code",
   "execution_count": 40,
   "id": "starting-writer",
   "metadata": {},
   "outputs": [
    {
     "data": {
      "text/plain": [
       "'relative error : -9.960e-01'"
      ]
     },
     "execution_count": 40,
     "metadata": {},
     "output_type": "execute_result"
    }
   ],
   "source": [
    "f\"relative error : {lam_.std()/lam_.mean() :.3e}\""
   ]
  },
  {
   "cell_type": "code",
   "execution_count": 41,
   "id": "eight-timing",
   "metadata": {},
   "outputs": [],
   "source": [
    "lam_max  = np.abs(lam_).max()"
   ]
  },
  {
   "cell_type": "code",
   "execution_count": 42,
   "id": "subtle-standard",
   "metadata": {},
   "outputs": [],
   "source": [
    "lam2 = lam_/lam_max\n",
    "p = np.abs(lam2.mean())"
   ]
  },
  {
   "cell_type": "code",
   "execution_count": 43,
   "id": "representative-idaho",
   "metadata": {},
   "outputs": [
    {
     "data": {
      "text/plain": [
       "'relative error : 3.116e+00'"
      ]
     },
     "execution_count": 43,
     "metadata": {},
     "output_type": "execute_result"
    }
   ],
   "source": [
    "f\"relative error : {np.sqrt(1-p)/np.sqrt(p) :.3e}\""
   ]
  },
  {
   "cell_type": "code",
   "execution_count": 54,
   "id": "ancient-graham",
   "metadata": {},
   "outputs": [
    {
     "data": {
      "text/plain": [
       "0.02343964629780272"
      ]
     },
     "execution_count": 54,
     "metadata": {},
     "output_type": "execute_result"
    }
   ],
   "source": [
    "np.arcsin(np.sqrt(36/(4**8)))"
   ]
  },
  {
   "cell_type": "code",
   "execution_count": 49,
   "id": "excess-logan",
   "metadata": {},
   "outputs": [
    {
     "data": {
      "text/plain": [
       "67.01450639816805"
      ]
     },
     "execution_count": 49,
     "metadata": {},
     "output_type": "execute_result"
    }
   ],
   "source": [
    "np.pi / (np.arcsin(np.sqrt(36/(4**8))) * 2)"
   ]
  },
  {
   "cell_type": "code",
   "execution_count": null,
   "id": "reflected-creation",
   "metadata": {},
   "outputs": [],
   "source": [
    "np.pi / (np.arcsin(np.sqrt(36/4**8)) * 2)"
   ]
  }
 ],
 "metadata": {
  "kernelspec": {
   "display_name": "Python 3",
   "language": "python",
   "name": "python3"
  },
  "language_info": {
   "codemirror_mode": {
    "name": "ipython",
    "version": 3
   },
   "file_extension": ".py",
   "mimetype": "text/x-python",
   "name": "python",
   "nbconvert_exporter": "python",
   "pygments_lexer": "ipython3",
   "version": "3.8.5"
  }
 },
 "nbformat": 4,
 "nbformat_minor": 5
}
