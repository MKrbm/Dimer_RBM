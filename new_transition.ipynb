{
 "cells": [
  {
   "cell_type": "code",
   "execution_count": 7,
   "id": "alpine-electricity",
   "metadata": {
    "scrolled": true
   },
   "outputs": [],
   "source": [
    "import numpy as np\n",
    "import netket as nk\n",
    "from scripts import functions as f\n",
    "from scripts import new_dynamics "
   ]
  },
  {
   "cell_type": "code",
   "execution_count": 8,
   "id": "rocky-lender",
   "metadata": {},
   "outputs": [],
   "source": [
    "import multiprocessing"
   ]
  },
  {
   "cell_type": "code",
   "execution_count": 9,
   "id": "potential-consideration",
   "metadata": {},
   "outputs": [
    {
     "data": {
      "text/plain": [
       "1"
      ]
     },
     "execution_count": 9,
     "metadata": {},
     "output_type": "execute_result"
    }
   ],
   "source": [
    "import mkl\n",
    "import time\n",
    "mkl.set_num_threads(1)"
   ]
  },
  {
   "cell_type": "code",
   "execution_count": 10,
   "id": "listed-shock",
   "metadata": {},
   "outputs": [
    {
     "data": {
      "text/plain": [
       "1"
      ]
     },
     "execution_count": 10,
     "metadata": {},
     "output_type": "execute_result"
    }
   ],
   "source": [
    "mkl.get_max_threads()"
   ]
  },
  {
   "cell_type": "code",
   "execution_count": 11,
   "id": "recognized-holmes",
   "metadata": {},
   "outputs": [],
   "source": [
    "from conf import *\n",
    "from numba import njit, jit, jitclass, int8, complex128, int64"
   ]
  },
  {
   "cell_type": "code",
   "execution_count": 6,
   "id": "human-kuwait",
   "metadata": {
    "scrolled": true
   },
   "outputs": [
    {
     "name": "stdout",
     "output_type": "stream",
     "text": [
      "4\n"
     ]
    }
   ],
   "source": [
    "h = 1.0\n",
    "V = 1.0\n",
    "\n",
    "length = [8, 8]\n",
    "name = 'h={}V={}l={}'.format(h, V, length)\n",
    "kernel = 1\n",
    "n_chains = 1\n",
    "n_discards = 1\n",
    "n_samples = 1e5\n",
    "\n",
    "g = nk.graph.Graph(nodes = [i for i in range(length[0] * length[1] * 2)])\n",
    "hi = nk.hilbert.Spin(s=0.5, graph=g)\n",
    "\n",
    "op = f.dimer_hamiltonian(h, V,np.array(length))\n",
    "op_transition = f.dimer_flip1(length = np.array(length))\n",
    "hex_ = nk.machine.new_hex(np.array(length))\n",
    "\n",
    "\n",
    "ma = nk.machine.RbmDimer(hi, hex_, alpha = alpha, symmetry = True\n",
    "                    ,use_hidden_bias = False, use_visible_bias = False, dtype=float)\n",
    "\n",
    "ma.load('save/ma/'+name)"
   ]
  },
  {
   "cell_type": "code",
   "execution_count": 573,
   "id": "going-grill",
   "metadata": {},
   "outputs": [],
   "source": [
    "spec = [\n",
    "    (\"local_states\", int8[:]),\n",
    "    (\"size\", int64), \n",
    "    (\"n_states\", int64),\n",
    "    (\"basis\", int64[:]),\n",
    "    (\"constant\", int64),\n",
    "    (\"diag_mels\", complex128[:,:]),\n",
    "    (\"n_conns\", int64[:,:]),\n",
    "    (\"mels\", complex128[:,:,:]),\n",
    "    (\"x_prime\", int8[:,:,:]),\n",
    "    (\"acting_on\", int64[:,:]),\n",
    "    (\"acting_size\", int64[:]),\n",
    "#     (\"acting_size\", int64),\n",
    "    \n",
    "]"
   ]
  },
  {
   "cell_type": "code",
   "execution_count": 600,
   "id": "behavioral-printer",
   "metadata": {},
   "outputs": [
    {
     "name": "stderr",
     "output_type": "stream",
     "text": [
      "<ipython-input-600-1f5a658c619f>:5: NumbaDeprecationWarning: The 'numba.jitclass' decorator has moved to 'numba.experimental.jitclass' to better reflect the experimental nature of the functionality. Please update your imports to accommodate this change and see https://numba.pydata.org/numba-doc/latest/reference/deprecation.html#change-of-jitclass-location for the time frame.\n",
      "  @jitclass(spec)\n"
     ]
    }
   ],
   "source": [
    "get_conn1 = nk.operator._local_operator.LocalOperator._get_conn_flattened_kernel\n",
    "get_conn2 = nk.operator._local_operator.DimerLocalOperator2._get_conn_flattened_kernel\n",
    "import numpy as _np\n",
    "\n",
    "@jitclass(spec)\n",
    "class _DimerLocalKernel_1:\n",
    "    def __init__(self, \n",
    "                local_states, \n",
    "                size,\n",
    "                basis,\n",
    "                constant,\n",
    "                diag_mels,\n",
    "                n_conns,\n",
    "                mels,\n",
    "                x_prime,\n",
    "                acting_on,\n",
    "                acting_size,\n",
    "                ):\n",
    "\n",
    "        self.local_states = _np.sort(local_states)\n",
    "        self.size = size\n",
    "        self.n_states = self.local_states.size\n",
    "        self.basis = basis[::-1].copy()\n",
    "#         self.basis = basis\n",
    "        self.constant = constant\n",
    "        self.diag_mels = diag_mels\n",
    "        self.n_conns = n_conns\n",
    "        self.mels = mels\n",
    "        self.x_prime = x_prime\n",
    "        self.acting_on = acting_on\n",
    "#         self.acting_size = int(acting_size[0])\n",
    "        self.acting_size = acting_size\n",
    "\n",
    "        \n",
    "    \n",
    "    def transition(self, state, state_1, w, r, sweep_size):\n",
    "        '''\n",
    "        This transition is exclusively for batch_size = 1\n",
    "        '''\n",
    "\n",
    "        accepted = 0\n",
    "        batch_size = state.shape[0]\n",
    "        \n",
    "        assert batch_size == 1, 'batch_size must be 1'\n",
    "        \n",
    "        sections = _np.zeros(1, dtype=_np.int64)\n",
    "        sections_1 = _np.zeros(1, dtype=_np.int64)\n",
    "        state_1 = state\n",
    "\n",
    "        log_values = _log_val_kernel(state.astype(_np.float64), w, r)[0]\n",
    "#         print(log_values)\n",
    "        \n",
    "        state_prime = self.get_conn(state,sections)\n",
    "        n_conn = sections[0]-1\n",
    "#         print(log_values_prime)\n",
    "        \n",
    "\n",
    "        while True:\n",
    "            \n",
    "#             state_prime_, mels_ = self.get_conn(state, sections)\n",
    "#             n_conn_ = sections[0]-1\n",
    "\n",
    "            # print((state_prime_ == state_prime).any())\n",
    "            # print((n_conn_ + 1).sum())\n",
    "#             print(log_values)\n",
    "            \n",
    "            rs = (_np.random.rand(1) * (n_conn)).astype(_np.int64)\n",
    "\n",
    "            state_1 = state_prime[rs+1].reshape(1,-1)\n",
    "\n",
    "            state_1_prime = self.get_conn(state_1, sections_1)\n",
    "            n_conn_1 = sections_1[0]-1\n",
    "\n",
    "            prob_corr = n_conn/n_conn_1\n",
    "            \n",
    "            \n",
    "            log_values_1 = _log_val_kernel(state_1.astype(_np.float64), w, r)[0]\n",
    "\n",
    "            prob = _np.exp(\n",
    "                2 * (log_values_1 - log_values)\n",
    "            ) * prob_corr\n",
    "            \n",
    "            if prob > _np.random.rand(1):\n",
    "                state[:] = state_1\n",
    "                state_prime = state_1_prime\n",
    "                log_values = log_values_1\n",
    "                n_conn = n_conn_1\n",
    "                accepted += 1\n",
    "                \n",
    "\n",
    "            # sections = sections_1\n",
    "\n",
    "            \n",
    "            if accepted >= sweep_size:\n",
    "                break\n",
    "                \n",
    "        return accepted\n",
    "\n",
    "\n",
    "    def random_state(self, state):\n",
    "\n",
    "        for i in range(state.shape[0]):\n",
    "#         for si in range(state.shape[1]):\n",
    "            rs = _random.randint(0, self.n_states)\n",
    "            state[i] = _np.zeros_like(state[i]) + self.local_states[rs]\n",
    "    \n",
    "\n",
    "\n",
    "\n",
    "\n",
    "\n",
    "\n",
    "    def get_conn(self, x, sections):\n",
    "\n",
    "        return get_conn_one(\n",
    "            x,\n",
    "            sections,\n",
    "            self.basis,\n",
    "            self.n_conns,\n",
    "            self.x_prime,\n",
    "            self.acting_on,\n",
    "        )\n",
    "\n",
    "#         return get_conn_1(\n",
    "#             x,\n",
    "#             sections,\n",
    "#             self.basis,\n",
    "#             self.constant,\n",
    "#             self.diag_mels,\n",
    "#             self.n_conns,\n",
    "#             self.mels,\n",
    "#             self.x_prime,\n",
    "#             self.acting_on,\n",
    "#             self.acting_size,\n",
    "#         )\n",
    "\n",
    "@jit(fastmath=True)\n",
    "def _log_cosh_sum(x, out, add_factor=None):\n",
    "    x = x * _np.sign(x.real)\n",
    "    if add_factor is None:\n",
    "        for i in range(x.shape[0]):\n",
    "            out[i] = _np.sum(x[i] - _np.log(2.0) + _np.log(1.0 + _np.exp(-2.0 * x[i])))\n",
    "    else:\n",
    "        for i in range(x.shape[0]):\n",
    "            out[i] += add_factor * (\n",
    "                _np.sum(x[i] - _np.log(2.0) + _np.log(1.0 + _np.exp(-2.0 * x[i])))\n",
    "            )\n",
    "    return out\n",
    "\n",
    "\n",
    "\n",
    "@jit(nopython=True)\n",
    "def _log_val_kernel(x, W, r):\n",
    "\n",
    "    if x.ndim != 2:\n",
    "        raise RuntimeError(\"Invalid input shape, expected a 2d array\")\n",
    "\n",
    "    # if out is None:\n",
    "    out = _np.empty(x.shape[0], dtype=_np.float64)\n",
    "    r = x.dot(W)\n",
    "    _log_cosh_sum(r, out)\n",
    "\n",
    "    return out\n"
   ]
  },
  {
   "cell_type": "code",
   "execution_count": 601,
   "id": "boxed-mustang",
   "metadata": {},
   "outputs": [],
   "source": [
    "@jit(nopython=True)\n",
    "def get_conn_one(\n",
    "    x,\n",
    "    sections,\n",
    "    basis,\n",
    "    n_conns,\n",
    "    all_x_prime,\n",
    "    acting_on,\n",
    "):\n",
    "    batch_size = x.shape[0]\n",
    "    n_sites = x.shape[1]\n",
    "\n",
    "    assert batch_size == 1, 'batch_size must be 1'\n",
    "\n",
    "    n_operators = n_conns.shape[0]\n",
    "\n",
    "    \n",
    "    X_temp = _np.zeros((n_operators, n_sites), dtype=x.dtype)\n",
    "\n",
    "\n",
    "\n",
    "#     X_temp[0] = x\n",
    "    S = 1\n",
    "    for b in range(batch_size):\n",
    "        x_b = x[b]\n",
    "        # diagonal element\n",
    "        # counting the off-diagonal elements\n",
    "        for i in range(n_operators):\n",
    "            a = 15\n",
    "            \n",
    "            acting_on_i = acting_on[i]\n",
    "            x_i = x_b[acting_on_i]\n",
    "\n",
    "            for k in range(4):\n",
    "                a += (\n",
    "                    x_i[k]\n",
    "                    * basis[k]\n",
    "                )\n",
    "            a = int(a/2)\n",
    "            \n",
    "            if n_conns[i, a]:\n",
    "                X_temp[S] = x_b\n",
    "                X_temp[S][acting_on_i] = all_x_prime[i, a]\n",
    "                S += 1\n",
    "                \n",
    "\n",
    "#         tot_conn += conn_b\n",
    "        sections[b] = S\n",
    "    \n",
    "\n",
    "\n",
    "\n",
    "    return X_temp[:S]"
   ]
  },
  {
   "cell_type": "code",
   "execution_count": 586,
   "id": "anticipated-slide",
   "metadata": {},
   "outputs": [],
   "source": [
    "x = np.random.randint(0,2,10)"
   ]
  },
  {
   "cell_type": "code",
   "execution_count": 587,
   "id": "matched-payment",
   "metadata": {},
   "outputs": [
    {
     "data": {
      "text/plain": [
       "array([0, 0, 0, 0, 1, 0, 0, 1, 1, 0, 0, 1, 0, 0, 0, 0])"
      ]
     },
     "execution_count": 587,
     "metadata": {},
     "output_type": "execute_result"
    }
   ],
   "source": [
    "op._n_conns[0]"
   ]
  },
  {
   "cell_type": "code",
   "execution_count": 588,
   "id": "fantastic-timing",
   "metadata": {},
   "outputs": [],
   "source": [
    "x = np.ones((1,128), dtype=np.int8)\n",
    "y = np.copy(x)\n"
   ]
  },
  {
   "cell_type": "code",
   "execution_count": 597,
   "id": "tested-encounter",
   "metadata": {},
   "outputs": [
    {
     "name": "stdout",
     "output_type": "stream",
     "text": [
      "13 ns ± 0.489 ns per loop (mean ± std. dev. of 7 runs, 100000000 loops each)\n"
     ]
    }
   ],
   "source": [
    "%timeit x"
   ]
  },
  {
   "cell_type": "code",
   "execution_count": 589,
   "id": "efficient-internet",
   "metadata": {},
   "outputs": [],
   "source": [
    "_x_prime = op_transition._x_prime[:,:,0,:]\n",
    "transition = _DimerLocalKernel_1(\n",
    "    op_transition._local_states,\n",
    "    op_transition._size,\n",
    "    op_transition._basis,\n",
    "    op_transition._constant,\n",
    "    op_transition._diag_mels,\n",
    "    op_transition._n_conns,\n",
    "    op_transition._mels,\n",
    "    _x_prime,\n",
    "    op_transition._acting_on,\n",
    "    op_transition._acting_size\n",
    "\n",
    "\n",
    ")"
   ]
  },
  {
   "cell_type": "code",
   "execution_count": null,
   "id": "surgical-assets",
   "metadata": {},
   "outputs": [],
   "source": []
  },
  {
   "cell_type": "code",
   "execution_count": 590,
   "id": "affecting-graduate",
   "metadata": {},
   "outputs": [
    {
     "data": {
      "text/plain": [
       "(384, 16, 4)"
      ]
     },
     "execution_count": 590,
     "metadata": {},
     "output_type": "execute_result"
    }
   ],
   "source": [
    "_x_prime.shape"
   ]
  },
  {
   "cell_type": "code",
   "execution_count": 591,
   "id": "waiting-princess",
   "metadata": {},
   "outputs": [],
   "source": [
    "s = np.zeros(1, dtype=np.int)\n"
   ]
  },
  {
   "cell_type": "code",
   "execution_count": 592,
   "id": "vocational-cambodia",
   "metadata": {},
   "outputs": [
    {
     "name": "stdout",
     "output_type": "stream",
     "text": [
      "15.2 µs ± 8.29 µs per loop (mean ± std. dev. of 7 runs, 1 loop each)\n"
     ]
    }
   ],
   "source": [
    "%timeit P = transition.get_conn(x, s)"
   ]
  },
  {
   "cell_type": "code",
   "execution_count": 605,
   "id": "parallel-clothing",
   "metadata": {
    "scrolled": true
   },
   "outputs": [
    {
     "name": "stdout",
     "output_type": "stream",
     "text": [
      "5.94 ms ± 18.6 µs per loop (mean ± std. dev. of 7 runs, 100 loops each)\n"
     ]
    }
   ],
   "source": [
    "%timeit transition.transition(x,y, ma._w, ma._r,400)"
   ]
  },
  {
   "cell_type": "code",
   "execution_count": 160,
   "id": "improved-inquiry",
   "metadata": {},
   "outputs": [],
   "source": [
    "P = transition.get_conn(x, np.ones(1))"
   ]
  },
  {
   "cell_type": "code",
   "execution_count": 524,
   "id": "adjacent-squad",
   "metadata": {},
   "outputs": [
    {
     "name": "stdout",
     "output_type": "stream",
     "text": [
      "23.3 µs ± 523 ns per loop (mean ± std. dev. of 7 runs, 10000 loops each)\n"
     ]
    }
   ],
   "source": [
    "%timeit P1 = op_transition.get_conn(x)[0]"
   ]
  },
  {
   "cell_type": "code",
   "execution_count": 310,
   "id": "immediate-screen",
   "metadata": {},
   "outputs": [
    {
     "data": {
      "text/plain": [
       "array([ True,  True,  True,  True,  True,  True,  True,  True,  True,\n",
       "        True,  True,  True,  True,  True,  True,  True,  True,  True,\n",
       "        True,  True,  True,  True,  True,  True,  True,  True,  True,\n",
       "        True,  True,  True,  True,  True,  True,  True,  True,  True,\n",
       "        True,  True,  True,  True,  True,  True,  True,  True,  True,\n",
       "        True,  True,  True,  True,  True,  True,  True,  True,  True,\n",
       "        True,  True,  True,  True,  True,  True,  True,  True,  True,\n",
       "        True,  True,  True,  True,  True,  True,  True,  True,  True,\n",
       "        True,  True,  True,  True,  True,  True,  True,  True,  True,\n",
       "        True,  True,  True,  True,  True,  True,  True,  True,  True,\n",
       "        True,  True,  True,  True,  True,  True,  True,  True,  True,\n",
       "        True,  True,  True,  True,  True,  True,  True,  True,  True,\n",
       "        True,  True,  True,  True,  True,  True,  True,  True,  True,\n",
       "        True,  True,  True,  True,  True,  True,  True,  True,  True,\n",
       "        True,  True])"
      ]
     },
     "execution_count": 310,
     "metadata": {},
     "output_type": "execute_result"
    }
   ],
   "source": [
    "P1[1] == P[1]"
   ]
  },
  {
   "cell_type": "code",
   "execution_count": 184,
   "id": "destroyed-gather",
   "metadata": {
    "scrolled": true
   },
   "outputs": [
    {
     "data": {
      "text/plain": [
       "(array([ 4,  4,  4,  4,  7,  7,  7,  7,  8,  8,  8,  8, 11, 11, 11, 11]),\n",
       " array([0, 0, 0, 0, 0, 0, 0, 0, 0, 0, 0, 0, 0, 0, 0, 0]),\n",
       " array([0, 1, 2, 3, 0, 1, 2, 3, 0, 1, 2, 3, 0, 1, 2, 3]))"
      ]
     },
     "execution_count": 184,
     "metadata": {},
     "output_type": "execute_result"
    }
   ],
   "source": [
    "np.where(op_transition._x_prime[0])"
   ]
  },
  {
   "cell_type": "code",
   "execution_count": 185,
   "id": "solved-white",
   "metadata": {},
   "outputs": [
    {
     "data": {
      "text/plain": [
       "array([[-1, -1,  1, -1],\n",
       "       [ 0,  0,  0,  0],\n",
       "       [ 0,  0,  0,  0],\n",
       "       [ 0,  0,  0,  0],\n",
       "       [ 0,  0,  0,  0],\n",
       "       [ 0,  0,  0,  0],\n",
       "       [ 0,  0,  0,  0],\n",
       "       [ 0,  0,  0,  0],\n",
       "       [ 0,  0,  0,  0],\n",
       "       [ 0,  0,  0,  0],\n",
       "       [ 0,  0,  0,  0],\n",
       "       [ 0,  0,  0,  0],\n",
       "       [ 0,  0,  0,  0],\n",
       "       [ 0,  0,  0,  0],\n",
       "       [ 0,  0,  0,  0],\n",
       "       [ 0,  0,  0,  0]], dtype=int8)"
      ]
     },
     "execution_count": 185,
     "metadata": {},
     "output_type": "execute_result"
    }
   ],
   "source": [
    "op_transition._x_prime[0][4]"
   ]
  },
  {
   "cell_type": "code",
   "execution_count": 197,
   "id": "criminal-desert",
   "metadata": {},
   "outputs": [],
   "source": [
    "state = []\n",
    "num = 4\n",
    "for i in range(4):\n",
    "    state.append(num // 2 ** (3-i))\n",
    "    num %=  2 ** (3-i)\n",
    "state = np.array(state)*2 -1"
   ]
  },
  {
   "cell_type": "code",
   "execution_count": 198,
   "id": "subtle-catalog",
   "metadata": {},
   "outputs": [
    {
     "data": {
      "text/plain": [
       "array([-1,  1, -1, -1])"
      ]
     },
     "execution_count": 198,
     "metadata": {},
     "output_type": "execute_result"
    }
   ],
   "source": [
    "state"
   ]
  },
  {
   "cell_type": "code",
   "execution_count": null,
   "id": "spiritual-proposal",
   "metadata": {},
   "outputs": [],
   "source": []
  }
 ],
 "metadata": {
  "kernelspec": {
   "display_name": "Python 3",
   "language": "python",
   "name": "python3"
  },
  "language_info": {
   "codemirror_mode": {
    "name": "ipython",
    "version": 3
   },
   "file_extension": ".py",
   "mimetype": "text/x-python",
   "name": "python",
   "nbconvert_exporter": "python",
   "pygments_lexer": "ipython3",
   "version": "3.8.5"
  }
 },
 "nbformat": 4,
 "nbformat_minor": 5
}
